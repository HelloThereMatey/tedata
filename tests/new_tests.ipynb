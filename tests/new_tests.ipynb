{
 "cells": [
  {
   "cell_type": "code",
   "execution_count": 1,
   "metadata": {},
   "outputs": [
    {
     "name": "stderr",
     "output_type": "stream",
     "text": [
      "INFO - tedata package initialized successfully!\n"
     ]
    }
   ],
   "source": [
    "import sys\n",
    "import os\n",
    "import pandas as pd\n",
    "from pprint import pprint\n",
    "wd = %pwd\n",
    "parent = os.path.dirname(wd)\n",
    "fdel = os.path.sep\n",
    "sys.path.append(parent+fdel+\"src\")\n",
    "import tedata as ted"
   ]
  },
  {
   "cell_type": "code",
   "execution_count": 2,
   "metadata": {},
   "outputs": [
    {
     "data": {
      "text/plain": [
       "{'Active webdrivers': [], 'Active TE_Scrapers': []}"
      ]
     },
     "execution_count": 2,
     "metadata": {},
     "output_type": "execute_result"
    }
   ],
   "source": [
    "ted.find_active_drivers(close_all_drivers=True, close__all_scrapers=True)"
   ]
  },
  {
   "cell_type": "code",
   "execution_count": 3,
   "metadata": {},
   "outputs": [
    {
     "name": "stderr",
     "output_type": "stream",
     "text": [
      "INFO - New firefox webdriver created.\n",
      "INFO - Page loaded successfully.\n",
      "INFO - Chart types dictionary created successfully: dict_keys(['Column', 'Spline', 'Areaspline', 'Stepline', 'Line', 'Area'])\n",
      "INFO - Date span set to: 1Y\n"
     ]
    },
    {
     "data": {
      "text/plain": [
       "True"
      ]
     },
     "execution_count": 3,
     "metadata": {},
     "output_type": "execute_result"
    }
   ],
   "source": [
    "scr = ted.TE_Scraper(headless = False)\n",
    "scr.load_page(\"https://tradingeconomics.com/canada/retail-sales\")"
   ]
  },
  {
   "cell_type": "code",
   "execution_count": 4,
   "metadata": {},
   "outputs": [
    {
     "name": "stderr",
     "output_type": "stream",
     "text": [
      "INFO - Date span set to custom range: 1850-01-01 to 2025-03-25 (using JavaScript)\n",
      "INFO - \n",
      "Series metadata: \n",
      " {'units': '%', 'original_source': 'Statistics Canada', 'title': 'Canada Retail Sales MoM', 'indicator': 'retail sales', 'country': 'canada', 'source': 'Trading Economics', 'id': 'canada/retail-sales'}\n"
     ]
    }
   ],
   "source": [
    "scr.set_max_date_span_viaCalendar()\n",
    "scr.scrape_metadata()"
   ]
  },
  {
   "cell_type": "code",
   "execution_count": 5,
   "metadata": {},
   "outputs": [
    {
     "name": "stderr",
     "output_type": "stream",
     "text": [
      "INFO - TooltipScraper object initialised successfully.\n"
     ]
    }
   ],
   "source": [
    "scr.init_tooltipScraper()"
   ]
  },
  {
   "cell_type": "code",
   "execution_count": 8,
   "metadata": {},
   "outputs": [
    {
     "data": {
      "text/plain": [
       "[<g class=\"highcharts-tooltip\" data-z-index=\"8\" opacity=\"0\" visibility=\"hidden\" y=\"-9999\"><g class=\"highcharts-label highcharts-tooltip-box highcharts-color-none\" style=\"cursor: default; white-space: nowrap;\" transform=\"translate(263,159)\"><path class=\"highcharts-label-box highcharts-shadow\" d=\"M 3.5 0.5 L 78.5 0.5 C 81.5 0.5 81.5 0.5 81.5 3.5 L 81.5 25.839622641510005 L 87.5 31.839622641510005 L 81.5 37.839622641510005 L 81.5 60.5 C 81.5 63.5 81.5 63.5 78.5 63.5 L 3.5 63.5 C 0.5 63.5 0.5 63.5 0.5 60.5 L 0.5 3.5 C 0.5 0.5 0.5 0.5 3.5 0.5\" fill=\"none\" stroke=\"#000000\" stroke-opacity=\"0.049999999999999996\" stroke-width=\"5\" transform=\"translate(1, 1)\"></path><path class=\"highcharts-label-box highcharts-shadow\" d=\"M 3.5 0.5 L 78.5 0.5 C 81.5 0.5 81.5 0.5 81.5 3.5 L 81.5 25.839622641510005 L 87.5 31.839622641510005 L 81.5 37.839622641510005 L 81.5 60.5 C 81.5 63.5 81.5 63.5 78.5 63.5 L 3.5 63.5 C 0.5 63.5 0.5 63.5 0.5 60.5 L 0.5 3.5 C 0.5 0.5 0.5 0.5 3.5 0.5\" fill=\"none\" stroke=\"#000000\" stroke-opacity=\"0.09999999999999999\" stroke-width=\"3\" transform=\"translate(1, 1)\"></path><path class=\"highcharts-label-box highcharts-shadow\" d=\"M 3.5 0.5 L 78.5 0.5 C 81.5 0.5 81.5 0.5 81.5 3.5 L 81.5 25.839622641510005 L 87.5 31.839622641510005 L 81.5 37.839622641510005 L 81.5 60.5 C 81.5 63.5 81.5 63.5 78.5 63.5 L 3.5 63.5 C 0.5 63.5 0.5 63.5 0.5 60.5 L 0.5 3.5 C 0.5 0.5 0.5 0.5 3.5 0.5\" fill=\"none\" stroke=\"#000000\" stroke-opacity=\"0.15\" stroke-width=\"1\" transform=\"translate(1, 1)\"></path><path class=\"highcharts-label-box\" d=\"M 3.5 0.5 L 78.5 0.5 C 81.5 0.5 81.5 0.5 81.5 3.5 L 81.5 25.839622641510005 L 87.5 31.839622641510005 L 81.5 37.839622641510005 L 81.5 60.5 C 81.5 63.5 81.5 63.5 78.5 63.5 L 3.5 63.5 C 0.5 63.5 0.5 63.5 0.5 60.5 L 0.5 3.5 C 0.5 0.5 0.5 0.5 3.5 0.5\" fill=\"rgba(247,247,247,0.85)\" stroke=\"#4f81bd\" stroke-width=\"1\"></path></g></g>,\n",
       " <div class=\"highcharts-tooltip\" style=\"position: absolute; left: 0px; top: 0px; opacity: 0; visibility: hidden;\"><div class=\"highcharts-label highcharts-tooltip-box highcharts-color-none\" style=\"position: absolute; left: 263px; top: 159px; opacity: 1; visibility: inherit;\"><span data-z-index=\"1\" style='position: absolute; font-family: \"Lucida Grande\", \"Lucida Sans Unicode\", Arial, Helvetica, sans-serif; font-size: 12px; white-space: nowrap; margin-left: 0px; margin-top: 0px; left: 0px; top: 0px; color: rgb(51, 51, 51);'><div class=\"tooltip-box\"><span class=\"tooltip-date\">Feb 2008</span><hr class=\"tooltip-divider\"/><span class=\"hawk-tt tooltip-value\" style=\"color: rgb(51, 51, 51);\"> -1.1%</span></div></span></div></div>]"
      ]
     },
     "execution_count": 8,
     "metadata": {},
     "output_type": "execute_result"
    }
   ],
   "source": [
    "scr.update_chart()\n",
    "scr.chart_soup.select(\".highcharts-tooltip\")"
   ]
  },
  {
   "cell_type": "code",
   "execution_count": 7,
   "metadata": {},
   "outputs": [
    {
     "name": "stderr",
     "output_type": "stream",
     "text": [
      "INFO - Successfully initialized tooltip with simple mouse event\n",
      "Initial state: {'anyTooltip': False, 'tooltipDateExists': False, 'tooltipExists': False, 'tooltipValueExists': False}\n",
      "Final state: {'anyTooltip': True, 'tooltipDateExists': True, 'tooltipExists': True, 'tooltipValueExists': True}\n",
      "Chart found: True\n"
     ]
    },
    {
     "data": {
      "text/plain": [
       "True"
      ]
     },
     "execution_count": 7,
     "metadata": {},
     "output_type": "execute_result"
    }
   ],
   "source": [
    "scr.tooltip_scraper.initialize_tooltip_simple()"
   ]
  },
  {
   "cell_type": "code",
   "execution_count": 48,
   "metadata": {},
   "outputs": [],
   "source": [
    "scr.tooltip_scraper.driver.execute_script(\"\"\"             \n",
    "            // Additional method: Move mouse far away from chart\n",
    "            const farAwayEvent = new MouseEvent('mousemove', {\n",
    "                bubbles: true,\n",
    "                cancelable: true,\n",
    "                view: window,\n",
    "                clientX: 0,\n",
    "                clientY: 0\n",
    "            });\n",
    "            document.body.dispatchEvent(farAwayEvent);\"\"\")"
   ]
  },
  {
   "cell_type": "code",
   "execution_count": 9,
   "metadata": {},
   "outputs": [
    {
     "name": "stderr",
     "output_type": "stream",
     "text": [
      "INFO - Successfully initialized tooltip with simple mouse event\n",
      "Initial state: {'anyTooltip': True, 'tooltipDateExists': True, 'tooltipExists': True, 'tooltipValueExists': True}\n",
      "Final state: {'anyTooltip': True, 'tooltipDateExists': True, 'tooltipExists': True, 'tooltipValueExists': True}\n",
      "Chart found: True\n"
     ]
    },
    {
     "name": "stdout",
     "output_type": "stream",
     "text": [
      "Start date: 1991-02-01 00:00:00\n",
      "End date: 2025-02-01 00:00:00\n"
     ]
    },
    {
     "data": {
      "text/plain": [
       "{'end_date': Timestamp('2025-02-01 00:00:00'),\n",
       " 'end_value': -0.4,\n",
       " 'start_date': Timestamp('1991-02-01 00:00:00'),\n",
       " 'start_value': 1.8,\n",
       " 'unit_str': '%'}"
      ]
     },
     "execution_count": 9,
     "metadata": {},
     "output_type": "execute_result"
    }
   ],
   "source": [
    "scr.tooltip_scraper.first_last_dates_js()"
   ]
  },
  {
   "cell_type": "code",
   "execution_count": 10,
   "metadata": {},
   "outputs": [
    {
     "name": "stderr",
     "output_type": "stream",
     "text": [
      "INFO - Date span set to: 1Y\n",
      "INFO - Chart type set to: Spline (using JavaScript)\n",
      "INFO - Time taken to select chart type: 0.6003947000717744\n",
      "INFO - Successfully initialized tooltip with simple mouse event\n",
      "Initial state: {'anyTooltip': True, 'tooltipDateExists': False, 'tooltipExists': True, 'tooltipValueExists': False}\n",
      "Final state: {'anyTooltip': True, 'tooltipDateExists': True, 'tooltipExists': True, 'tooltipValueExists': True}\n",
      "Chart found: True\n",
      "INFO - Time taken to execute JS code: 3.006685300031677\n"
     ]
    },
    {
     "data": {
      "text/plain": [
       "[{'date': 'Feb 2025', 'value': '-0.4%', 'x': 768, 'y': 630.5},\n",
       " {'date': 'Jan 2025', 'value': '-0.6%', 'x': 738, 'y': 630.5},\n",
       " {'date': 'Dec 2024', 'value': '2.6%', 'x': 683, 'y': 630.5},\n",
       " {'date': 'Nov 2024', 'value': '0.3%', 'x': 623, 'y': 630.5},\n",
       " {'date': 'Oct 2024', 'value': '0.8%', 'x': 568, 'y': 630.5},\n",
       " {'date': 'Sep 2024', 'value': '0.8%', 'x': 513, 'y': 630.5},\n",
       " {'date': 'Aug 2024', 'value': '0.4%', 'x': 458, 'y': 630.5},\n",
       " {'date': 'Jul 2024', 'value': '1%', 'x': 403, 'y': 630.5},\n",
       " {'date': 'Jun 2024', 'value': '-0.3%', 'x': 348, 'y': 630.5},\n",
       " {'date': 'May 2024', 'value': '-0.8%', 'x': 288, 'y': 630.5}]"
      ]
     },
     "execution_count": 10,
     "metadata": {},
     "output_type": "execute_result"
    }
   ],
   "source": [
    "scr.tooltip_scraper.latest_points_js()"
   ]
  },
  {
   "cell_type": "code",
   "execution_count": 11,
   "metadata": {},
   "outputs": [
    {
     "name": "stderr",
     "output_type": "stream",
     "text": [
      "INFO - New firefox webdriver created.\n",
      "INFO - scrape_chart function: Scraping chart at: https://tradingeconomics.com/canada/retail-sales, time: 2025-03-25 17:50:30.702289, method: mixed\n",
      "INFO - Page loaded successfully.\n",
      "INFO - Chart types dictionary created successfully: dict_keys(['Column', 'Spline', 'Areaspline', 'Stepline', 'Line', 'Area'])\n",
      "INFO - Date span set to: 1Y\n",
      "INFO - \n",
      "Series metadata: \n",
      " {'units': '%', 'original_source': 'Statistics Canada', 'title': 'Canada Retail Sales MoM', 'indicator': 'retail sales', 'country': 'canada', 'source': 'Trading Economics', 'id': 'canada/retail-sales'}\n",
      "INFO - Chart type set to: Spline (using JavaScript)\n"
     ]
    },
    {
     "name": "stdout",
     "output_type": "stream",
     "text": [
      "Using selenium and tooltip scraping to construct the date time index for the time-series, this'll take a bit...\n"
     ]
    },
    {
     "name": "stderr",
     "output_type": "stream",
     "text": [
      "INFO - Time taken to select chart type: 0.6021328000351787\n",
      "INFO - Successfully initialized tooltip with simple mouse event\n",
      "Initial state: {'anyTooltip': False, 'tooltipDateExists': False, 'tooltipExists': False, 'tooltipValueExists': False}\n",
      "Final state: {'anyTooltip': True, 'tooltipDateExists': True, 'tooltipExists': True, 'tooltipValueExists': True}\n",
      "Chart found: True\n",
      "INFO - Time taken to execute JS code: 2.9900278999703005\n"
     ]
    },
    {
     "name": "stdout",
     "output_type": "stream",
     "text": [
      "Frequency of time-series:  MS\n"
     ]
    },
    {
     "name": "stderr",
     "output_type": "stream",
     "text": [
      "INFO - Date span set to custom range: 1850-01-01 to 2025-03-25 (using JavaScript)\n",
      "INFO - Chart type set to: Spline (using JavaScript)\n",
      "INFO - Successfully initialized tooltip with simple mouse event\n",
      "Initial state: {'anyTooltip': True, 'tooltipDateExists': False, 'tooltipExists': True, 'tooltipValueExists': False}\n",
      "Final state: {'anyTooltip': True, 'tooltipDateExists': True, 'tooltipExists': True, 'tooltipValueExists': True}\n",
      "Chart found: True\n",
      "INFO - Start and end values scraped from tooltips: \n",
      "{'end_date': Timestamp('2025-02-01 00:00:00'), 'end_value': -0.4, 'start_date': Timestamp('1991-02-01 00:00:00'), 'start_value': 1.8, 'unit_str': '%'}\n",
      "INFO - DateTimeIndex created successfully for the time-series.\n"
     ]
    },
    {
     "name": "stdout",
     "output_type": "stream",
     "text": [
      "Start date: 1991-02-01 00:00:00\n",
      "End date: 2025-02-01 00:00:00\n"
     ]
    },
    {
     "name": "stderr",
     "output_type": "stream",
     "text": [
      "INFO - Successfully initialized tooltip with simple mouse event\n",
      "Initial state: {'anyTooltip': True, 'tooltipDateExists': True, 'tooltipExists': True, 'tooltipValueExists': True}\n",
      "Final state: {'anyTooltip': True, 'tooltipDateExists': True, 'tooltipExists': True, 'tooltipValueExists': True}\n",
      "Chart found: True\n",
      "INFO -  Using mixed scraping approach, slowest, highest accuracy. Splitting x_index into subIndexes        Total points: 409, Max chunk size: 500, Number of chunks: 1, remainder: 0\n",
      "INFO - x_index Start date: 1991-02-01 00:00:00, End date: 2025-02-01 00:00:00\n",
      "INFO - SubIndex 0: 409 points, from 1991-02-01 00:00:00 to 2025-02-01 00:00:00, frequency: MS\n",
      "INFO - Date span set to custom range: 1991-02-01 to 2025-03-25 (using JavaScript)\n",
      "INFO - Chart type set to: Spline (using JavaScript)\n",
      "INFO - Chart type set to: Spline (using JavaScript)\n",
      "INFO - Time taken to select chart type: 0.6074196000117809\n",
      "INFO - Successfully initialized tooltip with simple mouse event\n",
      "Initial state: {'anyTooltip': True, 'tooltipDateExists': False, 'tooltipExists': True, 'tooltipValueExists': False}\n",
      "Final state: {'anyTooltip': True, 'tooltipDateExists': True, 'tooltipExists': True, 'tooltipValueExists': True}\n",
      "Chart found: True\n",
      "INFO - Time taken to execute JS code: 10.589577800012194\n",
      "INFO - Successfully scraped full series from tooltips.\n",
      "INFO - Successfully scraped full series using mixed method.\n"
     ]
    }
   ],
   "source": [
    "scraped = ted.scrape_chart(country=\"canada\", indicator=\"retail-sales\", method = \"mixed\", headless=True)"
   ]
  },
  {
   "cell_type": "code",
   "execution_count": 12,
   "metadata": {},
   "outputs": [
    {
     "data": {
      "application/vnd.plotly.v1+json": {
       "config": {
        "plotlyServerURL": "https://plot.ly"
       },
       "data": [
        {
         "hovertemplate": "variable=Canada Retail Sales MoM<br>index=%{x}<br>value=%{y}<extra></extra>",
         "legendgroup": "Canada Retail Sales MoM",
         "line": {
          "color": "#636efa",
          "dash": "solid"
         },
         "marker": {
          "symbol": "circle"
         },
         "mode": "lines",
         "name": "Canada Retail Sales MoM",
         "orientation": "v",
         "showlegend": true,
         "type": "scatter",
         "x": [
          "1991-02-01T00:00:00.000000000",
          "1991-03-01T00:00:00.000000000",
          "1991-04-01T00:00:00.000000000",
          "1991-05-01T00:00:00.000000000",
          "1991-06-01T00:00:00.000000000",
          "1991-07-01T00:00:00.000000000",
          "1991-08-01T00:00:00.000000000",
          "1991-09-01T00:00:00.000000000",
          "1991-10-01T00:00:00.000000000",
          "1991-11-01T00:00:00.000000000",
          "1991-12-01T00:00:00.000000000",
          "1992-01-01T00:00:00.000000000",
          "1992-02-01T00:00:00.000000000",
          "1992-03-01T00:00:00.000000000",
          "1992-04-01T00:00:00.000000000",
          "1992-05-01T00:00:00.000000000",
          "1992-06-01T00:00:00.000000000",
          "1992-07-01T00:00:00.000000000",
          "1992-08-01T00:00:00.000000000",
          "1992-09-01T00:00:00.000000000",
          "1992-10-01T00:00:00.000000000",
          "1992-11-01T00:00:00.000000000",
          "1992-12-01T00:00:00.000000000",
          "1993-01-01T00:00:00.000000000",
          "1993-02-01T00:00:00.000000000",
          "1993-03-01T00:00:00.000000000",
          "1993-04-01T00:00:00.000000000",
          "1993-05-01T00:00:00.000000000",
          "1993-06-01T00:00:00.000000000",
          "1993-07-01T00:00:00.000000000",
          "1993-08-01T00:00:00.000000000",
          "1993-09-01T00:00:00.000000000",
          "1993-10-01T00:00:00.000000000",
          "1993-11-01T00:00:00.000000000",
          "1993-12-01T00:00:00.000000000",
          "1994-01-01T00:00:00.000000000",
          "1994-02-01T00:00:00.000000000",
          "1994-03-01T00:00:00.000000000",
          "1994-04-01T00:00:00.000000000",
          "1994-05-01T00:00:00.000000000",
          "1994-06-01T00:00:00.000000000",
          "1994-07-01T00:00:00.000000000",
          "1994-08-01T00:00:00.000000000",
          "1994-09-01T00:00:00.000000000",
          "1994-10-01T00:00:00.000000000",
          "1994-11-01T00:00:00.000000000",
          "1994-12-01T00:00:00.000000000",
          "1995-01-01T00:00:00.000000000",
          "1995-02-01T00:00:00.000000000",
          "1995-03-01T00:00:00.000000000",
          "1995-04-01T00:00:00.000000000",
          "1995-05-01T00:00:00.000000000",
          "1995-06-01T00:00:00.000000000",
          "1995-07-01T00:00:00.000000000",
          "1995-08-01T00:00:00.000000000",
          "1995-09-01T00:00:00.000000000",
          "1995-10-01T00:00:00.000000000",
          "1995-11-01T00:00:00.000000000",
          "1995-12-01T00:00:00.000000000",
          "1996-01-01T00:00:00.000000000",
          "1996-02-01T00:00:00.000000000",
          "1996-03-01T00:00:00.000000000",
          "1996-04-01T00:00:00.000000000",
          "1996-05-01T00:00:00.000000000",
          "1996-06-01T00:00:00.000000000",
          "1996-07-01T00:00:00.000000000",
          "1996-08-01T00:00:00.000000000",
          "1996-09-01T00:00:00.000000000",
          "1996-10-01T00:00:00.000000000",
          "1996-11-01T00:00:00.000000000",
          "1996-12-01T00:00:00.000000000",
          "1997-01-01T00:00:00.000000000",
          "1997-02-01T00:00:00.000000000",
          "1997-03-01T00:00:00.000000000",
          "1997-04-01T00:00:00.000000000",
          "1997-05-01T00:00:00.000000000",
          "1997-06-01T00:00:00.000000000",
          "1997-07-01T00:00:00.000000000",
          "1997-08-01T00:00:00.000000000",
          "1997-09-01T00:00:00.000000000",
          "1997-10-01T00:00:00.000000000",
          "1997-11-01T00:00:00.000000000",
          "1997-12-01T00:00:00.000000000",
          "1998-01-01T00:00:00.000000000",
          "1998-02-01T00:00:00.000000000",
          "1998-03-01T00:00:00.000000000",
          "1998-04-01T00:00:00.000000000",
          "1998-05-01T00:00:00.000000000",
          "1998-06-01T00:00:00.000000000",
          "1998-07-01T00:00:00.000000000",
          "1998-08-01T00:00:00.000000000",
          "1998-09-01T00:00:00.000000000",
          "1998-10-01T00:00:00.000000000",
          "1998-11-01T00:00:00.000000000",
          "1998-12-01T00:00:00.000000000",
          "1999-01-01T00:00:00.000000000",
          "1999-02-01T00:00:00.000000000",
          "1999-03-01T00:00:00.000000000",
          "1999-04-01T00:00:00.000000000",
          "1999-05-01T00:00:00.000000000",
          "1999-06-01T00:00:00.000000000",
          "1999-07-01T00:00:00.000000000",
          "1999-08-01T00:00:00.000000000",
          "1999-09-01T00:00:00.000000000",
          "1999-10-01T00:00:00.000000000",
          "1999-11-01T00:00:00.000000000",
          "1999-12-01T00:00:00.000000000",
          "2000-01-01T00:00:00.000000000",
          "2000-02-01T00:00:00.000000000",
          "2000-03-01T00:00:00.000000000",
          "2000-04-01T00:00:00.000000000",
          "2000-05-01T00:00:00.000000000",
          "2000-06-01T00:00:00.000000000",
          "2000-07-01T00:00:00.000000000",
          "2000-08-01T00:00:00.000000000",
          "2000-09-01T00:00:00.000000000",
          "2000-10-01T00:00:00.000000000",
          "2000-11-01T00:00:00.000000000",
          "2000-12-01T00:00:00.000000000",
          "2001-01-01T00:00:00.000000000",
          "2001-02-01T00:00:00.000000000",
          "2001-03-01T00:00:00.000000000",
          "2001-04-01T00:00:00.000000000",
          "2001-05-01T00:00:00.000000000",
          "2001-06-01T00:00:00.000000000",
          "2001-07-01T00:00:00.000000000",
          "2001-08-01T00:00:00.000000000",
          "2001-09-01T00:00:00.000000000",
          "2001-10-01T00:00:00.000000000",
          "2001-11-01T00:00:00.000000000",
          "2001-12-01T00:00:00.000000000",
          "2002-01-01T00:00:00.000000000",
          "2002-02-01T00:00:00.000000000",
          "2002-03-01T00:00:00.000000000",
          "2002-04-01T00:00:00.000000000",
          "2002-05-01T00:00:00.000000000",
          "2002-06-01T00:00:00.000000000",
          "2002-07-01T00:00:00.000000000",
          "2002-08-01T00:00:00.000000000",
          "2002-09-01T00:00:00.000000000",
          "2002-10-01T00:00:00.000000000",
          "2002-11-01T00:00:00.000000000",
          "2002-12-01T00:00:00.000000000",
          "2003-01-01T00:00:00.000000000",
          "2003-02-01T00:00:00.000000000",
          "2003-03-01T00:00:00.000000000",
          "2003-04-01T00:00:00.000000000",
          "2003-05-01T00:00:00.000000000",
          "2003-06-01T00:00:00.000000000",
          "2003-07-01T00:00:00.000000000",
          "2003-08-01T00:00:00.000000000",
          "2003-09-01T00:00:00.000000000",
          "2003-10-01T00:00:00.000000000",
          "2003-11-01T00:00:00.000000000",
          "2003-12-01T00:00:00.000000000",
          "2004-01-01T00:00:00.000000000",
          "2004-02-01T00:00:00.000000000",
          "2004-03-01T00:00:00.000000000",
          "2004-04-01T00:00:00.000000000",
          "2004-05-01T00:00:00.000000000",
          "2004-06-01T00:00:00.000000000",
          "2004-07-01T00:00:00.000000000",
          "2004-08-01T00:00:00.000000000",
          "2004-09-01T00:00:00.000000000",
          "2004-10-01T00:00:00.000000000",
          "2004-11-01T00:00:00.000000000",
          "2004-12-01T00:00:00.000000000",
          "2005-01-01T00:00:00.000000000",
          "2005-02-01T00:00:00.000000000",
          "2005-03-01T00:00:00.000000000",
          "2005-04-01T00:00:00.000000000",
          "2005-05-01T00:00:00.000000000",
          "2005-06-01T00:00:00.000000000",
          "2005-07-01T00:00:00.000000000",
          "2005-08-01T00:00:00.000000000",
          "2005-09-01T00:00:00.000000000",
          "2005-10-01T00:00:00.000000000",
          "2005-11-01T00:00:00.000000000",
          "2005-12-01T00:00:00.000000000",
          "2006-01-01T00:00:00.000000000",
          "2006-02-01T00:00:00.000000000",
          "2006-03-01T00:00:00.000000000",
          "2006-04-01T00:00:00.000000000",
          "2006-05-01T00:00:00.000000000",
          "2006-06-01T00:00:00.000000000",
          "2006-07-01T00:00:00.000000000",
          "2006-08-01T00:00:00.000000000",
          "2006-09-01T00:00:00.000000000",
          "2006-10-01T00:00:00.000000000",
          "2006-11-01T00:00:00.000000000",
          "2006-12-01T00:00:00.000000000",
          "2007-01-01T00:00:00.000000000",
          "2007-02-01T00:00:00.000000000",
          "2007-03-01T00:00:00.000000000",
          "2007-04-01T00:00:00.000000000",
          "2007-05-01T00:00:00.000000000",
          "2007-06-01T00:00:00.000000000",
          "2007-07-01T00:00:00.000000000",
          "2007-08-01T00:00:00.000000000",
          "2007-09-01T00:00:00.000000000",
          "2007-10-01T00:00:00.000000000",
          "2007-11-01T00:00:00.000000000",
          "2007-12-01T00:00:00.000000000",
          "2008-01-01T00:00:00.000000000",
          "2008-02-01T00:00:00.000000000",
          "2008-03-01T00:00:00.000000000",
          "2008-04-01T00:00:00.000000000",
          "2008-05-01T00:00:00.000000000",
          "2008-06-01T00:00:00.000000000",
          "2008-07-01T00:00:00.000000000",
          "2008-08-01T00:00:00.000000000",
          "2008-09-01T00:00:00.000000000",
          "2008-10-01T00:00:00.000000000",
          "2008-11-01T00:00:00.000000000",
          "2008-12-01T00:00:00.000000000",
          "2009-01-01T00:00:00.000000000",
          "2009-02-01T00:00:00.000000000",
          "2009-03-01T00:00:00.000000000",
          "2009-04-01T00:00:00.000000000",
          "2009-05-01T00:00:00.000000000",
          "2009-06-01T00:00:00.000000000",
          "2009-07-01T00:00:00.000000000",
          "2009-08-01T00:00:00.000000000",
          "2009-09-01T00:00:00.000000000",
          "2009-10-01T00:00:00.000000000",
          "2009-11-01T00:00:00.000000000",
          "2009-12-01T00:00:00.000000000",
          "2010-01-01T00:00:00.000000000",
          "2010-02-01T00:00:00.000000000",
          "2010-03-01T00:00:00.000000000",
          "2010-04-01T00:00:00.000000000",
          "2010-05-01T00:00:00.000000000",
          "2010-06-01T00:00:00.000000000",
          "2010-07-01T00:00:00.000000000",
          "2010-08-01T00:00:00.000000000",
          "2010-09-01T00:00:00.000000000",
          "2010-10-01T00:00:00.000000000",
          "2010-11-01T00:00:00.000000000",
          "2010-12-01T00:00:00.000000000",
          "2011-01-01T00:00:00.000000000",
          "2011-02-01T00:00:00.000000000",
          "2011-03-01T00:00:00.000000000",
          "2011-04-01T00:00:00.000000000",
          "2011-05-01T00:00:00.000000000",
          "2011-06-01T00:00:00.000000000",
          "2011-07-01T00:00:00.000000000",
          "2011-08-01T00:00:00.000000000",
          "2011-09-01T00:00:00.000000000",
          "2011-10-01T00:00:00.000000000",
          "2011-11-01T00:00:00.000000000",
          "2011-12-01T00:00:00.000000000",
          "2012-01-01T00:00:00.000000000",
          "2012-02-01T00:00:00.000000000",
          "2012-03-01T00:00:00.000000000",
          "2012-04-01T00:00:00.000000000",
          "2012-05-01T00:00:00.000000000",
          "2012-06-01T00:00:00.000000000",
          "2012-07-01T00:00:00.000000000",
          "2012-08-01T00:00:00.000000000",
          "2012-09-01T00:00:00.000000000",
          "2012-10-01T00:00:00.000000000",
          "2012-11-01T00:00:00.000000000",
          "2012-12-01T00:00:00.000000000",
          "2013-01-01T00:00:00.000000000",
          "2013-02-01T00:00:00.000000000",
          "2013-03-01T00:00:00.000000000",
          "2013-04-01T00:00:00.000000000",
          "2013-05-01T00:00:00.000000000",
          "2013-06-01T00:00:00.000000000",
          "2013-07-01T00:00:00.000000000",
          "2013-08-01T00:00:00.000000000",
          "2013-09-01T00:00:00.000000000",
          "2013-10-01T00:00:00.000000000",
          "2013-11-01T00:00:00.000000000",
          "2013-12-01T00:00:00.000000000",
          "2014-01-01T00:00:00.000000000",
          "2014-02-01T00:00:00.000000000",
          "2014-03-01T00:00:00.000000000",
          "2014-04-01T00:00:00.000000000",
          "2014-05-01T00:00:00.000000000",
          "2014-06-01T00:00:00.000000000",
          "2014-07-01T00:00:00.000000000",
          "2014-08-01T00:00:00.000000000",
          "2014-09-01T00:00:00.000000000",
          "2014-10-01T00:00:00.000000000",
          "2014-11-01T00:00:00.000000000",
          "2014-12-01T00:00:00.000000000",
          "2015-01-01T00:00:00.000000000",
          "2015-02-01T00:00:00.000000000",
          "2015-03-01T00:00:00.000000000",
          "2015-04-01T00:00:00.000000000",
          "2015-05-01T00:00:00.000000000",
          "2015-06-01T00:00:00.000000000",
          "2015-07-01T00:00:00.000000000",
          "2015-08-01T00:00:00.000000000",
          "2015-09-01T00:00:00.000000000",
          "2015-10-01T00:00:00.000000000",
          "2015-11-01T00:00:00.000000000",
          "2015-12-01T00:00:00.000000000",
          "2016-01-01T00:00:00.000000000",
          "2016-02-01T00:00:00.000000000",
          "2016-03-01T00:00:00.000000000",
          "2016-04-01T00:00:00.000000000",
          "2016-05-01T00:00:00.000000000",
          "2016-06-01T00:00:00.000000000",
          "2016-07-01T00:00:00.000000000",
          "2016-08-01T00:00:00.000000000",
          "2016-09-01T00:00:00.000000000",
          "2016-10-01T00:00:00.000000000",
          "2016-11-01T00:00:00.000000000",
          "2016-12-01T00:00:00.000000000",
          "2017-01-01T00:00:00.000000000",
          "2017-02-01T00:00:00.000000000",
          "2017-03-01T00:00:00.000000000",
          "2017-04-01T00:00:00.000000000",
          "2017-05-01T00:00:00.000000000",
          "2017-06-01T00:00:00.000000000",
          "2017-07-01T00:00:00.000000000",
          "2017-08-01T00:00:00.000000000",
          "2017-09-01T00:00:00.000000000",
          "2017-10-01T00:00:00.000000000",
          "2017-11-01T00:00:00.000000000",
          "2017-12-01T00:00:00.000000000",
          "2018-01-01T00:00:00.000000000",
          "2018-02-01T00:00:00.000000000",
          "2018-03-01T00:00:00.000000000",
          "2018-04-01T00:00:00.000000000",
          "2018-05-01T00:00:00.000000000",
          "2018-06-01T00:00:00.000000000",
          "2018-07-01T00:00:00.000000000",
          "2018-08-01T00:00:00.000000000",
          "2018-09-01T00:00:00.000000000",
          "2018-10-01T00:00:00.000000000",
          "2018-11-01T00:00:00.000000000",
          "2018-12-01T00:00:00.000000000",
          "2019-01-01T00:00:00.000000000",
          "2019-02-01T00:00:00.000000000",
          "2019-03-01T00:00:00.000000000",
          "2019-04-01T00:00:00.000000000",
          "2019-05-01T00:00:00.000000000",
          "2019-06-01T00:00:00.000000000",
          "2019-07-01T00:00:00.000000000",
          "2019-08-01T00:00:00.000000000",
          "2019-09-01T00:00:00.000000000",
          "2019-10-01T00:00:00.000000000",
          "2019-11-01T00:00:00.000000000",
          "2019-12-01T00:00:00.000000000",
          "2020-01-01T00:00:00.000000000",
          "2020-02-01T00:00:00.000000000",
          "2020-03-01T00:00:00.000000000",
          "2020-04-01T00:00:00.000000000",
          "2020-05-01T00:00:00.000000000",
          "2020-06-01T00:00:00.000000000",
          "2020-07-01T00:00:00.000000000",
          "2020-08-01T00:00:00.000000000",
          "2020-09-01T00:00:00.000000000",
          "2020-10-01T00:00:00.000000000",
          "2020-11-01T00:00:00.000000000",
          "2020-12-01T00:00:00.000000000",
          "2021-01-01T00:00:00.000000000",
          "2021-02-01T00:00:00.000000000",
          "2021-03-01T00:00:00.000000000",
          "2021-04-01T00:00:00.000000000",
          "2021-05-01T00:00:00.000000000",
          "2021-06-01T00:00:00.000000000",
          "2021-07-01T00:00:00.000000000",
          "2021-08-01T00:00:00.000000000",
          "2021-09-01T00:00:00.000000000",
          "2021-10-01T00:00:00.000000000",
          "2021-11-01T00:00:00.000000000",
          "2021-12-01T00:00:00.000000000",
          "2022-01-01T00:00:00.000000000",
          "2022-02-01T00:00:00.000000000",
          "2022-03-01T00:00:00.000000000",
          "2022-04-01T00:00:00.000000000",
          "2022-05-01T00:00:00.000000000",
          "2022-06-01T00:00:00.000000000",
          "2022-07-01T00:00:00.000000000",
          "2022-08-01T00:00:00.000000000",
          "2022-09-01T00:00:00.000000000",
          "2022-10-01T00:00:00.000000000",
          "2022-11-01T00:00:00.000000000",
          "2022-12-01T00:00:00.000000000",
          "2023-01-01T00:00:00.000000000",
          "2023-02-01T00:00:00.000000000",
          "2023-03-01T00:00:00.000000000",
          "2023-04-01T00:00:00.000000000",
          "2023-05-01T00:00:00.000000000",
          "2023-06-01T00:00:00.000000000",
          "2023-07-01T00:00:00.000000000",
          "2023-08-01T00:00:00.000000000",
          "2023-09-01T00:00:00.000000000",
          "2023-10-01T00:00:00.000000000",
          "2023-11-01T00:00:00.000000000",
          "2023-12-01T00:00:00.000000000",
          "2024-01-01T00:00:00.000000000",
          "2024-02-01T00:00:00.000000000",
          "2024-03-01T00:00:00.000000000",
          "2024-04-01T00:00:00.000000000",
          "2024-05-01T00:00:00.000000000",
          "2024-06-01T00:00:00.000000000",
          "2024-07-01T00:00:00.000000000",
          "2024-08-01T00:00:00.000000000",
          "2024-09-01T00:00:00.000000000",
          "2024-10-01T00:00:00.000000000",
          "2024-11-01T00:00:00.000000000",
          "2024-12-01T00:00:00.000000000",
          "2025-01-01T00:00:00.000000000",
          "2025-02-01T00:00:00.000000000"
         ],
         "xaxis": "x",
         "y": {
          "bdata": "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",
          "dtype": "f8"
         },
         "yaxis": "y"
        }
       ],
       "layout": {
        "annotations": [
         {
          "align": "left",
          "bgcolor": "rgba(255, 255, 255, 0.8)",
          "bordercolor": "black",
          "borderwidth": 1,
          "font": {
           "size": 10
          },
          "showarrow": false,
          "text": "Source: Trading Economics<br>Original Source: Statistics Canada<br>Frequency: MS<br>",
          "x": 0,
          "xanchor": "left",
          "xref": "paper",
          "y": -0.2,
          "yanchor": "bottom",
          "yref": "paper"
         }
        ],
        "legend": {
         "orientation": "h",
         "title": {
          "text": ""
         },
         "tracegroupgap": 0,
         "x": 0.5,
         "xanchor": "center",
         "y": -0.2,
         "yanchor": "bottom"
        },
        "margin": {
         "t": 60
        },
        "template": {
         "data": {
          "bar": [
           {
            "error_x": {
             "color": "#2a3f5f"
            },
            "error_y": {
             "color": "#2a3f5f"
            },
            "marker": {
             "line": {
              "color": "#E5ECF6",
              "width": 0.5
             },
             "pattern": {
              "fillmode": "overlay",
              "size": 10,
              "solidity": 0.2
             }
            },
            "type": "bar"
           }
          ],
          "barpolar": [
           {
            "marker": {
             "line": {
              "color": "#E5ECF6",
              "width": 0.5
             },
             "pattern": {
              "fillmode": "overlay",
              "size": 10,
              "solidity": 0.2
             }
            },
            "type": "barpolar"
           }
          ],
          "carpet": [
           {
            "aaxis": {
             "endlinecolor": "#2a3f5f",
             "gridcolor": "white",
             "linecolor": "white",
             "minorgridcolor": "white",
             "startlinecolor": "#2a3f5f"
            },
            "baxis": {
             "endlinecolor": "#2a3f5f",
             "gridcolor": "white",
             "linecolor": "white",
             "minorgridcolor": "white",
             "startlinecolor": "#2a3f5f"
            },
            "type": "carpet"
           }
          ],
          "choropleth": [
           {
            "colorbar": {
             "outlinewidth": 0,
             "ticks": ""
            },
            "type": "choropleth"
           }
          ],
          "contour": [
           {
            "colorbar": {
             "outlinewidth": 0,
             "ticks": ""
            },
            "colorscale": [
             [
              0,
              "#0d0887"
             ],
             [
              0.1111111111111111,
              "#46039f"
             ],
             [
              0.2222222222222222,
              "#7201a8"
             ],
             [
              0.3333333333333333,
              "#9c179e"
             ],
             [
              0.4444444444444444,
              "#bd3786"
             ],
             [
              0.5555555555555556,
              "#d8576b"
             ],
             [
              0.6666666666666666,
              "#ed7953"
             ],
             [
              0.7777777777777778,
              "#fb9f3a"
             ],
             [
              0.8888888888888888,
              "#fdca26"
             ],
             [
              1,
              "#f0f921"
             ]
            ],
            "type": "contour"
           }
          ],
          "contourcarpet": [
           {
            "colorbar": {
             "outlinewidth": 0,
             "ticks": ""
            },
            "type": "contourcarpet"
           }
          ],
          "heatmap": [
           {
            "colorbar": {
             "outlinewidth": 0,
             "ticks": ""
            },
            "colorscale": [
             [
              0,
              "#0d0887"
             ],
             [
              0.1111111111111111,
              "#46039f"
             ],
             [
              0.2222222222222222,
              "#7201a8"
             ],
             [
              0.3333333333333333,
              "#9c179e"
             ],
             [
              0.4444444444444444,
              "#bd3786"
             ],
             [
              0.5555555555555556,
              "#d8576b"
             ],
             [
              0.6666666666666666,
              "#ed7953"
             ],
             [
              0.7777777777777778,
              "#fb9f3a"
             ],
             [
              0.8888888888888888,
              "#fdca26"
             ],
             [
              1,
              "#f0f921"
             ]
            ],
            "type": "heatmap"
           }
          ],
          "histogram": [
           {
            "marker": {
             "pattern": {
              "fillmode": "overlay",
              "size": 10,
              "solidity": 0.2
             }
            },
            "type": "histogram"
           }
          ],
          "histogram2d": [
           {
            "colorbar": {
             "outlinewidth": 0,
             "ticks": ""
            },
            "colorscale": [
             [
              0,
              "#0d0887"
             ],
             [
              0.1111111111111111,
              "#46039f"
             ],
             [
              0.2222222222222222,
              "#7201a8"
             ],
             [
              0.3333333333333333,
              "#9c179e"
             ],
             [
              0.4444444444444444,
              "#bd3786"
             ],
             [
              0.5555555555555556,
              "#d8576b"
             ],
             [
              0.6666666666666666,
              "#ed7953"
             ],
             [
              0.7777777777777778,
              "#fb9f3a"
             ],
             [
              0.8888888888888888,
              "#fdca26"
             ],
             [
              1,
              "#f0f921"
             ]
            ],
            "type": "histogram2d"
           }
          ],
          "histogram2dcontour": [
           {
            "colorbar": {
             "outlinewidth": 0,
             "ticks": ""
            },
            "colorscale": [
             [
              0,
              "#0d0887"
             ],
             [
              0.1111111111111111,
              "#46039f"
             ],
             [
              0.2222222222222222,
              "#7201a8"
             ],
             [
              0.3333333333333333,
              "#9c179e"
             ],
             [
              0.4444444444444444,
              "#bd3786"
             ],
             [
              0.5555555555555556,
              "#d8576b"
             ],
             [
              0.6666666666666666,
              "#ed7953"
             ],
             [
              0.7777777777777778,
              "#fb9f3a"
             ],
             [
              0.8888888888888888,
              "#fdca26"
             ],
             [
              1,
              "#f0f921"
             ]
            ],
            "type": "histogram2dcontour"
           }
          ],
          "mesh3d": [
           {
            "colorbar": {
             "outlinewidth": 0,
             "ticks": ""
            },
            "type": "mesh3d"
           }
          ],
          "parcoords": [
           {
            "line": {
             "colorbar": {
              "outlinewidth": 0,
              "ticks": ""
             }
            },
            "type": "parcoords"
           }
          ],
          "pie": [
           {
            "automargin": true,
            "type": "pie"
           }
          ],
          "scatter": [
           {
            "fillpattern": {
             "fillmode": "overlay",
             "size": 10,
             "solidity": 0.2
            },
            "type": "scatter"
           }
          ],
          "scatter3d": [
           {
            "line": {
             "colorbar": {
              "outlinewidth": 0,
              "ticks": ""
             }
            },
            "marker": {
             "colorbar": {
              "outlinewidth": 0,
              "ticks": ""
             }
            },
            "type": "scatter3d"
           }
          ],
          "scattercarpet": [
           {
            "marker": {
             "colorbar": {
              "outlinewidth": 0,
              "ticks": ""
             }
            },
            "type": "scattercarpet"
           }
          ],
          "scattergeo": [
           {
            "marker": {
             "colorbar": {
              "outlinewidth": 0,
              "ticks": ""
             }
            },
            "type": "scattergeo"
           }
          ],
          "scattergl": [
           {
            "marker": {
             "colorbar": {
              "outlinewidth": 0,
              "ticks": ""
             }
            },
            "type": "scattergl"
           }
          ],
          "scattermap": [
           {
            "marker": {
             "colorbar": {
              "outlinewidth": 0,
              "ticks": ""
             }
            },
            "type": "scattermap"
           }
          ],
          "scattermapbox": [
           {
            "marker": {
             "colorbar": {
              "outlinewidth": 0,
              "ticks": ""
             }
            },
            "type": "scattermapbox"
           }
          ],
          "scatterpolar": [
           {
            "marker": {
             "colorbar": {
              "outlinewidth": 0,
              "ticks": ""
             }
            },
            "type": "scatterpolar"
           }
          ],
          "scatterpolargl": [
           {
            "marker": {
             "colorbar": {
              "outlinewidth": 0,
              "ticks": ""
             }
            },
            "type": "scatterpolargl"
           }
          ],
          "scatterternary": [
           {
            "marker": {
             "colorbar": {
              "outlinewidth": 0,
              "ticks": ""
             }
            },
            "type": "scatterternary"
           }
          ],
          "surface": [
           {
            "colorbar": {
             "outlinewidth": 0,
             "ticks": ""
            },
            "colorscale": [
             [
              0,
              "#0d0887"
             ],
             [
              0.1111111111111111,
              "#46039f"
             ],
             [
              0.2222222222222222,
              "#7201a8"
             ],
             [
              0.3333333333333333,
              "#9c179e"
             ],
             [
              0.4444444444444444,
              "#bd3786"
             ],
             [
              0.5555555555555556,
              "#d8576b"
             ],
             [
              0.6666666666666666,
              "#ed7953"
             ],
             [
              0.7777777777777778,
              "#fb9f3a"
             ],
             [
              0.8888888888888888,
              "#fdca26"
             ],
             [
              1,
              "#f0f921"
             ]
            ],
            "type": "surface"
           }
          ],
          "table": [
           {
            "cells": {
             "fill": {
              "color": "#EBF0F8"
             },
             "line": {
              "color": "white"
             }
            },
            "header": {
             "fill": {
              "color": "#C8D4E3"
             },
             "line": {
              "color": "white"
             }
            },
            "type": "table"
           }
          ]
         },
         "layout": {
          "annotationdefaults": {
           "arrowcolor": "#2a3f5f",
           "arrowhead": 0,
           "arrowwidth": 1
          },
          "autotypenumbers": "strict",
          "coloraxis": {
           "colorbar": {
            "outlinewidth": 0,
            "ticks": ""
           }
          },
          "colorscale": {
           "diverging": [
            [
             0,
             "#8e0152"
            ],
            [
             0.1,
             "#c51b7d"
            ],
            [
             0.2,
             "#de77ae"
            ],
            [
             0.3,
             "#f1b6da"
            ],
            [
             0.4,
             "#fde0ef"
            ],
            [
             0.5,
             "#f7f7f7"
            ],
            [
             0.6,
             "#e6f5d0"
            ],
            [
             0.7,
             "#b8e186"
            ],
            [
             0.8,
             "#7fbc41"
            ],
            [
             0.9,
             "#4d9221"
            ],
            [
             1,
             "#276419"
            ]
           ],
           "sequential": [
            [
             0,
             "#0d0887"
            ],
            [
             0.1111111111111111,
             "#46039f"
            ],
            [
             0.2222222222222222,
             "#7201a8"
            ],
            [
             0.3333333333333333,
             "#9c179e"
            ],
            [
             0.4444444444444444,
             "#bd3786"
            ],
            [
             0.5555555555555556,
             "#d8576b"
            ],
            [
             0.6666666666666666,
             "#ed7953"
            ],
            [
             0.7777777777777778,
             "#fb9f3a"
            ],
            [
             0.8888888888888888,
             "#fdca26"
            ],
            [
             1,
             "#f0f921"
            ]
           ],
           "sequentialminus": [
            [
             0,
             "#0d0887"
            ],
            [
             0.1111111111111111,
             "#46039f"
            ],
            [
             0.2222222222222222,
             "#7201a8"
            ],
            [
             0.3333333333333333,
             "#9c179e"
            ],
            [
             0.4444444444444444,
             "#bd3786"
            ],
            [
             0.5555555555555556,
             "#d8576b"
            ],
            [
             0.6666666666666666,
             "#ed7953"
            ],
            [
             0.7777777777777778,
             "#fb9f3a"
            ],
            [
             0.8888888888888888,
             "#fdca26"
            ],
            [
             1,
             "#f0f921"
            ]
           ]
          },
          "colorway": [
           "#636efa",
           "#EF553B",
           "#00cc96",
           "#ab63fa",
           "#FFA15A",
           "#19d3f3",
           "#FF6692",
           "#B6E880",
           "#FF97FF",
           "#FECB52"
          ],
          "font": {
           "color": "#2a3f5f"
          },
          "geo": {
           "bgcolor": "white",
           "lakecolor": "white",
           "landcolor": "#E5ECF6",
           "showlakes": true,
           "showland": true,
           "subunitcolor": "white"
          },
          "hoverlabel": {
           "align": "left"
          },
          "hovermode": "closest",
          "mapbox": {
           "style": "light"
          },
          "paper_bgcolor": "white",
          "plot_bgcolor": "#E5ECF6",
          "polar": {
           "angularaxis": {
            "gridcolor": "white",
            "linecolor": "white",
            "ticks": ""
           },
           "bgcolor": "#E5ECF6",
           "radialaxis": {
            "gridcolor": "white",
            "linecolor": "white",
            "ticks": ""
           }
          },
          "scene": {
           "xaxis": {
            "backgroundcolor": "#E5ECF6",
            "gridcolor": "white",
            "gridwidth": 2,
            "linecolor": "white",
            "showbackground": true,
            "ticks": "",
            "zerolinecolor": "white"
           },
           "yaxis": {
            "backgroundcolor": "#E5ECF6",
            "gridcolor": "white",
            "gridwidth": 2,
            "linecolor": "white",
            "showbackground": true,
            "ticks": "",
            "zerolinecolor": "white"
           },
           "zaxis": {
            "backgroundcolor": "#E5ECF6",
            "gridcolor": "white",
            "gridwidth": 2,
            "linecolor": "white",
            "showbackground": true,
            "ticks": "",
            "zerolinecolor": "white"
           }
          },
          "shapedefaults": {
           "line": {
            "color": "#2a3f5f"
           }
          },
          "ternary": {
           "aaxis": {
            "gridcolor": "white",
            "linecolor": "white",
            "ticks": ""
           },
           "baxis": {
            "gridcolor": "white",
            "linecolor": "white",
            "ticks": ""
           },
           "bgcolor": "#E5ECF6",
           "caxis": {
            "gridcolor": "white",
            "linecolor": "white",
            "ticks": ""
           }
          },
          "title": {
           "x": 0.05
          },
          "xaxis": {
           "automargin": true,
           "gridcolor": "white",
           "linecolor": "white",
           "ticks": "",
           "title": {
            "standoff": 15
           },
           "zerolinecolor": "white",
           "zerolinewidth": 2
          },
          "yaxis": {
           "automargin": true,
           "gridcolor": "white",
           "linecolor": "white",
           "ticks": "",
           "title": {
            "standoff": 15
           },
           "zerolinecolor": "white",
           "zerolinewidth": 2
          }
         }
        },
        "title": {
         "text": "Canada: Canada retail sales mom"
        },
        "xaxis": {
         "anchor": "y",
         "domain": [
          0,
          1
         ],
         "title": {
          "text": ""
         }
        },
        "yaxis": {
         "anchor": "x",
         "domain": [
          0,
          1
         ],
         "title": {
          "text": "%"
         }
        }
       }
      }
     },
     "metadata": {},
     "output_type": "display_data"
    }
   ],
   "source": [
    "scraped.plot_series()"
   ]
  },
  {
   "cell_type": "code",
   "execution_count": null,
   "metadata": {},
   "outputs": [],
   "source": []
  }
 ],
 "metadata": {
  "kernelspec": {
   "display_name": "ted",
   "language": "python",
   "name": "python3"
  },
  "language_info": {
   "codemirror_mode": {
    "name": "ipython",
    "version": 3
   },
   "file_extension": ".py",
   "mimetype": "text/x-python",
   "name": "python",
   "nbconvert_exporter": "python",
   "pygments_lexer": "ipython3",
   "version": "3.11.11"
  }
 },
 "nbformat": 4,
 "nbformat_minor": 2
}
