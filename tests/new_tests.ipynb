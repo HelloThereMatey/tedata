{
 "cells": [
  {
   "cell_type": "code",
   "execution_count": 3,
   "metadata": {},
   "outputs": [
    {
     "name": "stderr",
     "output_type": "stream",
     "text": [
      "INFO - tedata package initialized successfully!\n"
     ]
    }
   ],
   "source": [
    "import sys\n",
    "import os\n",
    "import pandas as pd\n",
    "from pprint import pprint\n",
    "wd = %pwd\n",
    "parent = os.path.dirname(wd)\n",
    "fdel = os.path.sep\n",
    "sys.path.append(parent+fdel+\"src\")\n",
    "import tedata as ted"
   ]
  },
  {
   "cell_type": "code",
   "execution_count": 4,
   "metadata": {},
   "outputs": [
    {
     "data": {
      "text/plain": [
       "{'Active webdrivers': [], 'Active TE_Scrapers': []}"
      ]
     },
     "execution_count": 4,
     "metadata": {},
     "output_type": "execute_result"
    }
   ],
   "source": [
    "ted.find_active_drivers(close_all_drivers=True, close__all_scrapers=True)"
   ]
  },
  {
   "cell_type": "code",
   "execution_count": 5,
   "metadata": {},
   "outputs": [
    {
     "name": "stderr",
     "output_type": "stream",
     "text": [
      "INFO - New firefox webdriver created.\n",
      "INFO - Page loaded successfully.\n",
      "INFO - Chart types dictionary created successfully: dict_keys(['Column', 'Spline', 'Areaspline', 'Stepline', 'Line', 'Area'])\n",
      "INFO - Date span set to: 1Y\n"
     ]
    },
    {
     "data": {
      "text/plain": [
       "True"
      ]
     },
     "execution_count": 5,
     "metadata": {},
     "output_type": "execute_result"
    }
   ],
   "source": [
    "scr = ted.TE_Scraper(headless = False)\n",
    "scr.load_page(\"https://tradingeconomics.com/canada/retail-sales\")"
   ]
  },
  {
   "cell_type": "code",
   "execution_count": 6,
   "metadata": {},
   "outputs": [
    {
     "name": "stderr",
     "output_type": "stream",
     "text": [
      "INFO - Date span set to custom range: 1850-01-01 to 2025-03-24 (using JavaScript)\n",
      "INFO - \n",
      "Series metadata: \n",
      " {'units': '%', 'original_source': 'Statistics Canada', 'title': 'Canada Retail Sales MoM', 'indicator': 'retail sales', 'country': 'canada', 'source': 'Trading Economics', 'id': 'canada/retail-sales'}\n"
     ]
    }
   ],
   "source": [
    "scr.set_max_date_span_viaCalendar()\n",
    "scr.scrape_metadata()"
   ]
  },
  {
   "cell_type": "code",
   "execution_count": 7,
   "metadata": {},
   "outputs": [
    {
     "name": "stderr",
     "output_type": "stream",
     "text": [
      "INFO - TooltipScraper object initialised successfully.\n"
     ]
    }
   ],
   "source": [
    "scr.init_tooltipScraper()"
   ]
  },
  {
   "cell_type": "code",
   "execution_count": 11,
   "metadata": {},
   "outputs": [
    {
     "data": {
      "text/plain": [
       "[<g class=\"highcharts-tooltip\" data-z-index=\"8\" opacity=\"1\"><g class=\"highcharts-label highcharts-tooltip-box highcharts-color-none\" style=\"cursor: default; white-space: nowrap;\" transform=\"translate(263,159)\"><path class=\"highcharts-label-box highcharts-shadow\" d=\"M 3.5 0.5 L 78.5 0.5 C 81.5 0.5 81.5 0.5 81.5 3.5 L 81.5 25.839622641510005 L 87.5 31.839622641510005 L 81.5 37.839622641510005 L 81.5 60.5 C 81.5 63.5 81.5 63.5 78.5 63.5 L 3.5 63.5 C 0.5 63.5 0.5 63.5 0.5 60.5 L 0.5 3.5 C 0.5 0.5 0.5 0.5 3.5 0.5\" fill=\"none\" stroke=\"#000000\" stroke-opacity=\"0.049999999999999996\" stroke-width=\"5\" transform=\"translate(1, 1)\"></path><path class=\"highcharts-label-box highcharts-shadow\" d=\"M 3.5 0.5 L 78.5 0.5 C 81.5 0.5 81.5 0.5 81.5 3.5 L 81.5 25.839622641510005 L 87.5 31.839622641510005 L 81.5 37.839622641510005 L 81.5 60.5 C 81.5 63.5 81.5 63.5 78.5 63.5 L 3.5 63.5 C 0.5 63.5 0.5 63.5 0.5 60.5 L 0.5 3.5 C 0.5 0.5 0.5 0.5 3.5 0.5\" fill=\"none\" stroke=\"#000000\" stroke-opacity=\"0.09999999999999999\" stroke-width=\"3\" transform=\"translate(1, 1)\"></path><path class=\"highcharts-label-box highcharts-shadow\" d=\"M 3.5 0.5 L 78.5 0.5 C 81.5 0.5 81.5 0.5 81.5 3.5 L 81.5 25.839622641510005 L 87.5 31.839622641510005 L 81.5 37.839622641510005 L 81.5 60.5 C 81.5 63.5 81.5 63.5 78.5 63.5 L 3.5 63.5 C 0.5 63.5 0.5 63.5 0.5 60.5 L 0.5 3.5 C 0.5 0.5 0.5 0.5 3.5 0.5\" fill=\"none\" stroke=\"#000000\" stroke-opacity=\"0.15\" stroke-width=\"1\" transform=\"translate(1, 1)\"></path><path class=\"highcharts-label-box\" d=\"M 3.5 0.5 L 78.5 0.5 C 81.5 0.5 81.5 0.5 81.5 3.5 L 81.5 25.839622641510005 L 87.5 31.839622641510005 L 81.5 37.839622641510005 L 81.5 60.5 C 81.5 63.5 81.5 63.5 78.5 63.5 L 3.5 63.5 C 0.5 63.5 0.5 63.5 0.5 60.5 L 0.5 3.5 C 0.5 0.5 0.5 0.5 3.5 0.5\" fill=\"rgba(247,247,247,0.85)\" stroke=\"#4f81bd\" stroke-width=\"1\"></path></g></g>,\n",
       " <div class=\"highcharts-tooltip\" style=\"position: absolute; left: 0px; top: 0px; opacity: 1; visibility: inherit;\"><div class=\"highcharts-label highcharts-tooltip-box highcharts-color-none\" style=\"position: absolute; left: 263px; top: 159px; opacity: 1; visibility: inherit;\"><span data-z-index=\"1\" style='position: absolute; font-family: \"Lucida Grande\", \"Lucida Sans Unicode\", Arial, Helvetica, sans-serif; font-size: 12px; white-space: nowrap; margin-left: 0px; margin-top: 0px; left: 0px; top: 0px; color: rgb(51, 51, 51);'><div class=\"tooltip-box\"><span class=\"tooltip-date\">Feb 2008</span><hr class=\"tooltip-divider\"/><span class=\"hawk-tt tooltip-value\" style=\"color: rgb(51, 51, 51);\"> -1.1%</span></div></span></div></div>]"
      ]
     },
     "execution_count": 11,
     "metadata": {},
     "output_type": "execute_result"
    }
   ],
   "source": [
    "scr.update_chart()\n",
    "scr.chart_soup.select(\".highcharts-tooltip\")"
   ]
  },
  {
   "cell_type": "code",
   "execution_count": 13,
   "metadata": {},
   "outputs": [
    {
     "name": "stderr",
     "output_type": "stream",
     "text": [
      "INFO - Successfully initialized tooltip with simple mouse event\n"
     ]
    }
   ],
   "source": [
    "datapoints = scr.tooltip_scraper.initialize_tooltip_simple()"
   ]
  },
  {
   "cell_type": "code",
   "execution_count": 14,
   "metadata": {},
   "outputs": [
    {
     "name": "stdout",
     "output_type": "stream",
     "text": [
      "Start date: 1991-02-01 00:00:00\n",
      "End date: 2025-02-01 00:00:00\n"
     ]
    },
    {
     "data": {
      "text/plain": [
       "{'end_date': Timestamp('2025-02-01 00:00:00'),\n",
       " 'end_value': -0.4,\n",
       " 'start_date': Timestamp('1991-02-01 00:00:00'),\n",
       " 'start_value': 1.8,\n",
       " 'unit_str': '%'}"
      ]
     },
     "execution_count": 14,
     "metadata": {},
     "output_type": "execute_result"
    }
   ],
   "source": [
    "scr.tooltip_scraper.first_last_dates_js()"
   ]
  },
  {
   "cell_type": "code",
   "execution_count": 15,
   "metadata": {},
   "outputs": [
    {
     "name": "stderr",
     "output_type": "stream",
     "text": [
      "INFO - Chart type set to: Spline (using JavaScript)\n",
      "INFO - Time taken to select chart type: 0.6198884999612346\n"
     ]
    },
    {
     "name": "stdout",
     "output_type": "stream",
     "text": [
      "End date: 2025-02-01 00:00:00\n",
      "Retrying start_end extraction...\n"
     ]
    },
    {
     "name": "stderr",
     "output_type": "stream",
     "text": [
      "INFO - Start_end extracted successfully:\n"
     ]
    },
    {
     "name": "stdout",
     "output_type": "stream",
     "text": [
      "Start date: 1991-02-01 00:00:00\n",
      "End date: 2025-02-01 00:00:00\n"
     ]
    },
    {
     "name": "stderr",
     "output_type": "stream",
     "text": [
      "INFO - Time taken to execute JS code: 21.08614380005747\n"
     ]
    },
    {
     "data": {
      "text/plain": [
       "[{'date': 'Feb 2025', 'value': '-0.4%', 'x': 772, 'y': 630.5},\n",
       " {'date': 'Jan 2025', 'value': '-0.6%', 'x': 771, 'y': 630.5},\n",
       " {'date': 'Dec 2024', 'value': '2.6%', 'x': 769, 'y': 630.5},\n",
       " {'date': 'Nov 2024', 'value': '0.3%', 'x': 767, 'y': 630.5},\n",
       " {'date': 'Oct 2024', 'value': '0.8%', 'x': 766, 'y': 630.5},\n",
       " {'date': 'Sep 2024', 'value': '0.8%', 'x': 764, 'y': 630.5},\n",
       " {'date': 'Aug 2024', 'value': '0.4%', 'x': 762, 'y': 630.5},\n",
       " {'date': 'Jul 2024', 'value': '1%', 'x': 761, 'y': 630.5},\n",
       " {'date': 'Jun 2024', 'value': '-0.3%', 'x': 759, 'y': 630.5},\n",
       " {'date': 'May 2024', 'value': '-0.8%', 'x': 757, 'y': 630.5},\n",
       " {'date': 'Apr 2024', 'value': '0.5%', 'x': 756, 'y': 630.5},\n",
       " {'date': 'Mar 2024', 'value': '-0.4%', 'x': 754, 'y': 630.5},\n",
       " {'date': 'Feb 2024', 'value': '-0.2%', 'x': 752, 'y': 630.5},\n",
       " {'date': 'Jan 2024', 'value': '-0.6%', 'x': 751, 'y': 630.5},\n",
       " {'date': 'Dec 2023', 'value': '0.6%', 'x': 749, 'y': 630.5},\n",
       " {'date': 'Nov 2023', 'value': '-0.1%', 'x': 748, 'y': 630.5},\n",
       " {'date': 'Oct 2023', 'value': '0.2%', 'x': 746, 'y': 630.5},\n",
       " {'date': 'Sep 2023', 'value': '1%', 'x': 744, 'y': 630.5},\n",
       " {'date': 'Aug 2023', 'value': '0%', 'x': 743, 'y': 630.5},\n",
       " {'date': 'Jul 2023', 'value': '0.3%', 'x': 741, 'y': 630.5},\n",
       " {'date': 'Jun 2023', 'value': '0.1%', 'x': 739, 'y': 630.5},\n",
       " {'date': 'May 2023', 'value': '-0.2%', 'x': 738, 'y': 630.5},\n",
       " {'date': 'Apr 2023', 'value': '0.7%', 'x': 736, 'y': 630.5},\n",
       " {'date': 'Mar 2023', 'value': '-1.1%', 'x': 734, 'y': 630.5},\n",
       " {'date': 'Feb 2023', 'value': '-1.1%', 'x': 733, 'y': 630.5},\n",
       " {'date': 'Jan 2023', 'value': '2.3%', 'x': 731, 'y': 630.5},\n",
       " {'date': 'Dec 2022', 'value': '-0.4%', 'x': 729, 'y': 630.5},\n",
       " {'date': 'Nov 2022', 'value': '-0.1%', 'x': 728, 'y': 630.5},\n",
       " {'date': 'Oct 2022', 'value': '1%', 'x': 726, 'y': 630.5},\n",
       " {'date': 'Sep 2022', 'value': '-0.4%', 'x': 724, 'y': 630.5},\n",
       " {'date': 'Aug 2022', 'value': '0.4%', 'x': 723, 'y': 630.5},\n",
       " {'date': 'Jul 2022', 'value': '-2.8%', 'x': 721, 'y': 630.5},\n",
       " {'date': 'Jun 2022', 'value': '1.2%', 'x': 719, 'y': 630.5},\n",
       " {'date': 'May 2022', 'value': '2.6%', 'x': 718, 'y': 630.5},\n",
       " {'date': 'Apr 2022', 'value': '0.3%', 'x': 716, 'y': 630.5},\n",
       " {'date': 'Mar 2022', 'value': '0.7%', 'x': 715, 'y': 630.5},\n",
       " {'date': 'Feb 2022', 'value': '0.7%', 'x': 713, 'y': 630.5},\n",
       " {'date': 'Jan 2022', 'value': '2.5%', 'x': 711, 'y': 630.5},\n",
       " {'date': 'Dec 2021', 'value': '-1.4%', 'x': 710, 'y': 630.5},\n",
       " {'date': 'Nov 2021', 'value': '1.2%', 'x': 708, 'y': 630.5},\n",
       " {'date': 'Oct 2021', 'value': '1.4%', 'x': 706, 'y': 630.5},\n",
       " {'date': 'Sep 2021', 'value': '-0.4%', 'x': 705, 'y': 630.5},\n",
       " {'date': 'Aug 2021', 'value': '1.6%', 'x': 703, 'y': 630.5},\n",
       " {'date': 'Jul 2021', 'value': '0.9%', 'x': 701, 'y': 630.5},\n",
       " {'date': 'Jun 2021', 'value': '4.4%', 'x': 700, 'y': 630.5},\n",
       " {'date': 'May 2021', 'value': '-2.5%', 'x': 698, 'y': 630.5},\n",
       " {'date': 'Apr 2021', 'value': '-5.3%', 'x': 696, 'y': 630.5},\n",
       " {'date': 'Mar 2021', 'value': '4.9%', 'x': 695, 'y': 630.5},\n",
       " {'date': 'Feb 2021', 'value': '6.5%', 'x': 693, 'y': 630.5},\n",
       " {'date': 'Jan 2021', 'value': '-2%', 'x': 692, 'y': 630.5},\n",
       " {'date': 'Dec 2020', 'value': '-4%', 'x': 690, 'y': 630.5},\n",
       " {'date': 'Nov 2020', 'value': '0.4%', 'x': 688, 'y': 630.5},\n",
       " {'date': 'Oct 2020', 'value': '0.9%', 'x': 687, 'y': 630.5},\n",
       " {'date': 'Sep 2020', 'value': '3.4%', 'x': 685, 'y': 630.5},\n",
       " {'date': 'Aug 2020', 'value': '-0.4%', 'x': 683, 'y': 630.5},\n",
       " {'date': 'Jul 2020', 'value': '0.8%', 'x': 682, 'y': 630.5},\n",
       " {'date': 'Jun 2020', 'value': '21.7%', 'x': 680, 'y': 630.5},\n",
       " {'date': 'May 2020', 'value': '22.2%', 'x': 678, 'y': 630.5},\n",
       " {'date': 'Apr 2020', 'value': '-23%', 'x': 677, 'y': 630.5},\n",
       " {'date': 'Mar 2020', 'value': '-11.1%', 'x': 675, 'y': 630.5},\n",
       " {'date': 'Feb 2020', 'value': '0.3%', 'x': 673, 'y': 630.5},\n",
       " {'date': 'Jan 2020', 'value': '-1.2%', 'x': 672, 'y': 630.5},\n",
       " {'date': 'Dec 2019', 'value': '2.4%', 'x': 670, 'y': 630.5},\n",
       " {'date': 'Nov 2019', 'value': '0.8%', 'x': 668, 'y': 630.5},\n",
       " {'date': 'Oct 2019', 'value': '-1.4%', 'x': 667, 'y': 630.5},\n",
       " {'date': 'Sep 2019', 'value': '0%', 'x': 665, 'y': 630.5},\n",
       " {'date': 'Aug 2019', 'value': '-0.1%', 'x': 664, 'y': 630.5},\n",
       " {'date': 'Jul 2019', 'value': '1.1%', 'x': 662, 'y': 630.5},\n",
       " {'date': 'Jun 2019', 'value': '-0.5%', 'x': 660, 'y': 630.5},\n",
       " {'date': 'May 2019', 'value': '0.6%', 'x': 659, 'y': 630.5},\n",
       " {'date': 'Apr 2019', 'value': '0.3%', 'x': 657, 'y': 630.5},\n",
       " {'date': 'Mar 2019', 'value': '1.2%', 'x': 655, 'y': 630.5},\n",
       " {'date': 'Feb 2019', 'value': '0.2%', 'x': 654, 'y': 630.5},\n",
       " {'date': 'Jan 2019', 'value': '-0.9%', 'x': 652, 'y': 630.5},\n",
       " {'date': 'Dec 2018', 'value': '0.8%', 'x': 650, 'y': 630.5},\n",
       " {'date': 'Nov 2018', 'value': '-1.6%', 'x': 649, 'y': 630.5},\n",
       " {'date': 'Oct 2018', 'value': '0.4%', 'x': 647, 'y': 630.5},\n",
       " {'date': 'Sep 2018', 'value': '0.5%', 'x': 645, 'y': 630.5},\n",
       " {'date': 'Aug 2018', 'value': '0.5%', 'x': 644, 'y': 630.5},\n",
       " {'date': 'Jul 2018', 'value': '-0.4%', 'x': 642, 'y': 630.5},\n",
       " {'date': 'Jun 2018', 'value': '-0.3%', 'x': 640, 'y': 630.5},\n",
       " {'date': 'May 2018', 'value': '2.6%', 'x': 639, 'y': 630.5},\n",
       " {'date': 'Apr 2018', 'value': '0.3%', 'x': 637, 'y': 630.5},\n",
       " {'date': 'Mar 2018', 'value': '-0.2%', 'x': 635, 'y': 630.5},\n",
       " {'date': 'Feb 2018', 'value': '-0.5%', 'x': 634, 'y': 630.5},\n",
       " {'date': 'Jan 2018', 'value': '-0.1%', 'x': 632, 'y': 630.5},\n",
       " {'date': 'Dec 2017', 'value': '0.3%', 'x': 631, 'y': 630.5},\n",
       " {'date': 'Nov 2017', 'value': '-0.7%', 'x': 629, 'y': 630.5},\n",
       " {'date': 'Oct 2017', 'value': '2.9%', 'x': 627, 'y': 630.5},\n",
       " {'date': 'Sep 2017', 'value': '0.1%', 'x': 626, 'y': 630.5},\n",
       " {'date': 'Aug 2017', 'value': '0.3%', 'x': 624, 'y': 630.5},\n",
       " {'date': 'Jul 2017', 'value': '0.2%', 'x': 622, 'y': 630.5},\n",
       " {'date': 'Jun 2017', 'value': '0.1%', 'x': 621, 'y': 630.5},\n",
       " {'date': 'May 2017', 'value': '-0.2%', 'x': 619, 'y': 630.5},\n",
       " {'date': 'Apr 2017', 'value': '1.8%', 'x': 617, 'y': 630.5},\n",
       " {'date': 'Mar 2017', 'value': '0.1%', 'x': 616, 'y': 630.5},\n",
       " {'date': 'Feb 2017', 'value': '-1.1%', 'x': 614, 'y': 630.5},\n",
       " {'date': 'Jan 2017', 'value': '2.7%', 'x': 613, 'y': 630.5},\n",
       " {'date': 'Dec 2016', 'value': '1.1%', 'x': 611, 'y': 630.5},\n",
       " {'date': 'Nov 2016', 'value': '0.6%', 'x': 609, 'y': 630.5},\n",
       " {'date': 'Oct 2016', 'value': '0.6%', 'x': 608, 'y': 630.5},\n",
       " {'date': 'Sep 2016', 'value': '1.3%', 'x': 606, 'y': 630.5},\n",
       " {'date': 'Aug 2016', 'value': '0.4%', 'x': 604, 'y': 630.5},\n",
       " {'date': 'Jul 2016', 'value': '-0.4%', 'x': 603, 'y': 630.5},\n",
       " {'date': 'Jun 2016', 'value': '1%', 'x': 601, 'y': 630.5},\n",
       " {'date': 'May 2016', 'value': '-0.6%', 'x': 599, 'y': 630.5},\n",
       " {'date': 'Apr 2016', 'value': '1%', 'x': 598, 'y': 630.5},\n",
       " {'date': 'Mar 2016', 'value': '-1%', 'x': 596, 'y': 630.5},\n",
       " {'date': 'Feb 2016', 'value': '0.8%', 'x': 594, 'y': 630.5},\n",
       " {'date': 'Jan 2016', 'value': '1.3%', 'x': 593, 'y': 630.5},\n",
       " {'date': 'Dec 2015', 'value': '-0.1%', 'x': 591, 'y': 630.5},\n",
       " {'date': 'Nov 2015', 'value': '1.1%', 'x': 589, 'y': 630.5},\n",
       " {'date': 'Oct 2015', 'value': '-0.1%', 'x': 588, 'y': 630.5},\n",
       " {'date': 'Sep 2015', 'value': '0%', 'x': 586, 'y': 630.5},\n",
       " {'date': 'Aug 2015', 'value': '0.4%', 'x': 584, 'y': 630.5},\n",
       " {'date': 'Jul 2015', 'value': '0.8%', 'x': 583, 'y': 630.5},\n",
       " {'date': 'Jun 2015', 'value': '1%', 'x': 581, 'y': 630.5},\n",
       " {'date': 'May 2015', 'value': '0.7%', 'x': 579, 'y': 630.5},\n",
       " {'date': 'Apr 2015', 'value': '0.1%', 'x': 578, 'y': 630.5},\n",
       " {'date': 'Mar 2015', 'value': '1.2%', 'x': 576, 'y': 630.5},\n",
       " {'date': 'Feb 2015', 'value': '2.1%', 'x': 575, 'y': 630.5},\n",
       " {'date': 'Jan 2015', 'value': '-3.4%', 'x': 573, 'y': 630.5},\n",
       " {'date': 'Dec 2014', 'value': '0.2%', 'x': 571, 'y': 630.5},\n",
       " {'date': 'Nov 2014', 'value': '-0.3%', 'x': 570, 'y': 630.5},\n",
       " {'date': 'Oct 2014', 'value': '-0.1%', 'x': 568, 'y': 630.5},\n",
       " {'date': 'Sep 2014', 'value': '0.5%', 'x': 566, 'y': 630.5},\n",
       " {'date': 'Aug 2014', 'value': '-0.2%', 'x': 565, 'y': 630.5},\n",
       " {'date': 'Jul 2014', 'value': '0.5%', 'x': 563, 'y': 630.5},\n",
       " {'date': 'Jun 2014', 'value': '1.2%', 'x': 561, 'y': 630.5},\n",
       " {'date': 'May 2014', 'value': '0.3%', 'x': 560, 'y': 630.5},\n",
       " {'date': 'Apr 2014', 'value': '1.2%', 'x': 558, 'y': 630.5},\n",
       " {'date': 'Mar 2014', 'value': '-0.2%', 'x': 556, 'y': 630.5},\n",
       " {'date': 'Feb 2014', 'value': '0.8%', 'x': 555, 'y': 630.5},\n",
       " {'date': 'Jan 2014', 'value': '1%', 'x': 553, 'y': 630.5},\n",
       " {'date': 'Dec 2013', 'value': '0.1%', 'x': 552, 'y': 630.5},\n",
       " {'date': 'Nov 2013', 'value': '0%', 'x': 550, 'y': 630.5},\n",
       " {'date': 'Oct 2013', 'value': '0.3%', 'x': 548, 'y': 630.5},\n",
       " {'date': 'Sep 2013', 'value': '-0.3%', 'x': 547, 'y': 630.5},\n",
       " {'date': 'Aug 2013', 'value': '0.8%', 'x': 545, 'y': 630.5},\n",
       " {'date': 'Jul 2013', 'value': '1.2%', 'x': 543, 'y': 630.5},\n",
       " {'date': 'Jun 2013', 'value': '-0.7%', 'x': 542, 'y': 630.5},\n",
       " {'date': 'May 2013', 'value': '1.7%', 'x': 540, 'y': 630.5},\n",
       " {'date': 'Apr 2013', 'value': '-0.5%', 'x': 538, 'y': 630.5},\n",
       " {'date': 'Mar 2013', 'value': '0.3%', 'x': 537, 'y': 630.5},\n",
       " {'date': 'Feb 2013', 'value': '0.6%', 'x': 535, 'y': 630.5},\n",
       " {'date': 'Jan 2013', 'value': '1.1%', 'x': 533, 'y': 630.5},\n",
       " {'date': 'Dec 2012', 'value': '-0.3%', 'x': 532, 'y': 630.5},\n",
       " {'date': 'Nov 2012', 'value': '-0.1%', 'x': 530, 'y': 630.5},\n",
       " {'date': 'Oct 2012', 'value': '0.5%', 'x': 529, 'y': 630.5},\n",
       " {'date': 'Sep 2012', 'value': '0.3%', 'x': 527, 'y': 630.5},\n",
       " {'date': 'Aug 2012', 'value': '0.2%', 'x': 525, 'y': 630.5},\n",
       " {'date': 'Jul 2012', 'value': '0.2%', 'x': 524, 'y': 630.5},\n",
       " {'date': 'Jun 2012', 'value': '-0.1%', 'x': 522, 'y': 630.5},\n",
       " {'date': 'May 2012', 'value': '-0.1%', 'x': 520, 'y': 630.5},\n",
       " {'date': 'Apr 2012', 'value': '-0.9%', 'x': 519, 'y': 630.5},\n",
       " {'date': 'Mar 2012', 'value': '0.9%', 'x': 517, 'y': 630.5},\n",
       " {'date': 'Feb 2012', 'value': '-0.3%', 'x': 515, 'y': 630.5},\n",
       " {'date': 'Jan 2012', 'value': '-0.5%', 'x': 514, 'y': 630.5},\n",
       " {'date': 'Dec 2011', 'value': '1.2%', 'x': 512, 'y': 630.5},\n",
       " {'date': 'Nov 2011', 'value': '0.3%', 'x': 510, 'y': 630.5},\n",
       " {'date': 'Oct 2011', 'value': '0.8%', 'x': 509, 'y': 630.5},\n",
       " {'date': 'Sep 2011', 'value': '0.7%', 'x': 507, 'y': 630.5},\n",
       " {'date': 'Aug 2011', 'value': '0.3%', 'x': 505, 'y': 630.5},\n",
       " {'date': 'Jul 2011', 'value': '-0.6%', 'x': 504, 'y': 630.5},\n",
       " {'date': 'Jun 2011', 'value': '1%', 'x': 502, 'y': 630.5},\n",
       " {'date': 'May 2011', 'value': '-0.4%', 'x': 500, 'y': 630.5},\n",
       " {'date': 'Apr 2011', 'value': '0.7%', 'x': 499, 'y': 630.5},\n",
       " {'date': 'Mar 2011', 'value': '0.6%', 'x': 497, 'y': 630.5},\n",
       " {'date': 'Feb 2011', 'value': '0.3%', 'x': 496, 'y': 630.5},\n",
       " {'date': 'Jan 2011', 'value': '-0.3%', 'x': 494, 'y': 630.5},\n",
       " {'date': 'Dec 2010', 'value': '-0.3%', 'x': 492, 'y': 630.5},\n",
       " {'date': 'Nov 2010', 'value': '1.9%', 'x': 491, 'y': 630.5},\n",
       " {'date': 'Oct 2010', 'value': '0.7%', 'x': 489, 'y': 630.5},\n",
       " {'date': 'Sep 2010', 'value': '0.3%', 'x': 487, 'y': 630.5},\n",
       " {'date': 'Aug 2010', 'value': '0.3%', 'x': 486, 'y': 630.5},\n",
       " {'date': 'Jul 2010', 'value': '0.1%', 'x': 484, 'y': 630.5},\n",
       " {'date': 'Jun 2010', 'value': '0.7%', 'x': 482, 'y': 630.5},\n",
       " {'date': 'May 2010', 'value': '-0.9%', 'x': 481, 'y': 630.5},\n",
       " {'date': 'Apr 2010', 'value': '-1.3%', 'x': 479, 'y': 630.5},\n",
       " {'date': 'Mar 2010', 'value': '2.3%', 'x': 477, 'y': 630.5},\n",
       " {'date': 'Feb 2010', 'value': '-0.1%', 'x': 476, 'y': 630.5},\n",
       " {'date': 'Jan 2010', 'value': '1.2%', 'x': 474, 'y': 630.5},\n",
       " {'date': 'Dec 2009', 'value': '1.6%', 'x': 473, 'y': 630.5},\n",
       " {'date': 'Nov 2009', 'value': '-1%', 'x': 471, 'y': 630.5},\n",
       " {'date': 'Oct 2009', 'value': '0.5%', 'x': 469, 'y': 630.5},\n",
       " {'date': 'Sep 2009', 'value': '0.9%', 'x': 468, 'y': 630.5},\n",
       " {'date': 'Aug 2009', 'value': '0.6%', 'x': 466, 'y': 630.5},\n",
       " {'date': 'Jul 2009', 'value': '-0.1%', 'x': 464, 'y': 630.5},\n",
       " {'date': 'Jun 2009', 'value': '1.1%', 'x': 463, 'y': 630.5},\n",
       " {'date': 'May 2009', 'value': '1.3%', 'x': 461, 'y': 630.5},\n",
       " {'date': 'Apr 2009', 'value': '0.3%', 'x': 459, 'y': 630.5},\n",
       " {'date': 'Mar 2009', 'value': '-0.1%', 'x': 458, 'y': 630.5},\n",
       " {'date': 'Feb 2009', 'value': '0.2%', 'x': 456, 'y': 630.5},\n",
       " {'date': 'Jan 2009', 'value': '1.5%', 'x': 454, 'y': 630.5},\n",
       " {'date': 'Dec 2008', 'value': '-3.9%', 'x': 453, 'y': 630.5},\n",
       " {'date': 'Nov 2008', 'value': '-3%', 'x': 451, 'y': 630.5},\n",
       " {'date': 'Oct 2008', 'value': '-1.8%', 'x': 449, 'y': 630.5},\n",
       " {'date': 'Sep 2008', 'value': '0.7%', 'x': 448, 'y': 630.5},\n",
       " {'date': 'Aug 2008', 'value': '-0.7%', 'x': 446, 'y': 630.5},\n",
       " {'date': 'Jul 2008', 'value': '0%', 'x': 444, 'y': 630.5},\n",
       " {'date': 'Jun 2008', 'value': '1.1%', 'x': 443, 'y': 630.5},\n",
       " {'date': 'May 2008', 'value': '0.3%', 'x': 441, 'y': 630.5},\n",
       " {'date': 'Apr 2008', 'value': '1.1%', 'x': 440, 'y': 630.5},\n",
       " {'date': 'Mar 2008', 'value': '0%', 'x': 438, 'y': 630.5},\n",
       " {'date': 'Feb 2008', 'value': '-1.1%', 'x': 436, 'y': 630.5},\n",
       " {'date': 'Jan 2008', 'value': '0.9%', 'x': 435, 'y': 630.5},\n",
       " {'date': 'Dec 2007', 'value': '1.9%', 'x': 433, 'y': 630.5},\n",
       " {'date': 'Nov 2007', 'value': '1.9%', 'x': 431, 'y': 630.5},\n",
       " {'date': 'Oct 2007', 'value': '-0.1%', 'x': 430, 'y': 630.5},\n",
       " {'date': 'Sep 2007', 'value': '-1.1%', 'x': 428, 'y': 630.5},\n",
       " {'date': 'Aug 2007', 'value': '0.9%', 'x': 426, 'y': 630.5},\n",
       " {'date': 'Jul 2007', 'value': '0%', 'x': 425, 'y': 630.5},\n",
       " {'date': 'Jun 2007', 'value': '-1%', 'x': 423, 'y': 630.5},\n",
       " {'date': 'May 2007', 'value': '1.2%', 'x': 421, 'y': 630.5},\n",
       " {'date': 'Apr 2007', 'value': '1.4%', 'x': 420, 'y': 630.5},\n",
       " {'date': 'Mar 2007', 'value': '1.3%', 'x': 418, 'y': 630.5},\n",
       " {'date': 'Feb 2007', 'value': '0.7%', 'x': 416, 'y': 630.5},\n",
       " {'date': 'Jan 2007', 'value': '-0.9%', 'x': 415, 'y': 630.5},\n",
       " {'date': 'Dec 2006', 'value': '2.1%', 'x': 413, 'y': 630.5},\n",
       " {'date': 'Nov 2006', 'value': '0.7%', 'x': 412, 'y': 630.5},\n",
       " {'date': 'Oct 2006', 'value': '0.3%', 'x': 410, 'y': 630.5},\n",
       " {'date': 'Sep 2006', 'value': '-1.6%', 'x': 408, 'y': 630.5},\n",
       " {'date': 'Aug 2006', 'value': '-0.1%', 'x': 407, 'y': 630.5},\n",
       " {'date': 'Jul 2006', 'value': '2.5%', 'x': 405, 'y': 630.5},\n",
       " {'date': 'Jun 2006', 'value': '0.6%', 'x': 403, 'y': 630.5},\n",
       " {'date': 'May 2006', 'value': '-0.9%', 'x': 402, 'y': 630.5},\n",
       " {'date': 'Apr 2006', 'value': '1.5%', 'x': 400, 'y': 630.5},\n",
       " {'date': 'Mar 2006', 'value': '0.4%', 'x': 398, 'y': 630.5},\n",
       " {'date': 'Feb 2006', 'value': '0%', 'x': 397, 'y': 630.5},\n",
       " {'date': 'Jan 2006', 'value': '1.7%', 'x': 395, 'y': 630.5},\n",
       " {'date': 'Dec 2005', 'value': '0.7%', 'x': 393, 'y': 630.5},\n",
       " {'date': 'Nov 2005', 'value': '0.4%', 'x': 392, 'y': 630.5},\n",
       " {'date': 'Oct 2005', 'value': '0.9%', 'x': 390, 'y': 630.5},\n",
       " {'date': 'Sep 2005', 'value': '-0.2%', 'x': 389, 'y': 630.5},\n",
       " {'date': 'Aug 2005', 'value': '-0.5%', 'x': 387, 'y': 630.5},\n",
       " {'date': 'Jul 2005', 'value': '0.7%', 'x': 385, 'y': 630.5},\n",
       " {'date': 'Jun 2005', 'value': '2.2%', 'x': 384, 'y': 630.5},\n",
       " {'date': 'May 2005', 'value': '0%', 'x': 382, 'y': 630.5},\n",
       " {'date': 'Apr 2005', 'value': '-0.2%', 'x': 380, 'y': 630.5},\n",
       " {'date': 'Mar 2005', 'value': '-1.5%', 'x': 379, 'y': 630.5},\n",
       " {'date': 'Feb 2005', 'value': '1.9%', 'x': 377, 'y': 630.5},\n",
       " {'date': 'Jan 2005', 'value': '1%', 'x': 375, 'y': 630.5},\n",
       " {'date': 'Dec 2004', 'value': '-1%', 'x': 374, 'y': 630.5},\n",
       " {'date': 'Nov 2004', 'value': '1.1%', 'x': 372, 'y': 630.5},\n",
       " {'date': 'Oct 2004', 'value': '1.1%', 'x': 370, 'y': 630.5},\n",
       " {'date': 'Sep 2004', 'value': '1.4%', 'x': 369, 'y': 630.5},\n",
       " {'date': 'Aug 2004', 'value': '0.8%', 'x': 367, 'y': 630.5},\n",
       " {'date': 'Jul 2004', 'value': '0.2%', 'x': 365, 'y': 630.5},\n",
       " {'date': 'Jun 2004', 'value': '0%', 'x': 364, 'y': 630.5},\n",
       " {'date': 'May 2004', 'value': '1.1%', 'x': 362, 'y': 630.5},\n",
       " {'date': 'Apr 2004', 'value': '-1.5%', 'x': 360, 'y': 630.5},\n",
       " {'date': 'Mar 2004', 'value': '-0.1%', 'x': 359, 'y': 630.5},\n",
       " {'date': 'Feb 2004', 'value': '2.8%', 'x': 357, 'y': 630.5},\n",
       " {'date': 'Jan 2004', 'value': '0.8%', 'x': 356, 'y': 630.5},\n",
       " {'date': 'Dec 2003', 'value': '-0.3%', 'x': 354, 'y': 630.5},\n",
       " {'date': 'Nov 2003', 'value': '-0.2%', 'x': 352, 'y': 630.5},\n",
       " {'date': 'Oct 2003', 'value': '-0.1%', 'x': 351, 'y': 630.5},\n",
       " {'date': 'Sep 2003', 'value': '-0.6%', 'x': 349, 'y': 630.5},\n",
       " {'date': 'Aug 2003', 'value': '1.1%', 'x': 347, 'y': 630.5},\n",
       " {'date': 'Jul 2003', 'value': '0.5%', 'x': 346, 'y': 630.5},\n",
       " {'date': 'Jun 2003', 'value': '0.3%', 'x': 344, 'y': 630.5},\n",
       " {'date': 'May 2003', 'value': '1.1%', 'x': 342, 'y': 630.5},\n",
       " {'date': 'Apr 2003', 'value': '-0.4%', 'x': 341, 'y': 630.5},\n",
       " {'date': 'Mar 2003', 'value': '-1.3%', 'x': 339, 'y': 630.5},\n",
       " {'date': 'Feb 2003', 'value': '1.8%', 'x': 337, 'y': 630.5},\n",
       " {'date': 'Jan 2003', 'value': '-0.1%', 'x': 336, 'y': 630.5},\n",
       " {'date': 'Dec 2002', 'value': '0.6%', 'x': 334, 'y': 630.5},\n",
       " {'date': 'Nov 2002', 'value': '-0.2%', 'x': 333, 'y': 630.5},\n",
       " {'date': 'Oct 2002', 'value': '1.7%', 'x': 331, 'y': 630.5},\n",
       " {'date': 'Sep 2002', 'value': '-0.5%', 'x': 329, 'y': 630.5},\n",
       " {'date': 'Aug 2002', 'value': '0.6%', 'x': 328, 'y': 630.5},\n",
       " {'date': 'Jul 2002', 'value': '-0.6%', 'x': 326, 'y': 630.5},\n",
       " {'date': 'Jun 2002', 'value': '2.3%', 'x': 324, 'y': 630.5},\n",
       " {'date': 'May 2002', 'value': '-1.8%', 'x': 323, 'y': 630.5},\n",
       " {'date': 'Apr 2002', 'value': '2.2%', 'x': 321, 'y': 630.5},\n",
       " {'date': 'Mar 2002', 'value': '-0.1%', 'x': 319, 'y': 630.5},\n",
       " {'date': 'Feb 2002', 'value': '-1.5%', 'x': 318, 'y': 630.5},\n",
       " {'date': 'Jan 2002', 'value': '1.4%', 'x': 316, 'y': 630.5},\n",
       " {'date': 'Dec 2001', 'value': '1.8%', 'x': 314, 'y': 630.5},\n",
       " {'date': 'Nov 2001', 'value': '2%', 'x': 313, 'y': 630.5},\n",
       " {'date': 'Oct 2001', 'value': '1.8%', 'x': 311, 'y': 630.5},\n",
       " {'date': 'Sep 2001', 'value': '-1.3%', 'x': 309, 'y': 630.5},\n",
       " {'date': 'Aug 2001', 'value': '0.8%', 'x': 308, 'y': 630.5},\n",
       " {'date': 'Jul 2001', 'value': '-1.5%', 'x': 306, 'y': 630.5},\n",
       " {'date': 'Jun 2001', 'value': '0.2%', 'x': 304, 'y': 630.5},\n",
       " {'date': 'May 2001', 'value': '0.8%', 'x': 303, 'y': 630.5},\n",
       " {'date': 'Apr 2001', 'value': '1.5%', 'x': 301, 'y': 630.5},\n",
       " {'date': 'Mar 2001', 'value': '0.4%', 'x': 300, 'y': 630.5},\n",
       " {'date': 'Feb 2001', 'value': '-0.7%', 'x': 298, 'y': 630.5},\n",
       " {'date': 'Jan 2001', 'value': '0.5%', 'x': 296, 'y': 630.5},\n",
       " {'date': 'Dec 2000', 'value': '0.6%', 'x': 295, 'y': 630.5},\n",
       " {'date': 'Nov 2000', 'value': '0.2%', 'x': 293, 'y': 630.5},\n",
       " {'date': 'Oct 2000', 'value': '-0.7%', 'x': 291, 'y': 630.5},\n",
       " {'date': 'Sep 2000', 'value': '0.9%', 'x': 290, 'y': 630.5},\n",
       " {'date': 'Aug 2000', 'value': '0.3%', 'x': 288, 'y': 630.5},\n",
       " {'date': 'Jul 2000', 'value': '1.5%', 'x': 286, 'y': 630.5},\n",
       " {'date': 'Jun 2000', 'value': '0.8%', 'x': 285, 'y': 630.5},\n",
       " {'date': 'May 2000', 'value': '0.5%', 'x': 283, 'y': 630.5},\n",
       " {'date': 'Apr 2000', 'value': '-1.2%', 'x': 281, 'y': 630.5},\n",
       " {'date': 'Mar 2000', 'value': '1.9%', 'x': 280, 'y': 630.5},\n",
       " {'date': 'Feb 2000', 'value': '-0.2%', 'x': 278, 'y': 630.5},\n",
       " {'date': 'Jan 2000', 'value': '0.2%', 'x': 277, 'y': 630.5},\n",
       " {'date': 'Dec 1999', 'value': '1.5%', 'x': 275, 'y': 630.5},\n",
       " {'date': 'Nov 1999', 'value': '0.3%', 'x': 273, 'y': 630.5},\n",
       " {'date': 'Oct 1999', 'value': '0.7%', 'x': 272, 'y': 630.5},\n",
       " {'date': 'Sep 1999', 'value': '0%', 'x': 270, 'y': 630.5},\n",
       " {'date': 'Aug 1999', 'value': '0.8%', 'x': 268, 'y': 630.5},\n",
       " {'date': 'Jul 1999', 'value': '0.7%', 'x': 267, 'y': 630.5},\n",
       " {'date': 'Jun 1999', 'value': '0.7%', 'x': 265, 'y': 630.5},\n",
       " {'date': 'May 1999', 'value': '-0.4%', 'x': 263, 'y': 630.5},\n",
       " {'date': 'Apr 1999', 'value': '-0.1%', 'x': 262, 'y': 630.5},\n",
       " {'date': 'Mar 1999', 'value': '0.5%', 'x': 260, 'y': 630.5},\n",
       " {'date': 'Feb 1999', 'value': '1%', 'x': 258, 'y': 630.5},\n",
       " {'date': 'Jan 1999', 'value': '2.2%', 'x': 257, 'y': 630.5},\n",
       " {'date': 'Dec 1998', 'value': '-0.5%', 'x': 255, 'y': 630.5},\n",
       " {'date': 'Nov 1998', 'value': '0.7%', 'x': 253, 'y': 630.5},\n",
       " {'date': 'Oct 1998', 'value': '-0.4%', 'x': 252, 'y': 630.5},\n",
       " {'date': 'Sep 1998', 'value': '1.5%', 'x': 250, 'y': 630.5},\n",
       " {'date': 'Aug 1998', 'value': '-0.2%', 'x': 248, 'y': 630.5},\n",
       " {'date': 'Jul 1998', 'value': '0.7%', 'x': 247, 'y': 630.5},\n",
       " {'date': 'Jun 1998', 'value': '-1.2%', 'x': 245, 'y': 630.5},\n",
       " {'date': 'May 1998', 'value': '0%', 'x': 244, 'y': 630.5},\n",
       " {'date': 'Apr 1998', 'value': '2.2%', 'x': 242, 'y': 630.5},\n",
       " {'date': 'Mar 1998', 'value': '-0.5%', 'x': 240, 'y': 630.5},\n",
       " {'date': 'Feb 1998', 'value': '1.8%', 'x': 239, 'y': 630.5},\n",
       " {'date': 'Jan 1998', 'value': '-4.5%', 'x': 237, 'y': 630.5},\n",
       " {'date': 'Dec 1997', 'value': '3.7%', 'x': 235, 'y': 630.5},\n",
       " {'date': 'Nov 1997', 'value': '-0.3%', 'x': 234, 'y': 630.5},\n",
       " {'date': 'Oct 1997', 'value': '1.9%', 'x': 232, 'y': 630.5},\n",
       " {'date': 'Sep 1997', 'value': '0.2%', 'x': 230, 'y': 630.5},\n",
       " {'date': 'Aug 1997', 'value': '-0.4%', 'x': 229, 'y': 630.5},\n",
       " {'date': 'Jul 1997', 'value': '1%', 'x': 227, 'y': 630.5},\n",
       " {'date': 'Jun 1997', 'value': '0.4%', 'x': 225, 'y': 630.5},\n",
       " {'date': 'May 1997', 'value': '0.8%', 'x': 224, 'y': 630.5},\n",
       " {'date': 'Apr 1997', 'value': '0.8%', 'x': 222, 'y': 630.5},\n",
       " {'date': 'Mar 1997', 'value': '-0.4%', 'x': 220, 'y': 630.5},\n",
       " {'date': 'Feb 1997', 'value': '1.4%', 'x': 219, 'y': 630.5},\n",
       " {'date': 'Jan 1997', 'value': '0.9%', 'x': 217, 'y': 630.5},\n",
       " {'date': 'Dec 1996', 'value': '-0.7%', 'x': 216, 'y': 630.5},\n",
       " {'date': 'Nov 1996', 'value': '1.7%', 'x': 214, 'y': 630.5},\n",
       " {'date': 'Oct 1996', 'value': '2.5%', 'x': 212, 'y': 630.5},\n",
       " {'date': 'Sep 1996', 'value': '-0.3%', 'x': 211, 'y': 630.5},\n",
       " {'date': 'Aug 1996', 'value': '0.8%', 'x': 209, 'y': 630.5},\n",
       " {'date': 'Jul 1996', 'value': '-0.3%', 'x': 207, 'y': 630.5},\n",
       " {'date': 'Jun 1996', 'value': '1.2%', 'x': 206, 'y': 630.5},\n",
       " {'date': 'May 1996', 'value': '0.1%', 'x': 204, 'y': 630.5},\n",
       " {'date': 'Apr 1996', 'value': '-0.2%', 'x': 202, 'y': 630.5},\n",
       " {'date': 'Mar 1996', 'value': '0.6%', 'x': 201, 'y': 630.5},\n",
       " {'date': 'Feb 1996', 'value': '0.7%', 'x': 199, 'y': 630.5},\n",
       " {'date': 'Jan 1996', 'value': '0%', 'x': 197, 'y': 630.5},\n",
       " {'date': 'Dec 1995', 'value': '0.1%', 'x': 196, 'y': 630.5},\n",
       " {'date': 'Nov 1995', 'value': '0.5%', 'x': 194, 'y': 630.5},\n",
       " {'date': 'Oct 1995', 'value': '-1.2%', 'x': 192, 'y': 630.5},\n",
       " {'date': 'Sep 1995', 'value': '-0.5%', 'x': 191, 'y': 630.5},\n",
       " {'date': 'Aug 1995', 'value': '1.7%', 'x': 189, 'y': 630.5},\n",
       " {'date': 'Jul 1995', 'value': '-0.5%', 'x': 188, 'y': 630.5},\n",
       " {'date': 'Jun 1995', 'value': '0.9%', 'x': 186, 'y': 630.5},\n",
       " {'date': 'May 1995', 'value': '0.6%', 'x': 184, 'y': 630.5},\n",
       " {'date': 'Apr 1995', 'value': '0%', 'x': 183, 'y': 630.5},\n",
       " {'date': 'Mar 1995', 'value': '-0.2%', 'x': 181, 'y': 630.5},\n",
       " {'date': 'Feb 1995', 'value': '-0.4%', 'x': 179, 'y': 630.5},\n",
       " {'date': 'Jan 1995', 'value': '-0.3%', 'x': 178, 'y': 630.5},\n",
       " {'date': 'Dec 1994', 'value': '0.7%', 'x': 176, 'y': 630.5},\n",
       " {'date': 'Nov 1994', 'value': '0.4%', 'x': 174, 'y': 630.5},\n",
       " {'date': 'Oct 1994', 'value': '1.3%', 'x': 173, 'y': 630.5},\n",
       " {'date': 'Sep 1994', 'value': '0.4%', 'x': 171, 'y': 630.5},\n",
       " {'date': 'Aug 1994', 'value': '0.5%', 'x': 169, 'y': 630.5},\n",
       " {'date': 'Jul 1994', 'value': '-0.5%', 'x': 168, 'y': 630.5},\n",
       " {'date': 'Jun 1994', 'value': '0.6%', 'x': 166, 'y': 630.5},\n",
       " {'date': 'May 1994', 'value': '1.5%', 'x': 164, 'y': 630.5},\n",
       " {'date': 'Apr 1994', 'value': '-2.1%', 'x': 163, 'y': 630.5},\n",
       " {'date': 'Mar 1994', 'value': '2.9%', 'x': 161, 'y': 630.5},\n",
       " {'date': 'Feb 1994', 'value': '1.9%', 'x': 160, 'y': 630.5},\n",
       " {'date': 'Jan 1994', 'value': '0.3%', 'x': 158, 'y': 630.5},\n",
       " {'date': 'Dec 1993', 'value': '0.4%', 'x': 156, 'y': 630.5},\n",
       " {'date': 'Nov 1993', 'value': '0.8%', 'x': 155, 'y': 630.5},\n",
       " {'date': 'Oct 1993', 'value': '0.4%', 'x': 153, 'y': 630.5},\n",
       " {'date': 'Sep 1993', 'value': '0.3%', 'x': 151, 'y': 630.5},\n",
       " {'date': 'Aug 1993', 'value': '-0.1%', 'x': 150, 'y': 630.5},\n",
       " {'date': 'Jul 1993', 'value': '2.2%', 'x': 148, 'y': 630.5},\n",
       " {'date': 'Jun 1993', 'value': '-0.7%', 'x': 146, 'y': 630.5},\n",
       " {'date': 'May 1993', 'value': '-0.6%', 'x': 145, 'y': 630.5},\n",
       " {'date': 'Apr 1993', 'value': '1.6%', 'x': 143, 'y': 630.5},\n",
       " {'date': 'Mar 1993', 'value': '0.5%', 'x': 141, 'y': 630.5},\n",
       " {'date': 'Feb 1993', 'value': '-1%', 'x': 140, 'y': 630.5},\n",
       " {'date': 'Jan 1993', 'value': '1.9%', 'x': 138, 'y': 630.5},\n",
       " {'date': 'Dec 1992', 'value': '0.3%', 'x': 137, 'y': 630.5},\n",
       " {'date': 'Nov 1992', 'value': '-0.5%', 'x': 135, 'y': 630.5},\n",
       " {'date': 'Oct 1992', 'value': '0.9%', 'x': 133, 'y': 630.5},\n",
       " {'date': 'Sep 1992', 'value': '0.9%', 'x': 132, 'y': 630.5},\n",
       " {'date': 'Aug 1992', 'value': '-0.2%', 'x': 130, 'y': 630.5},\n",
       " {'date': 'Jul 1992', 'value': '0.3%', 'x': 128, 'y': 630.5},\n",
       " {'date': 'Jun 1992', 'value': '1.2%', 'x': 127, 'y': 630.5},\n",
       " {'date': 'May 1992', 'value': '-0.4%', 'x': 125, 'y': 630.5},\n",
       " {'date': 'Apr 1992', 'value': '1.2%', 'x': 123, 'y': 630.5},\n",
       " {'date': 'Mar 1992', 'value': '0.1%', 'x': 122, 'y': 630.5},\n",
       " {'date': 'Feb 1992', 'value': '0.2%', 'x': 120, 'y': 630.5},\n",
       " {'date': 'Jan 1992', 'value': '0.8%', 'x': 118, 'y': 630.5},\n",
       " {'date': 'Dec 1991', 'value': '-2%', 'x': 117, 'y': 630.5},\n",
       " {'date': 'Nov 1991', 'value': '1.6%', 'x': 115, 'y': 630.5},\n",
       " {'date': 'Oct 1991', 'value': '-0.1%', 'x': 113, 'y': 630.5},\n",
       " {'date': 'Sep 1991', 'value': '0%', 'x': 112, 'y': 630.5},\n",
       " {'date': 'Aug 1991', 'value': '-0.8%', 'x': 110, 'y': 630.5},\n",
       " {'date': 'Jul 1991', 'value': '0.3%', 'x': 108, 'y': 630.5},\n",
       " {'date': 'Jun 1991', 'value': '-1.1%', 'x': 107, 'y': 630.5},\n",
       " {'date': 'May 1991', 'value': '2.5%', 'x': 105, 'y': 630.5},\n",
       " {'date': 'Apr 1991', 'value': '-0.8%', 'x': 104, 'y': 630.5},\n",
       " {'date': 'Mar 1991', 'value': '0.7%', 'x': 102, 'y': 630.5},\n",
       " {'date': 'Feb 1991', 'value': '1.8%', 'x': 100, 'y': 630.5}]"
      ]
     },
     "execution_count": 15,
     "metadata": {},
     "output_type": "execute_result"
    }
   ],
   "source": [
    "scr.tooltip_scraper.latest_points_js(num_points=\"all\", force_shortest_span=False)"
   ]
  },
  {
   "cell_type": "code",
   "execution_count": 16,
   "metadata": {},
   "outputs": [
    {
     "name": "stderr",
     "output_type": "stream",
     "text": [
      "INFO - New firefox webdriver created.\n",
      "INFO - scrape_chart function: Scraping chart at: https://tradingeconomics.com/canada/retail-sales, time: 2025-03-24 14:57:23.772794, method: highcharts_api\n",
      "INFO - Page loaded successfully.\n",
      "INFO - Chart types dictionary created successfully: dict_keys(['Column', 'Spline', 'Areaspline', 'Stepline', 'Line', 'Area'])\n",
      "INFO - Date span set to: 1Y\n",
      "INFO - \n",
      "Series metadata: \n",
      " {'units': '%', 'original_source': 'Statistics Canada', 'title': 'Canada Retail Sales MoM', 'indicator': 'retail sales', 'country': 'canada', 'source': 'Trading Economics', 'id': 'canada/retail-sales'}\n",
      "INFO - Date span set to custom range: 1850-01-01 to 2025-03-24 (using JavaScript)\n",
      "INFO - Successfully extracted series data from Highcharts.\n",
      "INFO - Successfully scraped series from Highcharts API.\n"
     ]
    }
   ],
   "source": [
    "scraped = ted.scrape_chart(country=\"canada\", indicator=\"retail-sales\")"
   ]
  },
  {
   "cell_type": "code",
   "execution_count": null,
   "metadata": {},
   "outputs": [],
   "source": []
  }
 ],
 "metadata": {
  "kernelspec": {
   "display_name": "ted",
   "language": "python",
   "name": "python3"
  },
  "language_info": {
   "codemirror_mode": {
    "name": "ipython",
    "version": 3
   },
   "file_extension": ".py",
   "mimetype": "text/x-python",
   "name": "python",
   "nbconvert_exporter": "python",
   "pygments_lexer": "ipython3",
   "version": "3.11.11"
  }
 },
 "nbformat": 4,
 "nbformat_minor": 2
}
