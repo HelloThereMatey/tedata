{
 "cells": [
  {
   "cell_type": "code",
   "execution_count": 1,
   "metadata": {},
   "outputs": [
    {
     "name": "stderr",
     "output_type": "stream",
     "text": [
      "INFO - tedata package initialized successfully!\n"
     ]
    }
   ],
   "source": [
    "import sys\n",
    "import os\n",
    "import pandas as pd\n",
    "from pprint import pprint\n",
    "wd = %pwd\n",
    "parent = os.path.dirname(wd)\n",
    "fdel = os.path.sep\n",
    "sys.path.append(parent+fdel+\"src\")\n",
    "from tedata import TE_Scraper, base\n",
    "from tedata.utils import extract_and_convert_value, convert_metric_prefix, ready_datestr"
   ]
  },
  {
   "cell_type": "code",
   "execution_count": 29,
   "metadata": {},
   "outputs": [
    {
     "name": "stderr",
     "output_type": "stream",
     "text": [
      "INFO - Closing 1 active TE_Scraper instances...\n",
      "INFO - Closing TE_Scraper instance\n",
      "INFO - Scraper resources successfully released\n",
      "INFO - Quitting 1 active webdriver instances...\n",
      "INFO - Quitting driver (age: 365.4s)\n"
     ]
    },
    {
     "data": {
      "text/plain": [
       "{'Active webdrivers': [], 'Active TE_Scrapers': []}"
      ]
     },
     "execution_count": 29,
     "metadata": {},
     "output_type": "execute_result"
    }
   ],
   "source": [
    "base.find_active_drivers(close_all_drivers=True, close__all_scrapers=True)"
   ]
  },
  {
   "cell_type": "code",
   "execution_count": 30,
   "metadata": {},
   "outputs": [
    {
     "name": "stderr",
     "output_type": "stream",
     "text": [
      "INFO - New firefox webdriver created.\n",
      "INFO - Chart types dictionary created successfully: dict_keys(['Column', 'Spline', 'Areaspline', 'Stepline', 'Line', 'Area'])\n",
      "INFO - Date span set to: 6M\n",
      "INFO - \n",
      "Series metadata: \n",
      " {'units': 'points', 'original_source': 'S&P Global', 'title': 'Australia S&P Global Manufacturing PMI', 'indicator': 'manufacturing pmi', 'country': 'australia', 'source': 'Trading Economics', 'id': 'australia/manufacturing-pmi'}\n"
     ]
    }
   ],
   "source": [
    "# Test the scaling plot\n",
    "url = 'https://tradingeconomics.com/australia/manufacturing-pmi'\n",
    "scr = TE_Scraper(use_existing_driver = True, headless = True)  ## Initialize a new TE_scraper object.\n",
    "scr.load_page(url, extra_wait_time=3) \n",
    "scr.scrape_metadata() ## Scrape the metadata for the data series from the page."
   ]
  },
  {
   "cell_type": "code",
   "execution_count": 8,
   "metadata": {},
   "outputs": [
    {
     "data": {
      "text/plain": [
       "OrderedDict([('6M', 'a.hawk-chartOptions-datePicker-cnt-btn:nth-child(1)'),\n",
       "             ('1Y', 'a.hawk-chartOptions-datePicker-cnt-btn:nth-child(2)'),\n",
       "             ('2Y', 'a.hawk-chartOptions-datePicker-cnt-btn:nth-child(3)'),\n",
       "             ('3Y', 'a.hawk-chartOptions-datePicker-cnt-btn:nth-child(4)')])"
      ]
     },
     "execution_count": 8,
     "metadata": {},
     "output_type": "execute_result"
    }
   ],
   "source": [
    "scr.date_spans"
   ]
  },
  {
   "cell_type": "code",
   "execution_count": 23,
   "metadata": {},
   "outputs": [],
   "source": [
    "active = base.find_active_drivers()"
   ]
  },
  {
   "cell_type": "code",
   "execution_count": 27,
   "metadata": {},
   "outputs": [
    {
     "data": {
      "text/plain": [
       "<tedata.base.TimestampedFirefox (session=\"dc6e1ee4-197c-4ad0-863d-c6fd56c6f9b8\")>"
      ]
     },
     "execution_count": 27,
     "metadata": {},
     "output_type": "execute_result"
    }
   ],
   "source": [
    "active['Active webdrivers'][-1][0]"
   ]
  },
  {
   "cell_type": "code",
   "execution_count": 9,
   "metadata": {},
   "outputs": [
    {
     "name": "stderr",
     "output_type": "stream",
     "text": [
      "INFO - Chart type set to: Spline (using JavaScript)\n",
      "INFO - TooltipScraper object initialised successfully.\n",
      "INFO - Chart type set to: Spline (using JavaScript)\n",
      "INFO - Time taken to select chart type: 0.7702471400043578\n",
      "INFO - Time taken to execute JS code: 3.7932052559990552\n"
     ]
    },
    {
     "name": "stdout",
     "output_type": "stream",
     "text": [
      "Latest dates:  ['Feb 2025', 'Jan 2025', 'Dec 2024', 'Nov 2024', 'Oct 2024', 'Sep 2024', 'Aug 2024']\n",
      "MS\n"
     ]
    }
   ],
   "source": [
    "scr.set_chartType_js(\"Spline\")\n",
    "scr.init_tooltipScraper()\n",
    "datapoints = scr.tooltip_scraper.latest_points_js(num_points=10)\n",
    "\n",
    "# Convert metric prefixes for the values in each datapoint\n",
    "for point in datapoints:\n",
    "    point[\"value\"] = extract_and_convert_value(point[\"value\"])[0]\n",
    "    point[\"date\"] = ready_datestr(point[\"date\"])\n",
    "latest_dates = [point[\"date\"] for point in datapoints]\n",
    "print(\"Latest dates: \", latest_dates)\n",
    "\n",
    "## Get the frequency of the time series\n",
    "date_series = pd.Series(latest_dates[::-1]).astype(\"datetime64[ns]\")\n",
    "print(pd.infer_freq(date_series))"
   ]
  },
  {
   "cell_type": "code",
   "execution_count": 10,
   "metadata": {},
   "outputs": [
    {
     "name": "stderr",
     "output_type": "stream",
     "text": [
      "INFO - Date span set to custom range: 1850-01-01 to 2025-03-14 (using JavaScript)\n"
     ]
    }
   ],
   "source": [
    "scr.set_max_date_span_viaCalendar()"
   ]
  },
  {
   "cell_type": "code",
   "execution_count": 12,
   "metadata": {},
   "outputs": [
    {
     "name": "stderr",
     "output_type": "stream",
     "text": [
      "INFO - Successfully retrieved first/last dates.\n"
     ]
    },
    {
     "name": "stdout",
     "output_type": "stream",
     "text": [
      "Converted start_date: 2022-02-01 00:00:00\n",
      "Converted end_date: 2025-02-01 00:00:00\n"
     ]
    },
    {
     "data": {
      "text/plain": [
       "{'end_date': Timestamp('2025-02-01 00:00:00'),\n",
       " 'end_value': None,\n",
       " 'start_date': Timestamp('2022-02-01 00:00:00'),\n",
       " 'start_value': None}"
      ]
     },
     "execution_count": 12,
     "metadata": {},
     "output_type": "execute_result"
    }
   ],
   "source": [
    "scr.tooltip_scraper.first_last_dates_js()"
   ]
  },
  {
   "cell_type": "code",
   "execution_count": 13,
   "metadata": {},
   "outputs": [
    {
     "name": "stdout",
     "output_type": "stream",
     "text": [
      "Using selenium and tooltip scraping to construct the date time index for the time-series, this'll take a bit...\n"
     ]
    },
    {
     "name": "stderr",
     "output_type": "stream",
     "text": [
      "INFO - Date span set to: 6M\n",
      "INFO - Chart type set to: Spline (using JavaScript)\n",
      "INFO - Time taken to select chart type: 0.6453067320035188\n",
      "INFO - Time taken to execute JS code: 3.9008790740044788\n"
     ]
    },
    {
     "name": "stdout",
     "output_type": "stream",
     "text": [
      "Frequency of time-series:  MS\n"
     ]
    },
    {
     "name": "stderr",
     "output_type": "stream",
     "text": [
      "INFO - Date span set to custom range: 1850-01-01 to 2025-03-14 (using JavaScript)\n",
      "INFO - Chart type set to: Spline (using JavaScript)\n",
      "INFO - Successfully retrieved first/last dates.\n"
     ]
    },
    {
     "name": "stdout",
     "output_type": "stream",
     "text": [
      "Converted end_date: 2025-02-01 00:00:00\n",
      "Retrying start_end extraction...\n"
     ]
    },
    {
     "name": "stderr",
     "output_type": "stream",
     "text": [
      "INFO - Successfully retrieved first/last dates.\n",
      "INFO - Start and end values scraped from tooltips: \n",
      "{'end_date': Timestamp('2025-02-01 00:00:00'), 'end_value': None, 'start_date': Timestamp('2022-02-01 00:00:00'), 'start_value': None}\n",
      "INFO - DateTimeIndex created successfully for the time-series.\n",
      "INFO - Y-axis values scraped successfully.\n"
     ]
    },
    {
     "name": "stdout",
     "output_type": "stream",
     "text": [
      "Converted start_date: 2022-02-01 00:00:00\n",
      "Converted end_date: 2025-02-01 00:00:00\n",
      "Start and end dates scraped from tooltips:  {'end_date': Timestamp('2025-02-01 00:00:00'), 'end_value': None, 'start_date': Timestamp('2022-02-01 00:00:00'), 'start_value': None}\n",
      "y_heights:  [335.5, 296.5, 256.5, 217.5, 178.5, 138.5, 99.5, 60.5, 39.5]\n",
      "pixheights:  [335.5, 296.5, 256.5, 217.5, 178.5, 138.5, 99.5, 60.5, 39.5]\n"
     ]
    },
    {
     "data": {
      "text/plain": [
       "pixheight\n",
       "335.5    45.0\n",
       "296.5    47.0\n",
       "256.5    49.0\n",
       "217.5    51.0\n",
       "178.5    53.0\n",
       "138.5    55.0\n",
       "99.5     57.0\n",
       "60.5     59.0\n",
       "39.5     60.0\n",
       "Name: ytick_label, dtype: float64"
      ]
     },
     "execution_count": 13,
     "metadata": {},
     "output_type": "execute_result"
    }
   ],
   "source": [
    "scr.make_x_index(force_rerun_freqdet=True, force_rerun_xlims=True)\n",
    "scr.get_y_axis(set_global_y_axis=True) "
   ]
  },
  {
   "cell_type": "code",
   "execution_count": 14,
   "metadata": {},
   "outputs": [
    {
     "name": "stderr",
     "output_type": "stream",
     "text": [
      "INFO - Series path extraction method: Extracting series data from chart soup.\n",
      "INFO - Date span: MAX. Chart type: .splineChart, URL: https://tradingeconomics.com/australia/manufacturing-pmi.\n"
     ]
    },
    {
     "data": {
      "text/plain": [
       "0.000000       99.000000\n",
       "0.000000       99.000000\n",
       "10.316058      91.953333\n",
       "17.193431      85.233333\n",
       "24.807664      77.793333\n",
       "                 ...    \n",
       "646.350182    236.666667\n",
       "653.964416    232.733333\n",
       "661.578650    228.800000\n",
       "673.000000    228.800000\n",
       "673.000000    228.800000\n",
       "Name: Extracted Series, Length: 109, dtype: float64"
      ]
     },
     "execution_count": 14,
     "metadata": {},
     "output_type": "execute_result"
    }
   ],
   "source": [
    "scr.series_from_chart_soup(set_max_datespan=True) ## Get the full series from the path element of the data trace on the svg chart.\n",
    "scr.series"
   ]
  },
  {
   "cell_type": "code",
   "execution_count": 15,
   "metadata": {},
   "outputs": [],
   "source": [
    "from matplotlib import pyplot as plt\n",
    "import pandas as pd\n",
    "#%matplotlib inline\n",
    "#%config InlineBackend.figure_format = 'retina'\n",
    "plt.rcParams['figure.figsize'] = [11, 4]\n",
    "plt.rcParams['figure.dpi'] = 140"
   ]
  },
  {
   "cell_type": "code",
   "execution_count": 16,
   "metadata": {},
   "outputs": [
    {
     "name": "stderr",
     "output_type": "stream",
     "text": [
      "INFO - DateTimeIndex applied to series, series attribute updated.\n"
     ]
    }
   ],
   "source": [
    "scr.apply_x_index()"
   ]
  },
  {
   "cell_type": "code",
   "execution_count": 17,
   "metadata": {},
   "outputs": [
    {
     "data": {
      "text/plain": [
       "2022-02-01     99.000000\n",
       "2022-03-01     85.233333\n",
       "2022-04-01     63.600000\n",
       "2022-05-01    124.566667\n",
       "2022-06-01    114.733333\n",
       "2022-07-01    124.566667\n",
       "2022-08-01    161.933333\n",
       "2022-09-01    167.833333\n",
       "2022-10-01    183.566667\n",
       "2022-11-01    211.100000\n",
       "2022-12-01    232.733333\n",
       "2023-01-01    236.666667\n",
       "2023-02-01    226.833333\n",
       "2023-03-01    254.366667\n",
       "2023-04-01    276.000000\n",
       "2023-05-01    268.133333\n",
       "2023-06-01    272.066667\n",
       "2023-07-01    244.533333\n",
       "2023-08-01    244.533333\n",
       "2023-09-01    262.233333\n",
       "2023-10-01    272.066667\n",
       "2023-11-01    281.900000\n",
       "2023-12-01    283.866667\n",
       "2024-01-01    234.700000\n",
       "2024-02-01    279.933333\n",
       "2024-03-01    289.766667\n",
       "2024-04-01    244.533333\n",
       "2024-05-01    242.566667\n",
       "2024-06-01    291.733333\n",
       "2024-07-01    285.833333\n",
       "2024-08-01    266.166667\n",
       "2024-09-01    301.566667\n",
       "2024-10-01    289.766667\n",
       "2024-11-01    248.466667\n",
       "2024-12-01    279.933333\n",
       "2025-01-01    232.733333\n",
       "2025-02-01    228.800000\n",
       "Freq: MS, Name: manufacturing pmi, dtype: float64"
      ]
     },
     "execution_count": 17,
     "metadata": {},
     "output_type": "execute_result"
    }
   ],
   "source": [
    "scr.series"
   ]
  },
  {
   "cell_type": "code",
   "execution_count": 18,
   "metadata": {},
   "outputs": [
    {
     "data": {
      "image/png": "[encoded data removed]",
      "text/plain": [
       "<Figure size 1540x560 with 1 Axes>"
      ]
     },
     "metadata": {},
     "output_type": "display_data"
    }
   ],
   "source": [
    "fig, ax = plt.subplots()\n",
    "ax.invert_yaxis()\n",
    "ax.plot(scr.series, label = 'Unscaled series', lw = 1, c = 'black')\n",
    "ax.set_ylim(scr.axis_limits[\"y_min\"], scr.axis_limits[\"y_max\"])\n",
    "ax.margins(0.01, 0.02)\n",
    "for px_pos, value in zip(scr.y_axis.index, scr.y_axis.values):\n",
    "    ax.axhline(y=px_pos, color='r', linestyle='--', alpha=0.5, lw = 1)\n",
    "    ax.text(max(scr.unscaled_series.index), px_pos, \n",
    "            f\"{value}\", va='center', ha='left', fontsize=8, color='b')"
   ]
  },
  {
   "cell_type": "code",
   "execution_count": 19,
   "metadata": {},
   "outputs": [
    {
     "name": "stderr",
     "output_type": "stream",
     "text": [
      "INFO - Scale series method:  \n",
      "unit_per_pix calculated from the y axis ticks: 0.050503663003663, \n",
      "unit_per_pix from axis limits and self.y_axis (probably best way): 0.05067567567567568\n",
      "yaxis top tick: 60.0, yaxis bot tick: 45.0\n",
      "axis_limits: 335.0, 40.0, y-axis series min & max pixel values: 335.5, 39.5\n"
     ]
    },
    {
     "name": "stdout",
     "output_type": "stream",
     "text": [
      "Unit per pix forumlation, 60.0, 45.0, 15.0, 296.0, 40.0, 335.0, 0.05067567567567568\n",
      "Series crosses zero, x-axis should be at about pixel y-cordinate:  None\n"
     ]
    },
    {
     "data": {
      "text/plain": [
       "2022-02-01    56.984797\n",
       "2022-03-01    57.682432\n",
       "2022-04-01    58.778716\n",
       "2022-05-01    55.689189\n",
       "2022-06-01    56.187500\n",
       "2022-07-01    55.689189\n",
       "2022-08-01    53.795608\n",
       "2022-09-01    53.496622\n",
       "2022-10-01    52.699324\n",
       "2022-11-01    51.304054\n",
       "2022-12-01    50.207770\n",
       "2023-01-01    50.008446\n",
       "2023-02-01    50.506757\n",
       "2023-03-01    49.111486\n",
       "2023-04-01    48.015203\n",
       "2023-05-01    48.413851\n",
       "2023-06-01    48.214527\n",
       "2023-07-01    49.609797\n",
       "2023-08-01    49.609797\n",
       "2023-09-01    48.712838\n",
       "2023-10-01    48.214527\n",
       "2023-11-01    47.716216\n",
       "2023-12-01    47.616554\n",
       "2024-01-01    50.108108\n",
       "2024-02-01    47.815878\n",
       "2024-03-01    47.317568\n",
       "2024-04-01    49.609797\n",
       "2024-05-01    49.709459\n",
       "2024-06-01    47.217905\n",
       "2024-07-01    47.516892\n",
       "2024-08-01    48.513514\n",
       "2024-09-01    46.719595\n",
       "2024-10-01    47.317568\n",
       "2024-11-01    49.410473\n",
       "2024-12-01    47.815878\n",
       "2025-01-01    50.207770\n",
       "2025-02-01    50.407095\n",
       "Freq: MS, Name: manufacturing pmi, dtype: float64"
      ]
     },
     "execution_count": 19,
     "metadata": {},
     "output_type": "execute_result"
    }
   ],
   "source": [
    "scr.scale_series()"
   ]
  },
  {
   "cell_type": "code",
   "execution_count": 20,
   "metadata": {},
   "outputs": [
    {
     "data": {
      "text/plain": [
       "[<matplotlib.lines.Line2D at 0x12113ccd0>]"
      ]
     },
     "execution_count": 20,
     "metadata": {},
     "output_type": "execute_result"
    },
    {
     "data": {
      "image/png": "[encoded data removed]",
      "text/plain": [
       "<Figure size 1540x560 with 1 Axes>"
      ]
     },
     "metadata": {},
     "output_type": "display_data"
    }
   ],
   "source": [
    "fig2, ax2 = plt.subplots()\n",
    "ax2.plot(scr.series, label = 'Scaled_series', lw = 1, c = 'black')"
   ]
  },
  {
   "cell_type": "code",
   "execution_count": 80,
   "metadata": {},
   "outputs": [
    {
     "name": "stdout",
     "output_type": "stream",
     "text": [
      "(12000.0, 'USD')\n",
      "(1200000000000.0, 'brazoReal')\n",
      "(1200000000.0, 'dollarz')\n",
      "(1680.0, 'Thousand USD')\n",
      "(1.68, '')\n",
      "(nan, 'ruffwons')\n",
      "(600000000.0, 'illion dollars')\n",
      "(1200000000.0, 'illion dollars')\n",
      "(1200000000000.0, 'rillion dollars')\n",
      "(1.2, 'quadrillion dollars')\n",
      "(6.73, '%')\n",
      "(1000000000.0, '%')\n",
      "(12.34, '%')\n",
      "(30000000000000.0, 'housand rupees')\n"
     ]
    }
   ],
   "source": [
    "examples = \"12 k USD, 1200 B brazoReal, 1.2 G dollarz, 1.68 k Thousand USD, 1.68, ruffwons, 600 million dollars, 1.2 billion dollars, 1.2 trillion dollars, 1.2 quadrillion dollars, 6.73 %, 1 g %, 12.34 %, 30 thousand rupees\"\n",
    "examps = examples.split(\", \")\n",
    "for exam in examps:\n",
    "    print(convert_metric_prefix(exam))\n",
    "    "
   ]
  },
  {
   "cell_type": "code",
   "execution_count": 21,
   "metadata": {},
   "outputs": [
    {
     "data": {
      "application/vnd.plotly.v1+json": {
       "config": {
        "plotlyServerURL": "https://plot.ly"
       },
       "data": [
        {
         "hovertemplate": "variable=manufacturing pmi<br>index=%{x}<br>value=%{y}<extra></extra>",
         "legendgroup": "manufacturing pmi",
         "line": {
          "color": "#636efa",
          "dash": "solid"
         },
         "marker": {
          "symbol": "circle"
         },
         "mode": "lines",
         "name": "manufacturing pmi",
         "orientation": "v",
         "showlegend": true,
         "type": "scatter",
         "x": [
          "2022-02-01T00:00:00.000000000",
          "2022-03-01T00:00:00.000000000",
          "2022-04-01T00:00:00.000000000",
          "2022-05-01T00:00:00.000000000",
          "2022-06-01T00:00:00.000000000",
          "2022-07-01T00:00:00.000000000",
          "2022-08-01T00:00:00.000000000",
          "2022-09-01T00:00:00.000000000",
          "2022-10-01T00:00:00.000000000",
          "2022-11-01T00:00:00.000000000",
          "2022-12-01T00:00:00.000000000",
          "2023-01-01T00:00:00.000000000",
          "2023-02-01T00:00:00.000000000",
          "2023-03-01T00:00:00.000000000",
          "2023-04-01T00:00:00.000000000",
          "2023-05-01T00:00:00.000000000",
          "2023-06-01T00:00:00.000000000",
          "2023-07-01T00:00:00.000000000",
          "2023-08-01T00:00:00.000000000",
          "2023-09-01T00:00:00.000000000",
          "2023-10-01T00:00:00.000000000",
          "2023-11-01T00:00:00.000000000",
          "2023-12-01T00:00:00.000000000",
          "2024-01-01T00:00:00.000000000",
          "2024-02-01T00:00:00.000000000",
          "2024-03-01T00:00:00.000000000",
          "2024-04-01T00:00:00.000000000",
          "2024-05-01T00:00:00.000000000",
          "2024-06-01T00:00:00.000000000",
          "2024-07-01T00:00:00.000000000",
          "2024-08-01T00:00:00.000000000",
          "2024-09-01T00:00:00.000000000",
          "2024-10-01T00:00:00.000000000",
          "2024-11-01T00:00:00.000000000",
          "2024-12-01T00:00:00.000000000",
          "2025-01-01T00:00:00.000000000",
          "2025-02-01T00:00:00.000000000"
         ],
         "xaxis": "x",
         "y": {
          "bdata": "YYp81g1+TECOgynyWddMQLvBFPmsY01AbCnyWTfYS0AYAAAAABhMQGwp8lk32EtA9WCKfNblSkARrRtMkb9KQIEin3WDWUpAbzBFPuumSUBB8lk3mBpJQI/PusEUAUlAJqbIZ91ASUDis24wRY5IQJ91gynyAUhA0rrBFPk0SEA1mCKfdRtIQGOKfNYNzkhAY4p81g3OSEC2bjBFPltIQDWYIp91G0hAu8EU+azbR0BsMEU+685HQN5ginzWDUlACVPks27oR0CIfNYNpqhHQGOKfNYNzkhAqxtMkc/aSEBB6wZT5JtHQCWfdYMpwkdAGkyRz7pBSEC/FPmsG1xHQIh81g2mqEdAx2fdYIq0SEAJU+SzbuhHQEHyWTeYGklAwhT5rBs0SUA=",
          "dtype": "f8"
         },
         "yaxis": "y"
        }
       ],
       "layout": {
        "annotations": [
         {
          "align": "left",
          "bgcolor": "rgba(255, 255, 255, 0.8)",
          "bordercolor": "black",
          "borderwidth": 1,
          "font": {
           "size": 10
          },
          "showarrow": false,
          "text": "Source: Trading Economics<br>Original Source: S&P Global<br>Frequency: MS<br>",
          "x": 0,
          "xanchor": "left",
          "xref": "paper",
          "y": -0.2,
          "yanchor": "bottom",
          "yref": "paper"
         }
        ],
        "legend": {
         "orientation": "h",
         "title": {
          "text": ""
         },
         "tracegroupgap": 0,
         "x": 0.5,
         "xanchor": "center",
         "y": -0.2,
         "yanchor": "bottom"
        },
        "margin": {
         "t": 60
        },
        "template": {
         "data": {
          "bar": [
           {
            "error_x": {
             "color": "#2a3f5f"
            },
            "error_y": {
             "color": "#2a3f5f"
            },
            "marker": {
             "line": {
              "color": "#E5ECF6",
              "width": 0.5
             },
             "pattern": {
              "fillmode": "overlay",
              "size": 10,
              "solidity": 0.2
             }
            },
            "type": "bar"
           }
          ],
          "barpolar": [
           {
            "marker": {
             "line": {
              "color": "#E5ECF6",
              "width": 0.5
             },
             "pattern": {
              "fillmode": "overlay",
              "size": 10,
              "solidity": 0.2
             }
            },
            "type": "barpolar"
           }
          ],
          "carpet": [
           {
            "aaxis": {
             "endlinecolor": "#2a3f5f",
             "gridcolor": "white",
             "linecolor": "white",
             "minorgridcolor": "white",
             "startlinecolor": "#2a3f5f"
            },
            "baxis": {
             "endlinecolor": "#2a3f5f",
             "gridcolor": "white",
             "linecolor": "white",
             "minorgridcolor": "white",
             "startlinecolor": "#2a3f5f"
            },
            "type": "carpet"
           }
          ],
          "choropleth": [
           {
            "colorbar": {
             "outlinewidth": 0,
             "ticks": ""
            },
            "type": "choropleth"
           }
          ],
          "contour": [
           {
            "colorbar": {
             "outlinewidth": 0,
             "ticks": ""
            },
            "colorscale": [
             [
              0,
              "#0d0887"
             ],
             [
              0.1111111111111111,
              "#46039f"
             ],
             [
              0.2222222222222222,
              "#7201a8"
             ],
             [
              0.3333333333333333,
              "#9c179e"
             ],
             [
              0.4444444444444444,
              "#bd3786"
             ],
             [
              0.5555555555555556,
              "#d8576b"
             ],
             [
              0.6666666666666666,
              "#ed7953"
             ],
             [
              0.7777777777777778,
              "#fb9f3a"
             ],
             [
              0.8888888888888888,
              "#fdca26"
             ],
             [
              1,
              "#f0f921"
             ]
            ],
            "type": "contour"
           }
          ],
          "contourcarpet": [
           {
            "colorbar": {
             "outlinewidth": 0,
             "ticks": ""
            },
            "type": "contourcarpet"
           }
          ],
          "heatmap": [
           {
            "colorbar": {
             "outlinewidth": 0,
             "ticks": ""
            },
            "colorscale": [
             [
              0,
              "#0d0887"
             ],
             [
              0.1111111111111111,
              "#46039f"
             ],
             [
              0.2222222222222222,
              "#7201a8"
             ],
             [
              0.3333333333333333,
              "#9c179e"
             ],
             [
              0.4444444444444444,
              "#bd3786"
             ],
             [
              0.5555555555555556,
              "#d8576b"
             ],
             [
              0.6666666666666666,
              "#ed7953"
             ],
             [
              0.7777777777777778,
              "#fb9f3a"
             ],
             [
              0.8888888888888888,
              "#fdca26"
             ],
             [
              1,
              "#f0f921"
             ]
            ],
            "type": "heatmap"
           }
          ],
          "histogram": [
           {
            "marker": {
             "pattern": {
              "fillmode": "overlay",
              "size": 10,
              "solidity": 0.2
             }
            },
            "type": "histogram"
           }
          ],
          "histogram2d": [
           {
            "colorbar": {
             "outlinewidth": 0,
             "ticks": ""
            },
            "colorscale": [
             [
              0,
              "#0d0887"
             ],
             [
              0.1111111111111111,
              "#46039f"
             ],
             [
              0.2222222222222222,
              "#7201a8"
             ],
             [
              0.3333333333333333,
              "#9c179e"
             ],
             [
              0.4444444444444444,
              "#bd3786"
             ],
             [
              0.5555555555555556,
              "#d8576b"
             ],
             [
              0.6666666666666666,
              "#ed7953"
             ],
             [
              0.7777777777777778,
              "#fb9f3a"
             ],
             [
              0.8888888888888888,
              "#fdca26"
             ],
             [
              1,
              "#f0f921"
             ]
            ],
            "type": "histogram2d"
           }
          ],
          "histogram2dcontour": [
           {
            "colorbar": {
             "outlinewidth": 0,
             "ticks": ""
            },
            "colorscale": [
             [
              0,
              "#0d0887"
             ],
             [
              0.1111111111111111,
              "#46039f"
             ],
             [
              0.2222222222222222,
              "#7201a8"
             ],
             [
              0.3333333333333333,
              "#9c179e"
             ],
             [
              0.4444444444444444,
              "#bd3786"
             ],
             [
              0.5555555555555556,
              "#d8576b"
             ],
             [
              0.6666666666666666,
              "#ed7953"
             ],
             [
              0.7777777777777778,
              "#fb9f3a"
             ],
             [
              0.8888888888888888,
              "#fdca26"
             ],
             [
              1,
              "#f0f921"
             ]
            ],
            "type": "histogram2dcontour"
           }
          ],
          "mesh3d": [
           {
            "colorbar": {
             "outlinewidth": 0,
             "ticks": ""
            },
            "type": "mesh3d"
           }
          ],
          "parcoords": [
           {
            "line": {
             "colorbar": {
              "outlinewidth": 0,
              "ticks": ""
             }
            },
            "type": "parcoords"
           }
          ],
          "pie": [
           {
            "automargin": true,
            "type": "pie"
           }
          ],
          "scatter": [
           {
            "fillpattern": {
             "fillmode": "overlay",
             "size": 10,
             "solidity": 0.2
            },
            "type": "scatter"
           }
          ],
          "scatter3d": [
           {
            "line": {
             "colorbar": {
              "outlinewidth": 0,
              "ticks": ""
             }
            },
            "marker": {
             "colorbar": {
              "outlinewidth": 0,
              "ticks": ""
             }
            },
            "type": "scatter3d"
           }
          ],
          "scattercarpet": [
           {
            "marker": {
             "colorbar": {
              "outlinewidth": 0,
              "ticks": ""
             }
            },
            "type": "scattercarpet"
           }
          ],
          "scattergeo": [
           {
            "marker": {
             "colorbar": {
              "outlinewidth": 0,
              "ticks": ""
             }
            },
            "type": "scattergeo"
           }
          ],
          "scattergl": [
           {
            "marker": {
             "colorbar": {
              "outlinewidth": 0,
              "ticks": ""
             }
            },
            "type": "scattergl"
           }
          ],
          "scattermap": [
           {
            "marker": {
             "colorbar": {
              "outlinewidth": 0,
              "ticks": ""
             }
            },
            "type": "scattermap"
           }
          ],
          "scattermapbox": [
           {
            "marker": {
             "colorbar": {
              "outlinewidth": 0,
              "ticks": ""
             }
            },
            "type": "scattermapbox"
           }
          ],
          "scatterpolar": [
           {
            "marker": {
             "colorbar": {
              "outlinewidth": 0,
              "ticks": ""
             }
            },
            "type": "scatterpolar"
           }
          ],
          "scatterpolargl": [
           {
            "marker": {
             "colorbar": {
              "outlinewidth": 0,
              "ticks": ""
             }
            },
            "type": "scatterpolargl"
           }
          ],
          "scatterternary": [
           {
            "marker": {
             "colorbar": {
              "outlinewidth": 0,
              "ticks": ""
             }
            },
            "type": "scatterternary"
           }
          ],
          "surface": [
           {
            "colorbar": {
             "outlinewidth": 0,
             "ticks": ""
            },
            "colorscale": [
             [
              0,
              "#0d0887"
             ],
             [
              0.1111111111111111,
              "#46039f"
             ],
             [
              0.2222222222222222,
              "#7201a8"
             ],
             [
              0.3333333333333333,
              "#9c179e"
             ],
             [
              0.4444444444444444,
              "#bd3786"
             ],
             [
              0.5555555555555556,
              "#d8576b"
             ],
             [
              0.6666666666666666,
              "#ed7953"
             ],
             [
              0.7777777777777778,
              "#fb9f3a"
             ],
             [
              0.8888888888888888,
              "#fdca26"
             ],
             [
              1,
              "#f0f921"
             ]
            ],
            "type": "surface"
           }
          ],
          "table": [
           {
            "cells": {
             "fill": {
              "color": "#EBF0F8"
             },
             "line": {
              "color": "white"
             }
            },
            "header": {
             "fill": {
              "color": "#C8D4E3"
             },
             "line": {
              "color": "white"
             }
            },
            "type": "table"
           }
          ]
         },
         "layout": {
          "annotationdefaults": {
           "arrowcolor": "#2a3f5f",
           "arrowhead": 0,
           "arrowwidth": 1
          },
          "autotypenumbers": "strict",
          "coloraxis": {
           "colorbar": {
            "outlinewidth": 0,
            "ticks": ""
           }
          },
          "colorscale": {
           "diverging": [
            [
             0,
             "#8e0152"
            ],
            [
             0.1,
             "#c51b7d"
            ],
            [
             0.2,
             "#de77ae"
            ],
            [
             0.3,
             "#f1b6da"
            ],
            [
             0.4,
             "#fde0ef"
            ],
            [
             0.5,
             "#f7f7f7"
            ],
            [
             0.6,
             "#e6f5d0"
            ],
            [
             0.7,
             "#b8e186"
            ],
            [
             0.8,
             "#7fbc41"
            ],
            [
             0.9,
             "#4d9221"
            ],
            [
             1,
             "#276419"
            ]
           ],
           "sequential": [
            [
             0,
             "#0d0887"
            ],
            [
             0.1111111111111111,
             "#46039f"
            ],
            [
             0.2222222222222222,
             "#7201a8"
            ],
            [
             0.3333333333333333,
             "#9c179e"
            ],
            [
             0.4444444444444444,
             "#bd3786"
            ],
            [
             0.5555555555555556,
             "#d8576b"
            ],
            [
             0.6666666666666666,
             "#ed7953"
            ],
            [
             0.7777777777777778,
             "#fb9f3a"
            ],
            [
             0.8888888888888888,
             "#fdca26"
            ],
            [
             1,
             "#f0f921"
            ]
           ],
           "sequentialminus": [
            [
             0,
             "#0d0887"
            ],
            [
             0.1111111111111111,
             "#46039f"
            ],
            [
             0.2222222222222222,
             "#7201a8"
            ],
            [
             0.3333333333333333,
             "#9c179e"
            ],
            [
             0.4444444444444444,
             "#bd3786"
            ],
            [
             0.5555555555555556,
             "#d8576b"
            ],
            [
             0.6666666666666666,
             "#ed7953"
            ],
            [
             0.7777777777777778,
             "#fb9f3a"
            ],
            [
             0.8888888888888888,
             "#fdca26"
            ],
            [
             1,
             "#f0f921"
            ]
           ]
          },
          "colorway": [
           "#636efa",
           "#EF553B",
           "#00cc96",
           "#ab63fa",
           "#FFA15A",
           "#19d3f3",
           "#FF6692",
           "#B6E880",
           "#FF97FF",
           "#FECB52"
          ],
          "font": {
           "color": "#2a3f5f"
          },
          "geo": {
           "bgcolor": "white",
           "lakecolor": "white",
           "landcolor": "#E5ECF6",
           "showlakes": true,
           "showland": true,
           "subunitcolor": "white"
          },
          "hoverlabel": {
           "align": "left"
          },
          "hovermode": "closest",
          "mapbox": {
           "style": "light"
          },
          "paper_bgcolor": "white",
          "plot_bgcolor": "#E5ECF6",
          "polar": {
           "angularaxis": {
            "gridcolor": "white",
            "linecolor": "white",
            "ticks": ""
           },
           "bgcolor": "#E5ECF6",
           "radialaxis": {
            "gridcolor": "white",
            "linecolor": "white",
            "ticks": ""
           }
          },
          "scene": {
           "xaxis": {
            "backgroundcolor": "#E5ECF6",
            "gridcolor": "white",
            "gridwidth": 2,
            "linecolor": "white",
            "showbackground": true,
            "ticks": "",
            "zerolinecolor": "white"
           },
           "yaxis": {
            "backgroundcolor": "#E5ECF6",
            "gridcolor": "white",
            "gridwidth": 2,
            "linecolor": "white",
            "showbackground": true,
            "ticks": "",
            "zerolinecolor": "white"
           },
           "zaxis": {
            "backgroundcolor": "#E5ECF6",
            "gridcolor": "white",
            "gridwidth": 2,
            "linecolor": "white",
            "showbackground": true,
            "ticks": "",
            "zerolinecolor": "white"
           }
          },
          "shapedefaults": {
           "line": {
            "color": "#2a3f5f"
           }
          },
          "ternary": {
           "aaxis": {
            "gridcolor": "white",
            "linecolor": "white",
            "ticks": ""
           },
           "baxis": {
            "gridcolor": "white",
            "linecolor": "white",
            "ticks": ""
           },
           "bgcolor": "#E5ECF6",
           "caxis": {
            "gridcolor": "white",
            "linecolor": "white",
            "ticks": ""
           }
          },
          "title": {
           "x": 0.05
          },
          "xaxis": {
           "automargin": true,
           "gridcolor": "white",
           "linecolor": "white",
           "ticks": "",
           "title": {
            "standoff": 15
           },
           "zerolinecolor": "white",
           "zerolinewidth": 2
          },
          "yaxis": {
           "automargin": true,
           "gridcolor": "white",
           "linecolor": "white",
           "ticks": "",
           "title": {
            "standoff": 15
           },
           "zerolinecolor": "white",
           "zerolinewidth": 2
          }
         }
        },
        "title": {
         "text": "Australia: Australia s&p global manufacturing pmi"
        },
        "xaxis": {
         "anchor": "y",
         "domain": [
          0,
          1
         ],
         "title": {
          "text": ""
         }
        },
        "yaxis": {
         "anchor": "x",
         "domain": [
          0,
          1
         ],
         "title": {
          "text": "Points"
         }
        }
       }
      }
     },
     "metadata": {},
     "output_type": "display_data"
    }
   ],
   "source": [
    "scr.plot_series()"
   ]
  }
 ],
 "metadata": {
  "kernelspec": {
   "display_name": "ted",
   "language": "python",
   "name": "python3"
  },
  "language_info": {
   "codemirror_mode": {
    "name": "ipython",
    "version": 3
   },
   "file_extension": ".py",
   "mimetype": "text/x-python",
   "name": "python",
   "nbconvert_exporter": "python",
   "pygments_lexer": "ipython3",
   "version": "3.11.11"
  }
 },
 "nbformat": 4,
 "nbformat_minor": 2
}
