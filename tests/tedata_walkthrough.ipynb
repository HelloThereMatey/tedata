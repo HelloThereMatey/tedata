{
 "cells": [
  {
   "cell_type": "code",
   "execution_count": 1,
   "metadata": {},
   "outputs": [
    {
     "name": "stderr",
     "output_type": "stream",
     "text": [
      "INFO - tedata package initialized successfully!\n"
     ]
    }
   ],
   "source": [
    "import sys\n",
    "import os\n",
    "import pandas as pd\n",
    "from pprint import pprint\n",
    "wd = %pwd\n",
    "parent = os.path.dirname(wd)\n",
    "fdel = os.path.sep\n",
    "sys.path.append(parent+fdel+\"src\")\n",
    "import tedata as ted"
   ]
  },
  {
   "cell_type": "markdown",
   "metadata": {},
   "source": [
    "# tedata package\n",
    "Download data from Trading Economics. There are several ways to use this package. \n",
    "# Method #1: search for indicators and then download the data for a given search result.\n",
    "## Initialise new search_TE object. \n",
    "Object will use an existing webdriver if there is already more than one active in the namespace when use_existing_driver=True. \n",
    "This will save you some time and be more memory efficient."
   ]
  },
  {
   "cell_type": "code",
   "execution_count": 2,
   "metadata": {},
   "outputs": [
    {
     "name": "stderr",
     "output_type": "stream",
     "text": [
      "INFO - New firefox webdriver created.\n",
      "INFO - Loading home page at https://tradingeconomics.com/ ...\n",
      "INFO - Home page at https://tradingeconomics.com loaded successfully! Search box element found.\n"
     ]
    }
   ],
   "source": [
    "search = ted.search_TE(use_existing_driver=False, headless=False)  # Will open firefox browser window as headless=False."
   ]
  },
  {
   "cell_type": "markdown",
   "metadata": {},
   "source": [
    "### Use the search_trading_economics method to use the search bar on the homepage to search."
   ]
  },
  {
   "cell_type": "code",
   "execution_count": 4,
   "metadata": {},
   "outputs": [
    {
     "name": "stderr",
     "output_type": "stream",
     "text": [
      "INFO - Loading home page at https://tradingeconomics.com/ ...\n",
      "INFO - Home page at https://tradingeconomics.com loaded successfully! Search box element found.\n",
      "INFO - Clicking search box...\n",
      "INFO - Entering search term: fed\n",
      "INFO - Submitting search, waiting 5s for page to load...\n"
     ]
    },
    {
     "name": "stdout",
     "output_type": "stream",
     "text": [
      "Found search results on page.\n"
     ]
    },
    {
     "data": {
      "text/html": [
       "<div>\n",
       "<style scoped>\n",
       "    .dataframe tbody tr th:only-of-type {\n",
       "        vertical-align: middle;\n",
       "    }\n",
       "\n",
       "    .dataframe tbody tr th {\n",
       "        vertical-align: top;\n",
       "    }\n",
       "\n",
       "    .dataframe thead th {\n",
       "        text-align: right;\n",
       "    }\n",
       "</style>\n",
       "<table border=\"1\" class=\"dataframe\">\n",
       "  <thead>\n",
       "    <tr style=\"text-align: right;\">\n",
       "      <th></th>\n",
       "      <th>country</th>\n",
       "      <th>metric</th>\n",
       "      <th>url</th>\n",
       "    </tr>\n",
       "    <tr>\n",
       "      <th>result</th>\n",
       "      <th></th>\n",
       "      <th></th>\n",
       "      <th></th>\n",
       "    </tr>\n",
       "  </thead>\n",
       "  <tbody>\n",
       "    <tr>\n",
       "      <th>0</th>\n",
       "      <td>united states</td>\n",
       "      <td>interest rate</td>\n",
       "      <td>https://tradingeconomics.com/united-states/int...</td>\n",
       "    </tr>\n",
       "    <tr>\n",
       "      <th>1</th>\n",
       "      <td>united states</td>\n",
       "      <td>government budget</td>\n",
       "      <td>https://tradingeconomics.com/united-states/gov...</td>\n",
       "    </tr>\n",
       "    <tr>\n",
       "      <th>2</th>\n",
       "      <td>united states</td>\n",
       "      <td>corporate tax rate</td>\n",
       "      <td>https://tradingeconomics.com/united-states/cor...</td>\n",
       "    </tr>\n",
       "    <tr>\n",
       "      <th>3</th>\n",
       "      <td>united states</td>\n",
       "      <td>minimum wages</td>\n",
       "      <td>https://tradingeconomics.com/united-states/min...</td>\n",
       "    </tr>\n",
       "    <tr>\n",
       "      <th>4</th>\n",
       "      <td>united states</td>\n",
       "      <td>dallas fed manufacturing index</td>\n",
       "      <td>https://tradingeconomics.com/united-states/dal...</td>\n",
       "    </tr>\n",
       "    <tr>\n",
       "      <th>5</th>\n",
       "      <td>united states</td>\n",
       "      <td>richmond fed manufacturing index</td>\n",
       "      <td>https://tradingeconomics.com/united-states/ric...</td>\n",
       "    </tr>\n",
       "    <tr>\n",
       "      <th>6</th>\n",
       "      <td>united states</td>\n",
       "      <td>chicago fed national activity index</td>\n",
       "      <td>https://tradingeconomics.com/united-states/chi...</td>\n",
       "    </tr>\n",
       "    <tr>\n",
       "      <th>7</th>\n",
       "      <td>united states</td>\n",
       "      <td>philadelphia fed manufacturing index</td>\n",
       "      <td>https://tradingeconomics.com/united-states/phi...</td>\n",
       "    </tr>\n",
       "    <tr>\n",
       "      <th>8</th>\n",
       "      <td>united states</td>\n",
       "      <td>fed capital account surplus</td>\n",
       "      <td>https://tradingeconomics.com/united-states/fed...</td>\n",
       "    </tr>\n",
       "    <tr>\n",
       "      <th>9</th>\n",
       "      <td>united states</td>\n",
       "      <td>dallas fed manufacturing new orders index</td>\n",
       "      <td>https://tradingeconomics.com/united-states/dal...</td>\n",
       "    </tr>\n",
       "    <tr>\n",
       "      <th>10</th>\n",
       "      <td>united states</td>\n",
       "      <td>dallas fed manufacturing prices paid index</td>\n",
       "      <td>https://tradingeconomics.com/united-states/dal...</td>\n",
       "    </tr>\n",
       "    <tr>\n",
       "      <th>11</th>\n",
       "      <td>united states</td>\n",
       "      <td>dallas fed services index</td>\n",
       "      <td>https://tradingeconomics.com/united-states/dal...</td>\n",
       "    </tr>\n",
       "    <tr>\n",
       "      <th>12</th>\n",
       "      <td>united states</td>\n",
       "      <td>philly fed capex index</td>\n",
       "      <td>https://tradingeconomics.com/united-states/phi...</td>\n",
       "    </tr>\n",
       "    <tr>\n",
       "      <th>13</th>\n",
       "      <td>united states</td>\n",
       "      <td>philly fed employment</td>\n",
       "      <td>https://tradingeconomics.com/united-states/phi...</td>\n",
       "    </tr>\n",
       "    <tr>\n",
       "      <th>14</th>\n",
       "      <td>united states</td>\n",
       "      <td>philly fed new orders</td>\n",
       "      <td>https://tradingeconomics.com/united-states/phi...</td>\n",
       "    </tr>\n",
       "    <tr>\n",
       "      <th>15</th>\n",
       "      <td>united states</td>\n",
       "      <td>philly fed prices paid</td>\n",
       "      <td>https://tradingeconomics.com/united-states/phi...</td>\n",
       "    </tr>\n",
       "    <tr>\n",
       "      <th>16</th>\n",
       "      <td>united states</td>\n",
       "      <td>richmond fed manufacturing shipments</td>\n",
       "      <td>https://tradingeconomics.com/united-states/ric...</td>\n",
       "    </tr>\n",
       "    <tr>\n",
       "      <th>17</th>\n",
       "      <td>united states</td>\n",
       "      <td>kansas fed employment index</td>\n",
       "      <td>https://tradingeconomics.com/united-states/kan...</td>\n",
       "    </tr>\n",
       "    <tr>\n",
       "      <th>18</th>\n",
       "      <td>united states</td>\n",
       "      <td>dallas fed manufacturing employment index</td>\n",
       "      <td>https://tradingeconomics.com/united-states/dal...</td>\n",
       "    </tr>\n",
       "    <tr>\n",
       "      <th>19</th>\n",
       "      <td>united states</td>\n",
       "      <td>kansas fed composite index</td>\n",
       "      <td>https://tradingeconomics.com/united-states/kan...</td>\n",
       "    </tr>\n",
       "    <tr>\n",
       "      <th>20</th>\n",
       "      <td>united states</td>\n",
       "      <td>kansas fed prices paid index</td>\n",
       "      <td>https://tradingeconomics.com/united-states/kan...</td>\n",
       "    </tr>\n",
       "    <tr>\n",
       "      <th>21</th>\n",
       "      <td>united states</td>\n",
       "      <td>kansas fed shipments index</td>\n",
       "      <td>https://tradingeconomics.com/united-states/kan...</td>\n",
       "    </tr>\n",
       "    <tr>\n",
       "      <th>22</th>\n",
       "      <td>united states</td>\n",
       "      <td>dallas fed manufacturing production index</td>\n",
       "      <td>https://tradingeconomics.com/united-states/dal...</td>\n",
       "    </tr>\n",
       "    <tr>\n",
       "      <th>23</th>\n",
       "      <td>united states</td>\n",
       "      <td>philly fed business conditions</td>\n",
       "      <td>https://tradingeconomics.com/united-states/phi...</td>\n",
       "    </tr>\n",
       "    <tr>\n",
       "      <th>24</th>\n",
       "      <td>united states</td>\n",
       "      <td>richmond fed services index</td>\n",
       "      <td>https://tradingeconomics.com/united-states/ric...</td>\n",
       "    </tr>\n",
       "    <tr>\n",
       "      <th>25</th>\n",
       "      <td>united states</td>\n",
       "      <td>dallas fed services revenues index</td>\n",
       "      <td>https://tradingeconomics.com/united-states/dal...</td>\n",
       "    </tr>\n",
       "    <tr>\n",
       "      <th>26</th>\n",
       "      <td>united states</td>\n",
       "      <td>kansas fed new orders index</td>\n",
       "      <td>https://tradingeconomics.com/united-states/kan...</td>\n",
       "    </tr>\n",
       "    <tr>\n",
       "      <th>27</th>\n",
       "      <td>united states</td>\n",
       "      <td>dallas fed manufacturing shipments index</td>\n",
       "      <td>https://tradingeconomics.com/united-states/dal...</td>\n",
       "    </tr>\n",
       "    <tr>\n",
       "      <th>28</th>\n",
       "      <td>united states</td>\n",
       "      <td>kansas fed manufacturing index</td>\n",
       "      <td>https://tradingeconomics.com/united-states/kan...</td>\n",
       "    </tr>\n",
       "    <tr>\n",
       "      <th>29</th>\n",
       "      <td>brazil</td>\n",
       "      <td>government revenues</td>\n",
       "      <td>https://tradingeconomics.com/brazil/government...</td>\n",
       "    </tr>\n",
       "    <tr>\n",
       "      <th>30</th>\n",
       "      <td>austria</td>\n",
       "      <td>government debt</td>\n",
       "      <td>https://tradingeconomics.com/austria/governmen...</td>\n",
       "    </tr>\n",
       "    <tr>\n",
       "      <th>31</th>\n",
       "      <td>tradingeconomics.com</td>\n",
       "      <td>frt:us</td>\n",
       "      <td>https://tradingeconomics.com/frt:us</td>\n",
       "    </tr>\n",
       "    <tr>\n",
       "      <th>32</th>\n",
       "      <td>tradingeconomics.com</td>\n",
       "      <td>fdx:us</td>\n",
       "      <td>https://tradingeconomics.com/fdx:us</td>\n",
       "    </tr>\n",
       "    <tr>\n",
       "      <th>33</th>\n",
       "      <td>tradingeconomics.com</td>\n",
       "      <td>agm:us</td>\n",
       "      <td>https://tradingeconomics.com/agm:us</td>\n",
       "    </tr>\n",
       "    <tr>\n",
       "      <th>34</th>\n",
       "      <td>tradingeconomics.com</td>\n",
       "      <td>fss:us</td>\n",
       "      <td>https://tradingeconomics.com/fss:us</td>\n",
       "    </tr>\n",
       "    <tr>\n",
       "      <th>35</th>\n",
       "      <td>tradingeconomics.com</td>\n",
       "      <td>fhi:us</td>\n",
       "      <td>https://tradingeconomics.com/fhi:us</td>\n",
       "    </tr>\n",
       "    <tr>\n",
       "      <th>36</th>\n",
       "      <td>tradingeconomics.com</td>\n",
       "      <td>hydr:rm</td>\n",
       "      <td>https://tradingeconomics.com/hydr:rm</td>\n",
       "    </tr>\n",
       "    <tr>\n",
       "      <th>37</th>\n",
       "      <td>tradingeconomics.com</td>\n",
       "      <td>fees:rm</td>\n",
       "      <td>https://tradingeconomics.com/fees:rm</td>\n",
       "    </tr>\n",
       "    <tr>\n",
       "      <th>38</th>\n",
       "      <td>guinea bissau</td>\n",
       "      <td>raw hides skins than furskins leather</td>\n",
       "      <td>https://tradingeconomics.com/fmr-fed-rep-germa...</td>\n",
       "    </tr>\n",
       "    <tr>\n",
       "      <th>39</th>\n",
       "      <td>equatorial guinea</td>\n",
       "      <td>products animal origin</td>\n",
       "      <td>https://tradingeconomics.com/fmr-fed-rep-germa...</td>\n",
       "    </tr>\n",
       "  </tbody>\n",
       "</table>\n",
       "</div>"
      ],
      "text/plain": [
       "                     country                                      metric  \\\n",
       "result                                                                     \n",
       "0              united states                               interest rate   \n",
       "1              united states                           government budget   \n",
       "2              united states                          corporate tax rate   \n",
       "3              united states                               minimum wages   \n",
       "4              united states              dallas fed manufacturing index   \n",
       "5              united states            richmond fed manufacturing index   \n",
       "6              united states         chicago fed national activity index   \n",
       "7              united states        philadelphia fed manufacturing index   \n",
       "8              united states                 fed capital account surplus   \n",
       "9              united states   dallas fed manufacturing new orders index   \n",
       "10             united states  dallas fed manufacturing prices paid index   \n",
       "11             united states                   dallas fed services index   \n",
       "12             united states                      philly fed capex index   \n",
       "13             united states                       philly fed employment   \n",
       "14             united states                       philly fed new orders   \n",
       "15             united states                      philly fed prices paid   \n",
       "16             united states        richmond fed manufacturing shipments   \n",
       "17             united states                 kansas fed employment index   \n",
       "18             united states   dallas fed manufacturing employment index   \n",
       "19             united states                  kansas fed composite index   \n",
       "20             united states                kansas fed prices paid index   \n",
       "21             united states                  kansas fed shipments index   \n",
       "22             united states   dallas fed manufacturing production index   \n",
       "23             united states              philly fed business conditions   \n",
       "24             united states                 richmond fed services index   \n",
       "25             united states          dallas fed services revenues index   \n",
       "26             united states                 kansas fed new orders index   \n",
       "27             united states    dallas fed manufacturing shipments index   \n",
       "28             united states              kansas fed manufacturing index   \n",
       "29                    brazil                         government revenues   \n",
       "30                   austria                             government debt   \n",
       "31      tradingeconomics.com                                      frt:us   \n",
       "32      tradingeconomics.com                                      fdx:us   \n",
       "33      tradingeconomics.com                                      agm:us   \n",
       "34      tradingeconomics.com                                      fss:us   \n",
       "35      tradingeconomics.com                                      fhi:us   \n",
       "36      tradingeconomics.com                                     hydr:rm   \n",
       "37      tradingeconomics.com                                     fees:rm   \n",
       "38             guinea bissau       raw hides skins than furskins leather   \n",
       "39         equatorial guinea                      products animal origin   \n",
       "\n",
       "                                                      url  \n",
       "result                                                     \n",
       "0       https://tradingeconomics.com/united-states/int...  \n",
       "1       https://tradingeconomics.com/united-states/gov...  \n",
       "2       https://tradingeconomics.com/united-states/cor...  \n",
       "3       https://tradingeconomics.com/united-states/min...  \n",
       "4       https://tradingeconomics.com/united-states/dal...  \n",
       "5       https://tradingeconomics.com/united-states/ric...  \n",
       "6       https://tradingeconomics.com/united-states/chi...  \n",
       "7       https://tradingeconomics.com/united-states/phi...  \n",
       "8       https://tradingeconomics.com/united-states/fed...  \n",
       "9       https://tradingeconomics.com/united-states/dal...  \n",
       "10      https://tradingeconomics.com/united-states/dal...  \n",
       "11      https://tradingeconomics.com/united-states/dal...  \n",
       "12      https://tradingeconomics.com/united-states/phi...  \n",
       "13      https://tradingeconomics.com/united-states/phi...  \n",
       "14      https://tradingeconomics.com/united-states/phi...  \n",
       "15      https://tradingeconomics.com/united-states/phi...  \n",
       "16      https://tradingeconomics.com/united-states/ric...  \n",
       "17      https://tradingeconomics.com/united-states/kan...  \n",
       "18      https://tradingeconomics.com/united-states/dal...  \n",
       "19      https://tradingeconomics.com/united-states/kan...  \n",
       "20      https://tradingeconomics.com/united-states/kan...  \n",
       "21      https://tradingeconomics.com/united-states/kan...  \n",
       "22      https://tradingeconomics.com/united-states/dal...  \n",
       "23      https://tradingeconomics.com/united-states/phi...  \n",
       "24      https://tradingeconomics.com/united-states/ric...  \n",
       "25      https://tradingeconomics.com/united-states/dal...  \n",
       "26      https://tradingeconomics.com/united-states/kan...  \n",
       "27      https://tradingeconomics.com/united-states/dal...  \n",
       "28      https://tradingeconomics.com/united-states/kan...  \n",
       "29      https://tradingeconomics.com/brazil/government...  \n",
       "30      https://tradingeconomics.com/austria/governmen...  \n",
       "31                    https://tradingeconomics.com/frt:us  \n",
       "32                    https://tradingeconomics.com/fdx:us  \n",
       "33                    https://tradingeconomics.com/agm:us  \n",
       "34                    https://tradingeconomics.com/fss:us  \n",
       "35                    https://tradingeconomics.com/fhi:us  \n",
       "36                   https://tradingeconomics.com/hydr:rm  \n",
       "37                   https://tradingeconomics.com/fees:rm  \n",
       "38      https://tradingeconomics.com/fmr-fed-rep-germa...  \n",
       "39      https://tradingeconomics.com/fmr-fed-rep-germa...  "
      ]
     },
     "execution_count": 4,
     "metadata": {},
     "output_type": "execute_result"
    }
   ],
   "source": [
    "search.search_trading_economics(\"fed\", wait_time=5) # Set wait_time to a higher value if you get an empty results table. Default is 5s.\n",
    "search.result_table"
   ]
  },
  {
   "cell_type": "markdown",
   "metadata": {},
   "source": [
    "### Download the time-series for a particular indicator using a search result displayed in your search results table.\n",
    "\n",
    "Sometimes you may get an error straight away on the first run of the ```get_data``` method. Error message will be something about error establising a connection.\n",
    "\n",
    "Noted error messages for this: \n",
    "- Error loading page: Message: Failed to write request to stream\n",
    "- Error loading page: Message: Tried to run command without establishing a connection\n",
    "\n",
    "Just try again if so, it has always worked for me the second time unless internet connection is down or too slow."
   ]
  },
  {
   "cell_type": "code",
   "execution_count": 5,
   "metadata": {},
   "outputs": [
    {
     "name": "stderr",
     "output_type": "stream",
     "text": [
      "INFO - scrape_chart function: Scraping chart at: https://tradingeconomics.com/united-states/kansas-fed-composite-index, time: 2025-03-11 11:00:05.492909, method: path\n"
     ]
    },
    {
     "name": "stdout",
     "output_type": "stream",
     "text": [
      "Attempting to scrape data for result  19 ,  united states kansas fed composite index\n",
      "Scraping data from: https://tradingeconomics.com/united-states/kansas-fed-composite-index\n"
     ]
    },
    {
     "name": "stderr",
     "output_type": "stream",
     "text": [
      "INFO - Chart types dictionary created successfully: dict_keys(['Column', 'Spline', 'Areaspline', 'Stepline', 'Line', 'Area'])\n",
      "INFO - Date span set to: 1Y\n",
      "INFO - \n",
      "Series metadata: \n",
      " {'units': 'points', 'original_source': 'Federal Reserve Bank of Kansas City', 'title': 'United States Kansas Fed Composite Index', 'indicator': 'kansas fed composite index', 'country': 'united states', 'source': 'Trading Economics', 'id': 'united-states/kansas-fed-composite-index'}\n",
      "INFO - Chart type set to: Spline (using JavaScript)\n"
     ]
    },
    {
     "name": "stdout",
     "output_type": "stream",
     "text": [
      "Using selenium and tooltip scraping to construct the date time index for the time-series, this'll take a bit...\n"
     ]
    },
    {
     "name": "stderr",
     "output_type": "stream",
     "text": [
      "INFO - Time taken to select chart type: 0.6844570999965072\n",
      "INFO - Time taken to execute JS code: 3.1348922001197934\n"
     ]
    },
    {
     "name": "stdout",
     "output_type": "stream",
     "text": [
      "Latest dates:  ['Feb 2025', 'Jan 2025', 'Dec 2024', 'Nov 2024', 'Oct 2024', 'Sep 2024', 'Aug 2024', 'Jul 2024', 'Jun 2024', 'May 2024']\n",
      "Frequency of time-series:  MS\n"
     ]
    },
    {
     "name": "stderr",
     "output_type": "stream",
     "text": [
      "INFO - Chart type set to: Spline (using JavaScript)\n",
      "INFO - JS Log: Starting first/last date extraction using plot border targeting\n",
      "INFO - JS Log: Plot border attributes: x=25, y=40, width=672, height=295\n",
      "INFO - JS Log: Calculated positions: leftX=100, rightX=772, centerY=433.5\n",
      "INFO - JS Log: Starting progressive search for left tooltip position\n",
      "INFO - JS Log: Trying left position with offset: 0px\n",
      "INFO - JS Log: Moved cursor to left position: x=100, y=433.5\n",
      "INFO - JS Log: No date element found at left position\n",
      "INFO - JS Log: Trying left position with offset: 1px\n",
      "INFO - JS Log: Moved cursor to left position: x=101, y=433.5\n",
      "INFO - JS Log: Found date element at left: Jul 2001\n",
      "INFO - JS Log: Found value element at left: -16 Points\n",
      "INFO - JS Log: Starting progressive search for right tooltip position\n",
      "INFO - JS Log: Trying right position with offset: 0px\n",
      "INFO - JS Log: Moved cursor to right position: x=772, y=433.5\n",
      "INFO - JS Log: Found date element at right: Feb 2025\n",
      "INFO - JS Log: Found value element at right: -5 Points\n",
      "INFO - JS Log: Extraction complete\n",
      "INFO - Successfully retrieved first/last dates: {'debug': {'logs': ['Starting first/last date extraction using plot border targeting', 'Plot border attributes: x=25, y=40, width=672, height=295', 'Calculated positions: leftX=100, rightX=772, centerY=433.5', 'Starting progressive search for left tooltip position', 'Trying left position with offset: 0px', 'Moved cursor to left position: x=100, y=433.5', 'No date element found at left position', 'Trying left position with offset: 1px', 'Moved cursor to left position: x=101, y=433.5', 'Found date element at left: Jul 2001', 'Found value element at left: -16 Points', 'Starting progressive search for right tooltip position', 'Trying right position with offset: 0px', 'Moved cursor to right position: x=772, y=433.5', 'Found date element at right: Feb 2025', 'Found value element at right: -5 Points', 'Extraction complete']}, 'end_date': Timestamp('2025-02-01 00:00:00'), 'end_value': -5, 'start_date': Timestamp('2001-07-01 00:00:00'), 'start_value': -16, 'unit_str': 'Points'}\n"
     ]
    },
    {
     "name": "stdout",
     "output_type": "stream",
     "text": [
      "Raw result from JavaScript: {'debug': {'logs': ['Starting first/last date extraction using plot border targeting', 'Plot border attributes: x=25, y=40, width=672, height=295', 'Calculated positions: leftX=100, rightX=772, centerY=433.5', 'Starting progressive search for left tooltip position', 'Trying left position with offset: 0px', 'Moved cursor to left position: x=100, y=433.5', 'No date element found at left position', 'Trying left position with offset: 1px', 'Moved cursor to left position: x=101, y=433.5', 'Found date element at left: Jul 2001', 'Found value element at left: -16 Points', 'Starting progressive search for right tooltip position', 'Trying right position with offset: 0px', 'Moved cursor to right position: x=772, y=433.5', 'Found date element at right: Feb 2025', 'Found value element at right: -5 Points', 'Extraction complete']}, 'end_date': 'Feb 2025', 'end_value': -5, 'start_date': 'Jul 2001', 'start_value': -16, 'unit_str': 'Points'}\n",
      "Converted start_date: 2001-07-01 00:00:00\n",
      "Converted end_date: 2025-02-01 00:00:00\n"
     ]
    },
    {
     "name": "stderr",
     "output_type": "stream",
     "text": [
      "INFO - JS Log: Starting first/last date extraction using plot border targeting\n",
      "INFO - JS Log: Plot border attributes: x=25, y=40, width=672, height=295\n",
      "INFO - JS Log: Calculated positions: leftX=100, rightX=772, centerY=433.5\n",
      "INFO - JS Log: Starting progressive search for left tooltip position\n",
      "INFO - JS Log: Trying left position with offset: 0px\n",
      "INFO - JS Log: Moved cursor to left position: x=100, y=433.5\n",
      "INFO - JS Log: Found date element at left: Jul 2001\n",
      "INFO - JS Log: Found value element at left: -16 Points\n",
      "INFO - JS Log: Starting progressive search for right tooltip position\n",
      "INFO - JS Log: Trying right position with offset: 0px\n",
      "INFO - JS Log: Moved cursor to right position: x=772, y=433.5\n",
      "INFO - JS Log: Found date element at right: Feb 2025\n",
      "INFO - JS Log: Found value element at right: -5 Points\n",
      "INFO - JS Log: Extraction complete\n",
      "INFO - Successfully retrieved first/last dates: {'debug': {'logs': ['Starting first/last date extraction using plot border targeting', 'Plot border attributes: x=25, y=40, width=672, height=295', 'Calculated positions: leftX=100, rightX=772, centerY=433.5', 'Starting progressive search for left tooltip position', 'Trying left position with offset: 0px', 'Moved cursor to left position: x=100, y=433.5', 'Found date element at left: Jul 2001', 'Found value element at left: -16 Points', 'Starting progressive search for right tooltip position', 'Trying right position with offset: 0px', 'Moved cursor to right position: x=772, y=433.5', 'Found date element at right: Feb 2025', 'Found value element at right: -5 Points', 'Extraction complete']}, 'end_date': Timestamp('2025-02-01 00:00:00'), 'end_value': -5, 'start_date': Timestamp('2001-07-01 00:00:00'), 'start_value': -16, 'unit_str': 'Points'}\n",
      "INFO - Start and end values scraped from tooltips: \n",
      "{'end_date': Timestamp('2025-02-01 00:00:00'), 'end_value': -5, 'start_date': Timestamp('2001-07-01 00:00:00'), 'start_value': -16, 'unit_str': 'Points'}\n",
      "INFO - DateTimeIndex created successfully for the time-series.\n",
      "INFO - Y-axis values scraped successfully.\n",
      "INFO - Series path extraction method: Extracting series data from chart soup.\n",
      "INFO - Date span: MAX. Chart type: .splineChart, URL: https://tradingeconomics.com/united-states/kansas-fed-composite-index.\n"
     ]
    },
    {
     "name": "stdout",
     "output_type": "stream",
     "text": [
      "Raw result from JavaScript: {'debug': {'logs': ['Starting first/last date extraction using plot border targeting', 'Plot border attributes: x=25, y=40, width=672, height=295', 'Calculated positions: leftX=100, rightX=772, centerY=433.5', 'Starting progressive search for left tooltip position', 'Trying left position with offset: 0px', 'Moved cursor to left position: x=100, y=433.5', 'Found date element at left: Jul 2001', 'Found value element at left: -16 Points', 'Starting progressive search for right tooltip position', 'Trying right position with offset: 0px', 'Moved cursor to right position: x=772, y=433.5', 'Found date element at right: Feb 2025', 'Found value element at right: -5 Points', 'Extraction complete']}, 'end_date': 'Feb 2025', 'end_value': -5, 'start_date': 'Jul 2001', 'start_value': -16, 'unit_str': 'Points'}\n",
      "Converted start_date: 2001-07-01 00:00:00\n",
      "Converted end_date: 2025-02-01 00:00:00\n",
      "y_heights:  [335.5, 289.5, 239.5, 190.5, 140.5, 90.5, 39.5]\n",
      "pixheights:  [335.5, 289.5, 239.5, 190.5, 140.5, 90.5, 39.5]\n"
     ]
    },
    {
     "name": "stderr",
     "output_type": "stream",
     "text": [
      "INFO - DateTimeIndex applied to series, series attribute updated.\n",
      "INFO - Scale series method: Start value, end value: -16, -5, pix0, pix1: 256.05633802816897, 210.35211267606002, \n",
      "data units per chart pixel from start & end points: 0.24067796610171455, \n",
      "unit_per_pix calculated from the y axis ticks: 0.23988708526889016, \n",
      "unit_per_pix from axis limits and self.y_axis (probably best way): 0.23986486486486486\n",
      "yaxis top tick: 36.0, yaxis bot tick: -35.0\n",
      "axis_limits: 335.0, 40.0, y-axis series min & max pixel values: 335.5, 39.5\n",
      "INFO - Successfully scaled series.\n",
      "INFO - Successfully scraped time-series from chart at:  https://tradingeconomics.com/united-states/kansas-fed-composite-index, now getting some metadata...\n"
     ]
    },
    {
     "name": "stdout",
     "output_type": "stream",
     "text": [
      "Unit per pix forumlation, 36.0, -35.0, 71.0, 296.0, 40.0, 335.0, 0.23986486486486486\n",
      "Series crosses zero, x-axis should be at about pixel y-cordinate:  190.5\n",
      "Got metadata. \n",
      "\n",
      "Series tail: 2024-10-01   -4.981419\n",
      "2024-11-01   -3.984797\n",
      "2024-12-01   -4.981419\n",
      "2025-01-01   -4.981419\n",
      "2025-02-01   -4.981419\n",
      "Freq: MS, Name: kansas fed composite index, dtype: float64 \n",
      "\n",
      "Scraping complete! Happy pirating yo!\n",
      "Data scraped successfully from: https://tradingeconomics.com/united-states/kansas-fed-composite-index\n"
     ]
    }
   ],
   "source": [
    "scraped = search.get_data(19)  ## Using result number 5 in result_table attribute.\n",
    "# Sometimes you may get an error straight away on the first run of this method. Error message bout error establising connection.\n",
    "# Just try again if so, it has always worked for me the second time unless internet connection is down or too slow"
   ]
  },
  {
   "cell_type": "markdown",
   "metadata": {},
   "source": [
    "### Plot your downloaded series using plotly to create an interactive chart with tooltips."
   ]
  },
  {
   "cell_type": "code",
   "execution_count": 5,
   "metadata": {},
   "outputs": [
    {
     "data": {
      "application/vnd.plotly.v1+json": {
       "config": {
        "plotlyServerURL": "https://plot.ly"
       },
       "data": [
        {
         "hovertemplate": "variable=st louis fed economic news index real gdp nowcast fed data.html<br>index=%{x}<br>value=%{y}<extra></extra>",
         "legendgroup": "st louis fed economic news index real gdp nowcast fed data.html",
         "line": {
          "color": "#636efa",
          "dash": "solid"
         },
         "marker": {
          "symbol": "circle"
         },
         "mode": "lines",
         "name": "st louis fed economic news index real gdp nowcast fed data.html",
         "orientation": "v",
         "showlegend": true,
         "type": "scatter",
         "x": [
          "2013-04-01T00:00:00.000000000",
          "2013-07-01T00:00:00.000000000",
          "2013-10-01T00:00:00.000000000",
          "2014-01-01T00:00:00.000000000",
          "2014-04-01T00:00:00.000000000",
          "2014-07-01T00:00:00.000000000",
          "2014-10-01T00:00:00.000000000",
          "2015-01-01T00:00:00.000000000",
          "2015-04-01T00:00:00.000000000",
          "2015-07-01T00:00:00.000000000",
          "2015-10-01T00:00:00.000000000",
          "2016-01-01T00:00:00.000000000",
          "2016-04-01T00:00:00.000000000",
          "2016-07-01T00:00:00.000000000",
          "2016-10-01T00:00:00.000000000",
          "2017-01-01T00:00:00.000000000",
          "2017-04-01T00:00:00.000000000",
          "2017-07-01T00:00:00.000000000",
          "2017-10-01T00:00:00.000000000",
          "2018-01-01T00:00:00.000000000",
          "2018-04-01T00:00:00.000000000",
          "2018-07-01T00:00:00.000000000",
          "2018-10-01T00:00:00.000000000",
          "2019-01-01T00:00:00.000000000",
          "2019-04-01T00:00:00.000000000",
          "2019-07-01T00:00:00.000000000",
          "2019-10-01T00:00:00.000000000",
          "2020-01-01T00:00:00.000000000",
          "2020-04-01T00:00:00.000000000",
          "2020-07-01T00:00:00.000000000",
          "2020-10-01T00:00:00.000000000",
          "2021-01-01T00:00:00.000000000",
          "2021-04-01T00:00:00.000000000",
          "2021-07-01T00:00:00.000000000",
          "2021-10-01T00:00:00.000000000",
          "2022-01-01T00:00:00.000000000",
          "2022-04-01T00:00:00.000000000",
          "2022-07-01T00:00:00.000000000",
          "2022-10-01T00:00:00.000000000",
          "2023-01-01T00:00:00.000000000",
          "2023-04-01T00:00:00.000000000",
          "2023-07-01T00:00:00.000000000",
          "2023-10-01T00:00:00.000000000",
          "2024-01-01T00:00:00.000000000",
          "2024-04-01T00:00:00.000000000",
          "2024-07-01T00:00:00.000000000",
          "2024-10-01T00:00:00.000000000",
          "2025-01-01T00:00:00.000000000"
         ],
         "xaxis": "x",
         "y": {
          "bdata": "UBOCsvd1CEAwhhfnoeMLQCAWcKc/ogRA+C73PK5bEECQRrXlKokQQMBn3WCKvAlAcEJQ9r5mAkBAMzMzM7P/P3BxHjqGNxBAMGlUW67SB0CQq6RRbXkEQGATgrL3tfA/0A2myGddAUAQXpyHjmEIQOBylTSqLQlA4HKVNKotCUAQgrL3NeECQLAJQdn7GgdA0PuaEJR9C0CwG0yRz7oLQBDnoWN4sQpAQOsGU+RzEUDQ6Y9YwN0GQIA0qi1Xyf0/IJ91gynyBkBQCMre1wQJQBD5rBtMkQBAYhOCsvd1LsAjFnCnPzI/wEyRz7rBXDNAYN1ginxWCUD0RyzgTj8kQEgs4E5/9CFAgCnyWTc4G0CQz7rBFLkNQIAeOoYX5/4/GEyRz7pBEEAApshn3WD0P4Bqy1XSqNo/gLL3NSEo4T8ArRtMkc/oP+DXhKDsPQJAIARl72sCAECgtlwljer6PyD9EQu40/E/4DUhKHvf+z/QzMzMzMwCQOA1ISh73/s/",
          "dtype": "f8"
         },
         "yaxis": "y"
        }
       ],
       "layout": {
        "annotations": [
         {
          "align": "left",
          "bgcolor": "rgba(255, 255, 255, 0.8)",
          "bordercolor": "black",
          "borderwidth": 1,
          "font": {
           "size": 10
          },
          "showarrow": false,
          "text": "Source: Trading Economics<br>Original Source: Federal Reserve of St. Louis<br>Frequency: QS-OCT<br>",
          "x": 0,
          "xanchor": "left",
          "xref": "paper",
          "y": -0.23,
          "yanchor": "bottom",
          "yref": "paper"
         }
        ],
        "legend": {
         "orientation": "h",
         "title": {
          "text": ""
         },
         "tracegroupgap": 0,
         "x": 0.5,
         "xanchor": "center",
         "y": -0.2,
         "yanchor": "bottom"
        },
        "margin": {
         "t": 60
        },
        "template": {
         "data": {
          "bar": [
           {
            "error_x": {
             "color": "#2a3f5f"
            },
            "error_y": {
             "color": "#2a3f5f"
            },
            "marker": {
             "line": {
              "color": "#E5ECF6",
              "width": 0.5
             },
             "pattern": {
              "fillmode": "overlay",
              "size": 10,
              "solidity": 0.2
             }
            },
            "type": "bar"
           }
          ],
          "barpolar": [
           {
            "marker": {
             "line": {
              "color": "#E5ECF6",
              "width": 0.5
             },
             "pattern": {
              "fillmode": "overlay",
              "size": 10,
              "solidity": 0.2
             }
            },
            "type": "barpolar"
           }
          ],
          "carpet": [
           {
            "aaxis": {
             "endlinecolor": "#2a3f5f",
             "gridcolor": "white",
             "linecolor": "white",
             "minorgridcolor": "white",
             "startlinecolor": "#2a3f5f"
            },
            "baxis": {
             "endlinecolor": "#2a3f5f",
             "gridcolor": "white",
             "linecolor": "white",
             "minorgridcolor": "white",
             "startlinecolor": "#2a3f5f"
            },
            "type": "carpet"
           }
          ],
          "choropleth": [
           {
            "colorbar": {
             "outlinewidth": 0,
             "ticks": ""
            },
            "type": "choropleth"
           }
          ],
          "contour": [
           {
            "colorbar": {
             "outlinewidth": 0,
             "ticks": ""
            },
            "colorscale": [
             [
              0,
              "#0d0887"
             ],
             [
              0.1111111111111111,
              "#46039f"
             ],
             [
              0.2222222222222222,
              "#7201a8"
             ],
             [
              0.3333333333333333,
              "#9c179e"
             ],
             [
              0.4444444444444444,
              "#bd3786"
             ],
             [
              0.5555555555555556,
              "#d8576b"
             ],
             [
              0.6666666666666666,
              "#ed7953"
             ],
             [
              0.7777777777777778,
              "#fb9f3a"
             ],
             [
              0.8888888888888888,
              "#fdca26"
             ],
             [
              1,
              "#f0f921"
             ]
            ],
            "type": "contour"
           }
          ],
          "contourcarpet": [
           {
            "colorbar": {
             "outlinewidth": 0,
             "ticks": ""
            },
            "type": "contourcarpet"
           }
          ],
          "heatmap": [
           {
            "colorbar": {
             "outlinewidth": 0,
             "ticks": ""
            },
            "colorscale": [
             [
              0,
              "#0d0887"
             ],
             [
              0.1111111111111111,
              "#46039f"
             ],
             [
              0.2222222222222222,
              "#7201a8"
             ],
             [
              0.3333333333333333,
              "#9c179e"
             ],
             [
              0.4444444444444444,
              "#bd3786"
             ],
             [
              0.5555555555555556,
              "#d8576b"
             ],
             [
              0.6666666666666666,
              "#ed7953"
             ],
             [
              0.7777777777777778,
              "#fb9f3a"
             ],
             [
              0.8888888888888888,
              "#fdca26"
             ],
             [
              1,
              "#f0f921"
             ]
            ],
            "type": "heatmap"
           }
          ],
          "histogram": [
           {
            "marker": {
             "pattern": {
              "fillmode": "overlay",
              "size": 10,
              "solidity": 0.2
             }
            },
            "type": "histogram"
           }
          ],
          "histogram2d": [
           {
            "colorbar": {
             "outlinewidth": 0,
             "ticks": ""
            },
            "colorscale": [
             [
              0,
              "#0d0887"
             ],
             [
              0.1111111111111111,
              "#46039f"
             ],
             [
              0.2222222222222222,
              "#7201a8"
             ],
             [
              0.3333333333333333,
              "#9c179e"
             ],
             [
              0.4444444444444444,
              "#bd3786"
             ],
             [
              0.5555555555555556,
              "#d8576b"
             ],
             [
              0.6666666666666666,
              "#ed7953"
             ],
             [
              0.7777777777777778,
              "#fb9f3a"
             ],
             [
              0.8888888888888888,
              "#fdca26"
             ],
             [
              1,
              "#f0f921"
             ]
            ],
            "type": "histogram2d"
           }
          ],
          "histogram2dcontour": [
           {
            "colorbar": {
             "outlinewidth": 0,
             "ticks": ""
            },
            "colorscale": [
             [
              0,
              "#0d0887"
             ],
             [
              0.1111111111111111,
              "#46039f"
             ],
             [
              0.2222222222222222,
              "#7201a8"
             ],
             [
              0.3333333333333333,
              "#9c179e"
             ],
             [
              0.4444444444444444,
              "#bd3786"
             ],
             [
              0.5555555555555556,
              "#d8576b"
             ],
             [
              0.6666666666666666,
              "#ed7953"
             ],
             [
              0.7777777777777778,
              "#fb9f3a"
             ],
             [
              0.8888888888888888,
              "#fdca26"
             ],
             [
              1,
              "#f0f921"
             ]
            ],
            "type": "histogram2dcontour"
           }
          ],
          "mesh3d": [
           {
            "colorbar": {
             "outlinewidth": 0,
             "ticks": ""
            },
            "type": "mesh3d"
           }
          ],
          "parcoords": [
           {
            "line": {
             "colorbar": {
              "outlinewidth": 0,
              "ticks": ""
             }
            },
            "type": "parcoords"
           }
          ],
          "pie": [
           {
            "automargin": true,
            "type": "pie"
           }
          ],
          "scatter": [
           {
            "fillpattern": {
             "fillmode": "overlay",
             "size": 10,
             "solidity": 0.2
            },
            "type": "scatter"
           }
          ],
          "scatter3d": [
           {
            "line": {
             "colorbar": {
              "outlinewidth": 0,
              "ticks": ""
             }
            },
            "marker": {
             "colorbar": {
              "outlinewidth": 0,
              "ticks": ""
             }
            },
            "type": "scatter3d"
           }
          ],
          "scattercarpet": [
           {
            "marker": {
             "colorbar": {
              "outlinewidth": 0,
              "ticks": ""
             }
            },
            "type": "scattercarpet"
           }
          ],
          "scattergeo": [
           {
            "marker": {
             "colorbar": {
              "outlinewidth": 0,
              "ticks": ""
             }
            },
            "type": "scattergeo"
           }
          ],
          "scattergl": [
           {
            "marker": {
             "colorbar": {
              "outlinewidth": 0,
              "ticks": ""
             }
            },
            "type": "scattergl"
           }
          ],
          "scattermap": [
           {
            "marker": {
             "colorbar": {
              "outlinewidth": 0,
              "ticks": ""
             }
            },
            "type": "scattermap"
           }
          ],
          "scattermapbox": [
           {
            "marker": {
             "colorbar": {
              "outlinewidth": 0,
              "ticks": ""
             }
            },
            "type": "scattermapbox"
           }
          ],
          "scatterpolar": [
           {
            "marker": {
             "colorbar": {
              "outlinewidth": 0,
              "ticks": ""
             }
            },
            "type": "scatterpolar"
           }
          ],
          "scatterpolargl": [
           {
            "marker": {
             "colorbar": {
              "outlinewidth": 0,
              "ticks": ""
             }
            },
            "type": "scatterpolargl"
           }
          ],
          "scatterternary": [
           {
            "marker": {
             "colorbar": {
              "outlinewidth": 0,
              "ticks": ""
             }
            },
            "type": "scatterternary"
           }
          ],
          "surface": [
           {
            "colorbar": {
             "outlinewidth": 0,
             "ticks": ""
            },
            "colorscale": [
             [
              0,
              "#0d0887"
             ],
             [
              0.1111111111111111,
              "#46039f"
             ],
             [
              0.2222222222222222,
              "#7201a8"
             ],
             [
              0.3333333333333333,
              "#9c179e"
             ],
             [
              0.4444444444444444,
              "#bd3786"
             ],
             [
              0.5555555555555556,
              "#d8576b"
             ],
             [
              0.6666666666666666,
              "#ed7953"
             ],
             [
              0.7777777777777778,
              "#fb9f3a"
             ],
             [
              0.8888888888888888,
              "#fdca26"
             ],
             [
              1,
              "#f0f921"
             ]
            ],
            "type": "surface"
           }
          ],
          "table": [
           {
            "cells": {
             "fill": {
              "color": "#EBF0F8"
             },
             "line": {
              "color": "white"
             }
            },
            "header": {
             "fill": {
              "color": "#C8D4E3"
             },
             "line": {
              "color": "white"
             }
            },
            "type": "table"
           }
          ]
         },
         "layout": {
          "annotationdefaults": {
           "arrowcolor": "#2a3f5f",
           "arrowhead": 0,
           "arrowwidth": 1
          },
          "autotypenumbers": "strict",
          "coloraxis": {
           "colorbar": {
            "outlinewidth": 0,
            "ticks": ""
           }
          },
          "colorscale": {
           "diverging": [
            [
             0,
             "#8e0152"
            ],
            [
             0.1,
             "#c51b7d"
            ],
            [
             0.2,
             "#de77ae"
            ],
            [
             0.3,
             "#f1b6da"
            ],
            [
             0.4,
             "#fde0ef"
            ],
            [
             0.5,
             "#f7f7f7"
            ],
            [
             0.6,
             "#e6f5d0"
            ],
            [
             0.7,
             "#b8e186"
            ],
            [
             0.8,
             "#7fbc41"
            ],
            [
             0.9,
             "#4d9221"
            ],
            [
             1,
             "#276419"
            ]
           ],
           "sequential": [
            [
             0,
             "#0d0887"
            ],
            [
             0.1111111111111111,
             "#46039f"
            ],
            [
             0.2222222222222222,
             "#7201a8"
            ],
            [
             0.3333333333333333,
             "#9c179e"
            ],
            [
             0.4444444444444444,
             "#bd3786"
            ],
            [
             0.5555555555555556,
             "#d8576b"
            ],
            [
             0.6666666666666666,
             "#ed7953"
            ],
            [
             0.7777777777777778,
             "#fb9f3a"
            ],
            [
             0.8888888888888888,
             "#fdca26"
            ],
            [
             1,
             "#f0f921"
            ]
           ],
           "sequentialminus": [
            [
             0,
             "#0d0887"
            ],
            [
             0.1111111111111111,
             "#46039f"
            ],
            [
             0.2222222222222222,
             "#7201a8"
            ],
            [
             0.3333333333333333,
             "#9c179e"
            ],
            [
             0.4444444444444444,
             "#bd3786"
            ],
            [
             0.5555555555555556,
             "#d8576b"
            ],
            [
             0.6666666666666666,
             "#ed7953"
            ],
            [
             0.7777777777777778,
             "#fb9f3a"
            ],
            [
             0.8888888888888888,
             "#fdca26"
            ],
            [
             1,
             "#f0f921"
            ]
           ]
          },
          "colorway": [
           "#636efa",
           "#EF553B",
           "#00cc96",
           "#ab63fa",
           "#FFA15A",
           "#19d3f3",
           "#FF6692",
           "#B6E880",
           "#FF97FF",
           "#FECB52"
          ],
          "font": {
           "color": "#2a3f5f"
          },
          "geo": {
           "bgcolor": "white",
           "lakecolor": "white",
           "landcolor": "#E5ECF6",
           "showlakes": true,
           "showland": true,
           "subunitcolor": "white"
          },
          "hoverlabel": {
           "align": "left"
          },
          "hovermode": "closest",
          "mapbox": {
           "style": "light"
          },
          "paper_bgcolor": "white",
          "plot_bgcolor": "#E5ECF6",
          "polar": {
           "angularaxis": {
            "gridcolor": "white",
            "linecolor": "white",
            "ticks": ""
           },
           "bgcolor": "#E5ECF6",
           "radialaxis": {
            "gridcolor": "white",
            "linecolor": "white",
            "ticks": ""
           }
          },
          "scene": {
           "xaxis": {
            "backgroundcolor": "#E5ECF6",
            "gridcolor": "white",
            "gridwidth": 2,
            "linecolor": "white",
            "showbackground": true,
            "ticks": "",
            "zerolinecolor": "white"
           },
           "yaxis": {
            "backgroundcolor": "#E5ECF6",
            "gridcolor": "white",
            "gridwidth": 2,
            "linecolor": "white",
            "showbackground": true,
            "ticks": "",
            "zerolinecolor": "white"
           },
           "zaxis": {
            "backgroundcolor": "#E5ECF6",
            "gridcolor": "white",
            "gridwidth": 2,
            "linecolor": "white",
            "showbackground": true,
            "ticks": "",
            "zerolinecolor": "white"
           }
          },
          "shapedefaults": {
           "line": {
            "color": "#2a3f5f"
           }
          },
          "ternary": {
           "aaxis": {
            "gridcolor": "white",
            "linecolor": "white",
            "ticks": ""
           },
           "baxis": {
            "gridcolor": "white",
            "linecolor": "white",
            "ticks": ""
           },
           "bgcolor": "#E5ECF6",
           "caxis": {
            "gridcolor": "white",
            "linecolor": "white",
            "ticks": ""
           }
          },
          "title": {
           "x": 0.05
          },
          "xaxis": {
           "automargin": true,
           "gridcolor": "white",
           "linecolor": "white",
           "ticks": "",
           "title": {
            "standoff": 15
           },
           "zerolinecolor": "white",
           "zerolinewidth": 2
          },
          "yaxis": {
           "automargin": true,
           "gridcolor": "white",
           "linecolor": "white",
           "ticks": "",
           "title": {
            "standoff": 15
           },
           "zerolinecolor": "white",
           "zerolinewidth": 2
          }
         }
        },
        "title": {
         "text": "United states: United states - st. louis fed economic news index: real gdp nowcast - 2025 data  2026 forecast 2013 historical"
        },
        "xaxis": {
         "anchor": "y",
         "domain": [
          0,
          1
         ],
         "title": {
          "text": ""
         }
        },
        "yaxis": {
         "anchor": "x",
         "domain": [
          0,
          1
         ],
         "title": {
          "text": "% chg. at annual rate"
         }
        }
       }
      }
     },
     "metadata": {},
     "output_type": "display_data"
    }
   ],
   "source": [
    "scraped = search.scraped_data\n",
    "scraped.plot_series(ann_box_pos=(0, -0.23))  # Yu can move the annotation box around by changing the values of ann_box_pos."
   ]
  },
  {
   "cell_type": "code",
   "execution_count": null,
   "metadata": {},
   "outputs": [],
   "source": [
    "scraped.save_plot(format=\"html\")  #Export static plot as png if you wish. Use format=\"html\" for interactive plot export."
   ]
  },
  {
   "cell_type": "code",
   "execution_count": 6,
   "metadata": {},
   "outputs": [
    {
     "data": {
      "text/plain": [
       "{'units': 'points',\n",
       " 'original_source': 'Federal Reserve Bank of Kansas City',\n",
       " 'title': 'United States Kansas Fed Composite Index',\n",
       " 'indicator': 'kansas fed composite index',\n",
       " 'country': 'united states',\n",
       " 'source': 'Trading Economics',\n",
       " 'id': 'united-states/kansas-fed-composite-index',\n",
       " 'description': 'The Federal Reserve Bank of Kansas City Survey of Manufacturers provides information on current manufacturing activity in the Tenth District (Colorado, Kansas, Nebraska, Oklahoma, Wyoming, northern New Mexico, and western Missouri). The monthly survey consists of approximately 150 manufacturing plants across the district of which about 110 respond. Survey results reveal changes in several indicators of manufacturing activity including production, shipments, new orders, and employment along with changes in prices of raw materials and finished products. The diffusion index is calculated as the difference between the percentage of total reporting increases and the percentage reporting decreases.',\n",
       " 'frequency': 'MS',\n",
       " 'start_date': '2001-07-01',\n",
       " 'end_date': '2025-02-01',\n",
       " 'min_value': -29.896959459459442,\n",
       " 'max_value': 30.896959459460405,\n",
       " 'length': 284}"
      ]
     },
     "execution_count": 6,
     "metadata": {},
     "output_type": "execute_result"
    }
   ],
   "source": [
    "scraped.metadata"
   ]
  },
  {
   "cell_type": "markdown",
   "metadata": {},
   "source": [
    "# Method #2: Download data for a given Indicator + Country combination or a given URL with a single line.\n",
    "\n",
    "Sometimes you may get an error straight away on the first run of the ```scrape_chart``` method. Error message will be something about error establising a connection.\n",
    "\n",
    "Noted error messages for this: \n",
    "- Error loading page: Message: Failed to write request to stream\n",
    "- Error loading page: Message: Tried to run command without establishing a connection\n",
    "\n",
    "Just try again if so, it has always worked for me the second time unless internet connection is down or too slow."
   ]
  },
  {
   "cell_type": "code",
   "execution_count": 2,
   "metadata": {},
   "outputs": [
    {
     "data": {
      "text/plain": [
       "[]"
      ]
     },
     "execution_count": 2,
     "metadata": {},
     "output_type": "execute_result"
    }
   ],
   "source": [
    "ted.find_active_drivers(quit_all=True)  # Use this to find and quit all active drivers, use it now and then to clean up.."
   ]
  },
  {
   "cell_type": "code",
   "execution_count": null,
   "metadata": {},
   "outputs": [
    {
     "name": "stderr",
     "output_type": "stream",
     "text": [
      "INFO - New firefox webdriver created.\n",
      "INFO - scrape_chart function: Scraping chart at: https://tradingeconomics.com/australia/manufacturing-pmi, time: 2025-03-12 11:51:48.340850, method: path\n",
      "INFO - Chart types dictionary created successfully: dict_keys(['Column', 'Spline', 'Areaspline', 'Stepline', 'Line', 'Area'])\n",
      "INFO - Date span set to: 6M\n",
      "INFO - \n",
      "Series metadata: \n",
      " {'units': 'points', 'original_source': 'S&P Global', 'title': 'Australia S&P Global Manufacturing PMI', 'indicator': 'manufacturing pmi', 'country': 'australia', 'source': 'Trading Economics', 'id': 'australia/manufacturing-pmi'}\n",
      "INFO - Chart type set to: Spline (using JavaScript)\n"
     ]
    },
    {
     "name": "stdout",
     "output_type": "stream",
     "text": [
      "Using selenium and tooltip scraping to construct the date time index for the time-series, this'll take a bit...\n"
     ]
    },
    {
     "name": "stderr",
     "output_type": "stream",
     "text": [
      "INFO - Time taken to select chart type: 0.6802805997431278\n",
      "INFO - Time taken to execute JS code: 4.114807299803942\n"
     ]
    },
    {
     "name": "stdout",
     "output_type": "stream",
     "text": [
      "Frequency of time-series:  MS\n"
     ]
    },
    {
     "name": "stderr",
     "output_type": "stream",
     "text": [
      "INFO - Chart type set to: Spline (using JavaScript)\n",
      "INFO - JS Log: Plot area: left=100, right=777, width=677, height=295\n",
      "INFO - JS Log: Checking left point at x=100, y=421.5\n",
      "INFO - JS Log: Found tooltip at left: {\"date\":null,\"value\":null}\n",
      "INFO - JS Log: Checking right point at x=777, y=421.5\n",
      "INFO - JS Log: Found tooltip at right: {\"date\":\"Feb 2025\",\"value\":null}\n",
      "INFO - JS Log: Extraction complete\n",
      "INFO - Successfully retrieved first/last dates.\n"
     ]
    },
    {
     "name": "stdout",
     "output_type": "stream",
     "text": [
      "Converted end_date: 2025-02-01 00:00:00\n",
      "Retrying start_end extraction...\n"
     ]
    },
    {
     "name": "stderr",
     "output_type": "stream",
     "text": [
      "INFO - JS Log: Plot area: left=100, right=777, width=677, height=295\n",
      "INFO - JS Log: Checking left point at x=100, y=421.5\n",
      "INFO - JS Log: Found tooltip at left: {\"date\":\"Feb 2022\",\"value\":null}\n",
      "INFO - JS Log: Checking right point at x=777, y=421.5\n",
      "INFO - JS Log: Found tooltip at right: {\"date\":\"Feb 2025\",\"value\":null}\n",
      "INFO - JS Log: Extraction complete\n",
      "INFO - Successfully retrieved first/last dates.\n",
      "INFO - Start and end values scraped from tooltips: \n",
      "{'end_date': Timestamp('2025-02-01 00:00:00'), 'end_value': None, 'start_date': Timestamp('2022-02-01 00:00:00'), 'start_value': None}\n",
      "INFO - DateTimeIndex created successfully for the time-series.\n",
      "INFO - Y-axis values scraped successfully.\n",
      "INFO - Series path extraction method: Extracting series data from chart soup.\n",
      "INFO - Date span: MAX. Chart type: .splineChart, URL: https://tradingeconomics.com/australia/manufacturing-pmi.\n",
      "INFO - DateTimeIndex applied to series, series attribute updated.\n",
      "INFO - Scale series method:  \n",
      "unit_per_pix calculated from the y axis ticks: 0.050503663003663, \n",
      "unit_per_pix from axis limits and self.y_axis (probably best way): 0.05067567567567568\n",
      "yaxis top tick: 60.0, yaxis bot tick: 45.0\n",
      "axis_limits: 335.0, 40.0, y-axis series min & max pixel values: 335.5, 39.5\n",
      "INFO - Successfully scaled series.\n",
      "INFO - Successfully scraped time-series from chart at:  https://tradingeconomics.com/australia/manufacturing-pmi, now getting some metadata...\n"
     ]
    },
    {
     "name": "stdout",
     "output_type": "stream",
     "text": [
      "Converted start_date: 2022-02-01 00:00:00\n",
      "Converted end_date: 2025-02-01 00:00:00\n",
      "Start and end dates scraped from tooltips:  {'end_date': Timestamp('2025-02-01 00:00:00'), 'end_value': None, 'start_date': Timestamp('2022-02-01 00:00:00'), 'start_value': None}\n",
      "y_heights:  [335.5, 296.5, 256.5, 217.5, 178.5, 138.5, 99.5, 60.5, 39.5]\n",
      "pixheights:  [335.5, 296.5, 256.5, 217.5, 178.5, 138.5, 99.5, 60.5, 39.5]\n",
      "Unit per pix forumlation, 60.0, 45.0, 15.0, 296.0, 40.0, 335.0, 0.05067567567567568\n",
      "Series crosses zero, x-axis should be at about pixel y-cordinate:  None\n",
      "Got metadata. \n",
      "\n",
      "Series tail: 2024-10-01    47.317568\n",
      "2024-11-01    49.410473\n",
      "2024-12-01    47.815878\n",
      "2025-01-01    50.207770\n",
      "2025-02-01    50.407095\n",
      "Freq: MS, Name: manufacturing pmi, dtype: float64 \n",
      "\n",
      "Scraping complete! Happy pirating yo!\n"
     ]
    }
   ],
   "source": [
    "scraped = ted.scrape_chart(country=\"united-states\", id = \"gdp-growth\", use_existing_driver=False, headless=False, method=\"mixed\") ## Using chart id from the url only, country is \"united-states\" by default."
   ]
  },
  {
   "cell_type": "code",
   "execution_count": 4,
   "metadata": {},
   "outputs": [
    {
     "data": {
      "application/vnd.plotly.v1+json": {
       "config": {
        "plotlyServerURL": "https://plot.ly"
       },
       "data": [
        {
         "hovertemplate": "variable=manufacturing pmi<br>index=%{x}<br>value=%{y}<extra></extra>",
         "legendgroup": "manufacturing pmi",
         "line": {
          "color": "#636efa",
          "dash": "solid"
         },
         "marker": {
          "symbol": "circle"
         },
         "mode": "lines",
         "name": "manufacturing pmi",
         "orientation": "v",
         "showlegend": true,
         "type": "scatter",
         "x": [
          "2022-02-01T00:00:00.000000000",
          "2022-03-01T00:00:00.000000000",
          "2022-04-01T00:00:00.000000000",
          "2022-05-01T00:00:00.000000000",
          "2022-06-01T00:00:00.000000000",
          "2022-07-01T00:00:00.000000000",
          "2022-08-01T00:00:00.000000000",
          "2022-09-01T00:00:00.000000000",
          "2022-10-01T00:00:00.000000000",
          "2022-11-01T00:00:00.000000000",
          "2022-12-01T00:00:00.000000000",
          "2023-01-01T00:00:00.000000000",
          "2023-02-01T00:00:00.000000000",
          "2023-03-01T00:00:00.000000000",
          "2023-04-01T00:00:00.000000000",
          "2023-05-01T00:00:00.000000000",
          "2023-06-01T00:00:00.000000000",
          "2023-07-01T00:00:00.000000000",
          "2023-08-01T00:00:00.000000000",
          "2023-09-01T00:00:00.000000000",
          "2023-10-01T00:00:00.000000000",
          "2023-11-01T00:00:00.000000000",
          "2023-12-01T00:00:00.000000000",
          "2024-01-01T00:00:00.000000000",
          "2024-02-01T00:00:00.000000000",
          "2024-03-01T00:00:00.000000000",
          "2024-04-01T00:00:00.000000000",
          "2024-05-01T00:00:00.000000000",
          "2024-06-01T00:00:00.000000000",
          "2024-07-01T00:00:00.000000000",
          "2024-08-01T00:00:00.000000000",
          "2024-09-01T00:00:00.000000000",
          "2024-10-01T00:00:00.000000000",
          "2024-11-01T00:00:00.000000000",
          "2024-12-01T00:00:00.000000000",
          "2025-01-01T00:00:00.000000000",
          "2025-02-01T00:00:00.000000000"
         ],
         "xaxis": "x",
         "y": {
          "bdata": "YYp81g1+TECOgynyWddMQLvBFPmsY01AbCnyWTfYS0AYAAAAABhMQGwp8lk32EtA9WCKfNblSkARrRtMkb9KQIEin3WDWUpAbzBFPuumSUBB8lk3mBpJQI/PusEUAUlAJqbIZ91ASUDis24wRY5IQJ91gynyAUhA0rrBFPk0SEA1mCKfdRtIQGOKfNYNzkhAY4p81g3OSEC2bjBFPltIQDWYIp91G0hAu8EU+azbR0BsMEU+685HQN5ginzWDUlACVPks27oR0CIfNYNpqhHQGOKfNYNzkhAqxtMkc/aSEBB6wZT5JtHQCWfdYMpwkdAGkyRz7pBSEC/FPmsG1xHQIh81g2mqEdAx2fdYIq0SEAJU+SzbuhHQEHyWTeYGklAwhT5rBs0SUA=",
          "dtype": "f8"
         },
         "yaxis": "y"
        }
       ],
       "layout": {
        "annotations": [
         {
          "align": "left",
          "bgcolor": "rgba(255, 255, 255, 0.8)",
          "bordercolor": "black",
          "borderwidth": 1,
          "font": {
           "size": 10
          },
          "showarrow": false,
          "text": "Source: Trading Economics<br>Original Source: S&P Global<br>Frequency: MS<br>",
          "x": 0,
          "xanchor": "left",
          "xref": "paper",
          "y": -0.2,
          "yanchor": "bottom",
          "yref": "paper"
         }
        ],
        "legend": {
         "orientation": "h",
         "title": {
          "text": ""
         },
         "tracegroupgap": 0,
         "x": 0.5,
         "xanchor": "center",
         "y": -0.2,
         "yanchor": "bottom"
        },
        "margin": {
         "t": 60
        },
        "template": {
         "data": {
          "bar": [
           {
            "error_x": {
             "color": "#2a3f5f"
            },
            "error_y": {
             "color": "#2a3f5f"
            },
            "marker": {
             "line": {
              "color": "#E5ECF6",
              "width": 0.5
             },
             "pattern": {
              "fillmode": "overlay",
              "size": 10,
              "solidity": 0.2
             }
            },
            "type": "bar"
           }
          ],
          "barpolar": [
           {
            "marker": {
             "line": {
              "color": "#E5ECF6",
              "width": 0.5
             },
             "pattern": {
              "fillmode": "overlay",
              "size": 10,
              "solidity": 0.2
             }
            },
            "type": "barpolar"
           }
          ],
          "carpet": [
           {
            "aaxis": {
             "endlinecolor": "#2a3f5f",
             "gridcolor": "white",
             "linecolor": "white",
             "minorgridcolor": "white",
             "startlinecolor": "#2a3f5f"
            },
            "baxis": {
             "endlinecolor": "#2a3f5f",
             "gridcolor": "white",
             "linecolor": "white",
             "minorgridcolor": "white",
             "startlinecolor": "#2a3f5f"
            },
            "type": "carpet"
           }
          ],
          "choropleth": [
           {
            "colorbar": {
             "outlinewidth": 0,
             "ticks": ""
            },
            "type": "choropleth"
           }
          ],
          "contour": [
           {
            "colorbar": {
             "outlinewidth": 0,
             "ticks": ""
            },
            "colorscale": [
             [
              0,
              "#0d0887"
             ],
             [
              0.1111111111111111,
              "#46039f"
             ],
             [
              0.2222222222222222,
              "#7201a8"
             ],
             [
              0.3333333333333333,
              "#9c179e"
             ],
             [
              0.4444444444444444,
              "#bd3786"
             ],
             [
              0.5555555555555556,
              "#d8576b"
             ],
             [
              0.6666666666666666,
              "#ed7953"
             ],
             [
              0.7777777777777778,
              "#fb9f3a"
             ],
             [
              0.8888888888888888,
              "#fdca26"
             ],
             [
              1,
              "#f0f921"
             ]
            ],
            "type": "contour"
           }
          ],
          "contourcarpet": [
           {
            "colorbar": {
             "outlinewidth": 0,
             "ticks": ""
            },
            "type": "contourcarpet"
           }
          ],
          "heatmap": [
           {
            "colorbar": {
             "outlinewidth": 0,
             "ticks": ""
            },
            "colorscale": [
             [
              0,
              "#0d0887"
             ],
             [
              0.1111111111111111,
              "#46039f"
             ],
             [
              0.2222222222222222,
              "#7201a8"
             ],
             [
              0.3333333333333333,
              "#9c179e"
             ],
             [
              0.4444444444444444,
              "#bd3786"
             ],
             [
              0.5555555555555556,
              "#d8576b"
             ],
             [
              0.6666666666666666,
              "#ed7953"
             ],
             [
              0.7777777777777778,
              "#fb9f3a"
             ],
             [
              0.8888888888888888,
              "#fdca26"
             ],
             [
              1,
              "#f0f921"
             ]
            ],
            "type": "heatmap"
           }
          ],
          "histogram": [
           {
            "marker": {
             "pattern": {
              "fillmode": "overlay",
              "size": 10,
              "solidity": 0.2
             }
            },
            "type": "histogram"
           }
          ],
          "histogram2d": [
           {
            "colorbar": {
             "outlinewidth": 0,
             "ticks": ""
            },
            "colorscale": [
             [
              0,
              "#0d0887"
             ],
             [
              0.1111111111111111,
              "#46039f"
             ],
             [
              0.2222222222222222,
              "#7201a8"
             ],
             [
              0.3333333333333333,
              "#9c179e"
             ],
             [
              0.4444444444444444,
              "#bd3786"
             ],
             [
              0.5555555555555556,
              "#d8576b"
             ],
             [
              0.6666666666666666,
              "#ed7953"
             ],
             [
              0.7777777777777778,
              "#fb9f3a"
             ],
             [
              0.8888888888888888,
              "#fdca26"
             ],
             [
              1,
              "#f0f921"
             ]
            ],
            "type": "histogram2d"
           }
          ],
          "histogram2dcontour": [
           {
            "colorbar": {
             "outlinewidth": 0,
             "ticks": ""
            },
            "colorscale": [
             [
              0,
              "#0d0887"
             ],
             [
              0.1111111111111111,
              "#46039f"
             ],
             [
              0.2222222222222222,
              "#7201a8"
             ],
             [
              0.3333333333333333,
              "#9c179e"
             ],
             [
              0.4444444444444444,
              "#bd3786"
             ],
             [
              0.5555555555555556,
              "#d8576b"
             ],
             [
              0.6666666666666666,
              "#ed7953"
             ],
             [
              0.7777777777777778,
              "#fb9f3a"
             ],
             [
              0.8888888888888888,
              "#fdca26"
             ],
             [
              1,
              "#f0f921"
             ]
            ],
            "type": "histogram2dcontour"
           }
          ],
          "mesh3d": [
           {
            "colorbar": {
             "outlinewidth": 0,
             "ticks": ""
            },
            "type": "mesh3d"
           }
          ],
          "parcoords": [
           {
            "line": {
             "colorbar": {
              "outlinewidth": 0,
              "ticks": ""
             }
            },
            "type": "parcoords"
           }
          ],
          "pie": [
           {
            "automargin": true,
            "type": "pie"
           }
          ],
          "scatter": [
           {
            "fillpattern": {
             "fillmode": "overlay",
             "size": 10,
             "solidity": 0.2
            },
            "type": "scatter"
           }
          ],
          "scatter3d": [
           {
            "line": {
             "colorbar": {
              "outlinewidth": 0,
              "ticks": ""
             }
            },
            "marker": {
             "colorbar": {
              "outlinewidth": 0,
              "ticks": ""
             }
            },
            "type": "scatter3d"
           }
          ],
          "scattercarpet": [
           {
            "marker": {
             "colorbar": {
              "outlinewidth": 0,
              "ticks": ""
             }
            },
            "type": "scattercarpet"
           }
          ],
          "scattergeo": [
           {
            "marker": {
             "colorbar": {
              "outlinewidth": 0,
              "ticks": ""
             }
            },
            "type": "scattergeo"
           }
          ],
          "scattergl": [
           {
            "marker": {
             "colorbar": {
              "outlinewidth": 0,
              "ticks": ""
             }
            },
            "type": "scattergl"
           }
          ],
          "scattermap": [
           {
            "marker": {
             "colorbar": {
              "outlinewidth": 0,
              "ticks": ""
             }
            },
            "type": "scattermap"
           }
          ],
          "scattermapbox": [
           {
            "marker": {
             "colorbar": {
              "outlinewidth": 0,
              "ticks": ""
             }
            },
            "type": "scattermapbox"
           }
          ],
          "scatterpolar": [
           {
            "marker": {
             "colorbar": {
              "outlinewidth": 0,
              "ticks": ""
             }
            },
            "type": "scatterpolar"
           }
          ],
          "scatterpolargl": [
           {
            "marker": {
             "colorbar": {
              "outlinewidth": 0,
              "ticks": ""
             }
            },
            "type": "scatterpolargl"
           }
          ],
          "scatterternary": [
           {
            "marker": {
             "colorbar": {
              "outlinewidth": 0,
              "ticks": ""
             }
            },
            "type": "scatterternary"
           }
          ],
          "surface": [
           {
            "colorbar": {
             "outlinewidth": 0,
             "ticks": ""
            },
            "colorscale": [
             [
              0,
              "#0d0887"
             ],
             [
              0.1111111111111111,
              "#46039f"
             ],
             [
              0.2222222222222222,
              "#7201a8"
             ],
             [
              0.3333333333333333,
              "#9c179e"
             ],
             [
              0.4444444444444444,
              "#bd3786"
             ],
             [
              0.5555555555555556,
              "#d8576b"
             ],
             [
              0.6666666666666666,
              "#ed7953"
             ],
             [
              0.7777777777777778,
              "#fb9f3a"
             ],
             [
              0.8888888888888888,
              "#fdca26"
             ],
             [
              1,
              "#f0f921"
             ]
            ],
            "type": "surface"
           }
          ],
          "table": [
           {
            "cells": {
             "fill": {
              "color": "#EBF0F8"
             },
             "line": {
              "color": "white"
             }
            },
            "header": {
             "fill": {
              "color": "#C8D4E3"
             },
             "line": {
              "color": "white"
             }
            },
            "type": "table"
           }
          ]
         },
         "layout": {
          "annotationdefaults": {
           "arrowcolor": "#2a3f5f",
           "arrowhead": 0,
           "arrowwidth": 1
          },
          "autotypenumbers": "strict",
          "coloraxis": {
           "colorbar": {
            "outlinewidth": 0,
            "ticks": ""
           }
          },
          "colorscale": {
           "diverging": [
            [
             0,
             "#8e0152"
            ],
            [
             0.1,
             "#c51b7d"
            ],
            [
             0.2,
             "#de77ae"
            ],
            [
             0.3,
             "#f1b6da"
            ],
            [
             0.4,
             "#fde0ef"
            ],
            [
             0.5,
             "#f7f7f7"
            ],
            [
             0.6,
             "#e6f5d0"
            ],
            [
             0.7,
             "#b8e186"
            ],
            [
             0.8,
             "#7fbc41"
            ],
            [
             0.9,
             "#4d9221"
            ],
            [
             1,
             "#276419"
            ]
           ],
           "sequential": [
            [
             0,
             "#0d0887"
            ],
            [
             0.1111111111111111,
             "#46039f"
            ],
            [
             0.2222222222222222,
             "#7201a8"
            ],
            [
             0.3333333333333333,
             "#9c179e"
            ],
            [
             0.4444444444444444,
             "#bd3786"
            ],
            [
             0.5555555555555556,
             "#d8576b"
            ],
            [
             0.6666666666666666,
             "#ed7953"
            ],
            [
             0.7777777777777778,
             "#fb9f3a"
            ],
            [
             0.8888888888888888,
             "#fdca26"
            ],
            [
             1,
             "#f0f921"
            ]
           ],
           "sequentialminus": [
            [
             0,
             "#0d0887"
            ],
            [
             0.1111111111111111,
             "#46039f"
            ],
            [
             0.2222222222222222,
             "#7201a8"
            ],
            [
             0.3333333333333333,
             "#9c179e"
            ],
            [
             0.4444444444444444,
             "#bd3786"
            ],
            [
             0.5555555555555556,
             "#d8576b"
            ],
            [
             0.6666666666666666,
             "#ed7953"
            ],
            [
             0.7777777777777778,
             "#fb9f3a"
            ],
            [
             0.8888888888888888,
             "#fdca26"
            ],
            [
             1,
             "#f0f921"
            ]
           ]
          },
          "colorway": [
           "#636efa",
           "#EF553B",
           "#00cc96",
           "#ab63fa",
           "#FFA15A",
           "#19d3f3",
           "#FF6692",
           "#B6E880",
           "#FF97FF",
           "#FECB52"
          ],
          "font": {
           "color": "#2a3f5f"
          },
          "geo": {
           "bgcolor": "white",
           "lakecolor": "white",
           "landcolor": "#E5ECF6",
           "showlakes": true,
           "showland": true,
           "subunitcolor": "white"
          },
          "hoverlabel": {
           "align": "left"
          },
          "hovermode": "closest",
          "mapbox": {
           "style": "light"
          },
          "paper_bgcolor": "white",
          "plot_bgcolor": "#E5ECF6",
          "polar": {
           "angularaxis": {
            "gridcolor": "white",
            "linecolor": "white",
            "ticks": ""
           },
           "bgcolor": "#E5ECF6",
           "radialaxis": {
            "gridcolor": "white",
            "linecolor": "white",
            "ticks": ""
           }
          },
          "scene": {
           "xaxis": {
            "backgroundcolor": "#E5ECF6",
            "gridcolor": "white",
            "gridwidth": 2,
            "linecolor": "white",
            "showbackground": true,
            "ticks": "",
            "zerolinecolor": "white"
           },
           "yaxis": {
            "backgroundcolor": "#E5ECF6",
            "gridcolor": "white",
            "gridwidth": 2,
            "linecolor": "white",
            "showbackground": true,
            "ticks": "",
            "zerolinecolor": "white"
           },
           "zaxis": {
            "backgroundcolor": "#E5ECF6",
            "gridcolor": "white",
            "gridwidth": 2,
            "linecolor": "white",
            "showbackground": true,
            "ticks": "",
            "zerolinecolor": "white"
           }
          },
          "shapedefaults": {
           "line": {
            "color": "#2a3f5f"
           }
          },
          "ternary": {
           "aaxis": {
            "gridcolor": "white",
            "linecolor": "white",
            "ticks": ""
           },
           "baxis": {
            "gridcolor": "white",
            "linecolor": "white",
            "ticks": ""
           },
           "bgcolor": "#E5ECF6",
           "caxis": {
            "gridcolor": "white",
            "linecolor": "white",
            "ticks": ""
           }
          },
          "title": {
           "x": 0.05
          },
          "xaxis": {
           "automargin": true,
           "gridcolor": "white",
           "linecolor": "white",
           "ticks": "",
           "title": {
            "standoff": 15
           },
           "zerolinecolor": "white",
           "zerolinewidth": 2
          },
          "yaxis": {
           "automargin": true,
           "gridcolor": "white",
           "linecolor": "white",
           "ticks": "",
           "title": {
            "standoff": 15
           },
           "zerolinecolor": "white",
           "zerolinewidth": 2
          }
         }
        },
        "title": {
         "text": "Australia: Australia s&p global manufacturing pmi"
        },
        "xaxis": {
         "anchor": "y",
         "domain": [
          0,
          1
         ],
         "title": {
          "text": ""
         }
        },
        "yaxis": {
         "anchor": "x",
         "domain": [
          0,
          1
         ],
         "title": {
          "text": "Points"
         }
        }
       }
      }
     },
     "metadata": {},
     "output_type": "display_data"
    }
   ],
   "source": [
    "scraped.plot_series()   #Plotting the series"
   ]
  },
  {
   "cell_type": "code",
   "execution_count": null,
   "metadata": {},
   "outputs": [],
   "source": [
    "chart_type = \"Line\"\n",
    "success = self.driver.execute_script(f\"\"\"\n",
    "        var chartType = \"{chart_type}\";\n",
    "        var buttons = document.querySelectorAll('.chartTypesWrapper button');\n",
    "        for (var i = 0; i < buttons.length; i++) {{\n",
    "            if (buttons[i].textContent.trim() === chartType || \n",
    "                buttons[i].getAttribute('title') === chartType ||\n",
    "                buttons[i].parentElement.getAttribute('title') === chartType) {{\n",
    "                buttons[i].click();\n",
    "                return true;\n",
    "            }}\n",
    "        }}\n",
    "        return false;\n",
    "    \"\"\")"
   ]
  },
  {
   "cell_type": "markdown",
   "metadata": {},
   "source": [
    "### Aside note\n",
    "- I've found some series have changing frequency over time. e.g a series may have been collected quarterly in the early days and now is collected monthly. For these cases \"path\" method will not work well at all. To begin to counter this I've created the ```get_earliest_points``` method. Still not solved as of v0.3.0 though. \n",
    "- For such cases you can always use the \"mixed\" method, which should collect all datapoints from the tooltips getting whatever data is actually there. "
   ]
  },
  {
   "cell_type": "code",
   "execution_count": null,
   "metadata": {},
   "outputs": [],
   "source": [
    "scraped.get_earliest_points()\n",
    "# Get the values of the series 5 years later."
   ]
  },
  {
   "cell_type": "markdown",
   "metadata": {},
   "source": [
    "# Method #3: Debug method - manually run through the steps.\n",
    "\n",
    "If you get an error on trying load_page method, something like the examples below: \n",
    "- Error loading page: Message: Failed to decode response from marionette\n",
    "- Error loading page: Message: Tried to run command without establishing a connection\n",
    "\n",
    "You need to start a new webdriver instance. Reinitilize your TE_Scraper object and set: ```use_existing_driver = False```"
   ]
  },
  {
   "cell_type": "code",
   "execution_count": 2,
   "metadata": {},
   "outputs": [
    {
     "name": "stderr",
     "output_type": "stream",
     "text": [
      "INFO - New firefox webdriver created.\n"
     ]
    }
   ],
   "source": [
    "scr = ted.TE_Scraper(use_existing_driver=False, headless = False)  ## Initialize a new TE_scraper object."
   ]
  },
  {
   "cell_type": "code",
   "execution_count": 22,
   "metadata": {},
   "outputs": [
    {
     "name": "stderr",
     "output_type": "stream",
     "text": [
      "INFO - Chart types dictionary created successfully: dict_keys(['Column', 'Spline', 'Areaspline', 'Stepline', 'Line', 'Area'])\n",
      "INFO - Date span set to: 1Y\n"
     ]
    },
    {
     "data": {
      "text/plain": [
       "True"
      ]
     },
     "execution_count": 22,
     "metadata": {},
     "output_type": "execute_result"
    }
   ],
   "source": [
    "scr.load_page('https://tradingeconomics.com/united-states/personal-income', extra_wait_time=4) ## Load a new page containing chart. Use higher extra_wait_time if it fails.\n",
    "#\"https://tradingeconomics.com/united-states/personal-income\" https://tradingeconomics.com/united-states/manufacturing-pmi"
   ]
  },
  {
   "cell_type": "code",
   "execution_count": 14,
   "metadata": {},
   "outputs": [
    {
     "name": "stderr",
     "output_type": "stream",
     "text": [
      "INFO - \n",
      "Series metadata: \n",
      " {'units': '%', 'original_source': 'U.S. Bureau of Economic Analysis', 'title': 'United States Personal Income', 'indicator': 'personal income', 'country': 'united states', 'source': 'Trading Economics', 'id': 'united-states/personal-income'}\n"
     ]
    }
   ],
   "source": [
    "scr.scrape_metadata() ## Scrape the metadata for the data series from the page."
   ]
  },
  {
   "cell_type": "code",
   "execution_count": 16,
   "metadata": {},
   "outputs": [
    {
     "name": "stdout",
     "output_type": "stream",
     "text": [
      "Using selenium and tooltip scraping to construct the date time index for the time-series, this'll take a bit...\n"
     ]
    },
    {
     "name": "stderr",
     "output_type": "stream",
     "text": [
      "INFO - Date span set to: 1Y\n",
      "INFO - Chart type set to: Spline\n",
      "INFO - Time taken to select chart type: 1.6442587999626994\n",
      "INFO - Time taken to execute JS code: 2.994860500097275\n"
     ]
    },
    {
     "name": "stdout",
     "output_type": "stream",
     "text": [
      "Latest dates:  ['Jan 2025', 'Dec 2024', 'Nov 2024', 'Oct 2024', 'Sep 2024', 'Aug 2024', 'Jul 2024', 'Jun 2024', 'May 2024', 'Apr 2024']\n",
      "Frequency of time-series:  MS\n",
      "get_xlims_from_tooltips method: date_span:  1Y , chart_type: splineChart\n"
     ]
    },
    {
     "name": "stderr",
     "output_type": "stream",
     "text": [
      "INFO - Chart type set to: Spline\n"
     ]
    },
    {
     "name": "stdout",
     "output_type": "stream",
     "text": [
      "Got chart dimensions and plot background element.\n"
     ]
    },
    {
     "name": "stderr",
     "output_type": "stream",
     "text": [
      "INFO - Start and end values scraped from tooltips: \n",
      "{'start_date': Timestamp('1959-02-01 00:00:00'), 'start_value': 0.5, 'unit_str': '%', 'end_date': Timestamp('2025-01-01 00:00:00'), 'end_value': 0.9}\n",
      "INFO - DateTimeIndex created successfully for the time-series.\n"
     ]
    },
    {
     "name": "stdout",
     "output_type": "stream",
     "text": [
      "Start and end dates scraped from tooltips:  {'start_date': Timestamp('1959-02-01 00:00:00'), 'start_value': 0.5, 'unit_str': '%', 'end_date': Timestamp('2025-01-01 00:00:00'), 'end_value': 0.9}\n"
     ]
    },
    {
     "data": {
      "text/plain": [
       "DatetimeIndex(['1959-02-01', '1959-03-01', '1959-04-01', '1959-05-01',\n",
       "               '1959-06-01', '1959-07-01', '1959-08-01', '1959-09-01',\n",
       "               '1959-10-01', '1959-11-01',\n",
       "               ...\n",
       "               '2024-04-01', '2024-05-01', '2024-06-01', '2024-07-01',\n",
       "               '2024-08-01', '2024-09-01', '2024-10-01', '2024-11-01',\n",
       "               '2024-12-01', '2025-01-01'],\n",
       "              dtype='datetime64[ns]', length=792, freq='MS')"
      ]
     },
     "execution_count": 16,
     "metadata": {},
     "output_type": "execute_result"
    }
   ],
   "source": [
    "scr.make_x_index(force_rerun_freqdet=True, force_rerun_xlims=True) ## Create the x_index for the series first."
   ]
  },
  {
   "cell_type": "code",
   "execution_count": 17,
   "metadata": {},
   "outputs": [
    {
     "name": "stderr",
     "output_type": "stream",
     "text": [
      "INFO - Y-axis values scraped successfully.\n"
     ]
    },
    {
     "name": "stdout",
     "output_type": "stream",
     "text": [
      "y_heights:  [335.5, 320.5, 269.5, 217.5, 165.5, 114.5, 62.5, 39.5]\n",
      "pixheights:  [335.5, 320.5, 269.5, 217.5, 165.5, 114.5, 62.5, 39.5]\n"
     ]
    },
    {
     "data": {
      "text/plain": [
       "pixheight\n",
       "335.5   -16.0\n",
       "320.5   -14.0\n",
       "269.5    -7.0\n",
       "217.5     0.0\n",
       "165.5     7.0\n",
       "114.5    14.0\n",
       "62.5     21.0\n",
       "39.5     24.0\n",
       "Name: ytick_label, dtype: float64"
      ]
     },
     "execution_count": 17,
     "metadata": {},
     "output_type": "execute_result"
    }
   ],
   "source": [
    "scr.get_y_axis(set_global_y_axis=True)   ## Get the y-axis tick positions (pixel co-ordinates) and values, will set the global y-axis attribute since date_span is set to MAX."
   ]
  },
  {
   "cell_type": "code",
   "execution_count": 18,
   "metadata": {},
   "outputs": [
    {
     "name": "stderr",
     "output_type": "stream",
     "text": [
      "INFO - Series path extraction method: Extracting series data from chart soup.\n",
      "INFO - Date span: MAX. Chart type: splineChart, URL: https://tradingeconomics.com/united-states/personal-income.\n"
     ]
    },
    {
     "data": {
      "text/plain": [
       "0.000000      213.3125\n",
       "0.000000      213.3125\n",
       "0.468915      212.3975\n",
       "0.781525      211.8375\n",
       "1.127629      211.2175\n",
       "                ...   \n",
       "670.799801    214.7875\n",
       "671.134740    214.0500\n",
       "671.480844    213.3125\n",
       "672.000000    210.3625\n",
       "672.000000    210.3625\n",
       "Name: Extracted Series, Length: 2374, dtype: float64"
      ]
     },
     "execution_count": 18,
     "metadata": {},
     "output_type": "execute_result"
    }
   ],
   "source": [
    "scr.series_from_chart_soup(set_max_datespan=True) ## Get the full series from the path element of the data trace on the svg chart.\n",
    "scr.series"
   ]
  },
  {
   "cell_type": "code",
   "execution_count": 19,
   "metadata": {},
   "outputs": [
    {
     "name": "stderr",
     "output_type": "stream",
     "text": [
      "INFO - DateTimeIndex applied to series, series attribute updated.\n"
     ]
    }
   ],
   "source": [
    "scr.apply_x_index()  ## Apply the x-axis index to the series."
   ]
  },
  {
   "cell_type": "code",
   "execution_count": null,
   "metadata": {},
   "outputs": [],
   "source": [
    "scr.series"
   ]
  },
  {
   "cell_type": "markdown",
   "metadata": {},
   "source": [
    "At this point the value in the data-series are still the pixel co-ordinates in the svg image of the chart."
   ]
  },
  {
   "cell_type": "code",
   "execution_count": null,
   "metadata": {},
   "outputs": [
    {
     "data": {
      "application/vnd.plotly.v1+json": {
       "config": {
        "plotlyServerURL": "https://plot.ly"
       },
       "data": [
        {
         "hovertemplate": "variable=personal income<br>index=%{x}<br>value=%{y}<extra></extra>",
         "legendgroup": "personal income",
         "line": {
          "color": "#636efa",
          "dash": "solid"
         },
         "marker": {
          "symbol": "circle"
         },
         "mode": "lines",
         "name": "personal income",
         "orientation": "v",
         "showlegend": true,
         "type": "scatter",
         "x": [
          "1959-02-01T00:00:00.000000000",
          "1959-03-01T00:00:00.000000000",
          "1959-04-01T00:00:00.000000000",
          "1959-05-01T00:00:00.000000000",
          "1959-06-01T00:00:00.000000000",
          "1959-07-01T00:00:00.000000000",
          "1959-08-01T00:00:00.000000000",
          "1959-09-01T00:00:00.000000000",
          "1959-10-01T00:00:00.000000000",
          "1959-11-01T00:00:00.000000000",
          "1959-12-01T00:00:00.000000000",
          "1960-01-01T00:00:00.000000000",
          "1960-02-01T00:00:00.000000000",
          "1960-03-01T00:00:00.000000000",
          "1960-04-01T00:00:00.000000000",
          "1960-05-01T00:00:00.000000000",
          "1960-06-01T00:00:00.000000000",
          "1960-07-01T00:00:00.000000000",
          "1960-08-01T00:00:00.000000000",
          "1960-09-01T00:00:00.000000000",
          "1960-10-01T00:00:00.000000000",
          "1960-11-01T00:00:00.000000000",
          "1960-12-01T00:00:00.000000000",
          "1961-01-01T00:00:00.000000000",
          "1961-02-01T00:00:00.000000000",
          "1961-03-01T00:00:00.000000000",
          "1961-04-01T00:00:00.000000000",
          "1961-05-01T00:00:00.000000000",
          "1961-06-01T00:00:00.000000000",
          "1961-07-01T00:00:00.000000000",
          "1961-08-01T00:00:00.000000000",
          "1961-09-01T00:00:00.000000000",
          "1961-10-01T00:00:00.000000000",
          "1961-11-01T00:00:00.000000000",
          "1961-12-01T00:00:00.000000000",
          "1962-01-01T00:00:00.000000000",
          "1962-02-01T00:00:00.000000000",
          "1962-03-01T00:00:00.000000000",
          "1962-04-01T00:00:00.000000000",
          "1962-05-01T00:00:00.000000000",
          "1962-06-01T00:00:00.000000000",
          "1962-07-01T00:00:00.000000000",
          "1962-08-01T00:00:00.000000000",
          "1962-09-01T00:00:00.000000000",
          "1962-10-01T00:00:00.000000000",
          "1962-11-01T00:00:00.000000000",
          "1962-12-01T00:00:00.000000000",
          "1963-01-01T00:00:00.000000000",
          "1963-02-01T00:00:00.000000000",
          "1963-03-01T00:00:00.000000000",
          "1963-04-01T00:00:00.000000000",
          "1963-05-01T00:00:00.000000000",
          "1963-06-01T00:00:00.000000000",
          "1963-07-01T00:00:00.000000000",
          "1963-08-01T00:00:00.000000000",
          "1963-09-01T00:00:00.000000000",
          "1963-10-01T00:00:00.000000000",
          "1963-11-01T00:00:00.000000000",
          "1963-12-01T00:00:00.000000000",
          "1964-01-01T00:00:00.000000000",
          "1964-02-01T00:00:00.000000000",
          "1964-03-01T00:00:00.000000000",
          "1964-04-01T00:00:00.000000000",
          "1964-05-01T00:00:00.000000000",
          "1964-06-01T00:00:00.000000000",
          "1964-07-01T00:00:00.000000000",
          "1964-08-01T00:00:00.000000000",
          "1964-09-01T00:00:00.000000000",
          "1964-10-01T00:00:00.000000000",
          "1964-11-01T00:00:00.000000000",
          "1964-12-01T00:00:00.000000000",
          "1965-01-01T00:00:00.000000000",
          "1965-02-01T00:00:00.000000000",
          "1965-03-01T00:00:00.000000000",
          "1965-04-01T00:00:00.000000000",
          "1965-05-01T00:00:00.000000000",
          "1965-06-01T00:00:00.000000000",
          "1965-07-01T00:00:00.000000000",
          "1965-08-01T00:00:00.000000000",
          "1965-09-01T00:00:00.000000000",
          "1965-10-01T00:00:00.000000000",
          "1965-11-01T00:00:00.000000000",
          "1965-12-01T00:00:00.000000000",
          "1966-01-01T00:00:00.000000000",
          "1966-02-01T00:00:00.000000000",
          "1966-03-01T00:00:00.000000000",
          "1966-04-01T00:00:00.000000000",
          "1966-05-01T00:00:00.000000000",
          "1966-06-01T00:00:00.000000000",
          "1966-07-01T00:00:00.000000000",
          "1966-08-01T00:00:00.000000000",
          "1966-09-01T00:00:00.000000000",
          "1966-10-01T00:00:00.000000000",
          "1966-11-01T00:00:00.000000000",
          "1966-12-01T00:00:00.000000000",
          "1967-01-01T00:00:00.000000000",
          "1967-02-01T00:00:00.000000000",
          "1967-03-01T00:00:00.000000000",
          "1967-04-01T00:00:00.000000000",
          "1967-05-01T00:00:00.000000000",
          "1967-06-01T00:00:00.000000000",
          "1967-07-01T00:00:00.000000000",
          "1967-08-01T00:00:00.000000000",
          "1967-09-01T00:00:00.000000000",
          "1967-10-01T00:00:00.000000000",
          "1967-11-01T00:00:00.000000000",
          "1967-12-01T00:00:00.000000000",
          "1968-01-01T00:00:00.000000000",
          "1968-02-01T00:00:00.000000000",
          "1968-03-01T00:00:00.000000000",
          "1968-04-01T00:00:00.000000000",
          "1968-05-01T00:00:00.000000000",
          "1968-06-01T00:00:00.000000000",
          "1968-07-01T00:00:00.000000000",
          "1968-08-01T00:00:00.000000000",
          "1968-09-01T00:00:00.000000000",
          "1968-10-01T00:00:00.000000000",
          "1968-11-01T00:00:00.000000000",
          "1968-12-01T00:00:00.000000000",
          "1969-01-01T00:00:00.000000000",
          "1969-02-01T00:00:00.000000000",
          "1969-03-01T00:00:00.000000000",
          "1969-04-01T00:00:00.000000000",
          "1969-05-01T00:00:00.000000000",
          "1969-06-01T00:00:00.000000000",
          "1969-07-01T00:00:00.000000000",
          "1969-08-01T00:00:00.000000000",
          "1969-09-01T00:00:00.000000000",
          "1969-10-01T00:00:00.000000000",
          "1969-11-01T00:00:00.000000000",
          "1969-12-01T00:00:00.000000000",
          "1970-01-01T00:00:00.000000000",
          "1970-02-01T00:00:00.000000000",
          "1970-03-01T00:00:00.000000000",
          "1970-04-01T00:00:00.000000000",
          "1970-05-01T00:00:00.000000000",
          "1970-06-01T00:00:00.000000000",
          "1970-07-01T00:00:00.000000000",
          "1970-08-01T00:00:00.000000000",
          "1970-09-01T00:00:00.000000000",
          "1970-10-01T00:00:00.000000000",
          "1970-11-01T00:00:00.000000000",
          "1970-12-01T00:00:00.000000000",
          "1971-01-01T00:00:00.000000000",
          "1971-02-01T00:00:00.000000000",
          "1971-03-01T00:00:00.000000000",
          "1971-04-01T00:00:00.000000000",
          "1971-05-01T00:00:00.000000000",
          "1971-06-01T00:00:00.000000000",
          "1971-07-01T00:00:00.000000000",
          "1971-08-01T00:00:00.000000000",
          "1971-09-01T00:00:00.000000000",
          "1971-10-01T00:00:00.000000000",
          "1971-11-01T00:00:00.000000000",
          "1971-12-01T00:00:00.000000000",
          "1972-01-01T00:00:00.000000000",
          "1972-02-01T00:00:00.000000000",
          "1972-03-01T00:00:00.000000000",
          "1972-04-01T00:00:00.000000000",
          "1972-05-01T00:00:00.000000000",
          "1972-06-01T00:00:00.000000000",
          "1972-07-01T00:00:00.000000000",
          "1972-08-01T00:00:00.000000000",
          "1972-09-01T00:00:00.000000000",
          "1972-10-01T00:00:00.000000000",
          "1972-11-01T00:00:00.000000000",
          "1972-12-01T00:00:00.000000000",
          "1973-01-01T00:00:00.000000000",
          "1973-02-01T00:00:00.000000000",
          "1973-03-01T00:00:00.000000000",
          "1973-04-01T00:00:00.000000000",
          "1973-05-01T00:00:00.000000000",
          "1973-06-01T00:00:00.000000000",
          "1973-07-01T00:00:00.000000000",
          "1973-08-01T00:00:00.000000000",
          "1973-09-01T00:00:00.000000000",
          "1973-10-01T00:00:00.000000000",
          "1973-11-01T00:00:00.000000000",
          "1973-12-01T00:00:00.000000000",
          "1974-01-01T00:00:00.000000000",
          "1974-02-01T00:00:00.000000000",
          "1974-03-01T00:00:00.000000000",
          "1974-04-01T00:00:00.000000000",
          "1974-05-01T00:00:00.000000000",
          "1974-06-01T00:00:00.000000000",
          "1974-07-01T00:00:00.000000000",
          "1974-08-01T00:00:00.000000000",
          "1974-09-01T00:00:00.000000000",
          "1974-10-01T00:00:00.000000000",
          "1974-11-01T00:00:00.000000000",
          "1974-12-01T00:00:00.000000000",
          "1975-01-01T00:00:00.000000000",
          "1975-02-01T00:00:00.000000000",
          "1975-03-01T00:00:00.000000000",
          "1975-04-01T00:00:00.000000000",
          "1975-05-01T00:00:00.000000000",
          "1975-06-01T00:00:00.000000000",
          "1975-07-01T00:00:00.000000000",
          "1975-08-01T00:00:00.000000000",
          "1975-09-01T00:00:00.000000000",
          "1975-10-01T00:00:00.000000000",
          "1975-11-01T00:00:00.000000000",
          "1975-12-01T00:00:00.000000000",
          "1976-01-01T00:00:00.000000000",
          "1976-02-01T00:00:00.000000000",
          "1976-03-01T00:00:00.000000000",
          "1976-04-01T00:00:00.000000000",
          "1976-05-01T00:00:00.000000000",
          "1976-06-01T00:00:00.000000000",
          "1976-07-01T00:00:00.000000000",
          "1976-08-01T00:00:00.000000000",
          "1976-09-01T00:00:00.000000000",
          "1976-10-01T00:00:00.000000000",
          "1976-11-01T00:00:00.000000000",
          "1976-12-01T00:00:00.000000000",
          "1977-01-01T00:00:00.000000000",
          "1977-02-01T00:00:00.000000000",
          "1977-03-01T00:00:00.000000000",
          "1977-04-01T00:00:00.000000000",
          "1977-05-01T00:00:00.000000000",
          "1977-06-01T00:00:00.000000000",
          "1977-07-01T00:00:00.000000000",
          "1977-08-01T00:00:00.000000000",
          "1977-09-01T00:00:00.000000000",
          "1977-10-01T00:00:00.000000000",
          "1977-11-01T00:00:00.000000000",
          "1977-12-01T00:00:00.000000000",
          "1978-01-01T00:00:00.000000000",
          "1978-02-01T00:00:00.000000000",
          "1978-03-01T00:00:00.000000000",
          "1978-04-01T00:00:00.000000000",
          "1978-05-01T00:00:00.000000000",
          "1978-06-01T00:00:00.000000000",
          "1978-07-01T00:00:00.000000000",
          "1978-08-01T00:00:00.000000000",
          "1978-09-01T00:00:00.000000000",
          "1978-10-01T00:00:00.000000000",
          "1978-11-01T00:00:00.000000000",
          "1978-12-01T00:00:00.000000000",
          "1979-01-01T00:00:00.000000000",
          "1979-02-01T00:00:00.000000000",
          "1979-03-01T00:00:00.000000000",
          "1979-04-01T00:00:00.000000000",
          "1979-05-01T00:00:00.000000000",
          "1979-06-01T00:00:00.000000000",
          "1979-07-01T00:00:00.000000000",
          "1979-08-01T00:00:00.000000000",
          "1979-09-01T00:00:00.000000000",
          "1979-10-01T00:00:00.000000000",
          "1979-11-01T00:00:00.000000000",
          "1979-12-01T00:00:00.000000000",
          "1980-01-01T00:00:00.000000000",
          "1980-02-01T00:00:00.000000000",
          "1980-03-01T00:00:00.000000000",
          "1980-04-01T00:00:00.000000000",
          "1980-05-01T00:00:00.000000000",
          "1980-06-01T00:00:00.000000000",
          "1980-07-01T00:00:00.000000000",
          "1980-08-01T00:00:00.000000000",
          "1980-09-01T00:00:00.000000000",
          "1980-10-01T00:00:00.000000000",
          "1980-11-01T00:00:00.000000000",
          "1980-12-01T00:00:00.000000000",
          "1981-01-01T00:00:00.000000000",
          "1981-02-01T00:00:00.000000000",
          "1981-03-01T00:00:00.000000000",
          "1981-04-01T00:00:00.000000000",
          "1981-05-01T00:00:00.000000000",
          "1981-06-01T00:00:00.000000000",
          "1981-07-01T00:00:00.000000000",
          "1981-08-01T00:00:00.000000000",
          "1981-09-01T00:00:00.000000000",
          "1981-10-01T00:00:00.000000000",
          "1981-11-01T00:00:00.000000000",
          "1981-12-01T00:00:00.000000000",
          "1982-01-01T00:00:00.000000000",
          "1982-02-01T00:00:00.000000000",
          "1982-03-01T00:00:00.000000000",
          "1982-04-01T00:00:00.000000000",
          "1982-05-01T00:00:00.000000000",
          "1982-06-01T00:00:00.000000000",
          "1982-07-01T00:00:00.000000000",
          "1982-08-01T00:00:00.000000000",
          "1982-09-01T00:00:00.000000000",
          "1982-10-01T00:00:00.000000000",
          "1982-11-01T00:00:00.000000000",
          "1982-12-01T00:00:00.000000000",
          "1983-01-01T00:00:00.000000000",
          "1983-02-01T00:00:00.000000000",
          "1983-03-01T00:00:00.000000000",
          "1983-04-01T00:00:00.000000000",
          "1983-05-01T00:00:00.000000000",
          "1983-06-01T00:00:00.000000000",
          "1983-07-01T00:00:00.000000000",
          "1983-08-01T00:00:00.000000000",
          "1983-09-01T00:00:00.000000000",
          "1983-10-01T00:00:00.000000000",
          "1983-11-01T00:00:00.000000000",
          "1983-12-01T00:00:00.000000000",
          "1984-01-01T00:00:00.000000000",
          "1984-02-01T00:00:00.000000000",
          "1984-03-01T00:00:00.000000000",
          "1984-04-01T00:00:00.000000000",
          "1984-05-01T00:00:00.000000000",
          "1984-06-01T00:00:00.000000000",
          "1984-07-01T00:00:00.000000000",
          "1984-08-01T00:00:00.000000000",
          "1984-09-01T00:00:00.000000000",
          "1984-10-01T00:00:00.000000000",
          "1984-11-01T00:00:00.000000000",
          "1984-12-01T00:00:00.000000000",
          "1985-01-01T00:00:00.000000000",
          "1985-02-01T00:00:00.000000000",
          "1985-03-01T00:00:00.000000000",
          "1985-04-01T00:00:00.000000000",
          "1985-05-01T00:00:00.000000000",
          "1985-06-01T00:00:00.000000000",
          "1985-07-01T00:00:00.000000000",
          "1985-08-01T00:00:00.000000000",
          "1985-09-01T00:00:00.000000000",
          "1985-10-01T00:00:00.000000000",
          "1985-11-01T00:00:00.000000000",
          "1985-12-01T00:00:00.000000000",
          "1986-01-01T00:00:00.000000000",
          "1986-02-01T00:00:00.000000000",
          "1986-03-01T00:00:00.000000000",
          "1986-04-01T00:00:00.000000000",
          "1986-05-01T00:00:00.000000000",
          "1986-06-01T00:00:00.000000000",
          "1986-07-01T00:00:00.000000000",
          "1986-08-01T00:00:00.000000000",
          "1986-09-01T00:00:00.000000000",
          "1986-10-01T00:00:00.000000000",
          "1986-11-01T00:00:00.000000000",
          "1986-12-01T00:00:00.000000000",
          "1987-01-01T00:00:00.000000000",
          "1987-02-01T00:00:00.000000000",
          "1987-03-01T00:00:00.000000000",
          "1987-04-01T00:00:00.000000000",
          "1987-05-01T00:00:00.000000000",
          "1987-06-01T00:00:00.000000000",
          "1987-07-01T00:00:00.000000000",
          "1987-08-01T00:00:00.000000000",
          "1987-09-01T00:00:00.000000000",
          "1987-10-01T00:00:00.000000000",
          "1987-11-01T00:00:00.000000000",
          "1987-12-01T00:00:00.000000000",
          "1988-01-01T00:00:00.000000000",
          "1988-02-01T00:00:00.000000000",
          "1988-03-01T00:00:00.000000000",
          "1988-04-01T00:00:00.000000000",
          "1988-05-01T00:00:00.000000000",
          "1988-06-01T00:00:00.000000000",
          "1988-07-01T00:00:00.000000000",
          "1988-08-01T00:00:00.000000000",
          "1988-09-01T00:00:00.000000000",
          "1988-10-01T00:00:00.000000000",
          "1988-11-01T00:00:00.000000000",
          "1988-12-01T00:00:00.000000000",
          "1989-01-01T00:00:00.000000000",
          "1989-02-01T00:00:00.000000000",
          "1989-03-01T00:00:00.000000000",
          "1989-04-01T00:00:00.000000000",
          "1989-05-01T00:00:00.000000000",
          "1989-06-01T00:00:00.000000000",
          "1989-07-01T00:00:00.000000000",
          "1989-08-01T00:00:00.000000000",
          "1989-09-01T00:00:00.000000000",
          "1989-10-01T00:00:00.000000000",
          "1989-11-01T00:00:00.000000000",
          "1989-12-01T00:00:00.000000000",
          "1990-01-01T00:00:00.000000000",
          "1990-02-01T00:00:00.000000000",
          "1990-03-01T00:00:00.000000000",
          "1990-04-01T00:00:00.000000000",
          "1990-05-01T00:00:00.000000000",
          "1990-06-01T00:00:00.000000000",
          "1990-07-01T00:00:00.000000000",
          "1990-08-01T00:00:00.000000000",
          "1990-09-01T00:00:00.000000000",
          "1990-10-01T00:00:00.000000000",
          "1990-11-01T00:00:00.000000000",
          "1990-12-01T00:00:00.000000000",
          "1991-01-01T00:00:00.000000000",
          "1991-02-01T00:00:00.000000000",
          "1991-03-01T00:00:00.000000000",
          "1991-04-01T00:00:00.000000000",
          "1991-05-01T00:00:00.000000000",
          "1991-06-01T00:00:00.000000000",
          "1991-07-01T00:00:00.000000000",
          "1991-08-01T00:00:00.000000000",
          "1991-09-01T00:00:00.000000000",
          "1991-10-01T00:00:00.000000000",
          "1991-11-01T00:00:00.000000000",
          "1991-12-01T00:00:00.000000000",
          "1992-01-01T00:00:00.000000000",
          "1992-02-01T00:00:00.000000000",
          "1992-03-01T00:00:00.000000000",
          "1992-04-01T00:00:00.000000000",
          "1992-05-01T00:00:00.000000000",
          "1992-06-01T00:00:00.000000000",
          "1992-07-01T00:00:00.000000000",
          "1992-08-01T00:00:00.000000000",
          "1992-09-01T00:00:00.000000000",
          "1992-10-01T00:00:00.000000000",
          "1992-11-01T00:00:00.000000000",
          "1992-12-01T00:00:00.000000000",
          "1993-01-01T00:00:00.000000000",
          "1993-02-01T00:00:00.000000000",
          "1993-03-01T00:00:00.000000000",
          "1993-04-01T00:00:00.000000000",
          "1993-05-01T00:00:00.000000000",
          "1993-06-01T00:00:00.000000000",
          "1993-07-01T00:00:00.000000000",
          "1993-08-01T00:00:00.000000000",
          "1993-09-01T00:00:00.000000000",
          "1993-10-01T00:00:00.000000000",
          "1993-11-01T00:00:00.000000000",
          "1993-12-01T00:00:00.000000000",
          "1994-01-01T00:00:00.000000000",
          "1994-02-01T00:00:00.000000000",
          "1994-03-01T00:00:00.000000000",
          "1994-04-01T00:00:00.000000000",
          "1994-05-01T00:00:00.000000000",
          "1994-06-01T00:00:00.000000000",
          "1994-07-01T00:00:00.000000000",
          "1994-08-01T00:00:00.000000000",
          "1994-09-01T00:00:00.000000000",
          "1994-10-01T00:00:00.000000000",
          "1994-11-01T00:00:00.000000000",
          "1994-12-01T00:00:00.000000000",
          "1995-01-01T00:00:00.000000000",
          "1995-02-01T00:00:00.000000000",
          "1995-03-01T00:00:00.000000000",
          "1995-04-01T00:00:00.000000000",
          "1995-05-01T00:00:00.000000000",
          "1995-06-01T00:00:00.000000000",
          "1995-07-01T00:00:00.000000000",
          "1995-08-01T00:00:00.000000000",
          "1995-09-01T00:00:00.000000000",
          "1995-10-01T00:00:00.000000000",
          "1995-11-01T00:00:00.000000000",
          "1995-12-01T00:00:00.000000000",
          "1996-01-01T00:00:00.000000000",
          "1996-02-01T00:00:00.000000000",
          "1996-03-01T00:00:00.000000000",
          "1996-04-01T00:00:00.000000000",
          "1996-05-01T00:00:00.000000000",
          "1996-06-01T00:00:00.000000000",
          "1996-07-01T00:00:00.000000000",
          "1996-08-01T00:00:00.000000000",
          "1996-09-01T00:00:00.000000000",
          "1996-10-01T00:00:00.000000000",
          "1996-11-01T00:00:00.000000000",
          "1996-12-01T00:00:00.000000000",
          "1997-01-01T00:00:00.000000000",
          "1997-02-01T00:00:00.000000000",
          "1997-03-01T00:00:00.000000000",
          "1997-04-01T00:00:00.000000000",
          "1997-05-01T00:00:00.000000000",
          "1997-06-01T00:00:00.000000000",
          "1997-07-01T00:00:00.000000000",
          "1997-08-01T00:00:00.000000000",
          "1997-09-01T00:00:00.000000000",
          "1997-10-01T00:00:00.000000000",
          "1997-11-01T00:00:00.000000000",
          "1997-12-01T00:00:00.000000000",
          "1998-01-01T00:00:00.000000000",
          "1998-02-01T00:00:00.000000000",
          "1998-03-01T00:00:00.000000000",
          "1998-04-01T00:00:00.000000000",
          "1998-05-01T00:00:00.000000000",
          "1998-06-01T00:00:00.000000000",
          "1998-07-01T00:00:00.000000000",
          "1998-08-01T00:00:00.000000000",
          "1998-09-01T00:00:00.000000000",
          "1998-10-01T00:00:00.000000000",
          "1998-11-01T00:00:00.000000000",
          "1998-12-01T00:00:00.000000000",
          "1999-01-01T00:00:00.000000000",
          "1999-02-01T00:00:00.000000000",
          "1999-03-01T00:00:00.000000000",
          "1999-04-01T00:00:00.000000000",
          "1999-05-01T00:00:00.000000000",
          "1999-06-01T00:00:00.000000000",
          "1999-07-01T00:00:00.000000000",
          "1999-08-01T00:00:00.000000000",
          "1999-09-01T00:00:00.000000000",
          "1999-10-01T00:00:00.000000000",
          "1999-11-01T00:00:00.000000000",
          "1999-12-01T00:00:00.000000000",
          "2000-01-01T00:00:00.000000000",
          "2000-02-01T00:00:00.000000000",
          "2000-03-01T00:00:00.000000000",
          "2000-04-01T00:00:00.000000000",
          "2000-05-01T00:00:00.000000000",
          "2000-06-01T00:00:00.000000000",
          "2000-07-01T00:00:00.000000000",
          "2000-08-01T00:00:00.000000000",
          "2000-09-01T00:00:00.000000000",
          "2000-10-01T00:00:00.000000000",
          "2000-11-01T00:00:00.000000000",
          "2000-12-01T00:00:00.000000000",
          "2001-01-01T00:00:00.000000000",
          "2001-02-01T00:00:00.000000000",
          "2001-03-01T00:00:00.000000000",
          "2001-04-01T00:00:00.000000000",
          "2001-05-01T00:00:00.000000000",
          "2001-06-01T00:00:00.000000000",
          "2001-07-01T00:00:00.000000000",
          "2001-08-01T00:00:00.000000000",
          "2001-09-01T00:00:00.000000000",
          "2001-10-01T00:00:00.000000000",
          "2001-11-01T00:00:00.000000000",
          "2001-12-01T00:00:00.000000000",
          "2002-01-01T00:00:00.000000000",
          "2002-02-01T00:00:00.000000000",
          "2002-03-01T00:00:00.000000000",
          "2002-04-01T00:00:00.000000000",
          "2002-05-01T00:00:00.000000000",
          "2002-06-01T00:00:00.000000000",
          "2002-07-01T00:00:00.000000000",
          "2002-08-01T00:00:00.000000000",
          "2002-09-01T00:00:00.000000000",
          "2002-10-01T00:00:00.000000000",
          "2002-11-01T00:00:00.000000000",
          "2002-12-01T00:00:00.000000000",
          "2003-01-01T00:00:00.000000000",
          "2003-02-01T00:00:00.000000000",
          "2003-03-01T00:00:00.000000000",
          "2003-04-01T00:00:00.000000000",
          "2003-05-01T00:00:00.000000000",
          "2003-06-01T00:00:00.000000000",
          "2003-07-01T00:00:00.000000000",
          "2003-08-01T00:00:00.000000000",
          "2003-09-01T00:00:00.000000000",
          "2003-10-01T00:00:00.000000000",
          "2003-11-01T00:00:00.000000000",
          "2003-12-01T00:00:00.000000000",
          "2004-01-01T00:00:00.000000000",
          "2004-02-01T00:00:00.000000000",
          "2004-03-01T00:00:00.000000000",
          "2004-04-01T00:00:00.000000000",
          "2004-05-01T00:00:00.000000000",
          "2004-06-01T00:00:00.000000000",
          "2004-07-01T00:00:00.000000000",
          "2004-08-01T00:00:00.000000000",
          "2004-09-01T00:00:00.000000000",
          "2004-10-01T00:00:00.000000000",
          "2004-11-01T00:00:00.000000000",
          "2004-12-01T00:00:00.000000000",
          "2005-01-01T00:00:00.000000000",
          "2005-02-01T00:00:00.000000000",
          "2005-03-01T00:00:00.000000000",
          "2005-04-01T00:00:00.000000000",
          "2005-05-01T00:00:00.000000000",
          "2005-06-01T00:00:00.000000000",
          "2005-07-01T00:00:00.000000000",
          "2005-08-01T00:00:00.000000000",
          "2005-09-01T00:00:00.000000000",
          "2005-10-01T00:00:00.000000000",
          "2005-11-01T00:00:00.000000000",
          "2005-12-01T00:00:00.000000000",
          "2006-01-01T00:00:00.000000000",
          "2006-02-01T00:00:00.000000000",
          "2006-03-01T00:00:00.000000000",
          "2006-04-01T00:00:00.000000000",
          "2006-05-01T00:00:00.000000000",
          "2006-06-01T00:00:00.000000000",
          "2006-07-01T00:00:00.000000000",
          "2006-08-01T00:00:00.000000000",
          "2006-09-01T00:00:00.000000000",
          "2006-10-01T00:00:00.000000000",
          "2006-11-01T00:00:00.000000000",
          "2006-12-01T00:00:00.000000000",
          "2007-01-01T00:00:00.000000000",
          "2007-02-01T00:00:00.000000000",
          "2007-03-01T00:00:00.000000000",
          "2007-04-01T00:00:00.000000000",
          "2007-05-01T00:00:00.000000000",
          "2007-06-01T00:00:00.000000000",
          "2007-07-01T00:00:00.000000000",
          "2007-08-01T00:00:00.000000000",
          "2007-09-01T00:00:00.000000000",
          "2007-10-01T00:00:00.000000000",
          "2007-11-01T00:00:00.000000000",
          "2007-12-01T00:00:00.000000000",
          "2008-01-01T00:00:00.000000000",
          "2008-02-01T00:00:00.000000000",
          "2008-03-01T00:00:00.000000000",
          "2008-04-01T00:00:00.000000000",
          "2008-05-01T00:00:00.000000000",
          "2008-06-01T00:00:00.000000000",
          "2008-07-01T00:00:00.000000000",
          "2008-08-01T00:00:00.000000000",
          "2008-09-01T00:00:00.000000000",
          "2008-10-01T00:00:00.000000000",
          "2008-11-01T00:00:00.000000000",
          "2008-12-01T00:00:00.000000000",
          "2009-01-01T00:00:00.000000000",
          "2009-02-01T00:00:00.000000000",
          "2009-03-01T00:00:00.000000000",
          "2009-04-01T00:00:00.000000000",
          "2009-05-01T00:00:00.000000000",
          "2009-06-01T00:00:00.000000000",
          "2009-07-01T00:00:00.000000000",
          "2009-08-01T00:00:00.000000000",
          "2009-09-01T00:00:00.000000000",
          "2009-10-01T00:00:00.000000000",
          "2009-11-01T00:00:00.000000000",
          "2009-12-01T00:00:00.000000000",
          "2010-01-01T00:00:00.000000000",
          "2010-02-01T00:00:00.000000000",
          "2010-03-01T00:00:00.000000000",
          "2010-04-01T00:00:00.000000000",
          "2010-05-01T00:00:00.000000000",
          "2010-06-01T00:00:00.000000000",
          "2010-07-01T00:00:00.000000000",
          "2010-08-01T00:00:00.000000000",
          "2010-09-01T00:00:00.000000000",
          "2010-10-01T00:00:00.000000000",
          "2010-11-01T00:00:00.000000000",
          "2010-12-01T00:00:00.000000000",
          "2011-01-01T00:00:00.000000000",
          "2011-02-01T00:00:00.000000000",
          "2011-03-01T00:00:00.000000000",
          "2011-04-01T00:00:00.000000000",
          "2011-05-01T00:00:00.000000000",
          "2011-06-01T00:00:00.000000000",
          "2011-07-01T00:00:00.000000000",
          "2011-08-01T00:00:00.000000000",
          "2011-09-01T00:00:00.000000000",
          "2011-10-01T00:00:00.000000000",
          "2011-11-01T00:00:00.000000000",
          "2011-12-01T00:00:00.000000000",
          "2012-01-01T00:00:00.000000000",
          "2012-02-01T00:00:00.000000000",
          "2012-03-01T00:00:00.000000000",
          "2012-04-01T00:00:00.000000000",
          "2012-05-01T00:00:00.000000000",
          "2012-06-01T00:00:00.000000000",
          "2012-07-01T00:00:00.000000000",
          "2012-08-01T00:00:00.000000000",
          "2012-09-01T00:00:00.000000000",
          "2012-10-01T00:00:00.000000000",
          "2012-11-01T00:00:00.000000000",
          "2012-12-01T00:00:00.000000000",
          "2013-01-01T00:00:00.000000000",
          "2013-02-01T00:00:00.000000000",
          "2013-03-01T00:00:00.000000000",
          "2013-04-01T00:00:00.000000000",
          "2013-05-01T00:00:00.000000000",
          "2013-06-01T00:00:00.000000000",
          "2013-07-01T00:00:00.000000000",
          "2013-08-01T00:00:00.000000000",
          "2013-09-01T00:00:00.000000000",
          "2013-10-01T00:00:00.000000000",
          "2013-11-01T00:00:00.000000000",
          "2013-12-01T00:00:00.000000000",
          "2014-01-01T00:00:00.000000000",
          "2014-02-01T00:00:00.000000000",
          "2014-03-01T00:00:00.000000000",
          "2014-04-01T00:00:00.000000000",
          "2014-05-01T00:00:00.000000000",
          "2014-06-01T00:00:00.000000000",
          "2014-07-01T00:00:00.000000000",
          "2014-08-01T00:00:00.000000000",
          "2014-09-01T00:00:00.000000000",
          "2014-10-01T00:00:00.000000000",
          "2014-11-01T00:00:00.000000000",
          "2014-12-01T00:00:00.000000000",
          "2015-01-01T00:00:00.000000000",
          "2015-02-01T00:00:00.000000000",
          "2015-03-01T00:00:00.000000000",
          "2015-04-01T00:00:00.000000000",
          "2015-05-01T00:00:00.000000000",
          "2015-06-01T00:00:00.000000000",
          "2015-07-01T00:00:00.000000000",
          "2015-08-01T00:00:00.000000000",
          "2015-09-01T00:00:00.000000000",
          "2015-10-01T00:00:00.000000000",
          "2015-11-01T00:00:00.000000000",
          "2015-12-01T00:00:00.000000000",
          "2016-01-01T00:00:00.000000000",
          "2016-02-01T00:00:00.000000000",
          "2016-03-01T00:00:00.000000000",
          "2016-04-01T00:00:00.000000000",
          "2016-05-01T00:00:00.000000000",
          "2016-06-01T00:00:00.000000000",
          "2016-07-01T00:00:00.000000000",
          "2016-08-01T00:00:00.000000000",
          "2016-09-01T00:00:00.000000000",
          "2016-10-01T00:00:00.000000000",
          "2016-11-01T00:00:00.000000000",
          "2016-12-01T00:00:00.000000000",
          "2017-01-01T00:00:00.000000000",
          "2017-02-01T00:00:00.000000000",
          "2017-03-01T00:00:00.000000000",
          "2017-04-01T00:00:00.000000000",
          "2017-05-01T00:00:00.000000000",
          "2017-06-01T00:00:00.000000000",
          "2017-07-01T00:00:00.000000000",
          "2017-08-01T00:00:00.000000000",
          "2017-09-01T00:00:00.000000000",
          "2017-10-01T00:00:00.000000000",
          "2017-11-01T00:00:00.000000000",
          "2017-12-01T00:00:00.000000000",
          "2018-01-01T00:00:00.000000000",
          "2018-02-01T00:00:00.000000000",
          "2018-03-01T00:00:00.000000000",
          "2018-04-01T00:00:00.000000000",
          "2018-05-01T00:00:00.000000000",
          "2018-06-01T00:00:00.000000000",
          "2018-07-01T00:00:00.000000000",
          "2018-08-01T00:00:00.000000000",
          "2018-09-01T00:00:00.000000000",
          "2018-10-01T00:00:00.000000000",
          "2018-11-01T00:00:00.000000000",
          "2018-12-01T00:00:00.000000000",
          "2019-01-01T00:00:00.000000000",
          "2019-02-01T00:00:00.000000000",
          "2019-03-01T00:00:00.000000000",
          "2019-04-01T00:00:00.000000000",
          "2019-05-01T00:00:00.000000000",
          "2019-06-01T00:00:00.000000000",
          "2019-07-01T00:00:00.000000000",
          "2019-08-01T00:00:00.000000000",
          "2019-09-01T00:00:00.000000000",
          "2019-10-01T00:00:00.000000000",
          "2019-11-01T00:00:00.000000000",
          "2019-12-01T00:00:00.000000000",
          "2020-01-01T00:00:00.000000000",
          "2020-02-01T00:00:00.000000000",
          "2020-03-01T00:00:00.000000000",
          "2020-04-01T00:00:00.000000000",
          "2020-05-01T00:00:00.000000000",
          "2020-06-01T00:00:00.000000000",
          "2020-07-01T00:00:00.000000000",
          "2020-08-01T00:00:00.000000000",
          "2020-09-01T00:00:00.000000000",
          "2020-10-01T00:00:00.000000000",
          "2020-11-01T00:00:00.000000000",
          "2020-12-01T00:00:00.000000000",
          "2021-01-01T00:00:00.000000000",
          "2021-02-01T00:00:00.000000000",
          "2021-03-01T00:00:00.000000000",
          "2021-04-01T00:00:00.000000000",
          "2021-05-01T00:00:00.000000000",
          "2021-06-01T00:00:00.000000000",
          "2021-07-01T00:00:00.000000000",
          "2021-08-01T00:00:00.000000000",
          "2021-09-01T00:00:00.000000000",
          "2021-10-01T00:00:00.000000000",
          "2021-11-01T00:00:00.000000000",
          "2021-12-01T00:00:00.000000000",
          "2022-01-01T00:00:00.000000000",
          "2022-02-01T00:00:00.000000000",
          "2022-03-01T00:00:00.000000000",
          "2022-04-01T00:00:00.000000000",
          "2022-05-01T00:00:00.000000000",
          "2022-06-01T00:00:00.000000000",
          "2022-07-01T00:00:00.000000000",
          "2022-08-01T00:00:00.000000000",
          "2022-09-01T00:00:00.000000000",
          "2022-10-01T00:00:00.000000000",
          "2022-11-01T00:00:00.000000000",
          "2022-12-01T00:00:00.000000000",
          "2023-01-01T00:00:00.000000000",
          "2023-02-01T00:00:00.000000000",
          "2023-03-01T00:00:00.000000000",
          "2023-04-01T00:00:00.000000000",
          "2023-05-01T00:00:00.000000000",
          "2023-06-01T00:00:00.000000000",
          "2023-07-01T00:00:00.000000000",
          "2023-08-01T00:00:00.000000000",
          "2023-09-01T00:00:00.000000000",
          "2023-10-01T00:00:00.000000000",
          "2023-11-01T00:00:00.000000000",
          "2023-12-01T00:00:00.000000000",
          "2024-01-01T00:00:00.000000000",
          "2024-02-01T00:00:00.000000000",
          "2024-03-01T00:00:00.000000000",
          "2024-04-01T00:00:00.000000000",
          "2024-05-01T00:00:00.000000000",
          "2024-06-01T00:00:00.000000000",
          "2024-07-01T00:00:00.000000000",
          "2024-08-01T00:00:00.000000000",
          "2024-09-01T00:00:00.000000000",
          "2024-10-01T00:00:00.000000000",
          "2024-11-01T00:00:00.000000000",
          "2024-12-01T00:00:00.000000000",
          "2025-01-01T00:00:00.000000000"
         ],
         "xaxis": "x",
         "y": {
          "bdata": "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",
          "dtype": "f8"
         },
         "yaxis": "y"
        }
       ],
       "layout": {
        "annotations": [
         {
          "align": "left",
          "bgcolor": "rgba(255, 255, 255, 0.8)",
          "bordercolor": "black",
          "borderwidth": 1,
          "font": {
           "size": 10
          },
          "showarrow": false,
          "text": "Source: Trading Economics<br>Original Source: U.S. Bureau of Economic Analysis<br>Frequency: MS<br>",
          "x": 0,
          "xanchor": "left",
          "xref": "paper",
          "y": -0.2,
          "yanchor": "bottom",
          "yref": "paper"
         }
        ],
        "legend": {
         "orientation": "h",
         "title": {
          "text": ""
         },
         "tracegroupgap": 0,
         "x": 0.5,
         "xanchor": "center",
         "y": -0.2,
         "yanchor": "bottom"
        },
        "margin": {
         "t": 60
        },
        "template": {
         "data": {
          "bar": [
           {
            "error_x": {
             "color": "#2a3f5f"
            },
            "error_y": {
             "color": "#2a3f5f"
            },
            "marker": {
             "line": {
              "color": "#E5ECF6",
              "width": 0.5
             },
             "pattern": {
              "fillmode": "overlay",
              "size": 10,
              "solidity": 0.2
             }
            },
            "type": "bar"
           }
          ],
          "barpolar": [
           {
            "marker": {
             "line": {
              "color": "#E5ECF6",
              "width": 0.5
             },
             "pattern": {
              "fillmode": "overlay",
              "size": 10,
              "solidity": 0.2
             }
            },
            "type": "barpolar"
           }
          ],
          "carpet": [
           {
            "aaxis": {
             "endlinecolor": "#2a3f5f",
             "gridcolor": "white",
             "linecolor": "white",
             "minorgridcolor": "white",
             "startlinecolor": "#2a3f5f"
            },
            "baxis": {
             "endlinecolor": "#2a3f5f",
             "gridcolor": "white",
             "linecolor": "white",
             "minorgridcolor": "white",
             "startlinecolor": "#2a3f5f"
            },
            "type": "carpet"
           }
          ],
          "choropleth": [
           {
            "colorbar": {
             "outlinewidth": 0,
             "ticks": ""
            },
            "type": "choropleth"
           }
          ],
          "contour": [
           {
            "colorbar": {
             "outlinewidth": 0,
             "ticks": ""
            },
            "colorscale": [
             [
              0,
              "#0d0887"
             ],
             [
              0.1111111111111111,
              "#46039f"
             ],
             [
              0.2222222222222222,
              "#7201a8"
             ],
             [
              0.3333333333333333,
              "#9c179e"
             ],
             [
              0.4444444444444444,
              "#bd3786"
             ],
             [
              0.5555555555555556,
              "#d8576b"
             ],
             [
              0.6666666666666666,
              "#ed7953"
             ],
             [
              0.7777777777777778,
              "#fb9f3a"
             ],
             [
              0.8888888888888888,
              "#fdca26"
             ],
             [
              1,
              "#f0f921"
             ]
            ],
            "type": "contour"
           }
          ],
          "contourcarpet": [
           {
            "colorbar": {
             "outlinewidth": 0,
             "ticks": ""
            },
            "type": "contourcarpet"
           }
          ],
          "heatmap": [
           {
            "colorbar": {
             "outlinewidth": 0,
             "ticks": ""
            },
            "colorscale": [
             [
              0,
              "#0d0887"
             ],
             [
              0.1111111111111111,
              "#46039f"
             ],
             [
              0.2222222222222222,
              "#7201a8"
             ],
             [
              0.3333333333333333,
              "#9c179e"
             ],
             [
              0.4444444444444444,
              "#bd3786"
             ],
             [
              0.5555555555555556,
              "#d8576b"
             ],
             [
              0.6666666666666666,
              "#ed7953"
             ],
             [
              0.7777777777777778,
              "#fb9f3a"
             ],
             [
              0.8888888888888888,
              "#fdca26"
             ],
             [
              1,
              "#f0f921"
             ]
            ],
            "type": "heatmap"
           }
          ],
          "histogram": [
           {
            "marker": {
             "pattern": {
              "fillmode": "overlay",
              "size": 10,
              "solidity": 0.2
             }
            },
            "type": "histogram"
           }
          ],
          "histogram2d": [
           {
            "colorbar": {
             "outlinewidth": 0,
             "ticks": ""
            },
            "colorscale": [
             [
              0,
              "#0d0887"
             ],
             [
              0.1111111111111111,
              "#46039f"
             ],
             [
              0.2222222222222222,
              "#7201a8"
             ],
             [
              0.3333333333333333,
              "#9c179e"
             ],
             [
              0.4444444444444444,
              "#bd3786"
             ],
             [
              0.5555555555555556,
              "#d8576b"
             ],
             [
              0.6666666666666666,
              "#ed7953"
             ],
             [
              0.7777777777777778,
              "#fb9f3a"
             ],
             [
              0.8888888888888888,
              "#fdca26"
             ],
             [
              1,
              "#f0f921"
             ]
            ],
            "type": "histogram2d"
           }
          ],
          "histogram2dcontour": [
           {
            "colorbar": {
             "outlinewidth": 0,
             "ticks": ""
            },
            "colorscale": [
             [
              0,
              "#0d0887"
             ],
             [
              0.1111111111111111,
              "#46039f"
             ],
             [
              0.2222222222222222,
              "#7201a8"
             ],
             [
              0.3333333333333333,
              "#9c179e"
             ],
             [
              0.4444444444444444,
              "#bd3786"
             ],
             [
              0.5555555555555556,
              "#d8576b"
             ],
             [
              0.6666666666666666,
              "#ed7953"
             ],
             [
              0.7777777777777778,
              "#fb9f3a"
             ],
             [
              0.8888888888888888,
              "#fdca26"
             ],
             [
              1,
              "#f0f921"
             ]
            ],
            "type": "histogram2dcontour"
           }
          ],
          "mesh3d": [
           {
            "colorbar": {
             "outlinewidth": 0,
             "ticks": ""
            },
            "type": "mesh3d"
           }
          ],
          "parcoords": [
           {
            "line": {
             "colorbar": {
              "outlinewidth": 0,
              "ticks": ""
             }
            },
            "type": "parcoords"
           }
          ],
          "pie": [
           {
            "automargin": true,
            "type": "pie"
           }
          ],
          "scatter": [
           {
            "fillpattern": {
             "fillmode": "overlay",
             "size": 10,
             "solidity": 0.2
            },
            "type": "scatter"
           }
          ],
          "scatter3d": [
           {
            "line": {
             "colorbar": {
              "outlinewidth": 0,
              "ticks": ""
             }
            },
            "marker": {
             "colorbar": {
              "outlinewidth": 0,
              "ticks": ""
             }
            },
            "type": "scatter3d"
           }
          ],
          "scattercarpet": [
           {
            "marker": {
             "colorbar": {
              "outlinewidth": 0,
              "ticks": ""
             }
            },
            "type": "scattercarpet"
           }
          ],
          "scattergeo": [
           {
            "marker": {
             "colorbar": {
              "outlinewidth": 0,
              "ticks": ""
             }
            },
            "type": "scattergeo"
           }
          ],
          "scattergl": [
           {
            "marker": {
             "colorbar": {
              "outlinewidth": 0,
              "ticks": ""
             }
            },
            "type": "scattergl"
           }
          ],
          "scattermap": [
           {
            "marker": {
             "colorbar": {
              "outlinewidth": 0,
              "ticks": ""
             }
            },
            "type": "scattermap"
           }
          ],
          "scattermapbox": [
           {
            "marker": {
             "colorbar": {
              "outlinewidth": 0,
              "ticks": ""
             }
            },
            "type": "scattermapbox"
           }
          ],
          "scatterpolar": [
           {
            "marker": {
             "colorbar": {
              "outlinewidth": 0,
              "ticks": ""
             }
            },
            "type": "scatterpolar"
           }
          ],
          "scatterpolargl": [
           {
            "marker": {
             "colorbar": {
              "outlinewidth": 0,
              "ticks": ""
             }
            },
            "type": "scatterpolargl"
           }
          ],
          "scatterternary": [
           {
            "marker": {
             "colorbar": {
              "outlinewidth": 0,
              "ticks": ""
             }
            },
            "type": "scatterternary"
           }
          ],
          "surface": [
           {
            "colorbar": {
             "outlinewidth": 0,
             "ticks": ""
            },
            "colorscale": [
             [
              0,
              "#0d0887"
             ],
             [
              0.1111111111111111,
              "#46039f"
             ],
             [
              0.2222222222222222,
              "#7201a8"
             ],
             [
              0.3333333333333333,
              "#9c179e"
             ],
             [
              0.4444444444444444,
              "#bd3786"
             ],
             [
              0.5555555555555556,
              "#d8576b"
             ],
             [
              0.6666666666666666,
              "#ed7953"
             ],
             [
              0.7777777777777778,
              "#fb9f3a"
             ],
             [
              0.8888888888888888,
              "#fdca26"
             ],
             [
              1,
              "#f0f921"
             ]
            ],
            "type": "surface"
           }
          ],
          "table": [
           {
            "cells": {
             "fill": {
              "color": "#EBF0F8"
             },
             "line": {
              "color": "white"
             }
            },
            "header": {
             "fill": {
              "color": "#C8D4E3"
             },
             "line": {
              "color": "white"
             }
            },
            "type": "table"
           }
          ]
         },
         "layout": {
          "annotationdefaults": {
           "arrowcolor": "#2a3f5f",
           "arrowhead": 0,
           "arrowwidth": 1
          },
          "autotypenumbers": "strict",
          "coloraxis": {
           "colorbar": {
            "outlinewidth": 0,
            "ticks": ""
           }
          },
          "colorscale": {
           "diverging": [
            [
             0,
             "#8e0152"
            ],
            [
             0.1,
             "#c51b7d"
            ],
            [
             0.2,
             "#de77ae"
            ],
            [
             0.3,
             "#f1b6da"
            ],
            [
             0.4,
             "#fde0ef"
            ],
            [
             0.5,
             "#f7f7f7"
            ],
            [
             0.6,
             "#e6f5d0"
            ],
            [
             0.7,
             "#b8e186"
            ],
            [
             0.8,
             "#7fbc41"
            ],
            [
             0.9,
             "#4d9221"
            ],
            [
             1,
             "#276419"
            ]
           ],
           "sequential": [
            [
             0,
             "#0d0887"
            ],
            [
             0.1111111111111111,
             "#46039f"
            ],
            [
             0.2222222222222222,
             "#7201a8"
            ],
            [
             0.3333333333333333,
             "#9c179e"
            ],
            [
             0.4444444444444444,
             "#bd3786"
            ],
            [
             0.5555555555555556,
             "#d8576b"
            ],
            [
             0.6666666666666666,
             "#ed7953"
            ],
            [
             0.7777777777777778,
             "#fb9f3a"
            ],
            [
             0.8888888888888888,
             "#fdca26"
            ],
            [
             1,
             "#f0f921"
            ]
           ],
           "sequentialminus": [
            [
             0,
             "#0d0887"
            ],
            [
             0.1111111111111111,
             "#46039f"
            ],
            [
             0.2222222222222222,
             "#7201a8"
            ],
            [
             0.3333333333333333,
             "#9c179e"
            ],
            [
             0.4444444444444444,
             "#bd3786"
            ],
            [
             0.5555555555555556,
             "#d8576b"
            ],
            [
             0.6666666666666666,
             "#ed7953"
            ],
            [
             0.7777777777777778,
             "#fb9f3a"
            ],
            [
             0.8888888888888888,
             "#fdca26"
            ],
            [
             1,
             "#f0f921"
            ]
           ]
          },
          "colorway": [
           "#636efa",
           "#EF553B",
           "#00cc96",
           "#ab63fa",
           "#FFA15A",
           "#19d3f3",
           "#FF6692",
           "#B6E880",
           "#FF97FF",
           "#FECB52"
          ],
          "font": {
           "color": "#2a3f5f"
          },
          "geo": {
           "bgcolor": "white",
           "lakecolor": "white",
           "landcolor": "#E5ECF6",
           "showlakes": true,
           "showland": true,
           "subunitcolor": "white"
          },
          "hoverlabel": {
           "align": "left"
          },
          "hovermode": "closest",
          "mapbox": {
           "style": "light"
          },
          "paper_bgcolor": "white",
          "plot_bgcolor": "#E5ECF6",
          "polar": {
           "angularaxis": {
            "gridcolor": "white",
            "linecolor": "white",
            "ticks": ""
           },
           "bgcolor": "#E5ECF6",
           "radialaxis": {
            "gridcolor": "white",
            "linecolor": "white",
            "ticks": ""
           }
          },
          "scene": {
           "xaxis": {
            "backgroundcolor": "#E5ECF6",
            "gridcolor": "white",
            "gridwidth": 2,
            "linecolor": "white",
            "showbackground": true,
            "ticks": "",
            "zerolinecolor": "white"
           },
           "yaxis": {
            "backgroundcolor": "#E5ECF6",
            "gridcolor": "white",
            "gridwidth": 2,
            "linecolor": "white",
            "showbackground": true,
            "ticks": "",
            "zerolinecolor": "white"
           },
           "zaxis": {
            "backgroundcolor": "#E5ECF6",
            "gridcolor": "white",
            "gridwidth": 2,
            "linecolor": "white",
            "showbackground": true,
            "ticks": "",
            "zerolinecolor": "white"
           }
          },
          "shapedefaults": {
           "line": {
            "color": "#2a3f5f"
           }
          },
          "ternary": {
           "aaxis": {
            "gridcolor": "white",
            "linecolor": "white",
            "ticks": ""
           },
           "baxis": {
            "gridcolor": "white",
            "linecolor": "white",
            "ticks": ""
           },
           "bgcolor": "#E5ECF6",
           "caxis": {
            "gridcolor": "white",
            "linecolor": "white",
            "ticks": ""
           }
          },
          "title": {
           "x": 0.05
          },
          "xaxis": {
           "automargin": true,
           "gridcolor": "white",
           "linecolor": "white",
           "ticks": "",
           "title": {
            "standoff": 15
           },
           "zerolinecolor": "white",
           "zerolinewidth": 2
          },
          "yaxis": {
           "automargin": true,
           "gridcolor": "white",
           "linecolor": "white",
           "ticks": "",
           "title": {
            "standoff": 15
           },
           "zerolinecolor": "white",
           "zerolinewidth": 2
          }
         }
        },
        "title": {
         "text": "United states: United states personal income"
        },
        "xaxis": {
         "anchor": "y",
         "domain": [
          0,
          1
         ],
         "title": {
          "text": ""
         }
        },
        "yaxis": {
         "anchor": "x",
         "domain": [
          0,
          1
         ],
         "title": {
          "text": "%"
         }
        }
       }
      }
     },
     "metadata": {},
     "output_type": "display_data"
    }
   ],
   "source": [
    "scr.plot_series()  ## Plot the series."
   ]
  },
  {
   "cell_type": "code",
   "execution_count": 31,
   "metadata": {},
   "outputs": [
    {
     "name": "stderr",
     "output_type": "stream",
     "text": [
      "INFO - Scale series method: Start value, end value: 0.5, 0.9, pix0, pix1: 213.3125, 210.3625, \n",
      "data units per chart pixel from start & end points: 0.13559322033898358, \n",
      "unit_per_pix calculated from the y axis ticks: 0.13458915338710736, \n",
      "unit_per_pix from axis limits and self.y_axis (probably best way): 0.13513513513513514\n",
      "yaxis top tick: 24.0, yaxis bot tick: -16.0\n",
      "axis_limits: 335.0, 40.0, y-axis series min & max pixel values: 335.5, 39.5\n"
     ]
    },
    {
     "name": "stdout",
     "output_type": "stream",
     "text": [
      "Unit per pix forumlation, 24.0, -16.0, 40.0, 296.0, 40.0, 335.0, 0.13513513513513514\n",
      "Series crosses zero, x-axis should be at about pixel y-cordinate:  217.5\n"
     ]
    },
    {
     "data": {
      "text/plain": [
       "1959-02-01    0.511824\n",
       "1959-03-01    0.711149\n",
       "1959-04-01    0.910473\n",
       "1959-05-01    0.611486\n",
       "1959-06-01    0.611486\n",
       "                ...   \n",
       "2024-09-01    0.312500\n",
       "2024-10-01    0.611486\n",
       "2024-11-01    0.312500\n",
       "2024-12-01    0.412162\n",
       "2025-01-01    0.910473\n",
       "Freq: MS, Name: personal income, Length: 792, dtype: float64"
      ]
     },
     "execution_count": 31,
     "metadata": {},
     "output_type": "execute_result"
    }
   ],
   "source": [
    "scr.scale_series() ## Scale the series to the y-axis values to convert the pixel co-ordinates to actual data values.\n",
    "scr.series # View the series data obtained."
   ]
  },
  {
   "cell_type": "markdown",
   "metadata": {},
   "source": [
    "The ```scale_series()``` method converts the pixel co-ordinate values to data values."
   ]
  },
  {
   "cell_type": "code",
   "execution_count": 32,
   "metadata": {},
   "outputs": [
    {
     "data": {
      "application/vnd.plotly.v1+json": {
       "config": {
        "plotlyServerURL": "https://plot.ly"
       },
       "data": [
        {
         "hovertemplate": "variable=personal income<br>index=%{x}<br>value=%{y}<extra></extra>",
         "legendgroup": "personal income",
         "line": {
          "color": "#636efa",
          "dash": "solid"
         },
         "marker": {
          "symbol": "circle"
         },
         "mode": "lines",
         "name": "personal income",
         "orientation": "v",
         "showlegend": true,
         "type": "scatter",
         "x": [
          "1959-02-01T00:00:00.000000000",
          "1959-03-01T00:00:00.000000000",
          "1959-04-01T00:00:00.000000000",
          "1959-05-01T00:00:00.000000000",
          "1959-06-01T00:00:00.000000000",
          "1959-07-01T00:00:00.000000000",
          "1959-08-01T00:00:00.000000000",
          "1959-09-01T00:00:00.000000000",
          "1959-10-01T00:00:00.000000000",
          "1959-11-01T00:00:00.000000000",
          "1959-12-01T00:00:00.000000000",
          "1960-01-01T00:00:00.000000000",
          "1960-02-01T00:00:00.000000000",
          "1960-03-01T00:00:00.000000000",
          "1960-04-01T00:00:00.000000000",
          "1960-05-01T00:00:00.000000000",
          "1960-06-01T00:00:00.000000000",
          "1960-07-01T00:00:00.000000000",
          "1960-08-01T00:00:00.000000000",
          "1960-09-01T00:00:00.000000000",
          "1960-10-01T00:00:00.000000000",
          "1960-11-01T00:00:00.000000000",
          "1960-12-01T00:00:00.000000000",
          "1961-01-01T00:00:00.000000000",
          "1961-02-01T00:00:00.000000000",
          "1961-03-01T00:00:00.000000000",
          "1961-04-01T00:00:00.000000000",
          "1961-05-01T00:00:00.000000000",
          "1961-06-01T00:00:00.000000000",
          "1961-07-01T00:00:00.000000000",
          "1961-08-01T00:00:00.000000000",
          "1961-09-01T00:00:00.000000000",
          "1961-10-01T00:00:00.000000000",
          "1961-11-01T00:00:00.000000000",
          "1961-12-01T00:00:00.000000000",
          "1962-01-01T00:00:00.000000000",
          "1962-02-01T00:00:00.000000000",
          "1962-03-01T00:00:00.000000000",
          "1962-04-01T00:00:00.000000000",
          "1962-05-01T00:00:00.000000000",
          "1962-06-01T00:00:00.000000000",
          "1962-07-01T00:00:00.000000000",
          "1962-08-01T00:00:00.000000000",
          "1962-09-01T00:00:00.000000000",
          "1962-10-01T00:00:00.000000000",
          "1962-11-01T00:00:00.000000000",
          "1962-12-01T00:00:00.000000000",
          "1963-01-01T00:00:00.000000000",
          "1963-02-01T00:00:00.000000000",
          "1963-03-01T00:00:00.000000000",
          "1963-04-01T00:00:00.000000000",
          "1963-05-01T00:00:00.000000000",
          "1963-06-01T00:00:00.000000000",
          "1963-07-01T00:00:00.000000000",
          "1963-08-01T00:00:00.000000000",
          "1963-09-01T00:00:00.000000000",
          "1963-10-01T00:00:00.000000000",
          "1963-11-01T00:00:00.000000000",
          "1963-12-01T00:00:00.000000000",
          "1964-01-01T00:00:00.000000000",
          "1964-02-01T00:00:00.000000000",
          "1964-03-01T00:00:00.000000000",
          "1964-04-01T00:00:00.000000000",
          "1964-05-01T00:00:00.000000000",
          "1964-06-01T00:00:00.000000000",
          "1964-07-01T00:00:00.000000000",
          "1964-08-01T00:00:00.000000000",
          "1964-09-01T00:00:00.000000000",
          "1964-10-01T00:00:00.000000000",
          "1964-11-01T00:00:00.000000000",
          "1964-12-01T00:00:00.000000000",
          "1965-01-01T00:00:00.000000000",
          "1965-02-01T00:00:00.000000000",
          "1965-03-01T00:00:00.000000000",
          "1965-04-01T00:00:00.000000000",
          "1965-05-01T00:00:00.000000000",
          "1965-06-01T00:00:00.000000000",
          "1965-07-01T00:00:00.000000000",
          "1965-08-01T00:00:00.000000000",
          "1965-09-01T00:00:00.000000000",
          "1965-10-01T00:00:00.000000000",
          "1965-11-01T00:00:00.000000000",
          "1965-12-01T00:00:00.000000000",
          "1966-01-01T00:00:00.000000000",
          "1966-02-01T00:00:00.000000000",
          "1966-03-01T00:00:00.000000000",
          "1966-04-01T00:00:00.000000000",
          "1966-05-01T00:00:00.000000000",
          "1966-06-01T00:00:00.000000000",
          "1966-07-01T00:00:00.000000000",
          "1966-08-01T00:00:00.000000000",
          "1966-09-01T00:00:00.000000000",
          "1966-10-01T00:00:00.000000000",
          "1966-11-01T00:00:00.000000000",
          "1966-12-01T00:00:00.000000000",
          "1967-01-01T00:00:00.000000000",
          "1967-02-01T00:00:00.000000000",
          "1967-03-01T00:00:00.000000000",
          "1967-04-01T00:00:00.000000000",
          "1967-05-01T00:00:00.000000000",
          "1967-06-01T00:00:00.000000000",
          "1967-07-01T00:00:00.000000000",
          "1967-08-01T00:00:00.000000000",
          "1967-09-01T00:00:00.000000000",
          "1967-10-01T00:00:00.000000000",
          "1967-11-01T00:00:00.000000000",
          "1967-12-01T00:00:00.000000000",
          "1968-01-01T00:00:00.000000000",
          "1968-02-01T00:00:00.000000000",
          "1968-03-01T00:00:00.000000000",
          "1968-04-01T00:00:00.000000000",
          "1968-05-01T00:00:00.000000000",
          "1968-06-01T00:00:00.000000000",
          "1968-07-01T00:00:00.000000000",
          "1968-08-01T00:00:00.000000000",
          "1968-09-01T00:00:00.000000000",
          "1968-10-01T00:00:00.000000000",
          "1968-11-01T00:00:00.000000000",
          "1968-12-01T00:00:00.000000000",
          "1969-01-01T00:00:00.000000000",
          "1969-02-01T00:00:00.000000000",
          "1969-03-01T00:00:00.000000000",
          "1969-04-01T00:00:00.000000000",
          "1969-05-01T00:00:00.000000000",
          "1969-06-01T00:00:00.000000000",
          "1969-07-01T00:00:00.000000000",
          "1969-08-01T00:00:00.000000000",
          "1969-09-01T00:00:00.000000000",
          "1969-10-01T00:00:00.000000000",
          "1969-11-01T00:00:00.000000000",
          "1969-12-01T00:00:00.000000000",
          "1970-01-01T00:00:00.000000000",
          "1970-02-01T00:00:00.000000000",
          "1970-03-01T00:00:00.000000000",
          "1970-04-01T00:00:00.000000000",
          "1970-05-01T00:00:00.000000000",
          "1970-06-01T00:00:00.000000000",
          "1970-07-01T00:00:00.000000000",
          "1970-08-01T00:00:00.000000000",
          "1970-09-01T00:00:00.000000000",
          "1970-10-01T00:00:00.000000000",
          "1970-11-01T00:00:00.000000000",
          "1970-12-01T00:00:00.000000000",
          "1971-01-01T00:00:00.000000000",
          "1971-02-01T00:00:00.000000000",
          "1971-03-01T00:00:00.000000000",
          "1971-04-01T00:00:00.000000000",
          "1971-05-01T00:00:00.000000000",
          "1971-06-01T00:00:00.000000000",
          "1971-07-01T00:00:00.000000000",
          "1971-08-01T00:00:00.000000000",
          "1971-09-01T00:00:00.000000000",
          "1971-10-01T00:00:00.000000000",
          "1971-11-01T00:00:00.000000000",
          "1971-12-01T00:00:00.000000000",
          "1972-01-01T00:00:00.000000000",
          "1972-02-01T00:00:00.000000000",
          "1972-03-01T00:00:00.000000000",
          "1972-04-01T00:00:00.000000000",
          "1972-05-01T00:00:00.000000000",
          "1972-06-01T00:00:00.000000000",
          "1972-07-01T00:00:00.000000000",
          "1972-08-01T00:00:00.000000000",
          "1972-09-01T00:00:00.000000000",
          "1972-10-01T00:00:00.000000000",
          "1972-11-01T00:00:00.000000000",
          "1972-12-01T00:00:00.000000000",
          "1973-01-01T00:00:00.000000000",
          "1973-02-01T00:00:00.000000000",
          "1973-03-01T00:00:00.000000000",
          "1973-04-01T00:00:00.000000000",
          "1973-05-01T00:00:00.000000000",
          "1973-06-01T00:00:00.000000000",
          "1973-07-01T00:00:00.000000000",
          "1973-08-01T00:00:00.000000000",
          "1973-09-01T00:00:00.000000000",
          "1973-10-01T00:00:00.000000000",
          "1973-11-01T00:00:00.000000000",
          "1973-12-01T00:00:00.000000000",
          "1974-01-01T00:00:00.000000000",
          "1974-02-01T00:00:00.000000000",
          "1974-03-01T00:00:00.000000000",
          "1974-04-01T00:00:00.000000000",
          "1974-05-01T00:00:00.000000000",
          "1974-06-01T00:00:00.000000000",
          "1974-07-01T00:00:00.000000000",
          "1974-08-01T00:00:00.000000000",
          "1974-09-01T00:00:00.000000000",
          "1974-10-01T00:00:00.000000000",
          "1974-11-01T00:00:00.000000000",
          "1974-12-01T00:00:00.000000000",
          "1975-01-01T00:00:00.000000000",
          "1975-02-01T00:00:00.000000000",
          "1975-03-01T00:00:00.000000000",
          "1975-04-01T00:00:00.000000000",
          "1975-05-01T00:00:00.000000000",
          "1975-06-01T00:00:00.000000000",
          "1975-07-01T00:00:00.000000000",
          "1975-08-01T00:00:00.000000000",
          "1975-09-01T00:00:00.000000000",
          "1975-10-01T00:00:00.000000000",
          "1975-11-01T00:00:00.000000000",
          "1975-12-01T00:00:00.000000000",
          "1976-01-01T00:00:00.000000000",
          "1976-02-01T00:00:00.000000000",
          "1976-03-01T00:00:00.000000000",
          "1976-04-01T00:00:00.000000000",
          "1976-05-01T00:00:00.000000000",
          "1976-06-01T00:00:00.000000000",
          "1976-07-01T00:00:00.000000000",
          "1976-08-01T00:00:00.000000000",
          "1976-09-01T00:00:00.000000000",
          "1976-10-01T00:00:00.000000000",
          "1976-11-01T00:00:00.000000000",
          "1976-12-01T00:00:00.000000000",
          "1977-01-01T00:00:00.000000000",
          "1977-02-01T00:00:00.000000000",
          "1977-03-01T00:00:00.000000000",
          "1977-04-01T00:00:00.000000000",
          "1977-05-01T00:00:00.000000000",
          "1977-06-01T00:00:00.000000000",
          "1977-07-01T00:00:00.000000000",
          "1977-08-01T00:00:00.000000000",
          "1977-09-01T00:00:00.000000000",
          "1977-10-01T00:00:00.000000000",
          "1977-11-01T00:00:00.000000000",
          "1977-12-01T00:00:00.000000000",
          "1978-01-01T00:00:00.000000000",
          "1978-02-01T00:00:00.000000000",
          "1978-03-01T00:00:00.000000000",
          "1978-04-01T00:00:00.000000000",
          "1978-05-01T00:00:00.000000000",
          "1978-06-01T00:00:00.000000000",
          "1978-07-01T00:00:00.000000000",
          "1978-08-01T00:00:00.000000000",
          "1978-09-01T00:00:00.000000000",
          "1978-10-01T00:00:00.000000000",
          "1978-11-01T00:00:00.000000000",
          "1978-12-01T00:00:00.000000000",
          "1979-01-01T00:00:00.000000000",
          "1979-02-01T00:00:00.000000000",
          "1979-03-01T00:00:00.000000000",
          "1979-04-01T00:00:00.000000000",
          "1979-05-01T00:00:00.000000000",
          "1979-06-01T00:00:00.000000000",
          "1979-07-01T00:00:00.000000000",
          "1979-08-01T00:00:00.000000000",
          "1979-09-01T00:00:00.000000000",
          "1979-10-01T00:00:00.000000000",
          "1979-11-01T00:00:00.000000000",
          "1979-12-01T00:00:00.000000000",
          "1980-01-01T00:00:00.000000000",
          "1980-02-01T00:00:00.000000000",
          "1980-03-01T00:00:00.000000000",
          "1980-04-01T00:00:00.000000000",
          "1980-05-01T00:00:00.000000000",
          "1980-06-01T00:00:00.000000000",
          "1980-07-01T00:00:00.000000000",
          "1980-08-01T00:00:00.000000000",
          "1980-09-01T00:00:00.000000000",
          "1980-10-01T00:00:00.000000000",
          "1980-11-01T00:00:00.000000000",
          "1980-12-01T00:00:00.000000000",
          "1981-01-01T00:00:00.000000000",
          "1981-02-01T00:00:00.000000000",
          "1981-03-01T00:00:00.000000000",
          "1981-04-01T00:00:00.000000000",
          "1981-05-01T00:00:00.000000000",
          "1981-06-01T00:00:00.000000000",
          "1981-07-01T00:00:00.000000000",
          "1981-08-01T00:00:00.000000000",
          "1981-09-01T00:00:00.000000000",
          "1981-10-01T00:00:00.000000000",
          "1981-11-01T00:00:00.000000000",
          "1981-12-01T00:00:00.000000000",
          "1982-01-01T00:00:00.000000000",
          "1982-02-01T00:00:00.000000000",
          "1982-03-01T00:00:00.000000000",
          "1982-04-01T00:00:00.000000000",
          "1982-05-01T00:00:00.000000000",
          "1982-06-01T00:00:00.000000000",
          "1982-07-01T00:00:00.000000000",
          "1982-08-01T00:00:00.000000000",
          "1982-09-01T00:00:00.000000000",
          "1982-10-01T00:00:00.000000000",
          "1982-11-01T00:00:00.000000000",
          "1982-12-01T00:00:00.000000000",
          "1983-01-01T00:00:00.000000000",
          "1983-02-01T00:00:00.000000000",
          "1983-03-01T00:00:00.000000000",
          "1983-04-01T00:00:00.000000000",
          "1983-05-01T00:00:00.000000000",
          "1983-06-01T00:00:00.000000000",
          "1983-07-01T00:00:00.000000000",
          "1983-08-01T00:00:00.000000000",
          "1983-09-01T00:00:00.000000000",
          "1983-10-01T00:00:00.000000000",
          "1983-11-01T00:00:00.000000000",
          "1983-12-01T00:00:00.000000000",
          "1984-01-01T00:00:00.000000000",
          "1984-02-01T00:00:00.000000000",
          "1984-03-01T00:00:00.000000000",
          "1984-04-01T00:00:00.000000000",
          "1984-05-01T00:00:00.000000000",
          "1984-06-01T00:00:00.000000000",
          "1984-07-01T00:00:00.000000000",
          "1984-08-01T00:00:00.000000000",
          "1984-09-01T00:00:00.000000000",
          "1984-10-01T00:00:00.000000000",
          "1984-11-01T00:00:00.000000000",
          "1984-12-01T00:00:00.000000000",
          "1985-01-01T00:00:00.000000000",
          "1985-02-01T00:00:00.000000000",
          "1985-03-01T00:00:00.000000000",
          "1985-04-01T00:00:00.000000000",
          "1985-05-01T00:00:00.000000000",
          "1985-06-01T00:00:00.000000000",
          "1985-07-01T00:00:00.000000000",
          "1985-08-01T00:00:00.000000000",
          "1985-09-01T00:00:00.000000000",
          "1985-10-01T00:00:00.000000000",
          "1985-11-01T00:00:00.000000000",
          "1985-12-01T00:00:00.000000000",
          "1986-01-01T00:00:00.000000000",
          "1986-02-01T00:00:00.000000000",
          "1986-03-01T00:00:00.000000000",
          "1986-04-01T00:00:00.000000000",
          "1986-05-01T00:00:00.000000000",
          "1986-06-01T00:00:00.000000000",
          "1986-07-01T00:00:00.000000000",
          "1986-08-01T00:00:00.000000000",
          "1986-09-01T00:00:00.000000000",
          "1986-10-01T00:00:00.000000000",
          "1986-11-01T00:00:00.000000000",
          "1986-12-01T00:00:00.000000000",
          "1987-01-01T00:00:00.000000000",
          "1987-02-01T00:00:00.000000000",
          "1987-03-01T00:00:00.000000000",
          "1987-04-01T00:00:00.000000000",
          "1987-05-01T00:00:00.000000000",
          "1987-06-01T00:00:00.000000000",
          "1987-07-01T00:00:00.000000000",
          "1987-08-01T00:00:00.000000000",
          "1987-09-01T00:00:00.000000000",
          "1987-10-01T00:00:00.000000000",
          "1987-11-01T00:00:00.000000000",
          "1987-12-01T00:00:00.000000000",
          "1988-01-01T00:00:00.000000000",
          "1988-02-01T00:00:00.000000000",
          "1988-03-01T00:00:00.000000000",
          "1988-04-01T00:00:00.000000000",
          "1988-05-01T00:00:00.000000000",
          "1988-06-01T00:00:00.000000000",
          "1988-07-01T00:00:00.000000000",
          "1988-08-01T00:00:00.000000000",
          "1988-09-01T00:00:00.000000000",
          "1988-10-01T00:00:00.000000000",
          "1988-11-01T00:00:00.000000000",
          "1988-12-01T00:00:00.000000000",
          "1989-01-01T00:00:00.000000000",
          "1989-02-01T00:00:00.000000000",
          "1989-03-01T00:00:00.000000000",
          "1989-04-01T00:00:00.000000000",
          "1989-05-01T00:00:00.000000000",
          "1989-06-01T00:00:00.000000000",
          "1989-07-01T00:00:00.000000000",
          "1989-08-01T00:00:00.000000000",
          "1989-09-01T00:00:00.000000000",
          "1989-10-01T00:00:00.000000000",
          "1989-11-01T00:00:00.000000000",
          "1989-12-01T00:00:00.000000000",
          "1990-01-01T00:00:00.000000000",
          "1990-02-01T00:00:00.000000000",
          "1990-03-01T00:00:00.000000000",
          "1990-04-01T00:00:00.000000000",
          "1990-05-01T00:00:00.000000000",
          "1990-06-01T00:00:00.000000000",
          "1990-07-01T00:00:00.000000000",
          "1990-08-01T00:00:00.000000000",
          "1990-09-01T00:00:00.000000000",
          "1990-10-01T00:00:00.000000000",
          "1990-11-01T00:00:00.000000000",
          "1990-12-01T00:00:00.000000000",
          "1991-01-01T00:00:00.000000000",
          "1991-02-01T00:00:00.000000000",
          "1991-03-01T00:00:00.000000000",
          "1991-04-01T00:00:00.000000000",
          "1991-05-01T00:00:00.000000000",
          "1991-06-01T00:00:00.000000000",
          "1991-07-01T00:00:00.000000000",
          "1991-08-01T00:00:00.000000000",
          "1991-09-01T00:00:00.000000000",
          "1991-10-01T00:00:00.000000000",
          "1991-11-01T00:00:00.000000000",
          "1991-12-01T00:00:00.000000000",
          "1992-01-01T00:00:00.000000000",
          "1992-02-01T00:00:00.000000000",
          "1992-03-01T00:00:00.000000000",
          "1992-04-01T00:00:00.000000000",
          "1992-05-01T00:00:00.000000000",
          "1992-06-01T00:00:00.000000000",
          "1992-07-01T00:00:00.000000000",
          "1992-08-01T00:00:00.000000000",
          "1992-09-01T00:00:00.000000000",
          "1992-10-01T00:00:00.000000000",
          "1992-11-01T00:00:00.000000000",
          "1992-12-01T00:00:00.000000000",
          "1993-01-01T00:00:00.000000000",
          "1993-02-01T00:00:00.000000000",
          "1993-03-01T00:00:00.000000000",
          "1993-04-01T00:00:00.000000000",
          "1993-05-01T00:00:00.000000000",
          "1993-06-01T00:00:00.000000000",
          "1993-07-01T00:00:00.000000000",
          "1993-08-01T00:00:00.000000000",
          "1993-09-01T00:00:00.000000000",
          "1993-10-01T00:00:00.000000000",
          "1993-11-01T00:00:00.000000000",
          "1993-12-01T00:00:00.000000000",
          "1994-01-01T00:00:00.000000000",
          "1994-02-01T00:00:00.000000000",
          "1994-03-01T00:00:00.000000000",
          "1994-04-01T00:00:00.000000000",
          "1994-05-01T00:00:00.000000000",
          "1994-06-01T00:00:00.000000000",
          "1994-07-01T00:00:00.000000000",
          "1994-08-01T00:00:00.000000000",
          "1994-09-01T00:00:00.000000000",
          "1994-10-01T00:00:00.000000000",
          "1994-11-01T00:00:00.000000000",
          "1994-12-01T00:00:00.000000000",
          "1995-01-01T00:00:00.000000000",
          "1995-02-01T00:00:00.000000000",
          "1995-03-01T00:00:00.000000000",
          "1995-04-01T00:00:00.000000000",
          "1995-05-01T00:00:00.000000000",
          "1995-06-01T00:00:00.000000000",
          "1995-07-01T00:00:00.000000000",
          "1995-08-01T00:00:00.000000000",
          "1995-09-01T00:00:00.000000000",
          "1995-10-01T00:00:00.000000000",
          "1995-11-01T00:00:00.000000000",
          "1995-12-01T00:00:00.000000000",
          "1996-01-01T00:00:00.000000000",
          "1996-02-01T00:00:00.000000000",
          "1996-03-01T00:00:00.000000000",
          "1996-04-01T00:00:00.000000000",
          "1996-05-01T00:00:00.000000000",
          "1996-06-01T00:00:00.000000000",
          "1996-07-01T00:00:00.000000000",
          "1996-08-01T00:00:00.000000000",
          "1996-09-01T00:00:00.000000000",
          "1996-10-01T00:00:00.000000000",
          "1996-11-01T00:00:00.000000000",
          "1996-12-01T00:00:00.000000000",
          "1997-01-01T00:00:00.000000000",
          "1997-02-01T00:00:00.000000000",
          "1997-03-01T00:00:00.000000000",
          "1997-04-01T00:00:00.000000000",
          "1997-05-01T00:00:00.000000000",
          "1997-06-01T00:00:00.000000000",
          "1997-07-01T00:00:00.000000000",
          "1997-08-01T00:00:00.000000000",
          "1997-09-01T00:00:00.000000000",
          "1997-10-01T00:00:00.000000000",
          "1997-11-01T00:00:00.000000000",
          "1997-12-01T00:00:00.000000000",
          "1998-01-01T00:00:00.000000000",
          "1998-02-01T00:00:00.000000000",
          "1998-03-01T00:00:00.000000000",
          "1998-04-01T00:00:00.000000000",
          "1998-05-01T00:00:00.000000000",
          "1998-06-01T00:00:00.000000000",
          "1998-07-01T00:00:00.000000000",
          "1998-08-01T00:00:00.000000000",
          "1998-09-01T00:00:00.000000000",
          "1998-10-01T00:00:00.000000000",
          "1998-11-01T00:00:00.000000000",
          "1998-12-01T00:00:00.000000000",
          "1999-01-01T00:00:00.000000000",
          "1999-02-01T00:00:00.000000000",
          "1999-03-01T00:00:00.000000000",
          "1999-04-01T00:00:00.000000000",
          "1999-05-01T00:00:00.000000000",
          "1999-06-01T00:00:00.000000000",
          "1999-07-01T00:00:00.000000000",
          "1999-08-01T00:00:00.000000000",
          "1999-09-01T00:00:00.000000000",
          "1999-10-01T00:00:00.000000000",
          "1999-11-01T00:00:00.000000000",
          "1999-12-01T00:00:00.000000000",
          "2000-01-01T00:00:00.000000000",
          "2000-02-01T00:00:00.000000000",
          "2000-03-01T00:00:00.000000000",
          "2000-04-01T00:00:00.000000000",
          "2000-05-01T00:00:00.000000000",
          "2000-06-01T00:00:00.000000000",
          "2000-07-01T00:00:00.000000000",
          "2000-08-01T00:00:00.000000000",
          "2000-09-01T00:00:00.000000000",
          "2000-10-01T00:00:00.000000000",
          "2000-11-01T00:00:00.000000000",
          "2000-12-01T00:00:00.000000000",
          "2001-01-01T00:00:00.000000000",
          "2001-02-01T00:00:00.000000000",
          "2001-03-01T00:00:00.000000000",
          "2001-04-01T00:00:00.000000000",
          "2001-05-01T00:00:00.000000000",
          "2001-06-01T00:00:00.000000000",
          "2001-07-01T00:00:00.000000000",
          "2001-08-01T00:00:00.000000000",
          "2001-09-01T00:00:00.000000000",
          "2001-10-01T00:00:00.000000000",
          "2001-11-01T00:00:00.000000000",
          "2001-12-01T00:00:00.000000000",
          "2002-01-01T00:00:00.000000000",
          "2002-02-01T00:00:00.000000000",
          "2002-03-01T00:00:00.000000000",
          "2002-04-01T00:00:00.000000000",
          "2002-05-01T00:00:00.000000000",
          "2002-06-01T00:00:00.000000000",
          "2002-07-01T00:00:00.000000000",
          "2002-08-01T00:00:00.000000000",
          "2002-09-01T00:00:00.000000000",
          "2002-10-01T00:00:00.000000000",
          "2002-11-01T00:00:00.000000000",
          "2002-12-01T00:00:00.000000000",
          "2003-01-01T00:00:00.000000000",
          "2003-02-01T00:00:00.000000000",
          "2003-03-01T00:00:00.000000000",
          "2003-04-01T00:00:00.000000000",
          "2003-05-01T00:00:00.000000000",
          "2003-06-01T00:00:00.000000000",
          "2003-07-01T00:00:00.000000000",
          "2003-08-01T00:00:00.000000000",
          "2003-09-01T00:00:00.000000000",
          "2003-10-01T00:00:00.000000000",
          "2003-11-01T00:00:00.000000000",
          "2003-12-01T00:00:00.000000000",
          "2004-01-01T00:00:00.000000000",
          "2004-02-01T00:00:00.000000000",
          "2004-03-01T00:00:00.000000000",
          "2004-04-01T00:00:00.000000000",
          "2004-05-01T00:00:00.000000000",
          "2004-06-01T00:00:00.000000000",
          "2004-07-01T00:00:00.000000000",
          "2004-08-01T00:00:00.000000000",
          "2004-09-01T00:00:00.000000000",
          "2004-10-01T00:00:00.000000000",
          "2004-11-01T00:00:00.000000000",
          "2004-12-01T00:00:00.000000000",
          "2005-01-01T00:00:00.000000000",
          "2005-02-01T00:00:00.000000000",
          "2005-03-01T00:00:00.000000000",
          "2005-04-01T00:00:00.000000000",
          "2005-05-01T00:00:00.000000000",
          "2005-06-01T00:00:00.000000000",
          "2005-07-01T00:00:00.000000000",
          "2005-08-01T00:00:00.000000000",
          "2005-09-01T00:00:00.000000000",
          "2005-10-01T00:00:00.000000000",
          "2005-11-01T00:00:00.000000000",
          "2005-12-01T00:00:00.000000000",
          "2006-01-01T00:00:00.000000000",
          "2006-02-01T00:00:00.000000000",
          "2006-03-01T00:00:00.000000000",
          "2006-04-01T00:00:00.000000000",
          "2006-05-01T00:00:00.000000000",
          "2006-06-01T00:00:00.000000000",
          "2006-07-01T00:00:00.000000000",
          "2006-08-01T00:00:00.000000000",
          "2006-09-01T00:00:00.000000000",
          "2006-10-01T00:00:00.000000000",
          "2006-11-01T00:00:00.000000000",
          "2006-12-01T00:00:00.000000000",
          "2007-01-01T00:00:00.000000000",
          "2007-02-01T00:00:00.000000000",
          "2007-03-01T00:00:00.000000000",
          "2007-04-01T00:00:00.000000000",
          "2007-05-01T00:00:00.000000000",
          "2007-06-01T00:00:00.000000000",
          "2007-07-01T00:00:00.000000000",
          "2007-08-01T00:00:00.000000000",
          "2007-09-01T00:00:00.000000000",
          "2007-10-01T00:00:00.000000000",
          "2007-11-01T00:00:00.000000000",
          "2007-12-01T00:00:00.000000000",
          "2008-01-01T00:00:00.000000000",
          "2008-02-01T00:00:00.000000000",
          "2008-03-01T00:00:00.000000000",
          "2008-04-01T00:00:00.000000000",
          "2008-05-01T00:00:00.000000000",
          "2008-06-01T00:00:00.000000000",
          "2008-07-01T00:00:00.000000000",
          "2008-08-01T00:00:00.000000000",
          "2008-09-01T00:00:00.000000000",
          "2008-10-01T00:00:00.000000000",
          "2008-11-01T00:00:00.000000000",
          "2008-12-01T00:00:00.000000000",
          "2009-01-01T00:00:00.000000000",
          "2009-02-01T00:00:00.000000000",
          "2009-03-01T00:00:00.000000000",
          "2009-04-01T00:00:00.000000000",
          "2009-05-01T00:00:00.000000000",
          "2009-06-01T00:00:00.000000000",
          "2009-07-01T00:00:00.000000000",
          "2009-08-01T00:00:00.000000000",
          "2009-09-01T00:00:00.000000000",
          "2009-10-01T00:00:00.000000000",
          "2009-11-01T00:00:00.000000000",
          "2009-12-01T00:00:00.000000000",
          "2010-01-01T00:00:00.000000000",
          "2010-02-01T00:00:00.000000000",
          "2010-03-01T00:00:00.000000000",
          "2010-04-01T00:00:00.000000000",
          "2010-05-01T00:00:00.000000000",
          "2010-06-01T00:00:00.000000000",
          "2010-07-01T00:00:00.000000000",
          "2010-08-01T00:00:00.000000000",
          "2010-09-01T00:00:00.000000000",
          "2010-10-01T00:00:00.000000000",
          "2010-11-01T00:00:00.000000000",
          "2010-12-01T00:00:00.000000000",
          "2011-01-01T00:00:00.000000000",
          "2011-02-01T00:00:00.000000000",
          "2011-03-01T00:00:00.000000000",
          "2011-04-01T00:00:00.000000000",
          "2011-05-01T00:00:00.000000000",
          "2011-06-01T00:00:00.000000000",
          "2011-07-01T00:00:00.000000000",
          "2011-08-01T00:00:00.000000000",
          "2011-09-01T00:00:00.000000000",
          "2011-10-01T00:00:00.000000000",
          "2011-11-01T00:00:00.000000000",
          "2011-12-01T00:00:00.000000000",
          "2012-01-01T00:00:00.000000000",
          "2012-02-01T00:00:00.000000000",
          "2012-03-01T00:00:00.000000000",
          "2012-04-01T00:00:00.000000000",
          "2012-05-01T00:00:00.000000000",
          "2012-06-01T00:00:00.000000000",
          "2012-07-01T00:00:00.000000000",
          "2012-08-01T00:00:00.000000000",
          "2012-09-01T00:00:00.000000000",
          "2012-10-01T00:00:00.000000000",
          "2012-11-01T00:00:00.000000000",
          "2012-12-01T00:00:00.000000000",
          "2013-01-01T00:00:00.000000000",
          "2013-02-01T00:00:00.000000000",
          "2013-03-01T00:00:00.000000000",
          "2013-04-01T00:00:00.000000000",
          "2013-05-01T00:00:00.000000000",
          "2013-06-01T00:00:00.000000000",
          "2013-07-01T00:00:00.000000000",
          "2013-08-01T00:00:00.000000000",
          "2013-09-01T00:00:00.000000000",
          "2013-10-01T00:00:00.000000000",
          "2013-11-01T00:00:00.000000000",
          "2013-12-01T00:00:00.000000000",
          "2014-01-01T00:00:00.000000000",
          "2014-02-01T00:00:00.000000000",
          "2014-03-01T00:00:00.000000000",
          "2014-04-01T00:00:00.000000000",
          "2014-05-01T00:00:00.000000000",
          "2014-06-01T00:00:00.000000000",
          "2014-07-01T00:00:00.000000000",
          "2014-08-01T00:00:00.000000000",
          "2014-09-01T00:00:00.000000000",
          "2014-10-01T00:00:00.000000000",
          "2014-11-01T00:00:00.000000000",
          "2014-12-01T00:00:00.000000000",
          "2015-01-01T00:00:00.000000000",
          "2015-02-01T00:00:00.000000000",
          "2015-03-01T00:00:00.000000000",
          "2015-04-01T00:00:00.000000000",
          "2015-05-01T00:00:00.000000000",
          "2015-06-01T00:00:00.000000000",
          "2015-07-01T00:00:00.000000000",
          "2015-08-01T00:00:00.000000000",
          "2015-09-01T00:00:00.000000000",
          "2015-10-01T00:00:00.000000000",
          "2015-11-01T00:00:00.000000000",
          "2015-12-01T00:00:00.000000000",
          "2016-01-01T00:00:00.000000000",
          "2016-02-01T00:00:00.000000000",
          "2016-03-01T00:00:00.000000000",
          "2016-04-01T00:00:00.000000000",
          "2016-05-01T00:00:00.000000000",
          "2016-06-01T00:00:00.000000000",
          "2016-07-01T00:00:00.000000000",
          "2016-08-01T00:00:00.000000000",
          "2016-09-01T00:00:00.000000000",
          "2016-10-01T00:00:00.000000000",
          "2016-11-01T00:00:00.000000000",
          "2016-12-01T00:00:00.000000000",
          "2017-01-01T00:00:00.000000000",
          "2017-02-01T00:00:00.000000000",
          "2017-03-01T00:00:00.000000000",
          "2017-04-01T00:00:00.000000000",
          "2017-05-01T00:00:00.000000000",
          "2017-06-01T00:00:00.000000000",
          "2017-07-01T00:00:00.000000000",
          "2017-08-01T00:00:00.000000000",
          "2017-09-01T00:00:00.000000000",
          "2017-10-01T00:00:00.000000000",
          "2017-11-01T00:00:00.000000000",
          "2017-12-01T00:00:00.000000000",
          "2018-01-01T00:00:00.000000000",
          "2018-02-01T00:00:00.000000000",
          "2018-03-01T00:00:00.000000000",
          "2018-04-01T00:00:00.000000000",
          "2018-05-01T00:00:00.000000000",
          "2018-06-01T00:00:00.000000000",
          "2018-07-01T00:00:00.000000000",
          "2018-08-01T00:00:00.000000000",
          "2018-09-01T00:00:00.000000000",
          "2018-10-01T00:00:00.000000000",
          "2018-11-01T00:00:00.000000000",
          "2018-12-01T00:00:00.000000000",
          "2019-01-01T00:00:00.000000000",
          "2019-02-01T00:00:00.000000000",
          "2019-03-01T00:00:00.000000000",
          "2019-04-01T00:00:00.000000000",
          "2019-05-01T00:00:00.000000000",
          "2019-06-01T00:00:00.000000000",
          "2019-07-01T00:00:00.000000000",
          "2019-08-01T00:00:00.000000000",
          "2019-09-01T00:00:00.000000000",
          "2019-10-01T00:00:00.000000000",
          "2019-11-01T00:00:00.000000000",
          "2019-12-01T00:00:00.000000000",
          "2020-01-01T00:00:00.000000000",
          "2020-02-01T00:00:00.000000000",
          "2020-03-01T00:00:00.000000000",
          "2020-04-01T00:00:00.000000000",
          "2020-05-01T00:00:00.000000000",
          "2020-06-01T00:00:00.000000000",
          "2020-07-01T00:00:00.000000000",
          "2020-08-01T00:00:00.000000000",
          "2020-09-01T00:00:00.000000000",
          "2020-10-01T00:00:00.000000000",
          "2020-11-01T00:00:00.000000000",
          "2020-12-01T00:00:00.000000000",
          "2021-01-01T00:00:00.000000000",
          "2021-02-01T00:00:00.000000000",
          "2021-03-01T00:00:00.000000000",
          "2021-04-01T00:00:00.000000000",
          "2021-05-01T00:00:00.000000000",
          "2021-06-01T00:00:00.000000000",
          "2021-07-01T00:00:00.000000000",
          "2021-08-01T00:00:00.000000000",
          "2021-09-01T00:00:00.000000000",
          "2021-10-01T00:00:00.000000000",
          "2021-11-01T00:00:00.000000000",
          "2021-12-01T00:00:00.000000000",
          "2022-01-01T00:00:00.000000000",
          "2022-02-01T00:00:00.000000000",
          "2022-03-01T00:00:00.000000000",
          "2022-04-01T00:00:00.000000000",
          "2022-05-01T00:00:00.000000000",
          "2022-06-01T00:00:00.000000000",
          "2022-07-01T00:00:00.000000000",
          "2022-08-01T00:00:00.000000000",
          "2022-09-01T00:00:00.000000000",
          "2022-10-01T00:00:00.000000000",
          "2022-11-01T00:00:00.000000000",
          "2022-12-01T00:00:00.000000000",
          "2023-01-01T00:00:00.000000000",
          "2023-02-01T00:00:00.000000000",
          "2023-03-01T00:00:00.000000000",
          "2023-04-01T00:00:00.000000000",
          "2023-05-01T00:00:00.000000000",
          "2023-06-01T00:00:00.000000000",
          "2023-07-01T00:00:00.000000000",
          "2023-08-01T00:00:00.000000000",
          "2023-09-01T00:00:00.000000000",
          "2023-10-01T00:00:00.000000000",
          "2023-11-01T00:00:00.000000000",
          "2023-12-01T00:00:00.000000000",
          "2024-01-01T00:00:00.000000000",
          "2024-02-01T00:00:00.000000000",
          "2024-03-01T00:00:00.000000000",
          "2024-04-01T00:00:00.000000000",
          "2024-05-01T00:00:00.000000000",
          "2024-06-01T00:00:00.000000000",
          "2024-07-01T00:00:00.000000000",
          "2024-08-01T00:00:00.000000000",
          "2024-09-01T00:00:00.000000000",
          "2024-10-01T00:00:00.000000000",
          "2024-11-01T00:00:00.000000000",
          "2024-12-01T00:00:00.000000000",
          "2025-01-01T00:00:00.000000000"
         ],
         "xaxis": "x",
         "y": {
          "bdata": "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",
          "dtype": "f8"
         },
         "yaxis": "y"
        }
       ],
       "layout": {
        "annotations": [
         {
          "align": "left",
          "bgcolor": "rgba(255, 255, 255, 0.8)",
          "bordercolor": "black",
          "borderwidth": 1,
          "font": {
           "size": 10
          },
          "showarrow": false,
          "text": "Source: Trading Economics<br>Original Source: U.S. Bureau of Economic Analysis<br>Frequency: MS<br>",
          "x": 0,
          "xanchor": "left",
          "xref": "paper",
          "y": -0.22,
          "yanchor": "bottom",
          "yref": "paper"
         }
        ],
        "legend": {
         "orientation": "h",
         "title": {
          "text": ""
         },
         "tracegroupgap": 0,
         "x": 0.5,
         "xanchor": "center",
         "y": -0.2,
         "yanchor": "bottom"
        },
        "margin": {
         "t": 60
        },
        "template": {
         "data": {
          "bar": [
           {
            "error_x": {
             "color": "#2a3f5f"
            },
            "error_y": {
             "color": "#2a3f5f"
            },
            "marker": {
             "line": {
              "color": "#E5ECF6",
              "width": 0.5
             },
             "pattern": {
              "fillmode": "overlay",
              "size": 10,
              "solidity": 0.2
             }
            },
            "type": "bar"
           }
          ],
          "barpolar": [
           {
            "marker": {
             "line": {
              "color": "#E5ECF6",
              "width": 0.5
             },
             "pattern": {
              "fillmode": "overlay",
              "size": 10,
              "solidity": 0.2
             }
            },
            "type": "barpolar"
           }
          ],
          "carpet": [
           {
            "aaxis": {
             "endlinecolor": "#2a3f5f",
             "gridcolor": "white",
             "linecolor": "white",
             "minorgridcolor": "white",
             "startlinecolor": "#2a3f5f"
            },
            "baxis": {
             "endlinecolor": "#2a3f5f",
             "gridcolor": "white",
             "linecolor": "white",
             "minorgridcolor": "white",
             "startlinecolor": "#2a3f5f"
            },
            "type": "carpet"
           }
          ],
          "choropleth": [
           {
            "colorbar": {
             "outlinewidth": 0,
             "ticks": ""
            },
            "type": "choropleth"
           }
          ],
          "contour": [
           {
            "colorbar": {
             "outlinewidth": 0,
             "ticks": ""
            },
            "colorscale": [
             [
              0,
              "#0d0887"
             ],
             [
              0.1111111111111111,
              "#46039f"
             ],
             [
              0.2222222222222222,
              "#7201a8"
             ],
             [
              0.3333333333333333,
              "#9c179e"
             ],
             [
              0.4444444444444444,
              "#bd3786"
             ],
             [
              0.5555555555555556,
              "#d8576b"
             ],
             [
              0.6666666666666666,
              "#ed7953"
             ],
             [
              0.7777777777777778,
              "#fb9f3a"
             ],
             [
              0.8888888888888888,
              "#fdca26"
             ],
             [
              1,
              "#f0f921"
             ]
            ],
            "type": "contour"
           }
          ],
          "contourcarpet": [
           {
            "colorbar": {
             "outlinewidth": 0,
             "ticks": ""
            },
            "type": "contourcarpet"
           }
          ],
          "heatmap": [
           {
            "colorbar": {
             "outlinewidth": 0,
             "ticks": ""
            },
            "colorscale": [
             [
              0,
              "#0d0887"
             ],
             [
              0.1111111111111111,
              "#46039f"
             ],
             [
              0.2222222222222222,
              "#7201a8"
             ],
             [
              0.3333333333333333,
              "#9c179e"
             ],
             [
              0.4444444444444444,
              "#bd3786"
             ],
             [
              0.5555555555555556,
              "#d8576b"
             ],
             [
              0.6666666666666666,
              "#ed7953"
             ],
             [
              0.7777777777777778,
              "#fb9f3a"
             ],
             [
              0.8888888888888888,
              "#fdca26"
             ],
             [
              1,
              "#f0f921"
             ]
            ],
            "type": "heatmap"
           }
          ],
          "histogram": [
           {
            "marker": {
             "pattern": {
              "fillmode": "overlay",
              "size": 10,
              "solidity": 0.2
             }
            },
            "type": "histogram"
           }
          ],
          "histogram2d": [
           {
            "colorbar": {
             "outlinewidth": 0,
             "ticks": ""
            },
            "colorscale": [
             [
              0,
              "#0d0887"
             ],
             [
              0.1111111111111111,
              "#46039f"
             ],
             [
              0.2222222222222222,
              "#7201a8"
             ],
             [
              0.3333333333333333,
              "#9c179e"
             ],
             [
              0.4444444444444444,
              "#bd3786"
             ],
             [
              0.5555555555555556,
              "#d8576b"
             ],
             [
              0.6666666666666666,
              "#ed7953"
             ],
             [
              0.7777777777777778,
              "#fb9f3a"
             ],
             [
              0.8888888888888888,
              "#fdca26"
             ],
             [
              1,
              "#f0f921"
             ]
            ],
            "type": "histogram2d"
           }
          ],
          "histogram2dcontour": [
           {
            "colorbar": {
             "outlinewidth": 0,
             "ticks": ""
            },
            "colorscale": [
             [
              0,
              "#0d0887"
             ],
             [
              0.1111111111111111,
              "#46039f"
             ],
             [
              0.2222222222222222,
              "#7201a8"
             ],
             [
              0.3333333333333333,
              "#9c179e"
             ],
             [
              0.4444444444444444,
              "#bd3786"
             ],
             [
              0.5555555555555556,
              "#d8576b"
             ],
             [
              0.6666666666666666,
              "#ed7953"
             ],
             [
              0.7777777777777778,
              "#fb9f3a"
             ],
             [
              0.8888888888888888,
              "#fdca26"
             ],
             [
              1,
              "#f0f921"
             ]
            ],
            "type": "histogram2dcontour"
           }
          ],
          "mesh3d": [
           {
            "colorbar": {
             "outlinewidth": 0,
             "ticks": ""
            },
            "type": "mesh3d"
           }
          ],
          "parcoords": [
           {
            "line": {
             "colorbar": {
              "outlinewidth": 0,
              "ticks": ""
             }
            },
            "type": "parcoords"
           }
          ],
          "pie": [
           {
            "automargin": true,
            "type": "pie"
           }
          ],
          "scatter": [
           {
            "fillpattern": {
             "fillmode": "overlay",
             "size": 10,
             "solidity": 0.2
            },
            "type": "scatter"
           }
          ],
          "scatter3d": [
           {
            "line": {
             "colorbar": {
              "outlinewidth": 0,
              "ticks": ""
             }
            },
            "marker": {
             "colorbar": {
              "outlinewidth": 0,
              "ticks": ""
             }
            },
            "type": "scatter3d"
           }
          ],
          "scattercarpet": [
           {
            "marker": {
             "colorbar": {
              "outlinewidth": 0,
              "ticks": ""
             }
            },
            "type": "scattercarpet"
           }
          ],
          "scattergeo": [
           {
            "marker": {
             "colorbar": {
              "outlinewidth": 0,
              "ticks": ""
             }
            },
            "type": "scattergeo"
           }
          ],
          "scattergl": [
           {
            "marker": {
             "colorbar": {
              "outlinewidth": 0,
              "ticks": ""
             }
            },
            "type": "scattergl"
           }
          ],
          "scattermap": [
           {
            "marker": {
             "colorbar": {
              "outlinewidth": 0,
              "ticks": ""
             }
            },
            "type": "scattermap"
           }
          ],
          "scattermapbox": [
           {
            "marker": {
             "colorbar": {
              "outlinewidth": 0,
              "ticks": ""
             }
            },
            "type": "scattermapbox"
           }
          ],
          "scatterpolar": [
           {
            "marker": {
             "colorbar": {
              "outlinewidth": 0,
              "ticks": ""
             }
            },
            "type": "scatterpolar"
           }
          ],
          "scatterpolargl": [
           {
            "marker": {
             "colorbar": {
              "outlinewidth": 0,
              "ticks": ""
             }
            },
            "type": "scatterpolargl"
           }
          ],
          "scatterternary": [
           {
            "marker": {
             "colorbar": {
              "outlinewidth": 0,
              "ticks": ""
             }
            },
            "type": "scatterternary"
           }
          ],
          "surface": [
           {
            "colorbar": {
             "outlinewidth": 0,
             "ticks": ""
            },
            "colorscale": [
             [
              0,
              "#0d0887"
             ],
             [
              0.1111111111111111,
              "#46039f"
             ],
             [
              0.2222222222222222,
              "#7201a8"
             ],
             [
              0.3333333333333333,
              "#9c179e"
             ],
             [
              0.4444444444444444,
              "#bd3786"
             ],
             [
              0.5555555555555556,
              "#d8576b"
             ],
             [
              0.6666666666666666,
              "#ed7953"
             ],
             [
              0.7777777777777778,
              "#fb9f3a"
             ],
             [
              0.8888888888888888,
              "#fdca26"
             ],
             [
              1,
              "#f0f921"
             ]
            ],
            "type": "surface"
           }
          ],
          "table": [
           {
            "cells": {
             "fill": {
              "color": "#EBF0F8"
             },
             "line": {
              "color": "white"
             }
            },
            "header": {
             "fill": {
              "color": "#C8D4E3"
             },
             "line": {
              "color": "white"
             }
            },
            "type": "table"
           }
          ]
         },
         "layout": {
          "annotationdefaults": {
           "arrowcolor": "#2a3f5f",
           "arrowhead": 0,
           "arrowwidth": 1
          },
          "autotypenumbers": "strict",
          "coloraxis": {
           "colorbar": {
            "outlinewidth": 0,
            "ticks": ""
           }
          },
          "colorscale": {
           "diverging": [
            [
             0,
             "#8e0152"
            ],
            [
             0.1,
             "#c51b7d"
            ],
            [
             0.2,
             "#de77ae"
            ],
            [
             0.3,
             "#f1b6da"
            ],
            [
             0.4,
             "#fde0ef"
            ],
            [
             0.5,
             "#f7f7f7"
            ],
            [
             0.6,
             "#e6f5d0"
            ],
            [
             0.7,
             "#b8e186"
            ],
            [
             0.8,
             "#7fbc41"
            ],
            [
             0.9,
             "#4d9221"
            ],
            [
             1,
             "#276419"
            ]
           ],
           "sequential": [
            [
             0,
             "#0d0887"
            ],
            [
             0.1111111111111111,
             "#46039f"
            ],
            [
             0.2222222222222222,
             "#7201a8"
            ],
            [
             0.3333333333333333,
             "#9c179e"
            ],
            [
             0.4444444444444444,
             "#bd3786"
            ],
            [
             0.5555555555555556,
             "#d8576b"
            ],
            [
             0.6666666666666666,
             "#ed7953"
            ],
            [
             0.7777777777777778,
             "#fb9f3a"
            ],
            [
             0.8888888888888888,
             "#fdca26"
            ],
            [
             1,
             "#f0f921"
            ]
           ],
           "sequentialminus": [
            [
             0,
             "#0d0887"
            ],
            [
             0.1111111111111111,
             "#46039f"
            ],
            [
             0.2222222222222222,
             "#7201a8"
            ],
            [
             0.3333333333333333,
             "#9c179e"
            ],
            [
             0.4444444444444444,
             "#bd3786"
            ],
            [
             0.5555555555555556,
             "#d8576b"
            ],
            [
             0.6666666666666666,
             "#ed7953"
            ],
            [
             0.7777777777777778,
             "#fb9f3a"
            ],
            [
             0.8888888888888888,
             "#fdca26"
            ],
            [
             1,
             "#f0f921"
            ]
           ]
          },
          "colorway": [
           "#636efa",
           "#EF553B",
           "#00cc96",
           "#ab63fa",
           "#FFA15A",
           "#19d3f3",
           "#FF6692",
           "#B6E880",
           "#FF97FF",
           "#FECB52"
          ],
          "font": {
           "color": "#2a3f5f"
          },
          "geo": {
           "bgcolor": "white",
           "lakecolor": "white",
           "landcolor": "#E5ECF6",
           "showlakes": true,
           "showland": true,
           "subunitcolor": "white"
          },
          "hoverlabel": {
           "align": "left"
          },
          "hovermode": "closest",
          "mapbox": {
           "style": "light"
          },
          "paper_bgcolor": "white",
          "plot_bgcolor": "#E5ECF6",
          "polar": {
           "angularaxis": {
            "gridcolor": "white",
            "linecolor": "white",
            "ticks": ""
           },
           "bgcolor": "#E5ECF6",
           "radialaxis": {
            "gridcolor": "white",
            "linecolor": "white",
            "ticks": ""
           }
          },
          "scene": {
           "xaxis": {
            "backgroundcolor": "#E5ECF6",
            "gridcolor": "white",
            "gridwidth": 2,
            "linecolor": "white",
            "showbackground": true,
            "ticks": "",
            "zerolinecolor": "white"
           },
           "yaxis": {
            "backgroundcolor": "#E5ECF6",
            "gridcolor": "white",
            "gridwidth": 2,
            "linecolor": "white",
            "showbackground": true,
            "ticks": "",
            "zerolinecolor": "white"
           },
           "zaxis": {
            "backgroundcolor": "#E5ECF6",
            "gridcolor": "white",
            "gridwidth": 2,
            "linecolor": "white",
            "showbackground": true,
            "ticks": "",
            "zerolinecolor": "white"
           }
          },
          "shapedefaults": {
           "line": {
            "color": "#2a3f5f"
           }
          },
          "ternary": {
           "aaxis": {
            "gridcolor": "white",
            "linecolor": "white",
            "ticks": ""
           },
           "baxis": {
            "gridcolor": "white",
            "linecolor": "white",
            "ticks": ""
           },
           "bgcolor": "#E5ECF6",
           "caxis": {
            "gridcolor": "white",
            "linecolor": "white",
            "ticks": ""
           }
          },
          "title": {
           "x": 0.05
          },
          "xaxis": {
           "automargin": true,
           "gridcolor": "white",
           "linecolor": "white",
           "ticks": "",
           "title": {
            "standoff": 15
           },
           "zerolinecolor": "white",
           "zerolinewidth": 2
          },
          "yaxis": {
           "automargin": true,
           "gridcolor": "white",
           "linecolor": "white",
           "ticks": "",
           "title": {
            "standoff": 15
           },
           "zerolinecolor": "white",
           "zerolinewidth": 2
          }
         }
        },
        "title": {
         "text": "United states: United states personal income"
        },
        "xaxis": {
         "anchor": "y",
         "domain": [
          0,
          1
         ],
         "title": {
          "text": ""
         }
        },
        "yaxis": {
         "anchor": "x",
         "domain": [
          0,
          1
         ],
         "title": {
          "text": "%"
         }
        }
       }
      }
     },
     "metadata": {},
     "output_type": "display_data"
    }
   ],
   "source": [
    "scr.plot_series(ann_box_pos=(0, -0.22))  ## Plot the series."
   ]
  },
  {
   "cell_type": "code",
   "execution_count": 33,
   "metadata": {},
   "outputs": [
    {
     "data": {
      "text/plain": [
       "{'units': '%',\n",
       " 'original_source': 'U.S. Bureau of Economic Analysis',\n",
       " 'title': 'United States Personal Income',\n",
       " 'indicator': 'personal income',\n",
       " 'country': 'united states',\n",
       " 'source': 'Trading Economics',\n",
       " 'id': 'united-states/personal-income',\n",
       " 'description': 'Personal Income refers to the income that persons receive in return for their provision of labor, land, and capital used in current production, plus current transfer receipts less contributions for government social insurance.',\n",
       " 'frequency': 'MS',\n",
       " 'unit_tooltips': '%',\n",
       " 'start_date': '1959-02-01',\n",
       " 'end_date': '2025-01-01',\n",
       " 'min_value': -12.842905405405403,\n",
       " 'max_value': 20.743243243243242,\n",
       " 'length': 792}"
      ]
     },
     "execution_count": 33,
     "metadata": {},
     "output_type": "execute_result"
    }
   ],
   "source": [
    "scr.metadata  ## View the metadata obtained."
   ]
  },
  {
   "cell_type": "code",
   "execution_count": null,
   "metadata": {},
   "outputs": [],
   "source": [
    "scr.save_plot(format=\"html\")  ## Save the plot as an interactive html file."
   ]
  },
  {
   "cell_type": "markdown",
   "metadata": {},
   "source": [
    "### Alternative scraping methods\n",
    "\n",
    "Added in v0.3.0. Get the whole series from the tooltip values using javascript. This may turn out to be the best way to do it yet I expect it will run into issues for data series with many points.This has been implemented into the ```scrape_chart``` method as ```method = \"tooltips\"```."
   ]
  },
  {
   "cell_type": "code",
   "execution_count": 7,
   "metadata": {},
   "outputs": [
    {
     "name": "stderr",
     "output_type": "stream",
     "text": [
      "INFO - Quitting 1 active webdriver instances...\n"
     ]
    },
    {
     "data": {
      "text/plain": [
       "[]"
      ]
     },
     "execution_count": 7,
     "metadata": {},
     "output_type": "execute_result"
    }
   ],
   "source": [
    "ted.find_active_drivers(quit_all=True)  ## Quit all active drivers."
   ]
  },
  {
   "cell_type": "code",
   "execution_count": 8,
   "metadata": {},
   "outputs": [
    {
     "name": "stderr",
     "output_type": "stream",
     "text": [
      "INFO - New firefox webdriver created.\n",
      "INFO - Chart types dictionary created successfully: dict_keys(['Column', 'Spline', 'Areaspline', 'Stepline', 'Line', 'Area'])\n",
      "INFO - Date span set to: 5Y\n"
     ]
    },
    {
     "data": {
      "text/plain": [
       "True"
      ]
     },
     "execution_count": 8,
     "metadata": {},
     "output_type": "execute_result"
    }
   ],
   "source": [
    "scrap = ted.TE_Scraper(use_existing_driver = False, headless = False)  ## Initialize a new TE_scraper object.\n",
    "scrap.load_page('https://tradingeconomics.com/australia/gdp')"
   ]
  },
  {
   "cell_type": "code",
   "execution_count": 9,
   "metadata": {},
   "outputs": [
    {
     "name": "stderr",
     "output_type": "stream",
     "text": [
      "INFO - \n",
      "Series metadata: \n",
      " {'units': 'USD Billion', 'original_source': 'World Bank', 'title': 'Australia GDP', 'indicator': 'gdp', 'country': 'australia', 'source': 'Trading Economics', 'id': 'australia/gdp'}\n"
     ]
    }
   ],
   "source": [
    "scrap.scrape_metadata()  ## Scrape the metadata for the data series from the page."
   ]
  },
  {
   "cell_type": "markdown",
   "metadata": {},
   "source": [
    "We are using the same ```latest_points_js``` method that is used to get some of the latest data points in order to determine the series frequency. However here we let it keep going and get all of the data points from the date and values that show up on the tooltips as the cursor is dragged across the chart."
   ]
  },
  {
   "cell_type": "code",
   "execution_count": 10,
   "metadata": {},
   "outputs": [
    {
     "name": "stdout",
     "output_type": "stream",
     "text": [
      "Setting max date span using calendar...\n"
     ]
    },
    {
     "name": "stderr",
     "output_type": "stream",
     "text": [
      "INFO - Button not found or not clickable: .splineChart .dkLabels-label-btn\n",
      "INFO - Chart type set to: Spline\n",
      "INFO - TooltipScraper object initialised successfully.\n",
      "INFO - Chart type set to: Spline\n",
      "INFO - Time taken to select chart type: 2.7574648020090535\n",
      "INFO - Time taken to execute JS code: 4.29066789400531\n",
      "INFO - Successfully scraped full series from tooltips.\n"
     ]
    },
    {
     "data": {
      "text/plain": [
       "1961-01-01      19.68\n",
       "1962-01-01      19.92\n",
       "1963-01-01      21.54\n",
       "1964-01-01      23.80\n",
       "1965-01-01      25.98\n",
       "               ...   \n",
       "2020-01-01    1330.00\n",
       "2021-01-01    1560.00\n",
       "2022-01-01    1690.00\n",
       "2023-01-01    1730.00\n",
       "2024-01-01    1750.00\n",
       "Name: Australia GDP, Length: 64, dtype: float64"
      ]
     },
     "execution_count": 10,
     "metadata": {},
     "output_type": "execute_result"
    }
   ],
   "source": [
    "scrap.full_series_fromTooltips(set_max_datespan=True)  ## Get the full series from the tooltips on the chart.\n",
    "scrap.series"
   ]
  },
  {
   "cell_type": "code",
   "execution_count": 11,
   "metadata": {},
   "outputs": [
    {
     "data": {
      "application/vnd.plotly.v1+json": {
       "config": {
        "plotlyServerURL": "https://plot.ly"
       },
       "data": [
        {
         "hovertemplate": "variable=Australia GDP<br>index=%{x}<br>value=%{y}<extra></extra>",
         "legendgroup": "Australia GDP",
         "line": {
          "color": "#636efa",
          "dash": "solid"
         },
         "marker": {
          "symbol": "circle"
         },
         "mode": "lines",
         "name": "Australia GDP",
         "orientation": "v",
         "showlegend": true,
         "type": "scatter",
         "x": [
          "1961-01-01T00:00:00.000000000",
          "1962-01-01T00:00:00.000000000",
          "1963-01-01T00:00:00.000000000",
          "1964-01-01T00:00:00.000000000",
          "1965-01-01T00:00:00.000000000",
          "1966-01-01T00:00:00.000000000",
          "1967-01-01T00:00:00.000000000",
          "1968-01-01T00:00:00.000000000",
          "1969-01-01T00:00:00.000000000",
          "1970-01-01T00:00:00.000000000",
          "1971-01-01T00:00:00.000000000",
          "1972-01-01T00:00:00.000000000",
          "1973-01-01T00:00:00.000000000",
          "1974-01-01T00:00:00.000000000",
          "1975-01-01T00:00:00.000000000",
          "1976-01-01T00:00:00.000000000",
          "1977-01-01T00:00:00.000000000",
          "1978-01-01T00:00:00.000000000",
          "1979-01-01T00:00:00.000000000",
          "1980-01-01T00:00:00.000000000",
          "1981-01-01T00:00:00.000000000",
          "1982-01-01T00:00:00.000000000",
          "1983-01-01T00:00:00.000000000",
          "1984-01-01T00:00:00.000000000",
          "1985-01-01T00:00:00.000000000",
          "1986-01-01T00:00:00.000000000",
          "1987-01-01T00:00:00.000000000",
          "1988-01-01T00:00:00.000000000",
          "1989-01-01T00:00:00.000000000",
          "1990-01-01T00:00:00.000000000",
          "1991-01-01T00:00:00.000000000",
          "1992-01-01T00:00:00.000000000",
          "1993-01-01T00:00:00.000000000",
          "1994-01-01T00:00:00.000000000",
          "1995-01-01T00:00:00.000000000",
          "1996-01-01T00:00:00.000000000",
          "1997-01-01T00:00:00.000000000",
          "1998-01-01T00:00:00.000000000",
          "1999-01-01T00:00:00.000000000",
          "2000-01-01T00:00:00.000000000",
          "2001-01-01T00:00:00.000000000",
          "2002-01-01T00:00:00.000000000",
          "2003-01-01T00:00:00.000000000",
          "2004-01-01T00:00:00.000000000",
          "2005-01-01T00:00:00.000000000",
          "2006-01-01T00:00:00.000000000",
          "2007-01-01T00:00:00.000000000",
          "2008-01-01T00:00:00.000000000",
          "2009-01-01T00:00:00.000000000",
          "2010-01-01T00:00:00.000000000",
          "2011-01-01T00:00:00.000000000",
          "2012-01-01T00:00:00.000000000",
          "2013-01-01T00:00:00.000000000",
          "2014-01-01T00:00:00.000000000",
          "2015-01-01T00:00:00.000000000",
          "2016-01-01T00:00:00.000000000",
          "2017-01-01T00:00:00.000000000",
          "2018-01-01T00:00:00.000000000",
          "2019-01-01T00:00:00.000000000",
          "2020-01-01T00:00:00.000000000",
          "2021-01-01T00:00:00.000000000",
          "2022-01-01T00:00:00.000000000",
          "2023-01-01T00:00:00.000000000",
          "2024-01-01T00:00:00.000000000"
         ],
         "xaxis": "x",
         "y": {
          "bdata": "rkfhehSuM0DsUbgeheszQArXo3A9ijVAzczMzMzMN0B7FK5H4fo5QI/C9ShcTztAcT0K16NwPkB7FK5H4VpAQNejcD0KV0JACtejcD2qREBcj8L1KJxGQIXrUbgeBUpACtejcD3qT0A9CtejcD1WQDMzMzMzU1hApHA9CtdDWkBmZmZmZpZbQI/C9Shcn11AzczMzMzcYEBI4XoUrr9iQBSuR+F6HGZA4XoUrkdBaEBxPQrXoyhmQHE9CtejMGhAFK5H4XqUZkCPwvUoXM9mQEjhehSur2dAzczMzMyEbUBSuB6F671yQB+F61G4dnNA7FG4HoVfdEC4HoXrUVh0QK5H4XoUgnNAzczMzMwsdEAfhetRuAJ3QD0K16NwFXlACtejcD06e0AfhetRuPp4QGZmZmZmWnhAH4XrUbgCekCuR+F6FLp3QHE9CtejvHhApHA9Ctc7fUDhehSuRzWDQOxRuB6FvYVAj8L1KFxjh0CuR+F6FLiKQAAAAAAAkJBArkfhehQGjUAAAAAAAPiRQAAAAAAA4JVAAAAAAAA4mEAAAAAAALCYQAAAAAAA+JZAAAAAAAAYlUAAAAAAAOiSQAAAAAAAyJRAAAAAAABYlkAAAAAAALiVQAAAAAAAyJRAAAAAAABgmEAAAAAAAGiaQAAAAAAACJtAAAAAAABYm0A=",
          "dtype": "f8"
         },
         "yaxis": "y"
        }
       ],
       "layout": {
        "annotations": [
         {
          "align": "left",
          "bgcolor": "rgba(255, 255, 255, 0.8)",
          "bordercolor": "black",
          "borderwidth": 1,
          "font": {
           "size": 10
          },
          "showarrow": false,
          "text": "Source: Trading Economics<br>Original Source: World Bank<br>Frequency: YS-JAN<br>",
          "x": 0,
          "xanchor": "left",
          "xref": "paper",
          "y": -0.22,
          "yanchor": "bottom",
          "yref": "paper"
         }
        ],
        "legend": {
         "orientation": "h",
         "title": {
          "text": ""
         },
         "tracegroupgap": 0,
         "x": 0.5,
         "xanchor": "center",
         "y": -0.2,
         "yanchor": "bottom"
        },
        "margin": {
         "t": 60
        },
        "template": {
         "data": {
          "bar": [
           {
            "error_x": {
             "color": "#2a3f5f"
            },
            "error_y": {
             "color": "#2a3f5f"
            },
            "marker": {
             "line": {
              "color": "#E5ECF6",
              "width": 0.5
             },
             "pattern": {
              "fillmode": "overlay",
              "size": 10,
              "solidity": 0.2
             }
            },
            "type": "bar"
           }
          ],
          "barpolar": [
           {
            "marker": {
             "line": {
              "color": "#E5ECF6",
              "width": 0.5
             },
             "pattern": {
              "fillmode": "overlay",
              "size": 10,
              "solidity": 0.2
             }
            },
            "type": "barpolar"
           }
          ],
          "carpet": [
           {
            "aaxis": {
             "endlinecolor": "#2a3f5f",
             "gridcolor": "white",
             "linecolor": "white",
             "minorgridcolor": "white",
             "startlinecolor": "#2a3f5f"
            },
            "baxis": {
             "endlinecolor": "#2a3f5f",
             "gridcolor": "white",
             "linecolor": "white",
             "minorgridcolor": "white",
             "startlinecolor": "#2a3f5f"
            },
            "type": "carpet"
           }
          ],
          "choropleth": [
           {
            "colorbar": {
             "outlinewidth": 0,
             "ticks": ""
            },
            "type": "choropleth"
           }
          ],
          "contour": [
           {
            "colorbar": {
             "outlinewidth": 0,
             "ticks": ""
            },
            "colorscale": [
             [
              0,
              "#0d0887"
             ],
             [
              0.1111111111111111,
              "#46039f"
             ],
             [
              0.2222222222222222,
              "#7201a8"
             ],
             [
              0.3333333333333333,
              "#9c179e"
             ],
             [
              0.4444444444444444,
              "#bd3786"
             ],
             [
              0.5555555555555556,
              "#d8576b"
             ],
             [
              0.6666666666666666,
              "#ed7953"
             ],
             [
              0.7777777777777778,
              "#fb9f3a"
             ],
             [
              0.8888888888888888,
              "#fdca26"
             ],
             [
              1,
              "#f0f921"
             ]
            ],
            "type": "contour"
           }
          ],
          "contourcarpet": [
           {
            "colorbar": {
             "outlinewidth": 0,
             "ticks": ""
            },
            "type": "contourcarpet"
           }
          ],
          "heatmap": [
           {
            "colorbar": {
             "outlinewidth": 0,
             "ticks": ""
            },
            "colorscale": [
             [
              0,
              "#0d0887"
             ],
             [
              0.1111111111111111,
              "#46039f"
             ],
             [
              0.2222222222222222,
              "#7201a8"
             ],
             [
              0.3333333333333333,
              "#9c179e"
             ],
             [
              0.4444444444444444,
              "#bd3786"
             ],
             [
              0.5555555555555556,
              "#d8576b"
             ],
             [
              0.6666666666666666,
              "#ed7953"
             ],
             [
              0.7777777777777778,
              "#fb9f3a"
             ],
             [
              0.8888888888888888,
              "#fdca26"
             ],
             [
              1,
              "#f0f921"
             ]
            ],
            "type": "heatmap"
           }
          ],
          "histogram": [
           {
            "marker": {
             "pattern": {
              "fillmode": "overlay",
              "size": 10,
              "solidity": 0.2
             }
            },
            "type": "histogram"
           }
          ],
          "histogram2d": [
           {
            "colorbar": {
             "outlinewidth": 0,
             "ticks": ""
            },
            "colorscale": [
             [
              0,
              "#0d0887"
             ],
             [
              0.1111111111111111,
              "#46039f"
             ],
             [
              0.2222222222222222,
              "#7201a8"
             ],
             [
              0.3333333333333333,
              "#9c179e"
             ],
             [
              0.4444444444444444,
              "#bd3786"
             ],
             [
              0.5555555555555556,
              "#d8576b"
             ],
             [
              0.6666666666666666,
              "#ed7953"
             ],
             [
              0.7777777777777778,
              "#fb9f3a"
             ],
             [
              0.8888888888888888,
              "#fdca26"
             ],
             [
              1,
              "#f0f921"
             ]
            ],
            "type": "histogram2d"
           }
          ],
          "histogram2dcontour": [
           {
            "colorbar": {
             "outlinewidth": 0,
             "ticks": ""
            },
            "colorscale": [
             [
              0,
              "#0d0887"
             ],
             [
              0.1111111111111111,
              "#46039f"
             ],
             [
              0.2222222222222222,
              "#7201a8"
             ],
             [
              0.3333333333333333,
              "#9c179e"
             ],
             [
              0.4444444444444444,
              "#bd3786"
             ],
             [
              0.5555555555555556,
              "#d8576b"
             ],
             [
              0.6666666666666666,
              "#ed7953"
             ],
             [
              0.7777777777777778,
              "#fb9f3a"
             ],
             [
              0.8888888888888888,
              "#fdca26"
             ],
             [
              1,
              "#f0f921"
             ]
            ],
            "type": "histogram2dcontour"
           }
          ],
          "mesh3d": [
           {
            "colorbar": {
             "outlinewidth": 0,
             "ticks": ""
            },
            "type": "mesh3d"
           }
          ],
          "parcoords": [
           {
            "line": {
             "colorbar": {
              "outlinewidth": 0,
              "ticks": ""
             }
            },
            "type": "parcoords"
           }
          ],
          "pie": [
           {
            "automargin": true,
            "type": "pie"
           }
          ],
          "scatter": [
           {
            "fillpattern": {
             "fillmode": "overlay",
             "size": 10,
             "solidity": 0.2
            },
            "type": "scatter"
           }
          ],
          "scatter3d": [
           {
            "line": {
             "colorbar": {
              "outlinewidth": 0,
              "ticks": ""
             }
            },
            "marker": {
             "colorbar": {
              "outlinewidth": 0,
              "ticks": ""
             }
            },
            "type": "scatter3d"
           }
          ],
          "scattercarpet": [
           {
            "marker": {
             "colorbar": {
              "outlinewidth": 0,
              "ticks": ""
             }
            },
            "type": "scattercarpet"
           }
          ],
          "scattergeo": [
           {
            "marker": {
             "colorbar": {
              "outlinewidth": 0,
              "ticks": ""
             }
            },
            "type": "scattergeo"
           }
          ],
          "scattergl": [
           {
            "marker": {
             "colorbar": {
              "outlinewidth": 0,
              "ticks": ""
             }
            },
            "type": "scattergl"
           }
          ],
          "scattermap": [
           {
            "marker": {
             "colorbar": {
              "outlinewidth": 0,
              "ticks": ""
             }
            },
            "type": "scattermap"
           }
          ],
          "scattermapbox": [
           {
            "marker": {
             "colorbar": {
              "outlinewidth": 0,
              "ticks": ""
             }
            },
            "type": "scattermapbox"
           }
          ],
          "scatterpolar": [
           {
            "marker": {
             "colorbar": {
              "outlinewidth": 0,
              "ticks": ""
             }
            },
            "type": "scatterpolar"
           }
          ],
          "scatterpolargl": [
           {
            "marker": {
             "colorbar": {
              "outlinewidth": 0,
              "ticks": ""
             }
            },
            "type": "scatterpolargl"
           }
          ],
          "scatterternary": [
           {
            "marker": {
             "colorbar": {
              "outlinewidth": 0,
              "ticks": ""
             }
            },
            "type": "scatterternary"
           }
          ],
          "surface": [
           {
            "colorbar": {
             "outlinewidth": 0,
             "ticks": ""
            },
            "colorscale": [
             [
              0,
              "#0d0887"
             ],
             [
              0.1111111111111111,
              "#46039f"
             ],
             [
              0.2222222222222222,
              "#7201a8"
             ],
             [
              0.3333333333333333,
              "#9c179e"
             ],
             [
              0.4444444444444444,
              "#bd3786"
             ],
             [
              0.5555555555555556,
              "#d8576b"
             ],
             [
              0.6666666666666666,
              "#ed7953"
             ],
             [
              0.7777777777777778,
              "#fb9f3a"
             ],
             [
              0.8888888888888888,
              "#fdca26"
             ],
             [
              1,
              "#f0f921"
             ]
            ],
            "type": "surface"
           }
          ],
          "table": [
           {
            "cells": {
             "fill": {
              "color": "#EBF0F8"
             },
             "line": {
              "color": "white"
             }
            },
            "header": {
             "fill": {
              "color": "#C8D4E3"
             },
             "line": {
              "color": "white"
             }
            },
            "type": "table"
           }
          ]
         },
         "layout": {
          "annotationdefaults": {
           "arrowcolor": "#2a3f5f",
           "arrowhead": 0,
           "arrowwidth": 1
          },
          "autotypenumbers": "strict",
          "coloraxis": {
           "colorbar": {
            "outlinewidth": 0,
            "ticks": ""
           }
          },
          "colorscale": {
           "diverging": [
            [
             0,
             "#8e0152"
            ],
            [
             0.1,
             "#c51b7d"
            ],
            [
             0.2,
             "#de77ae"
            ],
            [
             0.3,
             "#f1b6da"
            ],
            [
             0.4,
             "#fde0ef"
            ],
            [
             0.5,
             "#f7f7f7"
            ],
            [
             0.6,
             "#e6f5d0"
            ],
            [
             0.7,
             "#b8e186"
            ],
            [
             0.8,
             "#7fbc41"
            ],
            [
             0.9,
             "#4d9221"
            ],
            [
             1,
             "#276419"
            ]
           ],
           "sequential": [
            [
             0,
             "#0d0887"
            ],
            [
             0.1111111111111111,
             "#46039f"
            ],
            [
             0.2222222222222222,
             "#7201a8"
            ],
            [
             0.3333333333333333,
             "#9c179e"
            ],
            [
             0.4444444444444444,
             "#bd3786"
            ],
            [
             0.5555555555555556,
             "#d8576b"
            ],
            [
             0.6666666666666666,
             "#ed7953"
            ],
            [
             0.7777777777777778,
             "#fb9f3a"
            ],
            [
             0.8888888888888888,
             "#fdca26"
            ],
            [
             1,
             "#f0f921"
            ]
           ],
           "sequentialminus": [
            [
             0,
             "#0d0887"
            ],
            [
             0.1111111111111111,
             "#46039f"
            ],
            [
             0.2222222222222222,
             "#7201a8"
            ],
            [
             0.3333333333333333,
             "#9c179e"
            ],
            [
             0.4444444444444444,
             "#bd3786"
            ],
            [
             0.5555555555555556,
             "#d8576b"
            ],
            [
             0.6666666666666666,
             "#ed7953"
            ],
            [
             0.7777777777777778,
             "#fb9f3a"
            ],
            [
             0.8888888888888888,
             "#fdca26"
            ],
            [
             1,
             "#f0f921"
            ]
           ]
          },
          "colorway": [
           "#636efa",
           "#EF553B",
           "#00cc96",
           "#ab63fa",
           "#FFA15A",
           "#19d3f3",
           "#FF6692",
           "#B6E880",
           "#FF97FF",
           "#FECB52"
          ],
          "font": {
           "color": "#2a3f5f"
          },
          "geo": {
           "bgcolor": "white",
           "lakecolor": "white",
           "landcolor": "#E5ECF6",
           "showlakes": true,
           "showland": true,
           "subunitcolor": "white"
          },
          "hoverlabel": {
           "align": "left"
          },
          "hovermode": "closest",
          "mapbox": {
           "style": "light"
          },
          "paper_bgcolor": "white",
          "plot_bgcolor": "#E5ECF6",
          "polar": {
           "angularaxis": {
            "gridcolor": "white",
            "linecolor": "white",
            "ticks": ""
           },
           "bgcolor": "#E5ECF6",
           "radialaxis": {
            "gridcolor": "white",
            "linecolor": "white",
            "ticks": ""
           }
          },
          "scene": {
           "xaxis": {
            "backgroundcolor": "#E5ECF6",
            "gridcolor": "white",
            "gridwidth": 2,
            "linecolor": "white",
            "showbackground": true,
            "ticks": "",
            "zerolinecolor": "white"
           },
           "yaxis": {
            "backgroundcolor": "#E5ECF6",
            "gridcolor": "white",
            "gridwidth": 2,
            "linecolor": "white",
            "showbackground": true,
            "ticks": "",
            "zerolinecolor": "white"
           },
           "zaxis": {
            "backgroundcolor": "#E5ECF6",
            "gridcolor": "white",
            "gridwidth": 2,
            "linecolor": "white",
            "showbackground": true,
            "ticks": "",
            "zerolinecolor": "white"
           }
          },
          "shapedefaults": {
           "line": {
            "color": "#2a3f5f"
           }
          },
          "ternary": {
           "aaxis": {
            "gridcolor": "white",
            "linecolor": "white",
            "ticks": ""
           },
           "baxis": {
            "gridcolor": "white",
            "linecolor": "white",
            "ticks": ""
           },
           "bgcolor": "#E5ECF6",
           "caxis": {
            "gridcolor": "white",
            "linecolor": "white",
            "ticks": ""
           }
          },
          "title": {
           "x": 0.05
          },
          "xaxis": {
           "automargin": true,
           "gridcolor": "white",
           "linecolor": "white",
           "ticks": "",
           "title": {
            "standoff": 15
           },
           "zerolinecolor": "white",
           "zerolinewidth": 2
          },
          "yaxis": {
           "automargin": true,
           "gridcolor": "white",
           "linecolor": "white",
           "ticks": "",
           "title": {
            "standoff": 15
           },
           "zerolinecolor": "white",
           "zerolinewidth": 2
          }
         }
        },
        "title": {
         "text": "Australia: Australia gdp"
        },
        "xaxis": {
         "anchor": "y",
         "domain": [
          0,
          1
         ],
         "title": {
          "text": ""
         }
        },
        "yaxis": {
         "anchor": "x",
         "domain": [
          0,
          1
         ],
         "title": {
          "text": "Usd billion"
         }
        }
       }
      }
     },
     "metadata": {},
     "output_type": "display_data"
    }
   ],
   "source": [
    "scrap.plot_series(ann_box_pos=(0, -0.22))  ## Plot the series specifying ths series as the on to plot rather than the series attribute of the TE_Scraper."
   ]
  },
  {
   "cell_type": "markdown",
   "metadata": {},
   "source": [
    "- The alternative method has now been implemented as an option in ```scrape_chart``` function. Use method = \"tooltips\" to use it. Take care as it will miss some points if the history is long and the total datapoints are many. This does indeed miss some datapoints if there are many. \n",
    "- If points have been missed you will see frequency: \"Unknown/irregular\". \n",
    "- A new method \"mixed\" has now been implemented which is the slowest of all yet manages to capture all points from the tooltips using multiple runs at it. That should be the highest accuracy method. \n",
    "- **Note:** *Some series on Trading Economics only show dates in the tooltips and not values, these methods will not work for those series. Use \"path\" instead.*"
   ]
  },
  {
   "cell_type": "markdown",
   "metadata": {},
   "source": [
    "## Get series from tooltips in a single line"
   ]
  },
  {
   "cell_type": "code",
   "execution_count": 13,
   "metadata": {},
   "outputs": [
    {
     "name": "stderr",
     "output_type": "stream",
     "text": [
      "INFO - New firefox webdriver created.\n",
      "INFO - scrape_chart function: Scraping chart at: https://tradingeconomics.com/euro-area/gdp-growth-annual, time: 2025-03-11 14:59:27.113243, method: tooltips\n",
      "INFO - Chart types dictionary created successfully: dict_keys(['Column', 'Spline', 'Areaspline', 'Stepline', 'Line', 'Area'])\n",
      "INFO - Date span set to: 3Y\n",
      "INFO - \n",
      "Series metadata: \n",
      " {'units': '%', 'original_source': 'EUROSTAT', 'title': 'Euro Area GDP Annual Growth Rate', 'indicator': 'gdp growth annual', 'country': 'euro area', 'source': 'Trading Economics', 'id': 'euro-area/gdp-growth-annual'}\n",
      "INFO - TooltipScraper object initialised successfully.\n",
      "INFO - Button not found or not clickable: #chart.chart_module.chart1.undertaker-section div.chart_preview.undertaker_chart.logic-new-charts-no div.hawk-totalWrapper div.hawk-header          div.topnav-flex-container div.pickChartTypes div.PREselectedChartType div.chartTypesWrapper.dropDownStyle div.splineChart button.dkLabels-label-btn\n",
      "INFO - Error selecting chart type: Spline\n",
      "INFO - Chart type set to: Spline (using JavaScript)\n",
      "INFO - Time taken to select chart type: 0.6552607999183238\n",
      "INFO - Time taken to execute JS code: 10.33614889997989\n",
      "INFO - Successfully scraped full series from tooltips.\n",
      "INFO - Successfully scraped full series from tooltips.\n"
     ]
    }
   ],
   "source": [
    "scro = ted.scrape_chart(country=\"euro-area\", id = \"gdp-growth-annual\", method = \"tooltips\", use_existing_driver=False, headless=False) ## Using chart id from the url only, country is \"united-states\" by default."
   ]
  },
  {
   "cell_type": "code",
   "execution_count": 14,
   "metadata": {},
   "outputs": [
    {
     "data": {
      "application/vnd.plotly.v1+json": {
       "config": {
        "plotlyServerURL": "https://plot.ly"
       },
       "data": [
        {
         "hovertemplate": "variable=Euro Area GDP Annual Growth Rate<br>index=%{x}<br>value=%{y}<extra></extra>",
         "legendgroup": "Euro Area GDP Annual Growth Rate",
         "line": {
          "color": "#636efa",
          "dash": "solid"
         },
         "marker": {
          "symbol": "circle"
         },
         "mode": "lines",
         "name": "Euro Area GDP Annual Growth Rate",
         "orientation": "v",
         "showlegend": true,
         "type": "scatter",
         "x": [
          "1995-01-01T00:00:00.000000000",
          "1995-04-01T00:00:00.000000000",
          "1995-07-01T00:00:00.000000000",
          "1995-10-01T00:00:00.000000000",
          "1996-01-01T00:00:00.000000000",
          "1996-04-01T00:00:00.000000000",
          "1996-07-01T00:00:00.000000000",
          "1996-10-01T00:00:00.000000000",
          "1997-01-01T00:00:00.000000000",
          "1997-04-01T00:00:00.000000000",
          "1997-07-01T00:00:00.000000000",
          "1997-10-01T00:00:00.000000000",
          "1998-01-01T00:00:00.000000000",
          "1998-04-01T00:00:00.000000000",
          "1998-07-01T00:00:00.000000000",
          "1998-10-01T00:00:00.000000000",
          "1999-01-01T00:00:00.000000000",
          "1999-04-01T00:00:00.000000000",
          "1999-07-01T00:00:00.000000000",
          "1999-10-01T00:00:00.000000000",
          "2000-01-01T00:00:00.000000000",
          "2000-04-01T00:00:00.000000000",
          "2000-07-01T00:00:00.000000000",
          "2000-10-01T00:00:00.000000000",
          "2001-01-01T00:00:00.000000000",
          "2001-04-01T00:00:00.000000000",
          "2001-07-01T00:00:00.000000000",
          "2001-10-01T00:00:00.000000000",
          "2002-01-01T00:00:00.000000000",
          "2002-04-01T00:00:00.000000000",
          "2002-07-01T00:00:00.000000000",
          "2002-10-01T00:00:00.000000000",
          "2003-01-01T00:00:00.000000000",
          "2003-04-01T00:00:00.000000000",
          "2003-07-01T00:00:00.000000000",
          "2003-10-01T00:00:00.000000000",
          "2004-01-01T00:00:00.000000000",
          "2004-04-01T00:00:00.000000000",
          "2004-07-01T00:00:00.000000000",
          "2004-10-01T00:00:00.000000000",
          "2005-01-01T00:00:00.000000000",
          "2005-04-01T00:00:00.000000000",
          "2005-07-01T00:00:00.000000000",
          "2005-10-01T00:00:00.000000000",
          "2006-01-01T00:00:00.000000000",
          "2006-04-01T00:00:00.000000000",
          "2006-07-01T00:00:00.000000000",
          "2006-10-01T00:00:00.000000000",
          "2007-01-01T00:00:00.000000000",
          "2007-04-01T00:00:00.000000000",
          "2007-07-01T00:00:00.000000000",
          "2007-10-01T00:00:00.000000000",
          "2008-01-01T00:00:00.000000000",
          "2008-04-01T00:00:00.000000000",
          "2008-07-01T00:00:00.000000000",
          "2008-10-01T00:00:00.000000000",
          "2009-01-01T00:00:00.000000000",
          "2009-04-01T00:00:00.000000000",
          "2009-07-01T00:00:00.000000000",
          "2009-10-01T00:00:00.000000000",
          "2010-01-01T00:00:00.000000000",
          "2010-04-01T00:00:00.000000000",
          "2010-07-01T00:00:00.000000000",
          "2010-10-01T00:00:00.000000000",
          "2011-01-01T00:00:00.000000000",
          "2011-04-01T00:00:00.000000000",
          "2011-07-01T00:00:00.000000000",
          "2011-10-01T00:00:00.000000000",
          "2012-01-01T00:00:00.000000000",
          "2012-04-01T00:00:00.000000000",
          "2012-07-01T00:00:00.000000000",
          "2012-10-01T00:00:00.000000000",
          "2013-01-01T00:00:00.000000000",
          "2013-04-01T00:00:00.000000000",
          "2013-07-01T00:00:00.000000000",
          "2013-10-01T00:00:00.000000000",
          "2014-01-01T00:00:00.000000000",
          "2014-04-01T00:00:00.000000000",
          "2014-07-01T00:00:00.000000000",
          "2014-10-01T00:00:00.000000000",
          "2015-01-01T00:00:00.000000000",
          "2015-04-01T00:00:00.000000000",
          "2015-07-01T00:00:00.000000000",
          "2015-10-01T00:00:00.000000000",
          "2016-01-01T00:00:00.000000000",
          "2016-04-01T00:00:00.000000000",
          "2016-07-01T00:00:00.000000000",
          "2016-10-01T00:00:00.000000000",
          "2017-01-01T00:00:00.000000000",
          "2017-04-01T00:00:00.000000000",
          "2017-07-01T00:00:00.000000000",
          "2017-10-01T00:00:00.000000000",
          "2018-01-01T00:00:00.000000000",
          "2018-04-01T00:00:00.000000000",
          "2018-07-01T00:00:00.000000000",
          "2018-10-01T00:00:00.000000000",
          "2019-01-01T00:00:00.000000000",
          "2019-04-01T00:00:00.000000000",
          "2019-07-01T00:00:00.000000000",
          "2019-10-01T00:00:00.000000000",
          "2020-01-01T00:00:00.000000000",
          "2020-04-01T00:00:00.000000000",
          "2020-07-01T00:00:00.000000000",
          "2020-10-01T00:00:00.000000000",
          "2021-01-01T00:00:00.000000000",
          "2021-04-01T00:00:00.000000000",
          "2021-07-01T00:00:00.000000000",
          "2021-10-01T00:00:00.000000000",
          "2022-01-01T00:00:00.000000000",
          "2022-04-01T00:00:00.000000000",
          "2022-07-01T00:00:00.000000000",
          "2022-10-01T00:00:00.000000000",
          "2023-01-01T00:00:00.000000000",
          "2023-04-01T00:00:00.000000000",
          "2023-07-01T00:00:00.000000000",
          "2023-10-01T00:00:00.000000000",
          "2024-01-01T00:00:00.000000000",
          "2024-04-01T00:00:00.000000000",
          "2024-07-01T00:00:00.000000000",
          "2024-10-01T00:00:00.000000000"
         ],
         "xaxis": "x",
         "y": {
          "bdata": "AAAAAAAAFECamZmZmZkTQJqZmZmZmRFAZmZmZmZmDkBmZmZmZmb2P2ZmZmZmZvY/mpmZmZmZ+T8AAAAAAAAAQM3MzMzMzABAAAAAAAAABEBmZmZmZmYGQGZmZmZmZgpAmpmZmZmZDUAzMzMzMzMHQJqZmZmZmQVAZmZmZmZm/j9mZmZmZmYCQGZmZmZmZgJAmpmZmZmZCUAAAAAAAAAQQM3MzMzMzBBAzczMzMzMEkAAAAAAAAAQQGZmZmZmZgpAmpmZmZmZCUBmZmZmZmYCQM3MzMzMzPw/zczMzMzM9D+amZmZmZnZP5qZmZmZmek/AAAAAAAA8D/NzMzMzMz0P5qZmZmZmek/MzMzMzMz0z8AAAAAAADgPwAAAAAAAPA/zczMzMzM/D8zMzMzMzMDQAAAAAAAAABAzczMzMzM/D8AAAAAAAD4PwAAAAAAAPg/AAAAAAAAAEBmZmZmZmYCQAAAAAAAAAhAAAAAAAAADEBmZmZmZmYKQJqZmZmZmQ1AAAAAAAAADEAAAAAAAAAIQDMzMzMzMwdAmpmZmZmZAUCamZmZmZkBQAAAAAAAAPA/mpmZmZmZuT/NzMzMzMwAwGZmZmZmZhbAZmZmZmZmFMAzMzMzMzMRwJqZmZmZmQHAzczMzMzM9D+amZmZmZkBQJqZmZmZmQFAMzMzMzMzA0AzMzMzMzMHQAAAAAAAAABAmpmZmZmZ+T9mZmZmZmbmPwAAAAAAAOC/zczMzMzM7L+amZmZmZnxvzMzMzMzM/O/zczMzMzM9L8zMzMzMzPTv5qZmZmZmck/zczMzMzM7D8zMzMzMzP7PzMzMzMzM/M/ZmZmZmZm9j8AAAAAAAD4P2ZmZmZmZv4/zczMzMzMAEAAAAAAAAAAQM3MzMzMzABAZmZmZmZm/j+amZmZmZn5PzMzMzMzM/s/ZmZmZmZm/j+amZmZmZkBQJqZmZmZmQVAAAAAAAAACEDNzMzMzMwIQGZmZmZmZgJAzczMzMzMAEBmZmZmZmb2PzMzMzMzM/M/zczMzMzM/D8zMzMzMzP7P83MzMzMzPw/MzMzMzMz8z9mZmZmZmYGwM3MzMzMzCvAZmZmZmZmEMBmZmZmZmYOwJqZmZmZmck/mpmZmZmZLkAAAAAAAAAUQGZmZmZmZhZAAAAAAAAAFkBmZmZmZmYQQDMzMzMzMwdAZmZmZmZm/j9mZmZmZmb2PzMzMzMzM+M/AAAAAAAAAACamZmZmZnJPwAAAAAAAOA/AAAAAAAA4D8AAAAAAADwPzMzMzMzM/M/",
          "dtype": "f8"
         },
         "yaxis": "y"
        }
       ],
       "layout": {
        "annotations": [
         {
          "align": "left",
          "bgcolor": "rgba(255, 255, 255, 0.8)",
          "bordercolor": "black",
          "borderwidth": 1,
          "font": {
           "size": 10
          },
          "showarrow": false,
          "text": "Source: Trading Economics<br>Original Source: EUROSTAT<br>Frequency: QS-OCT<br>",
          "x": 0,
          "xanchor": "left",
          "xref": "paper",
          "y": -0.2,
          "yanchor": "bottom",
          "yref": "paper"
         }
        ],
        "legend": {
         "orientation": "h",
         "title": {
          "text": ""
         },
         "tracegroupgap": 0,
         "x": 0.5,
         "xanchor": "center",
         "y": -0.2,
         "yanchor": "bottom"
        },
        "margin": {
         "t": 60
        },
        "template": {
         "data": {
          "bar": [
           {
            "error_x": {
             "color": "#2a3f5f"
            },
            "error_y": {
             "color": "#2a3f5f"
            },
            "marker": {
             "line": {
              "color": "#E5ECF6",
              "width": 0.5
             },
             "pattern": {
              "fillmode": "overlay",
              "size": 10,
              "solidity": 0.2
             }
            },
            "type": "bar"
           }
          ],
          "barpolar": [
           {
            "marker": {
             "line": {
              "color": "#E5ECF6",
              "width": 0.5
             },
             "pattern": {
              "fillmode": "overlay",
              "size": 10,
              "solidity": 0.2
             }
            },
            "type": "barpolar"
           }
          ],
          "carpet": [
           {
            "aaxis": {
             "endlinecolor": "#2a3f5f",
             "gridcolor": "white",
             "linecolor": "white",
             "minorgridcolor": "white",
             "startlinecolor": "#2a3f5f"
            },
            "baxis": {
             "endlinecolor": "#2a3f5f",
             "gridcolor": "white",
             "linecolor": "white",
             "minorgridcolor": "white",
             "startlinecolor": "#2a3f5f"
            },
            "type": "carpet"
           }
          ],
          "choropleth": [
           {
            "colorbar": {
             "outlinewidth": 0,
             "ticks": ""
            },
            "type": "choropleth"
           }
          ],
          "contour": [
           {
            "colorbar": {
             "outlinewidth": 0,
             "ticks": ""
            },
            "colorscale": [
             [
              0,
              "#0d0887"
             ],
             [
              0.1111111111111111,
              "#46039f"
             ],
             [
              0.2222222222222222,
              "#7201a8"
             ],
             [
              0.3333333333333333,
              "#9c179e"
             ],
             [
              0.4444444444444444,
              "#bd3786"
             ],
             [
              0.5555555555555556,
              "#d8576b"
             ],
             [
              0.6666666666666666,
              "#ed7953"
             ],
             [
              0.7777777777777778,
              "#fb9f3a"
             ],
             [
              0.8888888888888888,
              "#fdca26"
             ],
             [
              1,
              "#f0f921"
             ]
            ],
            "type": "contour"
           }
          ],
          "contourcarpet": [
           {
            "colorbar": {
             "outlinewidth": 0,
             "ticks": ""
            },
            "type": "contourcarpet"
           }
          ],
          "heatmap": [
           {
            "colorbar": {
             "outlinewidth": 0,
             "ticks": ""
            },
            "colorscale": [
             [
              0,
              "#0d0887"
             ],
             [
              0.1111111111111111,
              "#46039f"
             ],
             [
              0.2222222222222222,
              "#7201a8"
             ],
             [
              0.3333333333333333,
              "#9c179e"
             ],
             [
              0.4444444444444444,
              "#bd3786"
             ],
             [
              0.5555555555555556,
              "#d8576b"
             ],
             [
              0.6666666666666666,
              "#ed7953"
             ],
             [
              0.7777777777777778,
              "#fb9f3a"
             ],
             [
              0.8888888888888888,
              "#fdca26"
             ],
             [
              1,
              "#f0f921"
             ]
            ],
            "type": "heatmap"
           }
          ],
          "histogram": [
           {
            "marker": {
             "pattern": {
              "fillmode": "overlay",
              "size": 10,
              "solidity": 0.2
             }
            },
            "type": "histogram"
           }
          ],
          "histogram2d": [
           {
            "colorbar": {
             "outlinewidth": 0,
             "ticks": ""
            },
            "colorscale": [
             [
              0,
              "#0d0887"
             ],
             [
              0.1111111111111111,
              "#46039f"
             ],
             [
              0.2222222222222222,
              "#7201a8"
             ],
             [
              0.3333333333333333,
              "#9c179e"
             ],
             [
              0.4444444444444444,
              "#bd3786"
             ],
             [
              0.5555555555555556,
              "#d8576b"
             ],
             [
              0.6666666666666666,
              "#ed7953"
             ],
             [
              0.7777777777777778,
              "#fb9f3a"
             ],
             [
              0.8888888888888888,
              "#fdca26"
             ],
             [
              1,
              "#f0f921"
             ]
            ],
            "type": "histogram2d"
           }
          ],
          "histogram2dcontour": [
           {
            "colorbar": {
             "outlinewidth": 0,
             "ticks": ""
            },
            "colorscale": [
             [
              0,
              "#0d0887"
             ],
             [
              0.1111111111111111,
              "#46039f"
             ],
             [
              0.2222222222222222,
              "#7201a8"
             ],
             [
              0.3333333333333333,
              "#9c179e"
             ],
             [
              0.4444444444444444,
              "#bd3786"
             ],
             [
              0.5555555555555556,
              "#d8576b"
             ],
             [
              0.6666666666666666,
              "#ed7953"
             ],
             [
              0.7777777777777778,
              "#fb9f3a"
             ],
             [
              0.8888888888888888,
              "#fdca26"
             ],
             [
              1,
              "#f0f921"
             ]
            ],
            "type": "histogram2dcontour"
           }
          ],
          "mesh3d": [
           {
            "colorbar": {
             "outlinewidth": 0,
             "ticks": ""
            },
            "type": "mesh3d"
           }
          ],
          "parcoords": [
           {
            "line": {
             "colorbar": {
              "outlinewidth": 0,
              "ticks": ""
             }
            },
            "type": "parcoords"
           }
          ],
          "pie": [
           {
            "automargin": true,
            "type": "pie"
           }
          ],
          "scatter": [
           {
            "fillpattern": {
             "fillmode": "overlay",
             "size": 10,
             "solidity": 0.2
            },
            "type": "scatter"
           }
          ],
          "scatter3d": [
           {
            "line": {
             "colorbar": {
              "outlinewidth": 0,
              "ticks": ""
             }
            },
            "marker": {
             "colorbar": {
              "outlinewidth": 0,
              "ticks": ""
             }
            },
            "type": "scatter3d"
           }
          ],
          "scattercarpet": [
           {
            "marker": {
             "colorbar": {
              "outlinewidth": 0,
              "ticks": ""
             }
            },
            "type": "scattercarpet"
           }
          ],
          "scattergeo": [
           {
            "marker": {
             "colorbar": {
              "outlinewidth": 0,
              "ticks": ""
             }
            },
            "type": "scattergeo"
           }
          ],
          "scattergl": [
           {
            "marker": {
             "colorbar": {
              "outlinewidth": 0,
              "ticks": ""
             }
            },
            "type": "scattergl"
           }
          ],
          "scattermap": [
           {
            "marker": {
             "colorbar": {
              "outlinewidth": 0,
              "ticks": ""
             }
            },
            "type": "scattermap"
           }
          ],
          "scattermapbox": [
           {
            "marker": {
             "colorbar": {
              "outlinewidth": 0,
              "ticks": ""
             }
            },
            "type": "scattermapbox"
           }
          ],
          "scatterpolar": [
           {
            "marker": {
             "colorbar": {
              "outlinewidth": 0,
              "ticks": ""
             }
            },
            "type": "scatterpolar"
           }
          ],
          "scatterpolargl": [
           {
            "marker": {
             "colorbar": {
              "outlinewidth": 0,
              "ticks": ""
             }
            },
            "type": "scatterpolargl"
           }
          ],
          "scatterternary": [
           {
            "marker": {
             "colorbar": {
              "outlinewidth": 0,
              "ticks": ""
             }
            },
            "type": "scatterternary"
           }
          ],
          "surface": [
           {
            "colorbar": {
             "outlinewidth": 0,
             "ticks": ""
            },
            "colorscale": [
             [
              0,
              "#0d0887"
             ],
             [
              0.1111111111111111,
              "#46039f"
             ],
             [
              0.2222222222222222,
              "#7201a8"
             ],
             [
              0.3333333333333333,
              "#9c179e"
             ],
             [
              0.4444444444444444,
              "#bd3786"
             ],
             [
              0.5555555555555556,
              "#d8576b"
             ],
             [
              0.6666666666666666,
              "#ed7953"
             ],
             [
              0.7777777777777778,
              "#fb9f3a"
             ],
             [
              0.8888888888888888,
              "#fdca26"
             ],
             [
              1,
              "#f0f921"
             ]
            ],
            "type": "surface"
           }
          ],
          "table": [
           {
            "cells": {
             "fill": {
              "color": "#EBF0F8"
             },
             "line": {
              "color": "white"
             }
            },
            "header": {
             "fill": {
              "color": "#C8D4E3"
             },
             "line": {
              "color": "white"
             }
            },
            "type": "table"
           }
          ]
         },
         "layout": {
          "annotationdefaults": {
           "arrowcolor": "#2a3f5f",
           "arrowhead": 0,
           "arrowwidth": 1
          },
          "autotypenumbers": "strict",
          "coloraxis": {
           "colorbar": {
            "outlinewidth": 0,
            "ticks": ""
           }
          },
          "colorscale": {
           "diverging": [
            [
             0,
             "#8e0152"
            ],
            [
             0.1,
             "#c51b7d"
            ],
            [
             0.2,
             "#de77ae"
            ],
            [
             0.3,
             "#f1b6da"
            ],
            [
             0.4,
             "#fde0ef"
            ],
            [
             0.5,
             "#f7f7f7"
            ],
            [
             0.6,
             "#e6f5d0"
            ],
            [
             0.7,
             "#b8e186"
            ],
            [
             0.8,
             "#7fbc41"
            ],
            [
             0.9,
             "#4d9221"
            ],
            [
             1,
             "#276419"
            ]
           ],
           "sequential": [
            [
             0,
             "#0d0887"
            ],
            [
             0.1111111111111111,
             "#46039f"
            ],
            [
             0.2222222222222222,
             "#7201a8"
            ],
            [
             0.3333333333333333,
             "#9c179e"
            ],
            [
             0.4444444444444444,
             "#bd3786"
            ],
            [
             0.5555555555555556,
             "#d8576b"
            ],
            [
             0.6666666666666666,
             "#ed7953"
            ],
            [
             0.7777777777777778,
             "#fb9f3a"
            ],
            [
             0.8888888888888888,
             "#fdca26"
            ],
            [
             1,
             "#f0f921"
            ]
           ],
           "sequentialminus": [
            [
             0,
             "#0d0887"
            ],
            [
             0.1111111111111111,
             "#46039f"
            ],
            [
             0.2222222222222222,
             "#7201a8"
            ],
            [
             0.3333333333333333,
             "#9c179e"
            ],
            [
             0.4444444444444444,
             "#bd3786"
            ],
            [
             0.5555555555555556,
             "#d8576b"
            ],
            [
             0.6666666666666666,
             "#ed7953"
            ],
            [
             0.7777777777777778,
             "#fb9f3a"
            ],
            [
             0.8888888888888888,
             "#fdca26"
            ],
            [
             1,
             "#f0f921"
            ]
           ]
          },
          "colorway": [
           "#636efa",
           "#EF553B",
           "#00cc96",
           "#ab63fa",
           "#FFA15A",
           "#19d3f3",
           "#FF6692",
           "#B6E880",
           "#FF97FF",
           "#FECB52"
          ],
          "font": {
           "color": "#2a3f5f"
          },
          "geo": {
           "bgcolor": "white",
           "lakecolor": "white",
           "landcolor": "#E5ECF6",
           "showlakes": true,
           "showland": true,
           "subunitcolor": "white"
          },
          "hoverlabel": {
           "align": "left"
          },
          "hovermode": "closest",
          "mapbox": {
           "style": "light"
          },
          "paper_bgcolor": "white",
          "plot_bgcolor": "#E5ECF6",
          "polar": {
           "angularaxis": {
            "gridcolor": "white",
            "linecolor": "white",
            "ticks": ""
           },
           "bgcolor": "#E5ECF6",
           "radialaxis": {
            "gridcolor": "white",
            "linecolor": "white",
            "ticks": ""
           }
          },
          "scene": {
           "xaxis": {
            "backgroundcolor": "#E5ECF6",
            "gridcolor": "white",
            "gridwidth": 2,
            "linecolor": "white",
            "showbackground": true,
            "ticks": "",
            "zerolinecolor": "white"
           },
           "yaxis": {
            "backgroundcolor": "#E5ECF6",
            "gridcolor": "white",
            "gridwidth": 2,
            "linecolor": "white",
            "showbackground": true,
            "ticks": "",
            "zerolinecolor": "white"
           },
           "zaxis": {
            "backgroundcolor": "#E5ECF6",
            "gridcolor": "white",
            "gridwidth": 2,
            "linecolor": "white",
            "showbackground": true,
            "ticks": "",
            "zerolinecolor": "white"
           }
          },
          "shapedefaults": {
           "line": {
            "color": "#2a3f5f"
           }
          },
          "ternary": {
           "aaxis": {
            "gridcolor": "white",
            "linecolor": "white",
            "ticks": ""
           },
           "baxis": {
            "gridcolor": "white",
            "linecolor": "white",
            "ticks": ""
           },
           "bgcolor": "#E5ECF6",
           "caxis": {
            "gridcolor": "white",
            "linecolor": "white",
            "ticks": ""
           }
          },
          "title": {
           "x": 0.05
          },
          "xaxis": {
           "automargin": true,
           "gridcolor": "white",
           "linecolor": "white",
           "ticks": "",
           "title": {
            "standoff": 15
           },
           "zerolinecolor": "white",
           "zerolinewidth": 2
          },
          "yaxis": {
           "automargin": true,
           "gridcolor": "white",
           "linecolor": "white",
           "ticks": "",
           "title": {
            "standoff": 15
           },
           "zerolinecolor": "white",
           "zerolinewidth": 2
          }
         }
        },
        "title": {
         "text": "Euro area: Euro area gdp annual growth rate"
        },
        "xaxis": {
         "anchor": "y",
         "domain": [
          0,
          1
         ],
         "title": {
          "text": ""
         }
        },
        "yaxis": {
         "anchor": "x",
         "domain": [
          0,
          1
         ],
         "title": {
          "text": "%"
         }
        }
       }
      }
     },
     "metadata": {},
     "output_type": "display_data"
    }
   ],
   "source": [
    "scro.plot_series()  ## Plot the series."
   ]
  },
  {
   "cell_type": "markdown",
   "metadata": {},
   "source": [
    "## Here we have the ultimate high accuracy, high time required method\n",
    "This method is selected using ```method = \"mixed\"``` keyword argument of the ```scrape_chart``` function. This first determines the start & end dates for the full series, calculates frequency and makes the x_index. It then uses multiple runs of the tooltip scraping method to get all of the data at the highest accuracy."
   ]
  },
  {
   "cell_type": "code",
   "execution_count": 39,
   "metadata": {},
   "outputs": [
    {
     "name": "stderr",
     "output_type": "stream",
     "text": [
      "INFO - Quitting 5 active webdriver instances...\n"
     ]
    },
    {
     "data": {
      "text/plain": [
       "[]"
      ]
     },
     "execution_count": 39,
     "metadata": {},
     "output_type": "execute_result"
    }
   ],
   "source": [
    "ted.find_active_drivers(quit_all=True)  ## Quit all active drivers."
   ]
  },
  {
   "cell_type": "code",
   "execution_count": 36,
   "metadata": {},
   "outputs": [
    {
     "name": "stderr",
     "output_type": "stream",
     "text": [
      "INFO - New firefox webdriver created.\n",
      "INFO - scrape_chart function: Scraping chart at: https://tradingeconomics.com/united-states/existing-home-sales, time: 2025-03-11 18:05:50.555699, method: mixed\n",
      "INFO - Chart types dictionary created successfully: dict_keys(['Column', 'Spline', 'Areaspline', 'Stepline', 'Line', 'Area'])\n",
      "INFO - Date span set to: 1Y\n",
      "INFO - \n",
      "Series metadata: \n",
      " {'units': 'Thousand', 'original_source': 'National Association of Realtors', 'title': 'United States Existing Home Sales', 'indicator': 'existing home sales', 'country': 'united states', 'source': 'Trading Economics', 'id': 'united-states/existing-home-sales'}\n",
      "INFO - Chart type set to: Spline (using JavaScript)\n"
     ]
    },
    {
     "name": "stdout",
     "output_type": "stream",
     "text": [
      "Using selenium and tooltip scraping to construct the date time index for the time-series, this'll take a bit...\n"
     ]
    },
    {
     "name": "stderr",
     "output_type": "stream",
     "text": [
      "INFO - Time taken to select chart type: 0.6217173002660275\n",
      "INFO - Time taken to execute JS code: 2.9046239997260273\n"
     ]
    },
    {
     "name": "stdout",
     "output_type": "stream",
     "text": [
      "Frequency of time-series:  MS\n"
     ]
    },
    {
     "name": "stderr",
     "output_type": "stream",
     "text": [
      "INFO - Chart type set to: Spline (using JavaScript)\n",
      "INFO - JS Log: Plot area: left=100, right=763, width=663, height=295\n",
      "INFO - JS Log: Checking left point at x=100, y=420.5\n",
      "INFO - JS Log: Found tooltip at left: {\"date\":null,\"value\":null}\n",
      "INFO - JS Log: Checking right point at x=763, y=420.5\n",
      "INFO - JS Log: Found tooltip at right: {\"date\":\"Jan 2025\",\"value\":\"4.08K Thousand\"}\n",
      "INFO - JS Log: Extraction complete\n",
      "INFO - Successfully retrieved first/last dates.\n"
     ]
    },
    {
     "name": "stdout",
     "output_type": "stream",
     "text": [
      "Converted end_date: 2025-01-01 00:00:00\n",
      "Retrying start_end extraction...\n"
     ]
    },
    {
     "name": "stderr",
     "output_type": "stream",
     "text": [
      "INFO - JS Log: Plot area: left=100, right=763, width=663, height=295\n",
      "INFO - JS Log: Checking left point at x=100, y=420.5\n",
      "INFO - JS Log: Found tooltip at left: {\"date\":\"Jan 1968\",\"value\":\"1.42K Thousand\"}\n",
      "INFO - JS Log: Checking right point at x=763, y=420.5\n",
      "INFO - JS Log: Found tooltip at right: {\"date\":\"Jan 2025\",\"value\":\"4.08K Thousand\"}\n",
      "INFO - JS Log: Extraction complete\n",
      "INFO - Successfully retrieved first/last dates.\n",
      "INFO - Start and end values scraped from tooltips: \n",
      "{'end_date': Timestamp('2025-01-01 00:00:00'), 'end_value': 4080.0, 'start_date': Timestamp('1968-01-01 00:00:00'), 'start_value': 1420.0, 'unit_str': 'Thousand'}\n",
      "INFO - DateTimeIndex created successfully for the time-series.\n",
      "INFO -  Using mixed scraping approach, slowest, highest accuracy. Splitting x_index into subIndexes        Total points: 685, Max chunk size: 500, Number of chunks: 2, remainder: 1\n",
      "INFO - x_index Start date: 1968-01-01 00:00:00, End date: 2025-01-01 00:00:00\n",
      "INFO - SubIndex 0: 342 points, from 1968-01-01 00:00:00 to 1996-06-01 00:00:00, frequency: MS\n"
     ]
    },
    {
     "name": "stdout",
     "output_type": "stream",
     "text": [
      "Converted start_date: 1968-01-01 00:00:00\n",
      "Converted end_date: 2025-01-01 00:00:00\n",
      "Start and end dates scraped from tooltips:  {'end_date': Timestamp('2025-01-01 00:00:00'), 'end_value': 4080.0, 'start_date': Timestamp('1968-01-01 00:00:00'), 'start_value': 1420.0, 'unit_str': 'Thousand'}\n"
     ]
    },
    {
     "name": "stderr",
     "output_type": "stream",
     "text": [
      "INFO - Date span set to custom range: 1968-01-01 to 1996-06-01 (using JavaScript)\n",
      "INFO - Chart type set to: Spline (using JavaScript)\n",
      "INFO - Time taken to select chart type: 0.7178187002427876\n",
      "INFO - Time taken to execute JS code: 10.281805700156838\n",
      "INFO - SubIndex 1: 343 points, from 1996-07-01 00:00:00 to 2025-01-01 00:00:00, frequency: MS\n",
      "INFO - Date span set to custom range: 1996-07-01 to 2025-03-11 (using JavaScript)\n",
      "INFO - Chart type set to: Spline (using JavaScript)\n",
      "INFO - Time taken to select chart type: 0.6730578998103738\n",
      "INFO - Time taken to execute JS code: 10.302777600008994\n",
      "INFO - Successfully scraped full series from tooltips.\n",
      "INFO - Successfully scraped full series using mixed method.\n"
     ]
    }
   ],
   "source": [
    "scrup = ted.scrape_chart(id = \"existing-home-sales\", method = \"mixed\", use_existing_driver=False, headless=False) #Using chart id from the url only, country is \"united-states\" by default."
   ]
  },
  {
   "cell_type": "code",
   "execution_count": 37,
   "metadata": {},
   "outputs": [
    {
     "data": {
      "text/plain": [
       "1968-01-01    1420.0\n",
       "1968-02-01    1500.0\n",
       "1968-03-01    1550.0\n",
       "1968-04-01    1470.0\n",
       "1968-05-01    1510.0\n",
       "               ...  \n",
       "2024-09-01    3830.0\n",
       "2024-10-01    3960.0\n",
       "2024-11-01    4150.0\n",
       "2024-12-01    4290.0\n",
       "2025-01-01    4080.0\n",
       "Name: United States Existing Home Sales, Length: 682, dtype: float64"
      ]
     },
     "execution_count": 37,
     "metadata": {},
     "output_type": "execute_result"
    }
   ],
   "source": [
    "scrup.series"
   ]
  },
  {
   "cell_type": "code",
   "execution_count": 38,
   "metadata": {},
   "outputs": [
    {
     "data": {
      "application/vnd.plotly.v1+json": {
       "config": {
        "plotlyServerURL": "https://plot.ly"
       },
       "data": [
        {
         "hovertemplate": "variable=United States Existing Home Sales<br>index=%{x}<br>value=%{y}<extra></extra>",
         "legendgroup": "United States Existing Home Sales",
         "line": {
          "color": "#636efa",
          "dash": "solid"
         },
         "marker": {
          "symbol": "circle"
         },
         "mode": "lines",
         "name": "United States Existing Home Sales",
         "orientation": "v",
         "showlegend": true,
         "type": "scatter",
         "x": [
          "1968-01-01T00:00:00.000000000",
          "1968-02-01T00:00:00.000000000",
          "1968-03-01T00:00:00.000000000",
          "1968-04-01T00:00:00.000000000",
          "1968-05-01T00:00:00.000000000",
          "1968-06-01T00:00:00.000000000",
          "1968-07-01T00:00:00.000000000",
          "1968-08-01T00:00:00.000000000",
          "1968-09-01T00:00:00.000000000",
          "1968-10-01T00:00:00.000000000",
          "1968-11-01T00:00:00.000000000",
          "1968-12-01T00:00:00.000000000",
          "1969-01-01T00:00:00.000000000",
          "1969-02-01T00:00:00.000000000",
          "1969-03-01T00:00:00.000000000",
          "1969-04-01T00:00:00.000000000",
          "1969-05-01T00:00:00.000000000",
          "1969-06-01T00:00:00.000000000",
          "1969-07-01T00:00:00.000000000",
          "1969-08-01T00:00:00.000000000",
          "1969-09-01T00:00:00.000000000",
          "1969-10-01T00:00:00.000000000",
          "1969-11-01T00:00:00.000000000",
          "1969-12-01T00:00:00.000000000",
          "1970-01-01T00:00:00.000000000",
          "1970-02-01T00:00:00.000000000",
          "1970-03-01T00:00:00.000000000",
          "1970-04-01T00:00:00.000000000",
          "1970-05-01T00:00:00.000000000",
          "1970-06-01T00:00:00.000000000",
          "1970-07-01T00:00:00.000000000",
          "1970-08-01T00:00:00.000000000",
          "1970-09-01T00:00:00.000000000",
          "1970-10-01T00:00:00.000000000",
          "1970-11-01T00:00:00.000000000",
          "1970-12-01T00:00:00.000000000",
          "1971-01-01T00:00:00.000000000",
          "1971-02-01T00:00:00.000000000",
          "1971-03-01T00:00:00.000000000",
          "1971-04-01T00:00:00.000000000",
          "1971-05-01T00:00:00.000000000",
          "1971-06-01T00:00:00.000000000",
          "1971-07-01T00:00:00.000000000",
          "1971-08-01T00:00:00.000000000",
          "1971-09-01T00:00:00.000000000",
          "1971-10-01T00:00:00.000000000",
          "1971-11-01T00:00:00.000000000",
          "1971-12-01T00:00:00.000000000",
          "1972-01-01T00:00:00.000000000",
          "1972-02-01T00:00:00.000000000",
          "1972-03-01T00:00:00.000000000",
          "1972-04-01T00:00:00.000000000",
          "1972-05-01T00:00:00.000000000",
          "1972-06-01T00:00:00.000000000",
          "1972-07-01T00:00:00.000000000",
          "1972-08-01T00:00:00.000000000",
          "1972-09-01T00:00:00.000000000",
          "1972-10-01T00:00:00.000000000",
          "1972-11-01T00:00:00.000000000",
          "1972-12-01T00:00:00.000000000",
          "1973-01-01T00:00:00.000000000",
          "1973-02-01T00:00:00.000000000",
          "1973-03-01T00:00:00.000000000",
          "1973-04-01T00:00:00.000000000",
          "1973-05-01T00:00:00.000000000",
          "1973-06-01T00:00:00.000000000",
          "1973-07-01T00:00:00.000000000",
          "1973-08-01T00:00:00.000000000",
          "1973-09-01T00:00:00.000000000",
          "1973-10-01T00:00:00.000000000",
          "1973-11-01T00:00:00.000000000",
          "1973-12-01T00:00:00.000000000",
          "1974-01-01T00:00:00.000000000",
          "1974-02-01T00:00:00.000000000",
          "1974-03-01T00:00:00.000000000",
          "1974-04-01T00:00:00.000000000",
          "1974-05-01T00:00:00.000000000",
          "1974-06-01T00:00:00.000000000",
          "1974-07-01T00:00:00.000000000",
          "1974-08-01T00:00:00.000000000",
          "1974-09-01T00:00:00.000000000",
          "1974-10-01T00:00:00.000000000",
          "1974-11-01T00:00:00.000000000",
          "1974-12-01T00:00:00.000000000",
          "1975-01-01T00:00:00.000000000",
          "1975-02-01T00:00:00.000000000",
          "1975-03-01T00:00:00.000000000",
          "1975-04-01T00:00:00.000000000",
          "1975-05-01T00:00:00.000000000",
          "1975-06-01T00:00:00.000000000",
          "1975-07-01T00:00:00.000000000",
          "1975-08-01T00:00:00.000000000",
          "1975-09-01T00:00:00.000000000",
          "1975-10-01T00:00:00.000000000",
          "1975-11-01T00:00:00.000000000",
          "1975-12-01T00:00:00.000000000",
          "1976-01-01T00:00:00.000000000",
          "1976-02-01T00:00:00.000000000",
          "1976-03-01T00:00:00.000000000",
          "1976-04-01T00:00:00.000000000",
          "1976-05-01T00:00:00.000000000",
          "1976-06-01T00:00:00.000000000",
          "1976-07-01T00:00:00.000000000",
          "1976-08-01T00:00:00.000000000",
          "1976-09-01T00:00:00.000000000",
          "1976-10-01T00:00:00.000000000",
          "1976-11-01T00:00:00.000000000",
          "1976-12-01T00:00:00.000000000",
          "1977-01-01T00:00:00.000000000",
          "1977-02-01T00:00:00.000000000",
          "1977-03-01T00:00:00.000000000",
          "1977-04-01T00:00:00.000000000",
          "1977-05-01T00:00:00.000000000",
          "1977-06-01T00:00:00.000000000",
          "1977-07-01T00:00:00.000000000",
          "1977-08-01T00:00:00.000000000",
          "1977-09-01T00:00:00.000000000",
          "1977-10-01T00:00:00.000000000",
          "1977-11-01T00:00:00.000000000",
          "1977-12-01T00:00:00.000000000",
          "1978-01-01T00:00:00.000000000",
          "1978-02-01T00:00:00.000000000",
          "1978-03-01T00:00:00.000000000",
          "1978-04-01T00:00:00.000000000",
          "1978-05-01T00:00:00.000000000",
          "1978-06-01T00:00:00.000000000",
          "1978-07-01T00:00:00.000000000",
          "1978-08-01T00:00:00.000000000",
          "1978-09-01T00:00:00.000000000",
          "1978-10-01T00:00:00.000000000",
          "1978-11-01T00:00:00.000000000",
          "1978-12-01T00:00:00.000000000",
          "1979-01-01T00:00:00.000000000",
          "1979-02-01T00:00:00.000000000",
          "1979-03-01T00:00:00.000000000",
          "1979-04-01T00:00:00.000000000",
          "1979-05-01T00:00:00.000000000",
          "1979-06-01T00:00:00.000000000",
          "1979-07-01T00:00:00.000000000",
          "1979-08-01T00:00:00.000000000",
          "1979-09-01T00:00:00.000000000",
          "1979-10-01T00:00:00.000000000",
          "1979-11-01T00:00:00.000000000",
          "1979-12-01T00:00:00.000000000",
          "1980-01-01T00:00:00.000000000",
          "1980-02-01T00:00:00.000000000",
          "1980-03-01T00:00:00.000000000",
          "1980-04-01T00:00:00.000000000",
          "1980-05-01T00:00:00.000000000",
          "1980-06-01T00:00:00.000000000",
          "1980-07-01T00:00:00.000000000",
          "1980-08-01T00:00:00.000000000",
          "1980-09-01T00:00:00.000000000",
          "1980-10-01T00:00:00.000000000",
          "1980-11-01T00:00:00.000000000",
          "1980-12-01T00:00:00.000000000",
          "1981-01-01T00:00:00.000000000",
          "1981-02-01T00:00:00.000000000",
          "1981-03-01T00:00:00.000000000",
          "1981-04-01T00:00:00.000000000",
          "1981-05-01T00:00:00.000000000",
          "1981-06-01T00:00:00.000000000",
          "1981-07-01T00:00:00.000000000",
          "1981-08-01T00:00:00.000000000",
          "1981-09-01T00:00:00.000000000",
          "1981-10-01T00:00:00.000000000",
          "1981-11-01T00:00:00.000000000",
          "1981-12-01T00:00:00.000000000",
          "1982-01-01T00:00:00.000000000",
          "1982-02-01T00:00:00.000000000",
          "1982-03-01T00:00:00.000000000",
          "1982-04-01T00:00:00.000000000",
          "1982-05-01T00:00:00.000000000",
          "1982-06-01T00:00:00.000000000",
          "1982-07-01T00:00:00.000000000",
          "1982-08-01T00:00:00.000000000",
          "1982-09-01T00:00:00.000000000",
          "1982-10-01T00:00:00.000000000",
          "1982-11-01T00:00:00.000000000",
          "1982-12-01T00:00:00.000000000",
          "1983-01-01T00:00:00.000000000",
          "1983-02-01T00:00:00.000000000",
          "1983-03-01T00:00:00.000000000",
          "1983-04-01T00:00:00.000000000",
          "1983-05-01T00:00:00.000000000",
          "1983-06-01T00:00:00.000000000",
          "1983-07-01T00:00:00.000000000",
          "1983-08-01T00:00:00.000000000",
          "1983-09-01T00:00:00.000000000",
          "1983-10-01T00:00:00.000000000",
          "1983-11-01T00:00:00.000000000",
          "1983-12-01T00:00:00.000000000",
          "1984-01-01T00:00:00.000000000",
          "1984-02-01T00:00:00.000000000",
          "1984-03-01T00:00:00.000000000",
          "1984-04-01T00:00:00.000000000",
          "1984-05-01T00:00:00.000000000",
          "1984-06-01T00:00:00.000000000",
          "1984-07-01T00:00:00.000000000",
          "1984-08-01T00:00:00.000000000",
          "1984-09-01T00:00:00.000000000",
          "1984-10-01T00:00:00.000000000",
          "1984-11-01T00:00:00.000000000",
          "1984-12-01T00:00:00.000000000",
          "1985-01-01T00:00:00.000000000",
          "1985-02-01T00:00:00.000000000",
          "1985-03-01T00:00:00.000000000",
          "1985-04-01T00:00:00.000000000",
          "1985-05-01T00:00:00.000000000",
          "1985-06-01T00:00:00.000000000",
          "1985-07-01T00:00:00.000000000",
          "1985-08-01T00:00:00.000000000",
          "1985-09-01T00:00:00.000000000",
          "1985-10-01T00:00:00.000000000",
          "1985-11-01T00:00:00.000000000",
          "1985-12-01T00:00:00.000000000",
          "1986-01-01T00:00:00.000000000",
          "1986-02-01T00:00:00.000000000",
          "1986-03-01T00:00:00.000000000",
          "1986-04-01T00:00:00.000000000",
          "1986-05-01T00:00:00.000000000",
          "1986-06-01T00:00:00.000000000",
          "1986-07-01T00:00:00.000000000",
          "1986-08-01T00:00:00.000000000",
          "1986-09-01T00:00:00.000000000",
          "1986-10-01T00:00:00.000000000",
          "1986-11-01T00:00:00.000000000",
          "1986-12-01T00:00:00.000000000",
          "1987-01-01T00:00:00.000000000",
          "1987-02-01T00:00:00.000000000",
          "1987-03-01T00:00:00.000000000",
          "1987-04-01T00:00:00.000000000",
          "1987-05-01T00:00:00.000000000",
          "1987-06-01T00:00:00.000000000",
          "1987-07-01T00:00:00.000000000",
          "1987-08-01T00:00:00.000000000",
          "1987-09-01T00:00:00.000000000",
          "1987-10-01T00:00:00.000000000",
          "1987-11-01T00:00:00.000000000",
          "1987-12-01T00:00:00.000000000",
          "1988-01-01T00:00:00.000000000",
          "1988-02-01T00:00:00.000000000",
          "1988-03-01T00:00:00.000000000",
          "1988-04-01T00:00:00.000000000",
          "1988-05-01T00:00:00.000000000",
          "1988-06-01T00:00:00.000000000",
          "1988-07-01T00:00:00.000000000",
          "1988-08-01T00:00:00.000000000",
          "1988-09-01T00:00:00.000000000",
          "1988-10-01T00:00:00.000000000",
          "1988-11-01T00:00:00.000000000",
          "1988-12-01T00:00:00.000000000",
          "1989-01-01T00:00:00.000000000",
          "1989-02-01T00:00:00.000000000",
          "1989-03-01T00:00:00.000000000",
          "1989-04-01T00:00:00.000000000",
          "1989-05-01T00:00:00.000000000",
          "1989-06-01T00:00:00.000000000",
          "1989-07-01T00:00:00.000000000",
          "1989-08-01T00:00:00.000000000",
          "1989-09-01T00:00:00.000000000",
          "1989-10-01T00:00:00.000000000",
          "1989-11-01T00:00:00.000000000",
          "1989-12-01T00:00:00.000000000",
          "1990-01-01T00:00:00.000000000",
          "1990-02-01T00:00:00.000000000",
          "1990-03-01T00:00:00.000000000",
          "1990-04-01T00:00:00.000000000",
          "1990-05-01T00:00:00.000000000",
          "1990-06-01T00:00:00.000000000",
          "1990-07-01T00:00:00.000000000",
          "1990-08-01T00:00:00.000000000",
          "1990-09-01T00:00:00.000000000",
          "1990-10-01T00:00:00.000000000",
          "1990-11-01T00:00:00.000000000",
          "1990-12-01T00:00:00.000000000",
          "1991-01-01T00:00:00.000000000",
          "1991-02-01T00:00:00.000000000",
          "1991-03-01T00:00:00.000000000",
          "1991-04-01T00:00:00.000000000",
          "1991-05-01T00:00:00.000000000",
          "1991-06-01T00:00:00.000000000",
          "1991-07-01T00:00:00.000000000",
          "1991-08-01T00:00:00.000000000",
          "1991-09-01T00:00:00.000000000",
          "1991-10-01T00:00:00.000000000",
          "1991-11-01T00:00:00.000000000",
          "1991-12-01T00:00:00.000000000",
          "1992-01-01T00:00:00.000000000",
          "1992-02-01T00:00:00.000000000",
          "1992-03-01T00:00:00.000000000",
          "1992-04-01T00:00:00.000000000",
          "1992-05-01T00:00:00.000000000",
          "1992-06-01T00:00:00.000000000",
          "1992-07-01T00:00:00.000000000",
          "1992-08-01T00:00:00.000000000",
          "1992-09-01T00:00:00.000000000",
          "1992-10-01T00:00:00.000000000",
          "1992-11-01T00:00:00.000000000",
          "1992-12-01T00:00:00.000000000",
          "1993-01-01T00:00:00.000000000",
          "1993-02-01T00:00:00.000000000",
          "1993-03-01T00:00:00.000000000",
          "1993-04-01T00:00:00.000000000",
          "1993-05-01T00:00:00.000000000",
          "1993-06-01T00:00:00.000000000",
          "1993-07-01T00:00:00.000000000",
          "1993-08-01T00:00:00.000000000",
          "1993-09-01T00:00:00.000000000",
          "1993-10-01T00:00:00.000000000",
          "1993-11-01T00:00:00.000000000",
          "1993-12-01T00:00:00.000000000",
          "1994-01-01T00:00:00.000000000",
          "1994-02-01T00:00:00.000000000",
          "1994-03-01T00:00:00.000000000",
          "1994-04-01T00:00:00.000000000",
          "1994-05-01T00:00:00.000000000",
          "1994-06-01T00:00:00.000000000",
          "1994-07-01T00:00:00.000000000",
          "1994-08-01T00:00:00.000000000",
          "1994-09-01T00:00:00.000000000",
          "1994-10-01T00:00:00.000000000",
          "1994-11-01T00:00:00.000000000",
          "1994-12-01T00:00:00.000000000",
          "1995-01-01T00:00:00.000000000",
          "1995-02-01T00:00:00.000000000",
          "1995-03-01T00:00:00.000000000",
          "1995-04-01T00:00:00.000000000",
          "1995-05-01T00:00:00.000000000",
          "1995-06-01T00:00:00.000000000",
          "1995-07-01T00:00:00.000000000",
          "1995-08-01T00:00:00.000000000",
          "1995-09-01T00:00:00.000000000",
          "1995-10-01T00:00:00.000000000",
          "1995-11-01T00:00:00.000000000",
          "1995-12-01T00:00:00.000000000",
          "1996-01-01T00:00:00.000000000",
          "1996-02-01T00:00:00.000000000",
          "1996-03-01T00:00:00.000000000",
          "1996-04-01T00:00:00.000000000",
          "1996-08-01T00:00:00.000000000",
          "1996-09-01T00:00:00.000000000",
          "1996-10-01T00:00:00.000000000",
          "1996-11-01T00:00:00.000000000",
          "1996-12-01T00:00:00.000000000",
          "1997-01-01T00:00:00.000000000",
          "1997-02-01T00:00:00.000000000",
          "1997-03-01T00:00:00.000000000",
          "1997-04-01T00:00:00.000000000",
          "1997-05-01T00:00:00.000000000",
          "1997-06-01T00:00:00.000000000",
          "1997-07-01T00:00:00.000000000",
          "1997-08-01T00:00:00.000000000",
          "1997-09-01T00:00:00.000000000",
          "1997-10-01T00:00:00.000000000",
          "1997-11-01T00:00:00.000000000",
          "1997-12-01T00:00:00.000000000",
          "1998-01-01T00:00:00.000000000",
          "1998-02-01T00:00:00.000000000",
          "1998-03-01T00:00:00.000000000",
          "1998-04-01T00:00:00.000000000",
          "1998-05-01T00:00:00.000000000",
          "1998-06-01T00:00:00.000000000",
          "1998-07-01T00:00:00.000000000",
          "1998-08-01T00:00:00.000000000",
          "1998-09-01T00:00:00.000000000",
          "1998-10-01T00:00:00.000000000",
          "1998-11-01T00:00:00.000000000",
          "1998-12-01T00:00:00.000000000",
          "1999-01-01T00:00:00.000000000",
          "1999-02-01T00:00:00.000000000",
          "1999-03-01T00:00:00.000000000",
          "1999-04-01T00:00:00.000000000",
          "1999-05-01T00:00:00.000000000",
          "1999-06-01T00:00:00.000000000",
          "1999-07-01T00:00:00.000000000",
          "1999-08-01T00:00:00.000000000",
          "1999-09-01T00:00:00.000000000",
          "1999-10-01T00:00:00.000000000",
          "1999-11-01T00:00:00.000000000",
          "1999-12-01T00:00:00.000000000",
          "2000-01-01T00:00:00.000000000",
          "2000-02-01T00:00:00.000000000",
          "2000-03-01T00:00:00.000000000",
          "2000-04-01T00:00:00.000000000",
          "2000-05-01T00:00:00.000000000",
          "2000-06-01T00:00:00.000000000",
          "2000-07-01T00:00:00.000000000",
          "2000-08-01T00:00:00.000000000",
          "2000-09-01T00:00:00.000000000",
          "2000-10-01T00:00:00.000000000",
          "2000-11-01T00:00:00.000000000",
          "2000-12-01T00:00:00.000000000",
          "2001-01-01T00:00:00.000000000",
          "2001-02-01T00:00:00.000000000",
          "2001-03-01T00:00:00.000000000",
          "2001-04-01T00:00:00.000000000",
          "2001-05-01T00:00:00.000000000",
          "2001-06-01T00:00:00.000000000",
          "2001-07-01T00:00:00.000000000",
          "2001-08-01T00:00:00.000000000",
          "2001-09-01T00:00:00.000000000",
          "2001-10-01T00:00:00.000000000",
          "2001-11-01T00:00:00.000000000",
          "2001-12-01T00:00:00.000000000",
          "2002-01-01T00:00:00.000000000",
          "2002-02-01T00:00:00.000000000",
          "2002-03-01T00:00:00.000000000",
          "2002-04-01T00:00:00.000000000",
          "2002-05-01T00:00:00.000000000",
          "2002-06-01T00:00:00.000000000",
          "2002-07-01T00:00:00.000000000",
          "2002-08-01T00:00:00.000000000",
          "2002-09-01T00:00:00.000000000",
          "2002-10-01T00:00:00.000000000",
          "2002-11-01T00:00:00.000000000",
          "2002-12-01T00:00:00.000000000",
          "2003-01-01T00:00:00.000000000",
          "2003-02-01T00:00:00.000000000",
          "2003-03-01T00:00:00.000000000",
          "2003-04-01T00:00:00.000000000",
          "2003-05-01T00:00:00.000000000",
          "2003-06-01T00:00:00.000000000",
          "2003-07-01T00:00:00.000000000",
          "2003-08-01T00:00:00.000000000",
          "2003-09-01T00:00:00.000000000",
          "2003-10-01T00:00:00.000000000",
          "2003-11-01T00:00:00.000000000",
          "2003-12-01T00:00:00.000000000",
          "2004-01-01T00:00:00.000000000",
          "2004-02-01T00:00:00.000000000",
          "2004-03-01T00:00:00.000000000",
          "2004-04-01T00:00:00.000000000",
          "2004-05-01T00:00:00.000000000",
          "2004-06-01T00:00:00.000000000",
          "2004-07-01T00:00:00.000000000",
          "2004-08-01T00:00:00.000000000",
          "2004-09-01T00:00:00.000000000",
          "2004-10-01T00:00:00.000000000",
          "2004-11-01T00:00:00.000000000",
          "2004-12-01T00:00:00.000000000",
          "2005-01-01T00:00:00.000000000",
          "2005-02-01T00:00:00.000000000",
          "2005-03-01T00:00:00.000000000",
          "2005-04-01T00:00:00.000000000",
          "2005-05-01T00:00:00.000000000",
          "2005-06-01T00:00:00.000000000",
          "2005-07-01T00:00:00.000000000",
          "2005-08-01T00:00:00.000000000",
          "2005-09-01T00:00:00.000000000",
          "2005-10-01T00:00:00.000000000",
          "2005-11-01T00:00:00.000000000",
          "2005-12-01T00:00:00.000000000",
          "2006-01-01T00:00:00.000000000",
          "2006-02-01T00:00:00.000000000",
          "2006-03-01T00:00:00.000000000",
          "2006-04-01T00:00:00.000000000",
          "2006-05-01T00:00:00.000000000",
          "2006-06-01T00:00:00.000000000",
          "2006-07-01T00:00:00.000000000",
          "2006-08-01T00:00:00.000000000",
          "2006-09-01T00:00:00.000000000",
          "2006-10-01T00:00:00.000000000",
          "2006-11-01T00:00:00.000000000",
          "2006-12-01T00:00:00.000000000",
          "2007-01-01T00:00:00.000000000",
          "2007-02-01T00:00:00.000000000",
          "2007-03-01T00:00:00.000000000",
          "2007-04-01T00:00:00.000000000",
          "2007-05-01T00:00:00.000000000",
          "2007-06-01T00:00:00.000000000",
          "2007-07-01T00:00:00.000000000",
          "2007-08-01T00:00:00.000000000",
          "2007-09-01T00:00:00.000000000",
          "2007-10-01T00:00:00.000000000",
          "2007-11-01T00:00:00.000000000",
          "2007-12-01T00:00:00.000000000",
          "2008-01-01T00:00:00.000000000",
          "2008-02-01T00:00:00.000000000",
          "2008-03-01T00:00:00.000000000",
          "2008-04-01T00:00:00.000000000",
          "2008-05-01T00:00:00.000000000",
          "2008-06-01T00:00:00.000000000",
          "2008-07-01T00:00:00.000000000",
          "2008-08-01T00:00:00.000000000",
          "2008-09-01T00:00:00.000000000",
          "2008-10-01T00:00:00.000000000",
          "2008-11-01T00:00:00.000000000",
          "2008-12-01T00:00:00.000000000",
          "2009-01-01T00:00:00.000000000",
          "2009-02-01T00:00:00.000000000",
          "2009-03-01T00:00:00.000000000",
          "2009-04-01T00:00:00.000000000",
          "2009-05-01T00:00:00.000000000",
          "2009-06-01T00:00:00.000000000",
          "2009-07-01T00:00:00.000000000",
          "2009-08-01T00:00:00.000000000",
          "2009-09-01T00:00:00.000000000",
          "2009-10-01T00:00:00.000000000",
          "2009-11-01T00:00:00.000000000",
          "2009-12-01T00:00:00.000000000",
          "2010-01-01T00:00:00.000000000",
          "2010-02-01T00:00:00.000000000",
          "2010-03-01T00:00:00.000000000",
          "2010-04-01T00:00:00.000000000",
          "2010-05-01T00:00:00.000000000",
          "2010-06-01T00:00:00.000000000",
          "2010-07-01T00:00:00.000000000",
          "2010-08-01T00:00:00.000000000",
          "2010-09-01T00:00:00.000000000",
          "2010-10-01T00:00:00.000000000",
          "2010-11-01T00:00:00.000000000",
          "2010-12-01T00:00:00.000000000",
          "2011-01-01T00:00:00.000000000",
          "2011-02-01T00:00:00.000000000",
          "2011-03-01T00:00:00.000000000",
          "2011-04-01T00:00:00.000000000",
          "2011-05-01T00:00:00.000000000",
          "2011-06-01T00:00:00.000000000",
          "2011-07-01T00:00:00.000000000",
          "2011-08-01T00:00:00.000000000",
          "2011-09-01T00:00:00.000000000",
          "2011-10-01T00:00:00.000000000",
          "2011-11-01T00:00:00.000000000",
          "2011-12-01T00:00:00.000000000",
          "2012-01-01T00:00:00.000000000",
          "2012-02-01T00:00:00.000000000",
          "2012-03-01T00:00:00.000000000",
          "2012-04-01T00:00:00.000000000",
          "2012-05-01T00:00:00.000000000",
          "2012-06-01T00:00:00.000000000",
          "2012-07-01T00:00:00.000000000",
          "2012-08-01T00:00:00.000000000",
          "2012-09-01T00:00:00.000000000",
          "2012-10-01T00:00:00.000000000",
          "2012-11-01T00:00:00.000000000",
          "2012-12-01T00:00:00.000000000",
          "2013-01-01T00:00:00.000000000",
          "2013-02-01T00:00:00.000000000",
          "2013-03-01T00:00:00.000000000",
          "2013-04-01T00:00:00.000000000",
          "2013-05-01T00:00:00.000000000",
          "2013-06-01T00:00:00.000000000",
          "2013-07-01T00:00:00.000000000",
          "2013-08-01T00:00:00.000000000",
          "2013-09-01T00:00:00.000000000",
          "2013-10-01T00:00:00.000000000",
          "2013-11-01T00:00:00.000000000",
          "2013-12-01T00:00:00.000000000",
          "2014-01-01T00:00:00.000000000",
          "2014-02-01T00:00:00.000000000",
          "2014-03-01T00:00:00.000000000",
          "2014-04-01T00:00:00.000000000",
          "2014-05-01T00:00:00.000000000",
          "2014-06-01T00:00:00.000000000",
          "2014-07-01T00:00:00.000000000",
          "2014-08-01T00:00:00.000000000",
          "2014-09-01T00:00:00.000000000",
          "2014-10-01T00:00:00.000000000",
          "2014-11-01T00:00:00.000000000",
          "2014-12-01T00:00:00.000000000",
          "2015-01-01T00:00:00.000000000",
          "2015-02-01T00:00:00.000000000",
          "2015-03-01T00:00:00.000000000",
          "2015-04-01T00:00:00.000000000",
          "2015-05-01T00:00:00.000000000",
          "2015-06-01T00:00:00.000000000",
          "2015-07-01T00:00:00.000000000",
          "2015-08-01T00:00:00.000000000",
          "2015-09-01T00:00:00.000000000",
          "2015-10-01T00:00:00.000000000",
          "2015-11-01T00:00:00.000000000",
          "2015-12-01T00:00:00.000000000",
          "2016-01-01T00:00:00.000000000",
          "2016-02-01T00:00:00.000000000",
          "2016-03-01T00:00:00.000000000",
          "2016-04-01T00:00:00.000000000",
          "2016-05-01T00:00:00.000000000",
          "2016-06-01T00:00:00.000000000",
          "2016-07-01T00:00:00.000000000",
          "2016-08-01T00:00:00.000000000",
          "2016-09-01T00:00:00.000000000",
          "2016-10-01T00:00:00.000000000",
          "2016-11-01T00:00:00.000000000",
          "2016-12-01T00:00:00.000000000",
          "2017-01-01T00:00:00.000000000",
          "2017-02-01T00:00:00.000000000",
          "2017-03-01T00:00:00.000000000",
          "2017-04-01T00:00:00.000000000",
          "2017-05-01T00:00:00.000000000",
          "2017-06-01T00:00:00.000000000",
          "2017-07-01T00:00:00.000000000",
          "2017-08-01T00:00:00.000000000",
          "2017-09-01T00:00:00.000000000",
          "2017-10-01T00:00:00.000000000",
          "2017-11-01T00:00:00.000000000",
          "2017-12-01T00:00:00.000000000",
          "2018-01-01T00:00:00.000000000",
          "2018-02-01T00:00:00.000000000",
          "2018-03-01T00:00:00.000000000",
          "2018-04-01T00:00:00.000000000",
          "2018-05-01T00:00:00.000000000",
          "2018-06-01T00:00:00.000000000",
          "2018-07-01T00:00:00.000000000",
          "2018-08-01T00:00:00.000000000",
          "2018-09-01T00:00:00.000000000",
          "2018-10-01T00:00:00.000000000",
          "2018-11-01T00:00:00.000000000",
          "2018-12-01T00:00:00.000000000",
          "2019-01-01T00:00:00.000000000",
          "2019-02-01T00:00:00.000000000",
          "2019-03-01T00:00:00.000000000",
          "2019-04-01T00:00:00.000000000",
          "2019-05-01T00:00:00.000000000",
          "2019-06-01T00:00:00.000000000",
          "2019-07-01T00:00:00.000000000",
          "2019-08-01T00:00:00.000000000",
          "2019-09-01T00:00:00.000000000",
          "2019-10-01T00:00:00.000000000",
          "2019-11-01T00:00:00.000000000",
          "2019-12-01T00:00:00.000000000",
          "2020-01-01T00:00:00.000000000",
          "2020-02-01T00:00:00.000000000",
          "2020-03-01T00:00:00.000000000",
          "2020-04-01T00:00:00.000000000",
          "2020-05-01T00:00:00.000000000",
          "2020-06-01T00:00:00.000000000",
          "2020-07-01T00:00:00.000000000",
          "2020-08-01T00:00:00.000000000",
          "2020-09-01T00:00:00.000000000",
          "2020-10-01T00:00:00.000000000",
          "2020-11-01T00:00:00.000000000",
          "2020-12-01T00:00:00.000000000",
          "2021-01-01T00:00:00.000000000",
          "2021-02-01T00:00:00.000000000",
          "2021-03-01T00:00:00.000000000",
          "2021-04-01T00:00:00.000000000",
          "2021-05-01T00:00:00.000000000",
          "2021-06-01T00:00:00.000000000",
          "2021-07-01T00:00:00.000000000",
          "2021-08-01T00:00:00.000000000",
          "2021-09-01T00:00:00.000000000",
          "2021-10-01T00:00:00.000000000",
          "2021-11-01T00:00:00.000000000",
          "2021-12-01T00:00:00.000000000",
          "2022-01-01T00:00:00.000000000",
          "2022-02-01T00:00:00.000000000",
          "2022-03-01T00:00:00.000000000",
          "2022-04-01T00:00:00.000000000",
          "2022-05-01T00:00:00.000000000",
          "2022-06-01T00:00:00.000000000",
          "2022-07-01T00:00:00.000000000",
          "2022-08-01T00:00:00.000000000",
          "2022-09-01T00:00:00.000000000",
          "2022-10-01T00:00:00.000000000",
          "2022-11-01T00:00:00.000000000",
          "2022-12-01T00:00:00.000000000",
          "2023-01-01T00:00:00.000000000",
          "2023-02-01T00:00:00.000000000",
          "2023-03-01T00:00:00.000000000",
          "2023-04-01T00:00:00.000000000",
          "2023-05-01T00:00:00.000000000",
          "2023-06-01T00:00:00.000000000",
          "2023-07-01T00:00:00.000000000",
          "2023-08-01T00:00:00.000000000",
          "2023-09-01T00:00:00.000000000",
          "2023-10-01T00:00:00.000000000",
          "2023-11-01T00:00:00.000000000",
          "2023-12-01T00:00:00.000000000",
          "2024-01-01T00:00:00.000000000",
          "2024-02-01T00:00:00.000000000",
          "2024-03-01T00:00:00.000000000",
          "2024-04-01T00:00:00.000000000",
          "2024-05-01T00:00:00.000000000",
          "2024-06-01T00:00:00.000000000",
          "2024-07-01T00:00:00.000000000",
          "2024-08-01T00:00:00.000000000",
          "2024-09-01T00:00:00.000000000",
          "2024-10-01T00:00:00.000000000",
          "2024-11-01T00:00:00.000000000",
          "2024-12-01T00:00:00.000000000",
          "2025-01-01T00:00:00.000000000"
         ],
         "xaxis": "x",
         "y": {
          "bdata": "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",
          "dtype": "f8"
         },
         "yaxis": "y"
        }
       ],
       "layout": {
        "annotations": [
         {
          "align": "left",
          "bgcolor": "rgba(255, 255, 255, 0.8)",
          "bordercolor": "black",
          "borderwidth": 1,
          "font": {
           "size": 10
          },
          "showarrow": false,
          "text": "Source: Trading Economics<br>Original Source: National Association of Realtors<br>Frequency: MS<br>",
          "x": 0,
          "xanchor": "left",
          "xref": "paper",
          "y": -0.2,
          "yanchor": "bottom",
          "yref": "paper"
         }
        ],
        "legend": {
         "orientation": "h",
         "title": {
          "text": ""
         },
         "tracegroupgap": 0,
         "x": 0.5,
         "xanchor": "center",
         "y": -0.2,
         "yanchor": "bottom"
        },
        "margin": {
         "t": 60
        },
        "template": {
         "data": {
          "bar": [
           {
            "error_x": {
             "color": "#2a3f5f"
            },
            "error_y": {
             "color": "#2a3f5f"
            },
            "marker": {
             "line": {
              "color": "#E5ECF6",
              "width": 0.5
             },
             "pattern": {
              "fillmode": "overlay",
              "size": 10,
              "solidity": 0.2
             }
            },
            "type": "bar"
           }
          ],
          "barpolar": [
           {
            "marker": {
             "line": {
              "color": "#E5ECF6",
              "width": 0.5
             },
             "pattern": {
              "fillmode": "overlay",
              "size": 10,
              "solidity": 0.2
             }
            },
            "type": "barpolar"
           }
          ],
          "carpet": [
           {
            "aaxis": {
             "endlinecolor": "#2a3f5f",
             "gridcolor": "white",
             "linecolor": "white",
             "minorgridcolor": "white",
             "startlinecolor": "#2a3f5f"
            },
            "baxis": {
             "endlinecolor": "#2a3f5f",
             "gridcolor": "white",
             "linecolor": "white",
             "minorgridcolor": "white",
             "startlinecolor": "#2a3f5f"
            },
            "type": "carpet"
           }
          ],
          "choropleth": [
           {
            "colorbar": {
             "outlinewidth": 0,
             "ticks": ""
            },
            "type": "choropleth"
           }
          ],
          "contour": [
           {
            "colorbar": {
             "outlinewidth": 0,
             "ticks": ""
            },
            "colorscale": [
             [
              0,
              "#0d0887"
             ],
             [
              0.1111111111111111,
              "#46039f"
             ],
             [
              0.2222222222222222,
              "#7201a8"
             ],
             [
              0.3333333333333333,
              "#9c179e"
             ],
             [
              0.4444444444444444,
              "#bd3786"
             ],
             [
              0.5555555555555556,
              "#d8576b"
             ],
             [
              0.6666666666666666,
              "#ed7953"
             ],
             [
              0.7777777777777778,
              "#fb9f3a"
             ],
             [
              0.8888888888888888,
              "#fdca26"
             ],
             [
              1,
              "#f0f921"
             ]
            ],
            "type": "contour"
           }
          ],
          "contourcarpet": [
           {
            "colorbar": {
             "outlinewidth": 0,
             "ticks": ""
            },
            "type": "contourcarpet"
           }
          ],
          "heatmap": [
           {
            "colorbar": {
             "outlinewidth": 0,
             "ticks": ""
            },
            "colorscale": [
             [
              0,
              "#0d0887"
             ],
             [
              0.1111111111111111,
              "#46039f"
             ],
             [
              0.2222222222222222,
              "#7201a8"
             ],
             [
              0.3333333333333333,
              "#9c179e"
             ],
             [
              0.4444444444444444,
              "#bd3786"
             ],
             [
              0.5555555555555556,
              "#d8576b"
             ],
             [
              0.6666666666666666,
              "#ed7953"
             ],
             [
              0.7777777777777778,
              "#fb9f3a"
             ],
             [
              0.8888888888888888,
              "#fdca26"
             ],
             [
              1,
              "#f0f921"
             ]
            ],
            "type": "heatmap"
           }
          ],
          "histogram": [
           {
            "marker": {
             "pattern": {
              "fillmode": "overlay",
              "size": 10,
              "solidity": 0.2
             }
            },
            "type": "histogram"
           }
          ],
          "histogram2d": [
           {
            "colorbar": {
             "outlinewidth": 0,
             "ticks": ""
            },
            "colorscale": [
             [
              0,
              "#0d0887"
             ],
             [
              0.1111111111111111,
              "#46039f"
             ],
             [
              0.2222222222222222,
              "#7201a8"
             ],
             [
              0.3333333333333333,
              "#9c179e"
             ],
             [
              0.4444444444444444,
              "#bd3786"
             ],
             [
              0.5555555555555556,
              "#d8576b"
             ],
             [
              0.6666666666666666,
              "#ed7953"
             ],
             [
              0.7777777777777778,
              "#fb9f3a"
             ],
             [
              0.8888888888888888,
              "#fdca26"
             ],
             [
              1,
              "#f0f921"
             ]
            ],
            "type": "histogram2d"
           }
          ],
          "histogram2dcontour": [
           {
            "colorbar": {
             "outlinewidth": 0,
             "ticks": ""
            },
            "colorscale": [
             [
              0,
              "#0d0887"
             ],
             [
              0.1111111111111111,
              "#46039f"
             ],
             [
              0.2222222222222222,
              "#7201a8"
             ],
             [
              0.3333333333333333,
              "#9c179e"
             ],
             [
              0.4444444444444444,
              "#bd3786"
             ],
             [
              0.5555555555555556,
              "#d8576b"
             ],
             [
              0.6666666666666666,
              "#ed7953"
             ],
             [
              0.7777777777777778,
              "#fb9f3a"
             ],
             [
              0.8888888888888888,
              "#fdca26"
             ],
             [
              1,
              "#f0f921"
             ]
            ],
            "type": "histogram2dcontour"
           }
          ],
          "mesh3d": [
           {
            "colorbar": {
             "outlinewidth": 0,
             "ticks": ""
            },
            "type": "mesh3d"
           }
          ],
          "parcoords": [
           {
            "line": {
             "colorbar": {
              "outlinewidth": 0,
              "ticks": ""
             }
            },
            "type": "parcoords"
           }
          ],
          "pie": [
           {
            "automargin": true,
            "type": "pie"
           }
          ],
          "scatter": [
           {
            "fillpattern": {
             "fillmode": "overlay",
             "size": 10,
             "solidity": 0.2
            },
            "type": "scatter"
           }
          ],
          "scatter3d": [
           {
            "line": {
             "colorbar": {
              "outlinewidth": 0,
              "ticks": ""
             }
            },
            "marker": {
             "colorbar": {
              "outlinewidth": 0,
              "ticks": ""
             }
            },
            "type": "scatter3d"
           }
          ],
          "scattercarpet": [
           {
            "marker": {
             "colorbar": {
              "outlinewidth": 0,
              "ticks": ""
             }
            },
            "type": "scattercarpet"
           }
          ],
          "scattergeo": [
           {
            "marker": {
             "colorbar": {
              "outlinewidth": 0,
              "ticks": ""
             }
            },
            "type": "scattergeo"
           }
          ],
          "scattergl": [
           {
            "marker": {
             "colorbar": {
              "outlinewidth": 0,
              "ticks": ""
             }
            },
            "type": "scattergl"
           }
          ],
          "scattermap": [
           {
            "marker": {
             "colorbar": {
              "outlinewidth": 0,
              "ticks": ""
             }
            },
            "type": "scattermap"
           }
          ],
          "scattermapbox": [
           {
            "marker": {
             "colorbar": {
              "outlinewidth": 0,
              "ticks": ""
             }
            },
            "type": "scattermapbox"
           }
          ],
          "scatterpolar": [
           {
            "marker": {
             "colorbar": {
              "outlinewidth": 0,
              "ticks": ""
             }
            },
            "type": "scatterpolar"
           }
          ],
          "scatterpolargl": [
           {
            "marker": {
             "colorbar": {
              "outlinewidth": 0,
              "ticks": ""
             }
            },
            "type": "scatterpolargl"
           }
          ],
          "scatterternary": [
           {
            "marker": {
             "colorbar": {
              "outlinewidth": 0,
              "ticks": ""
             }
            },
            "type": "scatterternary"
           }
          ],
          "surface": [
           {
            "colorbar": {
             "outlinewidth": 0,
             "ticks": ""
            },
            "colorscale": [
             [
              0,
              "#0d0887"
             ],
             [
              0.1111111111111111,
              "#46039f"
             ],
             [
              0.2222222222222222,
              "#7201a8"
             ],
             [
              0.3333333333333333,
              "#9c179e"
             ],
             [
              0.4444444444444444,
              "#bd3786"
             ],
             [
              0.5555555555555556,
              "#d8576b"
             ],
             [
              0.6666666666666666,
              "#ed7953"
             ],
             [
              0.7777777777777778,
              "#fb9f3a"
             ],
             [
              0.8888888888888888,
              "#fdca26"
             ],
             [
              1,
              "#f0f921"
             ]
            ],
            "type": "surface"
           }
          ],
          "table": [
           {
            "cells": {
             "fill": {
              "color": "#EBF0F8"
             },
             "line": {
              "color": "white"
             }
            },
            "header": {
             "fill": {
              "color": "#C8D4E3"
             },
             "line": {
              "color": "white"
             }
            },
            "type": "table"
           }
          ]
         },
         "layout": {
          "annotationdefaults": {
           "arrowcolor": "#2a3f5f",
           "arrowhead": 0,
           "arrowwidth": 1
          },
          "autotypenumbers": "strict",
          "coloraxis": {
           "colorbar": {
            "outlinewidth": 0,
            "ticks": ""
           }
          },
          "colorscale": {
           "diverging": [
            [
             0,
             "#8e0152"
            ],
            [
             0.1,
             "#c51b7d"
            ],
            [
             0.2,
             "#de77ae"
            ],
            [
             0.3,
             "#f1b6da"
            ],
            [
             0.4,
             "#fde0ef"
            ],
            [
             0.5,
             "#f7f7f7"
            ],
            [
             0.6,
             "#e6f5d0"
            ],
            [
             0.7,
             "#b8e186"
            ],
            [
             0.8,
             "#7fbc41"
            ],
            [
             0.9,
             "#4d9221"
            ],
            [
             1,
             "#276419"
            ]
           ],
           "sequential": [
            [
             0,
             "#0d0887"
            ],
            [
             0.1111111111111111,
             "#46039f"
            ],
            [
             0.2222222222222222,
             "#7201a8"
            ],
            [
             0.3333333333333333,
             "#9c179e"
            ],
            [
             0.4444444444444444,
             "#bd3786"
            ],
            [
             0.5555555555555556,
             "#d8576b"
            ],
            [
             0.6666666666666666,
             "#ed7953"
            ],
            [
             0.7777777777777778,
             "#fb9f3a"
            ],
            [
             0.8888888888888888,
             "#fdca26"
            ],
            [
             1,
             "#f0f921"
            ]
           ],
           "sequentialminus": [
            [
             0,
             "#0d0887"
            ],
            [
             0.1111111111111111,
             "#46039f"
            ],
            [
             0.2222222222222222,
             "#7201a8"
            ],
            [
             0.3333333333333333,
             "#9c179e"
            ],
            [
             0.4444444444444444,
             "#bd3786"
            ],
            [
             0.5555555555555556,
             "#d8576b"
            ],
            [
             0.6666666666666666,
             "#ed7953"
            ],
            [
             0.7777777777777778,
             "#fb9f3a"
            ],
            [
             0.8888888888888888,
             "#fdca26"
            ],
            [
             1,
             "#f0f921"
            ]
           ]
          },
          "colorway": [
           "#636efa",
           "#EF553B",
           "#00cc96",
           "#ab63fa",
           "#FFA15A",
           "#19d3f3",
           "#FF6692",
           "#B6E880",
           "#FF97FF",
           "#FECB52"
          ],
          "font": {
           "color": "#2a3f5f"
          },
          "geo": {
           "bgcolor": "white",
           "lakecolor": "white",
           "landcolor": "#E5ECF6",
           "showlakes": true,
           "showland": true,
           "subunitcolor": "white"
          },
          "hoverlabel": {
           "align": "left"
          },
          "hovermode": "closest",
          "mapbox": {
           "style": "light"
          },
          "paper_bgcolor": "white",
          "plot_bgcolor": "#E5ECF6",
          "polar": {
           "angularaxis": {
            "gridcolor": "white",
            "linecolor": "white",
            "ticks": ""
           },
           "bgcolor": "#E5ECF6",
           "radialaxis": {
            "gridcolor": "white",
            "linecolor": "white",
            "ticks": ""
           }
          },
          "scene": {
           "xaxis": {
            "backgroundcolor": "#E5ECF6",
            "gridcolor": "white",
            "gridwidth": 2,
            "linecolor": "white",
            "showbackground": true,
            "ticks": "",
            "zerolinecolor": "white"
           },
           "yaxis": {
            "backgroundcolor": "#E5ECF6",
            "gridcolor": "white",
            "gridwidth": 2,
            "linecolor": "white",
            "showbackground": true,
            "ticks": "",
            "zerolinecolor": "white"
           },
           "zaxis": {
            "backgroundcolor": "#E5ECF6",
            "gridcolor": "white",
            "gridwidth": 2,
            "linecolor": "white",
            "showbackground": true,
            "ticks": "",
            "zerolinecolor": "white"
           }
          },
          "shapedefaults": {
           "line": {
            "color": "#2a3f5f"
           }
          },
          "ternary": {
           "aaxis": {
            "gridcolor": "white",
            "linecolor": "white",
            "ticks": ""
           },
           "baxis": {
            "gridcolor": "white",
            "linecolor": "white",
            "ticks": ""
           },
           "bgcolor": "#E5ECF6",
           "caxis": {
            "gridcolor": "white",
            "linecolor": "white",
            "ticks": ""
           }
          },
          "title": {
           "x": 0.05
          },
          "xaxis": {
           "automargin": true,
           "gridcolor": "white",
           "linecolor": "white",
           "ticks": "",
           "title": {
            "standoff": 15
           },
           "zerolinecolor": "white",
           "zerolinewidth": 2
          },
          "yaxis": {
           "automargin": true,
           "gridcolor": "white",
           "linecolor": "white",
           "ticks": "",
           "title": {
            "standoff": 15
           },
           "zerolinecolor": "white",
           "zerolinewidth": 2
          }
         }
        },
        "title": {
         "text": "United states: United states existing home sales"
        },
        "xaxis": {
         "anchor": "y",
         "domain": [
          0,
          1
         ],
         "title": {
          "text": ""
         }
        },
        "yaxis": {
         "anchor": "x",
         "domain": [
          0,
          1
         ],
         "title": {
          "text": "Thousand"
         }
        }
       }
      }
     },
     "metadata": {},
     "output_type": "display_data"
    }
   ],
   "source": [
    "scrup.plot_series()  ## Plot the series."
   ]
  },
  {
   "cell_type": "code",
   "execution_count": 29,
   "metadata": {},
   "outputs": [
    {
     "name": "stderr",
     "output_type": "stream",
     "text": [
      "INFO - Date span set to custom range: 1900-01-01 to 2025-03-11 (using JavaScript)\n"
     ]
    },
    {
     "data": {
      "text/plain": [
       "True"
      ]
     },
     "execution_count": 29,
     "metadata": {},
     "output_type": "execute_result"
    }
   ],
   "source": [
    "scrup.custom_date_span_js()  ## Use the custom_date_span_js method to set the date span for the series."
   ]
  },
  {
   "cell_type": "code",
   "execution_count": 5,
   "metadata": {},
   "outputs": [
    {
     "name": "stderr",
     "output_type": "stream",
     "text": [
      "INFO - New firefox webdriver created.\n",
      "INFO - scrape_chart function: Scraping chart at: https://tradingeconomics.com/united-states/business-confidence, time: 2025-02-27 12:34:34.335391, method: path\n",
      "INFO - Chart types dictionary created successfully: dict_keys(['Column', 'Spline', 'Areaspline', 'Stepline', 'Line', 'Area'])\n",
      "INFO - Date span set to: 1Y\n",
      "INFO - \n",
      "Series metadata: \n",
      " {'units': 'points', 'original_source': 'Institute for Supply Management', 'title': 'United States ISM Manufacturing PMI', 'indicator': 'business confidence', 'country': 'united states', 'source': 'Trading Economics', 'id': 'united-states/business-confidence'}\n"
     ]
    },
    {
     "name": "stdout",
     "output_type": "stream",
     "text": [
      "Using selenium and tooltip scraping to construct the date time index for the time-series, this'll take a bit...\n",
      "Attempting to select chart type:  Spline clicking top button....\n"
     ]
    },
    {
     "name": "stderr",
     "output_type": "stream",
     "text": [
      "INFO - Chart type set to: Spline\n"
     ]
    },
    {
     "name": "stdout",
     "output_type": "stream",
     "text": [
      "Time taken to select chart type: 3.4131791529944167\n",
      "Time taken to load JS code: 0.0008303109789267182\n",
      "Time taken to execute JS code: 2.767069596971851\n",
      "Latest dates:  ['Jan 2025', 'Dec 2024', 'Nov 2024', 'Oct 2024', 'Sep 2024', 'Aug 2024', 'Jul 2024', 'Jun 2024', 'May 2024', 'Apr 2024']\n",
      "Frequency of time-series:  MS\n",
      "get_xlims_from_tooltips method: date_span:  1Y , chart_type: splineChart\n",
      "Attempting to select chart type:  Spline clicking top button....\n"
     ]
    },
    {
     "name": "stderr",
     "output_type": "stream",
     "text": [
      "INFO - Chart type set to: Spline\n"
     ]
    },
    {
     "name": "stdout",
     "output_type": "stream",
     "text": [
      "Got chart dimensions and plot background element.\n"
     ]
    },
    {
     "name": "stderr",
     "output_type": "stream",
     "text": [
      "INFO - Start and end values scraped from tooltips: \n",
      "{'start_date': Timestamp('1948-01-01 00:00:00'), 'start_value': 51.7, 'end_date': Timestamp('2025-01-01 00:00:00'), 'end_value': 50.9}\n",
      "INFO - DateTimeIndex created successfully for the time-series.\n",
      "INFO - Y-axis values scraped successfully.\n",
      "INFO - Series path extraction method: Extracting series data from chart soup.\n",
      "INFO - Date span: MAX. Chart type: splineChart, URL: https://tradingeconomics.com/united-states/business-confidence.\n",
      "INFO - DateTimeIndex applied to series, series attribute updated.\n",
      "INFO - Successfully scaled series.\n",
      "INFO - Successfully scraped time-series from chart at:  https://tradingeconomics.com/united-states/business-confidence, now getting some metadata...\n"
     ]
    },
    {
     "name": "stdout",
     "output_type": "stream",
     "text": [
      "Got metadata. \n",
      "\n",
      "Series tail: 2024-09-01    47.5\n",
      "2024-10-01    46.9\n",
      "2024-11-01    48.4\n",
      "2024-12-01    49.2\n",
      "2025-01-01    50.9\n",
      "Freq: MS, Name: business confidence, dtype: float64 \n",
      "\n",
      "Scraping complete! Happy pirating yo!\n"
     ]
    }
   ],
   "source": [
    "scrud = ted.scrape_chart(id = \"business-confidence\", method = \"path\", use_existing_driver=True, headless=True) ## Using chart id from the url only, country is \"united-states\" by default."
   ]
  },
  {
   "cell_type": "code",
   "execution_count": 11,
   "metadata": {},
   "outputs": [],
   "source": [
    "pathout = scrud.series.copy()"
   ]
  },
  {
   "cell_type": "code",
   "execution_count": 15,
   "metadata": {},
   "outputs": [
    {
     "name": "stderr",
     "output_type": "stream",
     "text": [
      "INFO - scrape_chart function: Scraping chart at: https://tradingeconomics.com/united-states/business-confidence, time: 2025-02-28 10:49:43.404621, method: tooltips\n",
      "INFO - Chart types dictionary created successfully: dict_keys(['Column', 'Spline', 'Areaspline', 'Stepline', 'Line', 'Area'])\n",
      "INFO - Date span set to: 1Y\n",
      "INFO - \n",
      "Series metadata: \n",
      " {'units': 'points', 'original_source': 'Institute for Supply Management', 'title': 'United States ISM Manufacturing PMI', 'indicator': 'business confidence', 'country': 'united states', 'source': 'Trading Economics', 'id': 'united-states/business-confidence'}\n",
      "INFO - TooltipScraper object initialised successfully.\n"
     ]
    },
    {
     "name": "stdout",
     "output_type": "stream",
     "text": [
      "Attempting to select chart type:  Spline clicking top button....\n"
     ]
    },
    {
     "name": "stderr",
     "output_type": "stream",
     "text": [
      "INFO - Error clicking button: Message: The element with the reference b38283ba-dbc3-40bc-8da8-4b8ddd360ca1 is stale; either its node document is not the active document, or it is no longer connected to the DOM; For documentation on this error, please visit: https://www.selenium.dev/documentation/webdriver/troubleshooting/errors#stale-element-reference-exception\n",
      "Stacktrace:\n",
      "RemoteError@chrome://remote/content/shared/RemoteError.sys.mjs:8:8\n",
      "WebDriverError@chrome://remote/content/shared/webdriver/Errors.sys.mjs:193:5\n",
      "StaleElementReferenceError@chrome://remote/content/shared/webdriver/Errors.sys.mjs:725:5\n",
      "getKnownElement@chrome://remote/content/marionette/json.sys.mjs:405:11\n",
      "deserializeJSON@chrome://remote/content/marionette/json.sys.mjs:263:20\n",
      "cloneObject@chrome://remote/content/marionette/json.sys.mjs:59:24\n",
      "deserializeJSON@chrome://remote/content/marionette/json.sys.mjs:293:16\n",
      "json.deserialize@chrome://remote/content/marionette/json.sys.mjs:297:10\n",
      "receiveMessage@chrome://remote/content/marionette/actors/MarionetteCommandsChild.sys.mjs:182:30\n",
      "\n"
     ]
    },
    {
     "name": "stdout",
     "output_type": "stream",
     "text": [
      "Attempting to select chart type:  Spline clicking top button....\n"
     ]
    },
    {
     "name": "stderr",
     "output_type": "stream",
     "text": [
      "INFO - Chart type set to: Spline\n"
     ]
    },
    {
     "name": "stdout",
     "output_type": "stream",
     "text": [
      "Time taken to select chart type: 4.210678669041954\n",
      "Time taken to load JS code: 0.0009725050185807049\n"
     ]
    },
    {
     "name": "stderr",
     "output_type": "stream",
     "text": [
      "INFO - Successfully scraped full series from tooltips.\n",
      "INFO - Frequency of the series is unknown or irregular, the tooltip scraping may have missed points. Retry scraping using 'path' method instead of 'tooltips'.\n",
      "INFO - Successfully scraped full series from tooltips.\n"
     ]
    },
    {
     "name": "stdout",
     "output_type": "stream",
     "text": [
      "Time taken to execute JS code: 6.678670155000873\n"
     ]
    }
   ],
   "source": [
    "scruf = ted.scrape_chart(id = \"business-confidence\", method = \"tooltips\", use_existing_driver=True, headless=True) ## Using chart id from the url only, country is \"united-states\" by default."
   ]
  },
  {
   "cell_type": "code",
   "execution_count": 18,
   "metadata": {},
   "outputs": [
    {
     "data": {
      "text/plain": [
       "1948-02-01    50.2\n",
       "1948-04-01    45.4\n",
       "1948-05-01    49.5\n",
       "1948-07-01    48.4\n",
       "1948-08-01    45.1\n",
       "              ... \n",
       "2024-06-01    48.3\n",
       "2024-08-01    47.5\n",
       "2024-09-01    47.5\n",
       "2024-10-01    46.9\n",
       "2024-12-01    49.2\n",
       "Name: United States ISM Manufacturing PMI, Length: 672, dtype: float64"
      ]
     },
     "execution_count": 18,
     "metadata": {},
     "output_type": "execute_result"
    }
   ],
   "source": [
    "scruf.series"
   ]
  },
  {
   "cell_type": "code",
   "execution_count": 19,
   "metadata": {},
   "outputs": [
    {
     "data": {
      "application/vnd.plotly.v1+json": {
       "config": {
        "plotlyServerURL": "https://plot.ly"
       },
       "data": [
        {
         "hovertemplate": "variable=United States ISM Manufacturing PMI<br>index=%{x}<br>value=%{y}<extra></extra>",
         "legendgroup": "United States ISM Manufacturing PMI",
         "line": {
          "color": "#636efa",
          "dash": "solid"
         },
         "marker": {
          "symbol": "circle"
         },
         "mode": "lines",
         "name": "United States ISM Manufacturing PMI",
         "orientation": "v",
         "showlegend": true,
         "type": "scatter",
         "x": [
          "1948-02-01T00:00:00.000000000",
          "1948-04-01T00:00:00.000000000",
          "1948-05-01T00:00:00.000000000",
          "1948-07-01T00:00:00.000000000",
          "1948-08-01T00:00:00.000000000",
          "1948-09-01T00:00:00.000000000",
          "1948-11-01T00:00:00.000000000",
          "1948-12-01T00:00:00.000000000",
          "1949-01-01T00:00:00.000000000",
          "1949-03-01T00:00:00.000000000",
          "1949-04-01T00:00:00.000000000",
          "1949-05-01T00:00:00.000000000",
          "1949-07-01T00:00:00.000000000",
          "1949-08-01T00:00:00.000000000",
          "1949-10-01T00:00:00.000000000",
          "1949-11-01T00:00:00.000000000",
          "1949-12-01T00:00:00.000000000",
          "1950-02-01T00:00:00.000000000",
          "1950-03-01T00:00:00.000000000",
          "1950-04-01T00:00:00.000000000",
          "1950-06-01T00:00:00.000000000",
          "1950-07-01T00:00:00.000000000",
          "1950-09-01T00:00:00.000000000",
          "1950-10-01T00:00:00.000000000",
          "1950-11-01T00:00:00.000000000",
          "1951-01-01T00:00:00.000000000",
          "1951-02-01T00:00:00.000000000",
          "1951-03-01T00:00:00.000000000",
          "1951-05-01T00:00:00.000000000",
          "1951-06-01T00:00:00.000000000",
          "1951-08-01T00:00:00.000000000",
          "1951-09-01T00:00:00.000000000",
          "1951-10-01T00:00:00.000000000",
          "1951-12-01T00:00:00.000000000",
          "1952-01-01T00:00:00.000000000",
          "1952-02-01T00:00:00.000000000",
          "1952-04-01T00:00:00.000000000",
          "1952-05-01T00:00:00.000000000",
          "1952-07-01T00:00:00.000000000",
          "1952-08-01T00:00:00.000000000",
          "1952-09-01T00:00:00.000000000",
          "1952-11-01T00:00:00.000000000",
          "1952-12-01T00:00:00.000000000",
          "1953-01-01T00:00:00.000000000",
          "1953-03-01T00:00:00.000000000",
          "1953-04-01T00:00:00.000000000",
          "1953-06-01T00:00:00.000000000",
          "1953-07-01T00:00:00.000000000",
          "1953-08-01T00:00:00.000000000",
          "1953-10-01T00:00:00.000000000",
          "1953-11-01T00:00:00.000000000",
          "1953-12-01T00:00:00.000000000",
          "1954-02-01T00:00:00.000000000",
          "1954-03-01T00:00:00.000000000",
          "1954-05-01T00:00:00.000000000",
          "1954-06-01T00:00:00.000000000",
          "1954-07-01T00:00:00.000000000",
          "1954-09-01T00:00:00.000000000",
          "1954-10-01T00:00:00.000000000",
          "1954-11-01T00:00:00.000000000",
          "1955-01-01T00:00:00.000000000",
          "1955-02-01T00:00:00.000000000",
          "1955-04-01T00:00:00.000000000",
          "1955-05-01T00:00:00.000000000",
          "1955-06-01T00:00:00.000000000",
          "1955-08-01T00:00:00.000000000",
          "1955-09-01T00:00:00.000000000",
          "1955-10-01T00:00:00.000000000",
          "1955-12-01T00:00:00.000000000",
          "1956-01-01T00:00:00.000000000",
          "1956-02-01T00:00:00.000000000",
          "1956-04-01T00:00:00.000000000",
          "1956-05-01T00:00:00.000000000",
          "1956-07-01T00:00:00.000000000",
          "1956-08-01T00:00:00.000000000",
          "1956-09-01T00:00:00.000000000",
          "1956-11-01T00:00:00.000000000",
          "1956-12-01T00:00:00.000000000",
          "1957-01-01T00:00:00.000000000",
          "1957-03-01T00:00:00.000000000",
          "1957-04-01T00:00:00.000000000",
          "1957-06-01T00:00:00.000000000",
          "1957-07-01T00:00:00.000000000",
          "1957-08-01T00:00:00.000000000",
          "1957-10-01T00:00:00.000000000",
          "1957-11-01T00:00:00.000000000",
          "1957-12-01T00:00:00.000000000",
          "1958-02-01T00:00:00.000000000",
          "1958-03-01T00:00:00.000000000",
          "1958-05-01T00:00:00.000000000",
          "1958-06-01T00:00:00.000000000",
          "1958-07-01T00:00:00.000000000",
          "1958-09-01T00:00:00.000000000",
          "1958-10-01T00:00:00.000000000",
          "1958-11-01T00:00:00.000000000",
          "1959-01-01T00:00:00.000000000",
          "1959-02-01T00:00:00.000000000",
          "1959-04-01T00:00:00.000000000",
          "1959-05-01T00:00:00.000000000",
          "1959-06-01T00:00:00.000000000",
          "1959-08-01T00:00:00.000000000",
          "1959-09-01T00:00:00.000000000",
          "1959-10-01T00:00:00.000000000",
          "1959-12-01T00:00:00.000000000",
          "1960-01-01T00:00:00.000000000",
          "1960-03-01T00:00:00.000000000",
          "1960-04-01T00:00:00.000000000",
          "1960-05-01T00:00:00.000000000",
          "1960-07-01T00:00:00.000000000",
          "1960-08-01T00:00:00.000000000",
          "1960-09-01T00:00:00.000000000",
          "1960-11-01T00:00:00.000000000",
          "1960-12-01T00:00:00.000000000",
          "1961-01-01T00:00:00.000000000",
          "1961-03-01T00:00:00.000000000",
          "1961-04-01T00:00:00.000000000",
          "1961-06-01T00:00:00.000000000",
          "1961-07-01T00:00:00.000000000",
          "1961-08-01T00:00:00.000000000",
          "1961-10-01T00:00:00.000000000",
          "1961-11-01T00:00:00.000000000",
          "1961-12-01T00:00:00.000000000",
          "1962-02-01T00:00:00.000000000",
          "1962-03-01T00:00:00.000000000",
          "1962-05-01T00:00:00.000000000",
          "1962-06-01T00:00:00.000000000",
          "1962-07-01T00:00:00.000000000",
          "1962-09-01T00:00:00.000000000",
          "1962-10-01T00:00:00.000000000",
          "1962-11-01T00:00:00.000000000",
          "1963-01-01T00:00:00.000000000",
          "1963-02-01T00:00:00.000000000",
          "1963-04-01T00:00:00.000000000",
          "1963-05-01T00:00:00.000000000",
          "1963-06-01T00:00:00.000000000",
          "1963-08-01T00:00:00.000000000",
          "1963-09-01T00:00:00.000000000",
          "1963-10-01T00:00:00.000000000",
          "1963-12-01T00:00:00.000000000",
          "1964-01-01T00:00:00.000000000",
          "1964-03-01T00:00:00.000000000",
          "1964-04-01T00:00:00.000000000",
          "1964-05-01T00:00:00.000000000",
          "1964-07-01T00:00:00.000000000",
          "1964-08-01T00:00:00.000000000",
          "1964-09-01T00:00:00.000000000",
          "1964-11-01T00:00:00.000000000",
          "1964-12-01T00:00:00.000000000",
          "1965-02-01T00:00:00.000000000",
          "1965-03-01T00:00:00.000000000",
          "1965-04-01T00:00:00.000000000",
          "1965-06-01T00:00:00.000000000",
          "1965-07-01T00:00:00.000000000",
          "1965-08-01T00:00:00.000000000",
          "1965-10-01T00:00:00.000000000",
          "1965-11-01T00:00:00.000000000",
          "1966-01-01T00:00:00.000000000",
          "1966-02-01T00:00:00.000000000",
          "1966-03-01T00:00:00.000000000",
          "1966-05-01T00:00:00.000000000",
          "1966-06-01T00:00:00.000000000",
          "1966-07-01T00:00:00.000000000",
          "1966-09-01T00:00:00.000000000",
          "1966-10-01T00:00:00.000000000",
          "1966-12-01T00:00:00.000000000",
          "1967-01-01T00:00:00.000000000",
          "1967-02-01T00:00:00.000000000",
          "1967-04-01T00:00:00.000000000",
          "1967-05-01T00:00:00.000000000",
          "1967-06-01T00:00:00.000000000",
          "1967-08-01T00:00:00.000000000",
          "1967-09-01T00:00:00.000000000",
          "1967-11-01T00:00:00.000000000",
          "1967-12-01T00:00:00.000000000",
          "1968-01-01T00:00:00.000000000",
          "1968-03-01T00:00:00.000000000",
          "1968-04-01T00:00:00.000000000",
          "1968-05-01T00:00:00.000000000",
          "1968-07-01T00:00:00.000000000",
          "1968-08-01T00:00:00.000000000",
          "1968-10-01T00:00:00.000000000",
          "1968-11-01T00:00:00.000000000",
          "1968-12-01T00:00:00.000000000",
          "1969-02-01T00:00:00.000000000",
          "1969-03-01T00:00:00.000000000",
          "1969-04-01T00:00:00.000000000",
          "1969-06-01T00:00:00.000000000",
          "1969-07-01T00:00:00.000000000",
          "1969-08-01T00:00:00.000000000",
          "1969-10-01T00:00:00.000000000",
          "1969-11-01T00:00:00.000000000",
          "1970-01-01T00:00:00.000000000",
          "1970-02-01T00:00:00.000000000",
          "1970-03-01T00:00:00.000000000",
          "1970-05-01T00:00:00.000000000",
          "1970-06-01T00:00:00.000000000",
          "1970-08-01T00:00:00.000000000",
          "1970-09-01T00:00:00.000000000",
          "1970-10-01T00:00:00.000000000",
          "1970-12-01T00:00:00.000000000",
          "1971-01-01T00:00:00.000000000",
          "1971-02-01T00:00:00.000000000",
          "1971-04-01T00:00:00.000000000",
          "1971-05-01T00:00:00.000000000",
          "1971-07-01T00:00:00.000000000",
          "1971-08-01T00:00:00.000000000",
          "1971-09-01T00:00:00.000000000",
          "1971-11-01T00:00:00.000000000",
          "1971-12-01T00:00:00.000000000",
          "1972-01-01T00:00:00.000000000",
          "1972-03-01T00:00:00.000000000",
          "1972-04-01T00:00:00.000000000",
          "1972-05-01T00:00:00.000000000",
          "1972-07-01T00:00:00.000000000",
          "1972-08-01T00:00:00.000000000",
          "1972-10-01T00:00:00.000000000",
          "1972-11-01T00:00:00.000000000",
          "1972-12-01T00:00:00.000000000",
          "1973-02-01T00:00:00.000000000",
          "1973-03-01T00:00:00.000000000",
          "1973-04-01T00:00:00.000000000",
          "1973-06-01T00:00:00.000000000",
          "1973-07-01T00:00:00.000000000",
          "1973-09-01T00:00:00.000000000",
          "1973-10-01T00:00:00.000000000",
          "1973-11-01T00:00:00.000000000",
          "1974-01-01T00:00:00.000000000",
          "1974-02-01T00:00:00.000000000",
          "1974-03-01T00:00:00.000000000",
          "1974-05-01T00:00:00.000000000",
          "1974-06-01T00:00:00.000000000",
          "1974-08-01T00:00:00.000000000",
          "1974-09-01T00:00:00.000000000",
          "1974-10-01T00:00:00.000000000",
          "1974-12-01T00:00:00.000000000",
          "1975-01-01T00:00:00.000000000",
          "1975-02-01T00:00:00.000000000",
          "1975-04-01T00:00:00.000000000",
          "1975-05-01T00:00:00.000000000",
          "1975-07-01T00:00:00.000000000",
          "1975-08-01T00:00:00.000000000",
          "1975-09-01T00:00:00.000000000",
          "1975-11-01T00:00:00.000000000",
          "1975-12-01T00:00:00.000000000",
          "1976-01-01T00:00:00.000000000",
          "1976-03-01T00:00:00.000000000",
          "1976-04-01T00:00:00.000000000",
          "1976-06-01T00:00:00.000000000",
          "1976-07-01T00:00:00.000000000",
          "1976-08-01T00:00:00.000000000",
          "1976-10-01T00:00:00.000000000",
          "1976-11-01T00:00:00.000000000",
          "1976-12-01T00:00:00.000000000",
          "1977-02-01T00:00:00.000000000",
          "1977-03-01T00:00:00.000000000",
          "1977-05-01T00:00:00.000000000",
          "1977-06-01T00:00:00.000000000",
          "1977-07-01T00:00:00.000000000",
          "1977-09-01T00:00:00.000000000",
          "1977-10-01T00:00:00.000000000",
          "1977-11-01T00:00:00.000000000",
          "1978-01-01T00:00:00.000000000",
          "1978-02-01T00:00:00.000000000",
          "1978-04-01T00:00:00.000000000",
          "1978-05-01T00:00:00.000000000",
          "1978-06-01T00:00:00.000000000",
          "1978-08-01T00:00:00.000000000",
          "1978-09-01T00:00:00.000000000",
          "1978-10-01T00:00:00.000000000",
          "1978-12-01T00:00:00.000000000",
          "1979-01-01T00:00:00.000000000",
          "1979-02-01T00:00:00.000000000",
          "1979-04-01T00:00:00.000000000",
          "1979-05-01T00:00:00.000000000",
          "1979-07-01T00:00:00.000000000",
          "1979-08-01T00:00:00.000000000",
          "1979-09-01T00:00:00.000000000",
          "1979-11-01T00:00:00.000000000",
          "1979-12-01T00:00:00.000000000",
          "1980-01-01T00:00:00.000000000",
          "1980-03-01T00:00:00.000000000",
          "1980-04-01T00:00:00.000000000",
          "1980-06-01T00:00:00.000000000",
          "1980-07-01T00:00:00.000000000",
          "1980-08-01T00:00:00.000000000",
          "1980-10-01T00:00:00.000000000",
          "1980-11-01T00:00:00.000000000",
          "1980-12-01T00:00:00.000000000",
          "1981-02-01T00:00:00.000000000",
          "1981-03-01T00:00:00.000000000",
          "1981-05-01T00:00:00.000000000",
          "1981-06-01T00:00:00.000000000",
          "1981-07-01T00:00:00.000000000",
          "1981-09-01T00:00:00.000000000",
          "1981-10-01T00:00:00.000000000",
          "1981-11-01T00:00:00.000000000",
          "1982-01-01T00:00:00.000000000",
          "1982-02-01T00:00:00.000000000",
          "1982-04-01T00:00:00.000000000",
          "1982-05-01T00:00:00.000000000",
          "1982-06-01T00:00:00.000000000",
          "1982-08-01T00:00:00.000000000",
          "1982-09-01T00:00:00.000000000",
          "1982-10-01T00:00:00.000000000",
          "1982-12-01T00:00:00.000000000",
          "1983-01-01T00:00:00.000000000",
          "1983-03-01T00:00:00.000000000",
          "1983-04-01T00:00:00.000000000",
          "1983-05-01T00:00:00.000000000",
          "1983-07-01T00:00:00.000000000",
          "1983-08-01T00:00:00.000000000",
          "1983-09-01T00:00:00.000000000",
          "1983-11-01T00:00:00.000000000",
          "1983-12-01T00:00:00.000000000",
          "1984-01-01T00:00:00.000000000",
          "1984-03-01T00:00:00.000000000",
          "1984-04-01T00:00:00.000000000",
          "1984-06-01T00:00:00.000000000",
          "1984-07-01T00:00:00.000000000",
          "1984-08-01T00:00:00.000000000",
          "1984-10-01T00:00:00.000000000",
          "1984-11-01T00:00:00.000000000",
          "1984-12-01T00:00:00.000000000",
          "1985-02-01T00:00:00.000000000",
          "1985-03-01T00:00:00.000000000",
          "1985-05-01T00:00:00.000000000",
          "1985-06-01T00:00:00.000000000",
          "1985-07-01T00:00:00.000000000",
          "1985-09-01T00:00:00.000000000",
          "1985-10-01T00:00:00.000000000",
          "1985-11-01T00:00:00.000000000",
          "1986-01-01T00:00:00.000000000",
          "1986-02-01T00:00:00.000000000",
          "1986-04-01T00:00:00.000000000",
          "1986-05-01T00:00:00.000000000",
          "1986-06-01T00:00:00.000000000",
          "1986-08-01T00:00:00.000000000",
          "1986-09-01T00:00:00.000000000",
          "1986-10-01T00:00:00.000000000",
          "1986-12-01T00:00:00.000000000",
          "1987-01-01T00:00:00.000000000",
          "1987-03-01T00:00:00.000000000",
          "1987-04-01T00:00:00.000000000",
          "1987-05-01T00:00:00.000000000",
          "1987-07-01T00:00:00.000000000",
          "1987-08-01T00:00:00.000000000",
          "1987-09-01T00:00:00.000000000",
          "1987-11-01T00:00:00.000000000",
          "1987-12-01T00:00:00.000000000",
          "1988-02-01T00:00:00.000000000",
          "1988-03-01T00:00:00.000000000",
          "1988-04-01T00:00:00.000000000",
          "1988-06-01T00:00:00.000000000",
          "1988-07-01T00:00:00.000000000",
          "1988-08-01T00:00:00.000000000",
          "1988-10-01T00:00:00.000000000",
          "1988-11-01T00:00:00.000000000",
          "1989-01-01T00:00:00.000000000",
          "1989-02-01T00:00:00.000000000",
          "1989-03-01T00:00:00.000000000",
          "1989-05-01T00:00:00.000000000",
          "1989-06-01T00:00:00.000000000",
          "1989-07-01T00:00:00.000000000",
          "1989-09-01T00:00:00.000000000",
          "1989-10-01T00:00:00.000000000",
          "1989-12-01T00:00:00.000000000",
          "1990-01-01T00:00:00.000000000",
          "1990-02-01T00:00:00.000000000",
          "1990-04-01T00:00:00.000000000",
          "1990-05-01T00:00:00.000000000",
          "1990-06-01T00:00:00.000000000",
          "1990-08-01T00:00:00.000000000",
          "1990-09-01T00:00:00.000000000",
          "1990-11-01T00:00:00.000000000",
          "1990-12-01T00:00:00.000000000",
          "1991-01-01T00:00:00.000000000",
          "1991-03-01T00:00:00.000000000",
          "1991-04-01T00:00:00.000000000",
          "1991-05-01T00:00:00.000000000",
          "1991-07-01T00:00:00.000000000",
          "1991-08-01T00:00:00.000000000",
          "1991-09-01T00:00:00.000000000",
          "1991-11-01T00:00:00.000000000",
          "1991-12-01T00:00:00.000000000",
          "1992-02-01T00:00:00.000000000",
          "1992-03-01T00:00:00.000000000",
          "1992-04-01T00:00:00.000000000",
          "1992-06-01T00:00:00.000000000",
          "1992-07-01T00:00:00.000000000",
          "1992-08-01T00:00:00.000000000",
          "1992-10-01T00:00:00.000000000",
          "1992-11-01T00:00:00.000000000",
          "1993-01-01T00:00:00.000000000",
          "1993-02-01T00:00:00.000000000",
          "1993-03-01T00:00:00.000000000",
          "1993-05-01T00:00:00.000000000",
          "1993-06-01T00:00:00.000000000",
          "1993-07-01T00:00:00.000000000",
          "1993-09-01T00:00:00.000000000",
          "1993-10-01T00:00:00.000000000",
          "1993-12-01T00:00:00.000000000",
          "1994-01-01T00:00:00.000000000",
          "1994-02-01T00:00:00.000000000",
          "1994-04-01T00:00:00.000000000",
          "1994-05-01T00:00:00.000000000",
          "1994-06-01T00:00:00.000000000",
          "1994-08-01T00:00:00.000000000",
          "1994-09-01T00:00:00.000000000",
          "1994-11-01T00:00:00.000000000",
          "1994-12-01T00:00:00.000000000",
          "1995-01-01T00:00:00.000000000",
          "1995-03-01T00:00:00.000000000",
          "1995-04-01T00:00:00.000000000",
          "1995-05-01T00:00:00.000000000",
          "1995-07-01T00:00:00.000000000",
          "1995-08-01T00:00:00.000000000",
          "1995-10-01T00:00:00.000000000",
          "1995-11-01T00:00:00.000000000",
          "1995-12-01T00:00:00.000000000",
          "1996-02-01T00:00:00.000000000",
          "1996-03-01T00:00:00.000000000",
          "1996-04-01T00:00:00.000000000",
          "1996-06-01T00:00:00.000000000",
          "1996-07-01T00:00:00.000000000",
          "1996-09-01T00:00:00.000000000",
          "1996-10-01T00:00:00.000000000",
          "1996-11-01T00:00:00.000000000",
          "1997-01-01T00:00:00.000000000",
          "1997-02-01T00:00:00.000000000",
          "1997-03-01T00:00:00.000000000",
          "1997-05-01T00:00:00.000000000",
          "1997-06-01T00:00:00.000000000",
          "1997-08-01T00:00:00.000000000",
          "1997-09-01T00:00:00.000000000",
          "1997-10-01T00:00:00.000000000",
          "1997-12-01T00:00:00.000000000",
          "1998-01-01T00:00:00.000000000",
          "1998-02-01T00:00:00.000000000",
          "1998-04-01T00:00:00.000000000",
          "1998-05-01T00:00:00.000000000",
          "1998-07-01T00:00:00.000000000",
          "1998-08-01T00:00:00.000000000",
          "1998-09-01T00:00:00.000000000",
          "1998-11-01T00:00:00.000000000",
          "1998-12-01T00:00:00.000000000",
          "1999-01-01T00:00:00.000000000",
          "1999-03-01T00:00:00.000000000",
          "1999-04-01T00:00:00.000000000",
          "1999-06-01T00:00:00.000000000",
          "1999-07-01T00:00:00.000000000",
          "1999-08-01T00:00:00.000000000",
          "1999-10-01T00:00:00.000000000",
          "1999-11-01T00:00:00.000000000",
          "1999-12-01T00:00:00.000000000",
          "2000-02-01T00:00:00.000000000",
          "2000-03-01T00:00:00.000000000",
          "2000-04-01T00:00:00.000000000",
          "2000-06-01T00:00:00.000000000",
          "2000-07-01T00:00:00.000000000",
          "2000-09-01T00:00:00.000000000",
          "2000-10-01T00:00:00.000000000",
          "2000-11-01T00:00:00.000000000",
          "2001-01-01T00:00:00.000000000",
          "2001-02-01T00:00:00.000000000",
          "2001-03-01T00:00:00.000000000",
          "2001-05-01T00:00:00.000000000",
          "2001-06-01T00:00:00.000000000",
          "2001-08-01T00:00:00.000000000",
          "2001-09-01T00:00:00.000000000",
          "2001-10-01T00:00:00.000000000",
          "2001-12-01T00:00:00.000000000",
          "2002-01-01T00:00:00.000000000",
          "2002-02-01T00:00:00.000000000",
          "2002-04-01T00:00:00.000000000",
          "2002-05-01T00:00:00.000000000",
          "2002-07-01T00:00:00.000000000",
          "2002-08-01T00:00:00.000000000",
          "2002-09-01T00:00:00.000000000",
          "2002-11-01T00:00:00.000000000",
          "2002-12-01T00:00:00.000000000",
          "2003-01-01T00:00:00.000000000",
          "2003-03-01T00:00:00.000000000",
          "2003-04-01T00:00:00.000000000",
          "2003-06-01T00:00:00.000000000",
          "2003-07-01T00:00:00.000000000",
          "2003-08-01T00:00:00.000000000",
          "2003-10-01T00:00:00.000000000",
          "2003-11-01T00:00:00.000000000",
          "2003-12-01T00:00:00.000000000",
          "2004-02-01T00:00:00.000000000",
          "2004-03-01T00:00:00.000000000",
          "2004-05-01T00:00:00.000000000",
          "2004-06-01T00:00:00.000000000",
          "2004-07-01T00:00:00.000000000",
          "2004-09-01T00:00:00.000000000",
          "2004-10-01T00:00:00.000000000",
          "2004-11-01T00:00:00.000000000",
          "2005-01-01T00:00:00.000000000",
          "2005-02-01T00:00:00.000000000",
          "2005-04-01T00:00:00.000000000",
          "2005-05-01T00:00:00.000000000",
          "2005-06-01T00:00:00.000000000",
          "2005-08-01T00:00:00.000000000",
          "2005-09-01T00:00:00.000000000",
          "2005-10-01T00:00:00.000000000",
          "2005-12-01T00:00:00.000000000",
          "2006-01-01T00:00:00.000000000",
          "2006-02-01T00:00:00.000000000",
          "2006-04-01T00:00:00.000000000",
          "2006-05-01T00:00:00.000000000",
          "2006-07-01T00:00:00.000000000",
          "2006-08-01T00:00:00.000000000",
          "2006-09-01T00:00:00.000000000",
          "2006-11-01T00:00:00.000000000",
          "2006-12-01T00:00:00.000000000",
          "2007-01-01T00:00:00.000000000",
          "2007-03-01T00:00:00.000000000",
          "2007-04-01T00:00:00.000000000",
          "2007-06-01T00:00:00.000000000",
          "2007-07-01T00:00:00.000000000",
          "2007-08-01T00:00:00.000000000",
          "2007-10-01T00:00:00.000000000",
          "2007-11-01T00:00:00.000000000",
          "2007-12-01T00:00:00.000000000",
          "2008-02-01T00:00:00.000000000",
          "2008-03-01T00:00:00.000000000",
          "2008-05-01T00:00:00.000000000",
          "2008-06-01T00:00:00.000000000",
          "2008-07-01T00:00:00.000000000",
          "2008-09-01T00:00:00.000000000",
          "2008-10-01T00:00:00.000000000",
          "2008-11-01T00:00:00.000000000",
          "2009-01-01T00:00:00.000000000",
          "2009-02-01T00:00:00.000000000",
          "2009-04-01T00:00:00.000000000",
          "2009-05-01T00:00:00.000000000",
          "2009-06-01T00:00:00.000000000",
          "2009-08-01T00:00:00.000000000",
          "2009-09-01T00:00:00.000000000",
          "2009-10-01T00:00:00.000000000",
          "2009-12-01T00:00:00.000000000",
          "2010-01-01T00:00:00.000000000",
          "2010-03-01T00:00:00.000000000",
          "2010-04-01T00:00:00.000000000",
          "2010-05-01T00:00:00.000000000",
          "2010-07-01T00:00:00.000000000",
          "2010-08-01T00:00:00.000000000",
          "2010-09-01T00:00:00.000000000",
          "2010-11-01T00:00:00.000000000",
          "2010-12-01T00:00:00.000000000",
          "2011-02-01T00:00:00.000000000",
          "2011-03-01T00:00:00.000000000",
          "2011-04-01T00:00:00.000000000",
          "2011-06-01T00:00:00.000000000",
          "2011-07-01T00:00:00.000000000",
          "2011-08-01T00:00:00.000000000",
          "2011-10-01T00:00:00.000000000",
          "2011-11-01T00:00:00.000000000",
          "2012-01-01T00:00:00.000000000",
          "2012-02-01T00:00:00.000000000",
          "2012-03-01T00:00:00.000000000",
          "2012-05-01T00:00:00.000000000",
          "2012-06-01T00:00:00.000000000",
          "2012-07-01T00:00:00.000000000",
          "2012-09-01T00:00:00.000000000",
          "2012-10-01T00:00:00.000000000",
          "2012-11-01T00:00:00.000000000",
          "2013-01-01T00:00:00.000000000",
          "2013-02-01T00:00:00.000000000",
          "2013-04-01T00:00:00.000000000",
          "2013-05-01T00:00:00.000000000",
          "2013-06-01T00:00:00.000000000",
          "2013-08-01T00:00:00.000000000",
          "2013-09-01T00:00:00.000000000",
          "2013-10-01T00:00:00.000000000",
          "2013-12-01T00:00:00.000000000",
          "2014-01-01T00:00:00.000000000",
          "2014-03-01T00:00:00.000000000",
          "2014-04-01T00:00:00.000000000",
          "2014-05-01T00:00:00.000000000",
          "2014-07-01T00:00:00.000000000",
          "2014-08-01T00:00:00.000000000",
          "2014-09-01T00:00:00.000000000",
          "2014-11-01T00:00:00.000000000",
          "2014-12-01T00:00:00.000000000",
          "2015-02-01T00:00:00.000000000",
          "2015-03-01T00:00:00.000000000",
          "2015-04-01T00:00:00.000000000",
          "2015-06-01T00:00:00.000000000",
          "2015-07-01T00:00:00.000000000",
          "2015-08-01T00:00:00.000000000",
          "2015-10-01T00:00:00.000000000",
          "2015-11-01T00:00:00.000000000",
          "2016-01-01T00:00:00.000000000",
          "2016-02-01T00:00:00.000000000",
          "2016-03-01T00:00:00.000000000",
          "2016-05-01T00:00:00.000000000",
          "2016-06-01T00:00:00.000000000",
          "2016-07-01T00:00:00.000000000",
          "2016-09-01T00:00:00.000000000",
          "2016-10-01T00:00:00.000000000",
          "2016-12-01T00:00:00.000000000",
          "2017-01-01T00:00:00.000000000",
          "2017-02-01T00:00:00.000000000",
          "2017-04-01T00:00:00.000000000",
          "2017-05-01T00:00:00.000000000",
          "2017-06-01T00:00:00.000000000",
          "2017-08-01T00:00:00.000000000",
          "2017-09-01T00:00:00.000000000",
          "2017-11-01T00:00:00.000000000",
          "2017-12-01T00:00:00.000000000",
          "2018-01-01T00:00:00.000000000",
          "2018-03-01T00:00:00.000000000",
          "2018-04-01T00:00:00.000000000",
          "2018-05-01T00:00:00.000000000",
          "2018-07-01T00:00:00.000000000",
          "2018-08-01T00:00:00.000000000",
          "2018-10-01T00:00:00.000000000",
          "2018-11-01T00:00:00.000000000",
          "2018-12-01T00:00:00.000000000",
          "2019-02-01T00:00:00.000000000",
          "2019-03-01T00:00:00.000000000",
          "2019-04-01T00:00:00.000000000",
          "2019-06-01T00:00:00.000000000",
          "2019-07-01T00:00:00.000000000",
          "2019-09-01T00:00:00.000000000",
          "2019-10-01T00:00:00.000000000",
          "2019-11-01T00:00:00.000000000",
          "2020-01-01T00:00:00.000000000",
          "2020-02-01T00:00:00.000000000",
          "2020-03-01T00:00:00.000000000",
          "2020-05-01T00:00:00.000000000",
          "2020-06-01T00:00:00.000000000",
          "2020-07-01T00:00:00.000000000",
          "2020-09-01T00:00:00.000000000",
          "2020-10-01T00:00:00.000000000",
          "2020-12-01T00:00:00.000000000",
          "2021-01-01T00:00:00.000000000",
          "2021-02-01T00:00:00.000000000",
          "2021-04-01T00:00:00.000000000",
          "2021-05-01T00:00:00.000000000",
          "2021-06-01T00:00:00.000000000",
          "2021-08-01T00:00:00.000000000",
          "2021-09-01T00:00:00.000000000",
          "2021-11-01T00:00:00.000000000",
          "2021-12-01T00:00:00.000000000",
          "2022-01-01T00:00:00.000000000",
          "2022-03-01T00:00:00.000000000",
          "2022-04-01T00:00:00.000000000",
          "2022-05-01T00:00:00.000000000",
          "2022-07-01T00:00:00.000000000",
          "2022-08-01T00:00:00.000000000",
          "2022-10-01T00:00:00.000000000",
          "2022-11-01T00:00:00.000000000",
          "2022-12-01T00:00:00.000000000",
          "2023-02-01T00:00:00.000000000",
          "2023-03-01T00:00:00.000000000",
          "2023-04-01T00:00:00.000000000",
          "2023-06-01T00:00:00.000000000",
          "2023-07-01T00:00:00.000000000",
          "2023-09-01T00:00:00.000000000",
          "2023-10-01T00:00:00.000000000",
          "2023-11-01T00:00:00.000000000",
          "2024-01-01T00:00:00.000000000",
          "2024-02-01T00:00:00.000000000",
          "2024-03-01T00:00:00.000000000",
          "2024-05-01T00:00:00.000000000",
          "2024-06-01T00:00:00.000000000",
          "2024-08-01T00:00:00.000000000",
          "2024-09-01T00:00:00.000000000",
          "2024-10-01T00:00:00.000000000",
          "2024-12-01T00:00:00.000000000"
         ],
         "xaxis": "x",
         "y": {
          "bdata": "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",
          "dtype": "f8"
         },
         "yaxis": "y"
        }
       ],
       "layout": {
        "annotations": [
         {
          "align": "left",
          "bgcolor": "rgba(255, 255, 255, 0.8)",
          "bordercolor": "black",
          "borderwidth": 1,
          "font": {
           "size": 10
          },
          "showarrow": false,
          "text": "Source: Trading Economics<br>Original Source: Institute for Supply Management<br>Frequency: Unknown/irregular<br>",
          "x": 0,
          "xanchor": "left",
          "xref": "paper",
          "y": -0.2,
          "yanchor": "bottom",
          "yref": "paper"
         }
        ],
        "legend": {
         "orientation": "h",
         "title": {
          "text": ""
         },
         "tracegroupgap": 0,
         "x": 0.5,
         "xanchor": "center",
         "y": -0.2,
         "yanchor": "bottom"
        },
        "margin": {
         "t": 60
        },
        "template": {
         "data": {
          "bar": [
           {
            "error_x": {
             "color": "#2a3f5f"
            },
            "error_y": {
             "color": "#2a3f5f"
            },
            "marker": {
             "line": {
              "color": "#E5ECF6",
              "width": 0.5
             },
             "pattern": {
              "fillmode": "overlay",
              "size": 10,
              "solidity": 0.2
             }
            },
            "type": "bar"
           }
          ],
          "barpolar": [
           {
            "marker": {
             "line": {
              "color": "#E5ECF6",
              "width": 0.5
             },
             "pattern": {
              "fillmode": "overlay",
              "size": 10,
              "solidity": 0.2
             }
            },
            "type": "barpolar"
           }
          ],
          "carpet": [
           {
            "aaxis": {
             "endlinecolor": "#2a3f5f",
             "gridcolor": "white",
             "linecolor": "white",
             "minorgridcolor": "white",
             "startlinecolor": "#2a3f5f"
            },
            "baxis": {
             "endlinecolor": "#2a3f5f",
             "gridcolor": "white",
             "linecolor": "white",
             "minorgridcolor": "white",
             "startlinecolor": "#2a3f5f"
            },
            "type": "carpet"
           }
          ],
          "choropleth": [
           {
            "colorbar": {
             "outlinewidth": 0,
             "ticks": ""
            },
            "type": "choropleth"
           }
          ],
          "contour": [
           {
            "colorbar": {
             "outlinewidth": 0,
             "ticks": ""
            },
            "colorscale": [
             [
              0,
              "#0d0887"
             ],
             [
              0.1111111111111111,
              "#46039f"
             ],
             [
              0.2222222222222222,
              "#7201a8"
             ],
             [
              0.3333333333333333,
              "#9c179e"
             ],
             [
              0.4444444444444444,
              "#bd3786"
             ],
             [
              0.5555555555555556,
              "#d8576b"
             ],
             [
              0.6666666666666666,
              "#ed7953"
             ],
             [
              0.7777777777777778,
              "#fb9f3a"
             ],
             [
              0.8888888888888888,
              "#fdca26"
             ],
             [
              1,
              "#f0f921"
             ]
            ],
            "type": "contour"
           }
          ],
          "contourcarpet": [
           {
            "colorbar": {
             "outlinewidth": 0,
             "ticks": ""
            },
            "type": "contourcarpet"
           }
          ],
          "heatmap": [
           {
            "colorbar": {
             "outlinewidth": 0,
             "ticks": ""
            },
            "colorscale": [
             [
              0,
              "#0d0887"
             ],
             [
              0.1111111111111111,
              "#46039f"
             ],
             [
              0.2222222222222222,
              "#7201a8"
             ],
             [
              0.3333333333333333,
              "#9c179e"
             ],
             [
              0.4444444444444444,
              "#bd3786"
             ],
             [
              0.5555555555555556,
              "#d8576b"
             ],
             [
              0.6666666666666666,
              "#ed7953"
             ],
             [
              0.7777777777777778,
              "#fb9f3a"
             ],
             [
              0.8888888888888888,
              "#fdca26"
             ],
             [
              1,
              "#f0f921"
             ]
            ],
            "type": "heatmap"
           }
          ],
          "histogram": [
           {
            "marker": {
             "pattern": {
              "fillmode": "overlay",
              "size": 10,
              "solidity": 0.2
             }
            },
            "type": "histogram"
           }
          ],
          "histogram2d": [
           {
            "colorbar": {
             "outlinewidth": 0,
             "ticks": ""
            },
            "colorscale": [
             [
              0,
              "#0d0887"
             ],
             [
              0.1111111111111111,
              "#46039f"
             ],
             [
              0.2222222222222222,
              "#7201a8"
             ],
             [
              0.3333333333333333,
              "#9c179e"
             ],
             [
              0.4444444444444444,
              "#bd3786"
             ],
             [
              0.5555555555555556,
              "#d8576b"
             ],
             [
              0.6666666666666666,
              "#ed7953"
             ],
             [
              0.7777777777777778,
              "#fb9f3a"
             ],
             [
              0.8888888888888888,
              "#fdca26"
             ],
             [
              1,
              "#f0f921"
             ]
            ],
            "type": "histogram2d"
           }
          ],
          "histogram2dcontour": [
           {
            "colorbar": {
             "outlinewidth": 0,
             "ticks": ""
            },
            "colorscale": [
             [
              0,
              "#0d0887"
             ],
             [
              0.1111111111111111,
              "#46039f"
             ],
             [
              0.2222222222222222,
              "#7201a8"
             ],
             [
              0.3333333333333333,
              "#9c179e"
             ],
             [
              0.4444444444444444,
              "#bd3786"
             ],
             [
              0.5555555555555556,
              "#d8576b"
             ],
             [
              0.6666666666666666,
              "#ed7953"
             ],
             [
              0.7777777777777778,
              "#fb9f3a"
             ],
             [
              0.8888888888888888,
              "#fdca26"
             ],
             [
              1,
              "#f0f921"
             ]
            ],
            "type": "histogram2dcontour"
           }
          ],
          "mesh3d": [
           {
            "colorbar": {
             "outlinewidth": 0,
             "ticks": ""
            },
            "type": "mesh3d"
           }
          ],
          "parcoords": [
           {
            "line": {
             "colorbar": {
              "outlinewidth": 0,
              "ticks": ""
             }
            },
            "type": "parcoords"
           }
          ],
          "pie": [
           {
            "automargin": true,
            "type": "pie"
           }
          ],
          "scatter": [
           {
            "fillpattern": {
             "fillmode": "overlay",
             "size": 10,
             "solidity": 0.2
            },
            "type": "scatter"
           }
          ],
          "scatter3d": [
           {
            "line": {
             "colorbar": {
              "outlinewidth": 0,
              "ticks": ""
             }
            },
            "marker": {
             "colorbar": {
              "outlinewidth": 0,
              "ticks": ""
             }
            },
            "type": "scatter3d"
           }
          ],
          "scattercarpet": [
           {
            "marker": {
             "colorbar": {
              "outlinewidth": 0,
              "ticks": ""
             }
            },
            "type": "scattercarpet"
           }
          ],
          "scattergeo": [
           {
            "marker": {
             "colorbar": {
              "outlinewidth": 0,
              "ticks": ""
             }
            },
            "type": "scattergeo"
           }
          ],
          "scattergl": [
           {
            "marker": {
             "colorbar": {
              "outlinewidth": 0,
              "ticks": ""
             }
            },
            "type": "scattergl"
           }
          ],
          "scattermap": [
           {
            "marker": {
             "colorbar": {
              "outlinewidth": 0,
              "ticks": ""
             }
            },
            "type": "scattermap"
           }
          ],
          "scattermapbox": [
           {
            "marker": {
             "colorbar": {
              "outlinewidth": 0,
              "ticks": ""
             }
            },
            "type": "scattermapbox"
           }
          ],
          "scatterpolar": [
           {
            "marker": {
             "colorbar": {
              "outlinewidth": 0,
              "ticks": ""
             }
            },
            "type": "scatterpolar"
           }
          ],
          "scatterpolargl": [
           {
            "marker": {
             "colorbar": {
              "outlinewidth": 0,
              "ticks": ""
             }
            },
            "type": "scatterpolargl"
           }
          ],
          "scatterternary": [
           {
            "marker": {
             "colorbar": {
              "outlinewidth": 0,
              "ticks": ""
             }
            },
            "type": "scatterternary"
           }
          ],
          "surface": [
           {
            "colorbar": {
             "outlinewidth": 0,
             "ticks": ""
            },
            "colorscale": [
             [
              0,
              "#0d0887"
             ],
             [
              0.1111111111111111,
              "#46039f"
             ],
             [
              0.2222222222222222,
              "#7201a8"
             ],
             [
              0.3333333333333333,
              "#9c179e"
             ],
             [
              0.4444444444444444,
              "#bd3786"
             ],
             [
              0.5555555555555556,
              "#d8576b"
             ],
             [
              0.6666666666666666,
              "#ed7953"
             ],
             [
              0.7777777777777778,
              "#fb9f3a"
             ],
             [
              0.8888888888888888,
              "#fdca26"
             ],
             [
              1,
              "#f0f921"
             ]
            ],
            "type": "surface"
           }
          ],
          "table": [
           {
            "cells": {
             "fill": {
              "color": "#EBF0F8"
             },
             "line": {
              "color": "white"
             }
            },
            "header": {
             "fill": {
              "color": "#C8D4E3"
             },
             "line": {
              "color": "white"
             }
            },
            "type": "table"
           }
          ]
         },
         "layout": {
          "annotationdefaults": {
           "arrowcolor": "#2a3f5f",
           "arrowhead": 0,
           "arrowwidth": 1
          },
          "autotypenumbers": "strict",
          "coloraxis": {
           "colorbar": {
            "outlinewidth": 0,
            "ticks": ""
           }
          },
          "colorscale": {
           "diverging": [
            [
             0,
             "#8e0152"
            ],
            [
             0.1,
             "#c51b7d"
            ],
            [
             0.2,
             "#de77ae"
            ],
            [
             0.3,
             "#f1b6da"
            ],
            [
             0.4,
             "#fde0ef"
            ],
            [
             0.5,
             "#f7f7f7"
            ],
            [
             0.6,
             "#e6f5d0"
            ],
            [
             0.7,
             "#b8e186"
            ],
            [
             0.8,
             "#7fbc41"
            ],
            [
             0.9,
             "#4d9221"
            ],
            [
             1,
             "#276419"
            ]
           ],
           "sequential": [
            [
             0,
             "#0d0887"
            ],
            [
             0.1111111111111111,
             "#46039f"
            ],
            [
             0.2222222222222222,
             "#7201a8"
            ],
            [
             0.3333333333333333,
             "#9c179e"
            ],
            [
             0.4444444444444444,
             "#bd3786"
            ],
            [
             0.5555555555555556,
             "#d8576b"
            ],
            [
             0.6666666666666666,
             "#ed7953"
            ],
            [
             0.7777777777777778,
             "#fb9f3a"
            ],
            [
             0.8888888888888888,
             "#fdca26"
            ],
            [
             1,
             "#f0f921"
            ]
           ],
           "sequentialminus": [
            [
             0,
             "#0d0887"
            ],
            [
             0.1111111111111111,
             "#46039f"
            ],
            [
             0.2222222222222222,
             "#7201a8"
            ],
            [
             0.3333333333333333,
             "#9c179e"
            ],
            [
             0.4444444444444444,
             "#bd3786"
            ],
            [
             0.5555555555555556,
             "#d8576b"
            ],
            [
             0.6666666666666666,
             "#ed7953"
            ],
            [
             0.7777777777777778,
             "#fb9f3a"
            ],
            [
             0.8888888888888888,
             "#fdca26"
            ],
            [
             1,
             "#f0f921"
            ]
           ]
          },
          "colorway": [
           "#636efa",
           "#EF553B",
           "#00cc96",
           "#ab63fa",
           "#FFA15A",
           "#19d3f3",
           "#FF6692",
           "#B6E880",
           "#FF97FF",
           "#FECB52"
          ],
          "font": {
           "color": "#2a3f5f"
          },
          "geo": {
           "bgcolor": "white",
           "lakecolor": "white",
           "landcolor": "#E5ECF6",
           "showlakes": true,
           "showland": true,
           "subunitcolor": "white"
          },
          "hoverlabel": {
           "align": "left"
          },
          "hovermode": "closest",
          "mapbox": {
           "style": "light"
          },
          "paper_bgcolor": "white",
          "plot_bgcolor": "#E5ECF6",
          "polar": {
           "angularaxis": {
            "gridcolor": "white",
            "linecolor": "white",
            "ticks": ""
           },
           "bgcolor": "#E5ECF6",
           "radialaxis": {
            "gridcolor": "white",
            "linecolor": "white",
            "ticks": ""
           }
          },
          "scene": {
           "xaxis": {
            "backgroundcolor": "#E5ECF6",
            "gridcolor": "white",
            "gridwidth": 2,
            "linecolor": "white",
            "showbackground": true,
            "ticks": "",
            "zerolinecolor": "white"
           },
           "yaxis": {
            "backgroundcolor": "#E5ECF6",
            "gridcolor": "white",
            "gridwidth": 2,
            "linecolor": "white",
            "showbackground": true,
            "ticks": "",
            "zerolinecolor": "white"
           },
           "zaxis": {
            "backgroundcolor": "#E5ECF6",
            "gridcolor": "white",
            "gridwidth": 2,
            "linecolor": "white",
            "showbackground": true,
            "ticks": "",
            "zerolinecolor": "white"
           }
          },
          "shapedefaults": {
           "line": {
            "color": "#2a3f5f"
           }
          },
          "ternary": {
           "aaxis": {
            "gridcolor": "white",
            "linecolor": "white",
            "ticks": ""
           },
           "baxis": {
            "gridcolor": "white",
            "linecolor": "white",
            "ticks": ""
           },
           "bgcolor": "#E5ECF6",
           "caxis": {
            "gridcolor": "white",
            "linecolor": "white",
            "ticks": ""
           }
          },
          "title": {
           "x": 0.05
          },
          "xaxis": {
           "automargin": true,
           "gridcolor": "white",
           "linecolor": "white",
           "ticks": "",
           "title": {
            "standoff": 15
           },
           "zerolinecolor": "white",
           "zerolinewidth": 2
          },
          "yaxis": {
           "automargin": true,
           "gridcolor": "white",
           "linecolor": "white",
           "ticks": "",
           "title": {
            "standoff": 15
           },
           "zerolinecolor": "white",
           "zerolinewidth": 2
          }
         }
        },
        "title": {
         "text": "United states: United states ism manufacturing pmi"
        },
        "xaxis": {
         "anchor": "y",
         "domain": [
          0,
          1
         ],
         "title": {
          "text": ""
         }
        },
        "yaxis": {
         "anchor": "x",
         "domain": [
          0,
          1
         ],
         "title": {
          "text": "Points"
         }
        }
       }
      }
     },
     "metadata": {},
     "output_type": "display_data"
    }
   ],
   "source": [
    "scruf.plot_series()  ## Plot the series."
   ]
  },
  {
   "cell_type": "code",
   "execution_count": 12,
   "metadata": {},
   "outputs": [
    {
     "data": {
      "text/plain": [
       "{'units': 'points',\n",
       " 'original_source': 'Institute for Supply Management',\n",
       " 'title': 'United States ISM Manufacturing PMI',\n",
       " 'indicator': 'business confidence',\n",
       " 'country': 'united states',\n",
       " 'source': 'Trading Economics',\n",
       " 'id': 'united-states/business-confidence',\n",
       " 'description': \"The Manufacturing ISM Report On Business is based on data compiled from purchasing and supply executives nationwide. Survey responses reflect the change, if any, in the current month compared to the previous month. For each of the indicators measured (New Orders, Backlog of Orders, New Export Orders, Imports, Production, Supplier Deliveries, Inventories, Customers' Inventories, Employment and Prices), the report shows the percentage reporting each response, the net difference between the number of responses in the positive economic direction and the negative economic direction, and the diffusion index. A PMI reading above 50 percent indicates that the manufacturing economy is generally expanding; below 50 percent indicates that it is generally declining.\",\n",
       " 'frequency': 'MS',\n",
       " 'start_date': '1948-01-01',\n",
       " 'end_date': '2025-01-01',\n",
       " 'min_value': 29.4,\n",
       " 'max_value': 77.5,\n",
       " 'length': 923}"
      ]
     },
     "execution_count": 12,
     "metadata": {},
     "output_type": "execute_result"
    }
   ],
   "source": [
    "scrup.metadata"
   ]
  },
  {
   "cell_type": "code",
   "execution_count": 14,
   "metadata": {},
   "outputs": [
    {
     "name": "stdout",
     "output_type": "stream",
     "text": [
      "1948-01-01    51.7\n",
      "1948-02-01    50.2\n",
      "1948-03-01    43.3\n",
      "1948-04-01    45.4\n",
      "1948-05-01    49.5\n",
      "Name: United States ISM Manufacturing PMI, dtype: float64 mixed <class 'pandas.core.series.Series'>\n",
      "1948-01-01    51.7\n",
      "1948-02-01    48.7\n",
      "1948-03-01    43.3\n",
      "1948-04-01    45.4\n",
      "1948-05-01    49.5\n",
      "Freq: MS, Name: business confidence, dtype: float64 path <class 'pandas.core.series.Series'>\n",
      "1948-02-01    50.2\n",
      "1948-04-01    45.4\n",
      "1948-05-01    49.5\n",
      "1948-07-01    48.4\n",
      "1948-08-01    45.1\n",
      "Name: United States ISM Manufacturing PMI, dtype: float64 tooltips <class 'pandas.core.series.Series'>\n"
     ]
    },
    {
     "data": {
      "application/vnd.plotly.v1+json": {
       "config": {
        "plotlyServerURL": "https://plot.ly"
       },
       "data": [
        {
         "line": {
          "color": "blue"
         },
         "mode": "lines",
         "name": "United States ISM Manufacturing PMI (method: mixed)",
         "type": "scatter",
         "x": [
          "1948-01-01T00:00:00.000000000",
          "1948-02-01T00:00:00.000000000",
          "1948-03-01T00:00:00.000000000",
          "1948-04-01T00:00:00.000000000",
          "1948-05-01T00:00:00.000000000",
          "1948-06-01T00:00:00.000000000",
          "1948-07-01T00:00:00.000000000",
          "1948-08-01T00:00:00.000000000",
          "1948-09-01T00:00:00.000000000",
          "1948-10-01T00:00:00.000000000",
          "1948-11-01T00:00:00.000000000",
          "1948-12-01T00:00:00.000000000",
          "1949-01-01T00:00:00.000000000",
          "1949-02-01T00:00:00.000000000",
          "1949-03-01T00:00:00.000000000",
          "1949-04-01T00:00:00.000000000",
          "1949-05-01T00:00:00.000000000",
          "1949-06-01T00:00:00.000000000",
          "1949-07-01T00:00:00.000000000",
          "1949-08-01T00:00:00.000000000",
          "1949-09-01T00:00:00.000000000",
          "1949-10-01T00:00:00.000000000",
          "1949-11-01T00:00:00.000000000",
          "1949-12-01T00:00:00.000000000",
          "1950-01-01T00:00:00.000000000",
          "1950-02-01T00:00:00.000000000",
          "1950-03-01T00:00:00.000000000",
          "1950-04-01T00:00:00.000000000",
          "1950-05-01T00:00:00.000000000",
          "1950-06-01T00:00:00.000000000",
          "1950-07-01T00:00:00.000000000",
          "1950-08-01T00:00:00.000000000",
          "1950-09-01T00:00:00.000000000",
          "1950-10-01T00:00:00.000000000",
          "1950-11-01T00:00:00.000000000",
          "1950-12-01T00:00:00.000000000",
          "1951-01-01T00:00:00.000000000",
          "1951-02-01T00:00:00.000000000",
          "1951-03-01T00:00:00.000000000",
          "1951-04-01T00:00:00.000000000",
          "1951-05-01T00:00:00.000000000",
          "1951-06-01T00:00:00.000000000",
          "1951-07-01T00:00:00.000000000",
          "1951-08-01T00:00:00.000000000",
          "1951-09-01T00:00:00.000000000",
          "1951-10-01T00:00:00.000000000",
          "1951-11-01T00:00:00.000000000",
          "1951-12-01T00:00:00.000000000",
          "1952-01-01T00:00:00.000000000",
          "1952-02-01T00:00:00.000000000",
          "1952-03-01T00:00:00.000000000",
          "1952-04-01T00:00:00.000000000",
          "1952-05-01T00:00:00.000000000",
          "1952-06-01T00:00:00.000000000",
          "1952-07-01T00:00:00.000000000",
          "1952-08-01T00:00:00.000000000",
          "1952-09-01T00:00:00.000000000",
          "1952-10-01T00:00:00.000000000",
          "1952-11-01T00:00:00.000000000",
          "1952-12-01T00:00:00.000000000",
          "1953-01-01T00:00:00.000000000",
          "1953-02-01T00:00:00.000000000",
          "1953-03-01T00:00:00.000000000",
          "1953-04-01T00:00:00.000000000",
          "1953-05-01T00:00:00.000000000",
          "1953-06-01T00:00:00.000000000",
          "1953-07-01T00:00:00.000000000",
          "1953-08-01T00:00:00.000000000",
          "1953-09-01T00:00:00.000000000",
          "1953-10-01T00:00:00.000000000",
          "1953-11-01T00:00:00.000000000",
          "1953-12-01T00:00:00.000000000",
          "1954-01-01T00:00:00.000000000",
          "1954-02-01T00:00:00.000000000",
          "1954-03-01T00:00:00.000000000",
          "1954-04-01T00:00:00.000000000",
          "1954-05-01T00:00:00.000000000",
          "1954-06-01T00:00:00.000000000",
          "1954-07-01T00:00:00.000000000",
          "1954-08-01T00:00:00.000000000",
          "1954-09-01T00:00:00.000000000",
          "1954-10-01T00:00:00.000000000",
          "1954-11-01T00:00:00.000000000",
          "1954-12-01T00:00:00.000000000",
          "1955-01-01T00:00:00.000000000",
          "1955-02-01T00:00:00.000000000",
          "1955-03-01T00:00:00.000000000",
          "1955-04-01T00:00:00.000000000",
          "1955-05-01T00:00:00.000000000",
          "1955-06-01T00:00:00.000000000",
          "1955-07-01T00:00:00.000000000",
          "1955-08-01T00:00:00.000000000",
          "1955-09-01T00:00:00.000000000",
          "1955-10-01T00:00:00.000000000",
          "1955-11-01T00:00:00.000000000",
          "1955-12-01T00:00:00.000000000",
          "1956-01-01T00:00:00.000000000",
          "1956-02-01T00:00:00.000000000",
          "1956-03-01T00:00:00.000000000",
          "1956-04-01T00:00:00.000000000",
          "1956-05-01T00:00:00.000000000",
          "1956-06-01T00:00:00.000000000",
          "1956-07-01T00:00:00.000000000",
          "1956-08-01T00:00:00.000000000",
          "1956-09-01T00:00:00.000000000",
          "1956-10-01T00:00:00.000000000",
          "1956-11-01T00:00:00.000000000",
          "1956-12-01T00:00:00.000000000",
          "1957-01-01T00:00:00.000000000",
          "1957-02-01T00:00:00.000000000",
          "1957-03-01T00:00:00.000000000",
          "1957-04-01T00:00:00.000000000",
          "1957-05-01T00:00:00.000000000",
          "1957-06-01T00:00:00.000000000",
          "1957-07-01T00:00:00.000000000",
          "1957-08-01T00:00:00.000000000",
          "1957-09-01T00:00:00.000000000",
          "1957-10-01T00:00:00.000000000",
          "1957-11-01T00:00:00.000000000",
          "1957-12-01T00:00:00.000000000",
          "1958-01-01T00:00:00.000000000",
          "1958-02-01T00:00:00.000000000",
          "1958-03-01T00:00:00.000000000",
          "1958-04-01T00:00:00.000000000",
          "1958-05-01T00:00:00.000000000",
          "1958-06-01T00:00:00.000000000",
          "1958-07-01T00:00:00.000000000",
          "1958-08-01T00:00:00.000000000",
          "1958-09-01T00:00:00.000000000",
          "1958-10-01T00:00:00.000000000",
          "1958-11-01T00:00:00.000000000",
          "1958-12-01T00:00:00.000000000",
          "1959-01-01T00:00:00.000000000",
          "1959-02-01T00:00:00.000000000",
          "1959-03-01T00:00:00.000000000",
          "1959-04-01T00:00:00.000000000",
          "1959-05-01T00:00:00.000000000",
          "1959-06-01T00:00:00.000000000",
          "1959-07-01T00:00:00.000000000",
          "1959-08-01T00:00:00.000000000",
          "1959-09-01T00:00:00.000000000",
          "1959-10-01T00:00:00.000000000",
          "1959-11-01T00:00:00.000000000",
          "1959-12-01T00:00:00.000000000",
          "1960-01-01T00:00:00.000000000",
          "1960-02-01T00:00:00.000000000",
          "1960-03-01T00:00:00.000000000",
          "1960-04-01T00:00:00.000000000",
          "1960-05-01T00:00:00.000000000",
          "1960-06-01T00:00:00.000000000",
          "1960-07-01T00:00:00.000000000",
          "1960-08-01T00:00:00.000000000",
          "1960-09-01T00:00:00.000000000",
          "1960-10-01T00:00:00.000000000",
          "1960-11-01T00:00:00.000000000",
          "1960-12-01T00:00:00.000000000",
          "1961-01-01T00:00:00.000000000",
          "1961-02-01T00:00:00.000000000",
          "1961-03-01T00:00:00.000000000",
          "1961-04-01T00:00:00.000000000",
          "1961-05-01T00:00:00.000000000",
          "1961-06-01T00:00:00.000000000",
          "1961-07-01T00:00:00.000000000",
          "1961-08-01T00:00:00.000000000",
          "1961-09-01T00:00:00.000000000",
          "1961-10-01T00:00:00.000000000",
          "1961-11-01T00:00:00.000000000",
          "1961-12-01T00:00:00.000000000",
          "1962-01-01T00:00:00.000000000",
          "1962-02-01T00:00:00.000000000",
          "1962-03-01T00:00:00.000000000",
          "1962-04-01T00:00:00.000000000",
          "1962-05-01T00:00:00.000000000",
          "1962-06-01T00:00:00.000000000",
          "1962-07-01T00:00:00.000000000",
          "1962-08-01T00:00:00.000000000",
          "1962-09-01T00:00:00.000000000",
          "1962-10-01T00:00:00.000000000",
          "1962-11-01T00:00:00.000000000",
          "1962-12-01T00:00:00.000000000",
          "1963-01-01T00:00:00.000000000",
          "1963-02-01T00:00:00.000000000",
          "1963-03-01T00:00:00.000000000",
          "1963-04-01T00:00:00.000000000",
          "1963-05-01T00:00:00.000000000",
          "1963-06-01T00:00:00.000000000",
          "1963-07-01T00:00:00.000000000",
          "1963-08-01T00:00:00.000000000",
          "1963-09-01T00:00:00.000000000",
          "1963-10-01T00:00:00.000000000",
          "1963-11-01T00:00:00.000000000",
          "1963-12-01T00:00:00.000000000",
          "1964-01-01T00:00:00.000000000",
          "1964-02-01T00:00:00.000000000",
          "1964-03-01T00:00:00.000000000",
          "1964-04-01T00:00:00.000000000",
          "1964-05-01T00:00:00.000000000",
          "1964-06-01T00:00:00.000000000",
          "1964-07-01T00:00:00.000000000",
          "1964-08-01T00:00:00.000000000",
          "1964-09-01T00:00:00.000000000",
          "1964-10-01T00:00:00.000000000",
          "1964-11-01T00:00:00.000000000",
          "1964-12-01T00:00:00.000000000",
          "1965-01-01T00:00:00.000000000",
          "1965-02-01T00:00:00.000000000",
          "1965-03-01T00:00:00.000000000",
          "1965-04-01T00:00:00.000000000",
          "1965-05-01T00:00:00.000000000",
          "1965-06-01T00:00:00.000000000",
          "1965-07-01T00:00:00.000000000",
          "1965-08-01T00:00:00.000000000",
          "1965-09-01T00:00:00.000000000",
          "1965-10-01T00:00:00.000000000",
          "1965-11-01T00:00:00.000000000",
          "1965-12-01T00:00:00.000000000",
          "1966-01-01T00:00:00.000000000",
          "1966-02-01T00:00:00.000000000",
          "1966-03-01T00:00:00.000000000",
          "1966-04-01T00:00:00.000000000",
          "1966-05-01T00:00:00.000000000",
          "1966-06-01T00:00:00.000000000",
          "1966-07-01T00:00:00.000000000",
          "1966-08-01T00:00:00.000000000",
          "1966-09-01T00:00:00.000000000",
          "1966-10-01T00:00:00.000000000",
          "1966-11-01T00:00:00.000000000",
          "1966-12-01T00:00:00.000000000",
          "1967-01-01T00:00:00.000000000",
          "1967-02-01T00:00:00.000000000",
          "1967-03-01T00:00:00.000000000",
          "1967-04-01T00:00:00.000000000",
          "1967-05-01T00:00:00.000000000",
          "1967-06-01T00:00:00.000000000",
          "1967-07-01T00:00:00.000000000",
          "1967-08-01T00:00:00.000000000",
          "1967-09-01T00:00:00.000000000",
          "1967-10-01T00:00:00.000000000",
          "1967-11-01T00:00:00.000000000",
          "1967-12-01T00:00:00.000000000",
          "1968-01-01T00:00:00.000000000",
          "1968-02-01T00:00:00.000000000",
          "1968-03-01T00:00:00.000000000",
          "1968-04-01T00:00:00.000000000",
          "1968-05-01T00:00:00.000000000",
          "1968-06-01T00:00:00.000000000",
          "1968-07-01T00:00:00.000000000",
          "1968-08-01T00:00:00.000000000",
          "1968-09-01T00:00:00.000000000",
          "1968-10-01T00:00:00.000000000",
          "1968-11-01T00:00:00.000000000",
          "1968-12-01T00:00:00.000000000",
          "1969-01-01T00:00:00.000000000",
          "1969-02-01T00:00:00.000000000",
          "1969-03-01T00:00:00.000000000",
          "1969-04-01T00:00:00.000000000",
          "1969-05-01T00:00:00.000000000",
          "1969-06-01T00:00:00.000000000",
          "1969-07-01T00:00:00.000000000",
          "1969-08-01T00:00:00.000000000",
          "1969-09-01T00:00:00.000000000",
          "1969-10-01T00:00:00.000000000",
          "1969-11-01T00:00:00.000000000",
          "1969-12-01T00:00:00.000000000",
          "1970-01-01T00:00:00.000000000",
          "1970-02-01T00:00:00.000000000",
          "1970-03-01T00:00:00.000000000",
          "1970-04-01T00:00:00.000000000",
          "1970-05-01T00:00:00.000000000",
          "1970-06-01T00:00:00.000000000",
          "1970-07-01T00:00:00.000000000",
          "1970-08-01T00:00:00.000000000",
          "1970-09-01T00:00:00.000000000",
          "1970-10-01T00:00:00.000000000",
          "1970-11-01T00:00:00.000000000",
          "1970-12-01T00:00:00.000000000",
          "1971-01-01T00:00:00.000000000",
          "1971-02-01T00:00:00.000000000",
          "1971-03-01T00:00:00.000000000",
          "1971-04-01T00:00:00.000000000",
          "1971-05-01T00:00:00.000000000",
          "1971-06-01T00:00:00.000000000",
          "1971-07-01T00:00:00.000000000",
          "1971-08-01T00:00:00.000000000",
          "1971-09-01T00:00:00.000000000",
          "1971-10-01T00:00:00.000000000",
          "1971-11-01T00:00:00.000000000",
          "1971-12-01T00:00:00.000000000",
          "1972-01-01T00:00:00.000000000",
          "1972-02-01T00:00:00.000000000",
          "1972-03-01T00:00:00.000000000",
          "1972-04-01T00:00:00.000000000",
          "1972-05-01T00:00:00.000000000",
          "1972-06-01T00:00:00.000000000",
          "1972-07-01T00:00:00.000000000",
          "1972-08-01T00:00:00.000000000",
          "1972-09-01T00:00:00.000000000",
          "1972-10-01T00:00:00.000000000",
          "1972-11-01T00:00:00.000000000",
          "1972-12-01T00:00:00.000000000",
          "1973-01-01T00:00:00.000000000",
          "1973-02-01T00:00:00.000000000",
          "1973-03-01T00:00:00.000000000",
          "1973-04-01T00:00:00.000000000",
          "1973-05-01T00:00:00.000000000",
          "1973-06-01T00:00:00.000000000",
          "1973-07-01T00:00:00.000000000",
          "1973-09-01T00:00:00.000000000",
          "1973-10-01T00:00:00.000000000",
          "1973-11-01T00:00:00.000000000",
          "1973-12-01T00:00:00.000000000",
          "1974-01-01T00:00:00.000000000",
          "1974-02-01T00:00:00.000000000",
          "1974-03-01T00:00:00.000000000",
          "1974-04-01T00:00:00.000000000",
          "1974-05-01T00:00:00.000000000",
          "1974-06-01T00:00:00.000000000",
          "1974-07-01T00:00:00.000000000",
          "1974-08-01T00:00:00.000000000",
          "1974-09-01T00:00:00.000000000",
          "1974-10-01T00:00:00.000000000",
          "1974-11-01T00:00:00.000000000",
          "1974-12-01T00:00:00.000000000",
          "1975-01-01T00:00:00.000000000",
          "1975-02-01T00:00:00.000000000",
          "1975-03-01T00:00:00.000000000",
          "1975-04-01T00:00:00.000000000",
          "1975-05-01T00:00:00.000000000",
          "1975-06-01T00:00:00.000000000",
          "1975-07-01T00:00:00.000000000",
          "1975-08-01T00:00:00.000000000",
          "1975-09-01T00:00:00.000000000",
          "1975-10-01T00:00:00.000000000",
          "1975-11-01T00:00:00.000000000",
          "1975-12-01T00:00:00.000000000",
          "1976-01-01T00:00:00.000000000",
          "1976-02-01T00:00:00.000000000",
          "1976-03-01T00:00:00.000000000",
          "1976-04-01T00:00:00.000000000",
          "1976-05-01T00:00:00.000000000",
          "1976-06-01T00:00:00.000000000",
          "1976-07-01T00:00:00.000000000",
          "1976-08-01T00:00:00.000000000",
          "1976-09-01T00:00:00.000000000",
          "1976-10-01T00:00:00.000000000",
          "1976-11-01T00:00:00.000000000",
          "1976-12-01T00:00:00.000000000",
          "1977-01-01T00:00:00.000000000",
          "1977-02-01T00:00:00.000000000",
          "1977-03-01T00:00:00.000000000",
          "1977-04-01T00:00:00.000000000",
          "1977-05-01T00:00:00.000000000",
          "1977-06-01T00:00:00.000000000",
          "1977-07-01T00:00:00.000000000",
          "1977-08-01T00:00:00.000000000",
          "1977-09-01T00:00:00.000000000",
          "1977-10-01T00:00:00.000000000",
          "1977-11-01T00:00:00.000000000",
          "1977-12-01T00:00:00.000000000",
          "1978-01-01T00:00:00.000000000",
          "1978-02-01T00:00:00.000000000",
          "1978-03-01T00:00:00.000000000",
          "1978-04-01T00:00:00.000000000",
          "1978-05-01T00:00:00.000000000",
          "1978-06-01T00:00:00.000000000",
          "1978-07-01T00:00:00.000000000",
          "1978-08-01T00:00:00.000000000",
          "1978-09-01T00:00:00.000000000",
          "1978-10-01T00:00:00.000000000",
          "1978-11-01T00:00:00.000000000",
          "1978-12-01T00:00:00.000000000",
          "1979-01-01T00:00:00.000000000",
          "1979-02-01T00:00:00.000000000",
          "1979-03-01T00:00:00.000000000",
          "1979-04-01T00:00:00.000000000",
          "1979-05-01T00:00:00.000000000",
          "1979-06-01T00:00:00.000000000",
          "1979-07-01T00:00:00.000000000",
          "1979-08-01T00:00:00.000000000",
          "1979-09-01T00:00:00.000000000",
          "1979-10-01T00:00:00.000000000",
          "1979-11-01T00:00:00.000000000",
          "1979-12-01T00:00:00.000000000",
          "1980-01-01T00:00:00.000000000",
          "1980-02-01T00:00:00.000000000",
          "1980-03-01T00:00:00.000000000",
          "1980-04-01T00:00:00.000000000",
          "1980-05-01T00:00:00.000000000",
          "1980-06-01T00:00:00.000000000",
          "1980-07-01T00:00:00.000000000",
          "1980-08-01T00:00:00.000000000",
          "1980-09-01T00:00:00.000000000",
          "1980-10-01T00:00:00.000000000",
          "1980-11-01T00:00:00.000000000",
          "1980-12-01T00:00:00.000000000",
          "1981-01-01T00:00:00.000000000",
          "1981-02-01T00:00:00.000000000",
          "1981-03-01T00:00:00.000000000",
          "1981-04-01T00:00:00.000000000",
          "1981-05-01T00:00:00.000000000",
          "1981-06-01T00:00:00.000000000",
          "1981-07-01T00:00:00.000000000",
          "1981-08-01T00:00:00.000000000",
          "1981-09-01T00:00:00.000000000",
          "1981-10-01T00:00:00.000000000",
          "1981-11-01T00:00:00.000000000",
          "1981-12-01T00:00:00.000000000",
          "1982-01-01T00:00:00.000000000",
          "1982-02-01T00:00:00.000000000",
          "1982-03-01T00:00:00.000000000",
          "1982-04-01T00:00:00.000000000",
          "1982-05-01T00:00:00.000000000",
          "1982-06-01T00:00:00.000000000",
          "1982-07-01T00:00:00.000000000",
          "1982-08-01T00:00:00.000000000",
          "1982-09-01T00:00:00.000000000",
          "1982-10-01T00:00:00.000000000",
          "1982-11-01T00:00:00.000000000",
          "1982-12-01T00:00:00.000000000",
          "1983-01-01T00:00:00.000000000",
          "1983-02-01T00:00:00.000000000",
          "1983-03-01T00:00:00.000000000",
          "1983-04-01T00:00:00.000000000",
          "1983-05-01T00:00:00.000000000",
          "1983-06-01T00:00:00.000000000",
          "1983-07-01T00:00:00.000000000",
          "1983-08-01T00:00:00.000000000",
          "1983-09-01T00:00:00.000000000",
          "1983-10-01T00:00:00.000000000",
          "1983-11-01T00:00:00.000000000",
          "1983-12-01T00:00:00.000000000",
          "1984-01-01T00:00:00.000000000",
          "1984-02-01T00:00:00.000000000",
          "1984-03-01T00:00:00.000000000",
          "1984-04-01T00:00:00.000000000",
          "1984-05-01T00:00:00.000000000",
          "1984-06-01T00:00:00.000000000",
          "1984-07-01T00:00:00.000000000",
          "1984-08-01T00:00:00.000000000",
          "1984-09-01T00:00:00.000000000",
          "1984-10-01T00:00:00.000000000",
          "1984-11-01T00:00:00.000000000",
          "1984-12-01T00:00:00.000000000",
          "1985-01-01T00:00:00.000000000",
          "1985-02-01T00:00:00.000000000",
          "1985-03-01T00:00:00.000000000",
          "1985-04-01T00:00:00.000000000",
          "1985-05-01T00:00:00.000000000",
          "1985-06-01T00:00:00.000000000",
          "1985-07-01T00:00:00.000000000",
          "1985-08-01T00:00:00.000000000",
          "1985-09-01T00:00:00.000000000",
          "1985-10-01T00:00:00.000000000",
          "1985-11-01T00:00:00.000000000",
          "1985-12-01T00:00:00.000000000",
          "1986-01-01T00:00:00.000000000",
          "1986-02-01T00:00:00.000000000",
          "1986-03-01T00:00:00.000000000",
          "1986-04-01T00:00:00.000000000",
          "1986-05-01T00:00:00.000000000",
          "1986-06-01T00:00:00.000000000",
          "1986-07-01T00:00:00.000000000",
          "1986-08-01T00:00:00.000000000",
          "1986-09-01T00:00:00.000000000",
          "1986-10-01T00:00:00.000000000",
          "1986-11-01T00:00:00.000000000",
          "1986-12-01T00:00:00.000000000",
          "1987-01-01T00:00:00.000000000",
          "1987-02-01T00:00:00.000000000",
          "1987-03-01T00:00:00.000000000",
          "1987-04-01T00:00:00.000000000",
          "1987-05-01T00:00:00.000000000",
          "1987-06-01T00:00:00.000000000",
          "1987-07-01T00:00:00.000000000",
          "1987-08-01T00:00:00.000000000",
          "1987-09-01T00:00:00.000000000",
          "1987-10-01T00:00:00.000000000",
          "1987-11-01T00:00:00.000000000",
          "1987-12-01T00:00:00.000000000",
          "1988-01-01T00:00:00.000000000",
          "1988-02-01T00:00:00.000000000",
          "1988-03-01T00:00:00.000000000",
          "1988-04-01T00:00:00.000000000",
          "1988-05-01T00:00:00.000000000",
          "1988-06-01T00:00:00.000000000",
          "1988-07-01T00:00:00.000000000",
          "1988-08-01T00:00:00.000000000",
          "1988-09-01T00:00:00.000000000",
          "1988-10-01T00:00:00.000000000",
          "1988-11-01T00:00:00.000000000",
          "1988-12-01T00:00:00.000000000",
          "1989-01-01T00:00:00.000000000",
          "1989-02-01T00:00:00.000000000",
          "1989-03-01T00:00:00.000000000",
          "1989-04-01T00:00:00.000000000",
          "1989-05-01T00:00:00.000000000",
          "1989-06-01T00:00:00.000000000",
          "1989-07-01T00:00:00.000000000",
          "1989-08-01T00:00:00.000000000",
          "1989-09-01T00:00:00.000000000",
          "1989-10-01T00:00:00.000000000",
          "1989-11-01T00:00:00.000000000",
          "1989-12-01T00:00:00.000000000",
          "1990-01-01T00:00:00.000000000",
          "1990-02-01T00:00:00.000000000",
          "1990-03-01T00:00:00.000000000",
          "1990-04-01T00:00:00.000000000",
          "1990-05-01T00:00:00.000000000",
          "1990-06-01T00:00:00.000000000",
          "1990-07-01T00:00:00.000000000",
          "1990-08-01T00:00:00.000000000",
          "1990-09-01T00:00:00.000000000",
          "1990-10-01T00:00:00.000000000",
          "1990-11-01T00:00:00.000000000",
          "1990-12-01T00:00:00.000000000",
          "1991-01-01T00:00:00.000000000",
          "1991-02-01T00:00:00.000000000",
          "1991-03-01T00:00:00.000000000",
          "1991-04-01T00:00:00.000000000",
          "1991-05-01T00:00:00.000000000",
          "1991-06-01T00:00:00.000000000",
          "1991-07-01T00:00:00.000000000",
          "1991-08-01T00:00:00.000000000",
          "1991-09-01T00:00:00.000000000",
          "1991-10-01T00:00:00.000000000",
          "1991-11-01T00:00:00.000000000",
          "1991-12-01T00:00:00.000000000",
          "1992-01-01T00:00:00.000000000",
          "1992-02-01T00:00:00.000000000",
          "1992-03-01T00:00:00.000000000",
          "1992-04-01T00:00:00.000000000",
          "1992-05-01T00:00:00.000000000",
          "1992-06-01T00:00:00.000000000",
          "1992-07-01T00:00:00.000000000",
          "1992-08-01T00:00:00.000000000",
          "1992-09-01T00:00:00.000000000",
          "1992-10-01T00:00:00.000000000",
          "1992-11-01T00:00:00.000000000",
          "1992-12-01T00:00:00.000000000",
          "1993-01-01T00:00:00.000000000",
          "1993-02-01T00:00:00.000000000",
          "1993-03-01T00:00:00.000000000",
          "1993-04-01T00:00:00.000000000",
          "1993-05-01T00:00:00.000000000",
          "1993-06-01T00:00:00.000000000",
          "1993-07-01T00:00:00.000000000",
          "1993-08-01T00:00:00.000000000",
          "1993-09-01T00:00:00.000000000",
          "1993-10-01T00:00:00.000000000",
          "1993-11-01T00:00:00.000000000",
          "1993-12-01T00:00:00.000000000",
          "1994-01-01T00:00:00.000000000",
          "1994-02-01T00:00:00.000000000",
          "1994-03-01T00:00:00.000000000",
          "1994-04-01T00:00:00.000000000",
          "1994-05-01T00:00:00.000000000",
          "1994-06-01T00:00:00.000000000",
          "1994-07-01T00:00:00.000000000",
          "1994-08-01T00:00:00.000000000",
          "1994-09-01T00:00:00.000000000",
          "1994-10-01T00:00:00.000000000",
          "1994-11-01T00:00:00.000000000",
          "1994-12-01T00:00:00.000000000",
          "1995-01-01T00:00:00.000000000",
          "1995-02-01T00:00:00.000000000",
          "1995-03-01T00:00:00.000000000",
          "1995-04-01T00:00:00.000000000",
          "1995-05-01T00:00:00.000000000",
          "1995-06-01T00:00:00.000000000",
          "1995-07-01T00:00:00.000000000",
          "1995-08-01T00:00:00.000000000",
          "1995-09-01T00:00:00.000000000",
          "1995-10-01T00:00:00.000000000",
          "1995-11-01T00:00:00.000000000",
          "1995-12-01T00:00:00.000000000",
          "1996-01-01T00:00:00.000000000",
          "1996-02-01T00:00:00.000000000",
          "1996-03-01T00:00:00.000000000",
          "1996-04-01T00:00:00.000000000",
          "1996-05-01T00:00:00.000000000",
          "1996-06-01T00:00:00.000000000",
          "1996-07-01T00:00:00.000000000",
          "1996-08-01T00:00:00.000000000",
          "1996-09-01T00:00:00.000000000",
          "1996-10-01T00:00:00.000000000",
          "1996-11-01T00:00:00.000000000",
          "1996-12-01T00:00:00.000000000",
          "1997-01-01T00:00:00.000000000",
          "1997-02-01T00:00:00.000000000",
          "1997-03-01T00:00:00.000000000",
          "1997-04-01T00:00:00.000000000",
          "1997-05-01T00:00:00.000000000",
          "1997-06-01T00:00:00.000000000",
          "1997-07-01T00:00:00.000000000",
          "1997-08-01T00:00:00.000000000",
          "1997-09-01T00:00:00.000000000",
          "1997-10-01T00:00:00.000000000",
          "1997-11-01T00:00:00.000000000",
          "1997-12-01T00:00:00.000000000",
          "1998-01-01T00:00:00.000000000",
          "1998-02-01T00:00:00.000000000",
          "1998-03-01T00:00:00.000000000",
          "1998-04-01T00:00:00.000000000",
          "1998-05-01T00:00:00.000000000",
          "1998-06-01T00:00:00.000000000",
          "1998-07-01T00:00:00.000000000",
          "1998-08-01T00:00:00.000000000",
          "1998-09-01T00:00:00.000000000",
          "1998-10-01T00:00:00.000000000",
          "1998-11-01T00:00:00.000000000",
          "1998-12-01T00:00:00.000000000",
          "1999-01-01T00:00:00.000000000",
          "1999-02-01T00:00:00.000000000",
          "1999-03-01T00:00:00.000000000",
          "1999-05-01T00:00:00.000000000",
          "1999-06-01T00:00:00.000000000",
          "1999-07-01T00:00:00.000000000",
          "1999-08-01T00:00:00.000000000",
          "1999-09-01T00:00:00.000000000",
          "1999-10-01T00:00:00.000000000",
          "1999-11-01T00:00:00.000000000",
          "1999-12-01T00:00:00.000000000",
          "2000-01-01T00:00:00.000000000",
          "2000-02-01T00:00:00.000000000",
          "2000-03-01T00:00:00.000000000",
          "2000-04-01T00:00:00.000000000",
          "2000-05-01T00:00:00.000000000",
          "2000-06-01T00:00:00.000000000",
          "2000-07-01T00:00:00.000000000",
          "2000-08-01T00:00:00.000000000",
          "2000-09-01T00:00:00.000000000",
          "2000-10-01T00:00:00.000000000",
          "2000-11-01T00:00:00.000000000",
          "2000-12-01T00:00:00.000000000",
          "2001-01-01T00:00:00.000000000",
          "2001-02-01T00:00:00.000000000",
          "2001-03-01T00:00:00.000000000",
          "2001-04-01T00:00:00.000000000",
          "2001-05-01T00:00:00.000000000",
          "2001-06-01T00:00:00.000000000",
          "2001-07-01T00:00:00.000000000",
          "2001-08-01T00:00:00.000000000",
          "2001-09-01T00:00:00.000000000",
          "2001-10-01T00:00:00.000000000",
          "2001-11-01T00:00:00.000000000",
          "2001-12-01T00:00:00.000000000",
          "2002-01-01T00:00:00.000000000",
          "2002-02-01T00:00:00.000000000",
          "2002-03-01T00:00:00.000000000",
          "2002-04-01T00:00:00.000000000",
          "2002-05-01T00:00:00.000000000",
          "2002-06-01T00:00:00.000000000",
          "2002-07-01T00:00:00.000000000",
          "2002-08-01T00:00:00.000000000",
          "2002-09-01T00:00:00.000000000",
          "2002-10-01T00:00:00.000000000",
          "2002-11-01T00:00:00.000000000",
          "2002-12-01T00:00:00.000000000",
          "2003-01-01T00:00:00.000000000",
          "2003-02-01T00:00:00.000000000",
          "2003-03-01T00:00:00.000000000",
          "2003-04-01T00:00:00.000000000",
          "2003-05-01T00:00:00.000000000",
          "2003-06-01T00:00:00.000000000",
          "2003-07-01T00:00:00.000000000",
          "2003-08-01T00:00:00.000000000",
          "2003-09-01T00:00:00.000000000",
          "2003-10-01T00:00:00.000000000",
          "2003-11-01T00:00:00.000000000",
          "2003-12-01T00:00:00.000000000",
          "2004-01-01T00:00:00.000000000",
          "2004-02-01T00:00:00.000000000",
          "2004-03-01T00:00:00.000000000",
          "2004-04-01T00:00:00.000000000",
          "2004-05-01T00:00:00.000000000",
          "2004-06-01T00:00:00.000000000",
          "2004-07-01T00:00:00.000000000",
          "2004-08-01T00:00:00.000000000",
          "2004-09-01T00:00:00.000000000",
          "2004-10-01T00:00:00.000000000",
          "2004-11-01T00:00:00.000000000",
          "2004-12-01T00:00:00.000000000",
          "2005-01-01T00:00:00.000000000",
          "2005-02-01T00:00:00.000000000",
          "2005-03-01T00:00:00.000000000",
          "2005-04-01T00:00:00.000000000",
          "2005-05-01T00:00:00.000000000",
          "2005-06-01T00:00:00.000000000",
          "2005-07-01T00:00:00.000000000",
          "2005-08-01T00:00:00.000000000",
          "2005-09-01T00:00:00.000000000",
          "2005-10-01T00:00:00.000000000",
          "2005-11-01T00:00:00.000000000",
          "2005-12-01T00:00:00.000000000",
          "2006-01-01T00:00:00.000000000",
          "2006-02-01T00:00:00.000000000",
          "2006-03-01T00:00:00.000000000",
          "2006-04-01T00:00:00.000000000",
          "2006-05-01T00:00:00.000000000",
          "2006-06-01T00:00:00.000000000",
          "2006-07-01T00:00:00.000000000",
          "2006-08-01T00:00:00.000000000",
          "2006-09-01T00:00:00.000000000",
          "2006-10-01T00:00:00.000000000",
          "2006-11-01T00:00:00.000000000",
          "2006-12-01T00:00:00.000000000",
          "2007-01-01T00:00:00.000000000",
          "2007-02-01T00:00:00.000000000",
          "2007-03-01T00:00:00.000000000",
          "2007-04-01T00:00:00.000000000",
          "2007-05-01T00:00:00.000000000",
          "2007-06-01T00:00:00.000000000",
          "2007-07-01T00:00:00.000000000",
          "2007-08-01T00:00:00.000000000",
          "2007-09-01T00:00:00.000000000",
          "2007-10-01T00:00:00.000000000",
          "2007-11-01T00:00:00.000000000",
          "2007-12-01T00:00:00.000000000",
          "2008-01-01T00:00:00.000000000",
          "2008-02-01T00:00:00.000000000",
          "2008-03-01T00:00:00.000000000",
          "2008-04-01T00:00:00.000000000",
          "2008-05-01T00:00:00.000000000",
          "2008-06-01T00:00:00.000000000",
          "2008-07-01T00:00:00.000000000",
          "2008-08-01T00:00:00.000000000",
          "2008-09-01T00:00:00.000000000",
          "2008-10-01T00:00:00.000000000",
          "2008-11-01T00:00:00.000000000",
          "2008-12-01T00:00:00.000000000",
          "2009-01-01T00:00:00.000000000",
          "2009-02-01T00:00:00.000000000",
          "2009-03-01T00:00:00.000000000",
          "2009-04-01T00:00:00.000000000",
          "2009-05-01T00:00:00.000000000",
          "2009-06-01T00:00:00.000000000",
          "2009-07-01T00:00:00.000000000",
          "2009-08-01T00:00:00.000000000",
          "2009-09-01T00:00:00.000000000",
          "2009-10-01T00:00:00.000000000",
          "2009-11-01T00:00:00.000000000",
          "2009-12-01T00:00:00.000000000",
          "2010-01-01T00:00:00.000000000",
          "2010-02-01T00:00:00.000000000",
          "2010-03-01T00:00:00.000000000",
          "2010-04-01T00:00:00.000000000",
          "2010-05-01T00:00:00.000000000",
          "2010-06-01T00:00:00.000000000",
          "2010-07-01T00:00:00.000000000",
          "2010-08-01T00:00:00.000000000",
          "2010-09-01T00:00:00.000000000",
          "2010-10-01T00:00:00.000000000",
          "2010-11-01T00:00:00.000000000",
          "2010-12-01T00:00:00.000000000",
          "2011-01-01T00:00:00.000000000",
          "2011-02-01T00:00:00.000000000",
          "2011-03-01T00:00:00.000000000",
          "2011-04-01T00:00:00.000000000",
          "2011-05-01T00:00:00.000000000",
          "2011-06-01T00:00:00.000000000",
          "2011-07-01T00:00:00.000000000",
          "2011-08-01T00:00:00.000000000",
          "2011-09-01T00:00:00.000000000",
          "2011-10-01T00:00:00.000000000",
          "2011-11-01T00:00:00.000000000",
          "2011-12-01T00:00:00.000000000",
          "2012-01-01T00:00:00.000000000",
          "2012-02-01T00:00:00.000000000",
          "2012-03-01T00:00:00.000000000",
          "2012-04-01T00:00:00.000000000",
          "2012-05-01T00:00:00.000000000",
          "2012-06-01T00:00:00.000000000",
          "2012-07-01T00:00:00.000000000",
          "2012-08-01T00:00:00.000000000",
          "2012-09-01T00:00:00.000000000",
          "2012-10-01T00:00:00.000000000",
          "2012-11-01T00:00:00.000000000",
          "2012-12-01T00:00:00.000000000",
          "2013-01-01T00:00:00.000000000",
          "2013-02-01T00:00:00.000000000",
          "2013-03-01T00:00:00.000000000",
          "2013-04-01T00:00:00.000000000",
          "2013-05-01T00:00:00.000000000",
          "2013-06-01T00:00:00.000000000",
          "2013-07-01T00:00:00.000000000",
          "2013-08-01T00:00:00.000000000",
          "2013-09-01T00:00:00.000000000",
          "2013-10-01T00:00:00.000000000",
          "2013-11-01T00:00:00.000000000",
          "2013-12-01T00:00:00.000000000",
          "2014-01-01T00:00:00.000000000",
          "2014-02-01T00:00:00.000000000",
          "2014-03-01T00:00:00.000000000",
          "2014-04-01T00:00:00.000000000",
          "2014-05-01T00:00:00.000000000",
          "2014-06-01T00:00:00.000000000",
          "2014-07-01T00:00:00.000000000",
          "2014-08-01T00:00:00.000000000",
          "2014-09-01T00:00:00.000000000",
          "2014-10-01T00:00:00.000000000",
          "2014-11-01T00:00:00.000000000",
          "2014-12-01T00:00:00.000000000",
          "2015-01-01T00:00:00.000000000",
          "2015-02-01T00:00:00.000000000",
          "2015-03-01T00:00:00.000000000",
          "2015-04-01T00:00:00.000000000",
          "2015-05-01T00:00:00.000000000",
          "2015-06-01T00:00:00.000000000",
          "2015-07-01T00:00:00.000000000",
          "2015-08-01T00:00:00.000000000",
          "2015-09-01T00:00:00.000000000",
          "2015-10-01T00:00:00.000000000",
          "2015-11-01T00:00:00.000000000",
          "2015-12-01T00:00:00.000000000",
          "2016-01-01T00:00:00.000000000",
          "2016-02-01T00:00:00.000000000",
          "2016-03-01T00:00:00.000000000",
          "2016-04-01T00:00:00.000000000",
          "2016-05-01T00:00:00.000000000",
          "2016-06-01T00:00:00.000000000",
          "2016-07-01T00:00:00.000000000",
          "2016-08-01T00:00:00.000000000",
          "2016-09-01T00:00:00.000000000",
          "2016-10-01T00:00:00.000000000",
          "2016-11-01T00:00:00.000000000",
          "2016-12-01T00:00:00.000000000",
          "2017-01-01T00:00:00.000000000",
          "2017-02-01T00:00:00.000000000",
          "2017-03-01T00:00:00.000000000",
          "2017-04-01T00:00:00.000000000",
          "2017-05-01T00:00:00.000000000",
          "2017-06-01T00:00:00.000000000",
          "2017-07-01T00:00:00.000000000",
          "2017-08-01T00:00:00.000000000",
          "2017-09-01T00:00:00.000000000",
          "2017-10-01T00:00:00.000000000",
          "2017-11-01T00:00:00.000000000",
          "2017-12-01T00:00:00.000000000",
          "2018-01-01T00:00:00.000000000",
          "2018-02-01T00:00:00.000000000",
          "2018-03-01T00:00:00.000000000",
          "2018-04-01T00:00:00.000000000",
          "2018-05-01T00:00:00.000000000",
          "2018-06-01T00:00:00.000000000",
          "2018-07-01T00:00:00.000000000",
          "2018-08-01T00:00:00.000000000",
          "2018-09-01T00:00:00.000000000",
          "2018-10-01T00:00:00.000000000",
          "2018-11-01T00:00:00.000000000",
          "2018-12-01T00:00:00.000000000",
          "2019-01-01T00:00:00.000000000",
          "2019-02-01T00:00:00.000000000",
          "2019-03-01T00:00:00.000000000",
          "2019-04-01T00:00:00.000000000",
          "2019-05-01T00:00:00.000000000",
          "2019-06-01T00:00:00.000000000",
          "2019-07-01T00:00:00.000000000",
          "2019-08-01T00:00:00.000000000",
          "2019-09-01T00:00:00.000000000",
          "2019-10-01T00:00:00.000000000",
          "2019-11-01T00:00:00.000000000",
          "2019-12-01T00:00:00.000000000",
          "2020-01-01T00:00:00.000000000",
          "2020-02-01T00:00:00.000000000",
          "2020-03-01T00:00:00.000000000",
          "2020-04-01T00:00:00.000000000",
          "2020-05-01T00:00:00.000000000",
          "2020-06-01T00:00:00.000000000",
          "2020-07-01T00:00:00.000000000",
          "2020-08-01T00:00:00.000000000",
          "2020-09-01T00:00:00.000000000",
          "2020-10-01T00:00:00.000000000",
          "2020-11-01T00:00:00.000000000",
          "2020-12-01T00:00:00.000000000",
          "2021-01-01T00:00:00.000000000",
          "2021-02-01T00:00:00.000000000",
          "2021-03-01T00:00:00.000000000",
          "2021-04-01T00:00:00.000000000",
          "2021-05-01T00:00:00.000000000",
          "2021-06-01T00:00:00.000000000",
          "2021-07-01T00:00:00.000000000",
          "2021-08-01T00:00:00.000000000",
          "2021-09-01T00:00:00.000000000",
          "2021-10-01T00:00:00.000000000",
          "2021-11-01T00:00:00.000000000",
          "2021-12-01T00:00:00.000000000",
          "2022-01-01T00:00:00.000000000",
          "2022-02-01T00:00:00.000000000",
          "2022-03-01T00:00:00.000000000",
          "2022-04-01T00:00:00.000000000",
          "2022-05-01T00:00:00.000000000",
          "2022-06-01T00:00:00.000000000",
          "2022-07-01T00:00:00.000000000",
          "2022-08-01T00:00:00.000000000",
          "2022-09-01T00:00:00.000000000",
          "2022-10-01T00:00:00.000000000",
          "2022-11-01T00:00:00.000000000",
          "2022-12-01T00:00:00.000000000",
          "2023-01-01T00:00:00.000000000",
          "2023-02-01T00:00:00.000000000",
          "2023-03-01T00:00:00.000000000",
          "2023-04-01T00:00:00.000000000",
          "2023-05-01T00:00:00.000000000",
          "2023-06-01T00:00:00.000000000",
          "2023-07-01T00:00:00.000000000",
          "2023-08-01T00:00:00.000000000",
          "2023-09-01T00:00:00.000000000",
          "2023-10-01T00:00:00.000000000",
          "2023-11-01T00:00:00.000000000",
          "2023-12-01T00:00:00.000000000",
          "2024-01-01T00:00:00.000000000",
          "2024-02-01T00:00:00.000000000",
          "2024-03-01T00:00:00.000000000",
          "2024-04-01T00:00:00.000000000",
          "2024-05-01T00:00:00.000000000",
          "2024-06-01T00:00:00.000000000",
          "2024-07-01T00:00:00.000000000",
          "2024-08-01T00:00:00.000000000",
          "2024-09-01T00:00:00.000000000",
          "2024-10-01T00:00:00.000000000",
          "2024-11-01T00:00:00.000000000",
          "2024-12-01T00:00:00.000000000",
          "2025-01-01T00:00:00.000000000"
         ],
         "y": {
          "bdata": "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",
          "dtype": "f8"
         }
        },
        {
         "line": {
          "color": "red"
         },
         "mode": "lines",
         "name": "business confidence (method: path)",
         "type": "scatter",
         "x": [
          "1948-01-01T00:00:00.000000000",
          "1948-02-01T00:00:00.000000000",
          "1948-03-01T00:00:00.000000000",
          "1948-04-01T00:00:00.000000000",
          "1948-05-01T00:00:00.000000000",
          "1948-06-01T00:00:00.000000000",
          "1948-07-01T00:00:00.000000000",
          "1948-08-01T00:00:00.000000000",
          "1948-09-01T00:00:00.000000000",
          "1948-10-01T00:00:00.000000000",
          "1948-11-01T00:00:00.000000000",
          "1948-12-01T00:00:00.000000000",
          "1949-01-01T00:00:00.000000000",
          "1949-02-01T00:00:00.000000000",
          "1949-03-01T00:00:00.000000000",
          "1949-04-01T00:00:00.000000000",
          "1949-05-01T00:00:00.000000000",
          "1949-06-01T00:00:00.000000000",
          "1949-07-01T00:00:00.000000000",
          "1949-08-01T00:00:00.000000000",
          "1949-09-01T00:00:00.000000000",
          "1949-10-01T00:00:00.000000000",
          "1949-11-01T00:00:00.000000000",
          "1949-12-01T00:00:00.000000000",
          "1950-01-01T00:00:00.000000000",
          "1950-02-01T00:00:00.000000000",
          "1950-03-01T00:00:00.000000000",
          "1950-04-01T00:00:00.000000000",
          "1950-05-01T00:00:00.000000000",
          "1950-06-01T00:00:00.000000000",
          "1950-07-01T00:00:00.000000000",
          "1950-08-01T00:00:00.000000000",
          "1950-09-01T00:00:00.000000000",
          "1950-10-01T00:00:00.000000000",
          "1950-11-01T00:00:00.000000000",
          "1950-12-01T00:00:00.000000000",
          "1951-01-01T00:00:00.000000000",
          "1951-02-01T00:00:00.000000000",
          "1951-03-01T00:00:00.000000000",
          "1951-04-01T00:00:00.000000000",
          "1951-05-01T00:00:00.000000000",
          "1951-06-01T00:00:00.000000000",
          "1951-07-01T00:00:00.000000000",
          "1951-08-01T00:00:00.000000000",
          "1951-09-01T00:00:00.000000000",
          "1951-10-01T00:00:00.000000000",
          "1951-11-01T00:00:00.000000000",
          "1951-12-01T00:00:00.000000000",
          "1952-01-01T00:00:00.000000000",
          "1952-02-01T00:00:00.000000000",
          "1952-03-01T00:00:00.000000000",
          "1952-04-01T00:00:00.000000000",
          "1952-05-01T00:00:00.000000000",
          "1952-06-01T00:00:00.000000000",
          "1952-07-01T00:00:00.000000000",
          "1952-08-01T00:00:00.000000000",
          "1952-09-01T00:00:00.000000000",
          "1952-10-01T00:00:00.000000000",
          "1952-11-01T00:00:00.000000000",
          "1952-12-01T00:00:00.000000000",
          "1953-01-01T00:00:00.000000000",
          "1953-02-01T00:00:00.000000000",
          "1953-03-01T00:00:00.000000000",
          "1953-04-01T00:00:00.000000000",
          "1953-05-01T00:00:00.000000000",
          "1953-06-01T00:00:00.000000000",
          "1953-07-01T00:00:00.000000000",
          "1953-08-01T00:00:00.000000000",
          "1953-09-01T00:00:00.000000000",
          "1953-10-01T00:00:00.000000000",
          "1953-11-01T00:00:00.000000000",
          "1953-12-01T00:00:00.000000000",
          "1954-01-01T00:00:00.000000000",
          "1954-02-01T00:00:00.000000000",
          "1954-03-01T00:00:00.000000000",
          "1954-04-01T00:00:00.000000000",
          "1954-05-01T00:00:00.000000000",
          "1954-06-01T00:00:00.000000000",
          "1954-07-01T00:00:00.000000000",
          "1954-08-01T00:00:00.000000000",
          "1954-09-01T00:00:00.000000000",
          "1954-10-01T00:00:00.000000000",
          "1954-11-01T00:00:00.000000000",
          "1954-12-01T00:00:00.000000000",
          "1955-01-01T00:00:00.000000000",
          "1955-02-01T00:00:00.000000000",
          "1955-03-01T00:00:00.000000000",
          "1955-04-01T00:00:00.000000000",
          "1955-05-01T00:00:00.000000000",
          "1955-06-01T00:00:00.000000000",
          "1955-07-01T00:00:00.000000000",
          "1955-08-01T00:00:00.000000000",
          "1955-09-01T00:00:00.000000000",
          "1955-10-01T00:00:00.000000000",
          "1955-11-01T00:00:00.000000000",
          "1955-12-01T00:00:00.000000000",
          "1956-01-01T00:00:00.000000000",
          "1956-02-01T00:00:00.000000000",
          "1956-03-01T00:00:00.000000000",
          "1956-04-01T00:00:00.000000000",
          "1956-05-01T00:00:00.000000000",
          "1956-06-01T00:00:00.000000000",
          "1956-07-01T00:00:00.000000000",
          "1956-08-01T00:00:00.000000000",
          "1956-09-01T00:00:00.000000000",
          "1956-10-01T00:00:00.000000000",
          "1956-11-01T00:00:00.000000000",
          "1956-12-01T00:00:00.000000000",
          "1957-01-01T00:00:00.000000000",
          "1957-02-01T00:00:00.000000000",
          "1957-03-01T00:00:00.000000000",
          "1957-04-01T00:00:00.000000000",
          "1957-05-01T00:00:00.000000000",
          "1957-06-01T00:00:00.000000000",
          "1957-07-01T00:00:00.000000000",
          "1957-08-01T00:00:00.000000000",
          "1957-09-01T00:00:00.000000000",
          "1957-10-01T00:00:00.000000000",
          "1957-11-01T00:00:00.000000000",
          "1957-12-01T00:00:00.000000000",
          "1958-01-01T00:00:00.000000000",
          "1958-02-01T00:00:00.000000000",
          "1958-03-01T00:00:00.000000000",
          "1958-04-01T00:00:00.000000000",
          "1958-05-01T00:00:00.000000000",
          "1958-06-01T00:00:00.000000000",
          "1958-07-01T00:00:00.000000000",
          "1958-08-01T00:00:00.000000000",
          "1958-09-01T00:00:00.000000000",
          "1958-10-01T00:00:00.000000000",
          "1958-11-01T00:00:00.000000000",
          "1958-12-01T00:00:00.000000000",
          "1959-01-01T00:00:00.000000000",
          "1959-02-01T00:00:00.000000000",
          "1959-03-01T00:00:00.000000000",
          "1959-04-01T00:00:00.000000000",
          "1959-05-01T00:00:00.000000000",
          "1959-06-01T00:00:00.000000000",
          "1959-07-01T00:00:00.000000000",
          "1959-08-01T00:00:00.000000000",
          "1959-09-01T00:00:00.000000000",
          "1959-10-01T00:00:00.000000000",
          "1959-11-01T00:00:00.000000000",
          "1959-12-01T00:00:00.000000000",
          "1960-01-01T00:00:00.000000000",
          "1960-02-01T00:00:00.000000000",
          "1960-03-01T00:00:00.000000000",
          "1960-04-01T00:00:00.000000000",
          "1960-05-01T00:00:00.000000000",
          "1960-06-01T00:00:00.000000000",
          "1960-07-01T00:00:00.000000000",
          "1960-08-01T00:00:00.000000000",
          "1960-09-01T00:00:00.000000000",
          "1960-10-01T00:00:00.000000000",
          "1960-11-01T00:00:00.000000000",
          "1960-12-01T00:00:00.000000000",
          "1961-01-01T00:00:00.000000000",
          "1961-02-01T00:00:00.000000000",
          "1961-03-01T00:00:00.000000000",
          "1961-04-01T00:00:00.000000000",
          "1961-05-01T00:00:00.000000000",
          "1961-06-01T00:00:00.000000000",
          "1961-07-01T00:00:00.000000000",
          "1961-08-01T00:00:00.000000000",
          "1961-09-01T00:00:00.000000000",
          "1961-10-01T00:00:00.000000000",
          "1961-11-01T00:00:00.000000000",
          "1961-12-01T00:00:00.000000000",
          "1962-01-01T00:00:00.000000000",
          "1962-02-01T00:00:00.000000000",
          "1962-03-01T00:00:00.000000000",
          "1962-04-01T00:00:00.000000000",
          "1962-05-01T00:00:00.000000000",
          "1962-06-01T00:00:00.000000000",
          "1962-07-01T00:00:00.000000000",
          "1962-08-01T00:00:00.000000000",
          "1962-09-01T00:00:00.000000000",
          "1962-10-01T00:00:00.000000000",
          "1962-11-01T00:00:00.000000000",
          "1962-12-01T00:00:00.000000000",
          "1963-01-01T00:00:00.000000000",
          "1963-02-01T00:00:00.000000000",
          "1963-03-01T00:00:00.000000000",
          "1963-04-01T00:00:00.000000000",
          "1963-05-01T00:00:00.000000000",
          "1963-06-01T00:00:00.000000000",
          "1963-07-01T00:00:00.000000000",
          "1963-08-01T00:00:00.000000000",
          "1963-09-01T00:00:00.000000000",
          "1963-10-01T00:00:00.000000000",
          "1963-11-01T00:00:00.000000000",
          "1963-12-01T00:00:00.000000000",
          "1964-01-01T00:00:00.000000000",
          "1964-02-01T00:00:00.000000000",
          "1964-03-01T00:00:00.000000000",
          "1964-04-01T00:00:00.000000000",
          "1964-05-01T00:00:00.000000000",
          "1964-06-01T00:00:00.000000000",
          "1964-07-01T00:00:00.000000000",
          "1964-08-01T00:00:00.000000000",
          "1964-09-01T00:00:00.000000000",
          "1964-10-01T00:00:00.000000000",
          "1964-11-01T00:00:00.000000000",
          "1964-12-01T00:00:00.000000000",
          "1965-01-01T00:00:00.000000000",
          "1965-02-01T00:00:00.000000000",
          "1965-03-01T00:00:00.000000000",
          "1965-04-01T00:00:00.000000000",
          "1965-05-01T00:00:00.000000000",
          "1965-06-01T00:00:00.000000000",
          "1965-07-01T00:00:00.000000000",
          "1965-08-01T00:00:00.000000000",
          "1965-09-01T00:00:00.000000000",
          "1965-10-01T00:00:00.000000000",
          "1965-11-01T00:00:00.000000000",
          "1965-12-01T00:00:00.000000000",
          "1966-01-01T00:00:00.000000000",
          "1966-02-01T00:00:00.000000000",
          "1966-03-01T00:00:00.000000000",
          "1966-04-01T00:00:00.000000000",
          "1966-05-01T00:00:00.000000000",
          "1966-06-01T00:00:00.000000000",
          "1966-07-01T00:00:00.000000000",
          "1966-08-01T00:00:00.000000000",
          "1966-09-01T00:00:00.000000000",
          "1966-10-01T00:00:00.000000000",
          "1966-11-01T00:00:00.000000000",
          "1966-12-01T00:00:00.000000000",
          "1967-01-01T00:00:00.000000000",
          "1967-02-01T00:00:00.000000000",
          "1967-03-01T00:00:00.000000000",
          "1967-04-01T00:00:00.000000000",
          "1967-05-01T00:00:00.000000000",
          "1967-06-01T00:00:00.000000000",
          "1967-07-01T00:00:00.000000000",
          "1967-08-01T00:00:00.000000000",
          "1967-09-01T00:00:00.000000000",
          "1967-10-01T00:00:00.000000000",
          "1967-11-01T00:00:00.000000000",
          "1967-12-01T00:00:00.000000000",
          "1968-01-01T00:00:00.000000000",
          "1968-02-01T00:00:00.000000000",
          "1968-03-01T00:00:00.000000000",
          "1968-04-01T00:00:00.000000000",
          "1968-05-01T00:00:00.000000000",
          "1968-06-01T00:00:00.000000000",
          "1968-07-01T00:00:00.000000000",
          "1968-08-01T00:00:00.000000000",
          "1968-09-01T00:00:00.000000000",
          "1968-10-01T00:00:00.000000000",
          "1968-11-01T00:00:00.000000000",
          "1968-12-01T00:00:00.000000000",
          "1969-01-01T00:00:00.000000000",
          "1969-02-01T00:00:00.000000000",
          "1969-03-01T00:00:00.000000000",
          "1969-04-01T00:00:00.000000000",
          "1969-05-01T00:00:00.000000000",
          "1969-06-01T00:00:00.000000000",
          "1969-07-01T00:00:00.000000000",
          "1969-08-01T00:00:00.000000000",
          "1969-09-01T00:00:00.000000000",
          "1969-10-01T00:00:00.000000000",
          "1969-11-01T00:00:00.000000000",
          "1969-12-01T00:00:00.000000000",
          "1970-01-01T00:00:00.000000000",
          "1970-02-01T00:00:00.000000000",
          "1970-03-01T00:00:00.000000000",
          "1970-04-01T00:00:00.000000000",
          "1970-05-01T00:00:00.000000000",
          "1970-06-01T00:00:00.000000000",
          "1970-07-01T00:00:00.000000000",
          "1970-08-01T00:00:00.000000000",
          "1970-09-01T00:00:00.000000000",
          "1970-10-01T00:00:00.000000000",
          "1970-11-01T00:00:00.000000000",
          "1970-12-01T00:00:00.000000000",
          "1971-01-01T00:00:00.000000000",
          "1971-02-01T00:00:00.000000000",
          "1971-03-01T00:00:00.000000000",
          "1971-04-01T00:00:00.000000000",
          "1971-05-01T00:00:00.000000000",
          "1971-06-01T00:00:00.000000000",
          "1971-07-01T00:00:00.000000000",
          "1971-08-01T00:00:00.000000000",
          "1971-09-01T00:00:00.000000000",
          "1971-10-01T00:00:00.000000000",
          "1971-11-01T00:00:00.000000000",
          "1971-12-01T00:00:00.000000000",
          "1972-01-01T00:00:00.000000000",
          "1972-02-01T00:00:00.000000000",
          "1972-03-01T00:00:00.000000000",
          "1972-04-01T00:00:00.000000000",
          "1972-05-01T00:00:00.000000000",
          "1972-06-01T00:00:00.000000000",
          "1972-07-01T00:00:00.000000000",
          "1972-08-01T00:00:00.000000000",
          "1972-09-01T00:00:00.000000000",
          "1972-10-01T00:00:00.000000000",
          "1972-11-01T00:00:00.000000000",
          "1972-12-01T00:00:00.000000000",
          "1973-01-01T00:00:00.000000000",
          "1973-02-01T00:00:00.000000000",
          "1973-03-01T00:00:00.000000000",
          "1973-04-01T00:00:00.000000000",
          "1973-05-01T00:00:00.000000000",
          "1973-06-01T00:00:00.000000000",
          "1973-07-01T00:00:00.000000000",
          "1973-08-01T00:00:00.000000000",
          "1973-09-01T00:00:00.000000000",
          "1973-10-01T00:00:00.000000000",
          "1973-11-01T00:00:00.000000000",
          "1973-12-01T00:00:00.000000000",
          "1974-01-01T00:00:00.000000000",
          "1974-02-01T00:00:00.000000000",
          "1974-03-01T00:00:00.000000000",
          "1974-04-01T00:00:00.000000000",
          "1974-05-01T00:00:00.000000000",
          "1974-06-01T00:00:00.000000000",
          "1974-07-01T00:00:00.000000000",
          "1974-08-01T00:00:00.000000000",
          "1974-09-01T00:00:00.000000000",
          "1974-10-01T00:00:00.000000000",
          "1974-11-01T00:00:00.000000000",
          "1974-12-01T00:00:00.000000000",
          "1975-01-01T00:00:00.000000000",
          "1975-02-01T00:00:00.000000000",
          "1975-03-01T00:00:00.000000000",
          "1975-04-01T00:00:00.000000000",
          "1975-05-01T00:00:00.000000000",
          "1975-06-01T00:00:00.000000000",
          "1975-07-01T00:00:00.000000000",
          "1975-08-01T00:00:00.000000000",
          "1975-09-01T00:00:00.000000000",
          "1975-10-01T00:00:00.000000000",
          "1975-11-01T00:00:00.000000000",
          "1975-12-01T00:00:00.000000000",
          "1976-01-01T00:00:00.000000000",
          "1976-02-01T00:00:00.000000000",
          "1976-03-01T00:00:00.000000000",
          "1976-04-01T00:00:00.000000000",
          "1976-05-01T00:00:00.000000000",
          "1976-06-01T00:00:00.000000000",
          "1976-07-01T00:00:00.000000000",
          "1976-08-01T00:00:00.000000000",
          "1976-09-01T00:00:00.000000000",
          "1976-10-01T00:00:00.000000000",
          "1976-11-01T00:00:00.000000000",
          "1976-12-01T00:00:00.000000000",
          "1977-01-01T00:00:00.000000000",
          "1977-02-01T00:00:00.000000000",
          "1977-03-01T00:00:00.000000000",
          "1977-04-01T00:00:00.000000000",
          "1977-05-01T00:00:00.000000000",
          "1977-06-01T00:00:00.000000000",
          "1977-07-01T00:00:00.000000000",
          "1977-08-01T00:00:00.000000000",
          "1977-09-01T00:00:00.000000000",
          "1977-10-01T00:00:00.000000000",
          "1977-11-01T00:00:00.000000000",
          "1977-12-01T00:00:00.000000000",
          "1978-01-01T00:00:00.000000000",
          "1978-02-01T00:00:00.000000000",
          "1978-03-01T00:00:00.000000000",
          "1978-04-01T00:00:00.000000000",
          "1978-05-01T00:00:00.000000000",
          "1978-06-01T00:00:00.000000000",
          "1978-07-01T00:00:00.000000000",
          "1978-08-01T00:00:00.000000000",
          "1978-09-01T00:00:00.000000000",
          "1978-10-01T00:00:00.000000000",
          "1978-11-01T00:00:00.000000000",
          "1978-12-01T00:00:00.000000000",
          "1979-01-01T00:00:00.000000000",
          "1979-02-01T00:00:00.000000000",
          "1979-03-01T00:00:00.000000000",
          "1979-04-01T00:00:00.000000000",
          "1979-05-01T00:00:00.000000000",
          "1979-06-01T00:00:00.000000000",
          "1979-07-01T00:00:00.000000000",
          "1979-08-01T00:00:00.000000000",
          "1979-09-01T00:00:00.000000000",
          "1979-10-01T00:00:00.000000000",
          "1979-11-01T00:00:00.000000000",
          "1979-12-01T00:00:00.000000000",
          "1980-01-01T00:00:00.000000000",
          "1980-02-01T00:00:00.000000000",
          "1980-03-01T00:00:00.000000000",
          "1980-04-01T00:00:00.000000000",
          "1980-05-01T00:00:00.000000000",
          "1980-06-01T00:00:00.000000000",
          "1980-07-01T00:00:00.000000000",
          "1980-08-01T00:00:00.000000000",
          "1980-09-01T00:00:00.000000000",
          "1980-10-01T00:00:00.000000000",
          "1980-11-01T00:00:00.000000000",
          "1980-12-01T00:00:00.000000000",
          "1981-01-01T00:00:00.000000000",
          "1981-02-01T00:00:00.000000000",
          "1981-03-01T00:00:00.000000000",
          "1981-04-01T00:00:00.000000000",
          "1981-05-01T00:00:00.000000000",
          "1981-06-01T00:00:00.000000000",
          "1981-07-01T00:00:00.000000000",
          "1981-08-01T00:00:00.000000000",
          "1981-09-01T00:00:00.000000000",
          "1981-10-01T00:00:00.000000000",
          "1981-11-01T00:00:00.000000000",
          "1981-12-01T00:00:00.000000000",
          "1982-01-01T00:00:00.000000000",
          "1982-02-01T00:00:00.000000000",
          "1982-03-01T00:00:00.000000000",
          "1982-04-01T00:00:00.000000000",
          "1982-05-01T00:00:00.000000000",
          "1982-06-01T00:00:00.000000000",
          "1982-07-01T00:00:00.000000000",
          "1982-08-01T00:00:00.000000000",
          "1982-09-01T00:00:00.000000000",
          "1982-10-01T00:00:00.000000000",
          "1982-11-01T00:00:00.000000000",
          "1982-12-01T00:00:00.000000000",
          "1983-01-01T00:00:00.000000000",
          "1983-02-01T00:00:00.000000000",
          "1983-03-01T00:00:00.000000000",
          "1983-04-01T00:00:00.000000000",
          "1983-05-01T00:00:00.000000000",
          "1983-06-01T00:00:00.000000000",
          "1983-07-01T00:00:00.000000000",
          "1983-08-01T00:00:00.000000000",
          "1983-09-01T00:00:00.000000000",
          "1983-10-01T00:00:00.000000000",
          "1983-11-01T00:00:00.000000000",
          "1983-12-01T00:00:00.000000000",
          "1984-01-01T00:00:00.000000000",
          "1984-02-01T00:00:00.000000000",
          "1984-03-01T00:00:00.000000000",
          "1984-04-01T00:00:00.000000000",
          "1984-05-01T00:00:00.000000000",
          "1984-06-01T00:00:00.000000000",
          "1984-07-01T00:00:00.000000000",
          "1984-08-01T00:00:00.000000000",
          "1984-09-01T00:00:00.000000000",
          "1984-10-01T00:00:00.000000000",
          "1984-11-01T00:00:00.000000000",
          "1984-12-01T00:00:00.000000000",
          "1985-01-01T00:00:00.000000000",
          "1985-02-01T00:00:00.000000000",
          "1985-03-01T00:00:00.000000000",
          "1985-04-01T00:00:00.000000000",
          "1985-05-01T00:00:00.000000000",
          "1985-06-01T00:00:00.000000000",
          "1985-07-01T00:00:00.000000000",
          "1985-08-01T00:00:00.000000000",
          "1985-09-01T00:00:00.000000000",
          "1985-10-01T00:00:00.000000000",
          "1985-11-01T00:00:00.000000000",
          "1985-12-01T00:00:00.000000000",
          "1986-01-01T00:00:00.000000000",
          "1986-02-01T00:00:00.000000000",
          "1986-03-01T00:00:00.000000000",
          "1986-04-01T00:00:00.000000000",
          "1986-05-01T00:00:00.000000000",
          "1986-06-01T00:00:00.000000000",
          "1986-07-01T00:00:00.000000000",
          "1986-08-01T00:00:00.000000000",
          "1986-09-01T00:00:00.000000000",
          "1986-10-01T00:00:00.000000000",
          "1986-11-01T00:00:00.000000000",
          "1986-12-01T00:00:00.000000000",
          "1987-01-01T00:00:00.000000000",
          "1987-02-01T00:00:00.000000000",
          "1987-03-01T00:00:00.000000000",
          "1987-04-01T00:00:00.000000000",
          "1987-05-01T00:00:00.000000000",
          "1987-06-01T00:00:00.000000000",
          "1987-07-01T00:00:00.000000000",
          "1987-08-01T00:00:00.000000000",
          "1987-09-01T00:00:00.000000000",
          "1987-10-01T00:00:00.000000000",
          "1987-11-01T00:00:00.000000000",
          "1987-12-01T00:00:00.000000000",
          "1988-01-01T00:00:00.000000000",
          "1988-02-01T00:00:00.000000000",
          "1988-03-01T00:00:00.000000000",
          "1988-04-01T00:00:00.000000000",
          "1988-05-01T00:00:00.000000000",
          "1988-06-01T00:00:00.000000000",
          "1988-07-01T00:00:00.000000000",
          "1988-08-01T00:00:00.000000000",
          "1988-09-01T00:00:00.000000000",
          "1988-10-01T00:00:00.000000000",
          "1988-11-01T00:00:00.000000000",
          "1988-12-01T00:00:00.000000000",
          "1989-01-01T00:00:00.000000000",
          "1989-02-01T00:00:00.000000000",
          "1989-03-01T00:00:00.000000000",
          "1989-04-01T00:00:00.000000000",
          "1989-05-01T00:00:00.000000000",
          "1989-06-01T00:00:00.000000000",
          "1989-07-01T00:00:00.000000000",
          "1989-08-01T00:00:00.000000000",
          "1989-09-01T00:00:00.000000000",
          "1989-10-01T00:00:00.000000000",
          "1989-11-01T00:00:00.000000000",
          "1989-12-01T00:00:00.000000000",
          "1990-01-01T00:00:00.000000000",
          "1990-02-01T00:00:00.000000000",
          "1990-03-01T00:00:00.000000000",
          "1990-04-01T00:00:00.000000000",
          "1990-05-01T00:00:00.000000000",
          "1990-06-01T00:00:00.000000000",
          "1990-07-01T00:00:00.000000000",
          "1990-08-01T00:00:00.000000000",
          "1990-09-01T00:00:00.000000000",
          "1990-10-01T00:00:00.000000000",
          "1990-11-01T00:00:00.000000000",
          "1990-12-01T00:00:00.000000000",
          "1991-01-01T00:00:00.000000000",
          "1991-02-01T00:00:00.000000000",
          "1991-03-01T00:00:00.000000000",
          "1991-04-01T00:00:00.000000000",
          "1991-05-01T00:00:00.000000000",
          "1991-06-01T00:00:00.000000000",
          "1991-07-01T00:00:00.000000000",
          "1991-08-01T00:00:00.000000000",
          "1991-09-01T00:00:00.000000000",
          "1991-10-01T00:00:00.000000000",
          "1991-11-01T00:00:00.000000000",
          "1991-12-01T00:00:00.000000000",
          "1992-01-01T00:00:00.000000000",
          "1992-02-01T00:00:00.000000000",
          "1992-03-01T00:00:00.000000000",
          "1992-04-01T00:00:00.000000000",
          "1992-05-01T00:00:00.000000000",
          "1992-06-01T00:00:00.000000000",
          "1992-07-01T00:00:00.000000000",
          "1992-08-01T00:00:00.000000000",
          "1992-09-01T00:00:00.000000000",
          "1992-10-01T00:00:00.000000000",
          "1992-11-01T00:00:00.000000000",
          "1992-12-01T00:00:00.000000000",
          "1993-01-01T00:00:00.000000000",
          "1993-02-01T00:00:00.000000000",
          "1993-03-01T00:00:00.000000000",
          "1993-04-01T00:00:00.000000000",
          "1993-05-01T00:00:00.000000000",
          "1993-06-01T00:00:00.000000000",
          "1993-07-01T00:00:00.000000000",
          "1993-08-01T00:00:00.000000000",
          "1993-09-01T00:00:00.000000000",
          "1993-10-01T00:00:00.000000000",
          "1993-11-01T00:00:00.000000000",
          "1993-12-01T00:00:00.000000000",
          "1994-01-01T00:00:00.000000000",
          "1994-02-01T00:00:00.000000000",
          "1994-03-01T00:00:00.000000000",
          "1994-04-01T00:00:00.000000000",
          "1994-05-01T00:00:00.000000000",
          "1994-06-01T00:00:00.000000000",
          "1994-07-01T00:00:00.000000000",
          "1994-08-01T00:00:00.000000000",
          "1994-09-01T00:00:00.000000000",
          "1994-10-01T00:00:00.000000000",
          "1994-11-01T00:00:00.000000000",
          "1994-12-01T00:00:00.000000000",
          "1995-01-01T00:00:00.000000000",
          "1995-02-01T00:00:00.000000000",
          "1995-03-01T00:00:00.000000000",
          "1995-04-01T00:00:00.000000000",
          "1995-05-01T00:00:00.000000000",
          "1995-06-01T00:00:00.000000000",
          "1995-07-01T00:00:00.000000000",
          "1995-08-01T00:00:00.000000000",
          "1995-09-01T00:00:00.000000000",
          "1995-10-01T00:00:00.000000000",
          "1995-11-01T00:00:00.000000000",
          "1995-12-01T00:00:00.000000000",
          "1996-01-01T00:00:00.000000000",
          "1996-02-01T00:00:00.000000000",
          "1996-03-01T00:00:00.000000000",
          "1996-04-01T00:00:00.000000000",
          "1996-05-01T00:00:00.000000000",
          "1996-06-01T00:00:00.000000000",
          "1996-07-01T00:00:00.000000000",
          "1996-08-01T00:00:00.000000000",
          "1996-09-01T00:00:00.000000000",
          "1996-10-01T00:00:00.000000000",
          "1996-11-01T00:00:00.000000000",
          "1996-12-01T00:00:00.000000000",
          "1997-01-01T00:00:00.000000000",
          "1997-02-01T00:00:00.000000000",
          "1997-03-01T00:00:00.000000000",
          "1997-04-01T00:00:00.000000000",
          "1997-05-01T00:00:00.000000000",
          "1997-06-01T00:00:00.000000000",
          "1997-07-01T00:00:00.000000000",
          "1997-08-01T00:00:00.000000000",
          "1997-09-01T00:00:00.000000000",
          "1997-10-01T00:00:00.000000000",
          "1997-11-01T00:00:00.000000000",
          "1997-12-01T00:00:00.000000000",
          "1998-01-01T00:00:00.000000000",
          "1998-02-01T00:00:00.000000000",
          "1998-03-01T00:00:00.000000000",
          "1998-04-01T00:00:00.000000000",
          "1998-05-01T00:00:00.000000000",
          "1998-06-01T00:00:00.000000000",
          "1998-07-01T00:00:00.000000000",
          "1998-08-01T00:00:00.000000000",
          "1998-09-01T00:00:00.000000000",
          "1998-10-01T00:00:00.000000000",
          "1998-11-01T00:00:00.000000000",
          "1998-12-01T00:00:00.000000000",
          "1999-01-01T00:00:00.000000000",
          "1999-02-01T00:00:00.000000000",
          "1999-03-01T00:00:00.000000000",
          "1999-04-01T00:00:00.000000000",
          "1999-05-01T00:00:00.000000000",
          "1999-06-01T00:00:00.000000000",
          "1999-07-01T00:00:00.000000000",
          "1999-08-01T00:00:00.000000000",
          "1999-09-01T00:00:00.000000000",
          "1999-10-01T00:00:00.000000000",
          "1999-11-01T00:00:00.000000000",
          "1999-12-01T00:00:00.000000000",
          "2000-01-01T00:00:00.000000000",
          "2000-02-01T00:00:00.000000000",
          "2000-03-01T00:00:00.000000000",
          "2000-04-01T00:00:00.000000000",
          "2000-05-01T00:00:00.000000000",
          "2000-06-01T00:00:00.000000000",
          "2000-07-01T00:00:00.000000000",
          "2000-08-01T00:00:00.000000000",
          "2000-09-01T00:00:00.000000000",
          "2000-10-01T00:00:00.000000000",
          "2000-11-01T00:00:00.000000000",
          "2000-12-01T00:00:00.000000000",
          "2001-01-01T00:00:00.000000000",
          "2001-02-01T00:00:00.000000000",
          "2001-03-01T00:00:00.000000000",
          "2001-04-01T00:00:00.000000000",
          "2001-05-01T00:00:00.000000000",
          "2001-06-01T00:00:00.000000000",
          "2001-07-01T00:00:00.000000000",
          "2001-08-01T00:00:00.000000000",
          "2001-09-01T00:00:00.000000000",
          "2001-10-01T00:00:00.000000000",
          "2001-11-01T00:00:00.000000000",
          "2001-12-01T00:00:00.000000000",
          "2002-01-01T00:00:00.000000000",
          "2002-02-01T00:00:00.000000000",
          "2002-03-01T00:00:00.000000000",
          "2002-04-01T00:00:00.000000000",
          "2002-05-01T00:00:00.000000000",
          "2002-06-01T00:00:00.000000000",
          "2002-07-01T00:00:00.000000000",
          "2002-08-01T00:00:00.000000000",
          "2002-09-01T00:00:00.000000000",
          "2002-10-01T00:00:00.000000000",
          "2002-11-01T00:00:00.000000000",
          "2002-12-01T00:00:00.000000000",
          "2003-01-01T00:00:00.000000000",
          "2003-02-01T00:00:00.000000000",
          "2003-03-01T00:00:00.000000000",
          "2003-04-01T00:00:00.000000000",
          "2003-05-01T00:00:00.000000000",
          "2003-06-01T00:00:00.000000000",
          "2003-07-01T00:00:00.000000000",
          "2003-08-01T00:00:00.000000000",
          "2003-09-01T00:00:00.000000000",
          "2003-10-01T00:00:00.000000000",
          "2003-11-01T00:00:00.000000000",
          "2003-12-01T00:00:00.000000000",
          "2004-01-01T00:00:00.000000000",
          "2004-02-01T00:00:00.000000000",
          "2004-03-01T00:00:00.000000000",
          "2004-04-01T00:00:00.000000000",
          "2004-05-01T00:00:00.000000000",
          "2004-06-01T00:00:00.000000000",
          "2004-07-01T00:00:00.000000000",
          "2004-08-01T00:00:00.000000000",
          "2004-09-01T00:00:00.000000000",
          "2004-10-01T00:00:00.000000000",
          "2004-11-01T00:00:00.000000000",
          "2004-12-01T00:00:00.000000000",
          "2005-01-01T00:00:00.000000000",
          "2005-02-01T00:00:00.000000000",
          "2005-03-01T00:00:00.000000000",
          "2005-04-01T00:00:00.000000000",
          "2005-05-01T00:00:00.000000000",
          "2005-06-01T00:00:00.000000000",
          "2005-07-01T00:00:00.000000000",
          "2005-08-01T00:00:00.000000000",
          "2005-09-01T00:00:00.000000000",
          "2005-10-01T00:00:00.000000000",
          "2005-11-01T00:00:00.000000000",
          "2005-12-01T00:00:00.000000000",
          "2006-01-01T00:00:00.000000000",
          "2006-02-01T00:00:00.000000000",
          "2006-03-01T00:00:00.000000000",
          "2006-04-01T00:00:00.000000000",
          "2006-05-01T00:00:00.000000000",
          "2006-06-01T00:00:00.000000000",
          "2006-07-01T00:00:00.000000000",
          "2006-08-01T00:00:00.000000000",
          "2006-09-01T00:00:00.000000000",
          "2006-10-01T00:00:00.000000000",
          "2006-11-01T00:00:00.000000000",
          "2006-12-01T00:00:00.000000000",
          "2007-01-01T00:00:00.000000000",
          "2007-02-01T00:00:00.000000000",
          "2007-03-01T00:00:00.000000000",
          "2007-04-01T00:00:00.000000000",
          "2007-05-01T00:00:00.000000000",
          "2007-06-01T00:00:00.000000000",
          "2007-07-01T00:00:00.000000000",
          "2007-08-01T00:00:00.000000000",
          "2007-09-01T00:00:00.000000000",
          "2007-10-01T00:00:00.000000000",
          "2007-11-01T00:00:00.000000000",
          "2007-12-01T00:00:00.000000000",
          "2008-01-01T00:00:00.000000000",
          "2008-02-01T00:00:00.000000000",
          "2008-03-01T00:00:00.000000000",
          "2008-04-01T00:00:00.000000000",
          "2008-05-01T00:00:00.000000000",
          "2008-06-01T00:00:00.000000000",
          "2008-07-01T00:00:00.000000000",
          "2008-08-01T00:00:00.000000000",
          "2008-09-01T00:00:00.000000000",
          "2008-10-01T00:00:00.000000000",
          "2008-11-01T00:00:00.000000000",
          "2008-12-01T00:00:00.000000000",
          "2009-01-01T00:00:00.000000000",
          "2009-02-01T00:00:00.000000000",
          "2009-03-01T00:00:00.000000000",
          "2009-04-01T00:00:00.000000000",
          "2009-05-01T00:00:00.000000000",
          "2009-06-01T00:00:00.000000000",
          "2009-07-01T00:00:00.000000000",
          "2009-08-01T00:00:00.000000000",
          "2009-09-01T00:00:00.000000000",
          "2009-10-01T00:00:00.000000000",
          "2009-11-01T00:00:00.000000000",
          "2009-12-01T00:00:00.000000000",
          "2010-01-01T00:00:00.000000000",
          "2010-02-01T00:00:00.000000000",
          "2010-03-01T00:00:00.000000000",
          "2010-04-01T00:00:00.000000000",
          "2010-05-01T00:00:00.000000000",
          "2010-06-01T00:00:00.000000000",
          "2010-07-01T00:00:00.000000000",
          "2010-08-01T00:00:00.000000000",
          "2010-09-01T00:00:00.000000000",
          "2010-10-01T00:00:00.000000000",
          "2010-11-01T00:00:00.000000000",
          "2010-12-01T00:00:00.000000000",
          "2011-01-01T00:00:00.000000000",
          "2011-02-01T00:00:00.000000000",
          "2011-03-01T00:00:00.000000000",
          "2011-04-01T00:00:00.000000000",
          "2011-05-01T00:00:00.000000000",
          "2011-06-01T00:00:00.000000000",
          "2011-07-01T00:00:00.000000000",
          "2011-08-01T00:00:00.000000000",
          "2011-09-01T00:00:00.000000000",
          "2011-10-01T00:00:00.000000000",
          "2011-11-01T00:00:00.000000000",
          "2011-12-01T00:00:00.000000000",
          "2012-01-01T00:00:00.000000000",
          "2012-02-01T00:00:00.000000000",
          "2012-03-01T00:00:00.000000000",
          "2012-04-01T00:00:00.000000000",
          "2012-05-01T00:00:00.000000000",
          "2012-06-01T00:00:00.000000000",
          "2012-07-01T00:00:00.000000000",
          "2012-08-01T00:00:00.000000000",
          "2012-09-01T00:00:00.000000000",
          "2012-10-01T00:00:00.000000000",
          "2012-11-01T00:00:00.000000000",
          "2012-12-01T00:00:00.000000000",
          "2013-01-01T00:00:00.000000000",
          "2013-02-01T00:00:00.000000000",
          "2013-03-01T00:00:00.000000000",
          "2013-04-01T00:00:00.000000000",
          "2013-05-01T00:00:00.000000000",
          "2013-06-01T00:00:00.000000000",
          "2013-07-01T00:00:00.000000000",
          "2013-08-01T00:00:00.000000000",
          "2013-09-01T00:00:00.000000000",
          "2013-10-01T00:00:00.000000000",
          "2013-11-01T00:00:00.000000000",
          "2013-12-01T00:00:00.000000000",
          "2014-01-01T00:00:00.000000000",
          "2014-02-01T00:00:00.000000000",
          "2014-03-01T00:00:00.000000000",
          "2014-04-01T00:00:00.000000000",
          "2014-05-01T00:00:00.000000000",
          "2014-06-01T00:00:00.000000000",
          "2014-07-01T00:00:00.000000000",
          "2014-08-01T00:00:00.000000000",
          "2014-09-01T00:00:00.000000000",
          "2014-10-01T00:00:00.000000000",
          "2014-11-01T00:00:00.000000000",
          "2014-12-01T00:00:00.000000000",
          "2015-01-01T00:00:00.000000000",
          "2015-02-01T00:00:00.000000000",
          "2015-03-01T00:00:00.000000000",
          "2015-04-01T00:00:00.000000000",
          "2015-05-01T00:00:00.000000000",
          "2015-06-01T00:00:00.000000000",
          "2015-07-01T00:00:00.000000000",
          "2015-08-01T00:00:00.000000000",
          "2015-09-01T00:00:00.000000000",
          "2015-10-01T00:00:00.000000000",
          "2015-11-01T00:00:00.000000000",
          "2015-12-01T00:00:00.000000000",
          "2016-01-01T00:00:00.000000000",
          "2016-02-01T00:00:00.000000000",
          "2016-03-01T00:00:00.000000000",
          "2016-04-01T00:00:00.000000000",
          "2016-05-01T00:00:00.000000000",
          "2016-06-01T00:00:00.000000000",
          "2016-07-01T00:00:00.000000000",
          "2016-08-01T00:00:00.000000000",
          "2016-09-01T00:00:00.000000000",
          "2016-10-01T00:00:00.000000000",
          "2016-11-01T00:00:00.000000000",
          "2016-12-01T00:00:00.000000000",
          "2017-01-01T00:00:00.000000000",
          "2017-02-01T00:00:00.000000000",
          "2017-03-01T00:00:00.000000000",
          "2017-04-01T00:00:00.000000000",
          "2017-05-01T00:00:00.000000000",
          "2017-06-01T00:00:00.000000000",
          "2017-07-01T00:00:00.000000000",
          "2017-08-01T00:00:00.000000000",
          "2017-09-01T00:00:00.000000000",
          "2017-10-01T00:00:00.000000000",
          "2017-11-01T00:00:00.000000000",
          "2017-12-01T00:00:00.000000000",
          "2018-01-01T00:00:00.000000000",
          "2018-02-01T00:00:00.000000000",
          "2018-03-01T00:00:00.000000000",
          "2018-04-01T00:00:00.000000000",
          "2018-05-01T00:00:00.000000000",
          "2018-06-01T00:00:00.000000000",
          "2018-07-01T00:00:00.000000000",
          "2018-08-01T00:00:00.000000000",
          "2018-09-01T00:00:00.000000000",
          "2018-10-01T00:00:00.000000000",
          "2018-11-01T00:00:00.000000000",
          "2018-12-01T00:00:00.000000000",
          "2019-01-01T00:00:00.000000000",
          "2019-02-01T00:00:00.000000000",
          "2019-03-01T00:00:00.000000000",
          "2019-04-01T00:00:00.000000000",
          "2019-05-01T00:00:00.000000000",
          "2019-06-01T00:00:00.000000000",
          "2019-07-01T00:00:00.000000000",
          "2019-08-01T00:00:00.000000000",
          "2019-09-01T00:00:00.000000000",
          "2019-10-01T00:00:00.000000000",
          "2019-11-01T00:00:00.000000000",
          "2019-12-01T00:00:00.000000000",
          "2020-01-01T00:00:00.000000000",
          "2020-02-01T00:00:00.000000000",
          "2020-03-01T00:00:00.000000000",
          "2020-04-01T00:00:00.000000000",
          "2020-05-01T00:00:00.000000000",
          "2020-06-01T00:00:00.000000000",
          "2020-07-01T00:00:00.000000000",
          "2020-08-01T00:00:00.000000000",
          "2020-09-01T00:00:00.000000000",
          "2020-10-01T00:00:00.000000000",
          "2020-11-01T00:00:00.000000000",
          "2020-12-01T00:00:00.000000000",
          "2021-01-01T00:00:00.000000000",
          "2021-02-01T00:00:00.000000000",
          "2021-03-01T00:00:00.000000000",
          "2021-04-01T00:00:00.000000000",
          "2021-05-01T00:00:00.000000000",
          "2021-06-01T00:00:00.000000000",
          "2021-07-01T00:00:00.000000000",
          "2021-08-01T00:00:00.000000000",
          "2021-09-01T00:00:00.000000000",
          "2021-10-01T00:00:00.000000000",
          "2021-11-01T00:00:00.000000000",
          "2021-12-01T00:00:00.000000000",
          "2022-01-01T00:00:00.000000000",
          "2022-02-01T00:00:00.000000000",
          "2022-03-01T00:00:00.000000000",
          "2022-04-01T00:00:00.000000000",
          "2022-05-01T00:00:00.000000000",
          "2022-06-01T00:00:00.000000000",
          "2022-07-01T00:00:00.000000000",
          "2022-08-01T00:00:00.000000000",
          "2022-09-01T00:00:00.000000000",
          "2022-10-01T00:00:00.000000000",
          "2022-11-01T00:00:00.000000000",
          "2022-12-01T00:00:00.000000000",
          "2023-01-01T00:00:00.000000000",
          "2023-02-01T00:00:00.000000000",
          "2023-03-01T00:00:00.000000000",
          "2023-04-01T00:00:00.000000000",
          "2023-05-01T00:00:00.000000000",
          "2023-06-01T00:00:00.000000000",
          "2023-07-01T00:00:00.000000000",
          "2023-08-01T00:00:00.000000000",
          "2023-09-01T00:00:00.000000000",
          "2023-10-01T00:00:00.000000000",
          "2023-11-01T00:00:00.000000000",
          "2023-12-01T00:00:00.000000000",
          "2024-01-01T00:00:00.000000000",
          "2024-02-01T00:00:00.000000000",
          "2024-03-01T00:00:00.000000000",
          "2024-04-01T00:00:00.000000000",
          "2024-05-01T00:00:00.000000000",
          "2024-06-01T00:00:00.000000000",
          "2024-07-01T00:00:00.000000000",
          "2024-08-01T00:00:00.000000000",
          "2024-09-01T00:00:00.000000000",
          "2024-10-01T00:00:00.000000000",
          "2024-11-01T00:00:00.000000000",
          "2024-12-01T00:00:00.000000000",
          "2025-01-01T00:00:00.000000000"
         ],
         "y": {
          "bdata": "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",
          "dtype": "f8"
         }
        },
        {
         "line": {
          "color": "green"
         },
         "mode": "lines",
         "name": "United States ISM Manufacturing PMI (method: tooltips)",
         "type": "scatter",
         "x": [
          "1948-02-01T00:00:00.000000000",
          "1948-04-01T00:00:00.000000000",
          "1948-05-01T00:00:00.000000000",
          "1948-07-01T00:00:00.000000000",
          "1948-08-01T00:00:00.000000000",
          "1948-09-01T00:00:00.000000000",
          "1948-11-01T00:00:00.000000000",
          "1948-12-01T00:00:00.000000000",
          "1949-01-01T00:00:00.000000000",
          "1949-03-01T00:00:00.000000000",
          "1949-04-01T00:00:00.000000000",
          "1949-05-01T00:00:00.000000000",
          "1949-07-01T00:00:00.000000000",
          "1949-08-01T00:00:00.000000000",
          "1949-10-01T00:00:00.000000000",
          "1949-11-01T00:00:00.000000000",
          "1949-12-01T00:00:00.000000000",
          "1950-02-01T00:00:00.000000000",
          "1950-03-01T00:00:00.000000000",
          "1950-04-01T00:00:00.000000000",
          "1950-06-01T00:00:00.000000000",
          "1950-07-01T00:00:00.000000000",
          "1950-09-01T00:00:00.000000000",
          "1950-10-01T00:00:00.000000000",
          "1950-11-01T00:00:00.000000000",
          "1951-01-01T00:00:00.000000000",
          "1951-02-01T00:00:00.000000000",
          "1951-03-01T00:00:00.000000000",
          "1951-05-01T00:00:00.000000000",
          "1951-06-01T00:00:00.000000000",
          "1951-08-01T00:00:00.000000000",
          "1951-09-01T00:00:00.000000000",
          "1951-10-01T00:00:00.000000000",
          "1951-12-01T00:00:00.000000000",
          "1952-01-01T00:00:00.000000000",
          "1952-02-01T00:00:00.000000000",
          "1952-04-01T00:00:00.000000000",
          "1952-05-01T00:00:00.000000000",
          "1952-07-01T00:00:00.000000000",
          "1952-08-01T00:00:00.000000000",
          "1952-09-01T00:00:00.000000000",
          "1952-11-01T00:00:00.000000000",
          "1952-12-01T00:00:00.000000000",
          "1953-01-01T00:00:00.000000000",
          "1953-03-01T00:00:00.000000000",
          "1953-04-01T00:00:00.000000000",
          "1953-06-01T00:00:00.000000000",
          "1953-07-01T00:00:00.000000000",
          "1953-08-01T00:00:00.000000000",
          "1953-10-01T00:00:00.000000000",
          "1953-11-01T00:00:00.000000000",
          "1953-12-01T00:00:00.000000000",
          "1954-02-01T00:00:00.000000000",
          "1954-03-01T00:00:00.000000000",
          "1954-05-01T00:00:00.000000000",
          "1954-06-01T00:00:00.000000000",
          "1954-07-01T00:00:00.000000000",
          "1954-09-01T00:00:00.000000000",
          "1954-10-01T00:00:00.000000000",
          "1954-11-01T00:00:00.000000000",
          "1955-01-01T00:00:00.000000000",
          "1955-02-01T00:00:00.000000000",
          "1955-04-01T00:00:00.000000000",
          "1955-05-01T00:00:00.000000000",
          "1955-06-01T00:00:00.000000000",
          "1955-08-01T00:00:00.000000000",
          "1955-09-01T00:00:00.000000000",
          "1955-10-01T00:00:00.000000000",
          "1955-12-01T00:00:00.000000000",
          "1956-01-01T00:00:00.000000000",
          "1956-02-01T00:00:00.000000000",
          "1956-04-01T00:00:00.000000000",
          "1956-05-01T00:00:00.000000000",
          "1956-07-01T00:00:00.000000000",
          "1956-08-01T00:00:00.000000000",
          "1956-09-01T00:00:00.000000000",
          "1956-11-01T00:00:00.000000000",
          "1956-12-01T00:00:00.000000000",
          "1957-01-01T00:00:00.000000000",
          "1957-03-01T00:00:00.000000000",
          "1957-04-01T00:00:00.000000000",
          "1957-06-01T00:00:00.000000000",
          "1957-07-01T00:00:00.000000000",
          "1957-08-01T00:00:00.000000000",
          "1957-10-01T00:00:00.000000000",
          "1957-11-01T00:00:00.000000000",
          "1957-12-01T00:00:00.000000000",
          "1958-02-01T00:00:00.000000000",
          "1958-03-01T00:00:00.000000000",
          "1958-05-01T00:00:00.000000000",
          "1958-06-01T00:00:00.000000000",
          "1958-07-01T00:00:00.000000000",
          "1958-09-01T00:00:00.000000000",
          "1958-10-01T00:00:00.000000000",
          "1958-11-01T00:00:00.000000000",
          "1959-01-01T00:00:00.000000000",
          "1959-02-01T00:00:00.000000000",
          "1959-04-01T00:00:00.000000000",
          "1959-05-01T00:00:00.000000000",
          "1959-06-01T00:00:00.000000000",
          "1959-08-01T00:00:00.000000000",
          "1959-09-01T00:00:00.000000000",
          "1959-10-01T00:00:00.000000000",
          "1959-12-01T00:00:00.000000000",
          "1960-01-01T00:00:00.000000000",
          "1960-03-01T00:00:00.000000000",
          "1960-04-01T00:00:00.000000000",
          "1960-05-01T00:00:00.000000000",
          "1960-07-01T00:00:00.000000000",
          "1960-08-01T00:00:00.000000000",
          "1960-09-01T00:00:00.000000000",
          "1960-11-01T00:00:00.000000000",
          "1960-12-01T00:00:00.000000000",
          "1961-01-01T00:00:00.000000000",
          "1961-03-01T00:00:00.000000000",
          "1961-04-01T00:00:00.000000000",
          "1961-06-01T00:00:00.000000000",
          "1961-07-01T00:00:00.000000000",
          "1961-08-01T00:00:00.000000000",
          "1961-10-01T00:00:00.000000000",
          "1961-11-01T00:00:00.000000000",
          "1961-12-01T00:00:00.000000000",
          "1962-02-01T00:00:00.000000000",
          "1962-03-01T00:00:00.000000000",
          "1962-05-01T00:00:00.000000000",
          "1962-06-01T00:00:00.000000000",
          "1962-07-01T00:00:00.000000000",
          "1962-09-01T00:00:00.000000000",
          "1962-10-01T00:00:00.000000000",
          "1962-11-01T00:00:00.000000000",
          "1963-01-01T00:00:00.000000000",
          "1963-02-01T00:00:00.000000000",
          "1963-04-01T00:00:00.000000000",
          "1963-05-01T00:00:00.000000000",
          "1963-06-01T00:00:00.000000000",
          "1963-08-01T00:00:00.000000000",
          "1963-09-01T00:00:00.000000000",
          "1963-10-01T00:00:00.000000000",
          "1963-12-01T00:00:00.000000000",
          "1964-01-01T00:00:00.000000000",
          "1964-03-01T00:00:00.000000000",
          "1964-04-01T00:00:00.000000000",
          "1964-05-01T00:00:00.000000000",
          "1964-07-01T00:00:00.000000000",
          "1964-08-01T00:00:00.000000000",
          "1964-09-01T00:00:00.000000000",
          "1964-11-01T00:00:00.000000000",
          "1964-12-01T00:00:00.000000000",
          "1965-02-01T00:00:00.000000000",
          "1965-03-01T00:00:00.000000000",
          "1965-04-01T00:00:00.000000000",
          "1965-06-01T00:00:00.000000000",
          "1965-07-01T00:00:00.000000000",
          "1965-08-01T00:00:00.000000000",
          "1965-10-01T00:00:00.000000000",
          "1965-11-01T00:00:00.000000000",
          "1966-01-01T00:00:00.000000000",
          "1966-02-01T00:00:00.000000000",
          "1966-03-01T00:00:00.000000000",
          "1966-05-01T00:00:00.000000000",
          "1966-06-01T00:00:00.000000000",
          "1966-07-01T00:00:00.000000000",
          "1966-09-01T00:00:00.000000000",
          "1966-10-01T00:00:00.000000000",
          "1966-12-01T00:00:00.000000000",
          "1967-01-01T00:00:00.000000000",
          "1967-02-01T00:00:00.000000000",
          "1967-04-01T00:00:00.000000000",
          "1967-05-01T00:00:00.000000000",
          "1967-06-01T00:00:00.000000000",
          "1967-08-01T00:00:00.000000000",
          "1967-09-01T00:00:00.000000000",
          "1967-11-01T00:00:00.000000000",
          "1967-12-01T00:00:00.000000000",
          "1968-01-01T00:00:00.000000000",
          "1968-03-01T00:00:00.000000000",
          "1968-04-01T00:00:00.000000000",
          "1968-05-01T00:00:00.000000000",
          "1968-07-01T00:00:00.000000000",
          "1968-08-01T00:00:00.000000000",
          "1968-10-01T00:00:00.000000000",
          "1968-11-01T00:00:00.000000000",
          "1968-12-01T00:00:00.000000000",
          "1969-02-01T00:00:00.000000000",
          "1969-03-01T00:00:00.000000000",
          "1969-04-01T00:00:00.000000000",
          "1969-06-01T00:00:00.000000000",
          "1969-07-01T00:00:00.000000000",
          "1969-08-01T00:00:00.000000000",
          "1969-10-01T00:00:00.000000000",
          "1969-11-01T00:00:00.000000000",
          "1970-01-01T00:00:00.000000000",
          "1970-02-01T00:00:00.000000000",
          "1970-03-01T00:00:00.000000000",
          "1970-05-01T00:00:00.000000000",
          "1970-06-01T00:00:00.000000000",
          "1970-08-01T00:00:00.000000000",
          "1970-09-01T00:00:00.000000000",
          "1970-10-01T00:00:00.000000000",
          "1970-12-01T00:00:00.000000000",
          "1971-01-01T00:00:00.000000000",
          "1971-02-01T00:00:00.000000000",
          "1971-04-01T00:00:00.000000000",
          "1971-05-01T00:00:00.000000000",
          "1971-07-01T00:00:00.000000000",
          "1971-08-01T00:00:00.000000000",
          "1971-09-01T00:00:00.000000000",
          "1971-11-01T00:00:00.000000000",
          "1971-12-01T00:00:00.000000000",
          "1972-01-01T00:00:00.000000000",
          "1972-03-01T00:00:00.000000000",
          "1972-04-01T00:00:00.000000000",
          "1972-05-01T00:00:00.000000000",
          "1972-07-01T00:00:00.000000000",
          "1972-08-01T00:00:00.000000000",
          "1972-10-01T00:00:00.000000000",
          "1972-11-01T00:00:00.000000000",
          "1972-12-01T00:00:00.000000000",
          "1973-02-01T00:00:00.000000000",
          "1973-03-01T00:00:00.000000000",
          "1973-04-01T00:00:00.000000000",
          "1973-06-01T00:00:00.000000000",
          "1973-07-01T00:00:00.000000000",
          "1973-09-01T00:00:00.000000000",
          "1973-10-01T00:00:00.000000000",
          "1973-11-01T00:00:00.000000000",
          "1974-01-01T00:00:00.000000000",
          "1974-02-01T00:00:00.000000000",
          "1974-03-01T00:00:00.000000000",
          "1974-05-01T00:00:00.000000000",
          "1974-06-01T00:00:00.000000000",
          "1974-08-01T00:00:00.000000000",
          "1974-09-01T00:00:00.000000000",
          "1974-10-01T00:00:00.000000000",
          "1974-12-01T00:00:00.000000000",
          "1975-01-01T00:00:00.000000000",
          "1975-02-01T00:00:00.000000000",
          "1975-04-01T00:00:00.000000000",
          "1975-05-01T00:00:00.000000000",
          "1975-07-01T00:00:00.000000000",
          "1975-08-01T00:00:00.000000000",
          "1975-09-01T00:00:00.000000000",
          "1975-11-01T00:00:00.000000000",
          "1975-12-01T00:00:00.000000000",
          "1976-01-01T00:00:00.000000000",
          "1976-03-01T00:00:00.000000000",
          "1976-04-01T00:00:00.000000000",
          "1976-06-01T00:00:00.000000000",
          "1976-07-01T00:00:00.000000000",
          "1976-08-01T00:00:00.000000000",
          "1976-10-01T00:00:00.000000000",
          "1976-11-01T00:00:00.000000000",
          "1976-12-01T00:00:00.000000000",
          "1977-02-01T00:00:00.000000000",
          "1977-03-01T00:00:00.000000000",
          "1977-05-01T00:00:00.000000000",
          "1977-06-01T00:00:00.000000000",
          "1977-07-01T00:00:00.000000000",
          "1977-09-01T00:00:00.000000000",
          "1977-10-01T00:00:00.000000000",
          "1977-11-01T00:00:00.000000000",
          "1978-01-01T00:00:00.000000000",
          "1978-02-01T00:00:00.000000000",
          "1978-04-01T00:00:00.000000000",
          "1978-05-01T00:00:00.000000000",
          "1978-06-01T00:00:00.000000000",
          "1978-08-01T00:00:00.000000000",
          "1978-09-01T00:00:00.000000000",
          "1978-10-01T00:00:00.000000000",
          "1978-12-01T00:00:00.000000000",
          "1979-01-01T00:00:00.000000000",
          "1979-02-01T00:00:00.000000000",
          "1979-04-01T00:00:00.000000000",
          "1979-05-01T00:00:00.000000000",
          "1979-07-01T00:00:00.000000000",
          "1979-08-01T00:00:00.000000000",
          "1979-09-01T00:00:00.000000000",
          "1979-11-01T00:00:00.000000000",
          "1979-12-01T00:00:00.000000000",
          "1980-01-01T00:00:00.000000000",
          "1980-03-01T00:00:00.000000000",
          "1980-04-01T00:00:00.000000000",
          "1980-06-01T00:00:00.000000000",
          "1980-07-01T00:00:00.000000000",
          "1980-08-01T00:00:00.000000000",
          "1980-10-01T00:00:00.000000000",
          "1980-11-01T00:00:00.000000000",
          "1980-12-01T00:00:00.000000000",
          "1981-02-01T00:00:00.000000000",
          "1981-03-01T00:00:00.000000000",
          "1981-05-01T00:00:00.000000000",
          "1981-06-01T00:00:00.000000000",
          "1981-07-01T00:00:00.000000000",
          "1981-09-01T00:00:00.000000000",
          "1981-10-01T00:00:00.000000000",
          "1981-11-01T00:00:00.000000000",
          "1982-01-01T00:00:00.000000000",
          "1982-02-01T00:00:00.000000000",
          "1982-04-01T00:00:00.000000000",
          "1982-05-01T00:00:00.000000000",
          "1982-06-01T00:00:00.000000000",
          "1982-08-01T00:00:00.000000000",
          "1982-09-01T00:00:00.000000000",
          "1982-10-01T00:00:00.000000000",
          "1982-12-01T00:00:00.000000000",
          "1983-01-01T00:00:00.000000000",
          "1983-03-01T00:00:00.000000000",
          "1983-04-01T00:00:00.000000000",
          "1983-05-01T00:00:00.000000000",
          "1983-07-01T00:00:00.000000000",
          "1983-08-01T00:00:00.000000000",
          "1983-09-01T00:00:00.000000000",
          "1983-11-01T00:00:00.000000000",
          "1983-12-01T00:00:00.000000000",
          "1984-01-01T00:00:00.000000000",
          "1984-03-01T00:00:00.000000000",
          "1984-04-01T00:00:00.000000000",
          "1984-06-01T00:00:00.000000000",
          "1984-07-01T00:00:00.000000000",
          "1984-08-01T00:00:00.000000000",
          "1984-10-01T00:00:00.000000000",
          "1984-11-01T00:00:00.000000000",
          "1984-12-01T00:00:00.000000000",
          "1985-02-01T00:00:00.000000000",
          "1985-03-01T00:00:00.000000000",
          "1985-05-01T00:00:00.000000000",
          "1985-06-01T00:00:00.000000000",
          "1985-07-01T00:00:00.000000000",
          "1985-09-01T00:00:00.000000000",
          "1985-10-01T00:00:00.000000000",
          "1985-11-01T00:00:00.000000000",
          "1986-01-01T00:00:00.000000000",
          "1986-02-01T00:00:00.000000000",
          "1986-04-01T00:00:00.000000000",
          "1986-05-01T00:00:00.000000000",
          "1986-06-01T00:00:00.000000000",
          "1986-08-01T00:00:00.000000000",
          "1986-09-01T00:00:00.000000000",
          "1986-10-01T00:00:00.000000000",
          "1986-12-01T00:00:00.000000000",
          "1987-01-01T00:00:00.000000000",
          "1987-03-01T00:00:00.000000000",
          "1987-04-01T00:00:00.000000000",
          "1987-05-01T00:00:00.000000000",
          "1987-07-01T00:00:00.000000000",
          "1987-08-01T00:00:00.000000000",
          "1987-09-01T00:00:00.000000000",
          "1987-11-01T00:00:00.000000000",
          "1987-12-01T00:00:00.000000000",
          "1988-02-01T00:00:00.000000000",
          "1988-03-01T00:00:00.000000000",
          "1988-04-01T00:00:00.000000000",
          "1988-06-01T00:00:00.000000000",
          "1988-07-01T00:00:00.000000000",
          "1988-08-01T00:00:00.000000000",
          "1988-10-01T00:00:00.000000000",
          "1988-11-01T00:00:00.000000000",
          "1989-01-01T00:00:00.000000000",
          "1989-02-01T00:00:00.000000000",
          "1989-03-01T00:00:00.000000000",
          "1989-05-01T00:00:00.000000000",
          "1989-06-01T00:00:00.000000000",
          "1989-07-01T00:00:00.000000000",
          "1989-09-01T00:00:00.000000000",
          "1989-10-01T00:00:00.000000000",
          "1989-12-01T00:00:00.000000000",
          "1990-01-01T00:00:00.000000000",
          "1990-02-01T00:00:00.000000000",
          "1990-04-01T00:00:00.000000000",
          "1990-05-01T00:00:00.000000000",
          "1990-06-01T00:00:00.000000000",
          "1990-08-01T00:00:00.000000000",
          "1990-09-01T00:00:00.000000000",
          "1990-11-01T00:00:00.000000000",
          "1990-12-01T00:00:00.000000000",
          "1991-01-01T00:00:00.000000000",
          "1991-03-01T00:00:00.000000000",
          "1991-04-01T00:00:00.000000000",
          "1991-05-01T00:00:00.000000000",
          "1991-07-01T00:00:00.000000000",
          "1991-08-01T00:00:00.000000000",
          "1991-09-01T00:00:00.000000000",
          "1991-11-01T00:00:00.000000000",
          "1991-12-01T00:00:00.000000000",
          "1992-02-01T00:00:00.000000000",
          "1992-03-01T00:00:00.000000000",
          "1992-04-01T00:00:00.000000000",
          "1992-06-01T00:00:00.000000000",
          "1992-07-01T00:00:00.000000000",
          "1992-08-01T00:00:00.000000000",
          "1992-10-01T00:00:00.000000000",
          "1992-11-01T00:00:00.000000000",
          "1993-01-01T00:00:00.000000000",
          "1993-02-01T00:00:00.000000000",
          "1993-03-01T00:00:00.000000000",
          "1993-05-01T00:00:00.000000000",
          "1993-06-01T00:00:00.000000000",
          "1993-07-01T00:00:00.000000000",
          "1993-09-01T00:00:00.000000000",
          "1993-10-01T00:00:00.000000000",
          "1993-12-01T00:00:00.000000000",
          "1994-01-01T00:00:00.000000000",
          "1994-02-01T00:00:00.000000000",
          "1994-04-01T00:00:00.000000000",
          "1994-05-01T00:00:00.000000000",
          "1994-06-01T00:00:00.000000000",
          "1994-08-01T00:00:00.000000000",
          "1994-09-01T00:00:00.000000000",
          "1994-11-01T00:00:00.000000000",
          "1994-12-01T00:00:00.000000000",
          "1995-01-01T00:00:00.000000000",
          "1995-03-01T00:00:00.000000000",
          "1995-04-01T00:00:00.000000000",
          "1995-05-01T00:00:00.000000000",
          "1995-07-01T00:00:00.000000000",
          "1995-08-01T00:00:00.000000000",
          "1995-10-01T00:00:00.000000000",
          "1995-11-01T00:00:00.000000000",
          "1995-12-01T00:00:00.000000000",
          "1996-02-01T00:00:00.000000000",
          "1996-03-01T00:00:00.000000000",
          "1996-04-01T00:00:00.000000000",
          "1996-06-01T00:00:00.000000000",
          "1996-07-01T00:00:00.000000000",
          "1996-09-01T00:00:00.000000000",
          "1996-10-01T00:00:00.000000000",
          "1996-11-01T00:00:00.000000000",
          "1997-01-01T00:00:00.000000000",
          "1997-02-01T00:00:00.000000000",
          "1997-03-01T00:00:00.000000000",
          "1997-05-01T00:00:00.000000000",
          "1997-06-01T00:00:00.000000000",
          "1997-08-01T00:00:00.000000000",
          "1997-09-01T00:00:00.000000000",
          "1997-10-01T00:00:00.000000000",
          "1997-12-01T00:00:00.000000000",
          "1998-01-01T00:00:00.000000000",
          "1998-02-01T00:00:00.000000000",
          "1998-04-01T00:00:00.000000000",
          "1998-05-01T00:00:00.000000000",
          "1998-07-01T00:00:00.000000000",
          "1998-08-01T00:00:00.000000000",
          "1998-09-01T00:00:00.000000000",
          "1998-11-01T00:00:00.000000000",
          "1998-12-01T00:00:00.000000000",
          "1999-01-01T00:00:00.000000000",
          "1999-03-01T00:00:00.000000000",
          "1999-04-01T00:00:00.000000000",
          "1999-06-01T00:00:00.000000000",
          "1999-07-01T00:00:00.000000000",
          "1999-08-01T00:00:00.000000000",
          "1999-10-01T00:00:00.000000000",
          "1999-11-01T00:00:00.000000000",
          "1999-12-01T00:00:00.000000000",
          "2000-02-01T00:00:00.000000000",
          "2000-03-01T00:00:00.000000000",
          "2000-04-01T00:00:00.000000000",
          "2000-06-01T00:00:00.000000000",
          "2000-07-01T00:00:00.000000000",
          "2000-09-01T00:00:00.000000000",
          "2000-10-01T00:00:00.000000000",
          "2000-11-01T00:00:00.000000000",
          "2001-01-01T00:00:00.000000000",
          "2001-02-01T00:00:00.000000000",
          "2001-03-01T00:00:00.000000000",
          "2001-05-01T00:00:00.000000000",
          "2001-06-01T00:00:00.000000000",
          "2001-08-01T00:00:00.000000000",
          "2001-09-01T00:00:00.000000000",
          "2001-10-01T00:00:00.000000000",
          "2001-12-01T00:00:00.000000000",
          "2002-01-01T00:00:00.000000000",
          "2002-02-01T00:00:00.000000000",
          "2002-04-01T00:00:00.000000000",
          "2002-05-01T00:00:00.000000000",
          "2002-07-01T00:00:00.000000000",
          "2002-08-01T00:00:00.000000000",
          "2002-09-01T00:00:00.000000000",
          "2002-11-01T00:00:00.000000000",
          "2002-12-01T00:00:00.000000000",
          "2003-01-01T00:00:00.000000000",
          "2003-03-01T00:00:00.000000000",
          "2003-04-01T00:00:00.000000000",
          "2003-06-01T00:00:00.000000000",
          "2003-07-01T00:00:00.000000000",
          "2003-08-01T00:00:00.000000000",
          "2003-10-01T00:00:00.000000000",
          "2003-11-01T00:00:00.000000000",
          "2003-12-01T00:00:00.000000000",
          "2004-02-01T00:00:00.000000000",
          "2004-03-01T00:00:00.000000000",
          "2004-05-01T00:00:00.000000000",
          "2004-06-01T00:00:00.000000000",
          "2004-07-01T00:00:00.000000000",
          "2004-09-01T00:00:00.000000000",
          "2004-10-01T00:00:00.000000000",
          "2004-11-01T00:00:00.000000000",
          "2005-01-01T00:00:00.000000000",
          "2005-02-01T00:00:00.000000000",
          "2005-04-01T00:00:00.000000000",
          "2005-05-01T00:00:00.000000000",
          "2005-06-01T00:00:00.000000000",
          "2005-08-01T00:00:00.000000000",
          "2005-09-01T00:00:00.000000000",
          "2005-10-01T00:00:00.000000000",
          "2005-12-01T00:00:00.000000000",
          "2006-01-01T00:00:00.000000000",
          "2006-02-01T00:00:00.000000000",
          "2006-04-01T00:00:00.000000000",
          "2006-05-01T00:00:00.000000000",
          "2006-07-01T00:00:00.000000000",
          "2006-08-01T00:00:00.000000000",
          "2006-09-01T00:00:00.000000000",
          "2006-11-01T00:00:00.000000000",
          "2006-12-01T00:00:00.000000000",
          "2007-01-01T00:00:00.000000000",
          "2007-03-01T00:00:00.000000000",
          "2007-04-01T00:00:00.000000000",
          "2007-06-01T00:00:00.000000000",
          "2007-07-01T00:00:00.000000000",
          "2007-08-01T00:00:00.000000000",
          "2007-10-01T00:00:00.000000000",
          "2007-11-01T00:00:00.000000000",
          "2007-12-01T00:00:00.000000000",
          "2008-02-01T00:00:00.000000000",
          "2008-03-01T00:00:00.000000000",
          "2008-05-01T00:00:00.000000000",
          "2008-06-01T00:00:00.000000000",
          "2008-07-01T00:00:00.000000000",
          "2008-09-01T00:00:00.000000000",
          "2008-10-01T00:00:00.000000000",
          "2008-11-01T00:00:00.000000000",
          "2009-01-01T00:00:00.000000000",
          "2009-02-01T00:00:00.000000000",
          "2009-04-01T00:00:00.000000000",
          "2009-05-01T00:00:00.000000000",
          "2009-06-01T00:00:00.000000000",
          "2009-08-01T00:00:00.000000000",
          "2009-09-01T00:00:00.000000000",
          "2009-10-01T00:00:00.000000000",
          "2009-12-01T00:00:00.000000000",
          "2010-01-01T00:00:00.000000000",
          "2010-03-01T00:00:00.000000000",
          "2010-04-01T00:00:00.000000000",
          "2010-05-01T00:00:00.000000000",
          "2010-07-01T00:00:00.000000000",
          "2010-08-01T00:00:00.000000000",
          "2010-09-01T00:00:00.000000000",
          "2010-11-01T00:00:00.000000000",
          "2010-12-01T00:00:00.000000000",
          "2011-02-01T00:00:00.000000000",
          "2011-03-01T00:00:00.000000000",
          "2011-04-01T00:00:00.000000000",
          "2011-06-01T00:00:00.000000000",
          "2011-07-01T00:00:00.000000000",
          "2011-08-01T00:00:00.000000000",
          "2011-10-01T00:00:00.000000000",
          "2011-11-01T00:00:00.000000000",
          "2012-01-01T00:00:00.000000000",
          "2012-02-01T00:00:00.000000000",
          "2012-03-01T00:00:00.000000000",
          "2012-05-01T00:00:00.000000000",
          "2012-06-01T00:00:00.000000000",
          "2012-07-01T00:00:00.000000000",
          "2012-09-01T00:00:00.000000000",
          "2012-10-01T00:00:00.000000000",
          "2012-11-01T00:00:00.000000000",
          "2013-01-01T00:00:00.000000000",
          "2013-02-01T00:00:00.000000000",
          "2013-04-01T00:00:00.000000000",
          "2013-05-01T00:00:00.000000000",
          "2013-06-01T00:00:00.000000000",
          "2013-08-01T00:00:00.000000000",
          "2013-09-01T00:00:00.000000000",
          "2013-10-01T00:00:00.000000000",
          "2013-12-01T00:00:00.000000000",
          "2014-01-01T00:00:00.000000000",
          "2014-03-01T00:00:00.000000000",
          "2014-04-01T00:00:00.000000000",
          "2014-05-01T00:00:00.000000000",
          "2014-07-01T00:00:00.000000000",
          "2014-08-01T00:00:00.000000000",
          "2014-09-01T00:00:00.000000000",
          "2014-11-01T00:00:00.000000000",
          "2014-12-01T00:00:00.000000000",
          "2015-02-01T00:00:00.000000000",
          "2015-03-01T00:00:00.000000000",
          "2015-04-01T00:00:00.000000000",
          "2015-06-01T00:00:00.000000000",
          "2015-07-01T00:00:00.000000000",
          "2015-08-01T00:00:00.000000000",
          "2015-10-01T00:00:00.000000000",
          "2015-11-01T00:00:00.000000000",
          "2016-01-01T00:00:00.000000000",
          "2016-02-01T00:00:00.000000000",
          "2016-03-01T00:00:00.000000000",
          "2016-05-01T00:00:00.000000000",
          "2016-06-01T00:00:00.000000000",
          "2016-07-01T00:00:00.000000000",
          "2016-09-01T00:00:00.000000000",
          "2016-10-01T00:00:00.000000000",
          "2016-12-01T00:00:00.000000000",
          "2017-01-01T00:00:00.000000000",
          "2017-02-01T00:00:00.000000000",
          "2017-04-01T00:00:00.000000000",
          "2017-05-01T00:00:00.000000000",
          "2017-06-01T00:00:00.000000000",
          "2017-08-01T00:00:00.000000000",
          "2017-09-01T00:00:00.000000000",
          "2017-11-01T00:00:00.000000000",
          "2017-12-01T00:00:00.000000000",
          "2018-01-01T00:00:00.000000000",
          "2018-03-01T00:00:00.000000000",
          "2018-04-01T00:00:00.000000000",
          "2018-05-01T00:00:00.000000000",
          "2018-07-01T00:00:00.000000000",
          "2018-08-01T00:00:00.000000000",
          "2018-10-01T00:00:00.000000000",
          "2018-11-01T00:00:00.000000000",
          "2018-12-01T00:00:00.000000000",
          "2019-02-01T00:00:00.000000000",
          "2019-03-01T00:00:00.000000000",
          "2019-04-01T00:00:00.000000000",
          "2019-06-01T00:00:00.000000000",
          "2019-07-01T00:00:00.000000000",
          "2019-09-01T00:00:00.000000000",
          "2019-10-01T00:00:00.000000000",
          "2019-11-01T00:00:00.000000000",
          "2020-01-01T00:00:00.000000000",
          "2020-02-01T00:00:00.000000000",
          "2020-03-01T00:00:00.000000000",
          "2020-05-01T00:00:00.000000000",
          "2020-06-01T00:00:00.000000000",
          "2020-07-01T00:00:00.000000000",
          "2020-09-01T00:00:00.000000000",
          "2020-10-01T00:00:00.000000000",
          "2020-12-01T00:00:00.000000000",
          "2021-01-01T00:00:00.000000000",
          "2021-02-01T00:00:00.000000000",
          "2021-04-01T00:00:00.000000000",
          "2021-05-01T00:00:00.000000000",
          "2021-06-01T00:00:00.000000000",
          "2021-08-01T00:00:00.000000000",
          "2021-09-01T00:00:00.000000000",
          "2021-11-01T00:00:00.000000000",
          "2021-12-01T00:00:00.000000000",
          "2022-01-01T00:00:00.000000000",
          "2022-03-01T00:00:00.000000000",
          "2022-04-01T00:00:00.000000000",
          "2022-05-01T00:00:00.000000000",
          "2022-07-01T00:00:00.000000000",
          "2022-08-01T00:00:00.000000000",
          "2022-10-01T00:00:00.000000000",
          "2022-11-01T00:00:00.000000000",
          "2022-12-01T00:00:00.000000000",
          "2023-02-01T00:00:00.000000000",
          "2023-03-01T00:00:00.000000000",
          "2023-04-01T00:00:00.000000000",
          "2023-06-01T00:00:00.000000000",
          "2023-07-01T00:00:00.000000000",
          "2023-09-01T00:00:00.000000000",
          "2023-10-01T00:00:00.000000000",
          "2023-11-01T00:00:00.000000000",
          "2024-01-01T00:00:00.000000000",
          "2024-02-01T00:00:00.000000000",
          "2024-03-01T00:00:00.000000000",
          "2024-05-01T00:00:00.000000000",
          "2024-06-01T00:00:00.000000000",
          "2024-08-01T00:00:00.000000000",
          "2024-09-01T00:00:00.000000000",
          "2024-10-01T00:00:00.000000000",
          "2024-12-01T00:00:00.000000000"
         ],
         "y": {
          "bdata": "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",
          "dtype": "f8"
         }
        }
       ],
       "layout": {
        "annotations": [
         {
          "align": "left",
          "bgcolor": "rgba(255, 255, 255, 0.8)",
          "bordercolor": "black",
          "borderwidth": 1,
          "font": {
           "size": 10
          },
          "showarrow": false,
          "text": "Source: Trading Economics<br>Original Source: Institute for Supply Management<br>Frequency: MS<br>",
          "x": -0.05,
          "xanchor": "left",
          "xref": "paper",
          "y": -0.25,
          "yanchor": "bottom",
          "yref": "paper"
         }
        ],
        "legend": {
         "orientation": "h",
         "title": {
          "text": ""
         },
         "x": 0.5,
         "xanchor": "center",
         "y": -0.2,
         "yanchor": "bottom"
        },
        "template": {
         "data": {
          "bar": [
           {
            "error_x": {
             "color": "#2a3f5f"
            },
            "error_y": {
             "color": "#2a3f5f"
            },
            "marker": {
             "line": {
              "color": "#E5ECF6",
              "width": 0.5
             },
             "pattern": {
              "fillmode": "overlay",
              "size": 10,
              "solidity": 0.2
             }
            },
            "type": "bar"
           }
          ],
          "barpolar": [
           {
            "marker": {
             "line": {
              "color": "#E5ECF6",
              "width": 0.5
             },
             "pattern": {
              "fillmode": "overlay",
              "size": 10,
              "solidity": 0.2
             }
            },
            "type": "barpolar"
           }
          ],
          "carpet": [
           {
            "aaxis": {
             "endlinecolor": "#2a3f5f",
             "gridcolor": "white",
             "linecolor": "white",
             "minorgridcolor": "white",
             "startlinecolor": "#2a3f5f"
            },
            "baxis": {
             "endlinecolor": "#2a3f5f",
             "gridcolor": "white",
             "linecolor": "white",
             "minorgridcolor": "white",
             "startlinecolor": "#2a3f5f"
            },
            "type": "carpet"
           }
          ],
          "choropleth": [
           {
            "colorbar": {
             "outlinewidth": 0,
             "ticks": ""
            },
            "type": "choropleth"
           }
          ],
          "contour": [
           {
            "colorbar": {
             "outlinewidth": 0,
             "ticks": ""
            },
            "colorscale": [
             [
              0,
              "#0d0887"
             ],
             [
              0.1111111111111111,
              "#46039f"
             ],
             [
              0.2222222222222222,
              "#7201a8"
             ],
             [
              0.3333333333333333,
              "#9c179e"
             ],
             [
              0.4444444444444444,
              "#bd3786"
             ],
             [
              0.5555555555555556,
              "#d8576b"
             ],
             [
              0.6666666666666666,
              "#ed7953"
             ],
             [
              0.7777777777777778,
              "#fb9f3a"
             ],
             [
              0.8888888888888888,
              "#fdca26"
             ],
             [
              1,
              "#f0f921"
             ]
            ],
            "type": "contour"
           }
          ],
          "contourcarpet": [
           {
            "colorbar": {
             "outlinewidth": 0,
             "ticks": ""
            },
            "type": "contourcarpet"
           }
          ],
          "heatmap": [
           {
            "colorbar": {
             "outlinewidth": 0,
             "ticks": ""
            },
            "colorscale": [
             [
              0,
              "#0d0887"
             ],
             [
              0.1111111111111111,
              "#46039f"
             ],
             [
              0.2222222222222222,
              "#7201a8"
             ],
             [
              0.3333333333333333,
              "#9c179e"
             ],
             [
              0.4444444444444444,
              "#bd3786"
             ],
             [
              0.5555555555555556,
              "#d8576b"
             ],
             [
              0.6666666666666666,
              "#ed7953"
             ],
             [
              0.7777777777777778,
              "#fb9f3a"
             ],
             [
              0.8888888888888888,
              "#fdca26"
             ],
             [
              1,
              "#f0f921"
             ]
            ],
            "type": "heatmap"
           }
          ],
          "histogram": [
           {
            "marker": {
             "pattern": {
              "fillmode": "overlay",
              "size": 10,
              "solidity": 0.2
             }
            },
            "type": "histogram"
           }
          ],
          "histogram2d": [
           {
            "colorbar": {
             "outlinewidth": 0,
             "ticks": ""
            },
            "colorscale": [
             [
              0,
              "#0d0887"
             ],
             [
              0.1111111111111111,
              "#46039f"
             ],
             [
              0.2222222222222222,
              "#7201a8"
             ],
             [
              0.3333333333333333,
              "#9c179e"
             ],
             [
              0.4444444444444444,
              "#bd3786"
             ],
             [
              0.5555555555555556,
              "#d8576b"
             ],
             [
              0.6666666666666666,
              "#ed7953"
             ],
             [
              0.7777777777777778,
              "#fb9f3a"
             ],
             [
              0.8888888888888888,
              "#fdca26"
             ],
             [
              1,
              "#f0f921"
             ]
            ],
            "type": "histogram2d"
           }
          ],
          "histogram2dcontour": [
           {
            "colorbar": {
             "outlinewidth": 0,
             "ticks": ""
            },
            "colorscale": [
             [
              0,
              "#0d0887"
             ],
             [
              0.1111111111111111,
              "#46039f"
             ],
             [
              0.2222222222222222,
              "#7201a8"
             ],
             [
              0.3333333333333333,
              "#9c179e"
             ],
             [
              0.4444444444444444,
              "#bd3786"
             ],
             [
              0.5555555555555556,
              "#d8576b"
             ],
             [
              0.6666666666666666,
              "#ed7953"
             ],
             [
              0.7777777777777778,
              "#fb9f3a"
             ],
             [
              0.8888888888888888,
              "#fdca26"
             ],
             [
              1,
              "#f0f921"
             ]
            ],
            "type": "histogram2dcontour"
           }
          ],
          "mesh3d": [
           {
            "colorbar": {
             "outlinewidth": 0,
             "ticks": ""
            },
            "type": "mesh3d"
           }
          ],
          "parcoords": [
           {
            "line": {
             "colorbar": {
              "outlinewidth": 0,
              "ticks": ""
             }
            },
            "type": "parcoords"
           }
          ],
          "pie": [
           {
            "automargin": true,
            "type": "pie"
           }
          ],
          "scatter": [
           {
            "fillpattern": {
             "fillmode": "overlay",
             "size": 10,
             "solidity": 0.2
            },
            "type": "scatter"
           }
          ],
          "scatter3d": [
           {
            "line": {
             "colorbar": {
              "outlinewidth": 0,
              "ticks": ""
             }
            },
            "marker": {
             "colorbar": {
              "outlinewidth": 0,
              "ticks": ""
             }
            },
            "type": "scatter3d"
           }
          ],
          "scattercarpet": [
           {
            "marker": {
             "colorbar": {
              "outlinewidth": 0,
              "ticks": ""
             }
            },
            "type": "scattercarpet"
           }
          ],
          "scattergeo": [
           {
            "marker": {
             "colorbar": {
              "outlinewidth": 0,
              "ticks": ""
             }
            },
            "type": "scattergeo"
           }
          ],
          "scattergl": [
           {
            "marker": {
             "colorbar": {
              "outlinewidth": 0,
              "ticks": ""
             }
            },
            "type": "scattergl"
           }
          ],
          "scattermap": [
           {
            "marker": {
             "colorbar": {
              "outlinewidth": 0,
              "ticks": ""
             }
            },
            "type": "scattermap"
           }
          ],
          "scattermapbox": [
           {
            "marker": {
             "colorbar": {
              "outlinewidth": 0,
              "ticks": ""
             }
            },
            "type": "scattermapbox"
           }
          ],
          "scatterpolar": [
           {
            "marker": {
             "colorbar": {
              "outlinewidth": 0,
              "ticks": ""
             }
            },
            "type": "scatterpolar"
           }
          ],
          "scatterpolargl": [
           {
            "marker": {
             "colorbar": {
              "outlinewidth": 0,
              "ticks": ""
             }
            },
            "type": "scatterpolargl"
           }
          ],
          "scatterternary": [
           {
            "marker": {
             "colorbar": {
              "outlinewidth": 0,
              "ticks": ""
             }
            },
            "type": "scatterternary"
           }
          ],
          "surface": [
           {
            "colorbar": {
             "outlinewidth": 0,
             "ticks": ""
            },
            "colorscale": [
             [
              0,
              "#0d0887"
             ],
             [
              0.1111111111111111,
              "#46039f"
             ],
             [
              0.2222222222222222,
              "#7201a8"
             ],
             [
              0.3333333333333333,
              "#9c179e"
             ],
             [
              0.4444444444444444,
              "#bd3786"
             ],
             [
              0.5555555555555556,
              "#d8576b"
             ],
             [
              0.6666666666666666,
              "#ed7953"
             ],
             [
              0.7777777777777778,
              "#fb9f3a"
             ],
             [
              0.8888888888888888,
              "#fdca26"
             ],
             [
              1,
              "#f0f921"
             ]
            ],
            "type": "surface"
           }
          ],
          "table": [
           {
            "cells": {
             "fill": {
              "color": "#EBF0F8"
             },
             "line": {
              "color": "white"
             }
            },
            "header": {
             "fill": {
              "color": "#C8D4E3"
             },
             "line": {
              "color": "white"
             }
            },
            "type": "table"
           }
          ]
         },
         "layout": {
          "annotationdefaults": {
           "arrowcolor": "#2a3f5f",
           "arrowhead": 0,
           "arrowwidth": 1
          },
          "autotypenumbers": "strict",
          "coloraxis": {
           "colorbar": {
            "outlinewidth": 0,
            "ticks": ""
           }
          },
          "colorscale": {
           "diverging": [
            [
             0,
             "#8e0152"
            ],
            [
             0.1,
             "#c51b7d"
            ],
            [
             0.2,
             "#de77ae"
            ],
            [
             0.3,
             "#f1b6da"
            ],
            [
             0.4,
             "#fde0ef"
            ],
            [
             0.5,
             "#f7f7f7"
            ],
            [
             0.6,
             "#e6f5d0"
            ],
            [
             0.7,
             "#b8e186"
            ],
            [
             0.8,
             "#7fbc41"
            ],
            [
             0.9,
             "#4d9221"
            ],
            [
             1,
             "#276419"
            ]
           ],
           "sequential": [
            [
             0,
             "#0d0887"
            ],
            [
             0.1111111111111111,
             "#46039f"
            ],
            [
             0.2222222222222222,
             "#7201a8"
            ],
            [
             0.3333333333333333,
             "#9c179e"
            ],
            [
             0.4444444444444444,
             "#bd3786"
            ],
            [
             0.5555555555555556,
             "#d8576b"
            ],
            [
             0.6666666666666666,
             "#ed7953"
            ],
            [
             0.7777777777777778,
             "#fb9f3a"
            ],
            [
             0.8888888888888888,
             "#fdca26"
            ],
            [
             1,
             "#f0f921"
            ]
           ],
           "sequentialminus": [
            [
             0,
             "#0d0887"
            ],
            [
             0.1111111111111111,
             "#46039f"
            ],
            [
             0.2222222222222222,
             "#7201a8"
            ],
            [
             0.3333333333333333,
             "#9c179e"
            ],
            [
             0.4444444444444444,
             "#bd3786"
            ],
            [
             0.5555555555555556,
             "#d8576b"
            ],
            [
             0.6666666666666666,
             "#ed7953"
            ],
            [
             0.7777777777777778,
             "#fb9f3a"
            ],
            [
             0.8888888888888888,
             "#fdca26"
            ],
            [
             1,
             "#f0f921"
            ]
           ]
          },
          "colorway": [
           "#636efa",
           "#EF553B",
           "#00cc96",
           "#ab63fa",
           "#FFA15A",
           "#19d3f3",
           "#FF6692",
           "#B6E880",
           "#FF97FF",
           "#FECB52"
          ],
          "font": {
           "color": "#2a3f5f"
          },
          "geo": {
           "bgcolor": "white",
           "lakecolor": "white",
           "landcolor": "#E5ECF6",
           "showlakes": true,
           "showland": true,
           "subunitcolor": "white"
          },
          "hoverlabel": {
           "align": "left"
          },
          "hovermode": "closest",
          "mapbox": {
           "style": "light"
          },
          "paper_bgcolor": "white",
          "plot_bgcolor": "#E5ECF6",
          "polar": {
           "angularaxis": {
            "gridcolor": "white",
            "linecolor": "white",
            "ticks": ""
           },
           "bgcolor": "#E5ECF6",
           "radialaxis": {
            "gridcolor": "white",
            "linecolor": "white",
            "ticks": ""
           }
          },
          "scene": {
           "xaxis": {
            "backgroundcolor": "#E5ECF6",
            "gridcolor": "white",
            "gridwidth": 2,
            "linecolor": "white",
            "showbackground": true,
            "ticks": "",
            "zerolinecolor": "white"
           },
           "yaxis": {
            "backgroundcolor": "#E5ECF6",
            "gridcolor": "white",
            "gridwidth": 2,
            "linecolor": "white",
            "showbackground": true,
            "ticks": "",
            "zerolinecolor": "white"
           },
           "zaxis": {
            "backgroundcolor": "#E5ECF6",
            "gridcolor": "white",
            "gridwidth": 2,
            "linecolor": "white",
            "showbackground": true,
            "ticks": "",
            "zerolinecolor": "white"
           }
          },
          "shapedefaults": {
           "line": {
            "color": "#2a3f5f"
           }
          },
          "ternary": {
           "aaxis": {
            "gridcolor": "white",
            "linecolor": "white",
            "ticks": ""
           },
           "baxis": {
            "gridcolor": "white",
            "linecolor": "white",
            "ticks": ""
           },
           "bgcolor": "#E5ECF6",
           "caxis": {
            "gridcolor": "white",
            "linecolor": "white",
            "ticks": ""
           }
          },
          "title": {
           "x": 0.05
          },
          "xaxis": {
           "automargin": true,
           "gridcolor": "white",
           "linecolor": "white",
           "ticks": "",
           "title": {
            "standoff": 15
           },
           "zerolinecolor": "white",
           "zerolinewidth": 2
          },
          "yaxis": {
           "automargin": true,
           "gridcolor": "white",
           "linecolor": "white",
           "ticks": "",
           "title": {
            "standoff": 15
           },
           "zerolinecolor": "white",
           "zerolinewidth": 2
          }
         }
        },
        "title": {
         "text": "United states: United states ism manufacturing pmi"
        },
        "xaxis": {
         "title": {
          "text": ""
         }
        },
        "yaxis": {
         "title": {
          "text": "Points"
         }
        }
       }
      }
     },
     "metadata": {},
     "output_type": "display_data"
    }
   ],
   "source": [
    "ted.utils.plot_multi_series(series_list=[{\"series\": scrup.series, \"add_name\": \"mixed\"}, {\"series\": pathout, \"add_name\": \"path\"}, {\"series\": scruf.series, \"add_name\": \"tooltips\"}], metadata = scrup.metadata,\n",
    "                            ann_box_pos=(-0.05, -0.25))"
   ]
  }
 ],
 "metadata": {
  "kernelspec": {
   "display_name": "ted",
   "language": "python",
   "name": "python3"
  },
  "language_info": {
   "codemirror_mode": {
    "name": "ipython",
    "version": 3
   },
   "file_extension": ".py",
   "mimetype": "text/x-python",
   "name": "python",
   "nbconvert_exporter": "python",
   "pygments_lexer": "ipython3",
   "version": "3.11.11"
  }
 },
 "nbformat": 4,
 "nbformat_minor": 2
}
