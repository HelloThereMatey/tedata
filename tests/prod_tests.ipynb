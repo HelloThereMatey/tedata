{
 "cells": [
  {
   "cell_type": "code",
   "execution_count": 1,
   "metadata": {},
   "outputs": [
    {
     "name": "stderr",
     "output_type": "stream",
     "text": [
      "INFO - tedata package initialized successfully!\n"
     ]
    }
   ],
   "source": [
    "import sys\n",
    "import os\n",
    "import pandas as pd\n",
    "from pprint import pprint\n",
    "wd = %pwd\n",
    "parent = os.path.dirname(wd)\n",
    "fdel = os.path.sep\n",
    "sys.path.append(parent+fdel+\"src\")\n",
    "import tedata as ted"
   ]
  },
  {
   "cell_type": "markdown",
   "metadata": {},
   "source": [
    "# tedata package\n",
    "Download data from Trading Economics. There are several ways to use this package. \n",
    "# Method #1: search for indicators and then download the data for a given search result.\n",
    "## Initialise new search_TE object. \n",
    "Object will use an existing webdriver if there is already more than one active in the namespace when use_existing_driver=True. \n",
    "This will save you some time and be more memory efficient."
   ]
  },
  {
   "cell_type": "code",
   "execution_count": 2,
   "metadata": {},
   "outputs": [
    {
     "name": "stderr",
     "output_type": "stream",
     "text": [
      "INFO - New firefox webdriver created.\n",
      "INFO - Loading home page at https://tradingeconomics.com/ ...\n",
      "INFO - Home page at https://tradingeconomics.com loaded successfully! Search box element found.\n"
     ]
    }
   ],
   "source": [
    "search = ted.search_TE(use_existing_driver=False, headless=False)  # Will open firefox browser window as headless=False."
   ]
  },
  {
   "cell_type": "markdown",
   "metadata": {},
   "source": [
    "### Use the search_trading_economics method to use the search bar on the homepage to search."
   ]
  },
  {
   "cell_type": "code",
   "execution_count": 3,
   "metadata": {},
   "outputs": [
    {
     "name": "stderr",
     "output_type": "stream",
     "text": [
      "INFO - Clicking search box...\n",
      "INFO - Entering search term: GDP now\n",
      "INFO - Submitting search, waiting 5s for page to load...\n"
     ]
    },
    {
     "name": "stdout",
     "output_type": "stream",
     "text": [
      "Found search results on page.\n"
     ]
    },
    {
     "data": {
      "text/html": [
       "<div>\n",
       "<style scoped>\n",
       "    .dataframe tbody tr th:only-of-type {\n",
       "        vertical-align: middle;\n",
       "    }\n",
       "\n",
       "    .dataframe tbody tr th {\n",
       "        vertical-align: top;\n",
       "    }\n",
       "\n",
       "    .dataframe thead th {\n",
       "        text-align: right;\n",
       "    }\n",
       "</style>\n",
       "<table border=\"1\" class=\"dataframe\">\n",
       "  <thead>\n",
       "    <tr style=\"text-align: right;\">\n",
       "      <th></th>\n",
       "      <th>country</th>\n",
       "      <th>metric</th>\n",
       "      <th>url</th>\n",
       "    </tr>\n",
       "    <tr>\n",
       "      <th>result</th>\n",
       "      <th></th>\n",
       "      <th></th>\n",
       "      <th></th>\n",
       "    </tr>\n",
       "  </thead>\n",
       "  <tbody>\n",
       "    <tr>\n",
       "      <th>0</th>\n",
       "      <td>united states</td>\n",
       "      <td>st louis fed economic news index real gdp nowc...</td>\n",
       "      <td>https://tradingeconomics.com/united-states/st-...</td>\n",
       "    </tr>\n",
       "  </tbody>\n",
       "</table>\n",
       "</div>"
      ],
      "text/plain": [
       "              country                                             metric  \\\n",
       "result                                                                     \n",
       "0       united states  st louis fed economic news index real gdp nowc...   \n",
       "\n",
       "                                                      url  \n",
       "result                                                     \n",
       "0       https://tradingeconomics.com/united-states/st-...  "
      ]
     },
     "execution_count": 3,
     "metadata": {},
     "output_type": "execute_result"
    }
   ],
   "source": [
    "search.search_trading_economics(\"GDP now\", wait_time=5) # Set wait_time to a higher value if you get an empty results table. Default is 5s.\n",
    "search.result_table"
   ]
  },
  {
   "cell_type": "markdown",
   "metadata": {},
   "source": [
    "### Download the time-series for a particular indicator using a search result displayed in your search results table.\n",
    "\n",
    "Sometimes you may get an error straight away on the first run of the ```get_data``` method. Error message will be something about error establising a connection.\n",
    "\n",
    "Noted error messages for this: \n",
    "- Error loading page: Message: Failed to write request to stream\n",
    "- Error loading page: Message: Tried to run command without establishing a connection\n",
    "\n",
    "Just try again if so, it has always worked for me the second time unless internet connection is down or too slow."
   ]
  },
  {
   "cell_type": "code",
   "execution_count": 4,
   "metadata": {},
   "outputs": [
    {
     "name": "stderr",
     "output_type": "stream",
     "text": [
      "INFO - scrape_chart function: Scraping chart at: https://tradingeconomics.com/united-states/st-louis-fed-economic-news-index-real-gdp-nowcast-fed-data.html, time: 2025-03-04 15:03:07.415472, method: path\n"
     ]
    },
    {
     "name": "stdout",
     "output_type": "stream",
     "text": [
      "Attempting to scrape data for result  0 ,  united states st louis fed economic news index real gdp nowcast fed data.html\n",
      "Scraping data from: https://tradingeconomics.com/united-states/st-louis-fed-economic-news-index-real-gdp-nowcast-fed-data.html\n"
     ]
    },
    {
     "name": "stderr",
     "output_type": "stream",
     "text": [
      "INFO - Chart types dictionary created successfully: dict_keys(['Column', 'Spline', 'Areaspline', 'Stepline', 'Line', 'Area'])\n",
      "INFO - Date span set to: 3Y\n",
      "INFO - \n",
      "Series metadata: \n",
      " {'units': '% Chg. at Annual Rate', 'original_source': 'Federal Reserve of St. Louis', 'title': 'United States - St. Louis Fed Economic News Index: Real GDP Nowcast - 2025 Data  2026 Forecast 2013 Historical', 'indicator': 'st louis fed economic news index real gdp nowcast fed data.html', 'country': 'united states', 'source': 'Trading Economics', 'id': 'united-states/st-louis-fed-economic-news-index-real-gdp-nowcast-fed-data.html'}\n"
     ]
    },
    {
     "name": "stdout",
     "output_type": "stream",
     "text": [
      "Description card not found:  {\"'NoneType' object has no attribute 'select_one'\"}\n",
      "Using selenium and tooltip scraping to construct the date time index for the time-series, this'll take a bit...\n"
     ]
    },
    {
     "name": "stderr",
     "output_type": "stream",
     "text": [
      "INFO - Chart type set to: Spline\n",
      "INFO - Time taken to select chart type: 1.8263318999670446\n",
      "INFO - Time taken to execute JS code: 2.980030099861324\n"
     ]
    },
    {
     "name": "stdout",
     "output_type": "stream",
     "text": [
      "Frequency of time-series:  QS-OCT\n",
      "get_xlims_from_tooltips method: date_span:  3Y , chart_type: splineChart\n"
     ]
    },
    {
     "name": "stderr",
     "output_type": "stream",
     "text": [
      "INFO - Chart type set to: Spline\n"
     ]
    },
    {
     "name": "stdout",
     "output_type": "stream",
     "text": [
      "Got chart dimensions and plot background element.\n"
     ]
    },
    {
     "name": "stderr",
     "output_type": "stream",
     "text": [
      "INFO - Start and end values scraped from tooltips: \n",
      "{'start_date': Timestamp('2013-04-01 00:00:00'), 'start_value': 3.09, 'unit_str': '%Chg.atAnnualRate', 'end_date': Timestamp('2025-01-01 00:00:00'), 'end_value': 1.77}\n",
      "INFO - DateTimeIndex created successfully for the time-series.\n",
      "INFO - Y-axis values scraped successfully.\n"
     ]
    },
    {
     "name": "stdout",
     "output_type": "stream",
     "text": [
      "Start and end dates scraped from tooltips:  {'start_date': Timestamp('2013-04-01 00:00:00'), 'start_value': 3.09, 'unit_str': '%Chg.atAnnualRate', 'end_date': Timestamp('2025-01-01 00:00:00'), 'end_value': 1.77}\n",
      "y_heights:  [335.5, 305.5, 255.5, 205.5, 155.5, 105.5, 55.5, 39.5]\n",
      "pixheights:  [335.5, 305.5, 255.5, 205.5, 155.5, 105.5, 55.5, 39.5]\n"
     ]
    },
    {
     "name": "stderr",
     "output_type": "stream",
     "text": [
      "INFO - Series path extraction method: Extracting series data from chart soup.\n",
      "INFO - Date span: MAX. Chart type: splineChart, URL: https://tradingeconomics.com/united-states/st-louis-fed-economic-news-index-real-gdp-nowcast-fed-data.html.\n",
      "INFO - DateTimeIndex applied to series, series attribute updated.\n",
      "INFO - Scale series method: Start value, end value: 3.09, 1.77, pix0, pix1: 139.55, 146.15, \n",
      "data units per chart pixel from start & end points: 0.20000000000000015, \n",
      "unit_per_pix calculated from the y axis ticks: 0.1982142857142857, \n",
      "unit_per_pix from axis limits and self.y_axis (probably best way): 0.19932432432432431\n",
      "yaxis top tick: 23.0, yaxis bot tick: -36.0\n",
      "axis_limits: 335.0, 40.0, y-axis series min & max pixel values: 335.5, 39.5\n",
      "INFO - Successfully scaled series.\n",
      "INFO - Successfully scraped time-series from chart at:  https://tradingeconomics.com/united-states/st-louis-fed-economic-news-index-real-gdp-nowcast-fed-data.html, now getting some metadata...\n"
     ]
    },
    {
     "name": "stdout",
     "output_type": "stream",
     "text": [
      "Unit per pix forumlation, 23.0, -36.0, 59.0, 296.0, 40.0, 335.0, 0.19932432432432431\n",
      "Series crosses zero, x-axis should be at about pixel y-cordinate:  155.5\n",
      "Got metadata. \n",
      "\n",
      "Series tail: 2024-01-01    1.682264\n",
      "2024-04-01    1.114189\n",
      "2024-07-01    1.742061\n",
      "2024-10-01    2.350000\n",
      "2025-01-01    1.742061\n",
      "Freq: QS-OCT, Name: st louis fed economic news index real gdp nowcast fed data.html, dtype: float64 \n",
      "\n",
      "Scraping complete! Happy pirating yo!\n",
      "Data scraped successfully from: https://tradingeconomics.com/united-states/st-louis-fed-economic-news-index-real-gdp-nowcast-fed-data.html\n"
     ]
    }
   ],
   "source": [
    "scraped = search.get_data(0)  ## Using result number 5 in result_table attribute.\n",
    "# Sometimes you may get an error straight away on the first run of this method. Error message bout error establising connection.\n",
    "# Just try again if so, it has always worked for me the second time unless internet connection is down or too slow"
   ]
  },
  {
   "cell_type": "markdown",
   "metadata": {},
   "source": [
    "### Plot your downloaded series using plotly to create an interactive chart with tooltips."
   ]
  },
  {
   "cell_type": "code",
   "execution_count": 5,
   "metadata": {},
   "outputs": [
    {
     "data": {
      "application/vnd.plotly.v1+json": {
       "config": {
        "plotlyServerURL": "https://plot.ly"
       },
       "data": [
        {
         "hovertemplate": "variable=st louis fed economic news index real gdp nowcast fed data.html<br>index=%{x}<br>value=%{y}<extra></extra>",
         "legendgroup": "st louis fed economic news index real gdp nowcast fed data.html",
         "line": {
          "color": "#636efa",
          "dash": "solid"
         },
         "marker": {
          "symbol": "circle"
         },
         "mode": "lines",
         "name": "st louis fed economic news index real gdp nowcast fed data.html",
         "orientation": "v",
         "showlegend": true,
         "type": "scatter",
         "x": [
          "2013-04-01T00:00:00.000000000",
          "2013-07-01T00:00:00.000000000",
          "2013-10-01T00:00:00.000000000",
          "2014-01-01T00:00:00.000000000",
          "2014-04-01T00:00:00.000000000",
          "2014-07-01T00:00:00.000000000",
          "2014-10-01T00:00:00.000000000",
          "2015-01-01T00:00:00.000000000",
          "2015-04-01T00:00:00.000000000",
          "2015-07-01T00:00:00.000000000",
          "2015-10-01T00:00:00.000000000",
          "2016-01-01T00:00:00.000000000",
          "2016-04-01T00:00:00.000000000",
          "2016-07-01T00:00:00.000000000",
          "2016-10-01T00:00:00.000000000",
          "2017-01-01T00:00:00.000000000",
          "2017-04-01T00:00:00.000000000",
          "2017-07-01T00:00:00.000000000",
          "2017-10-01T00:00:00.000000000",
          "2018-01-01T00:00:00.000000000",
          "2018-04-01T00:00:00.000000000",
          "2018-07-01T00:00:00.000000000",
          "2018-10-01T00:00:00.000000000",
          "2019-01-01T00:00:00.000000000",
          "2019-04-01T00:00:00.000000000",
          "2019-07-01T00:00:00.000000000",
          "2019-10-01T00:00:00.000000000",
          "2020-01-01T00:00:00.000000000",
          "2020-04-01T00:00:00.000000000",
          "2020-07-01T00:00:00.000000000",
          "2020-10-01T00:00:00.000000000",
          "2021-01-01T00:00:00.000000000",
          "2021-04-01T00:00:00.000000000",
          "2021-07-01T00:00:00.000000000",
          "2021-10-01T00:00:00.000000000",
          "2022-01-01T00:00:00.000000000",
          "2022-04-01T00:00:00.000000000",
          "2022-07-01T00:00:00.000000000",
          "2022-10-01T00:00:00.000000000",
          "2023-01-01T00:00:00.000000000",
          "2023-04-01T00:00:00.000000000",
          "2023-07-01T00:00:00.000000000",
          "2023-10-01T00:00:00.000000000",
          "2024-01-01T00:00:00.000000000",
          "2024-04-01T00:00:00.000000000",
          "2024-07-01T00:00:00.000000000",
          "2024-10-01T00:00:00.000000000",
          "2025-01-01T00:00:00.000000000"
         ],
         "xaxis": "x",
         "y": {
          "bdata": "UBOCsvd1CEAwhhfnoeMLQCAWcKc/ogRA+C73PK5bEECQRrXlKokQQMBn3WCKvAlAcEJQ9r5mAkBAMzMzM7P/P3BxHjqGNxBAMGlUW67SB0CQq6RRbXkEQGATgrL3tfA/0A2myGddAUAQXpyHjmEIQOBylTSqLQlA4HKVNKotCUAQgrL3NeECQLAJQdn7GgdA0PuaEJR9C0CwG0yRz7oLQBDnoWN4sQpAQOsGU+RzEUDQ6Y9YwN0GQIA0qi1Xyf0/IJ91gynyBkBQCMre1wQJQBD5rBtMkQBAYhOCsvd1LsAjFnCnPzI/wEyRz7rBXDNAYN1ginxWCUD0RyzgTj8kQEgs4E5/9CFAgCnyWTc4G0CQz7rBFLkNQIAeOoYX5/4/GEyRz7pBEEAApshn3WD0P4Bqy1XSqNo/gLL3NSEo4T8ArRtMkc/oP+DXhKDsPQJAIARl72sCAECgtlwljer6PyD9EQu40/E/4DUhKHvf+z/QzMzMzMwCQOA1ISh73/s/",
          "dtype": "f8"
         },
         "yaxis": "y"
        }
       ],
       "layout": {
        "annotations": [
         {
          "align": "left",
          "bgcolor": "rgba(255, 255, 255, 0.8)",
          "bordercolor": "black",
          "borderwidth": 1,
          "font": {
           "size": 10
          },
          "showarrow": false,
          "text": "Source: Trading Economics<br>Original Source: Federal Reserve of St. Louis<br>Frequency: QS-OCT<br>",
          "x": 0,
          "xanchor": "left",
          "xref": "paper",
          "y": -0.23,
          "yanchor": "bottom",
          "yref": "paper"
         }
        ],
        "legend": {
         "orientation": "h",
         "title": {
          "text": ""
         },
         "tracegroupgap": 0,
         "x": 0.5,
         "xanchor": "center",
         "y": -0.2,
         "yanchor": "bottom"
        },
        "margin": {
         "t": 60
        },
        "template": {
         "data": {
          "bar": [
           {
            "error_x": {
             "color": "#2a3f5f"
            },
            "error_y": {
             "color": "#2a3f5f"
            },
            "marker": {
             "line": {
              "color": "#E5ECF6",
              "width": 0.5
             },
             "pattern": {
              "fillmode": "overlay",
              "size": 10,
              "solidity": 0.2
             }
            },
            "type": "bar"
           }
          ],
          "barpolar": [
           {
            "marker": {
             "line": {
              "color": "#E5ECF6",
              "width": 0.5
             },
             "pattern": {
              "fillmode": "overlay",
              "size": 10,
              "solidity": 0.2
             }
            },
            "type": "barpolar"
           }
          ],
          "carpet": [
           {
            "aaxis": {
             "endlinecolor": "#2a3f5f",
             "gridcolor": "white",
             "linecolor": "white",
             "minorgridcolor": "white",
             "startlinecolor": "#2a3f5f"
            },
            "baxis": {
             "endlinecolor": "#2a3f5f",
             "gridcolor": "white",
             "linecolor": "white",
             "minorgridcolor": "white",
             "startlinecolor": "#2a3f5f"
            },
            "type": "carpet"
           }
          ],
          "choropleth": [
           {
            "colorbar": {
             "outlinewidth": 0,
             "ticks": ""
            },
            "type": "choropleth"
           }
          ],
          "contour": [
           {
            "colorbar": {
             "outlinewidth": 0,
             "ticks": ""
            },
            "colorscale": [
             [
              0,
              "#0d0887"
             ],
             [
              0.1111111111111111,
              "#46039f"
             ],
             [
              0.2222222222222222,
              "#7201a8"
             ],
             [
              0.3333333333333333,
              "#9c179e"
             ],
             [
              0.4444444444444444,
              "#bd3786"
             ],
             [
              0.5555555555555556,
              "#d8576b"
             ],
             [
              0.6666666666666666,
              "#ed7953"
             ],
             [
              0.7777777777777778,
              "#fb9f3a"
             ],
             [
              0.8888888888888888,
              "#fdca26"
             ],
             [
              1,
              "#f0f921"
             ]
            ],
            "type": "contour"
           }
          ],
          "contourcarpet": [
           {
            "colorbar": {
             "outlinewidth": 0,
             "ticks": ""
            },
            "type": "contourcarpet"
           }
          ],
          "heatmap": [
           {
            "colorbar": {
             "outlinewidth": 0,
             "ticks": ""
            },
            "colorscale": [
             [
              0,
              "#0d0887"
             ],
             [
              0.1111111111111111,
              "#46039f"
             ],
             [
              0.2222222222222222,
              "#7201a8"
             ],
             [
              0.3333333333333333,
              "#9c179e"
             ],
             [
              0.4444444444444444,
              "#bd3786"
             ],
             [
              0.5555555555555556,
              "#d8576b"
             ],
             [
              0.6666666666666666,
              "#ed7953"
             ],
             [
              0.7777777777777778,
              "#fb9f3a"
             ],
             [
              0.8888888888888888,
              "#fdca26"
             ],
             [
              1,
              "#f0f921"
             ]
            ],
            "type": "heatmap"
           }
          ],
          "histogram": [
           {
            "marker": {
             "pattern": {
              "fillmode": "overlay",
              "size": 10,
              "solidity": 0.2
             }
            },
            "type": "histogram"
           }
          ],
          "histogram2d": [
           {
            "colorbar": {
             "outlinewidth": 0,
             "ticks": ""
            },
            "colorscale": [
             [
              0,
              "#0d0887"
             ],
             [
              0.1111111111111111,
              "#46039f"
             ],
             [
              0.2222222222222222,
              "#7201a8"
             ],
             [
              0.3333333333333333,
              "#9c179e"
             ],
             [
              0.4444444444444444,
              "#bd3786"
             ],
             [
              0.5555555555555556,
              "#d8576b"
             ],
             [
              0.6666666666666666,
              "#ed7953"
             ],
             [
              0.7777777777777778,
              "#fb9f3a"
             ],
             [
              0.8888888888888888,
              "#fdca26"
             ],
             [
              1,
              "#f0f921"
             ]
            ],
            "type": "histogram2d"
           }
          ],
          "histogram2dcontour": [
           {
            "colorbar": {
             "outlinewidth": 0,
             "ticks": ""
            },
            "colorscale": [
             [
              0,
              "#0d0887"
             ],
             [
              0.1111111111111111,
              "#46039f"
             ],
             [
              0.2222222222222222,
              "#7201a8"
             ],
             [
              0.3333333333333333,
              "#9c179e"
             ],
             [
              0.4444444444444444,
              "#bd3786"
             ],
             [
              0.5555555555555556,
              "#d8576b"
             ],
             [
              0.6666666666666666,
              "#ed7953"
             ],
             [
              0.7777777777777778,
              "#fb9f3a"
             ],
             [
              0.8888888888888888,
              "#fdca26"
             ],
             [
              1,
              "#f0f921"
             ]
            ],
            "type": "histogram2dcontour"
           }
          ],
          "mesh3d": [
           {
            "colorbar": {
             "outlinewidth": 0,
             "ticks": ""
            },
            "type": "mesh3d"
           }
          ],
          "parcoords": [
           {
            "line": {
             "colorbar": {
              "outlinewidth": 0,
              "ticks": ""
             }
            },
            "type": "parcoords"
           }
          ],
          "pie": [
           {
            "automargin": true,
            "type": "pie"
           }
          ],
          "scatter": [
           {
            "fillpattern": {
             "fillmode": "overlay",
             "size": 10,
             "solidity": 0.2
            },
            "type": "scatter"
           }
          ],
          "scatter3d": [
           {
            "line": {
             "colorbar": {
              "outlinewidth": 0,
              "ticks": ""
             }
            },
            "marker": {
             "colorbar": {
              "outlinewidth": 0,
              "ticks": ""
             }
            },
            "type": "scatter3d"
           }
          ],
          "scattercarpet": [
           {
            "marker": {
             "colorbar": {
              "outlinewidth": 0,
              "ticks": ""
             }
            },
            "type": "scattercarpet"
           }
          ],
          "scattergeo": [
           {
            "marker": {
             "colorbar": {
              "outlinewidth": 0,
              "ticks": ""
             }
            },
            "type": "scattergeo"
           }
          ],
          "scattergl": [
           {
            "marker": {
             "colorbar": {
              "outlinewidth": 0,
              "ticks": ""
             }
            },
            "type": "scattergl"
           }
          ],
          "scattermap": [
           {
            "marker": {
             "colorbar": {
              "outlinewidth": 0,
              "ticks": ""
             }
            },
            "type": "scattermap"
           }
          ],
          "scattermapbox": [
           {
            "marker": {
             "colorbar": {
              "outlinewidth": 0,
              "ticks": ""
             }
            },
            "type": "scattermapbox"
           }
          ],
          "scatterpolar": [
           {
            "marker": {
             "colorbar": {
              "outlinewidth": 0,
              "ticks": ""
             }
            },
            "type": "scatterpolar"
           }
          ],
          "scatterpolargl": [
           {
            "marker": {
             "colorbar": {
              "outlinewidth": 0,
              "ticks": ""
             }
            },
            "type": "scatterpolargl"
           }
          ],
          "scatterternary": [
           {
            "marker": {
             "colorbar": {
              "outlinewidth": 0,
              "ticks": ""
             }
            },
            "type": "scatterternary"
           }
          ],
          "surface": [
           {
            "colorbar": {
             "outlinewidth": 0,
             "ticks": ""
            },
            "colorscale": [
             [
              0,
              "#0d0887"
             ],
             [
              0.1111111111111111,
              "#46039f"
             ],
             [
              0.2222222222222222,
              "#7201a8"
             ],
             [
              0.3333333333333333,
              "#9c179e"
             ],
             [
              0.4444444444444444,
              "#bd3786"
             ],
             [
              0.5555555555555556,
              "#d8576b"
             ],
             [
              0.6666666666666666,
              "#ed7953"
             ],
             [
              0.7777777777777778,
              "#fb9f3a"
             ],
             [
              0.8888888888888888,
              "#fdca26"
             ],
             [
              1,
              "#f0f921"
             ]
            ],
            "type": "surface"
           }
          ],
          "table": [
           {
            "cells": {
             "fill": {
              "color": "#EBF0F8"
             },
             "line": {
              "color": "white"
             }
            },
            "header": {
             "fill": {
              "color": "#C8D4E3"
             },
             "line": {
              "color": "white"
             }
            },
            "type": "table"
           }
          ]
         },
         "layout": {
          "annotationdefaults": {
           "arrowcolor": "#2a3f5f",
           "arrowhead": 0,
           "arrowwidth": 1
          },
          "autotypenumbers": "strict",
          "coloraxis": {
           "colorbar": {
            "outlinewidth": 0,
            "ticks": ""
           }
          },
          "colorscale": {
           "diverging": [
            [
             0,
             "#8e0152"
            ],
            [
             0.1,
             "#c51b7d"
            ],
            [
             0.2,
             "#de77ae"
            ],
            [
             0.3,
             "#f1b6da"
            ],
            [
             0.4,
             "#fde0ef"
            ],
            [
             0.5,
             "#f7f7f7"
            ],
            [
             0.6,
             "#e6f5d0"
            ],
            [
             0.7,
             "#b8e186"
            ],
            [
             0.8,
             "#7fbc41"
            ],
            [
             0.9,
             "#4d9221"
            ],
            [
             1,
             "#276419"
            ]
           ],
           "sequential": [
            [
             0,
             "#0d0887"
            ],
            [
             0.1111111111111111,
             "#46039f"
            ],
            [
             0.2222222222222222,
             "#7201a8"
            ],
            [
             0.3333333333333333,
             "#9c179e"
            ],
            [
             0.4444444444444444,
             "#bd3786"
            ],
            [
             0.5555555555555556,
             "#d8576b"
            ],
            [
             0.6666666666666666,
             "#ed7953"
            ],
            [
             0.7777777777777778,
             "#fb9f3a"
            ],
            [
             0.8888888888888888,
             "#fdca26"
            ],
            [
             1,
             "#f0f921"
            ]
           ],
           "sequentialminus": [
            [
             0,
             "#0d0887"
            ],
            [
             0.1111111111111111,
             "#46039f"
            ],
            [
             0.2222222222222222,
             "#7201a8"
            ],
            [
             0.3333333333333333,
             "#9c179e"
            ],
            [
             0.4444444444444444,
             "#bd3786"
            ],
            [
             0.5555555555555556,
             "#d8576b"
            ],
            [
             0.6666666666666666,
             "#ed7953"
            ],
            [
             0.7777777777777778,
             "#fb9f3a"
            ],
            [
             0.8888888888888888,
             "#fdca26"
            ],
            [
             1,
             "#f0f921"
            ]
           ]
          },
          "colorway": [
           "#636efa",
           "#EF553B",
           "#00cc96",
           "#ab63fa",
           "#FFA15A",
           "#19d3f3",
           "#FF6692",
           "#B6E880",
           "#FF97FF",
           "#FECB52"
          ],
          "font": {
           "color": "#2a3f5f"
          },
          "geo": {
           "bgcolor": "white",
           "lakecolor": "white",
           "landcolor": "#E5ECF6",
           "showlakes": true,
           "showland": true,
           "subunitcolor": "white"
          },
          "hoverlabel": {
           "align": "left"
          },
          "hovermode": "closest",
          "mapbox": {
           "style": "light"
          },
          "paper_bgcolor": "white",
          "plot_bgcolor": "#E5ECF6",
          "polar": {
           "angularaxis": {
            "gridcolor": "white",
            "linecolor": "white",
            "ticks": ""
           },
           "bgcolor": "#E5ECF6",
           "radialaxis": {
            "gridcolor": "white",
            "linecolor": "white",
            "ticks": ""
           }
          },
          "scene": {
           "xaxis": {
            "backgroundcolor": "#E5ECF6",
            "gridcolor": "white",
            "gridwidth": 2,
            "linecolor": "white",
            "showbackground": true,
            "ticks": "",
            "zerolinecolor": "white"
           },
           "yaxis": {
            "backgroundcolor": "#E5ECF6",
            "gridcolor": "white",
            "gridwidth": 2,
            "linecolor": "white",
            "showbackground": true,
            "ticks": "",
            "zerolinecolor": "white"
           },
           "zaxis": {
            "backgroundcolor": "#E5ECF6",
            "gridcolor": "white",
            "gridwidth": 2,
            "linecolor": "white",
            "showbackground": true,
            "ticks": "",
            "zerolinecolor": "white"
           }
          },
          "shapedefaults": {
           "line": {
            "color": "#2a3f5f"
           }
          },
          "ternary": {
           "aaxis": {
            "gridcolor": "white",
            "linecolor": "white",
            "ticks": ""
           },
           "baxis": {
            "gridcolor": "white",
            "linecolor": "white",
            "ticks": ""
           },
           "bgcolor": "#E5ECF6",
           "caxis": {
            "gridcolor": "white",
            "linecolor": "white",
            "ticks": ""
           }
          },
          "title": {
           "x": 0.05
          },
          "xaxis": {
           "automargin": true,
           "gridcolor": "white",
           "linecolor": "white",
           "ticks": "",
           "title": {
            "standoff": 15
           },
           "zerolinecolor": "white",
           "zerolinewidth": 2
          },
          "yaxis": {
           "automargin": true,
           "gridcolor": "white",
           "linecolor": "white",
           "ticks": "",
           "title": {
            "standoff": 15
           },
           "zerolinecolor": "white",
           "zerolinewidth": 2
          }
         }
        },
        "title": {
         "text": "United states: United states - st. louis fed economic news index: real gdp nowcast - 2025 data  2026 forecast 2013 historical"
        },
        "xaxis": {
         "anchor": "y",
         "domain": [
          0,
          1
         ],
         "title": {
          "text": ""
         }
        },
        "yaxis": {
         "anchor": "x",
         "domain": [
          0,
          1
         ],
         "title": {
          "text": "% chg. at annual rate"
         }
        }
       }
      }
     },
     "metadata": {},
     "output_type": "display_data"
    }
   ],
   "source": [
    "scraped = search.scraped_data\n",
    "scraped.plot_series(ann_box_pos=(0, -0.23))  # Yu can move the annotation box around by changing the values of ann_box_pos."
   ]
  },
  {
   "cell_type": "code",
   "execution_count": null,
   "metadata": {},
   "outputs": [],
   "source": [
    "scraped.save_plot(format=\"html\")  #Export static plot as png if you wish. Use format=\"html\" for interactive plot export."
   ]
  },
  {
   "cell_type": "code",
   "execution_count": 6,
   "metadata": {},
   "outputs": [
    {
     "data": {
      "text/plain": [
       "{'units': '% Chg. at Annual Rate',\n",
       " 'original_source': 'Federal Reserve of St. Louis',\n",
       " 'title': 'United States - St. Louis Fed Economic News Index: Real GDP Nowcast - 2025 Data  2026 Forecast 2013 Historical',\n",
       " 'indicator': 'st louis fed economic news index real gdp nowcast fed data.html',\n",
       " 'country': 'united states',\n",
       " 'source': 'Trading Economics',\n",
       " 'id': 'united-states/st-louis-fed-economic-news-index-real-gdp-nowcast-fed-data.html',\n",
       " 'frequency': 'QS-OCT',\n",
       " 'unit_tooltips': '%Chg.atAnnualRate',\n",
       " 'start_date': '2013-04-01',\n",
       " 'end_date': '2025-01-01',\n",
       " 'min_value': -31.19628378378378,\n",
       " 'max_value': 19.36233108108108,\n",
       " 'length': 48}"
      ]
     },
     "execution_count": 6,
     "metadata": {},
     "output_type": "execute_result"
    }
   ],
   "source": [
    "scraped.metadata"
   ]
  },
  {
   "cell_type": "markdown",
   "metadata": {},
   "source": [
    "# Method #2: Download data for a given Indicator + Country combination or a given URL with a single line.\n",
    "\n",
    "Sometimes you may get an error straight away on the first run of the ```scrape_chart``` method. Error message will be something about error establising a connection.\n",
    "\n",
    "Noted error messages for this: \n",
    "- Error loading page: Message: Failed to write request to stream\n",
    "- Error loading page: Message: Tried to run command without establishing a connection\n",
    "\n",
    "Just try again if so, it has always worked for me the second time unless internet connection is down or too slow."
   ]
  },
  {
   "cell_type": "code",
   "execution_count": 7,
   "metadata": {},
   "outputs": [
    {
     "name": "stderr",
     "output_type": "stream",
     "text": [
      "INFO - Quitting 1 active webdriver instances...\n"
     ]
    },
    {
     "data": {
      "text/plain": [
       "[]"
      ]
     },
     "execution_count": 7,
     "metadata": {},
     "output_type": "execute_result"
    }
   ],
   "source": [
    "from tedata import base\n",
    "base.find_active_drivers(quit_all=True)"
   ]
  },
  {
   "cell_type": "code",
   "execution_count": 8,
   "metadata": {},
   "outputs": [
    {
     "name": "stderr",
     "output_type": "stream",
     "text": [
      "INFO - New firefox webdriver created.\n",
      "INFO - scrape_chart function: Scraping chart at: https://tradingeconomics.com/australia/consumer-confidence, time: 2025-03-04 11:58:28.476320, method: path\n",
      "INFO - Chart types dictionary created successfully: dict_keys(['Column', 'Spline', 'Areaspline', 'Stepline', 'Line', 'Area'])\n",
      "INFO - Date span set to: 1Y\n",
      "INFO - \n",
      "Series metadata: \n",
      " {'units': 'points', 'original_source': 'Westpac Banking Corporation, Melbourne Institute', 'title': 'Australia Consumer Confidence', 'indicator': 'consumer confidence', 'country': 'australia', 'source': 'Trading Economics', 'id': 'australia/consumer-confidence'}\n"
     ]
    },
    {
     "name": "stdout",
     "output_type": "stream",
     "text": [
      "Using selenium and tooltip scraping to construct the date time index for the time-series, this'll take a bit...\n"
     ]
    },
    {
     "name": "stderr",
     "output_type": "stream",
     "text": [
      "INFO - Chart type set to: Spline\n"
     ]
    },
    {
     "name": "stdout",
     "output_type": "stream",
     "text": [
      "Time taken to select chart type: 1.6476567999925464\n",
      "Time taken to load JS code: 0.00033379998058080673\n"
     ]
    },
    {
     "name": "stderr",
     "output_type": "stream",
     "text": [
      "INFO - JS Console: Starting cursor movement, target points: 10\n",
      "INFO - JS Console: Using increment: 5px\n",
      "INFO - JS Console: Using wait time: 25ms\n",
      "INFO - JS Console: Chart dimensions: [object DOMRect]\n",
      "INFO - JS Console: Found data point: Feb 2025 = 92.2 Points\n",
      "INFO - JS Console: Found data point: Jan 2025 = 92.1 Points\n",
      "INFO - JS Console: Found data point: Dec 2024 = 92.8 Points\n",
      "INFO - JS Console: Found data point: Nov 2024 = 94.6 Points\n",
      "INFO - JS Console: Found data point: Oct 2024 = 89.8 Points\n",
      "INFO - JS Console: Found data point: Sep 2024 = 84.6 Points\n",
      "INFO - JS Console: Found data point: Aug 2024 = 85 Points\n",
      "INFO - JS Console: Found data point: Jul 2024 = 82.7 Points\n",
      "INFO - JS Console: Found data point: Jun 2024 = 83.6 Points\n",
      "INFO - JS Console: Found data point: May 2024 = 82.2 Points\n",
      "INFO - JS Console: Collected 10 points, finishing...\n"
     ]
    },
    {
     "name": "stdout",
     "output_type": "stream",
     "text": [
      "Time taken to execute JS code: 2.99372319993563\n",
      "Latest dates:  ['Feb 2025', 'Jan 2025', 'Dec 2024', 'Nov 2024', 'Oct 2024', 'Sep 2024', 'Aug 2024', 'Jul 2024', 'Jun 2024', 'May 2024']\n",
      "Frequency of time-series:  MS\n",
      "get_xlims_from_tooltips method: date_span:  1Y , chart_type: splineChart\n"
     ]
    },
    {
     "name": "stderr",
     "output_type": "stream",
     "text": [
      "INFO - Chart type set to: Spline\n"
     ]
    },
    {
     "name": "stdout",
     "output_type": "stream",
     "text": [
      "Got chart dimensions and plot background element.\n"
     ]
    },
    {
     "name": "stderr",
     "output_type": "stream",
     "text": [
      "INFO - Start and end values scraped from tooltips: \n",
      "{'start_date': Timestamp('1974-09-01 00:00:00'), 'start_value': 90.7, 'unit_str': '', 'end_date': Timestamp('2025-02-01 00:00:00'), 'end_value': 92.2}\n",
      "INFO - DateTimeIndex created successfully for the time-series.\n",
      "INFO - Y-axis values scraped successfully.\n",
      "INFO - Series path extraction method: Extracting series data from chart soup.\n",
      "INFO - Date span: MAX. Chart type: splineChart, URL: https://tradingeconomics.com/australia/consumer-confidence.\n",
      "INFO - DateTimeIndex applied to series, series attribute updated.\n",
      "INFO - Scale series method: Start value, end value: 90.7, 92.2, pix0, pix1: 199.47101449275, 193.05797101449, \n",
      "data units per chart pixel from start & end points: 0.2338983050847777, \n",
      "unit_per_pix calculated from the y axis ticks: 0.2329944773624373, \n",
      "unit_per_pix from axis limits and self.y_axis (probably best way): 0.23310810810810811\n",
      "yaxis top tick: 128.0, yaxis bot tick: 59.0\n",
      "axis_limits: 335.0, 40.0, y-axis series min & max pixel values: 335.5, 39.5\n",
      "INFO - Successfully scaled series.\n",
      "INFO - Successfully scraped time-series from chart at:  https://tradingeconomics.com/australia/consumer-confidence, now getting some metadata...\n"
     ]
    },
    {
     "name": "stdout",
     "output_type": "stream",
     "text": [
      "Start and end dates scraped from tooltips:  {'start_date': Timestamp('1974-09-01 00:00:00'), 'start_value': 90.7, 'unit_str': '', 'end_date': Timestamp('2025-02-01 00:00:00'), 'end_value': 92.2}\n",
      "y_heights:  [335.5, 288.5, 237.5, 185.5, 134.5, 83.5, 39.5]\n",
      "pixheights:  [335.5, 288.5, 237.5, 185.5, 134.5, 83.5, 39.5]\n",
      "Unit per pix forumlation, 128.0, 59.0, 69.0, 296.0, 40.0, 335.0, 0.23310810810810811\n",
      "Series crosses zero, x-axis should be at about pixel y-cordinate:  None\n",
      "Got metadata. \n",
      "\n",
      "Series tail: 2024-10-01    89.812500\n",
      "2024-11-01    94.596284\n",
      "2024-12-01    92.802365\n",
      "2025-01-01    92.104730\n",
      "2025-02-01    92.204392\n",
      "Freq: MS, Name: consumer confidence, dtype: float64 \n",
      "\n",
      "Scraping complete! Happy pirating yo!\n"
     ]
    }
   ],
   "source": [
    "scraped = ted.scrape_chart(country=\"australia\", id = \"consumer-confidence\", use_existing_driver=True, headless=False, method=\"path\") ## Using chart id from the url only, country is \"united-states\" by default."
   ]
  },
  {
   "cell_type": "code",
   "execution_count": 9,
   "metadata": {},
   "outputs": [
    {
     "data": {
      "application/vnd.plotly.v1+json": {
       "config": {
        "plotlyServerURL": "https://plot.ly"
       },
       "data": [
        {
         "hovertemplate": "variable=consumer confidence<br>index=%{x}<br>value=%{y}<extra></extra>",
         "legendgroup": "consumer confidence",
         "line": {
          "color": "#636efa",
          "dash": "solid"
         },
         "marker": {
          "symbol": "circle"
         },
         "mode": "lines",
         "name": "consumer confidence",
         "orientation": "v",
         "showlegend": true,
         "type": "scatter",
         "x": [
          "1974-09-01T00:00:00.000000000",
          "1974-10-01T00:00:00.000000000",
          "1974-11-01T00:00:00.000000000",
          "1974-12-01T00:00:00.000000000",
          "1975-01-01T00:00:00.000000000",
          "1975-02-01T00:00:00.000000000",
          "1975-03-01T00:00:00.000000000",
          "1975-04-01T00:00:00.000000000",
          "1975-05-01T00:00:00.000000000",
          "1975-06-01T00:00:00.000000000",
          "1975-07-01T00:00:00.000000000",
          "1975-08-01T00:00:00.000000000",
          "1975-09-01T00:00:00.000000000",
          "1975-10-01T00:00:00.000000000",
          "1975-11-01T00:00:00.000000000",
          "1975-12-01T00:00:00.000000000",
          "1976-01-01T00:00:00.000000000",
          "1976-02-01T00:00:00.000000000",
          "1976-03-01T00:00:00.000000000",
          "1976-04-01T00:00:00.000000000",
          "1976-05-01T00:00:00.000000000",
          "1976-06-01T00:00:00.000000000",
          "1976-07-01T00:00:00.000000000",
          "1976-08-01T00:00:00.000000000",
          "1976-09-01T00:00:00.000000000",
          "1976-10-01T00:00:00.000000000",
          "1976-11-01T00:00:00.000000000",
          "1976-12-01T00:00:00.000000000",
          "1977-01-01T00:00:00.000000000",
          "1977-02-01T00:00:00.000000000",
          "1977-03-01T00:00:00.000000000",
          "1977-04-01T00:00:00.000000000",
          "1977-05-01T00:00:00.000000000",
          "1977-06-01T00:00:00.000000000",
          "1977-07-01T00:00:00.000000000",
          "1977-08-01T00:00:00.000000000",
          "1977-09-01T00:00:00.000000000",
          "1977-10-01T00:00:00.000000000",
          "1977-11-01T00:00:00.000000000",
          "1977-12-01T00:00:00.000000000",
          "1978-01-01T00:00:00.000000000",
          "1978-02-01T00:00:00.000000000",
          "1978-03-01T00:00:00.000000000",
          "1978-04-01T00:00:00.000000000",
          "1978-05-01T00:00:00.000000000",
          "1978-06-01T00:00:00.000000000",
          "1978-07-01T00:00:00.000000000",
          "1978-08-01T00:00:00.000000000",
          "1978-09-01T00:00:00.000000000",
          "1978-10-01T00:00:00.000000000",
          "1978-11-01T00:00:00.000000000",
          "1978-12-01T00:00:00.000000000",
          "1979-01-01T00:00:00.000000000",
          "1979-02-01T00:00:00.000000000",
          "1979-03-01T00:00:00.000000000",
          "1979-04-01T00:00:00.000000000",
          "1979-05-01T00:00:00.000000000",
          "1979-06-01T00:00:00.000000000",
          "1979-07-01T00:00:00.000000000",
          "1979-08-01T00:00:00.000000000",
          "1979-09-01T00:00:00.000000000",
          "1979-10-01T00:00:00.000000000",
          "1979-11-01T00:00:00.000000000",
          "1979-12-01T00:00:00.000000000",
          "1980-01-01T00:00:00.000000000",
          "1980-02-01T00:00:00.000000000",
          "1980-03-01T00:00:00.000000000",
          "1980-04-01T00:00:00.000000000",
          "1980-05-01T00:00:00.000000000",
          "1980-06-01T00:00:00.000000000",
          "1980-07-01T00:00:00.000000000",
          "1980-08-01T00:00:00.000000000",
          "1980-09-01T00:00:00.000000000",
          "1980-10-01T00:00:00.000000000",
          "1980-11-01T00:00:00.000000000",
          "1980-12-01T00:00:00.000000000",
          "1981-01-01T00:00:00.000000000",
          "1981-02-01T00:00:00.000000000",
          "1981-03-01T00:00:00.000000000",
          "1981-04-01T00:00:00.000000000",
          "1981-05-01T00:00:00.000000000",
          "1981-06-01T00:00:00.000000000",
          "1981-07-01T00:00:00.000000000",
          "1981-08-01T00:00:00.000000000",
          "1981-09-01T00:00:00.000000000",
          "1981-10-01T00:00:00.000000000",
          "1981-11-01T00:00:00.000000000",
          "1981-12-01T00:00:00.000000000",
          "1982-01-01T00:00:00.000000000",
          "1982-02-01T00:00:00.000000000",
          "1982-03-01T00:00:00.000000000",
          "1982-04-01T00:00:00.000000000",
          "1982-05-01T00:00:00.000000000",
          "1982-06-01T00:00:00.000000000",
          "1982-07-01T00:00:00.000000000",
          "1982-08-01T00:00:00.000000000",
          "1982-09-01T00:00:00.000000000",
          "1982-10-01T00:00:00.000000000",
          "1982-11-01T00:00:00.000000000",
          "1982-12-01T00:00:00.000000000",
          "1983-01-01T00:00:00.000000000",
          "1983-02-01T00:00:00.000000000",
          "1983-03-01T00:00:00.000000000",
          "1983-04-01T00:00:00.000000000",
          "1983-05-01T00:00:00.000000000",
          "1983-06-01T00:00:00.000000000",
          "1983-07-01T00:00:00.000000000",
          "1983-08-01T00:00:00.000000000",
          "1983-09-01T00:00:00.000000000",
          "1983-10-01T00:00:00.000000000",
          "1983-11-01T00:00:00.000000000",
          "1983-12-01T00:00:00.000000000",
          "1984-01-01T00:00:00.000000000",
          "1984-02-01T00:00:00.000000000",
          "1984-03-01T00:00:00.000000000",
          "1984-04-01T00:00:00.000000000",
          "1984-05-01T00:00:00.000000000",
          "1984-06-01T00:00:00.000000000",
          "1984-07-01T00:00:00.000000000",
          "1984-08-01T00:00:00.000000000",
          "1984-09-01T00:00:00.000000000",
          "1984-10-01T00:00:00.000000000",
          "1984-11-01T00:00:00.000000000",
          "1984-12-01T00:00:00.000000000",
          "1985-01-01T00:00:00.000000000",
          "1985-02-01T00:00:00.000000000",
          "1985-03-01T00:00:00.000000000",
          "1985-04-01T00:00:00.000000000",
          "1985-05-01T00:00:00.000000000",
          "1985-06-01T00:00:00.000000000",
          "1985-07-01T00:00:00.000000000",
          "1985-08-01T00:00:00.000000000",
          "1985-09-01T00:00:00.000000000",
          "1985-10-01T00:00:00.000000000",
          "1985-11-01T00:00:00.000000000",
          "1985-12-01T00:00:00.000000000",
          "1986-01-01T00:00:00.000000000",
          "1986-02-01T00:00:00.000000000",
          "1986-03-01T00:00:00.000000000",
          "1986-04-01T00:00:00.000000000",
          "1986-05-01T00:00:00.000000000",
          "1986-06-01T00:00:00.000000000",
          "1986-07-01T00:00:00.000000000",
          "1986-08-01T00:00:00.000000000",
          "1986-09-01T00:00:00.000000000",
          "1986-10-01T00:00:00.000000000",
          "1986-11-01T00:00:00.000000000",
          "1986-12-01T00:00:00.000000000",
          "1987-01-01T00:00:00.000000000",
          "1987-02-01T00:00:00.000000000",
          "1987-03-01T00:00:00.000000000",
          "1987-04-01T00:00:00.000000000",
          "1987-05-01T00:00:00.000000000",
          "1987-06-01T00:00:00.000000000",
          "1987-07-01T00:00:00.000000000",
          "1987-08-01T00:00:00.000000000",
          "1987-09-01T00:00:00.000000000",
          "1987-10-01T00:00:00.000000000",
          "1987-11-01T00:00:00.000000000",
          "1987-12-01T00:00:00.000000000",
          "1988-01-01T00:00:00.000000000",
          "1988-02-01T00:00:00.000000000",
          "1988-03-01T00:00:00.000000000",
          "1988-04-01T00:00:00.000000000",
          "1988-05-01T00:00:00.000000000",
          "1988-06-01T00:00:00.000000000",
          "1988-07-01T00:00:00.000000000",
          "1988-08-01T00:00:00.000000000",
          "1988-09-01T00:00:00.000000000",
          "1988-10-01T00:00:00.000000000",
          "1988-11-01T00:00:00.000000000",
          "1988-12-01T00:00:00.000000000",
          "1989-01-01T00:00:00.000000000",
          "1989-02-01T00:00:00.000000000",
          "1989-03-01T00:00:00.000000000",
          "1989-04-01T00:00:00.000000000",
          "1989-05-01T00:00:00.000000000",
          "1989-06-01T00:00:00.000000000",
          "1989-07-01T00:00:00.000000000",
          "1989-08-01T00:00:00.000000000",
          "1989-09-01T00:00:00.000000000",
          "1989-10-01T00:00:00.000000000",
          "1989-11-01T00:00:00.000000000",
          "1989-12-01T00:00:00.000000000",
          "1990-01-01T00:00:00.000000000",
          "1990-02-01T00:00:00.000000000",
          "1990-03-01T00:00:00.000000000",
          "1990-04-01T00:00:00.000000000",
          "1990-05-01T00:00:00.000000000",
          "1990-06-01T00:00:00.000000000",
          "1990-07-01T00:00:00.000000000",
          "1990-08-01T00:00:00.000000000",
          "1990-09-01T00:00:00.000000000",
          "1990-10-01T00:00:00.000000000",
          "1990-11-01T00:00:00.000000000",
          "1990-12-01T00:00:00.000000000",
          "1991-01-01T00:00:00.000000000",
          "1991-02-01T00:00:00.000000000",
          "1991-03-01T00:00:00.000000000",
          "1991-04-01T00:00:00.000000000",
          "1991-05-01T00:00:00.000000000",
          "1991-06-01T00:00:00.000000000",
          "1991-07-01T00:00:00.000000000",
          "1991-08-01T00:00:00.000000000",
          "1991-09-01T00:00:00.000000000",
          "1991-10-01T00:00:00.000000000",
          "1991-11-01T00:00:00.000000000",
          "1991-12-01T00:00:00.000000000",
          "1992-01-01T00:00:00.000000000",
          "1992-02-01T00:00:00.000000000",
          "1992-03-01T00:00:00.000000000",
          "1992-04-01T00:00:00.000000000",
          "1992-05-01T00:00:00.000000000",
          "1992-06-01T00:00:00.000000000",
          "1992-07-01T00:00:00.000000000",
          "1992-08-01T00:00:00.000000000",
          "1992-09-01T00:00:00.000000000",
          "1992-10-01T00:00:00.000000000",
          "1992-11-01T00:00:00.000000000",
          "1992-12-01T00:00:00.000000000",
          "1993-01-01T00:00:00.000000000",
          "1993-02-01T00:00:00.000000000",
          "1993-03-01T00:00:00.000000000",
          "1993-04-01T00:00:00.000000000",
          "1993-05-01T00:00:00.000000000",
          "1993-06-01T00:00:00.000000000",
          "1993-07-01T00:00:00.000000000",
          "1993-08-01T00:00:00.000000000",
          "1993-09-01T00:00:00.000000000",
          "1993-10-01T00:00:00.000000000",
          "1993-11-01T00:00:00.000000000",
          "1993-12-01T00:00:00.000000000",
          "1994-01-01T00:00:00.000000000",
          "1994-02-01T00:00:00.000000000",
          "1994-03-01T00:00:00.000000000",
          "1994-04-01T00:00:00.000000000",
          "1994-05-01T00:00:00.000000000",
          "1994-06-01T00:00:00.000000000",
          "1994-07-01T00:00:00.000000000",
          "1994-08-01T00:00:00.000000000",
          "1994-09-01T00:00:00.000000000",
          "1994-10-01T00:00:00.000000000",
          "1994-11-01T00:00:00.000000000",
          "1994-12-01T00:00:00.000000000",
          "1995-01-01T00:00:00.000000000",
          "1995-02-01T00:00:00.000000000",
          "1995-03-01T00:00:00.000000000",
          "1995-04-01T00:00:00.000000000",
          "1995-05-01T00:00:00.000000000",
          "1995-06-01T00:00:00.000000000",
          "1995-07-01T00:00:00.000000000",
          "1995-08-01T00:00:00.000000000",
          "1995-09-01T00:00:00.000000000",
          "1995-10-01T00:00:00.000000000",
          "1995-11-01T00:00:00.000000000",
          "1995-12-01T00:00:00.000000000",
          "1996-01-01T00:00:00.000000000",
          "1996-02-01T00:00:00.000000000",
          "1996-03-01T00:00:00.000000000",
          "1996-04-01T00:00:00.000000000",
          "1996-05-01T00:00:00.000000000",
          "1996-06-01T00:00:00.000000000",
          "1996-07-01T00:00:00.000000000",
          "1996-08-01T00:00:00.000000000",
          "1996-09-01T00:00:00.000000000",
          "1996-10-01T00:00:00.000000000",
          "1996-11-01T00:00:00.000000000",
          "1996-12-01T00:00:00.000000000",
          "1997-01-01T00:00:00.000000000",
          "1997-02-01T00:00:00.000000000",
          "1997-03-01T00:00:00.000000000",
          "1997-04-01T00:00:00.000000000",
          "1997-05-01T00:00:00.000000000",
          "1997-06-01T00:00:00.000000000",
          "1997-07-01T00:00:00.000000000",
          "1997-08-01T00:00:00.000000000",
          "1997-09-01T00:00:00.000000000",
          "1997-10-01T00:00:00.000000000",
          "1997-11-01T00:00:00.000000000",
          "1997-12-01T00:00:00.000000000",
          "1998-01-01T00:00:00.000000000",
          "1998-02-01T00:00:00.000000000",
          "1998-03-01T00:00:00.000000000",
          "1998-04-01T00:00:00.000000000",
          "1998-05-01T00:00:00.000000000",
          "1998-06-01T00:00:00.000000000",
          "1998-07-01T00:00:00.000000000",
          "1998-08-01T00:00:00.000000000",
          "1998-09-01T00:00:00.000000000",
          "1998-10-01T00:00:00.000000000",
          "1998-11-01T00:00:00.000000000",
          "1998-12-01T00:00:00.000000000",
          "1999-01-01T00:00:00.000000000",
          "1999-02-01T00:00:00.000000000",
          "1999-03-01T00:00:00.000000000",
          "1999-04-01T00:00:00.000000000",
          "1999-05-01T00:00:00.000000000",
          "1999-06-01T00:00:00.000000000",
          "1999-07-01T00:00:00.000000000",
          "1999-08-01T00:00:00.000000000",
          "1999-09-01T00:00:00.000000000",
          "1999-10-01T00:00:00.000000000",
          "1999-11-01T00:00:00.000000000",
          "1999-12-01T00:00:00.000000000",
          "2000-01-01T00:00:00.000000000",
          "2000-02-01T00:00:00.000000000",
          "2000-03-01T00:00:00.000000000",
          "2000-04-01T00:00:00.000000000",
          "2000-05-01T00:00:00.000000000",
          "2000-06-01T00:00:00.000000000",
          "2000-07-01T00:00:00.000000000",
          "2000-08-01T00:00:00.000000000",
          "2000-09-01T00:00:00.000000000",
          "2000-10-01T00:00:00.000000000",
          "2000-11-01T00:00:00.000000000",
          "2000-12-01T00:00:00.000000000",
          "2001-01-01T00:00:00.000000000",
          "2001-02-01T00:00:00.000000000",
          "2001-03-01T00:00:00.000000000",
          "2001-04-01T00:00:00.000000000",
          "2001-05-01T00:00:00.000000000",
          "2001-06-01T00:00:00.000000000",
          "2001-07-01T00:00:00.000000000",
          "2001-08-01T00:00:00.000000000",
          "2001-09-01T00:00:00.000000000",
          "2001-10-01T00:00:00.000000000",
          "2001-11-01T00:00:00.000000000",
          "2001-12-01T00:00:00.000000000",
          "2002-01-01T00:00:00.000000000",
          "2002-02-01T00:00:00.000000000",
          "2002-03-01T00:00:00.000000000",
          "2002-04-01T00:00:00.000000000",
          "2002-05-01T00:00:00.000000000",
          "2002-06-01T00:00:00.000000000",
          "2002-07-01T00:00:00.000000000",
          "2002-08-01T00:00:00.000000000",
          "2002-09-01T00:00:00.000000000",
          "2002-10-01T00:00:00.000000000",
          "2002-11-01T00:00:00.000000000",
          "2002-12-01T00:00:00.000000000",
          "2003-01-01T00:00:00.000000000",
          "2003-02-01T00:00:00.000000000",
          "2003-03-01T00:00:00.000000000",
          "2003-04-01T00:00:00.000000000",
          "2003-05-01T00:00:00.000000000",
          "2003-06-01T00:00:00.000000000",
          "2003-07-01T00:00:00.000000000",
          "2003-08-01T00:00:00.000000000",
          "2003-09-01T00:00:00.000000000",
          "2003-10-01T00:00:00.000000000",
          "2003-11-01T00:00:00.000000000",
          "2003-12-01T00:00:00.000000000",
          "2004-01-01T00:00:00.000000000",
          "2004-02-01T00:00:00.000000000",
          "2004-03-01T00:00:00.000000000",
          "2004-04-01T00:00:00.000000000",
          "2004-05-01T00:00:00.000000000",
          "2004-06-01T00:00:00.000000000",
          "2004-07-01T00:00:00.000000000",
          "2004-08-01T00:00:00.000000000",
          "2004-09-01T00:00:00.000000000",
          "2004-10-01T00:00:00.000000000",
          "2004-11-01T00:00:00.000000000",
          "2004-12-01T00:00:00.000000000",
          "2005-01-01T00:00:00.000000000",
          "2005-02-01T00:00:00.000000000",
          "2005-03-01T00:00:00.000000000",
          "2005-04-01T00:00:00.000000000",
          "2005-05-01T00:00:00.000000000",
          "2005-06-01T00:00:00.000000000",
          "2005-07-01T00:00:00.000000000",
          "2005-08-01T00:00:00.000000000",
          "2005-09-01T00:00:00.000000000",
          "2005-10-01T00:00:00.000000000",
          "2005-11-01T00:00:00.000000000",
          "2005-12-01T00:00:00.000000000",
          "2006-01-01T00:00:00.000000000",
          "2006-02-01T00:00:00.000000000",
          "2006-03-01T00:00:00.000000000",
          "2006-04-01T00:00:00.000000000",
          "2006-05-01T00:00:00.000000000",
          "2006-06-01T00:00:00.000000000",
          "2006-07-01T00:00:00.000000000",
          "2006-08-01T00:00:00.000000000",
          "2006-09-01T00:00:00.000000000",
          "2006-10-01T00:00:00.000000000",
          "2006-11-01T00:00:00.000000000",
          "2006-12-01T00:00:00.000000000",
          "2007-01-01T00:00:00.000000000",
          "2007-02-01T00:00:00.000000000",
          "2007-03-01T00:00:00.000000000",
          "2007-04-01T00:00:00.000000000",
          "2007-05-01T00:00:00.000000000",
          "2007-06-01T00:00:00.000000000",
          "2007-07-01T00:00:00.000000000",
          "2007-08-01T00:00:00.000000000",
          "2007-09-01T00:00:00.000000000",
          "2007-10-01T00:00:00.000000000",
          "2007-11-01T00:00:00.000000000",
          "2007-12-01T00:00:00.000000000",
          "2008-01-01T00:00:00.000000000",
          "2008-02-01T00:00:00.000000000",
          "2008-03-01T00:00:00.000000000",
          "2008-04-01T00:00:00.000000000",
          "2008-05-01T00:00:00.000000000",
          "2008-06-01T00:00:00.000000000",
          "2008-07-01T00:00:00.000000000",
          "2008-08-01T00:00:00.000000000",
          "2008-09-01T00:00:00.000000000",
          "2008-10-01T00:00:00.000000000",
          "2008-11-01T00:00:00.000000000",
          "2008-12-01T00:00:00.000000000",
          "2009-01-01T00:00:00.000000000",
          "2009-02-01T00:00:00.000000000",
          "2009-03-01T00:00:00.000000000",
          "2009-04-01T00:00:00.000000000",
          "2009-05-01T00:00:00.000000000",
          "2009-06-01T00:00:00.000000000",
          "2009-07-01T00:00:00.000000000",
          "2009-08-01T00:00:00.000000000",
          "2009-09-01T00:00:00.000000000",
          "2009-10-01T00:00:00.000000000",
          "2009-11-01T00:00:00.000000000",
          "2009-12-01T00:00:00.000000000",
          "2010-01-01T00:00:00.000000000",
          "2010-02-01T00:00:00.000000000",
          "2010-03-01T00:00:00.000000000",
          "2010-04-01T00:00:00.000000000",
          "2010-05-01T00:00:00.000000000",
          "2010-06-01T00:00:00.000000000",
          "2010-07-01T00:00:00.000000000",
          "2010-08-01T00:00:00.000000000",
          "2010-09-01T00:00:00.000000000",
          "2010-10-01T00:00:00.000000000",
          "2010-11-01T00:00:00.000000000",
          "2010-12-01T00:00:00.000000000",
          "2011-01-01T00:00:00.000000000",
          "2011-02-01T00:00:00.000000000",
          "2011-03-01T00:00:00.000000000",
          "2011-04-01T00:00:00.000000000",
          "2011-05-01T00:00:00.000000000",
          "2011-06-01T00:00:00.000000000",
          "2011-07-01T00:00:00.000000000",
          "2011-08-01T00:00:00.000000000",
          "2011-09-01T00:00:00.000000000",
          "2011-10-01T00:00:00.000000000",
          "2011-11-01T00:00:00.000000000",
          "2011-12-01T00:00:00.000000000",
          "2012-01-01T00:00:00.000000000",
          "2012-02-01T00:00:00.000000000",
          "2012-03-01T00:00:00.000000000",
          "2012-04-01T00:00:00.000000000",
          "2012-05-01T00:00:00.000000000",
          "2012-06-01T00:00:00.000000000",
          "2012-07-01T00:00:00.000000000",
          "2012-08-01T00:00:00.000000000",
          "2012-09-01T00:00:00.000000000",
          "2012-10-01T00:00:00.000000000",
          "2012-11-01T00:00:00.000000000",
          "2012-12-01T00:00:00.000000000",
          "2013-01-01T00:00:00.000000000",
          "2013-02-01T00:00:00.000000000",
          "2013-03-01T00:00:00.000000000",
          "2013-04-01T00:00:00.000000000",
          "2013-05-01T00:00:00.000000000",
          "2013-06-01T00:00:00.000000000",
          "2013-07-01T00:00:00.000000000",
          "2013-08-01T00:00:00.000000000",
          "2013-09-01T00:00:00.000000000",
          "2013-10-01T00:00:00.000000000",
          "2013-11-01T00:00:00.000000000",
          "2013-12-01T00:00:00.000000000",
          "2014-01-01T00:00:00.000000000",
          "2014-02-01T00:00:00.000000000",
          "2014-03-01T00:00:00.000000000",
          "2014-04-01T00:00:00.000000000",
          "2014-05-01T00:00:00.000000000",
          "2014-06-01T00:00:00.000000000",
          "2014-07-01T00:00:00.000000000",
          "2014-08-01T00:00:00.000000000",
          "2014-09-01T00:00:00.000000000",
          "2014-10-01T00:00:00.000000000",
          "2014-11-01T00:00:00.000000000",
          "2014-12-01T00:00:00.000000000",
          "2015-01-01T00:00:00.000000000",
          "2015-02-01T00:00:00.000000000",
          "2015-03-01T00:00:00.000000000",
          "2015-04-01T00:00:00.000000000",
          "2015-05-01T00:00:00.000000000",
          "2015-06-01T00:00:00.000000000",
          "2015-07-01T00:00:00.000000000",
          "2015-08-01T00:00:00.000000000",
          "2015-09-01T00:00:00.000000000",
          "2015-10-01T00:00:00.000000000",
          "2015-11-01T00:00:00.000000000",
          "2015-12-01T00:00:00.000000000",
          "2016-01-01T00:00:00.000000000",
          "2016-02-01T00:00:00.000000000",
          "2016-03-01T00:00:00.000000000",
          "2016-04-01T00:00:00.000000000",
          "2016-05-01T00:00:00.000000000",
          "2016-06-01T00:00:00.000000000",
          "2016-07-01T00:00:00.000000000",
          "2016-08-01T00:00:00.000000000",
          "2016-09-01T00:00:00.000000000",
          "2016-10-01T00:00:00.000000000",
          "2016-11-01T00:00:00.000000000",
          "2016-12-01T00:00:00.000000000",
          "2017-01-01T00:00:00.000000000",
          "2017-02-01T00:00:00.000000000",
          "2017-03-01T00:00:00.000000000",
          "2017-04-01T00:00:00.000000000",
          "2017-05-01T00:00:00.000000000",
          "2017-06-01T00:00:00.000000000",
          "2017-07-01T00:00:00.000000000",
          "2017-08-01T00:00:00.000000000",
          "2017-09-01T00:00:00.000000000",
          "2017-10-01T00:00:00.000000000",
          "2017-11-01T00:00:00.000000000",
          "2017-12-01T00:00:00.000000000",
          "2018-01-01T00:00:00.000000000",
          "2018-02-01T00:00:00.000000000",
          "2018-03-01T00:00:00.000000000",
          "2018-04-01T00:00:00.000000000",
          "2018-05-01T00:00:00.000000000",
          "2018-06-01T00:00:00.000000000",
          "2018-07-01T00:00:00.000000000",
          "2018-08-01T00:00:00.000000000",
          "2018-09-01T00:00:00.000000000",
          "2018-10-01T00:00:00.000000000",
          "2018-11-01T00:00:00.000000000",
          "2018-12-01T00:00:00.000000000",
          "2019-01-01T00:00:00.000000000",
          "2019-02-01T00:00:00.000000000",
          "2019-03-01T00:00:00.000000000",
          "2019-04-01T00:00:00.000000000",
          "2019-05-01T00:00:00.000000000",
          "2019-06-01T00:00:00.000000000",
          "2019-07-01T00:00:00.000000000",
          "2019-08-01T00:00:00.000000000",
          "2019-09-01T00:00:00.000000000",
          "2019-10-01T00:00:00.000000000",
          "2019-11-01T00:00:00.000000000",
          "2019-12-01T00:00:00.000000000",
          "2020-01-01T00:00:00.000000000",
          "2020-02-01T00:00:00.000000000",
          "2020-03-01T00:00:00.000000000",
          "2020-04-01T00:00:00.000000000",
          "2020-05-01T00:00:00.000000000",
          "2020-06-01T00:00:00.000000000",
          "2020-07-01T00:00:00.000000000",
          "2020-08-01T00:00:00.000000000",
          "2020-09-01T00:00:00.000000000",
          "2020-10-01T00:00:00.000000000",
          "2020-11-01T00:00:00.000000000",
          "2020-12-01T00:00:00.000000000",
          "2021-01-01T00:00:00.000000000",
          "2021-02-01T00:00:00.000000000",
          "2021-03-01T00:00:00.000000000",
          "2021-04-01T00:00:00.000000000",
          "2021-05-01T00:00:00.000000000",
          "2021-06-01T00:00:00.000000000",
          "2021-07-01T00:00:00.000000000",
          "2021-08-01T00:00:00.000000000",
          "2021-09-01T00:00:00.000000000",
          "2021-10-01T00:00:00.000000000",
          "2021-11-01T00:00:00.000000000",
          "2021-12-01T00:00:00.000000000",
          "2022-01-01T00:00:00.000000000",
          "2022-02-01T00:00:00.000000000",
          "2022-03-01T00:00:00.000000000",
          "2022-04-01T00:00:00.000000000",
          "2022-05-01T00:00:00.000000000",
          "2022-06-01T00:00:00.000000000",
          "2022-07-01T00:00:00.000000000",
          "2022-08-01T00:00:00.000000000",
          "2022-09-01T00:00:00.000000000",
          "2022-10-01T00:00:00.000000000",
          "2022-11-01T00:00:00.000000000",
          "2022-12-01T00:00:00.000000000",
          "2023-01-01T00:00:00.000000000",
          "2023-02-01T00:00:00.000000000",
          "2023-03-01T00:00:00.000000000",
          "2023-04-01T00:00:00.000000000",
          "2023-05-01T00:00:00.000000000",
          "2023-06-01T00:00:00.000000000",
          "2023-07-01T00:00:00.000000000",
          "2023-08-01T00:00:00.000000000",
          "2023-09-01T00:00:00.000000000",
          "2023-10-01T00:00:00.000000000",
          "2023-11-01T00:00:00.000000000",
          "2023-12-01T00:00:00.000000000",
          "2024-01-01T00:00:00.000000000",
          "2024-02-01T00:00:00.000000000",
          "2024-03-01T00:00:00.000000000",
          "2024-04-01T00:00:00.000000000",
          "2024-05-01T00:00:00.000000000",
          "2024-06-01T00:00:00.000000000",
          "2024-07-01T00:00:00.000000000",
          "2024-08-01T00:00:00.000000000",
          "2024-09-01T00:00:00.000000000",
          "2024-10-01T00:00:00.000000000",
          "2024-11-01T00:00:00.000000000",
          "2024-12-01T00:00:00.000000000",
          "2025-01-01T00:00:00.000000000",
          "2025-02-01T00:00:00.000000000"
         ],
         "xaxis": "x",
         "y": {
          "bdata": "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",
          "dtype": "f8"
         },
         "yaxis": "y"
        }
       ],
       "layout": {
        "annotations": [
         {
          "align": "left",
          "bgcolor": "rgba(255, 255, 255, 0.8)",
          "bordercolor": "black",
          "borderwidth": 1,
          "font": {
           "size": 10
          },
          "showarrow": false,
          "text": "Source: Trading Economics<br>Original Source: Westpac Banking Corporation, Melbourne Institute<br>Frequency: MS<br>",
          "x": 0,
          "xanchor": "left",
          "xref": "paper",
          "y": -0.2,
          "yanchor": "bottom",
          "yref": "paper"
         }
        ],
        "legend": {
         "orientation": "h",
         "title": {
          "text": ""
         },
         "tracegroupgap": 0,
         "x": 0.5,
         "xanchor": "center",
         "y": -0.2,
         "yanchor": "bottom"
        },
        "margin": {
         "t": 60
        },
        "template": {
         "data": {
          "bar": [
           {
            "error_x": {
             "color": "#2a3f5f"
            },
            "error_y": {
             "color": "#2a3f5f"
            },
            "marker": {
             "line": {
              "color": "#E5ECF6",
              "width": 0.5
             },
             "pattern": {
              "fillmode": "overlay",
              "size": 10,
              "solidity": 0.2
             }
            },
            "type": "bar"
           }
          ],
          "barpolar": [
           {
            "marker": {
             "line": {
              "color": "#E5ECF6",
              "width": 0.5
             },
             "pattern": {
              "fillmode": "overlay",
              "size": 10,
              "solidity": 0.2
             }
            },
            "type": "barpolar"
           }
          ],
          "carpet": [
           {
            "aaxis": {
             "endlinecolor": "#2a3f5f",
             "gridcolor": "white",
             "linecolor": "white",
             "minorgridcolor": "white",
             "startlinecolor": "#2a3f5f"
            },
            "baxis": {
             "endlinecolor": "#2a3f5f",
             "gridcolor": "white",
             "linecolor": "white",
             "minorgridcolor": "white",
             "startlinecolor": "#2a3f5f"
            },
            "type": "carpet"
           }
          ],
          "choropleth": [
           {
            "colorbar": {
             "outlinewidth": 0,
             "ticks": ""
            },
            "type": "choropleth"
           }
          ],
          "contour": [
           {
            "colorbar": {
             "outlinewidth": 0,
             "ticks": ""
            },
            "colorscale": [
             [
              0,
              "#0d0887"
             ],
             [
              0.1111111111111111,
              "#46039f"
             ],
             [
              0.2222222222222222,
              "#7201a8"
             ],
             [
              0.3333333333333333,
              "#9c179e"
             ],
             [
              0.4444444444444444,
              "#bd3786"
             ],
             [
              0.5555555555555556,
              "#d8576b"
             ],
             [
              0.6666666666666666,
              "#ed7953"
             ],
             [
              0.7777777777777778,
              "#fb9f3a"
             ],
             [
              0.8888888888888888,
              "#fdca26"
             ],
             [
              1,
              "#f0f921"
             ]
            ],
            "type": "contour"
           }
          ],
          "contourcarpet": [
           {
            "colorbar": {
             "outlinewidth": 0,
             "ticks": ""
            },
            "type": "contourcarpet"
           }
          ],
          "heatmap": [
           {
            "colorbar": {
             "outlinewidth": 0,
             "ticks": ""
            },
            "colorscale": [
             [
              0,
              "#0d0887"
             ],
             [
              0.1111111111111111,
              "#46039f"
             ],
             [
              0.2222222222222222,
              "#7201a8"
             ],
             [
              0.3333333333333333,
              "#9c179e"
             ],
             [
              0.4444444444444444,
              "#bd3786"
             ],
             [
              0.5555555555555556,
              "#d8576b"
             ],
             [
              0.6666666666666666,
              "#ed7953"
             ],
             [
              0.7777777777777778,
              "#fb9f3a"
             ],
             [
              0.8888888888888888,
              "#fdca26"
             ],
             [
              1,
              "#f0f921"
             ]
            ],
            "type": "heatmap"
           }
          ],
          "histogram": [
           {
            "marker": {
             "pattern": {
              "fillmode": "overlay",
              "size": 10,
              "solidity": 0.2
             }
            },
            "type": "histogram"
           }
          ],
          "histogram2d": [
           {
            "colorbar": {
             "outlinewidth": 0,
             "ticks": ""
            },
            "colorscale": [
             [
              0,
              "#0d0887"
             ],
             [
              0.1111111111111111,
              "#46039f"
             ],
             [
              0.2222222222222222,
              "#7201a8"
             ],
             [
              0.3333333333333333,
              "#9c179e"
             ],
             [
              0.4444444444444444,
              "#bd3786"
             ],
             [
              0.5555555555555556,
              "#d8576b"
             ],
             [
              0.6666666666666666,
              "#ed7953"
             ],
             [
              0.7777777777777778,
              "#fb9f3a"
             ],
             [
              0.8888888888888888,
              "#fdca26"
             ],
             [
              1,
              "#f0f921"
             ]
            ],
            "type": "histogram2d"
           }
          ],
          "histogram2dcontour": [
           {
            "colorbar": {
             "outlinewidth": 0,
             "ticks": ""
            },
            "colorscale": [
             [
              0,
              "#0d0887"
             ],
             [
              0.1111111111111111,
              "#46039f"
             ],
             [
              0.2222222222222222,
              "#7201a8"
             ],
             [
              0.3333333333333333,
              "#9c179e"
             ],
             [
              0.4444444444444444,
              "#bd3786"
             ],
             [
              0.5555555555555556,
              "#d8576b"
             ],
             [
              0.6666666666666666,
              "#ed7953"
             ],
             [
              0.7777777777777778,
              "#fb9f3a"
             ],
             [
              0.8888888888888888,
              "#fdca26"
             ],
             [
              1,
              "#f0f921"
             ]
            ],
            "type": "histogram2dcontour"
           }
          ],
          "mesh3d": [
           {
            "colorbar": {
             "outlinewidth": 0,
             "ticks": ""
            },
            "type": "mesh3d"
           }
          ],
          "parcoords": [
           {
            "line": {
             "colorbar": {
              "outlinewidth": 0,
              "ticks": ""
             }
            },
            "type": "parcoords"
           }
          ],
          "pie": [
           {
            "automargin": true,
            "type": "pie"
           }
          ],
          "scatter": [
           {
            "fillpattern": {
             "fillmode": "overlay",
             "size": 10,
             "solidity": 0.2
            },
            "type": "scatter"
           }
          ],
          "scatter3d": [
           {
            "line": {
             "colorbar": {
              "outlinewidth": 0,
              "ticks": ""
             }
            },
            "marker": {
             "colorbar": {
              "outlinewidth": 0,
              "ticks": ""
             }
            },
            "type": "scatter3d"
           }
          ],
          "scattercarpet": [
           {
            "marker": {
             "colorbar": {
              "outlinewidth": 0,
              "ticks": ""
             }
            },
            "type": "scattercarpet"
           }
          ],
          "scattergeo": [
           {
            "marker": {
             "colorbar": {
              "outlinewidth": 0,
              "ticks": ""
             }
            },
            "type": "scattergeo"
           }
          ],
          "scattergl": [
           {
            "marker": {
             "colorbar": {
              "outlinewidth": 0,
              "ticks": ""
             }
            },
            "type": "scattergl"
           }
          ],
          "scattermap": [
           {
            "marker": {
             "colorbar": {
              "outlinewidth": 0,
              "ticks": ""
             }
            },
            "type": "scattermap"
           }
          ],
          "scattermapbox": [
           {
            "marker": {
             "colorbar": {
              "outlinewidth": 0,
              "ticks": ""
             }
            },
            "type": "scattermapbox"
           }
          ],
          "scatterpolar": [
           {
            "marker": {
             "colorbar": {
              "outlinewidth": 0,
              "ticks": ""
             }
            },
            "type": "scatterpolar"
           }
          ],
          "scatterpolargl": [
           {
            "marker": {
             "colorbar": {
              "outlinewidth": 0,
              "ticks": ""
             }
            },
            "type": "scatterpolargl"
           }
          ],
          "scatterternary": [
           {
            "marker": {
             "colorbar": {
              "outlinewidth": 0,
              "ticks": ""
             }
            },
            "type": "scatterternary"
           }
          ],
          "surface": [
           {
            "colorbar": {
             "outlinewidth": 0,
             "ticks": ""
            },
            "colorscale": [
             [
              0,
              "#0d0887"
             ],
             [
              0.1111111111111111,
              "#46039f"
             ],
             [
              0.2222222222222222,
              "#7201a8"
             ],
             [
              0.3333333333333333,
              "#9c179e"
             ],
             [
              0.4444444444444444,
              "#bd3786"
             ],
             [
              0.5555555555555556,
              "#d8576b"
             ],
             [
              0.6666666666666666,
              "#ed7953"
             ],
             [
              0.7777777777777778,
              "#fb9f3a"
             ],
             [
              0.8888888888888888,
              "#fdca26"
             ],
             [
              1,
              "#f0f921"
             ]
            ],
            "type": "surface"
           }
          ],
          "table": [
           {
            "cells": {
             "fill": {
              "color": "#EBF0F8"
             },
             "line": {
              "color": "white"
             }
            },
            "header": {
             "fill": {
              "color": "#C8D4E3"
             },
             "line": {
              "color": "white"
             }
            },
            "type": "table"
           }
          ]
         },
         "layout": {
          "annotationdefaults": {
           "arrowcolor": "#2a3f5f",
           "arrowhead": 0,
           "arrowwidth": 1
          },
          "autotypenumbers": "strict",
          "coloraxis": {
           "colorbar": {
            "outlinewidth": 0,
            "ticks": ""
           }
          },
          "colorscale": {
           "diverging": [
            [
             0,
             "#8e0152"
            ],
            [
             0.1,
             "#c51b7d"
            ],
            [
             0.2,
             "#de77ae"
            ],
            [
             0.3,
             "#f1b6da"
            ],
            [
             0.4,
             "#fde0ef"
            ],
            [
             0.5,
             "#f7f7f7"
            ],
            [
             0.6,
             "#e6f5d0"
            ],
            [
             0.7,
             "#b8e186"
            ],
            [
             0.8,
             "#7fbc41"
            ],
            [
             0.9,
             "#4d9221"
            ],
            [
             1,
             "#276419"
            ]
           ],
           "sequential": [
            [
             0,
             "#0d0887"
            ],
            [
             0.1111111111111111,
             "#46039f"
            ],
            [
             0.2222222222222222,
             "#7201a8"
            ],
            [
             0.3333333333333333,
             "#9c179e"
            ],
            [
             0.4444444444444444,
             "#bd3786"
            ],
            [
             0.5555555555555556,
             "#d8576b"
            ],
            [
             0.6666666666666666,
             "#ed7953"
            ],
            [
             0.7777777777777778,
             "#fb9f3a"
            ],
            [
             0.8888888888888888,
             "#fdca26"
            ],
            [
             1,
             "#f0f921"
            ]
           ],
           "sequentialminus": [
            [
             0,
             "#0d0887"
            ],
            [
             0.1111111111111111,
             "#46039f"
            ],
            [
             0.2222222222222222,
             "#7201a8"
            ],
            [
             0.3333333333333333,
             "#9c179e"
            ],
            [
             0.4444444444444444,
             "#bd3786"
            ],
            [
             0.5555555555555556,
             "#d8576b"
            ],
            [
             0.6666666666666666,
             "#ed7953"
            ],
            [
             0.7777777777777778,
             "#fb9f3a"
            ],
            [
             0.8888888888888888,
             "#fdca26"
            ],
            [
             1,
             "#f0f921"
            ]
           ]
          },
          "colorway": [
           "#636efa",
           "#EF553B",
           "#00cc96",
           "#ab63fa",
           "#FFA15A",
           "#19d3f3",
           "#FF6692",
           "#B6E880",
           "#FF97FF",
           "#FECB52"
          ],
          "font": {
           "color": "#2a3f5f"
          },
          "geo": {
           "bgcolor": "white",
           "lakecolor": "white",
           "landcolor": "#E5ECF6",
           "showlakes": true,
           "showland": true,
           "subunitcolor": "white"
          },
          "hoverlabel": {
           "align": "left"
          },
          "hovermode": "closest",
          "mapbox": {
           "style": "light"
          },
          "paper_bgcolor": "white",
          "plot_bgcolor": "#E5ECF6",
          "polar": {
           "angularaxis": {
            "gridcolor": "white",
            "linecolor": "white",
            "ticks": ""
           },
           "bgcolor": "#E5ECF6",
           "radialaxis": {
            "gridcolor": "white",
            "linecolor": "white",
            "ticks": ""
           }
          },
          "scene": {
           "xaxis": {
            "backgroundcolor": "#E5ECF6",
            "gridcolor": "white",
            "gridwidth": 2,
            "linecolor": "white",
            "showbackground": true,
            "ticks": "",
            "zerolinecolor": "white"
           },
           "yaxis": {
            "backgroundcolor": "#E5ECF6",
            "gridcolor": "white",
            "gridwidth": 2,
            "linecolor": "white",
            "showbackground": true,
            "ticks": "",
            "zerolinecolor": "white"
           },
           "zaxis": {
            "backgroundcolor": "#E5ECF6",
            "gridcolor": "white",
            "gridwidth": 2,
            "linecolor": "white",
            "showbackground": true,
            "ticks": "",
            "zerolinecolor": "white"
           }
          },
          "shapedefaults": {
           "line": {
            "color": "#2a3f5f"
           }
          },
          "ternary": {
           "aaxis": {
            "gridcolor": "white",
            "linecolor": "white",
            "ticks": ""
           },
           "baxis": {
            "gridcolor": "white",
            "linecolor": "white",
            "ticks": ""
           },
           "bgcolor": "#E5ECF6",
           "caxis": {
            "gridcolor": "white",
            "linecolor": "white",
            "ticks": ""
           }
          },
          "title": {
           "x": 0.05
          },
          "xaxis": {
           "automargin": true,
           "gridcolor": "white",
           "linecolor": "white",
           "ticks": "",
           "title": {
            "standoff": 15
           },
           "zerolinecolor": "white",
           "zerolinewidth": 2
          },
          "yaxis": {
           "automargin": true,
           "gridcolor": "white",
           "linecolor": "white",
           "ticks": "",
           "title": {
            "standoff": 15
           },
           "zerolinecolor": "white",
           "zerolinewidth": 2
          }
         }
        },
        "title": {
         "text": "Australia: Australia consumer confidence"
        },
        "xaxis": {
         "anchor": "y",
         "domain": [
          0,
          1
         ],
         "title": {
          "text": ""
         }
        },
        "yaxis": {
         "anchor": "x",
         "domain": [
          0,
          1
         ],
         "title": {
          "text": "Points"
         }
        }
       }
      }
     },
     "metadata": {},
     "output_type": "display_data"
    }
   ],
   "source": [
    "scraped.plot_series()   #Plotting the series"
   ]
  },
  {
   "cell_type": "markdown",
   "metadata": {},
   "source": [
    "# Method #3: Debug method - manually run through the steps.\n",
    "\n",
    "If you get an error on trying load_page method, something like the examples below: \n",
    "- Error loading page: Message: Failed to decode response from marionette\n",
    "- Error loading page: Message: Tried to run command without establishing a connection\n",
    "\n",
    "You need to start a new webdriver instance. Reinitilize your TE_Scraper object and set: ```use_existing_driver = False```"
   ]
  },
  {
   "cell_type": "code",
   "execution_count": 2,
   "metadata": {},
   "outputs": [
    {
     "name": "stderr",
     "output_type": "stream",
     "text": [
      "INFO - New firefox webdriver created.\n"
     ]
    }
   ],
   "source": [
    "scr = ted.TE_Scraper(use_existing_driver=False, headless = False)  ## Initialize a new TE_scraper object."
   ]
  },
  {
   "cell_type": "code",
   "execution_count": 22,
   "metadata": {},
   "outputs": [
    {
     "name": "stderr",
     "output_type": "stream",
     "text": [
      "INFO - Chart types dictionary created successfully: dict_keys(['Column', 'Spline', 'Areaspline', 'Stepline', 'Line', 'Area'])\n",
      "INFO - Date span set to: 1Y\n"
     ]
    },
    {
     "data": {
      "text/plain": [
       "True"
      ]
     },
     "execution_count": 22,
     "metadata": {},
     "output_type": "execute_result"
    }
   ],
   "source": [
    "scr.load_page('https://tradingeconomics.com/united-states/personal-income', extra_wait_time=4) ## Load a new page containing chart. Use higher extra_wait_time if it fails.\n",
    "#\"https://tradingeconomics.com/united-states/personal-income\" https://tradingeconomics.com/united-states/manufacturing-pmi"
   ]
  },
  {
   "cell_type": "code",
   "execution_count": 14,
   "metadata": {},
   "outputs": [
    {
     "name": "stderr",
     "output_type": "stream",
     "text": [
      "INFO - \n",
      "Series metadata: \n",
      " {'units': '%', 'original_source': 'U.S. Bureau of Economic Analysis', 'title': 'United States Personal Income', 'indicator': 'personal income', 'country': 'united states', 'source': 'Trading Economics', 'id': 'united-states/personal-income'}\n"
     ]
    }
   ],
   "source": [
    "scr.scrape_metadata() ## Scrape the metadata for the data series from the page."
   ]
  },
  {
   "cell_type": "code",
   "execution_count": 16,
   "metadata": {},
   "outputs": [
    {
     "name": "stdout",
     "output_type": "stream",
     "text": [
      "Using selenium and tooltip scraping to construct the date time index for the time-series, this'll take a bit...\n"
     ]
    },
    {
     "name": "stderr",
     "output_type": "stream",
     "text": [
      "INFO - Date span set to: 1Y\n",
      "INFO - Chart type set to: Spline\n",
      "INFO - Time taken to select chart type: 1.6442587999626994\n",
      "INFO - Time taken to execute JS code: 2.994860500097275\n"
     ]
    },
    {
     "name": "stdout",
     "output_type": "stream",
     "text": [
      "Latest dates:  ['Jan 2025', 'Dec 2024', 'Nov 2024', 'Oct 2024', 'Sep 2024', 'Aug 2024', 'Jul 2024', 'Jun 2024', 'May 2024', 'Apr 2024']\n",
      "Frequency of time-series:  MS\n",
      "get_xlims_from_tooltips method: date_span:  1Y , chart_type: splineChart\n"
     ]
    },
    {
     "name": "stderr",
     "output_type": "stream",
     "text": [
      "INFO - Chart type set to: Spline\n"
     ]
    },
    {
     "name": "stdout",
     "output_type": "stream",
     "text": [
      "Got chart dimensions and plot background element.\n"
     ]
    },
    {
     "name": "stderr",
     "output_type": "stream",
     "text": [
      "INFO - Start and end values scraped from tooltips: \n",
      "{'start_date': Timestamp('1959-02-01 00:00:00'), 'start_value': 0.5, 'unit_str': '%', 'end_date': Timestamp('2025-01-01 00:00:00'), 'end_value': 0.9}\n",
      "INFO - DateTimeIndex created successfully for the time-series.\n"
     ]
    },
    {
     "name": "stdout",
     "output_type": "stream",
     "text": [
      "Start and end dates scraped from tooltips:  {'start_date': Timestamp('1959-02-01 00:00:00'), 'start_value': 0.5, 'unit_str': '%', 'end_date': Timestamp('2025-01-01 00:00:00'), 'end_value': 0.9}\n"
     ]
    },
    {
     "data": {
      "text/plain": [
       "DatetimeIndex(['1959-02-01', '1959-03-01', '1959-04-01', '1959-05-01',\n",
       "               '1959-06-01', '1959-07-01', '1959-08-01', '1959-09-01',\n",
       "               '1959-10-01', '1959-11-01',\n",
       "               ...\n",
       "               '2024-04-01', '2024-05-01', '2024-06-01', '2024-07-01',\n",
       "               '2024-08-01', '2024-09-01', '2024-10-01', '2024-11-01',\n",
       "               '2024-12-01', '2025-01-01'],\n",
       "              dtype='datetime64[ns]', length=792, freq='MS')"
      ]
     },
     "execution_count": 16,
     "metadata": {},
     "output_type": "execute_result"
    }
   ],
   "source": [
    "scr.make_x_index(force_rerun_freqdet=True, force_rerun_xlims=True) ## Create the x_index for the series first."
   ]
  },
  {
   "cell_type": "code",
   "execution_count": 17,
   "metadata": {},
   "outputs": [
    {
     "name": "stderr",
     "output_type": "stream",
     "text": [
      "INFO - Y-axis values scraped successfully.\n"
     ]
    },
    {
     "name": "stdout",
     "output_type": "stream",
     "text": [
      "y_heights:  [335.5, 320.5, 269.5, 217.5, 165.5, 114.5, 62.5, 39.5]\n",
      "pixheights:  [335.5, 320.5, 269.5, 217.5, 165.5, 114.5, 62.5, 39.5]\n"
     ]
    },
    {
     "data": {
      "text/plain": [
       "pixheight\n",
       "335.5   -16.0\n",
       "320.5   -14.0\n",
       "269.5    -7.0\n",
       "217.5     0.0\n",
       "165.5     7.0\n",
       "114.5    14.0\n",
       "62.5     21.0\n",
       "39.5     24.0\n",
       "Name: ytick_label, dtype: float64"
      ]
     },
     "execution_count": 17,
     "metadata": {},
     "output_type": "execute_result"
    }
   ],
   "source": [
    "scr.get_y_axis(set_global_y_axis=True)   ## Get the y-axis tick positions (pixel co-ordinates) and values, will set the global y-axis attribute since date_span is set to MAX."
   ]
  },
  {
   "cell_type": "code",
   "execution_count": 18,
   "metadata": {},
   "outputs": [
    {
     "name": "stderr",
     "output_type": "stream",
     "text": [
      "INFO - Series path extraction method: Extracting series data from chart soup.\n",
      "INFO - Date span: MAX. Chart type: splineChart, URL: https://tradingeconomics.com/united-states/personal-income.\n"
     ]
    },
    {
     "data": {
      "text/plain": [
       "0.000000      213.3125\n",
       "0.000000      213.3125\n",
       "0.468915      212.3975\n",
       "0.781525      211.8375\n",
       "1.127629      211.2175\n",
       "                ...   \n",
       "670.799801    214.7875\n",
       "671.134740    214.0500\n",
       "671.480844    213.3125\n",
       "672.000000    210.3625\n",
       "672.000000    210.3625\n",
       "Name: Extracted Series, Length: 2374, dtype: float64"
      ]
     },
     "execution_count": 18,
     "metadata": {},
     "output_type": "execute_result"
    }
   ],
   "source": [
    "scr.series_from_chart_soup(set_max_datespan=True) ## Get the full series from the path element of the data trace on the svg chart.\n",
    "scr.series"
   ]
  },
  {
   "cell_type": "code",
   "execution_count": 19,
   "metadata": {},
   "outputs": [
    {
     "name": "stderr",
     "output_type": "stream",
     "text": [
      "INFO - DateTimeIndex applied to series, series attribute updated.\n"
     ]
    }
   ],
   "source": [
    "scr.apply_x_index()  ## Apply the x-axis index to the series."
   ]
  },
  {
   "cell_type": "code",
   "execution_count": null,
   "metadata": {},
   "outputs": [],
   "source": [
    "scr.series"
   ]
  },
  {
   "cell_type": "markdown",
   "metadata": {},
   "source": [
    "At this point the value in the data-series are still the pixel co-ordinates in the svg image of the chart."
   ]
  },
  {
   "cell_type": "code",
   "execution_count": null,
   "metadata": {},
   "outputs": [
    {
     "data": {
      "application/vnd.plotly.v1+json": {
       "config": {
        "plotlyServerURL": "https://plot.ly"
       },
       "data": [
        {
         "hovertemplate": "variable=personal income<br>index=%{x}<br>value=%{y}<extra></extra>",
         "legendgroup": "personal income",
         "line": {
          "color": "#636efa",
          "dash": "solid"
         },
         "marker": {
          "symbol": "circle"
         },
         "mode": "lines",
         "name": "personal income",
         "orientation": "v",
         "showlegend": true,
         "type": "scatter",
         "x": [
          "1959-02-01T00:00:00.000000000",
          "1959-03-01T00:00:00.000000000",
          "1959-04-01T00:00:00.000000000",
          "1959-05-01T00:00:00.000000000",
          "1959-06-01T00:00:00.000000000",
          "1959-07-01T00:00:00.000000000",
          "1959-08-01T00:00:00.000000000",
          "1959-09-01T00:00:00.000000000",
          "1959-10-01T00:00:00.000000000",
          "1959-11-01T00:00:00.000000000",
          "1959-12-01T00:00:00.000000000",
          "1960-01-01T00:00:00.000000000",
          "1960-02-01T00:00:00.000000000",
          "1960-03-01T00:00:00.000000000",
          "1960-04-01T00:00:00.000000000",
          "1960-05-01T00:00:00.000000000",
          "1960-06-01T00:00:00.000000000",
          "1960-07-01T00:00:00.000000000",
          "1960-08-01T00:00:00.000000000",
          "1960-09-01T00:00:00.000000000",
          "1960-10-01T00:00:00.000000000",
          "1960-11-01T00:00:00.000000000",
          "1960-12-01T00:00:00.000000000",
          "1961-01-01T00:00:00.000000000",
          "1961-02-01T00:00:00.000000000",
          "1961-03-01T00:00:00.000000000",
          "1961-04-01T00:00:00.000000000",
          "1961-05-01T00:00:00.000000000",
          "1961-06-01T00:00:00.000000000",
          "1961-07-01T00:00:00.000000000",
          "1961-08-01T00:00:00.000000000",
          "1961-09-01T00:00:00.000000000",
          "1961-10-01T00:00:00.000000000",
          "1961-11-01T00:00:00.000000000",
          "1961-12-01T00:00:00.000000000",
          "1962-01-01T00:00:00.000000000",
          "1962-02-01T00:00:00.000000000",
          "1962-03-01T00:00:00.000000000",
          "1962-04-01T00:00:00.000000000",
          "1962-05-01T00:00:00.000000000",
          "1962-06-01T00:00:00.000000000",
          "1962-07-01T00:00:00.000000000",
          "1962-08-01T00:00:00.000000000",
          "1962-09-01T00:00:00.000000000",
          "1962-10-01T00:00:00.000000000",
          "1962-11-01T00:00:00.000000000",
          "1962-12-01T00:00:00.000000000",
          "1963-01-01T00:00:00.000000000",
          "1963-02-01T00:00:00.000000000",
          "1963-03-01T00:00:00.000000000",
          "1963-04-01T00:00:00.000000000",
          "1963-05-01T00:00:00.000000000",
          "1963-06-01T00:00:00.000000000",
          "1963-07-01T00:00:00.000000000",
          "1963-08-01T00:00:00.000000000",
          "1963-09-01T00:00:00.000000000",
          "1963-10-01T00:00:00.000000000",
          "1963-11-01T00:00:00.000000000",
          "1963-12-01T00:00:00.000000000",
          "1964-01-01T00:00:00.000000000",
          "1964-02-01T00:00:00.000000000",
          "1964-03-01T00:00:00.000000000",
          "1964-04-01T00:00:00.000000000",
          "1964-05-01T00:00:00.000000000",
          "1964-06-01T00:00:00.000000000",
          "1964-07-01T00:00:00.000000000",
          "1964-08-01T00:00:00.000000000",
          "1964-09-01T00:00:00.000000000",
          "1964-10-01T00:00:00.000000000",
          "1964-11-01T00:00:00.000000000",
          "1964-12-01T00:00:00.000000000",
          "1965-01-01T00:00:00.000000000",
          "1965-02-01T00:00:00.000000000",
          "1965-03-01T00:00:00.000000000",
          "1965-04-01T00:00:00.000000000",
          "1965-05-01T00:00:00.000000000",
          "1965-06-01T00:00:00.000000000",
          "1965-07-01T00:00:00.000000000",
          "1965-08-01T00:00:00.000000000",
          "1965-09-01T00:00:00.000000000",
          "1965-10-01T00:00:00.000000000",
          "1965-11-01T00:00:00.000000000",
          "1965-12-01T00:00:00.000000000",
          "1966-01-01T00:00:00.000000000",
          "1966-02-01T00:00:00.000000000",
          "1966-03-01T00:00:00.000000000",
          "1966-04-01T00:00:00.000000000",
          "1966-05-01T00:00:00.000000000",
          "1966-06-01T00:00:00.000000000",
          "1966-07-01T00:00:00.000000000",
          "1966-08-01T00:00:00.000000000",
          "1966-09-01T00:00:00.000000000",
          "1966-10-01T00:00:00.000000000",
          "1966-11-01T00:00:00.000000000",
          "1966-12-01T00:00:00.000000000",
          "1967-01-01T00:00:00.000000000",
          "1967-02-01T00:00:00.000000000",
          "1967-03-01T00:00:00.000000000",
          "1967-04-01T00:00:00.000000000",
          "1967-05-01T00:00:00.000000000",
          "1967-06-01T00:00:00.000000000",
          "1967-07-01T00:00:00.000000000",
          "1967-08-01T00:00:00.000000000",
          "1967-09-01T00:00:00.000000000",
          "1967-10-01T00:00:00.000000000",
          "1967-11-01T00:00:00.000000000",
          "1967-12-01T00:00:00.000000000",
          "1968-01-01T00:00:00.000000000",
          "1968-02-01T00:00:00.000000000",
          "1968-03-01T00:00:00.000000000",
          "1968-04-01T00:00:00.000000000",
          "1968-05-01T00:00:00.000000000",
          "1968-06-01T00:00:00.000000000",
          "1968-07-01T00:00:00.000000000",
          "1968-08-01T00:00:00.000000000",
          "1968-09-01T00:00:00.000000000",
          "1968-10-01T00:00:00.000000000",
          "1968-11-01T00:00:00.000000000",
          "1968-12-01T00:00:00.000000000",
          "1969-01-01T00:00:00.000000000",
          "1969-02-01T00:00:00.000000000",
          "1969-03-01T00:00:00.000000000",
          "1969-04-01T00:00:00.000000000",
          "1969-05-01T00:00:00.000000000",
          "1969-06-01T00:00:00.000000000",
          "1969-07-01T00:00:00.000000000",
          "1969-08-01T00:00:00.000000000",
          "1969-09-01T00:00:00.000000000",
          "1969-10-01T00:00:00.000000000",
          "1969-11-01T00:00:00.000000000",
          "1969-12-01T00:00:00.000000000",
          "1970-01-01T00:00:00.000000000",
          "1970-02-01T00:00:00.000000000",
          "1970-03-01T00:00:00.000000000",
          "1970-04-01T00:00:00.000000000",
          "1970-05-01T00:00:00.000000000",
          "1970-06-01T00:00:00.000000000",
          "1970-07-01T00:00:00.000000000",
          "1970-08-01T00:00:00.000000000",
          "1970-09-01T00:00:00.000000000",
          "1970-10-01T00:00:00.000000000",
          "1970-11-01T00:00:00.000000000",
          "1970-12-01T00:00:00.000000000",
          "1971-01-01T00:00:00.000000000",
          "1971-02-01T00:00:00.000000000",
          "1971-03-01T00:00:00.000000000",
          "1971-04-01T00:00:00.000000000",
          "1971-05-01T00:00:00.000000000",
          "1971-06-01T00:00:00.000000000",
          "1971-07-01T00:00:00.000000000",
          "1971-08-01T00:00:00.000000000",
          "1971-09-01T00:00:00.000000000",
          "1971-10-01T00:00:00.000000000",
          "1971-11-01T00:00:00.000000000",
          "1971-12-01T00:00:00.000000000",
          "1972-01-01T00:00:00.000000000",
          "1972-02-01T00:00:00.000000000",
          "1972-03-01T00:00:00.000000000",
          "1972-04-01T00:00:00.000000000",
          "1972-05-01T00:00:00.000000000",
          "1972-06-01T00:00:00.000000000",
          "1972-07-01T00:00:00.000000000",
          "1972-08-01T00:00:00.000000000",
          "1972-09-01T00:00:00.000000000",
          "1972-10-01T00:00:00.000000000",
          "1972-11-01T00:00:00.000000000",
          "1972-12-01T00:00:00.000000000",
          "1973-01-01T00:00:00.000000000",
          "1973-02-01T00:00:00.000000000",
          "1973-03-01T00:00:00.000000000",
          "1973-04-01T00:00:00.000000000",
          "1973-05-01T00:00:00.000000000",
          "1973-06-01T00:00:00.000000000",
          "1973-07-01T00:00:00.000000000",
          "1973-08-01T00:00:00.000000000",
          "1973-09-01T00:00:00.000000000",
          "1973-10-01T00:00:00.000000000",
          "1973-11-01T00:00:00.000000000",
          "1973-12-01T00:00:00.000000000",
          "1974-01-01T00:00:00.000000000",
          "1974-02-01T00:00:00.000000000",
          "1974-03-01T00:00:00.000000000",
          "1974-04-01T00:00:00.000000000",
          "1974-05-01T00:00:00.000000000",
          "1974-06-01T00:00:00.000000000",
          "1974-07-01T00:00:00.000000000",
          "1974-08-01T00:00:00.000000000",
          "1974-09-01T00:00:00.000000000",
          "1974-10-01T00:00:00.000000000",
          "1974-11-01T00:00:00.000000000",
          "1974-12-01T00:00:00.000000000",
          "1975-01-01T00:00:00.000000000",
          "1975-02-01T00:00:00.000000000",
          "1975-03-01T00:00:00.000000000",
          "1975-04-01T00:00:00.000000000",
          "1975-05-01T00:00:00.000000000",
          "1975-06-01T00:00:00.000000000",
          "1975-07-01T00:00:00.000000000",
          "1975-08-01T00:00:00.000000000",
          "1975-09-01T00:00:00.000000000",
          "1975-10-01T00:00:00.000000000",
          "1975-11-01T00:00:00.000000000",
          "1975-12-01T00:00:00.000000000",
          "1976-01-01T00:00:00.000000000",
          "1976-02-01T00:00:00.000000000",
          "1976-03-01T00:00:00.000000000",
          "1976-04-01T00:00:00.000000000",
          "1976-05-01T00:00:00.000000000",
          "1976-06-01T00:00:00.000000000",
          "1976-07-01T00:00:00.000000000",
          "1976-08-01T00:00:00.000000000",
          "1976-09-01T00:00:00.000000000",
          "1976-10-01T00:00:00.000000000",
          "1976-11-01T00:00:00.000000000",
          "1976-12-01T00:00:00.000000000",
          "1977-01-01T00:00:00.000000000",
          "1977-02-01T00:00:00.000000000",
          "1977-03-01T00:00:00.000000000",
          "1977-04-01T00:00:00.000000000",
          "1977-05-01T00:00:00.000000000",
          "1977-06-01T00:00:00.000000000",
          "1977-07-01T00:00:00.000000000",
          "1977-08-01T00:00:00.000000000",
          "1977-09-01T00:00:00.000000000",
          "1977-10-01T00:00:00.000000000",
          "1977-11-01T00:00:00.000000000",
          "1977-12-01T00:00:00.000000000",
          "1978-01-01T00:00:00.000000000",
          "1978-02-01T00:00:00.000000000",
          "1978-03-01T00:00:00.000000000",
          "1978-04-01T00:00:00.000000000",
          "1978-05-01T00:00:00.000000000",
          "1978-06-01T00:00:00.000000000",
          "1978-07-01T00:00:00.000000000",
          "1978-08-01T00:00:00.000000000",
          "1978-09-01T00:00:00.000000000",
          "1978-10-01T00:00:00.000000000",
          "1978-11-01T00:00:00.000000000",
          "1978-12-01T00:00:00.000000000",
          "1979-01-01T00:00:00.000000000",
          "1979-02-01T00:00:00.000000000",
          "1979-03-01T00:00:00.000000000",
          "1979-04-01T00:00:00.000000000",
          "1979-05-01T00:00:00.000000000",
          "1979-06-01T00:00:00.000000000",
          "1979-07-01T00:00:00.000000000",
          "1979-08-01T00:00:00.000000000",
          "1979-09-01T00:00:00.000000000",
          "1979-10-01T00:00:00.000000000",
          "1979-11-01T00:00:00.000000000",
          "1979-12-01T00:00:00.000000000",
          "1980-01-01T00:00:00.000000000",
          "1980-02-01T00:00:00.000000000",
          "1980-03-01T00:00:00.000000000",
          "1980-04-01T00:00:00.000000000",
          "1980-05-01T00:00:00.000000000",
          "1980-06-01T00:00:00.000000000",
          "1980-07-01T00:00:00.000000000",
          "1980-08-01T00:00:00.000000000",
          "1980-09-01T00:00:00.000000000",
          "1980-10-01T00:00:00.000000000",
          "1980-11-01T00:00:00.000000000",
          "1980-12-01T00:00:00.000000000",
          "1981-01-01T00:00:00.000000000",
          "1981-02-01T00:00:00.000000000",
          "1981-03-01T00:00:00.000000000",
          "1981-04-01T00:00:00.000000000",
          "1981-05-01T00:00:00.000000000",
          "1981-06-01T00:00:00.000000000",
          "1981-07-01T00:00:00.000000000",
          "1981-08-01T00:00:00.000000000",
          "1981-09-01T00:00:00.000000000",
          "1981-10-01T00:00:00.000000000",
          "1981-11-01T00:00:00.000000000",
          "1981-12-01T00:00:00.000000000",
          "1982-01-01T00:00:00.000000000",
          "1982-02-01T00:00:00.000000000",
          "1982-03-01T00:00:00.000000000",
          "1982-04-01T00:00:00.000000000",
          "1982-05-01T00:00:00.000000000",
          "1982-06-01T00:00:00.000000000",
          "1982-07-01T00:00:00.000000000",
          "1982-08-01T00:00:00.000000000",
          "1982-09-01T00:00:00.000000000",
          "1982-10-01T00:00:00.000000000",
          "1982-11-01T00:00:00.000000000",
          "1982-12-01T00:00:00.000000000",
          "1983-01-01T00:00:00.000000000",
          "1983-02-01T00:00:00.000000000",
          "1983-03-01T00:00:00.000000000",
          "1983-04-01T00:00:00.000000000",
          "1983-05-01T00:00:00.000000000",
          "1983-06-01T00:00:00.000000000",
          "1983-07-01T00:00:00.000000000",
          "1983-08-01T00:00:00.000000000",
          "1983-09-01T00:00:00.000000000",
          "1983-10-01T00:00:00.000000000",
          "1983-11-01T00:00:00.000000000",
          "1983-12-01T00:00:00.000000000",
          "1984-01-01T00:00:00.000000000",
          "1984-02-01T00:00:00.000000000",
          "1984-03-01T00:00:00.000000000",
          "1984-04-01T00:00:00.000000000",
          "1984-05-01T00:00:00.000000000",
          "1984-06-01T00:00:00.000000000",
          "1984-07-01T00:00:00.000000000",
          "1984-08-01T00:00:00.000000000",
          "1984-09-01T00:00:00.000000000",
          "1984-10-01T00:00:00.000000000",
          "1984-11-01T00:00:00.000000000",
          "1984-12-01T00:00:00.000000000",
          "1985-01-01T00:00:00.000000000",
          "1985-02-01T00:00:00.000000000",
          "1985-03-01T00:00:00.000000000",
          "1985-04-01T00:00:00.000000000",
          "1985-05-01T00:00:00.000000000",
          "1985-06-01T00:00:00.000000000",
          "1985-07-01T00:00:00.000000000",
          "1985-08-01T00:00:00.000000000",
          "1985-09-01T00:00:00.000000000",
          "1985-10-01T00:00:00.000000000",
          "1985-11-01T00:00:00.000000000",
          "1985-12-01T00:00:00.000000000",
          "1986-01-01T00:00:00.000000000",
          "1986-02-01T00:00:00.000000000",
          "1986-03-01T00:00:00.000000000",
          "1986-04-01T00:00:00.000000000",
          "1986-05-01T00:00:00.000000000",
          "1986-06-01T00:00:00.000000000",
          "1986-07-01T00:00:00.000000000",
          "1986-08-01T00:00:00.000000000",
          "1986-09-01T00:00:00.000000000",
          "1986-10-01T00:00:00.000000000",
          "1986-11-01T00:00:00.000000000",
          "1986-12-01T00:00:00.000000000",
          "1987-01-01T00:00:00.000000000",
          "1987-02-01T00:00:00.000000000",
          "1987-03-01T00:00:00.000000000",
          "1987-04-01T00:00:00.000000000",
          "1987-05-01T00:00:00.000000000",
          "1987-06-01T00:00:00.000000000",
          "1987-07-01T00:00:00.000000000",
          "1987-08-01T00:00:00.000000000",
          "1987-09-01T00:00:00.000000000",
          "1987-10-01T00:00:00.000000000",
          "1987-11-01T00:00:00.000000000",
          "1987-12-01T00:00:00.000000000",
          "1988-01-01T00:00:00.000000000",
          "1988-02-01T00:00:00.000000000",
          "1988-03-01T00:00:00.000000000",
          "1988-04-01T00:00:00.000000000",
          "1988-05-01T00:00:00.000000000",
          "1988-06-01T00:00:00.000000000",
          "1988-07-01T00:00:00.000000000",
          "1988-08-01T00:00:00.000000000",
          "1988-09-01T00:00:00.000000000",
          "1988-10-01T00:00:00.000000000",
          "1988-11-01T00:00:00.000000000",
          "1988-12-01T00:00:00.000000000",
          "1989-01-01T00:00:00.000000000",
          "1989-02-01T00:00:00.000000000",
          "1989-03-01T00:00:00.000000000",
          "1989-04-01T00:00:00.000000000",
          "1989-05-01T00:00:00.000000000",
          "1989-06-01T00:00:00.000000000",
          "1989-07-01T00:00:00.000000000",
          "1989-08-01T00:00:00.000000000",
          "1989-09-01T00:00:00.000000000",
          "1989-10-01T00:00:00.000000000",
          "1989-11-01T00:00:00.000000000",
          "1989-12-01T00:00:00.000000000",
          "1990-01-01T00:00:00.000000000",
          "1990-02-01T00:00:00.000000000",
          "1990-03-01T00:00:00.000000000",
          "1990-04-01T00:00:00.000000000",
          "1990-05-01T00:00:00.000000000",
          "1990-06-01T00:00:00.000000000",
          "1990-07-01T00:00:00.000000000",
          "1990-08-01T00:00:00.000000000",
          "1990-09-01T00:00:00.000000000",
          "1990-10-01T00:00:00.000000000",
          "1990-11-01T00:00:00.000000000",
          "1990-12-01T00:00:00.000000000",
          "1991-01-01T00:00:00.000000000",
          "1991-02-01T00:00:00.000000000",
          "1991-03-01T00:00:00.000000000",
          "1991-04-01T00:00:00.000000000",
          "1991-05-01T00:00:00.000000000",
          "1991-06-01T00:00:00.000000000",
          "1991-07-01T00:00:00.000000000",
          "1991-08-01T00:00:00.000000000",
          "1991-09-01T00:00:00.000000000",
          "1991-10-01T00:00:00.000000000",
          "1991-11-01T00:00:00.000000000",
          "1991-12-01T00:00:00.000000000",
          "1992-01-01T00:00:00.000000000",
          "1992-02-01T00:00:00.000000000",
          "1992-03-01T00:00:00.000000000",
          "1992-04-01T00:00:00.000000000",
          "1992-05-01T00:00:00.000000000",
          "1992-06-01T00:00:00.000000000",
          "1992-07-01T00:00:00.000000000",
          "1992-08-01T00:00:00.000000000",
          "1992-09-01T00:00:00.000000000",
          "1992-10-01T00:00:00.000000000",
          "1992-11-01T00:00:00.000000000",
          "1992-12-01T00:00:00.000000000",
          "1993-01-01T00:00:00.000000000",
          "1993-02-01T00:00:00.000000000",
          "1993-03-01T00:00:00.000000000",
          "1993-04-01T00:00:00.000000000",
          "1993-05-01T00:00:00.000000000",
          "1993-06-01T00:00:00.000000000",
          "1993-07-01T00:00:00.000000000",
          "1993-08-01T00:00:00.000000000",
          "1993-09-01T00:00:00.000000000",
          "1993-10-01T00:00:00.000000000",
          "1993-11-01T00:00:00.000000000",
          "1993-12-01T00:00:00.000000000",
          "1994-01-01T00:00:00.000000000",
          "1994-02-01T00:00:00.000000000",
          "1994-03-01T00:00:00.000000000",
          "1994-04-01T00:00:00.000000000",
          "1994-05-01T00:00:00.000000000",
          "1994-06-01T00:00:00.000000000",
          "1994-07-01T00:00:00.000000000",
          "1994-08-01T00:00:00.000000000",
          "1994-09-01T00:00:00.000000000",
          "1994-10-01T00:00:00.000000000",
          "1994-11-01T00:00:00.000000000",
          "1994-12-01T00:00:00.000000000",
          "1995-01-01T00:00:00.000000000",
          "1995-02-01T00:00:00.000000000",
          "1995-03-01T00:00:00.000000000",
          "1995-04-01T00:00:00.000000000",
          "1995-05-01T00:00:00.000000000",
          "1995-06-01T00:00:00.000000000",
          "1995-07-01T00:00:00.000000000",
          "1995-08-01T00:00:00.000000000",
          "1995-09-01T00:00:00.000000000",
          "1995-10-01T00:00:00.000000000",
          "1995-11-01T00:00:00.000000000",
          "1995-12-01T00:00:00.000000000",
          "1996-01-01T00:00:00.000000000",
          "1996-02-01T00:00:00.000000000",
          "1996-03-01T00:00:00.000000000",
          "1996-04-01T00:00:00.000000000",
          "1996-05-01T00:00:00.000000000",
          "1996-06-01T00:00:00.000000000",
          "1996-07-01T00:00:00.000000000",
          "1996-08-01T00:00:00.000000000",
          "1996-09-01T00:00:00.000000000",
          "1996-10-01T00:00:00.000000000",
          "1996-11-01T00:00:00.000000000",
          "1996-12-01T00:00:00.000000000",
          "1997-01-01T00:00:00.000000000",
          "1997-02-01T00:00:00.000000000",
          "1997-03-01T00:00:00.000000000",
          "1997-04-01T00:00:00.000000000",
          "1997-05-01T00:00:00.000000000",
          "1997-06-01T00:00:00.000000000",
          "1997-07-01T00:00:00.000000000",
          "1997-08-01T00:00:00.000000000",
          "1997-09-01T00:00:00.000000000",
          "1997-10-01T00:00:00.000000000",
          "1997-11-01T00:00:00.000000000",
          "1997-12-01T00:00:00.000000000",
          "1998-01-01T00:00:00.000000000",
          "1998-02-01T00:00:00.000000000",
          "1998-03-01T00:00:00.000000000",
          "1998-04-01T00:00:00.000000000",
          "1998-05-01T00:00:00.000000000",
          "1998-06-01T00:00:00.000000000",
          "1998-07-01T00:00:00.000000000",
          "1998-08-01T00:00:00.000000000",
          "1998-09-01T00:00:00.000000000",
          "1998-10-01T00:00:00.000000000",
          "1998-11-01T00:00:00.000000000",
          "1998-12-01T00:00:00.000000000",
          "1999-01-01T00:00:00.000000000",
          "1999-02-01T00:00:00.000000000",
          "1999-03-01T00:00:00.000000000",
          "1999-04-01T00:00:00.000000000",
          "1999-05-01T00:00:00.000000000",
          "1999-06-01T00:00:00.000000000",
          "1999-07-01T00:00:00.000000000",
          "1999-08-01T00:00:00.000000000",
          "1999-09-01T00:00:00.000000000",
          "1999-10-01T00:00:00.000000000",
          "1999-11-01T00:00:00.000000000",
          "1999-12-01T00:00:00.000000000",
          "2000-01-01T00:00:00.000000000",
          "2000-02-01T00:00:00.000000000",
          "2000-03-01T00:00:00.000000000",
          "2000-04-01T00:00:00.000000000",
          "2000-05-01T00:00:00.000000000",
          "2000-06-01T00:00:00.000000000",
          "2000-07-01T00:00:00.000000000",
          "2000-08-01T00:00:00.000000000",
          "2000-09-01T00:00:00.000000000",
          "2000-10-01T00:00:00.000000000",
          "2000-11-01T00:00:00.000000000",
          "2000-12-01T00:00:00.000000000",
          "2001-01-01T00:00:00.000000000",
          "2001-02-01T00:00:00.000000000",
          "2001-03-01T00:00:00.000000000",
          "2001-04-01T00:00:00.000000000",
          "2001-05-01T00:00:00.000000000",
          "2001-06-01T00:00:00.000000000",
          "2001-07-01T00:00:00.000000000",
          "2001-08-01T00:00:00.000000000",
          "2001-09-01T00:00:00.000000000",
          "2001-10-01T00:00:00.000000000",
          "2001-11-01T00:00:00.000000000",
          "2001-12-01T00:00:00.000000000",
          "2002-01-01T00:00:00.000000000",
          "2002-02-01T00:00:00.000000000",
          "2002-03-01T00:00:00.000000000",
          "2002-04-01T00:00:00.000000000",
          "2002-05-01T00:00:00.000000000",
          "2002-06-01T00:00:00.000000000",
          "2002-07-01T00:00:00.000000000",
          "2002-08-01T00:00:00.000000000",
          "2002-09-01T00:00:00.000000000",
          "2002-10-01T00:00:00.000000000",
          "2002-11-01T00:00:00.000000000",
          "2002-12-01T00:00:00.000000000",
          "2003-01-01T00:00:00.000000000",
          "2003-02-01T00:00:00.000000000",
          "2003-03-01T00:00:00.000000000",
          "2003-04-01T00:00:00.000000000",
          "2003-05-01T00:00:00.000000000",
          "2003-06-01T00:00:00.000000000",
          "2003-07-01T00:00:00.000000000",
          "2003-08-01T00:00:00.000000000",
          "2003-09-01T00:00:00.000000000",
          "2003-10-01T00:00:00.000000000",
          "2003-11-01T00:00:00.000000000",
          "2003-12-01T00:00:00.000000000",
          "2004-01-01T00:00:00.000000000",
          "2004-02-01T00:00:00.000000000",
          "2004-03-01T00:00:00.000000000",
          "2004-04-01T00:00:00.000000000",
          "2004-05-01T00:00:00.000000000",
          "2004-06-01T00:00:00.000000000",
          "2004-07-01T00:00:00.000000000",
          "2004-08-01T00:00:00.000000000",
          "2004-09-01T00:00:00.000000000",
          "2004-10-01T00:00:00.000000000",
          "2004-11-01T00:00:00.000000000",
          "2004-12-01T00:00:00.000000000",
          "2005-01-01T00:00:00.000000000",
          "2005-02-01T00:00:00.000000000",
          "2005-03-01T00:00:00.000000000",
          "2005-04-01T00:00:00.000000000",
          "2005-05-01T00:00:00.000000000",
          "2005-06-01T00:00:00.000000000",
          "2005-07-01T00:00:00.000000000",
          "2005-08-01T00:00:00.000000000",
          "2005-09-01T00:00:00.000000000",
          "2005-10-01T00:00:00.000000000",
          "2005-11-01T00:00:00.000000000",
          "2005-12-01T00:00:00.000000000",
          "2006-01-01T00:00:00.000000000",
          "2006-02-01T00:00:00.000000000",
          "2006-03-01T00:00:00.000000000",
          "2006-04-01T00:00:00.000000000",
          "2006-05-01T00:00:00.000000000",
          "2006-06-01T00:00:00.000000000",
          "2006-07-01T00:00:00.000000000",
          "2006-08-01T00:00:00.000000000",
          "2006-09-01T00:00:00.000000000",
          "2006-10-01T00:00:00.000000000",
          "2006-11-01T00:00:00.000000000",
          "2006-12-01T00:00:00.000000000",
          "2007-01-01T00:00:00.000000000",
          "2007-02-01T00:00:00.000000000",
          "2007-03-01T00:00:00.000000000",
          "2007-04-01T00:00:00.000000000",
          "2007-05-01T00:00:00.000000000",
          "2007-06-01T00:00:00.000000000",
          "2007-07-01T00:00:00.000000000",
          "2007-08-01T00:00:00.000000000",
          "2007-09-01T00:00:00.000000000",
          "2007-10-01T00:00:00.000000000",
          "2007-11-01T00:00:00.000000000",
          "2007-12-01T00:00:00.000000000",
          "2008-01-01T00:00:00.000000000",
          "2008-02-01T00:00:00.000000000",
          "2008-03-01T00:00:00.000000000",
          "2008-04-01T00:00:00.000000000",
          "2008-05-01T00:00:00.000000000",
          "2008-06-01T00:00:00.000000000",
          "2008-07-01T00:00:00.000000000",
          "2008-08-01T00:00:00.000000000",
          "2008-09-01T00:00:00.000000000",
          "2008-10-01T00:00:00.000000000",
          "2008-11-01T00:00:00.000000000",
          "2008-12-01T00:00:00.000000000",
          "2009-01-01T00:00:00.000000000",
          "2009-02-01T00:00:00.000000000",
          "2009-03-01T00:00:00.000000000",
          "2009-04-01T00:00:00.000000000",
          "2009-05-01T00:00:00.000000000",
          "2009-06-01T00:00:00.000000000",
          "2009-07-01T00:00:00.000000000",
          "2009-08-01T00:00:00.000000000",
          "2009-09-01T00:00:00.000000000",
          "2009-10-01T00:00:00.000000000",
          "2009-11-01T00:00:00.000000000",
          "2009-12-01T00:00:00.000000000",
          "2010-01-01T00:00:00.000000000",
          "2010-02-01T00:00:00.000000000",
          "2010-03-01T00:00:00.000000000",
          "2010-04-01T00:00:00.000000000",
          "2010-05-01T00:00:00.000000000",
          "2010-06-01T00:00:00.000000000",
          "2010-07-01T00:00:00.000000000",
          "2010-08-01T00:00:00.000000000",
          "2010-09-01T00:00:00.000000000",
          "2010-10-01T00:00:00.000000000",
          "2010-11-01T00:00:00.000000000",
          "2010-12-01T00:00:00.000000000",
          "2011-01-01T00:00:00.000000000",
          "2011-02-01T00:00:00.000000000",
          "2011-03-01T00:00:00.000000000",
          "2011-04-01T00:00:00.000000000",
          "2011-05-01T00:00:00.000000000",
          "2011-06-01T00:00:00.000000000",
          "2011-07-01T00:00:00.000000000",
          "2011-08-01T00:00:00.000000000",
          "2011-09-01T00:00:00.000000000",
          "2011-10-01T00:00:00.000000000",
          "2011-11-01T00:00:00.000000000",
          "2011-12-01T00:00:00.000000000",
          "2012-01-01T00:00:00.000000000",
          "2012-02-01T00:00:00.000000000",
          "2012-03-01T00:00:00.000000000",
          "2012-04-01T00:00:00.000000000",
          "2012-05-01T00:00:00.000000000",
          "2012-06-01T00:00:00.000000000",
          "2012-07-01T00:00:00.000000000",
          "2012-08-01T00:00:00.000000000",
          "2012-09-01T00:00:00.000000000",
          "2012-10-01T00:00:00.000000000",
          "2012-11-01T00:00:00.000000000",
          "2012-12-01T00:00:00.000000000",
          "2013-01-01T00:00:00.000000000",
          "2013-02-01T00:00:00.000000000",
          "2013-03-01T00:00:00.000000000",
          "2013-04-01T00:00:00.000000000",
          "2013-05-01T00:00:00.000000000",
          "2013-06-01T00:00:00.000000000",
          "2013-07-01T00:00:00.000000000",
          "2013-08-01T00:00:00.000000000",
          "2013-09-01T00:00:00.000000000",
          "2013-10-01T00:00:00.000000000",
          "2013-11-01T00:00:00.000000000",
          "2013-12-01T00:00:00.000000000",
          "2014-01-01T00:00:00.000000000",
          "2014-02-01T00:00:00.000000000",
          "2014-03-01T00:00:00.000000000",
          "2014-04-01T00:00:00.000000000",
          "2014-05-01T00:00:00.000000000",
          "2014-06-01T00:00:00.000000000",
          "2014-07-01T00:00:00.000000000",
          "2014-08-01T00:00:00.000000000",
          "2014-09-01T00:00:00.000000000",
          "2014-10-01T00:00:00.000000000",
          "2014-11-01T00:00:00.000000000",
          "2014-12-01T00:00:00.000000000",
          "2015-01-01T00:00:00.000000000",
          "2015-02-01T00:00:00.000000000",
          "2015-03-01T00:00:00.000000000",
          "2015-04-01T00:00:00.000000000",
          "2015-05-01T00:00:00.000000000",
          "2015-06-01T00:00:00.000000000",
          "2015-07-01T00:00:00.000000000",
          "2015-08-01T00:00:00.000000000",
          "2015-09-01T00:00:00.000000000",
          "2015-10-01T00:00:00.000000000",
          "2015-11-01T00:00:00.000000000",
          "2015-12-01T00:00:00.000000000",
          "2016-01-01T00:00:00.000000000",
          "2016-02-01T00:00:00.000000000",
          "2016-03-01T00:00:00.000000000",
          "2016-04-01T00:00:00.000000000",
          "2016-05-01T00:00:00.000000000",
          "2016-06-01T00:00:00.000000000",
          "2016-07-01T00:00:00.000000000",
          "2016-08-01T00:00:00.000000000",
          "2016-09-01T00:00:00.000000000",
          "2016-10-01T00:00:00.000000000",
          "2016-11-01T00:00:00.000000000",
          "2016-12-01T00:00:00.000000000",
          "2017-01-01T00:00:00.000000000",
          "2017-02-01T00:00:00.000000000",
          "2017-03-01T00:00:00.000000000",
          "2017-04-01T00:00:00.000000000",
          "2017-05-01T00:00:00.000000000",
          "2017-06-01T00:00:00.000000000",
          "2017-07-01T00:00:00.000000000",
          "2017-08-01T00:00:00.000000000",
          "2017-09-01T00:00:00.000000000",
          "2017-10-01T00:00:00.000000000",
          "2017-11-01T00:00:00.000000000",
          "2017-12-01T00:00:00.000000000",
          "2018-01-01T00:00:00.000000000",
          "2018-02-01T00:00:00.000000000",
          "2018-03-01T00:00:00.000000000",
          "2018-04-01T00:00:00.000000000",
          "2018-05-01T00:00:00.000000000",
          "2018-06-01T00:00:00.000000000",
          "2018-07-01T00:00:00.000000000",
          "2018-08-01T00:00:00.000000000",
          "2018-09-01T00:00:00.000000000",
          "2018-10-01T00:00:00.000000000",
          "2018-11-01T00:00:00.000000000",
          "2018-12-01T00:00:00.000000000",
          "2019-01-01T00:00:00.000000000",
          "2019-02-01T00:00:00.000000000",
          "2019-03-01T00:00:00.000000000",
          "2019-04-01T00:00:00.000000000",
          "2019-05-01T00:00:00.000000000",
          "2019-06-01T00:00:00.000000000",
          "2019-07-01T00:00:00.000000000",
          "2019-08-01T00:00:00.000000000",
          "2019-09-01T00:00:00.000000000",
          "2019-10-01T00:00:00.000000000",
          "2019-11-01T00:00:00.000000000",
          "2019-12-01T00:00:00.000000000",
          "2020-01-01T00:00:00.000000000",
          "2020-02-01T00:00:00.000000000",
          "2020-03-01T00:00:00.000000000",
          "2020-04-01T00:00:00.000000000",
          "2020-05-01T00:00:00.000000000",
          "2020-06-01T00:00:00.000000000",
          "2020-07-01T00:00:00.000000000",
          "2020-08-01T00:00:00.000000000",
          "2020-09-01T00:00:00.000000000",
          "2020-10-01T00:00:00.000000000",
          "2020-11-01T00:00:00.000000000",
          "2020-12-01T00:00:00.000000000",
          "2021-01-01T00:00:00.000000000",
          "2021-02-01T00:00:00.000000000",
          "2021-03-01T00:00:00.000000000",
          "2021-04-01T00:00:00.000000000",
          "2021-05-01T00:00:00.000000000",
          "2021-06-01T00:00:00.000000000",
          "2021-07-01T00:00:00.000000000",
          "2021-08-01T00:00:00.000000000",
          "2021-09-01T00:00:00.000000000",
          "2021-10-01T00:00:00.000000000",
          "2021-11-01T00:00:00.000000000",
          "2021-12-01T00:00:00.000000000",
          "2022-01-01T00:00:00.000000000",
          "2022-02-01T00:00:00.000000000",
          "2022-03-01T00:00:00.000000000",
          "2022-04-01T00:00:00.000000000",
          "2022-05-01T00:00:00.000000000",
          "2022-06-01T00:00:00.000000000",
          "2022-07-01T00:00:00.000000000",
          "2022-08-01T00:00:00.000000000",
          "2022-09-01T00:00:00.000000000",
          "2022-10-01T00:00:00.000000000",
          "2022-11-01T00:00:00.000000000",
          "2022-12-01T00:00:00.000000000",
          "2023-01-01T00:00:00.000000000",
          "2023-02-01T00:00:00.000000000",
          "2023-03-01T00:00:00.000000000",
          "2023-04-01T00:00:00.000000000",
          "2023-05-01T00:00:00.000000000",
          "2023-06-01T00:00:00.000000000",
          "2023-07-01T00:00:00.000000000",
          "2023-08-01T00:00:00.000000000",
          "2023-09-01T00:00:00.000000000",
          "2023-10-01T00:00:00.000000000",
          "2023-11-01T00:00:00.000000000",
          "2023-12-01T00:00:00.000000000",
          "2024-01-01T00:00:00.000000000",
          "2024-02-01T00:00:00.000000000",
          "2024-03-01T00:00:00.000000000",
          "2024-04-01T00:00:00.000000000",
          "2024-05-01T00:00:00.000000000",
          "2024-06-01T00:00:00.000000000",
          "2024-07-01T00:00:00.000000000",
          "2024-08-01T00:00:00.000000000",
          "2024-09-01T00:00:00.000000000",
          "2024-10-01T00:00:00.000000000",
          "2024-11-01T00:00:00.000000000",
          "2024-12-01T00:00:00.000000000",
          "2025-01-01T00:00:00.000000000"
         ],
         "xaxis": "x",
         "y": {
          "bdata": "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",
          "dtype": "f8"
         },
         "yaxis": "y"
        }
       ],
       "layout": {
        "annotations": [
         {
          "align": "left",
          "bgcolor": "rgba(255, 255, 255, 0.8)",
          "bordercolor": "black",
          "borderwidth": 1,
          "font": {
           "size": 10
          },
          "showarrow": false,
          "text": "Source: Trading Economics<br>Original Source: U.S. Bureau of Economic Analysis<br>Frequency: MS<br>",
          "x": 0,
          "xanchor": "left",
          "xref": "paper",
          "y": -0.2,
          "yanchor": "bottom",
          "yref": "paper"
         }
        ],
        "legend": {
         "orientation": "h",
         "title": {
          "text": ""
         },
         "tracegroupgap": 0,
         "x": 0.5,
         "xanchor": "center",
         "y": -0.2,
         "yanchor": "bottom"
        },
        "margin": {
         "t": 60
        },
        "template": {
         "data": {
          "bar": [
           {
            "error_x": {
             "color": "#2a3f5f"
            },
            "error_y": {
             "color": "#2a3f5f"
            },
            "marker": {
             "line": {
              "color": "#E5ECF6",
              "width": 0.5
             },
             "pattern": {
              "fillmode": "overlay",
              "size": 10,
              "solidity": 0.2
             }
            },
            "type": "bar"
           }
          ],
          "barpolar": [
           {
            "marker": {
             "line": {
              "color": "#E5ECF6",
              "width": 0.5
             },
             "pattern": {
              "fillmode": "overlay",
              "size": 10,
              "solidity": 0.2
             }
            },
            "type": "barpolar"
           }
          ],
          "carpet": [
           {
            "aaxis": {
             "endlinecolor": "#2a3f5f",
             "gridcolor": "white",
             "linecolor": "white",
             "minorgridcolor": "white",
             "startlinecolor": "#2a3f5f"
            },
            "baxis": {
             "endlinecolor": "#2a3f5f",
             "gridcolor": "white",
             "linecolor": "white",
             "minorgridcolor": "white",
             "startlinecolor": "#2a3f5f"
            },
            "type": "carpet"
           }
          ],
          "choropleth": [
           {
            "colorbar": {
             "outlinewidth": 0,
             "ticks": ""
            },
            "type": "choropleth"
           }
          ],
          "contour": [
           {
            "colorbar": {
             "outlinewidth": 0,
             "ticks": ""
            },
            "colorscale": [
             [
              0,
              "#0d0887"
             ],
             [
              0.1111111111111111,
              "#46039f"
             ],
             [
              0.2222222222222222,
              "#7201a8"
             ],
             [
              0.3333333333333333,
              "#9c179e"
             ],
             [
              0.4444444444444444,
              "#bd3786"
             ],
             [
              0.5555555555555556,
              "#d8576b"
             ],
             [
              0.6666666666666666,
              "#ed7953"
             ],
             [
              0.7777777777777778,
              "#fb9f3a"
             ],
             [
              0.8888888888888888,
              "#fdca26"
             ],
             [
              1,
              "#f0f921"
             ]
            ],
            "type": "contour"
           }
          ],
          "contourcarpet": [
           {
            "colorbar": {
             "outlinewidth": 0,
             "ticks": ""
            },
            "type": "contourcarpet"
           }
          ],
          "heatmap": [
           {
            "colorbar": {
             "outlinewidth": 0,
             "ticks": ""
            },
            "colorscale": [
             [
              0,
              "#0d0887"
             ],
             [
              0.1111111111111111,
              "#46039f"
             ],
             [
              0.2222222222222222,
              "#7201a8"
             ],
             [
              0.3333333333333333,
              "#9c179e"
             ],
             [
              0.4444444444444444,
              "#bd3786"
             ],
             [
              0.5555555555555556,
              "#d8576b"
             ],
             [
              0.6666666666666666,
              "#ed7953"
             ],
             [
              0.7777777777777778,
              "#fb9f3a"
             ],
             [
              0.8888888888888888,
              "#fdca26"
             ],
             [
              1,
              "#f0f921"
             ]
            ],
            "type": "heatmap"
           }
          ],
          "histogram": [
           {
            "marker": {
             "pattern": {
              "fillmode": "overlay",
              "size": 10,
              "solidity": 0.2
             }
            },
            "type": "histogram"
           }
          ],
          "histogram2d": [
           {
            "colorbar": {
             "outlinewidth": 0,
             "ticks": ""
            },
            "colorscale": [
             [
              0,
              "#0d0887"
             ],
             [
              0.1111111111111111,
              "#46039f"
             ],
             [
              0.2222222222222222,
              "#7201a8"
             ],
             [
              0.3333333333333333,
              "#9c179e"
             ],
             [
              0.4444444444444444,
              "#bd3786"
             ],
             [
              0.5555555555555556,
              "#d8576b"
             ],
             [
              0.6666666666666666,
              "#ed7953"
             ],
             [
              0.7777777777777778,
              "#fb9f3a"
             ],
             [
              0.8888888888888888,
              "#fdca26"
             ],
             [
              1,
              "#f0f921"
             ]
            ],
            "type": "histogram2d"
           }
          ],
          "histogram2dcontour": [
           {
            "colorbar": {
             "outlinewidth": 0,
             "ticks": ""
            },
            "colorscale": [
             [
              0,
              "#0d0887"
             ],
             [
              0.1111111111111111,
              "#46039f"
             ],
             [
              0.2222222222222222,
              "#7201a8"
             ],
             [
              0.3333333333333333,
              "#9c179e"
             ],
             [
              0.4444444444444444,
              "#bd3786"
             ],
             [
              0.5555555555555556,
              "#d8576b"
             ],
             [
              0.6666666666666666,
              "#ed7953"
             ],
             [
              0.7777777777777778,
              "#fb9f3a"
             ],
             [
              0.8888888888888888,
              "#fdca26"
             ],
             [
              1,
              "#f0f921"
             ]
            ],
            "type": "histogram2dcontour"
           }
          ],
          "mesh3d": [
           {
            "colorbar": {
             "outlinewidth": 0,
             "ticks": ""
            },
            "type": "mesh3d"
           }
          ],
          "parcoords": [
           {
            "line": {
             "colorbar": {
              "outlinewidth": 0,
              "ticks": ""
             }
            },
            "type": "parcoords"
           }
          ],
          "pie": [
           {
            "automargin": true,
            "type": "pie"
           }
          ],
          "scatter": [
           {
            "fillpattern": {
             "fillmode": "overlay",
             "size": 10,
             "solidity": 0.2
            },
            "type": "scatter"
           }
          ],
          "scatter3d": [
           {
            "line": {
             "colorbar": {
              "outlinewidth": 0,
              "ticks": ""
             }
            },
            "marker": {
             "colorbar": {
              "outlinewidth": 0,
              "ticks": ""
             }
            },
            "type": "scatter3d"
           }
          ],
          "scattercarpet": [
           {
            "marker": {
             "colorbar": {
              "outlinewidth": 0,
              "ticks": ""
             }
            },
            "type": "scattercarpet"
           }
          ],
          "scattergeo": [
           {
            "marker": {
             "colorbar": {
              "outlinewidth": 0,
              "ticks": ""
             }
            },
            "type": "scattergeo"
           }
          ],
          "scattergl": [
           {
            "marker": {
             "colorbar": {
              "outlinewidth": 0,
              "ticks": ""
             }
            },
            "type": "scattergl"
           }
          ],
          "scattermap": [
           {
            "marker": {
             "colorbar": {
              "outlinewidth": 0,
              "ticks": ""
             }
            },
            "type": "scattermap"
           }
          ],
          "scattermapbox": [
           {
            "marker": {
             "colorbar": {
              "outlinewidth": 0,
              "ticks": ""
             }
            },
            "type": "scattermapbox"
           }
          ],
          "scatterpolar": [
           {
            "marker": {
             "colorbar": {
              "outlinewidth": 0,
              "ticks": ""
             }
            },
            "type": "scatterpolar"
           }
          ],
          "scatterpolargl": [
           {
            "marker": {
             "colorbar": {
              "outlinewidth": 0,
              "ticks": ""
             }
            },
            "type": "scatterpolargl"
           }
          ],
          "scatterternary": [
           {
            "marker": {
             "colorbar": {
              "outlinewidth": 0,
              "ticks": ""
             }
            },
            "type": "scatterternary"
           }
          ],
          "surface": [
           {
            "colorbar": {
             "outlinewidth": 0,
             "ticks": ""
            },
            "colorscale": [
             [
              0,
              "#0d0887"
             ],
             [
              0.1111111111111111,
              "#46039f"
             ],
             [
              0.2222222222222222,
              "#7201a8"
             ],
             [
              0.3333333333333333,
              "#9c179e"
             ],
             [
              0.4444444444444444,
              "#bd3786"
             ],
             [
              0.5555555555555556,
              "#d8576b"
             ],
             [
              0.6666666666666666,
              "#ed7953"
             ],
             [
              0.7777777777777778,
              "#fb9f3a"
             ],
             [
              0.8888888888888888,
              "#fdca26"
             ],
             [
              1,
              "#f0f921"
             ]
            ],
            "type": "surface"
           }
          ],
          "table": [
           {
            "cells": {
             "fill": {
              "color": "#EBF0F8"
             },
             "line": {
              "color": "white"
             }
            },
            "header": {
             "fill": {
              "color": "#C8D4E3"
             },
             "line": {
              "color": "white"
             }
            },
            "type": "table"
           }
          ]
         },
         "layout": {
          "annotationdefaults": {
           "arrowcolor": "#2a3f5f",
           "arrowhead": 0,
           "arrowwidth": 1
          },
          "autotypenumbers": "strict",
          "coloraxis": {
           "colorbar": {
            "outlinewidth": 0,
            "ticks": ""
           }
          },
          "colorscale": {
           "diverging": [
            [
             0,
             "#8e0152"
            ],
            [
             0.1,
             "#c51b7d"
            ],
            [
             0.2,
             "#de77ae"
            ],
            [
             0.3,
             "#f1b6da"
            ],
            [
             0.4,
             "#fde0ef"
            ],
            [
             0.5,
             "#f7f7f7"
            ],
            [
             0.6,
             "#e6f5d0"
            ],
            [
             0.7,
             "#b8e186"
            ],
            [
             0.8,
             "#7fbc41"
            ],
            [
             0.9,
             "#4d9221"
            ],
            [
             1,
             "#276419"
            ]
           ],
           "sequential": [
            [
             0,
             "#0d0887"
            ],
            [
             0.1111111111111111,
             "#46039f"
            ],
            [
             0.2222222222222222,
             "#7201a8"
            ],
            [
             0.3333333333333333,
             "#9c179e"
            ],
            [
             0.4444444444444444,
             "#bd3786"
            ],
            [
             0.5555555555555556,
             "#d8576b"
            ],
            [
             0.6666666666666666,
             "#ed7953"
            ],
            [
             0.7777777777777778,
             "#fb9f3a"
            ],
            [
             0.8888888888888888,
             "#fdca26"
            ],
            [
             1,
             "#f0f921"
            ]
           ],
           "sequentialminus": [
            [
             0,
             "#0d0887"
            ],
            [
             0.1111111111111111,
             "#46039f"
            ],
            [
             0.2222222222222222,
             "#7201a8"
            ],
            [
             0.3333333333333333,
             "#9c179e"
            ],
            [
             0.4444444444444444,
             "#bd3786"
            ],
            [
             0.5555555555555556,
             "#d8576b"
            ],
            [
             0.6666666666666666,
             "#ed7953"
            ],
            [
             0.7777777777777778,
             "#fb9f3a"
            ],
            [
             0.8888888888888888,
             "#fdca26"
            ],
            [
             1,
             "#f0f921"
            ]
           ]
          },
          "colorway": [
           "#636efa",
           "#EF553B",
           "#00cc96",
           "#ab63fa",
           "#FFA15A",
           "#19d3f3",
           "#FF6692",
           "#B6E880",
           "#FF97FF",
           "#FECB52"
          ],
          "font": {
           "color": "#2a3f5f"
          },
          "geo": {
           "bgcolor": "white",
           "lakecolor": "white",
           "landcolor": "#E5ECF6",
           "showlakes": true,
           "showland": true,
           "subunitcolor": "white"
          },
          "hoverlabel": {
           "align": "left"
          },
          "hovermode": "closest",
          "mapbox": {
           "style": "light"
          },
          "paper_bgcolor": "white",
          "plot_bgcolor": "#E5ECF6",
          "polar": {
           "angularaxis": {
            "gridcolor": "white",
            "linecolor": "white",
            "ticks": ""
           },
           "bgcolor": "#E5ECF6",
           "radialaxis": {
            "gridcolor": "white",
            "linecolor": "white",
            "ticks": ""
           }
          },
          "scene": {
           "xaxis": {
            "backgroundcolor": "#E5ECF6",
            "gridcolor": "white",
            "gridwidth": 2,
            "linecolor": "white",
            "showbackground": true,
            "ticks": "",
            "zerolinecolor": "white"
           },
           "yaxis": {
            "backgroundcolor": "#E5ECF6",
            "gridcolor": "white",
            "gridwidth": 2,
            "linecolor": "white",
            "showbackground": true,
            "ticks": "",
            "zerolinecolor": "white"
           },
           "zaxis": {
            "backgroundcolor": "#E5ECF6",
            "gridcolor": "white",
            "gridwidth": 2,
            "linecolor": "white",
            "showbackground": true,
            "ticks": "",
            "zerolinecolor": "white"
           }
          },
          "shapedefaults": {
           "line": {
            "color": "#2a3f5f"
           }
          },
          "ternary": {
           "aaxis": {
            "gridcolor": "white",
            "linecolor": "white",
            "ticks": ""
           },
           "baxis": {
            "gridcolor": "white",
            "linecolor": "white",
            "ticks": ""
           },
           "bgcolor": "#E5ECF6",
           "caxis": {
            "gridcolor": "white",
            "linecolor": "white",
            "ticks": ""
           }
          },
          "title": {
           "x": 0.05
          },
          "xaxis": {
           "automargin": true,
           "gridcolor": "white",
           "linecolor": "white",
           "ticks": "",
           "title": {
            "standoff": 15
           },
           "zerolinecolor": "white",
           "zerolinewidth": 2
          },
          "yaxis": {
           "automargin": true,
           "gridcolor": "white",
           "linecolor": "white",
           "ticks": "",
           "title": {
            "standoff": 15
           },
           "zerolinecolor": "white",
           "zerolinewidth": 2
          }
         }
        },
        "title": {
         "text": "United states: United states personal income"
        },
        "xaxis": {
         "anchor": "y",
         "domain": [
          0,
          1
         ],
         "title": {
          "text": ""
         }
        },
        "yaxis": {
         "anchor": "x",
         "domain": [
          0,
          1
         ],
         "title": {
          "text": "%"
         }
        }
       }
      }
     },
     "metadata": {},
     "output_type": "display_data"
    }
   ],
   "source": [
    "scr.plot_series()  ## Plot the series."
   ]
  },
  {
   "cell_type": "code",
   "execution_count": 31,
   "metadata": {},
   "outputs": [
    {
     "name": "stderr",
     "output_type": "stream",
     "text": [
      "INFO - Scale series method: Start value, end value: 0.5, 0.9, pix0, pix1: 213.3125, 210.3625, \n",
      "data units per chart pixel from start & end points: 0.13559322033898358, \n",
      "unit_per_pix calculated from the y axis ticks: 0.13458915338710736, \n",
      "unit_per_pix from axis limits and self.y_axis (probably best way): 0.13513513513513514\n",
      "yaxis top tick: 24.0, yaxis bot tick: -16.0\n",
      "axis_limits: 335.0, 40.0, y-axis series min & max pixel values: 335.5, 39.5\n"
     ]
    },
    {
     "name": "stdout",
     "output_type": "stream",
     "text": [
      "Unit per pix forumlation, 24.0, -16.0, 40.0, 296.0, 40.0, 335.0, 0.13513513513513514\n",
      "Series crosses zero, x-axis should be at about pixel y-cordinate:  217.5\n"
     ]
    },
    {
     "data": {
      "text/plain": [
       "1959-02-01    0.511824\n",
       "1959-03-01    0.711149\n",
       "1959-04-01    0.910473\n",
       "1959-05-01    0.611486\n",
       "1959-06-01    0.611486\n",
       "                ...   \n",
       "2024-09-01    0.312500\n",
       "2024-10-01    0.611486\n",
       "2024-11-01    0.312500\n",
       "2024-12-01    0.412162\n",
       "2025-01-01    0.910473\n",
       "Freq: MS, Name: personal income, Length: 792, dtype: float64"
      ]
     },
     "execution_count": 31,
     "metadata": {},
     "output_type": "execute_result"
    }
   ],
   "source": [
    "scr.scale_series() ## Scale the series to the y-axis values to convert the pixel co-ordinates to actual data values.\n",
    "scr.series # View the series data obtained."
   ]
  },
  {
   "cell_type": "markdown",
   "metadata": {},
   "source": [
    "The ```scale_series()``` method converts the pixel co-ordinate values to data values."
   ]
  },
  {
   "cell_type": "code",
   "execution_count": 32,
   "metadata": {},
   "outputs": [
    {
     "data": {
      "application/vnd.plotly.v1+json": {
       "config": {
        "plotlyServerURL": "https://plot.ly"
       },
       "data": [
        {
         "hovertemplate": "variable=personal income<br>index=%{x}<br>value=%{y}<extra></extra>",
         "legendgroup": "personal income",
         "line": {
          "color": "#636efa",
          "dash": "solid"
         },
         "marker": {
          "symbol": "circle"
         },
         "mode": "lines",
         "name": "personal income",
         "orientation": "v",
         "showlegend": true,
         "type": "scatter",
         "x": [
          "1959-02-01T00:00:00.000000000",
          "1959-03-01T00:00:00.000000000",
          "1959-04-01T00:00:00.000000000",
          "1959-05-01T00:00:00.000000000",
          "1959-06-01T00:00:00.000000000",
          "1959-07-01T00:00:00.000000000",
          "1959-08-01T00:00:00.000000000",
          "1959-09-01T00:00:00.000000000",
          "1959-10-01T00:00:00.000000000",
          "1959-11-01T00:00:00.000000000",
          "1959-12-01T00:00:00.000000000",
          "1960-01-01T00:00:00.000000000",
          "1960-02-01T00:00:00.000000000",
          "1960-03-01T00:00:00.000000000",
          "1960-04-01T00:00:00.000000000",
          "1960-05-01T00:00:00.000000000",
          "1960-06-01T00:00:00.000000000",
          "1960-07-01T00:00:00.000000000",
          "1960-08-01T00:00:00.000000000",
          "1960-09-01T00:00:00.000000000",
          "1960-10-01T00:00:00.000000000",
          "1960-11-01T00:00:00.000000000",
          "1960-12-01T00:00:00.000000000",
          "1961-01-01T00:00:00.000000000",
          "1961-02-01T00:00:00.000000000",
          "1961-03-01T00:00:00.000000000",
          "1961-04-01T00:00:00.000000000",
          "1961-05-01T00:00:00.000000000",
          "1961-06-01T00:00:00.000000000",
          "1961-07-01T00:00:00.000000000",
          "1961-08-01T00:00:00.000000000",
          "1961-09-01T00:00:00.000000000",
          "1961-10-01T00:00:00.000000000",
          "1961-11-01T00:00:00.000000000",
          "1961-12-01T00:00:00.000000000",
          "1962-01-01T00:00:00.000000000",
          "1962-02-01T00:00:00.000000000",
          "1962-03-01T00:00:00.000000000",
          "1962-04-01T00:00:00.000000000",
          "1962-05-01T00:00:00.000000000",
          "1962-06-01T00:00:00.000000000",
          "1962-07-01T00:00:00.000000000",
          "1962-08-01T00:00:00.000000000",
          "1962-09-01T00:00:00.000000000",
          "1962-10-01T00:00:00.000000000",
          "1962-11-01T00:00:00.000000000",
          "1962-12-01T00:00:00.000000000",
          "1963-01-01T00:00:00.000000000",
          "1963-02-01T00:00:00.000000000",
          "1963-03-01T00:00:00.000000000",
          "1963-04-01T00:00:00.000000000",
          "1963-05-01T00:00:00.000000000",
          "1963-06-01T00:00:00.000000000",
          "1963-07-01T00:00:00.000000000",
          "1963-08-01T00:00:00.000000000",
          "1963-09-01T00:00:00.000000000",
          "1963-10-01T00:00:00.000000000",
          "1963-11-01T00:00:00.000000000",
          "1963-12-01T00:00:00.000000000",
          "1964-01-01T00:00:00.000000000",
          "1964-02-01T00:00:00.000000000",
          "1964-03-01T00:00:00.000000000",
          "1964-04-01T00:00:00.000000000",
          "1964-05-01T00:00:00.000000000",
          "1964-06-01T00:00:00.000000000",
          "1964-07-01T00:00:00.000000000",
          "1964-08-01T00:00:00.000000000",
          "1964-09-01T00:00:00.000000000",
          "1964-10-01T00:00:00.000000000",
          "1964-11-01T00:00:00.000000000",
          "1964-12-01T00:00:00.000000000",
          "1965-01-01T00:00:00.000000000",
          "1965-02-01T00:00:00.000000000",
          "1965-03-01T00:00:00.000000000",
          "1965-04-01T00:00:00.000000000",
          "1965-05-01T00:00:00.000000000",
          "1965-06-01T00:00:00.000000000",
          "1965-07-01T00:00:00.000000000",
          "1965-08-01T00:00:00.000000000",
          "1965-09-01T00:00:00.000000000",
          "1965-10-01T00:00:00.000000000",
          "1965-11-01T00:00:00.000000000",
          "1965-12-01T00:00:00.000000000",
          "1966-01-01T00:00:00.000000000",
          "1966-02-01T00:00:00.000000000",
          "1966-03-01T00:00:00.000000000",
          "1966-04-01T00:00:00.000000000",
          "1966-05-01T00:00:00.000000000",
          "1966-06-01T00:00:00.000000000",
          "1966-07-01T00:00:00.000000000",
          "1966-08-01T00:00:00.000000000",
          "1966-09-01T00:00:00.000000000",
          "1966-10-01T00:00:00.000000000",
          "1966-11-01T00:00:00.000000000",
          "1966-12-01T00:00:00.000000000",
          "1967-01-01T00:00:00.000000000",
          "1967-02-01T00:00:00.000000000",
          "1967-03-01T00:00:00.000000000",
          "1967-04-01T00:00:00.000000000",
          "1967-05-01T00:00:00.000000000",
          "1967-06-01T00:00:00.000000000",
          "1967-07-01T00:00:00.000000000",
          "1967-08-01T00:00:00.000000000",
          "1967-09-01T00:00:00.000000000",
          "1967-10-01T00:00:00.000000000",
          "1967-11-01T00:00:00.000000000",
          "1967-12-01T00:00:00.000000000",
          "1968-01-01T00:00:00.000000000",
          "1968-02-01T00:00:00.000000000",
          "1968-03-01T00:00:00.000000000",
          "1968-04-01T00:00:00.000000000",
          "1968-05-01T00:00:00.000000000",
          "1968-06-01T00:00:00.000000000",
          "1968-07-01T00:00:00.000000000",
          "1968-08-01T00:00:00.000000000",
          "1968-09-01T00:00:00.000000000",
          "1968-10-01T00:00:00.000000000",
          "1968-11-01T00:00:00.000000000",
          "1968-12-01T00:00:00.000000000",
          "1969-01-01T00:00:00.000000000",
          "1969-02-01T00:00:00.000000000",
          "1969-03-01T00:00:00.000000000",
          "1969-04-01T00:00:00.000000000",
          "1969-05-01T00:00:00.000000000",
          "1969-06-01T00:00:00.000000000",
          "1969-07-01T00:00:00.000000000",
          "1969-08-01T00:00:00.000000000",
          "1969-09-01T00:00:00.000000000",
          "1969-10-01T00:00:00.000000000",
          "1969-11-01T00:00:00.000000000",
          "1969-12-01T00:00:00.000000000",
          "1970-01-01T00:00:00.000000000",
          "1970-02-01T00:00:00.000000000",
          "1970-03-01T00:00:00.000000000",
          "1970-04-01T00:00:00.000000000",
          "1970-05-01T00:00:00.000000000",
          "1970-06-01T00:00:00.000000000",
          "1970-07-01T00:00:00.000000000",
          "1970-08-01T00:00:00.000000000",
          "1970-09-01T00:00:00.000000000",
          "1970-10-01T00:00:00.000000000",
          "1970-11-01T00:00:00.000000000",
          "1970-12-01T00:00:00.000000000",
          "1971-01-01T00:00:00.000000000",
          "1971-02-01T00:00:00.000000000",
          "1971-03-01T00:00:00.000000000",
          "1971-04-01T00:00:00.000000000",
          "1971-05-01T00:00:00.000000000",
          "1971-06-01T00:00:00.000000000",
          "1971-07-01T00:00:00.000000000",
          "1971-08-01T00:00:00.000000000",
          "1971-09-01T00:00:00.000000000",
          "1971-10-01T00:00:00.000000000",
          "1971-11-01T00:00:00.000000000",
          "1971-12-01T00:00:00.000000000",
          "1972-01-01T00:00:00.000000000",
          "1972-02-01T00:00:00.000000000",
          "1972-03-01T00:00:00.000000000",
          "1972-04-01T00:00:00.000000000",
          "1972-05-01T00:00:00.000000000",
          "1972-06-01T00:00:00.000000000",
          "1972-07-01T00:00:00.000000000",
          "1972-08-01T00:00:00.000000000",
          "1972-09-01T00:00:00.000000000",
          "1972-10-01T00:00:00.000000000",
          "1972-11-01T00:00:00.000000000",
          "1972-12-01T00:00:00.000000000",
          "1973-01-01T00:00:00.000000000",
          "1973-02-01T00:00:00.000000000",
          "1973-03-01T00:00:00.000000000",
          "1973-04-01T00:00:00.000000000",
          "1973-05-01T00:00:00.000000000",
          "1973-06-01T00:00:00.000000000",
          "1973-07-01T00:00:00.000000000",
          "1973-08-01T00:00:00.000000000",
          "1973-09-01T00:00:00.000000000",
          "1973-10-01T00:00:00.000000000",
          "1973-11-01T00:00:00.000000000",
          "1973-12-01T00:00:00.000000000",
          "1974-01-01T00:00:00.000000000",
          "1974-02-01T00:00:00.000000000",
          "1974-03-01T00:00:00.000000000",
          "1974-04-01T00:00:00.000000000",
          "1974-05-01T00:00:00.000000000",
          "1974-06-01T00:00:00.000000000",
          "1974-07-01T00:00:00.000000000",
          "1974-08-01T00:00:00.000000000",
          "1974-09-01T00:00:00.000000000",
          "1974-10-01T00:00:00.000000000",
          "1974-11-01T00:00:00.000000000",
          "1974-12-01T00:00:00.000000000",
          "1975-01-01T00:00:00.000000000",
          "1975-02-01T00:00:00.000000000",
          "1975-03-01T00:00:00.000000000",
          "1975-04-01T00:00:00.000000000",
          "1975-05-01T00:00:00.000000000",
          "1975-06-01T00:00:00.000000000",
          "1975-07-01T00:00:00.000000000",
          "1975-08-01T00:00:00.000000000",
          "1975-09-01T00:00:00.000000000",
          "1975-10-01T00:00:00.000000000",
          "1975-11-01T00:00:00.000000000",
          "1975-12-01T00:00:00.000000000",
          "1976-01-01T00:00:00.000000000",
          "1976-02-01T00:00:00.000000000",
          "1976-03-01T00:00:00.000000000",
          "1976-04-01T00:00:00.000000000",
          "1976-05-01T00:00:00.000000000",
          "1976-06-01T00:00:00.000000000",
          "1976-07-01T00:00:00.000000000",
          "1976-08-01T00:00:00.000000000",
          "1976-09-01T00:00:00.000000000",
          "1976-10-01T00:00:00.000000000",
          "1976-11-01T00:00:00.000000000",
          "1976-12-01T00:00:00.000000000",
          "1977-01-01T00:00:00.000000000",
          "1977-02-01T00:00:00.000000000",
          "1977-03-01T00:00:00.000000000",
          "1977-04-01T00:00:00.000000000",
          "1977-05-01T00:00:00.000000000",
          "1977-06-01T00:00:00.000000000",
          "1977-07-01T00:00:00.000000000",
          "1977-08-01T00:00:00.000000000",
          "1977-09-01T00:00:00.000000000",
          "1977-10-01T00:00:00.000000000",
          "1977-11-01T00:00:00.000000000",
          "1977-12-01T00:00:00.000000000",
          "1978-01-01T00:00:00.000000000",
          "1978-02-01T00:00:00.000000000",
          "1978-03-01T00:00:00.000000000",
          "1978-04-01T00:00:00.000000000",
          "1978-05-01T00:00:00.000000000",
          "1978-06-01T00:00:00.000000000",
          "1978-07-01T00:00:00.000000000",
          "1978-08-01T00:00:00.000000000",
          "1978-09-01T00:00:00.000000000",
          "1978-10-01T00:00:00.000000000",
          "1978-11-01T00:00:00.000000000",
          "1978-12-01T00:00:00.000000000",
          "1979-01-01T00:00:00.000000000",
          "1979-02-01T00:00:00.000000000",
          "1979-03-01T00:00:00.000000000",
          "1979-04-01T00:00:00.000000000",
          "1979-05-01T00:00:00.000000000",
          "1979-06-01T00:00:00.000000000",
          "1979-07-01T00:00:00.000000000",
          "1979-08-01T00:00:00.000000000",
          "1979-09-01T00:00:00.000000000",
          "1979-10-01T00:00:00.000000000",
          "1979-11-01T00:00:00.000000000",
          "1979-12-01T00:00:00.000000000",
          "1980-01-01T00:00:00.000000000",
          "1980-02-01T00:00:00.000000000",
          "1980-03-01T00:00:00.000000000",
          "1980-04-01T00:00:00.000000000",
          "1980-05-01T00:00:00.000000000",
          "1980-06-01T00:00:00.000000000",
          "1980-07-01T00:00:00.000000000",
          "1980-08-01T00:00:00.000000000",
          "1980-09-01T00:00:00.000000000",
          "1980-10-01T00:00:00.000000000",
          "1980-11-01T00:00:00.000000000",
          "1980-12-01T00:00:00.000000000",
          "1981-01-01T00:00:00.000000000",
          "1981-02-01T00:00:00.000000000",
          "1981-03-01T00:00:00.000000000",
          "1981-04-01T00:00:00.000000000",
          "1981-05-01T00:00:00.000000000",
          "1981-06-01T00:00:00.000000000",
          "1981-07-01T00:00:00.000000000",
          "1981-08-01T00:00:00.000000000",
          "1981-09-01T00:00:00.000000000",
          "1981-10-01T00:00:00.000000000",
          "1981-11-01T00:00:00.000000000",
          "1981-12-01T00:00:00.000000000",
          "1982-01-01T00:00:00.000000000",
          "1982-02-01T00:00:00.000000000",
          "1982-03-01T00:00:00.000000000",
          "1982-04-01T00:00:00.000000000",
          "1982-05-01T00:00:00.000000000",
          "1982-06-01T00:00:00.000000000",
          "1982-07-01T00:00:00.000000000",
          "1982-08-01T00:00:00.000000000",
          "1982-09-01T00:00:00.000000000",
          "1982-10-01T00:00:00.000000000",
          "1982-11-01T00:00:00.000000000",
          "1982-12-01T00:00:00.000000000",
          "1983-01-01T00:00:00.000000000",
          "1983-02-01T00:00:00.000000000",
          "1983-03-01T00:00:00.000000000",
          "1983-04-01T00:00:00.000000000",
          "1983-05-01T00:00:00.000000000",
          "1983-06-01T00:00:00.000000000",
          "1983-07-01T00:00:00.000000000",
          "1983-08-01T00:00:00.000000000",
          "1983-09-01T00:00:00.000000000",
          "1983-10-01T00:00:00.000000000",
          "1983-11-01T00:00:00.000000000",
          "1983-12-01T00:00:00.000000000",
          "1984-01-01T00:00:00.000000000",
          "1984-02-01T00:00:00.000000000",
          "1984-03-01T00:00:00.000000000",
          "1984-04-01T00:00:00.000000000",
          "1984-05-01T00:00:00.000000000",
          "1984-06-01T00:00:00.000000000",
          "1984-07-01T00:00:00.000000000",
          "1984-08-01T00:00:00.000000000",
          "1984-09-01T00:00:00.000000000",
          "1984-10-01T00:00:00.000000000",
          "1984-11-01T00:00:00.000000000",
          "1984-12-01T00:00:00.000000000",
          "1985-01-01T00:00:00.000000000",
          "1985-02-01T00:00:00.000000000",
          "1985-03-01T00:00:00.000000000",
          "1985-04-01T00:00:00.000000000",
          "1985-05-01T00:00:00.000000000",
          "1985-06-01T00:00:00.000000000",
          "1985-07-01T00:00:00.000000000",
          "1985-08-01T00:00:00.000000000",
          "1985-09-01T00:00:00.000000000",
          "1985-10-01T00:00:00.000000000",
          "1985-11-01T00:00:00.000000000",
          "1985-12-01T00:00:00.000000000",
          "1986-01-01T00:00:00.000000000",
          "1986-02-01T00:00:00.000000000",
          "1986-03-01T00:00:00.000000000",
          "1986-04-01T00:00:00.000000000",
          "1986-05-01T00:00:00.000000000",
          "1986-06-01T00:00:00.000000000",
          "1986-07-01T00:00:00.000000000",
          "1986-08-01T00:00:00.000000000",
          "1986-09-01T00:00:00.000000000",
          "1986-10-01T00:00:00.000000000",
          "1986-11-01T00:00:00.000000000",
          "1986-12-01T00:00:00.000000000",
          "1987-01-01T00:00:00.000000000",
          "1987-02-01T00:00:00.000000000",
          "1987-03-01T00:00:00.000000000",
          "1987-04-01T00:00:00.000000000",
          "1987-05-01T00:00:00.000000000",
          "1987-06-01T00:00:00.000000000",
          "1987-07-01T00:00:00.000000000",
          "1987-08-01T00:00:00.000000000",
          "1987-09-01T00:00:00.000000000",
          "1987-10-01T00:00:00.000000000",
          "1987-11-01T00:00:00.000000000",
          "1987-12-01T00:00:00.000000000",
          "1988-01-01T00:00:00.000000000",
          "1988-02-01T00:00:00.000000000",
          "1988-03-01T00:00:00.000000000",
          "1988-04-01T00:00:00.000000000",
          "1988-05-01T00:00:00.000000000",
          "1988-06-01T00:00:00.000000000",
          "1988-07-01T00:00:00.000000000",
          "1988-08-01T00:00:00.000000000",
          "1988-09-01T00:00:00.000000000",
          "1988-10-01T00:00:00.000000000",
          "1988-11-01T00:00:00.000000000",
          "1988-12-01T00:00:00.000000000",
          "1989-01-01T00:00:00.000000000",
          "1989-02-01T00:00:00.000000000",
          "1989-03-01T00:00:00.000000000",
          "1989-04-01T00:00:00.000000000",
          "1989-05-01T00:00:00.000000000",
          "1989-06-01T00:00:00.000000000",
          "1989-07-01T00:00:00.000000000",
          "1989-08-01T00:00:00.000000000",
          "1989-09-01T00:00:00.000000000",
          "1989-10-01T00:00:00.000000000",
          "1989-11-01T00:00:00.000000000",
          "1989-12-01T00:00:00.000000000",
          "1990-01-01T00:00:00.000000000",
          "1990-02-01T00:00:00.000000000",
          "1990-03-01T00:00:00.000000000",
          "1990-04-01T00:00:00.000000000",
          "1990-05-01T00:00:00.000000000",
          "1990-06-01T00:00:00.000000000",
          "1990-07-01T00:00:00.000000000",
          "1990-08-01T00:00:00.000000000",
          "1990-09-01T00:00:00.000000000",
          "1990-10-01T00:00:00.000000000",
          "1990-11-01T00:00:00.000000000",
          "1990-12-01T00:00:00.000000000",
          "1991-01-01T00:00:00.000000000",
          "1991-02-01T00:00:00.000000000",
          "1991-03-01T00:00:00.000000000",
          "1991-04-01T00:00:00.000000000",
          "1991-05-01T00:00:00.000000000",
          "1991-06-01T00:00:00.000000000",
          "1991-07-01T00:00:00.000000000",
          "1991-08-01T00:00:00.000000000",
          "1991-09-01T00:00:00.000000000",
          "1991-10-01T00:00:00.000000000",
          "1991-11-01T00:00:00.000000000",
          "1991-12-01T00:00:00.000000000",
          "1992-01-01T00:00:00.000000000",
          "1992-02-01T00:00:00.000000000",
          "1992-03-01T00:00:00.000000000",
          "1992-04-01T00:00:00.000000000",
          "1992-05-01T00:00:00.000000000",
          "1992-06-01T00:00:00.000000000",
          "1992-07-01T00:00:00.000000000",
          "1992-08-01T00:00:00.000000000",
          "1992-09-01T00:00:00.000000000",
          "1992-10-01T00:00:00.000000000",
          "1992-11-01T00:00:00.000000000",
          "1992-12-01T00:00:00.000000000",
          "1993-01-01T00:00:00.000000000",
          "1993-02-01T00:00:00.000000000",
          "1993-03-01T00:00:00.000000000",
          "1993-04-01T00:00:00.000000000",
          "1993-05-01T00:00:00.000000000",
          "1993-06-01T00:00:00.000000000",
          "1993-07-01T00:00:00.000000000",
          "1993-08-01T00:00:00.000000000",
          "1993-09-01T00:00:00.000000000",
          "1993-10-01T00:00:00.000000000",
          "1993-11-01T00:00:00.000000000",
          "1993-12-01T00:00:00.000000000",
          "1994-01-01T00:00:00.000000000",
          "1994-02-01T00:00:00.000000000",
          "1994-03-01T00:00:00.000000000",
          "1994-04-01T00:00:00.000000000",
          "1994-05-01T00:00:00.000000000",
          "1994-06-01T00:00:00.000000000",
          "1994-07-01T00:00:00.000000000",
          "1994-08-01T00:00:00.000000000",
          "1994-09-01T00:00:00.000000000",
          "1994-10-01T00:00:00.000000000",
          "1994-11-01T00:00:00.000000000",
          "1994-12-01T00:00:00.000000000",
          "1995-01-01T00:00:00.000000000",
          "1995-02-01T00:00:00.000000000",
          "1995-03-01T00:00:00.000000000",
          "1995-04-01T00:00:00.000000000",
          "1995-05-01T00:00:00.000000000",
          "1995-06-01T00:00:00.000000000",
          "1995-07-01T00:00:00.000000000",
          "1995-08-01T00:00:00.000000000",
          "1995-09-01T00:00:00.000000000",
          "1995-10-01T00:00:00.000000000",
          "1995-11-01T00:00:00.000000000",
          "1995-12-01T00:00:00.000000000",
          "1996-01-01T00:00:00.000000000",
          "1996-02-01T00:00:00.000000000",
          "1996-03-01T00:00:00.000000000",
          "1996-04-01T00:00:00.000000000",
          "1996-05-01T00:00:00.000000000",
          "1996-06-01T00:00:00.000000000",
          "1996-07-01T00:00:00.000000000",
          "1996-08-01T00:00:00.000000000",
          "1996-09-01T00:00:00.000000000",
          "1996-10-01T00:00:00.000000000",
          "1996-11-01T00:00:00.000000000",
          "1996-12-01T00:00:00.000000000",
          "1997-01-01T00:00:00.000000000",
          "1997-02-01T00:00:00.000000000",
          "1997-03-01T00:00:00.000000000",
          "1997-04-01T00:00:00.000000000",
          "1997-05-01T00:00:00.000000000",
          "1997-06-01T00:00:00.000000000",
          "1997-07-01T00:00:00.000000000",
          "1997-08-01T00:00:00.000000000",
          "1997-09-01T00:00:00.000000000",
          "1997-10-01T00:00:00.000000000",
          "1997-11-01T00:00:00.000000000",
          "1997-12-01T00:00:00.000000000",
          "1998-01-01T00:00:00.000000000",
          "1998-02-01T00:00:00.000000000",
          "1998-03-01T00:00:00.000000000",
          "1998-04-01T00:00:00.000000000",
          "1998-05-01T00:00:00.000000000",
          "1998-06-01T00:00:00.000000000",
          "1998-07-01T00:00:00.000000000",
          "1998-08-01T00:00:00.000000000",
          "1998-09-01T00:00:00.000000000",
          "1998-10-01T00:00:00.000000000",
          "1998-11-01T00:00:00.000000000",
          "1998-12-01T00:00:00.000000000",
          "1999-01-01T00:00:00.000000000",
          "1999-02-01T00:00:00.000000000",
          "1999-03-01T00:00:00.000000000",
          "1999-04-01T00:00:00.000000000",
          "1999-05-01T00:00:00.000000000",
          "1999-06-01T00:00:00.000000000",
          "1999-07-01T00:00:00.000000000",
          "1999-08-01T00:00:00.000000000",
          "1999-09-01T00:00:00.000000000",
          "1999-10-01T00:00:00.000000000",
          "1999-11-01T00:00:00.000000000",
          "1999-12-01T00:00:00.000000000",
          "2000-01-01T00:00:00.000000000",
          "2000-02-01T00:00:00.000000000",
          "2000-03-01T00:00:00.000000000",
          "2000-04-01T00:00:00.000000000",
          "2000-05-01T00:00:00.000000000",
          "2000-06-01T00:00:00.000000000",
          "2000-07-01T00:00:00.000000000",
          "2000-08-01T00:00:00.000000000",
          "2000-09-01T00:00:00.000000000",
          "2000-10-01T00:00:00.000000000",
          "2000-11-01T00:00:00.000000000",
          "2000-12-01T00:00:00.000000000",
          "2001-01-01T00:00:00.000000000",
          "2001-02-01T00:00:00.000000000",
          "2001-03-01T00:00:00.000000000",
          "2001-04-01T00:00:00.000000000",
          "2001-05-01T00:00:00.000000000",
          "2001-06-01T00:00:00.000000000",
          "2001-07-01T00:00:00.000000000",
          "2001-08-01T00:00:00.000000000",
          "2001-09-01T00:00:00.000000000",
          "2001-10-01T00:00:00.000000000",
          "2001-11-01T00:00:00.000000000",
          "2001-12-01T00:00:00.000000000",
          "2002-01-01T00:00:00.000000000",
          "2002-02-01T00:00:00.000000000",
          "2002-03-01T00:00:00.000000000",
          "2002-04-01T00:00:00.000000000",
          "2002-05-01T00:00:00.000000000",
          "2002-06-01T00:00:00.000000000",
          "2002-07-01T00:00:00.000000000",
          "2002-08-01T00:00:00.000000000",
          "2002-09-01T00:00:00.000000000",
          "2002-10-01T00:00:00.000000000",
          "2002-11-01T00:00:00.000000000",
          "2002-12-01T00:00:00.000000000",
          "2003-01-01T00:00:00.000000000",
          "2003-02-01T00:00:00.000000000",
          "2003-03-01T00:00:00.000000000",
          "2003-04-01T00:00:00.000000000",
          "2003-05-01T00:00:00.000000000",
          "2003-06-01T00:00:00.000000000",
          "2003-07-01T00:00:00.000000000",
          "2003-08-01T00:00:00.000000000",
          "2003-09-01T00:00:00.000000000",
          "2003-10-01T00:00:00.000000000",
          "2003-11-01T00:00:00.000000000",
          "2003-12-01T00:00:00.000000000",
          "2004-01-01T00:00:00.000000000",
          "2004-02-01T00:00:00.000000000",
          "2004-03-01T00:00:00.000000000",
          "2004-04-01T00:00:00.000000000",
          "2004-05-01T00:00:00.000000000",
          "2004-06-01T00:00:00.000000000",
          "2004-07-01T00:00:00.000000000",
          "2004-08-01T00:00:00.000000000",
          "2004-09-01T00:00:00.000000000",
          "2004-10-01T00:00:00.000000000",
          "2004-11-01T00:00:00.000000000",
          "2004-12-01T00:00:00.000000000",
          "2005-01-01T00:00:00.000000000",
          "2005-02-01T00:00:00.000000000",
          "2005-03-01T00:00:00.000000000",
          "2005-04-01T00:00:00.000000000",
          "2005-05-01T00:00:00.000000000",
          "2005-06-01T00:00:00.000000000",
          "2005-07-01T00:00:00.000000000",
          "2005-08-01T00:00:00.000000000",
          "2005-09-01T00:00:00.000000000",
          "2005-10-01T00:00:00.000000000",
          "2005-11-01T00:00:00.000000000",
          "2005-12-01T00:00:00.000000000",
          "2006-01-01T00:00:00.000000000",
          "2006-02-01T00:00:00.000000000",
          "2006-03-01T00:00:00.000000000",
          "2006-04-01T00:00:00.000000000",
          "2006-05-01T00:00:00.000000000",
          "2006-06-01T00:00:00.000000000",
          "2006-07-01T00:00:00.000000000",
          "2006-08-01T00:00:00.000000000",
          "2006-09-01T00:00:00.000000000",
          "2006-10-01T00:00:00.000000000",
          "2006-11-01T00:00:00.000000000",
          "2006-12-01T00:00:00.000000000",
          "2007-01-01T00:00:00.000000000",
          "2007-02-01T00:00:00.000000000",
          "2007-03-01T00:00:00.000000000",
          "2007-04-01T00:00:00.000000000",
          "2007-05-01T00:00:00.000000000",
          "2007-06-01T00:00:00.000000000",
          "2007-07-01T00:00:00.000000000",
          "2007-08-01T00:00:00.000000000",
          "2007-09-01T00:00:00.000000000",
          "2007-10-01T00:00:00.000000000",
          "2007-11-01T00:00:00.000000000",
          "2007-12-01T00:00:00.000000000",
          "2008-01-01T00:00:00.000000000",
          "2008-02-01T00:00:00.000000000",
          "2008-03-01T00:00:00.000000000",
          "2008-04-01T00:00:00.000000000",
          "2008-05-01T00:00:00.000000000",
          "2008-06-01T00:00:00.000000000",
          "2008-07-01T00:00:00.000000000",
          "2008-08-01T00:00:00.000000000",
          "2008-09-01T00:00:00.000000000",
          "2008-10-01T00:00:00.000000000",
          "2008-11-01T00:00:00.000000000",
          "2008-12-01T00:00:00.000000000",
          "2009-01-01T00:00:00.000000000",
          "2009-02-01T00:00:00.000000000",
          "2009-03-01T00:00:00.000000000",
          "2009-04-01T00:00:00.000000000",
          "2009-05-01T00:00:00.000000000",
          "2009-06-01T00:00:00.000000000",
          "2009-07-01T00:00:00.000000000",
          "2009-08-01T00:00:00.000000000",
          "2009-09-01T00:00:00.000000000",
          "2009-10-01T00:00:00.000000000",
          "2009-11-01T00:00:00.000000000",
          "2009-12-01T00:00:00.000000000",
          "2010-01-01T00:00:00.000000000",
          "2010-02-01T00:00:00.000000000",
          "2010-03-01T00:00:00.000000000",
          "2010-04-01T00:00:00.000000000",
          "2010-05-01T00:00:00.000000000",
          "2010-06-01T00:00:00.000000000",
          "2010-07-01T00:00:00.000000000",
          "2010-08-01T00:00:00.000000000",
          "2010-09-01T00:00:00.000000000",
          "2010-10-01T00:00:00.000000000",
          "2010-11-01T00:00:00.000000000",
          "2010-12-01T00:00:00.000000000",
          "2011-01-01T00:00:00.000000000",
          "2011-02-01T00:00:00.000000000",
          "2011-03-01T00:00:00.000000000",
          "2011-04-01T00:00:00.000000000",
          "2011-05-01T00:00:00.000000000",
          "2011-06-01T00:00:00.000000000",
          "2011-07-01T00:00:00.000000000",
          "2011-08-01T00:00:00.000000000",
          "2011-09-01T00:00:00.000000000",
          "2011-10-01T00:00:00.000000000",
          "2011-11-01T00:00:00.000000000",
          "2011-12-01T00:00:00.000000000",
          "2012-01-01T00:00:00.000000000",
          "2012-02-01T00:00:00.000000000",
          "2012-03-01T00:00:00.000000000",
          "2012-04-01T00:00:00.000000000",
          "2012-05-01T00:00:00.000000000",
          "2012-06-01T00:00:00.000000000",
          "2012-07-01T00:00:00.000000000",
          "2012-08-01T00:00:00.000000000",
          "2012-09-01T00:00:00.000000000",
          "2012-10-01T00:00:00.000000000",
          "2012-11-01T00:00:00.000000000",
          "2012-12-01T00:00:00.000000000",
          "2013-01-01T00:00:00.000000000",
          "2013-02-01T00:00:00.000000000",
          "2013-03-01T00:00:00.000000000",
          "2013-04-01T00:00:00.000000000",
          "2013-05-01T00:00:00.000000000",
          "2013-06-01T00:00:00.000000000",
          "2013-07-01T00:00:00.000000000",
          "2013-08-01T00:00:00.000000000",
          "2013-09-01T00:00:00.000000000",
          "2013-10-01T00:00:00.000000000",
          "2013-11-01T00:00:00.000000000",
          "2013-12-01T00:00:00.000000000",
          "2014-01-01T00:00:00.000000000",
          "2014-02-01T00:00:00.000000000",
          "2014-03-01T00:00:00.000000000",
          "2014-04-01T00:00:00.000000000",
          "2014-05-01T00:00:00.000000000",
          "2014-06-01T00:00:00.000000000",
          "2014-07-01T00:00:00.000000000",
          "2014-08-01T00:00:00.000000000",
          "2014-09-01T00:00:00.000000000",
          "2014-10-01T00:00:00.000000000",
          "2014-11-01T00:00:00.000000000",
          "2014-12-01T00:00:00.000000000",
          "2015-01-01T00:00:00.000000000",
          "2015-02-01T00:00:00.000000000",
          "2015-03-01T00:00:00.000000000",
          "2015-04-01T00:00:00.000000000",
          "2015-05-01T00:00:00.000000000",
          "2015-06-01T00:00:00.000000000",
          "2015-07-01T00:00:00.000000000",
          "2015-08-01T00:00:00.000000000",
          "2015-09-01T00:00:00.000000000",
          "2015-10-01T00:00:00.000000000",
          "2015-11-01T00:00:00.000000000",
          "2015-12-01T00:00:00.000000000",
          "2016-01-01T00:00:00.000000000",
          "2016-02-01T00:00:00.000000000",
          "2016-03-01T00:00:00.000000000",
          "2016-04-01T00:00:00.000000000",
          "2016-05-01T00:00:00.000000000",
          "2016-06-01T00:00:00.000000000",
          "2016-07-01T00:00:00.000000000",
          "2016-08-01T00:00:00.000000000",
          "2016-09-01T00:00:00.000000000",
          "2016-10-01T00:00:00.000000000",
          "2016-11-01T00:00:00.000000000",
          "2016-12-01T00:00:00.000000000",
          "2017-01-01T00:00:00.000000000",
          "2017-02-01T00:00:00.000000000",
          "2017-03-01T00:00:00.000000000",
          "2017-04-01T00:00:00.000000000",
          "2017-05-01T00:00:00.000000000",
          "2017-06-01T00:00:00.000000000",
          "2017-07-01T00:00:00.000000000",
          "2017-08-01T00:00:00.000000000",
          "2017-09-01T00:00:00.000000000",
          "2017-10-01T00:00:00.000000000",
          "2017-11-01T00:00:00.000000000",
          "2017-12-01T00:00:00.000000000",
          "2018-01-01T00:00:00.000000000",
          "2018-02-01T00:00:00.000000000",
          "2018-03-01T00:00:00.000000000",
          "2018-04-01T00:00:00.000000000",
          "2018-05-01T00:00:00.000000000",
          "2018-06-01T00:00:00.000000000",
          "2018-07-01T00:00:00.000000000",
          "2018-08-01T00:00:00.000000000",
          "2018-09-01T00:00:00.000000000",
          "2018-10-01T00:00:00.000000000",
          "2018-11-01T00:00:00.000000000",
          "2018-12-01T00:00:00.000000000",
          "2019-01-01T00:00:00.000000000",
          "2019-02-01T00:00:00.000000000",
          "2019-03-01T00:00:00.000000000",
          "2019-04-01T00:00:00.000000000",
          "2019-05-01T00:00:00.000000000",
          "2019-06-01T00:00:00.000000000",
          "2019-07-01T00:00:00.000000000",
          "2019-08-01T00:00:00.000000000",
          "2019-09-01T00:00:00.000000000",
          "2019-10-01T00:00:00.000000000",
          "2019-11-01T00:00:00.000000000",
          "2019-12-01T00:00:00.000000000",
          "2020-01-01T00:00:00.000000000",
          "2020-02-01T00:00:00.000000000",
          "2020-03-01T00:00:00.000000000",
          "2020-04-01T00:00:00.000000000",
          "2020-05-01T00:00:00.000000000",
          "2020-06-01T00:00:00.000000000",
          "2020-07-01T00:00:00.000000000",
          "2020-08-01T00:00:00.000000000",
          "2020-09-01T00:00:00.000000000",
          "2020-10-01T00:00:00.000000000",
          "2020-11-01T00:00:00.000000000",
          "2020-12-01T00:00:00.000000000",
          "2021-01-01T00:00:00.000000000",
          "2021-02-01T00:00:00.000000000",
          "2021-03-01T00:00:00.000000000",
          "2021-04-01T00:00:00.000000000",
          "2021-05-01T00:00:00.000000000",
          "2021-06-01T00:00:00.000000000",
          "2021-07-01T00:00:00.000000000",
          "2021-08-01T00:00:00.000000000",
          "2021-09-01T00:00:00.000000000",
          "2021-10-01T00:00:00.000000000",
          "2021-11-01T00:00:00.000000000",
          "2021-12-01T00:00:00.000000000",
          "2022-01-01T00:00:00.000000000",
          "2022-02-01T00:00:00.000000000",
          "2022-03-01T00:00:00.000000000",
          "2022-04-01T00:00:00.000000000",
          "2022-05-01T00:00:00.000000000",
          "2022-06-01T00:00:00.000000000",
          "2022-07-01T00:00:00.000000000",
          "2022-08-01T00:00:00.000000000",
          "2022-09-01T00:00:00.000000000",
          "2022-10-01T00:00:00.000000000",
          "2022-11-01T00:00:00.000000000",
          "2022-12-01T00:00:00.000000000",
          "2023-01-01T00:00:00.000000000",
          "2023-02-01T00:00:00.000000000",
          "2023-03-01T00:00:00.000000000",
          "2023-04-01T00:00:00.000000000",
          "2023-05-01T00:00:00.000000000",
          "2023-06-01T00:00:00.000000000",
          "2023-07-01T00:00:00.000000000",
          "2023-08-01T00:00:00.000000000",
          "2023-09-01T00:00:00.000000000",
          "2023-10-01T00:00:00.000000000",
          "2023-11-01T00:00:00.000000000",
          "2023-12-01T00:00:00.000000000",
          "2024-01-01T00:00:00.000000000",
          "2024-02-01T00:00:00.000000000",
          "2024-03-01T00:00:00.000000000",
          "2024-04-01T00:00:00.000000000",
          "2024-05-01T00:00:00.000000000",
          "2024-06-01T00:00:00.000000000",
          "2024-07-01T00:00:00.000000000",
          "2024-08-01T00:00:00.000000000",
          "2024-09-01T00:00:00.000000000",
          "2024-10-01T00:00:00.000000000",
          "2024-11-01T00:00:00.000000000",
          "2024-12-01T00:00:00.000000000",
          "2025-01-01T00:00:00.000000000"
         ],
         "xaxis": "x",
         "y": {
          "bdata": "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",
          "dtype": "f8"
         },
         "yaxis": "y"
        }
       ],
       "layout": {
        "annotations": [
         {
          "align": "left",
          "bgcolor": "rgba(255, 255, 255, 0.8)",
          "bordercolor": "black",
          "borderwidth": 1,
          "font": {
           "size": 10
          },
          "showarrow": false,
          "text": "Source: Trading Economics<br>Original Source: U.S. Bureau of Economic Analysis<br>Frequency: MS<br>",
          "x": 0,
          "xanchor": "left",
          "xref": "paper",
          "y": -0.22,
          "yanchor": "bottom",
          "yref": "paper"
         }
        ],
        "legend": {
         "orientation": "h",
         "title": {
          "text": ""
         },
         "tracegroupgap": 0,
         "x": 0.5,
         "xanchor": "center",
         "y": -0.2,
         "yanchor": "bottom"
        },
        "margin": {
         "t": 60
        },
        "template": {
         "data": {
          "bar": [
           {
            "error_x": {
             "color": "#2a3f5f"
            },
            "error_y": {
             "color": "#2a3f5f"
            },
            "marker": {
             "line": {
              "color": "#E5ECF6",
              "width": 0.5
             },
             "pattern": {
              "fillmode": "overlay",
              "size": 10,
              "solidity": 0.2
             }
            },
            "type": "bar"
           }
          ],
          "barpolar": [
           {
            "marker": {
             "line": {
              "color": "#E5ECF6",
              "width": 0.5
             },
             "pattern": {
              "fillmode": "overlay",
              "size": 10,
              "solidity": 0.2
             }
            },
            "type": "barpolar"
           }
          ],
          "carpet": [
           {
            "aaxis": {
             "endlinecolor": "#2a3f5f",
             "gridcolor": "white",
             "linecolor": "white",
             "minorgridcolor": "white",
             "startlinecolor": "#2a3f5f"
            },
            "baxis": {
             "endlinecolor": "#2a3f5f",
             "gridcolor": "white",
             "linecolor": "white",
             "minorgridcolor": "white",
             "startlinecolor": "#2a3f5f"
            },
            "type": "carpet"
           }
          ],
          "choropleth": [
           {
            "colorbar": {
             "outlinewidth": 0,
             "ticks": ""
            },
            "type": "choropleth"
           }
          ],
          "contour": [
           {
            "colorbar": {
             "outlinewidth": 0,
             "ticks": ""
            },
            "colorscale": [
             [
              0,
              "#0d0887"
             ],
             [
              0.1111111111111111,
              "#46039f"
             ],
             [
              0.2222222222222222,
              "#7201a8"
             ],
             [
              0.3333333333333333,
              "#9c179e"
             ],
             [
              0.4444444444444444,
              "#bd3786"
             ],
             [
              0.5555555555555556,
              "#d8576b"
             ],
             [
              0.6666666666666666,
              "#ed7953"
             ],
             [
              0.7777777777777778,
              "#fb9f3a"
             ],
             [
              0.8888888888888888,
              "#fdca26"
             ],
             [
              1,
              "#f0f921"
             ]
            ],
            "type": "contour"
           }
          ],
          "contourcarpet": [
           {
            "colorbar": {
             "outlinewidth": 0,
             "ticks": ""
            },
            "type": "contourcarpet"
           }
          ],
          "heatmap": [
           {
            "colorbar": {
             "outlinewidth": 0,
             "ticks": ""
            },
            "colorscale": [
             [
              0,
              "#0d0887"
             ],
             [
              0.1111111111111111,
              "#46039f"
             ],
             [
              0.2222222222222222,
              "#7201a8"
             ],
             [
              0.3333333333333333,
              "#9c179e"
             ],
             [
              0.4444444444444444,
              "#bd3786"
             ],
             [
              0.5555555555555556,
              "#d8576b"
             ],
             [
              0.6666666666666666,
              "#ed7953"
             ],
             [
              0.7777777777777778,
              "#fb9f3a"
             ],
             [
              0.8888888888888888,
              "#fdca26"
             ],
             [
              1,
              "#f0f921"
             ]
            ],
            "type": "heatmap"
           }
          ],
          "histogram": [
           {
            "marker": {
             "pattern": {
              "fillmode": "overlay",
              "size": 10,
              "solidity": 0.2
             }
            },
            "type": "histogram"
           }
          ],
          "histogram2d": [
           {
            "colorbar": {
             "outlinewidth": 0,
             "ticks": ""
            },
            "colorscale": [
             [
              0,
              "#0d0887"
             ],
             [
              0.1111111111111111,
              "#46039f"
             ],
             [
              0.2222222222222222,
              "#7201a8"
             ],
             [
              0.3333333333333333,
              "#9c179e"
             ],
             [
              0.4444444444444444,
              "#bd3786"
             ],
             [
              0.5555555555555556,
              "#d8576b"
             ],
             [
              0.6666666666666666,
              "#ed7953"
             ],
             [
              0.7777777777777778,
              "#fb9f3a"
             ],
             [
              0.8888888888888888,
              "#fdca26"
             ],
             [
              1,
              "#f0f921"
             ]
            ],
            "type": "histogram2d"
           }
          ],
          "histogram2dcontour": [
           {
            "colorbar": {
             "outlinewidth": 0,
             "ticks": ""
            },
            "colorscale": [
             [
              0,
              "#0d0887"
             ],
             [
              0.1111111111111111,
              "#46039f"
             ],
             [
              0.2222222222222222,
              "#7201a8"
             ],
             [
              0.3333333333333333,
              "#9c179e"
             ],
             [
              0.4444444444444444,
              "#bd3786"
             ],
             [
              0.5555555555555556,
              "#d8576b"
             ],
             [
              0.6666666666666666,
              "#ed7953"
             ],
             [
              0.7777777777777778,
              "#fb9f3a"
             ],
             [
              0.8888888888888888,
              "#fdca26"
             ],
             [
              1,
              "#f0f921"
             ]
            ],
            "type": "histogram2dcontour"
           }
          ],
          "mesh3d": [
           {
            "colorbar": {
             "outlinewidth": 0,
             "ticks": ""
            },
            "type": "mesh3d"
           }
          ],
          "parcoords": [
           {
            "line": {
             "colorbar": {
              "outlinewidth": 0,
              "ticks": ""
             }
            },
            "type": "parcoords"
           }
          ],
          "pie": [
           {
            "automargin": true,
            "type": "pie"
           }
          ],
          "scatter": [
           {
            "fillpattern": {
             "fillmode": "overlay",
             "size": 10,
             "solidity": 0.2
            },
            "type": "scatter"
           }
          ],
          "scatter3d": [
           {
            "line": {
             "colorbar": {
              "outlinewidth": 0,
              "ticks": ""
             }
            },
            "marker": {
             "colorbar": {
              "outlinewidth": 0,
              "ticks": ""
             }
            },
            "type": "scatter3d"
           }
          ],
          "scattercarpet": [
           {
            "marker": {
             "colorbar": {
              "outlinewidth": 0,
              "ticks": ""
             }
            },
            "type": "scattercarpet"
           }
          ],
          "scattergeo": [
           {
            "marker": {
             "colorbar": {
              "outlinewidth": 0,
              "ticks": ""
             }
            },
            "type": "scattergeo"
           }
          ],
          "scattergl": [
           {
            "marker": {
             "colorbar": {
              "outlinewidth": 0,
              "ticks": ""
             }
            },
            "type": "scattergl"
           }
          ],
          "scattermap": [
           {
            "marker": {
             "colorbar": {
              "outlinewidth": 0,
              "ticks": ""
             }
            },
            "type": "scattermap"
           }
          ],
          "scattermapbox": [
           {
            "marker": {
             "colorbar": {
              "outlinewidth": 0,
              "ticks": ""
             }
            },
            "type": "scattermapbox"
           }
          ],
          "scatterpolar": [
           {
            "marker": {
             "colorbar": {
              "outlinewidth": 0,
              "ticks": ""
             }
            },
            "type": "scatterpolar"
           }
          ],
          "scatterpolargl": [
           {
            "marker": {
             "colorbar": {
              "outlinewidth": 0,
              "ticks": ""
             }
            },
            "type": "scatterpolargl"
           }
          ],
          "scatterternary": [
           {
            "marker": {
             "colorbar": {
              "outlinewidth": 0,
              "ticks": ""
             }
            },
            "type": "scatterternary"
           }
          ],
          "surface": [
           {
            "colorbar": {
             "outlinewidth": 0,
             "ticks": ""
            },
            "colorscale": [
             [
              0,
              "#0d0887"
             ],
             [
              0.1111111111111111,
              "#46039f"
             ],
             [
              0.2222222222222222,
              "#7201a8"
             ],
             [
              0.3333333333333333,
              "#9c179e"
             ],
             [
              0.4444444444444444,
              "#bd3786"
             ],
             [
              0.5555555555555556,
              "#d8576b"
             ],
             [
              0.6666666666666666,
              "#ed7953"
             ],
             [
              0.7777777777777778,
              "#fb9f3a"
             ],
             [
              0.8888888888888888,
              "#fdca26"
             ],
             [
              1,
              "#f0f921"
             ]
            ],
            "type": "surface"
           }
          ],
          "table": [
           {
            "cells": {
             "fill": {
              "color": "#EBF0F8"
             },
             "line": {
              "color": "white"
             }
            },
            "header": {
             "fill": {
              "color": "#C8D4E3"
             },
             "line": {
              "color": "white"
             }
            },
            "type": "table"
           }
          ]
         },
         "layout": {
          "annotationdefaults": {
           "arrowcolor": "#2a3f5f",
           "arrowhead": 0,
           "arrowwidth": 1
          },
          "autotypenumbers": "strict",
          "coloraxis": {
           "colorbar": {
            "outlinewidth": 0,
            "ticks": ""
           }
          },
          "colorscale": {
           "diverging": [
            [
             0,
             "#8e0152"
            ],
            [
             0.1,
             "#c51b7d"
            ],
            [
             0.2,
             "#de77ae"
            ],
            [
             0.3,
             "#f1b6da"
            ],
            [
             0.4,
             "#fde0ef"
            ],
            [
             0.5,
             "#f7f7f7"
            ],
            [
             0.6,
             "#e6f5d0"
            ],
            [
             0.7,
             "#b8e186"
            ],
            [
             0.8,
             "#7fbc41"
            ],
            [
             0.9,
             "#4d9221"
            ],
            [
             1,
             "#276419"
            ]
           ],
           "sequential": [
            [
             0,
             "#0d0887"
            ],
            [
             0.1111111111111111,
             "#46039f"
            ],
            [
             0.2222222222222222,
             "#7201a8"
            ],
            [
             0.3333333333333333,
             "#9c179e"
            ],
            [
             0.4444444444444444,
             "#bd3786"
            ],
            [
             0.5555555555555556,
             "#d8576b"
            ],
            [
             0.6666666666666666,
             "#ed7953"
            ],
            [
             0.7777777777777778,
             "#fb9f3a"
            ],
            [
             0.8888888888888888,
             "#fdca26"
            ],
            [
             1,
             "#f0f921"
            ]
           ],
           "sequentialminus": [
            [
             0,
             "#0d0887"
            ],
            [
             0.1111111111111111,
             "#46039f"
            ],
            [
             0.2222222222222222,
             "#7201a8"
            ],
            [
             0.3333333333333333,
             "#9c179e"
            ],
            [
             0.4444444444444444,
             "#bd3786"
            ],
            [
             0.5555555555555556,
             "#d8576b"
            ],
            [
             0.6666666666666666,
             "#ed7953"
            ],
            [
             0.7777777777777778,
             "#fb9f3a"
            ],
            [
             0.8888888888888888,
             "#fdca26"
            ],
            [
             1,
             "#f0f921"
            ]
           ]
          },
          "colorway": [
           "#636efa",
           "#EF553B",
           "#00cc96",
           "#ab63fa",
           "#FFA15A",
           "#19d3f3",
           "#FF6692",
           "#B6E880",
           "#FF97FF",
           "#FECB52"
          ],
          "font": {
           "color": "#2a3f5f"
          },
          "geo": {
           "bgcolor": "white",
           "lakecolor": "white",
           "landcolor": "#E5ECF6",
           "showlakes": true,
           "showland": true,
           "subunitcolor": "white"
          },
          "hoverlabel": {
           "align": "left"
          },
          "hovermode": "closest",
          "mapbox": {
           "style": "light"
          },
          "paper_bgcolor": "white",
          "plot_bgcolor": "#E5ECF6",
          "polar": {
           "angularaxis": {
            "gridcolor": "white",
            "linecolor": "white",
            "ticks": ""
           },
           "bgcolor": "#E5ECF6",
           "radialaxis": {
            "gridcolor": "white",
            "linecolor": "white",
            "ticks": ""
           }
          },
          "scene": {
           "xaxis": {
            "backgroundcolor": "#E5ECF6",
            "gridcolor": "white",
            "gridwidth": 2,
            "linecolor": "white",
            "showbackground": true,
            "ticks": "",
            "zerolinecolor": "white"
           },
           "yaxis": {
            "backgroundcolor": "#E5ECF6",
            "gridcolor": "white",
            "gridwidth": 2,
            "linecolor": "white",
            "showbackground": true,
            "ticks": "",
            "zerolinecolor": "white"
           },
           "zaxis": {
            "backgroundcolor": "#E5ECF6",
            "gridcolor": "white",
            "gridwidth": 2,
            "linecolor": "white",
            "showbackground": true,
            "ticks": "",
            "zerolinecolor": "white"
           }
          },
          "shapedefaults": {
           "line": {
            "color": "#2a3f5f"
           }
          },
          "ternary": {
           "aaxis": {
            "gridcolor": "white",
            "linecolor": "white",
            "ticks": ""
           },
           "baxis": {
            "gridcolor": "white",
            "linecolor": "white",
            "ticks": ""
           },
           "bgcolor": "#E5ECF6",
           "caxis": {
            "gridcolor": "white",
            "linecolor": "white",
            "ticks": ""
           }
          },
          "title": {
           "x": 0.05
          },
          "xaxis": {
           "automargin": true,
           "gridcolor": "white",
           "linecolor": "white",
           "ticks": "",
           "title": {
            "standoff": 15
           },
           "zerolinecolor": "white",
           "zerolinewidth": 2
          },
          "yaxis": {
           "automargin": true,
           "gridcolor": "white",
           "linecolor": "white",
           "ticks": "",
           "title": {
            "standoff": 15
           },
           "zerolinecolor": "white",
           "zerolinewidth": 2
          }
         }
        },
        "title": {
         "text": "United states: United states personal income"
        },
        "xaxis": {
         "anchor": "y",
         "domain": [
          0,
          1
         ],
         "title": {
          "text": ""
         }
        },
        "yaxis": {
         "anchor": "x",
         "domain": [
          0,
          1
         ],
         "title": {
          "text": "%"
         }
        }
       }
      }
     },
     "metadata": {},
     "output_type": "display_data"
    }
   ],
   "source": [
    "scr.plot_series(ann_box_pos=(0, -0.22))  ## Plot the series."
   ]
  },
  {
   "cell_type": "code",
   "execution_count": 33,
   "metadata": {},
   "outputs": [
    {
     "data": {
      "text/plain": [
       "{'units': '%',\n",
       " 'original_source': 'U.S. Bureau of Economic Analysis',\n",
       " 'title': 'United States Personal Income',\n",
       " 'indicator': 'personal income',\n",
       " 'country': 'united states',\n",
       " 'source': 'Trading Economics',\n",
       " 'id': 'united-states/personal-income',\n",
       " 'description': 'Personal Income refers to the income that persons receive in return for their provision of labor, land, and capital used in current production, plus current transfer receipts less contributions for government social insurance.',\n",
       " 'frequency': 'MS',\n",
       " 'unit_tooltips': '%',\n",
       " 'start_date': '1959-02-01',\n",
       " 'end_date': '2025-01-01',\n",
       " 'min_value': -12.842905405405403,\n",
       " 'max_value': 20.743243243243242,\n",
       " 'length': 792}"
      ]
     },
     "execution_count": 33,
     "metadata": {},
     "output_type": "execute_result"
    }
   ],
   "source": [
    "scr.metadata  ## View the metadata obtained."
   ]
  },
  {
   "cell_type": "code",
   "execution_count": null,
   "metadata": {},
   "outputs": [],
   "source": [
    "scr.save_plot(format=\"html\")  ## Save the plot as an interactive html file."
   ]
  },
  {
   "cell_type": "markdown",
   "metadata": {},
   "source": [
    "### Alternative scraping methods\n",
    "\n",
    "Added in v0.3.0. Get the whole series from the tooltip values using javascript. This may turn out to be the best way to do it yet I expect it will run into issues for data series with many points.This has been implemented into the ```scrape_chart``` method as ```method = \"tooltips\"```."
   ]
  },
  {
   "cell_type": "code",
   "execution_count": 34,
   "metadata": {},
   "outputs": [
    {
     "name": "stderr",
     "output_type": "stream",
     "text": [
      "INFO - Quitting 1 active webdriver instances...\n"
     ]
    },
    {
     "data": {
      "text/plain": [
       "[]"
      ]
     },
     "execution_count": 34,
     "metadata": {},
     "output_type": "execute_result"
    }
   ],
   "source": [
    "ted.find_active_drivers(quit_all=True)  ## Quit all active drivers."
   ]
  },
  {
   "cell_type": "code",
   "execution_count": 40,
   "metadata": {},
   "outputs": [
    {
     "name": "stderr",
     "output_type": "stream",
     "text": [
      "INFO - New firefox webdriver created.\n",
      "INFO - Chart types dictionary created successfully: dict_keys(['Column', 'Spline', 'Areaspline', 'Stepline', 'Line', 'Area'])\n",
      "INFO - Date span set to: 1Y\n"
     ]
    },
    {
     "data": {
      "text/plain": [
       "True"
      ]
     },
     "execution_count": 40,
     "metadata": {},
     "output_type": "execute_result"
    }
   ],
   "source": [
    "scrap = ted.TE_Scraper(use_existing_driver = False, headless = False)  ## Initialize a new TE_scraper object.\n",
    "scrap.load_page('https://tradingeconomics.com/euro-area/consumer-confidence')"
   ]
  },
  {
   "cell_type": "code",
   "execution_count": 42,
   "metadata": {},
   "outputs": [
    {
     "name": "stderr",
     "output_type": "stream",
     "text": [
      "INFO - \n",
      "Series metadata: \n",
      " {'units': 'points', 'original_source': 'European Commission', 'title': 'Euro Area Consumer Confidence', 'indicator': 'consumer confidence', 'country': 'euro area', 'source': 'Trading Economics', 'id': 'euro-area/consumer-confidence'}\n"
     ]
    }
   ],
   "source": [
    "scrap.scrape_metadata()  ## Scrape the metadata for the data series from the page."
   ]
  },
  {
   "cell_type": "markdown",
   "metadata": {},
   "source": [
    "We are using the same ```latest_points_js``` method that is used to get some of the latest data points in order to determine the series frequency. However here we let it keep going and get all of the data points from the date and values that show up on the tooltips as the cursor is dragged across the chart."
   ]
  },
  {
   "cell_type": "code",
   "execution_count": 44,
   "metadata": {},
   "outputs": [
    {
     "name": "stdout",
     "output_type": "stream",
     "text": [
      "Setting max date span using calendar...\n"
     ]
    },
    {
     "name": "stderr",
     "output_type": "stream",
     "text": [
      "INFO - Button not found or not clickable: .splineChart .dkLabels-label-btn\n",
      "INFO - Chart type set to: Spline\n",
      "INFO - Chart type set to: Spline\n",
      "INFO - Time taken to select chart type: 5.869385599857196\n",
      "INFO - Time taken to execute JS code: 10.435632599983364\n",
      "INFO - Successfully scraped full series from tooltips.\n"
     ]
    },
    {
     "data": {
      "text/plain": [
       "1985-02-01   -10.9\n",
       "1985-03-01   -11.9\n",
       "1985-04-01   -11.1\n",
       "1985-05-01   -11.5\n",
       "1985-06-01   -11.9\n",
       "              ... \n",
       "2024-09-01   -12.9\n",
       "2024-10-01   -12.5\n",
       "2024-11-01   -13.7\n",
       "2024-12-01   -14.5\n",
       "2025-01-01   -14.2\n",
       "Name: Euro Area Consumer Confidence, Length: 480, dtype: float64"
      ]
     },
     "execution_count": 44,
     "metadata": {},
     "output_type": "execute_result"
    }
   ],
   "source": [
    "scrap.full_series_fromTooltips(set_max_datespan=True)  ## Get the full series from the tooltips on the chart.\n",
    "scrap.series"
   ]
  },
  {
   "cell_type": "code",
   "execution_count": 46,
   "metadata": {},
   "outputs": [
    {
     "data": {
      "application/vnd.plotly.v1+json": {
       "config": {
        "plotlyServerURL": "https://plot.ly"
       },
       "data": [
        {
         "hovertemplate": "variable=Euro Area Consumer Confidence<br>index=%{x}<br>value=%{y}<extra></extra>",
         "legendgroup": "Euro Area Consumer Confidence",
         "line": {
          "color": "#636efa",
          "dash": "solid"
         },
         "marker": {
          "symbol": "circle"
         },
         "mode": "lines",
         "name": "Euro Area Consumer Confidence",
         "orientation": "v",
         "showlegend": true,
         "type": "scatter",
         "x": [
          "1985-02-01T00:00:00.000000000",
          "1985-03-01T00:00:00.000000000",
          "1985-04-01T00:00:00.000000000",
          "1985-05-01T00:00:00.000000000",
          "1985-06-01T00:00:00.000000000",
          "1985-07-01T00:00:00.000000000",
          "1985-08-01T00:00:00.000000000",
          "1985-09-01T00:00:00.000000000",
          "1985-10-01T00:00:00.000000000",
          "1985-11-01T00:00:00.000000000",
          "1985-12-01T00:00:00.000000000",
          "1986-01-01T00:00:00.000000000",
          "1986-02-01T00:00:00.000000000",
          "1986-03-01T00:00:00.000000000",
          "1986-04-01T00:00:00.000000000",
          "1986-05-01T00:00:00.000000000",
          "1986-06-01T00:00:00.000000000",
          "1986-07-01T00:00:00.000000000",
          "1986-08-01T00:00:00.000000000",
          "1986-09-01T00:00:00.000000000",
          "1986-10-01T00:00:00.000000000",
          "1986-11-01T00:00:00.000000000",
          "1986-12-01T00:00:00.000000000",
          "1987-01-01T00:00:00.000000000",
          "1987-02-01T00:00:00.000000000",
          "1987-03-01T00:00:00.000000000",
          "1987-04-01T00:00:00.000000000",
          "1987-05-01T00:00:00.000000000",
          "1987-06-01T00:00:00.000000000",
          "1987-07-01T00:00:00.000000000",
          "1987-08-01T00:00:00.000000000",
          "1987-09-01T00:00:00.000000000",
          "1987-10-01T00:00:00.000000000",
          "1987-11-01T00:00:00.000000000",
          "1987-12-01T00:00:00.000000000",
          "1988-01-01T00:00:00.000000000",
          "1988-02-01T00:00:00.000000000",
          "1988-03-01T00:00:00.000000000",
          "1988-04-01T00:00:00.000000000",
          "1988-05-01T00:00:00.000000000",
          "1988-06-01T00:00:00.000000000",
          "1988-07-01T00:00:00.000000000",
          "1988-08-01T00:00:00.000000000",
          "1988-09-01T00:00:00.000000000",
          "1988-10-01T00:00:00.000000000",
          "1988-11-01T00:00:00.000000000",
          "1988-12-01T00:00:00.000000000",
          "1989-01-01T00:00:00.000000000",
          "1989-02-01T00:00:00.000000000",
          "1989-03-01T00:00:00.000000000",
          "1989-04-01T00:00:00.000000000",
          "1989-05-01T00:00:00.000000000",
          "1989-06-01T00:00:00.000000000",
          "1989-07-01T00:00:00.000000000",
          "1989-08-01T00:00:00.000000000",
          "1989-09-01T00:00:00.000000000",
          "1989-10-01T00:00:00.000000000",
          "1989-11-01T00:00:00.000000000",
          "1989-12-01T00:00:00.000000000",
          "1990-01-01T00:00:00.000000000",
          "1990-02-01T00:00:00.000000000",
          "1990-03-01T00:00:00.000000000",
          "1990-04-01T00:00:00.000000000",
          "1990-05-01T00:00:00.000000000",
          "1990-06-01T00:00:00.000000000",
          "1990-07-01T00:00:00.000000000",
          "1990-08-01T00:00:00.000000000",
          "1990-09-01T00:00:00.000000000",
          "1990-10-01T00:00:00.000000000",
          "1990-11-01T00:00:00.000000000",
          "1990-12-01T00:00:00.000000000",
          "1991-01-01T00:00:00.000000000",
          "1991-02-01T00:00:00.000000000",
          "1991-03-01T00:00:00.000000000",
          "1991-04-01T00:00:00.000000000",
          "1991-05-01T00:00:00.000000000",
          "1991-06-01T00:00:00.000000000",
          "1991-07-01T00:00:00.000000000",
          "1991-08-01T00:00:00.000000000",
          "1991-09-01T00:00:00.000000000",
          "1991-10-01T00:00:00.000000000",
          "1991-11-01T00:00:00.000000000",
          "1991-12-01T00:00:00.000000000",
          "1992-01-01T00:00:00.000000000",
          "1992-02-01T00:00:00.000000000",
          "1992-03-01T00:00:00.000000000",
          "1992-04-01T00:00:00.000000000",
          "1992-05-01T00:00:00.000000000",
          "1992-06-01T00:00:00.000000000",
          "1992-07-01T00:00:00.000000000",
          "1992-08-01T00:00:00.000000000",
          "1992-09-01T00:00:00.000000000",
          "1992-10-01T00:00:00.000000000",
          "1992-11-01T00:00:00.000000000",
          "1992-12-01T00:00:00.000000000",
          "1993-01-01T00:00:00.000000000",
          "1993-02-01T00:00:00.000000000",
          "1993-03-01T00:00:00.000000000",
          "1993-04-01T00:00:00.000000000",
          "1993-05-01T00:00:00.000000000",
          "1993-06-01T00:00:00.000000000",
          "1993-07-01T00:00:00.000000000",
          "1993-08-01T00:00:00.000000000",
          "1993-09-01T00:00:00.000000000",
          "1993-10-01T00:00:00.000000000",
          "1993-11-01T00:00:00.000000000",
          "1993-12-01T00:00:00.000000000",
          "1994-01-01T00:00:00.000000000",
          "1994-02-01T00:00:00.000000000",
          "1994-03-01T00:00:00.000000000",
          "1994-04-01T00:00:00.000000000",
          "1994-05-01T00:00:00.000000000",
          "1994-06-01T00:00:00.000000000",
          "1994-07-01T00:00:00.000000000",
          "1994-08-01T00:00:00.000000000",
          "1994-09-01T00:00:00.000000000",
          "1994-10-01T00:00:00.000000000",
          "1994-11-01T00:00:00.000000000",
          "1994-12-01T00:00:00.000000000",
          "1995-01-01T00:00:00.000000000",
          "1995-02-01T00:00:00.000000000",
          "1995-03-01T00:00:00.000000000",
          "1995-04-01T00:00:00.000000000",
          "1995-05-01T00:00:00.000000000",
          "1995-06-01T00:00:00.000000000",
          "1995-07-01T00:00:00.000000000",
          "1995-08-01T00:00:00.000000000",
          "1995-09-01T00:00:00.000000000",
          "1995-10-01T00:00:00.000000000",
          "1995-11-01T00:00:00.000000000",
          "1995-12-01T00:00:00.000000000",
          "1996-01-01T00:00:00.000000000",
          "1996-02-01T00:00:00.000000000",
          "1996-03-01T00:00:00.000000000",
          "1996-04-01T00:00:00.000000000",
          "1996-05-01T00:00:00.000000000",
          "1996-06-01T00:00:00.000000000",
          "1996-07-01T00:00:00.000000000",
          "1996-08-01T00:00:00.000000000",
          "1996-09-01T00:00:00.000000000",
          "1996-10-01T00:00:00.000000000",
          "1996-11-01T00:00:00.000000000",
          "1996-12-01T00:00:00.000000000",
          "1997-01-01T00:00:00.000000000",
          "1997-02-01T00:00:00.000000000",
          "1997-03-01T00:00:00.000000000",
          "1997-04-01T00:00:00.000000000",
          "1997-05-01T00:00:00.000000000",
          "1997-06-01T00:00:00.000000000",
          "1997-07-01T00:00:00.000000000",
          "1997-08-01T00:00:00.000000000",
          "1997-09-01T00:00:00.000000000",
          "1997-10-01T00:00:00.000000000",
          "1997-11-01T00:00:00.000000000",
          "1997-12-01T00:00:00.000000000",
          "1998-01-01T00:00:00.000000000",
          "1998-02-01T00:00:00.000000000",
          "1998-03-01T00:00:00.000000000",
          "1998-04-01T00:00:00.000000000",
          "1998-05-01T00:00:00.000000000",
          "1998-06-01T00:00:00.000000000",
          "1998-07-01T00:00:00.000000000",
          "1998-08-01T00:00:00.000000000",
          "1998-09-01T00:00:00.000000000",
          "1998-10-01T00:00:00.000000000",
          "1998-11-01T00:00:00.000000000",
          "1998-12-01T00:00:00.000000000",
          "1999-01-01T00:00:00.000000000",
          "1999-02-01T00:00:00.000000000",
          "1999-03-01T00:00:00.000000000",
          "1999-04-01T00:00:00.000000000",
          "1999-05-01T00:00:00.000000000",
          "1999-06-01T00:00:00.000000000",
          "1999-07-01T00:00:00.000000000",
          "1999-08-01T00:00:00.000000000",
          "1999-09-01T00:00:00.000000000",
          "1999-10-01T00:00:00.000000000",
          "1999-11-01T00:00:00.000000000",
          "1999-12-01T00:00:00.000000000",
          "2000-01-01T00:00:00.000000000",
          "2000-02-01T00:00:00.000000000",
          "2000-03-01T00:00:00.000000000",
          "2000-04-01T00:00:00.000000000",
          "2000-05-01T00:00:00.000000000",
          "2000-06-01T00:00:00.000000000",
          "2000-07-01T00:00:00.000000000",
          "2000-08-01T00:00:00.000000000",
          "2000-09-01T00:00:00.000000000",
          "2000-10-01T00:00:00.000000000",
          "2000-11-01T00:00:00.000000000",
          "2000-12-01T00:00:00.000000000",
          "2001-01-01T00:00:00.000000000",
          "2001-02-01T00:00:00.000000000",
          "2001-03-01T00:00:00.000000000",
          "2001-04-01T00:00:00.000000000",
          "2001-05-01T00:00:00.000000000",
          "2001-06-01T00:00:00.000000000",
          "2001-07-01T00:00:00.000000000",
          "2001-08-01T00:00:00.000000000",
          "2001-09-01T00:00:00.000000000",
          "2001-10-01T00:00:00.000000000",
          "2001-11-01T00:00:00.000000000",
          "2001-12-01T00:00:00.000000000",
          "2002-01-01T00:00:00.000000000",
          "2002-02-01T00:00:00.000000000",
          "2002-03-01T00:00:00.000000000",
          "2002-04-01T00:00:00.000000000",
          "2002-05-01T00:00:00.000000000",
          "2002-06-01T00:00:00.000000000",
          "2002-07-01T00:00:00.000000000",
          "2002-08-01T00:00:00.000000000",
          "2002-09-01T00:00:00.000000000",
          "2002-10-01T00:00:00.000000000",
          "2002-11-01T00:00:00.000000000",
          "2002-12-01T00:00:00.000000000",
          "2003-01-01T00:00:00.000000000",
          "2003-02-01T00:00:00.000000000",
          "2003-03-01T00:00:00.000000000",
          "2003-04-01T00:00:00.000000000",
          "2003-05-01T00:00:00.000000000",
          "2003-06-01T00:00:00.000000000",
          "2003-07-01T00:00:00.000000000",
          "2003-08-01T00:00:00.000000000",
          "2003-09-01T00:00:00.000000000",
          "2003-10-01T00:00:00.000000000",
          "2003-11-01T00:00:00.000000000",
          "2003-12-01T00:00:00.000000000",
          "2004-01-01T00:00:00.000000000",
          "2004-02-01T00:00:00.000000000",
          "2004-03-01T00:00:00.000000000",
          "2004-04-01T00:00:00.000000000",
          "2004-05-01T00:00:00.000000000",
          "2004-06-01T00:00:00.000000000",
          "2004-07-01T00:00:00.000000000",
          "2004-08-01T00:00:00.000000000",
          "2004-09-01T00:00:00.000000000",
          "2004-10-01T00:00:00.000000000",
          "2004-11-01T00:00:00.000000000",
          "2004-12-01T00:00:00.000000000",
          "2005-01-01T00:00:00.000000000",
          "2005-02-01T00:00:00.000000000",
          "2005-03-01T00:00:00.000000000",
          "2005-04-01T00:00:00.000000000",
          "2005-05-01T00:00:00.000000000",
          "2005-06-01T00:00:00.000000000",
          "2005-07-01T00:00:00.000000000",
          "2005-08-01T00:00:00.000000000",
          "2005-09-01T00:00:00.000000000",
          "2005-10-01T00:00:00.000000000",
          "2005-11-01T00:00:00.000000000",
          "2005-12-01T00:00:00.000000000",
          "2006-01-01T00:00:00.000000000",
          "2006-02-01T00:00:00.000000000",
          "2006-03-01T00:00:00.000000000",
          "2006-04-01T00:00:00.000000000",
          "2006-05-01T00:00:00.000000000",
          "2006-06-01T00:00:00.000000000",
          "2006-07-01T00:00:00.000000000",
          "2006-08-01T00:00:00.000000000",
          "2006-09-01T00:00:00.000000000",
          "2006-10-01T00:00:00.000000000",
          "2006-11-01T00:00:00.000000000",
          "2006-12-01T00:00:00.000000000",
          "2007-01-01T00:00:00.000000000",
          "2007-02-01T00:00:00.000000000",
          "2007-03-01T00:00:00.000000000",
          "2007-04-01T00:00:00.000000000",
          "2007-05-01T00:00:00.000000000",
          "2007-06-01T00:00:00.000000000",
          "2007-07-01T00:00:00.000000000",
          "2007-08-01T00:00:00.000000000",
          "2007-09-01T00:00:00.000000000",
          "2007-10-01T00:00:00.000000000",
          "2007-11-01T00:00:00.000000000",
          "2007-12-01T00:00:00.000000000",
          "2008-01-01T00:00:00.000000000",
          "2008-02-01T00:00:00.000000000",
          "2008-03-01T00:00:00.000000000",
          "2008-04-01T00:00:00.000000000",
          "2008-05-01T00:00:00.000000000",
          "2008-06-01T00:00:00.000000000",
          "2008-07-01T00:00:00.000000000",
          "2008-08-01T00:00:00.000000000",
          "2008-09-01T00:00:00.000000000",
          "2008-10-01T00:00:00.000000000",
          "2008-11-01T00:00:00.000000000",
          "2008-12-01T00:00:00.000000000",
          "2009-01-01T00:00:00.000000000",
          "2009-02-01T00:00:00.000000000",
          "2009-03-01T00:00:00.000000000",
          "2009-04-01T00:00:00.000000000",
          "2009-05-01T00:00:00.000000000",
          "2009-06-01T00:00:00.000000000",
          "2009-07-01T00:00:00.000000000",
          "2009-08-01T00:00:00.000000000",
          "2009-09-01T00:00:00.000000000",
          "2009-10-01T00:00:00.000000000",
          "2009-11-01T00:00:00.000000000",
          "2009-12-01T00:00:00.000000000",
          "2010-01-01T00:00:00.000000000",
          "2010-02-01T00:00:00.000000000",
          "2010-03-01T00:00:00.000000000",
          "2010-04-01T00:00:00.000000000",
          "2010-05-01T00:00:00.000000000",
          "2010-06-01T00:00:00.000000000",
          "2010-07-01T00:00:00.000000000",
          "2010-08-01T00:00:00.000000000",
          "2010-09-01T00:00:00.000000000",
          "2010-10-01T00:00:00.000000000",
          "2010-11-01T00:00:00.000000000",
          "2010-12-01T00:00:00.000000000",
          "2011-01-01T00:00:00.000000000",
          "2011-02-01T00:00:00.000000000",
          "2011-03-01T00:00:00.000000000",
          "2011-04-01T00:00:00.000000000",
          "2011-05-01T00:00:00.000000000",
          "2011-06-01T00:00:00.000000000",
          "2011-07-01T00:00:00.000000000",
          "2011-08-01T00:00:00.000000000",
          "2011-09-01T00:00:00.000000000",
          "2011-10-01T00:00:00.000000000",
          "2011-11-01T00:00:00.000000000",
          "2011-12-01T00:00:00.000000000",
          "2012-01-01T00:00:00.000000000",
          "2012-02-01T00:00:00.000000000",
          "2012-03-01T00:00:00.000000000",
          "2012-04-01T00:00:00.000000000",
          "2012-05-01T00:00:00.000000000",
          "2012-06-01T00:00:00.000000000",
          "2012-07-01T00:00:00.000000000",
          "2012-08-01T00:00:00.000000000",
          "2012-09-01T00:00:00.000000000",
          "2012-10-01T00:00:00.000000000",
          "2012-11-01T00:00:00.000000000",
          "2012-12-01T00:00:00.000000000",
          "2013-01-01T00:00:00.000000000",
          "2013-02-01T00:00:00.000000000",
          "2013-03-01T00:00:00.000000000",
          "2013-04-01T00:00:00.000000000",
          "2013-05-01T00:00:00.000000000",
          "2013-06-01T00:00:00.000000000",
          "2013-07-01T00:00:00.000000000",
          "2013-08-01T00:00:00.000000000",
          "2013-09-01T00:00:00.000000000",
          "2013-10-01T00:00:00.000000000",
          "2013-11-01T00:00:00.000000000",
          "2013-12-01T00:00:00.000000000",
          "2014-01-01T00:00:00.000000000",
          "2014-02-01T00:00:00.000000000",
          "2014-03-01T00:00:00.000000000",
          "2014-04-01T00:00:00.000000000",
          "2014-05-01T00:00:00.000000000",
          "2014-06-01T00:00:00.000000000",
          "2014-07-01T00:00:00.000000000",
          "2014-08-01T00:00:00.000000000",
          "2014-09-01T00:00:00.000000000",
          "2014-10-01T00:00:00.000000000",
          "2014-11-01T00:00:00.000000000",
          "2014-12-01T00:00:00.000000000",
          "2015-01-01T00:00:00.000000000",
          "2015-02-01T00:00:00.000000000",
          "2015-03-01T00:00:00.000000000",
          "2015-04-01T00:00:00.000000000",
          "2015-05-01T00:00:00.000000000",
          "2015-06-01T00:00:00.000000000",
          "2015-07-01T00:00:00.000000000",
          "2015-08-01T00:00:00.000000000",
          "2015-09-01T00:00:00.000000000",
          "2015-10-01T00:00:00.000000000",
          "2015-11-01T00:00:00.000000000",
          "2015-12-01T00:00:00.000000000",
          "2016-01-01T00:00:00.000000000",
          "2016-02-01T00:00:00.000000000",
          "2016-03-01T00:00:00.000000000",
          "2016-04-01T00:00:00.000000000",
          "2016-05-01T00:00:00.000000000",
          "2016-06-01T00:00:00.000000000",
          "2016-07-01T00:00:00.000000000",
          "2016-08-01T00:00:00.000000000",
          "2016-09-01T00:00:00.000000000",
          "2016-10-01T00:00:00.000000000",
          "2016-11-01T00:00:00.000000000",
          "2016-12-01T00:00:00.000000000",
          "2017-01-01T00:00:00.000000000",
          "2017-02-01T00:00:00.000000000",
          "2017-03-01T00:00:00.000000000",
          "2017-04-01T00:00:00.000000000",
          "2017-05-01T00:00:00.000000000",
          "2017-06-01T00:00:00.000000000",
          "2017-07-01T00:00:00.000000000",
          "2017-08-01T00:00:00.000000000",
          "2017-09-01T00:00:00.000000000",
          "2017-10-01T00:00:00.000000000",
          "2017-11-01T00:00:00.000000000",
          "2017-12-01T00:00:00.000000000",
          "2018-01-01T00:00:00.000000000",
          "2018-02-01T00:00:00.000000000",
          "2018-03-01T00:00:00.000000000",
          "2018-04-01T00:00:00.000000000",
          "2018-05-01T00:00:00.000000000",
          "2018-06-01T00:00:00.000000000",
          "2018-07-01T00:00:00.000000000",
          "2018-08-01T00:00:00.000000000",
          "2018-09-01T00:00:00.000000000",
          "2018-10-01T00:00:00.000000000",
          "2018-11-01T00:00:00.000000000",
          "2018-12-01T00:00:00.000000000",
          "2019-01-01T00:00:00.000000000",
          "2019-02-01T00:00:00.000000000",
          "2019-03-01T00:00:00.000000000",
          "2019-04-01T00:00:00.000000000",
          "2019-05-01T00:00:00.000000000",
          "2019-06-01T00:00:00.000000000",
          "2019-07-01T00:00:00.000000000",
          "2019-08-01T00:00:00.000000000",
          "2019-09-01T00:00:00.000000000",
          "2019-10-01T00:00:00.000000000",
          "2019-11-01T00:00:00.000000000",
          "2019-12-01T00:00:00.000000000",
          "2020-01-01T00:00:00.000000000",
          "2020-02-01T00:00:00.000000000",
          "2020-03-01T00:00:00.000000000",
          "2020-04-01T00:00:00.000000000",
          "2020-05-01T00:00:00.000000000",
          "2020-06-01T00:00:00.000000000",
          "2020-07-01T00:00:00.000000000",
          "2020-08-01T00:00:00.000000000",
          "2020-09-01T00:00:00.000000000",
          "2020-10-01T00:00:00.000000000",
          "2020-11-01T00:00:00.000000000",
          "2020-12-01T00:00:00.000000000",
          "2021-01-01T00:00:00.000000000",
          "2021-02-01T00:00:00.000000000",
          "2021-03-01T00:00:00.000000000",
          "2021-04-01T00:00:00.000000000",
          "2021-05-01T00:00:00.000000000",
          "2021-06-01T00:00:00.000000000",
          "2021-07-01T00:00:00.000000000",
          "2021-08-01T00:00:00.000000000",
          "2021-09-01T00:00:00.000000000",
          "2021-10-01T00:00:00.000000000",
          "2021-11-01T00:00:00.000000000",
          "2021-12-01T00:00:00.000000000",
          "2022-01-01T00:00:00.000000000",
          "2022-02-01T00:00:00.000000000",
          "2022-03-01T00:00:00.000000000",
          "2022-04-01T00:00:00.000000000",
          "2022-05-01T00:00:00.000000000",
          "2022-06-01T00:00:00.000000000",
          "2022-07-01T00:00:00.000000000",
          "2022-08-01T00:00:00.000000000",
          "2022-09-01T00:00:00.000000000",
          "2022-10-01T00:00:00.000000000",
          "2022-11-01T00:00:00.000000000",
          "2022-12-01T00:00:00.000000000",
          "2023-01-01T00:00:00.000000000",
          "2023-02-01T00:00:00.000000000",
          "2023-03-01T00:00:00.000000000",
          "2023-04-01T00:00:00.000000000",
          "2023-05-01T00:00:00.000000000",
          "2023-06-01T00:00:00.000000000",
          "2023-07-01T00:00:00.000000000",
          "2023-08-01T00:00:00.000000000",
          "2023-09-01T00:00:00.000000000",
          "2023-10-01T00:00:00.000000000",
          "2023-11-01T00:00:00.000000000",
          "2023-12-01T00:00:00.000000000",
          "2024-01-01T00:00:00.000000000",
          "2024-02-01T00:00:00.000000000",
          "2024-03-01T00:00:00.000000000",
          "2024-04-01T00:00:00.000000000",
          "2024-05-01T00:00:00.000000000",
          "2024-06-01T00:00:00.000000000",
          "2024-07-01T00:00:00.000000000",
          "2024-08-01T00:00:00.000000000",
          "2024-09-01T00:00:00.000000000",
          "2024-10-01T00:00:00.000000000",
          "2024-11-01T00:00:00.000000000",
          "2024-12-01T00:00:00.000000000",
          "2025-01-01T00:00:00.000000000"
         ],
         "xaxis": "x",
         "y": {
          "bdata": "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",
          "dtype": "f8"
         },
         "yaxis": "y"
        }
       ],
       "layout": {
        "annotations": [
         {
          "align": "left",
          "bgcolor": "rgba(255, 255, 255, 0.8)",
          "bordercolor": "black",
          "borderwidth": 1,
          "font": {
           "size": 10
          },
          "showarrow": false,
          "text": "Source: Trading Economics<br>Original Source: European Commission<br>Frequency: MS<br>",
          "x": 0,
          "xanchor": "left",
          "xref": "paper",
          "y": -0.22,
          "yanchor": "bottom",
          "yref": "paper"
         }
        ],
        "legend": {
         "orientation": "h",
         "title": {
          "text": ""
         },
         "tracegroupgap": 0,
         "x": 0.5,
         "xanchor": "center",
         "y": -0.2,
         "yanchor": "bottom"
        },
        "margin": {
         "t": 60
        },
        "template": {
         "data": {
          "bar": [
           {
            "error_x": {
             "color": "#2a3f5f"
            },
            "error_y": {
             "color": "#2a3f5f"
            },
            "marker": {
             "line": {
              "color": "#E5ECF6",
              "width": 0.5
             },
             "pattern": {
              "fillmode": "overlay",
              "size": 10,
              "solidity": 0.2
             }
            },
            "type": "bar"
           }
          ],
          "barpolar": [
           {
            "marker": {
             "line": {
              "color": "#E5ECF6",
              "width": 0.5
             },
             "pattern": {
              "fillmode": "overlay",
              "size": 10,
              "solidity": 0.2
             }
            },
            "type": "barpolar"
           }
          ],
          "carpet": [
           {
            "aaxis": {
             "endlinecolor": "#2a3f5f",
             "gridcolor": "white",
             "linecolor": "white",
             "minorgridcolor": "white",
             "startlinecolor": "#2a3f5f"
            },
            "baxis": {
             "endlinecolor": "#2a3f5f",
             "gridcolor": "white",
             "linecolor": "white",
             "minorgridcolor": "white",
             "startlinecolor": "#2a3f5f"
            },
            "type": "carpet"
           }
          ],
          "choropleth": [
           {
            "colorbar": {
             "outlinewidth": 0,
             "ticks": ""
            },
            "type": "choropleth"
           }
          ],
          "contour": [
           {
            "colorbar": {
             "outlinewidth": 0,
             "ticks": ""
            },
            "colorscale": [
             [
              0,
              "#0d0887"
             ],
             [
              0.1111111111111111,
              "#46039f"
             ],
             [
              0.2222222222222222,
              "#7201a8"
             ],
             [
              0.3333333333333333,
              "#9c179e"
             ],
             [
              0.4444444444444444,
              "#bd3786"
             ],
             [
              0.5555555555555556,
              "#d8576b"
             ],
             [
              0.6666666666666666,
              "#ed7953"
             ],
             [
              0.7777777777777778,
              "#fb9f3a"
             ],
             [
              0.8888888888888888,
              "#fdca26"
             ],
             [
              1,
              "#f0f921"
             ]
            ],
            "type": "contour"
           }
          ],
          "contourcarpet": [
           {
            "colorbar": {
             "outlinewidth": 0,
             "ticks": ""
            },
            "type": "contourcarpet"
           }
          ],
          "heatmap": [
           {
            "colorbar": {
             "outlinewidth": 0,
             "ticks": ""
            },
            "colorscale": [
             [
              0,
              "#0d0887"
             ],
             [
              0.1111111111111111,
              "#46039f"
             ],
             [
              0.2222222222222222,
              "#7201a8"
             ],
             [
              0.3333333333333333,
              "#9c179e"
             ],
             [
              0.4444444444444444,
              "#bd3786"
             ],
             [
              0.5555555555555556,
              "#d8576b"
             ],
             [
              0.6666666666666666,
              "#ed7953"
             ],
             [
              0.7777777777777778,
              "#fb9f3a"
             ],
             [
              0.8888888888888888,
              "#fdca26"
             ],
             [
              1,
              "#f0f921"
             ]
            ],
            "type": "heatmap"
           }
          ],
          "histogram": [
           {
            "marker": {
             "pattern": {
              "fillmode": "overlay",
              "size": 10,
              "solidity": 0.2
             }
            },
            "type": "histogram"
           }
          ],
          "histogram2d": [
           {
            "colorbar": {
             "outlinewidth": 0,
             "ticks": ""
            },
            "colorscale": [
             [
              0,
              "#0d0887"
             ],
             [
              0.1111111111111111,
              "#46039f"
             ],
             [
              0.2222222222222222,
              "#7201a8"
             ],
             [
              0.3333333333333333,
              "#9c179e"
             ],
             [
              0.4444444444444444,
              "#bd3786"
             ],
             [
              0.5555555555555556,
              "#d8576b"
             ],
             [
              0.6666666666666666,
              "#ed7953"
             ],
             [
              0.7777777777777778,
              "#fb9f3a"
             ],
             [
              0.8888888888888888,
              "#fdca26"
             ],
             [
              1,
              "#f0f921"
             ]
            ],
            "type": "histogram2d"
           }
          ],
          "histogram2dcontour": [
           {
            "colorbar": {
             "outlinewidth": 0,
             "ticks": ""
            },
            "colorscale": [
             [
              0,
              "#0d0887"
             ],
             [
              0.1111111111111111,
              "#46039f"
             ],
             [
              0.2222222222222222,
              "#7201a8"
             ],
             [
              0.3333333333333333,
              "#9c179e"
             ],
             [
              0.4444444444444444,
              "#bd3786"
             ],
             [
              0.5555555555555556,
              "#d8576b"
             ],
             [
              0.6666666666666666,
              "#ed7953"
             ],
             [
              0.7777777777777778,
              "#fb9f3a"
             ],
             [
              0.8888888888888888,
              "#fdca26"
             ],
             [
              1,
              "#f0f921"
             ]
            ],
            "type": "histogram2dcontour"
           }
          ],
          "mesh3d": [
           {
            "colorbar": {
             "outlinewidth": 0,
             "ticks": ""
            },
            "type": "mesh3d"
           }
          ],
          "parcoords": [
           {
            "line": {
             "colorbar": {
              "outlinewidth": 0,
              "ticks": ""
             }
            },
            "type": "parcoords"
           }
          ],
          "pie": [
           {
            "automargin": true,
            "type": "pie"
           }
          ],
          "scatter": [
           {
            "fillpattern": {
             "fillmode": "overlay",
             "size": 10,
             "solidity": 0.2
            },
            "type": "scatter"
           }
          ],
          "scatter3d": [
           {
            "line": {
             "colorbar": {
              "outlinewidth": 0,
              "ticks": ""
             }
            },
            "marker": {
             "colorbar": {
              "outlinewidth": 0,
              "ticks": ""
             }
            },
            "type": "scatter3d"
           }
          ],
          "scattercarpet": [
           {
            "marker": {
             "colorbar": {
              "outlinewidth": 0,
              "ticks": ""
             }
            },
            "type": "scattercarpet"
           }
          ],
          "scattergeo": [
           {
            "marker": {
             "colorbar": {
              "outlinewidth": 0,
              "ticks": ""
             }
            },
            "type": "scattergeo"
           }
          ],
          "scattergl": [
           {
            "marker": {
             "colorbar": {
              "outlinewidth": 0,
              "ticks": ""
             }
            },
            "type": "scattergl"
           }
          ],
          "scattermap": [
           {
            "marker": {
             "colorbar": {
              "outlinewidth": 0,
              "ticks": ""
             }
            },
            "type": "scattermap"
           }
          ],
          "scattermapbox": [
           {
            "marker": {
             "colorbar": {
              "outlinewidth": 0,
              "ticks": ""
             }
            },
            "type": "scattermapbox"
           }
          ],
          "scatterpolar": [
           {
            "marker": {
             "colorbar": {
              "outlinewidth": 0,
              "ticks": ""
             }
            },
            "type": "scatterpolar"
           }
          ],
          "scatterpolargl": [
           {
            "marker": {
             "colorbar": {
              "outlinewidth": 0,
              "ticks": ""
             }
            },
            "type": "scatterpolargl"
           }
          ],
          "scatterternary": [
           {
            "marker": {
             "colorbar": {
              "outlinewidth": 0,
              "ticks": ""
             }
            },
            "type": "scatterternary"
           }
          ],
          "surface": [
           {
            "colorbar": {
             "outlinewidth": 0,
             "ticks": ""
            },
            "colorscale": [
             [
              0,
              "#0d0887"
             ],
             [
              0.1111111111111111,
              "#46039f"
             ],
             [
              0.2222222222222222,
              "#7201a8"
             ],
             [
              0.3333333333333333,
              "#9c179e"
             ],
             [
              0.4444444444444444,
              "#bd3786"
             ],
             [
              0.5555555555555556,
              "#d8576b"
             ],
             [
              0.6666666666666666,
              "#ed7953"
             ],
             [
              0.7777777777777778,
              "#fb9f3a"
             ],
             [
              0.8888888888888888,
              "#fdca26"
             ],
             [
              1,
              "#f0f921"
             ]
            ],
            "type": "surface"
           }
          ],
          "table": [
           {
            "cells": {
             "fill": {
              "color": "#EBF0F8"
             },
             "line": {
              "color": "white"
             }
            },
            "header": {
             "fill": {
              "color": "#C8D4E3"
             },
             "line": {
              "color": "white"
             }
            },
            "type": "table"
           }
          ]
         },
         "layout": {
          "annotationdefaults": {
           "arrowcolor": "#2a3f5f",
           "arrowhead": 0,
           "arrowwidth": 1
          },
          "autotypenumbers": "strict",
          "coloraxis": {
           "colorbar": {
            "outlinewidth": 0,
            "ticks": ""
           }
          },
          "colorscale": {
           "diverging": [
            [
             0,
             "#8e0152"
            ],
            [
             0.1,
             "#c51b7d"
            ],
            [
             0.2,
             "#de77ae"
            ],
            [
             0.3,
             "#f1b6da"
            ],
            [
             0.4,
             "#fde0ef"
            ],
            [
             0.5,
             "#f7f7f7"
            ],
            [
             0.6,
             "#e6f5d0"
            ],
            [
             0.7,
             "#b8e186"
            ],
            [
             0.8,
             "#7fbc41"
            ],
            [
             0.9,
             "#4d9221"
            ],
            [
             1,
             "#276419"
            ]
           ],
           "sequential": [
            [
             0,
             "#0d0887"
            ],
            [
             0.1111111111111111,
             "#46039f"
            ],
            [
             0.2222222222222222,
             "#7201a8"
            ],
            [
             0.3333333333333333,
             "#9c179e"
            ],
            [
             0.4444444444444444,
             "#bd3786"
            ],
            [
             0.5555555555555556,
             "#d8576b"
            ],
            [
             0.6666666666666666,
             "#ed7953"
            ],
            [
             0.7777777777777778,
             "#fb9f3a"
            ],
            [
             0.8888888888888888,
             "#fdca26"
            ],
            [
             1,
             "#f0f921"
            ]
           ],
           "sequentialminus": [
            [
             0,
             "#0d0887"
            ],
            [
             0.1111111111111111,
             "#46039f"
            ],
            [
             0.2222222222222222,
             "#7201a8"
            ],
            [
             0.3333333333333333,
             "#9c179e"
            ],
            [
             0.4444444444444444,
             "#bd3786"
            ],
            [
             0.5555555555555556,
             "#d8576b"
            ],
            [
             0.6666666666666666,
             "#ed7953"
            ],
            [
             0.7777777777777778,
             "#fb9f3a"
            ],
            [
             0.8888888888888888,
             "#fdca26"
            ],
            [
             1,
             "#f0f921"
            ]
           ]
          },
          "colorway": [
           "#636efa",
           "#EF553B",
           "#00cc96",
           "#ab63fa",
           "#FFA15A",
           "#19d3f3",
           "#FF6692",
           "#B6E880",
           "#FF97FF",
           "#FECB52"
          ],
          "font": {
           "color": "#2a3f5f"
          },
          "geo": {
           "bgcolor": "white",
           "lakecolor": "white",
           "landcolor": "#E5ECF6",
           "showlakes": true,
           "showland": true,
           "subunitcolor": "white"
          },
          "hoverlabel": {
           "align": "left"
          },
          "hovermode": "closest",
          "mapbox": {
           "style": "light"
          },
          "paper_bgcolor": "white",
          "plot_bgcolor": "#E5ECF6",
          "polar": {
           "angularaxis": {
            "gridcolor": "white",
            "linecolor": "white",
            "ticks": ""
           },
           "bgcolor": "#E5ECF6",
           "radialaxis": {
            "gridcolor": "white",
            "linecolor": "white",
            "ticks": ""
           }
          },
          "scene": {
           "xaxis": {
            "backgroundcolor": "#E5ECF6",
            "gridcolor": "white",
            "gridwidth": 2,
            "linecolor": "white",
            "showbackground": true,
            "ticks": "",
            "zerolinecolor": "white"
           },
           "yaxis": {
            "backgroundcolor": "#E5ECF6",
            "gridcolor": "white",
            "gridwidth": 2,
            "linecolor": "white",
            "showbackground": true,
            "ticks": "",
            "zerolinecolor": "white"
           },
           "zaxis": {
            "backgroundcolor": "#E5ECF6",
            "gridcolor": "white",
            "gridwidth": 2,
            "linecolor": "white",
            "showbackground": true,
            "ticks": "",
            "zerolinecolor": "white"
           }
          },
          "shapedefaults": {
           "line": {
            "color": "#2a3f5f"
           }
          },
          "ternary": {
           "aaxis": {
            "gridcolor": "white",
            "linecolor": "white",
            "ticks": ""
           },
           "baxis": {
            "gridcolor": "white",
            "linecolor": "white",
            "ticks": ""
           },
           "bgcolor": "#E5ECF6",
           "caxis": {
            "gridcolor": "white",
            "linecolor": "white",
            "ticks": ""
           }
          },
          "title": {
           "x": 0.05
          },
          "xaxis": {
           "automargin": true,
           "gridcolor": "white",
           "linecolor": "white",
           "ticks": "",
           "title": {
            "standoff": 15
           },
           "zerolinecolor": "white",
           "zerolinewidth": 2
          },
          "yaxis": {
           "automargin": true,
           "gridcolor": "white",
           "linecolor": "white",
           "ticks": "",
           "title": {
            "standoff": 15
           },
           "zerolinecolor": "white",
           "zerolinewidth": 2
          }
         }
        },
        "title": {
         "text": "Euro area: Euro area consumer confidence"
        },
        "xaxis": {
         "anchor": "y",
         "domain": [
          0,
          1
         ],
         "title": {
          "text": ""
         }
        },
        "yaxis": {
         "anchor": "x",
         "domain": [
          0,
          1
         ],
         "title": {
          "text": "Points"
         }
        }
       }
      }
     },
     "metadata": {},
     "output_type": "display_data"
    }
   ],
   "source": [
    "scrap.plot_series(ann_box_pos=(0, -0.22))  ## Plot the series specifying ths series as the on to plot rather than the series attribute of the TE_Scraper."
   ]
  },
  {
   "cell_type": "markdown",
   "metadata": {},
   "source": [
    "- The alternative method has now been implemented as an option in ```scrape_chart``` function. Use method = \"tooltips\" to use it. Take care as it will miss some points if the history is long and the total datapoints are many. This does indeed miss some datapoints if there are many. \n",
    "- If points have been missed you will see frequency: \"Unknown/irregular\". \n",
    "- A new method \"mixed\" has now been implemented which is the slowest of all yet manages to capture all points from the tooltips using multiple runs at it. That should be the highest accuracy method. \n",
    "- **Note:** *Some series on Trading Economics only show dates in the tooltips and not values, these methods will not work for those series. Use \"path\" instead.*"
   ]
  },
  {
   "cell_type": "markdown",
   "metadata": {},
   "source": [
    "## Get series from tooltips in a single line"
   ]
  },
  {
   "cell_type": "code",
   "execution_count": 43,
   "metadata": {},
   "outputs": [
    {
     "name": "stderr",
     "output_type": "stream",
     "text": [
      "INFO - New firefox webdriver created.\n",
      "INFO - scrape_chart function: Scraping chart at: https://tradingeconomics.com/euro-area/gdp-growth-annual, time: 2025-03-04 15:50:53.117429, method: tooltips\n",
      "INFO - Chart types dictionary created successfully: dict_keys(['Column', 'Spline', 'Areaspline', 'Stepline', 'Line', 'Area'])\n",
      "INFO - Date span set to: 3Y\n",
      "INFO - \n",
      "Series metadata: \n",
      " {'units': '%', 'original_source': 'EUROSTAT', 'title': 'Euro Area GDP Annual Growth Rate', 'indicator': 'gdp growth annual', 'country': 'euro area', 'source': 'Trading Economics', 'id': 'euro-area/gdp-growth-annual'}\n",
      "INFO - TooltipScraper object initialised successfully.\n",
      "INFO - Chart type set to: Spline\n",
      "INFO - Chart type set to: Spline\n",
      "INFO - Time taken to select chart type: 2.6183587999548763\n",
      "INFO - Time taken to execute JS code: 10.425249899970368\n",
      "INFO - Successfully scraped full series from tooltips.\n",
      "INFO - Successfully scraped full series from tooltips.\n"
     ]
    }
   ],
   "source": [
    "scro = ted.scrape_chart(country=\"euro-area\", id = \"gdp-growth-annual\", method = \"tooltips\", use_existing_driver=False, headless=False) ## Using chart id from the url only, country is \"united-states\" by default."
   ]
  },
  {
   "cell_type": "code",
   "execution_count": 38,
   "metadata": {},
   "outputs": [
    {
     "data": {
      "application/vnd.plotly.v1+json": {
       "config": {
        "plotlyServerURL": "https://plot.ly"
       },
       "data": [
        {
         "hovertemplate": "variable=Euro Area GDP Annual Growth Rate<br>index=%{x}<br>value=%{y}<extra></extra>",
         "legendgroup": "Euro Area GDP Annual Growth Rate",
         "line": {
          "color": "#636efa",
          "dash": "solid"
         },
         "marker": {
          "symbol": "circle"
         },
         "mode": "lines",
         "name": "Euro Area GDP Annual Growth Rate",
         "orientation": "v",
         "showlegend": true,
         "type": "scatter",
         "x": [
          "1995-01-01T00:00:00.000000000",
          "1995-04-01T00:00:00.000000000",
          "1995-07-01T00:00:00.000000000",
          "1995-10-01T00:00:00.000000000",
          "1996-01-01T00:00:00.000000000",
          "1996-04-01T00:00:00.000000000",
          "1996-07-01T00:00:00.000000000",
          "1996-10-01T00:00:00.000000000",
          "1997-01-01T00:00:00.000000000",
          "1997-04-01T00:00:00.000000000",
          "1997-07-01T00:00:00.000000000",
          "1997-10-01T00:00:00.000000000",
          "1998-01-01T00:00:00.000000000",
          "1998-04-01T00:00:00.000000000",
          "1998-07-01T00:00:00.000000000",
          "1998-10-01T00:00:00.000000000",
          "1999-01-01T00:00:00.000000000",
          "1999-04-01T00:00:00.000000000",
          "1999-07-01T00:00:00.000000000",
          "1999-10-01T00:00:00.000000000",
          "2000-01-01T00:00:00.000000000",
          "2000-04-01T00:00:00.000000000",
          "2000-07-01T00:00:00.000000000",
          "2000-10-01T00:00:00.000000000",
          "2001-01-01T00:00:00.000000000",
          "2001-04-01T00:00:00.000000000",
          "2001-07-01T00:00:00.000000000",
          "2001-10-01T00:00:00.000000000",
          "2002-01-01T00:00:00.000000000",
          "2002-04-01T00:00:00.000000000",
          "2002-07-01T00:00:00.000000000",
          "2002-10-01T00:00:00.000000000",
          "2003-01-01T00:00:00.000000000",
          "2003-04-01T00:00:00.000000000",
          "2003-07-01T00:00:00.000000000",
          "2003-10-01T00:00:00.000000000",
          "2004-01-01T00:00:00.000000000",
          "2004-04-01T00:00:00.000000000",
          "2004-07-01T00:00:00.000000000",
          "2004-10-01T00:00:00.000000000",
          "2005-01-01T00:00:00.000000000",
          "2005-04-01T00:00:00.000000000",
          "2005-07-01T00:00:00.000000000",
          "2005-10-01T00:00:00.000000000",
          "2006-01-01T00:00:00.000000000",
          "2006-04-01T00:00:00.000000000",
          "2006-07-01T00:00:00.000000000",
          "2006-10-01T00:00:00.000000000",
          "2007-01-01T00:00:00.000000000",
          "2007-04-01T00:00:00.000000000",
          "2007-07-01T00:00:00.000000000",
          "2007-10-01T00:00:00.000000000",
          "2008-01-01T00:00:00.000000000",
          "2008-04-01T00:00:00.000000000",
          "2008-07-01T00:00:00.000000000",
          "2008-10-01T00:00:00.000000000",
          "2009-01-01T00:00:00.000000000",
          "2009-04-01T00:00:00.000000000",
          "2009-07-01T00:00:00.000000000",
          "2009-10-01T00:00:00.000000000",
          "2010-01-01T00:00:00.000000000",
          "2010-04-01T00:00:00.000000000",
          "2010-07-01T00:00:00.000000000",
          "2010-10-01T00:00:00.000000000",
          "2011-01-01T00:00:00.000000000",
          "2011-04-01T00:00:00.000000000",
          "2011-07-01T00:00:00.000000000",
          "2011-10-01T00:00:00.000000000",
          "2012-01-01T00:00:00.000000000",
          "2012-04-01T00:00:00.000000000",
          "2012-07-01T00:00:00.000000000",
          "2012-10-01T00:00:00.000000000",
          "2013-01-01T00:00:00.000000000",
          "2013-04-01T00:00:00.000000000",
          "2013-07-01T00:00:00.000000000",
          "2013-10-01T00:00:00.000000000",
          "2014-01-01T00:00:00.000000000",
          "2014-04-01T00:00:00.000000000",
          "2014-07-01T00:00:00.000000000",
          "2014-10-01T00:00:00.000000000",
          "2015-01-01T00:00:00.000000000",
          "2015-04-01T00:00:00.000000000",
          "2015-07-01T00:00:00.000000000",
          "2015-10-01T00:00:00.000000000",
          "2016-01-01T00:00:00.000000000",
          "2016-04-01T00:00:00.000000000",
          "2016-07-01T00:00:00.000000000",
          "2016-10-01T00:00:00.000000000",
          "2017-01-01T00:00:00.000000000",
          "2017-04-01T00:00:00.000000000",
          "2017-07-01T00:00:00.000000000",
          "2017-10-01T00:00:00.000000000",
          "2018-01-01T00:00:00.000000000",
          "2018-04-01T00:00:00.000000000",
          "2018-07-01T00:00:00.000000000",
          "2018-10-01T00:00:00.000000000",
          "2019-01-01T00:00:00.000000000",
          "2019-04-01T00:00:00.000000000",
          "2019-07-01T00:00:00.000000000",
          "2019-10-01T00:00:00.000000000",
          "2020-01-01T00:00:00.000000000",
          "2020-04-01T00:00:00.000000000",
          "2020-07-01T00:00:00.000000000",
          "2020-10-01T00:00:00.000000000",
          "2021-01-01T00:00:00.000000000",
          "2021-04-01T00:00:00.000000000",
          "2021-07-01T00:00:00.000000000",
          "2021-10-01T00:00:00.000000000",
          "2022-01-01T00:00:00.000000000",
          "2022-04-01T00:00:00.000000000",
          "2022-07-01T00:00:00.000000000",
          "2022-10-01T00:00:00.000000000",
          "2023-01-01T00:00:00.000000000",
          "2023-04-01T00:00:00.000000000",
          "2023-07-01T00:00:00.000000000",
          "2023-10-01T00:00:00.000000000",
          "2024-01-01T00:00:00.000000000",
          "2024-04-01T00:00:00.000000000",
          "2024-07-01T00:00:00.000000000",
          "2024-10-01T00:00:00.000000000"
         ],
         "xaxis": "x",
         "y": {
          "bdata": "AAAAAAAAFECamZmZmZkTQJqZmZmZmRFAZmZmZmZmDkBmZmZmZmb2P2ZmZmZmZvY/mpmZmZmZ+T8AAAAAAAAAQM3MzMzMzABAAAAAAAAABEBmZmZmZmYGQGZmZmZmZgpAmpmZmZmZDUAzMzMzMzMHQJqZmZmZmQVAZmZmZmZm/j9mZmZmZmYCQGZmZmZmZgJAmpmZmZmZCUAAAAAAAAAQQM3MzMzMzBBAzczMzMzMEkAzMzMzMzMPQGZmZmZmZgpAmpmZmZmZCUBmZmZmZmYCQM3MzMzMzPw/zczMzMzM9D+amZmZmZnZP5qZmZmZmek/AAAAAAAA8D/NzMzMzMz0P5qZmZmZmek/MzMzMzMz0z8AAAAAAADgPwAAAAAAAPA/zczMzMzM/D8zMzMzMzMDQAAAAAAAAABAzczMzMzM/D8AAAAAAAD4PwAAAAAAAPg/AAAAAAAAAEBmZmZmZmYCQAAAAAAAAAhAAAAAAAAADECamZmZmZkJQJqZmZmZmQ1AAAAAAAAADEAAAAAAAAAIQDMzMzMzMwdAmpmZmZmZAUCamZmZmZkBQAAAAAAAAPA/mpmZmZmZuT/NzMzMzMwAwGZmZmZmZhbAZmZmZmZmFMAzMzMzMzMRwJqZmZmZmQHAzczMzMzM9D+amZmZmZkBQJqZmZmZmQFAMzMzMzMzA0AzMzMzMzMHQAAAAAAAAABAmpmZmZmZ+T9mZmZmZmbmPwAAAAAAAOC/zczMzMzM7L+amZmZmZnxvzMzMzMzM/O/zczMzMzM9L8zMzMzMzPTv5qZmZmZmck/zczMzMzM7D8zMzMzMzP7PzMzMzMzM/M/ZmZmZmZm9j8AAAAAAAD4P2ZmZmZmZv4/zczMzMzMAEAAAAAAAAAAQM3MzMzMzABAZmZmZmZm/j+amZmZmZn5PzMzMzMzM/s/ZmZmZmZm/j+amZmZmZkBQJqZmZmZmQVAAAAAAAAACEDNzMzMzMwIQGZmZmZmZgJAzczMzMzMAEBmZmZmZmb2PzMzMzMzM/M/zczMzMzM/D8zMzMzMzP7P83MzMzMzPw/MzMzMzMz8z9mZmZmZmYGwM3MzMzMzCvAZmZmZmZmEMBmZmZmZmYOwJqZmZmZmck/ZmZmZmZmLkBmZmZmZmYUQAAAAAAAABZAAAAAAAAAFkBmZmZmZmYQQGZmZmZmZgZAAAAAAAAAAEBmZmZmZmb2PzMzMzMzM+M/AAAAAAAAAACamZmZmZm5P5qZmZmZmdk/AAAAAAAA4D/NzMzMzMzsP83MzMzMzOw/",
          "dtype": "f8"
         },
         "yaxis": "y"
        }
       ],
       "layout": {
        "annotations": [
         {
          "align": "left",
          "bgcolor": "rgba(255, 255, 255, 0.8)",
          "bordercolor": "black",
          "borderwidth": 1,
          "font": {
           "size": 10
          },
          "showarrow": false,
          "text": "Source: Trading Economics<br>Original Source: EUROSTAT<br>Frequency: QS-OCT<br>",
          "x": 0,
          "xanchor": "left",
          "xref": "paper",
          "y": -0.2,
          "yanchor": "bottom",
          "yref": "paper"
         }
        ],
        "legend": {
         "orientation": "h",
         "title": {
          "text": ""
         },
         "tracegroupgap": 0,
         "x": 0.5,
         "xanchor": "center",
         "y": -0.2,
         "yanchor": "bottom"
        },
        "margin": {
         "t": 60
        },
        "template": {
         "data": {
          "bar": [
           {
            "error_x": {
             "color": "#2a3f5f"
            },
            "error_y": {
             "color": "#2a3f5f"
            },
            "marker": {
             "line": {
              "color": "#E5ECF6",
              "width": 0.5
             },
             "pattern": {
              "fillmode": "overlay",
              "size": 10,
              "solidity": 0.2
             }
            },
            "type": "bar"
           }
          ],
          "barpolar": [
           {
            "marker": {
             "line": {
              "color": "#E5ECF6",
              "width": 0.5
             },
             "pattern": {
              "fillmode": "overlay",
              "size": 10,
              "solidity": 0.2
             }
            },
            "type": "barpolar"
           }
          ],
          "carpet": [
           {
            "aaxis": {
             "endlinecolor": "#2a3f5f",
             "gridcolor": "white",
             "linecolor": "white",
             "minorgridcolor": "white",
             "startlinecolor": "#2a3f5f"
            },
            "baxis": {
             "endlinecolor": "#2a3f5f",
             "gridcolor": "white",
             "linecolor": "white",
             "minorgridcolor": "white",
             "startlinecolor": "#2a3f5f"
            },
            "type": "carpet"
           }
          ],
          "choropleth": [
           {
            "colorbar": {
             "outlinewidth": 0,
             "ticks": ""
            },
            "type": "choropleth"
           }
          ],
          "contour": [
           {
            "colorbar": {
             "outlinewidth": 0,
             "ticks": ""
            },
            "colorscale": [
             [
              0,
              "#0d0887"
             ],
             [
              0.1111111111111111,
              "#46039f"
             ],
             [
              0.2222222222222222,
              "#7201a8"
             ],
             [
              0.3333333333333333,
              "#9c179e"
             ],
             [
              0.4444444444444444,
              "#bd3786"
             ],
             [
              0.5555555555555556,
              "#d8576b"
             ],
             [
              0.6666666666666666,
              "#ed7953"
             ],
             [
              0.7777777777777778,
              "#fb9f3a"
             ],
             [
              0.8888888888888888,
              "#fdca26"
             ],
             [
              1,
              "#f0f921"
             ]
            ],
            "type": "contour"
           }
          ],
          "contourcarpet": [
           {
            "colorbar": {
             "outlinewidth": 0,
             "ticks": ""
            },
            "type": "contourcarpet"
           }
          ],
          "heatmap": [
           {
            "colorbar": {
             "outlinewidth": 0,
             "ticks": ""
            },
            "colorscale": [
             [
              0,
              "#0d0887"
             ],
             [
              0.1111111111111111,
              "#46039f"
             ],
             [
              0.2222222222222222,
              "#7201a8"
             ],
             [
              0.3333333333333333,
              "#9c179e"
             ],
             [
              0.4444444444444444,
              "#bd3786"
             ],
             [
              0.5555555555555556,
              "#d8576b"
             ],
             [
              0.6666666666666666,
              "#ed7953"
             ],
             [
              0.7777777777777778,
              "#fb9f3a"
             ],
             [
              0.8888888888888888,
              "#fdca26"
             ],
             [
              1,
              "#f0f921"
             ]
            ],
            "type": "heatmap"
           }
          ],
          "histogram": [
           {
            "marker": {
             "pattern": {
              "fillmode": "overlay",
              "size": 10,
              "solidity": 0.2
             }
            },
            "type": "histogram"
           }
          ],
          "histogram2d": [
           {
            "colorbar": {
             "outlinewidth": 0,
             "ticks": ""
            },
            "colorscale": [
             [
              0,
              "#0d0887"
             ],
             [
              0.1111111111111111,
              "#46039f"
             ],
             [
              0.2222222222222222,
              "#7201a8"
             ],
             [
              0.3333333333333333,
              "#9c179e"
             ],
             [
              0.4444444444444444,
              "#bd3786"
             ],
             [
              0.5555555555555556,
              "#d8576b"
             ],
             [
              0.6666666666666666,
              "#ed7953"
             ],
             [
              0.7777777777777778,
              "#fb9f3a"
             ],
             [
              0.8888888888888888,
              "#fdca26"
             ],
             [
              1,
              "#f0f921"
             ]
            ],
            "type": "histogram2d"
           }
          ],
          "histogram2dcontour": [
           {
            "colorbar": {
             "outlinewidth": 0,
             "ticks": ""
            },
            "colorscale": [
             [
              0,
              "#0d0887"
             ],
             [
              0.1111111111111111,
              "#46039f"
             ],
             [
              0.2222222222222222,
              "#7201a8"
             ],
             [
              0.3333333333333333,
              "#9c179e"
             ],
             [
              0.4444444444444444,
              "#bd3786"
             ],
             [
              0.5555555555555556,
              "#d8576b"
             ],
             [
              0.6666666666666666,
              "#ed7953"
             ],
             [
              0.7777777777777778,
              "#fb9f3a"
             ],
             [
              0.8888888888888888,
              "#fdca26"
             ],
             [
              1,
              "#f0f921"
             ]
            ],
            "type": "histogram2dcontour"
           }
          ],
          "mesh3d": [
           {
            "colorbar": {
             "outlinewidth": 0,
             "ticks": ""
            },
            "type": "mesh3d"
           }
          ],
          "parcoords": [
           {
            "line": {
             "colorbar": {
              "outlinewidth": 0,
              "ticks": ""
             }
            },
            "type": "parcoords"
           }
          ],
          "pie": [
           {
            "automargin": true,
            "type": "pie"
           }
          ],
          "scatter": [
           {
            "fillpattern": {
             "fillmode": "overlay",
             "size": 10,
             "solidity": 0.2
            },
            "type": "scatter"
           }
          ],
          "scatter3d": [
           {
            "line": {
             "colorbar": {
              "outlinewidth": 0,
              "ticks": ""
             }
            },
            "marker": {
             "colorbar": {
              "outlinewidth": 0,
              "ticks": ""
             }
            },
            "type": "scatter3d"
           }
          ],
          "scattercarpet": [
           {
            "marker": {
             "colorbar": {
              "outlinewidth": 0,
              "ticks": ""
             }
            },
            "type": "scattercarpet"
           }
          ],
          "scattergeo": [
           {
            "marker": {
             "colorbar": {
              "outlinewidth": 0,
              "ticks": ""
             }
            },
            "type": "scattergeo"
           }
          ],
          "scattergl": [
           {
            "marker": {
             "colorbar": {
              "outlinewidth": 0,
              "ticks": ""
             }
            },
            "type": "scattergl"
           }
          ],
          "scattermap": [
           {
            "marker": {
             "colorbar": {
              "outlinewidth": 0,
              "ticks": ""
             }
            },
            "type": "scattermap"
           }
          ],
          "scattermapbox": [
           {
            "marker": {
             "colorbar": {
              "outlinewidth": 0,
              "ticks": ""
             }
            },
            "type": "scattermapbox"
           }
          ],
          "scatterpolar": [
           {
            "marker": {
             "colorbar": {
              "outlinewidth": 0,
              "ticks": ""
             }
            },
            "type": "scatterpolar"
           }
          ],
          "scatterpolargl": [
           {
            "marker": {
             "colorbar": {
              "outlinewidth": 0,
              "ticks": ""
             }
            },
            "type": "scatterpolargl"
           }
          ],
          "scatterternary": [
           {
            "marker": {
             "colorbar": {
              "outlinewidth": 0,
              "ticks": ""
             }
            },
            "type": "scatterternary"
           }
          ],
          "surface": [
           {
            "colorbar": {
             "outlinewidth": 0,
             "ticks": ""
            },
            "colorscale": [
             [
              0,
              "#0d0887"
             ],
             [
              0.1111111111111111,
              "#46039f"
             ],
             [
              0.2222222222222222,
              "#7201a8"
             ],
             [
              0.3333333333333333,
              "#9c179e"
             ],
             [
              0.4444444444444444,
              "#bd3786"
             ],
             [
              0.5555555555555556,
              "#d8576b"
             ],
             [
              0.6666666666666666,
              "#ed7953"
             ],
             [
              0.7777777777777778,
              "#fb9f3a"
             ],
             [
              0.8888888888888888,
              "#fdca26"
             ],
             [
              1,
              "#f0f921"
             ]
            ],
            "type": "surface"
           }
          ],
          "table": [
           {
            "cells": {
             "fill": {
              "color": "#EBF0F8"
             },
             "line": {
              "color": "white"
             }
            },
            "header": {
             "fill": {
              "color": "#C8D4E3"
             },
             "line": {
              "color": "white"
             }
            },
            "type": "table"
           }
          ]
         },
         "layout": {
          "annotationdefaults": {
           "arrowcolor": "#2a3f5f",
           "arrowhead": 0,
           "arrowwidth": 1
          },
          "autotypenumbers": "strict",
          "coloraxis": {
           "colorbar": {
            "outlinewidth": 0,
            "ticks": ""
           }
          },
          "colorscale": {
           "diverging": [
            [
             0,
             "#8e0152"
            ],
            [
             0.1,
             "#c51b7d"
            ],
            [
             0.2,
             "#de77ae"
            ],
            [
             0.3,
             "#f1b6da"
            ],
            [
             0.4,
             "#fde0ef"
            ],
            [
             0.5,
             "#f7f7f7"
            ],
            [
             0.6,
             "#e6f5d0"
            ],
            [
             0.7,
             "#b8e186"
            ],
            [
             0.8,
             "#7fbc41"
            ],
            [
             0.9,
             "#4d9221"
            ],
            [
             1,
             "#276419"
            ]
           ],
           "sequential": [
            [
             0,
             "#0d0887"
            ],
            [
             0.1111111111111111,
             "#46039f"
            ],
            [
             0.2222222222222222,
             "#7201a8"
            ],
            [
             0.3333333333333333,
             "#9c179e"
            ],
            [
             0.4444444444444444,
             "#bd3786"
            ],
            [
             0.5555555555555556,
             "#d8576b"
            ],
            [
             0.6666666666666666,
             "#ed7953"
            ],
            [
             0.7777777777777778,
             "#fb9f3a"
            ],
            [
             0.8888888888888888,
             "#fdca26"
            ],
            [
             1,
             "#f0f921"
            ]
           ],
           "sequentialminus": [
            [
             0,
             "#0d0887"
            ],
            [
             0.1111111111111111,
             "#46039f"
            ],
            [
             0.2222222222222222,
             "#7201a8"
            ],
            [
             0.3333333333333333,
             "#9c179e"
            ],
            [
             0.4444444444444444,
             "#bd3786"
            ],
            [
             0.5555555555555556,
             "#d8576b"
            ],
            [
             0.6666666666666666,
             "#ed7953"
            ],
            [
             0.7777777777777778,
             "#fb9f3a"
            ],
            [
             0.8888888888888888,
             "#fdca26"
            ],
            [
             1,
             "#f0f921"
            ]
           ]
          },
          "colorway": [
           "#636efa",
           "#EF553B",
           "#00cc96",
           "#ab63fa",
           "#FFA15A",
           "#19d3f3",
           "#FF6692",
           "#B6E880",
           "#FF97FF",
           "#FECB52"
          ],
          "font": {
           "color": "#2a3f5f"
          },
          "geo": {
           "bgcolor": "white",
           "lakecolor": "white",
           "landcolor": "#E5ECF6",
           "showlakes": true,
           "showland": true,
           "subunitcolor": "white"
          },
          "hoverlabel": {
           "align": "left"
          },
          "hovermode": "closest",
          "mapbox": {
           "style": "light"
          },
          "paper_bgcolor": "white",
          "plot_bgcolor": "#E5ECF6",
          "polar": {
           "angularaxis": {
            "gridcolor": "white",
            "linecolor": "white",
            "ticks": ""
           },
           "bgcolor": "#E5ECF6",
           "radialaxis": {
            "gridcolor": "white",
            "linecolor": "white",
            "ticks": ""
           }
          },
          "scene": {
           "xaxis": {
            "backgroundcolor": "#E5ECF6",
            "gridcolor": "white",
            "gridwidth": 2,
            "linecolor": "white",
            "showbackground": true,
            "ticks": "",
            "zerolinecolor": "white"
           },
           "yaxis": {
            "backgroundcolor": "#E5ECF6",
            "gridcolor": "white",
            "gridwidth": 2,
            "linecolor": "white",
            "showbackground": true,
            "ticks": "",
            "zerolinecolor": "white"
           },
           "zaxis": {
            "backgroundcolor": "#E5ECF6",
            "gridcolor": "white",
            "gridwidth": 2,
            "linecolor": "white",
            "showbackground": true,
            "ticks": "",
            "zerolinecolor": "white"
           }
          },
          "shapedefaults": {
           "line": {
            "color": "#2a3f5f"
           }
          },
          "ternary": {
           "aaxis": {
            "gridcolor": "white",
            "linecolor": "white",
            "ticks": ""
           },
           "baxis": {
            "gridcolor": "white",
            "linecolor": "white",
            "ticks": ""
           },
           "bgcolor": "#E5ECF6",
           "caxis": {
            "gridcolor": "white",
            "linecolor": "white",
            "ticks": ""
           }
          },
          "title": {
           "x": 0.05
          },
          "xaxis": {
           "automargin": true,
           "gridcolor": "white",
           "linecolor": "white",
           "ticks": "",
           "title": {
            "standoff": 15
           },
           "zerolinecolor": "white",
           "zerolinewidth": 2
          },
          "yaxis": {
           "automargin": true,
           "gridcolor": "white",
           "linecolor": "white",
           "ticks": "",
           "title": {
            "standoff": 15
           },
           "zerolinecolor": "white",
           "zerolinewidth": 2
          }
         }
        },
        "title": {
         "text": "Euro area: Euro area gdp annual growth rate"
        },
        "xaxis": {
         "anchor": "y",
         "domain": [
          0,
          1
         ],
         "title": {
          "text": ""
         }
        },
        "yaxis": {
         "anchor": "x",
         "domain": [
          0,
          1
         ],
         "title": {
          "text": "%"
         }
        }
       }
      }
     },
     "metadata": {},
     "output_type": "display_data"
    }
   ],
   "source": [
    "scro.plot_series()  ## Plot the series."
   ]
  },
  {
   "cell_type": "markdown",
   "metadata": {},
   "source": [
    "## Here we have the ultimate high accuracy, high time required method\n",
    "This method is selected using ```method = \"mixed\"``` keyword argument of the ```scrape_chart``` function. This first determines the start & end dates for the full series, calculates frequency and makes the x_index. It then uses multiple runs of the tooltip scraping method to get all of the data at the highest accuracy."
   ]
  },
  {
   "cell_type": "code",
   "execution_count": 46,
   "metadata": {},
   "outputs": [
    {
     "name": "stderr",
     "output_type": "stream",
     "text": [
      "INFO - Quitting 3 active webdriver instances...\n"
     ]
    },
    {
     "data": {
      "text/plain": [
       "[]"
      ]
     },
     "execution_count": 46,
     "metadata": {},
     "output_type": "execute_result"
    }
   ],
   "source": [
    "ted.find_active_drivers(quit_all=True)  ## Quit all active drivers."
   ]
  },
  {
   "cell_type": "code",
   "execution_count": 51,
   "metadata": {},
   "outputs": [
    {
     "name": "stderr",
     "output_type": "stream",
     "text": [
      "INFO - New firefox webdriver created.\n",
      "INFO - scrape_chart function: Scraping chart at: https://tradingeconomics.com/united-states/existing-home-sales, time: 2025-03-04 18:04:34.942437, method: mixed\n",
      "INFO - Chart types dictionary created successfully: dict_keys(['Column', 'Spline', 'Areaspline', 'Stepline', 'Line', 'Area'])\n",
      "INFO - Date span set to: 1Y\n",
      "INFO - \n",
      "Series metadata: \n",
      " {'units': 'Thousand', 'original_source': 'National Association of Realtors', 'title': 'United States Existing Home Sales', 'indicator': 'existing home sales', 'country': 'united states', 'source': 'Trading Economics', 'id': 'united-states/existing-home-sales'}\n"
     ]
    },
    {
     "name": "stdout",
     "output_type": "stream",
     "text": [
      "Using selenium and tooltip scraping to construct the date time index for the time-series, this'll take a bit...\n"
     ]
    },
    {
     "name": "stderr",
     "output_type": "stream",
     "text": [
      "INFO - Chart type set to: Spline\n",
      "INFO - Time taken to select chart type: 2.63505159993656\n",
      "INFO - Time taken to execute JS code: 2.903238099999726\n"
     ]
    },
    {
     "name": "stdout",
     "output_type": "stream",
     "text": [
      "Frequency of time-series:  MS\n",
      "get_xlims_from_tooltips method: date_span:  1Y , chart_type: splineChart\n"
     ]
    },
    {
     "name": "stderr",
     "output_type": "stream",
     "text": [
      "INFO - Chart type set to: Spline\n"
     ]
    },
    {
     "name": "stdout",
     "output_type": "stream",
     "text": [
      "Got chart dimensions and plot background element.\n"
     ]
    },
    {
     "name": "stderr",
     "output_type": "stream",
     "text": [
      "INFO - Start and end values scraped from tooltips: \n",
      "{'start_date': Timestamp('1968-01-01 00:00:00'), 'start_value': 1420.0, 'unit_str': 'Thousand', 'end_date': Timestamp('2025-01-01 00:00:00'), 'end_value': 4080.0}\n",
      "INFO - DateTimeIndex created successfully for the time-series.\n",
      "INFO -  Using mixed scraping approach, slowest, highest accuracy. Splitting x_index into subIndexes        Total points: 685, Max chunk size: 450, Number of chunks: 2, remainder: 1\n",
      "INFO - x_index Start date: 1968-01-01 00:00:00, End date: 2025-01-01 00:00:00\n",
      "INFO - SubIndex 0: 342 points, from 1968-01-01 00:00:00 to 1996-06-01 00:00:00, frequency: MS\n"
     ]
    },
    {
     "name": "stdout",
     "output_type": "stream",
     "text": [
      "Start and end dates scraped from tooltips:  {'start_date': Timestamp('1968-01-01 00:00:00'), 'start_value': 1420.0, 'unit_str': 'Thousand', 'end_date': Timestamp('2025-01-01 00:00:00'), 'end_value': 4080.0}\n"
     ]
    },
    {
     "name": "stderr",
     "output_type": "stream",
     "text": [
      "INFO - Button not found or not clickable: .splineChart .dkLabels-label-btn\n",
      "INFO - Chart type set to: Spline\n",
      "INFO - Time taken to select chart type: 12.343775399960577\n",
      "INFO - Time taken to execute JS code: 10.265207699965686\n",
      "INFO - SubIndex 1: 343 points, from 1996-07-01 00:00:00 to 2025-01-01 00:00:00, frequency: MS\n",
      "INFO - Chart type set to: Spline\n",
      "INFO - Time taken to select chart type: 2.7345014999154955\n",
      "INFO - Time taken to execute JS code: 10.222741300007328\n",
      "INFO - Successfully scraped full series from tooltips.\n",
      "INFO - Successfully scraped full series using mixed method.\n"
     ]
    }
   ],
   "source": [
    "scrup = ted.scrape_chart(id = \"existing-home-sales\", method = \"mixed\", use_existing_driver=False, headless=True) ## Using chart id from the url only, country is \"united-states\" by default."
   ]
  },
  {
   "cell_type": "code",
   "execution_count": 52,
   "metadata": {},
   "outputs": [
    {
     "data": {
      "text/plain": [
       "1968-01-01    1420.0\n",
       "1968-02-01    1500.0\n",
       "1968-03-01    1550.0\n",
       "1968-04-01    1470.0\n",
       "1968-05-01    1510.0\n",
       "               ...  \n",
       "2024-09-01    3830.0\n",
       "2024-10-01    3960.0\n",
       "2024-11-01    4150.0\n",
       "2024-12-01    4290.0\n",
       "2025-01-01    4080.0\n",
       "Name: United States Existing Home Sales, Length: 682, dtype: float64"
      ]
     },
     "execution_count": 52,
     "metadata": {},
     "output_type": "execute_result"
    }
   ],
   "source": [
    "scrup.series"
   ]
  },
  {
   "cell_type": "code",
   "execution_count": 53,
   "metadata": {},
   "outputs": [
    {
     "data": {
      "application/vnd.plotly.v1+json": {
       "config": {
        "plotlyServerURL": "https://plot.ly"
       },
       "data": [
        {
         "hovertemplate": "variable=United States Existing Home Sales<br>index=%{x}<br>value=%{y}<extra></extra>",
         "legendgroup": "United States Existing Home Sales",
         "line": {
          "color": "#636efa",
          "dash": "solid"
         },
         "marker": {
          "symbol": "circle"
         },
         "mode": "lines",
         "name": "United States Existing Home Sales",
         "orientation": "v",
         "showlegend": true,
         "type": "scatter",
         "x": [
          "1968-01-01T00:00:00.000000000",
          "1968-02-01T00:00:00.000000000",
          "1968-03-01T00:00:00.000000000",
          "1968-04-01T00:00:00.000000000",
          "1968-05-01T00:00:00.000000000",
          "1968-06-01T00:00:00.000000000",
          "1968-07-01T00:00:00.000000000",
          "1968-08-01T00:00:00.000000000",
          "1968-09-01T00:00:00.000000000",
          "1968-10-01T00:00:00.000000000",
          "1968-11-01T00:00:00.000000000",
          "1968-12-01T00:00:00.000000000",
          "1969-01-01T00:00:00.000000000",
          "1969-02-01T00:00:00.000000000",
          "1969-03-01T00:00:00.000000000",
          "1969-04-01T00:00:00.000000000",
          "1969-05-01T00:00:00.000000000",
          "1969-06-01T00:00:00.000000000",
          "1969-07-01T00:00:00.000000000",
          "1969-08-01T00:00:00.000000000",
          "1969-09-01T00:00:00.000000000",
          "1969-10-01T00:00:00.000000000",
          "1969-11-01T00:00:00.000000000",
          "1969-12-01T00:00:00.000000000",
          "1970-01-01T00:00:00.000000000",
          "1970-02-01T00:00:00.000000000",
          "1970-03-01T00:00:00.000000000",
          "1970-04-01T00:00:00.000000000",
          "1970-05-01T00:00:00.000000000",
          "1970-06-01T00:00:00.000000000",
          "1970-07-01T00:00:00.000000000",
          "1970-08-01T00:00:00.000000000",
          "1970-09-01T00:00:00.000000000",
          "1970-10-01T00:00:00.000000000",
          "1970-11-01T00:00:00.000000000",
          "1970-12-01T00:00:00.000000000",
          "1971-01-01T00:00:00.000000000",
          "1971-02-01T00:00:00.000000000",
          "1971-03-01T00:00:00.000000000",
          "1971-04-01T00:00:00.000000000",
          "1971-05-01T00:00:00.000000000",
          "1971-06-01T00:00:00.000000000",
          "1971-07-01T00:00:00.000000000",
          "1971-08-01T00:00:00.000000000",
          "1971-09-01T00:00:00.000000000",
          "1971-10-01T00:00:00.000000000",
          "1971-11-01T00:00:00.000000000",
          "1971-12-01T00:00:00.000000000",
          "1972-01-01T00:00:00.000000000",
          "1972-02-01T00:00:00.000000000",
          "1972-03-01T00:00:00.000000000",
          "1972-04-01T00:00:00.000000000",
          "1972-05-01T00:00:00.000000000",
          "1972-06-01T00:00:00.000000000",
          "1972-07-01T00:00:00.000000000",
          "1972-08-01T00:00:00.000000000",
          "1972-09-01T00:00:00.000000000",
          "1972-10-01T00:00:00.000000000",
          "1972-11-01T00:00:00.000000000",
          "1972-12-01T00:00:00.000000000",
          "1973-01-01T00:00:00.000000000",
          "1973-02-01T00:00:00.000000000",
          "1973-03-01T00:00:00.000000000",
          "1973-04-01T00:00:00.000000000",
          "1973-05-01T00:00:00.000000000",
          "1973-06-01T00:00:00.000000000",
          "1973-07-01T00:00:00.000000000",
          "1973-08-01T00:00:00.000000000",
          "1973-09-01T00:00:00.000000000",
          "1973-10-01T00:00:00.000000000",
          "1973-11-01T00:00:00.000000000",
          "1973-12-01T00:00:00.000000000",
          "1974-01-01T00:00:00.000000000",
          "1974-02-01T00:00:00.000000000",
          "1974-03-01T00:00:00.000000000",
          "1974-04-01T00:00:00.000000000",
          "1974-05-01T00:00:00.000000000",
          "1974-06-01T00:00:00.000000000",
          "1974-07-01T00:00:00.000000000",
          "1974-08-01T00:00:00.000000000",
          "1974-09-01T00:00:00.000000000",
          "1974-10-01T00:00:00.000000000",
          "1974-11-01T00:00:00.000000000",
          "1974-12-01T00:00:00.000000000",
          "1975-01-01T00:00:00.000000000",
          "1975-02-01T00:00:00.000000000",
          "1975-03-01T00:00:00.000000000",
          "1975-04-01T00:00:00.000000000",
          "1975-05-01T00:00:00.000000000",
          "1975-06-01T00:00:00.000000000",
          "1975-07-01T00:00:00.000000000",
          "1975-08-01T00:00:00.000000000",
          "1975-09-01T00:00:00.000000000",
          "1975-10-01T00:00:00.000000000",
          "1975-11-01T00:00:00.000000000",
          "1975-12-01T00:00:00.000000000",
          "1976-01-01T00:00:00.000000000",
          "1976-02-01T00:00:00.000000000",
          "1976-03-01T00:00:00.000000000",
          "1976-04-01T00:00:00.000000000",
          "1976-05-01T00:00:00.000000000",
          "1976-06-01T00:00:00.000000000",
          "1976-07-01T00:00:00.000000000",
          "1976-08-01T00:00:00.000000000",
          "1976-09-01T00:00:00.000000000",
          "1976-10-01T00:00:00.000000000",
          "1976-11-01T00:00:00.000000000",
          "1976-12-01T00:00:00.000000000",
          "1977-01-01T00:00:00.000000000",
          "1977-02-01T00:00:00.000000000",
          "1977-03-01T00:00:00.000000000",
          "1977-04-01T00:00:00.000000000",
          "1977-05-01T00:00:00.000000000",
          "1977-06-01T00:00:00.000000000",
          "1977-07-01T00:00:00.000000000",
          "1977-08-01T00:00:00.000000000",
          "1977-09-01T00:00:00.000000000",
          "1977-10-01T00:00:00.000000000",
          "1977-11-01T00:00:00.000000000",
          "1977-12-01T00:00:00.000000000",
          "1978-01-01T00:00:00.000000000",
          "1978-02-01T00:00:00.000000000",
          "1978-03-01T00:00:00.000000000",
          "1978-04-01T00:00:00.000000000",
          "1978-05-01T00:00:00.000000000",
          "1978-06-01T00:00:00.000000000",
          "1978-07-01T00:00:00.000000000",
          "1978-08-01T00:00:00.000000000",
          "1978-09-01T00:00:00.000000000",
          "1978-10-01T00:00:00.000000000",
          "1978-11-01T00:00:00.000000000",
          "1978-12-01T00:00:00.000000000",
          "1979-01-01T00:00:00.000000000",
          "1979-02-01T00:00:00.000000000",
          "1979-03-01T00:00:00.000000000",
          "1979-04-01T00:00:00.000000000",
          "1979-05-01T00:00:00.000000000",
          "1979-06-01T00:00:00.000000000",
          "1979-07-01T00:00:00.000000000",
          "1979-08-01T00:00:00.000000000",
          "1979-09-01T00:00:00.000000000",
          "1979-10-01T00:00:00.000000000",
          "1979-11-01T00:00:00.000000000",
          "1979-12-01T00:00:00.000000000",
          "1980-01-01T00:00:00.000000000",
          "1980-02-01T00:00:00.000000000",
          "1980-03-01T00:00:00.000000000",
          "1980-04-01T00:00:00.000000000",
          "1980-05-01T00:00:00.000000000",
          "1980-06-01T00:00:00.000000000",
          "1980-07-01T00:00:00.000000000",
          "1980-08-01T00:00:00.000000000",
          "1980-09-01T00:00:00.000000000",
          "1980-10-01T00:00:00.000000000",
          "1980-11-01T00:00:00.000000000",
          "1980-12-01T00:00:00.000000000",
          "1981-01-01T00:00:00.000000000",
          "1981-02-01T00:00:00.000000000",
          "1981-03-01T00:00:00.000000000",
          "1981-04-01T00:00:00.000000000",
          "1981-05-01T00:00:00.000000000",
          "1981-06-01T00:00:00.000000000",
          "1981-07-01T00:00:00.000000000",
          "1981-08-01T00:00:00.000000000",
          "1981-09-01T00:00:00.000000000",
          "1981-10-01T00:00:00.000000000",
          "1981-11-01T00:00:00.000000000",
          "1981-12-01T00:00:00.000000000",
          "1982-01-01T00:00:00.000000000",
          "1982-02-01T00:00:00.000000000",
          "1982-03-01T00:00:00.000000000",
          "1982-04-01T00:00:00.000000000",
          "1982-05-01T00:00:00.000000000",
          "1982-06-01T00:00:00.000000000",
          "1982-07-01T00:00:00.000000000",
          "1982-08-01T00:00:00.000000000",
          "1982-09-01T00:00:00.000000000",
          "1982-10-01T00:00:00.000000000",
          "1982-11-01T00:00:00.000000000",
          "1982-12-01T00:00:00.000000000",
          "1983-01-01T00:00:00.000000000",
          "1983-02-01T00:00:00.000000000",
          "1983-03-01T00:00:00.000000000",
          "1983-04-01T00:00:00.000000000",
          "1983-05-01T00:00:00.000000000",
          "1983-06-01T00:00:00.000000000",
          "1983-07-01T00:00:00.000000000",
          "1983-08-01T00:00:00.000000000",
          "1983-09-01T00:00:00.000000000",
          "1983-10-01T00:00:00.000000000",
          "1983-11-01T00:00:00.000000000",
          "1983-12-01T00:00:00.000000000",
          "1984-01-01T00:00:00.000000000",
          "1984-02-01T00:00:00.000000000",
          "1984-03-01T00:00:00.000000000",
          "1984-04-01T00:00:00.000000000",
          "1984-05-01T00:00:00.000000000",
          "1984-06-01T00:00:00.000000000",
          "1984-07-01T00:00:00.000000000",
          "1984-08-01T00:00:00.000000000",
          "1984-09-01T00:00:00.000000000",
          "1984-10-01T00:00:00.000000000",
          "1984-11-01T00:00:00.000000000",
          "1984-12-01T00:00:00.000000000",
          "1985-01-01T00:00:00.000000000",
          "1985-02-01T00:00:00.000000000",
          "1985-03-01T00:00:00.000000000",
          "1985-04-01T00:00:00.000000000",
          "1985-05-01T00:00:00.000000000",
          "1985-06-01T00:00:00.000000000",
          "1985-07-01T00:00:00.000000000",
          "1985-08-01T00:00:00.000000000",
          "1985-09-01T00:00:00.000000000",
          "1985-10-01T00:00:00.000000000",
          "1985-11-01T00:00:00.000000000",
          "1985-12-01T00:00:00.000000000",
          "1986-01-01T00:00:00.000000000",
          "1986-02-01T00:00:00.000000000",
          "1986-03-01T00:00:00.000000000",
          "1986-04-01T00:00:00.000000000",
          "1986-05-01T00:00:00.000000000",
          "1986-06-01T00:00:00.000000000",
          "1986-07-01T00:00:00.000000000",
          "1986-08-01T00:00:00.000000000",
          "1986-09-01T00:00:00.000000000",
          "1986-10-01T00:00:00.000000000",
          "1986-11-01T00:00:00.000000000",
          "1986-12-01T00:00:00.000000000",
          "1987-01-01T00:00:00.000000000",
          "1987-02-01T00:00:00.000000000",
          "1987-03-01T00:00:00.000000000",
          "1987-04-01T00:00:00.000000000",
          "1987-05-01T00:00:00.000000000",
          "1987-06-01T00:00:00.000000000",
          "1987-07-01T00:00:00.000000000",
          "1987-08-01T00:00:00.000000000",
          "1987-09-01T00:00:00.000000000",
          "1987-10-01T00:00:00.000000000",
          "1987-11-01T00:00:00.000000000",
          "1987-12-01T00:00:00.000000000",
          "1988-01-01T00:00:00.000000000",
          "1988-02-01T00:00:00.000000000",
          "1988-03-01T00:00:00.000000000",
          "1988-04-01T00:00:00.000000000",
          "1988-05-01T00:00:00.000000000",
          "1988-06-01T00:00:00.000000000",
          "1988-07-01T00:00:00.000000000",
          "1988-08-01T00:00:00.000000000",
          "1988-09-01T00:00:00.000000000",
          "1988-10-01T00:00:00.000000000",
          "1988-11-01T00:00:00.000000000",
          "1988-12-01T00:00:00.000000000",
          "1989-01-01T00:00:00.000000000",
          "1989-02-01T00:00:00.000000000",
          "1989-03-01T00:00:00.000000000",
          "1989-04-01T00:00:00.000000000",
          "1989-05-01T00:00:00.000000000",
          "1989-06-01T00:00:00.000000000",
          "1989-07-01T00:00:00.000000000",
          "1989-08-01T00:00:00.000000000",
          "1989-09-01T00:00:00.000000000",
          "1989-10-01T00:00:00.000000000",
          "1989-11-01T00:00:00.000000000",
          "1989-12-01T00:00:00.000000000",
          "1990-01-01T00:00:00.000000000",
          "1990-02-01T00:00:00.000000000",
          "1990-03-01T00:00:00.000000000",
          "1990-04-01T00:00:00.000000000",
          "1990-05-01T00:00:00.000000000",
          "1990-06-01T00:00:00.000000000",
          "1990-07-01T00:00:00.000000000",
          "1990-08-01T00:00:00.000000000",
          "1990-09-01T00:00:00.000000000",
          "1990-10-01T00:00:00.000000000",
          "1990-11-01T00:00:00.000000000",
          "1990-12-01T00:00:00.000000000",
          "1991-01-01T00:00:00.000000000",
          "1991-02-01T00:00:00.000000000",
          "1991-03-01T00:00:00.000000000",
          "1991-04-01T00:00:00.000000000",
          "1991-05-01T00:00:00.000000000",
          "1991-06-01T00:00:00.000000000",
          "1991-07-01T00:00:00.000000000",
          "1991-08-01T00:00:00.000000000",
          "1991-09-01T00:00:00.000000000",
          "1991-10-01T00:00:00.000000000",
          "1991-11-01T00:00:00.000000000",
          "1991-12-01T00:00:00.000000000",
          "1992-01-01T00:00:00.000000000",
          "1992-02-01T00:00:00.000000000",
          "1992-03-01T00:00:00.000000000",
          "1992-04-01T00:00:00.000000000",
          "1992-05-01T00:00:00.000000000",
          "1992-06-01T00:00:00.000000000",
          "1992-07-01T00:00:00.000000000",
          "1992-08-01T00:00:00.000000000",
          "1992-09-01T00:00:00.000000000",
          "1992-10-01T00:00:00.000000000",
          "1992-11-01T00:00:00.000000000",
          "1992-12-01T00:00:00.000000000",
          "1993-01-01T00:00:00.000000000",
          "1993-02-01T00:00:00.000000000",
          "1993-03-01T00:00:00.000000000",
          "1993-04-01T00:00:00.000000000",
          "1993-05-01T00:00:00.000000000",
          "1993-06-01T00:00:00.000000000",
          "1993-07-01T00:00:00.000000000",
          "1993-08-01T00:00:00.000000000",
          "1993-09-01T00:00:00.000000000",
          "1993-10-01T00:00:00.000000000",
          "1993-11-01T00:00:00.000000000",
          "1993-12-01T00:00:00.000000000",
          "1994-01-01T00:00:00.000000000",
          "1994-02-01T00:00:00.000000000",
          "1994-03-01T00:00:00.000000000",
          "1994-04-01T00:00:00.000000000",
          "1994-05-01T00:00:00.000000000",
          "1994-06-01T00:00:00.000000000",
          "1994-07-01T00:00:00.000000000",
          "1994-08-01T00:00:00.000000000",
          "1994-09-01T00:00:00.000000000",
          "1994-10-01T00:00:00.000000000",
          "1994-11-01T00:00:00.000000000",
          "1994-12-01T00:00:00.000000000",
          "1995-01-01T00:00:00.000000000",
          "1995-02-01T00:00:00.000000000",
          "1995-03-01T00:00:00.000000000",
          "1995-04-01T00:00:00.000000000",
          "1995-05-01T00:00:00.000000000",
          "1995-06-01T00:00:00.000000000",
          "1995-07-01T00:00:00.000000000",
          "1995-08-01T00:00:00.000000000",
          "1995-09-01T00:00:00.000000000",
          "1995-10-01T00:00:00.000000000",
          "1995-11-01T00:00:00.000000000",
          "1995-12-01T00:00:00.000000000",
          "1996-01-01T00:00:00.000000000",
          "1996-02-01T00:00:00.000000000",
          "1996-03-01T00:00:00.000000000",
          "1996-04-01T00:00:00.000000000",
          "1996-08-01T00:00:00.000000000",
          "1996-09-01T00:00:00.000000000",
          "1996-10-01T00:00:00.000000000",
          "1996-11-01T00:00:00.000000000",
          "1996-12-01T00:00:00.000000000",
          "1997-01-01T00:00:00.000000000",
          "1997-02-01T00:00:00.000000000",
          "1997-03-01T00:00:00.000000000",
          "1997-04-01T00:00:00.000000000",
          "1997-05-01T00:00:00.000000000",
          "1997-06-01T00:00:00.000000000",
          "1997-07-01T00:00:00.000000000",
          "1997-08-01T00:00:00.000000000",
          "1997-09-01T00:00:00.000000000",
          "1997-10-01T00:00:00.000000000",
          "1997-11-01T00:00:00.000000000",
          "1997-12-01T00:00:00.000000000",
          "1998-01-01T00:00:00.000000000",
          "1998-02-01T00:00:00.000000000",
          "1998-03-01T00:00:00.000000000",
          "1998-04-01T00:00:00.000000000",
          "1998-05-01T00:00:00.000000000",
          "1998-06-01T00:00:00.000000000",
          "1998-07-01T00:00:00.000000000",
          "1998-08-01T00:00:00.000000000",
          "1998-09-01T00:00:00.000000000",
          "1998-10-01T00:00:00.000000000",
          "1998-11-01T00:00:00.000000000",
          "1998-12-01T00:00:00.000000000",
          "1999-01-01T00:00:00.000000000",
          "1999-02-01T00:00:00.000000000",
          "1999-03-01T00:00:00.000000000",
          "1999-04-01T00:00:00.000000000",
          "1999-05-01T00:00:00.000000000",
          "1999-06-01T00:00:00.000000000",
          "1999-07-01T00:00:00.000000000",
          "1999-08-01T00:00:00.000000000",
          "1999-09-01T00:00:00.000000000",
          "1999-10-01T00:00:00.000000000",
          "1999-11-01T00:00:00.000000000",
          "1999-12-01T00:00:00.000000000",
          "2000-01-01T00:00:00.000000000",
          "2000-02-01T00:00:00.000000000",
          "2000-03-01T00:00:00.000000000",
          "2000-04-01T00:00:00.000000000",
          "2000-05-01T00:00:00.000000000",
          "2000-06-01T00:00:00.000000000",
          "2000-07-01T00:00:00.000000000",
          "2000-08-01T00:00:00.000000000",
          "2000-09-01T00:00:00.000000000",
          "2000-10-01T00:00:00.000000000",
          "2000-11-01T00:00:00.000000000",
          "2000-12-01T00:00:00.000000000",
          "2001-01-01T00:00:00.000000000",
          "2001-02-01T00:00:00.000000000",
          "2001-03-01T00:00:00.000000000",
          "2001-04-01T00:00:00.000000000",
          "2001-05-01T00:00:00.000000000",
          "2001-06-01T00:00:00.000000000",
          "2001-07-01T00:00:00.000000000",
          "2001-08-01T00:00:00.000000000",
          "2001-09-01T00:00:00.000000000",
          "2001-10-01T00:00:00.000000000",
          "2001-11-01T00:00:00.000000000",
          "2001-12-01T00:00:00.000000000",
          "2002-01-01T00:00:00.000000000",
          "2002-02-01T00:00:00.000000000",
          "2002-03-01T00:00:00.000000000",
          "2002-04-01T00:00:00.000000000",
          "2002-05-01T00:00:00.000000000",
          "2002-06-01T00:00:00.000000000",
          "2002-07-01T00:00:00.000000000",
          "2002-08-01T00:00:00.000000000",
          "2002-09-01T00:00:00.000000000",
          "2002-10-01T00:00:00.000000000",
          "2002-11-01T00:00:00.000000000",
          "2002-12-01T00:00:00.000000000",
          "2003-01-01T00:00:00.000000000",
          "2003-02-01T00:00:00.000000000",
          "2003-03-01T00:00:00.000000000",
          "2003-04-01T00:00:00.000000000",
          "2003-05-01T00:00:00.000000000",
          "2003-06-01T00:00:00.000000000",
          "2003-07-01T00:00:00.000000000",
          "2003-08-01T00:00:00.000000000",
          "2003-09-01T00:00:00.000000000",
          "2003-10-01T00:00:00.000000000",
          "2003-11-01T00:00:00.000000000",
          "2003-12-01T00:00:00.000000000",
          "2004-01-01T00:00:00.000000000",
          "2004-02-01T00:00:00.000000000",
          "2004-03-01T00:00:00.000000000",
          "2004-04-01T00:00:00.000000000",
          "2004-05-01T00:00:00.000000000",
          "2004-06-01T00:00:00.000000000",
          "2004-07-01T00:00:00.000000000",
          "2004-08-01T00:00:00.000000000",
          "2004-09-01T00:00:00.000000000",
          "2004-10-01T00:00:00.000000000",
          "2004-11-01T00:00:00.000000000",
          "2004-12-01T00:00:00.000000000",
          "2005-01-01T00:00:00.000000000",
          "2005-02-01T00:00:00.000000000",
          "2005-03-01T00:00:00.000000000",
          "2005-04-01T00:00:00.000000000",
          "2005-05-01T00:00:00.000000000",
          "2005-06-01T00:00:00.000000000",
          "2005-07-01T00:00:00.000000000",
          "2005-08-01T00:00:00.000000000",
          "2005-09-01T00:00:00.000000000",
          "2005-10-01T00:00:00.000000000",
          "2005-11-01T00:00:00.000000000",
          "2005-12-01T00:00:00.000000000",
          "2006-01-01T00:00:00.000000000",
          "2006-02-01T00:00:00.000000000",
          "2006-03-01T00:00:00.000000000",
          "2006-04-01T00:00:00.000000000",
          "2006-05-01T00:00:00.000000000",
          "2006-06-01T00:00:00.000000000",
          "2006-07-01T00:00:00.000000000",
          "2006-08-01T00:00:00.000000000",
          "2006-09-01T00:00:00.000000000",
          "2006-10-01T00:00:00.000000000",
          "2006-11-01T00:00:00.000000000",
          "2006-12-01T00:00:00.000000000",
          "2007-01-01T00:00:00.000000000",
          "2007-02-01T00:00:00.000000000",
          "2007-03-01T00:00:00.000000000",
          "2007-04-01T00:00:00.000000000",
          "2007-05-01T00:00:00.000000000",
          "2007-06-01T00:00:00.000000000",
          "2007-07-01T00:00:00.000000000",
          "2007-08-01T00:00:00.000000000",
          "2007-09-01T00:00:00.000000000",
          "2007-10-01T00:00:00.000000000",
          "2007-11-01T00:00:00.000000000",
          "2007-12-01T00:00:00.000000000",
          "2008-01-01T00:00:00.000000000",
          "2008-02-01T00:00:00.000000000",
          "2008-03-01T00:00:00.000000000",
          "2008-04-01T00:00:00.000000000",
          "2008-05-01T00:00:00.000000000",
          "2008-06-01T00:00:00.000000000",
          "2008-07-01T00:00:00.000000000",
          "2008-08-01T00:00:00.000000000",
          "2008-09-01T00:00:00.000000000",
          "2008-10-01T00:00:00.000000000",
          "2008-11-01T00:00:00.000000000",
          "2008-12-01T00:00:00.000000000",
          "2009-01-01T00:00:00.000000000",
          "2009-02-01T00:00:00.000000000",
          "2009-03-01T00:00:00.000000000",
          "2009-04-01T00:00:00.000000000",
          "2009-05-01T00:00:00.000000000",
          "2009-06-01T00:00:00.000000000",
          "2009-07-01T00:00:00.000000000",
          "2009-08-01T00:00:00.000000000",
          "2009-09-01T00:00:00.000000000",
          "2009-10-01T00:00:00.000000000",
          "2009-11-01T00:00:00.000000000",
          "2009-12-01T00:00:00.000000000",
          "2010-01-01T00:00:00.000000000",
          "2010-02-01T00:00:00.000000000",
          "2010-03-01T00:00:00.000000000",
          "2010-04-01T00:00:00.000000000",
          "2010-05-01T00:00:00.000000000",
          "2010-06-01T00:00:00.000000000",
          "2010-07-01T00:00:00.000000000",
          "2010-08-01T00:00:00.000000000",
          "2010-09-01T00:00:00.000000000",
          "2010-10-01T00:00:00.000000000",
          "2010-11-01T00:00:00.000000000",
          "2010-12-01T00:00:00.000000000",
          "2011-01-01T00:00:00.000000000",
          "2011-02-01T00:00:00.000000000",
          "2011-03-01T00:00:00.000000000",
          "2011-04-01T00:00:00.000000000",
          "2011-05-01T00:00:00.000000000",
          "2011-06-01T00:00:00.000000000",
          "2011-07-01T00:00:00.000000000",
          "2011-08-01T00:00:00.000000000",
          "2011-09-01T00:00:00.000000000",
          "2011-10-01T00:00:00.000000000",
          "2011-11-01T00:00:00.000000000",
          "2011-12-01T00:00:00.000000000",
          "2012-01-01T00:00:00.000000000",
          "2012-02-01T00:00:00.000000000",
          "2012-03-01T00:00:00.000000000",
          "2012-04-01T00:00:00.000000000",
          "2012-05-01T00:00:00.000000000",
          "2012-06-01T00:00:00.000000000",
          "2012-07-01T00:00:00.000000000",
          "2012-08-01T00:00:00.000000000",
          "2012-09-01T00:00:00.000000000",
          "2012-10-01T00:00:00.000000000",
          "2012-11-01T00:00:00.000000000",
          "2012-12-01T00:00:00.000000000",
          "2013-01-01T00:00:00.000000000",
          "2013-02-01T00:00:00.000000000",
          "2013-03-01T00:00:00.000000000",
          "2013-04-01T00:00:00.000000000",
          "2013-05-01T00:00:00.000000000",
          "2013-06-01T00:00:00.000000000",
          "2013-07-01T00:00:00.000000000",
          "2013-08-01T00:00:00.000000000",
          "2013-09-01T00:00:00.000000000",
          "2013-10-01T00:00:00.000000000",
          "2013-11-01T00:00:00.000000000",
          "2013-12-01T00:00:00.000000000",
          "2014-01-01T00:00:00.000000000",
          "2014-02-01T00:00:00.000000000",
          "2014-03-01T00:00:00.000000000",
          "2014-04-01T00:00:00.000000000",
          "2014-05-01T00:00:00.000000000",
          "2014-06-01T00:00:00.000000000",
          "2014-07-01T00:00:00.000000000",
          "2014-08-01T00:00:00.000000000",
          "2014-09-01T00:00:00.000000000",
          "2014-10-01T00:00:00.000000000",
          "2014-11-01T00:00:00.000000000",
          "2014-12-01T00:00:00.000000000",
          "2015-01-01T00:00:00.000000000",
          "2015-02-01T00:00:00.000000000",
          "2015-03-01T00:00:00.000000000",
          "2015-04-01T00:00:00.000000000",
          "2015-05-01T00:00:00.000000000",
          "2015-06-01T00:00:00.000000000",
          "2015-07-01T00:00:00.000000000",
          "2015-08-01T00:00:00.000000000",
          "2015-09-01T00:00:00.000000000",
          "2015-10-01T00:00:00.000000000",
          "2015-11-01T00:00:00.000000000",
          "2015-12-01T00:00:00.000000000",
          "2016-01-01T00:00:00.000000000",
          "2016-02-01T00:00:00.000000000",
          "2016-03-01T00:00:00.000000000",
          "2016-04-01T00:00:00.000000000",
          "2016-05-01T00:00:00.000000000",
          "2016-06-01T00:00:00.000000000",
          "2016-07-01T00:00:00.000000000",
          "2016-08-01T00:00:00.000000000",
          "2016-09-01T00:00:00.000000000",
          "2016-10-01T00:00:00.000000000",
          "2016-11-01T00:00:00.000000000",
          "2016-12-01T00:00:00.000000000",
          "2017-01-01T00:00:00.000000000",
          "2017-02-01T00:00:00.000000000",
          "2017-03-01T00:00:00.000000000",
          "2017-04-01T00:00:00.000000000",
          "2017-05-01T00:00:00.000000000",
          "2017-06-01T00:00:00.000000000",
          "2017-07-01T00:00:00.000000000",
          "2017-08-01T00:00:00.000000000",
          "2017-09-01T00:00:00.000000000",
          "2017-10-01T00:00:00.000000000",
          "2017-11-01T00:00:00.000000000",
          "2017-12-01T00:00:00.000000000",
          "2018-01-01T00:00:00.000000000",
          "2018-02-01T00:00:00.000000000",
          "2018-03-01T00:00:00.000000000",
          "2018-04-01T00:00:00.000000000",
          "2018-05-01T00:00:00.000000000",
          "2018-06-01T00:00:00.000000000",
          "2018-07-01T00:00:00.000000000",
          "2018-08-01T00:00:00.000000000",
          "2018-09-01T00:00:00.000000000",
          "2018-10-01T00:00:00.000000000",
          "2018-11-01T00:00:00.000000000",
          "2018-12-01T00:00:00.000000000",
          "2019-01-01T00:00:00.000000000",
          "2019-02-01T00:00:00.000000000",
          "2019-03-01T00:00:00.000000000",
          "2019-04-01T00:00:00.000000000",
          "2019-05-01T00:00:00.000000000",
          "2019-06-01T00:00:00.000000000",
          "2019-07-01T00:00:00.000000000",
          "2019-08-01T00:00:00.000000000",
          "2019-09-01T00:00:00.000000000",
          "2019-10-01T00:00:00.000000000",
          "2019-11-01T00:00:00.000000000",
          "2019-12-01T00:00:00.000000000",
          "2020-01-01T00:00:00.000000000",
          "2020-02-01T00:00:00.000000000",
          "2020-03-01T00:00:00.000000000",
          "2020-04-01T00:00:00.000000000",
          "2020-05-01T00:00:00.000000000",
          "2020-06-01T00:00:00.000000000",
          "2020-07-01T00:00:00.000000000",
          "2020-08-01T00:00:00.000000000",
          "2020-09-01T00:00:00.000000000",
          "2020-10-01T00:00:00.000000000",
          "2020-11-01T00:00:00.000000000",
          "2020-12-01T00:00:00.000000000",
          "2021-01-01T00:00:00.000000000",
          "2021-02-01T00:00:00.000000000",
          "2021-03-01T00:00:00.000000000",
          "2021-04-01T00:00:00.000000000",
          "2021-05-01T00:00:00.000000000",
          "2021-06-01T00:00:00.000000000",
          "2021-07-01T00:00:00.000000000",
          "2021-08-01T00:00:00.000000000",
          "2021-09-01T00:00:00.000000000",
          "2021-10-01T00:00:00.000000000",
          "2021-11-01T00:00:00.000000000",
          "2021-12-01T00:00:00.000000000",
          "2022-01-01T00:00:00.000000000",
          "2022-02-01T00:00:00.000000000",
          "2022-03-01T00:00:00.000000000",
          "2022-04-01T00:00:00.000000000",
          "2022-05-01T00:00:00.000000000",
          "2022-06-01T00:00:00.000000000",
          "2022-07-01T00:00:00.000000000",
          "2022-08-01T00:00:00.000000000",
          "2022-09-01T00:00:00.000000000",
          "2022-10-01T00:00:00.000000000",
          "2022-11-01T00:00:00.000000000",
          "2022-12-01T00:00:00.000000000",
          "2023-01-01T00:00:00.000000000",
          "2023-02-01T00:00:00.000000000",
          "2023-03-01T00:00:00.000000000",
          "2023-04-01T00:00:00.000000000",
          "2023-05-01T00:00:00.000000000",
          "2023-06-01T00:00:00.000000000",
          "2023-07-01T00:00:00.000000000",
          "2023-08-01T00:00:00.000000000",
          "2023-09-01T00:00:00.000000000",
          "2023-10-01T00:00:00.000000000",
          "2023-11-01T00:00:00.000000000",
          "2023-12-01T00:00:00.000000000",
          "2024-01-01T00:00:00.000000000",
          "2024-02-01T00:00:00.000000000",
          "2024-03-01T00:00:00.000000000",
          "2024-04-01T00:00:00.000000000",
          "2024-05-01T00:00:00.000000000",
          "2024-06-01T00:00:00.000000000",
          "2024-07-01T00:00:00.000000000",
          "2024-08-01T00:00:00.000000000",
          "2024-09-01T00:00:00.000000000",
          "2024-10-01T00:00:00.000000000",
          "2024-11-01T00:00:00.000000000",
          "2024-12-01T00:00:00.000000000",
          "2025-01-01T00:00:00.000000000"
         ],
         "xaxis": "x",
         "y": {
          "bdata": "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",
          "dtype": "f8"
         },
         "yaxis": "y"
        }
       ],
       "layout": {
        "annotations": [
         {
          "align": "left",
          "bgcolor": "rgba(255, 255, 255, 0.8)",
          "bordercolor": "black",
          "borderwidth": 1,
          "font": {
           "size": 10
          },
          "showarrow": false,
          "text": "Source: Trading Economics<br>Original Source: National Association of Realtors<br>Frequency: MS<br>",
          "x": 0,
          "xanchor": "left",
          "xref": "paper",
          "y": -0.2,
          "yanchor": "bottom",
          "yref": "paper"
         }
        ],
        "legend": {
         "orientation": "h",
         "title": {
          "text": ""
         },
         "tracegroupgap": 0,
         "x": 0.5,
         "xanchor": "center",
         "y": -0.2,
         "yanchor": "bottom"
        },
        "margin": {
         "t": 60
        },
        "template": {
         "data": {
          "bar": [
           {
            "error_x": {
             "color": "#2a3f5f"
            },
            "error_y": {
             "color": "#2a3f5f"
            },
            "marker": {
             "line": {
              "color": "#E5ECF6",
              "width": 0.5
             },
             "pattern": {
              "fillmode": "overlay",
              "size": 10,
              "solidity": 0.2
             }
            },
            "type": "bar"
           }
          ],
          "barpolar": [
           {
            "marker": {
             "line": {
              "color": "#E5ECF6",
              "width": 0.5
             },
             "pattern": {
              "fillmode": "overlay",
              "size": 10,
              "solidity": 0.2
             }
            },
            "type": "barpolar"
           }
          ],
          "carpet": [
           {
            "aaxis": {
             "endlinecolor": "#2a3f5f",
             "gridcolor": "white",
             "linecolor": "white",
             "minorgridcolor": "white",
             "startlinecolor": "#2a3f5f"
            },
            "baxis": {
             "endlinecolor": "#2a3f5f",
             "gridcolor": "white",
             "linecolor": "white",
             "minorgridcolor": "white",
             "startlinecolor": "#2a3f5f"
            },
            "type": "carpet"
           }
          ],
          "choropleth": [
           {
            "colorbar": {
             "outlinewidth": 0,
             "ticks": ""
            },
            "type": "choropleth"
           }
          ],
          "contour": [
           {
            "colorbar": {
             "outlinewidth": 0,
             "ticks": ""
            },
            "colorscale": [
             [
              0,
              "#0d0887"
             ],
             [
              0.1111111111111111,
              "#46039f"
             ],
             [
              0.2222222222222222,
              "#7201a8"
             ],
             [
              0.3333333333333333,
              "#9c179e"
             ],
             [
              0.4444444444444444,
              "#bd3786"
             ],
             [
              0.5555555555555556,
              "#d8576b"
             ],
             [
              0.6666666666666666,
              "#ed7953"
             ],
             [
              0.7777777777777778,
              "#fb9f3a"
             ],
             [
              0.8888888888888888,
              "#fdca26"
             ],
             [
              1,
              "#f0f921"
             ]
            ],
            "type": "contour"
           }
          ],
          "contourcarpet": [
           {
            "colorbar": {
             "outlinewidth": 0,
             "ticks": ""
            },
            "type": "contourcarpet"
           }
          ],
          "heatmap": [
           {
            "colorbar": {
             "outlinewidth": 0,
             "ticks": ""
            },
            "colorscale": [
             [
              0,
              "#0d0887"
             ],
             [
              0.1111111111111111,
              "#46039f"
             ],
             [
              0.2222222222222222,
              "#7201a8"
             ],
             [
              0.3333333333333333,
              "#9c179e"
             ],
             [
              0.4444444444444444,
              "#bd3786"
             ],
             [
              0.5555555555555556,
              "#d8576b"
             ],
             [
              0.6666666666666666,
              "#ed7953"
             ],
             [
              0.7777777777777778,
              "#fb9f3a"
             ],
             [
              0.8888888888888888,
              "#fdca26"
             ],
             [
              1,
              "#f0f921"
             ]
            ],
            "type": "heatmap"
           }
          ],
          "histogram": [
           {
            "marker": {
             "pattern": {
              "fillmode": "overlay",
              "size": 10,
              "solidity": 0.2
             }
            },
            "type": "histogram"
           }
          ],
          "histogram2d": [
           {
            "colorbar": {
             "outlinewidth": 0,
             "ticks": ""
            },
            "colorscale": [
             [
              0,
              "#0d0887"
             ],
             [
              0.1111111111111111,
              "#46039f"
             ],
             [
              0.2222222222222222,
              "#7201a8"
             ],
             [
              0.3333333333333333,
              "#9c179e"
             ],
             [
              0.4444444444444444,
              "#bd3786"
             ],
             [
              0.5555555555555556,
              "#d8576b"
             ],
             [
              0.6666666666666666,
              "#ed7953"
             ],
             [
              0.7777777777777778,
              "#fb9f3a"
             ],
             [
              0.8888888888888888,
              "#fdca26"
             ],
             [
              1,
              "#f0f921"
             ]
            ],
            "type": "histogram2d"
           }
          ],
          "histogram2dcontour": [
           {
            "colorbar": {
             "outlinewidth": 0,
             "ticks": ""
            },
            "colorscale": [
             [
              0,
              "#0d0887"
             ],
             [
              0.1111111111111111,
              "#46039f"
             ],
             [
              0.2222222222222222,
              "#7201a8"
             ],
             [
              0.3333333333333333,
              "#9c179e"
             ],
             [
              0.4444444444444444,
              "#bd3786"
             ],
             [
              0.5555555555555556,
              "#d8576b"
             ],
             [
              0.6666666666666666,
              "#ed7953"
             ],
             [
              0.7777777777777778,
              "#fb9f3a"
             ],
             [
              0.8888888888888888,
              "#fdca26"
             ],
             [
              1,
              "#f0f921"
             ]
            ],
            "type": "histogram2dcontour"
           }
          ],
          "mesh3d": [
           {
            "colorbar": {
             "outlinewidth": 0,
             "ticks": ""
            },
            "type": "mesh3d"
           }
          ],
          "parcoords": [
           {
            "line": {
             "colorbar": {
              "outlinewidth": 0,
              "ticks": ""
             }
            },
            "type": "parcoords"
           }
          ],
          "pie": [
           {
            "automargin": true,
            "type": "pie"
           }
          ],
          "scatter": [
           {
            "fillpattern": {
             "fillmode": "overlay",
             "size": 10,
             "solidity": 0.2
            },
            "type": "scatter"
           }
          ],
          "scatter3d": [
           {
            "line": {
             "colorbar": {
              "outlinewidth": 0,
              "ticks": ""
             }
            },
            "marker": {
             "colorbar": {
              "outlinewidth": 0,
              "ticks": ""
             }
            },
            "type": "scatter3d"
           }
          ],
          "scattercarpet": [
           {
            "marker": {
             "colorbar": {
              "outlinewidth": 0,
              "ticks": ""
             }
            },
            "type": "scattercarpet"
           }
          ],
          "scattergeo": [
           {
            "marker": {
             "colorbar": {
              "outlinewidth": 0,
              "ticks": ""
             }
            },
            "type": "scattergeo"
           }
          ],
          "scattergl": [
           {
            "marker": {
             "colorbar": {
              "outlinewidth": 0,
              "ticks": ""
             }
            },
            "type": "scattergl"
           }
          ],
          "scattermap": [
           {
            "marker": {
             "colorbar": {
              "outlinewidth": 0,
              "ticks": ""
             }
            },
            "type": "scattermap"
           }
          ],
          "scattermapbox": [
           {
            "marker": {
             "colorbar": {
              "outlinewidth": 0,
              "ticks": ""
             }
            },
            "type": "scattermapbox"
           }
          ],
          "scatterpolar": [
           {
            "marker": {
             "colorbar": {
              "outlinewidth": 0,
              "ticks": ""
             }
            },
            "type": "scatterpolar"
           }
          ],
          "scatterpolargl": [
           {
            "marker": {
             "colorbar": {
              "outlinewidth": 0,
              "ticks": ""
             }
            },
            "type": "scatterpolargl"
           }
          ],
          "scatterternary": [
           {
            "marker": {
             "colorbar": {
              "outlinewidth": 0,
              "ticks": ""
             }
            },
            "type": "scatterternary"
           }
          ],
          "surface": [
           {
            "colorbar": {
             "outlinewidth": 0,
             "ticks": ""
            },
            "colorscale": [
             [
              0,
              "#0d0887"
             ],
             [
              0.1111111111111111,
              "#46039f"
             ],
             [
              0.2222222222222222,
              "#7201a8"
             ],
             [
              0.3333333333333333,
              "#9c179e"
             ],
             [
              0.4444444444444444,
              "#bd3786"
             ],
             [
              0.5555555555555556,
              "#d8576b"
             ],
             [
              0.6666666666666666,
              "#ed7953"
             ],
             [
              0.7777777777777778,
              "#fb9f3a"
             ],
             [
              0.8888888888888888,
              "#fdca26"
             ],
             [
              1,
              "#f0f921"
             ]
            ],
            "type": "surface"
           }
          ],
          "table": [
           {
            "cells": {
             "fill": {
              "color": "#EBF0F8"
             },
             "line": {
              "color": "white"
             }
            },
            "header": {
             "fill": {
              "color": "#C8D4E3"
             },
             "line": {
              "color": "white"
             }
            },
            "type": "table"
           }
          ]
         },
         "layout": {
          "annotationdefaults": {
           "arrowcolor": "#2a3f5f",
           "arrowhead": 0,
           "arrowwidth": 1
          },
          "autotypenumbers": "strict",
          "coloraxis": {
           "colorbar": {
            "outlinewidth": 0,
            "ticks": ""
           }
          },
          "colorscale": {
           "diverging": [
            [
             0,
             "#8e0152"
            ],
            [
             0.1,
             "#c51b7d"
            ],
            [
             0.2,
             "#de77ae"
            ],
            [
             0.3,
             "#f1b6da"
            ],
            [
             0.4,
             "#fde0ef"
            ],
            [
             0.5,
             "#f7f7f7"
            ],
            [
             0.6,
             "#e6f5d0"
            ],
            [
             0.7,
             "#b8e186"
            ],
            [
             0.8,
             "#7fbc41"
            ],
            [
             0.9,
             "#4d9221"
            ],
            [
             1,
             "#276419"
            ]
           ],
           "sequential": [
            [
             0,
             "#0d0887"
            ],
            [
             0.1111111111111111,
             "#46039f"
            ],
            [
             0.2222222222222222,
             "#7201a8"
            ],
            [
             0.3333333333333333,
             "#9c179e"
            ],
            [
             0.4444444444444444,
             "#bd3786"
            ],
            [
             0.5555555555555556,
             "#d8576b"
            ],
            [
             0.6666666666666666,
             "#ed7953"
            ],
            [
             0.7777777777777778,
             "#fb9f3a"
            ],
            [
             0.8888888888888888,
             "#fdca26"
            ],
            [
             1,
             "#f0f921"
            ]
           ],
           "sequentialminus": [
            [
             0,
             "#0d0887"
            ],
            [
             0.1111111111111111,
             "#46039f"
            ],
            [
             0.2222222222222222,
             "#7201a8"
            ],
            [
             0.3333333333333333,
             "#9c179e"
            ],
            [
             0.4444444444444444,
             "#bd3786"
            ],
            [
             0.5555555555555556,
             "#d8576b"
            ],
            [
             0.6666666666666666,
             "#ed7953"
            ],
            [
             0.7777777777777778,
             "#fb9f3a"
            ],
            [
             0.8888888888888888,
             "#fdca26"
            ],
            [
             1,
             "#f0f921"
            ]
           ]
          },
          "colorway": [
           "#636efa",
           "#EF553B",
           "#00cc96",
           "#ab63fa",
           "#FFA15A",
           "#19d3f3",
           "#FF6692",
           "#B6E880",
           "#FF97FF",
           "#FECB52"
          ],
          "font": {
           "color": "#2a3f5f"
          },
          "geo": {
           "bgcolor": "white",
           "lakecolor": "white",
           "landcolor": "#E5ECF6",
           "showlakes": true,
           "showland": true,
           "subunitcolor": "white"
          },
          "hoverlabel": {
           "align": "left"
          },
          "hovermode": "closest",
          "mapbox": {
           "style": "light"
          },
          "paper_bgcolor": "white",
          "plot_bgcolor": "#E5ECF6",
          "polar": {
           "angularaxis": {
            "gridcolor": "white",
            "linecolor": "white",
            "ticks": ""
           },
           "bgcolor": "#E5ECF6",
           "radialaxis": {
            "gridcolor": "white",
            "linecolor": "white",
            "ticks": ""
           }
          },
          "scene": {
           "xaxis": {
            "backgroundcolor": "#E5ECF6",
            "gridcolor": "white",
            "gridwidth": 2,
            "linecolor": "white",
            "showbackground": true,
            "ticks": "",
            "zerolinecolor": "white"
           },
           "yaxis": {
            "backgroundcolor": "#E5ECF6",
            "gridcolor": "white",
            "gridwidth": 2,
            "linecolor": "white",
            "showbackground": true,
            "ticks": "",
            "zerolinecolor": "white"
           },
           "zaxis": {
            "backgroundcolor": "#E5ECF6",
            "gridcolor": "white",
            "gridwidth": 2,
            "linecolor": "white",
            "showbackground": true,
            "ticks": "",
            "zerolinecolor": "white"
           }
          },
          "shapedefaults": {
           "line": {
            "color": "#2a3f5f"
           }
          },
          "ternary": {
           "aaxis": {
            "gridcolor": "white",
            "linecolor": "white",
            "ticks": ""
           },
           "baxis": {
            "gridcolor": "white",
            "linecolor": "white",
            "ticks": ""
           },
           "bgcolor": "#E5ECF6",
           "caxis": {
            "gridcolor": "white",
            "linecolor": "white",
            "ticks": ""
           }
          },
          "title": {
           "x": 0.05
          },
          "xaxis": {
           "automargin": true,
           "gridcolor": "white",
           "linecolor": "white",
           "ticks": "",
           "title": {
            "standoff": 15
           },
           "zerolinecolor": "white",
           "zerolinewidth": 2
          },
          "yaxis": {
           "automargin": true,
           "gridcolor": "white",
           "linecolor": "white",
           "ticks": "",
           "title": {
            "standoff": 15
           },
           "zerolinecolor": "white",
           "zerolinewidth": 2
          }
         }
        },
        "title": {
         "text": "United states: United states existing home sales"
        },
        "xaxis": {
         "anchor": "y",
         "domain": [
          0,
          1
         ],
         "title": {
          "text": ""
         }
        },
        "yaxis": {
         "anchor": "x",
         "domain": [
          0,
          1
         ],
         "title": {
          "text": "Thousand"
         }
        }
       }
      }
     },
     "metadata": {},
     "output_type": "display_data"
    }
   ],
   "source": [
    "scrup.plot_series()  ## Plot the series."
   ]
  },
  {
   "cell_type": "code",
   "execution_count": 5,
   "metadata": {},
   "outputs": [
    {
     "name": "stderr",
     "output_type": "stream",
     "text": [
      "INFO - New firefox webdriver created.\n",
      "INFO - scrape_chart function: Scraping chart at: https://tradingeconomics.com/united-states/business-confidence, time: 2025-02-27 12:34:34.335391, method: path\n",
      "INFO - Chart types dictionary created successfully: dict_keys(['Column', 'Spline', 'Areaspline', 'Stepline', 'Line', 'Area'])\n",
      "INFO - Date span set to: 1Y\n",
      "INFO - \n",
      "Series metadata: \n",
      " {'units': 'points', 'original_source': 'Institute for Supply Management', 'title': 'United States ISM Manufacturing PMI', 'indicator': 'business confidence', 'country': 'united states', 'source': 'Trading Economics', 'id': 'united-states/business-confidence'}\n"
     ]
    },
    {
     "name": "stdout",
     "output_type": "stream",
     "text": [
      "Using selenium and tooltip scraping to construct the date time index for the time-series, this'll take a bit...\n",
      "Attempting to select chart type:  Spline clicking top button....\n"
     ]
    },
    {
     "name": "stderr",
     "output_type": "stream",
     "text": [
      "INFO - Chart type set to: Spline\n"
     ]
    },
    {
     "name": "stdout",
     "output_type": "stream",
     "text": [
      "Time taken to select chart type: 3.4131791529944167\n",
      "Time taken to load JS code: 0.0008303109789267182\n",
      "Time taken to execute JS code: 2.767069596971851\n",
      "Latest dates:  ['Jan 2025', 'Dec 2024', 'Nov 2024', 'Oct 2024', 'Sep 2024', 'Aug 2024', 'Jul 2024', 'Jun 2024', 'May 2024', 'Apr 2024']\n",
      "Frequency of time-series:  MS\n",
      "get_xlims_from_tooltips method: date_span:  1Y , chart_type: splineChart\n",
      "Attempting to select chart type:  Spline clicking top button....\n"
     ]
    },
    {
     "name": "stderr",
     "output_type": "stream",
     "text": [
      "INFO - Chart type set to: Spline\n"
     ]
    },
    {
     "name": "stdout",
     "output_type": "stream",
     "text": [
      "Got chart dimensions and plot background element.\n"
     ]
    },
    {
     "name": "stderr",
     "output_type": "stream",
     "text": [
      "INFO - Start and end values scraped from tooltips: \n",
      "{'start_date': Timestamp('1948-01-01 00:00:00'), 'start_value': 51.7, 'end_date': Timestamp('2025-01-01 00:00:00'), 'end_value': 50.9}\n",
      "INFO - DateTimeIndex created successfully for the time-series.\n",
      "INFO - Y-axis values scraped successfully.\n",
      "INFO - Series path extraction method: Extracting series data from chart soup.\n",
      "INFO - Date span: MAX. Chart type: splineChart, URL: https://tradingeconomics.com/united-states/business-confidence.\n",
      "INFO - DateTimeIndex applied to series, series attribute updated.\n",
      "INFO - Successfully scaled series.\n",
      "INFO - Successfully scraped time-series from chart at:  https://tradingeconomics.com/united-states/business-confidence, now getting some metadata...\n"
     ]
    },
    {
     "name": "stdout",
     "output_type": "stream",
     "text": [
      "Got metadata. \n",
      "\n",
      "Series tail: 2024-09-01    47.5\n",
      "2024-10-01    46.9\n",
      "2024-11-01    48.4\n",
      "2024-12-01    49.2\n",
      "2025-01-01    50.9\n",
      "Freq: MS, Name: business confidence, dtype: float64 \n",
      "\n",
      "Scraping complete! Happy pirating yo!\n"
     ]
    }
   ],
   "source": [
    "scrud = ted.scrape_chart(id = \"business-confidence\", method = \"path\", use_existing_driver=True, headless=True) ## Using chart id from the url only, country is \"united-states\" by default."
   ]
  },
  {
   "cell_type": "code",
   "execution_count": 11,
   "metadata": {},
   "outputs": [],
   "source": [
    "pathout = scrud.series.copy()"
   ]
  },
  {
   "cell_type": "code",
   "execution_count": 15,
   "metadata": {},
   "outputs": [
    {
     "name": "stderr",
     "output_type": "stream",
     "text": [
      "INFO - scrape_chart function: Scraping chart at: https://tradingeconomics.com/united-states/business-confidence, time: 2025-02-28 10:49:43.404621, method: tooltips\n",
      "INFO - Chart types dictionary created successfully: dict_keys(['Column', 'Spline', 'Areaspline', 'Stepline', 'Line', 'Area'])\n",
      "INFO - Date span set to: 1Y\n",
      "INFO - \n",
      "Series metadata: \n",
      " {'units': 'points', 'original_source': 'Institute for Supply Management', 'title': 'United States ISM Manufacturing PMI', 'indicator': 'business confidence', 'country': 'united states', 'source': 'Trading Economics', 'id': 'united-states/business-confidence'}\n",
      "INFO - TooltipScraper object initialised successfully.\n"
     ]
    },
    {
     "name": "stdout",
     "output_type": "stream",
     "text": [
      "Attempting to select chart type:  Spline clicking top button....\n"
     ]
    },
    {
     "name": "stderr",
     "output_type": "stream",
     "text": [
      "INFO - Error clicking button: Message: The element with the reference b38283ba-dbc3-40bc-8da8-4b8ddd360ca1 is stale; either its node document is not the active document, or it is no longer connected to the DOM; For documentation on this error, please visit: https://www.selenium.dev/documentation/webdriver/troubleshooting/errors#stale-element-reference-exception\n",
      "Stacktrace:\n",
      "RemoteError@chrome://remote/content/shared/RemoteError.sys.mjs:8:8\n",
      "WebDriverError@chrome://remote/content/shared/webdriver/Errors.sys.mjs:193:5\n",
      "StaleElementReferenceError@chrome://remote/content/shared/webdriver/Errors.sys.mjs:725:5\n",
      "getKnownElement@chrome://remote/content/marionette/json.sys.mjs:405:11\n",
      "deserializeJSON@chrome://remote/content/marionette/json.sys.mjs:263:20\n",
      "cloneObject@chrome://remote/content/marionette/json.sys.mjs:59:24\n",
      "deserializeJSON@chrome://remote/content/marionette/json.sys.mjs:293:16\n",
      "json.deserialize@chrome://remote/content/marionette/json.sys.mjs:297:10\n",
      "receiveMessage@chrome://remote/content/marionette/actors/MarionetteCommandsChild.sys.mjs:182:30\n",
      "\n"
     ]
    },
    {
     "name": "stdout",
     "output_type": "stream",
     "text": [
      "Attempting to select chart type:  Spline clicking top button....\n"
     ]
    },
    {
     "name": "stderr",
     "output_type": "stream",
     "text": [
      "INFO - Chart type set to: Spline\n"
     ]
    },
    {
     "name": "stdout",
     "output_type": "stream",
     "text": [
      "Time taken to select chart type: 4.210678669041954\n",
      "Time taken to load JS code: 0.0009725050185807049\n"
     ]
    },
    {
     "name": "stderr",
     "output_type": "stream",
     "text": [
      "INFO - Successfully scraped full series from tooltips.\n",
      "INFO - Frequency of the series is unknown or irregular, the tooltip scraping may have missed points. Retry scraping using 'path' method instead of 'tooltips'.\n",
      "INFO - Successfully scraped full series from tooltips.\n"
     ]
    },
    {
     "name": "stdout",
     "output_type": "stream",
     "text": [
      "Time taken to execute JS code: 6.678670155000873\n"
     ]
    }
   ],
   "source": [
    "scruf = ted.scrape_chart(id = \"business-confidence\", method = \"tooltips\", use_existing_driver=True, headless=True) ## Using chart id from the url only, country is \"united-states\" by default."
   ]
  },
  {
   "cell_type": "code",
   "execution_count": 18,
   "metadata": {},
   "outputs": [
    {
     "data": {
      "text/plain": [
       "1948-02-01    50.2\n",
       "1948-04-01    45.4\n",
       "1948-05-01    49.5\n",
       "1948-07-01    48.4\n",
       "1948-08-01    45.1\n",
       "              ... \n",
       "2024-06-01    48.3\n",
       "2024-08-01    47.5\n",
       "2024-09-01    47.5\n",
       "2024-10-01    46.9\n",
       "2024-12-01    49.2\n",
       "Name: United States ISM Manufacturing PMI, Length: 672, dtype: float64"
      ]
     },
     "execution_count": 18,
     "metadata": {},
     "output_type": "execute_result"
    }
   ],
   "source": [
    "scruf.series"
   ]
  },
  {
   "cell_type": "code",
   "execution_count": 19,
   "metadata": {},
   "outputs": [
    {
     "data": {
      "application/vnd.plotly.v1+json": {
       "config": {
        "plotlyServerURL": "https://plot.ly"
       },
       "data": [
        {
         "hovertemplate": "variable=United States ISM Manufacturing PMI<br>index=%{x}<br>value=%{y}<extra></extra>",
         "legendgroup": "United States ISM Manufacturing PMI",
         "line": {
          "color": "#636efa",
          "dash": "solid"
         },
         "marker": {
          "symbol": "circle"
         },
         "mode": "lines",
         "name": "United States ISM Manufacturing PMI",
         "orientation": "v",
         "showlegend": true,
         "type": "scatter",
         "x": [
          "1948-02-01T00:00:00.000000000",
          "1948-04-01T00:00:00.000000000",
          "1948-05-01T00:00:00.000000000",
          "1948-07-01T00:00:00.000000000",
          "1948-08-01T00:00:00.000000000",
          "1948-09-01T00:00:00.000000000",
          "1948-11-01T00:00:00.000000000",
          "1948-12-01T00:00:00.000000000",
          "1949-01-01T00:00:00.000000000",
          "1949-03-01T00:00:00.000000000",
          "1949-04-01T00:00:00.000000000",
          "1949-05-01T00:00:00.000000000",
          "1949-07-01T00:00:00.000000000",
          "1949-08-01T00:00:00.000000000",
          "1949-10-01T00:00:00.000000000",
          "1949-11-01T00:00:00.000000000",
          "1949-12-01T00:00:00.000000000",
          "1950-02-01T00:00:00.000000000",
          "1950-03-01T00:00:00.000000000",
          "1950-04-01T00:00:00.000000000",
          "1950-06-01T00:00:00.000000000",
          "1950-07-01T00:00:00.000000000",
          "1950-09-01T00:00:00.000000000",
          "1950-10-01T00:00:00.000000000",
          "1950-11-01T00:00:00.000000000",
          "1951-01-01T00:00:00.000000000",
          "1951-02-01T00:00:00.000000000",
          "1951-03-01T00:00:00.000000000",
          "1951-05-01T00:00:00.000000000",
          "1951-06-01T00:00:00.000000000",
          "1951-08-01T00:00:00.000000000",
          "1951-09-01T00:00:00.000000000",
          "1951-10-01T00:00:00.000000000",
          "1951-12-01T00:00:00.000000000",
          "1952-01-01T00:00:00.000000000",
          "1952-02-01T00:00:00.000000000",
          "1952-04-01T00:00:00.000000000",
          "1952-05-01T00:00:00.000000000",
          "1952-07-01T00:00:00.000000000",
          "1952-08-01T00:00:00.000000000",
          "1952-09-01T00:00:00.000000000",
          "1952-11-01T00:00:00.000000000",
          "1952-12-01T00:00:00.000000000",
          "1953-01-01T00:00:00.000000000",
          "1953-03-01T00:00:00.000000000",
          "1953-04-01T00:00:00.000000000",
          "1953-06-01T00:00:00.000000000",
          "1953-07-01T00:00:00.000000000",
          "1953-08-01T00:00:00.000000000",
          "1953-10-01T00:00:00.000000000",
          "1953-11-01T00:00:00.000000000",
          "1953-12-01T00:00:00.000000000",
          "1954-02-01T00:00:00.000000000",
          "1954-03-01T00:00:00.000000000",
          "1954-05-01T00:00:00.000000000",
          "1954-06-01T00:00:00.000000000",
          "1954-07-01T00:00:00.000000000",
          "1954-09-01T00:00:00.000000000",
          "1954-10-01T00:00:00.000000000",
          "1954-11-01T00:00:00.000000000",
          "1955-01-01T00:00:00.000000000",
          "1955-02-01T00:00:00.000000000",
          "1955-04-01T00:00:00.000000000",
          "1955-05-01T00:00:00.000000000",
          "1955-06-01T00:00:00.000000000",
          "1955-08-01T00:00:00.000000000",
          "1955-09-01T00:00:00.000000000",
          "1955-10-01T00:00:00.000000000",
          "1955-12-01T00:00:00.000000000",
          "1956-01-01T00:00:00.000000000",
          "1956-02-01T00:00:00.000000000",
          "1956-04-01T00:00:00.000000000",
          "1956-05-01T00:00:00.000000000",
          "1956-07-01T00:00:00.000000000",
          "1956-08-01T00:00:00.000000000",
          "1956-09-01T00:00:00.000000000",
          "1956-11-01T00:00:00.000000000",
          "1956-12-01T00:00:00.000000000",
          "1957-01-01T00:00:00.000000000",
          "1957-03-01T00:00:00.000000000",
          "1957-04-01T00:00:00.000000000",
          "1957-06-01T00:00:00.000000000",
          "1957-07-01T00:00:00.000000000",
          "1957-08-01T00:00:00.000000000",
          "1957-10-01T00:00:00.000000000",
          "1957-11-01T00:00:00.000000000",
          "1957-12-01T00:00:00.000000000",
          "1958-02-01T00:00:00.000000000",
          "1958-03-01T00:00:00.000000000",
          "1958-05-01T00:00:00.000000000",
          "1958-06-01T00:00:00.000000000",
          "1958-07-01T00:00:00.000000000",
          "1958-09-01T00:00:00.000000000",
          "1958-10-01T00:00:00.000000000",
          "1958-11-01T00:00:00.000000000",
          "1959-01-01T00:00:00.000000000",
          "1959-02-01T00:00:00.000000000",
          "1959-04-01T00:00:00.000000000",
          "1959-05-01T00:00:00.000000000",
          "1959-06-01T00:00:00.000000000",
          "1959-08-01T00:00:00.000000000",
          "1959-09-01T00:00:00.000000000",
          "1959-10-01T00:00:00.000000000",
          "1959-12-01T00:00:00.000000000",
          "1960-01-01T00:00:00.000000000",
          "1960-03-01T00:00:00.000000000",
          "1960-04-01T00:00:00.000000000",
          "1960-05-01T00:00:00.000000000",
          "1960-07-01T00:00:00.000000000",
          "1960-08-01T00:00:00.000000000",
          "1960-09-01T00:00:00.000000000",
          "1960-11-01T00:00:00.000000000",
          "1960-12-01T00:00:00.000000000",
          "1961-01-01T00:00:00.000000000",
          "1961-03-01T00:00:00.000000000",
          "1961-04-01T00:00:00.000000000",
          "1961-06-01T00:00:00.000000000",
          "1961-07-01T00:00:00.000000000",
          "1961-08-01T00:00:00.000000000",
          "1961-10-01T00:00:00.000000000",
          "1961-11-01T00:00:00.000000000",
          "1961-12-01T00:00:00.000000000",
          "1962-02-01T00:00:00.000000000",
          "1962-03-01T00:00:00.000000000",
          "1962-05-01T00:00:00.000000000",
          "1962-06-01T00:00:00.000000000",
          "1962-07-01T00:00:00.000000000",
          "1962-09-01T00:00:00.000000000",
          "1962-10-01T00:00:00.000000000",
          "1962-11-01T00:00:00.000000000",
          "1963-01-01T00:00:00.000000000",
          "1963-02-01T00:00:00.000000000",
          "1963-04-01T00:00:00.000000000",
          "1963-05-01T00:00:00.000000000",
          "1963-06-01T00:00:00.000000000",
          "1963-08-01T00:00:00.000000000",
          "1963-09-01T00:00:00.000000000",
          "1963-10-01T00:00:00.000000000",
          "1963-12-01T00:00:00.000000000",
          "1964-01-01T00:00:00.000000000",
          "1964-03-01T00:00:00.000000000",
          "1964-04-01T00:00:00.000000000",
          "1964-05-01T00:00:00.000000000",
          "1964-07-01T00:00:00.000000000",
          "1964-08-01T00:00:00.000000000",
          "1964-09-01T00:00:00.000000000",
          "1964-11-01T00:00:00.000000000",
          "1964-12-01T00:00:00.000000000",
          "1965-02-01T00:00:00.000000000",
          "1965-03-01T00:00:00.000000000",
          "1965-04-01T00:00:00.000000000",
          "1965-06-01T00:00:00.000000000",
          "1965-07-01T00:00:00.000000000",
          "1965-08-01T00:00:00.000000000",
          "1965-10-01T00:00:00.000000000",
          "1965-11-01T00:00:00.000000000",
          "1966-01-01T00:00:00.000000000",
          "1966-02-01T00:00:00.000000000",
          "1966-03-01T00:00:00.000000000",
          "1966-05-01T00:00:00.000000000",
          "1966-06-01T00:00:00.000000000",
          "1966-07-01T00:00:00.000000000",
          "1966-09-01T00:00:00.000000000",
          "1966-10-01T00:00:00.000000000",
          "1966-12-01T00:00:00.000000000",
          "1967-01-01T00:00:00.000000000",
          "1967-02-01T00:00:00.000000000",
          "1967-04-01T00:00:00.000000000",
          "1967-05-01T00:00:00.000000000",
          "1967-06-01T00:00:00.000000000",
          "1967-08-01T00:00:00.000000000",
          "1967-09-01T00:00:00.000000000",
          "1967-11-01T00:00:00.000000000",
          "1967-12-01T00:00:00.000000000",
          "1968-01-01T00:00:00.000000000",
          "1968-03-01T00:00:00.000000000",
          "1968-04-01T00:00:00.000000000",
          "1968-05-01T00:00:00.000000000",
          "1968-07-01T00:00:00.000000000",
          "1968-08-01T00:00:00.000000000",
          "1968-10-01T00:00:00.000000000",
          "1968-11-01T00:00:00.000000000",
          "1968-12-01T00:00:00.000000000",
          "1969-02-01T00:00:00.000000000",
          "1969-03-01T00:00:00.000000000",
          "1969-04-01T00:00:00.000000000",
          "1969-06-01T00:00:00.000000000",
          "1969-07-01T00:00:00.000000000",
          "1969-08-01T00:00:00.000000000",
          "1969-10-01T00:00:00.000000000",
          "1969-11-01T00:00:00.000000000",
          "1970-01-01T00:00:00.000000000",
          "1970-02-01T00:00:00.000000000",
          "1970-03-01T00:00:00.000000000",
          "1970-05-01T00:00:00.000000000",
          "1970-06-01T00:00:00.000000000",
          "1970-08-01T00:00:00.000000000",
          "1970-09-01T00:00:00.000000000",
          "1970-10-01T00:00:00.000000000",
          "1970-12-01T00:00:00.000000000",
          "1971-01-01T00:00:00.000000000",
          "1971-02-01T00:00:00.000000000",
          "1971-04-01T00:00:00.000000000",
          "1971-05-01T00:00:00.000000000",
          "1971-07-01T00:00:00.000000000",
          "1971-08-01T00:00:00.000000000",
          "1971-09-01T00:00:00.000000000",
          "1971-11-01T00:00:00.000000000",
          "1971-12-01T00:00:00.000000000",
          "1972-01-01T00:00:00.000000000",
          "1972-03-01T00:00:00.000000000",
          "1972-04-01T00:00:00.000000000",
          "1972-05-01T00:00:00.000000000",
          "1972-07-01T00:00:00.000000000",
          "1972-08-01T00:00:00.000000000",
          "1972-10-01T00:00:00.000000000",
          "1972-11-01T00:00:00.000000000",
          "1972-12-01T00:00:00.000000000",
          "1973-02-01T00:00:00.000000000",
          "1973-03-01T00:00:00.000000000",
          "1973-04-01T00:00:00.000000000",
          "1973-06-01T00:00:00.000000000",
          "1973-07-01T00:00:00.000000000",
          "1973-09-01T00:00:00.000000000",
          "1973-10-01T00:00:00.000000000",
          "1973-11-01T00:00:00.000000000",
          "1974-01-01T00:00:00.000000000",
          "1974-02-01T00:00:00.000000000",
          "1974-03-01T00:00:00.000000000",
          "1974-05-01T00:00:00.000000000",
          "1974-06-01T00:00:00.000000000",
          "1974-08-01T00:00:00.000000000",
          "1974-09-01T00:00:00.000000000",
          "1974-10-01T00:00:00.000000000",
          "1974-12-01T00:00:00.000000000",
          "1975-01-01T00:00:00.000000000",
          "1975-02-01T00:00:00.000000000",
          "1975-04-01T00:00:00.000000000",
          "1975-05-01T00:00:00.000000000",
          "1975-07-01T00:00:00.000000000",
          "1975-08-01T00:00:00.000000000",
          "1975-09-01T00:00:00.000000000",
          "1975-11-01T00:00:00.000000000",
          "1975-12-01T00:00:00.000000000",
          "1976-01-01T00:00:00.000000000",
          "1976-03-01T00:00:00.000000000",
          "1976-04-01T00:00:00.000000000",
          "1976-06-01T00:00:00.000000000",
          "1976-07-01T00:00:00.000000000",
          "1976-08-01T00:00:00.000000000",
          "1976-10-01T00:00:00.000000000",
          "1976-11-01T00:00:00.000000000",
          "1976-12-01T00:00:00.000000000",
          "1977-02-01T00:00:00.000000000",
          "1977-03-01T00:00:00.000000000",
          "1977-05-01T00:00:00.000000000",
          "1977-06-01T00:00:00.000000000",
          "1977-07-01T00:00:00.000000000",
          "1977-09-01T00:00:00.000000000",
          "1977-10-01T00:00:00.000000000",
          "1977-11-01T00:00:00.000000000",
          "1978-01-01T00:00:00.000000000",
          "1978-02-01T00:00:00.000000000",
          "1978-04-01T00:00:00.000000000",
          "1978-05-01T00:00:00.000000000",
          "1978-06-01T00:00:00.000000000",
          "1978-08-01T00:00:00.000000000",
          "1978-09-01T00:00:00.000000000",
          "1978-10-01T00:00:00.000000000",
          "1978-12-01T00:00:00.000000000",
          "1979-01-01T00:00:00.000000000",
          "1979-02-01T00:00:00.000000000",
          "1979-04-01T00:00:00.000000000",
          "1979-05-01T00:00:00.000000000",
          "1979-07-01T00:00:00.000000000",
          "1979-08-01T00:00:00.000000000",
          "1979-09-01T00:00:00.000000000",
          "1979-11-01T00:00:00.000000000",
          "1979-12-01T00:00:00.000000000",
          "1980-01-01T00:00:00.000000000",
          "1980-03-01T00:00:00.000000000",
          "1980-04-01T00:00:00.000000000",
          "1980-06-01T00:00:00.000000000",
          "1980-07-01T00:00:00.000000000",
          "1980-08-01T00:00:00.000000000",
          "1980-10-01T00:00:00.000000000",
          "1980-11-01T00:00:00.000000000",
          "1980-12-01T00:00:00.000000000",
          "1981-02-01T00:00:00.000000000",
          "1981-03-01T00:00:00.000000000",
          "1981-05-01T00:00:00.000000000",
          "1981-06-01T00:00:00.000000000",
          "1981-07-01T00:00:00.000000000",
          "1981-09-01T00:00:00.000000000",
          "1981-10-01T00:00:00.000000000",
          "1981-11-01T00:00:00.000000000",
          "1982-01-01T00:00:00.000000000",
          "1982-02-01T00:00:00.000000000",
          "1982-04-01T00:00:00.000000000",
          "1982-05-01T00:00:00.000000000",
          "1982-06-01T00:00:00.000000000",
          "1982-08-01T00:00:00.000000000",
          "1982-09-01T00:00:00.000000000",
          "1982-10-01T00:00:00.000000000",
          "1982-12-01T00:00:00.000000000",
          "1983-01-01T00:00:00.000000000",
          "1983-03-01T00:00:00.000000000",
          "1983-04-01T00:00:00.000000000",
          "1983-05-01T00:00:00.000000000",
          "1983-07-01T00:00:00.000000000",
          "1983-08-01T00:00:00.000000000",
          "1983-09-01T00:00:00.000000000",
          "1983-11-01T00:00:00.000000000",
          "1983-12-01T00:00:00.000000000",
          "1984-01-01T00:00:00.000000000",
          "1984-03-01T00:00:00.000000000",
          "1984-04-01T00:00:00.000000000",
          "1984-06-01T00:00:00.000000000",
          "1984-07-01T00:00:00.000000000",
          "1984-08-01T00:00:00.000000000",
          "1984-10-01T00:00:00.000000000",
          "1984-11-01T00:00:00.000000000",
          "1984-12-01T00:00:00.000000000",
          "1985-02-01T00:00:00.000000000",
          "1985-03-01T00:00:00.000000000",
          "1985-05-01T00:00:00.000000000",
          "1985-06-01T00:00:00.000000000",
          "1985-07-01T00:00:00.000000000",
          "1985-09-01T00:00:00.000000000",
          "1985-10-01T00:00:00.000000000",
          "1985-11-01T00:00:00.000000000",
          "1986-01-01T00:00:00.000000000",
          "1986-02-01T00:00:00.000000000",
          "1986-04-01T00:00:00.000000000",
          "1986-05-01T00:00:00.000000000",
          "1986-06-01T00:00:00.000000000",
          "1986-08-01T00:00:00.000000000",
          "1986-09-01T00:00:00.000000000",
          "1986-10-01T00:00:00.000000000",
          "1986-12-01T00:00:00.000000000",
          "1987-01-01T00:00:00.000000000",
          "1987-03-01T00:00:00.000000000",
          "1987-04-01T00:00:00.000000000",
          "1987-05-01T00:00:00.000000000",
          "1987-07-01T00:00:00.000000000",
          "1987-08-01T00:00:00.000000000",
          "1987-09-01T00:00:00.000000000",
          "1987-11-01T00:00:00.000000000",
          "1987-12-01T00:00:00.000000000",
          "1988-02-01T00:00:00.000000000",
          "1988-03-01T00:00:00.000000000",
          "1988-04-01T00:00:00.000000000",
          "1988-06-01T00:00:00.000000000",
          "1988-07-01T00:00:00.000000000",
          "1988-08-01T00:00:00.000000000",
          "1988-10-01T00:00:00.000000000",
          "1988-11-01T00:00:00.000000000",
          "1989-01-01T00:00:00.000000000",
          "1989-02-01T00:00:00.000000000",
          "1989-03-01T00:00:00.000000000",
          "1989-05-01T00:00:00.000000000",
          "1989-06-01T00:00:00.000000000",
          "1989-07-01T00:00:00.000000000",
          "1989-09-01T00:00:00.000000000",
          "1989-10-01T00:00:00.000000000",
          "1989-12-01T00:00:00.000000000",
          "1990-01-01T00:00:00.000000000",
          "1990-02-01T00:00:00.000000000",
          "1990-04-01T00:00:00.000000000",
          "1990-05-01T00:00:00.000000000",
          "1990-06-01T00:00:00.000000000",
          "1990-08-01T00:00:00.000000000",
          "1990-09-01T00:00:00.000000000",
          "1990-11-01T00:00:00.000000000",
          "1990-12-01T00:00:00.000000000",
          "1991-01-01T00:00:00.000000000",
          "1991-03-01T00:00:00.000000000",
          "1991-04-01T00:00:00.000000000",
          "1991-05-01T00:00:00.000000000",
          "1991-07-01T00:00:00.000000000",
          "1991-08-01T00:00:00.000000000",
          "1991-09-01T00:00:00.000000000",
          "1991-11-01T00:00:00.000000000",
          "1991-12-01T00:00:00.000000000",
          "1992-02-01T00:00:00.000000000",
          "1992-03-01T00:00:00.000000000",
          "1992-04-01T00:00:00.000000000",
          "1992-06-01T00:00:00.000000000",
          "1992-07-01T00:00:00.000000000",
          "1992-08-01T00:00:00.000000000",
          "1992-10-01T00:00:00.000000000",
          "1992-11-01T00:00:00.000000000",
          "1993-01-01T00:00:00.000000000",
          "1993-02-01T00:00:00.000000000",
          "1993-03-01T00:00:00.000000000",
          "1993-05-01T00:00:00.000000000",
          "1993-06-01T00:00:00.000000000",
          "1993-07-01T00:00:00.000000000",
          "1993-09-01T00:00:00.000000000",
          "1993-10-01T00:00:00.000000000",
          "1993-12-01T00:00:00.000000000",
          "1994-01-01T00:00:00.000000000",
          "1994-02-01T00:00:00.000000000",
          "1994-04-01T00:00:00.000000000",
          "1994-05-01T00:00:00.000000000",
          "1994-06-01T00:00:00.000000000",
          "1994-08-01T00:00:00.000000000",
          "1994-09-01T00:00:00.000000000",
          "1994-11-01T00:00:00.000000000",
          "1994-12-01T00:00:00.000000000",
          "1995-01-01T00:00:00.000000000",
          "1995-03-01T00:00:00.000000000",
          "1995-04-01T00:00:00.000000000",
          "1995-05-01T00:00:00.000000000",
          "1995-07-01T00:00:00.000000000",
          "1995-08-01T00:00:00.000000000",
          "1995-10-01T00:00:00.000000000",
          "1995-11-01T00:00:00.000000000",
          "1995-12-01T00:00:00.000000000",
          "1996-02-01T00:00:00.000000000",
          "1996-03-01T00:00:00.000000000",
          "1996-04-01T00:00:00.000000000",
          "1996-06-01T00:00:00.000000000",
          "1996-07-01T00:00:00.000000000",
          "1996-09-01T00:00:00.000000000",
          "1996-10-01T00:00:00.000000000",
          "1996-11-01T00:00:00.000000000",
          "1997-01-01T00:00:00.000000000",
          "1997-02-01T00:00:00.000000000",
          "1997-03-01T00:00:00.000000000",
          "1997-05-01T00:00:00.000000000",
          "1997-06-01T00:00:00.000000000",
          "1997-08-01T00:00:00.000000000",
          "1997-09-01T00:00:00.000000000",
          "1997-10-01T00:00:00.000000000",
          "1997-12-01T00:00:00.000000000",
          "1998-01-01T00:00:00.000000000",
          "1998-02-01T00:00:00.000000000",
          "1998-04-01T00:00:00.000000000",
          "1998-05-01T00:00:00.000000000",
          "1998-07-01T00:00:00.000000000",
          "1998-08-01T00:00:00.000000000",
          "1998-09-01T00:00:00.000000000",
          "1998-11-01T00:00:00.000000000",
          "1998-12-01T00:00:00.000000000",
          "1999-01-01T00:00:00.000000000",
          "1999-03-01T00:00:00.000000000",
          "1999-04-01T00:00:00.000000000",
          "1999-06-01T00:00:00.000000000",
          "1999-07-01T00:00:00.000000000",
          "1999-08-01T00:00:00.000000000",
          "1999-10-01T00:00:00.000000000",
          "1999-11-01T00:00:00.000000000",
          "1999-12-01T00:00:00.000000000",
          "2000-02-01T00:00:00.000000000",
          "2000-03-01T00:00:00.000000000",
          "2000-04-01T00:00:00.000000000",
          "2000-06-01T00:00:00.000000000",
          "2000-07-01T00:00:00.000000000",
          "2000-09-01T00:00:00.000000000",
          "2000-10-01T00:00:00.000000000",
          "2000-11-01T00:00:00.000000000",
          "2001-01-01T00:00:00.000000000",
          "2001-02-01T00:00:00.000000000",
          "2001-03-01T00:00:00.000000000",
          "2001-05-01T00:00:00.000000000",
          "2001-06-01T00:00:00.000000000",
          "2001-08-01T00:00:00.000000000",
          "2001-09-01T00:00:00.000000000",
          "2001-10-01T00:00:00.000000000",
          "2001-12-01T00:00:00.000000000",
          "2002-01-01T00:00:00.000000000",
          "2002-02-01T00:00:00.000000000",
          "2002-04-01T00:00:00.000000000",
          "2002-05-01T00:00:00.000000000",
          "2002-07-01T00:00:00.000000000",
          "2002-08-01T00:00:00.000000000",
          "2002-09-01T00:00:00.000000000",
          "2002-11-01T00:00:00.000000000",
          "2002-12-01T00:00:00.000000000",
          "2003-01-01T00:00:00.000000000",
          "2003-03-01T00:00:00.000000000",
          "2003-04-01T00:00:00.000000000",
          "2003-06-01T00:00:00.000000000",
          "2003-07-01T00:00:00.000000000",
          "2003-08-01T00:00:00.000000000",
          "2003-10-01T00:00:00.000000000",
          "2003-11-01T00:00:00.000000000",
          "2003-12-01T00:00:00.000000000",
          "2004-02-01T00:00:00.000000000",
          "2004-03-01T00:00:00.000000000",
          "2004-05-01T00:00:00.000000000",
          "2004-06-01T00:00:00.000000000",
          "2004-07-01T00:00:00.000000000",
          "2004-09-01T00:00:00.000000000",
          "2004-10-01T00:00:00.000000000",
          "2004-11-01T00:00:00.000000000",
          "2005-01-01T00:00:00.000000000",
          "2005-02-01T00:00:00.000000000",
          "2005-04-01T00:00:00.000000000",
          "2005-05-01T00:00:00.000000000",
          "2005-06-01T00:00:00.000000000",
          "2005-08-01T00:00:00.000000000",
          "2005-09-01T00:00:00.000000000",
          "2005-10-01T00:00:00.000000000",
          "2005-12-01T00:00:00.000000000",
          "2006-01-01T00:00:00.000000000",
          "2006-02-01T00:00:00.000000000",
          "2006-04-01T00:00:00.000000000",
          "2006-05-01T00:00:00.000000000",
          "2006-07-01T00:00:00.000000000",
          "2006-08-01T00:00:00.000000000",
          "2006-09-01T00:00:00.000000000",
          "2006-11-01T00:00:00.000000000",
          "2006-12-01T00:00:00.000000000",
          "2007-01-01T00:00:00.000000000",
          "2007-03-01T00:00:00.000000000",
          "2007-04-01T00:00:00.000000000",
          "2007-06-01T00:00:00.000000000",
          "2007-07-01T00:00:00.000000000",
          "2007-08-01T00:00:00.000000000",
          "2007-10-01T00:00:00.000000000",
          "2007-11-01T00:00:00.000000000",
          "2007-12-01T00:00:00.000000000",
          "2008-02-01T00:00:00.000000000",
          "2008-03-01T00:00:00.000000000",
          "2008-05-01T00:00:00.000000000",
          "2008-06-01T00:00:00.000000000",
          "2008-07-01T00:00:00.000000000",
          "2008-09-01T00:00:00.000000000",
          "2008-10-01T00:00:00.000000000",
          "2008-11-01T00:00:00.000000000",
          "2009-01-01T00:00:00.000000000",
          "2009-02-01T00:00:00.000000000",
          "2009-04-01T00:00:00.000000000",
          "2009-05-01T00:00:00.000000000",
          "2009-06-01T00:00:00.000000000",
          "2009-08-01T00:00:00.000000000",
          "2009-09-01T00:00:00.000000000",
          "2009-10-01T00:00:00.000000000",
          "2009-12-01T00:00:00.000000000",
          "2010-01-01T00:00:00.000000000",
          "2010-03-01T00:00:00.000000000",
          "2010-04-01T00:00:00.000000000",
          "2010-05-01T00:00:00.000000000",
          "2010-07-01T00:00:00.000000000",
          "2010-08-01T00:00:00.000000000",
          "2010-09-01T00:00:00.000000000",
          "2010-11-01T00:00:00.000000000",
          "2010-12-01T00:00:00.000000000",
          "2011-02-01T00:00:00.000000000",
          "2011-03-01T00:00:00.000000000",
          "2011-04-01T00:00:00.000000000",
          "2011-06-01T00:00:00.000000000",
          "2011-07-01T00:00:00.000000000",
          "2011-08-01T00:00:00.000000000",
          "2011-10-01T00:00:00.000000000",
          "2011-11-01T00:00:00.000000000",
          "2012-01-01T00:00:00.000000000",
          "2012-02-01T00:00:00.000000000",
          "2012-03-01T00:00:00.000000000",
          "2012-05-01T00:00:00.000000000",
          "2012-06-01T00:00:00.000000000",
          "2012-07-01T00:00:00.000000000",
          "2012-09-01T00:00:00.000000000",
          "2012-10-01T00:00:00.000000000",
          "2012-11-01T00:00:00.000000000",
          "2013-01-01T00:00:00.000000000",
          "2013-02-01T00:00:00.000000000",
          "2013-04-01T00:00:00.000000000",
          "2013-05-01T00:00:00.000000000",
          "2013-06-01T00:00:00.000000000",
          "2013-08-01T00:00:00.000000000",
          "2013-09-01T00:00:00.000000000",
          "2013-10-01T00:00:00.000000000",
          "2013-12-01T00:00:00.000000000",
          "2014-01-01T00:00:00.000000000",
          "2014-03-01T00:00:00.000000000",
          "2014-04-01T00:00:00.000000000",
          "2014-05-01T00:00:00.000000000",
          "2014-07-01T00:00:00.000000000",
          "2014-08-01T00:00:00.000000000",
          "2014-09-01T00:00:00.000000000",
          "2014-11-01T00:00:00.000000000",
          "2014-12-01T00:00:00.000000000",
          "2015-02-01T00:00:00.000000000",
          "2015-03-01T00:00:00.000000000",
          "2015-04-01T00:00:00.000000000",
          "2015-06-01T00:00:00.000000000",
          "2015-07-01T00:00:00.000000000",
          "2015-08-01T00:00:00.000000000",
          "2015-10-01T00:00:00.000000000",
          "2015-11-01T00:00:00.000000000",
          "2016-01-01T00:00:00.000000000",
          "2016-02-01T00:00:00.000000000",
          "2016-03-01T00:00:00.000000000",
          "2016-05-01T00:00:00.000000000",
          "2016-06-01T00:00:00.000000000",
          "2016-07-01T00:00:00.000000000",
          "2016-09-01T00:00:00.000000000",
          "2016-10-01T00:00:00.000000000",
          "2016-12-01T00:00:00.000000000",
          "2017-01-01T00:00:00.000000000",
          "2017-02-01T00:00:00.000000000",
          "2017-04-01T00:00:00.000000000",
          "2017-05-01T00:00:00.000000000",
          "2017-06-01T00:00:00.000000000",
          "2017-08-01T00:00:00.000000000",
          "2017-09-01T00:00:00.000000000",
          "2017-11-01T00:00:00.000000000",
          "2017-12-01T00:00:00.000000000",
          "2018-01-01T00:00:00.000000000",
          "2018-03-01T00:00:00.000000000",
          "2018-04-01T00:00:00.000000000",
          "2018-05-01T00:00:00.000000000",
          "2018-07-01T00:00:00.000000000",
          "2018-08-01T00:00:00.000000000",
          "2018-10-01T00:00:00.000000000",
          "2018-11-01T00:00:00.000000000",
          "2018-12-01T00:00:00.000000000",
          "2019-02-01T00:00:00.000000000",
          "2019-03-01T00:00:00.000000000",
          "2019-04-01T00:00:00.000000000",
          "2019-06-01T00:00:00.000000000",
          "2019-07-01T00:00:00.000000000",
          "2019-09-01T00:00:00.000000000",
          "2019-10-01T00:00:00.000000000",
          "2019-11-01T00:00:00.000000000",
          "2020-01-01T00:00:00.000000000",
          "2020-02-01T00:00:00.000000000",
          "2020-03-01T00:00:00.000000000",
          "2020-05-01T00:00:00.000000000",
          "2020-06-01T00:00:00.000000000",
          "2020-07-01T00:00:00.000000000",
          "2020-09-01T00:00:00.000000000",
          "2020-10-01T00:00:00.000000000",
          "2020-12-01T00:00:00.000000000",
          "2021-01-01T00:00:00.000000000",
          "2021-02-01T00:00:00.000000000",
          "2021-04-01T00:00:00.000000000",
          "2021-05-01T00:00:00.000000000",
          "2021-06-01T00:00:00.000000000",
          "2021-08-01T00:00:00.000000000",
          "2021-09-01T00:00:00.000000000",
          "2021-11-01T00:00:00.000000000",
          "2021-12-01T00:00:00.000000000",
          "2022-01-01T00:00:00.000000000",
          "2022-03-01T00:00:00.000000000",
          "2022-04-01T00:00:00.000000000",
          "2022-05-01T00:00:00.000000000",
          "2022-07-01T00:00:00.000000000",
          "2022-08-01T00:00:00.000000000",
          "2022-10-01T00:00:00.000000000",
          "2022-11-01T00:00:00.000000000",
          "2022-12-01T00:00:00.000000000",
          "2023-02-01T00:00:00.000000000",
          "2023-03-01T00:00:00.000000000",
          "2023-04-01T00:00:00.000000000",
          "2023-06-01T00:00:00.000000000",
          "2023-07-01T00:00:00.000000000",
          "2023-09-01T00:00:00.000000000",
          "2023-10-01T00:00:00.000000000",
          "2023-11-01T00:00:00.000000000",
          "2024-01-01T00:00:00.000000000",
          "2024-02-01T00:00:00.000000000",
          "2024-03-01T00:00:00.000000000",
          "2024-05-01T00:00:00.000000000",
          "2024-06-01T00:00:00.000000000",
          "2024-08-01T00:00:00.000000000",
          "2024-09-01T00:00:00.000000000",
          "2024-10-01T00:00:00.000000000",
          "2024-12-01T00:00:00.000000000"
         ],
         "xaxis": "x",
         "y": {
          "bdata": "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",
          "dtype": "f8"
         },
         "yaxis": "y"
        }
       ],
       "layout": {
        "annotations": [
         {
          "align": "left",
          "bgcolor": "rgba(255, 255, 255, 0.8)",
          "bordercolor": "black",
          "borderwidth": 1,
          "font": {
           "size": 10
          },
          "showarrow": false,
          "text": "Source: Trading Economics<br>Original Source: Institute for Supply Management<br>Frequency: Unknown/irregular<br>",
          "x": 0,
          "xanchor": "left",
          "xref": "paper",
          "y": -0.2,
          "yanchor": "bottom",
          "yref": "paper"
         }
        ],
        "legend": {
         "orientation": "h",
         "title": {
          "text": ""
         },
         "tracegroupgap": 0,
         "x": 0.5,
         "xanchor": "center",
         "y": -0.2,
         "yanchor": "bottom"
        },
        "margin": {
         "t": 60
        },
        "template": {
         "data": {
          "bar": [
           {
            "error_x": {
             "color": "#2a3f5f"
            },
            "error_y": {
             "color": "#2a3f5f"
            },
            "marker": {
             "line": {
              "color": "#E5ECF6",
              "width": 0.5
             },
             "pattern": {
              "fillmode": "overlay",
              "size": 10,
              "solidity": 0.2
             }
            },
            "type": "bar"
           }
          ],
          "barpolar": [
           {
            "marker": {
             "line": {
              "color": "#E5ECF6",
              "width": 0.5
             },
             "pattern": {
              "fillmode": "overlay",
              "size": 10,
              "solidity": 0.2
             }
            },
            "type": "barpolar"
           }
          ],
          "carpet": [
           {
            "aaxis": {
             "endlinecolor": "#2a3f5f",
             "gridcolor": "white",
             "linecolor": "white",
             "minorgridcolor": "white",
             "startlinecolor": "#2a3f5f"
            },
            "baxis": {
             "endlinecolor": "#2a3f5f",
             "gridcolor": "white",
             "linecolor": "white",
             "minorgridcolor": "white",
             "startlinecolor": "#2a3f5f"
            },
            "type": "carpet"
           }
          ],
          "choropleth": [
           {
            "colorbar": {
             "outlinewidth": 0,
             "ticks": ""
            },
            "type": "choropleth"
           }
          ],
          "contour": [
           {
            "colorbar": {
             "outlinewidth": 0,
             "ticks": ""
            },
            "colorscale": [
             [
              0,
              "#0d0887"
             ],
             [
              0.1111111111111111,
              "#46039f"
             ],
             [
              0.2222222222222222,
              "#7201a8"
             ],
             [
              0.3333333333333333,
              "#9c179e"
             ],
             [
              0.4444444444444444,
              "#bd3786"
             ],
             [
              0.5555555555555556,
              "#d8576b"
             ],
             [
              0.6666666666666666,
              "#ed7953"
             ],
             [
              0.7777777777777778,
              "#fb9f3a"
             ],
             [
              0.8888888888888888,
              "#fdca26"
             ],
             [
              1,
              "#f0f921"
             ]
            ],
            "type": "contour"
           }
          ],
          "contourcarpet": [
           {
            "colorbar": {
             "outlinewidth": 0,
             "ticks": ""
            },
            "type": "contourcarpet"
           }
          ],
          "heatmap": [
           {
            "colorbar": {
             "outlinewidth": 0,
             "ticks": ""
            },
            "colorscale": [
             [
              0,
              "#0d0887"
             ],
             [
              0.1111111111111111,
              "#46039f"
             ],
             [
              0.2222222222222222,
              "#7201a8"
             ],
             [
              0.3333333333333333,
              "#9c179e"
             ],
             [
              0.4444444444444444,
              "#bd3786"
             ],
             [
              0.5555555555555556,
              "#d8576b"
             ],
             [
              0.6666666666666666,
              "#ed7953"
             ],
             [
              0.7777777777777778,
              "#fb9f3a"
             ],
             [
              0.8888888888888888,
              "#fdca26"
             ],
             [
              1,
              "#f0f921"
             ]
            ],
            "type": "heatmap"
           }
          ],
          "histogram": [
           {
            "marker": {
             "pattern": {
              "fillmode": "overlay",
              "size": 10,
              "solidity": 0.2
             }
            },
            "type": "histogram"
           }
          ],
          "histogram2d": [
           {
            "colorbar": {
             "outlinewidth": 0,
             "ticks": ""
            },
            "colorscale": [
             [
              0,
              "#0d0887"
             ],
             [
              0.1111111111111111,
              "#46039f"
             ],
             [
              0.2222222222222222,
              "#7201a8"
             ],
             [
              0.3333333333333333,
              "#9c179e"
             ],
             [
              0.4444444444444444,
              "#bd3786"
             ],
             [
              0.5555555555555556,
              "#d8576b"
             ],
             [
              0.6666666666666666,
              "#ed7953"
             ],
             [
              0.7777777777777778,
              "#fb9f3a"
             ],
             [
              0.8888888888888888,
              "#fdca26"
             ],
             [
              1,
              "#f0f921"
             ]
            ],
            "type": "histogram2d"
           }
          ],
          "histogram2dcontour": [
           {
            "colorbar": {
             "outlinewidth": 0,
             "ticks": ""
            },
            "colorscale": [
             [
              0,
              "#0d0887"
             ],
             [
              0.1111111111111111,
              "#46039f"
             ],
             [
              0.2222222222222222,
              "#7201a8"
             ],
             [
              0.3333333333333333,
              "#9c179e"
             ],
             [
              0.4444444444444444,
              "#bd3786"
             ],
             [
              0.5555555555555556,
              "#d8576b"
             ],
             [
              0.6666666666666666,
              "#ed7953"
             ],
             [
              0.7777777777777778,
              "#fb9f3a"
             ],
             [
              0.8888888888888888,
              "#fdca26"
             ],
             [
              1,
              "#f0f921"
             ]
            ],
            "type": "histogram2dcontour"
           }
          ],
          "mesh3d": [
           {
            "colorbar": {
             "outlinewidth": 0,
             "ticks": ""
            },
            "type": "mesh3d"
           }
          ],
          "parcoords": [
           {
            "line": {
             "colorbar": {
              "outlinewidth": 0,
              "ticks": ""
             }
            },
            "type": "parcoords"
           }
          ],
          "pie": [
           {
            "automargin": true,
            "type": "pie"
           }
          ],
          "scatter": [
           {
            "fillpattern": {
             "fillmode": "overlay",
             "size": 10,
             "solidity": 0.2
            },
            "type": "scatter"
           }
          ],
          "scatter3d": [
           {
            "line": {
             "colorbar": {
              "outlinewidth": 0,
              "ticks": ""
             }
            },
            "marker": {
             "colorbar": {
              "outlinewidth": 0,
              "ticks": ""
             }
            },
            "type": "scatter3d"
           }
          ],
          "scattercarpet": [
           {
            "marker": {
             "colorbar": {
              "outlinewidth": 0,
              "ticks": ""
             }
            },
            "type": "scattercarpet"
           }
          ],
          "scattergeo": [
           {
            "marker": {
             "colorbar": {
              "outlinewidth": 0,
              "ticks": ""
             }
            },
            "type": "scattergeo"
           }
          ],
          "scattergl": [
           {
            "marker": {
             "colorbar": {
              "outlinewidth": 0,
              "ticks": ""
             }
            },
            "type": "scattergl"
           }
          ],
          "scattermap": [
           {
            "marker": {
             "colorbar": {
              "outlinewidth": 0,
              "ticks": ""
             }
            },
            "type": "scattermap"
           }
          ],
          "scattermapbox": [
           {
            "marker": {
             "colorbar": {
              "outlinewidth": 0,
              "ticks": ""
             }
            },
            "type": "scattermapbox"
           }
          ],
          "scatterpolar": [
           {
            "marker": {
             "colorbar": {
              "outlinewidth": 0,
              "ticks": ""
             }
            },
            "type": "scatterpolar"
           }
          ],
          "scatterpolargl": [
           {
            "marker": {
             "colorbar": {
              "outlinewidth": 0,
              "ticks": ""
             }
            },
            "type": "scatterpolargl"
           }
          ],
          "scatterternary": [
           {
            "marker": {
             "colorbar": {
              "outlinewidth": 0,
              "ticks": ""
             }
            },
            "type": "scatterternary"
           }
          ],
          "surface": [
           {
            "colorbar": {
             "outlinewidth": 0,
             "ticks": ""
            },
            "colorscale": [
             [
              0,
              "#0d0887"
             ],
             [
              0.1111111111111111,
              "#46039f"
             ],
             [
              0.2222222222222222,
              "#7201a8"
             ],
             [
              0.3333333333333333,
              "#9c179e"
             ],
             [
              0.4444444444444444,
              "#bd3786"
             ],
             [
              0.5555555555555556,
              "#d8576b"
             ],
             [
              0.6666666666666666,
              "#ed7953"
             ],
             [
              0.7777777777777778,
              "#fb9f3a"
             ],
             [
              0.8888888888888888,
              "#fdca26"
             ],
             [
              1,
              "#f0f921"
             ]
            ],
            "type": "surface"
           }
          ],
          "table": [
           {
            "cells": {
             "fill": {
              "color": "#EBF0F8"
             },
             "line": {
              "color": "white"
             }
            },
            "header": {
             "fill": {
              "color": "#C8D4E3"
             },
             "line": {
              "color": "white"
             }
            },
            "type": "table"
           }
          ]
         },
         "layout": {
          "annotationdefaults": {
           "arrowcolor": "#2a3f5f",
           "arrowhead": 0,
           "arrowwidth": 1
          },
          "autotypenumbers": "strict",
          "coloraxis": {
           "colorbar": {
            "outlinewidth": 0,
            "ticks": ""
           }
          },
          "colorscale": {
           "diverging": [
            [
             0,
             "#8e0152"
            ],
            [
             0.1,
             "#c51b7d"
            ],
            [
             0.2,
             "#de77ae"
            ],
            [
             0.3,
             "#f1b6da"
            ],
            [
             0.4,
             "#fde0ef"
            ],
            [
             0.5,
             "#f7f7f7"
            ],
            [
             0.6,
             "#e6f5d0"
            ],
            [
             0.7,
             "#b8e186"
            ],
            [
             0.8,
             "#7fbc41"
            ],
            [
             0.9,
             "#4d9221"
            ],
            [
             1,
             "#276419"
            ]
           ],
           "sequential": [
            [
             0,
             "#0d0887"
            ],
            [
             0.1111111111111111,
             "#46039f"
            ],
            [
             0.2222222222222222,
             "#7201a8"
            ],
            [
             0.3333333333333333,
             "#9c179e"
            ],
            [
             0.4444444444444444,
             "#bd3786"
            ],
            [
             0.5555555555555556,
             "#d8576b"
            ],
            [
             0.6666666666666666,
             "#ed7953"
            ],
            [
             0.7777777777777778,
             "#fb9f3a"
            ],
            [
             0.8888888888888888,
             "#fdca26"
            ],
            [
             1,
             "#f0f921"
            ]
           ],
           "sequentialminus": [
            [
             0,
             "#0d0887"
            ],
            [
             0.1111111111111111,
             "#46039f"
            ],
            [
             0.2222222222222222,
             "#7201a8"
            ],
            [
             0.3333333333333333,
             "#9c179e"
            ],
            [
             0.4444444444444444,
             "#bd3786"
            ],
            [
             0.5555555555555556,
             "#d8576b"
            ],
            [
             0.6666666666666666,
             "#ed7953"
            ],
            [
             0.7777777777777778,
             "#fb9f3a"
            ],
            [
             0.8888888888888888,
             "#fdca26"
            ],
            [
             1,
             "#f0f921"
            ]
           ]
          },
          "colorway": [
           "#636efa",
           "#EF553B",
           "#00cc96",
           "#ab63fa",
           "#FFA15A",
           "#19d3f3",
           "#FF6692",
           "#B6E880",
           "#FF97FF",
           "#FECB52"
          ],
          "font": {
           "color": "#2a3f5f"
          },
          "geo": {
           "bgcolor": "white",
           "lakecolor": "white",
           "landcolor": "#E5ECF6",
           "showlakes": true,
           "showland": true,
           "subunitcolor": "white"
          },
          "hoverlabel": {
           "align": "left"
          },
          "hovermode": "closest",
          "mapbox": {
           "style": "light"
          },
          "paper_bgcolor": "white",
          "plot_bgcolor": "#E5ECF6",
          "polar": {
           "angularaxis": {
            "gridcolor": "white",
            "linecolor": "white",
            "ticks": ""
           },
           "bgcolor": "#E5ECF6",
           "radialaxis": {
            "gridcolor": "white",
            "linecolor": "white",
            "ticks": ""
           }
          },
          "scene": {
           "xaxis": {
            "backgroundcolor": "#E5ECF6",
            "gridcolor": "white",
            "gridwidth": 2,
            "linecolor": "white",
            "showbackground": true,
            "ticks": "",
            "zerolinecolor": "white"
           },
           "yaxis": {
            "backgroundcolor": "#E5ECF6",
            "gridcolor": "white",
            "gridwidth": 2,
            "linecolor": "white",
            "showbackground": true,
            "ticks": "",
            "zerolinecolor": "white"
           },
           "zaxis": {
            "backgroundcolor": "#E5ECF6",
            "gridcolor": "white",
            "gridwidth": 2,
            "linecolor": "white",
            "showbackground": true,
            "ticks": "",
            "zerolinecolor": "white"
           }
          },
          "shapedefaults": {
           "line": {
            "color": "#2a3f5f"
           }
          },
          "ternary": {
           "aaxis": {
            "gridcolor": "white",
            "linecolor": "white",
            "ticks": ""
           },
           "baxis": {
            "gridcolor": "white",
            "linecolor": "white",
            "ticks": ""
           },
           "bgcolor": "#E5ECF6",
           "caxis": {
            "gridcolor": "white",
            "linecolor": "white",
            "ticks": ""
           }
          },
          "title": {
           "x": 0.05
          },
          "xaxis": {
           "automargin": true,
           "gridcolor": "white",
           "linecolor": "white",
           "ticks": "",
           "title": {
            "standoff": 15
           },
           "zerolinecolor": "white",
           "zerolinewidth": 2
          },
          "yaxis": {
           "automargin": true,
           "gridcolor": "white",
           "linecolor": "white",
           "ticks": "",
           "title": {
            "standoff": 15
           },
           "zerolinecolor": "white",
           "zerolinewidth": 2
          }
         }
        },
        "title": {
         "text": "United states: United states ism manufacturing pmi"
        },
        "xaxis": {
         "anchor": "y",
         "domain": [
          0,
          1
         ],
         "title": {
          "text": ""
         }
        },
        "yaxis": {
         "anchor": "x",
         "domain": [
          0,
          1
         ],
         "title": {
          "text": "Points"
         }
        }
       }
      }
     },
     "metadata": {},
     "output_type": "display_data"
    }
   ],
   "source": [
    "scruf.plot_series()  ## Plot the series."
   ]
  },
  {
   "cell_type": "code",
   "execution_count": 12,
   "metadata": {},
   "outputs": [
    {
     "data": {
      "text/plain": [
       "{'units': 'points',\n",
       " 'original_source': 'Institute for Supply Management',\n",
       " 'title': 'United States ISM Manufacturing PMI',\n",
       " 'indicator': 'business confidence',\n",
       " 'country': 'united states',\n",
       " 'source': 'Trading Economics',\n",
       " 'id': 'united-states/business-confidence',\n",
       " 'description': \"The Manufacturing ISM Report On Business is based on data compiled from purchasing and supply executives nationwide. Survey responses reflect the change, if any, in the current month compared to the previous month. For each of the indicators measured (New Orders, Backlog of Orders, New Export Orders, Imports, Production, Supplier Deliveries, Inventories, Customers' Inventories, Employment and Prices), the report shows the percentage reporting each response, the net difference between the number of responses in the positive economic direction and the negative economic direction, and the diffusion index. A PMI reading above 50 percent indicates that the manufacturing economy is generally expanding; below 50 percent indicates that it is generally declining.\",\n",
       " 'frequency': 'MS',\n",
       " 'start_date': '1948-01-01',\n",
       " 'end_date': '2025-01-01',\n",
       " 'min_value': 29.4,\n",
       " 'max_value': 77.5,\n",
       " 'length': 923}"
      ]
     },
     "execution_count": 12,
     "metadata": {},
     "output_type": "execute_result"
    }
   ],
   "source": [
    "scrup.metadata"
   ]
  },
  {
   "cell_type": "code",
   "execution_count": 14,
   "metadata": {},
   "outputs": [
    {
     "name": "stdout",
     "output_type": "stream",
     "text": [
      "1948-01-01    51.7\n",
      "1948-02-01    50.2\n",
      "1948-03-01    43.3\n",
      "1948-04-01    45.4\n",
      "1948-05-01    49.5\n",
      "Name: United States ISM Manufacturing PMI, dtype: float64 mixed <class 'pandas.core.series.Series'>\n",
      "1948-01-01    51.7\n",
      "1948-02-01    48.7\n",
      "1948-03-01    43.3\n",
      "1948-04-01    45.4\n",
      "1948-05-01    49.5\n",
      "Freq: MS, Name: business confidence, dtype: float64 path <class 'pandas.core.series.Series'>\n",
      "1948-02-01    50.2\n",
      "1948-04-01    45.4\n",
      "1948-05-01    49.5\n",
      "1948-07-01    48.4\n",
      "1948-08-01    45.1\n",
      "Name: United States ISM Manufacturing PMI, dtype: float64 tooltips <class 'pandas.core.series.Series'>\n"
     ]
    },
    {
     "data": {
      "application/vnd.plotly.v1+json": {
       "config": {
        "plotlyServerURL": "https://plot.ly"
       },
       "data": [
        {
         "line": {
          "color": "blue"
         },
         "mode": "lines",
         "name": "United States ISM Manufacturing PMI (method: mixed)",
         "type": "scatter",
         "x": [
          "1948-01-01T00:00:00.000000000",
          "1948-02-01T00:00:00.000000000",
          "1948-03-01T00:00:00.000000000",
          "1948-04-01T00:00:00.000000000",
          "1948-05-01T00:00:00.000000000",
          "1948-06-01T00:00:00.000000000",
          "1948-07-01T00:00:00.000000000",
          "1948-08-01T00:00:00.000000000",
          "1948-09-01T00:00:00.000000000",
          "1948-10-01T00:00:00.000000000",
          "1948-11-01T00:00:00.000000000",
          "1948-12-01T00:00:00.000000000",
          "1949-01-01T00:00:00.000000000",
          "1949-02-01T00:00:00.000000000",
          "1949-03-01T00:00:00.000000000",
          "1949-04-01T00:00:00.000000000",
          "1949-05-01T00:00:00.000000000",
          "1949-06-01T00:00:00.000000000",
          "1949-07-01T00:00:00.000000000",
          "1949-08-01T00:00:00.000000000",
          "1949-09-01T00:00:00.000000000",
          "1949-10-01T00:00:00.000000000",
          "1949-11-01T00:00:00.000000000",
          "1949-12-01T00:00:00.000000000",
          "1950-01-01T00:00:00.000000000",
          "1950-02-01T00:00:00.000000000",
          "1950-03-01T00:00:00.000000000",
          "1950-04-01T00:00:00.000000000",
          "1950-05-01T00:00:00.000000000",
          "1950-06-01T00:00:00.000000000",
          "1950-07-01T00:00:00.000000000",
          "1950-08-01T00:00:00.000000000",
          "1950-09-01T00:00:00.000000000",
          "1950-10-01T00:00:00.000000000",
          "1950-11-01T00:00:00.000000000",
          "1950-12-01T00:00:00.000000000",
          "1951-01-01T00:00:00.000000000",
          "1951-02-01T00:00:00.000000000",
          "1951-03-01T00:00:00.000000000",
          "1951-04-01T00:00:00.000000000",
          "1951-05-01T00:00:00.000000000",
          "1951-06-01T00:00:00.000000000",
          "1951-07-01T00:00:00.000000000",
          "1951-08-01T00:00:00.000000000",
          "1951-09-01T00:00:00.000000000",
          "1951-10-01T00:00:00.000000000",
          "1951-11-01T00:00:00.000000000",
          "1951-12-01T00:00:00.000000000",
          "1952-01-01T00:00:00.000000000",
          "1952-02-01T00:00:00.000000000",
          "1952-03-01T00:00:00.000000000",
          "1952-04-01T00:00:00.000000000",
          "1952-05-01T00:00:00.000000000",
          "1952-06-01T00:00:00.000000000",
          "1952-07-01T00:00:00.000000000",
          "1952-08-01T00:00:00.000000000",
          "1952-09-01T00:00:00.000000000",
          "1952-10-01T00:00:00.000000000",
          "1952-11-01T00:00:00.000000000",
          "1952-12-01T00:00:00.000000000",
          "1953-01-01T00:00:00.000000000",
          "1953-02-01T00:00:00.000000000",
          "1953-03-01T00:00:00.000000000",
          "1953-04-01T00:00:00.000000000",
          "1953-05-01T00:00:00.000000000",
          "1953-06-01T00:00:00.000000000",
          "1953-07-01T00:00:00.000000000",
          "1953-08-01T00:00:00.000000000",
          "1953-09-01T00:00:00.000000000",
          "1953-10-01T00:00:00.000000000",
          "1953-11-01T00:00:00.000000000",
          "1953-12-01T00:00:00.000000000",
          "1954-01-01T00:00:00.000000000",
          "1954-02-01T00:00:00.000000000",
          "1954-03-01T00:00:00.000000000",
          "1954-04-01T00:00:00.000000000",
          "1954-05-01T00:00:00.000000000",
          "1954-06-01T00:00:00.000000000",
          "1954-07-01T00:00:00.000000000",
          "1954-08-01T00:00:00.000000000",
          "1954-09-01T00:00:00.000000000",
          "1954-10-01T00:00:00.000000000",
          "1954-11-01T00:00:00.000000000",
          "1954-12-01T00:00:00.000000000",
          "1955-01-01T00:00:00.000000000",
          "1955-02-01T00:00:00.000000000",
          "1955-03-01T00:00:00.000000000",
          "1955-04-01T00:00:00.000000000",
          "1955-05-01T00:00:00.000000000",
          "1955-06-01T00:00:00.000000000",
          "1955-07-01T00:00:00.000000000",
          "1955-08-01T00:00:00.000000000",
          "1955-09-01T00:00:00.000000000",
          "1955-10-01T00:00:00.000000000",
          "1955-11-01T00:00:00.000000000",
          "1955-12-01T00:00:00.000000000",
          "1956-01-01T00:00:00.000000000",
          "1956-02-01T00:00:00.000000000",
          "1956-03-01T00:00:00.000000000",
          "1956-04-01T00:00:00.000000000",
          "1956-05-01T00:00:00.000000000",
          "1956-06-01T00:00:00.000000000",
          "1956-07-01T00:00:00.000000000",
          "1956-08-01T00:00:00.000000000",
          "1956-09-01T00:00:00.000000000",
          "1956-10-01T00:00:00.000000000",
          "1956-11-01T00:00:00.000000000",
          "1956-12-01T00:00:00.000000000",
          "1957-01-01T00:00:00.000000000",
          "1957-02-01T00:00:00.000000000",
          "1957-03-01T00:00:00.000000000",
          "1957-04-01T00:00:00.000000000",
          "1957-05-01T00:00:00.000000000",
          "1957-06-01T00:00:00.000000000",
          "1957-07-01T00:00:00.000000000",
          "1957-08-01T00:00:00.000000000",
          "1957-09-01T00:00:00.000000000",
          "1957-10-01T00:00:00.000000000",
          "1957-11-01T00:00:00.000000000",
          "1957-12-01T00:00:00.000000000",
          "1958-01-01T00:00:00.000000000",
          "1958-02-01T00:00:00.000000000",
          "1958-03-01T00:00:00.000000000",
          "1958-04-01T00:00:00.000000000",
          "1958-05-01T00:00:00.000000000",
          "1958-06-01T00:00:00.000000000",
          "1958-07-01T00:00:00.000000000",
          "1958-08-01T00:00:00.000000000",
          "1958-09-01T00:00:00.000000000",
          "1958-10-01T00:00:00.000000000",
          "1958-11-01T00:00:00.000000000",
          "1958-12-01T00:00:00.000000000",
          "1959-01-01T00:00:00.000000000",
          "1959-02-01T00:00:00.000000000",
          "1959-03-01T00:00:00.000000000",
          "1959-04-01T00:00:00.000000000",
          "1959-05-01T00:00:00.000000000",
          "1959-06-01T00:00:00.000000000",
          "1959-07-01T00:00:00.000000000",
          "1959-08-01T00:00:00.000000000",
          "1959-09-01T00:00:00.000000000",
          "1959-10-01T00:00:00.000000000",
          "1959-11-01T00:00:00.000000000",
          "1959-12-01T00:00:00.000000000",
          "1960-01-01T00:00:00.000000000",
          "1960-02-01T00:00:00.000000000",
          "1960-03-01T00:00:00.000000000",
          "1960-04-01T00:00:00.000000000",
          "1960-05-01T00:00:00.000000000",
          "1960-06-01T00:00:00.000000000",
          "1960-07-01T00:00:00.000000000",
          "1960-08-01T00:00:00.000000000",
          "1960-09-01T00:00:00.000000000",
          "1960-10-01T00:00:00.000000000",
          "1960-11-01T00:00:00.000000000",
          "1960-12-01T00:00:00.000000000",
          "1961-01-01T00:00:00.000000000",
          "1961-02-01T00:00:00.000000000",
          "1961-03-01T00:00:00.000000000",
          "1961-04-01T00:00:00.000000000",
          "1961-05-01T00:00:00.000000000",
          "1961-06-01T00:00:00.000000000",
          "1961-07-01T00:00:00.000000000",
          "1961-08-01T00:00:00.000000000",
          "1961-09-01T00:00:00.000000000",
          "1961-10-01T00:00:00.000000000",
          "1961-11-01T00:00:00.000000000",
          "1961-12-01T00:00:00.000000000",
          "1962-01-01T00:00:00.000000000",
          "1962-02-01T00:00:00.000000000",
          "1962-03-01T00:00:00.000000000",
          "1962-04-01T00:00:00.000000000",
          "1962-05-01T00:00:00.000000000",
          "1962-06-01T00:00:00.000000000",
          "1962-07-01T00:00:00.000000000",
          "1962-08-01T00:00:00.000000000",
          "1962-09-01T00:00:00.000000000",
          "1962-10-01T00:00:00.000000000",
          "1962-11-01T00:00:00.000000000",
          "1962-12-01T00:00:00.000000000",
          "1963-01-01T00:00:00.000000000",
          "1963-02-01T00:00:00.000000000",
          "1963-03-01T00:00:00.000000000",
          "1963-04-01T00:00:00.000000000",
          "1963-05-01T00:00:00.000000000",
          "1963-06-01T00:00:00.000000000",
          "1963-07-01T00:00:00.000000000",
          "1963-08-01T00:00:00.000000000",
          "1963-09-01T00:00:00.000000000",
          "1963-10-01T00:00:00.000000000",
          "1963-11-01T00:00:00.000000000",
          "1963-12-01T00:00:00.000000000",
          "1964-01-01T00:00:00.000000000",
          "1964-02-01T00:00:00.000000000",
          "1964-03-01T00:00:00.000000000",
          "1964-04-01T00:00:00.000000000",
          "1964-05-01T00:00:00.000000000",
          "1964-06-01T00:00:00.000000000",
          "1964-07-01T00:00:00.000000000",
          "1964-08-01T00:00:00.000000000",
          "1964-09-01T00:00:00.000000000",
          "1964-10-01T00:00:00.000000000",
          "1964-11-01T00:00:00.000000000",
          "1964-12-01T00:00:00.000000000",
          "1965-01-01T00:00:00.000000000",
          "1965-02-01T00:00:00.000000000",
          "1965-03-01T00:00:00.000000000",
          "1965-04-01T00:00:00.000000000",
          "1965-05-01T00:00:00.000000000",
          "1965-06-01T00:00:00.000000000",
          "1965-07-01T00:00:00.000000000",
          "1965-08-01T00:00:00.000000000",
          "1965-09-01T00:00:00.000000000",
          "1965-10-01T00:00:00.000000000",
          "1965-11-01T00:00:00.000000000",
          "1965-12-01T00:00:00.000000000",
          "1966-01-01T00:00:00.000000000",
          "1966-02-01T00:00:00.000000000",
          "1966-03-01T00:00:00.000000000",
          "1966-04-01T00:00:00.000000000",
          "1966-05-01T00:00:00.000000000",
          "1966-06-01T00:00:00.000000000",
          "1966-07-01T00:00:00.000000000",
          "1966-08-01T00:00:00.000000000",
          "1966-09-01T00:00:00.000000000",
          "1966-10-01T00:00:00.000000000",
          "1966-11-01T00:00:00.000000000",
          "1966-12-01T00:00:00.000000000",
          "1967-01-01T00:00:00.000000000",
          "1967-02-01T00:00:00.000000000",
          "1967-03-01T00:00:00.000000000",
          "1967-04-01T00:00:00.000000000",
          "1967-05-01T00:00:00.000000000",
          "1967-06-01T00:00:00.000000000",
          "1967-07-01T00:00:00.000000000",
          "1967-08-01T00:00:00.000000000",
          "1967-09-01T00:00:00.000000000",
          "1967-10-01T00:00:00.000000000",
          "1967-11-01T00:00:00.000000000",
          "1967-12-01T00:00:00.000000000",
          "1968-01-01T00:00:00.000000000",
          "1968-02-01T00:00:00.000000000",
          "1968-03-01T00:00:00.000000000",
          "1968-04-01T00:00:00.000000000",
          "1968-05-01T00:00:00.000000000",
          "1968-06-01T00:00:00.000000000",
          "1968-07-01T00:00:00.000000000",
          "1968-08-01T00:00:00.000000000",
          "1968-09-01T00:00:00.000000000",
          "1968-10-01T00:00:00.000000000",
          "1968-11-01T00:00:00.000000000",
          "1968-12-01T00:00:00.000000000",
          "1969-01-01T00:00:00.000000000",
          "1969-02-01T00:00:00.000000000",
          "1969-03-01T00:00:00.000000000",
          "1969-04-01T00:00:00.000000000",
          "1969-05-01T00:00:00.000000000",
          "1969-06-01T00:00:00.000000000",
          "1969-07-01T00:00:00.000000000",
          "1969-08-01T00:00:00.000000000",
          "1969-09-01T00:00:00.000000000",
          "1969-10-01T00:00:00.000000000",
          "1969-11-01T00:00:00.000000000",
          "1969-12-01T00:00:00.000000000",
          "1970-01-01T00:00:00.000000000",
          "1970-02-01T00:00:00.000000000",
          "1970-03-01T00:00:00.000000000",
          "1970-04-01T00:00:00.000000000",
          "1970-05-01T00:00:00.000000000",
          "1970-06-01T00:00:00.000000000",
          "1970-07-01T00:00:00.000000000",
          "1970-08-01T00:00:00.000000000",
          "1970-09-01T00:00:00.000000000",
          "1970-10-01T00:00:00.000000000",
          "1970-11-01T00:00:00.000000000",
          "1970-12-01T00:00:00.000000000",
          "1971-01-01T00:00:00.000000000",
          "1971-02-01T00:00:00.000000000",
          "1971-03-01T00:00:00.000000000",
          "1971-04-01T00:00:00.000000000",
          "1971-05-01T00:00:00.000000000",
          "1971-06-01T00:00:00.000000000",
          "1971-07-01T00:00:00.000000000",
          "1971-08-01T00:00:00.000000000",
          "1971-09-01T00:00:00.000000000",
          "1971-10-01T00:00:00.000000000",
          "1971-11-01T00:00:00.000000000",
          "1971-12-01T00:00:00.000000000",
          "1972-01-01T00:00:00.000000000",
          "1972-02-01T00:00:00.000000000",
          "1972-03-01T00:00:00.000000000",
          "1972-04-01T00:00:00.000000000",
          "1972-05-01T00:00:00.000000000",
          "1972-06-01T00:00:00.000000000",
          "1972-07-01T00:00:00.000000000",
          "1972-08-01T00:00:00.000000000",
          "1972-09-01T00:00:00.000000000",
          "1972-10-01T00:00:00.000000000",
          "1972-11-01T00:00:00.000000000",
          "1972-12-01T00:00:00.000000000",
          "1973-01-01T00:00:00.000000000",
          "1973-02-01T00:00:00.000000000",
          "1973-03-01T00:00:00.000000000",
          "1973-04-01T00:00:00.000000000",
          "1973-05-01T00:00:00.000000000",
          "1973-06-01T00:00:00.000000000",
          "1973-07-01T00:00:00.000000000",
          "1973-09-01T00:00:00.000000000",
          "1973-10-01T00:00:00.000000000",
          "1973-11-01T00:00:00.000000000",
          "1973-12-01T00:00:00.000000000",
          "1974-01-01T00:00:00.000000000",
          "1974-02-01T00:00:00.000000000",
          "1974-03-01T00:00:00.000000000",
          "1974-04-01T00:00:00.000000000",
          "1974-05-01T00:00:00.000000000",
          "1974-06-01T00:00:00.000000000",
          "1974-07-01T00:00:00.000000000",
          "1974-08-01T00:00:00.000000000",
          "1974-09-01T00:00:00.000000000",
          "1974-10-01T00:00:00.000000000",
          "1974-11-01T00:00:00.000000000",
          "1974-12-01T00:00:00.000000000",
          "1975-01-01T00:00:00.000000000",
          "1975-02-01T00:00:00.000000000",
          "1975-03-01T00:00:00.000000000",
          "1975-04-01T00:00:00.000000000",
          "1975-05-01T00:00:00.000000000",
          "1975-06-01T00:00:00.000000000",
          "1975-07-01T00:00:00.000000000",
          "1975-08-01T00:00:00.000000000",
          "1975-09-01T00:00:00.000000000",
          "1975-10-01T00:00:00.000000000",
          "1975-11-01T00:00:00.000000000",
          "1975-12-01T00:00:00.000000000",
          "1976-01-01T00:00:00.000000000",
          "1976-02-01T00:00:00.000000000",
          "1976-03-01T00:00:00.000000000",
          "1976-04-01T00:00:00.000000000",
          "1976-05-01T00:00:00.000000000",
          "1976-06-01T00:00:00.000000000",
          "1976-07-01T00:00:00.000000000",
          "1976-08-01T00:00:00.000000000",
          "1976-09-01T00:00:00.000000000",
          "1976-10-01T00:00:00.000000000",
          "1976-11-01T00:00:00.000000000",
          "1976-12-01T00:00:00.000000000",
          "1977-01-01T00:00:00.000000000",
          "1977-02-01T00:00:00.000000000",
          "1977-03-01T00:00:00.000000000",
          "1977-04-01T00:00:00.000000000",
          "1977-05-01T00:00:00.000000000",
          "1977-06-01T00:00:00.000000000",
          "1977-07-01T00:00:00.000000000",
          "1977-08-01T00:00:00.000000000",
          "1977-09-01T00:00:00.000000000",
          "1977-10-01T00:00:00.000000000",
          "1977-11-01T00:00:00.000000000",
          "1977-12-01T00:00:00.000000000",
          "1978-01-01T00:00:00.000000000",
          "1978-02-01T00:00:00.000000000",
          "1978-03-01T00:00:00.000000000",
          "1978-04-01T00:00:00.000000000",
          "1978-05-01T00:00:00.000000000",
          "1978-06-01T00:00:00.000000000",
          "1978-07-01T00:00:00.000000000",
          "1978-08-01T00:00:00.000000000",
          "1978-09-01T00:00:00.000000000",
          "1978-10-01T00:00:00.000000000",
          "1978-11-01T00:00:00.000000000",
          "1978-12-01T00:00:00.000000000",
          "1979-01-01T00:00:00.000000000",
          "1979-02-01T00:00:00.000000000",
          "1979-03-01T00:00:00.000000000",
          "1979-04-01T00:00:00.000000000",
          "1979-05-01T00:00:00.000000000",
          "1979-06-01T00:00:00.000000000",
          "1979-07-01T00:00:00.000000000",
          "1979-08-01T00:00:00.000000000",
          "1979-09-01T00:00:00.000000000",
          "1979-10-01T00:00:00.000000000",
          "1979-11-01T00:00:00.000000000",
          "1979-12-01T00:00:00.000000000",
          "1980-01-01T00:00:00.000000000",
          "1980-02-01T00:00:00.000000000",
          "1980-03-01T00:00:00.000000000",
          "1980-04-01T00:00:00.000000000",
          "1980-05-01T00:00:00.000000000",
          "1980-06-01T00:00:00.000000000",
          "1980-07-01T00:00:00.000000000",
          "1980-08-01T00:00:00.000000000",
          "1980-09-01T00:00:00.000000000",
          "1980-10-01T00:00:00.000000000",
          "1980-11-01T00:00:00.000000000",
          "1980-12-01T00:00:00.000000000",
          "1981-01-01T00:00:00.000000000",
          "1981-02-01T00:00:00.000000000",
          "1981-03-01T00:00:00.000000000",
          "1981-04-01T00:00:00.000000000",
          "1981-05-01T00:00:00.000000000",
          "1981-06-01T00:00:00.000000000",
          "1981-07-01T00:00:00.000000000",
          "1981-08-01T00:00:00.000000000",
          "1981-09-01T00:00:00.000000000",
          "1981-10-01T00:00:00.000000000",
          "1981-11-01T00:00:00.000000000",
          "1981-12-01T00:00:00.000000000",
          "1982-01-01T00:00:00.000000000",
          "1982-02-01T00:00:00.000000000",
          "1982-03-01T00:00:00.000000000",
          "1982-04-01T00:00:00.000000000",
          "1982-05-01T00:00:00.000000000",
          "1982-06-01T00:00:00.000000000",
          "1982-07-01T00:00:00.000000000",
          "1982-08-01T00:00:00.000000000",
          "1982-09-01T00:00:00.000000000",
          "1982-10-01T00:00:00.000000000",
          "1982-11-01T00:00:00.000000000",
          "1982-12-01T00:00:00.000000000",
          "1983-01-01T00:00:00.000000000",
          "1983-02-01T00:00:00.000000000",
          "1983-03-01T00:00:00.000000000",
          "1983-04-01T00:00:00.000000000",
          "1983-05-01T00:00:00.000000000",
          "1983-06-01T00:00:00.000000000",
          "1983-07-01T00:00:00.000000000",
          "1983-08-01T00:00:00.000000000",
          "1983-09-01T00:00:00.000000000",
          "1983-10-01T00:00:00.000000000",
          "1983-11-01T00:00:00.000000000",
          "1983-12-01T00:00:00.000000000",
          "1984-01-01T00:00:00.000000000",
          "1984-02-01T00:00:00.000000000",
          "1984-03-01T00:00:00.000000000",
          "1984-04-01T00:00:00.000000000",
          "1984-05-01T00:00:00.000000000",
          "1984-06-01T00:00:00.000000000",
          "1984-07-01T00:00:00.000000000",
          "1984-08-01T00:00:00.000000000",
          "1984-09-01T00:00:00.000000000",
          "1984-10-01T00:00:00.000000000",
          "1984-11-01T00:00:00.000000000",
          "1984-12-01T00:00:00.000000000",
          "1985-01-01T00:00:00.000000000",
          "1985-02-01T00:00:00.000000000",
          "1985-03-01T00:00:00.000000000",
          "1985-04-01T00:00:00.000000000",
          "1985-05-01T00:00:00.000000000",
          "1985-06-01T00:00:00.000000000",
          "1985-07-01T00:00:00.000000000",
          "1985-08-01T00:00:00.000000000",
          "1985-09-01T00:00:00.000000000",
          "1985-10-01T00:00:00.000000000",
          "1985-11-01T00:00:00.000000000",
          "1985-12-01T00:00:00.000000000",
          "1986-01-01T00:00:00.000000000",
          "1986-02-01T00:00:00.000000000",
          "1986-03-01T00:00:00.000000000",
          "1986-04-01T00:00:00.000000000",
          "1986-05-01T00:00:00.000000000",
          "1986-06-01T00:00:00.000000000",
          "1986-07-01T00:00:00.000000000",
          "1986-08-01T00:00:00.000000000",
          "1986-09-01T00:00:00.000000000",
          "1986-10-01T00:00:00.000000000",
          "1986-11-01T00:00:00.000000000",
          "1986-12-01T00:00:00.000000000",
          "1987-01-01T00:00:00.000000000",
          "1987-02-01T00:00:00.000000000",
          "1987-03-01T00:00:00.000000000",
          "1987-04-01T00:00:00.000000000",
          "1987-05-01T00:00:00.000000000",
          "1987-06-01T00:00:00.000000000",
          "1987-07-01T00:00:00.000000000",
          "1987-08-01T00:00:00.000000000",
          "1987-09-01T00:00:00.000000000",
          "1987-10-01T00:00:00.000000000",
          "1987-11-01T00:00:00.000000000",
          "1987-12-01T00:00:00.000000000",
          "1988-01-01T00:00:00.000000000",
          "1988-02-01T00:00:00.000000000",
          "1988-03-01T00:00:00.000000000",
          "1988-04-01T00:00:00.000000000",
          "1988-05-01T00:00:00.000000000",
          "1988-06-01T00:00:00.000000000",
          "1988-07-01T00:00:00.000000000",
          "1988-08-01T00:00:00.000000000",
          "1988-09-01T00:00:00.000000000",
          "1988-10-01T00:00:00.000000000",
          "1988-11-01T00:00:00.000000000",
          "1988-12-01T00:00:00.000000000",
          "1989-01-01T00:00:00.000000000",
          "1989-02-01T00:00:00.000000000",
          "1989-03-01T00:00:00.000000000",
          "1989-04-01T00:00:00.000000000",
          "1989-05-01T00:00:00.000000000",
          "1989-06-01T00:00:00.000000000",
          "1989-07-01T00:00:00.000000000",
          "1989-08-01T00:00:00.000000000",
          "1989-09-01T00:00:00.000000000",
          "1989-10-01T00:00:00.000000000",
          "1989-11-01T00:00:00.000000000",
          "1989-12-01T00:00:00.000000000",
          "1990-01-01T00:00:00.000000000",
          "1990-02-01T00:00:00.000000000",
          "1990-03-01T00:00:00.000000000",
          "1990-04-01T00:00:00.000000000",
          "1990-05-01T00:00:00.000000000",
          "1990-06-01T00:00:00.000000000",
          "1990-07-01T00:00:00.000000000",
          "1990-08-01T00:00:00.000000000",
          "1990-09-01T00:00:00.000000000",
          "1990-10-01T00:00:00.000000000",
          "1990-11-01T00:00:00.000000000",
          "1990-12-01T00:00:00.000000000",
          "1991-01-01T00:00:00.000000000",
          "1991-02-01T00:00:00.000000000",
          "1991-03-01T00:00:00.000000000",
          "1991-04-01T00:00:00.000000000",
          "1991-05-01T00:00:00.000000000",
          "1991-06-01T00:00:00.000000000",
          "1991-07-01T00:00:00.000000000",
          "1991-08-01T00:00:00.000000000",
          "1991-09-01T00:00:00.000000000",
          "1991-10-01T00:00:00.000000000",
          "1991-11-01T00:00:00.000000000",
          "1991-12-01T00:00:00.000000000",
          "1992-01-01T00:00:00.000000000",
          "1992-02-01T00:00:00.000000000",
          "1992-03-01T00:00:00.000000000",
          "1992-04-01T00:00:00.000000000",
          "1992-05-01T00:00:00.000000000",
          "1992-06-01T00:00:00.000000000",
          "1992-07-01T00:00:00.000000000",
          "1992-08-01T00:00:00.000000000",
          "1992-09-01T00:00:00.000000000",
          "1992-10-01T00:00:00.000000000",
          "1992-11-01T00:00:00.000000000",
          "1992-12-01T00:00:00.000000000",
          "1993-01-01T00:00:00.000000000",
          "1993-02-01T00:00:00.000000000",
          "1993-03-01T00:00:00.000000000",
          "1993-04-01T00:00:00.000000000",
          "1993-05-01T00:00:00.000000000",
          "1993-06-01T00:00:00.000000000",
          "1993-07-01T00:00:00.000000000",
          "1993-08-01T00:00:00.000000000",
          "1993-09-01T00:00:00.000000000",
          "1993-10-01T00:00:00.000000000",
          "1993-11-01T00:00:00.000000000",
          "1993-12-01T00:00:00.000000000",
          "1994-01-01T00:00:00.000000000",
          "1994-02-01T00:00:00.000000000",
          "1994-03-01T00:00:00.000000000",
          "1994-04-01T00:00:00.000000000",
          "1994-05-01T00:00:00.000000000",
          "1994-06-01T00:00:00.000000000",
          "1994-07-01T00:00:00.000000000",
          "1994-08-01T00:00:00.000000000",
          "1994-09-01T00:00:00.000000000",
          "1994-10-01T00:00:00.000000000",
          "1994-11-01T00:00:00.000000000",
          "1994-12-01T00:00:00.000000000",
          "1995-01-01T00:00:00.000000000",
          "1995-02-01T00:00:00.000000000",
          "1995-03-01T00:00:00.000000000",
          "1995-04-01T00:00:00.000000000",
          "1995-05-01T00:00:00.000000000",
          "1995-06-01T00:00:00.000000000",
          "1995-07-01T00:00:00.000000000",
          "1995-08-01T00:00:00.000000000",
          "1995-09-01T00:00:00.000000000",
          "1995-10-01T00:00:00.000000000",
          "1995-11-01T00:00:00.000000000",
          "1995-12-01T00:00:00.000000000",
          "1996-01-01T00:00:00.000000000",
          "1996-02-01T00:00:00.000000000",
          "1996-03-01T00:00:00.000000000",
          "1996-04-01T00:00:00.000000000",
          "1996-05-01T00:00:00.000000000",
          "1996-06-01T00:00:00.000000000",
          "1996-07-01T00:00:00.000000000",
          "1996-08-01T00:00:00.000000000",
          "1996-09-01T00:00:00.000000000",
          "1996-10-01T00:00:00.000000000",
          "1996-11-01T00:00:00.000000000",
          "1996-12-01T00:00:00.000000000",
          "1997-01-01T00:00:00.000000000",
          "1997-02-01T00:00:00.000000000",
          "1997-03-01T00:00:00.000000000",
          "1997-04-01T00:00:00.000000000",
          "1997-05-01T00:00:00.000000000",
          "1997-06-01T00:00:00.000000000",
          "1997-07-01T00:00:00.000000000",
          "1997-08-01T00:00:00.000000000",
          "1997-09-01T00:00:00.000000000",
          "1997-10-01T00:00:00.000000000",
          "1997-11-01T00:00:00.000000000",
          "1997-12-01T00:00:00.000000000",
          "1998-01-01T00:00:00.000000000",
          "1998-02-01T00:00:00.000000000",
          "1998-03-01T00:00:00.000000000",
          "1998-04-01T00:00:00.000000000",
          "1998-05-01T00:00:00.000000000",
          "1998-06-01T00:00:00.000000000",
          "1998-07-01T00:00:00.000000000",
          "1998-08-01T00:00:00.000000000",
          "1998-09-01T00:00:00.000000000",
          "1998-10-01T00:00:00.000000000",
          "1998-11-01T00:00:00.000000000",
          "1998-12-01T00:00:00.000000000",
          "1999-01-01T00:00:00.000000000",
          "1999-02-01T00:00:00.000000000",
          "1999-03-01T00:00:00.000000000",
          "1999-05-01T00:00:00.000000000",
          "1999-06-01T00:00:00.000000000",
          "1999-07-01T00:00:00.000000000",
          "1999-08-01T00:00:00.000000000",
          "1999-09-01T00:00:00.000000000",
          "1999-10-01T00:00:00.000000000",
          "1999-11-01T00:00:00.000000000",
          "1999-12-01T00:00:00.000000000",
          "2000-01-01T00:00:00.000000000",
          "2000-02-01T00:00:00.000000000",
          "2000-03-01T00:00:00.000000000",
          "2000-04-01T00:00:00.000000000",
          "2000-05-01T00:00:00.000000000",
          "2000-06-01T00:00:00.000000000",
          "2000-07-01T00:00:00.000000000",
          "2000-08-01T00:00:00.000000000",
          "2000-09-01T00:00:00.000000000",
          "2000-10-01T00:00:00.000000000",
          "2000-11-01T00:00:00.000000000",
          "2000-12-01T00:00:00.000000000",
          "2001-01-01T00:00:00.000000000",
          "2001-02-01T00:00:00.000000000",
          "2001-03-01T00:00:00.000000000",
          "2001-04-01T00:00:00.000000000",
          "2001-05-01T00:00:00.000000000",
          "2001-06-01T00:00:00.000000000",
          "2001-07-01T00:00:00.000000000",
          "2001-08-01T00:00:00.000000000",
          "2001-09-01T00:00:00.000000000",
          "2001-10-01T00:00:00.000000000",
          "2001-11-01T00:00:00.000000000",
          "2001-12-01T00:00:00.000000000",
          "2002-01-01T00:00:00.000000000",
          "2002-02-01T00:00:00.000000000",
          "2002-03-01T00:00:00.000000000",
          "2002-04-01T00:00:00.000000000",
          "2002-05-01T00:00:00.000000000",
          "2002-06-01T00:00:00.000000000",
          "2002-07-01T00:00:00.000000000",
          "2002-08-01T00:00:00.000000000",
          "2002-09-01T00:00:00.000000000",
          "2002-10-01T00:00:00.000000000",
          "2002-11-01T00:00:00.000000000",
          "2002-12-01T00:00:00.000000000",
          "2003-01-01T00:00:00.000000000",
          "2003-02-01T00:00:00.000000000",
          "2003-03-01T00:00:00.000000000",
          "2003-04-01T00:00:00.000000000",
          "2003-05-01T00:00:00.000000000",
          "2003-06-01T00:00:00.000000000",
          "2003-07-01T00:00:00.000000000",
          "2003-08-01T00:00:00.000000000",
          "2003-09-01T00:00:00.000000000",
          "2003-10-01T00:00:00.000000000",
          "2003-11-01T00:00:00.000000000",
          "2003-12-01T00:00:00.000000000",
          "2004-01-01T00:00:00.000000000",
          "2004-02-01T00:00:00.000000000",
          "2004-03-01T00:00:00.000000000",
          "2004-04-01T00:00:00.000000000",
          "2004-05-01T00:00:00.000000000",
          "2004-06-01T00:00:00.000000000",
          "2004-07-01T00:00:00.000000000",
          "2004-08-01T00:00:00.000000000",
          "2004-09-01T00:00:00.000000000",
          "2004-10-01T00:00:00.000000000",
          "2004-11-01T00:00:00.000000000",
          "2004-12-01T00:00:00.000000000",
          "2005-01-01T00:00:00.000000000",
          "2005-02-01T00:00:00.000000000",
          "2005-03-01T00:00:00.000000000",
          "2005-04-01T00:00:00.000000000",
          "2005-05-01T00:00:00.000000000",
          "2005-06-01T00:00:00.000000000",
          "2005-07-01T00:00:00.000000000",
          "2005-08-01T00:00:00.000000000",
          "2005-09-01T00:00:00.000000000",
          "2005-10-01T00:00:00.000000000",
          "2005-11-01T00:00:00.000000000",
          "2005-12-01T00:00:00.000000000",
          "2006-01-01T00:00:00.000000000",
          "2006-02-01T00:00:00.000000000",
          "2006-03-01T00:00:00.000000000",
          "2006-04-01T00:00:00.000000000",
          "2006-05-01T00:00:00.000000000",
          "2006-06-01T00:00:00.000000000",
          "2006-07-01T00:00:00.000000000",
          "2006-08-01T00:00:00.000000000",
          "2006-09-01T00:00:00.000000000",
          "2006-10-01T00:00:00.000000000",
          "2006-11-01T00:00:00.000000000",
          "2006-12-01T00:00:00.000000000",
          "2007-01-01T00:00:00.000000000",
          "2007-02-01T00:00:00.000000000",
          "2007-03-01T00:00:00.000000000",
          "2007-04-01T00:00:00.000000000",
          "2007-05-01T00:00:00.000000000",
          "2007-06-01T00:00:00.000000000",
          "2007-07-01T00:00:00.000000000",
          "2007-08-01T00:00:00.000000000",
          "2007-09-01T00:00:00.000000000",
          "2007-10-01T00:00:00.000000000",
          "2007-11-01T00:00:00.000000000",
          "2007-12-01T00:00:00.000000000",
          "2008-01-01T00:00:00.000000000",
          "2008-02-01T00:00:00.000000000",
          "2008-03-01T00:00:00.000000000",
          "2008-04-01T00:00:00.000000000",
          "2008-05-01T00:00:00.000000000",
          "2008-06-01T00:00:00.000000000",
          "2008-07-01T00:00:00.000000000",
          "2008-08-01T00:00:00.000000000",
          "2008-09-01T00:00:00.000000000",
          "2008-10-01T00:00:00.000000000",
          "2008-11-01T00:00:00.000000000",
          "2008-12-01T00:00:00.000000000",
          "2009-01-01T00:00:00.000000000",
          "2009-02-01T00:00:00.000000000",
          "2009-03-01T00:00:00.000000000",
          "2009-04-01T00:00:00.000000000",
          "2009-05-01T00:00:00.000000000",
          "2009-06-01T00:00:00.000000000",
          "2009-07-01T00:00:00.000000000",
          "2009-08-01T00:00:00.000000000",
          "2009-09-01T00:00:00.000000000",
          "2009-10-01T00:00:00.000000000",
          "2009-11-01T00:00:00.000000000",
          "2009-12-01T00:00:00.000000000",
          "2010-01-01T00:00:00.000000000",
          "2010-02-01T00:00:00.000000000",
          "2010-03-01T00:00:00.000000000",
          "2010-04-01T00:00:00.000000000",
          "2010-05-01T00:00:00.000000000",
          "2010-06-01T00:00:00.000000000",
          "2010-07-01T00:00:00.000000000",
          "2010-08-01T00:00:00.000000000",
          "2010-09-01T00:00:00.000000000",
          "2010-10-01T00:00:00.000000000",
          "2010-11-01T00:00:00.000000000",
          "2010-12-01T00:00:00.000000000",
          "2011-01-01T00:00:00.000000000",
          "2011-02-01T00:00:00.000000000",
          "2011-03-01T00:00:00.000000000",
          "2011-04-01T00:00:00.000000000",
          "2011-05-01T00:00:00.000000000",
          "2011-06-01T00:00:00.000000000",
          "2011-07-01T00:00:00.000000000",
          "2011-08-01T00:00:00.000000000",
          "2011-09-01T00:00:00.000000000",
          "2011-10-01T00:00:00.000000000",
          "2011-11-01T00:00:00.000000000",
          "2011-12-01T00:00:00.000000000",
          "2012-01-01T00:00:00.000000000",
          "2012-02-01T00:00:00.000000000",
          "2012-03-01T00:00:00.000000000",
          "2012-04-01T00:00:00.000000000",
          "2012-05-01T00:00:00.000000000",
          "2012-06-01T00:00:00.000000000",
          "2012-07-01T00:00:00.000000000",
          "2012-08-01T00:00:00.000000000",
          "2012-09-01T00:00:00.000000000",
          "2012-10-01T00:00:00.000000000",
          "2012-11-01T00:00:00.000000000",
          "2012-12-01T00:00:00.000000000",
          "2013-01-01T00:00:00.000000000",
          "2013-02-01T00:00:00.000000000",
          "2013-03-01T00:00:00.000000000",
          "2013-04-01T00:00:00.000000000",
          "2013-05-01T00:00:00.000000000",
          "2013-06-01T00:00:00.000000000",
          "2013-07-01T00:00:00.000000000",
          "2013-08-01T00:00:00.000000000",
          "2013-09-01T00:00:00.000000000",
          "2013-10-01T00:00:00.000000000",
          "2013-11-01T00:00:00.000000000",
          "2013-12-01T00:00:00.000000000",
          "2014-01-01T00:00:00.000000000",
          "2014-02-01T00:00:00.000000000",
          "2014-03-01T00:00:00.000000000",
          "2014-04-01T00:00:00.000000000",
          "2014-05-01T00:00:00.000000000",
          "2014-06-01T00:00:00.000000000",
          "2014-07-01T00:00:00.000000000",
          "2014-08-01T00:00:00.000000000",
          "2014-09-01T00:00:00.000000000",
          "2014-10-01T00:00:00.000000000",
          "2014-11-01T00:00:00.000000000",
          "2014-12-01T00:00:00.000000000",
          "2015-01-01T00:00:00.000000000",
          "2015-02-01T00:00:00.000000000",
          "2015-03-01T00:00:00.000000000",
          "2015-04-01T00:00:00.000000000",
          "2015-05-01T00:00:00.000000000",
          "2015-06-01T00:00:00.000000000",
          "2015-07-01T00:00:00.000000000",
          "2015-08-01T00:00:00.000000000",
          "2015-09-01T00:00:00.000000000",
          "2015-10-01T00:00:00.000000000",
          "2015-11-01T00:00:00.000000000",
          "2015-12-01T00:00:00.000000000",
          "2016-01-01T00:00:00.000000000",
          "2016-02-01T00:00:00.000000000",
          "2016-03-01T00:00:00.000000000",
          "2016-04-01T00:00:00.000000000",
          "2016-05-01T00:00:00.000000000",
          "2016-06-01T00:00:00.000000000",
          "2016-07-01T00:00:00.000000000",
          "2016-08-01T00:00:00.000000000",
          "2016-09-01T00:00:00.000000000",
          "2016-10-01T00:00:00.000000000",
          "2016-11-01T00:00:00.000000000",
          "2016-12-01T00:00:00.000000000",
          "2017-01-01T00:00:00.000000000",
          "2017-02-01T00:00:00.000000000",
          "2017-03-01T00:00:00.000000000",
          "2017-04-01T00:00:00.000000000",
          "2017-05-01T00:00:00.000000000",
          "2017-06-01T00:00:00.000000000",
          "2017-07-01T00:00:00.000000000",
          "2017-08-01T00:00:00.000000000",
          "2017-09-01T00:00:00.000000000",
          "2017-10-01T00:00:00.000000000",
          "2017-11-01T00:00:00.000000000",
          "2017-12-01T00:00:00.000000000",
          "2018-01-01T00:00:00.000000000",
          "2018-02-01T00:00:00.000000000",
          "2018-03-01T00:00:00.000000000",
          "2018-04-01T00:00:00.000000000",
          "2018-05-01T00:00:00.000000000",
          "2018-06-01T00:00:00.000000000",
          "2018-07-01T00:00:00.000000000",
          "2018-08-01T00:00:00.000000000",
          "2018-09-01T00:00:00.000000000",
          "2018-10-01T00:00:00.000000000",
          "2018-11-01T00:00:00.000000000",
          "2018-12-01T00:00:00.000000000",
          "2019-01-01T00:00:00.000000000",
          "2019-02-01T00:00:00.000000000",
          "2019-03-01T00:00:00.000000000",
          "2019-04-01T00:00:00.000000000",
          "2019-05-01T00:00:00.000000000",
          "2019-06-01T00:00:00.000000000",
          "2019-07-01T00:00:00.000000000",
          "2019-08-01T00:00:00.000000000",
          "2019-09-01T00:00:00.000000000",
          "2019-10-01T00:00:00.000000000",
          "2019-11-01T00:00:00.000000000",
          "2019-12-01T00:00:00.000000000",
          "2020-01-01T00:00:00.000000000",
          "2020-02-01T00:00:00.000000000",
          "2020-03-01T00:00:00.000000000",
          "2020-04-01T00:00:00.000000000",
          "2020-05-01T00:00:00.000000000",
          "2020-06-01T00:00:00.000000000",
          "2020-07-01T00:00:00.000000000",
          "2020-08-01T00:00:00.000000000",
          "2020-09-01T00:00:00.000000000",
          "2020-10-01T00:00:00.000000000",
          "2020-11-01T00:00:00.000000000",
          "2020-12-01T00:00:00.000000000",
          "2021-01-01T00:00:00.000000000",
          "2021-02-01T00:00:00.000000000",
          "2021-03-01T00:00:00.000000000",
          "2021-04-01T00:00:00.000000000",
          "2021-05-01T00:00:00.000000000",
          "2021-06-01T00:00:00.000000000",
          "2021-07-01T00:00:00.000000000",
          "2021-08-01T00:00:00.000000000",
          "2021-09-01T00:00:00.000000000",
          "2021-10-01T00:00:00.000000000",
          "2021-11-01T00:00:00.000000000",
          "2021-12-01T00:00:00.000000000",
          "2022-01-01T00:00:00.000000000",
          "2022-02-01T00:00:00.000000000",
          "2022-03-01T00:00:00.000000000",
          "2022-04-01T00:00:00.000000000",
          "2022-05-01T00:00:00.000000000",
          "2022-06-01T00:00:00.000000000",
          "2022-07-01T00:00:00.000000000",
          "2022-08-01T00:00:00.000000000",
          "2022-09-01T00:00:00.000000000",
          "2022-10-01T00:00:00.000000000",
          "2022-11-01T00:00:00.000000000",
          "2022-12-01T00:00:00.000000000",
          "2023-01-01T00:00:00.000000000",
          "2023-02-01T00:00:00.000000000",
          "2023-03-01T00:00:00.000000000",
          "2023-04-01T00:00:00.000000000",
          "2023-05-01T00:00:00.000000000",
          "2023-06-01T00:00:00.000000000",
          "2023-07-01T00:00:00.000000000",
          "2023-08-01T00:00:00.000000000",
          "2023-09-01T00:00:00.000000000",
          "2023-10-01T00:00:00.000000000",
          "2023-11-01T00:00:00.000000000",
          "2023-12-01T00:00:00.000000000",
          "2024-01-01T00:00:00.000000000",
          "2024-02-01T00:00:00.000000000",
          "2024-03-01T00:00:00.000000000",
          "2024-04-01T00:00:00.000000000",
          "2024-05-01T00:00:00.000000000",
          "2024-06-01T00:00:00.000000000",
          "2024-07-01T00:00:00.000000000",
          "2024-08-01T00:00:00.000000000",
          "2024-09-01T00:00:00.000000000",
          "2024-10-01T00:00:00.000000000",
          "2024-11-01T00:00:00.000000000",
          "2024-12-01T00:00:00.000000000",
          "2025-01-01T00:00:00.000000000"
         ],
         "y": {
          "bdata": "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",
          "dtype": "f8"
         }
        },
        {
         "line": {
          "color": "red"
         },
         "mode": "lines",
         "name": "business confidence (method: path)",
         "type": "scatter",
         "x": [
          "1948-01-01T00:00:00.000000000",
          "1948-02-01T00:00:00.000000000",
          "1948-03-01T00:00:00.000000000",
          "1948-04-01T00:00:00.000000000",
          "1948-05-01T00:00:00.000000000",
          "1948-06-01T00:00:00.000000000",
          "1948-07-01T00:00:00.000000000",
          "1948-08-01T00:00:00.000000000",
          "1948-09-01T00:00:00.000000000",
          "1948-10-01T00:00:00.000000000",
          "1948-11-01T00:00:00.000000000",
          "1948-12-01T00:00:00.000000000",
          "1949-01-01T00:00:00.000000000",
          "1949-02-01T00:00:00.000000000",
          "1949-03-01T00:00:00.000000000",
          "1949-04-01T00:00:00.000000000",
          "1949-05-01T00:00:00.000000000",
          "1949-06-01T00:00:00.000000000",
          "1949-07-01T00:00:00.000000000",
          "1949-08-01T00:00:00.000000000",
          "1949-09-01T00:00:00.000000000",
          "1949-10-01T00:00:00.000000000",
          "1949-11-01T00:00:00.000000000",
          "1949-12-01T00:00:00.000000000",
          "1950-01-01T00:00:00.000000000",
          "1950-02-01T00:00:00.000000000",
          "1950-03-01T00:00:00.000000000",
          "1950-04-01T00:00:00.000000000",
          "1950-05-01T00:00:00.000000000",
          "1950-06-01T00:00:00.000000000",
          "1950-07-01T00:00:00.000000000",
          "1950-08-01T00:00:00.000000000",
          "1950-09-01T00:00:00.000000000",
          "1950-10-01T00:00:00.000000000",
          "1950-11-01T00:00:00.000000000",
          "1950-12-01T00:00:00.000000000",
          "1951-01-01T00:00:00.000000000",
          "1951-02-01T00:00:00.000000000",
          "1951-03-01T00:00:00.000000000",
          "1951-04-01T00:00:00.000000000",
          "1951-05-01T00:00:00.000000000",
          "1951-06-01T00:00:00.000000000",
          "1951-07-01T00:00:00.000000000",
          "1951-08-01T00:00:00.000000000",
          "1951-09-01T00:00:00.000000000",
          "1951-10-01T00:00:00.000000000",
          "1951-11-01T00:00:00.000000000",
          "1951-12-01T00:00:00.000000000",
          "1952-01-01T00:00:00.000000000",
          "1952-02-01T00:00:00.000000000",
          "1952-03-01T00:00:00.000000000",
          "1952-04-01T00:00:00.000000000",
          "1952-05-01T00:00:00.000000000",
          "1952-06-01T00:00:00.000000000",
          "1952-07-01T00:00:00.000000000",
          "1952-08-01T00:00:00.000000000",
          "1952-09-01T00:00:00.000000000",
          "1952-10-01T00:00:00.000000000",
          "1952-11-01T00:00:00.000000000",
          "1952-12-01T00:00:00.000000000",
          "1953-01-01T00:00:00.000000000",
          "1953-02-01T00:00:00.000000000",
          "1953-03-01T00:00:00.000000000",
          "1953-04-01T00:00:00.000000000",
          "1953-05-01T00:00:00.000000000",
          "1953-06-01T00:00:00.000000000",
          "1953-07-01T00:00:00.000000000",
          "1953-08-01T00:00:00.000000000",
          "1953-09-01T00:00:00.000000000",
          "1953-10-01T00:00:00.000000000",
          "1953-11-01T00:00:00.000000000",
          "1953-12-01T00:00:00.000000000",
          "1954-01-01T00:00:00.000000000",
          "1954-02-01T00:00:00.000000000",
          "1954-03-01T00:00:00.000000000",
          "1954-04-01T00:00:00.000000000",
          "1954-05-01T00:00:00.000000000",
          "1954-06-01T00:00:00.000000000",
          "1954-07-01T00:00:00.000000000",
          "1954-08-01T00:00:00.000000000",
          "1954-09-01T00:00:00.000000000",
          "1954-10-01T00:00:00.000000000",
          "1954-11-01T00:00:00.000000000",
          "1954-12-01T00:00:00.000000000",
          "1955-01-01T00:00:00.000000000",
          "1955-02-01T00:00:00.000000000",
          "1955-03-01T00:00:00.000000000",
          "1955-04-01T00:00:00.000000000",
          "1955-05-01T00:00:00.000000000",
          "1955-06-01T00:00:00.000000000",
          "1955-07-01T00:00:00.000000000",
          "1955-08-01T00:00:00.000000000",
          "1955-09-01T00:00:00.000000000",
          "1955-10-01T00:00:00.000000000",
          "1955-11-01T00:00:00.000000000",
          "1955-12-01T00:00:00.000000000",
          "1956-01-01T00:00:00.000000000",
          "1956-02-01T00:00:00.000000000",
          "1956-03-01T00:00:00.000000000",
          "1956-04-01T00:00:00.000000000",
          "1956-05-01T00:00:00.000000000",
          "1956-06-01T00:00:00.000000000",
          "1956-07-01T00:00:00.000000000",
          "1956-08-01T00:00:00.000000000",
          "1956-09-01T00:00:00.000000000",
          "1956-10-01T00:00:00.000000000",
          "1956-11-01T00:00:00.000000000",
          "1956-12-01T00:00:00.000000000",
          "1957-01-01T00:00:00.000000000",
          "1957-02-01T00:00:00.000000000",
          "1957-03-01T00:00:00.000000000",
          "1957-04-01T00:00:00.000000000",
          "1957-05-01T00:00:00.000000000",
          "1957-06-01T00:00:00.000000000",
          "1957-07-01T00:00:00.000000000",
          "1957-08-01T00:00:00.000000000",
          "1957-09-01T00:00:00.000000000",
          "1957-10-01T00:00:00.000000000",
          "1957-11-01T00:00:00.000000000",
          "1957-12-01T00:00:00.000000000",
          "1958-01-01T00:00:00.000000000",
          "1958-02-01T00:00:00.000000000",
          "1958-03-01T00:00:00.000000000",
          "1958-04-01T00:00:00.000000000",
          "1958-05-01T00:00:00.000000000",
          "1958-06-01T00:00:00.000000000",
          "1958-07-01T00:00:00.000000000",
          "1958-08-01T00:00:00.000000000",
          "1958-09-01T00:00:00.000000000",
          "1958-10-01T00:00:00.000000000",
          "1958-11-01T00:00:00.000000000",
          "1958-12-01T00:00:00.000000000",
          "1959-01-01T00:00:00.000000000",
          "1959-02-01T00:00:00.000000000",
          "1959-03-01T00:00:00.000000000",
          "1959-04-01T00:00:00.000000000",
          "1959-05-01T00:00:00.000000000",
          "1959-06-01T00:00:00.000000000",
          "1959-07-01T00:00:00.000000000",
          "1959-08-01T00:00:00.000000000",
          "1959-09-01T00:00:00.000000000",
          "1959-10-01T00:00:00.000000000",
          "1959-11-01T00:00:00.000000000",
          "1959-12-01T00:00:00.000000000",
          "1960-01-01T00:00:00.000000000",
          "1960-02-01T00:00:00.000000000",
          "1960-03-01T00:00:00.000000000",
          "1960-04-01T00:00:00.000000000",
          "1960-05-01T00:00:00.000000000",
          "1960-06-01T00:00:00.000000000",
          "1960-07-01T00:00:00.000000000",
          "1960-08-01T00:00:00.000000000",
          "1960-09-01T00:00:00.000000000",
          "1960-10-01T00:00:00.000000000",
          "1960-11-01T00:00:00.000000000",
          "1960-12-01T00:00:00.000000000",
          "1961-01-01T00:00:00.000000000",
          "1961-02-01T00:00:00.000000000",
          "1961-03-01T00:00:00.000000000",
          "1961-04-01T00:00:00.000000000",
          "1961-05-01T00:00:00.000000000",
          "1961-06-01T00:00:00.000000000",
          "1961-07-01T00:00:00.000000000",
          "1961-08-01T00:00:00.000000000",
          "1961-09-01T00:00:00.000000000",
          "1961-10-01T00:00:00.000000000",
          "1961-11-01T00:00:00.000000000",
          "1961-12-01T00:00:00.000000000",
          "1962-01-01T00:00:00.000000000",
          "1962-02-01T00:00:00.000000000",
          "1962-03-01T00:00:00.000000000",
          "1962-04-01T00:00:00.000000000",
          "1962-05-01T00:00:00.000000000",
          "1962-06-01T00:00:00.000000000",
          "1962-07-01T00:00:00.000000000",
          "1962-08-01T00:00:00.000000000",
          "1962-09-01T00:00:00.000000000",
          "1962-10-01T00:00:00.000000000",
          "1962-11-01T00:00:00.000000000",
          "1962-12-01T00:00:00.000000000",
          "1963-01-01T00:00:00.000000000",
          "1963-02-01T00:00:00.000000000",
          "1963-03-01T00:00:00.000000000",
          "1963-04-01T00:00:00.000000000",
          "1963-05-01T00:00:00.000000000",
          "1963-06-01T00:00:00.000000000",
          "1963-07-01T00:00:00.000000000",
          "1963-08-01T00:00:00.000000000",
          "1963-09-01T00:00:00.000000000",
          "1963-10-01T00:00:00.000000000",
          "1963-11-01T00:00:00.000000000",
          "1963-12-01T00:00:00.000000000",
          "1964-01-01T00:00:00.000000000",
          "1964-02-01T00:00:00.000000000",
          "1964-03-01T00:00:00.000000000",
          "1964-04-01T00:00:00.000000000",
          "1964-05-01T00:00:00.000000000",
          "1964-06-01T00:00:00.000000000",
          "1964-07-01T00:00:00.000000000",
          "1964-08-01T00:00:00.000000000",
          "1964-09-01T00:00:00.000000000",
          "1964-10-01T00:00:00.000000000",
          "1964-11-01T00:00:00.000000000",
          "1964-12-01T00:00:00.000000000",
          "1965-01-01T00:00:00.000000000",
          "1965-02-01T00:00:00.000000000",
          "1965-03-01T00:00:00.000000000",
          "1965-04-01T00:00:00.000000000",
          "1965-05-01T00:00:00.000000000",
          "1965-06-01T00:00:00.000000000",
          "1965-07-01T00:00:00.000000000",
          "1965-08-01T00:00:00.000000000",
          "1965-09-01T00:00:00.000000000",
          "1965-10-01T00:00:00.000000000",
          "1965-11-01T00:00:00.000000000",
          "1965-12-01T00:00:00.000000000",
          "1966-01-01T00:00:00.000000000",
          "1966-02-01T00:00:00.000000000",
          "1966-03-01T00:00:00.000000000",
          "1966-04-01T00:00:00.000000000",
          "1966-05-01T00:00:00.000000000",
          "1966-06-01T00:00:00.000000000",
          "1966-07-01T00:00:00.000000000",
          "1966-08-01T00:00:00.000000000",
          "1966-09-01T00:00:00.000000000",
          "1966-10-01T00:00:00.000000000",
          "1966-11-01T00:00:00.000000000",
          "1966-12-01T00:00:00.000000000",
          "1967-01-01T00:00:00.000000000",
          "1967-02-01T00:00:00.000000000",
          "1967-03-01T00:00:00.000000000",
          "1967-04-01T00:00:00.000000000",
          "1967-05-01T00:00:00.000000000",
          "1967-06-01T00:00:00.000000000",
          "1967-07-01T00:00:00.000000000",
          "1967-08-01T00:00:00.000000000",
          "1967-09-01T00:00:00.000000000",
          "1967-10-01T00:00:00.000000000",
          "1967-11-01T00:00:00.000000000",
          "1967-12-01T00:00:00.000000000",
          "1968-01-01T00:00:00.000000000",
          "1968-02-01T00:00:00.000000000",
          "1968-03-01T00:00:00.000000000",
          "1968-04-01T00:00:00.000000000",
          "1968-05-01T00:00:00.000000000",
          "1968-06-01T00:00:00.000000000",
          "1968-07-01T00:00:00.000000000",
          "1968-08-01T00:00:00.000000000",
          "1968-09-01T00:00:00.000000000",
          "1968-10-01T00:00:00.000000000",
          "1968-11-01T00:00:00.000000000",
          "1968-12-01T00:00:00.000000000",
          "1969-01-01T00:00:00.000000000",
          "1969-02-01T00:00:00.000000000",
          "1969-03-01T00:00:00.000000000",
          "1969-04-01T00:00:00.000000000",
          "1969-05-01T00:00:00.000000000",
          "1969-06-01T00:00:00.000000000",
          "1969-07-01T00:00:00.000000000",
          "1969-08-01T00:00:00.000000000",
          "1969-09-01T00:00:00.000000000",
          "1969-10-01T00:00:00.000000000",
          "1969-11-01T00:00:00.000000000",
          "1969-12-01T00:00:00.000000000",
          "1970-01-01T00:00:00.000000000",
          "1970-02-01T00:00:00.000000000",
          "1970-03-01T00:00:00.000000000",
          "1970-04-01T00:00:00.000000000",
          "1970-05-01T00:00:00.000000000",
          "1970-06-01T00:00:00.000000000",
          "1970-07-01T00:00:00.000000000",
          "1970-08-01T00:00:00.000000000",
          "1970-09-01T00:00:00.000000000",
          "1970-10-01T00:00:00.000000000",
          "1970-11-01T00:00:00.000000000",
          "1970-12-01T00:00:00.000000000",
          "1971-01-01T00:00:00.000000000",
          "1971-02-01T00:00:00.000000000",
          "1971-03-01T00:00:00.000000000",
          "1971-04-01T00:00:00.000000000",
          "1971-05-01T00:00:00.000000000",
          "1971-06-01T00:00:00.000000000",
          "1971-07-01T00:00:00.000000000",
          "1971-08-01T00:00:00.000000000",
          "1971-09-01T00:00:00.000000000",
          "1971-10-01T00:00:00.000000000",
          "1971-11-01T00:00:00.000000000",
          "1971-12-01T00:00:00.000000000",
          "1972-01-01T00:00:00.000000000",
          "1972-02-01T00:00:00.000000000",
          "1972-03-01T00:00:00.000000000",
          "1972-04-01T00:00:00.000000000",
          "1972-05-01T00:00:00.000000000",
          "1972-06-01T00:00:00.000000000",
          "1972-07-01T00:00:00.000000000",
          "1972-08-01T00:00:00.000000000",
          "1972-09-01T00:00:00.000000000",
          "1972-10-01T00:00:00.000000000",
          "1972-11-01T00:00:00.000000000",
          "1972-12-01T00:00:00.000000000",
          "1973-01-01T00:00:00.000000000",
          "1973-02-01T00:00:00.000000000",
          "1973-03-01T00:00:00.000000000",
          "1973-04-01T00:00:00.000000000",
          "1973-05-01T00:00:00.000000000",
          "1973-06-01T00:00:00.000000000",
          "1973-07-01T00:00:00.000000000",
          "1973-08-01T00:00:00.000000000",
          "1973-09-01T00:00:00.000000000",
          "1973-10-01T00:00:00.000000000",
          "1973-11-01T00:00:00.000000000",
          "1973-12-01T00:00:00.000000000",
          "1974-01-01T00:00:00.000000000",
          "1974-02-01T00:00:00.000000000",
          "1974-03-01T00:00:00.000000000",
          "1974-04-01T00:00:00.000000000",
          "1974-05-01T00:00:00.000000000",
          "1974-06-01T00:00:00.000000000",
          "1974-07-01T00:00:00.000000000",
          "1974-08-01T00:00:00.000000000",
          "1974-09-01T00:00:00.000000000",
          "1974-10-01T00:00:00.000000000",
          "1974-11-01T00:00:00.000000000",
          "1974-12-01T00:00:00.000000000",
          "1975-01-01T00:00:00.000000000",
          "1975-02-01T00:00:00.000000000",
          "1975-03-01T00:00:00.000000000",
          "1975-04-01T00:00:00.000000000",
          "1975-05-01T00:00:00.000000000",
          "1975-06-01T00:00:00.000000000",
          "1975-07-01T00:00:00.000000000",
          "1975-08-01T00:00:00.000000000",
          "1975-09-01T00:00:00.000000000",
          "1975-10-01T00:00:00.000000000",
          "1975-11-01T00:00:00.000000000",
          "1975-12-01T00:00:00.000000000",
          "1976-01-01T00:00:00.000000000",
          "1976-02-01T00:00:00.000000000",
          "1976-03-01T00:00:00.000000000",
          "1976-04-01T00:00:00.000000000",
          "1976-05-01T00:00:00.000000000",
          "1976-06-01T00:00:00.000000000",
          "1976-07-01T00:00:00.000000000",
          "1976-08-01T00:00:00.000000000",
          "1976-09-01T00:00:00.000000000",
          "1976-10-01T00:00:00.000000000",
          "1976-11-01T00:00:00.000000000",
          "1976-12-01T00:00:00.000000000",
          "1977-01-01T00:00:00.000000000",
          "1977-02-01T00:00:00.000000000",
          "1977-03-01T00:00:00.000000000",
          "1977-04-01T00:00:00.000000000",
          "1977-05-01T00:00:00.000000000",
          "1977-06-01T00:00:00.000000000",
          "1977-07-01T00:00:00.000000000",
          "1977-08-01T00:00:00.000000000",
          "1977-09-01T00:00:00.000000000",
          "1977-10-01T00:00:00.000000000",
          "1977-11-01T00:00:00.000000000",
          "1977-12-01T00:00:00.000000000",
          "1978-01-01T00:00:00.000000000",
          "1978-02-01T00:00:00.000000000",
          "1978-03-01T00:00:00.000000000",
          "1978-04-01T00:00:00.000000000",
          "1978-05-01T00:00:00.000000000",
          "1978-06-01T00:00:00.000000000",
          "1978-07-01T00:00:00.000000000",
          "1978-08-01T00:00:00.000000000",
          "1978-09-01T00:00:00.000000000",
          "1978-10-01T00:00:00.000000000",
          "1978-11-01T00:00:00.000000000",
          "1978-12-01T00:00:00.000000000",
          "1979-01-01T00:00:00.000000000",
          "1979-02-01T00:00:00.000000000",
          "1979-03-01T00:00:00.000000000",
          "1979-04-01T00:00:00.000000000",
          "1979-05-01T00:00:00.000000000",
          "1979-06-01T00:00:00.000000000",
          "1979-07-01T00:00:00.000000000",
          "1979-08-01T00:00:00.000000000",
          "1979-09-01T00:00:00.000000000",
          "1979-10-01T00:00:00.000000000",
          "1979-11-01T00:00:00.000000000",
          "1979-12-01T00:00:00.000000000",
          "1980-01-01T00:00:00.000000000",
          "1980-02-01T00:00:00.000000000",
          "1980-03-01T00:00:00.000000000",
          "1980-04-01T00:00:00.000000000",
          "1980-05-01T00:00:00.000000000",
          "1980-06-01T00:00:00.000000000",
          "1980-07-01T00:00:00.000000000",
          "1980-08-01T00:00:00.000000000",
          "1980-09-01T00:00:00.000000000",
          "1980-10-01T00:00:00.000000000",
          "1980-11-01T00:00:00.000000000",
          "1980-12-01T00:00:00.000000000",
          "1981-01-01T00:00:00.000000000",
          "1981-02-01T00:00:00.000000000",
          "1981-03-01T00:00:00.000000000",
          "1981-04-01T00:00:00.000000000",
          "1981-05-01T00:00:00.000000000",
          "1981-06-01T00:00:00.000000000",
          "1981-07-01T00:00:00.000000000",
          "1981-08-01T00:00:00.000000000",
          "1981-09-01T00:00:00.000000000",
          "1981-10-01T00:00:00.000000000",
          "1981-11-01T00:00:00.000000000",
          "1981-12-01T00:00:00.000000000",
          "1982-01-01T00:00:00.000000000",
          "1982-02-01T00:00:00.000000000",
          "1982-03-01T00:00:00.000000000",
          "1982-04-01T00:00:00.000000000",
          "1982-05-01T00:00:00.000000000",
          "1982-06-01T00:00:00.000000000",
          "1982-07-01T00:00:00.000000000",
          "1982-08-01T00:00:00.000000000",
          "1982-09-01T00:00:00.000000000",
          "1982-10-01T00:00:00.000000000",
          "1982-11-01T00:00:00.000000000",
          "1982-12-01T00:00:00.000000000",
          "1983-01-01T00:00:00.000000000",
          "1983-02-01T00:00:00.000000000",
          "1983-03-01T00:00:00.000000000",
          "1983-04-01T00:00:00.000000000",
          "1983-05-01T00:00:00.000000000",
          "1983-06-01T00:00:00.000000000",
          "1983-07-01T00:00:00.000000000",
          "1983-08-01T00:00:00.000000000",
          "1983-09-01T00:00:00.000000000",
          "1983-10-01T00:00:00.000000000",
          "1983-11-01T00:00:00.000000000",
          "1983-12-01T00:00:00.000000000",
          "1984-01-01T00:00:00.000000000",
          "1984-02-01T00:00:00.000000000",
          "1984-03-01T00:00:00.000000000",
          "1984-04-01T00:00:00.000000000",
          "1984-05-01T00:00:00.000000000",
          "1984-06-01T00:00:00.000000000",
          "1984-07-01T00:00:00.000000000",
          "1984-08-01T00:00:00.000000000",
          "1984-09-01T00:00:00.000000000",
          "1984-10-01T00:00:00.000000000",
          "1984-11-01T00:00:00.000000000",
          "1984-12-01T00:00:00.000000000",
          "1985-01-01T00:00:00.000000000",
          "1985-02-01T00:00:00.000000000",
          "1985-03-01T00:00:00.000000000",
          "1985-04-01T00:00:00.000000000",
          "1985-05-01T00:00:00.000000000",
          "1985-06-01T00:00:00.000000000",
          "1985-07-01T00:00:00.000000000",
          "1985-08-01T00:00:00.000000000",
          "1985-09-01T00:00:00.000000000",
          "1985-10-01T00:00:00.000000000",
          "1985-11-01T00:00:00.000000000",
          "1985-12-01T00:00:00.000000000",
          "1986-01-01T00:00:00.000000000",
          "1986-02-01T00:00:00.000000000",
          "1986-03-01T00:00:00.000000000",
          "1986-04-01T00:00:00.000000000",
          "1986-05-01T00:00:00.000000000",
          "1986-06-01T00:00:00.000000000",
          "1986-07-01T00:00:00.000000000",
          "1986-08-01T00:00:00.000000000",
          "1986-09-01T00:00:00.000000000",
          "1986-10-01T00:00:00.000000000",
          "1986-11-01T00:00:00.000000000",
          "1986-12-01T00:00:00.000000000",
          "1987-01-01T00:00:00.000000000",
          "1987-02-01T00:00:00.000000000",
          "1987-03-01T00:00:00.000000000",
          "1987-04-01T00:00:00.000000000",
          "1987-05-01T00:00:00.000000000",
          "1987-06-01T00:00:00.000000000",
          "1987-07-01T00:00:00.000000000",
          "1987-08-01T00:00:00.000000000",
          "1987-09-01T00:00:00.000000000",
          "1987-10-01T00:00:00.000000000",
          "1987-11-01T00:00:00.000000000",
          "1987-12-01T00:00:00.000000000",
          "1988-01-01T00:00:00.000000000",
          "1988-02-01T00:00:00.000000000",
          "1988-03-01T00:00:00.000000000",
          "1988-04-01T00:00:00.000000000",
          "1988-05-01T00:00:00.000000000",
          "1988-06-01T00:00:00.000000000",
          "1988-07-01T00:00:00.000000000",
          "1988-08-01T00:00:00.000000000",
          "1988-09-01T00:00:00.000000000",
          "1988-10-01T00:00:00.000000000",
          "1988-11-01T00:00:00.000000000",
          "1988-12-01T00:00:00.000000000",
          "1989-01-01T00:00:00.000000000",
          "1989-02-01T00:00:00.000000000",
          "1989-03-01T00:00:00.000000000",
          "1989-04-01T00:00:00.000000000",
          "1989-05-01T00:00:00.000000000",
          "1989-06-01T00:00:00.000000000",
          "1989-07-01T00:00:00.000000000",
          "1989-08-01T00:00:00.000000000",
          "1989-09-01T00:00:00.000000000",
          "1989-10-01T00:00:00.000000000",
          "1989-11-01T00:00:00.000000000",
          "1989-12-01T00:00:00.000000000",
          "1990-01-01T00:00:00.000000000",
          "1990-02-01T00:00:00.000000000",
          "1990-03-01T00:00:00.000000000",
          "1990-04-01T00:00:00.000000000",
          "1990-05-01T00:00:00.000000000",
          "1990-06-01T00:00:00.000000000",
          "1990-07-01T00:00:00.000000000",
          "1990-08-01T00:00:00.000000000",
          "1990-09-01T00:00:00.000000000",
          "1990-10-01T00:00:00.000000000",
          "1990-11-01T00:00:00.000000000",
          "1990-12-01T00:00:00.000000000",
          "1991-01-01T00:00:00.000000000",
          "1991-02-01T00:00:00.000000000",
          "1991-03-01T00:00:00.000000000",
          "1991-04-01T00:00:00.000000000",
          "1991-05-01T00:00:00.000000000",
          "1991-06-01T00:00:00.000000000",
          "1991-07-01T00:00:00.000000000",
          "1991-08-01T00:00:00.000000000",
          "1991-09-01T00:00:00.000000000",
          "1991-10-01T00:00:00.000000000",
          "1991-11-01T00:00:00.000000000",
          "1991-12-01T00:00:00.000000000",
          "1992-01-01T00:00:00.000000000",
          "1992-02-01T00:00:00.000000000",
          "1992-03-01T00:00:00.000000000",
          "1992-04-01T00:00:00.000000000",
          "1992-05-01T00:00:00.000000000",
          "1992-06-01T00:00:00.000000000",
          "1992-07-01T00:00:00.000000000",
          "1992-08-01T00:00:00.000000000",
          "1992-09-01T00:00:00.000000000",
          "1992-10-01T00:00:00.000000000",
          "1992-11-01T00:00:00.000000000",
          "1992-12-01T00:00:00.000000000",
          "1993-01-01T00:00:00.000000000",
          "1993-02-01T00:00:00.000000000",
          "1993-03-01T00:00:00.000000000",
          "1993-04-01T00:00:00.000000000",
          "1993-05-01T00:00:00.000000000",
          "1993-06-01T00:00:00.000000000",
          "1993-07-01T00:00:00.000000000",
          "1993-08-01T00:00:00.000000000",
          "1993-09-01T00:00:00.000000000",
          "1993-10-01T00:00:00.000000000",
          "1993-11-01T00:00:00.000000000",
          "1993-12-01T00:00:00.000000000",
          "1994-01-01T00:00:00.000000000",
          "1994-02-01T00:00:00.000000000",
          "1994-03-01T00:00:00.000000000",
          "1994-04-01T00:00:00.000000000",
          "1994-05-01T00:00:00.000000000",
          "1994-06-01T00:00:00.000000000",
          "1994-07-01T00:00:00.000000000",
          "1994-08-01T00:00:00.000000000",
          "1994-09-01T00:00:00.000000000",
          "1994-10-01T00:00:00.000000000",
          "1994-11-01T00:00:00.000000000",
          "1994-12-01T00:00:00.000000000",
          "1995-01-01T00:00:00.000000000",
          "1995-02-01T00:00:00.000000000",
          "1995-03-01T00:00:00.000000000",
          "1995-04-01T00:00:00.000000000",
          "1995-05-01T00:00:00.000000000",
          "1995-06-01T00:00:00.000000000",
          "1995-07-01T00:00:00.000000000",
          "1995-08-01T00:00:00.000000000",
          "1995-09-01T00:00:00.000000000",
          "1995-10-01T00:00:00.000000000",
          "1995-11-01T00:00:00.000000000",
          "1995-12-01T00:00:00.000000000",
          "1996-01-01T00:00:00.000000000",
          "1996-02-01T00:00:00.000000000",
          "1996-03-01T00:00:00.000000000",
          "1996-04-01T00:00:00.000000000",
          "1996-05-01T00:00:00.000000000",
          "1996-06-01T00:00:00.000000000",
          "1996-07-01T00:00:00.000000000",
          "1996-08-01T00:00:00.000000000",
          "1996-09-01T00:00:00.000000000",
          "1996-10-01T00:00:00.000000000",
          "1996-11-01T00:00:00.000000000",
          "1996-12-01T00:00:00.000000000",
          "1997-01-01T00:00:00.000000000",
          "1997-02-01T00:00:00.000000000",
          "1997-03-01T00:00:00.000000000",
          "1997-04-01T00:00:00.000000000",
          "1997-05-01T00:00:00.000000000",
          "1997-06-01T00:00:00.000000000",
          "1997-07-01T00:00:00.000000000",
          "1997-08-01T00:00:00.000000000",
          "1997-09-01T00:00:00.000000000",
          "1997-10-01T00:00:00.000000000",
          "1997-11-01T00:00:00.000000000",
          "1997-12-01T00:00:00.000000000",
          "1998-01-01T00:00:00.000000000",
          "1998-02-01T00:00:00.000000000",
          "1998-03-01T00:00:00.000000000",
          "1998-04-01T00:00:00.000000000",
          "1998-05-01T00:00:00.000000000",
          "1998-06-01T00:00:00.000000000",
          "1998-07-01T00:00:00.000000000",
          "1998-08-01T00:00:00.000000000",
          "1998-09-01T00:00:00.000000000",
          "1998-10-01T00:00:00.000000000",
          "1998-11-01T00:00:00.000000000",
          "1998-12-01T00:00:00.000000000",
          "1999-01-01T00:00:00.000000000",
          "1999-02-01T00:00:00.000000000",
          "1999-03-01T00:00:00.000000000",
          "1999-04-01T00:00:00.000000000",
          "1999-05-01T00:00:00.000000000",
          "1999-06-01T00:00:00.000000000",
          "1999-07-01T00:00:00.000000000",
          "1999-08-01T00:00:00.000000000",
          "1999-09-01T00:00:00.000000000",
          "1999-10-01T00:00:00.000000000",
          "1999-11-01T00:00:00.000000000",
          "1999-12-01T00:00:00.000000000",
          "2000-01-01T00:00:00.000000000",
          "2000-02-01T00:00:00.000000000",
          "2000-03-01T00:00:00.000000000",
          "2000-04-01T00:00:00.000000000",
          "2000-05-01T00:00:00.000000000",
          "2000-06-01T00:00:00.000000000",
          "2000-07-01T00:00:00.000000000",
          "2000-08-01T00:00:00.000000000",
          "2000-09-01T00:00:00.000000000",
          "2000-10-01T00:00:00.000000000",
          "2000-11-01T00:00:00.000000000",
          "2000-12-01T00:00:00.000000000",
          "2001-01-01T00:00:00.000000000",
          "2001-02-01T00:00:00.000000000",
          "2001-03-01T00:00:00.000000000",
          "2001-04-01T00:00:00.000000000",
          "2001-05-01T00:00:00.000000000",
          "2001-06-01T00:00:00.000000000",
          "2001-07-01T00:00:00.000000000",
          "2001-08-01T00:00:00.000000000",
          "2001-09-01T00:00:00.000000000",
          "2001-10-01T00:00:00.000000000",
          "2001-11-01T00:00:00.000000000",
          "2001-12-01T00:00:00.000000000",
          "2002-01-01T00:00:00.000000000",
          "2002-02-01T00:00:00.000000000",
          "2002-03-01T00:00:00.000000000",
          "2002-04-01T00:00:00.000000000",
          "2002-05-01T00:00:00.000000000",
          "2002-06-01T00:00:00.000000000",
          "2002-07-01T00:00:00.000000000",
          "2002-08-01T00:00:00.000000000",
          "2002-09-01T00:00:00.000000000",
          "2002-10-01T00:00:00.000000000",
          "2002-11-01T00:00:00.000000000",
          "2002-12-01T00:00:00.000000000",
          "2003-01-01T00:00:00.000000000",
          "2003-02-01T00:00:00.000000000",
          "2003-03-01T00:00:00.000000000",
          "2003-04-01T00:00:00.000000000",
          "2003-05-01T00:00:00.000000000",
          "2003-06-01T00:00:00.000000000",
          "2003-07-01T00:00:00.000000000",
          "2003-08-01T00:00:00.000000000",
          "2003-09-01T00:00:00.000000000",
          "2003-10-01T00:00:00.000000000",
          "2003-11-01T00:00:00.000000000",
          "2003-12-01T00:00:00.000000000",
          "2004-01-01T00:00:00.000000000",
          "2004-02-01T00:00:00.000000000",
          "2004-03-01T00:00:00.000000000",
          "2004-04-01T00:00:00.000000000",
          "2004-05-01T00:00:00.000000000",
          "2004-06-01T00:00:00.000000000",
          "2004-07-01T00:00:00.000000000",
          "2004-08-01T00:00:00.000000000",
          "2004-09-01T00:00:00.000000000",
          "2004-10-01T00:00:00.000000000",
          "2004-11-01T00:00:00.000000000",
          "2004-12-01T00:00:00.000000000",
          "2005-01-01T00:00:00.000000000",
          "2005-02-01T00:00:00.000000000",
          "2005-03-01T00:00:00.000000000",
          "2005-04-01T00:00:00.000000000",
          "2005-05-01T00:00:00.000000000",
          "2005-06-01T00:00:00.000000000",
          "2005-07-01T00:00:00.000000000",
          "2005-08-01T00:00:00.000000000",
          "2005-09-01T00:00:00.000000000",
          "2005-10-01T00:00:00.000000000",
          "2005-11-01T00:00:00.000000000",
          "2005-12-01T00:00:00.000000000",
          "2006-01-01T00:00:00.000000000",
          "2006-02-01T00:00:00.000000000",
          "2006-03-01T00:00:00.000000000",
          "2006-04-01T00:00:00.000000000",
          "2006-05-01T00:00:00.000000000",
          "2006-06-01T00:00:00.000000000",
          "2006-07-01T00:00:00.000000000",
          "2006-08-01T00:00:00.000000000",
          "2006-09-01T00:00:00.000000000",
          "2006-10-01T00:00:00.000000000",
          "2006-11-01T00:00:00.000000000",
          "2006-12-01T00:00:00.000000000",
          "2007-01-01T00:00:00.000000000",
          "2007-02-01T00:00:00.000000000",
          "2007-03-01T00:00:00.000000000",
          "2007-04-01T00:00:00.000000000",
          "2007-05-01T00:00:00.000000000",
          "2007-06-01T00:00:00.000000000",
          "2007-07-01T00:00:00.000000000",
          "2007-08-01T00:00:00.000000000",
          "2007-09-01T00:00:00.000000000",
          "2007-10-01T00:00:00.000000000",
          "2007-11-01T00:00:00.000000000",
          "2007-12-01T00:00:00.000000000",
          "2008-01-01T00:00:00.000000000",
          "2008-02-01T00:00:00.000000000",
          "2008-03-01T00:00:00.000000000",
          "2008-04-01T00:00:00.000000000",
          "2008-05-01T00:00:00.000000000",
          "2008-06-01T00:00:00.000000000",
          "2008-07-01T00:00:00.000000000",
          "2008-08-01T00:00:00.000000000",
          "2008-09-01T00:00:00.000000000",
          "2008-10-01T00:00:00.000000000",
          "2008-11-01T00:00:00.000000000",
          "2008-12-01T00:00:00.000000000",
          "2009-01-01T00:00:00.000000000",
          "2009-02-01T00:00:00.000000000",
          "2009-03-01T00:00:00.000000000",
          "2009-04-01T00:00:00.000000000",
          "2009-05-01T00:00:00.000000000",
          "2009-06-01T00:00:00.000000000",
          "2009-07-01T00:00:00.000000000",
          "2009-08-01T00:00:00.000000000",
          "2009-09-01T00:00:00.000000000",
          "2009-10-01T00:00:00.000000000",
          "2009-11-01T00:00:00.000000000",
          "2009-12-01T00:00:00.000000000",
          "2010-01-01T00:00:00.000000000",
          "2010-02-01T00:00:00.000000000",
          "2010-03-01T00:00:00.000000000",
          "2010-04-01T00:00:00.000000000",
          "2010-05-01T00:00:00.000000000",
          "2010-06-01T00:00:00.000000000",
          "2010-07-01T00:00:00.000000000",
          "2010-08-01T00:00:00.000000000",
          "2010-09-01T00:00:00.000000000",
          "2010-10-01T00:00:00.000000000",
          "2010-11-01T00:00:00.000000000",
          "2010-12-01T00:00:00.000000000",
          "2011-01-01T00:00:00.000000000",
          "2011-02-01T00:00:00.000000000",
          "2011-03-01T00:00:00.000000000",
          "2011-04-01T00:00:00.000000000",
          "2011-05-01T00:00:00.000000000",
          "2011-06-01T00:00:00.000000000",
          "2011-07-01T00:00:00.000000000",
          "2011-08-01T00:00:00.000000000",
          "2011-09-01T00:00:00.000000000",
          "2011-10-01T00:00:00.000000000",
          "2011-11-01T00:00:00.000000000",
          "2011-12-01T00:00:00.000000000",
          "2012-01-01T00:00:00.000000000",
          "2012-02-01T00:00:00.000000000",
          "2012-03-01T00:00:00.000000000",
          "2012-04-01T00:00:00.000000000",
          "2012-05-01T00:00:00.000000000",
          "2012-06-01T00:00:00.000000000",
          "2012-07-01T00:00:00.000000000",
          "2012-08-01T00:00:00.000000000",
          "2012-09-01T00:00:00.000000000",
          "2012-10-01T00:00:00.000000000",
          "2012-11-01T00:00:00.000000000",
          "2012-12-01T00:00:00.000000000",
          "2013-01-01T00:00:00.000000000",
          "2013-02-01T00:00:00.000000000",
          "2013-03-01T00:00:00.000000000",
          "2013-04-01T00:00:00.000000000",
          "2013-05-01T00:00:00.000000000",
          "2013-06-01T00:00:00.000000000",
          "2013-07-01T00:00:00.000000000",
          "2013-08-01T00:00:00.000000000",
          "2013-09-01T00:00:00.000000000",
          "2013-10-01T00:00:00.000000000",
          "2013-11-01T00:00:00.000000000",
          "2013-12-01T00:00:00.000000000",
          "2014-01-01T00:00:00.000000000",
          "2014-02-01T00:00:00.000000000",
          "2014-03-01T00:00:00.000000000",
          "2014-04-01T00:00:00.000000000",
          "2014-05-01T00:00:00.000000000",
          "2014-06-01T00:00:00.000000000",
          "2014-07-01T00:00:00.000000000",
          "2014-08-01T00:00:00.000000000",
          "2014-09-01T00:00:00.000000000",
          "2014-10-01T00:00:00.000000000",
          "2014-11-01T00:00:00.000000000",
          "2014-12-01T00:00:00.000000000",
          "2015-01-01T00:00:00.000000000",
          "2015-02-01T00:00:00.000000000",
          "2015-03-01T00:00:00.000000000",
          "2015-04-01T00:00:00.000000000",
          "2015-05-01T00:00:00.000000000",
          "2015-06-01T00:00:00.000000000",
          "2015-07-01T00:00:00.000000000",
          "2015-08-01T00:00:00.000000000",
          "2015-09-01T00:00:00.000000000",
          "2015-10-01T00:00:00.000000000",
          "2015-11-01T00:00:00.000000000",
          "2015-12-01T00:00:00.000000000",
          "2016-01-01T00:00:00.000000000",
          "2016-02-01T00:00:00.000000000",
          "2016-03-01T00:00:00.000000000",
          "2016-04-01T00:00:00.000000000",
          "2016-05-01T00:00:00.000000000",
          "2016-06-01T00:00:00.000000000",
          "2016-07-01T00:00:00.000000000",
          "2016-08-01T00:00:00.000000000",
          "2016-09-01T00:00:00.000000000",
          "2016-10-01T00:00:00.000000000",
          "2016-11-01T00:00:00.000000000",
          "2016-12-01T00:00:00.000000000",
          "2017-01-01T00:00:00.000000000",
          "2017-02-01T00:00:00.000000000",
          "2017-03-01T00:00:00.000000000",
          "2017-04-01T00:00:00.000000000",
          "2017-05-01T00:00:00.000000000",
          "2017-06-01T00:00:00.000000000",
          "2017-07-01T00:00:00.000000000",
          "2017-08-01T00:00:00.000000000",
          "2017-09-01T00:00:00.000000000",
          "2017-10-01T00:00:00.000000000",
          "2017-11-01T00:00:00.000000000",
          "2017-12-01T00:00:00.000000000",
          "2018-01-01T00:00:00.000000000",
          "2018-02-01T00:00:00.000000000",
          "2018-03-01T00:00:00.000000000",
          "2018-04-01T00:00:00.000000000",
          "2018-05-01T00:00:00.000000000",
          "2018-06-01T00:00:00.000000000",
          "2018-07-01T00:00:00.000000000",
          "2018-08-01T00:00:00.000000000",
          "2018-09-01T00:00:00.000000000",
          "2018-10-01T00:00:00.000000000",
          "2018-11-01T00:00:00.000000000",
          "2018-12-01T00:00:00.000000000",
          "2019-01-01T00:00:00.000000000",
          "2019-02-01T00:00:00.000000000",
          "2019-03-01T00:00:00.000000000",
          "2019-04-01T00:00:00.000000000",
          "2019-05-01T00:00:00.000000000",
          "2019-06-01T00:00:00.000000000",
          "2019-07-01T00:00:00.000000000",
          "2019-08-01T00:00:00.000000000",
          "2019-09-01T00:00:00.000000000",
          "2019-10-01T00:00:00.000000000",
          "2019-11-01T00:00:00.000000000",
          "2019-12-01T00:00:00.000000000",
          "2020-01-01T00:00:00.000000000",
          "2020-02-01T00:00:00.000000000",
          "2020-03-01T00:00:00.000000000",
          "2020-04-01T00:00:00.000000000",
          "2020-05-01T00:00:00.000000000",
          "2020-06-01T00:00:00.000000000",
          "2020-07-01T00:00:00.000000000",
          "2020-08-01T00:00:00.000000000",
          "2020-09-01T00:00:00.000000000",
          "2020-10-01T00:00:00.000000000",
          "2020-11-01T00:00:00.000000000",
          "2020-12-01T00:00:00.000000000",
          "2021-01-01T00:00:00.000000000",
          "2021-02-01T00:00:00.000000000",
          "2021-03-01T00:00:00.000000000",
          "2021-04-01T00:00:00.000000000",
          "2021-05-01T00:00:00.000000000",
          "2021-06-01T00:00:00.000000000",
          "2021-07-01T00:00:00.000000000",
          "2021-08-01T00:00:00.000000000",
          "2021-09-01T00:00:00.000000000",
          "2021-10-01T00:00:00.000000000",
          "2021-11-01T00:00:00.000000000",
          "2021-12-01T00:00:00.000000000",
          "2022-01-01T00:00:00.000000000",
          "2022-02-01T00:00:00.000000000",
          "2022-03-01T00:00:00.000000000",
          "2022-04-01T00:00:00.000000000",
          "2022-05-01T00:00:00.000000000",
          "2022-06-01T00:00:00.000000000",
          "2022-07-01T00:00:00.000000000",
          "2022-08-01T00:00:00.000000000",
          "2022-09-01T00:00:00.000000000",
          "2022-10-01T00:00:00.000000000",
          "2022-11-01T00:00:00.000000000",
          "2022-12-01T00:00:00.000000000",
          "2023-01-01T00:00:00.000000000",
          "2023-02-01T00:00:00.000000000",
          "2023-03-01T00:00:00.000000000",
          "2023-04-01T00:00:00.000000000",
          "2023-05-01T00:00:00.000000000",
          "2023-06-01T00:00:00.000000000",
          "2023-07-01T00:00:00.000000000",
          "2023-08-01T00:00:00.000000000",
          "2023-09-01T00:00:00.000000000",
          "2023-10-01T00:00:00.000000000",
          "2023-11-01T00:00:00.000000000",
          "2023-12-01T00:00:00.000000000",
          "2024-01-01T00:00:00.000000000",
          "2024-02-01T00:00:00.000000000",
          "2024-03-01T00:00:00.000000000",
          "2024-04-01T00:00:00.000000000",
          "2024-05-01T00:00:00.000000000",
          "2024-06-01T00:00:00.000000000",
          "2024-07-01T00:00:00.000000000",
          "2024-08-01T00:00:00.000000000",
          "2024-09-01T00:00:00.000000000",
          "2024-10-01T00:00:00.000000000",
          "2024-11-01T00:00:00.000000000",
          "2024-12-01T00:00:00.000000000",
          "2025-01-01T00:00:00.000000000"
         ],
         "y": {
          "bdata": "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",
          "dtype": "f8"
         }
        },
        {
         "line": {
          "color": "green"
         },
         "mode": "lines",
         "name": "United States ISM Manufacturing PMI (method: tooltips)",
         "type": "scatter",
         "x": [
          "1948-02-01T00:00:00.000000000",
          "1948-04-01T00:00:00.000000000",
          "1948-05-01T00:00:00.000000000",
          "1948-07-01T00:00:00.000000000",
          "1948-08-01T00:00:00.000000000",
          "1948-09-01T00:00:00.000000000",
          "1948-11-01T00:00:00.000000000",
          "1948-12-01T00:00:00.000000000",
          "1949-01-01T00:00:00.000000000",
          "1949-03-01T00:00:00.000000000",
          "1949-04-01T00:00:00.000000000",
          "1949-05-01T00:00:00.000000000",
          "1949-07-01T00:00:00.000000000",
          "1949-08-01T00:00:00.000000000",
          "1949-10-01T00:00:00.000000000",
          "1949-11-01T00:00:00.000000000",
          "1949-12-01T00:00:00.000000000",
          "1950-02-01T00:00:00.000000000",
          "1950-03-01T00:00:00.000000000",
          "1950-04-01T00:00:00.000000000",
          "1950-06-01T00:00:00.000000000",
          "1950-07-01T00:00:00.000000000",
          "1950-09-01T00:00:00.000000000",
          "1950-10-01T00:00:00.000000000",
          "1950-11-01T00:00:00.000000000",
          "1951-01-01T00:00:00.000000000",
          "1951-02-01T00:00:00.000000000",
          "1951-03-01T00:00:00.000000000",
          "1951-05-01T00:00:00.000000000",
          "1951-06-01T00:00:00.000000000",
          "1951-08-01T00:00:00.000000000",
          "1951-09-01T00:00:00.000000000",
          "1951-10-01T00:00:00.000000000",
          "1951-12-01T00:00:00.000000000",
          "1952-01-01T00:00:00.000000000",
          "1952-02-01T00:00:00.000000000",
          "1952-04-01T00:00:00.000000000",
          "1952-05-01T00:00:00.000000000",
          "1952-07-01T00:00:00.000000000",
          "1952-08-01T00:00:00.000000000",
          "1952-09-01T00:00:00.000000000",
          "1952-11-01T00:00:00.000000000",
          "1952-12-01T00:00:00.000000000",
          "1953-01-01T00:00:00.000000000",
          "1953-03-01T00:00:00.000000000",
          "1953-04-01T00:00:00.000000000",
          "1953-06-01T00:00:00.000000000",
          "1953-07-01T00:00:00.000000000",
          "1953-08-01T00:00:00.000000000",
          "1953-10-01T00:00:00.000000000",
          "1953-11-01T00:00:00.000000000",
          "1953-12-01T00:00:00.000000000",
          "1954-02-01T00:00:00.000000000",
          "1954-03-01T00:00:00.000000000",
          "1954-05-01T00:00:00.000000000",
          "1954-06-01T00:00:00.000000000",
          "1954-07-01T00:00:00.000000000",
          "1954-09-01T00:00:00.000000000",
          "1954-10-01T00:00:00.000000000",
          "1954-11-01T00:00:00.000000000",
          "1955-01-01T00:00:00.000000000",
          "1955-02-01T00:00:00.000000000",
          "1955-04-01T00:00:00.000000000",
          "1955-05-01T00:00:00.000000000",
          "1955-06-01T00:00:00.000000000",
          "1955-08-01T00:00:00.000000000",
          "1955-09-01T00:00:00.000000000",
          "1955-10-01T00:00:00.000000000",
          "1955-12-01T00:00:00.000000000",
          "1956-01-01T00:00:00.000000000",
          "1956-02-01T00:00:00.000000000",
          "1956-04-01T00:00:00.000000000",
          "1956-05-01T00:00:00.000000000",
          "1956-07-01T00:00:00.000000000",
          "1956-08-01T00:00:00.000000000",
          "1956-09-01T00:00:00.000000000",
          "1956-11-01T00:00:00.000000000",
          "1956-12-01T00:00:00.000000000",
          "1957-01-01T00:00:00.000000000",
          "1957-03-01T00:00:00.000000000",
          "1957-04-01T00:00:00.000000000",
          "1957-06-01T00:00:00.000000000",
          "1957-07-01T00:00:00.000000000",
          "1957-08-01T00:00:00.000000000",
          "1957-10-01T00:00:00.000000000",
          "1957-11-01T00:00:00.000000000",
          "1957-12-01T00:00:00.000000000",
          "1958-02-01T00:00:00.000000000",
          "1958-03-01T00:00:00.000000000",
          "1958-05-01T00:00:00.000000000",
          "1958-06-01T00:00:00.000000000",
          "1958-07-01T00:00:00.000000000",
          "1958-09-01T00:00:00.000000000",
          "1958-10-01T00:00:00.000000000",
          "1958-11-01T00:00:00.000000000",
          "1959-01-01T00:00:00.000000000",
          "1959-02-01T00:00:00.000000000",
          "1959-04-01T00:00:00.000000000",
          "1959-05-01T00:00:00.000000000",
          "1959-06-01T00:00:00.000000000",
          "1959-08-01T00:00:00.000000000",
          "1959-09-01T00:00:00.000000000",
          "1959-10-01T00:00:00.000000000",
          "1959-12-01T00:00:00.000000000",
          "1960-01-01T00:00:00.000000000",
          "1960-03-01T00:00:00.000000000",
          "1960-04-01T00:00:00.000000000",
          "1960-05-01T00:00:00.000000000",
          "1960-07-01T00:00:00.000000000",
          "1960-08-01T00:00:00.000000000",
          "1960-09-01T00:00:00.000000000",
          "1960-11-01T00:00:00.000000000",
          "1960-12-01T00:00:00.000000000",
          "1961-01-01T00:00:00.000000000",
          "1961-03-01T00:00:00.000000000",
          "1961-04-01T00:00:00.000000000",
          "1961-06-01T00:00:00.000000000",
          "1961-07-01T00:00:00.000000000",
          "1961-08-01T00:00:00.000000000",
          "1961-10-01T00:00:00.000000000",
          "1961-11-01T00:00:00.000000000",
          "1961-12-01T00:00:00.000000000",
          "1962-02-01T00:00:00.000000000",
          "1962-03-01T00:00:00.000000000",
          "1962-05-01T00:00:00.000000000",
          "1962-06-01T00:00:00.000000000",
          "1962-07-01T00:00:00.000000000",
          "1962-09-01T00:00:00.000000000",
          "1962-10-01T00:00:00.000000000",
          "1962-11-01T00:00:00.000000000",
          "1963-01-01T00:00:00.000000000",
          "1963-02-01T00:00:00.000000000",
          "1963-04-01T00:00:00.000000000",
          "1963-05-01T00:00:00.000000000",
          "1963-06-01T00:00:00.000000000",
          "1963-08-01T00:00:00.000000000",
          "1963-09-01T00:00:00.000000000",
          "1963-10-01T00:00:00.000000000",
          "1963-12-01T00:00:00.000000000",
          "1964-01-01T00:00:00.000000000",
          "1964-03-01T00:00:00.000000000",
          "1964-04-01T00:00:00.000000000",
          "1964-05-01T00:00:00.000000000",
          "1964-07-01T00:00:00.000000000",
          "1964-08-01T00:00:00.000000000",
          "1964-09-01T00:00:00.000000000",
          "1964-11-01T00:00:00.000000000",
          "1964-12-01T00:00:00.000000000",
          "1965-02-01T00:00:00.000000000",
          "1965-03-01T00:00:00.000000000",
          "1965-04-01T00:00:00.000000000",
          "1965-06-01T00:00:00.000000000",
          "1965-07-01T00:00:00.000000000",
          "1965-08-01T00:00:00.000000000",
          "1965-10-01T00:00:00.000000000",
          "1965-11-01T00:00:00.000000000",
          "1966-01-01T00:00:00.000000000",
          "1966-02-01T00:00:00.000000000",
          "1966-03-01T00:00:00.000000000",
          "1966-05-01T00:00:00.000000000",
          "1966-06-01T00:00:00.000000000",
          "1966-07-01T00:00:00.000000000",
          "1966-09-01T00:00:00.000000000",
          "1966-10-01T00:00:00.000000000",
          "1966-12-01T00:00:00.000000000",
          "1967-01-01T00:00:00.000000000",
          "1967-02-01T00:00:00.000000000",
          "1967-04-01T00:00:00.000000000",
          "1967-05-01T00:00:00.000000000",
          "1967-06-01T00:00:00.000000000",
          "1967-08-01T00:00:00.000000000",
          "1967-09-01T00:00:00.000000000",
          "1967-11-01T00:00:00.000000000",
          "1967-12-01T00:00:00.000000000",
          "1968-01-01T00:00:00.000000000",
          "1968-03-01T00:00:00.000000000",
          "1968-04-01T00:00:00.000000000",
          "1968-05-01T00:00:00.000000000",
          "1968-07-01T00:00:00.000000000",
          "1968-08-01T00:00:00.000000000",
          "1968-10-01T00:00:00.000000000",
          "1968-11-01T00:00:00.000000000",
          "1968-12-01T00:00:00.000000000",
          "1969-02-01T00:00:00.000000000",
          "1969-03-01T00:00:00.000000000",
          "1969-04-01T00:00:00.000000000",
          "1969-06-01T00:00:00.000000000",
          "1969-07-01T00:00:00.000000000",
          "1969-08-01T00:00:00.000000000",
          "1969-10-01T00:00:00.000000000",
          "1969-11-01T00:00:00.000000000",
          "1970-01-01T00:00:00.000000000",
          "1970-02-01T00:00:00.000000000",
          "1970-03-01T00:00:00.000000000",
          "1970-05-01T00:00:00.000000000",
          "1970-06-01T00:00:00.000000000",
          "1970-08-01T00:00:00.000000000",
          "1970-09-01T00:00:00.000000000",
          "1970-10-01T00:00:00.000000000",
          "1970-12-01T00:00:00.000000000",
          "1971-01-01T00:00:00.000000000",
          "1971-02-01T00:00:00.000000000",
          "1971-04-01T00:00:00.000000000",
          "1971-05-01T00:00:00.000000000",
          "1971-07-01T00:00:00.000000000",
          "1971-08-01T00:00:00.000000000",
          "1971-09-01T00:00:00.000000000",
          "1971-11-01T00:00:00.000000000",
          "1971-12-01T00:00:00.000000000",
          "1972-01-01T00:00:00.000000000",
          "1972-03-01T00:00:00.000000000",
          "1972-04-01T00:00:00.000000000",
          "1972-05-01T00:00:00.000000000",
          "1972-07-01T00:00:00.000000000",
          "1972-08-01T00:00:00.000000000",
          "1972-10-01T00:00:00.000000000",
          "1972-11-01T00:00:00.000000000",
          "1972-12-01T00:00:00.000000000",
          "1973-02-01T00:00:00.000000000",
          "1973-03-01T00:00:00.000000000",
          "1973-04-01T00:00:00.000000000",
          "1973-06-01T00:00:00.000000000",
          "1973-07-01T00:00:00.000000000",
          "1973-09-01T00:00:00.000000000",
          "1973-10-01T00:00:00.000000000",
          "1973-11-01T00:00:00.000000000",
          "1974-01-01T00:00:00.000000000",
          "1974-02-01T00:00:00.000000000",
          "1974-03-01T00:00:00.000000000",
          "1974-05-01T00:00:00.000000000",
          "1974-06-01T00:00:00.000000000",
          "1974-08-01T00:00:00.000000000",
          "1974-09-01T00:00:00.000000000",
          "1974-10-01T00:00:00.000000000",
          "1974-12-01T00:00:00.000000000",
          "1975-01-01T00:00:00.000000000",
          "1975-02-01T00:00:00.000000000",
          "1975-04-01T00:00:00.000000000",
          "1975-05-01T00:00:00.000000000",
          "1975-07-01T00:00:00.000000000",
          "1975-08-01T00:00:00.000000000",
          "1975-09-01T00:00:00.000000000",
          "1975-11-01T00:00:00.000000000",
          "1975-12-01T00:00:00.000000000",
          "1976-01-01T00:00:00.000000000",
          "1976-03-01T00:00:00.000000000",
          "1976-04-01T00:00:00.000000000",
          "1976-06-01T00:00:00.000000000",
          "1976-07-01T00:00:00.000000000",
          "1976-08-01T00:00:00.000000000",
          "1976-10-01T00:00:00.000000000",
          "1976-11-01T00:00:00.000000000",
          "1976-12-01T00:00:00.000000000",
          "1977-02-01T00:00:00.000000000",
          "1977-03-01T00:00:00.000000000",
          "1977-05-01T00:00:00.000000000",
          "1977-06-01T00:00:00.000000000",
          "1977-07-01T00:00:00.000000000",
          "1977-09-01T00:00:00.000000000",
          "1977-10-01T00:00:00.000000000",
          "1977-11-01T00:00:00.000000000",
          "1978-01-01T00:00:00.000000000",
          "1978-02-01T00:00:00.000000000",
          "1978-04-01T00:00:00.000000000",
          "1978-05-01T00:00:00.000000000",
          "1978-06-01T00:00:00.000000000",
          "1978-08-01T00:00:00.000000000",
          "1978-09-01T00:00:00.000000000",
          "1978-10-01T00:00:00.000000000",
          "1978-12-01T00:00:00.000000000",
          "1979-01-01T00:00:00.000000000",
          "1979-02-01T00:00:00.000000000",
          "1979-04-01T00:00:00.000000000",
          "1979-05-01T00:00:00.000000000",
          "1979-07-01T00:00:00.000000000",
          "1979-08-01T00:00:00.000000000",
          "1979-09-01T00:00:00.000000000",
          "1979-11-01T00:00:00.000000000",
          "1979-12-01T00:00:00.000000000",
          "1980-01-01T00:00:00.000000000",
          "1980-03-01T00:00:00.000000000",
          "1980-04-01T00:00:00.000000000",
          "1980-06-01T00:00:00.000000000",
          "1980-07-01T00:00:00.000000000",
          "1980-08-01T00:00:00.000000000",
          "1980-10-01T00:00:00.000000000",
          "1980-11-01T00:00:00.000000000",
          "1980-12-01T00:00:00.000000000",
          "1981-02-01T00:00:00.000000000",
          "1981-03-01T00:00:00.000000000",
          "1981-05-01T00:00:00.000000000",
          "1981-06-01T00:00:00.000000000",
          "1981-07-01T00:00:00.000000000",
          "1981-09-01T00:00:00.000000000",
          "1981-10-01T00:00:00.000000000",
          "1981-11-01T00:00:00.000000000",
          "1982-01-01T00:00:00.000000000",
          "1982-02-01T00:00:00.000000000",
          "1982-04-01T00:00:00.000000000",
          "1982-05-01T00:00:00.000000000",
          "1982-06-01T00:00:00.000000000",
          "1982-08-01T00:00:00.000000000",
          "1982-09-01T00:00:00.000000000",
          "1982-10-01T00:00:00.000000000",
          "1982-12-01T00:00:00.000000000",
          "1983-01-01T00:00:00.000000000",
          "1983-03-01T00:00:00.000000000",
          "1983-04-01T00:00:00.000000000",
          "1983-05-01T00:00:00.000000000",
          "1983-07-01T00:00:00.000000000",
          "1983-08-01T00:00:00.000000000",
          "1983-09-01T00:00:00.000000000",
          "1983-11-01T00:00:00.000000000",
          "1983-12-01T00:00:00.000000000",
          "1984-01-01T00:00:00.000000000",
          "1984-03-01T00:00:00.000000000",
          "1984-04-01T00:00:00.000000000",
          "1984-06-01T00:00:00.000000000",
          "1984-07-01T00:00:00.000000000",
          "1984-08-01T00:00:00.000000000",
          "1984-10-01T00:00:00.000000000",
          "1984-11-01T00:00:00.000000000",
          "1984-12-01T00:00:00.000000000",
          "1985-02-01T00:00:00.000000000",
          "1985-03-01T00:00:00.000000000",
          "1985-05-01T00:00:00.000000000",
          "1985-06-01T00:00:00.000000000",
          "1985-07-01T00:00:00.000000000",
          "1985-09-01T00:00:00.000000000",
          "1985-10-01T00:00:00.000000000",
          "1985-11-01T00:00:00.000000000",
          "1986-01-01T00:00:00.000000000",
          "1986-02-01T00:00:00.000000000",
          "1986-04-01T00:00:00.000000000",
          "1986-05-01T00:00:00.000000000",
          "1986-06-01T00:00:00.000000000",
          "1986-08-01T00:00:00.000000000",
          "1986-09-01T00:00:00.000000000",
          "1986-10-01T00:00:00.000000000",
          "1986-12-01T00:00:00.000000000",
          "1987-01-01T00:00:00.000000000",
          "1987-03-01T00:00:00.000000000",
          "1987-04-01T00:00:00.000000000",
          "1987-05-01T00:00:00.000000000",
          "1987-07-01T00:00:00.000000000",
          "1987-08-01T00:00:00.000000000",
          "1987-09-01T00:00:00.000000000",
          "1987-11-01T00:00:00.000000000",
          "1987-12-01T00:00:00.000000000",
          "1988-02-01T00:00:00.000000000",
          "1988-03-01T00:00:00.000000000",
          "1988-04-01T00:00:00.000000000",
          "1988-06-01T00:00:00.000000000",
          "1988-07-01T00:00:00.000000000",
          "1988-08-01T00:00:00.000000000",
          "1988-10-01T00:00:00.000000000",
          "1988-11-01T00:00:00.000000000",
          "1989-01-01T00:00:00.000000000",
          "1989-02-01T00:00:00.000000000",
          "1989-03-01T00:00:00.000000000",
          "1989-05-01T00:00:00.000000000",
          "1989-06-01T00:00:00.000000000",
          "1989-07-01T00:00:00.000000000",
          "1989-09-01T00:00:00.000000000",
          "1989-10-01T00:00:00.000000000",
          "1989-12-01T00:00:00.000000000",
          "1990-01-01T00:00:00.000000000",
          "1990-02-01T00:00:00.000000000",
          "1990-04-01T00:00:00.000000000",
          "1990-05-01T00:00:00.000000000",
          "1990-06-01T00:00:00.000000000",
          "1990-08-01T00:00:00.000000000",
          "1990-09-01T00:00:00.000000000",
          "1990-11-01T00:00:00.000000000",
          "1990-12-01T00:00:00.000000000",
          "1991-01-01T00:00:00.000000000",
          "1991-03-01T00:00:00.000000000",
          "1991-04-01T00:00:00.000000000",
          "1991-05-01T00:00:00.000000000",
          "1991-07-01T00:00:00.000000000",
          "1991-08-01T00:00:00.000000000",
          "1991-09-01T00:00:00.000000000",
          "1991-11-01T00:00:00.000000000",
          "1991-12-01T00:00:00.000000000",
          "1992-02-01T00:00:00.000000000",
          "1992-03-01T00:00:00.000000000",
          "1992-04-01T00:00:00.000000000",
          "1992-06-01T00:00:00.000000000",
          "1992-07-01T00:00:00.000000000",
          "1992-08-01T00:00:00.000000000",
          "1992-10-01T00:00:00.000000000",
          "1992-11-01T00:00:00.000000000",
          "1993-01-01T00:00:00.000000000",
          "1993-02-01T00:00:00.000000000",
          "1993-03-01T00:00:00.000000000",
          "1993-05-01T00:00:00.000000000",
          "1993-06-01T00:00:00.000000000",
          "1993-07-01T00:00:00.000000000",
          "1993-09-01T00:00:00.000000000",
          "1993-10-01T00:00:00.000000000",
          "1993-12-01T00:00:00.000000000",
          "1994-01-01T00:00:00.000000000",
          "1994-02-01T00:00:00.000000000",
          "1994-04-01T00:00:00.000000000",
          "1994-05-01T00:00:00.000000000",
          "1994-06-01T00:00:00.000000000",
          "1994-08-01T00:00:00.000000000",
          "1994-09-01T00:00:00.000000000",
          "1994-11-01T00:00:00.000000000",
          "1994-12-01T00:00:00.000000000",
          "1995-01-01T00:00:00.000000000",
          "1995-03-01T00:00:00.000000000",
          "1995-04-01T00:00:00.000000000",
          "1995-05-01T00:00:00.000000000",
          "1995-07-01T00:00:00.000000000",
          "1995-08-01T00:00:00.000000000",
          "1995-10-01T00:00:00.000000000",
          "1995-11-01T00:00:00.000000000",
          "1995-12-01T00:00:00.000000000",
          "1996-02-01T00:00:00.000000000",
          "1996-03-01T00:00:00.000000000",
          "1996-04-01T00:00:00.000000000",
          "1996-06-01T00:00:00.000000000",
          "1996-07-01T00:00:00.000000000",
          "1996-09-01T00:00:00.000000000",
          "1996-10-01T00:00:00.000000000",
          "1996-11-01T00:00:00.000000000",
          "1997-01-01T00:00:00.000000000",
          "1997-02-01T00:00:00.000000000",
          "1997-03-01T00:00:00.000000000",
          "1997-05-01T00:00:00.000000000",
          "1997-06-01T00:00:00.000000000",
          "1997-08-01T00:00:00.000000000",
          "1997-09-01T00:00:00.000000000",
          "1997-10-01T00:00:00.000000000",
          "1997-12-01T00:00:00.000000000",
          "1998-01-01T00:00:00.000000000",
          "1998-02-01T00:00:00.000000000",
          "1998-04-01T00:00:00.000000000",
          "1998-05-01T00:00:00.000000000",
          "1998-07-01T00:00:00.000000000",
          "1998-08-01T00:00:00.000000000",
          "1998-09-01T00:00:00.000000000",
          "1998-11-01T00:00:00.000000000",
          "1998-12-01T00:00:00.000000000",
          "1999-01-01T00:00:00.000000000",
          "1999-03-01T00:00:00.000000000",
          "1999-04-01T00:00:00.000000000",
          "1999-06-01T00:00:00.000000000",
          "1999-07-01T00:00:00.000000000",
          "1999-08-01T00:00:00.000000000",
          "1999-10-01T00:00:00.000000000",
          "1999-11-01T00:00:00.000000000",
          "1999-12-01T00:00:00.000000000",
          "2000-02-01T00:00:00.000000000",
          "2000-03-01T00:00:00.000000000",
          "2000-04-01T00:00:00.000000000",
          "2000-06-01T00:00:00.000000000",
          "2000-07-01T00:00:00.000000000",
          "2000-09-01T00:00:00.000000000",
          "2000-10-01T00:00:00.000000000",
          "2000-11-01T00:00:00.000000000",
          "2001-01-01T00:00:00.000000000",
          "2001-02-01T00:00:00.000000000",
          "2001-03-01T00:00:00.000000000",
          "2001-05-01T00:00:00.000000000",
          "2001-06-01T00:00:00.000000000",
          "2001-08-01T00:00:00.000000000",
          "2001-09-01T00:00:00.000000000",
          "2001-10-01T00:00:00.000000000",
          "2001-12-01T00:00:00.000000000",
          "2002-01-01T00:00:00.000000000",
          "2002-02-01T00:00:00.000000000",
          "2002-04-01T00:00:00.000000000",
          "2002-05-01T00:00:00.000000000",
          "2002-07-01T00:00:00.000000000",
          "2002-08-01T00:00:00.000000000",
          "2002-09-01T00:00:00.000000000",
          "2002-11-01T00:00:00.000000000",
          "2002-12-01T00:00:00.000000000",
          "2003-01-01T00:00:00.000000000",
          "2003-03-01T00:00:00.000000000",
          "2003-04-01T00:00:00.000000000",
          "2003-06-01T00:00:00.000000000",
          "2003-07-01T00:00:00.000000000",
          "2003-08-01T00:00:00.000000000",
          "2003-10-01T00:00:00.000000000",
          "2003-11-01T00:00:00.000000000",
          "2003-12-01T00:00:00.000000000",
          "2004-02-01T00:00:00.000000000",
          "2004-03-01T00:00:00.000000000",
          "2004-05-01T00:00:00.000000000",
          "2004-06-01T00:00:00.000000000",
          "2004-07-01T00:00:00.000000000",
          "2004-09-01T00:00:00.000000000",
          "2004-10-01T00:00:00.000000000",
          "2004-11-01T00:00:00.000000000",
          "2005-01-01T00:00:00.000000000",
          "2005-02-01T00:00:00.000000000",
          "2005-04-01T00:00:00.000000000",
          "2005-05-01T00:00:00.000000000",
          "2005-06-01T00:00:00.000000000",
          "2005-08-01T00:00:00.000000000",
          "2005-09-01T00:00:00.000000000",
          "2005-10-01T00:00:00.000000000",
          "2005-12-01T00:00:00.000000000",
          "2006-01-01T00:00:00.000000000",
          "2006-02-01T00:00:00.000000000",
          "2006-04-01T00:00:00.000000000",
          "2006-05-01T00:00:00.000000000",
          "2006-07-01T00:00:00.000000000",
          "2006-08-01T00:00:00.000000000",
          "2006-09-01T00:00:00.000000000",
          "2006-11-01T00:00:00.000000000",
          "2006-12-01T00:00:00.000000000",
          "2007-01-01T00:00:00.000000000",
          "2007-03-01T00:00:00.000000000",
          "2007-04-01T00:00:00.000000000",
          "2007-06-01T00:00:00.000000000",
          "2007-07-01T00:00:00.000000000",
          "2007-08-01T00:00:00.000000000",
          "2007-10-01T00:00:00.000000000",
          "2007-11-01T00:00:00.000000000",
          "2007-12-01T00:00:00.000000000",
          "2008-02-01T00:00:00.000000000",
          "2008-03-01T00:00:00.000000000",
          "2008-05-01T00:00:00.000000000",
          "2008-06-01T00:00:00.000000000",
          "2008-07-01T00:00:00.000000000",
          "2008-09-01T00:00:00.000000000",
          "2008-10-01T00:00:00.000000000",
          "2008-11-01T00:00:00.000000000",
          "2009-01-01T00:00:00.000000000",
          "2009-02-01T00:00:00.000000000",
          "2009-04-01T00:00:00.000000000",
          "2009-05-01T00:00:00.000000000",
          "2009-06-01T00:00:00.000000000",
          "2009-08-01T00:00:00.000000000",
          "2009-09-01T00:00:00.000000000",
          "2009-10-01T00:00:00.000000000",
          "2009-12-01T00:00:00.000000000",
          "2010-01-01T00:00:00.000000000",
          "2010-03-01T00:00:00.000000000",
          "2010-04-01T00:00:00.000000000",
          "2010-05-01T00:00:00.000000000",
          "2010-07-01T00:00:00.000000000",
          "2010-08-01T00:00:00.000000000",
          "2010-09-01T00:00:00.000000000",
          "2010-11-01T00:00:00.000000000",
          "2010-12-01T00:00:00.000000000",
          "2011-02-01T00:00:00.000000000",
          "2011-03-01T00:00:00.000000000",
          "2011-04-01T00:00:00.000000000",
          "2011-06-01T00:00:00.000000000",
          "2011-07-01T00:00:00.000000000",
          "2011-08-01T00:00:00.000000000",
          "2011-10-01T00:00:00.000000000",
          "2011-11-01T00:00:00.000000000",
          "2012-01-01T00:00:00.000000000",
          "2012-02-01T00:00:00.000000000",
          "2012-03-01T00:00:00.000000000",
          "2012-05-01T00:00:00.000000000",
          "2012-06-01T00:00:00.000000000",
          "2012-07-01T00:00:00.000000000",
          "2012-09-01T00:00:00.000000000",
          "2012-10-01T00:00:00.000000000",
          "2012-11-01T00:00:00.000000000",
          "2013-01-01T00:00:00.000000000",
          "2013-02-01T00:00:00.000000000",
          "2013-04-01T00:00:00.000000000",
          "2013-05-01T00:00:00.000000000",
          "2013-06-01T00:00:00.000000000",
          "2013-08-01T00:00:00.000000000",
          "2013-09-01T00:00:00.000000000",
          "2013-10-01T00:00:00.000000000",
          "2013-12-01T00:00:00.000000000",
          "2014-01-01T00:00:00.000000000",
          "2014-03-01T00:00:00.000000000",
          "2014-04-01T00:00:00.000000000",
          "2014-05-01T00:00:00.000000000",
          "2014-07-01T00:00:00.000000000",
          "2014-08-01T00:00:00.000000000",
          "2014-09-01T00:00:00.000000000",
          "2014-11-01T00:00:00.000000000",
          "2014-12-01T00:00:00.000000000",
          "2015-02-01T00:00:00.000000000",
          "2015-03-01T00:00:00.000000000",
          "2015-04-01T00:00:00.000000000",
          "2015-06-01T00:00:00.000000000",
          "2015-07-01T00:00:00.000000000",
          "2015-08-01T00:00:00.000000000",
          "2015-10-01T00:00:00.000000000",
          "2015-11-01T00:00:00.000000000",
          "2016-01-01T00:00:00.000000000",
          "2016-02-01T00:00:00.000000000",
          "2016-03-01T00:00:00.000000000",
          "2016-05-01T00:00:00.000000000",
          "2016-06-01T00:00:00.000000000",
          "2016-07-01T00:00:00.000000000",
          "2016-09-01T00:00:00.000000000",
          "2016-10-01T00:00:00.000000000",
          "2016-12-01T00:00:00.000000000",
          "2017-01-01T00:00:00.000000000",
          "2017-02-01T00:00:00.000000000",
          "2017-04-01T00:00:00.000000000",
          "2017-05-01T00:00:00.000000000",
          "2017-06-01T00:00:00.000000000",
          "2017-08-01T00:00:00.000000000",
          "2017-09-01T00:00:00.000000000",
          "2017-11-01T00:00:00.000000000",
          "2017-12-01T00:00:00.000000000",
          "2018-01-01T00:00:00.000000000",
          "2018-03-01T00:00:00.000000000",
          "2018-04-01T00:00:00.000000000",
          "2018-05-01T00:00:00.000000000",
          "2018-07-01T00:00:00.000000000",
          "2018-08-01T00:00:00.000000000",
          "2018-10-01T00:00:00.000000000",
          "2018-11-01T00:00:00.000000000",
          "2018-12-01T00:00:00.000000000",
          "2019-02-01T00:00:00.000000000",
          "2019-03-01T00:00:00.000000000",
          "2019-04-01T00:00:00.000000000",
          "2019-06-01T00:00:00.000000000",
          "2019-07-01T00:00:00.000000000",
          "2019-09-01T00:00:00.000000000",
          "2019-10-01T00:00:00.000000000",
          "2019-11-01T00:00:00.000000000",
          "2020-01-01T00:00:00.000000000",
          "2020-02-01T00:00:00.000000000",
          "2020-03-01T00:00:00.000000000",
          "2020-05-01T00:00:00.000000000",
          "2020-06-01T00:00:00.000000000",
          "2020-07-01T00:00:00.000000000",
          "2020-09-01T00:00:00.000000000",
          "2020-10-01T00:00:00.000000000",
          "2020-12-01T00:00:00.000000000",
          "2021-01-01T00:00:00.000000000",
          "2021-02-01T00:00:00.000000000",
          "2021-04-01T00:00:00.000000000",
          "2021-05-01T00:00:00.000000000",
          "2021-06-01T00:00:00.000000000",
          "2021-08-01T00:00:00.000000000",
          "2021-09-01T00:00:00.000000000",
          "2021-11-01T00:00:00.000000000",
          "2021-12-01T00:00:00.000000000",
          "2022-01-01T00:00:00.000000000",
          "2022-03-01T00:00:00.000000000",
          "2022-04-01T00:00:00.000000000",
          "2022-05-01T00:00:00.000000000",
          "2022-07-01T00:00:00.000000000",
          "2022-08-01T00:00:00.000000000",
          "2022-10-01T00:00:00.000000000",
          "2022-11-01T00:00:00.000000000",
          "2022-12-01T00:00:00.000000000",
          "2023-02-01T00:00:00.000000000",
          "2023-03-01T00:00:00.000000000",
          "2023-04-01T00:00:00.000000000",
          "2023-06-01T00:00:00.000000000",
          "2023-07-01T00:00:00.000000000",
          "2023-09-01T00:00:00.000000000",
          "2023-10-01T00:00:00.000000000",
          "2023-11-01T00:00:00.000000000",
          "2024-01-01T00:00:00.000000000",
          "2024-02-01T00:00:00.000000000",
          "2024-03-01T00:00:00.000000000",
          "2024-05-01T00:00:00.000000000",
          "2024-06-01T00:00:00.000000000",
          "2024-08-01T00:00:00.000000000",
          "2024-09-01T00:00:00.000000000",
          "2024-10-01T00:00:00.000000000",
          "2024-12-01T00:00:00.000000000"
         ],
         "y": {
          "bdata": "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",
          "dtype": "f8"
         }
        }
       ],
       "layout": {
        "annotations": [
         {
          "align": "left",
          "bgcolor": "rgba(255, 255, 255, 0.8)",
          "bordercolor": "black",
          "borderwidth": 1,
          "font": {
           "size": 10
          },
          "showarrow": false,
          "text": "Source: Trading Economics<br>Original Source: Institute for Supply Management<br>Frequency: MS<br>",
          "x": -0.05,
          "xanchor": "left",
          "xref": "paper",
          "y": -0.25,
          "yanchor": "bottom",
          "yref": "paper"
         }
        ],
        "legend": {
         "orientation": "h",
         "title": {
          "text": ""
         },
         "x": 0.5,
         "xanchor": "center",
         "y": -0.2,
         "yanchor": "bottom"
        },
        "template": {
         "data": {
          "bar": [
           {
            "error_x": {
             "color": "#2a3f5f"
            },
            "error_y": {
             "color": "#2a3f5f"
            },
            "marker": {
             "line": {
              "color": "#E5ECF6",
              "width": 0.5
             },
             "pattern": {
              "fillmode": "overlay",
              "size": 10,
              "solidity": 0.2
             }
            },
            "type": "bar"
           }
          ],
          "barpolar": [
           {
            "marker": {
             "line": {
              "color": "#E5ECF6",
              "width": 0.5
             },
             "pattern": {
              "fillmode": "overlay",
              "size": 10,
              "solidity": 0.2
             }
            },
            "type": "barpolar"
           }
          ],
          "carpet": [
           {
            "aaxis": {
             "endlinecolor": "#2a3f5f",
             "gridcolor": "white",
             "linecolor": "white",
             "minorgridcolor": "white",
             "startlinecolor": "#2a3f5f"
            },
            "baxis": {
             "endlinecolor": "#2a3f5f",
             "gridcolor": "white",
             "linecolor": "white",
             "minorgridcolor": "white",
             "startlinecolor": "#2a3f5f"
            },
            "type": "carpet"
           }
          ],
          "choropleth": [
           {
            "colorbar": {
             "outlinewidth": 0,
             "ticks": ""
            },
            "type": "choropleth"
           }
          ],
          "contour": [
           {
            "colorbar": {
             "outlinewidth": 0,
             "ticks": ""
            },
            "colorscale": [
             [
              0,
              "#0d0887"
             ],
             [
              0.1111111111111111,
              "#46039f"
             ],
             [
              0.2222222222222222,
              "#7201a8"
             ],
             [
              0.3333333333333333,
              "#9c179e"
             ],
             [
              0.4444444444444444,
              "#bd3786"
             ],
             [
              0.5555555555555556,
              "#d8576b"
             ],
             [
              0.6666666666666666,
              "#ed7953"
             ],
             [
              0.7777777777777778,
              "#fb9f3a"
             ],
             [
              0.8888888888888888,
              "#fdca26"
             ],
             [
              1,
              "#f0f921"
             ]
            ],
            "type": "contour"
           }
          ],
          "contourcarpet": [
           {
            "colorbar": {
             "outlinewidth": 0,
             "ticks": ""
            },
            "type": "contourcarpet"
           }
          ],
          "heatmap": [
           {
            "colorbar": {
             "outlinewidth": 0,
             "ticks": ""
            },
            "colorscale": [
             [
              0,
              "#0d0887"
             ],
             [
              0.1111111111111111,
              "#46039f"
             ],
             [
              0.2222222222222222,
              "#7201a8"
             ],
             [
              0.3333333333333333,
              "#9c179e"
             ],
             [
              0.4444444444444444,
              "#bd3786"
             ],
             [
              0.5555555555555556,
              "#d8576b"
             ],
             [
              0.6666666666666666,
              "#ed7953"
             ],
             [
              0.7777777777777778,
              "#fb9f3a"
             ],
             [
              0.8888888888888888,
              "#fdca26"
             ],
             [
              1,
              "#f0f921"
             ]
            ],
            "type": "heatmap"
           }
          ],
          "histogram": [
           {
            "marker": {
             "pattern": {
              "fillmode": "overlay",
              "size": 10,
              "solidity": 0.2
             }
            },
            "type": "histogram"
           }
          ],
          "histogram2d": [
           {
            "colorbar": {
             "outlinewidth": 0,
             "ticks": ""
            },
            "colorscale": [
             [
              0,
              "#0d0887"
             ],
             [
              0.1111111111111111,
              "#46039f"
             ],
             [
              0.2222222222222222,
              "#7201a8"
             ],
             [
              0.3333333333333333,
              "#9c179e"
             ],
             [
              0.4444444444444444,
              "#bd3786"
             ],
             [
              0.5555555555555556,
              "#d8576b"
             ],
             [
              0.6666666666666666,
              "#ed7953"
             ],
             [
              0.7777777777777778,
              "#fb9f3a"
             ],
             [
              0.8888888888888888,
              "#fdca26"
             ],
             [
              1,
              "#f0f921"
             ]
            ],
            "type": "histogram2d"
           }
          ],
          "histogram2dcontour": [
           {
            "colorbar": {
             "outlinewidth": 0,
             "ticks": ""
            },
            "colorscale": [
             [
              0,
              "#0d0887"
             ],
             [
              0.1111111111111111,
              "#46039f"
             ],
             [
              0.2222222222222222,
              "#7201a8"
             ],
             [
              0.3333333333333333,
              "#9c179e"
             ],
             [
              0.4444444444444444,
              "#bd3786"
             ],
             [
              0.5555555555555556,
              "#d8576b"
             ],
             [
              0.6666666666666666,
              "#ed7953"
             ],
             [
              0.7777777777777778,
              "#fb9f3a"
             ],
             [
              0.8888888888888888,
              "#fdca26"
             ],
             [
              1,
              "#f0f921"
             ]
            ],
            "type": "histogram2dcontour"
           }
          ],
          "mesh3d": [
           {
            "colorbar": {
             "outlinewidth": 0,
             "ticks": ""
            },
            "type": "mesh3d"
           }
          ],
          "parcoords": [
           {
            "line": {
             "colorbar": {
              "outlinewidth": 0,
              "ticks": ""
             }
            },
            "type": "parcoords"
           }
          ],
          "pie": [
           {
            "automargin": true,
            "type": "pie"
           }
          ],
          "scatter": [
           {
            "fillpattern": {
             "fillmode": "overlay",
             "size": 10,
             "solidity": 0.2
            },
            "type": "scatter"
           }
          ],
          "scatter3d": [
           {
            "line": {
             "colorbar": {
              "outlinewidth": 0,
              "ticks": ""
             }
            },
            "marker": {
             "colorbar": {
              "outlinewidth": 0,
              "ticks": ""
             }
            },
            "type": "scatter3d"
           }
          ],
          "scattercarpet": [
           {
            "marker": {
             "colorbar": {
              "outlinewidth": 0,
              "ticks": ""
             }
            },
            "type": "scattercarpet"
           }
          ],
          "scattergeo": [
           {
            "marker": {
             "colorbar": {
              "outlinewidth": 0,
              "ticks": ""
             }
            },
            "type": "scattergeo"
           }
          ],
          "scattergl": [
           {
            "marker": {
             "colorbar": {
              "outlinewidth": 0,
              "ticks": ""
             }
            },
            "type": "scattergl"
           }
          ],
          "scattermap": [
           {
            "marker": {
             "colorbar": {
              "outlinewidth": 0,
              "ticks": ""
             }
            },
            "type": "scattermap"
           }
          ],
          "scattermapbox": [
           {
            "marker": {
             "colorbar": {
              "outlinewidth": 0,
              "ticks": ""
             }
            },
            "type": "scattermapbox"
           }
          ],
          "scatterpolar": [
           {
            "marker": {
             "colorbar": {
              "outlinewidth": 0,
              "ticks": ""
             }
            },
            "type": "scatterpolar"
           }
          ],
          "scatterpolargl": [
           {
            "marker": {
             "colorbar": {
              "outlinewidth": 0,
              "ticks": ""
             }
            },
            "type": "scatterpolargl"
           }
          ],
          "scatterternary": [
           {
            "marker": {
             "colorbar": {
              "outlinewidth": 0,
              "ticks": ""
             }
            },
            "type": "scatterternary"
           }
          ],
          "surface": [
           {
            "colorbar": {
             "outlinewidth": 0,
             "ticks": ""
            },
            "colorscale": [
             [
              0,
              "#0d0887"
             ],
             [
              0.1111111111111111,
              "#46039f"
             ],
             [
              0.2222222222222222,
              "#7201a8"
             ],
             [
              0.3333333333333333,
              "#9c179e"
             ],
             [
              0.4444444444444444,
              "#bd3786"
             ],
             [
              0.5555555555555556,
              "#d8576b"
             ],
             [
              0.6666666666666666,
              "#ed7953"
             ],
             [
              0.7777777777777778,
              "#fb9f3a"
             ],
             [
              0.8888888888888888,
              "#fdca26"
             ],
             [
              1,
              "#f0f921"
             ]
            ],
            "type": "surface"
           }
          ],
          "table": [
           {
            "cells": {
             "fill": {
              "color": "#EBF0F8"
             },
             "line": {
              "color": "white"
             }
            },
            "header": {
             "fill": {
              "color": "#C8D4E3"
             },
             "line": {
              "color": "white"
             }
            },
            "type": "table"
           }
          ]
         },
         "layout": {
          "annotationdefaults": {
           "arrowcolor": "#2a3f5f",
           "arrowhead": 0,
           "arrowwidth": 1
          },
          "autotypenumbers": "strict",
          "coloraxis": {
           "colorbar": {
            "outlinewidth": 0,
            "ticks": ""
           }
          },
          "colorscale": {
           "diverging": [
            [
             0,
             "#8e0152"
            ],
            [
             0.1,
             "#c51b7d"
            ],
            [
             0.2,
             "#de77ae"
            ],
            [
             0.3,
             "#f1b6da"
            ],
            [
             0.4,
             "#fde0ef"
            ],
            [
             0.5,
             "#f7f7f7"
            ],
            [
             0.6,
             "#e6f5d0"
            ],
            [
             0.7,
             "#b8e186"
            ],
            [
             0.8,
             "#7fbc41"
            ],
            [
             0.9,
             "#4d9221"
            ],
            [
             1,
             "#276419"
            ]
           ],
           "sequential": [
            [
             0,
             "#0d0887"
            ],
            [
             0.1111111111111111,
             "#46039f"
            ],
            [
             0.2222222222222222,
             "#7201a8"
            ],
            [
             0.3333333333333333,
             "#9c179e"
            ],
            [
             0.4444444444444444,
             "#bd3786"
            ],
            [
             0.5555555555555556,
             "#d8576b"
            ],
            [
             0.6666666666666666,
             "#ed7953"
            ],
            [
             0.7777777777777778,
             "#fb9f3a"
            ],
            [
             0.8888888888888888,
             "#fdca26"
            ],
            [
             1,
             "#f0f921"
            ]
           ],
           "sequentialminus": [
            [
             0,
             "#0d0887"
            ],
            [
             0.1111111111111111,
             "#46039f"
            ],
            [
             0.2222222222222222,
             "#7201a8"
            ],
            [
             0.3333333333333333,
             "#9c179e"
            ],
            [
             0.4444444444444444,
             "#bd3786"
            ],
            [
             0.5555555555555556,
             "#d8576b"
            ],
            [
             0.6666666666666666,
             "#ed7953"
            ],
            [
             0.7777777777777778,
             "#fb9f3a"
            ],
            [
             0.8888888888888888,
             "#fdca26"
            ],
            [
             1,
             "#f0f921"
            ]
           ]
          },
          "colorway": [
           "#636efa",
           "#EF553B",
           "#00cc96",
           "#ab63fa",
           "#FFA15A",
           "#19d3f3",
           "#FF6692",
           "#B6E880",
           "#FF97FF",
           "#FECB52"
          ],
          "font": {
           "color": "#2a3f5f"
          },
          "geo": {
           "bgcolor": "white",
           "lakecolor": "white",
           "landcolor": "#E5ECF6",
           "showlakes": true,
           "showland": true,
           "subunitcolor": "white"
          },
          "hoverlabel": {
           "align": "left"
          },
          "hovermode": "closest",
          "mapbox": {
           "style": "light"
          },
          "paper_bgcolor": "white",
          "plot_bgcolor": "#E5ECF6",
          "polar": {
           "angularaxis": {
            "gridcolor": "white",
            "linecolor": "white",
            "ticks": ""
           },
           "bgcolor": "#E5ECF6",
           "radialaxis": {
            "gridcolor": "white",
            "linecolor": "white",
            "ticks": ""
           }
          },
          "scene": {
           "xaxis": {
            "backgroundcolor": "#E5ECF6",
            "gridcolor": "white",
            "gridwidth": 2,
            "linecolor": "white",
            "showbackground": true,
            "ticks": "",
            "zerolinecolor": "white"
           },
           "yaxis": {
            "backgroundcolor": "#E5ECF6",
            "gridcolor": "white",
            "gridwidth": 2,
            "linecolor": "white",
            "showbackground": true,
            "ticks": "",
            "zerolinecolor": "white"
           },
           "zaxis": {
            "backgroundcolor": "#E5ECF6",
            "gridcolor": "white",
            "gridwidth": 2,
            "linecolor": "white",
            "showbackground": true,
            "ticks": "",
            "zerolinecolor": "white"
           }
          },
          "shapedefaults": {
           "line": {
            "color": "#2a3f5f"
           }
          },
          "ternary": {
           "aaxis": {
            "gridcolor": "white",
            "linecolor": "white",
            "ticks": ""
           },
           "baxis": {
            "gridcolor": "white",
            "linecolor": "white",
            "ticks": ""
           },
           "bgcolor": "#E5ECF6",
           "caxis": {
            "gridcolor": "white",
            "linecolor": "white",
            "ticks": ""
           }
          },
          "title": {
           "x": 0.05
          },
          "xaxis": {
           "automargin": true,
           "gridcolor": "white",
           "linecolor": "white",
           "ticks": "",
           "title": {
            "standoff": 15
           },
           "zerolinecolor": "white",
           "zerolinewidth": 2
          },
          "yaxis": {
           "automargin": true,
           "gridcolor": "white",
           "linecolor": "white",
           "ticks": "",
           "title": {
            "standoff": 15
           },
           "zerolinecolor": "white",
           "zerolinewidth": 2
          }
         }
        },
        "title": {
         "text": "United states: United states ism manufacturing pmi"
        },
        "xaxis": {
         "title": {
          "text": ""
         }
        },
        "yaxis": {
         "title": {
          "text": "Points"
         }
        }
       }
      }
     },
     "metadata": {},
     "output_type": "display_data"
    }
   ],
   "source": [
    "ted.utils.plot_multi_series(series_list=[{\"series\": scrup.series, \"add_name\": \"mixed\"}, {\"series\": pathout, \"add_name\": \"path\"}, {\"series\": scruf.series, \"add_name\": \"tooltips\"}], metadata = scrup.metadata,\n",
    "                            ann_box_pos=(-0.05, -0.25))"
   ]
  },
  {
   "cell_type": "code",
   "execution_count": 17,
   "metadata": {},
   "outputs": [
    {
     "name": "stderr",
     "output_type": "stream",
     "text": [
      "INFO - New firefox webdriver created.\n",
      "INFO - scrape_chart function: Scraping chart at: https://tradingeconomics.com/united-states/manufacturing-pmi, time: 2025-02-28 16:02:19.396042, method: path\n",
      "INFO - Chart types dictionary created successfully: dict_keys(['Column', 'Spline', 'Areaspline', 'Stepline', 'Line', 'Area'])\n",
      "INFO - Date span set to: 6M\n",
      "INFO - \n",
      "Series metadata: \n",
      " {'units': 'points', 'original_source': 'S&P Global', 'title': 'United States Manufacturing PMI', 'indicator': 'manufacturing pmi', 'country': 'united states', 'source': 'Trading Economics', 'id': 'united-states/manufacturing-pmi'}\n"
     ]
    },
    {
     "name": "stdout",
     "output_type": "stream",
     "text": [
      "Using selenium and tooltip scraping to construct the date time index for the time-series, this'll take a bit...\n",
      "Attempting to select chart type:  Spline clicking top button....\n"
     ]
    },
    {
     "name": "stderr",
     "output_type": "stream",
     "text": [
      "INFO - Chart type set to: Spline\n"
     ]
    },
    {
     "name": "stdout",
     "output_type": "stream",
     "text": [
      "Time taken to select chart type: 3.3203644970199093\n",
      "Time taken to load JS code: 0.006725176004692912\n"
     ]
    },
    {
     "name": "stderr",
     "output_type": "stream",
     "text": [
      "INFO - JS Console: Starting cursor movement, target points: 10\n",
      "INFO - JS Console: Using increment: 5px\n",
      "INFO - JS Console: Using wait time: 25ms\n",
      "INFO - JS Console: Chart dimensions: [object DOMRect]\n",
      "INFO - JS Console: Found data point: Feb 2025 = NaN\n",
      "INFO - JS Console: Found data point: Jan 2025 = NaN\n",
      "INFO - JS Console: Found data point: Dec 2024 = NaN\n",
      "INFO - JS Console: Found data point: Nov 2024 = NaN\n",
      "INFO - JS Console: Found data point: Oct 2024 = NaN\n",
      "INFO - JS Console: Found data point: Sep 2024 = NaN\n",
      "INFO - JS Console: Found data point: Aug 2024 = NaN\n",
      "INFO - JS Console: Collected 7 points, reached end of chart\n"
     ]
    },
    {
     "name": "stdout",
     "output_type": "stream",
     "text": [
      "Time taken to execute JS code: 3.9634630550281145\n",
      "Latest dates:  ['Feb 2025', 'Jan 2025', 'Dec 2024', 'Nov 2024', 'Oct 2024', 'Sep 2024', 'Aug 2024']\n",
      "Frequency of time-series:  MS\n",
      "get_xlims_from_tooltips method: date_span:  6M , chart_type: splineChart\n",
      "Attempting to select chart type:  Spline clicking top button....\n"
     ]
    },
    {
     "name": "stderr",
     "output_type": "stream",
     "text": [
      "INFO - Chart type set to: Spline\n"
     ]
    },
    {
     "name": "stdout",
     "output_type": "stream",
     "text": [
      "Got chart dimensions and plot background element.\n",
      "Feb 2022\n",
      "Error with the x-axis scraping & frequency deterination using Selenium and tooltips: cannot access local variable 'date' where it is not associated with a value\n"
     ]
    }
   ],
   "source": [
    "sick = ted.scrape_chart(url=\"https://tradingeconomics.com/united-states/manufacturing-pmi\", use_existing_driver=True) "
   ]
  },
  {
   "cell_type": "code",
   "execution_count": 2,
   "metadata": {},
   "outputs": [
    {
     "name": "stdout",
     "output_type": "stream",
     "text": [
      "(1000000.0, '$')\n",
      "(246000.0, 'Thousand')\n",
      "(10000000.0, 'million')\n",
      "(6000000.0, '')\n",
      "(5000000000.0, '')\n",
      "(7000000000.0, 'dollars')\n",
      "(2300.0, '%')\n",
      "(2300.0, '%')\n",
      "(25.0, 'YoY%change')\n",
      "(2.345, '')\n",
      "(4.5989, 'thyfd')\n",
      "(100000250000000.0, '')\n",
      "(0.29985, '')\n",
      "(6.730000000000001e-07, '')\n",
      "(6750.0, '')\n",
      "(1112340000000.0, 'USD')\n",
      "(7123400000000.0, 'dollars')\n",
      "(156.0, 'Thousand')\n",
      "(6200.0, 'USD')\n",
      "(1200000.0, 'USD')\n",
      "(1200000000.0, 'USD')\n",
      "(1200000000000.0, '')\n",
      "(8.1, '%')\n",
      "(222.2, 'USD')\n"
     ]
    }
   ],
   "source": [
    "lst = \"1 M $, 246 k Thousand, 10 M million, 6 million, 5 billion, 7 G dollars, 2.3 k %, 2.3 k %, 25 YoY% change, 2.345, 4.5989 thyfd, 100 000.25 G, 0.29985, 0.673 x10^-6,  \\\n",
    "    6.75 thousand, 1.11234 T USD, 7.1234 Trillion dollars, 1.56 hundred Thousand, 6.2 K USD, 1.2 M USD, 1.2 B USD, 1.2 T, 8.1 %, 2.222 Hundred USD\"\n",
    "lstr = lst.split(\", \")\n",
    "for ls in lstr:\n",
    "    print(ted.utils.extract_and_convert_value(ls))"
   ]
  }
 ],
 "metadata": {
  "kernelspec": {
   "display_name": "ted",
   "language": "python",
   "name": "python3"
  },
  "language_info": {
   "codemirror_mode": {
    "name": "ipython",
    "version": 3
   },
   "file_extension": ".py",
   "mimetype": "text/x-python",
   "name": "python",
   "nbconvert_exporter": "python",
   "pygments_lexer": "ipython3",
   "version": "3.11.11"
  }
 },
 "nbformat": 4,
 "nbformat_minor": 2
}
