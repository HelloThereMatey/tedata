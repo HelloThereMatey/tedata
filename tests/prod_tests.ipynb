{
 "cells": [
  {
   "cell_type": "code",
   "execution_count": 1,
   "metadata": {},
   "outputs": [
    {
     "name": "stderr",
     "output_type": "stream",
     "text": [
      "INFO - tedata package initialized successfully!\n"
     ]
    }
   ],
   "source": [
    "import sys\n",
    "import os\n",
    "import pandas as pd\n",
    "from pprint import pprint\n",
    "wd = %pwd\n",
    "parent = os.path.dirname(wd)\n",
    "fdel = os.path.sep\n",
    "sys.path.append(parent+fdel+\"src\")\n",
    "import tedata as ted"
   ]
  },
  {
   "cell_type": "markdown",
   "metadata": {},
   "source": [
    "# tedata package\n",
    "Download data from Trading Economics. There are several ways to use this package. \n",
    "# Method #1: search for indicators and then download the data for a given search result.\n",
    "## Initialise new search_TE object. \n",
    "Object will use an existing webdriver if there is already more than one active in the namespace when use_existing_driver=True. \n",
    "This will save you some time and be more memory efficient."
   ]
  },
  {
   "cell_type": "code",
   "execution_count": 2,
   "metadata": {},
   "outputs": [
    {
     "name": "stderr",
     "output_type": "stream",
     "text": [
      "INFO - New firefox webdriver created.\n",
      "INFO - Loading home page at https://tradingeconomics.com/ ...\n",
      "INFO - Home page at https://tradingeconomics.com loaded successfully! Search box element found.\n"
     ]
    }
   ],
   "source": [
    "search = ted.search_TE(use_existing_driver=False, headless=False)  # Will open firefox browser window as headless=False."
   ]
  },
  {
   "cell_type": "markdown",
   "metadata": {},
   "source": [
    "### Use the search_trading_economics method to use the search bar on the homepage to search."
   ]
  },
  {
   "cell_type": "code",
   "execution_count": 3,
   "metadata": {},
   "outputs": [
    {
     "name": "stderr",
     "output_type": "stream",
     "text": [
      "INFO - Clicking search box...\n",
      "INFO - Entering search term: ISM Services\n",
      "INFO - Submitting search, waiting 3s for page to load...\n"
     ]
    },
    {
     "name": "stdout",
     "output_type": "stream",
     "text": [
      "Found search results on page.\n"
     ]
    },
    {
     "data": {
      "application/vnd.microsoft.datawrangler.viewer.v0+json": {
       "columns": [
        {
         "name": "result",
         "rawType": "int64",
         "type": "integer"
        },
        {
         "name": "country",
         "rawType": "object",
         "type": "string"
        },
        {
         "name": "metric",
         "rawType": "object",
         "type": "string"
        },
        {
         "name": "url",
         "rawType": "object",
         "type": "string"
        }
       ],
       "conversionMethod": "pd.DataFrame",
       "ref": "a4597241-866b-4824-8f55-1a2d4218d1f7",
       "rows": [
        [
         "0",
         "united states",
         "non manufacturing pmi",
         "https://tradingeconomics.com/united-states/non-manufacturing-pmi"
        ],
        [
         "1",
         "united states",
         "ism non manufacturing prices",
         "https://tradingeconomics.com/united-states/ism-non-manufacturing-prices"
        ],
        [
         "2",
         "united states",
         "ism non manufacturing business activity",
         "https://tradingeconomics.com/united-states/ism-non-manufacturing-business-activity"
        ],
        [
         "3",
         "united states",
         "ism non manufacturing employment",
         "https://tradingeconomics.com/united-states/ism-non-manufacturing-employment"
        ],
        [
         "4",
         "united states",
         "ism non manufacturing new orders",
         "https://tradingeconomics.com/united-states/ism-non-manufacturing-new-orders"
        ]
       ],
       "shape": {
        "columns": 3,
        "rows": 5
       }
      },
      "text/html": [
       "<div>\n",
       "<style scoped>\n",
       "    .dataframe tbody tr th:only-of-type {\n",
       "        vertical-align: middle;\n",
       "    }\n",
       "\n",
       "    .dataframe tbody tr th {\n",
       "        vertical-align: top;\n",
       "    }\n",
       "\n",
       "    .dataframe thead th {\n",
       "        text-align: right;\n",
       "    }\n",
       "</style>\n",
       "<table border=\"1\" class=\"dataframe\">\n",
       "  <thead>\n",
       "    <tr style=\"text-align: right;\">\n",
       "      <th></th>\n",
       "      <th>country</th>\n",
       "      <th>metric</th>\n",
       "      <th>url</th>\n",
       "    </tr>\n",
       "    <tr>\n",
       "      <th>result</th>\n",
       "      <th></th>\n",
       "      <th></th>\n",
       "      <th></th>\n",
       "    </tr>\n",
       "  </thead>\n",
       "  <tbody>\n",
       "    <tr>\n",
       "      <th>0</th>\n",
       "      <td>united states</td>\n",
       "      <td>non manufacturing pmi</td>\n",
       "      <td>https://tradingeconomics.com/united-states/non...</td>\n",
       "    </tr>\n",
       "    <tr>\n",
       "      <th>1</th>\n",
       "      <td>united states</td>\n",
       "      <td>ism non manufacturing prices</td>\n",
       "      <td>https://tradingeconomics.com/united-states/ism...</td>\n",
       "    </tr>\n",
       "    <tr>\n",
       "      <th>2</th>\n",
       "      <td>united states</td>\n",
       "      <td>ism non manufacturing business activity</td>\n",
       "      <td>https://tradingeconomics.com/united-states/ism...</td>\n",
       "    </tr>\n",
       "    <tr>\n",
       "      <th>3</th>\n",
       "      <td>united states</td>\n",
       "      <td>ism non manufacturing employment</td>\n",
       "      <td>https://tradingeconomics.com/united-states/ism...</td>\n",
       "    </tr>\n",
       "    <tr>\n",
       "      <th>4</th>\n",
       "      <td>united states</td>\n",
       "      <td>ism non manufacturing new orders</td>\n",
       "      <td>https://tradingeconomics.com/united-states/ism...</td>\n",
       "    </tr>\n",
       "  </tbody>\n",
       "</table>\n",
       "</div>"
      ],
      "text/plain": [
       "              country                                   metric  \\\n",
       "result                                                           \n",
       "0       united states                    non manufacturing pmi   \n",
       "1       united states             ism non manufacturing prices   \n",
       "2       united states  ism non manufacturing business activity   \n",
       "3       united states         ism non manufacturing employment   \n",
       "4       united states         ism non manufacturing new orders   \n",
       "\n",
       "                                                      url  \n",
       "result                                                     \n",
       "0       https://tradingeconomics.com/united-states/non...  \n",
       "1       https://tradingeconomics.com/united-states/ism...  \n",
       "2       https://tradingeconomics.com/united-states/ism...  \n",
       "3       https://tradingeconomics.com/united-states/ism...  \n",
       "4       https://tradingeconomics.com/united-states/ism...  "
      ]
     },
     "execution_count": 3,
     "metadata": {},
     "output_type": "execute_result"
    }
   ],
   "source": [
    "search.search_trading_economics(\"ISM Services\", wait_time=3) # Set wait_time to a higher value if you get an empty results table. Default is 5s.\n",
    "search.result_table"
   ]
  },
  {
   "cell_type": "markdown",
   "metadata": {},
   "source": [
    "### Download the time-series for a particular indicator using a search result displayed in your search results table.\n",
    "\n",
    "Sometimes you may get an error straight away on the first run of the ```get_data``` method. Error message will be something about error establising a connection.\n",
    "\n",
    "Noted error messages for this: \n",
    "- Error loading page: Message: Failed to write request to stream\n",
    "- Error loading page: Message: Tried to run command without establishing a connection\n",
    "\n",
    "Just try again if so, it has always worked for me the second time unless internet connection is down or too slow."
   ]
  },
  {
   "cell_type": "code",
   "execution_count": 8,
   "metadata": {},
   "outputs": [
    {
     "data": {
      "text/plain": [
       "'https://tradingeconomics.com/united-states/ism-non-manufacturing-new-orders'"
      ]
     },
     "execution_count": 8,
     "metadata": {},
     "output_type": "execute_result"
    }
   ],
   "source": [
    "search.result_table.loc[4, \"url\"]"
   ]
  },
  {
   "cell_type": "code",
   "execution_count": 4,
   "metadata": {},
   "outputs": [
    {
     "name": "stderr",
     "output_type": "stream",
     "text": [
      "INFO - scrape_chart function: Scraping chart at: https://tradingeconomics.com/united-states/ism-non-manufacturing-new-orders, time: 2025-02-19 10:03:50.097316\n"
     ]
    },
    {
     "name": "stdout",
     "output_type": "stream",
     "text": [
      "Attempting to scrape data for result  4 ,  united states ism non manufacturing new orders\n",
      "Scraping data from: https://tradingeconomics.com/united-states/ism-non-manufacturing-new-orders\n"
     ]
    },
    {
     "name": "stderr",
     "output_type": "stream",
     "text": [
      "INFO - WebPage at https://tradingeconomics.com/united-states/ism-non-manufacturing-new-orders loaded successfully.\n",
      "INFO - Chart types dictionary created successfully: dict_keys(['Column', 'Spline', 'Areaspline', 'Stepline', 'Line', 'Area'])\n"
     ]
    },
    {
     "name": "stdout",
     "output_type": "stream",
     "text": [
      "Using selenium and tooltip scraping to construct the date time index for the time-series, this'll take a bit...\n",
      "get_xlims_from_tooltips method: date_span:  None , chart_type: None\n"
     ]
    },
    {
     "name": "stderr",
     "output_type": "stream",
     "text": [
      "INFO - Date span set to: MAX\n",
      "INFO - Chart type set to: Line\n"
     ]
    },
    {
     "name": "stdout",
     "output_type": "stream",
     "text": [
      "Got chart dimensions and plot background element.\n"
     ]
    },
    {
     "name": "stderr",
     "output_type": "stream",
     "text": [
      "INFO - Start and end values scraped from tooltips: \n",
      "{'start_date': Timestamp('1997-07-01 00:00:00'), 'start_value': 58.8, 'end_date': Timestamp('2025-01-01 00:00:00'), 'end_value': 51.3}\n",
      "INFO - Date span set to: 1Y\n",
      "INFO - DateTimeIndex created successfully for the time-series.\n"
     ]
    },
    {
     "name": "stdout",
     "output_type": "stream",
     "text": [
      "Latest dates:  ['Jan 2025', 'Dec 2024', 'Nov 2024', 'Oct 2024', 'Sep 2024', 'Aug 2024', 'Jul 2024', 'Jun 2024', 'May 2024', 'Apr 2024']\n",
      "Frequency of time-series:  MS\n"
     ]
    },
    {
     "name": "stderr",
     "output_type": "stream",
     "text": [
      "INFO - Date span set to: MAX\n",
      "INFO - Y-axis values scraped successfully.\n",
      "INFO - Chart type set to: Spline\n",
      "INFO - Series path extraction method: Extracting series data from chart soup.\n",
      "INFO - Date span: MAX. Chart type: splineChart, URL: https://tradingeconomics.com/united-states/ism-non-manufacturing-new-orders.\n",
      "INFO - DateTimeIndex applied to series, series attribute updated.\n",
      "INFO - Successfully scaled series.\n",
      "INFO - Successfully scraped time-series from chart at:  https://tradingeconomics.com/united-states/ism-non-manufacturing-new-orders, now getting some metadata...\n",
      "INFO - \n",
      "Series metadata: \n",
      " {'units': 'points', 'original_source': 'Institute for Supply Management', 'title': 'United States ISM Services New Orders', 'indicator': 'ism non manufacturing new orders', 'country': 'united states', 'length': 331, 'frequency': 'MS', 'source': 'Trading Economics', 'id': 'united-states/ism-non-manufacturing-new-orders', 'start_date': '1997-07-01', 'end_date': '2025-01-01', 'min_value': 33.00000000000067, 'max_value': 69.20000000000013}\n"
     ]
    },
    {
     "name": "stdout",
     "output_type": "stream",
     "text": [
      "Got metadata. \n",
      "\n",
      "Series tail: 2024-09-01    59.4\n",
      "2024-10-01    56.7\n",
      "2024-11-01    54.2\n",
      "2024-12-01    54.4\n",
      "2025-01-01    51.3\n",
      "Freq: MS, Name: ism non manufacturing new orders, dtype: float64 \n",
      "\n",
      "Scraping complete! Happy pirating yo!\n",
      "Data scraped successfully from: https://tradingeconomics.com/united-states/ism-non-manufacturing-new-orders\n"
     ]
    }
   ],
   "source": [
    "scraped = search.get_data(4)  ## Using result number 5 in result_table attribute.\n",
    "# Sometimes you may get an error straight away on the first run of this method. Error message bout error establising connection.\n",
    "# Just try again if so, it has always worked for me the second time unless internet connection is down or too slow"
   ]
  },
  {
   "cell_type": "markdown",
   "metadata": {},
   "source": [
    "### Plot your downloaded series using plotly to create an interactive chart with tooltips."
   ]
  },
  {
   "cell_type": "code",
   "execution_count": 5,
   "metadata": {},
   "outputs": [
    {
     "data": {
      "application/vnd.plotly.v1+json": {
       "config": {
        "plotlyServerURL": "https://plot.ly"
       },
       "data": [
        {
         "hovertemplate": "variable=ism non manufacturing new orders<br>index=%{x}<br>value=%{y}<extra></extra>",
         "legendgroup": "ism non manufacturing new orders",
         "line": {
          "color": "#636efa",
          "dash": "solid"
         },
         "marker": {
          "symbol": "circle"
         },
         "mode": "lines",
         "name": "ism non manufacturing new orders",
         "orientation": "v",
         "showlegend": true,
         "type": "scatter",
         "x": [
          "1997-07-01T00:00:00.000000000",
          "1997-08-01T00:00:00.000000000",
          "1997-09-01T00:00:00.000000000",
          "1997-10-01T00:00:00.000000000",
          "1997-11-01T00:00:00.000000000",
          "1997-12-01T00:00:00.000000000",
          "1998-01-01T00:00:00.000000000",
          "1998-02-01T00:00:00.000000000",
          "1998-03-01T00:00:00.000000000",
          "1998-04-01T00:00:00.000000000",
          "1998-05-01T00:00:00.000000000",
          "1998-06-01T00:00:00.000000000",
          "1998-07-01T00:00:00.000000000",
          "1998-08-01T00:00:00.000000000",
          "1998-09-01T00:00:00.000000000",
          "1998-10-01T00:00:00.000000000",
          "1998-11-01T00:00:00.000000000",
          "1998-12-01T00:00:00.000000000",
          "1999-01-01T00:00:00.000000000",
          "1999-02-01T00:00:00.000000000",
          "1999-03-01T00:00:00.000000000",
          "1999-04-01T00:00:00.000000000",
          "1999-05-01T00:00:00.000000000",
          "1999-06-01T00:00:00.000000000",
          "1999-07-01T00:00:00.000000000",
          "1999-08-01T00:00:00.000000000",
          "1999-09-01T00:00:00.000000000",
          "1999-10-01T00:00:00.000000000",
          "1999-11-01T00:00:00.000000000",
          "1999-12-01T00:00:00.000000000",
          "2000-01-01T00:00:00.000000000",
          "2000-02-01T00:00:00.000000000",
          "2000-03-01T00:00:00.000000000",
          "2000-04-01T00:00:00.000000000",
          "2000-05-01T00:00:00.000000000",
          "2000-06-01T00:00:00.000000000",
          "2000-07-01T00:00:00.000000000",
          "2000-08-01T00:00:00.000000000",
          "2000-09-01T00:00:00.000000000",
          "2000-10-01T00:00:00.000000000",
          "2000-11-01T00:00:00.000000000",
          "2000-12-01T00:00:00.000000000",
          "2001-01-01T00:00:00.000000000",
          "2001-02-01T00:00:00.000000000",
          "2001-03-01T00:00:00.000000000",
          "2001-04-01T00:00:00.000000000",
          "2001-05-01T00:00:00.000000000",
          "2001-06-01T00:00:00.000000000",
          "2001-07-01T00:00:00.000000000",
          "2001-08-01T00:00:00.000000000",
          "2001-09-01T00:00:00.000000000",
          "2001-10-01T00:00:00.000000000",
          "2001-11-01T00:00:00.000000000",
          "2001-12-01T00:00:00.000000000",
          "2002-01-01T00:00:00.000000000",
          "2002-02-01T00:00:00.000000000",
          "2002-03-01T00:00:00.000000000",
          "2002-04-01T00:00:00.000000000",
          "2002-05-01T00:00:00.000000000",
          "2002-06-01T00:00:00.000000000",
          "2002-07-01T00:00:00.000000000",
          "2002-08-01T00:00:00.000000000",
          "2002-09-01T00:00:00.000000000",
          "2002-10-01T00:00:00.000000000",
          "2002-11-01T00:00:00.000000000",
          "2002-12-01T00:00:00.000000000",
          "2003-01-01T00:00:00.000000000",
          "2003-02-01T00:00:00.000000000",
          "2003-03-01T00:00:00.000000000",
          "2003-04-01T00:00:00.000000000",
          "2003-05-01T00:00:00.000000000",
          "2003-06-01T00:00:00.000000000",
          "2003-07-01T00:00:00.000000000",
          "2003-08-01T00:00:00.000000000",
          "2003-09-01T00:00:00.000000000",
          "2003-10-01T00:00:00.000000000",
          "2003-11-01T00:00:00.000000000",
          "2003-12-01T00:00:00.000000000",
          "2004-01-01T00:00:00.000000000",
          "2004-02-01T00:00:00.000000000",
          "2004-03-01T00:00:00.000000000",
          "2004-04-01T00:00:00.000000000",
          "2004-05-01T00:00:00.000000000",
          "2004-06-01T00:00:00.000000000",
          "2004-07-01T00:00:00.000000000",
          "2004-08-01T00:00:00.000000000",
          "2004-09-01T00:00:00.000000000",
          "2004-10-01T00:00:00.000000000",
          "2004-11-01T00:00:00.000000000",
          "2004-12-01T00:00:00.000000000",
          "2005-01-01T00:00:00.000000000",
          "2005-02-01T00:00:00.000000000",
          "2005-03-01T00:00:00.000000000",
          "2005-04-01T00:00:00.000000000",
          "2005-05-01T00:00:00.000000000",
          "2005-06-01T00:00:00.000000000",
          "2005-07-01T00:00:00.000000000",
          "2005-08-01T00:00:00.000000000",
          "2005-09-01T00:00:00.000000000",
          "2005-10-01T00:00:00.000000000",
          "2005-11-01T00:00:00.000000000",
          "2005-12-01T00:00:00.000000000",
          "2006-01-01T00:00:00.000000000",
          "2006-02-01T00:00:00.000000000",
          "2006-03-01T00:00:00.000000000",
          "2006-04-01T00:00:00.000000000",
          "2006-05-01T00:00:00.000000000",
          "2006-06-01T00:00:00.000000000",
          "2006-07-01T00:00:00.000000000",
          "2006-08-01T00:00:00.000000000",
          "2006-09-01T00:00:00.000000000",
          "2006-10-01T00:00:00.000000000",
          "2006-11-01T00:00:00.000000000",
          "2006-12-01T00:00:00.000000000",
          "2007-01-01T00:00:00.000000000",
          "2007-02-01T00:00:00.000000000",
          "2007-03-01T00:00:00.000000000",
          "2007-04-01T00:00:00.000000000",
          "2007-05-01T00:00:00.000000000",
          "2007-06-01T00:00:00.000000000",
          "2007-07-01T00:00:00.000000000",
          "2007-08-01T00:00:00.000000000",
          "2007-09-01T00:00:00.000000000",
          "2007-10-01T00:00:00.000000000",
          "2007-11-01T00:00:00.000000000",
          "2007-12-01T00:00:00.000000000",
          "2008-01-01T00:00:00.000000000",
          "2008-02-01T00:00:00.000000000",
          "2008-03-01T00:00:00.000000000",
          "2008-04-01T00:00:00.000000000",
          "2008-05-01T00:00:00.000000000",
          "2008-06-01T00:00:00.000000000",
          "2008-07-01T00:00:00.000000000",
          "2008-08-01T00:00:00.000000000",
          "2008-09-01T00:00:00.000000000",
          "2008-10-01T00:00:00.000000000",
          "2008-11-01T00:00:00.000000000",
          "2008-12-01T00:00:00.000000000",
          "2009-01-01T00:00:00.000000000",
          "2009-02-01T00:00:00.000000000",
          "2009-03-01T00:00:00.000000000",
          "2009-04-01T00:00:00.000000000",
          "2009-05-01T00:00:00.000000000",
          "2009-06-01T00:00:00.000000000",
          "2009-07-01T00:00:00.000000000",
          "2009-08-01T00:00:00.000000000",
          "2009-09-01T00:00:00.000000000",
          "2009-10-01T00:00:00.000000000",
          "2009-11-01T00:00:00.000000000",
          "2009-12-01T00:00:00.000000000",
          "2010-01-01T00:00:00.000000000",
          "2010-02-01T00:00:00.000000000",
          "2010-03-01T00:00:00.000000000",
          "2010-04-01T00:00:00.000000000",
          "2010-05-01T00:00:00.000000000",
          "2010-06-01T00:00:00.000000000",
          "2010-07-01T00:00:00.000000000",
          "2010-08-01T00:00:00.000000000",
          "2010-09-01T00:00:00.000000000",
          "2010-10-01T00:00:00.000000000",
          "2010-11-01T00:00:00.000000000",
          "2010-12-01T00:00:00.000000000",
          "2011-01-01T00:00:00.000000000",
          "2011-02-01T00:00:00.000000000",
          "2011-03-01T00:00:00.000000000",
          "2011-04-01T00:00:00.000000000",
          "2011-05-01T00:00:00.000000000",
          "2011-06-01T00:00:00.000000000",
          "2011-07-01T00:00:00.000000000",
          "2011-08-01T00:00:00.000000000",
          "2011-09-01T00:00:00.000000000",
          "2011-10-01T00:00:00.000000000",
          "2011-11-01T00:00:00.000000000",
          "2011-12-01T00:00:00.000000000",
          "2012-01-01T00:00:00.000000000",
          "2012-02-01T00:00:00.000000000",
          "2012-03-01T00:00:00.000000000",
          "2012-04-01T00:00:00.000000000",
          "2012-05-01T00:00:00.000000000",
          "2012-06-01T00:00:00.000000000",
          "2012-07-01T00:00:00.000000000",
          "2012-08-01T00:00:00.000000000",
          "2012-09-01T00:00:00.000000000",
          "2012-10-01T00:00:00.000000000",
          "2012-11-01T00:00:00.000000000",
          "2012-12-01T00:00:00.000000000",
          "2013-01-01T00:00:00.000000000",
          "2013-02-01T00:00:00.000000000",
          "2013-03-01T00:00:00.000000000",
          "2013-04-01T00:00:00.000000000",
          "2013-05-01T00:00:00.000000000",
          "2013-06-01T00:00:00.000000000",
          "2013-07-01T00:00:00.000000000",
          "2013-08-01T00:00:00.000000000",
          "2013-09-01T00:00:00.000000000",
          "2013-10-01T00:00:00.000000000",
          "2013-11-01T00:00:00.000000000",
          "2013-12-01T00:00:00.000000000",
          "2014-01-01T00:00:00.000000000",
          "2014-02-01T00:00:00.000000000",
          "2014-03-01T00:00:00.000000000",
          "2014-04-01T00:00:00.000000000",
          "2014-05-01T00:00:00.000000000",
          "2014-06-01T00:00:00.000000000",
          "2014-07-01T00:00:00.000000000",
          "2014-08-01T00:00:00.000000000",
          "2014-09-01T00:00:00.000000000",
          "2014-10-01T00:00:00.000000000",
          "2014-11-01T00:00:00.000000000",
          "2014-12-01T00:00:00.000000000",
          "2015-01-01T00:00:00.000000000",
          "2015-02-01T00:00:00.000000000",
          "2015-03-01T00:00:00.000000000",
          "2015-04-01T00:00:00.000000000",
          "2015-05-01T00:00:00.000000000",
          "2015-06-01T00:00:00.000000000",
          "2015-07-01T00:00:00.000000000",
          "2015-08-01T00:00:00.000000000",
          "2015-09-01T00:00:00.000000000",
          "2015-10-01T00:00:00.000000000",
          "2015-11-01T00:00:00.000000000",
          "2015-12-01T00:00:00.000000000",
          "2016-01-01T00:00:00.000000000",
          "2016-02-01T00:00:00.000000000",
          "2016-03-01T00:00:00.000000000",
          "2016-04-01T00:00:00.000000000",
          "2016-05-01T00:00:00.000000000",
          "2016-06-01T00:00:00.000000000",
          "2016-07-01T00:00:00.000000000",
          "2016-08-01T00:00:00.000000000",
          "2016-09-01T00:00:00.000000000",
          "2016-10-01T00:00:00.000000000",
          "2016-11-01T00:00:00.000000000",
          "2016-12-01T00:00:00.000000000",
          "2017-01-01T00:00:00.000000000",
          "2017-02-01T00:00:00.000000000",
          "2017-03-01T00:00:00.000000000",
          "2017-04-01T00:00:00.000000000",
          "2017-05-01T00:00:00.000000000",
          "2017-06-01T00:00:00.000000000",
          "2017-07-01T00:00:00.000000000",
          "2017-08-01T00:00:00.000000000",
          "2017-09-01T00:00:00.000000000",
          "2017-10-01T00:00:00.000000000",
          "2017-11-01T00:00:00.000000000",
          "2017-12-01T00:00:00.000000000",
          "2018-01-01T00:00:00.000000000",
          "2018-02-01T00:00:00.000000000",
          "2018-03-01T00:00:00.000000000",
          "2018-04-01T00:00:00.000000000",
          "2018-05-01T00:00:00.000000000",
          "2018-06-01T00:00:00.000000000",
          "2018-07-01T00:00:00.000000000",
          "2018-08-01T00:00:00.000000000",
          "2018-09-01T00:00:00.000000000",
          "2018-10-01T00:00:00.000000000",
          "2018-11-01T00:00:00.000000000",
          "2018-12-01T00:00:00.000000000",
          "2019-01-01T00:00:00.000000000",
          "2019-02-01T00:00:00.000000000",
          "2019-03-01T00:00:00.000000000",
          "2019-04-01T00:00:00.000000000",
          "2019-05-01T00:00:00.000000000",
          "2019-06-01T00:00:00.000000000",
          "2019-07-01T00:00:00.000000000",
          "2019-08-01T00:00:00.000000000",
          "2019-09-01T00:00:00.000000000",
          "2019-10-01T00:00:00.000000000",
          "2019-11-01T00:00:00.000000000",
          "2019-12-01T00:00:00.000000000",
          "2020-01-01T00:00:00.000000000",
          "2020-02-01T00:00:00.000000000",
          "2020-03-01T00:00:00.000000000",
          "2020-04-01T00:00:00.000000000",
          "2020-05-01T00:00:00.000000000",
          "2020-06-01T00:00:00.000000000",
          "2020-07-01T00:00:00.000000000",
          "2020-08-01T00:00:00.000000000",
          "2020-09-01T00:00:00.000000000",
          "2020-10-01T00:00:00.000000000",
          "2020-11-01T00:00:00.000000000",
          "2020-12-01T00:00:00.000000000",
          "2021-01-01T00:00:00.000000000",
          "2021-02-01T00:00:00.000000000",
          "2021-03-01T00:00:00.000000000",
          "2021-04-01T00:00:00.000000000",
          "2021-05-01T00:00:00.000000000",
          "2021-06-01T00:00:00.000000000",
          "2021-07-01T00:00:00.000000000",
          "2021-08-01T00:00:00.000000000",
          "2021-09-01T00:00:00.000000000",
          "2021-10-01T00:00:00.000000000",
          "2021-11-01T00:00:00.000000000",
          "2021-12-01T00:00:00.000000000",
          "2022-01-01T00:00:00.000000000",
          "2022-02-01T00:00:00.000000000",
          "2022-03-01T00:00:00.000000000",
          "2022-04-01T00:00:00.000000000",
          "2022-05-01T00:00:00.000000000",
          "2022-06-01T00:00:00.000000000",
          "2022-07-01T00:00:00.000000000",
          "2022-08-01T00:00:00.000000000",
          "2022-09-01T00:00:00.000000000",
          "2022-10-01T00:00:00.000000000",
          "2022-11-01T00:00:00.000000000",
          "2022-12-01T00:00:00.000000000",
          "2023-01-01T00:00:00.000000000",
          "2023-02-01T00:00:00.000000000",
          "2023-03-01T00:00:00.000000000",
          "2023-04-01T00:00:00.000000000",
          "2023-05-01T00:00:00.000000000",
          "2023-06-01T00:00:00.000000000",
          "2023-07-01T00:00:00.000000000",
          "2023-08-01T00:00:00.000000000",
          "2023-09-01T00:00:00.000000000",
          "2023-10-01T00:00:00.000000000",
          "2023-11-01T00:00:00.000000000",
          "2023-12-01T00:00:00.000000000",
          "2024-01-01T00:00:00.000000000",
          "2024-02-01T00:00:00.000000000",
          "2024-03-01T00:00:00.000000000",
          "2024-04-01T00:00:00.000000000",
          "2024-05-01T00:00:00.000000000",
          "2024-06-01T00:00:00.000000000",
          "2024-07-01T00:00:00.000000000",
          "2024-08-01T00:00:00.000000000",
          "2024-09-01T00:00:00.000000000",
          "2024-10-01T00:00:00.000000000",
          "2024-11-01T00:00:00.000000000",
          "2024-12-01T00:00:00.000000000",
          "2025-01-01T00:00:00.000000000"
         ],
         "xaxis": "x",
         "y": {
          "bdata": "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",
          "dtype": "f8"
         },
         "yaxis": "y"
        }
       ],
       "layout": {
        "annotations": [
         {
          "align": "left",
          "bgcolor": "rgba(255, 255, 255, 0.8)",
          "bordercolor": "black",
          "borderwidth": 1,
          "font": {
           "size": 10
          },
          "showarrow": false,
          "text": "Source: Trading Economics<br>Original Source: Institute for Supply Management<br>Frequency: MS",
          "x": 0,
          "xanchor": "left",
          "xref": "paper",
          "y": -0.23,
          "yanchor": "bottom",
          "yref": "paper"
         }
        ],
        "legend": {
         "orientation": "h",
         "title": {
          "text": ""
         },
         "tracegroupgap": 0,
         "x": 0.5,
         "xanchor": "center",
         "y": -0.2,
         "yanchor": "bottom"
        },
        "margin": {
         "t": 60
        },
        "template": {
         "data": {
          "bar": [
           {
            "error_x": {
             "color": "#2a3f5f"
            },
            "error_y": {
             "color": "#2a3f5f"
            },
            "marker": {
             "line": {
              "color": "#E5ECF6",
              "width": 0.5
             },
             "pattern": {
              "fillmode": "overlay",
              "size": 10,
              "solidity": 0.2
             }
            },
            "type": "bar"
           }
          ],
          "barpolar": [
           {
            "marker": {
             "line": {
              "color": "#E5ECF6",
              "width": 0.5
             },
             "pattern": {
              "fillmode": "overlay",
              "size": 10,
              "solidity": 0.2
             }
            },
            "type": "barpolar"
           }
          ],
          "carpet": [
           {
            "aaxis": {
             "endlinecolor": "#2a3f5f",
             "gridcolor": "white",
             "linecolor": "white",
             "minorgridcolor": "white",
             "startlinecolor": "#2a3f5f"
            },
            "baxis": {
             "endlinecolor": "#2a3f5f",
             "gridcolor": "white",
             "linecolor": "white",
             "minorgridcolor": "white",
             "startlinecolor": "#2a3f5f"
            },
            "type": "carpet"
           }
          ],
          "choropleth": [
           {
            "colorbar": {
             "outlinewidth": 0,
             "ticks": ""
            },
            "type": "choropleth"
           }
          ],
          "contour": [
           {
            "colorbar": {
             "outlinewidth": 0,
             "ticks": ""
            },
            "colorscale": [
             [
              0,
              "#0d0887"
             ],
             [
              0.1111111111111111,
              "#46039f"
             ],
             [
              0.2222222222222222,
              "#7201a8"
             ],
             [
              0.3333333333333333,
              "#9c179e"
             ],
             [
              0.4444444444444444,
              "#bd3786"
             ],
             [
              0.5555555555555556,
              "#d8576b"
             ],
             [
              0.6666666666666666,
              "#ed7953"
             ],
             [
              0.7777777777777778,
              "#fb9f3a"
             ],
             [
              0.8888888888888888,
              "#fdca26"
             ],
             [
              1,
              "#f0f921"
             ]
            ],
            "type": "contour"
           }
          ],
          "contourcarpet": [
           {
            "colorbar": {
             "outlinewidth": 0,
             "ticks": ""
            },
            "type": "contourcarpet"
           }
          ],
          "heatmap": [
           {
            "colorbar": {
             "outlinewidth": 0,
             "ticks": ""
            },
            "colorscale": [
             [
              0,
              "#0d0887"
             ],
             [
              0.1111111111111111,
              "#46039f"
             ],
             [
              0.2222222222222222,
              "#7201a8"
             ],
             [
              0.3333333333333333,
              "#9c179e"
             ],
             [
              0.4444444444444444,
              "#bd3786"
             ],
             [
              0.5555555555555556,
              "#d8576b"
             ],
             [
              0.6666666666666666,
              "#ed7953"
             ],
             [
              0.7777777777777778,
              "#fb9f3a"
             ],
             [
              0.8888888888888888,
              "#fdca26"
             ],
             [
              1,
              "#f0f921"
             ]
            ],
            "type": "heatmap"
           }
          ],
          "histogram": [
           {
            "marker": {
             "pattern": {
              "fillmode": "overlay",
              "size": 10,
              "solidity": 0.2
             }
            },
            "type": "histogram"
           }
          ],
          "histogram2d": [
           {
            "colorbar": {
             "outlinewidth": 0,
             "ticks": ""
            },
            "colorscale": [
             [
              0,
              "#0d0887"
             ],
             [
              0.1111111111111111,
              "#46039f"
             ],
             [
              0.2222222222222222,
              "#7201a8"
             ],
             [
              0.3333333333333333,
              "#9c179e"
             ],
             [
              0.4444444444444444,
              "#bd3786"
             ],
             [
              0.5555555555555556,
              "#d8576b"
             ],
             [
              0.6666666666666666,
              "#ed7953"
             ],
             [
              0.7777777777777778,
              "#fb9f3a"
             ],
             [
              0.8888888888888888,
              "#fdca26"
             ],
             [
              1,
              "#f0f921"
             ]
            ],
            "type": "histogram2d"
           }
          ],
          "histogram2dcontour": [
           {
            "colorbar": {
             "outlinewidth": 0,
             "ticks": ""
            },
            "colorscale": [
             [
              0,
              "#0d0887"
             ],
             [
              0.1111111111111111,
              "#46039f"
             ],
             [
              0.2222222222222222,
              "#7201a8"
             ],
             [
              0.3333333333333333,
              "#9c179e"
             ],
             [
              0.4444444444444444,
              "#bd3786"
             ],
             [
              0.5555555555555556,
              "#d8576b"
             ],
             [
              0.6666666666666666,
              "#ed7953"
             ],
             [
              0.7777777777777778,
              "#fb9f3a"
             ],
             [
              0.8888888888888888,
              "#fdca26"
             ],
             [
              1,
              "#f0f921"
             ]
            ],
            "type": "histogram2dcontour"
           }
          ],
          "mesh3d": [
           {
            "colorbar": {
             "outlinewidth": 0,
             "ticks": ""
            },
            "type": "mesh3d"
           }
          ],
          "parcoords": [
           {
            "line": {
             "colorbar": {
              "outlinewidth": 0,
              "ticks": ""
             }
            },
            "type": "parcoords"
           }
          ],
          "pie": [
           {
            "automargin": true,
            "type": "pie"
           }
          ],
          "scatter": [
           {
            "fillpattern": {
             "fillmode": "overlay",
             "size": 10,
             "solidity": 0.2
            },
            "type": "scatter"
           }
          ],
          "scatter3d": [
           {
            "line": {
             "colorbar": {
              "outlinewidth": 0,
              "ticks": ""
             }
            },
            "marker": {
             "colorbar": {
              "outlinewidth": 0,
              "ticks": ""
             }
            },
            "type": "scatter3d"
           }
          ],
          "scattercarpet": [
           {
            "marker": {
             "colorbar": {
              "outlinewidth": 0,
              "ticks": ""
             }
            },
            "type": "scattercarpet"
           }
          ],
          "scattergeo": [
           {
            "marker": {
             "colorbar": {
              "outlinewidth": 0,
              "ticks": ""
             }
            },
            "type": "scattergeo"
           }
          ],
          "scattergl": [
           {
            "marker": {
             "colorbar": {
              "outlinewidth": 0,
              "ticks": ""
             }
            },
            "type": "scattergl"
           }
          ],
          "scattermap": [
           {
            "marker": {
             "colorbar": {
              "outlinewidth": 0,
              "ticks": ""
             }
            },
            "type": "scattermap"
           }
          ],
          "scattermapbox": [
           {
            "marker": {
             "colorbar": {
              "outlinewidth": 0,
              "ticks": ""
             }
            },
            "type": "scattermapbox"
           }
          ],
          "scatterpolar": [
           {
            "marker": {
             "colorbar": {
              "outlinewidth": 0,
              "ticks": ""
             }
            },
            "type": "scatterpolar"
           }
          ],
          "scatterpolargl": [
           {
            "marker": {
             "colorbar": {
              "outlinewidth": 0,
              "ticks": ""
             }
            },
            "type": "scatterpolargl"
           }
          ],
          "scatterternary": [
           {
            "marker": {
             "colorbar": {
              "outlinewidth": 0,
              "ticks": ""
             }
            },
            "type": "scatterternary"
           }
          ],
          "surface": [
           {
            "colorbar": {
             "outlinewidth": 0,
             "ticks": ""
            },
            "colorscale": [
             [
              0,
              "#0d0887"
             ],
             [
              0.1111111111111111,
              "#46039f"
             ],
             [
              0.2222222222222222,
              "#7201a8"
             ],
             [
              0.3333333333333333,
              "#9c179e"
             ],
             [
              0.4444444444444444,
              "#bd3786"
             ],
             [
              0.5555555555555556,
              "#d8576b"
             ],
             [
              0.6666666666666666,
              "#ed7953"
             ],
             [
              0.7777777777777778,
              "#fb9f3a"
             ],
             [
              0.8888888888888888,
              "#fdca26"
             ],
             [
              1,
              "#f0f921"
             ]
            ],
            "type": "surface"
           }
          ],
          "table": [
           {
            "cells": {
             "fill": {
              "color": "#EBF0F8"
             },
             "line": {
              "color": "white"
             }
            },
            "header": {
             "fill": {
              "color": "#C8D4E3"
             },
             "line": {
              "color": "white"
             }
            },
            "type": "table"
           }
          ]
         },
         "layout": {
          "annotationdefaults": {
           "arrowcolor": "#2a3f5f",
           "arrowhead": 0,
           "arrowwidth": 1
          },
          "autotypenumbers": "strict",
          "coloraxis": {
           "colorbar": {
            "outlinewidth": 0,
            "ticks": ""
           }
          },
          "colorscale": {
           "diverging": [
            [
             0,
             "#8e0152"
            ],
            [
             0.1,
             "#c51b7d"
            ],
            [
             0.2,
             "#de77ae"
            ],
            [
             0.3,
             "#f1b6da"
            ],
            [
             0.4,
             "#fde0ef"
            ],
            [
             0.5,
             "#f7f7f7"
            ],
            [
             0.6,
             "#e6f5d0"
            ],
            [
             0.7,
             "#b8e186"
            ],
            [
             0.8,
             "#7fbc41"
            ],
            [
             0.9,
             "#4d9221"
            ],
            [
             1,
             "#276419"
            ]
           ],
           "sequential": [
            [
             0,
             "#0d0887"
            ],
            [
             0.1111111111111111,
             "#46039f"
            ],
            [
             0.2222222222222222,
             "#7201a8"
            ],
            [
             0.3333333333333333,
             "#9c179e"
            ],
            [
             0.4444444444444444,
             "#bd3786"
            ],
            [
             0.5555555555555556,
             "#d8576b"
            ],
            [
             0.6666666666666666,
             "#ed7953"
            ],
            [
             0.7777777777777778,
             "#fb9f3a"
            ],
            [
             0.8888888888888888,
             "#fdca26"
            ],
            [
             1,
             "#f0f921"
            ]
           ],
           "sequentialminus": [
            [
             0,
             "#0d0887"
            ],
            [
             0.1111111111111111,
             "#46039f"
            ],
            [
             0.2222222222222222,
             "#7201a8"
            ],
            [
             0.3333333333333333,
             "#9c179e"
            ],
            [
             0.4444444444444444,
             "#bd3786"
            ],
            [
             0.5555555555555556,
             "#d8576b"
            ],
            [
             0.6666666666666666,
             "#ed7953"
            ],
            [
             0.7777777777777778,
             "#fb9f3a"
            ],
            [
             0.8888888888888888,
             "#fdca26"
            ],
            [
             1,
             "#f0f921"
            ]
           ]
          },
          "colorway": [
           "#636efa",
           "#EF553B",
           "#00cc96",
           "#ab63fa",
           "#FFA15A",
           "#19d3f3",
           "#FF6692",
           "#B6E880",
           "#FF97FF",
           "#FECB52"
          ],
          "font": {
           "color": "#2a3f5f"
          },
          "geo": {
           "bgcolor": "white",
           "lakecolor": "white",
           "landcolor": "#E5ECF6",
           "showlakes": true,
           "showland": true,
           "subunitcolor": "white"
          },
          "hoverlabel": {
           "align": "left"
          },
          "hovermode": "closest",
          "mapbox": {
           "style": "light"
          },
          "paper_bgcolor": "white",
          "plot_bgcolor": "#E5ECF6",
          "polar": {
           "angularaxis": {
            "gridcolor": "white",
            "linecolor": "white",
            "ticks": ""
           },
           "bgcolor": "#E5ECF6",
           "radialaxis": {
            "gridcolor": "white",
            "linecolor": "white",
            "ticks": ""
           }
          },
          "scene": {
           "xaxis": {
            "backgroundcolor": "#E5ECF6",
            "gridcolor": "white",
            "gridwidth": 2,
            "linecolor": "white",
            "showbackground": true,
            "ticks": "",
            "zerolinecolor": "white"
           },
           "yaxis": {
            "backgroundcolor": "#E5ECF6",
            "gridcolor": "white",
            "gridwidth": 2,
            "linecolor": "white",
            "showbackground": true,
            "ticks": "",
            "zerolinecolor": "white"
           },
           "zaxis": {
            "backgroundcolor": "#E5ECF6",
            "gridcolor": "white",
            "gridwidth": 2,
            "linecolor": "white",
            "showbackground": true,
            "ticks": "",
            "zerolinecolor": "white"
           }
          },
          "shapedefaults": {
           "line": {
            "color": "#2a3f5f"
           }
          },
          "ternary": {
           "aaxis": {
            "gridcolor": "white",
            "linecolor": "white",
            "ticks": ""
           },
           "baxis": {
            "gridcolor": "white",
            "linecolor": "white",
            "ticks": ""
           },
           "bgcolor": "#E5ECF6",
           "caxis": {
            "gridcolor": "white",
            "linecolor": "white",
            "ticks": ""
           }
          },
          "title": {
           "x": 0.05
          },
          "xaxis": {
           "automargin": true,
           "gridcolor": "white",
           "linecolor": "white",
           "ticks": "",
           "title": {
            "standoff": 15
           },
           "zerolinecolor": "white",
           "zerolinewidth": 2
          },
          "yaxis": {
           "automargin": true,
           "gridcolor": "white",
           "linecolor": "white",
           "ticks": "",
           "title": {
            "standoff": 15
           },
           "zerolinecolor": "white",
           "zerolinewidth": 2
          }
         }
        },
        "title": {
         "text": "United states: United states ism services new orders"
        },
        "xaxis": {
         "anchor": "y",
         "domain": [
          0,
          1
         ],
         "title": {
          "text": ""
         }
        },
        "yaxis": {
         "anchor": "x",
         "domain": [
          0,
          1
         ],
         "title": {
          "text": "Points"
         }
        }
       }
      }
     },
     "metadata": {},
     "output_type": "display_data"
    }
   ],
   "source": [
    "scraped = search.scraped_data\n",
    "scraped.plot_series(ann_box_pos=(0, -0.23))  # Yu can move the annotation box around by changing the values of ann_box_pos."
   ]
  },
  {
   "cell_type": "code",
   "execution_count": null,
   "metadata": {},
   "outputs": [],
   "source": [
    "scraped.save_plot(format=\"html\")  #Export static plot as png if you wish. Use format=\"html\" for interactive plot export."
   ]
  },
  {
   "cell_type": "code",
   "execution_count": null,
   "metadata": {},
   "outputs": [
    {
     "data": {
      "text/plain": [
       "{'units': 'points',\n",
       " 'original_source': 'Institute for Supply Management',\n",
       " 'title': 'United States ISM Services Business Activity',\n",
       " 'indicator': 'ism non manufacturing business activity',\n",
       " 'country': 'united states',\n",
       " 'length': 331,\n",
       " 'frequency': 'MS',\n",
       " 'source': 'Trading Economics',\n",
       " 'id': 'united-states/ism-non-manufacturing-business-activity',\n",
       " 'start_date': '1997-07-01',\n",
       " 'end_date': '2025-01-01',\n",
       " 'min_value': 26.099999999999127,\n",
       " 'max_value': 70.39999999999866,\n",
       " 'description': 'The Non-Manufacturing ISM Report On Business is based on data compiled from purchasing and supply executives nationwide. Survey responses reflect the change, if any, in the current month compared to the previous month. For each of the indicators measured (Business Activity, New Orders, Backlog of Orders, New Export Orders, Inventory Change, Inventory Sentiment, Imports, Prices, Employment and Supplier Deliveries) this report shows the percentage reporting each response, and the diffusion index. An index reading above 50 percent indicates that the non-manufacturing economy in that index is generally expanding; below 50 percent indicates that it is generally declining. Orders to the service producers make up about 90 percent of the US economy.'}"
      ]
     },
     "execution_count": 6,
     "metadata": {},
     "output_type": "execute_result"
    }
   ],
   "source": [
    "scraped.metadata"
   ]
  },
  {
   "cell_type": "markdown",
   "metadata": {},
   "source": [
    "# Method #2: Download data for a given Indicator + Country combination or a given URL with a single line.\n",
    "\n",
    "Sometimes you may get an error straight away on the first run of the ```scrape_chart``` method. Error message will be something about error establising a connection.\n",
    "\n",
    "Noted error messages for this: \n",
    "- Error loading page: Message: Failed to write request to stream\n",
    "- Error loading page: Message: Tried to run command without establishing a connection\n",
    "\n",
    "Just try again if so, it has always worked for me the second time unless internet connection is down or too slow."
   ]
  },
  {
   "cell_type": "code",
   "execution_count": 33,
   "metadata": {},
   "outputs": [
    {
     "name": "stderr",
     "output_type": "stream",
     "text": [
      "INFO - New firefox webdriver created.\n",
      "INFO - scrape_chart function: Scraping chart at: https://tradingeconomics.com/united-states/jobless-claims, time: 2025-02-19 11:20:57.643141\n",
      "INFO - WebPage at https://tradingeconomics.com/united-states/jobless-claims loaded successfully.\n",
      "INFO - Chart types dictionary created successfully: dict_keys(['Column', 'Spline', 'Areaspline', 'Stepline', 'Line', 'Area'])\n"
     ]
    },
    {
     "name": "stdout",
     "output_type": "stream",
     "text": [
      "Using selenium and tooltip scraping to construct the date time index for the time-series, this'll take a bit...\n"
     ]
    },
    {
     "name": "stderr",
     "output_type": "stream",
     "text": [
      "INFO - Date span set to: 1Y\n",
      "INFO - Chart type set to: Spline\n"
     ]
    },
    {
     "name": "stdout",
     "output_type": "stream",
     "text": [
      "Latest dates:  ['Feb 08, 2025', 'Feb 01, 2025', 'Jan 25, 2025', 'Jan 18, 2025', 'Jan 11, 2025', 'Jan 04, 2025', 'Dec 28, 2024', 'Dec 21, 2024', 'Dec 14, 2024', 'Dec 07, 2024']\n",
      "Frequency of time-series:  W-SAT\n",
      "get_xlims_from_tooltips method: date_span:  1Y , chart_type: splineChart\n"
     ]
    },
    {
     "name": "stderr",
     "output_type": "stream",
     "text": [
      "INFO - Date span set to: MAX\n",
      "INFO - Chart type set to: Spline\n"
     ]
    },
    {
     "name": "stdout",
     "output_type": "stream",
     "text": [
      "Got chart dimensions and plot background element.\n"
     ]
    },
    {
     "name": "stderr",
     "output_type": "stream",
     "text": [
      "INFO - Start and end values scraped from tooltips: \n",
      "{'start_date': Timestamp('1967-01-07 00:00:00'), 'start_value': 208.0, 'end_date': Timestamp('2025-02-08 00:00:00'), 'end_value': 213.0}\n",
      "INFO - DateTimeIndex created successfully for the time-series.\n",
      "INFO - Y-axis values scraped successfully.\n",
      "INFO - Series path extraction method: Extracting series data from chart soup.\n",
      "INFO - Date span: MAX. Chart type: splineChart, URL: https://tradingeconomics.com/united-states/jobless-claims.\n",
      "INFO - DateTimeIndex applied to series, series attribute updated.\n",
      "INFO - Successfully scaled series.\n",
      "INFO - Successfully scraped time-series from chart at:  https://tradingeconomics.com/united-states/jobless-claims, now getting some metadata...\n",
      "INFO - \n",
      "Series metadata: \n",
      " {'units': 'Thousand', 'original_source': 'U.S. Department of Labor', 'title': 'United States Initial Jobless Claims', 'indicator': 'jobless claims', 'country': 'united states', 'length': 3032, 'frequency': 'W-SAT', 'source': 'Trading Economics', 'id': 'united-states/jobless-claims', 'start_date': '1967-01-07', 'end_date': '2025-02-08', 'min_value': 162.00000000000253, 'max_value': 6136.999999999924}\n"
     ]
    },
    {
     "name": "stdout",
     "output_type": "stream",
     "text": [
      "Got metadata. \n",
      "\n",
      "Series tail: 2025-01-11    203.0\n",
      "2025-01-18    221.0\n",
      "2025-01-25    223.0\n",
      "2025-02-01    208.0\n",
      "2025-02-08    220.0\n",
      "Freq: W-SAT, Name: jobless claims, dtype: float64 \n",
      "\n",
      "Scraping complete! Happy pirating yo!\n"
     ]
    }
   ],
   "source": [
    "scraped = ted.scrape_chart(id = \"jobless-claims\", use_existing_driver=False) ## Using chart id from the url only, country is \"united-states\" by default."
   ]
  },
  {
   "cell_type": "code",
   "execution_count": 34,
   "metadata": {},
   "outputs": [
    {
     "data": {
      "application/vnd.plotly.v1+json": {
       "config": {
        "plotlyServerURL": "https://plot.ly"
       },
       "data": [
        {
         "hovertemplate": "variable=jobless claims<br>index=%{x}<br>value=%{y}<extra></extra>",
         "legendgroup": "jobless claims",
         "line": {
          "color": "#636efa",
          "dash": "solid"
         },
         "marker": {
          "symbol": "circle"
         },
         "mode": "lines",
         "name": "jobless claims",
         "showlegend": true,
         "type": "scattergl",
         "x": [
          "1967-01-07T00:00:00.000000000",
          "1967-01-14T00:00:00.000000000",
          "1967-01-21T00:00:00.000000000",
          "1967-01-28T00:00:00.000000000",
          "1967-02-04T00:00:00.000000000",
          "1967-02-11T00:00:00.000000000",
          "1967-02-18T00:00:00.000000000",
          "1967-02-25T00:00:00.000000000",
          "1967-03-04T00:00:00.000000000",
          "1967-03-11T00:00:00.000000000",
          "1967-03-18T00:00:00.000000000",
          "1967-03-25T00:00:00.000000000",
          "1967-04-01T00:00:00.000000000",
          "1967-04-08T00:00:00.000000000",
          "1967-04-15T00:00:00.000000000",
          "1967-04-22T00:00:00.000000000",
          "1967-04-29T00:00:00.000000000",
          "1967-05-06T00:00:00.000000000",
          "1967-05-13T00:00:00.000000000",
          "1967-05-20T00:00:00.000000000",
          "1967-05-27T00:00:00.000000000",
          "1967-06-03T00:00:00.000000000",
          "1967-06-10T00:00:00.000000000",
          "1967-06-17T00:00:00.000000000",
          "1967-06-24T00:00:00.000000000",
          "1967-07-01T00:00:00.000000000",
          "1967-07-08T00:00:00.000000000",
          "1967-07-15T00:00:00.000000000",
          "1967-07-22T00:00:00.000000000",
          "1967-07-29T00:00:00.000000000",
          "1967-08-05T00:00:00.000000000",
          "1967-08-12T00:00:00.000000000",
          "1967-08-19T00:00:00.000000000",
          "1967-08-26T00:00:00.000000000",
          "1967-09-02T00:00:00.000000000",
          "1967-09-09T00:00:00.000000000",
          "1967-09-16T00:00:00.000000000",
          "1967-09-23T00:00:00.000000000",
          "1967-09-30T00:00:00.000000000",
          "1967-10-07T00:00:00.000000000",
          "1967-10-14T00:00:00.000000000",
          "1967-10-21T00:00:00.000000000",
          "1967-10-28T00:00:00.000000000",
          "1967-11-04T00:00:00.000000000",
          "1967-11-11T00:00:00.000000000",
          "1967-11-18T00:00:00.000000000",
          "1967-11-25T00:00:00.000000000",
          "1967-12-02T00:00:00.000000000",
          "1967-12-09T00:00:00.000000000",
          "1967-12-16T00:00:00.000000000",
          "1967-12-23T00:00:00.000000000",
          "1967-12-30T00:00:00.000000000",
          "1968-01-06T00:00:00.000000000",
          "1968-01-13T00:00:00.000000000",
          "1968-01-20T00:00:00.000000000",
          "1968-01-27T00:00:00.000000000",
          "1968-02-03T00:00:00.000000000",
          "1968-02-10T00:00:00.000000000",
          "1968-02-17T00:00:00.000000000",
          "1968-02-24T00:00:00.000000000",
          "1968-03-02T00:00:00.000000000",
          "1968-03-09T00:00:00.000000000",
          "1968-03-16T00:00:00.000000000",
          "1968-03-23T00:00:00.000000000",
          "1968-03-30T00:00:00.000000000",
          "1968-04-06T00:00:00.000000000",
          "1968-04-13T00:00:00.000000000",
          "1968-04-20T00:00:00.000000000",
          "1968-04-27T00:00:00.000000000",
          "1968-05-04T00:00:00.000000000",
          "1968-05-11T00:00:00.000000000",
          "1968-05-18T00:00:00.000000000",
          "1968-05-25T00:00:00.000000000",
          "1968-06-01T00:00:00.000000000",
          "1968-06-08T00:00:00.000000000",
          "1968-06-15T00:00:00.000000000",
          "1968-06-22T00:00:00.000000000",
          "1968-06-29T00:00:00.000000000",
          "1968-07-06T00:00:00.000000000",
          "1968-07-13T00:00:00.000000000",
          "1968-07-20T00:00:00.000000000",
          "1968-07-27T00:00:00.000000000",
          "1968-08-03T00:00:00.000000000",
          "1968-08-10T00:00:00.000000000",
          "1968-08-17T00:00:00.000000000",
          "1968-08-24T00:00:00.000000000",
          "1968-08-31T00:00:00.000000000",
          "1968-09-07T00:00:00.000000000",
          "1968-09-14T00:00:00.000000000",
          "1968-09-21T00:00:00.000000000",
          "1968-09-28T00:00:00.000000000",
          "1968-10-05T00:00:00.000000000",
          "1968-10-12T00:00:00.000000000",
          "1968-10-19T00:00:00.000000000",
          "1968-10-26T00:00:00.000000000",
          "1968-11-02T00:00:00.000000000",
          "1968-11-09T00:00:00.000000000",
          "1968-11-16T00:00:00.000000000",
          "1968-11-23T00:00:00.000000000",
          "1968-11-30T00:00:00.000000000",
          "1968-12-07T00:00:00.000000000",
          "1968-12-14T00:00:00.000000000",
          "1968-12-21T00:00:00.000000000",
          "1968-12-28T00:00:00.000000000",
          "1969-01-04T00:00:00.000000000",
          "1969-01-11T00:00:00.000000000",
          "1969-01-18T00:00:00.000000000",
          "1969-01-25T00:00:00.000000000",
          "1969-02-01T00:00:00.000000000",
          "1969-02-08T00:00:00.000000000",
          "1969-02-15T00:00:00.000000000",
          "1969-02-22T00:00:00.000000000",
          "1969-03-01T00:00:00.000000000",
          "1969-03-08T00:00:00.000000000",
          "1969-03-15T00:00:00.000000000",
          "1969-03-22T00:00:00.000000000",
          "1969-03-29T00:00:00.000000000",
          "1969-04-05T00:00:00.000000000",
          "1969-04-12T00:00:00.000000000",
          "1969-04-19T00:00:00.000000000",
          "1969-04-26T00:00:00.000000000",
          "1969-05-03T00:00:00.000000000",
          "1969-05-10T00:00:00.000000000",
          "1969-05-17T00:00:00.000000000",
          "1969-05-24T00:00:00.000000000",
          "1969-05-31T00:00:00.000000000",
          "1969-06-07T00:00:00.000000000",
          "1969-06-14T00:00:00.000000000",
          "1969-06-21T00:00:00.000000000",
          "1969-06-28T00:00:00.000000000",
          "1969-07-05T00:00:00.000000000",
          "1969-07-12T00:00:00.000000000",
          "1969-07-19T00:00:00.000000000",
          "1969-07-26T00:00:00.000000000",
          "1969-08-02T00:00:00.000000000",
          "1969-08-09T00:00:00.000000000",
          "1969-08-16T00:00:00.000000000",
          "1969-08-23T00:00:00.000000000",
          "1969-08-30T00:00:00.000000000",
          "1969-09-06T00:00:00.000000000",
          "1969-09-13T00:00:00.000000000",
          "1969-09-20T00:00:00.000000000",
          "1969-09-27T00:00:00.000000000",
          "1969-10-04T00:00:00.000000000",
          "1969-10-11T00:00:00.000000000",
          "1969-10-18T00:00:00.000000000",
          "1969-10-25T00:00:00.000000000",
          "1969-11-01T00:00:00.000000000",
          "1969-11-08T00:00:00.000000000",
          "1969-11-15T00:00:00.000000000",
          "1969-11-22T00:00:00.000000000",
          "1969-11-29T00:00:00.000000000",
          "1969-12-06T00:00:00.000000000",
          "1969-12-13T00:00:00.000000000",
          "1969-12-20T00:00:00.000000000",
          "1969-12-27T00:00:00.000000000",
          "1970-01-03T00:00:00.000000000",
          "1970-01-10T00:00:00.000000000",
          "1970-01-17T00:00:00.000000000",
          "1970-01-24T00:00:00.000000000",
          "1970-01-31T00:00:00.000000000",
          "1970-02-07T00:00:00.000000000",
          "1970-02-14T00:00:00.000000000",
          "1970-02-21T00:00:00.000000000",
          "1970-02-28T00:00:00.000000000",
          "1970-03-07T00:00:00.000000000",
          "1970-03-14T00:00:00.000000000",
          "1970-03-21T00:00:00.000000000",
          "1970-03-28T00:00:00.000000000",
          "1970-04-04T00:00:00.000000000",
          "1970-04-11T00:00:00.000000000",
          "1970-04-18T00:00:00.000000000",
          "1970-04-25T00:00:00.000000000",
          "1970-05-02T00:00:00.000000000",
          "1970-05-09T00:00:00.000000000",
          "1970-05-16T00:00:00.000000000",
          "1970-05-23T00:00:00.000000000",
          "1970-05-30T00:00:00.000000000",
          "1970-06-06T00:00:00.000000000",
          "1970-06-13T00:00:00.000000000",
          "1970-06-20T00:00:00.000000000",
          "1970-06-27T00:00:00.000000000",
          "1970-07-04T00:00:00.000000000",
          "1970-07-11T00:00:00.000000000",
          "1970-07-18T00:00:00.000000000",
          "1970-07-25T00:00:00.000000000",
          "1970-08-01T00:00:00.000000000",
          "1970-08-08T00:00:00.000000000",
          "1970-08-15T00:00:00.000000000",
          "1970-08-22T00:00:00.000000000",
          "1970-08-29T00:00:00.000000000",
          "1970-09-05T00:00:00.000000000",
          "1970-09-12T00:00:00.000000000",
          "1970-09-19T00:00:00.000000000",
          "1970-09-26T00:00:00.000000000",
          "1970-10-03T00:00:00.000000000",
          "1970-10-10T00:00:00.000000000",
          "1970-10-17T00:00:00.000000000",
          "1970-10-24T00:00:00.000000000",
          "1970-10-31T00:00:00.000000000",
          "1970-11-07T00:00:00.000000000",
          "1970-11-14T00:00:00.000000000",
          "1970-11-21T00:00:00.000000000",
          "1970-11-28T00:00:00.000000000",
          "1970-12-05T00:00:00.000000000",
          "1970-12-12T00:00:00.000000000",
          "1970-12-19T00:00:00.000000000",
          "1970-12-26T00:00:00.000000000",
          "1971-01-02T00:00:00.000000000",
          "1971-01-09T00:00:00.000000000",
          "1971-01-16T00:00:00.000000000",
          "1971-01-23T00:00:00.000000000",
          "1971-01-30T00:00:00.000000000",
          "1971-02-06T00:00:00.000000000",
          "1971-02-13T00:00:00.000000000",
          "1971-02-20T00:00:00.000000000",
          "1971-02-27T00:00:00.000000000",
          "1971-03-06T00:00:00.000000000",
          "1971-03-13T00:00:00.000000000",
          "1971-03-20T00:00:00.000000000",
          "1971-03-27T00:00:00.000000000",
          "1971-04-03T00:00:00.000000000",
          "1971-04-10T00:00:00.000000000",
          "1971-04-17T00:00:00.000000000",
          "1971-04-24T00:00:00.000000000",
          "1971-05-01T00:00:00.000000000",
          "1971-05-08T00:00:00.000000000",
          "1971-05-15T00:00:00.000000000",
          "1971-05-22T00:00:00.000000000",
          "1971-05-29T00:00:00.000000000",
          "1971-06-05T00:00:00.000000000",
          "1971-06-12T00:00:00.000000000",
          "1971-06-19T00:00:00.000000000",
          "1971-06-26T00:00:00.000000000",
          "1971-07-03T00:00:00.000000000",
          "1971-07-10T00:00:00.000000000",
          "1971-07-17T00:00:00.000000000",
          "1971-07-24T00:00:00.000000000",
          "1971-07-31T00:00:00.000000000",
          "1971-08-07T00:00:00.000000000",
          "1971-08-14T00:00:00.000000000",
          "1971-08-21T00:00:00.000000000",
          "1971-08-28T00:00:00.000000000",
          "1971-09-04T00:00:00.000000000",
          "1971-09-11T00:00:00.000000000",
          "1971-09-18T00:00:00.000000000",
          "1971-09-25T00:00:00.000000000",
          "1971-10-02T00:00:00.000000000",
          "1971-10-09T00:00:00.000000000",
          "1971-10-16T00:00:00.000000000",
          "1971-10-23T00:00:00.000000000",
          "1971-10-30T00:00:00.000000000",
          "1971-11-06T00:00:00.000000000",
          "1971-11-13T00:00:00.000000000",
          "1971-11-20T00:00:00.000000000",
          "1971-11-27T00:00:00.000000000",
          "1971-12-04T00:00:00.000000000",
          "1971-12-11T00:00:00.000000000",
          "1971-12-18T00:00:00.000000000",
          "1971-12-25T00:00:00.000000000",
          "1972-01-01T00:00:00.000000000",
          "1972-01-08T00:00:00.000000000",
          "1972-01-15T00:00:00.000000000",
          "1972-01-22T00:00:00.000000000",
          "1972-01-29T00:00:00.000000000",
          "1972-02-05T00:00:00.000000000",
          "1972-02-12T00:00:00.000000000",
          "1972-02-19T00:00:00.000000000",
          "1972-02-26T00:00:00.000000000",
          "1972-03-04T00:00:00.000000000",
          "1972-03-11T00:00:00.000000000",
          "1972-03-18T00:00:00.000000000",
          "1972-03-25T00:00:00.000000000",
          "1972-04-01T00:00:00.000000000",
          "1972-04-08T00:00:00.000000000",
          "1972-04-15T00:00:00.000000000",
          "1972-04-22T00:00:00.000000000",
          "1972-04-29T00:00:00.000000000",
          "1972-05-06T00:00:00.000000000",
          "1972-05-13T00:00:00.000000000",
          "1972-05-20T00:00:00.000000000",
          "1972-05-27T00:00:00.000000000",
          "1972-06-03T00:00:00.000000000",
          "1972-06-10T00:00:00.000000000",
          "1972-06-17T00:00:00.000000000",
          "1972-06-24T00:00:00.000000000",
          "1972-07-01T00:00:00.000000000",
          "1972-07-08T00:00:00.000000000",
          "1972-07-15T00:00:00.000000000",
          "1972-07-22T00:00:00.000000000",
          "1972-07-29T00:00:00.000000000",
          "1972-08-05T00:00:00.000000000",
          "1972-08-12T00:00:00.000000000",
          "1972-08-19T00:00:00.000000000",
          "1972-08-26T00:00:00.000000000",
          "1972-09-02T00:00:00.000000000",
          "1972-09-09T00:00:00.000000000",
          "1972-09-16T00:00:00.000000000",
          "1972-09-23T00:00:00.000000000",
          "1972-09-30T00:00:00.000000000",
          "1972-10-07T00:00:00.000000000",
          "1972-10-14T00:00:00.000000000",
          "1972-10-21T00:00:00.000000000",
          "1972-10-28T00:00:00.000000000",
          "1972-11-04T00:00:00.000000000",
          "1972-11-11T00:00:00.000000000",
          "1972-11-18T00:00:00.000000000",
          "1972-11-25T00:00:00.000000000",
          "1972-12-02T00:00:00.000000000",
          "1972-12-09T00:00:00.000000000",
          "1972-12-16T00:00:00.000000000",
          "1972-12-23T00:00:00.000000000",
          "1972-12-30T00:00:00.000000000",
          "1973-01-06T00:00:00.000000000",
          "1973-01-13T00:00:00.000000000",
          "1973-01-20T00:00:00.000000000",
          "1973-01-27T00:00:00.000000000",
          "1973-02-03T00:00:00.000000000",
          "1973-02-10T00:00:00.000000000",
          "1973-02-17T00:00:00.000000000",
          "1973-02-24T00:00:00.000000000",
          "1973-03-03T00:00:00.000000000",
          "1973-03-10T00:00:00.000000000",
          "1973-03-17T00:00:00.000000000",
          "1973-03-24T00:00:00.000000000",
          "1973-03-31T00:00:00.000000000",
          "1973-04-07T00:00:00.000000000",
          "1973-04-14T00:00:00.000000000",
          "1973-04-21T00:00:00.000000000",
          "1973-04-28T00:00:00.000000000",
          "1973-05-05T00:00:00.000000000",
          "1973-05-12T00:00:00.000000000",
          "1973-05-19T00:00:00.000000000",
          "1973-05-26T00:00:00.000000000",
          "1973-06-02T00:00:00.000000000",
          "1973-06-09T00:00:00.000000000",
          "1973-06-16T00:00:00.000000000",
          "1973-06-23T00:00:00.000000000",
          "1973-06-30T00:00:00.000000000",
          "1973-07-07T00:00:00.000000000",
          "1973-07-14T00:00:00.000000000",
          "1973-07-21T00:00:00.000000000",
          "1973-07-28T00:00:00.000000000",
          "1973-08-04T00:00:00.000000000",
          "1973-08-11T00:00:00.000000000",
          "1973-08-18T00:00:00.000000000",
          "1973-08-25T00:00:00.000000000",
          "1973-09-01T00:00:00.000000000",
          "1973-09-08T00:00:00.000000000",
          "1973-09-15T00:00:00.000000000",
          "1973-09-22T00:00:00.000000000",
          "1973-09-29T00:00:00.000000000",
          "1973-10-06T00:00:00.000000000",
          "1973-10-13T00:00:00.000000000",
          "1973-10-20T00:00:00.000000000",
          "1973-10-27T00:00:00.000000000",
          "1973-11-03T00:00:00.000000000",
          "1973-11-10T00:00:00.000000000",
          "1973-11-17T00:00:00.000000000",
          "1973-11-24T00:00:00.000000000",
          "1973-12-01T00:00:00.000000000",
          "1973-12-08T00:00:00.000000000",
          "1973-12-15T00:00:00.000000000",
          "1973-12-22T00:00:00.000000000",
          "1973-12-29T00:00:00.000000000",
          "1974-01-05T00:00:00.000000000",
          "1974-01-12T00:00:00.000000000",
          "1974-01-19T00:00:00.000000000",
          "1974-01-26T00:00:00.000000000",
          "1974-02-02T00:00:00.000000000",
          "1974-02-09T00:00:00.000000000",
          "1974-02-16T00:00:00.000000000",
          "1974-02-23T00:00:00.000000000",
          "1974-03-02T00:00:00.000000000",
          "1974-03-09T00:00:00.000000000",
          "1974-03-16T00:00:00.000000000",
          "1974-03-23T00:00:00.000000000",
          "1974-03-30T00:00:00.000000000",
          "1974-04-06T00:00:00.000000000",
          "1974-04-13T00:00:00.000000000",
          "1974-04-20T00:00:00.000000000",
          "1974-04-27T00:00:00.000000000",
          "1974-05-04T00:00:00.000000000",
          "1974-05-11T00:00:00.000000000",
          "1974-05-18T00:00:00.000000000",
          "1974-05-25T00:00:00.000000000",
          "1974-06-01T00:00:00.000000000",
          "1974-06-08T00:00:00.000000000",
          "1974-06-15T00:00:00.000000000",
          "1974-06-22T00:00:00.000000000",
          "1974-06-29T00:00:00.000000000",
          "1974-07-06T00:00:00.000000000",
          "1974-07-13T00:00:00.000000000",
          "1974-07-20T00:00:00.000000000",
          "1974-07-27T00:00:00.000000000",
          "1974-08-03T00:00:00.000000000",
          "1974-08-10T00:00:00.000000000",
          "1974-08-17T00:00:00.000000000",
          "1974-08-24T00:00:00.000000000",
          "1974-08-31T00:00:00.000000000",
          "1974-09-07T00:00:00.000000000",
          "1974-09-14T00:00:00.000000000",
          "1974-09-21T00:00:00.000000000",
          "1974-09-28T00:00:00.000000000",
          "1974-10-05T00:00:00.000000000",
          "1974-10-12T00:00:00.000000000",
          "1974-10-19T00:00:00.000000000",
          "1974-10-26T00:00:00.000000000",
          "1974-11-02T00:00:00.000000000",
          "1974-11-09T00:00:00.000000000",
          "1974-11-16T00:00:00.000000000",
          "1974-11-23T00:00:00.000000000",
          "1974-11-30T00:00:00.000000000",
          "1974-12-07T00:00:00.000000000",
          "1974-12-14T00:00:00.000000000",
          "1974-12-21T00:00:00.000000000",
          "1974-12-28T00:00:00.000000000",
          "1975-01-04T00:00:00.000000000",
          "1975-01-11T00:00:00.000000000",
          "1975-01-18T00:00:00.000000000",
          "1975-01-25T00:00:00.000000000",
          "1975-02-01T00:00:00.000000000",
          "1975-02-08T00:00:00.000000000",
          "1975-02-15T00:00:00.000000000",
          "1975-02-22T00:00:00.000000000",
          "1975-03-01T00:00:00.000000000",
          "1975-03-08T00:00:00.000000000",
          "1975-03-15T00:00:00.000000000",
          "1975-03-22T00:00:00.000000000",
          "1975-03-29T00:00:00.000000000",
          "1975-04-05T00:00:00.000000000",
          "1975-04-12T00:00:00.000000000",
          "1975-04-19T00:00:00.000000000",
          "1975-04-26T00:00:00.000000000",
          "1975-05-03T00:00:00.000000000",
          "1975-05-10T00:00:00.000000000",
          "1975-05-17T00:00:00.000000000",
          "1975-05-24T00:00:00.000000000",
          "1975-05-31T00:00:00.000000000",
          "1975-06-07T00:00:00.000000000",
          "1975-06-14T00:00:00.000000000",
          "1975-06-21T00:00:00.000000000",
          "1975-06-28T00:00:00.000000000",
          "1975-07-05T00:00:00.000000000",
          "1975-07-12T00:00:00.000000000",
          "1975-07-19T00:00:00.000000000",
          "1975-07-26T00:00:00.000000000",
          "1975-08-02T00:00:00.000000000",
          "1975-08-09T00:00:00.000000000",
          "1975-08-16T00:00:00.000000000",
          "1975-08-23T00:00:00.000000000",
          "1975-08-30T00:00:00.000000000",
          "1975-09-06T00:00:00.000000000",
          "1975-09-13T00:00:00.000000000",
          "1975-09-20T00:00:00.000000000",
          "1975-09-27T00:00:00.000000000",
          "1975-10-04T00:00:00.000000000",
          "1975-10-11T00:00:00.000000000",
          "1975-10-18T00:00:00.000000000",
          "1975-10-25T00:00:00.000000000",
          "1975-11-01T00:00:00.000000000",
          "1975-11-08T00:00:00.000000000",
          "1975-11-15T00:00:00.000000000",
          "1975-11-22T00:00:00.000000000",
          "1975-11-29T00:00:00.000000000",
          "1975-12-06T00:00:00.000000000",
          "1975-12-13T00:00:00.000000000",
          "1975-12-20T00:00:00.000000000",
          "1975-12-27T00:00:00.000000000",
          "1976-01-03T00:00:00.000000000",
          "1976-01-10T00:00:00.000000000",
          "1976-01-17T00:00:00.000000000",
          "1976-01-24T00:00:00.000000000",
          "1976-01-31T00:00:00.000000000",
          "1976-02-07T00:00:00.000000000",
          "1976-02-14T00:00:00.000000000",
          "1976-02-21T00:00:00.000000000",
          "1976-02-28T00:00:00.000000000",
          "1976-03-06T00:00:00.000000000",
          "1976-03-13T00:00:00.000000000",
          "1976-03-20T00:00:00.000000000",
          "1976-03-27T00:00:00.000000000",
          "1976-04-03T00:00:00.000000000",
          "1976-04-10T00:00:00.000000000",
          "1976-04-17T00:00:00.000000000",
          "1976-04-24T00:00:00.000000000",
          "1976-05-01T00:00:00.000000000",
          "1976-05-08T00:00:00.000000000",
          "1976-05-15T00:00:00.000000000",
          "1976-05-22T00:00:00.000000000",
          "1976-05-29T00:00:00.000000000",
          "1976-06-05T00:00:00.000000000",
          "1976-06-12T00:00:00.000000000",
          "1976-06-19T00:00:00.000000000",
          "1976-06-26T00:00:00.000000000",
          "1976-07-03T00:00:00.000000000",
          "1976-07-10T00:00:00.000000000",
          "1976-07-17T00:00:00.000000000",
          "1976-07-24T00:00:00.000000000",
          "1976-07-31T00:00:00.000000000",
          "1976-08-07T00:00:00.000000000",
          "1976-08-14T00:00:00.000000000",
          "1976-08-21T00:00:00.000000000",
          "1976-08-28T00:00:00.000000000",
          "1976-09-04T00:00:00.000000000",
          "1976-09-11T00:00:00.000000000",
          "1976-09-18T00:00:00.000000000",
          "1976-09-25T00:00:00.000000000",
          "1976-10-02T00:00:00.000000000",
          "1976-10-09T00:00:00.000000000",
          "1976-10-16T00:00:00.000000000",
          "1976-10-23T00:00:00.000000000",
          "1976-10-30T00:00:00.000000000",
          "1976-11-06T00:00:00.000000000",
          "1976-11-13T00:00:00.000000000",
          "1976-11-20T00:00:00.000000000",
          "1976-11-27T00:00:00.000000000",
          "1976-12-04T00:00:00.000000000",
          "1976-12-11T00:00:00.000000000",
          "1976-12-18T00:00:00.000000000",
          "1976-12-25T00:00:00.000000000",
          "1977-01-01T00:00:00.000000000",
          "1977-01-08T00:00:00.000000000",
          "1977-01-15T00:00:00.000000000",
          "1977-01-22T00:00:00.000000000",
          "1977-01-29T00:00:00.000000000",
          "1977-02-05T00:00:00.000000000",
          "1977-02-12T00:00:00.000000000",
          "1977-02-19T00:00:00.000000000",
          "1977-02-26T00:00:00.000000000",
          "1977-03-05T00:00:00.000000000",
          "1977-03-12T00:00:00.000000000",
          "1977-03-19T00:00:00.000000000",
          "1977-03-26T00:00:00.000000000",
          "1977-04-02T00:00:00.000000000",
          "1977-04-09T00:00:00.000000000",
          "1977-04-16T00:00:00.000000000",
          "1977-04-23T00:00:00.000000000",
          "1977-04-30T00:00:00.000000000",
          "1977-05-07T00:00:00.000000000",
          "1977-05-14T00:00:00.000000000",
          "1977-05-21T00:00:00.000000000",
          "1977-05-28T00:00:00.000000000",
          "1977-06-04T00:00:00.000000000",
          "1977-06-11T00:00:00.000000000",
          "1977-06-18T00:00:00.000000000",
          "1977-06-25T00:00:00.000000000",
          "1977-07-02T00:00:00.000000000",
          "1977-07-09T00:00:00.000000000",
          "1977-07-16T00:00:00.000000000",
          "1977-07-23T00:00:00.000000000",
          "1977-07-30T00:00:00.000000000",
          "1977-08-06T00:00:00.000000000",
          "1977-08-13T00:00:00.000000000",
          "1977-08-20T00:00:00.000000000",
          "1977-08-27T00:00:00.000000000",
          "1977-09-03T00:00:00.000000000",
          "1977-09-10T00:00:00.000000000",
          "1977-09-17T00:00:00.000000000",
          "1977-09-24T00:00:00.000000000",
          "1977-10-01T00:00:00.000000000",
          "1977-10-08T00:00:00.000000000",
          "1977-10-15T00:00:00.000000000",
          "1977-10-22T00:00:00.000000000",
          "1977-10-29T00:00:00.000000000",
          "1977-11-05T00:00:00.000000000",
          "1977-11-12T00:00:00.000000000",
          "1977-11-19T00:00:00.000000000",
          "1977-11-26T00:00:00.000000000",
          "1977-12-03T00:00:00.000000000",
          "1977-12-10T00:00:00.000000000",
          "1977-12-17T00:00:00.000000000",
          "1977-12-24T00:00:00.000000000",
          "1977-12-31T00:00:00.000000000",
          "1978-01-07T00:00:00.000000000",
          "1978-01-14T00:00:00.000000000",
          "1978-01-21T00:00:00.000000000",
          "1978-01-28T00:00:00.000000000",
          "1978-02-04T00:00:00.000000000",
          "1978-02-11T00:00:00.000000000",
          "1978-02-18T00:00:00.000000000",
          "1978-02-25T00:00:00.000000000",
          "1978-03-04T00:00:00.000000000",
          "1978-03-11T00:00:00.000000000",
          "1978-03-18T00:00:00.000000000",
          "1978-03-25T00:00:00.000000000",
          "1978-04-01T00:00:00.000000000",
          "1978-04-08T00:00:00.000000000",
          "1978-04-15T00:00:00.000000000",
          "1978-04-22T00:00:00.000000000",
          "1978-04-29T00:00:00.000000000",
          "1978-05-06T00:00:00.000000000",
          "1978-05-13T00:00:00.000000000",
          "1978-05-20T00:00:00.000000000",
          "1978-05-27T00:00:00.000000000",
          "1978-06-03T00:00:00.000000000",
          "1978-06-10T00:00:00.000000000",
          "1978-06-17T00:00:00.000000000",
          "1978-06-24T00:00:00.000000000",
          "1978-07-01T00:00:00.000000000",
          "1978-07-08T00:00:00.000000000",
          "1978-07-15T00:00:00.000000000",
          "1978-07-22T00:00:00.000000000",
          "1978-07-29T00:00:00.000000000",
          "1978-08-05T00:00:00.000000000",
          "1978-08-12T00:00:00.000000000",
          "1978-08-19T00:00:00.000000000",
          "1978-08-26T00:00:00.000000000",
          "1978-09-02T00:00:00.000000000",
          "1978-09-09T00:00:00.000000000",
          "1978-09-16T00:00:00.000000000",
          "1978-09-23T00:00:00.000000000",
          "1978-09-30T00:00:00.000000000",
          "1978-10-07T00:00:00.000000000",
          "1978-10-14T00:00:00.000000000",
          "1978-10-21T00:00:00.000000000",
          "1978-10-28T00:00:00.000000000",
          "1978-11-04T00:00:00.000000000",
          "1978-11-11T00:00:00.000000000",
          "1978-11-18T00:00:00.000000000",
          "1978-11-25T00:00:00.000000000",
          "1978-12-02T00:00:00.000000000",
          "1978-12-09T00:00:00.000000000",
          "1978-12-16T00:00:00.000000000",
          "1978-12-23T00:00:00.000000000",
          "1978-12-30T00:00:00.000000000",
          "1979-01-06T00:00:00.000000000",
          "1979-01-13T00:00:00.000000000",
          "1979-01-20T00:00:00.000000000",
          "1979-01-27T00:00:00.000000000",
          "1979-02-03T00:00:00.000000000",
          "1979-02-10T00:00:00.000000000",
          "1979-02-17T00:00:00.000000000",
          "1979-02-24T00:00:00.000000000",
          "1979-03-03T00:00:00.000000000",
          "1979-03-10T00:00:00.000000000",
          "1979-03-17T00:00:00.000000000",
          "1979-03-24T00:00:00.000000000",
          "1979-03-31T00:00:00.000000000",
          "1979-04-07T00:00:00.000000000",
          "1979-04-14T00:00:00.000000000",
          "1979-04-21T00:00:00.000000000",
          "1979-04-28T00:00:00.000000000",
          "1979-05-05T00:00:00.000000000",
          "1979-05-12T00:00:00.000000000",
          "1979-05-19T00:00:00.000000000",
          "1979-05-26T00:00:00.000000000",
          "1979-06-02T00:00:00.000000000",
          "1979-06-09T00:00:00.000000000",
          "1979-06-16T00:00:00.000000000",
          "1979-06-23T00:00:00.000000000",
          "1979-06-30T00:00:00.000000000",
          "1979-07-07T00:00:00.000000000",
          "1979-07-14T00:00:00.000000000",
          "1979-07-21T00:00:00.000000000",
          "1979-07-28T00:00:00.000000000",
          "1979-08-04T00:00:00.000000000",
          "1979-08-11T00:00:00.000000000",
          "1979-08-18T00:00:00.000000000",
          "1979-08-25T00:00:00.000000000",
          "1979-09-01T00:00:00.000000000",
          "1979-09-08T00:00:00.000000000",
          "1979-09-15T00:00:00.000000000",
          "1979-09-22T00:00:00.000000000",
          "1979-09-29T00:00:00.000000000",
          "1979-10-06T00:00:00.000000000",
          "1979-10-13T00:00:00.000000000",
          "1979-10-20T00:00:00.000000000",
          "1979-10-27T00:00:00.000000000",
          "1979-11-03T00:00:00.000000000",
          "1979-11-10T00:00:00.000000000",
          "1979-11-17T00:00:00.000000000",
          "1979-11-24T00:00:00.000000000",
          "1979-12-01T00:00:00.000000000",
          "1979-12-08T00:00:00.000000000",
          "1979-12-15T00:00:00.000000000",
          "1979-12-22T00:00:00.000000000",
          "1979-12-29T00:00:00.000000000",
          "1980-01-05T00:00:00.000000000",
          "1980-01-12T00:00:00.000000000",
          "1980-01-19T00:00:00.000000000",
          "1980-01-26T00:00:00.000000000",
          "1980-02-02T00:00:00.000000000",
          "1980-02-09T00:00:00.000000000",
          "1980-02-16T00:00:00.000000000",
          "1980-02-23T00:00:00.000000000",
          "1980-03-01T00:00:00.000000000",
          "1980-03-08T00:00:00.000000000",
          "1980-03-15T00:00:00.000000000",
          "1980-03-22T00:00:00.000000000",
          "1980-03-29T00:00:00.000000000",
          "1980-04-05T00:00:00.000000000",
          "1980-04-12T00:00:00.000000000",
          "1980-04-19T00:00:00.000000000",
          "1980-04-26T00:00:00.000000000",
          "1980-05-03T00:00:00.000000000",
          "1980-05-10T00:00:00.000000000",
          "1980-05-17T00:00:00.000000000",
          "1980-05-24T00:00:00.000000000",
          "1980-05-31T00:00:00.000000000",
          "1980-06-07T00:00:00.000000000",
          "1980-06-14T00:00:00.000000000",
          "1980-06-21T00:00:00.000000000",
          "1980-06-28T00:00:00.000000000",
          "1980-07-05T00:00:00.000000000",
          "1980-07-12T00:00:00.000000000",
          "1980-07-19T00:00:00.000000000",
          "1980-07-26T00:00:00.000000000",
          "1980-08-02T00:00:00.000000000",
          "1980-08-09T00:00:00.000000000",
          "1980-08-16T00:00:00.000000000",
          "1980-08-23T00:00:00.000000000",
          "1980-08-30T00:00:00.000000000",
          "1980-09-06T00:00:00.000000000",
          "1980-09-13T00:00:00.000000000",
          "1980-09-20T00:00:00.000000000",
          "1980-09-27T00:00:00.000000000",
          "1980-10-04T00:00:00.000000000",
          "1980-10-11T00:00:00.000000000",
          "1980-10-18T00:00:00.000000000",
          "1980-10-25T00:00:00.000000000",
          "1980-11-01T00:00:00.000000000",
          "1980-11-08T00:00:00.000000000",
          "1980-11-15T00:00:00.000000000",
          "1980-11-22T00:00:00.000000000",
          "1980-11-29T00:00:00.000000000",
          "1980-12-06T00:00:00.000000000",
          "1980-12-13T00:00:00.000000000",
          "1980-12-20T00:00:00.000000000",
          "1980-12-27T00:00:00.000000000",
          "1981-01-03T00:00:00.000000000",
          "1981-01-10T00:00:00.000000000",
          "1981-01-17T00:00:00.000000000",
          "1981-01-24T00:00:00.000000000",
          "1981-01-31T00:00:00.000000000",
          "1981-02-07T00:00:00.000000000",
          "1981-02-14T00:00:00.000000000",
          "1981-02-21T00:00:00.000000000",
          "1981-02-28T00:00:00.000000000",
          "1981-03-07T00:00:00.000000000",
          "1981-03-14T00:00:00.000000000",
          "1981-03-21T00:00:00.000000000",
          "1981-03-28T00:00:00.000000000",
          "1981-04-04T00:00:00.000000000",
          "1981-04-11T00:00:00.000000000",
          "1981-04-18T00:00:00.000000000",
          "1981-04-25T00:00:00.000000000",
          "1981-05-02T00:00:00.000000000",
          "1981-05-09T00:00:00.000000000",
          "1981-05-16T00:00:00.000000000",
          "1981-05-23T00:00:00.000000000",
          "1981-05-30T00:00:00.000000000",
          "1981-06-06T00:00:00.000000000",
          "1981-06-13T00:00:00.000000000",
          "1981-06-20T00:00:00.000000000",
          "1981-06-27T00:00:00.000000000",
          "1981-07-04T00:00:00.000000000",
          "1981-07-11T00:00:00.000000000",
          "1981-07-18T00:00:00.000000000",
          "1981-07-25T00:00:00.000000000",
          "1981-08-01T00:00:00.000000000",
          "1981-08-08T00:00:00.000000000",
          "1981-08-15T00:00:00.000000000",
          "1981-08-22T00:00:00.000000000",
          "1981-08-29T00:00:00.000000000",
          "1981-09-05T00:00:00.000000000",
          "1981-09-12T00:00:00.000000000",
          "1981-09-19T00:00:00.000000000",
          "1981-09-26T00:00:00.000000000",
          "1981-10-03T00:00:00.000000000",
          "1981-10-10T00:00:00.000000000",
          "1981-10-17T00:00:00.000000000",
          "1981-10-24T00:00:00.000000000",
          "1981-10-31T00:00:00.000000000",
          "1981-11-07T00:00:00.000000000",
          "1981-11-14T00:00:00.000000000",
          "1981-11-21T00:00:00.000000000",
          "1981-11-28T00:00:00.000000000",
          "1981-12-05T00:00:00.000000000",
          "1981-12-12T00:00:00.000000000",
          "1981-12-19T00:00:00.000000000",
          "1981-12-26T00:00:00.000000000",
          "1982-01-02T00:00:00.000000000",
          "1982-01-09T00:00:00.000000000",
          "1982-01-16T00:00:00.000000000",
          "1982-01-23T00:00:00.000000000",
          "1982-01-30T00:00:00.000000000",
          "1982-02-06T00:00:00.000000000",
          "1982-02-13T00:00:00.000000000",
          "1982-02-20T00:00:00.000000000",
          "1982-02-27T00:00:00.000000000",
          "1982-03-06T00:00:00.000000000",
          "1982-03-13T00:00:00.000000000",
          "1982-03-20T00:00:00.000000000",
          "1982-03-27T00:00:00.000000000",
          "1982-04-03T00:00:00.000000000",
          "1982-04-10T00:00:00.000000000",
          "1982-04-17T00:00:00.000000000",
          "1982-04-24T00:00:00.000000000",
          "1982-05-01T00:00:00.000000000",
          "1982-05-08T00:00:00.000000000",
          "1982-05-15T00:00:00.000000000",
          "1982-05-22T00:00:00.000000000",
          "1982-05-29T00:00:00.000000000",
          "1982-06-05T00:00:00.000000000",
          "1982-06-12T00:00:00.000000000",
          "1982-06-19T00:00:00.000000000",
          "1982-06-26T00:00:00.000000000",
          "1982-07-03T00:00:00.000000000",
          "1982-07-10T00:00:00.000000000",
          "1982-07-17T00:00:00.000000000",
          "1982-07-24T00:00:00.000000000",
          "1982-07-31T00:00:00.000000000",
          "1982-08-07T00:00:00.000000000",
          "1982-08-14T00:00:00.000000000",
          "1982-08-21T00:00:00.000000000",
          "1982-08-28T00:00:00.000000000",
          "1982-09-04T00:00:00.000000000",
          "1982-09-11T00:00:00.000000000",
          "1982-09-18T00:00:00.000000000",
          "1982-09-25T00:00:00.000000000",
          "1982-10-02T00:00:00.000000000",
          "1982-10-09T00:00:00.000000000",
          "1982-10-16T00:00:00.000000000",
          "1982-10-23T00:00:00.000000000",
          "1982-10-30T00:00:00.000000000",
          "1982-11-06T00:00:00.000000000",
          "1982-11-13T00:00:00.000000000",
          "1982-11-20T00:00:00.000000000",
          "1982-11-27T00:00:00.000000000",
          "1982-12-04T00:00:00.000000000",
          "1982-12-11T00:00:00.000000000",
          "1982-12-18T00:00:00.000000000",
          "1982-12-25T00:00:00.000000000",
          "1983-01-01T00:00:00.000000000",
          "1983-01-08T00:00:00.000000000",
          "1983-01-15T00:00:00.000000000",
          "1983-01-22T00:00:00.000000000",
          "1983-01-29T00:00:00.000000000",
          "1983-02-05T00:00:00.000000000",
          "1983-02-12T00:00:00.000000000",
          "1983-02-19T00:00:00.000000000",
          "1983-02-26T00:00:00.000000000",
          "1983-03-05T00:00:00.000000000",
          "1983-03-12T00:00:00.000000000",
          "1983-03-19T00:00:00.000000000",
          "1983-03-26T00:00:00.000000000",
          "1983-04-02T00:00:00.000000000",
          "1983-04-09T00:00:00.000000000",
          "1983-04-16T00:00:00.000000000",
          "1983-04-23T00:00:00.000000000",
          "1983-04-30T00:00:00.000000000",
          "1983-05-07T00:00:00.000000000",
          "1983-05-14T00:00:00.000000000",
          "1983-05-21T00:00:00.000000000",
          "1983-05-28T00:00:00.000000000",
          "1983-06-04T00:00:00.000000000",
          "1983-06-11T00:00:00.000000000",
          "1983-06-18T00:00:00.000000000",
          "1983-06-25T00:00:00.000000000",
          "1983-07-02T00:00:00.000000000",
          "1983-07-09T00:00:00.000000000",
          "1983-07-16T00:00:00.000000000",
          "1983-07-23T00:00:00.000000000",
          "1983-07-30T00:00:00.000000000",
          "1983-08-06T00:00:00.000000000",
          "1983-08-13T00:00:00.000000000",
          "1983-08-20T00:00:00.000000000",
          "1983-08-27T00:00:00.000000000",
          "1983-09-03T00:00:00.000000000",
          "1983-09-10T00:00:00.000000000",
          "1983-09-17T00:00:00.000000000",
          "1983-09-24T00:00:00.000000000",
          "1983-10-01T00:00:00.000000000",
          "1983-10-08T00:00:00.000000000",
          "1983-10-15T00:00:00.000000000",
          "1983-10-22T00:00:00.000000000",
          "1983-10-29T00:00:00.000000000",
          "1983-11-05T00:00:00.000000000",
          "1983-11-12T00:00:00.000000000",
          "1983-11-19T00:00:00.000000000",
          "1983-11-26T00:00:00.000000000",
          "1983-12-03T00:00:00.000000000",
          "1983-12-10T00:00:00.000000000",
          "1983-12-17T00:00:00.000000000",
          "1983-12-24T00:00:00.000000000",
          "1983-12-31T00:00:00.000000000",
          "1984-01-07T00:00:00.000000000",
          "1984-01-14T00:00:00.000000000",
          "1984-01-21T00:00:00.000000000",
          "1984-01-28T00:00:00.000000000",
          "1984-02-04T00:00:00.000000000",
          "1984-02-11T00:00:00.000000000",
          "1984-02-18T00:00:00.000000000",
          "1984-02-25T00:00:00.000000000",
          "1984-03-03T00:00:00.000000000",
          "1984-03-10T00:00:00.000000000",
          "1984-03-17T00:00:00.000000000",
          "1984-03-24T00:00:00.000000000",
          "1984-03-31T00:00:00.000000000",
          "1984-04-07T00:00:00.000000000",
          "1984-04-14T00:00:00.000000000",
          "1984-04-21T00:00:00.000000000",
          "1984-04-28T00:00:00.000000000",
          "1984-05-05T00:00:00.000000000",
          "1984-05-12T00:00:00.000000000",
          "1984-05-19T00:00:00.000000000",
          "1984-05-26T00:00:00.000000000",
          "1984-06-02T00:00:00.000000000",
          "1984-06-09T00:00:00.000000000",
          "1984-06-16T00:00:00.000000000",
          "1984-06-23T00:00:00.000000000",
          "1984-06-30T00:00:00.000000000",
          "1984-07-07T00:00:00.000000000",
          "1984-07-14T00:00:00.000000000",
          "1984-07-21T00:00:00.000000000",
          "1984-07-28T00:00:00.000000000",
          "1984-08-04T00:00:00.000000000",
          "1984-08-11T00:00:00.000000000",
          "1984-08-18T00:00:00.000000000",
          "1984-08-25T00:00:00.000000000",
          "1984-09-01T00:00:00.000000000",
          "1984-09-08T00:00:00.000000000",
          "1984-09-15T00:00:00.000000000",
          "1984-09-22T00:00:00.000000000",
          "1984-09-29T00:00:00.000000000",
          "1984-10-06T00:00:00.000000000",
          "1984-10-13T00:00:00.000000000",
          "1984-10-20T00:00:00.000000000",
          "1984-10-27T00:00:00.000000000",
          "1984-11-03T00:00:00.000000000",
          "1984-11-10T00:00:00.000000000",
          "1984-11-17T00:00:00.000000000",
          "1984-11-24T00:00:00.000000000",
          "1984-12-01T00:00:00.000000000",
          "1984-12-08T00:00:00.000000000",
          "1984-12-15T00:00:00.000000000",
          "1984-12-22T00:00:00.000000000",
          "1984-12-29T00:00:00.000000000",
          "1985-01-05T00:00:00.000000000",
          "1985-01-12T00:00:00.000000000",
          "1985-01-19T00:00:00.000000000",
          "1985-01-26T00:00:00.000000000",
          "1985-02-02T00:00:00.000000000",
          "1985-02-09T00:00:00.000000000",
          "1985-02-16T00:00:00.000000000",
          "1985-02-23T00:00:00.000000000",
          "1985-03-02T00:00:00.000000000",
          "1985-03-09T00:00:00.000000000",
          "1985-03-16T00:00:00.000000000",
          "1985-03-23T00:00:00.000000000",
          "1985-03-30T00:00:00.000000000",
          "1985-04-06T00:00:00.000000000",
          "1985-04-13T00:00:00.000000000",
          "1985-04-20T00:00:00.000000000",
          "1985-04-27T00:00:00.000000000",
          "1985-05-04T00:00:00.000000000",
          "1985-05-11T00:00:00.000000000",
          "1985-05-18T00:00:00.000000000",
          "1985-05-25T00:00:00.000000000",
          "1985-06-01T00:00:00.000000000",
          "1985-06-08T00:00:00.000000000",
          "1985-06-15T00:00:00.000000000",
          "1985-06-22T00:00:00.000000000",
          "1985-06-29T00:00:00.000000000",
          "1985-07-06T00:00:00.000000000",
          "1985-07-13T00:00:00.000000000",
          "1985-07-20T00:00:00.000000000",
          "1985-07-27T00:00:00.000000000",
          "1985-08-03T00:00:00.000000000",
          "1985-08-10T00:00:00.000000000",
          "1985-08-17T00:00:00.000000000",
          "1985-08-24T00:00:00.000000000",
          "1985-08-31T00:00:00.000000000",
          "1985-09-07T00:00:00.000000000",
          "1985-09-14T00:00:00.000000000",
          "1985-09-21T00:00:00.000000000",
          "1985-09-28T00:00:00.000000000",
          "1985-10-05T00:00:00.000000000",
          "1985-10-12T00:00:00.000000000",
          "1985-10-19T00:00:00.000000000",
          "1985-10-26T00:00:00.000000000",
          "1985-11-02T00:00:00.000000000",
          "1985-11-09T00:00:00.000000000",
          "1985-11-16T00:00:00.000000000",
          "1985-11-23T00:00:00.000000000",
          "1985-11-30T00:00:00.000000000",
          "1985-12-07T00:00:00.000000000",
          "1985-12-14T00:00:00.000000000",
          "1985-12-21T00:00:00.000000000",
          "1985-12-28T00:00:00.000000000",
          "1986-01-04T00:00:00.000000000",
          "1986-01-11T00:00:00.000000000",
          "1986-01-18T00:00:00.000000000",
          "1986-01-25T00:00:00.000000000",
          "1986-02-01T00:00:00.000000000",
          "1986-02-08T00:00:00.000000000",
          "1986-02-15T00:00:00.000000000",
          "1986-02-22T00:00:00.000000000",
          "1986-03-01T00:00:00.000000000",
          "1986-03-08T00:00:00.000000000",
          "1986-03-15T00:00:00.000000000",
          "1986-03-22T00:00:00.000000000",
          "1986-03-29T00:00:00.000000000",
          "1986-04-05T00:00:00.000000000",
          "1986-04-12T00:00:00.000000000",
          "1986-04-19T00:00:00.000000000",
          "1986-04-26T00:00:00.000000000",
          "1986-05-03T00:00:00.000000000",
          "1986-05-10T00:00:00.000000000",
          "1986-05-17T00:00:00.000000000",
          "1986-05-24T00:00:00.000000000",
          "1986-05-31T00:00:00.000000000",
          "1986-06-07T00:00:00.000000000",
          "1986-06-14T00:00:00.000000000",
          "1986-06-21T00:00:00.000000000",
          "1986-06-28T00:00:00.000000000",
          "1986-07-05T00:00:00.000000000",
          "1986-07-12T00:00:00.000000000",
          "1986-07-19T00:00:00.000000000",
          "1986-07-26T00:00:00.000000000",
          "1986-08-02T00:00:00.000000000",
          "1986-08-09T00:00:00.000000000",
          "1986-08-16T00:00:00.000000000",
          "1986-08-23T00:00:00.000000000",
          "1986-08-30T00:00:00.000000000",
          "1986-09-06T00:00:00.000000000",
          "1986-09-13T00:00:00.000000000",
          "1986-09-20T00:00:00.000000000",
          "1986-09-27T00:00:00.000000000",
          "1986-10-04T00:00:00.000000000",
          "1986-10-11T00:00:00.000000000",
          "1986-10-18T00:00:00.000000000",
          "1986-10-25T00:00:00.000000000",
          "1986-11-01T00:00:00.000000000",
          "1986-11-08T00:00:00.000000000",
          "1986-11-15T00:00:00.000000000",
          "1986-11-22T00:00:00.000000000",
          "1986-11-29T00:00:00.000000000",
          "1986-12-06T00:00:00.000000000",
          "1986-12-13T00:00:00.000000000",
          "1986-12-20T00:00:00.000000000",
          "1986-12-27T00:00:00.000000000",
          "1987-01-03T00:00:00.000000000",
          "1987-01-10T00:00:00.000000000",
          "1987-01-17T00:00:00.000000000",
          "1987-01-24T00:00:00.000000000",
          "1987-01-31T00:00:00.000000000",
          "1987-02-07T00:00:00.000000000",
          "1987-02-14T00:00:00.000000000",
          "1987-02-21T00:00:00.000000000",
          "1987-02-28T00:00:00.000000000",
          "1987-03-07T00:00:00.000000000",
          "1987-03-14T00:00:00.000000000",
          "1987-03-21T00:00:00.000000000",
          "1987-03-28T00:00:00.000000000",
          "1987-04-04T00:00:00.000000000",
          "1987-04-11T00:00:00.000000000",
          "1987-04-18T00:00:00.000000000",
          "1987-04-25T00:00:00.000000000",
          "1987-05-02T00:00:00.000000000",
          "1987-05-09T00:00:00.000000000",
          "1987-05-16T00:00:00.000000000",
          "1987-05-23T00:00:00.000000000",
          "1987-05-30T00:00:00.000000000",
          "1987-06-06T00:00:00.000000000",
          "1987-06-13T00:00:00.000000000",
          "1987-06-20T00:00:00.000000000",
          "1987-06-27T00:00:00.000000000",
          "1987-07-04T00:00:00.000000000",
          "1987-07-11T00:00:00.000000000",
          "1987-07-18T00:00:00.000000000",
          "1987-07-25T00:00:00.000000000",
          "1987-08-01T00:00:00.000000000",
          "1987-08-08T00:00:00.000000000",
          "1987-08-15T00:00:00.000000000",
          "1987-08-22T00:00:00.000000000",
          "1987-08-29T00:00:00.000000000",
          "1987-09-05T00:00:00.000000000",
          "1987-09-12T00:00:00.000000000",
          "1987-09-19T00:00:00.000000000",
          "1987-09-26T00:00:00.000000000",
          "1987-10-03T00:00:00.000000000",
          "1987-10-10T00:00:00.000000000",
          "1987-10-17T00:00:00.000000000",
          "1987-10-24T00:00:00.000000000",
          "1987-10-31T00:00:00.000000000",
          "1987-11-07T00:00:00.000000000",
          "1987-11-14T00:00:00.000000000",
          "1987-11-21T00:00:00.000000000",
          "1987-11-28T00:00:00.000000000",
          "1987-12-05T00:00:00.000000000",
          "1987-12-12T00:00:00.000000000",
          "1987-12-19T00:00:00.000000000",
          "1987-12-26T00:00:00.000000000",
          "1988-01-02T00:00:00.000000000",
          "1988-01-09T00:00:00.000000000",
          "1988-01-16T00:00:00.000000000",
          "1988-01-23T00:00:00.000000000",
          "1988-01-30T00:00:00.000000000",
          "1988-02-06T00:00:00.000000000",
          "1988-02-13T00:00:00.000000000",
          "1988-02-20T00:00:00.000000000",
          "1988-02-27T00:00:00.000000000",
          "1988-03-05T00:00:00.000000000",
          "1988-03-12T00:00:00.000000000",
          "1988-03-19T00:00:00.000000000",
          "1988-03-26T00:00:00.000000000",
          "1988-04-02T00:00:00.000000000",
          "1988-04-09T00:00:00.000000000",
          "1988-04-16T00:00:00.000000000",
          "1988-04-23T00:00:00.000000000",
          "1988-04-30T00:00:00.000000000",
          "1988-05-07T00:00:00.000000000",
          "1988-05-14T00:00:00.000000000",
          "1988-05-21T00:00:00.000000000",
          "1988-05-28T00:00:00.000000000",
          "1988-06-04T00:00:00.000000000",
          "1988-06-11T00:00:00.000000000",
          "1988-06-18T00:00:00.000000000",
          "1988-06-25T00:00:00.000000000",
          "1988-07-02T00:00:00.000000000",
          "1988-07-09T00:00:00.000000000",
          "1988-07-16T00:00:00.000000000",
          "1988-07-23T00:00:00.000000000",
          "1988-07-30T00:00:00.000000000",
          "1988-08-06T00:00:00.000000000",
          "1988-08-13T00:00:00.000000000",
          "1988-08-20T00:00:00.000000000",
          "1988-08-27T00:00:00.000000000",
          "1988-09-03T00:00:00.000000000",
          "1988-09-10T00:00:00.000000000",
          "1988-09-17T00:00:00.000000000",
          "1988-09-24T00:00:00.000000000",
          "1988-10-01T00:00:00.000000000",
          "1988-10-08T00:00:00.000000000",
          "1988-10-15T00:00:00.000000000",
          "1988-10-22T00:00:00.000000000",
          "1988-10-29T00:00:00.000000000",
          "1988-11-05T00:00:00.000000000",
          "1988-11-12T00:00:00.000000000",
          "1988-11-19T00:00:00.000000000",
          "1988-11-26T00:00:00.000000000",
          "1988-12-03T00:00:00.000000000",
          "1988-12-10T00:00:00.000000000",
          "1988-12-17T00:00:00.000000000",
          "1988-12-24T00:00:00.000000000",
          "1988-12-31T00:00:00.000000000",
          "1989-01-07T00:00:00.000000000",
          "1989-01-14T00:00:00.000000000",
          "1989-01-21T00:00:00.000000000",
          "1989-01-28T00:00:00.000000000",
          "1989-02-04T00:00:00.000000000",
          "1989-02-11T00:00:00.000000000",
          "1989-02-18T00:00:00.000000000",
          "1989-02-25T00:00:00.000000000",
          "1989-03-04T00:00:00.000000000",
          "1989-03-11T00:00:00.000000000",
          "1989-03-18T00:00:00.000000000",
          "1989-03-25T00:00:00.000000000",
          "1989-04-01T00:00:00.000000000",
          "1989-04-08T00:00:00.000000000",
          "1989-04-15T00:00:00.000000000",
          "1989-04-22T00:00:00.000000000",
          "1989-04-29T00:00:00.000000000",
          "1989-05-06T00:00:00.000000000",
          "1989-05-13T00:00:00.000000000",
          "1989-05-20T00:00:00.000000000",
          "1989-05-27T00:00:00.000000000",
          "1989-06-03T00:00:00.000000000",
          "1989-06-10T00:00:00.000000000",
          "1989-06-17T00:00:00.000000000",
          "1989-06-24T00:00:00.000000000",
          "1989-07-01T00:00:00.000000000",
          "1989-07-08T00:00:00.000000000",
          "1989-07-15T00:00:00.000000000",
          "1989-07-22T00:00:00.000000000",
          "1989-07-29T00:00:00.000000000",
          "1989-08-05T00:00:00.000000000",
          "1989-08-12T00:00:00.000000000",
          "1989-08-19T00:00:00.000000000",
          "1989-08-26T00:00:00.000000000",
          "1989-09-02T00:00:00.000000000",
          "1989-09-09T00:00:00.000000000",
          "1989-09-16T00:00:00.000000000",
          "1989-09-23T00:00:00.000000000",
          "1989-09-30T00:00:00.000000000",
          "1989-10-07T00:00:00.000000000",
          "1989-10-14T00:00:00.000000000",
          "1989-10-21T00:00:00.000000000",
          "1989-10-28T00:00:00.000000000",
          "1989-11-04T00:00:00.000000000",
          "1989-11-11T00:00:00.000000000",
          "1989-11-18T00:00:00.000000000",
          "1989-11-25T00:00:00.000000000",
          "1989-12-02T00:00:00.000000000",
          "1989-12-09T00:00:00.000000000",
          "1989-12-16T00:00:00.000000000",
          "1989-12-23T00:00:00.000000000",
          "1989-12-30T00:00:00.000000000",
          "1990-01-06T00:00:00.000000000",
          "1990-01-13T00:00:00.000000000",
          "1990-01-20T00:00:00.000000000",
          "1990-01-27T00:00:00.000000000",
          "1990-02-03T00:00:00.000000000",
          "1990-02-10T00:00:00.000000000",
          "1990-02-17T00:00:00.000000000",
          "1990-02-24T00:00:00.000000000",
          "1990-03-03T00:00:00.000000000",
          "1990-03-10T00:00:00.000000000",
          "1990-03-17T00:00:00.000000000",
          "1990-03-24T00:00:00.000000000",
          "1990-03-31T00:00:00.000000000",
          "1990-04-07T00:00:00.000000000",
          "1990-04-14T00:00:00.000000000",
          "1990-04-21T00:00:00.000000000",
          "1990-04-28T00:00:00.000000000",
          "1990-05-05T00:00:00.000000000",
          "1990-05-12T00:00:00.000000000",
          "1990-05-19T00:00:00.000000000",
          "1990-05-26T00:00:00.000000000",
          "1990-06-02T00:00:00.000000000",
          "1990-06-09T00:00:00.000000000",
          "1990-06-16T00:00:00.000000000",
          "1990-06-23T00:00:00.000000000",
          "1990-06-30T00:00:00.000000000",
          "1990-07-07T00:00:00.000000000",
          "1990-07-14T00:00:00.000000000",
          "1990-07-21T00:00:00.000000000",
          "1990-07-28T00:00:00.000000000",
          "1990-08-04T00:00:00.000000000",
          "1990-08-11T00:00:00.000000000",
          "1990-08-18T00:00:00.000000000",
          "1990-08-25T00:00:00.000000000",
          "1990-09-01T00:00:00.000000000",
          "1990-09-08T00:00:00.000000000",
          "1990-09-15T00:00:00.000000000",
          "1990-09-22T00:00:00.000000000",
          "1990-09-29T00:00:00.000000000",
          "1990-10-06T00:00:00.000000000",
          "1990-10-13T00:00:00.000000000",
          "1990-10-20T00:00:00.000000000",
          "1990-10-27T00:00:00.000000000",
          "1990-11-03T00:00:00.000000000",
          "1990-11-10T00:00:00.000000000",
          "1990-11-17T00:00:00.000000000",
          "1990-11-24T00:00:00.000000000",
          "1990-12-01T00:00:00.000000000",
          "1990-12-08T00:00:00.000000000",
          "1990-12-15T00:00:00.000000000",
          "1990-12-22T00:00:00.000000000",
          "1990-12-29T00:00:00.000000000",
          "1991-01-05T00:00:00.000000000",
          "1991-01-12T00:00:00.000000000",
          "1991-01-19T00:00:00.000000000",
          "1991-01-26T00:00:00.000000000",
          "1991-02-02T00:00:00.000000000",
          "1991-02-09T00:00:00.000000000",
          "1991-02-16T00:00:00.000000000",
          "1991-02-23T00:00:00.000000000",
          "1991-03-02T00:00:00.000000000",
          "1991-03-09T00:00:00.000000000",
          "1991-03-16T00:00:00.000000000",
          "1991-03-23T00:00:00.000000000",
          "1991-03-30T00:00:00.000000000",
          "1991-04-06T00:00:00.000000000",
          "1991-04-13T00:00:00.000000000",
          "1991-04-20T00:00:00.000000000",
          "1991-04-27T00:00:00.000000000",
          "1991-05-04T00:00:00.000000000",
          "1991-05-11T00:00:00.000000000",
          "1991-05-18T00:00:00.000000000",
          "1991-05-25T00:00:00.000000000",
          "1991-06-01T00:00:00.000000000",
          "1991-06-08T00:00:00.000000000",
          "1991-06-15T00:00:00.000000000",
          "1991-06-22T00:00:00.000000000",
          "1991-06-29T00:00:00.000000000",
          "1991-07-06T00:00:00.000000000",
          "1991-07-13T00:00:00.000000000",
          "1991-07-20T00:00:00.000000000",
          "1991-07-27T00:00:00.000000000",
          "1991-08-03T00:00:00.000000000",
          "1991-08-10T00:00:00.000000000",
          "1991-08-17T00:00:00.000000000",
          "1991-08-24T00:00:00.000000000",
          "1991-08-31T00:00:00.000000000",
          "1991-09-07T00:00:00.000000000",
          "1991-09-14T00:00:00.000000000",
          "1991-09-21T00:00:00.000000000",
          "1991-09-28T00:00:00.000000000",
          "1991-10-05T00:00:00.000000000",
          "1991-10-12T00:00:00.000000000",
          "1991-10-19T00:00:00.000000000",
          "1991-10-26T00:00:00.000000000",
          "1991-11-02T00:00:00.000000000",
          "1991-11-09T00:00:00.000000000",
          "1991-11-16T00:00:00.000000000",
          "1991-11-23T00:00:00.000000000",
          "1991-11-30T00:00:00.000000000",
          "1991-12-07T00:00:00.000000000",
          "1991-12-14T00:00:00.000000000",
          "1991-12-21T00:00:00.000000000",
          "1991-12-28T00:00:00.000000000",
          "1992-01-04T00:00:00.000000000",
          "1992-01-11T00:00:00.000000000",
          "1992-01-18T00:00:00.000000000",
          "1992-01-25T00:00:00.000000000",
          "1992-02-01T00:00:00.000000000",
          "1992-02-08T00:00:00.000000000",
          "1992-02-15T00:00:00.000000000",
          "1992-02-22T00:00:00.000000000",
          "1992-02-29T00:00:00.000000000",
          "1992-03-07T00:00:00.000000000",
          "1992-03-14T00:00:00.000000000",
          "1992-03-21T00:00:00.000000000",
          "1992-03-28T00:00:00.000000000",
          "1992-04-04T00:00:00.000000000",
          "1992-04-11T00:00:00.000000000",
          "1992-04-18T00:00:00.000000000",
          "1992-04-25T00:00:00.000000000",
          "1992-05-02T00:00:00.000000000",
          "1992-05-09T00:00:00.000000000",
          "1992-05-16T00:00:00.000000000",
          "1992-05-23T00:00:00.000000000",
          "1992-05-30T00:00:00.000000000",
          "1992-06-06T00:00:00.000000000",
          "1992-06-13T00:00:00.000000000",
          "1992-06-20T00:00:00.000000000",
          "1992-06-27T00:00:00.000000000",
          "1992-07-04T00:00:00.000000000",
          "1992-07-11T00:00:00.000000000",
          "1992-07-18T00:00:00.000000000",
          "1992-07-25T00:00:00.000000000",
          "1992-08-01T00:00:00.000000000",
          "1992-08-08T00:00:00.000000000",
          "1992-08-15T00:00:00.000000000",
          "1992-08-22T00:00:00.000000000",
          "1992-08-29T00:00:00.000000000",
          "1992-09-05T00:00:00.000000000",
          "1992-09-12T00:00:00.000000000",
          "1992-09-19T00:00:00.000000000",
          "1992-09-26T00:00:00.000000000",
          "1992-10-03T00:00:00.000000000",
          "1992-10-10T00:00:00.000000000",
          "1992-10-17T00:00:00.000000000",
          "1992-10-24T00:00:00.000000000",
          "1992-10-31T00:00:00.000000000",
          "1992-11-07T00:00:00.000000000",
          "1992-11-14T00:00:00.000000000",
          "1992-11-21T00:00:00.000000000",
          "1992-11-28T00:00:00.000000000",
          "1992-12-05T00:00:00.000000000",
          "1992-12-12T00:00:00.000000000",
          "1992-12-19T00:00:00.000000000",
          "1992-12-26T00:00:00.000000000",
          "1993-01-02T00:00:00.000000000",
          "1993-01-09T00:00:00.000000000",
          "1993-01-16T00:00:00.000000000",
          "1993-01-23T00:00:00.000000000",
          "1993-01-30T00:00:00.000000000",
          "1993-02-06T00:00:00.000000000",
          "1993-02-13T00:00:00.000000000",
          "1993-02-20T00:00:00.000000000",
          "1993-02-27T00:00:00.000000000",
          "1993-03-06T00:00:00.000000000",
          "1993-03-13T00:00:00.000000000",
          "1993-03-20T00:00:00.000000000",
          "1993-03-27T00:00:00.000000000",
          "1993-04-03T00:00:00.000000000",
          "1993-04-10T00:00:00.000000000",
          "1993-04-17T00:00:00.000000000",
          "1993-04-24T00:00:00.000000000",
          "1993-05-01T00:00:00.000000000",
          "1993-05-08T00:00:00.000000000",
          "1993-05-15T00:00:00.000000000",
          "1993-05-22T00:00:00.000000000",
          "1993-05-29T00:00:00.000000000",
          "1993-06-05T00:00:00.000000000",
          "1993-06-12T00:00:00.000000000",
          "1993-06-19T00:00:00.000000000",
          "1993-06-26T00:00:00.000000000",
          "1993-07-03T00:00:00.000000000",
          "1993-07-10T00:00:00.000000000",
          "1993-07-17T00:00:00.000000000",
          "1993-07-24T00:00:00.000000000",
          "1993-07-31T00:00:00.000000000",
          "1993-08-07T00:00:00.000000000",
          "1993-08-14T00:00:00.000000000",
          "1993-08-21T00:00:00.000000000",
          "1993-08-28T00:00:00.000000000",
          "1993-09-04T00:00:00.000000000",
          "1993-09-11T00:00:00.000000000",
          "1993-09-18T00:00:00.000000000",
          "1993-09-25T00:00:00.000000000",
          "1993-10-02T00:00:00.000000000",
          "1993-10-09T00:00:00.000000000",
          "1993-10-16T00:00:00.000000000",
          "1993-10-23T00:00:00.000000000",
          "1993-10-30T00:00:00.000000000",
          "1993-11-06T00:00:00.000000000",
          "1993-11-13T00:00:00.000000000",
          "1993-11-20T00:00:00.000000000",
          "1993-11-27T00:00:00.000000000",
          "1993-12-04T00:00:00.000000000",
          "1993-12-11T00:00:00.000000000",
          "1993-12-18T00:00:00.000000000",
          "1993-12-25T00:00:00.000000000",
          "1994-01-01T00:00:00.000000000",
          "1994-01-08T00:00:00.000000000",
          "1994-01-15T00:00:00.000000000",
          "1994-01-22T00:00:00.000000000",
          "1994-01-29T00:00:00.000000000",
          "1994-02-05T00:00:00.000000000",
          "1994-02-12T00:00:00.000000000",
          "1994-02-19T00:00:00.000000000",
          "1994-02-26T00:00:00.000000000",
          "1994-03-05T00:00:00.000000000",
          "1994-03-12T00:00:00.000000000",
          "1994-03-19T00:00:00.000000000",
          "1994-03-26T00:00:00.000000000",
          "1994-04-02T00:00:00.000000000",
          "1994-04-09T00:00:00.000000000",
          "1994-04-16T00:00:00.000000000",
          "1994-04-23T00:00:00.000000000",
          "1994-04-30T00:00:00.000000000",
          "1994-05-07T00:00:00.000000000",
          "1994-05-14T00:00:00.000000000",
          "1994-05-21T00:00:00.000000000",
          "1994-05-28T00:00:00.000000000",
          "1994-06-04T00:00:00.000000000",
          "1994-06-11T00:00:00.000000000",
          "1994-06-18T00:00:00.000000000",
          "1994-06-25T00:00:00.000000000",
          "1994-07-02T00:00:00.000000000",
          "1994-07-09T00:00:00.000000000",
          "1994-07-16T00:00:00.000000000",
          "1994-07-23T00:00:00.000000000",
          "1994-07-30T00:00:00.000000000",
          "1994-08-06T00:00:00.000000000",
          "1994-08-13T00:00:00.000000000",
          "1994-08-20T00:00:00.000000000",
          "1994-08-27T00:00:00.000000000",
          "1994-09-03T00:00:00.000000000",
          "1994-09-10T00:00:00.000000000",
          "1994-09-17T00:00:00.000000000",
          "1994-09-24T00:00:00.000000000",
          "1994-10-01T00:00:00.000000000",
          "1994-10-08T00:00:00.000000000",
          "1994-10-15T00:00:00.000000000",
          "1994-10-22T00:00:00.000000000",
          "1994-10-29T00:00:00.000000000",
          "1994-11-05T00:00:00.000000000",
          "1994-11-12T00:00:00.000000000",
          "1994-11-19T00:00:00.000000000",
          "1994-11-26T00:00:00.000000000",
          "1994-12-03T00:00:00.000000000",
          "1994-12-10T00:00:00.000000000",
          "1994-12-17T00:00:00.000000000",
          "1994-12-24T00:00:00.000000000",
          "1994-12-31T00:00:00.000000000",
          "1995-01-07T00:00:00.000000000",
          "1995-01-14T00:00:00.000000000",
          "1995-01-21T00:00:00.000000000",
          "1995-01-28T00:00:00.000000000",
          "1995-02-04T00:00:00.000000000",
          "1995-02-11T00:00:00.000000000",
          "1995-02-18T00:00:00.000000000",
          "1995-02-25T00:00:00.000000000",
          "1995-03-04T00:00:00.000000000",
          "1995-03-11T00:00:00.000000000",
          "1995-03-18T00:00:00.000000000",
          "1995-03-25T00:00:00.000000000",
          "1995-04-01T00:00:00.000000000",
          "1995-04-08T00:00:00.000000000",
          "1995-04-15T00:00:00.000000000",
          "1995-04-22T00:00:00.000000000",
          "1995-04-29T00:00:00.000000000",
          "1995-05-06T00:00:00.000000000",
          "1995-05-13T00:00:00.000000000",
          "1995-05-20T00:00:00.000000000",
          "1995-05-27T00:00:00.000000000",
          "1995-06-03T00:00:00.000000000",
          "1995-06-10T00:00:00.000000000",
          "1995-06-17T00:00:00.000000000",
          "1995-06-24T00:00:00.000000000",
          "1995-07-01T00:00:00.000000000",
          "1995-07-08T00:00:00.000000000",
          "1995-07-15T00:00:00.000000000",
          "1995-07-22T00:00:00.000000000",
          "1995-07-29T00:00:00.000000000",
          "1995-08-05T00:00:00.000000000",
          "1995-08-12T00:00:00.000000000",
          "1995-08-19T00:00:00.000000000",
          "1995-08-26T00:00:00.000000000",
          "1995-09-02T00:00:00.000000000",
          "1995-09-09T00:00:00.000000000",
          "1995-09-16T00:00:00.000000000",
          "1995-09-23T00:00:00.000000000",
          "1995-09-30T00:00:00.000000000",
          "1995-10-07T00:00:00.000000000",
          "1995-10-14T00:00:00.000000000",
          "1995-10-21T00:00:00.000000000",
          "1995-10-28T00:00:00.000000000",
          "1995-11-04T00:00:00.000000000",
          "1995-11-11T00:00:00.000000000",
          "1995-11-18T00:00:00.000000000",
          "1995-11-25T00:00:00.000000000",
          "1995-12-02T00:00:00.000000000",
          "1995-12-09T00:00:00.000000000",
          "1995-12-16T00:00:00.000000000",
          "1995-12-23T00:00:00.000000000",
          "1995-12-30T00:00:00.000000000",
          "1996-01-06T00:00:00.000000000",
          "1996-01-13T00:00:00.000000000",
          "1996-01-20T00:00:00.000000000",
          "1996-01-27T00:00:00.000000000",
          "1996-02-03T00:00:00.000000000",
          "1996-02-10T00:00:00.000000000",
          "1996-02-17T00:00:00.000000000",
          "1996-02-24T00:00:00.000000000",
          "1996-03-02T00:00:00.000000000",
          "1996-03-09T00:00:00.000000000",
          "1996-03-16T00:00:00.000000000",
          "1996-03-23T00:00:00.000000000",
          "1996-03-30T00:00:00.000000000",
          "1996-04-06T00:00:00.000000000",
          "1996-04-13T00:00:00.000000000",
          "1996-04-20T00:00:00.000000000",
          "1996-04-27T00:00:00.000000000",
          "1996-05-04T00:00:00.000000000",
          "1996-05-11T00:00:00.000000000",
          "1996-05-18T00:00:00.000000000",
          "1996-05-25T00:00:00.000000000",
          "1996-06-01T00:00:00.000000000",
          "1996-06-08T00:00:00.000000000",
          "1996-06-15T00:00:00.000000000",
          "1996-06-22T00:00:00.000000000",
          "1996-06-29T00:00:00.000000000",
          "1996-07-06T00:00:00.000000000",
          "1996-07-13T00:00:00.000000000",
          "1996-07-20T00:00:00.000000000",
          "1996-07-27T00:00:00.000000000",
          "1996-08-03T00:00:00.000000000",
          "1996-08-10T00:00:00.000000000",
          "1996-08-17T00:00:00.000000000",
          "1996-08-24T00:00:00.000000000",
          "1996-08-31T00:00:00.000000000",
          "1996-09-07T00:00:00.000000000",
          "1996-09-14T00:00:00.000000000",
          "1996-09-21T00:00:00.000000000",
          "1996-09-28T00:00:00.000000000",
          "1996-10-05T00:00:00.000000000",
          "1996-10-12T00:00:00.000000000",
          "1996-10-19T00:00:00.000000000",
          "1996-10-26T00:00:00.000000000",
          "1996-11-02T00:00:00.000000000",
          "1996-11-09T00:00:00.000000000",
          "1996-11-16T00:00:00.000000000",
          "1996-11-23T00:00:00.000000000",
          "1996-11-30T00:00:00.000000000",
          "1996-12-07T00:00:00.000000000",
          "1996-12-14T00:00:00.000000000",
          "1996-12-21T00:00:00.000000000",
          "1996-12-28T00:00:00.000000000",
          "1997-01-04T00:00:00.000000000",
          "1997-01-11T00:00:00.000000000",
          "1997-01-18T00:00:00.000000000",
          "1997-01-25T00:00:00.000000000",
          "1997-02-01T00:00:00.000000000",
          "1997-02-08T00:00:00.000000000",
          "1997-02-15T00:00:00.000000000",
          "1997-02-22T00:00:00.000000000",
          "1997-03-01T00:00:00.000000000",
          "1997-03-08T00:00:00.000000000",
          "1997-03-15T00:00:00.000000000",
          "1997-03-22T00:00:00.000000000",
          "1997-03-29T00:00:00.000000000",
          "1997-04-05T00:00:00.000000000",
          "1997-04-12T00:00:00.000000000",
          "1997-04-19T00:00:00.000000000",
          "1997-04-26T00:00:00.000000000",
          "1997-05-03T00:00:00.000000000",
          "1997-05-10T00:00:00.000000000",
          "1997-05-17T00:00:00.000000000",
          "1997-05-24T00:00:00.000000000",
          "1997-05-31T00:00:00.000000000",
          "1997-06-07T00:00:00.000000000",
          "1997-06-14T00:00:00.000000000",
          "1997-06-21T00:00:00.000000000",
          "1997-06-28T00:00:00.000000000",
          "1997-07-05T00:00:00.000000000",
          "1997-07-12T00:00:00.000000000",
          "1997-07-19T00:00:00.000000000",
          "1997-07-26T00:00:00.000000000",
          "1997-08-02T00:00:00.000000000",
          "1997-08-09T00:00:00.000000000",
          "1997-08-16T00:00:00.000000000",
          "1997-08-23T00:00:00.000000000",
          "1997-08-30T00:00:00.000000000",
          "1997-09-06T00:00:00.000000000",
          "1997-09-13T00:00:00.000000000",
          "1997-09-20T00:00:00.000000000",
          "1997-09-27T00:00:00.000000000",
          "1997-10-04T00:00:00.000000000",
          "1997-10-11T00:00:00.000000000",
          "1997-10-18T00:00:00.000000000",
          "1997-10-25T00:00:00.000000000",
          "1997-11-01T00:00:00.000000000",
          "1997-11-08T00:00:00.000000000",
          "1997-11-15T00:00:00.000000000",
          "1997-11-22T00:00:00.000000000",
          "1997-11-29T00:00:00.000000000",
          "1997-12-06T00:00:00.000000000",
          "1997-12-13T00:00:00.000000000",
          "1997-12-20T00:00:00.000000000",
          "1997-12-27T00:00:00.000000000",
          "1998-01-03T00:00:00.000000000",
          "1998-01-10T00:00:00.000000000",
          "1998-01-17T00:00:00.000000000",
          "1998-01-24T00:00:00.000000000",
          "1998-01-31T00:00:00.000000000",
          "1998-02-07T00:00:00.000000000",
          "1998-02-14T00:00:00.000000000",
          "1998-02-21T00:00:00.000000000",
          "1998-02-28T00:00:00.000000000",
          "1998-03-07T00:00:00.000000000",
          "1998-03-14T00:00:00.000000000",
          "1998-03-21T00:00:00.000000000",
          "1998-03-28T00:00:00.000000000",
          "1998-04-04T00:00:00.000000000",
          "1998-04-11T00:00:00.000000000",
          "1998-04-18T00:00:00.000000000",
          "1998-04-25T00:00:00.000000000",
          "1998-05-02T00:00:00.000000000",
          "1998-05-09T00:00:00.000000000",
          "1998-05-16T00:00:00.000000000",
          "1998-05-23T00:00:00.000000000",
          "1998-05-30T00:00:00.000000000",
          "1998-06-06T00:00:00.000000000",
          "1998-06-13T00:00:00.000000000",
          "1998-06-20T00:00:00.000000000",
          "1998-06-27T00:00:00.000000000",
          "1998-07-04T00:00:00.000000000",
          "1998-07-11T00:00:00.000000000",
          "1998-07-18T00:00:00.000000000",
          "1998-07-25T00:00:00.000000000",
          "1998-08-01T00:00:00.000000000",
          "1998-08-08T00:00:00.000000000",
          "1998-08-15T00:00:00.000000000",
          "1998-08-22T00:00:00.000000000",
          "1998-08-29T00:00:00.000000000",
          "1998-09-05T00:00:00.000000000",
          "1998-09-12T00:00:00.000000000",
          "1998-09-19T00:00:00.000000000",
          "1998-09-26T00:00:00.000000000",
          "1998-10-03T00:00:00.000000000",
          "1998-10-10T00:00:00.000000000",
          "1998-10-17T00:00:00.000000000",
          "1998-10-24T00:00:00.000000000",
          "1998-10-31T00:00:00.000000000",
          "1998-11-07T00:00:00.000000000",
          "1998-11-14T00:00:00.000000000",
          "1998-11-21T00:00:00.000000000",
          "1998-11-28T00:00:00.000000000",
          "1998-12-05T00:00:00.000000000",
          "1998-12-12T00:00:00.000000000",
          "1998-12-19T00:00:00.000000000",
          "1998-12-26T00:00:00.000000000",
          "1999-01-02T00:00:00.000000000",
          "1999-01-09T00:00:00.000000000",
          "1999-01-16T00:00:00.000000000",
          "1999-01-23T00:00:00.000000000",
          "1999-01-30T00:00:00.000000000",
          "1999-02-06T00:00:00.000000000",
          "1999-02-13T00:00:00.000000000",
          "1999-02-20T00:00:00.000000000",
          "1999-02-27T00:00:00.000000000",
          "1999-03-06T00:00:00.000000000",
          "1999-03-13T00:00:00.000000000",
          "1999-03-20T00:00:00.000000000",
          "1999-03-27T00:00:00.000000000",
          "1999-04-03T00:00:00.000000000",
          "1999-04-10T00:00:00.000000000",
          "1999-04-17T00:00:00.000000000",
          "1999-04-24T00:00:00.000000000",
          "1999-05-01T00:00:00.000000000",
          "1999-05-08T00:00:00.000000000",
          "1999-05-15T00:00:00.000000000",
          "1999-05-22T00:00:00.000000000",
          "1999-05-29T00:00:00.000000000",
          "1999-06-05T00:00:00.000000000",
          "1999-06-12T00:00:00.000000000",
          "1999-06-19T00:00:00.000000000",
          "1999-06-26T00:00:00.000000000",
          "1999-07-03T00:00:00.000000000",
          "1999-07-10T00:00:00.000000000",
          "1999-07-17T00:00:00.000000000",
          "1999-07-24T00:00:00.000000000",
          "1999-07-31T00:00:00.000000000",
          "1999-08-07T00:00:00.000000000",
          "1999-08-14T00:00:00.000000000",
          "1999-08-21T00:00:00.000000000",
          "1999-08-28T00:00:00.000000000",
          "1999-09-04T00:00:00.000000000",
          "1999-09-11T00:00:00.000000000",
          "1999-09-18T00:00:00.000000000",
          "1999-09-25T00:00:00.000000000",
          "1999-10-02T00:00:00.000000000",
          "1999-10-09T00:00:00.000000000",
          "1999-10-16T00:00:00.000000000",
          "1999-10-23T00:00:00.000000000",
          "1999-10-30T00:00:00.000000000",
          "1999-11-06T00:00:00.000000000",
          "1999-11-13T00:00:00.000000000",
          "1999-11-20T00:00:00.000000000",
          "1999-11-27T00:00:00.000000000",
          "1999-12-04T00:00:00.000000000",
          "1999-12-11T00:00:00.000000000",
          "1999-12-18T00:00:00.000000000",
          "1999-12-25T00:00:00.000000000",
          "2000-01-01T00:00:00.000000000",
          "2000-01-08T00:00:00.000000000",
          "2000-01-15T00:00:00.000000000",
          "2000-01-22T00:00:00.000000000",
          "2000-01-29T00:00:00.000000000",
          "2000-02-05T00:00:00.000000000",
          "2000-02-12T00:00:00.000000000",
          "2000-02-19T00:00:00.000000000",
          "2000-02-26T00:00:00.000000000",
          "2000-03-04T00:00:00.000000000",
          "2000-03-11T00:00:00.000000000",
          "2000-03-18T00:00:00.000000000",
          "2000-03-25T00:00:00.000000000",
          "2000-04-01T00:00:00.000000000",
          "2000-04-08T00:00:00.000000000",
          "2000-04-15T00:00:00.000000000",
          "2000-04-22T00:00:00.000000000",
          "2000-04-29T00:00:00.000000000",
          "2000-05-06T00:00:00.000000000",
          "2000-05-13T00:00:00.000000000",
          "2000-05-20T00:00:00.000000000",
          "2000-05-27T00:00:00.000000000",
          "2000-06-03T00:00:00.000000000",
          "2000-06-10T00:00:00.000000000",
          "2000-06-17T00:00:00.000000000",
          "2000-06-24T00:00:00.000000000",
          "2000-07-01T00:00:00.000000000",
          "2000-07-08T00:00:00.000000000",
          "2000-07-15T00:00:00.000000000",
          "2000-07-22T00:00:00.000000000",
          "2000-07-29T00:00:00.000000000",
          "2000-08-05T00:00:00.000000000",
          "2000-08-12T00:00:00.000000000",
          "2000-08-19T00:00:00.000000000",
          "2000-08-26T00:00:00.000000000",
          "2000-09-02T00:00:00.000000000",
          "2000-09-09T00:00:00.000000000",
          "2000-09-16T00:00:00.000000000",
          "2000-09-23T00:00:00.000000000",
          "2000-09-30T00:00:00.000000000",
          "2000-10-07T00:00:00.000000000",
          "2000-10-14T00:00:00.000000000",
          "2000-10-21T00:00:00.000000000",
          "2000-10-28T00:00:00.000000000",
          "2000-11-04T00:00:00.000000000",
          "2000-11-11T00:00:00.000000000",
          "2000-11-18T00:00:00.000000000",
          "2000-11-25T00:00:00.000000000",
          "2000-12-02T00:00:00.000000000",
          "2000-12-09T00:00:00.000000000",
          "2000-12-16T00:00:00.000000000",
          "2000-12-23T00:00:00.000000000",
          "2000-12-30T00:00:00.000000000",
          "2001-01-06T00:00:00.000000000",
          "2001-01-13T00:00:00.000000000",
          "2001-01-20T00:00:00.000000000",
          "2001-01-27T00:00:00.000000000",
          "2001-02-03T00:00:00.000000000",
          "2001-02-10T00:00:00.000000000",
          "2001-02-17T00:00:00.000000000",
          "2001-02-24T00:00:00.000000000",
          "2001-03-03T00:00:00.000000000",
          "2001-03-10T00:00:00.000000000",
          "2001-03-17T00:00:00.000000000",
          "2001-03-24T00:00:00.000000000",
          "2001-03-31T00:00:00.000000000",
          "2001-04-07T00:00:00.000000000",
          "2001-04-14T00:00:00.000000000",
          "2001-04-21T00:00:00.000000000",
          "2001-04-28T00:00:00.000000000",
          "2001-05-05T00:00:00.000000000",
          "2001-05-12T00:00:00.000000000",
          "2001-05-19T00:00:00.000000000",
          "2001-05-26T00:00:00.000000000",
          "2001-06-02T00:00:00.000000000",
          "2001-06-09T00:00:00.000000000",
          "2001-06-16T00:00:00.000000000",
          "2001-06-23T00:00:00.000000000",
          "2001-06-30T00:00:00.000000000",
          "2001-07-07T00:00:00.000000000",
          "2001-07-14T00:00:00.000000000",
          "2001-07-21T00:00:00.000000000",
          "2001-07-28T00:00:00.000000000",
          "2001-08-04T00:00:00.000000000",
          "2001-08-11T00:00:00.000000000",
          "2001-08-18T00:00:00.000000000",
          "2001-08-25T00:00:00.000000000",
          "2001-09-01T00:00:00.000000000",
          "2001-09-08T00:00:00.000000000",
          "2001-09-15T00:00:00.000000000",
          "2001-09-22T00:00:00.000000000",
          "2001-09-29T00:00:00.000000000",
          "2001-10-06T00:00:00.000000000",
          "2001-10-13T00:00:00.000000000",
          "2001-10-20T00:00:00.000000000",
          "2001-10-27T00:00:00.000000000",
          "2001-11-03T00:00:00.000000000",
          "2001-11-10T00:00:00.000000000",
          "2001-11-17T00:00:00.000000000",
          "2001-11-24T00:00:00.000000000",
          "2001-12-01T00:00:00.000000000",
          "2001-12-08T00:00:00.000000000",
          "2001-12-15T00:00:00.000000000",
          "2001-12-22T00:00:00.000000000",
          "2001-12-29T00:00:00.000000000",
          "2002-01-05T00:00:00.000000000",
          "2002-01-12T00:00:00.000000000",
          "2002-01-19T00:00:00.000000000",
          "2002-01-26T00:00:00.000000000",
          "2002-02-02T00:00:00.000000000",
          "2002-02-09T00:00:00.000000000",
          "2002-02-16T00:00:00.000000000",
          "2002-02-23T00:00:00.000000000",
          "2002-03-02T00:00:00.000000000",
          "2002-03-09T00:00:00.000000000",
          "2002-03-16T00:00:00.000000000",
          "2002-03-23T00:00:00.000000000",
          "2002-03-30T00:00:00.000000000",
          "2002-04-06T00:00:00.000000000",
          "2002-04-13T00:00:00.000000000",
          "2002-04-20T00:00:00.000000000",
          "2002-04-27T00:00:00.000000000",
          "2002-05-04T00:00:00.000000000",
          "2002-05-11T00:00:00.000000000",
          "2002-05-18T00:00:00.000000000",
          "2002-05-25T00:00:00.000000000",
          "2002-06-01T00:00:00.000000000",
          "2002-06-08T00:00:00.000000000",
          "2002-06-15T00:00:00.000000000",
          "2002-06-22T00:00:00.000000000",
          "2002-06-29T00:00:00.000000000",
          "2002-07-06T00:00:00.000000000",
          "2002-07-13T00:00:00.000000000",
          "2002-07-20T00:00:00.000000000",
          "2002-07-27T00:00:00.000000000",
          "2002-08-03T00:00:00.000000000",
          "2002-08-10T00:00:00.000000000",
          "2002-08-17T00:00:00.000000000",
          "2002-08-24T00:00:00.000000000",
          "2002-08-31T00:00:00.000000000",
          "2002-09-07T00:00:00.000000000",
          "2002-09-14T00:00:00.000000000",
          "2002-09-21T00:00:00.000000000",
          "2002-09-28T00:00:00.000000000",
          "2002-10-05T00:00:00.000000000",
          "2002-10-12T00:00:00.000000000",
          "2002-10-19T00:00:00.000000000",
          "2002-10-26T00:00:00.000000000",
          "2002-11-02T00:00:00.000000000",
          "2002-11-09T00:00:00.000000000",
          "2002-11-16T00:00:00.000000000",
          "2002-11-23T00:00:00.000000000",
          "2002-11-30T00:00:00.000000000",
          "2002-12-07T00:00:00.000000000",
          "2002-12-14T00:00:00.000000000",
          "2002-12-21T00:00:00.000000000",
          "2002-12-28T00:00:00.000000000",
          "2003-01-04T00:00:00.000000000",
          "2003-01-11T00:00:00.000000000",
          "2003-01-18T00:00:00.000000000",
          "2003-01-25T00:00:00.000000000",
          "2003-02-01T00:00:00.000000000",
          "2003-02-08T00:00:00.000000000",
          "2003-02-15T00:00:00.000000000",
          "2003-02-22T00:00:00.000000000",
          "2003-03-01T00:00:00.000000000",
          "2003-03-08T00:00:00.000000000",
          "2003-03-15T00:00:00.000000000",
          "2003-03-22T00:00:00.000000000",
          "2003-03-29T00:00:00.000000000",
          "2003-04-05T00:00:00.000000000",
          "2003-04-12T00:00:00.000000000",
          "2003-04-19T00:00:00.000000000",
          "2003-04-26T00:00:00.000000000",
          "2003-05-03T00:00:00.000000000",
          "2003-05-10T00:00:00.000000000",
          "2003-05-17T00:00:00.000000000",
          "2003-05-24T00:00:00.000000000",
          "2003-05-31T00:00:00.000000000",
          "2003-06-07T00:00:00.000000000",
          "2003-06-14T00:00:00.000000000",
          "2003-06-21T00:00:00.000000000",
          "2003-06-28T00:00:00.000000000",
          "2003-07-05T00:00:00.000000000",
          "2003-07-12T00:00:00.000000000",
          "2003-07-19T00:00:00.000000000",
          "2003-07-26T00:00:00.000000000",
          "2003-08-02T00:00:00.000000000",
          "2003-08-09T00:00:00.000000000",
          "2003-08-16T00:00:00.000000000",
          "2003-08-23T00:00:00.000000000",
          "2003-08-30T00:00:00.000000000",
          "2003-09-06T00:00:00.000000000",
          "2003-09-13T00:00:00.000000000",
          "2003-09-20T00:00:00.000000000",
          "2003-09-27T00:00:00.000000000",
          "2003-10-04T00:00:00.000000000",
          "2003-10-11T00:00:00.000000000",
          "2003-10-18T00:00:00.000000000",
          "2003-10-25T00:00:00.000000000",
          "2003-11-01T00:00:00.000000000",
          "2003-11-08T00:00:00.000000000",
          "2003-11-15T00:00:00.000000000",
          "2003-11-22T00:00:00.000000000",
          "2003-11-29T00:00:00.000000000",
          "2003-12-06T00:00:00.000000000",
          "2003-12-13T00:00:00.000000000",
          "2003-12-20T00:00:00.000000000",
          "2003-12-27T00:00:00.000000000",
          "2004-01-03T00:00:00.000000000",
          "2004-01-10T00:00:00.000000000",
          "2004-01-17T00:00:00.000000000",
          "2004-01-24T00:00:00.000000000",
          "2004-01-31T00:00:00.000000000",
          "2004-02-07T00:00:00.000000000",
          "2004-02-14T00:00:00.000000000",
          "2004-02-21T00:00:00.000000000",
          "2004-02-28T00:00:00.000000000",
          "2004-03-06T00:00:00.000000000",
          "2004-03-13T00:00:00.000000000",
          "2004-03-20T00:00:00.000000000",
          "2004-03-27T00:00:00.000000000",
          "2004-04-03T00:00:00.000000000",
          "2004-04-10T00:00:00.000000000",
          "2004-04-17T00:00:00.000000000",
          "2004-04-24T00:00:00.000000000",
          "2004-05-01T00:00:00.000000000",
          "2004-05-08T00:00:00.000000000",
          "2004-05-15T00:00:00.000000000",
          "2004-05-22T00:00:00.000000000",
          "2004-05-29T00:00:00.000000000",
          "2004-06-05T00:00:00.000000000",
          "2004-06-12T00:00:00.000000000",
          "2004-06-19T00:00:00.000000000",
          "2004-06-26T00:00:00.000000000",
          "2004-07-03T00:00:00.000000000",
          "2004-07-10T00:00:00.000000000",
          "2004-07-17T00:00:00.000000000",
          "2004-07-24T00:00:00.000000000",
          "2004-07-31T00:00:00.000000000",
          "2004-08-07T00:00:00.000000000",
          "2004-08-14T00:00:00.000000000",
          "2004-08-21T00:00:00.000000000",
          "2004-08-28T00:00:00.000000000",
          "2004-09-04T00:00:00.000000000",
          "2004-09-11T00:00:00.000000000",
          "2004-09-18T00:00:00.000000000",
          "2004-09-25T00:00:00.000000000",
          "2004-10-02T00:00:00.000000000",
          "2004-10-09T00:00:00.000000000",
          "2004-10-16T00:00:00.000000000",
          "2004-10-23T00:00:00.000000000",
          "2004-10-30T00:00:00.000000000",
          "2004-11-06T00:00:00.000000000",
          "2004-11-13T00:00:00.000000000",
          "2004-11-20T00:00:00.000000000",
          "2004-11-27T00:00:00.000000000",
          "2004-12-04T00:00:00.000000000",
          "2004-12-11T00:00:00.000000000",
          "2004-12-18T00:00:00.000000000",
          "2004-12-25T00:00:00.000000000",
          "2005-01-01T00:00:00.000000000",
          "2005-01-08T00:00:00.000000000",
          "2005-01-15T00:00:00.000000000",
          "2005-01-22T00:00:00.000000000",
          "2005-01-29T00:00:00.000000000",
          "2005-02-05T00:00:00.000000000",
          "2005-02-12T00:00:00.000000000",
          "2005-02-19T00:00:00.000000000",
          "2005-02-26T00:00:00.000000000",
          "2005-03-05T00:00:00.000000000",
          "2005-03-12T00:00:00.000000000",
          "2005-03-19T00:00:00.000000000",
          "2005-03-26T00:00:00.000000000",
          "2005-04-02T00:00:00.000000000",
          "2005-04-09T00:00:00.000000000",
          "2005-04-16T00:00:00.000000000",
          "2005-04-23T00:00:00.000000000",
          "2005-04-30T00:00:00.000000000",
          "2005-05-07T00:00:00.000000000",
          "2005-05-14T00:00:00.000000000",
          "2005-05-21T00:00:00.000000000",
          "2005-05-28T00:00:00.000000000",
          "2005-06-04T00:00:00.000000000",
          "2005-06-11T00:00:00.000000000",
          "2005-06-18T00:00:00.000000000",
          "2005-06-25T00:00:00.000000000",
          "2005-07-02T00:00:00.000000000",
          "2005-07-09T00:00:00.000000000",
          "2005-07-16T00:00:00.000000000",
          "2005-07-23T00:00:00.000000000",
          "2005-07-30T00:00:00.000000000",
          "2005-08-06T00:00:00.000000000",
          "2005-08-13T00:00:00.000000000",
          "2005-08-20T00:00:00.000000000",
          "2005-08-27T00:00:00.000000000",
          "2005-09-03T00:00:00.000000000",
          "2005-09-10T00:00:00.000000000",
          "2005-09-17T00:00:00.000000000",
          "2005-09-24T00:00:00.000000000",
          "2005-10-01T00:00:00.000000000",
          "2005-10-08T00:00:00.000000000",
          "2005-10-15T00:00:00.000000000",
          "2005-10-22T00:00:00.000000000",
          "2005-10-29T00:00:00.000000000",
          "2005-11-05T00:00:00.000000000",
          "2005-11-12T00:00:00.000000000",
          "2005-11-19T00:00:00.000000000",
          "2005-11-26T00:00:00.000000000",
          "2005-12-03T00:00:00.000000000",
          "2005-12-10T00:00:00.000000000",
          "2005-12-17T00:00:00.000000000",
          "2005-12-24T00:00:00.000000000",
          "2005-12-31T00:00:00.000000000",
          "2006-01-07T00:00:00.000000000",
          "2006-01-14T00:00:00.000000000",
          "2006-01-21T00:00:00.000000000",
          "2006-01-28T00:00:00.000000000",
          "2006-02-04T00:00:00.000000000",
          "2006-02-11T00:00:00.000000000",
          "2006-02-18T00:00:00.000000000",
          "2006-02-25T00:00:00.000000000",
          "2006-03-04T00:00:00.000000000",
          "2006-03-11T00:00:00.000000000",
          "2006-03-18T00:00:00.000000000",
          "2006-03-25T00:00:00.000000000",
          "2006-04-01T00:00:00.000000000",
          "2006-04-08T00:00:00.000000000",
          "2006-04-15T00:00:00.000000000",
          "2006-04-22T00:00:00.000000000",
          "2006-04-29T00:00:00.000000000",
          "2006-05-06T00:00:00.000000000",
          "2006-05-13T00:00:00.000000000",
          "2006-05-20T00:00:00.000000000",
          "2006-05-27T00:00:00.000000000",
          "2006-06-03T00:00:00.000000000",
          "2006-06-10T00:00:00.000000000",
          "2006-06-17T00:00:00.000000000",
          "2006-06-24T00:00:00.000000000",
          "2006-07-01T00:00:00.000000000",
          "2006-07-08T00:00:00.000000000",
          "2006-07-15T00:00:00.000000000",
          "2006-07-22T00:00:00.000000000",
          "2006-07-29T00:00:00.000000000",
          "2006-08-05T00:00:00.000000000",
          "2006-08-12T00:00:00.000000000",
          "2006-08-19T00:00:00.000000000",
          "2006-08-26T00:00:00.000000000",
          "2006-09-02T00:00:00.000000000",
          "2006-09-09T00:00:00.000000000",
          "2006-09-16T00:00:00.000000000",
          "2006-09-23T00:00:00.000000000",
          "2006-09-30T00:00:00.000000000",
          "2006-10-07T00:00:00.000000000",
          "2006-10-14T00:00:00.000000000",
          "2006-10-21T00:00:00.000000000",
          "2006-10-28T00:00:00.000000000",
          "2006-11-04T00:00:00.000000000",
          "2006-11-11T00:00:00.000000000",
          "2006-11-18T00:00:00.000000000",
          "2006-11-25T00:00:00.000000000",
          "2006-12-02T00:00:00.000000000",
          "2006-12-09T00:00:00.000000000",
          "2006-12-16T00:00:00.000000000",
          "2006-12-23T00:00:00.000000000",
          "2006-12-30T00:00:00.000000000",
          "2007-01-06T00:00:00.000000000",
          "2007-01-13T00:00:00.000000000",
          "2007-01-20T00:00:00.000000000",
          "2007-01-27T00:00:00.000000000",
          "2007-02-03T00:00:00.000000000",
          "2007-02-10T00:00:00.000000000",
          "2007-02-17T00:00:00.000000000",
          "2007-02-24T00:00:00.000000000",
          "2007-03-03T00:00:00.000000000",
          "2007-03-10T00:00:00.000000000",
          "2007-03-17T00:00:00.000000000",
          "2007-03-24T00:00:00.000000000",
          "2007-03-31T00:00:00.000000000",
          "2007-04-07T00:00:00.000000000",
          "2007-04-14T00:00:00.000000000",
          "2007-04-21T00:00:00.000000000",
          "2007-04-28T00:00:00.000000000",
          "2007-05-05T00:00:00.000000000",
          "2007-05-12T00:00:00.000000000",
          "2007-05-19T00:00:00.000000000",
          "2007-05-26T00:00:00.000000000",
          "2007-06-02T00:00:00.000000000",
          "2007-06-09T00:00:00.000000000",
          "2007-06-16T00:00:00.000000000",
          "2007-06-23T00:00:00.000000000",
          "2007-06-30T00:00:00.000000000",
          "2007-07-07T00:00:00.000000000",
          "2007-07-14T00:00:00.000000000",
          "2007-07-21T00:00:00.000000000",
          "2007-07-28T00:00:00.000000000",
          "2007-08-04T00:00:00.000000000",
          "2007-08-11T00:00:00.000000000",
          "2007-08-18T00:00:00.000000000",
          "2007-08-25T00:00:00.000000000",
          "2007-09-01T00:00:00.000000000",
          "2007-09-08T00:00:00.000000000",
          "2007-09-15T00:00:00.000000000",
          "2007-09-22T00:00:00.000000000",
          "2007-09-29T00:00:00.000000000",
          "2007-10-06T00:00:00.000000000",
          "2007-10-13T00:00:00.000000000",
          "2007-10-20T00:00:00.000000000",
          "2007-10-27T00:00:00.000000000",
          "2007-11-03T00:00:00.000000000",
          "2007-11-10T00:00:00.000000000",
          "2007-11-17T00:00:00.000000000",
          "2007-11-24T00:00:00.000000000",
          "2007-12-01T00:00:00.000000000",
          "2007-12-08T00:00:00.000000000",
          "2007-12-15T00:00:00.000000000",
          "2007-12-22T00:00:00.000000000",
          "2007-12-29T00:00:00.000000000",
          "2008-01-05T00:00:00.000000000",
          "2008-01-12T00:00:00.000000000",
          "2008-01-19T00:00:00.000000000",
          "2008-01-26T00:00:00.000000000",
          "2008-02-02T00:00:00.000000000",
          "2008-02-09T00:00:00.000000000",
          "2008-02-16T00:00:00.000000000",
          "2008-02-23T00:00:00.000000000",
          "2008-03-01T00:00:00.000000000",
          "2008-03-08T00:00:00.000000000",
          "2008-03-15T00:00:00.000000000",
          "2008-03-22T00:00:00.000000000",
          "2008-03-29T00:00:00.000000000",
          "2008-04-05T00:00:00.000000000",
          "2008-04-12T00:00:00.000000000",
          "2008-04-19T00:00:00.000000000",
          "2008-04-26T00:00:00.000000000",
          "2008-05-03T00:00:00.000000000",
          "2008-05-10T00:00:00.000000000",
          "2008-05-17T00:00:00.000000000",
          "2008-05-24T00:00:00.000000000",
          "2008-05-31T00:00:00.000000000",
          "2008-06-07T00:00:00.000000000",
          "2008-06-14T00:00:00.000000000",
          "2008-06-21T00:00:00.000000000",
          "2008-06-28T00:00:00.000000000",
          "2008-07-05T00:00:00.000000000",
          "2008-07-12T00:00:00.000000000",
          "2008-07-19T00:00:00.000000000",
          "2008-07-26T00:00:00.000000000",
          "2008-08-02T00:00:00.000000000",
          "2008-08-09T00:00:00.000000000",
          "2008-08-16T00:00:00.000000000",
          "2008-08-23T00:00:00.000000000",
          "2008-08-30T00:00:00.000000000",
          "2008-09-06T00:00:00.000000000",
          "2008-09-13T00:00:00.000000000",
          "2008-09-20T00:00:00.000000000",
          "2008-09-27T00:00:00.000000000",
          "2008-10-04T00:00:00.000000000",
          "2008-10-11T00:00:00.000000000",
          "2008-10-18T00:00:00.000000000",
          "2008-10-25T00:00:00.000000000",
          "2008-11-01T00:00:00.000000000",
          "2008-11-08T00:00:00.000000000",
          "2008-11-15T00:00:00.000000000",
          "2008-11-22T00:00:00.000000000",
          "2008-11-29T00:00:00.000000000",
          "2008-12-06T00:00:00.000000000",
          "2008-12-13T00:00:00.000000000",
          "2008-12-20T00:00:00.000000000",
          "2008-12-27T00:00:00.000000000",
          "2009-01-03T00:00:00.000000000",
          "2009-01-10T00:00:00.000000000",
          "2009-01-17T00:00:00.000000000",
          "2009-01-24T00:00:00.000000000",
          "2009-01-31T00:00:00.000000000",
          "2009-02-07T00:00:00.000000000",
          "2009-02-14T00:00:00.000000000",
          "2009-02-21T00:00:00.000000000",
          "2009-02-28T00:00:00.000000000",
          "2009-03-07T00:00:00.000000000",
          "2009-03-14T00:00:00.000000000",
          "2009-03-21T00:00:00.000000000",
          "2009-03-28T00:00:00.000000000",
          "2009-04-04T00:00:00.000000000",
          "2009-04-11T00:00:00.000000000",
          "2009-04-18T00:00:00.000000000",
          "2009-04-25T00:00:00.000000000",
          "2009-05-02T00:00:00.000000000",
          "2009-05-09T00:00:00.000000000",
          "2009-05-16T00:00:00.000000000",
          "2009-05-23T00:00:00.000000000",
          "2009-05-30T00:00:00.000000000",
          "2009-06-06T00:00:00.000000000",
          "2009-06-13T00:00:00.000000000",
          "2009-06-20T00:00:00.000000000",
          "2009-06-27T00:00:00.000000000",
          "2009-07-04T00:00:00.000000000",
          "2009-07-11T00:00:00.000000000",
          "2009-07-18T00:00:00.000000000",
          "2009-07-25T00:00:00.000000000",
          "2009-08-01T00:00:00.000000000",
          "2009-08-08T00:00:00.000000000",
          "2009-08-15T00:00:00.000000000",
          "2009-08-22T00:00:00.000000000",
          "2009-08-29T00:00:00.000000000",
          "2009-09-05T00:00:00.000000000",
          "2009-09-12T00:00:00.000000000",
          "2009-09-19T00:00:00.000000000",
          "2009-09-26T00:00:00.000000000",
          "2009-10-03T00:00:00.000000000",
          "2009-10-10T00:00:00.000000000",
          "2009-10-17T00:00:00.000000000",
          "2009-10-24T00:00:00.000000000",
          "2009-10-31T00:00:00.000000000",
          "2009-11-07T00:00:00.000000000",
          "2009-11-14T00:00:00.000000000",
          "2009-11-21T00:00:00.000000000",
          "2009-11-28T00:00:00.000000000",
          "2009-12-05T00:00:00.000000000",
          "2009-12-12T00:00:00.000000000",
          "2009-12-19T00:00:00.000000000",
          "2009-12-26T00:00:00.000000000",
          "2010-01-02T00:00:00.000000000",
          "2010-01-09T00:00:00.000000000",
          "2010-01-16T00:00:00.000000000",
          "2010-01-23T00:00:00.000000000",
          "2010-01-30T00:00:00.000000000",
          "2010-02-06T00:00:00.000000000",
          "2010-02-13T00:00:00.000000000",
          "2010-02-20T00:00:00.000000000",
          "2010-02-27T00:00:00.000000000",
          "2010-03-06T00:00:00.000000000",
          "2010-03-13T00:00:00.000000000",
          "2010-03-20T00:00:00.000000000",
          "2010-03-27T00:00:00.000000000",
          "2010-04-03T00:00:00.000000000",
          "2010-04-10T00:00:00.000000000",
          "2010-04-17T00:00:00.000000000",
          "2010-04-24T00:00:00.000000000",
          "2010-05-01T00:00:00.000000000",
          "2010-05-08T00:00:00.000000000",
          "2010-05-15T00:00:00.000000000",
          "2010-05-22T00:00:00.000000000",
          "2010-05-29T00:00:00.000000000",
          "2010-06-05T00:00:00.000000000",
          "2010-06-12T00:00:00.000000000",
          "2010-06-19T00:00:00.000000000",
          "2010-06-26T00:00:00.000000000",
          "2010-07-03T00:00:00.000000000",
          "2010-07-10T00:00:00.000000000",
          "2010-07-17T00:00:00.000000000",
          "2010-07-24T00:00:00.000000000",
          "2010-07-31T00:00:00.000000000",
          "2010-08-07T00:00:00.000000000",
          "2010-08-14T00:00:00.000000000",
          "2010-08-21T00:00:00.000000000",
          "2010-08-28T00:00:00.000000000",
          "2010-09-04T00:00:00.000000000",
          "2010-09-11T00:00:00.000000000",
          "2010-09-18T00:00:00.000000000",
          "2010-09-25T00:00:00.000000000",
          "2010-10-02T00:00:00.000000000",
          "2010-10-09T00:00:00.000000000",
          "2010-10-16T00:00:00.000000000",
          "2010-10-23T00:00:00.000000000",
          "2010-10-30T00:00:00.000000000",
          "2010-11-06T00:00:00.000000000",
          "2010-11-13T00:00:00.000000000",
          "2010-11-20T00:00:00.000000000",
          "2010-11-27T00:00:00.000000000",
          "2010-12-04T00:00:00.000000000",
          "2010-12-11T00:00:00.000000000",
          "2010-12-18T00:00:00.000000000",
          "2010-12-25T00:00:00.000000000",
          "2011-01-01T00:00:00.000000000",
          "2011-01-08T00:00:00.000000000",
          "2011-01-15T00:00:00.000000000",
          "2011-01-22T00:00:00.000000000",
          "2011-01-29T00:00:00.000000000",
          "2011-02-05T00:00:00.000000000",
          "2011-02-12T00:00:00.000000000",
          "2011-02-19T00:00:00.000000000",
          "2011-02-26T00:00:00.000000000",
          "2011-03-05T00:00:00.000000000",
          "2011-03-12T00:00:00.000000000",
          "2011-03-19T00:00:00.000000000",
          "2011-03-26T00:00:00.000000000",
          "2011-04-02T00:00:00.000000000",
          "2011-04-09T00:00:00.000000000",
          "2011-04-16T00:00:00.000000000",
          "2011-04-23T00:00:00.000000000",
          "2011-04-30T00:00:00.000000000",
          "2011-05-07T00:00:00.000000000",
          "2011-05-14T00:00:00.000000000",
          "2011-05-21T00:00:00.000000000",
          "2011-05-28T00:00:00.000000000",
          "2011-06-04T00:00:00.000000000",
          "2011-06-11T00:00:00.000000000",
          "2011-06-18T00:00:00.000000000",
          "2011-06-25T00:00:00.000000000",
          "2011-07-02T00:00:00.000000000",
          "2011-07-09T00:00:00.000000000",
          "2011-07-16T00:00:00.000000000",
          "2011-07-23T00:00:00.000000000",
          "2011-07-30T00:00:00.000000000",
          "2011-08-06T00:00:00.000000000",
          "2011-08-13T00:00:00.000000000",
          "2011-08-20T00:00:00.000000000",
          "2011-08-27T00:00:00.000000000",
          "2011-09-03T00:00:00.000000000",
          "2011-09-10T00:00:00.000000000",
          "2011-09-17T00:00:00.000000000",
          "2011-09-24T00:00:00.000000000",
          "2011-10-01T00:00:00.000000000",
          "2011-10-08T00:00:00.000000000",
          "2011-10-15T00:00:00.000000000",
          "2011-10-22T00:00:00.000000000",
          "2011-10-29T00:00:00.000000000",
          "2011-11-05T00:00:00.000000000",
          "2011-11-12T00:00:00.000000000",
          "2011-11-19T00:00:00.000000000",
          "2011-11-26T00:00:00.000000000",
          "2011-12-03T00:00:00.000000000",
          "2011-12-10T00:00:00.000000000",
          "2011-12-17T00:00:00.000000000",
          "2011-12-24T00:00:00.000000000",
          "2011-12-31T00:00:00.000000000",
          "2012-01-07T00:00:00.000000000",
          "2012-01-14T00:00:00.000000000",
          "2012-01-21T00:00:00.000000000",
          "2012-01-28T00:00:00.000000000",
          "2012-02-04T00:00:00.000000000",
          "2012-02-11T00:00:00.000000000",
          "2012-02-18T00:00:00.000000000",
          "2012-02-25T00:00:00.000000000",
          "2012-03-03T00:00:00.000000000",
          "2012-03-10T00:00:00.000000000",
          "2012-03-17T00:00:00.000000000",
          "2012-03-24T00:00:00.000000000",
          "2012-03-31T00:00:00.000000000",
          "2012-04-07T00:00:00.000000000",
          "2012-04-14T00:00:00.000000000",
          "2012-04-21T00:00:00.000000000",
          "2012-04-28T00:00:00.000000000",
          "2012-05-05T00:00:00.000000000",
          "2012-05-12T00:00:00.000000000",
          "2012-05-19T00:00:00.000000000",
          "2012-05-26T00:00:00.000000000",
          "2012-06-02T00:00:00.000000000",
          "2012-06-09T00:00:00.000000000",
          "2012-06-16T00:00:00.000000000",
          "2012-06-23T00:00:00.000000000",
          "2012-06-30T00:00:00.000000000",
          "2012-07-07T00:00:00.000000000",
          "2012-07-14T00:00:00.000000000",
          "2012-07-21T00:00:00.000000000",
          "2012-07-28T00:00:00.000000000",
          "2012-08-04T00:00:00.000000000",
          "2012-08-11T00:00:00.000000000",
          "2012-08-18T00:00:00.000000000",
          "2012-08-25T00:00:00.000000000",
          "2012-09-01T00:00:00.000000000",
          "2012-09-08T00:00:00.000000000",
          "2012-09-15T00:00:00.000000000",
          "2012-09-22T00:00:00.000000000",
          "2012-09-29T00:00:00.000000000",
          "2012-10-06T00:00:00.000000000",
          "2012-10-13T00:00:00.000000000",
          "2012-10-20T00:00:00.000000000",
          "2012-10-27T00:00:00.000000000",
          "2012-11-03T00:00:00.000000000",
          "2012-11-10T00:00:00.000000000",
          "2012-11-17T00:00:00.000000000",
          "2012-11-24T00:00:00.000000000",
          "2012-12-01T00:00:00.000000000",
          "2012-12-08T00:00:00.000000000",
          "2012-12-15T00:00:00.000000000",
          "2012-12-22T00:00:00.000000000",
          "2012-12-29T00:00:00.000000000",
          "2013-01-05T00:00:00.000000000",
          "2013-01-12T00:00:00.000000000",
          "2013-01-19T00:00:00.000000000",
          "2013-01-26T00:00:00.000000000",
          "2013-02-02T00:00:00.000000000",
          "2013-02-09T00:00:00.000000000",
          "2013-02-16T00:00:00.000000000",
          "2013-02-23T00:00:00.000000000",
          "2013-03-02T00:00:00.000000000",
          "2013-03-09T00:00:00.000000000",
          "2013-03-16T00:00:00.000000000",
          "2013-03-23T00:00:00.000000000",
          "2013-03-30T00:00:00.000000000",
          "2013-04-06T00:00:00.000000000",
          "2013-04-13T00:00:00.000000000",
          "2013-04-20T00:00:00.000000000",
          "2013-04-27T00:00:00.000000000",
          "2013-05-04T00:00:00.000000000",
          "2013-05-11T00:00:00.000000000",
          "2013-05-18T00:00:00.000000000",
          "2013-05-25T00:00:00.000000000",
          "2013-06-01T00:00:00.000000000",
          "2013-06-08T00:00:00.000000000",
          "2013-06-15T00:00:00.000000000",
          "2013-06-22T00:00:00.000000000",
          "2013-06-29T00:00:00.000000000",
          "2013-07-06T00:00:00.000000000",
          "2013-07-13T00:00:00.000000000",
          "2013-07-20T00:00:00.000000000",
          "2013-07-27T00:00:00.000000000",
          "2013-08-03T00:00:00.000000000",
          "2013-08-10T00:00:00.000000000",
          "2013-08-17T00:00:00.000000000",
          "2013-08-24T00:00:00.000000000",
          "2013-08-31T00:00:00.000000000",
          "2013-09-07T00:00:00.000000000",
          "2013-09-14T00:00:00.000000000",
          "2013-09-21T00:00:00.000000000",
          "2013-09-28T00:00:00.000000000",
          "2013-10-05T00:00:00.000000000",
          "2013-10-12T00:00:00.000000000",
          "2013-10-19T00:00:00.000000000",
          "2013-10-26T00:00:00.000000000",
          "2013-11-02T00:00:00.000000000",
          "2013-11-09T00:00:00.000000000",
          "2013-11-16T00:00:00.000000000",
          "2013-11-23T00:00:00.000000000",
          "2013-11-30T00:00:00.000000000",
          "2013-12-07T00:00:00.000000000",
          "2013-12-14T00:00:00.000000000",
          "2013-12-21T00:00:00.000000000",
          "2013-12-28T00:00:00.000000000",
          "2014-01-04T00:00:00.000000000",
          "2014-01-11T00:00:00.000000000",
          "2014-01-18T00:00:00.000000000",
          "2014-01-25T00:00:00.000000000",
          "2014-02-01T00:00:00.000000000",
          "2014-02-08T00:00:00.000000000",
          "2014-02-15T00:00:00.000000000",
          "2014-02-22T00:00:00.000000000",
          "2014-03-01T00:00:00.000000000",
          "2014-03-08T00:00:00.000000000",
          "2014-03-15T00:00:00.000000000",
          "2014-03-22T00:00:00.000000000",
          "2014-03-29T00:00:00.000000000",
          "2014-04-05T00:00:00.000000000",
          "2014-04-12T00:00:00.000000000",
          "2014-04-19T00:00:00.000000000",
          "2014-04-26T00:00:00.000000000",
          "2014-05-03T00:00:00.000000000",
          "2014-05-10T00:00:00.000000000",
          "2014-05-17T00:00:00.000000000",
          "2014-05-24T00:00:00.000000000",
          "2014-05-31T00:00:00.000000000",
          "2014-06-07T00:00:00.000000000",
          "2014-06-14T00:00:00.000000000",
          "2014-06-21T00:00:00.000000000",
          "2014-06-28T00:00:00.000000000",
          "2014-07-05T00:00:00.000000000",
          "2014-07-12T00:00:00.000000000",
          "2014-07-19T00:00:00.000000000",
          "2014-07-26T00:00:00.000000000",
          "2014-08-02T00:00:00.000000000",
          "2014-08-09T00:00:00.000000000",
          "2014-08-16T00:00:00.000000000",
          "2014-08-23T00:00:00.000000000",
          "2014-08-30T00:00:00.000000000",
          "2014-09-06T00:00:00.000000000",
          "2014-09-13T00:00:00.000000000",
          "2014-09-20T00:00:00.000000000",
          "2014-09-27T00:00:00.000000000",
          "2014-10-04T00:00:00.000000000",
          "2014-10-11T00:00:00.000000000",
          "2014-10-18T00:00:00.000000000",
          "2014-10-25T00:00:00.000000000",
          "2014-11-01T00:00:00.000000000",
          "2014-11-08T00:00:00.000000000",
          "2014-11-15T00:00:00.000000000",
          "2014-11-22T00:00:00.000000000",
          "2014-11-29T00:00:00.000000000",
          "2014-12-06T00:00:00.000000000",
          "2014-12-13T00:00:00.000000000",
          "2014-12-20T00:00:00.000000000",
          "2014-12-27T00:00:00.000000000",
          "2015-01-03T00:00:00.000000000",
          "2015-01-10T00:00:00.000000000",
          "2015-01-17T00:00:00.000000000",
          "2015-01-24T00:00:00.000000000",
          "2015-01-31T00:00:00.000000000",
          "2015-02-07T00:00:00.000000000",
          "2015-02-14T00:00:00.000000000",
          "2015-02-21T00:00:00.000000000",
          "2015-02-28T00:00:00.000000000",
          "2015-03-07T00:00:00.000000000",
          "2015-03-14T00:00:00.000000000",
          "2015-03-21T00:00:00.000000000",
          "2015-03-28T00:00:00.000000000",
          "2015-04-04T00:00:00.000000000",
          "2015-04-11T00:00:00.000000000",
          "2015-04-18T00:00:00.000000000",
          "2015-04-25T00:00:00.000000000",
          "2015-05-02T00:00:00.000000000",
          "2015-05-09T00:00:00.000000000",
          "2015-05-16T00:00:00.000000000",
          "2015-05-23T00:00:00.000000000",
          "2015-05-30T00:00:00.000000000",
          "2015-06-06T00:00:00.000000000",
          "2015-06-13T00:00:00.000000000",
          "2015-06-20T00:00:00.000000000",
          "2015-06-27T00:00:00.000000000",
          "2015-07-04T00:00:00.000000000",
          "2015-07-11T00:00:00.000000000",
          "2015-07-18T00:00:00.000000000",
          "2015-07-25T00:00:00.000000000",
          "2015-08-01T00:00:00.000000000",
          "2015-08-08T00:00:00.000000000",
          "2015-08-15T00:00:00.000000000",
          "2015-08-22T00:00:00.000000000",
          "2015-08-29T00:00:00.000000000",
          "2015-09-05T00:00:00.000000000",
          "2015-09-12T00:00:00.000000000",
          "2015-09-19T00:00:00.000000000",
          "2015-09-26T00:00:00.000000000",
          "2015-10-03T00:00:00.000000000",
          "2015-10-10T00:00:00.000000000",
          "2015-10-17T00:00:00.000000000",
          "2015-10-24T00:00:00.000000000",
          "2015-10-31T00:00:00.000000000",
          "2015-11-07T00:00:00.000000000",
          "2015-11-14T00:00:00.000000000",
          "2015-11-21T00:00:00.000000000",
          "2015-11-28T00:00:00.000000000",
          "2015-12-05T00:00:00.000000000",
          "2015-12-12T00:00:00.000000000",
          "2015-12-19T00:00:00.000000000",
          "2015-12-26T00:00:00.000000000",
          "2016-01-02T00:00:00.000000000",
          "2016-01-09T00:00:00.000000000",
          "2016-01-16T00:00:00.000000000",
          "2016-01-23T00:00:00.000000000",
          "2016-01-30T00:00:00.000000000",
          "2016-02-06T00:00:00.000000000",
          "2016-02-13T00:00:00.000000000",
          "2016-02-20T00:00:00.000000000",
          "2016-02-27T00:00:00.000000000",
          "2016-03-05T00:00:00.000000000",
          "2016-03-12T00:00:00.000000000",
          "2016-03-19T00:00:00.000000000",
          "2016-03-26T00:00:00.000000000",
          "2016-04-02T00:00:00.000000000",
          "2016-04-09T00:00:00.000000000",
          "2016-04-16T00:00:00.000000000",
          "2016-04-23T00:00:00.000000000",
          "2016-04-30T00:00:00.000000000",
          "2016-05-07T00:00:00.000000000",
          "2016-05-14T00:00:00.000000000",
          "2016-05-21T00:00:00.000000000",
          "2016-05-28T00:00:00.000000000",
          "2016-06-04T00:00:00.000000000",
          "2016-06-11T00:00:00.000000000",
          "2016-06-18T00:00:00.000000000",
          "2016-06-25T00:00:00.000000000",
          "2016-07-02T00:00:00.000000000",
          "2016-07-09T00:00:00.000000000",
          "2016-07-16T00:00:00.000000000",
          "2016-07-23T00:00:00.000000000",
          "2016-07-30T00:00:00.000000000",
          "2016-08-06T00:00:00.000000000",
          "2016-08-13T00:00:00.000000000",
          "2016-08-20T00:00:00.000000000",
          "2016-08-27T00:00:00.000000000",
          "2016-09-03T00:00:00.000000000",
          "2016-09-10T00:00:00.000000000",
          "2016-09-17T00:00:00.000000000",
          "2016-09-24T00:00:00.000000000",
          "2016-10-01T00:00:00.000000000",
          "2016-10-08T00:00:00.000000000",
          "2016-10-15T00:00:00.000000000",
          "2016-10-22T00:00:00.000000000",
          "2016-10-29T00:00:00.000000000",
          "2016-11-05T00:00:00.000000000",
          "2016-11-12T00:00:00.000000000",
          "2016-11-19T00:00:00.000000000",
          "2016-11-26T00:00:00.000000000",
          "2016-12-03T00:00:00.000000000",
          "2016-12-10T00:00:00.000000000",
          "2016-12-17T00:00:00.000000000",
          "2016-12-24T00:00:00.000000000",
          "2016-12-31T00:00:00.000000000",
          "2017-01-07T00:00:00.000000000",
          "2017-01-14T00:00:00.000000000",
          "2017-01-21T00:00:00.000000000",
          "2017-01-28T00:00:00.000000000",
          "2017-02-04T00:00:00.000000000",
          "2017-02-11T00:00:00.000000000",
          "2017-02-18T00:00:00.000000000",
          "2017-02-25T00:00:00.000000000",
          "2017-03-04T00:00:00.000000000",
          "2017-03-11T00:00:00.000000000",
          "2017-03-18T00:00:00.000000000",
          "2017-03-25T00:00:00.000000000",
          "2017-04-01T00:00:00.000000000",
          "2017-04-08T00:00:00.000000000",
          "2017-04-15T00:00:00.000000000",
          "2017-04-22T00:00:00.000000000",
          "2017-04-29T00:00:00.000000000",
          "2017-05-06T00:00:00.000000000",
          "2017-05-13T00:00:00.000000000",
          "2017-05-20T00:00:00.000000000",
          "2017-05-27T00:00:00.000000000",
          "2017-06-03T00:00:00.000000000",
          "2017-06-10T00:00:00.000000000",
          "2017-06-17T00:00:00.000000000",
          "2017-06-24T00:00:00.000000000",
          "2017-07-01T00:00:00.000000000",
          "2017-07-08T00:00:00.000000000",
          "2017-07-15T00:00:00.000000000",
          "2017-07-22T00:00:00.000000000",
          "2017-07-29T00:00:00.000000000",
          "2017-08-05T00:00:00.000000000",
          "2017-08-12T00:00:00.000000000",
          "2017-08-19T00:00:00.000000000",
          "2017-08-26T00:00:00.000000000",
          "2017-09-02T00:00:00.000000000",
          "2017-09-09T00:00:00.000000000",
          "2017-09-16T00:00:00.000000000",
          "2017-09-23T00:00:00.000000000",
          "2017-09-30T00:00:00.000000000",
          "2017-10-07T00:00:00.000000000",
          "2017-10-14T00:00:00.000000000",
          "2017-10-21T00:00:00.000000000",
          "2017-10-28T00:00:00.000000000",
          "2017-11-04T00:00:00.000000000",
          "2017-11-11T00:00:00.000000000",
          "2017-11-18T00:00:00.000000000",
          "2017-11-25T00:00:00.000000000",
          "2017-12-02T00:00:00.000000000",
          "2017-12-09T00:00:00.000000000",
          "2017-12-16T00:00:00.000000000",
          "2017-12-23T00:00:00.000000000",
          "2017-12-30T00:00:00.000000000",
          "2018-01-06T00:00:00.000000000",
          "2018-01-13T00:00:00.000000000",
          "2018-01-20T00:00:00.000000000",
          "2018-01-27T00:00:00.000000000",
          "2018-02-03T00:00:00.000000000",
          "2018-02-10T00:00:00.000000000",
          "2018-02-17T00:00:00.000000000",
          "2018-02-24T00:00:00.000000000",
          "2018-03-03T00:00:00.000000000",
          "2018-03-10T00:00:00.000000000",
          "2018-03-17T00:00:00.000000000",
          "2018-03-24T00:00:00.000000000",
          "2018-03-31T00:00:00.000000000",
          "2018-04-07T00:00:00.000000000",
          "2018-04-14T00:00:00.000000000",
          "2018-04-21T00:00:00.000000000",
          "2018-04-28T00:00:00.000000000",
          "2018-05-05T00:00:00.000000000",
          "2018-05-12T00:00:00.000000000",
          "2018-05-19T00:00:00.000000000",
          "2018-05-26T00:00:00.000000000",
          "2018-06-02T00:00:00.000000000",
          "2018-06-09T00:00:00.000000000",
          "2018-06-16T00:00:00.000000000",
          "2018-06-23T00:00:00.000000000",
          "2018-06-30T00:00:00.000000000",
          "2018-07-07T00:00:00.000000000",
          "2018-07-14T00:00:00.000000000",
          "2018-07-21T00:00:00.000000000",
          "2018-07-28T00:00:00.000000000",
          "2018-08-04T00:00:00.000000000",
          "2018-08-11T00:00:00.000000000",
          "2018-08-18T00:00:00.000000000",
          "2018-08-25T00:00:00.000000000",
          "2018-09-01T00:00:00.000000000",
          "2018-09-08T00:00:00.000000000",
          "2018-09-15T00:00:00.000000000",
          "2018-09-22T00:00:00.000000000",
          "2018-09-29T00:00:00.000000000",
          "2018-10-06T00:00:00.000000000",
          "2018-10-13T00:00:00.000000000",
          "2018-10-20T00:00:00.000000000",
          "2018-10-27T00:00:00.000000000",
          "2018-11-03T00:00:00.000000000",
          "2018-11-10T00:00:00.000000000",
          "2018-11-17T00:00:00.000000000",
          "2018-11-24T00:00:00.000000000",
          "2018-12-01T00:00:00.000000000",
          "2018-12-08T00:00:00.000000000",
          "2018-12-15T00:00:00.000000000",
          "2018-12-22T00:00:00.000000000",
          "2018-12-29T00:00:00.000000000",
          "2019-01-05T00:00:00.000000000",
          "2019-01-12T00:00:00.000000000",
          "2019-01-19T00:00:00.000000000",
          "2019-01-26T00:00:00.000000000",
          "2019-02-02T00:00:00.000000000",
          "2019-02-09T00:00:00.000000000",
          "2019-02-16T00:00:00.000000000",
          "2019-02-23T00:00:00.000000000",
          "2019-03-02T00:00:00.000000000",
          "2019-03-09T00:00:00.000000000",
          "2019-03-16T00:00:00.000000000",
          "2019-03-23T00:00:00.000000000",
          "2019-03-30T00:00:00.000000000",
          "2019-04-06T00:00:00.000000000",
          "2019-04-13T00:00:00.000000000",
          "2019-04-20T00:00:00.000000000",
          "2019-04-27T00:00:00.000000000",
          "2019-05-04T00:00:00.000000000",
          "2019-05-11T00:00:00.000000000",
          "2019-05-18T00:00:00.000000000",
          "2019-05-25T00:00:00.000000000",
          "2019-06-01T00:00:00.000000000",
          "2019-06-08T00:00:00.000000000",
          "2019-06-15T00:00:00.000000000",
          "2019-06-22T00:00:00.000000000",
          "2019-06-29T00:00:00.000000000",
          "2019-07-06T00:00:00.000000000",
          "2019-07-13T00:00:00.000000000",
          "2019-07-20T00:00:00.000000000",
          "2019-07-27T00:00:00.000000000",
          "2019-08-03T00:00:00.000000000",
          "2019-08-10T00:00:00.000000000",
          "2019-08-17T00:00:00.000000000",
          "2019-08-24T00:00:00.000000000",
          "2019-08-31T00:00:00.000000000",
          "2019-09-07T00:00:00.000000000",
          "2019-09-14T00:00:00.000000000",
          "2019-09-21T00:00:00.000000000",
          "2019-09-28T00:00:00.000000000",
          "2019-10-05T00:00:00.000000000",
          "2019-10-12T00:00:00.000000000",
          "2019-10-19T00:00:00.000000000",
          "2019-10-26T00:00:00.000000000",
          "2019-11-02T00:00:00.000000000",
          "2019-11-09T00:00:00.000000000",
          "2019-11-16T00:00:00.000000000",
          "2019-11-23T00:00:00.000000000",
          "2019-11-30T00:00:00.000000000",
          "2019-12-07T00:00:00.000000000",
          "2019-12-14T00:00:00.000000000",
          "2019-12-21T00:00:00.000000000",
          "2019-12-28T00:00:00.000000000",
          "2020-01-04T00:00:00.000000000",
          "2020-01-11T00:00:00.000000000",
          "2020-01-18T00:00:00.000000000",
          "2020-01-25T00:00:00.000000000",
          "2020-02-01T00:00:00.000000000",
          "2020-02-08T00:00:00.000000000",
          "2020-02-15T00:00:00.000000000",
          "2020-02-22T00:00:00.000000000",
          "2020-02-29T00:00:00.000000000",
          "2020-03-07T00:00:00.000000000",
          "2020-03-14T00:00:00.000000000",
          "2020-03-21T00:00:00.000000000",
          "2020-03-28T00:00:00.000000000",
          "2020-04-04T00:00:00.000000000",
          "2020-04-11T00:00:00.000000000",
          "2020-04-18T00:00:00.000000000",
          "2020-04-25T00:00:00.000000000",
          "2020-05-02T00:00:00.000000000",
          "2020-05-09T00:00:00.000000000",
          "2020-05-16T00:00:00.000000000",
          "2020-05-23T00:00:00.000000000",
          "2020-05-30T00:00:00.000000000",
          "2020-06-06T00:00:00.000000000",
          "2020-06-13T00:00:00.000000000",
          "2020-06-20T00:00:00.000000000",
          "2020-06-27T00:00:00.000000000",
          "2020-07-04T00:00:00.000000000",
          "2020-07-11T00:00:00.000000000",
          "2020-07-18T00:00:00.000000000",
          "2020-07-25T00:00:00.000000000",
          "2020-08-01T00:00:00.000000000",
          "2020-08-08T00:00:00.000000000",
          "2020-08-15T00:00:00.000000000",
          "2020-08-22T00:00:00.000000000",
          "2020-08-29T00:00:00.000000000",
          "2020-09-05T00:00:00.000000000",
          "2020-09-12T00:00:00.000000000",
          "2020-09-19T00:00:00.000000000",
          "2020-09-26T00:00:00.000000000",
          "2020-10-03T00:00:00.000000000",
          "2020-10-10T00:00:00.000000000",
          "2020-10-17T00:00:00.000000000",
          "2020-10-24T00:00:00.000000000",
          "2020-10-31T00:00:00.000000000",
          "2020-11-07T00:00:00.000000000",
          "2020-11-14T00:00:00.000000000",
          "2020-11-21T00:00:00.000000000",
          "2020-11-28T00:00:00.000000000",
          "2020-12-05T00:00:00.000000000",
          "2020-12-12T00:00:00.000000000",
          "2020-12-19T00:00:00.000000000",
          "2020-12-26T00:00:00.000000000",
          "2021-01-02T00:00:00.000000000",
          "2021-01-09T00:00:00.000000000",
          "2021-01-16T00:00:00.000000000",
          "2021-01-23T00:00:00.000000000",
          "2021-01-30T00:00:00.000000000",
          "2021-02-06T00:00:00.000000000",
          "2021-02-13T00:00:00.000000000",
          "2021-02-20T00:00:00.000000000",
          "2021-02-27T00:00:00.000000000",
          "2021-03-06T00:00:00.000000000",
          "2021-03-13T00:00:00.000000000",
          "2021-03-20T00:00:00.000000000",
          "2021-03-27T00:00:00.000000000",
          "2021-04-03T00:00:00.000000000",
          "2021-04-10T00:00:00.000000000",
          "2021-04-17T00:00:00.000000000",
          "2021-04-24T00:00:00.000000000",
          "2021-05-01T00:00:00.000000000",
          "2021-05-08T00:00:00.000000000",
          "2021-05-15T00:00:00.000000000",
          "2021-05-22T00:00:00.000000000",
          "2021-05-29T00:00:00.000000000",
          "2021-06-05T00:00:00.000000000",
          "2021-06-12T00:00:00.000000000",
          "2021-06-19T00:00:00.000000000",
          "2021-06-26T00:00:00.000000000",
          "2021-07-03T00:00:00.000000000",
          "2021-07-10T00:00:00.000000000",
          "2021-07-17T00:00:00.000000000",
          "2021-07-24T00:00:00.000000000",
          "2021-07-31T00:00:00.000000000",
          "2021-08-07T00:00:00.000000000",
          "2021-08-14T00:00:00.000000000",
          "2021-08-21T00:00:00.000000000",
          "2021-08-28T00:00:00.000000000",
          "2021-09-04T00:00:00.000000000",
          "2021-09-11T00:00:00.000000000",
          "2021-09-18T00:00:00.000000000",
          "2021-09-25T00:00:00.000000000",
          "2021-10-02T00:00:00.000000000",
          "2021-10-09T00:00:00.000000000",
          "2021-10-16T00:00:00.000000000",
          "2021-10-23T00:00:00.000000000",
          "2021-10-30T00:00:00.000000000",
          "2021-11-06T00:00:00.000000000",
          "2021-11-13T00:00:00.000000000",
          "2021-11-20T00:00:00.000000000",
          "2021-11-27T00:00:00.000000000",
          "2021-12-04T00:00:00.000000000",
          "2021-12-11T00:00:00.000000000",
          "2021-12-18T00:00:00.000000000",
          "2021-12-25T00:00:00.000000000",
          "2022-01-01T00:00:00.000000000",
          "2022-01-08T00:00:00.000000000",
          "2022-01-15T00:00:00.000000000",
          "2022-01-22T00:00:00.000000000",
          "2022-01-29T00:00:00.000000000",
          "2022-02-05T00:00:00.000000000",
          "2022-02-12T00:00:00.000000000",
          "2022-02-19T00:00:00.000000000",
          "2022-02-26T00:00:00.000000000",
          "2022-03-05T00:00:00.000000000",
          "2022-03-12T00:00:00.000000000",
          "2022-03-19T00:00:00.000000000",
          "2022-03-26T00:00:00.000000000",
          "2022-04-02T00:00:00.000000000",
          "2022-04-09T00:00:00.000000000",
          "2022-04-16T00:00:00.000000000",
          "2022-04-23T00:00:00.000000000",
          "2022-04-30T00:00:00.000000000",
          "2022-05-07T00:00:00.000000000",
          "2022-05-14T00:00:00.000000000",
          "2022-05-21T00:00:00.000000000",
          "2022-05-28T00:00:00.000000000",
          "2022-06-04T00:00:00.000000000",
          "2022-06-11T00:00:00.000000000",
          "2022-06-18T00:00:00.000000000",
          "2022-06-25T00:00:00.000000000",
          "2022-07-02T00:00:00.000000000",
          "2022-07-09T00:00:00.000000000",
          "2022-07-16T00:00:00.000000000",
          "2022-07-23T00:00:00.000000000",
          "2022-07-30T00:00:00.000000000",
          "2022-08-06T00:00:00.000000000",
          "2022-08-13T00:00:00.000000000",
          "2022-08-20T00:00:00.000000000",
          "2022-08-27T00:00:00.000000000",
          "2022-09-03T00:00:00.000000000",
          "2022-09-10T00:00:00.000000000",
          "2022-09-17T00:00:00.000000000",
          "2022-09-24T00:00:00.000000000",
          "2022-10-01T00:00:00.000000000",
          "2022-10-08T00:00:00.000000000",
          "2022-10-15T00:00:00.000000000",
          "2022-10-22T00:00:00.000000000",
          "2022-10-29T00:00:00.000000000",
          "2022-11-05T00:00:00.000000000",
          "2022-11-12T00:00:00.000000000",
          "2022-11-19T00:00:00.000000000",
          "2022-11-26T00:00:00.000000000",
          "2022-12-03T00:00:00.000000000",
          "2022-12-10T00:00:00.000000000",
          "2022-12-17T00:00:00.000000000",
          "2022-12-24T00:00:00.000000000",
          "2022-12-31T00:00:00.000000000",
          "2023-01-07T00:00:00.000000000",
          "2023-01-14T00:00:00.000000000",
          "2023-01-21T00:00:00.000000000",
          "2023-01-28T00:00:00.000000000",
          "2023-02-04T00:00:00.000000000",
          "2023-02-11T00:00:00.000000000",
          "2023-02-18T00:00:00.000000000",
          "2023-02-25T00:00:00.000000000",
          "2023-03-04T00:00:00.000000000",
          "2023-03-11T00:00:00.000000000",
          "2023-03-18T00:00:00.000000000",
          "2023-03-25T00:00:00.000000000",
          "2023-04-01T00:00:00.000000000",
          "2023-04-08T00:00:00.000000000",
          "2023-04-15T00:00:00.000000000",
          "2023-04-22T00:00:00.000000000",
          "2023-04-29T00:00:00.000000000",
          "2023-05-06T00:00:00.000000000",
          "2023-05-13T00:00:00.000000000",
          "2023-05-20T00:00:00.000000000",
          "2023-05-27T00:00:00.000000000",
          "2023-06-03T00:00:00.000000000",
          "2023-06-10T00:00:00.000000000",
          "2023-06-17T00:00:00.000000000",
          "2023-06-24T00:00:00.000000000",
          "2023-07-01T00:00:00.000000000",
          "2023-07-08T00:00:00.000000000",
          "2023-07-15T00:00:00.000000000",
          "2023-07-22T00:00:00.000000000",
          "2023-07-29T00:00:00.000000000",
          "2023-08-05T00:00:00.000000000",
          "2023-08-12T00:00:00.000000000",
          "2023-08-19T00:00:00.000000000",
          "2023-08-26T00:00:00.000000000",
          "2023-09-02T00:00:00.000000000",
          "2023-09-09T00:00:00.000000000",
          "2023-09-16T00:00:00.000000000",
          "2023-09-23T00:00:00.000000000",
          "2023-09-30T00:00:00.000000000",
          "2023-10-07T00:00:00.000000000",
          "2023-10-14T00:00:00.000000000",
          "2023-10-21T00:00:00.000000000",
          "2023-10-28T00:00:00.000000000",
          "2023-11-04T00:00:00.000000000",
          "2023-11-11T00:00:00.000000000",
          "2023-11-18T00:00:00.000000000",
          "2023-11-25T00:00:00.000000000",
          "2023-12-02T00:00:00.000000000",
          "2023-12-09T00:00:00.000000000",
          "2023-12-16T00:00:00.000000000",
          "2023-12-23T00:00:00.000000000",
          "2023-12-30T00:00:00.000000000",
          "2024-01-06T00:00:00.000000000",
          "2024-01-13T00:00:00.000000000",
          "2024-01-20T00:00:00.000000000",
          "2024-01-27T00:00:00.000000000",
          "2024-02-03T00:00:00.000000000",
          "2024-02-10T00:00:00.000000000",
          "2024-02-17T00:00:00.000000000",
          "2024-02-24T00:00:00.000000000",
          "2024-03-02T00:00:00.000000000",
          "2024-03-09T00:00:00.000000000",
          "2024-03-16T00:00:00.000000000",
          "2024-03-23T00:00:00.000000000",
          "2024-03-30T00:00:00.000000000",
          "2024-04-06T00:00:00.000000000",
          "2024-04-13T00:00:00.000000000",
          "2024-04-20T00:00:00.000000000",
          "2024-04-27T00:00:00.000000000",
          "2024-05-04T00:00:00.000000000",
          "2024-05-11T00:00:00.000000000",
          "2024-05-18T00:00:00.000000000",
          "2024-05-25T00:00:00.000000000",
          "2024-06-01T00:00:00.000000000",
          "2024-06-08T00:00:00.000000000",
          "2024-06-15T00:00:00.000000000",
          "2024-06-22T00:00:00.000000000",
          "2024-06-29T00:00:00.000000000",
          "2024-07-06T00:00:00.000000000",
          "2024-07-13T00:00:00.000000000",
          "2024-07-20T00:00:00.000000000",
          "2024-07-27T00:00:00.000000000",
          "2024-08-03T00:00:00.000000000",
          "2024-08-10T00:00:00.000000000",
          "2024-08-17T00:00:00.000000000",
          "2024-08-24T00:00:00.000000000",
          "2024-08-31T00:00:00.000000000",
          "2024-09-07T00:00:00.000000000",
          "2024-09-14T00:00:00.000000000",
          "2024-09-21T00:00:00.000000000",
          "2024-09-28T00:00:00.000000000",
          "2024-10-05T00:00:00.000000000",
          "2024-10-12T00:00:00.000000000",
          "2024-10-19T00:00:00.000000000",
          "2024-10-26T00:00:00.000000000",
          "2024-11-02T00:00:00.000000000",
          "2024-11-09T00:00:00.000000000",
          "2024-11-16T00:00:00.000000000",
          "2024-11-23T00:00:00.000000000",
          "2024-11-30T00:00:00.000000000",
          "2024-12-07T00:00:00.000000000",
          "2024-12-14T00:00:00.000000000",
          "2024-12-21T00:00:00.000000000",
          "2024-12-28T00:00:00.000000000",
          "2025-01-04T00:00:00.000000000",
          "2025-01-11T00:00:00.000000000",
          "2025-01-18T00:00:00.000000000",
          "2025-01-25T00:00:00.000000000",
          "2025-02-01T00:00:00.000000000",
          "2025-02-08T00:00:00.000000000"
         ],
         "xaxis": "x",
         "y": {
          "bdata": "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",
          "dtype": "f8"
         },
         "yaxis": "y"
        }
       ],
       "layout": {
        "annotations": [
         {
          "align": "left",
          "bgcolor": "rgba(255, 255, 255, 0.8)",
          "bordercolor": "black",
          "borderwidth": 1,
          "font": {
           "size": 10
          },
          "showarrow": false,
          "text": "Source: Trading Economics<br>Original Source: U.S. Department of Labor<br>Frequency: W-SAT",
          "x": 0,
          "xanchor": "left",
          "xref": "paper",
          "y": -0.2,
          "yanchor": "bottom",
          "yref": "paper"
         }
        ],
        "legend": {
         "orientation": "h",
         "title": {
          "text": ""
         },
         "tracegroupgap": 0,
         "x": 0.5,
         "xanchor": "center",
         "y": -0.2,
         "yanchor": "bottom"
        },
        "margin": {
         "t": 60
        },
        "template": {
         "data": {
          "bar": [
           {
            "error_x": {
             "color": "#2a3f5f"
            },
            "error_y": {
             "color": "#2a3f5f"
            },
            "marker": {
             "line": {
              "color": "#E5ECF6",
              "width": 0.5
             },
             "pattern": {
              "fillmode": "overlay",
              "size": 10,
              "solidity": 0.2
             }
            },
            "type": "bar"
           }
          ],
          "barpolar": [
           {
            "marker": {
             "line": {
              "color": "#E5ECF6",
              "width": 0.5
             },
             "pattern": {
              "fillmode": "overlay",
              "size": 10,
              "solidity": 0.2
             }
            },
            "type": "barpolar"
           }
          ],
          "carpet": [
           {
            "aaxis": {
             "endlinecolor": "#2a3f5f",
             "gridcolor": "white",
             "linecolor": "white",
             "minorgridcolor": "white",
             "startlinecolor": "#2a3f5f"
            },
            "baxis": {
             "endlinecolor": "#2a3f5f",
             "gridcolor": "white",
             "linecolor": "white",
             "minorgridcolor": "white",
             "startlinecolor": "#2a3f5f"
            },
            "type": "carpet"
           }
          ],
          "choropleth": [
           {
            "colorbar": {
             "outlinewidth": 0,
             "ticks": ""
            },
            "type": "choropleth"
           }
          ],
          "contour": [
           {
            "colorbar": {
             "outlinewidth": 0,
             "ticks": ""
            },
            "colorscale": [
             [
              0,
              "#0d0887"
             ],
             [
              0.1111111111111111,
              "#46039f"
             ],
             [
              0.2222222222222222,
              "#7201a8"
             ],
             [
              0.3333333333333333,
              "#9c179e"
             ],
             [
              0.4444444444444444,
              "#bd3786"
             ],
             [
              0.5555555555555556,
              "#d8576b"
             ],
             [
              0.6666666666666666,
              "#ed7953"
             ],
             [
              0.7777777777777778,
              "#fb9f3a"
             ],
             [
              0.8888888888888888,
              "#fdca26"
             ],
             [
              1,
              "#f0f921"
             ]
            ],
            "type": "contour"
           }
          ],
          "contourcarpet": [
           {
            "colorbar": {
             "outlinewidth": 0,
             "ticks": ""
            },
            "type": "contourcarpet"
           }
          ],
          "heatmap": [
           {
            "colorbar": {
             "outlinewidth": 0,
             "ticks": ""
            },
            "colorscale": [
             [
              0,
              "#0d0887"
             ],
             [
              0.1111111111111111,
              "#46039f"
             ],
             [
              0.2222222222222222,
              "#7201a8"
             ],
             [
              0.3333333333333333,
              "#9c179e"
             ],
             [
              0.4444444444444444,
              "#bd3786"
             ],
             [
              0.5555555555555556,
              "#d8576b"
             ],
             [
              0.6666666666666666,
              "#ed7953"
             ],
             [
              0.7777777777777778,
              "#fb9f3a"
             ],
             [
              0.8888888888888888,
              "#fdca26"
             ],
             [
              1,
              "#f0f921"
             ]
            ],
            "type": "heatmap"
           }
          ],
          "histogram": [
           {
            "marker": {
             "pattern": {
              "fillmode": "overlay",
              "size": 10,
              "solidity": 0.2
             }
            },
            "type": "histogram"
           }
          ],
          "histogram2d": [
           {
            "colorbar": {
             "outlinewidth": 0,
             "ticks": ""
            },
            "colorscale": [
             [
              0,
              "#0d0887"
             ],
             [
              0.1111111111111111,
              "#46039f"
             ],
             [
              0.2222222222222222,
              "#7201a8"
             ],
             [
              0.3333333333333333,
              "#9c179e"
             ],
             [
              0.4444444444444444,
              "#bd3786"
             ],
             [
              0.5555555555555556,
              "#d8576b"
             ],
             [
              0.6666666666666666,
              "#ed7953"
             ],
             [
              0.7777777777777778,
              "#fb9f3a"
             ],
             [
              0.8888888888888888,
              "#fdca26"
             ],
             [
              1,
              "#f0f921"
             ]
            ],
            "type": "histogram2d"
           }
          ],
          "histogram2dcontour": [
           {
            "colorbar": {
             "outlinewidth": 0,
             "ticks": ""
            },
            "colorscale": [
             [
              0,
              "#0d0887"
             ],
             [
              0.1111111111111111,
              "#46039f"
             ],
             [
              0.2222222222222222,
              "#7201a8"
             ],
             [
              0.3333333333333333,
              "#9c179e"
             ],
             [
              0.4444444444444444,
              "#bd3786"
             ],
             [
              0.5555555555555556,
              "#d8576b"
             ],
             [
              0.6666666666666666,
              "#ed7953"
             ],
             [
              0.7777777777777778,
              "#fb9f3a"
             ],
             [
              0.8888888888888888,
              "#fdca26"
             ],
             [
              1,
              "#f0f921"
             ]
            ],
            "type": "histogram2dcontour"
           }
          ],
          "mesh3d": [
           {
            "colorbar": {
             "outlinewidth": 0,
             "ticks": ""
            },
            "type": "mesh3d"
           }
          ],
          "parcoords": [
           {
            "line": {
             "colorbar": {
              "outlinewidth": 0,
              "ticks": ""
             }
            },
            "type": "parcoords"
           }
          ],
          "pie": [
           {
            "automargin": true,
            "type": "pie"
           }
          ],
          "scatter": [
           {
            "fillpattern": {
             "fillmode": "overlay",
             "size": 10,
             "solidity": 0.2
            },
            "type": "scatter"
           }
          ],
          "scatter3d": [
           {
            "line": {
             "colorbar": {
              "outlinewidth": 0,
              "ticks": ""
             }
            },
            "marker": {
             "colorbar": {
              "outlinewidth": 0,
              "ticks": ""
             }
            },
            "type": "scatter3d"
           }
          ],
          "scattercarpet": [
           {
            "marker": {
             "colorbar": {
              "outlinewidth": 0,
              "ticks": ""
             }
            },
            "type": "scattercarpet"
           }
          ],
          "scattergeo": [
           {
            "marker": {
             "colorbar": {
              "outlinewidth": 0,
              "ticks": ""
             }
            },
            "type": "scattergeo"
           }
          ],
          "scattergl": [
           {
            "marker": {
             "colorbar": {
              "outlinewidth": 0,
              "ticks": ""
             }
            },
            "type": "scattergl"
           }
          ],
          "scattermap": [
           {
            "marker": {
             "colorbar": {
              "outlinewidth": 0,
              "ticks": ""
             }
            },
            "type": "scattermap"
           }
          ],
          "scattermapbox": [
           {
            "marker": {
             "colorbar": {
              "outlinewidth": 0,
              "ticks": ""
             }
            },
            "type": "scattermapbox"
           }
          ],
          "scatterpolar": [
           {
            "marker": {
             "colorbar": {
              "outlinewidth": 0,
              "ticks": ""
             }
            },
            "type": "scatterpolar"
           }
          ],
          "scatterpolargl": [
           {
            "marker": {
             "colorbar": {
              "outlinewidth": 0,
              "ticks": ""
             }
            },
            "type": "scatterpolargl"
           }
          ],
          "scatterternary": [
           {
            "marker": {
             "colorbar": {
              "outlinewidth": 0,
              "ticks": ""
             }
            },
            "type": "scatterternary"
           }
          ],
          "surface": [
           {
            "colorbar": {
             "outlinewidth": 0,
             "ticks": ""
            },
            "colorscale": [
             [
              0,
              "#0d0887"
             ],
             [
              0.1111111111111111,
              "#46039f"
             ],
             [
              0.2222222222222222,
              "#7201a8"
             ],
             [
              0.3333333333333333,
              "#9c179e"
             ],
             [
              0.4444444444444444,
              "#bd3786"
             ],
             [
              0.5555555555555556,
              "#d8576b"
             ],
             [
              0.6666666666666666,
              "#ed7953"
             ],
             [
              0.7777777777777778,
              "#fb9f3a"
             ],
             [
              0.8888888888888888,
              "#fdca26"
             ],
             [
              1,
              "#f0f921"
             ]
            ],
            "type": "surface"
           }
          ],
          "table": [
           {
            "cells": {
             "fill": {
              "color": "#EBF0F8"
             },
             "line": {
              "color": "white"
             }
            },
            "header": {
             "fill": {
              "color": "#C8D4E3"
             },
             "line": {
              "color": "white"
             }
            },
            "type": "table"
           }
          ]
         },
         "layout": {
          "annotationdefaults": {
           "arrowcolor": "#2a3f5f",
           "arrowhead": 0,
           "arrowwidth": 1
          },
          "autotypenumbers": "strict",
          "coloraxis": {
           "colorbar": {
            "outlinewidth": 0,
            "ticks": ""
           }
          },
          "colorscale": {
           "diverging": [
            [
             0,
             "#8e0152"
            ],
            [
             0.1,
             "#c51b7d"
            ],
            [
             0.2,
             "#de77ae"
            ],
            [
             0.3,
             "#f1b6da"
            ],
            [
             0.4,
             "#fde0ef"
            ],
            [
             0.5,
             "#f7f7f7"
            ],
            [
             0.6,
             "#e6f5d0"
            ],
            [
             0.7,
             "#b8e186"
            ],
            [
             0.8,
             "#7fbc41"
            ],
            [
             0.9,
             "#4d9221"
            ],
            [
             1,
             "#276419"
            ]
           ],
           "sequential": [
            [
             0,
             "#0d0887"
            ],
            [
             0.1111111111111111,
             "#46039f"
            ],
            [
             0.2222222222222222,
             "#7201a8"
            ],
            [
             0.3333333333333333,
             "#9c179e"
            ],
            [
             0.4444444444444444,
             "#bd3786"
            ],
            [
             0.5555555555555556,
             "#d8576b"
            ],
            [
             0.6666666666666666,
             "#ed7953"
            ],
            [
             0.7777777777777778,
             "#fb9f3a"
            ],
            [
             0.8888888888888888,
             "#fdca26"
            ],
            [
             1,
             "#f0f921"
            ]
           ],
           "sequentialminus": [
            [
             0,
             "#0d0887"
            ],
            [
             0.1111111111111111,
             "#46039f"
            ],
            [
             0.2222222222222222,
             "#7201a8"
            ],
            [
             0.3333333333333333,
             "#9c179e"
            ],
            [
             0.4444444444444444,
             "#bd3786"
            ],
            [
             0.5555555555555556,
             "#d8576b"
            ],
            [
             0.6666666666666666,
             "#ed7953"
            ],
            [
             0.7777777777777778,
             "#fb9f3a"
            ],
            [
             0.8888888888888888,
             "#fdca26"
            ],
            [
             1,
             "#f0f921"
            ]
           ]
          },
          "colorway": [
           "#636efa",
           "#EF553B",
           "#00cc96",
           "#ab63fa",
           "#FFA15A",
           "#19d3f3",
           "#FF6692",
           "#B6E880",
           "#FF97FF",
           "#FECB52"
          ],
          "font": {
           "color": "#2a3f5f"
          },
          "geo": {
           "bgcolor": "white",
           "lakecolor": "white",
           "landcolor": "#E5ECF6",
           "showlakes": true,
           "showland": true,
           "subunitcolor": "white"
          },
          "hoverlabel": {
           "align": "left"
          },
          "hovermode": "closest",
          "mapbox": {
           "style": "light"
          },
          "paper_bgcolor": "white",
          "plot_bgcolor": "#E5ECF6",
          "polar": {
           "angularaxis": {
            "gridcolor": "white",
            "linecolor": "white",
            "ticks": ""
           },
           "bgcolor": "#E5ECF6",
           "radialaxis": {
            "gridcolor": "white",
            "linecolor": "white",
            "ticks": ""
           }
          },
          "scene": {
           "xaxis": {
            "backgroundcolor": "#E5ECF6",
            "gridcolor": "white",
            "gridwidth": 2,
            "linecolor": "white",
            "showbackground": true,
            "ticks": "",
            "zerolinecolor": "white"
           },
           "yaxis": {
            "backgroundcolor": "#E5ECF6",
            "gridcolor": "white",
            "gridwidth": 2,
            "linecolor": "white",
            "showbackground": true,
            "ticks": "",
            "zerolinecolor": "white"
           },
           "zaxis": {
            "backgroundcolor": "#E5ECF6",
            "gridcolor": "white",
            "gridwidth": 2,
            "linecolor": "white",
            "showbackground": true,
            "ticks": "",
            "zerolinecolor": "white"
           }
          },
          "shapedefaults": {
           "line": {
            "color": "#2a3f5f"
           }
          },
          "ternary": {
           "aaxis": {
            "gridcolor": "white",
            "linecolor": "white",
            "ticks": ""
           },
           "baxis": {
            "gridcolor": "white",
            "linecolor": "white",
            "ticks": ""
           },
           "bgcolor": "#E5ECF6",
           "caxis": {
            "gridcolor": "white",
            "linecolor": "white",
            "ticks": ""
           }
          },
          "title": {
           "x": 0.05
          },
          "xaxis": {
           "automargin": true,
           "gridcolor": "white",
           "linecolor": "white",
           "ticks": "",
           "title": {
            "standoff": 15
           },
           "zerolinecolor": "white",
           "zerolinewidth": 2
          },
          "yaxis": {
           "automargin": true,
           "gridcolor": "white",
           "linecolor": "white",
           "ticks": "",
           "title": {
            "standoff": 15
           },
           "zerolinecolor": "white",
           "zerolinewidth": 2
          }
         }
        },
        "title": {
         "text": "United states: United states initial jobless claims"
        },
        "xaxis": {
         "anchor": "y",
         "domain": [
          0,
          1
         ],
         "title": {
          "text": ""
         }
        },
        "yaxis": {
         "anchor": "x",
         "domain": [
          0,
          1
         ],
         "title": {
          "text": "Thousand"
         }
        }
       }
      }
     },
     "metadata": {},
     "output_type": "display_data"
    }
   ],
   "source": [
    "scraped.plot_series()   #Plotting the series"
   ]
  },
  {
   "cell_type": "markdown",
   "metadata": {},
   "source": [
    "# Method #3: Debug method - manually run through the steps.\n",
    "\n",
    "If you get an error on trying load_page method, something like the examples below: \n",
    "- Error loading page: Message: Failed to decode response from marionette\n",
    "- Error loading page: Message: Tried to run command without establishing a connection\n",
    "\n",
    "You need to start a new webdriver instance. Reinitilize your TE_Scraper object and set: ```use_existing_driver = False```"
   ]
  },
  {
   "cell_type": "code",
   "execution_count": 51,
   "metadata": {},
   "outputs": [
    {
     "name": "stderr",
     "output_type": "stream",
     "text": [
      "INFO - New firefox webdriver created.\n"
     ]
    }
   ],
   "source": [
    "scr = ted.TE_Scraper(use_existing_driver = False, headless = False)  ## Initialize a new TE_scraper object."
   ]
  },
  {
   "cell_type": "code",
   "execution_count": 52,
   "metadata": {},
   "outputs": [
    {
     "name": "stderr",
     "output_type": "stream",
     "text": [
      "INFO - WebPage at https://tradingeconomics.com/united-states/ism-non-manufacturing-new-orders loaded successfully.\n",
      "INFO - Chart types dictionary created successfully: dict_keys(['Column', 'Spline', 'Areaspline', 'Stepline', 'Line', 'Area'])\n"
     ]
    },
    {
     "data": {
      "text/plain": [
       "True"
      ]
     },
     "execution_count": 52,
     "metadata": {},
     "output_type": "execute_result"
    }
   ],
   "source": [
    "scr.load_page('https://tradingeconomics.com/united-states/ism-non-manufacturing-new-orders')"
   ]
  },
  {
   "cell_type": "code",
   "execution_count": 37,
   "metadata": {},
   "outputs": [
    {
     "name": "stdout",
     "output_type": "stream",
     "text": [
      "Using selenium and tooltip scraping to construct the date time index for the time-series, this'll take a bit...\n"
     ]
    },
    {
     "name": "stderr",
     "output_type": "stream",
     "text": [
      "INFO - Date span set to: 1Y\n",
      "INFO - Chart type set to: Spline\n"
     ]
    },
    {
     "name": "stdout",
     "output_type": "stream",
     "text": [
      "Latest dates:  ['Jan 2025', 'Dec 2024', 'Nov 2024', 'Oct 2024', 'Sep 2024', 'Aug 2024', 'Jul 2024', 'Jun 2024', 'May 2024', 'Apr 2024']\n",
      "Frequency of time-series:  MS\n",
      "get_xlims_from_tooltips method: date_span:  1Y , chart_type: splineChart\n"
     ]
    },
    {
     "name": "stderr",
     "output_type": "stream",
     "text": [
      "INFO - Date span set to: MAX\n",
      "INFO - Chart type set to: Spline\n"
     ]
    },
    {
     "name": "stdout",
     "output_type": "stream",
     "text": [
      "Got chart dimensions and plot background element.\n"
     ]
    },
    {
     "name": "stderr",
     "output_type": "stream",
     "text": [
      "INFO - Start and end values scraped from tooltips: \n",
      "{'start_date': Timestamp('1997-07-01 00:00:00'), 'start_value': 58.8, 'end_date': Timestamp('2025-01-01 00:00:00'), 'end_value': 51.3}\n",
      "INFO - DateTimeIndex created successfully for the time-series.\n"
     ]
    },
    {
     "data": {
      "text/plain": [
       "DatetimeIndex(['1997-07-01', '1997-08-01', '1997-09-01', '1997-10-01',\n",
       "               '1997-11-01', '1997-12-01', '1998-01-01', '1998-02-01',\n",
       "               '1998-03-01', '1998-04-01',\n",
       "               ...\n",
       "               '2024-04-01', '2024-05-01', '2024-06-01', '2024-07-01',\n",
       "               '2024-08-01', '2024-09-01', '2024-10-01', '2024-11-01',\n",
       "               '2024-12-01', '2025-01-01'],\n",
       "              dtype='datetime64[ns]', length=331, freq='MS')"
      ]
     },
     "execution_count": 37,
     "metadata": {},
     "output_type": "execute_result"
    }
   ],
   "source": [
    "scr.make_x_index(force_rerun_freqdet=True, force_rerun_xlims=True) ## Create the x_index for the series first."
   ]
  },
  {
   "cell_type": "code",
   "execution_count": 38,
   "metadata": {},
   "outputs": [
    {
     "name": "stderr",
     "output_type": "stream",
     "text": [
      "INFO - Y-axis values scraped successfully.\n"
     ]
    },
    {
     "data": {
      "text/plain": [
       "pixheight\n",
       "39.5     30.0\n",
       "89.5     37.0\n",
       "138.5    44.0\n",
       "188.5    51.0\n",
       "237.5    58.0\n",
       "286.5    65.0\n",
       "335.5    72.0\n",
       "Name: ytick_label, dtype: float64"
      ]
     },
     "execution_count": 38,
     "metadata": {},
     "output_type": "execute_result"
    }
   ],
   "source": [
    "scr.get_y_axis(set_global_y_axis=True)   ## Get the y-axis tick positions (pixel co-ordinates) and values, will set the global y-axis attribute since date_span is set to MAX."
   ]
  },
  {
   "cell_type": "code",
   "execution_count": 39,
   "metadata": {},
   "outputs": [
    {
     "name": "stdout",
     "output_type": "stream",
     "text": [
      "{'Column': 'barChart', 'Spline': 'splineChart', 'Areaspline': 'areasplineChart', 'Stepline': 'stepLine', 'Line': 'lineChart', 'Area': 'areaChart'} \n",
      " {'Column': '.barChart .dkLabels-label-btn', 'Spline': '.splineChart .dkLabels-label-btn', 'Areaspline': '.areasplineChart .dkLabels-label-btn', 'Stepline': '.stepLine .dkLabels-label-btn', 'Line': '.lineChart .dkLabels-label-btn', 'Area': '.areaChart .dkLabels-label-btn'}\n"
     ]
    }
   ],
   "source": [
    "print(scr.expected_types, \"\\n\", scr.chart_types)"
   ]
  },
  {
   "cell_type": "code",
   "execution_count": 40,
   "metadata": {},
   "outputs": [
    {
     "name": "stderr",
     "output_type": "stream",
     "text": [
      "INFO - Series path extraction method: Extracting series data from chart soup.\n",
      "INFO - Date span: MAX. Chart type: splineChart, URL: https://tradingeconomics.com/united-states/ism-non-manufacturing-new-orders.\n"
     ]
    },
    {
     "data": {
      "text/plain": [
       "0.000000      242.785714\n",
       "0.000000      242.785714\n",
       "1.249751      252.619048\n",
       "2.082919      252.619048\n",
       "2.916086      252.619048\n",
       "                 ...    \n",
       "672.110790    211.880952\n",
       "672.917081    211.880952\n",
       "673.750249    211.880952\n",
       "675.000000    190.107143\n",
       "675.000000    190.107143\n",
       "Name: Extracted Series, Length: 991, dtype: float64"
      ]
     },
     "execution_count": 40,
     "metadata": {},
     "output_type": "execute_result"
    }
   ],
   "source": [
    "scr.series_from_chart_soup(set_max_datespan=True) ## Get the full series from the path element of the data trace on the svg chart.\n",
    "scr.series"
   ]
  },
  {
   "cell_type": "code",
   "execution_count": 41,
   "metadata": {},
   "outputs": [
    {
     "name": "stderr",
     "output_type": "stream",
     "text": [
      "INFO - DateTimeIndex applied to series, series attribute updated.\n"
     ]
    }
   ],
   "source": [
    "scr.apply_x_index()  ## Apply the x-axis index to the series."
   ]
  },
  {
   "cell_type": "code",
   "execution_count": 42,
   "metadata": {},
   "outputs": [
    {
     "data": {
      "text/plain": [
       "1997-07-01    242.785714\n",
       "1997-08-01    252.619048\n",
       "1997-09-01    246.297619\n",
       "1997-10-01    256.833333\n",
       "1997-11-01    247.748439\n",
       "                 ...    \n",
       "2024-09-01    247.000000\n",
       "2024-10-01    228.035714\n",
       "2024-11-01    210.476190\n",
       "2024-12-01    211.880952\n",
       "2025-01-01    190.107143\n",
       "Freq: MS, Name: ism non manufacturing new orders, Length: 331, dtype: float64"
      ]
     },
     "execution_count": 42,
     "metadata": {},
     "output_type": "execute_result"
    }
   ],
   "source": [
    "scr.series"
   ]
  },
  {
   "cell_type": "markdown",
   "metadata": {},
   "source": [
    "At this point the value in the data-series are still the pixel co-ordinates in the svg image of the chart."
   ]
  },
  {
   "cell_type": "code",
   "execution_count": 43,
   "metadata": {},
   "outputs": [
    {
     "data": {
      "application/vnd.plotly.v1+json": {
       "config": {
        "plotlyServerURL": "https://plot.ly"
       },
       "data": [
        {
         "hovertemplate": "variable=ism non manufacturing new orders<br>index=%{x}<br>value=%{y}<extra></extra>",
         "legendgroup": "ism non manufacturing new orders",
         "line": {
          "color": "#636efa",
          "dash": "solid"
         },
         "marker": {
          "symbol": "circle"
         },
         "mode": "lines",
         "name": "ism non manufacturing new orders",
         "orientation": "v",
         "showlegend": true,
         "type": "scatter",
         "x": [
          "1997-07-01T00:00:00.000000000",
          "1997-08-01T00:00:00.000000000",
          "1997-09-01T00:00:00.000000000",
          "1997-10-01T00:00:00.000000000",
          "1997-11-01T00:00:00.000000000",
          "1997-12-01T00:00:00.000000000",
          "1998-01-01T00:00:00.000000000",
          "1998-02-01T00:00:00.000000000",
          "1998-03-01T00:00:00.000000000",
          "1998-04-01T00:00:00.000000000",
          "1998-05-01T00:00:00.000000000",
          "1998-06-01T00:00:00.000000000",
          "1998-07-01T00:00:00.000000000",
          "1998-08-01T00:00:00.000000000",
          "1998-09-01T00:00:00.000000000",
          "1998-10-01T00:00:00.000000000",
          "1998-11-01T00:00:00.000000000",
          "1998-12-01T00:00:00.000000000",
          "1999-01-01T00:00:00.000000000",
          "1999-02-01T00:00:00.000000000",
          "1999-03-01T00:00:00.000000000",
          "1999-04-01T00:00:00.000000000",
          "1999-05-01T00:00:00.000000000",
          "1999-06-01T00:00:00.000000000",
          "1999-07-01T00:00:00.000000000",
          "1999-08-01T00:00:00.000000000",
          "1999-09-01T00:00:00.000000000",
          "1999-10-01T00:00:00.000000000",
          "1999-11-01T00:00:00.000000000",
          "1999-12-01T00:00:00.000000000",
          "2000-01-01T00:00:00.000000000",
          "2000-02-01T00:00:00.000000000",
          "2000-03-01T00:00:00.000000000",
          "2000-04-01T00:00:00.000000000",
          "2000-05-01T00:00:00.000000000",
          "2000-06-01T00:00:00.000000000",
          "2000-07-01T00:00:00.000000000",
          "2000-08-01T00:00:00.000000000",
          "2000-09-01T00:00:00.000000000",
          "2000-10-01T00:00:00.000000000",
          "2000-11-01T00:00:00.000000000",
          "2000-12-01T00:00:00.000000000",
          "2001-01-01T00:00:00.000000000",
          "2001-02-01T00:00:00.000000000",
          "2001-03-01T00:00:00.000000000",
          "2001-04-01T00:00:00.000000000",
          "2001-05-01T00:00:00.000000000",
          "2001-06-01T00:00:00.000000000",
          "2001-07-01T00:00:00.000000000",
          "2001-08-01T00:00:00.000000000",
          "2001-09-01T00:00:00.000000000",
          "2001-10-01T00:00:00.000000000",
          "2001-11-01T00:00:00.000000000",
          "2001-12-01T00:00:00.000000000",
          "2002-01-01T00:00:00.000000000",
          "2002-02-01T00:00:00.000000000",
          "2002-03-01T00:00:00.000000000",
          "2002-04-01T00:00:00.000000000",
          "2002-05-01T00:00:00.000000000",
          "2002-06-01T00:00:00.000000000",
          "2002-07-01T00:00:00.000000000",
          "2002-08-01T00:00:00.000000000",
          "2002-09-01T00:00:00.000000000",
          "2002-10-01T00:00:00.000000000",
          "2002-11-01T00:00:00.000000000",
          "2002-12-01T00:00:00.000000000",
          "2003-01-01T00:00:00.000000000",
          "2003-02-01T00:00:00.000000000",
          "2003-03-01T00:00:00.000000000",
          "2003-04-01T00:00:00.000000000",
          "2003-05-01T00:00:00.000000000",
          "2003-06-01T00:00:00.000000000",
          "2003-07-01T00:00:00.000000000",
          "2003-08-01T00:00:00.000000000",
          "2003-09-01T00:00:00.000000000",
          "2003-10-01T00:00:00.000000000",
          "2003-11-01T00:00:00.000000000",
          "2003-12-01T00:00:00.000000000",
          "2004-01-01T00:00:00.000000000",
          "2004-02-01T00:00:00.000000000",
          "2004-03-01T00:00:00.000000000",
          "2004-04-01T00:00:00.000000000",
          "2004-05-01T00:00:00.000000000",
          "2004-06-01T00:00:00.000000000",
          "2004-07-01T00:00:00.000000000",
          "2004-08-01T00:00:00.000000000",
          "2004-09-01T00:00:00.000000000",
          "2004-10-01T00:00:00.000000000",
          "2004-11-01T00:00:00.000000000",
          "2004-12-01T00:00:00.000000000",
          "2005-01-01T00:00:00.000000000",
          "2005-02-01T00:00:00.000000000",
          "2005-03-01T00:00:00.000000000",
          "2005-04-01T00:00:00.000000000",
          "2005-05-01T00:00:00.000000000",
          "2005-06-01T00:00:00.000000000",
          "2005-07-01T00:00:00.000000000",
          "2005-08-01T00:00:00.000000000",
          "2005-09-01T00:00:00.000000000",
          "2005-10-01T00:00:00.000000000",
          "2005-11-01T00:00:00.000000000",
          "2005-12-01T00:00:00.000000000",
          "2006-01-01T00:00:00.000000000",
          "2006-02-01T00:00:00.000000000",
          "2006-03-01T00:00:00.000000000",
          "2006-04-01T00:00:00.000000000",
          "2006-05-01T00:00:00.000000000",
          "2006-06-01T00:00:00.000000000",
          "2006-07-01T00:00:00.000000000",
          "2006-08-01T00:00:00.000000000",
          "2006-09-01T00:00:00.000000000",
          "2006-10-01T00:00:00.000000000",
          "2006-11-01T00:00:00.000000000",
          "2006-12-01T00:00:00.000000000",
          "2007-01-01T00:00:00.000000000",
          "2007-02-01T00:00:00.000000000",
          "2007-03-01T00:00:00.000000000",
          "2007-04-01T00:00:00.000000000",
          "2007-05-01T00:00:00.000000000",
          "2007-06-01T00:00:00.000000000",
          "2007-07-01T00:00:00.000000000",
          "2007-08-01T00:00:00.000000000",
          "2007-09-01T00:00:00.000000000",
          "2007-10-01T00:00:00.000000000",
          "2007-11-01T00:00:00.000000000",
          "2007-12-01T00:00:00.000000000",
          "2008-01-01T00:00:00.000000000",
          "2008-02-01T00:00:00.000000000",
          "2008-03-01T00:00:00.000000000",
          "2008-04-01T00:00:00.000000000",
          "2008-05-01T00:00:00.000000000",
          "2008-06-01T00:00:00.000000000",
          "2008-07-01T00:00:00.000000000",
          "2008-08-01T00:00:00.000000000",
          "2008-09-01T00:00:00.000000000",
          "2008-10-01T00:00:00.000000000",
          "2008-11-01T00:00:00.000000000",
          "2008-12-01T00:00:00.000000000",
          "2009-01-01T00:00:00.000000000",
          "2009-02-01T00:00:00.000000000",
          "2009-03-01T00:00:00.000000000",
          "2009-04-01T00:00:00.000000000",
          "2009-05-01T00:00:00.000000000",
          "2009-06-01T00:00:00.000000000",
          "2009-07-01T00:00:00.000000000",
          "2009-08-01T00:00:00.000000000",
          "2009-09-01T00:00:00.000000000",
          "2009-10-01T00:00:00.000000000",
          "2009-11-01T00:00:00.000000000",
          "2009-12-01T00:00:00.000000000",
          "2010-01-01T00:00:00.000000000",
          "2010-02-01T00:00:00.000000000",
          "2010-03-01T00:00:00.000000000",
          "2010-04-01T00:00:00.000000000",
          "2010-05-01T00:00:00.000000000",
          "2010-06-01T00:00:00.000000000",
          "2010-07-01T00:00:00.000000000",
          "2010-08-01T00:00:00.000000000",
          "2010-09-01T00:00:00.000000000",
          "2010-10-01T00:00:00.000000000",
          "2010-11-01T00:00:00.000000000",
          "2010-12-01T00:00:00.000000000",
          "2011-01-01T00:00:00.000000000",
          "2011-02-01T00:00:00.000000000",
          "2011-03-01T00:00:00.000000000",
          "2011-04-01T00:00:00.000000000",
          "2011-05-01T00:00:00.000000000",
          "2011-06-01T00:00:00.000000000",
          "2011-07-01T00:00:00.000000000",
          "2011-08-01T00:00:00.000000000",
          "2011-09-01T00:00:00.000000000",
          "2011-10-01T00:00:00.000000000",
          "2011-11-01T00:00:00.000000000",
          "2011-12-01T00:00:00.000000000",
          "2012-01-01T00:00:00.000000000",
          "2012-02-01T00:00:00.000000000",
          "2012-03-01T00:00:00.000000000",
          "2012-04-01T00:00:00.000000000",
          "2012-05-01T00:00:00.000000000",
          "2012-06-01T00:00:00.000000000",
          "2012-07-01T00:00:00.000000000",
          "2012-08-01T00:00:00.000000000",
          "2012-09-01T00:00:00.000000000",
          "2012-10-01T00:00:00.000000000",
          "2012-11-01T00:00:00.000000000",
          "2012-12-01T00:00:00.000000000",
          "2013-01-01T00:00:00.000000000",
          "2013-02-01T00:00:00.000000000",
          "2013-03-01T00:00:00.000000000",
          "2013-04-01T00:00:00.000000000",
          "2013-05-01T00:00:00.000000000",
          "2013-06-01T00:00:00.000000000",
          "2013-07-01T00:00:00.000000000",
          "2013-08-01T00:00:00.000000000",
          "2013-09-01T00:00:00.000000000",
          "2013-10-01T00:00:00.000000000",
          "2013-11-01T00:00:00.000000000",
          "2013-12-01T00:00:00.000000000",
          "2014-01-01T00:00:00.000000000",
          "2014-02-01T00:00:00.000000000",
          "2014-03-01T00:00:00.000000000",
          "2014-04-01T00:00:00.000000000",
          "2014-05-01T00:00:00.000000000",
          "2014-06-01T00:00:00.000000000",
          "2014-07-01T00:00:00.000000000",
          "2014-08-01T00:00:00.000000000",
          "2014-09-01T00:00:00.000000000",
          "2014-10-01T00:00:00.000000000",
          "2014-11-01T00:00:00.000000000",
          "2014-12-01T00:00:00.000000000",
          "2015-01-01T00:00:00.000000000",
          "2015-02-01T00:00:00.000000000",
          "2015-03-01T00:00:00.000000000",
          "2015-04-01T00:00:00.000000000",
          "2015-05-01T00:00:00.000000000",
          "2015-06-01T00:00:00.000000000",
          "2015-07-01T00:00:00.000000000",
          "2015-08-01T00:00:00.000000000",
          "2015-09-01T00:00:00.000000000",
          "2015-10-01T00:00:00.000000000",
          "2015-11-01T00:00:00.000000000",
          "2015-12-01T00:00:00.000000000",
          "2016-01-01T00:00:00.000000000",
          "2016-02-01T00:00:00.000000000",
          "2016-03-01T00:00:00.000000000",
          "2016-04-01T00:00:00.000000000",
          "2016-05-01T00:00:00.000000000",
          "2016-06-01T00:00:00.000000000",
          "2016-07-01T00:00:00.000000000",
          "2016-08-01T00:00:00.000000000",
          "2016-09-01T00:00:00.000000000",
          "2016-10-01T00:00:00.000000000",
          "2016-11-01T00:00:00.000000000",
          "2016-12-01T00:00:00.000000000",
          "2017-01-01T00:00:00.000000000",
          "2017-02-01T00:00:00.000000000",
          "2017-03-01T00:00:00.000000000",
          "2017-04-01T00:00:00.000000000",
          "2017-05-01T00:00:00.000000000",
          "2017-06-01T00:00:00.000000000",
          "2017-07-01T00:00:00.000000000",
          "2017-08-01T00:00:00.000000000",
          "2017-09-01T00:00:00.000000000",
          "2017-10-01T00:00:00.000000000",
          "2017-11-01T00:00:00.000000000",
          "2017-12-01T00:00:00.000000000",
          "2018-01-01T00:00:00.000000000",
          "2018-02-01T00:00:00.000000000",
          "2018-03-01T00:00:00.000000000",
          "2018-04-01T00:00:00.000000000",
          "2018-05-01T00:00:00.000000000",
          "2018-06-01T00:00:00.000000000",
          "2018-07-01T00:00:00.000000000",
          "2018-08-01T00:00:00.000000000",
          "2018-09-01T00:00:00.000000000",
          "2018-10-01T00:00:00.000000000",
          "2018-11-01T00:00:00.000000000",
          "2018-12-01T00:00:00.000000000",
          "2019-01-01T00:00:00.000000000",
          "2019-02-01T00:00:00.000000000",
          "2019-03-01T00:00:00.000000000",
          "2019-04-01T00:00:00.000000000",
          "2019-05-01T00:00:00.000000000",
          "2019-06-01T00:00:00.000000000",
          "2019-07-01T00:00:00.000000000",
          "2019-08-01T00:00:00.000000000",
          "2019-09-01T00:00:00.000000000",
          "2019-10-01T00:00:00.000000000",
          "2019-11-01T00:00:00.000000000",
          "2019-12-01T00:00:00.000000000",
          "2020-01-01T00:00:00.000000000",
          "2020-02-01T00:00:00.000000000",
          "2020-03-01T00:00:00.000000000",
          "2020-04-01T00:00:00.000000000",
          "2020-05-01T00:00:00.000000000",
          "2020-06-01T00:00:00.000000000",
          "2020-07-01T00:00:00.000000000",
          "2020-08-01T00:00:00.000000000",
          "2020-09-01T00:00:00.000000000",
          "2020-10-01T00:00:00.000000000",
          "2020-11-01T00:00:00.000000000",
          "2020-12-01T00:00:00.000000000",
          "2021-01-01T00:00:00.000000000",
          "2021-02-01T00:00:00.000000000",
          "2021-03-01T00:00:00.000000000",
          "2021-04-01T00:00:00.000000000",
          "2021-05-01T00:00:00.000000000",
          "2021-06-01T00:00:00.000000000",
          "2021-07-01T00:00:00.000000000",
          "2021-08-01T00:00:00.000000000",
          "2021-09-01T00:00:00.000000000",
          "2021-10-01T00:00:00.000000000",
          "2021-11-01T00:00:00.000000000",
          "2021-12-01T00:00:00.000000000",
          "2022-01-01T00:00:00.000000000",
          "2022-02-01T00:00:00.000000000",
          "2022-03-01T00:00:00.000000000",
          "2022-04-01T00:00:00.000000000",
          "2022-05-01T00:00:00.000000000",
          "2022-06-01T00:00:00.000000000",
          "2022-07-01T00:00:00.000000000",
          "2022-08-01T00:00:00.000000000",
          "2022-09-01T00:00:00.000000000",
          "2022-10-01T00:00:00.000000000",
          "2022-11-01T00:00:00.000000000",
          "2022-12-01T00:00:00.000000000",
          "2023-01-01T00:00:00.000000000",
          "2023-02-01T00:00:00.000000000",
          "2023-03-01T00:00:00.000000000",
          "2023-04-01T00:00:00.000000000",
          "2023-05-01T00:00:00.000000000",
          "2023-06-01T00:00:00.000000000",
          "2023-07-01T00:00:00.000000000",
          "2023-08-01T00:00:00.000000000",
          "2023-09-01T00:00:00.000000000",
          "2023-10-01T00:00:00.000000000",
          "2023-11-01T00:00:00.000000000",
          "2023-12-01T00:00:00.000000000",
          "2024-01-01T00:00:00.000000000",
          "2024-02-01T00:00:00.000000000",
          "2024-03-01T00:00:00.000000000",
          "2024-04-01T00:00:00.000000000",
          "2024-05-01T00:00:00.000000000",
          "2024-06-01T00:00:00.000000000",
          "2024-07-01T00:00:00.000000000",
          "2024-08-01T00:00:00.000000000",
          "2024-09-01T00:00:00.000000000",
          "2024-10-01T00:00:00.000000000",
          "2024-11-01T00:00:00.000000000",
          "2024-12-01T00:00:00.000000000",
          "2025-01-01T00:00:00.000000000"
         ],
         "xaxis": "x",
         "y": {
          "bdata": "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",
          "dtype": "f8"
         },
         "yaxis": "y"
        }
       ],
       "layout": {
        "annotations": [
         {
          "align": "left",
          "bgcolor": "rgba(255, 255, 255, 0.8)",
          "bordercolor": "black",
          "borderwidth": 1,
          "font": {
           "size": 10
          },
          "showarrow": false,
          "text": "Source: Trading Economics",
          "x": 0,
          "xanchor": "left",
          "xref": "paper",
          "y": -0.2,
          "yanchor": "bottom",
          "yref": "paper"
         }
        ],
        "legend": {
         "orientation": "h",
         "title": {
          "text": ""
         },
         "tracegroupgap": 0,
         "x": 0.5,
         "xanchor": "center",
         "y": -0.2,
         "yanchor": "bottom"
        },
        "margin": {
         "t": 60
        },
        "template": {
         "data": {
          "bar": [
           {
            "error_x": {
             "color": "#2a3f5f"
            },
            "error_y": {
             "color": "#2a3f5f"
            },
            "marker": {
             "line": {
              "color": "#E5ECF6",
              "width": 0.5
             },
             "pattern": {
              "fillmode": "overlay",
              "size": 10,
              "solidity": 0.2
             }
            },
            "type": "bar"
           }
          ],
          "barpolar": [
           {
            "marker": {
             "line": {
              "color": "#E5ECF6",
              "width": 0.5
             },
             "pattern": {
              "fillmode": "overlay",
              "size": 10,
              "solidity": 0.2
             }
            },
            "type": "barpolar"
           }
          ],
          "carpet": [
           {
            "aaxis": {
             "endlinecolor": "#2a3f5f",
             "gridcolor": "white",
             "linecolor": "white",
             "minorgridcolor": "white",
             "startlinecolor": "#2a3f5f"
            },
            "baxis": {
             "endlinecolor": "#2a3f5f",
             "gridcolor": "white",
             "linecolor": "white",
             "minorgridcolor": "white",
             "startlinecolor": "#2a3f5f"
            },
            "type": "carpet"
           }
          ],
          "choropleth": [
           {
            "colorbar": {
             "outlinewidth": 0,
             "ticks": ""
            },
            "type": "choropleth"
           }
          ],
          "contour": [
           {
            "colorbar": {
             "outlinewidth": 0,
             "ticks": ""
            },
            "colorscale": [
             [
              0,
              "#0d0887"
             ],
             [
              0.1111111111111111,
              "#46039f"
             ],
             [
              0.2222222222222222,
              "#7201a8"
             ],
             [
              0.3333333333333333,
              "#9c179e"
             ],
             [
              0.4444444444444444,
              "#bd3786"
             ],
             [
              0.5555555555555556,
              "#d8576b"
             ],
             [
              0.6666666666666666,
              "#ed7953"
             ],
             [
              0.7777777777777778,
              "#fb9f3a"
             ],
             [
              0.8888888888888888,
              "#fdca26"
             ],
             [
              1,
              "#f0f921"
             ]
            ],
            "type": "contour"
           }
          ],
          "contourcarpet": [
           {
            "colorbar": {
             "outlinewidth": 0,
             "ticks": ""
            },
            "type": "contourcarpet"
           }
          ],
          "heatmap": [
           {
            "colorbar": {
             "outlinewidth": 0,
             "ticks": ""
            },
            "colorscale": [
             [
              0,
              "#0d0887"
             ],
             [
              0.1111111111111111,
              "#46039f"
             ],
             [
              0.2222222222222222,
              "#7201a8"
             ],
             [
              0.3333333333333333,
              "#9c179e"
             ],
             [
              0.4444444444444444,
              "#bd3786"
             ],
             [
              0.5555555555555556,
              "#d8576b"
             ],
             [
              0.6666666666666666,
              "#ed7953"
             ],
             [
              0.7777777777777778,
              "#fb9f3a"
             ],
             [
              0.8888888888888888,
              "#fdca26"
             ],
             [
              1,
              "#f0f921"
             ]
            ],
            "type": "heatmap"
           }
          ],
          "histogram": [
           {
            "marker": {
             "pattern": {
              "fillmode": "overlay",
              "size": 10,
              "solidity": 0.2
             }
            },
            "type": "histogram"
           }
          ],
          "histogram2d": [
           {
            "colorbar": {
             "outlinewidth": 0,
             "ticks": ""
            },
            "colorscale": [
             [
              0,
              "#0d0887"
             ],
             [
              0.1111111111111111,
              "#46039f"
             ],
             [
              0.2222222222222222,
              "#7201a8"
             ],
             [
              0.3333333333333333,
              "#9c179e"
             ],
             [
              0.4444444444444444,
              "#bd3786"
             ],
             [
              0.5555555555555556,
              "#d8576b"
             ],
             [
              0.6666666666666666,
              "#ed7953"
             ],
             [
              0.7777777777777778,
              "#fb9f3a"
             ],
             [
              0.8888888888888888,
              "#fdca26"
             ],
             [
              1,
              "#f0f921"
             ]
            ],
            "type": "histogram2d"
           }
          ],
          "histogram2dcontour": [
           {
            "colorbar": {
             "outlinewidth": 0,
             "ticks": ""
            },
            "colorscale": [
             [
              0,
              "#0d0887"
             ],
             [
              0.1111111111111111,
              "#46039f"
             ],
             [
              0.2222222222222222,
              "#7201a8"
             ],
             [
              0.3333333333333333,
              "#9c179e"
             ],
             [
              0.4444444444444444,
              "#bd3786"
             ],
             [
              0.5555555555555556,
              "#d8576b"
             ],
             [
              0.6666666666666666,
              "#ed7953"
             ],
             [
              0.7777777777777778,
              "#fb9f3a"
             ],
             [
              0.8888888888888888,
              "#fdca26"
             ],
             [
              1,
              "#f0f921"
             ]
            ],
            "type": "histogram2dcontour"
           }
          ],
          "mesh3d": [
           {
            "colorbar": {
             "outlinewidth": 0,
             "ticks": ""
            },
            "type": "mesh3d"
           }
          ],
          "parcoords": [
           {
            "line": {
             "colorbar": {
              "outlinewidth": 0,
              "ticks": ""
             }
            },
            "type": "parcoords"
           }
          ],
          "pie": [
           {
            "automargin": true,
            "type": "pie"
           }
          ],
          "scatter": [
           {
            "fillpattern": {
             "fillmode": "overlay",
             "size": 10,
             "solidity": 0.2
            },
            "type": "scatter"
           }
          ],
          "scatter3d": [
           {
            "line": {
             "colorbar": {
              "outlinewidth": 0,
              "ticks": ""
             }
            },
            "marker": {
             "colorbar": {
              "outlinewidth": 0,
              "ticks": ""
             }
            },
            "type": "scatter3d"
           }
          ],
          "scattercarpet": [
           {
            "marker": {
             "colorbar": {
              "outlinewidth": 0,
              "ticks": ""
             }
            },
            "type": "scattercarpet"
           }
          ],
          "scattergeo": [
           {
            "marker": {
             "colorbar": {
              "outlinewidth": 0,
              "ticks": ""
             }
            },
            "type": "scattergeo"
           }
          ],
          "scattergl": [
           {
            "marker": {
             "colorbar": {
              "outlinewidth": 0,
              "ticks": ""
             }
            },
            "type": "scattergl"
           }
          ],
          "scattermap": [
           {
            "marker": {
             "colorbar": {
              "outlinewidth": 0,
              "ticks": ""
             }
            },
            "type": "scattermap"
           }
          ],
          "scattermapbox": [
           {
            "marker": {
             "colorbar": {
              "outlinewidth": 0,
              "ticks": ""
             }
            },
            "type": "scattermapbox"
           }
          ],
          "scatterpolar": [
           {
            "marker": {
             "colorbar": {
              "outlinewidth": 0,
              "ticks": ""
             }
            },
            "type": "scatterpolar"
           }
          ],
          "scatterpolargl": [
           {
            "marker": {
             "colorbar": {
              "outlinewidth": 0,
              "ticks": ""
             }
            },
            "type": "scatterpolargl"
           }
          ],
          "scatterternary": [
           {
            "marker": {
             "colorbar": {
              "outlinewidth": 0,
              "ticks": ""
             }
            },
            "type": "scatterternary"
           }
          ],
          "surface": [
           {
            "colorbar": {
             "outlinewidth": 0,
             "ticks": ""
            },
            "colorscale": [
             [
              0,
              "#0d0887"
             ],
             [
              0.1111111111111111,
              "#46039f"
             ],
             [
              0.2222222222222222,
              "#7201a8"
             ],
             [
              0.3333333333333333,
              "#9c179e"
             ],
             [
              0.4444444444444444,
              "#bd3786"
             ],
             [
              0.5555555555555556,
              "#d8576b"
             ],
             [
              0.6666666666666666,
              "#ed7953"
             ],
             [
              0.7777777777777778,
              "#fb9f3a"
             ],
             [
              0.8888888888888888,
              "#fdca26"
             ],
             [
              1,
              "#f0f921"
             ]
            ],
            "type": "surface"
           }
          ],
          "table": [
           {
            "cells": {
             "fill": {
              "color": "#EBF0F8"
             },
             "line": {
              "color": "white"
             }
            },
            "header": {
             "fill": {
              "color": "#C8D4E3"
             },
             "line": {
              "color": "white"
             }
            },
            "type": "table"
           }
          ]
         },
         "layout": {
          "annotationdefaults": {
           "arrowcolor": "#2a3f5f",
           "arrowhead": 0,
           "arrowwidth": 1
          },
          "autotypenumbers": "strict",
          "coloraxis": {
           "colorbar": {
            "outlinewidth": 0,
            "ticks": ""
           }
          },
          "colorscale": {
           "diverging": [
            [
             0,
             "#8e0152"
            ],
            [
             0.1,
             "#c51b7d"
            ],
            [
             0.2,
             "#de77ae"
            ],
            [
             0.3,
             "#f1b6da"
            ],
            [
             0.4,
             "#fde0ef"
            ],
            [
             0.5,
             "#f7f7f7"
            ],
            [
             0.6,
             "#e6f5d0"
            ],
            [
             0.7,
             "#b8e186"
            ],
            [
             0.8,
             "#7fbc41"
            ],
            [
             0.9,
             "#4d9221"
            ],
            [
             1,
             "#276419"
            ]
           ],
           "sequential": [
            [
             0,
             "#0d0887"
            ],
            [
             0.1111111111111111,
             "#46039f"
            ],
            [
             0.2222222222222222,
             "#7201a8"
            ],
            [
             0.3333333333333333,
             "#9c179e"
            ],
            [
             0.4444444444444444,
             "#bd3786"
            ],
            [
             0.5555555555555556,
             "#d8576b"
            ],
            [
             0.6666666666666666,
             "#ed7953"
            ],
            [
             0.7777777777777778,
             "#fb9f3a"
            ],
            [
             0.8888888888888888,
             "#fdca26"
            ],
            [
             1,
             "#f0f921"
            ]
           ],
           "sequentialminus": [
            [
             0,
             "#0d0887"
            ],
            [
             0.1111111111111111,
             "#46039f"
            ],
            [
             0.2222222222222222,
             "#7201a8"
            ],
            [
             0.3333333333333333,
             "#9c179e"
            ],
            [
             0.4444444444444444,
             "#bd3786"
            ],
            [
             0.5555555555555556,
             "#d8576b"
            ],
            [
             0.6666666666666666,
             "#ed7953"
            ],
            [
             0.7777777777777778,
             "#fb9f3a"
            ],
            [
             0.8888888888888888,
             "#fdca26"
            ],
            [
             1,
             "#f0f921"
            ]
           ]
          },
          "colorway": [
           "#636efa",
           "#EF553B",
           "#00cc96",
           "#ab63fa",
           "#FFA15A",
           "#19d3f3",
           "#FF6692",
           "#B6E880",
           "#FF97FF",
           "#FECB52"
          ],
          "font": {
           "color": "#2a3f5f"
          },
          "geo": {
           "bgcolor": "white",
           "lakecolor": "white",
           "landcolor": "#E5ECF6",
           "showlakes": true,
           "showland": true,
           "subunitcolor": "white"
          },
          "hoverlabel": {
           "align": "left"
          },
          "hovermode": "closest",
          "mapbox": {
           "style": "light"
          },
          "paper_bgcolor": "white",
          "plot_bgcolor": "#E5ECF6",
          "polar": {
           "angularaxis": {
            "gridcolor": "white",
            "linecolor": "white",
            "ticks": ""
           },
           "bgcolor": "#E5ECF6",
           "radialaxis": {
            "gridcolor": "white",
            "linecolor": "white",
            "ticks": ""
           }
          },
          "scene": {
           "xaxis": {
            "backgroundcolor": "#E5ECF6",
            "gridcolor": "white",
            "gridwidth": 2,
            "linecolor": "white",
            "showbackground": true,
            "ticks": "",
            "zerolinecolor": "white"
           },
           "yaxis": {
            "backgroundcolor": "#E5ECF6",
            "gridcolor": "white",
            "gridwidth": 2,
            "linecolor": "white",
            "showbackground": true,
            "ticks": "",
            "zerolinecolor": "white"
           },
           "zaxis": {
            "backgroundcolor": "#E5ECF6",
            "gridcolor": "white",
            "gridwidth": 2,
            "linecolor": "white",
            "showbackground": true,
            "ticks": "",
            "zerolinecolor": "white"
           }
          },
          "shapedefaults": {
           "line": {
            "color": "#2a3f5f"
           }
          },
          "ternary": {
           "aaxis": {
            "gridcolor": "white",
            "linecolor": "white",
            "ticks": ""
           },
           "baxis": {
            "gridcolor": "white",
            "linecolor": "white",
            "ticks": ""
           },
           "bgcolor": "#E5ECF6",
           "caxis": {
            "gridcolor": "white",
            "linecolor": "white",
            "ticks": ""
           }
          },
          "title": {
           "x": 0.05
          },
          "xaxis": {
           "automargin": true,
           "gridcolor": "white",
           "linecolor": "white",
           "ticks": "",
           "title": {
            "standoff": 15
           },
           "zerolinecolor": "white",
           "zerolinewidth": 2
          },
          "yaxis": {
           "automargin": true,
           "gridcolor": "white",
           "linecolor": "white",
           "ticks": "",
           "title": {
            "standoff": 15
           },
           "zerolinecolor": "white",
           "zerolinewidth": 2
          }
         }
        },
        "title": {
         "text": "Time Series Plot"
        },
        "xaxis": {
         "anchor": "y",
         "domain": [
          0,
          1
         ],
         "title": {
          "text": ""
         }
        },
        "yaxis": {
         "anchor": "x",
         "domain": [
          0,
          1
         ],
         "title": {
          "text": "Value"
         }
        }
       }
      }
     },
     "metadata": {},
     "output_type": "display_data"
    }
   ],
   "source": [
    "scr.plot_series()  ## Plot the series."
   ]
  },
  {
   "cell_type": "code",
   "execution_count": 44,
   "metadata": {},
   "outputs": [
    {
     "data": {
      "text/plain": [
       "1997-07-01    58.800000\n",
       "1997-08-01    60.200000\n",
       "1997-09-01    59.300000\n",
       "1997-10-01    60.800000\n",
       "1997-11-01    59.506557\n",
       "                ...    \n",
       "2024-09-01    59.400000\n",
       "2024-10-01    56.700000\n",
       "2024-11-01    54.200000\n",
       "2024-12-01    54.400000\n",
       "2025-01-01    51.300000\n",
       "Freq: MS, Name: ism non manufacturing new orders, Length: 331, dtype: float64"
      ]
     },
     "execution_count": 44,
     "metadata": {},
     "output_type": "execute_result"
    }
   ],
   "source": [
    "scr.scale_series() ## Scale the series to the y-axis values to convert the pixel co-ordinates to actual data values."
   ]
  },
  {
   "cell_type": "markdown",
   "metadata": {},
   "source": [
    "The ```scale_series()``` method converts he pixel co-ordinate values to data values."
   ]
  },
  {
   "cell_type": "code",
   "execution_count": 45,
   "metadata": {},
   "outputs": [
    {
     "name": "stderr",
     "output_type": "stream",
     "text": [
      "INFO - \n",
      "Series metadata: \n",
      " {'units': 'points', 'original_source': 'Institute for Supply Management', 'title': 'United States ISM Services New Orders', 'indicator': 'ism non manufacturing new orders', 'country': 'united states', 'length': 331, 'frequency': 'MS', 'source': 'Trading Economics', 'id': 'united-states/ism-non-manufacturing-new-orders', 'start_date': '1997-07-01', 'end_date': '2025-01-01', 'min_value': 33.00000000000067, 'max_value': 69.20000000000013}\n"
     ]
    }
   ],
   "source": [
    "scr.scrape_metadata() ## Scrape the metadata for the data series from the page."
   ]
  },
  {
   "cell_type": "code",
   "execution_count": 46,
   "metadata": {},
   "outputs": [
    {
     "data": {
      "text/plain": [
       "1997-07-01    58.800000\n",
       "1997-08-01    60.200000\n",
       "1997-09-01    59.300000\n",
       "1997-10-01    60.800000\n",
       "1997-11-01    59.506557\n",
       "                ...    \n",
       "2024-09-01    59.400000\n",
       "2024-10-01    56.700000\n",
       "2024-11-01    54.200000\n",
       "2024-12-01    54.400000\n",
       "2025-01-01    51.300000\n",
       "Freq: MS, Name: ism non manufacturing new orders, Length: 331, dtype: float64"
      ]
     },
     "execution_count": 46,
     "metadata": {},
     "output_type": "execute_result"
    }
   ],
   "source": [
    "scr.series # View the series data obtained."
   ]
  },
  {
   "cell_type": "code",
   "execution_count": 104,
   "metadata": {},
   "outputs": [
    {
     "ename": "AttributeError",
     "evalue": "'TE_Scraper' object has no attribute 'series'",
     "output_type": "error",
     "traceback": [
      "\u001b[0;31m---------------------------------------------------------------------------\u001b[0m",
      "\u001b[0;31mAttributeError\u001b[0m                            Traceback (most recent call last)",
      "Cell \u001b[0;32mIn[104], line 1\u001b[0m\n\u001b[0;32m----> 1\u001b[0m \u001b[43mscr\u001b[49m\u001b[38;5;241;43m.\u001b[39;49m\u001b[43mplot_series\u001b[49m\u001b[43m(\u001b[49m\u001b[43mann_box_pos\u001b[49m\u001b[38;5;241;43m=\u001b[39;49m\u001b[43m(\u001b[49m\u001b[38;5;241;43m0\u001b[39;49m\u001b[43m,\u001b[49m\u001b[43m \u001b[49m\u001b[38;5;241;43m-\u001b[39;49m\u001b[38;5;241;43m0.22\u001b[39;49m\u001b[43m)\u001b[49m\u001b[43m)\u001b[49m  \u001b[38;5;66;03m## Plot the series.\u001b[39;00m\n",
      "File \u001b[0;32m~/Documents/Python/Scraping/tedata/src/tedata/scraper.py:787\u001b[0m, in \u001b[0;36mTE_Scraper.plot_series\u001b[0;34m(self, series, annotation_text, dpi, ann_box_pos)\u001b[0m\n\u001b[1;32m    771\u001b[0m \u001b[38;5;250m\u001b[39m\u001b[38;5;124;03m\"\"\"\u001b[39;00m\n\u001b[1;32m    772\u001b[0m \u001b[38;5;124;03mPlots the time series data using pandas with plotly as the backend. Plotly is set as the pandas backend in __init__.py for tedata.\u001b[39;00m\n\u001b[1;32m    773\u001b[0m \u001b[38;5;124;03mIf you want to use matplotlib or other plotting library don't use this method, plot the series attribute data directly. If using jupyter\u001b[39;00m\n\u001b[0;32m   (...)\u001b[0m\n\u001b[1;32m    783\u001b[0m \u001b[38;5;124;03m**Returns** None\u001b[39;00m\n\u001b[1;32m    784\u001b[0m \u001b[38;5;124;03m\"\"\"\u001b[39;00m\n\u001b[1;32m    786\u001b[0m \u001b[38;5;28;01mif\u001b[39;00m series \u001b[38;5;129;01mis\u001b[39;00m \u001b[38;5;28;01mNone\u001b[39;00m:\n\u001b[0;32m--> 787\u001b[0m     series \u001b[38;5;241m=\u001b[39m \u001b[38;5;28;43mself\u001b[39;49m\u001b[38;5;241;43m.\u001b[39;49m\u001b[43mseries\u001b[49m\n\u001b[1;32m    789\u001b[0m fig \u001b[38;5;241m=\u001b[39m series\u001b[38;5;241m.\u001b[39mplot()  \u001b[38;5;66;03m# Plot the series using pandas, plotly needs to be set as the pandas plotting backend.\u001b[39;00m\n\u001b[1;32m    791\u001b[0m  \u001b[38;5;66;03m# Existing title and label logic\u001b[39;00m\n",
      "\u001b[0;31mAttributeError\u001b[0m: 'TE_Scraper' object has no attribute 'series'"
     ]
    }
   ],
   "source": [
    "scr.plot_series(ann_box_pos=(0, -0.22))  ## Plot the series."
   ]
  },
  {
   "cell_type": "code",
   "execution_count": null,
   "metadata": {},
   "outputs": [],
   "source": [
    "scr.save_plot(format=\"html\")  ## Save the plot as an interactive html file."
   ]
  },
  {
   "cell_type": "markdown",
   "metadata": {},
   "source": [
    "### Alternative scraping method\n",
    "\n",
    "Added in v0.3.0. Get the whole series from the tooltip values using javascript. This may turn out to be the best way to do it yet I expect it will run into issues for data series with many points."
   ]
  },
  {
   "cell_type": "code",
   "execution_count": 2,
   "metadata": {},
   "outputs": [
    {
     "data": {
      "text/plain": [
       "[]"
      ]
     },
     "execution_count": 2,
     "metadata": {},
     "output_type": "execute_result"
    }
   ],
   "source": [
    "from tedata import base\n",
    "base.find_active_drivers(quit_all=True)  ## Quit all active drivers."
   ]
  },
  {
   "cell_type": "code",
   "execution_count": 3,
   "metadata": {},
   "outputs": [
    {
     "name": "stderr",
     "output_type": "stream",
     "text": [
      "INFO - New firefox webdriver created.\n"
     ]
    }
   ],
   "source": [
    "scr = ted.TE_Scraper(use_existing_driver = False, headless = False)  ## Initialize a new TE_scraper object."
   ]
  },
  {
   "cell_type": "code",
   "execution_count": 4,
   "metadata": {},
   "outputs": [
    {
     "name": "stderr",
     "output_type": "stream",
     "text": [
      "INFO - WebPage at https://tradingeconomics.com/united-states/housing-starts loaded successfully.\n",
      "INFO - Chart types dictionary created successfully: dict_keys(['Column', 'Spline', 'Areaspline', 'Stepline', 'Line', 'Area'])\n"
     ]
    },
    {
     "data": {
      "text/plain": [
       "True"
      ]
     },
     "execution_count": 4,
     "metadata": {},
     "output_type": "execute_result"
    }
   ],
   "source": [
    "scr.load_page('https://tradingeconomics.com/united-states/housing-starts')"
   ]
  },
  {
   "cell_type": "code",
   "execution_count": 5,
   "metadata": {},
   "outputs": [
    {
     "name": "stderr",
     "output_type": "stream",
     "text": [
      "INFO - TooltipScraper object initialised successfully.\n"
     ]
    },
    {
     "name": "stdout",
     "output_type": "stream",
     "text": [
      "Description card not found:  {\"'title'\"}\n"
     ]
    }
   ],
   "source": [
    "scr.init_tooltipScraper()  ## Initialize the tooltip scraper.\n",
    "scr.set_max_date_span_viaCalendar()  ## Set the date span to maximum available using the calendar on the page.\n",
    "# Looks like trading economics made the MAX button subscriber only from 20th Feb 2025.\n",
    "scr.scrape_metadata()  ## Scrape the metadata for the data series from the page."
   ]
  },
  {
   "cell_type": "markdown",
   "metadata": {},
   "source": [
    "We are using the same ```latest_points_js``` method that is used to get some of the latest data points in order to determine the series frequency. However here we let it keep going and get all of the data points from the date and values that show up on the tooltips as the cursor is dragged across the chart."
   ]
  },
  {
   "cell_type": "code",
   "execution_count": 6,
   "metadata": {},
   "outputs": [
    {
     "name": "stderr",
     "output_type": "stream",
     "text": [
      "INFO - Chart type set to: Spline\n"
     ]
    },
    {
     "data": {
      "text/plain": [
       "[{'date': 'Dec 2024', 'value': '1.51K Thousand units', 'x': 761, 'y': 591.5},\n",
       " {'date': 'Nov 2024', 'value': '1.3K Thousand units', 'x': 760, 'y': 591.5},\n",
       " {'date': 'Sep 2024', 'value': '1.35K Thousand units', 'x': 759, 'y': 591.5},\n",
       " {'date': 'Aug 2024', 'value': '1.38K Thousand units', 'x': 758, 'y': 591.5},\n",
       " {'date': 'Jul 2024', 'value': '1.26K Thousand units', 'x': 757, 'y': 591.5},\n",
       " {'date': 'Jun 2024', 'value': '1.33K Thousand units', 'x': 756, 'y': 591.5},\n",
       " {'date': 'May 2024', 'value': '1.31K Thousand units', 'x': 755, 'y': 591.5},\n",
       " {'date': 'Mar 2024', 'value': '1.3K Thousand units', 'x': 754, 'y': 591.5},\n",
       " {'date': 'Feb 2024', 'value': '1.55K Thousand units', 'x': 753, 'y': 591.5},\n",
       " {'date': 'Jan 2024', 'value': '1.38K Thousand units', 'x': 752, 'y': 591.5},\n",
       " {'date': 'Dec 2023', 'value': '1.57K Thousand units', 'x': 751, 'y': 591.5},\n",
       " {'date': 'Nov 2023', 'value': '1.51K Thousand units', 'x': 750, 'y': 591.5},\n",
       " {'date': 'Sep 2023', 'value': '1.36K Thousand units', 'x': 749, 'y': 591.5},\n",
       " {'date': 'Aug 2023', 'value': '1.3K Thousand units', 'x': 748, 'y': 591.5},\n",
       " {'date': 'Jul 2023', 'value': '1.47K Thousand units', 'x': 747, 'y': 591.5},\n",
       " {'date': 'Jun 2023', 'value': '1.42K Thousand units', 'x': 746, 'y': 591.5},\n",
       " {'date': 'May 2023', 'value': '1.58K Thousand units', 'x': 745, 'y': 591.5},\n",
       " {'date': 'Apr 2023', 'value': '1.37K Thousand units', 'x': 744, 'y': 591.5},\n",
       " {'date': 'Feb 2023', 'value': '1.4K Thousand units', 'x': 743, 'y': 591.5},\n",
       " {'date': 'Jan 2023', 'value': '1.36K Thousand units', 'x': 742, 'y': 591.5},\n",
       " {'date': 'Dec 2022', 'value': '1.34K Thousand units', 'x': 741, 'y': 591.5},\n",
       " {'date': 'Nov 2022', 'value': '1.42K Thousand units', 'x': 740, 'y': 591.5},\n",
       " {'date': 'Sep 2022', 'value': '1.47K Thousand units', 'x': 739, 'y': 591.5},\n",
       " {'date': 'Aug 2022', 'value': '1.52K Thousand units', 'x': 738, 'y': 591.5},\n",
       " {'date': 'Jul 2022', 'value': '1.39K Thousand units', 'x': 737, 'y': 591.5},\n",
       " {'date': 'Jun 2022', 'value': '1.54K Thousand units', 'x': 736, 'y': 591.5},\n",
       " {'date': 'May 2022', 'value': '1.54K Thousand units', 'x': 735, 'y': 591.5},\n",
       " {'date': 'Apr 2022', 'value': '1.83K Thousand units', 'x': 734, 'y': 591.5},\n",
       " {'date': 'Feb 2022', 'value': '1.74K Thousand units', 'x': 733, 'y': 591.5},\n",
       " {'date': 'Jan 2022', 'value': '1.71K Thousand units', 'x': 732, 'y': 591.5},\n",
       " {'date': 'Dec 2021', 'value': '1.76K Thousand units', 'x': 731, 'y': 591.5},\n",
       " {'date': 'Nov 2021', 'value': '1.7K Thousand units', 'x': 730, 'y': 591.5},\n",
       " {'date': 'Sep 2021', 'value': '1.56K Thousand units', 'x': 729, 'y': 591.5},\n",
       " {'date': 'Aug 2021', 'value': '1.59K Thousand units', 'x': 728, 'y': 591.5},\n",
       " {'date': 'Jul 2021', 'value': '1.6K Thousand units', 'x': 727, 'y': 591.5},\n",
       " {'date': 'Jun 2021', 'value': '1.64K Thousand units', 'x': 726, 'y': 591.5},\n",
       " {'date': 'May 2021', 'value': '1.61K Thousand units', 'x': 725, 'y': 591.5},\n",
       " {'date': 'Apr 2021', 'value': '1.49K Thousand units', 'x': 724, 'y': 591.5},\n",
       " {'date': 'Feb 2021', 'value': '1.41K Thousand units', 'x': 723, 'y': 591.5},\n",
       " {'date': 'Jan 2021', 'value': '1.64K Thousand units', 'x': 722, 'y': 591.5},\n",
       " {'date': 'Dec 2020', 'value': '1.64K Thousand units', 'x': 721, 'y': 591.5},\n",
       " {'date': 'Nov 2020', 'value': '1.55K Thousand units', 'x': 720, 'y': 591.5},\n",
       " {'date': 'Sep 2020', 'value': '1.46K Thousand units', 'x': 719, 'y': 591.5},\n",
       " {'date': 'Aug 2020', 'value': '1.4K Thousand units', 'x': 718, 'y': 591.5},\n",
       " {'date': 'Jul 2020', 'value': '1.52K Thousand units', 'x': 717, 'y': 591.5},\n",
       " {'date': 'Jun 2020', 'value': '1.25K Thousand units', 'x': 716, 'y': 591.5},\n",
       " {'date': 'May 2020', 'value': '1.05K Thousand units', 'x': 715, 'y': 591.5},\n",
       " {'date': 'Apr 2020', 'value': '931 Thousand units', 'x': 714, 'y': 591.5},\n",
       " {'date': 'Feb 2020', 'value': '1.54K Thousand units', 'x': 713, 'y': 591.5},\n",
       " {'date': 'Jan 2020', 'value': '1.58K Thousand units', 'x': 712, 'y': 591.5},\n",
       " {'date': 'Dec 2019', 'value': '1.55K Thousand units', 'x': 711, 'y': 591.5},\n",
       " {'date': 'Nov 2019', 'value': '1.35K Thousand units', 'x': 710, 'y': 591.5},\n",
       " {'date': 'Oct 2019', 'value': '1.32K Thousand units', 'x': 709, 'y': 591.5},\n",
       " {'date': 'Aug 2019', 'value': '1.38K Thousand units', 'x': 708, 'y': 591.5},\n",
       " {'date': 'Jul 2019', 'value': '1.24K Thousand units', 'x': 707, 'y': 591.5},\n",
       " {'date': 'Jun 2019', 'value': '1.24K Thousand units', 'x': 706, 'y': 591.5},\n",
       " {'date': 'May 2019', 'value': '1.29K Thousand units', 'x': 705, 'y': 591.5},\n",
       " {'date': 'Apr 2019', 'value': '1.27K Thousand units', 'x': 704, 'y': 591.5},\n",
       " {'date': 'Feb 2019', 'value': '1.12K Thousand units', 'x': 703, 'y': 591.5},\n",
       " {'date': 'Jan 2019', 'value': '1.23K Thousand units', 'x': 702, 'y': 591.5},\n",
       " {'date': 'Dec 2018', 'value': '1.09K Thousand units', 'x': 701, 'y': 591.5},\n",
       " {'date': 'Nov 2018', 'value': '1.18K Thousand units', 'x': 700, 'y': 591.5},\n",
       " {'date': 'Oct 2018', 'value': '1.22K Thousand units', 'x': 699, 'y': 591.5},\n",
       " {'date': 'Aug 2018', 'value': '1.29K Thousand units', 'x': 698, 'y': 591.5},\n",
       " {'date': 'Jul 2018', 'value': '1.21K Thousand units', 'x': 697, 'y': 591.5},\n",
       " {'date': 'Jun 2018', 'value': '1.19K Thousand units', 'x': 696, 'y': 591.5},\n",
       " {'date': 'May 2018', 'value': '1.36K Thousand units', 'x': 695, 'y': 591.5},\n",
       " {'date': 'Apr 2018', 'value': '1.28K Thousand units', 'x': 694, 'y': 591.5},\n",
       " {'date': 'Feb 2018', 'value': '1.28K Thousand units', 'x': 693, 'y': 591.5},\n",
       " {'date': 'Jan 2018', 'value': '1.3K Thousand units', 'x': 692, 'y': 591.5},\n",
       " {'date': 'Dec 2017', 'value': '1.18K Thousand units', 'x': 691, 'y': 591.5},\n",
       " {'date': 'Nov 2017', 'value': '1.27K Thousand units', 'x': 690, 'y': 591.5},\n",
       " {'date': 'Oct 2017', 'value': '1.26K Thousand units', 'x': 689, 'y': 591.5},\n",
       " {'date': 'Aug 2017', 'value': '1.16K Thousand units', 'x': 688, 'y': 591.5},\n",
       " {'date': 'Jul 2017', 'value': '1.21K Thousand units', 'x': 687, 'y': 591.5},\n",
       " {'date': 'Jun 2017', 'value': '1.25K Thousand units', 'x': 686, 'y': 591.5},\n",
       " {'date': 'May 2017', 'value': '1.16K Thousand units', 'x': 685, 'y': 591.5},\n",
       " {'date': 'Apr 2017', 'value': '1.15K Thousand units', 'x': 684, 'y': 591.5},\n",
       " {'date': 'Feb 2017', 'value': '1.27K Thousand units', 'x': 683, 'y': 591.5},\n",
       " {'date': 'Jan 2017', 'value': '1.19K Thousand units', 'x': 682, 'y': 591.5},\n",
       " {'date': 'Dec 2016', 'value': '1.25K Thousand units', 'x': 681, 'y': 591.5},\n",
       " {'date': 'Nov 2016', 'value': '1.14K Thousand units', 'x': 680, 'y': 591.5},\n",
       " {'date': 'Oct 2016', 'value': '1.31K Thousand units', 'x': 679, 'y': 591.5},\n",
       " {'date': 'Aug 2016', 'value': '1.17K Thousand units', 'x': 678, 'y': 591.5},\n",
       " {'date': 'Jul 2016', 'value': '1.24K Thousand units', 'x': 677, 'y': 591.5},\n",
       " {'date': 'Jun 2016', 'value': '1.2K Thousand units', 'x': 676, 'y': 591.5},\n",
       " {'date': 'May 2016', 'value': '1.15K Thousand units', 'x': 675, 'y': 591.5},\n",
       " {'date': 'Apr 2016', 'value': '1.16K Thousand units', 'x': 674, 'y': 591.5},\n",
       " {'date': 'Feb 2016', 'value': '1.23K Thousand units', 'x': 673, 'y': 591.5},\n",
       " {'date': 'Jan 2016', 'value': '1.09K Thousand units', 'x': 672, 'y': 591.5},\n",
       " {'date': 'Dec 2015', 'value': '1.15K Thousand units', 'x': 671, 'y': 591.5},\n",
       " {'date': 'Nov 2015', 'value': '1.17K Thousand units', 'x': 670, 'y': 591.5},\n",
       " {'date': 'Oct 2015', 'value': '1.06K Thousand units', 'x': 669, 'y': 591.5},\n",
       " {'date': 'Aug 2015', 'value': '1.13K Thousand units', 'x': 668, 'y': 591.5},\n",
       " {'date': 'Jul 2015', 'value': '1.15K Thousand units', 'x': 667, 'y': 591.5},\n",
       " {'date': 'Jun 2015', 'value': '1.21K Thousand units', 'x': 666, 'y': 591.5},\n",
       " {'date': 'May 2015', 'value': '1.08K Thousand units', 'x': 665, 'y': 591.5},\n",
       " {'date': 'Apr 2015', 'value': '1.19K Thousand units', 'x': 664, 'y': 591.5},\n",
       " {'date': 'Feb 2015', 'value': '886 Thousand units', 'x': 663, 'y': 591.5},\n",
       " {'date': 'Jan 2015', 'value': '1.08K Thousand units', 'x': 662, 'y': 591.5},\n",
       " {'date': 'Dec 2014', 'value': '1.07K Thousand units', 'x': 661, 'y': 591.5},\n",
       " {'date': 'Nov 2014', 'value': '1K Thousand units', 'x': 660, 'y': 591.5},\n",
       " {'date': 'Oct 2014', 'value': '1.07K Thousand units', 'x': 659, 'y': 591.5},\n",
       " {'date': 'Aug 2014', 'value': '984 Thousand units', 'x': 658, 'y': 591.5},\n",
       " {'date': 'Jul 2014', 'value': '1.08K Thousand units', 'x': 657, 'y': 591.5},\n",
       " {'date': 'Jun 2014', 'value': '911 Thousand units', 'x': 656, 'y': 591.5},\n",
       " {'date': 'May 2014', 'value': '1.01K Thousand units', 'x': 655, 'y': 591.5},\n",
       " {'date': 'Apr 2014', 'value': '1.04K Thousand units', 'x': 654, 'y': 591.5},\n",
       " {'date': 'Feb 2014', 'value': '944 Thousand units', 'x': 653, 'y': 591.5},\n",
       " {'date': 'Jan 2014', 'value': '888 Thousand units', 'x': 652, 'y': 591.5},\n",
       " {'date': 'Dec 2013', 'value': '1K Thousand units', 'x': 651, 'y': 591.5},\n",
       " {'date': 'Nov 2013', 'value': '1.1K Thousand units', 'x': 650, 'y': 591.5},\n",
       " {'date': 'Oct 2013', 'value': '925 Thousand units', 'x': 649, 'y': 591.5},\n",
       " {'date': 'Aug 2013', 'value': '917 Thousand units', 'x': 648, 'y': 591.5},\n",
       " {'date': 'Jul 2013', 'value': '880 Thousand units', 'x': 647, 'y': 591.5},\n",
       " {'date': 'Jun 2013', 'value': '839 Thousand units', 'x': 646, 'y': 591.5},\n",
       " {'date': 'May 2013', 'value': '930 Thousand units', 'x': 645, 'y': 591.5},\n",
       " {'date': 'Apr 2013', 'value': '835 Thousand units', 'x': 644, 'y': 591.5},\n",
       " {'date': 'Feb 2013', 'value': '962 Thousand units', 'x': 643, 'y': 591.5},\n",
       " {'date': 'Jan 2013', 'value': '888 Thousand units', 'x': 642, 'y': 591.5},\n",
       " {'date': 'Dec 2012', 'value': '976 Thousand units', 'x': 641, 'y': 591.5},\n",
       " {'date': 'Nov 2012', 'value': '833 Thousand units', 'x': 640, 'y': 591.5},\n",
       " {'date': 'Oct 2012', 'value': '915 Thousand units', 'x': 639, 'y': 591.5},\n",
       " {'date': 'Aug 2012', 'value': '754 Thousand units', 'x': 638, 'y': 591.5},\n",
       " {'date': 'Jul 2012', 'value': '740 Thousand units', 'x': 637, 'y': 591.5},\n",
       " {'date': 'Jun 2012', 'value': '757 Thousand units', 'x': 636, 'y': 591.5},\n",
       " {'date': 'May 2012', 'value': '708 Thousand units', 'x': 635, 'y': 591.5},\n",
       " {'date': 'Apr 2012', 'value': '753 Thousand units', 'x': 634, 'y': 591.5},\n",
       " {'date': 'Feb 2012', 'value': '704 Thousand units', 'x': 633, 'y': 591.5},\n",
       " {'date': 'Jan 2012', 'value': '723 Thousand units', 'x': 632, 'y': 591.5},\n",
       " {'date': 'Dec 2011', 'value': '694 Thousand units', 'x': 631, 'y': 591.5},\n",
       " {'date': 'Nov 2011', 'value': '711 Thousand units', 'x': 630, 'y': 591.5},\n",
       " {'date': 'Oct 2011', 'value': '610 Thousand units', 'x': 629, 'y': 591.5},\n",
       " {'date': 'Aug 2011', 'value': '585 Thousand units', 'x': 628, 'y': 591.5},\n",
       " {'date': 'Jul 2011', 'value': '623 Thousand units', 'x': 627, 'y': 591.5},\n",
       " {'date': 'Jun 2011', 'value': '608 Thousand units', 'x': 626, 'y': 591.5},\n",
       " {'date': 'May 2011', 'value': '561 Thousand units', 'x': 625, 'y': 591.5},\n",
       " {'date': 'Apr 2011', 'value': '554 Thousand units', 'x': 624, 'y': 591.5},\n",
       " {'date': 'Feb 2011', 'value': '517 Thousand units', 'x': 623, 'y': 591.5},\n",
       " {'date': 'Jan 2011', 'value': '630 Thousand units', 'x': 622, 'y': 591.5},\n",
       " {'date': 'Dec 2010', 'value': '539 Thousand units', 'x': 621, 'y': 591.5},\n",
       " {'date': 'Nov 2010', 'value': '545 Thousand units', 'x': 620, 'y': 591.5},\n",
       " {'date': 'Oct 2010', 'value': '543 Thousand units', 'x': 619, 'y': 591.5},\n",
       " {'date': 'Aug 2010', 'value': '599 Thousand units', 'x': 618, 'y': 591.5},\n",
       " {'date': 'Jul 2010', 'value': '546 Thousand units', 'x': 617, 'y': 591.5},\n",
       " {'date': 'Jun 2010', 'value': '536 Thousand units', 'x': 616, 'y': 591.5},\n",
       " {'date': 'May 2010', 'value': '583 Thousand units', 'x': 615, 'y': 591.5},\n",
       " {'date': 'Apr 2010', 'value': '687 Thousand units', 'x': 614, 'y': 591.5},\n",
       " {'date': 'Feb 2010', 'value': '604 Thousand units', 'x': 613, 'y': 591.5},\n",
       " {'date': 'Jan 2010', 'value': '614 Thousand units', 'x': 612, 'y': 591.5},\n",
       " {'date': 'Dec 2009', 'value': '581 Thousand units', 'x': 611, 'y': 591.5},\n",
       " {'date': 'Nov 2009', 'value': '588 Thousand units', 'x': 610, 'y': 591.5},\n",
       " {'date': 'Oct 2009', 'value': '534 Thousand units', 'x': 609, 'y': 591.5},\n",
       " {'date': 'Sep 2009', 'value': '585 Thousand units', 'x': 608, 'y': 591.5},\n",
       " {'date': 'Jul 2009', 'value': '594 Thousand units', 'x': 607, 'y': 591.5},\n",
       " {'date': 'Jun 2009', 'value': '585 Thousand units', 'x': 606, 'y': 591.5},\n",
       " {'date': 'May 2009', 'value': '540 Thousand units', 'x': 605, 'y': 591.5},\n",
       " {'date': 'Apr 2009', 'value': '478 Thousand units', 'x': 604, 'y': 591.5},\n",
       " {'date': 'Mar 2009', 'value': '505 Thousand units', 'x': 603, 'y': 591.5},\n",
       " {'date': 'Jan 2009', 'value': '490 Thousand units', 'x': 602, 'y': 591.5},\n",
       " {'date': 'Dec 2008', 'value': '560 Thousand units', 'x': 601, 'y': 591.5},\n",
       " {'date': 'Nov 2008', 'value': '652 Thousand units', 'x': 600, 'y': 591.5},\n",
       " {'date': 'Oct 2008', 'value': '777 Thousand units', 'x': 599, 'y': 591.5},\n",
       " {'date': 'Sep 2008', 'value': '820 Thousand units', 'x': 598, 'y': 591.5},\n",
       " {'date': 'Jul 2008', 'value': '923 Thousand units', 'x': 597, 'y': 591.5},\n",
       " {'date': 'Jun 2008', 'value': '1.05K Thousand units', 'x': 596, 'y': 591.5},\n",
       " {'date': 'May 2008', 'value': '973 Thousand units', 'x': 595, 'y': 591.5},\n",
       " {'date': 'Apr 2008', 'value': '1.01K Thousand units', 'x': 594, 'y': 591.5},\n",
       " {'date': 'Mar 2008', 'value': '1K Thousand units', 'x': 593, 'y': 591.5},\n",
       " {'date': 'Jan 2008', 'value': '1.08K Thousand units', 'x': 592, 'y': 591.5},\n",
       " {'date': 'Dec 2007', 'value': '1.04K Thousand units', 'x': 591, 'y': 591.5},\n",
       " {'date': 'Nov 2007', 'value': '1.2K Thousand units', 'x': 590, 'y': 591.5},\n",
       " {'date': 'Oct 2007', 'value': '1.26K Thousand units', 'x': 589, 'y': 591.5},\n",
       " {'date': 'Sep 2007', 'value': '1.18K Thousand units', 'x': 588, 'y': 591.5},\n",
       " {'date': 'Jul 2007', 'value': '1.35K Thousand units', 'x': 587, 'y': 591.5},\n",
       " {'date': 'Jun 2007', 'value': '1.45K Thousand units', 'x': 586, 'y': 591.5},\n",
       " {'date': 'May 2007', 'value': '1.42K Thousand units', 'x': 585, 'y': 591.5},\n",
       " {'date': 'Apr 2007', 'value': '1.49K Thousand units', 'x': 584, 'y': 591.5},\n",
       " {'date': 'Mar 2007', 'value': '1.5K Thousand units', 'x': 583, 'y': 591.5},\n",
       " {'date': 'Jan 2007', 'value': '1.41K Thousand units', 'x': 582, 'y': 591.5},\n",
       " {'date': 'Dec 2006', 'value': '1.65K Thousand units', 'x': 581, 'y': 591.5},\n",
       " {'date': 'Nov 2006', 'value': '1.57K Thousand units', 'x': 580, 'y': 591.5},\n",
       " {'date': 'Oct 2006', 'value': '1.49K Thousand units', 'x': 579, 'y': 591.5},\n",
       " {'date': 'Sep 2006', 'value': '1.72K Thousand units', 'x': 578, 'y': 591.5},\n",
       " {'date': 'Jul 2006', 'value': '1.74K Thousand units', 'x': 577, 'y': 591.5},\n",
       " {'date': 'Jun 2006', 'value': '1.8K Thousand units', 'x': 576, 'y': 591.5},\n",
       " {'date': 'May 2006', 'value': '1.94K Thousand units', 'x': 575, 'y': 591.5},\n",
       " {'date': 'Apr 2006', 'value': '1.82K Thousand units', 'x': 574, 'y': 591.5},\n",
       " {'date': 'Mar 2006', 'value': '1.97K Thousand units', 'x': 573, 'y': 591.5},\n",
       " {'date': 'Jan 2006', 'value': '2.27K Thousand units', 'x': 572, 'y': 591.5},\n",
       " {'date': 'Dec 2005', 'value': '1.99K Thousand units', 'x': 571, 'y': 591.5},\n",
       " {'date': 'Nov 2005', 'value': '2.15K Thousand units', 'x': 570, 'y': 591.5},\n",
       " {'date': 'Oct 2005', 'value': '2.06K Thousand units', 'x': 569, 'y': 591.5},\n",
       " {'date': 'Sep 2005', 'value': '2.15K Thousand units', 'x': 568, 'y': 591.5},\n",
       " {'date': 'Jul 2005', 'value': '2.05K Thousand units', 'x': 567, 'y': 591.5},\n",
       " {'date': 'Jun 2005', 'value': '2.07K Thousand units', 'x': 566, 'y': 591.5},\n",
       " {'date': 'May 2005', 'value': '2.02K Thousand units', 'x': 565, 'y': 591.5},\n",
       " {'date': 'Apr 2005', 'value': '2.06K Thousand units', 'x': 564, 'y': 591.5},\n",
       " {'date': 'Mar 2005', 'value': '1.86K Thousand units', 'x': 563, 'y': 591.5},\n",
       " {'date': 'Jan 2005', 'value': '2.14K Thousand units', 'x': 562, 'y': 591.5},\n",
       " {'date': 'Dec 2004', 'value': '2.04K Thousand units', 'x': 561, 'y': 591.5},\n",
       " {'date': 'Nov 2004', 'value': '1.78K Thousand units', 'x': 560, 'y': 591.5},\n",
       " {'date': 'Oct 2004', 'value': '2.07K Thousand units', 'x': 559, 'y': 591.5},\n",
       " {'date': 'Sep 2004', 'value': '1.91K Thousand units', 'x': 558, 'y': 591.5},\n",
       " {'date': 'Jul 2004', 'value': '2K Thousand units', 'x': 557, 'y': 591.5},\n",
       " {'date': 'Jun 2004', 'value': '1.83K Thousand units', 'x': 556, 'y': 591.5},\n",
       " {'date': 'May 2004', 'value': '1.98K Thousand units', 'x': 555, 'y': 591.5},\n",
       " {'date': 'Apr 2004', 'value': '2K Thousand units', 'x': 554, 'y': 591.5},\n",
       " {'date': 'Mar 2004', 'value': '2K Thousand units', 'x': 553, 'y': 591.5},\n",
       " {'date': 'Jan 2004', 'value': '1.91K Thousand units', 'x': 552, 'y': 591.5},\n",
       " {'date': 'Dec 2003', 'value': '2.06K Thousand units', 'x': 551, 'y': 591.5},\n",
       " {'date': 'Nov 2003', 'value': '2.08K Thousand units', 'x': 550, 'y': 591.5},\n",
       " {'date': 'Oct 2003', 'value': '1.97K Thousand units', 'x': 549, 'y': 591.5},\n",
       " {'date': 'Sep 2003', 'value': '1.94K Thousand units', 'x': 548, 'y': 591.5},\n",
       " {'date': 'Jul 2003', 'value': '1.9K Thousand units', 'x': 547, 'y': 591.5},\n",
       " {'date': 'Jun 2003', 'value': '1.87K Thousand units', 'x': 546, 'y': 591.5},\n",
       " {'date': 'May 2003', 'value': '1.75K Thousand units', 'x': 545, 'y': 591.5},\n",
       " {'date': 'Apr 2003', 'value': '1.64K Thousand units', 'x': 544, 'y': 591.5},\n",
       " {'date': 'Mar 2003', 'value': '1.73K Thousand units', 'x': 543, 'y': 591.5},\n",
       " {'date': 'Jan 2003', 'value': '1.85K Thousand units', 'x': 542, 'y': 591.5},\n",
       " {'date': 'Dec 2002', 'value': '1.79K Thousand units', 'x': 541, 'y': 591.5},\n",
       " {'date': 'Nov 2002', 'value': '1.75K Thousand units', 'x': 540, 'y': 591.5},\n",
       " {'date': 'Oct 2002', 'value': '1.65K Thousand units', 'x': 539, 'y': 591.5},\n",
       " {'date': 'Sep 2002', 'value': '1.8K Thousand units', 'x': 538, 'y': 591.5},\n",
       " {'date': 'Jul 2002', 'value': '1.66K Thousand units', 'x': 537, 'y': 591.5},\n",
       " {'date': 'Jun 2002', 'value': '1.72K Thousand units', 'x': 536, 'y': 591.5},\n",
       " {'date': 'May 2002', 'value': '1.76K Thousand units', 'x': 535, 'y': 591.5},\n",
       " {'date': 'Apr 2002', 'value': '1.59K Thousand units', 'x': 534, 'y': 591.5},\n",
       " {'date': 'Mar 2002', 'value': '1.64K Thousand units', 'x': 533, 'y': 591.5},\n",
       " {'date': 'Jan 2002', 'value': '1.7K Thousand units', 'x': 532, 'y': 591.5},\n",
       " {'date': 'Dec 2001', 'value': '1.57K Thousand units', 'x': 531, 'y': 591.5},\n",
       " {'date': 'Nov 2001', 'value': '1.6K Thousand units', 'x': 530, 'y': 591.5},\n",
       " {'date': 'Oct 2001', 'value': '1.54K Thousand units', 'x': 529, 'y': 591.5},\n",
       " {'date': 'Sep 2001', 'value': '1.56K Thousand units', 'x': 528, 'y': 591.5},\n",
       " {'date': 'Jul 2001', 'value': '1.67K Thousand units', 'x': 527, 'y': 591.5},\n",
       " {'date': 'Jun 2001', 'value': '1.64K Thousand units', 'x': 526, 'y': 591.5},\n",
       " {'date': 'May 2001', 'value': '1.6K Thousand units', 'x': 525, 'y': 591.5},\n",
       " {'date': 'Apr 2001', 'value': '1.65K Thousand units', 'x': 524, 'y': 591.5},\n",
       " {'date': 'Mar 2001', 'value': '1.59K Thousand units', 'x': 523, 'y': 591.5},\n",
       " {'date': 'Jan 2001', 'value': '1.6K Thousand units', 'x': 522, 'y': 591.5},\n",
       " {'date': 'Dec 2000', 'value': '1.53K Thousand units', 'x': 521, 'y': 591.5},\n",
       " {'date': 'Nov 2000', 'value': '1.55K Thousand units', 'x': 520, 'y': 591.5},\n",
       " {'date': 'Oct 2000', 'value': '1.55K Thousand units', 'x': 519, 'y': 591.5},\n",
       " {'date': 'Sep 2000', 'value': '1.51K Thousand units', 'x': 518, 'y': 591.5},\n",
       " {'date': 'Jul 2000', 'value': '1.46K Thousand units', 'x': 517, 'y': 591.5},\n",
       " {'date': 'Jun 2000', 'value': '1.56K Thousand units', 'x': 516, 'y': 591.5},\n",
       " {'date': 'May 2000', 'value': '1.57K Thousand units', 'x': 515, 'y': 591.5},\n",
       " {'date': 'Apr 2000', 'value': '1.63K Thousand units', 'x': 514, 'y': 591.5},\n",
       " {'date': 'Mar 2000', 'value': '1.6K Thousand units', 'x': 513, 'y': 591.5},\n",
       " {'date': 'Jan 2000', 'value': '1.64K Thousand units', 'x': 512, 'y': 591.5},\n",
       " {'date': 'Dec 1999', 'value': '1.71K Thousand units', 'x': 511, 'y': 591.5},\n",
       " {'date': 'Nov 1999', 'value': '1.65K Thousand units', 'x': 510, 'y': 591.5},\n",
       " {'date': 'Oct 1999', 'value': '1.61K Thousand units', 'x': 509, 'y': 591.5},\n",
       " {'date': 'Sep 1999', 'value': '1.64K Thousand units', 'x': 508, 'y': 591.5},\n",
       " {'date': 'Aug 1999', 'value': '1.65K Thousand units', 'x': 507, 'y': 591.5},\n",
       " {'date': 'Jun 1999', 'value': '1.56K Thousand units', 'x': 506, 'y': 591.5},\n",
       " {'date': 'May 1999', 'value': '1.61K Thousand units', 'x': 505, 'y': 591.5},\n",
       " {'date': 'Apr 1999', 'value': '1.55K Thousand units', 'x': 504, 'y': 591.5},\n",
       " {'date': 'Mar 1999', 'value': '1.71K Thousand units', 'x': 503, 'y': 591.5},\n",
       " {'date': 'Jan 1999', 'value': '1.75K Thousand units', 'x': 502, 'y': 591.5},\n",
       " {'date': 'Dec 1998', 'value': '1.79K Thousand units', 'x': 501, 'y': 591.5},\n",
       " {'date': 'Nov 1998', 'value': '1.66K Thousand units', 'x': 500, 'y': 591.5},\n",
       " {'date': 'Oct 1998', 'value': '1.72K Thousand units', 'x': 499, 'y': 591.5},\n",
       " {'date': 'Sep 1998', 'value': '1.58K Thousand units', 'x': 498, 'y': 591.5},\n",
       " {'date': 'Aug 1998', 'value': '1.61K Thousand units', 'x': 497, 'y': 591.5},\n",
       " {'date': 'Jun 1998', 'value': '1.64K Thousand units', 'x': 496, 'y': 591.5},\n",
       " {'date': 'May 1998', 'value': '1.54K Thousand units', 'x': 495, 'y': 591.5},\n",
       " {'date': 'Apr 1998', 'value': '1.54K Thousand units', 'x': 494, 'y': 591.5},\n",
       " {'date': 'Mar 1998', 'value': '1.57K Thousand units', 'x': 493, 'y': 591.5},\n",
       " {'date': 'Jan 1998', 'value': '1.52K Thousand units', 'x': 492, 'y': 591.5},\n",
       " {'date': 'Dec 1997', 'value': '1.57K Thousand units', 'x': 491, 'y': 591.5},\n",
       " {'date': 'Nov 1997', 'value': '1.51K Thousand units', 'x': 490, 'y': 591.5},\n",
       " {'date': 'Oct 1997', 'value': '1.52K Thousand units', 'x': 489, 'y': 591.5},\n",
       " {'date': 'Sep 1997', 'value': '1.55K Thousand units', 'x': 488, 'y': 591.5},\n",
       " {'date': 'Aug 1997', 'value': '1.39K Thousand units', 'x': 487, 'y': 591.5},\n",
       " {'date': 'Jun 1997', 'value': '1.49K Thousand units', 'x': 486, 'y': 591.5},\n",
       " {'date': 'May 1997', 'value': '1.44K Thousand units', 'x': 485, 'y': 591.5},\n",
       " {'date': 'Apr 1997', 'value': '1.49K Thousand units', 'x': 484, 'y': 591.5},\n",
       " {'date': 'Mar 1997', 'value': '1.46K Thousand units', 'x': 483, 'y': 591.5},\n",
       " {'date': 'Jan 1997', 'value': '1.35K Thousand units', 'x': 482, 'y': 591.5},\n",
       " {'date': 'Dec 1996', 'value': '1.37K Thousand units', 'x': 481, 'y': 591.5},\n",
       " {'date': 'Nov 1996', 'value': '1.49K Thousand units', 'x': 480, 'y': 591.5},\n",
       " {'date': 'Oct 1996', 'value': '1.39K Thousand units', 'x': 479, 'y': 591.5},\n",
       " {'date': 'Sep 1996', 'value': '1.48K Thousand units', 'x': 478, 'y': 591.5},\n",
       " {'date': 'Aug 1996', 'value': '1.56K Thousand units', 'x': 477, 'y': 591.5},\n",
       " {'date': 'Jun 1996', 'value': '1.47K Thousand units', 'x': 476, 'y': 591.5},\n",
       " {'date': 'May 1996', 'value': '1.5K Thousand units', 'x': 475, 'y': 591.5},\n",
       " {'date': 'Apr 1996', 'value': '1.52K Thousand units', 'x': 474, 'y': 591.5},\n",
       " {'date': 'Mar 1996', 'value': '1.42K Thousand units', 'x': 473, 'y': 591.5},\n",
       " {'date': 'Feb 1996', 'value': '1.49K Thousand units', 'x': 472, 'y': 591.5},\n",
       " {'date': 'Dec 1995', 'value': '1.43K Thousand units', 'x': 471, 'y': 591.5},\n",
       " {'date': 'Nov 1995', 'value': '1.45K Thousand units', 'x': 470, 'y': 591.5},\n",
       " {'date': 'Oct 1995', 'value': '1.37K Thousand units', 'x': 469, 'y': 591.5},\n",
       " {'date': 'Sep 1995', 'value': '1.37K Thousand units', 'x': 468, 'y': 591.5},\n",
       " {'date': 'Aug 1995', 'value': '1.42K Thousand units', 'x': 467, 'y': 591.5},\n",
       " {'date': 'Jun 1995', 'value': '1.28K Thousand units', 'x': 466, 'y': 591.5},\n",
       " {'date': 'May 1995', 'value': '1.31K Thousand units', 'x': 465, 'y': 591.5},\n",
       " {'date': 'Apr 1995', 'value': '1.27K Thousand units', 'x': 464, 'y': 591.5},\n",
       " {'date': 'Mar 1995', 'value': '1.25K Thousand units', 'x': 463, 'y': 591.5},\n",
       " {'date': 'Feb 1995', 'value': '1.32K Thousand units', 'x': 462, 'y': 591.5},\n",
       " {'date': 'Dec 1994', 'value': '1.46K Thousand units', 'x': 461, 'y': 591.5},\n",
       " {'date': 'Nov 1994', 'value': '1.51K Thousand units', 'x': 460, 'y': 591.5},\n",
       " {'date': 'Oct 1994', 'value': '1.45K Thousand units', 'x': 459, 'y': 591.5},\n",
       " {'date': 'Sep 1994', 'value': '1.47K Thousand units', 'x': 458, 'y': 591.5},\n",
       " {'date': 'Aug 1994', 'value': '1.45K Thousand units', 'x': 457, 'y': 591.5},\n",
       " {'date': 'Jun 1994', 'value': '1.41K Thousand units', 'x': 456, 'y': 591.5},\n",
       " {'date': 'May 1994', 'value': '1.53K Thousand units', 'x': 455, 'y': 591.5},\n",
       " {'date': 'Apr 1994', 'value': '1.47K Thousand units', 'x': 454, 'y': 591.5},\n",
       " {'date': 'Mar 1994', 'value': '1.56K Thousand units', 'x': 453, 'y': 591.5},\n",
       " {'date': 'Feb 1994', 'value': '1.34K Thousand units', 'x': 452, 'y': 591.5},\n",
       " {'date': 'Dec 1993', 'value': '1.53K Thousand units', 'x': 451, 'y': 591.5},\n",
       " {'date': 'Nov 1993', 'value': '1.38K Thousand units', 'x': 450, 'y': 591.5},\n",
       " {'date': 'Oct 1993', 'value': '1.39K Thousand units', 'x': 449, 'y': 591.5},\n",
       " {'date': 'Sep 1993', 'value': '1.34K Thousand units', 'x': 448, 'y': 591.5},\n",
       " {'date': 'Aug 1993', 'value': '1.3K Thousand units', 'x': 447, 'y': 591.5},\n",
       " {'date': 'Jun 1993', 'value': '1.28K Thousand units', 'x': 446, 'y': 591.5},\n",
       " {'date': 'May 1993', 'value': '1.26K Thousand units', 'x': 445, 'y': 591.5},\n",
       " {'date': 'Apr 1993', 'value': '1.26K Thousand units', 'x': 444, 'y': 591.5},\n",
       " {'date': 'Mar 1993', 'value': '1.08K Thousand units', 'x': 443, 'y': 591.5},\n",
       " {'date': 'Feb 1993', 'value': '1.21K Thousand units', 'x': 442, 'y': 591.5},\n",
       " {'date': 'Dec 1992', 'value': '1.23K Thousand units', 'x': 441, 'y': 591.5},\n",
       " {'date': 'Nov 1992', 'value': '1.21K Thousand units', 'x': 440, 'y': 591.5},\n",
       " {'date': 'Oct 1992', 'value': '1.24K Thousand units', 'x': 439, 'y': 591.5},\n",
       " {'date': 'Sep 1992', 'value': '1.19K Thousand units', 'x': 438, 'y': 591.5},\n",
       " {'date': 'Aug 1992', 'value': '1.23K Thousand units', 'x': 437, 'y': 591.5},\n",
       " {'date': 'Jun 1992', 'value': '1.15K Thousand units', 'x': 436, 'y': 591.5},\n",
       " {'date': 'May 1992', 'value': '1.21K Thousand units', 'x': 435, 'y': 591.5},\n",
       " {'date': 'Apr 1992', 'value': '1.1K Thousand units', 'x': 434, 'y': 591.5},\n",
       " {'date': 'Mar 1992', 'value': '1.3K Thousand units', 'x': 433, 'y': 591.5},\n",
       " {'date': 'Feb 1992', 'value': '1.25K Thousand units', 'x': 432, 'y': 591.5},\n",
       " {'date': 'Dec 1991', 'value': '1.08K Thousand units', 'x': 431, 'y': 591.5},\n",
       " {'date': 'Nov 1991', 'value': '1.1K Thousand units', 'x': 430, 'y': 591.5},\n",
       " {'date': 'Oct 1991', 'value': '1.08K Thousand units', 'x': 429, 'y': 591.5},\n",
       " {'date': 'Sep 1991', 'value': '1.01K Thousand units', 'x': 428, 'y': 591.5},\n",
       " {'date': 'Aug 1991', 'value': '1.05K Thousand units', 'x': 427, 'y': 591.5},\n",
       " {'date': 'Jun 1991', 'value': '1.04K Thousand units', 'x': 426, 'y': 591.5},\n",
       " {'date': 'May 1991', 'value': '996 Thousand units', 'x': 425, 'y': 591.5},\n",
       " {'date': 'Apr 1991', 'value': '1K Thousand units', 'x': 424, 'y': 591.5},\n",
       " {'date': 'Mar 1991', 'value': '921 Thousand units', 'x': 423, 'y': 591.5},\n",
       " {'date': 'Feb 1991', 'value': '965 Thousand units', 'x': 422, 'y': 591.5},\n",
       " {'date': 'Dec 1990', 'value': '969 Thousand units', 'x': 421, 'y': 591.5},\n",
       " {'date': 'Nov 1990', 'value': '1.15K Thousand units', 'x': 420, 'y': 591.5},\n",
       " {'date': 'Oct 1990', 'value': '1.01K Thousand units', 'x': 419, 'y': 591.5},\n",
       " {'date': 'Sep 1990', 'value': '1.11K Thousand units', 'x': 418, 'y': 591.5},\n",
       " {'date': 'Aug 1990', 'value': '1.11K Thousand units', 'x': 417, 'y': 591.5},\n",
       " {'date': 'Jun 1990', 'value': '1.18K Thousand units', 'x': 416, 'y': 591.5},\n",
       " {'date': 'May 1990', 'value': '1.21K Thousand units', 'x': 415, 'y': 591.5},\n",
       " {'date': 'Apr 1990', 'value': '1.25K Thousand units', 'x': 414, 'y': 591.5},\n",
       " {'date': 'Mar 1990', 'value': '1.29K Thousand units', 'x': 413, 'y': 591.5},\n",
       " {'date': 'Feb 1990', 'value': '1.44K Thousand units', 'x': 412, 'y': 591.5},\n",
       " {'date': 'Dec 1989', 'value': '1.25K Thousand units', 'x': 411, 'y': 591.5},\n",
       " {'date': 'Nov 1989', 'value': '1.35K Thousand units', 'x': 410, 'y': 591.5},\n",
       " {'date': 'Oct 1989', 'value': '1.41K Thousand units', 'x': 409, 'y': 591.5},\n",
       " {'date': 'Sep 1989', 'value': '1.28K Thousand units', 'x': 408, 'y': 591.5},\n",
       " {'date': 'Aug 1989', 'value': '1.33K Thousand units', 'x': 407, 'y': 591.5},\n",
       " {'date': 'Jun 1989', 'value': '1.4K Thousand units', 'x': 406, 'y': 591.5},\n",
       " {'date': 'May 1989', 'value': '1.33K Thousand units', 'x': 405, 'y': 591.5},\n",
       " {'date': 'Apr 1989', 'value': '1.34K Thousand units', 'x': 404, 'y': 591.5},\n",
       " {'date': 'Mar 1989', 'value': '1.42K Thousand units', 'x': 403, 'y': 591.5},\n",
       " {'date': 'Feb 1989', 'value': '1.43K Thousand units', 'x': 402, 'y': 591.5},\n",
       " {'date': 'Dec 1988', 'value': '1.56K Thousand units', 'x': 401, 'y': 591.5},\n",
       " {'date': 'Nov 1988', 'value': '1.57K Thousand units', 'x': 400, 'y': 591.5},\n",
       " {'date': 'Oct 1988', 'value': '1.52K Thousand units', 'x': 399, 'y': 591.5},\n",
       " {'date': 'Sep 1988', 'value': '1.49K Thousand units', 'x': 398, 'y': 591.5},\n",
       " {'date': 'Aug 1988', 'value': '1.49K Thousand units', 'x': 397, 'y': 591.5},\n",
       " {'date': 'Jun 1988', 'value': '1.48K Thousand units', 'x': 396, 'y': 591.5},\n",
       " {'date': 'May 1988', 'value': '1.42K Thousand units', 'x': 395, 'y': 591.5},\n",
       " {'date': 'Apr 1988', 'value': '1.57K Thousand units', 'x': 394, 'y': 591.5},\n",
       " {'date': 'Mar 1988', 'value': '1.53K Thousand units', 'x': 393, 'y': 591.5},\n",
       " {'date': 'Feb 1988', 'value': '1.47K Thousand units', 'x': 392, 'y': 591.5},\n",
       " {'date': 'Dec 1987', 'value': '1.4K Thousand units', 'x': 391, 'y': 591.5},\n",
       " {'date': 'Nov 1987', 'value': '1.66K Thousand units', 'x': 390, 'y': 591.5},\n",
       " {'date': 'Oct 1987', 'value': '1.51K Thousand units', 'x': 389, 'y': 591.5},\n",
       " {'date': 'Sep 1987', 'value': '1.7K Thousand units', 'x': 388, 'y': 591.5},\n",
       " {'date': 'Aug 1987', 'value': '1.6K Thousand units', 'x': 387, 'y': 591.5},\n",
       " {'date': 'Jul 1987', 'value': '1.57K Thousand units', 'x': 386, 'y': 591.5},\n",
       " {'date': 'May 1987', 'value': '1.63K Thousand units', 'x': 385, 'y': 591.5},\n",
       " {'date': 'Apr 1987', 'value': '1.61K Thousand units', 'x': 384, 'y': 591.5},\n",
       " {'date': 'Mar 1987', 'value': '1.73K Thousand units', 'x': 383, 'y': 591.5},\n",
       " {'date': 'Feb 1987', 'value': '1.78K Thousand units', 'x': 382, 'y': 591.5},\n",
       " {'date': 'Jan 1987', 'value': '1.77K Thousand units', 'x': 381, 'y': 591.5},\n",
       " {'date': 'Nov 1986', 'value': '1.62K Thousand units', 'x': 380, 'y': 591.5},\n",
       " {'date': 'Oct 1986', 'value': '1.68K Thousand units', 'x': 379, 'y': 591.5},\n",
       " {'date': 'Sep 1986', 'value': '1.69K Thousand units', 'x': 378, 'y': 591.5},\n",
       " {'date': 'Aug 1986', 'value': '1.81K Thousand units', 'x': 377, 'y': 591.5},\n",
       " {'date': 'Jul 1986', 'value': '1.78K Thousand units', 'x': 376, 'y': 591.5},\n",
       " {'date': 'May 1986', 'value': '1.85K Thousand units', 'x': 375, 'y': 591.5},\n",
       " {'date': 'Apr 1986', 'value': '1.93K Thousand units', 'x': 374, 'y': 591.5},\n",
       " {'date': 'Mar 1986', 'value': '1.88K Thousand units', 'x': 373, 'y': 591.5},\n",
       " {'date': 'Feb 1986', 'value': '1.85K Thousand units', 'x': 372, 'y': 591.5},\n",
       " {'date': 'Jan 1986', 'value': '1.97K Thousand units', 'x': 371, 'y': 591.5},\n",
       " {'date': 'Nov 1985', 'value': '1.7K Thousand units', 'x': 370, 'y': 591.5},\n",
       " {'date': 'Oct 1985', 'value': '1.83K Thousand units', 'x': 369, 'y': 591.5},\n",
       " {'date': 'Sep 1985', 'value': '1.68K Thousand units', 'x': 368, 'y': 591.5},\n",
       " {'date': 'Aug 1985', 'value': '1.74K Thousand units', 'x': 367, 'y': 591.5},\n",
       " {'date': 'Jul 1985', 'value': '1.68K Thousand units', 'x': 366, 'y': 591.5},\n",
       " {'date': 'May 1985', 'value': '1.68K Thousand units', 'x': 365, 'y': 591.5},\n",
       " {'date': 'Apr 1985', 'value': '1.82K Thousand units', 'x': 364, 'y': 591.5},\n",
       " {'date': 'Mar 1985', 'value': '1.8K Thousand units', 'x': 363, 'y': 591.5},\n",
       " {'date': 'Feb 1985', 'value': '1.63K Thousand units', 'x': 362, 'y': 591.5},\n",
       " {'date': 'Jan 1985', 'value': '1.71K Thousand units', 'x': 361, 'y': 591.5},\n",
       " {'date': 'Nov 1984', 'value': '1.69K Thousand units', 'x': 360, 'y': 591.5},\n",
       " {'date': 'Oct 1984', 'value': '1.59K Thousand units', 'x': 359, 'y': 591.5},\n",
       " {'date': 'Sep 1984', 'value': '1.7K Thousand units', 'x': 358, 'y': 591.5},\n",
       " {'date': 'Aug 1984', 'value': '1.59K Thousand units', 'x': 357, 'y': 591.5},\n",
       " {'date': 'Jul 1984', 'value': '1.73K Thousand units', 'x': 356, 'y': 591.5},\n",
       " {'date': 'May 1984', 'value': '1.77K Thousand units', 'x': 355, 'y': 591.5},\n",
       " {'date': 'Apr 1984', 'value': '1.85K Thousand units', 'x': 354, 'y': 591.5},\n",
       " {'date': 'Mar 1984', 'value': '1.66K Thousand units', 'x': 353, 'y': 591.5},\n",
       " {'date': 'Feb 1984', 'value': '2.26K Thousand units', 'x': 352, 'y': 591.5},\n",
       " {'date': 'Jan 1984', 'value': '1.9K Thousand units', 'x': 351, 'y': 591.5},\n",
       " {'date': 'Nov 1983', 'value': '1.78K Thousand units', 'x': 350, 'y': 591.5},\n",
       " {'date': 'Oct 1983', 'value': '1.72K Thousand units', 'x': 349, 'y': 591.5},\n",
       " {'date': 'Sep 1983', 'value': '1.71K Thousand units', 'x': 348, 'y': 591.5},\n",
       " {'date': 'Aug 1983', 'value': '1.91K Thousand units', 'x': 347, 'y': 591.5},\n",
       " {'date': 'Jul 1983', 'value': '1.78K Thousand units', 'x': 346, 'y': 591.5},\n",
       " {'date': 'May 1983', 'value': '1.78K Thousand units', 'x': 345, 'y': 591.5},\n",
       " {'date': 'Apr 1983', 'value': '1.47K Thousand units', 'x': 344, 'y': 591.5},\n",
       " {'date': 'Mar 1983', 'value': '1.61K Thousand units', 'x': 343, 'y': 591.5},\n",
       " {'date': 'Feb 1983', 'value': '1.7K Thousand units', 'x': 342, 'y': 591.5},\n",
       " {'date': 'Jan 1983', 'value': '1.59K Thousand units', 'x': 341, 'y': 591.5},\n",
       " {'date': 'Nov 1982', 'value': '1.37K Thousand units', 'x': 340, 'y': 591.5},\n",
       " {'date': 'Oct 1982', 'value': '1.17K Thousand units', 'x': 339, 'y': 591.5},\n",
       " {'date': 'Sep 1982', 'value': '1.14K Thousand units', 'x': 338, 'y': 591.5},\n",
       " {'date': 'Aug 1982', 'value': '1.05K Thousand units', 'x': 337, 'y': 591.5},\n",
       " {'date': 'Jul 1982', 'value': '1.17K Thousand units', 'x': 336, 'y': 591.5},\n",
       " {'date': 'May 1982', 'value': '1.02K Thousand units', 'x': 335, 'y': 591.5},\n",
       " {'date': 'Apr 1982', 'value': '917 Thousand units', 'x': 334, 'y': 591.5},\n",
       " {'date': 'Mar 1982', 'value': '931 Thousand units', 'x': 333, 'y': 591.5},\n",
       " {'date': 'Feb 1982', 'value': '866 Thousand units', 'x': 332, 'y': 591.5},\n",
       " {'date': 'Jan 1982', 'value': '843 Thousand units', 'x': 331, 'y': 591.5},\n",
       " {'date': 'Nov 1981', 'value': '837 Thousand units', 'x': 330, 'y': 591.5},\n",
       " {'date': 'Oct 1981', 'value': '873 Thousand units', 'x': 329, 'y': 591.5},\n",
       " {'date': 'Sep 1981', 'value': '911 Thousand units', 'x': 328, 'y': 591.5},\n",
       " {'date': 'Aug 1981', 'value': '940 Thousand units', 'x': 327, 'y': 591.5},\n",
       " {'date': 'Jul 1981', 'value': '1.04K Thousand units', 'x': 326, 'y': 591.5},\n",
       " {'date': 'May 1981', 'value': '1.14K Thousand units', 'x': 325, 'y': 591.5},\n",
       " {'date': 'Apr 1981', 'value': '1.36K Thousand units', 'x': 324, 'y': 591.5},\n",
       " {'date': 'Mar 1981', 'value': '1.31K Thousand units', 'x': 323, 'y': 591.5},\n",
       " {'date': 'Feb 1981', 'value': '1.25K Thousand units', 'x': 322, 'y': 591.5},\n",
       " {'date': 'Jan 1981', 'value': '1.55K Thousand units', 'x': 321, 'y': 591.5},\n",
       " {'date': 'Nov 1980', 'value': '1.51K Thousand units', 'x': 320, 'y': 591.5},\n",
       " {'date': 'Oct 1980', 'value': '1.52K Thousand units', 'x': 319, 'y': 591.5},\n",
       " {'date': 'Sep 1980', 'value': '1.47K Thousand units', 'x': 318, 'y': 591.5},\n",
       " {'date': 'Aug 1980', 'value': '1.44K Thousand units', 'x': 317, 'y': 591.5},\n",
       " {'date': 'Jul 1980', 'value': '1.27K Thousand units', 'x': 316, 'y': 591.5},\n",
       " {'date': 'May 1980', 'value': '927 Thousand units', 'x': 315, 'y': 591.5},\n",
       " {'date': 'Apr 1980', 'value': '1.05K Thousand units', 'x': 314, 'y': 591.5},\n",
       " {'date': 'Mar 1980', 'value': '1.05K Thousand units', 'x': 313, 'y': 591.5},\n",
       " {'date': 'Feb 1980', 'value': '1.35K Thousand units', 'x': 312, 'y': 591.5},\n",
       " {'date': 'Jan 1980', 'value': '1.34K Thousand units', 'x': 311, 'y': 591.5},\n",
       " {'date': 'Nov 1979', 'value': '1.52K Thousand units', 'x': 310, 'y': 591.5},\n",
       " {'date': 'Oct 1979', 'value': '1.68K Thousand units', 'x': 309, 'y': 591.5},\n",
       " {'date': 'Sep 1979', 'value': '1.83K Thousand units', 'x': 308, 'y': 591.5},\n",
       " {'date': 'Aug 1979', 'value': '1.78K Thousand units', 'x': 307, 'y': 591.5},\n",
       " {'date': 'Jul 1979', 'value': '1.76K Thousand units', 'x': 306, 'y': 591.5},\n",
       " {'date': 'May 1979', 'value': '1.88K Thousand units', 'x': 305, 'y': 591.5},\n",
       " {'date': 'Apr 1979', 'value': '1.75K Thousand units', 'x': 304, 'y': 591.5},\n",
       " {'date': 'Mar 1979', 'value': '1.85K Thousand units', 'x': 303, 'y': 591.5},\n",
       " {'date': 'Feb 1979', 'value': '1.52K Thousand units', 'x': 302, 'y': 591.5},\n",
       " {'date': 'Jan 1979', 'value': '1.63K Thousand units', 'x': 301, 'y': 591.5},\n",
       " {'date': 'Nov 1978', 'value': '2.09K Thousand units', 'x': 300, 'y': 591.5},\n",
       " {'date': 'Oct 1978', 'value': '1.98K Thousand units', 'x': 299, 'y': 591.5},\n",
       " {'date': 'Sep 1978', 'value': '1.97K Thousand units', 'x': 298, 'y': 591.5},\n",
       " {'date': 'Aug 1978', 'value': '2K Thousand units', 'x': 297, 'y': 591.5},\n",
       " {'date': 'Jul 1978', 'value': '2.09K Thousand units', 'x': 296, 'y': 591.5},\n",
       " {'date': 'May 1978', 'value': '2.08K Thousand units', 'x': 295, 'y': 591.5},\n",
       " {'date': 'Apr 1978', 'value': '2.2K Thousand units', 'x': 294, 'y': 591.5},\n",
       " {'date': 'Mar 1978', 'value': '2.03K Thousand units', 'x': 293, 'y': 591.5},\n",
       " {'date': 'Feb 1978', 'value': '1.74K Thousand units', 'x': 292, 'y': 591.5},\n",
       " {'date': 'Jan 1978', 'value': '1.72K Thousand units', 'x': 291, 'y': 591.5},\n",
       " {'date': 'Nov 1977', 'value': '2.04K Thousand units', 'x': 290, 'y': 591.5},\n",
       " {'date': 'Oct 1977', 'value': '2.04K Thousand units', 'x': 289, 'y': 591.5},\n",
       " {'date': 'Sep 1977', 'value': '1.95K Thousand units', 'x': 288, 'y': 591.5},\n",
       " {'date': 'Aug 1977', 'value': '2.02K Thousand units', 'x': 287, 'y': 591.5},\n",
       " {'date': 'Jul 1977', 'value': '2.06K Thousand units', 'x': 286, 'y': 591.5},\n",
       " {'date': 'Jun 1977', 'value': '1.89K Thousand units', 'x': 285, 'y': 591.5},\n",
       " {'date': 'Apr 1977', 'value': '1.89K Thousand units', 'x': 284, 'y': 591.5},\n",
       " {'date': 'Mar 1977', 'value': '2.06K Thousand units', 'x': 283, 'y': 591.5},\n",
       " {'date': 'Feb 1977', 'value': '1.94K Thousand units', 'x': 282, 'y': 591.5},\n",
       " {'date': 'Jan 1977', 'value': '1.53K Thousand units', 'x': 281, 'y': 591.5},\n",
       " {'date': 'Nov 1976', 'value': '1.64K Thousand units', 'x': 280, 'y': 591.5},\n",
       " {'date': 'Oct 1976', 'value': '1.63K Thousand units', 'x': 279, 'y': 591.5},\n",
       " {'date': 'Sep 1976', 'value': '1.72K Thousand units', 'x': 278, 'y': 591.5},\n",
       " {'date': 'Aug 1976', 'value': '1.55K Thousand units', 'x': 277, 'y': 591.5},\n",
       " {'date': 'Jul 1976', 'value': '1.4K Thousand units', 'x': 276, 'y': 591.5},\n",
       " {'date': 'Jun 1976', 'value': '1.5K Thousand units', 'x': 275, 'y': 591.5},\n",
       " {'date': 'Apr 1976', 'value': '1.4K Thousand units', 'x': 274, 'y': 591.5},\n",
       " {'date': 'Mar 1976', 'value': '1.42K Thousand units', 'x': 273, 'y': 591.5},\n",
       " {'date': 'Feb 1976', 'value': '1.54K Thousand units', 'x': 272, 'y': 591.5},\n",
       " {'date': 'Jan 1976', 'value': '1.37K Thousand units', 'x': 271, 'y': 591.5},\n",
       " {'date': 'Dec 1975', 'value': '1.32K Thousand units', 'x': 270, 'y': 591.5},\n",
       " {'date': 'Oct 1975', 'value': '1.34K Thousand units', 'x': 269, 'y': 591.5},\n",
       " {'date': 'Sep 1975', 'value': '1.26K Thousand units', 'x': 268, 'y': 591.5},\n",
       " {'date': 'Aug 1975', 'value': '1.26K Thousand units', 'x': 267, 'y': 591.5},\n",
       " {'date': 'Jul 1975', 'value': '1.23K Thousand units', 'x': 266, 'y': 591.5},\n",
       " {'date': 'Jun 1975', 'value': '1.09K Thousand units', 'x': 265, 'y': 591.5},\n",
       " {'date': 'Apr 1975', 'value': '1K Thousand units', 'x': 264, 'y': 591.5},\n",
       " {'date': 'Mar 1975', 'value': '993 Thousand units', 'x': 263, 'y': 591.5},\n",
       " {'date': 'Feb 1975', 'value': '904 Thousand units', 'x': 262, 'y': 591.5},\n",
       " {'date': 'Jan 1975', 'value': '1.03K Thousand units', 'x': 261, 'y': 591.5},\n",
       " {'date': 'Dec 1974', 'value': '975 Thousand units', 'x': 260, 'y': 591.5},\n",
       " {'date': 'Oct 1974', 'value': '1.07K Thousand units', 'x': 259, 'y': 591.5},\n",
       " {'date': 'Sep 1974', 'value': '1.15K Thousand units', 'x': 258, 'y': 591.5},\n",
       " {'date': 'Aug 1974', 'value': '1.14K Thousand units', 'x': 257, 'y': 591.5},\n",
       " {'date': 'Jul 1974', 'value': '1.32K Thousand units', 'x': 256, 'y': 591.5},\n",
       " {'date': 'Jun 1974', 'value': '1.51K Thousand units', 'x': 255, 'y': 591.5},\n",
       " {'date': 'Apr 1974', 'value': '1.61K Thousand units', 'x': 254, 'y': 591.5},\n",
       " {'date': 'Mar 1974', 'value': '1.55K Thousand units', 'x': 253, 'y': 591.5},\n",
       " {'date': 'Feb 1974', 'value': '1.75K Thousand units', 'x': 252, 'y': 591.5},\n",
       " {'date': 'Jan 1974', 'value': '1.45K Thousand units', 'x': 251, 'y': 591.5},\n",
       " {'date': 'Dec 1973', 'value': '1.53K Thousand units', 'x': 250, 'y': 591.5},\n",
       " {'date': 'Oct 1973', 'value': '1.68K Thousand units', 'x': 249, 'y': 591.5},\n",
       " {'date': 'Sep 1973', 'value': '1.87K Thousand units', 'x': 248, 'y': 591.5},\n",
       " {'date': 'Aug 1973', 'value': '2.05K Thousand units', 'x': 247, 'y': 591.5},\n",
       " {'date': 'Jul 1973', 'value': '2.12K Thousand units', 'x': 246, 'y': 591.5},\n",
       " {'date': 'Jun 1973', 'value': '2.07K Thousand units', 'x': 245, 'y': 591.5},\n",
       " {'date': 'Apr 1973', 'value': '2.08K Thousand units', 'x': 244, 'y': 591.5},\n",
       " {'date': 'Mar 1973', 'value': '2.37K Thousand units', 'x': 243, 'y': 591.5},\n",
       " {'date': 'Feb 1973', 'value': '2.29K Thousand units', 'x': 242, 'y': 591.5},\n",
       " {'date': 'Jan 1973', 'value': '2.48K Thousand units', 'x': 241, 'y': 591.5},\n",
       " {'date': 'Dec 1972', 'value': '2.37K Thousand units', 'x': 240, 'y': 591.5},\n",
       " {'date': 'Oct 1972', 'value': '2.48K Thousand units', 'x': 239, 'y': 591.5},\n",
       " {'date': 'Sep 1972', 'value': '2.48K Thousand units', 'x': 238, 'y': 591.5},\n",
       " {'date': 'Aug 1972', 'value': '2.38K Thousand units', 'x': 237, 'y': 591.5},\n",
       " {'date': 'Jul 1972', 'value': '2.25K Thousand units', 'x': 236, 'y': 591.5},\n",
       " {'date': 'Jun 1972', 'value': '2.25K Thousand units', 'x': 235, 'y': 591.5},\n",
       " {'date': 'Apr 1972', 'value': '2.25K Thousand units', 'x': 234, 'y': 591.5},\n",
       " {'date': 'Mar 1972', 'value': '2.33K Thousand units', 'x': 233, 'y': 591.5},\n",
       " {'date': 'Feb 1972', 'value': '2.39K Thousand units', 'x': 232, 'y': 591.5},\n",
       " {'date': 'Jan 1972', 'value': '2.49K Thousand units', 'x': 231, 'y': 591.5},\n",
       " {'date': 'Dec 1971', 'value': '2.29K Thousand units', 'x': 230, 'y': 591.5},\n",
       " {'date': 'Oct 1971', 'value': '2.13K Thousand units', 'x': 229, 'y': 591.5},\n",
       " {'date': 'Sep 1971', 'value': '2.04K Thousand units', 'x': 228, 'y': 591.5},\n",
       " {'date': 'Aug 1971', 'value': '2.16K Thousand units', 'x': 227, 'y': 591.5},\n",
       " {'date': 'Jul 1971', 'value': '2.08K Thousand units', 'x': 226, 'y': 591.5},\n",
       " {'date': 'Jun 1971', 'value': '2.03K Thousand units', 'x': 225, 'y': 591.5},\n",
       " {'date': 'Apr 1971', 'value': '1.99K Thousand units', 'x': 224, 'y': 591.5},\n",
       " {'date': 'Mar 1971', 'value': '1.91K Thousand units', 'x': 223, 'y': 591.5},\n",
       " {'date': 'Feb 1971', 'value': '1.74K Thousand units', 'x': 222, 'y': 591.5},\n",
       " {'date': 'Jan 1971', 'value': '1.83K Thousand units', 'x': 221, 'y': 591.5},\n",
       " {'date': 'Dec 1970', 'value': '1.89K Thousand units', 'x': 220, 'y': 591.5},\n",
       " {'date': 'Oct 1970', 'value': '1.58K Thousand units', 'x': 219, 'y': 591.5},\n",
       " {'date': 'Sep 1970', 'value': '1.53K Thousand units', 'x': 218, 'y': 591.5},\n",
       " {'date': 'Aug 1970', 'value': '1.4K Thousand units', 'x': 217, 'y': 591.5},\n",
       " {'date': 'Jul 1970', 'value': '1.52K Thousand units', 'x': 216, 'y': 591.5},\n",
       " {'date': 'Jun 1970', 'value': '1.39K Thousand units', 'x': 215, 'y': 591.5},\n",
       " {'date': 'Apr 1970', 'value': '1.26K Thousand units', 'x': 214, 'y': 591.5},\n",
       " {'date': 'Mar 1970', 'value': '1.32K Thousand units', 'x': 213, 'y': 591.5},\n",
       " {'date': 'Feb 1970', 'value': '1.3K Thousand units', 'x': 212, 'y': 591.5},\n",
       " {'date': 'Jan 1970', 'value': '1.08K Thousand units', 'x': 211, 'y': 591.5},\n",
       " {'date': 'Dec 1969', 'value': '1.33K Thousand units', 'x': 210, 'y': 591.5},\n",
       " {'date': 'Oct 1969', 'value': '1.38K Thousand units', 'x': 209, 'y': 591.5},\n",
       " {'date': 'Sep 1969', 'value': '1.51K Thousand units', 'x': 208, 'y': 591.5},\n",
       " {'date': 'Aug 1969', 'value': '1.36K Thousand units', 'x': 207, 'y': 591.5},\n",
       " {'date': 'Jul 1969', 'value': '1.37K Thousand units', 'x': 206, 'y': 591.5},\n",
       " {'date': 'Jun 1969', 'value': '1.53K Thousand units', 'x': 205, 'y': 591.5},\n",
       " {'date': 'Apr 1969', 'value': '1.52K Thousand units', 'x': 204, 'y': 591.5},\n",
       " {'date': 'Mar 1969', 'value': '1.56K Thousand units', 'x': 203, 'y': 591.5},\n",
       " {'date': 'Feb 1969', 'value': '1.71K Thousand units', 'x': 202, 'y': 591.5},\n",
       " {'date': 'Jan 1969', 'value': '1.77K Thousand units', 'x': 201, 'y': 591.5},\n",
       " {'date': 'Dec 1968', 'value': '1.55K Thousand units', 'x': 200, 'y': 591.5},\n",
       " {'date': 'Oct 1968', 'value': '1.57K Thousand units', 'x': 199, 'y': 591.5},\n",
       " {'date': 'Sep 1968', 'value': '1.56K Thousand units', 'x': 198, 'y': 591.5},\n",
       " {'date': 'Aug 1968', 'value': '1.5K Thousand units', 'x': 197, 'y': 591.5},\n",
       " {'date': 'Jul 1968', 'value': '1.51K Thousand units', 'x': 196, 'y': 591.5},\n",
       " {'date': 'Jun 1968', 'value': '1.41K Thousand units', 'x': 195, 'y': 591.5},\n",
       " {'date': 'Apr 1968', 'value': '1.55K Thousand units', 'x': 194, 'y': 591.5},\n",
       " {'date': 'Mar 1968', 'value': '1.47K Thousand units', 'x': 193, 'y': 591.5},\n",
       " {'date': 'Feb 1968', 'value': '1.52K Thousand units', 'x': 192, 'y': 591.5},\n",
       " {'date': 'Jan 1968', 'value': '1.38K Thousand units', 'x': 191, 'y': 591.5},\n",
       " {'date': 'Dec 1967', 'value': '1.31K Thousand units', 'x': 190, 'y': 591.5},\n",
       " {'date': 'Oct 1967', 'value': '1.49K Thousand units', 'x': 189, 'y': 591.5},\n",
       " {'date': 'Sep 1967', 'value': '1.42K Thousand units', 'x': 188, 'y': 591.5},\n",
       " {'date': 'Aug 1967', 'value': '1.41K Thousand units', 'x': 187, 'y': 591.5},\n",
       " {'date': 'Jul 1967', 'value': '1.36K Thousand units', 'x': 186, 'y': 591.5},\n",
       " {'date': 'Jun 1967', 'value': '1.25K Thousand units', 'x': 185, 'y': 591.5},\n",
       " {'date': 'May 1967', 'value': '1.3K Thousand units', 'x': 184, 'y': 591.5},\n",
       " {'date': 'Mar 1967', 'value': '1.06K Thousand units', 'x': 183, 'y': 591.5},\n",
       " {'date': 'Feb 1967', 'value': '1.12K Thousand units', 'x': 182, 'y': 591.5},\n",
       " {'date': 'Jan 1967', 'value': '1.07K Thousand units', 'x': 181, 'y': 591.5},\n",
       " {'date': 'Dec 1966', 'value': '990 Thousand units', 'x': 180, 'y': 591.5},\n",
       " {'date': 'Oct 1966', 'value': '843 Thousand units', 'x': 179, 'y': 591.5},\n",
       " {'date': 'Sep 1966', 'value': '1.05K Thousand units', 'x': 178, 'y': 591.5},\n",
       " {'date': 'Aug 1966', 'value': '1.12K Thousand units', 'x': 177, 'y': 591.5},\n",
       " {'date': 'Jul 1966', 'value': '1.09K Thousand units', 'x': 176, 'y': 591.5},\n",
       " {'date': 'Jun 1966', 'value': '1.19K Thousand units', 'x': 175, 'y': 591.5},\n",
       " {'date': 'May 1966', 'value': '1.26K Thousand units', 'x': 174, 'y': 591.5},\n",
       " {'date': 'Mar 1966', 'value': '1.39K Thousand units', 'x': 173, 'y': 591.5},\n",
       " {'date': 'Feb 1966', 'value': '1.38K Thousand units', 'x': 172, 'y': 591.5},\n",
       " {'date': 'Jan 1966', 'value': '1.37K Thousand units', 'x': 171, 'y': 591.5},\n",
       " {'date': 'Dec 1965', 'value': '1.66K Thousand units', 'x': 170, 'y': 591.5},\n",
       " {'date': 'Oct 1965', 'value': '1.45K Thousand units', 'x': 169, 'y': 591.5},\n",
       " {'date': 'Sep 1965', 'value': '1.48K Thousand units', 'x': 168, 'y': 591.5},\n",
       " {'date': 'Aug 1965', 'value': '1.43K Thousand units', 'x': 167, 'y': 591.5},\n",
       " {'date': 'Jul 1965', 'value': '1.53K Thousand units', 'x': 166, 'y': 591.5},\n",
       " {'date': 'Jun 1965', 'value': '1.49K Thousand units', 'x': 165, 'y': 591.5},\n",
       " {'date': 'May 1965', 'value': '1.48K Thousand units', 'x': 164, 'y': 591.5},\n",
       " {'date': 'Mar 1965', 'value': '1.42K Thousand units', 'x': 163, 'y': 591.5},\n",
       " {'date': 'Feb 1965', 'value': '1.43K Thousand units', 'x': 162, 'y': 591.5},\n",
       " {'date': 'Jan 1965', 'value': '1.36K Thousand units', 'x': 161, 'y': 591.5},\n",
       " {'date': 'Dec 1964', 'value': '1.48K Thousand units', 'x': 160, 'y': 591.5},\n",
       " {'date': 'Oct 1964', 'value': '1.52K Thousand units', 'x': 159, 'y': 591.5},\n",
       " {'date': 'Sep 1964', 'value': '1.46K Thousand units', 'x': 158, 'y': 591.5},\n",
       " {'date': 'Aug 1964', 'value': '1.57K Thousand units', 'x': 157, 'y': 591.5},\n",
       " {'date': 'Jul 1964', 'value': '1.56K Thousand units', 'x': 156, 'y': 591.5},\n",
       " {'date': 'Jun 1964', 'value': '1.55K Thousand units', 'x': 155, 'y': 591.5},\n",
       " {'date': 'May 1964', 'value': '1.47K Thousand units', 'x': 154, 'y': 591.5},\n",
       " {'date': 'Mar 1964', 'value': '1.52K Thousand units', 'x': 153, 'y': 591.5},\n",
       " {'date': 'Feb 1964', 'value': '1.82K Thousand units', 'x': 152, 'y': 591.5},\n",
       " {'date': 'Jan 1964', 'value': '1.6K Thousand units', 'x': 151, 'y': 591.5},\n",
       " {'date': 'Dec 1963', 'value': '1.49K Thousand units', 'x': 150, 'y': 591.5},\n",
       " {'date': 'Nov 1963', 'value': '1.62K Thousand units', 'x': 149, 'y': 591.5},\n",
       " {'date': 'Sep 1963', 'value': '1.76K Thousand units', 'x': 148, 'y': 591.5},\n",
       " {'date': 'Aug 1963', 'value': '1.64K Thousand units', 'x': 147, 'y': 591.5},\n",
       " {'date': 'Jul 1963', 'value': '1.61K Thousand units', 'x': 146, 'y': 591.5},\n",
       " {'date': 'Jun 1963', 'value': '1.59K Thousand units', 'x': 145, 'y': 591.5},\n",
       " {'date': 'May 1963', 'value': '1.64K Thousand units', 'x': 144, 'y': 591.5},\n",
       " {'date': 'Mar 1963', 'value': '1.53K Thousand units', 'x': 143, 'y': 591.5},\n",
       " {'date': 'Feb 1963', 'value': '1.46K Thousand units', 'x': 142, 'y': 591.5},\n",
       " {'date': 'Jan 1963', 'value': '1.24K Thousand units', 'x': 141, 'y': 591.5},\n",
       " {'date': 'Dec 1962', 'value': '1.56K Thousand units', 'x': 140, 'y': 591.5},\n",
       " {'date': 'Nov 1962', 'value': '1.62K Thousand units', 'x': 139, 'y': 591.5},\n",
       " {'date': 'Sep 1962', 'value': '1.32K Thousand units', 'x': 138, 'y': 591.5},\n",
       " {'date': 'Aug 1962', 'value': '1.52K Thousand units', 'x': 137, 'y': 591.5},\n",
       " {'date': 'Jul 1962', 'value': '1.45K Thousand units', 'x': 136, 'y': 591.5},\n",
       " {'date': 'Jun 1962', 'value': '1.4K Thousand units', 'x': 135, 'y': 591.5},\n",
       " {'date': 'May 1962', 'value': '1.48K Thousand units', 'x': 134, 'y': 591.5},\n",
       " {'date': 'Mar 1962', 'value': '1.44K Thousand units', 'x': 133, 'y': 591.5},\n",
       " {'date': 'Feb 1962', 'value': '1.28K Thousand units', 'x': 132, 'y': 591.5},\n",
       " {'date': 'Jan 1962', 'value': '1.36K Thousand units', 'x': 131, 'y': 591.5},\n",
       " {'date': 'Dec 1961', 'value': '1.36K Thousand units', 'x': 130, 'y': 591.5},\n",
       " {'date': 'Nov 1961', 'value': '1.39K Thousand units', 'x': 129, 'y': 591.5},\n",
       " {'date': 'Sep 1961', 'value': '1.43K Thousand units', 'x': 128, 'y': 591.5},\n",
       " {'date': 'Aug 1961', 'value': '1.31K Thousand units', 'x': 127, 'y': 591.5},\n",
       " {'date': 'Jul 1961', 'value': '1.33K Thousand units', 'x': 126, 'y': 591.5},\n",
       " {'date': 'Jun 1961', 'value': '1.38K Thousand units', 'x': 125, 'y': 591.5},\n",
       " {'date': 'May 1961', 'value': '1.23K Thousand units', 'x': 124, 'y': 591.5},\n",
       " {'date': 'Mar 1961', 'value': '1.31K Thousand units', 'x': 123, 'y': 591.5},\n",
       " {'date': 'Feb 1961', 'value': '1.23K Thousand units', 'x': 122, 'y': 591.5},\n",
       " {'date': 'Jan 1961', 'value': '1.18K Thousand units', 'x': 121, 'y': 591.5},\n",
       " {'date': 'Dec 1960', 'value': '1.06K Thousand units', 'x': 120, 'y': 591.5},\n",
       " {'date': 'Nov 1960', 'value': '1.25K Thousand units', 'x': 119, 'y': 591.5},\n",
       " {'date': 'Sep 1960', 'value': '1.1K Thousand units', 'x': 118, 'y': 591.5},\n",
       " {'date': 'Aug 1960', 'value': '1.34K Thousand units', 'x': 117, 'y': 591.5},\n",
       " {'date': 'Jul 1960', 'value': '1.2K Thousand units', 'x': 116, 'y': 591.5},\n",
       " {'date': 'Jun 1960', 'value': '1.25K Thousand units', 'x': 115, 'y': 591.5},\n",
       " {'date': 'May 1960', 'value': '1.27K Thousand units', 'x': 114, 'y': 591.5},\n",
       " {'date': 'Mar 1960', 'value': '1.11K Thousand units', 'x': 113, 'y': 591.5},\n",
       " {'date': 'Feb 1960', 'value': '1.5K Thousand units', 'x': 112, 'y': 591.5},\n",
       " {'date': 'Jan 1960', 'value': '1.46K Thousand units', 'x': 111, 'y': 591.5},\n",
       " {'date': 'Dec 1959', 'value': '1.6K Thousand units', 'x': 110, 'y': 591.5},\n",
       " {'date': 'Nov 1959', 'value': '1.42K Thousand units', 'x': 109, 'y': 591.5},\n",
       " {'date': 'Sep 1959', 'value': '1.54K Thousand units', 'x': 108, 'y': 591.5},\n",
       " {'date': 'Aug 1959', 'value': '1.43K Thousand units', 'x': 107, 'y': 591.5},\n",
       " {'date': 'Jul 1959', 'value': '1.55K Thousand units', 'x': 106, 'y': 591.5},\n",
       " {'date': 'Jun 1959', 'value': '1.5K Thousand units', 'x': 105, 'y': 591.5},\n",
       " {'date': 'May 1959', 'value': '1.5K Thousand units', 'x': 104, 'y': 591.5},\n",
       " {'date': 'Mar 1959', 'value': '1.62K Thousand units', 'x': 103, 'y': 591.5},\n",
       " {'date': 'Feb 1959', 'value': '1.67K Thousand units', 'x': 102, 'y': 591.5}]"
      ]
     },
     "execution_count": 6,
     "metadata": {},
     "output_type": "execute_result"
    }
   ],
   "source": [
    "datapoints = scr.tooltip_scraper.latest_points_js(num_points=\"all\", force_shortest_span=False, wait_time=5) #This will get all of the data points available on the chart from the tooltips.\n",
    "#Usually, this method sets the date_span to the shortest available span, but you can force it to use the MAX span by setting force_shortest_span to False.\n",
    "#This may fail if the chart has many points and a single pixel cursor movement moves more than one point at a time.\n",
    "datapoints"
   ]
  },
  {
   "cell_type": "code",
   "execution_count": null,
   "metadata": {},
   "outputs": [
    {
     "name": "stdout",
     "output_type": "stream",
     "text": [
      "1.55K Thousand units\n"
     ]
    },
    {
     "data": {
      "text/plain": [
       "1550.0"
      ]
     },
     "execution_count": 8,
     "metadata": {},
     "output_type": "execute_result"
    }
   ],
   "source": [
    "print(datapoints[50][\"value\"])\n",
    "ted.convert_metric_prefix(datapoints[50][\"value\"])"
   ]
  },
  {
   "cell_type": "code",
   "execution_count": null,
   "metadata": {},
   "outputs": [
    {
     "ename": "ValueError",
     "evalue": "could not convert string to float: '1.67K'",
     "output_type": "error",
     "traceback": [
      "\u001b[0;31m---------------------------------------------------------------------------\u001b[0m",
      "\u001b[0;31mValueError\u001b[0m                                Traceback (most recent call last)",
      "Cell \u001b[0;32mIn[132], line 1\u001b[0m\n\u001b[0;32m----> 1\u001b[0m series \u001b[38;5;241m=\u001b[39m \u001b[43mpd\u001b[49m\u001b[38;5;241;43m.\u001b[39;49m\u001b[43mSeries\u001b[49m\u001b[43m(\u001b[49m\u001b[43m[\u001b[49m\u001b[38;5;28;43mstr\u001b[39;49m\u001b[43m(\u001b[49m\u001b[43mvalue\u001b[49m\u001b[43m[\u001b[49m\u001b[38;5;124;43m\"\u001b[39;49m\u001b[38;5;124;43mvalue\u001b[39;49m\u001b[38;5;124;43m\"\u001b[39;49m\u001b[43m]\u001b[49m\u001b[43m)\u001b[49m\u001b[38;5;241;43m.\u001b[39;49m\u001b[43msplit\u001b[49m\u001b[43m(\u001b[49m\u001b[38;5;124;43m\"\u001b[39;49m\u001b[38;5;124;43m \u001b[39;49m\u001b[38;5;124;43m\"\u001b[39;49m\u001b[43m)\u001b[49m\u001b[43m[\u001b[49m\u001b[38;5;241;43m0\u001b[39;49m\u001b[43m]\u001b[49m\u001b[43m \u001b[49m\u001b[38;5;28;43;01mfor\u001b[39;49;00m\u001b[43m \u001b[49m\u001b[43mvalue\u001b[49m\u001b[43m \u001b[49m\u001b[38;5;129;43;01min\u001b[39;49;00m\u001b[43m \u001b[49m\u001b[43mdatapoints\u001b[49m\u001b[43m]\u001b[49m\u001b[43m[\u001b[49m\u001b[43m:\u001b[49m\u001b[43m:\u001b[49m\u001b[38;5;241;43m-\u001b[39;49m\u001b[38;5;241;43m1\u001b[39;49m\u001b[43m]\u001b[49m\u001b[43m,\u001b[49m\u001b[43m \u001b[49m\u001b[43mindex\u001b[49m\u001b[43m \u001b[49m\u001b[38;5;241;43m=\u001b[39;49m\u001b[43m \u001b[49m\u001b[43mpd\u001b[49m\u001b[38;5;241;43m.\u001b[39;49m\u001b[43mDatetimeIndex\u001b[49m\u001b[43m(\u001b[49m\u001b[43m[\u001b[49m\u001b[43mdate\u001b[49m\u001b[43m[\u001b[49m\u001b[38;5;124;43m\"\u001b[39;49m\u001b[38;5;124;43mdate\u001b[39;49m\u001b[38;5;124;43m\"\u001b[39;49m\u001b[43m]\u001b[49m\u001b[43m \u001b[49m\u001b[38;5;28;43;01mfor\u001b[39;49;00m\u001b[43m \u001b[49m\u001b[43mdate\u001b[49m\u001b[43m \u001b[49m\u001b[38;5;129;43;01min\u001b[39;49;00m\u001b[43m \u001b[49m\u001b[43mdatapoints\u001b[49m\u001b[43m]\u001b[49m\u001b[43m[\u001b[49m\u001b[43m:\u001b[49m\u001b[43m:\u001b[49m\u001b[38;5;241;43m-\u001b[39;49m\u001b[38;5;241;43m1\u001b[39;49m\u001b[43m]\u001b[49m\u001b[43m)\u001b[49m\u001b[43m,\u001b[49m\u001b[43m \u001b[49m\u001b[43mname\u001b[49m\u001b[43m \u001b[49m\u001b[38;5;241;43m=\u001b[39;49m\u001b[43m \u001b[49m\u001b[38;5;124;43m\"\u001b[39;49m\u001b[38;5;124;43mtooltip_data\u001b[39;49m\u001b[38;5;124;43m\"\u001b[39;49m\u001b[43m)\u001b[49m\u001b[38;5;241;43m.\u001b[39;49m\u001b[43mastype\u001b[49m\u001b[43m(\u001b[49m\u001b[38;5;28;43mfloat\u001b[39;49m\u001b[43m)\u001b[49m\n",
      "File \u001b[0;32m~/Documents/miniconda3/envs/ted/lib/python3.11/site-packages/pandas/core/generic.py:6643\u001b[0m, in \u001b[0;36mNDFrame.astype\u001b[0;34m(self, dtype, copy, errors)\u001b[0m\n\u001b[1;32m   6637\u001b[0m     results \u001b[38;5;241m=\u001b[39m [\n\u001b[1;32m   6638\u001b[0m         ser\u001b[38;5;241m.\u001b[39mastype(dtype, copy\u001b[38;5;241m=\u001b[39mcopy, errors\u001b[38;5;241m=\u001b[39merrors) \u001b[38;5;28;01mfor\u001b[39;00m _, ser \u001b[38;5;129;01min\u001b[39;00m \u001b[38;5;28mself\u001b[39m\u001b[38;5;241m.\u001b[39mitems()\n\u001b[1;32m   6639\u001b[0m     ]\n\u001b[1;32m   6641\u001b[0m \u001b[38;5;28;01melse\u001b[39;00m:\n\u001b[1;32m   6642\u001b[0m     \u001b[38;5;66;03m# else, only a single dtype is given\u001b[39;00m\n\u001b[0;32m-> 6643\u001b[0m     new_data \u001b[38;5;241m=\u001b[39m \u001b[38;5;28;43mself\u001b[39;49m\u001b[38;5;241;43m.\u001b[39;49m\u001b[43m_mgr\u001b[49m\u001b[38;5;241;43m.\u001b[39;49m\u001b[43mastype\u001b[49m\u001b[43m(\u001b[49m\u001b[43mdtype\u001b[49m\u001b[38;5;241;43m=\u001b[39;49m\u001b[43mdtype\u001b[49m\u001b[43m,\u001b[49m\u001b[43m \u001b[49m\u001b[43mcopy\u001b[49m\u001b[38;5;241;43m=\u001b[39;49m\u001b[43mcopy\u001b[49m\u001b[43m,\u001b[49m\u001b[43m \u001b[49m\u001b[43merrors\u001b[49m\u001b[38;5;241;43m=\u001b[39;49m\u001b[43merrors\u001b[49m\u001b[43m)\u001b[49m\n\u001b[1;32m   6644\u001b[0m     res \u001b[38;5;241m=\u001b[39m \u001b[38;5;28mself\u001b[39m\u001b[38;5;241m.\u001b[39m_constructor_from_mgr(new_data, axes\u001b[38;5;241m=\u001b[39mnew_data\u001b[38;5;241m.\u001b[39maxes)\n\u001b[1;32m   6645\u001b[0m     \u001b[38;5;28;01mreturn\u001b[39;00m res\u001b[38;5;241m.\u001b[39m__finalize__(\u001b[38;5;28mself\u001b[39m, method\u001b[38;5;241m=\u001b[39m\u001b[38;5;124m\"\u001b[39m\u001b[38;5;124mastype\u001b[39m\u001b[38;5;124m\"\u001b[39m)\n",
      "File \u001b[0;32m~/Documents/miniconda3/envs/ted/lib/python3.11/site-packages/pandas/core/internals/managers.py:430\u001b[0m, in \u001b[0;36mBaseBlockManager.astype\u001b[0;34m(self, dtype, copy, errors)\u001b[0m\n\u001b[1;32m    427\u001b[0m \u001b[38;5;28;01melif\u001b[39;00m using_copy_on_write():\n\u001b[1;32m    428\u001b[0m     copy \u001b[38;5;241m=\u001b[39m \u001b[38;5;28;01mFalse\u001b[39;00m\n\u001b[0;32m--> 430\u001b[0m \u001b[38;5;28;01mreturn\u001b[39;00m \u001b[38;5;28;43mself\u001b[39;49m\u001b[38;5;241;43m.\u001b[39;49m\u001b[43mapply\u001b[49m\u001b[43m(\u001b[49m\n\u001b[1;32m    431\u001b[0m \u001b[43m    \u001b[49m\u001b[38;5;124;43m\"\u001b[39;49m\u001b[38;5;124;43mastype\u001b[39;49m\u001b[38;5;124;43m\"\u001b[39;49m\u001b[43m,\u001b[49m\n\u001b[1;32m    432\u001b[0m \u001b[43m    \u001b[49m\u001b[43mdtype\u001b[49m\u001b[38;5;241;43m=\u001b[39;49m\u001b[43mdtype\u001b[49m\u001b[43m,\u001b[49m\n\u001b[1;32m    433\u001b[0m \u001b[43m    \u001b[49m\u001b[43mcopy\u001b[49m\u001b[38;5;241;43m=\u001b[39;49m\u001b[43mcopy\u001b[49m\u001b[43m,\u001b[49m\n\u001b[1;32m    434\u001b[0m \u001b[43m    \u001b[49m\u001b[43merrors\u001b[49m\u001b[38;5;241;43m=\u001b[39;49m\u001b[43merrors\u001b[49m\u001b[43m,\u001b[49m\n\u001b[1;32m    435\u001b[0m \u001b[43m    \u001b[49m\u001b[43musing_cow\u001b[49m\u001b[38;5;241;43m=\u001b[39;49m\u001b[43musing_copy_on_write\u001b[49m\u001b[43m(\u001b[49m\u001b[43m)\u001b[49m\u001b[43m,\u001b[49m\n\u001b[1;32m    436\u001b[0m \u001b[43m\u001b[49m\u001b[43m)\u001b[49m\n",
      "File \u001b[0;32m~/Documents/miniconda3/envs/ted/lib/python3.11/site-packages/pandas/core/internals/managers.py:363\u001b[0m, in \u001b[0;36mBaseBlockManager.apply\u001b[0;34m(self, f, align_keys, **kwargs)\u001b[0m\n\u001b[1;32m    361\u001b[0m         applied \u001b[38;5;241m=\u001b[39m b\u001b[38;5;241m.\u001b[39mapply(f, \u001b[38;5;241m*\u001b[39m\u001b[38;5;241m*\u001b[39mkwargs)\n\u001b[1;32m    362\u001b[0m     \u001b[38;5;28;01melse\u001b[39;00m:\n\u001b[0;32m--> 363\u001b[0m         applied \u001b[38;5;241m=\u001b[39m \u001b[38;5;28;43mgetattr\u001b[39;49m\u001b[43m(\u001b[49m\u001b[43mb\u001b[49m\u001b[43m,\u001b[49m\u001b[43m \u001b[49m\u001b[43mf\u001b[49m\u001b[43m)\u001b[49m\u001b[43m(\u001b[49m\u001b[38;5;241;43m*\u001b[39;49m\u001b[38;5;241;43m*\u001b[39;49m\u001b[43mkwargs\u001b[49m\u001b[43m)\u001b[49m\n\u001b[1;32m    364\u001b[0m     result_blocks \u001b[38;5;241m=\u001b[39m extend_blocks(applied, result_blocks)\n\u001b[1;32m    366\u001b[0m out \u001b[38;5;241m=\u001b[39m \u001b[38;5;28mtype\u001b[39m(\u001b[38;5;28mself\u001b[39m)\u001b[38;5;241m.\u001b[39mfrom_blocks(result_blocks, \u001b[38;5;28mself\u001b[39m\u001b[38;5;241m.\u001b[39maxes)\n",
      "File \u001b[0;32m~/Documents/miniconda3/envs/ted/lib/python3.11/site-packages/pandas/core/internals/blocks.py:758\u001b[0m, in \u001b[0;36mBlock.astype\u001b[0;34m(self, dtype, copy, errors, using_cow, squeeze)\u001b[0m\n\u001b[1;32m    755\u001b[0m         \u001b[38;5;28;01mraise\u001b[39;00m \u001b[38;5;167;01mValueError\u001b[39;00m(\u001b[38;5;124m\"\u001b[39m\u001b[38;5;124mCan not squeeze with more than one column.\u001b[39m\u001b[38;5;124m\"\u001b[39m)\n\u001b[1;32m    756\u001b[0m     values \u001b[38;5;241m=\u001b[39m values[\u001b[38;5;241m0\u001b[39m, :]  \u001b[38;5;66;03m# type: ignore[call-overload]\u001b[39;00m\n\u001b[0;32m--> 758\u001b[0m new_values \u001b[38;5;241m=\u001b[39m \u001b[43mastype_array_safe\u001b[49m\u001b[43m(\u001b[49m\u001b[43mvalues\u001b[49m\u001b[43m,\u001b[49m\u001b[43m \u001b[49m\u001b[43mdtype\u001b[49m\u001b[43m,\u001b[49m\u001b[43m \u001b[49m\u001b[43mcopy\u001b[49m\u001b[38;5;241;43m=\u001b[39;49m\u001b[43mcopy\u001b[49m\u001b[43m,\u001b[49m\u001b[43m \u001b[49m\u001b[43merrors\u001b[49m\u001b[38;5;241;43m=\u001b[39;49m\u001b[43merrors\u001b[49m\u001b[43m)\u001b[49m\n\u001b[1;32m    760\u001b[0m new_values \u001b[38;5;241m=\u001b[39m maybe_coerce_values(new_values)\n\u001b[1;32m    762\u001b[0m refs \u001b[38;5;241m=\u001b[39m \u001b[38;5;28;01mNone\u001b[39;00m\n",
      "File \u001b[0;32m~/Documents/miniconda3/envs/ted/lib/python3.11/site-packages/pandas/core/dtypes/astype.py:237\u001b[0m, in \u001b[0;36mastype_array_safe\u001b[0;34m(values, dtype, copy, errors)\u001b[0m\n\u001b[1;32m    234\u001b[0m     dtype \u001b[38;5;241m=\u001b[39m dtype\u001b[38;5;241m.\u001b[39mnumpy_dtype\n\u001b[1;32m    236\u001b[0m \u001b[38;5;28;01mtry\u001b[39;00m:\n\u001b[0;32m--> 237\u001b[0m     new_values \u001b[38;5;241m=\u001b[39m \u001b[43mastype_array\u001b[49m\u001b[43m(\u001b[49m\u001b[43mvalues\u001b[49m\u001b[43m,\u001b[49m\u001b[43m \u001b[49m\u001b[43mdtype\u001b[49m\u001b[43m,\u001b[49m\u001b[43m \u001b[49m\u001b[43mcopy\u001b[49m\u001b[38;5;241;43m=\u001b[39;49m\u001b[43mcopy\u001b[49m\u001b[43m)\u001b[49m\n\u001b[1;32m    238\u001b[0m \u001b[38;5;28;01mexcept\u001b[39;00m (\u001b[38;5;167;01mValueError\u001b[39;00m, \u001b[38;5;167;01mTypeError\u001b[39;00m):\n\u001b[1;32m    239\u001b[0m     \u001b[38;5;66;03m# e.g. _astype_nansafe can fail on object-dtype of strings\u001b[39;00m\n\u001b[1;32m    240\u001b[0m     \u001b[38;5;66;03m#  trying to convert to float\u001b[39;00m\n\u001b[1;32m    241\u001b[0m     \u001b[38;5;28;01mif\u001b[39;00m errors \u001b[38;5;241m==\u001b[39m \u001b[38;5;124m\"\u001b[39m\u001b[38;5;124mignore\u001b[39m\u001b[38;5;124m\"\u001b[39m:\n",
      "File \u001b[0;32m~/Documents/miniconda3/envs/ted/lib/python3.11/site-packages/pandas/core/dtypes/astype.py:182\u001b[0m, in \u001b[0;36mastype_array\u001b[0;34m(values, dtype, copy)\u001b[0m\n\u001b[1;32m    179\u001b[0m     values \u001b[38;5;241m=\u001b[39m values\u001b[38;5;241m.\u001b[39mastype(dtype, copy\u001b[38;5;241m=\u001b[39mcopy)\n\u001b[1;32m    181\u001b[0m \u001b[38;5;28;01melse\u001b[39;00m:\n\u001b[0;32m--> 182\u001b[0m     values \u001b[38;5;241m=\u001b[39m \u001b[43m_astype_nansafe\u001b[49m\u001b[43m(\u001b[49m\u001b[43mvalues\u001b[49m\u001b[43m,\u001b[49m\u001b[43m \u001b[49m\u001b[43mdtype\u001b[49m\u001b[43m,\u001b[49m\u001b[43m \u001b[49m\u001b[43mcopy\u001b[49m\u001b[38;5;241;43m=\u001b[39;49m\u001b[43mcopy\u001b[49m\u001b[43m)\u001b[49m\n\u001b[1;32m    184\u001b[0m \u001b[38;5;66;03m# in pandas we don't store numpy str dtypes, so convert to object\u001b[39;00m\n\u001b[1;32m    185\u001b[0m \u001b[38;5;28;01mif\u001b[39;00m \u001b[38;5;28misinstance\u001b[39m(dtype, np\u001b[38;5;241m.\u001b[39mdtype) \u001b[38;5;129;01mand\u001b[39;00m \u001b[38;5;28missubclass\u001b[39m(values\u001b[38;5;241m.\u001b[39mdtype\u001b[38;5;241m.\u001b[39mtype, \u001b[38;5;28mstr\u001b[39m):\n",
      "File \u001b[0;32m~/Documents/miniconda3/envs/ted/lib/python3.11/site-packages/pandas/core/dtypes/astype.py:133\u001b[0m, in \u001b[0;36m_astype_nansafe\u001b[0;34m(arr, dtype, copy, skipna)\u001b[0m\n\u001b[1;32m    129\u001b[0m     \u001b[38;5;28;01mraise\u001b[39;00m \u001b[38;5;167;01mValueError\u001b[39;00m(msg)\n\u001b[1;32m    131\u001b[0m \u001b[38;5;28;01mif\u001b[39;00m copy \u001b[38;5;129;01mor\u001b[39;00m arr\u001b[38;5;241m.\u001b[39mdtype \u001b[38;5;241m==\u001b[39m \u001b[38;5;28mobject\u001b[39m \u001b[38;5;129;01mor\u001b[39;00m dtype \u001b[38;5;241m==\u001b[39m \u001b[38;5;28mobject\u001b[39m:\n\u001b[1;32m    132\u001b[0m     \u001b[38;5;66;03m# Explicit copy, or required since NumPy can't view from / to object.\u001b[39;00m\n\u001b[0;32m--> 133\u001b[0m     \u001b[38;5;28;01mreturn\u001b[39;00m \u001b[43marr\u001b[49m\u001b[38;5;241;43m.\u001b[39;49m\u001b[43mastype\u001b[49m\u001b[43m(\u001b[49m\u001b[43mdtype\u001b[49m\u001b[43m,\u001b[49m\u001b[43m \u001b[49m\u001b[43mcopy\u001b[49m\u001b[38;5;241;43m=\u001b[39;49m\u001b[38;5;28;43;01mTrue\u001b[39;49;00m\u001b[43m)\u001b[49m\n\u001b[1;32m    135\u001b[0m \u001b[38;5;28;01mreturn\u001b[39;00m arr\u001b[38;5;241m.\u001b[39mastype(dtype, copy\u001b[38;5;241m=\u001b[39mcopy)\n",
      "\u001b[0;31mValueError\u001b[0m: could not convert string to float: '1.67K'"
     ]
    }
   ],
   "source": [
    "series = pd.Series([ted.convert_metric_prefix(value) for value in datapoints][::-1], index = pd.DatetimeIndex([date[\"date\"] for date in datapoints][::-1]), name = \"tooltip_data\").astype(float)"
   ]
  },
  {
   "cell_type": "markdown",
   "metadata": {},
   "source": [
    "# Method #3: Debug method - manually run through the steps.\n",
    "\n",
    "If you get an error on trying load_page method, something like the examples below: \n",
    "- Error loading page: Message: Failed to decode response from marionette\n",
    "- Error loading page: Message: Tried to run command without establishing a connection\n",
    "\n",
    "You need to start a new webdriver instance. Reinitilize your TE_Scraper object and set: ```use_existing_driver = False```"
   ]
  },
  {
   "cell_type": "code",
   "execution_count": 113,
   "metadata": {},
   "outputs": [
    {
     "ename": "KeyError",
     "evalue": "'country'",
     "output_type": "error",
     "traceback": [
      "\u001b[0;31m---------------------------------------------------------------------------\u001b[0m",
      "\u001b[0;31mKeyError\u001b[0m                                  Traceback (most recent call last)",
      "File \u001b[0;32m~/Documents/miniconda3/envs/ted/lib/python3.11/site-packages/pandas/core/indexes/base.py:3805\u001b[0m, in \u001b[0;36mIndex.get_loc\u001b[0;34m(self, key)\u001b[0m\n\u001b[1;32m   3804\u001b[0m \u001b[38;5;28;01mtry\u001b[39;00m:\n\u001b[0;32m-> 3805\u001b[0m     \u001b[38;5;28;01mreturn\u001b[39;00m \u001b[38;5;28;43mself\u001b[39;49m\u001b[38;5;241;43m.\u001b[39;49m\u001b[43m_engine\u001b[49m\u001b[38;5;241;43m.\u001b[39;49m\u001b[43mget_loc\u001b[49m\u001b[43m(\u001b[49m\u001b[43mcasted_key\u001b[49m\u001b[43m)\u001b[49m\n\u001b[1;32m   3806\u001b[0m \u001b[38;5;28;01mexcept\u001b[39;00m \u001b[38;5;167;01mKeyError\u001b[39;00m \u001b[38;5;28;01mas\u001b[39;00m err:\n",
      "File \u001b[0;32mindex.pyx:167\u001b[0m, in \u001b[0;36mpandas._libs.index.IndexEngine.get_loc\u001b[0;34m()\u001b[0m\n",
      "File \u001b[0;32mindex.pyx:196\u001b[0m, in \u001b[0;36mpandas._libs.index.IndexEngine.get_loc\u001b[0;34m()\u001b[0m\n",
      "File \u001b[0;32mpandas/_libs/hashtable_class_helper.pxi:7081\u001b[0m, in \u001b[0;36mpandas._libs.hashtable.PyObjectHashTable.get_item\u001b[0;34m()\u001b[0m\n",
      "File \u001b[0;32mpandas/_libs/hashtable_class_helper.pxi:7089\u001b[0m, in \u001b[0;36mpandas._libs.hashtable.PyObjectHashTable.get_item\u001b[0;34m()\u001b[0m\n",
      "\u001b[0;31mKeyError\u001b[0m: 'country'",
      "\nThe above exception was the direct cause of the following exception:\n",
      "\u001b[0;31mKeyError\u001b[0m                                  Traceback (most recent call last)",
      "Cell \u001b[0;32mIn[113], line 1\u001b[0m\n\u001b[0;32m----> 1\u001b[0m \u001b[43mscr\u001b[49m\u001b[38;5;241;43m.\u001b[39;49m\u001b[43mplot_series\u001b[49m\u001b[43m(\u001b[49m\u001b[43mseries\u001b[49m\u001b[38;5;241;43m=\u001b[39;49m\u001b[43mseries\u001b[49m\u001b[43m,\u001b[49m\u001b[43m \u001b[49m\u001b[43mann_box_pos\u001b[49m\u001b[38;5;241;43m=\u001b[39;49m\u001b[43m(\u001b[49m\u001b[38;5;241;43m0\u001b[39;49m\u001b[43m,\u001b[49m\u001b[43m \u001b[49m\u001b[38;5;241;43m-\u001b[39;49m\u001b[38;5;241;43m0.22\u001b[39;49m\u001b[43m)\u001b[49m\u001b[43m)\u001b[49m  \u001b[38;5;66;03m## Plot the series specifying ths series as the on to plot rather than the series attribute of the TE_Scraper.\u001b[39;00m\n",
      "File \u001b[0;32m~/Documents/Python/Scraping/tedata/src/tedata/scraper.py:793\u001b[0m, in \u001b[0;36mTE_Scraper.plot_series\u001b[0;34m(self, series, annotation_text, dpi, ann_box_pos)\u001b[0m\n\u001b[1;32m    791\u001b[0m  \u001b[38;5;66;03m# Existing title and label logic\u001b[39;00m\n\u001b[1;32m    792\u001b[0m \u001b[38;5;28;01mif\u001b[39;00m \u001b[38;5;28mhasattr\u001b[39m(\u001b[38;5;28mself\u001b[39m, \u001b[38;5;124m\"\u001b[39m\u001b[38;5;124mseries_metadata\u001b[39m\u001b[38;5;124m\"\u001b[39m):\n\u001b[0;32m--> 793\u001b[0m     title \u001b[38;5;241m=\u001b[39m \u001b[38;5;28mstr\u001b[39m(\u001b[38;5;28;43mself\u001b[39;49m\u001b[38;5;241;43m.\u001b[39;49m\u001b[43mseries_metadata\u001b[49m\u001b[43m[\u001b[49m\u001b[38;5;124;43m\"\u001b[39;49m\u001b[38;5;124;43mcountry\u001b[39;49m\u001b[38;5;124;43m\"\u001b[39;49m\u001b[43m]\u001b[49m)\u001b[38;5;241m.\u001b[39mcapitalize() \u001b[38;5;241m+\u001b[39m \u001b[38;5;124m\"\u001b[39m\u001b[38;5;124m: \u001b[39m\u001b[38;5;124m\"\u001b[39m \u001b[38;5;241m+\u001b[39m \u001b[38;5;28mstr\u001b[39m(\u001b[38;5;28mself\u001b[39m\u001b[38;5;241m.\u001b[39mseries_metadata[\u001b[38;5;124m\"\u001b[39m\u001b[38;5;124mtitle\u001b[39m\u001b[38;5;124m\"\u001b[39m])\u001b[38;5;241m.\u001b[39mcapitalize()\n\u001b[1;32m    794\u001b[0m     ylabel \u001b[38;5;241m=\u001b[39m \u001b[38;5;28mstr\u001b[39m(\u001b[38;5;28mself\u001b[39m\u001b[38;5;241m.\u001b[39mseries_metadata[\u001b[38;5;124m\"\u001b[39m\u001b[38;5;124munits\u001b[39m\u001b[38;5;124m\"\u001b[39m])\u001b[38;5;241m.\u001b[39mcapitalize()\n\u001b[1;32m    796\u001b[0m     \u001b[38;5;66;03m# Create default annotation text from metadata\u001b[39;00m\n",
      "File \u001b[0;32m~/Documents/miniconda3/envs/ted/lib/python3.11/site-packages/pandas/core/series.py:1121\u001b[0m, in \u001b[0;36mSeries.__getitem__\u001b[0;34m(self, key)\u001b[0m\n\u001b[1;32m   1118\u001b[0m     \u001b[38;5;28;01mreturn\u001b[39;00m \u001b[38;5;28mself\u001b[39m\u001b[38;5;241m.\u001b[39m_values[key]\n\u001b[1;32m   1120\u001b[0m \u001b[38;5;28;01melif\u001b[39;00m key_is_scalar:\n\u001b[0;32m-> 1121\u001b[0m     \u001b[38;5;28;01mreturn\u001b[39;00m \u001b[38;5;28;43mself\u001b[39;49m\u001b[38;5;241;43m.\u001b[39;49m\u001b[43m_get_value\u001b[49m\u001b[43m(\u001b[49m\u001b[43mkey\u001b[49m\u001b[43m)\u001b[49m\n\u001b[1;32m   1123\u001b[0m \u001b[38;5;66;03m# Convert generator to list before going through hashable part\u001b[39;00m\n\u001b[1;32m   1124\u001b[0m \u001b[38;5;66;03m# (We will iterate through the generator there to check for slices)\u001b[39;00m\n\u001b[1;32m   1125\u001b[0m \u001b[38;5;28;01mif\u001b[39;00m is_iterator(key):\n",
      "File \u001b[0;32m~/Documents/miniconda3/envs/ted/lib/python3.11/site-packages/pandas/core/series.py:1237\u001b[0m, in \u001b[0;36mSeries._get_value\u001b[0;34m(self, label, takeable)\u001b[0m\n\u001b[1;32m   1234\u001b[0m     \u001b[38;5;28;01mreturn\u001b[39;00m \u001b[38;5;28mself\u001b[39m\u001b[38;5;241m.\u001b[39m_values[label]\n\u001b[1;32m   1236\u001b[0m \u001b[38;5;66;03m# Similar to Index.get_value, but we do not fall back to positional\u001b[39;00m\n\u001b[0;32m-> 1237\u001b[0m loc \u001b[38;5;241m=\u001b[39m \u001b[38;5;28;43mself\u001b[39;49m\u001b[38;5;241;43m.\u001b[39;49m\u001b[43mindex\u001b[49m\u001b[38;5;241;43m.\u001b[39;49m\u001b[43mget_loc\u001b[49m\u001b[43m(\u001b[49m\u001b[43mlabel\u001b[49m\u001b[43m)\u001b[49m\n\u001b[1;32m   1239\u001b[0m \u001b[38;5;28;01mif\u001b[39;00m is_integer(loc):\n\u001b[1;32m   1240\u001b[0m     \u001b[38;5;28;01mreturn\u001b[39;00m \u001b[38;5;28mself\u001b[39m\u001b[38;5;241m.\u001b[39m_values[loc]\n",
      "File \u001b[0;32m~/Documents/miniconda3/envs/ted/lib/python3.11/site-packages/pandas/core/indexes/base.py:3812\u001b[0m, in \u001b[0;36mIndex.get_loc\u001b[0;34m(self, key)\u001b[0m\n\u001b[1;32m   3807\u001b[0m     \u001b[38;5;28;01mif\u001b[39;00m \u001b[38;5;28misinstance\u001b[39m(casted_key, \u001b[38;5;28mslice\u001b[39m) \u001b[38;5;129;01mor\u001b[39;00m (\n\u001b[1;32m   3808\u001b[0m         \u001b[38;5;28misinstance\u001b[39m(casted_key, abc\u001b[38;5;241m.\u001b[39mIterable)\n\u001b[1;32m   3809\u001b[0m         \u001b[38;5;129;01mand\u001b[39;00m \u001b[38;5;28many\u001b[39m(\u001b[38;5;28misinstance\u001b[39m(x, \u001b[38;5;28mslice\u001b[39m) \u001b[38;5;28;01mfor\u001b[39;00m x \u001b[38;5;129;01min\u001b[39;00m casted_key)\n\u001b[1;32m   3810\u001b[0m     ):\n\u001b[1;32m   3811\u001b[0m         \u001b[38;5;28;01mraise\u001b[39;00m InvalidIndexError(key)\n\u001b[0;32m-> 3812\u001b[0m     \u001b[38;5;28;01mraise\u001b[39;00m \u001b[38;5;167;01mKeyError\u001b[39;00m(key) \u001b[38;5;28;01mfrom\u001b[39;00m\u001b[38;5;250m \u001b[39m\u001b[38;5;21;01merr\u001b[39;00m\n\u001b[1;32m   3813\u001b[0m \u001b[38;5;28;01mexcept\u001b[39;00m \u001b[38;5;167;01mTypeError\u001b[39;00m:\n\u001b[1;32m   3814\u001b[0m     \u001b[38;5;66;03m# If we have a listlike key, _check_indexing_error will raise\u001b[39;00m\n\u001b[1;32m   3815\u001b[0m     \u001b[38;5;66;03m#  InvalidIndexError. Otherwise we fall through and re-raise\u001b[39;00m\n\u001b[1;32m   3816\u001b[0m     \u001b[38;5;66;03m#  the TypeError.\u001b[39;00m\n\u001b[1;32m   3817\u001b[0m     \u001b[38;5;28mself\u001b[39m\u001b[38;5;241m.\u001b[39m_check_indexing_error(key)\n",
      "\u001b[0;31mKeyError\u001b[0m: 'country'"
     ]
    }
   ],
   "source": [
    "scr.plot_series(series=series, ann_box_pos=(0, -0.22))  ## Plot the series specifying ths series as the on to plot rather than the series attribute of the TE_Scraper."
   ]
  }
 ],
 "metadata": {
  "kernelspec": {
   "display_name": "ted",
   "language": "python",
   "name": "python3"
  },
  "language_info": {
   "codemirror_mode": {
    "name": "ipython",
    "version": 3
   },
   "file_extension": ".py",
   "mimetype": "text/x-python",
   "name": "python",
   "nbconvert_exporter": "python",
   "pygments_lexer": "ipython3",
   "version": "3.11.11"
  }
 },
 "nbformat": 4,
 "nbformat_minor": 2
}
