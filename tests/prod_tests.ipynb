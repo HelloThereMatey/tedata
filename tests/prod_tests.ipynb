{
 "cells": [
  {
   "cell_type": "code",
   "execution_count": 2,
   "metadata": {},
   "outputs": [
    {
     "name": "stderr",
     "output_type": "stream",
     "text": [
      "INFO - tedata package initialized successfully!\n"
     ]
    }
   ],
   "source": [
    "import sys\n",
    "import os\n",
    "import pandas as pd\n",
    "from pprint import pprint\n",
    "wd = %pwd\n",
    "parent = os.path.dirname(wd)\n",
    "fdel = os.path.sep\n",
    "sys.path.append(parent+fdel+\"src\")\n",
    "import tedata as ted"
   ]
  },
  {
   "cell_type": "markdown",
   "metadata": {},
   "source": [
    "# tedata package\n",
    "Download data from Trading Economics. There are several ways to use this package. \n",
    "# Method #1: search for indicators and then download the data for a given search result.\n",
    "## Initialise new search_TE object. \n",
    "Object will use an existing webdriver if there is already more than one active in the namespace when use_existing_driver=True. \n",
    "This will save you some time and be more memory efficient."
   ]
  },
  {
   "cell_type": "code",
   "execution_count": 2,
   "metadata": {},
   "outputs": [
    {
     "name": "stderr",
     "output_type": "stream",
     "text": [
      "INFO - New firefox webdriver created.\n",
      "INFO - Loading home page at https://tradingeconomics.com/ ...\n",
      "INFO - Home page at https://tradingeconomics.com loaded successfully! Search box element found.\n"
     ]
    }
   ],
   "source": [
    "search = ted.search_TE(use_existing_driver=False, headless=False)  # Will open firefox browser window as headless=False."
   ]
  },
  {
   "cell_type": "markdown",
   "metadata": {},
   "source": [
    "### Use the search_trading_economics method to use the search bar on the homepage to search."
   ]
  },
  {
   "cell_type": "code",
   "execution_count": 4,
   "metadata": {},
   "outputs": [
    {
     "name": "stderr",
     "output_type": "stream",
     "text": [
      "INFO - Loading home page at https://tradingeconomics.com/ ...\n",
      "INFO - Home page at https://tradingeconomics.com loaded successfully! Search box element found.\n",
      "INFO - Clicking search box...\n",
      "INFO - Entering search term: ISM Services\n",
      "INFO - Submitting search, waiting 5s for page to load...\n"
     ]
    },
    {
     "name": "stdout",
     "output_type": "stream",
     "text": [
      "Found search results on page.\n"
     ]
    },
    {
     "data": {
      "application/vnd.microsoft.datawrangler.viewer.v0+json": {
       "columns": [
        {
         "name": "result",
         "rawType": "int64",
         "type": "integer"
        },
        {
         "name": "country",
         "rawType": "object",
         "type": "string"
        },
        {
         "name": "metric",
         "rawType": "object",
         "type": "string"
        },
        {
         "name": "url",
         "rawType": "object",
         "type": "string"
        }
       ],
       "conversionMethod": "pd.DataFrame",
       "ref": "a38d66e5-7cf7-49fb-9781-1eae02ae4c0d",
       "rows": [
        [
         "0",
         "united states",
         "non manufacturing pmi",
         "https://tradingeconomics.com/united-states/non-manufacturing-pmi"
        ],
        [
         "1",
         "united states",
         "ism non manufacturing prices",
         "https://tradingeconomics.com/united-states/ism-non-manufacturing-prices"
        ],
        [
         "2",
         "united states",
         "ism non manufacturing business activity",
         "https://tradingeconomics.com/united-states/ism-non-manufacturing-business-activity"
        ],
        [
         "3",
         "united states",
         "ism non manufacturing employment",
         "https://tradingeconomics.com/united-states/ism-non-manufacturing-employment"
        ],
        [
         "4",
         "united states",
         "ism non manufacturing new orders",
         "https://tradingeconomics.com/united-states/ism-non-manufacturing-new-orders"
        ],
        [
         "5",
         "iceland",
         "insurance and financial services percent of commercial service imports wb data.html",
         "https://tradingeconomics.com/iceland/insurance-and-financial-services-percent-of-commercial-service-imports-wb-data.html"
        ],
        [
         "6",
         "iceland",
         "employees services male percent of male employment wb data.html",
         "https://tradingeconomics.com/iceland/employees-services-male-percent-of-male-employment-wb-data.html"
        ],
        [
         "7",
         "iceland",
         "insurance and financial services percent of commercial service exports wb data.html",
         "https://tradingeconomics.com/iceland/insurance-and-financial-services-percent-of-commercial-service-exports-wb-data.html"
        ],
        [
         "8",
         "iceland",
         "exports of goods and services annual percent growth wb data.html",
         "https://tradingeconomics.com/iceland/exports-of-goods-and-services-annual-percent-growth-wb-data.html"
        ],
        [
         "9",
         "iceland",
         "imports of goods and services percent of gdp wb data.html",
         "https://tradingeconomics.com/iceland/imports-of-goods-and-services-percent-of-gdp-wb-data.html"
        ],
        [
         "10",
         "iceland",
         "ict service exports percent of service exports bop wb data.html",
         "https://tradingeconomics.com/iceland/ict-service-exports-percent-of-service-exports-bop-wb-data.html"
        ],
        [
         "11",
         "iceland",
         "insurance and financial services percent of service exports bop wb data.html",
         "https://tradingeconomics.com/iceland/insurance-and-financial-services-percent-of-service-exports-bop-wb-data.html"
        ],
        [
         "12",
         "iceland",
         "taxes on goods and services percent value added of industry and services wb data.html",
         "https://tradingeconomics.com/iceland/taxes-on-goods-and-services-percent-value-added-of-industry-and-services-wb-data.html"
        ],
        [
         "13",
         "iceland",
         "taxes on goods and services current lcu wb data.html",
         "https://tradingeconomics.com/iceland/taxes-on-goods-and-services-current-lcu-wb-data.html"
        ],
        [
         "14",
         "iceland",
         "people using basic sanitation services urban percent of urban population wb data.html",
         "https://tradingeconomics.com/iceland/people-using-basic-sanitation-services-urban-percent-of-urban-population-wb-data.html"
        ],
        [
         "15",
         "iceland",
         "logistics performance index competence and quality of logistics services 1 low to 5 high wb data.html",
         "https://tradingeconomics.com/iceland/logistics-performance-index-competence-and-quality-of-logistics-services-1-low-to-5-high-wb-data.html"
        ],
        [
         "16",
         "iceland",
         "exports of goods and services us dollar wb data.html",
         "https://tradingeconomics.com/iceland/exports-of-goods-and-services-us-dollar-wb-data.html"
        ],
        [
         "17",
         "iceland",
         "imports of goods and services annual percent growth wb data.html",
         "https://tradingeconomics.com/iceland/imports-of-goods-and-services-annual-percent-growth-wb-data.html"
        ],
        [
         "18",
         "iceland",
         "imports of goods and services us dollar wb data.html",
         "https://tradingeconomics.com/iceland/imports-of-goods-and-services-us-dollar-wb-data.html"
        ],
        [
         "19",
         "iceland",
         "imports of goods services and income bop us dollar wb data.html",
         "https://tradingeconomics.com/iceland/imports-of-goods-services-and-income-bop-us-dollar-wb-data.html"
        ],
        [
         "20",
         "iceland",
         "ict service exports bop us dollar wb data.html",
         "https://tradingeconomics.com/iceland/ict-service-exports-bop-us-dollar-wb-data.html"
        ],
        [
         "21",
         "iceland",
         "travel services percent of service imports bop wb data.html",
         "https://tradingeconomics.com/iceland/travel-services-percent-of-service-imports-bop-wb-data.html"
        ],
        [
         "22",
         "iceland",
         "communications computer etc percent of service exports bop wb data.html",
         "https://tradingeconomics.com/iceland/communications-computer-etc-percent-of-service-exports-bop-wb-data.html"
        ],
        [
         "23",
         "iceland",
         "net trade in goods and services bop us dollar wb data.html",
         "https://tradingeconomics.com/iceland/net-trade-in-goods-and-services-bop-us-dollar-wb-data.html"
        ],
        [
         "24",
         "iceland",
         "service exports bop us dollar wb data.html",
         "https://tradingeconomics.com/iceland/service-exports-bop-us-dollar-wb-data.html"
        ],
        [
         "25",
         "iceland",
         "commercial service imports us dollar wb data.html",
         "https://tradingeconomics.com/iceland/commercial-service-imports-us-dollar-wb-data.html"
        ],
        [
         "26",
         "iceland",
         "computer communications and other services percent of commercial service exports wb data.html",
         "https://tradingeconomics.com/iceland/computer-communications-and-other-services-percent-of-commercial-service-exports-wb-data.html"
        ],
        [
         "27",
         "iceland",
         "people using basic sanitation services rural percent of rural population wb data.html",
         "https://tradingeconomics.com/iceland/people-using-basic-sanitation-services-rural-percent-of-rural-population-wb-data.html"
        ],
        [
         "28",
         "iceland",
         "exports of goods services and income bop us dollar wb data.html",
         "https://tradingeconomics.com/iceland/exports-of-goods-services-and-income-bop-us-dollar-wb-data.html"
        ],
        [
         "29",
         "iceland",
         "taxes on goods and services percent of revenue wb data.html",
         "https://tradingeconomics.com/iceland/taxes-on-goods-and-services-percent-of-revenue-wb-data.html"
        ],
        [
         "30",
         "iceland",
         "exports of goods and services current lcu wb data.html",
         "https://tradingeconomics.com/iceland/exports-of-goods-and-services-current-lcu-wb-data.html"
        ],
        [
         "31",
         "iceland",
         "exports of goods and services constant lcu wb data.html",
         "https://tradingeconomics.com/iceland/exports-of-goods-and-services-constant-lcu-wb-data.html"
        ],
        [
         "32",
         "iceland",
         "transport services percent of commercial service imports wb data.html",
         "https://tradingeconomics.com/iceland/transport-services-percent-of-commercial-service-imports-wb-data.html"
        ],
        [
         "33",
         "iceland",
         "communications computer etc percent of service imports bop wb data.html",
         "https://tradingeconomics.com/iceland/communications-computer-etc-percent-of-service-imports-bop-wb-data.html"
        ],
        [
         "34",
         "iceland",
         "exports of goods and services bop us dollar wb data.html",
         "https://tradingeconomics.com/iceland/exports-of-goods-and-services-bop-us-dollar-wb-data.html"
        ],
        [
         "35",
         "iceland",
         "transport services percent of service exports bop wb data.html",
         "https://tradingeconomics.com/iceland/transport-services-percent-of-service-exports-bop-wb-data.html"
        ],
        [
         "36",
         "iceland",
         "goods and services expense percent of expense wb data.html",
         "https://tradingeconomics.com/iceland/goods-and-services-expense-percent-of-expense-wb-data.html"
        ],
        [
         "37",
         "iceland",
         "external balance on goods and services constant lcu wb data.html",
         "https://tradingeconomics.com/iceland/external-balance-on-goods-and-services-constant-lcu-wb-data.html"
        ],
        [
         "38",
         "iceland",
         "external balance on goods and services current lcu wb data.html",
         "https://tradingeconomics.com/iceland/external-balance-on-goods-and-services-current-lcu-wb-data.html"
        ],
        [
         "39",
         "iceland",
         "external balance on goods and services us dollar wb data.html",
         "https://tradingeconomics.com/iceland/external-balance-on-goods-and-services-us-dollar-wb-data.html"
        ],
        [
         "40",
         "iceland",
         "imports of goods and services constant lcu wb data.html",
         "https://tradingeconomics.com/iceland/imports-of-goods-and-services-constant-lcu-wb-data.html"
        ],
        [
         "41",
         "iceland",
         "people using basic sanitation services percent of population wb data.html",
         "https://tradingeconomics.com/iceland/people-using-basic-sanitation-services-percent-of-population-wb-data.html"
        ],
        [
         "42",
         "iceland",
         "commercial service exports us dollar wb data.html",
         "https://tradingeconomics.com/iceland/commercial-service-exports-us-dollar-wb-data.html"
        ],
        [
         "43",
         "iceland",
         "employment in services percent of total employment wb data.html",
         "https://tradingeconomics.com/iceland/employment-in-services-percent-of-total-employment-wb-data.html"
        ],
        [
         "44",
         "iceland",
         "transport services percent of commercial service exports wb data.html",
         "https://tradingeconomics.com/iceland/transport-services-percent-of-commercial-service-exports-wb-data.html"
        ],
        [
         "45",
         "iceland",
         "trade in services percent of gdp wb data.html",
         "https://tradingeconomics.com/iceland/trade-in-services-percent-of-gdp-wb-data.html"
        ],
        [
         "46",
         "iceland",
         "service imports bop us dollar wb data.html",
         "https://tradingeconomics.com/iceland/service-imports-bop-us-dollar-wb-data.html"
        ],
        [
         "47",
         "iceland",
         "insurance and financial services percent of service imports bop wb data.html",
         "https://tradingeconomics.com/iceland/insurance-and-financial-services-percent-of-service-imports-bop-wb-data.html"
        ],
        [
         "48",
         "iceland",
         "goods and services expense current lcu wb data.html",
         "https://tradingeconomics.com/iceland/goods-and-services-expense-current-lcu-wb-data.html"
        ],
        [
         "49",
         "iceland",
         "external balance on goods and services percent of gdp wb data.html",
         "https://tradingeconomics.com/iceland/external-balance-on-goods-and-services-percent-of-gdp-wb-data.html"
        ]
       ],
       "shape": {
        "columns": 3,
        "rows": 50
       }
      },
      "text/html": [
       "<div>\n",
       "<style scoped>\n",
       "    .dataframe tbody tr th:only-of-type {\n",
       "        vertical-align: middle;\n",
       "    }\n",
       "\n",
       "    .dataframe tbody tr th {\n",
       "        vertical-align: top;\n",
       "    }\n",
       "\n",
       "    .dataframe thead th {\n",
       "        text-align: right;\n",
       "    }\n",
       "</style>\n",
       "<table border=\"1\" class=\"dataframe\">\n",
       "  <thead>\n",
       "    <tr style=\"text-align: right;\">\n",
       "      <th></th>\n",
       "      <th>country</th>\n",
       "      <th>metric</th>\n",
       "      <th>url</th>\n",
       "    </tr>\n",
       "    <tr>\n",
       "      <th>result</th>\n",
       "      <th></th>\n",
       "      <th></th>\n",
       "      <th></th>\n",
       "    </tr>\n",
       "  </thead>\n",
       "  <tbody>\n",
       "    <tr>\n",
       "      <th>0</th>\n",
       "      <td>united states</td>\n",
       "      <td>non manufacturing pmi</td>\n",
       "      <td>https://tradingeconomics.com/united-states/non...</td>\n",
       "    </tr>\n",
       "    <tr>\n",
       "      <th>1</th>\n",
       "      <td>united states</td>\n",
       "      <td>ism non manufacturing prices</td>\n",
       "      <td>https://tradingeconomics.com/united-states/ism...</td>\n",
       "    </tr>\n",
       "    <tr>\n",
       "      <th>2</th>\n",
       "      <td>united states</td>\n",
       "      <td>ism non manufacturing business activity</td>\n",
       "      <td>https://tradingeconomics.com/united-states/ism...</td>\n",
       "    </tr>\n",
       "    <tr>\n",
       "      <th>3</th>\n",
       "      <td>united states</td>\n",
       "      <td>ism non manufacturing employment</td>\n",
       "      <td>https://tradingeconomics.com/united-states/ism...</td>\n",
       "    </tr>\n",
       "    <tr>\n",
       "      <th>4</th>\n",
       "      <td>united states</td>\n",
       "      <td>ism non manufacturing new orders</td>\n",
       "      <td>https://tradingeconomics.com/united-states/ism...</td>\n",
       "    </tr>\n",
       "    <tr>\n",
       "      <th>5</th>\n",
       "      <td>iceland</td>\n",
       "      <td>insurance and financial services percent of co...</td>\n",
       "      <td>https://tradingeconomics.com/iceland/insurance...</td>\n",
       "    </tr>\n",
       "    <tr>\n",
       "      <th>6</th>\n",
       "      <td>iceland</td>\n",
       "      <td>employees services male percent of male employ...</td>\n",
       "      <td>https://tradingeconomics.com/iceland/employees...</td>\n",
       "    </tr>\n",
       "    <tr>\n",
       "      <th>7</th>\n",
       "      <td>iceland</td>\n",
       "      <td>insurance and financial services percent of co...</td>\n",
       "      <td>https://tradingeconomics.com/iceland/insurance...</td>\n",
       "    </tr>\n",
       "    <tr>\n",
       "      <th>8</th>\n",
       "      <td>iceland</td>\n",
       "      <td>exports of goods and services annual percent g...</td>\n",
       "      <td>https://tradingeconomics.com/iceland/exports-o...</td>\n",
       "    </tr>\n",
       "    <tr>\n",
       "      <th>9</th>\n",
       "      <td>iceland</td>\n",
       "      <td>imports of goods and services percent of gdp w...</td>\n",
       "      <td>https://tradingeconomics.com/iceland/imports-o...</td>\n",
       "    </tr>\n",
       "    <tr>\n",
       "      <th>10</th>\n",
       "      <td>iceland</td>\n",
       "      <td>ict service exports percent of service exports...</td>\n",
       "      <td>https://tradingeconomics.com/iceland/ict-servi...</td>\n",
       "    </tr>\n",
       "    <tr>\n",
       "      <th>11</th>\n",
       "      <td>iceland</td>\n",
       "      <td>insurance and financial services percent of se...</td>\n",
       "      <td>https://tradingeconomics.com/iceland/insurance...</td>\n",
       "    </tr>\n",
       "    <tr>\n",
       "      <th>12</th>\n",
       "      <td>iceland</td>\n",
       "      <td>taxes on goods and services percent value adde...</td>\n",
       "      <td>https://tradingeconomics.com/iceland/taxes-on-...</td>\n",
       "    </tr>\n",
       "    <tr>\n",
       "      <th>13</th>\n",
       "      <td>iceland</td>\n",
       "      <td>taxes on goods and services current lcu wb dat...</td>\n",
       "      <td>https://tradingeconomics.com/iceland/taxes-on-...</td>\n",
       "    </tr>\n",
       "    <tr>\n",
       "      <th>14</th>\n",
       "      <td>iceland</td>\n",
       "      <td>people using basic sanitation services urban p...</td>\n",
       "      <td>https://tradingeconomics.com/iceland/people-us...</td>\n",
       "    </tr>\n",
       "    <tr>\n",
       "      <th>15</th>\n",
       "      <td>iceland</td>\n",
       "      <td>logistics performance index competence and qua...</td>\n",
       "      <td>https://tradingeconomics.com/iceland/logistics...</td>\n",
       "    </tr>\n",
       "    <tr>\n",
       "      <th>16</th>\n",
       "      <td>iceland</td>\n",
       "      <td>exports of goods and services us dollar wb dat...</td>\n",
       "      <td>https://tradingeconomics.com/iceland/exports-o...</td>\n",
       "    </tr>\n",
       "    <tr>\n",
       "      <th>17</th>\n",
       "      <td>iceland</td>\n",
       "      <td>imports of goods and services annual percent g...</td>\n",
       "      <td>https://tradingeconomics.com/iceland/imports-o...</td>\n",
       "    </tr>\n",
       "    <tr>\n",
       "      <th>18</th>\n",
       "      <td>iceland</td>\n",
       "      <td>imports of goods and services us dollar wb dat...</td>\n",
       "      <td>https://tradingeconomics.com/iceland/imports-o...</td>\n",
       "    </tr>\n",
       "    <tr>\n",
       "      <th>19</th>\n",
       "      <td>iceland</td>\n",
       "      <td>imports of goods services and income bop us do...</td>\n",
       "      <td>https://tradingeconomics.com/iceland/imports-o...</td>\n",
       "    </tr>\n",
       "    <tr>\n",
       "      <th>20</th>\n",
       "      <td>iceland</td>\n",
       "      <td>ict service exports bop us dollar wb data.html</td>\n",
       "      <td>https://tradingeconomics.com/iceland/ict-servi...</td>\n",
       "    </tr>\n",
       "    <tr>\n",
       "      <th>21</th>\n",
       "      <td>iceland</td>\n",
       "      <td>travel services percent of service imports bop...</td>\n",
       "      <td>https://tradingeconomics.com/iceland/travel-se...</td>\n",
       "    </tr>\n",
       "    <tr>\n",
       "      <th>22</th>\n",
       "      <td>iceland</td>\n",
       "      <td>communications computer etc percent of service...</td>\n",
       "      <td>https://tradingeconomics.com/iceland/communica...</td>\n",
       "    </tr>\n",
       "    <tr>\n",
       "      <th>23</th>\n",
       "      <td>iceland</td>\n",
       "      <td>net trade in goods and services bop us dollar ...</td>\n",
       "      <td>https://tradingeconomics.com/iceland/net-trade...</td>\n",
       "    </tr>\n",
       "    <tr>\n",
       "      <th>24</th>\n",
       "      <td>iceland</td>\n",
       "      <td>service exports bop us dollar wb data.html</td>\n",
       "      <td>https://tradingeconomics.com/iceland/service-e...</td>\n",
       "    </tr>\n",
       "    <tr>\n",
       "      <th>25</th>\n",
       "      <td>iceland</td>\n",
       "      <td>commercial service imports us dollar wb data.html</td>\n",
       "      <td>https://tradingeconomics.com/iceland/commercia...</td>\n",
       "    </tr>\n",
       "    <tr>\n",
       "      <th>26</th>\n",
       "      <td>iceland</td>\n",
       "      <td>computer communications and other services per...</td>\n",
       "      <td>https://tradingeconomics.com/iceland/computer-...</td>\n",
       "    </tr>\n",
       "    <tr>\n",
       "      <th>27</th>\n",
       "      <td>iceland</td>\n",
       "      <td>people using basic sanitation services rural p...</td>\n",
       "      <td>https://tradingeconomics.com/iceland/people-us...</td>\n",
       "    </tr>\n",
       "    <tr>\n",
       "      <th>28</th>\n",
       "      <td>iceland</td>\n",
       "      <td>exports of goods services and income bop us do...</td>\n",
       "      <td>https://tradingeconomics.com/iceland/exports-o...</td>\n",
       "    </tr>\n",
       "    <tr>\n",
       "      <th>29</th>\n",
       "      <td>iceland</td>\n",
       "      <td>taxes on goods and services percent of revenue...</td>\n",
       "      <td>https://tradingeconomics.com/iceland/taxes-on-...</td>\n",
       "    </tr>\n",
       "    <tr>\n",
       "      <th>30</th>\n",
       "      <td>iceland</td>\n",
       "      <td>exports of goods and services current lcu wb d...</td>\n",
       "      <td>https://tradingeconomics.com/iceland/exports-o...</td>\n",
       "    </tr>\n",
       "    <tr>\n",
       "      <th>31</th>\n",
       "      <td>iceland</td>\n",
       "      <td>exports of goods and services constant lcu wb ...</td>\n",
       "      <td>https://tradingeconomics.com/iceland/exports-o...</td>\n",
       "    </tr>\n",
       "    <tr>\n",
       "      <th>32</th>\n",
       "      <td>iceland</td>\n",
       "      <td>transport services percent of commercial servi...</td>\n",
       "      <td>https://tradingeconomics.com/iceland/transport...</td>\n",
       "    </tr>\n",
       "    <tr>\n",
       "      <th>33</th>\n",
       "      <td>iceland</td>\n",
       "      <td>communications computer etc percent of service...</td>\n",
       "      <td>https://tradingeconomics.com/iceland/communica...</td>\n",
       "    </tr>\n",
       "    <tr>\n",
       "      <th>34</th>\n",
       "      <td>iceland</td>\n",
       "      <td>exports of goods and services bop us dollar wb...</td>\n",
       "      <td>https://tradingeconomics.com/iceland/exports-o...</td>\n",
       "    </tr>\n",
       "    <tr>\n",
       "      <th>35</th>\n",
       "      <td>iceland</td>\n",
       "      <td>transport services percent of service exports ...</td>\n",
       "      <td>https://tradingeconomics.com/iceland/transport...</td>\n",
       "    </tr>\n",
       "    <tr>\n",
       "      <th>36</th>\n",
       "      <td>iceland</td>\n",
       "      <td>goods and services expense percent of expense ...</td>\n",
       "      <td>https://tradingeconomics.com/iceland/goods-and...</td>\n",
       "    </tr>\n",
       "    <tr>\n",
       "      <th>37</th>\n",
       "      <td>iceland</td>\n",
       "      <td>external balance on goods and services constan...</td>\n",
       "      <td>https://tradingeconomics.com/iceland/external-...</td>\n",
       "    </tr>\n",
       "    <tr>\n",
       "      <th>38</th>\n",
       "      <td>iceland</td>\n",
       "      <td>external balance on goods and services current...</td>\n",
       "      <td>https://tradingeconomics.com/iceland/external-...</td>\n",
       "    </tr>\n",
       "    <tr>\n",
       "      <th>39</th>\n",
       "      <td>iceland</td>\n",
       "      <td>external balance on goods and services us doll...</td>\n",
       "      <td>https://tradingeconomics.com/iceland/external-...</td>\n",
       "    </tr>\n",
       "    <tr>\n",
       "      <th>40</th>\n",
       "      <td>iceland</td>\n",
       "      <td>imports of goods and services constant lcu wb ...</td>\n",
       "      <td>https://tradingeconomics.com/iceland/imports-o...</td>\n",
       "    </tr>\n",
       "    <tr>\n",
       "      <th>41</th>\n",
       "      <td>iceland</td>\n",
       "      <td>people using basic sanitation services percent...</td>\n",
       "      <td>https://tradingeconomics.com/iceland/people-us...</td>\n",
       "    </tr>\n",
       "    <tr>\n",
       "      <th>42</th>\n",
       "      <td>iceland</td>\n",
       "      <td>commercial service exports us dollar wb data.html</td>\n",
       "      <td>https://tradingeconomics.com/iceland/commercia...</td>\n",
       "    </tr>\n",
       "    <tr>\n",
       "      <th>43</th>\n",
       "      <td>iceland</td>\n",
       "      <td>employment in services percent of total employ...</td>\n",
       "      <td>https://tradingeconomics.com/iceland/employmen...</td>\n",
       "    </tr>\n",
       "    <tr>\n",
       "      <th>44</th>\n",
       "      <td>iceland</td>\n",
       "      <td>transport services percent of commercial servi...</td>\n",
       "      <td>https://tradingeconomics.com/iceland/transport...</td>\n",
       "    </tr>\n",
       "    <tr>\n",
       "      <th>45</th>\n",
       "      <td>iceland</td>\n",
       "      <td>trade in services percent of gdp wb data.html</td>\n",
       "      <td>https://tradingeconomics.com/iceland/trade-in-...</td>\n",
       "    </tr>\n",
       "    <tr>\n",
       "      <th>46</th>\n",
       "      <td>iceland</td>\n",
       "      <td>service imports bop us dollar wb data.html</td>\n",
       "      <td>https://tradingeconomics.com/iceland/service-i...</td>\n",
       "    </tr>\n",
       "    <tr>\n",
       "      <th>47</th>\n",
       "      <td>iceland</td>\n",
       "      <td>insurance and financial services percent of se...</td>\n",
       "      <td>https://tradingeconomics.com/iceland/insurance...</td>\n",
       "    </tr>\n",
       "    <tr>\n",
       "      <th>48</th>\n",
       "      <td>iceland</td>\n",
       "      <td>goods and services expense current lcu wb data...</td>\n",
       "      <td>https://tradingeconomics.com/iceland/goods-and...</td>\n",
       "    </tr>\n",
       "    <tr>\n",
       "      <th>49</th>\n",
       "      <td>iceland</td>\n",
       "      <td>external balance on goods and services percent...</td>\n",
       "      <td>https://tradingeconomics.com/iceland/external-...</td>\n",
       "    </tr>\n",
       "  </tbody>\n",
       "</table>\n",
       "</div>"
      ],
      "text/plain": [
       "              country                                             metric  \\\n",
       "result                                                                     \n",
       "0       united states                              non manufacturing pmi   \n",
       "1       united states                       ism non manufacturing prices   \n",
       "2       united states            ism non manufacturing business activity   \n",
       "3       united states                   ism non manufacturing employment   \n",
       "4       united states                   ism non manufacturing new orders   \n",
       "5             iceland  insurance and financial services percent of co...   \n",
       "6             iceland  employees services male percent of male employ...   \n",
       "7             iceland  insurance and financial services percent of co...   \n",
       "8             iceland  exports of goods and services annual percent g...   \n",
       "9             iceland  imports of goods and services percent of gdp w...   \n",
       "10            iceland  ict service exports percent of service exports...   \n",
       "11            iceland  insurance and financial services percent of se...   \n",
       "12            iceland  taxes on goods and services percent value adde...   \n",
       "13            iceland  taxes on goods and services current lcu wb dat...   \n",
       "14            iceland  people using basic sanitation services urban p...   \n",
       "15            iceland  logistics performance index competence and qua...   \n",
       "16            iceland  exports of goods and services us dollar wb dat...   \n",
       "17            iceland  imports of goods and services annual percent g...   \n",
       "18            iceland  imports of goods and services us dollar wb dat...   \n",
       "19            iceland  imports of goods services and income bop us do...   \n",
       "20            iceland     ict service exports bop us dollar wb data.html   \n",
       "21            iceland  travel services percent of service imports bop...   \n",
       "22            iceland  communications computer etc percent of service...   \n",
       "23            iceland  net trade in goods and services bop us dollar ...   \n",
       "24            iceland         service exports bop us dollar wb data.html   \n",
       "25            iceland  commercial service imports us dollar wb data.html   \n",
       "26            iceland  computer communications and other services per...   \n",
       "27            iceland  people using basic sanitation services rural p...   \n",
       "28            iceland  exports of goods services and income bop us do...   \n",
       "29            iceland  taxes on goods and services percent of revenue...   \n",
       "30            iceland  exports of goods and services current lcu wb d...   \n",
       "31            iceland  exports of goods and services constant lcu wb ...   \n",
       "32            iceland  transport services percent of commercial servi...   \n",
       "33            iceland  communications computer etc percent of service...   \n",
       "34            iceland  exports of goods and services bop us dollar wb...   \n",
       "35            iceland  transport services percent of service exports ...   \n",
       "36            iceland  goods and services expense percent of expense ...   \n",
       "37            iceland  external balance on goods and services constan...   \n",
       "38            iceland  external balance on goods and services current...   \n",
       "39            iceland  external balance on goods and services us doll...   \n",
       "40            iceland  imports of goods and services constant lcu wb ...   \n",
       "41            iceland  people using basic sanitation services percent...   \n",
       "42            iceland  commercial service exports us dollar wb data.html   \n",
       "43            iceland  employment in services percent of total employ...   \n",
       "44            iceland  transport services percent of commercial servi...   \n",
       "45            iceland      trade in services percent of gdp wb data.html   \n",
       "46            iceland         service imports bop us dollar wb data.html   \n",
       "47            iceland  insurance and financial services percent of se...   \n",
       "48            iceland  goods and services expense current lcu wb data...   \n",
       "49            iceland  external balance on goods and services percent...   \n",
       "\n",
       "                                                      url  \n",
       "result                                                     \n",
       "0       https://tradingeconomics.com/united-states/non...  \n",
       "1       https://tradingeconomics.com/united-states/ism...  \n",
       "2       https://tradingeconomics.com/united-states/ism...  \n",
       "3       https://tradingeconomics.com/united-states/ism...  \n",
       "4       https://tradingeconomics.com/united-states/ism...  \n",
       "5       https://tradingeconomics.com/iceland/insurance...  \n",
       "6       https://tradingeconomics.com/iceland/employees...  \n",
       "7       https://tradingeconomics.com/iceland/insurance...  \n",
       "8       https://tradingeconomics.com/iceland/exports-o...  \n",
       "9       https://tradingeconomics.com/iceland/imports-o...  \n",
       "10      https://tradingeconomics.com/iceland/ict-servi...  \n",
       "11      https://tradingeconomics.com/iceland/insurance...  \n",
       "12      https://tradingeconomics.com/iceland/taxes-on-...  \n",
       "13      https://tradingeconomics.com/iceland/taxes-on-...  \n",
       "14      https://tradingeconomics.com/iceland/people-us...  \n",
       "15      https://tradingeconomics.com/iceland/logistics...  \n",
       "16      https://tradingeconomics.com/iceland/exports-o...  \n",
       "17      https://tradingeconomics.com/iceland/imports-o...  \n",
       "18      https://tradingeconomics.com/iceland/imports-o...  \n",
       "19      https://tradingeconomics.com/iceland/imports-o...  \n",
       "20      https://tradingeconomics.com/iceland/ict-servi...  \n",
       "21      https://tradingeconomics.com/iceland/travel-se...  \n",
       "22      https://tradingeconomics.com/iceland/communica...  \n",
       "23      https://tradingeconomics.com/iceland/net-trade...  \n",
       "24      https://tradingeconomics.com/iceland/service-e...  \n",
       "25      https://tradingeconomics.com/iceland/commercia...  \n",
       "26      https://tradingeconomics.com/iceland/computer-...  \n",
       "27      https://tradingeconomics.com/iceland/people-us...  \n",
       "28      https://tradingeconomics.com/iceland/exports-o...  \n",
       "29      https://tradingeconomics.com/iceland/taxes-on-...  \n",
       "30      https://tradingeconomics.com/iceland/exports-o...  \n",
       "31      https://tradingeconomics.com/iceland/exports-o...  \n",
       "32      https://tradingeconomics.com/iceland/transport...  \n",
       "33      https://tradingeconomics.com/iceland/communica...  \n",
       "34      https://tradingeconomics.com/iceland/exports-o...  \n",
       "35      https://tradingeconomics.com/iceland/transport...  \n",
       "36      https://tradingeconomics.com/iceland/goods-and...  \n",
       "37      https://tradingeconomics.com/iceland/external-...  \n",
       "38      https://tradingeconomics.com/iceland/external-...  \n",
       "39      https://tradingeconomics.com/iceland/external-...  \n",
       "40      https://tradingeconomics.com/iceland/imports-o...  \n",
       "41      https://tradingeconomics.com/iceland/people-us...  \n",
       "42      https://tradingeconomics.com/iceland/commercia...  \n",
       "43      https://tradingeconomics.com/iceland/employmen...  \n",
       "44      https://tradingeconomics.com/iceland/transport...  \n",
       "45      https://tradingeconomics.com/iceland/trade-in-...  \n",
       "46      https://tradingeconomics.com/iceland/service-i...  \n",
       "47      https://tradingeconomics.com/iceland/insurance...  \n",
       "48      https://tradingeconomics.com/iceland/goods-and...  \n",
       "49      https://tradingeconomics.com/iceland/external-...  "
      ]
     },
     "execution_count": 4,
     "metadata": {},
     "output_type": "execute_result"
    }
   ],
   "source": [
    "search.search_trading_economics(\"ISM Services\", wait_time=5) # Set wait_time to a higher value if you get an empty results table. Default is 5s.\n",
    "search.result_table"
   ]
  },
  {
   "cell_type": "markdown",
   "metadata": {},
   "source": [
    "### Download the time-series for a particular indicator using a search result displayed in your search results table.\n",
    "\n",
    "Sometimes you may get an error straight away on the first run of the ```get_data``` method. Error message will be something about error establising a connection.\n",
    "\n",
    "Noted error messages for this: \n",
    "- Error loading page: Message: Failed to write request to stream\n",
    "- Error loading page: Message: Tried to run command without establishing a connection\n",
    "\n",
    "Just try again if so, it has always worked for me the second time unless internet connection is down or too slow."
   ]
  },
  {
   "cell_type": "code",
   "execution_count": 5,
   "metadata": {},
   "outputs": [
    {
     "name": "stderr",
     "output_type": "stream",
     "text": [
      "INFO - scrape_chart function: Scraping chart at: https://tradingeconomics.com/united-states/non-manufacturing-pmi, time: 2025-02-21 19:19:16.901452, method: path\n"
     ]
    },
    {
     "name": "stdout",
     "output_type": "stream",
     "text": [
      "Attempting to scrape data for result  0 ,  united states non manufacturing pmi\n",
      "Scraping data from: https://tradingeconomics.com/united-states/non-manufacturing-pmi\n"
     ]
    },
    {
     "name": "stderr",
     "output_type": "stream",
     "text": [
      "INFO - WebPage at https://tradingeconomics.com/united-states/non-manufacturing-pmi loaded successfully.\n",
      "INFO - Chart types dictionary created successfully: dict_keys(['Column', 'Spline', 'Areaspline', 'Stepline', 'Line', 'Area'])\n",
      "INFO - \n",
      "Series metadata: \n",
      " {'units': 'points', 'original_source': 'Institute for Supply Management', 'title': 'United States ISM Services PMI', 'indicator': 'non manufacturing pmi', 'country': 'united states', 'source': 'Trading Economics', 'id': 'united-states/non-manufacturing-pmi'}\n"
     ]
    },
    {
     "name": "stdout",
     "output_type": "stream",
     "text": [
      "Using selenium and tooltip scraping to construct the date time index for the time-series, this'll take a bit...\n"
     ]
    },
    {
     "name": "stderr",
     "output_type": "stream",
     "text": [
      "INFO - Date span set to: 1Y\n",
      "INFO - Chart type set to: Spline\n"
     ]
    },
    {
     "name": "stdout",
     "output_type": "stream",
     "text": [
      "Latest dates:  ['Jan 2025', 'Dec 2024', 'Nov 2024', 'Oct 2024', 'Sep 2024', 'Aug 2024', 'Jul 2024', 'Jun 2024', 'May 2024', 'Apr 2024']\n",
      "Frequency of time-series:  MS\n",
      "get_xlims_from_tooltips method: date_span:  1Y , chart_type: splineChart\n"
     ]
    },
    {
     "name": "stderr",
     "output_type": "stream",
     "text": [
      "INFO - Error clicking button: Message: The element with the reference e18e2343-96e4-4934-ada7-49e86ed196b9 is stale; either its node document is not the active document, or it is no longer connected to the DOM; For documentation on this error, please visit: https://www.selenium.dev/documentation/webdriver/troubleshooting/errors#stale-element-reference-exception\n",
      "Stacktrace:\n",
      "RemoteError@chrome://remote/content/shared/RemoteError.sys.mjs:8:8\n",
      "WebDriverError@chrome://remote/content/shared/webdriver/Errors.sys.mjs:193:5\n",
      "StaleElementReferenceError@chrome://remote/content/shared/webdriver/Errors.sys.mjs:725:5\n",
      "getKnownElement@chrome://remote/content/marionette/json.sys.mjs:405:11\n",
      "deserializeJSON@chrome://remote/content/marionette/json.sys.mjs:263:20\n",
      "cloneObject@chrome://remote/content/marionette/json.sys.mjs:59:24\n",
      "deserializeJSON@chrome://remote/content/marionette/json.sys.mjs:293:16\n",
      "json.deserialize@chrome://remote/content/marionette/json.sys.mjs:297:10\n",
      "receiveMessage@chrome://remote/content/marionette/actors/MarionetteCommandsChild.sys.mjs:182:30\n",
      "\n"
     ]
    },
    {
     "name": "stdout",
     "output_type": "stream",
     "text": [
      "Got chart dimensions and plot background element.\n"
     ]
    },
    {
     "name": "stderr",
     "output_type": "stream",
     "text": [
      "INFO - Start and end values scraped from tooltips: \n",
      "{'start_date': Timestamp('1997-07-01 00:00:00'), 'start_value': 56.7, 'end_date': Timestamp('2025-01-01 00:00:00'), 'end_value': 52.8}\n",
      "INFO - DateTimeIndex created successfully for the time-series.\n",
      "INFO - Date span set to: MAX\n",
      "INFO - Y-axis values scraped successfully.\n",
      "INFO - Series path extraction method: Extracting series data from chart soup.\n",
      "INFO - Date span: MAX. Chart type: splineChart, URL: https://tradingeconomics.com/united-states/non-manufacturing-pmi.\n",
      "INFO - DateTimeIndex applied to series, series attribute updated.\n",
      "INFO - Successfully scaled series.\n",
      "INFO - Successfully scraped time-series from chart at:  https://tradingeconomics.com/united-states/non-manufacturing-pmi, now getting some metadata...\n"
     ]
    },
    {
     "name": "stdout",
     "output_type": "stream",
     "text": [
      "Got metadata. \n",
      "\n",
      "Series tail: 2024-09-01    54.5\n",
      "2024-10-01    55.8\n",
      "2024-11-01    52.5\n",
      "2024-12-01    54.0\n",
      "2025-01-01    52.8\n",
      "Freq: MS, Name: non manufacturing pmi, dtype: float64 \n",
      "\n",
      "Scraping complete! Happy pirating yo!\n",
      "Data scraped successfully from: https://tradingeconomics.com/united-states/non-manufacturing-pmi\n"
     ]
    }
   ],
   "source": [
    "scraped = search.get_data(0)  ## Using result number 5 in result_table attribute.\n",
    "# Sometimes you may get an error straight away on the first run of this method. Error message bout error establising connection.\n",
    "# Just try again if so, it has always worked for me the second time unless internet connection is down or too slow"
   ]
  },
  {
   "cell_type": "markdown",
   "metadata": {},
   "source": [
    "### Plot your downloaded series using plotly to create an interactive chart with tooltips."
   ]
  },
  {
   "cell_type": "code",
   "execution_count": 6,
   "metadata": {},
   "outputs": [
    {
     "data": {
      "application/vnd.plotly.v1+json": {
       "config": {
        "plotlyServerURL": "https://plot.ly"
       },
       "data": [
        {
         "hovertemplate": "variable=non manufacturing pmi<br>index=%{x}<br>value=%{y}<extra></extra>",
         "legendgroup": "non manufacturing pmi",
         "line": {
          "color": "#636efa",
          "dash": "solid"
         },
         "marker": {
          "symbol": "circle"
         },
         "mode": "lines",
         "name": "non manufacturing pmi",
         "orientation": "v",
         "showlegend": true,
         "type": "scatter",
         "x": [
          "1997-07-01T00:00:00.000000000",
          "1997-08-01T00:00:00.000000000",
          "1997-09-01T00:00:00.000000000",
          "1997-10-01T00:00:00.000000000",
          "1997-11-01T00:00:00.000000000",
          "1997-12-01T00:00:00.000000000",
          "1998-01-01T00:00:00.000000000",
          "1998-02-01T00:00:00.000000000",
          "1998-03-01T00:00:00.000000000",
          "1998-04-01T00:00:00.000000000",
          "1998-05-01T00:00:00.000000000",
          "1998-06-01T00:00:00.000000000",
          "1998-07-01T00:00:00.000000000",
          "1998-08-01T00:00:00.000000000",
          "1998-09-01T00:00:00.000000000",
          "1998-10-01T00:00:00.000000000",
          "1998-11-01T00:00:00.000000000",
          "1998-12-01T00:00:00.000000000",
          "1999-01-01T00:00:00.000000000",
          "1999-02-01T00:00:00.000000000",
          "1999-03-01T00:00:00.000000000",
          "1999-04-01T00:00:00.000000000",
          "1999-05-01T00:00:00.000000000",
          "1999-06-01T00:00:00.000000000",
          "1999-07-01T00:00:00.000000000",
          "1999-08-01T00:00:00.000000000",
          "1999-09-01T00:00:00.000000000",
          "1999-10-01T00:00:00.000000000",
          "1999-11-01T00:00:00.000000000",
          "1999-12-01T00:00:00.000000000",
          "2000-01-01T00:00:00.000000000",
          "2000-02-01T00:00:00.000000000",
          "2000-03-01T00:00:00.000000000",
          "2000-04-01T00:00:00.000000000",
          "2000-05-01T00:00:00.000000000",
          "2000-06-01T00:00:00.000000000",
          "2000-07-01T00:00:00.000000000",
          "2000-08-01T00:00:00.000000000",
          "2000-09-01T00:00:00.000000000",
          "2000-10-01T00:00:00.000000000",
          "2000-11-01T00:00:00.000000000",
          "2000-12-01T00:00:00.000000000",
          "2001-01-01T00:00:00.000000000",
          "2001-02-01T00:00:00.000000000",
          "2001-03-01T00:00:00.000000000",
          "2001-04-01T00:00:00.000000000",
          "2001-05-01T00:00:00.000000000",
          "2001-06-01T00:00:00.000000000",
          "2001-07-01T00:00:00.000000000",
          "2001-08-01T00:00:00.000000000",
          "2001-09-01T00:00:00.000000000",
          "2001-10-01T00:00:00.000000000",
          "2001-11-01T00:00:00.000000000",
          "2001-12-01T00:00:00.000000000",
          "2002-01-01T00:00:00.000000000",
          "2002-02-01T00:00:00.000000000",
          "2002-03-01T00:00:00.000000000",
          "2002-04-01T00:00:00.000000000",
          "2002-05-01T00:00:00.000000000",
          "2002-06-01T00:00:00.000000000",
          "2002-07-01T00:00:00.000000000",
          "2002-08-01T00:00:00.000000000",
          "2002-09-01T00:00:00.000000000",
          "2002-10-01T00:00:00.000000000",
          "2002-11-01T00:00:00.000000000",
          "2002-12-01T00:00:00.000000000",
          "2003-01-01T00:00:00.000000000",
          "2003-02-01T00:00:00.000000000",
          "2003-03-01T00:00:00.000000000",
          "2003-04-01T00:00:00.000000000",
          "2003-05-01T00:00:00.000000000",
          "2003-06-01T00:00:00.000000000",
          "2003-07-01T00:00:00.000000000",
          "2003-08-01T00:00:00.000000000",
          "2003-09-01T00:00:00.000000000",
          "2003-10-01T00:00:00.000000000",
          "2003-11-01T00:00:00.000000000",
          "2003-12-01T00:00:00.000000000",
          "2004-01-01T00:00:00.000000000",
          "2004-02-01T00:00:00.000000000",
          "2004-03-01T00:00:00.000000000",
          "2004-04-01T00:00:00.000000000",
          "2004-05-01T00:00:00.000000000",
          "2004-06-01T00:00:00.000000000",
          "2004-07-01T00:00:00.000000000",
          "2004-08-01T00:00:00.000000000",
          "2004-09-01T00:00:00.000000000",
          "2004-10-01T00:00:00.000000000",
          "2004-11-01T00:00:00.000000000",
          "2004-12-01T00:00:00.000000000",
          "2005-01-01T00:00:00.000000000",
          "2005-02-01T00:00:00.000000000",
          "2005-03-01T00:00:00.000000000",
          "2005-04-01T00:00:00.000000000",
          "2005-05-01T00:00:00.000000000",
          "2005-06-01T00:00:00.000000000",
          "2005-07-01T00:00:00.000000000",
          "2005-08-01T00:00:00.000000000",
          "2005-09-01T00:00:00.000000000",
          "2005-10-01T00:00:00.000000000",
          "2005-11-01T00:00:00.000000000",
          "2005-12-01T00:00:00.000000000",
          "2006-01-01T00:00:00.000000000",
          "2006-02-01T00:00:00.000000000",
          "2006-03-01T00:00:00.000000000",
          "2006-04-01T00:00:00.000000000",
          "2006-05-01T00:00:00.000000000",
          "2006-06-01T00:00:00.000000000",
          "2006-07-01T00:00:00.000000000",
          "2006-08-01T00:00:00.000000000",
          "2006-09-01T00:00:00.000000000",
          "2006-10-01T00:00:00.000000000",
          "2006-11-01T00:00:00.000000000",
          "2006-12-01T00:00:00.000000000",
          "2007-01-01T00:00:00.000000000",
          "2007-02-01T00:00:00.000000000",
          "2007-03-01T00:00:00.000000000",
          "2007-04-01T00:00:00.000000000",
          "2007-05-01T00:00:00.000000000",
          "2007-06-01T00:00:00.000000000",
          "2007-07-01T00:00:00.000000000",
          "2007-08-01T00:00:00.000000000",
          "2007-09-01T00:00:00.000000000",
          "2007-10-01T00:00:00.000000000",
          "2007-11-01T00:00:00.000000000",
          "2007-12-01T00:00:00.000000000",
          "2008-01-01T00:00:00.000000000",
          "2008-02-01T00:00:00.000000000",
          "2008-03-01T00:00:00.000000000",
          "2008-04-01T00:00:00.000000000",
          "2008-05-01T00:00:00.000000000",
          "2008-06-01T00:00:00.000000000",
          "2008-07-01T00:00:00.000000000",
          "2008-08-01T00:00:00.000000000",
          "2008-09-01T00:00:00.000000000",
          "2008-10-01T00:00:00.000000000",
          "2008-11-01T00:00:00.000000000",
          "2008-12-01T00:00:00.000000000",
          "2009-01-01T00:00:00.000000000",
          "2009-02-01T00:00:00.000000000",
          "2009-03-01T00:00:00.000000000",
          "2009-04-01T00:00:00.000000000",
          "2009-05-01T00:00:00.000000000",
          "2009-06-01T00:00:00.000000000",
          "2009-07-01T00:00:00.000000000",
          "2009-08-01T00:00:00.000000000",
          "2009-09-01T00:00:00.000000000",
          "2009-10-01T00:00:00.000000000",
          "2009-11-01T00:00:00.000000000",
          "2009-12-01T00:00:00.000000000",
          "2010-01-01T00:00:00.000000000",
          "2010-02-01T00:00:00.000000000",
          "2010-03-01T00:00:00.000000000",
          "2010-04-01T00:00:00.000000000",
          "2010-05-01T00:00:00.000000000",
          "2010-06-01T00:00:00.000000000",
          "2010-07-01T00:00:00.000000000",
          "2010-08-01T00:00:00.000000000",
          "2010-09-01T00:00:00.000000000",
          "2010-10-01T00:00:00.000000000",
          "2010-11-01T00:00:00.000000000",
          "2010-12-01T00:00:00.000000000",
          "2011-01-01T00:00:00.000000000",
          "2011-02-01T00:00:00.000000000",
          "2011-03-01T00:00:00.000000000",
          "2011-04-01T00:00:00.000000000",
          "2011-05-01T00:00:00.000000000",
          "2011-06-01T00:00:00.000000000",
          "2011-07-01T00:00:00.000000000",
          "2011-08-01T00:00:00.000000000",
          "2011-09-01T00:00:00.000000000",
          "2011-10-01T00:00:00.000000000",
          "2011-11-01T00:00:00.000000000",
          "2011-12-01T00:00:00.000000000",
          "2012-01-01T00:00:00.000000000",
          "2012-02-01T00:00:00.000000000",
          "2012-03-01T00:00:00.000000000",
          "2012-04-01T00:00:00.000000000",
          "2012-05-01T00:00:00.000000000",
          "2012-06-01T00:00:00.000000000",
          "2012-07-01T00:00:00.000000000",
          "2012-08-01T00:00:00.000000000",
          "2012-09-01T00:00:00.000000000",
          "2012-10-01T00:00:00.000000000",
          "2012-11-01T00:00:00.000000000",
          "2012-12-01T00:00:00.000000000",
          "2013-01-01T00:00:00.000000000",
          "2013-02-01T00:00:00.000000000",
          "2013-03-01T00:00:00.000000000",
          "2013-04-01T00:00:00.000000000",
          "2013-05-01T00:00:00.000000000",
          "2013-06-01T00:00:00.000000000",
          "2013-07-01T00:00:00.000000000",
          "2013-08-01T00:00:00.000000000",
          "2013-09-01T00:00:00.000000000",
          "2013-10-01T00:00:00.000000000",
          "2013-11-01T00:00:00.000000000",
          "2013-12-01T00:00:00.000000000",
          "2014-01-01T00:00:00.000000000",
          "2014-02-01T00:00:00.000000000",
          "2014-03-01T00:00:00.000000000",
          "2014-04-01T00:00:00.000000000",
          "2014-05-01T00:00:00.000000000",
          "2014-06-01T00:00:00.000000000",
          "2014-07-01T00:00:00.000000000",
          "2014-08-01T00:00:00.000000000",
          "2014-09-01T00:00:00.000000000",
          "2014-10-01T00:00:00.000000000",
          "2014-11-01T00:00:00.000000000",
          "2014-12-01T00:00:00.000000000",
          "2015-01-01T00:00:00.000000000",
          "2015-02-01T00:00:00.000000000",
          "2015-03-01T00:00:00.000000000",
          "2015-04-01T00:00:00.000000000",
          "2015-05-01T00:00:00.000000000",
          "2015-06-01T00:00:00.000000000",
          "2015-07-01T00:00:00.000000000",
          "2015-08-01T00:00:00.000000000",
          "2015-09-01T00:00:00.000000000",
          "2015-10-01T00:00:00.000000000",
          "2015-11-01T00:00:00.000000000",
          "2015-12-01T00:00:00.000000000",
          "2016-01-01T00:00:00.000000000",
          "2016-02-01T00:00:00.000000000",
          "2016-03-01T00:00:00.000000000",
          "2016-04-01T00:00:00.000000000",
          "2016-05-01T00:00:00.000000000",
          "2016-06-01T00:00:00.000000000",
          "2016-07-01T00:00:00.000000000",
          "2016-08-01T00:00:00.000000000",
          "2016-09-01T00:00:00.000000000",
          "2016-10-01T00:00:00.000000000",
          "2016-11-01T00:00:00.000000000",
          "2016-12-01T00:00:00.000000000",
          "2017-01-01T00:00:00.000000000",
          "2017-02-01T00:00:00.000000000",
          "2017-03-01T00:00:00.000000000",
          "2017-04-01T00:00:00.000000000",
          "2017-05-01T00:00:00.000000000",
          "2017-06-01T00:00:00.000000000",
          "2017-07-01T00:00:00.000000000",
          "2017-08-01T00:00:00.000000000",
          "2017-09-01T00:00:00.000000000",
          "2017-10-01T00:00:00.000000000",
          "2017-11-01T00:00:00.000000000",
          "2017-12-01T00:00:00.000000000",
          "2018-01-01T00:00:00.000000000",
          "2018-02-01T00:00:00.000000000",
          "2018-03-01T00:00:00.000000000",
          "2018-04-01T00:00:00.000000000",
          "2018-05-01T00:00:00.000000000",
          "2018-06-01T00:00:00.000000000",
          "2018-07-01T00:00:00.000000000",
          "2018-08-01T00:00:00.000000000",
          "2018-09-01T00:00:00.000000000",
          "2018-10-01T00:00:00.000000000",
          "2018-11-01T00:00:00.000000000",
          "2018-12-01T00:00:00.000000000",
          "2019-01-01T00:00:00.000000000",
          "2019-02-01T00:00:00.000000000",
          "2019-03-01T00:00:00.000000000",
          "2019-04-01T00:00:00.000000000",
          "2019-05-01T00:00:00.000000000",
          "2019-06-01T00:00:00.000000000",
          "2019-07-01T00:00:00.000000000",
          "2019-08-01T00:00:00.000000000",
          "2019-09-01T00:00:00.000000000",
          "2019-10-01T00:00:00.000000000",
          "2019-11-01T00:00:00.000000000",
          "2019-12-01T00:00:00.000000000",
          "2020-01-01T00:00:00.000000000",
          "2020-02-01T00:00:00.000000000",
          "2020-03-01T00:00:00.000000000",
          "2020-04-01T00:00:00.000000000",
          "2020-05-01T00:00:00.000000000",
          "2020-06-01T00:00:00.000000000",
          "2020-07-01T00:00:00.000000000",
          "2020-08-01T00:00:00.000000000",
          "2020-09-01T00:00:00.000000000",
          "2020-10-01T00:00:00.000000000",
          "2020-11-01T00:00:00.000000000",
          "2020-12-01T00:00:00.000000000",
          "2021-01-01T00:00:00.000000000",
          "2021-02-01T00:00:00.000000000",
          "2021-03-01T00:00:00.000000000",
          "2021-04-01T00:00:00.000000000",
          "2021-05-01T00:00:00.000000000",
          "2021-06-01T00:00:00.000000000",
          "2021-07-01T00:00:00.000000000",
          "2021-08-01T00:00:00.000000000",
          "2021-09-01T00:00:00.000000000",
          "2021-10-01T00:00:00.000000000",
          "2021-11-01T00:00:00.000000000",
          "2021-12-01T00:00:00.000000000",
          "2022-01-01T00:00:00.000000000",
          "2022-02-01T00:00:00.000000000",
          "2022-03-01T00:00:00.000000000",
          "2022-04-01T00:00:00.000000000",
          "2022-05-01T00:00:00.000000000",
          "2022-06-01T00:00:00.000000000",
          "2022-07-01T00:00:00.000000000",
          "2022-08-01T00:00:00.000000000",
          "2022-09-01T00:00:00.000000000",
          "2022-10-01T00:00:00.000000000",
          "2022-11-01T00:00:00.000000000",
          "2022-12-01T00:00:00.000000000",
          "2023-01-01T00:00:00.000000000",
          "2023-02-01T00:00:00.000000000",
          "2023-03-01T00:00:00.000000000",
          "2023-04-01T00:00:00.000000000",
          "2023-05-01T00:00:00.000000000",
          "2023-06-01T00:00:00.000000000",
          "2023-07-01T00:00:00.000000000",
          "2023-08-01T00:00:00.000000000",
          "2023-09-01T00:00:00.000000000",
          "2023-10-01T00:00:00.000000000",
          "2023-11-01T00:00:00.000000000",
          "2023-12-01T00:00:00.000000000",
          "2024-01-01T00:00:00.000000000",
          "2024-02-01T00:00:00.000000000",
          "2024-03-01T00:00:00.000000000",
          "2024-04-01T00:00:00.000000000",
          "2024-05-01T00:00:00.000000000",
          "2024-06-01T00:00:00.000000000",
          "2024-07-01T00:00:00.000000000",
          "2024-08-01T00:00:00.000000000",
          "2024-09-01T00:00:00.000000000",
          "2024-10-01T00:00:00.000000000",
          "2024-11-01T00:00:00.000000000",
          "2024-12-01T00:00:00.000000000",
          "2025-01-01T00:00:00.000000000"
         ],
         "xaxis": "x",
         "y": {
          "bdata": "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",
          "dtype": "f8"
         },
         "yaxis": "y"
        }
       ],
       "layout": {
        "annotations": [
         {
          "align": "left",
          "bgcolor": "rgba(255, 255, 255, 0.8)",
          "bordercolor": "black",
          "borderwidth": 1,
          "font": {
           "size": 10
          },
          "showarrow": false,
          "text": "Source: Trading Economics<br>Original Source: Institute for Supply Management<br>Frequency: MS<br>",
          "x": 0,
          "xanchor": "left",
          "xref": "paper",
          "y": -0.23,
          "yanchor": "bottom",
          "yref": "paper"
         }
        ],
        "legend": {
         "orientation": "h",
         "title": {
          "text": ""
         },
         "tracegroupgap": 0,
         "x": 0.5,
         "xanchor": "center",
         "y": -0.2,
         "yanchor": "bottom"
        },
        "margin": {
         "t": 60
        },
        "template": {
         "data": {
          "bar": [
           {
            "error_x": {
             "color": "#2a3f5f"
            },
            "error_y": {
             "color": "#2a3f5f"
            },
            "marker": {
             "line": {
              "color": "#E5ECF6",
              "width": 0.5
             },
             "pattern": {
              "fillmode": "overlay",
              "size": 10,
              "solidity": 0.2
             }
            },
            "type": "bar"
           }
          ],
          "barpolar": [
           {
            "marker": {
             "line": {
              "color": "#E5ECF6",
              "width": 0.5
             },
             "pattern": {
              "fillmode": "overlay",
              "size": 10,
              "solidity": 0.2
             }
            },
            "type": "barpolar"
           }
          ],
          "carpet": [
           {
            "aaxis": {
             "endlinecolor": "#2a3f5f",
             "gridcolor": "white",
             "linecolor": "white",
             "minorgridcolor": "white",
             "startlinecolor": "#2a3f5f"
            },
            "baxis": {
             "endlinecolor": "#2a3f5f",
             "gridcolor": "white",
             "linecolor": "white",
             "minorgridcolor": "white",
             "startlinecolor": "#2a3f5f"
            },
            "type": "carpet"
           }
          ],
          "choropleth": [
           {
            "colorbar": {
             "outlinewidth": 0,
             "ticks": ""
            },
            "type": "choropleth"
           }
          ],
          "contour": [
           {
            "colorbar": {
             "outlinewidth": 0,
             "ticks": ""
            },
            "colorscale": [
             [
              0,
              "#0d0887"
             ],
             [
              0.1111111111111111,
              "#46039f"
             ],
             [
              0.2222222222222222,
              "#7201a8"
             ],
             [
              0.3333333333333333,
              "#9c179e"
             ],
             [
              0.4444444444444444,
              "#bd3786"
             ],
             [
              0.5555555555555556,
              "#d8576b"
             ],
             [
              0.6666666666666666,
              "#ed7953"
             ],
             [
              0.7777777777777778,
              "#fb9f3a"
             ],
             [
              0.8888888888888888,
              "#fdca26"
             ],
             [
              1,
              "#f0f921"
             ]
            ],
            "type": "contour"
           }
          ],
          "contourcarpet": [
           {
            "colorbar": {
             "outlinewidth": 0,
             "ticks": ""
            },
            "type": "contourcarpet"
           }
          ],
          "heatmap": [
           {
            "colorbar": {
             "outlinewidth": 0,
             "ticks": ""
            },
            "colorscale": [
             [
              0,
              "#0d0887"
             ],
             [
              0.1111111111111111,
              "#46039f"
             ],
             [
              0.2222222222222222,
              "#7201a8"
             ],
             [
              0.3333333333333333,
              "#9c179e"
             ],
             [
              0.4444444444444444,
              "#bd3786"
             ],
             [
              0.5555555555555556,
              "#d8576b"
             ],
             [
              0.6666666666666666,
              "#ed7953"
             ],
             [
              0.7777777777777778,
              "#fb9f3a"
             ],
             [
              0.8888888888888888,
              "#fdca26"
             ],
             [
              1,
              "#f0f921"
             ]
            ],
            "type": "heatmap"
           }
          ],
          "histogram": [
           {
            "marker": {
             "pattern": {
              "fillmode": "overlay",
              "size": 10,
              "solidity": 0.2
             }
            },
            "type": "histogram"
           }
          ],
          "histogram2d": [
           {
            "colorbar": {
             "outlinewidth": 0,
             "ticks": ""
            },
            "colorscale": [
             [
              0,
              "#0d0887"
             ],
             [
              0.1111111111111111,
              "#46039f"
             ],
             [
              0.2222222222222222,
              "#7201a8"
             ],
             [
              0.3333333333333333,
              "#9c179e"
             ],
             [
              0.4444444444444444,
              "#bd3786"
             ],
             [
              0.5555555555555556,
              "#d8576b"
             ],
             [
              0.6666666666666666,
              "#ed7953"
             ],
             [
              0.7777777777777778,
              "#fb9f3a"
             ],
             [
              0.8888888888888888,
              "#fdca26"
             ],
             [
              1,
              "#f0f921"
             ]
            ],
            "type": "histogram2d"
           }
          ],
          "histogram2dcontour": [
           {
            "colorbar": {
             "outlinewidth": 0,
             "ticks": ""
            },
            "colorscale": [
             [
              0,
              "#0d0887"
             ],
             [
              0.1111111111111111,
              "#46039f"
             ],
             [
              0.2222222222222222,
              "#7201a8"
             ],
             [
              0.3333333333333333,
              "#9c179e"
             ],
             [
              0.4444444444444444,
              "#bd3786"
             ],
             [
              0.5555555555555556,
              "#d8576b"
             ],
             [
              0.6666666666666666,
              "#ed7953"
             ],
             [
              0.7777777777777778,
              "#fb9f3a"
             ],
             [
              0.8888888888888888,
              "#fdca26"
             ],
             [
              1,
              "#f0f921"
             ]
            ],
            "type": "histogram2dcontour"
           }
          ],
          "mesh3d": [
           {
            "colorbar": {
             "outlinewidth": 0,
             "ticks": ""
            },
            "type": "mesh3d"
           }
          ],
          "parcoords": [
           {
            "line": {
             "colorbar": {
              "outlinewidth": 0,
              "ticks": ""
             }
            },
            "type": "parcoords"
           }
          ],
          "pie": [
           {
            "automargin": true,
            "type": "pie"
           }
          ],
          "scatter": [
           {
            "fillpattern": {
             "fillmode": "overlay",
             "size": 10,
             "solidity": 0.2
            },
            "type": "scatter"
           }
          ],
          "scatter3d": [
           {
            "line": {
             "colorbar": {
              "outlinewidth": 0,
              "ticks": ""
             }
            },
            "marker": {
             "colorbar": {
              "outlinewidth": 0,
              "ticks": ""
             }
            },
            "type": "scatter3d"
           }
          ],
          "scattercarpet": [
           {
            "marker": {
             "colorbar": {
              "outlinewidth": 0,
              "ticks": ""
             }
            },
            "type": "scattercarpet"
           }
          ],
          "scattergeo": [
           {
            "marker": {
             "colorbar": {
              "outlinewidth": 0,
              "ticks": ""
             }
            },
            "type": "scattergeo"
           }
          ],
          "scattergl": [
           {
            "marker": {
             "colorbar": {
              "outlinewidth": 0,
              "ticks": ""
             }
            },
            "type": "scattergl"
           }
          ],
          "scattermap": [
           {
            "marker": {
             "colorbar": {
              "outlinewidth": 0,
              "ticks": ""
             }
            },
            "type": "scattermap"
           }
          ],
          "scattermapbox": [
           {
            "marker": {
             "colorbar": {
              "outlinewidth": 0,
              "ticks": ""
             }
            },
            "type": "scattermapbox"
           }
          ],
          "scatterpolar": [
           {
            "marker": {
             "colorbar": {
              "outlinewidth": 0,
              "ticks": ""
             }
            },
            "type": "scatterpolar"
           }
          ],
          "scatterpolargl": [
           {
            "marker": {
             "colorbar": {
              "outlinewidth": 0,
              "ticks": ""
             }
            },
            "type": "scatterpolargl"
           }
          ],
          "scatterternary": [
           {
            "marker": {
             "colorbar": {
              "outlinewidth": 0,
              "ticks": ""
             }
            },
            "type": "scatterternary"
           }
          ],
          "surface": [
           {
            "colorbar": {
             "outlinewidth": 0,
             "ticks": ""
            },
            "colorscale": [
             [
              0,
              "#0d0887"
             ],
             [
              0.1111111111111111,
              "#46039f"
             ],
             [
              0.2222222222222222,
              "#7201a8"
             ],
             [
              0.3333333333333333,
              "#9c179e"
             ],
             [
              0.4444444444444444,
              "#bd3786"
             ],
             [
              0.5555555555555556,
              "#d8576b"
             ],
             [
              0.6666666666666666,
              "#ed7953"
             ],
             [
              0.7777777777777778,
              "#fb9f3a"
             ],
             [
              0.8888888888888888,
              "#fdca26"
             ],
             [
              1,
              "#f0f921"
             ]
            ],
            "type": "surface"
           }
          ],
          "table": [
           {
            "cells": {
             "fill": {
              "color": "#EBF0F8"
             },
             "line": {
              "color": "white"
             }
            },
            "header": {
             "fill": {
              "color": "#C8D4E3"
             },
             "line": {
              "color": "white"
             }
            },
            "type": "table"
           }
          ]
         },
         "layout": {
          "annotationdefaults": {
           "arrowcolor": "#2a3f5f",
           "arrowhead": 0,
           "arrowwidth": 1
          },
          "autotypenumbers": "strict",
          "coloraxis": {
           "colorbar": {
            "outlinewidth": 0,
            "ticks": ""
           }
          },
          "colorscale": {
           "diverging": [
            [
             0,
             "#8e0152"
            ],
            [
             0.1,
             "#c51b7d"
            ],
            [
             0.2,
             "#de77ae"
            ],
            [
             0.3,
             "#f1b6da"
            ],
            [
             0.4,
             "#fde0ef"
            ],
            [
             0.5,
             "#f7f7f7"
            ],
            [
             0.6,
             "#e6f5d0"
            ],
            [
             0.7,
             "#b8e186"
            ],
            [
             0.8,
             "#7fbc41"
            ],
            [
             0.9,
             "#4d9221"
            ],
            [
             1,
             "#276419"
            ]
           ],
           "sequential": [
            [
             0,
             "#0d0887"
            ],
            [
             0.1111111111111111,
             "#46039f"
            ],
            [
             0.2222222222222222,
             "#7201a8"
            ],
            [
             0.3333333333333333,
             "#9c179e"
            ],
            [
             0.4444444444444444,
             "#bd3786"
            ],
            [
             0.5555555555555556,
             "#d8576b"
            ],
            [
             0.6666666666666666,
             "#ed7953"
            ],
            [
             0.7777777777777778,
             "#fb9f3a"
            ],
            [
             0.8888888888888888,
             "#fdca26"
            ],
            [
             1,
             "#f0f921"
            ]
           ],
           "sequentialminus": [
            [
             0,
             "#0d0887"
            ],
            [
             0.1111111111111111,
             "#46039f"
            ],
            [
             0.2222222222222222,
             "#7201a8"
            ],
            [
             0.3333333333333333,
             "#9c179e"
            ],
            [
             0.4444444444444444,
             "#bd3786"
            ],
            [
             0.5555555555555556,
             "#d8576b"
            ],
            [
             0.6666666666666666,
             "#ed7953"
            ],
            [
             0.7777777777777778,
             "#fb9f3a"
            ],
            [
             0.8888888888888888,
             "#fdca26"
            ],
            [
             1,
             "#f0f921"
            ]
           ]
          },
          "colorway": [
           "#636efa",
           "#EF553B",
           "#00cc96",
           "#ab63fa",
           "#FFA15A",
           "#19d3f3",
           "#FF6692",
           "#B6E880",
           "#FF97FF",
           "#FECB52"
          ],
          "font": {
           "color": "#2a3f5f"
          },
          "geo": {
           "bgcolor": "white",
           "lakecolor": "white",
           "landcolor": "#E5ECF6",
           "showlakes": true,
           "showland": true,
           "subunitcolor": "white"
          },
          "hoverlabel": {
           "align": "left"
          },
          "hovermode": "closest",
          "mapbox": {
           "style": "light"
          },
          "paper_bgcolor": "white",
          "plot_bgcolor": "#E5ECF6",
          "polar": {
           "angularaxis": {
            "gridcolor": "white",
            "linecolor": "white",
            "ticks": ""
           },
           "bgcolor": "#E5ECF6",
           "radialaxis": {
            "gridcolor": "white",
            "linecolor": "white",
            "ticks": ""
           }
          },
          "scene": {
           "xaxis": {
            "backgroundcolor": "#E5ECF6",
            "gridcolor": "white",
            "gridwidth": 2,
            "linecolor": "white",
            "showbackground": true,
            "ticks": "",
            "zerolinecolor": "white"
           },
           "yaxis": {
            "backgroundcolor": "#E5ECF6",
            "gridcolor": "white",
            "gridwidth": 2,
            "linecolor": "white",
            "showbackground": true,
            "ticks": "",
            "zerolinecolor": "white"
           },
           "zaxis": {
            "backgroundcolor": "#E5ECF6",
            "gridcolor": "white",
            "gridwidth": 2,
            "linecolor": "white",
            "showbackground": true,
            "ticks": "",
            "zerolinecolor": "white"
           }
          },
          "shapedefaults": {
           "line": {
            "color": "#2a3f5f"
           }
          },
          "ternary": {
           "aaxis": {
            "gridcolor": "white",
            "linecolor": "white",
            "ticks": ""
           },
           "baxis": {
            "gridcolor": "white",
            "linecolor": "white",
            "ticks": ""
           },
           "bgcolor": "#E5ECF6",
           "caxis": {
            "gridcolor": "white",
            "linecolor": "white",
            "ticks": ""
           }
          },
          "title": {
           "x": 0.05
          },
          "xaxis": {
           "automargin": true,
           "gridcolor": "white",
           "linecolor": "white",
           "ticks": "",
           "title": {
            "standoff": 15
           },
           "zerolinecolor": "white",
           "zerolinewidth": 2
          },
          "yaxis": {
           "automargin": true,
           "gridcolor": "white",
           "linecolor": "white",
           "ticks": "",
           "title": {
            "standoff": 15
           },
           "zerolinecolor": "white",
           "zerolinewidth": 2
          }
         }
        },
        "title": {
         "text": "United states: United states ism services pmi"
        },
        "xaxis": {
         "anchor": "y",
         "domain": [
          0,
          1
         ],
         "title": {
          "text": ""
         }
        },
        "yaxis": {
         "anchor": "x",
         "domain": [
          0,
          1
         ],
         "title": {
          "text": "Points"
         }
        }
       }
      }
     },
     "metadata": {},
     "output_type": "display_data"
    }
   ],
   "source": [
    "scraped = search.scraped_data\n",
    "scraped.plot_series(ann_box_pos=(0, -0.23))  # Yu can move the annotation box around by changing the values of ann_box_pos."
   ]
  },
  {
   "cell_type": "code",
   "execution_count": null,
   "metadata": {},
   "outputs": [],
   "source": [
    "scraped.save_plot(format=\"html\")  #Export static plot as png if you wish. Use format=\"html\" for interactive plot export."
   ]
  },
  {
   "cell_type": "code",
   "execution_count": 7,
   "metadata": {},
   "outputs": [
    {
     "data": {
      "text/plain": [
       "{'units': 'points',\n",
       " 'original_source': 'Institute for Supply Management',\n",
       " 'title': 'United States ISM Services PMI',\n",
       " 'indicator': 'non manufacturing pmi',\n",
       " 'country': 'united states',\n",
       " 'source': 'Trading Economics',\n",
       " 'id': 'united-states/non-manufacturing-pmi',\n",
       " 'description': 'The Non-Manufacturing ISM Report On Business® is based on data compiled from purchasing and supply executives nationwide. Survey responses reflect the change, if any, in the current month compared to the previous month. For each of the indicators measured (Business Activity, New Orders, Backlog of Orders, New Export Orders, Inventory Change, Inventory Sentiment, Imports, Prices, Employment and Supplier Deliveries) this report shows the percentage reporting each response, and the diffusion index. An index reading above 50 percent indicates that the non-manufacturing economy in that index is generally expanding; below 50 percent indicates that it is generally declining. Orders to the service producers make up about 90 percent of the US economy.',\n",
       " 'start_date': '1997-07-01',\n",
       " 'end_date': '2025-01-01',\n",
       " 'min_value': 37.800000000000004,\n",
       " 'max_value': 67.60000000000018,\n",
       " 'length': 331,\n",
       " 'frequency': 'MS'}"
      ]
     },
     "execution_count": 7,
     "metadata": {},
     "output_type": "execute_result"
    }
   ],
   "source": [
    "scraped.metadata"
   ]
  },
  {
   "cell_type": "markdown",
   "metadata": {},
   "source": [
    "# Method #2: Download data for a given Indicator + Country combination or a given URL with a single line.\n",
    "\n",
    "Sometimes you may get an error straight away on the first run of the ```scrape_chart``` method. Error message will be something about error establising a connection.\n",
    "\n",
    "Noted error messages for this: \n",
    "- Error loading page: Message: Failed to write request to stream\n",
    "- Error loading page: Message: Tried to run command without establishing a connection\n",
    "\n",
    "Just try again if so, it has always worked for me the second time unless internet connection is down or too slow."
   ]
  },
  {
   "cell_type": "code",
   "execution_count": 2,
   "metadata": {},
   "outputs": [
    {
     "data": {
      "text/plain": [
       "[]"
      ]
     },
     "execution_count": 2,
     "metadata": {},
     "output_type": "execute_result"
    }
   ],
   "source": [
    "from tedata import base\n",
    "base.find_active_drivers(quit_all=True)"
   ]
  },
  {
   "cell_type": "code",
   "execution_count": 6,
   "metadata": {},
   "outputs": [
    {
     "name": "stderr",
     "output_type": "stream",
     "text": [
      "INFO - New firefox webdriver created.\n",
      "INFO - scrape_chart function: Scraping chart at: https://tradingeconomics.com/australia/consumer-confidence, time: 2025-02-26 13:04:19.716626, method: path\n",
      "INFO - Chart types dictionary created successfully: dict_keys(['Column', 'Spline', 'Areaspline', 'Stepline', 'Line', 'Area'])\n",
      "INFO - Date span set to: 1Y\n",
      "INFO - \n",
      "Series metadata: \n",
      " {'units': 'points', 'original_source': 'Westpac Banking Corporation, Melbourne Institute', 'title': 'Australia Consumer Confidence', 'indicator': 'consumer confidence', 'country': 'australia', 'source': 'Trading Economics', 'id': 'australia/consumer-confidence'}\n"
     ]
    },
    {
     "name": "stdout",
     "output_type": "stream",
     "text": [
      "Using selenium and tooltip scraping to construct the date time index for the time-series, this'll take a bit...\n"
     ]
    },
    {
     "name": "stderr",
     "output_type": "stream",
     "text": [
      "INFO - Chart type set to: Spline\n"
     ]
    },
    {
     "name": "stdout",
     "output_type": "stream",
     "text": [
      "Latest dates:  ['Feb 2025', 'Jan 2025', 'Dec 2024', 'Nov 2024', 'Oct 2024', 'Sep 2024', 'Aug 2024', 'Jul 2024', 'Jun 2024', 'May 2024']\n",
      "Frequency of time-series:  MS\n",
      "get_xlims_from_tooltips method: date_span:  1Y , chart_type: splineChart\n"
     ]
    },
    {
     "name": "stderr",
     "output_type": "stream",
     "text": [
      "INFO - Chart type set to: Spline\n"
     ]
    },
    {
     "name": "stdout",
     "output_type": "stream",
     "text": [
      "Got chart dimensions and plot background element.\n"
     ]
    },
    {
     "name": "stderr",
     "output_type": "stream",
     "text": [
      "INFO - Start and end values scraped from tooltips: \n",
      "{'start_date': Timestamp('1974-09-01 00:00:00'), 'start_value': 90.7, 'end_date': Timestamp('2025-01-01 00:00:00'), 'end_value': 92.1}\n",
      "INFO - DateTimeIndex created successfully for the time-series.\n",
      "INFO - Y-axis values scraped successfully.\n",
      "INFO - Series path extraction method: Extracting series data from chart soup.\n",
      "INFO - Date span: MAX. Chart type: splineChart, URL: https://tradingeconomics.com/australia/consumer-confidence.\n",
      "INFO - DateTimeIndex applied to series, series attribute updated.\n",
      "INFO - Successfully scaled series.\n",
      "INFO - Successfully scraped time-series from chart at:  https://tradingeconomics.com/australia/consumer-confidence, now getting some metadata...\n"
     ]
    },
    {
     "name": "stdout",
     "output_type": "stream",
     "text": [
      "Got metadata. \n",
      "\n",
      "Series tail: 2024-09-01    84.6\n",
      "2024-10-01    89.8\n",
      "2024-11-01    94.6\n",
      "2024-12-01    92.8\n",
      "2025-01-01    92.1\n",
      "Freq: MS, Name: consumer confidence, dtype: float64 \n",
      "\n",
      "Scraping complete! Happy pirating yo!\n"
     ]
    }
   ],
   "source": [
    "scraped = ted.scrape_chart(country=\"australia\", id = \"consumer-confidence\", use_existing_driver=True, headless=False, method=\"path\") ## Using chart id from the url only, country is \"united-states\" by default."
   ]
  },
  {
   "cell_type": "code",
   "execution_count": 7,
   "metadata": {},
   "outputs": [
    {
     "data": {
      "application/vnd.plotly.v1+json": {
       "config": {
        "plotlyServerURL": "https://plot.ly"
       },
       "data": [
        {
         "hovertemplate": "variable=consumer confidence<br>index=%{x}<br>value=%{y}<extra></extra>",
         "legendgroup": "consumer confidence",
         "line": {
          "color": "#636efa",
          "dash": "solid"
         },
         "marker": {
          "symbol": "circle"
         },
         "mode": "lines",
         "name": "consumer confidence",
         "orientation": "v",
         "showlegend": true,
         "type": "scatter",
         "x": [
          "1974-09-01T00:00:00.000000000",
          "1974-10-01T00:00:00.000000000",
          "1974-11-01T00:00:00.000000000",
          "1974-12-01T00:00:00.000000000",
          "1975-01-01T00:00:00.000000000",
          "1975-02-01T00:00:00.000000000",
          "1975-03-01T00:00:00.000000000",
          "1975-04-01T00:00:00.000000000",
          "1975-05-01T00:00:00.000000000",
          "1975-06-01T00:00:00.000000000",
          "1975-07-01T00:00:00.000000000",
          "1975-08-01T00:00:00.000000000",
          "1975-09-01T00:00:00.000000000",
          "1975-10-01T00:00:00.000000000",
          "1975-11-01T00:00:00.000000000",
          "1975-12-01T00:00:00.000000000",
          "1976-01-01T00:00:00.000000000",
          "1976-02-01T00:00:00.000000000",
          "1976-03-01T00:00:00.000000000",
          "1976-04-01T00:00:00.000000000",
          "1976-05-01T00:00:00.000000000",
          "1976-06-01T00:00:00.000000000",
          "1976-07-01T00:00:00.000000000",
          "1976-08-01T00:00:00.000000000",
          "1976-09-01T00:00:00.000000000",
          "1976-10-01T00:00:00.000000000",
          "1976-11-01T00:00:00.000000000",
          "1976-12-01T00:00:00.000000000",
          "1977-01-01T00:00:00.000000000",
          "1977-02-01T00:00:00.000000000",
          "1977-03-01T00:00:00.000000000",
          "1977-04-01T00:00:00.000000000",
          "1977-05-01T00:00:00.000000000",
          "1977-06-01T00:00:00.000000000",
          "1977-07-01T00:00:00.000000000",
          "1977-08-01T00:00:00.000000000",
          "1977-09-01T00:00:00.000000000",
          "1977-10-01T00:00:00.000000000",
          "1977-11-01T00:00:00.000000000",
          "1977-12-01T00:00:00.000000000",
          "1978-01-01T00:00:00.000000000",
          "1978-02-01T00:00:00.000000000",
          "1978-03-01T00:00:00.000000000",
          "1978-04-01T00:00:00.000000000",
          "1978-05-01T00:00:00.000000000",
          "1978-06-01T00:00:00.000000000",
          "1978-07-01T00:00:00.000000000",
          "1978-08-01T00:00:00.000000000",
          "1978-09-01T00:00:00.000000000",
          "1978-10-01T00:00:00.000000000",
          "1978-11-01T00:00:00.000000000",
          "1978-12-01T00:00:00.000000000",
          "1979-01-01T00:00:00.000000000",
          "1979-02-01T00:00:00.000000000",
          "1979-03-01T00:00:00.000000000",
          "1979-04-01T00:00:00.000000000",
          "1979-05-01T00:00:00.000000000",
          "1979-06-01T00:00:00.000000000",
          "1979-07-01T00:00:00.000000000",
          "1979-08-01T00:00:00.000000000",
          "1979-09-01T00:00:00.000000000",
          "1979-10-01T00:00:00.000000000",
          "1979-11-01T00:00:00.000000000",
          "1979-12-01T00:00:00.000000000",
          "1980-01-01T00:00:00.000000000",
          "1980-02-01T00:00:00.000000000",
          "1980-03-01T00:00:00.000000000",
          "1980-04-01T00:00:00.000000000",
          "1980-05-01T00:00:00.000000000",
          "1980-06-01T00:00:00.000000000",
          "1980-07-01T00:00:00.000000000",
          "1980-08-01T00:00:00.000000000",
          "1980-09-01T00:00:00.000000000",
          "1980-10-01T00:00:00.000000000",
          "1980-11-01T00:00:00.000000000",
          "1980-12-01T00:00:00.000000000",
          "1981-01-01T00:00:00.000000000",
          "1981-02-01T00:00:00.000000000",
          "1981-03-01T00:00:00.000000000",
          "1981-04-01T00:00:00.000000000",
          "1981-05-01T00:00:00.000000000",
          "1981-06-01T00:00:00.000000000",
          "1981-07-01T00:00:00.000000000",
          "1981-08-01T00:00:00.000000000",
          "1981-09-01T00:00:00.000000000",
          "1981-10-01T00:00:00.000000000",
          "1981-11-01T00:00:00.000000000",
          "1981-12-01T00:00:00.000000000",
          "1982-01-01T00:00:00.000000000",
          "1982-02-01T00:00:00.000000000",
          "1982-03-01T00:00:00.000000000",
          "1982-04-01T00:00:00.000000000",
          "1982-05-01T00:00:00.000000000",
          "1982-06-01T00:00:00.000000000",
          "1982-07-01T00:00:00.000000000",
          "1982-08-01T00:00:00.000000000",
          "1982-09-01T00:00:00.000000000",
          "1982-10-01T00:00:00.000000000",
          "1982-11-01T00:00:00.000000000",
          "1982-12-01T00:00:00.000000000",
          "1983-01-01T00:00:00.000000000",
          "1983-02-01T00:00:00.000000000",
          "1983-03-01T00:00:00.000000000",
          "1983-04-01T00:00:00.000000000",
          "1983-05-01T00:00:00.000000000",
          "1983-06-01T00:00:00.000000000",
          "1983-07-01T00:00:00.000000000",
          "1983-08-01T00:00:00.000000000",
          "1983-09-01T00:00:00.000000000",
          "1983-10-01T00:00:00.000000000",
          "1983-11-01T00:00:00.000000000",
          "1983-12-01T00:00:00.000000000",
          "1984-01-01T00:00:00.000000000",
          "1984-02-01T00:00:00.000000000",
          "1984-03-01T00:00:00.000000000",
          "1984-04-01T00:00:00.000000000",
          "1984-05-01T00:00:00.000000000",
          "1984-06-01T00:00:00.000000000",
          "1984-07-01T00:00:00.000000000",
          "1984-08-01T00:00:00.000000000",
          "1984-09-01T00:00:00.000000000",
          "1984-10-01T00:00:00.000000000",
          "1984-11-01T00:00:00.000000000",
          "1984-12-01T00:00:00.000000000",
          "1985-01-01T00:00:00.000000000",
          "1985-02-01T00:00:00.000000000",
          "1985-03-01T00:00:00.000000000",
          "1985-04-01T00:00:00.000000000",
          "1985-05-01T00:00:00.000000000",
          "1985-06-01T00:00:00.000000000",
          "1985-07-01T00:00:00.000000000",
          "1985-08-01T00:00:00.000000000",
          "1985-09-01T00:00:00.000000000",
          "1985-10-01T00:00:00.000000000",
          "1985-11-01T00:00:00.000000000",
          "1985-12-01T00:00:00.000000000",
          "1986-01-01T00:00:00.000000000",
          "1986-02-01T00:00:00.000000000",
          "1986-03-01T00:00:00.000000000",
          "1986-04-01T00:00:00.000000000",
          "1986-05-01T00:00:00.000000000",
          "1986-06-01T00:00:00.000000000",
          "1986-07-01T00:00:00.000000000",
          "1986-08-01T00:00:00.000000000",
          "1986-09-01T00:00:00.000000000",
          "1986-10-01T00:00:00.000000000",
          "1986-11-01T00:00:00.000000000",
          "1986-12-01T00:00:00.000000000",
          "1987-01-01T00:00:00.000000000",
          "1987-02-01T00:00:00.000000000",
          "1987-03-01T00:00:00.000000000",
          "1987-04-01T00:00:00.000000000",
          "1987-05-01T00:00:00.000000000",
          "1987-06-01T00:00:00.000000000",
          "1987-07-01T00:00:00.000000000",
          "1987-08-01T00:00:00.000000000",
          "1987-09-01T00:00:00.000000000",
          "1987-10-01T00:00:00.000000000",
          "1987-11-01T00:00:00.000000000",
          "1987-12-01T00:00:00.000000000",
          "1988-01-01T00:00:00.000000000",
          "1988-02-01T00:00:00.000000000",
          "1988-03-01T00:00:00.000000000",
          "1988-04-01T00:00:00.000000000",
          "1988-05-01T00:00:00.000000000",
          "1988-06-01T00:00:00.000000000",
          "1988-07-01T00:00:00.000000000",
          "1988-08-01T00:00:00.000000000",
          "1988-09-01T00:00:00.000000000",
          "1988-10-01T00:00:00.000000000",
          "1988-11-01T00:00:00.000000000",
          "1988-12-01T00:00:00.000000000",
          "1989-01-01T00:00:00.000000000",
          "1989-02-01T00:00:00.000000000",
          "1989-03-01T00:00:00.000000000",
          "1989-04-01T00:00:00.000000000",
          "1989-05-01T00:00:00.000000000",
          "1989-06-01T00:00:00.000000000",
          "1989-07-01T00:00:00.000000000",
          "1989-08-01T00:00:00.000000000",
          "1989-09-01T00:00:00.000000000",
          "1989-10-01T00:00:00.000000000",
          "1989-11-01T00:00:00.000000000",
          "1989-12-01T00:00:00.000000000",
          "1990-01-01T00:00:00.000000000",
          "1990-02-01T00:00:00.000000000",
          "1990-03-01T00:00:00.000000000",
          "1990-04-01T00:00:00.000000000",
          "1990-05-01T00:00:00.000000000",
          "1990-06-01T00:00:00.000000000",
          "1990-07-01T00:00:00.000000000",
          "1990-08-01T00:00:00.000000000",
          "1990-09-01T00:00:00.000000000",
          "1990-10-01T00:00:00.000000000",
          "1990-11-01T00:00:00.000000000",
          "1990-12-01T00:00:00.000000000",
          "1991-01-01T00:00:00.000000000",
          "1991-02-01T00:00:00.000000000",
          "1991-03-01T00:00:00.000000000",
          "1991-04-01T00:00:00.000000000",
          "1991-05-01T00:00:00.000000000",
          "1991-06-01T00:00:00.000000000",
          "1991-07-01T00:00:00.000000000",
          "1991-08-01T00:00:00.000000000",
          "1991-09-01T00:00:00.000000000",
          "1991-10-01T00:00:00.000000000",
          "1991-11-01T00:00:00.000000000",
          "1991-12-01T00:00:00.000000000",
          "1992-01-01T00:00:00.000000000",
          "1992-02-01T00:00:00.000000000",
          "1992-03-01T00:00:00.000000000",
          "1992-04-01T00:00:00.000000000",
          "1992-05-01T00:00:00.000000000",
          "1992-06-01T00:00:00.000000000",
          "1992-07-01T00:00:00.000000000",
          "1992-08-01T00:00:00.000000000",
          "1992-09-01T00:00:00.000000000",
          "1992-10-01T00:00:00.000000000",
          "1992-11-01T00:00:00.000000000",
          "1992-12-01T00:00:00.000000000",
          "1993-01-01T00:00:00.000000000",
          "1993-02-01T00:00:00.000000000",
          "1993-03-01T00:00:00.000000000",
          "1993-04-01T00:00:00.000000000",
          "1993-05-01T00:00:00.000000000",
          "1993-06-01T00:00:00.000000000",
          "1993-07-01T00:00:00.000000000",
          "1993-08-01T00:00:00.000000000",
          "1993-09-01T00:00:00.000000000",
          "1993-10-01T00:00:00.000000000",
          "1993-11-01T00:00:00.000000000",
          "1993-12-01T00:00:00.000000000",
          "1994-01-01T00:00:00.000000000",
          "1994-02-01T00:00:00.000000000",
          "1994-03-01T00:00:00.000000000",
          "1994-04-01T00:00:00.000000000",
          "1994-05-01T00:00:00.000000000",
          "1994-06-01T00:00:00.000000000",
          "1994-07-01T00:00:00.000000000",
          "1994-08-01T00:00:00.000000000",
          "1994-09-01T00:00:00.000000000",
          "1994-10-01T00:00:00.000000000",
          "1994-11-01T00:00:00.000000000",
          "1994-12-01T00:00:00.000000000",
          "1995-01-01T00:00:00.000000000",
          "1995-02-01T00:00:00.000000000",
          "1995-03-01T00:00:00.000000000",
          "1995-04-01T00:00:00.000000000",
          "1995-05-01T00:00:00.000000000",
          "1995-06-01T00:00:00.000000000",
          "1995-07-01T00:00:00.000000000",
          "1995-08-01T00:00:00.000000000",
          "1995-09-01T00:00:00.000000000",
          "1995-10-01T00:00:00.000000000",
          "1995-11-01T00:00:00.000000000",
          "1995-12-01T00:00:00.000000000",
          "1996-01-01T00:00:00.000000000",
          "1996-02-01T00:00:00.000000000",
          "1996-03-01T00:00:00.000000000",
          "1996-04-01T00:00:00.000000000",
          "1996-05-01T00:00:00.000000000",
          "1996-06-01T00:00:00.000000000",
          "1996-07-01T00:00:00.000000000",
          "1996-08-01T00:00:00.000000000",
          "1996-09-01T00:00:00.000000000",
          "1996-10-01T00:00:00.000000000",
          "1996-11-01T00:00:00.000000000",
          "1996-12-01T00:00:00.000000000",
          "1997-01-01T00:00:00.000000000",
          "1997-02-01T00:00:00.000000000",
          "1997-03-01T00:00:00.000000000",
          "1997-04-01T00:00:00.000000000",
          "1997-05-01T00:00:00.000000000",
          "1997-06-01T00:00:00.000000000",
          "1997-07-01T00:00:00.000000000",
          "1997-08-01T00:00:00.000000000",
          "1997-09-01T00:00:00.000000000",
          "1997-10-01T00:00:00.000000000",
          "1997-11-01T00:00:00.000000000",
          "1997-12-01T00:00:00.000000000",
          "1998-01-01T00:00:00.000000000",
          "1998-02-01T00:00:00.000000000",
          "1998-03-01T00:00:00.000000000",
          "1998-04-01T00:00:00.000000000",
          "1998-05-01T00:00:00.000000000",
          "1998-06-01T00:00:00.000000000",
          "1998-07-01T00:00:00.000000000",
          "1998-08-01T00:00:00.000000000",
          "1998-09-01T00:00:00.000000000",
          "1998-10-01T00:00:00.000000000",
          "1998-11-01T00:00:00.000000000",
          "1998-12-01T00:00:00.000000000",
          "1999-01-01T00:00:00.000000000",
          "1999-02-01T00:00:00.000000000",
          "1999-03-01T00:00:00.000000000",
          "1999-04-01T00:00:00.000000000",
          "1999-05-01T00:00:00.000000000",
          "1999-06-01T00:00:00.000000000",
          "1999-07-01T00:00:00.000000000",
          "1999-08-01T00:00:00.000000000",
          "1999-09-01T00:00:00.000000000",
          "1999-10-01T00:00:00.000000000",
          "1999-11-01T00:00:00.000000000",
          "1999-12-01T00:00:00.000000000",
          "2000-01-01T00:00:00.000000000",
          "2000-02-01T00:00:00.000000000",
          "2000-03-01T00:00:00.000000000",
          "2000-04-01T00:00:00.000000000",
          "2000-05-01T00:00:00.000000000",
          "2000-06-01T00:00:00.000000000",
          "2000-07-01T00:00:00.000000000",
          "2000-08-01T00:00:00.000000000",
          "2000-09-01T00:00:00.000000000",
          "2000-10-01T00:00:00.000000000",
          "2000-11-01T00:00:00.000000000",
          "2000-12-01T00:00:00.000000000",
          "2001-01-01T00:00:00.000000000",
          "2001-02-01T00:00:00.000000000",
          "2001-03-01T00:00:00.000000000",
          "2001-04-01T00:00:00.000000000",
          "2001-05-01T00:00:00.000000000",
          "2001-06-01T00:00:00.000000000",
          "2001-07-01T00:00:00.000000000",
          "2001-08-01T00:00:00.000000000",
          "2001-09-01T00:00:00.000000000",
          "2001-10-01T00:00:00.000000000",
          "2001-11-01T00:00:00.000000000",
          "2001-12-01T00:00:00.000000000",
          "2002-01-01T00:00:00.000000000",
          "2002-02-01T00:00:00.000000000",
          "2002-03-01T00:00:00.000000000",
          "2002-04-01T00:00:00.000000000",
          "2002-05-01T00:00:00.000000000",
          "2002-06-01T00:00:00.000000000",
          "2002-07-01T00:00:00.000000000",
          "2002-08-01T00:00:00.000000000",
          "2002-09-01T00:00:00.000000000",
          "2002-10-01T00:00:00.000000000",
          "2002-11-01T00:00:00.000000000",
          "2002-12-01T00:00:00.000000000",
          "2003-01-01T00:00:00.000000000",
          "2003-02-01T00:00:00.000000000",
          "2003-03-01T00:00:00.000000000",
          "2003-04-01T00:00:00.000000000",
          "2003-05-01T00:00:00.000000000",
          "2003-06-01T00:00:00.000000000",
          "2003-07-01T00:00:00.000000000",
          "2003-08-01T00:00:00.000000000",
          "2003-09-01T00:00:00.000000000",
          "2003-10-01T00:00:00.000000000",
          "2003-11-01T00:00:00.000000000",
          "2003-12-01T00:00:00.000000000",
          "2004-01-01T00:00:00.000000000",
          "2004-02-01T00:00:00.000000000",
          "2004-03-01T00:00:00.000000000",
          "2004-04-01T00:00:00.000000000",
          "2004-05-01T00:00:00.000000000",
          "2004-06-01T00:00:00.000000000",
          "2004-07-01T00:00:00.000000000",
          "2004-08-01T00:00:00.000000000",
          "2004-09-01T00:00:00.000000000",
          "2004-10-01T00:00:00.000000000",
          "2004-11-01T00:00:00.000000000",
          "2004-12-01T00:00:00.000000000",
          "2005-01-01T00:00:00.000000000",
          "2005-02-01T00:00:00.000000000",
          "2005-03-01T00:00:00.000000000",
          "2005-04-01T00:00:00.000000000",
          "2005-05-01T00:00:00.000000000",
          "2005-06-01T00:00:00.000000000",
          "2005-07-01T00:00:00.000000000",
          "2005-08-01T00:00:00.000000000",
          "2005-09-01T00:00:00.000000000",
          "2005-10-01T00:00:00.000000000",
          "2005-11-01T00:00:00.000000000",
          "2005-12-01T00:00:00.000000000",
          "2006-01-01T00:00:00.000000000",
          "2006-02-01T00:00:00.000000000",
          "2006-03-01T00:00:00.000000000",
          "2006-04-01T00:00:00.000000000",
          "2006-05-01T00:00:00.000000000",
          "2006-06-01T00:00:00.000000000",
          "2006-07-01T00:00:00.000000000",
          "2006-08-01T00:00:00.000000000",
          "2006-09-01T00:00:00.000000000",
          "2006-10-01T00:00:00.000000000",
          "2006-11-01T00:00:00.000000000",
          "2006-12-01T00:00:00.000000000",
          "2007-01-01T00:00:00.000000000",
          "2007-02-01T00:00:00.000000000",
          "2007-03-01T00:00:00.000000000",
          "2007-04-01T00:00:00.000000000",
          "2007-05-01T00:00:00.000000000",
          "2007-06-01T00:00:00.000000000",
          "2007-07-01T00:00:00.000000000",
          "2007-08-01T00:00:00.000000000",
          "2007-09-01T00:00:00.000000000",
          "2007-10-01T00:00:00.000000000",
          "2007-11-01T00:00:00.000000000",
          "2007-12-01T00:00:00.000000000",
          "2008-01-01T00:00:00.000000000",
          "2008-02-01T00:00:00.000000000",
          "2008-03-01T00:00:00.000000000",
          "2008-04-01T00:00:00.000000000",
          "2008-05-01T00:00:00.000000000",
          "2008-06-01T00:00:00.000000000",
          "2008-07-01T00:00:00.000000000",
          "2008-08-01T00:00:00.000000000",
          "2008-09-01T00:00:00.000000000",
          "2008-10-01T00:00:00.000000000",
          "2008-11-01T00:00:00.000000000",
          "2008-12-01T00:00:00.000000000",
          "2009-01-01T00:00:00.000000000",
          "2009-02-01T00:00:00.000000000",
          "2009-03-01T00:00:00.000000000",
          "2009-04-01T00:00:00.000000000",
          "2009-05-01T00:00:00.000000000",
          "2009-06-01T00:00:00.000000000",
          "2009-07-01T00:00:00.000000000",
          "2009-08-01T00:00:00.000000000",
          "2009-09-01T00:00:00.000000000",
          "2009-10-01T00:00:00.000000000",
          "2009-11-01T00:00:00.000000000",
          "2009-12-01T00:00:00.000000000",
          "2010-01-01T00:00:00.000000000",
          "2010-02-01T00:00:00.000000000",
          "2010-03-01T00:00:00.000000000",
          "2010-04-01T00:00:00.000000000",
          "2010-05-01T00:00:00.000000000",
          "2010-06-01T00:00:00.000000000",
          "2010-07-01T00:00:00.000000000",
          "2010-08-01T00:00:00.000000000",
          "2010-09-01T00:00:00.000000000",
          "2010-10-01T00:00:00.000000000",
          "2010-11-01T00:00:00.000000000",
          "2010-12-01T00:00:00.000000000",
          "2011-01-01T00:00:00.000000000",
          "2011-02-01T00:00:00.000000000",
          "2011-03-01T00:00:00.000000000",
          "2011-04-01T00:00:00.000000000",
          "2011-05-01T00:00:00.000000000",
          "2011-06-01T00:00:00.000000000",
          "2011-07-01T00:00:00.000000000",
          "2011-08-01T00:00:00.000000000",
          "2011-09-01T00:00:00.000000000",
          "2011-10-01T00:00:00.000000000",
          "2011-11-01T00:00:00.000000000",
          "2011-12-01T00:00:00.000000000",
          "2012-01-01T00:00:00.000000000",
          "2012-02-01T00:00:00.000000000",
          "2012-03-01T00:00:00.000000000",
          "2012-04-01T00:00:00.000000000",
          "2012-05-01T00:00:00.000000000",
          "2012-06-01T00:00:00.000000000",
          "2012-07-01T00:00:00.000000000",
          "2012-08-01T00:00:00.000000000",
          "2012-09-01T00:00:00.000000000",
          "2012-10-01T00:00:00.000000000",
          "2012-11-01T00:00:00.000000000",
          "2012-12-01T00:00:00.000000000",
          "2013-01-01T00:00:00.000000000",
          "2013-02-01T00:00:00.000000000",
          "2013-03-01T00:00:00.000000000",
          "2013-04-01T00:00:00.000000000",
          "2013-05-01T00:00:00.000000000",
          "2013-06-01T00:00:00.000000000",
          "2013-07-01T00:00:00.000000000",
          "2013-08-01T00:00:00.000000000",
          "2013-09-01T00:00:00.000000000",
          "2013-10-01T00:00:00.000000000",
          "2013-11-01T00:00:00.000000000",
          "2013-12-01T00:00:00.000000000",
          "2014-01-01T00:00:00.000000000",
          "2014-02-01T00:00:00.000000000",
          "2014-03-01T00:00:00.000000000",
          "2014-04-01T00:00:00.000000000",
          "2014-05-01T00:00:00.000000000",
          "2014-06-01T00:00:00.000000000",
          "2014-07-01T00:00:00.000000000",
          "2014-08-01T00:00:00.000000000",
          "2014-09-01T00:00:00.000000000",
          "2014-10-01T00:00:00.000000000",
          "2014-11-01T00:00:00.000000000",
          "2014-12-01T00:00:00.000000000",
          "2015-01-01T00:00:00.000000000",
          "2015-02-01T00:00:00.000000000",
          "2015-03-01T00:00:00.000000000",
          "2015-04-01T00:00:00.000000000",
          "2015-05-01T00:00:00.000000000",
          "2015-06-01T00:00:00.000000000",
          "2015-07-01T00:00:00.000000000",
          "2015-08-01T00:00:00.000000000",
          "2015-09-01T00:00:00.000000000",
          "2015-10-01T00:00:00.000000000",
          "2015-11-01T00:00:00.000000000",
          "2015-12-01T00:00:00.000000000",
          "2016-01-01T00:00:00.000000000",
          "2016-02-01T00:00:00.000000000",
          "2016-03-01T00:00:00.000000000",
          "2016-04-01T00:00:00.000000000",
          "2016-05-01T00:00:00.000000000",
          "2016-06-01T00:00:00.000000000",
          "2016-07-01T00:00:00.000000000",
          "2016-08-01T00:00:00.000000000",
          "2016-09-01T00:00:00.000000000",
          "2016-10-01T00:00:00.000000000",
          "2016-11-01T00:00:00.000000000",
          "2016-12-01T00:00:00.000000000",
          "2017-01-01T00:00:00.000000000",
          "2017-02-01T00:00:00.000000000",
          "2017-03-01T00:00:00.000000000",
          "2017-04-01T00:00:00.000000000",
          "2017-05-01T00:00:00.000000000",
          "2017-06-01T00:00:00.000000000",
          "2017-07-01T00:00:00.000000000",
          "2017-08-01T00:00:00.000000000",
          "2017-09-01T00:00:00.000000000",
          "2017-10-01T00:00:00.000000000",
          "2017-11-01T00:00:00.000000000",
          "2017-12-01T00:00:00.000000000",
          "2018-01-01T00:00:00.000000000",
          "2018-02-01T00:00:00.000000000",
          "2018-03-01T00:00:00.000000000",
          "2018-04-01T00:00:00.000000000",
          "2018-05-01T00:00:00.000000000",
          "2018-06-01T00:00:00.000000000",
          "2018-07-01T00:00:00.000000000",
          "2018-08-01T00:00:00.000000000",
          "2018-09-01T00:00:00.000000000",
          "2018-10-01T00:00:00.000000000",
          "2018-11-01T00:00:00.000000000",
          "2018-12-01T00:00:00.000000000",
          "2019-01-01T00:00:00.000000000",
          "2019-02-01T00:00:00.000000000",
          "2019-03-01T00:00:00.000000000",
          "2019-04-01T00:00:00.000000000",
          "2019-05-01T00:00:00.000000000",
          "2019-06-01T00:00:00.000000000",
          "2019-07-01T00:00:00.000000000",
          "2019-08-01T00:00:00.000000000",
          "2019-09-01T00:00:00.000000000",
          "2019-10-01T00:00:00.000000000",
          "2019-11-01T00:00:00.000000000",
          "2019-12-01T00:00:00.000000000",
          "2020-01-01T00:00:00.000000000",
          "2020-02-01T00:00:00.000000000",
          "2020-03-01T00:00:00.000000000",
          "2020-04-01T00:00:00.000000000",
          "2020-05-01T00:00:00.000000000",
          "2020-06-01T00:00:00.000000000",
          "2020-07-01T00:00:00.000000000",
          "2020-08-01T00:00:00.000000000",
          "2020-09-01T00:00:00.000000000",
          "2020-10-01T00:00:00.000000000",
          "2020-11-01T00:00:00.000000000",
          "2020-12-01T00:00:00.000000000",
          "2021-01-01T00:00:00.000000000",
          "2021-02-01T00:00:00.000000000",
          "2021-03-01T00:00:00.000000000",
          "2021-04-01T00:00:00.000000000",
          "2021-05-01T00:00:00.000000000",
          "2021-06-01T00:00:00.000000000",
          "2021-07-01T00:00:00.000000000",
          "2021-08-01T00:00:00.000000000",
          "2021-09-01T00:00:00.000000000",
          "2021-10-01T00:00:00.000000000",
          "2021-11-01T00:00:00.000000000",
          "2021-12-01T00:00:00.000000000",
          "2022-01-01T00:00:00.000000000",
          "2022-02-01T00:00:00.000000000",
          "2022-03-01T00:00:00.000000000",
          "2022-04-01T00:00:00.000000000",
          "2022-05-01T00:00:00.000000000",
          "2022-06-01T00:00:00.000000000",
          "2022-07-01T00:00:00.000000000",
          "2022-08-01T00:00:00.000000000",
          "2022-09-01T00:00:00.000000000",
          "2022-10-01T00:00:00.000000000",
          "2022-11-01T00:00:00.000000000",
          "2022-12-01T00:00:00.000000000",
          "2023-01-01T00:00:00.000000000",
          "2023-02-01T00:00:00.000000000",
          "2023-03-01T00:00:00.000000000",
          "2023-04-01T00:00:00.000000000",
          "2023-05-01T00:00:00.000000000",
          "2023-06-01T00:00:00.000000000",
          "2023-07-01T00:00:00.000000000",
          "2023-08-01T00:00:00.000000000",
          "2023-09-01T00:00:00.000000000",
          "2023-10-01T00:00:00.000000000",
          "2023-11-01T00:00:00.000000000",
          "2023-12-01T00:00:00.000000000",
          "2024-01-01T00:00:00.000000000",
          "2024-02-01T00:00:00.000000000",
          "2024-03-01T00:00:00.000000000",
          "2024-04-01T00:00:00.000000000",
          "2024-05-01T00:00:00.000000000",
          "2024-06-01T00:00:00.000000000",
          "2024-07-01T00:00:00.000000000",
          "2024-08-01T00:00:00.000000000",
          "2024-09-01T00:00:00.000000000",
          "2024-10-01T00:00:00.000000000",
          "2024-11-01T00:00:00.000000000",
          "2024-12-01T00:00:00.000000000",
          "2025-01-01T00:00:00.000000000"
         ],
         "xaxis": "x",
         "y": {
          "bdata": "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",
          "dtype": "f8"
         },
         "yaxis": "y"
        }
       ],
       "layout": {
        "annotations": [
         {
          "align": "left",
          "bgcolor": "rgba(255, 255, 255, 0.8)",
          "bordercolor": "black",
          "borderwidth": 1,
          "font": {
           "size": 10
          },
          "showarrow": false,
          "text": "Source: Trading Economics<br>Original Source: Westpac Banking Corporation, Melbourne Institute<br>Frequency: MS<br>",
          "x": 0,
          "xanchor": "left",
          "xref": "paper",
          "y": -0.2,
          "yanchor": "bottom",
          "yref": "paper"
         }
        ],
        "legend": {
         "orientation": "h",
         "title": {
          "text": ""
         },
         "tracegroupgap": 0,
         "x": 0.5,
         "xanchor": "center",
         "y": -0.2,
         "yanchor": "bottom"
        },
        "margin": {
         "t": 60
        },
        "template": {
         "data": {
          "bar": [
           {
            "error_x": {
             "color": "#2a3f5f"
            },
            "error_y": {
             "color": "#2a3f5f"
            },
            "marker": {
             "line": {
              "color": "#E5ECF6",
              "width": 0.5
             },
             "pattern": {
              "fillmode": "overlay",
              "size": 10,
              "solidity": 0.2
             }
            },
            "type": "bar"
           }
          ],
          "barpolar": [
           {
            "marker": {
             "line": {
              "color": "#E5ECF6",
              "width": 0.5
             },
             "pattern": {
              "fillmode": "overlay",
              "size": 10,
              "solidity": 0.2
             }
            },
            "type": "barpolar"
           }
          ],
          "carpet": [
           {
            "aaxis": {
             "endlinecolor": "#2a3f5f",
             "gridcolor": "white",
             "linecolor": "white",
             "minorgridcolor": "white",
             "startlinecolor": "#2a3f5f"
            },
            "baxis": {
             "endlinecolor": "#2a3f5f",
             "gridcolor": "white",
             "linecolor": "white",
             "minorgridcolor": "white",
             "startlinecolor": "#2a3f5f"
            },
            "type": "carpet"
           }
          ],
          "choropleth": [
           {
            "colorbar": {
             "outlinewidth": 0,
             "ticks": ""
            },
            "type": "choropleth"
           }
          ],
          "contour": [
           {
            "colorbar": {
             "outlinewidth": 0,
             "ticks": ""
            },
            "colorscale": [
             [
              0,
              "#0d0887"
             ],
             [
              0.1111111111111111,
              "#46039f"
             ],
             [
              0.2222222222222222,
              "#7201a8"
             ],
             [
              0.3333333333333333,
              "#9c179e"
             ],
             [
              0.4444444444444444,
              "#bd3786"
             ],
             [
              0.5555555555555556,
              "#d8576b"
             ],
             [
              0.6666666666666666,
              "#ed7953"
             ],
             [
              0.7777777777777778,
              "#fb9f3a"
             ],
             [
              0.8888888888888888,
              "#fdca26"
             ],
             [
              1,
              "#f0f921"
             ]
            ],
            "type": "contour"
           }
          ],
          "contourcarpet": [
           {
            "colorbar": {
             "outlinewidth": 0,
             "ticks": ""
            },
            "type": "contourcarpet"
           }
          ],
          "heatmap": [
           {
            "colorbar": {
             "outlinewidth": 0,
             "ticks": ""
            },
            "colorscale": [
             [
              0,
              "#0d0887"
             ],
             [
              0.1111111111111111,
              "#46039f"
             ],
             [
              0.2222222222222222,
              "#7201a8"
             ],
             [
              0.3333333333333333,
              "#9c179e"
             ],
             [
              0.4444444444444444,
              "#bd3786"
             ],
             [
              0.5555555555555556,
              "#d8576b"
             ],
             [
              0.6666666666666666,
              "#ed7953"
             ],
             [
              0.7777777777777778,
              "#fb9f3a"
             ],
             [
              0.8888888888888888,
              "#fdca26"
             ],
             [
              1,
              "#f0f921"
             ]
            ],
            "type": "heatmap"
           }
          ],
          "histogram": [
           {
            "marker": {
             "pattern": {
              "fillmode": "overlay",
              "size": 10,
              "solidity": 0.2
             }
            },
            "type": "histogram"
           }
          ],
          "histogram2d": [
           {
            "colorbar": {
             "outlinewidth": 0,
             "ticks": ""
            },
            "colorscale": [
             [
              0,
              "#0d0887"
             ],
             [
              0.1111111111111111,
              "#46039f"
             ],
             [
              0.2222222222222222,
              "#7201a8"
             ],
             [
              0.3333333333333333,
              "#9c179e"
             ],
             [
              0.4444444444444444,
              "#bd3786"
             ],
             [
              0.5555555555555556,
              "#d8576b"
             ],
             [
              0.6666666666666666,
              "#ed7953"
             ],
             [
              0.7777777777777778,
              "#fb9f3a"
             ],
             [
              0.8888888888888888,
              "#fdca26"
             ],
             [
              1,
              "#f0f921"
             ]
            ],
            "type": "histogram2d"
           }
          ],
          "histogram2dcontour": [
           {
            "colorbar": {
             "outlinewidth": 0,
             "ticks": ""
            },
            "colorscale": [
             [
              0,
              "#0d0887"
             ],
             [
              0.1111111111111111,
              "#46039f"
             ],
             [
              0.2222222222222222,
              "#7201a8"
             ],
             [
              0.3333333333333333,
              "#9c179e"
             ],
             [
              0.4444444444444444,
              "#bd3786"
             ],
             [
              0.5555555555555556,
              "#d8576b"
             ],
             [
              0.6666666666666666,
              "#ed7953"
             ],
             [
              0.7777777777777778,
              "#fb9f3a"
             ],
             [
              0.8888888888888888,
              "#fdca26"
             ],
             [
              1,
              "#f0f921"
             ]
            ],
            "type": "histogram2dcontour"
           }
          ],
          "mesh3d": [
           {
            "colorbar": {
             "outlinewidth": 0,
             "ticks": ""
            },
            "type": "mesh3d"
           }
          ],
          "parcoords": [
           {
            "line": {
             "colorbar": {
              "outlinewidth": 0,
              "ticks": ""
             }
            },
            "type": "parcoords"
           }
          ],
          "pie": [
           {
            "automargin": true,
            "type": "pie"
           }
          ],
          "scatter": [
           {
            "fillpattern": {
             "fillmode": "overlay",
             "size": 10,
             "solidity": 0.2
            },
            "type": "scatter"
           }
          ],
          "scatter3d": [
           {
            "line": {
             "colorbar": {
              "outlinewidth": 0,
              "ticks": ""
             }
            },
            "marker": {
             "colorbar": {
              "outlinewidth": 0,
              "ticks": ""
             }
            },
            "type": "scatter3d"
           }
          ],
          "scattercarpet": [
           {
            "marker": {
             "colorbar": {
              "outlinewidth": 0,
              "ticks": ""
             }
            },
            "type": "scattercarpet"
           }
          ],
          "scattergeo": [
           {
            "marker": {
             "colorbar": {
              "outlinewidth": 0,
              "ticks": ""
             }
            },
            "type": "scattergeo"
           }
          ],
          "scattergl": [
           {
            "marker": {
             "colorbar": {
              "outlinewidth": 0,
              "ticks": ""
             }
            },
            "type": "scattergl"
           }
          ],
          "scattermap": [
           {
            "marker": {
             "colorbar": {
              "outlinewidth": 0,
              "ticks": ""
             }
            },
            "type": "scattermap"
           }
          ],
          "scattermapbox": [
           {
            "marker": {
             "colorbar": {
              "outlinewidth": 0,
              "ticks": ""
             }
            },
            "type": "scattermapbox"
           }
          ],
          "scatterpolar": [
           {
            "marker": {
             "colorbar": {
              "outlinewidth": 0,
              "ticks": ""
             }
            },
            "type": "scatterpolar"
           }
          ],
          "scatterpolargl": [
           {
            "marker": {
             "colorbar": {
              "outlinewidth": 0,
              "ticks": ""
             }
            },
            "type": "scatterpolargl"
           }
          ],
          "scatterternary": [
           {
            "marker": {
             "colorbar": {
              "outlinewidth": 0,
              "ticks": ""
             }
            },
            "type": "scatterternary"
           }
          ],
          "surface": [
           {
            "colorbar": {
             "outlinewidth": 0,
             "ticks": ""
            },
            "colorscale": [
             [
              0,
              "#0d0887"
             ],
             [
              0.1111111111111111,
              "#46039f"
             ],
             [
              0.2222222222222222,
              "#7201a8"
             ],
             [
              0.3333333333333333,
              "#9c179e"
             ],
             [
              0.4444444444444444,
              "#bd3786"
             ],
             [
              0.5555555555555556,
              "#d8576b"
             ],
             [
              0.6666666666666666,
              "#ed7953"
             ],
             [
              0.7777777777777778,
              "#fb9f3a"
             ],
             [
              0.8888888888888888,
              "#fdca26"
             ],
             [
              1,
              "#f0f921"
             ]
            ],
            "type": "surface"
           }
          ],
          "table": [
           {
            "cells": {
             "fill": {
              "color": "#EBF0F8"
             },
             "line": {
              "color": "white"
             }
            },
            "header": {
             "fill": {
              "color": "#C8D4E3"
             },
             "line": {
              "color": "white"
             }
            },
            "type": "table"
           }
          ]
         },
         "layout": {
          "annotationdefaults": {
           "arrowcolor": "#2a3f5f",
           "arrowhead": 0,
           "arrowwidth": 1
          },
          "autotypenumbers": "strict",
          "coloraxis": {
           "colorbar": {
            "outlinewidth": 0,
            "ticks": ""
           }
          },
          "colorscale": {
           "diverging": [
            [
             0,
             "#8e0152"
            ],
            [
             0.1,
             "#c51b7d"
            ],
            [
             0.2,
             "#de77ae"
            ],
            [
             0.3,
             "#f1b6da"
            ],
            [
             0.4,
             "#fde0ef"
            ],
            [
             0.5,
             "#f7f7f7"
            ],
            [
             0.6,
             "#e6f5d0"
            ],
            [
             0.7,
             "#b8e186"
            ],
            [
             0.8,
             "#7fbc41"
            ],
            [
             0.9,
             "#4d9221"
            ],
            [
             1,
             "#276419"
            ]
           ],
           "sequential": [
            [
             0,
             "#0d0887"
            ],
            [
             0.1111111111111111,
             "#46039f"
            ],
            [
             0.2222222222222222,
             "#7201a8"
            ],
            [
             0.3333333333333333,
             "#9c179e"
            ],
            [
             0.4444444444444444,
             "#bd3786"
            ],
            [
             0.5555555555555556,
             "#d8576b"
            ],
            [
             0.6666666666666666,
             "#ed7953"
            ],
            [
             0.7777777777777778,
             "#fb9f3a"
            ],
            [
             0.8888888888888888,
             "#fdca26"
            ],
            [
             1,
             "#f0f921"
            ]
           ],
           "sequentialminus": [
            [
             0,
             "#0d0887"
            ],
            [
             0.1111111111111111,
             "#46039f"
            ],
            [
             0.2222222222222222,
             "#7201a8"
            ],
            [
             0.3333333333333333,
             "#9c179e"
            ],
            [
             0.4444444444444444,
             "#bd3786"
            ],
            [
             0.5555555555555556,
             "#d8576b"
            ],
            [
             0.6666666666666666,
             "#ed7953"
            ],
            [
             0.7777777777777778,
             "#fb9f3a"
            ],
            [
             0.8888888888888888,
             "#fdca26"
            ],
            [
             1,
             "#f0f921"
            ]
           ]
          },
          "colorway": [
           "#636efa",
           "#EF553B",
           "#00cc96",
           "#ab63fa",
           "#FFA15A",
           "#19d3f3",
           "#FF6692",
           "#B6E880",
           "#FF97FF",
           "#FECB52"
          ],
          "font": {
           "color": "#2a3f5f"
          },
          "geo": {
           "bgcolor": "white",
           "lakecolor": "white",
           "landcolor": "#E5ECF6",
           "showlakes": true,
           "showland": true,
           "subunitcolor": "white"
          },
          "hoverlabel": {
           "align": "left"
          },
          "hovermode": "closest",
          "mapbox": {
           "style": "light"
          },
          "paper_bgcolor": "white",
          "plot_bgcolor": "#E5ECF6",
          "polar": {
           "angularaxis": {
            "gridcolor": "white",
            "linecolor": "white",
            "ticks": ""
           },
           "bgcolor": "#E5ECF6",
           "radialaxis": {
            "gridcolor": "white",
            "linecolor": "white",
            "ticks": ""
           }
          },
          "scene": {
           "xaxis": {
            "backgroundcolor": "#E5ECF6",
            "gridcolor": "white",
            "gridwidth": 2,
            "linecolor": "white",
            "showbackground": true,
            "ticks": "",
            "zerolinecolor": "white"
           },
           "yaxis": {
            "backgroundcolor": "#E5ECF6",
            "gridcolor": "white",
            "gridwidth": 2,
            "linecolor": "white",
            "showbackground": true,
            "ticks": "",
            "zerolinecolor": "white"
           },
           "zaxis": {
            "backgroundcolor": "#E5ECF6",
            "gridcolor": "white",
            "gridwidth": 2,
            "linecolor": "white",
            "showbackground": true,
            "ticks": "",
            "zerolinecolor": "white"
           }
          },
          "shapedefaults": {
           "line": {
            "color": "#2a3f5f"
           }
          },
          "ternary": {
           "aaxis": {
            "gridcolor": "white",
            "linecolor": "white",
            "ticks": ""
           },
           "baxis": {
            "gridcolor": "white",
            "linecolor": "white",
            "ticks": ""
           },
           "bgcolor": "#E5ECF6",
           "caxis": {
            "gridcolor": "white",
            "linecolor": "white",
            "ticks": ""
           }
          },
          "title": {
           "x": 0.05
          },
          "xaxis": {
           "automargin": true,
           "gridcolor": "white",
           "linecolor": "white",
           "ticks": "",
           "title": {
            "standoff": 15
           },
           "zerolinecolor": "white",
           "zerolinewidth": 2
          },
          "yaxis": {
           "automargin": true,
           "gridcolor": "white",
           "linecolor": "white",
           "ticks": "",
           "title": {
            "standoff": 15
           },
           "zerolinecolor": "white",
           "zerolinewidth": 2
          }
         }
        },
        "title": {
         "text": "Australia: Australia consumer confidence"
        },
        "xaxis": {
         "anchor": "y",
         "domain": [
          0,
          1
         ],
         "title": {
          "text": ""
         }
        },
        "yaxis": {
         "anchor": "x",
         "domain": [
          0,
          1
         ],
         "title": {
          "text": "Points"
         }
        }
       }
      }
     },
     "metadata": {},
     "output_type": "display_data"
    }
   ],
   "source": [
    "scraped.plot_series()   #Plotting the series"
   ]
  },
  {
   "cell_type": "markdown",
   "metadata": {},
   "source": [
    "# Method #3: Debug method - manually run through the steps.\n",
    "\n",
    "If you get an error on trying load_page method, something like the examples below: \n",
    "- Error loading page: Message: Failed to decode response from marionette\n",
    "- Error loading page: Message: Tried to run command without establishing a connection\n",
    "\n",
    "You need to start a new webdriver instance. Reinitilize your TE_Scraper object and set: ```use_existing_driver = False```"
   ]
  },
  {
   "cell_type": "code",
   "execution_count": 17,
   "metadata": {},
   "outputs": [
    {
     "name": "stderr",
     "output_type": "stream",
     "text": [
      "INFO - Quitting 1 active webdriver instances...\n"
     ]
    },
    {
     "data": {
      "text/plain": [
       "[]"
      ]
     },
     "execution_count": 17,
     "metadata": {},
     "output_type": "execute_result"
    }
   ],
   "source": [
    "from tedata import base\n",
    "base.find_active_drivers(quit_all=True)"
   ]
  },
  {
   "cell_type": "code",
   "execution_count": 3,
   "metadata": {},
   "outputs": [
    {
     "name": "stderr",
     "output_type": "stream",
     "text": [
      "INFO - New firefox webdriver created.\n"
     ]
    }
   ],
   "source": [
    "scr = ted.TE_Scraper(use_existing_driver = False, headless = False)  ## Initialize a new TE_scraper object."
   ]
  },
  {
   "cell_type": "code",
   "execution_count": 10,
   "metadata": {},
   "outputs": [
    {
     "name": "stderr",
     "output_type": "stream",
     "text": [
      "INFO - Chart types dictionary created successfully: dict_keys(['Column', 'Spline', 'Areaspline', 'Stepline', 'Line', 'Area'])\n",
      "INFO - Date span set to: 5Y\n"
     ]
    },
    {
     "data": {
      "text/plain": [
       "True"
      ]
     },
     "execution_count": 10,
     "metadata": {},
     "output_type": "execute_result"
    }
   ],
   "source": [
    "scr.load_page('https://tradingeconomics.com/australia/gdp-per-capita-ppp') ## Load a new page containing chart."
   ]
  },
  {
   "cell_type": "code",
   "execution_count": 14,
   "metadata": {},
   "outputs": [
    {
     "name": "stderr",
     "output_type": "stream",
     "text": [
      "INFO - \n",
      "Series metadata: \n",
      " {'units': 'USD', 'original_source': 'World Bank', 'title': 'Australia GDP per capita PPP', 'indicator': 'gdp per capita ppp', 'country': 'australia', 'source': 'Trading Economics', 'id': 'australia/gdp-per-capita-ppp'}\n"
     ]
    }
   ],
   "source": [
    "scr.scrape_metadata() ## Scrape the metadata for the data series from the page."
   ]
  },
  {
   "cell_type": "code",
   "execution_count": 16,
   "metadata": {},
   "outputs": [
    {
     "name": "stdout",
     "output_type": "stream",
     "text": [
      "Using selenium and tooltip scraping to construct the date time index for the time-series, this'll take a bit...\n"
     ]
    },
    {
     "name": "stderr",
     "output_type": "stream",
     "text": [
      "INFO - Date span set to: 5Y\n",
      "INFO - Chart type set to: Spline\n"
     ]
    },
    {
     "name": "stdout",
     "output_type": "stream",
     "text": [
      "Latest dates:  ['2024', '2023', '2022', '2021', '2020', '2019']\n",
      "Frequency of time-series:  YS-JAN\n",
      "get_xlims_from_tooltips method: date_span:  5Y , chart_type: splineChart\n"
     ]
    },
    {
     "name": "stderr",
     "output_type": "stream",
     "text": [
      "INFO - Chart type set to: Spline\n"
     ]
    },
    {
     "name": "stdout",
     "output_type": "stream",
     "text": [
      "Got chart dimensions and plot background element.\n"
     ]
    },
    {
     "name": "stderr",
     "output_type": "stream",
     "text": [
      "INFO - Start and end values scraped from tooltips: \n",
      "{'start_date': Timestamp('1991-01-01 00:00:00'), 'start_value': 35600.0, 'end_date': Timestamp('2024-01-01 00:00:00'), 'end_value': 61100.0}\n",
      "INFO - DateTimeIndex created successfully for the time-series.\n"
     ]
    },
    {
     "data": {
      "text/plain": [
       "DatetimeIndex(['1991-01-01', '1992-01-01', '1993-01-01', '1994-01-01',\n",
       "               '1995-01-01', '1996-01-01', '1997-01-01', '1998-01-01',\n",
       "               '1999-01-01', '2000-01-01', '2001-01-01', '2002-01-01',\n",
       "               '2003-01-01', '2004-01-01', '2005-01-01', '2006-01-01',\n",
       "               '2007-01-01', '2008-01-01', '2009-01-01', '2010-01-01',\n",
       "               '2011-01-01', '2012-01-01', '2013-01-01', '2014-01-01',\n",
       "               '2015-01-01', '2016-01-01', '2017-01-01', '2018-01-01',\n",
       "               '2019-01-01', '2020-01-01', '2021-01-01', '2022-01-01',\n",
       "               '2023-01-01', '2024-01-01'],\n",
       "              dtype='datetime64[ns]', freq='YS-JAN')"
      ]
     },
     "execution_count": 16,
     "metadata": {},
     "output_type": "execute_result"
    }
   ],
   "source": [
    "scr.make_x_index(force_rerun_freqdet=True, force_rerun_xlims=True) ## Create the x_index for the series first."
   ]
  },
  {
   "cell_type": "code",
   "execution_count": 12,
   "metadata": {},
   "outputs": [
    {
     "name": "stderr",
     "output_type": "stream",
     "text": [
      "INFO - Y-axis values scraped successfully.\n"
     ]
    },
    {
     "data": {
      "text/plain": [
       "pixheight\n",
       "39.5     24.0\n",
       "77.5     25.0\n",
       "114.5    26.0\n",
       "151.5    27.0\n",
       "188.5    28.0\n",
       "224.5    29.0\n",
       "261.5    30.0\n",
       "298.5    31.0\n",
       "335.5    32.0\n",
       "Name: ytick_label, dtype: float64"
      ]
     },
     "execution_count": 12,
     "metadata": {},
     "output_type": "execute_result"
    }
   ],
   "source": [
    "scr.get_y_axis(set_global_y_axis=True)   ## Get the y-axis tick positions (pixel co-ordinates) and values, will set the global y-axis attribute since date_span is set to MAX."
   ]
  },
  {
   "cell_type": "code",
   "execution_count": 13,
   "metadata": {},
   "outputs": [
    {
     "name": "stderr",
     "output_type": "stream",
     "text": [
      "INFO - Series path extraction method: Extracting series data from chart soup.\n",
      "INFO - Date span: MAX. Chart type: splineChart, URL: https://tradingeconomics.com/australia/government-spending-to-gdp.\n"
     ]
    },
    {
     "data": {
      "text/plain": [
       "0.000000       64.468750\n",
       "0.000000       64.468750\n",
       "7.659004       66.315022\n",
       "12.765007      68.156250\n",
       "17.884998      70.002522\n",
       "                 ...    \n",
       "659.128991    184.312500\n",
       "664.234993    184.312500\n",
       "669.340996    184.312500\n",
       "677.000000    215.656250\n",
       "677.000000    215.656250\n",
       "Name: Extracted Series, Length: 160, dtype: float64"
      ]
     },
     "execution_count": 13,
     "metadata": {},
     "output_type": "execute_result"
    }
   ],
   "source": [
    "scr.series_from_chart_soup(set_max_datespan=True) ## Get the full series from the path element of the data trace on the svg chart.\n",
    "scr.series"
   ]
  },
  {
   "cell_type": "code",
   "execution_count": 14,
   "metadata": {},
   "outputs": [
    {
     "name": "stderr",
     "output_type": "stream",
     "text": [
      "INFO - DateTimeIndex applied to series, series attribute updated.\n"
     ]
    }
   ],
   "source": [
    "scr.apply_x_index()  ## Apply the x-axis index to the series."
   ]
  },
  {
   "cell_type": "code",
   "execution_count": 15,
   "metadata": {},
   "outputs": [
    {
     "data": {
      "text/plain": [
       "1971-01-01     64.468750\n",
       "1972-01-01     68.156250\n",
       "1973-01-01     73.687500\n",
       "1974-01-01     66.312500\n",
       "1975-01-01    148.912500\n",
       "1976-01-01    175.093750\n",
       "1977-01-01    171.406250\n",
       "1978-01-01    184.312500\n",
       "1979-01-01    161.081250\n",
       "1980-01-01    160.343750\n",
       "1981-01-01    164.031250\n",
       "1982-01-01    158.500000\n",
       "1983-01-01    214.918750\n",
       "1984-01-01    219.343750\n",
       "1985-01-01    234.093750\n",
       "1986-01-01    228.193750\n",
       "1987-01-01    215.656250\n",
       "1988-01-01    193.531250\n",
       "1989-01-01    149.281250\n",
       "1990-01-01    149.281250\n",
       "1991-01-01    183.206250\n",
       "1992-01-01    199.062500\n",
       "1993-01-01    208.281250\n",
       "1994-01-01    208.281250\n",
       "1995-01-01    199.062500\n",
       "1996-01-01    199.062500\n",
       "1997-01-01    183.583576\n",
       "1998-01-01    165.875000\n",
       "1999-01-01    164.031250\n",
       "2000-01-01    152.968750\n",
       "2001-01-01    189.843750\n",
       "2002-01-01    186.156250\n",
       "2003-01-01    178.043750\n",
       "2004-01-01    175.093750\n",
       "2005-01-01    169.562500\n",
       "2006-01-01    169.562500\n",
       "2007-01-01    153.337500\n",
       "2008-01-01    152.968750\n",
       "2009-01-01    199.786380\n",
       "2010-01-01    202.750000\n",
       "2011-01-01    176.937500\n",
       "2012-01-01    182.468750\n",
       "2013-01-01    167.718750\n",
       "2014-01-01    195.375000\n",
       "2015-01-01    195.375000\n",
       "2016-01-01    197.218750\n",
       "2017-01-01    184.685790\n",
       "2018-01-01    180.625000\n",
       "2019-01-01    180.625000\n",
       "2020-01-01    239.625000\n",
       "2021-01-01    306.000000\n",
       "2022-01-01    195.006250\n",
       "2023-01-01    184.312500\n",
       "2024-01-01    215.656250\n",
       "Freq: YS-JAN, Name: government spending to gdp, dtype: float64"
      ]
     },
     "execution_count": 15,
     "metadata": {},
     "output_type": "execute_result"
    }
   ],
   "source": [
    "scr.series"
   ]
  },
  {
   "cell_type": "markdown",
   "metadata": {},
   "source": [
    "At this point the value in the data-series are still the pixel co-ordinates in the svg image of the chart."
   ]
  },
  {
   "cell_type": "code",
   "execution_count": 16,
   "metadata": {},
   "outputs": [
    {
     "data": {
      "application/vnd.plotly.v1+json": {
       "config": {
        "plotlyServerURL": "https://plot.ly"
       },
       "data": [
        {
         "hovertemplate": "variable=government spending to gdp<br>index=%{x}<br>value=%{y}<extra></extra>",
         "legendgroup": "government spending to gdp",
         "line": {
          "color": "#636efa",
          "dash": "solid"
         },
         "marker": {
          "symbol": "circle"
         },
         "mode": "lines",
         "name": "government spending to gdp",
         "orientation": "v",
         "showlegend": true,
         "type": "scatter",
         "x": [
          "1971-01-01T00:00:00.000000000",
          "1972-01-01T00:00:00.000000000",
          "1973-01-01T00:00:00.000000000",
          "1974-01-01T00:00:00.000000000",
          "1975-01-01T00:00:00.000000000",
          "1976-01-01T00:00:00.000000000",
          "1977-01-01T00:00:00.000000000",
          "1978-01-01T00:00:00.000000000",
          "1979-01-01T00:00:00.000000000",
          "1980-01-01T00:00:00.000000000",
          "1981-01-01T00:00:00.000000000",
          "1982-01-01T00:00:00.000000000",
          "1983-01-01T00:00:00.000000000",
          "1984-01-01T00:00:00.000000000",
          "1985-01-01T00:00:00.000000000",
          "1986-01-01T00:00:00.000000000",
          "1987-01-01T00:00:00.000000000",
          "1988-01-01T00:00:00.000000000",
          "1989-01-01T00:00:00.000000000",
          "1990-01-01T00:00:00.000000000",
          "1991-01-01T00:00:00.000000000",
          "1992-01-01T00:00:00.000000000",
          "1993-01-01T00:00:00.000000000",
          "1994-01-01T00:00:00.000000000",
          "1995-01-01T00:00:00.000000000",
          "1996-01-01T00:00:00.000000000",
          "1997-01-01T00:00:00.000000000",
          "1998-01-01T00:00:00.000000000",
          "1999-01-01T00:00:00.000000000",
          "2000-01-01T00:00:00.000000000",
          "2001-01-01T00:00:00.000000000",
          "2002-01-01T00:00:00.000000000",
          "2003-01-01T00:00:00.000000000",
          "2004-01-01T00:00:00.000000000",
          "2005-01-01T00:00:00.000000000",
          "2006-01-01T00:00:00.000000000",
          "2007-01-01T00:00:00.000000000",
          "2008-01-01T00:00:00.000000000",
          "2009-01-01T00:00:00.000000000",
          "2010-01-01T00:00:00.000000000",
          "2011-01-01T00:00:00.000000000",
          "2012-01-01T00:00:00.000000000",
          "2013-01-01T00:00:00.000000000",
          "2014-01-01T00:00:00.000000000",
          "2015-01-01T00:00:00.000000000",
          "2016-01-01T00:00:00.000000000",
          "2017-01-01T00:00:00.000000000",
          "2018-01-01T00:00:00.000000000",
          "2019-01-01T00:00:00.000000000",
          "2020-01-01T00:00:00.000000000",
          "2021-01-01T00:00:00.000000000",
          "2022-01-01T00:00:00.000000000",
          "2023-01-01T00:00:00.000000000",
          "2024-01-01T00:00:00.000000000"
         ],
         "xaxis": "x",
         "y": {
          "bdata": "AAAAAAAeUEAAAAAAAApRQAAAAAAAbFJAAAAAAACUUEAUMzMzM51iQAAAAAAA42VAAAAAAABtZUAAAAAAAApnQLSZmZmZImRAAAAAAAALZEAAAAAAAIFkQAAAAAAA0GNAZmZmZmbdakAAAAAAAGtrQAAAAAAAQ21AMzMzMzOGbEAAAAAAAPVqQAAAAAAAMWhAAAAAAACpYkAAAAAAAKliQJiZmZmZ5mZAAAAAAADiaEAAAAAAAAlqQAAAAAAACWpAAAAAAADiaEAAAAAAAOJoQIGasqas8mZAAAAAAAC8ZEAAAAAAAIFkQAAAAAAAH2NAAAAAAAC7Z0AAAAAAAEVnQGdmZmZmQWZAAAAAAADjZUAAAAAAADJlQAAAAAAAMmVAzczMzMwqY0AAAAAAAB9jQMm+TQYq+WhAAAAAAABYaUAAAAAAAB5mQAAAAAAAz2ZAAAAAAAD3ZEAAAAAAAGxoQAAAAAAAbGhAAAAAAACnaEC8Feb98RVnQAAAAAAAlGZAAAAAAACUZkAAAAAAAPRtQAAAAAAAIHNANDMzMzNgaEAAAAAAAApnQAAAAAAA9WpA",
          "dtype": "f8"
         },
         "yaxis": "y"
        }
       ],
       "layout": {
        "annotations": [
         {
          "align": "left",
          "bgcolor": "rgba(255, 255, 255, 0.8)",
          "bordercolor": "black",
          "borderwidth": 1,
          "font": {
           "size": 10
          },
          "showarrow": false,
          "text": "Source: Trading Economics<br>Original Source: Australian Government<br>Frequency: YS-JAN<br>",
          "x": 0,
          "xanchor": "left",
          "xref": "paper",
          "y": -0.2,
          "yanchor": "bottom",
          "yref": "paper"
         }
        ],
        "legend": {
         "orientation": "h",
         "title": {
          "text": ""
         },
         "tracegroupgap": 0,
         "x": 0.5,
         "xanchor": "center",
         "y": -0.2,
         "yanchor": "bottom"
        },
        "margin": {
         "t": 60
        },
        "template": {
         "data": {
          "bar": [
           {
            "error_x": {
             "color": "#2a3f5f"
            },
            "error_y": {
             "color": "#2a3f5f"
            },
            "marker": {
             "line": {
              "color": "#E5ECF6",
              "width": 0.5
             },
             "pattern": {
              "fillmode": "overlay",
              "size": 10,
              "solidity": 0.2
             }
            },
            "type": "bar"
           }
          ],
          "barpolar": [
           {
            "marker": {
             "line": {
              "color": "#E5ECF6",
              "width": 0.5
             },
             "pattern": {
              "fillmode": "overlay",
              "size": 10,
              "solidity": 0.2
             }
            },
            "type": "barpolar"
           }
          ],
          "carpet": [
           {
            "aaxis": {
             "endlinecolor": "#2a3f5f",
             "gridcolor": "white",
             "linecolor": "white",
             "minorgridcolor": "white",
             "startlinecolor": "#2a3f5f"
            },
            "baxis": {
             "endlinecolor": "#2a3f5f",
             "gridcolor": "white",
             "linecolor": "white",
             "minorgridcolor": "white",
             "startlinecolor": "#2a3f5f"
            },
            "type": "carpet"
           }
          ],
          "choropleth": [
           {
            "colorbar": {
             "outlinewidth": 0,
             "ticks": ""
            },
            "type": "choropleth"
           }
          ],
          "contour": [
           {
            "colorbar": {
             "outlinewidth": 0,
             "ticks": ""
            },
            "colorscale": [
             [
              0,
              "#0d0887"
             ],
             [
              0.1111111111111111,
              "#46039f"
             ],
             [
              0.2222222222222222,
              "#7201a8"
             ],
             [
              0.3333333333333333,
              "#9c179e"
             ],
             [
              0.4444444444444444,
              "#bd3786"
             ],
             [
              0.5555555555555556,
              "#d8576b"
             ],
             [
              0.6666666666666666,
              "#ed7953"
             ],
             [
              0.7777777777777778,
              "#fb9f3a"
             ],
             [
              0.8888888888888888,
              "#fdca26"
             ],
             [
              1,
              "#f0f921"
             ]
            ],
            "type": "contour"
           }
          ],
          "contourcarpet": [
           {
            "colorbar": {
             "outlinewidth": 0,
             "ticks": ""
            },
            "type": "contourcarpet"
           }
          ],
          "heatmap": [
           {
            "colorbar": {
             "outlinewidth": 0,
             "ticks": ""
            },
            "colorscale": [
             [
              0,
              "#0d0887"
             ],
             [
              0.1111111111111111,
              "#46039f"
             ],
             [
              0.2222222222222222,
              "#7201a8"
             ],
             [
              0.3333333333333333,
              "#9c179e"
             ],
             [
              0.4444444444444444,
              "#bd3786"
             ],
             [
              0.5555555555555556,
              "#d8576b"
             ],
             [
              0.6666666666666666,
              "#ed7953"
             ],
             [
              0.7777777777777778,
              "#fb9f3a"
             ],
             [
              0.8888888888888888,
              "#fdca26"
             ],
             [
              1,
              "#f0f921"
             ]
            ],
            "type": "heatmap"
           }
          ],
          "histogram": [
           {
            "marker": {
             "pattern": {
              "fillmode": "overlay",
              "size": 10,
              "solidity": 0.2
             }
            },
            "type": "histogram"
           }
          ],
          "histogram2d": [
           {
            "colorbar": {
             "outlinewidth": 0,
             "ticks": ""
            },
            "colorscale": [
             [
              0,
              "#0d0887"
             ],
             [
              0.1111111111111111,
              "#46039f"
             ],
             [
              0.2222222222222222,
              "#7201a8"
             ],
             [
              0.3333333333333333,
              "#9c179e"
             ],
             [
              0.4444444444444444,
              "#bd3786"
             ],
             [
              0.5555555555555556,
              "#d8576b"
             ],
             [
              0.6666666666666666,
              "#ed7953"
             ],
             [
              0.7777777777777778,
              "#fb9f3a"
             ],
             [
              0.8888888888888888,
              "#fdca26"
             ],
             [
              1,
              "#f0f921"
             ]
            ],
            "type": "histogram2d"
           }
          ],
          "histogram2dcontour": [
           {
            "colorbar": {
             "outlinewidth": 0,
             "ticks": ""
            },
            "colorscale": [
             [
              0,
              "#0d0887"
             ],
             [
              0.1111111111111111,
              "#46039f"
             ],
             [
              0.2222222222222222,
              "#7201a8"
             ],
             [
              0.3333333333333333,
              "#9c179e"
             ],
             [
              0.4444444444444444,
              "#bd3786"
             ],
             [
              0.5555555555555556,
              "#d8576b"
             ],
             [
              0.6666666666666666,
              "#ed7953"
             ],
             [
              0.7777777777777778,
              "#fb9f3a"
             ],
             [
              0.8888888888888888,
              "#fdca26"
             ],
             [
              1,
              "#f0f921"
             ]
            ],
            "type": "histogram2dcontour"
           }
          ],
          "mesh3d": [
           {
            "colorbar": {
             "outlinewidth": 0,
             "ticks": ""
            },
            "type": "mesh3d"
           }
          ],
          "parcoords": [
           {
            "line": {
             "colorbar": {
              "outlinewidth": 0,
              "ticks": ""
             }
            },
            "type": "parcoords"
           }
          ],
          "pie": [
           {
            "automargin": true,
            "type": "pie"
           }
          ],
          "scatter": [
           {
            "fillpattern": {
             "fillmode": "overlay",
             "size": 10,
             "solidity": 0.2
            },
            "type": "scatter"
           }
          ],
          "scatter3d": [
           {
            "line": {
             "colorbar": {
              "outlinewidth": 0,
              "ticks": ""
             }
            },
            "marker": {
             "colorbar": {
              "outlinewidth": 0,
              "ticks": ""
             }
            },
            "type": "scatter3d"
           }
          ],
          "scattercarpet": [
           {
            "marker": {
             "colorbar": {
              "outlinewidth": 0,
              "ticks": ""
             }
            },
            "type": "scattercarpet"
           }
          ],
          "scattergeo": [
           {
            "marker": {
             "colorbar": {
              "outlinewidth": 0,
              "ticks": ""
             }
            },
            "type": "scattergeo"
           }
          ],
          "scattergl": [
           {
            "marker": {
             "colorbar": {
              "outlinewidth": 0,
              "ticks": ""
             }
            },
            "type": "scattergl"
           }
          ],
          "scattermap": [
           {
            "marker": {
             "colorbar": {
              "outlinewidth": 0,
              "ticks": ""
             }
            },
            "type": "scattermap"
           }
          ],
          "scattermapbox": [
           {
            "marker": {
             "colorbar": {
              "outlinewidth": 0,
              "ticks": ""
             }
            },
            "type": "scattermapbox"
           }
          ],
          "scatterpolar": [
           {
            "marker": {
             "colorbar": {
              "outlinewidth": 0,
              "ticks": ""
             }
            },
            "type": "scatterpolar"
           }
          ],
          "scatterpolargl": [
           {
            "marker": {
             "colorbar": {
              "outlinewidth": 0,
              "ticks": ""
             }
            },
            "type": "scatterpolargl"
           }
          ],
          "scatterternary": [
           {
            "marker": {
             "colorbar": {
              "outlinewidth": 0,
              "ticks": ""
             }
            },
            "type": "scatterternary"
           }
          ],
          "surface": [
           {
            "colorbar": {
             "outlinewidth": 0,
             "ticks": ""
            },
            "colorscale": [
             [
              0,
              "#0d0887"
             ],
             [
              0.1111111111111111,
              "#46039f"
             ],
             [
              0.2222222222222222,
              "#7201a8"
             ],
             [
              0.3333333333333333,
              "#9c179e"
             ],
             [
              0.4444444444444444,
              "#bd3786"
             ],
             [
              0.5555555555555556,
              "#d8576b"
             ],
             [
              0.6666666666666666,
              "#ed7953"
             ],
             [
              0.7777777777777778,
              "#fb9f3a"
             ],
             [
              0.8888888888888888,
              "#fdca26"
             ],
             [
              1,
              "#f0f921"
             ]
            ],
            "type": "surface"
           }
          ],
          "table": [
           {
            "cells": {
             "fill": {
              "color": "#EBF0F8"
             },
             "line": {
              "color": "white"
             }
            },
            "header": {
             "fill": {
              "color": "#C8D4E3"
             },
             "line": {
              "color": "white"
             }
            },
            "type": "table"
           }
          ]
         },
         "layout": {
          "annotationdefaults": {
           "arrowcolor": "#2a3f5f",
           "arrowhead": 0,
           "arrowwidth": 1
          },
          "autotypenumbers": "strict",
          "coloraxis": {
           "colorbar": {
            "outlinewidth": 0,
            "ticks": ""
           }
          },
          "colorscale": {
           "diverging": [
            [
             0,
             "#8e0152"
            ],
            [
             0.1,
             "#c51b7d"
            ],
            [
             0.2,
             "#de77ae"
            ],
            [
             0.3,
             "#f1b6da"
            ],
            [
             0.4,
             "#fde0ef"
            ],
            [
             0.5,
             "#f7f7f7"
            ],
            [
             0.6,
             "#e6f5d0"
            ],
            [
             0.7,
             "#b8e186"
            ],
            [
             0.8,
             "#7fbc41"
            ],
            [
             0.9,
             "#4d9221"
            ],
            [
             1,
             "#276419"
            ]
           ],
           "sequential": [
            [
             0,
             "#0d0887"
            ],
            [
             0.1111111111111111,
             "#46039f"
            ],
            [
             0.2222222222222222,
             "#7201a8"
            ],
            [
             0.3333333333333333,
             "#9c179e"
            ],
            [
             0.4444444444444444,
             "#bd3786"
            ],
            [
             0.5555555555555556,
             "#d8576b"
            ],
            [
             0.6666666666666666,
             "#ed7953"
            ],
            [
             0.7777777777777778,
             "#fb9f3a"
            ],
            [
             0.8888888888888888,
             "#fdca26"
            ],
            [
             1,
             "#f0f921"
            ]
           ],
           "sequentialminus": [
            [
             0,
             "#0d0887"
            ],
            [
             0.1111111111111111,
             "#46039f"
            ],
            [
             0.2222222222222222,
             "#7201a8"
            ],
            [
             0.3333333333333333,
             "#9c179e"
            ],
            [
             0.4444444444444444,
             "#bd3786"
            ],
            [
             0.5555555555555556,
             "#d8576b"
            ],
            [
             0.6666666666666666,
             "#ed7953"
            ],
            [
             0.7777777777777778,
             "#fb9f3a"
            ],
            [
             0.8888888888888888,
             "#fdca26"
            ],
            [
             1,
             "#f0f921"
            ]
           ]
          },
          "colorway": [
           "#636efa",
           "#EF553B",
           "#00cc96",
           "#ab63fa",
           "#FFA15A",
           "#19d3f3",
           "#FF6692",
           "#B6E880",
           "#FF97FF",
           "#FECB52"
          ],
          "font": {
           "color": "#2a3f5f"
          },
          "geo": {
           "bgcolor": "white",
           "lakecolor": "white",
           "landcolor": "#E5ECF6",
           "showlakes": true,
           "showland": true,
           "subunitcolor": "white"
          },
          "hoverlabel": {
           "align": "left"
          },
          "hovermode": "closest",
          "mapbox": {
           "style": "light"
          },
          "paper_bgcolor": "white",
          "plot_bgcolor": "#E5ECF6",
          "polar": {
           "angularaxis": {
            "gridcolor": "white",
            "linecolor": "white",
            "ticks": ""
           },
           "bgcolor": "#E5ECF6",
           "radialaxis": {
            "gridcolor": "white",
            "linecolor": "white",
            "ticks": ""
           }
          },
          "scene": {
           "xaxis": {
            "backgroundcolor": "#E5ECF6",
            "gridcolor": "white",
            "gridwidth": 2,
            "linecolor": "white",
            "showbackground": true,
            "ticks": "",
            "zerolinecolor": "white"
           },
           "yaxis": {
            "backgroundcolor": "#E5ECF6",
            "gridcolor": "white",
            "gridwidth": 2,
            "linecolor": "white",
            "showbackground": true,
            "ticks": "",
            "zerolinecolor": "white"
           },
           "zaxis": {
            "backgroundcolor": "#E5ECF6",
            "gridcolor": "white",
            "gridwidth": 2,
            "linecolor": "white",
            "showbackground": true,
            "ticks": "",
            "zerolinecolor": "white"
           }
          },
          "shapedefaults": {
           "line": {
            "color": "#2a3f5f"
           }
          },
          "ternary": {
           "aaxis": {
            "gridcolor": "white",
            "linecolor": "white",
            "ticks": ""
           },
           "baxis": {
            "gridcolor": "white",
            "linecolor": "white",
            "ticks": ""
           },
           "bgcolor": "#E5ECF6",
           "caxis": {
            "gridcolor": "white",
            "linecolor": "white",
            "ticks": ""
           }
          },
          "title": {
           "x": 0.05
          },
          "xaxis": {
           "automargin": true,
           "gridcolor": "white",
           "linecolor": "white",
           "ticks": "",
           "title": {
            "standoff": 15
           },
           "zerolinecolor": "white",
           "zerolinewidth": 2
          },
          "yaxis": {
           "automargin": true,
           "gridcolor": "white",
           "linecolor": "white",
           "ticks": "",
           "title": {
            "standoff": 15
           },
           "zerolinecolor": "white",
           "zerolinewidth": 2
          }
         }
        },
        "title": {
         "text": "Australia: Australia government spending to gdp"
        },
        "xaxis": {
         "anchor": "y",
         "domain": [
          0,
          1
         ],
         "title": {
          "text": ""
         }
        },
        "yaxis": {
         "anchor": "x",
         "domain": [
          0,
          1
         ],
         "title": {
          "text": "Percent of gdp"
         }
        }
       }
      }
     },
     "metadata": {},
     "output_type": "display_data"
    }
   ],
   "source": [
    "scr.plot_series()  ## Plot the series."
   ]
  },
  {
   "cell_type": "code",
   "execution_count": 17,
   "metadata": {},
   "outputs": [
    {
     "data": {
      "text/plain": [
       "1971-01-01    18.300000\n",
       "1972-01-01    18.400000\n",
       "1973-01-01    18.550000\n",
       "1974-01-01    18.350000\n",
       "1975-01-01    20.590000\n",
       "1976-01-01    21.300000\n",
       "1977-01-01    21.200000\n",
       "1978-01-01    21.550000\n",
       "1979-01-01    20.920000\n",
       "1980-01-01    20.900000\n",
       "1981-01-01    21.000000\n",
       "1982-01-01    20.850000\n",
       "1983-01-01    22.380000\n",
       "1984-01-01    22.500000\n",
       "1985-01-01    22.900000\n",
       "1986-01-01    22.740000\n",
       "1987-01-01    22.400000\n",
       "1988-01-01    21.800000\n",
       "1989-01-01    20.600000\n",
       "1990-01-01    20.600000\n",
       "1991-01-01    21.520000\n",
       "1992-01-01    21.950000\n",
       "1993-01-01    22.200000\n",
       "1994-01-01    22.200000\n",
       "1995-01-01    21.950000\n",
       "1996-01-01    21.950000\n",
       "1997-01-01    21.530233\n",
       "1998-01-01    21.050000\n",
       "1999-01-01    21.000000\n",
       "2000-01-01    20.700000\n",
       "2001-01-01    21.700000\n",
       "2002-01-01    21.600000\n",
       "2003-01-01    21.380000\n",
       "2004-01-01    21.300000\n",
       "2005-01-01    21.150000\n",
       "2006-01-01    21.150000\n",
       "2007-01-01    20.710000\n",
       "2008-01-01    20.700000\n",
       "2009-01-01    21.969631\n",
       "2010-01-01    22.050000\n",
       "2011-01-01    21.350000\n",
       "2012-01-01    21.500000\n",
       "2013-01-01    21.100000\n",
       "2014-01-01    21.850000\n",
       "2015-01-01    21.850000\n",
       "2016-01-01    21.900000\n",
       "2017-01-01    21.560123\n",
       "2018-01-01    21.450000\n",
       "2019-01-01    21.450000\n",
       "2020-01-01    23.050000\n",
       "2021-01-01    24.850000\n",
       "2022-01-01    21.840000\n",
       "2023-01-01    21.550000\n",
       "2024-01-01    22.400000\n",
       "Freq: YS-JAN, Name: government spending to gdp, dtype: float64"
      ]
     },
     "execution_count": 17,
     "metadata": {},
     "output_type": "execute_result"
    }
   ],
   "source": [
    "scr.scale_series() ## Scale the series to the y-axis values to convert the pixel co-ordinates to actual data values."
   ]
  },
  {
   "cell_type": "markdown",
   "metadata": {},
   "source": [
    "The ```scale_series()``` method converts the pixel co-ordinate values to data values."
   ]
  },
  {
   "cell_type": "code",
   "execution_count": 18,
   "metadata": {},
   "outputs": [
    {
     "data": {
      "text/plain": [
       "1971-01-01    18.300000\n",
       "1972-01-01    18.400000\n",
       "1973-01-01    18.550000\n",
       "1974-01-01    18.350000\n",
       "1975-01-01    20.590000\n",
       "1976-01-01    21.300000\n",
       "1977-01-01    21.200000\n",
       "1978-01-01    21.550000\n",
       "1979-01-01    20.920000\n",
       "1980-01-01    20.900000\n",
       "1981-01-01    21.000000\n",
       "1982-01-01    20.850000\n",
       "1983-01-01    22.380000\n",
       "1984-01-01    22.500000\n",
       "1985-01-01    22.900000\n",
       "1986-01-01    22.740000\n",
       "1987-01-01    22.400000\n",
       "1988-01-01    21.800000\n",
       "1989-01-01    20.600000\n",
       "1990-01-01    20.600000\n",
       "1991-01-01    21.520000\n",
       "1992-01-01    21.950000\n",
       "1993-01-01    22.200000\n",
       "1994-01-01    22.200000\n",
       "1995-01-01    21.950000\n",
       "1996-01-01    21.950000\n",
       "1997-01-01    21.530233\n",
       "1998-01-01    21.050000\n",
       "1999-01-01    21.000000\n",
       "2000-01-01    20.700000\n",
       "2001-01-01    21.700000\n",
       "2002-01-01    21.600000\n",
       "2003-01-01    21.380000\n",
       "2004-01-01    21.300000\n",
       "2005-01-01    21.150000\n",
       "2006-01-01    21.150000\n",
       "2007-01-01    20.710000\n",
       "2008-01-01    20.700000\n",
       "2009-01-01    21.969631\n",
       "2010-01-01    22.050000\n",
       "2011-01-01    21.350000\n",
       "2012-01-01    21.500000\n",
       "2013-01-01    21.100000\n",
       "2014-01-01    21.850000\n",
       "2015-01-01    21.850000\n",
       "2016-01-01    21.900000\n",
       "2017-01-01    21.560123\n",
       "2018-01-01    21.450000\n",
       "2019-01-01    21.450000\n",
       "2020-01-01    23.050000\n",
       "2021-01-01    24.850000\n",
       "2022-01-01    21.840000\n",
       "2023-01-01    21.550000\n",
       "2024-01-01    22.400000\n",
       "Freq: YS-JAN, Name: government spending to gdp, dtype: float64"
      ]
     },
     "execution_count": 18,
     "metadata": {},
     "output_type": "execute_result"
    }
   ],
   "source": [
    "scr.series # View the series data obtained."
   ]
  },
  {
   "cell_type": "code",
   "execution_count": 19,
   "metadata": {},
   "outputs": [
    {
     "data": {
      "application/vnd.plotly.v1+json": {
       "config": {
        "plotlyServerURL": "https://plot.ly"
       },
       "data": [
        {
         "hovertemplate": "variable=government spending to gdp<br>index=%{x}<br>value=%{y}<extra></extra>",
         "legendgroup": "government spending to gdp",
         "line": {
          "color": "#636efa",
          "dash": "solid"
         },
         "marker": {
          "symbol": "circle"
         },
         "mode": "lines",
         "name": "government spending to gdp",
         "orientation": "v",
         "showlegend": true,
         "type": "scatter",
         "x": [
          "1971-01-01T00:00:00.000000000",
          "1972-01-01T00:00:00.000000000",
          "1973-01-01T00:00:00.000000000",
          "1974-01-01T00:00:00.000000000",
          "1975-01-01T00:00:00.000000000",
          "1976-01-01T00:00:00.000000000",
          "1977-01-01T00:00:00.000000000",
          "1978-01-01T00:00:00.000000000",
          "1979-01-01T00:00:00.000000000",
          "1980-01-01T00:00:00.000000000",
          "1981-01-01T00:00:00.000000000",
          "1982-01-01T00:00:00.000000000",
          "1983-01-01T00:00:00.000000000",
          "1984-01-01T00:00:00.000000000",
          "1985-01-01T00:00:00.000000000",
          "1986-01-01T00:00:00.000000000",
          "1987-01-01T00:00:00.000000000",
          "1988-01-01T00:00:00.000000000",
          "1989-01-01T00:00:00.000000000",
          "1990-01-01T00:00:00.000000000",
          "1991-01-01T00:00:00.000000000",
          "1992-01-01T00:00:00.000000000",
          "1993-01-01T00:00:00.000000000",
          "1994-01-01T00:00:00.000000000",
          "1995-01-01T00:00:00.000000000",
          "1996-01-01T00:00:00.000000000",
          "1997-01-01T00:00:00.000000000",
          "1998-01-01T00:00:00.000000000",
          "1999-01-01T00:00:00.000000000",
          "2000-01-01T00:00:00.000000000",
          "2001-01-01T00:00:00.000000000",
          "2002-01-01T00:00:00.000000000",
          "2003-01-01T00:00:00.000000000",
          "2004-01-01T00:00:00.000000000",
          "2005-01-01T00:00:00.000000000",
          "2006-01-01T00:00:00.000000000",
          "2007-01-01T00:00:00.000000000",
          "2008-01-01T00:00:00.000000000",
          "2009-01-01T00:00:00.000000000",
          "2010-01-01T00:00:00.000000000",
          "2011-01-01T00:00:00.000000000",
          "2012-01-01T00:00:00.000000000",
          "2013-01-01T00:00:00.000000000",
          "2014-01-01T00:00:00.000000000",
          "2015-01-01T00:00:00.000000000",
          "2016-01-01T00:00:00.000000000",
          "2017-01-01T00:00:00.000000000",
          "2018-01-01T00:00:00.000000000",
          "2019-01-01T00:00:00.000000000",
          "2020-01-01T00:00:00.000000000",
          "2021-01-01T00:00:00.000000000",
          "2022-01-01T00:00:00.000000000",
          "2023-01-01T00:00:00.000000000",
          "2024-01-01T00:00:00.000000000"
         ],
         "xaxis": "x",
         "y": {
          "bdata": "zczMzMxMMkBnZmZmZmYyQM3MzMzMjDJAmpmZmZlZMkDQo3A9Cpc0QM3MzMzMTDVAMzMzMzMzNUDNzMzMzIw1QPFRuB6F6zRAZ2ZmZmbmNEAAAAAAAAA1QJqZmZmZ2TRA4XoUrkdhNkAAAAAAAIA2QGZmZmZm5jZAPgrXo3C9NkBmZmZmZmY2QM3MzMzMzDVAmpmZmZmZNECamZmZmZk0QIXrUbgehTVAMzMzMzPzNUAzMzMzMzM2QDMzMzMzMzZAMzMzMzPzNUAzMzMzM/M1QMV7KFK9hzVAzczMzMwMNUAAAAAAAAA1QDMzMzMzszRAMzMzMzOzNUCamZmZmZk1QOJ6FK5HYTVAzczMzMxMNUBnZmZmZiY1QGdmZmZmJjVA9ihcj8K1NEAzMzMzM7M0QMSwvLY5+DVAzczMzMwMNkCamZmZmVk1QAAAAAAAgDVAmpmZmZkZNUCamZmZmdk1QJqZmZmZ2TVAZ2ZmZmbmNUA25406ZI81QDMzMzMzczVAMzMzMzNzNUDNzMzMzAw3QJqZmZmZ2ThA16NwPQrXNUDNzMzMzIw1QGZmZmZmZjZA",
          "dtype": "f8"
         },
         "yaxis": "y"
        }
       ],
       "layout": {
        "annotations": [
         {
          "align": "left",
          "bgcolor": "rgba(255, 255, 255, 0.8)",
          "bordercolor": "black",
          "borderwidth": 1,
          "font": {
           "size": 10
          },
          "showarrow": false,
          "text": "Source: Trading Economics<br>Original Source: Australian Government<br>Frequency: YS-JAN<br>",
          "x": 0,
          "xanchor": "left",
          "xref": "paper",
          "y": -0.22,
          "yanchor": "bottom",
          "yref": "paper"
         }
        ],
        "legend": {
         "orientation": "h",
         "title": {
          "text": ""
         },
         "tracegroupgap": 0,
         "x": 0.5,
         "xanchor": "center",
         "y": -0.2,
         "yanchor": "bottom"
        },
        "margin": {
         "t": 60
        },
        "template": {
         "data": {
          "bar": [
           {
            "error_x": {
             "color": "#2a3f5f"
            },
            "error_y": {
             "color": "#2a3f5f"
            },
            "marker": {
             "line": {
              "color": "#E5ECF6",
              "width": 0.5
             },
             "pattern": {
              "fillmode": "overlay",
              "size": 10,
              "solidity": 0.2
             }
            },
            "type": "bar"
           }
          ],
          "barpolar": [
           {
            "marker": {
             "line": {
              "color": "#E5ECF6",
              "width": 0.5
             },
             "pattern": {
              "fillmode": "overlay",
              "size": 10,
              "solidity": 0.2
             }
            },
            "type": "barpolar"
           }
          ],
          "carpet": [
           {
            "aaxis": {
             "endlinecolor": "#2a3f5f",
             "gridcolor": "white",
             "linecolor": "white",
             "minorgridcolor": "white",
             "startlinecolor": "#2a3f5f"
            },
            "baxis": {
             "endlinecolor": "#2a3f5f",
             "gridcolor": "white",
             "linecolor": "white",
             "minorgridcolor": "white",
             "startlinecolor": "#2a3f5f"
            },
            "type": "carpet"
           }
          ],
          "choropleth": [
           {
            "colorbar": {
             "outlinewidth": 0,
             "ticks": ""
            },
            "type": "choropleth"
           }
          ],
          "contour": [
           {
            "colorbar": {
             "outlinewidth": 0,
             "ticks": ""
            },
            "colorscale": [
             [
              0,
              "#0d0887"
             ],
             [
              0.1111111111111111,
              "#46039f"
             ],
             [
              0.2222222222222222,
              "#7201a8"
             ],
             [
              0.3333333333333333,
              "#9c179e"
             ],
             [
              0.4444444444444444,
              "#bd3786"
             ],
             [
              0.5555555555555556,
              "#d8576b"
             ],
             [
              0.6666666666666666,
              "#ed7953"
             ],
             [
              0.7777777777777778,
              "#fb9f3a"
             ],
             [
              0.8888888888888888,
              "#fdca26"
             ],
             [
              1,
              "#f0f921"
             ]
            ],
            "type": "contour"
           }
          ],
          "contourcarpet": [
           {
            "colorbar": {
             "outlinewidth": 0,
             "ticks": ""
            },
            "type": "contourcarpet"
           }
          ],
          "heatmap": [
           {
            "colorbar": {
             "outlinewidth": 0,
             "ticks": ""
            },
            "colorscale": [
             [
              0,
              "#0d0887"
             ],
             [
              0.1111111111111111,
              "#46039f"
             ],
             [
              0.2222222222222222,
              "#7201a8"
             ],
             [
              0.3333333333333333,
              "#9c179e"
             ],
             [
              0.4444444444444444,
              "#bd3786"
             ],
             [
              0.5555555555555556,
              "#d8576b"
             ],
             [
              0.6666666666666666,
              "#ed7953"
             ],
             [
              0.7777777777777778,
              "#fb9f3a"
             ],
             [
              0.8888888888888888,
              "#fdca26"
             ],
             [
              1,
              "#f0f921"
             ]
            ],
            "type": "heatmap"
           }
          ],
          "histogram": [
           {
            "marker": {
             "pattern": {
              "fillmode": "overlay",
              "size": 10,
              "solidity": 0.2
             }
            },
            "type": "histogram"
           }
          ],
          "histogram2d": [
           {
            "colorbar": {
             "outlinewidth": 0,
             "ticks": ""
            },
            "colorscale": [
             [
              0,
              "#0d0887"
             ],
             [
              0.1111111111111111,
              "#46039f"
             ],
             [
              0.2222222222222222,
              "#7201a8"
             ],
             [
              0.3333333333333333,
              "#9c179e"
             ],
             [
              0.4444444444444444,
              "#bd3786"
             ],
             [
              0.5555555555555556,
              "#d8576b"
             ],
             [
              0.6666666666666666,
              "#ed7953"
             ],
             [
              0.7777777777777778,
              "#fb9f3a"
             ],
             [
              0.8888888888888888,
              "#fdca26"
             ],
             [
              1,
              "#f0f921"
             ]
            ],
            "type": "histogram2d"
           }
          ],
          "histogram2dcontour": [
           {
            "colorbar": {
             "outlinewidth": 0,
             "ticks": ""
            },
            "colorscale": [
             [
              0,
              "#0d0887"
             ],
             [
              0.1111111111111111,
              "#46039f"
             ],
             [
              0.2222222222222222,
              "#7201a8"
             ],
             [
              0.3333333333333333,
              "#9c179e"
             ],
             [
              0.4444444444444444,
              "#bd3786"
             ],
             [
              0.5555555555555556,
              "#d8576b"
             ],
             [
              0.6666666666666666,
              "#ed7953"
             ],
             [
              0.7777777777777778,
              "#fb9f3a"
             ],
             [
              0.8888888888888888,
              "#fdca26"
             ],
             [
              1,
              "#f0f921"
             ]
            ],
            "type": "histogram2dcontour"
           }
          ],
          "mesh3d": [
           {
            "colorbar": {
             "outlinewidth": 0,
             "ticks": ""
            },
            "type": "mesh3d"
           }
          ],
          "parcoords": [
           {
            "line": {
             "colorbar": {
              "outlinewidth": 0,
              "ticks": ""
             }
            },
            "type": "parcoords"
           }
          ],
          "pie": [
           {
            "automargin": true,
            "type": "pie"
           }
          ],
          "scatter": [
           {
            "fillpattern": {
             "fillmode": "overlay",
             "size": 10,
             "solidity": 0.2
            },
            "type": "scatter"
           }
          ],
          "scatter3d": [
           {
            "line": {
             "colorbar": {
              "outlinewidth": 0,
              "ticks": ""
             }
            },
            "marker": {
             "colorbar": {
              "outlinewidth": 0,
              "ticks": ""
             }
            },
            "type": "scatter3d"
           }
          ],
          "scattercarpet": [
           {
            "marker": {
             "colorbar": {
              "outlinewidth": 0,
              "ticks": ""
             }
            },
            "type": "scattercarpet"
           }
          ],
          "scattergeo": [
           {
            "marker": {
             "colorbar": {
              "outlinewidth": 0,
              "ticks": ""
             }
            },
            "type": "scattergeo"
           }
          ],
          "scattergl": [
           {
            "marker": {
             "colorbar": {
              "outlinewidth": 0,
              "ticks": ""
             }
            },
            "type": "scattergl"
           }
          ],
          "scattermap": [
           {
            "marker": {
             "colorbar": {
              "outlinewidth": 0,
              "ticks": ""
             }
            },
            "type": "scattermap"
           }
          ],
          "scattermapbox": [
           {
            "marker": {
             "colorbar": {
              "outlinewidth": 0,
              "ticks": ""
             }
            },
            "type": "scattermapbox"
           }
          ],
          "scatterpolar": [
           {
            "marker": {
             "colorbar": {
              "outlinewidth": 0,
              "ticks": ""
             }
            },
            "type": "scatterpolar"
           }
          ],
          "scatterpolargl": [
           {
            "marker": {
             "colorbar": {
              "outlinewidth": 0,
              "ticks": ""
             }
            },
            "type": "scatterpolargl"
           }
          ],
          "scatterternary": [
           {
            "marker": {
             "colorbar": {
              "outlinewidth": 0,
              "ticks": ""
             }
            },
            "type": "scatterternary"
           }
          ],
          "surface": [
           {
            "colorbar": {
             "outlinewidth": 0,
             "ticks": ""
            },
            "colorscale": [
             [
              0,
              "#0d0887"
             ],
             [
              0.1111111111111111,
              "#46039f"
             ],
             [
              0.2222222222222222,
              "#7201a8"
             ],
             [
              0.3333333333333333,
              "#9c179e"
             ],
             [
              0.4444444444444444,
              "#bd3786"
             ],
             [
              0.5555555555555556,
              "#d8576b"
             ],
             [
              0.6666666666666666,
              "#ed7953"
             ],
             [
              0.7777777777777778,
              "#fb9f3a"
             ],
             [
              0.8888888888888888,
              "#fdca26"
             ],
             [
              1,
              "#f0f921"
             ]
            ],
            "type": "surface"
           }
          ],
          "table": [
           {
            "cells": {
             "fill": {
              "color": "#EBF0F8"
             },
             "line": {
              "color": "white"
             }
            },
            "header": {
             "fill": {
              "color": "#C8D4E3"
             },
             "line": {
              "color": "white"
             }
            },
            "type": "table"
           }
          ]
         },
         "layout": {
          "annotationdefaults": {
           "arrowcolor": "#2a3f5f",
           "arrowhead": 0,
           "arrowwidth": 1
          },
          "autotypenumbers": "strict",
          "coloraxis": {
           "colorbar": {
            "outlinewidth": 0,
            "ticks": ""
           }
          },
          "colorscale": {
           "diverging": [
            [
             0,
             "#8e0152"
            ],
            [
             0.1,
             "#c51b7d"
            ],
            [
             0.2,
             "#de77ae"
            ],
            [
             0.3,
             "#f1b6da"
            ],
            [
             0.4,
             "#fde0ef"
            ],
            [
             0.5,
             "#f7f7f7"
            ],
            [
             0.6,
             "#e6f5d0"
            ],
            [
             0.7,
             "#b8e186"
            ],
            [
             0.8,
             "#7fbc41"
            ],
            [
             0.9,
             "#4d9221"
            ],
            [
             1,
             "#276419"
            ]
           ],
           "sequential": [
            [
             0,
             "#0d0887"
            ],
            [
             0.1111111111111111,
             "#46039f"
            ],
            [
             0.2222222222222222,
             "#7201a8"
            ],
            [
             0.3333333333333333,
             "#9c179e"
            ],
            [
             0.4444444444444444,
             "#bd3786"
            ],
            [
             0.5555555555555556,
             "#d8576b"
            ],
            [
             0.6666666666666666,
             "#ed7953"
            ],
            [
             0.7777777777777778,
             "#fb9f3a"
            ],
            [
             0.8888888888888888,
             "#fdca26"
            ],
            [
             1,
             "#f0f921"
            ]
           ],
           "sequentialminus": [
            [
             0,
             "#0d0887"
            ],
            [
             0.1111111111111111,
             "#46039f"
            ],
            [
             0.2222222222222222,
             "#7201a8"
            ],
            [
             0.3333333333333333,
             "#9c179e"
            ],
            [
             0.4444444444444444,
             "#bd3786"
            ],
            [
             0.5555555555555556,
             "#d8576b"
            ],
            [
             0.6666666666666666,
             "#ed7953"
            ],
            [
             0.7777777777777778,
             "#fb9f3a"
            ],
            [
             0.8888888888888888,
             "#fdca26"
            ],
            [
             1,
             "#f0f921"
            ]
           ]
          },
          "colorway": [
           "#636efa",
           "#EF553B",
           "#00cc96",
           "#ab63fa",
           "#FFA15A",
           "#19d3f3",
           "#FF6692",
           "#B6E880",
           "#FF97FF",
           "#FECB52"
          ],
          "font": {
           "color": "#2a3f5f"
          },
          "geo": {
           "bgcolor": "white",
           "lakecolor": "white",
           "landcolor": "#E5ECF6",
           "showlakes": true,
           "showland": true,
           "subunitcolor": "white"
          },
          "hoverlabel": {
           "align": "left"
          },
          "hovermode": "closest",
          "mapbox": {
           "style": "light"
          },
          "paper_bgcolor": "white",
          "plot_bgcolor": "#E5ECF6",
          "polar": {
           "angularaxis": {
            "gridcolor": "white",
            "linecolor": "white",
            "ticks": ""
           },
           "bgcolor": "#E5ECF6",
           "radialaxis": {
            "gridcolor": "white",
            "linecolor": "white",
            "ticks": ""
           }
          },
          "scene": {
           "xaxis": {
            "backgroundcolor": "#E5ECF6",
            "gridcolor": "white",
            "gridwidth": 2,
            "linecolor": "white",
            "showbackground": true,
            "ticks": "",
            "zerolinecolor": "white"
           },
           "yaxis": {
            "backgroundcolor": "#E5ECF6",
            "gridcolor": "white",
            "gridwidth": 2,
            "linecolor": "white",
            "showbackground": true,
            "ticks": "",
            "zerolinecolor": "white"
           },
           "zaxis": {
            "backgroundcolor": "#E5ECF6",
            "gridcolor": "white",
            "gridwidth": 2,
            "linecolor": "white",
            "showbackground": true,
            "ticks": "",
            "zerolinecolor": "white"
           }
          },
          "shapedefaults": {
           "line": {
            "color": "#2a3f5f"
           }
          },
          "ternary": {
           "aaxis": {
            "gridcolor": "white",
            "linecolor": "white",
            "ticks": ""
           },
           "baxis": {
            "gridcolor": "white",
            "linecolor": "white",
            "ticks": ""
           },
           "bgcolor": "#E5ECF6",
           "caxis": {
            "gridcolor": "white",
            "linecolor": "white",
            "ticks": ""
           }
          },
          "title": {
           "x": 0.05
          },
          "xaxis": {
           "automargin": true,
           "gridcolor": "white",
           "linecolor": "white",
           "ticks": "",
           "title": {
            "standoff": 15
           },
           "zerolinecolor": "white",
           "zerolinewidth": 2
          },
          "yaxis": {
           "automargin": true,
           "gridcolor": "white",
           "linecolor": "white",
           "ticks": "",
           "title": {
            "standoff": 15
           },
           "zerolinecolor": "white",
           "zerolinewidth": 2
          }
         }
        },
        "title": {
         "text": "Australia: Australia government spending to gdp"
        },
        "xaxis": {
         "anchor": "y",
         "domain": [
          0,
          1
         ],
         "title": {
          "text": ""
         }
        },
        "yaxis": {
         "anchor": "x",
         "domain": [
          0,
          1
         ],
         "title": {
          "text": "Percent of gdp"
         }
        }
       }
      }
     },
     "metadata": {},
     "output_type": "display_data"
    }
   ],
   "source": [
    "scr.plot_series(ann_box_pos=(0, -0.22))  ## Plot the series."
   ]
  },
  {
   "cell_type": "code",
   "execution_count": null,
   "metadata": {},
   "outputs": [],
   "source": [
    "scr.save_plot(format=\"html\")  ## Save the plot as an interactive html file."
   ]
  },
  {
   "cell_type": "markdown",
   "metadata": {},
   "source": [
    "### Alternative scraping method\n",
    "\n",
    "Added in v0.3.0. Get the whole series from the tooltip values using javascript. This may turn out to be the best way to do it yet I expect it will run into issues for data series with many points."
   ]
  },
  {
   "cell_type": "code",
   "execution_count": 40,
   "metadata": {},
   "outputs": [
    {
     "name": "stderr",
     "output_type": "stream",
     "text": [
      "INFO - Quitting 3 active webdriver instances...\n"
     ]
    },
    {
     "data": {
      "text/plain": [
       "[]"
      ]
     },
     "execution_count": 40,
     "metadata": {},
     "output_type": "execute_result"
    }
   ],
   "source": [
    "from tedata import base\n",
    "base.find_active_drivers(quit_all=True)  ## Quit all active drivers."
   ]
  },
  {
   "cell_type": "code",
   "execution_count": 36,
   "metadata": {},
   "outputs": [
    {
     "name": "stderr",
     "output_type": "stream",
     "text": [
      "INFO - New firefox webdriver created.\n"
     ]
    }
   ],
   "source": [
    "scrap = ted.TE_Scraper(use_existing_driver = False, headless = False)  ## Initialize a new TE_scraper object."
   ]
  },
  {
   "cell_type": "code",
   "execution_count": 41,
   "metadata": {},
   "outputs": [
    {
     "name": "stderr",
     "output_type": "stream",
     "text": [
      "INFO - WebPage at https://tradingeconomics.com/euro-area/consumer-confidence loaded successfully.\n",
      "INFO - Chart types dictionary created successfully: dict_keys(['Column', 'Spline', 'Areaspline', 'Stepline', 'Line', 'Area'])\n"
     ]
    },
    {
     "data": {
      "text/plain": [
       "True"
      ]
     },
     "execution_count": 41,
     "metadata": {},
     "output_type": "execute_result"
    }
   ],
   "source": [
    "scrap.load_page('https://tradingeconomics.com/euro-area/consumer-confidence')"
   ]
  },
  {
   "cell_type": "code",
   "execution_count": 42,
   "metadata": {},
   "outputs": [
    {
     "name": "stderr",
     "output_type": "stream",
     "text": [
      "INFO - \n",
      "Series metadata: \n",
      " {'units': 'points', 'original_source': 'European Commission', 'title': 'Euro Area Consumer Confidence', 'indicator': 'consumer confidence', 'country': 'euro area', 'source': 'Trading Economics', 'id': 'euro-area/consumer-confidence'}\n"
     ]
    },
    {
     "data": {
      "text/plain": [
       "{'units': 'points',\n",
       " 'original_source': 'European Commission',\n",
       " 'title': 'Euro Area Consumer Confidence',\n",
       " 'indicator': 'consumer confidence',\n",
       " 'country': 'euro area',\n",
       " 'source': 'Trading Economics',\n",
       " 'id': 'euro-area/consumer-confidence',\n",
       " 'description': 'In Euro Area, the Consumer Economic Sentiment Indicator measures the level of optimism that consumers have about the economy. The survey is made by phone and covers 23 000 households in the Euro Area. The number of households sample varies across the zone. The questions focus on current economic and financial situation, savings intention as well as on expected developments regarding: consumer price indexes, general economic situation and major purchases of durable goods. The Consumer ESI measures consumer confidence on a scale of -100 to 100, where -100 indicate extreme lack of confidence, 0 neutrality and 100 extreme confidence.'}"
      ]
     },
     "execution_count": 42,
     "metadata": {},
     "output_type": "execute_result"
    }
   ],
   "source": [
    "scrap.scrape_metadata()  ## Scrape the metadata for the data series from the page.\n",
    "scrap.metadata"
   ]
  },
  {
   "cell_type": "markdown",
   "metadata": {},
   "source": [
    "We are using the same ```latest_points_js``` method that is used to get some of the latest data points in order to determine the series frequency. However here we let it keep going and get all of the data points from the date and values that show up on the tooltips as the cursor is dragged across the chart."
   ]
  },
  {
   "cell_type": "code",
   "execution_count": 43,
   "metadata": {},
   "outputs": [
    {
     "name": "stderr",
     "output_type": "stream",
     "text": [
      "INFO - TooltipScraper object initialised successfully.\n"
     ]
    },
    {
     "name": "stdout",
     "output_type": "stream",
     "text": [
      "Setting max date span using calendar...\n"
     ]
    },
    {
     "name": "stderr",
     "output_type": "stream",
     "text": [
      "INFO - Button not found or not clickable: .splineChart .dkLabels-label-btn\n",
      "INFO - Chart type set to: Spline\n",
      "INFO - Chart type set to: Spline\n",
      "INFO - Successfully scraped full series from tooltips.\n"
     ]
    },
    {
     "data": {
      "text/plain": [
       "1985-02-01   -10.9\n",
       "1985-03-01   -11.9\n",
       "1985-04-01   -11.1\n",
       "1985-05-01   -11.5\n",
       "1985-06-01   -11.9\n",
       "              ... \n",
       "2024-08-01   -13.4\n",
       "2024-09-01   -12.9\n",
       "2024-10-01   -12.5\n",
       "2024-11-01   -13.7\n",
       "2024-12-01   -14.5\n",
       "Name: tooltip_data, Length: 479, dtype: float64"
      ]
     },
     "execution_count": 43,
     "metadata": {},
     "output_type": "execute_result"
    }
   ],
   "source": [
    "scrap.full_series_fromTooltips(set_max_datespan=True)  ## Get the full series from the tooltips on the chart.\n",
    "scrap.series"
   ]
  },
  {
   "cell_type": "code",
   "execution_count": 38,
   "metadata": {},
   "outputs": [],
   "source": [
    "scrap.set_max_date_span_viaCalendar()"
   ]
  },
  {
   "cell_type": "code",
   "execution_count": 30,
   "metadata": {},
   "outputs": [
    {
     "data": {
      "text/plain": [
       "True"
      ]
     },
     "execution_count": 30,
     "metadata": {},
     "output_type": "execute_result"
    }
   ],
   "source": [
    "scrap.custom_date_span(start_date=\"1995-01-01\", end_date=\"2020-01-01\")  ## Set a custom date span for the series."
   ]
  },
  {
   "cell_type": "code",
   "execution_count": 28,
   "metadata": {},
   "outputs": [
    {
     "data": {
      "text/plain": [
       "True"
      ]
     },
     "execution_count": 28,
     "metadata": {},
     "output_type": "execute_result"
    }
   ],
   "source": [
    "scrap.click_button(\"#dateInputsToggle\")"
   ]
  },
  {
   "cell_type": "code",
   "execution_count": 63,
   "metadata": {},
   "outputs": [
    {
     "data": {
      "text/plain": [
       "{'units': 'points',\n",
       " 'original_source': 'European Commission',\n",
       " 'title': 'Euro Area Consumer Confidence',\n",
       " 'indicator': 'consumer confidence',\n",
       " 'country': 'euro area',\n",
       " 'source': 'Trading Economics',\n",
       " 'id': 'euro-area/consumer-confidence',\n",
       " 'description': 'In Euro Area, the Consumer Economic Sentiment Indicator measures the level of optimism that consumers have about the economy. The survey is made by phone and covers 23 000 households in the Euro Area. The number of households sample varies across the zone. The questions focus on current economic and financial situation, savings intention as well as on expected developments regarding: consumer price indexes, general economic situation and major purchases of durable goods. The Consumer ESI measures consumer confidence on a scale of -100 to 100, where -100 indicate extreme lack of confidence, 0 neutrality and 100 extreme confidence.',\n",
       " 'start_date': '1985-02-01',\n",
       " 'end_date': '2024-12-01',\n",
       " 'min_value': -28.6,\n",
       " 'max_value': -1.8,\n",
       " 'length': 479,\n",
       " 'frequency': 'MS'}"
      ]
     },
     "execution_count": 63,
     "metadata": {},
     "output_type": "execute_result"
    }
   ],
   "source": [
    "scrap.metadata"
   ]
  },
  {
   "cell_type": "code",
   "execution_count": 64,
   "metadata": {},
   "outputs": [
    {
     "data": {
      "application/vnd.plotly.v1+json": {
       "config": {
        "plotlyServerURL": "https://plot.ly"
       },
       "data": [
        {
         "hovertemplate": "variable=tooltip_data<br>index=%{x}<br>value=%{y}<extra></extra>",
         "legendgroup": "tooltip_data",
         "line": {
          "color": "#636efa",
          "dash": "solid"
         },
         "marker": {
          "symbol": "circle"
         },
         "mode": "lines",
         "name": "tooltip_data",
         "orientation": "v",
         "showlegend": true,
         "type": "scatter",
         "x": [
          "1985-02-01T00:00:00.000000000",
          "1985-03-01T00:00:00.000000000",
          "1985-04-01T00:00:00.000000000",
          "1985-05-01T00:00:00.000000000",
          "1985-06-01T00:00:00.000000000",
          "1985-07-01T00:00:00.000000000",
          "1985-08-01T00:00:00.000000000",
          "1985-09-01T00:00:00.000000000",
          "1985-10-01T00:00:00.000000000",
          "1985-11-01T00:00:00.000000000",
          "1985-12-01T00:00:00.000000000",
          "1986-01-01T00:00:00.000000000",
          "1986-02-01T00:00:00.000000000",
          "1986-03-01T00:00:00.000000000",
          "1986-04-01T00:00:00.000000000",
          "1986-05-01T00:00:00.000000000",
          "1986-06-01T00:00:00.000000000",
          "1986-07-01T00:00:00.000000000",
          "1986-08-01T00:00:00.000000000",
          "1986-09-01T00:00:00.000000000",
          "1986-10-01T00:00:00.000000000",
          "1986-11-01T00:00:00.000000000",
          "1986-12-01T00:00:00.000000000",
          "1987-01-01T00:00:00.000000000",
          "1987-02-01T00:00:00.000000000",
          "1987-03-01T00:00:00.000000000",
          "1987-04-01T00:00:00.000000000",
          "1987-05-01T00:00:00.000000000",
          "1987-06-01T00:00:00.000000000",
          "1987-07-01T00:00:00.000000000",
          "1987-08-01T00:00:00.000000000",
          "1987-09-01T00:00:00.000000000",
          "1987-10-01T00:00:00.000000000",
          "1987-11-01T00:00:00.000000000",
          "1987-12-01T00:00:00.000000000",
          "1988-01-01T00:00:00.000000000",
          "1988-02-01T00:00:00.000000000",
          "1988-03-01T00:00:00.000000000",
          "1988-04-01T00:00:00.000000000",
          "1988-05-01T00:00:00.000000000",
          "1988-06-01T00:00:00.000000000",
          "1988-07-01T00:00:00.000000000",
          "1988-08-01T00:00:00.000000000",
          "1988-09-01T00:00:00.000000000",
          "1988-10-01T00:00:00.000000000",
          "1988-11-01T00:00:00.000000000",
          "1988-12-01T00:00:00.000000000",
          "1989-01-01T00:00:00.000000000",
          "1989-02-01T00:00:00.000000000",
          "1989-03-01T00:00:00.000000000",
          "1989-04-01T00:00:00.000000000",
          "1989-05-01T00:00:00.000000000",
          "1989-06-01T00:00:00.000000000",
          "1989-07-01T00:00:00.000000000",
          "1989-08-01T00:00:00.000000000",
          "1989-09-01T00:00:00.000000000",
          "1989-10-01T00:00:00.000000000",
          "1989-11-01T00:00:00.000000000",
          "1989-12-01T00:00:00.000000000",
          "1990-01-01T00:00:00.000000000",
          "1990-02-01T00:00:00.000000000",
          "1990-03-01T00:00:00.000000000",
          "1990-04-01T00:00:00.000000000",
          "1990-05-01T00:00:00.000000000",
          "1990-06-01T00:00:00.000000000",
          "1990-07-01T00:00:00.000000000",
          "1990-08-01T00:00:00.000000000",
          "1990-09-01T00:00:00.000000000",
          "1990-10-01T00:00:00.000000000",
          "1990-11-01T00:00:00.000000000",
          "1990-12-01T00:00:00.000000000",
          "1991-01-01T00:00:00.000000000",
          "1991-02-01T00:00:00.000000000",
          "1991-03-01T00:00:00.000000000",
          "1991-04-01T00:00:00.000000000",
          "1991-05-01T00:00:00.000000000",
          "1991-06-01T00:00:00.000000000",
          "1991-07-01T00:00:00.000000000",
          "1991-08-01T00:00:00.000000000",
          "1991-09-01T00:00:00.000000000",
          "1991-10-01T00:00:00.000000000",
          "1991-11-01T00:00:00.000000000",
          "1991-12-01T00:00:00.000000000",
          "1992-01-01T00:00:00.000000000",
          "1992-02-01T00:00:00.000000000",
          "1992-03-01T00:00:00.000000000",
          "1992-04-01T00:00:00.000000000",
          "1992-05-01T00:00:00.000000000",
          "1992-06-01T00:00:00.000000000",
          "1992-07-01T00:00:00.000000000",
          "1992-08-01T00:00:00.000000000",
          "1992-09-01T00:00:00.000000000",
          "1992-10-01T00:00:00.000000000",
          "1992-11-01T00:00:00.000000000",
          "1992-12-01T00:00:00.000000000",
          "1993-01-01T00:00:00.000000000",
          "1993-02-01T00:00:00.000000000",
          "1993-03-01T00:00:00.000000000",
          "1993-04-01T00:00:00.000000000",
          "1993-05-01T00:00:00.000000000",
          "1993-06-01T00:00:00.000000000",
          "1993-07-01T00:00:00.000000000",
          "1993-08-01T00:00:00.000000000",
          "1993-09-01T00:00:00.000000000",
          "1993-10-01T00:00:00.000000000",
          "1993-11-01T00:00:00.000000000",
          "1993-12-01T00:00:00.000000000",
          "1994-01-01T00:00:00.000000000",
          "1994-02-01T00:00:00.000000000",
          "1994-03-01T00:00:00.000000000",
          "1994-04-01T00:00:00.000000000",
          "1994-05-01T00:00:00.000000000",
          "1994-06-01T00:00:00.000000000",
          "1994-07-01T00:00:00.000000000",
          "1994-08-01T00:00:00.000000000",
          "1994-09-01T00:00:00.000000000",
          "1994-10-01T00:00:00.000000000",
          "1994-11-01T00:00:00.000000000",
          "1994-12-01T00:00:00.000000000",
          "1995-01-01T00:00:00.000000000",
          "1995-02-01T00:00:00.000000000",
          "1995-03-01T00:00:00.000000000",
          "1995-04-01T00:00:00.000000000",
          "1995-05-01T00:00:00.000000000",
          "1995-06-01T00:00:00.000000000",
          "1995-07-01T00:00:00.000000000",
          "1995-08-01T00:00:00.000000000",
          "1995-09-01T00:00:00.000000000",
          "1995-10-01T00:00:00.000000000",
          "1995-11-01T00:00:00.000000000",
          "1995-12-01T00:00:00.000000000",
          "1996-01-01T00:00:00.000000000",
          "1996-02-01T00:00:00.000000000",
          "1996-03-01T00:00:00.000000000",
          "1996-04-01T00:00:00.000000000",
          "1996-05-01T00:00:00.000000000",
          "1996-06-01T00:00:00.000000000",
          "1996-07-01T00:00:00.000000000",
          "1996-08-01T00:00:00.000000000",
          "1996-09-01T00:00:00.000000000",
          "1996-10-01T00:00:00.000000000",
          "1996-11-01T00:00:00.000000000",
          "1996-12-01T00:00:00.000000000",
          "1997-01-01T00:00:00.000000000",
          "1997-02-01T00:00:00.000000000",
          "1997-03-01T00:00:00.000000000",
          "1997-04-01T00:00:00.000000000",
          "1997-05-01T00:00:00.000000000",
          "1997-06-01T00:00:00.000000000",
          "1997-07-01T00:00:00.000000000",
          "1997-08-01T00:00:00.000000000",
          "1997-09-01T00:00:00.000000000",
          "1997-10-01T00:00:00.000000000",
          "1997-11-01T00:00:00.000000000",
          "1997-12-01T00:00:00.000000000",
          "1998-01-01T00:00:00.000000000",
          "1998-02-01T00:00:00.000000000",
          "1998-03-01T00:00:00.000000000",
          "1998-04-01T00:00:00.000000000",
          "1998-05-01T00:00:00.000000000",
          "1998-06-01T00:00:00.000000000",
          "1998-07-01T00:00:00.000000000",
          "1998-08-01T00:00:00.000000000",
          "1998-09-01T00:00:00.000000000",
          "1998-10-01T00:00:00.000000000",
          "1998-11-01T00:00:00.000000000",
          "1998-12-01T00:00:00.000000000",
          "1999-01-01T00:00:00.000000000",
          "1999-02-01T00:00:00.000000000",
          "1999-03-01T00:00:00.000000000",
          "1999-04-01T00:00:00.000000000",
          "1999-05-01T00:00:00.000000000",
          "1999-06-01T00:00:00.000000000",
          "1999-07-01T00:00:00.000000000",
          "1999-08-01T00:00:00.000000000",
          "1999-09-01T00:00:00.000000000",
          "1999-10-01T00:00:00.000000000",
          "1999-11-01T00:00:00.000000000",
          "1999-12-01T00:00:00.000000000",
          "2000-01-01T00:00:00.000000000",
          "2000-02-01T00:00:00.000000000",
          "2000-03-01T00:00:00.000000000",
          "2000-04-01T00:00:00.000000000",
          "2000-05-01T00:00:00.000000000",
          "2000-06-01T00:00:00.000000000",
          "2000-07-01T00:00:00.000000000",
          "2000-08-01T00:00:00.000000000",
          "2000-09-01T00:00:00.000000000",
          "2000-10-01T00:00:00.000000000",
          "2000-11-01T00:00:00.000000000",
          "2000-12-01T00:00:00.000000000",
          "2001-01-01T00:00:00.000000000",
          "2001-02-01T00:00:00.000000000",
          "2001-03-01T00:00:00.000000000",
          "2001-04-01T00:00:00.000000000",
          "2001-05-01T00:00:00.000000000",
          "2001-06-01T00:00:00.000000000",
          "2001-07-01T00:00:00.000000000",
          "2001-08-01T00:00:00.000000000",
          "2001-09-01T00:00:00.000000000",
          "2001-10-01T00:00:00.000000000",
          "2001-11-01T00:00:00.000000000",
          "2001-12-01T00:00:00.000000000",
          "2002-01-01T00:00:00.000000000",
          "2002-02-01T00:00:00.000000000",
          "2002-03-01T00:00:00.000000000",
          "2002-04-01T00:00:00.000000000",
          "2002-05-01T00:00:00.000000000",
          "2002-06-01T00:00:00.000000000",
          "2002-07-01T00:00:00.000000000",
          "2002-08-01T00:00:00.000000000",
          "2002-09-01T00:00:00.000000000",
          "2002-10-01T00:00:00.000000000",
          "2002-11-01T00:00:00.000000000",
          "2002-12-01T00:00:00.000000000",
          "2003-01-01T00:00:00.000000000",
          "2003-02-01T00:00:00.000000000",
          "2003-03-01T00:00:00.000000000",
          "2003-04-01T00:00:00.000000000",
          "2003-05-01T00:00:00.000000000",
          "2003-06-01T00:00:00.000000000",
          "2003-07-01T00:00:00.000000000",
          "2003-08-01T00:00:00.000000000",
          "2003-09-01T00:00:00.000000000",
          "2003-10-01T00:00:00.000000000",
          "2003-11-01T00:00:00.000000000",
          "2003-12-01T00:00:00.000000000",
          "2004-01-01T00:00:00.000000000",
          "2004-02-01T00:00:00.000000000",
          "2004-03-01T00:00:00.000000000",
          "2004-04-01T00:00:00.000000000",
          "2004-05-01T00:00:00.000000000",
          "2004-06-01T00:00:00.000000000",
          "2004-07-01T00:00:00.000000000",
          "2004-08-01T00:00:00.000000000",
          "2004-09-01T00:00:00.000000000",
          "2004-10-01T00:00:00.000000000",
          "2004-11-01T00:00:00.000000000",
          "2004-12-01T00:00:00.000000000",
          "2005-01-01T00:00:00.000000000",
          "2005-02-01T00:00:00.000000000",
          "2005-03-01T00:00:00.000000000",
          "2005-04-01T00:00:00.000000000",
          "2005-05-01T00:00:00.000000000",
          "2005-06-01T00:00:00.000000000",
          "2005-07-01T00:00:00.000000000",
          "2005-08-01T00:00:00.000000000",
          "2005-09-01T00:00:00.000000000",
          "2005-10-01T00:00:00.000000000",
          "2005-11-01T00:00:00.000000000",
          "2005-12-01T00:00:00.000000000",
          "2006-01-01T00:00:00.000000000",
          "2006-02-01T00:00:00.000000000",
          "2006-03-01T00:00:00.000000000",
          "2006-04-01T00:00:00.000000000",
          "2006-05-01T00:00:00.000000000",
          "2006-06-01T00:00:00.000000000",
          "2006-07-01T00:00:00.000000000",
          "2006-08-01T00:00:00.000000000",
          "2006-09-01T00:00:00.000000000",
          "2006-10-01T00:00:00.000000000",
          "2006-11-01T00:00:00.000000000",
          "2006-12-01T00:00:00.000000000",
          "2007-01-01T00:00:00.000000000",
          "2007-02-01T00:00:00.000000000",
          "2007-03-01T00:00:00.000000000",
          "2007-04-01T00:00:00.000000000",
          "2007-05-01T00:00:00.000000000",
          "2007-06-01T00:00:00.000000000",
          "2007-07-01T00:00:00.000000000",
          "2007-08-01T00:00:00.000000000",
          "2007-09-01T00:00:00.000000000",
          "2007-10-01T00:00:00.000000000",
          "2007-11-01T00:00:00.000000000",
          "2007-12-01T00:00:00.000000000",
          "2008-01-01T00:00:00.000000000",
          "2008-02-01T00:00:00.000000000",
          "2008-03-01T00:00:00.000000000",
          "2008-04-01T00:00:00.000000000",
          "2008-05-01T00:00:00.000000000",
          "2008-06-01T00:00:00.000000000",
          "2008-07-01T00:00:00.000000000",
          "2008-08-01T00:00:00.000000000",
          "2008-09-01T00:00:00.000000000",
          "2008-10-01T00:00:00.000000000",
          "2008-11-01T00:00:00.000000000",
          "2008-12-01T00:00:00.000000000",
          "2009-01-01T00:00:00.000000000",
          "2009-02-01T00:00:00.000000000",
          "2009-03-01T00:00:00.000000000",
          "2009-04-01T00:00:00.000000000",
          "2009-05-01T00:00:00.000000000",
          "2009-06-01T00:00:00.000000000",
          "2009-07-01T00:00:00.000000000",
          "2009-08-01T00:00:00.000000000",
          "2009-09-01T00:00:00.000000000",
          "2009-10-01T00:00:00.000000000",
          "2009-11-01T00:00:00.000000000",
          "2009-12-01T00:00:00.000000000",
          "2010-01-01T00:00:00.000000000",
          "2010-02-01T00:00:00.000000000",
          "2010-03-01T00:00:00.000000000",
          "2010-04-01T00:00:00.000000000",
          "2010-05-01T00:00:00.000000000",
          "2010-06-01T00:00:00.000000000",
          "2010-07-01T00:00:00.000000000",
          "2010-08-01T00:00:00.000000000",
          "2010-09-01T00:00:00.000000000",
          "2010-10-01T00:00:00.000000000",
          "2010-11-01T00:00:00.000000000",
          "2010-12-01T00:00:00.000000000",
          "2011-01-01T00:00:00.000000000",
          "2011-02-01T00:00:00.000000000",
          "2011-03-01T00:00:00.000000000",
          "2011-04-01T00:00:00.000000000",
          "2011-05-01T00:00:00.000000000",
          "2011-06-01T00:00:00.000000000",
          "2011-07-01T00:00:00.000000000",
          "2011-08-01T00:00:00.000000000",
          "2011-09-01T00:00:00.000000000",
          "2011-10-01T00:00:00.000000000",
          "2011-11-01T00:00:00.000000000",
          "2011-12-01T00:00:00.000000000",
          "2012-01-01T00:00:00.000000000",
          "2012-02-01T00:00:00.000000000",
          "2012-03-01T00:00:00.000000000",
          "2012-04-01T00:00:00.000000000",
          "2012-05-01T00:00:00.000000000",
          "2012-06-01T00:00:00.000000000",
          "2012-07-01T00:00:00.000000000",
          "2012-08-01T00:00:00.000000000",
          "2012-09-01T00:00:00.000000000",
          "2012-10-01T00:00:00.000000000",
          "2012-11-01T00:00:00.000000000",
          "2012-12-01T00:00:00.000000000",
          "2013-01-01T00:00:00.000000000",
          "2013-02-01T00:00:00.000000000",
          "2013-03-01T00:00:00.000000000",
          "2013-04-01T00:00:00.000000000",
          "2013-05-01T00:00:00.000000000",
          "2013-06-01T00:00:00.000000000",
          "2013-07-01T00:00:00.000000000",
          "2013-08-01T00:00:00.000000000",
          "2013-09-01T00:00:00.000000000",
          "2013-10-01T00:00:00.000000000",
          "2013-11-01T00:00:00.000000000",
          "2013-12-01T00:00:00.000000000",
          "2014-01-01T00:00:00.000000000",
          "2014-02-01T00:00:00.000000000",
          "2014-03-01T00:00:00.000000000",
          "2014-04-01T00:00:00.000000000",
          "2014-05-01T00:00:00.000000000",
          "2014-06-01T00:00:00.000000000",
          "2014-07-01T00:00:00.000000000",
          "2014-08-01T00:00:00.000000000",
          "2014-09-01T00:00:00.000000000",
          "2014-10-01T00:00:00.000000000",
          "2014-11-01T00:00:00.000000000",
          "2014-12-01T00:00:00.000000000",
          "2015-01-01T00:00:00.000000000",
          "2015-02-01T00:00:00.000000000",
          "2015-03-01T00:00:00.000000000",
          "2015-04-01T00:00:00.000000000",
          "2015-05-01T00:00:00.000000000",
          "2015-06-01T00:00:00.000000000",
          "2015-07-01T00:00:00.000000000",
          "2015-08-01T00:00:00.000000000",
          "2015-09-01T00:00:00.000000000",
          "2015-10-01T00:00:00.000000000",
          "2015-11-01T00:00:00.000000000",
          "2015-12-01T00:00:00.000000000",
          "2016-01-01T00:00:00.000000000",
          "2016-02-01T00:00:00.000000000",
          "2016-03-01T00:00:00.000000000",
          "2016-04-01T00:00:00.000000000",
          "2016-05-01T00:00:00.000000000",
          "2016-06-01T00:00:00.000000000",
          "2016-07-01T00:00:00.000000000",
          "2016-08-01T00:00:00.000000000",
          "2016-09-01T00:00:00.000000000",
          "2016-10-01T00:00:00.000000000",
          "2016-11-01T00:00:00.000000000",
          "2016-12-01T00:00:00.000000000",
          "2017-01-01T00:00:00.000000000",
          "2017-02-01T00:00:00.000000000",
          "2017-03-01T00:00:00.000000000",
          "2017-04-01T00:00:00.000000000",
          "2017-05-01T00:00:00.000000000",
          "2017-06-01T00:00:00.000000000",
          "2017-07-01T00:00:00.000000000",
          "2017-08-01T00:00:00.000000000",
          "2017-09-01T00:00:00.000000000",
          "2017-10-01T00:00:00.000000000",
          "2017-11-01T00:00:00.000000000",
          "2017-12-01T00:00:00.000000000",
          "2018-01-01T00:00:00.000000000",
          "2018-02-01T00:00:00.000000000",
          "2018-03-01T00:00:00.000000000",
          "2018-04-01T00:00:00.000000000",
          "2018-05-01T00:00:00.000000000",
          "2018-06-01T00:00:00.000000000",
          "2018-07-01T00:00:00.000000000",
          "2018-08-01T00:00:00.000000000",
          "2018-09-01T00:00:00.000000000",
          "2018-10-01T00:00:00.000000000",
          "2018-11-01T00:00:00.000000000",
          "2018-12-01T00:00:00.000000000",
          "2019-01-01T00:00:00.000000000",
          "2019-02-01T00:00:00.000000000",
          "2019-03-01T00:00:00.000000000",
          "2019-04-01T00:00:00.000000000",
          "2019-05-01T00:00:00.000000000",
          "2019-06-01T00:00:00.000000000",
          "2019-07-01T00:00:00.000000000",
          "2019-08-01T00:00:00.000000000",
          "2019-09-01T00:00:00.000000000",
          "2019-10-01T00:00:00.000000000",
          "2019-11-01T00:00:00.000000000",
          "2019-12-01T00:00:00.000000000",
          "2020-01-01T00:00:00.000000000",
          "2020-02-01T00:00:00.000000000",
          "2020-03-01T00:00:00.000000000",
          "2020-04-01T00:00:00.000000000",
          "2020-05-01T00:00:00.000000000",
          "2020-06-01T00:00:00.000000000",
          "2020-07-01T00:00:00.000000000",
          "2020-08-01T00:00:00.000000000",
          "2020-09-01T00:00:00.000000000",
          "2020-10-01T00:00:00.000000000",
          "2020-11-01T00:00:00.000000000",
          "2020-12-01T00:00:00.000000000",
          "2021-01-01T00:00:00.000000000",
          "2021-02-01T00:00:00.000000000",
          "2021-03-01T00:00:00.000000000",
          "2021-04-01T00:00:00.000000000",
          "2021-05-01T00:00:00.000000000",
          "2021-06-01T00:00:00.000000000",
          "2021-07-01T00:00:00.000000000",
          "2021-08-01T00:00:00.000000000",
          "2021-09-01T00:00:00.000000000",
          "2021-10-01T00:00:00.000000000",
          "2021-11-01T00:00:00.000000000",
          "2021-12-01T00:00:00.000000000",
          "2022-01-01T00:00:00.000000000",
          "2022-02-01T00:00:00.000000000",
          "2022-03-01T00:00:00.000000000",
          "2022-04-01T00:00:00.000000000",
          "2022-05-01T00:00:00.000000000",
          "2022-06-01T00:00:00.000000000",
          "2022-07-01T00:00:00.000000000",
          "2022-08-01T00:00:00.000000000",
          "2022-09-01T00:00:00.000000000",
          "2022-10-01T00:00:00.000000000",
          "2022-11-01T00:00:00.000000000",
          "2022-12-01T00:00:00.000000000",
          "2023-01-01T00:00:00.000000000",
          "2023-02-01T00:00:00.000000000",
          "2023-03-01T00:00:00.000000000",
          "2023-04-01T00:00:00.000000000",
          "2023-05-01T00:00:00.000000000",
          "2023-06-01T00:00:00.000000000",
          "2023-07-01T00:00:00.000000000",
          "2023-08-01T00:00:00.000000000",
          "2023-09-01T00:00:00.000000000",
          "2023-10-01T00:00:00.000000000",
          "2023-11-01T00:00:00.000000000",
          "2023-12-01T00:00:00.000000000",
          "2024-01-01T00:00:00.000000000",
          "2024-02-01T00:00:00.000000000",
          "2024-03-01T00:00:00.000000000",
          "2024-04-01T00:00:00.000000000",
          "2024-05-01T00:00:00.000000000",
          "2024-06-01T00:00:00.000000000",
          "2024-07-01T00:00:00.000000000",
          "2024-08-01T00:00:00.000000000",
          "2024-09-01T00:00:00.000000000",
          "2024-10-01T00:00:00.000000000",
          "2024-11-01T00:00:00.000000000",
          "2024-12-01T00:00:00.000000000"
         ],
         "xaxis": "x",
         "y": {
          "bdata": "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",
          "dtype": "f8"
         },
         "yaxis": "y"
        }
       ],
       "layout": {
        "annotations": [
         {
          "align": "left",
          "bgcolor": "rgba(255, 255, 255, 0.8)",
          "bordercolor": "black",
          "borderwidth": 1,
          "font": {
           "size": 10
          },
          "showarrow": false,
          "text": "Source: Trading Economics<br>Original Source: European Commission<br>Frequency: MS<br>",
          "x": 0,
          "xanchor": "left",
          "xref": "paper",
          "y": -0.22,
          "yanchor": "bottom",
          "yref": "paper"
         }
        ],
        "legend": {
         "orientation": "h",
         "title": {
          "text": ""
         },
         "tracegroupgap": 0,
         "x": 0.5,
         "xanchor": "center",
         "y": -0.2,
         "yanchor": "bottom"
        },
        "margin": {
         "t": 60
        },
        "template": {
         "data": {
          "bar": [
           {
            "error_x": {
             "color": "#2a3f5f"
            },
            "error_y": {
             "color": "#2a3f5f"
            },
            "marker": {
             "line": {
              "color": "#E5ECF6",
              "width": 0.5
             },
             "pattern": {
              "fillmode": "overlay",
              "size": 10,
              "solidity": 0.2
             }
            },
            "type": "bar"
           }
          ],
          "barpolar": [
           {
            "marker": {
             "line": {
              "color": "#E5ECF6",
              "width": 0.5
             },
             "pattern": {
              "fillmode": "overlay",
              "size": 10,
              "solidity": 0.2
             }
            },
            "type": "barpolar"
           }
          ],
          "carpet": [
           {
            "aaxis": {
             "endlinecolor": "#2a3f5f",
             "gridcolor": "white",
             "linecolor": "white",
             "minorgridcolor": "white",
             "startlinecolor": "#2a3f5f"
            },
            "baxis": {
             "endlinecolor": "#2a3f5f",
             "gridcolor": "white",
             "linecolor": "white",
             "minorgridcolor": "white",
             "startlinecolor": "#2a3f5f"
            },
            "type": "carpet"
           }
          ],
          "choropleth": [
           {
            "colorbar": {
             "outlinewidth": 0,
             "ticks": ""
            },
            "type": "choropleth"
           }
          ],
          "contour": [
           {
            "colorbar": {
             "outlinewidth": 0,
             "ticks": ""
            },
            "colorscale": [
             [
              0,
              "#0d0887"
             ],
             [
              0.1111111111111111,
              "#46039f"
             ],
             [
              0.2222222222222222,
              "#7201a8"
             ],
             [
              0.3333333333333333,
              "#9c179e"
             ],
             [
              0.4444444444444444,
              "#bd3786"
             ],
             [
              0.5555555555555556,
              "#d8576b"
             ],
             [
              0.6666666666666666,
              "#ed7953"
             ],
             [
              0.7777777777777778,
              "#fb9f3a"
             ],
             [
              0.8888888888888888,
              "#fdca26"
             ],
             [
              1,
              "#f0f921"
             ]
            ],
            "type": "contour"
           }
          ],
          "contourcarpet": [
           {
            "colorbar": {
             "outlinewidth": 0,
             "ticks": ""
            },
            "type": "contourcarpet"
           }
          ],
          "heatmap": [
           {
            "colorbar": {
             "outlinewidth": 0,
             "ticks": ""
            },
            "colorscale": [
             [
              0,
              "#0d0887"
             ],
             [
              0.1111111111111111,
              "#46039f"
             ],
             [
              0.2222222222222222,
              "#7201a8"
             ],
             [
              0.3333333333333333,
              "#9c179e"
             ],
             [
              0.4444444444444444,
              "#bd3786"
             ],
             [
              0.5555555555555556,
              "#d8576b"
             ],
             [
              0.6666666666666666,
              "#ed7953"
             ],
             [
              0.7777777777777778,
              "#fb9f3a"
             ],
             [
              0.8888888888888888,
              "#fdca26"
             ],
             [
              1,
              "#f0f921"
             ]
            ],
            "type": "heatmap"
           }
          ],
          "histogram": [
           {
            "marker": {
             "pattern": {
              "fillmode": "overlay",
              "size": 10,
              "solidity": 0.2
             }
            },
            "type": "histogram"
           }
          ],
          "histogram2d": [
           {
            "colorbar": {
             "outlinewidth": 0,
             "ticks": ""
            },
            "colorscale": [
             [
              0,
              "#0d0887"
             ],
             [
              0.1111111111111111,
              "#46039f"
             ],
             [
              0.2222222222222222,
              "#7201a8"
             ],
             [
              0.3333333333333333,
              "#9c179e"
             ],
             [
              0.4444444444444444,
              "#bd3786"
             ],
             [
              0.5555555555555556,
              "#d8576b"
             ],
             [
              0.6666666666666666,
              "#ed7953"
             ],
             [
              0.7777777777777778,
              "#fb9f3a"
             ],
             [
              0.8888888888888888,
              "#fdca26"
             ],
             [
              1,
              "#f0f921"
             ]
            ],
            "type": "histogram2d"
           }
          ],
          "histogram2dcontour": [
           {
            "colorbar": {
             "outlinewidth": 0,
             "ticks": ""
            },
            "colorscale": [
             [
              0,
              "#0d0887"
             ],
             [
              0.1111111111111111,
              "#46039f"
             ],
             [
              0.2222222222222222,
              "#7201a8"
             ],
             [
              0.3333333333333333,
              "#9c179e"
             ],
             [
              0.4444444444444444,
              "#bd3786"
             ],
             [
              0.5555555555555556,
              "#d8576b"
             ],
             [
              0.6666666666666666,
              "#ed7953"
             ],
             [
              0.7777777777777778,
              "#fb9f3a"
             ],
             [
              0.8888888888888888,
              "#fdca26"
             ],
             [
              1,
              "#f0f921"
             ]
            ],
            "type": "histogram2dcontour"
           }
          ],
          "mesh3d": [
           {
            "colorbar": {
             "outlinewidth": 0,
             "ticks": ""
            },
            "type": "mesh3d"
           }
          ],
          "parcoords": [
           {
            "line": {
             "colorbar": {
              "outlinewidth": 0,
              "ticks": ""
             }
            },
            "type": "parcoords"
           }
          ],
          "pie": [
           {
            "automargin": true,
            "type": "pie"
           }
          ],
          "scatter": [
           {
            "fillpattern": {
             "fillmode": "overlay",
             "size": 10,
             "solidity": 0.2
            },
            "type": "scatter"
           }
          ],
          "scatter3d": [
           {
            "line": {
             "colorbar": {
              "outlinewidth": 0,
              "ticks": ""
             }
            },
            "marker": {
             "colorbar": {
              "outlinewidth": 0,
              "ticks": ""
             }
            },
            "type": "scatter3d"
           }
          ],
          "scattercarpet": [
           {
            "marker": {
             "colorbar": {
              "outlinewidth": 0,
              "ticks": ""
             }
            },
            "type": "scattercarpet"
           }
          ],
          "scattergeo": [
           {
            "marker": {
             "colorbar": {
              "outlinewidth": 0,
              "ticks": ""
             }
            },
            "type": "scattergeo"
           }
          ],
          "scattergl": [
           {
            "marker": {
             "colorbar": {
              "outlinewidth": 0,
              "ticks": ""
             }
            },
            "type": "scattergl"
           }
          ],
          "scattermap": [
           {
            "marker": {
             "colorbar": {
              "outlinewidth": 0,
              "ticks": ""
             }
            },
            "type": "scattermap"
           }
          ],
          "scattermapbox": [
           {
            "marker": {
             "colorbar": {
              "outlinewidth": 0,
              "ticks": ""
             }
            },
            "type": "scattermapbox"
           }
          ],
          "scatterpolar": [
           {
            "marker": {
             "colorbar": {
              "outlinewidth": 0,
              "ticks": ""
             }
            },
            "type": "scatterpolar"
           }
          ],
          "scatterpolargl": [
           {
            "marker": {
             "colorbar": {
              "outlinewidth": 0,
              "ticks": ""
             }
            },
            "type": "scatterpolargl"
           }
          ],
          "scatterternary": [
           {
            "marker": {
             "colorbar": {
              "outlinewidth": 0,
              "ticks": ""
             }
            },
            "type": "scatterternary"
           }
          ],
          "surface": [
           {
            "colorbar": {
             "outlinewidth": 0,
             "ticks": ""
            },
            "colorscale": [
             [
              0,
              "#0d0887"
             ],
             [
              0.1111111111111111,
              "#46039f"
             ],
             [
              0.2222222222222222,
              "#7201a8"
             ],
             [
              0.3333333333333333,
              "#9c179e"
             ],
             [
              0.4444444444444444,
              "#bd3786"
             ],
             [
              0.5555555555555556,
              "#d8576b"
             ],
             [
              0.6666666666666666,
              "#ed7953"
             ],
             [
              0.7777777777777778,
              "#fb9f3a"
             ],
             [
              0.8888888888888888,
              "#fdca26"
             ],
             [
              1,
              "#f0f921"
             ]
            ],
            "type": "surface"
           }
          ],
          "table": [
           {
            "cells": {
             "fill": {
              "color": "#EBF0F8"
             },
             "line": {
              "color": "white"
             }
            },
            "header": {
             "fill": {
              "color": "#C8D4E3"
             },
             "line": {
              "color": "white"
             }
            },
            "type": "table"
           }
          ]
         },
         "layout": {
          "annotationdefaults": {
           "arrowcolor": "#2a3f5f",
           "arrowhead": 0,
           "arrowwidth": 1
          },
          "autotypenumbers": "strict",
          "coloraxis": {
           "colorbar": {
            "outlinewidth": 0,
            "ticks": ""
           }
          },
          "colorscale": {
           "diverging": [
            [
             0,
             "#8e0152"
            ],
            [
             0.1,
             "#c51b7d"
            ],
            [
             0.2,
             "#de77ae"
            ],
            [
             0.3,
             "#f1b6da"
            ],
            [
             0.4,
             "#fde0ef"
            ],
            [
             0.5,
             "#f7f7f7"
            ],
            [
             0.6,
             "#e6f5d0"
            ],
            [
             0.7,
             "#b8e186"
            ],
            [
             0.8,
             "#7fbc41"
            ],
            [
             0.9,
             "#4d9221"
            ],
            [
             1,
             "#276419"
            ]
           ],
           "sequential": [
            [
             0,
             "#0d0887"
            ],
            [
             0.1111111111111111,
             "#46039f"
            ],
            [
             0.2222222222222222,
             "#7201a8"
            ],
            [
             0.3333333333333333,
             "#9c179e"
            ],
            [
             0.4444444444444444,
             "#bd3786"
            ],
            [
             0.5555555555555556,
             "#d8576b"
            ],
            [
             0.6666666666666666,
             "#ed7953"
            ],
            [
             0.7777777777777778,
             "#fb9f3a"
            ],
            [
             0.8888888888888888,
             "#fdca26"
            ],
            [
             1,
             "#f0f921"
            ]
           ],
           "sequentialminus": [
            [
             0,
             "#0d0887"
            ],
            [
             0.1111111111111111,
             "#46039f"
            ],
            [
             0.2222222222222222,
             "#7201a8"
            ],
            [
             0.3333333333333333,
             "#9c179e"
            ],
            [
             0.4444444444444444,
             "#bd3786"
            ],
            [
             0.5555555555555556,
             "#d8576b"
            ],
            [
             0.6666666666666666,
             "#ed7953"
            ],
            [
             0.7777777777777778,
             "#fb9f3a"
            ],
            [
             0.8888888888888888,
             "#fdca26"
            ],
            [
             1,
             "#f0f921"
            ]
           ]
          },
          "colorway": [
           "#636efa",
           "#EF553B",
           "#00cc96",
           "#ab63fa",
           "#FFA15A",
           "#19d3f3",
           "#FF6692",
           "#B6E880",
           "#FF97FF",
           "#FECB52"
          ],
          "font": {
           "color": "#2a3f5f"
          },
          "geo": {
           "bgcolor": "white",
           "lakecolor": "white",
           "landcolor": "#E5ECF6",
           "showlakes": true,
           "showland": true,
           "subunitcolor": "white"
          },
          "hoverlabel": {
           "align": "left"
          },
          "hovermode": "closest",
          "mapbox": {
           "style": "light"
          },
          "paper_bgcolor": "white",
          "plot_bgcolor": "#E5ECF6",
          "polar": {
           "angularaxis": {
            "gridcolor": "white",
            "linecolor": "white",
            "ticks": ""
           },
           "bgcolor": "#E5ECF6",
           "radialaxis": {
            "gridcolor": "white",
            "linecolor": "white",
            "ticks": ""
           }
          },
          "scene": {
           "xaxis": {
            "backgroundcolor": "#E5ECF6",
            "gridcolor": "white",
            "gridwidth": 2,
            "linecolor": "white",
            "showbackground": true,
            "ticks": "",
            "zerolinecolor": "white"
           },
           "yaxis": {
            "backgroundcolor": "#E5ECF6",
            "gridcolor": "white",
            "gridwidth": 2,
            "linecolor": "white",
            "showbackground": true,
            "ticks": "",
            "zerolinecolor": "white"
           },
           "zaxis": {
            "backgroundcolor": "#E5ECF6",
            "gridcolor": "white",
            "gridwidth": 2,
            "linecolor": "white",
            "showbackground": true,
            "ticks": "",
            "zerolinecolor": "white"
           }
          },
          "shapedefaults": {
           "line": {
            "color": "#2a3f5f"
           }
          },
          "ternary": {
           "aaxis": {
            "gridcolor": "white",
            "linecolor": "white",
            "ticks": ""
           },
           "baxis": {
            "gridcolor": "white",
            "linecolor": "white",
            "ticks": ""
           },
           "bgcolor": "#E5ECF6",
           "caxis": {
            "gridcolor": "white",
            "linecolor": "white",
            "ticks": ""
           }
          },
          "title": {
           "x": 0.05
          },
          "xaxis": {
           "automargin": true,
           "gridcolor": "white",
           "linecolor": "white",
           "ticks": "",
           "title": {
            "standoff": 15
           },
           "zerolinecolor": "white",
           "zerolinewidth": 2
          },
          "yaxis": {
           "automargin": true,
           "gridcolor": "white",
           "linecolor": "white",
           "ticks": "",
           "title": {
            "standoff": 15
           },
           "zerolinecolor": "white",
           "zerolinewidth": 2
          }
         }
        },
        "title": {
         "text": "Euro area: Euro area consumer confidence"
        },
        "xaxis": {
         "anchor": "y",
         "domain": [
          0,
          1
         ],
         "title": {
          "text": ""
         }
        },
        "yaxis": {
         "anchor": "x",
         "domain": [
          0,
          1
         ],
         "title": {
          "text": "Points"
         }
        }
       }
      }
     },
     "metadata": {},
     "output_type": "display_data"
    }
   ],
   "source": [
    "scrap.plot_series(ann_box_pos=(0, -0.22))  ## Plot the series specifying ths series as the on to plot rather than the series attribute of the TE_Scraper."
   ]
  },
  {
   "cell_type": "markdown",
   "metadata": {},
   "source": [
    "The alternative method has now been implemented as an option in ```scrape_chart``` function. Use method = \"tooltips\" to use it. Take care as it will miss some points if the history is long and the total datapoint are many. In that case a series could be scraped in two runs of this method, using \"custom_date_span\" method to set first half and second half of the history..."
   ]
  },
  {
   "cell_type": "code",
   "execution_count": 30,
   "metadata": {},
   "outputs": [
    {
     "name": "stderr",
     "output_type": "stream",
     "text": [
      "INFO - scrape_chart function: Scraping chart at: https://tradingeconomics.com/euro-area/gdp-growth-annual, time: 2025-02-26 16:44:29.658522, method: tooltips\n"
     ]
    },
    {
     "name": "stdout",
     "output_type": "stream",
     "text": [
      "Error loading page: Message: Failed to write request to stream\n",
      "\n",
      "Error loading page at:  https://tradingeconomics.com/euro-area/gdp-growth-annual\n"
     ]
    }
   ],
   "source": [
    "scro = ted.scrape_chart(country=\"euro-area\", id = \"gdp-growth-annual\", method = \"tooltips\", headless=True) ## Using chart id from the url only, country is \"united-states\" by default."
   ]
  },
  {
   "cell_type": "code",
   "execution_count": 14,
   "metadata": {},
   "outputs": [
    {
     "data": {
      "application/vnd.plotly.v1+json": {
       "config": {
        "plotlyServerURL": "https://plot.ly"
       },
       "data": [
        {
         "hovertemplate": "variable=tooltip_data<br>index=%{x}<br>value=%{y}<extra></extra>",
         "legendgroup": "tooltip_data",
         "line": {
          "color": "#636efa",
          "dash": "solid"
         },
         "marker": {
          "symbol": "circle"
         },
         "mode": "lines",
         "name": "tooltip_data",
         "orientation": "v",
         "showlegend": true,
         "type": "scatter",
         "x": [
          "1995-01-01T00:00:00.000000000",
          "1995-04-01T00:00:00.000000000",
          "1995-07-01T00:00:00.000000000",
          "1995-10-01T00:00:00.000000000",
          "1996-01-01T00:00:00.000000000",
          "1996-04-01T00:00:00.000000000",
          "1996-07-01T00:00:00.000000000",
          "1996-10-01T00:00:00.000000000",
          "1997-01-01T00:00:00.000000000",
          "1997-04-01T00:00:00.000000000",
          "1997-07-01T00:00:00.000000000",
          "1997-10-01T00:00:00.000000000",
          "1998-01-01T00:00:00.000000000",
          "1998-04-01T00:00:00.000000000",
          "1998-07-01T00:00:00.000000000",
          "1998-10-01T00:00:00.000000000",
          "1999-01-01T00:00:00.000000000",
          "1999-04-01T00:00:00.000000000",
          "1999-07-01T00:00:00.000000000",
          "1999-10-01T00:00:00.000000000",
          "2000-01-01T00:00:00.000000000",
          "2000-04-01T00:00:00.000000000",
          "2000-07-01T00:00:00.000000000",
          "2000-10-01T00:00:00.000000000",
          "2001-01-01T00:00:00.000000000",
          "2001-04-01T00:00:00.000000000",
          "2001-07-01T00:00:00.000000000",
          "2001-10-01T00:00:00.000000000",
          "2002-01-01T00:00:00.000000000",
          "2002-04-01T00:00:00.000000000",
          "2002-07-01T00:00:00.000000000",
          "2002-10-01T00:00:00.000000000",
          "2003-01-01T00:00:00.000000000",
          "2003-04-01T00:00:00.000000000",
          "2003-07-01T00:00:00.000000000",
          "2003-10-01T00:00:00.000000000",
          "2004-01-01T00:00:00.000000000",
          "2004-04-01T00:00:00.000000000",
          "2004-07-01T00:00:00.000000000",
          "2004-10-01T00:00:00.000000000",
          "2005-01-01T00:00:00.000000000",
          "2005-04-01T00:00:00.000000000",
          "2005-07-01T00:00:00.000000000",
          "2005-10-01T00:00:00.000000000",
          "2006-01-01T00:00:00.000000000",
          "2006-04-01T00:00:00.000000000",
          "2006-07-01T00:00:00.000000000",
          "2006-10-01T00:00:00.000000000",
          "2007-01-01T00:00:00.000000000",
          "2007-04-01T00:00:00.000000000",
          "2007-07-01T00:00:00.000000000",
          "2007-10-01T00:00:00.000000000",
          "2008-01-01T00:00:00.000000000",
          "2008-04-01T00:00:00.000000000",
          "2008-07-01T00:00:00.000000000",
          "2008-10-01T00:00:00.000000000",
          "2009-01-01T00:00:00.000000000",
          "2009-04-01T00:00:00.000000000",
          "2009-07-01T00:00:00.000000000",
          "2009-10-01T00:00:00.000000000",
          "2010-01-01T00:00:00.000000000",
          "2010-04-01T00:00:00.000000000",
          "2010-07-01T00:00:00.000000000",
          "2010-10-01T00:00:00.000000000",
          "2011-01-01T00:00:00.000000000",
          "2011-04-01T00:00:00.000000000",
          "2011-07-01T00:00:00.000000000",
          "2011-10-01T00:00:00.000000000",
          "2012-01-01T00:00:00.000000000",
          "2012-04-01T00:00:00.000000000",
          "2012-07-01T00:00:00.000000000",
          "2012-10-01T00:00:00.000000000",
          "2013-01-01T00:00:00.000000000",
          "2013-04-01T00:00:00.000000000",
          "2013-07-01T00:00:00.000000000",
          "2013-10-01T00:00:00.000000000",
          "2014-01-01T00:00:00.000000000",
          "2014-04-01T00:00:00.000000000",
          "2014-07-01T00:00:00.000000000",
          "2014-10-01T00:00:00.000000000",
          "2015-01-01T00:00:00.000000000",
          "2015-04-01T00:00:00.000000000",
          "2015-07-01T00:00:00.000000000",
          "2015-10-01T00:00:00.000000000",
          "2016-01-01T00:00:00.000000000",
          "2016-04-01T00:00:00.000000000",
          "2016-07-01T00:00:00.000000000",
          "2016-10-01T00:00:00.000000000",
          "2017-01-01T00:00:00.000000000",
          "2017-04-01T00:00:00.000000000",
          "2017-07-01T00:00:00.000000000",
          "2017-10-01T00:00:00.000000000",
          "2018-01-01T00:00:00.000000000",
          "2018-04-01T00:00:00.000000000",
          "2018-07-01T00:00:00.000000000",
          "2018-10-01T00:00:00.000000000",
          "2019-01-01T00:00:00.000000000",
          "2019-04-01T00:00:00.000000000",
          "2019-07-01T00:00:00.000000000",
          "2019-10-01T00:00:00.000000000",
          "2020-01-01T00:00:00.000000000",
          "2020-04-01T00:00:00.000000000",
          "2020-07-01T00:00:00.000000000",
          "2020-10-01T00:00:00.000000000",
          "2021-01-01T00:00:00.000000000",
          "2021-04-01T00:00:00.000000000",
          "2021-07-01T00:00:00.000000000",
          "2021-10-01T00:00:00.000000000",
          "2022-01-01T00:00:00.000000000",
          "2022-04-01T00:00:00.000000000",
          "2022-07-01T00:00:00.000000000",
          "2022-10-01T00:00:00.000000000",
          "2023-01-01T00:00:00.000000000",
          "2023-04-01T00:00:00.000000000",
          "2023-07-01T00:00:00.000000000",
          "2023-10-01T00:00:00.000000000",
          "2024-01-01T00:00:00.000000000",
          "2024-04-01T00:00:00.000000000",
          "2024-07-01T00:00:00.000000000",
          "2024-10-01T00:00:00.000000000"
         ],
         "xaxis": "x",
         "y": {
          "bdata": "AAAAAAAAFECamZmZmZkTQJqZmZmZmRFAZmZmZmZmDkBmZmZmZmb2P2ZmZmZmZvY/mpmZmZmZ+T8AAAAAAAAAQM3MzMzMzABAAAAAAAAABEBmZmZmZmYGQGZmZmZmZgpAmpmZmZmZDUAzMzMzMzMHQJqZmZmZmQVAZmZmZmZm/j9mZmZmZmYCQGZmZmZmZgJAmpmZmZmZCUAAAAAAAAAQQM3MzMzMzBBAzczMzMzMEkAzMzMzMzMPQGZmZmZmZgpAmpmZmZmZCUBmZmZmZmYCQM3MzMzMzPw/zczMzMzM9D+amZmZmZnZP5qZmZmZmek/AAAAAAAA8D/NzMzMzMz0P5qZmZmZmek/MzMzMzMz0z8AAAAAAADgPwAAAAAAAPA/zczMzMzM/D8zMzMzMzMDQAAAAAAAAABAzczMzMzM/D8AAAAAAAD4PwAAAAAAAPg/AAAAAAAAAEBmZmZmZmYCQAAAAAAAAAhAAAAAAAAADECamZmZmZkJQJqZmZmZmQ1AAAAAAAAADEAAAAAAAAAIQDMzMzMzMwdAmpmZmZmZAUCamZmZmZkBQAAAAAAAAPA/mpmZmZmZuT/NzMzMzMwAwGZmZmZmZhbAZmZmZmZmFMAzMzMzMzMRwJqZmZmZmQHAzczMzMzM9D+amZmZmZkBQJqZmZmZmQFAMzMzMzMzA0AzMzMzMzMHQAAAAAAAAABAmpmZmZmZ+T9mZmZmZmbmPwAAAAAAAOC/zczMzMzM7L+amZmZmZnxvzMzMzMzM/O/zczMzMzM9L8zMzMzMzPTv5qZmZmZmck/zczMzMzM7D8zMzMzMzP7PzMzMzMzM/M/ZmZmZmZm9j8AAAAAAAD4P2ZmZmZmZv4/zczMzMzMAEAAAAAAAAAAQM3MzMzMzABAZmZmZmZm/j+amZmZmZn5PzMzMzMzM/s/ZmZmZmZm/j+amZmZmZkBQJqZmZmZmQVAAAAAAAAACEDNzMzMzMwIQGZmZmZmZgJAzczMzMzMAEBmZmZmZmb2PzMzMzMzM/M/zczMzMzM/D8zMzMzMzP7P83MzMzMzPw/MzMzMzMz8z9mZmZmZmYGwM3MzMzMzCvAZmZmZmZmEMBmZmZmZmYOwJqZmZmZmck/ZmZmZmZmLkBmZmZmZmYUQAAAAAAAABZAAAAAAAAAFkBmZmZmZmYQQGZmZmZmZgZAAAAAAAAAAEBmZmZmZmb2PzMzMzMzM+M/AAAAAAAAAACamZmZmZm5P5qZmZmZmdk/AAAAAAAA4D/NzMzMzMzsP83MzMzMzOw/",
          "dtype": "f8"
         },
         "yaxis": "y"
        }
       ],
       "layout": {
        "annotations": [
         {
          "align": "left",
          "bgcolor": "rgba(255, 255, 255, 0.8)",
          "bordercolor": "black",
          "borderwidth": 1,
          "font": {
           "size": 10
          },
          "showarrow": false,
          "text": "Source: Trading Economics<br>Original Source: EUROSTAT<br>Frequency: QS-OCT<br>",
          "x": 0,
          "xanchor": "left",
          "xref": "paper",
          "y": -0.2,
          "yanchor": "bottom",
          "yref": "paper"
         }
        ],
        "legend": {
         "orientation": "h",
         "title": {
          "text": ""
         },
         "tracegroupgap": 0,
         "x": 0.5,
         "xanchor": "center",
         "y": -0.2,
         "yanchor": "bottom"
        },
        "margin": {
         "t": 60
        },
        "template": {
         "data": {
          "bar": [
           {
            "error_x": {
             "color": "#2a3f5f"
            },
            "error_y": {
             "color": "#2a3f5f"
            },
            "marker": {
             "line": {
              "color": "#E5ECF6",
              "width": 0.5
             },
             "pattern": {
              "fillmode": "overlay",
              "size": 10,
              "solidity": 0.2
             }
            },
            "type": "bar"
           }
          ],
          "barpolar": [
           {
            "marker": {
             "line": {
              "color": "#E5ECF6",
              "width": 0.5
             },
             "pattern": {
              "fillmode": "overlay",
              "size": 10,
              "solidity": 0.2
             }
            },
            "type": "barpolar"
           }
          ],
          "carpet": [
           {
            "aaxis": {
             "endlinecolor": "#2a3f5f",
             "gridcolor": "white",
             "linecolor": "white",
             "minorgridcolor": "white",
             "startlinecolor": "#2a3f5f"
            },
            "baxis": {
             "endlinecolor": "#2a3f5f",
             "gridcolor": "white",
             "linecolor": "white",
             "minorgridcolor": "white",
             "startlinecolor": "#2a3f5f"
            },
            "type": "carpet"
           }
          ],
          "choropleth": [
           {
            "colorbar": {
             "outlinewidth": 0,
             "ticks": ""
            },
            "type": "choropleth"
           }
          ],
          "contour": [
           {
            "colorbar": {
             "outlinewidth": 0,
             "ticks": ""
            },
            "colorscale": [
             [
              0,
              "#0d0887"
             ],
             [
              0.1111111111111111,
              "#46039f"
             ],
             [
              0.2222222222222222,
              "#7201a8"
             ],
             [
              0.3333333333333333,
              "#9c179e"
             ],
             [
              0.4444444444444444,
              "#bd3786"
             ],
             [
              0.5555555555555556,
              "#d8576b"
             ],
             [
              0.6666666666666666,
              "#ed7953"
             ],
             [
              0.7777777777777778,
              "#fb9f3a"
             ],
             [
              0.8888888888888888,
              "#fdca26"
             ],
             [
              1,
              "#f0f921"
             ]
            ],
            "type": "contour"
           }
          ],
          "contourcarpet": [
           {
            "colorbar": {
             "outlinewidth": 0,
             "ticks": ""
            },
            "type": "contourcarpet"
           }
          ],
          "heatmap": [
           {
            "colorbar": {
             "outlinewidth": 0,
             "ticks": ""
            },
            "colorscale": [
             [
              0,
              "#0d0887"
             ],
             [
              0.1111111111111111,
              "#46039f"
             ],
             [
              0.2222222222222222,
              "#7201a8"
             ],
             [
              0.3333333333333333,
              "#9c179e"
             ],
             [
              0.4444444444444444,
              "#bd3786"
             ],
             [
              0.5555555555555556,
              "#d8576b"
             ],
             [
              0.6666666666666666,
              "#ed7953"
             ],
             [
              0.7777777777777778,
              "#fb9f3a"
             ],
             [
              0.8888888888888888,
              "#fdca26"
             ],
             [
              1,
              "#f0f921"
             ]
            ],
            "type": "heatmap"
           }
          ],
          "histogram": [
           {
            "marker": {
             "pattern": {
              "fillmode": "overlay",
              "size": 10,
              "solidity": 0.2
             }
            },
            "type": "histogram"
           }
          ],
          "histogram2d": [
           {
            "colorbar": {
             "outlinewidth": 0,
             "ticks": ""
            },
            "colorscale": [
             [
              0,
              "#0d0887"
             ],
             [
              0.1111111111111111,
              "#46039f"
             ],
             [
              0.2222222222222222,
              "#7201a8"
             ],
             [
              0.3333333333333333,
              "#9c179e"
             ],
             [
              0.4444444444444444,
              "#bd3786"
             ],
             [
              0.5555555555555556,
              "#d8576b"
             ],
             [
              0.6666666666666666,
              "#ed7953"
             ],
             [
              0.7777777777777778,
              "#fb9f3a"
             ],
             [
              0.8888888888888888,
              "#fdca26"
             ],
             [
              1,
              "#f0f921"
             ]
            ],
            "type": "histogram2d"
           }
          ],
          "histogram2dcontour": [
           {
            "colorbar": {
             "outlinewidth": 0,
             "ticks": ""
            },
            "colorscale": [
             [
              0,
              "#0d0887"
             ],
             [
              0.1111111111111111,
              "#46039f"
             ],
             [
              0.2222222222222222,
              "#7201a8"
             ],
             [
              0.3333333333333333,
              "#9c179e"
             ],
             [
              0.4444444444444444,
              "#bd3786"
             ],
             [
              0.5555555555555556,
              "#d8576b"
             ],
             [
              0.6666666666666666,
              "#ed7953"
             ],
             [
              0.7777777777777778,
              "#fb9f3a"
             ],
             [
              0.8888888888888888,
              "#fdca26"
             ],
             [
              1,
              "#f0f921"
             ]
            ],
            "type": "histogram2dcontour"
           }
          ],
          "mesh3d": [
           {
            "colorbar": {
             "outlinewidth": 0,
             "ticks": ""
            },
            "type": "mesh3d"
           }
          ],
          "parcoords": [
           {
            "line": {
             "colorbar": {
              "outlinewidth": 0,
              "ticks": ""
             }
            },
            "type": "parcoords"
           }
          ],
          "pie": [
           {
            "automargin": true,
            "type": "pie"
           }
          ],
          "scatter": [
           {
            "fillpattern": {
             "fillmode": "overlay",
             "size": 10,
             "solidity": 0.2
            },
            "type": "scatter"
           }
          ],
          "scatter3d": [
           {
            "line": {
             "colorbar": {
              "outlinewidth": 0,
              "ticks": ""
             }
            },
            "marker": {
             "colorbar": {
              "outlinewidth": 0,
              "ticks": ""
             }
            },
            "type": "scatter3d"
           }
          ],
          "scattercarpet": [
           {
            "marker": {
             "colorbar": {
              "outlinewidth": 0,
              "ticks": ""
             }
            },
            "type": "scattercarpet"
           }
          ],
          "scattergeo": [
           {
            "marker": {
             "colorbar": {
              "outlinewidth": 0,
              "ticks": ""
             }
            },
            "type": "scattergeo"
           }
          ],
          "scattergl": [
           {
            "marker": {
             "colorbar": {
              "outlinewidth": 0,
              "ticks": ""
             }
            },
            "type": "scattergl"
           }
          ],
          "scattermap": [
           {
            "marker": {
             "colorbar": {
              "outlinewidth": 0,
              "ticks": ""
             }
            },
            "type": "scattermap"
           }
          ],
          "scattermapbox": [
           {
            "marker": {
             "colorbar": {
              "outlinewidth": 0,
              "ticks": ""
             }
            },
            "type": "scattermapbox"
           }
          ],
          "scatterpolar": [
           {
            "marker": {
             "colorbar": {
              "outlinewidth": 0,
              "ticks": ""
             }
            },
            "type": "scatterpolar"
           }
          ],
          "scatterpolargl": [
           {
            "marker": {
             "colorbar": {
              "outlinewidth": 0,
              "ticks": ""
             }
            },
            "type": "scatterpolargl"
           }
          ],
          "scatterternary": [
           {
            "marker": {
             "colorbar": {
              "outlinewidth": 0,
              "ticks": ""
             }
            },
            "type": "scatterternary"
           }
          ],
          "surface": [
           {
            "colorbar": {
             "outlinewidth": 0,
             "ticks": ""
            },
            "colorscale": [
             [
              0,
              "#0d0887"
             ],
             [
              0.1111111111111111,
              "#46039f"
             ],
             [
              0.2222222222222222,
              "#7201a8"
             ],
             [
              0.3333333333333333,
              "#9c179e"
             ],
             [
              0.4444444444444444,
              "#bd3786"
             ],
             [
              0.5555555555555556,
              "#d8576b"
             ],
             [
              0.6666666666666666,
              "#ed7953"
             ],
             [
              0.7777777777777778,
              "#fb9f3a"
             ],
             [
              0.8888888888888888,
              "#fdca26"
             ],
             [
              1,
              "#f0f921"
             ]
            ],
            "type": "surface"
           }
          ],
          "table": [
           {
            "cells": {
             "fill": {
              "color": "#EBF0F8"
             },
             "line": {
              "color": "white"
             }
            },
            "header": {
             "fill": {
              "color": "#C8D4E3"
             },
             "line": {
              "color": "white"
             }
            },
            "type": "table"
           }
          ]
         },
         "layout": {
          "annotationdefaults": {
           "arrowcolor": "#2a3f5f",
           "arrowhead": 0,
           "arrowwidth": 1
          },
          "autotypenumbers": "strict",
          "coloraxis": {
           "colorbar": {
            "outlinewidth": 0,
            "ticks": ""
           }
          },
          "colorscale": {
           "diverging": [
            [
             0,
             "#8e0152"
            ],
            [
             0.1,
             "#c51b7d"
            ],
            [
             0.2,
             "#de77ae"
            ],
            [
             0.3,
             "#f1b6da"
            ],
            [
             0.4,
             "#fde0ef"
            ],
            [
             0.5,
             "#f7f7f7"
            ],
            [
             0.6,
             "#e6f5d0"
            ],
            [
             0.7,
             "#b8e186"
            ],
            [
             0.8,
             "#7fbc41"
            ],
            [
             0.9,
             "#4d9221"
            ],
            [
             1,
             "#276419"
            ]
           ],
           "sequential": [
            [
             0,
             "#0d0887"
            ],
            [
             0.1111111111111111,
             "#46039f"
            ],
            [
             0.2222222222222222,
             "#7201a8"
            ],
            [
             0.3333333333333333,
             "#9c179e"
            ],
            [
             0.4444444444444444,
             "#bd3786"
            ],
            [
             0.5555555555555556,
             "#d8576b"
            ],
            [
             0.6666666666666666,
             "#ed7953"
            ],
            [
             0.7777777777777778,
             "#fb9f3a"
            ],
            [
             0.8888888888888888,
             "#fdca26"
            ],
            [
             1,
             "#f0f921"
            ]
           ],
           "sequentialminus": [
            [
             0,
             "#0d0887"
            ],
            [
             0.1111111111111111,
             "#46039f"
            ],
            [
             0.2222222222222222,
             "#7201a8"
            ],
            [
             0.3333333333333333,
             "#9c179e"
            ],
            [
             0.4444444444444444,
             "#bd3786"
            ],
            [
             0.5555555555555556,
             "#d8576b"
            ],
            [
             0.6666666666666666,
             "#ed7953"
            ],
            [
             0.7777777777777778,
             "#fb9f3a"
            ],
            [
             0.8888888888888888,
             "#fdca26"
            ],
            [
             1,
             "#f0f921"
            ]
           ]
          },
          "colorway": [
           "#636efa",
           "#EF553B",
           "#00cc96",
           "#ab63fa",
           "#FFA15A",
           "#19d3f3",
           "#FF6692",
           "#B6E880",
           "#FF97FF",
           "#FECB52"
          ],
          "font": {
           "color": "#2a3f5f"
          },
          "geo": {
           "bgcolor": "white",
           "lakecolor": "white",
           "landcolor": "#E5ECF6",
           "showlakes": true,
           "showland": true,
           "subunitcolor": "white"
          },
          "hoverlabel": {
           "align": "left"
          },
          "hovermode": "closest",
          "mapbox": {
           "style": "light"
          },
          "paper_bgcolor": "white",
          "plot_bgcolor": "#E5ECF6",
          "polar": {
           "angularaxis": {
            "gridcolor": "white",
            "linecolor": "white",
            "ticks": ""
           },
           "bgcolor": "#E5ECF6",
           "radialaxis": {
            "gridcolor": "white",
            "linecolor": "white",
            "ticks": ""
           }
          },
          "scene": {
           "xaxis": {
            "backgroundcolor": "#E5ECF6",
            "gridcolor": "white",
            "gridwidth": 2,
            "linecolor": "white",
            "showbackground": true,
            "ticks": "",
            "zerolinecolor": "white"
           },
           "yaxis": {
            "backgroundcolor": "#E5ECF6",
            "gridcolor": "white",
            "gridwidth": 2,
            "linecolor": "white",
            "showbackground": true,
            "ticks": "",
            "zerolinecolor": "white"
           },
           "zaxis": {
            "backgroundcolor": "#E5ECF6",
            "gridcolor": "white",
            "gridwidth": 2,
            "linecolor": "white",
            "showbackground": true,
            "ticks": "",
            "zerolinecolor": "white"
           }
          },
          "shapedefaults": {
           "line": {
            "color": "#2a3f5f"
           }
          },
          "ternary": {
           "aaxis": {
            "gridcolor": "white",
            "linecolor": "white",
            "ticks": ""
           },
           "baxis": {
            "gridcolor": "white",
            "linecolor": "white",
            "ticks": ""
           },
           "bgcolor": "#E5ECF6",
           "caxis": {
            "gridcolor": "white",
            "linecolor": "white",
            "ticks": ""
           }
          },
          "title": {
           "x": 0.05
          },
          "xaxis": {
           "automargin": true,
           "gridcolor": "white",
           "linecolor": "white",
           "ticks": "",
           "title": {
            "standoff": 15
           },
           "zerolinecolor": "white",
           "zerolinewidth": 2
          },
          "yaxis": {
           "automargin": true,
           "gridcolor": "white",
           "linecolor": "white",
           "ticks": "",
           "title": {
            "standoff": 15
           },
           "zerolinecolor": "white",
           "zerolinewidth": 2
          }
         }
        },
        "title": {
         "text": "Euro area: Euro area gdp annual growth rate"
        },
        "xaxis": {
         "anchor": "y",
         "domain": [
          0,
          1
         ],
         "title": {
          "text": ""
         }
        },
        "yaxis": {
         "anchor": "x",
         "domain": [
          0,
          1
         ],
         "title": {
          "text": "%"
         }
        }
       }
      }
     },
     "metadata": {},
     "output_type": "display_data"
    }
   ],
   "source": [
    "scro.plot_series()  ## Plot the series."
   ]
  },
  {
   "cell_type": "markdown",
   "metadata": {},
   "source": [
    "## Here we have the ultimate high accuracy, high time required method\n",
    "This method is selected using ```method = \"mixed\"``` keyword argument of the ```scrape_chart``` function. This first determines the start & end dates for the full series, calculates frequency and makes the x_index. It then uses multiple runs of the tooltip scraping method to get all of the data at the highest accuracy."
   ]
  },
  {
   "cell_type": "code",
   "execution_count": 3,
   "metadata": {},
   "outputs": [
    {
     "data": {
      "text/plain": [
       "[]"
      ]
     },
     "execution_count": 3,
     "metadata": {},
     "output_type": "execute_result"
    }
   ],
   "source": [
    "from tedata import base\n",
    "base.find_active_drivers(quit_all=True)  ## Quit all active drivers."
   ]
  },
  {
   "cell_type": "code",
   "execution_count": 10,
   "metadata": {},
   "outputs": [
    {
     "name": "stderr",
     "output_type": "stream",
     "text": [
      "INFO - New firefox webdriver created.\n",
      "INFO - scrape_chart function: Scraping chart at: https://tradingeconomics.com/united-states/existing-home-sales, time: 2025-02-27 15:25:46.601170, method: mixed\n",
      "INFO - Chart types dictionary created successfully: dict_keys(['Column', 'Spline', 'Areaspline', 'Stepline', 'Line', 'Area'])\n",
      "INFO - Date span set to: 1Y\n",
      "INFO - \n",
      "Series metadata: \n",
      " {'units': 'Thousand', 'original_source': 'National Association of Realtors', 'title': 'United States Existing Home Sales', 'indicator': 'existing home sales', 'country': 'united states', 'source': 'Trading Economics', 'id': 'united-states/existing-home-sales'}\n"
     ]
    },
    {
     "name": "stdout",
     "output_type": "stream",
     "text": [
      "Using selenium and tooltip scraping to construct the date time index for the time-series, this'll take a bit...\n",
      "Attempting to select chart type:  Spline clicking top button....\n"
     ]
    },
    {
     "name": "stderr",
     "output_type": "stream",
     "text": [
      "INFO - Chart type set to: Spline\n"
     ]
    },
    {
     "name": "stdout",
     "output_type": "stream",
     "text": [
      "Time taken to select chart type: 3.2657594999764115\n",
      "Time taken to load JS code: 0.00037700007669627666\n",
      "Time taken to execute JS code: 2.915355399949476\n",
      "Latest dates:  ['Jan 2025', 'Dec 2024', 'Nov 2024', 'Oct 2024', 'Sep 2024', 'Aug 2024', 'Jul 2024', 'Jun 2024', 'May 2024', 'Apr 2024']\n",
      "Frequency of time-series:  MS\n",
      "get_xlims_from_tooltips method: date_span:  1Y , chart_type: splineChart\n",
      "Attempting to select chart type:  Spline clicking top button....\n"
     ]
    },
    {
     "name": "stderr",
     "output_type": "stream",
     "text": [
      "INFO - Chart type set to: Spline\n"
     ]
    },
    {
     "name": "stdout",
     "output_type": "stream",
     "text": [
      "Got chart dimensions and plot background element.\n"
     ]
    },
    {
     "name": "stderr",
     "output_type": "stream",
     "text": [
      "INFO - Start and end values scraped from tooltips: \n",
      "{'start_date': Timestamp('1968-01-01 00:00:00'), 'start_value': 1420.0, 'end_date': Timestamp('2025-01-01 00:00:00'), 'end_value': 4080.0}\n",
      "INFO - DateTimeIndex created successfully for the time-series.\n",
      "INFO -  Using mixed scraping approach, slowest, highest accuracy. Splitting x_index into subIndexes        Total points: 685, Max chunk size: 450, Number of chunks: 2, remainder: 1\n",
      "INFO - x_index Start date: 1968-01-01 00:00:00, End date: 2025-01-01 00:00:00\n",
      "INFO - SubIndex 0: 342 points, from 1968-01-01 00:00:00 to 1996-06-01 00:00:00, frequency: MS\n"
     ]
    },
    {
     "name": "stdout",
     "output_type": "stream",
     "text": [
      "Attempting to select chart type:  Spline clicking top button....\n"
     ]
    },
    {
     "name": "stderr",
     "output_type": "stream",
     "text": [
      "INFO - Chart type set to: Spline\n"
     ]
    },
    {
     "name": "stdout",
     "output_type": "stream",
     "text": [
      "Time taken to select chart type: 3.720568499993533\n",
      "Time taken to load JS code: 0.0003309999592602253\n"
     ]
    },
    {
     "name": "stderr",
     "output_type": "stream",
     "text": [
      "INFO - SubIndex 1: 343 points, from 1996-07-01 00:00:00 to 2025-01-01 00:00:00, frequency: MS\n"
     ]
    },
    {
     "name": "stdout",
     "output_type": "stream",
     "text": [
      "Time taken to execute JS code: 10.28964460012503\n",
      "Attempting to select chart type:  Spline clicking top button....\n"
     ]
    },
    {
     "name": "stderr",
     "output_type": "stream",
     "text": [
      "INFO - Chart type set to: Spline\n"
     ]
    },
    {
     "name": "stdout",
     "output_type": "stream",
     "text": [
      "Time taken to select chart type: 3.291638300055638\n",
      "Time taken to load JS code: 0.00043029990047216415\n"
     ]
    },
    {
     "name": "stderr",
     "output_type": "stream",
     "text": [
      "INFO - Successfully scraped full series from tooltips.\n",
      "INFO - Successfully scraped full series using mixed method.\n"
     ]
    },
    {
     "name": "stdout",
     "output_type": "stream",
     "text": [
      "Time taken to execute JS code: 10.304210599977523\n"
     ]
    }
   ],
   "source": [
    "scrup = ted.scrape_chart(id = \"existing-home-sales\", method = \"mixed\", use_existing_driver=True, headless=True) ## Using chart id from the url only, country is \"united-states\" by default."
   ]
  },
  {
   "cell_type": "code",
   "execution_count": 5,
   "metadata": {},
   "outputs": [
    {
     "name": "stderr",
     "output_type": "stream",
     "text": [
      "INFO - New firefox webdriver created.\n",
      "INFO - scrape_chart function: Scraping chart at: https://tradingeconomics.com/united-states/business-confidence, time: 2025-02-27 12:34:34.335391, method: path\n",
      "INFO - Chart types dictionary created successfully: dict_keys(['Column', 'Spline', 'Areaspline', 'Stepline', 'Line', 'Area'])\n",
      "INFO - Date span set to: 1Y\n",
      "INFO - \n",
      "Series metadata: \n",
      " {'units': 'points', 'original_source': 'Institute for Supply Management', 'title': 'United States ISM Manufacturing PMI', 'indicator': 'business confidence', 'country': 'united states', 'source': 'Trading Economics', 'id': 'united-states/business-confidence'}\n"
     ]
    },
    {
     "name": "stdout",
     "output_type": "stream",
     "text": [
      "Using selenium and tooltip scraping to construct the date time index for the time-series, this'll take a bit...\n",
      "Attempting to select chart type:  Spline clicking top button....\n"
     ]
    },
    {
     "name": "stderr",
     "output_type": "stream",
     "text": [
      "INFO - Chart type set to: Spline\n"
     ]
    },
    {
     "name": "stdout",
     "output_type": "stream",
     "text": [
      "Time taken to select chart type: 3.4131791529944167\n",
      "Time taken to load JS code: 0.0008303109789267182\n",
      "Time taken to execute JS code: 2.767069596971851\n",
      "Latest dates:  ['Jan 2025', 'Dec 2024', 'Nov 2024', 'Oct 2024', 'Sep 2024', 'Aug 2024', 'Jul 2024', 'Jun 2024', 'May 2024', 'Apr 2024']\n",
      "Frequency of time-series:  MS\n",
      "get_xlims_from_tooltips method: date_span:  1Y , chart_type: splineChart\n",
      "Attempting to select chart type:  Spline clicking top button....\n"
     ]
    },
    {
     "name": "stderr",
     "output_type": "stream",
     "text": [
      "INFO - Chart type set to: Spline\n"
     ]
    },
    {
     "name": "stdout",
     "output_type": "stream",
     "text": [
      "Got chart dimensions and plot background element.\n"
     ]
    },
    {
     "name": "stderr",
     "output_type": "stream",
     "text": [
      "INFO - Start and end values scraped from tooltips: \n",
      "{'start_date': Timestamp('1948-01-01 00:00:00'), 'start_value': 51.7, 'end_date': Timestamp('2025-01-01 00:00:00'), 'end_value': 50.9}\n",
      "INFO - DateTimeIndex created successfully for the time-series.\n",
      "INFO - Y-axis values scraped successfully.\n",
      "INFO - Series path extraction method: Extracting series data from chart soup.\n",
      "INFO - Date span: MAX. Chart type: splineChart, URL: https://tradingeconomics.com/united-states/business-confidence.\n",
      "INFO - DateTimeIndex applied to series, series attribute updated.\n",
      "INFO - Successfully scaled series.\n",
      "INFO - Successfully scraped time-series from chart at:  https://tradingeconomics.com/united-states/business-confidence, now getting some metadata...\n"
     ]
    },
    {
     "name": "stdout",
     "output_type": "stream",
     "text": [
      "Got metadata. \n",
      "\n",
      "Series tail: 2024-09-01    47.5\n",
      "2024-10-01    46.9\n",
      "2024-11-01    48.4\n",
      "2024-12-01    49.2\n",
      "2025-01-01    50.9\n",
      "Freq: MS, Name: business confidence, dtype: float64 \n",
      "\n",
      "Scraping complete! Happy pirating yo!\n"
     ]
    }
   ],
   "source": [
    "scrud = ted.scrape_chart(id = \"business-confidence\", method = \"path\", use_existing_driver=True, headless=True) ## Using chart id from the url only, country is \"united-states\" by default."
   ]
  },
  {
   "cell_type": "code",
   "execution_count": 11,
   "metadata": {},
   "outputs": [],
   "source": [
    "pathout = scrud.series.copy()"
   ]
  },
  {
   "cell_type": "code",
   "execution_count": 7,
   "metadata": {},
   "outputs": [
    {
     "name": "stderr",
     "output_type": "stream",
     "text": [
      "INFO - scrape_chart function: Scraping chart at: https://tradingeconomics.com/united-states/business-confidence, time: 2025-02-27 12:35:23.661143, method: tooltips\n",
      "INFO - Chart types dictionary created successfully: dict_keys(['Column', 'Spline', 'Areaspline', 'Stepline', 'Line', 'Area'])\n",
      "INFO - Date span set to: 1Y\n",
      "INFO - \n",
      "Series metadata: \n",
      " {'units': 'points', 'original_source': 'Institute for Supply Management', 'title': 'United States ISM Manufacturing PMI', 'indicator': 'business confidence', 'country': 'united states', 'source': 'Trading Economics', 'id': 'united-states/business-confidence'}\n",
      "INFO - TooltipScraper object initialised successfully.\n"
     ]
    },
    {
     "name": "stdout",
     "output_type": "stream",
     "text": [
      "Attempting to select chart type:  Spline clicking top button....\n"
     ]
    },
    {
     "name": "stderr",
     "output_type": "stream",
     "text": [
      "INFO - Chart type set to: Spline\n"
     ]
    },
    {
     "name": "stdout",
     "output_type": "stream",
     "text": [
      "Attempting to select chart type:  Spline clicking top button....\n"
     ]
    },
    {
     "name": "stderr",
     "output_type": "stream",
     "text": [
      "INFO - Chart type set to: Spline\n"
     ]
    },
    {
     "name": "stdout",
     "output_type": "stream",
     "text": [
      "Time taken to select chart type: 3.6670467729563825\n",
      "Time taken to load JS code: 0.0003956090076826513\n"
     ]
    },
    {
     "name": "stderr",
     "output_type": "stream",
     "text": [
      "INFO - Successfully scraped full series from tooltips.\n",
      "INFO - Frequency of the series is unknown or irregular, the tooltip scraping may have missed points. Retry scraping using 'path' method instead of 'tooltips'.\n",
      "INFO - Successfully scraped full series from tooltips.\n"
     ]
    },
    {
     "name": "stdout",
     "output_type": "stream",
     "text": [
      "Time taken to execute JS code: 5.770707030023914\n"
     ]
    }
   ],
   "source": [
    "scruf = ted.scrape_chart(id = \"business-confidence\", method = \"tooltips\", use_existing_driver=True, headless=True) ## Using chart id from the url only, country is \"united-states\" by default."
   ]
  },
  {
   "cell_type": "code",
   "execution_count": 11,
   "metadata": {},
   "outputs": [
    {
     "data": {
      "text/plain": [
       "1968-01-01    1420.0\n",
       "1968-02-01    1500.0\n",
       "1968-03-01    1550.0\n",
       "1968-04-01    1470.0\n",
       "1968-05-01    1510.0\n",
       "               ...  \n",
       "2024-09-01    3830.0\n",
       "2024-10-01    3960.0\n",
       "2024-11-01    4150.0\n",
       "2024-12-01    4290.0\n",
       "2025-01-01    4080.0\n",
       "Length: 682, dtype: float64"
      ]
     },
     "execution_count": 11,
     "metadata": {},
     "output_type": "execute_result"
    }
   ],
   "source": [
    "scrup.series"
   ]
  },
  {
   "cell_type": "code",
   "execution_count": 12,
   "metadata": {},
   "outputs": [
    {
     "data": {
      "application/vnd.plotly.v1+json": {
       "config": {
        "plotlyServerURL": "https://plot.ly"
       },
       "data": [
        {
         "hovertemplate": "variable=0<br>index=%{x}<br>value=%{y}<extra></extra>",
         "legendgroup": "0",
         "line": {
          "color": "#636efa",
          "dash": "solid"
         },
         "marker": {
          "symbol": "circle"
         },
         "mode": "lines",
         "name": "0",
         "orientation": "v",
         "showlegend": true,
         "type": "scatter",
         "x": [
          "1968-01-01T00:00:00.000000000",
          "1968-02-01T00:00:00.000000000",
          "1968-03-01T00:00:00.000000000",
          "1968-04-01T00:00:00.000000000",
          "1968-05-01T00:00:00.000000000",
          "1968-06-01T00:00:00.000000000",
          "1968-07-01T00:00:00.000000000",
          "1968-08-01T00:00:00.000000000",
          "1968-09-01T00:00:00.000000000",
          "1968-10-01T00:00:00.000000000",
          "1968-11-01T00:00:00.000000000",
          "1968-12-01T00:00:00.000000000",
          "1969-01-01T00:00:00.000000000",
          "1969-02-01T00:00:00.000000000",
          "1969-03-01T00:00:00.000000000",
          "1969-04-01T00:00:00.000000000",
          "1969-05-01T00:00:00.000000000",
          "1969-06-01T00:00:00.000000000",
          "1969-07-01T00:00:00.000000000",
          "1969-08-01T00:00:00.000000000",
          "1969-09-01T00:00:00.000000000",
          "1969-10-01T00:00:00.000000000",
          "1969-11-01T00:00:00.000000000",
          "1969-12-01T00:00:00.000000000",
          "1970-01-01T00:00:00.000000000",
          "1970-02-01T00:00:00.000000000",
          "1970-03-01T00:00:00.000000000",
          "1970-04-01T00:00:00.000000000",
          "1970-05-01T00:00:00.000000000",
          "1970-06-01T00:00:00.000000000",
          "1970-07-01T00:00:00.000000000",
          "1970-08-01T00:00:00.000000000",
          "1970-09-01T00:00:00.000000000",
          "1970-10-01T00:00:00.000000000",
          "1970-11-01T00:00:00.000000000",
          "1970-12-01T00:00:00.000000000",
          "1971-01-01T00:00:00.000000000",
          "1971-02-01T00:00:00.000000000",
          "1971-03-01T00:00:00.000000000",
          "1971-04-01T00:00:00.000000000",
          "1971-05-01T00:00:00.000000000",
          "1971-06-01T00:00:00.000000000",
          "1971-07-01T00:00:00.000000000",
          "1971-08-01T00:00:00.000000000",
          "1971-09-01T00:00:00.000000000",
          "1971-10-01T00:00:00.000000000",
          "1971-11-01T00:00:00.000000000",
          "1971-12-01T00:00:00.000000000",
          "1972-01-01T00:00:00.000000000",
          "1972-02-01T00:00:00.000000000",
          "1972-03-01T00:00:00.000000000",
          "1972-04-01T00:00:00.000000000",
          "1972-05-01T00:00:00.000000000",
          "1972-06-01T00:00:00.000000000",
          "1972-07-01T00:00:00.000000000",
          "1972-08-01T00:00:00.000000000",
          "1972-09-01T00:00:00.000000000",
          "1972-10-01T00:00:00.000000000",
          "1972-11-01T00:00:00.000000000",
          "1972-12-01T00:00:00.000000000",
          "1973-01-01T00:00:00.000000000",
          "1973-02-01T00:00:00.000000000",
          "1973-03-01T00:00:00.000000000",
          "1973-04-01T00:00:00.000000000",
          "1973-05-01T00:00:00.000000000",
          "1973-06-01T00:00:00.000000000",
          "1973-07-01T00:00:00.000000000",
          "1973-08-01T00:00:00.000000000",
          "1973-09-01T00:00:00.000000000",
          "1973-10-01T00:00:00.000000000",
          "1973-11-01T00:00:00.000000000",
          "1973-12-01T00:00:00.000000000",
          "1974-01-01T00:00:00.000000000",
          "1974-02-01T00:00:00.000000000",
          "1974-03-01T00:00:00.000000000",
          "1974-04-01T00:00:00.000000000",
          "1974-05-01T00:00:00.000000000",
          "1974-06-01T00:00:00.000000000",
          "1974-07-01T00:00:00.000000000",
          "1974-08-01T00:00:00.000000000",
          "1974-09-01T00:00:00.000000000",
          "1974-10-01T00:00:00.000000000",
          "1974-11-01T00:00:00.000000000",
          "1974-12-01T00:00:00.000000000",
          "1975-01-01T00:00:00.000000000",
          "1975-02-01T00:00:00.000000000",
          "1975-03-01T00:00:00.000000000",
          "1975-04-01T00:00:00.000000000",
          "1975-05-01T00:00:00.000000000",
          "1975-06-01T00:00:00.000000000",
          "1975-07-01T00:00:00.000000000",
          "1975-08-01T00:00:00.000000000",
          "1975-09-01T00:00:00.000000000",
          "1975-10-01T00:00:00.000000000",
          "1975-11-01T00:00:00.000000000",
          "1975-12-01T00:00:00.000000000",
          "1976-01-01T00:00:00.000000000",
          "1976-02-01T00:00:00.000000000",
          "1976-03-01T00:00:00.000000000",
          "1976-04-01T00:00:00.000000000",
          "1976-05-01T00:00:00.000000000",
          "1976-06-01T00:00:00.000000000",
          "1976-07-01T00:00:00.000000000",
          "1976-08-01T00:00:00.000000000",
          "1976-09-01T00:00:00.000000000",
          "1976-10-01T00:00:00.000000000",
          "1976-11-01T00:00:00.000000000",
          "1976-12-01T00:00:00.000000000",
          "1977-01-01T00:00:00.000000000",
          "1977-02-01T00:00:00.000000000",
          "1977-03-01T00:00:00.000000000",
          "1977-04-01T00:00:00.000000000",
          "1977-05-01T00:00:00.000000000",
          "1977-06-01T00:00:00.000000000",
          "1977-07-01T00:00:00.000000000",
          "1977-08-01T00:00:00.000000000",
          "1977-09-01T00:00:00.000000000",
          "1977-10-01T00:00:00.000000000",
          "1977-11-01T00:00:00.000000000",
          "1977-12-01T00:00:00.000000000",
          "1978-01-01T00:00:00.000000000",
          "1978-02-01T00:00:00.000000000",
          "1978-03-01T00:00:00.000000000",
          "1978-04-01T00:00:00.000000000",
          "1978-05-01T00:00:00.000000000",
          "1978-06-01T00:00:00.000000000",
          "1978-07-01T00:00:00.000000000",
          "1978-08-01T00:00:00.000000000",
          "1978-09-01T00:00:00.000000000",
          "1978-10-01T00:00:00.000000000",
          "1978-11-01T00:00:00.000000000",
          "1978-12-01T00:00:00.000000000",
          "1979-01-01T00:00:00.000000000",
          "1979-02-01T00:00:00.000000000",
          "1979-03-01T00:00:00.000000000",
          "1979-04-01T00:00:00.000000000",
          "1979-05-01T00:00:00.000000000",
          "1979-06-01T00:00:00.000000000",
          "1979-07-01T00:00:00.000000000",
          "1979-08-01T00:00:00.000000000",
          "1979-09-01T00:00:00.000000000",
          "1979-10-01T00:00:00.000000000",
          "1979-11-01T00:00:00.000000000",
          "1979-12-01T00:00:00.000000000",
          "1980-01-01T00:00:00.000000000",
          "1980-02-01T00:00:00.000000000",
          "1980-03-01T00:00:00.000000000",
          "1980-04-01T00:00:00.000000000",
          "1980-05-01T00:00:00.000000000",
          "1980-06-01T00:00:00.000000000",
          "1980-07-01T00:00:00.000000000",
          "1980-08-01T00:00:00.000000000",
          "1980-09-01T00:00:00.000000000",
          "1980-10-01T00:00:00.000000000",
          "1980-11-01T00:00:00.000000000",
          "1980-12-01T00:00:00.000000000",
          "1981-01-01T00:00:00.000000000",
          "1981-02-01T00:00:00.000000000",
          "1981-03-01T00:00:00.000000000",
          "1981-04-01T00:00:00.000000000",
          "1981-05-01T00:00:00.000000000",
          "1981-06-01T00:00:00.000000000",
          "1981-07-01T00:00:00.000000000",
          "1981-08-01T00:00:00.000000000",
          "1981-09-01T00:00:00.000000000",
          "1981-10-01T00:00:00.000000000",
          "1981-11-01T00:00:00.000000000",
          "1981-12-01T00:00:00.000000000",
          "1982-01-01T00:00:00.000000000",
          "1982-02-01T00:00:00.000000000",
          "1982-03-01T00:00:00.000000000",
          "1982-04-01T00:00:00.000000000",
          "1982-05-01T00:00:00.000000000",
          "1982-06-01T00:00:00.000000000",
          "1982-07-01T00:00:00.000000000",
          "1982-08-01T00:00:00.000000000",
          "1982-09-01T00:00:00.000000000",
          "1982-10-01T00:00:00.000000000",
          "1982-11-01T00:00:00.000000000",
          "1982-12-01T00:00:00.000000000",
          "1983-01-01T00:00:00.000000000",
          "1983-02-01T00:00:00.000000000",
          "1983-03-01T00:00:00.000000000",
          "1983-04-01T00:00:00.000000000",
          "1983-05-01T00:00:00.000000000",
          "1983-06-01T00:00:00.000000000",
          "1983-07-01T00:00:00.000000000",
          "1983-08-01T00:00:00.000000000",
          "1983-09-01T00:00:00.000000000",
          "1983-10-01T00:00:00.000000000",
          "1983-11-01T00:00:00.000000000",
          "1983-12-01T00:00:00.000000000",
          "1984-01-01T00:00:00.000000000",
          "1984-02-01T00:00:00.000000000",
          "1984-03-01T00:00:00.000000000",
          "1984-04-01T00:00:00.000000000",
          "1984-05-01T00:00:00.000000000",
          "1984-06-01T00:00:00.000000000",
          "1984-07-01T00:00:00.000000000",
          "1984-08-01T00:00:00.000000000",
          "1984-09-01T00:00:00.000000000",
          "1984-10-01T00:00:00.000000000",
          "1984-11-01T00:00:00.000000000",
          "1984-12-01T00:00:00.000000000",
          "1985-01-01T00:00:00.000000000",
          "1985-02-01T00:00:00.000000000",
          "1985-03-01T00:00:00.000000000",
          "1985-04-01T00:00:00.000000000",
          "1985-05-01T00:00:00.000000000",
          "1985-06-01T00:00:00.000000000",
          "1985-07-01T00:00:00.000000000",
          "1985-08-01T00:00:00.000000000",
          "1985-09-01T00:00:00.000000000",
          "1985-10-01T00:00:00.000000000",
          "1985-11-01T00:00:00.000000000",
          "1985-12-01T00:00:00.000000000",
          "1986-01-01T00:00:00.000000000",
          "1986-02-01T00:00:00.000000000",
          "1986-03-01T00:00:00.000000000",
          "1986-04-01T00:00:00.000000000",
          "1986-05-01T00:00:00.000000000",
          "1986-06-01T00:00:00.000000000",
          "1986-07-01T00:00:00.000000000",
          "1986-08-01T00:00:00.000000000",
          "1986-09-01T00:00:00.000000000",
          "1986-10-01T00:00:00.000000000",
          "1986-11-01T00:00:00.000000000",
          "1986-12-01T00:00:00.000000000",
          "1987-01-01T00:00:00.000000000",
          "1987-02-01T00:00:00.000000000",
          "1987-03-01T00:00:00.000000000",
          "1987-04-01T00:00:00.000000000",
          "1987-05-01T00:00:00.000000000",
          "1987-06-01T00:00:00.000000000",
          "1987-07-01T00:00:00.000000000",
          "1987-08-01T00:00:00.000000000",
          "1987-09-01T00:00:00.000000000",
          "1987-10-01T00:00:00.000000000",
          "1987-11-01T00:00:00.000000000",
          "1987-12-01T00:00:00.000000000",
          "1988-01-01T00:00:00.000000000",
          "1988-02-01T00:00:00.000000000",
          "1988-03-01T00:00:00.000000000",
          "1988-04-01T00:00:00.000000000",
          "1988-05-01T00:00:00.000000000",
          "1988-06-01T00:00:00.000000000",
          "1988-07-01T00:00:00.000000000",
          "1988-08-01T00:00:00.000000000",
          "1988-09-01T00:00:00.000000000",
          "1988-10-01T00:00:00.000000000",
          "1988-11-01T00:00:00.000000000",
          "1988-12-01T00:00:00.000000000",
          "1989-01-01T00:00:00.000000000",
          "1989-02-01T00:00:00.000000000",
          "1989-03-01T00:00:00.000000000",
          "1989-04-01T00:00:00.000000000",
          "1989-05-01T00:00:00.000000000",
          "1989-06-01T00:00:00.000000000",
          "1989-07-01T00:00:00.000000000",
          "1989-08-01T00:00:00.000000000",
          "1989-09-01T00:00:00.000000000",
          "1989-10-01T00:00:00.000000000",
          "1989-11-01T00:00:00.000000000",
          "1989-12-01T00:00:00.000000000",
          "1990-01-01T00:00:00.000000000",
          "1990-02-01T00:00:00.000000000",
          "1990-03-01T00:00:00.000000000",
          "1990-04-01T00:00:00.000000000",
          "1990-05-01T00:00:00.000000000",
          "1990-06-01T00:00:00.000000000",
          "1990-07-01T00:00:00.000000000",
          "1990-08-01T00:00:00.000000000",
          "1990-09-01T00:00:00.000000000",
          "1990-10-01T00:00:00.000000000",
          "1990-11-01T00:00:00.000000000",
          "1990-12-01T00:00:00.000000000",
          "1991-01-01T00:00:00.000000000",
          "1991-02-01T00:00:00.000000000",
          "1991-03-01T00:00:00.000000000",
          "1991-04-01T00:00:00.000000000",
          "1991-05-01T00:00:00.000000000",
          "1991-06-01T00:00:00.000000000",
          "1991-07-01T00:00:00.000000000",
          "1991-08-01T00:00:00.000000000",
          "1991-09-01T00:00:00.000000000",
          "1991-10-01T00:00:00.000000000",
          "1991-11-01T00:00:00.000000000",
          "1991-12-01T00:00:00.000000000",
          "1992-01-01T00:00:00.000000000",
          "1992-02-01T00:00:00.000000000",
          "1992-03-01T00:00:00.000000000",
          "1992-04-01T00:00:00.000000000",
          "1992-05-01T00:00:00.000000000",
          "1992-06-01T00:00:00.000000000",
          "1992-07-01T00:00:00.000000000",
          "1992-08-01T00:00:00.000000000",
          "1992-09-01T00:00:00.000000000",
          "1992-10-01T00:00:00.000000000",
          "1992-11-01T00:00:00.000000000",
          "1992-12-01T00:00:00.000000000",
          "1993-01-01T00:00:00.000000000",
          "1993-02-01T00:00:00.000000000",
          "1993-03-01T00:00:00.000000000",
          "1993-04-01T00:00:00.000000000",
          "1993-05-01T00:00:00.000000000",
          "1993-06-01T00:00:00.000000000",
          "1993-07-01T00:00:00.000000000",
          "1993-08-01T00:00:00.000000000",
          "1993-09-01T00:00:00.000000000",
          "1993-10-01T00:00:00.000000000",
          "1993-11-01T00:00:00.000000000",
          "1993-12-01T00:00:00.000000000",
          "1994-01-01T00:00:00.000000000",
          "1994-02-01T00:00:00.000000000",
          "1994-03-01T00:00:00.000000000",
          "1994-04-01T00:00:00.000000000",
          "1994-05-01T00:00:00.000000000",
          "1994-06-01T00:00:00.000000000",
          "1994-07-01T00:00:00.000000000",
          "1994-08-01T00:00:00.000000000",
          "1994-09-01T00:00:00.000000000",
          "1994-10-01T00:00:00.000000000",
          "1994-11-01T00:00:00.000000000",
          "1994-12-01T00:00:00.000000000",
          "1995-01-01T00:00:00.000000000",
          "1995-02-01T00:00:00.000000000",
          "1995-03-01T00:00:00.000000000",
          "1995-04-01T00:00:00.000000000",
          "1995-05-01T00:00:00.000000000",
          "1995-06-01T00:00:00.000000000",
          "1995-07-01T00:00:00.000000000",
          "1995-08-01T00:00:00.000000000",
          "1995-09-01T00:00:00.000000000",
          "1995-10-01T00:00:00.000000000",
          "1995-11-01T00:00:00.000000000",
          "1995-12-01T00:00:00.000000000",
          "1996-01-01T00:00:00.000000000",
          "1996-02-01T00:00:00.000000000",
          "1996-03-01T00:00:00.000000000",
          "1996-04-01T00:00:00.000000000",
          "1996-08-01T00:00:00.000000000",
          "1996-09-01T00:00:00.000000000",
          "1996-10-01T00:00:00.000000000",
          "1996-11-01T00:00:00.000000000",
          "1996-12-01T00:00:00.000000000",
          "1997-01-01T00:00:00.000000000",
          "1997-02-01T00:00:00.000000000",
          "1997-03-01T00:00:00.000000000",
          "1997-04-01T00:00:00.000000000",
          "1997-05-01T00:00:00.000000000",
          "1997-06-01T00:00:00.000000000",
          "1997-07-01T00:00:00.000000000",
          "1997-08-01T00:00:00.000000000",
          "1997-09-01T00:00:00.000000000",
          "1997-10-01T00:00:00.000000000",
          "1997-11-01T00:00:00.000000000",
          "1997-12-01T00:00:00.000000000",
          "1998-01-01T00:00:00.000000000",
          "1998-02-01T00:00:00.000000000",
          "1998-03-01T00:00:00.000000000",
          "1998-04-01T00:00:00.000000000",
          "1998-05-01T00:00:00.000000000",
          "1998-06-01T00:00:00.000000000",
          "1998-07-01T00:00:00.000000000",
          "1998-08-01T00:00:00.000000000",
          "1998-09-01T00:00:00.000000000",
          "1998-10-01T00:00:00.000000000",
          "1998-11-01T00:00:00.000000000",
          "1998-12-01T00:00:00.000000000",
          "1999-01-01T00:00:00.000000000",
          "1999-02-01T00:00:00.000000000",
          "1999-03-01T00:00:00.000000000",
          "1999-04-01T00:00:00.000000000",
          "1999-05-01T00:00:00.000000000",
          "1999-06-01T00:00:00.000000000",
          "1999-07-01T00:00:00.000000000",
          "1999-08-01T00:00:00.000000000",
          "1999-09-01T00:00:00.000000000",
          "1999-10-01T00:00:00.000000000",
          "1999-11-01T00:00:00.000000000",
          "1999-12-01T00:00:00.000000000",
          "2000-01-01T00:00:00.000000000",
          "2000-02-01T00:00:00.000000000",
          "2000-03-01T00:00:00.000000000",
          "2000-04-01T00:00:00.000000000",
          "2000-05-01T00:00:00.000000000",
          "2000-06-01T00:00:00.000000000",
          "2000-07-01T00:00:00.000000000",
          "2000-08-01T00:00:00.000000000",
          "2000-09-01T00:00:00.000000000",
          "2000-10-01T00:00:00.000000000",
          "2000-11-01T00:00:00.000000000",
          "2000-12-01T00:00:00.000000000",
          "2001-01-01T00:00:00.000000000",
          "2001-02-01T00:00:00.000000000",
          "2001-03-01T00:00:00.000000000",
          "2001-04-01T00:00:00.000000000",
          "2001-05-01T00:00:00.000000000",
          "2001-06-01T00:00:00.000000000",
          "2001-07-01T00:00:00.000000000",
          "2001-08-01T00:00:00.000000000",
          "2001-09-01T00:00:00.000000000",
          "2001-10-01T00:00:00.000000000",
          "2001-11-01T00:00:00.000000000",
          "2001-12-01T00:00:00.000000000",
          "2002-01-01T00:00:00.000000000",
          "2002-02-01T00:00:00.000000000",
          "2002-03-01T00:00:00.000000000",
          "2002-04-01T00:00:00.000000000",
          "2002-05-01T00:00:00.000000000",
          "2002-06-01T00:00:00.000000000",
          "2002-07-01T00:00:00.000000000",
          "2002-08-01T00:00:00.000000000",
          "2002-09-01T00:00:00.000000000",
          "2002-10-01T00:00:00.000000000",
          "2002-11-01T00:00:00.000000000",
          "2002-12-01T00:00:00.000000000",
          "2003-01-01T00:00:00.000000000",
          "2003-02-01T00:00:00.000000000",
          "2003-03-01T00:00:00.000000000",
          "2003-04-01T00:00:00.000000000",
          "2003-05-01T00:00:00.000000000",
          "2003-06-01T00:00:00.000000000",
          "2003-07-01T00:00:00.000000000",
          "2003-08-01T00:00:00.000000000",
          "2003-09-01T00:00:00.000000000",
          "2003-10-01T00:00:00.000000000",
          "2003-11-01T00:00:00.000000000",
          "2003-12-01T00:00:00.000000000",
          "2004-01-01T00:00:00.000000000",
          "2004-02-01T00:00:00.000000000",
          "2004-03-01T00:00:00.000000000",
          "2004-04-01T00:00:00.000000000",
          "2004-05-01T00:00:00.000000000",
          "2004-06-01T00:00:00.000000000",
          "2004-07-01T00:00:00.000000000",
          "2004-08-01T00:00:00.000000000",
          "2004-09-01T00:00:00.000000000",
          "2004-10-01T00:00:00.000000000",
          "2004-11-01T00:00:00.000000000",
          "2004-12-01T00:00:00.000000000",
          "2005-01-01T00:00:00.000000000",
          "2005-02-01T00:00:00.000000000",
          "2005-03-01T00:00:00.000000000",
          "2005-04-01T00:00:00.000000000",
          "2005-05-01T00:00:00.000000000",
          "2005-06-01T00:00:00.000000000",
          "2005-07-01T00:00:00.000000000",
          "2005-08-01T00:00:00.000000000",
          "2005-09-01T00:00:00.000000000",
          "2005-10-01T00:00:00.000000000",
          "2005-11-01T00:00:00.000000000",
          "2005-12-01T00:00:00.000000000",
          "2006-01-01T00:00:00.000000000",
          "2006-02-01T00:00:00.000000000",
          "2006-03-01T00:00:00.000000000",
          "2006-04-01T00:00:00.000000000",
          "2006-05-01T00:00:00.000000000",
          "2006-06-01T00:00:00.000000000",
          "2006-07-01T00:00:00.000000000",
          "2006-08-01T00:00:00.000000000",
          "2006-09-01T00:00:00.000000000",
          "2006-10-01T00:00:00.000000000",
          "2006-11-01T00:00:00.000000000",
          "2006-12-01T00:00:00.000000000",
          "2007-01-01T00:00:00.000000000",
          "2007-02-01T00:00:00.000000000",
          "2007-03-01T00:00:00.000000000",
          "2007-04-01T00:00:00.000000000",
          "2007-05-01T00:00:00.000000000",
          "2007-06-01T00:00:00.000000000",
          "2007-07-01T00:00:00.000000000",
          "2007-08-01T00:00:00.000000000",
          "2007-09-01T00:00:00.000000000",
          "2007-10-01T00:00:00.000000000",
          "2007-11-01T00:00:00.000000000",
          "2007-12-01T00:00:00.000000000",
          "2008-01-01T00:00:00.000000000",
          "2008-02-01T00:00:00.000000000",
          "2008-03-01T00:00:00.000000000",
          "2008-04-01T00:00:00.000000000",
          "2008-05-01T00:00:00.000000000",
          "2008-06-01T00:00:00.000000000",
          "2008-07-01T00:00:00.000000000",
          "2008-08-01T00:00:00.000000000",
          "2008-09-01T00:00:00.000000000",
          "2008-10-01T00:00:00.000000000",
          "2008-11-01T00:00:00.000000000",
          "2008-12-01T00:00:00.000000000",
          "2009-01-01T00:00:00.000000000",
          "2009-02-01T00:00:00.000000000",
          "2009-03-01T00:00:00.000000000",
          "2009-04-01T00:00:00.000000000",
          "2009-05-01T00:00:00.000000000",
          "2009-06-01T00:00:00.000000000",
          "2009-07-01T00:00:00.000000000",
          "2009-08-01T00:00:00.000000000",
          "2009-09-01T00:00:00.000000000",
          "2009-10-01T00:00:00.000000000",
          "2009-11-01T00:00:00.000000000",
          "2009-12-01T00:00:00.000000000",
          "2010-01-01T00:00:00.000000000",
          "2010-02-01T00:00:00.000000000",
          "2010-03-01T00:00:00.000000000",
          "2010-04-01T00:00:00.000000000",
          "2010-05-01T00:00:00.000000000",
          "2010-06-01T00:00:00.000000000",
          "2010-07-01T00:00:00.000000000",
          "2010-08-01T00:00:00.000000000",
          "2010-09-01T00:00:00.000000000",
          "2010-10-01T00:00:00.000000000",
          "2010-11-01T00:00:00.000000000",
          "2010-12-01T00:00:00.000000000",
          "2011-01-01T00:00:00.000000000",
          "2011-02-01T00:00:00.000000000",
          "2011-03-01T00:00:00.000000000",
          "2011-04-01T00:00:00.000000000",
          "2011-05-01T00:00:00.000000000",
          "2011-06-01T00:00:00.000000000",
          "2011-07-01T00:00:00.000000000",
          "2011-08-01T00:00:00.000000000",
          "2011-09-01T00:00:00.000000000",
          "2011-10-01T00:00:00.000000000",
          "2011-11-01T00:00:00.000000000",
          "2011-12-01T00:00:00.000000000",
          "2012-01-01T00:00:00.000000000",
          "2012-02-01T00:00:00.000000000",
          "2012-03-01T00:00:00.000000000",
          "2012-04-01T00:00:00.000000000",
          "2012-05-01T00:00:00.000000000",
          "2012-06-01T00:00:00.000000000",
          "2012-07-01T00:00:00.000000000",
          "2012-08-01T00:00:00.000000000",
          "2012-09-01T00:00:00.000000000",
          "2012-10-01T00:00:00.000000000",
          "2012-11-01T00:00:00.000000000",
          "2012-12-01T00:00:00.000000000",
          "2013-01-01T00:00:00.000000000",
          "2013-02-01T00:00:00.000000000",
          "2013-03-01T00:00:00.000000000",
          "2013-04-01T00:00:00.000000000",
          "2013-05-01T00:00:00.000000000",
          "2013-06-01T00:00:00.000000000",
          "2013-07-01T00:00:00.000000000",
          "2013-08-01T00:00:00.000000000",
          "2013-09-01T00:00:00.000000000",
          "2013-10-01T00:00:00.000000000",
          "2013-11-01T00:00:00.000000000",
          "2013-12-01T00:00:00.000000000",
          "2014-01-01T00:00:00.000000000",
          "2014-02-01T00:00:00.000000000",
          "2014-03-01T00:00:00.000000000",
          "2014-04-01T00:00:00.000000000",
          "2014-05-01T00:00:00.000000000",
          "2014-06-01T00:00:00.000000000",
          "2014-07-01T00:00:00.000000000",
          "2014-08-01T00:00:00.000000000",
          "2014-09-01T00:00:00.000000000",
          "2014-10-01T00:00:00.000000000",
          "2014-11-01T00:00:00.000000000",
          "2014-12-01T00:00:00.000000000",
          "2015-01-01T00:00:00.000000000",
          "2015-02-01T00:00:00.000000000",
          "2015-03-01T00:00:00.000000000",
          "2015-04-01T00:00:00.000000000",
          "2015-05-01T00:00:00.000000000",
          "2015-06-01T00:00:00.000000000",
          "2015-07-01T00:00:00.000000000",
          "2015-08-01T00:00:00.000000000",
          "2015-09-01T00:00:00.000000000",
          "2015-10-01T00:00:00.000000000",
          "2015-11-01T00:00:00.000000000",
          "2015-12-01T00:00:00.000000000",
          "2016-01-01T00:00:00.000000000",
          "2016-02-01T00:00:00.000000000",
          "2016-03-01T00:00:00.000000000",
          "2016-04-01T00:00:00.000000000",
          "2016-05-01T00:00:00.000000000",
          "2016-06-01T00:00:00.000000000",
          "2016-07-01T00:00:00.000000000",
          "2016-08-01T00:00:00.000000000",
          "2016-09-01T00:00:00.000000000",
          "2016-10-01T00:00:00.000000000",
          "2016-11-01T00:00:00.000000000",
          "2016-12-01T00:00:00.000000000",
          "2017-01-01T00:00:00.000000000",
          "2017-02-01T00:00:00.000000000",
          "2017-03-01T00:00:00.000000000",
          "2017-04-01T00:00:00.000000000",
          "2017-05-01T00:00:00.000000000",
          "2017-06-01T00:00:00.000000000",
          "2017-07-01T00:00:00.000000000",
          "2017-08-01T00:00:00.000000000",
          "2017-09-01T00:00:00.000000000",
          "2017-10-01T00:00:00.000000000",
          "2017-11-01T00:00:00.000000000",
          "2017-12-01T00:00:00.000000000",
          "2018-01-01T00:00:00.000000000",
          "2018-02-01T00:00:00.000000000",
          "2018-03-01T00:00:00.000000000",
          "2018-04-01T00:00:00.000000000",
          "2018-05-01T00:00:00.000000000",
          "2018-06-01T00:00:00.000000000",
          "2018-07-01T00:00:00.000000000",
          "2018-08-01T00:00:00.000000000",
          "2018-09-01T00:00:00.000000000",
          "2018-10-01T00:00:00.000000000",
          "2018-11-01T00:00:00.000000000",
          "2018-12-01T00:00:00.000000000",
          "2019-01-01T00:00:00.000000000",
          "2019-02-01T00:00:00.000000000",
          "2019-03-01T00:00:00.000000000",
          "2019-04-01T00:00:00.000000000",
          "2019-05-01T00:00:00.000000000",
          "2019-06-01T00:00:00.000000000",
          "2019-07-01T00:00:00.000000000",
          "2019-08-01T00:00:00.000000000",
          "2019-09-01T00:00:00.000000000",
          "2019-10-01T00:00:00.000000000",
          "2019-11-01T00:00:00.000000000",
          "2019-12-01T00:00:00.000000000",
          "2020-01-01T00:00:00.000000000",
          "2020-02-01T00:00:00.000000000",
          "2020-03-01T00:00:00.000000000",
          "2020-04-01T00:00:00.000000000",
          "2020-05-01T00:00:00.000000000",
          "2020-06-01T00:00:00.000000000",
          "2020-07-01T00:00:00.000000000",
          "2020-08-01T00:00:00.000000000",
          "2020-09-01T00:00:00.000000000",
          "2020-10-01T00:00:00.000000000",
          "2020-11-01T00:00:00.000000000",
          "2020-12-01T00:00:00.000000000",
          "2021-01-01T00:00:00.000000000",
          "2021-02-01T00:00:00.000000000",
          "2021-03-01T00:00:00.000000000",
          "2021-04-01T00:00:00.000000000",
          "2021-05-01T00:00:00.000000000",
          "2021-06-01T00:00:00.000000000",
          "2021-07-01T00:00:00.000000000",
          "2021-08-01T00:00:00.000000000",
          "2021-09-01T00:00:00.000000000",
          "2021-10-01T00:00:00.000000000",
          "2021-11-01T00:00:00.000000000",
          "2021-12-01T00:00:00.000000000",
          "2022-01-01T00:00:00.000000000",
          "2022-02-01T00:00:00.000000000",
          "2022-03-01T00:00:00.000000000",
          "2022-04-01T00:00:00.000000000",
          "2022-05-01T00:00:00.000000000",
          "2022-06-01T00:00:00.000000000",
          "2022-07-01T00:00:00.000000000",
          "2022-08-01T00:00:00.000000000",
          "2022-09-01T00:00:00.000000000",
          "2022-10-01T00:00:00.000000000",
          "2022-11-01T00:00:00.000000000",
          "2022-12-01T00:00:00.000000000",
          "2023-01-01T00:00:00.000000000",
          "2023-02-01T00:00:00.000000000",
          "2023-03-01T00:00:00.000000000",
          "2023-04-01T00:00:00.000000000",
          "2023-05-01T00:00:00.000000000",
          "2023-06-01T00:00:00.000000000",
          "2023-07-01T00:00:00.000000000",
          "2023-08-01T00:00:00.000000000",
          "2023-09-01T00:00:00.000000000",
          "2023-10-01T00:00:00.000000000",
          "2023-11-01T00:00:00.000000000",
          "2023-12-01T00:00:00.000000000",
          "2024-01-01T00:00:00.000000000",
          "2024-02-01T00:00:00.000000000",
          "2024-03-01T00:00:00.000000000",
          "2024-04-01T00:00:00.000000000",
          "2024-05-01T00:00:00.000000000",
          "2024-06-01T00:00:00.000000000",
          "2024-07-01T00:00:00.000000000",
          "2024-08-01T00:00:00.000000000",
          "2024-09-01T00:00:00.000000000",
          "2024-10-01T00:00:00.000000000",
          "2024-11-01T00:00:00.000000000",
          "2024-12-01T00:00:00.000000000",
          "2025-01-01T00:00:00.000000000"
         ],
         "xaxis": "x",
         "y": {
          "bdata": "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",
          "dtype": "f8"
         },
         "yaxis": "y"
        }
       ],
       "layout": {
        "annotations": [
         {
          "align": "left",
          "bgcolor": "rgba(255, 255, 255, 0.8)",
          "bordercolor": "black",
          "borderwidth": 1,
          "font": {
           "size": 10
          },
          "showarrow": false,
          "text": "Source: Trading Economics<br>Original Source: National Association of Realtors<br>Frequency: MS<br>",
          "x": 0,
          "xanchor": "left",
          "xref": "paper",
          "y": -0.2,
          "yanchor": "bottom",
          "yref": "paper"
         }
        ],
        "legend": {
         "orientation": "h",
         "title": {
          "text": ""
         },
         "tracegroupgap": 0,
         "x": 0.5,
         "xanchor": "center",
         "y": -0.2,
         "yanchor": "bottom"
        },
        "margin": {
         "t": 60
        },
        "template": {
         "data": {
          "bar": [
           {
            "error_x": {
             "color": "#2a3f5f"
            },
            "error_y": {
             "color": "#2a3f5f"
            },
            "marker": {
             "line": {
              "color": "#E5ECF6",
              "width": 0.5
             },
             "pattern": {
              "fillmode": "overlay",
              "size": 10,
              "solidity": 0.2
             }
            },
            "type": "bar"
           }
          ],
          "barpolar": [
           {
            "marker": {
             "line": {
              "color": "#E5ECF6",
              "width": 0.5
             },
             "pattern": {
              "fillmode": "overlay",
              "size": 10,
              "solidity": 0.2
             }
            },
            "type": "barpolar"
           }
          ],
          "carpet": [
           {
            "aaxis": {
             "endlinecolor": "#2a3f5f",
             "gridcolor": "white",
             "linecolor": "white",
             "minorgridcolor": "white",
             "startlinecolor": "#2a3f5f"
            },
            "baxis": {
             "endlinecolor": "#2a3f5f",
             "gridcolor": "white",
             "linecolor": "white",
             "minorgridcolor": "white",
             "startlinecolor": "#2a3f5f"
            },
            "type": "carpet"
           }
          ],
          "choropleth": [
           {
            "colorbar": {
             "outlinewidth": 0,
             "ticks": ""
            },
            "type": "choropleth"
           }
          ],
          "contour": [
           {
            "colorbar": {
             "outlinewidth": 0,
             "ticks": ""
            },
            "colorscale": [
             [
              0,
              "#0d0887"
             ],
             [
              0.1111111111111111,
              "#46039f"
             ],
             [
              0.2222222222222222,
              "#7201a8"
             ],
             [
              0.3333333333333333,
              "#9c179e"
             ],
             [
              0.4444444444444444,
              "#bd3786"
             ],
             [
              0.5555555555555556,
              "#d8576b"
             ],
             [
              0.6666666666666666,
              "#ed7953"
             ],
             [
              0.7777777777777778,
              "#fb9f3a"
             ],
             [
              0.8888888888888888,
              "#fdca26"
             ],
             [
              1,
              "#f0f921"
             ]
            ],
            "type": "contour"
           }
          ],
          "contourcarpet": [
           {
            "colorbar": {
             "outlinewidth": 0,
             "ticks": ""
            },
            "type": "contourcarpet"
           }
          ],
          "heatmap": [
           {
            "colorbar": {
             "outlinewidth": 0,
             "ticks": ""
            },
            "colorscale": [
             [
              0,
              "#0d0887"
             ],
             [
              0.1111111111111111,
              "#46039f"
             ],
             [
              0.2222222222222222,
              "#7201a8"
             ],
             [
              0.3333333333333333,
              "#9c179e"
             ],
             [
              0.4444444444444444,
              "#bd3786"
             ],
             [
              0.5555555555555556,
              "#d8576b"
             ],
             [
              0.6666666666666666,
              "#ed7953"
             ],
             [
              0.7777777777777778,
              "#fb9f3a"
             ],
             [
              0.8888888888888888,
              "#fdca26"
             ],
             [
              1,
              "#f0f921"
             ]
            ],
            "type": "heatmap"
           }
          ],
          "histogram": [
           {
            "marker": {
             "pattern": {
              "fillmode": "overlay",
              "size": 10,
              "solidity": 0.2
             }
            },
            "type": "histogram"
           }
          ],
          "histogram2d": [
           {
            "colorbar": {
             "outlinewidth": 0,
             "ticks": ""
            },
            "colorscale": [
             [
              0,
              "#0d0887"
             ],
             [
              0.1111111111111111,
              "#46039f"
             ],
             [
              0.2222222222222222,
              "#7201a8"
             ],
             [
              0.3333333333333333,
              "#9c179e"
             ],
             [
              0.4444444444444444,
              "#bd3786"
             ],
             [
              0.5555555555555556,
              "#d8576b"
             ],
             [
              0.6666666666666666,
              "#ed7953"
             ],
             [
              0.7777777777777778,
              "#fb9f3a"
             ],
             [
              0.8888888888888888,
              "#fdca26"
             ],
             [
              1,
              "#f0f921"
             ]
            ],
            "type": "histogram2d"
           }
          ],
          "histogram2dcontour": [
           {
            "colorbar": {
             "outlinewidth": 0,
             "ticks": ""
            },
            "colorscale": [
             [
              0,
              "#0d0887"
             ],
             [
              0.1111111111111111,
              "#46039f"
             ],
             [
              0.2222222222222222,
              "#7201a8"
             ],
             [
              0.3333333333333333,
              "#9c179e"
             ],
             [
              0.4444444444444444,
              "#bd3786"
             ],
             [
              0.5555555555555556,
              "#d8576b"
             ],
             [
              0.6666666666666666,
              "#ed7953"
             ],
             [
              0.7777777777777778,
              "#fb9f3a"
             ],
             [
              0.8888888888888888,
              "#fdca26"
             ],
             [
              1,
              "#f0f921"
             ]
            ],
            "type": "histogram2dcontour"
           }
          ],
          "mesh3d": [
           {
            "colorbar": {
             "outlinewidth": 0,
             "ticks": ""
            },
            "type": "mesh3d"
           }
          ],
          "parcoords": [
           {
            "line": {
             "colorbar": {
              "outlinewidth": 0,
              "ticks": ""
             }
            },
            "type": "parcoords"
           }
          ],
          "pie": [
           {
            "automargin": true,
            "type": "pie"
           }
          ],
          "scatter": [
           {
            "fillpattern": {
             "fillmode": "overlay",
             "size": 10,
             "solidity": 0.2
            },
            "type": "scatter"
           }
          ],
          "scatter3d": [
           {
            "line": {
             "colorbar": {
              "outlinewidth": 0,
              "ticks": ""
             }
            },
            "marker": {
             "colorbar": {
              "outlinewidth": 0,
              "ticks": ""
             }
            },
            "type": "scatter3d"
           }
          ],
          "scattercarpet": [
           {
            "marker": {
             "colorbar": {
              "outlinewidth": 0,
              "ticks": ""
             }
            },
            "type": "scattercarpet"
           }
          ],
          "scattergeo": [
           {
            "marker": {
             "colorbar": {
              "outlinewidth": 0,
              "ticks": ""
             }
            },
            "type": "scattergeo"
           }
          ],
          "scattergl": [
           {
            "marker": {
             "colorbar": {
              "outlinewidth": 0,
              "ticks": ""
             }
            },
            "type": "scattergl"
           }
          ],
          "scattermap": [
           {
            "marker": {
             "colorbar": {
              "outlinewidth": 0,
              "ticks": ""
             }
            },
            "type": "scattermap"
           }
          ],
          "scattermapbox": [
           {
            "marker": {
             "colorbar": {
              "outlinewidth": 0,
              "ticks": ""
             }
            },
            "type": "scattermapbox"
           }
          ],
          "scatterpolar": [
           {
            "marker": {
             "colorbar": {
              "outlinewidth": 0,
              "ticks": ""
             }
            },
            "type": "scatterpolar"
           }
          ],
          "scatterpolargl": [
           {
            "marker": {
             "colorbar": {
              "outlinewidth": 0,
              "ticks": ""
             }
            },
            "type": "scatterpolargl"
           }
          ],
          "scatterternary": [
           {
            "marker": {
             "colorbar": {
              "outlinewidth": 0,
              "ticks": ""
             }
            },
            "type": "scatterternary"
           }
          ],
          "surface": [
           {
            "colorbar": {
             "outlinewidth": 0,
             "ticks": ""
            },
            "colorscale": [
             [
              0,
              "#0d0887"
             ],
             [
              0.1111111111111111,
              "#46039f"
             ],
             [
              0.2222222222222222,
              "#7201a8"
             ],
             [
              0.3333333333333333,
              "#9c179e"
             ],
             [
              0.4444444444444444,
              "#bd3786"
             ],
             [
              0.5555555555555556,
              "#d8576b"
             ],
             [
              0.6666666666666666,
              "#ed7953"
             ],
             [
              0.7777777777777778,
              "#fb9f3a"
             ],
             [
              0.8888888888888888,
              "#fdca26"
             ],
             [
              1,
              "#f0f921"
             ]
            ],
            "type": "surface"
           }
          ],
          "table": [
           {
            "cells": {
             "fill": {
              "color": "#EBF0F8"
             },
             "line": {
              "color": "white"
             }
            },
            "header": {
             "fill": {
              "color": "#C8D4E3"
             },
             "line": {
              "color": "white"
             }
            },
            "type": "table"
           }
          ]
         },
         "layout": {
          "annotationdefaults": {
           "arrowcolor": "#2a3f5f",
           "arrowhead": 0,
           "arrowwidth": 1
          },
          "autotypenumbers": "strict",
          "coloraxis": {
           "colorbar": {
            "outlinewidth": 0,
            "ticks": ""
           }
          },
          "colorscale": {
           "diverging": [
            [
             0,
             "#8e0152"
            ],
            [
             0.1,
             "#c51b7d"
            ],
            [
             0.2,
             "#de77ae"
            ],
            [
             0.3,
             "#f1b6da"
            ],
            [
             0.4,
             "#fde0ef"
            ],
            [
             0.5,
             "#f7f7f7"
            ],
            [
             0.6,
             "#e6f5d0"
            ],
            [
             0.7,
             "#b8e186"
            ],
            [
             0.8,
             "#7fbc41"
            ],
            [
             0.9,
             "#4d9221"
            ],
            [
             1,
             "#276419"
            ]
           ],
           "sequential": [
            [
             0,
             "#0d0887"
            ],
            [
             0.1111111111111111,
             "#46039f"
            ],
            [
             0.2222222222222222,
             "#7201a8"
            ],
            [
             0.3333333333333333,
             "#9c179e"
            ],
            [
             0.4444444444444444,
             "#bd3786"
            ],
            [
             0.5555555555555556,
             "#d8576b"
            ],
            [
             0.6666666666666666,
             "#ed7953"
            ],
            [
             0.7777777777777778,
             "#fb9f3a"
            ],
            [
             0.8888888888888888,
             "#fdca26"
            ],
            [
             1,
             "#f0f921"
            ]
           ],
           "sequentialminus": [
            [
             0,
             "#0d0887"
            ],
            [
             0.1111111111111111,
             "#46039f"
            ],
            [
             0.2222222222222222,
             "#7201a8"
            ],
            [
             0.3333333333333333,
             "#9c179e"
            ],
            [
             0.4444444444444444,
             "#bd3786"
            ],
            [
             0.5555555555555556,
             "#d8576b"
            ],
            [
             0.6666666666666666,
             "#ed7953"
            ],
            [
             0.7777777777777778,
             "#fb9f3a"
            ],
            [
             0.8888888888888888,
             "#fdca26"
            ],
            [
             1,
             "#f0f921"
            ]
           ]
          },
          "colorway": [
           "#636efa",
           "#EF553B",
           "#00cc96",
           "#ab63fa",
           "#FFA15A",
           "#19d3f3",
           "#FF6692",
           "#B6E880",
           "#FF97FF",
           "#FECB52"
          ],
          "font": {
           "color": "#2a3f5f"
          },
          "geo": {
           "bgcolor": "white",
           "lakecolor": "white",
           "landcolor": "#E5ECF6",
           "showlakes": true,
           "showland": true,
           "subunitcolor": "white"
          },
          "hoverlabel": {
           "align": "left"
          },
          "hovermode": "closest",
          "mapbox": {
           "style": "light"
          },
          "paper_bgcolor": "white",
          "plot_bgcolor": "#E5ECF6",
          "polar": {
           "angularaxis": {
            "gridcolor": "white",
            "linecolor": "white",
            "ticks": ""
           },
           "bgcolor": "#E5ECF6",
           "radialaxis": {
            "gridcolor": "white",
            "linecolor": "white",
            "ticks": ""
           }
          },
          "scene": {
           "xaxis": {
            "backgroundcolor": "#E5ECF6",
            "gridcolor": "white",
            "gridwidth": 2,
            "linecolor": "white",
            "showbackground": true,
            "ticks": "",
            "zerolinecolor": "white"
           },
           "yaxis": {
            "backgroundcolor": "#E5ECF6",
            "gridcolor": "white",
            "gridwidth": 2,
            "linecolor": "white",
            "showbackground": true,
            "ticks": "",
            "zerolinecolor": "white"
           },
           "zaxis": {
            "backgroundcolor": "#E5ECF6",
            "gridcolor": "white",
            "gridwidth": 2,
            "linecolor": "white",
            "showbackground": true,
            "ticks": "",
            "zerolinecolor": "white"
           }
          },
          "shapedefaults": {
           "line": {
            "color": "#2a3f5f"
           }
          },
          "ternary": {
           "aaxis": {
            "gridcolor": "white",
            "linecolor": "white",
            "ticks": ""
           },
           "baxis": {
            "gridcolor": "white",
            "linecolor": "white",
            "ticks": ""
           },
           "bgcolor": "#E5ECF6",
           "caxis": {
            "gridcolor": "white",
            "linecolor": "white",
            "ticks": ""
           }
          },
          "title": {
           "x": 0.05
          },
          "xaxis": {
           "automargin": true,
           "gridcolor": "white",
           "linecolor": "white",
           "ticks": "",
           "title": {
            "standoff": 15
           },
           "zerolinecolor": "white",
           "zerolinewidth": 2
          },
          "yaxis": {
           "automargin": true,
           "gridcolor": "white",
           "linecolor": "white",
           "ticks": "",
           "title": {
            "standoff": 15
           },
           "zerolinecolor": "white",
           "zerolinewidth": 2
          }
         }
        },
        "title": {
         "text": "United states: United states existing home sales"
        },
        "xaxis": {
         "anchor": "y",
         "domain": [
          0,
          1
         ],
         "title": {
          "text": ""
         }
        },
        "yaxis": {
         "anchor": "x",
         "domain": [
          0,
          1
         ],
         "title": {
          "text": "Thousand"
         }
        }
       }
      }
     },
     "metadata": {},
     "output_type": "display_data"
    }
   ],
   "source": [
    "scrup.plot_series()  ## Plot the series."
   ]
  },
  {
   "cell_type": "code",
   "execution_count": 12,
   "metadata": {},
   "outputs": [
    {
     "data": {
      "text/plain": [
       "{'units': 'points',\n",
       " 'original_source': 'Institute for Supply Management',\n",
       " 'title': 'United States ISM Manufacturing PMI',\n",
       " 'indicator': 'business confidence',\n",
       " 'country': 'united states',\n",
       " 'source': 'Trading Economics',\n",
       " 'id': 'united-states/business-confidence',\n",
       " 'description': \"The Manufacturing ISM Report On Business is based on data compiled from purchasing and supply executives nationwide. Survey responses reflect the change, if any, in the current month compared to the previous month. For each of the indicators measured (New Orders, Backlog of Orders, New Export Orders, Imports, Production, Supplier Deliveries, Inventories, Customers' Inventories, Employment and Prices), the report shows the percentage reporting each response, the net difference between the number of responses in the positive economic direction and the negative economic direction, and the diffusion index. A PMI reading above 50 percent indicates that the manufacturing economy is generally expanding; below 50 percent indicates that it is generally declining.\",\n",
       " 'frequency': 'MS',\n",
       " 'start_date': '1948-01-01',\n",
       " 'end_date': '2025-01-01',\n",
       " 'min_value': 29.4,\n",
       " 'max_value': 77.5,\n",
       " 'length': 923}"
      ]
     },
     "execution_count": 12,
     "metadata": {},
     "output_type": "execute_result"
    }
   ],
   "source": [
    "scrup.metadata"
   ]
  },
  {
   "cell_type": "code",
   "execution_count": 14,
   "metadata": {},
   "outputs": [
    {
     "name": "stdout",
     "output_type": "stream",
     "text": [
      "1948-01-01    51.7\n",
      "1948-02-01    50.2\n",
      "1948-03-01    43.3\n",
      "1948-04-01    45.4\n",
      "1948-05-01    49.5\n",
      "Name: United States ISM Manufacturing PMI, dtype: float64 mixed <class 'pandas.core.series.Series'>\n",
      "1948-01-01    51.7\n",
      "1948-02-01    48.7\n",
      "1948-03-01    43.3\n",
      "1948-04-01    45.4\n",
      "1948-05-01    49.5\n",
      "Freq: MS, Name: business confidence, dtype: float64 path <class 'pandas.core.series.Series'>\n",
      "1948-02-01    50.2\n",
      "1948-04-01    45.4\n",
      "1948-05-01    49.5\n",
      "1948-07-01    48.4\n",
      "1948-08-01    45.1\n",
      "Name: United States ISM Manufacturing PMI, dtype: float64 tooltips <class 'pandas.core.series.Series'>\n"
     ]
    },
    {
     "data": {
      "application/vnd.plotly.v1+json": {
       "config": {
        "plotlyServerURL": "https://plot.ly"
       },
       "data": [
        {
         "line": {
          "color": "blue"
         },
         "mode": "lines",
         "name": "United States ISM Manufacturing PMI (method: mixed)",
         "type": "scatter",
         "x": [
          "1948-01-01T00:00:00.000000000",
          "1948-02-01T00:00:00.000000000",
          "1948-03-01T00:00:00.000000000",
          "1948-04-01T00:00:00.000000000",
          "1948-05-01T00:00:00.000000000",
          "1948-06-01T00:00:00.000000000",
          "1948-07-01T00:00:00.000000000",
          "1948-08-01T00:00:00.000000000",
          "1948-09-01T00:00:00.000000000",
          "1948-10-01T00:00:00.000000000",
          "1948-11-01T00:00:00.000000000",
          "1948-12-01T00:00:00.000000000",
          "1949-01-01T00:00:00.000000000",
          "1949-02-01T00:00:00.000000000",
          "1949-03-01T00:00:00.000000000",
          "1949-04-01T00:00:00.000000000",
          "1949-05-01T00:00:00.000000000",
          "1949-06-01T00:00:00.000000000",
          "1949-07-01T00:00:00.000000000",
          "1949-08-01T00:00:00.000000000",
          "1949-09-01T00:00:00.000000000",
          "1949-10-01T00:00:00.000000000",
          "1949-11-01T00:00:00.000000000",
          "1949-12-01T00:00:00.000000000",
          "1950-01-01T00:00:00.000000000",
          "1950-02-01T00:00:00.000000000",
          "1950-03-01T00:00:00.000000000",
          "1950-04-01T00:00:00.000000000",
          "1950-05-01T00:00:00.000000000",
          "1950-06-01T00:00:00.000000000",
          "1950-07-01T00:00:00.000000000",
          "1950-08-01T00:00:00.000000000",
          "1950-09-01T00:00:00.000000000",
          "1950-10-01T00:00:00.000000000",
          "1950-11-01T00:00:00.000000000",
          "1950-12-01T00:00:00.000000000",
          "1951-01-01T00:00:00.000000000",
          "1951-02-01T00:00:00.000000000",
          "1951-03-01T00:00:00.000000000",
          "1951-04-01T00:00:00.000000000",
          "1951-05-01T00:00:00.000000000",
          "1951-06-01T00:00:00.000000000",
          "1951-07-01T00:00:00.000000000",
          "1951-08-01T00:00:00.000000000",
          "1951-09-01T00:00:00.000000000",
          "1951-10-01T00:00:00.000000000",
          "1951-11-01T00:00:00.000000000",
          "1951-12-01T00:00:00.000000000",
          "1952-01-01T00:00:00.000000000",
          "1952-02-01T00:00:00.000000000",
          "1952-03-01T00:00:00.000000000",
          "1952-04-01T00:00:00.000000000",
          "1952-05-01T00:00:00.000000000",
          "1952-06-01T00:00:00.000000000",
          "1952-07-01T00:00:00.000000000",
          "1952-08-01T00:00:00.000000000",
          "1952-09-01T00:00:00.000000000",
          "1952-10-01T00:00:00.000000000",
          "1952-11-01T00:00:00.000000000",
          "1952-12-01T00:00:00.000000000",
          "1953-01-01T00:00:00.000000000",
          "1953-02-01T00:00:00.000000000",
          "1953-03-01T00:00:00.000000000",
          "1953-04-01T00:00:00.000000000",
          "1953-05-01T00:00:00.000000000",
          "1953-06-01T00:00:00.000000000",
          "1953-07-01T00:00:00.000000000",
          "1953-08-01T00:00:00.000000000",
          "1953-09-01T00:00:00.000000000",
          "1953-10-01T00:00:00.000000000",
          "1953-11-01T00:00:00.000000000",
          "1953-12-01T00:00:00.000000000",
          "1954-01-01T00:00:00.000000000",
          "1954-02-01T00:00:00.000000000",
          "1954-03-01T00:00:00.000000000",
          "1954-04-01T00:00:00.000000000",
          "1954-05-01T00:00:00.000000000",
          "1954-06-01T00:00:00.000000000",
          "1954-07-01T00:00:00.000000000",
          "1954-08-01T00:00:00.000000000",
          "1954-09-01T00:00:00.000000000",
          "1954-10-01T00:00:00.000000000",
          "1954-11-01T00:00:00.000000000",
          "1954-12-01T00:00:00.000000000",
          "1955-01-01T00:00:00.000000000",
          "1955-02-01T00:00:00.000000000",
          "1955-03-01T00:00:00.000000000",
          "1955-04-01T00:00:00.000000000",
          "1955-05-01T00:00:00.000000000",
          "1955-06-01T00:00:00.000000000",
          "1955-07-01T00:00:00.000000000",
          "1955-08-01T00:00:00.000000000",
          "1955-09-01T00:00:00.000000000",
          "1955-10-01T00:00:00.000000000",
          "1955-11-01T00:00:00.000000000",
          "1955-12-01T00:00:00.000000000",
          "1956-01-01T00:00:00.000000000",
          "1956-02-01T00:00:00.000000000",
          "1956-03-01T00:00:00.000000000",
          "1956-04-01T00:00:00.000000000",
          "1956-05-01T00:00:00.000000000",
          "1956-06-01T00:00:00.000000000",
          "1956-07-01T00:00:00.000000000",
          "1956-08-01T00:00:00.000000000",
          "1956-09-01T00:00:00.000000000",
          "1956-10-01T00:00:00.000000000",
          "1956-11-01T00:00:00.000000000",
          "1956-12-01T00:00:00.000000000",
          "1957-01-01T00:00:00.000000000",
          "1957-02-01T00:00:00.000000000",
          "1957-03-01T00:00:00.000000000",
          "1957-04-01T00:00:00.000000000",
          "1957-05-01T00:00:00.000000000",
          "1957-06-01T00:00:00.000000000",
          "1957-07-01T00:00:00.000000000",
          "1957-08-01T00:00:00.000000000",
          "1957-09-01T00:00:00.000000000",
          "1957-10-01T00:00:00.000000000",
          "1957-11-01T00:00:00.000000000",
          "1957-12-01T00:00:00.000000000",
          "1958-01-01T00:00:00.000000000",
          "1958-02-01T00:00:00.000000000",
          "1958-03-01T00:00:00.000000000",
          "1958-04-01T00:00:00.000000000",
          "1958-05-01T00:00:00.000000000",
          "1958-06-01T00:00:00.000000000",
          "1958-07-01T00:00:00.000000000",
          "1958-08-01T00:00:00.000000000",
          "1958-09-01T00:00:00.000000000",
          "1958-10-01T00:00:00.000000000",
          "1958-11-01T00:00:00.000000000",
          "1958-12-01T00:00:00.000000000",
          "1959-01-01T00:00:00.000000000",
          "1959-02-01T00:00:00.000000000",
          "1959-03-01T00:00:00.000000000",
          "1959-04-01T00:00:00.000000000",
          "1959-05-01T00:00:00.000000000",
          "1959-06-01T00:00:00.000000000",
          "1959-07-01T00:00:00.000000000",
          "1959-08-01T00:00:00.000000000",
          "1959-09-01T00:00:00.000000000",
          "1959-10-01T00:00:00.000000000",
          "1959-11-01T00:00:00.000000000",
          "1959-12-01T00:00:00.000000000",
          "1960-01-01T00:00:00.000000000",
          "1960-02-01T00:00:00.000000000",
          "1960-03-01T00:00:00.000000000",
          "1960-04-01T00:00:00.000000000",
          "1960-05-01T00:00:00.000000000",
          "1960-06-01T00:00:00.000000000",
          "1960-07-01T00:00:00.000000000",
          "1960-08-01T00:00:00.000000000",
          "1960-09-01T00:00:00.000000000",
          "1960-10-01T00:00:00.000000000",
          "1960-11-01T00:00:00.000000000",
          "1960-12-01T00:00:00.000000000",
          "1961-01-01T00:00:00.000000000",
          "1961-02-01T00:00:00.000000000",
          "1961-03-01T00:00:00.000000000",
          "1961-04-01T00:00:00.000000000",
          "1961-05-01T00:00:00.000000000",
          "1961-06-01T00:00:00.000000000",
          "1961-07-01T00:00:00.000000000",
          "1961-08-01T00:00:00.000000000",
          "1961-09-01T00:00:00.000000000",
          "1961-10-01T00:00:00.000000000",
          "1961-11-01T00:00:00.000000000",
          "1961-12-01T00:00:00.000000000",
          "1962-01-01T00:00:00.000000000",
          "1962-02-01T00:00:00.000000000",
          "1962-03-01T00:00:00.000000000",
          "1962-04-01T00:00:00.000000000",
          "1962-05-01T00:00:00.000000000",
          "1962-06-01T00:00:00.000000000",
          "1962-07-01T00:00:00.000000000",
          "1962-08-01T00:00:00.000000000",
          "1962-09-01T00:00:00.000000000",
          "1962-10-01T00:00:00.000000000",
          "1962-11-01T00:00:00.000000000",
          "1962-12-01T00:00:00.000000000",
          "1963-01-01T00:00:00.000000000",
          "1963-02-01T00:00:00.000000000",
          "1963-03-01T00:00:00.000000000",
          "1963-04-01T00:00:00.000000000",
          "1963-05-01T00:00:00.000000000",
          "1963-06-01T00:00:00.000000000",
          "1963-07-01T00:00:00.000000000",
          "1963-08-01T00:00:00.000000000",
          "1963-09-01T00:00:00.000000000",
          "1963-10-01T00:00:00.000000000",
          "1963-11-01T00:00:00.000000000",
          "1963-12-01T00:00:00.000000000",
          "1964-01-01T00:00:00.000000000",
          "1964-02-01T00:00:00.000000000",
          "1964-03-01T00:00:00.000000000",
          "1964-04-01T00:00:00.000000000",
          "1964-05-01T00:00:00.000000000",
          "1964-06-01T00:00:00.000000000",
          "1964-07-01T00:00:00.000000000",
          "1964-08-01T00:00:00.000000000",
          "1964-09-01T00:00:00.000000000",
          "1964-10-01T00:00:00.000000000",
          "1964-11-01T00:00:00.000000000",
          "1964-12-01T00:00:00.000000000",
          "1965-01-01T00:00:00.000000000",
          "1965-02-01T00:00:00.000000000",
          "1965-03-01T00:00:00.000000000",
          "1965-04-01T00:00:00.000000000",
          "1965-05-01T00:00:00.000000000",
          "1965-06-01T00:00:00.000000000",
          "1965-07-01T00:00:00.000000000",
          "1965-08-01T00:00:00.000000000",
          "1965-09-01T00:00:00.000000000",
          "1965-10-01T00:00:00.000000000",
          "1965-11-01T00:00:00.000000000",
          "1965-12-01T00:00:00.000000000",
          "1966-01-01T00:00:00.000000000",
          "1966-02-01T00:00:00.000000000",
          "1966-03-01T00:00:00.000000000",
          "1966-04-01T00:00:00.000000000",
          "1966-05-01T00:00:00.000000000",
          "1966-06-01T00:00:00.000000000",
          "1966-07-01T00:00:00.000000000",
          "1966-08-01T00:00:00.000000000",
          "1966-09-01T00:00:00.000000000",
          "1966-10-01T00:00:00.000000000",
          "1966-11-01T00:00:00.000000000",
          "1966-12-01T00:00:00.000000000",
          "1967-01-01T00:00:00.000000000",
          "1967-02-01T00:00:00.000000000",
          "1967-03-01T00:00:00.000000000",
          "1967-04-01T00:00:00.000000000",
          "1967-05-01T00:00:00.000000000",
          "1967-06-01T00:00:00.000000000",
          "1967-07-01T00:00:00.000000000",
          "1967-08-01T00:00:00.000000000",
          "1967-09-01T00:00:00.000000000",
          "1967-10-01T00:00:00.000000000",
          "1967-11-01T00:00:00.000000000",
          "1967-12-01T00:00:00.000000000",
          "1968-01-01T00:00:00.000000000",
          "1968-02-01T00:00:00.000000000",
          "1968-03-01T00:00:00.000000000",
          "1968-04-01T00:00:00.000000000",
          "1968-05-01T00:00:00.000000000",
          "1968-06-01T00:00:00.000000000",
          "1968-07-01T00:00:00.000000000",
          "1968-08-01T00:00:00.000000000",
          "1968-09-01T00:00:00.000000000",
          "1968-10-01T00:00:00.000000000",
          "1968-11-01T00:00:00.000000000",
          "1968-12-01T00:00:00.000000000",
          "1969-01-01T00:00:00.000000000",
          "1969-02-01T00:00:00.000000000",
          "1969-03-01T00:00:00.000000000",
          "1969-04-01T00:00:00.000000000",
          "1969-05-01T00:00:00.000000000",
          "1969-06-01T00:00:00.000000000",
          "1969-07-01T00:00:00.000000000",
          "1969-08-01T00:00:00.000000000",
          "1969-09-01T00:00:00.000000000",
          "1969-10-01T00:00:00.000000000",
          "1969-11-01T00:00:00.000000000",
          "1969-12-01T00:00:00.000000000",
          "1970-01-01T00:00:00.000000000",
          "1970-02-01T00:00:00.000000000",
          "1970-03-01T00:00:00.000000000",
          "1970-04-01T00:00:00.000000000",
          "1970-05-01T00:00:00.000000000",
          "1970-06-01T00:00:00.000000000",
          "1970-07-01T00:00:00.000000000",
          "1970-08-01T00:00:00.000000000",
          "1970-09-01T00:00:00.000000000",
          "1970-10-01T00:00:00.000000000",
          "1970-11-01T00:00:00.000000000",
          "1970-12-01T00:00:00.000000000",
          "1971-01-01T00:00:00.000000000",
          "1971-02-01T00:00:00.000000000",
          "1971-03-01T00:00:00.000000000",
          "1971-04-01T00:00:00.000000000",
          "1971-05-01T00:00:00.000000000",
          "1971-06-01T00:00:00.000000000",
          "1971-07-01T00:00:00.000000000",
          "1971-08-01T00:00:00.000000000",
          "1971-09-01T00:00:00.000000000",
          "1971-10-01T00:00:00.000000000",
          "1971-11-01T00:00:00.000000000",
          "1971-12-01T00:00:00.000000000",
          "1972-01-01T00:00:00.000000000",
          "1972-02-01T00:00:00.000000000",
          "1972-03-01T00:00:00.000000000",
          "1972-04-01T00:00:00.000000000",
          "1972-05-01T00:00:00.000000000",
          "1972-06-01T00:00:00.000000000",
          "1972-07-01T00:00:00.000000000",
          "1972-08-01T00:00:00.000000000",
          "1972-09-01T00:00:00.000000000",
          "1972-10-01T00:00:00.000000000",
          "1972-11-01T00:00:00.000000000",
          "1972-12-01T00:00:00.000000000",
          "1973-01-01T00:00:00.000000000",
          "1973-02-01T00:00:00.000000000",
          "1973-03-01T00:00:00.000000000",
          "1973-04-01T00:00:00.000000000",
          "1973-05-01T00:00:00.000000000",
          "1973-06-01T00:00:00.000000000",
          "1973-07-01T00:00:00.000000000",
          "1973-09-01T00:00:00.000000000",
          "1973-10-01T00:00:00.000000000",
          "1973-11-01T00:00:00.000000000",
          "1973-12-01T00:00:00.000000000",
          "1974-01-01T00:00:00.000000000",
          "1974-02-01T00:00:00.000000000",
          "1974-03-01T00:00:00.000000000",
          "1974-04-01T00:00:00.000000000",
          "1974-05-01T00:00:00.000000000",
          "1974-06-01T00:00:00.000000000",
          "1974-07-01T00:00:00.000000000",
          "1974-08-01T00:00:00.000000000",
          "1974-09-01T00:00:00.000000000",
          "1974-10-01T00:00:00.000000000",
          "1974-11-01T00:00:00.000000000",
          "1974-12-01T00:00:00.000000000",
          "1975-01-01T00:00:00.000000000",
          "1975-02-01T00:00:00.000000000",
          "1975-03-01T00:00:00.000000000",
          "1975-04-01T00:00:00.000000000",
          "1975-05-01T00:00:00.000000000",
          "1975-06-01T00:00:00.000000000",
          "1975-07-01T00:00:00.000000000",
          "1975-08-01T00:00:00.000000000",
          "1975-09-01T00:00:00.000000000",
          "1975-10-01T00:00:00.000000000",
          "1975-11-01T00:00:00.000000000",
          "1975-12-01T00:00:00.000000000",
          "1976-01-01T00:00:00.000000000",
          "1976-02-01T00:00:00.000000000",
          "1976-03-01T00:00:00.000000000",
          "1976-04-01T00:00:00.000000000",
          "1976-05-01T00:00:00.000000000",
          "1976-06-01T00:00:00.000000000",
          "1976-07-01T00:00:00.000000000",
          "1976-08-01T00:00:00.000000000",
          "1976-09-01T00:00:00.000000000",
          "1976-10-01T00:00:00.000000000",
          "1976-11-01T00:00:00.000000000",
          "1976-12-01T00:00:00.000000000",
          "1977-01-01T00:00:00.000000000",
          "1977-02-01T00:00:00.000000000",
          "1977-03-01T00:00:00.000000000",
          "1977-04-01T00:00:00.000000000",
          "1977-05-01T00:00:00.000000000",
          "1977-06-01T00:00:00.000000000",
          "1977-07-01T00:00:00.000000000",
          "1977-08-01T00:00:00.000000000",
          "1977-09-01T00:00:00.000000000",
          "1977-10-01T00:00:00.000000000",
          "1977-11-01T00:00:00.000000000",
          "1977-12-01T00:00:00.000000000",
          "1978-01-01T00:00:00.000000000",
          "1978-02-01T00:00:00.000000000",
          "1978-03-01T00:00:00.000000000",
          "1978-04-01T00:00:00.000000000",
          "1978-05-01T00:00:00.000000000",
          "1978-06-01T00:00:00.000000000",
          "1978-07-01T00:00:00.000000000",
          "1978-08-01T00:00:00.000000000",
          "1978-09-01T00:00:00.000000000",
          "1978-10-01T00:00:00.000000000",
          "1978-11-01T00:00:00.000000000",
          "1978-12-01T00:00:00.000000000",
          "1979-01-01T00:00:00.000000000",
          "1979-02-01T00:00:00.000000000",
          "1979-03-01T00:00:00.000000000",
          "1979-04-01T00:00:00.000000000",
          "1979-05-01T00:00:00.000000000",
          "1979-06-01T00:00:00.000000000",
          "1979-07-01T00:00:00.000000000",
          "1979-08-01T00:00:00.000000000",
          "1979-09-01T00:00:00.000000000",
          "1979-10-01T00:00:00.000000000",
          "1979-11-01T00:00:00.000000000",
          "1979-12-01T00:00:00.000000000",
          "1980-01-01T00:00:00.000000000",
          "1980-02-01T00:00:00.000000000",
          "1980-03-01T00:00:00.000000000",
          "1980-04-01T00:00:00.000000000",
          "1980-05-01T00:00:00.000000000",
          "1980-06-01T00:00:00.000000000",
          "1980-07-01T00:00:00.000000000",
          "1980-08-01T00:00:00.000000000",
          "1980-09-01T00:00:00.000000000",
          "1980-10-01T00:00:00.000000000",
          "1980-11-01T00:00:00.000000000",
          "1980-12-01T00:00:00.000000000",
          "1981-01-01T00:00:00.000000000",
          "1981-02-01T00:00:00.000000000",
          "1981-03-01T00:00:00.000000000",
          "1981-04-01T00:00:00.000000000",
          "1981-05-01T00:00:00.000000000",
          "1981-06-01T00:00:00.000000000",
          "1981-07-01T00:00:00.000000000",
          "1981-08-01T00:00:00.000000000",
          "1981-09-01T00:00:00.000000000",
          "1981-10-01T00:00:00.000000000",
          "1981-11-01T00:00:00.000000000",
          "1981-12-01T00:00:00.000000000",
          "1982-01-01T00:00:00.000000000",
          "1982-02-01T00:00:00.000000000",
          "1982-03-01T00:00:00.000000000",
          "1982-04-01T00:00:00.000000000",
          "1982-05-01T00:00:00.000000000",
          "1982-06-01T00:00:00.000000000",
          "1982-07-01T00:00:00.000000000",
          "1982-08-01T00:00:00.000000000",
          "1982-09-01T00:00:00.000000000",
          "1982-10-01T00:00:00.000000000",
          "1982-11-01T00:00:00.000000000",
          "1982-12-01T00:00:00.000000000",
          "1983-01-01T00:00:00.000000000",
          "1983-02-01T00:00:00.000000000",
          "1983-03-01T00:00:00.000000000",
          "1983-04-01T00:00:00.000000000",
          "1983-05-01T00:00:00.000000000",
          "1983-06-01T00:00:00.000000000",
          "1983-07-01T00:00:00.000000000",
          "1983-08-01T00:00:00.000000000",
          "1983-09-01T00:00:00.000000000",
          "1983-10-01T00:00:00.000000000",
          "1983-11-01T00:00:00.000000000",
          "1983-12-01T00:00:00.000000000",
          "1984-01-01T00:00:00.000000000",
          "1984-02-01T00:00:00.000000000",
          "1984-03-01T00:00:00.000000000",
          "1984-04-01T00:00:00.000000000",
          "1984-05-01T00:00:00.000000000",
          "1984-06-01T00:00:00.000000000",
          "1984-07-01T00:00:00.000000000",
          "1984-08-01T00:00:00.000000000",
          "1984-09-01T00:00:00.000000000",
          "1984-10-01T00:00:00.000000000",
          "1984-11-01T00:00:00.000000000",
          "1984-12-01T00:00:00.000000000",
          "1985-01-01T00:00:00.000000000",
          "1985-02-01T00:00:00.000000000",
          "1985-03-01T00:00:00.000000000",
          "1985-04-01T00:00:00.000000000",
          "1985-05-01T00:00:00.000000000",
          "1985-06-01T00:00:00.000000000",
          "1985-07-01T00:00:00.000000000",
          "1985-08-01T00:00:00.000000000",
          "1985-09-01T00:00:00.000000000",
          "1985-10-01T00:00:00.000000000",
          "1985-11-01T00:00:00.000000000",
          "1985-12-01T00:00:00.000000000",
          "1986-01-01T00:00:00.000000000",
          "1986-02-01T00:00:00.000000000",
          "1986-03-01T00:00:00.000000000",
          "1986-04-01T00:00:00.000000000",
          "1986-05-01T00:00:00.000000000",
          "1986-06-01T00:00:00.000000000",
          "1986-07-01T00:00:00.000000000",
          "1986-08-01T00:00:00.000000000",
          "1986-09-01T00:00:00.000000000",
          "1986-10-01T00:00:00.000000000",
          "1986-11-01T00:00:00.000000000",
          "1986-12-01T00:00:00.000000000",
          "1987-01-01T00:00:00.000000000",
          "1987-02-01T00:00:00.000000000",
          "1987-03-01T00:00:00.000000000",
          "1987-04-01T00:00:00.000000000",
          "1987-05-01T00:00:00.000000000",
          "1987-06-01T00:00:00.000000000",
          "1987-07-01T00:00:00.000000000",
          "1987-08-01T00:00:00.000000000",
          "1987-09-01T00:00:00.000000000",
          "1987-10-01T00:00:00.000000000",
          "1987-11-01T00:00:00.000000000",
          "1987-12-01T00:00:00.000000000",
          "1988-01-01T00:00:00.000000000",
          "1988-02-01T00:00:00.000000000",
          "1988-03-01T00:00:00.000000000",
          "1988-04-01T00:00:00.000000000",
          "1988-05-01T00:00:00.000000000",
          "1988-06-01T00:00:00.000000000",
          "1988-07-01T00:00:00.000000000",
          "1988-08-01T00:00:00.000000000",
          "1988-09-01T00:00:00.000000000",
          "1988-10-01T00:00:00.000000000",
          "1988-11-01T00:00:00.000000000",
          "1988-12-01T00:00:00.000000000",
          "1989-01-01T00:00:00.000000000",
          "1989-02-01T00:00:00.000000000",
          "1989-03-01T00:00:00.000000000",
          "1989-04-01T00:00:00.000000000",
          "1989-05-01T00:00:00.000000000",
          "1989-06-01T00:00:00.000000000",
          "1989-07-01T00:00:00.000000000",
          "1989-08-01T00:00:00.000000000",
          "1989-09-01T00:00:00.000000000",
          "1989-10-01T00:00:00.000000000",
          "1989-11-01T00:00:00.000000000",
          "1989-12-01T00:00:00.000000000",
          "1990-01-01T00:00:00.000000000",
          "1990-02-01T00:00:00.000000000",
          "1990-03-01T00:00:00.000000000",
          "1990-04-01T00:00:00.000000000",
          "1990-05-01T00:00:00.000000000",
          "1990-06-01T00:00:00.000000000",
          "1990-07-01T00:00:00.000000000",
          "1990-08-01T00:00:00.000000000",
          "1990-09-01T00:00:00.000000000",
          "1990-10-01T00:00:00.000000000",
          "1990-11-01T00:00:00.000000000",
          "1990-12-01T00:00:00.000000000",
          "1991-01-01T00:00:00.000000000",
          "1991-02-01T00:00:00.000000000",
          "1991-03-01T00:00:00.000000000",
          "1991-04-01T00:00:00.000000000",
          "1991-05-01T00:00:00.000000000",
          "1991-06-01T00:00:00.000000000",
          "1991-07-01T00:00:00.000000000",
          "1991-08-01T00:00:00.000000000",
          "1991-09-01T00:00:00.000000000",
          "1991-10-01T00:00:00.000000000",
          "1991-11-01T00:00:00.000000000",
          "1991-12-01T00:00:00.000000000",
          "1992-01-01T00:00:00.000000000",
          "1992-02-01T00:00:00.000000000",
          "1992-03-01T00:00:00.000000000",
          "1992-04-01T00:00:00.000000000",
          "1992-05-01T00:00:00.000000000",
          "1992-06-01T00:00:00.000000000",
          "1992-07-01T00:00:00.000000000",
          "1992-08-01T00:00:00.000000000",
          "1992-09-01T00:00:00.000000000",
          "1992-10-01T00:00:00.000000000",
          "1992-11-01T00:00:00.000000000",
          "1992-12-01T00:00:00.000000000",
          "1993-01-01T00:00:00.000000000",
          "1993-02-01T00:00:00.000000000",
          "1993-03-01T00:00:00.000000000",
          "1993-04-01T00:00:00.000000000",
          "1993-05-01T00:00:00.000000000",
          "1993-06-01T00:00:00.000000000",
          "1993-07-01T00:00:00.000000000",
          "1993-08-01T00:00:00.000000000",
          "1993-09-01T00:00:00.000000000",
          "1993-10-01T00:00:00.000000000",
          "1993-11-01T00:00:00.000000000",
          "1993-12-01T00:00:00.000000000",
          "1994-01-01T00:00:00.000000000",
          "1994-02-01T00:00:00.000000000",
          "1994-03-01T00:00:00.000000000",
          "1994-04-01T00:00:00.000000000",
          "1994-05-01T00:00:00.000000000",
          "1994-06-01T00:00:00.000000000",
          "1994-07-01T00:00:00.000000000",
          "1994-08-01T00:00:00.000000000",
          "1994-09-01T00:00:00.000000000",
          "1994-10-01T00:00:00.000000000",
          "1994-11-01T00:00:00.000000000",
          "1994-12-01T00:00:00.000000000",
          "1995-01-01T00:00:00.000000000",
          "1995-02-01T00:00:00.000000000",
          "1995-03-01T00:00:00.000000000",
          "1995-04-01T00:00:00.000000000",
          "1995-05-01T00:00:00.000000000",
          "1995-06-01T00:00:00.000000000",
          "1995-07-01T00:00:00.000000000",
          "1995-08-01T00:00:00.000000000",
          "1995-09-01T00:00:00.000000000",
          "1995-10-01T00:00:00.000000000",
          "1995-11-01T00:00:00.000000000",
          "1995-12-01T00:00:00.000000000",
          "1996-01-01T00:00:00.000000000",
          "1996-02-01T00:00:00.000000000",
          "1996-03-01T00:00:00.000000000",
          "1996-04-01T00:00:00.000000000",
          "1996-05-01T00:00:00.000000000",
          "1996-06-01T00:00:00.000000000",
          "1996-07-01T00:00:00.000000000",
          "1996-08-01T00:00:00.000000000",
          "1996-09-01T00:00:00.000000000",
          "1996-10-01T00:00:00.000000000",
          "1996-11-01T00:00:00.000000000",
          "1996-12-01T00:00:00.000000000",
          "1997-01-01T00:00:00.000000000",
          "1997-02-01T00:00:00.000000000",
          "1997-03-01T00:00:00.000000000",
          "1997-04-01T00:00:00.000000000",
          "1997-05-01T00:00:00.000000000",
          "1997-06-01T00:00:00.000000000",
          "1997-07-01T00:00:00.000000000",
          "1997-08-01T00:00:00.000000000",
          "1997-09-01T00:00:00.000000000",
          "1997-10-01T00:00:00.000000000",
          "1997-11-01T00:00:00.000000000",
          "1997-12-01T00:00:00.000000000",
          "1998-01-01T00:00:00.000000000",
          "1998-02-01T00:00:00.000000000",
          "1998-03-01T00:00:00.000000000",
          "1998-04-01T00:00:00.000000000",
          "1998-05-01T00:00:00.000000000",
          "1998-06-01T00:00:00.000000000",
          "1998-07-01T00:00:00.000000000",
          "1998-08-01T00:00:00.000000000",
          "1998-09-01T00:00:00.000000000",
          "1998-10-01T00:00:00.000000000",
          "1998-11-01T00:00:00.000000000",
          "1998-12-01T00:00:00.000000000",
          "1999-01-01T00:00:00.000000000",
          "1999-02-01T00:00:00.000000000",
          "1999-03-01T00:00:00.000000000",
          "1999-05-01T00:00:00.000000000",
          "1999-06-01T00:00:00.000000000",
          "1999-07-01T00:00:00.000000000",
          "1999-08-01T00:00:00.000000000",
          "1999-09-01T00:00:00.000000000",
          "1999-10-01T00:00:00.000000000",
          "1999-11-01T00:00:00.000000000",
          "1999-12-01T00:00:00.000000000",
          "2000-01-01T00:00:00.000000000",
          "2000-02-01T00:00:00.000000000",
          "2000-03-01T00:00:00.000000000",
          "2000-04-01T00:00:00.000000000",
          "2000-05-01T00:00:00.000000000",
          "2000-06-01T00:00:00.000000000",
          "2000-07-01T00:00:00.000000000",
          "2000-08-01T00:00:00.000000000",
          "2000-09-01T00:00:00.000000000",
          "2000-10-01T00:00:00.000000000",
          "2000-11-01T00:00:00.000000000",
          "2000-12-01T00:00:00.000000000",
          "2001-01-01T00:00:00.000000000",
          "2001-02-01T00:00:00.000000000",
          "2001-03-01T00:00:00.000000000",
          "2001-04-01T00:00:00.000000000",
          "2001-05-01T00:00:00.000000000",
          "2001-06-01T00:00:00.000000000",
          "2001-07-01T00:00:00.000000000",
          "2001-08-01T00:00:00.000000000",
          "2001-09-01T00:00:00.000000000",
          "2001-10-01T00:00:00.000000000",
          "2001-11-01T00:00:00.000000000",
          "2001-12-01T00:00:00.000000000",
          "2002-01-01T00:00:00.000000000",
          "2002-02-01T00:00:00.000000000",
          "2002-03-01T00:00:00.000000000",
          "2002-04-01T00:00:00.000000000",
          "2002-05-01T00:00:00.000000000",
          "2002-06-01T00:00:00.000000000",
          "2002-07-01T00:00:00.000000000",
          "2002-08-01T00:00:00.000000000",
          "2002-09-01T00:00:00.000000000",
          "2002-10-01T00:00:00.000000000",
          "2002-11-01T00:00:00.000000000",
          "2002-12-01T00:00:00.000000000",
          "2003-01-01T00:00:00.000000000",
          "2003-02-01T00:00:00.000000000",
          "2003-03-01T00:00:00.000000000",
          "2003-04-01T00:00:00.000000000",
          "2003-05-01T00:00:00.000000000",
          "2003-06-01T00:00:00.000000000",
          "2003-07-01T00:00:00.000000000",
          "2003-08-01T00:00:00.000000000",
          "2003-09-01T00:00:00.000000000",
          "2003-10-01T00:00:00.000000000",
          "2003-11-01T00:00:00.000000000",
          "2003-12-01T00:00:00.000000000",
          "2004-01-01T00:00:00.000000000",
          "2004-02-01T00:00:00.000000000",
          "2004-03-01T00:00:00.000000000",
          "2004-04-01T00:00:00.000000000",
          "2004-05-01T00:00:00.000000000",
          "2004-06-01T00:00:00.000000000",
          "2004-07-01T00:00:00.000000000",
          "2004-08-01T00:00:00.000000000",
          "2004-09-01T00:00:00.000000000",
          "2004-10-01T00:00:00.000000000",
          "2004-11-01T00:00:00.000000000",
          "2004-12-01T00:00:00.000000000",
          "2005-01-01T00:00:00.000000000",
          "2005-02-01T00:00:00.000000000",
          "2005-03-01T00:00:00.000000000",
          "2005-04-01T00:00:00.000000000",
          "2005-05-01T00:00:00.000000000",
          "2005-06-01T00:00:00.000000000",
          "2005-07-01T00:00:00.000000000",
          "2005-08-01T00:00:00.000000000",
          "2005-09-01T00:00:00.000000000",
          "2005-10-01T00:00:00.000000000",
          "2005-11-01T00:00:00.000000000",
          "2005-12-01T00:00:00.000000000",
          "2006-01-01T00:00:00.000000000",
          "2006-02-01T00:00:00.000000000",
          "2006-03-01T00:00:00.000000000",
          "2006-04-01T00:00:00.000000000",
          "2006-05-01T00:00:00.000000000",
          "2006-06-01T00:00:00.000000000",
          "2006-07-01T00:00:00.000000000",
          "2006-08-01T00:00:00.000000000",
          "2006-09-01T00:00:00.000000000",
          "2006-10-01T00:00:00.000000000",
          "2006-11-01T00:00:00.000000000",
          "2006-12-01T00:00:00.000000000",
          "2007-01-01T00:00:00.000000000",
          "2007-02-01T00:00:00.000000000",
          "2007-03-01T00:00:00.000000000",
          "2007-04-01T00:00:00.000000000",
          "2007-05-01T00:00:00.000000000",
          "2007-06-01T00:00:00.000000000",
          "2007-07-01T00:00:00.000000000",
          "2007-08-01T00:00:00.000000000",
          "2007-09-01T00:00:00.000000000",
          "2007-10-01T00:00:00.000000000",
          "2007-11-01T00:00:00.000000000",
          "2007-12-01T00:00:00.000000000",
          "2008-01-01T00:00:00.000000000",
          "2008-02-01T00:00:00.000000000",
          "2008-03-01T00:00:00.000000000",
          "2008-04-01T00:00:00.000000000",
          "2008-05-01T00:00:00.000000000",
          "2008-06-01T00:00:00.000000000",
          "2008-07-01T00:00:00.000000000",
          "2008-08-01T00:00:00.000000000",
          "2008-09-01T00:00:00.000000000",
          "2008-10-01T00:00:00.000000000",
          "2008-11-01T00:00:00.000000000",
          "2008-12-01T00:00:00.000000000",
          "2009-01-01T00:00:00.000000000",
          "2009-02-01T00:00:00.000000000",
          "2009-03-01T00:00:00.000000000",
          "2009-04-01T00:00:00.000000000",
          "2009-05-01T00:00:00.000000000",
          "2009-06-01T00:00:00.000000000",
          "2009-07-01T00:00:00.000000000",
          "2009-08-01T00:00:00.000000000",
          "2009-09-01T00:00:00.000000000",
          "2009-10-01T00:00:00.000000000",
          "2009-11-01T00:00:00.000000000",
          "2009-12-01T00:00:00.000000000",
          "2010-01-01T00:00:00.000000000",
          "2010-02-01T00:00:00.000000000",
          "2010-03-01T00:00:00.000000000",
          "2010-04-01T00:00:00.000000000",
          "2010-05-01T00:00:00.000000000",
          "2010-06-01T00:00:00.000000000",
          "2010-07-01T00:00:00.000000000",
          "2010-08-01T00:00:00.000000000",
          "2010-09-01T00:00:00.000000000",
          "2010-10-01T00:00:00.000000000",
          "2010-11-01T00:00:00.000000000",
          "2010-12-01T00:00:00.000000000",
          "2011-01-01T00:00:00.000000000",
          "2011-02-01T00:00:00.000000000",
          "2011-03-01T00:00:00.000000000",
          "2011-04-01T00:00:00.000000000",
          "2011-05-01T00:00:00.000000000",
          "2011-06-01T00:00:00.000000000",
          "2011-07-01T00:00:00.000000000",
          "2011-08-01T00:00:00.000000000",
          "2011-09-01T00:00:00.000000000",
          "2011-10-01T00:00:00.000000000",
          "2011-11-01T00:00:00.000000000",
          "2011-12-01T00:00:00.000000000",
          "2012-01-01T00:00:00.000000000",
          "2012-02-01T00:00:00.000000000",
          "2012-03-01T00:00:00.000000000",
          "2012-04-01T00:00:00.000000000",
          "2012-05-01T00:00:00.000000000",
          "2012-06-01T00:00:00.000000000",
          "2012-07-01T00:00:00.000000000",
          "2012-08-01T00:00:00.000000000",
          "2012-09-01T00:00:00.000000000",
          "2012-10-01T00:00:00.000000000",
          "2012-11-01T00:00:00.000000000",
          "2012-12-01T00:00:00.000000000",
          "2013-01-01T00:00:00.000000000",
          "2013-02-01T00:00:00.000000000",
          "2013-03-01T00:00:00.000000000",
          "2013-04-01T00:00:00.000000000",
          "2013-05-01T00:00:00.000000000",
          "2013-06-01T00:00:00.000000000",
          "2013-07-01T00:00:00.000000000",
          "2013-08-01T00:00:00.000000000",
          "2013-09-01T00:00:00.000000000",
          "2013-10-01T00:00:00.000000000",
          "2013-11-01T00:00:00.000000000",
          "2013-12-01T00:00:00.000000000",
          "2014-01-01T00:00:00.000000000",
          "2014-02-01T00:00:00.000000000",
          "2014-03-01T00:00:00.000000000",
          "2014-04-01T00:00:00.000000000",
          "2014-05-01T00:00:00.000000000",
          "2014-06-01T00:00:00.000000000",
          "2014-07-01T00:00:00.000000000",
          "2014-08-01T00:00:00.000000000",
          "2014-09-01T00:00:00.000000000",
          "2014-10-01T00:00:00.000000000",
          "2014-11-01T00:00:00.000000000",
          "2014-12-01T00:00:00.000000000",
          "2015-01-01T00:00:00.000000000",
          "2015-02-01T00:00:00.000000000",
          "2015-03-01T00:00:00.000000000",
          "2015-04-01T00:00:00.000000000",
          "2015-05-01T00:00:00.000000000",
          "2015-06-01T00:00:00.000000000",
          "2015-07-01T00:00:00.000000000",
          "2015-08-01T00:00:00.000000000",
          "2015-09-01T00:00:00.000000000",
          "2015-10-01T00:00:00.000000000",
          "2015-11-01T00:00:00.000000000",
          "2015-12-01T00:00:00.000000000",
          "2016-01-01T00:00:00.000000000",
          "2016-02-01T00:00:00.000000000",
          "2016-03-01T00:00:00.000000000",
          "2016-04-01T00:00:00.000000000",
          "2016-05-01T00:00:00.000000000",
          "2016-06-01T00:00:00.000000000",
          "2016-07-01T00:00:00.000000000",
          "2016-08-01T00:00:00.000000000",
          "2016-09-01T00:00:00.000000000",
          "2016-10-01T00:00:00.000000000",
          "2016-11-01T00:00:00.000000000",
          "2016-12-01T00:00:00.000000000",
          "2017-01-01T00:00:00.000000000",
          "2017-02-01T00:00:00.000000000",
          "2017-03-01T00:00:00.000000000",
          "2017-04-01T00:00:00.000000000",
          "2017-05-01T00:00:00.000000000",
          "2017-06-01T00:00:00.000000000",
          "2017-07-01T00:00:00.000000000",
          "2017-08-01T00:00:00.000000000",
          "2017-09-01T00:00:00.000000000",
          "2017-10-01T00:00:00.000000000",
          "2017-11-01T00:00:00.000000000",
          "2017-12-01T00:00:00.000000000",
          "2018-01-01T00:00:00.000000000",
          "2018-02-01T00:00:00.000000000",
          "2018-03-01T00:00:00.000000000",
          "2018-04-01T00:00:00.000000000",
          "2018-05-01T00:00:00.000000000",
          "2018-06-01T00:00:00.000000000",
          "2018-07-01T00:00:00.000000000",
          "2018-08-01T00:00:00.000000000",
          "2018-09-01T00:00:00.000000000",
          "2018-10-01T00:00:00.000000000",
          "2018-11-01T00:00:00.000000000",
          "2018-12-01T00:00:00.000000000",
          "2019-01-01T00:00:00.000000000",
          "2019-02-01T00:00:00.000000000",
          "2019-03-01T00:00:00.000000000",
          "2019-04-01T00:00:00.000000000",
          "2019-05-01T00:00:00.000000000",
          "2019-06-01T00:00:00.000000000",
          "2019-07-01T00:00:00.000000000",
          "2019-08-01T00:00:00.000000000",
          "2019-09-01T00:00:00.000000000",
          "2019-10-01T00:00:00.000000000",
          "2019-11-01T00:00:00.000000000",
          "2019-12-01T00:00:00.000000000",
          "2020-01-01T00:00:00.000000000",
          "2020-02-01T00:00:00.000000000",
          "2020-03-01T00:00:00.000000000",
          "2020-04-01T00:00:00.000000000",
          "2020-05-01T00:00:00.000000000",
          "2020-06-01T00:00:00.000000000",
          "2020-07-01T00:00:00.000000000",
          "2020-08-01T00:00:00.000000000",
          "2020-09-01T00:00:00.000000000",
          "2020-10-01T00:00:00.000000000",
          "2020-11-01T00:00:00.000000000",
          "2020-12-01T00:00:00.000000000",
          "2021-01-01T00:00:00.000000000",
          "2021-02-01T00:00:00.000000000",
          "2021-03-01T00:00:00.000000000",
          "2021-04-01T00:00:00.000000000",
          "2021-05-01T00:00:00.000000000",
          "2021-06-01T00:00:00.000000000",
          "2021-07-01T00:00:00.000000000",
          "2021-08-01T00:00:00.000000000",
          "2021-09-01T00:00:00.000000000",
          "2021-10-01T00:00:00.000000000",
          "2021-11-01T00:00:00.000000000",
          "2021-12-01T00:00:00.000000000",
          "2022-01-01T00:00:00.000000000",
          "2022-02-01T00:00:00.000000000",
          "2022-03-01T00:00:00.000000000",
          "2022-04-01T00:00:00.000000000",
          "2022-05-01T00:00:00.000000000",
          "2022-06-01T00:00:00.000000000",
          "2022-07-01T00:00:00.000000000",
          "2022-08-01T00:00:00.000000000",
          "2022-09-01T00:00:00.000000000",
          "2022-10-01T00:00:00.000000000",
          "2022-11-01T00:00:00.000000000",
          "2022-12-01T00:00:00.000000000",
          "2023-01-01T00:00:00.000000000",
          "2023-02-01T00:00:00.000000000",
          "2023-03-01T00:00:00.000000000",
          "2023-04-01T00:00:00.000000000",
          "2023-05-01T00:00:00.000000000",
          "2023-06-01T00:00:00.000000000",
          "2023-07-01T00:00:00.000000000",
          "2023-08-01T00:00:00.000000000",
          "2023-09-01T00:00:00.000000000",
          "2023-10-01T00:00:00.000000000",
          "2023-11-01T00:00:00.000000000",
          "2023-12-01T00:00:00.000000000",
          "2024-01-01T00:00:00.000000000",
          "2024-02-01T00:00:00.000000000",
          "2024-03-01T00:00:00.000000000",
          "2024-04-01T00:00:00.000000000",
          "2024-05-01T00:00:00.000000000",
          "2024-06-01T00:00:00.000000000",
          "2024-07-01T00:00:00.000000000",
          "2024-08-01T00:00:00.000000000",
          "2024-09-01T00:00:00.000000000",
          "2024-10-01T00:00:00.000000000",
          "2024-11-01T00:00:00.000000000",
          "2024-12-01T00:00:00.000000000",
          "2025-01-01T00:00:00.000000000"
         ],
         "y": {
          "bdata": "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",
          "dtype": "f8"
         }
        },
        {
         "line": {
          "color": "red"
         },
         "mode": "lines",
         "name": "business confidence (method: path)",
         "type": "scatter",
         "x": [
          "1948-01-01T00:00:00.000000000",
          "1948-02-01T00:00:00.000000000",
          "1948-03-01T00:00:00.000000000",
          "1948-04-01T00:00:00.000000000",
          "1948-05-01T00:00:00.000000000",
          "1948-06-01T00:00:00.000000000",
          "1948-07-01T00:00:00.000000000",
          "1948-08-01T00:00:00.000000000",
          "1948-09-01T00:00:00.000000000",
          "1948-10-01T00:00:00.000000000",
          "1948-11-01T00:00:00.000000000",
          "1948-12-01T00:00:00.000000000",
          "1949-01-01T00:00:00.000000000",
          "1949-02-01T00:00:00.000000000",
          "1949-03-01T00:00:00.000000000",
          "1949-04-01T00:00:00.000000000",
          "1949-05-01T00:00:00.000000000",
          "1949-06-01T00:00:00.000000000",
          "1949-07-01T00:00:00.000000000",
          "1949-08-01T00:00:00.000000000",
          "1949-09-01T00:00:00.000000000",
          "1949-10-01T00:00:00.000000000",
          "1949-11-01T00:00:00.000000000",
          "1949-12-01T00:00:00.000000000",
          "1950-01-01T00:00:00.000000000",
          "1950-02-01T00:00:00.000000000",
          "1950-03-01T00:00:00.000000000",
          "1950-04-01T00:00:00.000000000",
          "1950-05-01T00:00:00.000000000",
          "1950-06-01T00:00:00.000000000",
          "1950-07-01T00:00:00.000000000",
          "1950-08-01T00:00:00.000000000",
          "1950-09-01T00:00:00.000000000",
          "1950-10-01T00:00:00.000000000",
          "1950-11-01T00:00:00.000000000",
          "1950-12-01T00:00:00.000000000",
          "1951-01-01T00:00:00.000000000",
          "1951-02-01T00:00:00.000000000",
          "1951-03-01T00:00:00.000000000",
          "1951-04-01T00:00:00.000000000",
          "1951-05-01T00:00:00.000000000",
          "1951-06-01T00:00:00.000000000",
          "1951-07-01T00:00:00.000000000",
          "1951-08-01T00:00:00.000000000",
          "1951-09-01T00:00:00.000000000",
          "1951-10-01T00:00:00.000000000",
          "1951-11-01T00:00:00.000000000",
          "1951-12-01T00:00:00.000000000",
          "1952-01-01T00:00:00.000000000",
          "1952-02-01T00:00:00.000000000",
          "1952-03-01T00:00:00.000000000",
          "1952-04-01T00:00:00.000000000",
          "1952-05-01T00:00:00.000000000",
          "1952-06-01T00:00:00.000000000",
          "1952-07-01T00:00:00.000000000",
          "1952-08-01T00:00:00.000000000",
          "1952-09-01T00:00:00.000000000",
          "1952-10-01T00:00:00.000000000",
          "1952-11-01T00:00:00.000000000",
          "1952-12-01T00:00:00.000000000",
          "1953-01-01T00:00:00.000000000",
          "1953-02-01T00:00:00.000000000",
          "1953-03-01T00:00:00.000000000",
          "1953-04-01T00:00:00.000000000",
          "1953-05-01T00:00:00.000000000",
          "1953-06-01T00:00:00.000000000",
          "1953-07-01T00:00:00.000000000",
          "1953-08-01T00:00:00.000000000",
          "1953-09-01T00:00:00.000000000",
          "1953-10-01T00:00:00.000000000",
          "1953-11-01T00:00:00.000000000",
          "1953-12-01T00:00:00.000000000",
          "1954-01-01T00:00:00.000000000",
          "1954-02-01T00:00:00.000000000",
          "1954-03-01T00:00:00.000000000",
          "1954-04-01T00:00:00.000000000",
          "1954-05-01T00:00:00.000000000",
          "1954-06-01T00:00:00.000000000",
          "1954-07-01T00:00:00.000000000",
          "1954-08-01T00:00:00.000000000",
          "1954-09-01T00:00:00.000000000",
          "1954-10-01T00:00:00.000000000",
          "1954-11-01T00:00:00.000000000",
          "1954-12-01T00:00:00.000000000",
          "1955-01-01T00:00:00.000000000",
          "1955-02-01T00:00:00.000000000",
          "1955-03-01T00:00:00.000000000",
          "1955-04-01T00:00:00.000000000",
          "1955-05-01T00:00:00.000000000",
          "1955-06-01T00:00:00.000000000",
          "1955-07-01T00:00:00.000000000",
          "1955-08-01T00:00:00.000000000",
          "1955-09-01T00:00:00.000000000",
          "1955-10-01T00:00:00.000000000",
          "1955-11-01T00:00:00.000000000",
          "1955-12-01T00:00:00.000000000",
          "1956-01-01T00:00:00.000000000",
          "1956-02-01T00:00:00.000000000",
          "1956-03-01T00:00:00.000000000",
          "1956-04-01T00:00:00.000000000",
          "1956-05-01T00:00:00.000000000",
          "1956-06-01T00:00:00.000000000",
          "1956-07-01T00:00:00.000000000",
          "1956-08-01T00:00:00.000000000",
          "1956-09-01T00:00:00.000000000",
          "1956-10-01T00:00:00.000000000",
          "1956-11-01T00:00:00.000000000",
          "1956-12-01T00:00:00.000000000",
          "1957-01-01T00:00:00.000000000",
          "1957-02-01T00:00:00.000000000",
          "1957-03-01T00:00:00.000000000",
          "1957-04-01T00:00:00.000000000",
          "1957-05-01T00:00:00.000000000",
          "1957-06-01T00:00:00.000000000",
          "1957-07-01T00:00:00.000000000",
          "1957-08-01T00:00:00.000000000",
          "1957-09-01T00:00:00.000000000",
          "1957-10-01T00:00:00.000000000",
          "1957-11-01T00:00:00.000000000",
          "1957-12-01T00:00:00.000000000",
          "1958-01-01T00:00:00.000000000",
          "1958-02-01T00:00:00.000000000",
          "1958-03-01T00:00:00.000000000",
          "1958-04-01T00:00:00.000000000",
          "1958-05-01T00:00:00.000000000",
          "1958-06-01T00:00:00.000000000",
          "1958-07-01T00:00:00.000000000",
          "1958-08-01T00:00:00.000000000",
          "1958-09-01T00:00:00.000000000",
          "1958-10-01T00:00:00.000000000",
          "1958-11-01T00:00:00.000000000",
          "1958-12-01T00:00:00.000000000",
          "1959-01-01T00:00:00.000000000",
          "1959-02-01T00:00:00.000000000",
          "1959-03-01T00:00:00.000000000",
          "1959-04-01T00:00:00.000000000",
          "1959-05-01T00:00:00.000000000",
          "1959-06-01T00:00:00.000000000",
          "1959-07-01T00:00:00.000000000",
          "1959-08-01T00:00:00.000000000",
          "1959-09-01T00:00:00.000000000",
          "1959-10-01T00:00:00.000000000",
          "1959-11-01T00:00:00.000000000",
          "1959-12-01T00:00:00.000000000",
          "1960-01-01T00:00:00.000000000",
          "1960-02-01T00:00:00.000000000",
          "1960-03-01T00:00:00.000000000",
          "1960-04-01T00:00:00.000000000",
          "1960-05-01T00:00:00.000000000",
          "1960-06-01T00:00:00.000000000",
          "1960-07-01T00:00:00.000000000",
          "1960-08-01T00:00:00.000000000",
          "1960-09-01T00:00:00.000000000",
          "1960-10-01T00:00:00.000000000",
          "1960-11-01T00:00:00.000000000",
          "1960-12-01T00:00:00.000000000",
          "1961-01-01T00:00:00.000000000",
          "1961-02-01T00:00:00.000000000",
          "1961-03-01T00:00:00.000000000",
          "1961-04-01T00:00:00.000000000",
          "1961-05-01T00:00:00.000000000",
          "1961-06-01T00:00:00.000000000",
          "1961-07-01T00:00:00.000000000",
          "1961-08-01T00:00:00.000000000",
          "1961-09-01T00:00:00.000000000",
          "1961-10-01T00:00:00.000000000",
          "1961-11-01T00:00:00.000000000",
          "1961-12-01T00:00:00.000000000",
          "1962-01-01T00:00:00.000000000",
          "1962-02-01T00:00:00.000000000",
          "1962-03-01T00:00:00.000000000",
          "1962-04-01T00:00:00.000000000",
          "1962-05-01T00:00:00.000000000",
          "1962-06-01T00:00:00.000000000",
          "1962-07-01T00:00:00.000000000",
          "1962-08-01T00:00:00.000000000",
          "1962-09-01T00:00:00.000000000",
          "1962-10-01T00:00:00.000000000",
          "1962-11-01T00:00:00.000000000",
          "1962-12-01T00:00:00.000000000",
          "1963-01-01T00:00:00.000000000",
          "1963-02-01T00:00:00.000000000",
          "1963-03-01T00:00:00.000000000",
          "1963-04-01T00:00:00.000000000",
          "1963-05-01T00:00:00.000000000",
          "1963-06-01T00:00:00.000000000",
          "1963-07-01T00:00:00.000000000",
          "1963-08-01T00:00:00.000000000",
          "1963-09-01T00:00:00.000000000",
          "1963-10-01T00:00:00.000000000",
          "1963-11-01T00:00:00.000000000",
          "1963-12-01T00:00:00.000000000",
          "1964-01-01T00:00:00.000000000",
          "1964-02-01T00:00:00.000000000",
          "1964-03-01T00:00:00.000000000",
          "1964-04-01T00:00:00.000000000",
          "1964-05-01T00:00:00.000000000",
          "1964-06-01T00:00:00.000000000",
          "1964-07-01T00:00:00.000000000",
          "1964-08-01T00:00:00.000000000",
          "1964-09-01T00:00:00.000000000",
          "1964-10-01T00:00:00.000000000",
          "1964-11-01T00:00:00.000000000",
          "1964-12-01T00:00:00.000000000",
          "1965-01-01T00:00:00.000000000",
          "1965-02-01T00:00:00.000000000",
          "1965-03-01T00:00:00.000000000",
          "1965-04-01T00:00:00.000000000",
          "1965-05-01T00:00:00.000000000",
          "1965-06-01T00:00:00.000000000",
          "1965-07-01T00:00:00.000000000",
          "1965-08-01T00:00:00.000000000",
          "1965-09-01T00:00:00.000000000",
          "1965-10-01T00:00:00.000000000",
          "1965-11-01T00:00:00.000000000",
          "1965-12-01T00:00:00.000000000",
          "1966-01-01T00:00:00.000000000",
          "1966-02-01T00:00:00.000000000",
          "1966-03-01T00:00:00.000000000",
          "1966-04-01T00:00:00.000000000",
          "1966-05-01T00:00:00.000000000",
          "1966-06-01T00:00:00.000000000",
          "1966-07-01T00:00:00.000000000",
          "1966-08-01T00:00:00.000000000",
          "1966-09-01T00:00:00.000000000",
          "1966-10-01T00:00:00.000000000",
          "1966-11-01T00:00:00.000000000",
          "1966-12-01T00:00:00.000000000",
          "1967-01-01T00:00:00.000000000",
          "1967-02-01T00:00:00.000000000",
          "1967-03-01T00:00:00.000000000",
          "1967-04-01T00:00:00.000000000",
          "1967-05-01T00:00:00.000000000",
          "1967-06-01T00:00:00.000000000",
          "1967-07-01T00:00:00.000000000",
          "1967-08-01T00:00:00.000000000",
          "1967-09-01T00:00:00.000000000",
          "1967-10-01T00:00:00.000000000",
          "1967-11-01T00:00:00.000000000",
          "1967-12-01T00:00:00.000000000",
          "1968-01-01T00:00:00.000000000",
          "1968-02-01T00:00:00.000000000",
          "1968-03-01T00:00:00.000000000",
          "1968-04-01T00:00:00.000000000",
          "1968-05-01T00:00:00.000000000",
          "1968-06-01T00:00:00.000000000",
          "1968-07-01T00:00:00.000000000",
          "1968-08-01T00:00:00.000000000",
          "1968-09-01T00:00:00.000000000",
          "1968-10-01T00:00:00.000000000",
          "1968-11-01T00:00:00.000000000",
          "1968-12-01T00:00:00.000000000",
          "1969-01-01T00:00:00.000000000",
          "1969-02-01T00:00:00.000000000",
          "1969-03-01T00:00:00.000000000",
          "1969-04-01T00:00:00.000000000",
          "1969-05-01T00:00:00.000000000",
          "1969-06-01T00:00:00.000000000",
          "1969-07-01T00:00:00.000000000",
          "1969-08-01T00:00:00.000000000",
          "1969-09-01T00:00:00.000000000",
          "1969-10-01T00:00:00.000000000",
          "1969-11-01T00:00:00.000000000",
          "1969-12-01T00:00:00.000000000",
          "1970-01-01T00:00:00.000000000",
          "1970-02-01T00:00:00.000000000",
          "1970-03-01T00:00:00.000000000",
          "1970-04-01T00:00:00.000000000",
          "1970-05-01T00:00:00.000000000",
          "1970-06-01T00:00:00.000000000",
          "1970-07-01T00:00:00.000000000",
          "1970-08-01T00:00:00.000000000",
          "1970-09-01T00:00:00.000000000",
          "1970-10-01T00:00:00.000000000",
          "1970-11-01T00:00:00.000000000",
          "1970-12-01T00:00:00.000000000",
          "1971-01-01T00:00:00.000000000",
          "1971-02-01T00:00:00.000000000",
          "1971-03-01T00:00:00.000000000",
          "1971-04-01T00:00:00.000000000",
          "1971-05-01T00:00:00.000000000",
          "1971-06-01T00:00:00.000000000",
          "1971-07-01T00:00:00.000000000",
          "1971-08-01T00:00:00.000000000",
          "1971-09-01T00:00:00.000000000",
          "1971-10-01T00:00:00.000000000",
          "1971-11-01T00:00:00.000000000",
          "1971-12-01T00:00:00.000000000",
          "1972-01-01T00:00:00.000000000",
          "1972-02-01T00:00:00.000000000",
          "1972-03-01T00:00:00.000000000",
          "1972-04-01T00:00:00.000000000",
          "1972-05-01T00:00:00.000000000",
          "1972-06-01T00:00:00.000000000",
          "1972-07-01T00:00:00.000000000",
          "1972-08-01T00:00:00.000000000",
          "1972-09-01T00:00:00.000000000",
          "1972-10-01T00:00:00.000000000",
          "1972-11-01T00:00:00.000000000",
          "1972-12-01T00:00:00.000000000",
          "1973-01-01T00:00:00.000000000",
          "1973-02-01T00:00:00.000000000",
          "1973-03-01T00:00:00.000000000",
          "1973-04-01T00:00:00.000000000",
          "1973-05-01T00:00:00.000000000",
          "1973-06-01T00:00:00.000000000",
          "1973-07-01T00:00:00.000000000",
          "1973-08-01T00:00:00.000000000",
          "1973-09-01T00:00:00.000000000",
          "1973-10-01T00:00:00.000000000",
          "1973-11-01T00:00:00.000000000",
          "1973-12-01T00:00:00.000000000",
          "1974-01-01T00:00:00.000000000",
          "1974-02-01T00:00:00.000000000",
          "1974-03-01T00:00:00.000000000",
          "1974-04-01T00:00:00.000000000",
          "1974-05-01T00:00:00.000000000",
          "1974-06-01T00:00:00.000000000",
          "1974-07-01T00:00:00.000000000",
          "1974-08-01T00:00:00.000000000",
          "1974-09-01T00:00:00.000000000",
          "1974-10-01T00:00:00.000000000",
          "1974-11-01T00:00:00.000000000",
          "1974-12-01T00:00:00.000000000",
          "1975-01-01T00:00:00.000000000",
          "1975-02-01T00:00:00.000000000",
          "1975-03-01T00:00:00.000000000",
          "1975-04-01T00:00:00.000000000",
          "1975-05-01T00:00:00.000000000",
          "1975-06-01T00:00:00.000000000",
          "1975-07-01T00:00:00.000000000",
          "1975-08-01T00:00:00.000000000",
          "1975-09-01T00:00:00.000000000",
          "1975-10-01T00:00:00.000000000",
          "1975-11-01T00:00:00.000000000",
          "1975-12-01T00:00:00.000000000",
          "1976-01-01T00:00:00.000000000",
          "1976-02-01T00:00:00.000000000",
          "1976-03-01T00:00:00.000000000",
          "1976-04-01T00:00:00.000000000",
          "1976-05-01T00:00:00.000000000",
          "1976-06-01T00:00:00.000000000",
          "1976-07-01T00:00:00.000000000",
          "1976-08-01T00:00:00.000000000",
          "1976-09-01T00:00:00.000000000",
          "1976-10-01T00:00:00.000000000",
          "1976-11-01T00:00:00.000000000",
          "1976-12-01T00:00:00.000000000",
          "1977-01-01T00:00:00.000000000",
          "1977-02-01T00:00:00.000000000",
          "1977-03-01T00:00:00.000000000",
          "1977-04-01T00:00:00.000000000",
          "1977-05-01T00:00:00.000000000",
          "1977-06-01T00:00:00.000000000",
          "1977-07-01T00:00:00.000000000",
          "1977-08-01T00:00:00.000000000",
          "1977-09-01T00:00:00.000000000",
          "1977-10-01T00:00:00.000000000",
          "1977-11-01T00:00:00.000000000",
          "1977-12-01T00:00:00.000000000",
          "1978-01-01T00:00:00.000000000",
          "1978-02-01T00:00:00.000000000",
          "1978-03-01T00:00:00.000000000",
          "1978-04-01T00:00:00.000000000",
          "1978-05-01T00:00:00.000000000",
          "1978-06-01T00:00:00.000000000",
          "1978-07-01T00:00:00.000000000",
          "1978-08-01T00:00:00.000000000",
          "1978-09-01T00:00:00.000000000",
          "1978-10-01T00:00:00.000000000",
          "1978-11-01T00:00:00.000000000",
          "1978-12-01T00:00:00.000000000",
          "1979-01-01T00:00:00.000000000",
          "1979-02-01T00:00:00.000000000",
          "1979-03-01T00:00:00.000000000",
          "1979-04-01T00:00:00.000000000",
          "1979-05-01T00:00:00.000000000",
          "1979-06-01T00:00:00.000000000",
          "1979-07-01T00:00:00.000000000",
          "1979-08-01T00:00:00.000000000",
          "1979-09-01T00:00:00.000000000",
          "1979-10-01T00:00:00.000000000",
          "1979-11-01T00:00:00.000000000",
          "1979-12-01T00:00:00.000000000",
          "1980-01-01T00:00:00.000000000",
          "1980-02-01T00:00:00.000000000",
          "1980-03-01T00:00:00.000000000",
          "1980-04-01T00:00:00.000000000",
          "1980-05-01T00:00:00.000000000",
          "1980-06-01T00:00:00.000000000",
          "1980-07-01T00:00:00.000000000",
          "1980-08-01T00:00:00.000000000",
          "1980-09-01T00:00:00.000000000",
          "1980-10-01T00:00:00.000000000",
          "1980-11-01T00:00:00.000000000",
          "1980-12-01T00:00:00.000000000",
          "1981-01-01T00:00:00.000000000",
          "1981-02-01T00:00:00.000000000",
          "1981-03-01T00:00:00.000000000",
          "1981-04-01T00:00:00.000000000",
          "1981-05-01T00:00:00.000000000",
          "1981-06-01T00:00:00.000000000",
          "1981-07-01T00:00:00.000000000",
          "1981-08-01T00:00:00.000000000",
          "1981-09-01T00:00:00.000000000",
          "1981-10-01T00:00:00.000000000",
          "1981-11-01T00:00:00.000000000",
          "1981-12-01T00:00:00.000000000",
          "1982-01-01T00:00:00.000000000",
          "1982-02-01T00:00:00.000000000",
          "1982-03-01T00:00:00.000000000",
          "1982-04-01T00:00:00.000000000",
          "1982-05-01T00:00:00.000000000",
          "1982-06-01T00:00:00.000000000",
          "1982-07-01T00:00:00.000000000",
          "1982-08-01T00:00:00.000000000",
          "1982-09-01T00:00:00.000000000",
          "1982-10-01T00:00:00.000000000",
          "1982-11-01T00:00:00.000000000",
          "1982-12-01T00:00:00.000000000",
          "1983-01-01T00:00:00.000000000",
          "1983-02-01T00:00:00.000000000",
          "1983-03-01T00:00:00.000000000",
          "1983-04-01T00:00:00.000000000",
          "1983-05-01T00:00:00.000000000",
          "1983-06-01T00:00:00.000000000",
          "1983-07-01T00:00:00.000000000",
          "1983-08-01T00:00:00.000000000",
          "1983-09-01T00:00:00.000000000",
          "1983-10-01T00:00:00.000000000",
          "1983-11-01T00:00:00.000000000",
          "1983-12-01T00:00:00.000000000",
          "1984-01-01T00:00:00.000000000",
          "1984-02-01T00:00:00.000000000",
          "1984-03-01T00:00:00.000000000",
          "1984-04-01T00:00:00.000000000",
          "1984-05-01T00:00:00.000000000",
          "1984-06-01T00:00:00.000000000",
          "1984-07-01T00:00:00.000000000",
          "1984-08-01T00:00:00.000000000",
          "1984-09-01T00:00:00.000000000",
          "1984-10-01T00:00:00.000000000",
          "1984-11-01T00:00:00.000000000",
          "1984-12-01T00:00:00.000000000",
          "1985-01-01T00:00:00.000000000",
          "1985-02-01T00:00:00.000000000",
          "1985-03-01T00:00:00.000000000",
          "1985-04-01T00:00:00.000000000",
          "1985-05-01T00:00:00.000000000",
          "1985-06-01T00:00:00.000000000",
          "1985-07-01T00:00:00.000000000",
          "1985-08-01T00:00:00.000000000",
          "1985-09-01T00:00:00.000000000",
          "1985-10-01T00:00:00.000000000",
          "1985-11-01T00:00:00.000000000",
          "1985-12-01T00:00:00.000000000",
          "1986-01-01T00:00:00.000000000",
          "1986-02-01T00:00:00.000000000",
          "1986-03-01T00:00:00.000000000",
          "1986-04-01T00:00:00.000000000",
          "1986-05-01T00:00:00.000000000",
          "1986-06-01T00:00:00.000000000",
          "1986-07-01T00:00:00.000000000",
          "1986-08-01T00:00:00.000000000",
          "1986-09-01T00:00:00.000000000",
          "1986-10-01T00:00:00.000000000",
          "1986-11-01T00:00:00.000000000",
          "1986-12-01T00:00:00.000000000",
          "1987-01-01T00:00:00.000000000",
          "1987-02-01T00:00:00.000000000",
          "1987-03-01T00:00:00.000000000",
          "1987-04-01T00:00:00.000000000",
          "1987-05-01T00:00:00.000000000",
          "1987-06-01T00:00:00.000000000",
          "1987-07-01T00:00:00.000000000",
          "1987-08-01T00:00:00.000000000",
          "1987-09-01T00:00:00.000000000",
          "1987-10-01T00:00:00.000000000",
          "1987-11-01T00:00:00.000000000",
          "1987-12-01T00:00:00.000000000",
          "1988-01-01T00:00:00.000000000",
          "1988-02-01T00:00:00.000000000",
          "1988-03-01T00:00:00.000000000",
          "1988-04-01T00:00:00.000000000",
          "1988-05-01T00:00:00.000000000",
          "1988-06-01T00:00:00.000000000",
          "1988-07-01T00:00:00.000000000",
          "1988-08-01T00:00:00.000000000",
          "1988-09-01T00:00:00.000000000",
          "1988-10-01T00:00:00.000000000",
          "1988-11-01T00:00:00.000000000",
          "1988-12-01T00:00:00.000000000",
          "1989-01-01T00:00:00.000000000",
          "1989-02-01T00:00:00.000000000",
          "1989-03-01T00:00:00.000000000",
          "1989-04-01T00:00:00.000000000",
          "1989-05-01T00:00:00.000000000",
          "1989-06-01T00:00:00.000000000",
          "1989-07-01T00:00:00.000000000",
          "1989-08-01T00:00:00.000000000",
          "1989-09-01T00:00:00.000000000",
          "1989-10-01T00:00:00.000000000",
          "1989-11-01T00:00:00.000000000",
          "1989-12-01T00:00:00.000000000",
          "1990-01-01T00:00:00.000000000",
          "1990-02-01T00:00:00.000000000",
          "1990-03-01T00:00:00.000000000",
          "1990-04-01T00:00:00.000000000",
          "1990-05-01T00:00:00.000000000",
          "1990-06-01T00:00:00.000000000",
          "1990-07-01T00:00:00.000000000",
          "1990-08-01T00:00:00.000000000",
          "1990-09-01T00:00:00.000000000",
          "1990-10-01T00:00:00.000000000",
          "1990-11-01T00:00:00.000000000",
          "1990-12-01T00:00:00.000000000",
          "1991-01-01T00:00:00.000000000",
          "1991-02-01T00:00:00.000000000",
          "1991-03-01T00:00:00.000000000",
          "1991-04-01T00:00:00.000000000",
          "1991-05-01T00:00:00.000000000",
          "1991-06-01T00:00:00.000000000",
          "1991-07-01T00:00:00.000000000",
          "1991-08-01T00:00:00.000000000",
          "1991-09-01T00:00:00.000000000",
          "1991-10-01T00:00:00.000000000",
          "1991-11-01T00:00:00.000000000",
          "1991-12-01T00:00:00.000000000",
          "1992-01-01T00:00:00.000000000",
          "1992-02-01T00:00:00.000000000",
          "1992-03-01T00:00:00.000000000",
          "1992-04-01T00:00:00.000000000",
          "1992-05-01T00:00:00.000000000",
          "1992-06-01T00:00:00.000000000",
          "1992-07-01T00:00:00.000000000",
          "1992-08-01T00:00:00.000000000",
          "1992-09-01T00:00:00.000000000",
          "1992-10-01T00:00:00.000000000",
          "1992-11-01T00:00:00.000000000",
          "1992-12-01T00:00:00.000000000",
          "1993-01-01T00:00:00.000000000",
          "1993-02-01T00:00:00.000000000",
          "1993-03-01T00:00:00.000000000",
          "1993-04-01T00:00:00.000000000",
          "1993-05-01T00:00:00.000000000",
          "1993-06-01T00:00:00.000000000",
          "1993-07-01T00:00:00.000000000",
          "1993-08-01T00:00:00.000000000",
          "1993-09-01T00:00:00.000000000",
          "1993-10-01T00:00:00.000000000",
          "1993-11-01T00:00:00.000000000",
          "1993-12-01T00:00:00.000000000",
          "1994-01-01T00:00:00.000000000",
          "1994-02-01T00:00:00.000000000",
          "1994-03-01T00:00:00.000000000",
          "1994-04-01T00:00:00.000000000",
          "1994-05-01T00:00:00.000000000",
          "1994-06-01T00:00:00.000000000",
          "1994-07-01T00:00:00.000000000",
          "1994-08-01T00:00:00.000000000",
          "1994-09-01T00:00:00.000000000",
          "1994-10-01T00:00:00.000000000",
          "1994-11-01T00:00:00.000000000",
          "1994-12-01T00:00:00.000000000",
          "1995-01-01T00:00:00.000000000",
          "1995-02-01T00:00:00.000000000",
          "1995-03-01T00:00:00.000000000",
          "1995-04-01T00:00:00.000000000",
          "1995-05-01T00:00:00.000000000",
          "1995-06-01T00:00:00.000000000",
          "1995-07-01T00:00:00.000000000",
          "1995-08-01T00:00:00.000000000",
          "1995-09-01T00:00:00.000000000",
          "1995-10-01T00:00:00.000000000",
          "1995-11-01T00:00:00.000000000",
          "1995-12-01T00:00:00.000000000",
          "1996-01-01T00:00:00.000000000",
          "1996-02-01T00:00:00.000000000",
          "1996-03-01T00:00:00.000000000",
          "1996-04-01T00:00:00.000000000",
          "1996-05-01T00:00:00.000000000",
          "1996-06-01T00:00:00.000000000",
          "1996-07-01T00:00:00.000000000",
          "1996-08-01T00:00:00.000000000",
          "1996-09-01T00:00:00.000000000",
          "1996-10-01T00:00:00.000000000",
          "1996-11-01T00:00:00.000000000",
          "1996-12-01T00:00:00.000000000",
          "1997-01-01T00:00:00.000000000",
          "1997-02-01T00:00:00.000000000",
          "1997-03-01T00:00:00.000000000",
          "1997-04-01T00:00:00.000000000",
          "1997-05-01T00:00:00.000000000",
          "1997-06-01T00:00:00.000000000",
          "1997-07-01T00:00:00.000000000",
          "1997-08-01T00:00:00.000000000",
          "1997-09-01T00:00:00.000000000",
          "1997-10-01T00:00:00.000000000",
          "1997-11-01T00:00:00.000000000",
          "1997-12-01T00:00:00.000000000",
          "1998-01-01T00:00:00.000000000",
          "1998-02-01T00:00:00.000000000",
          "1998-03-01T00:00:00.000000000",
          "1998-04-01T00:00:00.000000000",
          "1998-05-01T00:00:00.000000000",
          "1998-06-01T00:00:00.000000000",
          "1998-07-01T00:00:00.000000000",
          "1998-08-01T00:00:00.000000000",
          "1998-09-01T00:00:00.000000000",
          "1998-10-01T00:00:00.000000000",
          "1998-11-01T00:00:00.000000000",
          "1998-12-01T00:00:00.000000000",
          "1999-01-01T00:00:00.000000000",
          "1999-02-01T00:00:00.000000000",
          "1999-03-01T00:00:00.000000000",
          "1999-04-01T00:00:00.000000000",
          "1999-05-01T00:00:00.000000000",
          "1999-06-01T00:00:00.000000000",
          "1999-07-01T00:00:00.000000000",
          "1999-08-01T00:00:00.000000000",
          "1999-09-01T00:00:00.000000000",
          "1999-10-01T00:00:00.000000000",
          "1999-11-01T00:00:00.000000000",
          "1999-12-01T00:00:00.000000000",
          "2000-01-01T00:00:00.000000000",
          "2000-02-01T00:00:00.000000000",
          "2000-03-01T00:00:00.000000000",
          "2000-04-01T00:00:00.000000000",
          "2000-05-01T00:00:00.000000000",
          "2000-06-01T00:00:00.000000000",
          "2000-07-01T00:00:00.000000000",
          "2000-08-01T00:00:00.000000000",
          "2000-09-01T00:00:00.000000000",
          "2000-10-01T00:00:00.000000000",
          "2000-11-01T00:00:00.000000000",
          "2000-12-01T00:00:00.000000000",
          "2001-01-01T00:00:00.000000000",
          "2001-02-01T00:00:00.000000000",
          "2001-03-01T00:00:00.000000000",
          "2001-04-01T00:00:00.000000000",
          "2001-05-01T00:00:00.000000000",
          "2001-06-01T00:00:00.000000000",
          "2001-07-01T00:00:00.000000000",
          "2001-08-01T00:00:00.000000000",
          "2001-09-01T00:00:00.000000000",
          "2001-10-01T00:00:00.000000000",
          "2001-11-01T00:00:00.000000000",
          "2001-12-01T00:00:00.000000000",
          "2002-01-01T00:00:00.000000000",
          "2002-02-01T00:00:00.000000000",
          "2002-03-01T00:00:00.000000000",
          "2002-04-01T00:00:00.000000000",
          "2002-05-01T00:00:00.000000000",
          "2002-06-01T00:00:00.000000000",
          "2002-07-01T00:00:00.000000000",
          "2002-08-01T00:00:00.000000000",
          "2002-09-01T00:00:00.000000000",
          "2002-10-01T00:00:00.000000000",
          "2002-11-01T00:00:00.000000000",
          "2002-12-01T00:00:00.000000000",
          "2003-01-01T00:00:00.000000000",
          "2003-02-01T00:00:00.000000000",
          "2003-03-01T00:00:00.000000000",
          "2003-04-01T00:00:00.000000000",
          "2003-05-01T00:00:00.000000000",
          "2003-06-01T00:00:00.000000000",
          "2003-07-01T00:00:00.000000000",
          "2003-08-01T00:00:00.000000000",
          "2003-09-01T00:00:00.000000000",
          "2003-10-01T00:00:00.000000000",
          "2003-11-01T00:00:00.000000000",
          "2003-12-01T00:00:00.000000000",
          "2004-01-01T00:00:00.000000000",
          "2004-02-01T00:00:00.000000000",
          "2004-03-01T00:00:00.000000000",
          "2004-04-01T00:00:00.000000000",
          "2004-05-01T00:00:00.000000000",
          "2004-06-01T00:00:00.000000000",
          "2004-07-01T00:00:00.000000000",
          "2004-08-01T00:00:00.000000000",
          "2004-09-01T00:00:00.000000000",
          "2004-10-01T00:00:00.000000000",
          "2004-11-01T00:00:00.000000000",
          "2004-12-01T00:00:00.000000000",
          "2005-01-01T00:00:00.000000000",
          "2005-02-01T00:00:00.000000000",
          "2005-03-01T00:00:00.000000000",
          "2005-04-01T00:00:00.000000000",
          "2005-05-01T00:00:00.000000000",
          "2005-06-01T00:00:00.000000000",
          "2005-07-01T00:00:00.000000000",
          "2005-08-01T00:00:00.000000000",
          "2005-09-01T00:00:00.000000000",
          "2005-10-01T00:00:00.000000000",
          "2005-11-01T00:00:00.000000000",
          "2005-12-01T00:00:00.000000000",
          "2006-01-01T00:00:00.000000000",
          "2006-02-01T00:00:00.000000000",
          "2006-03-01T00:00:00.000000000",
          "2006-04-01T00:00:00.000000000",
          "2006-05-01T00:00:00.000000000",
          "2006-06-01T00:00:00.000000000",
          "2006-07-01T00:00:00.000000000",
          "2006-08-01T00:00:00.000000000",
          "2006-09-01T00:00:00.000000000",
          "2006-10-01T00:00:00.000000000",
          "2006-11-01T00:00:00.000000000",
          "2006-12-01T00:00:00.000000000",
          "2007-01-01T00:00:00.000000000",
          "2007-02-01T00:00:00.000000000",
          "2007-03-01T00:00:00.000000000",
          "2007-04-01T00:00:00.000000000",
          "2007-05-01T00:00:00.000000000",
          "2007-06-01T00:00:00.000000000",
          "2007-07-01T00:00:00.000000000",
          "2007-08-01T00:00:00.000000000",
          "2007-09-01T00:00:00.000000000",
          "2007-10-01T00:00:00.000000000",
          "2007-11-01T00:00:00.000000000",
          "2007-12-01T00:00:00.000000000",
          "2008-01-01T00:00:00.000000000",
          "2008-02-01T00:00:00.000000000",
          "2008-03-01T00:00:00.000000000",
          "2008-04-01T00:00:00.000000000",
          "2008-05-01T00:00:00.000000000",
          "2008-06-01T00:00:00.000000000",
          "2008-07-01T00:00:00.000000000",
          "2008-08-01T00:00:00.000000000",
          "2008-09-01T00:00:00.000000000",
          "2008-10-01T00:00:00.000000000",
          "2008-11-01T00:00:00.000000000",
          "2008-12-01T00:00:00.000000000",
          "2009-01-01T00:00:00.000000000",
          "2009-02-01T00:00:00.000000000",
          "2009-03-01T00:00:00.000000000",
          "2009-04-01T00:00:00.000000000",
          "2009-05-01T00:00:00.000000000",
          "2009-06-01T00:00:00.000000000",
          "2009-07-01T00:00:00.000000000",
          "2009-08-01T00:00:00.000000000",
          "2009-09-01T00:00:00.000000000",
          "2009-10-01T00:00:00.000000000",
          "2009-11-01T00:00:00.000000000",
          "2009-12-01T00:00:00.000000000",
          "2010-01-01T00:00:00.000000000",
          "2010-02-01T00:00:00.000000000",
          "2010-03-01T00:00:00.000000000",
          "2010-04-01T00:00:00.000000000",
          "2010-05-01T00:00:00.000000000",
          "2010-06-01T00:00:00.000000000",
          "2010-07-01T00:00:00.000000000",
          "2010-08-01T00:00:00.000000000",
          "2010-09-01T00:00:00.000000000",
          "2010-10-01T00:00:00.000000000",
          "2010-11-01T00:00:00.000000000",
          "2010-12-01T00:00:00.000000000",
          "2011-01-01T00:00:00.000000000",
          "2011-02-01T00:00:00.000000000",
          "2011-03-01T00:00:00.000000000",
          "2011-04-01T00:00:00.000000000",
          "2011-05-01T00:00:00.000000000",
          "2011-06-01T00:00:00.000000000",
          "2011-07-01T00:00:00.000000000",
          "2011-08-01T00:00:00.000000000",
          "2011-09-01T00:00:00.000000000",
          "2011-10-01T00:00:00.000000000",
          "2011-11-01T00:00:00.000000000",
          "2011-12-01T00:00:00.000000000",
          "2012-01-01T00:00:00.000000000",
          "2012-02-01T00:00:00.000000000",
          "2012-03-01T00:00:00.000000000",
          "2012-04-01T00:00:00.000000000",
          "2012-05-01T00:00:00.000000000",
          "2012-06-01T00:00:00.000000000",
          "2012-07-01T00:00:00.000000000",
          "2012-08-01T00:00:00.000000000",
          "2012-09-01T00:00:00.000000000",
          "2012-10-01T00:00:00.000000000",
          "2012-11-01T00:00:00.000000000",
          "2012-12-01T00:00:00.000000000",
          "2013-01-01T00:00:00.000000000",
          "2013-02-01T00:00:00.000000000",
          "2013-03-01T00:00:00.000000000",
          "2013-04-01T00:00:00.000000000",
          "2013-05-01T00:00:00.000000000",
          "2013-06-01T00:00:00.000000000",
          "2013-07-01T00:00:00.000000000",
          "2013-08-01T00:00:00.000000000",
          "2013-09-01T00:00:00.000000000",
          "2013-10-01T00:00:00.000000000",
          "2013-11-01T00:00:00.000000000",
          "2013-12-01T00:00:00.000000000",
          "2014-01-01T00:00:00.000000000",
          "2014-02-01T00:00:00.000000000",
          "2014-03-01T00:00:00.000000000",
          "2014-04-01T00:00:00.000000000",
          "2014-05-01T00:00:00.000000000",
          "2014-06-01T00:00:00.000000000",
          "2014-07-01T00:00:00.000000000",
          "2014-08-01T00:00:00.000000000",
          "2014-09-01T00:00:00.000000000",
          "2014-10-01T00:00:00.000000000",
          "2014-11-01T00:00:00.000000000",
          "2014-12-01T00:00:00.000000000",
          "2015-01-01T00:00:00.000000000",
          "2015-02-01T00:00:00.000000000",
          "2015-03-01T00:00:00.000000000",
          "2015-04-01T00:00:00.000000000",
          "2015-05-01T00:00:00.000000000",
          "2015-06-01T00:00:00.000000000",
          "2015-07-01T00:00:00.000000000",
          "2015-08-01T00:00:00.000000000",
          "2015-09-01T00:00:00.000000000",
          "2015-10-01T00:00:00.000000000",
          "2015-11-01T00:00:00.000000000",
          "2015-12-01T00:00:00.000000000",
          "2016-01-01T00:00:00.000000000",
          "2016-02-01T00:00:00.000000000",
          "2016-03-01T00:00:00.000000000",
          "2016-04-01T00:00:00.000000000",
          "2016-05-01T00:00:00.000000000",
          "2016-06-01T00:00:00.000000000",
          "2016-07-01T00:00:00.000000000",
          "2016-08-01T00:00:00.000000000",
          "2016-09-01T00:00:00.000000000",
          "2016-10-01T00:00:00.000000000",
          "2016-11-01T00:00:00.000000000",
          "2016-12-01T00:00:00.000000000",
          "2017-01-01T00:00:00.000000000",
          "2017-02-01T00:00:00.000000000",
          "2017-03-01T00:00:00.000000000",
          "2017-04-01T00:00:00.000000000",
          "2017-05-01T00:00:00.000000000",
          "2017-06-01T00:00:00.000000000",
          "2017-07-01T00:00:00.000000000",
          "2017-08-01T00:00:00.000000000",
          "2017-09-01T00:00:00.000000000",
          "2017-10-01T00:00:00.000000000",
          "2017-11-01T00:00:00.000000000",
          "2017-12-01T00:00:00.000000000",
          "2018-01-01T00:00:00.000000000",
          "2018-02-01T00:00:00.000000000",
          "2018-03-01T00:00:00.000000000",
          "2018-04-01T00:00:00.000000000",
          "2018-05-01T00:00:00.000000000",
          "2018-06-01T00:00:00.000000000",
          "2018-07-01T00:00:00.000000000",
          "2018-08-01T00:00:00.000000000",
          "2018-09-01T00:00:00.000000000",
          "2018-10-01T00:00:00.000000000",
          "2018-11-01T00:00:00.000000000",
          "2018-12-01T00:00:00.000000000",
          "2019-01-01T00:00:00.000000000",
          "2019-02-01T00:00:00.000000000",
          "2019-03-01T00:00:00.000000000",
          "2019-04-01T00:00:00.000000000",
          "2019-05-01T00:00:00.000000000",
          "2019-06-01T00:00:00.000000000",
          "2019-07-01T00:00:00.000000000",
          "2019-08-01T00:00:00.000000000",
          "2019-09-01T00:00:00.000000000",
          "2019-10-01T00:00:00.000000000",
          "2019-11-01T00:00:00.000000000",
          "2019-12-01T00:00:00.000000000",
          "2020-01-01T00:00:00.000000000",
          "2020-02-01T00:00:00.000000000",
          "2020-03-01T00:00:00.000000000",
          "2020-04-01T00:00:00.000000000",
          "2020-05-01T00:00:00.000000000",
          "2020-06-01T00:00:00.000000000",
          "2020-07-01T00:00:00.000000000",
          "2020-08-01T00:00:00.000000000",
          "2020-09-01T00:00:00.000000000",
          "2020-10-01T00:00:00.000000000",
          "2020-11-01T00:00:00.000000000",
          "2020-12-01T00:00:00.000000000",
          "2021-01-01T00:00:00.000000000",
          "2021-02-01T00:00:00.000000000",
          "2021-03-01T00:00:00.000000000",
          "2021-04-01T00:00:00.000000000",
          "2021-05-01T00:00:00.000000000",
          "2021-06-01T00:00:00.000000000",
          "2021-07-01T00:00:00.000000000",
          "2021-08-01T00:00:00.000000000",
          "2021-09-01T00:00:00.000000000",
          "2021-10-01T00:00:00.000000000",
          "2021-11-01T00:00:00.000000000",
          "2021-12-01T00:00:00.000000000",
          "2022-01-01T00:00:00.000000000",
          "2022-02-01T00:00:00.000000000",
          "2022-03-01T00:00:00.000000000",
          "2022-04-01T00:00:00.000000000",
          "2022-05-01T00:00:00.000000000",
          "2022-06-01T00:00:00.000000000",
          "2022-07-01T00:00:00.000000000",
          "2022-08-01T00:00:00.000000000",
          "2022-09-01T00:00:00.000000000",
          "2022-10-01T00:00:00.000000000",
          "2022-11-01T00:00:00.000000000",
          "2022-12-01T00:00:00.000000000",
          "2023-01-01T00:00:00.000000000",
          "2023-02-01T00:00:00.000000000",
          "2023-03-01T00:00:00.000000000",
          "2023-04-01T00:00:00.000000000",
          "2023-05-01T00:00:00.000000000",
          "2023-06-01T00:00:00.000000000",
          "2023-07-01T00:00:00.000000000",
          "2023-08-01T00:00:00.000000000",
          "2023-09-01T00:00:00.000000000",
          "2023-10-01T00:00:00.000000000",
          "2023-11-01T00:00:00.000000000",
          "2023-12-01T00:00:00.000000000",
          "2024-01-01T00:00:00.000000000",
          "2024-02-01T00:00:00.000000000",
          "2024-03-01T00:00:00.000000000",
          "2024-04-01T00:00:00.000000000",
          "2024-05-01T00:00:00.000000000",
          "2024-06-01T00:00:00.000000000",
          "2024-07-01T00:00:00.000000000",
          "2024-08-01T00:00:00.000000000",
          "2024-09-01T00:00:00.000000000",
          "2024-10-01T00:00:00.000000000",
          "2024-11-01T00:00:00.000000000",
          "2024-12-01T00:00:00.000000000",
          "2025-01-01T00:00:00.000000000"
         ],
         "y": {
          "bdata": "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",
          "dtype": "f8"
         }
        },
        {
         "line": {
          "color": "green"
         },
         "mode": "lines",
         "name": "United States ISM Manufacturing PMI (method: tooltips)",
         "type": "scatter",
         "x": [
          "1948-02-01T00:00:00.000000000",
          "1948-04-01T00:00:00.000000000",
          "1948-05-01T00:00:00.000000000",
          "1948-07-01T00:00:00.000000000",
          "1948-08-01T00:00:00.000000000",
          "1948-09-01T00:00:00.000000000",
          "1948-11-01T00:00:00.000000000",
          "1948-12-01T00:00:00.000000000",
          "1949-01-01T00:00:00.000000000",
          "1949-03-01T00:00:00.000000000",
          "1949-04-01T00:00:00.000000000",
          "1949-05-01T00:00:00.000000000",
          "1949-07-01T00:00:00.000000000",
          "1949-08-01T00:00:00.000000000",
          "1949-10-01T00:00:00.000000000",
          "1949-11-01T00:00:00.000000000",
          "1949-12-01T00:00:00.000000000",
          "1950-02-01T00:00:00.000000000",
          "1950-03-01T00:00:00.000000000",
          "1950-04-01T00:00:00.000000000",
          "1950-06-01T00:00:00.000000000",
          "1950-07-01T00:00:00.000000000",
          "1950-09-01T00:00:00.000000000",
          "1950-10-01T00:00:00.000000000",
          "1950-11-01T00:00:00.000000000",
          "1951-01-01T00:00:00.000000000",
          "1951-02-01T00:00:00.000000000",
          "1951-03-01T00:00:00.000000000",
          "1951-05-01T00:00:00.000000000",
          "1951-06-01T00:00:00.000000000",
          "1951-08-01T00:00:00.000000000",
          "1951-09-01T00:00:00.000000000",
          "1951-10-01T00:00:00.000000000",
          "1951-12-01T00:00:00.000000000",
          "1952-01-01T00:00:00.000000000",
          "1952-02-01T00:00:00.000000000",
          "1952-04-01T00:00:00.000000000",
          "1952-05-01T00:00:00.000000000",
          "1952-07-01T00:00:00.000000000",
          "1952-08-01T00:00:00.000000000",
          "1952-09-01T00:00:00.000000000",
          "1952-11-01T00:00:00.000000000",
          "1952-12-01T00:00:00.000000000",
          "1953-01-01T00:00:00.000000000",
          "1953-03-01T00:00:00.000000000",
          "1953-04-01T00:00:00.000000000",
          "1953-06-01T00:00:00.000000000",
          "1953-07-01T00:00:00.000000000",
          "1953-08-01T00:00:00.000000000",
          "1953-10-01T00:00:00.000000000",
          "1953-11-01T00:00:00.000000000",
          "1953-12-01T00:00:00.000000000",
          "1954-02-01T00:00:00.000000000",
          "1954-03-01T00:00:00.000000000",
          "1954-05-01T00:00:00.000000000",
          "1954-06-01T00:00:00.000000000",
          "1954-07-01T00:00:00.000000000",
          "1954-09-01T00:00:00.000000000",
          "1954-10-01T00:00:00.000000000",
          "1954-11-01T00:00:00.000000000",
          "1955-01-01T00:00:00.000000000",
          "1955-02-01T00:00:00.000000000",
          "1955-04-01T00:00:00.000000000",
          "1955-05-01T00:00:00.000000000",
          "1955-06-01T00:00:00.000000000",
          "1955-08-01T00:00:00.000000000",
          "1955-09-01T00:00:00.000000000",
          "1955-10-01T00:00:00.000000000",
          "1955-12-01T00:00:00.000000000",
          "1956-01-01T00:00:00.000000000",
          "1956-02-01T00:00:00.000000000",
          "1956-04-01T00:00:00.000000000",
          "1956-05-01T00:00:00.000000000",
          "1956-07-01T00:00:00.000000000",
          "1956-08-01T00:00:00.000000000",
          "1956-09-01T00:00:00.000000000",
          "1956-11-01T00:00:00.000000000",
          "1956-12-01T00:00:00.000000000",
          "1957-01-01T00:00:00.000000000",
          "1957-03-01T00:00:00.000000000",
          "1957-04-01T00:00:00.000000000",
          "1957-06-01T00:00:00.000000000",
          "1957-07-01T00:00:00.000000000",
          "1957-08-01T00:00:00.000000000",
          "1957-10-01T00:00:00.000000000",
          "1957-11-01T00:00:00.000000000",
          "1957-12-01T00:00:00.000000000",
          "1958-02-01T00:00:00.000000000",
          "1958-03-01T00:00:00.000000000",
          "1958-05-01T00:00:00.000000000",
          "1958-06-01T00:00:00.000000000",
          "1958-07-01T00:00:00.000000000",
          "1958-09-01T00:00:00.000000000",
          "1958-10-01T00:00:00.000000000",
          "1958-11-01T00:00:00.000000000",
          "1959-01-01T00:00:00.000000000",
          "1959-02-01T00:00:00.000000000",
          "1959-04-01T00:00:00.000000000",
          "1959-05-01T00:00:00.000000000",
          "1959-06-01T00:00:00.000000000",
          "1959-08-01T00:00:00.000000000",
          "1959-09-01T00:00:00.000000000",
          "1959-10-01T00:00:00.000000000",
          "1959-12-01T00:00:00.000000000",
          "1960-01-01T00:00:00.000000000",
          "1960-03-01T00:00:00.000000000",
          "1960-04-01T00:00:00.000000000",
          "1960-05-01T00:00:00.000000000",
          "1960-07-01T00:00:00.000000000",
          "1960-08-01T00:00:00.000000000",
          "1960-09-01T00:00:00.000000000",
          "1960-11-01T00:00:00.000000000",
          "1960-12-01T00:00:00.000000000",
          "1961-01-01T00:00:00.000000000",
          "1961-03-01T00:00:00.000000000",
          "1961-04-01T00:00:00.000000000",
          "1961-06-01T00:00:00.000000000",
          "1961-07-01T00:00:00.000000000",
          "1961-08-01T00:00:00.000000000",
          "1961-10-01T00:00:00.000000000",
          "1961-11-01T00:00:00.000000000",
          "1961-12-01T00:00:00.000000000",
          "1962-02-01T00:00:00.000000000",
          "1962-03-01T00:00:00.000000000",
          "1962-05-01T00:00:00.000000000",
          "1962-06-01T00:00:00.000000000",
          "1962-07-01T00:00:00.000000000",
          "1962-09-01T00:00:00.000000000",
          "1962-10-01T00:00:00.000000000",
          "1962-11-01T00:00:00.000000000",
          "1963-01-01T00:00:00.000000000",
          "1963-02-01T00:00:00.000000000",
          "1963-04-01T00:00:00.000000000",
          "1963-05-01T00:00:00.000000000",
          "1963-06-01T00:00:00.000000000",
          "1963-08-01T00:00:00.000000000",
          "1963-09-01T00:00:00.000000000",
          "1963-10-01T00:00:00.000000000",
          "1963-12-01T00:00:00.000000000",
          "1964-01-01T00:00:00.000000000",
          "1964-03-01T00:00:00.000000000",
          "1964-04-01T00:00:00.000000000",
          "1964-05-01T00:00:00.000000000",
          "1964-07-01T00:00:00.000000000",
          "1964-08-01T00:00:00.000000000",
          "1964-09-01T00:00:00.000000000",
          "1964-11-01T00:00:00.000000000",
          "1964-12-01T00:00:00.000000000",
          "1965-02-01T00:00:00.000000000",
          "1965-03-01T00:00:00.000000000",
          "1965-04-01T00:00:00.000000000",
          "1965-06-01T00:00:00.000000000",
          "1965-07-01T00:00:00.000000000",
          "1965-08-01T00:00:00.000000000",
          "1965-10-01T00:00:00.000000000",
          "1965-11-01T00:00:00.000000000",
          "1966-01-01T00:00:00.000000000",
          "1966-02-01T00:00:00.000000000",
          "1966-03-01T00:00:00.000000000",
          "1966-05-01T00:00:00.000000000",
          "1966-06-01T00:00:00.000000000",
          "1966-07-01T00:00:00.000000000",
          "1966-09-01T00:00:00.000000000",
          "1966-10-01T00:00:00.000000000",
          "1966-12-01T00:00:00.000000000",
          "1967-01-01T00:00:00.000000000",
          "1967-02-01T00:00:00.000000000",
          "1967-04-01T00:00:00.000000000",
          "1967-05-01T00:00:00.000000000",
          "1967-06-01T00:00:00.000000000",
          "1967-08-01T00:00:00.000000000",
          "1967-09-01T00:00:00.000000000",
          "1967-11-01T00:00:00.000000000",
          "1967-12-01T00:00:00.000000000",
          "1968-01-01T00:00:00.000000000",
          "1968-03-01T00:00:00.000000000",
          "1968-04-01T00:00:00.000000000",
          "1968-05-01T00:00:00.000000000",
          "1968-07-01T00:00:00.000000000",
          "1968-08-01T00:00:00.000000000",
          "1968-10-01T00:00:00.000000000",
          "1968-11-01T00:00:00.000000000",
          "1968-12-01T00:00:00.000000000",
          "1969-02-01T00:00:00.000000000",
          "1969-03-01T00:00:00.000000000",
          "1969-04-01T00:00:00.000000000",
          "1969-06-01T00:00:00.000000000",
          "1969-07-01T00:00:00.000000000",
          "1969-08-01T00:00:00.000000000",
          "1969-10-01T00:00:00.000000000",
          "1969-11-01T00:00:00.000000000",
          "1970-01-01T00:00:00.000000000",
          "1970-02-01T00:00:00.000000000",
          "1970-03-01T00:00:00.000000000",
          "1970-05-01T00:00:00.000000000",
          "1970-06-01T00:00:00.000000000",
          "1970-08-01T00:00:00.000000000",
          "1970-09-01T00:00:00.000000000",
          "1970-10-01T00:00:00.000000000",
          "1970-12-01T00:00:00.000000000",
          "1971-01-01T00:00:00.000000000",
          "1971-02-01T00:00:00.000000000",
          "1971-04-01T00:00:00.000000000",
          "1971-05-01T00:00:00.000000000",
          "1971-07-01T00:00:00.000000000",
          "1971-08-01T00:00:00.000000000",
          "1971-09-01T00:00:00.000000000",
          "1971-11-01T00:00:00.000000000",
          "1971-12-01T00:00:00.000000000",
          "1972-01-01T00:00:00.000000000",
          "1972-03-01T00:00:00.000000000",
          "1972-04-01T00:00:00.000000000",
          "1972-05-01T00:00:00.000000000",
          "1972-07-01T00:00:00.000000000",
          "1972-08-01T00:00:00.000000000",
          "1972-10-01T00:00:00.000000000",
          "1972-11-01T00:00:00.000000000",
          "1972-12-01T00:00:00.000000000",
          "1973-02-01T00:00:00.000000000",
          "1973-03-01T00:00:00.000000000",
          "1973-04-01T00:00:00.000000000",
          "1973-06-01T00:00:00.000000000",
          "1973-07-01T00:00:00.000000000",
          "1973-09-01T00:00:00.000000000",
          "1973-10-01T00:00:00.000000000",
          "1973-11-01T00:00:00.000000000",
          "1974-01-01T00:00:00.000000000",
          "1974-02-01T00:00:00.000000000",
          "1974-03-01T00:00:00.000000000",
          "1974-05-01T00:00:00.000000000",
          "1974-06-01T00:00:00.000000000",
          "1974-08-01T00:00:00.000000000",
          "1974-09-01T00:00:00.000000000",
          "1974-10-01T00:00:00.000000000",
          "1974-12-01T00:00:00.000000000",
          "1975-01-01T00:00:00.000000000",
          "1975-02-01T00:00:00.000000000",
          "1975-04-01T00:00:00.000000000",
          "1975-05-01T00:00:00.000000000",
          "1975-07-01T00:00:00.000000000",
          "1975-08-01T00:00:00.000000000",
          "1975-09-01T00:00:00.000000000",
          "1975-11-01T00:00:00.000000000",
          "1975-12-01T00:00:00.000000000",
          "1976-01-01T00:00:00.000000000",
          "1976-03-01T00:00:00.000000000",
          "1976-04-01T00:00:00.000000000",
          "1976-06-01T00:00:00.000000000",
          "1976-07-01T00:00:00.000000000",
          "1976-08-01T00:00:00.000000000",
          "1976-10-01T00:00:00.000000000",
          "1976-11-01T00:00:00.000000000",
          "1976-12-01T00:00:00.000000000",
          "1977-02-01T00:00:00.000000000",
          "1977-03-01T00:00:00.000000000",
          "1977-05-01T00:00:00.000000000",
          "1977-06-01T00:00:00.000000000",
          "1977-07-01T00:00:00.000000000",
          "1977-09-01T00:00:00.000000000",
          "1977-10-01T00:00:00.000000000",
          "1977-11-01T00:00:00.000000000",
          "1978-01-01T00:00:00.000000000",
          "1978-02-01T00:00:00.000000000",
          "1978-04-01T00:00:00.000000000",
          "1978-05-01T00:00:00.000000000",
          "1978-06-01T00:00:00.000000000",
          "1978-08-01T00:00:00.000000000",
          "1978-09-01T00:00:00.000000000",
          "1978-10-01T00:00:00.000000000",
          "1978-12-01T00:00:00.000000000",
          "1979-01-01T00:00:00.000000000",
          "1979-02-01T00:00:00.000000000",
          "1979-04-01T00:00:00.000000000",
          "1979-05-01T00:00:00.000000000",
          "1979-07-01T00:00:00.000000000",
          "1979-08-01T00:00:00.000000000",
          "1979-09-01T00:00:00.000000000",
          "1979-11-01T00:00:00.000000000",
          "1979-12-01T00:00:00.000000000",
          "1980-01-01T00:00:00.000000000",
          "1980-03-01T00:00:00.000000000",
          "1980-04-01T00:00:00.000000000",
          "1980-06-01T00:00:00.000000000",
          "1980-07-01T00:00:00.000000000",
          "1980-08-01T00:00:00.000000000",
          "1980-10-01T00:00:00.000000000",
          "1980-11-01T00:00:00.000000000",
          "1980-12-01T00:00:00.000000000",
          "1981-02-01T00:00:00.000000000",
          "1981-03-01T00:00:00.000000000",
          "1981-05-01T00:00:00.000000000",
          "1981-06-01T00:00:00.000000000",
          "1981-07-01T00:00:00.000000000",
          "1981-09-01T00:00:00.000000000",
          "1981-10-01T00:00:00.000000000",
          "1981-11-01T00:00:00.000000000",
          "1982-01-01T00:00:00.000000000",
          "1982-02-01T00:00:00.000000000",
          "1982-04-01T00:00:00.000000000",
          "1982-05-01T00:00:00.000000000",
          "1982-06-01T00:00:00.000000000",
          "1982-08-01T00:00:00.000000000",
          "1982-09-01T00:00:00.000000000",
          "1982-10-01T00:00:00.000000000",
          "1982-12-01T00:00:00.000000000",
          "1983-01-01T00:00:00.000000000",
          "1983-03-01T00:00:00.000000000",
          "1983-04-01T00:00:00.000000000",
          "1983-05-01T00:00:00.000000000",
          "1983-07-01T00:00:00.000000000",
          "1983-08-01T00:00:00.000000000",
          "1983-09-01T00:00:00.000000000",
          "1983-11-01T00:00:00.000000000",
          "1983-12-01T00:00:00.000000000",
          "1984-01-01T00:00:00.000000000",
          "1984-03-01T00:00:00.000000000",
          "1984-04-01T00:00:00.000000000",
          "1984-06-01T00:00:00.000000000",
          "1984-07-01T00:00:00.000000000",
          "1984-08-01T00:00:00.000000000",
          "1984-10-01T00:00:00.000000000",
          "1984-11-01T00:00:00.000000000",
          "1984-12-01T00:00:00.000000000",
          "1985-02-01T00:00:00.000000000",
          "1985-03-01T00:00:00.000000000",
          "1985-05-01T00:00:00.000000000",
          "1985-06-01T00:00:00.000000000",
          "1985-07-01T00:00:00.000000000",
          "1985-09-01T00:00:00.000000000",
          "1985-10-01T00:00:00.000000000",
          "1985-11-01T00:00:00.000000000",
          "1986-01-01T00:00:00.000000000",
          "1986-02-01T00:00:00.000000000",
          "1986-04-01T00:00:00.000000000",
          "1986-05-01T00:00:00.000000000",
          "1986-06-01T00:00:00.000000000",
          "1986-08-01T00:00:00.000000000",
          "1986-09-01T00:00:00.000000000",
          "1986-10-01T00:00:00.000000000",
          "1986-12-01T00:00:00.000000000",
          "1987-01-01T00:00:00.000000000",
          "1987-03-01T00:00:00.000000000",
          "1987-04-01T00:00:00.000000000",
          "1987-05-01T00:00:00.000000000",
          "1987-07-01T00:00:00.000000000",
          "1987-08-01T00:00:00.000000000",
          "1987-09-01T00:00:00.000000000",
          "1987-11-01T00:00:00.000000000",
          "1987-12-01T00:00:00.000000000",
          "1988-02-01T00:00:00.000000000",
          "1988-03-01T00:00:00.000000000",
          "1988-04-01T00:00:00.000000000",
          "1988-06-01T00:00:00.000000000",
          "1988-07-01T00:00:00.000000000",
          "1988-08-01T00:00:00.000000000",
          "1988-10-01T00:00:00.000000000",
          "1988-11-01T00:00:00.000000000",
          "1989-01-01T00:00:00.000000000",
          "1989-02-01T00:00:00.000000000",
          "1989-03-01T00:00:00.000000000",
          "1989-05-01T00:00:00.000000000",
          "1989-06-01T00:00:00.000000000",
          "1989-07-01T00:00:00.000000000",
          "1989-09-01T00:00:00.000000000",
          "1989-10-01T00:00:00.000000000",
          "1989-12-01T00:00:00.000000000",
          "1990-01-01T00:00:00.000000000",
          "1990-02-01T00:00:00.000000000",
          "1990-04-01T00:00:00.000000000",
          "1990-05-01T00:00:00.000000000",
          "1990-06-01T00:00:00.000000000",
          "1990-08-01T00:00:00.000000000",
          "1990-09-01T00:00:00.000000000",
          "1990-11-01T00:00:00.000000000",
          "1990-12-01T00:00:00.000000000",
          "1991-01-01T00:00:00.000000000",
          "1991-03-01T00:00:00.000000000",
          "1991-04-01T00:00:00.000000000",
          "1991-05-01T00:00:00.000000000",
          "1991-07-01T00:00:00.000000000",
          "1991-08-01T00:00:00.000000000",
          "1991-09-01T00:00:00.000000000",
          "1991-11-01T00:00:00.000000000",
          "1991-12-01T00:00:00.000000000",
          "1992-02-01T00:00:00.000000000",
          "1992-03-01T00:00:00.000000000",
          "1992-04-01T00:00:00.000000000",
          "1992-06-01T00:00:00.000000000",
          "1992-07-01T00:00:00.000000000",
          "1992-08-01T00:00:00.000000000",
          "1992-10-01T00:00:00.000000000",
          "1992-11-01T00:00:00.000000000",
          "1993-01-01T00:00:00.000000000",
          "1993-02-01T00:00:00.000000000",
          "1993-03-01T00:00:00.000000000",
          "1993-05-01T00:00:00.000000000",
          "1993-06-01T00:00:00.000000000",
          "1993-07-01T00:00:00.000000000",
          "1993-09-01T00:00:00.000000000",
          "1993-10-01T00:00:00.000000000",
          "1993-12-01T00:00:00.000000000",
          "1994-01-01T00:00:00.000000000",
          "1994-02-01T00:00:00.000000000",
          "1994-04-01T00:00:00.000000000",
          "1994-05-01T00:00:00.000000000",
          "1994-06-01T00:00:00.000000000",
          "1994-08-01T00:00:00.000000000",
          "1994-09-01T00:00:00.000000000",
          "1994-11-01T00:00:00.000000000",
          "1994-12-01T00:00:00.000000000",
          "1995-01-01T00:00:00.000000000",
          "1995-03-01T00:00:00.000000000",
          "1995-04-01T00:00:00.000000000",
          "1995-05-01T00:00:00.000000000",
          "1995-07-01T00:00:00.000000000",
          "1995-08-01T00:00:00.000000000",
          "1995-10-01T00:00:00.000000000",
          "1995-11-01T00:00:00.000000000",
          "1995-12-01T00:00:00.000000000",
          "1996-02-01T00:00:00.000000000",
          "1996-03-01T00:00:00.000000000",
          "1996-04-01T00:00:00.000000000",
          "1996-06-01T00:00:00.000000000",
          "1996-07-01T00:00:00.000000000",
          "1996-09-01T00:00:00.000000000",
          "1996-10-01T00:00:00.000000000",
          "1996-11-01T00:00:00.000000000",
          "1997-01-01T00:00:00.000000000",
          "1997-02-01T00:00:00.000000000",
          "1997-03-01T00:00:00.000000000",
          "1997-05-01T00:00:00.000000000",
          "1997-06-01T00:00:00.000000000",
          "1997-08-01T00:00:00.000000000",
          "1997-09-01T00:00:00.000000000",
          "1997-10-01T00:00:00.000000000",
          "1997-12-01T00:00:00.000000000",
          "1998-01-01T00:00:00.000000000",
          "1998-02-01T00:00:00.000000000",
          "1998-04-01T00:00:00.000000000",
          "1998-05-01T00:00:00.000000000",
          "1998-07-01T00:00:00.000000000",
          "1998-08-01T00:00:00.000000000",
          "1998-09-01T00:00:00.000000000",
          "1998-11-01T00:00:00.000000000",
          "1998-12-01T00:00:00.000000000",
          "1999-01-01T00:00:00.000000000",
          "1999-03-01T00:00:00.000000000",
          "1999-04-01T00:00:00.000000000",
          "1999-06-01T00:00:00.000000000",
          "1999-07-01T00:00:00.000000000",
          "1999-08-01T00:00:00.000000000",
          "1999-10-01T00:00:00.000000000",
          "1999-11-01T00:00:00.000000000",
          "1999-12-01T00:00:00.000000000",
          "2000-02-01T00:00:00.000000000",
          "2000-03-01T00:00:00.000000000",
          "2000-04-01T00:00:00.000000000",
          "2000-06-01T00:00:00.000000000",
          "2000-07-01T00:00:00.000000000",
          "2000-09-01T00:00:00.000000000",
          "2000-10-01T00:00:00.000000000",
          "2000-11-01T00:00:00.000000000",
          "2001-01-01T00:00:00.000000000",
          "2001-02-01T00:00:00.000000000",
          "2001-03-01T00:00:00.000000000",
          "2001-05-01T00:00:00.000000000",
          "2001-06-01T00:00:00.000000000",
          "2001-08-01T00:00:00.000000000",
          "2001-09-01T00:00:00.000000000",
          "2001-10-01T00:00:00.000000000",
          "2001-12-01T00:00:00.000000000",
          "2002-01-01T00:00:00.000000000",
          "2002-02-01T00:00:00.000000000",
          "2002-04-01T00:00:00.000000000",
          "2002-05-01T00:00:00.000000000",
          "2002-07-01T00:00:00.000000000",
          "2002-08-01T00:00:00.000000000",
          "2002-09-01T00:00:00.000000000",
          "2002-11-01T00:00:00.000000000",
          "2002-12-01T00:00:00.000000000",
          "2003-01-01T00:00:00.000000000",
          "2003-03-01T00:00:00.000000000",
          "2003-04-01T00:00:00.000000000",
          "2003-06-01T00:00:00.000000000",
          "2003-07-01T00:00:00.000000000",
          "2003-08-01T00:00:00.000000000",
          "2003-10-01T00:00:00.000000000",
          "2003-11-01T00:00:00.000000000",
          "2003-12-01T00:00:00.000000000",
          "2004-02-01T00:00:00.000000000",
          "2004-03-01T00:00:00.000000000",
          "2004-05-01T00:00:00.000000000",
          "2004-06-01T00:00:00.000000000",
          "2004-07-01T00:00:00.000000000",
          "2004-09-01T00:00:00.000000000",
          "2004-10-01T00:00:00.000000000",
          "2004-11-01T00:00:00.000000000",
          "2005-01-01T00:00:00.000000000",
          "2005-02-01T00:00:00.000000000",
          "2005-04-01T00:00:00.000000000",
          "2005-05-01T00:00:00.000000000",
          "2005-06-01T00:00:00.000000000",
          "2005-08-01T00:00:00.000000000",
          "2005-09-01T00:00:00.000000000",
          "2005-10-01T00:00:00.000000000",
          "2005-12-01T00:00:00.000000000",
          "2006-01-01T00:00:00.000000000",
          "2006-02-01T00:00:00.000000000",
          "2006-04-01T00:00:00.000000000",
          "2006-05-01T00:00:00.000000000",
          "2006-07-01T00:00:00.000000000",
          "2006-08-01T00:00:00.000000000",
          "2006-09-01T00:00:00.000000000",
          "2006-11-01T00:00:00.000000000",
          "2006-12-01T00:00:00.000000000",
          "2007-01-01T00:00:00.000000000",
          "2007-03-01T00:00:00.000000000",
          "2007-04-01T00:00:00.000000000",
          "2007-06-01T00:00:00.000000000",
          "2007-07-01T00:00:00.000000000",
          "2007-08-01T00:00:00.000000000",
          "2007-10-01T00:00:00.000000000",
          "2007-11-01T00:00:00.000000000",
          "2007-12-01T00:00:00.000000000",
          "2008-02-01T00:00:00.000000000",
          "2008-03-01T00:00:00.000000000",
          "2008-05-01T00:00:00.000000000",
          "2008-06-01T00:00:00.000000000",
          "2008-07-01T00:00:00.000000000",
          "2008-09-01T00:00:00.000000000",
          "2008-10-01T00:00:00.000000000",
          "2008-11-01T00:00:00.000000000",
          "2009-01-01T00:00:00.000000000",
          "2009-02-01T00:00:00.000000000",
          "2009-04-01T00:00:00.000000000",
          "2009-05-01T00:00:00.000000000",
          "2009-06-01T00:00:00.000000000",
          "2009-08-01T00:00:00.000000000",
          "2009-09-01T00:00:00.000000000",
          "2009-10-01T00:00:00.000000000",
          "2009-12-01T00:00:00.000000000",
          "2010-01-01T00:00:00.000000000",
          "2010-03-01T00:00:00.000000000",
          "2010-04-01T00:00:00.000000000",
          "2010-05-01T00:00:00.000000000",
          "2010-07-01T00:00:00.000000000",
          "2010-08-01T00:00:00.000000000",
          "2010-09-01T00:00:00.000000000",
          "2010-11-01T00:00:00.000000000",
          "2010-12-01T00:00:00.000000000",
          "2011-02-01T00:00:00.000000000",
          "2011-03-01T00:00:00.000000000",
          "2011-04-01T00:00:00.000000000",
          "2011-06-01T00:00:00.000000000",
          "2011-07-01T00:00:00.000000000",
          "2011-08-01T00:00:00.000000000",
          "2011-10-01T00:00:00.000000000",
          "2011-11-01T00:00:00.000000000",
          "2012-01-01T00:00:00.000000000",
          "2012-02-01T00:00:00.000000000",
          "2012-03-01T00:00:00.000000000",
          "2012-05-01T00:00:00.000000000",
          "2012-06-01T00:00:00.000000000",
          "2012-07-01T00:00:00.000000000",
          "2012-09-01T00:00:00.000000000",
          "2012-10-01T00:00:00.000000000",
          "2012-11-01T00:00:00.000000000",
          "2013-01-01T00:00:00.000000000",
          "2013-02-01T00:00:00.000000000",
          "2013-04-01T00:00:00.000000000",
          "2013-05-01T00:00:00.000000000",
          "2013-06-01T00:00:00.000000000",
          "2013-08-01T00:00:00.000000000",
          "2013-09-01T00:00:00.000000000",
          "2013-10-01T00:00:00.000000000",
          "2013-12-01T00:00:00.000000000",
          "2014-01-01T00:00:00.000000000",
          "2014-03-01T00:00:00.000000000",
          "2014-04-01T00:00:00.000000000",
          "2014-05-01T00:00:00.000000000",
          "2014-07-01T00:00:00.000000000",
          "2014-08-01T00:00:00.000000000",
          "2014-09-01T00:00:00.000000000",
          "2014-11-01T00:00:00.000000000",
          "2014-12-01T00:00:00.000000000",
          "2015-02-01T00:00:00.000000000",
          "2015-03-01T00:00:00.000000000",
          "2015-04-01T00:00:00.000000000",
          "2015-06-01T00:00:00.000000000",
          "2015-07-01T00:00:00.000000000",
          "2015-08-01T00:00:00.000000000",
          "2015-10-01T00:00:00.000000000",
          "2015-11-01T00:00:00.000000000",
          "2016-01-01T00:00:00.000000000",
          "2016-02-01T00:00:00.000000000",
          "2016-03-01T00:00:00.000000000",
          "2016-05-01T00:00:00.000000000",
          "2016-06-01T00:00:00.000000000",
          "2016-07-01T00:00:00.000000000",
          "2016-09-01T00:00:00.000000000",
          "2016-10-01T00:00:00.000000000",
          "2016-12-01T00:00:00.000000000",
          "2017-01-01T00:00:00.000000000",
          "2017-02-01T00:00:00.000000000",
          "2017-04-01T00:00:00.000000000",
          "2017-05-01T00:00:00.000000000",
          "2017-06-01T00:00:00.000000000",
          "2017-08-01T00:00:00.000000000",
          "2017-09-01T00:00:00.000000000",
          "2017-11-01T00:00:00.000000000",
          "2017-12-01T00:00:00.000000000",
          "2018-01-01T00:00:00.000000000",
          "2018-03-01T00:00:00.000000000",
          "2018-04-01T00:00:00.000000000",
          "2018-05-01T00:00:00.000000000",
          "2018-07-01T00:00:00.000000000",
          "2018-08-01T00:00:00.000000000",
          "2018-10-01T00:00:00.000000000",
          "2018-11-01T00:00:00.000000000",
          "2018-12-01T00:00:00.000000000",
          "2019-02-01T00:00:00.000000000",
          "2019-03-01T00:00:00.000000000",
          "2019-04-01T00:00:00.000000000",
          "2019-06-01T00:00:00.000000000",
          "2019-07-01T00:00:00.000000000",
          "2019-09-01T00:00:00.000000000",
          "2019-10-01T00:00:00.000000000",
          "2019-11-01T00:00:00.000000000",
          "2020-01-01T00:00:00.000000000",
          "2020-02-01T00:00:00.000000000",
          "2020-03-01T00:00:00.000000000",
          "2020-05-01T00:00:00.000000000",
          "2020-06-01T00:00:00.000000000",
          "2020-07-01T00:00:00.000000000",
          "2020-09-01T00:00:00.000000000",
          "2020-10-01T00:00:00.000000000",
          "2020-12-01T00:00:00.000000000",
          "2021-01-01T00:00:00.000000000",
          "2021-02-01T00:00:00.000000000",
          "2021-04-01T00:00:00.000000000",
          "2021-05-01T00:00:00.000000000",
          "2021-06-01T00:00:00.000000000",
          "2021-08-01T00:00:00.000000000",
          "2021-09-01T00:00:00.000000000",
          "2021-11-01T00:00:00.000000000",
          "2021-12-01T00:00:00.000000000",
          "2022-01-01T00:00:00.000000000",
          "2022-03-01T00:00:00.000000000",
          "2022-04-01T00:00:00.000000000",
          "2022-05-01T00:00:00.000000000",
          "2022-07-01T00:00:00.000000000",
          "2022-08-01T00:00:00.000000000",
          "2022-10-01T00:00:00.000000000",
          "2022-11-01T00:00:00.000000000",
          "2022-12-01T00:00:00.000000000",
          "2023-02-01T00:00:00.000000000",
          "2023-03-01T00:00:00.000000000",
          "2023-04-01T00:00:00.000000000",
          "2023-06-01T00:00:00.000000000",
          "2023-07-01T00:00:00.000000000",
          "2023-09-01T00:00:00.000000000",
          "2023-10-01T00:00:00.000000000",
          "2023-11-01T00:00:00.000000000",
          "2024-01-01T00:00:00.000000000",
          "2024-02-01T00:00:00.000000000",
          "2024-03-01T00:00:00.000000000",
          "2024-05-01T00:00:00.000000000",
          "2024-06-01T00:00:00.000000000",
          "2024-08-01T00:00:00.000000000",
          "2024-09-01T00:00:00.000000000",
          "2024-10-01T00:00:00.000000000",
          "2024-12-01T00:00:00.000000000"
         ],
         "y": {
          "bdata": "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",
          "dtype": "f8"
         }
        }
       ],
       "layout": {
        "annotations": [
         {
          "align": "left",
          "bgcolor": "rgba(255, 255, 255, 0.8)",
          "bordercolor": "black",
          "borderwidth": 1,
          "font": {
           "size": 10
          },
          "showarrow": false,
          "text": "Source: Trading Economics<br>Original Source: Institute for Supply Management<br>Frequency: MS<br>",
          "x": -0.05,
          "xanchor": "left",
          "xref": "paper",
          "y": -0.25,
          "yanchor": "bottom",
          "yref": "paper"
         }
        ],
        "legend": {
         "orientation": "h",
         "title": {
          "text": ""
         },
         "x": 0.5,
         "xanchor": "center",
         "y": -0.2,
         "yanchor": "bottom"
        },
        "template": {
         "data": {
          "bar": [
           {
            "error_x": {
             "color": "#2a3f5f"
            },
            "error_y": {
             "color": "#2a3f5f"
            },
            "marker": {
             "line": {
              "color": "#E5ECF6",
              "width": 0.5
             },
             "pattern": {
              "fillmode": "overlay",
              "size": 10,
              "solidity": 0.2
             }
            },
            "type": "bar"
           }
          ],
          "barpolar": [
           {
            "marker": {
             "line": {
              "color": "#E5ECF6",
              "width": 0.5
             },
             "pattern": {
              "fillmode": "overlay",
              "size": 10,
              "solidity": 0.2
             }
            },
            "type": "barpolar"
           }
          ],
          "carpet": [
           {
            "aaxis": {
             "endlinecolor": "#2a3f5f",
             "gridcolor": "white",
             "linecolor": "white",
             "minorgridcolor": "white",
             "startlinecolor": "#2a3f5f"
            },
            "baxis": {
             "endlinecolor": "#2a3f5f",
             "gridcolor": "white",
             "linecolor": "white",
             "minorgridcolor": "white",
             "startlinecolor": "#2a3f5f"
            },
            "type": "carpet"
           }
          ],
          "choropleth": [
           {
            "colorbar": {
             "outlinewidth": 0,
             "ticks": ""
            },
            "type": "choropleth"
           }
          ],
          "contour": [
           {
            "colorbar": {
             "outlinewidth": 0,
             "ticks": ""
            },
            "colorscale": [
             [
              0,
              "#0d0887"
             ],
             [
              0.1111111111111111,
              "#46039f"
             ],
             [
              0.2222222222222222,
              "#7201a8"
             ],
             [
              0.3333333333333333,
              "#9c179e"
             ],
             [
              0.4444444444444444,
              "#bd3786"
             ],
             [
              0.5555555555555556,
              "#d8576b"
             ],
             [
              0.6666666666666666,
              "#ed7953"
             ],
             [
              0.7777777777777778,
              "#fb9f3a"
             ],
             [
              0.8888888888888888,
              "#fdca26"
             ],
             [
              1,
              "#f0f921"
             ]
            ],
            "type": "contour"
           }
          ],
          "contourcarpet": [
           {
            "colorbar": {
             "outlinewidth": 0,
             "ticks": ""
            },
            "type": "contourcarpet"
           }
          ],
          "heatmap": [
           {
            "colorbar": {
             "outlinewidth": 0,
             "ticks": ""
            },
            "colorscale": [
             [
              0,
              "#0d0887"
             ],
             [
              0.1111111111111111,
              "#46039f"
             ],
             [
              0.2222222222222222,
              "#7201a8"
             ],
             [
              0.3333333333333333,
              "#9c179e"
             ],
             [
              0.4444444444444444,
              "#bd3786"
             ],
             [
              0.5555555555555556,
              "#d8576b"
             ],
             [
              0.6666666666666666,
              "#ed7953"
             ],
             [
              0.7777777777777778,
              "#fb9f3a"
             ],
             [
              0.8888888888888888,
              "#fdca26"
             ],
             [
              1,
              "#f0f921"
             ]
            ],
            "type": "heatmap"
           }
          ],
          "histogram": [
           {
            "marker": {
             "pattern": {
              "fillmode": "overlay",
              "size": 10,
              "solidity": 0.2
             }
            },
            "type": "histogram"
           }
          ],
          "histogram2d": [
           {
            "colorbar": {
             "outlinewidth": 0,
             "ticks": ""
            },
            "colorscale": [
             [
              0,
              "#0d0887"
             ],
             [
              0.1111111111111111,
              "#46039f"
             ],
             [
              0.2222222222222222,
              "#7201a8"
             ],
             [
              0.3333333333333333,
              "#9c179e"
             ],
             [
              0.4444444444444444,
              "#bd3786"
             ],
             [
              0.5555555555555556,
              "#d8576b"
             ],
             [
              0.6666666666666666,
              "#ed7953"
             ],
             [
              0.7777777777777778,
              "#fb9f3a"
             ],
             [
              0.8888888888888888,
              "#fdca26"
             ],
             [
              1,
              "#f0f921"
             ]
            ],
            "type": "histogram2d"
           }
          ],
          "histogram2dcontour": [
           {
            "colorbar": {
             "outlinewidth": 0,
             "ticks": ""
            },
            "colorscale": [
             [
              0,
              "#0d0887"
             ],
             [
              0.1111111111111111,
              "#46039f"
             ],
             [
              0.2222222222222222,
              "#7201a8"
             ],
             [
              0.3333333333333333,
              "#9c179e"
             ],
             [
              0.4444444444444444,
              "#bd3786"
             ],
             [
              0.5555555555555556,
              "#d8576b"
             ],
             [
              0.6666666666666666,
              "#ed7953"
             ],
             [
              0.7777777777777778,
              "#fb9f3a"
             ],
             [
              0.8888888888888888,
              "#fdca26"
             ],
             [
              1,
              "#f0f921"
             ]
            ],
            "type": "histogram2dcontour"
           }
          ],
          "mesh3d": [
           {
            "colorbar": {
             "outlinewidth": 0,
             "ticks": ""
            },
            "type": "mesh3d"
           }
          ],
          "parcoords": [
           {
            "line": {
             "colorbar": {
              "outlinewidth": 0,
              "ticks": ""
             }
            },
            "type": "parcoords"
           }
          ],
          "pie": [
           {
            "automargin": true,
            "type": "pie"
           }
          ],
          "scatter": [
           {
            "fillpattern": {
             "fillmode": "overlay",
             "size": 10,
             "solidity": 0.2
            },
            "type": "scatter"
           }
          ],
          "scatter3d": [
           {
            "line": {
             "colorbar": {
              "outlinewidth": 0,
              "ticks": ""
             }
            },
            "marker": {
             "colorbar": {
              "outlinewidth": 0,
              "ticks": ""
             }
            },
            "type": "scatter3d"
           }
          ],
          "scattercarpet": [
           {
            "marker": {
             "colorbar": {
              "outlinewidth": 0,
              "ticks": ""
             }
            },
            "type": "scattercarpet"
           }
          ],
          "scattergeo": [
           {
            "marker": {
             "colorbar": {
              "outlinewidth": 0,
              "ticks": ""
             }
            },
            "type": "scattergeo"
           }
          ],
          "scattergl": [
           {
            "marker": {
             "colorbar": {
              "outlinewidth": 0,
              "ticks": ""
             }
            },
            "type": "scattergl"
           }
          ],
          "scattermap": [
           {
            "marker": {
             "colorbar": {
              "outlinewidth": 0,
              "ticks": ""
             }
            },
            "type": "scattermap"
           }
          ],
          "scattermapbox": [
           {
            "marker": {
             "colorbar": {
              "outlinewidth": 0,
              "ticks": ""
             }
            },
            "type": "scattermapbox"
           }
          ],
          "scatterpolar": [
           {
            "marker": {
             "colorbar": {
              "outlinewidth": 0,
              "ticks": ""
             }
            },
            "type": "scatterpolar"
           }
          ],
          "scatterpolargl": [
           {
            "marker": {
             "colorbar": {
              "outlinewidth": 0,
              "ticks": ""
             }
            },
            "type": "scatterpolargl"
           }
          ],
          "scatterternary": [
           {
            "marker": {
             "colorbar": {
              "outlinewidth": 0,
              "ticks": ""
             }
            },
            "type": "scatterternary"
           }
          ],
          "surface": [
           {
            "colorbar": {
             "outlinewidth": 0,
             "ticks": ""
            },
            "colorscale": [
             [
              0,
              "#0d0887"
             ],
             [
              0.1111111111111111,
              "#46039f"
             ],
             [
              0.2222222222222222,
              "#7201a8"
             ],
             [
              0.3333333333333333,
              "#9c179e"
             ],
             [
              0.4444444444444444,
              "#bd3786"
             ],
             [
              0.5555555555555556,
              "#d8576b"
             ],
             [
              0.6666666666666666,
              "#ed7953"
             ],
             [
              0.7777777777777778,
              "#fb9f3a"
             ],
             [
              0.8888888888888888,
              "#fdca26"
             ],
             [
              1,
              "#f0f921"
             ]
            ],
            "type": "surface"
           }
          ],
          "table": [
           {
            "cells": {
             "fill": {
              "color": "#EBF0F8"
             },
             "line": {
              "color": "white"
             }
            },
            "header": {
             "fill": {
              "color": "#C8D4E3"
             },
             "line": {
              "color": "white"
             }
            },
            "type": "table"
           }
          ]
         },
         "layout": {
          "annotationdefaults": {
           "arrowcolor": "#2a3f5f",
           "arrowhead": 0,
           "arrowwidth": 1
          },
          "autotypenumbers": "strict",
          "coloraxis": {
           "colorbar": {
            "outlinewidth": 0,
            "ticks": ""
           }
          },
          "colorscale": {
           "diverging": [
            [
             0,
             "#8e0152"
            ],
            [
             0.1,
             "#c51b7d"
            ],
            [
             0.2,
             "#de77ae"
            ],
            [
             0.3,
             "#f1b6da"
            ],
            [
             0.4,
             "#fde0ef"
            ],
            [
             0.5,
             "#f7f7f7"
            ],
            [
             0.6,
             "#e6f5d0"
            ],
            [
             0.7,
             "#b8e186"
            ],
            [
             0.8,
             "#7fbc41"
            ],
            [
             0.9,
             "#4d9221"
            ],
            [
             1,
             "#276419"
            ]
           ],
           "sequential": [
            [
             0,
             "#0d0887"
            ],
            [
             0.1111111111111111,
             "#46039f"
            ],
            [
             0.2222222222222222,
             "#7201a8"
            ],
            [
             0.3333333333333333,
             "#9c179e"
            ],
            [
             0.4444444444444444,
             "#bd3786"
            ],
            [
             0.5555555555555556,
             "#d8576b"
            ],
            [
             0.6666666666666666,
             "#ed7953"
            ],
            [
             0.7777777777777778,
             "#fb9f3a"
            ],
            [
             0.8888888888888888,
             "#fdca26"
            ],
            [
             1,
             "#f0f921"
            ]
           ],
           "sequentialminus": [
            [
             0,
             "#0d0887"
            ],
            [
             0.1111111111111111,
             "#46039f"
            ],
            [
             0.2222222222222222,
             "#7201a8"
            ],
            [
             0.3333333333333333,
             "#9c179e"
            ],
            [
             0.4444444444444444,
             "#bd3786"
            ],
            [
             0.5555555555555556,
             "#d8576b"
            ],
            [
             0.6666666666666666,
             "#ed7953"
            ],
            [
             0.7777777777777778,
             "#fb9f3a"
            ],
            [
             0.8888888888888888,
             "#fdca26"
            ],
            [
             1,
             "#f0f921"
            ]
           ]
          },
          "colorway": [
           "#636efa",
           "#EF553B",
           "#00cc96",
           "#ab63fa",
           "#FFA15A",
           "#19d3f3",
           "#FF6692",
           "#B6E880",
           "#FF97FF",
           "#FECB52"
          ],
          "font": {
           "color": "#2a3f5f"
          },
          "geo": {
           "bgcolor": "white",
           "lakecolor": "white",
           "landcolor": "#E5ECF6",
           "showlakes": true,
           "showland": true,
           "subunitcolor": "white"
          },
          "hoverlabel": {
           "align": "left"
          },
          "hovermode": "closest",
          "mapbox": {
           "style": "light"
          },
          "paper_bgcolor": "white",
          "plot_bgcolor": "#E5ECF6",
          "polar": {
           "angularaxis": {
            "gridcolor": "white",
            "linecolor": "white",
            "ticks": ""
           },
           "bgcolor": "#E5ECF6",
           "radialaxis": {
            "gridcolor": "white",
            "linecolor": "white",
            "ticks": ""
           }
          },
          "scene": {
           "xaxis": {
            "backgroundcolor": "#E5ECF6",
            "gridcolor": "white",
            "gridwidth": 2,
            "linecolor": "white",
            "showbackground": true,
            "ticks": "",
            "zerolinecolor": "white"
           },
           "yaxis": {
            "backgroundcolor": "#E5ECF6",
            "gridcolor": "white",
            "gridwidth": 2,
            "linecolor": "white",
            "showbackground": true,
            "ticks": "",
            "zerolinecolor": "white"
           },
           "zaxis": {
            "backgroundcolor": "#E5ECF6",
            "gridcolor": "white",
            "gridwidth": 2,
            "linecolor": "white",
            "showbackground": true,
            "ticks": "",
            "zerolinecolor": "white"
           }
          },
          "shapedefaults": {
           "line": {
            "color": "#2a3f5f"
           }
          },
          "ternary": {
           "aaxis": {
            "gridcolor": "white",
            "linecolor": "white",
            "ticks": ""
           },
           "baxis": {
            "gridcolor": "white",
            "linecolor": "white",
            "ticks": ""
           },
           "bgcolor": "#E5ECF6",
           "caxis": {
            "gridcolor": "white",
            "linecolor": "white",
            "ticks": ""
           }
          },
          "title": {
           "x": 0.05
          },
          "xaxis": {
           "automargin": true,
           "gridcolor": "white",
           "linecolor": "white",
           "ticks": "",
           "title": {
            "standoff": 15
           },
           "zerolinecolor": "white",
           "zerolinewidth": 2
          },
          "yaxis": {
           "automargin": true,
           "gridcolor": "white",
           "linecolor": "white",
           "ticks": "",
           "title": {
            "standoff": 15
           },
           "zerolinecolor": "white",
           "zerolinewidth": 2
          }
         }
        },
        "title": {
         "text": "United states: United states ism manufacturing pmi"
        },
        "xaxis": {
         "title": {
          "text": ""
         }
        },
        "yaxis": {
         "title": {
          "text": "Points"
         }
        }
       }
      }
     },
     "metadata": {},
     "output_type": "display_data"
    }
   ],
   "source": [
    "ted.utils.plot_multi_series(series_list=[{\"series\": scrup.series, \"add_name\": \"mixed\"}, {\"series\": pathout, \"add_name\": \"path\"}, {\"series\": scruf.series, \"add_name\": \"tooltips\"}], metadata = scrup.metadata,\n",
    "                            ann_box_pos=(-0.05, -0.25))"
   ]
  },
  {
   "cell_type": "code",
   "execution_count": null,
   "metadata": {},
   "outputs": [],
   "source": []
  }
 ],
 "metadata": {
  "kernelspec": {
   "display_name": "ted",
   "language": "python",
   "name": "python3"
  },
  "language_info": {
   "codemirror_mode": {
    "name": "ipython",
    "version": 3
   },
   "file_extension": ".py",
   "mimetype": "text/x-python",
   "name": "python",
   "nbconvert_exporter": "python",
   "pygments_lexer": "ipython3",
   "version": "3.11.11"
  }
 },
 "nbformat": 4,
 "nbformat_minor": 2
}
