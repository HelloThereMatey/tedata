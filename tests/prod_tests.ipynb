{
 "cells": [
  {
   "cell_type": "code",
   "execution_count": 1,
   "metadata": {},
   "outputs": [
    {
     "name": "stderr",
     "output_type": "stream",
     "text": [
      "INFO - tedata package initialized successfully!\n"
     ]
    }
   ],
   "source": [
    "import sys\n",
    "import os\n",
    "import pandas as pd\n",
    "from pprint import pprint\n",
    "wd = %pwd\n",
    "parent = os.path.dirname(wd)\n",
    "fdel = os.path.sep\n",
    "sys.path.append(parent+fdel+\"src\")\n",
    "import tedata as ted"
   ]
  },
  {
   "cell_type": "markdown",
   "metadata": {},
   "source": [
    "# tedata package\n",
    "Download data from Trading Economics. There are several ways to use this package. \n",
    "# Method #1: search for indicators and then download the data for a given search result.\n",
    "## Initialise new search_TE object. \n",
    "Object will use an existing webdriver if there is already more than one active in the namespace when use_existing_driver=True. \n",
    "This will save you some time and be more memory efficient."
   ]
  },
  {
   "cell_type": "code",
   "execution_count": 2,
   "metadata": {},
   "outputs": [
    {
     "name": "stderr",
     "output_type": "stream",
     "text": [
      "INFO - New firefox webdriver created.\n",
      "INFO - Loading home page at https://tradingeconomics.com/ ...\n",
      "INFO - Home page at https://tradingeconomics.com loaded successfully! Search box element found.\n"
     ]
    }
   ],
   "source": [
    "search = ted.search_TE(use_existing_driver=False, headless=False)  # Will open firefox browser window as headless=False."
   ]
  },
  {
   "cell_type": "markdown",
   "metadata": {},
   "source": [
    "### Use the search_trading_economics method to use the search bar on the homepage to search."
   ]
  },
  {
   "cell_type": "code",
   "execution_count": 3,
   "metadata": {},
   "outputs": [
    {
     "name": "stderr",
     "output_type": "stream",
     "text": [
      "INFO - Clicking search box...\n",
      "INFO - Entering search term: australia gdp\n",
      "INFO - Submitting search, waiting 5s for page to load...\n"
     ]
    },
    {
     "name": "stdout",
     "output_type": "stream",
     "text": [
      "Found search results on page.\n"
     ]
    },
    {
     "data": {
      "application/vnd.microsoft.datawrangler.viewer.v0+json": {
       "columns": [
        {
         "name": "result",
         "rawType": "int64",
         "type": "integer"
        },
        {
         "name": "country",
         "rawType": "object",
         "type": "string"
        },
        {
         "name": "metric",
         "rawType": "object",
         "type": "string"
        },
        {
         "name": "url",
         "rawType": "object",
         "type": "string"
        }
       ],
       "conversionMethod": "pd.DataFrame",
       "ref": "c70ba35c-ac9d-4853-8d2b-082e36fb7ea1",
       "rows": [
        [
         "0",
         "australia",
         "gdp growth",
         "https://tradingeconomics.com/australia/gdp-growth"
        ],
        [
         "1",
         "australia",
         "gdp growth annual",
         "https://tradingeconomics.com/australia/gdp-growth-annual"
        ],
        [
         "2",
         "australia",
         "gdp",
         "https://tradingeconomics.com/australia/gdp"
        ],
        [
         "3",
         "australia",
         "gdp constant prices",
         "https://tradingeconomics.com/australia/gdp-constant-prices"
        ],
        [
         "4",
         "australia",
         "current account to gdp",
         "https://tradingeconomics.com/australia/current-account-to-gdp"
        ],
        [
         "5",
         "australia",
         "government debt to gdp",
         "https://tradingeconomics.com/australia/government-debt-to-gdp"
        ],
        [
         "6",
         "australia",
         "gdp deflator",
         "https://tradingeconomics.com/australia/gdp-deflator"
        ],
        [
         "7",
         "australia",
         "gdp per capita",
         "https://tradingeconomics.com/australia/gdp-per-capita"
        ],
        [
         "8",
         "australia",
         "gdp per capita ppp",
         "https://tradingeconomics.com/australia/gdp-per-capita-ppp"
        ],
        [
         "9",
         "australia",
         "full year gdp growth",
         "https://tradingeconomics.com/australia/full-year-gdp-growth"
        ],
        [
         "10",
         "australia",
         "gdp external demand contribution",
         "https://tradingeconomics.com/australia/gdp-external-demand-contribution"
        ],
        [
         "11",
         "australia",
         "gdp from manufacturing",
         "https://tradingeconomics.com/australia/gdp-from-manufacturing"
        ],
        [
         "12",
         "australia",
         "gdp from utilities",
         "https://tradingeconomics.com/australia/gdp-from-utilities"
        ],
        [
         "13",
         "australia",
         "gdp from agriculture",
         "https://tradingeconomics.com/australia/gdp-from-agriculture"
        ],
        [
         "14",
         "australia",
         "gdp from mining",
         "https://tradingeconomics.com/australia/gdp-from-mining"
        ],
        [
         "15",
         "australia",
         "gdp from public administration",
         "https://tradingeconomics.com/australia/gdp-from-public-administration"
        ],
        [
         "16",
         "australia",
         "gdp from construction",
         "https://tradingeconomics.com/australia/gdp-from-construction"
        ],
        [
         "17",
         "australia",
         "gdp chain price index",
         "https://tradingeconomics.com/australia/gdp-chain-price-index"
        ],
        [
         "18",
         "australia",
         "private debt to gdp",
         "https://tradingeconomics.com/australia/private-debt-to-gdp"
        ],
        [
         "19",
         "australia",
         "government spending to gdp",
         "https://tradingeconomics.com/australia/government-spending-to-gdp"
        ],
        [
         "20",
         "australia",
         "households debt to gdp",
         "https://tradingeconomics.com/australia/households-debt-to-gdp"
        ],
        [
         "21",
         "australia",
         "liquid liabilities to gdp percent wb data.html",
         "https://tradingeconomics.com/australia/liquid-liabilities-to-gdp-percent-wb-data.html"
        ],
        [
         "22",
         "australia",
         "outstanding international public debt securities to gdp percent wb data.html",
         "https://tradingeconomics.com/australia/outstanding-international-public-debt-securities-to-gdp-percent-wb-data.html"
        ],
        [
         "23",
         "australia",
         "gross fixed capital formation percent of gdp wb data.html",
         "https://tradingeconomics.com/australia/gross-fixed-capital-formation-percent-of-gdp-wb-data.html"
        ],
        [
         "24",
         "australia",
         "imports of goods and services percent of gdp wb data.html",
         "https://tradingeconomics.com/australia/imports-of-goods-and-services-percent-of-gdp-wb-data.html"
        ],
        [
         "25",
         "australia",
         "public spending on education total percent of gdp wb data.html",
         "https://tradingeconomics.com/australia/public-spending-on-education-total-percent-of-gdp-wb-data.html"
        ],
        [
         "26",
         "australia",
         "domestic credit to private sector percent of gdp gfd wb data.html",
         "https://tradingeconomics.com/australia/domestic-credit-to-private-sector-percent-of-gdp-gfd-wb-data.html"
        ],
        [
         "27",
         "australia",
         "international debt issues to gdp percent wb data.html",
         "https://tradingeconomics.com/australia/international-debt-issues-to-gdp-percent-wb-data.html"
        ],
        [
         "28",
         "australia",
         "outstanding international private debt securities to gdp percent wb data.html",
         "https://tradingeconomics.com/australia/outstanding-international-private-debt-securities-to-gdp-percent-wb-data.html"
        ],
        [
         "29",
         "australia",
         "inflation gdp deflator linked series annual percent wb data.html",
         "https://tradingeconomics.com/australia/inflation-gdp-deflator-linked-series-annual-percent-wb-data.html"
        ],
        [
         "30",
         "australia",
         "revenue excluding grants percent of gdp wb data.html",
         "https://tradingeconomics.com/australia/revenue-excluding-grants-percent-of-gdp-wb-data.html"
        ],
        [
         "31",
         "australia",
         "stock market total value traded to gdp percent wb data.html",
         "https://tradingeconomics.com/australia/stock-market-total-value-traded-to-gdp-percent-wb-data.html"
        ],
        [
         "32",
         "australia",
         "external balance on goods and services percent of gdp wb data.html",
         "https://tradingeconomics.com/australia/external-balance-on-goods-and-services-percent-of-gdp-wb-data.html"
        ]
       ],
       "shape": {
        "columns": 3,
        "rows": 33
       }
      },
      "text/html": [
       "<div>\n",
       "<style scoped>\n",
       "    .dataframe tbody tr th:only-of-type {\n",
       "        vertical-align: middle;\n",
       "    }\n",
       "\n",
       "    .dataframe tbody tr th {\n",
       "        vertical-align: top;\n",
       "    }\n",
       "\n",
       "    .dataframe thead th {\n",
       "        text-align: right;\n",
       "    }\n",
       "</style>\n",
       "<table border=\"1\" class=\"dataframe\">\n",
       "  <thead>\n",
       "    <tr style=\"text-align: right;\">\n",
       "      <th></th>\n",
       "      <th>country</th>\n",
       "      <th>metric</th>\n",
       "      <th>url</th>\n",
       "    </tr>\n",
       "    <tr>\n",
       "      <th>result</th>\n",
       "      <th></th>\n",
       "      <th></th>\n",
       "      <th></th>\n",
       "    </tr>\n",
       "  </thead>\n",
       "  <tbody>\n",
       "    <tr>\n",
       "      <th>0</th>\n",
       "      <td>australia</td>\n",
       "      <td>gdp growth</td>\n",
       "      <td>https://tradingeconomics.com/australia/gdp-growth</td>\n",
       "    </tr>\n",
       "    <tr>\n",
       "      <th>1</th>\n",
       "      <td>australia</td>\n",
       "      <td>gdp growth annual</td>\n",
       "      <td>https://tradingeconomics.com/australia/gdp-gro...</td>\n",
       "    </tr>\n",
       "    <tr>\n",
       "      <th>2</th>\n",
       "      <td>australia</td>\n",
       "      <td>gdp</td>\n",
       "      <td>https://tradingeconomics.com/australia/gdp</td>\n",
       "    </tr>\n",
       "    <tr>\n",
       "      <th>3</th>\n",
       "      <td>australia</td>\n",
       "      <td>gdp constant prices</td>\n",
       "      <td>https://tradingeconomics.com/australia/gdp-con...</td>\n",
       "    </tr>\n",
       "    <tr>\n",
       "      <th>4</th>\n",
       "      <td>australia</td>\n",
       "      <td>current account to gdp</td>\n",
       "      <td>https://tradingeconomics.com/australia/current...</td>\n",
       "    </tr>\n",
       "    <tr>\n",
       "      <th>5</th>\n",
       "      <td>australia</td>\n",
       "      <td>government debt to gdp</td>\n",
       "      <td>https://tradingeconomics.com/australia/governm...</td>\n",
       "    </tr>\n",
       "    <tr>\n",
       "      <th>6</th>\n",
       "      <td>australia</td>\n",
       "      <td>gdp deflator</td>\n",
       "      <td>https://tradingeconomics.com/australia/gdp-def...</td>\n",
       "    </tr>\n",
       "    <tr>\n",
       "      <th>7</th>\n",
       "      <td>australia</td>\n",
       "      <td>gdp per capita</td>\n",
       "      <td>https://tradingeconomics.com/australia/gdp-per...</td>\n",
       "    </tr>\n",
       "    <tr>\n",
       "      <th>8</th>\n",
       "      <td>australia</td>\n",
       "      <td>gdp per capita ppp</td>\n",
       "      <td>https://tradingeconomics.com/australia/gdp-per...</td>\n",
       "    </tr>\n",
       "    <tr>\n",
       "      <th>9</th>\n",
       "      <td>australia</td>\n",
       "      <td>full year gdp growth</td>\n",
       "      <td>https://tradingeconomics.com/australia/full-ye...</td>\n",
       "    </tr>\n",
       "    <tr>\n",
       "      <th>10</th>\n",
       "      <td>australia</td>\n",
       "      <td>gdp external demand contribution</td>\n",
       "      <td>https://tradingeconomics.com/australia/gdp-ext...</td>\n",
       "    </tr>\n",
       "    <tr>\n",
       "      <th>11</th>\n",
       "      <td>australia</td>\n",
       "      <td>gdp from manufacturing</td>\n",
       "      <td>https://tradingeconomics.com/australia/gdp-fro...</td>\n",
       "    </tr>\n",
       "    <tr>\n",
       "      <th>12</th>\n",
       "      <td>australia</td>\n",
       "      <td>gdp from utilities</td>\n",
       "      <td>https://tradingeconomics.com/australia/gdp-fro...</td>\n",
       "    </tr>\n",
       "    <tr>\n",
       "      <th>13</th>\n",
       "      <td>australia</td>\n",
       "      <td>gdp from agriculture</td>\n",
       "      <td>https://tradingeconomics.com/australia/gdp-fro...</td>\n",
       "    </tr>\n",
       "    <tr>\n",
       "      <th>14</th>\n",
       "      <td>australia</td>\n",
       "      <td>gdp from mining</td>\n",
       "      <td>https://tradingeconomics.com/australia/gdp-fro...</td>\n",
       "    </tr>\n",
       "    <tr>\n",
       "      <th>15</th>\n",
       "      <td>australia</td>\n",
       "      <td>gdp from public administration</td>\n",
       "      <td>https://tradingeconomics.com/australia/gdp-fro...</td>\n",
       "    </tr>\n",
       "    <tr>\n",
       "      <th>16</th>\n",
       "      <td>australia</td>\n",
       "      <td>gdp from construction</td>\n",
       "      <td>https://tradingeconomics.com/australia/gdp-fro...</td>\n",
       "    </tr>\n",
       "    <tr>\n",
       "      <th>17</th>\n",
       "      <td>australia</td>\n",
       "      <td>gdp chain price index</td>\n",
       "      <td>https://tradingeconomics.com/australia/gdp-cha...</td>\n",
       "    </tr>\n",
       "    <tr>\n",
       "      <th>18</th>\n",
       "      <td>australia</td>\n",
       "      <td>private debt to gdp</td>\n",
       "      <td>https://tradingeconomics.com/australia/private...</td>\n",
       "    </tr>\n",
       "    <tr>\n",
       "      <th>19</th>\n",
       "      <td>australia</td>\n",
       "      <td>government spending to gdp</td>\n",
       "      <td>https://tradingeconomics.com/australia/governm...</td>\n",
       "    </tr>\n",
       "    <tr>\n",
       "      <th>20</th>\n",
       "      <td>australia</td>\n",
       "      <td>households debt to gdp</td>\n",
       "      <td>https://tradingeconomics.com/australia/househo...</td>\n",
       "    </tr>\n",
       "    <tr>\n",
       "      <th>21</th>\n",
       "      <td>australia</td>\n",
       "      <td>liquid liabilities to gdp percent wb data.html</td>\n",
       "      <td>https://tradingeconomics.com/australia/liquid-...</td>\n",
       "    </tr>\n",
       "    <tr>\n",
       "      <th>22</th>\n",
       "      <td>australia</td>\n",
       "      <td>outstanding international public debt securiti...</td>\n",
       "      <td>https://tradingeconomics.com/australia/outstan...</td>\n",
       "    </tr>\n",
       "    <tr>\n",
       "      <th>23</th>\n",
       "      <td>australia</td>\n",
       "      <td>gross fixed capital formation percent of gdp w...</td>\n",
       "      <td>https://tradingeconomics.com/australia/gross-f...</td>\n",
       "    </tr>\n",
       "    <tr>\n",
       "      <th>24</th>\n",
       "      <td>australia</td>\n",
       "      <td>imports of goods and services percent of gdp w...</td>\n",
       "      <td>https://tradingeconomics.com/australia/imports...</td>\n",
       "    </tr>\n",
       "    <tr>\n",
       "      <th>25</th>\n",
       "      <td>australia</td>\n",
       "      <td>public spending on education total percent of ...</td>\n",
       "      <td>https://tradingeconomics.com/australia/public-...</td>\n",
       "    </tr>\n",
       "    <tr>\n",
       "      <th>26</th>\n",
       "      <td>australia</td>\n",
       "      <td>domestic credit to private sector percent of g...</td>\n",
       "      <td>https://tradingeconomics.com/australia/domesti...</td>\n",
       "    </tr>\n",
       "    <tr>\n",
       "      <th>27</th>\n",
       "      <td>australia</td>\n",
       "      <td>international debt issues to gdp percent wb da...</td>\n",
       "      <td>https://tradingeconomics.com/australia/interna...</td>\n",
       "    </tr>\n",
       "    <tr>\n",
       "      <th>28</th>\n",
       "      <td>australia</td>\n",
       "      <td>outstanding international private debt securit...</td>\n",
       "      <td>https://tradingeconomics.com/australia/outstan...</td>\n",
       "    </tr>\n",
       "    <tr>\n",
       "      <th>29</th>\n",
       "      <td>australia</td>\n",
       "      <td>inflation gdp deflator linked series annual pe...</td>\n",
       "      <td>https://tradingeconomics.com/australia/inflati...</td>\n",
       "    </tr>\n",
       "    <tr>\n",
       "      <th>30</th>\n",
       "      <td>australia</td>\n",
       "      <td>revenue excluding grants percent of gdp wb dat...</td>\n",
       "      <td>https://tradingeconomics.com/australia/revenue...</td>\n",
       "    </tr>\n",
       "    <tr>\n",
       "      <th>31</th>\n",
       "      <td>australia</td>\n",
       "      <td>stock market total value traded to gdp percent...</td>\n",
       "      <td>https://tradingeconomics.com/australia/stock-m...</td>\n",
       "    </tr>\n",
       "    <tr>\n",
       "      <th>32</th>\n",
       "      <td>australia</td>\n",
       "      <td>external balance on goods and services percent...</td>\n",
       "      <td>https://tradingeconomics.com/australia/externa...</td>\n",
       "    </tr>\n",
       "  </tbody>\n",
       "</table>\n",
       "</div>"
      ],
      "text/plain": [
       "          country                                             metric  \\\n",
       "result                                                                 \n",
       "0       australia                                         gdp growth   \n",
       "1       australia                                  gdp growth annual   \n",
       "2       australia                                                gdp   \n",
       "3       australia                                gdp constant prices   \n",
       "4       australia                             current account to gdp   \n",
       "5       australia                             government debt to gdp   \n",
       "6       australia                                       gdp deflator   \n",
       "7       australia                                     gdp per capita   \n",
       "8       australia                                 gdp per capita ppp   \n",
       "9       australia                               full year gdp growth   \n",
       "10      australia                   gdp external demand contribution   \n",
       "11      australia                             gdp from manufacturing   \n",
       "12      australia                                 gdp from utilities   \n",
       "13      australia                               gdp from agriculture   \n",
       "14      australia                                    gdp from mining   \n",
       "15      australia                     gdp from public administration   \n",
       "16      australia                              gdp from construction   \n",
       "17      australia                              gdp chain price index   \n",
       "18      australia                                private debt to gdp   \n",
       "19      australia                         government spending to gdp   \n",
       "20      australia                             households debt to gdp   \n",
       "21      australia     liquid liabilities to gdp percent wb data.html   \n",
       "22      australia  outstanding international public debt securiti...   \n",
       "23      australia  gross fixed capital formation percent of gdp w...   \n",
       "24      australia  imports of goods and services percent of gdp w...   \n",
       "25      australia  public spending on education total percent of ...   \n",
       "26      australia  domestic credit to private sector percent of g...   \n",
       "27      australia  international debt issues to gdp percent wb da...   \n",
       "28      australia  outstanding international private debt securit...   \n",
       "29      australia  inflation gdp deflator linked series annual pe...   \n",
       "30      australia  revenue excluding grants percent of gdp wb dat...   \n",
       "31      australia  stock market total value traded to gdp percent...   \n",
       "32      australia  external balance on goods and services percent...   \n",
       "\n",
       "                                                      url  \n",
       "result                                                     \n",
       "0       https://tradingeconomics.com/australia/gdp-growth  \n",
       "1       https://tradingeconomics.com/australia/gdp-gro...  \n",
       "2              https://tradingeconomics.com/australia/gdp  \n",
       "3       https://tradingeconomics.com/australia/gdp-con...  \n",
       "4       https://tradingeconomics.com/australia/current...  \n",
       "5       https://tradingeconomics.com/australia/governm...  \n",
       "6       https://tradingeconomics.com/australia/gdp-def...  \n",
       "7       https://tradingeconomics.com/australia/gdp-per...  \n",
       "8       https://tradingeconomics.com/australia/gdp-per...  \n",
       "9       https://tradingeconomics.com/australia/full-ye...  \n",
       "10      https://tradingeconomics.com/australia/gdp-ext...  \n",
       "11      https://tradingeconomics.com/australia/gdp-fro...  \n",
       "12      https://tradingeconomics.com/australia/gdp-fro...  \n",
       "13      https://tradingeconomics.com/australia/gdp-fro...  \n",
       "14      https://tradingeconomics.com/australia/gdp-fro...  \n",
       "15      https://tradingeconomics.com/australia/gdp-fro...  \n",
       "16      https://tradingeconomics.com/australia/gdp-fro...  \n",
       "17      https://tradingeconomics.com/australia/gdp-cha...  \n",
       "18      https://tradingeconomics.com/australia/private...  \n",
       "19      https://tradingeconomics.com/australia/governm...  \n",
       "20      https://tradingeconomics.com/australia/househo...  \n",
       "21      https://tradingeconomics.com/australia/liquid-...  \n",
       "22      https://tradingeconomics.com/australia/outstan...  \n",
       "23      https://tradingeconomics.com/australia/gross-f...  \n",
       "24      https://tradingeconomics.com/australia/imports...  \n",
       "25      https://tradingeconomics.com/australia/public-...  \n",
       "26      https://tradingeconomics.com/australia/domesti...  \n",
       "27      https://tradingeconomics.com/australia/interna...  \n",
       "28      https://tradingeconomics.com/australia/outstan...  \n",
       "29      https://tradingeconomics.com/australia/inflati...  \n",
       "30      https://tradingeconomics.com/australia/revenue...  \n",
       "31      https://tradingeconomics.com/australia/stock-m...  \n",
       "32      https://tradingeconomics.com/australia/externa...  "
      ]
     },
     "execution_count": 3,
     "metadata": {},
     "output_type": "execute_result"
    }
   ],
   "source": [
    "search.search_trading_economics(\"australia gdp\", wait_time=5) # Set wait_time to a higher value if you get an empty results table. Default is 5s.\n",
    "search.result_table"
   ]
  },
  {
   "cell_type": "markdown",
   "metadata": {},
   "source": [
    "### Download the time-series for a particular indicator using a search result displayed in your search results table.\n",
    "\n",
    "Sometimes you may get an error straight away on the first run of the ```get_data``` method. Error message will be something about error establising a connection.\n",
    "\n",
    "Noted error messages for this: \n",
    "- Error loading page: Message: Failed to write request to stream\n",
    "- Error loading page: Message: Tried to run command without establishing a connection\n",
    "\n",
    "Just try again if so, it has always worked for me the second time unless internet connection is down or too slow."
   ]
  },
  {
   "cell_type": "code",
   "execution_count": 6,
   "metadata": {},
   "outputs": [
    {
     "name": "stderr",
     "output_type": "stream",
     "text": [
      "INFO - scrape_chart function: Scraping chart at: https://tradingeconomics.com/australia/gdp-constant-prices, time: 2025-02-25 14:21:46.884327, method: path\n"
     ]
    },
    {
     "name": "stdout",
     "output_type": "stream",
     "text": [
      "Attempting to scrape data for result  3 ,  australia gdp constant prices\n",
      "Scraping data from: https://tradingeconomics.com/australia/gdp-constant-prices\n"
     ]
    },
    {
     "name": "stderr",
     "output_type": "stream",
     "text": [
      "INFO - Chart types dictionary created successfully: dict_keys(['Column', 'Spline', 'Areaspline', 'Stepline', 'Line', 'Area'])\n",
      "INFO - Date span set to: 3Y\n",
      "INFO - \n",
      "Series metadata: \n",
      " {'units': 'AUD Million', 'original_source': 'Australian Bureau of Statistics', 'title': 'Australia GDP Constant Prices', 'indicator': 'gdp constant prices', 'country': 'australia', 'source': 'Trading Economics', 'id': 'australia/gdp-constant-prices'}\n"
     ]
    },
    {
     "name": "stdout",
     "output_type": "stream",
     "text": [
      "Description card not found:  {\"'NoneType' object has no attribute 'text'\"}\n",
      "Using selenium and tooltip scraping to construct the date time index for the time-series, this'll take a bit...\n"
     ]
    },
    {
     "name": "stderr",
     "output_type": "stream",
     "text": [
      "INFO - Chart type set to: Spline\n"
     ]
    },
    {
     "name": "stdout",
     "output_type": "stream",
     "text": [
      "Latest dates:  ['July 2024', 'April 2024', 'January 2024', 'October 2023', 'July 2023', 'April 2023', 'January 2023', 'October 2022', 'July 2022', 'April 2022']\n",
      "Frequency of time-series:  QS-OCT\n",
      "get_xlims_from_tooltips method: date_span:  3Y , chart_type: splineChart\n"
     ]
    },
    {
     "name": "stderr",
     "output_type": "stream",
     "text": [
      "INFO - Chart type set to: Spline\n"
     ]
    },
    {
     "name": "stdout",
     "output_type": "stream",
     "text": [
      "Got chart dimensions and plot background element.\n"
     ]
    },
    {
     "name": "stderr",
     "output_type": "stream",
     "text": [
      "INFO - Start and end values scraped from tooltips: \n",
      "{'start_date': Timestamp('1959-07-01 00:00:00'), 'start_value': 78700.0, 'end_date': Timestamp('2024-07-01 00:00:00'), 'end_value': 655000.0}\n",
      "INFO - DateTimeIndex created successfully for the time-series.\n",
      "INFO - Y-axis values scraped successfully.\n",
      "INFO - Series path extraction method: Extracting series data from chart soup.\n",
      "INFO - Date span: MAX. Chart type: splineChart, URL: https://tradingeconomics.com/australia/gdp-constant-prices.\n",
      "INFO - DateTimeIndex applied to series, series attribute updated.\n",
      "INFO - Successfully scaled series.\n",
      "INFO - Successfully scraped time-series from chart at:  https://tradingeconomics.com/australia/gdp-constant-prices, now getting some metadata...\n"
     ]
    },
    {
     "name": "stdout",
     "output_type": "stream",
     "text": [
      "Got metadata. \n",
      "\n",
      "Series tail: 2023-07-01    649193.841683\n",
      "2023-10-01    650294.341759\n",
      "2024-01-01    651758.483200\n",
      "2024-04-01    653166.636961\n",
      "2024-07-01    654672.352959\n",
      "Freq: QS-OCT, Name: gdp constant prices, dtype: float64 \n",
      "\n",
      "Scraping complete! Happy pirating yo!\n",
      "Data scraped successfully from: https://tradingeconomics.com/australia/gdp-constant-prices\n"
     ]
    }
   ],
   "source": [
    "scraped = search.get_data(3)  ## Using result number 5 in result_table attribute.\n",
    "# Sometimes you may get an error straight away on the first run of this method. Error message bout error establising connection.\n",
    "# Just try again if so, it has always worked for me the second time unless internet connection is down or too slow"
   ]
  },
  {
   "cell_type": "markdown",
   "metadata": {},
   "source": [
    "### Plot your downloaded series using plotly to create an interactive chart with tooltips."
   ]
  },
  {
   "cell_type": "code",
   "execution_count": 7,
   "metadata": {},
   "outputs": [
    {
     "data": {
      "application/vnd.plotly.v1+json": {
       "config": {
        "plotlyServerURL": "https://plot.ly"
       },
       "data": [
        {
         "hovertemplate": "variable=gdp constant prices<br>index=%{x}<br>value=%{y}<extra></extra>",
         "legendgroup": "gdp constant prices",
         "line": {
          "color": "#636efa",
          "dash": "solid"
         },
         "marker": {
          "symbol": "circle"
         },
         "mode": "lines",
         "name": "gdp constant prices",
         "orientation": "v",
         "showlegend": true,
         "type": "scatter",
         "x": [
          "1959-07-01T00:00:00.000000000",
          "1959-10-01T00:00:00.000000000",
          "1960-01-01T00:00:00.000000000",
          "1960-04-01T00:00:00.000000000",
          "1960-07-01T00:00:00.000000000",
          "1960-10-01T00:00:00.000000000",
          "1961-01-01T00:00:00.000000000",
          "1961-04-01T00:00:00.000000000",
          "1961-07-01T00:00:00.000000000",
          "1961-10-01T00:00:00.000000000",
          "1962-01-01T00:00:00.000000000",
          "1962-04-01T00:00:00.000000000",
          "1962-07-01T00:00:00.000000000",
          "1962-10-01T00:00:00.000000000",
          "1963-01-01T00:00:00.000000000",
          "1963-04-01T00:00:00.000000000",
          "1963-07-01T00:00:00.000000000",
          "1963-10-01T00:00:00.000000000",
          "1964-01-01T00:00:00.000000000",
          "1964-04-01T00:00:00.000000000",
          "1964-07-01T00:00:00.000000000",
          "1964-10-01T00:00:00.000000000",
          "1965-01-01T00:00:00.000000000",
          "1965-04-01T00:00:00.000000000",
          "1965-07-01T00:00:00.000000000",
          "1965-10-01T00:00:00.000000000",
          "1966-01-01T00:00:00.000000000",
          "1966-04-01T00:00:00.000000000",
          "1966-07-01T00:00:00.000000000",
          "1966-10-01T00:00:00.000000000",
          "1967-01-01T00:00:00.000000000",
          "1967-04-01T00:00:00.000000000",
          "1967-07-01T00:00:00.000000000",
          "1967-10-01T00:00:00.000000000",
          "1968-01-01T00:00:00.000000000",
          "1968-04-01T00:00:00.000000000",
          "1968-07-01T00:00:00.000000000",
          "1968-10-01T00:00:00.000000000",
          "1969-01-01T00:00:00.000000000",
          "1969-04-01T00:00:00.000000000",
          "1969-07-01T00:00:00.000000000",
          "1969-10-01T00:00:00.000000000",
          "1970-01-01T00:00:00.000000000",
          "1970-04-01T00:00:00.000000000",
          "1970-07-01T00:00:00.000000000",
          "1970-10-01T00:00:00.000000000",
          "1971-01-01T00:00:00.000000000",
          "1971-04-01T00:00:00.000000000",
          "1971-07-01T00:00:00.000000000",
          "1971-10-01T00:00:00.000000000",
          "1972-01-01T00:00:00.000000000",
          "1972-04-01T00:00:00.000000000",
          "1972-07-01T00:00:00.000000000",
          "1972-10-01T00:00:00.000000000",
          "1973-01-01T00:00:00.000000000",
          "1973-04-01T00:00:00.000000000",
          "1973-07-01T00:00:00.000000000",
          "1973-10-01T00:00:00.000000000",
          "1974-01-01T00:00:00.000000000",
          "1974-04-01T00:00:00.000000000",
          "1974-07-01T00:00:00.000000000",
          "1974-10-01T00:00:00.000000000",
          "1975-01-01T00:00:00.000000000",
          "1975-04-01T00:00:00.000000000",
          "1975-07-01T00:00:00.000000000",
          "1975-10-01T00:00:00.000000000",
          "1976-01-01T00:00:00.000000000",
          "1976-04-01T00:00:00.000000000",
          "1976-07-01T00:00:00.000000000",
          "1976-10-01T00:00:00.000000000",
          "1977-01-01T00:00:00.000000000",
          "1977-04-01T00:00:00.000000000",
          "1977-07-01T00:00:00.000000000",
          "1977-10-01T00:00:00.000000000",
          "1978-01-01T00:00:00.000000000",
          "1978-04-01T00:00:00.000000000",
          "1978-07-01T00:00:00.000000000",
          "1978-10-01T00:00:00.000000000",
          "1979-01-01T00:00:00.000000000",
          "1979-04-01T00:00:00.000000000",
          "1979-07-01T00:00:00.000000000",
          "1979-10-01T00:00:00.000000000",
          "1980-01-01T00:00:00.000000000",
          "1980-04-01T00:00:00.000000000",
          "1980-07-01T00:00:00.000000000",
          "1980-10-01T00:00:00.000000000",
          "1981-01-01T00:00:00.000000000",
          "1981-04-01T00:00:00.000000000",
          "1981-07-01T00:00:00.000000000",
          "1981-10-01T00:00:00.000000000",
          "1982-01-01T00:00:00.000000000",
          "1982-04-01T00:00:00.000000000",
          "1982-07-01T00:00:00.000000000",
          "1982-10-01T00:00:00.000000000",
          "1983-01-01T00:00:00.000000000",
          "1983-04-01T00:00:00.000000000",
          "1983-07-01T00:00:00.000000000",
          "1983-10-01T00:00:00.000000000",
          "1984-01-01T00:00:00.000000000",
          "1984-04-01T00:00:00.000000000",
          "1984-07-01T00:00:00.000000000",
          "1984-10-01T00:00:00.000000000",
          "1985-01-01T00:00:00.000000000",
          "1985-04-01T00:00:00.000000000",
          "1985-07-01T00:00:00.000000000",
          "1985-10-01T00:00:00.000000000",
          "1986-01-01T00:00:00.000000000",
          "1986-04-01T00:00:00.000000000",
          "1986-07-01T00:00:00.000000000",
          "1986-10-01T00:00:00.000000000",
          "1987-01-01T00:00:00.000000000",
          "1987-04-01T00:00:00.000000000",
          "1987-07-01T00:00:00.000000000",
          "1987-10-01T00:00:00.000000000",
          "1988-01-01T00:00:00.000000000",
          "1988-04-01T00:00:00.000000000",
          "1988-07-01T00:00:00.000000000",
          "1988-10-01T00:00:00.000000000",
          "1989-01-01T00:00:00.000000000",
          "1989-04-01T00:00:00.000000000",
          "1989-07-01T00:00:00.000000000",
          "1989-10-01T00:00:00.000000000",
          "1990-01-01T00:00:00.000000000",
          "1990-04-01T00:00:00.000000000",
          "1990-07-01T00:00:00.000000000",
          "1990-10-01T00:00:00.000000000",
          "1991-01-01T00:00:00.000000000",
          "1991-04-01T00:00:00.000000000",
          "1991-07-01T00:00:00.000000000",
          "1991-10-01T00:00:00.000000000",
          "1992-01-01T00:00:00.000000000",
          "1992-04-01T00:00:00.000000000",
          "1992-07-01T00:00:00.000000000",
          "1992-10-01T00:00:00.000000000",
          "1993-01-01T00:00:00.000000000",
          "1993-04-01T00:00:00.000000000",
          "1993-07-01T00:00:00.000000000",
          "1993-10-01T00:00:00.000000000",
          "1994-01-01T00:00:00.000000000",
          "1994-04-01T00:00:00.000000000",
          "1994-07-01T00:00:00.000000000",
          "1994-10-01T00:00:00.000000000",
          "1995-01-01T00:00:00.000000000",
          "1995-04-01T00:00:00.000000000",
          "1995-07-01T00:00:00.000000000",
          "1995-10-01T00:00:00.000000000",
          "1996-01-01T00:00:00.000000000",
          "1996-04-01T00:00:00.000000000",
          "1996-07-01T00:00:00.000000000",
          "1996-10-01T00:00:00.000000000",
          "1997-01-01T00:00:00.000000000",
          "1997-04-01T00:00:00.000000000",
          "1997-07-01T00:00:00.000000000",
          "1997-10-01T00:00:00.000000000",
          "1998-01-01T00:00:00.000000000",
          "1998-04-01T00:00:00.000000000",
          "1998-07-01T00:00:00.000000000",
          "1998-10-01T00:00:00.000000000",
          "1999-01-01T00:00:00.000000000",
          "1999-04-01T00:00:00.000000000",
          "1999-07-01T00:00:00.000000000",
          "1999-10-01T00:00:00.000000000",
          "2000-01-01T00:00:00.000000000",
          "2000-04-01T00:00:00.000000000",
          "2000-07-01T00:00:00.000000000",
          "2000-10-01T00:00:00.000000000",
          "2001-01-01T00:00:00.000000000",
          "2001-04-01T00:00:00.000000000",
          "2001-07-01T00:00:00.000000000",
          "2001-10-01T00:00:00.000000000",
          "2002-01-01T00:00:00.000000000",
          "2002-04-01T00:00:00.000000000",
          "2002-07-01T00:00:00.000000000",
          "2002-10-01T00:00:00.000000000",
          "2003-01-01T00:00:00.000000000",
          "2003-04-01T00:00:00.000000000",
          "2003-07-01T00:00:00.000000000",
          "2003-10-01T00:00:00.000000000",
          "2004-01-01T00:00:00.000000000",
          "2004-04-01T00:00:00.000000000",
          "2004-07-01T00:00:00.000000000",
          "2004-10-01T00:00:00.000000000",
          "2005-01-01T00:00:00.000000000",
          "2005-04-01T00:00:00.000000000",
          "2005-07-01T00:00:00.000000000",
          "2005-10-01T00:00:00.000000000",
          "2006-01-01T00:00:00.000000000",
          "2006-04-01T00:00:00.000000000",
          "2006-07-01T00:00:00.000000000",
          "2006-10-01T00:00:00.000000000",
          "2007-01-01T00:00:00.000000000",
          "2007-04-01T00:00:00.000000000",
          "2007-07-01T00:00:00.000000000",
          "2007-10-01T00:00:00.000000000",
          "2008-01-01T00:00:00.000000000",
          "2008-04-01T00:00:00.000000000",
          "2008-07-01T00:00:00.000000000",
          "2008-10-01T00:00:00.000000000",
          "2009-01-01T00:00:00.000000000",
          "2009-04-01T00:00:00.000000000",
          "2009-07-01T00:00:00.000000000",
          "2009-10-01T00:00:00.000000000",
          "2010-01-01T00:00:00.000000000",
          "2010-04-01T00:00:00.000000000",
          "2010-07-01T00:00:00.000000000",
          "2010-10-01T00:00:00.000000000",
          "2011-01-01T00:00:00.000000000",
          "2011-04-01T00:00:00.000000000",
          "2011-07-01T00:00:00.000000000",
          "2011-10-01T00:00:00.000000000",
          "2012-01-01T00:00:00.000000000",
          "2012-04-01T00:00:00.000000000",
          "2012-07-01T00:00:00.000000000",
          "2012-10-01T00:00:00.000000000",
          "2013-01-01T00:00:00.000000000",
          "2013-04-01T00:00:00.000000000",
          "2013-07-01T00:00:00.000000000",
          "2013-10-01T00:00:00.000000000",
          "2014-01-01T00:00:00.000000000",
          "2014-04-01T00:00:00.000000000",
          "2014-07-01T00:00:00.000000000",
          "2014-10-01T00:00:00.000000000",
          "2015-01-01T00:00:00.000000000",
          "2015-04-01T00:00:00.000000000",
          "2015-07-01T00:00:00.000000000",
          "2015-10-01T00:00:00.000000000",
          "2016-01-01T00:00:00.000000000",
          "2016-04-01T00:00:00.000000000",
          "2016-07-01T00:00:00.000000000",
          "2016-10-01T00:00:00.000000000",
          "2017-01-01T00:00:00.000000000",
          "2017-04-01T00:00:00.000000000",
          "2017-07-01T00:00:00.000000000",
          "2017-10-01T00:00:00.000000000",
          "2018-01-01T00:00:00.000000000",
          "2018-04-01T00:00:00.000000000",
          "2018-07-01T00:00:00.000000000",
          "2018-10-01T00:00:00.000000000",
          "2019-01-01T00:00:00.000000000",
          "2019-04-01T00:00:00.000000000",
          "2019-07-01T00:00:00.000000000",
          "2019-10-01T00:00:00.000000000",
          "2020-01-01T00:00:00.000000000",
          "2020-04-01T00:00:00.000000000",
          "2020-07-01T00:00:00.000000000",
          "2020-10-01T00:00:00.000000000",
          "2021-01-01T00:00:00.000000000",
          "2021-04-01T00:00:00.000000000",
          "2021-07-01T00:00:00.000000000",
          "2021-10-01T00:00:00.000000000",
          "2022-01-01T00:00:00.000000000",
          "2022-04-01T00:00:00.000000000",
          "2022-07-01T00:00:00.000000000",
          "2022-10-01T00:00:00.000000000",
          "2023-01-01T00:00:00.000000000",
          "2023-04-01T00:00:00.000000000",
          "2023-07-01T00:00:00.000000000",
          "2023-10-01T00:00:00.000000000",
          "2024-01-01T00:00:00.000000000",
          "2024-04-01T00:00:00.000000000",
          "2024-07-01T00:00:00.000000000"
         ],
         "xaxis": "x",
         "y": {
          "bdata": "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",
          "dtype": "f8"
         },
         "yaxis": "y"
        }
       ],
       "layout": {
        "annotations": [
         {
          "align": "left",
          "bgcolor": "rgba(255, 255, 255, 0.8)",
          "bordercolor": "black",
          "borderwidth": 1,
          "font": {
           "size": 10
          },
          "showarrow": false,
          "text": "Source: Trading Economics<br>Original Source: Australian Bureau of Statistics<br>Frequency: QS-OCT<br>",
          "x": 0,
          "xanchor": "left",
          "xref": "paper",
          "y": -0.23,
          "yanchor": "bottom",
          "yref": "paper"
         }
        ],
        "legend": {
         "orientation": "h",
         "title": {
          "text": ""
         },
         "tracegroupgap": 0,
         "x": 0.5,
         "xanchor": "center",
         "y": -0.2,
         "yanchor": "bottom"
        },
        "margin": {
         "t": 60
        },
        "template": {
         "data": {
          "bar": [
           {
            "error_x": {
             "color": "#2a3f5f"
            },
            "error_y": {
             "color": "#2a3f5f"
            },
            "marker": {
             "line": {
              "color": "#E5ECF6",
              "width": 0.5
             },
             "pattern": {
              "fillmode": "overlay",
              "size": 10,
              "solidity": 0.2
             }
            },
            "type": "bar"
           }
          ],
          "barpolar": [
           {
            "marker": {
             "line": {
              "color": "#E5ECF6",
              "width": 0.5
             },
             "pattern": {
              "fillmode": "overlay",
              "size": 10,
              "solidity": 0.2
             }
            },
            "type": "barpolar"
           }
          ],
          "carpet": [
           {
            "aaxis": {
             "endlinecolor": "#2a3f5f",
             "gridcolor": "white",
             "linecolor": "white",
             "minorgridcolor": "white",
             "startlinecolor": "#2a3f5f"
            },
            "baxis": {
             "endlinecolor": "#2a3f5f",
             "gridcolor": "white",
             "linecolor": "white",
             "minorgridcolor": "white",
             "startlinecolor": "#2a3f5f"
            },
            "type": "carpet"
           }
          ],
          "choropleth": [
           {
            "colorbar": {
             "outlinewidth": 0,
             "ticks": ""
            },
            "type": "choropleth"
           }
          ],
          "contour": [
           {
            "colorbar": {
             "outlinewidth": 0,
             "ticks": ""
            },
            "colorscale": [
             [
              0,
              "#0d0887"
             ],
             [
              0.1111111111111111,
              "#46039f"
             ],
             [
              0.2222222222222222,
              "#7201a8"
             ],
             [
              0.3333333333333333,
              "#9c179e"
             ],
             [
              0.4444444444444444,
              "#bd3786"
             ],
             [
              0.5555555555555556,
              "#d8576b"
             ],
             [
              0.6666666666666666,
              "#ed7953"
             ],
             [
              0.7777777777777778,
              "#fb9f3a"
             ],
             [
              0.8888888888888888,
              "#fdca26"
             ],
             [
              1,
              "#f0f921"
             ]
            ],
            "type": "contour"
           }
          ],
          "contourcarpet": [
           {
            "colorbar": {
             "outlinewidth": 0,
             "ticks": ""
            },
            "type": "contourcarpet"
           }
          ],
          "heatmap": [
           {
            "colorbar": {
             "outlinewidth": 0,
             "ticks": ""
            },
            "colorscale": [
             [
              0,
              "#0d0887"
             ],
             [
              0.1111111111111111,
              "#46039f"
             ],
             [
              0.2222222222222222,
              "#7201a8"
             ],
             [
              0.3333333333333333,
              "#9c179e"
             ],
             [
              0.4444444444444444,
              "#bd3786"
             ],
             [
              0.5555555555555556,
              "#d8576b"
             ],
             [
              0.6666666666666666,
              "#ed7953"
             ],
             [
              0.7777777777777778,
              "#fb9f3a"
             ],
             [
              0.8888888888888888,
              "#fdca26"
             ],
             [
              1,
              "#f0f921"
             ]
            ],
            "type": "heatmap"
           }
          ],
          "histogram": [
           {
            "marker": {
             "pattern": {
              "fillmode": "overlay",
              "size": 10,
              "solidity": 0.2
             }
            },
            "type": "histogram"
           }
          ],
          "histogram2d": [
           {
            "colorbar": {
             "outlinewidth": 0,
             "ticks": ""
            },
            "colorscale": [
             [
              0,
              "#0d0887"
             ],
             [
              0.1111111111111111,
              "#46039f"
             ],
             [
              0.2222222222222222,
              "#7201a8"
             ],
             [
              0.3333333333333333,
              "#9c179e"
             ],
             [
              0.4444444444444444,
              "#bd3786"
             ],
             [
              0.5555555555555556,
              "#d8576b"
             ],
             [
              0.6666666666666666,
              "#ed7953"
             ],
             [
              0.7777777777777778,
              "#fb9f3a"
             ],
             [
              0.8888888888888888,
              "#fdca26"
             ],
             [
              1,
              "#f0f921"
             ]
            ],
            "type": "histogram2d"
           }
          ],
          "histogram2dcontour": [
           {
            "colorbar": {
             "outlinewidth": 0,
             "ticks": ""
            },
            "colorscale": [
             [
              0,
              "#0d0887"
             ],
             [
              0.1111111111111111,
              "#46039f"
             ],
             [
              0.2222222222222222,
              "#7201a8"
             ],
             [
              0.3333333333333333,
              "#9c179e"
             ],
             [
              0.4444444444444444,
              "#bd3786"
             ],
             [
              0.5555555555555556,
              "#d8576b"
             ],
             [
              0.6666666666666666,
              "#ed7953"
             ],
             [
              0.7777777777777778,
              "#fb9f3a"
             ],
             [
              0.8888888888888888,
              "#fdca26"
             ],
             [
              1,
              "#f0f921"
             ]
            ],
            "type": "histogram2dcontour"
           }
          ],
          "mesh3d": [
           {
            "colorbar": {
             "outlinewidth": 0,
             "ticks": ""
            },
            "type": "mesh3d"
           }
          ],
          "parcoords": [
           {
            "line": {
             "colorbar": {
              "outlinewidth": 0,
              "ticks": ""
             }
            },
            "type": "parcoords"
           }
          ],
          "pie": [
           {
            "automargin": true,
            "type": "pie"
           }
          ],
          "scatter": [
           {
            "fillpattern": {
             "fillmode": "overlay",
             "size": 10,
             "solidity": 0.2
            },
            "type": "scatter"
           }
          ],
          "scatter3d": [
           {
            "line": {
             "colorbar": {
              "outlinewidth": 0,
              "ticks": ""
             }
            },
            "marker": {
             "colorbar": {
              "outlinewidth": 0,
              "ticks": ""
             }
            },
            "type": "scatter3d"
           }
          ],
          "scattercarpet": [
           {
            "marker": {
             "colorbar": {
              "outlinewidth": 0,
              "ticks": ""
             }
            },
            "type": "scattercarpet"
           }
          ],
          "scattergeo": [
           {
            "marker": {
             "colorbar": {
              "outlinewidth": 0,
              "ticks": ""
             }
            },
            "type": "scattergeo"
           }
          ],
          "scattergl": [
           {
            "marker": {
             "colorbar": {
              "outlinewidth": 0,
              "ticks": ""
             }
            },
            "type": "scattergl"
           }
          ],
          "scattermap": [
           {
            "marker": {
             "colorbar": {
              "outlinewidth": 0,
              "ticks": ""
             }
            },
            "type": "scattermap"
           }
          ],
          "scattermapbox": [
           {
            "marker": {
             "colorbar": {
              "outlinewidth": 0,
              "ticks": ""
             }
            },
            "type": "scattermapbox"
           }
          ],
          "scatterpolar": [
           {
            "marker": {
             "colorbar": {
              "outlinewidth": 0,
              "ticks": ""
             }
            },
            "type": "scatterpolar"
           }
          ],
          "scatterpolargl": [
           {
            "marker": {
             "colorbar": {
              "outlinewidth": 0,
              "ticks": ""
             }
            },
            "type": "scatterpolargl"
           }
          ],
          "scatterternary": [
           {
            "marker": {
             "colorbar": {
              "outlinewidth": 0,
              "ticks": ""
             }
            },
            "type": "scatterternary"
           }
          ],
          "surface": [
           {
            "colorbar": {
             "outlinewidth": 0,
             "ticks": ""
            },
            "colorscale": [
             [
              0,
              "#0d0887"
             ],
             [
              0.1111111111111111,
              "#46039f"
             ],
             [
              0.2222222222222222,
              "#7201a8"
             ],
             [
              0.3333333333333333,
              "#9c179e"
             ],
             [
              0.4444444444444444,
              "#bd3786"
             ],
             [
              0.5555555555555556,
              "#d8576b"
             ],
             [
              0.6666666666666666,
              "#ed7953"
             ],
             [
              0.7777777777777778,
              "#fb9f3a"
             ],
             [
              0.8888888888888888,
              "#fdca26"
             ],
             [
              1,
              "#f0f921"
             ]
            ],
            "type": "surface"
           }
          ],
          "table": [
           {
            "cells": {
             "fill": {
              "color": "#EBF0F8"
             },
             "line": {
              "color": "white"
             }
            },
            "header": {
             "fill": {
              "color": "#C8D4E3"
             },
             "line": {
              "color": "white"
             }
            },
            "type": "table"
           }
          ]
         },
         "layout": {
          "annotationdefaults": {
           "arrowcolor": "#2a3f5f",
           "arrowhead": 0,
           "arrowwidth": 1
          },
          "autotypenumbers": "strict",
          "coloraxis": {
           "colorbar": {
            "outlinewidth": 0,
            "ticks": ""
           }
          },
          "colorscale": {
           "diverging": [
            [
             0,
             "#8e0152"
            ],
            [
             0.1,
             "#c51b7d"
            ],
            [
             0.2,
             "#de77ae"
            ],
            [
             0.3,
             "#f1b6da"
            ],
            [
             0.4,
             "#fde0ef"
            ],
            [
             0.5,
             "#f7f7f7"
            ],
            [
             0.6,
             "#e6f5d0"
            ],
            [
             0.7,
             "#b8e186"
            ],
            [
             0.8,
             "#7fbc41"
            ],
            [
             0.9,
             "#4d9221"
            ],
            [
             1,
             "#276419"
            ]
           ],
           "sequential": [
            [
             0,
             "#0d0887"
            ],
            [
             0.1111111111111111,
             "#46039f"
            ],
            [
             0.2222222222222222,
             "#7201a8"
            ],
            [
             0.3333333333333333,
             "#9c179e"
            ],
            [
             0.4444444444444444,
             "#bd3786"
            ],
            [
             0.5555555555555556,
             "#d8576b"
            ],
            [
             0.6666666666666666,
             "#ed7953"
            ],
            [
             0.7777777777777778,
             "#fb9f3a"
            ],
            [
             0.8888888888888888,
             "#fdca26"
            ],
            [
             1,
             "#f0f921"
            ]
           ],
           "sequentialminus": [
            [
             0,
             "#0d0887"
            ],
            [
             0.1111111111111111,
             "#46039f"
            ],
            [
             0.2222222222222222,
             "#7201a8"
            ],
            [
             0.3333333333333333,
             "#9c179e"
            ],
            [
             0.4444444444444444,
             "#bd3786"
            ],
            [
             0.5555555555555556,
             "#d8576b"
            ],
            [
             0.6666666666666666,
             "#ed7953"
            ],
            [
             0.7777777777777778,
             "#fb9f3a"
            ],
            [
             0.8888888888888888,
             "#fdca26"
            ],
            [
             1,
             "#f0f921"
            ]
           ]
          },
          "colorway": [
           "#636efa",
           "#EF553B",
           "#00cc96",
           "#ab63fa",
           "#FFA15A",
           "#19d3f3",
           "#FF6692",
           "#B6E880",
           "#FF97FF",
           "#FECB52"
          ],
          "font": {
           "color": "#2a3f5f"
          },
          "geo": {
           "bgcolor": "white",
           "lakecolor": "white",
           "landcolor": "#E5ECF6",
           "showlakes": true,
           "showland": true,
           "subunitcolor": "white"
          },
          "hoverlabel": {
           "align": "left"
          },
          "hovermode": "closest",
          "mapbox": {
           "style": "light"
          },
          "paper_bgcolor": "white",
          "plot_bgcolor": "#E5ECF6",
          "polar": {
           "angularaxis": {
            "gridcolor": "white",
            "linecolor": "white",
            "ticks": ""
           },
           "bgcolor": "#E5ECF6",
           "radialaxis": {
            "gridcolor": "white",
            "linecolor": "white",
            "ticks": ""
           }
          },
          "scene": {
           "xaxis": {
            "backgroundcolor": "#E5ECF6",
            "gridcolor": "white",
            "gridwidth": 2,
            "linecolor": "white",
            "showbackground": true,
            "ticks": "",
            "zerolinecolor": "white"
           },
           "yaxis": {
            "backgroundcolor": "#E5ECF6",
            "gridcolor": "white",
            "gridwidth": 2,
            "linecolor": "white",
            "showbackground": true,
            "ticks": "",
            "zerolinecolor": "white"
           },
           "zaxis": {
            "backgroundcolor": "#E5ECF6",
            "gridcolor": "white",
            "gridwidth": 2,
            "linecolor": "white",
            "showbackground": true,
            "ticks": "",
            "zerolinecolor": "white"
           }
          },
          "shapedefaults": {
           "line": {
            "color": "#2a3f5f"
           }
          },
          "ternary": {
           "aaxis": {
            "gridcolor": "white",
            "linecolor": "white",
            "ticks": ""
           },
           "baxis": {
            "gridcolor": "white",
            "linecolor": "white",
            "ticks": ""
           },
           "bgcolor": "#E5ECF6",
           "caxis": {
            "gridcolor": "white",
            "linecolor": "white",
            "ticks": ""
           }
          },
          "title": {
           "x": 0.05
          },
          "xaxis": {
           "automargin": true,
           "gridcolor": "white",
           "linecolor": "white",
           "ticks": "",
           "title": {
            "standoff": 15
           },
           "zerolinecolor": "white",
           "zerolinewidth": 2
          },
          "yaxis": {
           "automargin": true,
           "gridcolor": "white",
           "linecolor": "white",
           "ticks": "",
           "title": {
            "standoff": 15
           },
           "zerolinecolor": "white",
           "zerolinewidth": 2
          }
         }
        },
        "title": {
         "text": "Australia: Australia gdp constant prices"
        },
        "xaxis": {
         "anchor": "y",
         "domain": [
          0,
          1
         ],
         "title": {
          "text": ""
         }
        },
        "yaxis": {
         "anchor": "x",
         "domain": [
          0,
          1
         ],
         "title": {
          "text": "Aud million"
         }
        }
       }
      }
     },
     "metadata": {},
     "output_type": "display_data"
    }
   ],
   "source": [
    "scraped = search.scraped_data\n",
    "scraped.plot_series(ann_box_pos=(0, -0.23))  # Yu can move the annotation box around by changing the values of ann_box_pos."
   ]
  },
  {
   "cell_type": "code",
   "execution_count": null,
   "metadata": {},
   "outputs": [],
   "source": [
    "scraped.save_plot(format=\"html\")  #Export static plot as png if you wish. Use format=\"html\" for interactive plot export."
   ]
  },
  {
   "cell_type": "code",
   "execution_count": 8,
   "metadata": {},
   "outputs": [
    {
     "data": {
      "text/plain": [
       "{'units': 'AUD Million',\n",
       " 'original_source': 'Australian Bureau of Statistics',\n",
       " 'title': 'Australia GDP Constant Prices',\n",
       " 'indicator': 'gdp constant prices',\n",
       " 'country': 'australia',\n",
       " 'source': 'Trading Economics',\n",
       " 'id': 'australia/gdp-constant-prices',\n",
       " 'frequency': 'QS-OCT',\n",
       " 'start_date': '1959-07-01',\n",
       " 'end_date': '2024-07-01',\n",
       " 'min_value': 78700.0,\n",
       " 'max_value': 654672.3529589754,\n",
       " 'length': 261}"
      ]
     },
     "execution_count": 8,
     "metadata": {},
     "output_type": "execute_result"
    }
   ],
   "source": [
    "scraped.metadata"
   ]
  },
  {
   "cell_type": "markdown",
   "metadata": {},
   "source": [
    "# Method #2: Download data for a given Indicator + Country combination or a given URL with a single line.\n",
    "\n",
    "Sometimes you may get an error straight away on the first run of the ```scrape_chart``` method. Error message will be something about error establising a connection.\n",
    "\n",
    "Noted error messages for this: \n",
    "- Error loading page: Message: Failed to write request to stream\n",
    "- Error loading page: Message: Tried to run command without establishing a connection\n",
    "\n",
    "Just try again if so, it has always worked for me the second time unless internet connection is down or too slow."
   ]
  },
  {
   "cell_type": "code",
   "execution_count": 54,
   "metadata": {},
   "outputs": [
    {
     "name": "stderr",
     "output_type": "stream",
     "text": [
      "INFO - Quitting 4 active webdriver instances...\n"
     ]
    },
    {
     "data": {
      "text/plain": [
       "[]"
      ]
     },
     "execution_count": 54,
     "metadata": {},
     "output_type": "execute_result"
    }
   ],
   "source": [
    "from tedata import base\n",
    "base.find_active_drivers(quit_all=True)"
   ]
  },
  {
   "cell_type": "code",
   "execution_count": 53,
   "metadata": {},
   "outputs": [
    {
     "name": "stderr",
     "output_type": "stream",
     "text": [
      "INFO - New firefox webdriver created.\n",
      "INFO - scrape_chart function: Scraping chart at: https://tradingeconomics.com/new-zealand/retail-sales, time: 2025-02-25 17:38:17.987475, method: path\n",
      "INFO - Chart types dictionary created successfully: dict_keys(['Column', 'Spline', 'Areaspline', 'Stepline', 'Line', 'Area'])\n",
      "INFO - Date span set to: 3Y\n",
      "INFO - \n",
      "Series metadata: \n",
      " {'units': '%', 'original_source': 'Statistics New Zealand', 'title': 'New Zealand Retail Sales QoQ', 'indicator': 'retail sales', 'country': 'new zealand', 'source': 'Trading Economics', 'id': 'new-zealand/retail-sales'}\n"
     ]
    },
    {
     "name": "stdout",
     "output_type": "stream",
     "text": [
      "Using selenium and tooltip scraping to construct the date time index for the time-series, this'll take a bit...\n"
     ]
    },
    {
     "name": "stderr",
     "output_type": "stream",
     "text": [
      "INFO - Chart type set to: Spline\n"
     ]
    },
    {
     "name": "stdout",
     "output_type": "stream",
     "text": [
      "Latest dates:  ['October 2024', 'July 2024', 'April 2024', 'January 2024', 'October 2023', 'July 2023', 'April 2023', 'January 2023', 'October 2022', 'July 2022']\n",
      "Frequency of time-series:  QS-OCT\n",
      "get_xlims_from_tooltips method: date_span:  3Y , chart_type: splineChart\n"
     ]
    },
    {
     "name": "stderr",
     "output_type": "stream",
     "text": [
      "INFO - Chart type set to: Spline\n"
     ]
    },
    {
     "name": "stdout",
     "output_type": "stream",
     "text": [
      "Got chart dimensions and plot background element.\n"
     ]
    },
    {
     "name": "stderr",
     "output_type": "stream",
     "text": [
      "INFO - Start and end values scraped from tooltips: \n",
      "{'start_date': Timestamp('1995-04-01 00:00:00'), 'start_value': -0.7, 'end_date': Timestamp('2024-10-01 00:00:00'), 'end_value': 0.9}\n",
      "INFO - DateTimeIndex created successfully for the time-series.\n",
      "INFO - Y-axis values scraped successfully.\n",
      "INFO - Series path extraction method: Extracting series data from chart soup.\n",
      "INFO - Date span: MAX. Chart type: splineChart, URL: https://tradingeconomics.com/new-zealand/retail-sales.\n",
      "INFO - DateTimeIndex applied to series, series attribute updated.\n",
      "INFO - Successfully scaled series.\n",
      "INFO - Successfully scraped time-series from chart at:  https://tradingeconomics.com/new-zealand/retail-sales, now getting some metadata...\n"
     ]
    },
    {
     "name": "stdout",
     "output_type": "stream",
     "text": [
      "Got metadata. \n",
      "\n",
      "Series tail: 2023-10-01   -2.000000e+00\n",
      "2024-01-01    6.000000e-01\n",
      "2024-04-01   -1.200000e+00\n",
      "2024-07-01   -5.432321e-13\n",
      "2024-10-01    9.000000e-01\n",
      "Freq: QS-OCT, Name: retail sales, dtype: float64 \n",
      "\n",
      "Scraping complete! Happy pirating yo!\n"
     ]
    }
   ],
   "source": [
    "bonghit = ted.scrape_chart(url=\"https://tradingeconomics.com/new-zealand/retail-sales\", use_existing_driver=False, headless=False)"
   ]
  },
  {
   "cell_type": "code",
   "execution_count": 51,
   "metadata": {},
   "outputs": [
    {
     "name": "stderr",
     "output_type": "stream",
     "text": [
      "INFO - New firefox webdriver created.\n",
      "INFO - scrape_chart function: Scraping chart at: https://tradingeconomics.com/united-states/chicago-fed-national-activity-index, time: 2025-02-25 17:37:24.061996, method: path\n",
      "INFO - Chart types dictionary created successfully: dict_keys(['Column', 'Spline', 'Areaspline', 'Stepline', 'Line', 'Area'])\n",
      "INFO - Date span set to: 1Y\n",
      "INFO - \n",
      "Series metadata: \n",
      " {'units': 'points', 'original_source': 'Federal Reserve Bank of Chicago', 'title': 'United States Chicago Fed National Activity Index', 'indicator': 'chicago fed national activity index', 'country': 'united states', 'source': 'Trading Economics', 'id': 'united-states/chicago-fed-national-activity-index'}\n"
     ]
    },
    {
     "name": "stdout",
     "output_type": "stream",
     "text": [
      "Using selenium and tooltip scraping to construct the date time index for the time-series, this'll take a bit...\n"
     ]
    },
    {
     "name": "stderr",
     "output_type": "stream",
     "text": [
      "INFO - Chart type set to: Spline\n"
     ]
    },
    {
     "name": "stdout",
     "output_type": "stream",
     "text": [
      "Latest dates:  ['Jan 2025', 'Dec 2024', 'Nov 2024', 'Oct 2024', 'Sep 2024', 'Aug 2024', 'Jul 2024', 'Jun 2024', 'May 2024', 'Apr 2024']\n",
      "Frequency of time-series:  MS\n",
      "get_xlims_from_tooltips method: date_span:  1Y , chart_type: splineChart\n"
     ]
    },
    {
     "name": "stderr",
     "output_type": "stream",
     "text": [
      "INFO - Chart type set to: Spline\n"
     ]
    },
    {
     "name": "stdout",
     "output_type": "stream",
     "text": [
      "Got chart dimensions and plot background element.\n"
     ]
    },
    {
     "name": "stderr",
     "output_type": "stream",
     "text": [
      "INFO - Start and end values scraped from tooltips: \n",
      "{'start_date': Timestamp('1967-03-01 00:00:00'), 'start_value': -0.35, 'end_date': Timestamp('2025-01-01 00:00:00'), 'end_value': -0.03}\n",
      "INFO - DateTimeIndex created successfully for the time-series.\n",
      "INFO - Y-axis values scraped successfully.\n",
      "INFO - Series path extraction method: Extracting series data from chart soup.\n",
      "INFO - Date span: MAX. Chart type: splineChart, URL: https://tradingeconomics.com/united-states/chicago-fed-national-activity-index.\n",
      "INFO - DateTimeIndex applied to series, series attribute updated.\n",
      "INFO - Successfully scaled series.\n",
      "INFO - Successfully scraped time-series from chart at:  https://tradingeconomics.com/united-states/chicago-fed-national-activity-index, now getting some metadata...\n"
     ]
    },
    {
     "name": "stdout",
     "output_type": "stream",
     "text": [
      "Got metadata. \n",
      "\n",
      "Series tail: 2024-09-01   -0.21\n",
      "2024-10-01   -0.51\n",
      "2024-11-01   -0.05\n",
      "2024-12-01    0.18\n",
      "2025-01-01   -0.03\n",
      "Freq: MS, Name: chicago fed national activity index, dtype: float64 \n",
      "\n",
      "Scraping complete! Happy pirating yo!\n"
     ]
    }
   ],
   "source": [
    "scraped = ted.scrape_chart(country=\"united-states\", id = \"chicago-fed-national-activity-index\", use_existing_driver=False, headless=False) ## Using chart id from the url only, country is \"united-states\" by default."
   ]
  },
  {
   "cell_type": "code",
   "execution_count": 15,
   "metadata": {},
   "outputs": [
    {
     "data": {
      "application/vnd.plotly.v1+json": {
       "config": {
        "plotlyServerURL": "https://plot.ly"
       },
       "data": [
        {
         "hovertemplate": "variable=chicago fed national activity index<br>index=%{x}<br>value=%{y}<extra></extra>",
         "legendgroup": "chicago fed national activity index",
         "line": {
          "color": "#636efa",
          "dash": "solid"
         },
         "marker": {
          "symbol": "circle"
         },
         "mode": "lines",
         "name": "chicago fed national activity index",
         "orientation": "v",
         "showlegend": true,
         "type": "scatter",
         "x": [
          "1967-03-01T00:00:00.000000000",
          "1967-04-01T00:00:00.000000000",
          "1967-05-01T00:00:00.000000000",
          "1967-06-01T00:00:00.000000000",
          "1967-07-01T00:00:00.000000000",
          "1967-08-01T00:00:00.000000000",
          "1967-09-01T00:00:00.000000000",
          "1967-10-01T00:00:00.000000000",
          "1967-11-01T00:00:00.000000000",
          "1967-12-01T00:00:00.000000000",
          "1968-01-01T00:00:00.000000000",
          "1968-02-01T00:00:00.000000000",
          "1968-03-01T00:00:00.000000000",
          "1968-04-01T00:00:00.000000000",
          "1968-05-01T00:00:00.000000000",
          "1968-06-01T00:00:00.000000000",
          "1968-07-01T00:00:00.000000000",
          "1968-08-01T00:00:00.000000000",
          "1968-09-01T00:00:00.000000000",
          "1968-10-01T00:00:00.000000000",
          "1968-11-01T00:00:00.000000000",
          "1968-12-01T00:00:00.000000000",
          "1969-01-01T00:00:00.000000000",
          "1969-02-01T00:00:00.000000000",
          "1969-03-01T00:00:00.000000000",
          "1969-04-01T00:00:00.000000000",
          "1969-05-01T00:00:00.000000000",
          "1969-06-01T00:00:00.000000000",
          "1969-07-01T00:00:00.000000000",
          "1969-08-01T00:00:00.000000000",
          "1969-09-01T00:00:00.000000000",
          "1969-10-01T00:00:00.000000000",
          "1969-11-01T00:00:00.000000000",
          "1969-12-01T00:00:00.000000000",
          "1970-01-01T00:00:00.000000000",
          "1970-02-01T00:00:00.000000000",
          "1970-03-01T00:00:00.000000000",
          "1970-04-01T00:00:00.000000000",
          "1970-05-01T00:00:00.000000000",
          "1970-06-01T00:00:00.000000000",
          "1970-07-01T00:00:00.000000000",
          "1970-08-01T00:00:00.000000000",
          "1970-09-01T00:00:00.000000000",
          "1970-10-01T00:00:00.000000000",
          "1970-11-01T00:00:00.000000000",
          "1970-12-01T00:00:00.000000000",
          "1971-01-01T00:00:00.000000000",
          "1971-02-01T00:00:00.000000000",
          "1971-03-01T00:00:00.000000000",
          "1971-04-01T00:00:00.000000000",
          "1971-05-01T00:00:00.000000000",
          "1971-06-01T00:00:00.000000000",
          "1971-07-01T00:00:00.000000000",
          "1971-08-01T00:00:00.000000000",
          "1971-09-01T00:00:00.000000000",
          "1971-10-01T00:00:00.000000000",
          "1971-11-01T00:00:00.000000000",
          "1971-12-01T00:00:00.000000000",
          "1972-01-01T00:00:00.000000000",
          "1972-02-01T00:00:00.000000000",
          "1972-03-01T00:00:00.000000000",
          "1972-04-01T00:00:00.000000000",
          "1972-05-01T00:00:00.000000000",
          "1972-06-01T00:00:00.000000000",
          "1972-07-01T00:00:00.000000000",
          "1972-08-01T00:00:00.000000000",
          "1972-09-01T00:00:00.000000000",
          "1972-10-01T00:00:00.000000000",
          "1972-11-01T00:00:00.000000000",
          "1972-12-01T00:00:00.000000000",
          "1973-01-01T00:00:00.000000000",
          "1973-02-01T00:00:00.000000000",
          "1973-03-01T00:00:00.000000000",
          "1973-04-01T00:00:00.000000000",
          "1973-05-01T00:00:00.000000000",
          "1973-06-01T00:00:00.000000000",
          "1973-07-01T00:00:00.000000000",
          "1973-08-01T00:00:00.000000000",
          "1973-09-01T00:00:00.000000000",
          "1973-10-01T00:00:00.000000000",
          "1973-11-01T00:00:00.000000000",
          "1973-12-01T00:00:00.000000000",
          "1974-01-01T00:00:00.000000000",
          "1974-02-01T00:00:00.000000000",
          "1974-03-01T00:00:00.000000000",
          "1974-04-01T00:00:00.000000000",
          "1974-05-01T00:00:00.000000000",
          "1974-06-01T00:00:00.000000000",
          "1974-07-01T00:00:00.000000000",
          "1974-08-01T00:00:00.000000000",
          "1974-09-01T00:00:00.000000000",
          "1974-10-01T00:00:00.000000000",
          "1974-11-01T00:00:00.000000000",
          "1974-12-01T00:00:00.000000000",
          "1975-01-01T00:00:00.000000000",
          "1975-02-01T00:00:00.000000000",
          "1975-03-01T00:00:00.000000000",
          "1975-04-01T00:00:00.000000000",
          "1975-05-01T00:00:00.000000000",
          "1975-06-01T00:00:00.000000000",
          "1975-07-01T00:00:00.000000000",
          "1975-08-01T00:00:00.000000000",
          "1975-09-01T00:00:00.000000000",
          "1975-10-01T00:00:00.000000000",
          "1975-11-01T00:00:00.000000000",
          "1975-12-01T00:00:00.000000000",
          "1976-01-01T00:00:00.000000000",
          "1976-02-01T00:00:00.000000000",
          "1976-03-01T00:00:00.000000000",
          "1976-04-01T00:00:00.000000000",
          "1976-05-01T00:00:00.000000000",
          "1976-06-01T00:00:00.000000000",
          "1976-07-01T00:00:00.000000000",
          "1976-08-01T00:00:00.000000000",
          "1976-09-01T00:00:00.000000000",
          "1976-10-01T00:00:00.000000000",
          "1976-11-01T00:00:00.000000000",
          "1976-12-01T00:00:00.000000000",
          "1977-01-01T00:00:00.000000000",
          "1977-02-01T00:00:00.000000000",
          "1977-03-01T00:00:00.000000000",
          "1977-04-01T00:00:00.000000000",
          "1977-05-01T00:00:00.000000000",
          "1977-06-01T00:00:00.000000000",
          "1977-07-01T00:00:00.000000000",
          "1977-08-01T00:00:00.000000000",
          "1977-09-01T00:00:00.000000000",
          "1977-10-01T00:00:00.000000000",
          "1977-11-01T00:00:00.000000000",
          "1977-12-01T00:00:00.000000000",
          "1978-01-01T00:00:00.000000000",
          "1978-02-01T00:00:00.000000000",
          "1978-03-01T00:00:00.000000000",
          "1978-04-01T00:00:00.000000000",
          "1978-05-01T00:00:00.000000000",
          "1978-06-01T00:00:00.000000000",
          "1978-07-01T00:00:00.000000000",
          "1978-08-01T00:00:00.000000000",
          "1978-09-01T00:00:00.000000000",
          "1978-10-01T00:00:00.000000000",
          "1978-11-01T00:00:00.000000000",
          "1978-12-01T00:00:00.000000000",
          "1979-01-01T00:00:00.000000000",
          "1979-02-01T00:00:00.000000000",
          "1979-03-01T00:00:00.000000000",
          "1979-04-01T00:00:00.000000000",
          "1979-05-01T00:00:00.000000000",
          "1979-06-01T00:00:00.000000000",
          "1979-07-01T00:00:00.000000000",
          "1979-08-01T00:00:00.000000000",
          "1979-09-01T00:00:00.000000000",
          "1979-10-01T00:00:00.000000000",
          "1979-11-01T00:00:00.000000000",
          "1979-12-01T00:00:00.000000000",
          "1980-01-01T00:00:00.000000000",
          "1980-02-01T00:00:00.000000000",
          "1980-03-01T00:00:00.000000000",
          "1980-04-01T00:00:00.000000000",
          "1980-05-01T00:00:00.000000000",
          "1980-06-01T00:00:00.000000000",
          "1980-07-01T00:00:00.000000000",
          "1980-08-01T00:00:00.000000000",
          "1980-09-01T00:00:00.000000000",
          "1980-10-01T00:00:00.000000000",
          "1980-11-01T00:00:00.000000000",
          "1980-12-01T00:00:00.000000000",
          "1981-01-01T00:00:00.000000000",
          "1981-02-01T00:00:00.000000000",
          "1981-03-01T00:00:00.000000000",
          "1981-04-01T00:00:00.000000000",
          "1981-05-01T00:00:00.000000000",
          "1981-06-01T00:00:00.000000000",
          "1981-07-01T00:00:00.000000000",
          "1981-08-01T00:00:00.000000000",
          "1981-09-01T00:00:00.000000000",
          "1981-10-01T00:00:00.000000000",
          "1981-11-01T00:00:00.000000000",
          "1981-12-01T00:00:00.000000000",
          "1982-01-01T00:00:00.000000000",
          "1982-02-01T00:00:00.000000000",
          "1982-03-01T00:00:00.000000000",
          "1982-04-01T00:00:00.000000000",
          "1982-05-01T00:00:00.000000000",
          "1982-06-01T00:00:00.000000000",
          "1982-07-01T00:00:00.000000000",
          "1982-08-01T00:00:00.000000000",
          "1982-09-01T00:00:00.000000000",
          "1982-10-01T00:00:00.000000000",
          "1982-11-01T00:00:00.000000000",
          "1982-12-01T00:00:00.000000000",
          "1983-01-01T00:00:00.000000000",
          "1983-02-01T00:00:00.000000000",
          "1983-03-01T00:00:00.000000000",
          "1983-04-01T00:00:00.000000000",
          "1983-05-01T00:00:00.000000000",
          "1983-06-01T00:00:00.000000000",
          "1983-07-01T00:00:00.000000000",
          "1983-08-01T00:00:00.000000000",
          "1983-09-01T00:00:00.000000000",
          "1983-10-01T00:00:00.000000000",
          "1983-11-01T00:00:00.000000000",
          "1983-12-01T00:00:00.000000000",
          "1984-01-01T00:00:00.000000000",
          "1984-02-01T00:00:00.000000000",
          "1984-03-01T00:00:00.000000000",
          "1984-04-01T00:00:00.000000000",
          "1984-05-01T00:00:00.000000000",
          "1984-06-01T00:00:00.000000000",
          "1984-07-01T00:00:00.000000000",
          "1984-08-01T00:00:00.000000000",
          "1984-09-01T00:00:00.000000000",
          "1984-10-01T00:00:00.000000000",
          "1984-11-01T00:00:00.000000000",
          "1984-12-01T00:00:00.000000000",
          "1985-01-01T00:00:00.000000000",
          "1985-02-01T00:00:00.000000000",
          "1985-03-01T00:00:00.000000000",
          "1985-04-01T00:00:00.000000000",
          "1985-05-01T00:00:00.000000000",
          "1985-06-01T00:00:00.000000000",
          "1985-07-01T00:00:00.000000000",
          "1985-08-01T00:00:00.000000000",
          "1985-09-01T00:00:00.000000000",
          "1985-10-01T00:00:00.000000000",
          "1985-11-01T00:00:00.000000000",
          "1985-12-01T00:00:00.000000000",
          "1986-01-01T00:00:00.000000000",
          "1986-02-01T00:00:00.000000000",
          "1986-03-01T00:00:00.000000000",
          "1986-04-01T00:00:00.000000000",
          "1986-05-01T00:00:00.000000000",
          "1986-06-01T00:00:00.000000000",
          "1986-07-01T00:00:00.000000000",
          "1986-08-01T00:00:00.000000000",
          "1986-09-01T00:00:00.000000000",
          "1986-10-01T00:00:00.000000000",
          "1986-11-01T00:00:00.000000000",
          "1986-12-01T00:00:00.000000000",
          "1987-01-01T00:00:00.000000000",
          "1987-02-01T00:00:00.000000000",
          "1987-03-01T00:00:00.000000000",
          "1987-04-01T00:00:00.000000000",
          "1987-05-01T00:00:00.000000000",
          "1987-06-01T00:00:00.000000000",
          "1987-07-01T00:00:00.000000000",
          "1987-08-01T00:00:00.000000000",
          "1987-09-01T00:00:00.000000000",
          "1987-10-01T00:00:00.000000000",
          "1987-11-01T00:00:00.000000000",
          "1987-12-01T00:00:00.000000000",
          "1988-01-01T00:00:00.000000000",
          "1988-02-01T00:00:00.000000000",
          "1988-03-01T00:00:00.000000000",
          "1988-04-01T00:00:00.000000000",
          "1988-05-01T00:00:00.000000000",
          "1988-06-01T00:00:00.000000000",
          "1988-07-01T00:00:00.000000000",
          "1988-08-01T00:00:00.000000000",
          "1988-09-01T00:00:00.000000000",
          "1988-10-01T00:00:00.000000000",
          "1988-11-01T00:00:00.000000000",
          "1988-12-01T00:00:00.000000000",
          "1989-01-01T00:00:00.000000000",
          "1989-02-01T00:00:00.000000000",
          "1989-03-01T00:00:00.000000000",
          "1989-04-01T00:00:00.000000000",
          "1989-05-01T00:00:00.000000000",
          "1989-06-01T00:00:00.000000000",
          "1989-07-01T00:00:00.000000000",
          "1989-08-01T00:00:00.000000000",
          "1989-09-01T00:00:00.000000000",
          "1989-10-01T00:00:00.000000000",
          "1989-11-01T00:00:00.000000000",
          "1989-12-01T00:00:00.000000000",
          "1990-01-01T00:00:00.000000000",
          "1990-02-01T00:00:00.000000000",
          "1990-03-01T00:00:00.000000000",
          "1990-04-01T00:00:00.000000000",
          "1990-05-01T00:00:00.000000000",
          "1990-06-01T00:00:00.000000000",
          "1990-07-01T00:00:00.000000000",
          "1990-08-01T00:00:00.000000000",
          "1990-09-01T00:00:00.000000000",
          "1990-10-01T00:00:00.000000000",
          "1990-11-01T00:00:00.000000000",
          "1990-12-01T00:00:00.000000000",
          "1991-01-01T00:00:00.000000000",
          "1991-02-01T00:00:00.000000000",
          "1991-03-01T00:00:00.000000000",
          "1991-04-01T00:00:00.000000000",
          "1991-05-01T00:00:00.000000000",
          "1991-06-01T00:00:00.000000000",
          "1991-07-01T00:00:00.000000000",
          "1991-08-01T00:00:00.000000000",
          "1991-09-01T00:00:00.000000000",
          "1991-10-01T00:00:00.000000000",
          "1991-11-01T00:00:00.000000000",
          "1991-12-01T00:00:00.000000000",
          "1992-01-01T00:00:00.000000000",
          "1992-02-01T00:00:00.000000000",
          "1992-03-01T00:00:00.000000000",
          "1992-04-01T00:00:00.000000000",
          "1992-05-01T00:00:00.000000000",
          "1992-06-01T00:00:00.000000000",
          "1992-07-01T00:00:00.000000000",
          "1992-08-01T00:00:00.000000000",
          "1992-09-01T00:00:00.000000000",
          "1992-10-01T00:00:00.000000000",
          "1992-11-01T00:00:00.000000000",
          "1992-12-01T00:00:00.000000000",
          "1993-01-01T00:00:00.000000000",
          "1993-02-01T00:00:00.000000000",
          "1993-03-01T00:00:00.000000000",
          "1993-04-01T00:00:00.000000000",
          "1993-05-01T00:00:00.000000000",
          "1993-06-01T00:00:00.000000000",
          "1993-07-01T00:00:00.000000000",
          "1993-08-01T00:00:00.000000000",
          "1993-09-01T00:00:00.000000000",
          "1993-10-01T00:00:00.000000000",
          "1993-11-01T00:00:00.000000000",
          "1993-12-01T00:00:00.000000000",
          "1994-01-01T00:00:00.000000000",
          "1994-02-01T00:00:00.000000000",
          "1994-03-01T00:00:00.000000000",
          "1994-04-01T00:00:00.000000000",
          "1994-05-01T00:00:00.000000000",
          "1994-06-01T00:00:00.000000000",
          "1994-07-01T00:00:00.000000000",
          "1994-08-01T00:00:00.000000000",
          "1994-09-01T00:00:00.000000000",
          "1994-10-01T00:00:00.000000000",
          "1994-11-01T00:00:00.000000000",
          "1994-12-01T00:00:00.000000000",
          "1995-01-01T00:00:00.000000000",
          "1995-02-01T00:00:00.000000000",
          "1995-03-01T00:00:00.000000000",
          "1995-04-01T00:00:00.000000000",
          "1995-05-01T00:00:00.000000000",
          "1995-06-01T00:00:00.000000000",
          "1995-07-01T00:00:00.000000000",
          "1995-08-01T00:00:00.000000000",
          "1995-09-01T00:00:00.000000000",
          "1995-10-01T00:00:00.000000000",
          "1995-11-01T00:00:00.000000000",
          "1995-12-01T00:00:00.000000000",
          "1996-01-01T00:00:00.000000000",
          "1996-02-01T00:00:00.000000000",
          "1996-03-01T00:00:00.000000000",
          "1996-04-01T00:00:00.000000000",
          "1996-05-01T00:00:00.000000000",
          "1996-06-01T00:00:00.000000000",
          "1996-07-01T00:00:00.000000000",
          "1996-08-01T00:00:00.000000000",
          "1996-09-01T00:00:00.000000000",
          "1996-10-01T00:00:00.000000000",
          "1996-11-01T00:00:00.000000000",
          "1996-12-01T00:00:00.000000000",
          "1997-01-01T00:00:00.000000000",
          "1997-02-01T00:00:00.000000000",
          "1997-03-01T00:00:00.000000000",
          "1997-04-01T00:00:00.000000000",
          "1997-05-01T00:00:00.000000000",
          "1997-06-01T00:00:00.000000000",
          "1997-07-01T00:00:00.000000000",
          "1997-08-01T00:00:00.000000000",
          "1997-09-01T00:00:00.000000000",
          "1997-10-01T00:00:00.000000000",
          "1997-11-01T00:00:00.000000000",
          "1997-12-01T00:00:00.000000000",
          "1998-01-01T00:00:00.000000000",
          "1998-02-01T00:00:00.000000000",
          "1998-03-01T00:00:00.000000000",
          "1998-04-01T00:00:00.000000000",
          "1998-05-01T00:00:00.000000000",
          "1998-06-01T00:00:00.000000000",
          "1998-07-01T00:00:00.000000000",
          "1998-08-01T00:00:00.000000000",
          "1998-09-01T00:00:00.000000000",
          "1998-10-01T00:00:00.000000000",
          "1998-11-01T00:00:00.000000000",
          "1998-12-01T00:00:00.000000000",
          "1999-01-01T00:00:00.000000000",
          "1999-02-01T00:00:00.000000000",
          "1999-03-01T00:00:00.000000000",
          "1999-04-01T00:00:00.000000000",
          "1999-05-01T00:00:00.000000000",
          "1999-06-01T00:00:00.000000000",
          "1999-07-01T00:00:00.000000000",
          "1999-08-01T00:00:00.000000000",
          "1999-09-01T00:00:00.000000000",
          "1999-10-01T00:00:00.000000000",
          "1999-11-01T00:00:00.000000000",
          "1999-12-01T00:00:00.000000000",
          "2000-01-01T00:00:00.000000000",
          "2000-02-01T00:00:00.000000000",
          "2000-03-01T00:00:00.000000000",
          "2000-04-01T00:00:00.000000000",
          "2000-05-01T00:00:00.000000000",
          "2000-06-01T00:00:00.000000000",
          "2000-07-01T00:00:00.000000000",
          "2000-08-01T00:00:00.000000000",
          "2000-09-01T00:00:00.000000000",
          "2000-10-01T00:00:00.000000000",
          "2000-11-01T00:00:00.000000000",
          "2000-12-01T00:00:00.000000000",
          "2001-01-01T00:00:00.000000000",
          "2001-02-01T00:00:00.000000000",
          "2001-03-01T00:00:00.000000000",
          "2001-04-01T00:00:00.000000000",
          "2001-05-01T00:00:00.000000000",
          "2001-06-01T00:00:00.000000000",
          "2001-07-01T00:00:00.000000000",
          "2001-08-01T00:00:00.000000000",
          "2001-09-01T00:00:00.000000000",
          "2001-10-01T00:00:00.000000000",
          "2001-11-01T00:00:00.000000000",
          "2001-12-01T00:00:00.000000000",
          "2002-01-01T00:00:00.000000000",
          "2002-02-01T00:00:00.000000000",
          "2002-03-01T00:00:00.000000000",
          "2002-04-01T00:00:00.000000000",
          "2002-05-01T00:00:00.000000000",
          "2002-06-01T00:00:00.000000000",
          "2002-07-01T00:00:00.000000000",
          "2002-08-01T00:00:00.000000000",
          "2002-09-01T00:00:00.000000000",
          "2002-10-01T00:00:00.000000000",
          "2002-11-01T00:00:00.000000000",
          "2002-12-01T00:00:00.000000000",
          "2003-01-01T00:00:00.000000000",
          "2003-02-01T00:00:00.000000000",
          "2003-03-01T00:00:00.000000000",
          "2003-04-01T00:00:00.000000000",
          "2003-05-01T00:00:00.000000000",
          "2003-06-01T00:00:00.000000000",
          "2003-07-01T00:00:00.000000000",
          "2003-08-01T00:00:00.000000000",
          "2003-09-01T00:00:00.000000000",
          "2003-10-01T00:00:00.000000000",
          "2003-11-01T00:00:00.000000000",
          "2003-12-01T00:00:00.000000000",
          "2004-01-01T00:00:00.000000000",
          "2004-02-01T00:00:00.000000000",
          "2004-03-01T00:00:00.000000000",
          "2004-04-01T00:00:00.000000000",
          "2004-05-01T00:00:00.000000000",
          "2004-06-01T00:00:00.000000000",
          "2004-07-01T00:00:00.000000000",
          "2004-08-01T00:00:00.000000000",
          "2004-09-01T00:00:00.000000000",
          "2004-10-01T00:00:00.000000000",
          "2004-11-01T00:00:00.000000000",
          "2004-12-01T00:00:00.000000000",
          "2005-01-01T00:00:00.000000000",
          "2005-02-01T00:00:00.000000000",
          "2005-03-01T00:00:00.000000000",
          "2005-04-01T00:00:00.000000000",
          "2005-05-01T00:00:00.000000000",
          "2005-06-01T00:00:00.000000000",
          "2005-07-01T00:00:00.000000000",
          "2005-08-01T00:00:00.000000000",
          "2005-09-01T00:00:00.000000000",
          "2005-10-01T00:00:00.000000000",
          "2005-11-01T00:00:00.000000000",
          "2005-12-01T00:00:00.000000000",
          "2006-01-01T00:00:00.000000000",
          "2006-02-01T00:00:00.000000000",
          "2006-03-01T00:00:00.000000000",
          "2006-04-01T00:00:00.000000000",
          "2006-05-01T00:00:00.000000000",
          "2006-06-01T00:00:00.000000000",
          "2006-07-01T00:00:00.000000000",
          "2006-08-01T00:00:00.000000000",
          "2006-09-01T00:00:00.000000000",
          "2006-10-01T00:00:00.000000000",
          "2006-11-01T00:00:00.000000000",
          "2006-12-01T00:00:00.000000000",
          "2007-01-01T00:00:00.000000000",
          "2007-02-01T00:00:00.000000000",
          "2007-03-01T00:00:00.000000000",
          "2007-04-01T00:00:00.000000000",
          "2007-05-01T00:00:00.000000000",
          "2007-06-01T00:00:00.000000000",
          "2007-07-01T00:00:00.000000000",
          "2007-08-01T00:00:00.000000000",
          "2007-09-01T00:00:00.000000000",
          "2007-10-01T00:00:00.000000000",
          "2007-11-01T00:00:00.000000000",
          "2007-12-01T00:00:00.000000000",
          "2008-01-01T00:00:00.000000000",
          "2008-02-01T00:00:00.000000000",
          "2008-03-01T00:00:00.000000000",
          "2008-04-01T00:00:00.000000000",
          "2008-05-01T00:00:00.000000000",
          "2008-06-01T00:00:00.000000000",
          "2008-07-01T00:00:00.000000000",
          "2008-08-01T00:00:00.000000000",
          "2008-09-01T00:00:00.000000000",
          "2008-10-01T00:00:00.000000000",
          "2008-11-01T00:00:00.000000000",
          "2008-12-01T00:00:00.000000000",
          "2009-01-01T00:00:00.000000000",
          "2009-02-01T00:00:00.000000000",
          "2009-03-01T00:00:00.000000000",
          "2009-04-01T00:00:00.000000000",
          "2009-05-01T00:00:00.000000000",
          "2009-06-01T00:00:00.000000000",
          "2009-07-01T00:00:00.000000000",
          "2009-08-01T00:00:00.000000000",
          "2009-09-01T00:00:00.000000000",
          "2009-10-01T00:00:00.000000000",
          "2009-11-01T00:00:00.000000000",
          "2009-12-01T00:00:00.000000000",
          "2010-01-01T00:00:00.000000000",
          "2010-02-01T00:00:00.000000000",
          "2010-03-01T00:00:00.000000000",
          "2010-04-01T00:00:00.000000000",
          "2010-05-01T00:00:00.000000000",
          "2010-06-01T00:00:00.000000000",
          "2010-07-01T00:00:00.000000000",
          "2010-08-01T00:00:00.000000000",
          "2010-09-01T00:00:00.000000000",
          "2010-10-01T00:00:00.000000000",
          "2010-11-01T00:00:00.000000000",
          "2010-12-01T00:00:00.000000000",
          "2011-01-01T00:00:00.000000000",
          "2011-02-01T00:00:00.000000000",
          "2011-03-01T00:00:00.000000000",
          "2011-04-01T00:00:00.000000000",
          "2011-05-01T00:00:00.000000000",
          "2011-06-01T00:00:00.000000000",
          "2011-07-01T00:00:00.000000000",
          "2011-08-01T00:00:00.000000000",
          "2011-09-01T00:00:00.000000000",
          "2011-10-01T00:00:00.000000000",
          "2011-11-01T00:00:00.000000000",
          "2011-12-01T00:00:00.000000000",
          "2012-01-01T00:00:00.000000000",
          "2012-02-01T00:00:00.000000000",
          "2012-03-01T00:00:00.000000000",
          "2012-04-01T00:00:00.000000000",
          "2012-05-01T00:00:00.000000000",
          "2012-06-01T00:00:00.000000000",
          "2012-07-01T00:00:00.000000000",
          "2012-08-01T00:00:00.000000000",
          "2012-09-01T00:00:00.000000000",
          "2012-10-01T00:00:00.000000000",
          "2012-11-01T00:00:00.000000000",
          "2012-12-01T00:00:00.000000000",
          "2013-01-01T00:00:00.000000000",
          "2013-02-01T00:00:00.000000000",
          "2013-03-01T00:00:00.000000000",
          "2013-04-01T00:00:00.000000000",
          "2013-05-01T00:00:00.000000000",
          "2013-06-01T00:00:00.000000000",
          "2013-07-01T00:00:00.000000000",
          "2013-08-01T00:00:00.000000000",
          "2013-09-01T00:00:00.000000000",
          "2013-10-01T00:00:00.000000000",
          "2013-11-01T00:00:00.000000000",
          "2013-12-01T00:00:00.000000000",
          "2014-01-01T00:00:00.000000000",
          "2014-02-01T00:00:00.000000000",
          "2014-03-01T00:00:00.000000000",
          "2014-04-01T00:00:00.000000000",
          "2014-05-01T00:00:00.000000000",
          "2014-06-01T00:00:00.000000000",
          "2014-07-01T00:00:00.000000000",
          "2014-08-01T00:00:00.000000000",
          "2014-09-01T00:00:00.000000000",
          "2014-10-01T00:00:00.000000000",
          "2014-11-01T00:00:00.000000000",
          "2014-12-01T00:00:00.000000000",
          "2015-01-01T00:00:00.000000000",
          "2015-02-01T00:00:00.000000000",
          "2015-03-01T00:00:00.000000000",
          "2015-04-01T00:00:00.000000000",
          "2015-05-01T00:00:00.000000000",
          "2015-06-01T00:00:00.000000000",
          "2015-07-01T00:00:00.000000000",
          "2015-08-01T00:00:00.000000000",
          "2015-09-01T00:00:00.000000000",
          "2015-10-01T00:00:00.000000000",
          "2015-11-01T00:00:00.000000000",
          "2015-12-01T00:00:00.000000000",
          "2016-01-01T00:00:00.000000000",
          "2016-02-01T00:00:00.000000000",
          "2016-03-01T00:00:00.000000000",
          "2016-04-01T00:00:00.000000000",
          "2016-05-01T00:00:00.000000000",
          "2016-06-01T00:00:00.000000000",
          "2016-07-01T00:00:00.000000000",
          "2016-08-01T00:00:00.000000000",
          "2016-09-01T00:00:00.000000000",
          "2016-10-01T00:00:00.000000000",
          "2016-11-01T00:00:00.000000000",
          "2016-12-01T00:00:00.000000000",
          "2017-01-01T00:00:00.000000000",
          "2017-02-01T00:00:00.000000000",
          "2017-03-01T00:00:00.000000000",
          "2017-04-01T00:00:00.000000000",
          "2017-05-01T00:00:00.000000000",
          "2017-06-01T00:00:00.000000000",
          "2017-07-01T00:00:00.000000000",
          "2017-08-01T00:00:00.000000000",
          "2017-09-01T00:00:00.000000000",
          "2017-10-01T00:00:00.000000000",
          "2017-11-01T00:00:00.000000000",
          "2017-12-01T00:00:00.000000000",
          "2018-01-01T00:00:00.000000000",
          "2018-02-01T00:00:00.000000000",
          "2018-03-01T00:00:00.000000000",
          "2018-04-01T00:00:00.000000000",
          "2018-05-01T00:00:00.000000000",
          "2018-06-01T00:00:00.000000000",
          "2018-07-01T00:00:00.000000000",
          "2018-08-01T00:00:00.000000000",
          "2018-09-01T00:00:00.000000000",
          "2018-10-01T00:00:00.000000000",
          "2018-11-01T00:00:00.000000000",
          "2018-12-01T00:00:00.000000000",
          "2019-01-01T00:00:00.000000000",
          "2019-02-01T00:00:00.000000000",
          "2019-03-01T00:00:00.000000000",
          "2019-04-01T00:00:00.000000000",
          "2019-05-01T00:00:00.000000000",
          "2019-06-01T00:00:00.000000000",
          "2019-07-01T00:00:00.000000000",
          "2019-08-01T00:00:00.000000000",
          "2019-09-01T00:00:00.000000000",
          "2019-10-01T00:00:00.000000000",
          "2019-11-01T00:00:00.000000000",
          "2019-12-01T00:00:00.000000000",
          "2020-01-01T00:00:00.000000000",
          "2020-02-01T00:00:00.000000000",
          "2020-03-01T00:00:00.000000000",
          "2020-04-01T00:00:00.000000000",
          "2020-05-01T00:00:00.000000000",
          "2020-06-01T00:00:00.000000000",
          "2020-07-01T00:00:00.000000000",
          "2020-08-01T00:00:00.000000000",
          "2020-09-01T00:00:00.000000000",
          "2020-10-01T00:00:00.000000000",
          "2020-11-01T00:00:00.000000000",
          "2020-12-01T00:00:00.000000000",
          "2021-01-01T00:00:00.000000000",
          "2021-02-01T00:00:00.000000000",
          "2021-03-01T00:00:00.000000000",
          "2021-04-01T00:00:00.000000000",
          "2021-05-01T00:00:00.000000000",
          "2021-06-01T00:00:00.000000000",
          "2021-07-01T00:00:00.000000000",
          "2021-08-01T00:00:00.000000000",
          "2021-09-01T00:00:00.000000000",
          "2021-10-01T00:00:00.000000000",
          "2021-11-01T00:00:00.000000000",
          "2021-12-01T00:00:00.000000000",
          "2022-01-01T00:00:00.000000000",
          "2022-02-01T00:00:00.000000000",
          "2022-03-01T00:00:00.000000000",
          "2022-04-01T00:00:00.000000000",
          "2022-05-01T00:00:00.000000000",
          "2022-06-01T00:00:00.000000000",
          "2022-07-01T00:00:00.000000000",
          "2022-08-01T00:00:00.000000000",
          "2022-09-01T00:00:00.000000000",
          "2022-10-01T00:00:00.000000000",
          "2022-11-01T00:00:00.000000000",
          "2022-12-01T00:00:00.000000000",
          "2023-01-01T00:00:00.000000000",
          "2023-02-01T00:00:00.000000000",
          "2023-03-01T00:00:00.000000000",
          "2023-04-01T00:00:00.000000000",
          "2023-05-01T00:00:00.000000000",
          "2023-06-01T00:00:00.000000000",
          "2023-07-01T00:00:00.000000000",
          "2023-08-01T00:00:00.000000000",
          "2023-09-01T00:00:00.000000000",
          "2023-10-01T00:00:00.000000000",
          "2023-11-01T00:00:00.000000000",
          "2023-12-01T00:00:00.000000000",
          "2024-01-01T00:00:00.000000000",
          "2024-02-01T00:00:00.000000000",
          "2024-03-01T00:00:00.000000000",
          "2024-04-01T00:00:00.000000000",
          "2024-05-01T00:00:00.000000000",
          "2024-06-01T00:00:00.000000000",
          "2024-07-01T00:00:00.000000000",
          "2024-08-01T00:00:00.000000000",
          "2024-09-01T00:00:00.000000000",
          "2024-10-01T00:00:00.000000000",
          "2024-11-01T00:00:00.000000000",
          "2024-12-01T00:00:00.000000000",
          "2025-01-01T00:00:00.000000000"
         ],
         "xaxis": "x",
         "y": {
          "bdata": "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",
          "dtype": "f8"
         },
         "yaxis": "y"
        }
       ],
       "layout": {
        "annotations": [
         {
          "align": "left",
          "bgcolor": "rgba(255, 255, 255, 0.8)",
          "bordercolor": "black",
          "borderwidth": 1,
          "font": {
           "size": 10
          },
          "showarrow": false,
          "text": "Source: Trading Economics<br>Original Source: Federal Reserve Bank of Chicago<br>Frequency: MS<br>",
          "x": 0,
          "xanchor": "left",
          "xref": "paper",
          "y": -0.2,
          "yanchor": "bottom",
          "yref": "paper"
         }
        ],
        "legend": {
         "orientation": "h",
         "title": {
          "text": ""
         },
         "tracegroupgap": 0,
         "x": 0.5,
         "xanchor": "center",
         "y": -0.2,
         "yanchor": "bottom"
        },
        "margin": {
         "t": 60
        },
        "template": {
         "data": {
          "bar": [
           {
            "error_x": {
             "color": "#2a3f5f"
            },
            "error_y": {
             "color": "#2a3f5f"
            },
            "marker": {
             "line": {
              "color": "#E5ECF6",
              "width": 0.5
             },
             "pattern": {
              "fillmode": "overlay",
              "size": 10,
              "solidity": 0.2
             }
            },
            "type": "bar"
           }
          ],
          "barpolar": [
           {
            "marker": {
             "line": {
              "color": "#E5ECF6",
              "width": 0.5
             },
             "pattern": {
              "fillmode": "overlay",
              "size": 10,
              "solidity": 0.2
             }
            },
            "type": "barpolar"
           }
          ],
          "carpet": [
           {
            "aaxis": {
             "endlinecolor": "#2a3f5f",
             "gridcolor": "white",
             "linecolor": "white",
             "minorgridcolor": "white",
             "startlinecolor": "#2a3f5f"
            },
            "baxis": {
             "endlinecolor": "#2a3f5f",
             "gridcolor": "white",
             "linecolor": "white",
             "minorgridcolor": "white",
             "startlinecolor": "#2a3f5f"
            },
            "type": "carpet"
           }
          ],
          "choropleth": [
           {
            "colorbar": {
             "outlinewidth": 0,
             "ticks": ""
            },
            "type": "choropleth"
           }
          ],
          "contour": [
           {
            "colorbar": {
             "outlinewidth": 0,
             "ticks": ""
            },
            "colorscale": [
             [
              0,
              "#0d0887"
             ],
             [
              0.1111111111111111,
              "#46039f"
             ],
             [
              0.2222222222222222,
              "#7201a8"
             ],
             [
              0.3333333333333333,
              "#9c179e"
             ],
             [
              0.4444444444444444,
              "#bd3786"
             ],
             [
              0.5555555555555556,
              "#d8576b"
             ],
             [
              0.6666666666666666,
              "#ed7953"
             ],
             [
              0.7777777777777778,
              "#fb9f3a"
             ],
             [
              0.8888888888888888,
              "#fdca26"
             ],
             [
              1,
              "#f0f921"
             ]
            ],
            "type": "contour"
           }
          ],
          "contourcarpet": [
           {
            "colorbar": {
             "outlinewidth": 0,
             "ticks": ""
            },
            "type": "contourcarpet"
           }
          ],
          "heatmap": [
           {
            "colorbar": {
             "outlinewidth": 0,
             "ticks": ""
            },
            "colorscale": [
             [
              0,
              "#0d0887"
             ],
             [
              0.1111111111111111,
              "#46039f"
             ],
             [
              0.2222222222222222,
              "#7201a8"
             ],
             [
              0.3333333333333333,
              "#9c179e"
             ],
             [
              0.4444444444444444,
              "#bd3786"
             ],
             [
              0.5555555555555556,
              "#d8576b"
             ],
             [
              0.6666666666666666,
              "#ed7953"
             ],
             [
              0.7777777777777778,
              "#fb9f3a"
             ],
             [
              0.8888888888888888,
              "#fdca26"
             ],
             [
              1,
              "#f0f921"
             ]
            ],
            "type": "heatmap"
           }
          ],
          "histogram": [
           {
            "marker": {
             "pattern": {
              "fillmode": "overlay",
              "size": 10,
              "solidity": 0.2
             }
            },
            "type": "histogram"
           }
          ],
          "histogram2d": [
           {
            "colorbar": {
             "outlinewidth": 0,
             "ticks": ""
            },
            "colorscale": [
             [
              0,
              "#0d0887"
             ],
             [
              0.1111111111111111,
              "#46039f"
             ],
             [
              0.2222222222222222,
              "#7201a8"
             ],
             [
              0.3333333333333333,
              "#9c179e"
             ],
             [
              0.4444444444444444,
              "#bd3786"
             ],
             [
              0.5555555555555556,
              "#d8576b"
             ],
             [
              0.6666666666666666,
              "#ed7953"
             ],
             [
              0.7777777777777778,
              "#fb9f3a"
             ],
             [
              0.8888888888888888,
              "#fdca26"
             ],
             [
              1,
              "#f0f921"
             ]
            ],
            "type": "histogram2d"
           }
          ],
          "histogram2dcontour": [
           {
            "colorbar": {
             "outlinewidth": 0,
             "ticks": ""
            },
            "colorscale": [
             [
              0,
              "#0d0887"
             ],
             [
              0.1111111111111111,
              "#46039f"
             ],
             [
              0.2222222222222222,
              "#7201a8"
             ],
             [
              0.3333333333333333,
              "#9c179e"
             ],
             [
              0.4444444444444444,
              "#bd3786"
             ],
             [
              0.5555555555555556,
              "#d8576b"
             ],
             [
              0.6666666666666666,
              "#ed7953"
             ],
             [
              0.7777777777777778,
              "#fb9f3a"
             ],
             [
              0.8888888888888888,
              "#fdca26"
             ],
             [
              1,
              "#f0f921"
             ]
            ],
            "type": "histogram2dcontour"
           }
          ],
          "mesh3d": [
           {
            "colorbar": {
             "outlinewidth": 0,
             "ticks": ""
            },
            "type": "mesh3d"
           }
          ],
          "parcoords": [
           {
            "line": {
             "colorbar": {
              "outlinewidth": 0,
              "ticks": ""
             }
            },
            "type": "parcoords"
           }
          ],
          "pie": [
           {
            "automargin": true,
            "type": "pie"
           }
          ],
          "scatter": [
           {
            "fillpattern": {
             "fillmode": "overlay",
             "size": 10,
             "solidity": 0.2
            },
            "type": "scatter"
           }
          ],
          "scatter3d": [
           {
            "line": {
             "colorbar": {
              "outlinewidth": 0,
              "ticks": ""
             }
            },
            "marker": {
             "colorbar": {
              "outlinewidth": 0,
              "ticks": ""
             }
            },
            "type": "scatter3d"
           }
          ],
          "scattercarpet": [
           {
            "marker": {
             "colorbar": {
              "outlinewidth": 0,
              "ticks": ""
             }
            },
            "type": "scattercarpet"
           }
          ],
          "scattergeo": [
           {
            "marker": {
             "colorbar": {
              "outlinewidth": 0,
              "ticks": ""
             }
            },
            "type": "scattergeo"
           }
          ],
          "scattergl": [
           {
            "marker": {
             "colorbar": {
              "outlinewidth": 0,
              "ticks": ""
             }
            },
            "type": "scattergl"
           }
          ],
          "scattermap": [
           {
            "marker": {
             "colorbar": {
              "outlinewidth": 0,
              "ticks": ""
             }
            },
            "type": "scattermap"
           }
          ],
          "scattermapbox": [
           {
            "marker": {
             "colorbar": {
              "outlinewidth": 0,
              "ticks": ""
             }
            },
            "type": "scattermapbox"
           }
          ],
          "scatterpolar": [
           {
            "marker": {
             "colorbar": {
              "outlinewidth": 0,
              "ticks": ""
             }
            },
            "type": "scatterpolar"
           }
          ],
          "scatterpolargl": [
           {
            "marker": {
             "colorbar": {
              "outlinewidth": 0,
              "ticks": ""
             }
            },
            "type": "scatterpolargl"
           }
          ],
          "scatterternary": [
           {
            "marker": {
             "colorbar": {
              "outlinewidth": 0,
              "ticks": ""
             }
            },
            "type": "scatterternary"
           }
          ],
          "surface": [
           {
            "colorbar": {
             "outlinewidth": 0,
             "ticks": ""
            },
            "colorscale": [
             [
              0,
              "#0d0887"
             ],
             [
              0.1111111111111111,
              "#46039f"
             ],
             [
              0.2222222222222222,
              "#7201a8"
             ],
             [
              0.3333333333333333,
              "#9c179e"
             ],
             [
              0.4444444444444444,
              "#bd3786"
             ],
             [
              0.5555555555555556,
              "#d8576b"
             ],
             [
              0.6666666666666666,
              "#ed7953"
             ],
             [
              0.7777777777777778,
              "#fb9f3a"
             ],
             [
              0.8888888888888888,
              "#fdca26"
             ],
             [
              1,
              "#f0f921"
             ]
            ],
            "type": "surface"
           }
          ],
          "table": [
           {
            "cells": {
             "fill": {
              "color": "#EBF0F8"
             },
             "line": {
              "color": "white"
             }
            },
            "header": {
             "fill": {
              "color": "#C8D4E3"
             },
             "line": {
              "color": "white"
             }
            },
            "type": "table"
           }
          ]
         },
         "layout": {
          "annotationdefaults": {
           "arrowcolor": "#2a3f5f",
           "arrowhead": 0,
           "arrowwidth": 1
          },
          "autotypenumbers": "strict",
          "coloraxis": {
           "colorbar": {
            "outlinewidth": 0,
            "ticks": ""
           }
          },
          "colorscale": {
           "diverging": [
            [
             0,
             "#8e0152"
            ],
            [
             0.1,
             "#c51b7d"
            ],
            [
             0.2,
             "#de77ae"
            ],
            [
             0.3,
             "#f1b6da"
            ],
            [
             0.4,
             "#fde0ef"
            ],
            [
             0.5,
             "#f7f7f7"
            ],
            [
             0.6,
             "#e6f5d0"
            ],
            [
             0.7,
             "#b8e186"
            ],
            [
             0.8,
             "#7fbc41"
            ],
            [
             0.9,
             "#4d9221"
            ],
            [
             1,
             "#276419"
            ]
           ],
           "sequential": [
            [
             0,
             "#0d0887"
            ],
            [
             0.1111111111111111,
             "#46039f"
            ],
            [
             0.2222222222222222,
             "#7201a8"
            ],
            [
             0.3333333333333333,
             "#9c179e"
            ],
            [
             0.4444444444444444,
             "#bd3786"
            ],
            [
             0.5555555555555556,
             "#d8576b"
            ],
            [
             0.6666666666666666,
             "#ed7953"
            ],
            [
             0.7777777777777778,
             "#fb9f3a"
            ],
            [
             0.8888888888888888,
             "#fdca26"
            ],
            [
             1,
             "#f0f921"
            ]
           ],
           "sequentialminus": [
            [
             0,
             "#0d0887"
            ],
            [
             0.1111111111111111,
             "#46039f"
            ],
            [
             0.2222222222222222,
             "#7201a8"
            ],
            [
             0.3333333333333333,
             "#9c179e"
            ],
            [
             0.4444444444444444,
             "#bd3786"
            ],
            [
             0.5555555555555556,
             "#d8576b"
            ],
            [
             0.6666666666666666,
             "#ed7953"
            ],
            [
             0.7777777777777778,
             "#fb9f3a"
            ],
            [
             0.8888888888888888,
             "#fdca26"
            ],
            [
             1,
             "#f0f921"
            ]
           ]
          },
          "colorway": [
           "#636efa",
           "#EF553B",
           "#00cc96",
           "#ab63fa",
           "#FFA15A",
           "#19d3f3",
           "#FF6692",
           "#B6E880",
           "#FF97FF",
           "#FECB52"
          ],
          "font": {
           "color": "#2a3f5f"
          },
          "geo": {
           "bgcolor": "white",
           "lakecolor": "white",
           "landcolor": "#E5ECF6",
           "showlakes": true,
           "showland": true,
           "subunitcolor": "white"
          },
          "hoverlabel": {
           "align": "left"
          },
          "hovermode": "closest",
          "mapbox": {
           "style": "light"
          },
          "paper_bgcolor": "white",
          "plot_bgcolor": "#E5ECF6",
          "polar": {
           "angularaxis": {
            "gridcolor": "white",
            "linecolor": "white",
            "ticks": ""
           },
           "bgcolor": "#E5ECF6",
           "radialaxis": {
            "gridcolor": "white",
            "linecolor": "white",
            "ticks": ""
           }
          },
          "scene": {
           "xaxis": {
            "backgroundcolor": "#E5ECF6",
            "gridcolor": "white",
            "gridwidth": 2,
            "linecolor": "white",
            "showbackground": true,
            "ticks": "",
            "zerolinecolor": "white"
           },
           "yaxis": {
            "backgroundcolor": "#E5ECF6",
            "gridcolor": "white",
            "gridwidth": 2,
            "linecolor": "white",
            "showbackground": true,
            "ticks": "",
            "zerolinecolor": "white"
           },
           "zaxis": {
            "backgroundcolor": "#E5ECF6",
            "gridcolor": "white",
            "gridwidth": 2,
            "linecolor": "white",
            "showbackground": true,
            "ticks": "",
            "zerolinecolor": "white"
           }
          },
          "shapedefaults": {
           "line": {
            "color": "#2a3f5f"
           }
          },
          "ternary": {
           "aaxis": {
            "gridcolor": "white",
            "linecolor": "white",
            "ticks": ""
           },
           "baxis": {
            "gridcolor": "white",
            "linecolor": "white",
            "ticks": ""
           },
           "bgcolor": "#E5ECF6",
           "caxis": {
            "gridcolor": "white",
            "linecolor": "white",
            "ticks": ""
           }
          },
          "title": {
           "x": 0.05
          },
          "xaxis": {
           "automargin": true,
           "gridcolor": "white",
           "linecolor": "white",
           "ticks": "",
           "title": {
            "standoff": 15
           },
           "zerolinecolor": "white",
           "zerolinewidth": 2
          },
          "yaxis": {
           "automargin": true,
           "gridcolor": "white",
           "linecolor": "white",
           "ticks": "",
           "title": {
            "standoff": 15
           },
           "zerolinecolor": "white",
           "zerolinewidth": 2
          }
         }
        },
        "title": {
         "text": "United states: United states chicago fed national activity index"
        },
        "xaxis": {
         "anchor": "y",
         "domain": [
          0,
          1
         ],
         "title": {
          "text": ""
         }
        },
        "yaxis": {
         "anchor": "x",
         "domain": [
          0,
          1
         ],
         "title": {
          "text": "Points"
         }
        }
       }
      }
     },
     "metadata": {},
     "output_type": "display_data"
    }
   ],
   "source": [
    "scraped.plot_series()   #Plotting the series"
   ]
  },
  {
   "cell_type": "markdown",
   "metadata": {},
   "source": [
    "# Method #3: Debug method - manually run through the steps.\n",
    "\n",
    "If you get an error on trying load_page method, something like the examples below: \n",
    "- Error loading page: Message: Failed to decode response from marionette\n",
    "- Error loading page: Message: Tried to run command without establishing a connection\n",
    "\n",
    "You need to start a new webdriver instance. Reinitilize your TE_Scraper object and set: ```use_existing_driver = False```"
   ]
  },
  {
   "cell_type": "code",
   "execution_count": 7,
   "metadata": {},
   "outputs": [
    {
     "name": "stderr",
     "output_type": "stream",
     "text": [
      "INFO - Quitting 1 active webdriver instances...\n"
     ]
    },
    {
     "data": {
      "text/plain": [
       "[]"
      ]
     },
     "execution_count": 7,
     "metadata": {},
     "output_type": "execute_result"
    }
   ],
   "source": [
    "from tedata import base\n",
    "base.find_active_drivers(quit_all=True)"
   ]
  },
  {
   "cell_type": "code",
   "execution_count": 17,
   "metadata": {},
   "outputs": [
    {
     "name": "stderr",
     "output_type": "stream",
     "text": [
      "INFO - New firefox webdriver created.\n"
     ]
    }
   ],
   "source": [
    "scr = ted.TE_Scraper(use_existing_driver = False, headless = False)  ## Initialize a new TE_scraper object."
   ]
  },
  {
   "cell_type": "code",
   "execution_count": 46,
   "metadata": {},
   "outputs": [
    {
     "name": "stderr",
     "output_type": "stream",
     "text": [
      "INFO - Chart types dictionary created successfully: dict_keys(['Column', 'Spline', 'Areaspline', 'Stepline', 'Line', 'Area'])\n",
      "INFO - Date span set to: 5Y\n"
     ]
    },
    {
     "data": {
      "text/plain": [
       "True"
      ]
     },
     "execution_count": 46,
     "metadata": {},
     "output_type": "execute_result"
    }
   ],
   "source": [
    "scr.load_page('https://tradingeconomics.com/australia/gdp-per-capita-ppp') ## Load a new page containing chart."
   ]
  },
  {
   "cell_type": "code",
   "execution_count": 10,
   "metadata": {},
   "outputs": [
    {
     "name": "stderr",
     "output_type": "stream",
     "text": [
      "INFO - \n",
      "Series metadata: \n",
      " {'units': 'percent of GDP', 'original_source': 'Australian Government', 'title': 'Australia Government Spending To GDP', 'indicator': 'government spending to gdp', 'country': 'australia', 'source': 'Trading Economics', 'id': 'australia/government-spending-to-gdp'}\n"
     ]
    },
    {
     "name": "stdout",
     "output_type": "stream",
     "text": [
      "Description card not found:  {\"'NoneType' object has no attribute 'text'\"}\n"
     ]
    }
   ],
   "source": [
    "scr.scrape_metadata() ## Scrape the metadata for the data series from the page."
   ]
  },
  {
   "cell_type": "code",
   "execution_count": 11,
   "metadata": {},
   "outputs": [
    {
     "name": "stdout",
     "output_type": "stream",
     "text": [
      "Using selenium and tooltip scraping to construct the date time index for the time-series, this'll take a bit...\n"
     ]
    },
    {
     "name": "stderr",
     "output_type": "stream",
     "text": [
      "INFO - Date span set to: 5Y\n",
      "INFO - Chart type set to: Spline\n"
     ]
    },
    {
     "name": "stdout",
     "output_type": "stream",
     "text": [
      "Latest dates:  ['2024', '2023', '2022', '2021', '2020']\n",
      "Frequency of time-series:  YS-JAN\n",
      "get_xlims_from_tooltips method: date_span:  5Y , chart_type: splineChart\n"
     ]
    },
    {
     "name": "stderr",
     "output_type": "stream",
     "text": [
      "INFO - Error clicking button: Message: The element with the reference 14efaf22-ca86-415d-afef-b87a9a9187e1 is stale; either its node document is not the active document, or it is no longer connected to the DOM; For documentation on this error, please visit: https://www.selenium.dev/documentation/webdriver/troubleshooting/errors#stale-element-reference-exception\n",
      "Stacktrace:\n",
      "RemoteError@chrome://remote/content/shared/RemoteError.sys.mjs:8:8\n",
      "WebDriverError@chrome://remote/content/shared/webdriver/Errors.sys.mjs:197:5\n",
      "StaleElementReferenceError@chrome://remote/content/shared/webdriver/Errors.sys.mjs:755:5\n",
      "getKnownElement@chrome://remote/content/marionette/json.sys.mjs:405:11\n",
      "deserializeJSON@chrome://remote/content/marionette/json.sys.mjs:263:20\n",
      "cloneObject@chrome://remote/content/marionette/json.sys.mjs:59:24\n",
      "deserializeJSON@chrome://remote/content/marionette/json.sys.mjs:293:16\n",
      "json.deserialize@chrome://remote/content/marionette/json.sys.mjs:297:10\n",
      "receiveMessage@chrome://remote/content/marionette/actors/MarionetteCommandsChild.sys.mjs:195:30\n",
      "\n"
     ]
    },
    {
     "name": "stdout",
     "output_type": "stream",
     "text": [
      "Got chart dimensions and plot background element.\n"
     ]
    },
    {
     "name": "stderr",
     "output_type": "stream",
     "text": [
      "INFO - Start and end values scraped from tooltips: \n",
      "{'start_date': Timestamp('1971-01-01 00:00:00'), 'start_value': 18.3, 'end_date': Timestamp('2024-01-01 00:00:00'), 'end_value': 26.5}\n",
      "INFO - DateTimeIndex created successfully for the time-series.\n"
     ]
    },
    {
     "data": {
      "text/plain": [
       "DatetimeIndex(['1971-01-01', '1972-01-01', '1973-01-01', '1974-01-01',\n",
       "               '1975-01-01', '1976-01-01', '1977-01-01', '1978-01-01',\n",
       "               '1979-01-01', '1980-01-01', '1981-01-01', '1982-01-01',\n",
       "               '1983-01-01', '1984-01-01', '1985-01-01', '1986-01-01',\n",
       "               '1987-01-01', '1988-01-01', '1989-01-01', '1990-01-01',\n",
       "               '1991-01-01', '1992-01-01', '1993-01-01', '1994-01-01',\n",
       "               '1995-01-01', '1996-01-01', '1997-01-01', '1998-01-01',\n",
       "               '1999-01-01', '2000-01-01', '2001-01-01', '2002-01-01',\n",
       "               '2003-01-01', '2004-01-01', '2005-01-01', '2006-01-01',\n",
       "               '2007-01-01', '2008-01-01', '2009-01-01', '2010-01-01',\n",
       "               '2011-01-01', '2012-01-01', '2013-01-01', '2014-01-01',\n",
       "               '2015-01-01', '2016-01-01', '2017-01-01', '2018-01-01',\n",
       "               '2019-01-01', '2020-01-01', '2021-01-01', '2022-01-01',\n",
       "               '2023-01-01', '2024-01-01'],\n",
       "              dtype='datetime64[ns]', freq='YS-JAN')"
      ]
     },
     "execution_count": 11,
     "metadata": {},
     "output_type": "execute_result"
    }
   ],
   "source": [
    "scr.make_x_index(force_rerun_freqdet=True, force_rerun_xlims=True) ## Create the x_index for the series first."
   ]
  },
  {
   "cell_type": "code",
   "execution_count": 12,
   "metadata": {},
   "outputs": [
    {
     "name": "stderr",
     "output_type": "stream",
     "text": [
      "INFO - Y-axis values scraped successfully.\n"
     ]
    },
    {
     "data": {
      "text/plain": [
       "pixheight\n",
       "39.5     24.0\n",
       "77.5     25.0\n",
       "114.5    26.0\n",
       "151.5    27.0\n",
       "188.5    28.0\n",
       "224.5    29.0\n",
       "261.5    30.0\n",
       "298.5    31.0\n",
       "335.5    32.0\n",
       "Name: ytick_label, dtype: float64"
      ]
     },
     "execution_count": 12,
     "metadata": {},
     "output_type": "execute_result"
    }
   ],
   "source": [
    "scr.get_y_axis(set_global_y_axis=True)   ## Get the y-axis tick positions (pixel co-ordinates) and values, will set the global y-axis attribute since date_span is set to MAX."
   ]
  },
  {
   "cell_type": "code",
   "execution_count": 13,
   "metadata": {},
   "outputs": [
    {
     "name": "stderr",
     "output_type": "stream",
     "text": [
      "INFO - Series path extraction method: Extracting series data from chart soup.\n",
      "INFO - Date span: MAX. Chart type: splineChart, URL: https://tradingeconomics.com/australia/government-spending-to-gdp.\n"
     ]
    },
    {
     "data": {
      "text/plain": [
       "0.000000       64.468750\n",
       "0.000000       64.468750\n",
       "7.659004       66.315022\n",
       "12.765007      68.156250\n",
       "17.884998      70.002522\n",
       "                 ...    \n",
       "659.128991    184.312500\n",
       "664.234993    184.312500\n",
       "669.340996    184.312500\n",
       "677.000000    215.656250\n",
       "677.000000    215.656250\n",
       "Name: Extracted Series, Length: 160, dtype: float64"
      ]
     },
     "execution_count": 13,
     "metadata": {},
     "output_type": "execute_result"
    }
   ],
   "source": [
    "scr.series_from_chart_soup(set_max_datespan=True) ## Get the full series from the path element of the data trace on the svg chart.\n",
    "scr.series"
   ]
  },
  {
   "cell_type": "code",
   "execution_count": 14,
   "metadata": {},
   "outputs": [
    {
     "name": "stderr",
     "output_type": "stream",
     "text": [
      "INFO - DateTimeIndex applied to series, series attribute updated.\n"
     ]
    }
   ],
   "source": [
    "scr.apply_x_index()  ## Apply the x-axis index to the series."
   ]
  },
  {
   "cell_type": "code",
   "execution_count": 15,
   "metadata": {},
   "outputs": [
    {
     "data": {
      "text/plain": [
       "1971-01-01     64.468750\n",
       "1972-01-01     68.156250\n",
       "1973-01-01     73.687500\n",
       "1974-01-01     66.312500\n",
       "1975-01-01    148.912500\n",
       "1976-01-01    175.093750\n",
       "1977-01-01    171.406250\n",
       "1978-01-01    184.312500\n",
       "1979-01-01    161.081250\n",
       "1980-01-01    160.343750\n",
       "1981-01-01    164.031250\n",
       "1982-01-01    158.500000\n",
       "1983-01-01    214.918750\n",
       "1984-01-01    219.343750\n",
       "1985-01-01    234.093750\n",
       "1986-01-01    228.193750\n",
       "1987-01-01    215.656250\n",
       "1988-01-01    193.531250\n",
       "1989-01-01    149.281250\n",
       "1990-01-01    149.281250\n",
       "1991-01-01    183.206250\n",
       "1992-01-01    199.062500\n",
       "1993-01-01    208.281250\n",
       "1994-01-01    208.281250\n",
       "1995-01-01    199.062500\n",
       "1996-01-01    199.062500\n",
       "1997-01-01    183.583576\n",
       "1998-01-01    165.875000\n",
       "1999-01-01    164.031250\n",
       "2000-01-01    152.968750\n",
       "2001-01-01    189.843750\n",
       "2002-01-01    186.156250\n",
       "2003-01-01    178.043750\n",
       "2004-01-01    175.093750\n",
       "2005-01-01    169.562500\n",
       "2006-01-01    169.562500\n",
       "2007-01-01    153.337500\n",
       "2008-01-01    152.968750\n",
       "2009-01-01    199.786380\n",
       "2010-01-01    202.750000\n",
       "2011-01-01    176.937500\n",
       "2012-01-01    182.468750\n",
       "2013-01-01    167.718750\n",
       "2014-01-01    195.375000\n",
       "2015-01-01    195.375000\n",
       "2016-01-01    197.218750\n",
       "2017-01-01    184.685790\n",
       "2018-01-01    180.625000\n",
       "2019-01-01    180.625000\n",
       "2020-01-01    239.625000\n",
       "2021-01-01    306.000000\n",
       "2022-01-01    195.006250\n",
       "2023-01-01    184.312500\n",
       "2024-01-01    215.656250\n",
       "Freq: YS-JAN, Name: government spending to gdp, dtype: float64"
      ]
     },
     "execution_count": 15,
     "metadata": {},
     "output_type": "execute_result"
    }
   ],
   "source": [
    "scr.series"
   ]
  },
  {
   "cell_type": "markdown",
   "metadata": {},
   "source": [
    "At this point the value in the data-series are still the pixel co-ordinates in the svg image of the chart."
   ]
  },
  {
   "cell_type": "code",
   "execution_count": 16,
   "metadata": {},
   "outputs": [
    {
     "data": {
      "application/vnd.plotly.v1+json": {
       "config": {
        "plotlyServerURL": "https://plot.ly"
       },
       "data": [
        {
         "hovertemplate": "variable=government spending to gdp<br>index=%{x}<br>value=%{y}<extra></extra>",
         "legendgroup": "government spending to gdp",
         "line": {
          "color": "#636efa",
          "dash": "solid"
         },
         "marker": {
          "symbol": "circle"
         },
         "mode": "lines",
         "name": "government spending to gdp",
         "orientation": "v",
         "showlegend": true,
         "type": "scatter",
         "x": [
          "1971-01-01T00:00:00.000000000",
          "1972-01-01T00:00:00.000000000",
          "1973-01-01T00:00:00.000000000",
          "1974-01-01T00:00:00.000000000",
          "1975-01-01T00:00:00.000000000",
          "1976-01-01T00:00:00.000000000",
          "1977-01-01T00:00:00.000000000",
          "1978-01-01T00:00:00.000000000",
          "1979-01-01T00:00:00.000000000",
          "1980-01-01T00:00:00.000000000",
          "1981-01-01T00:00:00.000000000",
          "1982-01-01T00:00:00.000000000",
          "1983-01-01T00:00:00.000000000",
          "1984-01-01T00:00:00.000000000",
          "1985-01-01T00:00:00.000000000",
          "1986-01-01T00:00:00.000000000",
          "1987-01-01T00:00:00.000000000",
          "1988-01-01T00:00:00.000000000",
          "1989-01-01T00:00:00.000000000",
          "1990-01-01T00:00:00.000000000",
          "1991-01-01T00:00:00.000000000",
          "1992-01-01T00:00:00.000000000",
          "1993-01-01T00:00:00.000000000",
          "1994-01-01T00:00:00.000000000",
          "1995-01-01T00:00:00.000000000",
          "1996-01-01T00:00:00.000000000",
          "1997-01-01T00:00:00.000000000",
          "1998-01-01T00:00:00.000000000",
          "1999-01-01T00:00:00.000000000",
          "2000-01-01T00:00:00.000000000",
          "2001-01-01T00:00:00.000000000",
          "2002-01-01T00:00:00.000000000",
          "2003-01-01T00:00:00.000000000",
          "2004-01-01T00:00:00.000000000",
          "2005-01-01T00:00:00.000000000",
          "2006-01-01T00:00:00.000000000",
          "2007-01-01T00:00:00.000000000",
          "2008-01-01T00:00:00.000000000",
          "2009-01-01T00:00:00.000000000",
          "2010-01-01T00:00:00.000000000",
          "2011-01-01T00:00:00.000000000",
          "2012-01-01T00:00:00.000000000",
          "2013-01-01T00:00:00.000000000",
          "2014-01-01T00:00:00.000000000",
          "2015-01-01T00:00:00.000000000",
          "2016-01-01T00:00:00.000000000",
          "2017-01-01T00:00:00.000000000",
          "2018-01-01T00:00:00.000000000",
          "2019-01-01T00:00:00.000000000",
          "2020-01-01T00:00:00.000000000",
          "2021-01-01T00:00:00.000000000",
          "2022-01-01T00:00:00.000000000",
          "2023-01-01T00:00:00.000000000",
          "2024-01-01T00:00:00.000000000"
         ],
         "xaxis": "x",
         "y": {
          "bdata": "AAAAAAAeUEAAAAAAAApRQAAAAAAAbFJAAAAAAACUUEAUMzMzM51iQAAAAAAA42VAAAAAAABtZUAAAAAAAApnQLSZmZmZImRAAAAAAAALZEAAAAAAAIFkQAAAAAAA0GNAZmZmZmbdakAAAAAAAGtrQAAAAAAAQ21AMzMzMzOGbEAAAAAAAPVqQAAAAAAAMWhAAAAAAACpYkAAAAAAAKliQJiZmZmZ5mZAAAAAAADiaEAAAAAAAAlqQAAAAAAACWpAAAAAAADiaEAAAAAAAOJoQIGasqas8mZAAAAAAAC8ZEAAAAAAAIFkQAAAAAAAH2NAAAAAAAC7Z0AAAAAAAEVnQGdmZmZmQWZAAAAAAADjZUAAAAAAADJlQAAAAAAAMmVAzczMzMwqY0AAAAAAAB9jQMm+TQYq+WhAAAAAAABYaUAAAAAAAB5mQAAAAAAAz2ZAAAAAAAD3ZEAAAAAAAGxoQAAAAAAAbGhAAAAAAACnaEC8Feb98RVnQAAAAAAAlGZAAAAAAACUZkAAAAAAAPRtQAAAAAAAIHNANDMzMzNgaEAAAAAAAApnQAAAAAAA9WpA",
          "dtype": "f8"
         },
         "yaxis": "y"
        }
       ],
       "layout": {
        "annotations": [
         {
          "align": "left",
          "bgcolor": "rgba(255, 255, 255, 0.8)",
          "bordercolor": "black",
          "borderwidth": 1,
          "font": {
           "size": 10
          },
          "showarrow": false,
          "text": "Source: Trading Economics<br>Original Source: Australian Government<br>Frequency: YS-JAN<br>",
          "x": 0,
          "xanchor": "left",
          "xref": "paper",
          "y": -0.2,
          "yanchor": "bottom",
          "yref": "paper"
         }
        ],
        "legend": {
         "orientation": "h",
         "title": {
          "text": ""
         },
         "tracegroupgap": 0,
         "x": 0.5,
         "xanchor": "center",
         "y": -0.2,
         "yanchor": "bottom"
        },
        "margin": {
         "t": 60
        },
        "template": {
         "data": {
          "bar": [
           {
            "error_x": {
             "color": "#2a3f5f"
            },
            "error_y": {
             "color": "#2a3f5f"
            },
            "marker": {
             "line": {
              "color": "#E5ECF6",
              "width": 0.5
             },
             "pattern": {
              "fillmode": "overlay",
              "size": 10,
              "solidity": 0.2
             }
            },
            "type": "bar"
           }
          ],
          "barpolar": [
           {
            "marker": {
             "line": {
              "color": "#E5ECF6",
              "width": 0.5
             },
             "pattern": {
              "fillmode": "overlay",
              "size": 10,
              "solidity": 0.2
             }
            },
            "type": "barpolar"
           }
          ],
          "carpet": [
           {
            "aaxis": {
             "endlinecolor": "#2a3f5f",
             "gridcolor": "white",
             "linecolor": "white",
             "minorgridcolor": "white",
             "startlinecolor": "#2a3f5f"
            },
            "baxis": {
             "endlinecolor": "#2a3f5f",
             "gridcolor": "white",
             "linecolor": "white",
             "minorgridcolor": "white",
             "startlinecolor": "#2a3f5f"
            },
            "type": "carpet"
           }
          ],
          "choropleth": [
           {
            "colorbar": {
             "outlinewidth": 0,
             "ticks": ""
            },
            "type": "choropleth"
           }
          ],
          "contour": [
           {
            "colorbar": {
             "outlinewidth": 0,
             "ticks": ""
            },
            "colorscale": [
             [
              0,
              "#0d0887"
             ],
             [
              0.1111111111111111,
              "#46039f"
             ],
             [
              0.2222222222222222,
              "#7201a8"
             ],
             [
              0.3333333333333333,
              "#9c179e"
             ],
             [
              0.4444444444444444,
              "#bd3786"
             ],
             [
              0.5555555555555556,
              "#d8576b"
             ],
             [
              0.6666666666666666,
              "#ed7953"
             ],
             [
              0.7777777777777778,
              "#fb9f3a"
             ],
             [
              0.8888888888888888,
              "#fdca26"
             ],
             [
              1,
              "#f0f921"
             ]
            ],
            "type": "contour"
           }
          ],
          "contourcarpet": [
           {
            "colorbar": {
             "outlinewidth": 0,
             "ticks": ""
            },
            "type": "contourcarpet"
           }
          ],
          "heatmap": [
           {
            "colorbar": {
             "outlinewidth": 0,
             "ticks": ""
            },
            "colorscale": [
             [
              0,
              "#0d0887"
             ],
             [
              0.1111111111111111,
              "#46039f"
             ],
             [
              0.2222222222222222,
              "#7201a8"
             ],
             [
              0.3333333333333333,
              "#9c179e"
             ],
             [
              0.4444444444444444,
              "#bd3786"
             ],
             [
              0.5555555555555556,
              "#d8576b"
             ],
             [
              0.6666666666666666,
              "#ed7953"
             ],
             [
              0.7777777777777778,
              "#fb9f3a"
             ],
             [
              0.8888888888888888,
              "#fdca26"
             ],
             [
              1,
              "#f0f921"
             ]
            ],
            "type": "heatmap"
           }
          ],
          "histogram": [
           {
            "marker": {
             "pattern": {
              "fillmode": "overlay",
              "size": 10,
              "solidity": 0.2
             }
            },
            "type": "histogram"
           }
          ],
          "histogram2d": [
           {
            "colorbar": {
             "outlinewidth": 0,
             "ticks": ""
            },
            "colorscale": [
             [
              0,
              "#0d0887"
             ],
             [
              0.1111111111111111,
              "#46039f"
             ],
             [
              0.2222222222222222,
              "#7201a8"
             ],
             [
              0.3333333333333333,
              "#9c179e"
             ],
             [
              0.4444444444444444,
              "#bd3786"
             ],
             [
              0.5555555555555556,
              "#d8576b"
             ],
             [
              0.6666666666666666,
              "#ed7953"
             ],
             [
              0.7777777777777778,
              "#fb9f3a"
             ],
             [
              0.8888888888888888,
              "#fdca26"
             ],
             [
              1,
              "#f0f921"
             ]
            ],
            "type": "histogram2d"
           }
          ],
          "histogram2dcontour": [
           {
            "colorbar": {
             "outlinewidth": 0,
             "ticks": ""
            },
            "colorscale": [
             [
              0,
              "#0d0887"
             ],
             [
              0.1111111111111111,
              "#46039f"
             ],
             [
              0.2222222222222222,
              "#7201a8"
             ],
             [
              0.3333333333333333,
              "#9c179e"
             ],
             [
              0.4444444444444444,
              "#bd3786"
             ],
             [
              0.5555555555555556,
              "#d8576b"
             ],
             [
              0.6666666666666666,
              "#ed7953"
             ],
             [
              0.7777777777777778,
              "#fb9f3a"
             ],
             [
              0.8888888888888888,
              "#fdca26"
             ],
             [
              1,
              "#f0f921"
             ]
            ],
            "type": "histogram2dcontour"
           }
          ],
          "mesh3d": [
           {
            "colorbar": {
             "outlinewidth": 0,
             "ticks": ""
            },
            "type": "mesh3d"
           }
          ],
          "parcoords": [
           {
            "line": {
             "colorbar": {
              "outlinewidth": 0,
              "ticks": ""
             }
            },
            "type": "parcoords"
           }
          ],
          "pie": [
           {
            "automargin": true,
            "type": "pie"
           }
          ],
          "scatter": [
           {
            "fillpattern": {
             "fillmode": "overlay",
             "size": 10,
             "solidity": 0.2
            },
            "type": "scatter"
           }
          ],
          "scatter3d": [
           {
            "line": {
             "colorbar": {
              "outlinewidth": 0,
              "ticks": ""
             }
            },
            "marker": {
             "colorbar": {
              "outlinewidth": 0,
              "ticks": ""
             }
            },
            "type": "scatter3d"
           }
          ],
          "scattercarpet": [
           {
            "marker": {
             "colorbar": {
              "outlinewidth": 0,
              "ticks": ""
             }
            },
            "type": "scattercarpet"
           }
          ],
          "scattergeo": [
           {
            "marker": {
             "colorbar": {
              "outlinewidth": 0,
              "ticks": ""
             }
            },
            "type": "scattergeo"
           }
          ],
          "scattergl": [
           {
            "marker": {
             "colorbar": {
              "outlinewidth": 0,
              "ticks": ""
             }
            },
            "type": "scattergl"
           }
          ],
          "scattermap": [
           {
            "marker": {
             "colorbar": {
              "outlinewidth": 0,
              "ticks": ""
             }
            },
            "type": "scattermap"
           }
          ],
          "scattermapbox": [
           {
            "marker": {
             "colorbar": {
              "outlinewidth": 0,
              "ticks": ""
             }
            },
            "type": "scattermapbox"
           }
          ],
          "scatterpolar": [
           {
            "marker": {
             "colorbar": {
              "outlinewidth": 0,
              "ticks": ""
             }
            },
            "type": "scatterpolar"
           }
          ],
          "scatterpolargl": [
           {
            "marker": {
             "colorbar": {
              "outlinewidth": 0,
              "ticks": ""
             }
            },
            "type": "scatterpolargl"
           }
          ],
          "scatterternary": [
           {
            "marker": {
             "colorbar": {
              "outlinewidth": 0,
              "ticks": ""
             }
            },
            "type": "scatterternary"
           }
          ],
          "surface": [
           {
            "colorbar": {
             "outlinewidth": 0,
             "ticks": ""
            },
            "colorscale": [
             [
              0,
              "#0d0887"
             ],
             [
              0.1111111111111111,
              "#46039f"
             ],
             [
              0.2222222222222222,
              "#7201a8"
             ],
             [
              0.3333333333333333,
              "#9c179e"
             ],
             [
              0.4444444444444444,
              "#bd3786"
             ],
             [
              0.5555555555555556,
              "#d8576b"
             ],
             [
              0.6666666666666666,
              "#ed7953"
             ],
             [
              0.7777777777777778,
              "#fb9f3a"
             ],
             [
              0.8888888888888888,
              "#fdca26"
             ],
             [
              1,
              "#f0f921"
             ]
            ],
            "type": "surface"
           }
          ],
          "table": [
           {
            "cells": {
             "fill": {
              "color": "#EBF0F8"
             },
             "line": {
              "color": "white"
             }
            },
            "header": {
             "fill": {
              "color": "#C8D4E3"
             },
             "line": {
              "color": "white"
             }
            },
            "type": "table"
           }
          ]
         },
         "layout": {
          "annotationdefaults": {
           "arrowcolor": "#2a3f5f",
           "arrowhead": 0,
           "arrowwidth": 1
          },
          "autotypenumbers": "strict",
          "coloraxis": {
           "colorbar": {
            "outlinewidth": 0,
            "ticks": ""
           }
          },
          "colorscale": {
           "diverging": [
            [
             0,
             "#8e0152"
            ],
            [
             0.1,
             "#c51b7d"
            ],
            [
             0.2,
             "#de77ae"
            ],
            [
             0.3,
             "#f1b6da"
            ],
            [
             0.4,
             "#fde0ef"
            ],
            [
             0.5,
             "#f7f7f7"
            ],
            [
             0.6,
             "#e6f5d0"
            ],
            [
             0.7,
             "#b8e186"
            ],
            [
             0.8,
             "#7fbc41"
            ],
            [
             0.9,
             "#4d9221"
            ],
            [
             1,
             "#276419"
            ]
           ],
           "sequential": [
            [
             0,
             "#0d0887"
            ],
            [
             0.1111111111111111,
             "#46039f"
            ],
            [
             0.2222222222222222,
             "#7201a8"
            ],
            [
             0.3333333333333333,
             "#9c179e"
            ],
            [
             0.4444444444444444,
             "#bd3786"
            ],
            [
             0.5555555555555556,
             "#d8576b"
            ],
            [
             0.6666666666666666,
             "#ed7953"
            ],
            [
             0.7777777777777778,
             "#fb9f3a"
            ],
            [
             0.8888888888888888,
             "#fdca26"
            ],
            [
             1,
             "#f0f921"
            ]
           ],
           "sequentialminus": [
            [
             0,
             "#0d0887"
            ],
            [
             0.1111111111111111,
             "#46039f"
            ],
            [
             0.2222222222222222,
             "#7201a8"
            ],
            [
             0.3333333333333333,
             "#9c179e"
            ],
            [
             0.4444444444444444,
             "#bd3786"
            ],
            [
             0.5555555555555556,
             "#d8576b"
            ],
            [
             0.6666666666666666,
             "#ed7953"
            ],
            [
             0.7777777777777778,
             "#fb9f3a"
            ],
            [
             0.8888888888888888,
             "#fdca26"
            ],
            [
             1,
             "#f0f921"
            ]
           ]
          },
          "colorway": [
           "#636efa",
           "#EF553B",
           "#00cc96",
           "#ab63fa",
           "#FFA15A",
           "#19d3f3",
           "#FF6692",
           "#B6E880",
           "#FF97FF",
           "#FECB52"
          ],
          "font": {
           "color": "#2a3f5f"
          },
          "geo": {
           "bgcolor": "white",
           "lakecolor": "white",
           "landcolor": "#E5ECF6",
           "showlakes": true,
           "showland": true,
           "subunitcolor": "white"
          },
          "hoverlabel": {
           "align": "left"
          },
          "hovermode": "closest",
          "mapbox": {
           "style": "light"
          },
          "paper_bgcolor": "white",
          "plot_bgcolor": "#E5ECF6",
          "polar": {
           "angularaxis": {
            "gridcolor": "white",
            "linecolor": "white",
            "ticks": ""
           },
           "bgcolor": "#E5ECF6",
           "radialaxis": {
            "gridcolor": "white",
            "linecolor": "white",
            "ticks": ""
           }
          },
          "scene": {
           "xaxis": {
            "backgroundcolor": "#E5ECF6",
            "gridcolor": "white",
            "gridwidth": 2,
            "linecolor": "white",
            "showbackground": true,
            "ticks": "",
            "zerolinecolor": "white"
           },
           "yaxis": {
            "backgroundcolor": "#E5ECF6",
            "gridcolor": "white",
            "gridwidth": 2,
            "linecolor": "white",
            "showbackground": true,
            "ticks": "",
            "zerolinecolor": "white"
           },
           "zaxis": {
            "backgroundcolor": "#E5ECF6",
            "gridcolor": "white",
            "gridwidth": 2,
            "linecolor": "white",
            "showbackground": true,
            "ticks": "",
            "zerolinecolor": "white"
           }
          },
          "shapedefaults": {
           "line": {
            "color": "#2a3f5f"
           }
          },
          "ternary": {
           "aaxis": {
            "gridcolor": "white",
            "linecolor": "white",
            "ticks": ""
           },
           "baxis": {
            "gridcolor": "white",
            "linecolor": "white",
            "ticks": ""
           },
           "bgcolor": "#E5ECF6",
           "caxis": {
            "gridcolor": "white",
            "linecolor": "white",
            "ticks": ""
           }
          },
          "title": {
           "x": 0.05
          },
          "xaxis": {
           "automargin": true,
           "gridcolor": "white",
           "linecolor": "white",
           "ticks": "",
           "title": {
            "standoff": 15
           },
           "zerolinecolor": "white",
           "zerolinewidth": 2
          },
          "yaxis": {
           "automargin": true,
           "gridcolor": "white",
           "linecolor": "white",
           "ticks": "",
           "title": {
            "standoff": 15
           },
           "zerolinecolor": "white",
           "zerolinewidth": 2
          }
         }
        },
        "title": {
         "text": "Australia: Australia government spending to gdp"
        },
        "xaxis": {
         "anchor": "y",
         "domain": [
          0,
          1
         ],
         "title": {
          "text": ""
         }
        },
        "yaxis": {
         "anchor": "x",
         "domain": [
          0,
          1
         ],
         "title": {
          "text": "Percent of gdp"
         }
        }
       }
      }
     },
     "metadata": {},
     "output_type": "display_data"
    }
   ],
   "source": [
    "scr.plot_series()  ## Plot the series."
   ]
  },
  {
   "cell_type": "code",
   "execution_count": 17,
   "metadata": {},
   "outputs": [
    {
     "data": {
      "text/plain": [
       "1971-01-01    18.300000\n",
       "1972-01-01    18.400000\n",
       "1973-01-01    18.550000\n",
       "1974-01-01    18.350000\n",
       "1975-01-01    20.590000\n",
       "1976-01-01    21.300000\n",
       "1977-01-01    21.200000\n",
       "1978-01-01    21.550000\n",
       "1979-01-01    20.920000\n",
       "1980-01-01    20.900000\n",
       "1981-01-01    21.000000\n",
       "1982-01-01    20.850000\n",
       "1983-01-01    22.380000\n",
       "1984-01-01    22.500000\n",
       "1985-01-01    22.900000\n",
       "1986-01-01    22.740000\n",
       "1987-01-01    22.400000\n",
       "1988-01-01    21.800000\n",
       "1989-01-01    20.600000\n",
       "1990-01-01    20.600000\n",
       "1991-01-01    21.520000\n",
       "1992-01-01    21.950000\n",
       "1993-01-01    22.200000\n",
       "1994-01-01    22.200000\n",
       "1995-01-01    21.950000\n",
       "1996-01-01    21.950000\n",
       "1997-01-01    21.530233\n",
       "1998-01-01    21.050000\n",
       "1999-01-01    21.000000\n",
       "2000-01-01    20.700000\n",
       "2001-01-01    21.700000\n",
       "2002-01-01    21.600000\n",
       "2003-01-01    21.380000\n",
       "2004-01-01    21.300000\n",
       "2005-01-01    21.150000\n",
       "2006-01-01    21.150000\n",
       "2007-01-01    20.710000\n",
       "2008-01-01    20.700000\n",
       "2009-01-01    21.969631\n",
       "2010-01-01    22.050000\n",
       "2011-01-01    21.350000\n",
       "2012-01-01    21.500000\n",
       "2013-01-01    21.100000\n",
       "2014-01-01    21.850000\n",
       "2015-01-01    21.850000\n",
       "2016-01-01    21.900000\n",
       "2017-01-01    21.560123\n",
       "2018-01-01    21.450000\n",
       "2019-01-01    21.450000\n",
       "2020-01-01    23.050000\n",
       "2021-01-01    24.850000\n",
       "2022-01-01    21.840000\n",
       "2023-01-01    21.550000\n",
       "2024-01-01    22.400000\n",
       "Freq: YS-JAN, Name: government spending to gdp, dtype: float64"
      ]
     },
     "execution_count": 17,
     "metadata": {},
     "output_type": "execute_result"
    }
   ],
   "source": [
    "scr.scale_series() ## Scale the series to the y-axis values to convert the pixel co-ordinates to actual data values."
   ]
  },
  {
   "cell_type": "markdown",
   "metadata": {},
   "source": [
    "The ```scale_series()``` method converts the pixel co-ordinate values to data values."
   ]
  },
  {
   "cell_type": "code",
   "execution_count": 18,
   "metadata": {},
   "outputs": [
    {
     "data": {
      "text/plain": [
       "1971-01-01    18.300000\n",
       "1972-01-01    18.400000\n",
       "1973-01-01    18.550000\n",
       "1974-01-01    18.350000\n",
       "1975-01-01    20.590000\n",
       "1976-01-01    21.300000\n",
       "1977-01-01    21.200000\n",
       "1978-01-01    21.550000\n",
       "1979-01-01    20.920000\n",
       "1980-01-01    20.900000\n",
       "1981-01-01    21.000000\n",
       "1982-01-01    20.850000\n",
       "1983-01-01    22.380000\n",
       "1984-01-01    22.500000\n",
       "1985-01-01    22.900000\n",
       "1986-01-01    22.740000\n",
       "1987-01-01    22.400000\n",
       "1988-01-01    21.800000\n",
       "1989-01-01    20.600000\n",
       "1990-01-01    20.600000\n",
       "1991-01-01    21.520000\n",
       "1992-01-01    21.950000\n",
       "1993-01-01    22.200000\n",
       "1994-01-01    22.200000\n",
       "1995-01-01    21.950000\n",
       "1996-01-01    21.950000\n",
       "1997-01-01    21.530233\n",
       "1998-01-01    21.050000\n",
       "1999-01-01    21.000000\n",
       "2000-01-01    20.700000\n",
       "2001-01-01    21.700000\n",
       "2002-01-01    21.600000\n",
       "2003-01-01    21.380000\n",
       "2004-01-01    21.300000\n",
       "2005-01-01    21.150000\n",
       "2006-01-01    21.150000\n",
       "2007-01-01    20.710000\n",
       "2008-01-01    20.700000\n",
       "2009-01-01    21.969631\n",
       "2010-01-01    22.050000\n",
       "2011-01-01    21.350000\n",
       "2012-01-01    21.500000\n",
       "2013-01-01    21.100000\n",
       "2014-01-01    21.850000\n",
       "2015-01-01    21.850000\n",
       "2016-01-01    21.900000\n",
       "2017-01-01    21.560123\n",
       "2018-01-01    21.450000\n",
       "2019-01-01    21.450000\n",
       "2020-01-01    23.050000\n",
       "2021-01-01    24.850000\n",
       "2022-01-01    21.840000\n",
       "2023-01-01    21.550000\n",
       "2024-01-01    22.400000\n",
       "Freq: YS-JAN, Name: government spending to gdp, dtype: float64"
      ]
     },
     "execution_count": 18,
     "metadata": {},
     "output_type": "execute_result"
    }
   ],
   "source": [
    "scr.series # View the series data obtained."
   ]
  },
  {
   "cell_type": "code",
   "execution_count": 19,
   "metadata": {},
   "outputs": [
    {
     "data": {
      "application/vnd.plotly.v1+json": {
       "config": {
        "plotlyServerURL": "https://plot.ly"
       },
       "data": [
        {
         "hovertemplate": "variable=government spending to gdp<br>index=%{x}<br>value=%{y}<extra></extra>",
         "legendgroup": "government spending to gdp",
         "line": {
          "color": "#636efa",
          "dash": "solid"
         },
         "marker": {
          "symbol": "circle"
         },
         "mode": "lines",
         "name": "government spending to gdp",
         "orientation": "v",
         "showlegend": true,
         "type": "scatter",
         "x": [
          "1971-01-01T00:00:00.000000000",
          "1972-01-01T00:00:00.000000000",
          "1973-01-01T00:00:00.000000000",
          "1974-01-01T00:00:00.000000000",
          "1975-01-01T00:00:00.000000000",
          "1976-01-01T00:00:00.000000000",
          "1977-01-01T00:00:00.000000000",
          "1978-01-01T00:00:00.000000000",
          "1979-01-01T00:00:00.000000000",
          "1980-01-01T00:00:00.000000000",
          "1981-01-01T00:00:00.000000000",
          "1982-01-01T00:00:00.000000000",
          "1983-01-01T00:00:00.000000000",
          "1984-01-01T00:00:00.000000000",
          "1985-01-01T00:00:00.000000000",
          "1986-01-01T00:00:00.000000000",
          "1987-01-01T00:00:00.000000000",
          "1988-01-01T00:00:00.000000000",
          "1989-01-01T00:00:00.000000000",
          "1990-01-01T00:00:00.000000000",
          "1991-01-01T00:00:00.000000000",
          "1992-01-01T00:00:00.000000000",
          "1993-01-01T00:00:00.000000000",
          "1994-01-01T00:00:00.000000000",
          "1995-01-01T00:00:00.000000000",
          "1996-01-01T00:00:00.000000000",
          "1997-01-01T00:00:00.000000000",
          "1998-01-01T00:00:00.000000000",
          "1999-01-01T00:00:00.000000000",
          "2000-01-01T00:00:00.000000000",
          "2001-01-01T00:00:00.000000000",
          "2002-01-01T00:00:00.000000000",
          "2003-01-01T00:00:00.000000000",
          "2004-01-01T00:00:00.000000000",
          "2005-01-01T00:00:00.000000000",
          "2006-01-01T00:00:00.000000000",
          "2007-01-01T00:00:00.000000000",
          "2008-01-01T00:00:00.000000000",
          "2009-01-01T00:00:00.000000000",
          "2010-01-01T00:00:00.000000000",
          "2011-01-01T00:00:00.000000000",
          "2012-01-01T00:00:00.000000000",
          "2013-01-01T00:00:00.000000000",
          "2014-01-01T00:00:00.000000000",
          "2015-01-01T00:00:00.000000000",
          "2016-01-01T00:00:00.000000000",
          "2017-01-01T00:00:00.000000000",
          "2018-01-01T00:00:00.000000000",
          "2019-01-01T00:00:00.000000000",
          "2020-01-01T00:00:00.000000000",
          "2021-01-01T00:00:00.000000000",
          "2022-01-01T00:00:00.000000000",
          "2023-01-01T00:00:00.000000000",
          "2024-01-01T00:00:00.000000000"
         ],
         "xaxis": "x",
         "y": {
          "bdata": "zczMzMxMMkBnZmZmZmYyQM3MzMzMjDJAmpmZmZlZMkDQo3A9Cpc0QM3MzMzMTDVAMzMzMzMzNUDNzMzMzIw1QPFRuB6F6zRAZ2ZmZmbmNEAAAAAAAAA1QJqZmZmZ2TRA4XoUrkdhNkAAAAAAAIA2QGZmZmZm5jZAPgrXo3C9NkBmZmZmZmY2QM3MzMzMzDVAmpmZmZmZNECamZmZmZk0QIXrUbgehTVAMzMzMzPzNUAzMzMzMzM2QDMzMzMzMzZAMzMzMzPzNUAzMzMzM/M1QMV7KFK9hzVAzczMzMwMNUAAAAAAAAA1QDMzMzMzszRAMzMzMzOzNUCamZmZmZk1QOJ6FK5HYTVAzczMzMxMNUBnZmZmZiY1QGdmZmZmJjVA9ihcj8K1NEAzMzMzM7M0QMSwvLY5+DVAzczMzMwMNkCamZmZmVk1QAAAAAAAgDVAmpmZmZkZNUCamZmZmdk1QJqZmZmZ2TVAZ2ZmZmbmNUA25406ZI81QDMzMzMzczVAMzMzMzNzNUDNzMzMzAw3QJqZmZmZ2ThA16NwPQrXNUDNzMzMzIw1QGZmZmZmZjZA",
          "dtype": "f8"
         },
         "yaxis": "y"
        }
       ],
       "layout": {
        "annotations": [
         {
          "align": "left",
          "bgcolor": "rgba(255, 255, 255, 0.8)",
          "bordercolor": "black",
          "borderwidth": 1,
          "font": {
           "size": 10
          },
          "showarrow": false,
          "text": "Source: Trading Economics<br>Original Source: Australian Government<br>Frequency: YS-JAN<br>",
          "x": 0,
          "xanchor": "left",
          "xref": "paper",
          "y": -0.22,
          "yanchor": "bottom",
          "yref": "paper"
         }
        ],
        "legend": {
         "orientation": "h",
         "title": {
          "text": ""
         },
         "tracegroupgap": 0,
         "x": 0.5,
         "xanchor": "center",
         "y": -0.2,
         "yanchor": "bottom"
        },
        "margin": {
         "t": 60
        },
        "template": {
         "data": {
          "bar": [
           {
            "error_x": {
             "color": "#2a3f5f"
            },
            "error_y": {
             "color": "#2a3f5f"
            },
            "marker": {
             "line": {
              "color": "#E5ECF6",
              "width": 0.5
             },
             "pattern": {
              "fillmode": "overlay",
              "size": 10,
              "solidity": 0.2
             }
            },
            "type": "bar"
           }
          ],
          "barpolar": [
           {
            "marker": {
             "line": {
              "color": "#E5ECF6",
              "width": 0.5
             },
             "pattern": {
              "fillmode": "overlay",
              "size": 10,
              "solidity": 0.2
             }
            },
            "type": "barpolar"
           }
          ],
          "carpet": [
           {
            "aaxis": {
             "endlinecolor": "#2a3f5f",
             "gridcolor": "white",
             "linecolor": "white",
             "minorgridcolor": "white",
             "startlinecolor": "#2a3f5f"
            },
            "baxis": {
             "endlinecolor": "#2a3f5f",
             "gridcolor": "white",
             "linecolor": "white",
             "minorgridcolor": "white",
             "startlinecolor": "#2a3f5f"
            },
            "type": "carpet"
           }
          ],
          "choropleth": [
           {
            "colorbar": {
             "outlinewidth": 0,
             "ticks": ""
            },
            "type": "choropleth"
           }
          ],
          "contour": [
           {
            "colorbar": {
             "outlinewidth": 0,
             "ticks": ""
            },
            "colorscale": [
             [
              0,
              "#0d0887"
             ],
             [
              0.1111111111111111,
              "#46039f"
             ],
             [
              0.2222222222222222,
              "#7201a8"
             ],
             [
              0.3333333333333333,
              "#9c179e"
             ],
             [
              0.4444444444444444,
              "#bd3786"
             ],
             [
              0.5555555555555556,
              "#d8576b"
             ],
             [
              0.6666666666666666,
              "#ed7953"
             ],
             [
              0.7777777777777778,
              "#fb9f3a"
             ],
             [
              0.8888888888888888,
              "#fdca26"
             ],
             [
              1,
              "#f0f921"
             ]
            ],
            "type": "contour"
           }
          ],
          "contourcarpet": [
           {
            "colorbar": {
             "outlinewidth": 0,
             "ticks": ""
            },
            "type": "contourcarpet"
           }
          ],
          "heatmap": [
           {
            "colorbar": {
             "outlinewidth": 0,
             "ticks": ""
            },
            "colorscale": [
             [
              0,
              "#0d0887"
             ],
             [
              0.1111111111111111,
              "#46039f"
             ],
             [
              0.2222222222222222,
              "#7201a8"
             ],
             [
              0.3333333333333333,
              "#9c179e"
             ],
             [
              0.4444444444444444,
              "#bd3786"
             ],
             [
              0.5555555555555556,
              "#d8576b"
             ],
             [
              0.6666666666666666,
              "#ed7953"
             ],
             [
              0.7777777777777778,
              "#fb9f3a"
             ],
             [
              0.8888888888888888,
              "#fdca26"
             ],
             [
              1,
              "#f0f921"
             ]
            ],
            "type": "heatmap"
           }
          ],
          "histogram": [
           {
            "marker": {
             "pattern": {
              "fillmode": "overlay",
              "size": 10,
              "solidity": 0.2
             }
            },
            "type": "histogram"
           }
          ],
          "histogram2d": [
           {
            "colorbar": {
             "outlinewidth": 0,
             "ticks": ""
            },
            "colorscale": [
             [
              0,
              "#0d0887"
             ],
             [
              0.1111111111111111,
              "#46039f"
             ],
             [
              0.2222222222222222,
              "#7201a8"
             ],
             [
              0.3333333333333333,
              "#9c179e"
             ],
             [
              0.4444444444444444,
              "#bd3786"
             ],
             [
              0.5555555555555556,
              "#d8576b"
             ],
             [
              0.6666666666666666,
              "#ed7953"
             ],
             [
              0.7777777777777778,
              "#fb9f3a"
             ],
             [
              0.8888888888888888,
              "#fdca26"
             ],
             [
              1,
              "#f0f921"
             ]
            ],
            "type": "histogram2d"
           }
          ],
          "histogram2dcontour": [
           {
            "colorbar": {
             "outlinewidth": 0,
             "ticks": ""
            },
            "colorscale": [
             [
              0,
              "#0d0887"
             ],
             [
              0.1111111111111111,
              "#46039f"
             ],
             [
              0.2222222222222222,
              "#7201a8"
             ],
             [
              0.3333333333333333,
              "#9c179e"
             ],
             [
              0.4444444444444444,
              "#bd3786"
             ],
             [
              0.5555555555555556,
              "#d8576b"
             ],
             [
              0.6666666666666666,
              "#ed7953"
             ],
             [
              0.7777777777777778,
              "#fb9f3a"
             ],
             [
              0.8888888888888888,
              "#fdca26"
             ],
             [
              1,
              "#f0f921"
             ]
            ],
            "type": "histogram2dcontour"
           }
          ],
          "mesh3d": [
           {
            "colorbar": {
             "outlinewidth": 0,
             "ticks": ""
            },
            "type": "mesh3d"
           }
          ],
          "parcoords": [
           {
            "line": {
             "colorbar": {
              "outlinewidth": 0,
              "ticks": ""
             }
            },
            "type": "parcoords"
           }
          ],
          "pie": [
           {
            "automargin": true,
            "type": "pie"
           }
          ],
          "scatter": [
           {
            "fillpattern": {
             "fillmode": "overlay",
             "size": 10,
             "solidity": 0.2
            },
            "type": "scatter"
           }
          ],
          "scatter3d": [
           {
            "line": {
             "colorbar": {
              "outlinewidth": 0,
              "ticks": ""
             }
            },
            "marker": {
             "colorbar": {
              "outlinewidth": 0,
              "ticks": ""
             }
            },
            "type": "scatter3d"
           }
          ],
          "scattercarpet": [
           {
            "marker": {
             "colorbar": {
              "outlinewidth": 0,
              "ticks": ""
             }
            },
            "type": "scattercarpet"
           }
          ],
          "scattergeo": [
           {
            "marker": {
             "colorbar": {
              "outlinewidth": 0,
              "ticks": ""
             }
            },
            "type": "scattergeo"
           }
          ],
          "scattergl": [
           {
            "marker": {
             "colorbar": {
              "outlinewidth": 0,
              "ticks": ""
             }
            },
            "type": "scattergl"
           }
          ],
          "scattermap": [
           {
            "marker": {
             "colorbar": {
              "outlinewidth": 0,
              "ticks": ""
             }
            },
            "type": "scattermap"
           }
          ],
          "scattermapbox": [
           {
            "marker": {
             "colorbar": {
              "outlinewidth": 0,
              "ticks": ""
             }
            },
            "type": "scattermapbox"
           }
          ],
          "scatterpolar": [
           {
            "marker": {
             "colorbar": {
              "outlinewidth": 0,
              "ticks": ""
             }
            },
            "type": "scatterpolar"
           }
          ],
          "scatterpolargl": [
           {
            "marker": {
             "colorbar": {
              "outlinewidth": 0,
              "ticks": ""
             }
            },
            "type": "scatterpolargl"
           }
          ],
          "scatterternary": [
           {
            "marker": {
             "colorbar": {
              "outlinewidth": 0,
              "ticks": ""
             }
            },
            "type": "scatterternary"
           }
          ],
          "surface": [
           {
            "colorbar": {
             "outlinewidth": 0,
             "ticks": ""
            },
            "colorscale": [
             [
              0,
              "#0d0887"
             ],
             [
              0.1111111111111111,
              "#46039f"
             ],
             [
              0.2222222222222222,
              "#7201a8"
             ],
             [
              0.3333333333333333,
              "#9c179e"
             ],
             [
              0.4444444444444444,
              "#bd3786"
             ],
             [
              0.5555555555555556,
              "#d8576b"
             ],
             [
              0.6666666666666666,
              "#ed7953"
             ],
             [
              0.7777777777777778,
              "#fb9f3a"
             ],
             [
              0.8888888888888888,
              "#fdca26"
             ],
             [
              1,
              "#f0f921"
             ]
            ],
            "type": "surface"
           }
          ],
          "table": [
           {
            "cells": {
             "fill": {
              "color": "#EBF0F8"
             },
             "line": {
              "color": "white"
             }
            },
            "header": {
             "fill": {
              "color": "#C8D4E3"
             },
             "line": {
              "color": "white"
             }
            },
            "type": "table"
           }
          ]
         },
         "layout": {
          "annotationdefaults": {
           "arrowcolor": "#2a3f5f",
           "arrowhead": 0,
           "arrowwidth": 1
          },
          "autotypenumbers": "strict",
          "coloraxis": {
           "colorbar": {
            "outlinewidth": 0,
            "ticks": ""
           }
          },
          "colorscale": {
           "diverging": [
            [
             0,
             "#8e0152"
            ],
            [
             0.1,
             "#c51b7d"
            ],
            [
             0.2,
             "#de77ae"
            ],
            [
             0.3,
             "#f1b6da"
            ],
            [
             0.4,
             "#fde0ef"
            ],
            [
             0.5,
             "#f7f7f7"
            ],
            [
             0.6,
             "#e6f5d0"
            ],
            [
             0.7,
             "#b8e186"
            ],
            [
             0.8,
             "#7fbc41"
            ],
            [
             0.9,
             "#4d9221"
            ],
            [
             1,
             "#276419"
            ]
           ],
           "sequential": [
            [
             0,
             "#0d0887"
            ],
            [
             0.1111111111111111,
             "#46039f"
            ],
            [
             0.2222222222222222,
             "#7201a8"
            ],
            [
             0.3333333333333333,
             "#9c179e"
            ],
            [
             0.4444444444444444,
             "#bd3786"
            ],
            [
             0.5555555555555556,
             "#d8576b"
            ],
            [
             0.6666666666666666,
             "#ed7953"
            ],
            [
             0.7777777777777778,
             "#fb9f3a"
            ],
            [
             0.8888888888888888,
             "#fdca26"
            ],
            [
             1,
             "#f0f921"
            ]
           ],
           "sequentialminus": [
            [
             0,
             "#0d0887"
            ],
            [
             0.1111111111111111,
             "#46039f"
            ],
            [
             0.2222222222222222,
             "#7201a8"
            ],
            [
             0.3333333333333333,
             "#9c179e"
            ],
            [
             0.4444444444444444,
             "#bd3786"
            ],
            [
             0.5555555555555556,
             "#d8576b"
            ],
            [
             0.6666666666666666,
             "#ed7953"
            ],
            [
             0.7777777777777778,
             "#fb9f3a"
            ],
            [
             0.8888888888888888,
             "#fdca26"
            ],
            [
             1,
             "#f0f921"
            ]
           ]
          },
          "colorway": [
           "#636efa",
           "#EF553B",
           "#00cc96",
           "#ab63fa",
           "#FFA15A",
           "#19d3f3",
           "#FF6692",
           "#B6E880",
           "#FF97FF",
           "#FECB52"
          ],
          "font": {
           "color": "#2a3f5f"
          },
          "geo": {
           "bgcolor": "white",
           "lakecolor": "white",
           "landcolor": "#E5ECF6",
           "showlakes": true,
           "showland": true,
           "subunitcolor": "white"
          },
          "hoverlabel": {
           "align": "left"
          },
          "hovermode": "closest",
          "mapbox": {
           "style": "light"
          },
          "paper_bgcolor": "white",
          "plot_bgcolor": "#E5ECF6",
          "polar": {
           "angularaxis": {
            "gridcolor": "white",
            "linecolor": "white",
            "ticks": ""
           },
           "bgcolor": "#E5ECF6",
           "radialaxis": {
            "gridcolor": "white",
            "linecolor": "white",
            "ticks": ""
           }
          },
          "scene": {
           "xaxis": {
            "backgroundcolor": "#E5ECF6",
            "gridcolor": "white",
            "gridwidth": 2,
            "linecolor": "white",
            "showbackground": true,
            "ticks": "",
            "zerolinecolor": "white"
           },
           "yaxis": {
            "backgroundcolor": "#E5ECF6",
            "gridcolor": "white",
            "gridwidth": 2,
            "linecolor": "white",
            "showbackground": true,
            "ticks": "",
            "zerolinecolor": "white"
           },
           "zaxis": {
            "backgroundcolor": "#E5ECF6",
            "gridcolor": "white",
            "gridwidth": 2,
            "linecolor": "white",
            "showbackground": true,
            "ticks": "",
            "zerolinecolor": "white"
           }
          },
          "shapedefaults": {
           "line": {
            "color": "#2a3f5f"
           }
          },
          "ternary": {
           "aaxis": {
            "gridcolor": "white",
            "linecolor": "white",
            "ticks": ""
           },
           "baxis": {
            "gridcolor": "white",
            "linecolor": "white",
            "ticks": ""
           },
           "bgcolor": "#E5ECF6",
           "caxis": {
            "gridcolor": "white",
            "linecolor": "white",
            "ticks": ""
           }
          },
          "title": {
           "x": 0.05
          },
          "xaxis": {
           "automargin": true,
           "gridcolor": "white",
           "linecolor": "white",
           "ticks": "",
           "title": {
            "standoff": 15
           },
           "zerolinecolor": "white",
           "zerolinewidth": 2
          },
          "yaxis": {
           "automargin": true,
           "gridcolor": "white",
           "linecolor": "white",
           "ticks": "",
           "title": {
            "standoff": 15
           },
           "zerolinecolor": "white",
           "zerolinewidth": 2
          }
         }
        },
        "title": {
         "text": "Australia: Australia government spending to gdp"
        },
        "xaxis": {
         "anchor": "y",
         "domain": [
          0,
          1
         ],
         "title": {
          "text": ""
         }
        },
        "yaxis": {
         "anchor": "x",
         "domain": [
          0,
          1
         ],
         "title": {
          "text": "Percent of gdp"
         }
        }
       }
      }
     },
     "metadata": {},
     "output_type": "display_data"
    }
   ],
   "source": [
    "scr.plot_series(ann_box_pos=(0, -0.22))  ## Plot the series."
   ]
  },
  {
   "cell_type": "code",
   "execution_count": null,
   "metadata": {},
   "outputs": [],
   "source": [
    "scr.save_plot(format=\"html\")  ## Save the plot as an interactive html file."
   ]
  },
  {
   "cell_type": "markdown",
   "metadata": {},
   "source": [
    "### Alternative scraping method\n",
    "\n",
    "Added in v0.3.0. Get the whole series from the tooltip values using javascript. This may turn out to be the best way to do it yet I expect it will run into issues for data series with many points."
   ]
  },
  {
   "cell_type": "code",
   "execution_count": 17,
   "metadata": {},
   "outputs": [
    {
     "name": "stderr",
     "output_type": "stream",
     "text": [
      "INFO - Quitting 3 active webdriver instances...\n"
     ]
    },
    {
     "data": {
      "text/plain": [
       "[]"
      ]
     },
     "execution_count": 17,
     "metadata": {},
     "output_type": "execute_result"
    }
   ],
   "source": [
    "from tedata import base\n",
    "base.find_active_drivers(quit_all=True)  ## Quit all active drivers."
   ]
  },
  {
   "cell_type": "code",
   "execution_count": 40,
   "metadata": {},
   "outputs": [
    {
     "name": "stderr",
     "output_type": "stream",
     "text": [
      "INFO - New firefox webdriver created.\n"
     ]
    }
   ],
   "source": [
    "scrap = ted.TE_Scraper(use_existing_driver = False, headless = False)  ## Initialize a new TE_scraper object."
   ]
  },
  {
   "cell_type": "code",
   "execution_count": 41,
   "metadata": {},
   "outputs": [
    {
     "name": "stderr",
     "output_type": "stream",
     "text": [
      "INFO - WebPage at https://tradingeconomics.com/euro-area/consumer-confidence loaded successfully.\n",
      "INFO - Chart types dictionary created successfully: dict_keys(['Column', 'Spline', 'Areaspline', 'Stepline', 'Line', 'Area'])\n"
     ]
    },
    {
     "data": {
      "text/plain": [
       "True"
      ]
     },
     "execution_count": 41,
     "metadata": {},
     "output_type": "execute_result"
    }
   ],
   "source": [
    "scrap.load_page('https://tradingeconomics.com/euro-area/consumer-confidence')"
   ]
  },
  {
   "cell_type": "code",
   "execution_count": 42,
   "metadata": {},
   "outputs": [
    {
     "name": "stderr",
     "output_type": "stream",
     "text": [
      "INFO - \n",
      "Series metadata: \n",
      " {'units': 'points', 'original_source': 'European Commission', 'title': 'Euro Area Consumer Confidence', 'indicator': 'consumer confidence', 'country': 'euro area', 'source': 'Trading Economics', 'id': 'euro-area/consumer-confidence'}\n"
     ]
    },
    {
     "data": {
      "text/plain": [
       "{'units': 'points',\n",
       " 'original_source': 'European Commission',\n",
       " 'title': 'Euro Area Consumer Confidence',\n",
       " 'indicator': 'consumer confidence',\n",
       " 'country': 'euro area',\n",
       " 'source': 'Trading Economics',\n",
       " 'id': 'euro-area/consumer-confidence',\n",
       " 'description': 'In Euro Area, the Consumer Economic Sentiment Indicator measures the level of optimism that consumers have about the economy. The survey is made by phone and covers 23 000 households in the Euro Area. The number of households sample varies across the zone. The questions focus on current economic and financial situation, savings intention as well as on expected developments regarding: consumer price indexes, general economic situation and major purchases of durable goods. The Consumer ESI measures consumer confidence on a scale of -100 to 100, where -100 indicate extreme lack of confidence, 0 neutrality and 100 extreme confidence.'}"
      ]
     },
     "execution_count": 42,
     "metadata": {},
     "output_type": "execute_result"
    }
   ],
   "source": [
    "scrap.scrape_metadata()  ## Scrape the metadata for the data series from the page.\n",
    "scrap.metadata"
   ]
  },
  {
   "cell_type": "markdown",
   "metadata": {},
   "source": [
    "We are using the same ```latest_points_js``` method that is used to get some of the latest data points in order to determine the series frequency. However here we let it keep going and get all of the data points from the date and values that show up on the tooltips as the cursor is dragged across the chart."
   ]
  },
  {
   "cell_type": "code",
   "execution_count": 43,
   "metadata": {},
   "outputs": [
    {
     "name": "stderr",
     "output_type": "stream",
     "text": [
      "INFO - TooltipScraper object initialised successfully.\n"
     ]
    },
    {
     "name": "stdout",
     "output_type": "stream",
     "text": [
      "Setting max date span using calendar...\n"
     ]
    },
    {
     "name": "stderr",
     "output_type": "stream",
     "text": [
      "INFO - Button not found or not clickable: .splineChart .dkLabels-label-btn\n",
      "INFO - Chart type set to: Spline\n",
      "INFO - Chart type set to: Spline\n",
      "INFO - Successfully scraped full series from tooltips.\n"
     ]
    },
    {
     "data": {
      "text/plain": [
       "1985-02-01   -10.9\n",
       "1985-03-01   -11.9\n",
       "1985-04-01   -11.1\n",
       "1985-05-01   -11.5\n",
       "1985-06-01   -11.9\n",
       "              ... \n",
       "2024-08-01   -13.4\n",
       "2024-09-01   -12.9\n",
       "2024-10-01   -12.5\n",
       "2024-11-01   -13.7\n",
       "2024-12-01   -14.5\n",
       "Name: tooltip_data, Length: 479, dtype: float64"
      ]
     },
     "execution_count": 43,
     "metadata": {},
     "output_type": "execute_result"
    }
   ],
   "source": [
    "scrap.full_series_fromTooltips(set_max_datespan=True)  ## Get the full series from the tooltips on the chart.\n",
    "scrap.series"
   ]
  },
  {
   "cell_type": "code",
   "execution_count": 38,
   "metadata": {},
   "outputs": [],
   "source": [
    "scrap.set_max_date_span_viaCalendar()"
   ]
  },
  {
   "cell_type": "code",
   "execution_count": 30,
   "metadata": {},
   "outputs": [
    {
     "data": {
      "text/plain": [
       "True"
      ]
     },
     "execution_count": 30,
     "metadata": {},
     "output_type": "execute_result"
    }
   ],
   "source": [
    "scrap.custom_date_span(start_date=\"1995-01-01\", end_date=\"2020-01-01\")  ## Set a custom date span for the series."
   ]
  },
  {
   "cell_type": "code",
   "execution_count": 28,
   "metadata": {},
   "outputs": [
    {
     "data": {
      "text/plain": [
       "True"
      ]
     },
     "execution_count": 28,
     "metadata": {},
     "output_type": "execute_result"
    }
   ],
   "source": [
    "scrap.click_button(\"#dateInputsToggle\")"
   ]
  },
  {
   "cell_type": "code",
   "execution_count": 63,
   "metadata": {},
   "outputs": [
    {
     "data": {
      "text/plain": [
       "{'units': 'points',\n",
       " 'original_source': 'European Commission',\n",
       " 'title': 'Euro Area Consumer Confidence',\n",
       " 'indicator': 'consumer confidence',\n",
       " 'country': 'euro area',\n",
       " 'source': 'Trading Economics',\n",
       " 'id': 'euro-area/consumer-confidence',\n",
       " 'description': 'In Euro Area, the Consumer Economic Sentiment Indicator measures the level of optimism that consumers have about the economy. The survey is made by phone and covers 23 000 households in the Euro Area. The number of households sample varies across the zone. The questions focus on current economic and financial situation, savings intention as well as on expected developments regarding: consumer price indexes, general economic situation and major purchases of durable goods. The Consumer ESI measures consumer confidence on a scale of -100 to 100, where -100 indicate extreme lack of confidence, 0 neutrality and 100 extreme confidence.',\n",
       " 'start_date': '1985-02-01',\n",
       " 'end_date': '2024-12-01',\n",
       " 'min_value': -28.6,\n",
       " 'max_value': -1.8,\n",
       " 'length': 479,\n",
       " 'frequency': 'MS'}"
      ]
     },
     "execution_count": 63,
     "metadata": {},
     "output_type": "execute_result"
    }
   ],
   "source": [
    "scrap.metadata"
   ]
  },
  {
   "cell_type": "code",
   "execution_count": 64,
   "metadata": {},
   "outputs": [
    {
     "data": {
      "application/vnd.plotly.v1+json": {
       "config": {
        "plotlyServerURL": "https://plot.ly"
       },
       "data": [
        {
         "hovertemplate": "variable=tooltip_data<br>index=%{x}<br>value=%{y}<extra></extra>",
         "legendgroup": "tooltip_data",
         "line": {
          "color": "#636efa",
          "dash": "solid"
         },
         "marker": {
          "symbol": "circle"
         },
         "mode": "lines",
         "name": "tooltip_data",
         "orientation": "v",
         "showlegend": true,
         "type": "scatter",
         "x": [
          "1985-02-01T00:00:00.000000000",
          "1985-03-01T00:00:00.000000000",
          "1985-04-01T00:00:00.000000000",
          "1985-05-01T00:00:00.000000000",
          "1985-06-01T00:00:00.000000000",
          "1985-07-01T00:00:00.000000000",
          "1985-08-01T00:00:00.000000000",
          "1985-09-01T00:00:00.000000000",
          "1985-10-01T00:00:00.000000000",
          "1985-11-01T00:00:00.000000000",
          "1985-12-01T00:00:00.000000000",
          "1986-01-01T00:00:00.000000000",
          "1986-02-01T00:00:00.000000000",
          "1986-03-01T00:00:00.000000000",
          "1986-04-01T00:00:00.000000000",
          "1986-05-01T00:00:00.000000000",
          "1986-06-01T00:00:00.000000000",
          "1986-07-01T00:00:00.000000000",
          "1986-08-01T00:00:00.000000000",
          "1986-09-01T00:00:00.000000000",
          "1986-10-01T00:00:00.000000000",
          "1986-11-01T00:00:00.000000000",
          "1986-12-01T00:00:00.000000000",
          "1987-01-01T00:00:00.000000000",
          "1987-02-01T00:00:00.000000000",
          "1987-03-01T00:00:00.000000000",
          "1987-04-01T00:00:00.000000000",
          "1987-05-01T00:00:00.000000000",
          "1987-06-01T00:00:00.000000000",
          "1987-07-01T00:00:00.000000000",
          "1987-08-01T00:00:00.000000000",
          "1987-09-01T00:00:00.000000000",
          "1987-10-01T00:00:00.000000000",
          "1987-11-01T00:00:00.000000000",
          "1987-12-01T00:00:00.000000000",
          "1988-01-01T00:00:00.000000000",
          "1988-02-01T00:00:00.000000000",
          "1988-03-01T00:00:00.000000000",
          "1988-04-01T00:00:00.000000000",
          "1988-05-01T00:00:00.000000000",
          "1988-06-01T00:00:00.000000000",
          "1988-07-01T00:00:00.000000000",
          "1988-08-01T00:00:00.000000000",
          "1988-09-01T00:00:00.000000000",
          "1988-10-01T00:00:00.000000000",
          "1988-11-01T00:00:00.000000000",
          "1988-12-01T00:00:00.000000000",
          "1989-01-01T00:00:00.000000000",
          "1989-02-01T00:00:00.000000000",
          "1989-03-01T00:00:00.000000000",
          "1989-04-01T00:00:00.000000000",
          "1989-05-01T00:00:00.000000000",
          "1989-06-01T00:00:00.000000000",
          "1989-07-01T00:00:00.000000000",
          "1989-08-01T00:00:00.000000000",
          "1989-09-01T00:00:00.000000000",
          "1989-10-01T00:00:00.000000000",
          "1989-11-01T00:00:00.000000000",
          "1989-12-01T00:00:00.000000000",
          "1990-01-01T00:00:00.000000000",
          "1990-02-01T00:00:00.000000000",
          "1990-03-01T00:00:00.000000000",
          "1990-04-01T00:00:00.000000000",
          "1990-05-01T00:00:00.000000000",
          "1990-06-01T00:00:00.000000000",
          "1990-07-01T00:00:00.000000000",
          "1990-08-01T00:00:00.000000000",
          "1990-09-01T00:00:00.000000000",
          "1990-10-01T00:00:00.000000000",
          "1990-11-01T00:00:00.000000000",
          "1990-12-01T00:00:00.000000000",
          "1991-01-01T00:00:00.000000000",
          "1991-02-01T00:00:00.000000000",
          "1991-03-01T00:00:00.000000000",
          "1991-04-01T00:00:00.000000000",
          "1991-05-01T00:00:00.000000000",
          "1991-06-01T00:00:00.000000000",
          "1991-07-01T00:00:00.000000000",
          "1991-08-01T00:00:00.000000000",
          "1991-09-01T00:00:00.000000000",
          "1991-10-01T00:00:00.000000000",
          "1991-11-01T00:00:00.000000000",
          "1991-12-01T00:00:00.000000000",
          "1992-01-01T00:00:00.000000000",
          "1992-02-01T00:00:00.000000000",
          "1992-03-01T00:00:00.000000000",
          "1992-04-01T00:00:00.000000000",
          "1992-05-01T00:00:00.000000000",
          "1992-06-01T00:00:00.000000000",
          "1992-07-01T00:00:00.000000000",
          "1992-08-01T00:00:00.000000000",
          "1992-09-01T00:00:00.000000000",
          "1992-10-01T00:00:00.000000000",
          "1992-11-01T00:00:00.000000000",
          "1992-12-01T00:00:00.000000000",
          "1993-01-01T00:00:00.000000000",
          "1993-02-01T00:00:00.000000000",
          "1993-03-01T00:00:00.000000000",
          "1993-04-01T00:00:00.000000000",
          "1993-05-01T00:00:00.000000000",
          "1993-06-01T00:00:00.000000000",
          "1993-07-01T00:00:00.000000000",
          "1993-08-01T00:00:00.000000000",
          "1993-09-01T00:00:00.000000000",
          "1993-10-01T00:00:00.000000000",
          "1993-11-01T00:00:00.000000000",
          "1993-12-01T00:00:00.000000000",
          "1994-01-01T00:00:00.000000000",
          "1994-02-01T00:00:00.000000000",
          "1994-03-01T00:00:00.000000000",
          "1994-04-01T00:00:00.000000000",
          "1994-05-01T00:00:00.000000000",
          "1994-06-01T00:00:00.000000000",
          "1994-07-01T00:00:00.000000000",
          "1994-08-01T00:00:00.000000000",
          "1994-09-01T00:00:00.000000000",
          "1994-10-01T00:00:00.000000000",
          "1994-11-01T00:00:00.000000000",
          "1994-12-01T00:00:00.000000000",
          "1995-01-01T00:00:00.000000000",
          "1995-02-01T00:00:00.000000000",
          "1995-03-01T00:00:00.000000000",
          "1995-04-01T00:00:00.000000000",
          "1995-05-01T00:00:00.000000000",
          "1995-06-01T00:00:00.000000000",
          "1995-07-01T00:00:00.000000000",
          "1995-08-01T00:00:00.000000000",
          "1995-09-01T00:00:00.000000000",
          "1995-10-01T00:00:00.000000000",
          "1995-11-01T00:00:00.000000000",
          "1995-12-01T00:00:00.000000000",
          "1996-01-01T00:00:00.000000000",
          "1996-02-01T00:00:00.000000000",
          "1996-03-01T00:00:00.000000000",
          "1996-04-01T00:00:00.000000000",
          "1996-05-01T00:00:00.000000000",
          "1996-06-01T00:00:00.000000000",
          "1996-07-01T00:00:00.000000000",
          "1996-08-01T00:00:00.000000000",
          "1996-09-01T00:00:00.000000000",
          "1996-10-01T00:00:00.000000000",
          "1996-11-01T00:00:00.000000000",
          "1996-12-01T00:00:00.000000000",
          "1997-01-01T00:00:00.000000000",
          "1997-02-01T00:00:00.000000000",
          "1997-03-01T00:00:00.000000000",
          "1997-04-01T00:00:00.000000000",
          "1997-05-01T00:00:00.000000000",
          "1997-06-01T00:00:00.000000000",
          "1997-07-01T00:00:00.000000000",
          "1997-08-01T00:00:00.000000000",
          "1997-09-01T00:00:00.000000000",
          "1997-10-01T00:00:00.000000000",
          "1997-11-01T00:00:00.000000000",
          "1997-12-01T00:00:00.000000000",
          "1998-01-01T00:00:00.000000000",
          "1998-02-01T00:00:00.000000000",
          "1998-03-01T00:00:00.000000000",
          "1998-04-01T00:00:00.000000000",
          "1998-05-01T00:00:00.000000000",
          "1998-06-01T00:00:00.000000000",
          "1998-07-01T00:00:00.000000000",
          "1998-08-01T00:00:00.000000000",
          "1998-09-01T00:00:00.000000000",
          "1998-10-01T00:00:00.000000000",
          "1998-11-01T00:00:00.000000000",
          "1998-12-01T00:00:00.000000000",
          "1999-01-01T00:00:00.000000000",
          "1999-02-01T00:00:00.000000000",
          "1999-03-01T00:00:00.000000000",
          "1999-04-01T00:00:00.000000000",
          "1999-05-01T00:00:00.000000000",
          "1999-06-01T00:00:00.000000000",
          "1999-07-01T00:00:00.000000000",
          "1999-08-01T00:00:00.000000000",
          "1999-09-01T00:00:00.000000000",
          "1999-10-01T00:00:00.000000000",
          "1999-11-01T00:00:00.000000000",
          "1999-12-01T00:00:00.000000000",
          "2000-01-01T00:00:00.000000000",
          "2000-02-01T00:00:00.000000000",
          "2000-03-01T00:00:00.000000000",
          "2000-04-01T00:00:00.000000000",
          "2000-05-01T00:00:00.000000000",
          "2000-06-01T00:00:00.000000000",
          "2000-07-01T00:00:00.000000000",
          "2000-08-01T00:00:00.000000000",
          "2000-09-01T00:00:00.000000000",
          "2000-10-01T00:00:00.000000000",
          "2000-11-01T00:00:00.000000000",
          "2000-12-01T00:00:00.000000000",
          "2001-01-01T00:00:00.000000000",
          "2001-02-01T00:00:00.000000000",
          "2001-03-01T00:00:00.000000000",
          "2001-04-01T00:00:00.000000000",
          "2001-05-01T00:00:00.000000000",
          "2001-06-01T00:00:00.000000000",
          "2001-07-01T00:00:00.000000000",
          "2001-08-01T00:00:00.000000000",
          "2001-09-01T00:00:00.000000000",
          "2001-10-01T00:00:00.000000000",
          "2001-11-01T00:00:00.000000000",
          "2001-12-01T00:00:00.000000000",
          "2002-01-01T00:00:00.000000000",
          "2002-02-01T00:00:00.000000000",
          "2002-03-01T00:00:00.000000000",
          "2002-04-01T00:00:00.000000000",
          "2002-05-01T00:00:00.000000000",
          "2002-06-01T00:00:00.000000000",
          "2002-07-01T00:00:00.000000000",
          "2002-08-01T00:00:00.000000000",
          "2002-09-01T00:00:00.000000000",
          "2002-10-01T00:00:00.000000000",
          "2002-11-01T00:00:00.000000000",
          "2002-12-01T00:00:00.000000000",
          "2003-01-01T00:00:00.000000000",
          "2003-02-01T00:00:00.000000000",
          "2003-03-01T00:00:00.000000000",
          "2003-04-01T00:00:00.000000000",
          "2003-05-01T00:00:00.000000000",
          "2003-06-01T00:00:00.000000000",
          "2003-07-01T00:00:00.000000000",
          "2003-08-01T00:00:00.000000000",
          "2003-09-01T00:00:00.000000000",
          "2003-10-01T00:00:00.000000000",
          "2003-11-01T00:00:00.000000000",
          "2003-12-01T00:00:00.000000000",
          "2004-01-01T00:00:00.000000000",
          "2004-02-01T00:00:00.000000000",
          "2004-03-01T00:00:00.000000000",
          "2004-04-01T00:00:00.000000000",
          "2004-05-01T00:00:00.000000000",
          "2004-06-01T00:00:00.000000000",
          "2004-07-01T00:00:00.000000000",
          "2004-08-01T00:00:00.000000000",
          "2004-09-01T00:00:00.000000000",
          "2004-10-01T00:00:00.000000000",
          "2004-11-01T00:00:00.000000000",
          "2004-12-01T00:00:00.000000000",
          "2005-01-01T00:00:00.000000000",
          "2005-02-01T00:00:00.000000000",
          "2005-03-01T00:00:00.000000000",
          "2005-04-01T00:00:00.000000000",
          "2005-05-01T00:00:00.000000000",
          "2005-06-01T00:00:00.000000000",
          "2005-07-01T00:00:00.000000000",
          "2005-08-01T00:00:00.000000000",
          "2005-09-01T00:00:00.000000000",
          "2005-10-01T00:00:00.000000000",
          "2005-11-01T00:00:00.000000000",
          "2005-12-01T00:00:00.000000000",
          "2006-01-01T00:00:00.000000000",
          "2006-02-01T00:00:00.000000000",
          "2006-03-01T00:00:00.000000000",
          "2006-04-01T00:00:00.000000000",
          "2006-05-01T00:00:00.000000000",
          "2006-06-01T00:00:00.000000000",
          "2006-07-01T00:00:00.000000000",
          "2006-08-01T00:00:00.000000000",
          "2006-09-01T00:00:00.000000000",
          "2006-10-01T00:00:00.000000000",
          "2006-11-01T00:00:00.000000000",
          "2006-12-01T00:00:00.000000000",
          "2007-01-01T00:00:00.000000000",
          "2007-02-01T00:00:00.000000000",
          "2007-03-01T00:00:00.000000000",
          "2007-04-01T00:00:00.000000000",
          "2007-05-01T00:00:00.000000000",
          "2007-06-01T00:00:00.000000000",
          "2007-07-01T00:00:00.000000000",
          "2007-08-01T00:00:00.000000000",
          "2007-09-01T00:00:00.000000000",
          "2007-10-01T00:00:00.000000000",
          "2007-11-01T00:00:00.000000000",
          "2007-12-01T00:00:00.000000000",
          "2008-01-01T00:00:00.000000000",
          "2008-02-01T00:00:00.000000000",
          "2008-03-01T00:00:00.000000000",
          "2008-04-01T00:00:00.000000000",
          "2008-05-01T00:00:00.000000000",
          "2008-06-01T00:00:00.000000000",
          "2008-07-01T00:00:00.000000000",
          "2008-08-01T00:00:00.000000000",
          "2008-09-01T00:00:00.000000000",
          "2008-10-01T00:00:00.000000000",
          "2008-11-01T00:00:00.000000000",
          "2008-12-01T00:00:00.000000000",
          "2009-01-01T00:00:00.000000000",
          "2009-02-01T00:00:00.000000000",
          "2009-03-01T00:00:00.000000000",
          "2009-04-01T00:00:00.000000000",
          "2009-05-01T00:00:00.000000000",
          "2009-06-01T00:00:00.000000000",
          "2009-07-01T00:00:00.000000000",
          "2009-08-01T00:00:00.000000000",
          "2009-09-01T00:00:00.000000000",
          "2009-10-01T00:00:00.000000000",
          "2009-11-01T00:00:00.000000000",
          "2009-12-01T00:00:00.000000000",
          "2010-01-01T00:00:00.000000000",
          "2010-02-01T00:00:00.000000000",
          "2010-03-01T00:00:00.000000000",
          "2010-04-01T00:00:00.000000000",
          "2010-05-01T00:00:00.000000000",
          "2010-06-01T00:00:00.000000000",
          "2010-07-01T00:00:00.000000000",
          "2010-08-01T00:00:00.000000000",
          "2010-09-01T00:00:00.000000000",
          "2010-10-01T00:00:00.000000000",
          "2010-11-01T00:00:00.000000000",
          "2010-12-01T00:00:00.000000000",
          "2011-01-01T00:00:00.000000000",
          "2011-02-01T00:00:00.000000000",
          "2011-03-01T00:00:00.000000000",
          "2011-04-01T00:00:00.000000000",
          "2011-05-01T00:00:00.000000000",
          "2011-06-01T00:00:00.000000000",
          "2011-07-01T00:00:00.000000000",
          "2011-08-01T00:00:00.000000000",
          "2011-09-01T00:00:00.000000000",
          "2011-10-01T00:00:00.000000000",
          "2011-11-01T00:00:00.000000000",
          "2011-12-01T00:00:00.000000000",
          "2012-01-01T00:00:00.000000000",
          "2012-02-01T00:00:00.000000000",
          "2012-03-01T00:00:00.000000000",
          "2012-04-01T00:00:00.000000000",
          "2012-05-01T00:00:00.000000000",
          "2012-06-01T00:00:00.000000000",
          "2012-07-01T00:00:00.000000000",
          "2012-08-01T00:00:00.000000000",
          "2012-09-01T00:00:00.000000000",
          "2012-10-01T00:00:00.000000000",
          "2012-11-01T00:00:00.000000000",
          "2012-12-01T00:00:00.000000000",
          "2013-01-01T00:00:00.000000000",
          "2013-02-01T00:00:00.000000000",
          "2013-03-01T00:00:00.000000000",
          "2013-04-01T00:00:00.000000000",
          "2013-05-01T00:00:00.000000000",
          "2013-06-01T00:00:00.000000000",
          "2013-07-01T00:00:00.000000000",
          "2013-08-01T00:00:00.000000000",
          "2013-09-01T00:00:00.000000000",
          "2013-10-01T00:00:00.000000000",
          "2013-11-01T00:00:00.000000000",
          "2013-12-01T00:00:00.000000000",
          "2014-01-01T00:00:00.000000000",
          "2014-02-01T00:00:00.000000000",
          "2014-03-01T00:00:00.000000000",
          "2014-04-01T00:00:00.000000000",
          "2014-05-01T00:00:00.000000000",
          "2014-06-01T00:00:00.000000000",
          "2014-07-01T00:00:00.000000000",
          "2014-08-01T00:00:00.000000000",
          "2014-09-01T00:00:00.000000000",
          "2014-10-01T00:00:00.000000000",
          "2014-11-01T00:00:00.000000000",
          "2014-12-01T00:00:00.000000000",
          "2015-01-01T00:00:00.000000000",
          "2015-02-01T00:00:00.000000000",
          "2015-03-01T00:00:00.000000000",
          "2015-04-01T00:00:00.000000000",
          "2015-05-01T00:00:00.000000000",
          "2015-06-01T00:00:00.000000000",
          "2015-07-01T00:00:00.000000000",
          "2015-08-01T00:00:00.000000000",
          "2015-09-01T00:00:00.000000000",
          "2015-10-01T00:00:00.000000000",
          "2015-11-01T00:00:00.000000000",
          "2015-12-01T00:00:00.000000000",
          "2016-01-01T00:00:00.000000000",
          "2016-02-01T00:00:00.000000000",
          "2016-03-01T00:00:00.000000000",
          "2016-04-01T00:00:00.000000000",
          "2016-05-01T00:00:00.000000000",
          "2016-06-01T00:00:00.000000000",
          "2016-07-01T00:00:00.000000000",
          "2016-08-01T00:00:00.000000000",
          "2016-09-01T00:00:00.000000000",
          "2016-10-01T00:00:00.000000000",
          "2016-11-01T00:00:00.000000000",
          "2016-12-01T00:00:00.000000000",
          "2017-01-01T00:00:00.000000000",
          "2017-02-01T00:00:00.000000000",
          "2017-03-01T00:00:00.000000000",
          "2017-04-01T00:00:00.000000000",
          "2017-05-01T00:00:00.000000000",
          "2017-06-01T00:00:00.000000000",
          "2017-07-01T00:00:00.000000000",
          "2017-08-01T00:00:00.000000000",
          "2017-09-01T00:00:00.000000000",
          "2017-10-01T00:00:00.000000000",
          "2017-11-01T00:00:00.000000000",
          "2017-12-01T00:00:00.000000000",
          "2018-01-01T00:00:00.000000000",
          "2018-02-01T00:00:00.000000000",
          "2018-03-01T00:00:00.000000000",
          "2018-04-01T00:00:00.000000000",
          "2018-05-01T00:00:00.000000000",
          "2018-06-01T00:00:00.000000000",
          "2018-07-01T00:00:00.000000000",
          "2018-08-01T00:00:00.000000000",
          "2018-09-01T00:00:00.000000000",
          "2018-10-01T00:00:00.000000000",
          "2018-11-01T00:00:00.000000000",
          "2018-12-01T00:00:00.000000000",
          "2019-01-01T00:00:00.000000000",
          "2019-02-01T00:00:00.000000000",
          "2019-03-01T00:00:00.000000000",
          "2019-04-01T00:00:00.000000000",
          "2019-05-01T00:00:00.000000000",
          "2019-06-01T00:00:00.000000000",
          "2019-07-01T00:00:00.000000000",
          "2019-08-01T00:00:00.000000000",
          "2019-09-01T00:00:00.000000000",
          "2019-10-01T00:00:00.000000000",
          "2019-11-01T00:00:00.000000000",
          "2019-12-01T00:00:00.000000000",
          "2020-01-01T00:00:00.000000000",
          "2020-02-01T00:00:00.000000000",
          "2020-03-01T00:00:00.000000000",
          "2020-04-01T00:00:00.000000000",
          "2020-05-01T00:00:00.000000000",
          "2020-06-01T00:00:00.000000000",
          "2020-07-01T00:00:00.000000000",
          "2020-08-01T00:00:00.000000000",
          "2020-09-01T00:00:00.000000000",
          "2020-10-01T00:00:00.000000000",
          "2020-11-01T00:00:00.000000000",
          "2020-12-01T00:00:00.000000000",
          "2021-01-01T00:00:00.000000000",
          "2021-02-01T00:00:00.000000000",
          "2021-03-01T00:00:00.000000000",
          "2021-04-01T00:00:00.000000000",
          "2021-05-01T00:00:00.000000000",
          "2021-06-01T00:00:00.000000000",
          "2021-07-01T00:00:00.000000000",
          "2021-08-01T00:00:00.000000000",
          "2021-09-01T00:00:00.000000000",
          "2021-10-01T00:00:00.000000000",
          "2021-11-01T00:00:00.000000000",
          "2021-12-01T00:00:00.000000000",
          "2022-01-01T00:00:00.000000000",
          "2022-02-01T00:00:00.000000000",
          "2022-03-01T00:00:00.000000000",
          "2022-04-01T00:00:00.000000000",
          "2022-05-01T00:00:00.000000000",
          "2022-06-01T00:00:00.000000000",
          "2022-07-01T00:00:00.000000000",
          "2022-08-01T00:00:00.000000000",
          "2022-09-01T00:00:00.000000000",
          "2022-10-01T00:00:00.000000000",
          "2022-11-01T00:00:00.000000000",
          "2022-12-01T00:00:00.000000000",
          "2023-01-01T00:00:00.000000000",
          "2023-02-01T00:00:00.000000000",
          "2023-03-01T00:00:00.000000000",
          "2023-04-01T00:00:00.000000000",
          "2023-05-01T00:00:00.000000000",
          "2023-06-01T00:00:00.000000000",
          "2023-07-01T00:00:00.000000000",
          "2023-08-01T00:00:00.000000000",
          "2023-09-01T00:00:00.000000000",
          "2023-10-01T00:00:00.000000000",
          "2023-11-01T00:00:00.000000000",
          "2023-12-01T00:00:00.000000000",
          "2024-01-01T00:00:00.000000000",
          "2024-02-01T00:00:00.000000000",
          "2024-03-01T00:00:00.000000000",
          "2024-04-01T00:00:00.000000000",
          "2024-05-01T00:00:00.000000000",
          "2024-06-01T00:00:00.000000000",
          "2024-07-01T00:00:00.000000000",
          "2024-08-01T00:00:00.000000000",
          "2024-09-01T00:00:00.000000000",
          "2024-10-01T00:00:00.000000000",
          "2024-11-01T00:00:00.000000000",
          "2024-12-01T00:00:00.000000000"
         ],
         "xaxis": "x",
         "y": {
          "bdata": "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",
          "dtype": "f8"
         },
         "yaxis": "y"
        }
       ],
       "layout": {
        "annotations": [
         {
          "align": "left",
          "bgcolor": "rgba(255, 255, 255, 0.8)",
          "bordercolor": "black",
          "borderwidth": 1,
          "font": {
           "size": 10
          },
          "showarrow": false,
          "text": "Source: Trading Economics<br>Original Source: European Commission<br>Frequency: MS<br>",
          "x": 0,
          "xanchor": "left",
          "xref": "paper",
          "y": -0.22,
          "yanchor": "bottom",
          "yref": "paper"
         }
        ],
        "legend": {
         "orientation": "h",
         "title": {
          "text": ""
         },
         "tracegroupgap": 0,
         "x": 0.5,
         "xanchor": "center",
         "y": -0.2,
         "yanchor": "bottom"
        },
        "margin": {
         "t": 60
        },
        "template": {
         "data": {
          "bar": [
           {
            "error_x": {
             "color": "#2a3f5f"
            },
            "error_y": {
             "color": "#2a3f5f"
            },
            "marker": {
             "line": {
              "color": "#E5ECF6",
              "width": 0.5
             },
             "pattern": {
              "fillmode": "overlay",
              "size": 10,
              "solidity": 0.2
             }
            },
            "type": "bar"
           }
          ],
          "barpolar": [
           {
            "marker": {
             "line": {
              "color": "#E5ECF6",
              "width": 0.5
             },
             "pattern": {
              "fillmode": "overlay",
              "size": 10,
              "solidity": 0.2
             }
            },
            "type": "barpolar"
           }
          ],
          "carpet": [
           {
            "aaxis": {
             "endlinecolor": "#2a3f5f",
             "gridcolor": "white",
             "linecolor": "white",
             "minorgridcolor": "white",
             "startlinecolor": "#2a3f5f"
            },
            "baxis": {
             "endlinecolor": "#2a3f5f",
             "gridcolor": "white",
             "linecolor": "white",
             "minorgridcolor": "white",
             "startlinecolor": "#2a3f5f"
            },
            "type": "carpet"
           }
          ],
          "choropleth": [
           {
            "colorbar": {
             "outlinewidth": 0,
             "ticks": ""
            },
            "type": "choropleth"
           }
          ],
          "contour": [
           {
            "colorbar": {
             "outlinewidth": 0,
             "ticks": ""
            },
            "colorscale": [
             [
              0,
              "#0d0887"
             ],
             [
              0.1111111111111111,
              "#46039f"
             ],
             [
              0.2222222222222222,
              "#7201a8"
             ],
             [
              0.3333333333333333,
              "#9c179e"
             ],
             [
              0.4444444444444444,
              "#bd3786"
             ],
             [
              0.5555555555555556,
              "#d8576b"
             ],
             [
              0.6666666666666666,
              "#ed7953"
             ],
             [
              0.7777777777777778,
              "#fb9f3a"
             ],
             [
              0.8888888888888888,
              "#fdca26"
             ],
             [
              1,
              "#f0f921"
             ]
            ],
            "type": "contour"
           }
          ],
          "contourcarpet": [
           {
            "colorbar": {
             "outlinewidth": 0,
             "ticks": ""
            },
            "type": "contourcarpet"
           }
          ],
          "heatmap": [
           {
            "colorbar": {
             "outlinewidth": 0,
             "ticks": ""
            },
            "colorscale": [
             [
              0,
              "#0d0887"
             ],
             [
              0.1111111111111111,
              "#46039f"
             ],
             [
              0.2222222222222222,
              "#7201a8"
             ],
             [
              0.3333333333333333,
              "#9c179e"
             ],
             [
              0.4444444444444444,
              "#bd3786"
             ],
             [
              0.5555555555555556,
              "#d8576b"
             ],
             [
              0.6666666666666666,
              "#ed7953"
             ],
             [
              0.7777777777777778,
              "#fb9f3a"
             ],
             [
              0.8888888888888888,
              "#fdca26"
             ],
             [
              1,
              "#f0f921"
             ]
            ],
            "type": "heatmap"
           }
          ],
          "histogram": [
           {
            "marker": {
             "pattern": {
              "fillmode": "overlay",
              "size": 10,
              "solidity": 0.2
             }
            },
            "type": "histogram"
           }
          ],
          "histogram2d": [
           {
            "colorbar": {
             "outlinewidth": 0,
             "ticks": ""
            },
            "colorscale": [
             [
              0,
              "#0d0887"
             ],
             [
              0.1111111111111111,
              "#46039f"
             ],
             [
              0.2222222222222222,
              "#7201a8"
             ],
             [
              0.3333333333333333,
              "#9c179e"
             ],
             [
              0.4444444444444444,
              "#bd3786"
             ],
             [
              0.5555555555555556,
              "#d8576b"
             ],
             [
              0.6666666666666666,
              "#ed7953"
             ],
             [
              0.7777777777777778,
              "#fb9f3a"
             ],
             [
              0.8888888888888888,
              "#fdca26"
             ],
             [
              1,
              "#f0f921"
             ]
            ],
            "type": "histogram2d"
           }
          ],
          "histogram2dcontour": [
           {
            "colorbar": {
             "outlinewidth": 0,
             "ticks": ""
            },
            "colorscale": [
             [
              0,
              "#0d0887"
             ],
             [
              0.1111111111111111,
              "#46039f"
             ],
             [
              0.2222222222222222,
              "#7201a8"
             ],
             [
              0.3333333333333333,
              "#9c179e"
             ],
             [
              0.4444444444444444,
              "#bd3786"
             ],
             [
              0.5555555555555556,
              "#d8576b"
             ],
             [
              0.6666666666666666,
              "#ed7953"
             ],
             [
              0.7777777777777778,
              "#fb9f3a"
             ],
             [
              0.8888888888888888,
              "#fdca26"
             ],
             [
              1,
              "#f0f921"
             ]
            ],
            "type": "histogram2dcontour"
           }
          ],
          "mesh3d": [
           {
            "colorbar": {
             "outlinewidth": 0,
             "ticks": ""
            },
            "type": "mesh3d"
           }
          ],
          "parcoords": [
           {
            "line": {
             "colorbar": {
              "outlinewidth": 0,
              "ticks": ""
             }
            },
            "type": "parcoords"
           }
          ],
          "pie": [
           {
            "automargin": true,
            "type": "pie"
           }
          ],
          "scatter": [
           {
            "fillpattern": {
             "fillmode": "overlay",
             "size": 10,
             "solidity": 0.2
            },
            "type": "scatter"
           }
          ],
          "scatter3d": [
           {
            "line": {
             "colorbar": {
              "outlinewidth": 0,
              "ticks": ""
             }
            },
            "marker": {
             "colorbar": {
              "outlinewidth": 0,
              "ticks": ""
             }
            },
            "type": "scatter3d"
           }
          ],
          "scattercarpet": [
           {
            "marker": {
             "colorbar": {
              "outlinewidth": 0,
              "ticks": ""
             }
            },
            "type": "scattercarpet"
           }
          ],
          "scattergeo": [
           {
            "marker": {
             "colorbar": {
              "outlinewidth": 0,
              "ticks": ""
             }
            },
            "type": "scattergeo"
           }
          ],
          "scattergl": [
           {
            "marker": {
             "colorbar": {
              "outlinewidth": 0,
              "ticks": ""
             }
            },
            "type": "scattergl"
           }
          ],
          "scattermap": [
           {
            "marker": {
             "colorbar": {
              "outlinewidth": 0,
              "ticks": ""
             }
            },
            "type": "scattermap"
           }
          ],
          "scattermapbox": [
           {
            "marker": {
             "colorbar": {
              "outlinewidth": 0,
              "ticks": ""
             }
            },
            "type": "scattermapbox"
           }
          ],
          "scatterpolar": [
           {
            "marker": {
             "colorbar": {
              "outlinewidth": 0,
              "ticks": ""
             }
            },
            "type": "scatterpolar"
           }
          ],
          "scatterpolargl": [
           {
            "marker": {
             "colorbar": {
              "outlinewidth": 0,
              "ticks": ""
             }
            },
            "type": "scatterpolargl"
           }
          ],
          "scatterternary": [
           {
            "marker": {
             "colorbar": {
              "outlinewidth": 0,
              "ticks": ""
             }
            },
            "type": "scatterternary"
           }
          ],
          "surface": [
           {
            "colorbar": {
             "outlinewidth": 0,
             "ticks": ""
            },
            "colorscale": [
             [
              0,
              "#0d0887"
             ],
             [
              0.1111111111111111,
              "#46039f"
             ],
             [
              0.2222222222222222,
              "#7201a8"
             ],
             [
              0.3333333333333333,
              "#9c179e"
             ],
             [
              0.4444444444444444,
              "#bd3786"
             ],
             [
              0.5555555555555556,
              "#d8576b"
             ],
             [
              0.6666666666666666,
              "#ed7953"
             ],
             [
              0.7777777777777778,
              "#fb9f3a"
             ],
             [
              0.8888888888888888,
              "#fdca26"
             ],
             [
              1,
              "#f0f921"
             ]
            ],
            "type": "surface"
           }
          ],
          "table": [
           {
            "cells": {
             "fill": {
              "color": "#EBF0F8"
             },
             "line": {
              "color": "white"
             }
            },
            "header": {
             "fill": {
              "color": "#C8D4E3"
             },
             "line": {
              "color": "white"
             }
            },
            "type": "table"
           }
          ]
         },
         "layout": {
          "annotationdefaults": {
           "arrowcolor": "#2a3f5f",
           "arrowhead": 0,
           "arrowwidth": 1
          },
          "autotypenumbers": "strict",
          "coloraxis": {
           "colorbar": {
            "outlinewidth": 0,
            "ticks": ""
           }
          },
          "colorscale": {
           "diverging": [
            [
             0,
             "#8e0152"
            ],
            [
             0.1,
             "#c51b7d"
            ],
            [
             0.2,
             "#de77ae"
            ],
            [
             0.3,
             "#f1b6da"
            ],
            [
             0.4,
             "#fde0ef"
            ],
            [
             0.5,
             "#f7f7f7"
            ],
            [
             0.6,
             "#e6f5d0"
            ],
            [
             0.7,
             "#b8e186"
            ],
            [
             0.8,
             "#7fbc41"
            ],
            [
             0.9,
             "#4d9221"
            ],
            [
             1,
             "#276419"
            ]
           ],
           "sequential": [
            [
             0,
             "#0d0887"
            ],
            [
             0.1111111111111111,
             "#46039f"
            ],
            [
             0.2222222222222222,
             "#7201a8"
            ],
            [
             0.3333333333333333,
             "#9c179e"
            ],
            [
             0.4444444444444444,
             "#bd3786"
            ],
            [
             0.5555555555555556,
             "#d8576b"
            ],
            [
             0.6666666666666666,
             "#ed7953"
            ],
            [
             0.7777777777777778,
             "#fb9f3a"
            ],
            [
             0.8888888888888888,
             "#fdca26"
            ],
            [
             1,
             "#f0f921"
            ]
           ],
           "sequentialminus": [
            [
             0,
             "#0d0887"
            ],
            [
             0.1111111111111111,
             "#46039f"
            ],
            [
             0.2222222222222222,
             "#7201a8"
            ],
            [
             0.3333333333333333,
             "#9c179e"
            ],
            [
             0.4444444444444444,
             "#bd3786"
            ],
            [
             0.5555555555555556,
             "#d8576b"
            ],
            [
             0.6666666666666666,
             "#ed7953"
            ],
            [
             0.7777777777777778,
             "#fb9f3a"
            ],
            [
             0.8888888888888888,
             "#fdca26"
            ],
            [
             1,
             "#f0f921"
            ]
           ]
          },
          "colorway": [
           "#636efa",
           "#EF553B",
           "#00cc96",
           "#ab63fa",
           "#FFA15A",
           "#19d3f3",
           "#FF6692",
           "#B6E880",
           "#FF97FF",
           "#FECB52"
          ],
          "font": {
           "color": "#2a3f5f"
          },
          "geo": {
           "bgcolor": "white",
           "lakecolor": "white",
           "landcolor": "#E5ECF6",
           "showlakes": true,
           "showland": true,
           "subunitcolor": "white"
          },
          "hoverlabel": {
           "align": "left"
          },
          "hovermode": "closest",
          "mapbox": {
           "style": "light"
          },
          "paper_bgcolor": "white",
          "plot_bgcolor": "#E5ECF6",
          "polar": {
           "angularaxis": {
            "gridcolor": "white",
            "linecolor": "white",
            "ticks": ""
           },
           "bgcolor": "#E5ECF6",
           "radialaxis": {
            "gridcolor": "white",
            "linecolor": "white",
            "ticks": ""
           }
          },
          "scene": {
           "xaxis": {
            "backgroundcolor": "#E5ECF6",
            "gridcolor": "white",
            "gridwidth": 2,
            "linecolor": "white",
            "showbackground": true,
            "ticks": "",
            "zerolinecolor": "white"
           },
           "yaxis": {
            "backgroundcolor": "#E5ECF6",
            "gridcolor": "white",
            "gridwidth": 2,
            "linecolor": "white",
            "showbackground": true,
            "ticks": "",
            "zerolinecolor": "white"
           },
           "zaxis": {
            "backgroundcolor": "#E5ECF6",
            "gridcolor": "white",
            "gridwidth": 2,
            "linecolor": "white",
            "showbackground": true,
            "ticks": "",
            "zerolinecolor": "white"
           }
          },
          "shapedefaults": {
           "line": {
            "color": "#2a3f5f"
           }
          },
          "ternary": {
           "aaxis": {
            "gridcolor": "white",
            "linecolor": "white",
            "ticks": ""
           },
           "baxis": {
            "gridcolor": "white",
            "linecolor": "white",
            "ticks": ""
           },
           "bgcolor": "#E5ECF6",
           "caxis": {
            "gridcolor": "white",
            "linecolor": "white",
            "ticks": ""
           }
          },
          "title": {
           "x": 0.05
          },
          "xaxis": {
           "automargin": true,
           "gridcolor": "white",
           "linecolor": "white",
           "ticks": "",
           "title": {
            "standoff": 15
           },
           "zerolinecolor": "white",
           "zerolinewidth": 2
          },
          "yaxis": {
           "automargin": true,
           "gridcolor": "white",
           "linecolor": "white",
           "ticks": "",
           "title": {
            "standoff": 15
           },
           "zerolinecolor": "white",
           "zerolinewidth": 2
          }
         }
        },
        "title": {
         "text": "Euro area: Euro area consumer confidence"
        },
        "xaxis": {
         "anchor": "y",
         "domain": [
          0,
          1
         ],
         "title": {
          "text": ""
         }
        },
        "yaxis": {
         "anchor": "x",
         "domain": [
          0,
          1
         ],
         "title": {
          "text": "Points"
         }
        }
       }
      }
     },
     "metadata": {},
     "output_type": "display_data"
    }
   ],
   "source": [
    "scrap.plot_series(ann_box_pos=(0, -0.22))  ## Plot the series specifying ths series as the on to plot rather than the series attribute of the TE_Scraper."
   ]
  },
  {
   "cell_type": "markdown",
   "metadata": {},
   "source": [
    "The alternative method has now been implemented as an option in ```scrape_chart``` function. Use method = \"tooltips\" to use it. Take care as it will miss some points if the history is long and the total datapoint are many. In that case a series could be scraped in two runs of this method, using \"custom_date_span\" method to set first half and second half of the history..."
   ]
  },
  {
   "cell_type": "code",
   "execution_count": 13,
   "metadata": {},
   "outputs": [
    {
     "name": "stderr",
     "output_type": "stream",
     "text": [
      "INFO - New firefox webdriver created.\n",
      "INFO - scrape_chart function: Scraping chart at: https://tradingeconomics.com/euro-area/gdp-growth-annual, time: 2025-02-21 20:21:59.690329, method: tooltips\n",
      "INFO - WebPage at https://tradingeconomics.com/euro-area/gdp-growth-annual loaded successfully.\n",
      "INFO - Chart types dictionary created successfully: dict_keys(['Column', 'Spline', 'Areaspline', 'Stepline', 'Line', 'Area'])\n",
      "INFO - \n",
      "Series metadata: \n",
      " {'units': '%', 'original_source': 'EUROSTAT', 'title': 'Euro Area GDP Annual Growth Rate', 'indicator': 'gdp growth annual', 'country': 'euro area', 'source': 'Trading Economics', 'id': 'euro-area/gdp-growth-annual'}\n",
      "INFO - TooltipScraper object initialised successfully.\n",
      "INFO - Error clicking button: Message: The element with the reference e13ba1f4-e751-45d9-8cd6-b39bd6d3ef65 is stale; either its node document is not the active document, or it is no longer connected to the DOM; For documentation on this error, please visit: https://www.selenium.dev/documentation/webdriver/troubleshooting/errors#stale-element-reference-exception\n",
      "Stacktrace:\n",
      "RemoteError@chrome://remote/content/shared/RemoteError.sys.mjs:8:8\n",
      "WebDriverError@chrome://remote/content/shared/webdriver/Errors.sys.mjs:193:5\n",
      "StaleElementReferenceError@chrome://remote/content/shared/webdriver/Errors.sys.mjs:725:5\n",
      "getKnownElement@chrome://remote/content/marionette/json.sys.mjs:405:11\n",
      "deserializeJSON@chrome://remote/content/marionette/json.sys.mjs:263:20\n",
      "cloneObject@chrome://remote/content/marionette/json.sys.mjs:59:24\n",
      "deserializeJSON@chrome://remote/content/marionette/json.sys.mjs:293:16\n",
      "json.deserialize@chrome://remote/content/marionette/json.sys.mjs:297:10\n",
      "receiveMessage@chrome://remote/content/marionette/actors/MarionetteCommandsChild.sys.mjs:182:30\n",
      "\n",
      "INFO - Chart type set to: Spline\n",
      "INFO - Successfully scraped full series from tooltips.\n",
      "INFO - Successfully scraped full series from tooltips.\n"
     ]
    }
   ],
   "source": [
    "scro = ted.scrape_chart(country=\"euro-area\", id = \"gdp-growth-annual\", method = \"tooltips\", headless=True) ## Using chart id from the url only, country is \"united-states\" by default."
   ]
  },
  {
   "cell_type": "code",
   "execution_count": 14,
   "metadata": {},
   "outputs": [
    {
     "data": {
      "application/vnd.plotly.v1+json": {
       "config": {
        "plotlyServerURL": "https://plot.ly"
       },
       "data": [
        {
         "hovertemplate": "variable=tooltip_data<br>index=%{x}<br>value=%{y}<extra></extra>",
         "legendgroup": "tooltip_data",
         "line": {
          "color": "#636efa",
          "dash": "solid"
         },
         "marker": {
          "symbol": "circle"
         },
         "mode": "lines",
         "name": "tooltip_data",
         "orientation": "v",
         "showlegend": true,
         "type": "scatter",
         "x": [
          "1995-01-01T00:00:00.000000000",
          "1995-04-01T00:00:00.000000000",
          "1995-07-01T00:00:00.000000000",
          "1995-10-01T00:00:00.000000000",
          "1996-01-01T00:00:00.000000000",
          "1996-04-01T00:00:00.000000000",
          "1996-07-01T00:00:00.000000000",
          "1996-10-01T00:00:00.000000000",
          "1997-01-01T00:00:00.000000000",
          "1997-04-01T00:00:00.000000000",
          "1997-07-01T00:00:00.000000000",
          "1997-10-01T00:00:00.000000000",
          "1998-01-01T00:00:00.000000000",
          "1998-04-01T00:00:00.000000000",
          "1998-07-01T00:00:00.000000000",
          "1998-10-01T00:00:00.000000000",
          "1999-01-01T00:00:00.000000000",
          "1999-04-01T00:00:00.000000000",
          "1999-07-01T00:00:00.000000000",
          "1999-10-01T00:00:00.000000000",
          "2000-01-01T00:00:00.000000000",
          "2000-04-01T00:00:00.000000000",
          "2000-07-01T00:00:00.000000000",
          "2000-10-01T00:00:00.000000000",
          "2001-01-01T00:00:00.000000000",
          "2001-04-01T00:00:00.000000000",
          "2001-07-01T00:00:00.000000000",
          "2001-10-01T00:00:00.000000000",
          "2002-01-01T00:00:00.000000000",
          "2002-04-01T00:00:00.000000000",
          "2002-07-01T00:00:00.000000000",
          "2002-10-01T00:00:00.000000000",
          "2003-01-01T00:00:00.000000000",
          "2003-04-01T00:00:00.000000000",
          "2003-07-01T00:00:00.000000000",
          "2003-10-01T00:00:00.000000000",
          "2004-01-01T00:00:00.000000000",
          "2004-04-01T00:00:00.000000000",
          "2004-07-01T00:00:00.000000000",
          "2004-10-01T00:00:00.000000000",
          "2005-01-01T00:00:00.000000000",
          "2005-04-01T00:00:00.000000000",
          "2005-07-01T00:00:00.000000000",
          "2005-10-01T00:00:00.000000000",
          "2006-01-01T00:00:00.000000000",
          "2006-04-01T00:00:00.000000000",
          "2006-07-01T00:00:00.000000000",
          "2006-10-01T00:00:00.000000000",
          "2007-01-01T00:00:00.000000000",
          "2007-04-01T00:00:00.000000000",
          "2007-07-01T00:00:00.000000000",
          "2007-10-01T00:00:00.000000000",
          "2008-01-01T00:00:00.000000000",
          "2008-04-01T00:00:00.000000000",
          "2008-07-01T00:00:00.000000000",
          "2008-10-01T00:00:00.000000000",
          "2009-01-01T00:00:00.000000000",
          "2009-04-01T00:00:00.000000000",
          "2009-07-01T00:00:00.000000000",
          "2009-10-01T00:00:00.000000000",
          "2010-01-01T00:00:00.000000000",
          "2010-04-01T00:00:00.000000000",
          "2010-07-01T00:00:00.000000000",
          "2010-10-01T00:00:00.000000000",
          "2011-01-01T00:00:00.000000000",
          "2011-04-01T00:00:00.000000000",
          "2011-07-01T00:00:00.000000000",
          "2011-10-01T00:00:00.000000000",
          "2012-01-01T00:00:00.000000000",
          "2012-04-01T00:00:00.000000000",
          "2012-07-01T00:00:00.000000000",
          "2012-10-01T00:00:00.000000000",
          "2013-01-01T00:00:00.000000000",
          "2013-04-01T00:00:00.000000000",
          "2013-07-01T00:00:00.000000000",
          "2013-10-01T00:00:00.000000000",
          "2014-01-01T00:00:00.000000000",
          "2014-04-01T00:00:00.000000000",
          "2014-07-01T00:00:00.000000000",
          "2014-10-01T00:00:00.000000000",
          "2015-01-01T00:00:00.000000000",
          "2015-04-01T00:00:00.000000000",
          "2015-07-01T00:00:00.000000000",
          "2015-10-01T00:00:00.000000000",
          "2016-01-01T00:00:00.000000000",
          "2016-04-01T00:00:00.000000000",
          "2016-07-01T00:00:00.000000000",
          "2016-10-01T00:00:00.000000000",
          "2017-01-01T00:00:00.000000000",
          "2017-04-01T00:00:00.000000000",
          "2017-07-01T00:00:00.000000000",
          "2017-10-01T00:00:00.000000000",
          "2018-01-01T00:00:00.000000000",
          "2018-04-01T00:00:00.000000000",
          "2018-07-01T00:00:00.000000000",
          "2018-10-01T00:00:00.000000000",
          "2019-01-01T00:00:00.000000000",
          "2019-04-01T00:00:00.000000000",
          "2019-07-01T00:00:00.000000000",
          "2019-10-01T00:00:00.000000000",
          "2020-01-01T00:00:00.000000000",
          "2020-04-01T00:00:00.000000000",
          "2020-07-01T00:00:00.000000000",
          "2020-10-01T00:00:00.000000000",
          "2021-01-01T00:00:00.000000000",
          "2021-04-01T00:00:00.000000000",
          "2021-07-01T00:00:00.000000000",
          "2021-10-01T00:00:00.000000000",
          "2022-01-01T00:00:00.000000000",
          "2022-04-01T00:00:00.000000000",
          "2022-07-01T00:00:00.000000000",
          "2022-10-01T00:00:00.000000000",
          "2023-01-01T00:00:00.000000000",
          "2023-04-01T00:00:00.000000000",
          "2023-07-01T00:00:00.000000000",
          "2023-10-01T00:00:00.000000000",
          "2024-01-01T00:00:00.000000000",
          "2024-04-01T00:00:00.000000000",
          "2024-07-01T00:00:00.000000000",
          "2024-10-01T00:00:00.000000000"
         ],
         "xaxis": "x",
         "y": {
          "bdata": "AAAAAAAAFECamZmZmZkTQJqZmZmZmRFAZmZmZmZmDkBmZmZmZmb2P2ZmZmZmZvY/mpmZmZmZ+T8AAAAAAAAAQM3MzMzMzABAAAAAAAAABEBmZmZmZmYGQGZmZmZmZgpAmpmZmZmZDUAzMzMzMzMHQJqZmZmZmQVAZmZmZmZm/j9mZmZmZmYCQGZmZmZmZgJAmpmZmZmZCUAAAAAAAAAQQM3MzMzMzBBAzczMzMzMEkAzMzMzMzMPQGZmZmZmZgpAmpmZmZmZCUBmZmZmZmYCQM3MzMzMzPw/zczMzMzM9D+amZmZmZnZP5qZmZmZmek/AAAAAAAA8D/NzMzMzMz0P5qZmZmZmek/MzMzMzMz0z8AAAAAAADgPwAAAAAAAPA/zczMzMzM/D8zMzMzMzMDQAAAAAAAAABAzczMzMzM/D8AAAAAAAD4PwAAAAAAAPg/AAAAAAAAAEBmZmZmZmYCQAAAAAAAAAhAAAAAAAAADECamZmZmZkJQJqZmZmZmQ1AAAAAAAAADEAAAAAAAAAIQDMzMzMzMwdAmpmZmZmZAUCamZmZmZkBQAAAAAAAAPA/mpmZmZmZuT/NzMzMzMwAwGZmZmZmZhbAZmZmZmZmFMAzMzMzMzMRwJqZmZmZmQHAzczMzMzM9D+amZmZmZkBQJqZmZmZmQFAMzMzMzMzA0AzMzMzMzMHQAAAAAAAAABAmpmZmZmZ+T9mZmZmZmbmPwAAAAAAAOC/zczMzMzM7L+amZmZmZnxvzMzMzMzM/O/zczMzMzM9L8zMzMzMzPTv5qZmZmZmck/zczMzMzM7D8zMzMzMzP7PzMzMzMzM/M/ZmZmZmZm9j8AAAAAAAD4P2ZmZmZmZv4/zczMzMzMAEAAAAAAAAAAQM3MzMzMzABAZmZmZmZm/j+amZmZmZn5PzMzMzMzM/s/ZmZmZmZm/j+amZmZmZkBQJqZmZmZmQVAAAAAAAAACEDNzMzMzMwIQGZmZmZmZgJAzczMzMzMAEBmZmZmZmb2PzMzMzMzM/M/zczMzMzM/D8zMzMzMzP7P83MzMzMzPw/MzMzMzMz8z9mZmZmZmYGwM3MzMzMzCvAZmZmZmZmEMBmZmZmZmYOwJqZmZmZmck/ZmZmZmZmLkBmZmZmZmYUQAAAAAAAABZAAAAAAAAAFkBmZmZmZmYQQGZmZmZmZgZAAAAAAAAAAEBmZmZmZmb2PzMzMzMzM+M/AAAAAAAAAACamZmZmZm5P5qZmZmZmdk/AAAAAAAA4D/NzMzMzMzsP83MzMzMzOw/",
          "dtype": "f8"
         },
         "yaxis": "y"
        }
       ],
       "layout": {
        "annotations": [
         {
          "align": "left",
          "bgcolor": "rgba(255, 255, 255, 0.8)",
          "bordercolor": "black",
          "borderwidth": 1,
          "font": {
           "size": 10
          },
          "showarrow": false,
          "text": "Source: Trading Economics<br>Original Source: EUROSTAT<br>Frequency: QS-OCT<br>",
          "x": 0,
          "xanchor": "left",
          "xref": "paper",
          "y": -0.2,
          "yanchor": "bottom",
          "yref": "paper"
         }
        ],
        "legend": {
         "orientation": "h",
         "title": {
          "text": ""
         },
         "tracegroupgap": 0,
         "x": 0.5,
         "xanchor": "center",
         "y": -0.2,
         "yanchor": "bottom"
        },
        "margin": {
         "t": 60
        },
        "template": {
         "data": {
          "bar": [
           {
            "error_x": {
             "color": "#2a3f5f"
            },
            "error_y": {
             "color": "#2a3f5f"
            },
            "marker": {
             "line": {
              "color": "#E5ECF6",
              "width": 0.5
             },
             "pattern": {
              "fillmode": "overlay",
              "size": 10,
              "solidity": 0.2
             }
            },
            "type": "bar"
           }
          ],
          "barpolar": [
           {
            "marker": {
             "line": {
              "color": "#E5ECF6",
              "width": 0.5
             },
             "pattern": {
              "fillmode": "overlay",
              "size": 10,
              "solidity": 0.2
             }
            },
            "type": "barpolar"
           }
          ],
          "carpet": [
           {
            "aaxis": {
             "endlinecolor": "#2a3f5f",
             "gridcolor": "white",
             "linecolor": "white",
             "minorgridcolor": "white",
             "startlinecolor": "#2a3f5f"
            },
            "baxis": {
             "endlinecolor": "#2a3f5f",
             "gridcolor": "white",
             "linecolor": "white",
             "minorgridcolor": "white",
             "startlinecolor": "#2a3f5f"
            },
            "type": "carpet"
           }
          ],
          "choropleth": [
           {
            "colorbar": {
             "outlinewidth": 0,
             "ticks": ""
            },
            "type": "choropleth"
           }
          ],
          "contour": [
           {
            "colorbar": {
             "outlinewidth": 0,
             "ticks": ""
            },
            "colorscale": [
             [
              0,
              "#0d0887"
             ],
             [
              0.1111111111111111,
              "#46039f"
             ],
             [
              0.2222222222222222,
              "#7201a8"
             ],
             [
              0.3333333333333333,
              "#9c179e"
             ],
             [
              0.4444444444444444,
              "#bd3786"
             ],
             [
              0.5555555555555556,
              "#d8576b"
             ],
             [
              0.6666666666666666,
              "#ed7953"
             ],
             [
              0.7777777777777778,
              "#fb9f3a"
             ],
             [
              0.8888888888888888,
              "#fdca26"
             ],
             [
              1,
              "#f0f921"
             ]
            ],
            "type": "contour"
           }
          ],
          "contourcarpet": [
           {
            "colorbar": {
             "outlinewidth": 0,
             "ticks": ""
            },
            "type": "contourcarpet"
           }
          ],
          "heatmap": [
           {
            "colorbar": {
             "outlinewidth": 0,
             "ticks": ""
            },
            "colorscale": [
             [
              0,
              "#0d0887"
             ],
             [
              0.1111111111111111,
              "#46039f"
             ],
             [
              0.2222222222222222,
              "#7201a8"
             ],
             [
              0.3333333333333333,
              "#9c179e"
             ],
             [
              0.4444444444444444,
              "#bd3786"
             ],
             [
              0.5555555555555556,
              "#d8576b"
             ],
             [
              0.6666666666666666,
              "#ed7953"
             ],
             [
              0.7777777777777778,
              "#fb9f3a"
             ],
             [
              0.8888888888888888,
              "#fdca26"
             ],
             [
              1,
              "#f0f921"
             ]
            ],
            "type": "heatmap"
           }
          ],
          "histogram": [
           {
            "marker": {
             "pattern": {
              "fillmode": "overlay",
              "size": 10,
              "solidity": 0.2
             }
            },
            "type": "histogram"
           }
          ],
          "histogram2d": [
           {
            "colorbar": {
             "outlinewidth": 0,
             "ticks": ""
            },
            "colorscale": [
             [
              0,
              "#0d0887"
             ],
             [
              0.1111111111111111,
              "#46039f"
             ],
             [
              0.2222222222222222,
              "#7201a8"
             ],
             [
              0.3333333333333333,
              "#9c179e"
             ],
             [
              0.4444444444444444,
              "#bd3786"
             ],
             [
              0.5555555555555556,
              "#d8576b"
             ],
             [
              0.6666666666666666,
              "#ed7953"
             ],
             [
              0.7777777777777778,
              "#fb9f3a"
             ],
             [
              0.8888888888888888,
              "#fdca26"
             ],
             [
              1,
              "#f0f921"
             ]
            ],
            "type": "histogram2d"
           }
          ],
          "histogram2dcontour": [
           {
            "colorbar": {
             "outlinewidth": 0,
             "ticks": ""
            },
            "colorscale": [
             [
              0,
              "#0d0887"
             ],
             [
              0.1111111111111111,
              "#46039f"
             ],
             [
              0.2222222222222222,
              "#7201a8"
             ],
             [
              0.3333333333333333,
              "#9c179e"
             ],
             [
              0.4444444444444444,
              "#bd3786"
             ],
             [
              0.5555555555555556,
              "#d8576b"
             ],
             [
              0.6666666666666666,
              "#ed7953"
             ],
             [
              0.7777777777777778,
              "#fb9f3a"
             ],
             [
              0.8888888888888888,
              "#fdca26"
             ],
             [
              1,
              "#f0f921"
             ]
            ],
            "type": "histogram2dcontour"
           }
          ],
          "mesh3d": [
           {
            "colorbar": {
             "outlinewidth": 0,
             "ticks": ""
            },
            "type": "mesh3d"
           }
          ],
          "parcoords": [
           {
            "line": {
             "colorbar": {
              "outlinewidth": 0,
              "ticks": ""
             }
            },
            "type": "parcoords"
           }
          ],
          "pie": [
           {
            "automargin": true,
            "type": "pie"
           }
          ],
          "scatter": [
           {
            "fillpattern": {
             "fillmode": "overlay",
             "size": 10,
             "solidity": 0.2
            },
            "type": "scatter"
           }
          ],
          "scatter3d": [
           {
            "line": {
             "colorbar": {
              "outlinewidth": 0,
              "ticks": ""
             }
            },
            "marker": {
             "colorbar": {
              "outlinewidth": 0,
              "ticks": ""
             }
            },
            "type": "scatter3d"
           }
          ],
          "scattercarpet": [
           {
            "marker": {
             "colorbar": {
              "outlinewidth": 0,
              "ticks": ""
             }
            },
            "type": "scattercarpet"
           }
          ],
          "scattergeo": [
           {
            "marker": {
             "colorbar": {
              "outlinewidth": 0,
              "ticks": ""
             }
            },
            "type": "scattergeo"
           }
          ],
          "scattergl": [
           {
            "marker": {
             "colorbar": {
              "outlinewidth": 0,
              "ticks": ""
             }
            },
            "type": "scattergl"
           }
          ],
          "scattermap": [
           {
            "marker": {
             "colorbar": {
              "outlinewidth": 0,
              "ticks": ""
             }
            },
            "type": "scattermap"
           }
          ],
          "scattermapbox": [
           {
            "marker": {
             "colorbar": {
              "outlinewidth": 0,
              "ticks": ""
             }
            },
            "type": "scattermapbox"
           }
          ],
          "scatterpolar": [
           {
            "marker": {
             "colorbar": {
              "outlinewidth": 0,
              "ticks": ""
             }
            },
            "type": "scatterpolar"
           }
          ],
          "scatterpolargl": [
           {
            "marker": {
             "colorbar": {
              "outlinewidth": 0,
              "ticks": ""
             }
            },
            "type": "scatterpolargl"
           }
          ],
          "scatterternary": [
           {
            "marker": {
             "colorbar": {
              "outlinewidth": 0,
              "ticks": ""
             }
            },
            "type": "scatterternary"
           }
          ],
          "surface": [
           {
            "colorbar": {
             "outlinewidth": 0,
             "ticks": ""
            },
            "colorscale": [
             [
              0,
              "#0d0887"
             ],
             [
              0.1111111111111111,
              "#46039f"
             ],
             [
              0.2222222222222222,
              "#7201a8"
             ],
             [
              0.3333333333333333,
              "#9c179e"
             ],
             [
              0.4444444444444444,
              "#bd3786"
             ],
             [
              0.5555555555555556,
              "#d8576b"
             ],
             [
              0.6666666666666666,
              "#ed7953"
             ],
             [
              0.7777777777777778,
              "#fb9f3a"
             ],
             [
              0.8888888888888888,
              "#fdca26"
             ],
             [
              1,
              "#f0f921"
             ]
            ],
            "type": "surface"
           }
          ],
          "table": [
           {
            "cells": {
             "fill": {
              "color": "#EBF0F8"
             },
             "line": {
              "color": "white"
             }
            },
            "header": {
             "fill": {
              "color": "#C8D4E3"
             },
             "line": {
              "color": "white"
             }
            },
            "type": "table"
           }
          ]
         },
         "layout": {
          "annotationdefaults": {
           "arrowcolor": "#2a3f5f",
           "arrowhead": 0,
           "arrowwidth": 1
          },
          "autotypenumbers": "strict",
          "coloraxis": {
           "colorbar": {
            "outlinewidth": 0,
            "ticks": ""
           }
          },
          "colorscale": {
           "diverging": [
            [
             0,
             "#8e0152"
            ],
            [
             0.1,
             "#c51b7d"
            ],
            [
             0.2,
             "#de77ae"
            ],
            [
             0.3,
             "#f1b6da"
            ],
            [
             0.4,
             "#fde0ef"
            ],
            [
             0.5,
             "#f7f7f7"
            ],
            [
             0.6,
             "#e6f5d0"
            ],
            [
             0.7,
             "#b8e186"
            ],
            [
             0.8,
             "#7fbc41"
            ],
            [
             0.9,
             "#4d9221"
            ],
            [
             1,
             "#276419"
            ]
           ],
           "sequential": [
            [
             0,
             "#0d0887"
            ],
            [
             0.1111111111111111,
             "#46039f"
            ],
            [
             0.2222222222222222,
             "#7201a8"
            ],
            [
             0.3333333333333333,
             "#9c179e"
            ],
            [
             0.4444444444444444,
             "#bd3786"
            ],
            [
             0.5555555555555556,
             "#d8576b"
            ],
            [
             0.6666666666666666,
             "#ed7953"
            ],
            [
             0.7777777777777778,
             "#fb9f3a"
            ],
            [
             0.8888888888888888,
             "#fdca26"
            ],
            [
             1,
             "#f0f921"
            ]
           ],
           "sequentialminus": [
            [
             0,
             "#0d0887"
            ],
            [
             0.1111111111111111,
             "#46039f"
            ],
            [
             0.2222222222222222,
             "#7201a8"
            ],
            [
             0.3333333333333333,
             "#9c179e"
            ],
            [
             0.4444444444444444,
             "#bd3786"
            ],
            [
             0.5555555555555556,
             "#d8576b"
            ],
            [
             0.6666666666666666,
             "#ed7953"
            ],
            [
             0.7777777777777778,
             "#fb9f3a"
            ],
            [
             0.8888888888888888,
             "#fdca26"
            ],
            [
             1,
             "#f0f921"
            ]
           ]
          },
          "colorway": [
           "#636efa",
           "#EF553B",
           "#00cc96",
           "#ab63fa",
           "#FFA15A",
           "#19d3f3",
           "#FF6692",
           "#B6E880",
           "#FF97FF",
           "#FECB52"
          ],
          "font": {
           "color": "#2a3f5f"
          },
          "geo": {
           "bgcolor": "white",
           "lakecolor": "white",
           "landcolor": "#E5ECF6",
           "showlakes": true,
           "showland": true,
           "subunitcolor": "white"
          },
          "hoverlabel": {
           "align": "left"
          },
          "hovermode": "closest",
          "mapbox": {
           "style": "light"
          },
          "paper_bgcolor": "white",
          "plot_bgcolor": "#E5ECF6",
          "polar": {
           "angularaxis": {
            "gridcolor": "white",
            "linecolor": "white",
            "ticks": ""
           },
           "bgcolor": "#E5ECF6",
           "radialaxis": {
            "gridcolor": "white",
            "linecolor": "white",
            "ticks": ""
           }
          },
          "scene": {
           "xaxis": {
            "backgroundcolor": "#E5ECF6",
            "gridcolor": "white",
            "gridwidth": 2,
            "linecolor": "white",
            "showbackground": true,
            "ticks": "",
            "zerolinecolor": "white"
           },
           "yaxis": {
            "backgroundcolor": "#E5ECF6",
            "gridcolor": "white",
            "gridwidth": 2,
            "linecolor": "white",
            "showbackground": true,
            "ticks": "",
            "zerolinecolor": "white"
           },
           "zaxis": {
            "backgroundcolor": "#E5ECF6",
            "gridcolor": "white",
            "gridwidth": 2,
            "linecolor": "white",
            "showbackground": true,
            "ticks": "",
            "zerolinecolor": "white"
           }
          },
          "shapedefaults": {
           "line": {
            "color": "#2a3f5f"
           }
          },
          "ternary": {
           "aaxis": {
            "gridcolor": "white",
            "linecolor": "white",
            "ticks": ""
           },
           "baxis": {
            "gridcolor": "white",
            "linecolor": "white",
            "ticks": ""
           },
           "bgcolor": "#E5ECF6",
           "caxis": {
            "gridcolor": "white",
            "linecolor": "white",
            "ticks": ""
           }
          },
          "title": {
           "x": 0.05
          },
          "xaxis": {
           "automargin": true,
           "gridcolor": "white",
           "linecolor": "white",
           "ticks": "",
           "title": {
            "standoff": 15
           },
           "zerolinecolor": "white",
           "zerolinewidth": 2
          },
          "yaxis": {
           "automargin": true,
           "gridcolor": "white",
           "linecolor": "white",
           "ticks": "",
           "title": {
            "standoff": 15
           },
           "zerolinecolor": "white",
           "zerolinewidth": 2
          }
         }
        },
        "title": {
         "text": "Euro area: Euro area gdp annual growth rate"
        },
        "xaxis": {
         "anchor": "y",
         "domain": [
          0,
          1
         ],
         "title": {
          "text": ""
         }
        },
        "yaxis": {
         "anchor": "x",
         "domain": [
          0,
          1
         ],
         "title": {
          "text": "%"
         }
        }
       }
      }
     },
     "metadata": {},
     "output_type": "display_data"
    }
   ],
   "source": [
    "scro.plot_series()  ## Plot the series."
   ]
  }
 ],
 "metadata": {
  "kernelspec": {
   "display_name": "ted",
   "language": "python",
   "name": "python3"
  },
  "language_info": {
   "codemirror_mode": {
    "name": "ipython",
    "version": 3
   },
   "file_extension": ".py",
   "mimetype": "text/x-python",
   "name": "python",
   "nbconvert_exporter": "python",
   "pygments_lexer": "ipython3",
   "version": "3.11.11"
  }
 },
 "nbformat": 4,
 "nbformat_minor": 2
}
