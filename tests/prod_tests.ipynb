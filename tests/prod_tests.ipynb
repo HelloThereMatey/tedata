{
 "cells": [
  {
   "cell_type": "code",
   "execution_count": 2,
   "metadata": {},
   "outputs": [
    {
     "name": "stderr",
     "output_type": "stream",
     "text": [
      "INFO - tedata package initialized successfully!\n"
     ]
    }
   ],
   "source": [
    "import sys\n",
    "import os\n",
    "import pandas as pd\n",
    "from pprint import pprint\n",
    "wd = %pwd\n",
    "parent = os.path.dirname(wd)\n",
    "fdel = os.path.sep\n",
    "sys.path.append(parent+fdel+\"src\")\n",
    "import tedata as ted"
   ]
  },
  {
   "cell_type": "code",
   "execution_count": 3,
   "metadata": {},
   "outputs": [],
   "source": [
    "from bs4 import BeautifulSoup\n",
    "from selenium import webdriver\n",
    "from selenium.webdriver.common.by import By\n",
    "from selenium.webdriver.support.ui import WebDriverWait\n",
    "from selenium.webdriver.support import expected_conditions as EC\n",
    "from selenium.webdriver.common.keys import Keys"
   ]
  },
  {
   "cell_type": "markdown",
   "metadata": {},
   "source": [
    "# tedata package\n",
    "Download data from Trading Economics. There are several ways to use this package. \n",
    "# Method #1: search for indicators and then download the data for a given search result.\n",
    "## Initialise new search_TE object. \n",
    "Object will use an existing webdriver if there is already more than one active in the namespace when use_existing_driver=True. \n",
    "This will save you some time and be more memory efficient."
   ]
  },
  {
   "cell_type": "code",
   "execution_count": 57,
   "metadata": {},
   "outputs": [
    {
     "name": "stderr",
     "output_type": "stream",
     "text": [
      "INFO - New firefox webdriver created.\n",
      "INFO - Loading home page at https://tradingeconomics.com/ ...\n",
      "INFO - Home page at https://tradingeconomics.com loaded successfully! Search box element found.\n"
     ]
    }
   ],
   "source": [
    "search = ted.search_TE(use_existing_driver=False, headless=False)  # Will open firefox browser window as headless=False."
   ]
  },
  {
   "cell_type": "markdown",
   "metadata": {},
   "source": [
    "### Use the search_trading_economics method to use the search bar on the homepage to search."
   ]
  },
  {
   "cell_type": "code",
   "execution_count": 58,
   "metadata": {},
   "outputs": [
    {
     "name": "stderr",
     "output_type": "stream",
     "text": [
      "INFO - Clicking search box...\n",
      "INFO - Entering search term: ISM Services\n",
      "INFO - Submitting search, waiting 5s for page to load...\n"
     ]
    },
    {
     "name": "stdout",
     "output_type": "stream",
     "text": [
      "Found search results on page.\n"
     ]
    },
    {
     "data": {
      "text/html": [
       "<div>\n",
       "<style scoped>\n",
       "    .dataframe tbody tr th:only-of-type {\n",
       "        vertical-align: middle;\n",
       "    }\n",
       "\n",
       "    .dataframe tbody tr th {\n",
       "        vertical-align: top;\n",
       "    }\n",
       "\n",
       "    .dataframe thead th {\n",
       "        text-align: right;\n",
       "    }\n",
       "</style>\n",
       "<table border=\"1\" class=\"dataframe\">\n",
       "  <thead>\n",
       "    <tr style=\"text-align: right;\">\n",
       "      <th></th>\n",
       "      <th>country</th>\n",
       "      <th>metric</th>\n",
       "      <th>url</th>\n",
       "    </tr>\n",
       "    <tr>\n",
       "      <th>result</th>\n",
       "      <th></th>\n",
       "      <th></th>\n",
       "      <th></th>\n",
       "    </tr>\n",
       "  </thead>\n",
       "  <tbody>\n",
       "    <tr>\n",
       "      <th>0</th>\n",
       "      <td>united states</td>\n",
       "      <td>non manufacturing pmi</td>\n",
       "      <td>https://tradingeconomics.com/united-states/non...</td>\n",
       "    </tr>\n",
       "    <tr>\n",
       "      <th>1</th>\n",
       "      <td>united states</td>\n",
       "      <td>ism non manufacturing prices</td>\n",
       "      <td>https://tradingeconomics.com/united-states/ism...</td>\n",
       "    </tr>\n",
       "    <tr>\n",
       "      <th>2</th>\n",
       "      <td>united states</td>\n",
       "      <td>ism non manufacturing business activity</td>\n",
       "      <td>https://tradingeconomics.com/united-states/ism...</td>\n",
       "    </tr>\n",
       "    <tr>\n",
       "      <th>3</th>\n",
       "      <td>united states</td>\n",
       "      <td>ism non manufacturing employment</td>\n",
       "      <td>https://tradingeconomics.com/united-states/ism...</td>\n",
       "    </tr>\n",
       "    <tr>\n",
       "      <th>4</th>\n",
       "      <td>united states</td>\n",
       "      <td>ism non manufacturing new orders</td>\n",
       "      <td>https://tradingeconomics.com/united-states/ism...</td>\n",
       "    </tr>\n",
       "  </tbody>\n",
       "</table>\n",
       "</div>"
      ],
      "text/plain": [
       "              country                                   metric  \\\n",
       "result                                                           \n",
       "0       united states                    non manufacturing pmi   \n",
       "1       united states             ism non manufacturing prices   \n",
       "2       united states  ism non manufacturing business activity   \n",
       "3       united states         ism non manufacturing employment   \n",
       "4       united states         ism non manufacturing new orders   \n",
       "\n",
       "                                                      url  \n",
       "result                                                     \n",
       "0       https://tradingeconomics.com/united-states/non...  \n",
       "1       https://tradingeconomics.com/united-states/ism...  \n",
       "2       https://tradingeconomics.com/united-states/ism...  \n",
       "3       https://tradingeconomics.com/united-states/ism...  \n",
       "4       https://tradingeconomics.com/united-states/ism...  "
      ]
     },
     "execution_count": 58,
     "metadata": {},
     "output_type": "execute_result"
    }
   ],
   "source": [
    "search.search_trading_economics(\"ISM Services\", wait_time=3) # Set wait_time to a higher value if you get an empty results table. Default is 5s.\n",
    "search.result_table"
   ]
  },
  {
   "cell_type": "markdown",
   "metadata": {},
   "source": [
    "### Download the time-series for a particular indicator using a search result displayed in your search results table.\n",
    "\n",
    "Sometimes you may get an error straight away on the first run of the ```get_data``` method. Error message will be something about error establising a connection.\n",
    "\n",
    "Noted error messages for this: \n",
    "- Error loading page: Message: Failed to write request to stream\n",
    "- Error loading page: Message: Tried to run command without establishing a connection\n",
    "\n",
    "Just try again if so, it has always worked for me the second time unless internet connection is down or too slow."
   ]
  },
  {
   "cell_type": "code",
   "execution_count": 72,
   "metadata": {},
   "outputs": [
    {
     "name": "stdout",
     "output_type": "stream",
     "text": [
      "Attempting to scrape data for result  2 ,  united states ism non manufacturing business activity\n",
      "Scraping data from: https://tradingeconomics.com/united-states/ism-non-manufacturing-business-activity\n"
     ]
    },
    {
     "name": "stderr",
     "output_type": "stream",
     "text": [
      "INFO - scrape_chart function: Scraping chart at: https://tradingeconomics.com/united-states/ism-non-manufacturing-business-activity, time: 2025-02-13 12:36:03.553747\n",
      "INFO - WebPage at https://tradingeconomics.com/united-states/ism-non-manufacturing-business-activity loaded successfully.\n"
     ]
    },
    {
     "name": "stdout",
     "output_type": "stream",
     "text": [
      "Using selenium and tooltip scraping to construct the date time index for the time-series, this'll take a bit...\n"
     ]
    },
    {
     "name": "stderr",
     "output_type": "stream",
     "text": [
      "INFO - Date span set to: MAX\n",
      "INFO - Chart types dictionary created successfully: dict_keys(['Column', 'Spline', 'Areaspline', 'Stepline', 'Line', 'Area'])\n",
      "INFO - Chart type set to: Line\n",
      "INFO - Chart types dictionary created successfully: dict_keys(['Column', 'Spline', 'Areaspline', 'Stepline', 'Line', 'Area'])\n",
      "INFO - Line chart type selected.\n"
     ]
    },
    {
     "name": "stdout",
     "output_type": "stream",
     "text": [
      "Got chart dimensions and plot background element.\n"
     ]
    },
    {
     "name": "stderr",
     "output_type": "stream",
     "text": [
      "INFO - Start and end values scraped from tooltips: \n",
      "{'start_date': Timestamp('1997-07-01 00:00:00'), 'start_value': 58.6, 'end_date': Timestamp('2025-01-01 00:00:00'), 'end_value': 54.5}\n",
      "INFO - Date span set to: 1Y\n",
      "INFO - Line chart type selected.\n"
     ]
    },
    {
     "name": "stdout",
     "output_type": "stream",
     "text": [
      "439.0\n"
     ]
    },
    {
     "name": "stderr",
     "output_type": "stream",
     "text": [
      "INFO - DateTimeIndex created successfully for the time-series.\n"
     ]
    },
    {
     "name": "stdout",
     "output_type": "stream",
     "text": [
      "Latest dates:  [Timestamp('2025-01-01 00:00:00'), Timestamp('2024-12-01 00:00:00'), Timestamp('2024-11-01 00:00:00'), Timestamp('2024-10-01 00:00:00'), Timestamp('2024-09-01 00:00:00'), Timestamp('2024-08-01 00:00:00'), Timestamp('2024-07-01 00:00:00'), Timestamp('2024-06-01 00:00:00'), Timestamp('2024-05-01 00:00:00'), Timestamp('2024-04-01 00:00:00')]\n",
      "Frequency of time-series:  MS\n"
     ]
    },
    {
     "name": "stderr",
     "output_type": "stream",
     "text": [
      "INFO - Date span set to: MAX\n",
      "INFO - Y-axis values scraped successfully.\n",
      "INFO - Chart type set to: Spline\n",
      "INFO - Series path extraction method: Extracting series data from chart soup.\n",
      "INFO - Date span: MAX. Chart type: splineChart, URL: https://tradingeconomics.com/united-states/ism-non-manufacturing-business-activity.\n",
      "INFO - DateTimeIndex applied to series, series attribute updated.\n",
      "INFO - Successfully scaled series.\n",
      "INFO - Successfully scraped time-series from chart at:  https://tradingeconomics.com/united-states/ism-non-manufacturing-business-activity, now getting some metadata...\n",
      "INFO - \n",
      "Series metadata: \n",
      " {'units': 'points', 'original_source': 'Institute for Supply Management', 'title': 'United States ISM Services Business Activity', 'indicator': 'ism non manufacturing business activity', 'country': 'united states', 'length': 331, 'frequency': 'MS', 'source': 'Trading Economics', 'id': 'united-states/ism-non-manufacturing-business-activity', 'start_date': '1997-07-01', 'end_date': '2025-01-01', 'min_value': 26.099999999999127, 'max_value': 70.39999999999866}\n"
     ]
    },
    {
     "name": "stdout",
     "output_type": "stream",
     "text": [
      "Got metadata. \n",
      "\n",
      "Series tail: 2024-09-01    59.9\n",
      "2024-10-01    57.7\n",
      "2024-11-01    55.7\n",
      "2024-12-01    58.0\n",
      "2025-01-01    54.5\n",
      "Freq: MS, Name: ism non manufacturing business activity, dtype: float64 \n",
      "\n",
      "Scraping complete! Happy pirating yo!\n",
      "Data scraped successfully from: https://tradingeconomics.com/united-states/ism-non-manufacturing-business-activity\n"
     ]
    }
   ],
   "source": [
    "scraped = search.get_data(2)  ## Using result number 5 in result_table attribute.\n",
    "# Sometimes you may get an error straight away on the first run of this method. Error message bout error establising connection.\n",
    "# Just try again if so, it has always worked for me the second time unless internet connection is down or too slow"
   ]
  },
  {
   "cell_type": "markdown",
   "metadata": {},
   "source": [
    "### Plot your downloaded series using plotly to create an interactive chart with tooltips."
   ]
  },
  {
   "cell_type": "code",
   "execution_count": 73,
   "metadata": {},
   "outputs": [
    {
     "data": {
      "application/vnd.plotly.v1+json": {
       "config": {
        "plotlyServerURL": "https://plot.ly"
       },
       "data": [
        {
         "hovertemplate": "variable=ism non manufacturing business activity<br>index=%{x}<br>value=%{y}<extra></extra>",
         "legendgroup": "ism non manufacturing business activity",
         "line": {
          "color": "#636efa",
          "dash": "solid"
         },
         "marker": {
          "symbol": "circle"
         },
         "mode": "lines",
         "name": "ism non manufacturing business activity",
         "orientation": "v",
         "showlegend": true,
         "type": "scatter",
         "x": [
          "1997-07-01T00:00:00",
          "1997-08-01T00:00:00",
          "1997-09-01T00:00:00",
          "1997-10-01T00:00:00",
          "1997-11-01T00:00:00",
          "1997-12-01T00:00:00",
          "1998-01-01T00:00:00",
          "1998-02-01T00:00:00",
          "1998-03-01T00:00:00",
          "1998-04-01T00:00:00",
          "1998-05-01T00:00:00",
          "1998-06-01T00:00:00",
          "1998-07-01T00:00:00",
          "1998-08-01T00:00:00",
          "1998-09-01T00:00:00",
          "1998-10-01T00:00:00",
          "1998-11-01T00:00:00",
          "1998-12-01T00:00:00",
          "1999-01-01T00:00:00",
          "1999-02-01T00:00:00",
          "1999-03-01T00:00:00",
          "1999-04-01T00:00:00",
          "1999-05-01T00:00:00",
          "1999-06-01T00:00:00",
          "1999-07-01T00:00:00",
          "1999-08-01T00:00:00",
          "1999-09-01T00:00:00",
          "1999-10-01T00:00:00",
          "1999-11-01T00:00:00",
          "1999-12-01T00:00:00",
          "2000-01-01T00:00:00",
          "2000-02-01T00:00:00",
          "2000-03-01T00:00:00",
          "2000-04-01T00:00:00",
          "2000-05-01T00:00:00",
          "2000-06-01T00:00:00",
          "2000-07-01T00:00:00",
          "2000-08-01T00:00:00",
          "2000-09-01T00:00:00",
          "2000-10-01T00:00:00",
          "2000-11-01T00:00:00",
          "2000-12-01T00:00:00",
          "2001-01-01T00:00:00",
          "2001-02-01T00:00:00",
          "2001-03-01T00:00:00",
          "2001-04-01T00:00:00",
          "2001-05-01T00:00:00",
          "2001-06-01T00:00:00",
          "2001-07-01T00:00:00",
          "2001-08-01T00:00:00",
          "2001-09-01T00:00:00",
          "2001-10-01T00:00:00",
          "2001-11-01T00:00:00",
          "2001-12-01T00:00:00",
          "2002-01-01T00:00:00",
          "2002-02-01T00:00:00",
          "2002-03-01T00:00:00",
          "2002-04-01T00:00:00",
          "2002-05-01T00:00:00",
          "2002-06-01T00:00:00",
          "2002-07-01T00:00:00",
          "2002-08-01T00:00:00",
          "2002-09-01T00:00:00",
          "2002-10-01T00:00:00",
          "2002-11-01T00:00:00",
          "2002-12-01T00:00:00",
          "2003-01-01T00:00:00",
          "2003-02-01T00:00:00",
          "2003-03-01T00:00:00",
          "2003-04-01T00:00:00",
          "2003-05-01T00:00:00",
          "2003-06-01T00:00:00",
          "2003-07-01T00:00:00",
          "2003-08-01T00:00:00",
          "2003-09-01T00:00:00",
          "2003-10-01T00:00:00",
          "2003-11-01T00:00:00",
          "2003-12-01T00:00:00",
          "2004-01-01T00:00:00",
          "2004-02-01T00:00:00",
          "2004-03-01T00:00:00",
          "2004-04-01T00:00:00",
          "2004-05-01T00:00:00",
          "2004-06-01T00:00:00",
          "2004-07-01T00:00:00",
          "2004-08-01T00:00:00",
          "2004-09-01T00:00:00",
          "2004-10-01T00:00:00",
          "2004-11-01T00:00:00",
          "2004-12-01T00:00:00",
          "2005-01-01T00:00:00",
          "2005-02-01T00:00:00",
          "2005-03-01T00:00:00",
          "2005-04-01T00:00:00",
          "2005-05-01T00:00:00",
          "2005-06-01T00:00:00",
          "2005-07-01T00:00:00",
          "2005-08-01T00:00:00",
          "2005-09-01T00:00:00",
          "2005-10-01T00:00:00",
          "2005-11-01T00:00:00",
          "2005-12-01T00:00:00",
          "2006-01-01T00:00:00",
          "2006-02-01T00:00:00",
          "2006-03-01T00:00:00",
          "2006-04-01T00:00:00",
          "2006-05-01T00:00:00",
          "2006-06-01T00:00:00",
          "2006-07-01T00:00:00",
          "2006-08-01T00:00:00",
          "2006-09-01T00:00:00",
          "2006-10-01T00:00:00",
          "2006-11-01T00:00:00",
          "2006-12-01T00:00:00",
          "2007-01-01T00:00:00",
          "2007-02-01T00:00:00",
          "2007-03-01T00:00:00",
          "2007-04-01T00:00:00",
          "2007-05-01T00:00:00",
          "2007-06-01T00:00:00",
          "2007-07-01T00:00:00",
          "2007-08-01T00:00:00",
          "2007-09-01T00:00:00",
          "2007-10-01T00:00:00",
          "2007-11-01T00:00:00",
          "2007-12-01T00:00:00",
          "2008-01-01T00:00:00",
          "2008-02-01T00:00:00",
          "2008-03-01T00:00:00",
          "2008-04-01T00:00:00",
          "2008-05-01T00:00:00",
          "2008-06-01T00:00:00",
          "2008-07-01T00:00:00",
          "2008-08-01T00:00:00",
          "2008-09-01T00:00:00",
          "2008-10-01T00:00:00",
          "2008-11-01T00:00:00",
          "2008-12-01T00:00:00",
          "2009-01-01T00:00:00",
          "2009-02-01T00:00:00",
          "2009-03-01T00:00:00",
          "2009-04-01T00:00:00",
          "2009-05-01T00:00:00",
          "2009-06-01T00:00:00",
          "2009-07-01T00:00:00",
          "2009-08-01T00:00:00",
          "2009-09-01T00:00:00",
          "2009-10-01T00:00:00",
          "2009-11-01T00:00:00",
          "2009-12-01T00:00:00",
          "2010-01-01T00:00:00",
          "2010-02-01T00:00:00",
          "2010-03-01T00:00:00",
          "2010-04-01T00:00:00",
          "2010-05-01T00:00:00",
          "2010-06-01T00:00:00",
          "2010-07-01T00:00:00",
          "2010-08-01T00:00:00",
          "2010-09-01T00:00:00",
          "2010-10-01T00:00:00",
          "2010-11-01T00:00:00",
          "2010-12-01T00:00:00",
          "2011-01-01T00:00:00",
          "2011-02-01T00:00:00",
          "2011-03-01T00:00:00",
          "2011-04-01T00:00:00",
          "2011-05-01T00:00:00",
          "2011-06-01T00:00:00",
          "2011-07-01T00:00:00",
          "2011-08-01T00:00:00",
          "2011-09-01T00:00:00",
          "2011-10-01T00:00:00",
          "2011-11-01T00:00:00",
          "2011-12-01T00:00:00",
          "2012-01-01T00:00:00",
          "2012-02-01T00:00:00",
          "2012-03-01T00:00:00",
          "2012-04-01T00:00:00",
          "2012-05-01T00:00:00",
          "2012-06-01T00:00:00",
          "2012-07-01T00:00:00",
          "2012-08-01T00:00:00",
          "2012-09-01T00:00:00",
          "2012-10-01T00:00:00",
          "2012-11-01T00:00:00",
          "2012-12-01T00:00:00",
          "2013-01-01T00:00:00",
          "2013-02-01T00:00:00",
          "2013-03-01T00:00:00",
          "2013-04-01T00:00:00",
          "2013-05-01T00:00:00",
          "2013-06-01T00:00:00",
          "2013-07-01T00:00:00",
          "2013-08-01T00:00:00",
          "2013-09-01T00:00:00",
          "2013-10-01T00:00:00",
          "2013-11-01T00:00:00",
          "2013-12-01T00:00:00",
          "2014-01-01T00:00:00",
          "2014-02-01T00:00:00",
          "2014-03-01T00:00:00",
          "2014-04-01T00:00:00",
          "2014-05-01T00:00:00",
          "2014-06-01T00:00:00",
          "2014-07-01T00:00:00",
          "2014-08-01T00:00:00",
          "2014-09-01T00:00:00",
          "2014-10-01T00:00:00",
          "2014-11-01T00:00:00",
          "2014-12-01T00:00:00",
          "2015-01-01T00:00:00",
          "2015-02-01T00:00:00",
          "2015-03-01T00:00:00",
          "2015-04-01T00:00:00",
          "2015-05-01T00:00:00",
          "2015-06-01T00:00:00",
          "2015-07-01T00:00:00",
          "2015-08-01T00:00:00",
          "2015-09-01T00:00:00",
          "2015-10-01T00:00:00",
          "2015-11-01T00:00:00",
          "2015-12-01T00:00:00",
          "2016-01-01T00:00:00",
          "2016-02-01T00:00:00",
          "2016-03-01T00:00:00",
          "2016-04-01T00:00:00",
          "2016-05-01T00:00:00",
          "2016-06-01T00:00:00",
          "2016-07-01T00:00:00",
          "2016-08-01T00:00:00",
          "2016-09-01T00:00:00",
          "2016-10-01T00:00:00",
          "2016-11-01T00:00:00",
          "2016-12-01T00:00:00",
          "2017-01-01T00:00:00",
          "2017-02-01T00:00:00",
          "2017-03-01T00:00:00",
          "2017-04-01T00:00:00",
          "2017-05-01T00:00:00",
          "2017-06-01T00:00:00",
          "2017-07-01T00:00:00",
          "2017-08-01T00:00:00",
          "2017-09-01T00:00:00",
          "2017-10-01T00:00:00",
          "2017-11-01T00:00:00",
          "2017-12-01T00:00:00",
          "2018-01-01T00:00:00",
          "2018-02-01T00:00:00",
          "2018-03-01T00:00:00",
          "2018-04-01T00:00:00",
          "2018-05-01T00:00:00",
          "2018-06-01T00:00:00",
          "2018-07-01T00:00:00",
          "2018-08-01T00:00:00",
          "2018-09-01T00:00:00",
          "2018-10-01T00:00:00",
          "2018-11-01T00:00:00",
          "2018-12-01T00:00:00",
          "2019-01-01T00:00:00",
          "2019-02-01T00:00:00",
          "2019-03-01T00:00:00",
          "2019-04-01T00:00:00",
          "2019-05-01T00:00:00",
          "2019-06-01T00:00:00",
          "2019-07-01T00:00:00",
          "2019-08-01T00:00:00",
          "2019-09-01T00:00:00",
          "2019-10-01T00:00:00",
          "2019-11-01T00:00:00",
          "2019-12-01T00:00:00",
          "2020-01-01T00:00:00",
          "2020-02-01T00:00:00",
          "2020-03-01T00:00:00",
          "2020-04-01T00:00:00",
          "2020-05-01T00:00:00",
          "2020-06-01T00:00:00",
          "2020-07-01T00:00:00",
          "2020-08-01T00:00:00",
          "2020-09-01T00:00:00",
          "2020-10-01T00:00:00",
          "2020-11-01T00:00:00",
          "2020-12-01T00:00:00",
          "2021-01-01T00:00:00",
          "2021-02-01T00:00:00",
          "2021-03-01T00:00:00",
          "2021-04-01T00:00:00",
          "2021-05-01T00:00:00",
          "2021-06-01T00:00:00",
          "2021-07-01T00:00:00",
          "2021-08-01T00:00:00",
          "2021-09-01T00:00:00",
          "2021-10-01T00:00:00",
          "2021-11-01T00:00:00",
          "2021-12-01T00:00:00",
          "2022-01-01T00:00:00",
          "2022-02-01T00:00:00",
          "2022-03-01T00:00:00",
          "2022-04-01T00:00:00",
          "2022-05-01T00:00:00",
          "2022-06-01T00:00:00",
          "2022-07-01T00:00:00",
          "2022-08-01T00:00:00",
          "2022-09-01T00:00:00",
          "2022-10-01T00:00:00",
          "2022-11-01T00:00:00",
          "2022-12-01T00:00:00",
          "2023-01-01T00:00:00",
          "2023-02-01T00:00:00",
          "2023-03-01T00:00:00",
          "2023-04-01T00:00:00",
          "2023-05-01T00:00:00",
          "2023-06-01T00:00:00",
          "2023-07-01T00:00:00",
          "2023-08-01T00:00:00",
          "2023-09-01T00:00:00",
          "2023-10-01T00:00:00",
          "2023-11-01T00:00:00",
          "2023-12-01T00:00:00",
          "2024-01-01T00:00:00",
          "2024-02-01T00:00:00",
          "2024-03-01T00:00:00",
          "2024-04-01T00:00:00",
          "2024-05-01T00:00:00",
          "2024-06-01T00:00:00",
          "2024-07-01T00:00:00",
          "2024-08-01T00:00:00",
          "2024-09-01T00:00:00",
          "2024-10-01T00:00:00",
          "2024-11-01T00:00:00",
          "2024-12-01T00:00:00",
          "2025-01-01T00:00:00"
         ],
         "xaxis": "x",
         "y": [
          58.6,
          62.59999999999865,
          59.09999999999851,
          62.59999999999865,
          61.2,
          56.499999999998515,
          61.39999999999906,
          58.064745762711105,
          56.99999999999878,
          59.42622950819694,
          61.2,
          58.6,
          58.6,
          52.199999999998646,
          57.39999999999865,
          53.99999999999892,
          54.899999999999054,
          54.19999999999973,
          58.79999999999905,
          57.300000000000004,
          59.49999999999838,
          59.7999999999996,
          57.69999999999987,
          57.89999999999892,
          60.699999999999726,
          60.29999999999987,
          59.09999999999851,
          60.699999999999726,
          56.99999999999878,
          60.39999999999851,
          57.69999999999987,
          58.69999999999689,
          60.49999999999892,
          61.099999999999596,
          59.7999999999996,
          60.29999999999987,
          56.499999999998515,
          61.299999999998654,
          59.26885245901627,
          58.6,
          59.69999999999919,
          56.03639344262211,
          51.499999999999325,
          51.02542372881266,
          49.99999999999851,
          47.89999999999878,
          47.89999999999878,
          51.59999999999973,
          48.099999999999596,
          47.39999999999851,
          49.69999999999905,
          40.49999999999865,
          50.6999999999996,
          50.6999999999996,
          49.79999999999946,
          57.499999999999055,
          57.09999999999919,
          56.29999999999946,
          60.49999999999892,
          56.099999999998644,
          52.10000000000001,
          51.89999999999919,
          54.899999999999054,
          53.09999999999878,
          56.799999999999734,
          55.49999999999973,
          56.19999999999906,
          54.9999999999977,
          46.29999999999932,
          50.6999999999996,
          54.599999999999596,
          59.19999999999892,
          62.69999999999906,
          65.10000000000001,
          63.800000000000004,
          64.39999999999893,
          60.23442622950775,
          59.99999999999865,
          67.7,
          62.29999999999919,
          62.29999999999919,
          63.99999999999905,
          62.59999999999865,
          59.19999999999892,
          63.19999999999932,
          59.69999999999919,
          60.255737704916676,
          61.56918032786687,
          63.586885245903105,
          64.9999999999996,
          61.89999999999932,
          61.672203389830216,
          61.299999999998654,
          58.6,
          57.499999999999055,
          60.699999999999726,
          61.299999999998654,
          64.79999999999878,
          55.19999999999851,
          59.19999999999892,
          59.19999999999892,
          60.099999999999056,
          58.6,
          61.79999999999892,
          59.99999999999865,
          61.299999999998654,
          58.09999999999973,
          56.399999999999864,
          56.29999999999946,
          56.69999999999932,
          54.39999999999878,
          56.89999999999837,
          59.19999999999892,
          56.099999999998644,
          57.59999999999946,
          55.24576271186529,
          53.09999999999878,
          56.099999999998644,
          58.29999999999878,
          59.19999999999892,
          56.99999999999878,
          55.79999999999919,
          54.79999999999865,
          55.19999999999851,
          56.00000000000001,
          53.19999999999919,
          41.39999999999878,
          52.10000000000001,
          51.999999999999595,
          50.999999999999055,
          53.599999999999056,
          49.599999999998644,
          50.999999999999055,
          51.19999999999987,
          49.99999999999851,
          40.60688524590776,
          34.399999999999224,
          40.43114754098264,
          43.89999999999837,
          40.89999999999851,
          43.19999999999906,
          45.199999999998376,
          43.29999999999946,
          48.79999999999892,
          47.19999999999946,
          51.999999999999595,
          54.07049180327578,
          54.899999999999054,
          51.59999999999973,
          52.499999999999865,
          51.59999999999973,
          54.47694915254175,
          57.79999999999851,
          59.9,
          61.299999999998654,
          59.29999999999932,
          57.300000000000004,
          55.399999999999324,
          52.899999999999736,
          59.7999999999996,
          59.09999999999851,
          62.29999999999919,
          61.599999999999866,
          63.800000000000004,
          58.6,
          56.99999999999878,
          54.899999999999054,
          56.29999999999946,
          56.29999999999946,
          55.69999999999878,
          56.19999999999906,
          53.99999999999892,
          55.79999999999919,
          56.00000000000001,
          61.2,
          60.232666666665864,
          59.29999999999932,
          56.99999999999878,
          56.00000000000001,
          56.00000000000001,
          54.79999999999865,
          52.199999999998646,
          57.79999999999851,
          57.418688524589435,
          57.39999999999865,
          61.69999999999851,
          57.300000000000004,
          58.87966101694755,
          59.29999999999932,
          55.79999999999919,
          57.1999999999996,
          54.79999999999865,
          59.09999999999851,
          55.8999999999996,
          55.099999999999866,
          57.59999999999946,
          53.2999999999996,
          56.399999999999864,
          57.79999999999851,
          56.89999999999837,
          56.99999999999878,
          60.39999999999851,
          60.099999999999056,
          60.39999999999851,
          59.399999999999736,
          61.89999999999932,
          61.599999999999866,
          59.09999999999851,
          62.099999999998374,
          61.099999999999596,
          59.9,
          60.44677966101571,
          61.2,
          60.29999999999987,
          60.79999999999837,
          60.79999999999837,
          65.29999999999905,
          63.09999999999892,
          59.9,
          59.59999999999878,
          58.39999999999919,
          59.29999999999932,
          54.79999999999865,
          57.00000000000055,
          60.49999999999892,
          57.39999999999865,
          56.59999999999892,
          57.999999999999325,
          61.49999999999946,
          54.29999999999837,
          57.999999999999325,
          57.59999999999946,
          59.99999999999865,
          59.9,
          62.15999999999827,
          62.19999999999878,
          60.699999999999726,
          61.099999999999596,
          61.099999999999596,
          59.09999999999851,
          58.699999999998646,
          57.999999999999325,
          59.19999999999892,
          62.69999999999906,
          59.39180327868749,
          59.09999999999851,
          61.50000000000021,
          62.099999999998374,
          59.59999999999878,
          60.099999999999056,
          59.09999999999851,
          62.29999999999919,
          59.69999999999919,
          62.099999999998374,
          63.59999999999919,
          63.6999999999996,
          64.09999999999945,
          61.69999999999851,
          58.29999999999878,
          65.10000000000001,
          58.39999999999919,
          58.89999999999946,
          59.69999999999919,
          57.999999999999325,
          54.599999999999596,
          59.99999999999865,
          56.69999999999932,
          56.00000000000001,
          52.199999999998646,
          58.6,
          61.599999999999866,
          59.39999999999797,
          48.99999999999973,
          26.099999999999127,
          41.19999999999973,
          65.29999999999905,
          63.89999999999865,
          62.099999999998374,
          62.50000000000001,
          60.29999999999987,
          57.39999999999865,
          59.7999999999996,
          60.59999999999932,
          57.69999999999987,
          68.39999999999932,
          63.59999999999919,
          66.2999999999996,
          62.099999999998374,
          66.09999999999879,
          60.29999999999987,
          62.99999999999851,
          68.39999999999932,
          70.39999999999866,
          66.49999999999865,
          61.299999999998654,
          56.19999999999906,
          57.499999999999055,
          59.19999999999892,
          55.79999999999919,
          57.1999999999996,
          58.999999999999865,
          59.29999999999932,
          58.29999999999878,
          55.599999999998374,
          61.599999999999866,
          53.49999999999865,
          60.39999999999851,
          55.399999999999324,
          55.399999999999324,
          51.999999999999595,
          51.499999999999325,
          59.19999999999892,
          57.09999999999919,
          57.300000000000004,
          58.79999999999905,
          54.099999999999326,
          54.899999999999054,
          55.79999999999919,
          55.79999999999919,
          57.1999999999996,
          57.39999999999865,
          50.89999999999865,
          61.2,
          49.599999999998644,
          54.49999999999919,
          53.2999999999996,
          59.9,
          57.69999999999987,
          55.69999999999878,
          57.999999999999325,
          54.49999999999919
         ],
         "yaxis": "y"
        }
       ],
       "layout": {
        "annotations": [
         {
          "align": "left",
          "bgcolor": "rgba(255, 255, 255, 0.8)",
          "bordercolor": "black",
          "borderwidth": 1,
          "font": {
           "size": 10
          },
          "showarrow": false,
          "text": "Source: Trading Economics<br>Original Source: Institute for Supply Management<br>Frequency: MS",
          "x": 0,
          "xanchor": "left",
          "xref": "paper",
          "y": -0.23,
          "yanchor": "bottom",
          "yref": "paper"
         }
        ],
        "legend": {
         "orientation": "h",
         "title": {
          "text": ""
         },
         "tracegroupgap": 0,
         "x": 0.5,
         "xanchor": "center",
         "y": -0.2,
         "yanchor": "bottom"
        },
        "margin": {
         "t": 60
        },
        "template": {
         "data": {
          "bar": [
           {
            "error_x": {
             "color": "#2a3f5f"
            },
            "error_y": {
             "color": "#2a3f5f"
            },
            "marker": {
             "line": {
              "color": "#E5ECF6",
              "width": 0.5
             },
             "pattern": {
              "fillmode": "overlay",
              "size": 10,
              "solidity": 0.2
             }
            },
            "type": "bar"
           }
          ],
          "barpolar": [
           {
            "marker": {
             "line": {
              "color": "#E5ECF6",
              "width": 0.5
             },
             "pattern": {
              "fillmode": "overlay",
              "size": 10,
              "solidity": 0.2
             }
            },
            "type": "barpolar"
           }
          ],
          "carpet": [
           {
            "aaxis": {
             "endlinecolor": "#2a3f5f",
             "gridcolor": "white",
             "linecolor": "white",
             "minorgridcolor": "white",
             "startlinecolor": "#2a3f5f"
            },
            "baxis": {
             "endlinecolor": "#2a3f5f",
             "gridcolor": "white",
             "linecolor": "white",
             "minorgridcolor": "white",
             "startlinecolor": "#2a3f5f"
            },
            "type": "carpet"
           }
          ],
          "choropleth": [
           {
            "colorbar": {
             "outlinewidth": 0,
             "ticks": ""
            },
            "type": "choropleth"
           }
          ],
          "contour": [
           {
            "colorbar": {
             "outlinewidth": 0,
             "ticks": ""
            },
            "colorscale": [
             [
              0,
              "#0d0887"
             ],
             [
              0.1111111111111111,
              "#46039f"
             ],
             [
              0.2222222222222222,
              "#7201a8"
             ],
             [
              0.3333333333333333,
              "#9c179e"
             ],
             [
              0.4444444444444444,
              "#bd3786"
             ],
             [
              0.5555555555555556,
              "#d8576b"
             ],
             [
              0.6666666666666666,
              "#ed7953"
             ],
             [
              0.7777777777777778,
              "#fb9f3a"
             ],
             [
              0.8888888888888888,
              "#fdca26"
             ],
             [
              1,
              "#f0f921"
             ]
            ],
            "type": "contour"
           }
          ],
          "contourcarpet": [
           {
            "colorbar": {
             "outlinewidth": 0,
             "ticks": ""
            },
            "type": "contourcarpet"
           }
          ],
          "heatmap": [
           {
            "colorbar": {
             "outlinewidth": 0,
             "ticks": ""
            },
            "colorscale": [
             [
              0,
              "#0d0887"
             ],
             [
              0.1111111111111111,
              "#46039f"
             ],
             [
              0.2222222222222222,
              "#7201a8"
             ],
             [
              0.3333333333333333,
              "#9c179e"
             ],
             [
              0.4444444444444444,
              "#bd3786"
             ],
             [
              0.5555555555555556,
              "#d8576b"
             ],
             [
              0.6666666666666666,
              "#ed7953"
             ],
             [
              0.7777777777777778,
              "#fb9f3a"
             ],
             [
              0.8888888888888888,
              "#fdca26"
             ],
             [
              1,
              "#f0f921"
             ]
            ],
            "type": "heatmap"
           }
          ],
          "heatmapgl": [
           {
            "colorbar": {
             "outlinewidth": 0,
             "ticks": ""
            },
            "colorscale": [
             [
              0,
              "#0d0887"
             ],
             [
              0.1111111111111111,
              "#46039f"
             ],
             [
              0.2222222222222222,
              "#7201a8"
             ],
             [
              0.3333333333333333,
              "#9c179e"
             ],
             [
              0.4444444444444444,
              "#bd3786"
             ],
             [
              0.5555555555555556,
              "#d8576b"
             ],
             [
              0.6666666666666666,
              "#ed7953"
             ],
             [
              0.7777777777777778,
              "#fb9f3a"
             ],
             [
              0.8888888888888888,
              "#fdca26"
             ],
             [
              1,
              "#f0f921"
             ]
            ],
            "type": "heatmapgl"
           }
          ],
          "histogram": [
           {
            "marker": {
             "pattern": {
              "fillmode": "overlay",
              "size": 10,
              "solidity": 0.2
             }
            },
            "type": "histogram"
           }
          ],
          "histogram2d": [
           {
            "colorbar": {
             "outlinewidth": 0,
             "ticks": ""
            },
            "colorscale": [
             [
              0,
              "#0d0887"
             ],
             [
              0.1111111111111111,
              "#46039f"
             ],
             [
              0.2222222222222222,
              "#7201a8"
             ],
             [
              0.3333333333333333,
              "#9c179e"
             ],
             [
              0.4444444444444444,
              "#bd3786"
             ],
             [
              0.5555555555555556,
              "#d8576b"
             ],
             [
              0.6666666666666666,
              "#ed7953"
             ],
             [
              0.7777777777777778,
              "#fb9f3a"
             ],
             [
              0.8888888888888888,
              "#fdca26"
             ],
             [
              1,
              "#f0f921"
             ]
            ],
            "type": "histogram2d"
           }
          ],
          "histogram2dcontour": [
           {
            "colorbar": {
             "outlinewidth": 0,
             "ticks": ""
            },
            "colorscale": [
             [
              0,
              "#0d0887"
             ],
             [
              0.1111111111111111,
              "#46039f"
             ],
             [
              0.2222222222222222,
              "#7201a8"
             ],
             [
              0.3333333333333333,
              "#9c179e"
             ],
             [
              0.4444444444444444,
              "#bd3786"
             ],
             [
              0.5555555555555556,
              "#d8576b"
             ],
             [
              0.6666666666666666,
              "#ed7953"
             ],
             [
              0.7777777777777778,
              "#fb9f3a"
             ],
             [
              0.8888888888888888,
              "#fdca26"
             ],
             [
              1,
              "#f0f921"
             ]
            ],
            "type": "histogram2dcontour"
           }
          ],
          "mesh3d": [
           {
            "colorbar": {
             "outlinewidth": 0,
             "ticks": ""
            },
            "type": "mesh3d"
           }
          ],
          "parcoords": [
           {
            "line": {
             "colorbar": {
              "outlinewidth": 0,
              "ticks": ""
             }
            },
            "type": "parcoords"
           }
          ],
          "pie": [
           {
            "automargin": true,
            "type": "pie"
           }
          ],
          "scatter": [
           {
            "fillpattern": {
             "fillmode": "overlay",
             "size": 10,
             "solidity": 0.2
            },
            "type": "scatter"
           }
          ],
          "scatter3d": [
           {
            "line": {
             "colorbar": {
              "outlinewidth": 0,
              "ticks": ""
             }
            },
            "marker": {
             "colorbar": {
              "outlinewidth": 0,
              "ticks": ""
             }
            },
            "type": "scatter3d"
           }
          ],
          "scattercarpet": [
           {
            "marker": {
             "colorbar": {
              "outlinewidth": 0,
              "ticks": ""
             }
            },
            "type": "scattercarpet"
           }
          ],
          "scattergeo": [
           {
            "marker": {
             "colorbar": {
              "outlinewidth": 0,
              "ticks": ""
             }
            },
            "type": "scattergeo"
           }
          ],
          "scattergl": [
           {
            "marker": {
             "colorbar": {
              "outlinewidth": 0,
              "ticks": ""
             }
            },
            "type": "scattergl"
           }
          ],
          "scattermapbox": [
           {
            "marker": {
             "colorbar": {
              "outlinewidth": 0,
              "ticks": ""
             }
            },
            "type": "scattermapbox"
           }
          ],
          "scatterpolar": [
           {
            "marker": {
             "colorbar": {
              "outlinewidth": 0,
              "ticks": ""
             }
            },
            "type": "scatterpolar"
           }
          ],
          "scatterpolargl": [
           {
            "marker": {
             "colorbar": {
              "outlinewidth": 0,
              "ticks": ""
             }
            },
            "type": "scatterpolargl"
           }
          ],
          "scatterternary": [
           {
            "marker": {
             "colorbar": {
              "outlinewidth": 0,
              "ticks": ""
             }
            },
            "type": "scatterternary"
           }
          ],
          "surface": [
           {
            "colorbar": {
             "outlinewidth": 0,
             "ticks": ""
            },
            "colorscale": [
             [
              0,
              "#0d0887"
             ],
             [
              0.1111111111111111,
              "#46039f"
             ],
             [
              0.2222222222222222,
              "#7201a8"
             ],
             [
              0.3333333333333333,
              "#9c179e"
             ],
             [
              0.4444444444444444,
              "#bd3786"
             ],
             [
              0.5555555555555556,
              "#d8576b"
             ],
             [
              0.6666666666666666,
              "#ed7953"
             ],
             [
              0.7777777777777778,
              "#fb9f3a"
             ],
             [
              0.8888888888888888,
              "#fdca26"
             ],
             [
              1,
              "#f0f921"
             ]
            ],
            "type": "surface"
           }
          ],
          "table": [
           {
            "cells": {
             "fill": {
              "color": "#EBF0F8"
             },
             "line": {
              "color": "white"
             }
            },
            "header": {
             "fill": {
              "color": "#C8D4E3"
             },
             "line": {
              "color": "white"
             }
            },
            "type": "table"
           }
          ]
         },
         "layout": {
          "annotationdefaults": {
           "arrowcolor": "#2a3f5f",
           "arrowhead": 0,
           "arrowwidth": 1
          },
          "autotypenumbers": "strict",
          "coloraxis": {
           "colorbar": {
            "outlinewidth": 0,
            "ticks": ""
           }
          },
          "colorscale": {
           "diverging": [
            [
             0,
             "#8e0152"
            ],
            [
             0.1,
             "#c51b7d"
            ],
            [
             0.2,
             "#de77ae"
            ],
            [
             0.3,
             "#f1b6da"
            ],
            [
             0.4,
             "#fde0ef"
            ],
            [
             0.5,
             "#f7f7f7"
            ],
            [
             0.6,
             "#e6f5d0"
            ],
            [
             0.7,
             "#b8e186"
            ],
            [
             0.8,
             "#7fbc41"
            ],
            [
             0.9,
             "#4d9221"
            ],
            [
             1,
             "#276419"
            ]
           ],
           "sequential": [
            [
             0,
             "#0d0887"
            ],
            [
             0.1111111111111111,
             "#46039f"
            ],
            [
             0.2222222222222222,
             "#7201a8"
            ],
            [
             0.3333333333333333,
             "#9c179e"
            ],
            [
             0.4444444444444444,
             "#bd3786"
            ],
            [
             0.5555555555555556,
             "#d8576b"
            ],
            [
             0.6666666666666666,
             "#ed7953"
            ],
            [
             0.7777777777777778,
             "#fb9f3a"
            ],
            [
             0.8888888888888888,
             "#fdca26"
            ],
            [
             1,
             "#f0f921"
            ]
           ],
           "sequentialminus": [
            [
             0,
             "#0d0887"
            ],
            [
             0.1111111111111111,
             "#46039f"
            ],
            [
             0.2222222222222222,
             "#7201a8"
            ],
            [
             0.3333333333333333,
             "#9c179e"
            ],
            [
             0.4444444444444444,
             "#bd3786"
            ],
            [
             0.5555555555555556,
             "#d8576b"
            ],
            [
             0.6666666666666666,
             "#ed7953"
            ],
            [
             0.7777777777777778,
             "#fb9f3a"
            ],
            [
             0.8888888888888888,
             "#fdca26"
            ],
            [
             1,
             "#f0f921"
            ]
           ]
          },
          "colorway": [
           "#636efa",
           "#EF553B",
           "#00cc96",
           "#ab63fa",
           "#FFA15A",
           "#19d3f3",
           "#FF6692",
           "#B6E880",
           "#FF97FF",
           "#FECB52"
          ],
          "font": {
           "color": "#2a3f5f"
          },
          "geo": {
           "bgcolor": "white",
           "lakecolor": "white",
           "landcolor": "#E5ECF6",
           "showlakes": true,
           "showland": true,
           "subunitcolor": "white"
          },
          "hoverlabel": {
           "align": "left"
          },
          "hovermode": "closest",
          "mapbox": {
           "style": "light"
          },
          "paper_bgcolor": "white",
          "plot_bgcolor": "#E5ECF6",
          "polar": {
           "angularaxis": {
            "gridcolor": "white",
            "linecolor": "white",
            "ticks": ""
           },
           "bgcolor": "#E5ECF6",
           "radialaxis": {
            "gridcolor": "white",
            "linecolor": "white",
            "ticks": ""
           }
          },
          "scene": {
           "xaxis": {
            "backgroundcolor": "#E5ECF6",
            "gridcolor": "white",
            "gridwidth": 2,
            "linecolor": "white",
            "showbackground": true,
            "ticks": "",
            "zerolinecolor": "white"
           },
           "yaxis": {
            "backgroundcolor": "#E5ECF6",
            "gridcolor": "white",
            "gridwidth": 2,
            "linecolor": "white",
            "showbackground": true,
            "ticks": "",
            "zerolinecolor": "white"
           },
           "zaxis": {
            "backgroundcolor": "#E5ECF6",
            "gridcolor": "white",
            "gridwidth": 2,
            "linecolor": "white",
            "showbackground": true,
            "ticks": "",
            "zerolinecolor": "white"
           }
          },
          "shapedefaults": {
           "line": {
            "color": "#2a3f5f"
           }
          },
          "ternary": {
           "aaxis": {
            "gridcolor": "white",
            "linecolor": "white",
            "ticks": ""
           },
           "baxis": {
            "gridcolor": "white",
            "linecolor": "white",
            "ticks": ""
           },
           "bgcolor": "#E5ECF6",
           "caxis": {
            "gridcolor": "white",
            "linecolor": "white",
            "ticks": ""
           }
          },
          "title": {
           "x": 0.05
          },
          "xaxis": {
           "automargin": true,
           "gridcolor": "white",
           "linecolor": "white",
           "ticks": "",
           "title": {
            "standoff": 15
           },
           "zerolinecolor": "white",
           "zerolinewidth": 2
          },
          "yaxis": {
           "automargin": true,
           "gridcolor": "white",
           "linecolor": "white",
           "ticks": "",
           "title": {
            "standoff": 15
           },
           "zerolinecolor": "white",
           "zerolinewidth": 2
          }
         }
        },
        "title": {
         "text": "United states: United states ism services business activity"
        },
        "xaxis": {
         "anchor": "y",
         "domain": [
          0,
          1
         ],
         "title": {
          "text": ""
         }
        },
        "yaxis": {
         "anchor": "x",
         "domain": [
          0,
          1
         ],
         "title": {
          "text": "Points"
         }
        }
       }
      }
     },
     "metadata": {},
     "output_type": "display_data"
    }
   ],
   "source": [
    "scraped = search.scraped_data\n",
    "scraped.plot_series(ann_box_pos=(0, -0.23))  # Yu can move the annotation box around by changing the values of ann_box_pos."
   ]
  },
  {
   "cell_type": "code",
   "execution_count": null,
   "metadata": {},
   "outputs": [],
   "source": [
    "scraped.save_plot(format=\"html\")  #Export static plot as png if you wish. Use format=\"html\" for interactive plot export."
   ]
  },
  {
   "cell_type": "code",
   "execution_count": 74,
   "metadata": {},
   "outputs": [
    {
     "data": {
      "text/plain": [
       "{'units': 'points',\n",
       " 'original_source': 'Institute for Supply Management',\n",
       " 'title': 'United States ISM Services Business Activity',\n",
       " 'indicator': 'ism non manufacturing business activity',\n",
       " 'country': 'united states',\n",
       " 'length': 331,\n",
       " 'frequency': 'MS',\n",
       " 'source': 'Trading Economics',\n",
       " 'id': 'united-states/ism-non-manufacturing-business-activity',\n",
       " 'start_date': '1997-07-01',\n",
       " 'end_date': '2025-01-01',\n",
       " 'min_value': 26.099999999999127,\n",
       " 'max_value': 70.39999999999866,\n",
       " 'description': 'The Non-Manufacturing ISM Report On Business is based on data compiled from purchasing and supply executives nationwide. Survey responses reflect the change, if any, in the current month compared to the previous month. For each of the indicators measured (Business Activity, New Orders, Backlog of Orders, New Export Orders, Inventory Change, Inventory Sentiment, Imports, Prices, Employment and Supplier Deliveries) this report shows the percentage reporting each response, and the diffusion index. An index reading above 50 percent indicates that the non-manufacturing economy in that index is generally expanding; below 50 percent indicates that it is generally declining. Orders to the service producers make up about 90 percent of the US economy.'}"
      ]
     },
     "execution_count": 74,
     "metadata": {},
     "output_type": "execute_result"
    }
   ],
   "source": [
    "scraped.metadata"
   ]
  },
  {
   "cell_type": "markdown",
   "metadata": {},
   "source": [
    "# Method #2: Download data for a given Indicator + Country combination or a given URL with a single line.\n",
    "\n",
    "Sometimes you may get an error straight away on the first run of the ```scrape_chart``` method. Error message will be something about error establising a connection.\n",
    "\n",
    "Noted error messages for this: \n",
    "- Error loading page: Message: Failed to write request to stream\n",
    "- Error loading page: Message: Tried to run command without establishing a connection\n",
    "\n",
    "Just try again if so, it has always worked for me the second time unless internet connection is down or too slow."
   ]
  },
  {
   "cell_type": "code",
   "execution_count": 76,
   "metadata": {},
   "outputs": [
    {
     "name": "stderr",
     "output_type": "stream",
     "text": [
      "INFO - scrape_chart function: Scraping chart at: https://tradingeconomics.com/united-states/jobless-claims, time: 2025-02-13 12:39:01.406948\n",
      "INFO - WebPage at https://tradingeconomics.com/united-states/jobless-claims loaded successfully.\n"
     ]
    },
    {
     "name": "stdout",
     "output_type": "stream",
     "text": [
      "Using selenium and tooltip scraping to construct the date time index for the time-series, this'll take a bit...\n"
     ]
    },
    {
     "name": "stderr",
     "output_type": "stream",
     "text": [
      "INFO - Date span set to: MAX\n",
      "INFO - Chart types dictionary created successfully: dict_keys(['Column', 'Spline', 'Areaspline', 'Stepline', 'Line', 'Area'])\n",
      "INFO - Chart type set to: Line\n",
      "INFO - Chart types dictionary created successfully: dict_keys(['Column', 'Spline', 'Areaspline', 'Stepline', 'Line', 'Area'])\n",
      "INFO - Line chart type selected.\n"
     ]
    },
    {
     "name": "stdout",
     "output_type": "stream",
     "text": [
      "Got chart dimensions and plot background element.\n"
     ]
    },
    {
     "name": "stderr",
     "output_type": "stream",
     "text": [
      "INFO - Start and end values scraped from tooltips: \n",
      "{'start_date': Timestamp('1967-01-07 00:00:00'), 'start_value': 208.0, 'end_date': Timestamp('2025-02-01 00:00:00'), 'end_value': 219.0}\n",
      "INFO - Date span set to: 1Y\n",
      "INFO - Line chart type selected.\n"
     ]
    },
    {
     "name": "stdout",
     "output_type": "stream",
     "text": [
      "431.0\n"
     ]
    },
    {
     "name": "stderr",
     "output_type": "stream",
     "text": [
      "INFO - DateTimeIndex created successfully for the time-series.\n"
     ]
    },
    {
     "name": "stdout",
     "output_type": "stream",
     "text": [
      "Latest dates:  [Timestamp('2025-02-01 00:00:00'), Timestamp('2025-01-25 00:00:00'), Timestamp('2025-01-18 00:00:00'), Timestamp('2025-01-11 00:00:00'), Timestamp('2025-01-04 00:00:00'), Timestamp('2024-12-28 00:00:00'), Timestamp('2024-12-21 00:00:00'), Timestamp('2024-12-14 00:00:00'), Timestamp('2024-12-07 00:00:00'), Timestamp('2024-11-23 00:00:00')]\n",
      "Frequency of time-series:  W-SAT\n"
     ]
    },
    {
     "name": "stderr",
     "output_type": "stream",
     "text": [
      "INFO - Date span set to: MAX\n",
      "INFO - Y-axis values scraped successfully.\n",
      "INFO - Chart type set to: Spline\n",
      "INFO - Series path extraction method: Extracting series data from chart soup.\n",
      "INFO - Date span: MAX. Chart type: splineChart, URL: https://tradingeconomics.com/united-states/jobless-claims.\n",
      "INFO - DateTimeIndex applied to series, series attribute updated.\n",
      "/Users/jamesbishop/Documents/Python/Scraping/tedata/src/tedata/scraper.py:469: RuntimeWarning:\n",
      "\n",
      "divide by zero encountered in scalar divide\n",
      "\n",
      "INFO - Successfully scaled series.\n",
      "INFO - Successfully scraped time-series from chart at:  https://tradingeconomics.com/united-states/jobless-claims, now getting some metadata...\n",
      "INFO - \n",
      "Series metadata: \n",
      " {'units': 'Thousand', 'original_source': 'U.S. Department of Labor', 'title': 'United States Initial Jobless Claims', 'indicator': 'jobless claims', 'country': 'united states', 'length': 3031, 'frequency': 'W-SAT', 'source': 'Trading Economics', 'id': 'united-states/jobless-claims', 'start_date': '1967-01-07', 'end_date': '2025-02-01', 'min_value': 162.00000000000253, 'max_value': 6136.999999999924}\n"
     ]
    },
    {
     "name": "stdout",
     "output_type": "stream",
     "text": [
      "Got metadata. \n",
      "\n",
      "Series tail: 2025-01-04    207.6\n",
      "2025-01-11    203.0\n",
      "2025-01-18    221.0\n",
      "2025-01-25    223.0\n",
      "2025-02-01    208.0\n",
      "Freq: W-SAT, Name: jobless claims, dtype: float64 \n",
      "\n",
      "Scraping complete! Happy pirating yo!\n"
     ]
    }
   ],
   "source": [
    "scraped = ted.scrape_chart(id = \"jobless-claims\") ## Using chart id from the url only, country is \"united-states\" by default."
   ]
  },
  {
   "cell_type": "code",
   "execution_count": 77,
   "metadata": {},
   "outputs": [
    {
     "data": {
      "application/vnd.plotly.v1+json": {
       "config": {
        "plotlyServerURL": "https://plot.ly"
       },
       "data": [
        {
         "hovertemplate": "variable=jobless claims<br>index=%{x}<br>value=%{y}<extra></extra>",
         "legendgroup": "jobless claims",
         "line": {
          "color": "#636efa",
          "dash": "solid"
         },
         "marker": {
          "symbol": "circle"
         },
         "mode": "lines",
         "name": "jobless claims",
         "showlegend": true,
         "type": "scattergl",
         "x": [
          "1967-01-07T00:00:00",
          "1967-01-14T00:00:00",
          "1967-01-21T00:00:00",
          "1967-01-28T00:00:00",
          "1967-02-04T00:00:00",
          "1967-02-11T00:00:00",
          "1967-02-18T00:00:00",
          "1967-02-25T00:00:00",
          "1967-03-04T00:00:00",
          "1967-03-11T00:00:00",
          "1967-03-18T00:00:00",
          "1967-03-25T00:00:00",
          "1967-04-01T00:00:00",
          "1967-04-08T00:00:00",
          "1967-04-15T00:00:00",
          "1967-04-22T00:00:00",
          "1967-04-29T00:00:00",
          "1967-05-06T00:00:00",
          "1967-05-13T00:00:00",
          "1967-05-20T00:00:00",
          "1967-05-27T00:00:00",
          "1967-06-03T00:00:00",
          "1967-06-10T00:00:00",
          "1967-06-17T00:00:00",
          "1967-06-24T00:00:00",
          "1967-07-01T00:00:00",
          "1967-07-08T00:00:00",
          "1967-07-15T00:00:00",
          "1967-07-22T00:00:00",
          "1967-07-29T00:00:00",
          "1967-08-05T00:00:00",
          "1967-08-12T00:00:00",
          "1967-08-19T00:00:00",
          "1967-08-26T00:00:00",
          "1967-09-02T00:00:00",
          "1967-09-09T00:00:00",
          "1967-09-16T00:00:00",
          "1967-09-23T00:00:00",
          "1967-09-30T00:00:00",
          "1967-10-07T00:00:00",
          "1967-10-14T00:00:00",
          "1967-10-21T00:00:00",
          "1967-10-28T00:00:00",
          "1967-11-04T00:00:00",
          "1967-11-11T00:00:00",
          "1967-11-18T00:00:00",
          "1967-11-25T00:00:00",
          "1967-12-02T00:00:00",
          "1967-12-09T00:00:00",
          "1967-12-16T00:00:00",
          "1967-12-23T00:00:00",
          "1967-12-30T00:00:00",
          "1968-01-06T00:00:00",
          "1968-01-13T00:00:00",
          "1968-01-20T00:00:00",
          "1968-01-27T00:00:00",
          "1968-02-03T00:00:00",
          "1968-02-10T00:00:00",
          "1968-02-17T00:00:00",
          "1968-02-24T00:00:00",
          "1968-03-02T00:00:00",
          "1968-03-09T00:00:00",
          "1968-03-16T00:00:00",
          "1968-03-23T00:00:00",
          "1968-03-30T00:00:00",
          "1968-04-06T00:00:00",
          "1968-04-13T00:00:00",
          "1968-04-20T00:00:00",
          "1968-04-27T00:00:00",
          "1968-05-04T00:00:00",
          "1968-05-11T00:00:00",
          "1968-05-18T00:00:00",
          "1968-05-25T00:00:00",
          "1968-06-01T00:00:00",
          "1968-06-08T00:00:00",
          "1968-06-15T00:00:00",
          "1968-06-22T00:00:00",
          "1968-06-29T00:00:00",
          "1968-07-06T00:00:00",
          "1968-07-13T00:00:00",
          "1968-07-20T00:00:00",
          "1968-07-27T00:00:00",
          "1968-08-03T00:00:00",
          "1968-08-10T00:00:00",
          "1968-08-17T00:00:00",
          "1968-08-24T00:00:00",
          "1968-08-31T00:00:00",
          "1968-09-07T00:00:00",
          "1968-09-14T00:00:00",
          "1968-09-21T00:00:00",
          "1968-09-28T00:00:00",
          "1968-10-05T00:00:00",
          "1968-10-12T00:00:00",
          "1968-10-19T00:00:00",
          "1968-10-26T00:00:00",
          "1968-11-02T00:00:00",
          "1968-11-09T00:00:00",
          "1968-11-16T00:00:00",
          "1968-11-23T00:00:00",
          "1968-11-30T00:00:00",
          "1968-12-07T00:00:00",
          "1968-12-14T00:00:00",
          "1968-12-21T00:00:00",
          "1968-12-28T00:00:00",
          "1969-01-04T00:00:00",
          "1969-01-11T00:00:00",
          "1969-01-18T00:00:00",
          "1969-01-25T00:00:00",
          "1969-02-01T00:00:00",
          "1969-02-08T00:00:00",
          "1969-02-15T00:00:00",
          "1969-02-22T00:00:00",
          "1969-03-01T00:00:00",
          "1969-03-08T00:00:00",
          "1969-03-15T00:00:00",
          "1969-03-22T00:00:00",
          "1969-03-29T00:00:00",
          "1969-04-05T00:00:00",
          "1969-04-12T00:00:00",
          "1969-04-19T00:00:00",
          "1969-04-26T00:00:00",
          "1969-05-03T00:00:00",
          "1969-05-10T00:00:00",
          "1969-05-17T00:00:00",
          "1969-05-24T00:00:00",
          "1969-05-31T00:00:00",
          "1969-06-07T00:00:00",
          "1969-06-14T00:00:00",
          "1969-06-21T00:00:00",
          "1969-06-28T00:00:00",
          "1969-07-05T00:00:00",
          "1969-07-12T00:00:00",
          "1969-07-19T00:00:00",
          "1969-07-26T00:00:00",
          "1969-08-02T00:00:00",
          "1969-08-09T00:00:00",
          "1969-08-16T00:00:00",
          "1969-08-23T00:00:00",
          "1969-08-30T00:00:00",
          "1969-09-06T00:00:00",
          "1969-09-13T00:00:00",
          "1969-09-20T00:00:00",
          "1969-09-27T00:00:00",
          "1969-10-04T00:00:00",
          "1969-10-11T00:00:00",
          "1969-10-18T00:00:00",
          "1969-10-25T00:00:00",
          "1969-11-01T00:00:00",
          "1969-11-08T00:00:00",
          "1969-11-15T00:00:00",
          "1969-11-22T00:00:00",
          "1969-11-29T00:00:00",
          "1969-12-06T00:00:00",
          "1969-12-13T00:00:00",
          "1969-12-20T00:00:00",
          "1969-12-27T00:00:00",
          "1970-01-03T00:00:00",
          "1970-01-10T00:00:00",
          "1970-01-17T00:00:00",
          "1970-01-24T00:00:00",
          "1970-01-31T00:00:00",
          "1970-02-07T00:00:00",
          "1970-02-14T00:00:00",
          "1970-02-21T00:00:00",
          "1970-02-28T00:00:00",
          "1970-03-07T00:00:00",
          "1970-03-14T00:00:00",
          "1970-03-21T00:00:00",
          "1970-03-28T00:00:00",
          "1970-04-04T00:00:00",
          "1970-04-11T00:00:00",
          "1970-04-18T00:00:00",
          "1970-04-25T00:00:00",
          "1970-05-02T00:00:00",
          "1970-05-09T00:00:00",
          "1970-05-16T00:00:00",
          "1970-05-23T00:00:00",
          "1970-05-30T00:00:00",
          "1970-06-06T00:00:00",
          "1970-06-13T00:00:00",
          "1970-06-20T00:00:00",
          "1970-06-27T00:00:00",
          "1970-07-04T00:00:00",
          "1970-07-11T00:00:00",
          "1970-07-18T00:00:00",
          "1970-07-25T00:00:00",
          "1970-08-01T00:00:00",
          "1970-08-08T00:00:00",
          "1970-08-15T00:00:00",
          "1970-08-22T00:00:00",
          "1970-08-29T00:00:00",
          "1970-09-05T00:00:00",
          "1970-09-12T00:00:00",
          "1970-09-19T00:00:00",
          "1970-09-26T00:00:00",
          "1970-10-03T00:00:00",
          "1970-10-10T00:00:00",
          "1970-10-17T00:00:00",
          "1970-10-24T00:00:00",
          "1970-10-31T00:00:00",
          "1970-11-07T00:00:00",
          "1970-11-14T00:00:00",
          "1970-11-21T00:00:00",
          "1970-11-28T00:00:00",
          "1970-12-05T00:00:00",
          "1970-12-12T00:00:00",
          "1970-12-19T00:00:00",
          "1970-12-26T00:00:00",
          "1971-01-02T00:00:00",
          "1971-01-09T00:00:00",
          "1971-01-16T00:00:00",
          "1971-01-23T00:00:00",
          "1971-01-30T00:00:00",
          "1971-02-06T00:00:00",
          "1971-02-13T00:00:00",
          "1971-02-20T00:00:00",
          "1971-02-27T00:00:00",
          "1971-03-06T00:00:00",
          "1971-03-13T00:00:00",
          "1971-03-20T00:00:00",
          "1971-03-27T00:00:00",
          "1971-04-03T00:00:00",
          "1971-04-10T00:00:00",
          "1971-04-17T00:00:00",
          "1971-04-24T00:00:00",
          "1971-05-01T00:00:00",
          "1971-05-08T00:00:00",
          "1971-05-15T00:00:00",
          "1971-05-22T00:00:00",
          "1971-05-29T00:00:00",
          "1971-06-05T00:00:00",
          "1971-06-12T00:00:00",
          "1971-06-19T00:00:00",
          "1971-06-26T00:00:00",
          "1971-07-03T00:00:00",
          "1971-07-10T00:00:00",
          "1971-07-17T00:00:00",
          "1971-07-24T00:00:00",
          "1971-07-31T00:00:00",
          "1971-08-07T00:00:00",
          "1971-08-14T00:00:00",
          "1971-08-21T00:00:00",
          "1971-08-28T00:00:00",
          "1971-09-04T00:00:00",
          "1971-09-11T00:00:00",
          "1971-09-18T00:00:00",
          "1971-09-25T00:00:00",
          "1971-10-02T00:00:00",
          "1971-10-09T00:00:00",
          "1971-10-16T00:00:00",
          "1971-10-23T00:00:00",
          "1971-10-30T00:00:00",
          "1971-11-06T00:00:00",
          "1971-11-13T00:00:00",
          "1971-11-20T00:00:00",
          "1971-11-27T00:00:00",
          "1971-12-04T00:00:00",
          "1971-12-11T00:00:00",
          "1971-12-18T00:00:00",
          "1971-12-25T00:00:00",
          "1972-01-01T00:00:00",
          "1972-01-08T00:00:00",
          "1972-01-15T00:00:00",
          "1972-01-22T00:00:00",
          "1972-01-29T00:00:00",
          "1972-02-05T00:00:00",
          "1972-02-12T00:00:00",
          "1972-02-19T00:00:00",
          "1972-02-26T00:00:00",
          "1972-03-04T00:00:00",
          "1972-03-11T00:00:00",
          "1972-03-18T00:00:00",
          "1972-03-25T00:00:00",
          "1972-04-01T00:00:00",
          "1972-04-08T00:00:00",
          "1972-04-15T00:00:00",
          "1972-04-22T00:00:00",
          "1972-04-29T00:00:00",
          "1972-05-06T00:00:00",
          "1972-05-13T00:00:00",
          "1972-05-20T00:00:00",
          "1972-05-27T00:00:00",
          "1972-06-03T00:00:00",
          "1972-06-10T00:00:00",
          "1972-06-17T00:00:00",
          "1972-06-24T00:00:00",
          "1972-07-01T00:00:00",
          "1972-07-08T00:00:00",
          "1972-07-15T00:00:00",
          "1972-07-22T00:00:00",
          "1972-07-29T00:00:00",
          "1972-08-05T00:00:00",
          "1972-08-12T00:00:00",
          "1972-08-19T00:00:00",
          "1972-08-26T00:00:00",
          "1972-09-02T00:00:00",
          "1972-09-09T00:00:00",
          "1972-09-16T00:00:00",
          "1972-09-23T00:00:00",
          "1972-09-30T00:00:00",
          "1972-10-07T00:00:00",
          "1972-10-14T00:00:00",
          "1972-10-21T00:00:00",
          "1972-10-28T00:00:00",
          "1972-11-04T00:00:00",
          "1972-11-11T00:00:00",
          "1972-11-18T00:00:00",
          "1972-11-25T00:00:00",
          "1972-12-02T00:00:00",
          "1972-12-09T00:00:00",
          "1972-12-16T00:00:00",
          "1972-12-23T00:00:00",
          "1972-12-30T00:00:00",
          "1973-01-06T00:00:00",
          "1973-01-13T00:00:00",
          "1973-01-20T00:00:00",
          "1973-01-27T00:00:00",
          "1973-02-03T00:00:00",
          "1973-02-10T00:00:00",
          "1973-02-17T00:00:00",
          "1973-02-24T00:00:00",
          "1973-03-03T00:00:00",
          "1973-03-10T00:00:00",
          "1973-03-17T00:00:00",
          "1973-03-24T00:00:00",
          "1973-03-31T00:00:00",
          "1973-04-07T00:00:00",
          "1973-04-14T00:00:00",
          "1973-04-21T00:00:00",
          "1973-04-28T00:00:00",
          "1973-05-05T00:00:00",
          "1973-05-12T00:00:00",
          "1973-05-19T00:00:00",
          "1973-05-26T00:00:00",
          "1973-06-02T00:00:00",
          "1973-06-09T00:00:00",
          "1973-06-16T00:00:00",
          "1973-06-23T00:00:00",
          "1973-06-30T00:00:00",
          "1973-07-07T00:00:00",
          "1973-07-14T00:00:00",
          "1973-07-21T00:00:00",
          "1973-07-28T00:00:00",
          "1973-08-04T00:00:00",
          "1973-08-11T00:00:00",
          "1973-08-18T00:00:00",
          "1973-08-25T00:00:00",
          "1973-09-01T00:00:00",
          "1973-09-08T00:00:00",
          "1973-09-15T00:00:00",
          "1973-09-22T00:00:00",
          "1973-09-29T00:00:00",
          "1973-10-06T00:00:00",
          "1973-10-13T00:00:00",
          "1973-10-20T00:00:00",
          "1973-10-27T00:00:00",
          "1973-11-03T00:00:00",
          "1973-11-10T00:00:00",
          "1973-11-17T00:00:00",
          "1973-11-24T00:00:00",
          "1973-12-01T00:00:00",
          "1973-12-08T00:00:00",
          "1973-12-15T00:00:00",
          "1973-12-22T00:00:00",
          "1973-12-29T00:00:00",
          "1974-01-05T00:00:00",
          "1974-01-12T00:00:00",
          "1974-01-19T00:00:00",
          "1974-01-26T00:00:00",
          "1974-02-02T00:00:00",
          "1974-02-09T00:00:00",
          "1974-02-16T00:00:00",
          "1974-02-23T00:00:00",
          "1974-03-02T00:00:00",
          "1974-03-09T00:00:00",
          "1974-03-16T00:00:00",
          "1974-03-23T00:00:00",
          "1974-03-30T00:00:00",
          "1974-04-06T00:00:00",
          "1974-04-13T00:00:00",
          "1974-04-20T00:00:00",
          "1974-04-27T00:00:00",
          "1974-05-04T00:00:00",
          "1974-05-11T00:00:00",
          "1974-05-18T00:00:00",
          "1974-05-25T00:00:00",
          "1974-06-01T00:00:00",
          "1974-06-08T00:00:00",
          "1974-06-15T00:00:00",
          "1974-06-22T00:00:00",
          "1974-06-29T00:00:00",
          "1974-07-06T00:00:00",
          "1974-07-13T00:00:00",
          "1974-07-20T00:00:00",
          "1974-07-27T00:00:00",
          "1974-08-03T00:00:00",
          "1974-08-10T00:00:00",
          "1974-08-17T00:00:00",
          "1974-08-24T00:00:00",
          "1974-08-31T00:00:00",
          "1974-09-07T00:00:00",
          "1974-09-14T00:00:00",
          "1974-09-21T00:00:00",
          "1974-09-28T00:00:00",
          "1974-10-05T00:00:00",
          "1974-10-12T00:00:00",
          "1974-10-19T00:00:00",
          "1974-10-26T00:00:00",
          "1974-11-02T00:00:00",
          "1974-11-09T00:00:00",
          "1974-11-16T00:00:00",
          "1974-11-23T00:00:00",
          "1974-11-30T00:00:00",
          "1974-12-07T00:00:00",
          "1974-12-14T00:00:00",
          "1974-12-21T00:00:00",
          "1974-12-28T00:00:00",
          "1975-01-04T00:00:00",
          "1975-01-11T00:00:00",
          "1975-01-18T00:00:00",
          "1975-01-25T00:00:00",
          "1975-02-01T00:00:00",
          "1975-02-08T00:00:00",
          "1975-02-15T00:00:00",
          "1975-02-22T00:00:00",
          "1975-03-01T00:00:00",
          "1975-03-08T00:00:00",
          "1975-03-15T00:00:00",
          "1975-03-22T00:00:00",
          "1975-03-29T00:00:00",
          "1975-04-05T00:00:00",
          "1975-04-12T00:00:00",
          "1975-04-19T00:00:00",
          "1975-04-26T00:00:00",
          "1975-05-03T00:00:00",
          "1975-05-10T00:00:00",
          "1975-05-17T00:00:00",
          "1975-05-24T00:00:00",
          "1975-05-31T00:00:00",
          "1975-06-07T00:00:00",
          "1975-06-14T00:00:00",
          "1975-06-21T00:00:00",
          "1975-06-28T00:00:00",
          "1975-07-05T00:00:00",
          "1975-07-12T00:00:00",
          "1975-07-19T00:00:00",
          "1975-07-26T00:00:00",
          "1975-08-02T00:00:00",
          "1975-08-09T00:00:00",
          "1975-08-16T00:00:00",
          "1975-08-23T00:00:00",
          "1975-08-30T00:00:00",
          "1975-09-06T00:00:00",
          "1975-09-13T00:00:00",
          "1975-09-20T00:00:00",
          "1975-09-27T00:00:00",
          "1975-10-04T00:00:00",
          "1975-10-11T00:00:00",
          "1975-10-18T00:00:00",
          "1975-10-25T00:00:00",
          "1975-11-01T00:00:00",
          "1975-11-08T00:00:00",
          "1975-11-15T00:00:00",
          "1975-11-22T00:00:00",
          "1975-11-29T00:00:00",
          "1975-12-06T00:00:00",
          "1975-12-13T00:00:00",
          "1975-12-20T00:00:00",
          "1975-12-27T00:00:00",
          "1976-01-03T00:00:00",
          "1976-01-10T00:00:00",
          "1976-01-17T00:00:00",
          "1976-01-24T00:00:00",
          "1976-01-31T00:00:00",
          "1976-02-07T00:00:00",
          "1976-02-14T00:00:00",
          "1976-02-21T00:00:00",
          "1976-02-28T00:00:00",
          "1976-03-06T00:00:00",
          "1976-03-13T00:00:00",
          "1976-03-20T00:00:00",
          "1976-03-27T00:00:00",
          "1976-04-03T00:00:00",
          "1976-04-10T00:00:00",
          "1976-04-17T00:00:00",
          "1976-04-24T00:00:00",
          "1976-05-01T00:00:00",
          "1976-05-08T00:00:00",
          "1976-05-15T00:00:00",
          "1976-05-22T00:00:00",
          "1976-05-29T00:00:00",
          "1976-06-05T00:00:00",
          "1976-06-12T00:00:00",
          "1976-06-19T00:00:00",
          "1976-06-26T00:00:00",
          "1976-07-03T00:00:00",
          "1976-07-10T00:00:00",
          "1976-07-17T00:00:00",
          "1976-07-24T00:00:00",
          "1976-07-31T00:00:00",
          "1976-08-07T00:00:00",
          "1976-08-14T00:00:00",
          "1976-08-21T00:00:00",
          "1976-08-28T00:00:00",
          "1976-09-04T00:00:00",
          "1976-09-11T00:00:00",
          "1976-09-18T00:00:00",
          "1976-09-25T00:00:00",
          "1976-10-02T00:00:00",
          "1976-10-09T00:00:00",
          "1976-10-16T00:00:00",
          "1976-10-23T00:00:00",
          "1976-10-30T00:00:00",
          "1976-11-06T00:00:00",
          "1976-11-13T00:00:00",
          "1976-11-20T00:00:00",
          "1976-11-27T00:00:00",
          "1976-12-04T00:00:00",
          "1976-12-11T00:00:00",
          "1976-12-18T00:00:00",
          "1976-12-25T00:00:00",
          "1977-01-01T00:00:00",
          "1977-01-08T00:00:00",
          "1977-01-15T00:00:00",
          "1977-01-22T00:00:00",
          "1977-01-29T00:00:00",
          "1977-02-05T00:00:00",
          "1977-02-12T00:00:00",
          "1977-02-19T00:00:00",
          "1977-02-26T00:00:00",
          "1977-03-05T00:00:00",
          "1977-03-12T00:00:00",
          "1977-03-19T00:00:00",
          "1977-03-26T00:00:00",
          "1977-04-02T00:00:00",
          "1977-04-09T00:00:00",
          "1977-04-16T00:00:00",
          "1977-04-23T00:00:00",
          "1977-04-30T00:00:00",
          "1977-05-07T00:00:00",
          "1977-05-14T00:00:00",
          "1977-05-21T00:00:00",
          "1977-05-28T00:00:00",
          "1977-06-04T00:00:00",
          "1977-06-11T00:00:00",
          "1977-06-18T00:00:00",
          "1977-06-25T00:00:00",
          "1977-07-02T00:00:00",
          "1977-07-09T00:00:00",
          "1977-07-16T00:00:00",
          "1977-07-23T00:00:00",
          "1977-07-30T00:00:00",
          "1977-08-06T00:00:00",
          "1977-08-13T00:00:00",
          "1977-08-20T00:00:00",
          "1977-08-27T00:00:00",
          "1977-09-03T00:00:00",
          "1977-09-10T00:00:00",
          "1977-09-17T00:00:00",
          "1977-09-24T00:00:00",
          "1977-10-01T00:00:00",
          "1977-10-08T00:00:00",
          "1977-10-15T00:00:00",
          "1977-10-22T00:00:00",
          "1977-10-29T00:00:00",
          "1977-11-05T00:00:00",
          "1977-11-12T00:00:00",
          "1977-11-19T00:00:00",
          "1977-11-26T00:00:00",
          "1977-12-03T00:00:00",
          "1977-12-10T00:00:00",
          "1977-12-17T00:00:00",
          "1977-12-24T00:00:00",
          "1977-12-31T00:00:00",
          "1978-01-07T00:00:00",
          "1978-01-14T00:00:00",
          "1978-01-21T00:00:00",
          "1978-01-28T00:00:00",
          "1978-02-04T00:00:00",
          "1978-02-11T00:00:00",
          "1978-02-18T00:00:00",
          "1978-02-25T00:00:00",
          "1978-03-04T00:00:00",
          "1978-03-11T00:00:00",
          "1978-03-18T00:00:00",
          "1978-03-25T00:00:00",
          "1978-04-01T00:00:00",
          "1978-04-08T00:00:00",
          "1978-04-15T00:00:00",
          "1978-04-22T00:00:00",
          "1978-04-29T00:00:00",
          "1978-05-06T00:00:00",
          "1978-05-13T00:00:00",
          "1978-05-20T00:00:00",
          "1978-05-27T00:00:00",
          "1978-06-03T00:00:00",
          "1978-06-10T00:00:00",
          "1978-06-17T00:00:00",
          "1978-06-24T00:00:00",
          "1978-07-01T00:00:00",
          "1978-07-08T00:00:00",
          "1978-07-15T00:00:00",
          "1978-07-22T00:00:00",
          "1978-07-29T00:00:00",
          "1978-08-05T00:00:00",
          "1978-08-12T00:00:00",
          "1978-08-19T00:00:00",
          "1978-08-26T00:00:00",
          "1978-09-02T00:00:00",
          "1978-09-09T00:00:00",
          "1978-09-16T00:00:00",
          "1978-09-23T00:00:00",
          "1978-09-30T00:00:00",
          "1978-10-07T00:00:00",
          "1978-10-14T00:00:00",
          "1978-10-21T00:00:00",
          "1978-10-28T00:00:00",
          "1978-11-04T00:00:00",
          "1978-11-11T00:00:00",
          "1978-11-18T00:00:00",
          "1978-11-25T00:00:00",
          "1978-12-02T00:00:00",
          "1978-12-09T00:00:00",
          "1978-12-16T00:00:00",
          "1978-12-23T00:00:00",
          "1978-12-30T00:00:00",
          "1979-01-06T00:00:00",
          "1979-01-13T00:00:00",
          "1979-01-20T00:00:00",
          "1979-01-27T00:00:00",
          "1979-02-03T00:00:00",
          "1979-02-10T00:00:00",
          "1979-02-17T00:00:00",
          "1979-02-24T00:00:00",
          "1979-03-03T00:00:00",
          "1979-03-10T00:00:00",
          "1979-03-17T00:00:00",
          "1979-03-24T00:00:00",
          "1979-03-31T00:00:00",
          "1979-04-07T00:00:00",
          "1979-04-14T00:00:00",
          "1979-04-21T00:00:00",
          "1979-04-28T00:00:00",
          "1979-05-05T00:00:00",
          "1979-05-12T00:00:00",
          "1979-05-19T00:00:00",
          "1979-05-26T00:00:00",
          "1979-06-02T00:00:00",
          "1979-06-09T00:00:00",
          "1979-06-16T00:00:00",
          "1979-06-23T00:00:00",
          "1979-06-30T00:00:00",
          "1979-07-07T00:00:00",
          "1979-07-14T00:00:00",
          "1979-07-21T00:00:00",
          "1979-07-28T00:00:00",
          "1979-08-04T00:00:00",
          "1979-08-11T00:00:00",
          "1979-08-18T00:00:00",
          "1979-08-25T00:00:00",
          "1979-09-01T00:00:00",
          "1979-09-08T00:00:00",
          "1979-09-15T00:00:00",
          "1979-09-22T00:00:00",
          "1979-09-29T00:00:00",
          "1979-10-06T00:00:00",
          "1979-10-13T00:00:00",
          "1979-10-20T00:00:00",
          "1979-10-27T00:00:00",
          "1979-11-03T00:00:00",
          "1979-11-10T00:00:00",
          "1979-11-17T00:00:00",
          "1979-11-24T00:00:00",
          "1979-12-01T00:00:00",
          "1979-12-08T00:00:00",
          "1979-12-15T00:00:00",
          "1979-12-22T00:00:00",
          "1979-12-29T00:00:00",
          "1980-01-05T00:00:00",
          "1980-01-12T00:00:00",
          "1980-01-19T00:00:00",
          "1980-01-26T00:00:00",
          "1980-02-02T00:00:00",
          "1980-02-09T00:00:00",
          "1980-02-16T00:00:00",
          "1980-02-23T00:00:00",
          "1980-03-01T00:00:00",
          "1980-03-08T00:00:00",
          "1980-03-15T00:00:00",
          "1980-03-22T00:00:00",
          "1980-03-29T00:00:00",
          "1980-04-05T00:00:00",
          "1980-04-12T00:00:00",
          "1980-04-19T00:00:00",
          "1980-04-26T00:00:00",
          "1980-05-03T00:00:00",
          "1980-05-10T00:00:00",
          "1980-05-17T00:00:00",
          "1980-05-24T00:00:00",
          "1980-05-31T00:00:00",
          "1980-06-07T00:00:00",
          "1980-06-14T00:00:00",
          "1980-06-21T00:00:00",
          "1980-06-28T00:00:00",
          "1980-07-05T00:00:00",
          "1980-07-12T00:00:00",
          "1980-07-19T00:00:00",
          "1980-07-26T00:00:00",
          "1980-08-02T00:00:00",
          "1980-08-09T00:00:00",
          "1980-08-16T00:00:00",
          "1980-08-23T00:00:00",
          "1980-08-30T00:00:00",
          "1980-09-06T00:00:00",
          "1980-09-13T00:00:00",
          "1980-09-20T00:00:00",
          "1980-09-27T00:00:00",
          "1980-10-04T00:00:00",
          "1980-10-11T00:00:00",
          "1980-10-18T00:00:00",
          "1980-10-25T00:00:00",
          "1980-11-01T00:00:00",
          "1980-11-08T00:00:00",
          "1980-11-15T00:00:00",
          "1980-11-22T00:00:00",
          "1980-11-29T00:00:00",
          "1980-12-06T00:00:00",
          "1980-12-13T00:00:00",
          "1980-12-20T00:00:00",
          "1980-12-27T00:00:00",
          "1981-01-03T00:00:00",
          "1981-01-10T00:00:00",
          "1981-01-17T00:00:00",
          "1981-01-24T00:00:00",
          "1981-01-31T00:00:00",
          "1981-02-07T00:00:00",
          "1981-02-14T00:00:00",
          "1981-02-21T00:00:00",
          "1981-02-28T00:00:00",
          "1981-03-07T00:00:00",
          "1981-03-14T00:00:00",
          "1981-03-21T00:00:00",
          "1981-03-28T00:00:00",
          "1981-04-04T00:00:00",
          "1981-04-11T00:00:00",
          "1981-04-18T00:00:00",
          "1981-04-25T00:00:00",
          "1981-05-02T00:00:00",
          "1981-05-09T00:00:00",
          "1981-05-16T00:00:00",
          "1981-05-23T00:00:00",
          "1981-05-30T00:00:00",
          "1981-06-06T00:00:00",
          "1981-06-13T00:00:00",
          "1981-06-20T00:00:00",
          "1981-06-27T00:00:00",
          "1981-07-04T00:00:00",
          "1981-07-11T00:00:00",
          "1981-07-18T00:00:00",
          "1981-07-25T00:00:00",
          "1981-08-01T00:00:00",
          "1981-08-08T00:00:00",
          "1981-08-15T00:00:00",
          "1981-08-22T00:00:00",
          "1981-08-29T00:00:00",
          "1981-09-05T00:00:00",
          "1981-09-12T00:00:00",
          "1981-09-19T00:00:00",
          "1981-09-26T00:00:00",
          "1981-10-03T00:00:00",
          "1981-10-10T00:00:00",
          "1981-10-17T00:00:00",
          "1981-10-24T00:00:00",
          "1981-10-31T00:00:00",
          "1981-11-07T00:00:00",
          "1981-11-14T00:00:00",
          "1981-11-21T00:00:00",
          "1981-11-28T00:00:00",
          "1981-12-05T00:00:00",
          "1981-12-12T00:00:00",
          "1981-12-19T00:00:00",
          "1981-12-26T00:00:00",
          "1982-01-02T00:00:00",
          "1982-01-09T00:00:00",
          "1982-01-16T00:00:00",
          "1982-01-23T00:00:00",
          "1982-01-30T00:00:00",
          "1982-02-06T00:00:00",
          "1982-02-13T00:00:00",
          "1982-02-20T00:00:00",
          "1982-02-27T00:00:00",
          "1982-03-06T00:00:00",
          "1982-03-13T00:00:00",
          "1982-03-20T00:00:00",
          "1982-03-27T00:00:00",
          "1982-04-03T00:00:00",
          "1982-04-10T00:00:00",
          "1982-04-17T00:00:00",
          "1982-04-24T00:00:00",
          "1982-05-01T00:00:00",
          "1982-05-08T00:00:00",
          "1982-05-15T00:00:00",
          "1982-05-22T00:00:00",
          "1982-05-29T00:00:00",
          "1982-06-05T00:00:00",
          "1982-06-12T00:00:00",
          "1982-06-19T00:00:00",
          "1982-06-26T00:00:00",
          "1982-07-03T00:00:00",
          "1982-07-10T00:00:00",
          "1982-07-17T00:00:00",
          "1982-07-24T00:00:00",
          "1982-07-31T00:00:00",
          "1982-08-07T00:00:00",
          "1982-08-14T00:00:00",
          "1982-08-21T00:00:00",
          "1982-08-28T00:00:00",
          "1982-09-04T00:00:00",
          "1982-09-11T00:00:00",
          "1982-09-18T00:00:00",
          "1982-09-25T00:00:00",
          "1982-10-02T00:00:00",
          "1982-10-09T00:00:00",
          "1982-10-16T00:00:00",
          "1982-10-23T00:00:00",
          "1982-10-30T00:00:00",
          "1982-11-06T00:00:00",
          "1982-11-13T00:00:00",
          "1982-11-20T00:00:00",
          "1982-11-27T00:00:00",
          "1982-12-04T00:00:00",
          "1982-12-11T00:00:00",
          "1982-12-18T00:00:00",
          "1982-12-25T00:00:00",
          "1983-01-01T00:00:00",
          "1983-01-08T00:00:00",
          "1983-01-15T00:00:00",
          "1983-01-22T00:00:00",
          "1983-01-29T00:00:00",
          "1983-02-05T00:00:00",
          "1983-02-12T00:00:00",
          "1983-02-19T00:00:00",
          "1983-02-26T00:00:00",
          "1983-03-05T00:00:00",
          "1983-03-12T00:00:00",
          "1983-03-19T00:00:00",
          "1983-03-26T00:00:00",
          "1983-04-02T00:00:00",
          "1983-04-09T00:00:00",
          "1983-04-16T00:00:00",
          "1983-04-23T00:00:00",
          "1983-04-30T00:00:00",
          "1983-05-07T00:00:00",
          "1983-05-14T00:00:00",
          "1983-05-21T00:00:00",
          "1983-05-28T00:00:00",
          "1983-06-04T00:00:00",
          "1983-06-11T00:00:00",
          "1983-06-18T00:00:00",
          "1983-06-25T00:00:00",
          "1983-07-02T00:00:00",
          "1983-07-09T00:00:00",
          "1983-07-16T00:00:00",
          "1983-07-23T00:00:00",
          "1983-07-30T00:00:00",
          "1983-08-06T00:00:00",
          "1983-08-13T00:00:00",
          "1983-08-20T00:00:00",
          "1983-08-27T00:00:00",
          "1983-09-03T00:00:00",
          "1983-09-10T00:00:00",
          "1983-09-17T00:00:00",
          "1983-09-24T00:00:00",
          "1983-10-01T00:00:00",
          "1983-10-08T00:00:00",
          "1983-10-15T00:00:00",
          "1983-10-22T00:00:00",
          "1983-10-29T00:00:00",
          "1983-11-05T00:00:00",
          "1983-11-12T00:00:00",
          "1983-11-19T00:00:00",
          "1983-11-26T00:00:00",
          "1983-12-03T00:00:00",
          "1983-12-10T00:00:00",
          "1983-12-17T00:00:00",
          "1983-12-24T00:00:00",
          "1983-12-31T00:00:00",
          "1984-01-07T00:00:00",
          "1984-01-14T00:00:00",
          "1984-01-21T00:00:00",
          "1984-01-28T00:00:00",
          "1984-02-04T00:00:00",
          "1984-02-11T00:00:00",
          "1984-02-18T00:00:00",
          "1984-02-25T00:00:00",
          "1984-03-03T00:00:00",
          "1984-03-10T00:00:00",
          "1984-03-17T00:00:00",
          "1984-03-24T00:00:00",
          "1984-03-31T00:00:00",
          "1984-04-07T00:00:00",
          "1984-04-14T00:00:00",
          "1984-04-21T00:00:00",
          "1984-04-28T00:00:00",
          "1984-05-05T00:00:00",
          "1984-05-12T00:00:00",
          "1984-05-19T00:00:00",
          "1984-05-26T00:00:00",
          "1984-06-02T00:00:00",
          "1984-06-09T00:00:00",
          "1984-06-16T00:00:00",
          "1984-06-23T00:00:00",
          "1984-06-30T00:00:00",
          "1984-07-07T00:00:00",
          "1984-07-14T00:00:00",
          "1984-07-21T00:00:00",
          "1984-07-28T00:00:00",
          "1984-08-04T00:00:00",
          "1984-08-11T00:00:00",
          "1984-08-18T00:00:00",
          "1984-08-25T00:00:00",
          "1984-09-01T00:00:00",
          "1984-09-08T00:00:00",
          "1984-09-15T00:00:00",
          "1984-09-22T00:00:00",
          "1984-09-29T00:00:00",
          "1984-10-06T00:00:00",
          "1984-10-13T00:00:00",
          "1984-10-20T00:00:00",
          "1984-10-27T00:00:00",
          "1984-11-03T00:00:00",
          "1984-11-10T00:00:00",
          "1984-11-17T00:00:00",
          "1984-11-24T00:00:00",
          "1984-12-01T00:00:00",
          "1984-12-08T00:00:00",
          "1984-12-15T00:00:00",
          "1984-12-22T00:00:00",
          "1984-12-29T00:00:00",
          "1985-01-05T00:00:00",
          "1985-01-12T00:00:00",
          "1985-01-19T00:00:00",
          "1985-01-26T00:00:00",
          "1985-02-02T00:00:00",
          "1985-02-09T00:00:00",
          "1985-02-16T00:00:00",
          "1985-02-23T00:00:00",
          "1985-03-02T00:00:00",
          "1985-03-09T00:00:00",
          "1985-03-16T00:00:00",
          "1985-03-23T00:00:00",
          "1985-03-30T00:00:00",
          "1985-04-06T00:00:00",
          "1985-04-13T00:00:00",
          "1985-04-20T00:00:00",
          "1985-04-27T00:00:00",
          "1985-05-04T00:00:00",
          "1985-05-11T00:00:00",
          "1985-05-18T00:00:00",
          "1985-05-25T00:00:00",
          "1985-06-01T00:00:00",
          "1985-06-08T00:00:00",
          "1985-06-15T00:00:00",
          "1985-06-22T00:00:00",
          "1985-06-29T00:00:00",
          "1985-07-06T00:00:00",
          "1985-07-13T00:00:00",
          "1985-07-20T00:00:00",
          "1985-07-27T00:00:00",
          "1985-08-03T00:00:00",
          "1985-08-10T00:00:00",
          "1985-08-17T00:00:00",
          "1985-08-24T00:00:00",
          "1985-08-31T00:00:00",
          "1985-09-07T00:00:00",
          "1985-09-14T00:00:00",
          "1985-09-21T00:00:00",
          "1985-09-28T00:00:00",
          "1985-10-05T00:00:00",
          "1985-10-12T00:00:00",
          "1985-10-19T00:00:00",
          "1985-10-26T00:00:00",
          "1985-11-02T00:00:00",
          "1985-11-09T00:00:00",
          "1985-11-16T00:00:00",
          "1985-11-23T00:00:00",
          "1985-11-30T00:00:00",
          "1985-12-07T00:00:00",
          "1985-12-14T00:00:00",
          "1985-12-21T00:00:00",
          "1985-12-28T00:00:00",
          "1986-01-04T00:00:00",
          "1986-01-11T00:00:00",
          "1986-01-18T00:00:00",
          "1986-01-25T00:00:00",
          "1986-02-01T00:00:00",
          "1986-02-08T00:00:00",
          "1986-02-15T00:00:00",
          "1986-02-22T00:00:00",
          "1986-03-01T00:00:00",
          "1986-03-08T00:00:00",
          "1986-03-15T00:00:00",
          "1986-03-22T00:00:00",
          "1986-03-29T00:00:00",
          "1986-04-05T00:00:00",
          "1986-04-12T00:00:00",
          "1986-04-19T00:00:00",
          "1986-04-26T00:00:00",
          "1986-05-03T00:00:00",
          "1986-05-10T00:00:00",
          "1986-05-17T00:00:00",
          "1986-05-24T00:00:00",
          "1986-05-31T00:00:00",
          "1986-06-07T00:00:00",
          "1986-06-14T00:00:00",
          "1986-06-21T00:00:00",
          "1986-06-28T00:00:00",
          "1986-07-05T00:00:00",
          "1986-07-12T00:00:00",
          "1986-07-19T00:00:00",
          "1986-07-26T00:00:00",
          "1986-08-02T00:00:00",
          "1986-08-09T00:00:00",
          "1986-08-16T00:00:00",
          "1986-08-23T00:00:00",
          "1986-08-30T00:00:00",
          "1986-09-06T00:00:00",
          "1986-09-13T00:00:00",
          "1986-09-20T00:00:00",
          "1986-09-27T00:00:00",
          "1986-10-04T00:00:00",
          "1986-10-11T00:00:00",
          "1986-10-18T00:00:00",
          "1986-10-25T00:00:00",
          "1986-11-01T00:00:00",
          "1986-11-08T00:00:00",
          "1986-11-15T00:00:00",
          "1986-11-22T00:00:00",
          "1986-11-29T00:00:00",
          "1986-12-06T00:00:00",
          "1986-12-13T00:00:00",
          "1986-12-20T00:00:00",
          "1986-12-27T00:00:00",
          "1987-01-03T00:00:00",
          "1987-01-10T00:00:00",
          "1987-01-17T00:00:00",
          "1987-01-24T00:00:00",
          "1987-01-31T00:00:00",
          "1987-02-07T00:00:00",
          "1987-02-14T00:00:00",
          "1987-02-21T00:00:00",
          "1987-02-28T00:00:00",
          "1987-03-07T00:00:00",
          "1987-03-14T00:00:00",
          "1987-03-21T00:00:00",
          "1987-03-28T00:00:00",
          "1987-04-04T00:00:00",
          "1987-04-11T00:00:00",
          "1987-04-18T00:00:00",
          "1987-04-25T00:00:00",
          "1987-05-02T00:00:00",
          "1987-05-09T00:00:00",
          "1987-05-16T00:00:00",
          "1987-05-23T00:00:00",
          "1987-05-30T00:00:00",
          "1987-06-06T00:00:00",
          "1987-06-13T00:00:00",
          "1987-06-20T00:00:00",
          "1987-06-27T00:00:00",
          "1987-07-04T00:00:00",
          "1987-07-11T00:00:00",
          "1987-07-18T00:00:00",
          "1987-07-25T00:00:00",
          "1987-08-01T00:00:00",
          "1987-08-08T00:00:00",
          "1987-08-15T00:00:00",
          "1987-08-22T00:00:00",
          "1987-08-29T00:00:00",
          "1987-09-05T00:00:00",
          "1987-09-12T00:00:00",
          "1987-09-19T00:00:00",
          "1987-09-26T00:00:00",
          "1987-10-03T00:00:00",
          "1987-10-10T00:00:00",
          "1987-10-17T00:00:00",
          "1987-10-24T00:00:00",
          "1987-10-31T00:00:00",
          "1987-11-07T00:00:00",
          "1987-11-14T00:00:00",
          "1987-11-21T00:00:00",
          "1987-11-28T00:00:00",
          "1987-12-05T00:00:00",
          "1987-12-12T00:00:00",
          "1987-12-19T00:00:00",
          "1987-12-26T00:00:00",
          "1988-01-02T00:00:00",
          "1988-01-09T00:00:00",
          "1988-01-16T00:00:00",
          "1988-01-23T00:00:00",
          "1988-01-30T00:00:00",
          "1988-02-06T00:00:00",
          "1988-02-13T00:00:00",
          "1988-02-20T00:00:00",
          "1988-02-27T00:00:00",
          "1988-03-05T00:00:00",
          "1988-03-12T00:00:00",
          "1988-03-19T00:00:00",
          "1988-03-26T00:00:00",
          "1988-04-02T00:00:00",
          "1988-04-09T00:00:00",
          "1988-04-16T00:00:00",
          "1988-04-23T00:00:00",
          "1988-04-30T00:00:00",
          "1988-05-07T00:00:00",
          "1988-05-14T00:00:00",
          "1988-05-21T00:00:00",
          "1988-05-28T00:00:00",
          "1988-06-04T00:00:00",
          "1988-06-11T00:00:00",
          "1988-06-18T00:00:00",
          "1988-06-25T00:00:00",
          "1988-07-02T00:00:00",
          "1988-07-09T00:00:00",
          "1988-07-16T00:00:00",
          "1988-07-23T00:00:00",
          "1988-07-30T00:00:00",
          "1988-08-06T00:00:00",
          "1988-08-13T00:00:00",
          "1988-08-20T00:00:00",
          "1988-08-27T00:00:00",
          "1988-09-03T00:00:00",
          "1988-09-10T00:00:00",
          "1988-09-17T00:00:00",
          "1988-09-24T00:00:00",
          "1988-10-01T00:00:00",
          "1988-10-08T00:00:00",
          "1988-10-15T00:00:00",
          "1988-10-22T00:00:00",
          "1988-10-29T00:00:00",
          "1988-11-05T00:00:00",
          "1988-11-12T00:00:00",
          "1988-11-19T00:00:00",
          "1988-11-26T00:00:00",
          "1988-12-03T00:00:00",
          "1988-12-10T00:00:00",
          "1988-12-17T00:00:00",
          "1988-12-24T00:00:00",
          "1988-12-31T00:00:00",
          "1989-01-07T00:00:00",
          "1989-01-14T00:00:00",
          "1989-01-21T00:00:00",
          "1989-01-28T00:00:00",
          "1989-02-04T00:00:00",
          "1989-02-11T00:00:00",
          "1989-02-18T00:00:00",
          "1989-02-25T00:00:00",
          "1989-03-04T00:00:00",
          "1989-03-11T00:00:00",
          "1989-03-18T00:00:00",
          "1989-03-25T00:00:00",
          "1989-04-01T00:00:00",
          "1989-04-08T00:00:00",
          "1989-04-15T00:00:00",
          "1989-04-22T00:00:00",
          "1989-04-29T00:00:00",
          "1989-05-06T00:00:00",
          "1989-05-13T00:00:00",
          "1989-05-20T00:00:00",
          "1989-05-27T00:00:00",
          "1989-06-03T00:00:00",
          "1989-06-10T00:00:00",
          "1989-06-17T00:00:00",
          "1989-06-24T00:00:00",
          "1989-07-01T00:00:00",
          "1989-07-08T00:00:00",
          "1989-07-15T00:00:00",
          "1989-07-22T00:00:00",
          "1989-07-29T00:00:00",
          "1989-08-05T00:00:00",
          "1989-08-12T00:00:00",
          "1989-08-19T00:00:00",
          "1989-08-26T00:00:00",
          "1989-09-02T00:00:00",
          "1989-09-09T00:00:00",
          "1989-09-16T00:00:00",
          "1989-09-23T00:00:00",
          "1989-09-30T00:00:00",
          "1989-10-07T00:00:00",
          "1989-10-14T00:00:00",
          "1989-10-21T00:00:00",
          "1989-10-28T00:00:00",
          "1989-11-04T00:00:00",
          "1989-11-11T00:00:00",
          "1989-11-18T00:00:00",
          "1989-11-25T00:00:00",
          "1989-12-02T00:00:00",
          "1989-12-09T00:00:00",
          "1989-12-16T00:00:00",
          "1989-12-23T00:00:00",
          "1989-12-30T00:00:00",
          "1990-01-06T00:00:00",
          "1990-01-13T00:00:00",
          "1990-01-20T00:00:00",
          "1990-01-27T00:00:00",
          "1990-02-03T00:00:00",
          "1990-02-10T00:00:00",
          "1990-02-17T00:00:00",
          "1990-02-24T00:00:00",
          "1990-03-03T00:00:00",
          "1990-03-10T00:00:00",
          "1990-03-17T00:00:00",
          "1990-03-24T00:00:00",
          "1990-03-31T00:00:00",
          "1990-04-07T00:00:00",
          "1990-04-14T00:00:00",
          "1990-04-21T00:00:00",
          "1990-04-28T00:00:00",
          "1990-05-05T00:00:00",
          "1990-05-12T00:00:00",
          "1990-05-19T00:00:00",
          "1990-05-26T00:00:00",
          "1990-06-02T00:00:00",
          "1990-06-09T00:00:00",
          "1990-06-16T00:00:00",
          "1990-06-23T00:00:00",
          "1990-06-30T00:00:00",
          "1990-07-07T00:00:00",
          "1990-07-14T00:00:00",
          "1990-07-21T00:00:00",
          "1990-07-28T00:00:00",
          "1990-08-04T00:00:00",
          "1990-08-11T00:00:00",
          "1990-08-18T00:00:00",
          "1990-08-25T00:00:00",
          "1990-09-01T00:00:00",
          "1990-09-08T00:00:00",
          "1990-09-15T00:00:00",
          "1990-09-22T00:00:00",
          "1990-09-29T00:00:00",
          "1990-10-06T00:00:00",
          "1990-10-13T00:00:00",
          "1990-10-20T00:00:00",
          "1990-10-27T00:00:00",
          "1990-11-03T00:00:00",
          "1990-11-10T00:00:00",
          "1990-11-17T00:00:00",
          "1990-11-24T00:00:00",
          "1990-12-01T00:00:00",
          "1990-12-08T00:00:00",
          "1990-12-15T00:00:00",
          "1990-12-22T00:00:00",
          "1990-12-29T00:00:00",
          "1991-01-05T00:00:00",
          "1991-01-12T00:00:00",
          "1991-01-19T00:00:00",
          "1991-01-26T00:00:00",
          "1991-02-02T00:00:00",
          "1991-02-09T00:00:00",
          "1991-02-16T00:00:00",
          "1991-02-23T00:00:00",
          "1991-03-02T00:00:00",
          "1991-03-09T00:00:00",
          "1991-03-16T00:00:00",
          "1991-03-23T00:00:00",
          "1991-03-30T00:00:00",
          "1991-04-06T00:00:00",
          "1991-04-13T00:00:00",
          "1991-04-20T00:00:00",
          "1991-04-27T00:00:00",
          "1991-05-04T00:00:00",
          "1991-05-11T00:00:00",
          "1991-05-18T00:00:00",
          "1991-05-25T00:00:00",
          "1991-06-01T00:00:00",
          "1991-06-08T00:00:00",
          "1991-06-15T00:00:00",
          "1991-06-22T00:00:00",
          "1991-06-29T00:00:00",
          "1991-07-06T00:00:00",
          "1991-07-13T00:00:00",
          "1991-07-20T00:00:00",
          "1991-07-27T00:00:00",
          "1991-08-03T00:00:00",
          "1991-08-10T00:00:00",
          "1991-08-17T00:00:00",
          "1991-08-24T00:00:00",
          "1991-08-31T00:00:00",
          "1991-09-07T00:00:00",
          "1991-09-14T00:00:00",
          "1991-09-21T00:00:00",
          "1991-09-28T00:00:00",
          "1991-10-05T00:00:00",
          "1991-10-12T00:00:00",
          "1991-10-19T00:00:00",
          "1991-10-26T00:00:00",
          "1991-11-02T00:00:00",
          "1991-11-09T00:00:00",
          "1991-11-16T00:00:00",
          "1991-11-23T00:00:00",
          "1991-11-30T00:00:00",
          "1991-12-07T00:00:00",
          "1991-12-14T00:00:00",
          "1991-12-21T00:00:00",
          "1991-12-28T00:00:00",
          "1992-01-04T00:00:00",
          "1992-01-11T00:00:00",
          "1992-01-18T00:00:00",
          "1992-01-25T00:00:00",
          "1992-02-01T00:00:00",
          "1992-02-08T00:00:00",
          "1992-02-15T00:00:00",
          "1992-02-22T00:00:00",
          "1992-02-29T00:00:00",
          "1992-03-07T00:00:00",
          "1992-03-14T00:00:00",
          "1992-03-21T00:00:00",
          "1992-03-28T00:00:00",
          "1992-04-04T00:00:00",
          "1992-04-11T00:00:00",
          "1992-04-18T00:00:00",
          "1992-04-25T00:00:00",
          "1992-05-02T00:00:00",
          "1992-05-09T00:00:00",
          "1992-05-16T00:00:00",
          "1992-05-23T00:00:00",
          "1992-05-30T00:00:00",
          "1992-06-06T00:00:00",
          "1992-06-13T00:00:00",
          "1992-06-20T00:00:00",
          "1992-06-27T00:00:00",
          "1992-07-04T00:00:00",
          "1992-07-11T00:00:00",
          "1992-07-18T00:00:00",
          "1992-07-25T00:00:00",
          "1992-08-01T00:00:00",
          "1992-08-08T00:00:00",
          "1992-08-15T00:00:00",
          "1992-08-22T00:00:00",
          "1992-08-29T00:00:00",
          "1992-09-05T00:00:00",
          "1992-09-12T00:00:00",
          "1992-09-19T00:00:00",
          "1992-09-26T00:00:00",
          "1992-10-03T00:00:00",
          "1992-10-10T00:00:00",
          "1992-10-17T00:00:00",
          "1992-10-24T00:00:00",
          "1992-10-31T00:00:00",
          "1992-11-07T00:00:00",
          "1992-11-14T00:00:00",
          "1992-11-21T00:00:00",
          "1992-11-28T00:00:00",
          "1992-12-05T00:00:00",
          "1992-12-12T00:00:00",
          "1992-12-19T00:00:00",
          "1992-12-26T00:00:00",
          "1993-01-02T00:00:00",
          "1993-01-09T00:00:00",
          "1993-01-16T00:00:00",
          "1993-01-23T00:00:00",
          "1993-01-30T00:00:00",
          "1993-02-06T00:00:00",
          "1993-02-13T00:00:00",
          "1993-02-20T00:00:00",
          "1993-02-27T00:00:00",
          "1993-03-06T00:00:00",
          "1993-03-13T00:00:00",
          "1993-03-20T00:00:00",
          "1993-03-27T00:00:00",
          "1993-04-03T00:00:00",
          "1993-04-10T00:00:00",
          "1993-04-17T00:00:00",
          "1993-04-24T00:00:00",
          "1993-05-01T00:00:00",
          "1993-05-08T00:00:00",
          "1993-05-15T00:00:00",
          "1993-05-22T00:00:00",
          "1993-05-29T00:00:00",
          "1993-06-05T00:00:00",
          "1993-06-12T00:00:00",
          "1993-06-19T00:00:00",
          "1993-06-26T00:00:00",
          "1993-07-03T00:00:00",
          "1993-07-10T00:00:00",
          "1993-07-17T00:00:00",
          "1993-07-24T00:00:00",
          "1993-07-31T00:00:00",
          "1993-08-07T00:00:00",
          "1993-08-14T00:00:00",
          "1993-08-21T00:00:00",
          "1993-08-28T00:00:00",
          "1993-09-04T00:00:00",
          "1993-09-11T00:00:00",
          "1993-09-18T00:00:00",
          "1993-09-25T00:00:00",
          "1993-10-02T00:00:00",
          "1993-10-09T00:00:00",
          "1993-10-16T00:00:00",
          "1993-10-23T00:00:00",
          "1993-10-30T00:00:00",
          "1993-11-06T00:00:00",
          "1993-11-13T00:00:00",
          "1993-11-20T00:00:00",
          "1993-11-27T00:00:00",
          "1993-12-04T00:00:00",
          "1993-12-11T00:00:00",
          "1993-12-18T00:00:00",
          "1993-12-25T00:00:00",
          "1994-01-01T00:00:00",
          "1994-01-08T00:00:00",
          "1994-01-15T00:00:00",
          "1994-01-22T00:00:00",
          "1994-01-29T00:00:00",
          "1994-02-05T00:00:00",
          "1994-02-12T00:00:00",
          "1994-02-19T00:00:00",
          "1994-02-26T00:00:00",
          "1994-03-05T00:00:00",
          "1994-03-12T00:00:00",
          "1994-03-19T00:00:00",
          "1994-03-26T00:00:00",
          "1994-04-02T00:00:00",
          "1994-04-09T00:00:00",
          "1994-04-16T00:00:00",
          "1994-04-23T00:00:00",
          "1994-04-30T00:00:00",
          "1994-05-07T00:00:00",
          "1994-05-14T00:00:00",
          "1994-05-21T00:00:00",
          "1994-05-28T00:00:00",
          "1994-06-04T00:00:00",
          "1994-06-11T00:00:00",
          "1994-06-18T00:00:00",
          "1994-06-25T00:00:00",
          "1994-07-02T00:00:00",
          "1994-07-09T00:00:00",
          "1994-07-16T00:00:00",
          "1994-07-23T00:00:00",
          "1994-07-30T00:00:00",
          "1994-08-06T00:00:00",
          "1994-08-13T00:00:00",
          "1994-08-20T00:00:00",
          "1994-08-27T00:00:00",
          "1994-09-03T00:00:00",
          "1994-09-10T00:00:00",
          "1994-09-17T00:00:00",
          "1994-09-24T00:00:00",
          "1994-10-01T00:00:00",
          "1994-10-08T00:00:00",
          "1994-10-15T00:00:00",
          "1994-10-22T00:00:00",
          "1994-10-29T00:00:00",
          "1994-11-05T00:00:00",
          "1994-11-12T00:00:00",
          "1994-11-19T00:00:00",
          "1994-11-26T00:00:00",
          "1994-12-03T00:00:00",
          "1994-12-10T00:00:00",
          "1994-12-17T00:00:00",
          "1994-12-24T00:00:00",
          "1994-12-31T00:00:00",
          "1995-01-07T00:00:00",
          "1995-01-14T00:00:00",
          "1995-01-21T00:00:00",
          "1995-01-28T00:00:00",
          "1995-02-04T00:00:00",
          "1995-02-11T00:00:00",
          "1995-02-18T00:00:00",
          "1995-02-25T00:00:00",
          "1995-03-04T00:00:00",
          "1995-03-11T00:00:00",
          "1995-03-18T00:00:00",
          "1995-03-25T00:00:00",
          "1995-04-01T00:00:00",
          "1995-04-08T00:00:00",
          "1995-04-15T00:00:00",
          "1995-04-22T00:00:00",
          "1995-04-29T00:00:00",
          "1995-05-06T00:00:00",
          "1995-05-13T00:00:00",
          "1995-05-20T00:00:00",
          "1995-05-27T00:00:00",
          "1995-06-03T00:00:00",
          "1995-06-10T00:00:00",
          "1995-06-17T00:00:00",
          "1995-06-24T00:00:00",
          "1995-07-01T00:00:00",
          "1995-07-08T00:00:00",
          "1995-07-15T00:00:00",
          "1995-07-22T00:00:00",
          "1995-07-29T00:00:00",
          "1995-08-05T00:00:00",
          "1995-08-12T00:00:00",
          "1995-08-19T00:00:00",
          "1995-08-26T00:00:00",
          "1995-09-02T00:00:00",
          "1995-09-09T00:00:00",
          "1995-09-16T00:00:00",
          "1995-09-23T00:00:00",
          "1995-09-30T00:00:00",
          "1995-10-07T00:00:00",
          "1995-10-14T00:00:00",
          "1995-10-21T00:00:00",
          "1995-10-28T00:00:00",
          "1995-11-04T00:00:00",
          "1995-11-11T00:00:00",
          "1995-11-18T00:00:00",
          "1995-11-25T00:00:00",
          "1995-12-02T00:00:00",
          "1995-12-09T00:00:00",
          "1995-12-16T00:00:00",
          "1995-12-23T00:00:00",
          "1995-12-30T00:00:00",
          "1996-01-06T00:00:00",
          "1996-01-13T00:00:00",
          "1996-01-20T00:00:00",
          "1996-01-27T00:00:00",
          "1996-02-03T00:00:00",
          "1996-02-10T00:00:00",
          "1996-02-17T00:00:00",
          "1996-02-24T00:00:00",
          "1996-03-02T00:00:00",
          "1996-03-09T00:00:00",
          "1996-03-16T00:00:00",
          "1996-03-23T00:00:00",
          "1996-03-30T00:00:00",
          "1996-04-06T00:00:00",
          "1996-04-13T00:00:00",
          "1996-04-20T00:00:00",
          "1996-04-27T00:00:00",
          "1996-05-04T00:00:00",
          "1996-05-11T00:00:00",
          "1996-05-18T00:00:00",
          "1996-05-25T00:00:00",
          "1996-06-01T00:00:00",
          "1996-06-08T00:00:00",
          "1996-06-15T00:00:00",
          "1996-06-22T00:00:00",
          "1996-06-29T00:00:00",
          "1996-07-06T00:00:00",
          "1996-07-13T00:00:00",
          "1996-07-20T00:00:00",
          "1996-07-27T00:00:00",
          "1996-08-03T00:00:00",
          "1996-08-10T00:00:00",
          "1996-08-17T00:00:00",
          "1996-08-24T00:00:00",
          "1996-08-31T00:00:00",
          "1996-09-07T00:00:00",
          "1996-09-14T00:00:00",
          "1996-09-21T00:00:00",
          "1996-09-28T00:00:00",
          "1996-10-05T00:00:00",
          "1996-10-12T00:00:00",
          "1996-10-19T00:00:00",
          "1996-10-26T00:00:00",
          "1996-11-02T00:00:00",
          "1996-11-09T00:00:00",
          "1996-11-16T00:00:00",
          "1996-11-23T00:00:00",
          "1996-11-30T00:00:00",
          "1996-12-07T00:00:00",
          "1996-12-14T00:00:00",
          "1996-12-21T00:00:00",
          "1996-12-28T00:00:00",
          "1997-01-04T00:00:00",
          "1997-01-11T00:00:00",
          "1997-01-18T00:00:00",
          "1997-01-25T00:00:00",
          "1997-02-01T00:00:00",
          "1997-02-08T00:00:00",
          "1997-02-15T00:00:00",
          "1997-02-22T00:00:00",
          "1997-03-01T00:00:00",
          "1997-03-08T00:00:00",
          "1997-03-15T00:00:00",
          "1997-03-22T00:00:00",
          "1997-03-29T00:00:00",
          "1997-04-05T00:00:00",
          "1997-04-12T00:00:00",
          "1997-04-19T00:00:00",
          "1997-04-26T00:00:00",
          "1997-05-03T00:00:00",
          "1997-05-10T00:00:00",
          "1997-05-17T00:00:00",
          "1997-05-24T00:00:00",
          "1997-05-31T00:00:00",
          "1997-06-07T00:00:00",
          "1997-06-14T00:00:00",
          "1997-06-21T00:00:00",
          "1997-06-28T00:00:00",
          "1997-07-05T00:00:00",
          "1997-07-12T00:00:00",
          "1997-07-19T00:00:00",
          "1997-07-26T00:00:00",
          "1997-08-02T00:00:00",
          "1997-08-09T00:00:00",
          "1997-08-16T00:00:00",
          "1997-08-23T00:00:00",
          "1997-08-30T00:00:00",
          "1997-09-06T00:00:00",
          "1997-09-13T00:00:00",
          "1997-09-20T00:00:00",
          "1997-09-27T00:00:00",
          "1997-10-04T00:00:00",
          "1997-10-11T00:00:00",
          "1997-10-18T00:00:00",
          "1997-10-25T00:00:00",
          "1997-11-01T00:00:00",
          "1997-11-08T00:00:00",
          "1997-11-15T00:00:00",
          "1997-11-22T00:00:00",
          "1997-11-29T00:00:00",
          "1997-12-06T00:00:00",
          "1997-12-13T00:00:00",
          "1997-12-20T00:00:00",
          "1997-12-27T00:00:00",
          "1998-01-03T00:00:00",
          "1998-01-10T00:00:00",
          "1998-01-17T00:00:00",
          "1998-01-24T00:00:00",
          "1998-01-31T00:00:00",
          "1998-02-07T00:00:00",
          "1998-02-14T00:00:00",
          "1998-02-21T00:00:00",
          "1998-02-28T00:00:00",
          "1998-03-07T00:00:00",
          "1998-03-14T00:00:00",
          "1998-03-21T00:00:00",
          "1998-03-28T00:00:00",
          "1998-04-04T00:00:00",
          "1998-04-11T00:00:00",
          "1998-04-18T00:00:00",
          "1998-04-25T00:00:00",
          "1998-05-02T00:00:00",
          "1998-05-09T00:00:00",
          "1998-05-16T00:00:00",
          "1998-05-23T00:00:00",
          "1998-05-30T00:00:00",
          "1998-06-06T00:00:00",
          "1998-06-13T00:00:00",
          "1998-06-20T00:00:00",
          "1998-06-27T00:00:00",
          "1998-07-04T00:00:00",
          "1998-07-11T00:00:00",
          "1998-07-18T00:00:00",
          "1998-07-25T00:00:00",
          "1998-08-01T00:00:00",
          "1998-08-08T00:00:00",
          "1998-08-15T00:00:00",
          "1998-08-22T00:00:00",
          "1998-08-29T00:00:00",
          "1998-09-05T00:00:00",
          "1998-09-12T00:00:00",
          "1998-09-19T00:00:00",
          "1998-09-26T00:00:00",
          "1998-10-03T00:00:00",
          "1998-10-10T00:00:00",
          "1998-10-17T00:00:00",
          "1998-10-24T00:00:00",
          "1998-10-31T00:00:00",
          "1998-11-07T00:00:00",
          "1998-11-14T00:00:00",
          "1998-11-21T00:00:00",
          "1998-11-28T00:00:00",
          "1998-12-05T00:00:00",
          "1998-12-12T00:00:00",
          "1998-12-19T00:00:00",
          "1998-12-26T00:00:00",
          "1999-01-02T00:00:00",
          "1999-01-09T00:00:00",
          "1999-01-16T00:00:00",
          "1999-01-23T00:00:00",
          "1999-01-30T00:00:00",
          "1999-02-06T00:00:00",
          "1999-02-13T00:00:00",
          "1999-02-20T00:00:00",
          "1999-02-27T00:00:00",
          "1999-03-06T00:00:00",
          "1999-03-13T00:00:00",
          "1999-03-20T00:00:00",
          "1999-03-27T00:00:00",
          "1999-04-03T00:00:00",
          "1999-04-10T00:00:00",
          "1999-04-17T00:00:00",
          "1999-04-24T00:00:00",
          "1999-05-01T00:00:00",
          "1999-05-08T00:00:00",
          "1999-05-15T00:00:00",
          "1999-05-22T00:00:00",
          "1999-05-29T00:00:00",
          "1999-06-05T00:00:00",
          "1999-06-12T00:00:00",
          "1999-06-19T00:00:00",
          "1999-06-26T00:00:00",
          "1999-07-03T00:00:00",
          "1999-07-10T00:00:00",
          "1999-07-17T00:00:00",
          "1999-07-24T00:00:00",
          "1999-07-31T00:00:00",
          "1999-08-07T00:00:00",
          "1999-08-14T00:00:00",
          "1999-08-21T00:00:00",
          "1999-08-28T00:00:00",
          "1999-09-04T00:00:00",
          "1999-09-11T00:00:00",
          "1999-09-18T00:00:00",
          "1999-09-25T00:00:00",
          "1999-10-02T00:00:00",
          "1999-10-09T00:00:00",
          "1999-10-16T00:00:00",
          "1999-10-23T00:00:00",
          "1999-10-30T00:00:00",
          "1999-11-06T00:00:00",
          "1999-11-13T00:00:00",
          "1999-11-20T00:00:00",
          "1999-11-27T00:00:00",
          "1999-12-04T00:00:00",
          "1999-12-11T00:00:00",
          "1999-12-18T00:00:00",
          "1999-12-25T00:00:00",
          "2000-01-01T00:00:00",
          "2000-01-08T00:00:00",
          "2000-01-15T00:00:00",
          "2000-01-22T00:00:00",
          "2000-01-29T00:00:00",
          "2000-02-05T00:00:00",
          "2000-02-12T00:00:00",
          "2000-02-19T00:00:00",
          "2000-02-26T00:00:00",
          "2000-03-04T00:00:00",
          "2000-03-11T00:00:00",
          "2000-03-18T00:00:00",
          "2000-03-25T00:00:00",
          "2000-04-01T00:00:00",
          "2000-04-08T00:00:00",
          "2000-04-15T00:00:00",
          "2000-04-22T00:00:00",
          "2000-04-29T00:00:00",
          "2000-05-06T00:00:00",
          "2000-05-13T00:00:00",
          "2000-05-20T00:00:00",
          "2000-05-27T00:00:00",
          "2000-06-03T00:00:00",
          "2000-06-10T00:00:00",
          "2000-06-17T00:00:00",
          "2000-06-24T00:00:00",
          "2000-07-01T00:00:00",
          "2000-07-08T00:00:00",
          "2000-07-15T00:00:00",
          "2000-07-22T00:00:00",
          "2000-07-29T00:00:00",
          "2000-08-05T00:00:00",
          "2000-08-12T00:00:00",
          "2000-08-19T00:00:00",
          "2000-08-26T00:00:00",
          "2000-09-02T00:00:00",
          "2000-09-09T00:00:00",
          "2000-09-16T00:00:00",
          "2000-09-23T00:00:00",
          "2000-09-30T00:00:00",
          "2000-10-07T00:00:00",
          "2000-10-14T00:00:00",
          "2000-10-21T00:00:00",
          "2000-10-28T00:00:00",
          "2000-11-04T00:00:00",
          "2000-11-11T00:00:00",
          "2000-11-18T00:00:00",
          "2000-11-25T00:00:00",
          "2000-12-02T00:00:00",
          "2000-12-09T00:00:00",
          "2000-12-16T00:00:00",
          "2000-12-23T00:00:00",
          "2000-12-30T00:00:00",
          "2001-01-06T00:00:00",
          "2001-01-13T00:00:00",
          "2001-01-20T00:00:00",
          "2001-01-27T00:00:00",
          "2001-02-03T00:00:00",
          "2001-02-10T00:00:00",
          "2001-02-17T00:00:00",
          "2001-02-24T00:00:00",
          "2001-03-03T00:00:00",
          "2001-03-10T00:00:00",
          "2001-03-17T00:00:00",
          "2001-03-24T00:00:00",
          "2001-03-31T00:00:00",
          "2001-04-07T00:00:00",
          "2001-04-14T00:00:00",
          "2001-04-21T00:00:00",
          "2001-04-28T00:00:00",
          "2001-05-05T00:00:00",
          "2001-05-12T00:00:00",
          "2001-05-19T00:00:00",
          "2001-05-26T00:00:00",
          "2001-06-02T00:00:00",
          "2001-06-09T00:00:00",
          "2001-06-16T00:00:00",
          "2001-06-23T00:00:00",
          "2001-06-30T00:00:00",
          "2001-07-07T00:00:00",
          "2001-07-14T00:00:00",
          "2001-07-21T00:00:00",
          "2001-07-28T00:00:00",
          "2001-08-04T00:00:00",
          "2001-08-11T00:00:00",
          "2001-08-18T00:00:00",
          "2001-08-25T00:00:00",
          "2001-09-01T00:00:00",
          "2001-09-08T00:00:00",
          "2001-09-15T00:00:00",
          "2001-09-22T00:00:00",
          "2001-09-29T00:00:00",
          "2001-10-06T00:00:00",
          "2001-10-13T00:00:00",
          "2001-10-20T00:00:00",
          "2001-10-27T00:00:00",
          "2001-11-03T00:00:00",
          "2001-11-10T00:00:00",
          "2001-11-17T00:00:00",
          "2001-11-24T00:00:00",
          "2001-12-01T00:00:00",
          "2001-12-08T00:00:00",
          "2001-12-15T00:00:00",
          "2001-12-22T00:00:00",
          "2001-12-29T00:00:00",
          "2002-01-05T00:00:00",
          "2002-01-12T00:00:00",
          "2002-01-19T00:00:00",
          "2002-01-26T00:00:00",
          "2002-02-02T00:00:00",
          "2002-02-09T00:00:00",
          "2002-02-16T00:00:00",
          "2002-02-23T00:00:00",
          "2002-03-02T00:00:00",
          "2002-03-09T00:00:00",
          "2002-03-16T00:00:00",
          "2002-03-23T00:00:00",
          "2002-03-30T00:00:00",
          "2002-04-06T00:00:00",
          "2002-04-13T00:00:00",
          "2002-04-20T00:00:00",
          "2002-04-27T00:00:00",
          "2002-05-04T00:00:00",
          "2002-05-11T00:00:00",
          "2002-05-18T00:00:00",
          "2002-05-25T00:00:00",
          "2002-06-01T00:00:00",
          "2002-06-08T00:00:00",
          "2002-06-15T00:00:00",
          "2002-06-22T00:00:00",
          "2002-06-29T00:00:00",
          "2002-07-06T00:00:00",
          "2002-07-13T00:00:00",
          "2002-07-20T00:00:00",
          "2002-07-27T00:00:00",
          "2002-08-03T00:00:00",
          "2002-08-10T00:00:00",
          "2002-08-17T00:00:00",
          "2002-08-24T00:00:00",
          "2002-08-31T00:00:00",
          "2002-09-07T00:00:00",
          "2002-09-14T00:00:00",
          "2002-09-21T00:00:00",
          "2002-09-28T00:00:00",
          "2002-10-05T00:00:00",
          "2002-10-12T00:00:00",
          "2002-10-19T00:00:00",
          "2002-10-26T00:00:00",
          "2002-11-02T00:00:00",
          "2002-11-09T00:00:00",
          "2002-11-16T00:00:00",
          "2002-11-23T00:00:00",
          "2002-11-30T00:00:00",
          "2002-12-07T00:00:00",
          "2002-12-14T00:00:00",
          "2002-12-21T00:00:00",
          "2002-12-28T00:00:00",
          "2003-01-04T00:00:00",
          "2003-01-11T00:00:00",
          "2003-01-18T00:00:00",
          "2003-01-25T00:00:00",
          "2003-02-01T00:00:00",
          "2003-02-08T00:00:00",
          "2003-02-15T00:00:00",
          "2003-02-22T00:00:00",
          "2003-03-01T00:00:00",
          "2003-03-08T00:00:00",
          "2003-03-15T00:00:00",
          "2003-03-22T00:00:00",
          "2003-03-29T00:00:00",
          "2003-04-05T00:00:00",
          "2003-04-12T00:00:00",
          "2003-04-19T00:00:00",
          "2003-04-26T00:00:00",
          "2003-05-03T00:00:00",
          "2003-05-10T00:00:00",
          "2003-05-17T00:00:00",
          "2003-05-24T00:00:00",
          "2003-05-31T00:00:00",
          "2003-06-07T00:00:00",
          "2003-06-14T00:00:00",
          "2003-06-21T00:00:00",
          "2003-06-28T00:00:00",
          "2003-07-05T00:00:00",
          "2003-07-12T00:00:00",
          "2003-07-19T00:00:00",
          "2003-07-26T00:00:00",
          "2003-08-02T00:00:00",
          "2003-08-09T00:00:00",
          "2003-08-16T00:00:00",
          "2003-08-23T00:00:00",
          "2003-08-30T00:00:00",
          "2003-09-06T00:00:00",
          "2003-09-13T00:00:00",
          "2003-09-20T00:00:00",
          "2003-09-27T00:00:00",
          "2003-10-04T00:00:00",
          "2003-10-11T00:00:00",
          "2003-10-18T00:00:00",
          "2003-10-25T00:00:00",
          "2003-11-01T00:00:00",
          "2003-11-08T00:00:00",
          "2003-11-15T00:00:00",
          "2003-11-22T00:00:00",
          "2003-11-29T00:00:00",
          "2003-12-06T00:00:00",
          "2003-12-13T00:00:00",
          "2003-12-20T00:00:00",
          "2003-12-27T00:00:00",
          "2004-01-03T00:00:00",
          "2004-01-10T00:00:00",
          "2004-01-17T00:00:00",
          "2004-01-24T00:00:00",
          "2004-01-31T00:00:00",
          "2004-02-07T00:00:00",
          "2004-02-14T00:00:00",
          "2004-02-21T00:00:00",
          "2004-02-28T00:00:00",
          "2004-03-06T00:00:00",
          "2004-03-13T00:00:00",
          "2004-03-20T00:00:00",
          "2004-03-27T00:00:00",
          "2004-04-03T00:00:00",
          "2004-04-10T00:00:00",
          "2004-04-17T00:00:00",
          "2004-04-24T00:00:00",
          "2004-05-01T00:00:00",
          "2004-05-08T00:00:00",
          "2004-05-15T00:00:00",
          "2004-05-22T00:00:00",
          "2004-05-29T00:00:00",
          "2004-06-05T00:00:00",
          "2004-06-12T00:00:00",
          "2004-06-19T00:00:00",
          "2004-06-26T00:00:00",
          "2004-07-03T00:00:00",
          "2004-07-10T00:00:00",
          "2004-07-17T00:00:00",
          "2004-07-24T00:00:00",
          "2004-07-31T00:00:00",
          "2004-08-07T00:00:00",
          "2004-08-14T00:00:00",
          "2004-08-21T00:00:00",
          "2004-08-28T00:00:00",
          "2004-09-04T00:00:00",
          "2004-09-11T00:00:00",
          "2004-09-18T00:00:00",
          "2004-09-25T00:00:00",
          "2004-10-02T00:00:00",
          "2004-10-09T00:00:00",
          "2004-10-16T00:00:00",
          "2004-10-23T00:00:00",
          "2004-10-30T00:00:00",
          "2004-11-06T00:00:00",
          "2004-11-13T00:00:00",
          "2004-11-20T00:00:00",
          "2004-11-27T00:00:00",
          "2004-12-04T00:00:00",
          "2004-12-11T00:00:00",
          "2004-12-18T00:00:00",
          "2004-12-25T00:00:00",
          "2005-01-01T00:00:00",
          "2005-01-08T00:00:00",
          "2005-01-15T00:00:00",
          "2005-01-22T00:00:00",
          "2005-01-29T00:00:00",
          "2005-02-05T00:00:00",
          "2005-02-12T00:00:00",
          "2005-02-19T00:00:00",
          "2005-02-26T00:00:00",
          "2005-03-05T00:00:00",
          "2005-03-12T00:00:00",
          "2005-03-19T00:00:00",
          "2005-03-26T00:00:00",
          "2005-04-02T00:00:00",
          "2005-04-09T00:00:00",
          "2005-04-16T00:00:00",
          "2005-04-23T00:00:00",
          "2005-04-30T00:00:00",
          "2005-05-07T00:00:00",
          "2005-05-14T00:00:00",
          "2005-05-21T00:00:00",
          "2005-05-28T00:00:00",
          "2005-06-04T00:00:00",
          "2005-06-11T00:00:00",
          "2005-06-18T00:00:00",
          "2005-06-25T00:00:00",
          "2005-07-02T00:00:00",
          "2005-07-09T00:00:00",
          "2005-07-16T00:00:00",
          "2005-07-23T00:00:00",
          "2005-07-30T00:00:00",
          "2005-08-06T00:00:00",
          "2005-08-13T00:00:00",
          "2005-08-20T00:00:00",
          "2005-08-27T00:00:00",
          "2005-09-03T00:00:00",
          "2005-09-10T00:00:00",
          "2005-09-17T00:00:00",
          "2005-09-24T00:00:00",
          "2005-10-01T00:00:00",
          "2005-10-08T00:00:00",
          "2005-10-15T00:00:00",
          "2005-10-22T00:00:00",
          "2005-10-29T00:00:00",
          "2005-11-05T00:00:00",
          "2005-11-12T00:00:00",
          "2005-11-19T00:00:00",
          "2005-11-26T00:00:00",
          "2005-12-03T00:00:00",
          "2005-12-10T00:00:00",
          "2005-12-17T00:00:00",
          "2005-12-24T00:00:00",
          "2005-12-31T00:00:00",
          "2006-01-07T00:00:00",
          "2006-01-14T00:00:00",
          "2006-01-21T00:00:00",
          "2006-01-28T00:00:00",
          "2006-02-04T00:00:00",
          "2006-02-11T00:00:00",
          "2006-02-18T00:00:00",
          "2006-02-25T00:00:00",
          "2006-03-04T00:00:00",
          "2006-03-11T00:00:00",
          "2006-03-18T00:00:00",
          "2006-03-25T00:00:00",
          "2006-04-01T00:00:00",
          "2006-04-08T00:00:00",
          "2006-04-15T00:00:00",
          "2006-04-22T00:00:00",
          "2006-04-29T00:00:00",
          "2006-05-06T00:00:00",
          "2006-05-13T00:00:00",
          "2006-05-20T00:00:00",
          "2006-05-27T00:00:00",
          "2006-06-03T00:00:00",
          "2006-06-10T00:00:00",
          "2006-06-17T00:00:00",
          "2006-06-24T00:00:00",
          "2006-07-01T00:00:00",
          "2006-07-08T00:00:00",
          "2006-07-15T00:00:00",
          "2006-07-22T00:00:00",
          "2006-07-29T00:00:00",
          "2006-08-05T00:00:00",
          "2006-08-12T00:00:00",
          "2006-08-19T00:00:00",
          "2006-08-26T00:00:00",
          "2006-09-02T00:00:00",
          "2006-09-09T00:00:00",
          "2006-09-16T00:00:00",
          "2006-09-23T00:00:00",
          "2006-09-30T00:00:00",
          "2006-10-07T00:00:00",
          "2006-10-14T00:00:00",
          "2006-10-21T00:00:00",
          "2006-10-28T00:00:00",
          "2006-11-04T00:00:00",
          "2006-11-11T00:00:00",
          "2006-11-18T00:00:00",
          "2006-11-25T00:00:00",
          "2006-12-02T00:00:00",
          "2006-12-09T00:00:00",
          "2006-12-16T00:00:00",
          "2006-12-23T00:00:00",
          "2006-12-30T00:00:00",
          "2007-01-06T00:00:00",
          "2007-01-13T00:00:00",
          "2007-01-20T00:00:00",
          "2007-01-27T00:00:00",
          "2007-02-03T00:00:00",
          "2007-02-10T00:00:00",
          "2007-02-17T00:00:00",
          "2007-02-24T00:00:00",
          "2007-03-03T00:00:00",
          "2007-03-10T00:00:00",
          "2007-03-17T00:00:00",
          "2007-03-24T00:00:00",
          "2007-03-31T00:00:00",
          "2007-04-07T00:00:00",
          "2007-04-14T00:00:00",
          "2007-04-21T00:00:00",
          "2007-04-28T00:00:00",
          "2007-05-05T00:00:00",
          "2007-05-12T00:00:00",
          "2007-05-19T00:00:00",
          "2007-05-26T00:00:00",
          "2007-06-02T00:00:00",
          "2007-06-09T00:00:00",
          "2007-06-16T00:00:00",
          "2007-06-23T00:00:00",
          "2007-06-30T00:00:00",
          "2007-07-07T00:00:00",
          "2007-07-14T00:00:00",
          "2007-07-21T00:00:00",
          "2007-07-28T00:00:00",
          "2007-08-04T00:00:00",
          "2007-08-11T00:00:00",
          "2007-08-18T00:00:00",
          "2007-08-25T00:00:00",
          "2007-09-01T00:00:00",
          "2007-09-08T00:00:00",
          "2007-09-15T00:00:00",
          "2007-09-22T00:00:00",
          "2007-09-29T00:00:00",
          "2007-10-06T00:00:00",
          "2007-10-13T00:00:00",
          "2007-10-20T00:00:00",
          "2007-10-27T00:00:00",
          "2007-11-03T00:00:00",
          "2007-11-10T00:00:00",
          "2007-11-17T00:00:00",
          "2007-11-24T00:00:00",
          "2007-12-01T00:00:00",
          "2007-12-08T00:00:00",
          "2007-12-15T00:00:00",
          "2007-12-22T00:00:00",
          "2007-12-29T00:00:00",
          "2008-01-05T00:00:00",
          "2008-01-12T00:00:00",
          "2008-01-19T00:00:00",
          "2008-01-26T00:00:00",
          "2008-02-02T00:00:00",
          "2008-02-09T00:00:00",
          "2008-02-16T00:00:00",
          "2008-02-23T00:00:00",
          "2008-03-01T00:00:00",
          "2008-03-08T00:00:00",
          "2008-03-15T00:00:00",
          "2008-03-22T00:00:00",
          "2008-03-29T00:00:00",
          "2008-04-05T00:00:00",
          "2008-04-12T00:00:00",
          "2008-04-19T00:00:00",
          "2008-04-26T00:00:00",
          "2008-05-03T00:00:00",
          "2008-05-10T00:00:00",
          "2008-05-17T00:00:00",
          "2008-05-24T00:00:00",
          "2008-05-31T00:00:00",
          "2008-06-07T00:00:00",
          "2008-06-14T00:00:00",
          "2008-06-21T00:00:00",
          "2008-06-28T00:00:00",
          "2008-07-05T00:00:00",
          "2008-07-12T00:00:00",
          "2008-07-19T00:00:00",
          "2008-07-26T00:00:00",
          "2008-08-02T00:00:00",
          "2008-08-09T00:00:00",
          "2008-08-16T00:00:00",
          "2008-08-23T00:00:00",
          "2008-08-30T00:00:00",
          "2008-09-06T00:00:00",
          "2008-09-13T00:00:00",
          "2008-09-20T00:00:00",
          "2008-09-27T00:00:00",
          "2008-10-04T00:00:00",
          "2008-10-11T00:00:00",
          "2008-10-18T00:00:00",
          "2008-10-25T00:00:00",
          "2008-11-01T00:00:00",
          "2008-11-08T00:00:00",
          "2008-11-15T00:00:00",
          "2008-11-22T00:00:00",
          "2008-11-29T00:00:00",
          "2008-12-06T00:00:00",
          "2008-12-13T00:00:00",
          "2008-12-20T00:00:00",
          "2008-12-27T00:00:00",
          "2009-01-03T00:00:00",
          "2009-01-10T00:00:00",
          "2009-01-17T00:00:00",
          "2009-01-24T00:00:00",
          "2009-01-31T00:00:00",
          "2009-02-07T00:00:00",
          "2009-02-14T00:00:00",
          "2009-02-21T00:00:00",
          "2009-02-28T00:00:00",
          "2009-03-07T00:00:00",
          "2009-03-14T00:00:00",
          "2009-03-21T00:00:00",
          "2009-03-28T00:00:00",
          "2009-04-04T00:00:00",
          "2009-04-11T00:00:00",
          "2009-04-18T00:00:00",
          "2009-04-25T00:00:00",
          "2009-05-02T00:00:00",
          "2009-05-09T00:00:00",
          "2009-05-16T00:00:00",
          "2009-05-23T00:00:00",
          "2009-05-30T00:00:00",
          "2009-06-06T00:00:00",
          "2009-06-13T00:00:00",
          "2009-06-20T00:00:00",
          "2009-06-27T00:00:00",
          "2009-07-04T00:00:00",
          "2009-07-11T00:00:00",
          "2009-07-18T00:00:00",
          "2009-07-25T00:00:00",
          "2009-08-01T00:00:00",
          "2009-08-08T00:00:00",
          "2009-08-15T00:00:00",
          "2009-08-22T00:00:00",
          "2009-08-29T00:00:00",
          "2009-09-05T00:00:00",
          "2009-09-12T00:00:00",
          "2009-09-19T00:00:00",
          "2009-09-26T00:00:00",
          "2009-10-03T00:00:00",
          "2009-10-10T00:00:00",
          "2009-10-17T00:00:00",
          "2009-10-24T00:00:00",
          "2009-10-31T00:00:00",
          "2009-11-07T00:00:00",
          "2009-11-14T00:00:00",
          "2009-11-21T00:00:00",
          "2009-11-28T00:00:00",
          "2009-12-05T00:00:00",
          "2009-12-12T00:00:00",
          "2009-12-19T00:00:00",
          "2009-12-26T00:00:00",
          "2010-01-02T00:00:00",
          "2010-01-09T00:00:00",
          "2010-01-16T00:00:00",
          "2010-01-23T00:00:00",
          "2010-01-30T00:00:00",
          "2010-02-06T00:00:00",
          "2010-02-13T00:00:00",
          "2010-02-20T00:00:00",
          "2010-02-27T00:00:00",
          "2010-03-06T00:00:00",
          "2010-03-13T00:00:00",
          "2010-03-20T00:00:00",
          "2010-03-27T00:00:00",
          "2010-04-03T00:00:00",
          "2010-04-10T00:00:00",
          "2010-04-17T00:00:00",
          "2010-04-24T00:00:00",
          "2010-05-01T00:00:00",
          "2010-05-08T00:00:00",
          "2010-05-15T00:00:00",
          "2010-05-22T00:00:00",
          "2010-05-29T00:00:00",
          "2010-06-05T00:00:00",
          "2010-06-12T00:00:00",
          "2010-06-19T00:00:00",
          "2010-06-26T00:00:00",
          "2010-07-03T00:00:00",
          "2010-07-10T00:00:00",
          "2010-07-17T00:00:00",
          "2010-07-24T00:00:00",
          "2010-07-31T00:00:00",
          "2010-08-07T00:00:00",
          "2010-08-14T00:00:00",
          "2010-08-21T00:00:00",
          "2010-08-28T00:00:00",
          "2010-09-04T00:00:00",
          "2010-09-11T00:00:00",
          "2010-09-18T00:00:00",
          "2010-09-25T00:00:00",
          "2010-10-02T00:00:00",
          "2010-10-09T00:00:00",
          "2010-10-16T00:00:00",
          "2010-10-23T00:00:00",
          "2010-10-30T00:00:00",
          "2010-11-06T00:00:00",
          "2010-11-13T00:00:00",
          "2010-11-20T00:00:00",
          "2010-11-27T00:00:00",
          "2010-12-04T00:00:00",
          "2010-12-11T00:00:00",
          "2010-12-18T00:00:00",
          "2010-12-25T00:00:00",
          "2011-01-01T00:00:00",
          "2011-01-08T00:00:00",
          "2011-01-15T00:00:00",
          "2011-01-22T00:00:00",
          "2011-01-29T00:00:00",
          "2011-02-05T00:00:00",
          "2011-02-12T00:00:00",
          "2011-02-19T00:00:00",
          "2011-02-26T00:00:00",
          "2011-03-05T00:00:00",
          "2011-03-12T00:00:00",
          "2011-03-19T00:00:00",
          "2011-03-26T00:00:00",
          "2011-04-02T00:00:00",
          "2011-04-09T00:00:00",
          "2011-04-16T00:00:00",
          "2011-04-23T00:00:00",
          "2011-04-30T00:00:00",
          "2011-05-07T00:00:00",
          "2011-05-14T00:00:00",
          "2011-05-21T00:00:00",
          "2011-05-28T00:00:00",
          "2011-06-04T00:00:00",
          "2011-06-11T00:00:00",
          "2011-06-18T00:00:00",
          "2011-06-25T00:00:00",
          "2011-07-02T00:00:00",
          "2011-07-09T00:00:00",
          "2011-07-16T00:00:00",
          "2011-07-23T00:00:00",
          "2011-07-30T00:00:00",
          "2011-08-06T00:00:00",
          "2011-08-13T00:00:00",
          "2011-08-20T00:00:00",
          "2011-08-27T00:00:00",
          "2011-09-03T00:00:00",
          "2011-09-10T00:00:00",
          "2011-09-17T00:00:00",
          "2011-09-24T00:00:00",
          "2011-10-01T00:00:00",
          "2011-10-08T00:00:00",
          "2011-10-15T00:00:00",
          "2011-10-22T00:00:00",
          "2011-10-29T00:00:00",
          "2011-11-05T00:00:00",
          "2011-11-12T00:00:00",
          "2011-11-19T00:00:00",
          "2011-11-26T00:00:00",
          "2011-12-03T00:00:00",
          "2011-12-10T00:00:00",
          "2011-12-17T00:00:00",
          "2011-12-24T00:00:00",
          "2011-12-31T00:00:00",
          "2012-01-07T00:00:00",
          "2012-01-14T00:00:00",
          "2012-01-21T00:00:00",
          "2012-01-28T00:00:00",
          "2012-02-04T00:00:00",
          "2012-02-11T00:00:00",
          "2012-02-18T00:00:00",
          "2012-02-25T00:00:00",
          "2012-03-03T00:00:00",
          "2012-03-10T00:00:00",
          "2012-03-17T00:00:00",
          "2012-03-24T00:00:00",
          "2012-03-31T00:00:00",
          "2012-04-07T00:00:00",
          "2012-04-14T00:00:00",
          "2012-04-21T00:00:00",
          "2012-04-28T00:00:00",
          "2012-05-05T00:00:00",
          "2012-05-12T00:00:00",
          "2012-05-19T00:00:00",
          "2012-05-26T00:00:00",
          "2012-06-02T00:00:00",
          "2012-06-09T00:00:00",
          "2012-06-16T00:00:00",
          "2012-06-23T00:00:00",
          "2012-06-30T00:00:00",
          "2012-07-07T00:00:00",
          "2012-07-14T00:00:00",
          "2012-07-21T00:00:00",
          "2012-07-28T00:00:00",
          "2012-08-04T00:00:00",
          "2012-08-11T00:00:00",
          "2012-08-18T00:00:00",
          "2012-08-25T00:00:00",
          "2012-09-01T00:00:00",
          "2012-09-08T00:00:00",
          "2012-09-15T00:00:00",
          "2012-09-22T00:00:00",
          "2012-09-29T00:00:00",
          "2012-10-06T00:00:00",
          "2012-10-13T00:00:00",
          "2012-10-20T00:00:00",
          "2012-10-27T00:00:00",
          "2012-11-03T00:00:00",
          "2012-11-10T00:00:00",
          "2012-11-17T00:00:00",
          "2012-11-24T00:00:00",
          "2012-12-01T00:00:00",
          "2012-12-08T00:00:00",
          "2012-12-15T00:00:00",
          "2012-12-22T00:00:00",
          "2012-12-29T00:00:00",
          "2013-01-05T00:00:00",
          "2013-01-12T00:00:00",
          "2013-01-19T00:00:00",
          "2013-01-26T00:00:00",
          "2013-02-02T00:00:00",
          "2013-02-09T00:00:00",
          "2013-02-16T00:00:00",
          "2013-02-23T00:00:00",
          "2013-03-02T00:00:00",
          "2013-03-09T00:00:00",
          "2013-03-16T00:00:00",
          "2013-03-23T00:00:00",
          "2013-03-30T00:00:00",
          "2013-04-06T00:00:00",
          "2013-04-13T00:00:00",
          "2013-04-20T00:00:00",
          "2013-04-27T00:00:00",
          "2013-05-04T00:00:00",
          "2013-05-11T00:00:00",
          "2013-05-18T00:00:00",
          "2013-05-25T00:00:00",
          "2013-06-01T00:00:00",
          "2013-06-08T00:00:00",
          "2013-06-15T00:00:00",
          "2013-06-22T00:00:00",
          "2013-06-29T00:00:00",
          "2013-07-06T00:00:00",
          "2013-07-13T00:00:00",
          "2013-07-20T00:00:00",
          "2013-07-27T00:00:00",
          "2013-08-03T00:00:00",
          "2013-08-10T00:00:00",
          "2013-08-17T00:00:00",
          "2013-08-24T00:00:00",
          "2013-08-31T00:00:00",
          "2013-09-07T00:00:00",
          "2013-09-14T00:00:00",
          "2013-09-21T00:00:00",
          "2013-09-28T00:00:00",
          "2013-10-05T00:00:00",
          "2013-10-12T00:00:00",
          "2013-10-19T00:00:00",
          "2013-10-26T00:00:00",
          "2013-11-02T00:00:00",
          "2013-11-09T00:00:00",
          "2013-11-16T00:00:00",
          "2013-11-23T00:00:00",
          "2013-11-30T00:00:00",
          "2013-12-07T00:00:00",
          "2013-12-14T00:00:00",
          "2013-12-21T00:00:00",
          "2013-12-28T00:00:00",
          "2014-01-04T00:00:00",
          "2014-01-11T00:00:00",
          "2014-01-18T00:00:00",
          "2014-01-25T00:00:00",
          "2014-02-01T00:00:00",
          "2014-02-08T00:00:00",
          "2014-02-15T00:00:00",
          "2014-02-22T00:00:00",
          "2014-03-01T00:00:00",
          "2014-03-08T00:00:00",
          "2014-03-15T00:00:00",
          "2014-03-22T00:00:00",
          "2014-03-29T00:00:00",
          "2014-04-05T00:00:00",
          "2014-04-12T00:00:00",
          "2014-04-19T00:00:00",
          "2014-04-26T00:00:00",
          "2014-05-03T00:00:00",
          "2014-05-10T00:00:00",
          "2014-05-17T00:00:00",
          "2014-05-24T00:00:00",
          "2014-05-31T00:00:00",
          "2014-06-07T00:00:00",
          "2014-06-14T00:00:00",
          "2014-06-21T00:00:00",
          "2014-06-28T00:00:00",
          "2014-07-05T00:00:00",
          "2014-07-12T00:00:00",
          "2014-07-19T00:00:00",
          "2014-07-26T00:00:00",
          "2014-08-02T00:00:00",
          "2014-08-09T00:00:00",
          "2014-08-16T00:00:00",
          "2014-08-23T00:00:00",
          "2014-08-30T00:00:00",
          "2014-09-06T00:00:00",
          "2014-09-13T00:00:00",
          "2014-09-20T00:00:00",
          "2014-09-27T00:00:00",
          "2014-10-04T00:00:00",
          "2014-10-11T00:00:00",
          "2014-10-18T00:00:00",
          "2014-10-25T00:00:00",
          "2014-11-01T00:00:00",
          "2014-11-08T00:00:00",
          "2014-11-15T00:00:00",
          "2014-11-22T00:00:00",
          "2014-11-29T00:00:00",
          "2014-12-06T00:00:00",
          "2014-12-13T00:00:00",
          "2014-12-20T00:00:00",
          "2014-12-27T00:00:00",
          "2015-01-03T00:00:00",
          "2015-01-10T00:00:00",
          "2015-01-17T00:00:00",
          "2015-01-24T00:00:00",
          "2015-01-31T00:00:00",
          "2015-02-07T00:00:00",
          "2015-02-14T00:00:00",
          "2015-02-21T00:00:00",
          "2015-02-28T00:00:00",
          "2015-03-07T00:00:00",
          "2015-03-14T00:00:00",
          "2015-03-21T00:00:00",
          "2015-03-28T00:00:00",
          "2015-04-04T00:00:00",
          "2015-04-11T00:00:00",
          "2015-04-18T00:00:00",
          "2015-04-25T00:00:00",
          "2015-05-02T00:00:00",
          "2015-05-09T00:00:00",
          "2015-05-16T00:00:00",
          "2015-05-23T00:00:00",
          "2015-05-30T00:00:00",
          "2015-06-06T00:00:00",
          "2015-06-13T00:00:00",
          "2015-06-20T00:00:00",
          "2015-06-27T00:00:00",
          "2015-07-04T00:00:00",
          "2015-07-11T00:00:00",
          "2015-07-18T00:00:00",
          "2015-07-25T00:00:00",
          "2015-08-01T00:00:00",
          "2015-08-08T00:00:00",
          "2015-08-15T00:00:00",
          "2015-08-22T00:00:00",
          "2015-08-29T00:00:00",
          "2015-09-05T00:00:00",
          "2015-09-12T00:00:00",
          "2015-09-19T00:00:00",
          "2015-09-26T00:00:00",
          "2015-10-03T00:00:00",
          "2015-10-10T00:00:00",
          "2015-10-17T00:00:00",
          "2015-10-24T00:00:00",
          "2015-10-31T00:00:00",
          "2015-11-07T00:00:00",
          "2015-11-14T00:00:00",
          "2015-11-21T00:00:00",
          "2015-11-28T00:00:00",
          "2015-12-05T00:00:00",
          "2015-12-12T00:00:00",
          "2015-12-19T00:00:00",
          "2015-12-26T00:00:00",
          "2016-01-02T00:00:00",
          "2016-01-09T00:00:00",
          "2016-01-16T00:00:00",
          "2016-01-23T00:00:00",
          "2016-01-30T00:00:00",
          "2016-02-06T00:00:00",
          "2016-02-13T00:00:00",
          "2016-02-20T00:00:00",
          "2016-02-27T00:00:00",
          "2016-03-05T00:00:00",
          "2016-03-12T00:00:00",
          "2016-03-19T00:00:00",
          "2016-03-26T00:00:00",
          "2016-04-02T00:00:00",
          "2016-04-09T00:00:00",
          "2016-04-16T00:00:00",
          "2016-04-23T00:00:00",
          "2016-04-30T00:00:00",
          "2016-05-07T00:00:00",
          "2016-05-14T00:00:00",
          "2016-05-21T00:00:00",
          "2016-05-28T00:00:00",
          "2016-06-04T00:00:00",
          "2016-06-11T00:00:00",
          "2016-06-18T00:00:00",
          "2016-06-25T00:00:00",
          "2016-07-02T00:00:00",
          "2016-07-09T00:00:00",
          "2016-07-16T00:00:00",
          "2016-07-23T00:00:00",
          "2016-07-30T00:00:00",
          "2016-08-06T00:00:00",
          "2016-08-13T00:00:00",
          "2016-08-20T00:00:00",
          "2016-08-27T00:00:00",
          "2016-09-03T00:00:00",
          "2016-09-10T00:00:00",
          "2016-09-17T00:00:00",
          "2016-09-24T00:00:00",
          "2016-10-01T00:00:00",
          "2016-10-08T00:00:00",
          "2016-10-15T00:00:00",
          "2016-10-22T00:00:00",
          "2016-10-29T00:00:00",
          "2016-11-05T00:00:00",
          "2016-11-12T00:00:00",
          "2016-11-19T00:00:00",
          "2016-11-26T00:00:00",
          "2016-12-03T00:00:00",
          "2016-12-10T00:00:00",
          "2016-12-17T00:00:00",
          "2016-12-24T00:00:00",
          "2016-12-31T00:00:00",
          "2017-01-07T00:00:00",
          "2017-01-14T00:00:00",
          "2017-01-21T00:00:00",
          "2017-01-28T00:00:00",
          "2017-02-04T00:00:00",
          "2017-02-11T00:00:00",
          "2017-02-18T00:00:00",
          "2017-02-25T00:00:00",
          "2017-03-04T00:00:00",
          "2017-03-11T00:00:00",
          "2017-03-18T00:00:00",
          "2017-03-25T00:00:00",
          "2017-04-01T00:00:00",
          "2017-04-08T00:00:00",
          "2017-04-15T00:00:00",
          "2017-04-22T00:00:00",
          "2017-04-29T00:00:00",
          "2017-05-06T00:00:00",
          "2017-05-13T00:00:00",
          "2017-05-20T00:00:00",
          "2017-05-27T00:00:00",
          "2017-06-03T00:00:00",
          "2017-06-10T00:00:00",
          "2017-06-17T00:00:00",
          "2017-06-24T00:00:00",
          "2017-07-01T00:00:00",
          "2017-07-08T00:00:00",
          "2017-07-15T00:00:00",
          "2017-07-22T00:00:00",
          "2017-07-29T00:00:00",
          "2017-08-05T00:00:00",
          "2017-08-12T00:00:00",
          "2017-08-19T00:00:00",
          "2017-08-26T00:00:00",
          "2017-09-02T00:00:00",
          "2017-09-09T00:00:00",
          "2017-09-16T00:00:00",
          "2017-09-23T00:00:00",
          "2017-09-30T00:00:00",
          "2017-10-07T00:00:00",
          "2017-10-14T00:00:00",
          "2017-10-21T00:00:00",
          "2017-10-28T00:00:00",
          "2017-11-04T00:00:00",
          "2017-11-11T00:00:00",
          "2017-11-18T00:00:00",
          "2017-11-25T00:00:00",
          "2017-12-02T00:00:00",
          "2017-12-09T00:00:00",
          "2017-12-16T00:00:00",
          "2017-12-23T00:00:00",
          "2017-12-30T00:00:00",
          "2018-01-06T00:00:00",
          "2018-01-13T00:00:00",
          "2018-01-20T00:00:00",
          "2018-01-27T00:00:00",
          "2018-02-03T00:00:00",
          "2018-02-10T00:00:00",
          "2018-02-17T00:00:00",
          "2018-02-24T00:00:00",
          "2018-03-03T00:00:00",
          "2018-03-10T00:00:00",
          "2018-03-17T00:00:00",
          "2018-03-24T00:00:00",
          "2018-03-31T00:00:00",
          "2018-04-07T00:00:00",
          "2018-04-14T00:00:00",
          "2018-04-21T00:00:00",
          "2018-04-28T00:00:00",
          "2018-05-05T00:00:00",
          "2018-05-12T00:00:00",
          "2018-05-19T00:00:00",
          "2018-05-26T00:00:00",
          "2018-06-02T00:00:00",
          "2018-06-09T00:00:00",
          "2018-06-16T00:00:00",
          "2018-06-23T00:00:00",
          "2018-06-30T00:00:00",
          "2018-07-07T00:00:00",
          "2018-07-14T00:00:00",
          "2018-07-21T00:00:00",
          "2018-07-28T00:00:00",
          "2018-08-04T00:00:00",
          "2018-08-11T00:00:00",
          "2018-08-18T00:00:00",
          "2018-08-25T00:00:00",
          "2018-09-01T00:00:00",
          "2018-09-08T00:00:00",
          "2018-09-15T00:00:00",
          "2018-09-22T00:00:00",
          "2018-09-29T00:00:00",
          "2018-10-06T00:00:00",
          "2018-10-13T00:00:00",
          "2018-10-20T00:00:00",
          "2018-10-27T00:00:00",
          "2018-11-03T00:00:00",
          "2018-11-10T00:00:00",
          "2018-11-17T00:00:00",
          "2018-11-24T00:00:00",
          "2018-12-01T00:00:00",
          "2018-12-08T00:00:00",
          "2018-12-15T00:00:00",
          "2018-12-22T00:00:00",
          "2018-12-29T00:00:00",
          "2019-01-05T00:00:00",
          "2019-01-12T00:00:00",
          "2019-01-19T00:00:00",
          "2019-01-26T00:00:00",
          "2019-02-02T00:00:00",
          "2019-02-09T00:00:00",
          "2019-02-16T00:00:00",
          "2019-02-23T00:00:00",
          "2019-03-02T00:00:00",
          "2019-03-09T00:00:00",
          "2019-03-16T00:00:00",
          "2019-03-23T00:00:00",
          "2019-03-30T00:00:00",
          "2019-04-06T00:00:00",
          "2019-04-13T00:00:00",
          "2019-04-20T00:00:00",
          "2019-04-27T00:00:00",
          "2019-05-04T00:00:00",
          "2019-05-11T00:00:00",
          "2019-05-18T00:00:00",
          "2019-05-25T00:00:00",
          "2019-06-01T00:00:00",
          "2019-06-08T00:00:00",
          "2019-06-15T00:00:00",
          "2019-06-22T00:00:00",
          "2019-06-29T00:00:00",
          "2019-07-06T00:00:00",
          "2019-07-13T00:00:00",
          "2019-07-20T00:00:00",
          "2019-07-27T00:00:00",
          "2019-08-03T00:00:00",
          "2019-08-10T00:00:00",
          "2019-08-17T00:00:00",
          "2019-08-24T00:00:00",
          "2019-08-31T00:00:00",
          "2019-09-07T00:00:00",
          "2019-09-14T00:00:00",
          "2019-09-21T00:00:00",
          "2019-09-28T00:00:00",
          "2019-10-05T00:00:00",
          "2019-10-12T00:00:00",
          "2019-10-19T00:00:00",
          "2019-10-26T00:00:00",
          "2019-11-02T00:00:00",
          "2019-11-09T00:00:00",
          "2019-11-16T00:00:00",
          "2019-11-23T00:00:00",
          "2019-11-30T00:00:00",
          "2019-12-07T00:00:00",
          "2019-12-14T00:00:00",
          "2019-12-21T00:00:00",
          "2019-12-28T00:00:00",
          "2020-01-04T00:00:00",
          "2020-01-11T00:00:00",
          "2020-01-18T00:00:00",
          "2020-01-25T00:00:00",
          "2020-02-01T00:00:00",
          "2020-02-08T00:00:00",
          "2020-02-15T00:00:00",
          "2020-02-22T00:00:00",
          "2020-02-29T00:00:00",
          "2020-03-07T00:00:00",
          "2020-03-14T00:00:00",
          "2020-03-21T00:00:00",
          "2020-03-28T00:00:00",
          "2020-04-04T00:00:00",
          "2020-04-11T00:00:00",
          "2020-04-18T00:00:00",
          "2020-04-25T00:00:00",
          "2020-05-02T00:00:00",
          "2020-05-09T00:00:00",
          "2020-05-16T00:00:00",
          "2020-05-23T00:00:00",
          "2020-05-30T00:00:00",
          "2020-06-06T00:00:00",
          "2020-06-13T00:00:00",
          "2020-06-20T00:00:00",
          "2020-06-27T00:00:00",
          "2020-07-04T00:00:00",
          "2020-07-11T00:00:00",
          "2020-07-18T00:00:00",
          "2020-07-25T00:00:00",
          "2020-08-01T00:00:00",
          "2020-08-08T00:00:00",
          "2020-08-15T00:00:00",
          "2020-08-22T00:00:00",
          "2020-08-29T00:00:00",
          "2020-09-05T00:00:00",
          "2020-09-12T00:00:00",
          "2020-09-19T00:00:00",
          "2020-09-26T00:00:00",
          "2020-10-03T00:00:00",
          "2020-10-10T00:00:00",
          "2020-10-17T00:00:00",
          "2020-10-24T00:00:00",
          "2020-10-31T00:00:00",
          "2020-11-07T00:00:00",
          "2020-11-14T00:00:00",
          "2020-11-21T00:00:00",
          "2020-11-28T00:00:00",
          "2020-12-05T00:00:00",
          "2020-12-12T00:00:00",
          "2020-12-19T00:00:00",
          "2020-12-26T00:00:00",
          "2021-01-02T00:00:00",
          "2021-01-09T00:00:00",
          "2021-01-16T00:00:00",
          "2021-01-23T00:00:00",
          "2021-01-30T00:00:00",
          "2021-02-06T00:00:00",
          "2021-02-13T00:00:00",
          "2021-02-20T00:00:00",
          "2021-02-27T00:00:00",
          "2021-03-06T00:00:00",
          "2021-03-13T00:00:00",
          "2021-03-20T00:00:00",
          "2021-03-27T00:00:00",
          "2021-04-03T00:00:00",
          "2021-04-10T00:00:00",
          "2021-04-17T00:00:00",
          "2021-04-24T00:00:00",
          "2021-05-01T00:00:00",
          "2021-05-08T00:00:00",
          "2021-05-15T00:00:00",
          "2021-05-22T00:00:00",
          "2021-05-29T00:00:00",
          "2021-06-05T00:00:00",
          "2021-06-12T00:00:00",
          "2021-06-19T00:00:00",
          "2021-06-26T00:00:00",
          "2021-07-03T00:00:00",
          "2021-07-10T00:00:00",
          "2021-07-17T00:00:00",
          "2021-07-24T00:00:00",
          "2021-07-31T00:00:00",
          "2021-08-07T00:00:00",
          "2021-08-14T00:00:00",
          "2021-08-21T00:00:00",
          "2021-08-28T00:00:00",
          "2021-09-04T00:00:00",
          "2021-09-11T00:00:00",
          "2021-09-18T00:00:00",
          "2021-09-25T00:00:00",
          "2021-10-02T00:00:00",
          "2021-10-09T00:00:00",
          "2021-10-16T00:00:00",
          "2021-10-23T00:00:00",
          "2021-10-30T00:00:00",
          "2021-11-06T00:00:00",
          "2021-11-13T00:00:00",
          "2021-11-20T00:00:00",
          "2021-11-27T00:00:00",
          "2021-12-04T00:00:00",
          "2021-12-11T00:00:00",
          "2021-12-18T00:00:00",
          "2021-12-25T00:00:00",
          "2022-01-01T00:00:00",
          "2022-01-08T00:00:00",
          "2022-01-15T00:00:00",
          "2022-01-22T00:00:00",
          "2022-01-29T00:00:00",
          "2022-02-05T00:00:00",
          "2022-02-12T00:00:00",
          "2022-02-19T00:00:00",
          "2022-02-26T00:00:00",
          "2022-03-05T00:00:00",
          "2022-03-12T00:00:00",
          "2022-03-19T00:00:00",
          "2022-03-26T00:00:00",
          "2022-04-02T00:00:00",
          "2022-04-09T00:00:00",
          "2022-04-16T00:00:00",
          "2022-04-23T00:00:00",
          "2022-04-30T00:00:00",
          "2022-05-07T00:00:00",
          "2022-05-14T00:00:00",
          "2022-05-21T00:00:00",
          "2022-05-28T00:00:00",
          "2022-06-04T00:00:00",
          "2022-06-11T00:00:00",
          "2022-06-18T00:00:00",
          "2022-06-25T00:00:00",
          "2022-07-02T00:00:00",
          "2022-07-09T00:00:00",
          "2022-07-16T00:00:00",
          "2022-07-23T00:00:00",
          "2022-07-30T00:00:00",
          "2022-08-06T00:00:00",
          "2022-08-13T00:00:00",
          "2022-08-20T00:00:00",
          "2022-08-27T00:00:00",
          "2022-09-03T00:00:00",
          "2022-09-10T00:00:00",
          "2022-09-17T00:00:00",
          "2022-09-24T00:00:00",
          "2022-10-01T00:00:00",
          "2022-10-08T00:00:00",
          "2022-10-15T00:00:00",
          "2022-10-22T00:00:00",
          "2022-10-29T00:00:00",
          "2022-11-05T00:00:00",
          "2022-11-12T00:00:00",
          "2022-11-19T00:00:00",
          "2022-11-26T00:00:00",
          "2022-12-03T00:00:00",
          "2022-12-10T00:00:00",
          "2022-12-17T00:00:00",
          "2022-12-24T00:00:00",
          "2022-12-31T00:00:00",
          "2023-01-07T00:00:00",
          "2023-01-14T00:00:00",
          "2023-01-21T00:00:00",
          "2023-01-28T00:00:00",
          "2023-02-04T00:00:00",
          "2023-02-11T00:00:00",
          "2023-02-18T00:00:00",
          "2023-02-25T00:00:00",
          "2023-03-04T00:00:00",
          "2023-03-11T00:00:00",
          "2023-03-18T00:00:00",
          "2023-03-25T00:00:00",
          "2023-04-01T00:00:00",
          "2023-04-08T00:00:00",
          "2023-04-15T00:00:00",
          "2023-04-22T00:00:00",
          "2023-04-29T00:00:00",
          "2023-05-06T00:00:00",
          "2023-05-13T00:00:00",
          "2023-05-20T00:00:00",
          "2023-05-27T00:00:00",
          "2023-06-03T00:00:00",
          "2023-06-10T00:00:00",
          "2023-06-17T00:00:00",
          "2023-06-24T00:00:00",
          "2023-07-01T00:00:00",
          "2023-07-08T00:00:00",
          "2023-07-15T00:00:00",
          "2023-07-22T00:00:00",
          "2023-07-29T00:00:00",
          "2023-08-05T00:00:00",
          "2023-08-12T00:00:00",
          "2023-08-19T00:00:00",
          "2023-08-26T00:00:00",
          "2023-09-02T00:00:00",
          "2023-09-09T00:00:00",
          "2023-09-16T00:00:00",
          "2023-09-23T00:00:00",
          "2023-09-30T00:00:00",
          "2023-10-07T00:00:00",
          "2023-10-14T00:00:00",
          "2023-10-21T00:00:00",
          "2023-10-28T00:00:00",
          "2023-11-04T00:00:00",
          "2023-11-11T00:00:00",
          "2023-11-18T00:00:00",
          "2023-11-25T00:00:00",
          "2023-12-02T00:00:00",
          "2023-12-09T00:00:00",
          "2023-12-16T00:00:00",
          "2023-12-23T00:00:00",
          "2023-12-30T00:00:00",
          "2024-01-06T00:00:00",
          "2024-01-13T00:00:00",
          "2024-01-20T00:00:00",
          "2024-01-27T00:00:00",
          "2024-02-03T00:00:00",
          "2024-02-10T00:00:00",
          "2024-02-17T00:00:00",
          "2024-02-24T00:00:00",
          "2024-03-02T00:00:00",
          "2024-03-09T00:00:00",
          "2024-03-16T00:00:00",
          "2024-03-23T00:00:00",
          "2024-03-30T00:00:00",
          "2024-04-06T00:00:00",
          "2024-04-13T00:00:00",
          "2024-04-20T00:00:00",
          "2024-04-27T00:00:00",
          "2024-05-04T00:00:00",
          "2024-05-11T00:00:00",
          "2024-05-18T00:00:00",
          "2024-05-25T00:00:00",
          "2024-06-01T00:00:00",
          "2024-06-08T00:00:00",
          "2024-06-15T00:00:00",
          "2024-06-22T00:00:00",
          "2024-06-29T00:00:00",
          "2024-07-06T00:00:00",
          "2024-07-13T00:00:00",
          "2024-07-20T00:00:00",
          "2024-07-27T00:00:00",
          "2024-08-03T00:00:00",
          "2024-08-10T00:00:00",
          "2024-08-17T00:00:00",
          "2024-08-24T00:00:00",
          "2024-08-31T00:00:00",
          "2024-09-07T00:00:00",
          "2024-09-14T00:00:00",
          "2024-09-21T00:00:00",
          "2024-09-28T00:00:00",
          "2024-10-05T00:00:00",
          "2024-10-12T00:00:00",
          "2024-10-19T00:00:00",
          "2024-10-26T00:00:00",
          "2024-11-02T00:00:00",
          "2024-11-09T00:00:00",
          "2024-11-16T00:00:00",
          "2024-11-23T00:00:00",
          "2024-11-30T00:00:00",
          "2024-12-07T00:00:00",
          "2024-12-14T00:00:00",
          "2024-12-21T00:00:00",
          "2024-12-28T00:00:00",
          "2025-01-04T00:00:00",
          "2025-01-11T00:00:00",
          "2025-01-18T00:00:00",
          "2025-01-25T00:00:00",
          "2025-02-01T00:00:00"
         ],
         "xaxis": "x",
         "y": [
          208,
          208,
          206.99999999998124,
          216.99999999998658,
          203.99999999999315,
          220.99999999998948,
          228.99999999998352,
          228.99999999998352,
          255.0000000000149,
          310.0000000000002,
          240.99999999998047,
          246.19999999999146,
          249.00000000001774,
          258.9999999999995,
          256.99999999998425,
          298.99999999999847,
          244.99999999998732,
          254.99999999999264,
          253.0000000000023,
          230.00000000000227,
          229.4000000000002,
          227.99999999998704,
          247.999999999999,
          233.19999999998888,
          219.9999999999786,
          214.99999999998445,
          208.99999999999517,
          240.99999999998047,
          240.99999999998047,
          238.99999999999014,
          208.99999999999517,
          220.9999999999934,
          202.00000000000153,
          214.99999999999494,
          213.000000000002,
          221.5999999999811,
          230.99999999999875,
          215.599999999997,
          205.79999999999413,
          203.99999999999315,
          230.99999999999875,
          205.9999999999848,
          222.99999999998505,
          206.99999999998124,
          221.99999999998857,
          209.20000000000022,
          193.3999999999936,
          190.99999999999974,
          201.00000000000637,
          220.9999999999934,
          203.99999999999315,
          219.00000000000048,
          215.9999999999901,
          221.99999999998857,
          221.99999999998857,
          219.99999999999827,
          197.99999999999469,
          243.99999999999216,
          200.40000000001478,
          192.99999999999136,
          191.79999999998984,
          189.999999999981,
          203.99999999999315,
          189.999999999981,
          199.9999999999863,
          190.99999999999974,
          190.00000000000327,
          170.9999999999891,
          194.999999999983,
          250.9999999999858,
          197.60000000002256,
          193.99999999998784,
          198.99999999998985,
          193.99999999998784,
          198.99999999998985,
          191.99999999999622,
          193.99999999998784,
          188.99999999998454,
          198.99999999999116,
          213.99999999999847,
          179.99999999999795,
          179.99999999999795,
          205.9999999999848,
          206.99999999998124,
          217.99999999998172,
          191.99999999999622,
          192.99999999999136,
          187.99999999998937,
          189.99999999997968,
          194.999999999983,
          189.79999999999688,
          187.79999999998824,
          185.00000000000125,
          186.9999999999942,
          190.99999999999974,
          180.99999999999443,
          180.99999999999443,
          184.9999999999777,
          195.20000000000377,
          198.99999999998985,
          162.00000000000253,
          194.59999999997027,
          194.999999999983,
          191.99999999999622,
          222.99999999998505,
          189.999999999981,
          191.4000000000033,
          192.3999999999932,
          193.99999999998653,
          202.99999999999667,
          194.79999999999367,
          191.99999999999622,
          191.99999999999622,
          200.99999999998278,
          188.99999999998454,
          186.9999999999798,
          180.99999999999443,
          182.99999999998604,
          181.9999999999909,
          189.999999999981,
          184.4000000000005,
          176.99999999998758,
          176.99999999998758,
          182.99999999998604,
          179.00000000000279,
          180.99999999999312,
          189.3999999999868,
          191.99999999999622,
          181.9999999999909,
          195.20000000001033,
          210.19999999997833,
          226.9999999999919,
          205.9999999999848,
          202.39999999997758,
          191.99999999999622,
          198.2000000000076,
          202.99999999999667,
          198.99999999998985,
          198.99999999998985,
          191.59999999999133,
          181.9999999999909,
          208.99999999999517,
          192.99999999999136,
          192.99999999999136,
          192.99999999999136,
          199.9999999999863,
          198.99999999998985,
          204.99999999998832,
          197.99999999999469,
          210.9999999999881,
          196.9999999999982,
          216.99999999998658,
          202.00000000000153,
          202.00000000000153,
          228.00000000000014,
          231.9999999999939,
          222.99999999998505,
          233.7999999999962,
          249.60000000001327,
          267.999999999986,
          250.19999999997603,
          238.99999999998883,
          261.2000000000027,
          267.9999999999926,
          270.9999999999964,
          241.9999999999992,
          267.80000000000064,
          270.9999999999964,
          264.0000000000028,
          275.9999999999997,
          272.99999999998937,
          325.2000000000441,
          373.9999999999932,
          340.99999999998516,
          327.800000000005,
          311.79999999997636,
          298.599999999991,
          295.99999999998806,
          300.9999999999901,
          300.9999999999901,
          297.0000000000042,
          294.5999999999815,
          287.19999999999607,
          276.9999999999962,
          291.39999999998963,
          293.99999999999517,
          280.4000000000154,
          260.99999999999113,
          270.9999999999964,
          302.9999999999817,
          302.9999999999817,
          296.9999999999833,
          323.99999999998886,
          291.99999999998124,
          332.999999999999,
          337.9999999999905,
          349.99999999999795,
          326.9999999999992,
          333.99999999999415,
          328.5999999999912,
          326.9999999999992,
          335.9999999999858,
          313.9999999999835,
          313.9999999999835,
          336.99999999998226,
          305.9999999999934,
          304.0000000000018,
          288.9999999999932,
          321.00000000000074,
          296.3999999999956,
          287.9999999999967,
          303.79999999998626,
          311.99999999999187,
          291.99999999998124,
          295.99999999998806,
          276.4000000000112,
          267.999999999986,
          295.79999999997386,
          296.9999999999833,
          287.00000000000153,
          293.599999999989,
          299.99999999999494,
          298.000000000002,
          278.99999999998784,
          285.7999999999869,
          289.19999999999953,
          290.9999999999874,
          293,
          283.9999999999898,
          298.0000000000007,
          300.19999999999476,
          300.9999999999901,
          294.99999999999164,
          298.99999999999847,
          286.59999999999536,
          271.5999999999867,
          264.0000000000028,
          312.99999999998704,
          304.00000000000045,
          311.9999999999709,
          349.0000000000028,
          319.999999999982,
          316.3999999999905,
          306.9999999999886,
          358.99999999998454,
          301.9999999999866,
          301.9999999999866,
          307.99999999998505,
          298.99999999999847,
          312.99999999998704,
          295.19999999999146,
          290.8000000000007,
          282.99999999999466,
          300.9999999999901,
          289.5999999999782,
          273.99999999998454,
          281.9999999999982,
          298.99999999999847,
          273.9999999999662,
          261.80000000000086,
          243.99999999999216,
          289.1999999999641,
          294.99999999999164,
          249.99999999999062,
          266.7999999999924,
          271.5999999999788,
          275.9999999999997,
          262.399999999999,
          255.59999999997504,
          253.99999999999747,
          258.9999999999903,
          265.80000000000115,
          265.99999999999443,
          262.40000000000424,
          257.99999999998073,
          273.99999999998454,
          258.9999999999995,
          258.9999999999995,
          267.39999999999185,
          270.9999999999964,
          265.99999999999443,
          266.9999999999909,
          266.9999999999909,
          264.0000000000028,
          270.1999999999775,
          278.5999999999882,
          296.99999999998454,
          349.99999999999795,
          296.9999999999833,
          317.99999999999034,
          261.8000000000349,
          247.00000000000253,
          249.99999999999062,
          245.99999999998377,
          259.19999999998356,
          261.99999999998755,
          257.99999999998073,
          258.9999999999995,
          257.19999999998015,
          253.59999999999127,
          250.9999999999858,
          262.999999999984,
          249.99999999999062,
          256.99999999998425,
          233.99999999998553,
          254.99999999999264,
          241.9999999999992,
          270.9999999999964,
          225.99999999999542,
          225.99999999999542,
          259.3999999999978,
          262.999999999984,
          238.39999999996843,
          225.00000000000026,
          226.9999999999906,
          244.99999999998732,
          222.79999999997213,
          213.99999999999847,
          227.99999999998704,
          224.00000000000378,
          215.9999999999901,
          219.79999999997878,
          227.20000000000613,
          228.99999999998352,
          227.99999999998704,
          231.9999999999939,
          221.99999999998857,
          247.00000000000253,
          230.00000000000227,
          242.99999999999568,
          236.00000000000074,
          247.999999999999,
          236.99999999999721,
          236.99999999999721,
          237.99999999999238,
          231.9999999999939,
          245.99999999998377,
          236.99999999999721,
          241.9999999999992,
          236.99999999999721,
          247.999999999999,
          231.9999999999939,
          244.59999999997194,
          252.9999999999997,
          258.99999999998374,
          264.99999999999795,
          255.79999999998535,
          250.79999999999382,
          241.9999999999992,
          251.99999999998226,
          244.99999999998732,
          246.799999999987,
          248.99999999999415,
          236.00000000000074,
          248.59999999997618,
          248.99999999999415,
          234.99999999998198,
          255.400000000008,
          281.9999999999982,
          244.1999999999736,
          232.99999999999037,
          262.59999999997524,
          269.200000000002,
          277.99999999999136,
          325.99999999998045,
          288.60000000002105,
          268.9999999999825,
          339.9999999999926,
          311.1999999999769,
          290.99999999998477,
          312.99999999998835,
          368.9999999999898,
          295.5999999999583,
          291.99999999998124,
          303.5999999999995,
          307.7999999999931,
          315.0000000000023,
          313.9999999999835,
          322.9999999999924,
          295.99999999998806,
          296.9999999999833,
          294.99999999999295,
          282.99999999999466,
          289.5999999999939,
          298.000000000002,
          300.0000000000159,
          308.9999999999802,
          277.99999999999136,
          313.9999999999835,
          302.9999999999817,
          312.3999999999758,
          324.99999999998533,
          306.8000000000084,
          302.9999999999817,
          302.9999999999817,
          326.39999999999714,
          340.3999999999778,
          346.9999999999876,
          332.0000000000025,
          346.599999999988,
          349.99999999999795,
          349.99999999999795,
          360.9999999999827,
          369.9999999999863,
          366.00000000000307,
          375.99999999996123,
          412.9999999999957,
          389.00000000000045,
          413.99999999999216,
          406.00000000000074,
          448.99999999998784,
          456.99999999997794,
          517.9999999999841,
          474.00000000000045,
          527.9999999999893,
          509.9999999999926,
          526.4000000000065,
          536.9999999999982,
          455.9999999999828,
          574.999999999982,
          574.999999999982,
          554.9999999999936,
          559.0000000000005,
          539.1999999999988,
          529.9999999999809,
          545.9999999999848,
          547.3999999999861,
          550.9999999999881,
          530.9999999999998,
          554.7999999999794,
          554.9999999999936,
          530.000000000015,
          519.999999999998,
          530.9999999999998,
          507.7999999999671,
          504.9999999999906,
          508.7999999999885,
          513.9999999999995,
          485.1999999999733,
          474.99999999999693,
          528.9999999999845,
          496.9999999999992,
          496.9999999999992,
          444.19999999995946,
          423.000000000001,
          445.9999999999997,
          444.999999999981,
          453.9999999999898,
          453.9999999999898,
          458.9999999999932,
          443.99999999998454,
          457.0000000000015,
          445.9999999999997,
          447.99999999999267,
          455.9999999999828,
          432.999999999984,
          444.999999999981,
          425.9999999999891,
          428.99999999999943,
          403.9999999999855,
          425.9999999999891,
          413.99999999999216,
          414.99999999998727,
          385.9999999999901,
          400.99999999999875,
          381.39999999985935,
          369.2000000000853,
          366.3999999999909,
          364.999999999983,
          390.9999999999934,
          361.9999999999962,
          401.99999999999386,
          362.99999999999136,
          360.79999999999075,
          356.99999999998374,
          349.99999999998875,
          343.99999999999943,
          347.99999999998795,
          349.0000000000028,
          347.999999999984,
          363.9999999999826,
          367.99999999999466,
          366.00000000000307,
          379.9999999999916,
          369.1999999999988,
          360.9999999999998,
          371.7999999998864,
          390.5999999999951,
          395.0000000000002,
          381.9999999999833,
          397.9999999999818,
          401.99999999999386,
          381.9999999999833,
          406.9999999999972,
          394.9999999999819,
          386.9999999999866,
          393.9999999999802,
          372.0000000000015,
          406.00000000000074,
          390.40000000005944,
          384.79999999998597,
          378,
          385.9999999999665,
          400.0000000000023,
          393.9999999999802,
          420.9999999999858,
          383.000000000002,
          410.99999999998965,
          423.000000000001,
          407.9999999999924,
          410.99999999998045,
          402.99999999999034,
          411.1999999999383,
          413.99999999999216,
          383.79999999999865,
          383.000000000002,
          407.9999999999924,
          376.99999999998124,
          401.99999999999386,
          388.0000000000066,
          352.59999999998115,
          332.999999999999,
          396.5999999999883,
          415.99999999998374,
          367.99999999999466,
          423.000000000001,
          421.99999999998226,
          565.0000000000002,
          443.7999999999821,
          375.9999999999874,
          360.9999999999998,
          360.0000000000033,
          355.00000000000125,
          368.9999999999898,
          352.1999999999999,
          349.99999999999795,
          375.99999999998477,
          360.9999999999998,
          374.9999999999883,
          374.9999999999883,
          383.99999999999847,
          379.1999999999871,
          374.9999999999883,
          380.99999999998806,
          358.3999999998855,
          357.99999999998937,
          359.99999999997965,
          364.999999999983,
          349.99999999999795,
          364.2000000000007,
          366.00000000000307,
          364.999999999983,
          364.999999999983,
          378,
          358.99999999998454,
          366.9999999999982,
          364.999999999983,
          373.9999999999932,
          358.99999999998454,
          365.00000000000784,
          379.9999999999916,
          347.999999999984,
          364.999999999983,
          357.99999999998937,
          374.9999999999883,
          349.0000000000028,
          366.00000000000307,
          333.99999999999415,
          359.999999999981,
          353.9999999999825,
          366.9999999999982,
          362.40000000002203,
          354.9999999999868,
          343.99999999999943,
          363.99999999998784,
          342.99999999998073,
          342.99999999998073,
          356.0000000000855,
          362.99999999999136,
          359.999999999981,
          386.0000000000124,
          428.99999999999943,
          356.19999999998447,
          355.00000000000125,
          358.99999999998454,
          342.199999999988,
          332.999999999999,
          332.999999999999,
          344.9999999999959,
          308.9999999999802,
          322.00000000005616,
          326.9999999999219,
          333.99999999999415,
          321.9999999999972,
          333.99999999999415,
          313.1999999999921,
          310.0000000000002,
          330.99999999998374,
          325.99999999998045,
          333.99999999999415,
          353.19999999998583,
          355.9999999999964,
          350.5999999999922,
          347.79999999997636,
          345.99999999999113,
          364.999999999983,
          349.59999999998126,
          338.79999999998324,
          327.0000000000018,
          312.99999999998704,
          336.99999999998226,
          321.9999999999972,
          322.9999999999924,
          317.99999999999034,
          342.99999999998073,
          315.99999999999875,
          338.000000000001,
          315.99999999999875,
          316.99999999999386,
          304.00000000000045,
          352.9999999999808,
          365.9999999999834,
          376.99999999998124,
          343.99999999999943,
          348.59999999994943,
          354.19999999999015,
          358.99999999998454,
          359.99999999997965,
          391.9999999999886,
          336.99999999998226,
          344.20000000003597,
          351.39999999990755,
          362.7999999999863,
          366.9999999999982,
          357.59999999998183,
          355.00000000000125,
          362.99999999999136,
          357.00000000002956,
          352.999999999986,
          366.9999999999759,
          464.99999999999164,
          449.0000000000101,
          363.0000000000032,
          352.999999999986,
          350.400000000046,
          343.99999999999943,
          346.9999999999915,
          349.0000000000028,
          335.9999999999858,
          364.999999999983,
          350.99999999999443,
          378.9999999999951,
          367.99999999999466,
          367.99999999999466,
          367.99999999999466,
          395.0000000000002,
          385.9999999999901,
          411.9999999999992,
          385.9999999999901,
          387.7999999999885,
          389.99999999999693,
          388.000000000004,
          378,
          385.99999999994816,
          389.1999999999806,
          392.00000000001216,
          411.9999999999992,
          392.99999999998505,
          406.00000000000074,
          395.7999999999353,
          395.0000000000002,
          420.999999999991,
          429.9999999999959,
          413.99999999999216,
          415.99999999998374,
          413.99999999999085,
          410.99999999998045,
          470.9999999999901,
          412.599999999979,
          393.9999999999802,
          415.39999999998565,
          445.9999999999997,
          403.9999999999855,
          403.9999999999855,
          424.9999999999926,
          414.99999999998727,
          427.99999999998073,
          408.99999999998886,
          422.5999999999988,
          434.99999999999795,
          438.0000000000083,
          474.99999999999693,
          463.9999999999951,
          548,
          551.7999999999979,
          567.8000000000947,
          579.5999999998205,
          614.9999999999902,
          641.9999999999859,
          627.0000000000022,
          636.9999999999832,
          601.0000000000009,
          591.9999999999823,
          606.0000000000166,
          627.0000000000022,
          560.1999999999863,
          532.9999999999914,
          566.9999999999918,
          557.9999999999817,
          568.9999999999835,
          525.0000000000013,
          520.7999999999998,
          507.3999999999845,
          502.0000000000025,
          510.9999999999891,
          482.79999999978673,
          463,
          462.39999999999793,
          460.9999999999612,
          439.5999999999977,
          419.19999999999266,
          417.999999999999,
          418.99999999999415,
          406.9999999999972,
          426.99999999998425,
          397.99999999998704,
          415.59999999999854,
          415.99999999998374,
          412.1999999999807,
          411.00000000000273,
          398.9999999999835,
          413.9999999999869,
          420.9999999999858,
          420.9999999999858,
          395.99999999999545,
          419.9999999999906,
          420.7999999999729,
          426.00000000001137,
          437.999999999986,
          430.0000000000182,
          407.9999999999924,
          406.9999999999959,
          400.99999999999875,
          415.1999999999256,
          417.0000000000025,
          391.9999999999886,
          391.9999999999886,
          435.99999999999443,
          412.9999999999957,
          423.000000000001,
          413.99999999999216,
          415.5999999999907,
          419.00000000001774,
          427.99999999998073,
          424.9999999999926,
          438.80000000008357,
          448.9999999998686,
          459.9999999999883,
          425.9999999999891,
          429.9999999999959,
          406.9999999999972,
          475.9999999999934,
          441.9999999999929,
          439.19999999999544,
          434.0000000000028,
          458.7999999999972,
          472.9999999999817,
          453.9999999999898,
          482.4000000001684,
          491.00000000000074,
          488.9999999999855,
          491.00000000000074,
          485.3999999999914,
          482.99999999998704,
          513.9999999999995,
          513.9999999999995,
          516.9999999999875,
          463.9999999999951,
          557.9999999999817,
          557.9999999999817,
          547.1999999999889,
          538.9999999999898,
          555.9999999999901,
          494.9999999999853,
          544.9999999999883,
          488.9999999999855,
          582.799999999984,
          582.9999999999957,
          540.7999999996409,
          506.99999999998226,
          543.9999999999932,
          527.9999999999893,
          555.9999999999901,
          538.9999999999898,
          564.0000000001453,
          577.9999999999923,
          580.1999999999916,
          588.7999999999852,
          596.9999999999843,
          583.800000000004,
          576.0000000000007,
          584.9999999999873,
          585.3999999999764,
          586.5999999999858,
          590.000000000013,
          613.9999999999845,
          613.9999999999845,
          584.5999999998422,
          581.9999999999992,
          599.9999999999959,
          566.9999999999918,
          561.9999999999886,
          536.0000000000017,
          605.9999999999944,
          606.9999999999902,
          636.9999999999832,
          627.9999999999973,
          650.9999999999955,
          650.9999999999955,
          640.9999999999901,
          679.9999999999919,
          670.9999999999837,
          695.0000000000013,
          650.9999999999955,
          655.9999999999986,
          622.9999999999941,
          636.9999999999832,
          588.9999999999941,
          598.9999999999994,
          576.9999999999973,
          611.999999999993,
          541.1999999999839,
          524.7999999999922,
          507.1999999999886,
          488.9999999999855,
          533.9999999999878,
          498.99999999998954,
          478.9999999999802,
          478.9999999999802,
          502.999999999999,
          498.99999999996857,
          485.99999999999875,
          486.99999999999386,
          480.9999999999954,
          494.9999999999853,
          469.99999999999756,
          469.99999999999363,
          485.2000000000925,
          493.99999999992855,
          500.7999999999787,
          514.9999999999959,
          487.99999999999034,
          491.1999999999822,
          493.9999999999888,
          459.9999999999883,
          458.00000000003337,
          453.9999999999898,
          458.9999999999932,
          436.99999999999477,
          434.0000000000028,
          441.9999999999929,
          416.00000000012005,
          406.8000000000013,
          395.0000000000002,
          395.0000000000002,
          414.99999999998727,
          414.99999999998727,
          457.0000000000015,
          438.80000000012024,
          419.19999999999004,
          406.3999999999794,
          402.99999999999034,
          406.9999999999736,
          415.99999999998374,
          411.0000000000447,
          402.19999999999766,
          393.9999999999802,
          393.9999999999802,
          403.9999999999855,
          392.2000000000015,
          388.39999999995644,
          386.9999999999866,
          397.99999999998704,
          364.999999999983,
          367.99999999999466,
          361.9999999999962,
          376.99999999998124,
          367.8000000001023,
          351.7999999999963,
          346.399999999996,
          332.999999999999,
          363.99999999998784,
          338.000000000001,
          336.39999999996576,
          333.99999999999415,
          345.5999999999797,
          346.9999999999876,
          345.99999999999113,
          349.0000000000028,
          344.3999999999886,
          340.9999999999891,
          380.99999999998806,
          356.9999999999929,
          367.5999999999872,
          374.9999999999883,
          364.999999999983,
          367.99999999999466,
          353.9999999999825,
          353.9999999999825,
          356.00000000002,
          368.9999999999898,
          360.9999999999998,
          361.9999999999962,
          359.999999999981,
          366.00000000000307,
          358.1999999999787,
          356.9999999999929,
          360.9999999999761,
          381.9999999999833,
          379.9999999999916,
          400.99999999999875,
          391.8000000000005,
          384.99999999999494,
          401.99999999999386,
          392.99999999998505,
          396.80000000000257,
          402.99999999999034,
          403.9999999999868,
          416.9999999999802,
          438.9999999999825,
          423.000000000001,
          421.0000000000093,
          384.9999999999858,
          383.000000000002,
          428.99999999999943,
          391.7999999999993,
          383.000000000002,
          385.9999999999901,
          378.9999999999951,
          378.9999999999951,
          368.9999999999898,
          386.9999999999866,
          358.99999999998454,
          373.399999999995,
          392.59999999998934,
          400.99999999999875,
          389.99999999999693,
          389.99999999999693,
          373.9999999999932,
          385.9999999999901,
          385.9999999999901,
          372.9999999999967,
          392.4000000001337,
          409.9999999998647,
          410.99999999998045,
          385.99999999999403,
          385.9999999999901,
          391.5999999999955,
          393.9999999999802,
          390.9999999999934,
          395.99999999999545,
          392.99999999998505,
          402.99999999999034,
          386.5999999999974,
          385.9999999999901,
          391.80000000003986,
          395.0000000000002,
          380.9999999999868,
          365.19999999998674,
          361.9999999999962,
          406.9999999999972,
          400.39999999999145,
          398.9999999999835,
          406.9999999999369,
          412.9999999999957,
          425.9999999999891,
          402.99999999999295,
          399.1999999999978,
          398.9999999999835,
          404.999999999982,
          400.0000000000023,
          400.0000000000023,
          417.999999999999,
          396.99999999999187,
          396.99999999999187,
          396.99999999999187,
          381.9999999999833,
          396.3999999999846,
          398.9999999999835,
          376.1999999999846,
          369.9999999999863,
          389.99999999999693,
          361.9999999999962,
          396.99999999999187,
          353.39999999998827,
          343.99999999999943,
          366.00000000000307,
          366.00000000000307,
          357.99999999998937,
          389.99999999999693,
          370.19999999998873,
          366.00000000000307,
          386.1999999999807,
          389.79999999998796,
          395.99999999999545,
          380.99999999998806,
          387.9999999999817,
          383.000000000002,
          391.9999999999886,
          392.79999999998915,
          395.0000000000002,
          383.99999999999847,
          385.9999999999901,
          372.9999999999967,
          374.9999999999883,
          367.3999999999913,
          366.9999999999982,
          370.9999999999828,
          370.9999999999828,
          357.6000000000788,
          353.9999999999825,
          370.0000000000099,
          415.99999999998374,
          415.99999999998374,
          403.199999999998,
          396.99999999999187,
          400.99999999999875,
          399.0000000000058,
          393.9999999999802,
          398.9999999999835,
          389.00000000000045,
          390.9999999999934,
          385.8000000000138,
          383.000000000002,
          365.7999999999836,
          359.79999999999035,
          349.0000000000028,
          368.9999999999898,
          368.9999999999898,
          364.8000000000303,
          362.99999999999136,
          374.9999999999883,
          344.9999999999959,
          339.999999999994,
          322.9999999999924,
          347.999999999984,
          340.9999999999891,
          350.99999999999307,
          369.9999999999863,
          366.00000000000307,
          338.000000000001,
          343.0000000000305,
          347.999999999984,
          334.9999999999906,
          334.9999999999906,
          334.9999999999906,
          325.99999999998045,
          332.39999999999037,
          341.80000000009187,
          349.0000000000028,
          327.9999999999957,
          329.9999999999873,
          315.0000000000023,
          342.99999999998073,
          342.99999999998073,
          325.99999999998045,
          327.9999999999957,
          315.99999999999875,
          320.99999999998107,
          325.99999999998045,
          325.99999999998045,
          313.79999999992606,
          310.0000000000002,
          331.59999999998587,
          347.999999999984,
          321.19999999999925,
          315.9999999999843,
          311.99999999999187,
          321.9999999999972,
          310.99999999999807,
          296.9999999999833,
          312.9999999999805,
          316.99999999999386,
          300.9999999999901,
          307.99999999998505,
          300.9999999999901,
          300.9999999999901,
          288.9999999999932,
          300.59999999998263,
          310.99999999999017,
          316.99999999999386,
          305.9999999999934,
          318.9999999999855,
          316.99999999999386,
          322.9999999999924,
          315.0000000000023,
          315.0000000000023,
          334.20000000019445,
          360.9999999999998,
          334.9999999999906,
          341.99999999998425,
          311.79999999999336,
          310.99999999999545,
          326.9999999999992,
          314.9999999998922,
          304.00000000005946,
          304.00000000000045,
          306.9999999999886,
          304.00000000000045,
          310.7999999999773,
          313.9999999999835,
          313.9999999999835,
          311.99999999999187,
          312.99999999998704,
          308.9999999999802,
          315.9999999999843,
          318.9999999999855,
          311.19999999994934,
          308.4000000000384,
          304.99999999999693,
          310.99999999999545,
          305.79999999998967,
          304.19999999999504,
          302.9999999999817,
          325.2000000002367,
          353.9999999999825,
          323.39999999998804,
          312.2000000000009,
          311.99999999999187,
          315.99999999999875,
          314.0000000000058,
          304.99999999999693,
          304.99999999999693,
          305.9999999999934,
          298.1999999999874,
          291.99999999998124,
          291.99999999998124,
          293,
          285.9999999999828,
          293.99999999999517,
          283.9999999999898,
          283.9999999999898,
          296.99999999999767,
          298.99999999999847,
          297.0000000000055,
          284.9999999999863,
          293,
          285.9999999999828,
          304.00000000000045,
          294.79999999999706,
          281.9999999999982,
          281.9999999999982,
          294.99999999999164,
          287.9999999999967,
          321.9999999999972,
          300.5999999999983,
          299.99999999999494,
          324.99999999998533,
          324.99999999998533,
          318.9999999999855,
          318.9999999999855,
          322.9999999999924,
          310.7999999999812,
          304.9999999999458,
          304.00000000000045,
          314.1999999999912,
          324.1999999999834,
          332.0000000000025,
          321.00000000000074,
          324.99999999998533,
          324.99999999998533,
          334.3999999999466,
          338.000000000001,
          339.0000000000198,
          349.0000000000028,
          340.9999999999891,
          349.0000000000028,
          332.0000000000025,
          338.000000000001,
          338.8000000000029,
          340.9999999999891,
          326.9999999999992,
          332.0000000000025,
          328.99999999999216,
          335.9999999999858,
          333.99999999999415,
          333.99999999999415,
          359.999999999981,
          406.9999999999972,
          344.9999999999959,
          348.79999999994266,
          353.9999999999825,
          332.999999999999,
          335.9999999999858,
          335.9999999999858,
          343.5999999999867,
          343.99999999999943,
          338.000000000001,
          363.60000000000264,
          380.99999999998806,
          355.00000000000125,
          355.00000000000125,
          372.9999999999862,
          374.9999999999883,
          344.9999999999959,
          367.99999999999466,
          366.0000000000017,
          347.999999999984,
          350.6,
          350.99999999999443,
          349.0000000000028,
          349.0000000000028,
          330.99999999998374,
          353.19999999999374,
          366.9999999999982,
          356.9999999999929,
          361.2000000000087,
          362.99999999999136,
          353.9999999999825,
          355.00000000000125,
          352.999999999986,
          361.99999999998573,
          367.99999999999466,
          358.99999999998454,
          358.99999999998454,
          362.9999999999966,
          363.99999999998784,
          361.9999999999962,
          368.5999999999967,
          369.9999999999863,
          368.9999999999898,
          368.9999999999898,
          385.7999999999863,
          393.9999999999802,
          393.9999999999802,
          391.1999999999919,
          389.99999999999693,
          395.0000000000002,
          389.00000000000045,
          403.9999999999855,
          403.9999999999855,
          428.19999999998447,
          438.60000000008375,
          440.00000000000125,
          429.9999999999959,
          447.99999999999136,
          446.9999999999962,
          461.99999999998124,
          448.99999999998784,
          448.1999999999676,
          446.9999999999962,
          474.00000000000045,
          442.19999999999004,
          414.99999999998727,
          442.9999999999893,
          450.00000000009567,
          469.59999999980926,
          482.99999999998704,
          478.20000000000186,
          474.00000000000045,
          498.99999999999216,
          487.99999999999034,
          498.99999999999216,
          497.9999999999957,
          508.99999999999744,
          488.9999999999868,
          451.9999999999982,
          477.99999999998505,
          477.99999999998505,
          456.59999999986036,
          447.8000000000793,
          445.9999999999997,
          447.99999999999136,
          439.79999999998836,
          431.99999999998755,
          440.9999999999964,
          425.4000000000826,
          420.8000000000004,
          417.999999999999,
          421.99999999998226,
          417.999999999999,
          407.9999999999924,
          429.00000000013705,
          437.999999999986,
          435.9999999999957,
          430.5999999999836,
          424.9999999999926,
          424.9999999999926,
          423.0000000000023,
          417.999999999999,
          419.9999999999893,
          436.9999999999909,
          423.9999999999975,
          424.9999999999926,
          418.99999999999415,
          427.00000000000784,
          452.9999999998584,
          452.99999999999466,
          438.9999999999825,
          443.99999999998454,
          443.99999999998454,
          474.99999999999693,
          474.99999999999693,
          435.99999999999443,
          440.9999999999964,
          431.99999999998755,
          442.2000000000032,
          442.9999999999893,
          440.3999999999852,
          440.00000000000125,
          445.9999999999997,
          445.9999999999997,
          435.99999999999443,
          443.99999999998454,
          420.9999999999858,
          440.00000000000125,
          440.00000000000125,
          414.3999999999892,
          411.9999999999992,
          413.99999999999216,
          423.9999999999975,
          423.9999999999975,
          430.99999999999113,
          413.99999999999216,
          413.99999999999216,
          413.99999999999216,
          410.99999999998045,
          417.7999999999861,
          419.9999999999906,
          418.99999999999415,
          419.9999999999906,
          406.9999999999972,
          407.9999999999924,
          391.9999999999886,
          563.9999999999802,
          406.00000000000074,
          401.5999999999982,
          399.399999999995,
          397.99999999998704,
          411.5999999999917,
          415.99999999998374,
          415.99999999998374,
          426.99999999998425,
          403.1999999999889,
          390.9999999999882,
          373.9999999999932,
          384.99999999999494,
          364.999999999983,
          364.999999999983,
          376.3999999999386,
          376.99999999998124,
          349.79999999999416,
          340.9999999999891,
          353.5999999999973,
          358.99999999998454,
          324.8000000002043,
          312.99999999998704,
          349.1999999999921,
          353.9999999999825,
          349.99999999999926,
          339.9999999999926,
          338.99999999999613,
          318.9999999999855,
          323.0000000000159,
          359.1999999999948,
          361.9999999999962,
          350.7999999999828,
          342.79999999991935,
          338.000000000001,
          366.00000000000307,
          363.99999999996294,
          350.99999999999443,
          350.3999999999976,
          349.0000000000015,
          340.7999999999303,
          338.9999999999975,
          344.9999999999959,
          341.99999999998425,
          349.0000000000028,
          342.99999999998073,
          342.99999999998073,
          344.9999999999959,
          337.799999999992,
          328.79999999999103,
          313.9999999999835,
          355.19999999999845,
          414.99999999998727,
          345.99999999999113,
          342.60000000007153,
          338.9999999999975,
          341.99999999998425,
          335.3999999999837,
          333.1999999999975,
          332.999999999999,
          345.99999999999113,
          340.40000000004204,
          332.999999999999,
          358.99999999998454,
          358.99999999998454,
          351.79999999998324,
          347.999999999984,
          349.99999999999795,
          338.1999999999864,
          335.9999999999858,
          336.99999999998226,
          336.99999999998226,
          332.79999999999524,
          327.9999999999721,
          289.9999999999883,
          342.99999999998073,
          344.9999999999724,
          355.00000000000125,
          350.99999999999443,
          406.00000000000074,
          353.9999999999825,
          352.1999999999802,
          349.99999999999926,
          326.9999999999992,
          347.999999999984,
          337.7999999999933,
          328.1999999999156,
          321.9999999999972,
          347.3999999999859,
          351.4000000000045,
          353.9999999999825,
          330.99999999998374,
          351.99999999999744,
          370.9999999999828,
          357.20000000004904,
          354.5999999999951,
          345.5999999999836,
          343.00000000000034,
          336.1999999999987,
          335.9999999999858,
          340.9999999999891,
          333.99999999999415,
          345.99999999998454,
          358.99999999998454,
          339.59999999999957,
          332.0000000000025,
          338.000000000001,
          333.6000000000194,
          330.99999999998374,
          340.9999999999891,
          337.0000000000058,
          328.39999999997957,
          324.99999999998533,
          324.99999999998533,
          333.199999999987,
          340.9999999999891,
          332.79999999999,
          329.9999999999873,
          330.99999999998374,
          327.9999999999957,
          328.99999999999216,
          325.99999999998045,
          328.99999999999216,
          323.99999999998886,
          329.9999999999873,
          329.9999999999873,
          313.9999999999835,
          323.79999999987893,
          343.60000000000116,
          346.9999999999876,
          323.99999999998886,
          323.99999999998886,
          323.99999999998886,
          347.999999999984,
          340.5999999999816,
          335.9999999999858,
          341.1999999999981,
          346.9999999999876,
          339.99999999998346,
          332.0000000000025,
          337.9999999999774,
          350.99999999999045,
          355.00000000000125,
          349.0000000000028,
          364.999999999983,
          363.99999999998784,
          368.00000000001825,
          376.99999999998124,
          371.00000000000506,
          361.9999999999962,
          370.19999999999925,
          378,
          355.00000000000125,
          355.00000000000125,
          378.7999999999993,
          389.99999999999693,
          389.99999999999693,
          350.99999999999443,
          350.99999999999443,
          354.99999999997766,
          361.9999999999962,
          357.59999999998445,
          355.00000000000125,
          375.19999999997765,
          375.99999999998477,
          352.999999999986,
          357.0000000000165,
          373.9999999999932,
          367.3999999999926,
          366.00000000000307,
          379.79999999998,
          379.9999999999916,
          369.9999999999863,
          378.9999999999951,
          378.9999999999951,
          366.9999999999982,
          345.99999999999113,
          373.9999999999932,
          373.9999999999932,
          358.99999999998454,
          360.9999999999998,
          332.999999999999,
          414.99999999998727,
          378.7999999999914,
          373.9999999999932,
          386.9999999999866,
          379.0000000000174,
          364.999999999983,
          367.99999999999466,
          360.9999999999998,
          396.9999999999958,
          425.9999999999891,
          381.60000000024434,
          361.79999999999376,
          356.9999999999929,
          367.99999999999466,
          338.000000000001,
          338.000000000001,
          351.9999999999909,
          343.20000000003427,
          341.99999999998033,
          339.9999999999926,
          350.99999999999443,
          340.9999999999891,
          339.999999999994,
          336.99999999998226,
          343.9999999999392,
          346.9999999999876,
          328.00000000000483,
          325.99999999998045,
          325.99999999998045,
          333.00000000003047,
          336.99999999998226,
          336.99999999998226,
          328.99999999999216,
          334.79999999999995,
          341.7999999999988,
          351.9999999999909,
          344.5999999999046,
          333.99999999999415,
          333.99999999999415,
          335.9999999999858,
          351.9999999999909,
          328.9999999999987,
          326.9999999999992,
          345.9999999998889,
          346.9999999999876,
          332.0000000000025,
          355.00000000000125,
          350.99999999999045,
          349.99999999999795,
          356.9999999999929,
          340.4000000001338,
          323.99999999998886,
          344.9999999999959,
          337.5999999999935,
          328.0000000000009,
          312.99999999998704,
          312.99999999998704,
          321.9999999999972,
          320.00000000000426,
          316.99999999999386,
          318.9999999999855,
          315.0000000000023,
          324.99999999998533,
          324.99999999998533,
          329.9999999999873,
          315.99999999999875,
          341.99999999998425,
          341.99999999998425,
          317.99999999999034,
          321.9999999999972,
          315.99999999999875,
          323.5999999999984,
          331.7999999999896,
          334.9999999999906,
          315.99999999999875,
          328.00000000013193,
          345.99999999999113,
          318.99999999999204,
          300.9999999999901,
          309.79999999998995,
          324.599999999983,
          333.5999999999906,
          342.99999999998073,
          326.9999999999992,
          332.0000000000025,
          312.99999999998704,
          314.7999999999854,
          316.99999999999386,
          316.99999999999386,
          308.6000000000539,
          304.99999999999693,
          317.99999999999034,
          305.9999999999934,
          312.99999999998704,
          307.99999999998505,
          324.99999999998533,
          308.9999999999802,
          317.99999999999034,
          316.99999999999386,
          322.9999999999924,
          305.9999999999973,
          302.9999999999817,
          317.60000000011917,
          336.79999999985137,
          340.9999999999891,
          306.9999999999886,
          315.0000000000023,
          310.99999999999545,
          324.20000000007514,
          326.9999999999992,
          313.1999999999908,
          307.99999999998505,
          321.00000000000074,
          321.00000000000074,
          311.99999999999187,
          311.99999999999187,
          304.00000000000045,
          316.99999999999386,
          308.39999999999645,
          304.00000000000045,
          307.99999999998636,
          315.0000000000023,
          308.9999999999802,
          321.9999999999972,
          305.9999999999934,
          329.60000000000207,
          360.0000000000033,
          375.99999999998477,
          350.7999999997338,
          315.0000000000023,
          315.0000000000023,
          334.9999999999906,
          323.20000000000135,
          312.199999999997,
          305.19999999998237,
          301.9999999999866,
          312.1999999999498,
          312.99999999998704,
          304.00000000000045,
          304.99999999999693,
          293.99999999999517,
          306.4000000000874,
          317.99999999999034,
          317.99999999999034,
          307.99999999998505,
          307.99999999998505,
          321.20000000000186,
          333.99999999999415,
          304.00000000000045,
          314.39999999989277,
          325.99999999998045,
          299.199999999997,
          296.9999999999833,
          335.9999999999858,
          330.99999999998374,
          344.9999999999959,
          332.999999999999,
          304.99999999999693,
          300.99999999999403,
          290.99999999998477,
          311.99999999999187,
          300.9999999999901,
          300.60000000000093,
          299.99999999999494,
          307.99999999998505,
          303.00000000000006,
          298.000000000002,
          314.2000000000921,
          318.9999999999855,
          308.9999999999802,
          290.99999999998477,
          299.7999999999899,
          310.0000000000002,
          298.599999999991,
          298.000000000002,
          302.9999999999817,
          302.9999999999817,
          289.9999999999883,
          291.99999999998124,
          289.9999999999883,
          287.00000000000153,
          288.9999999999918,
          308.9999999999802,
          304.19999999999635,
          297.7999999999943,
          293.3999999999878,
          290.19999999997896,
          285.9999999999828,
          289.9999999999883,
          289.9999999999883,
          281.00000000000307,
          281.00000000000307,
          308.9999999999802,
          308.9999999999802,
          287.00000000000153,
          284.800000000052,
          279.999999999983,
          284.9999999999863,
          281.2000000000015,
          280.0000000000079,
          275.9999999999997,
          287.9999999999967,
          286.00000000000637,
          271.9999999999929,
          287.00000000000153,
          267.999999999986,
          291.99999999998784,
          298.000000000002,
          286.20000000005336,
          283.9999999999898,
          285.9999999999828,
          311.99999999999187,
          294.199999999995,
          279.999999999983,
          279.999999999983,
          285.9999999999828,
          270.00000000000125,
          271.39999999999606,
          271.9999999999929,
          265.99999999999443,
          267.999999999986,
          258.9999999999995,
          280.39999999998133,
          293,
          293,
          275.9999999999997,
          279.999999999983,
          279.999999999983,
          289.9999999999883,
          283.9999999999898,
          295.99999999998806,
          295.99999999998806,
          281.00000000000307,
          297.4000000000995,
          302.9999999999817,
          298.99999999999847,
          298.000000000002,
          309.3999999999916,
          317.4000000000014,
          317.99999999999034,
          308.59999999991373,
          300.9999999999901,
          310.999999999981,
          310.99999999999545,
          287.9999999999967,
          295.99999999996584,
          308.9999999999802,
          296.2000000000652,
          294.99999999999164,
          306.9999999999886,
          330.99999999998374,
          317.99999999999034,
          339.6000000000048,
          355.9999999999964,
          331.000000000162,
          321.00000000000074,
          362.5999999999825,
          363.99999999998784,
          347.5999999999831,
          329.99999999998465,
          317.99999999999034,
          351.79999999977883,
          368.5999999999981,
          375.99999999998477,
          361.39999999998236,
          357.99999999998937,
          385.9999999999901,
          383.99999999999847,
          392.99999999998505,
          392.99999999998505,
          378,
          391.99999999997806,
          397.99999999998704,
          383.000000000002,
          404.5999999998959,
          406.00000000000074,
          380.99999999998806,
          394.19999999999834,
          404.999999999982,
          405.8000000000009,
          407.00000000001944,
          410.99999999998045,
          387.9999999999817,
          380.99999999998806,
          397.9999999999844,
          403.199999999998,
          404.999999999982,
          394.6000000000635,
          387.9999999999817,
          400.99999999999875,
          393.9999999999802,
          401.99999999999386,
          395.0000000000002,
          404.6000000000518,
          407.9999999999924,
          395.0000000000002,
          477.4000000000013,
          516.9999999999875,
          475.9999999999934,
          481.99999999999187,
          481.99999999999187,
          482.99999999998704,
          428.99999999999943,
          427.99999999998073,
          434.0000000000015,
          491.00000000000074,
          445.3999999995351,
          389.00000000000045,
          389.00000000000045,
          420.9999999999858,
          420.9999999999858,
          396.99999999999187,
          417.999999999999,
          404.999999999982,
          413.99999999999216,
          400.5999999999847,
          396.99999999999187,
          396.99999999999187,
          397.99999999998704,
          391.9999999999886,
          398.9999999999835,
          391.9999999999886,
          432.3999999999859,
          478.9999999999802,
          441.9999999999929,
          439.0000000000048,
          413.99999999999216,
          412.60000000002486,
          408.99999999998886,
          412.9999999999957,
          408.99999999997965,
          396.39999999999634,
          378,
          391.5999999998985,
          395.99999999999545,
          385.9999999999901,
          385.9999999999901,
          390.9999999999934,
          381.60000000000065,
          378.9999999999951,
          389.99999999999693,
          387.9999999999817,
          390.0000000000192,
          398.9999999999835,
          396.99999999999056,
          393.9999999999802,
          415.99999999998374,
          409.00000000000324,
          400.99999999999875,
          408.99999999998886,
          403.9999999999855,
          405.99999999997846,
          411.9999999999992,
          407.6000000000163,
          403.1999999999849,
          396.8000000000052,
          389.00000000000045,
          389.99999999999693,
          376.99999999998124,
          428.99999999999943,
          428.99999999999943,
          393.9999999999802,
          408.99999999998886,
          386.7999999999854,
          378,
          406.9999999999972,
          409.1999999999454,
          412.9999999999957,
          389.99999999999693,
          420.9999999999858,
          421.9999999999809,
          435.99999999999443,
          423.9999999999975,
          429.9999999999959,
          410.99999999998045,
          435.99999999999443,
          417.0000000000025,
          440.5999999999981,
          449.99999999998295,
          439.60000000008813,
          422.59999999998564,
          417.0000000000025,
          424.9999999999926,
          418.99999999999415,
          430.99999999999113,
          426.99999999995146,
          416.80000000008135,
          407.9999999999924,
          432.999999999984,
          432.999999999984,
          406.00000000000205,
          400.1999999999234,
          397.99999999998704,
          402.19999999999766,
          403.9999999999855,
          395.3999999999881,
          390.9999999999934,
          413.1999999999955,
          421.99999999998226,
          385.4000000001846,
          378.9999999999951,
          386.9999999999866,
          384.99999999999363,
          375.99999999998477,
          386.9999999999866,
          374.1999999998829,
          362.99999999999136,
          370.9999999999828,
          368.9999999999898,
          353.9999999999825,
          359.59999999999445,
          366.9999999999982,
          360.40000000004744,
          351.1999999999838,
          349.0000000000028,
          355.9999999999964,
          353.9999999999825,
          361.9999999999962,
          352.999999999986,
          379.9999999999916,
          379.9999999999916,
          355.9999999999964,
          358.99999999998454,
          344.99999999998676,
          341.99999999995674,
          338.000000000001,
          345.99999999999113,
          337.799999999992,
          334.9999999999906,
          360.8000000000012,
          363.99999999998784,
          330.99999999981213,
          323.99999999998886,
          333.99999999999676,
          349.0000000000028,
          339.59999999997854,
          336.99999999998226,
          355.00000000000125,
          338.9999999999975,
          353.9999999999825,
          342.3999999999813,
          325.99999999998045,
          350.79999999999984,
          355.00000000000125,
          345.19999999991717,
          338.6000000000437,
          334.19999999998873,
          332.0000000000025,
          346.9999999999784,
          351.9999999999909,
          325.99999999998045,
          334.00000000005446,
          344.9999999999003,
          350.99999999999443,
          334.9999999999906,
          338.000000000001,
          326.9999999999992,
          338.000000000001,
          330.40000000003675,
          329.9999999999873,
          336.99999999998226,
          312.99999999998704,
          340.9999999999891,
          342.99999999998073,
          315.99999999999875,
          321.9999999999972,
          319.999999999982,
          365.8000000000019,
          368.9999999999898,
          328.99999999999216,
          328.99999999999216,
          330.99999999998374,
          306.9999999999886,
          308.9999999999802,
          317.99999999999034,
          313.9999999999835,
          332.999999999999,
          323.99999999998886,
          332.59999999990765,
          341.99999999998425,
          331.19999999999146,
          317.39999999999225,
          306.9999999999886,
          322.39999999999685,
          333.99999999999415,
          324.4000000000592,
          319.999999999982,
          319.999999999982,
          339.9999999999926,
          336.6000000000023,
          329.59999999991953,
          316.6000000001004,
          310.99999999999545,
          332.40000000000214,
          338.000000000001,
          318.9999999999894,
          316.5999999999916,
          314.59999999996853,
          310.99999999999545,
          318.9999999999855,
          315.0000000000023,
          320.19999999998834,
          333.99999999997056,
          423.9999999999975,
          423.9999999999975,
          358.99999999998454,
          383.99999999999847,
          382.0000000000055,
          336.1999999999843,
          321.9999999999972,
          321.9999999999972,
          324.99999999998533,
          308.9999999999802,
          323.99999999998886,
          310.99999999999545,
          324.20000000000306,
          326.9999999999992,
          311.99999999999187,
          319.999999999982,
          301.9999999999866,
          325.99999999998045,
          284.9999999999863,
          289.9999999999883,
          281.9999999999982,
          292.1999999999195,
          298.000000000002,
          282.99999999999466,
          296.79999999999785,
          304.79999999998273,
          306.9999999999886,
          300.59999999992624,
          292.60000000004754,
          290.99999999998477,
          298.99999999999847,
          298.99999999999847,
          312.3999999999863,
          328.8000000001771,
          346.9999999999876,
          329.3999999999918,
          318.9999999999855,
          329.9999999999873,
          300.59999999998917,
          298.000000000002,
          308.9999999999802,
          309.99999999997533,
          322.8000000000017,
          342.99999999998073,
          310.59999999999445,
          305.9999999999934,
          313.3999999999959,
          317.99999999999034,
          310.0000000000002,
          315.0000000000023,
          313.9999999999835,
          315.0000000000023,
          313.9999999999835,
          323.99999999998886,
          316.00000000005247,
          308.9999999999802,
          315.99999999999875,
          304.99999999999693,
          317.5999999999894,
          327.9999999999957,
          315.59999999990737,
          310.99999999999545,
          333.59999999998405,
          349.0000000000028,
          319.4000000000009,
          310.99999999999545,
          320.40000000004454,
          327.599999999886,
          340.9999999999891,
          320.9999999999863,
          295.99999999998806,
          334.9999999999906,
          307.99999999998505,
          312.00000000001546,
          338.000000000001,
          321.00000000000074,
          321.9999999999972,
          317.9999999999668,
          307.99999999998505,
          308.9999999999802,
          302.9999999999817,
          310.99999999999545,
          332.0000000000025,
          324.7999999999999,
          315.79999999999893,
          299.99999999999494,
          299.199999999976,
          296.9999999999833,
          310.0000000000002,
          310.0000000000002,
          312.99999999998704,
          312.99999999998704,
          319.999999999982,
          312.99999999998704,
          318.59999999995966,
          321.00000000000074,
          314.7999999999946,
          307.5999999999998,
          304.99999999999693,
          315.99999999999875,
          317.39999999996996,
          323.5999999999997,
          328.99999999999216,
          313.9999999999835,
          321.00000000000074,
          309.19999999998396,
          301.9999999999866,
          316.99999999999386,
          315.99999999999875,
          334.9999999999906,
          332.99999999999767,
          326.9999999999992,
          326.9999999999992,
          332.999999999999,
          332.0000000000025,
          351.9999999999909,
          340.0000000000018,
          332.0000000000025,
          354.5999999999977,
          357.000000000044,
          359.999999999981,
          338.39999999999543,
          321.00000000000074,
          321.00000000000074,
          366.00000000000307,
          345.59999999999934,
          341.799999999949,
          338.9999999999975,
          353.9999999999825,
          344.9999999999959,
          350.99999999997215,
          368.9999999999898,
          367.99999999999466,
          386.9999999999866,
          353.9999999999825,
          364.999999999983,
          349.0000000000028,
          369.9999999999863,
          369.9999999999863,
          366.00000000000307,
          367.59999999998195,
          368.9999999999898,
          361.9999999999962,
          381.9999999999833,
          378,
          383.80000000004975,
          391.9999999999886,
          370.9999999999828,
          391.1999999999998,
          411.7999999999981,
          443.19999999999965,
          447.99999999999136,
          425.1999999998876,
          422.2000000000371,
          420.9999999999858,
          441.9999999999929,
          440.9999999999964,
          456.99999999997794,
          482.99999999998704,
          482.99999999998704,
          480.9999999999967,
          460.99999999998477,
          480.0000000000002,
          482.00000000001546,
          496.39999999997616,
          521.2000000001987,
          536.0000000000017,
          530.5999999999922,
          528.9999999999845,
          570.0000000000023,
          565.9999999999955,
          587.0000000000025,
          516.1999999996069,
          502.999999999999,
          568.5999999999799,
          590.9999999999858,
          585.9999999999837,
          636.9999999999832,
          636.9999999999832,
          631.9999999999806,
          655.0000000000023,
          651.9999999999918,
          659.999999999982,
          650.9999999999955,
          663.7999999999981,
          664.9999999999847,
          640.9999999999914,
          598.9999999999994,
          638.9999999999984,
          612.5999999999792,
          601.9999999999875,
          624.9999999999864,
          616.2000000000729,
          605.9999999999944,
          606.9999999999902,
          594.9999999999926,
          594.9999999999926,
          607.999999999986,
          586.9999999998361,
          563.4000000002035,
          545.9999999999848,
          568.1999999999999,
          587.0000000000025,
          554.9999999999936,
          554.9999999999936,
          561.9999999999886,
          559.9999999999969,
          563.9999999999802,
          553.5999999999844,
          537.6000000000042,
          536.0000000000017,
          553.9999999999984,
          524.4000000001879,
          510.9999999999891,
          530.9999999999998,
          528.9999999999623,
          518.3999999999915,
          508.99999999998175,
          501.9999999999802,
          475.6000000001379,
          474.99999999999693,
          497.9999999999957,
          497.9999999999957,
          472.9999999999817,
          463.3999999998948,
          455.9999999999828,
          479.19999999999834,
          506.99999999998226,
          470.9999999999901,
          495.99999999998045,
          465.99999999998806,
          495.80000000014576,
          499.9999999999873,
          482.3999999999902,
          471.9999999999866,
          477.99999999998505,
          468.19999999998737,
          458.9999999999932,
          478.9999999999802,
          478.9999999999802,
          463.0000000000013,
          448.99999999998784,
          451.0000000000017,
          451.0000000000017,
          474.00000000000045,
          459.8000000000736,
          457.9999999999967,
          459.9999999999883,
          466.99999999998323,
          451.9999999999982,
          463.9999999999951,
          448.99999999986994,
          438.9999999999825,
          464.99999999999164,
          467.799999999993,
          479.59999999999405,
          484.99999999998784,
          485.99999999999875,
          463.9999999999951,
          466.99999999998323,
          447.39999999999975,
          443.99999999998454,
          458.9999999999932,
          458.9999999999932,
          445.9999999999997,
          458.9999999999932,
          438.5999999999842,
          431.99999999998755,
          452.99999999999466,
          431.99999999998755,
          429.9999999999724,
          406.9999999999972,
          431.99999999998755,
          426.599999999982,
          424.19999999999857,
          423.0000000000023,
          403.9999999999855,
          419.00000000013824,
          434.0000000000028,
          420.9999999999858,
          445.9999999999997,
          411.1999999999895,
          401.99999999999386,
          424.9999999999926,
          385.99999999979224,
          384.99999999999494,
          413.99999999999216,
          403.9999999999855,
          406.9999999999972,
          396.5999999999831,
          395.0000000000002,
          415.99999999998374,
          401.99999999999386,
          435.19999999998333,
          468.000000000002,
          424.19999999999203,
          413.99999999999216,
          423.000000000001,
          417.999999999999,
          423.000000000001,
          412.9999999999957,
          417.5999999999823,
          420.9999999999858,
          415.3999999999411,
          407.9999999999924,
          419.9999999999906,
          408.1999999999817,
          404.999999999982,
          404.999999999982,
          410.99999999998965,
          414.99999999998727,
          408.99999999998886,
          417.99999999999244,
          428.99999999999943,
          417.3999999999851,
          404.999999999982,
          404.999999999982,
          409.99999999998533,
          395.0000000000002,
          402.99999999999034,
          396.7999999999842,
          388.7999999999941,
          383.000000000002,
          386.99999999998784,
          396.99999999999187,
          381.19999999998527,
          367.99999999999466,
          367.99999999999466,
          385.9999999999901,
          375.99999999998477,
          390.9999999999934,
          366.9999999999982,
          380.99999999998806,
          369.4000000000026,
          365.79999999999404,
          359.19999999999743,
          358.99999999998454,
          368.19999999991063,
          374.9999999999883,
          367.99999999999466,
          367.0000000000008,
          360.99999999998926,
          357.99999999998937,
          386.9999999999866,
          380.99999999998806,
          386.9999999999866,
          372.0000000000015,
          372.9999999999967,
          368.9999999999898,
          372.9999999999757,
          380.99999999998806,
          376.99999999998124,
          383.99999999999847,
          383.99999999999847,
          377.5999999999925,
          367.99999999999864,
          359.999999999981,
          389.99999999999693,
          367.99999999999466,
          372.0000000000015,
          370.3999999999807,
          368.9999999999898,
          376.99999999998124,
          376.99999999998124,
          370.9999999999828,
          392.99999999998505,
          390.9999999999921,
          375.99999999998477,
          374.9999999999883,
          349.99999999999795,
          385.9999999999901,
          369.5999999999893,
          363.99999999998784,
          365.9999999999782,
          445.9999999999997,
          394.3999999999969,
          381.7999999998341,
          365.4000000002093,
          339.9999999999926,
          360.39999999999895,
          361.9999999999962,
          361.9999999999962,
          362.99999999999136,
          339.20000000011,
          338.9999999999975,
          366.00000000000307,
          357.19999999999663,
          346.9999999999876,
          361.9999999999962,
          339.9999999999926,
          339.9999999999926,
          342.99999999998073,
          342.99999999998073,
          364.3999999999901,
          374.9999999999883,
          355.9999999999964,
          353.0000000000109,
          338.0000000000914,
          330.99999999998374,
          338.9999999999975,
          359.999999999981,
          342.99999999998073,
          352.999999999986,
          342.80000000006214,
          336.99999999998226,
          352.999999999986,
          344.3999999999886,
          339.9999999999926,
          350.99999999999443,
          343.99999999999943,
          355.00000000000125,
          333.99999999999415,
          338.9999999999975,
          326.9999999999992,
          339.9999999999926,
          332.9999999999138,
          317.8000000001465,
          299.99999999999494,
          322.9999999999924,
          313.9999999999835,
          323.9999999999875,
          367.99999999999466,
          367.99999999999466,
          346.9999999999876,
          345.19999999998527,
          340.59999999998684,
          338.000000000001,
          326.19999999998424,
          312.2000000000009,
          311.99999999999187,
          363.99999999998784,
          363.99999999998784,
          332.0000000000025,
          330.0000000000109,
          319.1999999999945,
          317.99999999999034,
          331.3999999999022,
          339.9999999999926,
          330.99999999998374,
          336.99999999998226,
          332.0000000000025,
          340.9999999999891,
          318.9999999999855,
          321.9999999999972,
          320.00000000000426,
          312.99999999998704,
          329.9999999999873,
          307.99999999998505,
          307.99999999998505,
          334.39999999983263,
          344.9999999999959,
          316.59999999997723,
          302.9999999999817,
          323.99999999998886,
          304.99999999999693,
          314.40000000004864,
          316.99999999999386,
          313.9999999999835,
          315.0000000000023,
          305.3999999999822,
          301.9999999999866,
          307.99999999998505,
          293.99999999999517,
          302.9999999999817,
          294.99999999999164,
          308.9999999999802,
          301.1999999999847,
          299.99999999999494,
          304.40000000001453,
          306.9999999999886,
          287.9999999999967,
          294.99999999999164,
          289.9999999999883,
          293,
          281.00000000000307,
          290.99999999998477,
          290.99999999998477,
          279.999999999983,
          293,
          295.00000000001523,
          302.9999999999817,
          290.99999999998477,
          290.99999999998477,
          282.9999999999855,
          275.9999999999997,
          288.59999999998564,
          297.79999999999825,
          304.00000000000045,
          292.0000000000035,
          260.99999999999113,
          288.4000000000042,
          298.000000000002,
          284.9999999999863,
          311.3999999999977,
          316.99999999999386,
          289.9999999999883,
          288.1999999999873,
          279.7999999999884,
          268.9999999999825,
          287.8000000000021,
          298.000000000002,
          291.99999999998124,
          266.9999999999909,
          266.9999999999909,
          272.8000000000013,
          278.00000000000057,
          281.00000000000307,
          274.999999999981,
          277.99999999999136,
          268.9999999999825,
          274.1999999999896,
          276.9999999999726,
          291.99999999998124,
          279.5999999999886,
          264.99999999999795,
          269.9999999999593,
          271.00000000000165,
          275.79999999998154,
          278.99999999998784,
          273.99999999998454,
          278.99999999998784,
          269.99999999992394,
          264.0000000000028,
          270.59999999997973,
          271.9999999999929,
          265.5999999999922,
          264.3999999999998,
          264.0000000000028,
          264.0000000000028,
          275.9999999999997,
          275.9999999999997,
          268.999999999993,
          260.99999999999113,
          268.7999999999971,
          279.999999999983,
          264.0000000000827,
          259.99999999999596,
          275.9999999999997,
          272.99999999998937,
          287.39999999999065,
          289.9999999999883,
          268.9999999999825,
          281.9999999999982,
          261.99999999999284,
          261.99999999998755,
          270.00000000000125,
          267.9999999999638,
          254.99999999999264,
          264.0000000000028,
          265.00000000002154,
          272.7999999999948,
          272.99999999998937,
          259.7999999999804,
          256.99999999998425,
          261.00000000001467,
          283.99999999984965,
          288.9999999999932,
          274.5999999999879,
          263.7999999999912,
          262.999999999984,
          267.0000000000446,
          272.99999999998937,
          260.99999999999113,
          261.99999999998755,
          252.99999999999181,
          251.99999999998226,
          262.399999999999,
          265.2000000000305,
          265.99999999999443,
          264.60000000000093,
          264.0000000000028,
          264.0000000000028,
          259.5999999999871,
          255.19999999998197,
          250.59999999995208,
          249.00000000001774,
          246.00000000000213,
          244.99999999998732,
          253.59999999998996,
          262.999999999984,
          255.9999999999891,
          264.99999999999795,
          243.3999999999901,
          231.9999999999939,
          250.59999999998354,
          254.99999999999264,
          247.999999999999,
          254.40000000003772,
          259.99999999999596,
          253.99999999997257,
          243.99999999999216,
          244.99999999998732,
          239.9999999999853,
          249.99999999999062,
          237.00000000007452,
          230.00000000000227,
          234.3999999999891,
          236.99999999999721,
          220.9999999999934,
          236.00000000000074,
          227.99999999998704,
          236.00000000000074,
          236.00000000000074,
          215.9999999999901,
          224.99999999998977,
          234.19999999999976,
          237.99999999999238,
          231.9999999999939,
          233.3999999999874,
          234.5999999999876,
          238.00000000001594,
          253.000000000001,
          249.39999999998201,
          244.99999999998732,
          248.99999999999415,
          247.00000000000253,
          258.3999999999869,
          258.9999999999995,
          244.99999999998732,
          248.99999999999415,
          244.99999999998732,
          253.99999999999747,
          244.99999999998732,
          244.99999999998732,
          249.00000000001774,
          296.9999999999833,
          272.7999999998205,
          260.99999999999113,
          264.0000000000028,
          257.59999999999286,
          246.99999999998025,
          234.99999999998198,
          240.99999999998047,
          240.99999999998047,
          250.5999999999429,
          253.99999999999747,
          243.79999999998316,
          241.99999999999528,
          238.99999999996527,
          228.99999999998352,
          248.3999999998925,
          250.9999999999858,
          247.999999999999,
          251.99999999998226,
          230.00000000000227,
          230.99999999999875,
          226.59999999995165,
          223.99999999998022,
          225.00000000000026,
          217.19999999999817,
          215.9999999999901,
          227.99999999998704,
          222.99999999998505,
          225.00000000000026,
          220.9999999999934,
          233.99999999998553,
          234.79999999998742,
          236.00000000000074,
          206.99999999998124,
          209.80000000001408,
          212.99999999998104,
          225.79999999999168,
          230.00000000000227,
          221.99999999998857,
          222.99999999998505,
          220.9999999999921,
          217.99999999998172,
          223.99999999994353,
          227.99999999998704,
          211.39999999999168,
          204.99999999998832,
          209.99999999999162,
          206.99999999998124,
          209.99999999999162,
          205.9999999999848,
          207.99999999997772,
          210.9999999999881,
          200.99999999998278,
          204.99999999999355,
          205.9999999999848,
          204.99999999998832,
          210.9999999999881,
          210.9999999999881,
          208,
          216.99999999998658,
          215.9999999999901,
          218.92307692302396,
          222.6000000000234,
          227.98666666663905,
          236.99999999999721,
          226.9999999999906,
          208,
          221.00000000007597,
          232.1999999998915,
          237.99999999999238,
          220.99999999999866,
          215.79999999998242,
          213.99999999999847,
          233.99999999998553,
          230.39999999995996,
          221.80000000009096,
          210.9999999999881,
          220.9999999999934,
          215.9999999999901,
          217.99999999998172,
          210.39999999994933,
          208.2000000000352,
          200.20000000000056,
          196.00000000000304,
          197.99999999999338,
          223.99999999998022,
          224.5999999999823,
          225.00000000000026,
          211.99999999998326,
          216.99999999999574,
          222.99999999998505,
          223.79999999998563,
          225.99999999999542,
          216.99999999998658,
          233.99999999998553,
          222.19999999999757,
          211.99999999999244,
          208.39999999998915,
          202.00000000000153,
          207.1999999999837,
          209.20000000002642,
          211.99999999998326,
          206.99999999998124,
          214.60000000000448,
          214.99999999999494,
          204.99999999998832,
          204.99999999998832,
          213.00000000003476,
          214.99999999999494,
          208.99999999999517,
          214.99999999999494,
          209.99999999999162,
          214.99999999999494,
          213.99999999999847,
          228.99999999998352,
          228.99999999998352,
          220.9999999999934,
          236.20000000000056,
          247.00000000000253,
          232.60000000000122,
          230.00000000000227,
          230.99999999999875,
          217.1999999999877,
          206.99999999998124,
          220.9999999999934,
          204.99999999998832,
          203.7999999999606,
          202.00000000000153,
          209.9999999999785,
          216.99999999998658,
          211.0000000000012,
          206.99999999998124,
          335.0000000000129,
          4049.000000026588,
          6136.999999999924,
          6136.999999999924,
          4481.799999999999,
          3916.400000000119,
          3164.999999999844,
          2573.799999999924,
          2210.9999999971624,
          2093.200000001812,
          1813.6000000000765,
          1574.9999999999943,
          1541.7999999999956,
          1466.9999999999955,
          1461.599999999872,
          1435.2000000002413,
          1412.999999999985,
          1467.9999999999914,
          1351.3999999999944,
          1190.1999999999832,
          968.7999999999894,
          883.9999999999932,
          927.0000000000025,
          876.0000000000024,
          884.1999999999786,
          891.9999999999832,
          859.0000000000027,
          857.0000000000105,
          784.999999999981,
          784.999999999981,
          838.9999999999915,
          791.3999999999961,
          772.9999999999834,
          769.9999999999724,
          736.9999999999918,
          738.9999999999835,
          792.999999999994,
          736.9999999999918,
          885.9999999999848,
          885.9999999999848,
          792.3999999994822,
          772.9999999999834,
          826.4000000000016,
          889.9999999999916,
          825.7999999999943,
          798.9999999999932,
          805.5999999999963,
          811.9999999999859,
          791.9999999999746,
          701.9999999999955,
          703.9999999999878,
          692.999999999986,
          698.9999999999845,
          627.0000000000022,
          657.9999999999903,
          632.0000000000035,
          565.9999999999955,
          565.9999999999955,
          573.9999999999854,
          500.99999999998903,
          483.99999999975944,
          456.4000000002327,
          432.9999999999932,
          422.7999999999828,
          419.9999999999906,
          427.99999999998073,
          415.99999999998374,
          369.9999999999863,
          367.9999999999711,
          338.9999999999975,
          387.9999999999817,
          380.99999999998806,
          380.99999999998806,
          360.9999999999998,
          367.99999999999466,
          356.99999999997976,
          348.59999999999,
          338.000000000001,
          349.79999999999944,
          368.9999999999898,
          368.9999999999898,
          299.4000000003663,
          290.99999999998477,
          290.99999999998477,
          261.99999999998755,
          257.59999999999025,
          248.39999999998815,
          245.0000000000109,
          221.99999999998857,
          220.9999999999921,
          208,
          227.99999999998704,
          206.40000000000015,
          194.999999999983,
          235.39999999976806,
          247.00000000000253,
          241.99999999999005,
          234.19999999999715,
          224.4000000000021,
          208.99999999999517,
          231.9999999999939,
          217.20000000010302,
          208,
          219.99999999999696,
          212.19999999999357,
          205.9999999999848,
          213.000000000002,
          213.59999999999098,
          214.99999999999494,
          208.99999999999517,
          210.9999999999881,
          219.00000000000048,
          205.9999999999848,
          223.99999999998022,
          207.40000000008834,
          200.99999999998278,
          214.99999999999494,
          213.99999999999847,
          215.9999999999901,
          213.000000000002,
          214.5999999999822,
          216.59999999998695,
          217.99999999998303,
          223.39999999999253,
          228.99999999998352,
          219.99999999999696,
          218.99999999997428,
          214.00000000003385,
          207.799999999991,
          202.39999999998938,
          196.9999999999982,
          202.00000000000153,
          186.9999999999929,
          206.99999999998124,
          206.99999999998124,
          199.9999999999863,
          201.39999999998503,
          202.6000000000036,
          205.19999999999206,
          211.00000000006935,
          219.00000000000048,
          208.99999999999517,
          210.39999999999125,
          210.9999999999881,
          210.9999999999881,
          205.3999999999827,
          202.99999999999667,
          206.99999999998124,
          202.00000000000153,
          201.19999999999965,
          198.99999999998985,
          216.99999999998658,
          216.99999999998658,
          213.2000000000385,
          208,
          226.9999999999919,
          220.9999999999934,
          230.199999999989,
          231.9999999999939,
          215.9999999999901,
          221.5999999999588,
          223.99999999998022,
          208.99999999999517,
          217.1999999999995,
          225.00000000000026,
          225.00000000000026,
          228.20000000001832,
          235.00000000000557,
          259.99999999999596,
          260.99999999999113,
          260.99999999999113,
          237.99999999999238,
          247.999999999999,
          230.99999999999875,
          230.99999999999875,
          230.99999999999875,
          245.3999999999817,
          257.99999999998073,
          244.59999999999815,
          238.19999999991356,
          231.40000000004554,
          226.9999999999919,
          225.99999999999673,
          209.99999999999162,
          214.20000000000223,
          215.9999999999901,
          208.20000000005615,
          202.00000000000153,
          215.79999999999944,
          215.9999999999901,
          215.9999999999901,
          227.99999999998704,
          213.000000000002,
          213.000000000002,
          215.9999999999901,
          204.99999999998832,
          208.59999999998374,
          213.000000000002,
          197.99999999999469,
          197.99999999999469,
          193.99999999998784,
          225.00000000000026,
          225.00000000000026,
          210.9999999999881,
          208.9999999999742,
          199.9999999999863,
          213.000000000002,
          209.99999999999162,
          211.99999999998326,
          211.99999999998326,
          211.99999999998326,
          221.99999999998857,
          211.99999999998326,
          211.99999999998326,
          208,
          209.9999999999903,
          231.9999999999939,
          219.79999999998665,
          215.9999999999901,
          223.5999999999321,
          233.39999999998344,
          242.99999999999568,
          237.19999999998785,
          233.99999999998553,
          238.99999999998883,
          222.99999999998505,
          244.99999999998732,
          234.99999999998198,
          249.99999999999062,
          229.59999999998428,
          227.99999999998704,
          232.99999999999037,
          230.9999999999974,
          227.99999999998704,
          230.99999999999875,
          219.59999999998814,
          219.00000000000048,
          231.00000000000006,
          259.99999999999596,
          235.60000000014261,
          223.19999999998356,
          217.99999999998172,
          220.9999999999934,
          217.80000000000157,
          214.99999999999494,
          214.99999999999494,
          230.39999999987873,
          241.9999999999992,
          219.99999999999696,
          219.99999999999696,
          207.59999999998857,
          202.99999999999667,
          220.9999999998899,
          222.99999999998505,
          208
         ],
         "yaxis": "y"
        }
       ],
       "layout": {
        "annotations": [
         {
          "align": "left",
          "bgcolor": "rgba(255, 255, 255, 0.8)",
          "bordercolor": "black",
          "borderwidth": 1,
          "font": {
           "size": 10
          },
          "showarrow": false,
          "text": "Source: Trading Economics<br>Original Source: U.S. Department of Labor<br>Frequency: W-SAT",
          "x": 0,
          "xanchor": "left",
          "xref": "paper",
          "y": -0.2,
          "yanchor": "bottom",
          "yref": "paper"
         }
        ],
        "legend": {
         "orientation": "h",
         "title": {
          "text": ""
         },
         "tracegroupgap": 0,
         "x": 0.5,
         "xanchor": "center",
         "y": -0.2,
         "yanchor": "bottom"
        },
        "margin": {
         "t": 60
        },
        "template": {
         "data": {
          "bar": [
           {
            "error_x": {
             "color": "#2a3f5f"
            },
            "error_y": {
             "color": "#2a3f5f"
            },
            "marker": {
             "line": {
              "color": "#E5ECF6",
              "width": 0.5
             },
             "pattern": {
              "fillmode": "overlay",
              "size": 10,
              "solidity": 0.2
             }
            },
            "type": "bar"
           }
          ],
          "barpolar": [
           {
            "marker": {
             "line": {
              "color": "#E5ECF6",
              "width": 0.5
             },
             "pattern": {
              "fillmode": "overlay",
              "size": 10,
              "solidity": 0.2
             }
            },
            "type": "barpolar"
           }
          ],
          "carpet": [
           {
            "aaxis": {
             "endlinecolor": "#2a3f5f",
             "gridcolor": "white",
             "linecolor": "white",
             "minorgridcolor": "white",
             "startlinecolor": "#2a3f5f"
            },
            "baxis": {
             "endlinecolor": "#2a3f5f",
             "gridcolor": "white",
             "linecolor": "white",
             "minorgridcolor": "white",
             "startlinecolor": "#2a3f5f"
            },
            "type": "carpet"
           }
          ],
          "choropleth": [
           {
            "colorbar": {
             "outlinewidth": 0,
             "ticks": ""
            },
            "type": "choropleth"
           }
          ],
          "contour": [
           {
            "colorbar": {
             "outlinewidth": 0,
             "ticks": ""
            },
            "colorscale": [
             [
              0,
              "#0d0887"
             ],
             [
              0.1111111111111111,
              "#46039f"
             ],
             [
              0.2222222222222222,
              "#7201a8"
             ],
             [
              0.3333333333333333,
              "#9c179e"
             ],
             [
              0.4444444444444444,
              "#bd3786"
             ],
             [
              0.5555555555555556,
              "#d8576b"
             ],
             [
              0.6666666666666666,
              "#ed7953"
             ],
             [
              0.7777777777777778,
              "#fb9f3a"
             ],
             [
              0.8888888888888888,
              "#fdca26"
             ],
             [
              1,
              "#f0f921"
             ]
            ],
            "type": "contour"
           }
          ],
          "contourcarpet": [
           {
            "colorbar": {
             "outlinewidth": 0,
             "ticks": ""
            },
            "type": "contourcarpet"
           }
          ],
          "heatmap": [
           {
            "colorbar": {
             "outlinewidth": 0,
             "ticks": ""
            },
            "colorscale": [
             [
              0,
              "#0d0887"
             ],
             [
              0.1111111111111111,
              "#46039f"
             ],
             [
              0.2222222222222222,
              "#7201a8"
             ],
             [
              0.3333333333333333,
              "#9c179e"
             ],
             [
              0.4444444444444444,
              "#bd3786"
             ],
             [
              0.5555555555555556,
              "#d8576b"
             ],
             [
              0.6666666666666666,
              "#ed7953"
             ],
             [
              0.7777777777777778,
              "#fb9f3a"
             ],
             [
              0.8888888888888888,
              "#fdca26"
             ],
             [
              1,
              "#f0f921"
             ]
            ],
            "type": "heatmap"
           }
          ],
          "heatmapgl": [
           {
            "colorbar": {
             "outlinewidth": 0,
             "ticks": ""
            },
            "colorscale": [
             [
              0,
              "#0d0887"
             ],
             [
              0.1111111111111111,
              "#46039f"
             ],
             [
              0.2222222222222222,
              "#7201a8"
             ],
             [
              0.3333333333333333,
              "#9c179e"
             ],
             [
              0.4444444444444444,
              "#bd3786"
             ],
             [
              0.5555555555555556,
              "#d8576b"
             ],
             [
              0.6666666666666666,
              "#ed7953"
             ],
             [
              0.7777777777777778,
              "#fb9f3a"
             ],
             [
              0.8888888888888888,
              "#fdca26"
             ],
             [
              1,
              "#f0f921"
             ]
            ],
            "type": "heatmapgl"
           }
          ],
          "histogram": [
           {
            "marker": {
             "pattern": {
              "fillmode": "overlay",
              "size": 10,
              "solidity": 0.2
             }
            },
            "type": "histogram"
           }
          ],
          "histogram2d": [
           {
            "colorbar": {
             "outlinewidth": 0,
             "ticks": ""
            },
            "colorscale": [
             [
              0,
              "#0d0887"
             ],
             [
              0.1111111111111111,
              "#46039f"
             ],
             [
              0.2222222222222222,
              "#7201a8"
             ],
             [
              0.3333333333333333,
              "#9c179e"
             ],
             [
              0.4444444444444444,
              "#bd3786"
             ],
             [
              0.5555555555555556,
              "#d8576b"
             ],
             [
              0.6666666666666666,
              "#ed7953"
             ],
             [
              0.7777777777777778,
              "#fb9f3a"
             ],
             [
              0.8888888888888888,
              "#fdca26"
             ],
             [
              1,
              "#f0f921"
             ]
            ],
            "type": "histogram2d"
           }
          ],
          "histogram2dcontour": [
           {
            "colorbar": {
             "outlinewidth": 0,
             "ticks": ""
            },
            "colorscale": [
             [
              0,
              "#0d0887"
             ],
             [
              0.1111111111111111,
              "#46039f"
             ],
             [
              0.2222222222222222,
              "#7201a8"
             ],
             [
              0.3333333333333333,
              "#9c179e"
             ],
             [
              0.4444444444444444,
              "#bd3786"
             ],
             [
              0.5555555555555556,
              "#d8576b"
             ],
             [
              0.6666666666666666,
              "#ed7953"
             ],
             [
              0.7777777777777778,
              "#fb9f3a"
             ],
             [
              0.8888888888888888,
              "#fdca26"
             ],
             [
              1,
              "#f0f921"
             ]
            ],
            "type": "histogram2dcontour"
           }
          ],
          "mesh3d": [
           {
            "colorbar": {
             "outlinewidth": 0,
             "ticks": ""
            },
            "type": "mesh3d"
           }
          ],
          "parcoords": [
           {
            "line": {
             "colorbar": {
              "outlinewidth": 0,
              "ticks": ""
             }
            },
            "type": "parcoords"
           }
          ],
          "pie": [
           {
            "automargin": true,
            "type": "pie"
           }
          ],
          "scatter": [
           {
            "fillpattern": {
             "fillmode": "overlay",
             "size": 10,
             "solidity": 0.2
            },
            "type": "scatter"
           }
          ],
          "scatter3d": [
           {
            "line": {
             "colorbar": {
              "outlinewidth": 0,
              "ticks": ""
             }
            },
            "marker": {
             "colorbar": {
              "outlinewidth": 0,
              "ticks": ""
             }
            },
            "type": "scatter3d"
           }
          ],
          "scattercarpet": [
           {
            "marker": {
             "colorbar": {
              "outlinewidth": 0,
              "ticks": ""
             }
            },
            "type": "scattercarpet"
           }
          ],
          "scattergeo": [
           {
            "marker": {
             "colorbar": {
              "outlinewidth": 0,
              "ticks": ""
             }
            },
            "type": "scattergeo"
           }
          ],
          "scattergl": [
           {
            "marker": {
             "colorbar": {
              "outlinewidth": 0,
              "ticks": ""
             }
            },
            "type": "scattergl"
           }
          ],
          "scattermapbox": [
           {
            "marker": {
             "colorbar": {
              "outlinewidth": 0,
              "ticks": ""
             }
            },
            "type": "scattermapbox"
           }
          ],
          "scatterpolar": [
           {
            "marker": {
             "colorbar": {
              "outlinewidth": 0,
              "ticks": ""
             }
            },
            "type": "scatterpolar"
           }
          ],
          "scatterpolargl": [
           {
            "marker": {
             "colorbar": {
              "outlinewidth": 0,
              "ticks": ""
             }
            },
            "type": "scatterpolargl"
           }
          ],
          "scatterternary": [
           {
            "marker": {
             "colorbar": {
              "outlinewidth": 0,
              "ticks": ""
             }
            },
            "type": "scatterternary"
           }
          ],
          "surface": [
           {
            "colorbar": {
             "outlinewidth": 0,
             "ticks": ""
            },
            "colorscale": [
             [
              0,
              "#0d0887"
             ],
             [
              0.1111111111111111,
              "#46039f"
             ],
             [
              0.2222222222222222,
              "#7201a8"
             ],
             [
              0.3333333333333333,
              "#9c179e"
             ],
             [
              0.4444444444444444,
              "#bd3786"
             ],
             [
              0.5555555555555556,
              "#d8576b"
             ],
             [
              0.6666666666666666,
              "#ed7953"
             ],
             [
              0.7777777777777778,
              "#fb9f3a"
             ],
             [
              0.8888888888888888,
              "#fdca26"
             ],
             [
              1,
              "#f0f921"
             ]
            ],
            "type": "surface"
           }
          ],
          "table": [
           {
            "cells": {
             "fill": {
              "color": "#EBF0F8"
             },
             "line": {
              "color": "white"
             }
            },
            "header": {
             "fill": {
              "color": "#C8D4E3"
             },
             "line": {
              "color": "white"
             }
            },
            "type": "table"
           }
          ]
         },
         "layout": {
          "annotationdefaults": {
           "arrowcolor": "#2a3f5f",
           "arrowhead": 0,
           "arrowwidth": 1
          },
          "autotypenumbers": "strict",
          "coloraxis": {
           "colorbar": {
            "outlinewidth": 0,
            "ticks": ""
           }
          },
          "colorscale": {
           "diverging": [
            [
             0,
             "#8e0152"
            ],
            [
             0.1,
             "#c51b7d"
            ],
            [
             0.2,
             "#de77ae"
            ],
            [
             0.3,
             "#f1b6da"
            ],
            [
             0.4,
             "#fde0ef"
            ],
            [
             0.5,
             "#f7f7f7"
            ],
            [
             0.6,
             "#e6f5d0"
            ],
            [
             0.7,
             "#b8e186"
            ],
            [
             0.8,
             "#7fbc41"
            ],
            [
             0.9,
             "#4d9221"
            ],
            [
             1,
             "#276419"
            ]
           ],
           "sequential": [
            [
             0,
             "#0d0887"
            ],
            [
             0.1111111111111111,
             "#46039f"
            ],
            [
             0.2222222222222222,
             "#7201a8"
            ],
            [
             0.3333333333333333,
             "#9c179e"
            ],
            [
             0.4444444444444444,
             "#bd3786"
            ],
            [
             0.5555555555555556,
             "#d8576b"
            ],
            [
             0.6666666666666666,
             "#ed7953"
            ],
            [
             0.7777777777777778,
             "#fb9f3a"
            ],
            [
             0.8888888888888888,
             "#fdca26"
            ],
            [
             1,
             "#f0f921"
            ]
           ],
           "sequentialminus": [
            [
             0,
             "#0d0887"
            ],
            [
             0.1111111111111111,
             "#46039f"
            ],
            [
             0.2222222222222222,
             "#7201a8"
            ],
            [
             0.3333333333333333,
             "#9c179e"
            ],
            [
             0.4444444444444444,
             "#bd3786"
            ],
            [
             0.5555555555555556,
             "#d8576b"
            ],
            [
             0.6666666666666666,
             "#ed7953"
            ],
            [
             0.7777777777777778,
             "#fb9f3a"
            ],
            [
             0.8888888888888888,
             "#fdca26"
            ],
            [
             1,
             "#f0f921"
            ]
           ]
          },
          "colorway": [
           "#636efa",
           "#EF553B",
           "#00cc96",
           "#ab63fa",
           "#FFA15A",
           "#19d3f3",
           "#FF6692",
           "#B6E880",
           "#FF97FF",
           "#FECB52"
          ],
          "font": {
           "color": "#2a3f5f"
          },
          "geo": {
           "bgcolor": "white",
           "lakecolor": "white",
           "landcolor": "#E5ECF6",
           "showlakes": true,
           "showland": true,
           "subunitcolor": "white"
          },
          "hoverlabel": {
           "align": "left"
          },
          "hovermode": "closest",
          "mapbox": {
           "style": "light"
          },
          "paper_bgcolor": "white",
          "plot_bgcolor": "#E5ECF6",
          "polar": {
           "angularaxis": {
            "gridcolor": "white",
            "linecolor": "white",
            "ticks": ""
           },
           "bgcolor": "#E5ECF6",
           "radialaxis": {
            "gridcolor": "white",
            "linecolor": "white",
            "ticks": ""
           }
          },
          "scene": {
           "xaxis": {
            "backgroundcolor": "#E5ECF6",
            "gridcolor": "white",
            "gridwidth": 2,
            "linecolor": "white",
            "showbackground": true,
            "ticks": "",
            "zerolinecolor": "white"
           },
           "yaxis": {
            "backgroundcolor": "#E5ECF6",
            "gridcolor": "white",
            "gridwidth": 2,
            "linecolor": "white",
            "showbackground": true,
            "ticks": "",
            "zerolinecolor": "white"
           },
           "zaxis": {
            "backgroundcolor": "#E5ECF6",
            "gridcolor": "white",
            "gridwidth": 2,
            "linecolor": "white",
            "showbackground": true,
            "ticks": "",
            "zerolinecolor": "white"
           }
          },
          "shapedefaults": {
           "line": {
            "color": "#2a3f5f"
           }
          },
          "ternary": {
           "aaxis": {
            "gridcolor": "white",
            "linecolor": "white",
            "ticks": ""
           },
           "baxis": {
            "gridcolor": "white",
            "linecolor": "white",
            "ticks": ""
           },
           "bgcolor": "#E5ECF6",
           "caxis": {
            "gridcolor": "white",
            "linecolor": "white",
            "ticks": ""
           }
          },
          "title": {
           "x": 0.05
          },
          "xaxis": {
           "automargin": true,
           "gridcolor": "white",
           "linecolor": "white",
           "ticks": "",
           "title": {
            "standoff": 15
           },
           "zerolinecolor": "white",
           "zerolinewidth": 2
          },
          "yaxis": {
           "automargin": true,
           "gridcolor": "white",
           "linecolor": "white",
           "ticks": "",
           "title": {
            "standoff": 15
           },
           "zerolinecolor": "white",
           "zerolinewidth": 2
          }
         }
        },
        "title": {
         "text": "United states: United states initial jobless claims"
        },
        "xaxis": {
         "anchor": "y",
         "domain": [
          0,
          1
         ],
         "title": {
          "text": ""
         }
        },
        "yaxis": {
         "anchor": "x",
         "domain": [
          0,
          1
         ],
         "title": {
          "text": "Thousand"
         }
        }
       }
      }
     },
     "metadata": {},
     "output_type": "display_data"
    }
   ],
   "source": [
    "scraped.plot_series()   #Plotting the series"
   ]
  },
  {
   "cell_type": "markdown",
   "metadata": {},
   "source": [
    "# Method #3: Debug method - manually run through the steps."
   ]
  },
  {
   "cell_type": "code",
   "execution_count": 88,
   "metadata": {},
   "outputs": [
    {
     "name": "stderr",
     "output_type": "stream",
     "text": [
      "INFO - New firefox webdriver created.\n"
     ]
    }
   ],
   "source": [
    "scr = ted.TE_Scraper(use_existing_driver = False, headless = True)  ## Initialize a new TE_scraper object."
   ]
  },
  {
   "cell_type": "markdown",
   "metadata": {},
   "source": [
    "If you get: \"Error loading page: Message: Failed to decode response from marionette\". You need to start a new webdriver instance Reinitilize a new TE_SCraper using use_existing_driver = False."
   ]
  },
  {
   "cell_type": "code",
   "execution_count": 89,
   "metadata": {},
   "outputs": [
    {
     "name": "stderr",
     "output_type": "stream",
     "text": [
      "INFO - WebPage at https://tradingeconomics.com/china/gdp loaded successfully.\n",
      "INFO - Chart types dictionary created successfully: dict_keys(['Column', 'Spline', 'Areaspline', 'Stepline', 'Line', 'Area'])\n"
     ]
    },
    {
     "data": {
      "text/plain": [
       "True"
      ]
     },
     "execution_count": 89,
     "metadata": {},
     "output_type": "execute_result"
    }
   ],
   "source": [
    "scr.load_page(\"https://tradingeconomics.com/china/gdp\")"
   ]
  },
  {
   "cell_type": "code",
   "execution_count": 93,
   "metadata": {},
   "outputs": [
    {
     "name": "stdout",
     "output_type": "stream",
     "text": [
      "Using selenium and tooltip scraping to construct the date time index for the time-series, this'll take a bit...\n"
     ]
    },
    {
     "name": "stderr",
     "output_type": "stream",
     "text": [
      "INFO - Date span set to: MAX\n",
      "INFO - Line chart type selected.\n",
      "INFO - Start and end values scraped from tooltips: \n",
      "{'start_date': Timestamp('1961-01-01 00:00:00'), 'start_value': 50.06, 'end_date': Timestamp('2024-01-01 00:00:00'), 'end_value': 18200.0}\n",
      "INFO - Date span set to: 5Y\n",
      "INFO - Line chart type selected.\n"
     ]
    },
    {
     "name": "stdout",
     "output_type": "stream",
     "text": [
      "470.0\n"
     ]
    },
    {
     "name": "stderr",
     "output_type": "stream",
     "text": [
      "INFO - DateTimeIndex created successfully for the time-series.\n"
     ]
    },
    {
     "name": "stdout",
     "output_type": "stream",
     "text": [
      "Latest dates:  [Timestamp('2024-01-01 00:00:00'), Timestamp('2023-01-01 00:00:00'), Timestamp('2022-01-01 00:00:00'), Timestamp('2021-01-01 00:00:00'), Timestamp('2020-01-01 00:00:00')]\n",
      "Frequency of time-series:  YS-JAN\n"
     ]
    },
    {
     "data": {
      "text/plain": [
       "DatetimeIndex(['1961-01-01', '1962-01-01', '1963-01-01', '1964-01-01',\n",
       "               '1965-01-01', '1966-01-01', '1967-01-01', '1968-01-01',\n",
       "               '1969-01-01', '1970-01-01', '1971-01-01', '1972-01-01',\n",
       "               '1973-01-01', '1974-01-01', '1975-01-01', '1976-01-01',\n",
       "               '1977-01-01', '1978-01-01', '1979-01-01', '1980-01-01',\n",
       "               '1981-01-01', '1982-01-01', '1983-01-01', '1984-01-01',\n",
       "               '1985-01-01', '1986-01-01', '1987-01-01', '1988-01-01',\n",
       "               '1989-01-01', '1990-01-01', '1991-01-01', '1992-01-01',\n",
       "               '1993-01-01', '1994-01-01', '1995-01-01', '1996-01-01',\n",
       "               '1997-01-01', '1998-01-01', '1999-01-01', '2000-01-01',\n",
       "               '2001-01-01', '2002-01-01', '2003-01-01', '2004-01-01',\n",
       "               '2005-01-01', '2006-01-01', '2007-01-01', '2008-01-01',\n",
       "               '2009-01-01', '2010-01-01', '2011-01-01', '2012-01-01',\n",
       "               '2013-01-01', '2014-01-01', '2015-01-01', '2016-01-01',\n",
       "               '2017-01-01', '2018-01-01', '2019-01-01', '2020-01-01',\n",
       "               '2021-01-01', '2022-01-01', '2023-01-01', '2024-01-01'],\n",
       "              dtype='datetime64[ns]', freq='YS-JAN')"
      ]
     },
     "execution_count": 93,
     "metadata": {},
     "output_type": "execute_result"
    }
   ],
   "source": [
    "scr.make_x_index(force_rerun_freqdet=True, force_rerun_xlims=True) ## Create the x_index for the series first."
   ]
  },
  {
   "cell_type": "code",
   "execution_count": 95,
   "metadata": {},
   "outputs": [
    {
     "name": "stderr",
     "output_type": "stream",
     "text": [
      "INFO - Y-axis values scraped successfully.\n"
     ]
    },
    {
     "data": {
      "text/plain": [
       "pixheight\n",
       "39.5     -1400.0\n",
       "61.5         0.0\n",
       "112.5     3600.0\n",
       "163.5     7200.0\n",
       "214.5    10800.0\n",
       "264.5    14400.0\n",
       "315.5    18000.0\n",
       "335.5    19500.0\n",
       "Name: ytick_label, dtype: float64"
      ]
     },
     "execution_count": 95,
     "metadata": {},
     "output_type": "execute_result"
    }
   ],
   "source": [
    "scr.get_y_axis(set_global_y_axis=True)   ## Get the y-axis tick positions (pixel co-ordinates) and values, will set the global y-axis attribute since date_span is set to MAX."
   ]
  },
  {
   "cell_type": "code",
   "execution_count": 96,
   "metadata": {},
   "outputs": [
    {
     "name": "stderr",
     "output_type": "stream",
     "text": [
      "INFO - Chart type set to: Spline\n",
      "INFO - Series path extraction method: Extracting series data from chart soup.\n",
      "INFO - Date span: MAX. Chart type: splineChart, URL: https://tradingeconomics.com/china/gdp.\n"
     ]
    },
    {
     "data": {
      "text/plain": [
       "0.000000       60.967354\n",
       "0.000000       60.967354\n",
       "6.195958       60.927127\n",
       "10.326597      60.927127\n",
       "14.457236      60.927127\n",
       "                 ...    \n",
       "636.542764    311.431105\n",
       "640.673403    311.431105\n",
       "644.804042    311.431105\n",
       "651.000000    317.713758\n",
       "651.000000    317.713758\n",
       "Name: Extracted Series, Length: 190, dtype: float64"
      ]
     },
     "execution_count": 96,
     "metadata": {},
     "output_type": "execute_result"
    }
   ],
   "source": [
    "scr.series_from_chart_soup(set_max_datespan=True) ## Get the full series from the path element of the data trace on the svg chart.\n",
    "scr.series"
   ]
  },
  {
   "cell_type": "code",
   "execution_count": 97,
   "metadata": {},
   "outputs": [
    {
     "name": "stderr",
     "output_type": "stream",
     "text": [
      "INFO - DateTimeIndex applied to series, series attribute updated.\n"
     ]
    }
   ],
   "source": [
    "scr.apply_x_index()  ## Apply the x-axis index to the series."
   ]
  },
  {
   "cell_type": "code",
   "execution_count": 98,
   "metadata": {},
   "outputs": [
    {
     "data": {
      "text/plain": [
       "1961-01-01     60.967354\n",
       "1962-01-01     60.927127\n",
       "1963-01-01     60.976529\n",
       "1964-01-01     61.103562\n",
       "1965-01-01     61.302967\n",
       "                 ...    \n",
       "2020-01-01    267.575756\n",
       "2021-01-01    312.659096\n",
       "2022-01-01    312.659096\n",
       "2023-01-01    311.431105\n",
       "2024-01-01    317.713758\n",
       "Freq: YS-JAN, Name: gdp, Length: 64, dtype: float64"
      ]
     },
     "execution_count": 98,
     "metadata": {},
     "output_type": "execute_result"
    }
   ],
   "source": [
    "scr.series"
   ]
  },
  {
   "cell_type": "code",
   "execution_count": 99,
   "metadata": {},
   "outputs": [
    {
     "data": {
      "application/vnd.plotly.v1+json": {
       "config": {
        "plotlyServerURL": "https://plot.ly"
       },
       "data": [
        {
         "hovertemplate": "variable=gdp<br>index=%{x}<br>value=%{y}<extra></extra>",
         "legendgroup": "gdp",
         "line": {
          "color": "#636efa",
          "dash": "solid"
         },
         "marker": {
          "symbol": "circle"
         },
         "mode": "lines",
         "name": "gdp",
         "orientation": "v",
         "showlegend": true,
         "type": "scatter",
         "x": [
          "1961-01-01T00:00:00",
          "1962-01-01T00:00:00",
          "1963-01-01T00:00:00",
          "1964-01-01T00:00:00",
          "1965-01-01T00:00:00",
          "1966-01-01T00:00:00",
          "1967-01-01T00:00:00",
          "1968-01-01T00:00:00",
          "1969-01-01T00:00:00",
          "1970-01-01T00:00:00",
          "1971-01-01T00:00:00",
          "1972-01-01T00:00:00",
          "1973-01-01T00:00:00",
          "1974-01-01T00:00:00",
          "1975-01-01T00:00:00",
          "1976-01-01T00:00:00",
          "1977-01-01T00:00:00",
          "1978-01-01T00:00:00",
          "1979-01-01T00:00:00",
          "1980-01-01T00:00:00",
          "1981-01-01T00:00:00",
          "1982-01-01T00:00:00",
          "1983-01-01T00:00:00",
          "1984-01-01T00:00:00",
          "1985-01-01T00:00:00",
          "1986-01-01T00:00:00",
          "1987-01-01T00:00:00",
          "1988-01-01T00:00:00",
          "1989-01-01T00:00:00",
          "1990-01-01T00:00:00",
          "1991-01-01T00:00:00",
          "1992-01-01T00:00:00",
          "1993-01-01T00:00:00",
          "1994-01-01T00:00:00",
          "1995-01-01T00:00:00",
          "1996-01-01T00:00:00",
          "1997-01-01T00:00:00",
          "1998-01-01T00:00:00",
          "1999-01-01T00:00:00",
          "2000-01-01T00:00:00",
          "2001-01-01T00:00:00",
          "2002-01-01T00:00:00",
          "2003-01-01T00:00:00",
          "2004-01-01T00:00:00",
          "2005-01-01T00:00:00",
          "2006-01-01T00:00:00",
          "2007-01-01T00:00:00",
          "2008-01-01T00:00:00",
          "2009-01-01T00:00:00",
          "2010-01-01T00:00:00",
          "2011-01-01T00:00:00",
          "2012-01-01T00:00:00",
          "2013-01-01T00:00:00",
          "2014-01-01T00:00:00",
          "2015-01-01T00:00:00",
          "2016-01-01T00:00:00",
          "2017-01-01T00:00:00",
          "2018-01-01T00:00:00",
          "2019-01-01T00:00:00",
          "2020-01-01T00:00:00",
          "2021-01-01T00:00:00",
          "2022-01-01T00:00:00",
          "2023-01-01T00:00:00",
          "2024-01-01T00:00:00"
         ],
         "xaxis": "x",
         "y": [
          60.96735406698599,
          60.927126794258015,
          60.976528708134026,
          61.103562200957015,
          61.3029673253522,
          61.34365550239198,
          61.28945454545499,
          61.26080143540702,
          61.44717437933252,
          61.567799043061996,
          61.669425837321,
          61.86548086124401,
          62.295983253588986,
          62.295983253588986,
          62.56755263157902,
          62.43360287081299,
          62.73001435406701,
          62.37149760765601,
          62.777157894737,
          62.95881578947399,
          63.0647361188382,
          63.15557655502403,
          63.516916267942975,
          63.929916267942986,
          64.62916507176999,
          64.40284784688998,
          64.11369138755998,
          64.669533492823,
          65.30623563120582,
          65.4547416267946,
          65.67196889952197,
          66.28666985645901,
          66.78944019138697,
          69.04400239234462,
          70.62782775119598,
          72.45245215311002,
          74.29961471799078,
          75.1595358851676,
          75.70239234449798,
          77.358485645933,
          79.89696876534092,
          81.92330717703399,
          83.69533971291901,
          87.86020334928199,
          94.7728862016371,
          102.67575263157937,
          115.57360430622208,
          125.109105263158,
          136.47876603132852,
          153.0963057416189,
          173.7517822966479,
          180.69119856459,
          200.82507957572474,
          212.331712918662,
          218.531907177032,
          218.81705502392,
          241.52459945738815,
          261.8201507177,
          264.0582832535851,
          267.57575598086,
          312.65909569378,
          312.65909569378,
          311.43110526316,
          317.71375837321
         ],
         "yaxis": "y"
        }
       ],
       "layout": {
        "annotations": [
         {
          "align": "left",
          "bgcolor": "rgba(255, 255, 255, 0.8)",
          "bordercolor": "black",
          "borderwidth": 1,
          "font": {
           "size": 10
          },
          "showarrow": false,
          "text": "Source: Trading Economics",
          "x": 0,
          "xanchor": "left",
          "xref": "paper",
          "y": -0.2,
          "yanchor": "bottom",
          "yref": "paper"
         }
        ],
        "legend": {
         "orientation": "h",
         "title": {
          "text": ""
         },
         "tracegroupgap": 0,
         "x": 0.5,
         "xanchor": "center",
         "y": -0.2,
         "yanchor": "bottom"
        },
        "margin": {
         "t": 60
        },
        "template": {
         "data": {
          "bar": [
           {
            "error_x": {
             "color": "#2a3f5f"
            },
            "error_y": {
             "color": "#2a3f5f"
            },
            "marker": {
             "line": {
              "color": "#E5ECF6",
              "width": 0.5
             },
             "pattern": {
              "fillmode": "overlay",
              "size": 10,
              "solidity": 0.2
             }
            },
            "type": "bar"
           }
          ],
          "barpolar": [
           {
            "marker": {
             "line": {
              "color": "#E5ECF6",
              "width": 0.5
             },
             "pattern": {
              "fillmode": "overlay",
              "size": 10,
              "solidity": 0.2
             }
            },
            "type": "barpolar"
           }
          ],
          "carpet": [
           {
            "aaxis": {
             "endlinecolor": "#2a3f5f",
             "gridcolor": "white",
             "linecolor": "white",
             "minorgridcolor": "white",
             "startlinecolor": "#2a3f5f"
            },
            "baxis": {
             "endlinecolor": "#2a3f5f",
             "gridcolor": "white",
             "linecolor": "white",
             "minorgridcolor": "white",
             "startlinecolor": "#2a3f5f"
            },
            "type": "carpet"
           }
          ],
          "choropleth": [
           {
            "colorbar": {
             "outlinewidth": 0,
             "ticks": ""
            },
            "type": "choropleth"
           }
          ],
          "contour": [
           {
            "colorbar": {
             "outlinewidth": 0,
             "ticks": ""
            },
            "colorscale": [
             [
              0,
              "#0d0887"
             ],
             [
              0.1111111111111111,
              "#46039f"
             ],
             [
              0.2222222222222222,
              "#7201a8"
             ],
             [
              0.3333333333333333,
              "#9c179e"
             ],
             [
              0.4444444444444444,
              "#bd3786"
             ],
             [
              0.5555555555555556,
              "#d8576b"
             ],
             [
              0.6666666666666666,
              "#ed7953"
             ],
             [
              0.7777777777777778,
              "#fb9f3a"
             ],
             [
              0.8888888888888888,
              "#fdca26"
             ],
             [
              1,
              "#f0f921"
             ]
            ],
            "type": "contour"
           }
          ],
          "contourcarpet": [
           {
            "colorbar": {
             "outlinewidth": 0,
             "ticks": ""
            },
            "type": "contourcarpet"
           }
          ],
          "heatmap": [
           {
            "colorbar": {
             "outlinewidth": 0,
             "ticks": ""
            },
            "colorscale": [
             [
              0,
              "#0d0887"
             ],
             [
              0.1111111111111111,
              "#46039f"
             ],
             [
              0.2222222222222222,
              "#7201a8"
             ],
             [
              0.3333333333333333,
              "#9c179e"
             ],
             [
              0.4444444444444444,
              "#bd3786"
             ],
             [
              0.5555555555555556,
              "#d8576b"
             ],
             [
              0.6666666666666666,
              "#ed7953"
             ],
             [
              0.7777777777777778,
              "#fb9f3a"
             ],
             [
              0.8888888888888888,
              "#fdca26"
             ],
             [
              1,
              "#f0f921"
             ]
            ],
            "type": "heatmap"
           }
          ],
          "heatmapgl": [
           {
            "colorbar": {
             "outlinewidth": 0,
             "ticks": ""
            },
            "colorscale": [
             [
              0,
              "#0d0887"
             ],
             [
              0.1111111111111111,
              "#46039f"
             ],
             [
              0.2222222222222222,
              "#7201a8"
             ],
             [
              0.3333333333333333,
              "#9c179e"
             ],
             [
              0.4444444444444444,
              "#bd3786"
             ],
             [
              0.5555555555555556,
              "#d8576b"
             ],
             [
              0.6666666666666666,
              "#ed7953"
             ],
             [
              0.7777777777777778,
              "#fb9f3a"
             ],
             [
              0.8888888888888888,
              "#fdca26"
             ],
             [
              1,
              "#f0f921"
             ]
            ],
            "type": "heatmapgl"
           }
          ],
          "histogram": [
           {
            "marker": {
             "pattern": {
              "fillmode": "overlay",
              "size": 10,
              "solidity": 0.2
             }
            },
            "type": "histogram"
           }
          ],
          "histogram2d": [
           {
            "colorbar": {
             "outlinewidth": 0,
             "ticks": ""
            },
            "colorscale": [
             [
              0,
              "#0d0887"
             ],
             [
              0.1111111111111111,
              "#46039f"
             ],
             [
              0.2222222222222222,
              "#7201a8"
             ],
             [
              0.3333333333333333,
              "#9c179e"
             ],
             [
              0.4444444444444444,
              "#bd3786"
             ],
             [
              0.5555555555555556,
              "#d8576b"
             ],
             [
              0.6666666666666666,
              "#ed7953"
             ],
             [
              0.7777777777777778,
              "#fb9f3a"
             ],
             [
              0.8888888888888888,
              "#fdca26"
             ],
             [
              1,
              "#f0f921"
             ]
            ],
            "type": "histogram2d"
           }
          ],
          "histogram2dcontour": [
           {
            "colorbar": {
             "outlinewidth": 0,
             "ticks": ""
            },
            "colorscale": [
             [
              0,
              "#0d0887"
             ],
             [
              0.1111111111111111,
              "#46039f"
             ],
             [
              0.2222222222222222,
              "#7201a8"
             ],
             [
              0.3333333333333333,
              "#9c179e"
             ],
             [
              0.4444444444444444,
              "#bd3786"
             ],
             [
              0.5555555555555556,
              "#d8576b"
             ],
             [
              0.6666666666666666,
              "#ed7953"
             ],
             [
              0.7777777777777778,
              "#fb9f3a"
             ],
             [
              0.8888888888888888,
              "#fdca26"
             ],
             [
              1,
              "#f0f921"
             ]
            ],
            "type": "histogram2dcontour"
           }
          ],
          "mesh3d": [
           {
            "colorbar": {
             "outlinewidth": 0,
             "ticks": ""
            },
            "type": "mesh3d"
           }
          ],
          "parcoords": [
           {
            "line": {
             "colorbar": {
              "outlinewidth": 0,
              "ticks": ""
             }
            },
            "type": "parcoords"
           }
          ],
          "pie": [
           {
            "automargin": true,
            "type": "pie"
           }
          ],
          "scatter": [
           {
            "fillpattern": {
             "fillmode": "overlay",
             "size": 10,
             "solidity": 0.2
            },
            "type": "scatter"
           }
          ],
          "scatter3d": [
           {
            "line": {
             "colorbar": {
              "outlinewidth": 0,
              "ticks": ""
             }
            },
            "marker": {
             "colorbar": {
              "outlinewidth": 0,
              "ticks": ""
             }
            },
            "type": "scatter3d"
           }
          ],
          "scattercarpet": [
           {
            "marker": {
             "colorbar": {
              "outlinewidth": 0,
              "ticks": ""
             }
            },
            "type": "scattercarpet"
           }
          ],
          "scattergeo": [
           {
            "marker": {
             "colorbar": {
              "outlinewidth": 0,
              "ticks": ""
             }
            },
            "type": "scattergeo"
           }
          ],
          "scattergl": [
           {
            "marker": {
             "colorbar": {
              "outlinewidth": 0,
              "ticks": ""
             }
            },
            "type": "scattergl"
           }
          ],
          "scattermapbox": [
           {
            "marker": {
             "colorbar": {
              "outlinewidth": 0,
              "ticks": ""
             }
            },
            "type": "scattermapbox"
           }
          ],
          "scatterpolar": [
           {
            "marker": {
             "colorbar": {
              "outlinewidth": 0,
              "ticks": ""
             }
            },
            "type": "scatterpolar"
           }
          ],
          "scatterpolargl": [
           {
            "marker": {
             "colorbar": {
              "outlinewidth": 0,
              "ticks": ""
             }
            },
            "type": "scatterpolargl"
           }
          ],
          "scatterternary": [
           {
            "marker": {
             "colorbar": {
              "outlinewidth": 0,
              "ticks": ""
             }
            },
            "type": "scatterternary"
           }
          ],
          "surface": [
           {
            "colorbar": {
             "outlinewidth": 0,
             "ticks": ""
            },
            "colorscale": [
             [
              0,
              "#0d0887"
             ],
             [
              0.1111111111111111,
              "#46039f"
             ],
             [
              0.2222222222222222,
              "#7201a8"
             ],
             [
              0.3333333333333333,
              "#9c179e"
             ],
             [
              0.4444444444444444,
              "#bd3786"
             ],
             [
              0.5555555555555556,
              "#d8576b"
             ],
             [
              0.6666666666666666,
              "#ed7953"
             ],
             [
              0.7777777777777778,
              "#fb9f3a"
             ],
             [
              0.8888888888888888,
              "#fdca26"
             ],
             [
              1,
              "#f0f921"
             ]
            ],
            "type": "surface"
           }
          ],
          "table": [
           {
            "cells": {
             "fill": {
              "color": "#EBF0F8"
             },
             "line": {
              "color": "white"
             }
            },
            "header": {
             "fill": {
              "color": "#C8D4E3"
             },
             "line": {
              "color": "white"
             }
            },
            "type": "table"
           }
          ]
         },
         "layout": {
          "annotationdefaults": {
           "arrowcolor": "#2a3f5f",
           "arrowhead": 0,
           "arrowwidth": 1
          },
          "autotypenumbers": "strict",
          "coloraxis": {
           "colorbar": {
            "outlinewidth": 0,
            "ticks": ""
           }
          },
          "colorscale": {
           "diverging": [
            [
             0,
             "#8e0152"
            ],
            [
             0.1,
             "#c51b7d"
            ],
            [
             0.2,
             "#de77ae"
            ],
            [
             0.3,
             "#f1b6da"
            ],
            [
             0.4,
             "#fde0ef"
            ],
            [
             0.5,
             "#f7f7f7"
            ],
            [
             0.6,
             "#e6f5d0"
            ],
            [
             0.7,
             "#b8e186"
            ],
            [
             0.8,
             "#7fbc41"
            ],
            [
             0.9,
             "#4d9221"
            ],
            [
             1,
             "#276419"
            ]
           ],
           "sequential": [
            [
             0,
             "#0d0887"
            ],
            [
             0.1111111111111111,
             "#46039f"
            ],
            [
             0.2222222222222222,
             "#7201a8"
            ],
            [
             0.3333333333333333,
             "#9c179e"
            ],
            [
             0.4444444444444444,
             "#bd3786"
            ],
            [
             0.5555555555555556,
             "#d8576b"
            ],
            [
             0.6666666666666666,
             "#ed7953"
            ],
            [
             0.7777777777777778,
             "#fb9f3a"
            ],
            [
             0.8888888888888888,
             "#fdca26"
            ],
            [
             1,
             "#f0f921"
            ]
           ],
           "sequentialminus": [
            [
             0,
             "#0d0887"
            ],
            [
             0.1111111111111111,
             "#46039f"
            ],
            [
             0.2222222222222222,
             "#7201a8"
            ],
            [
             0.3333333333333333,
             "#9c179e"
            ],
            [
             0.4444444444444444,
             "#bd3786"
            ],
            [
             0.5555555555555556,
             "#d8576b"
            ],
            [
             0.6666666666666666,
             "#ed7953"
            ],
            [
             0.7777777777777778,
             "#fb9f3a"
            ],
            [
             0.8888888888888888,
             "#fdca26"
            ],
            [
             1,
             "#f0f921"
            ]
           ]
          },
          "colorway": [
           "#636efa",
           "#EF553B",
           "#00cc96",
           "#ab63fa",
           "#FFA15A",
           "#19d3f3",
           "#FF6692",
           "#B6E880",
           "#FF97FF",
           "#FECB52"
          ],
          "font": {
           "color": "#2a3f5f"
          },
          "geo": {
           "bgcolor": "white",
           "lakecolor": "white",
           "landcolor": "#E5ECF6",
           "showlakes": true,
           "showland": true,
           "subunitcolor": "white"
          },
          "hoverlabel": {
           "align": "left"
          },
          "hovermode": "closest",
          "mapbox": {
           "style": "light"
          },
          "paper_bgcolor": "white",
          "plot_bgcolor": "#E5ECF6",
          "polar": {
           "angularaxis": {
            "gridcolor": "white",
            "linecolor": "white",
            "ticks": ""
           },
           "bgcolor": "#E5ECF6",
           "radialaxis": {
            "gridcolor": "white",
            "linecolor": "white",
            "ticks": ""
           }
          },
          "scene": {
           "xaxis": {
            "backgroundcolor": "#E5ECF6",
            "gridcolor": "white",
            "gridwidth": 2,
            "linecolor": "white",
            "showbackground": true,
            "ticks": "",
            "zerolinecolor": "white"
           },
           "yaxis": {
            "backgroundcolor": "#E5ECF6",
            "gridcolor": "white",
            "gridwidth": 2,
            "linecolor": "white",
            "showbackground": true,
            "ticks": "",
            "zerolinecolor": "white"
           },
           "zaxis": {
            "backgroundcolor": "#E5ECF6",
            "gridcolor": "white",
            "gridwidth": 2,
            "linecolor": "white",
            "showbackground": true,
            "ticks": "",
            "zerolinecolor": "white"
           }
          },
          "shapedefaults": {
           "line": {
            "color": "#2a3f5f"
           }
          },
          "ternary": {
           "aaxis": {
            "gridcolor": "white",
            "linecolor": "white",
            "ticks": ""
           },
           "baxis": {
            "gridcolor": "white",
            "linecolor": "white",
            "ticks": ""
           },
           "bgcolor": "#E5ECF6",
           "caxis": {
            "gridcolor": "white",
            "linecolor": "white",
            "ticks": ""
           }
          },
          "title": {
           "x": 0.05
          },
          "xaxis": {
           "automargin": true,
           "gridcolor": "white",
           "linecolor": "white",
           "ticks": "",
           "title": {
            "standoff": 15
           },
           "zerolinecolor": "white",
           "zerolinewidth": 2
          },
          "yaxis": {
           "automargin": true,
           "gridcolor": "white",
           "linecolor": "white",
           "ticks": "",
           "title": {
            "standoff": 15
           },
           "zerolinecolor": "white",
           "zerolinewidth": 2
          }
         }
        },
        "title": {
         "text": "Time Series Plot"
        },
        "xaxis": {
         "anchor": "y",
         "domain": [
          0,
          1
         ],
         "title": {
          "text": ""
         }
        },
        "yaxis": {
         "anchor": "x",
         "domain": [
          0,
          1
         ],
         "title": {
          "text": "Value"
         }
        }
       }
      }
     },
     "metadata": {},
     "output_type": "display_data"
    }
   ],
   "source": [
    "scr.plot_series()  ## Plot the series."
   ]
  },
  {
   "cell_type": "code",
   "execution_count": 100,
   "metadata": {},
   "outputs": [
    {
     "data": {
      "text/plain": [
       "1961-01-01       50.060000\n",
       "1962-01-01       47.210000\n",
       "1963-01-01       50.710000\n",
       "1964-01-01       59.710000\n",
       "1965-01-01       73.837346\n",
       "                  ...     \n",
       "2020-01-01    14687.740000\n",
       "2021-01-01    17881.780000\n",
       "2022-01-01    17881.780000\n",
       "2023-01-01    17794.780000\n",
       "2024-01-01    18239.890000\n",
       "Freq: YS-JAN, Name: gdp, Length: 64, dtype: float64"
      ]
     },
     "execution_count": 100,
     "metadata": {},
     "output_type": "execute_result"
    }
   ],
   "source": [
    "scr.scale_series() ## Scale the series to the y-axis values to convert the pixel co-ordinates to actual data values."
   ]
  },
  {
   "cell_type": "code",
   "execution_count": 101,
   "metadata": {},
   "outputs": [
    {
     "name": "stderr",
     "output_type": "stream",
     "text": [
      "INFO - \n",
      "Series metadata: \n",
      " {'units': 'USD Billion', 'original_source': 'World Bank', 'title': 'China GDP', 'indicator': 'gdp', 'country': 'china', 'length': 64, 'frequency': 'YS-JAN', 'source': 'Trading Economics', 'id': 'china/gdp', 'start_date': '1961-01-01', 'end_date': '2024-01-01', 'min_value': 47.20999999995024, 'max_value': 18239.89000000028}\n"
     ]
    }
   ],
   "source": [
    "scr.scrape_metadata() ## Scrape the metadata for the data series from the page."
   ]
  },
  {
   "cell_type": "code",
   "execution_count": 102,
   "metadata": {},
   "outputs": [
    {
     "data": {
      "text/plain": [
       "1961-01-01       50.060000\n",
       "1962-01-01       47.210000\n",
       "1963-01-01       50.710000\n",
       "1964-01-01       59.710000\n",
       "1965-01-01       73.837346\n",
       "                  ...     \n",
       "2020-01-01    14687.740000\n",
       "2021-01-01    17881.780000\n",
       "2022-01-01    17881.780000\n",
       "2023-01-01    17794.780000\n",
       "2024-01-01    18239.890000\n",
       "Freq: YS-JAN, Name: gdp, Length: 64, dtype: float64"
      ]
     },
     "execution_count": 102,
     "metadata": {},
     "output_type": "execute_result"
    }
   ],
   "source": [
    "scr.series # View the series data obtained."
   ]
  },
  {
   "cell_type": "code",
   "execution_count": 105,
   "metadata": {},
   "outputs": [
    {
     "data": {
      "application/vnd.plotly.v1+json": {
       "config": {
        "plotlyServerURL": "https://plot.ly"
       },
       "data": [
        {
         "hovertemplate": "variable=gdp<br>index=%{x}<br>value=%{y}<extra></extra>",
         "legendgroup": "gdp",
         "line": {
          "color": "#636efa",
          "dash": "solid"
         },
         "marker": {
          "symbol": "circle"
         },
         "mode": "lines",
         "name": "gdp",
         "orientation": "v",
         "showlegend": true,
         "type": "scatter",
         "x": [
          "1961-01-01T00:00:00",
          "1962-01-01T00:00:00",
          "1963-01-01T00:00:00",
          "1964-01-01T00:00:00",
          "1965-01-01T00:00:00",
          "1966-01-01T00:00:00",
          "1967-01-01T00:00:00",
          "1968-01-01T00:00:00",
          "1969-01-01T00:00:00",
          "1970-01-01T00:00:00",
          "1971-01-01T00:00:00",
          "1972-01-01T00:00:00",
          "1973-01-01T00:00:00",
          "1974-01-01T00:00:00",
          "1975-01-01T00:00:00",
          "1976-01-01T00:00:00",
          "1977-01-01T00:00:00",
          "1978-01-01T00:00:00",
          "1979-01-01T00:00:00",
          "1980-01-01T00:00:00",
          "1981-01-01T00:00:00",
          "1982-01-01T00:00:00",
          "1983-01-01T00:00:00",
          "1984-01-01T00:00:00",
          "1985-01-01T00:00:00",
          "1986-01-01T00:00:00",
          "1987-01-01T00:00:00",
          "1988-01-01T00:00:00",
          "1989-01-01T00:00:00",
          "1990-01-01T00:00:00",
          "1991-01-01T00:00:00",
          "1992-01-01T00:00:00",
          "1993-01-01T00:00:00",
          "1994-01-01T00:00:00",
          "1995-01-01T00:00:00",
          "1996-01-01T00:00:00",
          "1997-01-01T00:00:00",
          "1998-01-01T00:00:00",
          "1999-01-01T00:00:00",
          "2000-01-01T00:00:00",
          "2001-01-01T00:00:00",
          "2002-01-01T00:00:00",
          "2003-01-01T00:00:00",
          "2004-01-01T00:00:00",
          "2005-01-01T00:00:00",
          "2006-01-01T00:00:00",
          "2007-01-01T00:00:00",
          "2008-01-01T00:00:00",
          "2009-01-01T00:00:00",
          "2010-01-01T00:00:00",
          "2011-01-01T00:00:00",
          "2012-01-01T00:00:00",
          "2013-01-01T00:00:00",
          "2014-01-01T00:00:00",
          "2015-01-01T00:00:00",
          "2016-01-01T00:00:00",
          "2017-01-01T00:00:00",
          "2018-01-01T00:00:00",
          "2019-01-01T00:00:00",
          "2020-01-01T00:00:00",
          "2021-01-01T00:00:00",
          "2022-01-01T00:00:00",
          "2023-01-01T00:00:00",
          "2024-01-01T00:00:00"
         ],
         "xaxis": "x",
         "y": [
          50.06,
          47.20999999995024,
          50.70999999997949,
          59.70999999998105,
          73.8373461011992,
          76.71999999994993,
          72.88000000000689,
          70.84999999999822,
          84.05404924760182,
          92.59999999996106,
          99.80000000000581,
          113.6899999999749,
          144.19000000000884,
          144.19000000000884,
          163.42999999998068,
          153.93999999994676,
          174.93999999997726,
          149.54000000001162,
          178.2799999999869,
          191.1499999999971,
          198.65418604647843,
          205.08999999998292,
          230.6900000000033,
          259.950000000004,
          309.4899999999511,
          293.45599999997785,
          272.96999999998786,
          312.3499999999785,
          357.45872777015086,
          367.97999999999985,
          383.37000000000677,
          426.9199999999532,
          462.539999999934,
          622.2699999999845,
          734.479999999962,
          863.7499999999734,
          994.616771545763,
          1055.5399999999852,
          1094.0000000000018,
          1211.3299999999747,
          1391.1750752393827,
          1534.7360000000108,
          1660.2800000000002,
          1955.3499999999538,
          2445.0960054718926,
          3004.9940000000056,
          3918.7740000001163,
          4594.339999999984,
          5399.851559507658,
          6577.161999999416,
          8040.5499999997755,
          8532.18999999974,
          9958.624281805558,
          10773.840000000097,
          11213.10799999987,
          11233.309999999732,
          12842.08179206578,
          14279.96999999974,
          14438.535999999733,
          14687.739999999885,
          17881.779999999984,
          17881.779999999984,
          17794.780000000126,
          18239.89000000028
         ],
         "yaxis": "y"
        }
       ],
       "layout": {
        "annotations": [
         {
          "align": "left",
          "bgcolor": "rgba(255, 255, 255, 0.8)",
          "bordercolor": "black",
          "borderwidth": 1,
          "font": {
           "size": 10
          },
          "showarrow": false,
          "text": "Source: Trading Economics<br>Original Source: World Bank<br>Frequency: YS-JAN",
          "x": 0,
          "xanchor": "left",
          "xref": "paper",
          "y": -0.22,
          "yanchor": "bottom",
          "yref": "paper"
         }
        ],
        "legend": {
         "orientation": "h",
         "title": {
          "text": ""
         },
         "tracegroupgap": 0,
         "x": 0.5,
         "xanchor": "center",
         "y": -0.2,
         "yanchor": "bottom"
        },
        "margin": {
         "t": 60
        },
        "template": {
         "data": {
          "bar": [
           {
            "error_x": {
             "color": "#2a3f5f"
            },
            "error_y": {
             "color": "#2a3f5f"
            },
            "marker": {
             "line": {
              "color": "#E5ECF6",
              "width": 0.5
             },
             "pattern": {
              "fillmode": "overlay",
              "size": 10,
              "solidity": 0.2
             }
            },
            "type": "bar"
           }
          ],
          "barpolar": [
           {
            "marker": {
             "line": {
              "color": "#E5ECF6",
              "width": 0.5
             },
             "pattern": {
              "fillmode": "overlay",
              "size": 10,
              "solidity": 0.2
             }
            },
            "type": "barpolar"
           }
          ],
          "carpet": [
           {
            "aaxis": {
             "endlinecolor": "#2a3f5f",
             "gridcolor": "white",
             "linecolor": "white",
             "minorgridcolor": "white",
             "startlinecolor": "#2a3f5f"
            },
            "baxis": {
             "endlinecolor": "#2a3f5f",
             "gridcolor": "white",
             "linecolor": "white",
             "minorgridcolor": "white",
             "startlinecolor": "#2a3f5f"
            },
            "type": "carpet"
           }
          ],
          "choropleth": [
           {
            "colorbar": {
             "outlinewidth": 0,
             "ticks": ""
            },
            "type": "choropleth"
           }
          ],
          "contour": [
           {
            "colorbar": {
             "outlinewidth": 0,
             "ticks": ""
            },
            "colorscale": [
             [
              0,
              "#0d0887"
             ],
             [
              0.1111111111111111,
              "#46039f"
             ],
             [
              0.2222222222222222,
              "#7201a8"
             ],
             [
              0.3333333333333333,
              "#9c179e"
             ],
             [
              0.4444444444444444,
              "#bd3786"
             ],
             [
              0.5555555555555556,
              "#d8576b"
             ],
             [
              0.6666666666666666,
              "#ed7953"
             ],
             [
              0.7777777777777778,
              "#fb9f3a"
             ],
             [
              0.8888888888888888,
              "#fdca26"
             ],
             [
              1,
              "#f0f921"
             ]
            ],
            "type": "contour"
           }
          ],
          "contourcarpet": [
           {
            "colorbar": {
             "outlinewidth": 0,
             "ticks": ""
            },
            "type": "contourcarpet"
           }
          ],
          "heatmap": [
           {
            "colorbar": {
             "outlinewidth": 0,
             "ticks": ""
            },
            "colorscale": [
             [
              0,
              "#0d0887"
             ],
             [
              0.1111111111111111,
              "#46039f"
             ],
             [
              0.2222222222222222,
              "#7201a8"
             ],
             [
              0.3333333333333333,
              "#9c179e"
             ],
             [
              0.4444444444444444,
              "#bd3786"
             ],
             [
              0.5555555555555556,
              "#d8576b"
             ],
             [
              0.6666666666666666,
              "#ed7953"
             ],
             [
              0.7777777777777778,
              "#fb9f3a"
             ],
             [
              0.8888888888888888,
              "#fdca26"
             ],
             [
              1,
              "#f0f921"
             ]
            ],
            "type": "heatmap"
           }
          ],
          "heatmapgl": [
           {
            "colorbar": {
             "outlinewidth": 0,
             "ticks": ""
            },
            "colorscale": [
             [
              0,
              "#0d0887"
             ],
             [
              0.1111111111111111,
              "#46039f"
             ],
             [
              0.2222222222222222,
              "#7201a8"
             ],
             [
              0.3333333333333333,
              "#9c179e"
             ],
             [
              0.4444444444444444,
              "#bd3786"
             ],
             [
              0.5555555555555556,
              "#d8576b"
             ],
             [
              0.6666666666666666,
              "#ed7953"
             ],
             [
              0.7777777777777778,
              "#fb9f3a"
             ],
             [
              0.8888888888888888,
              "#fdca26"
             ],
             [
              1,
              "#f0f921"
             ]
            ],
            "type": "heatmapgl"
           }
          ],
          "histogram": [
           {
            "marker": {
             "pattern": {
              "fillmode": "overlay",
              "size": 10,
              "solidity": 0.2
             }
            },
            "type": "histogram"
           }
          ],
          "histogram2d": [
           {
            "colorbar": {
             "outlinewidth": 0,
             "ticks": ""
            },
            "colorscale": [
             [
              0,
              "#0d0887"
             ],
             [
              0.1111111111111111,
              "#46039f"
             ],
             [
              0.2222222222222222,
              "#7201a8"
             ],
             [
              0.3333333333333333,
              "#9c179e"
             ],
             [
              0.4444444444444444,
              "#bd3786"
             ],
             [
              0.5555555555555556,
              "#d8576b"
             ],
             [
              0.6666666666666666,
              "#ed7953"
             ],
             [
              0.7777777777777778,
              "#fb9f3a"
             ],
             [
              0.8888888888888888,
              "#fdca26"
             ],
             [
              1,
              "#f0f921"
             ]
            ],
            "type": "histogram2d"
           }
          ],
          "histogram2dcontour": [
           {
            "colorbar": {
             "outlinewidth": 0,
             "ticks": ""
            },
            "colorscale": [
             [
              0,
              "#0d0887"
             ],
             [
              0.1111111111111111,
              "#46039f"
             ],
             [
              0.2222222222222222,
              "#7201a8"
             ],
             [
              0.3333333333333333,
              "#9c179e"
             ],
             [
              0.4444444444444444,
              "#bd3786"
             ],
             [
              0.5555555555555556,
              "#d8576b"
             ],
             [
              0.6666666666666666,
              "#ed7953"
             ],
             [
              0.7777777777777778,
              "#fb9f3a"
             ],
             [
              0.8888888888888888,
              "#fdca26"
             ],
             [
              1,
              "#f0f921"
             ]
            ],
            "type": "histogram2dcontour"
           }
          ],
          "mesh3d": [
           {
            "colorbar": {
             "outlinewidth": 0,
             "ticks": ""
            },
            "type": "mesh3d"
           }
          ],
          "parcoords": [
           {
            "line": {
             "colorbar": {
              "outlinewidth": 0,
              "ticks": ""
             }
            },
            "type": "parcoords"
           }
          ],
          "pie": [
           {
            "automargin": true,
            "type": "pie"
           }
          ],
          "scatter": [
           {
            "fillpattern": {
             "fillmode": "overlay",
             "size": 10,
             "solidity": 0.2
            },
            "type": "scatter"
           }
          ],
          "scatter3d": [
           {
            "line": {
             "colorbar": {
              "outlinewidth": 0,
              "ticks": ""
             }
            },
            "marker": {
             "colorbar": {
              "outlinewidth": 0,
              "ticks": ""
             }
            },
            "type": "scatter3d"
           }
          ],
          "scattercarpet": [
           {
            "marker": {
             "colorbar": {
              "outlinewidth": 0,
              "ticks": ""
             }
            },
            "type": "scattercarpet"
           }
          ],
          "scattergeo": [
           {
            "marker": {
             "colorbar": {
              "outlinewidth": 0,
              "ticks": ""
             }
            },
            "type": "scattergeo"
           }
          ],
          "scattergl": [
           {
            "marker": {
             "colorbar": {
              "outlinewidth": 0,
              "ticks": ""
             }
            },
            "type": "scattergl"
           }
          ],
          "scattermapbox": [
           {
            "marker": {
             "colorbar": {
              "outlinewidth": 0,
              "ticks": ""
             }
            },
            "type": "scattermapbox"
           }
          ],
          "scatterpolar": [
           {
            "marker": {
             "colorbar": {
              "outlinewidth": 0,
              "ticks": ""
             }
            },
            "type": "scatterpolar"
           }
          ],
          "scatterpolargl": [
           {
            "marker": {
             "colorbar": {
              "outlinewidth": 0,
              "ticks": ""
             }
            },
            "type": "scatterpolargl"
           }
          ],
          "scatterternary": [
           {
            "marker": {
             "colorbar": {
              "outlinewidth": 0,
              "ticks": ""
             }
            },
            "type": "scatterternary"
           }
          ],
          "surface": [
           {
            "colorbar": {
             "outlinewidth": 0,
             "ticks": ""
            },
            "colorscale": [
             [
              0,
              "#0d0887"
             ],
             [
              0.1111111111111111,
              "#46039f"
             ],
             [
              0.2222222222222222,
              "#7201a8"
             ],
             [
              0.3333333333333333,
              "#9c179e"
             ],
             [
              0.4444444444444444,
              "#bd3786"
             ],
             [
              0.5555555555555556,
              "#d8576b"
             ],
             [
              0.6666666666666666,
              "#ed7953"
             ],
             [
              0.7777777777777778,
              "#fb9f3a"
             ],
             [
              0.8888888888888888,
              "#fdca26"
             ],
             [
              1,
              "#f0f921"
             ]
            ],
            "type": "surface"
           }
          ],
          "table": [
           {
            "cells": {
             "fill": {
              "color": "#EBF0F8"
             },
             "line": {
              "color": "white"
             }
            },
            "header": {
             "fill": {
              "color": "#C8D4E3"
             },
             "line": {
              "color": "white"
             }
            },
            "type": "table"
           }
          ]
         },
         "layout": {
          "annotationdefaults": {
           "arrowcolor": "#2a3f5f",
           "arrowhead": 0,
           "arrowwidth": 1
          },
          "autotypenumbers": "strict",
          "coloraxis": {
           "colorbar": {
            "outlinewidth": 0,
            "ticks": ""
           }
          },
          "colorscale": {
           "diverging": [
            [
             0,
             "#8e0152"
            ],
            [
             0.1,
             "#c51b7d"
            ],
            [
             0.2,
             "#de77ae"
            ],
            [
             0.3,
             "#f1b6da"
            ],
            [
             0.4,
             "#fde0ef"
            ],
            [
             0.5,
             "#f7f7f7"
            ],
            [
             0.6,
             "#e6f5d0"
            ],
            [
             0.7,
             "#b8e186"
            ],
            [
             0.8,
             "#7fbc41"
            ],
            [
             0.9,
             "#4d9221"
            ],
            [
             1,
             "#276419"
            ]
           ],
           "sequential": [
            [
             0,
             "#0d0887"
            ],
            [
             0.1111111111111111,
             "#46039f"
            ],
            [
             0.2222222222222222,
             "#7201a8"
            ],
            [
             0.3333333333333333,
             "#9c179e"
            ],
            [
             0.4444444444444444,
             "#bd3786"
            ],
            [
             0.5555555555555556,
             "#d8576b"
            ],
            [
             0.6666666666666666,
             "#ed7953"
            ],
            [
             0.7777777777777778,
             "#fb9f3a"
            ],
            [
             0.8888888888888888,
             "#fdca26"
            ],
            [
             1,
             "#f0f921"
            ]
           ],
           "sequentialminus": [
            [
             0,
             "#0d0887"
            ],
            [
             0.1111111111111111,
             "#46039f"
            ],
            [
             0.2222222222222222,
             "#7201a8"
            ],
            [
             0.3333333333333333,
             "#9c179e"
            ],
            [
             0.4444444444444444,
             "#bd3786"
            ],
            [
             0.5555555555555556,
             "#d8576b"
            ],
            [
             0.6666666666666666,
             "#ed7953"
            ],
            [
             0.7777777777777778,
             "#fb9f3a"
            ],
            [
             0.8888888888888888,
             "#fdca26"
            ],
            [
             1,
             "#f0f921"
            ]
           ]
          },
          "colorway": [
           "#636efa",
           "#EF553B",
           "#00cc96",
           "#ab63fa",
           "#FFA15A",
           "#19d3f3",
           "#FF6692",
           "#B6E880",
           "#FF97FF",
           "#FECB52"
          ],
          "font": {
           "color": "#2a3f5f"
          },
          "geo": {
           "bgcolor": "white",
           "lakecolor": "white",
           "landcolor": "#E5ECF6",
           "showlakes": true,
           "showland": true,
           "subunitcolor": "white"
          },
          "hoverlabel": {
           "align": "left"
          },
          "hovermode": "closest",
          "mapbox": {
           "style": "light"
          },
          "paper_bgcolor": "white",
          "plot_bgcolor": "#E5ECF6",
          "polar": {
           "angularaxis": {
            "gridcolor": "white",
            "linecolor": "white",
            "ticks": ""
           },
           "bgcolor": "#E5ECF6",
           "radialaxis": {
            "gridcolor": "white",
            "linecolor": "white",
            "ticks": ""
           }
          },
          "scene": {
           "xaxis": {
            "backgroundcolor": "#E5ECF6",
            "gridcolor": "white",
            "gridwidth": 2,
            "linecolor": "white",
            "showbackground": true,
            "ticks": "",
            "zerolinecolor": "white"
           },
           "yaxis": {
            "backgroundcolor": "#E5ECF6",
            "gridcolor": "white",
            "gridwidth": 2,
            "linecolor": "white",
            "showbackground": true,
            "ticks": "",
            "zerolinecolor": "white"
           },
           "zaxis": {
            "backgroundcolor": "#E5ECF6",
            "gridcolor": "white",
            "gridwidth": 2,
            "linecolor": "white",
            "showbackground": true,
            "ticks": "",
            "zerolinecolor": "white"
           }
          },
          "shapedefaults": {
           "line": {
            "color": "#2a3f5f"
           }
          },
          "ternary": {
           "aaxis": {
            "gridcolor": "white",
            "linecolor": "white",
            "ticks": ""
           },
           "baxis": {
            "gridcolor": "white",
            "linecolor": "white",
            "ticks": ""
           },
           "bgcolor": "#E5ECF6",
           "caxis": {
            "gridcolor": "white",
            "linecolor": "white",
            "ticks": ""
           }
          },
          "title": {
           "x": 0.05
          },
          "xaxis": {
           "automargin": true,
           "gridcolor": "white",
           "linecolor": "white",
           "ticks": "",
           "title": {
            "standoff": 15
           },
           "zerolinecolor": "white",
           "zerolinewidth": 2
          },
          "yaxis": {
           "automargin": true,
           "gridcolor": "white",
           "linecolor": "white",
           "ticks": "",
           "title": {
            "standoff": 15
           },
           "zerolinecolor": "white",
           "zerolinewidth": 2
          }
         }
        },
        "title": {
         "text": "China: China gdp"
        },
        "xaxis": {
         "anchor": "y",
         "domain": [
          0,
          1
         ],
         "title": {
          "text": ""
         }
        },
        "yaxis": {
         "anchor": "x",
         "domain": [
          0,
          1
         ],
         "title": {
          "text": "Usd billion"
         }
        }
       }
      }
     },
     "metadata": {},
     "output_type": "display_data"
    }
   ],
   "source": [
    "scr.plot_series(ann_box_pos=(0, -0.22))  ## Plot the series."
   ]
  },
  {
   "cell_type": "code",
   "execution_count": 106,
   "metadata": {},
   "outputs": [
    {
     "name": "stderr",
     "output_type": "stream",
     "text": [
      "INFO - Plot saved as /Users/jamesbishop/Documents/Python/Scraping/tedata/tests/plot.html\n"
     ]
    }
   ],
   "source": [
    "scr.save_plot(format=\"html\")  ## Save the plot as an interactive html file."
   ]
  }
 ],
 "metadata": {
  "kernelspec": {
   "display_name": "bm",
   "language": "python",
   "name": "python3"
  },
  "language_info": {
   "codemirror_mode": {
    "name": "ipython",
    "version": 3
   },
   "file_extension": ".py",
   "mimetype": "text/x-python",
   "name": "python",
   "nbconvert_exporter": "python",
   "pygments_lexer": "ipython3",
   "version": "3.11.11"
  }
 },
 "nbformat": 4,
 "nbformat_minor": 2
}
