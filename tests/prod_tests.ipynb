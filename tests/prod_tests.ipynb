{
 "cells": [
  {
   "cell_type": "code",
   "execution_count": 4,
   "metadata": {},
   "outputs": [],
   "source": [
    "import sys\n",
    "import os\n",
    "import pandas as pd\n",
    "pd.set_option('display.notebook_repr_html', True)\n",
    "pd.set_option('display.max_columns', None)\n",
    "pd.set_option('display.max_rows', 50)\n",
    "pd.set_option('display.width', 1000)\n",
    "from pprint import pprint\n",
    "wd = %pwd\n",
    "parent = os.path.dirname(wd)\n",
    "fdel = os.path.sep\n",
    "sys.path.append(parent+fdel+\"src\")\n",
    "import tedata as ted"
   ]
  },
  {
   "cell_type": "markdown",
   "metadata": {},
   "source": [
    "# tedata package\n",
    "Download data from Trading Economics. There are several ways to use this package. \n",
    "# Method #1: search for indicators and then download the data for a given search result.\n",
    "## Initialise new search_TE object. \n",
    "Object will use an existing webdriver if there is already more than one active in the namespace when use_existing_driver=True. \n",
    "This will save you some time and be more memory efficient."
   ]
  },
  {
   "cell_type": "code",
   "execution_count": 12,
   "metadata": {},
   "outputs": [
    {
     "name": "stderr",
     "output_type": "stream",
     "text": [
      "INFO - New firefox webdriver created.\n",
      "INFO - Loading home page at https://tradingeconomics.com/ ...\n",
      "INFO - Home page at https://tradingeconomics.com loaded successfully! Search box element found.\n"
     ]
    }
   ],
   "source": [
    "search = ted.search_TE(use_existing_driver=False, headless=False)  # Will open firefox browser window as headless=False."
   ]
  },
  {
   "cell_type": "markdown",
   "metadata": {},
   "source": [
    "### Use the search_trading_economics method to use the search bar on the homepage to search."
   ]
  },
  {
   "cell_type": "code",
   "execution_count": 13,
   "metadata": {},
   "outputs": [
    {
     "name": "stderr",
     "output_type": "stream",
     "text": [
      "INFO - Clicking search box...\n",
      "INFO - Entering search term: ISM Services\n",
      "INFO - Submitting search, waiting 3s for page to load...\n"
     ]
    },
    {
     "name": "stdout",
     "output_type": "stream",
     "text": [
      "Found search results on page.\n"
     ]
    },
    {
     "data": {
      "application/vnd.microsoft.datawrangler.viewer.v0+json": {
       "columns": [
        {
         "name": "result",
         "rawType": "int64",
         "type": "integer"
        },
        {
         "name": "country",
         "rawType": "object",
         "type": "string"
        },
        {
         "name": "metric",
         "rawType": "object",
         "type": "string"
        },
        {
         "name": "url",
         "rawType": "object",
         "type": "string"
        }
       ],
       "conversionMethod": "pd.DataFrame",
       "ref": "16c6f66f-c2d9-4365-8fbe-18f80d7a6ea5",
       "rows": [
        [
         "0",
         "united states",
         "non manufacturing pmi",
         "https://tradingeconomics.com/united-states/non-manufacturing-pmi"
        ],
        [
         "1",
         "united states",
         "ism non manufacturing prices",
         "https://tradingeconomics.com/united-states/ism-non-manufacturing-prices"
        ],
        [
         "2",
         "united states",
         "ism non manufacturing business activity",
         "https://tradingeconomics.com/united-states/ism-non-manufacturing-business-activity"
        ],
        [
         "3",
         "united states",
         "ism non manufacturing employment",
         "https://tradingeconomics.com/united-states/ism-non-manufacturing-employment"
        ],
        [
         "4",
         "united states",
         "ism non manufacturing new orders",
         "https://tradingeconomics.com/united-states/ism-non-manufacturing-new-orders"
        ],
        [
         "5",
         "iceland",
         "insurance and financial services percent of commercial service imports wb data.html",
         "https://tradingeconomics.com/iceland/insurance-and-financial-services-percent-of-commercial-service-imports-wb-data.html"
        ],
        [
         "6",
         "iceland",
         "employees services male percent of male employment wb data.html",
         "https://tradingeconomics.com/iceland/employees-services-male-percent-of-male-employment-wb-data.html"
        ],
        [
         "7",
         "iceland",
         "insurance and financial services percent of commercial service exports wb data.html",
         "https://tradingeconomics.com/iceland/insurance-and-financial-services-percent-of-commercial-service-exports-wb-data.html"
        ],
        [
         "8",
         "iceland",
         "exports of goods and services annual percent growth wb data.html",
         "https://tradingeconomics.com/iceland/exports-of-goods-and-services-annual-percent-growth-wb-data.html"
        ],
        [
         "9",
         "iceland",
         "imports of goods and services percent of gdp wb data.html",
         "https://tradingeconomics.com/iceland/imports-of-goods-and-services-percent-of-gdp-wb-data.html"
        ],
        [
         "10",
         "iceland",
         "ict service exports percent of service exports bop wb data.html",
         "https://tradingeconomics.com/iceland/ict-service-exports-percent-of-service-exports-bop-wb-data.html"
        ],
        [
         "11",
         "iceland",
         "insurance and financial services percent of service exports bop wb data.html",
         "https://tradingeconomics.com/iceland/insurance-and-financial-services-percent-of-service-exports-bop-wb-data.html"
        ],
        [
         "12",
         "iceland",
         "taxes on goods and services percent value added of industry and services wb data.html",
         "https://tradingeconomics.com/iceland/taxes-on-goods-and-services-percent-value-added-of-industry-and-services-wb-data.html"
        ],
        [
         "13",
         "iceland",
         "taxes on goods and services current lcu wb data.html",
         "https://tradingeconomics.com/iceland/taxes-on-goods-and-services-current-lcu-wb-data.html"
        ],
        [
         "14",
         "iceland",
         "people using basic sanitation services urban percent of urban population wb data.html",
         "https://tradingeconomics.com/iceland/people-using-basic-sanitation-services-urban-percent-of-urban-population-wb-data.html"
        ],
        [
         "15",
         "iceland",
         "logistics performance index competence and quality of logistics services 1 low to 5 high wb data.html",
         "https://tradingeconomics.com/iceland/logistics-performance-index-competence-and-quality-of-logistics-services-1-low-to-5-high-wb-data.html"
        ],
        [
         "16",
         "iceland",
         "exports of goods and services us dollar wb data.html",
         "https://tradingeconomics.com/iceland/exports-of-goods-and-services-us-dollar-wb-data.html"
        ],
        [
         "17",
         "iceland",
         "imports of goods and services annual percent growth wb data.html",
         "https://tradingeconomics.com/iceland/imports-of-goods-and-services-annual-percent-growth-wb-data.html"
        ],
        [
         "18",
         "iceland",
         "imports of goods and services us dollar wb data.html",
         "https://tradingeconomics.com/iceland/imports-of-goods-and-services-us-dollar-wb-data.html"
        ],
        [
         "19",
         "iceland",
         "imports of goods services and income bop us dollar wb data.html",
         "https://tradingeconomics.com/iceland/imports-of-goods-services-and-income-bop-us-dollar-wb-data.html"
        ],
        [
         "20",
         "iceland",
         "ict service exports bop us dollar wb data.html",
         "https://tradingeconomics.com/iceland/ict-service-exports-bop-us-dollar-wb-data.html"
        ],
        [
         "21",
         "iceland",
         "travel services percent of service imports bop wb data.html",
         "https://tradingeconomics.com/iceland/travel-services-percent-of-service-imports-bop-wb-data.html"
        ],
        [
         "22",
         "iceland",
         "communications computer etc percent of service exports bop wb data.html",
         "https://tradingeconomics.com/iceland/communications-computer-etc-percent-of-service-exports-bop-wb-data.html"
        ],
        [
         "23",
         "iceland",
         "net trade in goods and services bop us dollar wb data.html",
         "https://tradingeconomics.com/iceland/net-trade-in-goods-and-services-bop-us-dollar-wb-data.html"
        ],
        [
         "24",
         "iceland",
         "service exports bop us dollar wb data.html",
         "https://tradingeconomics.com/iceland/service-exports-bop-us-dollar-wb-data.html"
        ],
        [
         "25",
         "iceland",
         "commercial service imports us dollar wb data.html",
         "https://tradingeconomics.com/iceland/commercial-service-imports-us-dollar-wb-data.html"
        ],
        [
         "26",
         "iceland",
         "computer communications and other services percent of commercial service exports wb data.html",
         "https://tradingeconomics.com/iceland/computer-communications-and-other-services-percent-of-commercial-service-exports-wb-data.html"
        ],
        [
         "27",
         "iceland",
         "people using basic sanitation services rural percent of rural population wb data.html",
         "https://tradingeconomics.com/iceland/people-using-basic-sanitation-services-rural-percent-of-rural-population-wb-data.html"
        ],
        [
         "28",
         "iceland",
         "exports of goods services and income bop us dollar wb data.html",
         "https://tradingeconomics.com/iceland/exports-of-goods-services-and-income-bop-us-dollar-wb-data.html"
        ],
        [
         "29",
         "iceland",
         "taxes on goods and services percent of revenue wb data.html",
         "https://tradingeconomics.com/iceland/taxes-on-goods-and-services-percent-of-revenue-wb-data.html"
        ],
        [
         "30",
         "iceland",
         "exports of goods and services current lcu wb data.html",
         "https://tradingeconomics.com/iceland/exports-of-goods-and-services-current-lcu-wb-data.html"
        ],
        [
         "31",
         "iceland",
         "exports of goods and services constant lcu wb data.html",
         "https://tradingeconomics.com/iceland/exports-of-goods-and-services-constant-lcu-wb-data.html"
        ],
        [
         "32",
         "iceland",
         "transport services percent of commercial service imports wb data.html",
         "https://tradingeconomics.com/iceland/transport-services-percent-of-commercial-service-imports-wb-data.html"
        ],
        [
         "33",
         "iceland",
         "communications computer etc percent of service imports bop wb data.html",
         "https://tradingeconomics.com/iceland/communications-computer-etc-percent-of-service-imports-bop-wb-data.html"
        ],
        [
         "34",
         "iceland",
         "exports of goods and services bop us dollar wb data.html",
         "https://tradingeconomics.com/iceland/exports-of-goods-and-services-bop-us-dollar-wb-data.html"
        ],
        [
         "35",
         "iceland",
         "transport services percent of service exports bop wb data.html",
         "https://tradingeconomics.com/iceland/transport-services-percent-of-service-exports-bop-wb-data.html"
        ],
        [
         "36",
         "iceland",
         "goods and services expense percent of expense wb data.html",
         "https://tradingeconomics.com/iceland/goods-and-services-expense-percent-of-expense-wb-data.html"
        ],
        [
         "37",
         "iceland",
         "external balance on goods and services constant lcu wb data.html",
         "https://tradingeconomics.com/iceland/external-balance-on-goods-and-services-constant-lcu-wb-data.html"
        ],
        [
         "38",
         "iceland",
         "external balance on goods and services current lcu wb data.html",
         "https://tradingeconomics.com/iceland/external-balance-on-goods-and-services-current-lcu-wb-data.html"
        ],
        [
         "39",
         "iceland",
         "external balance on goods and services us dollar wb data.html",
         "https://tradingeconomics.com/iceland/external-balance-on-goods-and-services-us-dollar-wb-data.html"
        ],
        [
         "40",
         "iceland",
         "imports of goods and services constant lcu wb data.html",
         "https://tradingeconomics.com/iceland/imports-of-goods-and-services-constant-lcu-wb-data.html"
        ],
        [
         "41",
         "iceland",
         "people using basic sanitation services percent of population wb data.html",
         "https://tradingeconomics.com/iceland/people-using-basic-sanitation-services-percent-of-population-wb-data.html"
        ],
        [
         "42",
         "iceland",
         "commercial service exports us dollar wb data.html",
         "https://tradingeconomics.com/iceland/commercial-service-exports-us-dollar-wb-data.html"
        ],
        [
         "43",
         "iceland",
         "employment in services percent of total employment wb data.html",
         "https://tradingeconomics.com/iceland/employment-in-services-percent-of-total-employment-wb-data.html"
        ],
        [
         "44",
         "iceland",
         "transport services percent of commercial service exports wb data.html",
         "https://tradingeconomics.com/iceland/transport-services-percent-of-commercial-service-exports-wb-data.html"
        ],
        [
         "45",
         "iceland",
         "trade in services percent of gdp wb data.html",
         "https://tradingeconomics.com/iceland/trade-in-services-percent-of-gdp-wb-data.html"
        ],
        [
         "46",
         "iceland",
         "service imports bop us dollar wb data.html",
         "https://tradingeconomics.com/iceland/service-imports-bop-us-dollar-wb-data.html"
        ],
        [
         "47",
         "iceland",
         "insurance and financial services percent of service imports bop wb data.html",
         "https://tradingeconomics.com/iceland/insurance-and-financial-services-percent-of-service-imports-bop-wb-data.html"
        ],
        [
         "48",
         "iceland",
         "goods and services expense current lcu wb data.html",
         "https://tradingeconomics.com/iceland/goods-and-services-expense-current-lcu-wb-data.html"
        ],
        [
         "49",
         "iceland",
         "external balance on goods and services percent of gdp wb data.html",
         "https://tradingeconomics.com/iceland/external-balance-on-goods-and-services-percent-of-gdp-wb-data.html"
        ]
       ],
       "shape": {
        "columns": 3,
        "rows": 50
       }
      },
      "text/html": [
       "<div>\n",
       "<style scoped>\n",
       "    .dataframe tbody tr th:only-of-type {\n",
       "        vertical-align: middle;\n",
       "    }\n",
       "\n",
       "    .dataframe tbody tr th {\n",
       "        vertical-align: top;\n",
       "    }\n",
       "\n",
       "    .dataframe thead th {\n",
       "        text-align: right;\n",
       "    }\n",
       "</style>\n",
       "<table border=\"1\" class=\"dataframe\">\n",
       "  <thead>\n",
       "    <tr style=\"text-align: right;\">\n",
       "      <th></th>\n",
       "      <th>country</th>\n",
       "      <th>metric</th>\n",
       "      <th>url</th>\n",
       "    </tr>\n",
       "    <tr>\n",
       "      <th>result</th>\n",
       "      <th></th>\n",
       "      <th></th>\n",
       "      <th></th>\n",
       "    </tr>\n",
       "  </thead>\n",
       "  <tbody>\n",
       "    <tr>\n",
       "      <th>0</th>\n",
       "      <td>united states</td>\n",
       "      <td>non manufacturing pmi</td>\n",
       "      <td>https://tradingeconomics.com/united-states/non...</td>\n",
       "    </tr>\n",
       "    <tr>\n",
       "      <th>1</th>\n",
       "      <td>united states</td>\n",
       "      <td>ism non manufacturing prices</td>\n",
       "      <td>https://tradingeconomics.com/united-states/ism...</td>\n",
       "    </tr>\n",
       "    <tr>\n",
       "      <th>2</th>\n",
       "      <td>united states</td>\n",
       "      <td>ism non manufacturing business activity</td>\n",
       "      <td>https://tradingeconomics.com/united-states/ism...</td>\n",
       "    </tr>\n",
       "    <tr>\n",
       "      <th>3</th>\n",
       "      <td>united states</td>\n",
       "      <td>ism non manufacturing employment</td>\n",
       "      <td>https://tradingeconomics.com/united-states/ism...</td>\n",
       "    </tr>\n",
       "    <tr>\n",
       "      <th>4</th>\n",
       "      <td>united states</td>\n",
       "      <td>ism non manufacturing new orders</td>\n",
       "      <td>https://tradingeconomics.com/united-states/ism...</td>\n",
       "    </tr>\n",
       "    <tr>\n",
       "      <th>5</th>\n",
       "      <td>iceland</td>\n",
       "      <td>insurance and financial services percent of co...</td>\n",
       "      <td>https://tradingeconomics.com/iceland/insurance...</td>\n",
       "    </tr>\n",
       "    <tr>\n",
       "      <th>6</th>\n",
       "      <td>iceland</td>\n",
       "      <td>employees services male percent of male employ...</td>\n",
       "      <td>https://tradingeconomics.com/iceland/employees...</td>\n",
       "    </tr>\n",
       "    <tr>\n",
       "      <th>7</th>\n",
       "      <td>iceland</td>\n",
       "      <td>insurance and financial services percent of co...</td>\n",
       "      <td>https://tradingeconomics.com/iceland/insurance...</td>\n",
       "    </tr>\n",
       "    <tr>\n",
       "      <th>8</th>\n",
       "      <td>iceland</td>\n",
       "      <td>exports of goods and services annual percent g...</td>\n",
       "      <td>https://tradingeconomics.com/iceland/exports-o...</td>\n",
       "    </tr>\n",
       "    <tr>\n",
       "      <th>9</th>\n",
       "      <td>iceland</td>\n",
       "      <td>imports of goods and services percent of gdp w...</td>\n",
       "      <td>https://tradingeconomics.com/iceland/imports-o...</td>\n",
       "    </tr>\n",
       "    <tr>\n",
       "      <th>10</th>\n",
       "      <td>iceland</td>\n",
       "      <td>ict service exports percent of service exports...</td>\n",
       "      <td>https://tradingeconomics.com/iceland/ict-servi...</td>\n",
       "    </tr>\n",
       "    <tr>\n",
       "      <th>11</th>\n",
       "      <td>iceland</td>\n",
       "      <td>insurance and financial services percent of se...</td>\n",
       "      <td>https://tradingeconomics.com/iceland/insurance...</td>\n",
       "    </tr>\n",
       "    <tr>\n",
       "      <th>12</th>\n",
       "      <td>iceland</td>\n",
       "      <td>taxes on goods and services percent value adde...</td>\n",
       "      <td>https://tradingeconomics.com/iceland/taxes-on-...</td>\n",
       "    </tr>\n",
       "    <tr>\n",
       "      <th>13</th>\n",
       "      <td>iceland</td>\n",
       "      <td>taxes on goods and services current lcu wb dat...</td>\n",
       "      <td>https://tradingeconomics.com/iceland/taxes-on-...</td>\n",
       "    </tr>\n",
       "    <tr>\n",
       "      <th>14</th>\n",
       "      <td>iceland</td>\n",
       "      <td>people using basic sanitation services urban p...</td>\n",
       "      <td>https://tradingeconomics.com/iceland/people-us...</td>\n",
       "    </tr>\n",
       "    <tr>\n",
       "      <th>15</th>\n",
       "      <td>iceland</td>\n",
       "      <td>logistics performance index competence and qua...</td>\n",
       "      <td>https://tradingeconomics.com/iceland/logistics...</td>\n",
       "    </tr>\n",
       "    <tr>\n",
       "      <th>16</th>\n",
       "      <td>iceland</td>\n",
       "      <td>exports of goods and services us dollar wb dat...</td>\n",
       "      <td>https://tradingeconomics.com/iceland/exports-o...</td>\n",
       "    </tr>\n",
       "    <tr>\n",
       "      <th>17</th>\n",
       "      <td>iceland</td>\n",
       "      <td>imports of goods and services annual percent g...</td>\n",
       "      <td>https://tradingeconomics.com/iceland/imports-o...</td>\n",
       "    </tr>\n",
       "    <tr>\n",
       "      <th>18</th>\n",
       "      <td>iceland</td>\n",
       "      <td>imports of goods and services us dollar wb dat...</td>\n",
       "      <td>https://tradingeconomics.com/iceland/imports-o...</td>\n",
       "    </tr>\n",
       "    <tr>\n",
       "      <th>19</th>\n",
       "      <td>iceland</td>\n",
       "      <td>imports of goods services and income bop us do...</td>\n",
       "      <td>https://tradingeconomics.com/iceland/imports-o...</td>\n",
       "    </tr>\n",
       "    <tr>\n",
       "      <th>20</th>\n",
       "      <td>iceland</td>\n",
       "      <td>ict service exports bop us dollar wb data.html</td>\n",
       "      <td>https://tradingeconomics.com/iceland/ict-servi...</td>\n",
       "    </tr>\n",
       "    <tr>\n",
       "      <th>21</th>\n",
       "      <td>iceland</td>\n",
       "      <td>travel services percent of service imports bop...</td>\n",
       "      <td>https://tradingeconomics.com/iceland/travel-se...</td>\n",
       "    </tr>\n",
       "    <tr>\n",
       "      <th>22</th>\n",
       "      <td>iceland</td>\n",
       "      <td>communications computer etc percent of service...</td>\n",
       "      <td>https://tradingeconomics.com/iceland/communica...</td>\n",
       "    </tr>\n",
       "    <tr>\n",
       "      <th>23</th>\n",
       "      <td>iceland</td>\n",
       "      <td>net trade in goods and services bop us dollar ...</td>\n",
       "      <td>https://tradingeconomics.com/iceland/net-trade...</td>\n",
       "    </tr>\n",
       "    <tr>\n",
       "      <th>24</th>\n",
       "      <td>iceland</td>\n",
       "      <td>service exports bop us dollar wb data.html</td>\n",
       "      <td>https://tradingeconomics.com/iceland/service-e...</td>\n",
       "    </tr>\n",
       "    <tr>\n",
       "      <th>25</th>\n",
       "      <td>iceland</td>\n",
       "      <td>commercial service imports us dollar wb data.html</td>\n",
       "      <td>https://tradingeconomics.com/iceland/commercia...</td>\n",
       "    </tr>\n",
       "    <tr>\n",
       "      <th>26</th>\n",
       "      <td>iceland</td>\n",
       "      <td>computer communications and other services per...</td>\n",
       "      <td>https://tradingeconomics.com/iceland/computer-...</td>\n",
       "    </tr>\n",
       "    <tr>\n",
       "      <th>27</th>\n",
       "      <td>iceland</td>\n",
       "      <td>people using basic sanitation services rural p...</td>\n",
       "      <td>https://tradingeconomics.com/iceland/people-us...</td>\n",
       "    </tr>\n",
       "    <tr>\n",
       "      <th>28</th>\n",
       "      <td>iceland</td>\n",
       "      <td>exports of goods services and income bop us do...</td>\n",
       "      <td>https://tradingeconomics.com/iceland/exports-o...</td>\n",
       "    </tr>\n",
       "    <tr>\n",
       "      <th>29</th>\n",
       "      <td>iceland</td>\n",
       "      <td>taxes on goods and services percent of revenue...</td>\n",
       "      <td>https://tradingeconomics.com/iceland/taxes-on-...</td>\n",
       "    </tr>\n",
       "    <tr>\n",
       "      <th>30</th>\n",
       "      <td>iceland</td>\n",
       "      <td>exports of goods and services current lcu wb d...</td>\n",
       "      <td>https://tradingeconomics.com/iceland/exports-o...</td>\n",
       "    </tr>\n",
       "    <tr>\n",
       "      <th>31</th>\n",
       "      <td>iceland</td>\n",
       "      <td>exports of goods and services constant lcu wb ...</td>\n",
       "      <td>https://tradingeconomics.com/iceland/exports-o...</td>\n",
       "    </tr>\n",
       "    <tr>\n",
       "      <th>32</th>\n",
       "      <td>iceland</td>\n",
       "      <td>transport services percent of commercial servi...</td>\n",
       "      <td>https://tradingeconomics.com/iceland/transport...</td>\n",
       "    </tr>\n",
       "    <tr>\n",
       "      <th>33</th>\n",
       "      <td>iceland</td>\n",
       "      <td>communications computer etc percent of service...</td>\n",
       "      <td>https://tradingeconomics.com/iceland/communica...</td>\n",
       "    </tr>\n",
       "    <tr>\n",
       "      <th>34</th>\n",
       "      <td>iceland</td>\n",
       "      <td>exports of goods and services bop us dollar wb...</td>\n",
       "      <td>https://tradingeconomics.com/iceland/exports-o...</td>\n",
       "    </tr>\n",
       "    <tr>\n",
       "      <th>35</th>\n",
       "      <td>iceland</td>\n",
       "      <td>transport services percent of service exports ...</td>\n",
       "      <td>https://tradingeconomics.com/iceland/transport...</td>\n",
       "    </tr>\n",
       "    <tr>\n",
       "      <th>36</th>\n",
       "      <td>iceland</td>\n",
       "      <td>goods and services expense percent of expense ...</td>\n",
       "      <td>https://tradingeconomics.com/iceland/goods-and...</td>\n",
       "    </tr>\n",
       "    <tr>\n",
       "      <th>37</th>\n",
       "      <td>iceland</td>\n",
       "      <td>external balance on goods and services constan...</td>\n",
       "      <td>https://tradingeconomics.com/iceland/external-...</td>\n",
       "    </tr>\n",
       "    <tr>\n",
       "      <th>38</th>\n",
       "      <td>iceland</td>\n",
       "      <td>external balance on goods and services current...</td>\n",
       "      <td>https://tradingeconomics.com/iceland/external-...</td>\n",
       "    </tr>\n",
       "    <tr>\n",
       "      <th>39</th>\n",
       "      <td>iceland</td>\n",
       "      <td>external balance on goods and services us doll...</td>\n",
       "      <td>https://tradingeconomics.com/iceland/external-...</td>\n",
       "    </tr>\n",
       "    <tr>\n",
       "      <th>40</th>\n",
       "      <td>iceland</td>\n",
       "      <td>imports of goods and services constant lcu wb ...</td>\n",
       "      <td>https://tradingeconomics.com/iceland/imports-o...</td>\n",
       "    </tr>\n",
       "    <tr>\n",
       "      <th>41</th>\n",
       "      <td>iceland</td>\n",
       "      <td>people using basic sanitation services percent...</td>\n",
       "      <td>https://tradingeconomics.com/iceland/people-us...</td>\n",
       "    </tr>\n",
       "    <tr>\n",
       "      <th>42</th>\n",
       "      <td>iceland</td>\n",
       "      <td>commercial service exports us dollar wb data.html</td>\n",
       "      <td>https://tradingeconomics.com/iceland/commercia...</td>\n",
       "    </tr>\n",
       "    <tr>\n",
       "      <th>43</th>\n",
       "      <td>iceland</td>\n",
       "      <td>employment in services percent of total employ...</td>\n",
       "      <td>https://tradingeconomics.com/iceland/employmen...</td>\n",
       "    </tr>\n",
       "    <tr>\n",
       "      <th>44</th>\n",
       "      <td>iceland</td>\n",
       "      <td>transport services percent of commercial servi...</td>\n",
       "      <td>https://tradingeconomics.com/iceland/transport...</td>\n",
       "    </tr>\n",
       "    <tr>\n",
       "      <th>45</th>\n",
       "      <td>iceland</td>\n",
       "      <td>trade in services percent of gdp wb data.html</td>\n",
       "      <td>https://tradingeconomics.com/iceland/trade-in-...</td>\n",
       "    </tr>\n",
       "    <tr>\n",
       "      <th>46</th>\n",
       "      <td>iceland</td>\n",
       "      <td>service imports bop us dollar wb data.html</td>\n",
       "      <td>https://tradingeconomics.com/iceland/service-i...</td>\n",
       "    </tr>\n",
       "    <tr>\n",
       "      <th>47</th>\n",
       "      <td>iceland</td>\n",
       "      <td>insurance and financial services percent of se...</td>\n",
       "      <td>https://tradingeconomics.com/iceland/insurance...</td>\n",
       "    </tr>\n",
       "    <tr>\n",
       "      <th>48</th>\n",
       "      <td>iceland</td>\n",
       "      <td>goods and services expense current lcu wb data...</td>\n",
       "      <td>https://tradingeconomics.com/iceland/goods-and...</td>\n",
       "    </tr>\n",
       "    <tr>\n",
       "      <th>49</th>\n",
       "      <td>iceland</td>\n",
       "      <td>external balance on goods and services percent...</td>\n",
       "      <td>https://tradingeconomics.com/iceland/external-...</td>\n",
       "    </tr>\n",
       "  </tbody>\n",
       "</table>\n",
       "</div>"
      ],
      "text/plain": [
       "              country                                             metric                                                url\n",
       "result                                                                                                                     \n",
       "0       united states                              non manufacturing pmi  https://tradingeconomics.com/united-states/non...\n",
       "1       united states                       ism non manufacturing prices  https://tradingeconomics.com/united-states/ism...\n",
       "2       united states            ism non manufacturing business activity  https://tradingeconomics.com/united-states/ism...\n",
       "3       united states                   ism non manufacturing employment  https://tradingeconomics.com/united-states/ism...\n",
       "4       united states                   ism non manufacturing new orders  https://tradingeconomics.com/united-states/ism...\n",
       "5             iceland  insurance and financial services percent of co...  https://tradingeconomics.com/iceland/insurance...\n",
       "6             iceland  employees services male percent of male employ...  https://tradingeconomics.com/iceland/employees...\n",
       "7             iceland  insurance and financial services percent of co...  https://tradingeconomics.com/iceland/insurance...\n",
       "8             iceland  exports of goods and services annual percent g...  https://tradingeconomics.com/iceland/exports-o...\n",
       "9             iceland  imports of goods and services percent of gdp w...  https://tradingeconomics.com/iceland/imports-o...\n",
       "10            iceland  ict service exports percent of service exports...  https://tradingeconomics.com/iceland/ict-servi...\n",
       "11            iceland  insurance and financial services percent of se...  https://tradingeconomics.com/iceland/insurance...\n",
       "12            iceland  taxes on goods and services percent value adde...  https://tradingeconomics.com/iceland/taxes-on-...\n",
       "13            iceland  taxes on goods and services current lcu wb dat...  https://tradingeconomics.com/iceland/taxes-on-...\n",
       "14            iceland  people using basic sanitation services urban p...  https://tradingeconomics.com/iceland/people-us...\n",
       "15            iceland  logistics performance index competence and qua...  https://tradingeconomics.com/iceland/logistics...\n",
       "16            iceland  exports of goods and services us dollar wb dat...  https://tradingeconomics.com/iceland/exports-o...\n",
       "17            iceland  imports of goods and services annual percent g...  https://tradingeconomics.com/iceland/imports-o...\n",
       "18            iceland  imports of goods and services us dollar wb dat...  https://tradingeconomics.com/iceland/imports-o...\n",
       "19            iceland  imports of goods services and income bop us do...  https://tradingeconomics.com/iceland/imports-o...\n",
       "20            iceland     ict service exports bop us dollar wb data.html  https://tradingeconomics.com/iceland/ict-servi...\n",
       "21            iceland  travel services percent of service imports bop...  https://tradingeconomics.com/iceland/travel-se...\n",
       "22            iceland  communications computer etc percent of service...  https://tradingeconomics.com/iceland/communica...\n",
       "23            iceland  net trade in goods and services bop us dollar ...  https://tradingeconomics.com/iceland/net-trade...\n",
       "24            iceland         service exports bop us dollar wb data.html  https://tradingeconomics.com/iceland/service-e...\n",
       "25            iceland  commercial service imports us dollar wb data.html  https://tradingeconomics.com/iceland/commercia...\n",
       "26            iceland  computer communications and other services per...  https://tradingeconomics.com/iceland/computer-...\n",
       "27            iceland  people using basic sanitation services rural p...  https://tradingeconomics.com/iceland/people-us...\n",
       "28            iceland  exports of goods services and income bop us do...  https://tradingeconomics.com/iceland/exports-o...\n",
       "29            iceland  taxes on goods and services percent of revenue...  https://tradingeconomics.com/iceland/taxes-on-...\n",
       "30            iceland  exports of goods and services current lcu wb d...  https://tradingeconomics.com/iceland/exports-o...\n",
       "31            iceland  exports of goods and services constant lcu wb ...  https://tradingeconomics.com/iceland/exports-o...\n",
       "32            iceland  transport services percent of commercial servi...  https://tradingeconomics.com/iceland/transport...\n",
       "33            iceland  communications computer etc percent of service...  https://tradingeconomics.com/iceland/communica...\n",
       "34            iceland  exports of goods and services bop us dollar wb...  https://tradingeconomics.com/iceland/exports-o...\n",
       "35            iceland  transport services percent of service exports ...  https://tradingeconomics.com/iceland/transport...\n",
       "36            iceland  goods and services expense percent of expense ...  https://tradingeconomics.com/iceland/goods-and...\n",
       "37            iceland  external balance on goods and services constan...  https://tradingeconomics.com/iceland/external-...\n",
       "38            iceland  external balance on goods and services current...  https://tradingeconomics.com/iceland/external-...\n",
       "39            iceland  external balance on goods and services us doll...  https://tradingeconomics.com/iceland/external-...\n",
       "40            iceland  imports of goods and services constant lcu wb ...  https://tradingeconomics.com/iceland/imports-o...\n",
       "41            iceland  people using basic sanitation services percent...  https://tradingeconomics.com/iceland/people-us...\n",
       "42            iceland  commercial service exports us dollar wb data.html  https://tradingeconomics.com/iceland/commercia...\n",
       "43            iceland  employment in services percent of total employ...  https://tradingeconomics.com/iceland/employmen...\n",
       "44            iceland  transport services percent of commercial servi...  https://tradingeconomics.com/iceland/transport...\n",
       "45            iceland      trade in services percent of gdp wb data.html  https://tradingeconomics.com/iceland/trade-in-...\n",
       "46            iceland         service imports bop us dollar wb data.html  https://tradingeconomics.com/iceland/service-i...\n",
       "47            iceland  insurance and financial services percent of se...  https://tradingeconomics.com/iceland/insurance...\n",
       "48            iceland  goods and services expense current lcu wb data...  https://tradingeconomics.com/iceland/goods-and...\n",
       "49            iceland  external balance on goods and services percent...  https://tradingeconomics.com/iceland/external-..."
      ]
     },
     "execution_count": 13,
     "metadata": {},
     "output_type": "execute_result"
    }
   ],
   "source": [
    "search.search_trading_economics(\"ISM Services\", wait_time=3) # Set wait_time to a higher value if you get an empty results table. Default is 5s.\n",
    "search.result_table"
   ]
  },
  {
   "cell_type": "markdown",
   "metadata": {},
   "source": [
    "### Download the time-series for a particular indicator using a search result displayed in your search results table.\n",
    "\n",
    "Sometimes you may get an error straight away on the first run of the ```get_data``` method. Error message will be something about error establising a connection.\n",
    "\n",
    "Noted error messages for this: \n",
    "- Error loading page: Message: Failed to write request to stream\n",
    "- Error loading page: Message: Tried to run command without establishing a connection\n",
    "\n",
    "Just try again if so, it has always worked for me the second time unless internet connection is down or too slow."
   ]
  },
  {
   "cell_type": "code",
   "execution_count": 14,
   "metadata": {},
   "outputs": [
    {
     "data": {
      "text/plain": [
       "'https://tradingeconomics.com/united-states/ism-non-manufacturing-new-orders'"
      ]
     },
     "execution_count": 14,
     "metadata": {},
     "output_type": "execute_result"
    }
   ],
   "source": [
    "search.result_table.loc[4, \"url\"]"
   ]
  },
  {
   "cell_type": "code",
   "execution_count": 15,
   "metadata": {},
   "outputs": [
    {
     "name": "stderr",
     "output_type": "stream",
     "text": [
      "INFO - scrape_chart function: Scraping chart at: https://tradingeconomics.com/united-states/ism-non-manufacturing-new-orders, time: 2025-02-21 15:06:24.590349, method: path\n"
     ]
    },
    {
     "name": "stdout",
     "output_type": "stream",
     "text": [
      "Attempting to scrape data for result  4 ,  united states ism non manufacturing new orders\n",
      "Scraping data from: https://tradingeconomics.com/united-states/ism-non-manufacturing-new-orders\n"
     ]
    },
    {
     "name": "stderr",
     "output_type": "stream",
     "text": [
      "INFO - WebPage at https://tradingeconomics.com/united-states/ism-non-manufacturing-new-orders loaded successfully.\n",
      "INFO - Chart types dictionary created successfully: dict_keys(['Column', 'Spline', 'Areaspline', 'Stepline', 'Line', 'Area'])\n",
      "INFO - \n",
      "Series metadata: \n",
      " {'units': 'points', 'original_source': 'Institute for Supply Management', 'title': 'United States ISM Services New Orders', 'indicator': 'ism non manufacturing new orders', 'country': 'united states', 'source': 'Trading Economics', 'id': 'united-states/ism-non-manufacturing-new-orders'}\n"
     ]
    },
    {
     "name": "stdout",
     "output_type": "stream",
     "text": [
      "Using selenium and tooltip scraping to construct the date time index for the time-series, this'll take a bit...\n"
     ]
    },
    {
     "name": "stderr",
     "output_type": "stream",
     "text": [
      "INFO - Date span set to: 1Y\n",
      "INFO - Chart type set to: Spline\n"
     ]
    },
    {
     "name": "stdout",
     "output_type": "stream",
     "text": [
      "Latest dates:  ['Jan 2025', 'Dec 2024', 'Nov 2024', 'Oct 2024', 'Sep 2024', 'Aug 2024', 'Jul 2024', 'Jun 2024', 'May 2024', 'Apr 2024']\n",
      "Frequency of time-series:  MS\n",
      "get_xlims_from_tooltips method: date_span:  1Y , chart_type: splineChart\n"
     ]
    },
    {
     "name": "stderr",
     "output_type": "stream",
     "text": [
      "INFO - Error clicking button: Message: The element with the reference e320fb24-e5ef-418e-a1d3-074573e1d954 is stale; either its node document is not the active document, or it is no longer connected to the DOM; For documentation on this error, please visit: https://www.selenium.dev/documentation/webdriver/troubleshooting/errors#stale-element-reference-exception\n",
      "Stacktrace:\n",
      "RemoteError@chrome://remote/content/shared/RemoteError.sys.mjs:8:8\n",
      "WebDriverError@chrome://remote/content/shared/webdriver/Errors.sys.mjs:193:5\n",
      "StaleElementReferenceError@chrome://remote/content/shared/webdriver/Errors.sys.mjs:725:5\n",
      "getKnownElement@chrome://remote/content/marionette/json.sys.mjs:405:11\n",
      "deserializeJSON@chrome://remote/content/marionette/json.sys.mjs:263:20\n",
      "cloneObject@chrome://remote/content/marionette/json.sys.mjs:59:24\n",
      "deserializeJSON@chrome://remote/content/marionette/json.sys.mjs:293:16\n",
      "json.deserialize@chrome://remote/content/marionette/json.sys.mjs:297:10\n",
      "receiveMessage@chrome://remote/content/marionette/actors/MarionetteCommandsChild.sys.mjs:182:30\n",
      "\n"
     ]
    },
    {
     "name": "stdout",
     "output_type": "stream",
     "text": [
      "Got chart dimensions and plot background element.\n"
     ]
    },
    {
     "name": "stderr",
     "output_type": "stream",
     "text": [
      "INFO - Start and end values scraped from tooltips: \n",
      "{'start_date': Timestamp('1997-07-01 00:00:00'), 'start_value': 58.8, 'end_date': Timestamp('2025-01-01 00:00:00'), 'end_value': 51.3}\n",
      "INFO - DateTimeIndex created successfully for the time-series.\n",
      "INFO - Date span set to: MAX\n",
      "INFO - Y-axis values scraped successfully.\n",
      "INFO - Series path extraction method: Extracting series data from chart soup.\n",
      "INFO - Date span: MAX. Chart type: splineChart, URL: https://tradingeconomics.com/united-states/ism-non-manufacturing-new-orders.\n",
      "INFO - DateTimeIndex applied to series, series attribute updated.\n",
      "INFO - Successfully scaled series.\n",
      "INFO - Successfully scraped time-series from chart at:  https://tradingeconomics.com/united-states/ism-non-manufacturing-new-orders, now getting some metadata...\n"
     ]
    },
    {
     "name": "stdout",
     "output_type": "stream",
     "text": [
      "Got metadata. \n",
      "\n",
      "Series tail: 2024-09-01    59.4\n",
      "2024-10-01    56.7\n",
      "2024-11-01    54.2\n",
      "2024-12-01    54.4\n",
      "2025-01-01    51.3\n",
      "Freq: MS, Name: ism non manufacturing new orders, dtype: float64 \n",
      "\n",
      "Scraping complete! Happy pirating yo!\n",
      "Data scraped successfully from: https://tradingeconomics.com/united-states/ism-non-manufacturing-new-orders\n"
     ]
    }
   ],
   "source": [
    "scraped = search.get_data(4)  ## Using result number 5 in result_table attribute.\n",
    "# Sometimes you may get an error straight away on the first run of this method. Error message bout error establising connection.\n",
    "# Just try again if so, it has always worked for me the second time unless internet connection is down or too slow"
   ]
  },
  {
   "cell_type": "markdown",
   "metadata": {},
   "source": [
    "### Plot your downloaded series using plotly to create an interactive chart with tooltips."
   ]
  },
  {
   "cell_type": "code",
   "execution_count": 17,
   "metadata": {},
   "outputs": [
    {
     "data": {
      "application/vnd.plotly.v1+json": {
       "config": {
        "plotlyServerURL": "https://plot.ly"
       },
       "data": [
        {
         "hovertemplate": "variable=ism non manufacturing new orders<br>index=%{x}<br>value=%{y}<extra></extra>",
         "legendgroup": "ism non manufacturing new orders",
         "line": {
          "color": "#636efa",
          "dash": "solid"
         },
         "marker": {
          "symbol": "circle"
         },
         "mode": "lines",
         "name": "ism non manufacturing new orders",
         "orientation": "v",
         "showlegend": true,
         "type": "scatter",
         "x": [
          "1997-07-01T00:00:00.000000000",
          "1997-08-01T00:00:00.000000000",
          "1997-09-01T00:00:00.000000000",
          "1997-10-01T00:00:00.000000000",
          "1997-11-01T00:00:00.000000000",
          "1997-12-01T00:00:00.000000000",
          "1998-01-01T00:00:00.000000000",
          "1998-02-01T00:00:00.000000000",
          "1998-03-01T00:00:00.000000000",
          "1998-04-01T00:00:00.000000000",
          "1998-05-01T00:00:00.000000000",
          "1998-06-01T00:00:00.000000000",
          "1998-07-01T00:00:00.000000000",
          "1998-08-01T00:00:00.000000000",
          "1998-09-01T00:00:00.000000000",
          "1998-10-01T00:00:00.000000000",
          "1998-11-01T00:00:00.000000000",
          "1998-12-01T00:00:00.000000000",
          "1999-01-01T00:00:00.000000000",
          "1999-02-01T00:00:00.000000000",
          "1999-03-01T00:00:00.000000000",
          "1999-04-01T00:00:00.000000000",
          "1999-05-01T00:00:00.000000000",
          "1999-06-01T00:00:00.000000000",
          "1999-07-01T00:00:00.000000000",
          "1999-08-01T00:00:00.000000000",
          "1999-09-01T00:00:00.000000000",
          "1999-10-01T00:00:00.000000000",
          "1999-11-01T00:00:00.000000000",
          "1999-12-01T00:00:00.000000000",
          "2000-01-01T00:00:00.000000000",
          "2000-02-01T00:00:00.000000000",
          "2000-03-01T00:00:00.000000000",
          "2000-04-01T00:00:00.000000000",
          "2000-05-01T00:00:00.000000000",
          "2000-06-01T00:00:00.000000000",
          "2000-07-01T00:00:00.000000000",
          "2000-08-01T00:00:00.000000000",
          "2000-09-01T00:00:00.000000000",
          "2000-10-01T00:00:00.000000000",
          "2000-11-01T00:00:00.000000000",
          "2000-12-01T00:00:00.000000000",
          "2001-01-01T00:00:00.000000000",
          "2001-02-01T00:00:00.000000000",
          "2001-03-01T00:00:00.000000000",
          "2001-04-01T00:00:00.000000000",
          "2001-05-01T00:00:00.000000000",
          "2001-06-01T00:00:00.000000000",
          "2001-07-01T00:00:00.000000000",
          "2001-08-01T00:00:00.000000000",
          "2001-09-01T00:00:00.000000000",
          "2001-10-01T00:00:00.000000000",
          "2001-11-01T00:00:00.000000000",
          "2001-12-01T00:00:00.000000000",
          "2002-01-01T00:00:00.000000000",
          "2002-02-01T00:00:00.000000000",
          "2002-03-01T00:00:00.000000000",
          "2002-04-01T00:00:00.000000000",
          "2002-05-01T00:00:00.000000000",
          "2002-06-01T00:00:00.000000000",
          "2002-07-01T00:00:00.000000000",
          "2002-08-01T00:00:00.000000000",
          "2002-09-01T00:00:00.000000000",
          "2002-10-01T00:00:00.000000000",
          "2002-11-01T00:00:00.000000000",
          "2002-12-01T00:00:00.000000000",
          "2003-01-01T00:00:00.000000000",
          "2003-02-01T00:00:00.000000000",
          "2003-03-01T00:00:00.000000000",
          "2003-04-01T00:00:00.000000000",
          "2003-05-01T00:00:00.000000000",
          "2003-06-01T00:00:00.000000000",
          "2003-07-01T00:00:00.000000000",
          "2003-08-01T00:00:00.000000000",
          "2003-09-01T00:00:00.000000000",
          "2003-10-01T00:00:00.000000000",
          "2003-11-01T00:00:00.000000000",
          "2003-12-01T00:00:00.000000000",
          "2004-01-01T00:00:00.000000000",
          "2004-02-01T00:00:00.000000000",
          "2004-03-01T00:00:00.000000000",
          "2004-04-01T00:00:00.000000000",
          "2004-05-01T00:00:00.000000000",
          "2004-06-01T00:00:00.000000000",
          "2004-07-01T00:00:00.000000000",
          "2004-08-01T00:00:00.000000000",
          "2004-09-01T00:00:00.000000000",
          "2004-10-01T00:00:00.000000000",
          "2004-11-01T00:00:00.000000000",
          "2004-12-01T00:00:00.000000000",
          "2005-01-01T00:00:00.000000000",
          "2005-02-01T00:00:00.000000000",
          "2005-03-01T00:00:00.000000000",
          "2005-04-01T00:00:00.000000000",
          "2005-05-01T00:00:00.000000000",
          "2005-06-01T00:00:00.000000000",
          "2005-07-01T00:00:00.000000000",
          "2005-08-01T00:00:00.000000000",
          "2005-09-01T00:00:00.000000000",
          "2005-10-01T00:00:00.000000000",
          "2005-11-01T00:00:00.000000000",
          "2005-12-01T00:00:00.000000000",
          "2006-01-01T00:00:00.000000000",
          "2006-02-01T00:00:00.000000000",
          "2006-03-01T00:00:00.000000000",
          "2006-04-01T00:00:00.000000000",
          "2006-05-01T00:00:00.000000000",
          "2006-06-01T00:00:00.000000000",
          "2006-07-01T00:00:00.000000000",
          "2006-08-01T00:00:00.000000000",
          "2006-09-01T00:00:00.000000000",
          "2006-10-01T00:00:00.000000000",
          "2006-11-01T00:00:00.000000000",
          "2006-12-01T00:00:00.000000000",
          "2007-01-01T00:00:00.000000000",
          "2007-02-01T00:00:00.000000000",
          "2007-03-01T00:00:00.000000000",
          "2007-04-01T00:00:00.000000000",
          "2007-05-01T00:00:00.000000000",
          "2007-06-01T00:00:00.000000000",
          "2007-07-01T00:00:00.000000000",
          "2007-08-01T00:00:00.000000000",
          "2007-09-01T00:00:00.000000000",
          "2007-10-01T00:00:00.000000000",
          "2007-11-01T00:00:00.000000000",
          "2007-12-01T00:00:00.000000000",
          "2008-01-01T00:00:00.000000000",
          "2008-02-01T00:00:00.000000000",
          "2008-03-01T00:00:00.000000000",
          "2008-04-01T00:00:00.000000000",
          "2008-05-01T00:00:00.000000000",
          "2008-06-01T00:00:00.000000000",
          "2008-07-01T00:00:00.000000000",
          "2008-08-01T00:00:00.000000000",
          "2008-09-01T00:00:00.000000000",
          "2008-10-01T00:00:00.000000000",
          "2008-11-01T00:00:00.000000000",
          "2008-12-01T00:00:00.000000000",
          "2009-01-01T00:00:00.000000000",
          "2009-02-01T00:00:00.000000000",
          "2009-03-01T00:00:00.000000000",
          "2009-04-01T00:00:00.000000000",
          "2009-05-01T00:00:00.000000000",
          "2009-06-01T00:00:00.000000000",
          "2009-07-01T00:00:00.000000000",
          "2009-08-01T00:00:00.000000000",
          "2009-09-01T00:00:00.000000000",
          "2009-10-01T00:00:00.000000000",
          "2009-11-01T00:00:00.000000000",
          "2009-12-01T00:00:00.000000000",
          "2010-01-01T00:00:00.000000000",
          "2010-02-01T00:00:00.000000000",
          "2010-03-01T00:00:00.000000000",
          "2010-04-01T00:00:00.000000000",
          "2010-05-01T00:00:00.000000000",
          "2010-06-01T00:00:00.000000000",
          "2010-07-01T00:00:00.000000000",
          "2010-08-01T00:00:00.000000000",
          "2010-09-01T00:00:00.000000000",
          "2010-10-01T00:00:00.000000000",
          "2010-11-01T00:00:00.000000000",
          "2010-12-01T00:00:00.000000000",
          "2011-01-01T00:00:00.000000000",
          "2011-02-01T00:00:00.000000000",
          "2011-03-01T00:00:00.000000000",
          "2011-04-01T00:00:00.000000000",
          "2011-05-01T00:00:00.000000000",
          "2011-06-01T00:00:00.000000000",
          "2011-07-01T00:00:00.000000000",
          "2011-08-01T00:00:00.000000000",
          "2011-09-01T00:00:00.000000000",
          "2011-10-01T00:00:00.000000000",
          "2011-11-01T00:00:00.000000000",
          "2011-12-01T00:00:00.000000000",
          "2012-01-01T00:00:00.000000000",
          "2012-02-01T00:00:00.000000000",
          "2012-03-01T00:00:00.000000000",
          "2012-04-01T00:00:00.000000000",
          "2012-05-01T00:00:00.000000000",
          "2012-06-01T00:00:00.000000000",
          "2012-07-01T00:00:00.000000000",
          "2012-08-01T00:00:00.000000000",
          "2012-09-01T00:00:00.000000000",
          "2012-10-01T00:00:00.000000000",
          "2012-11-01T00:00:00.000000000",
          "2012-12-01T00:00:00.000000000",
          "2013-01-01T00:00:00.000000000",
          "2013-02-01T00:00:00.000000000",
          "2013-03-01T00:00:00.000000000",
          "2013-04-01T00:00:00.000000000",
          "2013-05-01T00:00:00.000000000",
          "2013-06-01T00:00:00.000000000",
          "2013-07-01T00:00:00.000000000",
          "2013-08-01T00:00:00.000000000",
          "2013-09-01T00:00:00.000000000",
          "2013-10-01T00:00:00.000000000",
          "2013-11-01T00:00:00.000000000",
          "2013-12-01T00:00:00.000000000",
          "2014-01-01T00:00:00.000000000",
          "2014-02-01T00:00:00.000000000",
          "2014-03-01T00:00:00.000000000",
          "2014-04-01T00:00:00.000000000",
          "2014-05-01T00:00:00.000000000",
          "2014-06-01T00:00:00.000000000",
          "2014-07-01T00:00:00.000000000",
          "2014-08-01T00:00:00.000000000",
          "2014-09-01T00:00:00.000000000",
          "2014-10-01T00:00:00.000000000",
          "2014-11-01T00:00:00.000000000",
          "2014-12-01T00:00:00.000000000",
          "2015-01-01T00:00:00.000000000",
          "2015-02-01T00:00:00.000000000",
          "2015-03-01T00:00:00.000000000",
          "2015-04-01T00:00:00.000000000",
          "2015-05-01T00:00:00.000000000",
          "2015-06-01T00:00:00.000000000",
          "2015-07-01T00:00:00.000000000",
          "2015-08-01T00:00:00.000000000",
          "2015-09-01T00:00:00.000000000",
          "2015-10-01T00:00:00.000000000",
          "2015-11-01T00:00:00.000000000",
          "2015-12-01T00:00:00.000000000",
          "2016-01-01T00:00:00.000000000",
          "2016-02-01T00:00:00.000000000",
          "2016-03-01T00:00:00.000000000",
          "2016-04-01T00:00:00.000000000",
          "2016-05-01T00:00:00.000000000",
          "2016-06-01T00:00:00.000000000",
          "2016-07-01T00:00:00.000000000",
          "2016-08-01T00:00:00.000000000",
          "2016-09-01T00:00:00.000000000",
          "2016-10-01T00:00:00.000000000",
          "2016-11-01T00:00:00.000000000",
          "2016-12-01T00:00:00.000000000",
          "2017-01-01T00:00:00.000000000",
          "2017-02-01T00:00:00.000000000",
          "2017-03-01T00:00:00.000000000",
          "2017-04-01T00:00:00.000000000",
          "2017-05-01T00:00:00.000000000",
          "2017-06-01T00:00:00.000000000",
          "2017-07-01T00:00:00.000000000",
          "2017-08-01T00:00:00.000000000",
          "2017-09-01T00:00:00.000000000",
          "2017-10-01T00:00:00.000000000",
          "2017-11-01T00:00:00.000000000",
          "2017-12-01T00:00:00.000000000",
          "2018-01-01T00:00:00.000000000",
          "2018-02-01T00:00:00.000000000",
          "2018-03-01T00:00:00.000000000",
          "2018-04-01T00:00:00.000000000",
          "2018-05-01T00:00:00.000000000",
          "2018-06-01T00:00:00.000000000",
          "2018-07-01T00:00:00.000000000",
          "2018-08-01T00:00:00.000000000",
          "2018-09-01T00:00:00.000000000",
          "2018-10-01T00:00:00.000000000",
          "2018-11-01T00:00:00.000000000",
          "2018-12-01T00:00:00.000000000",
          "2019-01-01T00:00:00.000000000",
          "2019-02-01T00:00:00.000000000",
          "2019-03-01T00:00:00.000000000",
          "2019-04-01T00:00:00.000000000",
          "2019-05-01T00:00:00.000000000",
          "2019-06-01T00:00:00.000000000",
          "2019-07-01T00:00:00.000000000",
          "2019-08-01T00:00:00.000000000",
          "2019-09-01T00:00:00.000000000",
          "2019-10-01T00:00:00.000000000",
          "2019-11-01T00:00:00.000000000",
          "2019-12-01T00:00:00.000000000",
          "2020-01-01T00:00:00.000000000",
          "2020-02-01T00:00:00.000000000",
          "2020-03-01T00:00:00.000000000",
          "2020-04-01T00:00:00.000000000",
          "2020-05-01T00:00:00.000000000",
          "2020-06-01T00:00:00.000000000",
          "2020-07-01T00:00:00.000000000",
          "2020-08-01T00:00:00.000000000",
          "2020-09-01T00:00:00.000000000",
          "2020-10-01T00:00:00.000000000",
          "2020-11-01T00:00:00.000000000",
          "2020-12-01T00:00:00.000000000",
          "2021-01-01T00:00:00.000000000",
          "2021-02-01T00:00:00.000000000",
          "2021-03-01T00:00:00.000000000",
          "2021-04-01T00:00:00.000000000",
          "2021-05-01T00:00:00.000000000",
          "2021-06-01T00:00:00.000000000",
          "2021-07-01T00:00:00.000000000",
          "2021-08-01T00:00:00.000000000",
          "2021-09-01T00:00:00.000000000",
          "2021-10-01T00:00:00.000000000",
          "2021-11-01T00:00:00.000000000",
          "2021-12-01T00:00:00.000000000",
          "2022-01-01T00:00:00.000000000",
          "2022-02-01T00:00:00.000000000",
          "2022-03-01T00:00:00.000000000",
          "2022-04-01T00:00:00.000000000",
          "2022-05-01T00:00:00.000000000",
          "2022-06-01T00:00:00.000000000",
          "2022-07-01T00:00:00.000000000",
          "2022-08-01T00:00:00.000000000",
          "2022-09-01T00:00:00.000000000",
          "2022-10-01T00:00:00.000000000",
          "2022-11-01T00:00:00.000000000",
          "2022-12-01T00:00:00.000000000",
          "2023-01-01T00:00:00.000000000",
          "2023-02-01T00:00:00.000000000",
          "2023-03-01T00:00:00.000000000",
          "2023-04-01T00:00:00.000000000",
          "2023-05-01T00:00:00.000000000",
          "2023-06-01T00:00:00.000000000",
          "2023-07-01T00:00:00.000000000",
          "2023-08-01T00:00:00.000000000",
          "2023-09-01T00:00:00.000000000",
          "2023-10-01T00:00:00.000000000",
          "2023-11-01T00:00:00.000000000",
          "2023-12-01T00:00:00.000000000",
          "2024-01-01T00:00:00.000000000",
          "2024-02-01T00:00:00.000000000",
          "2024-03-01T00:00:00.000000000",
          "2024-04-01T00:00:00.000000000",
          "2024-05-01T00:00:00.000000000",
          "2024-06-01T00:00:00.000000000",
          "2024-07-01T00:00:00.000000000",
          "2024-08-01T00:00:00.000000000",
          "2024-09-01T00:00:00.000000000",
          "2024-10-01T00:00:00.000000000",
          "2024-11-01T00:00:00.000000000",
          "2024-12-01T00:00:00.000000000",
          "2025-01-01T00:00:00.000000000"
         ],
         "xaxis": "x",
         "y": {
          "bdata": "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",
          "dtype": "f8"
         },
         "yaxis": "y"
        }
       ],
       "layout": {
        "annotations": [
         {
          "align": "left",
          "bgcolor": "rgba(255, 255, 255, 0.8)",
          "bordercolor": "black",
          "borderwidth": 1,
          "font": {
           "size": 10
          },
          "showarrow": false,
          "text": "Source: Trading Economics<br>Original Source: Institute for Supply Management<br>Frequency: MS<br>",
          "x": 0,
          "xanchor": "left",
          "xref": "paper",
          "y": -0.23,
          "yanchor": "bottom",
          "yref": "paper"
         }
        ],
        "legend": {
         "orientation": "h",
         "title": {
          "text": ""
         },
         "tracegroupgap": 0,
         "x": 0.5,
         "xanchor": "center",
         "y": -0.2,
         "yanchor": "bottom"
        },
        "margin": {
         "t": 60
        },
        "template": {
         "data": {
          "bar": [
           {
            "error_x": {
             "color": "#2a3f5f"
            },
            "error_y": {
             "color": "#2a3f5f"
            },
            "marker": {
             "line": {
              "color": "#E5ECF6",
              "width": 0.5
             },
             "pattern": {
              "fillmode": "overlay",
              "size": 10,
              "solidity": 0.2
             }
            },
            "type": "bar"
           }
          ],
          "barpolar": [
           {
            "marker": {
             "line": {
              "color": "#E5ECF6",
              "width": 0.5
             },
             "pattern": {
              "fillmode": "overlay",
              "size": 10,
              "solidity": 0.2
             }
            },
            "type": "barpolar"
           }
          ],
          "carpet": [
           {
            "aaxis": {
             "endlinecolor": "#2a3f5f",
             "gridcolor": "white",
             "linecolor": "white",
             "minorgridcolor": "white",
             "startlinecolor": "#2a3f5f"
            },
            "baxis": {
             "endlinecolor": "#2a3f5f",
             "gridcolor": "white",
             "linecolor": "white",
             "minorgridcolor": "white",
             "startlinecolor": "#2a3f5f"
            },
            "type": "carpet"
           }
          ],
          "choropleth": [
           {
            "colorbar": {
             "outlinewidth": 0,
             "ticks": ""
            },
            "type": "choropleth"
           }
          ],
          "contour": [
           {
            "colorbar": {
             "outlinewidth": 0,
             "ticks": ""
            },
            "colorscale": [
             [
              0,
              "#0d0887"
             ],
             [
              0.1111111111111111,
              "#46039f"
             ],
             [
              0.2222222222222222,
              "#7201a8"
             ],
             [
              0.3333333333333333,
              "#9c179e"
             ],
             [
              0.4444444444444444,
              "#bd3786"
             ],
             [
              0.5555555555555556,
              "#d8576b"
             ],
             [
              0.6666666666666666,
              "#ed7953"
             ],
             [
              0.7777777777777778,
              "#fb9f3a"
             ],
             [
              0.8888888888888888,
              "#fdca26"
             ],
             [
              1,
              "#f0f921"
             ]
            ],
            "type": "contour"
           }
          ],
          "contourcarpet": [
           {
            "colorbar": {
             "outlinewidth": 0,
             "ticks": ""
            },
            "type": "contourcarpet"
           }
          ],
          "heatmap": [
           {
            "colorbar": {
             "outlinewidth": 0,
             "ticks": ""
            },
            "colorscale": [
             [
              0,
              "#0d0887"
             ],
             [
              0.1111111111111111,
              "#46039f"
             ],
             [
              0.2222222222222222,
              "#7201a8"
             ],
             [
              0.3333333333333333,
              "#9c179e"
             ],
             [
              0.4444444444444444,
              "#bd3786"
             ],
             [
              0.5555555555555556,
              "#d8576b"
             ],
             [
              0.6666666666666666,
              "#ed7953"
             ],
             [
              0.7777777777777778,
              "#fb9f3a"
             ],
             [
              0.8888888888888888,
              "#fdca26"
             ],
             [
              1,
              "#f0f921"
             ]
            ],
            "type": "heatmap"
           }
          ],
          "histogram": [
           {
            "marker": {
             "pattern": {
              "fillmode": "overlay",
              "size": 10,
              "solidity": 0.2
             }
            },
            "type": "histogram"
           }
          ],
          "histogram2d": [
           {
            "colorbar": {
             "outlinewidth": 0,
             "ticks": ""
            },
            "colorscale": [
             [
              0,
              "#0d0887"
             ],
             [
              0.1111111111111111,
              "#46039f"
             ],
             [
              0.2222222222222222,
              "#7201a8"
             ],
             [
              0.3333333333333333,
              "#9c179e"
             ],
             [
              0.4444444444444444,
              "#bd3786"
             ],
             [
              0.5555555555555556,
              "#d8576b"
             ],
             [
              0.6666666666666666,
              "#ed7953"
             ],
             [
              0.7777777777777778,
              "#fb9f3a"
             ],
             [
              0.8888888888888888,
              "#fdca26"
             ],
             [
              1,
              "#f0f921"
             ]
            ],
            "type": "histogram2d"
           }
          ],
          "histogram2dcontour": [
           {
            "colorbar": {
             "outlinewidth": 0,
             "ticks": ""
            },
            "colorscale": [
             [
              0,
              "#0d0887"
             ],
             [
              0.1111111111111111,
              "#46039f"
             ],
             [
              0.2222222222222222,
              "#7201a8"
             ],
             [
              0.3333333333333333,
              "#9c179e"
             ],
             [
              0.4444444444444444,
              "#bd3786"
             ],
             [
              0.5555555555555556,
              "#d8576b"
             ],
             [
              0.6666666666666666,
              "#ed7953"
             ],
             [
              0.7777777777777778,
              "#fb9f3a"
             ],
             [
              0.8888888888888888,
              "#fdca26"
             ],
             [
              1,
              "#f0f921"
             ]
            ],
            "type": "histogram2dcontour"
           }
          ],
          "mesh3d": [
           {
            "colorbar": {
             "outlinewidth": 0,
             "ticks": ""
            },
            "type": "mesh3d"
           }
          ],
          "parcoords": [
           {
            "line": {
             "colorbar": {
              "outlinewidth": 0,
              "ticks": ""
             }
            },
            "type": "parcoords"
           }
          ],
          "pie": [
           {
            "automargin": true,
            "type": "pie"
           }
          ],
          "scatter": [
           {
            "fillpattern": {
             "fillmode": "overlay",
             "size": 10,
             "solidity": 0.2
            },
            "type": "scatter"
           }
          ],
          "scatter3d": [
           {
            "line": {
             "colorbar": {
              "outlinewidth": 0,
              "ticks": ""
             }
            },
            "marker": {
             "colorbar": {
              "outlinewidth": 0,
              "ticks": ""
             }
            },
            "type": "scatter3d"
           }
          ],
          "scattercarpet": [
           {
            "marker": {
             "colorbar": {
              "outlinewidth": 0,
              "ticks": ""
             }
            },
            "type": "scattercarpet"
           }
          ],
          "scattergeo": [
           {
            "marker": {
             "colorbar": {
              "outlinewidth": 0,
              "ticks": ""
             }
            },
            "type": "scattergeo"
           }
          ],
          "scattergl": [
           {
            "marker": {
             "colorbar": {
              "outlinewidth": 0,
              "ticks": ""
             }
            },
            "type": "scattergl"
           }
          ],
          "scattermap": [
           {
            "marker": {
             "colorbar": {
              "outlinewidth": 0,
              "ticks": ""
             }
            },
            "type": "scattermap"
           }
          ],
          "scattermapbox": [
           {
            "marker": {
             "colorbar": {
              "outlinewidth": 0,
              "ticks": ""
             }
            },
            "type": "scattermapbox"
           }
          ],
          "scatterpolar": [
           {
            "marker": {
             "colorbar": {
              "outlinewidth": 0,
              "ticks": ""
             }
            },
            "type": "scatterpolar"
           }
          ],
          "scatterpolargl": [
           {
            "marker": {
             "colorbar": {
              "outlinewidth": 0,
              "ticks": ""
             }
            },
            "type": "scatterpolargl"
           }
          ],
          "scatterternary": [
           {
            "marker": {
             "colorbar": {
              "outlinewidth": 0,
              "ticks": ""
             }
            },
            "type": "scatterternary"
           }
          ],
          "surface": [
           {
            "colorbar": {
             "outlinewidth": 0,
             "ticks": ""
            },
            "colorscale": [
             [
              0,
              "#0d0887"
             ],
             [
              0.1111111111111111,
              "#46039f"
             ],
             [
              0.2222222222222222,
              "#7201a8"
             ],
             [
              0.3333333333333333,
              "#9c179e"
             ],
             [
              0.4444444444444444,
              "#bd3786"
             ],
             [
              0.5555555555555556,
              "#d8576b"
             ],
             [
              0.6666666666666666,
              "#ed7953"
             ],
             [
              0.7777777777777778,
              "#fb9f3a"
             ],
             [
              0.8888888888888888,
              "#fdca26"
             ],
             [
              1,
              "#f0f921"
             ]
            ],
            "type": "surface"
           }
          ],
          "table": [
           {
            "cells": {
             "fill": {
              "color": "#EBF0F8"
             },
             "line": {
              "color": "white"
             }
            },
            "header": {
             "fill": {
              "color": "#C8D4E3"
             },
             "line": {
              "color": "white"
             }
            },
            "type": "table"
           }
          ]
         },
         "layout": {
          "annotationdefaults": {
           "arrowcolor": "#2a3f5f",
           "arrowhead": 0,
           "arrowwidth": 1
          },
          "autotypenumbers": "strict",
          "coloraxis": {
           "colorbar": {
            "outlinewidth": 0,
            "ticks": ""
           }
          },
          "colorscale": {
           "diverging": [
            [
             0,
             "#8e0152"
            ],
            [
             0.1,
             "#c51b7d"
            ],
            [
             0.2,
             "#de77ae"
            ],
            [
             0.3,
             "#f1b6da"
            ],
            [
             0.4,
             "#fde0ef"
            ],
            [
             0.5,
             "#f7f7f7"
            ],
            [
             0.6,
             "#e6f5d0"
            ],
            [
             0.7,
             "#b8e186"
            ],
            [
             0.8,
             "#7fbc41"
            ],
            [
             0.9,
             "#4d9221"
            ],
            [
             1,
             "#276419"
            ]
           ],
           "sequential": [
            [
             0,
             "#0d0887"
            ],
            [
             0.1111111111111111,
             "#46039f"
            ],
            [
             0.2222222222222222,
             "#7201a8"
            ],
            [
             0.3333333333333333,
             "#9c179e"
            ],
            [
             0.4444444444444444,
             "#bd3786"
            ],
            [
             0.5555555555555556,
             "#d8576b"
            ],
            [
             0.6666666666666666,
             "#ed7953"
            ],
            [
             0.7777777777777778,
             "#fb9f3a"
            ],
            [
             0.8888888888888888,
             "#fdca26"
            ],
            [
             1,
             "#f0f921"
            ]
           ],
           "sequentialminus": [
            [
             0,
             "#0d0887"
            ],
            [
             0.1111111111111111,
             "#46039f"
            ],
            [
             0.2222222222222222,
             "#7201a8"
            ],
            [
             0.3333333333333333,
             "#9c179e"
            ],
            [
             0.4444444444444444,
             "#bd3786"
            ],
            [
             0.5555555555555556,
             "#d8576b"
            ],
            [
             0.6666666666666666,
             "#ed7953"
            ],
            [
             0.7777777777777778,
             "#fb9f3a"
            ],
            [
             0.8888888888888888,
             "#fdca26"
            ],
            [
             1,
             "#f0f921"
            ]
           ]
          },
          "colorway": [
           "#636efa",
           "#EF553B",
           "#00cc96",
           "#ab63fa",
           "#FFA15A",
           "#19d3f3",
           "#FF6692",
           "#B6E880",
           "#FF97FF",
           "#FECB52"
          ],
          "font": {
           "color": "#2a3f5f"
          },
          "geo": {
           "bgcolor": "white",
           "lakecolor": "white",
           "landcolor": "#E5ECF6",
           "showlakes": true,
           "showland": true,
           "subunitcolor": "white"
          },
          "hoverlabel": {
           "align": "left"
          },
          "hovermode": "closest",
          "mapbox": {
           "style": "light"
          },
          "paper_bgcolor": "white",
          "plot_bgcolor": "#E5ECF6",
          "polar": {
           "angularaxis": {
            "gridcolor": "white",
            "linecolor": "white",
            "ticks": ""
           },
           "bgcolor": "#E5ECF6",
           "radialaxis": {
            "gridcolor": "white",
            "linecolor": "white",
            "ticks": ""
           }
          },
          "scene": {
           "xaxis": {
            "backgroundcolor": "#E5ECF6",
            "gridcolor": "white",
            "gridwidth": 2,
            "linecolor": "white",
            "showbackground": true,
            "ticks": "",
            "zerolinecolor": "white"
           },
           "yaxis": {
            "backgroundcolor": "#E5ECF6",
            "gridcolor": "white",
            "gridwidth": 2,
            "linecolor": "white",
            "showbackground": true,
            "ticks": "",
            "zerolinecolor": "white"
           },
           "zaxis": {
            "backgroundcolor": "#E5ECF6",
            "gridcolor": "white",
            "gridwidth": 2,
            "linecolor": "white",
            "showbackground": true,
            "ticks": "",
            "zerolinecolor": "white"
           }
          },
          "shapedefaults": {
           "line": {
            "color": "#2a3f5f"
           }
          },
          "ternary": {
           "aaxis": {
            "gridcolor": "white",
            "linecolor": "white",
            "ticks": ""
           },
           "baxis": {
            "gridcolor": "white",
            "linecolor": "white",
            "ticks": ""
           },
           "bgcolor": "#E5ECF6",
           "caxis": {
            "gridcolor": "white",
            "linecolor": "white",
            "ticks": ""
           }
          },
          "title": {
           "x": 0.05
          },
          "xaxis": {
           "automargin": true,
           "gridcolor": "white",
           "linecolor": "white",
           "ticks": "",
           "title": {
            "standoff": 15
           },
           "zerolinecolor": "white",
           "zerolinewidth": 2
          },
          "yaxis": {
           "automargin": true,
           "gridcolor": "white",
           "linecolor": "white",
           "ticks": "",
           "title": {
            "standoff": 15
           },
           "zerolinecolor": "white",
           "zerolinewidth": 2
          }
         }
        },
        "title": {
         "text": "United states: United states ism services new orders"
        },
        "xaxis": {
         "anchor": "y",
         "domain": [
          0,
          1
         ],
         "title": {
          "text": ""
         }
        },
        "yaxis": {
         "anchor": "x",
         "domain": [
          0,
          1
         ],
         "title": {
          "text": "Points"
         }
        }
       }
      }
     },
     "metadata": {},
     "output_type": "display_data"
    }
   ],
   "source": [
    "scraped = search.scraped_data\n",
    "scraped.plot_series(ann_box_pos=(0, -0.23))  # Yu can move the annotation box around by changing the values of ann_box_pos."
   ]
  },
  {
   "cell_type": "code",
   "execution_count": null,
   "metadata": {},
   "outputs": [],
   "source": [
    "scraped.save_plot(format=\"html\")  #Export static plot as png if you wish. Use format=\"html\" for interactive plot export."
   ]
  },
  {
   "cell_type": "code",
   "execution_count": 18,
   "metadata": {},
   "outputs": [
    {
     "data": {
      "text/plain": [
       "{'units': 'points',\n",
       " 'original_source': 'Institute for Supply Management',\n",
       " 'title': 'United States ISM Services New Orders',\n",
       " 'indicator': 'ism non manufacturing new orders',\n",
       " 'country': 'united states',\n",
       " 'source': 'Trading Economics',\n",
       " 'id': 'united-states/ism-non-manufacturing-new-orders',\n",
       " 'description': 'The Non-Manufacturing ISM Report On Business is based on data compiled from purchasing and supply executives nationwide. Survey responses reflect the change, if any, in the current month compared to the previous month. For each of the indicators measured (Business Activity, New Orders, Backlog of Orders, New Export Orders, Inventory Change, Inventory Sentiment, Imports, Prices, Employment and Supplier Deliveries) this report shows the percentage reporting each response, and the diffusion index. An index reading above 50 percent indicates that the non-manufacturing economy in that index is generally expanding; below 50 percent indicates that it is generally declining. Orders to the service producers make up about 90 percent of the US economy.',\n",
       " 'start_date': '1997-07-01',\n",
       " 'end_date': '2025-01-01',\n",
       " 'min_value': 33.00000000000067,\n",
       " 'max_value': 69.20000000000013,\n",
       " 'length': 331,\n",
       " 'frequency': 'MS'}"
      ]
     },
     "execution_count": 18,
     "metadata": {},
     "output_type": "execute_result"
    }
   ],
   "source": [
    "scraped.metadata"
   ]
  },
  {
   "cell_type": "markdown",
   "metadata": {},
   "source": [
    "# Method #2: Download data for a given Indicator + Country combination or a given URL with a single line.\n",
    "\n",
    "Sometimes you may get an error straight away on the first run of the ```scrape_chart``` method. Error message will be something about error establising a connection.\n",
    "\n",
    "Noted error messages for this: \n",
    "- Error loading page: Message: Failed to write request to stream\n",
    "- Error loading page: Message: Tried to run command without establishing a connection\n",
    "\n",
    "Just try again if so, it has always worked for me the second time unless internet connection is down or too slow."
   ]
  },
  {
   "cell_type": "code",
   "execution_count": 21,
   "metadata": {},
   "outputs": [
    {
     "name": "stderr",
     "output_type": "stream",
     "text": [
      "INFO - Quitting 1 active webdriver instances...\n"
     ]
    },
    {
     "data": {
      "text/plain": [
       "[]"
      ]
     },
     "execution_count": 21,
     "metadata": {},
     "output_type": "execute_result"
    }
   ],
   "source": [
    "from tedata import base\n",
    "base.find_active_drivers(quit_all=True)"
   ]
  },
  {
   "cell_type": "code",
   "execution_count": 24,
   "metadata": {},
   "outputs": [
    {
     "name": "stderr",
     "output_type": "stream",
     "text": [
      "INFO - New firefox webdriver created.\n",
      "INFO - scrape_chart function: Scraping chart at: https://tradingeconomics.com/united-states/jobless-claims, time: 2025-02-21 15:12:24.801573, method: path\n",
      "INFO - WebPage at https://tradingeconomics.com/united-states/jobless-claims loaded successfully.\n",
      "INFO - Chart types dictionary created successfully: dict_keys(['Column', 'Spline', 'Areaspline', 'Stepline', 'Line', 'Area'])\n",
      "INFO - \n",
      "Series metadata: \n",
      " {'units': 'Thousand', 'original_source': 'U.S. Department of Labor', 'title': 'United States Initial Jobless Claims', 'indicator': 'jobless claims', 'country': 'united states', 'source': 'Trading Economics', 'id': 'united-states/jobless-claims'}\n"
     ]
    },
    {
     "name": "stdout",
     "output_type": "stream",
     "text": [
      "Using selenium and tooltip scraping to construct the date time index for the time-series, this'll take a bit...\n"
     ]
    },
    {
     "name": "stderr",
     "output_type": "stream",
     "text": [
      "INFO - Date span set to: 1Y\n",
      "INFO - Chart type set to: Spline\n"
     ]
    },
    {
     "name": "stdout",
     "output_type": "stream",
     "text": [
      "Latest dates:  ['Feb 15, 2025', 'Feb 08, 2025', 'Feb 01, 2025', 'Jan 25, 2025', 'Jan 18, 2025', 'Jan 11, 2025', 'Jan 04, 2025', 'Dec 28, 2024', 'Dec 21, 2024', 'Dec 14, 2024']\n",
      "Frequency of time-series:  W-SAT\n",
      "get_xlims_from_tooltips method: date_span:  1Y , chart_type: splineChart\n"
     ]
    },
    {
     "name": "stderr",
     "output_type": "stream",
     "text": [
      "INFO - Chart type set to: Spline\n"
     ]
    },
    {
     "name": "stdout",
     "output_type": "stream",
     "text": [
      "Got chart dimensions and plot background element.\n"
     ]
    },
    {
     "name": "stderr",
     "output_type": "stream",
     "text": [
      "INFO - Start and end values scraped from tooltips: \n",
      "{'start_date': Timestamp('1967-01-07 00:00:00'), 'start_value': 208.0, 'end_date': Timestamp('2025-02-15 00:00:00'), 'end_value': 219.0}\n",
      "INFO - DateTimeIndex created successfully for the time-series.\n",
      "INFO - Date span set to: MAX\n",
      "INFO - Y-axis values scraped successfully.\n",
      "INFO - Series path extraction method: Extracting series data from chart soup.\n",
      "INFO - Date span: MAX. Chart type: splineChart, URL: https://tradingeconomics.com/united-states/jobless-claims.\n",
      "INFO - DateTimeIndex applied to series, series attribute updated.\n",
      "INFO - Successfully scaled series.\n",
      "INFO - Successfully scraped time-series from chart at:  https://tradingeconomics.com/united-states/jobless-claims, now getting some metadata...\n"
     ]
    },
    {
     "name": "stdout",
     "output_type": "stream",
     "text": [
      "Got metadata. \n",
      "\n",
      "Series tail: 2025-01-18    221.0\n",
      "2025-01-25    223.0\n",
      "2025-02-01    208.0\n",
      "2025-02-08    220.0\n",
      "2025-02-15    214.0\n",
      "Freq: W-SAT, Name: jobless claims, dtype: float64 \n",
      "\n",
      "Scraping complete! Happy pirating yo!\n"
     ]
    }
   ],
   "source": [
    "scraped = ted.scrape_chart(id = \"jobless-claims\", use_existing_driver=False, headless=False) ## Using chart id from the url only, country is \"united-states\" by default."
   ]
  },
  {
   "cell_type": "code",
   "execution_count": 25,
   "metadata": {},
   "outputs": [
    {
     "data": {
      "application/vnd.plotly.v1+json": {
       "config": {
        "plotlyServerURL": "https://plot.ly"
       },
       "data": [
        {
         "hovertemplate": "variable=jobless claims<br>index=%{x}<br>value=%{y}<extra></extra>",
         "legendgroup": "jobless claims",
         "line": {
          "color": "#636efa",
          "dash": "solid"
         },
         "marker": {
          "symbol": "circle"
         },
         "mode": "lines",
         "name": "jobless claims",
         "showlegend": true,
         "type": "scattergl",
         "x": [
          "1967-01-07T00:00:00.000000000",
          "1967-01-14T00:00:00.000000000",
          "1967-01-21T00:00:00.000000000",
          "1967-01-28T00:00:00.000000000",
          "1967-02-04T00:00:00.000000000",
          "1967-02-11T00:00:00.000000000",
          "1967-02-18T00:00:00.000000000",
          "1967-02-25T00:00:00.000000000",
          "1967-03-04T00:00:00.000000000",
          "1967-03-11T00:00:00.000000000",
          "1967-03-18T00:00:00.000000000",
          "1967-03-25T00:00:00.000000000",
          "1967-04-01T00:00:00.000000000",
          "1967-04-08T00:00:00.000000000",
          "1967-04-15T00:00:00.000000000",
          "1967-04-22T00:00:00.000000000",
          "1967-04-29T00:00:00.000000000",
          "1967-05-06T00:00:00.000000000",
          "1967-05-13T00:00:00.000000000",
          "1967-05-20T00:00:00.000000000",
          "1967-05-27T00:00:00.000000000",
          "1967-06-03T00:00:00.000000000",
          "1967-06-10T00:00:00.000000000",
          "1967-06-17T00:00:00.000000000",
          "1967-06-24T00:00:00.000000000",
          "1967-07-01T00:00:00.000000000",
          "1967-07-08T00:00:00.000000000",
          "1967-07-15T00:00:00.000000000",
          "1967-07-22T00:00:00.000000000",
          "1967-07-29T00:00:00.000000000",
          "1967-08-05T00:00:00.000000000",
          "1967-08-12T00:00:00.000000000",
          "1967-08-19T00:00:00.000000000",
          "1967-08-26T00:00:00.000000000",
          "1967-09-02T00:00:00.000000000",
          "1967-09-09T00:00:00.000000000",
          "1967-09-16T00:00:00.000000000",
          "1967-09-23T00:00:00.000000000",
          "1967-09-30T00:00:00.000000000",
          "1967-10-07T00:00:00.000000000",
          "1967-10-14T00:00:00.000000000",
          "1967-10-21T00:00:00.000000000",
          "1967-10-28T00:00:00.000000000",
          "1967-11-04T00:00:00.000000000",
          "1967-11-11T00:00:00.000000000",
          "1967-11-18T00:00:00.000000000",
          "1967-11-25T00:00:00.000000000",
          "1967-12-02T00:00:00.000000000",
          "1967-12-09T00:00:00.000000000",
          "1967-12-16T00:00:00.000000000",
          "1967-12-23T00:00:00.000000000",
          "1967-12-30T00:00:00.000000000",
          "1968-01-06T00:00:00.000000000",
          "1968-01-13T00:00:00.000000000",
          "1968-01-20T00:00:00.000000000",
          "1968-01-27T00:00:00.000000000",
          "1968-02-03T00:00:00.000000000",
          "1968-02-10T00:00:00.000000000",
          "1968-02-17T00:00:00.000000000",
          "1968-02-24T00:00:00.000000000",
          "1968-03-02T00:00:00.000000000",
          "1968-03-09T00:00:00.000000000",
          "1968-03-16T00:00:00.000000000",
          "1968-03-23T00:00:00.000000000",
          "1968-03-30T00:00:00.000000000",
          "1968-04-06T00:00:00.000000000",
          "1968-04-13T00:00:00.000000000",
          "1968-04-20T00:00:00.000000000",
          "1968-04-27T00:00:00.000000000",
          "1968-05-04T00:00:00.000000000",
          "1968-05-11T00:00:00.000000000",
          "1968-05-18T00:00:00.000000000",
          "1968-05-25T00:00:00.000000000",
          "1968-06-01T00:00:00.000000000",
          "1968-06-08T00:00:00.000000000",
          "1968-06-15T00:00:00.000000000",
          "1968-06-22T00:00:00.000000000",
          "1968-06-29T00:00:00.000000000",
          "1968-07-06T00:00:00.000000000",
          "1968-07-13T00:00:00.000000000",
          "1968-07-20T00:00:00.000000000",
          "1968-07-27T00:00:00.000000000",
          "1968-08-03T00:00:00.000000000",
          "1968-08-10T00:00:00.000000000",
          "1968-08-17T00:00:00.000000000",
          "1968-08-24T00:00:00.000000000",
          "1968-08-31T00:00:00.000000000",
          "1968-09-07T00:00:00.000000000",
          "1968-09-14T00:00:00.000000000",
          "1968-09-21T00:00:00.000000000",
          "1968-09-28T00:00:00.000000000",
          "1968-10-05T00:00:00.000000000",
          "1968-10-12T00:00:00.000000000",
          "1968-10-19T00:00:00.000000000",
          "1968-10-26T00:00:00.000000000",
          "1968-11-02T00:00:00.000000000",
          "1968-11-09T00:00:00.000000000",
          "1968-11-16T00:00:00.000000000",
          "1968-11-23T00:00:00.000000000",
          "1968-11-30T00:00:00.000000000",
          "1968-12-07T00:00:00.000000000",
          "1968-12-14T00:00:00.000000000",
          "1968-12-21T00:00:00.000000000",
          "1968-12-28T00:00:00.000000000",
          "1969-01-04T00:00:00.000000000",
          "1969-01-11T00:00:00.000000000",
          "1969-01-18T00:00:00.000000000",
          "1969-01-25T00:00:00.000000000",
          "1969-02-01T00:00:00.000000000",
          "1969-02-08T00:00:00.000000000",
          "1969-02-15T00:00:00.000000000",
          "1969-02-22T00:00:00.000000000",
          "1969-03-01T00:00:00.000000000",
          "1969-03-08T00:00:00.000000000",
          "1969-03-15T00:00:00.000000000",
          "1969-03-22T00:00:00.000000000",
          "1969-03-29T00:00:00.000000000",
          "1969-04-05T00:00:00.000000000",
          "1969-04-12T00:00:00.000000000",
          "1969-04-19T00:00:00.000000000",
          "1969-04-26T00:00:00.000000000",
          "1969-05-03T00:00:00.000000000",
          "1969-05-10T00:00:00.000000000",
          "1969-05-17T00:00:00.000000000",
          "1969-05-24T00:00:00.000000000",
          "1969-05-31T00:00:00.000000000",
          "1969-06-07T00:00:00.000000000",
          "1969-06-14T00:00:00.000000000",
          "1969-06-21T00:00:00.000000000",
          "1969-06-28T00:00:00.000000000",
          "1969-07-05T00:00:00.000000000",
          "1969-07-12T00:00:00.000000000",
          "1969-07-19T00:00:00.000000000",
          "1969-07-26T00:00:00.000000000",
          "1969-08-02T00:00:00.000000000",
          "1969-08-09T00:00:00.000000000",
          "1969-08-16T00:00:00.000000000",
          "1969-08-23T00:00:00.000000000",
          "1969-08-30T00:00:00.000000000",
          "1969-09-06T00:00:00.000000000",
          "1969-09-13T00:00:00.000000000",
          "1969-09-20T00:00:00.000000000",
          "1969-09-27T00:00:00.000000000",
          "1969-10-04T00:00:00.000000000",
          "1969-10-11T00:00:00.000000000",
          "1969-10-18T00:00:00.000000000",
          "1969-10-25T00:00:00.000000000",
          "1969-11-01T00:00:00.000000000",
          "1969-11-08T00:00:00.000000000",
          "1969-11-15T00:00:00.000000000",
          "1969-11-22T00:00:00.000000000",
          "1969-11-29T00:00:00.000000000",
          "1969-12-06T00:00:00.000000000",
          "1969-12-13T00:00:00.000000000",
          "1969-12-20T00:00:00.000000000",
          "1969-12-27T00:00:00.000000000",
          "1970-01-03T00:00:00.000000000",
          "1970-01-10T00:00:00.000000000",
          "1970-01-17T00:00:00.000000000",
          "1970-01-24T00:00:00.000000000",
          "1970-01-31T00:00:00.000000000",
          "1970-02-07T00:00:00.000000000",
          "1970-02-14T00:00:00.000000000",
          "1970-02-21T00:00:00.000000000",
          "1970-02-28T00:00:00.000000000",
          "1970-03-07T00:00:00.000000000",
          "1970-03-14T00:00:00.000000000",
          "1970-03-21T00:00:00.000000000",
          "1970-03-28T00:00:00.000000000",
          "1970-04-04T00:00:00.000000000",
          "1970-04-11T00:00:00.000000000",
          "1970-04-18T00:00:00.000000000",
          "1970-04-25T00:00:00.000000000",
          "1970-05-02T00:00:00.000000000",
          "1970-05-09T00:00:00.000000000",
          "1970-05-16T00:00:00.000000000",
          "1970-05-23T00:00:00.000000000",
          "1970-05-30T00:00:00.000000000",
          "1970-06-06T00:00:00.000000000",
          "1970-06-13T00:00:00.000000000",
          "1970-06-20T00:00:00.000000000",
          "1970-06-27T00:00:00.000000000",
          "1970-07-04T00:00:00.000000000",
          "1970-07-11T00:00:00.000000000",
          "1970-07-18T00:00:00.000000000",
          "1970-07-25T00:00:00.000000000",
          "1970-08-01T00:00:00.000000000",
          "1970-08-08T00:00:00.000000000",
          "1970-08-15T00:00:00.000000000",
          "1970-08-22T00:00:00.000000000",
          "1970-08-29T00:00:00.000000000",
          "1970-09-05T00:00:00.000000000",
          "1970-09-12T00:00:00.000000000",
          "1970-09-19T00:00:00.000000000",
          "1970-09-26T00:00:00.000000000",
          "1970-10-03T00:00:00.000000000",
          "1970-10-10T00:00:00.000000000",
          "1970-10-17T00:00:00.000000000",
          "1970-10-24T00:00:00.000000000",
          "1970-10-31T00:00:00.000000000",
          "1970-11-07T00:00:00.000000000",
          "1970-11-14T00:00:00.000000000",
          "1970-11-21T00:00:00.000000000",
          "1970-11-28T00:00:00.000000000",
          "1970-12-05T00:00:00.000000000",
          "1970-12-12T00:00:00.000000000",
          "1970-12-19T00:00:00.000000000",
          "1970-12-26T00:00:00.000000000",
          "1971-01-02T00:00:00.000000000",
          "1971-01-09T00:00:00.000000000",
          "1971-01-16T00:00:00.000000000",
          "1971-01-23T00:00:00.000000000",
          "1971-01-30T00:00:00.000000000",
          "1971-02-06T00:00:00.000000000",
          "1971-02-13T00:00:00.000000000",
          "1971-02-20T00:00:00.000000000",
          "1971-02-27T00:00:00.000000000",
          "1971-03-06T00:00:00.000000000",
          "1971-03-13T00:00:00.000000000",
          "1971-03-20T00:00:00.000000000",
          "1971-03-27T00:00:00.000000000",
          "1971-04-03T00:00:00.000000000",
          "1971-04-10T00:00:00.000000000",
          "1971-04-17T00:00:00.000000000",
          "1971-04-24T00:00:00.000000000",
          "1971-05-01T00:00:00.000000000",
          "1971-05-08T00:00:00.000000000",
          "1971-05-15T00:00:00.000000000",
          "1971-05-22T00:00:00.000000000",
          "1971-05-29T00:00:00.000000000",
          "1971-06-05T00:00:00.000000000",
          "1971-06-12T00:00:00.000000000",
          "1971-06-19T00:00:00.000000000",
          "1971-06-26T00:00:00.000000000",
          "1971-07-03T00:00:00.000000000",
          "1971-07-10T00:00:00.000000000",
          "1971-07-17T00:00:00.000000000",
          "1971-07-24T00:00:00.000000000",
          "1971-07-31T00:00:00.000000000",
          "1971-08-07T00:00:00.000000000",
          "1971-08-14T00:00:00.000000000",
          "1971-08-21T00:00:00.000000000",
          "1971-08-28T00:00:00.000000000",
          "1971-09-04T00:00:00.000000000",
          "1971-09-11T00:00:00.000000000",
          "1971-09-18T00:00:00.000000000",
          "1971-09-25T00:00:00.000000000",
          "1971-10-02T00:00:00.000000000",
          "1971-10-09T00:00:00.000000000",
          "1971-10-16T00:00:00.000000000",
          "1971-10-23T00:00:00.000000000",
          "1971-10-30T00:00:00.000000000",
          "1971-11-06T00:00:00.000000000",
          "1971-11-13T00:00:00.000000000",
          "1971-11-20T00:00:00.000000000",
          "1971-11-27T00:00:00.000000000",
          "1971-12-04T00:00:00.000000000",
          "1971-12-11T00:00:00.000000000",
          "1971-12-18T00:00:00.000000000",
          "1971-12-25T00:00:00.000000000",
          "1972-01-01T00:00:00.000000000",
          "1972-01-08T00:00:00.000000000",
          "1972-01-15T00:00:00.000000000",
          "1972-01-22T00:00:00.000000000",
          "1972-01-29T00:00:00.000000000",
          "1972-02-05T00:00:00.000000000",
          "1972-02-12T00:00:00.000000000",
          "1972-02-19T00:00:00.000000000",
          "1972-02-26T00:00:00.000000000",
          "1972-03-04T00:00:00.000000000",
          "1972-03-11T00:00:00.000000000",
          "1972-03-18T00:00:00.000000000",
          "1972-03-25T00:00:00.000000000",
          "1972-04-01T00:00:00.000000000",
          "1972-04-08T00:00:00.000000000",
          "1972-04-15T00:00:00.000000000",
          "1972-04-22T00:00:00.000000000",
          "1972-04-29T00:00:00.000000000",
          "1972-05-06T00:00:00.000000000",
          "1972-05-13T00:00:00.000000000",
          "1972-05-20T00:00:00.000000000",
          "1972-05-27T00:00:00.000000000",
          "1972-06-03T00:00:00.000000000",
          "1972-06-10T00:00:00.000000000",
          "1972-06-17T00:00:00.000000000",
          "1972-06-24T00:00:00.000000000",
          "1972-07-01T00:00:00.000000000",
          "1972-07-08T00:00:00.000000000",
          "1972-07-15T00:00:00.000000000",
          "1972-07-22T00:00:00.000000000",
          "1972-07-29T00:00:00.000000000",
          "1972-08-05T00:00:00.000000000",
          "1972-08-12T00:00:00.000000000",
          "1972-08-19T00:00:00.000000000",
          "1972-08-26T00:00:00.000000000",
          "1972-09-02T00:00:00.000000000",
          "1972-09-09T00:00:00.000000000",
          "1972-09-16T00:00:00.000000000",
          "1972-09-23T00:00:00.000000000",
          "1972-09-30T00:00:00.000000000",
          "1972-10-07T00:00:00.000000000",
          "1972-10-14T00:00:00.000000000",
          "1972-10-21T00:00:00.000000000",
          "1972-10-28T00:00:00.000000000",
          "1972-11-04T00:00:00.000000000",
          "1972-11-11T00:00:00.000000000",
          "1972-11-18T00:00:00.000000000",
          "1972-11-25T00:00:00.000000000",
          "1972-12-02T00:00:00.000000000",
          "1972-12-09T00:00:00.000000000",
          "1972-12-16T00:00:00.000000000",
          "1972-12-23T00:00:00.000000000",
          "1972-12-30T00:00:00.000000000",
          "1973-01-06T00:00:00.000000000",
          "1973-01-13T00:00:00.000000000",
          "1973-01-20T00:00:00.000000000",
          "1973-01-27T00:00:00.000000000",
          "1973-02-03T00:00:00.000000000",
          "1973-02-10T00:00:00.000000000",
          "1973-02-17T00:00:00.000000000",
          "1973-02-24T00:00:00.000000000",
          "1973-03-03T00:00:00.000000000",
          "1973-03-10T00:00:00.000000000",
          "1973-03-17T00:00:00.000000000",
          "1973-03-24T00:00:00.000000000",
          "1973-03-31T00:00:00.000000000",
          "1973-04-07T00:00:00.000000000",
          "1973-04-14T00:00:00.000000000",
          "1973-04-21T00:00:00.000000000",
          "1973-04-28T00:00:00.000000000",
          "1973-05-05T00:00:00.000000000",
          "1973-05-12T00:00:00.000000000",
          "1973-05-19T00:00:00.000000000",
          "1973-05-26T00:00:00.000000000",
          "1973-06-02T00:00:00.000000000",
          "1973-06-09T00:00:00.000000000",
          "1973-06-16T00:00:00.000000000",
          "1973-06-23T00:00:00.000000000",
          "1973-06-30T00:00:00.000000000",
          "1973-07-07T00:00:00.000000000",
          "1973-07-14T00:00:00.000000000",
          "1973-07-21T00:00:00.000000000",
          "1973-07-28T00:00:00.000000000",
          "1973-08-04T00:00:00.000000000",
          "1973-08-11T00:00:00.000000000",
          "1973-08-18T00:00:00.000000000",
          "1973-08-25T00:00:00.000000000",
          "1973-09-01T00:00:00.000000000",
          "1973-09-08T00:00:00.000000000",
          "1973-09-15T00:00:00.000000000",
          "1973-09-22T00:00:00.000000000",
          "1973-09-29T00:00:00.000000000",
          "1973-10-06T00:00:00.000000000",
          "1973-10-13T00:00:00.000000000",
          "1973-10-20T00:00:00.000000000",
          "1973-10-27T00:00:00.000000000",
          "1973-11-03T00:00:00.000000000",
          "1973-11-10T00:00:00.000000000",
          "1973-11-17T00:00:00.000000000",
          "1973-11-24T00:00:00.000000000",
          "1973-12-01T00:00:00.000000000",
          "1973-12-08T00:00:00.000000000",
          "1973-12-15T00:00:00.000000000",
          "1973-12-22T00:00:00.000000000",
          "1973-12-29T00:00:00.000000000",
          "1974-01-05T00:00:00.000000000",
          "1974-01-12T00:00:00.000000000",
          "1974-01-19T00:00:00.000000000",
          "1974-01-26T00:00:00.000000000",
          "1974-02-02T00:00:00.000000000",
          "1974-02-09T00:00:00.000000000",
          "1974-02-16T00:00:00.000000000",
          "1974-02-23T00:00:00.000000000",
          "1974-03-02T00:00:00.000000000",
          "1974-03-09T00:00:00.000000000",
          "1974-03-16T00:00:00.000000000",
          "1974-03-23T00:00:00.000000000",
          "1974-03-30T00:00:00.000000000",
          "1974-04-06T00:00:00.000000000",
          "1974-04-13T00:00:00.000000000",
          "1974-04-20T00:00:00.000000000",
          "1974-04-27T00:00:00.000000000",
          "1974-05-04T00:00:00.000000000",
          "1974-05-11T00:00:00.000000000",
          "1974-05-18T00:00:00.000000000",
          "1974-05-25T00:00:00.000000000",
          "1974-06-01T00:00:00.000000000",
          "1974-06-08T00:00:00.000000000",
          "1974-06-15T00:00:00.000000000",
          "1974-06-22T00:00:00.000000000",
          "1974-06-29T00:00:00.000000000",
          "1974-07-06T00:00:00.000000000",
          "1974-07-13T00:00:00.000000000",
          "1974-07-20T00:00:00.000000000",
          "1974-07-27T00:00:00.000000000",
          "1974-08-03T00:00:00.000000000",
          "1974-08-10T00:00:00.000000000",
          "1974-08-17T00:00:00.000000000",
          "1974-08-24T00:00:00.000000000",
          "1974-08-31T00:00:00.000000000",
          "1974-09-07T00:00:00.000000000",
          "1974-09-14T00:00:00.000000000",
          "1974-09-21T00:00:00.000000000",
          "1974-09-28T00:00:00.000000000",
          "1974-10-05T00:00:00.000000000",
          "1974-10-12T00:00:00.000000000",
          "1974-10-19T00:00:00.000000000",
          "1974-10-26T00:00:00.000000000",
          "1974-11-02T00:00:00.000000000",
          "1974-11-09T00:00:00.000000000",
          "1974-11-16T00:00:00.000000000",
          "1974-11-23T00:00:00.000000000",
          "1974-11-30T00:00:00.000000000",
          "1974-12-07T00:00:00.000000000",
          "1974-12-14T00:00:00.000000000",
          "1974-12-21T00:00:00.000000000",
          "1974-12-28T00:00:00.000000000",
          "1975-01-04T00:00:00.000000000",
          "1975-01-11T00:00:00.000000000",
          "1975-01-18T00:00:00.000000000",
          "1975-01-25T00:00:00.000000000",
          "1975-02-01T00:00:00.000000000",
          "1975-02-08T00:00:00.000000000",
          "1975-02-15T00:00:00.000000000",
          "1975-02-22T00:00:00.000000000",
          "1975-03-01T00:00:00.000000000",
          "1975-03-08T00:00:00.000000000",
          "1975-03-15T00:00:00.000000000",
          "1975-03-22T00:00:00.000000000",
          "1975-03-29T00:00:00.000000000",
          "1975-04-05T00:00:00.000000000",
          "1975-04-12T00:00:00.000000000",
          "1975-04-19T00:00:00.000000000",
          "1975-04-26T00:00:00.000000000",
          "1975-05-03T00:00:00.000000000",
          "1975-05-10T00:00:00.000000000",
          "1975-05-17T00:00:00.000000000",
          "1975-05-24T00:00:00.000000000",
          "1975-05-31T00:00:00.000000000",
          "1975-06-07T00:00:00.000000000",
          "1975-06-14T00:00:00.000000000",
          "1975-06-21T00:00:00.000000000",
          "1975-06-28T00:00:00.000000000",
          "1975-07-05T00:00:00.000000000",
          "1975-07-12T00:00:00.000000000",
          "1975-07-19T00:00:00.000000000",
          "1975-07-26T00:00:00.000000000",
          "1975-08-02T00:00:00.000000000",
          "1975-08-09T00:00:00.000000000",
          "1975-08-16T00:00:00.000000000",
          "1975-08-23T00:00:00.000000000",
          "1975-08-30T00:00:00.000000000",
          "1975-09-06T00:00:00.000000000",
          "1975-09-13T00:00:00.000000000",
          "1975-09-20T00:00:00.000000000",
          "1975-09-27T00:00:00.000000000",
          "1975-10-04T00:00:00.000000000",
          "1975-10-11T00:00:00.000000000",
          "1975-10-18T00:00:00.000000000",
          "1975-10-25T00:00:00.000000000",
          "1975-11-01T00:00:00.000000000",
          "1975-11-08T00:00:00.000000000",
          "1975-11-15T00:00:00.000000000",
          "1975-11-22T00:00:00.000000000",
          "1975-11-29T00:00:00.000000000",
          "1975-12-06T00:00:00.000000000",
          "1975-12-13T00:00:00.000000000",
          "1975-12-20T00:00:00.000000000",
          "1975-12-27T00:00:00.000000000",
          "1976-01-03T00:00:00.000000000",
          "1976-01-10T00:00:00.000000000",
          "1976-01-17T00:00:00.000000000",
          "1976-01-24T00:00:00.000000000",
          "1976-01-31T00:00:00.000000000",
          "1976-02-07T00:00:00.000000000",
          "1976-02-14T00:00:00.000000000",
          "1976-02-21T00:00:00.000000000",
          "1976-02-28T00:00:00.000000000",
          "1976-03-06T00:00:00.000000000",
          "1976-03-13T00:00:00.000000000",
          "1976-03-20T00:00:00.000000000",
          "1976-03-27T00:00:00.000000000",
          "1976-04-03T00:00:00.000000000",
          "1976-04-10T00:00:00.000000000",
          "1976-04-17T00:00:00.000000000",
          "1976-04-24T00:00:00.000000000",
          "1976-05-01T00:00:00.000000000",
          "1976-05-08T00:00:00.000000000",
          "1976-05-15T00:00:00.000000000",
          "1976-05-22T00:00:00.000000000",
          "1976-05-29T00:00:00.000000000",
          "1976-06-05T00:00:00.000000000",
          "1976-06-12T00:00:00.000000000",
          "1976-06-19T00:00:00.000000000",
          "1976-06-26T00:00:00.000000000",
          "1976-07-03T00:00:00.000000000",
          "1976-07-10T00:00:00.000000000",
          "1976-07-17T00:00:00.000000000",
          "1976-07-24T00:00:00.000000000",
          "1976-07-31T00:00:00.000000000",
          "1976-08-07T00:00:00.000000000",
          "1976-08-14T00:00:00.000000000",
          "1976-08-21T00:00:00.000000000",
          "1976-08-28T00:00:00.000000000",
          "1976-09-04T00:00:00.000000000",
          "1976-09-11T00:00:00.000000000",
          "1976-09-18T00:00:00.000000000",
          "1976-09-25T00:00:00.000000000",
          "1976-10-02T00:00:00.000000000",
          "1976-10-09T00:00:00.000000000",
          "1976-10-16T00:00:00.000000000",
          "1976-10-23T00:00:00.000000000",
          "1976-10-30T00:00:00.000000000",
          "1976-11-06T00:00:00.000000000",
          "1976-11-13T00:00:00.000000000",
          "1976-11-20T00:00:00.000000000",
          "1976-11-27T00:00:00.000000000",
          "1976-12-04T00:00:00.000000000",
          "1976-12-11T00:00:00.000000000",
          "1976-12-18T00:00:00.000000000",
          "1976-12-25T00:00:00.000000000",
          "1977-01-01T00:00:00.000000000",
          "1977-01-08T00:00:00.000000000",
          "1977-01-15T00:00:00.000000000",
          "1977-01-22T00:00:00.000000000",
          "1977-01-29T00:00:00.000000000",
          "1977-02-05T00:00:00.000000000",
          "1977-02-12T00:00:00.000000000",
          "1977-02-19T00:00:00.000000000",
          "1977-02-26T00:00:00.000000000",
          "1977-03-05T00:00:00.000000000",
          "1977-03-12T00:00:00.000000000",
          "1977-03-19T00:00:00.000000000",
          "1977-03-26T00:00:00.000000000",
          "1977-04-02T00:00:00.000000000",
          "1977-04-09T00:00:00.000000000",
          "1977-04-16T00:00:00.000000000",
          "1977-04-23T00:00:00.000000000",
          "1977-04-30T00:00:00.000000000",
          "1977-05-07T00:00:00.000000000",
          "1977-05-14T00:00:00.000000000",
          "1977-05-21T00:00:00.000000000",
          "1977-05-28T00:00:00.000000000",
          "1977-06-04T00:00:00.000000000",
          "1977-06-11T00:00:00.000000000",
          "1977-06-18T00:00:00.000000000",
          "1977-06-25T00:00:00.000000000",
          "1977-07-02T00:00:00.000000000",
          "1977-07-09T00:00:00.000000000",
          "1977-07-16T00:00:00.000000000",
          "1977-07-23T00:00:00.000000000",
          "1977-07-30T00:00:00.000000000",
          "1977-08-06T00:00:00.000000000",
          "1977-08-13T00:00:00.000000000",
          "1977-08-20T00:00:00.000000000",
          "1977-08-27T00:00:00.000000000",
          "1977-09-03T00:00:00.000000000",
          "1977-09-10T00:00:00.000000000",
          "1977-09-17T00:00:00.000000000",
          "1977-09-24T00:00:00.000000000",
          "1977-10-01T00:00:00.000000000",
          "1977-10-08T00:00:00.000000000",
          "1977-10-15T00:00:00.000000000",
          "1977-10-22T00:00:00.000000000",
          "1977-10-29T00:00:00.000000000",
          "1977-11-05T00:00:00.000000000",
          "1977-11-12T00:00:00.000000000",
          "1977-11-19T00:00:00.000000000",
          "1977-11-26T00:00:00.000000000",
          "1977-12-03T00:00:00.000000000",
          "1977-12-10T00:00:00.000000000",
          "1977-12-17T00:00:00.000000000",
          "1977-12-24T00:00:00.000000000",
          "1977-12-31T00:00:00.000000000",
          "1978-01-07T00:00:00.000000000",
          "1978-01-14T00:00:00.000000000",
          "1978-01-21T00:00:00.000000000",
          "1978-01-28T00:00:00.000000000",
          "1978-02-04T00:00:00.000000000",
          "1978-02-11T00:00:00.000000000",
          "1978-02-18T00:00:00.000000000",
          "1978-02-25T00:00:00.000000000",
          "1978-03-04T00:00:00.000000000",
          "1978-03-11T00:00:00.000000000",
          "1978-03-18T00:00:00.000000000",
          "1978-03-25T00:00:00.000000000",
          "1978-04-01T00:00:00.000000000",
          "1978-04-08T00:00:00.000000000",
          "1978-04-15T00:00:00.000000000",
          "1978-04-22T00:00:00.000000000",
          "1978-04-29T00:00:00.000000000",
          "1978-05-06T00:00:00.000000000",
          "1978-05-13T00:00:00.000000000",
          "1978-05-20T00:00:00.000000000",
          "1978-05-27T00:00:00.000000000",
          "1978-06-03T00:00:00.000000000",
          "1978-06-10T00:00:00.000000000",
          "1978-06-17T00:00:00.000000000",
          "1978-06-24T00:00:00.000000000",
          "1978-07-01T00:00:00.000000000",
          "1978-07-08T00:00:00.000000000",
          "1978-07-15T00:00:00.000000000",
          "1978-07-22T00:00:00.000000000",
          "1978-07-29T00:00:00.000000000",
          "1978-08-05T00:00:00.000000000",
          "1978-08-12T00:00:00.000000000",
          "1978-08-19T00:00:00.000000000",
          "1978-08-26T00:00:00.000000000",
          "1978-09-02T00:00:00.000000000",
          "1978-09-09T00:00:00.000000000",
          "1978-09-16T00:00:00.000000000",
          "1978-09-23T00:00:00.000000000",
          "1978-09-30T00:00:00.000000000",
          "1978-10-07T00:00:00.000000000",
          "1978-10-14T00:00:00.000000000",
          "1978-10-21T00:00:00.000000000",
          "1978-10-28T00:00:00.000000000",
          "1978-11-04T00:00:00.000000000",
          "1978-11-11T00:00:00.000000000",
          "1978-11-18T00:00:00.000000000",
          "1978-11-25T00:00:00.000000000",
          "1978-12-02T00:00:00.000000000",
          "1978-12-09T00:00:00.000000000",
          "1978-12-16T00:00:00.000000000",
          "1978-12-23T00:00:00.000000000",
          "1978-12-30T00:00:00.000000000",
          "1979-01-06T00:00:00.000000000",
          "1979-01-13T00:00:00.000000000",
          "1979-01-20T00:00:00.000000000",
          "1979-01-27T00:00:00.000000000",
          "1979-02-03T00:00:00.000000000",
          "1979-02-10T00:00:00.000000000",
          "1979-02-17T00:00:00.000000000",
          "1979-02-24T00:00:00.000000000",
          "1979-03-03T00:00:00.000000000",
          "1979-03-10T00:00:00.000000000",
          "1979-03-17T00:00:00.000000000",
          "1979-03-24T00:00:00.000000000",
          "1979-03-31T00:00:00.000000000",
          "1979-04-07T00:00:00.000000000",
          "1979-04-14T00:00:00.000000000",
          "1979-04-21T00:00:00.000000000",
          "1979-04-28T00:00:00.000000000",
          "1979-05-05T00:00:00.000000000",
          "1979-05-12T00:00:00.000000000",
          "1979-05-19T00:00:00.000000000",
          "1979-05-26T00:00:00.000000000",
          "1979-06-02T00:00:00.000000000",
          "1979-06-09T00:00:00.000000000",
          "1979-06-16T00:00:00.000000000",
          "1979-06-23T00:00:00.000000000",
          "1979-06-30T00:00:00.000000000",
          "1979-07-07T00:00:00.000000000",
          "1979-07-14T00:00:00.000000000",
          "1979-07-21T00:00:00.000000000",
          "1979-07-28T00:00:00.000000000",
          "1979-08-04T00:00:00.000000000",
          "1979-08-11T00:00:00.000000000",
          "1979-08-18T00:00:00.000000000",
          "1979-08-25T00:00:00.000000000",
          "1979-09-01T00:00:00.000000000",
          "1979-09-08T00:00:00.000000000",
          "1979-09-15T00:00:00.000000000",
          "1979-09-22T00:00:00.000000000",
          "1979-09-29T00:00:00.000000000",
          "1979-10-06T00:00:00.000000000",
          "1979-10-13T00:00:00.000000000",
          "1979-10-20T00:00:00.000000000",
          "1979-10-27T00:00:00.000000000",
          "1979-11-03T00:00:00.000000000",
          "1979-11-10T00:00:00.000000000",
          "1979-11-17T00:00:00.000000000",
          "1979-11-24T00:00:00.000000000",
          "1979-12-01T00:00:00.000000000",
          "1979-12-08T00:00:00.000000000",
          "1979-12-15T00:00:00.000000000",
          "1979-12-22T00:00:00.000000000",
          "1979-12-29T00:00:00.000000000",
          "1980-01-05T00:00:00.000000000",
          "1980-01-12T00:00:00.000000000",
          "1980-01-19T00:00:00.000000000",
          "1980-01-26T00:00:00.000000000",
          "1980-02-02T00:00:00.000000000",
          "1980-02-09T00:00:00.000000000",
          "1980-02-16T00:00:00.000000000",
          "1980-02-23T00:00:00.000000000",
          "1980-03-01T00:00:00.000000000",
          "1980-03-08T00:00:00.000000000",
          "1980-03-15T00:00:00.000000000",
          "1980-03-22T00:00:00.000000000",
          "1980-03-29T00:00:00.000000000",
          "1980-04-05T00:00:00.000000000",
          "1980-04-12T00:00:00.000000000",
          "1980-04-19T00:00:00.000000000",
          "1980-04-26T00:00:00.000000000",
          "1980-05-03T00:00:00.000000000",
          "1980-05-10T00:00:00.000000000",
          "1980-05-17T00:00:00.000000000",
          "1980-05-24T00:00:00.000000000",
          "1980-05-31T00:00:00.000000000",
          "1980-06-07T00:00:00.000000000",
          "1980-06-14T00:00:00.000000000",
          "1980-06-21T00:00:00.000000000",
          "1980-06-28T00:00:00.000000000",
          "1980-07-05T00:00:00.000000000",
          "1980-07-12T00:00:00.000000000",
          "1980-07-19T00:00:00.000000000",
          "1980-07-26T00:00:00.000000000",
          "1980-08-02T00:00:00.000000000",
          "1980-08-09T00:00:00.000000000",
          "1980-08-16T00:00:00.000000000",
          "1980-08-23T00:00:00.000000000",
          "1980-08-30T00:00:00.000000000",
          "1980-09-06T00:00:00.000000000",
          "1980-09-13T00:00:00.000000000",
          "1980-09-20T00:00:00.000000000",
          "1980-09-27T00:00:00.000000000",
          "1980-10-04T00:00:00.000000000",
          "1980-10-11T00:00:00.000000000",
          "1980-10-18T00:00:00.000000000",
          "1980-10-25T00:00:00.000000000",
          "1980-11-01T00:00:00.000000000",
          "1980-11-08T00:00:00.000000000",
          "1980-11-15T00:00:00.000000000",
          "1980-11-22T00:00:00.000000000",
          "1980-11-29T00:00:00.000000000",
          "1980-12-06T00:00:00.000000000",
          "1980-12-13T00:00:00.000000000",
          "1980-12-20T00:00:00.000000000",
          "1980-12-27T00:00:00.000000000",
          "1981-01-03T00:00:00.000000000",
          "1981-01-10T00:00:00.000000000",
          "1981-01-17T00:00:00.000000000",
          "1981-01-24T00:00:00.000000000",
          "1981-01-31T00:00:00.000000000",
          "1981-02-07T00:00:00.000000000",
          "1981-02-14T00:00:00.000000000",
          "1981-02-21T00:00:00.000000000",
          "1981-02-28T00:00:00.000000000",
          "1981-03-07T00:00:00.000000000",
          "1981-03-14T00:00:00.000000000",
          "1981-03-21T00:00:00.000000000",
          "1981-03-28T00:00:00.000000000",
          "1981-04-04T00:00:00.000000000",
          "1981-04-11T00:00:00.000000000",
          "1981-04-18T00:00:00.000000000",
          "1981-04-25T00:00:00.000000000",
          "1981-05-02T00:00:00.000000000",
          "1981-05-09T00:00:00.000000000",
          "1981-05-16T00:00:00.000000000",
          "1981-05-23T00:00:00.000000000",
          "1981-05-30T00:00:00.000000000",
          "1981-06-06T00:00:00.000000000",
          "1981-06-13T00:00:00.000000000",
          "1981-06-20T00:00:00.000000000",
          "1981-06-27T00:00:00.000000000",
          "1981-07-04T00:00:00.000000000",
          "1981-07-11T00:00:00.000000000",
          "1981-07-18T00:00:00.000000000",
          "1981-07-25T00:00:00.000000000",
          "1981-08-01T00:00:00.000000000",
          "1981-08-08T00:00:00.000000000",
          "1981-08-15T00:00:00.000000000",
          "1981-08-22T00:00:00.000000000",
          "1981-08-29T00:00:00.000000000",
          "1981-09-05T00:00:00.000000000",
          "1981-09-12T00:00:00.000000000",
          "1981-09-19T00:00:00.000000000",
          "1981-09-26T00:00:00.000000000",
          "1981-10-03T00:00:00.000000000",
          "1981-10-10T00:00:00.000000000",
          "1981-10-17T00:00:00.000000000",
          "1981-10-24T00:00:00.000000000",
          "1981-10-31T00:00:00.000000000",
          "1981-11-07T00:00:00.000000000",
          "1981-11-14T00:00:00.000000000",
          "1981-11-21T00:00:00.000000000",
          "1981-11-28T00:00:00.000000000",
          "1981-12-05T00:00:00.000000000",
          "1981-12-12T00:00:00.000000000",
          "1981-12-19T00:00:00.000000000",
          "1981-12-26T00:00:00.000000000",
          "1982-01-02T00:00:00.000000000",
          "1982-01-09T00:00:00.000000000",
          "1982-01-16T00:00:00.000000000",
          "1982-01-23T00:00:00.000000000",
          "1982-01-30T00:00:00.000000000",
          "1982-02-06T00:00:00.000000000",
          "1982-02-13T00:00:00.000000000",
          "1982-02-20T00:00:00.000000000",
          "1982-02-27T00:00:00.000000000",
          "1982-03-06T00:00:00.000000000",
          "1982-03-13T00:00:00.000000000",
          "1982-03-20T00:00:00.000000000",
          "1982-03-27T00:00:00.000000000",
          "1982-04-03T00:00:00.000000000",
          "1982-04-10T00:00:00.000000000",
          "1982-04-17T00:00:00.000000000",
          "1982-04-24T00:00:00.000000000",
          "1982-05-01T00:00:00.000000000",
          "1982-05-08T00:00:00.000000000",
          "1982-05-15T00:00:00.000000000",
          "1982-05-22T00:00:00.000000000",
          "1982-05-29T00:00:00.000000000",
          "1982-06-05T00:00:00.000000000",
          "1982-06-12T00:00:00.000000000",
          "1982-06-19T00:00:00.000000000",
          "1982-06-26T00:00:00.000000000",
          "1982-07-03T00:00:00.000000000",
          "1982-07-10T00:00:00.000000000",
          "1982-07-17T00:00:00.000000000",
          "1982-07-24T00:00:00.000000000",
          "1982-07-31T00:00:00.000000000",
          "1982-08-07T00:00:00.000000000",
          "1982-08-14T00:00:00.000000000",
          "1982-08-21T00:00:00.000000000",
          "1982-08-28T00:00:00.000000000",
          "1982-09-04T00:00:00.000000000",
          "1982-09-11T00:00:00.000000000",
          "1982-09-18T00:00:00.000000000",
          "1982-09-25T00:00:00.000000000",
          "1982-10-02T00:00:00.000000000",
          "1982-10-09T00:00:00.000000000",
          "1982-10-16T00:00:00.000000000",
          "1982-10-23T00:00:00.000000000",
          "1982-10-30T00:00:00.000000000",
          "1982-11-06T00:00:00.000000000",
          "1982-11-13T00:00:00.000000000",
          "1982-11-20T00:00:00.000000000",
          "1982-11-27T00:00:00.000000000",
          "1982-12-04T00:00:00.000000000",
          "1982-12-11T00:00:00.000000000",
          "1982-12-18T00:00:00.000000000",
          "1982-12-25T00:00:00.000000000",
          "1983-01-01T00:00:00.000000000",
          "1983-01-08T00:00:00.000000000",
          "1983-01-15T00:00:00.000000000",
          "1983-01-22T00:00:00.000000000",
          "1983-01-29T00:00:00.000000000",
          "1983-02-05T00:00:00.000000000",
          "1983-02-12T00:00:00.000000000",
          "1983-02-19T00:00:00.000000000",
          "1983-02-26T00:00:00.000000000",
          "1983-03-05T00:00:00.000000000",
          "1983-03-12T00:00:00.000000000",
          "1983-03-19T00:00:00.000000000",
          "1983-03-26T00:00:00.000000000",
          "1983-04-02T00:00:00.000000000",
          "1983-04-09T00:00:00.000000000",
          "1983-04-16T00:00:00.000000000",
          "1983-04-23T00:00:00.000000000",
          "1983-04-30T00:00:00.000000000",
          "1983-05-07T00:00:00.000000000",
          "1983-05-14T00:00:00.000000000",
          "1983-05-21T00:00:00.000000000",
          "1983-05-28T00:00:00.000000000",
          "1983-06-04T00:00:00.000000000",
          "1983-06-11T00:00:00.000000000",
          "1983-06-18T00:00:00.000000000",
          "1983-06-25T00:00:00.000000000",
          "1983-07-02T00:00:00.000000000",
          "1983-07-09T00:00:00.000000000",
          "1983-07-16T00:00:00.000000000",
          "1983-07-23T00:00:00.000000000",
          "1983-07-30T00:00:00.000000000",
          "1983-08-06T00:00:00.000000000",
          "1983-08-13T00:00:00.000000000",
          "1983-08-20T00:00:00.000000000",
          "1983-08-27T00:00:00.000000000",
          "1983-09-03T00:00:00.000000000",
          "1983-09-10T00:00:00.000000000",
          "1983-09-17T00:00:00.000000000",
          "1983-09-24T00:00:00.000000000",
          "1983-10-01T00:00:00.000000000",
          "1983-10-08T00:00:00.000000000",
          "1983-10-15T00:00:00.000000000",
          "1983-10-22T00:00:00.000000000",
          "1983-10-29T00:00:00.000000000",
          "1983-11-05T00:00:00.000000000",
          "1983-11-12T00:00:00.000000000",
          "1983-11-19T00:00:00.000000000",
          "1983-11-26T00:00:00.000000000",
          "1983-12-03T00:00:00.000000000",
          "1983-12-10T00:00:00.000000000",
          "1983-12-17T00:00:00.000000000",
          "1983-12-24T00:00:00.000000000",
          "1983-12-31T00:00:00.000000000",
          "1984-01-07T00:00:00.000000000",
          "1984-01-14T00:00:00.000000000",
          "1984-01-21T00:00:00.000000000",
          "1984-01-28T00:00:00.000000000",
          "1984-02-04T00:00:00.000000000",
          "1984-02-11T00:00:00.000000000",
          "1984-02-18T00:00:00.000000000",
          "1984-02-25T00:00:00.000000000",
          "1984-03-03T00:00:00.000000000",
          "1984-03-10T00:00:00.000000000",
          "1984-03-17T00:00:00.000000000",
          "1984-03-24T00:00:00.000000000",
          "1984-03-31T00:00:00.000000000",
          "1984-04-07T00:00:00.000000000",
          "1984-04-14T00:00:00.000000000",
          "1984-04-21T00:00:00.000000000",
          "1984-04-28T00:00:00.000000000",
          "1984-05-05T00:00:00.000000000",
          "1984-05-12T00:00:00.000000000",
          "1984-05-19T00:00:00.000000000",
          "1984-05-26T00:00:00.000000000",
          "1984-06-02T00:00:00.000000000",
          "1984-06-09T00:00:00.000000000",
          "1984-06-16T00:00:00.000000000",
          "1984-06-23T00:00:00.000000000",
          "1984-06-30T00:00:00.000000000",
          "1984-07-07T00:00:00.000000000",
          "1984-07-14T00:00:00.000000000",
          "1984-07-21T00:00:00.000000000",
          "1984-07-28T00:00:00.000000000",
          "1984-08-04T00:00:00.000000000",
          "1984-08-11T00:00:00.000000000",
          "1984-08-18T00:00:00.000000000",
          "1984-08-25T00:00:00.000000000",
          "1984-09-01T00:00:00.000000000",
          "1984-09-08T00:00:00.000000000",
          "1984-09-15T00:00:00.000000000",
          "1984-09-22T00:00:00.000000000",
          "1984-09-29T00:00:00.000000000",
          "1984-10-06T00:00:00.000000000",
          "1984-10-13T00:00:00.000000000",
          "1984-10-20T00:00:00.000000000",
          "1984-10-27T00:00:00.000000000",
          "1984-11-03T00:00:00.000000000",
          "1984-11-10T00:00:00.000000000",
          "1984-11-17T00:00:00.000000000",
          "1984-11-24T00:00:00.000000000",
          "1984-12-01T00:00:00.000000000",
          "1984-12-08T00:00:00.000000000",
          "1984-12-15T00:00:00.000000000",
          "1984-12-22T00:00:00.000000000",
          "1984-12-29T00:00:00.000000000",
          "1985-01-05T00:00:00.000000000",
          "1985-01-12T00:00:00.000000000",
          "1985-01-19T00:00:00.000000000",
          "1985-01-26T00:00:00.000000000",
          "1985-02-02T00:00:00.000000000",
          "1985-02-09T00:00:00.000000000",
          "1985-02-16T00:00:00.000000000",
          "1985-02-23T00:00:00.000000000",
          "1985-03-02T00:00:00.000000000",
          "1985-03-09T00:00:00.000000000",
          "1985-03-16T00:00:00.000000000",
          "1985-03-23T00:00:00.000000000",
          "1985-03-30T00:00:00.000000000",
          "1985-04-06T00:00:00.000000000",
          "1985-04-13T00:00:00.000000000",
          "1985-04-20T00:00:00.000000000",
          "1985-04-27T00:00:00.000000000",
          "1985-05-04T00:00:00.000000000",
          "1985-05-11T00:00:00.000000000",
          "1985-05-18T00:00:00.000000000",
          "1985-05-25T00:00:00.000000000",
          "1985-06-01T00:00:00.000000000",
          "1985-06-08T00:00:00.000000000",
          "1985-06-15T00:00:00.000000000",
          "1985-06-22T00:00:00.000000000",
          "1985-06-29T00:00:00.000000000",
          "1985-07-06T00:00:00.000000000",
          "1985-07-13T00:00:00.000000000",
          "1985-07-20T00:00:00.000000000",
          "1985-07-27T00:00:00.000000000",
          "1985-08-03T00:00:00.000000000",
          "1985-08-10T00:00:00.000000000",
          "1985-08-17T00:00:00.000000000",
          "1985-08-24T00:00:00.000000000",
          "1985-08-31T00:00:00.000000000",
          "1985-09-07T00:00:00.000000000",
          "1985-09-14T00:00:00.000000000",
          "1985-09-21T00:00:00.000000000",
          "1985-09-28T00:00:00.000000000",
          "1985-10-05T00:00:00.000000000",
          "1985-10-12T00:00:00.000000000",
          "1985-10-19T00:00:00.000000000",
          "1985-10-26T00:00:00.000000000",
          "1985-11-02T00:00:00.000000000",
          "1985-11-09T00:00:00.000000000",
          "1985-11-16T00:00:00.000000000",
          "1985-11-23T00:00:00.000000000",
          "1985-11-30T00:00:00.000000000",
          "1985-12-07T00:00:00.000000000",
          "1985-12-14T00:00:00.000000000",
          "1985-12-21T00:00:00.000000000",
          "1985-12-28T00:00:00.000000000",
          "1986-01-04T00:00:00.000000000",
          "1986-01-11T00:00:00.000000000",
          "1986-01-18T00:00:00.000000000",
          "1986-01-25T00:00:00.000000000",
          "1986-02-01T00:00:00.000000000",
          "1986-02-08T00:00:00.000000000",
          "1986-02-15T00:00:00.000000000",
          "1986-02-22T00:00:00.000000000",
          "1986-03-01T00:00:00.000000000",
          "1986-03-08T00:00:00.000000000",
          "1986-03-15T00:00:00.000000000",
          "1986-03-22T00:00:00.000000000",
          "1986-03-29T00:00:00.000000000",
          "1986-04-05T00:00:00.000000000",
          "1986-04-12T00:00:00.000000000",
          "1986-04-19T00:00:00.000000000",
          "1986-04-26T00:00:00.000000000",
          "1986-05-03T00:00:00.000000000",
          "1986-05-10T00:00:00.000000000",
          "1986-05-17T00:00:00.000000000",
          "1986-05-24T00:00:00.000000000",
          "1986-05-31T00:00:00.000000000",
          "1986-06-07T00:00:00.000000000",
          "1986-06-14T00:00:00.000000000",
          "1986-06-21T00:00:00.000000000",
          "1986-06-28T00:00:00.000000000",
          "1986-07-05T00:00:00.000000000",
          "1986-07-12T00:00:00.000000000",
          "1986-07-19T00:00:00.000000000",
          "1986-07-26T00:00:00.000000000",
          "1986-08-02T00:00:00.000000000",
          "1986-08-09T00:00:00.000000000",
          "1986-08-16T00:00:00.000000000",
          "1986-08-23T00:00:00.000000000",
          "1986-08-30T00:00:00.000000000",
          "1986-09-06T00:00:00.000000000",
          "1986-09-13T00:00:00.000000000",
          "1986-09-20T00:00:00.000000000",
          "1986-09-27T00:00:00.000000000",
          "1986-10-04T00:00:00.000000000",
          "1986-10-11T00:00:00.000000000",
          "1986-10-18T00:00:00.000000000",
          "1986-10-25T00:00:00.000000000",
          "1986-11-01T00:00:00.000000000",
          "1986-11-08T00:00:00.000000000",
          "1986-11-15T00:00:00.000000000",
          "1986-11-22T00:00:00.000000000",
          "1986-11-29T00:00:00.000000000",
          "1986-12-06T00:00:00.000000000",
          "1986-12-13T00:00:00.000000000",
          "1986-12-20T00:00:00.000000000",
          "1986-12-27T00:00:00.000000000",
          "1987-01-03T00:00:00.000000000",
          "1987-01-10T00:00:00.000000000",
          "1987-01-17T00:00:00.000000000",
          "1987-01-24T00:00:00.000000000",
          "1987-01-31T00:00:00.000000000",
          "1987-02-07T00:00:00.000000000",
          "1987-02-14T00:00:00.000000000",
          "1987-02-21T00:00:00.000000000",
          "1987-02-28T00:00:00.000000000",
          "1987-03-07T00:00:00.000000000",
          "1987-03-14T00:00:00.000000000",
          "1987-03-21T00:00:00.000000000",
          "1987-03-28T00:00:00.000000000",
          "1987-04-04T00:00:00.000000000",
          "1987-04-11T00:00:00.000000000",
          "1987-04-18T00:00:00.000000000",
          "1987-04-25T00:00:00.000000000",
          "1987-05-02T00:00:00.000000000",
          "1987-05-09T00:00:00.000000000",
          "1987-05-16T00:00:00.000000000",
          "1987-05-23T00:00:00.000000000",
          "1987-05-30T00:00:00.000000000",
          "1987-06-06T00:00:00.000000000",
          "1987-06-13T00:00:00.000000000",
          "1987-06-20T00:00:00.000000000",
          "1987-06-27T00:00:00.000000000",
          "1987-07-04T00:00:00.000000000",
          "1987-07-11T00:00:00.000000000",
          "1987-07-18T00:00:00.000000000",
          "1987-07-25T00:00:00.000000000",
          "1987-08-01T00:00:00.000000000",
          "1987-08-08T00:00:00.000000000",
          "1987-08-15T00:00:00.000000000",
          "1987-08-22T00:00:00.000000000",
          "1987-08-29T00:00:00.000000000",
          "1987-09-05T00:00:00.000000000",
          "1987-09-12T00:00:00.000000000",
          "1987-09-19T00:00:00.000000000",
          "1987-09-26T00:00:00.000000000",
          "1987-10-03T00:00:00.000000000",
          "1987-10-10T00:00:00.000000000",
          "1987-10-17T00:00:00.000000000",
          "1987-10-24T00:00:00.000000000",
          "1987-10-31T00:00:00.000000000",
          "1987-11-07T00:00:00.000000000",
          "1987-11-14T00:00:00.000000000",
          "1987-11-21T00:00:00.000000000",
          "1987-11-28T00:00:00.000000000",
          "1987-12-05T00:00:00.000000000",
          "1987-12-12T00:00:00.000000000",
          "1987-12-19T00:00:00.000000000",
          "1987-12-26T00:00:00.000000000",
          "1988-01-02T00:00:00.000000000",
          "1988-01-09T00:00:00.000000000",
          "1988-01-16T00:00:00.000000000",
          "1988-01-23T00:00:00.000000000",
          "1988-01-30T00:00:00.000000000",
          "1988-02-06T00:00:00.000000000",
          "1988-02-13T00:00:00.000000000",
          "1988-02-20T00:00:00.000000000",
          "1988-02-27T00:00:00.000000000",
          "1988-03-05T00:00:00.000000000",
          "1988-03-12T00:00:00.000000000",
          "1988-03-19T00:00:00.000000000",
          "1988-03-26T00:00:00.000000000",
          "1988-04-02T00:00:00.000000000",
          "1988-04-09T00:00:00.000000000",
          "1988-04-16T00:00:00.000000000",
          "1988-04-23T00:00:00.000000000",
          "1988-04-30T00:00:00.000000000",
          "1988-05-07T00:00:00.000000000",
          "1988-05-14T00:00:00.000000000",
          "1988-05-21T00:00:00.000000000",
          "1988-05-28T00:00:00.000000000",
          "1988-06-04T00:00:00.000000000",
          "1988-06-11T00:00:00.000000000",
          "1988-06-18T00:00:00.000000000",
          "1988-06-25T00:00:00.000000000",
          "1988-07-02T00:00:00.000000000",
          "1988-07-09T00:00:00.000000000",
          "1988-07-16T00:00:00.000000000",
          "1988-07-23T00:00:00.000000000",
          "1988-07-30T00:00:00.000000000",
          "1988-08-06T00:00:00.000000000",
          "1988-08-13T00:00:00.000000000",
          "1988-08-20T00:00:00.000000000",
          "1988-08-27T00:00:00.000000000",
          "1988-09-03T00:00:00.000000000",
          "1988-09-10T00:00:00.000000000",
          "1988-09-17T00:00:00.000000000",
          "1988-09-24T00:00:00.000000000",
          "1988-10-01T00:00:00.000000000",
          "1988-10-08T00:00:00.000000000",
          "1988-10-15T00:00:00.000000000",
          "1988-10-22T00:00:00.000000000",
          "1988-10-29T00:00:00.000000000",
          "1988-11-05T00:00:00.000000000",
          "1988-11-12T00:00:00.000000000",
          "1988-11-19T00:00:00.000000000",
          "1988-11-26T00:00:00.000000000",
          "1988-12-03T00:00:00.000000000",
          "1988-12-10T00:00:00.000000000",
          "1988-12-17T00:00:00.000000000",
          "1988-12-24T00:00:00.000000000",
          "1988-12-31T00:00:00.000000000",
          "1989-01-07T00:00:00.000000000",
          "1989-01-14T00:00:00.000000000",
          "1989-01-21T00:00:00.000000000",
          "1989-01-28T00:00:00.000000000",
          "1989-02-04T00:00:00.000000000",
          "1989-02-11T00:00:00.000000000",
          "1989-02-18T00:00:00.000000000",
          "1989-02-25T00:00:00.000000000",
          "1989-03-04T00:00:00.000000000",
          "1989-03-11T00:00:00.000000000",
          "1989-03-18T00:00:00.000000000",
          "1989-03-25T00:00:00.000000000",
          "1989-04-01T00:00:00.000000000",
          "1989-04-08T00:00:00.000000000",
          "1989-04-15T00:00:00.000000000",
          "1989-04-22T00:00:00.000000000",
          "1989-04-29T00:00:00.000000000",
          "1989-05-06T00:00:00.000000000",
          "1989-05-13T00:00:00.000000000",
          "1989-05-20T00:00:00.000000000",
          "1989-05-27T00:00:00.000000000",
          "1989-06-03T00:00:00.000000000",
          "1989-06-10T00:00:00.000000000",
          "1989-06-17T00:00:00.000000000",
          "1989-06-24T00:00:00.000000000",
          "1989-07-01T00:00:00.000000000",
          "1989-07-08T00:00:00.000000000",
          "1989-07-15T00:00:00.000000000",
          "1989-07-22T00:00:00.000000000",
          "1989-07-29T00:00:00.000000000",
          "1989-08-05T00:00:00.000000000",
          "1989-08-12T00:00:00.000000000",
          "1989-08-19T00:00:00.000000000",
          "1989-08-26T00:00:00.000000000",
          "1989-09-02T00:00:00.000000000",
          "1989-09-09T00:00:00.000000000",
          "1989-09-16T00:00:00.000000000",
          "1989-09-23T00:00:00.000000000",
          "1989-09-30T00:00:00.000000000",
          "1989-10-07T00:00:00.000000000",
          "1989-10-14T00:00:00.000000000",
          "1989-10-21T00:00:00.000000000",
          "1989-10-28T00:00:00.000000000",
          "1989-11-04T00:00:00.000000000",
          "1989-11-11T00:00:00.000000000",
          "1989-11-18T00:00:00.000000000",
          "1989-11-25T00:00:00.000000000",
          "1989-12-02T00:00:00.000000000",
          "1989-12-09T00:00:00.000000000",
          "1989-12-16T00:00:00.000000000",
          "1989-12-23T00:00:00.000000000",
          "1989-12-30T00:00:00.000000000",
          "1990-01-06T00:00:00.000000000",
          "1990-01-13T00:00:00.000000000",
          "1990-01-20T00:00:00.000000000",
          "1990-01-27T00:00:00.000000000",
          "1990-02-03T00:00:00.000000000",
          "1990-02-10T00:00:00.000000000",
          "1990-02-17T00:00:00.000000000",
          "1990-02-24T00:00:00.000000000",
          "1990-03-03T00:00:00.000000000",
          "1990-03-10T00:00:00.000000000",
          "1990-03-17T00:00:00.000000000",
          "1990-03-24T00:00:00.000000000",
          "1990-03-31T00:00:00.000000000",
          "1990-04-07T00:00:00.000000000",
          "1990-04-14T00:00:00.000000000",
          "1990-04-21T00:00:00.000000000",
          "1990-04-28T00:00:00.000000000",
          "1990-05-05T00:00:00.000000000",
          "1990-05-12T00:00:00.000000000",
          "1990-05-19T00:00:00.000000000",
          "1990-05-26T00:00:00.000000000",
          "1990-06-02T00:00:00.000000000",
          "1990-06-09T00:00:00.000000000",
          "1990-06-16T00:00:00.000000000",
          "1990-06-23T00:00:00.000000000",
          "1990-06-30T00:00:00.000000000",
          "1990-07-07T00:00:00.000000000",
          "1990-07-14T00:00:00.000000000",
          "1990-07-21T00:00:00.000000000",
          "1990-07-28T00:00:00.000000000",
          "1990-08-04T00:00:00.000000000",
          "1990-08-11T00:00:00.000000000",
          "1990-08-18T00:00:00.000000000",
          "1990-08-25T00:00:00.000000000",
          "1990-09-01T00:00:00.000000000",
          "1990-09-08T00:00:00.000000000",
          "1990-09-15T00:00:00.000000000",
          "1990-09-22T00:00:00.000000000",
          "1990-09-29T00:00:00.000000000",
          "1990-10-06T00:00:00.000000000",
          "1990-10-13T00:00:00.000000000",
          "1990-10-20T00:00:00.000000000",
          "1990-10-27T00:00:00.000000000",
          "1990-11-03T00:00:00.000000000",
          "1990-11-10T00:00:00.000000000",
          "1990-11-17T00:00:00.000000000",
          "1990-11-24T00:00:00.000000000",
          "1990-12-01T00:00:00.000000000",
          "1990-12-08T00:00:00.000000000",
          "1990-12-15T00:00:00.000000000",
          "1990-12-22T00:00:00.000000000",
          "1990-12-29T00:00:00.000000000",
          "1991-01-05T00:00:00.000000000",
          "1991-01-12T00:00:00.000000000",
          "1991-01-19T00:00:00.000000000",
          "1991-01-26T00:00:00.000000000",
          "1991-02-02T00:00:00.000000000",
          "1991-02-09T00:00:00.000000000",
          "1991-02-16T00:00:00.000000000",
          "1991-02-23T00:00:00.000000000",
          "1991-03-02T00:00:00.000000000",
          "1991-03-09T00:00:00.000000000",
          "1991-03-16T00:00:00.000000000",
          "1991-03-23T00:00:00.000000000",
          "1991-03-30T00:00:00.000000000",
          "1991-04-06T00:00:00.000000000",
          "1991-04-13T00:00:00.000000000",
          "1991-04-20T00:00:00.000000000",
          "1991-04-27T00:00:00.000000000",
          "1991-05-04T00:00:00.000000000",
          "1991-05-11T00:00:00.000000000",
          "1991-05-18T00:00:00.000000000",
          "1991-05-25T00:00:00.000000000",
          "1991-06-01T00:00:00.000000000",
          "1991-06-08T00:00:00.000000000",
          "1991-06-15T00:00:00.000000000",
          "1991-06-22T00:00:00.000000000",
          "1991-06-29T00:00:00.000000000",
          "1991-07-06T00:00:00.000000000",
          "1991-07-13T00:00:00.000000000",
          "1991-07-20T00:00:00.000000000",
          "1991-07-27T00:00:00.000000000",
          "1991-08-03T00:00:00.000000000",
          "1991-08-10T00:00:00.000000000",
          "1991-08-17T00:00:00.000000000",
          "1991-08-24T00:00:00.000000000",
          "1991-08-31T00:00:00.000000000",
          "1991-09-07T00:00:00.000000000",
          "1991-09-14T00:00:00.000000000",
          "1991-09-21T00:00:00.000000000",
          "1991-09-28T00:00:00.000000000",
          "1991-10-05T00:00:00.000000000",
          "1991-10-12T00:00:00.000000000",
          "1991-10-19T00:00:00.000000000",
          "1991-10-26T00:00:00.000000000",
          "1991-11-02T00:00:00.000000000",
          "1991-11-09T00:00:00.000000000",
          "1991-11-16T00:00:00.000000000",
          "1991-11-23T00:00:00.000000000",
          "1991-11-30T00:00:00.000000000",
          "1991-12-07T00:00:00.000000000",
          "1991-12-14T00:00:00.000000000",
          "1991-12-21T00:00:00.000000000",
          "1991-12-28T00:00:00.000000000",
          "1992-01-04T00:00:00.000000000",
          "1992-01-11T00:00:00.000000000",
          "1992-01-18T00:00:00.000000000",
          "1992-01-25T00:00:00.000000000",
          "1992-02-01T00:00:00.000000000",
          "1992-02-08T00:00:00.000000000",
          "1992-02-15T00:00:00.000000000",
          "1992-02-22T00:00:00.000000000",
          "1992-02-29T00:00:00.000000000",
          "1992-03-07T00:00:00.000000000",
          "1992-03-14T00:00:00.000000000",
          "1992-03-21T00:00:00.000000000",
          "1992-03-28T00:00:00.000000000",
          "1992-04-04T00:00:00.000000000",
          "1992-04-11T00:00:00.000000000",
          "1992-04-18T00:00:00.000000000",
          "1992-04-25T00:00:00.000000000",
          "1992-05-02T00:00:00.000000000",
          "1992-05-09T00:00:00.000000000",
          "1992-05-16T00:00:00.000000000",
          "1992-05-23T00:00:00.000000000",
          "1992-05-30T00:00:00.000000000",
          "1992-06-06T00:00:00.000000000",
          "1992-06-13T00:00:00.000000000",
          "1992-06-20T00:00:00.000000000",
          "1992-06-27T00:00:00.000000000",
          "1992-07-04T00:00:00.000000000",
          "1992-07-11T00:00:00.000000000",
          "1992-07-18T00:00:00.000000000",
          "1992-07-25T00:00:00.000000000",
          "1992-08-01T00:00:00.000000000",
          "1992-08-08T00:00:00.000000000",
          "1992-08-15T00:00:00.000000000",
          "1992-08-22T00:00:00.000000000",
          "1992-08-29T00:00:00.000000000",
          "1992-09-05T00:00:00.000000000",
          "1992-09-12T00:00:00.000000000",
          "1992-09-19T00:00:00.000000000",
          "1992-09-26T00:00:00.000000000",
          "1992-10-03T00:00:00.000000000",
          "1992-10-10T00:00:00.000000000",
          "1992-10-17T00:00:00.000000000",
          "1992-10-24T00:00:00.000000000",
          "1992-10-31T00:00:00.000000000",
          "1992-11-07T00:00:00.000000000",
          "1992-11-14T00:00:00.000000000",
          "1992-11-21T00:00:00.000000000",
          "1992-11-28T00:00:00.000000000",
          "1992-12-05T00:00:00.000000000",
          "1992-12-12T00:00:00.000000000",
          "1992-12-19T00:00:00.000000000",
          "1992-12-26T00:00:00.000000000",
          "1993-01-02T00:00:00.000000000",
          "1993-01-09T00:00:00.000000000",
          "1993-01-16T00:00:00.000000000",
          "1993-01-23T00:00:00.000000000",
          "1993-01-30T00:00:00.000000000",
          "1993-02-06T00:00:00.000000000",
          "1993-02-13T00:00:00.000000000",
          "1993-02-20T00:00:00.000000000",
          "1993-02-27T00:00:00.000000000",
          "1993-03-06T00:00:00.000000000",
          "1993-03-13T00:00:00.000000000",
          "1993-03-20T00:00:00.000000000",
          "1993-03-27T00:00:00.000000000",
          "1993-04-03T00:00:00.000000000",
          "1993-04-10T00:00:00.000000000",
          "1993-04-17T00:00:00.000000000",
          "1993-04-24T00:00:00.000000000",
          "1993-05-01T00:00:00.000000000",
          "1993-05-08T00:00:00.000000000",
          "1993-05-15T00:00:00.000000000",
          "1993-05-22T00:00:00.000000000",
          "1993-05-29T00:00:00.000000000",
          "1993-06-05T00:00:00.000000000",
          "1993-06-12T00:00:00.000000000",
          "1993-06-19T00:00:00.000000000",
          "1993-06-26T00:00:00.000000000",
          "1993-07-03T00:00:00.000000000",
          "1993-07-10T00:00:00.000000000",
          "1993-07-17T00:00:00.000000000",
          "1993-07-24T00:00:00.000000000",
          "1993-07-31T00:00:00.000000000",
          "1993-08-07T00:00:00.000000000",
          "1993-08-14T00:00:00.000000000",
          "1993-08-21T00:00:00.000000000",
          "1993-08-28T00:00:00.000000000",
          "1993-09-04T00:00:00.000000000",
          "1993-09-11T00:00:00.000000000",
          "1993-09-18T00:00:00.000000000",
          "1993-09-25T00:00:00.000000000",
          "1993-10-02T00:00:00.000000000",
          "1993-10-09T00:00:00.000000000",
          "1993-10-16T00:00:00.000000000",
          "1993-10-23T00:00:00.000000000",
          "1993-10-30T00:00:00.000000000",
          "1993-11-06T00:00:00.000000000",
          "1993-11-13T00:00:00.000000000",
          "1993-11-20T00:00:00.000000000",
          "1993-11-27T00:00:00.000000000",
          "1993-12-04T00:00:00.000000000",
          "1993-12-11T00:00:00.000000000",
          "1993-12-18T00:00:00.000000000",
          "1993-12-25T00:00:00.000000000",
          "1994-01-01T00:00:00.000000000",
          "1994-01-08T00:00:00.000000000",
          "1994-01-15T00:00:00.000000000",
          "1994-01-22T00:00:00.000000000",
          "1994-01-29T00:00:00.000000000",
          "1994-02-05T00:00:00.000000000",
          "1994-02-12T00:00:00.000000000",
          "1994-02-19T00:00:00.000000000",
          "1994-02-26T00:00:00.000000000",
          "1994-03-05T00:00:00.000000000",
          "1994-03-12T00:00:00.000000000",
          "1994-03-19T00:00:00.000000000",
          "1994-03-26T00:00:00.000000000",
          "1994-04-02T00:00:00.000000000",
          "1994-04-09T00:00:00.000000000",
          "1994-04-16T00:00:00.000000000",
          "1994-04-23T00:00:00.000000000",
          "1994-04-30T00:00:00.000000000",
          "1994-05-07T00:00:00.000000000",
          "1994-05-14T00:00:00.000000000",
          "1994-05-21T00:00:00.000000000",
          "1994-05-28T00:00:00.000000000",
          "1994-06-04T00:00:00.000000000",
          "1994-06-11T00:00:00.000000000",
          "1994-06-18T00:00:00.000000000",
          "1994-06-25T00:00:00.000000000",
          "1994-07-02T00:00:00.000000000",
          "1994-07-09T00:00:00.000000000",
          "1994-07-16T00:00:00.000000000",
          "1994-07-23T00:00:00.000000000",
          "1994-07-30T00:00:00.000000000",
          "1994-08-06T00:00:00.000000000",
          "1994-08-13T00:00:00.000000000",
          "1994-08-20T00:00:00.000000000",
          "1994-08-27T00:00:00.000000000",
          "1994-09-03T00:00:00.000000000",
          "1994-09-10T00:00:00.000000000",
          "1994-09-17T00:00:00.000000000",
          "1994-09-24T00:00:00.000000000",
          "1994-10-01T00:00:00.000000000",
          "1994-10-08T00:00:00.000000000",
          "1994-10-15T00:00:00.000000000",
          "1994-10-22T00:00:00.000000000",
          "1994-10-29T00:00:00.000000000",
          "1994-11-05T00:00:00.000000000",
          "1994-11-12T00:00:00.000000000",
          "1994-11-19T00:00:00.000000000",
          "1994-11-26T00:00:00.000000000",
          "1994-12-03T00:00:00.000000000",
          "1994-12-10T00:00:00.000000000",
          "1994-12-17T00:00:00.000000000",
          "1994-12-24T00:00:00.000000000",
          "1994-12-31T00:00:00.000000000",
          "1995-01-07T00:00:00.000000000",
          "1995-01-14T00:00:00.000000000",
          "1995-01-21T00:00:00.000000000",
          "1995-01-28T00:00:00.000000000",
          "1995-02-04T00:00:00.000000000",
          "1995-02-11T00:00:00.000000000",
          "1995-02-18T00:00:00.000000000",
          "1995-02-25T00:00:00.000000000",
          "1995-03-04T00:00:00.000000000",
          "1995-03-11T00:00:00.000000000",
          "1995-03-18T00:00:00.000000000",
          "1995-03-25T00:00:00.000000000",
          "1995-04-01T00:00:00.000000000",
          "1995-04-08T00:00:00.000000000",
          "1995-04-15T00:00:00.000000000",
          "1995-04-22T00:00:00.000000000",
          "1995-04-29T00:00:00.000000000",
          "1995-05-06T00:00:00.000000000",
          "1995-05-13T00:00:00.000000000",
          "1995-05-20T00:00:00.000000000",
          "1995-05-27T00:00:00.000000000",
          "1995-06-03T00:00:00.000000000",
          "1995-06-10T00:00:00.000000000",
          "1995-06-17T00:00:00.000000000",
          "1995-06-24T00:00:00.000000000",
          "1995-07-01T00:00:00.000000000",
          "1995-07-08T00:00:00.000000000",
          "1995-07-15T00:00:00.000000000",
          "1995-07-22T00:00:00.000000000",
          "1995-07-29T00:00:00.000000000",
          "1995-08-05T00:00:00.000000000",
          "1995-08-12T00:00:00.000000000",
          "1995-08-19T00:00:00.000000000",
          "1995-08-26T00:00:00.000000000",
          "1995-09-02T00:00:00.000000000",
          "1995-09-09T00:00:00.000000000",
          "1995-09-16T00:00:00.000000000",
          "1995-09-23T00:00:00.000000000",
          "1995-09-30T00:00:00.000000000",
          "1995-10-07T00:00:00.000000000",
          "1995-10-14T00:00:00.000000000",
          "1995-10-21T00:00:00.000000000",
          "1995-10-28T00:00:00.000000000",
          "1995-11-04T00:00:00.000000000",
          "1995-11-11T00:00:00.000000000",
          "1995-11-18T00:00:00.000000000",
          "1995-11-25T00:00:00.000000000",
          "1995-12-02T00:00:00.000000000",
          "1995-12-09T00:00:00.000000000",
          "1995-12-16T00:00:00.000000000",
          "1995-12-23T00:00:00.000000000",
          "1995-12-30T00:00:00.000000000",
          "1996-01-06T00:00:00.000000000",
          "1996-01-13T00:00:00.000000000",
          "1996-01-20T00:00:00.000000000",
          "1996-01-27T00:00:00.000000000",
          "1996-02-03T00:00:00.000000000",
          "1996-02-10T00:00:00.000000000",
          "1996-02-17T00:00:00.000000000",
          "1996-02-24T00:00:00.000000000",
          "1996-03-02T00:00:00.000000000",
          "1996-03-09T00:00:00.000000000",
          "1996-03-16T00:00:00.000000000",
          "1996-03-23T00:00:00.000000000",
          "1996-03-30T00:00:00.000000000",
          "1996-04-06T00:00:00.000000000",
          "1996-04-13T00:00:00.000000000",
          "1996-04-20T00:00:00.000000000",
          "1996-04-27T00:00:00.000000000",
          "1996-05-04T00:00:00.000000000",
          "1996-05-11T00:00:00.000000000",
          "1996-05-18T00:00:00.000000000",
          "1996-05-25T00:00:00.000000000",
          "1996-06-01T00:00:00.000000000",
          "1996-06-08T00:00:00.000000000",
          "1996-06-15T00:00:00.000000000",
          "1996-06-22T00:00:00.000000000",
          "1996-06-29T00:00:00.000000000",
          "1996-07-06T00:00:00.000000000",
          "1996-07-13T00:00:00.000000000",
          "1996-07-20T00:00:00.000000000",
          "1996-07-27T00:00:00.000000000",
          "1996-08-03T00:00:00.000000000",
          "1996-08-10T00:00:00.000000000",
          "1996-08-17T00:00:00.000000000",
          "1996-08-24T00:00:00.000000000",
          "1996-08-31T00:00:00.000000000",
          "1996-09-07T00:00:00.000000000",
          "1996-09-14T00:00:00.000000000",
          "1996-09-21T00:00:00.000000000",
          "1996-09-28T00:00:00.000000000",
          "1996-10-05T00:00:00.000000000",
          "1996-10-12T00:00:00.000000000",
          "1996-10-19T00:00:00.000000000",
          "1996-10-26T00:00:00.000000000",
          "1996-11-02T00:00:00.000000000",
          "1996-11-09T00:00:00.000000000",
          "1996-11-16T00:00:00.000000000",
          "1996-11-23T00:00:00.000000000",
          "1996-11-30T00:00:00.000000000",
          "1996-12-07T00:00:00.000000000",
          "1996-12-14T00:00:00.000000000",
          "1996-12-21T00:00:00.000000000",
          "1996-12-28T00:00:00.000000000",
          "1997-01-04T00:00:00.000000000",
          "1997-01-11T00:00:00.000000000",
          "1997-01-18T00:00:00.000000000",
          "1997-01-25T00:00:00.000000000",
          "1997-02-01T00:00:00.000000000",
          "1997-02-08T00:00:00.000000000",
          "1997-02-15T00:00:00.000000000",
          "1997-02-22T00:00:00.000000000",
          "1997-03-01T00:00:00.000000000",
          "1997-03-08T00:00:00.000000000",
          "1997-03-15T00:00:00.000000000",
          "1997-03-22T00:00:00.000000000",
          "1997-03-29T00:00:00.000000000",
          "1997-04-05T00:00:00.000000000",
          "1997-04-12T00:00:00.000000000",
          "1997-04-19T00:00:00.000000000",
          "1997-04-26T00:00:00.000000000",
          "1997-05-03T00:00:00.000000000",
          "1997-05-10T00:00:00.000000000",
          "1997-05-17T00:00:00.000000000",
          "1997-05-24T00:00:00.000000000",
          "1997-05-31T00:00:00.000000000",
          "1997-06-07T00:00:00.000000000",
          "1997-06-14T00:00:00.000000000",
          "1997-06-21T00:00:00.000000000",
          "1997-06-28T00:00:00.000000000",
          "1997-07-05T00:00:00.000000000",
          "1997-07-12T00:00:00.000000000",
          "1997-07-19T00:00:00.000000000",
          "1997-07-26T00:00:00.000000000",
          "1997-08-02T00:00:00.000000000",
          "1997-08-09T00:00:00.000000000",
          "1997-08-16T00:00:00.000000000",
          "1997-08-23T00:00:00.000000000",
          "1997-08-30T00:00:00.000000000",
          "1997-09-06T00:00:00.000000000",
          "1997-09-13T00:00:00.000000000",
          "1997-09-20T00:00:00.000000000",
          "1997-09-27T00:00:00.000000000",
          "1997-10-04T00:00:00.000000000",
          "1997-10-11T00:00:00.000000000",
          "1997-10-18T00:00:00.000000000",
          "1997-10-25T00:00:00.000000000",
          "1997-11-01T00:00:00.000000000",
          "1997-11-08T00:00:00.000000000",
          "1997-11-15T00:00:00.000000000",
          "1997-11-22T00:00:00.000000000",
          "1997-11-29T00:00:00.000000000",
          "1997-12-06T00:00:00.000000000",
          "1997-12-13T00:00:00.000000000",
          "1997-12-20T00:00:00.000000000",
          "1997-12-27T00:00:00.000000000",
          "1998-01-03T00:00:00.000000000",
          "1998-01-10T00:00:00.000000000",
          "1998-01-17T00:00:00.000000000",
          "1998-01-24T00:00:00.000000000",
          "1998-01-31T00:00:00.000000000",
          "1998-02-07T00:00:00.000000000",
          "1998-02-14T00:00:00.000000000",
          "1998-02-21T00:00:00.000000000",
          "1998-02-28T00:00:00.000000000",
          "1998-03-07T00:00:00.000000000",
          "1998-03-14T00:00:00.000000000",
          "1998-03-21T00:00:00.000000000",
          "1998-03-28T00:00:00.000000000",
          "1998-04-04T00:00:00.000000000",
          "1998-04-11T00:00:00.000000000",
          "1998-04-18T00:00:00.000000000",
          "1998-04-25T00:00:00.000000000",
          "1998-05-02T00:00:00.000000000",
          "1998-05-09T00:00:00.000000000",
          "1998-05-16T00:00:00.000000000",
          "1998-05-23T00:00:00.000000000",
          "1998-05-30T00:00:00.000000000",
          "1998-06-06T00:00:00.000000000",
          "1998-06-13T00:00:00.000000000",
          "1998-06-20T00:00:00.000000000",
          "1998-06-27T00:00:00.000000000",
          "1998-07-04T00:00:00.000000000",
          "1998-07-11T00:00:00.000000000",
          "1998-07-18T00:00:00.000000000",
          "1998-07-25T00:00:00.000000000",
          "1998-08-01T00:00:00.000000000",
          "1998-08-08T00:00:00.000000000",
          "1998-08-15T00:00:00.000000000",
          "1998-08-22T00:00:00.000000000",
          "1998-08-29T00:00:00.000000000",
          "1998-09-05T00:00:00.000000000",
          "1998-09-12T00:00:00.000000000",
          "1998-09-19T00:00:00.000000000",
          "1998-09-26T00:00:00.000000000",
          "1998-10-03T00:00:00.000000000",
          "1998-10-10T00:00:00.000000000",
          "1998-10-17T00:00:00.000000000",
          "1998-10-24T00:00:00.000000000",
          "1998-10-31T00:00:00.000000000",
          "1998-11-07T00:00:00.000000000",
          "1998-11-14T00:00:00.000000000",
          "1998-11-21T00:00:00.000000000",
          "1998-11-28T00:00:00.000000000",
          "1998-12-05T00:00:00.000000000",
          "1998-12-12T00:00:00.000000000",
          "1998-12-19T00:00:00.000000000",
          "1998-12-26T00:00:00.000000000",
          "1999-01-02T00:00:00.000000000",
          "1999-01-09T00:00:00.000000000",
          "1999-01-16T00:00:00.000000000",
          "1999-01-23T00:00:00.000000000",
          "1999-01-30T00:00:00.000000000",
          "1999-02-06T00:00:00.000000000",
          "1999-02-13T00:00:00.000000000",
          "1999-02-20T00:00:00.000000000",
          "1999-02-27T00:00:00.000000000",
          "1999-03-06T00:00:00.000000000",
          "1999-03-13T00:00:00.000000000",
          "1999-03-20T00:00:00.000000000",
          "1999-03-27T00:00:00.000000000",
          "1999-04-03T00:00:00.000000000",
          "1999-04-10T00:00:00.000000000",
          "1999-04-17T00:00:00.000000000",
          "1999-04-24T00:00:00.000000000",
          "1999-05-01T00:00:00.000000000",
          "1999-05-08T00:00:00.000000000",
          "1999-05-15T00:00:00.000000000",
          "1999-05-22T00:00:00.000000000",
          "1999-05-29T00:00:00.000000000",
          "1999-06-05T00:00:00.000000000",
          "1999-06-12T00:00:00.000000000",
          "1999-06-19T00:00:00.000000000",
          "1999-06-26T00:00:00.000000000",
          "1999-07-03T00:00:00.000000000",
          "1999-07-10T00:00:00.000000000",
          "1999-07-17T00:00:00.000000000",
          "1999-07-24T00:00:00.000000000",
          "1999-07-31T00:00:00.000000000",
          "1999-08-07T00:00:00.000000000",
          "1999-08-14T00:00:00.000000000",
          "1999-08-21T00:00:00.000000000",
          "1999-08-28T00:00:00.000000000",
          "1999-09-04T00:00:00.000000000",
          "1999-09-11T00:00:00.000000000",
          "1999-09-18T00:00:00.000000000",
          "1999-09-25T00:00:00.000000000",
          "1999-10-02T00:00:00.000000000",
          "1999-10-09T00:00:00.000000000",
          "1999-10-16T00:00:00.000000000",
          "1999-10-23T00:00:00.000000000",
          "1999-10-30T00:00:00.000000000",
          "1999-11-06T00:00:00.000000000",
          "1999-11-13T00:00:00.000000000",
          "1999-11-20T00:00:00.000000000",
          "1999-11-27T00:00:00.000000000",
          "1999-12-04T00:00:00.000000000",
          "1999-12-11T00:00:00.000000000",
          "1999-12-18T00:00:00.000000000",
          "1999-12-25T00:00:00.000000000",
          "2000-01-01T00:00:00.000000000",
          "2000-01-08T00:00:00.000000000",
          "2000-01-15T00:00:00.000000000",
          "2000-01-22T00:00:00.000000000",
          "2000-01-29T00:00:00.000000000",
          "2000-02-05T00:00:00.000000000",
          "2000-02-12T00:00:00.000000000",
          "2000-02-19T00:00:00.000000000",
          "2000-02-26T00:00:00.000000000",
          "2000-03-04T00:00:00.000000000",
          "2000-03-11T00:00:00.000000000",
          "2000-03-18T00:00:00.000000000",
          "2000-03-25T00:00:00.000000000",
          "2000-04-01T00:00:00.000000000",
          "2000-04-08T00:00:00.000000000",
          "2000-04-15T00:00:00.000000000",
          "2000-04-22T00:00:00.000000000",
          "2000-04-29T00:00:00.000000000",
          "2000-05-06T00:00:00.000000000",
          "2000-05-13T00:00:00.000000000",
          "2000-05-20T00:00:00.000000000",
          "2000-05-27T00:00:00.000000000",
          "2000-06-03T00:00:00.000000000",
          "2000-06-10T00:00:00.000000000",
          "2000-06-17T00:00:00.000000000",
          "2000-06-24T00:00:00.000000000",
          "2000-07-01T00:00:00.000000000",
          "2000-07-08T00:00:00.000000000",
          "2000-07-15T00:00:00.000000000",
          "2000-07-22T00:00:00.000000000",
          "2000-07-29T00:00:00.000000000",
          "2000-08-05T00:00:00.000000000",
          "2000-08-12T00:00:00.000000000",
          "2000-08-19T00:00:00.000000000",
          "2000-08-26T00:00:00.000000000",
          "2000-09-02T00:00:00.000000000",
          "2000-09-09T00:00:00.000000000",
          "2000-09-16T00:00:00.000000000",
          "2000-09-23T00:00:00.000000000",
          "2000-09-30T00:00:00.000000000",
          "2000-10-07T00:00:00.000000000",
          "2000-10-14T00:00:00.000000000",
          "2000-10-21T00:00:00.000000000",
          "2000-10-28T00:00:00.000000000",
          "2000-11-04T00:00:00.000000000",
          "2000-11-11T00:00:00.000000000",
          "2000-11-18T00:00:00.000000000",
          "2000-11-25T00:00:00.000000000",
          "2000-12-02T00:00:00.000000000",
          "2000-12-09T00:00:00.000000000",
          "2000-12-16T00:00:00.000000000",
          "2000-12-23T00:00:00.000000000",
          "2000-12-30T00:00:00.000000000",
          "2001-01-06T00:00:00.000000000",
          "2001-01-13T00:00:00.000000000",
          "2001-01-20T00:00:00.000000000",
          "2001-01-27T00:00:00.000000000",
          "2001-02-03T00:00:00.000000000",
          "2001-02-10T00:00:00.000000000",
          "2001-02-17T00:00:00.000000000",
          "2001-02-24T00:00:00.000000000",
          "2001-03-03T00:00:00.000000000",
          "2001-03-10T00:00:00.000000000",
          "2001-03-17T00:00:00.000000000",
          "2001-03-24T00:00:00.000000000",
          "2001-03-31T00:00:00.000000000",
          "2001-04-07T00:00:00.000000000",
          "2001-04-14T00:00:00.000000000",
          "2001-04-21T00:00:00.000000000",
          "2001-04-28T00:00:00.000000000",
          "2001-05-05T00:00:00.000000000",
          "2001-05-12T00:00:00.000000000",
          "2001-05-19T00:00:00.000000000",
          "2001-05-26T00:00:00.000000000",
          "2001-06-02T00:00:00.000000000",
          "2001-06-09T00:00:00.000000000",
          "2001-06-16T00:00:00.000000000",
          "2001-06-23T00:00:00.000000000",
          "2001-06-30T00:00:00.000000000",
          "2001-07-07T00:00:00.000000000",
          "2001-07-14T00:00:00.000000000",
          "2001-07-21T00:00:00.000000000",
          "2001-07-28T00:00:00.000000000",
          "2001-08-04T00:00:00.000000000",
          "2001-08-11T00:00:00.000000000",
          "2001-08-18T00:00:00.000000000",
          "2001-08-25T00:00:00.000000000",
          "2001-09-01T00:00:00.000000000",
          "2001-09-08T00:00:00.000000000",
          "2001-09-15T00:00:00.000000000",
          "2001-09-22T00:00:00.000000000",
          "2001-09-29T00:00:00.000000000",
          "2001-10-06T00:00:00.000000000",
          "2001-10-13T00:00:00.000000000",
          "2001-10-20T00:00:00.000000000",
          "2001-10-27T00:00:00.000000000",
          "2001-11-03T00:00:00.000000000",
          "2001-11-10T00:00:00.000000000",
          "2001-11-17T00:00:00.000000000",
          "2001-11-24T00:00:00.000000000",
          "2001-12-01T00:00:00.000000000",
          "2001-12-08T00:00:00.000000000",
          "2001-12-15T00:00:00.000000000",
          "2001-12-22T00:00:00.000000000",
          "2001-12-29T00:00:00.000000000",
          "2002-01-05T00:00:00.000000000",
          "2002-01-12T00:00:00.000000000",
          "2002-01-19T00:00:00.000000000",
          "2002-01-26T00:00:00.000000000",
          "2002-02-02T00:00:00.000000000",
          "2002-02-09T00:00:00.000000000",
          "2002-02-16T00:00:00.000000000",
          "2002-02-23T00:00:00.000000000",
          "2002-03-02T00:00:00.000000000",
          "2002-03-09T00:00:00.000000000",
          "2002-03-16T00:00:00.000000000",
          "2002-03-23T00:00:00.000000000",
          "2002-03-30T00:00:00.000000000",
          "2002-04-06T00:00:00.000000000",
          "2002-04-13T00:00:00.000000000",
          "2002-04-20T00:00:00.000000000",
          "2002-04-27T00:00:00.000000000",
          "2002-05-04T00:00:00.000000000",
          "2002-05-11T00:00:00.000000000",
          "2002-05-18T00:00:00.000000000",
          "2002-05-25T00:00:00.000000000",
          "2002-06-01T00:00:00.000000000",
          "2002-06-08T00:00:00.000000000",
          "2002-06-15T00:00:00.000000000",
          "2002-06-22T00:00:00.000000000",
          "2002-06-29T00:00:00.000000000",
          "2002-07-06T00:00:00.000000000",
          "2002-07-13T00:00:00.000000000",
          "2002-07-20T00:00:00.000000000",
          "2002-07-27T00:00:00.000000000",
          "2002-08-03T00:00:00.000000000",
          "2002-08-10T00:00:00.000000000",
          "2002-08-17T00:00:00.000000000",
          "2002-08-24T00:00:00.000000000",
          "2002-08-31T00:00:00.000000000",
          "2002-09-07T00:00:00.000000000",
          "2002-09-14T00:00:00.000000000",
          "2002-09-21T00:00:00.000000000",
          "2002-09-28T00:00:00.000000000",
          "2002-10-05T00:00:00.000000000",
          "2002-10-12T00:00:00.000000000",
          "2002-10-19T00:00:00.000000000",
          "2002-10-26T00:00:00.000000000",
          "2002-11-02T00:00:00.000000000",
          "2002-11-09T00:00:00.000000000",
          "2002-11-16T00:00:00.000000000",
          "2002-11-23T00:00:00.000000000",
          "2002-11-30T00:00:00.000000000",
          "2002-12-07T00:00:00.000000000",
          "2002-12-14T00:00:00.000000000",
          "2002-12-21T00:00:00.000000000",
          "2002-12-28T00:00:00.000000000",
          "2003-01-04T00:00:00.000000000",
          "2003-01-11T00:00:00.000000000",
          "2003-01-18T00:00:00.000000000",
          "2003-01-25T00:00:00.000000000",
          "2003-02-01T00:00:00.000000000",
          "2003-02-08T00:00:00.000000000",
          "2003-02-15T00:00:00.000000000",
          "2003-02-22T00:00:00.000000000",
          "2003-03-01T00:00:00.000000000",
          "2003-03-08T00:00:00.000000000",
          "2003-03-15T00:00:00.000000000",
          "2003-03-22T00:00:00.000000000",
          "2003-03-29T00:00:00.000000000",
          "2003-04-05T00:00:00.000000000",
          "2003-04-12T00:00:00.000000000",
          "2003-04-19T00:00:00.000000000",
          "2003-04-26T00:00:00.000000000",
          "2003-05-03T00:00:00.000000000",
          "2003-05-10T00:00:00.000000000",
          "2003-05-17T00:00:00.000000000",
          "2003-05-24T00:00:00.000000000",
          "2003-05-31T00:00:00.000000000",
          "2003-06-07T00:00:00.000000000",
          "2003-06-14T00:00:00.000000000",
          "2003-06-21T00:00:00.000000000",
          "2003-06-28T00:00:00.000000000",
          "2003-07-05T00:00:00.000000000",
          "2003-07-12T00:00:00.000000000",
          "2003-07-19T00:00:00.000000000",
          "2003-07-26T00:00:00.000000000",
          "2003-08-02T00:00:00.000000000",
          "2003-08-09T00:00:00.000000000",
          "2003-08-16T00:00:00.000000000",
          "2003-08-23T00:00:00.000000000",
          "2003-08-30T00:00:00.000000000",
          "2003-09-06T00:00:00.000000000",
          "2003-09-13T00:00:00.000000000",
          "2003-09-20T00:00:00.000000000",
          "2003-09-27T00:00:00.000000000",
          "2003-10-04T00:00:00.000000000",
          "2003-10-11T00:00:00.000000000",
          "2003-10-18T00:00:00.000000000",
          "2003-10-25T00:00:00.000000000",
          "2003-11-01T00:00:00.000000000",
          "2003-11-08T00:00:00.000000000",
          "2003-11-15T00:00:00.000000000",
          "2003-11-22T00:00:00.000000000",
          "2003-11-29T00:00:00.000000000",
          "2003-12-06T00:00:00.000000000",
          "2003-12-13T00:00:00.000000000",
          "2003-12-20T00:00:00.000000000",
          "2003-12-27T00:00:00.000000000",
          "2004-01-03T00:00:00.000000000",
          "2004-01-10T00:00:00.000000000",
          "2004-01-17T00:00:00.000000000",
          "2004-01-24T00:00:00.000000000",
          "2004-01-31T00:00:00.000000000",
          "2004-02-07T00:00:00.000000000",
          "2004-02-14T00:00:00.000000000",
          "2004-02-21T00:00:00.000000000",
          "2004-02-28T00:00:00.000000000",
          "2004-03-06T00:00:00.000000000",
          "2004-03-13T00:00:00.000000000",
          "2004-03-20T00:00:00.000000000",
          "2004-03-27T00:00:00.000000000",
          "2004-04-03T00:00:00.000000000",
          "2004-04-10T00:00:00.000000000",
          "2004-04-17T00:00:00.000000000",
          "2004-04-24T00:00:00.000000000",
          "2004-05-01T00:00:00.000000000",
          "2004-05-08T00:00:00.000000000",
          "2004-05-15T00:00:00.000000000",
          "2004-05-22T00:00:00.000000000",
          "2004-05-29T00:00:00.000000000",
          "2004-06-05T00:00:00.000000000",
          "2004-06-12T00:00:00.000000000",
          "2004-06-19T00:00:00.000000000",
          "2004-06-26T00:00:00.000000000",
          "2004-07-03T00:00:00.000000000",
          "2004-07-10T00:00:00.000000000",
          "2004-07-17T00:00:00.000000000",
          "2004-07-24T00:00:00.000000000",
          "2004-07-31T00:00:00.000000000",
          "2004-08-07T00:00:00.000000000",
          "2004-08-14T00:00:00.000000000",
          "2004-08-21T00:00:00.000000000",
          "2004-08-28T00:00:00.000000000",
          "2004-09-04T00:00:00.000000000",
          "2004-09-11T00:00:00.000000000",
          "2004-09-18T00:00:00.000000000",
          "2004-09-25T00:00:00.000000000",
          "2004-10-02T00:00:00.000000000",
          "2004-10-09T00:00:00.000000000",
          "2004-10-16T00:00:00.000000000",
          "2004-10-23T00:00:00.000000000",
          "2004-10-30T00:00:00.000000000",
          "2004-11-06T00:00:00.000000000",
          "2004-11-13T00:00:00.000000000",
          "2004-11-20T00:00:00.000000000",
          "2004-11-27T00:00:00.000000000",
          "2004-12-04T00:00:00.000000000",
          "2004-12-11T00:00:00.000000000",
          "2004-12-18T00:00:00.000000000",
          "2004-12-25T00:00:00.000000000",
          "2005-01-01T00:00:00.000000000",
          "2005-01-08T00:00:00.000000000",
          "2005-01-15T00:00:00.000000000",
          "2005-01-22T00:00:00.000000000",
          "2005-01-29T00:00:00.000000000",
          "2005-02-05T00:00:00.000000000",
          "2005-02-12T00:00:00.000000000",
          "2005-02-19T00:00:00.000000000",
          "2005-02-26T00:00:00.000000000",
          "2005-03-05T00:00:00.000000000",
          "2005-03-12T00:00:00.000000000",
          "2005-03-19T00:00:00.000000000",
          "2005-03-26T00:00:00.000000000",
          "2005-04-02T00:00:00.000000000",
          "2005-04-09T00:00:00.000000000",
          "2005-04-16T00:00:00.000000000",
          "2005-04-23T00:00:00.000000000",
          "2005-04-30T00:00:00.000000000",
          "2005-05-07T00:00:00.000000000",
          "2005-05-14T00:00:00.000000000",
          "2005-05-21T00:00:00.000000000",
          "2005-05-28T00:00:00.000000000",
          "2005-06-04T00:00:00.000000000",
          "2005-06-11T00:00:00.000000000",
          "2005-06-18T00:00:00.000000000",
          "2005-06-25T00:00:00.000000000",
          "2005-07-02T00:00:00.000000000",
          "2005-07-09T00:00:00.000000000",
          "2005-07-16T00:00:00.000000000",
          "2005-07-23T00:00:00.000000000",
          "2005-07-30T00:00:00.000000000",
          "2005-08-06T00:00:00.000000000",
          "2005-08-13T00:00:00.000000000",
          "2005-08-20T00:00:00.000000000",
          "2005-08-27T00:00:00.000000000",
          "2005-09-03T00:00:00.000000000",
          "2005-09-10T00:00:00.000000000",
          "2005-09-17T00:00:00.000000000",
          "2005-09-24T00:00:00.000000000",
          "2005-10-01T00:00:00.000000000",
          "2005-10-08T00:00:00.000000000",
          "2005-10-15T00:00:00.000000000",
          "2005-10-22T00:00:00.000000000",
          "2005-10-29T00:00:00.000000000",
          "2005-11-05T00:00:00.000000000",
          "2005-11-12T00:00:00.000000000",
          "2005-11-19T00:00:00.000000000",
          "2005-11-26T00:00:00.000000000",
          "2005-12-03T00:00:00.000000000",
          "2005-12-10T00:00:00.000000000",
          "2005-12-17T00:00:00.000000000",
          "2005-12-24T00:00:00.000000000",
          "2005-12-31T00:00:00.000000000",
          "2006-01-07T00:00:00.000000000",
          "2006-01-14T00:00:00.000000000",
          "2006-01-21T00:00:00.000000000",
          "2006-01-28T00:00:00.000000000",
          "2006-02-04T00:00:00.000000000",
          "2006-02-11T00:00:00.000000000",
          "2006-02-18T00:00:00.000000000",
          "2006-02-25T00:00:00.000000000",
          "2006-03-04T00:00:00.000000000",
          "2006-03-11T00:00:00.000000000",
          "2006-03-18T00:00:00.000000000",
          "2006-03-25T00:00:00.000000000",
          "2006-04-01T00:00:00.000000000",
          "2006-04-08T00:00:00.000000000",
          "2006-04-15T00:00:00.000000000",
          "2006-04-22T00:00:00.000000000",
          "2006-04-29T00:00:00.000000000",
          "2006-05-06T00:00:00.000000000",
          "2006-05-13T00:00:00.000000000",
          "2006-05-20T00:00:00.000000000",
          "2006-05-27T00:00:00.000000000",
          "2006-06-03T00:00:00.000000000",
          "2006-06-10T00:00:00.000000000",
          "2006-06-17T00:00:00.000000000",
          "2006-06-24T00:00:00.000000000",
          "2006-07-01T00:00:00.000000000",
          "2006-07-08T00:00:00.000000000",
          "2006-07-15T00:00:00.000000000",
          "2006-07-22T00:00:00.000000000",
          "2006-07-29T00:00:00.000000000",
          "2006-08-05T00:00:00.000000000",
          "2006-08-12T00:00:00.000000000",
          "2006-08-19T00:00:00.000000000",
          "2006-08-26T00:00:00.000000000",
          "2006-09-02T00:00:00.000000000",
          "2006-09-09T00:00:00.000000000",
          "2006-09-16T00:00:00.000000000",
          "2006-09-23T00:00:00.000000000",
          "2006-09-30T00:00:00.000000000",
          "2006-10-07T00:00:00.000000000",
          "2006-10-14T00:00:00.000000000",
          "2006-10-21T00:00:00.000000000",
          "2006-10-28T00:00:00.000000000",
          "2006-11-04T00:00:00.000000000",
          "2006-11-11T00:00:00.000000000",
          "2006-11-18T00:00:00.000000000",
          "2006-11-25T00:00:00.000000000",
          "2006-12-02T00:00:00.000000000",
          "2006-12-09T00:00:00.000000000",
          "2006-12-16T00:00:00.000000000",
          "2006-12-23T00:00:00.000000000",
          "2006-12-30T00:00:00.000000000",
          "2007-01-06T00:00:00.000000000",
          "2007-01-13T00:00:00.000000000",
          "2007-01-20T00:00:00.000000000",
          "2007-01-27T00:00:00.000000000",
          "2007-02-03T00:00:00.000000000",
          "2007-02-10T00:00:00.000000000",
          "2007-02-17T00:00:00.000000000",
          "2007-02-24T00:00:00.000000000",
          "2007-03-03T00:00:00.000000000",
          "2007-03-10T00:00:00.000000000",
          "2007-03-17T00:00:00.000000000",
          "2007-03-24T00:00:00.000000000",
          "2007-03-31T00:00:00.000000000",
          "2007-04-07T00:00:00.000000000",
          "2007-04-14T00:00:00.000000000",
          "2007-04-21T00:00:00.000000000",
          "2007-04-28T00:00:00.000000000",
          "2007-05-05T00:00:00.000000000",
          "2007-05-12T00:00:00.000000000",
          "2007-05-19T00:00:00.000000000",
          "2007-05-26T00:00:00.000000000",
          "2007-06-02T00:00:00.000000000",
          "2007-06-09T00:00:00.000000000",
          "2007-06-16T00:00:00.000000000",
          "2007-06-23T00:00:00.000000000",
          "2007-06-30T00:00:00.000000000",
          "2007-07-07T00:00:00.000000000",
          "2007-07-14T00:00:00.000000000",
          "2007-07-21T00:00:00.000000000",
          "2007-07-28T00:00:00.000000000",
          "2007-08-04T00:00:00.000000000",
          "2007-08-11T00:00:00.000000000",
          "2007-08-18T00:00:00.000000000",
          "2007-08-25T00:00:00.000000000",
          "2007-09-01T00:00:00.000000000",
          "2007-09-08T00:00:00.000000000",
          "2007-09-15T00:00:00.000000000",
          "2007-09-22T00:00:00.000000000",
          "2007-09-29T00:00:00.000000000",
          "2007-10-06T00:00:00.000000000",
          "2007-10-13T00:00:00.000000000",
          "2007-10-20T00:00:00.000000000",
          "2007-10-27T00:00:00.000000000",
          "2007-11-03T00:00:00.000000000",
          "2007-11-10T00:00:00.000000000",
          "2007-11-17T00:00:00.000000000",
          "2007-11-24T00:00:00.000000000",
          "2007-12-01T00:00:00.000000000",
          "2007-12-08T00:00:00.000000000",
          "2007-12-15T00:00:00.000000000",
          "2007-12-22T00:00:00.000000000",
          "2007-12-29T00:00:00.000000000",
          "2008-01-05T00:00:00.000000000",
          "2008-01-12T00:00:00.000000000",
          "2008-01-19T00:00:00.000000000",
          "2008-01-26T00:00:00.000000000",
          "2008-02-02T00:00:00.000000000",
          "2008-02-09T00:00:00.000000000",
          "2008-02-16T00:00:00.000000000",
          "2008-02-23T00:00:00.000000000",
          "2008-03-01T00:00:00.000000000",
          "2008-03-08T00:00:00.000000000",
          "2008-03-15T00:00:00.000000000",
          "2008-03-22T00:00:00.000000000",
          "2008-03-29T00:00:00.000000000",
          "2008-04-05T00:00:00.000000000",
          "2008-04-12T00:00:00.000000000",
          "2008-04-19T00:00:00.000000000",
          "2008-04-26T00:00:00.000000000",
          "2008-05-03T00:00:00.000000000",
          "2008-05-10T00:00:00.000000000",
          "2008-05-17T00:00:00.000000000",
          "2008-05-24T00:00:00.000000000",
          "2008-05-31T00:00:00.000000000",
          "2008-06-07T00:00:00.000000000",
          "2008-06-14T00:00:00.000000000",
          "2008-06-21T00:00:00.000000000",
          "2008-06-28T00:00:00.000000000",
          "2008-07-05T00:00:00.000000000",
          "2008-07-12T00:00:00.000000000",
          "2008-07-19T00:00:00.000000000",
          "2008-07-26T00:00:00.000000000",
          "2008-08-02T00:00:00.000000000",
          "2008-08-09T00:00:00.000000000",
          "2008-08-16T00:00:00.000000000",
          "2008-08-23T00:00:00.000000000",
          "2008-08-30T00:00:00.000000000",
          "2008-09-06T00:00:00.000000000",
          "2008-09-13T00:00:00.000000000",
          "2008-09-20T00:00:00.000000000",
          "2008-09-27T00:00:00.000000000",
          "2008-10-04T00:00:00.000000000",
          "2008-10-11T00:00:00.000000000",
          "2008-10-18T00:00:00.000000000",
          "2008-10-25T00:00:00.000000000",
          "2008-11-01T00:00:00.000000000",
          "2008-11-08T00:00:00.000000000",
          "2008-11-15T00:00:00.000000000",
          "2008-11-22T00:00:00.000000000",
          "2008-11-29T00:00:00.000000000",
          "2008-12-06T00:00:00.000000000",
          "2008-12-13T00:00:00.000000000",
          "2008-12-20T00:00:00.000000000",
          "2008-12-27T00:00:00.000000000",
          "2009-01-03T00:00:00.000000000",
          "2009-01-10T00:00:00.000000000",
          "2009-01-17T00:00:00.000000000",
          "2009-01-24T00:00:00.000000000",
          "2009-01-31T00:00:00.000000000",
          "2009-02-07T00:00:00.000000000",
          "2009-02-14T00:00:00.000000000",
          "2009-02-21T00:00:00.000000000",
          "2009-02-28T00:00:00.000000000",
          "2009-03-07T00:00:00.000000000",
          "2009-03-14T00:00:00.000000000",
          "2009-03-21T00:00:00.000000000",
          "2009-03-28T00:00:00.000000000",
          "2009-04-04T00:00:00.000000000",
          "2009-04-11T00:00:00.000000000",
          "2009-04-18T00:00:00.000000000",
          "2009-04-25T00:00:00.000000000",
          "2009-05-02T00:00:00.000000000",
          "2009-05-09T00:00:00.000000000",
          "2009-05-16T00:00:00.000000000",
          "2009-05-23T00:00:00.000000000",
          "2009-05-30T00:00:00.000000000",
          "2009-06-06T00:00:00.000000000",
          "2009-06-13T00:00:00.000000000",
          "2009-06-20T00:00:00.000000000",
          "2009-06-27T00:00:00.000000000",
          "2009-07-04T00:00:00.000000000",
          "2009-07-11T00:00:00.000000000",
          "2009-07-18T00:00:00.000000000",
          "2009-07-25T00:00:00.000000000",
          "2009-08-01T00:00:00.000000000",
          "2009-08-08T00:00:00.000000000",
          "2009-08-15T00:00:00.000000000",
          "2009-08-22T00:00:00.000000000",
          "2009-08-29T00:00:00.000000000",
          "2009-09-05T00:00:00.000000000",
          "2009-09-12T00:00:00.000000000",
          "2009-09-19T00:00:00.000000000",
          "2009-09-26T00:00:00.000000000",
          "2009-10-03T00:00:00.000000000",
          "2009-10-10T00:00:00.000000000",
          "2009-10-17T00:00:00.000000000",
          "2009-10-24T00:00:00.000000000",
          "2009-10-31T00:00:00.000000000",
          "2009-11-07T00:00:00.000000000",
          "2009-11-14T00:00:00.000000000",
          "2009-11-21T00:00:00.000000000",
          "2009-11-28T00:00:00.000000000",
          "2009-12-05T00:00:00.000000000",
          "2009-12-12T00:00:00.000000000",
          "2009-12-19T00:00:00.000000000",
          "2009-12-26T00:00:00.000000000",
          "2010-01-02T00:00:00.000000000",
          "2010-01-09T00:00:00.000000000",
          "2010-01-16T00:00:00.000000000",
          "2010-01-23T00:00:00.000000000",
          "2010-01-30T00:00:00.000000000",
          "2010-02-06T00:00:00.000000000",
          "2010-02-13T00:00:00.000000000",
          "2010-02-20T00:00:00.000000000",
          "2010-02-27T00:00:00.000000000",
          "2010-03-06T00:00:00.000000000",
          "2010-03-13T00:00:00.000000000",
          "2010-03-20T00:00:00.000000000",
          "2010-03-27T00:00:00.000000000",
          "2010-04-03T00:00:00.000000000",
          "2010-04-10T00:00:00.000000000",
          "2010-04-17T00:00:00.000000000",
          "2010-04-24T00:00:00.000000000",
          "2010-05-01T00:00:00.000000000",
          "2010-05-08T00:00:00.000000000",
          "2010-05-15T00:00:00.000000000",
          "2010-05-22T00:00:00.000000000",
          "2010-05-29T00:00:00.000000000",
          "2010-06-05T00:00:00.000000000",
          "2010-06-12T00:00:00.000000000",
          "2010-06-19T00:00:00.000000000",
          "2010-06-26T00:00:00.000000000",
          "2010-07-03T00:00:00.000000000",
          "2010-07-10T00:00:00.000000000",
          "2010-07-17T00:00:00.000000000",
          "2010-07-24T00:00:00.000000000",
          "2010-07-31T00:00:00.000000000",
          "2010-08-07T00:00:00.000000000",
          "2010-08-14T00:00:00.000000000",
          "2010-08-21T00:00:00.000000000",
          "2010-08-28T00:00:00.000000000",
          "2010-09-04T00:00:00.000000000",
          "2010-09-11T00:00:00.000000000",
          "2010-09-18T00:00:00.000000000",
          "2010-09-25T00:00:00.000000000",
          "2010-10-02T00:00:00.000000000",
          "2010-10-09T00:00:00.000000000",
          "2010-10-16T00:00:00.000000000",
          "2010-10-23T00:00:00.000000000",
          "2010-10-30T00:00:00.000000000",
          "2010-11-06T00:00:00.000000000",
          "2010-11-13T00:00:00.000000000",
          "2010-11-20T00:00:00.000000000",
          "2010-11-27T00:00:00.000000000",
          "2010-12-04T00:00:00.000000000",
          "2010-12-11T00:00:00.000000000",
          "2010-12-18T00:00:00.000000000",
          "2010-12-25T00:00:00.000000000",
          "2011-01-01T00:00:00.000000000",
          "2011-01-08T00:00:00.000000000",
          "2011-01-15T00:00:00.000000000",
          "2011-01-22T00:00:00.000000000",
          "2011-01-29T00:00:00.000000000",
          "2011-02-05T00:00:00.000000000",
          "2011-02-12T00:00:00.000000000",
          "2011-02-19T00:00:00.000000000",
          "2011-02-26T00:00:00.000000000",
          "2011-03-05T00:00:00.000000000",
          "2011-03-12T00:00:00.000000000",
          "2011-03-19T00:00:00.000000000",
          "2011-03-26T00:00:00.000000000",
          "2011-04-02T00:00:00.000000000",
          "2011-04-09T00:00:00.000000000",
          "2011-04-16T00:00:00.000000000",
          "2011-04-23T00:00:00.000000000",
          "2011-04-30T00:00:00.000000000",
          "2011-05-07T00:00:00.000000000",
          "2011-05-14T00:00:00.000000000",
          "2011-05-21T00:00:00.000000000",
          "2011-05-28T00:00:00.000000000",
          "2011-06-04T00:00:00.000000000",
          "2011-06-11T00:00:00.000000000",
          "2011-06-18T00:00:00.000000000",
          "2011-06-25T00:00:00.000000000",
          "2011-07-02T00:00:00.000000000",
          "2011-07-09T00:00:00.000000000",
          "2011-07-16T00:00:00.000000000",
          "2011-07-23T00:00:00.000000000",
          "2011-07-30T00:00:00.000000000",
          "2011-08-06T00:00:00.000000000",
          "2011-08-13T00:00:00.000000000",
          "2011-08-20T00:00:00.000000000",
          "2011-08-27T00:00:00.000000000",
          "2011-09-03T00:00:00.000000000",
          "2011-09-10T00:00:00.000000000",
          "2011-09-17T00:00:00.000000000",
          "2011-09-24T00:00:00.000000000",
          "2011-10-01T00:00:00.000000000",
          "2011-10-08T00:00:00.000000000",
          "2011-10-15T00:00:00.000000000",
          "2011-10-22T00:00:00.000000000",
          "2011-10-29T00:00:00.000000000",
          "2011-11-05T00:00:00.000000000",
          "2011-11-12T00:00:00.000000000",
          "2011-11-19T00:00:00.000000000",
          "2011-11-26T00:00:00.000000000",
          "2011-12-03T00:00:00.000000000",
          "2011-12-10T00:00:00.000000000",
          "2011-12-17T00:00:00.000000000",
          "2011-12-24T00:00:00.000000000",
          "2011-12-31T00:00:00.000000000",
          "2012-01-07T00:00:00.000000000",
          "2012-01-14T00:00:00.000000000",
          "2012-01-21T00:00:00.000000000",
          "2012-01-28T00:00:00.000000000",
          "2012-02-04T00:00:00.000000000",
          "2012-02-11T00:00:00.000000000",
          "2012-02-18T00:00:00.000000000",
          "2012-02-25T00:00:00.000000000",
          "2012-03-03T00:00:00.000000000",
          "2012-03-10T00:00:00.000000000",
          "2012-03-17T00:00:00.000000000",
          "2012-03-24T00:00:00.000000000",
          "2012-03-31T00:00:00.000000000",
          "2012-04-07T00:00:00.000000000",
          "2012-04-14T00:00:00.000000000",
          "2012-04-21T00:00:00.000000000",
          "2012-04-28T00:00:00.000000000",
          "2012-05-05T00:00:00.000000000",
          "2012-05-12T00:00:00.000000000",
          "2012-05-19T00:00:00.000000000",
          "2012-05-26T00:00:00.000000000",
          "2012-06-02T00:00:00.000000000",
          "2012-06-09T00:00:00.000000000",
          "2012-06-16T00:00:00.000000000",
          "2012-06-23T00:00:00.000000000",
          "2012-06-30T00:00:00.000000000",
          "2012-07-07T00:00:00.000000000",
          "2012-07-14T00:00:00.000000000",
          "2012-07-21T00:00:00.000000000",
          "2012-07-28T00:00:00.000000000",
          "2012-08-04T00:00:00.000000000",
          "2012-08-11T00:00:00.000000000",
          "2012-08-18T00:00:00.000000000",
          "2012-08-25T00:00:00.000000000",
          "2012-09-01T00:00:00.000000000",
          "2012-09-08T00:00:00.000000000",
          "2012-09-15T00:00:00.000000000",
          "2012-09-22T00:00:00.000000000",
          "2012-09-29T00:00:00.000000000",
          "2012-10-06T00:00:00.000000000",
          "2012-10-13T00:00:00.000000000",
          "2012-10-20T00:00:00.000000000",
          "2012-10-27T00:00:00.000000000",
          "2012-11-03T00:00:00.000000000",
          "2012-11-10T00:00:00.000000000",
          "2012-11-17T00:00:00.000000000",
          "2012-11-24T00:00:00.000000000",
          "2012-12-01T00:00:00.000000000",
          "2012-12-08T00:00:00.000000000",
          "2012-12-15T00:00:00.000000000",
          "2012-12-22T00:00:00.000000000",
          "2012-12-29T00:00:00.000000000",
          "2013-01-05T00:00:00.000000000",
          "2013-01-12T00:00:00.000000000",
          "2013-01-19T00:00:00.000000000",
          "2013-01-26T00:00:00.000000000",
          "2013-02-02T00:00:00.000000000",
          "2013-02-09T00:00:00.000000000",
          "2013-02-16T00:00:00.000000000",
          "2013-02-23T00:00:00.000000000",
          "2013-03-02T00:00:00.000000000",
          "2013-03-09T00:00:00.000000000",
          "2013-03-16T00:00:00.000000000",
          "2013-03-23T00:00:00.000000000",
          "2013-03-30T00:00:00.000000000",
          "2013-04-06T00:00:00.000000000",
          "2013-04-13T00:00:00.000000000",
          "2013-04-20T00:00:00.000000000",
          "2013-04-27T00:00:00.000000000",
          "2013-05-04T00:00:00.000000000",
          "2013-05-11T00:00:00.000000000",
          "2013-05-18T00:00:00.000000000",
          "2013-05-25T00:00:00.000000000",
          "2013-06-01T00:00:00.000000000",
          "2013-06-08T00:00:00.000000000",
          "2013-06-15T00:00:00.000000000",
          "2013-06-22T00:00:00.000000000",
          "2013-06-29T00:00:00.000000000",
          "2013-07-06T00:00:00.000000000",
          "2013-07-13T00:00:00.000000000",
          "2013-07-20T00:00:00.000000000",
          "2013-07-27T00:00:00.000000000",
          "2013-08-03T00:00:00.000000000",
          "2013-08-10T00:00:00.000000000",
          "2013-08-17T00:00:00.000000000",
          "2013-08-24T00:00:00.000000000",
          "2013-08-31T00:00:00.000000000",
          "2013-09-07T00:00:00.000000000",
          "2013-09-14T00:00:00.000000000",
          "2013-09-21T00:00:00.000000000",
          "2013-09-28T00:00:00.000000000",
          "2013-10-05T00:00:00.000000000",
          "2013-10-12T00:00:00.000000000",
          "2013-10-19T00:00:00.000000000",
          "2013-10-26T00:00:00.000000000",
          "2013-11-02T00:00:00.000000000",
          "2013-11-09T00:00:00.000000000",
          "2013-11-16T00:00:00.000000000",
          "2013-11-23T00:00:00.000000000",
          "2013-11-30T00:00:00.000000000",
          "2013-12-07T00:00:00.000000000",
          "2013-12-14T00:00:00.000000000",
          "2013-12-21T00:00:00.000000000",
          "2013-12-28T00:00:00.000000000",
          "2014-01-04T00:00:00.000000000",
          "2014-01-11T00:00:00.000000000",
          "2014-01-18T00:00:00.000000000",
          "2014-01-25T00:00:00.000000000",
          "2014-02-01T00:00:00.000000000",
          "2014-02-08T00:00:00.000000000",
          "2014-02-15T00:00:00.000000000",
          "2014-02-22T00:00:00.000000000",
          "2014-03-01T00:00:00.000000000",
          "2014-03-08T00:00:00.000000000",
          "2014-03-15T00:00:00.000000000",
          "2014-03-22T00:00:00.000000000",
          "2014-03-29T00:00:00.000000000",
          "2014-04-05T00:00:00.000000000",
          "2014-04-12T00:00:00.000000000",
          "2014-04-19T00:00:00.000000000",
          "2014-04-26T00:00:00.000000000",
          "2014-05-03T00:00:00.000000000",
          "2014-05-10T00:00:00.000000000",
          "2014-05-17T00:00:00.000000000",
          "2014-05-24T00:00:00.000000000",
          "2014-05-31T00:00:00.000000000",
          "2014-06-07T00:00:00.000000000",
          "2014-06-14T00:00:00.000000000",
          "2014-06-21T00:00:00.000000000",
          "2014-06-28T00:00:00.000000000",
          "2014-07-05T00:00:00.000000000",
          "2014-07-12T00:00:00.000000000",
          "2014-07-19T00:00:00.000000000",
          "2014-07-26T00:00:00.000000000",
          "2014-08-02T00:00:00.000000000",
          "2014-08-09T00:00:00.000000000",
          "2014-08-16T00:00:00.000000000",
          "2014-08-23T00:00:00.000000000",
          "2014-08-30T00:00:00.000000000",
          "2014-09-06T00:00:00.000000000",
          "2014-09-13T00:00:00.000000000",
          "2014-09-20T00:00:00.000000000",
          "2014-09-27T00:00:00.000000000",
          "2014-10-04T00:00:00.000000000",
          "2014-10-11T00:00:00.000000000",
          "2014-10-18T00:00:00.000000000",
          "2014-10-25T00:00:00.000000000",
          "2014-11-01T00:00:00.000000000",
          "2014-11-08T00:00:00.000000000",
          "2014-11-15T00:00:00.000000000",
          "2014-11-22T00:00:00.000000000",
          "2014-11-29T00:00:00.000000000",
          "2014-12-06T00:00:00.000000000",
          "2014-12-13T00:00:00.000000000",
          "2014-12-20T00:00:00.000000000",
          "2014-12-27T00:00:00.000000000",
          "2015-01-03T00:00:00.000000000",
          "2015-01-10T00:00:00.000000000",
          "2015-01-17T00:00:00.000000000",
          "2015-01-24T00:00:00.000000000",
          "2015-01-31T00:00:00.000000000",
          "2015-02-07T00:00:00.000000000",
          "2015-02-14T00:00:00.000000000",
          "2015-02-21T00:00:00.000000000",
          "2015-02-28T00:00:00.000000000",
          "2015-03-07T00:00:00.000000000",
          "2015-03-14T00:00:00.000000000",
          "2015-03-21T00:00:00.000000000",
          "2015-03-28T00:00:00.000000000",
          "2015-04-04T00:00:00.000000000",
          "2015-04-11T00:00:00.000000000",
          "2015-04-18T00:00:00.000000000",
          "2015-04-25T00:00:00.000000000",
          "2015-05-02T00:00:00.000000000",
          "2015-05-09T00:00:00.000000000",
          "2015-05-16T00:00:00.000000000",
          "2015-05-23T00:00:00.000000000",
          "2015-05-30T00:00:00.000000000",
          "2015-06-06T00:00:00.000000000",
          "2015-06-13T00:00:00.000000000",
          "2015-06-20T00:00:00.000000000",
          "2015-06-27T00:00:00.000000000",
          "2015-07-04T00:00:00.000000000",
          "2015-07-11T00:00:00.000000000",
          "2015-07-18T00:00:00.000000000",
          "2015-07-25T00:00:00.000000000",
          "2015-08-01T00:00:00.000000000",
          "2015-08-08T00:00:00.000000000",
          "2015-08-15T00:00:00.000000000",
          "2015-08-22T00:00:00.000000000",
          "2015-08-29T00:00:00.000000000",
          "2015-09-05T00:00:00.000000000",
          "2015-09-12T00:00:00.000000000",
          "2015-09-19T00:00:00.000000000",
          "2015-09-26T00:00:00.000000000",
          "2015-10-03T00:00:00.000000000",
          "2015-10-10T00:00:00.000000000",
          "2015-10-17T00:00:00.000000000",
          "2015-10-24T00:00:00.000000000",
          "2015-10-31T00:00:00.000000000",
          "2015-11-07T00:00:00.000000000",
          "2015-11-14T00:00:00.000000000",
          "2015-11-21T00:00:00.000000000",
          "2015-11-28T00:00:00.000000000",
          "2015-12-05T00:00:00.000000000",
          "2015-12-12T00:00:00.000000000",
          "2015-12-19T00:00:00.000000000",
          "2015-12-26T00:00:00.000000000",
          "2016-01-02T00:00:00.000000000",
          "2016-01-09T00:00:00.000000000",
          "2016-01-16T00:00:00.000000000",
          "2016-01-23T00:00:00.000000000",
          "2016-01-30T00:00:00.000000000",
          "2016-02-06T00:00:00.000000000",
          "2016-02-13T00:00:00.000000000",
          "2016-02-20T00:00:00.000000000",
          "2016-02-27T00:00:00.000000000",
          "2016-03-05T00:00:00.000000000",
          "2016-03-12T00:00:00.000000000",
          "2016-03-19T00:00:00.000000000",
          "2016-03-26T00:00:00.000000000",
          "2016-04-02T00:00:00.000000000",
          "2016-04-09T00:00:00.000000000",
          "2016-04-16T00:00:00.000000000",
          "2016-04-23T00:00:00.000000000",
          "2016-04-30T00:00:00.000000000",
          "2016-05-07T00:00:00.000000000",
          "2016-05-14T00:00:00.000000000",
          "2016-05-21T00:00:00.000000000",
          "2016-05-28T00:00:00.000000000",
          "2016-06-04T00:00:00.000000000",
          "2016-06-11T00:00:00.000000000",
          "2016-06-18T00:00:00.000000000",
          "2016-06-25T00:00:00.000000000",
          "2016-07-02T00:00:00.000000000",
          "2016-07-09T00:00:00.000000000",
          "2016-07-16T00:00:00.000000000",
          "2016-07-23T00:00:00.000000000",
          "2016-07-30T00:00:00.000000000",
          "2016-08-06T00:00:00.000000000",
          "2016-08-13T00:00:00.000000000",
          "2016-08-20T00:00:00.000000000",
          "2016-08-27T00:00:00.000000000",
          "2016-09-03T00:00:00.000000000",
          "2016-09-10T00:00:00.000000000",
          "2016-09-17T00:00:00.000000000",
          "2016-09-24T00:00:00.000000000",
          "2016-10-01T00:00:00.000000000",
          "2016-10-08T00:00:00.000000000",
          "2016-10-15T00:00:00.000000000",
          "2016-10-22T00:00:00.000000000",
          "2016-10-29T00:00:00.000000000",
          "2016-11-05T00:00:00.000000000",
          "2016-11-12T00:00:00.000000000",
          "2016-11-19T00:00:00.000000000",
          "2016-11-26T00:00:00.000000000",
          "2016-12-03T00:00:00.000000000",
          "2016-12-10T00:00:00.000000000",
          "2016-12-17T00:00:00.000000000",
          "2016-12-24T00:00:00.000000000",
          "2016-12-31T00:00:00.000000000",
          "2017-01-07T00:00:00.000000000",
          "2017-01-14T00:00:00.000000000",
          "2017-01-21T00:00:00.000000000",
          "2017-01-28T00:00:00.000000000",
          "2017-02-04T00:00:00.000000000",
          "2017-02-11T00:00:00.000000000",
          "2017-02-18T00:00:00.000000000",
          "2017-02-25T00:00:00.000000000",
          "2017-03-04T00:00:00.000000000",
          "2017-03-11T00:00:00.000000000",
          "2017-03-18T00:00:00.000000000",
          "2017-03-25T00:00:00.000000000",
          "2017-04-01T00:00:00.000000000",
          "2017-04-08T00:00:00.000000000",
          "2017-04-15T00:00:00.000000000",
          "2017-04-22T00:00:00.000000000",
          "2017-04-29T00:00:00.000000000",
          "2017-05-06T00:00:00.000000000",
          "2017-05-13T00:00:00.000000000",
          "2017-05-20T00:00:00.000000000",
          "2017-05-27T00:00:00.000000000",
          "2017-06-03T00:00:00.000000000",
          "2017-06-10T00:00:00.000000000",
          "2017-06-17T00:00:00.000000000",
          "2017-06-24T00:00:00.000000000",
          "2017-07-01T00:00:00.000000000",
          "2017-07-08T00:00:00.000000000",
          "2017-07-15T00:00:00.000000000",
          "2017-07-22T00:00:00.000000000",
          "2017-07-29T00:00:00.000000000",
          "2017-08-05T00:00:00.000000000",
          "2017-08-12T00:00:00.000000000",
          "2017-08-19T00:00:00.000000000",
          "2017-08-26T00:00:00.000000000",
          "2017-09-02T00:00:00.000000000",
          "2017-09-09T00:00:00.000000000",
          "2017-09-16T00:00:00.000000000",
          "2017-09-23T00:00:00.000000000",
          "2017-09-30T00:00:00.000000000",
          "2017-10-07T00:00:00.000000000",
          "2017-10-14T00:00:00.000000000",
          "2017-10-21T00:00:00.000000000",
          "2017-10-28T00:00:00.000000000",
          "2017-11-04T00:00:00.000000000",
          "2017-11-11T00:00:00.000000000",
          "2017-11-18T00:00:00.000000000",
          "2017-11-25T00:00:00.000000000",
          "2017-12-02T00:00:00.000000000",
          "2017-12-09T00:00:00.000000000",
          "2017-12-16T00:00:00.000000000",
          "2017-12-23T00:00:00.000000000",
          "2017-12-30T00:00:00.000000000",
          "2018-01-06T00:00:00.000000000",
          "2018-01-13T00:00:00.000000000",
          "2018-01-20T00:00:00.000000000",
          "2018-01-27T00:00:00.000000000",
          "2018-02-03T00:00:00.000000000",
          "2018-02-10T00:00:00.000000000",
          "2018-02-17T00:00:00.000000000",
          "2018-02-24T00:00:00.000000000",
          "2018-03-03T00:00:00.000000000",
          "2018-03-10T00:00:00.000000000",
          "2018-03-17T00:00:00.000000000",
          "2018-03-24T00:00:00.000000000",
          "2018-03-31T00:00:00.000000000",
          "2018-04-07T00:00:00.000000000",
          "2018-04-14T00:00:00.000000000",
          "2018-04-21T00:00:00.000000000",
          "2018-04-28T00:00:00.000000000",
          "2018-05-05T00:00:00.000000000",
          "2018-05-12T00:00:00.000000000",
          "2018-05-19T00:00:00.000000000",
          "2018-05-26T00:00:00.000000000",
          "2018-06-02T00:00:00.000000000",
          "2018-06-09T00:00:00.000000000",
          "2018-06-16T00:00:00.000000000",
          "2018-06-23T00:00:00.000000000",
          "2018-06-30T00:00:00.000000000",
          "2018-07-07T00:00:00.000000000",
          "2018-07-14T00:00:00.000000000",
          "2018-07-21T00:00:00.000000000",
          "2018-07-28T00:00:00.000000000",
          "2018-08-04T00:00:00.000000000",
          "2018-08-11T00:00:00.000000000",
          "2018-08-18T00:00:00.000000000",
          "2018-08-25T00:00:00.000000000",
          "2018-09-01T00:00:00.000000000",
          "2018-09-08T00:00:00.000000000",
          "2018-09-15T00:00:00.000000000",
          "2018-09-22T00:00:00.000000000",
          "2018-09-29T00:00:00.000000000",
          "2018-10-06T00:00:00.000000000",
          "2018-10-13T00:00:00.000000000",
          "2018-10-20T00:00:00.000000000",
          "2018-10-27T00:00:00.000000000",
          "2018-11-03T00:00:00.000000000",
          "2018-11-10T00:00:00.000000000",
          "2018-11-17T00:00:00.000000000",
          "2018-11-24T00:00:00.000000000",
          "2018-12-01T00:00:00.000000000",
          "2018-12-08T00:00:00.000000000",
          "2018-12-15T00:00:00.000000000",
          "2018-12-22T00:00:00.000000000",
          "2018-12-29T00:00:00.000000000",
          "2019-01-05T00:00:00.000000000",
          "2019-01-12T00:00:00.000000000",
          "2019-01-19T00:00:00.000000000",
          "2019-01-26T00:00:00.000000000",
          "2019-02-02T00:00:00.000000000",
          "2019-02-09T00:00:00.000000000",
          "2019-02-16T00:00:00.000000000",
          "2019-02-23T00:00:00.000000000",
          "2019-03-02T00:00:00.000000000",
          "2019-03-09T00:00:00.000000000",
          "2019-03-16T00:00:00.000000000",
          "2019-03-23T00:00:00.000000000",
          "2019-03-30T00:00:00.000000000",
          "2019-04-06T00:00:00.000000000",
          "2019-04-13T00:00:00.000000000",
          "2019-04-20T00:00:00.000000000",
          "2019-04-27T00:00:00.000000000",
          "2019-05-04T00:00:00.000000000",
          "2019-05-11T00:00:00.000000000",
          "2019-05-18T00:00:00.000000000",
          "2019-05-25T00:00:00.000000000",
          "2019-06-01T00:00:00.000000000",
          "2019-06-08T00:00:00.000000000",
          "2019-06-15T00:00:00.000000000",
          "2019-06-22T00:00:00.000000000",
          "2019-06-29T00:00:00.000000000",
          "2019-07-06T00:00:00.000000000",
          "2019-07-13T00:00:00.000000000",
          "2019-07-20T00:00:00.000000000",
          "2019-07-27T00:00:00.000000000",
          "2019-08-03T00:00:00.000000000",
          "2019-08-10T00:00:00.000000000",
          "2019-08-17T00:00:00.000000000",
          "2019-08-24T00:00:00.000000000",
          "2019-08-31T00:00:00.000000000",
          "2019-09-07T00:00:00.000000000",
          "2019-09-14T00:00:00.000000000",
          "2019-09-21T00:00:00.000000000",
          "2019-09-28T00:00:00.000000000",
          "2019-10-05T00:00:00.000000000",
          "2019-10-12T00:00:00.000000000",
          "2019-10-19T00:00:00.000000000",
          "2019-10-26T00:00:00.000000000",
          "2019-11-02T00:00:00.000000000",
          "2019-11-09T00:00:00.000000000",
          "2019-11-16T00:00:00.000000000",
          "2019-11-23T00:00:00.000000000",
          "2019-11-30T00:00:00.000000000",
          "2019-12-07T00:00:00.000000000",
          "2019-12-14T00:00:00.000000000",
          "2019-12-21T00:00:00.000000000",
          "2019-12-28T00:00:00.000000000",
          "2020-01-04T00:00:00.000000000",
          "2020-01-11T00:00:00.000000000",
          "2020-01-18T00:00:00.000000000",
          "2020-01-25T00:00:00.000000000",
          "2020-02-01T00:00:00.000000000",
          "2020-02-08T00:00:00.000000000",
          "2020-02-15T00:00:00.000000000",
          "2020-02-22T00:00:00.000000000",
          "2020-02-29T00:00:00.000000000",
          "2020-03-07T00:00:00.000000000",
          "2020-03-14T00:00:00.000000000",
          "2020-03-21T00:00:00.000000000",
          "2020-03-28T00:00:00.000000000",
          "2020-04-04T00:00:00.000000000",
          "2020-04-11T00:00:00.000000000",
          "2020-04-18T00:00:00.000000000",
          "2020-04-25T00:00:00.000000000",
          "2020-05-02T00:00:00.000000000",
          "2020-05-09T00:00:00.000000000",
          "2020-05-16T00:00:00.000000000",
          "2020-05-23T00:00:00.000000000",
          "2020-05-30T00:00:00.000000000",
          "2020-06-06T00:00:00.000000000",
          "2020-06-13T00:00:00.000000000",
          "2020-06-20T00:00:00.000000000",
          "2020-06-27T00:00:00.000000000",
          "2020-07-04T00:00:00.000000000",
          "2020-07-11T00:00:00.000000000",
          "2020-07-18T00:00:00.000000000",
          "2020-07-25T00:00:00.000000000",
          "2020-08-01T00:00:00.000000000",
          "2020-08-08T00:00:00.000000000",
          "2020-08-15T00:00:00.000000000",
          "2020-08-22T00:00:00.000000000",
          "2020-08-29T00:00:00.000000000",
          "2020-09-05T00:00:00.000000000",
          "2020-09-12T00:00:00.000000000",
          "2020-09-19T00:00:00.000000000",
          "2020-09-26T00:00:00.000000000",
          "2020-10-03T00:00:00.000000000",
          "2020-10-10T00:00:00.000000000",
          "2020-10-17T00:00:00.000000000",
          "2020-10-24T00:00:00.000000000",
          "2020-10-31T00:00:00.000000000",
          "2020-11-07T00:00:00.000000000",
          "2020-11-14T00:00:00.000000000",
          "2020-11-21T00:00:00.000000000",
          "2020-11-28T00:00:00.000000000",
          "2020-12-05T00:00:00.000000000",
          "2020-12-12T00:00:00.000000000",
          "2020-12-19T00:00:00.000000000",
          "2020-12-26T00:00:00.000000000",
          "2021-01-02T00:00:00.000000000",
          "2021-01-09T00:00:00.000000000",
          "2021-01-16T00:00:00.000000000",
          "2021-01-23T00:00:00.000000000",
          "2021-01-30T00:00:00.000000000",
          "2021-02-06T00:00:00.000000000",
          "2021-02-13T00:00:00.000000000",
          "2021-02-20T00:00:00.000000000",
          "2021-02-27T00:00:00.000000000",
          "2021-03-06T00:00:00.000000000",
          "2021-03-13T00:00:00.000000000",
          "2021-03-20T00:00:00.000000000",
          "2021-03-27T00:00:00.000000000",
          "2021-04-03T00:00:00.000000000",
          "2021-04-10T00:00:00.000000000",
          "2021-04-17T00:00:00.000000000",
          "2021-04-24T00:00:00.000000000",
          "2021-05-01T00:00:00.000000000",
          "2021-05-08T00:00:00.000000000",
          "2021-05-15T00:00:00.000000000",
          "2021-05-22T00:00:00.000000000",
          "2021-05-29T00:00:00.000000000",
          "2021-06-05T00:00:00.000000000",
          "2021-06-12T00:00:00.000000000",
          "2021-06-19T00:00:00.000000000",
          "2021-06-26T00:00:00.000000000",
          "2021-07-03T00:00:00.000000000",
          "2021-07-10T00:00:00.000000000",
          "2021-07-17T00:00:00.000000000",
          "2021-07-24T00:00:00.000000000",
          "2021-07-31T00:00:00.000000000",
          "2021-08-07T00:00:00.000000000",
          "2021-08-14T00:00:00.000000000",
          "2021-08-21T00:00:00.000000000",
          "2021-08-28T00:00:00.000000000",
          "2021-09-04T00:00:00.000000000",
          "2021-09-11T00:00:00.000000000",
          "2021-09-18T00:00:00.000000000",
          "2021-09-25T00:00:00.000000000",
          "2021-10-02T00:00:00.000000000",
          "2021-10-09T00:00:00.000000000",
          "2021-10-16T00:00:00.000000000",
          "2021-10-23T00:00:00.000000000",
          "2021-10-30T00:00:00.000000000",
          "2021-11-06T00:00:00.000000000",
          "2021-11-13T00:00:00.000000000",
          "2021-11-20T00:00:00.000000000",
          "2021-11-27T00:00:00.000000000",
          "2021-12-04T00:00:00.000000000",
          "2021-12-11T00:00:00.000000000",
          "2021-12-18T00:00:00.000000000",
          "2021-12-25T00:00:00.000000000",
          "2022-01-01T00:00:00.000000000",
          "2022-01-08T00:00:00.000000000",
          "2022-01-15T00:00:00.000000000",
          "2022-01-22T00:00:00.000000000",
          "2022-01-29T00:00:00.000000000",
          "2022-02-05T00:00:00.000000000",
          "2022-02-12T00:00:00.000000000",
          "2022-02-19T00:00:00.000000000",
          "2022-02-26T00:00:00.000000000",
          "2022-03-05T00:00:00.000000000",
          "2022-03-12T00:00:00.000000000",
          "2022-03-19T00:00:00.000000000",
          "2022-03-26T00:00:00.000000000",
          "2022-04-02T00:00:00.000000000",
          "2022-04-09T00:00:00.000000000",
          "2022-04-16T00:00:00.000000000",
          "2022-04-23T00:00:00.000000000",
          "2022-04-30T00:00:00.000000000",
          "2022-05-07T00:00:00.000000000",
          "2022-05-14T00:00:00.000000000",
          "2022-05-21T00:00:00.000000000",
          "2022-05-28T00:00:00.000000000",
          "2022-06-04T00:00:00.000000000",
          "2022-06-11T00:00:00.000000000",
          "2022-06-18T00:00:00.000000000",
          "2022-06-25T00:00:00.000000000",
          "2022-07-02T00:00:00.000000000",
          "2022-07-09T00:00:00.000000000",
          "2022-07-16T00:00:00.000000000",
          "2022-07-23T00:00:00.000000000",
          "2022-07-30T00:00:00.000000000",
          "2022-08-06T00:00:00.000000000",
          "2022-08-13T00:00:00.000000000",
          "2022-08-20T00:00:00.000000000",
          "2022-08-27T00:00:00.000000000",
          "2022-09-03T00:00:00.000000000",
          "2022-09-10T00:00:00.000000000",
          "2022-09-17T00:00:00.000000000",
          "2022-09-24T00:00:00.000000000",
          "2022-10-01T00:00:00.000000000",
          "2022-10-08T00:00:00.000000000",
          "2022-10-15T00:00:00.000000000",
          "2022-10-22T00:00:00.000000000",
          "2022-10-29T00:00:00.000000000",
          "2022-11-05T00:00:00.000000000",
          "2022-11-12T00:00:00.000000000",
          "2022-11-19T00:00:00.000000000",
          "2022-11-26T00:00:00.000000000",
          "2022-12-03T00:00:00.000000000",
          "2022-12-10T00:00:00.000000000",
          "2022-12-17T00:00:00.000000000",
          "2022-12-24T00:00:00.000000000",
          "2022-12-31T00:00:00.000000000",
          "2023-01-07T00:00:00.000000000",
          "2023-01-14T00:00:00.000000000",
          "2023-01-21T00:00:00.000000000",
          "2023-01-28T00:00:00.000000000",
          "2023-02-04T00:00:00.000000000",
          "2023-02-11T00:00:00.000000000",
          "2023-02-18T00:00:00.000000000",
          "2023-02-25T00:00:00.000000000",
          "2023-03-04T00:00:00.000000000",
          "2023-03-11T00:00:00.000000000",
          "2023-03-18T00:00:00.000000000",
          "2023-03-25T00:00:00.000000000",
          "2023-04-01T00:00:00.000000000",
          "2023-04-08T00:00:00.000000000",
          "2023-04-15T00:00:00.000000000",
          "2023-04-22T00:00:00.000000000",
          "2023-04-29T00:00:00.000000000",
          "2023-05-06T00:00:00.000000000",
          "2023-05-13T00:00:00.000000000",
          "2023-05-20T00:00:00.000000000",
          "2023-05-27T00:00:00.000000000",
          "2023-06-03T00:00:00.000000000",
          "2023-06-10T00:00:00.000000000",
          "2023-06-17T00:00:00.000000000",
          "2023-06-24T00:00:00.000000000",
          "2023-07-01T00:00:00.000000000",
          "2023-07-08T00:00:00.000000000",
          "2023-07-15T00:00:00.000000000",
          "2023-07-22T00:00:00.000000000",
          "2023-07-29T00:00:00.000000000",
          "2023-08-05T00:00:00.000000000",
          "2023-08-12T00:00:00.000000000",
          "2023-08-19T00:00:00.000000000",
          "2023-08-26T00:00:00.000000000",
          "2023-09-02T00:00:00.000000000",
          "2023-09-09T00:00:00.000000000",
          "2023-09-16T00:00:00.000000000",
          "2023-09-23T00:00:00.000000000",
          "2023-09-30T00:00:00.000000000",
          "2023-10-07T00:00:00.000000000",
          "2023-10-14T00:00:00.000000000",
          "2023-10-21T00:00:00.000000000",
          "2023-10-28T00:00:00.000000000",
          "2023-11-04T00:00:00.000000000",
          "2023-11-11T00:00:00.000000000",
          "2023-11-18T00:00:00.000000000",
          "2023-11-25T00:00:00.000000000",
          "2023-12-02T00:00:00.000000000",
          "2023-12-09T00:00:00.000000000",
          "2023-12-16T00:00:00.000000000",
          "2023-12-23T00:00:00.000000000",
          "2023-12-30T00:00:00.000000000",
          "2024-01-06T00:00:00.000000000",
          "2024-01-13T00:00:00.000000000",
          "2024-01-20T00:00:00.000000000",
          "2024-01-27T00:00:00.000000000",
          "2024-02-03T00:00:00.000000000",
          "2024-02-10T00:00:00.000000000",
          "2024-02-17T00:00:00.000000000",
          "2024-02-24T00:00:00.000000000",
          "2024-03-02T00:00:00.000000000",
          "2024-03-09T00:00:00.000000000",
          "2024-03-16T00:00:00.000000000",
          "2024-03-23T00:00:00.000000000",
          "2024-03-30T00:00:00.000000000",
          "2024-04-06T00:00:00.000000000",
          "2024-04-13T00:00:00.000000000",
          "2024-04-20T00:00:00.000000000",
          "2024-04-27T00:00:00.000000000",
          "2024-05-04T00:00:00.000000000",
          "2024-05-11T00:00:00.000000000",
          "2024-05-18T00:00:00.000000000",
          "2024-05-25T00:00:00.000000000",
          "2024-06-01T00:00:00.000000000",
          "2024-06-08T00:00:00.000000000",
          "2024-06-15T00:00:00.000000000",
          "2024-06-22T00:00:00.000000000",
          "2024-06-29T00:00:00.000000000",
          "2024-07-06T00:00:00.000000000",
          "2024-07-13T00:00:00.000000000",
          "2024-07-20T00:00:00.000000000",
          "2024-07-27T00:00:00.000000000",
          "2024-08-03T00:00:00.000000000",
          "2024-08-10T00:00:00.000000000",
          "2024-08-17T00:00:00.000000000",
          "2024-08-24T00:00:00.000000000",
          "2024-08-31T00:00:00.000000000",
          "2024-09-07T00:00:00.000000000",
          "2024-09-14T00:00:00.000000000",
          "2024-09-21T00:00:00.000000000",
          "2024-09-28T00:00:00.000000000",
          "2024-10-05T00:00:00.000000000",
          "2024-10-12T00:00:00.000000000",
          "2024-10-19T00:00:00.000000000",
          "2024-10-26T00:00:00.000000000",
          "2024-11-02T00:00:00.000000000",
          "2024-11-09T00:00:00.000000000",
          "2024-11-16T00:00:00.000000000",
          "2024-11-23T00:00:00.000000000",
          "2024-11-30T00:00:00.000000000",
          "2024-12-07T00:00:00.000000000",
          "2024-12-14T00:00:00.000000000",
          "2024-12-21T00:00:00.000000000",
          "2024-12-28T00:00:00.000000000",
          "2025-01-04T00:00:00.000000000",
          "2025-01-11T00:00:00.000000000",
          "2025-01-18T00:00:00.000000000",
          "2025-01-25T00:00:00.000000000",
          "2025-02-01T00:00:00.000000000",
          "2025-02-08T00:00:00.000000000",
          "2025-02-15T00:00:00.000000000"
         ],
         "xaxis": "x",
         "y": {
          "bdata": "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",
          "dtype": "f8"
         },
         "yaxis": "y"
        }
       ],
       "layout": {
        "annotations": [
         {
          "align": "left",
          "bgcolor": "rgba(255, 255, 255, 0.8)",
          "bordercolor": "black",
          "borderwidth": 1,
          "font": {
           "size": 10
          },
          "showarrow": false,
          "text": "Source: Trading Economics<br>Original Source: U.S. Department of Labor<br>Frequency: W-SAT<br>",
          "x": 0,
          "xanchor": "left",
          "xref": "paper",
          "y": -0.2,
          "yanchor": "bottom",
          "yref": "paper"
         }
        ],
        "legend": {
         "orientation": "h",
         "title": {
          "text": ""
         },
         "tracegroupgap": 0,
         "x": 0.5,
         "xanchor": "center",
         "y": -0.2,
         "yanchor": "bottom"
        },
        "margin": {
         "t": 60
        },
        "template": {
         "data": {
          "bar": [
           {
            "error_x": {
             "color": "#2a3f5f"
            },
            "error_y": {
             "color": "#2a3f5f"
            },
            "marker": {
             "line": {
              "color": "#E5ECF6",
              "width": 0.5
             },
             "pattern": {
              "fillmode": "overlay",
              "size": 10,
              "solidity": 0.2
             }
            },
            "type": "bar"
           }
          ],
          "barpolar": [
           {
            "marker": {
             "line": {
              "color": "#E5ECF6",
              "width": 0.5
             },
             "pattern": {
              "fillmode": "overlay",
              "size": 10,
              "solidity": 0.2
             }
            },
            "type": "barpolar"
           }
          ],
          "carpet": [
           {
            "aaxis": {
             "endlinecolor": "#2a3f5f",
             "gridcolor": "white",
             "linecolor": "white",
             "minorgridcolor": "white",
             "startlinecolor": "#2a3f5f"
            },
            "baxis": {
             "endlinecolor": "#2a3f5f",
             "gridcolor": "white",
             "linecolor": "white",
             "minorgridcolor": "white",
             "startlinecolor": "#2a3f5f"
            },
            "type": "carpet"
           }
          ],
          "choropleth": [
           {
            "colorbar": {
             "outlinewidth": 0,
             "ticks": ""
            },
            "type": "choropleth"
           }
          ],
          "contour": [
           {
            "colorbar": {
             "outlinewidth": 0,
             "ticks": ""
            },
            "colorscale": [
             [
              0,
              "#0d0887"
             ],
             [
              0.1111111111111111,
              "#46039f"
             ],
             [
              0.2222222222222222,
              "#7201a8"
             ],
             [
              0.3333333333333333,
              "#9c179e"
             ],
             [
              0.4444444444444444,
              "#bd3786"
             ],
             [
              0.5555555555555556,
              "#d8576b"
             ],
             [
              0.6666666666666666,
              "#ed7953"
             ],
             [
              0.7777777777777778,
              "#fb9f3a"
             ],
             [
              0.8888888888888888,
              "#fdca26"
             ],
             [
              1,
              "#f0f921"
             ]
            ],
            "type": "contour"
           }
          ],
          "contourcarpet": [
           {
            "colorbar": {
             "outlinewidth": 0,
             "ticks": ""
            },
            "type": "contourcarpet"
           }
          ],
          "heatmap": [
           {
            "colorbar": {
             "outlinewidth": 0,
             "ticks": ""
            },
            "colorscale": [
             [
              0,
              "#0d0887"
             ],
             [
              0.1111111111111111,
              "#46039f"
             ],
             [
              0.2222222222222222,
              "#7201a8"
             ],
             [
              0.3333333333333333,
              "#9c179e"
             ],
             [
              0.4444444444444444,
              "#bd3786"
             ],
             [
              0.5555555555555556,
              "#d8576b"
             ],
             [
              0.6666666666666666,
              "#ed7953"
             ],
             [
              0.7777777777777778,
              "#fb9f3a"
             ],
             [
              0.8888888888888888,
              "#fdca26"
             ],
             [
              1,
              "#f0f921"
             ]
            ],
            "type": "heatmap"
           }
          ],
          "histogram": [
           {
            "marker": {
             "pattern": {
              "fillmode": "overlay",
              "size": 10,
              "solidity": 0.2
             }
            },
            "type": "histogram"
           }
          ],
          "histogram2d": [
           {
            "colorbar": {
             "outlinewidth": 0,
             "ticks": ""
            },
            "colorscale": [
             [
              0,
              "#0d0887"
             ],
             [
              0.1111111111111111,
              "#46039f"
             ],
             [
              0.2222222222222222,
              "#7201a8"
             ],
             [
              0.3333333333333333,
              "#9c179e"
             ],
             [
              0.4444444444444444,
              "#bd3786"
             ],
             [
              0.5555555555555556,
              "#d8576b"
             ],
             [
              0.6666666666666666,
              "#ed7953"
             ],
             [
              0.7777777777777778,
              "#fb9f3a"
             ],
             [
              0.8888888888888888,
              "#fdca26"
             ],
             [
              1,
              "#f0f921"
             ]
            ],
            "type": "histogram2d"
           }
          ],
          "histogram2dcontour": [
           {
            "colorbar": {
             "outlinewidth": 0,
             "ticks": ""
            },
            "colorscale": [
             [
              0,
              "#0d0887"
             ],
             [
              0.1111111111111111,
              "#46039f"
             ],
             [
              0.2222222222222222,
              "#7201a8"
             ],
             [
              0.3333333333333333,
              "#9c179e"
             ],
             [
              0.4444444444444444,
              "#bd3786"
             ],
             [
              0.5555555555555556,
              "#d8576b"
             ],
             [
              0.6666666666666666,
              "#ed7953"
             ],
             [
              0.7777777777777778,
              "#fb9f3a"
             ],
             [
              0.8888888888888888,
              "#fdca26"
             ],
             [
              1,
              "#f0f921"
             ]
            ],
            "type": "histogram2dcontour"
           }
          ],
          "mesh3d": [
           {
            "colorbar": {
             "outlinewidth": 0,
             "ticks": ""
            },
            "type": "mesh3d"
           }
          ],
          "parcoords": [
           {
            "line": {
             "colorbar": {
              "outlinewidth": 0,
              "ticks": ""
             }
            },
            "type": "parcoords"
           }
          ],
          "pie": [
           {
            "automargin": true,
            "type": "pie"
           }
          ],
          "scatter": [
           {
            "fillpattern": {
             "fillmode": "overlay",
             "size": 10,
             "solidity": 0.2
            },
            "type": "scatter"
           }
          ],
          "scatter3d": [
           {
            "line": {
             "colorbar": {
              "outlinewidth": 0,
              "ticks": ""
             }
            },
            "marker": {
             "colorbar": {
              "outlinewidth": 0,
              "ticks": ""
             }
            },
            "type": "scatter3d"
           }
          ],
          "scattercarpet": [
           {
            "marker": {
             "colorbar": {
              "outlinewidth": 0,
              "ticks": ""
             }
            },
            "type": "scattercarpet"
           }
          ],
          "scattergeo": [
           {
            "marker": {
             "colorbar": {
              "outlinewidth": 0,
              "ticks": ""
             }
            },
            "type": "scattergeo"
           }
          ],
          "scattergl": [
           {
            "marker": {
             "colorbar": {
              "outlinewidth": 0,
              "ticks": ""
             }
            },
            "type": "scattergl"
           }
          ],
          "scattermap": [
           {
            "marker": {
             "colorbar": {
              "outlinewidth": 0,
              "ticks": ""
             }
            },
            "type": "scattermap"
           }
          ],
          "scattermapbox": [
           {
            "marker": {
             "colorbar": {
              "outlinewidth": 0,
              "ticks": ""
             }
            },
            "type": "scattermapbox"
           }
          ],
          "scatterpolar": [
           {
            "marker": {
             "colorbar": {
              "outlinewidth": 0,
              "ticks": ""
             }
            },
            "type": "scatterpolar"
           }
          ],
          "scatterpolargl": [
           {
            "marker": {
             "colorbar": {
              "outlinewidth": 0,
              "ticks": ""
             }
            },
            "type": "scatterpolargl"
           }
          ],
          "scatterternary": [
           {
            "marker": {
             "colorbar": {
              "outlinewidth": 0,
              "ticks": ""
             }
            },
            "type": "scatterternary"
           }
          ],
          "surface": [
           {
            "colorbar": {
             "outlinewidth": 0,
             "ticks": ""
            },
            "colorscale": [
             [
              0,
              "#0d0887"
             ],
             [
              0.1111111111111111,
              "#46039f"
             ],
             [
              0.2222222222222222,
              "#7201a8"
             ],
             [
              0.3333333333333333,
              "#9c179e"
             ],
             [
              0.4444444444444444,
              "#bd3786"
             ],
             [
              0.5555555555555556,
              "#d8576b"
             ],
             [
              0.6666666666666666,
              "#ed7953"
             ],
             [
              0.7777777777777778,
              "#fb9f3a"
             ],
             [
              0.8888888888888888,
              "#fdca26"
             ],
             [
              1,
              "#f0f921"
             ]
            ],
            "type": "surface"
           }
          ],
          "table": [
           {
            "cells": {
             "fill": {
              "color": "#EBF0F8"
             },
             "line": {
              "color": "white"
             }
            },
            "header": {
             "fill": {
              "color": "#C8D4E3"
             },
             "line": {
              "color": "white"
             }
            },
            "type": "table"
           }
          ]
         },
         "layout": {
          "annotationdefaults": {
           "arrowcolor": "#2a3f5f",
           "arrowhead": 0,
           "arrowwidth": 1
          },
          "autotypenumbers": "strict",
          "coloraxis": {
           "colorbar": {
            "outlinewidth": 0,
            "ticks": ""
           }
          },
          "colorscale": {
           "diverging": [
            [
             0,
             "#8e0152"
            ],
            [
             0.1,
             "#c51b7d"
            ],
            [
             0.2,
             "#de77ae"
            ],
            [
             0.3,
             "#f1b6da"
            ],
            [
             0.4,
             "#fde0ef"
            ],
            [
             0.5,
             "#f7f7f7"
            ],
            [
             0.6,
             "#e6f5d0"
            ],
            [
             0.7,
             "#b8e186"
            ],
            [
             0.8,
             "#7fbc41"
            ],
            [
             0.9,
             "#4d9221"
            ],
            [
             1,
             "#276419"
            ]
           ],
           "sequential": [
            [
             0,
             "#0d0887"
            ],
            [
             0.1111111111111111,
             "#46039f"
            ],
            [
             0.2222222222222222,
             "#7201a8"
            ],
            [
             0.3333333333333333,
             "#9c179e"
            ],
            [
             0.4444444444444444,
             "#bd3786"
            ],
            [
             0.5555555555555556,
             "#d8576b"
            ],
            [
             0.6666666666666666,
             "#ed7953"
            ],
            [
             0.7777777777777778,
             "#fb9f3a"
            ],
            [
             0.8888888888888888,
             "#fdca26"
            ],
            [
             1,
             "#f0f921"
            ]
           ],
           "sequentialminus": [
            [
             0,
             "#0d0887"
            ],
            [
             0.1111111111111111,
             "#46039f"
            ],
            [
             0.2222222222222222,
             "#7201a8"
            ],
            [
             0.3333333333333333,
             "#9c179e"
            ],
            [
             0.4444444444444444,
             "#bd3786"
            ],
            [
             0.5555555555555556,
             "#d8576b"
            ],
            [
             0.6666666666666666,
             "#ed7953"
            ],
            [
             0.7777777777777778,
             "#fb9f3a"
            ],
            [
             0.8888888888888888,
             "#fdca26"
            ],
            [
             1,
             "#f0f921"
            ]
           ]
          },
          "colorway": [
           "#636efa",
           "#EF553B",
           "#00cc96",
           "#ab63fa",
           "#FFA15A",
           "#19d3f3",
           "#FF6692",
           "#B6E880",
           "#FF97FF",
           "#FECB52"
          ],
          "font": {
           "color": "#2a3f5f"
          },
          "geo": {
           "bgcolor": "white",
           "lakecolor": "white",
           "landcolor": "#E5ECF6",
           "showlakes": true,
           "showland": true,
           "subunitcolor": "white"
          },
          "hoverlabel": {
           "align": "left"
          },
          "hovermode": "closest",
          "mapbox": {
           "style": "light"
          },
          "paper_bgcolor": "white",
          "plot_bgcolor": "#E5ECF6",
          "polar": {
           "angularaxis": {
            "gridcolor": "white",
            "linecolor": "white",
            "ticks": ""
           },
           "bgcolor": "#E5ECF6",
           "radialaxis": {
            "gridcolor": "white",
            "linecolor": "white",
            "ticks": ""
           }
          },
          "scene": {
           "xaxis": {
            "backgroundcolor": "#E5ECF6",
            "gridcolor": "white",
            "gridwidth": 2,
            "linecolor": "white",
            "showbackground": true,
            "ticks": "",
            "zerolinecolor": "white"
           },
           "yaxis": {
            "backgroundcolor": "#E5ECF6",
            "gridcolor": "white",
            "gridwidth": 2,
            "linecolor": "white",
            "showbackground": true,
            "ticks": "",
            "zerolinecolor": "white"
           },
           "zaxis": {
            "backgroundcolor": "#E5ECF6",
            "gridcolor": "white",
            "gridwidth": 2,
            "linecolor": "white",
            "showbackground": true,
            "ticks": "",
            "zerolinecolor": "white"
           }
          },
          "shapedefaults": {
           "line": {
            "color": "#2a3f5f"
           }
          },
          "ternary": {
           "aaxis": {
            "gridcolor": "white",
            "linecolor": "white",
            "ticks": ""
           },
           "baxis": {
            "gridcolor": "white",
            "linecolor": "white",
            "ticks": ""
           },
           "bgcolor": "#E5ECF6",
           "caxis": {
            "gridcolor": "white",
            "linecolor": "white",
            "ticks": ""
           }
          },
          "title": {
           "x": 0.05
          },
          "xaxis": {
           "automargin": true,
           "gridcolor": "white",
           "linecolor": "white",
           "ticks": "",
           "title": {
            "standoff": 15
           },
           "zerolinecolor": "white",
           "zerolinewidth": 2
          },
          "yaxis": {
           "automargin": true,
           "gridcolor": "white",
           "linecolor": "white",
           "ticks": "",
           "title": {
            "standoff": 15
           },
           "zerolinecolor": "white",
           "zerolinewidth": 2
          }
         }
        },
        "title": {
         "text": "United states: United states initial jobless claims"
        },
        "xaxis": {
         "anchor": "y",
         "domain": [
          0,
          1
         ],
         "title": {
          "text": ""
         }
        },
        "yaxis": {
         "anchor": "x",
         "domain": [
          0,
          1
         ],
         "title": {
          "text": "Thousand"
         }
        }
       }
      }
     },
     "metadata": {},
     "output_type": "display_data"
    }
   ],
   "source": [
    "scraped.plot_series()   #Plotting the series"
   ]
  },
  {
   "cell_type": "markdown",
   "metadata": {},
   "source": [
    "# Method #3: Debug method - manually run through the steps.\n",
    "\n",
    "If you get an error on trying load_page method, something like the examples below: \n",
    "- Error loading page: Message: Failed to decode response from marionette\n",
    "- Error loading page: Message: Tried to run command without establishing a connection\n",
    "\n",
    "You need to start a new webdriver instance. Reinitilize your TE_Scraper object and set: ```use_existing_driver = False```"
   ]
  },
  {
   "cell_type": "code",
   "execution_count": 51,
   "metadata": {},
   "outputs": [
    {
     "name": "stderr",
     "output_type": "stream",
     "text": [
      "INFO - New firefox webdriver created.\n"
     ]
    }
   ],
   "source": [
    "scr = ted.TE_Scraper(use_existing_driver = False, headless = False)  ## Initialize a new TE_scraper object."
   ]
  },
  {
   "cell_type": "code",
   "execution_count": 52,
   "metadata": {},
   "outputs": [
    {
     "name": "stderr",
     "output_type": "stream",
     "text": [
      "INFO - WebPage at https://tradingeconomics.com/united-states/ism-non-manufacturing-new-orders loaded successfully.\n",
      "INFO - Chart types dictionary created successfully: dict_keys(['Column', 'Spline', 'Areaspline', 'Stepline', 'Line', 'Area'])\n"
     ]
    },
    {
     "data": {
      "text/plain": [
       "True"
      ]
     },
     "execution_count": 52,
     "metadata": {},
     "output_type": "execute_result"
    }
   ],
   "source": [
    "scr.load_page('https://tradingeconomics.com/united-states/ism-non-manufacturing-new-orders')"
   ]
  },
  {
   "cell_type": "code",
   "execution_count": 37,
   "metadata": {},
   "outputs": [
    {
     "name": "stdout",
     "output_type": "stream",
     "text": [
      "Using selenium and tooltip scraping to construct the date time index for the time-series, this'll take a bit...\n"
     ]
    },
    {
     "name": "stderr",
     "output_type": "stream",
     "text": [
      "INFO - Date span set to: 1Y\n",
      "INFO - Chart type set to: Spline\n"
     ]
    },
    {
     "name": "stdout",
     "output_type": "stream",
     "text": [
      "Latest dates:  ['Jan 2025', 'Dec 2024', 'Nov 2024', 'Oct 2024', 'Sep 2024', 'Aug 2024', 'Jul 2024', 'Jun 2024', 'May 2024', 'Apr 2024']\n",
      "Frequency of time-series:  MS\n",
      "get_xlims_from_tooltips method: date_span:  1Y , chart_type: splineChart\n"
     ]
    },
    {
     "name": "stderr",
     "output_type": "stream",
     "text": [
      "INFO - Date span set to: MAX\n",
      "INFO - Chart type set to: Spline\n"
     ]
    },
    {
     "name": "stdout",
     "output_type": "stream",
     "text": [
      "Got chart dimensions and plot background element.\n"
     ]
    },
    {
     "name": "stderr",
     "output_type": "stream",
     "text": [
      "INFO - Start and end values scraped from tooltips: \n",
      "{'start_date': Timestamp('1997-07-01 00:00:00'), 'start_value': 58.8, 'end_date': Timestamp('2025-01-01 00:00:00'), 'end_value': 51.3}\n",
      "INFO - DateTimeIndex created successfully for the time-series.\n"
     ]
    },
    {
     "data": {
      "text/plain": [
       "DatetimeIndex(['1997-07-01', '1997-08-01', '1997-09-01', '1997-10-01',\n",
       "               '1997-11-01', '1997-12-01', '1998-01-01', '1998-02-01',\n",
       "               '1998-03-01', '1998-04-01',\n",
       "               ...\n",
       "               '2024-04-01', '2024-05-01', '2024-06-01', '2024-07-01',\n",
       "               '2024-08-01', '2024-09-01', '2024-10-01', '2024-11-01',\n",
       "               '2024-12-01', '2025-01-01'],\n",
       "              dtype='datetime64[ns]', length=331, freq='MS')"
      ]
     },
     "execution_count": 37,
     "metadata": {},
     "output_type": "execute_result"
    }
   ],
   "source": [
    "scr.make_x_index(force_rerun_freqdet=True, force_rerun_xlims=True) ## Create the x_index for the series first."
   ]
  },
  {
   "cell_type": "code",
   "execution_count": 38,
   "metadata": {},
   "outputs": [
    {
     "name": "stderr",
     "output_type": "stream",
     "text": [
      "INFO - Y-axis values scraped successfully.\n"
     ]
    },
    {
     "data": {
      "text/plain": [
       "pixheight\n",
       "39.5     30.0\n",
       "89.5     37.0\n",
       "138.5    44.0\n",
       "188.5    51.0\n",
       "237.5    58.0\n",
       "286.5    65.0\n",
       "335.5    72.0\n",
       "Name: ytick_label, dtype: float64"
      ]
     },
     "execution_count": 38,
     "metadata": {},
     "output_type": "execute_result"
    }
   ],
   "source": [
    "scr.get_y_axis(set_global_y_axis=True)   ## Get the y-axis tick positions (pixel co-ordinates) and values, will set the global y-axis attribute since date_span is set to MAX."
   ]
  },
  {
   "cell_type": "code",
   "execution_count": 39,
   "metadata": {},
   "outputs": [
    {
     "name": "stdout",
     "output_type": "stream",
     "text": [
      "{'Column': 'barChart', 'Spline': 'splineChart', 'Areaspline': 'areasplineChart', 'Stepline': 'stepLine', 'Line': 'lineChart', 'Area': 'areaChart'} \n",
      " {'Column': '.barChart .dkLabels-label-btn', 'Spline': '.splineChart .dkLabels-label-btn', 'Areaspline': '.areasplineChart .dkLabels-label-btn', 'Stepline': '.stepLine .dkLabels-label-btn', 'Line': '.lineChart .dkLabels-label-btn', 'Area': '.areaChart .dkLabels-label-btn'}\n"
     ]
    }
   ],
   "source": [
    "print(scr.expected_types, \"\\n\", scr.chart_types)"
   ]
  },
  {
   "cell_type": "code",
   "execution_count": 40,
   "metadata": {},
   "outputs": [
    {
     "name": "stderr",
     "output_type": "stream",
     "text": [
      "INFO - Series path extraction method: Extracting series data from chart soup.\n",
      "INFO - Date span: MAX. Chart type: splineChart, URL: https://tradingeconomics.com/united-states/ism-non-manufacturing-new-orders.\n"
     ]
    },
    {
     "data": {
      "text/plain": [
       "0.000000      242.785714\n",
       "0.000000      242.785714\n",
       "1.249751      252.619048\n",
       "2.082919      252.619048\n",
       "2.916086      252.619048\n",
       "                 ...    \n",
       "672.110790    211.880952\n",
       "672.917081    211.880952\n",
       "673.750249    211.880952\n",
       "675.000000    190.107143\n",
       "675.000000    190.107143\n",
       "Name: Extracted Series, Length: 991, dtype: float64"
      ]
     },
     "execution_count": 40,
     "metadata": {},
     "output_type": "execute_result"
    }
   ],
   "source": [
    "scr.series_from_chart_soup(set_max_datespan=True) ## Get the full series from the path element of the data trace on the svg chart.\n",
    "scr.series"
   ]
  },
  {
   "cell_type": "code",
   "execution_count": 41,
   "metadata": {},
   "outputs": [
    {
     "name": "stderr",
     "output_type": "stream",
     "text": [
      "INFO - DateTimeIndex applied to series, series attribute updated.\n"
     ]
    }
   ],
   "source": [
    "scr.apply_x_index()  ## Apply the x-axis index to the series."
   ]
  },
  {
   "cell_type": "code",
   "execution_count": 42,
   "metadata": {},
   "outputs": [
    {
     "data": {
      "text/plain": [
       "1997-07-01    242.785714\n",
       "1997-08-01    252.619048\n",
       "1997-09-01    246.297619\n",
       "1997-10-01    256.833333\n",
       "1997-11-01    247.748439\n",
       "                 ...    \n",
       "2024-09-01    247.000000\n",
       "2024-10-01    228.035714\n",
       "2024-11-01    210.476190\n",
       "2024-12-01    211.880952\n",
       "2025-01-01    190.107143\n",
       "Freq: MS, Name: ism non manufacturing new orders, Length: 331, dtype: float64"
      ]
     },
     "execution_count": 42,
     "metadata": {},
     "output_type": "execute_result"
    }
   ],
   "source": [
    "scr.series"
   ]
  },
  {
   "cell_type": "markdown",
   "metadata": {},
   "source": [
    "At this point the value in the data-series are still the pixel co-ordinates in the svg image of the chart."
   ]
  },
  {
   "cell_type": "code",
   "execution_count": 43,
   "metadata": {},
   "outputs": [
    {
     "data": {
      "application/vnd.plotly.v1+json": {
       "config": {
        "plotlyServerURL": "https://plot.ly"
       },
       "data": [
        {
         "hovertemplate": "variable=ism non manufacturing new orders<br>index=%{x}<br>value=%{y}<extra></extra>",
         "legendgroup": "ism non manufacturing new orders",
         "line": {
          "color": "#636efa",
          "dash": "solid"
         },
         "marker": {
          "symbol": "circle"
         },
         "mode": "lines",
         "name": "ism non manufacturing new orders",
         "orientation": "v",
         "showlegend": true,
         "type": "scatter",
         "x": [
          "1997-07-01T00:00:00.000000000",
          "1997-08-01T00:00:00.000000000",
          "1997-09-01T00:00:00.000000000",
          "1997-10-01T00:00:00.000000000",
          "1997-11-01T00:00:00.000000000",
          "1997-12-01T00:00:00.000000000",
          "1998-01-01T00:00:00.000000000",
          "1998-02-01T00:00:00.000000000",
          "1998-03-01T00:00:00.000000000",
          "1998-04-01T00:00:00.000000000",
          "1998-05-01T00:00:00.000000000",
          "1998-06-01T00:00:00.000000000",
          "1998-07-01T00:00:00.000000000",
          "1998-08-01T00:00:00.000000000",
          "1998-09-01T00:00:00.000000000",
          "1998-10-01T00:00:00.000000000",
          "1998-11-01T00:00:00.000000000",
          "1998-12-01T00:00:00.000000000",
          "1999-01-01T00:00:00.000000000",
          "1999-02-01T00:00:00.000000000",
          "1999-03-01T00:00:00.000000000",
          "1999-04-01T00:00:00.000000000",
          "1999-05-01T00:00:00.000000000",
          "1999-06-01T00:00:00.000000000",
          "1999-07-01T00:00:00.000000000",
          "1999-08-01T00:00:00.000000000",
          "1999-09-01T00:00:00.000000000",
          "1999-10-01T00:00:00.000000000",
          "1999-11-01T00:00:00.000000000",
          "1999-12-01T00:00:00.000000000",
          "2000-01-01T00:00:00.000000000",
          "2000-02-01T00:00:00.000000000",
          "2000-03-01T00:00:00.000000000",
          "2000-04-01T00:00:00.000000000",
          "2000-05-01T00:00:00.000000000",
          "2000-06-01T00:00:00.000000000",
          "2000-07-01T00:00:00.000000000",
          "2000-08-01T00:00:00.000000000",
          "2000-09-01T00:00:00.000000000",
          "2000-10-01T00:00:00.000000000",
          "2000-11-01T00:00:00.000000000",
          "2000-12-01T00:00:00.000000000",
          "2001-01-01T00:00:00.000000000",
          "2001-02-01T00:00:00.000000000",
          "2001-03-01T00:00:00.000000000",
          "2001-04-01T00:00:00.000000000",
          "2001-05-01T00:00:00.000000000",
          "2001-06-01T00:00:00.000000000",
          "2001-07-01T00:00:00.000000000",
          "2001-08-01T00:00:00.000000000",
          "2001-09-01T00:00:00.000000000",
          "2001-10-01T00:00:00.000000000",
          "2001-11-01T00:00:00.000000000",
          "2001-12-01T00:00:00.000000000",
          "2002-01-01T00:00:00.000000000",
          "2002-02-01T00:00:00.000000000",
          "2002-03-01T00:00:00.000000000",
          "2002-04-01T00:00:00.000000000",
          "2002-05-01T00:00:00.000000000",
          "2002-06-01T00:00:00.000000000",
          "2002-07-01T00:00:00.000000000",
          "2002-08-01T00:00:00.000000000",
          "2002-09-01T00:00:00.000000000",
          "2002-10-01T00:00:00.000000000",
          "2002-11-01T00:00:00.000000000",
          "2002-12-01T00:00:00.000000000",
          "2003-01-01T00:00:00.000000000",
          "2003-02-01T00:00:00.000000000",
          "2003-03-01T00:00:00.000000000",
          "2003-04-01T00:00:00.000000000",
          "2003-05-01T00:00:00.000000000",
          "2003-06-01T00:00:00.000000000",
          "2003-07-01T00:00:00.000000000",
          "2003-08-01T00:00:00.000000000",
          "2003-09-01T00:00:00.000000000",
          "2003-10-01T00:00:00.000000000",
          "2003-11-01T00:00:00.000000000",
          "2003-12-01T00:00:00.000000000",
          "2004-01-01T00:00:00.000000000",
          "2004-02-01T00:00:00.000000000",
          "2004-03-01T00:00:00.000000000",
          "2004-04-01T00:00:00.000000000",
          "2004-05-01T00:00:00.000000000",
          "2004-06-01T00:00:00.000000000",
          "2004-07-01T00:00:00.000000000",
          "2004-08-01T00:00:00.000000000",
          "2004-09-01T00:00:00.000000000",
          "2004-10-01T00:00:00.000000000",
          "2004-11-01T00:00:00.000000000",
          "2004-12-01T00:00:00.000000000",
          "2005-01-01T00:00:00.000000000",
          "2005-02-01T00:00:00.000000000",
          "2005-03-01T00:00:00.000000000",
          "2005-04-01T00:00:00.000000000",
          "2005-05-01T00:00:00.000000000",
          "2005-06-01T00:00:00.000000000",
          "2005-07-01T00:00:00.000000000",
          "2005-08-01T00:00:00.000000000",
          "2005-09-01T00:00:00.000000000",
          "2005-10-01T00:00:00.000000000",
          "2005-11-01T00:00:00.000000000",
          "2005-12-01T00:00:00.000000000",
          "2006-01-01T00:00:00.000000000",
          "2006-02-01T00:00:00.000000000",
          "2006-03-01T00:00:00.000000000",
          "2006-04-01T00:00:00.000000000",
          "2006-05-01T00:00:00.000000000",
          "2006-06-01T00:00:00.000000000",
          "2006-07-01T00:00:00.000000000",
          "2006-08-01T00:00:00.000000000",
          "2006-09-01T00:00:00.000000000",
          "2006-10-01T00:00:00.000000000",
          "2006-11-01T00:00:00.000000000",
          "2006-12-01T00:00:00.000000000",
          "2007-01-01T00:00:00.000000000",
          "2007-02-01T00:00:00.000000000",
          "2007-03-01T00:00:00.000000000",
          "2007-04-01T00:00:00.000000000",
          "2007-05-01T00:00:00.000000000",
          "2007-06-01T00:00:00.000000000",
          "2007-07-01T00:00:00.000000000",
          "2007-08-01T00:00:00.000000000",
          "2007-09-01T00:00:00.000000000",
          "2007-10-01T00:00:00.000000000",
          "2007-11-01T00:00:00.000000000",
          "2007-12-01T00:00:00.000000000",
          "2008-01-01T00:00:00.000000000",
          "2008-02-01T00:00:00.000000000",
          "2008-03-01T00:00:00.000000000",
          "2008-04-01T00:00:00.000000000",
          "2008-05-01T00:00:00.000000000",
          "2008-06-01T00:00:00.000000000",
          "2008-07-01T00:00:00.000000000",
          "2008-08-01T00:00:00.000000000",
          "2008-09-01T00:00:00.000000000",
          "2008-10-01T00:00:00.000000000",
          "2008-11-01T00:00:00.000000000",
          "2008-12-01T00:00:00.000000000",
          "2009-01-01T00:00:00.000000000",
          "2009-02-01T00:00:00.000000000",
          "2009-03-01T00:00:00.000000000",
          "2009-04-01T00:00:00.000000000",
          "2009-05-01T00:00:00.000000000",
          "2009-06-01T00:00:00.000000000",
          "2009-07-01T00:00:00.000000000",
          "2009-08-01T00:00:00.000000000",
          "2009-09-01T00:00:00.000000000",
          "2009-10-01T00:00:00.000000000",
          "2009-11-01T00:00:00.000000000",
          "2009-12-01T00:00:00.000000000",
          "2010-01-01T00:00:00.000000000",
          "2010-02-01T00:00:00.000000000",
          "2010-03-01T00:00:00.000000000",
          "2010-04-01T00:00:00.000000000",
          "2010-05-01T00:00:00.000000000",
          "2010-06-01T00:00:00.000000000",
          "2010-07-01T00:00:00.000000000",
          "2010-08-01T00:00:00.000000000",
          "2010-09-01T00:00:00.000000000",
          "2010-10-01T00:00:00.000000000",
          "2010-11-01T00:00:00.000000000",
          "2010-12-01T00:00:00.000000000",
          "2011-01-01T00:00:00.000000000",
          "2011-02-01T00:00:00.000000000",
          "2011-03-01T00:00:00.000000000",
          "2011-04-01T00:00:00.000000000",
          "2011-05-01T00:00:00.000000000",
          "2011-06-01T00:00:00.000000000",
          "2011-07-01T00:00:00.000000000",
          "2011-08-01T00:00:00.000000000",
          "2011-09-01T00:00:00.000000000",
          "2011-10-01T00:00:00.000000000",
          "2011-11-01T00:00:00.000000000",
          "2011-12-01T00:00:00.000000000",
          "2012-01-01T00:00:00.000000000",
          "2012-02-01T00:00:00.000000000",
          "2012-03-01T00:00:00.000000000",
          "2012-04-01T00:00:00.000000000",
          "2012-05-01T00:00:00.000000000",
          "2012-06-01T00:00:00.000000000",
          "2012-07-01T00:00:00.000000000",
          "2012-08-01T00:00:00.000000000",
          "2012-09-01T00:00:00.000000000",
          "2012-10-01T00:00:00.000000000",
          "2012-11-01T00:00:00.000000000",
          "2012-12-01T00:00:00.000000000",
          "2013-01-01T00:00:00.000000000",
          "2013-02-01T00:00:00.000000000",
          "2013-03-01T00:00:00.000000000",
          "2013-04-01T00:00:00.000000000",
          "2013-05-01T00:00:00.000000000",
          "2013-06-01T00:00:00.000000000",
          "2013-07-01T00:00:00.000000000",
          "2013-08-01T00:00:00.000000000",
          "2013-09-01T00:00:00.000000000",
          "2013-10-01T00:00:00.000000000",
          "2013-11-01T00:00:00.000000000",
          "2013-12-01T00:00:00.000000000",
          "2014-01-01T00:00:00.000000000",
          "2014-02-01T00:00:00.000000000",
          "2014-03-01T00:00:00.000000000",
          "2014-04-01T00:00:00.000000000",
          "2014-05-01T00:00:00.000000000",
          "2014-06-01T00:00:00.000000000",
          "2014-07-01T00:00:00.000000000",
          "2014-08-01T00:00:00.000000000",
          "2014-09-01T00:00:00.000000000",
          "2014-10-01T00:00:00.000000000",
          "2014-11-01T00:00:00.000000000",
          "2014-12-01T00:00:00.000000000",
          "2015-01-01T00:00:00.000000000",
          "2015-02-01T00:00:00.000000000",
          "2015-03-01T00:00:00.000000000",
          "2015-04-01T00:00:00.000000000",
          "2015-05-01T00:00:00.000000000",
          "2015-06-01T00:00:00.000000000",
          "2015-07-01T00:00:00.000000000",
          "2015-08-01T00:00:00.000000000",
          "2015-09-01T00:00:00.000000000",
          "2015-10-01T00:00:00.000000000",
          "2015-11-01T00:00:00.000000000",
          "2015-12-01T00:00:00.000000000",
          "2016-01-01T00:00:00.000000000",
          "2016-02-01T00:00:00.000000000",
          "2016-03-01T00:00:00.000000000",
          "2016-04-01T00:00:00.000000000",
          "2016-05-01T00:00:00.000000000",
          "2016-06-01T00:00:00.000000000",
          "2016-07-01T00:00:00.000000000",
          "2016-08-01T00:00:00.000000000",
          "2016-09-01T00:00:00.000000000",
          "2016-10-01T00:00:00.000000000",
          "2016-11-01T00:00:00.000000000",
          "2016-12-01T00:00:00.000000000",
          "2017-01-01T00:00:00.000000000",
          "2017-02-01T00:00:00.000000000",
          "2017-03-01T00:00:00.000000000",
          "2017-04-01T00:00:00.000000000",
          "2017-05-01T00:00:00.000000000",
          "2017-06-01T00:00:00.000000000",
          "2017-07-01T00:00:00.000000000",
          "2017-08-01T00:00:00.000000000",
          "2017-09-01T00:00:00.000000000",
          "2017-10-01T00:00:00.000000000",
          "2017-11-01T00:00:00.000000000",
          "2017-12-01T00:00:00.000000000",
          "2018-01-01T00:00:00.000000000",
          "2018-02-01T00:00:00.000000000",
          "2018-03-01T00:00:00.000000000",
          "2018-04-01T00:00:00.000000000",
          "2018-05-01T00:00:00.000000000",
          "2018-06-01T00:00:00.000000000",
          "2018-07-01T00:00:00.000000000",
          "2018-08-01T00:00:00.000000000",
          "2018-09-01T00:00:00.000000000",
          "2018-10-01T00:00:00.000000000",
          "2018-11-01T00:00:00.000000000",
          "2018-12-01T00:00:00.000000000",
          "2019-01-01T00:00:00.000000000",
          "2019-02-01T00:00:00.000000000",
          "2019-03-01T00:00:00.000000000",
          "2019-04-01T00:00:00.000000000",
          "2019-05-01T00:00:00.000000000",
          "2019-06-01T00:00:00.000000000",
          "2019-07-01T00:00:00.000000000",
          "2019-08-01T00:00:00.000000000",
          "2019-09-01T00:00:00.000000000",
          "2019-10-01T00:00:00.000000000",
          "2019-11-01T00:00:00.000000000",
          "2019-12-01T00:00:00.000000000",
          "2020-01-01T00:00:00.000000000",
          "2020-02-01T00:00:00.000000000",
          "2020-03-01T00:00:00.000000000",
          "2020-04-01T00:00:00.000000000",
          "2020-05-01T00:00:00.000000000",
          "2020-06-01T00:00:00.000000000",
          "2020-07-01T00:00:00.000000000",
          "2020-08-01T00:00:00.000000000",
          "2020-09-01T00:00:00.000000000",
          "2020-10-01T00:00:00.000000000",
          "2020-11-01T00:00:00.000000000",
          "2020-12-01T00:00:00.000000000",
          "2021-01-01T00:00:00.000000000",
          "2021-02-01T00:00:00.000000000",
          "2021-03-01T00:00:00.000000000",
          "2021-04-01T00:00:00.000000000",
          "2021-05-01T00:00:00.000000000",
          "2021-06-01T00:00:00.000000000",
          "2021-07-01T00:00:00.000000000",
          "2021-08-01T00:00:00.000000000",
          "2021-09-01T00:00:00.000000000",
          "2021-10-01T00:00:00.000000000",
          "2021-11-01T00:00:00.000000000",
          "2021-12-01T00:00:00.000000000",
          "2022-01-01T00:00:00.000000000",
          "2022-02-01T00:00:00.000000000",
          "2022-03-01T00:00:00.000000000",
          "2022-04-01T00:00:00.000000000",
          "2022-05-01T00:00:00.000000000",
          "2022-06-01T00:00:00.000000000",
          "2022-07-01T00:00:00.000000000",
          "2022-08-01T00:00:00.000000000",
          "2022-09-01T00:00:00.000000000",
          "2022-10-01T00:00:00.000000000",
          "2022-11-01T00:00:00.000000000",
          "2022-12-01T00:00:00.000000000",
          "2023-01-01T00:00:00.000000000",
          "2023-02-01T00:00:00.000000000",
          "2023-03-01T00:00:00.000000000",
          "2023-04-01T00:00:00.000000000",
          "2023-05-01T00:00:00.000000000",
          "2023-06-01T00:00:00.000000000",
          "2023-07-01T00:00:00.000000000",
          "2023-08-01T00:00:00.000000000",
          "2023-09-01T00:00:00.000000000",
          "2023-10-01T00:00:00.000000000",
          "2023-11-01T00:00:00.000000000",
          "2023-12-01T00:00:00.000000000",
          "2024-01-01T00:00:00.000000000",
          "2024-02-01T00:00:00.000000000",
          "2024-03-01T00:00:00.000000000",
          "2024-04-01T00:00:00.000000000",
          "2024-05-01T00:00:00.000000000",
          "2024-06-01T00:00:00.000000000",
          "2024-07-01T00:00:00.000000000",
          "2024-08-01T00:00:00.000000000",
          "2024-09-01T00:00:00.000000000",
          "2024-10-01T00:00:00.000000000",
          "2024-11-01T00:00:00.000000000",
          "2024-12-01T00:00:00.000000000",
          "2025-01-01T00:00:00.000000000"
         ],
         "xaxis": "x",
         "y": {
          "bdata": "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",
          "dtype": "f8"
         },
         "yaxis": "y"
        }
       ],
       "layout": {
        "annotations": [
         {
          "align": "left",
          "bgcolor": "rgba(255, 255, 255, 0.8)",
          "bordercolor": "black",
          "borderwidth": 1,
          "font": {
           "size": 10
          },
          "showarrow": false,
          "text": "Source: Trading Economics",
          "x": 0,
          "xanchor": "left",
          "xref": "paper",
          "y": -0.2,
          "yanchor": "bottom",
          "yref": "paper"
         }
        ],
        "legend": {
         "orientation": "h",
         "title": {
          "text": ""
         },
         "tracegroupgap": 0,
         "x": 0.5,
         "xanchor": "center",
         "y": -0.2,
         "yanchor": "bottom"
        },
        "margin": {
         "t": 60
        },
        "template": {
         "data": {
          "bar": [
           {
            "error_x": {
             "color": "#2a3f5f"
            },
            "error_y": {
             "color": "#2a3f5f"
            },
            "marker": {
             "line": {
              "color": "#E5ECF6",
              "width": 0.5
             },
             "pattern": {
              "fillmode": "overlay",
              "size": 10,
              "solidity": 0.2
             }
            },
            "type": "bar"
           }
          ],
          "barpolar": [
           {
            "marker": {
             "line": {
              "color": "#E5ECF6",
              "width": 0.5
             },
             "pattern": {
              "fillmode": "overlay",
              "size": 10,
              "solidity": 0.2
             }
            },
            "type": "barpolar"
           }
          ],
          "carpet": [
           {
            "aaxis": {
             "endlinecolor": "#2a3f5f",
             "gridcolor": "white",
             "linecolor": "white",
             "minorgridcolor": "white",
             "startlinecolor": "#2a3f5f"
            },
            "baxis": {
             "endlinecolor": "#2a3f5f",
             "gridcolor": "white",
             "linecolor": "white",
             "minorgridcolor": "white",
             "startlinecolor": "#2a3f5f"
            },
            "type": "carpet"
           }
          ],
          "choropleth": [
           {
            "colorbar": {
             "outlinewidth": 0,
             "ticks": ""
            },
            "type": "choropleth"
           }
          ],
          "contour": [
           {
            "colorbar": {
             "outlinewidth": 0,
             "ticks": ""
            },
            "colorscale": [
             [
              0,
              "#0d0887"
             ],
             [
              0.1111111111111111,
              "#46039f"
             ],
             [
              0.2222222222222222,
              "#7201a8"
             ],
             [
              0.3333333333333333,
              "#9c179e"
             ],
             [
              0.4444444444444444,
              "#bd3786"
             ],
             [
              0.5555555555555556,
              "#d8576b"
             ],
             [
              0.6666666666666666,
              "#ed7953"
             ],
             [
              0.7777777777777778,
              "#fb9f3a"
             ],
             [
              0.8888888888888888,
              "#fdca26"
             ],
             [
              1,
              "#f0f921"
             ]
            ],
            "type": "contour"
           }
          ],
          "contourcarpet": [
           {
            "colorbar": {
             "outlinewidth": 0,
             "ticks": ""
            },
            "type": "contourcarpet"
           }
          ],
          "heatmap": [
           {
            "colorbar": {
             "outlinewidth": 0,
             "ticks": ""
            },
            "colorscale": [
             [
              0,
              "#0d0887"
             ],
             [
              0.1111111111111111,
              "#46039f"
             ],
             [
              0.2222222222222222,
              "#7201a8"
             ],
             [
              0.3333333333333333,
              "#9c179e"
             ],
             [
              0.4444444444444444,
              "#bd3786"
             ],
             [
              0.5555555555555556,
              "#d8576b"
             ],
             [
              0.6666666666666666,
              "#ed7953"
             ],
             [
              0.7777777777777778,
              "#fb9f3a"
             ],
             [
              0.8888888888888888,
              "#fdca26"
             ],
             [
              1,
              "#f0f921"
             ]
            ],
            "type": "heatmap"
           }
          ],
          "histogram": [
           {
            "marker": {
             "pattern": {
              "fillmode": "overlay",
              "size": 10,
              "solidity": 0.2
             }
            },
            "type": "histogram"
           }
          ],
          "histogram2d": [
           {
            "colorbar": {
             "outlinewidth": 0,
             "ticks": ""
            },
            "colorscale": [
             [
              0,
              "#0d0887"
             ],
             [
              0.1111111111111111,
              "#46039f"
             ],
             [
              0.2222222222222222,
              "#7201a8"
             ],
             [
              0.3333333333333333,
              "#9c179e"
             ],
             [
              0.4444444444444444,
              "#bd3786"
             ],
             [
              0.5555555555555556,
              "#d8576b"
             ],
             [
              0.6666666666666666,
              "#ed7953"
             ],
             [
              0.7777777777777778,
              "#fb9f3a"
             ],
             [
              0.8888888888888888,
              "#fdca26"
             ],
             [
              1,
              "#f0f921"
             ]
            ],
            "type": "histogram2d"
           }
          ],
          "histogram2dcontour": [
           {
            "colorbar": {
             "outlinewidth": 0,
             "ticks": ""
            },
            "colorscale": [
             [
              0,
              "#0d0887"
             ],
             [
              0.1111111111111111,
              "#46039f"
             ],
             [
              0.2222222222222222,
              "#7201a8"
             ],
             [
              0.3333333333333333,
              "#9c179e"
             ],
             [
              0.4444444444444444,
              "#bd3786"
             ],
             [
              0.5555555555555556,
              "#d8576b"
             ],
             [
              0.6666666666666666,
              "#ed7953"
             ],
             [
              0.7777777777777778,
              "#fb9f3a"
             ],
             [
              0.8888888888888888,
              "#fdca26"
             ],
             [
              1,
              "#f0f921"
             ]
            ],
            "type": "histogram2dcontour"
           }
          ],
          "mesh3d": [
           {
            "colorbar": {
             "outlinewidth": 0,
             "ticks": ""
            },
            "type": "mesh3d"
           }
          ],
          "parcoords": [
           {
            "line": {
             "colorbar": {
              "outlinewidth": 0,
              "ticks": ""
             }
            },
            "type": "parcoords"
           }
          ],
          "pie": [
           {
            "automargin": true,
            "type": "pie"
           }
          ],
          "scatter": [
           {
            "fillpattern": {
             "fillmode": "overlay",
             "size": 10,
             "solidity": 0.2
            },
            "type": "scatter"
           }
          ],
          "scatter3d": [
           {
            "line": {
             "colorbar": {
              "outlinewidth": 0,
              "ticks": ""
             }
            },
            "marker": {
             "colorbar": {
              "outlinewidth": 0,
              "ticks": ""
             }
            },
            "type": "scatter3d"
           }
          ],
          "scattercarpet": [
           {
            "marker": {
             "colorbar": {
              "outlinewidth": 0,
              "ticks": ""
             }
            },
            "type": "scattercarpet"
           }
          ],
          "scattergeo": [
           {
            "marker": {
             "colorbar": {
              "outlinewidth": 0,
              "ticks": ""
             }
            },
            "type": "scattergeo"
           }
          ],
          "scattergl": [
           {
            "marker": {
             "colorbar": {
              "outlinewidth": 0,
              "ticks": ""
             }
            },
            "type": "scattergl"
           }
          ],
          "scattermap": [
           {
            "marker": {
             "colorbar": {
              "outlinewidth": 0,
              "ticks": ""
             }
            },
            "type": "scattermap"
           }
          ],
          "scattermapbox": [
           {
            "marker": {
             "colorbar": {
              "outlinewidth": 0,
              "ticks": ""
             }
            },
            "type": "scattermapbox"
           }
          ],
          "scatterpolar": [
           {
            "marker": {
             "colorbar": {
              "outlinewidth": 0,
              "ticks": ""
             }
            },
            "type": "scatterpolar"
           }
          ],
          "scatterpolargl": [
           {
            "marker": {
             "colorbar": {
              "outlinewidth": 0,
              "ticks": ""
             }
            },
            "type": "scatterpolargl"
           }
          ],
          "scatterternary": [
           {
            "marker": {
             "colorbar": {
              "outlinewidth": 0,
              "ticks": ""
             }
            },
            "type": "scatterternary"
           }
          ],
          "surface": [
           {
            "colorbar": {
             "outlinewidth": 0,
             "ticks": ""
            },
            "colorscale": [
             [
              0,
              "#0d0887"
             ],
             [
              0.1111111111111111,
              "#46039f"
             ],
             [
              0.2222222222222222,
              "#7201a8"
             ],
             [
              0.3333333333333333,
              "#9c179e"
             ],
             [
              0.4444444444444444,
              "#bd3786"
             ],
             [
              0.5555555555555556,
              "#d8576b"
             ],
             [
              0.6666666666666666,
              "#ed7953"
             ],
             [
              0.7777777777777778,
              "#fb9f3a"
             ],
             [
              0.8888888888888888,
              "#fdca26"
             ],
             [
              1,
              "#f0f921"
             ]
            ],
            "type": "surface"
           }
          ],
          "table": [
           {
            "cells": {
             "fill": {
              "color": "#EBF0F8"
             },
             "line": {
              "color": "white"
             }
            },
            "header": {
             "fill": {
              "color": "#C8D4E3"
             },
             "line": {
              "color": "white"
             }
            },
            "type": "table"
           }
          ]
         },
         "layout": {
          "annotationdefaults": {
           "arrowcolor": "#2a3f5f",
           "arrowhead": 0,
           "arrowwidth": 1
          },
          "autotypenumbers": "strict",
          "coloraxis": {
           "colorbar": {
            "outlinewidth": 0,
            "ticks": ""
           }
          },
          "colorscale": {
           "diverging": [
            [
             0,
             "#8e0152"
            ],
            [
             0.1,
             "#c51b7d"
            ],
            [
             0.2,
             "#de77ae"
            ],
            [
             0.3,
             "#f1b6da"
            ],
            [
             0.4,
             "#fde0ef"
            ],
            [
             0.5,
             "#f7f7f7"
            ],
            [
             0.6,
             "#e6f5d0"
            ],
            [
             0.7,
             "#b8e186"
            ],
            [
             0.8,
             "#7fbc41"
            ],
            [
             0.9,
             "#4d9221"
            ],
            [
             1,
             "#276419"
            ]
           ],
           "sequential": [
            [
             0,
             "#0d0887"
            ],
            [
             0.1111111111111111,
             "#46039f"
            ],
            [
             0.2222222222222222,
             "#7201a8"
            ],
            [
             0.3333333333333333,
             "#9c179e"
            ],
            [
             0.4444444444444444,
             "#bd3786"
            ],
            [
             0.5555555555555556,
             "#d8576b"
            ],
            [
             0.6666666666666666,
             "#ed7953"
            ],
            [
             0.7777777777777778,
             "#fb9f3a"
            ],
            [
             0.8888888888888888,
             "#fdca26"
            ],
            [
             1,
             "#f0f921"
            ]
           ],
           "sequentialminus": [
            [
             0,
             "#0d0887"
            ],
            [
             0.1111111111111111,
             "#46039f"
            ],
            [
             0.2222222222222222,
             "#7201a8"
            ],
            [
             0.3333333333333333,
             "#9c179e"
            ],
            [
             0.4444444444444444,
             "#bd3786"
            ],
            [
             0.5555555555555556,
             "#d8576b"
            ],
            [
             0.6666666666666666,
             "#ed7953"
            ],
            [
             0.7777777777777778,
             "#fb9f3a"
            ],
            [
             0.8888888888888888,
             "#fdca26"
            ],
            [
             1,
             "#f0f921"
            ]
           ]
          },
          "colorway": [
           "#636efa",
           "#EF553B",
           "#00cc96",
           "#ab63fa",
           "#FFA15A",
           "#19d3f3",
           "#FF6692",
           "#B6E880",
           "#FF97FF",
           "#FECB52"
          ],
          "font": {
           "color": "#2a3f5f"
          },
          "geo": {
           "bgcolor": "white",
           "lakecolor": "white",
           "landcolor": "#E5ECF6",
           "showlakes": true,
           "showland": true,
           "subunitcolor": "white"
          },
          "hoverlabel": {
           "align": "left"
          },
          "hovermode": "closest",
          "mapbox": {
           "style": "light"
          },
          "paper_bgcolor": "white",
          "plot_bgcolor": "#E5ECF6",
          "polar": {
           "angularaxis": {
            "gridcolor": "white",
            "linecolor": "white",
            "ticks": ""
           },
           "bgcolor": "#E5ECF6",
           "radialaxis": {
            "gridcolor": "white",
            "linecolor": "white",
            "ticks": ""
           }
          },
          "scene": {
           "xaxis": {
            "backgroundcolor": "#E5ECF6",
            "gridcolor": "white",
            "gridwidth": 2,
            "linecolor": "white",
            "showbackground": true,
            "ticks": "",
            "zerolinecolor": "white"
           },
           "yaxis": {
            "backgroundcolor": "#E5ECF6",
            "gridcolor": "white",
            "gridwidth": 2,
            "linecolor": "white",
            "showbackground": true,
            "ticks": "",
            "zerolinecolor": "white"
           },
           "zaxis": {
            "backgroundcolor": "#E5ECF6",
            "gridcolor": "white",
            "gridwidth": 2,
            "linecolor": "white",
            "showbackground": true,
            "ticks": "",
            "zerolinecolor": "white"
           }
          },
          "shapedefaults": {
           "line": {
            "color": "#2a3f5f"
           }
          },
          "ternary": {
           "aaxis": {
            "gridcolor": "white",
            "linecolor": "white",
            "ticks": ""
           },
           "baxis": {
            "gridcolor": "white",
            "linecolor": "white",
            "ticks": ""
           },
           "bgcolor": "#E5ECF6",
           "caxis": {
            "gridcolor": "white",
            "linecolor": "white",
            "ticks": ""
           }
          },
          "title": {
           "x": 0.05
          },
          "xaxis": {
           "automargin": true,
           "gridcolor": "white",
           "linecolor": "white",
           "ticks": "",
           "title": {
            "standoff": 15
           },
           "zerolinecolor": "white",
           "zerolinewidth": 2
          },
          "yaxis": {
           "automargin": true,
           "gridcolor": "white",
           "linecolor": "white",
           "ticks": "",
           "title": {
            "standoff": 15
           },
           "zerolinecolor": "white",
           "zerolinewidth": 2
          }
         }
        },
        "title": {
         "text": "Time Series Plot"
        },
        "xaxis": {
         "anchor": "y",
         "domain": [
          0,
          1
         ],
         "title": {
          "text": ""
         }
        },
        "yaxis": {
         "anchor": "x",
         "domain": [
          0,
          1
         ],
         "title": {
          "text": "Value"
         }
        }
       }
      }
     },
     "metadata": {},
     "output_type": "display_data"
    }
   ],
   "source": [
    "scr.plot_series()  ## Plot the series."
   ]
  },
  {
   "cell_type": "code",
   "execution_count": 44,
   "metadata": {},
   "outputs": [
    {
     "data": {
      "text/plain": [
       "1997-07-01    58.800000\n",
       "1997-08-01    60.200000\n",
       "1997-09-01    59.300000\n",
       "1997-10-01    60.800000\n",
       "1997-11-01    59.506557\n",
       "                ...    \n",
       "2024-09-01    59.400000\n",
       "2024-10-01    56.700000\n",
       "2024-11-01    54.200000\n",
       "2024-12-01    54.400000\n",
       "2025-01-01    51.300000\n",
       "Freq: MS, Name: ism non manufacturing new orders, Length: 331, dtype: float64"
      ]
     },
     "execution_count": 44,
     "metadata": {},
     "output_type": "execute_result"
    }
   ],
   "source": [
    "scr.scale_series() ## Scale the series to the y-axis values to convert the pixel co-ordinates to actual data values."
   ]
  },
  {
   "cell_type": "markdown",
   "metadata": {},
   "source": [
    "The ```scale_series()``` method converts he pixel co-ordinate values to data values."
   ]
  },
  {
   "cell_type": "code",
   "execution_count": 45,
   "metadata": {},
   "outputs": [
    {
     "name": "stderr",
     "output_type": "stream",
     "text": [
      "INFO - \n",
      "Series metadata: \n",
      " {'units': 'points', 'original_source': 'Institute for Supply Management', 'title': 'United States ISM Services New Orders', 'indicator': 'ism non manufacturing new orders', 'country': 'united states', 'length': 331, 'frequency': 'MS', 'source': 'Trading Economics', 'id': 'united-states/ism-non-manufacturing-new-orders', 'start_date': '1997-07-01', 'end_date': '2025-01-01', 'min_value': 33.00000000000067, 'max_value': 69.20000000000013}\n"
     ]
    }
   ],
   "source": [
    "scr.scrape_metadata() ## Scrape the metadata for the data series from the page."
   ]
  },
  {
   "cell_type": "code",
   "execution_count": 46,
   "metadata": {},
   "outputs": [
    {
     "data": {
      "text/plain": [
       "1997-07-01    58.800000\n",
       "1997-08-01    60.200000\n",
       "1997-09-01    59.300000\n",
       "1997-10-01    60.800000\n",
       "1997-11-01    59.506557\n",
       "                ...    \n",
       "2024-09-01    59.400000\n",
       "2024-10-01    56.700000\n",
       "2024-11-01    54.200000\n",
       "2024-12-01    54.400000\n",
       "2025-01-01    51.300000\n",
       "Freq: MS, Name: ism non manufacturing new orders, Length: 331, dtype: float64"
      ]
     },
     "execution_count": 46,
     "metadata": {},
     "output_type": "execute_result"
    }
   ],
   "source": [
    "scr.series # View the series data obtained."
   ]
  },
  {
   "cell_type": "code",
   "execution_count": 104,
   "metadata": {},
   "outputs": [
    {
     "ename": "AttributeError",
     "evalue": "'TE_Scraper' object has no attribute 'series'",
     "output_type": "error",
     "traceback": [
      "\u001b[0;31m---------------------------------------------------------------------------\u001b[0m",
      "\u001b[0;31mAttributeError\u001b[0m                            Traceback (most recent call last)",
      "Cell \u001b[0;32mIn[104], line 1\u001b[0m\n\u001b[0;32m----> 1\u001b[0m \u001b[43mscr\u001b[49m\u001b[38;5;241;43m.\u001b[39;49m\u001b[43mplot_series\u001b[49m\u001b[43m(\u001b[49m\u001b[43mann_box_pos\u001b[49m\u001b[38;5;241;43m=\u001b[39;49m\u001b[43m(\u001b[49m\u001b[38;5;241;43m0\u001b[39;49m\u001b[43m,\u001b[49m\u001b[43m \u001b[49m\u001b[38;5;241;43m-\u001b[39;49m\u001b[38;5;241;43m0.22\u001b[39;49m\u001b[43m)\u001b[49m\u001b[43m)\u001b[49m  \u001b[38;5;66;03m## Plot the series.\u001b[39;00m\n",
      "File \u001b[0;32m~/Documents/Python/Scraping/tedata/src/tedata/scraper.py:787\u001b[0m, in \u001b[0;36mTE_Scraper.plot_series\u001b[0;34m(self, series, annotation_text, dpi, ann_box_pos)\u001b[0m\n\u001b[1;32m    771\u001b[0m \u001b[38;5;250m\u001b[39m\u001b[38;5;124;03m\"\"\"\u001b[39;00m\n\u001b[1;32m    772\u001b[0m \u001b[38;5;124;03mPlots the time series data using pandas with plotly as the backend. Plotly is set as the pandas backend in __init__.py for tedata.\u001b[39;00m\n\u001b[1;32m    773\u001b[0m \u001b[38;5;124;03mIf you want to use matplotlib or other plotting library don't use this method, plot the series attribute data directly. If using jupyter\u001b[39;00m\n\u001b[0;32m   (...)\u001b[0m\n\u001b[1;32m    783\u001b[0m \u001b[38;5;124;03m**Returns** None\u001b[39;00m\n\u001b[1;32m    784\u001b[0m \u001b[38;5;124;03m\"\"\"\u001b[39;00m\n\u001b[1;32m    786\u001b[0m \u001b[38;5;28;01mif\u001b[39;00m series \u001b[38;5;129;01mis\u001b[39;00m \u001b[38;5;28;01mNone\u001b[39;00m:\n\u001b[0;32m--> 787\u001b[0m     series \u001b[38;5;241m=\u001b[39m \u001b[38;5;28;43mself\u001b[39;49m\u001b[38;5;241;43m.\u001b[39;49m\u001b[43mseries\u001b[49m\n\u001b[1;32m    789\u001b[0m fig \u001b[38;5;241m=\u001b[39m series\u001b[38;5;241m.\u001b[39mplot()  \u001b[38;5;66;03m# Plot the series using pandas, plotly needs to be set as the pandas plotting backend.\u001b[39;00m\n\u001b[1;32m    791\u001b[0m  \u001b[38;5;66;03m# Existing title and label logic\u001b[39;00m\n",
      "\u001b[0;31mAttributeError\u001b[0m: 'TE_Scraper' object has no attribute 'series'"
     ]
    }
   ],
   "source": [
    "scr.plot_series(ann_box_pos=(0, -0.22))  ## Plot the series."
   ]
  },
  {
   "cell_type": "code",
   "execution_count": null,
   "metadata": {},
   "outputs": [],
   "source": [
    "scr.save_plot(format=\"html\")  ## Save the plot as an interactive html file."
   ]
  },
  {
   "cell_type": "markdown",
   "metadata": {},
   "source": [
    "### Alternative scraping method\n",
    "\n",
    "Added in v0.3.0. Get the whole series from the tooltip values using javascript. This may turn out to be the best way to do it yet I expect it will run into issues for data series with many points."
   ]
  },
  {
   "cell_type": "code",
   "execution_count": 16,
   "metadata": {},
   "outputs": [
    {
     "name": "stderr",
     "output_type": "stream",
     "text": [
      "INFO - Quitting 1 active webdriver instances...\n"
     ]
    },
    {
     "data": {
      "text/plain": [
       "[]"
      ]
     },
     "execution_count": 16,
     "metadata": {},
     "output_type": "execute_result"
    }
   ],
   "source": [
    "from tedata import base\n",
    "base.find_active_drivers(quit_all=True)  ## Quit all active drivers."
   ]
  },
  {
   "cell_type": "code",
   "execution_count": 17,
   "metadata": {},
   "outputs": [
    {
     "name": "stderr",
     "output_type": "stream",
     "text": [
      "INFO - New firefox webdriver created.\n"
     ]
    }
   ],
   "source": [
    "scr = ted.TE_Scraper(use_existing_driver = False, headless = False)  ## Initialize a new TE_scraper object."
   ]
  },
  {
   "cell_type": "code",
   "execution_count": 18,
   "metadata": {},
   "outputs": [
    {
     "name": "stderr",
     "output_type": "stream",
     "text": [
      "INFO - WebPage at https://tradingeconomics.com/euro-area/consumer-confidence loaded successfully.\n",
      "INFO - Chart types dictionary created successfully: dict_keys(['Column', 'Spline', 'Areaspline', 'Stepline', 'Line', 'Area'])\n"
     ]
    },
    {
     "data": {
      "text/plain": [
       "True"
      ]
     },
     "execution_count": 18,
     "metadata": {},
     "output_type": "execute_result"
    }
   ],
   "source": [
    "scr.load_page('https://tradingeconomics.com/euro-area/consumer-confidence')"
   ]
  },
  {
   "cell_type": "code",
   "execution_count": 19,
   "metadata": {},
   "outputs": [
    {
     "name": "stderr",
     "output_type": "stream",
     "text": [
      "INFO - \n",
      "Series metadata: \n",
      " {'units': 'points', 'original_source': 'European Commission', 'title': 'Euro Area Consumer Confidence', 'indicator': 'consumer confidence', 'country': 'euro area', 'source': 'Trading Economics', 'id': 'euro-area/consumer-confidence'}\n"
     ]
    },
    {
     "data": {
      "text/plain": [
       "{'units': 'points',\n",
       " 'original_source': 'European Commission',\n",
       " 'title': 'Euro Area Consumer Confidence',\n",
       " 'indicator': 'consumer confidence',\n",
       " 'country': 'euro area',\n",
       " 'source': 'Trading Economics',\n",
       " 'id': 'euro-area/consumer-confidence',\n",
       " 'description': 'In Euro Area, the Consumer Economic Sentiment Indicator measures the level of optimism that consumers have about the economy. The survey is made by phone and covers 23 000 households in the Euro Area. The number of households sample varies across the zone. The questions focus on current economic and financial situation, savings intention as well as on expected developments regarding: consumer price indexes, general economic situation and major purchases of durable goods. The Consumer ESI measures consumer confidence on a scale of -100 to 100, where -100 indicate extreme lack of confidence, 0 neutrality and 100 extreme confidence.'}"
      ]
     },
     "execution_count": 19,
     "metadata": {},
     "output_type": "execute_result"
    }
   ],
   "source": [
    "scr.scrape_metadata()  ## Scrape the metadata for the data series from the page.\n",
    "scr.metadata"
   ]
  },
  {
   "cell_type": "markdown",
   "metadata": {},
   "source": [
    "We are using the same ```latest_points_js``` method that is used to get some of the latest data points in order to determine the series frequency. However here we let it keep going and get all of the data points from the date and values that show up on the tooltips as the cursor is dragged across the chart."
   ]
  },
  {
   "cell_type": "code",
   "execution_count": 20,
   "metadata": {},
   "outputs": [
    {
     "name": "stderr",
     "output_type": "stream",
     "text": [
      "INFO - TooltipScraper object initialised successfully.\n",
      "INFO - Button not found or not clickable: .splineChart .dkLabels-label-btn\n",
      "INFO - Chart type set to: Spline\n",
      "INFO - Chart type set to: Spline\n",
      "INFO - Successfully scraped full series from tooltips.\n"
     ]
    },
    {
     "data": {
      "text/plain": [
       "1985-02-01   -10.9\n",
       "1985-03-01   -11.9\n",
       "1985-04-01   -11.1\n",
       "1985-05-01   -11.5\n",
       "1985-06-01   -11.9\n",
       "              ... \n",
       "2024-08-01   -13.4\n",
       "2024-09-01   -12.9\n",
       "2024-10-01   -12.5\n",
       "2024-11-01   -13.7\n",
       "2024-12-01   -14.5\n",
       "Name: tooltip_data, Length: 479, dtype: float64"
      ]
     },
     "execution_count": 20,
     "metadata": {},
     "output_type": "execute_result"
    }
   ],
   "source": [
    "scr.full_series_fromTooltips()  ## Get the full series from the tooltips on the chart.\n",
    "scr.series"
   ]
  },
  {
   "cell_type": "code",
   "execution_count": 23,
   "metadata": {},
   "outputs": [
    {
     "data": {
      "text/plain": [
       "{'units': 'points',\n",
       " 'original_source': 'European Commission',\n",
       " 'title': 'Euro Area Consumer Confidence',\n",
       " 'indicator': 'consumer confidence',\n",
       " 'country': 'euro area',\n",
       " 'source': 'Trading Economics',\n",
       " 'id': 'euro-area/consumer-confidence',\n",
       " 'description': 'In Euro Area, the Consumer Economic Sentiment Indicator measures the level of optimism that consumers have about the economy. The survey is made by phone and covers 23 000 households in the Euro Area. The number of households sample varies across the zone. The questions focus on current economic and financial situation, savings intention as well as on expected developments regarding: consumer price indexes, general economic situation and major purchases of durable goods. The Consumer ESI measures consumer confidence on a scale of -100 to 100, where -100 indicate extreme lack of confidence, 0 neutrality and 100 extreme confidence.',\n",
       " 'start_date': '1985-02-01',\n",
       " 'end_date': '2024-12-01',\n",
       " 'min_value': -28.6,\n",
       " 'max_value': -1.8,\n",
       " 'length': 479,\n",
       " 'frequency': 'MS'}"
      ]
     },
     "execution_count": 23,
     "metadata": {},
     "output_type": "execute_result"
    }
   ],
   "source": [
    "scr.metadata"
   ]
  },
  {
   "cell_type": "code",
   "execution_count": 24,
   "metadata": {},
   "outputs": [
    {
     "data": {
      "application/vnd.plotly.v1+json": {
       "config": {
        "plotlyServerURL": "https://plot.ly"
       },
       "data": [
        {
         "hovertemplate": "variable=tooltip_data<br>index=%{x}<br>value=%{y}<extra></extra>",
         "legendgroup": "tooltip_data",
         "line": {
          "color": "#636efa",
          "dash": "solid"
         },
         "marker": {
          "symbol": "circle"
         },
         "mode": "lines",
         "name": "tooltip_data",
         "orientation": "v",
         "showlegend": true,
         "type": "scatter",
         "x": [
          "1985-02-01T00:00:00.000000000",
          "1985-03-01T00:00:00.000000000",
          "1985-04-01T00:00:00.000000000",
          "1985-05-01T00:00:00.000000000",
          "1985-06-01T00:00:00.000000000",
          "1985-07-01T00:00:00.000000000",
          "1985-08-01T00:00:00.000000000",
          "1985-09-01T00:00:00.000000000",
          "1985-10-01T00:00:00.000000000",
          "1985-11-01T00:00:00.000000000",
          "1985-12-01T00:00:00.000000000",
          "1986-01-01T00:00:00.000000000",
          "1986-02-01T00:00:00.000000000",
          "1986-03-01T00:00:00.000000000",
          "1986-04-01T00:00:00.000000000",
          "1986-05-01T00:00:00.000000000",
          "1986-06-01T00:00:00.000000000",
          "1986-07-01T00:00:00.000000000",
          "1986-08-01T00:00:00.000000000",
          "1986-09-01T00:00:00.000000000",
          "1986-10-01T00:00:00.000000000",
          "1986-11-01T00:00:00.000000000",
          "1986-12-01T00:00:00.000000000",
          "1987-01-01T00:00:00.000000000",
          "1987-02-01T00:00:00.000000000",
          "1987-03-01T00:00:00.000000000",
          "1987-04-01T00:00:00.000000000",
          "1987-05-01T00:00:00.000000000",
          "1987-06-01T00:00:00.000000000",
          "1987-07-01T00:00:00.000000000",
          "1987-08-01T00:00:00.000000000",
          "1987-09-01T00:00:00.000000000",
          "1987-10-01T00:00:00.000000000",
          "1987-11-01T00:00:00.000000000",
          "1987-12-01T00:00:00.000000000",
          "1988-01-01T00:00:00.000000000",
          "1988-02-01T00:00:00.000000000",
          "1988-03-01T00:00:00.000000000",
          "1988-04-01T00:00:00.000000000",
          "1988-05-01T00:00:00.000000000",
          "1988-06-01T00:00:00.000000000",
          "1988-07-01T00:00:00.000000000",
          "1988-08-01T00:00:00.000000000",
          "1988-09-01T00:00:00.000000000",
          "1988-10-01T00:00:00.000000000",
          "1988-11-01T00:00:00.000000000",
          "1988-12-01T00:00:00.000000000",
          "1989-01-01T00:00:00.000000000",
          "1989-02-01T00:00:00.000000000",
          "1989-03-01T00:00:00.000000000",
          "1989-04-01T00:00:00.000000000",
          "1989-05-01T00:00:00.000000000",
          "1989-06-01T00:00:00.000000000",
          "1989-07-01T00:00:00.000000000",
          "1989-08-01T00:00:00.000000000",
          "1989-09-01T00:00:00.000000000",
          "1989-10-01T00:00:00.000000000",
          "1989-11-01T00:00:00.000000000",
          "1989-12-01T00:00:00.000000000",
          "1990-01-01T00:00:00.000000000",
          "1990-02-01T00:00:00.000000000",
          "1990-03-01T00:00:00.000000000",
          "1990-04-01T00:00:00.000000000",
          "1990-05-01T00:00:00.000000000",
          "1990-06-01T00:00:00.000000000",
          "1990-07-01T00:00:00.000000000",
          "1990-08-01T00:00:00.000000000",
          "1990-09-01T00:00:00.000000000",
          "1990-10-01T00:00:00.000000000",
          "1990-11-01T00:00:00.000000000",
          "1990-12-01T00:00:00.000000000",
          "1991-01-01T00:00:00.000000000",
          "1991-02-01T00:00:00.000000000",
          "1991-03-01T00:00:00.000000000",
          "1991-04-01T00:00:00.000000000",
          "1991-05-01T00:00:00.000000000",
          "1991-06-01T00:00:00.000000000",
          "1991-07-01T00:00:00.000000000",
          "1991-08-01T00:00:00.000000000",
          "1991-09-01T00:00:00.000000000",
          "1991-10-01T00:00:00.000000000",
          "1991-11-01T00:00:00.000000000",
          "1991-12-01T00:00:00.000000000",
          "1992-01-01T00:00:00.000000000",
          "1992-02-01T00:00:00.000000000",
          "1992-03-01T00:00:00.000000000",
          "1992-04-01T00:00:00.000000000",
          "1992-05-01T00:00:00.000000000",
          "1992-06-01T00:00:00.000000000",
          "1992-07-01T00:00:00.000000000",
          "1992-08-01T00:00:00.000000000",
          "1992-09-01T00:00:00.000000000",
          "1992-10-01T00:00:00.000000000",
          "1992-11-01T00:00:00.000000000",
          "1992-12-01T00:00:00.000000000",
          "1993-01-01T00:00:00.000000000",
          "1993-02-01T00:00:00.000000000",
          "1993-03-01T00:00:00.000000000",
          "1993-04-01T00:00:00.000000000",
          "1993-05-01T00:00:00.000000000",
          "1993-06-01T00:00:00.000000000",
          "1993-07-01T00:00:00.000000000",
          "1993-08-01T00:00:00.000000000",
          "1993-09-01T00:00:00.000000000",
          "1993-10-01T00:00:00.000000000",
          "1993-11-01T00:00:00.000000000",
          "1993-12-01T00:00:00.000000000",
          "1994-01-01T00:00:00.000000000",
          "1994-02-01T00:00:00.000000000",
          "1994-03-01T00:00:00.000000000",
          "1994-04-01T00:00:00.000000000",
          "1994-05-01T00:00:00.000000000",
          "1994-06-01T00:00:00.000000000",
          "1994-07-01T00:00:00.000000000",
          "1994-08-01T00:00:00.000000000",
          "1994-09-01T00:00:00.000000000",
          "1994-10-01T00:00:00.000000000",
          "1994-11-01T00:00:00.000000000",
          "1994-12-01T00:00:00.000000000",
          "1995-01-01T00:00:00.000000000",
          "1995-02-01T00:00:00.000000000",
          "1995-03-01T00:00:00.000000000",
          "1995-04-01T00:00:00.000000000",
          "1995-05-01T00:00:00.000000000",
          "1995-06-01T00:00:00.000000000",
          "1995-07-01T00:00:00.000000000",
          "1995-08-01T00:00:00.000000000",
          "1995-09-01T00:00:00.000000000",
          "1995-10-01T00:00:00.000000000",
          "1995-11-01T00:00:00.000000000",
          "1995-12-01T00:00:00.000000000",
          "1996-01-01T00:00:00.000000000",
          "1996-02-01T00:00:00.000000000",
          "1996-03-01T00:00:00.000000000",
          "1996-04-01T00:00:00.000000000",
          "1996-05-01T00:00:00.000000000",
          "1996-06-01T00:00:00.000000000",
          "1996-07-01T00:00:00.000000000",
          "1996-08-01T00:00:00.000000000",
          "1996-09-01T00:00:00.000000000",
          "1996-10-01T00:00:00.000000000",
          "1996-11-01T00:00:00.000000000",
          "1996-12-01T00:00:00.000000000",
          "1997-01-01T00:00:00.000000000",
          "1997-02-01T00:00:00.000000000",
          "1997-03-01T00:00:00.000000000",
          "1997-04-01T00:00:00.000000000",
          "1997-05-01T00:00:00.000000000",
          "1997-06-01T00:00:00.000000000",
          "1997-07-01T00:00:00.000000000",
          "1997-08-01T00:00:00.000000000",
          "1997-09-01T00:00:00.000000000",
          "1997-10-01T00:00:00.000000000",
          "1997-11-01T00:00:00.000000000",
          "1997-12-01T00:00:00.000000000",
          "1998-01-01T00:00:00.000000000",
          "1998-02-01T00:00:00.000000000",
          "1998-03-01T00:00:00.000000000",
          "1998-04-01T00:00:00.000000000",
          "1998-05-01T00:00:00.000000000",
          "1998-06-01T00:00:00.000000000",
          "1998-07-01T00:00:00.000000000",
          "1998-08-01T00:00:00.000000000",
          "1998-09-01T00:00:00.000000000",
          "1998-10-01T00:00:00.000000000",
          "1998-11-01T00:00:00.000000000",
          "1998-12-01T00:00:00.000000000",
          "1999-01-01T00:00:00.000000000",
          "1999-02-01T00:00:00.000000000",
          "1999-03-01T00:00:00.000000000",
          "1999-04-01T00:00:00.000000000",
          "1999-05-01T00:00:00.000000000",
          "1999-06-01T00:00:00.000000000",
          "1999-07-01T00:00:00.000000000",
          "1999-08-01T00:00:00.000000000",
          "1999-09-01T00:00:00.000000000",
          "1999-10-01T00:00:00.000000000",
          "1999-11-01T00:00:00.000000000",
          "1999-12-01T00:00:00.000000000",
          "2000-01-01T00:00:00.000000000",
          "2000-02-01T00:00:00.000000000",
          "2000-03-01T00:00:00.000000000",
          "2000-04-01T00:00:00.000000000",
          "2000-05-01T00:00:00.000000000",
          "2000-06-01T00:00:00.000000000",
          "2000-07-01T00:00:00.000000000",
          "2000-08-01T00:00:00.000000000",
          "2000-09-01T00:00:00.000000000",
          "2000-10-01T00:00:00.000000000",
          "2000-11-01T00:00:00.000000000",
          "2000-12-01T00:00:00.000000000",
          "2001-01-01T00:00:00.000000000",
          "2001-02-01T00:00:00.000000000",
          "2001-03-01T00:00:00.000000000",
          "2001-04-01T00:00:00.000000000",
          "2001-05-01T00:00:00.000000000",
          "2001-06-01T00:00:00.000000000",
          "2001-07-01T00:00:00.000000000",
          "2001-08-01T00:00:00.000000000",
          "2001-09-01T00:00:00.000000000",
          "2001-10-01T00:00:00.000000000",
          "2001-11-01T00:00:00.000000000",
          "2001-12-01T00:00:00.000000000",
          "2002-01-01T00:00:00.000000000",
          "2002-02-01T00:00:00.000000000",
          "2002-03-01T00:00:00.000000000",
          "2002-04-01T00:00:00.000000000",
          "2002-05-01T00:00:00.000000000",
          "2002-06-01T00:00:00.000000000",
          "2002-07-01T00:00:00.000000000",
          "2002-08-01T00:00:00.000000000",
          "2002-09-01T00:00:00.000000000",
          "2002-10-01T00:00:00.000000000",
          "2002-11-01T00:00:00.000000000",
          "2002-12-01T00:00:00.000000000",
          "2003-01-01T00:00:00.000000000",
          "2003-02-01T00:00:00.000000000",
          "2003-03-01T00:00:00.000000000",
          "2003-04-01T00:00:00.000000000",
          "2003-05-01T00:00:00.000000000",
          "2003-06-01T00:00:00.000000000",
          "2003-07-01T00:00:00.000000000",
          "2003-08-01T00:00:00.000000000",
          "2003-09-01T00:00:00.000000000",
          "2003-10-01T00:00:00.000000000",
          "2003-11-01T00:00:00.000000000",
          "2003-12-01T00:00:00.000000000",
          "2004-01-01T00:00:00.000000000",
          "2004-02-01T00:00:00.000000000",
          "2004-03-01T00:00:00.000000000",
          "2004-04-01T00:00:00.000000000",
          "2004-05-01T00:00:00.000000000",
          "2004-06-01T00:00:00.000000000",
          "2004-07-01T00:00:00.000000000",
          "2004-08-01T00:00:00.000000000",
          "2004-09-01T00:00:00.000000000",
          "2004-10-01T00:00:00.000000000",
          "2004-11-01T00:00:00.000000000",
          "2004-12-01T00:00:00.000000000",
          "2005-01-01T00:00:00.000000000",
          "2005-02-01T00:00:00.000000000",
          "2005-03-01T00:00:00.000000000",
          "2005-04-01T00:00:00.000000000",
          "2005-05-01T00:00:00.000000000",
          "2005-06-01T00:00:00.000000000",
          "2005-07-01T00:00:00.000000000",
          "2005-08-01T00:00:00.000000000",
          "2005-09-01T00:00:00.000000000",
          "2005-10-01T00:00:00.000000000",
          "2005-11-01T00:00:00.000000000",
          "2005-12-01T00:00:00.000000000",
          "2006-01-01T00:00:00.000000000",
          "2006-02-01T00:00:00.000000000",
          "2006-03-01T00:00:00.000000000",
          "2006-04-01T00:00:00.000000000",
          "2006-05-01T00:00:00.000000000",
          "2006-06-01T00:00:00.000000000",
          "2006-07-01T00:00:00.000000000",
          "2006-08-01T00:00:00.000000000",
          "2006-09-01T00:00:00.000000000",
          "2006-10-01T00:00:00.000000000",
          "2006-11-01T00:00:00.000000000",
          "2006-12-01T00:00:00.000000000",
          "2007-01-01T00:00:00.000000000",
          "2007-02-01T00:00:00.000000000",
          "2007-03-01T00:00:00.000000000",
          "2007-04-01T00:00:00.000000000",
          "2007-05-01T00:00:00.000000000",
          "2007-06-01T00:00:00.000000000",
          "2007-07-01T00:00:00.000000000",
          "2007-08-01T00:00:00.000000000",
          "2007-09-01T00:00:00.000000000",
          "2007-10-01T00:00:00.000000000",
          "2007-11-01T00:00:00.000000000",
          "2007-12-01T00:00:00.000000000",
          "2008-01-01T00:00:00.000000000",
          "2008-02-01T00:00:00.000000000",
          "2008-03-01T00:00:00.000000000",
          "2008-04-01T00:00:00.000000000",
          "2008-05-01T00:00:00.000000000",
          "2008-06-01T00:00:00.000000000",
          "2008-07-01T00:00:00.000000000",
          "2008-08-01T00:00:00.000000000",
          "2008-09-01T00:00:00.000000000",
          "2008-10-01T00:00:00.000000000",
          "2008-11-01T00:00:00.000000000",
          "2008-12-01T00:00:00.000000000",
          "2009-01-01T00:00:00.000000000",
          "2009-02-01T00:00:00.000000000",
          "2009-03-01T00:00:00.000000000",
          "2009-04-01T00:00:00.000000000",
          "2009-05-01T00:00:00.000000000",
          "2009-06-01T00:00:00.000000000",
          "2009-07-01T00:00:00.000000000",
          "2009-08-01T00:00:00.000000000",
          "2009-09-01T00:00:00.000000000",
          "2009-10-01T00:00:00.000000000",
          "2009-11-01T00:00:00.000000000",
          "2009-12-01T00:00:00.000000000",
          "2010-01-01T00:00:00.000000000",
          "2010-02-01T00:00:00.000000000",
          "2010-03-01T00:00:00.000000000",
          "2010-04-01T00:00:00.000000000",
          "2010-05-01T00:00:00.000000000",
          "2010-06-01T00:00:00.000000000",
          "2010-07-01T00:00:00.000000000",
          "2010-08-01T00:00:00.000000000",
          "2010-09-01T00:00:00.000000000",
          "2010-10-01T00:00:00.000000000",
          "2010-11-01T00:00:00.000000000",
          "2010-12-01T00:00:00.000000000",
          "2011-01-01T00:00:00.000000000",
          "2011-02-01T00:00:00.000000000",
          "2011-03-01T00:00:00.000000000",
          "2011-04-01T00:00:00.000000000",
          "2011-05-01T00:00:00.000000000",
          "2011-06-01T00:00:00.000000000",
          "2011-07-01T00:00:00.000000000",
          "2011-08-01T00:00:00.000000000",
          "2011-09-01T00:00:00.000000000",
          "2011-10-01T00:00:00.000000000",
          "2011-11-01T00:00:00.000000000",
          "2011-12-01T00:00:00.000000000",
          "2012-01-01T00:00:00.000000000",
          "2012-02-01T00:00:00.000000000",
          "2012-03-01T00:00:00.000000000",
          "2012-04-01T00:00:00.000000000",
          "2012-05-01T00:00:00.000000000",
          "2012-06-01T00:00:00.000000000",
          "2012-07-01T00:00:00.000000000",
          "2012-08-01T00:00:00.000000000",
          "2012-09-01T00:00:00.000000000",
          "2012-10-01T00:00:00.000000000",
          "2012-11-01T00:00:00.000000000",
          "2012-12-01T00:00:00.000000000",
          "2013-01-01T00:00:00.000000000",
          "2013-02-01T00:00:00.000000000",
          "2013-03-01T00:00:00.000000000",
          "2013-04-01T00:00:00.000000000",
          "2013-05-01T00:00:00.000000000",
          "2013-06-01T00:00:00.000000000",
          "2013-07-01T00:00:00.000000000",
          "2013-08-01T00:00:00.000000000",
          "2013-09-01T00:00:00.000000000",
          "2013-10-01T00:00:00.000000000",
          "2013-11-01T00:00:00.000000000",
          "2013-12-01T00:00:00.000000000",
          "2014-01-01T00:00:00.000000000",
          "2014-02-01T00:00:00.000000000",
          "2014-03-01T00:00:00.000000000",
          "2014-04-01T00:00:00.000000000",
          "2014-05-01T00:00:00.000000000",
          "2014-06-01T00:00:00.000000000",
          "2014-07-01T00:00:00.000000000",
          "2014-08-01T00:00:00.000000000",
          "2014-09-01T00:00:00.000000000",
          "2014-10-01T00:00:00.000000000",
          "2014-11-01T00:00:00.000000000",
          "2014-12-01T00:00:00.000000000",
          "2015-01-01T00:00:00.000000000",
          "2015-02-01T00:00:00.000000000",
          "2015-03-01T00:00:00.000000000",
          "2015-04-01T00:00:00.000000000",
          "2015-05-01T00:00:00.000000000",
          "2015-06-01T00:00:00.000000000",
          "2015-07-01T00:00:00.000000000",
          "2015-08-01T00:00:00.000000000",
          "2015-09-01T00:00:00.000000000",
          "2015-10-01T00:00:00.000000000",
          "2015-11-01T00:00:00.000000000",
          "2015-12-01T00:00:00.000000000",
          "2016-01-01T00:00:00.000000000",
          "2016-02-01T00:00:00.000000000",
          "2016-03-01T00:00:00.000000000",
          "2016-04-01T00:00:00.000000000",
          "2016-05-01T00:00:00.000000000",
          "2016-06-01T00:00:00.000000000",
          "2016-07-01T00:00:00.000000000",
          "2016-08-01T00:00:00.000000000",
          "2016-09-01T00:00:00.000000000",
          "2016-10-01T00:00:00.000000000",
          "2016-11-01T00:00:00.000000000",
          "2016-12-01T00:00:00.000000000",
          "2017-01-01T00:00:00.000000000",
          "2017-02-01T00:00:00.000000000",
          "2017-03-01T00:00:00.000000000",
          "2017-04-01T00:00:00.000000000",
          "2017-05-01T00:00:00.000000000",
          "2017-06-01T00:00:00.000000000",
          "2017-07-01T00:00:00.000000000",
          "2017-08-01T00:00:00.000000000",
          "2017-09-01T00:00:00.000000000",
          "2017-10-01T00:00:00.000000000",
          "2017-11-01T00:00:00.000000000",
          "2017-12-01T00:00:00.000000000",
          "2018-01-01T00:00:00.000000000",
          "2018-02-01T00:00:00.000000000",
          "2018-03-01T00:00:00.000000000",
          "2018-04-01T00:00:00.000000000",
          "2018-05-01T00:00:00.000000000",
          "2018-06-01T00:00:00.000000000",
          "2018-07-01T00:00:00.000000000",
          "2018-08-01T00:00:00.000000000",
          "2018-09-01T00:00:00.000000000",
          "2018-10-01T00:00:00.000000000",
          "2018-11-01T00:00:00.000000000",
          "2018-12-01T00:00:00.000000000",
          "2019-01-01T00:00:00.000000000",
          "2019-02-01T00:00:00.000000000",
          "2019-03-01T00:00:00.000000000",
          "2019-04-01T00:00:00.000000000",
          "2019-05-01T00:00:00.000000000",
          "2019-06-01T00:00:00.000000000",
          "2019-07-01T00:00:00.000000000",
          "2019-08-01T00:00:00.000000000",
          "2019-09-01T00:00:00.000000000",
          "2019-10-01T00:00:00.000000000",
          "2019-11-01T00:00:00.000000000",
          "2019-12-01T00:00:00.000000000",
          "2020-01-01T00:00:00.000000000",
          "2020-02-01T00:00:00.000000000",
          "2020-03-01T00:00:00.000000000",
          "2020-04-01T00:00:00.000000000",
          "2020-05-01T00:00:00.000000000",
          "2020-06-01T00:00:00.000000000",
          "2020-07-01T00:00:00.000000000",
          "2020-08-01T00:00:00.000000000",
          "2020-09-01T00:00:00.000000000",
          "2020-10-01T00:00:00.000000000",
          "2020-11-01T00:00:00.000000000",
          "2020-12-01T00:00:00.000000000",
          "2021-01-01T00:00:00.000000000",
          "2021-02-01T00:00:00.000000000",
          "2021-03-01T00:00:00.000000000",
          "2021-04-01T00:00:00.000000000",
          "2021-05-01T00:00:00.000000000",
          "2021-06-01T00:00:00.000000000",
          "2021-07-01T00:00:00.000000000",
          "2021-08-01T00:00:00.000000000",
          "2021-09-01T00:00:00.000000000",
          "2021-10-01T00:00:00.000000000",
          "2021-11-01T00:00:00.000000000",
          "2021-12-01T00:00:00.000000000",
          "2022-01-01T00:00:00.000000000",
          "2022-02-01T00:00:00.000000000",
          "2022-03-01T00:00:00.000000000",
          "2022-04-01T00:00:00.000000000",
          "2022-05-01T00:00:00.000000000",
          "2022-06-01T00:00:00.000000000",
          "2022-07-01T00:00:00.000000000",
          "2022-08-01T00:00:00.000000000",
          "2022-09-01T00:00:00.000000000",
          "2022-10-01T00:00:00.000000000",
          "2022-11-01T00:00:00.000000000",
          "2022-12-01T00:00:00.000000000",
          "2023-01-01T00:00:00.000000000",
          "2023-02-01T00:00:00.000000000",
          "2023-03-01T00:00:00.000000000",
          "2023-04-01T00:00:00.000000000",
          "2023-05-01T00:00:00.000000000",
          "2023-06-01T00:00:00.000000000",
          "2023-07-01T00:00:00.000000000",
          "2023-08-01T00:00:00.000000000",
          "2023-09-01T00:00:00.000000000",
          "2023-10-01T00:00:00.000000000",
          "2023-11-01T00:00:00.000000000",
          "2023-12-01T00:00:00.000000000",
          "2024-01-01T00:00:00.000000000",
          "2024-02-01T00:00:00.000000000",
          "2024-03-01T00:00:00.000000000",
          "2024-04-01T00:00:00.000000000",
          "2024-05-01T00:00:00.000000000",
          "2024-06-01T00:00:00.000000000",
          "2024-07-01T00:00:00.000000000",
          "2024-08-01T00:00:00.000000000",
          "2024-09-01T00:00:00.000000000",
          "2024-10-01T00:00:00.000000000",
          "2024-11-01T00:00:00.000000000",
          "2024-12-01T00:00:00.000000000"
         ],
         "xaxis": "x",
         "y": {
          "bdata": "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",
          "dtype": "f8"
         },
         "yaxis": "y"
        }
       ],
       "layout": {
        "annotations": [
         {
          "align": "left",
          "bgcolor": "rgba(255, 255, 255, 0.8)",
          "bordercolor": "black",
          "borderwidth": 1,
          "font": {
           "size": 10
          },
          "showarrow": false,
          "text": "Source: Trading Economics<br>Original Source: European Commission<br>Frequency: MS<br>",
          "x": 0,
          "xanchor": "left",
          "xref": "paper",
          "y": -0.22,
          "yanchor": "bottom",
          "yref": "paper"
         }
        ],
        "legend": {
         "orientation": "h",
         "title": {
          "text": ""
         },
         "tracegroupgap": 0,
         "x": 0.5,
         "xanchor": "center",
         "y": -0.2,
         "yanchor": "bottom"
        },
        "margin": {
         "t": 60
        },
        "template": {
         "data": {
          "bar": [
           {
            "error_x": {
             "color": "#2a3f5f"
            },
            "error_y": {
             "color": "#2a3f5f"
            },
            "marker": {
             "line": {
              "color": "#E5ECF6",
              "width": 0.5
             },
             "pattern": {
              "fillmode": "overlay",
              "size": 10,
              "solidity": 0.2
             }
            },
            "type": "bar"
           }
          ],
          "barpolar": [
           {
            "marker": {
             "line": {
              "color": "#E5ECF6",
              "width": 0.5
             },
             "pattern": {
              "fillmode": "overlay",
              "size": 10,
              "solidity": 0.2
             }
            },
            "type": "barpolar"
           }
          ],
          "carpet": [
           {
            "aaxis": {
             "endlinecolor": "#2a3f5f",
             "gridcolor": "white",
             "linecolor": "white",
             "minorgridcolor": "white",
             "startlinecolor": "#2a3f5f"
            },
            "baxis": {
             "endlinecolor": "#2a3f5f",
             "gridcolor": "white",
             "linecolor": "white",
             "minorgridcolor": "white",
             "startlinecolor": "#2a3f5f"
            },
            "type": "carpet"
           }
          ],
          "choropleth": [
           {
            "colorbar": {
             "outlinewidth": 0,
             "ticks": ""
            },
            "type": "choropleth"
           }
          ],
          "contour": [
           {
            "colorbar": {
             "outlinewidth": 0,
             "ticks": ""
            },
            "colorscale": [
             [
              0,
              "#0d0887"
             ],
             [
              0.1111111111111111,
              "#46039f"
             ],
             [
              0.2222222222222222,
              "#7201a8"
             ],
             [
              0.3333333333333333,
              "#9c179e"
             ],
             [
              0.4444444444444444,
              "#bd3786"
             ],
             [
              0.5555555555555556,
              "#d8576b"
             ],
             [
              0.6666666666666666,
              "#ed7953"
             ],
             [
              0.7777777777777778,
              "#fb9f3a"
             ],
             [
              0.8888888888888888,
              "#fdca26"
             ],
             [
              1,
              "#f0f921"
             ]
            ],
            "type": "contour"
           }
          ],
          "contourcarpet": [
           {
            "colorbar": {
             "outlinewidth": 0,
             "ticks": ""
            },
            "type": "contourcarpet"
           }
          ],
          "heatmap": [
           {
            "colorbar": {
             "outlinewidth": 0,
             "ticks": ""
            },
            "colorscale": [
             [
              0,
              "#0d0887"
             ],
             [
              0.1111111111111111,
              "#46039f"
             ],
             [
              0.2222222222222222,
              "#7201a8"
             ],
             [
              0.3333333333333333,
              "#9c179e"
             ],
             [
              0.4444444444444444,
              "#bd3786"
             ],
             [
              0.5555555555555556,
              "#d8576b"
             ],
             [
              0.6666666666666666,
              "#ed7953"
             ],
             [
              0.7777777777777778,
              "#fb9f3a"
             ],
             [
              0.8888888888888888,
              "#fdca26"
             ],
             [
              1,
              "#f0f921"
             ]
            ],
            "type": "heatmap"
           }
          ],
          "histogram": [
           {
            "marker": {
             "pattern": {
              "fillmode": "overlay",
              "size": 10,
              "solidity": 0.2
             }
            },
            "type": "histogram"
           }
          ],
          "histogram2d": [
           {
            "colorbar": {
             "outlinewidth": 0,
             "ticks": ""
            },
            "colorscale": [
             [
              0,
              "#0d0887"
             ],
             [
              0.1111111111111111,
              "#46039f"
             ],
             [
              0.2222222222222222,
              "#7201a8"
             ],
             [
              0.3333333333333333,
              "#9c179e"
             ],
             [
              0.4444444444444444,
              "#bd3786"
             ],
             [
              0.5555555555555556,
              "#d8576b"
             ],
             [
              0.6666666666666666,
              "#ed7953"
             ],
             [
              0.7777777777777778,
              "#fb9f3a"
             ],
             [
              0.8888888888888888,
              "#fdca26"
             ],
             [
              1,
              "#f0f921"
             ]
            ],
            "type": "histogram2d"
           }
          ],
          "histogram2dcontour": [
           {
            "colorbar": {
             "outlinewidth": 0,
             "ticks": ""
            },
            "colorscale": [
             [
              0,
              "#0d0887"
             ],
             [
              0.1111111111111111,
              "#46039f"
             ],
             [
              0.2222222222222222,
              "#7201a8"
             ],
             [
              0.3333333333333333,
              "#9c179e"
             ],
             [
              0.4444444444444444,
              "#bd3786"
             ],
             [
              0.5555555555555556,
              "#d8576b"
             ],
             [
              0.6666666666666666,
              "#ed7953"
             ],
             [
              0.7777777777777778,
              "#fb9f3a"
             ],
             [
              0.8888888888888888,
              "#fdca26"
             ],
             [
              1,
              "#f0f921"
             ]
            ],
            "type": "histogram2dcontour"
           }
          ],
          "mesh3d": [
           {
            "colorbar": {
             "outlinewidth": 0,
             "ticks": ""
            },
            "type": "mesh3d"
           }
          ],
          "parcoords": [
           {
            "line": {
             "colorbar": {
              "outlinewidth": 0,
              "ticks": ""
             }
            },
            "type": "parcoords"
           }
          ],
          "pie": [
           {
            "automargin": true,
            "type": "pie"
           }
          ],
          "scatter": [
           {
            "fillpattern": {
             "fillmode": "overlay",
             "size": 10,
             "solidity": 0.2
            },
            "type": "scatter"
           }
          ],
          "scatter3d": [
           {
            "line": {
             "colorbar": {
              "outlinewidth": 0,
              "ticks": ""
             }
            },
            "marker": {
             "colorbar": {
              "outlinewidth": 0,
              "ticks": ""
             }
            },
            "type": "scatter3d"
           }
          ],
          "scattercarpet": [
           {
            "marker": {
             "colorbar": {
              "outlinewidth": 0,
              "ticks": ""
             }
            },
            "type": "scattercarpet"
           }
          ],
          "scattergeo": [
           {
            "marker": {
             "colorbar": {
              "outlinewidth": 0,
              "ticks": ""
             }
            },
            "type": "scattergeo"
           }
          ],
          "scattergl": [
           {
            "marker": {
             "colorbar": {
              "outlinewidth": 0,
              "ticks": ""
             }
            },
            "type": "scattergl"
           }
          ],
          "scattermap": [
           {
            "marker": {
             "colorbar": {
              "outlinewidth": 0,
              "ticks": ""
             }
            },
            "type": "scattermap"
           }
          ],
          "scattermapbox": [
           {
            "marker": {
             "colorbar": {
              "outlinewidth": 0,
              "ticks": ""
             }
            },
            "type": "scattermapbox"
           }
          ],
          "scatterpolar": [
           {
            "marker": {
             "colorbar": {
              "outlinewidth": 0,
              "ticks": ""
             }
            },
            "type": "scatterpolar"
           }
          ],
          "scatterpolargl": [
           {
            "marker": {
             "colorbar": {
              "outlinewidth": 0,
              "ticks": ""
             }
            },
            "type": "scatterpolargl"
           }
          ],
          "scatterternary": [
           {
            "marker": {
             "colorbar": {
              "outlinewidth": 0,
              "ticks": ""
             }
            },
            "type": "scatterternary"
           }
          ],
          "surface": [
           {
            "colorbar": {
             "outlinewidth": 0,
             "ticks": ""
            },
            "colorscale": [
             [
              0,
              "#0d0887"
             ],
             [
              0.1111111111111111,
              "#46039f"
             ],
             [
              0.2222222222222222,
              "#7201a8"
             ],
             [
              0.3333333333333333,
              "#9c179e"
             ],
             [
              0.4444444444444444,
              "#bd3786"
             ],
             [
              0.5555555555555556,
              "#d8576b"
             ],
             [
              0.6666666666666666,
              "#ed7953"
             ],
             [
              0.7777777777777778,
              "#fb9f3a"
             ],
             [
              0.8888888888888888,
              "#fdca26"
             ],
             [
              1,
              "#f0f921"
             ]
            ],
            "type": "surface"
           }
          ],
          "table": [
           {
            "cells": {
             "fill": {
              "color": "#EBF0F8"
             },
             "line": {
              "color": "white"
             }
            },
            "header": {
             "fill": {
              "color": "#C8D4E3"
             },
             "line": {
              "color": "white"
             }
            },
            "type": "table"
           }
          ]
         },
         "layout": {
          "annotationdefaults": {
           "arrowcolor": "#2a3f5f",
           "arrowhead": 0,
           "arrowwidth": 1
          },
          "autotypenumbers": "strict",
          "coloraxis": {
           "colorbar": {
            "outlinewidth": 0,
            "ticks": ""
           }
          },
          "colorscale": {
           "diverging": [
            [
             0,
             "#8e0152"
            ],
            [
             0.1,
             "#c51b7d"
            ],
            [
             0.2,
             "#de77ae"
            ],
            [
             0.3,
             "#f1b6da"
            ],
            [
             0.4,
             "#fde0ef"
            ],
            [
             0.5,
             "#f7f7f7"
            ],
            [
             0.6,
             "#e6f5d0"
            ],
            [
             0.7,
             "#b8e186"
            ],
            [
             0.8,
             "#7fbc41"
            ],
            [
             0.9,
             "#4d9221"
            ],
            [
             1,
             "#276419"
            ]
           ],
           "sequential": [
            [
             0,
             "#0d0887"
            ],
            [
             0.1111111111111111,
             "#46039f"
            ],
            [
             0.2222222222222222,
             "#7201a8"
            ],
            [
             0.3333333333333333,
             "#9c179e"
            ],
            [
             0.4444444444444444,
             "#bd3786"
            ],
            [
             0.5555555555555556,
             "#d8576b"
            ],
            [
             0.6666666666666666,
             "#ed7953"
            ],
            [
             0.7777777777777778,
             "#fb9f3a"
            ],
            [
             0.8888888888888888,
             "#fdca26"
            ],
            [
             1,
             "#f0f921"
            ]
           ],
           "sequentialminus": [
            [
             0,
             "#0d0887"
            ],
            [
             0.1111111111111111,
             "#46039f"
            ],
            [
             0.2222222222222222,
             "#7201a8"
            ],
            [
             0.3333333333333333,
             "#9c179e"
            ],
            [
             0.4444444444444444,
             "#bd3786"
            ],
            [
             0.5555555555555556,
             "#d8576b"
            ],
            [
             0.6666666666666666,
             "#ed7953"
            ],
            [
             0.7777777777777778,
             "#fb9f3a"
            ],
            [
             0.8888888888888888,
             "#fdca26"
            ],
            [
             1,
             "#f0f921"
            ]
           ]
          },
          "colorway": [
           "#636efa",
           "#EF553B",
           "#00cc96",
           "#ab63fa",
           "#FFA15A",
           "#19d3f3",
           "#FF6692",
           "#B6E880",
           "#FF97FF",
           "#FECB52"
          ],
          "font": {
           "color": "#2a3f5f"
          },
          "geo": {
           "bgcolor": "white",
           "lakecolor": "white",
           "landcolor": "#E5ECF6",
           "showlakes": true,
           "showland": true,
           "subunitcolor": "white"
          },
          "hoverlabel": {
           "align": "left"
          },
          "hovermode": "closest",
          "mapbox": {
           "style": "light"
          },
          "paper_bgcolor": "white",
          "plot_bgcolor": "#E5ECF6",
          "polar": {
           "angularaxis": {
            "gridcolor": "white",
            "linecolor": "white",
            "ticks": ""
           },
           "bgcolor": "#E5ECF6",
           "radialaxis": {
            "gridcolor": "white",
            "linecolor": "white",
            "ticks": ""
           }
          },
          "scene": {
           "xaxis": {
            "backgroundcolor": "#E5ECF6",
            "gridcolor": "white",
            "gridwidth": 2,
            "linecolor": "white",
            "showbackground": true,
            "ticks": "",
            "zerolinecolor": "white"
           },
           "yaxis": {
            "backgroundcolor": "#E5ECF6",
            "gridcolor": "white",
            "gridwidth": 2,
            "linecolor": "white",
            "showbackground": true,
            "ticks": "",
            "zerolinecolor": "white"
           },
           "zaxis": {
            "backgroundcolor": "#E5ECF6",
            "gridcolor": "white",
            "gridwidth": 2,
            "linecolor": "white",
            "showbackground": true,
            "ticks": "",
            "zerolinecolor": "white"
           }
          },
          "shapedefaults": {
           "line": {
            "color": "#2a3f5f"
           }
          },
          "ternary": {
           "aaxis": {
            "gridcolor": "white",
            "linecolor": "white",
            "ticks": ""
           },
           "baxis": {
            "gridcolor": "white",
            "linecolor": "white",
            "ticks": ""
           },
           "bgcolor": "#E5ECF6",
           "caxis": {
            "gridcolor": "white",
            "linecolor": "white",
            "ticks": ""
           }
          },
          "title": {
           "x": 0.05
          },
          "xaxis": {
           "automargin": true,
           "gridcolor": "white",
           "linecolor": "white",
           "ticks": "",
           "title": {
            "standoff": 15
           },
           "zerolinecolor": "white",
           "zerolinewidth": 2
          },
          "yaxis": {
           "automargin": true,
           "gridcolor": "white",
           "linecolor": "white",
           "ticks": "",
           "title": {
            "standoff": 15
           },
           "zerolinecolor": "white",
           "zerolinewidth": 2
          }
         }
        },
        "title": {
         "text": "Euro area: Euro area consumer confidence"
        },
        "xaxis": {
         "anchor": "y",
         "domain": [
          0,
          1
         ],
         "title": {
          "text": ""
         }
        },
        "yaxis": {
         "anchor": "x",
         "domain": [
          0,
          1
         ],
         "title": {
          "text": "Points"
         }
        }
       }
      }
     },
     "metadata": {},
     "output_type": "display_data"
    }
   ],
   "source": [
    "scr.plot_series(ann_box_pos=(0, -0.22))  ## Plot the series specifying ths series as the on to plot rather than the series attribute of the TE_Scraper."
   ]
  }
 ],
 "metadata": {
  "kernelspec": {
   "display_name": "ted",
   "language": "python",
   "name": "python3"
  },
  "language_info": {
   "codemirror_mode": {
    "name": "ipython",
    "version": 3
   },
   "file_extension": ".py",
   "mimetype": "text/x-python",
   "name": "python",
   "nbconvert_exporter": "python",
   "pygments_lexer": "ipython3",
   "version": "3.11.11"
  }
 },
 "nbformat": 4,
 "nbformat_minor": 2
}
