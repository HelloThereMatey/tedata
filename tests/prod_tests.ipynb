{
 "cells": [
  {
   "cell_type": "code",
   "execution_count": 1,
   "metadata": {},
   "outputs": [
    {
     "name": "stderr",
     "output_type": "stream",
     "text": [
      "INFO - tedata package initialized successfully!\n"
     ]
    }
   ],
   "source": [
    "import sys\n",
    "import os\n",
    "import pandas as pd\n",
    "from pprint import pprint\n",
    "wd = %pwd\n",
    "parent = os.path.dirname(wd)\n",
    "fdel = os.path.sep\n",
    "sys.path.append(parent+fdel+\"src\")\n",
    "import tedata as ted"
   ]
  },
  {
   "cell_type": "markdown",
   "metadata": {},
   "source": [
    "# tedata package\n",
    "Download data from Trading Economics. There are several ways to use this package. \n",
    "# Method #1: search for indicators and then download the data for a given search result.\n",
    "## Initialise new search_TE object. \n",
    "Object will use an existing webdriver if there is already more than one active in the namespace when use_existing_driver=True. \n",
    "This will save you some time and be more memory efficient."
   ]
  },
  {
   "cell_type": "code",
   "execution_count": 2,
   "metadata": {},
   "outputs": [
    {
     "name": "stderr",
     "output_type": "stream",
     "text": [
      "INFO - New firefox webdriver created.\n",
      "INFO - Loading home page at https://tradingeconomics.com/ ...\n",
      "INFO - Home page at https://tradingeconomics.com loaded successfully! Search box element found.\n"
     ]
    }
   ],
   "source": [
    "search = ted.search_TE(use_existing_driver=False, headless=False)  # Will open firefox browser window as headless=False."
   ]
  },
  {
   "cell_type": "markdown",
   "metadata": {},
   "source": [
    "### Use the search_trading_economics method to use the search bar on the homepage to search."
   ]
  },
  {
   "cell_type": "code",
   "execution_count": 4,
   "metadata": {},
   "outputs": [
    {
     "name": "stderr",
     "output_type": "stream",
     "text": [
      "INFO - Loading home page at https://tradingeconomics.com/ ...\n",
      "INFO - Home page at https://tradingeconomics.com loaded successfully! Search box element found.\n",
      "INFO - Clicking search box...\n",
      "INFO - Entering search term: ISM Services\n",
      "INFO - Submitting search, waiting 5s for page to load...\n"
     ]
    },
    {
     "name": "stdout",
     "output_type": "stream",
     "text": [
      "Found search results on page.\n"
     ]
    },
    {
     "data": {
      "application/vnd.microsoft.datawrangler.viewer.v0+json": {
       "columns": [
        {
         "name": "result",
         "rawType": "int64",
         "type": "integer"
        },
        {
         "name": "country",
         "rawType": "object",
         "type": "string"
        },
        {
         "name": "metric",
         "rawType": "object",
         "type": "string"
        },
        {
         "name": "url",
         "rawType": "object",
         "type": "string"
        }
       ],
       "conversionMethod": "pd.DataFrame",
       "ref": "a38d66e5-7cf7-49fb-9781-1eae02ae4c0d",
       "rows": [
        [
         "0",
         "united states",
         "non manufacturing pmi",
         "https://tradingeconomics.com/united-states/non-manufacturing-pmi"
        ],
        [
         "1",
         "united states",
         "ism non manufacturing prices",
         "https://tradingeconomics.com/united-states/ism-non-manufacturing-prices"
        ],
        [
         "2",
         "united states",
         "ism non manufacturing business activity",
         "https://tradingeconomics.com/united-states/ism-non-manufacturing-business-activity"
        ],
        [
         "3",
         "united states",
         "ism non manufacturing employment",
         "https://tradingeconomics.com/united-states/ism-non-manufacturing-employment"
        ],
        [
         "4",
         "united states",
         "ism non manufacturing new orders",
         "https://tradingeconomics.com/united-states/ism-non-manufacturing-new-orders"
        ],
        [
         "5",
         "iceland",
         "insurance and financial services percent of commercial service imports wb data.html",
         "https://tradingeconomics.com/iceland/insurance-and-financial-services-percent-of-commercial-service-imports-wb-data.html"
        ],
        [
         "6",
         "iceland",
         "employees services male percent of male employment wb data.html",
         "https://tradingeconomics.com/iceland/employees-services-male-percent-of-male-employment-wb-data.html"
        ],
        [
         "7",
         "iceland",
         "insurance and financial services percent of commercial service exports wb data.html",
         "https://tradingeconomics.com/iceland/insurance-and-financial-services-percent-of-commercial-service-exports-wb-data.html"
        ],
        [
         "8",
         "iceland",
         "exports of goods and services annual percent growth wb data.html",
         "https://tradingeconomics.com/iceland/exports-of-goods-and-services-annual-percent-growth-wb-data.html"
        ],
        [
         "9",
         "iceland",
         "imports of goods and services percent of gdp wb data.html",
         "https://tradingeconomics.com/iceland/imports-of-goods-and-services-percent-of-gdp-wb-data.html"
        ],
        [
         "10",
         "iceland",
         "ict service exports percent of service exports bop wb data.html",
         "https://tradingeconomics.com/iceland/ict-service-exports-percent-of-service-exports-bop-wb-data.html"
        ],
        [
         "11",
         "iceland",
         "insurance and financial services percent of service exports bop wb data.html",
         "https://tradingeconomics.com/iceland/insurance-and-financial-services-percent-of-service-exports-bop-wb-data.html"
        ],
        [
         "12",
         "iceland",
         "taxes on goods and services percent value added of industry and services wb data.html",
         "https://tradingeconomics.com/iceland/taxes-on-goods-and-services-percent-value-added-of-industry-and-services-wb-data.html"
        ],
        [
         "13",
         "iceland",
         "taxes on goods and services current lcu wb data.html",
         "https://tradingeconomics.com/iceland/taxes-on-goods-and-services-current-lcu-wb-data.html"
        ],
        [
         "14",
         "iceland",
         "people using basic sanitation services urban percent of urban population wb data.html",
         "https://tradingeconomics.com/iceland/people-using-basic-sanitation-services-urban-percent-of-urban-population-wb-data.html"
        ],
        [
         "15",
         "iceland",
         "logistics performance index competence and quality of logistics services 1 low to 5 high wb data.html",
         "https://tradingeconomics.com/iceland/logistics-performance-index-competence-and-quality-of-logistics-services-1-low-to-5-high-wb-data.html"
        ],
        [
         "16",
         "iceland",
         "exports of goods and services us dollar wb data.html",
         "https://tradingeconomics.com/iceland/exports-of-goods-and-services-us-dollar-wb-data.html"
        ],
        [
         "17",
         "iceland",
         "imports of goods and services annual percent growth wb data.html",
         "https://tradingeconomics.com/iceland/imports-of-goods-and-services-annual-percent-growth-wb-data.html"
        ],
        [
         "18",
         "iceland",
         "imports of goods and services us dollar wb data.html",
         "https://tradingeconomics.com/iceland/imports-of-goods-and-services-us-dollar-wb-data.html"
        ],
        [
         "19",
         "iceland",
         "imports of goods services and income bop us dollar wb data.html",
         "https://tradingeconomics.com/iceland/imports-of-goods-services-and-income-bop-us-dollar-wb-data.html"
        ],
        [
         "20",
         "iceland",
         "ict service exports bop us dollar wb data.html",
         "https://tradingeconomics.com/iceland/ict-service-exports-bop-us-dollar-wb-data.html"
        ],
        [
         "21",
         "iceland",
         "travel services percent of service imports bop wb data.html",
         "https://tradingeconomics.com/iceland/travel-services-percent-of-service-imports-bop-wb-data.html"
        ],
        [
         "22",
         "iceland",
         "communications computer etc percent of service exports bop wb data.html",
         "https://tradingeconomics.com/iceland/communications-computer-etc-percent-of-service-exports-bop-wb-data.html"
        ],
        [
         "23",
         "iceland",
         "net trade in goods and services bop us dollar wb data.html",
         "https://tradingeconomics.com/iceland/net-trade-in-goods-and-services-bop-us-dollar-wb-data.html"
        ],
        [
         "24",
         "iceland",
         "service exports bop us dollar wb data.html",
         "https://tradingeconomics.com/iceland/service-exports-bop-us-dollar-wb-data.html"
        ],
        [
         "25",
         "iceland",
         "commercial service imports us dollar wb data.html",
         "https://tradingeconomics.com/iceland/commercial-service-imports-us-dollar-wb-data.html"
        ],
        [
         "26",
         "iceland",
         "computer communications and other services percent of commercial service exports wb data.html",
         "https://tradingeconomics.com/iceland/computer-communications-and-other-services-percent-of-commercial-service-exports-wb-data.html"
        ],
        [
         "27",
         "iceland",
         "people using basic sanitation services rural percent of rural population wb data.html",
         "https://tradingeconomics.com/iceland/people-using-basic-sanitation-services-rural-percent-of-rural-population-wb-data.html"
        ],
        [
         "28",
         "iceland",
         "exports of goods services and income bop us dollar wb data.html",
         "https://tradingeconomics.com/iceland/exports-of-goods-services-and-income-bop-us-dollar-wb-data.html"
        ],
        [
         "29",
         "iceland",
         "taxes on goods and services percent of revenue wb data.html",
         "https://tradingeconomics.com/iceland/taxes-on-goods-and-services-percent-of-revenue-wb-data.html"
        ],
        [
         "30",
         "iceland",
         "exports of goods and services current lcu wb data.html",
         "https://tradingeconomics.com/iceland/exports-of-goods-and-services-current-lcu-wb-data.html"
        ],
        [
         "31",
         "iceland",
         "exports of goods and services constant lcu wb data.html",
         "https://tradingeconomics.com/iceland/exports-of-goods-and-services-constant-lcu-wb-data.html"
        ],
        [
         "32",
         "iceland",
         "transport services percent of commercial service imports wb data.html",
         "https://tradingeconomics.com/iceland/transport-services-percent-of-commercial-service-imports-wb-data.html"
        ],
        [
         "33",
         "iceland",
         "communications computer etc percent of service imports bop wb data.html",
         "https://tradingeconomics.com/iceland/communications-computer-etc-percent-of-service-imports-bop-wb-data.html"
        ],
        [
         "34",
         "iceland",
         "exports of goods and services bop us dollar wb data.html",
         "https://tradingeconomics.com/iceland/exports-of-goods-and-services-bop-us-dollar-wb-data.html"
        ],
        [
         "35",
         "iceland",
         "transport services percent of service exports bop wb data.html",
         "https://tradingeconomics.com/iceland/transport-services-percent-of-service-exports-bop-wb-data.html"
        ],
        [
         "36",
         "iceland",
         "goods and services expense percent of expense wb data.html",
         "https://tradingeconomics.com/iceland/goods-and-services-expense-percent-of-expense-wb-data.html"
        ],
        [
         "37",
         "iceland",
         "external balance on goods and services constant lcu wb data.html",
         "https://tradingeconomics.com/iceland/external-balance-on-goods-and-services-constant-lcu-wb-data.html"
        ],
        [
         "38",
         "iceland",
         "external balance on goods and services current lcu wb data.html",
         "https://tradingeconomics.com/iceland/external-balance-on-goods-and-services-current-lcu-wb-data.html"
        ],
        [
         "39",
         "iceland",
         "external balance on goods and services us dollar wb data.html",
         "https://tradingeconomics.com/iceland/external-balance-on-goods-and-services-us-dollar-wb-data.html"
        ],
        [
         "40",
         "iceland",
         "imports of goods and services constant lcu wb data.html",
         "https://tradingeconomics.com/iceland/imports-of-goods-and-services-constant-lcu-wb-data.html"
        ],
        [
         "41",
         "iceland",
         "people using basic sanitation services percent of population wb data.html",
         "https://tradingeconomics.com/iceland/people-using-basic-sanitation-services-percent-of-population-wb-data.html"
        ],
        [
         "42",
         "iceland",
         "commercial service exports us dollar wb data.html",
         "https://tradingeconomics.com/iceland/commercial-service-exports-us-dollar-wb-data.html"
        ],
        [
         "43",
         "iceland",
         "employment in services percent of total employment wb data.html",
         "https://tradingeconomics.com/iceland/employment-in-services-percent-of-total-employment-wb-data.html"
        ],
        [
         "44",
         "iceland",
         "transport services percent of commercial service exports wb data.html",
         "https://tradingeconomics.com/iceland/transport-services-percent-of-commercial-service-exports-wb-data.html"
        ],
        [
         "45",
         "iceland",
         "trade in services percent of gdp wb data.html",
         "https://tradingeconomics.com/iceland/trade-in-services-percent-of-gdp-wb-data.html"
        ],
        [
         "46",
         "iceland",
         "service imports bop us dollar wb data.html",
         "https://tradingeconomics.com/iceland/service-imports-bop-us-dollar-wb-data.html"
        ],
        [
         "47",
         "iceland",
         "insurance and financial services percent of service imports bop wb data.html",
         "https://tradingeconomics.com/iceland/insurance-and-financial-services-percent-of-service-imports-bop-wb-data.html"
        ],
        [
         "48",
         "iceland",
         "goods and services expense current lcu wb data.html",
         "https://tradingeconomics.com/iceland/goods-and-services-expense-current-lcu-wb-data.html"
        ],
        [
         "49",
         "iceland",
         "external balance on goods and services percent of gdp wb data.html",
         "https://tradingeconomics.com/iceland/external-balance-on-goods-and-services-percent-of-gdp-wb-data.html"
        ]
       ],
       "shape": {
        "columns": 3,
        "rows": 50
       }
      },
      "text/html": [
       "<div>\n",
       "<style scoped>\n",
       "    .dataframe tbody tr th:only-of-type {\n",
       "        vertical-align: middle;\n",
       "    }\n",
       "\n",
       "    .dataframe tbody tr th {\n",
       "        vertical-align: top;\n",
       "    }\n",
       "\n",
       "    .dataframe thead th {\n",
       "        text-align: right;\n",
       "    }\n",
       "</style>\n",
       "<table border=\"1\" class=\"dataframe\">\n",
       "  <thead>\n",
       "    <tr style=\"text-align: right;\">\n",
       "      <th></th>\n",
       "      <th>country</th>\n",
       "      <th>metric</th>\n",
       "      <th>url</th>\n",
       "    </tr>\n",
       "    <tr>\n",
       "      <th>result</th>\n",
       "      <th></th>\n",
       "      <th></th>\n",
       "      <th></th>\n",
       "    </tr>\n",
       "  </thead>\n",
       "  <tbody>\n",
       "    <tr>\n",
       "      <th>0</th>\n",
       "      <td>united states</td>\n",
       "      <td>non manufacturing pmi</td>\n",
       "      <td>https://tradingeconomics.com/united-states/non...</td>\n",
       "    </tr>\n",
       "    <tr>\n",
       "      <th>1</th>\n",
       "      <td>united states</td>\n",
       "      <td>ism non manufacturing prices</td>\n",
       "      <td>https://tradingeconomics.com/united-states/ism...</td>\n",
       "    </tr>\n",
       "    <tr>\n",
       "      <th>2</th>\n",
       "      <td>united states</td>\n",
       "      <td>ism non manufacturing business activity</td>\n",
       "      <td>https://tradingeconomics.com/united-states/ism...</td>\n",
       "    </tr>\n",
       "    <tr>\n",
       "      <th>3</th>\n",
       "      <td>united states</td>\n",
       "      <td>ism non manufacturing employment</td>\n",
       "      <td>https://tradingeconomics.com/united-states/ism...</td>\n",
       "    </tr>\n",
       "    <tr>\n",
       "      <th>4</th>\n",
       "      <td>united states</td>\n",
       "      <td>ism non manufacturing new orders</td>\n",
       "      <td>https://tradingeconomics.com/united-states/ism...</td>\n",
       "    </tr>\n",
       "    <tr>\n",
       "      <th>5</th>\n",
       "      <td>iceland</td>\n",
       "      <td>insurance and financial services percent of co...</td>\n",
       "      <td>https://tradingeconomics.com/iceland/insurance...</td>\n",
       "    </tr>\n",
       "    <tr>\n",
       "      <th>6</th>\n",
       "      <td>iceland</td>\n",
       "      <td>employees services male percent of male employ...</td>\n",
       "      <td>https://tradingeconomics.com/iceland/employees...</td>\n",
       "    </tr>\n",
       "    <tr>\n",
       "      <th>7</th>\n",
       "      <td>iceland</td>\n",
       "      <td>insurance and financial services percent of co...</td>\n",
       "      <td>https://tradingeconomics.com/iceland/insurance...</td>\n",
       "    </tr>\n",
       "    <tr>\n",
       "      <th>8</th>\n",
       "      <td>iceland</td>\n",
       "      <td>exports of goods and services annual percent g...</td>\n",
       "      <td>https://tradingeconomics.com/iceland/exports-o...</td>\n",
       "    </tr>\n",
       "    <tr>\n",
       "      <th>9</th>\n",
       "      <td>iceland</td>\n",
       "      <td>imports of goods and services percent of gdp w...</td>\n",
       "      <td>https://tradingeconomics.com/iceland/imports-o...</td>\n",
       "    </tr>\n",
       "    <tr>\n",
       "      <th>10</th>\n",
       "      <td>iceland</td>\n",
       "      <td>ict service exports percent of service exports...</td>\n",
       "      <td>https://tradingeconomics.com/iceland/ict-servi...</td>\n",
       "    </tr>\n",
       "    <tr>\n",
       "      <th>11</th>\n",
       "      <td>iceland</td>\n",
       "      <td>insurance and financial services percent of se...</td>\n",
       "      <td>https://tradingeconomics.com/iceland/insurance...</td>\n",
       "    </tr>\n",
       "    <tr>\n",
       "      <th>12</th>\n",
       "      <td>iceland</td>\n",
       "      <td>taxes on goods and services percent value adde...</td>\n",
       "      <td>https://tradingeconomics.com/iceland/taxes-on-...</td>\n",
       "    </tr>\n",
       "    <tr>\n",
       "      <th>13</th>\n",
       "      <td>iceland</td>\n",
       "      <td>taxes on goods and services current lcu wb dat...</td>\n",
       "      <td>https://tradingeconomics.com/iceland/taxes-on-...</td>\n",
       "    </tr>\n",
       "    <tr>\n",
       "      <th>14</th>\n",
       "      <td>iceland</td>\n",
       "      <td>people using basic sanitation services urban p...</td>\n",
       "      <td>https://tradingeconomics.com/iceland/people-us...</td>\n",
       "    </tr>\n",
       "    <tr>\n",
       "      <th>15</th>\n",
       "      <td>iceland</td>\n",
       "      <td>logistics performance index competence and qua...</td>\n",
       "      <td>https://tradingeconomics.com/iceland/logistics...</td>\n",
       "    </tr>\n",
       "    <tr>\n",
       "      <th>16</th>\n",
       "      <td>iceland</td>\n",
       "      <td>exports of goods and services us dollar wb dat...</td>\n",
       "      <td>https://tradingeconomics.com/iceland/exports-o...</td>\n",
       "    </tr>\n",
       "    <tr>\n",
       "      <th>17</th>\n",
       "      <td>iceland</td>\n",
       "      <td>imports of goods and services annual percent g...</td>\n",
       "      <td>https://tradingeconomics.com/iceland/imports-o...</td>\n",
       "    </tr>\n",
       "    <tr>\n",
       "      <th>18</th>\n",
       "      <td>iceland</td>\n",
       "      <td>imports of goods and services us dollar wb dat...</td>\n",
       "      <td>https://tradingeconomics.com/iceland/imports-o...</td>\n",
       "    </tr>\n",
       "    <tr>\n",
       "      <th>19</th>\n",
       "      <td>iceland</td>\n",
       "      <td>imports of goods services and income bop us do...</td>\n",
       "      <td>https://tradingeconomics.com/iceland/imports-o...</td>\n",
       "    </tr>\n",
       "    <tr>\n",
       "      <th>20</th>\n",
       "      <td>iceland</td>\n",
       "      <td>ict service exports bop us dollar wb data.html</td>\n",
       "      <td>https://tradingeconomics.com/iceland/ict-servi...</td>\n",
       "    </tr>\n",
       "    <tr>\n",
       "      <th>21</th>\n",
       "      <td>iceland</td>\n",
       "      <td>travel services percent of service imports bop...</td>\n",
       "      <td>https://tradingeconomics.com/iceland/travel-se...</td>\n",
       "    </tr>\n",
       "    <tr>\n",
       "      <th>22</th>\n",
       "      <td>iceland</td>\n",
       "      <td>communications computer etc percent of service...</td>\n",
       "      <td>https://tradingeconomics.com/iceland/communica...</td>\n",
       "    </tr>\n",
       "    <tr>\n",
       "      <th>23</th>\n",
       "      <td>iceland</td>\n",
       "      <td>net trade in goods and services bop us dollar ...</td>\n",
       "      <td>https://tradingeconomics.com/iceland/net-trade...</td>\n",
       "    </tr>\n",
       "    <tr>\n",
       "      <th>24</th>\n",
       "      <td>iceland</td>\n",
       "      <td>service exports bop us dollar wb data.html</td>\n",
       "      <td>https://tradingeconomics.com/iceland/service-e...</td>\n",
       "    </tr>\n",
       "    <tr>\n",
       "      <th>25</th>\n",
       "      <td>iceland</td>\n",
       "      <td>commercial service imports us dollar wb data.html</td>\n",
       "      <td>https://tradingeconomics.com/iceland/commercia...</td>\n",
       "    </tr>\n",
       "    <tr>\n",
       "      <th>26</th>\n",
       "      <td>iceland</td>\n",
       "      <td>computer communications and other services per...</td>\n",
       "      <td>https://tradingeconomics.com/iceland/computer-...</td>\n",
       "    </tr>\n",
       "    <tr>\n",
       "      <th>27</th>\n",
       "      <td>iceland</td>\n",
       "      <td>people using basic sanitation services rural p...</td>\n",
       "      <td>https://tradingeconomics.com/iceland/people-us...</td>\n",
       "    </tr>\n",
       "    <tr>\n",
       "      <th>28</th>\n",
       "      <td>iceland</td>\n",
       "      <td>exports of goods services and income bop us do...</td>\n",
       "      <td>https://tradingeconomics.com/iceland/exports-o...</td>\n",
       "    </tr>\n",
       "    <tr>\n",
       "      <th>29</th>\n",
       "      <td>iceland</td>\n",
       "      <td>taxes on goods and services percent of revenue...</td>\n",
       "      <td>https://tradingeconomics.com/iceland/taxes-on-...</td>\n",
       "    </tr>\n",
       "    <tr>\n",
       "      <th>30</th>\n",
       "      <td>iceland</td>\n",
       "      <td>exports of goods and services current lcu wb d...</td>\n",
       "      <td>https://tradingeconomics.com/iceland/exports-o...</td>\n",
       "    </tr>\n",
       "    <tr>\n",
       "      <th>31</th>\n",
       "      <td>iceland</td>\n",
       "      <td>exports of goods and services constant lcu wb ...</td>\n",
       "      <td>https://tradingeconomics.com/iceland/exports-o...</td>\n",
       "    </tr>\n",
       "    <tr>\n",
       "      <th>32</th>\n",
       "      <td>iceland</td>\n",
       "      <td>transport services percent of commercial servi...</td>\n",
       "      <td>https://tradingeconomics.com/iceland/transport...</td>\n",
       "    </tr>\n",
       "    <tr>\n",
       "      <th>33</th>\n",
       "      <td>iceland</td>\n",
       "      <td>communications computer etc percent of service...</td>\n",
       "      <td>https://tradingeconomics.com/iceland/communica...</td>\n",
       "    </tr>\n",
       "    <tr>\n",
       "      <th>34</th>\n",
       "      <td>iceland</td>\n",
       "      <td>exports of goods and services bop us dollar wb...</td>\n",
       "      <td>https://tradingeconomics.com/iceland/exports-o...</td>\n",
       "    </tr>\n",
       "    <tr>\n",
       "      <th>35</th>\n",
       "      <td>iceland</td>\n",
       "      <td>transport services percent of service exports ...</td>\n",
       "      <td>https://tradingeconomics.com/iceland/transport...</td>\n",
       "    </tr>\n",
       "    <tr>\n",
       "      <th>36</th>\n",
       "      <td>iceland</td>\n",
       "      <td>goods and services expense percent of expense ...</td>\n",
       "      <td>https://tradingeconomics.com/iceland/goods-and...</td>\n",
       "    </tr>\n",
       "    <tr>\n",
       "      <th>37</th>\n",
       "      <td>iceland</td>\n",
       "      <td>external balance on goods and services constan...</td>\n",
       "      <td>https://tradingeconomics.com/iceland/external-...</td>\n",
       "    </tr>\n",
       "    <tr>\n",
       "      <th>38</th>\n",
       "      <td>iceland</td>\n",
       "      <td>external balance on goods and services current...</td>\n",
       "      <td>https://tradingeconomics.com/iceland/external-...</td>\n",
       "    </tr>\n",
       "    <tr>\n",
       "      <th>39</th>\n",
       "      <td>iceland</td>\n",
       "      <td>external balance on goods and services us doll...</td>\n",
       "      <td>https://tradingeconomics.com/iceland/external-...</td>\n",
       "    </tr>\n",
       "    <tr>\n",
       "      <th>40</th>\n",
       "      <td>iceland</td>\n",
       "      <td>imports of goods and services constant lcu wb ...</td>\n",
       "      <td>https://tradingeconomics.com/iceland/imports-o...</td>\n",
       "    </tr>\n",
       "    <tr>\n",
       "      <th>41</th>\n",
       "      <td>iceland</td>\n",
       "      <td>people using basic sanitation services percent...</td>\n",
       "      <td>https://tradingeconomics.com/iceland/people-us...</td>\n",
       "    </tr>\n",
       "    <tr>\n",
       "      <th>42</th>\n",
       "      <td>iceland</td>\n",
       "      <td>commercial service exports us dollar wb data.html</td>\n",
       "      <td>https://tradingeconomics.com/iceland/commercia...</td>\n",
       "    </tr>\n",
       "    <tr>\n",
       "      <th>43</th>\n",
       "      <td>iceland</td>\n",
       "      <td>employment in services percent of total employ...</td>\n",
       "      <td>https://tradingeconomics.com/iceland/employmen...</td>\n",
       "    </tr>\n",
       "    <tr>\n",
       "      <th>44</th>\n",
       "      <td>iceland</td>\n",
       "      <td>transport services percent of commercial servi...</td>\n",
       "      <td>https://tradingeconomics.com/iceland/transport...</td>\n",
       "    </tr>\n",
       "    <tr>\n",
       "      <th>45</th>\n",
       "      <td>iceland</td>\n",
       "      <td>trade in services percent of gdp wb data.html</td>\n",
       "      <td>https://tradingeconomics.com/iceland/trade-in-...</td>\n",
       "    </tr>\n",
       "    <tr>\n",
       "      <th>46</th>\n",
       "      <td>iceland</td>\n",
       "      <td>service imports bop us dollar wb data.html</td>\n",
       "      <td>https://tradingeconomics.com/iceland/service-i...</td>\n",
       "    </tr>\n",
       "    <tr>\n",
       "      <th>47</th>\n",
       "      <td>iceland</td>\n",
       "      <td>insurance and financial services percent of se...</td>\n",
       "      <td>https://tradingeconomics.com/iceland/insurance...</td>\n",
       "    </tr>\n",
       "    <tr>\n",
       "      <th>48</th>\n",
       "      <td>iceland</td>\n",
       "      <td>goods and services expense current lcu wb data...</td>\n",
       "      <td>https://tradingeconomics.com/iceland/goods-and...</td>\n",
       "    </tr>\n",
       "    <tr>\n",
       "      <th>49</th>\n",
       "      <td>iceland</td>\n",
       "      <td>external balance on goods and services percent...</td>\n",
       "      <td>https://tradingeconomics.com/iceland/external-...</td>\n",
       "    </tr>\n",
       "  </tbody>\n",
       "</table>\n",
       "</div>"
      ],
      "text/plain": [
       "              country                                             metric  \\\n",
       "result                                                                     \n",
       "0       united states                              non manufacturing pmi   \n",
       "1       united states                       ism non manufacturing prices   \n",
       "2       united states            ism non manufacturing business activity   \n",
       "3       united states                   ism non manufacturing employment   \n",
       "4       united states                   ism non manufacturing new orders   \n",
       "5             iceland  insurance and financial services percent of co...   \n",
       "6             iceland  employees services male percent of male employ...   \n",
       "7             iceland  insurance and financial services percent of co...   \n",
       "8             iceland  exports of goods and services annual percent g...   \n",
       "9             iceland  imports of goods and services percent of gdp w...   \n",
       "10            iceland  ict service exports percent of service exports...   \n",
       "11            iceland  insurance and financial services percent of se...   \n",
       "12            iceland  taxes on goods and services percent value adde...   \n",
       "13            iceland  taxes on goods and services current lcu wb dat...   \n",
       "14            iceland  people using basic sanitation services urban p...   \n",
       "15            iceland  logistics performance index competence and qua...   \n",
       "16            iceland  exports of goods and services us dollar wb dat...   \n",
       "17            iceland  imports of goods and services annual percent g...   \n",
       "18            iceland  imports of goods and services us dollar wb dat...   \n",
       "19            iceland  imports of goods services and income bop us do...   \n",
       "20            iceland     ict service exports bop us dollar wb data.html   \n",
       "21            iceland  travel services percent of service imports bop...   \n",
       "22            iceland  communications computer etc percent of service...   \n",
       "23            iceland  net trade in goods and services bop us dollar ...   \n",
       "24            iceland         service exports bop us dollar wb data.html   \n",
       "25            iceland  commercial service imports us dollar wb data.html   \n",
       "26            iceland  computer communications and other services per...   \n",
       "27            iceland  people using basic sanitation services rural p...   \n",
       "28            iceland  exports of goods services and income bop us do...   \n",
       "29            iceland  taxes on goods and services percent of revenue...   \n",
       "30            iceland  exports of goods and services current lcu wb d...   \n",
       "31            iceland  exports of goods and services constant lcu wb ...   \n",
       "32            iceland  transport services percent of commercial servi...   \n",
       "33            iceland  communications computer etc percent of service...   \n",
       "34            iceland  exports of goods and services bop us dollar wb...   \n",
       "35            iceland  transport services percent of service exports ...   \n",
       "36            iceland  goods and services expense percent of expense ...   \n",
       "37            iceland  external balance on goods and services constan...   \n",
       "38            iceland  external balance on goods and services current...   \n",
       "39            iceland  external balance on goods and services us doll...   \n",
       "40            iceland  imports of goods and services constant lcu wb ...   \n",
       "41            iceland  people using basic sanitation services percent...   \n",
       "42            iceland  commercial service exports us dollar wb data.html   \n",
       "43            iceland  employment in services percent of total employ...   \n",
       "44            iceland  transport services percent of commercial servi...   \n",
       "45            iceland      trade in services percent of gdp wb data.html   \n",
       "46            iceland         service imports bop us dollar wb data.html   \n",
       "47            iceland  insurance and financial services percent of se...   \n",
       "48            iceland  goods and services expense current lcu wb data...   \n",
       "49            iceland  external balance on goods and services percent...   \n",
       "\n",
       "                                                      url  \n",
       "result                                                     \n",
       "0       https://tradingeconomics.com/united-states/non...  \n",
       "1       https://tradingeconomics.com/united-states/ism...  \n",
       "2       https://tradingeconomics.com/united-states/ism...  \n",
       "3       https://tradingeconomics.com/united-states/ism...  \n",
       "4       https://tradingeconomics.com/united-states/ism...  \n",
       "5       https://tradingeconomics.com/iceland/insurance...  \n",
       "6       https://tradingeconomics.com/iceland/employees...  \n",
       "7       https://tradingeconomics.com/iceland/insurance...  \n",
       "8       https://tradingeconomics.com/iceland/exports-o...  \n",
       "9       https://tradingeconomics.com/iceland/imports-o...  \n",
       "10      https://tradingeconomics.com/iceland/ict-servi...  \n",
       "11      https://tradingeconomics.com/iceland/insurance...  \n",
       "12      https://tradingeconomics.com/iceland/taxes-on-...  \n",
       "13      https://tradingeconomics.com/iceland/taxes-on-...  \n",
       "14      https://tradingeconomics.com/iceland/people-us...  \n",
       "15      https://tradingeconomics.com/iceland/logistics...  \n",
       "16      https://tradingeconomics.com/iceland/exports-o...  \n",
       "17      https://tradingeconomics.com/iceland/imports-o...  \n",
       "18      https://tradingeconomics.com/iceland/imports-o...  \n",
       "19      https://tradingeconomics.com/iceland/imports-o...  \n",
       "20      https://tradingeconomics.com/iceland/ict-servi...  \n",
       "21      https://tradingeconomics.com/iceland/travel-se...  \n",
       "22      https://tradingeconomics.com/iceland/communica...  \n",
       "23      https://tradingeconomics.com/iceland/net-trade...  \n",
       "24      https://tradingeconomics.com/iceland/service-e...  \n",
       "25      https://tradingeconomics.com/iceland/commercia...  \n",
       "26      https://tradingeconomics.com/iceland/computer-...  \n",
       "27      https://tradingeconomics.com/iceland/people-us...  \n",
       "28      https://tradingeconomics.com/iceland/exports-o...  \n",
       "29      https://tradingeconomics.com/iceland/taxes-on-...  \n",
       "30      https://tradingeconomics.com/iceland/exports-o...  \n",
       "31      https://tradingeconomics.com/iceland/exports-o...  \n",
       "32      https://tradingeconomics.com/iceland/transport...  \n",
       "33      https://tradingeconomics.com/iceland/communica...  \n",
       "34      https://tradingeconomics.com/iceland/exports-o...  \n",
       "35      https://tradingeconomics.com/iceland/transport...  \n",
       "36      https://tradingeconomics.com/iceland/goods-and...  \n",
       "37      https://tradingeconomics.com/iceland/external-...  \n",
       "38      https://tradingeconomics.com/iceland/external-...  \n",
       "39      https://tradingeconomics.com/iceland/external-...  \n",
       "40      https://tradingeconomics.com/iceland/imports-o...  \n",
       "41      https://tradingeconomics.com/iceland/people-us...  \n",
       "42      https://tradingeconomics.com/iceland/commercia...  \n",
       "43      https://tradingeconomics.com/iceland/employmen...  \n",
       "44      https://tradingeconomics.com/iceland/transport...  \n",
       "45      https://tradingeconomics.com/iceland/trade-in-...  \n",
       "46      https://tradingeconomics.com/iceland/service-i...  \n",
       "47      https://tradingeconomics.com/iceland/insurance...  \n",
       "48      https://tradingeconomics.com/iceland/goods-and...  \n",
       "49      https://tradingeconomics.com/iceland/external-...  "
      ]
     },
     "execution_count": 4,
     "metadata": {},
     "output_type": "execute_result"
    }
   ],
   "source": [
    "search.search_trading_economics(\"ISM Services\", wait_time=5) # Set wait_time to a higher value if you get an empty results table. Default is 5s.\n",
    "search.result_table"
   ]
  },
  {
   "cell_type": "markdown",
   "metadata": {},
   "source": [
    "### Download the time-series for a particular indicator using a search result displayed in your search results table.\n",
    "\n",
    "Sometimes you may get an error straight away on the first run of the ```get_data``` method. Error message will be something about error establising a connection.\n",
    "\n",
    "Noted error messages for this: \n",
    "- Error loading page: Message: Failed to write request to stream\n",
    "- Error loading page: Message: Tried to run command without establishing a connection\n",
    "\n",
    "Just try again if so, it has always worked for me the second time unless internet connection is down or too slow."
   ]
  },
  {
   "cell_type": "code",
   "execution_count": 5,
   "metadata": {},
   "outputs": [
    {
     "name": "stderr",
     "output_type": "stream",
     "text": [
      "INFO - scrape_chart function: Scraping chart at: https://tradingeconomics.com/united-states/non-manufacturing-pmi, time: 2025-02-21 19:19:16.901452, method: path\n"
     ]
    },
    {
     "name": "stdout",
     "output_type": "stream",
     "text": [
      "Attempting to scrape data for result  0 ,  united states non manufacturing pmi\n",
      "Scraping data from: https://tradingeconomics.com/united-states/non-manufacturing-pmi\n"
     ]
    },
    {
     "name": "stderr",
     "output_type": "stream",
     "text": [
      "INFO - WebPage at https://tradingeconomics.com/united-states/non-manufacturing-pmi loaded successfully.\n",
      "INFO - Chart types dictionary created successfully: dict_keys(['Column', 'Spline', 'Areaspline', 'Stepline', 'Line', 'Area'])\n",
      "INFO - \n",
      "Series metadata: \n",
      " {'units': 'points', 'original_source': 'Institute for Supply Management', 'title': 'United States ISM Services PMI', 'indicator': 'non manufacturing pmi', 'country': 'united states', 'source': 'Trading Economics', 'id': 'united-states/non-manufacturing-pmi'}\n"
     ]
    },
    {
     "name": "stdout",
     "output_type": "stream",
     "text": [
      "Using selenium and tooltip scraping to construct the date time index for the time-series, this'll take a bit...\n"
     ]
    },
    {
     "name": "stderr",
     "output_type": "stream",
     "text": [
      "INFO - Date span set to: 1Y\n",
      "INFO - Chart type set to: Spline\n"
     ]
    },
    {
     "name": "stdout",
     "output_type": "stream",
     "text": [
      "Latest dates:  ['Jan 2025', 'Dec 2024', 'Nov 2024', 'Oct 2024', 'Sep 2024', 'Aug 2024', 'Jul 2024', 'Jun 2024', 'May 2024', 'Apr 2024']\n",
      "Frequency of time-series:  MS\n",
      "get_xlims_from_tooltips method: date_span:  1Y , chart_type: splineChart\n"
     ]
    },
    {
     "name": "stderr",
     "output_type": "stream",
     "text": [
      "INFO - Error clicking button: Message: The element with the reference e18e2343-96e4-4934-ada7-49e86ed196b9 is stale; either its node document is not the active document, or it is no longer connected to the DOM; For documentation on this error, please visit: https://www.selenium.dev/documentation/webdriver/troubleshooting/errors#stale-element-reference-exception\n",
      "Stacktrace:\n",
      "RemoteError@chrome://remote/content/shared/RemoteError.sys.mjs:8:8\n",
      "WebDriverError@chrome://remote/content/shared/webdriver/Errors.sys.mjs:193:5\n",
      "StaleElementReferenceError@chrome://remote/content/shared/webdriver/Errors.sys.mjs:725:5\n",
      "getKnownElement@chrome://remote/content/marionette/json.sys.mjs:405:11\n",
      "deserializeJSON@chrome://remote/content/marionette/json.sys.mjs:263:20\n",
      "cloneObject@chrome://remote/content/marionette/json.sys.mjs:59:24\n",
      "deserializeJSON@chrome://remote/content/marionette/json.sys.mjs:293:16\n",
      "json.deserialize@chrome://remote/content/marionette/json.sys.mjs:297:10\n",
      "receiveMessage@chrome://remote/content/marionette/actors/MarionetteCommandsChild.sys.mjs:182:30\n",
      "\n"
     ]
    },
    {
     "name": "stdout",
     "output_type": "stream",
     "text": [
      "Got chart dimensions and plot background element.\n"
     ]
    },
    {
     "name": "stderr",
     "output_type": "stream",
     "text": [
      "INFO - Start and end values scraped from tooltips: \n",
      "{'start_date': Timestamp('1997-07-01 00:00:00'), 'start_value': 56.7, 'end_date': Timestamp('2025-01-01 00:00:00'), 'end_value': 52.8}\n",
      "INFO - DateTimeIndex created successfully for the time-series.\n",
      "INFO - Date span set to: MAX\n",
      "INFO - Y-axis values scraped successfully.\n",
      "INFO - Series path extraction method: Extracting series data from chart soup.\n",
      "INFO - Date span: MAX. Chart type: splineChart, URL: https://tradingeconomics.com/united-states/non-manufacturing-pmi.\n",
      "INFO - DateTimeIndex applied to series, series attribute updated.\n",
      "INFO - Successfully scaled series.\n",
      "INFO - Successfully scraped time-series from chart at:  https://tradingeconomics.com/united-states/non-manufacturing-pmi, now getting some metadata...\n"
     ]
    },
    {
     "name": "stdout",
     "output_type": "stream",
     "text": [
      "Got metadata. \n",
      "\n",
      "Series tail: 2024-09-01    54.5\n",
      "2024-10-01    55.8\n",
      "2024-11-01    52.5\n",
      "2024-12-01    54.0\n",
      "2025-01-01    52.8\n",
      "Freq: MS, Name: non manufacturing pmi, dtype: float64 \n",
      "\n",
      "Scraping complete! Happy pirating yo!\n",
      "Data scraped successfully from: https://tradingeconomics.com/united-states/non-manufacturing-pmi\n"
     ]
    }
   ],
   "source": [
    "scraped = search.get_data(0)  ## Using result number 5 in result_table attribute.\n",
    "# Sometimes you may get an error straight away on the first run of this method. Error message bout error establising connection.\n",
    "# Just try again if so, it has always worked for me the second time unless internet connection is down or too slow"
   ]
  },
  {
   "cell_type": "markdown",
   "metadata": {},
   "source": [
    "### Plot your downloaded series using plotly to create an interactive chart with tooltips."
   ]
  },
  {
   "cell_type": "code",
   "execution_count": 6,
   "metadata": {},
   "outputs": [
    {
     "data": {
      "application/vnd.plotly.v1+json": {
       "config": {
        "plotlyServerURL": "https://plot.ly"
       },
       "data": [
        {
         "hovertemplate": "variable=non manufacturing pmi<br>index=%{x}<br>value=%{y}<extra></extra>",
         "legendgroup": "non manufacturing pmi",
         "line": {
          "color": "#636efa",
          "dash": "solid"
         },
         "marker": {
          "symbol": "circle"
         },
         "mode": "lines",
         "name": "non manufacturing pmi",
         "orientation": "v",
         "showlegend": true,
         "type": "scatter",
         "x": [
          "1997-07-01T00:00:00.000000000",
          "1997-08-01T00:00:00.000000000",
          "1997-09-01T00:00:00.000000000",
          "1997-10-01T00:00:00.000000000",
          "1997-11-01T00:00:00.000000000",
          "1997-12-01T00:00:00.000000000",
          "1998-01-01T00:00:00.000000000",
          "1998-02-01T00:00:00.000000000",
          "1998-03-01T00:00:00.000000000",
          "1998-04-01T00:00:00.000000000",
          "1998-05-01T00:00:00.000000000",
          "1998-06-01T00:00:00.000000000",
          "1998-07-01T00:00:00.000000000",
          "1998-08-01T00:00:00.000000000",
          "1998-09-01T00:00:00.000000000",
          "1998-10-01T00:00:00.000000000",
          "1998-11-01T00:00:00.000000000",
          "1998-12-01T00:00:00.000000000",
          "1999-01-01T00:00:00.000000000",
          "1999-02-01T00:00:00.000000000",
          "1999-03-01T00:00:00.000000000",
          "1999-04-01T00:00:00.000000000",
          "1999-05-01T00:00:00.000000000",
          "1999-06-01T00:00:00.000000000",
          "1999-07-01T00:00:00.000000000",
          "1999-08-01T00:00:00.000000000",
          "1999-09-01T00:00:00.000000000",
          "1999-10-01T00:00:00.000000000",
          "1999-11-01T00:00:00.000000000",
          "1999-12-01T00:00:00.000000000",
          "2000-01-01T00:00:00.000000000",
          "2000-02-01T00:00:00.000000000",
          "2000-03-01T00:00:00.000000000",
          "2000-04-01T00:00:00.000000000",
          "2000-05-01T00:00:00.000000000",
          "2000-06-01T00:00:00.000000000",
          "2000-07-01T00:00:00.000000000",
          "2000-08-01T00:00:00.000000000",
          "2000-09-01T00:00:00.000000000",
          "2000-10-01T00:00:00.000000000",
          "2000-11-01T00:00:00.000000000",
          "2000-12-01T00:00:00.000000000",
          "2001-01-01T00:00:00.000000000",
          "2001-02-01T00:00:00.000000000",
          "2001-03-01T00:00:00.000000000",
          "2001-04-01T00:00:00.000000000",
          "2001-05-01T00:00:00.000000000",
          "2001-06-01T00:00:00.000000000",
          "2001-07-01T00:00:00.000000000",
          "2001-08-01T00:00:00.000000000",
          "2001-09-01T00:00:00.000000000",
          "2001-10-01T00:00:00.000000000",
          "2001-11-01T00:00:00.000000000",
          "2001-12-01T00:00:00.000000000",
          "2002-01-01T00:00:00.000000000",
          "2002-02-01T00:00:00.000000000",
          "2002-03-01T00:00:00.000000000",
          "2002-04-01T00:00:00.000000000",
          "2002-05-01T00:00:00.000000000",
          "2002-06-01T00:00:00.000000000",
          "2002-07-01T00:00:00.000000000",
          "2002-08-01T00:00:00.000000000",
          "2002-09-01T00:00:00.000000000",
          "2002-10-01T00:00:00.000000000",
          "2002-11-01T00:00:00.000000000",
          "2002-12-01T00:00:00.000000000",
          "2003-01-01T00:00:00.000000000",
          "2003-02-01T00:00:00.000000000",
          "2003-03-01T00:00:00.000000000",
          "2003-04-01T00:00:00.000000000",
          "2003-05-01T00:00:00.000000000",
          "2003-06-01T00:00:00.000000000",
          "2003-07-01T00:00:00.000000000",
          "2003-08-01T00:00:00.000000000",
          "2003-09-01T00:00:00.000000000",
          "2003-10-01T00:00:00.000000000",
          "2003-11-01T00:00:00.000000000",
          "2003-12-01T00:00:00.000000000",
          "2004-01-01T00:00:00.000000000",
          "2004-02-01T00:00:00.000000000",
          "2004-03-01T00:00:00.000000000",
          "2004-04-01T00:00:00.000000000",
          "2004-05-01T00:00:00.000000000",
          "2004-06-01T00:00:00.000000000",
          "2004-07-01T00:00:00.000000000",
          "2004-08-01T00:00:00.000000000",
          "2004-09-01T00:00:00.000000000",
          "2004-10-01T00:00:00.000000000",
          "2004-11-01T00:00:00.000000000",
          "2004-12-01T00:00:00.000000000",
          "2005-01-01T00:00:00.000000000",
          "2005-02-01T00:00:00.000000000",
          "2005-03-01T00:00:00.000000000",
          "2005-04-01T00:00:00.000000000",
          "2005-05-01T00:00:00.000000000",
          "2005-06-01T00:00:00.000000000",
          "2005-07-01T00:00:00.000000000",
          "2005-08-01T00:00:00.000000000",
          "2005-09-01T00:00:00.000000000",
          "2005-10-01T00:00:00.000000000",
          "2005-11-01T00:00:00.000000000",
          "2005-12-01T00:00:00.000000000",
          "2006-01-01T00:00:00.000000000",
          "2006-02-01T00:00:00.000000000",
          "2006-03-01T00:00:00.000000000",
          "2006-04-01T00:00:00.000000000",
          "2006-05-01T00:00:00.000000000",
          "2006-06-01T00:00:00.000000000",
          "2006-07-01T00:00:00.000000000",
          "2006-08-01T00:00:00.000000000",
          "2006-09-01T00:00:00.000000000",
          "2006-10-01T00:00:00.000000000",
          "2006-11-01T00:00:00.000000000",
          "2006-12-01T00:00:00.000000000",
          "2007-01-01T00:00:00.000000000",
          "2007-02-01T00:00:00.000000000",
          "2007-03-01T00:00:00.000000000",
          "2007-04-01T00:00:00.000000000",
          "2007-05-01T00:00:00.000000000",
          "2007-06-01T00:00:00.000000000",
          "2007-07-01T00:00:00.000000000",
          "2007-08-01T00:00:00.000000000",
          "2007-09-01T00:00:00.000000000",
          "2007-10-01T00:00:00.000000000",
          "2007-11-01T00:00:00.000000000",
          "2007-12-01T00:00:00.000000000",
          "2008-01-01T00:00:00.000000000",
          "2008-02-01T00:00:00.000000000",
          "2008-03-01T00:00:00.000000000",
          "2008-04-01T00:00:00.000000000",
          "2008-05-01T00:00:00.000000000",
          "2008-06-01T00:00:00.000000000",
          "2008-07-01T00:00:00.000000000",
          "2008-08-01T00:00:00.000000000",
          "2008-09-01T00:00:00.000000000",
          "2008-10-01T00:00:00.000000000",
          "2008-11-01T00:00:00.000000000",
          "2008-12-01T00:00:00.000000000",
          "2009-01-01T00:00:00.000000000",
          "2009-02-01T00:00:00.000000000",
          "2009-03-01T00:00:00.000000000",
          "2009-04-01T00:00:00.000000000",
          "2009-05-01T00:00:00.000000000",
          "2009-06-01T00:00:00.000000000",
          "2009-07-01T00:00:00.000000000",
          "2009-08-01T00:00:00.000000000",
          "2009-09-01T00:00:00.000000000",
          "2009-10-01T00:00:00.000000000",
          "2009-11-01T00:00:00.000000000",
          "2009-12-01T00:00:00.000000000",
          "2010-01-01T00:00:00.000000000",
          "2010-02-01T00:00:00.000000000",
          "2010-03-01T00:00:00.000000000",
          "2010-04-01T00:00:00.000000000",
          "2010-05-01T00:00:00.000000000",
          "2010-06-01T00:00:00.000000000",
          "2010-07-01T00:00:00.000000000",
          "2010-08-01T00:00:00.000000000",
          "2010-09-01T00:00:00.000000000",
          "2010-10-01T00:00:00.000000000",
          "2010-11-01T00:00:00.000000000",
          "2010-12-01T00:00:00.000000000",
          "2011-01-01T00:00:00.000000000",
          "2011-02-01T00:00:00.000000000",
          "2011-03-01T00:00:00.000000000",
          "2011-04-01T00:00:00.000000000",
          "2011-05-01T00:00:00.000000000",
          "2011-06-01T00:00:00.000000000",
          "2011-07-01T00:00:00.000000000",
          "2011-08-01T00:00:00.000000000",
          "2011-09-01T00:00:00.000000000",
          "2011-10-01T00:00:00.000000000",
          "2011-11-01T00:00:00.000000000",
          "2011-12-01T00:00:00.000000000",
          "2012-01-01T00:00:00.000000000",
          "2012-02-01T00:00:00.000000000",
          "2012-03-01T00:00:00.000000000",
          "2012-04-01T00:00:00.000000000",
          "2012-05-01T00:00:00.000000000",
          "2012-06-01T00:00:00.000000000",
          "2012-07-01T00:00:00.000000000",
          "2012-08-01T00:00:00.000000000",
          "2012-09-01T00:00:00.000000000",
          "2012-10-01T00:00:00.000000000",
          "2012-11-01T00:00:00.000000000",
          "2012-12-01T00:00:00.000000000",
          "2013-01-01T00:00:00.000000000",
          "2013-02-01T00:00:00.000000000",
          "2013-03-01T00:00:00.000000000",
          "2013-04-01T00:00:00.000000000",
          "2013-05-01T00:00:00.000000000",
          "2013-06-01T00:00:00.000000000",
          "2013-07-01T00:00:00.000000000",
          "2013-08-01T00:00:00.000000000",
          "2013-09-01T00:00:00.000000000",
          "2013-10-01T00:00:00.000000000",
          "2013-11-01T00:00:00.000000000",
          "2013-12-01T00:00:00.000000000",
          "2014-01-01T00:00:00.000000000",
          "2014-02-01T00:00:00.000000000",
          "2014-03-01T00:00:00.000000000",
          "2014-04-01T00:00:00.000000000",
          "2014-05-01T00:00:00.000000000",
          "2014-06-01T00:00:00.000000000",
          "2014-07-01T00:00:00.000000000",
          "2014-08-01T00:00:00.000000000",
          "2014-09-01T00:00:00.000000000",
          "2014-10-01T00:00:00.000000000",
          "2014-11-01T00:00:00.000000000",
          "2014-12-01T00:00:00.000000000",
          "2015-01-01T00:00:00.000000000",
          "2015-02-01T00:00:00.000000000",
          "2015-03-01T00:00:00.000000000",
          "2015-04-01T00:00:00.000000000",
          "2015-05-01T00:00:00.000000000",
          "2015-06-01T00:00:00.000000000",
          "2015-07-01T00:00:00.000000000",
          "2015-08-01T00:00:00.000000000",
          "2015-09-01T00:00:00.000000000",
          "2015-10-01T00:00:00.000000000",
          "2015-11-01T00:00:00.000000000",
          "2015-12-01T00:00:00.000000000",
          "2016-01-01T00:00:00.000000000",
          "2016-02-01T00:00:00.000000000",
          "2016-03-01T00:00:00.000000000",
          "2016-04-01T00:00:00.000000000",
          "2016-05-01T00:00:00.000000000",
          "2016-06-01T00:00:00.000000000",
          "2016-07-01T00:00:00.000000000",
          "2016-08-01T00:00:00.000000000",
          "2016-09-01T00:00:00.000000000",
          "2016-10-01T00:00:00.000000000",
          "2016-11-01T00:00:00.000000000",
          "2016-12-01T00:00:00.000000000",
          "2017-01-01T00:00:00.000000000",
          "2017-02-01T00:00:00.000000000",
          "2017-03-01T00:00:00.000000000",
          "2017-04-01T00:00:00.000000000",
          "2017-05-01T00:00:00.000000000",
          "2017-06-01T00:00:00.000000000",
          "2017-07-01T00:00:00.000000000",
          "2017-08-01T00:00:00.000000000",
          "2017-09-01T00:00:00.000000000",
          "2017-10-01T00:00:00.000000000",
          "2017-11-01T00:00:00.000000000",
          "2017-12-01T00:00:00.000000000",
          "2018-01-01T00:00:00.000000000",
          "2018-02-01T00:00:00.000000000",
          "2018-03-01T00:00:00.000000000",
          "2018-04-01T00:00:00.000000000",
          "2018-05-01T00:00:00.000000000",
          "2018-06-01T00:00:00.000000000",
          "2018-07-01T00:00:00.000000000",
          "2018-08-01T00:00:00.000000000",
          "2018-09-01T00:00:00.000000000",
          "2018-10-01T00:00:00.000000000",
          "2018-11-01T00:00:00.000000000",
          "2018-12-01T00:00:00.000000000",
          "2019-01-01T00:00:00.000000000",
          "2019-02-01T00:00:00.000000000",
          "2019-03-01T00:00:00.000000000",
          "2019-04-01T00:00:00.000000000",
          "2019-05-01T00:00:00.000000000",
          "2019-06-01T00:00:00.000000000",
          "2019-07-01T00:00:00.000000000",
          "2019-08-01T00:00:00.000000000",
          "2019-09-01T00:00:00.000000000",
          "2019-10-01T00:00:00.000000000",
          "2019-11-01T00:00:00.000000000",
          "2019-12-01T00:00:00.000000000",
          "2020-01-01T00:00:00.000000000",
          "2020-02-01T00:00:00.000000000",
          "2020-03-01T00:00:00.000000000",
          "2020-04-01T00:00:00.000000000",
          "2020-05-01T00:00:00.000000000",
          "2020-06-01T00:00:00.000000000",
          "2020-07-01T00:00:00.000000000",
          "2020-08-01T00:00:00.000000000",
          "2020-09-01T00:00:00.000000000",
          "2020-10-01T00:00:00.000000000",
          "2020-11-01T00:00:00.000000000",
          "2020-12-01T00:00:00.000000000",
          "2021-01-01T00:00:00.000000000",
          "2021-02-01T00:00:00.000000000",
          "2021-03-01T00:00:00.000000000",
          "2021-04-01T00:00:00.000000000",
          "2021-05-01T00:00:00.000000000",
          "2021-06-01T00:00:00.000000000",
          "2021-07-01T00:00:00.000000000",
          "2021-08-01T00:00:00.000000000",
          "2021-09-01T00:00:00.000000000",
          "2021-10-01T00:00:00.000000000",
          "2021-11-01T00:00:00.000000000",
          "2021-12-01T00:00:00.000000000",
          "2022-01-01T00:00:00.000000000",
          "2022-02-01T00:00:00.000000000",
          "2022-03-01T00:00:00.000000000",
          "2022-04-01T00:00:00.000000000",
          "2022-05-01T00:00:00.000000000",
          "2022-06-01T00:00:00.000000000",
          "2022-07-01T00:00:00.000000000",
          "2022-08-01T00:00:00.000000000",
          "2022-09-01T00:00:00.000000000",
          "2022-10-01T00:00:00.000000000",
          "2022-11-01T00:00:00.000000000",
          "2022-12-01T00:00:00.000000000",
          "2023-01-01T00:00:00.000000000",
          "2023-02-01T00:00:00.000000000",
          "2023-03-01T00:00:00.000000000",
          "2023-04-01T00:00:00.000000000",
          "2023-05-01T00:00:00.000000000",
          "2023-06-01T00:00:00.000000000",
          "2023-07-01T00:00:00.000000000",
          "2023-08-01T00:00:00.000000000",
          "2023-09-01T00:00:00.000000000",
          "2023-10-01T00:00:00.000000000",
          "2023-11-01T00:00:00.000000000",
          "2023-12-01T00:00:00.000000000",
          "2024-01-01T00:00:00.000000000",
          "2024-02-01T00:00:00.000000000",
          "2024-03-01T00:00:00.000000000",
          "2024-04-01T00:00:00.000000000",
          "2024-05-01T00:00:00.000000000",
          "2024-06-01T00:00:00.000000000",
          "2024-07-01T00:00:00.000000000",
          "2024-08-01T00:00:00.000000000",
          "2024-09-01T00:00:00.000000000",
          "2024-10-01T00:00:00.000000000",
          "2024-11-01T00:00:00.000000000",
          "2024-12-01T00:00:00.000000000",
          "2025-01-01T00:00:00.000000000"
         ],
         "xaxis": "x",
         "y": {
          "bdata": "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",
          "dtype": "f8"
         },
         "yaxis": "y"
        }
       ],
       "layout": {
        "annotations": [
         {
          "align": "left",
          "bgcolor": "rgba(255, 255, 255, 0.8)",
          "bordercolor": "black",
          "borderwidth": 1,
          "font": {
           "size": 10
          },
          "showarrow": false,
          "text": "Source: Trading Economics<br>Original Source: Institute for Supply Management<br>Frequency: MS<br>",
          "x": 0,
          "xanchor": "left",
          "xref": "paper",
          "y": -0.23,
          "yanchor": "bottom",
          "yref": "paper"
         }
        ],
        "legend": {
         "orientation": "h",
         "title": {
          "text": ""
         },
         "tracegroupgap": 0,
         "x": 0.5,
         "xanchor": "center",
         "y": -0.2,
         "yanchor": "bottom"
        },
        "margin": {
         "t": 60
        },
        "template": {
         "data": {
          "bar": [
           {
            "error_x": {
             "color": "#2a3f5f"
            },
            "error_y": {
             "color": "#2a3f5f"
            },
            "marker": {
             "line": {
              "color": "#E5ECF6",
              "width": 0.5
             },
             "pattern": {
              "fillmode": "overlay",
              "size": 10,
              "solidity": 0.2
             }
            },
            "type": "bar"
           }
          ],
          "barpolar": [
           {
            "marker": {
             "line": {
              "color": "#E5ECF6",
              "width": 0.5
             },
             "pattern": {
              "fillmode": "overlay",
              "size": 10,
              "solidity": 0.2
             }
            },
            "type": "barpolar"
           }
          ],
          "carpet": [
           {
            "aaxis": {
             "endlinecolor": "#2a3f5f",
             "gridcolor": "white",
             "linecolor": "white",
             "minorgridcolor": "white",
             "startlinecolor": "#2a3f5f"
            },
            "baxis": {
             "endlinecolor": "#2a3f5f",
             "gridcolor": "white",
             "linecolor": "white",
             "minorgridcolor": "white",
             "startlinecolor": "#2a3f5f"
            },
            "type": "carpet"
           }
          ],
          "choropleth": [
           {
            "colorbar": {
             "outlinewidth": 0,
             "ticks": ""
            },
            "type": "choropleth"
           }
          ],
          "contour": [
           {
            "colorbar": {
             "outlinewidth": 0,
             "ticks": ""
            },
            "colorscale": [
             [
              0,
              "#0d0887"
             ],
             [
              0.1111111111111111,
              "#46039f"
             ],
             [
              0.2222222222222222,
              "#7201a8"
             ],
             [
              0.3333333333333333,
              "#9c179e"
             ],
             [
              0.4444444444444444,
              "#bd3786"
             ],
             [
              0.5555555555555556,
              "#d8576b"
             ],
             [
              0.6666666666666666,
              "#ed7953"
             ],
             [
              0.7777777777777778,
              "#fb9f3a"
             ],
             [
              0.8888888888888888,
              "#fdca26"
             ],
             [
              1,
              "#f0f921"
             ]
            ],
            "type": "contour"
           }
          ],
          "contourcarpet": [
           {
            "colorbar": {
             "outlinewidth": 0,
             "ticks": ""
            },
            "type": "contourcarpet"
           }
          ],
          "heatmap": [
           {
            "colorbar": {
             "outlinewidth": 0,
             "ticks": ""
            },
            "colorscale": [
             [
              0,
              "#0d0887"
             ],
             [
              0.1111111111111111,
              "#46039f"
             ],
             [
              0.2222222222222222,
              "#7201a8"
             ],
             [
              0.3333333333333333,
              "#9c179e"
             ],
             [
              0.4444444444444444,
              "#bd3786"
             ],
             [
              0.5555555555555556,
              "#d8576b"
             ],
             [
              0.6666666666666666,
              "#ed7953"
             ],
             [
              0.7777777777777778,
              "#fb9f3a"
             ],
             [
              0.8888888888888888,
              "#fdca26"
             ],
             [
              1,
              "#f0f921"
             ]
            ],
            "type": "heatmap"
           }
          ],
          "histogram": [
           {
            "marker": {
             "pattern": {
              "fillmode": "overlay",
              "size": 10,
              "solidity": 0.2
             }
            },
            "type": "histogram"
           }
          ],
          "histogram2d": [
           {
            "colorbar": {
             "outlinewidth": 0,
             "ticks": ""
            },
            "colorscale": [
             [
              0,
              "#0d0887"
             ],
             [
              0.1111111111111111,
              "#46039f"
             ],
             [
              0.2222222222222222,
              "#7201a8"
             ],
             [
              0.3333333333333333,
              "#9c179e"
             ],
             [
              0.4444444444444444,
              "#bd3786"
             ],
             [
              0.5555555555555556,
              "#d8576b"
             ],
             [
              0.6666666666666666,
              "#ed7953"
             ],
             [
              0.7777777777777778,
              "#fb9f3a"
             ],
             [
              0.8888888888888888,
              "#fdca26"
             ],
             [
              1,
              "#f0f921"
             ]
            ],
            "type": "histogram2d"
           }
          ],
          "histogram2dcontour": [
           {
            "colorbar": {
             "outlinewidth": 0,
             "ticks": ""
            },
            "colorscale": [
             [
              0,
              "#0d0887"
             ],
             [
              0.1111111111111111,
              "#46039f"
             ],
             [
              0.2222222222222222,
              "#7201a8"
             ],
             [
              0.3333333333333333,
              "#9c179e"
             ],
             [
              0.4444444444444444,
              "#bd3786"
             ],
             [
              0.5555555555555556,
              "#d8576b"
             ],
             [
              0.6666666666666666,
              "#ed7953"
             ],
             [
              0.7777777777777778,
              "#fb9f3a"
             ],
             [
              0.8888888888888888,
              "#fdca26"
             ],
             [
              1,
              "#f0f921"
             ]
            ],
            "type": "histogram2dcontour"
           }
          ],
          "mesh3d": [
           {
            "colorbar": {
             "outlinewidth": 0,
             "ticks": ""
            },
            "type": "mesh3d"
           }
          ],
          "parcoords": [
           {
            "line": {
             "colorbar": {
              "outlinewidth": 0,
              "ticks": ""
             }
            },
            "type": "parcoords"
           }
          ],
          "pie": [
           {
            "automargin": true,
            "type": "pie"
           }
          ],
          "scatter": [
           {
            "fillpattern": {
             "fillmode": "overlay",
             "size": 10,
             "solidity": 0.2
            },
            "type": "scatter"
           }
          ],
          "scatter3d": [
           {
            "line": {
             "colorbar": {
              "outlinewidth": 0,
              "ticks": ""
             }
            },
            "marker": {
             "colorbar": {
              "outlinewidth": 0,
              "ticks": ""
             }
            },
            "type": "scatter3d"
           }
          ],
          "scattercarpet": [
           {
            "marker": {
             "colorbar": {
              "outlinewidth": 0,
              "ticks": ""
             }
            },
            "type": "scattercarpet"
           }
          ],
          "scattergeo": [
           {
            "marker": {
             "colorbar": {
              "outlinewidth": 0,
              "ticks": ""
             }
            },
            "type": "scattergeo"
           }
          ],
          "scattergl": [
           {
            "marker": {
             "colorbar": {
              "outlinewidth": 0,
              "ticks": ""
             }
            },
            "type": "scattergl"
           }
          ],
          "scattermap": [
           {
            "marker": {
             "colorbar": {
              "outlinewidth": 0,
              "ticks": ""
             }
            },
            "type": "scattermap"
           }
          ],
          "scattermapbox": [
           {
            "marker": {
             "colorbar": {
              "outlinewidth": 0,
              "ticks": ""
             }
            },
            "type": "scattermapbox"
           }
          ],
          "scatterpolar": [
           {
            "marker": {
             "colorbar": {
              "outlinewidth": 0,
              "ticks": ""
             }
            },
            "type": "scatterpolar"
           }
          ],
          "scatterpolargl": [
           {
            "marker": {
             "colorbar": {
              "outlinewidth": 0,
              "ticks": ""
             }
            },
            "type": "scatterpolargl"
           }
          ],
          "scatterternary": [
           {
            "marker": {
             "colorbar": {
              "outlinewidth": 0,
              "ticks": ""
             }
            },
            "type": "scatterternary"
           }
          ],
          "surface": [
           {
            "colorbar": {
             "outlinewidth": 0,
             "ticks": ""
            },
            "colorscale": [
             [
              0,
              "#0d0887"
             ],
             [
              0.1111111111111111,
              "#46039f"
             ],
             [
              0.2222222222222222,
              "#7201a8"
             ],
             [
              0.3333333333333333,
              "#9c179e"
             ],
             [
              0.4444444444444444,
              "#bd3786"
             ],
             [
              0.5555555555555556,
              "#d8576b"
             ],
             [
              0.6666666666666666,
              "#ed7953"
             ],
             [
              0.7777777777777778,
              "#fb9f3a"
             ],
             [
              0.8888888888888888,
              "#fdca26"
             ],
             [
              1,
              "#f0f921"
             ]
            ],
            "type": "surface"
           }
          ],
          "table": [
           {
            "cells": {
             "fill": {
              "color": "#EBF0F8"
             },
             "line": {
              "color": "white"
             }
            },
            "header": {
             "fill": {
              "color": "#C8D4E3"
             },
             "line": {
              "color": "white"
             }
            },
            "type": "table"
           }
          ]
         },
         "layout": {
          "annotationdefaults": {
           "arrowcolor": "#2a3f5f",
           "arrowhead": 0,
           "arrowwidth": 1
          },
          "autotypenumbers": "strict",
          "coloraxis": {
           "colorbar": {
            "outlinewidth": 0,
            "ticks": ""
           }
          },
          "colorscale": {
           "diverging": [
            [
             0,
             "#8e0152"
            ],
            [
             0.1,
             "#c51b7d"
            ],
            [
             0.2,
             "#de77ae"
            ],
            [
             0.3,
             "#f1b6da"
            ],
            [
             0.4,
             "#fde0ef"
            ],
            [
             0.5,
             "#f7f7f7"
            ],
            [
             0.6,
             "#e6f5d0"
            ],
            [
             0.7,
             "#b8e186"
            ],
            [
             0.8,
             "#7fbc41"
            ],
            [
             0.9,
             "#4d9221"
            ],
            [
             1,
             "#276419"
            ]
           ],
           "sequential": [
            [
             0,
             "#0d0887"
            ],
            [
             0.1111111111111111,
             "#46039f"
            ],
            [
             0.2222222222222222,
             "#7201a8"
            ],
            [
             0.3333333333333333,
             "#9c179e"
            ],
            [
             0.4444444444444444,
             "#bd3786"
            ],
            [
             0.5555555555555556,
             "#d8576b"
            ],
            [
             0.6666666666666666,
             "#ed7953"
            ],
            [
             0.7777777777777778,
             "#fb9f3a"
            ],
            [
             0.8888888888888888,
             "#fdca26"
            ],
            [
             1,
             "#f0f921"
            ]
           ],
           "sequentialminus": [
            [
             0,
             "#0d0887"
            ],
            [
             0.1111111111111111,
             "#46039f"
            ],
            [
             0.2222222222222222,
             "#7201a8"
            ],
            [
             0.3333333333333333,
             "#9c179e"
            ],
            [
             0.4444444444444444,
             "#bd3786"
            ],
            [
             0.5555555555555556,
             "#d8576b"
            ],
            [
             0.6666666666666666,
             "#ed7953"
            ],
            [
             0.7777777777777778,
             "#fb9f3a"
            ],
            [
             0.8888888888888888,
             "#fdca26"
            ],
            [
             1,
             "#f0f921"
            ]
           ]
          },
          "colorway": [
           "#636efa",
           "#EF553B",
           "#00cc96",
           "#ab63fa",
           "#FFA15A",
           "#19d3f3",
           "#FF6692",
           "#B6E880",
           "#FF97FF",
           "#FECB52"
          ],
          "font": {
           "color": "#2a3f5f"
          },
          "geo": {
           "bgcolor": "white",
           "lakecolor": "white",
           "landcolor": "#E5ECF6",
           "showlakes": true,
           "showland": true,
           "subunitcolor": "white"
          },
          "hoverlabel": {
           "align": "left"
          },
          "hovermode": "closest",
          "mapbox": {
           "style": "light"
          },
          "paper_bgcolor": "white",
          "plot_bgcolor": "#E5ECF6",
          "polar": {
           "angularaxis": {
            "gridcolor": "white",
            "linecolor": "white",
            "ticks": ""
           },
           "bgcolor": "#E5ECF6",
           "radialaxis": {
            "gridcolor": "white",
            "linecolor": "white",
            "ticks": ""
           }
          },
          "scene": {
           "xaxis": {
            "backgroundcolor": "#E5ECF6",
            "gridcolor": "white",
            "gridwidth": 2,
            "linecolor": "white",
            "showbackground": true,
            "ticks": "",
            "zerolinecolor": "white"
           },
           "yaxis": {
            "backgroundcolor": "#E5ECF6",
            "gridcolor": "white",
            "gridwidth": 2,
            "linecolor": "white",
            "showbackground": true,
            "ticks": "",
            "zerolinecolor": "white"
           },
           "zaxis": {
            "backgroundcolor": "#E5ECF6",
            "gridcolor": "white",
            "gridwidth": 2,
            "linecolor": "white",
            "showbackground": true,
            "ticks": "",
            "zerolinecolor": "white"
           }
          },
          "shapedefaults": {
           "line": {
            "color": "#2a3f5f"
           }
          },
          "ternary": {
           "aaxis": {
            "gridcolor": "white",
            "linecolor": "white",
            "ticks": ""
           },
           "baxis": {
            "gridcolor": "white",
            "linecolor": "white",
            "ticks": ""
           },
           "bgcolor": "#E5ECF6",
           "caxis": {
            "gridcolor": "white",
            "linecolor": "white",
            "ticks": ""
           }
          },
          "title": {
           "x": 0.05
          },
          "xaxis": {
           "automargin": true,
           "gridcolor": "white",
           "linecolor": "white",
           "ticks": "",
           "title": {
            "standoff": 15
           },
           "zerolinecolor": "white",
           "zerolinewidth": 2
          },
          "yaxis": {
           "automargin": true,
           "gridcolor": "white",
           "linecolor": "white",
           "ticks": "",
           "title": {
            "standoff": 15
           },
           "zerolinecolor": "white",
           "zerolinewidth": 2
          }
         }
        },
        "title": {
         "text": "United states: United states ism services pmi"
        },
        "xaxis": {
         "anchor": "y",
         "domain": [
          0,
          1
         ],
         "title": {
          "text": ""
         }
        },
        "yaxis": {
         "anchor": "x",
         "domain": [
          0,
          1
         ],
         "title": {
          "text": "Points"
         }
        }
       }
      }
     },
     "metadata": {},
     "output_type": "display_data"
    }
   ],
   "source": [
    "scraped = search.scraped_data\n",
    "scraped.plot_series(ann_box_pos=(0, -0.23))  # Yu can move the annotation box around by changing the values of ann_box_pos."
   ]
  },
  {
   "cell_type": "code",
   "execution_count": null,
   "metadata": {},
   "outputs": [],
   "source": [
    "scraped.save_plot(format=\"html\")  #Export static plot as png if you wish. Use format=\"html\" for interactive plot export."
   ]
  },
  {
   "cell_type": "code",
   "execution_count": 7,
   "metadata": {},
   "outputs": [
    {
     "data": {
      "text/plain": [
       "{'units': 'points',\n",
       " 'original_source': 'Institute for Supply Management',\n",
       " 'title': 'United States ISM Services PMI',\n",
       " 'indicator': 'non manufacturing pmi',\n",
       " 'country': 'united states',\n",
       " 'source': 'Trading Economics',\n",
       " 'id': 'united-states/non-manufacturing-pmi',\n",
       " 'description': 'The Non-Manufacturing ISM Report On Business® is based on data compiled from purchasing and supply executives nationwide. Survey responses reflect the change, if any, in the current month compared to the previous month. For each of the indicators measured (Business Activity, New Orders, Backlog of Orders, New Export Orders, Inventory Change, Inventory Sentiment, Imports, Prices, Employment and Supplier Deliveries) this report shows the percentage reporting each response, and the diffusion index. An index reading above 50 percent indicates that the non-manufacturing economy in that index is generally expanding; below 50 percent indicates that it is generally declining. Orders to the service producers make up about 90 percent of the US economy.',\n",
       " 'start_date': '1997-07-01',\n",
       " 'end_date': '2025-01-01',\n",
       " 'min_value': 37.800000000000004,\n",
       " 'max_value': 67.60000000000018,\n",
       " 'length': 331,\n",
       " 'frequency': 'MS'}"
      ]
     },
     "execution_count": 7,
     "metadata": {},
     "output_type": "execute_result"
    }
   ],
   "source": [
    "scraped.metadata"
   ]
  },
  {
   "cell_type": "markdown",
   "metadata": {},
   "source": [
    "# Method #2: Download data for a given Indicator + Country combination or a given URL with a single line.\n",
    "\n",
    "Sometimes you may get an error straight away on the first run of the ```scrape_chart``` method. Error message will be something about error establising a connection.\n",
    "\n",
    "Noted error messages for this: \n",
    "- Error loading page: Message: Failed to write request to stream\n",
    "- Error loading page: Message: Tried to run command without establishing a connection\n",
    "\n",
    "Just try again if so, it has always worked for me the second time unless internet connection is down or too slow."
   ]
  },
  {
   "cell_type": "code",
   "execution_count": 2,
   "metadata": {},
   "outputs": [
    {
     "data": {
      "text/plain": [
       "[]"
      ]
     },
     "execution_count": 2,
     "metadata": {},
     "output_type": "execute_result"
    }
   ],
   "source": [
    "from tedata import base\n",
    "base.find_active_drivers(quit_all=True)"
   ]
  },
  {
   "cell_type": "code",
   "execution_count": 152,
   "metadata": {},
   "outputs": [
    {
     "name": "stderr",
     "output_type": "stream",
     "text": [
      "INFO - scrape_chart function: Scraping chart at: https://tradingeconomics.com/australia/consumer-confidence, time: 2025-03-02 15:15:04.741837, method: path\n"
     ]
    },
    {
     "ename": "KeyboardInterrupt",
     "evalue": "",
     "output_type": "error",
     "traceback": [
      "\u001b[0;31m---------------------------------------------------------------------------\u001b[0m",
      "\u001b[0;31mKeyboardInterrupt\u001b[0m                         Traceback (most recent call last)",
      "Cell \u001b[0;32mIn[152], line 1\u001b[0m\n\u001b[0;32m----> 1\u001b[0m scraped \u001b[38;5;241m=\u001b[39m \u001b[43mted\u001b[49m\u001b[38;5;241;43m.\u001b[39;49m\u001b[43mscrape_chart\u001b[49m\u001b[43m(\u001b[49m\u001b[43mcountry\u001b[49m\u001b[38;5;241;43m=\u001b[39;49m\u001b[38;5;124;43m\"\u001b[39;49m\u001b[38;5;124;43maustralia\u001b[39;49m\u001b[38;5;124;43m\"\u001b[39;49m\u001b[43m,\u001b[49m\u001b[43m \u001b[49m\u001b[38;5;28;43mid\u001b[39;49m\u001b[43m \u001b[49m\u001b[38;5;241;43m=\u001b[39;49m\u001b[43m \u001b[49m\u001b[38;5;124;43m\"\u001b[39;49m\u001b[38;5;124;43mconsumer-confidence\u001b[39;49m\u001b[38;5;124;43m\"\u001b[39;49m\u001b[43m,\u001b[49m\u001b[43m \u001b[49m\u001b[43muse_existing_driver\u001b[49m\u001b[38;5;241;43m=\u001b[39;49m\u001b[38;5;28;43;01mTrue\u001b[39;49;00m\u001b[43m,\u001b[49m\u001b[43m \u001b[49m\u001b[43mheadless\u001b[49m\u001b[38;5;241;43m=\u001b[39;49m\u001b[38;5;28;43;01mFalse\u001b[39;49;00m\u001b[43m,\u001b[49m\u001b[43m \u001b[49m\u001b[43mmethod\u001b[49m\u001b[38;5;241;43m=\u001b[39;49m\u001b[38;5;124;43m\"\u001b[39;49m\u001b[38;5;124;43mpath\u001b[39;49m\u001b[38;5;124;43m\"\u001b[39;49m\u001b[43m)\u001b[49m \u001b[38;5;66;03m## Using chart id from the url only, country is \"united-states\" by default.\u001b[39;00m\n",
      "File \u001b[0;32m~/Documents/Python/Scraping/tedata/src/tedata/scraper.py:1135\u001b[0m, in \u001b[0;36mscrape_chart\u001b[0;34m(url, id, country, start_date, end_date, method, scraper, driver, use_existing_driver, headless, browser)\u001b[0m\n\u001b[1;32m   1132\u001b[0m     url \u001b[38;5;241m=\u001b[39m \u001b[38;5;124mf\u001b[39m\u001b[38;5;124m\"\u001b[39m\u001b[38;5;124mhttps://tradingeconomics.com/\u001b[39m\u001b[38;5;132;01m{\u001b[39;00mcountry\u001b[38;5;132;01m}\u001b[39;00m\u001b[38;5;124m/\u001b[39m\u001b[38;5;132;01m{\u001b[39;00m\u001b[38;5;28mid\u001b[39m\u001b[38;5;132;01m}\u001b[39;00m\u001b[38;5;124m\"\u001b[39m\n\u001b[1;32m   1134\u001b[0m logger\u001b[38;5;241m.\u001b[39minfo(\u001b[38;5;124mf\u001b[39m\u001b[38;5;124m\"\u001b[39m\u001b[38;5;124mscrape_chart function: Scraping chart at: \u001b[39m\u001b[38;5;132;01m{\u001b[39;00murl\u001b[38;5;132;01m}\u001b[39;00m\u001b[38;5;124m, time: \u001b[39m\u001b[38;5;132;01m{\u001b[39;00mdatetime\u001b[38;5;241m.\u001b[39mdatetime\u001b[38;5;241m.\u001b[39mnow()\u001b[38;5;132;01m}\u001b[39;00m\u001b[38;5;124m, method: \u001b[39m\u001b[38;5;132;01m{\u001b[39;00mmethod\u001b[38;5;132;01m}\u001b[39;00m\u001b[38;5;124m\"\u001b[39m)\n\u001b[0;32m-> 1135\u001b[0m \u001b[38;5;28;01mif\u001b[39;00m \u001b[43msel\u001b[49m\u001b[38;5;241;43m.\u001b[39;49m\u001b[43mload_page\u001b[49m\u001b[43m(\u001b[49m\u001b[43murl\u001b[49m\u001b[43m)\u001b[49m:  \u001b[38;5;66;03m# Load the page...\u001b[39;00m\n\u001b[1;32m   1136\u001b[0m     sel\u001b[38;5;241m.\u001b[39mscrape_metadata()  \u001b[38;5;66;03m## Scrape the metadata for the data series from the page.\u001b[39;00m\n\u001b[1;32m   1137\u001b[0m \u001b[38;5;28;01melse\u001b[39;00m:\n",
      "File \u001b[0;32m~/Documents/Python/Scraping/tedata/src/tedata/scraper.py:78\u001b[0m, in \u001b[0;36mTE_Scraper.load_page\u001b[0;34m(self, url, extra_wait_time)\u001b[0m\n\u001b[1;32m     73\u001b[0m \u001b[38;5;66;03m# For dynamic charts, also wait for the actual chart content\u001b[39;00m\n\u001b[1;32m     74\u001b[0m \u001b[38;5;28mself\u001b[39m\u001b[38;5;241m.\u001b[39mwait\u001b[38;5;241m.\u001b[39muntil(\n\u001b[1;32m     75\u001b[0m     EC\u001b[38;5;241m.\u001b[39mpresence_of_element_located((By\u001b[38;5;241m.\u001b[39mCLASS_NAME, \u001b[38;5;124m\"\u001b[39m\u001b[38;5;124mhighcharts-series-group\u001b[39m\u001b[38;5;124m\"\u001b[39m)),\n\u001b[1;32m     76\u001b[0m     message\u001b[38;5;241m=\u001b[39m\u001b[38;5;124m\"\u001b[39m\u001b[38;5;124mChart series not loaded\u001b[39m\u001b[38;5;124m\"\u001b[39m)\n\u001b[0;32m---> 78\u001b[0m \u001b[43mtime\u001b[49m\u001b[38;5;241;43m.\u001b[39;49m\u001b[43msleep\u001b[49m\u001b[43m(\u001b[49m\u001b[43mextra_wait_time\u001b[49m\u001b[43m)\u001b[49m  \u001b[38;5;66;03m# Extra wait time after page load just to be sure...\u001b[39;00m\n\u001b[1;32m     79\u001b[0m \u001b[38;5;66;03m# Now it's safe to get the page source\u001b[39;00m\n\u001b[1;32m     80\u001b[0m \u001b[38;5;28mself\u001b[39m\u001b[38;5;241m.\u001b[39mfull_page \u001b[38;5;241m=\u001b[39m \u001b[38;5;28mself\u001b[39m\u001b[38;5;241m.\u001b[39mget_page_source()\n",
      "\u001b[0;31mKeyboardInterrupt\u001b[0m: "
     ]
    }
   ],
   "source": [
    "scraped = ted.scrape_chart(country=\"australia\", id = \"consumer-confidence\", use_existing_driver=True, headless=False, method=\"path\") ## Using chart id from the url only, country is \"united-states\" by default."
   ]
  },
  {
   "cell_type": "code",
   "execution_count": 7,
   "metadata": {},
   "outputs": [
    {
     "data": {
      "application/vnd.plotly.v1+json": {
       "config": {
        "plotlyServerURL": "https://plot.ly"
       },
       "data": [
        {
         "hovertemplate": "variable=consumer confidence<br>index=%{x}<br>value=%{y}<extra></extra>",
         "legendgroup": "consumer confidence",
         "line": {
          "color": "#636efa",
          "dash": "solid"
         },
         "marker": {
          "symbol": "circle"
         },
         "mode": "lines",
         "name": "consumer confidence",
         "orientation": "v",
         "showlegend": true,
         "type": "scatter",
         "x": [
          "1974-09-01T00:00:00.000000000",
          "1974-10-01T00:00:00.000000000",
          "1974-11-01T00:00:00.000000000",
          "1974-12-01T00:00:00.000000000",
          "1975-01-01T00:00:00.000000000",
          "1975-02-01T00:00:00.000000000",
          "1975-03-01T00:00:00.000000000",
          "1975-04-01T00:00:00.000000000",
          "1975-05-01T00:00:00.000000000",
          "1975-06-01T00:00:00.000000000",
          "1975-07-01T00:00:00.000000000",
          "1975-08-01T00:00:00.000000000",
          "1975-09-01T00:00:00.000000000",
          "1975-10-01T00:00:00.000000000",
          "1975-11-01T00:00:00.000000000",
          "1975-12-01T00:00:00.000000000",
          "1976-01-01T00:00:00.000000000",
          "1976-02-01T00:00:00.000000000",
          "1976-03-01T00:00:00.000000000",
          "1976-04-01T00:00:00.000000000",
          "1976-05-01T00:00:00.000000000",
          "1976-06-01T00:00:00.000000000",
          "1976-07-01T00:00:00.000000000",
          "1976-08-01T00:00:00.000000000",
          "1976-09-01T00:00:00.000000000",
          "1976-10-01T00:00:00.000000000",
          "1976-11-01T00:00:00.000000000",
          "1976-12-01T00:00:00.000000000",
          "1977-01-01T00:00:00.000000000",
          "1977-02-01T00:00:00.000000000",
          "1977-03-01T00:00:00.000000000",
          "1977-04-01T00:00:00.000000000",
          "1977-05-01T00:00:00.000000000",
          "1977-06-01T00:00:00.000000000",
          "1977-07-01T00:00:00.000000000",
          "1977-08-01T00:00:00.000000000",
          "1977-09-01T00:00:00.000000000",
          "1977-10-01T00:00:00.000000000",
          "1977-11-01T00:00:00.000000000",
          "1977-12-01T00:00:00.000000000",
          "1978-01-01T00:00:00.000000000",
          "1978-02-01T00:00:00.000000000",
          "1978-03-01T00:00:00.000000000",
          "1978-04-01T00:00:00.000000000",
          "1978-05-01T00:00:00.000000000",
          "1978-06-01T00:00:00.000000000",
          "1978-07-01T00:00:00.000000000",
          "1978-08-01T00:00:00.000000000",
          "1978-09-01T00:00:00.000000000",
          "1978-10-01T00:00:00.000000000",
          "1978-11-01T00:00:00.000000000",
          "1978-12-01T00:00:00.000000000",
          "1979-01-01T00:00:00.000000000",
          "1979-02-01T00:00:00.000000000",
          "1979-03-01T00:00:00.000000000",
          "1979-04-01T00:00:00.000000000",
          "1979-05-01T00:00:00.000000000",
          "1979-06-01T00:00:00.000000000",
          "1979-07-01T00:00:00.000000000",
          "1979-08-01T00:00:00.000000000",
          "1979-09-01T00:00:00.000000000",
          "1979-10-01T00:00:00.000000000",
          "1979-11-01T00:00:00.000000000",
          "1979-12-01T00:00:00.000000000",
          "1980-01-01T00:00:00.000000000",
          "1980-02-01T00:00:00.000000000",
          "1980-03-01T00:00:00.000000000",
          "1980-04-01T00:00:00.000000000",
          "1980-05-01T00:00:00.000000000",
          "1980-06-01T00:00:00.000000000",
          "1980-07-01T00:00:00.000000000",
          "1980-08-01T00:00:00.000000000",
          "1980-09-01T00:00:00.000000000",
          "1980-10-01T00:00:00.000000000",
          "1980-11-01T00:00:00.000000000",
          "1980-12-01T00:00:00.000000000",
          "1981-01-01T00:00:00.000000000",
          "1981-02-01T00:00:00.000000000",
          "1981-03-01T00:00:00.000000000",
          "1981-04-01T00:00:00.000000000",
          "1981-05-01T00:00:00.000000000",
          "1981-06-01T00:00:00.000000000",
          "1981-07-01T00:00:00.000000000",
          "1981-08-01T00:00:00.000000000",
          "1981-09-01T00:00:00.000000000",
          "1981-10-01T00:00:00.000000000",
          "1981-11-01T00:00:00.000000000",
          "1981-12-01T00:00:00.000000000",
          "1982-01-01T00:00:00.000000000",
          "1982-02-01T00:00:00.000000000",
          "1982-03-01T00:00:00.000000000",
          "1982-04-01T00:00:00.000000000",
          "1982-05-01T00:00:00.000000000",
          "1982-06-01T00:00:00.000000000",
          "1982-07-01T00:00:00.000000000",
          "1982-08-01T00:00:00.000000000",
          "1982-09-01T00:00:00.000000000",
          "1982-10-01T00:00:00.000000000",
          "1982-11-01T00:00:00.000000000",
          "1982-12-01T00:00:00.000000000",
          "1983-01-01T00:00:00.000000000",
          "1983-02-01T00:00:00.000000000",
          "1983-03-01T00:00:00.000000000",
          "1983-04-01T00:00:00.000000000",
          "1983-05-01T00:00:00.000000000",
          "1983-06-01T00:00:00.000000000",
          "1983-07-01T00:00:00.000000000",
          "1983-08-01T00:00:00.000000000",
          "1983-09-01T00:00:00.000000000",
          "1983-10-01T00:00:00.000000000",
          "1983-11-01T00:00:00.000000000",
          "1983-12-01T00:00:00.000000000",
          "1984-01-01T00:00:00.000000000",
          "1984-02-01T00:00:00.000000000",
          "1984-03-01T00:00:00.000000000",
          "1984-04-01T00:00:00.000000000",
          "1984-05-01T00:00:00.000000000",
          "1984-06-01T00:00:00.000000000",
          "1984-07-01T00:00:00.000000000",
          "1984-08-01T00:00:00.000000000",
          "1984-09-01T00:00:00.000000000",
          "1984-10-01T00:00:00.000000000",
          "1984-11-01T00:00:00.000000000",
          "1984-12-01T00:00:00.000000000",
          "1985-01-01T00:00:00.000000000",
          "1985-02-01T00:00:00.000000000",
          "1985-03-01T00:00:00.000000000",
          "1985-04-01T00:00:00.000000000",
          "1985-05-01T00:00:00.000000000",
          "1985-06-01T00:00:00.000000000",
          "1985-07-01T00:00:00.000000000",
          "1985-08-01T00:00:00.000000000",
          "1985-09-01T00:00:00.000000000",
          "1985-10-01T00:00:00.000000000",
          "1985-11-01T00:00:00.000000000",
          "1985-12-01T00:00:00.000000000",
          "1986-01-01T00:00:00.000000000",
          "1986-02-01T00:00:00.000000000",
          "1986-03-01T00:00:00.000000000",
          "1986-04-01T00:00:00.000000000",
          "1986-05-01T00:00:00.000000000",
          "1986-06-01T00:00:00.000000000",
          "1986-07-01T00:00:00.000000000",
          "1986-08-01T00:00:00.000000000",
          "1986-09-01T00:00:00.000000000",
          "1986-10-01T00:00:00.000000000",
          "1986-11-01T00:00:00.000000000",
          "1986-12-01T00:00:00.000000000",
          "1987-01-01T00:00:00.000000000",
          "1987-02-01T00:00:00.000000000",
          "1987-03-01T00:00:00.000000000",
          "1987-04-01T00:00:00.000000000",
          "1987-05-01T00:00:00.000000000",
          "1987-06-01T00:00:00.000000000",
          "1987-07-01T00:00:00.000000000",
          "1987-08-01T00:00:00.000000000",
          "1987-09-01T00:00:00.000000000",
          "1987-10-01T00:00:00.000000000",
          "1987-11-01T00:00:00.000000000",
          "1987-12-01T00:00:00.000000000",
          "1988-01-01T00:00:00.000000000",
          "1988-02-01T00:00:00.000000000",
          "1988-03-01T00:00:00.000000000",
          "1988-04-01T00:00:00.000000000",
          "1988-05-01T00:00:00.000000000",
          "1988-06-01T00:00:00.000000000",
          "1988-07-01T00:00:00.000000000",
          "1988-08-01T00:00:00.000000000",
          "1988-09-01T00:00:00.000000000",
          "1988-10-01T00:00:00.000000000",
          "1988-11-01T00:00:00.000000000",
          "1988-12-01T00:00:00.000000000",
          "1989-01-01T00:00:00.000000000",
          "1989-02-01T00:00:00.000000000",
          "1989-03-01T00:00:00.000000000",
          "1989-04-01T00:00:00.000000000",
          "1989-05-01T00:00:00.000000000",
          "1989-06-01T00:00:00.000000000",
          "1989-07-01T00:00:00.000000000",
          "1989-08-01T00:00:00.000000000",
          "1989-09-01T00:00:00.000000000",
          "1989-10-01T00:00:00.000000000",
          "1989-11-01T00:00:00.000000000",
          "1989-12-01T00:00:00.000000000",
          "1990-01-01T00:00:00.000000000",
          "1990-02-01T00:00:00.000000000",
          "1990-03-01T00:00:00.000000000",
          "1990-04-01T00:00:00.000000000",
          "1990-05-01T00:00:00.000000000",
          "1990-06-01T00:00:00.000000000",
          "1990-07-01T00:00:00.000000000",
          "1990-08-01T00:00:00.000000000",
          "1990-09-01T00:00:00.000000000",
          "1990-10-01T00:00:00.000000000",
          "1990-11-01T00:00:00.000000000",
          "1990-12-01T00:00:00.000000000",
          "1991-01-01T00:00:00.000000000",
          "1991-02-01T00:00:00.000000000",
          "1991-03-01T00:00:00.000000000",
          "1991-04-01T00:00:00.000000000",
          "1991-05-01T00:00:00.000000000",
          "1991-06-01T00:00:00.000000000",
          "1991-07-01T00:00:00.000000000",
          "1991-08-01T00:00:00.000000000",
          "1991-09-01T00:00:00.000000000",
          "1991-10-01T00:00:00.000000000",
          "1991-11-01T00:00:00.000000000",
          "1991-12-01T00:00:00.000000000",
          "1992-01-01T00:00:00.000000000",
          "1992-02-01T00:00:00.000000000",
          "1992-03-01T00:00:00.000000000",
          "1992-04-01T00:00:00.000000000",
          "1992-05-01T00:00:00.000000000",
          "1992-06-01T00:00:00.000000000",
          "1992-07-01T00:00:00.000000000",
          "1992-08-01T00:00:00.000000000",
          "1992-09-01T00:00:00.000000000",
          "1992-10-01T00:00:00.000000000",
          "1992-11-01T00:00:00.000000000",
          "1992-12-01T00:00:00.000000000",
          "1993-01-01T00:00:00.000000000",
          "1993-02-01T00:00:00.000000000",
          "1993-03-01T00:00:00.000000000",
          "1993-04-01T00:00:00.000000000",
          "1993-05-01T00:00:00.000000000",
          "1993-06-01T00:00:00.000000000",
          "1993-07-01T00:00:00.000000000",
          "1993-08-01T00:00:00.000000000",
          "1993-09-01T00:00:00.000000000",
          "1993-10-01T00:00:00.000000000",
          "1993-11-01T00:00:00.000000000",
          "1993-12-01T00:00:00.000000000",
          "1994-01-01T00:00:00.000000000",
          "1994-02-01T00:00:00.000000000",
          "1994-03-01T00:00:00.000000000",
          "1994-04-01T00:00:00.000000000",
          "1994-05-01T00:00:00.000000000",
          "1994-06-01T00:00:00.000000000",
          "1994-07-01T00:00:00.000000000",
          "1994-08-01T00:00:00.000000000",
          "1994-09-01T00:00:00.000000000",
          "1994-10-01T00:00:00.000000000",
          "1994-11-01T00:00:00.000000000",
          "1994-12-01T00:00:00.000000000",
          "1995-01-01T00:00:00.000000000",
          "1995-02-01T00:00:00.000000000",
          "1995-03-01T00:00:00.000000000",
          "1995-04-01T00:00:00.000000000",
          "1995-05-01T00:00:00.000000000",
          "1995-06-01T00:00:00.000000000",
          "1995-07-01T00:00:00.000000000",
          "1995-08-01T00:00:00.000000000",
          "1995-09-01T00:00:00.000000000",
          "1995-10-01T00:00:00.000000000",
          "1995-11-01T00:00:00.000000000",
          "1995-12-01T00:00:00.000000000",
          "1996-01-01T00:00:00.000000000",
          "1996-02-01T00:00:00.000000000",
          "1996-03-01T00:00:00.000000000",
          "1996-04-01T00:00:00.000000000",
          "1996-05-01T00:00:00.000000000",
          "1996-06-01T00:00:00.000000000",
          "1996-07-01T00:00:00.000000000",
          "1996-08-01T00:00:00.000000000",
          "1996-09-01T00:00:00.000000000",
          "1996-10-01T00:00:00.000000000",
          "1996-11-01T00:00:00.000000000",
          "1996-12-01T00:00:00.000000000",
          "1997-01-01T00:00:00.000000000",
          "1997-02-01T00:00:00.000000000",
          "1997-03-01T00:00:00.000000000",
          "1997-04-01T00:00:00.000000000",
          "1997-05-01T00:00:00.000000000",
          "1997-06-01T00:00:00.000000000",
          "1997-07-01T00:00:00.000000000",
          "1997-08-01T00:00:00.000000000",
          "1997-09-01T00:00:00.000000000",
          "1997-10-01T00:00:00.000000000",
          "1997-11-01T00:00:00.000000000",
          "1997-12-01T00:00:00.000000000",
          "1998-01-01T00:00:00.000000000",
          "1998-02-01T00:00:00.000000000",
          "1998-03-01T00:00:00.000000000",
          "1998-04-01T00:00:00.000000000",
          "1998-05-01T00:00:00.000000000",
          "1998-06-01T00:00:00.000000000",
          "1998-07-01T00:00:00.000000000",
          "1998-08-01T00:00:00.000000000",
          "1998-09-01T00:00:00.000000000",
          "1998-10-01T00:00:00.000000000",
          "1998-11-01T00:00:00.000000000",
          "1998-12-01T00:00:00.000000000",
          "1999-01-01T00:00:00.000000000",
          "1999-02-01T00:00:00.000000000",
          "1999-03-01T00:00:00.000000000",
          "1999-04-01T00:00:00.000000000",
          "1999-05-01T00:00:00.000000000",
          "1999-06-01T00:00:00.000000000",
          "1999-07-01T00:00:00.000000000",
          "1999-08-01T00:00:00.000000000",
          "1999-09-01T00:00:00.000000000",
          "1999-10-01T00:00:00.000000000",
          "1999-11-01T00:00:00.000000000",
          "1999-12-01T00:00:00.000000000",
          "2000-01-01T00:00:00.000000000",
          "2000-02-01T00:00:00.000000000",
          "2000-03-01T00:00:00.000000000",
          "2000-04-01T00:00:00.000000000",
          "2000-05-01T00:00:00.000000000",
          "2000-06-01T00:00:00.000000000",
          "2000-07-01T00:00:00.000000000",
          "2000-08-01T00:00:00.000000000",
          "2000-09-01T00:00:00.000000000",
          "2000-10-01T00:00:00.000000000",
          "2000-11-01T00:00:00.000000000",
          "2000-12-01T00:00:00.000000000",
          "2001-01-01T00:00:00.000000000",
          "2001-02-01T00:00:00.000000000",
          "2001-03-01T00:00:00.000000000",
          "2001-04-01T00:00:00.000000000",
          "2001-05-01T00:00:00.000000000",
          "2001-06-01T00:00:00.000000000",
          "2001-07-01T00:00:00.000000000",
          "2001-08-01T00:00:00.000000000",
          "2001-09-01T00:00:00.000000000",
          "2001-10-01T00:00:00.000000000",
          "2001-11-01T00:00:00.000000000",
          "2001-12-01T00:00:00.000000000",
          "2002-01-01T00:00:00.000000000",
          "2002-02-01T00:00:00.000000000",
          "2002-03-01T00:00:00.000000000",
          "2002-04-01T00:00:00.000000000",
          "2002-05-01T00:00:00.000000000",
          "2002-06-01T00:00:00.000000000",
          "2002-07-01T00:00:00.000000000",
          "2002-08-01T00:00:00.000000000",
          "2002-09-01T00:00:00.000000000",
          "2002-10-01T00:00:00.000000000",
          "2002-11-01T00:00:00.000000000",
          "2002-12-01T00:00:00.000000000",
          "2003-01-01T00:00:00.000000000",
          "2003-02-01T00:00:00.000000000",
          "2003-03-01T00:00:00.000000000",
          "2003-04-01T00:00:00.000000000",
          "2003-05-01T00:00:00.000000000",
          "2003-06-01T00:00:00.000000000",
          "2003-07-01T00:00:00.000000000",
          "2003-08-01T00:00:00.000000000",
          "2003-09-01T00:00:00.000000000",
          "2003-10-01T00:00:00.000000000",
          "2003-11-01T00:00:00.000000000",
          "2003-12-01T00:00:00.000000000",
          "2004-01-01T00:00:00.000000000",
          "2004-02-01T00:00:00.000000000",
          "2004-03-01T00:00:00.000000000",
          "2004-04-01T00:00:00.000000000",
          "2004-05-01T00:00:00.000000000",
          "2004-06-01T00:00:00.000000000",
          "2004-07-01T00:00:00.000000000",
          "2004-08-01T00:00:00.000000000",
          "2004-09-01T00:00:00.000000000",
          "2004-10-01T00:00:00.000000000",
          "2004-11-01T00:00:00.000000000",
          "2004-12-01T00:00:00.000000000",
          "2005-01-01T00:00:00.000000000",
          "2005-02-01T00:00:00.000000000",
          "2005-03-01T00:00:00.000000000",
          "2005-04-01T00:00:00.000000000",
          "2005-05-01T00:00:00.000000000",
          "2005-06-01T00:00:00.000000000",
          "2005-07-01T00:00:00.000000000",
          "2005-08-01T00:00:00.000000000",
          "2005-09-01T00:00:00.000000000",
          "2005-10-01T00:00:00.000000000",
          "2005-11-01T00:00:00.000000000",
          "2005-12-01T00:00:00.000000000",
          "2006-01-01T00:00:00.000000000",
          "2006-02-01T00:00:00.000000000",
          "2006-03-01T00:00:00.000000000",
          "2006-04-01T00:00:00.000000000",
          "2006-05-01T00:00:00.000000000",
          "2006-06-01T00:00:00.000000000",
          "2006-07-01T00:00:00.000000000",
          "2006-08-01T00:00:00.000000000",
          "2006-09-01T00:00:00.000000000",
          "2006-10-01T00:00:00.000000000",
          "2006-11-01T00:00:00.000000000",
          "2006-12-01T00:00:00.000000000",
          "2007-01-01T00:00:00.000000000",
          "2007-02-01T00:00:00.000000000",
          "2007-03-01T00:00:00.000000000",
          "2007-04-01T00:00:00.000000000",
          "2007-05-01T00:00:00.000000000",
          "2007-06-01T00:00:00.000000000",
          "2007-07-01T00:00:00.000000000",
          "2007-08-01T00:00:00.000000000",
          "2007-09-01T00:00:00.000000000",
          "2007-10-01T00:00:00.000000000",
          "2007-11-01T00:00:00.000000000",
          "2007-12-01T00:00:00.000000000",
          "2008-01-01T00:00:00.000000000",
          "2008-02-01T00:00:00.000000000",
          "2008-03-01T00:00:00.000000000",
          "2008-04-01T00:00:00.000000000",
          "2008-05-01T00:00:00.000000000",
          "2008-06-01T00:00:00.000000000",
          "2008-07-01T00:00:00.000000000",
          "2008-08-01T00:00:00.000000000",
          "2008-09-01T00:00:00.000000000",
          "2008-10-01T00:00:00.000000000",
          "2008-11-01T00:00:00.000000000",
          "2008-12-01T00:00:00.000000000",
          "2009-01-01T00:00:00.000000000",
          "2009-02-01T00:00:00.000000000",
          "2009-03-01T00:00:00.000000000",
          "2009-04-01T00:00:00.000000000",
          "2009-05-01T00:00:00.000000000",
          "2009-06-01T00:00:00.000000000",
          "2009-07-01T00:00:00.000000000",
          "2009-08-01T00:00:00.000000000",
          "2009-09-01T00:00:00.000000000",
          "2009-10-01T00:00:00.000000000",
          "2009-11-01T00:00:00.000000000",
          "2009-12-01T00:00:00.000000000",
          "2010-01-01T00:00:00.000000000",
          "2010-02-01T00:00:00.000000000",
          "2010-03-01T00:00:00.000000000",
          "2010-04-01T00:00:00.000000000",
          "2010-05-01T00:00:00.000000000",
          "2010-06-01T00:00:00.000000000",
          "2010-07-01T00:00:00.000000000",
          "2010-08-01T00:00:00.000000000",
          "2010-09-01T00:00:00.000000000",
          "2010-10-01T00:00:00.000000000",
          "2010-11-01T00:00:00.000000000",
          "2010-12-01T00:00:00.000000000",
          "2011-01-01T00:00:00.000000000",
          "2011-02-01T00:00:00.000000000",
          "2011-03-01T00:00:00.000000000",
          "2011-04-01T00:00:00.000000000",
          "2011-05-01T00:00:00.000000000",
          "2011-06-01T00:00:00.000000000",
          "2011-07-01T00:00:00.000000000",
          "2011-08-01T00:00:00.000000000",
          "2011-09-01T00:00:00.000000000",
          "2011-10-01T00:00:00.000000000",
          "2011-11-01T00:00:00.000000000",
          "2011-12-01T00:00:00.000000000",
          "2012-01-01T00:00:00.000000000",
          "2012-02-01T00:00:00.000000000",
          "2012-03-01T00:00:00.000000000",
          "2012-04-01T00:00:00.000000000",
          "2012-05-01T00:00:00.000000000",
          "2012-06-01T00:00:00.000000000",
          "2012-07-01T00:00:00.000000000",
          "2012-08-01T00:00:00.000000000",
          "2012-09-01T00:00:00.000000000",
          "2012-10-01T00:00:00.000000000",
          "2012-11-01T00:00:00.000000000",
          "2012-12-01T00:00:00.000000000",
          "2013-01-01T00:00:00.000000000",
          "2013-02-01T00:00:00.000000000",
          "2013-03-01T00:00:00.000000000",
          "2013-04-01T00:00:00.000000000",
          "2013-05-01T00:00:00.000000000",
          "2013-06-01T00:00:00.000000000",
          "2013-07-01T00:00:00.000000000",
          "2013-08-01T00:00:00.000000000",
          "2013-09-01T00:00:00.000000000",
          "2013-10-01T00:00:00.000000000",
          "2013-11-01T00:00:00.000000000",
          "2013-12-01T00:00:00.000000000",
          "2014-01-01T00:00:00.000000000",
          "2014-02-01T00:00:00.000000000",
          "2014-03-01T00:00:00.000000000",
          "2014-04-01T00:00:00.000000000",
          "2014-05-01T00:00:00.000000000",
          "2014-06-01T00:00:00.000000000",
          "2014-07-01T00:00:00.000000000",
          "2014-08-01T00:00:00.000000000",
          "2014-09-01T00:00:00.000000000",
          "2014-10-01T00:00:00.000000000",
          "2014-11-01T00:00:00.000000000",
          "2014-12-01T00:00:00.000000000",
          "2015-01-01T00:00:00.000000000",
          "2015-02-01T00:00:00.000000000",
          "2015-03-01T00:00:00.000000000",
          "2015-04-01T00:00:00.000000000",
          "2015-05-01T00:00:00.000000000",
          "2015-06-01T00:00:00.000000000",
          "2015-07-01T00:00:00.000000000",
          "2015-08-01T00:00:00.000000000",
          "2015-09-01T00:00:00.000000000",
          "2015-10-01T00:00:00.000000000",
          "2015-11-01T00:00:00.000000000",
          "2015-12-01T00:00:00.000000000",
          "2016-01-01T00:00:00.000000000",
          "2016-02-01T00:00:00.000000000",
          "2016-03-01T00:00:00.000000000",
          "2016-04-01T00:00:00.000000000",
          "2016-05-01T00:00:00.000000000",
          "2016-06-01T00:00:00.000000000",
          "2016-07-01T00:00:00.000000000",
          "2016-08-01T00:00:00.000000000",
          "2016-09-01T00:00:00.000000000",
          "2016-10-01T00:00:00.000000000",
          "2016-11-01T00:00:00.000000000",
          "2016-12-01T00:00:00.000000000",
          "2017-01-01T00:00:00.000000000",
          "2017-02-01T00:00:00.000000000",
          "2017-03-01T00:00:00.000000000",
          "2017-04-01T00:00:00.000000000",
          "2017-05-01T00:00:00.000000000",
          "2017-06-01T00:00:00.000000000",
          "2017-07-01T00:00:00.000000000",
          "2017-08-01T00:00:00.000000000",
          "2017-09-01T00:00:00.000000000",
          "2017-10-01T00:00:00.000000000",
          "2017-11-01T00:00:00.000000000",
          "2017-12-01T00:00:00.000000000",
          "2018-01-01T00:00:00.000000000",
          "2018-02-01T00:00:00.000000000",
          "2018-03-01T00:00:00.000000000",
          "2018-04-01T00:00:00.000000000",
          "2018-05-01T00:00:00.000000000",
          "2018-06-01T00:00:00.000000000",
          "2018-07-01T00:00:00.000000000",
          "2018-08-01T00:00:00.000000000",
          "2018-09-01T00:00:00.000000000",
          "2018-10-01T00:00:00.000000000",
          "2018-11-01T00:00:00.000000000",
          "2018-12-01T00:00:00.000000000",
          "2019-01-01T00:00:00.000000000",
          "2019-02-01T00:00:00.000000000",
          "2019-03-01T00:00:00.000000000",
          "2019-04-01T00:00:00.000000000",
          "2019-05-01T00:00:00.000000000",
          "2019-06-01T00:00:00.000000000",
          "2019-07-01T00:00:00.000000000",
          "2019-08-01T00:00:00.000000000",
          "2019-09-01T00:00:00.000000000",
          "2019-10-01T00:00:00.000000000",
          "2019-11-01T00:00:00.000000000",
          "2019-12-01T00:00:00.000000000",
          "2020-01-01T00:00:00.000000000",
          "2020-02-01T00:00:00.000000000",
          "2020-03-01T00:00:00.000000000",
          "2020-04-01T00:00:00.000000000",
          "2020-05-01T00:00:00.000000000",
          "2020-06-01T00:00:00.000000000",
          "2020-07-01T00:00:00.000000000",
          "2020-08-01T00:00:00.000000000",
          "2020-09-01T00:00:00.000000000",
          "2020-10-01T00:00:00.000000000",
          "2020-11-01T00:00:00.000000000",
          "2020-12-01T00:00:00.000000000",
          "2021-01-01T00:00:00.000000000",
          "2021-02-01T00:00:00.000000000",
          "2021-03-01T00:00:00.000000000",
          "2021-04-01T00:00:00.000000000",
          "2021-05-01T00:00:00.000000000",
          "2021-06-01T00:00:00.000000000",
          "2021-07-01T00:00:00.000000000",
          "2021-08-01T00:00:00.000000000",
          "2021-09-01T00:00:00.000000000",
          "2021-10-01T00:00:00.000000000",
          "2021-11-01T00:00:00.000000000",
          "2021-12-01T00:00:00.000000000",
          "2022-01-01T00:00:00.000000000",
          "2022-02-01T00:00:00.000000000",
          "2022-03-01T00:00:00.000000000",
          "2022-04-01T00:00:00.000000000",
          "2022-05-01T00:00:00.000000000",
          "2022-06-01T00:00:00.000000000",
          "2022-07-01T00:00:00.000000000",
          "2022-08-01T00:00:00.000000000",
          "2022-09-01T00:00:00.000000000",
          "2022-10-01T00:00:00.000000000",
          "2022-11-01T00:00:00.000000000",
          "2022-12-01T00:00:00.000000000",
          "2023-01-01T00:00:00.000000000",
          "2023-02-01T00:00:00.000000000",
          "2023-03-01T00:00:00.000000000",
          "2023-04-01T00:00:00.000000000",
          "2023-05-01T00:00:00.000000000",
          "2023-06-01T00:00:00.000000000",
          "2023-07-01T00:00:00.000000000",
          "2023-08-01T00:00:00.000000000",
          "2023-09-01T00:00:00.000000000",
          "2023-10-01T00:00:00.000000000",
          "2023-11-01T00:00:00.000000000",
          "2023-12-01T00:00:00.000000000",
          "2024-01-01T00:00:00.000000000",
          "2024-02-01T00:00:00.000000000",
          "2024-03-01T00:00:00.000000000",
          "2024-04-01T00:00:00.000000000",
          "2024-05-01T00:00:00.000000000",
          "2024-06-01T00:00:00.000000000",
          "2024-07-01T00:00:00.000000000",
          "2024-08-01T00:00:00.000000000",
          "2024-09-01T00:00:00.000000000",
          "2024-10-01T00:00:00.000000000",
          "2024-11-01T00:00:00.000000000",
          "2024-12-01T00:00:00.000000000",
          "2025-01-01T00:00:00.000000000"
         ],
         "xaxis": "x",
         "y": {
          "bdata": "zczMzMysVkDsMjMzM9NWQIkAL0jK/1ZA4jIzMzMTV0DprUfhejRZQOQ/b5Whf1tAkczMzMyMXECemZmZmblbQAdmZmZm5lpATMzMzMwMWkAyZmZmZsZZQHP/////f1lANjMzMzMzWUBQmZmZmXlZQA4AAAAAwFlA7jIzMzMTW0CpzMzMzOxbQJi411xIWltADGZmZmbGWkC4zMzMzIxbQPgyMzMz01pA7f////+fWkAGMzMzM3NaQPwyMzMzs1pATtNEDh8LW0DGzMzMzCxbQFSZmZmZWVlAIjMzMzOzWUD34HoUrodZQI4zh+duK1lAXWZmZmamWEBz/////39ZQClmZmZmBlpAPZmZmZn5WUCL/////99YQDOZmZmZOVpAgOA0kcMnWkAAAAAAACBaQMoBXpCUv1tAfGZmZmYmXECVmZmZmdlcQD5mZmZmxl1AeJmZmZm5XECemZmZmblbQND/////X1tA4szMzMxsWkAsMzMzM3NZQNj/////31ZAmv////9/WEAAAAAAACBaQBkzMzMz81lABjMzMzNzWkAlmZmZmZlaQKiZmZmZeVtA8v////9/WkDzZWZmZmZbQEVmZmZmRllAzv////8fV0AZmZmZmZlWQMoyMzMzs1dARDMzMzPTWECKzMzMzGxYQEkzMzMzs1hAkP////+/WEB7mZmZmVlYQInntIFOK1lAWZmZmZk5WUCPzMzMzExYQIv/////31hAZMzMzMxsWUCa/////39YQGjMzMzMTFlAL1l248GJWkDzZWZmZmZbQO3/////n1pASfZXpFnCW0DcZWZmZgZcQLP/////H1xA4WVmZmbmW0DZzMzMzKxaQCwzMzMzc1lAbczMzMwsWUC2/////79XQKqZmZmZGVdAkRNoxPYaWEBhZmZmZoZYQKkyMzMzk1hAjpmZmZnZV0AFZmZmZqZWQL/MzMzMDFdA5zIzMzPzVkDoZWZmZmZXQMn/////P1dAqpmZmZkZV0CMzMzMzAxUQD5mZmZmJlVAdMzMzMysVEBjmZmZmTlUQMv/////31JAj8zMzMxsVEBL/f////9VQMjrEvHxuldAnv////9fWEBEMzMzM9NYQLMyMzMzU1hAoszMzMzMV0CpMjMzM5NYQG3MzMzMLFlALWZmZmbmWUAlmZmZmZlaQJvMzMzMTFxALzMzMzOzXUBFzMzMzIxeQBszMzMzM15AGzMzMzMzXkAvZmZmZiZeQEhmZmZmhl1AmP/////fXEB6zMzMzCxdQGvMzMzMjF1AaLIbD05zXUBwzMzMzGxdQLqlWtRz1lxAO1nrrnZpXEDIMjMzMxNcQJCZmZmZGVxAy/////9/W0BomZmZmdlYQIHMzMzMrFhAmv////9/WEBKZmZmZiZZQCCZmZmZuVpA/wpjqkXdWkDPzMzMzOxaQKfMzMzMrFdAIjMzMzOzWUAiMzMzM7NZQAAAAAAAIFpALWZmZmbmWUDeZWZmZqZXQNplZmZmxldA5zIzMzPzVkD3MjMzM/NTQCxmZmZm5lNAiszMzMysU0AemZmZmXlWQCAzMzMzc1VAJ5mZmZk5VkCwPQrXo/BVQGNz4Y8B3VVATszMzMysVUDh/////59WQPtlZmZm5lZA2TIzMzNTV0CBzMzMzKxYQJjMzMzMDFhAkpmZmZm5V0A9mZmZmflZQP7/////31VA2TIzMzNTV0BnZmZmZmZYQJoyMzMz81hACgAAAADgWUDy/////39aQAQAAAAAAFpAKWZmZmYGWkDk/////99aQO4yMzMzE1tApMzMzMwMXEDpMjMzMzNbQEzMzMzMDFpA8v////9/WkDy8ihcj+JYQCQiLVTJCFdACDMzMzMTVkD0/////x9WQErMzMzMzFVA+DIzMzMzUkBdmZmZmTlSQPAyMzMzs1NAJGZmZmaGVEDL/////79TQJnMzMzMLFRAJ2ZmZmYGVEAJMzMzM1NUQA0zMzMz81VAOpmZmZm5VUDJ/////39SQPMyMzMzc1FAXJmZmZnZUUDE/////59SQPMyMzMzc1FAYJmZmZnZUEDE/////39QQCdmZmZmJlBAJmZmZmYGUUAsZmZmZiZSQMX/////v1FA9zIzMzPzU0DyMjMzMxNUQPwyMzMz01NASGZmZmbmVEBJmZmZmVlVQHb/////H1VAIDMzMzNzVUAsmZmZmRlWQIj/////n1RAmczMzMwsVEAqZmZmZoZTQDBlke18r1ZA3TIzMzMzV0CcmZmZmXlXQNj/////31ZAUWZmZmamVEBcmZmZmflTQBNmZmZmRlZARJmZmZl5VUCSmZmZmblXQGbMzMzMDFVAZszMzMwMVUDJ/////z9XQNz/////v1ZASTMzMzOzWEBnZmZmZmZYQI/MzMzMTFhAWMzMzMxsVUD1MjMzM5NWQI6ZmZmZ2VdACDMzMzMTVkCBzMzMzKxYQPf/////X1pA9/////9fWkB/zMzMzGxcQALZ5hq3q11A9P////+/XkAMAAAAACBeQDuZmZmZWV5AHWZmZmamXkA5ZmZmZuZdQI3/////H11AhpmZmZlZXEDk/////99aQAdmZmZm5lpAJZmZmZmZWkCTzMzMzCxYQM8yMzMzk1dAIjMzMzOzWUDqZWZmZqZbQCIzMzMzs1lAKWZmZmYGWkB4/////19ZQHP/////f1lAaMzMzMxMWUB4/////19ZQAoAAAAA4FlAMmZmZmbGWUAfZmZmZkZaQCUj2/l+eltAnP////+/XECWmZmZmflbQM0yMzMz81tAwczMzMxMW0AyZmZmZsZZQClmZmZmBlpAUczMzMzsWUA2ZmZmZqZZQAdmZmZm5lpAO2ZmZmaGWUAaZmZmZmZaQEzMzMzMDFpA5P/////fWkAtZmZmZuZZQH3/////P1lAcszMzMwMWUBJMzMzM7NYQGTMzMzMbFlAW8zMzMysWUAiMzMzM7NZQBVmZmZmhlpAWZmZmZk5WUBv/////59ZQMbMzMzMLFtAc/////9/WUA4mZmZmRlaQFHMzMzM7FlAwP////9/V0CG//////9YQGjMzMzMTFlAOjMzMzMTWUBjmZmZmflYQFHMzMzM7FlAS5mZmZmZWUDhZWZmZuZbQEIzMzMzM11Aq/////9fXECIzMzMzMxcQF9mZmZm5lxArszMzMzMW0DcZWZmZgZcQOQyMzMzU1tAqczMzMzsW0Cv/////z9cQIuZmZmZOVxABjMzMzNzWkC8zMzMzGxbQF/MzMzMjFlARpmZmZm5WUCV/////59YQMoyMzMzs1dAdpmZmZl5WEDV/////z9bQHJmZmZmZlxALLggKf/wWEB3zMzMzOxYQJjMzMzMDFhAfMzMzMzMWEADmpmZmRlZQFvMzMzMrFlAE2ZmZmZGVkDRzMzMzIxWQLb/////v1dA8v////9/WkDKzMzMzAxbQELMzMzMTFpAB2ZmZmbmWkCL/////99YQHP/////f1lA/DIzMzOzWkD6gutRuN5bQAs9oTVZylxAODMzMzNzXUDhZWZmZuZbQNsyMzMzk1tA1jIzMzOzW0CsmZmZmVlbQBpmZmZmZlpAEWZmZmamWkBfzMzMzIxZQBpmZmZmZlpA9/////9fWkAlmZmZmZlaQGOZmZmZ+VhAY5mZmZn5WEDzZWZmZmZbQNsyMzMzk1tAtTIzMzOTXECS//////9cQKDMzMzMLFxAfZmZmZmZXEBgmZmZmVldQIaZmZmZWVxArszMzMzMW0BtZmZmZoZcQHX/////v11Ab5mZmZn5XEBCMzMzMzNdQKYyMzMz81xAi5mZmZk5XEBNmZmZmdldQBYAAAAA4F1ASJmZmZn5XUBYmZmZmZldQF3MzMzM7F1ARzMzMzMTXUAYZmZmZsZeQBhmZmZmxl5ABAAAAAAAWkAGMzMzM3NaQH2ZmZmZmVxAlpmZmZn5W0Dk/////99aQKYyMzMz81xAbJmZmZm5WECFzMzMzIxYQAYzMzMzc1pAEwAAAACgWUCUuR6F69FaQD+f9pH9OVtAvv/////fW0CamZmZmdlbQBQzMzMzE1pAGTMzMzPzWUAbmZmZmdlaQOb/////f1ZAaMzMzMxMWUBCzMzMzExaQLb/////v1dA3szMzMyMWkDzZWZmZmZbQOR5FK5HIVxAmP/////fXECrMjMzM9NcQCKZmZmZ+V5AAgAAAABgXkAbMzMzMzNeQOZlZmZmxltAgszMzMzsXECrMjMzM9NcQMb/////n1tAs/////8fXEAyZmZmZsZZQPr3YskvpldAGGZmZmYmVkA1mZmZmdlVQPoyMzMzc1ZAYszMzMwsVUDL/////79TQFPMzMzMjFVAv8zMzMwMV0C//////39UQE8L1tHm3VVA0///////VkCO1qNwPSpWQDRmZmZmZlVANGZmZmZmVUC6zMzMzCxXQAMzMzMzM1ZAT2ZmZmYGWUCsmZmZmVlbQIaZmZmZWVxAKjMzMzPTXUA7mZmZmVleQDQzMzMzk11AujIzMzNzXEA0ZmZmZgZeQIj/////P11APDMzMzNTXUBaZmZmZgZdQN7//////1pAUJmZmZl5WUB4ZmZmZkZcQGHMzMzMzF1Am8zMzMxMXECI/////z9dQLLMzMzMrFtAwv////+/W0BHzMzMzCxaQBFmZmZmplpAKWZmZmYGWkALMzMzM1NaQD2ZmZmZ+VlAaMzMzMxMWUCmmZmZmTlXQA5mZmZmZlZAf5mZmZk5WECzMjMzM1NYQEGZmZmZ2VlAyjIzMzOzV0BrZmZmZkZYQEVmZmZmRllAdWZmZmYGWEC7/////59XQMUyMzMz01dAeWZmZmbmV0BYZmZmZsZYQHBmZmZmJlhAhczMzMyMWEB8zMzMzMxYQBQzMzMzE1pAhv//////WEANzczMzExZQFjDHwN6i1tAxv////+fW0AzmZmZmTlaQGdmZmZmZlhAX8zMzMyMWUA7ZmZmZoZZQOLMzMzMbFpA6mVmZmamW0DuMjMzMxNbQKKZmZmZmVtA+/////8/WkAeMzMzM9NZQIv/////31hAi//////fWEB3zMzMzOxYQKaZmZmZOVdAtczMzMxMV0CSmZmZmblXQJX/////n1hAwP////9/V0DKMjMzM7NXQHBmZmZmJlhAAGZmZmbGVkC1zMzMzExXQG3MzMzMLFlAi//////fWEC8MjMzMxNYQEuZmZmZmVlAxTIzMzPTV0DiMjMzMxNXQIv/////31hAnJmZmZl5V0CuMjMzM3NYQGTMzMzMbFlANjMzMzMzWUCzMjMzM1NYQDEzMzMzU1lAWGZmZmbGWEDaZWZmZsZXQFXMzMzMzFlAX8zMzMyMWUBYZmZmZsZYQH3/////P1lAVJmZmZlZWUBLmZmZmZlZQDEzMzMzU1lAszIzMzNTWEBDAAAAAGBYQHfMzMzM7FhAd8zMzMzsWECQ/////79YQJr/////f1hAmMzMzMwMWEBwZmZmZiZYQLH/////31dAdpmZmZl5WEBUmZmZmVlZQHfMzMzM7FhAHjMzMzPTWUAfZmZmZkZaQCIzMzMzs1lADgAAAADAWUBLmZmZmZlZQCwzMzMzc1lAO2ZmZmaGWUAVZmZmZoZaQC1mZmZm5llAgv////8fWUB4/////19ZQBQzMzMzE1pAOJmZmZkZWkBTZmZmZuZYQBkzMzMz81lASTMzMzOzWEBtzMzMzCxZQDEzMzMzU1lAbczMzMwsWUCo/////x9YQIb//////1hAhczMzMyMWEDdMjMzMzNXQKP/////P1hA2mVmZmbGV0ChmZmZmVlXQLH/////31dAr5mZmZn5VkAxZmZmZuZSQBxmZmZmBlZAsMzMzMxsV0AwmZmZmflVQMb/////31NAnJmZmZl5V0D7/////z9aQM/MzMzM7FpAuP//////W0Do/////79aQGs2VUe3gFtAzTIzMzPzW0AvMzMzM7NdQHhmZmZmRlxA1MzMzMzMWkANmZmZmTlbQClmZmZmBlpA3szMzMyMWkAjZmZmZiZaQAszMzMzU1pAFDMzMzMTWkBfzMzMzIxZQBZAxywq71hAcGZmZmYmWEDAMjMzM/NXQBmZmZmZmVZAP5mZmZmZVUAzMzMzM/NUQJPMzMzMTFRAdv////8fVUBrzMzMzOxUQMT/////f1NA8jIzMzMTVEAvMzMzMxNVQL//////n1NAv/////+fU0AgMzMzM3NVQMv/////v1NAlszMzMzMU0D5MjMzM1NUQMj/////P1RAkczMzMzsU0C//////39UQFyZmZmZ+VNAJGZmZmaGVEDI/////z9UQAwAAAAAgFVAUpmZmZkZVUBlmZmZmZlUQInMzMzMjFRASGZmZmbmVEB0zMzMzKxUQBYAAAAAQFVAPmZmZmYmVUD6MjMzM3NWQN5lZmZmpldA3TIzMzMzV0D2ZWZmZgZXQA==",
          "dtype": "f8"
         },
         "yaxis": "y"
        }
       ],
       "layout": {
        "annotations": [
         {
          "align": "left",
          "bgcolor": "rgba(255, 255, 255, 0.8)",
          "bordercolor": "black",
          "borderwidth": 1,
          "font": {
           "size": 10
          },
          "showarrow": false,
          "text": "Source: Trading Economics<br>Original Source: Westpac Banking Corporation, Melbourne Institute<br>Frequency: MS<br>",
          "x": 0,
          "xanchor": "left",
          "xref": "paper",
          "y": -0.2,
          "yanchor": "bottom",
          "yref": "paper"
         }
        ],
        "legend": {
         "orientation": "h",
         "title": {
          "text": ""
         },
         "tracegroupgap": 0,
         "x": 0.5,
         "xanchor": "center",
         "y": -0.2,
         "yanchor": "bottom"
        },
        "margin": {
         "t": 60
        },
        "template": {
         "data": {
          "bar": [
           {
            "error_x": {
             "color": "#2a3f5f"
            },
            "error_y": {
             "color": "#2a3f5f"
            },
            "marker": {
             "line": {
              "color": "#E5ECF6",
              "width": 0.5
             },
             "pattern": {
              "fillmode": "overlay",
              "size": 10,
              "solidity": 0.2
             }
            },
            "type": "bar"
           }
          ],
          "barpolar": [
           {
            "marker": {
             "line": {
              "color": "#E5ECF6",
              "width": 0.5
             },
             "pattern": {
              "fillmode": "overlay",
              "size": 10,
              "solidity": 0.2
             }
            },
            "type": "barpolar"
           }
          ],
          "carpet": [
           {
            "aaxis": {
             "endlinecolor": "#2a3f5f",
             "gridcolor": "white",
             "linecolor": "white",
             "minorgridcolor": "white",
             "startlinecolor": "#2a3f5f"
            },
            "baxis": {
             "endlinecolor": "#2a3f5f",
             "gridcolor": "white",
             "linecolor": "white",
             "minorgridcolor": "white",
             "startlinecolor": "#2a3f5f"
            },
            "type": "carpet"
           }
          ],
          "choropleth": [
           {
            "colorbar": {
             "outlinewidth": 0,
             "ticks": ""
            },
            "type": "choropleth"
           }
          ],
          "contour": [
           {
            "colorbar": {
             "outlinewidth": 0,
             "ticks": ""
            },
            "colorscale": [
             [
              0,
              "#0d0887"
             ],
             [
              0.1111111111111111,
              "#46039f"
             ],
             [
              0.2222222222222222,
              "#7201a8"
             ],
             [
              0.3333333333333333,
              "#9c179e"
             ],
             [
              0.4444444444444444,
              "#bd3786"
             ],
             [
              0.5555555555555556,
              "#d8576b"
             ],
             [
              0.6666666666666666,
              "#ed7953"
             ],
             [
              0.7777777777777778,
              "#fb9f3a"
             ],
             [
              0.8888888888888888,
              "#fdca26"
             ],
             [
              1,
              "#f0f921"
             ]
            ],
            "type": "contour"
           }
          ],
          "contourcarpet": [
           {
            "colorbar": {
             "outlinewidth": 0,
             "ticks": ""
            },
            "type": "contourcarpet"
           }
          ],
          "heatmap": [
           {
            "colorbar": {
             "outlinewidth": 0,
             "ticks": ""
            },
            "colorscale": [
             [
              0,
              "#0d0887"
             ],
             [
              0.1111111111111111,
              "#46039f"
             ],
             [
              0.2222222222222222,
              "#7201a8"
             ],
             [
              0.3333333333333333,
              "#9c179e"
             ],
             [
              0.4444444444444444,
              "#bd3786"
             ],
             [
              0.5555555555555556,
              "#d8576b"
             ],
             [
              0.6666666666666666,
              "#ed7953"
             ],
             [
              0.7777777777777778,
              "#fb9f3a"
             ],
             [
              0.8888888888888888,
              "#fdca26"
             ],
             [
              1,
              "#f0f921"
             ]
            ],
            "type": "heatmap"
           }
          ],
          "histogram": [
           {
            "marker": {
             "pattern": {
              "fillmode": "overlay",
              "size": 10,
              "solidity": 0.2
             }
            },
            "type": "histogram"
           }
          ],
          "histogram2d": [
           {
            "colorbar": {
             "outlinewidth": 0,
             "ticks": ""
            },
            "colorscale": [
             [
              0,
              "#0d0887"
             ],
             [
              0.1111111111111111,
              "#46039f"
             ],
             [
              0.2222222222222222,
              "#7201a8"
             ],
             [
              0.3333333333333333,
              "#9c179e"
             ],
             [
              0.4444444444444444,
              "#bd3786"
             ],
             [
              0.5555555555555556,
              "#d8576b"
             ],
             [
              0.6666666666666666,
              "#ed7953"
             ],
             [
              0.7777777777777778,
              "#fb9f3a"
             ],
             [
              0.8888888888888888,
              "#fdca26"
             ],
             [
              1,
              "#f0f921"
             ]
            ],
            "type": "histogram2d"
           }
          ],
          "histogram2dcontour": [
           {
            "colorbar": {
             "outlinewidth": 0,
             "ticks": ""
            },
            "colorscale": [
             [
              0,
              "#0d0887"
             ],
             [
              0.1111111111111111,
              "#46039f"
             ],
             [
              0.2222222222222222,
              "#7201a8"
             ],
             [
              0.3333333333333333,
              "#9c179e"
             ],
             [
              0.4444444444444444,
              "#bd3786"
             ],
             [
              0.5555555555555556,
              "#d8576b"
             ],
             [
              0.6666666666666666,
              "#ed7953"
             ],
             [
              0.7777777777777778,
              "#fb9f3a"
             ],
             [
              0.8888888888888888,
              "#fdca26"
             ],
             [
              1,
              "#f0f921"
             ]
            ],
            "type": "histogram2dcontour"
           }
          ],
          "mesh3d": [
           {
            "colorbar": {
             "outlinewidth": 0,
             "ticks": ""
            },
            "type": "mesh3d"
           }
          ],
          "parcoords": [
           {
            "line": {
             "colorbar": {
              "outlinewidth": 0,
              "ticks": ""
             }
            },
            "type": "parcoords"
           }
          ],
          "pie": [
           {
            "automargin": true,
            "type": "pie"
           }
          ],
          "scatter": [
           {
            "fillpattern": {
             "fillmode": "overlay",
             "size": 10,
             "solidity": 0.2
            },
            "type": "scatter"
           }
          ],
          "scatter3d": [
           {
            "line": {
             "colorbar": {
              "outlinewidth": 0,
              "ticks": ""
             }
            },
            "marker": {
             "colorbar": {
              "outlinewidth": 0,
              "ticks": ""
             }
            },
            "type": "scatter3d"
           }
          ],
          "scattercarpet": [
           {
            "marker": {
             "colorbar": {
              "outlinewidth": 0,
              "ticks": ""
             }
            },
            "type": "scattercarpet"
           }
          ],
          "scattergeo": [
           {
            "marker": {
             "colorbar": {
              "outlinewidth": 0,
              "ticks": ""
             }
            },
            "type": "scattergeo"
           }
          ],
          "scattergl": [
           {
            "marker": {
             "colorbar": {
              "outlinewidth": 0,
              "ticks": ""
             }
            },
            "type": "scattergl"
           }
          ],
          "scattermap": [
           {
            "marker": {
             "colorbar": {
              "outlinewidth": 0,
              "ticks": ""
             }
            },
            "type": "scattermap"
           }
          ],
          "scattermapbox": [
           {
            "marker": {
             "colorbar": {
              "outlinewidth": 0,
              "ticks": ""
             }
            },
            "type": "scattermapbox"
           }
          ],
          "scatterpolar": [
           {
            "marker": {
             "colorbar": {
              "outlinewidth": 0,
              "ticks": ""
             }
            },
            "type": "scatterpolar"
           }
          ],
          "scatterpolargl": [
           {
            "marker": {
             "colorbar": {
              "outlinewidth": 0,
              "ticks": ""
             }
            },
            "type": "scatterpolargl"
           }
          ],
          "scatterternary": [
           {
            "marker": {
             "colorbar": {
              "outlinewidth": 0,
              "ticks": ""
             }
            },
            "type": "scatterternary"
           }
          ],
          "surface": [
           {
            "colorbar": {
             "outlinewidth": 0,
             "ticks": ""
            },
            "colorscale": [
             [
              0,
              "#0d0887"
             ],
             [
              0.1111111111111111,
              "#46039f"
             ],
             [
              0.2222222222222222,
              "#7201a8"
             ],
             [
              0.3333333333333333,
              "#9c179e"
             ],
             [
              0.4444444444444444,
              "#bd3786"
             ],
             [
              0.5555555555555556,
              "#d8576b"
             ],
             [
              0.6666666666666666,
              "#ed7953"
             ],
             [
              0.7777777777777778,
              "#fb9f3a"
             ],
             [
              0.8888888888888888,
              "#fdca26"
             ],
             [
              1,
              "#f0f921"
             ]
            ],
            "type": "surface"
           }
          ],
          "table": [
           {
            "cells": {
             "fill": {
              "color": "#EBF0F8"
             },
             "line": {
              "color": "white"
             }
            },
            "header": {
             "fill": {
              "color": "#C8D4E3"
             },
             "line": {
              "color": "white"
             }
            },
            "type": "table"
           }
          ]
         },
         "layout": {
          "annotationdefaults": {
           "arrowcolor": "#2a3f5f",
           "arrowhead": 0,
           "arrowwidth": 1
          },
          "autotypenumbers": "strict",
          "coloraxis": {
           "colorbar": {
            "outlinewidth": 0,
            "ticks": ""
           }
          },
          "colorscale": {
           "diverging": [
            [
             0,
             "#8e0152"
            ],
            [
             0.1,
             "#c51b7d"
            ],
            [
             0.2,
             "#de77ae"
            ],
            [
             0.3,
             "#f1b6da"
            ],
            [
             0.4,
             "#fde0ef"
            ],
            [
             0.5,
             "#f7f7f7"
            ],
            [
             0.6,
             "#e6f5d0"
            ],
            [
             0.7,
             "#b8e186"
            ],
            [
             0.8,
             "#7fbc41"
            ],
            [
             0.9,
             "#4d9221"
            ],
            [
             1,
             "#276419"
            ]
           ],
           "sequential": [
            [
             0,
             "#0d0887"
            ],
            [
             0.1111111111111111,
             "#46039f"
            ],
            [
             0.2222222222222222,
             "#7201a8"
            ],
            [
             0.3333333333333333,
             "#9c179e"
            ],
            [
             0.4444444444444444,
             "#bd3786"
            ],
            [
             0.5555555555555556,
             "#d8576b"
            ],
            [
             0.6666666666666666,
             "#ed7953"
            ],
            [
             0.7777777777777778,
             "#fb9f3a"
            ],
            [
             0.8888888888888888,
             "#fdca26"
            ],
            [
             1,
             "#f0f921"
            ]
           ],
           "sequentialminus": [
            [
             0,
             "#0d0887"
            ],
            [
             0.1111111111111111,
             "#46039f"
            ],
            [
             0.2222222222222222,
             "#7201a8"
            ],
            [
             0.3333333333333333,
             "#9c179e"
            ],
            [
             0.4444444444444444,
             "#bd3786"
            ],
            [
             0.5555555555555556,
             "#d8576b"
            ],
            [
             0.6666666666666666,
             "#ed7953"
            ],
            [
             0.7777777777777778,
             "#fb9f3a"
            ],
            [
             0.8888888888888888,
             "#fdca26"
            ],
            [
             1,
             "#f0f921"
            ]
           ]
          },
          "colorway": [
           "#636efa",
           "#EF553B",
           "#00cc96",
           "#ab63fa",
           "#FFA15A",
           "#19d3f3",
           "#FF6692",
           "#B6E880",
           "#FF97FF",
           "#FECB52"
          ],
          "font": {
           "color": "#2a3f5f"
          },
          "geo": {
           "bgcolor": "white",
           "lakecolor": "white",
           "landcolor": "#E5ECF6",
           "showlakes": true,
           "showland": true,
           "subunitcolor": "white"
          },
          "hoverlabel": {
           "align": "left"
          },
          "hovermode": "closest",
          "mapbox": {
           "style": "light"
          },
          "paper_bgcolor": "white",
          "plot_bgcolor": "#E5ECF6",
          "polar": {
           "angularaxis": {
            "gridcolor": "white",
            "linecolor": "white",
            "ticks": ""
           },
           "bgcolor": "#E5ECF6",
           "radialaxis": {
            "gridcolor": "white",
            "linecolor": "white",
            "ticks": ""
           }
          },
          "scene": {
           "xaxis": {
            "backgroundcolor": "#E5ECF6",
            "gridcolor": "white",
            "gridwidth": 2,
            "linecolor": "white",
            "showbackground": true,
            "ticks": "",
            "zerolinecolor": "white"
           },
           "yaxis": {
            "backgroundcolor": "#E5ECF6",
            "gridcolor": "white",
            "gridwidth": 2,
            "linecolor": "white",
            "showbackground": true,
            "ticks": "",
            "zerolinecolor": "white"
           },
           "zaxis": {
            "backgroundcolor": "#E5ECF6",
            "gridcolor": "white",
            "gridwidth": 2,
            "linecolor": "white",
            "showbackground": true,
            "ticks": "",
            "zerolinecolor": "white"
           }
          },
          "shapedefaults": {
           "line": {
            "color": "#2a3f5f"
           }
          },
          "ternary": {
           "aaxis": {
            "gridcolor": "white",
            "linecolor": "white",
            "ticks": ""
           },
           "baxis": {
            "gridcolor": "white",
            "linecolor": "white",
            "ticks": ""
           },
           "bgcolor": "#E5ECF6",
           "caxis": {
            "gridcolor": "white",
            "linecolor": "white",
            "ticks": ""
           }
          },
          "title": {
           "x": 0.05
          },
          "xaxis": {
           "automargin": true,
           "gridcolor": "white",
           "linecolor": "white",
           "ticks": "",
           "title": {
            "standoff": 15
           },
           "zerolinecolor": "white",
           "zerolinewidth": 2
          },
          "yaxis": {
           "automargin": true,
           "gridcolor": "white",
           "linecolor": "white",
           "ticks": "",
           "title": {
            "standoff": 15
           },
           "zerolinecolor": "white",
           "zerolinewidth": 2
          }
         }
        },
        "title": {
         "text": "Australia: Australia consumer confidence"
        },
        "xaxis": {
         "anchor": "y",
         "domain": [
          0,
          1
         ],
         "title": {
          "text": ""
         }
        },
        "yaxis": {
         "anchor": "x",
         "domain": [
          0,
          1
         ],
         "title": {
          "text": "Points"
         }
        }
       }
      }
     },
     "metadata": {},
     "output_type": "display_data"
    }
   ],
   "source": [
    "scraped.plot_series()   #Plotting the series"
   ]
  },
  {
   "cell_type": "markdown",
   "metadata": {},
   "source": [
    "# Method #3: Debug method - manually run through the steps.\n",
    "\n",
    "If you get an error on trying load_page method, something like the examples below: \n",
    "- Error loading page: Message: Failed to decode response from marionette\n",
    "- Error loading page: Message: Tried to run command without establishing a connection\n",
    "\n",
    "You need to start a new webdriver instance. Reinitilize your TE_Scraper object and set: ```use_existing_driver = False```"
   ]
  },
  {
   "cell_type": "code",
   "execution_count": 219,
   "metadata": {},
   "outputs": [
    {
     "name": "stderr",
     "output_type": "stream",
     "text": [
      "INFO - Quitting 2 active webdriver instances...\n"
     ]
    },
    {
     "data": {
      "text/plain": [
       "[]"
      ]
     },
     "execution_count": 219,
     "metadata": {},
     "output_type": "execute_result"
    }
   ],
   "source": [
    "from tedata import base\n",
    "base.find_active_drivers(quit_all=True)"
   ]
  },
  {
   "cell_type": "code",
   "execution_count": 220,
   "metadata": {},
   "outputs": [
    {
     "name": "stderr",
     "output_type": "stream",
     "text": [
      "INFO - New firefox webdriver created.\n"
     ]
    }
   ],
   "source": [
    "scr = ted.TE_Scraper(use_existing_driver = False, headless = True)  ## Initialize a new TE_scraper object."
   ]
  },
  {
   "cell_type": "code",
   "execution_count": 221,
   "metadata": {},
   "outputs": [
    {
     "name": "stderr",
     "output_type": "stream",
     "text": [
      "INFO - Chart types dictionary created successfully: dict_keys(['Column', 'Spline', 'Areaspline', 'Stepline', 'Line', 'Area'])\n",
      "INFO - Date span set to: 1Y\n"
     ]
    },
    {
     "data": {
      "text/plain": [
       "True"
      ]
     },
     "execution_count": 221,
     "metadata": {},
     "output_type": "execute_result"
    }
   ],
   "source": [
    "scr.load_page('https://tradingeconomics.com/united-states/personal-income', extra_wait_time=5) ## Load a new page containing chart. Use higher extra_wait_time if it fails.\n",
    "#\"https://tradingeconomics.com/united-states/personal-income\" https://tradingeconomics.com/united-states/manufacturing-pmi"
   ]
  },
  {
   "cell_type": "code",
   "execution_count": 222,
   "metadata": {},
   "outputs": [
    {
     "name": "stderr",
     "output_type": "stream",
     "text": [
      "INFO - \n",
      "Series metadata: \n",
      " {'units': '%', 'original_source': 'U.S. Bureau of Economic Analysis', 'title': 'United States Personal Income', 'indicator': 'personal income', 'country': 'united states', 'source': 'Trading Economics', 'id': 'united-states/personal-income'}\n"
     ]
    }
   ],
   "source": [
    "scr.scrape_metadata() ## Scrape the metadata for the data series from the page."
   ]
  },
  {
   "cell_type": "code",
   "execution_count": 223,
   "metadata": {},
   "outputs": [
    {
     "name": "stdout",
     "output_type": "stream",
     "text": [
      "Using selenium and tooltip scraping to construct the date time index for the time-series, this'll take a bit...\n"
     ]
    },
    {
     "name": "stderr",
     "output_type": "stream",
     "text": [
      "INFO - Chart type set to: Spline\n"
     ]
    },
    {
     "name": "stdout",
     "output_type": "stream",
     "text": [
      "Time taken to select chart type: 2.4839611400384456\n",
      "Time taken to load JS code: 0.0036984889884479344\n"
     ]
    },
    {
     "name": "stderr",
     "output_type": "stream",
     "text": [
      "INFO - JS Console: Starting cursor movement, target points: 10\n",
      "INFO - JS Console: Using increment: 5px\n",
      "INFO - JS Console: Using wait time: 25ms\n",
      "INFO - JS Console: Chart dimensions: [object DOMRect]\n",
      "INFO - JS Console: Found data point: Jan 2025 = 0.9%\n",
      "INFO - JS Console: Found data point: Dec 2024 = 0.4%\n",
      "INFO - JS Console: Found data point: Nov 2024 = 0.3%\n",
      "INFO - JS Console: Found data point: Oct 2024 = 0.6%\n",
      "INFO - JS Console: Found data point: Sep 2024 = 0.3%\n",
      "INFO - JS Console: Found data point: Aug 2024 = 0.1%\n",
      "INFO - JS Console: Found data point: Jul 2024 = 0.2%\n",
      "INFO - JS Console: Found data point: Jun 2024 = 0.2%\n",
      "INFO - JS Console: Found data point: May 2024 = 0.3%\n",
      "INFO - JS Console: Found data point: Apr 2024 = 0.1%\n",
      "INFO - JS Console: Collected 10 points, finishing...\n"
     ]
    },
    {
     "name": "stdout",
     "output_type": "stream",
     "text": [
      "Time taken to execute JS code: 2.8474462940357625\n",
      "Latest dates:  ['Jan 2025', 'Dec 2024', 'Nov 2024', 'Oct 2024', 'Sep 2024', 'Aug 2024', 'Jul 2024', 'Jun 2024', 'May 2024', 'Apr 2024']\n",
      "Frequency of time-series:  MS\n",
      "get_xlims_from_tooltips method: date_span:  1Y , chart_type: splineChart\n"
     ]
    },
    {
     "name": "stderr",
     "output_type": "stream",
     "text": [
      "INFO - Chart type set to: Spline\n"
     ]
    },
    {
     "name": "stdout",
     "output_type": "stream",
     "text": [
      "Got chart dimensions and plot background element.\n"
     ]
    },
    {
     "name": "stderr",
     "output_type": "stream",
     "text": [
      "INFO - Start and end values scraped from tooltips: \n",
      "{'start_date': Timestamp('1959-02-01 00:00:00'), 'start_value': 0.5, 'unit_str': '%', 'end_date': Timestamp('2025-01-01 00:00:00'), 'end_value': 0.9}\n",
      "INFO - DateTimeIndex created successfully for the time-series.\n"
     ]
    },
    {
     "name": "stdout",
     "output_type": "stream",
     "text": [
      "Start and end dates scraped from tooltips:  {'start_date': Timestamp('1959-02-01 00:00:00'), 'start_value': 0.5, 'unit_str': '%', 'end_date': Timestamp('2025-01-01 00:00:00'), 'end_value': 0.9}\n"
     ]
    },
    {
     "data": {
      "text/plain": [
       "DatetimeIndex(['1959-02-01', '1959-03-01', '1959-04-01', '1959-05-01',\n",
       "               '1959-06-01', '1959-07-01', '1959-08-01', '1959-09-01',\n",
       "               '1959-10-01', '1959-11-01',\n",
       "               ...\n",
       "               '2024-04-01', '2024-05-01', '2024-06-01', '2024-07-01',\n",
       "               '2024-08-01', '2024-09-01', '2024-10-01', '2024-11-01',\n",
       "               '2024-12-01', '2025-01-01'],\n",
       "              dtype='datetime64[ns]', length=792, freq='MS')"
      ]
     },
     "execution_count": 223,
     "metadata": {},
     "output_type": "execute_result"
    }
   ],
   "source": [
    "scr.make_x_index(force_rerun_freqdet=True, force_rerun_xlims=True) ## Create the x_index for the series first."
   ]
  },
  {
   "cell_type": "code",
   "execution_count": 224,
   "metadata": {},
   "outputs": [
    {
     "name": "stderr",
     "output_type": "stream",
     "text": [
      "INFO - Y-axis values scraped successfully.\n"
     ]
    },
    {
     "name": "stdout",
     "output_type": "stream",
     "text": [
      "y_heights:  [335.5, 320.5, 269.5, 217.5, 165.5, 114.5, 62.5, 39.5]\n",
      "pixheights:  [335.5, 320.5, 269.5, 217.5, 165.5, 114.5, 62.5, 39.5]\n"
     ]
    },
    {
     "data": {
      "text/plain": [
       "pixheight\n",
       "335.5   -16.0\n",
       "320.5   -14.0\n",
       "269.5    -7.0\n",
       "217.5     0.0\n",
       "165.5     7.0\n",
       "114.5    14.0\n",
       "62.5     21.0\n",
       "39.5     24.0\n",
       "Name: ytick_label, dtype: float64"
      ]
     },
     "execution_count": 224,
     "metadata": {},
     "output_type": "execute_result"
    }
   ],
   "source": [
    "scr.get_y_axis(set_global_y_axis=True)   ## Get the y-axis tick positions (pixel co-ordinates) and values, will set the global y-axis attribute since date_span is set to MAX."
   ]
  },
  {
   "cell_type": "code",
   "execution_count": 269,
   "metadata": {},
   "outputs": [
    {
     "name": "stderr",
     "output_type": "stream",
     "text": [
      "INFO - Series path extraction method: Extracting series data from chart soup.\n",
      "INFO - Date span: MAX. Chart type: splineChart, URL: https://tradingeconomics.com/united-states/personal-income.\n"
     ]
    },
    {
     "data": {
      "text/plain": [
       "0.000000      162.1875\n",
       "0.000000      162.1875\n",
       "0.466124      163.1025\n",
       "0.776873      163.6625\n",
       "1.120917      164.2825\n",
       "                ...   \n",
       "666.806945    160.7125\n",
       "667.139890    161.4500\n",
       "667.483934    162.1875\n",
       "668.000000    165.1375\n",
       "668.000000    165.1375\n",
       "Name: Extracted Series, Length: 2374, dtype: float64"
      ]
     },
     "execution_count": 269,
     "metadata": {},
     "output_type": "execute_result"
    }
   ],
   "source": [
    "scr.series_from_chart_soup(set_max_datespan=True) ## Get the full series from the path element of the data trace on the svg chart.\n",
    "scr.series"
   ]
  },
  {
   "cell_type": "code",
   "execution_count": 270,
   "metadata": {},
   "outputs": [
    {
     "name": "stderr",
     "output_type": "stream",
     "text": [
      "INFO - DateTimeIndex applied to series, series attribute updated.\n"
     ]
    }
   ],
   "source": [
    "scr.apply_x_index()  ## Apply the x-axis index to the series."
   ]
  },
  {
   "cell_type": "code",
   "execution_count": 271,
   "metadata": {},
   "outputs": [
    {
     "data": {
      "text/plain": [
       "1959-02-01    162.1875\n",
       "1959-03-01    163.6625\n",
       "1959-04-01    165.1375\n",
       "1959-05-01    162.9250\n",
       "1959-06-01    162.9250\n",
       "                ...   \n",
       "2024-09-01    160.7125\n",
       "2024-10-01    162.9250\n",
       "2024-11-01    160.7125\n",
       "2024-12-01    161.4500\n",
       "2025-01-01    165.1375\n",
       "Freq: MS, Name: personal income, Length: 792, dtype: float64"
      ]
     },
     "execution_count": 271,
     "metadata": {},
     "output_type": "execute_result"
    }
   ],
   "source": [
    "scr.series"
   ]
  },
  {
   "cell_type": "markdown",
   "metadata": {},
   "source": [
    "At this point the value in the data-series are still the pixel co-ordinates in the svg image of the chart."
   ]
  },
  {
   "cell_type": "code",
   "execution_count": 287,
   "metadata": {},
   "outputs": [
    {
     "name": "stdout",
     "output_type": "stream",
     "text": [
      "Warning: Cannot change to a different GUI toolkit: tk. Using qt instead.\n"
     ]
    },
    {
     "ename": "ImportError",
     "evalue": "Failed to import any of the following Qt binding modules: PyQt6, PySide6, PyQt5, PySide2",
     "output_type": "error",
     "traceback": [
      "\u001b[0;31m---------------------------------------------------------------------------\u001b[0m",
      "\u001b[0;31mImportError\u001b[0m                               Traceback (most recent call last)",
      "Cell \u001b[0;32mIn[287], line 3\u001b[0m\n\u001b[1;32m      1\u001b[0m \u001b[38;5;28;01mimport\u001b[39;00m\u001b[38;5;250m \u001b[39m\u001b[38;5;21;01mtest_scaling\u001b[39;00m\u001b[38;5;250m \u001b[39m\u001b[38;5;28;01mas\u001b[39;00m\u001b[38;5;250m \u001b[39m\u001b[38;5;21;01mts\u001b[39;00m\n\u001b[1;32m      2\u001b[0m \u001b[38;5;28;01mimport\u001b[39;00m\u001b[38;5;250m \u001b[39m\u001b[38;5;21;01mmatplotlib\u001b[39;00m\u001b[38;5;21;01m.\u001b[39;00m\u001b[38;5;21;01mpyplot\u001b[39;00m\u001b[38;5;250m \u001b[39m\u001b[38;5;28;01mas\u001b[39;00m\u001b[38;5;250m \u001b[39m\u001b[38;5;21;01mplt\u001b[39;00m\n\u001b[0;32m----> 3\u001b[0m \u001b[43mget_ipython\u001b[49m\u001b[43m(\u001b[49m\u001b[43m)\u001b[49m\u001b[38;5;241;43m.\u001b[39;49m\u001b[43mrun_line_magic\u001b[49m\u001b[43m(\u001b[49m\u001b[38;5;124;43m'\u001b[39;49m\u001b[38;5;124;43mmatplotlib\u001b[39;49m\u001b[38;5;124;43m'\u001b[39;49m\u001b[43m,\u001b[49m\u001b[43m \u001b[49m\u001b[38;5;124;43m'\u001b[39;49m\u001b[38;5;124;43mtk\u001b[39;49m\u001b[38;5;124;43m'\u001b[39;49m\u001b[43m)\u001b[49m\n",
      "File \u001b[0;32m~/Documents/miniconda3/envs/ted/lib/python3.11/site-packages/IPython/core/interactiveshell.py:2482\u001b[0m, in \u001b[0;36mInteractiveShell.run_line_magic\u001b[0;34m(self, magic_name, line, _stack_depth)\u001b[0m\n\u001b[1;32m   2480\u001b[0m     kwargs[\u001b[38;5;124m'\u001b[39m\u001b[38;5;124mlocal_ns\u001b[39m\u001b[38;5;124m'\u001b[39m] \u001b[38;5;241m=\u001b[39m \u001b[38;5;28mself\u001b[39m\u001b[38;5;241m.\u001b[39mget_local_scope(stack_depth)\n\u001b[1;32m   2481\u001b[0m \u001b[38;5;28;01mwith\u001b[39;00m \u001b[38;5;28mself\u001b[39m\u001b[38;5;241m.\u001b[39mbuiltin_trap:\n\u001b[0;32m-> 2482\u001b[0m     result \u001b[38;5;241m=\u001b[39m \u001b[43mfn\u001b[49m\u001b[43m(\u001b[49m\u001b[38;5;241;43m*\u001b[39;49m\u001b[43margs\u001b[49m\u001b[43m,\u001b[49m\u001b[43m \u001b[49m\u001b[38;5;241;43m*\u001b[39;49m\u001b[38;5;241;43m*\u001b[39;49m\u001b[43mkwargs\u001b[49m\u001b[43m)\u001b[49m\n\u001b[1;32m   2484\u001b[0m \u001b[38;5;66;03m# The code below prevents the output from being displayed\u001b[39;00m\n\u001b[1;32m   2485\u001b[0m \u001b[38;5;66;03m# when using magics with decorator @output_can_be_silenced\u001b[39;00m\n\u001b[1;32m   2486\u001b[0m \u001b[38;5;66;03m# when the last Python token in the expression is a ';'.\u001b[39;00m\n\u001b[1;32m   2487\u001b[0m \u001b[38;5;28;01mif\u001b[39;00m \u001b[38;5;28mgetattr\u001b[39m(fn, magic\u001b[38;5;241m.\u001b[39mMAGIC_OUTPUT_CAN_BE_SILENCED, \u001b[38;5;28;01mFalse\u001b[39;00m):\n",
      "File \u001b[0;32m~/Documents/miniconda3/envs/ted/lib/python3.11/site-packages/IPython/core/magics/pylab.py:103\u001b[0m, in \u001b[0;36mPylabMagics.matplotlib\u001b[0;34m(self, line)\u001b[0m\n\u001b[1;32m     98\u001b[0m     \u001b[38;5;28mprint\u001b[39m(\n\u001b[1;32m     99\u001b[0m         \u001b[38;5;124m\"\u001b[39m\u001b[38;5;124mAvailable matplotlib backends: \u001b[39m\u001b[38;5;132;01m%s\u001b[39;00m\u001b[38;5;124m\"\u001b[39m\n\u001b[1;32m    100\u001b[0m         \u001b[38;5;241m%\u001b[39m _list_matplotlib_backends_and_gui_loops()\n\u001b[1;32m    101\u001b[0m     )\n\u001b[1;32m    102\u001b[0m \u001b[38;5;28;01melse\u001b[39;00m:\n\u001b[0;32m--> 103\u001b[0m     gui, backend \u001b[38;5;241m=\u001b[39m \u001b[38;5;28;43mself\u001b[39;49m\u001b[38;5;241;43m.\u001b[39;49m\u001b[43mshell\u001b[49m\u001b[38;5;241;43m.\u001b[39;49m\u001b[43menable_matplotlib\u001b[49m\u001b[43m(\u001b[49m\u001b[43margs\u001b[49m\u001b[38;5;241;43m.\u001b[39;49m\u001b[43mgui\u001b[49m\u001b[43m)\u001b[49m\n\u001b[1;32m    104\u001b[0m     \u001b[38;5;28mself\u001b[39m\u001b[38;5;241m.\u001b[39m_show_matplotlib_backend(args\u001b[38;5;241m.\u001b[39mgui, backend)\n",
      "File \u001b[0;32m~/Documents/miniconda3/envs/ted/lib/python3.11/site-packages/IPython/core/interactiveshell.py:3679\u001b[0m, in \u001b[0;36mInteractiveShell.enable_matplotlib\u001b[0;34m(self, gui)\u001b[0m\n\u001b[1;32m   3675\u001b[0m         \u001b[38;5;28mprint\u001b[39m(\u001b[38;5;124m'\u001b[39m\u001b[38;5;124mWarning: Cannot change to a different GUI toolkit: \u001b[39m\u001b[38;5;132;01m%s\u001b[39;00m\u001b[38;5;124m.\u001b[39m\u001b[38;5;124m'\u001b[39m\n\u001b[1;32m   3676\u001b[0m                 \u001b[38;5;124m'\u001b[39m\u001b[38;5;124m Using \u001b[39m\u001b[38;5;132;01m%s\u001b[39;00m\u001b[38;5;124m instead.\u001b[39m\u001b[38;5;124m'\u001b[39m \u001b[38;5;241m%\u001b[39m (gui, \u001b[38;5;28mself\u001b[39m\u001b[38;5;241m.\u001b[39mpylab_gui_select))\n\u001b[1;32m   3677\u001b[0m         gui, backend \u001b[38;5;241m=\u001b[39m pt\u001b[38;5;241m.\u001b[39mfind_gui_and_backend(\u001b[38;5;28mself\u001b[39m\u001b[38;5;241m.\u001b[39mpylab_gui_select)\n\u001b[0;32m-> 3679\u001b[0m \u001b[43mpt\u001b[49m\u001b[38;5;241;43m.\u001b[39;49m\u001b[43mactivate_matplotlib\u001b[49m\u001b[43m(\u001b[49m\u001b[43mbackend\u001b[49m\u001b[43m)\u001b[49m\n\u001b[1;32m   3681\u001b[0m \u001b[38;5;28;01mfrom\u001b[39;00m\u001b[38;5;250m \u001b[39m\u001b[38;5;21;01mmatplotlib_inline\u001b[39;00m\u001b[38;5;21;01m.\u001b[39;00m\u001b[38;5;21;01mbackend_inline\u001b[39;00m\u001b[38;5;250m \u001b[39m\u001b[38;5;28;01mimport\u001b[39;00m configure_inline_support\n\u001b[1;32m   3683\u001b[0m configure_inline_support(\u001b[38;5;28mself\u001b[39m, backend)\n",
      "File \u001b[0;32m~/Documents/miniconda3/envs/ted/lib/python3.11/site-packages/IPython/core/pylabtools.py:410\u001b[0m, in \u001b[0;36mactivate_matplotlib\u001b[0;34m(backend)\u001b[0m\n\u001b[1;32m    405\u001b[0m \u001b[38;5;66;03m# Due to circular imports, pyplot may be only partially initialised\u001b[39;00m\n\u001b[1;32m    406\u001b[0m \u001b[38;5;66;03m# when this function runs.\u001b[39;00m\n\u001b[1;32m    407\u001b[0m \u001b[38;5;66;03m# So avoid needing matplotlib attribute-lookup to access pyplot.\u001b[39;00m\n\u001b[1;32m    408\u001b[0m \u001b[38;5;28;01mfrom\u001b[39;00m\u001b[38;5;250m \u001b[39m\u001b[38;5;21;01mmatplotlib\u001b[39;00m\u001b[38;5;250m \u001b[39m\u001b[38;5;28;01mimport\u001b[39;00m pyplot \u001b[38;5;28;01mas\u001b[39;00m plt\n\u001b[0;32m--> 410\u001b[0m \u001b[43mplt\u001b[49m\u001b[38;5;241;43m.\u001b[39;49m\u001b[43mswitch_backend\u001b[49m\u001b[43m(\u001b[49m\u001b[43mbackend\u001b[49m\u001b[43m)\u001b[49m\n\u001b[1;32m    412\u001b[0m plt\u001b[38;5;241m.\u001b[39mshow\u001b[38;5;241m.\u001b[39m_needmain \u001b[38;5;241m=\u001b[39m \u001b[38;5;28;01mFalse\u001b[39;00m\n\u001b[1;32m    413\u001b[0m \u001b[38;5;66;03m# We need to detect at runtime whether show() is called by the user.\u001b[39;00m\n\u001b[1;32m    414\u001b[0m \u001b[38;5;66;03m# For this, we wrap it into a decorator which adds a 'called' flag.\u001b[39;00m\n",
      "File \u001b[0;32m~/Documents/miniconda3/envs/ted/lib/python3.11/site-packages/matplotlib/pyplot.py:425\u001b[0m, in \u001b[0;36mswitch_backend\u001b[0;34m(newbackend)\u001b[0m\n\u001b[1;32m    422\u001b[0m         \u001b[38;5;28;01mreturn\u001b[39;00m\n\u001b[1;32m    423\u001b[0m old_backend \u001b[38;5;241m=\u001b[39m rcParams\u001b[38;5;241m.\u001b[39m_get(\u001b[38;5;124m'\u001b[39m\u001b[38;5;124mbackend\u001b[39m\u001b[38;5;124m'\u001b[39m)  \u001b[38;5;66;03m# get without triggering backend resolution\u001b[39;00m\n\u001b[0;32m--> 425\u001b[0m module \u001b[38;5;241m=\u001b[39m \u001b[43mbackend_registry\u001b[49m\u001b[38;5;241;43m.\u001b[39;49m\u001b[43mload_backend_module\u001b[49m\u001b[43m(\u001b[49m\u001b[43mnewbackend\u001b[49m\u001b[43m)\u001b[49m\n\u001b[1;32m    426\u001b[0m canvas_class \u001b[38;5;241m=\u001b[39m module\u001b[38;5;241m.\u001b[39mFigureCanvas\n\u001b[1;32m    428\u001b[0m required_framework \u001b[38;5;241m=\u001b[39m canvas_class\u001b[38;5;241m.\u001b[39mrequired_interactive_framework\n",
      "File \u001b[0;32m~/Documents/miniconda3/envs/ted/lib/python3.11/site-packages/matplotlib/backends/registry.py:317\u001b[0m, in \u001b[0;36mBackendRegistry.load_backend_module\u001b[0;34m(self, backend)\u001b[0m\n\u001b[1;32m    303\u001b[0m \u001b[38;5;250m\u001b[39m\u001b[38;5;124;03m\"\"\"\u001b[39;00m\n\u001b[1;32m    304\u001b[0m \u001b[38;5;124;03mLoad and return the module containing the specified backend.\u001b[39;00m\n\u001b[1;32m    305\u001b[0m \n\u001b[0;32m   (...)\u001b[0m\n\u001b[1;32m    314\u001b[0m \u001b[38;5;124;03m    Module containing backend.\u001b[39;00m\n\u001b[1;32m    315\u001b[0m \u001b[38;5;124;03m\"\"\"\u001b[39;00m\n\u001b[1;32m    316\u001b[0m module_name \u001b[38;5;241m=\u001b[39m \u001b[38;5;28mself\u001b[39m\u001b[38;5;241m.\u001b[39m_backend_module_name(backend)\n\u001b[0;32m--> 317\u001b[0m \u001b[38;5;28;01mreturn\u001b[39;00m \u001b[43mimportlib\u001b[49m\u001b[38;5;241;43m.\u001b[39;49m\u001b[43mimport_module\u001b[49m\u001b[43m(\u001b[49m\u001b[43mmodule_name\u001b[49m\u001b[43m)\u001b[49m\n",
      "File \u001b[0;32m~/Documents/miniconda3/envs/ted/lib/python3.11/importlib/__init__.py:126\u001b[0m, in \u001b[0;36mimport_module\u001b[0;34m(name, package)\u001b[0m\n\u001b[1;32m    124\u001b[0m             \u001b[38;5;28;01mbreak\u001b[39;00m\n\u001b[1;32m    125\u001b[0m         level \u001b[38;5;241m+\u001b[39m\u001b[38;5;241m=\u001b[39m \u001b[38;5;241m1\u001b[39m\n\u001b[0;32m--> 126\u001b[0m \u001b[38;5;28;01mreturn\u001b[39;00m \u001b[43m_bootstrap\u001b[49m\u001b[38;5;241;43m.\u001b[39;49m\u001b[43m_gcd_import\u001b[49m\u001b[43m(\u001b[49m\u001b[43mname\u001b[49m\u001b[43m[\u001b[49m\u001b[43mlevel\u001b[49m\u001b[43m:\u001b[49m\u001b[43m]\u001b[49m\u001b[43m,\u001b[49m\u001b[43m \u001b[49m\u001b[43mpackage\u001b[49m\u001b[43m,\u001b[49m\u001b[43m \u001b[49m\u001b[43mlevel\u001b[49m\u001b[43m)\u001b[49m\n",
      "File \u001b[0;32m<frozen importlib._bootstrap>:1204\u001b[0m, in \u001b[0;36m_gcd_import\u001b[0;34m(name, package, level)\u001b[0m\n",
      "File \u001b[0;32m<frozen importlib._bootstrap>:1176\u001b[0m, in \u001b[0;36m_find_and_load\u001b[0;34m(name, import_)\u001b[0m\n",
      "File \u001b[0;32m<frozen importlib._bootstrap>:1147\u001b[0m, in \u001b[0;36m_find_and_load_unlocked\u001b[0;34m(name, import_)\u001b[0m\n",
      "File \u001b[0;32m<frozen importlib._bootstrap>:690\u001b[0m, in \u001b[0;36m_load_unlocked\u001b[0;34m(spec)\u001b[0m\n",
      "File \u001b[0;32m<frozen importlib._bootstrap_external>:940\u001b[0m, in \u001b[0;36mexec_module\u001b[0;34m(self, module)\u001b[0m\n",
      "File \u001b[0;32m<frozen importlib._bootstrap>:241\u001b[0m, in \u001b[0;36m_call_with_frames_removed\u001b[0;34m(f, *args, **kwds)\u001b[0m\n",
      "File \u001b[0;32m~/Documents/miniconda3/envs/ted/lib/python3.11/site-packages/matplotlib/backends/backend_qtagg.py:9\u001b[0m\n\u001b[1;32m      5\u001b[0m \u001b[38;5;28;01mimport\u001b[39;00m\u001b[38;5;250m \u001b[39m\u001b[38;5;21;01mctypes\u001b[39;00m\n\u001b[1;32m      7\u001b[0m \u001b[38;5;28;01mfrom\u001b[39;00m\u001b[38;5;250m \u001b[39m\u001b[38;5;21;01mmatplotlib\u001b[39;00m\u001b[38;5;21;01m.\u001b[39;00m\u001b[38;5;21;01mtransforms\u001b[39;00m\u001b[38;5;250m \u001b[39m\u001b[38;5;28;01mimport\u001b[39;00m Bbox\n\u001b[0;32m----> 9\u001b[0m \u001b[38;5;28;01mfrom\u001b[39;00m\u001b[38;5;250m \u001b[39m\u001b[38;5;21;01m.\u001b[39;00m\u001b[38;5;21;01mqt_compat\u001b[39;00m\u001b[38;5;250m \u001b[39m\u001b[38;5;28;01mimport\u001b[39;00m QT_API, QtCore, QtGui\n\u001b[1;32m     10\u001b[0m \u001b[38;5;28;01mfrom\u001b[39;00m\u001b[38;5;250m \u001b[39m\u001b[38;5;21;01m.\u001b[39;00m\u001b[38;5;21;01mbackend_agg\u001b[39;00m\u001b[38;5;250m \u001b[39m\u001b[38;5;28;01mimport\u001b[39;00m FigureCanvasAgg\n\u001b[1;32m     11\u001b[0m \u001b[38;5;28;01mfrom\u001b[39;00m\u001b[38;5;250m \u001b[39m\u001b[38;5;21;01m.\u001b[39;00m\u001b[38;5;21;01mbackend_qt\u001b[39;00m\u001b[38;5;250m \u001b[39m\u001b[38;5;28;01mimport\u001b[39;00m _BackendQT, FigureCanvasQT\n",
      "File \u001b[0;32m~/Documents/miniconda3/envs/ted/lib/python3.11/site-packages/matplotlib/backends/qt_compat.py:130\u001b[0m\n\u001b[1;32m    128\u001b[0m         \u001b[38;5;28;01mbreak\u001b[39;00m\n\u001b[1;32m    129\u001b[0m     \u001b[38;5;28;01melse\u001b[39;00m:\n\u001b[0;32m--> 130\u001b[0m         \u001b[38;5;28;01mraise\u001b[39;00m \u001b[38;5;167;01mImportError\u001b[39;00m(\n\u001b[1;32m    131\u001b[0m             \u001b[38;5;124m\"\u001b[39m\u001b[38;5;124mFailed to import any of the following Qt binding modules: \u001b[39m\u001b[38;5;132;01m{}\u001b[39;00m\u001b[38;5;124m\"\u001b[39m\n\u001b[1;32m    132\u001b[0m             \u001b[38;5;241m.\u001b[39mformat(\u001b[38;5;124m\"\u001b[39m\u001b[38;5;124m, \u001b[39m\u001b[38;5;124m\"\u001b[39m\u001b[38;5;241m.\u001b[39mjoin([QT_API \u001b[38;5;28;01mfor\u001b[39;00m _, QT_API \u001b[38;5;129;01min\u001b[39;00m _candidates]))\n\u001b[1;32m    133\u001b[0m         )\n\u001b[1;32m    134\u001b[0m \u001b[38;5;28;01melse\u001b[39;00m:  \u001b[38;5;66;03m# We should not get there.\u001b[39;00m\n\u001b[1;32m    135\u001b[0m     \u001b[38;5;28;01mraise\u001b[39;00m \u001b[38;5;167;01mAssertionError\u001b[39;00m(\u001b[38;5;124mf\u001b[39m\u001b[38;5;124m\"\u001b[39m\u001b[38;5;124mUnexpected QT_API: \u001b[39m\u001b[38;5;132;01m{\u001b[39;00mQT_API\u001b[38;5;132;01m}\u001b[39;00m\u001b[38;5;124m\"\u001b[39m)\n",
      "\u001b[0;31mImportError\u001b[0m: Failed to import any of the following Qt binding modules: PyQt6, PySide6, PyQt5, PySide2"
     ]
    }
   ],
   "source": [
    "import test_scaling as ts\n",
    "import matplotlib.pyplot as plt\n",
    "%matplotlib tk"
   ]
  },
  {
   "cell_type": "code",
   "execution_count": 285,
   "metadata": {},
   "outputs": [],
   "source": [
    "miplot = ts.TestScalingPlotSimp(scraper = scr)\n",
    "plt.show()"
   ]
  },
  {
   "cell_type": "code",
   "execution_count": null,
   "metadata": {},
   "outputs": [],
   "source": []
  },
  {
   "cell_type": "code",
   "execution_count": 272,
   "metadata": {},
   "outputs": [
    {
     "data": {
      "application/vnd.plotly.v1+json": {
       "config": {
        "plotlyServerURL": "https://plot.ly"
       },
       "data": [
        {
         "hovertemplate": "variable=personal income<br>index=%{x}<br>value=%{y}<extra></extra>",
         "legendgroup": "personal income",
         "line": {
          "color": "#636efa",
          "dash": "solid"
         },
         "marker": {
          "symbol": "circle"
         },
         "mode": "lines",
         "name": "personal income",
         "orientation": "v",
         "showlegend": true,
         "type": "scatter",
         "x": [
          "1959-02-01T00:00:00.000000000",
          "1959-03-01T00:00:00.000000000",
          "1959-04-01T00:00:00.000000000",
          "1959-05-01T00:00:00.000000000",
          "1959-06-01T00:00:00.000000000",
          "1959-07-01T00:00:00.000000000",
          "1959-08-01T00:00:00.000000000",
          "1959-09-01T00:00:00.000000000",
          "1959-10-01T00:00:00.000000000",
          "1959-11-01T00:00:00.000000000",
          "1959-12-01T00:00:00.000000000",
          "1960-01-01T00:00:00.000000000",
          "1960-02-01T00:00:00.000000000",
          "1960-03-01T00:00:00.000000000",
          "1960-04-01T00:00:00.000000000",
          "1960-05-01T00:00:00.000000000",
          "1960-06-01T00:00:00.000000000",
          "1960-07-01T00:00:00.000000000",
          "1960-08-01T00:00:00.000000000",
          "1960-09-01T00:00:00.000000000",
          "1960-10-01T00:00:00.000000000",
          "1960-11-01T00:00:00.000000000",
          "1960-12-01T00:00:00.000000000",
          "1961-01-01T00:00:00.000000000",
          "1961-02-01T00:00:00.000000000",
          "1961-03-01T00:00:00.000000000",
          "1961-04-01T00:00:00.000000000",
          "1961-05-01T00:00:00.000000000",
          "1961-06-01T00:00:00.000000000",
          "1961-07-01T00:00:00.000000000",
          "1961-08-01T00:00:00.000000000",
          "1961-09-01T00:00:00.000000000",
          "1961-10-01T00:00:00.000000000",
          "1961-11-01T00:00:00.000000000",
          "1961-12-01T00:00:00.000000000",
          "1962-01-01T00:00:00.000000000",
          "1962-02-01T00:00:00.000000000",
          "1962-03-01T00:00:00.000000000",
          "1962-04-01T00:00:00.000000000",
          "1962-05-01T00:00:00.000000000",
          "1962-06-01T00:00:00.000000000",
          "1962-07-01T00:00:00.000000000",
          "1962-08-01T00:00:00.000000000",
          "1962-09-01T00:00:00.000000000",
          "1962-10-01T00:00:00.000000000",
          "1962-11-01T00:00:00.000000000",
          "1962-12-01T00:00:00.000000000",
          "1963-01-01T00:00:00.000000000",
          "1963-02-01T00:00:00.000000000",
          "1963-03-01T00:00:00.000000000",
          "1963-04-01T00:00:00.000000000",
          "1963-05-01T00:00:00.000000000",
          "1963-06-01T00:00:00.000000000",
          "1963-07-01T00:00:00.000000000",
          "1963-08-01T00:00:00.000000000",
          "1963-09-01T00:00:00.000000000",
          "1963-10-01T00:00:00.000000000",
          "1963-11-01T00:00:00.000000000",
          "1963-12-01T00:00:00.000000000",
          "1964-01-01T00:00:00.000000000",
          "1964-02-01T00:00:00.000000000",
          "1964-03-01T00:00:00.000000000",
          "1964-04-01T00:00:00.000000000",
          "1964-05-01T00:00:00.000000000",
          "1964-06-01T00:00:00.000000000",
          "1964-07-01T00:00:00.000000000",
          "1964-08-01T00:00:00.000000000",
          "1964-09-01T00:00:00.000000000",
          "1964-10-01T00:00:00.000000000",
          "1964-11-01T00:00:00.000000000",
          "1964-12-01T00:00:00.000000000",
          "1965-01-01T00:00:00.000000000",
          "1965-02-01T00:00:00.000000000",
          "1965-03-01T00:00:00.000000000",
          "1965-04-01T00:00:00.000000000",
          "1965-05-01T00:00:00.000000000",
          "1965-06-01T00:00:00.000000000",
          "1965-07-01T00:00:00.000000000",
          "1965-08-01T00:00:00.000000000",
          "1965-09-01T00:00:00.000000000",
          "1965-10-01T00:00:00.000000000",
          "1965-11-01T00:00:00.000000000",
          "1965-12-01T00:00:00.000000000",
          "1966-01-01T00:00:00.000000000",
          "1966-02-01T00:00:00.000000000",
          "1966-03-01T00:00:00.000000000",
          "1966-04-01T00:00:00.000000000",
          "1966-05-01T00:00:00.000000000",
          "1966-06-01T00:00:00.000000000",
          "1966-07-01T00:00:00.000000000",
          "1966-08-01T00:00:00.000000000",
          "1966-09-01T00:00:00.000000000",
          "1966-10-01T00:00:00.000000000",
          "1966-11-01T00:00:00.000000000",
          "1966-12-01T00:00:00.000000000",
          "1967-01-01T00:00:00.000000000",
          "1967-02-01T00:00:00.000000000",
          "1967-03-01T00:00:00.000000000",
          "1967-04-01T00:00:00.000000000",
          "1967-05-01T00:00:00.000000000",
          "1967-06-01T00:00:00.000000000",
          "1967-07-01T00:00:00.000000000",
          "1967-08-01T00:00:00.000000000",
          "1967-09-01T00:00:00.000000000",
          "1967-10-01T00:00:00.000000000",
          "1967-11-01T00:00:00.000000000",
          "1967-12-01T00:00:00.000000000",
          "1968-01-01T00:00:00.000000000",
          "1968-02-01T00:00:00.000000000",
          "1968-03-01T00:00:00.000000000",
          "1968-04-01T00:00:00.000000000",
          "1968-05-01T00:00:00.000000000",
          "1968-06-01T00:00:00.000000000",
          "1968-07-01T00:00:00.000000000",
          "1968-08-01T00:00:00.000000000",
          "1968-09-01T00:00:00.000000000",
          "1968-10-01T00:00:00.000000000",
          "1968-11-01T00:00:00.000000000",
          "1968-12-01T00:00:00.000000000",
          "1969-01-01T00:00:00.000000000",
          "1969-02-01T00:00:00.000000000",
          "1969-03-01T00:00:00.000000000",
          "1969-04-01T00:00:00.000000000",
          "1969-05-01T00:00:00.000000000",
          "1969-06-01T00:00:00.000000000",
          "1969-07-01T00:00:00.000000000",
          "1969-08-01T00:00:00.000000000",
          "1969-09-01T00:00:00.000000000",
          "1969-10-01T00:00:00.000000000",
          "1969-11-01T00:00:00.000000000",
          "1969-12-01T00:00:00.000000000",
          "1970-01-01T00:00:00.000000000",
          "1970-02-01T00:00:00.000000000",
          "1970-03-01T00:00:00.000000000",
          "1970-04-01T00:00:00.000000000",
          "1970-05-01T00:00:00.000000000",
          "1970-06-01T00:00:00.000000000",
          "1970-07-01T00:00:00.000000000",
          "1970-08-01T00:00:00.000000000",
          "1970-09-01T00:00:00.000000000",
          "1970-10-01T00:00:00.000000000",
          "1970-11-01T00:00:00.000000000",
          "1970-12-01T00:00:00.000000000",
          "1971-01-01T00:00:00.000000000",
          "1971-02-01T00:00:00.000000000",
          "1971-03-01T00:00:00.000000000",
          "1971-04-01T00:00:00.000000000",
          "1971-05-01T00:00:00.000000000",
          "1971-06-01T00:00:00.000000000",
          "1971-07-01T00:00:00.000000000",
          "1971-08-01T00:00:00.000000000",
          "1971-09-01T00:00:00.000000000",
          "1971-10-01T00:00:00.000000000",
          "1971-11-01T00:00:00.000000000",
          "1971-12-01T00:00:00.000000000",
          "1972-01-01T00:00:00.000000000",
          "1972-02-01T00:00:00.000000000",
          "1972-03-01T00:00:00.000000000",
          "1972-04-01T00:00:00.000000000",
          "1972-05-01T00:00:00.000000000",
          "1972-06-01T00:00:00.000000000",
          "1972-07-01T00:00:00.000000000",
          "1972-08-01T00:00:00.000000000",
          "1972-09-01T00:00:00.000000000",
          "1972-10-01T00:00:00.000000000",
          "1972-11-01T00:00:00.000000000",
          "1972-12-01T00:00:00.000000000",
          "1973-01-01T00:00:00.000000000",
          "1973-02-01T00:00:00.000000000",
          "1973-03-01T00:00:00.000000000",
          "1973-04-01T00:00:00.000000000",
          "1973-05-01T00:00:00.000000000",
          "1973-06-01T00:00:00.000000000",
          "1973-07-01T00:00:00.000000000",
          "1973-08-01T00:00:00.000000000",
          "1973-09-01T00:00:00.000000000",
          "1973-10-01T00:00:00.000000000",
          "1973-11-01T00:00:00.000000000",
          "1973-12-01T00:00:00.000000000",
          "1974-01-01T00:00:00.000000000",
          "1974-02-01T00:00:00.000000000",
          "1974-03-01T00:00:00.000000000",
          "1974-04-01T00:00:00.000000000",
          "1974-05-01T00:00:00.000000000",
          "1974-06-01T00:00:00.000000000",
          "1974-07-01T00:00:00.000000000",
          "1974-08-01T00:00:00.000000000",
          "1974-09-01T00:00:00.000000000",
          "1974-10-01T00:00:00.000000000",
          "1974-11-01T00:00:00.000000000",
          "1974-12-01T00:00:00.000000000",
          "1975-01-01T00:00:00.000000000",
          "1975-02-01T00:00:00.000000000",
          "1975-03-01T00:00:00.000000000",
          "1975-04-01T00:00:00.000000000",
          "1975-05-01T00:00:00.000000000",
          "1975-06-01T00:00:00.000000000",
          "1975-07-01T00:00:00.000000000",
          "1975-08-01T00:00:00.000000000",
          "1975-09-01T00:00:00.000000000",
          "1975-10-01T00:00:00.000000000",
          "1975-11-01T00:00:00.000000000",
          "1975-12-01T00:00:00.000000000",
          "1976-01-01T00:00:00.000000000",
          "1976-02-01T00:00:00.000000000",
          "1976-03-01T00:00:00.000000000",
          "1976-04-01T00:00:00.000000000",
          "1976-05-01T00:00:00.000000000",
          "1976-06-01T00:00:00.000000000",
          "1976-07-01T00:00:00.000000000",
          "1976-08-01T00:00:00.000000000",
          "1976-09-01T00:00:00.000000000",
          "1976-10-01T00:00:00.000000000",
          "1976-11-01T00:00:00.000000000",
          "1976-12-01T00:00:00.000000000",
          "1977-01-01T00:00:00.000000000",
          "1977-02-01T00:00:00.000000000",
          "1977-03-01T00:00:00.000000000",
          "1977-04-01T00:00:00.000000000",
          "1977-05-01T00:00:00.000000000",
          "1977-06-01T00:00:00.000000000",
          "1977-07-01T00:00:00.000000000",
          "1977-08-01T00:00:00.000000000",
          "1977-09-01T00:00:00.000000000",
          "1977-10-01T00:00:00.000000000",
          "1977-11-01T00:00:00.000000000",
          "1977-12-01T00:00:00.000000000",
          "1978-01-01T00:00:00.000000000",
          "1978-02-01T00:00:00.000000000",
          "1978-03-01T00:00:00.000000000",
          "1978-04-01T00:00:00.000000000",
          "1978-05-01T00:00:00.000000000",
          "1978-06-01T00:00:00.000000000",
          "1978-07-01T00:00:00.000000000",
          "1978-08-01T00:00:00.000000000",
          "1978-09-01T00:00:00.000000000",
          "1978-10-01T00:00:00.000000000",
          "1978-11-01T00:00:00.000000000",
          "1978-12-01T00:00:00.000000000",
          "1979-01-01T00:00:00.000000000",
          "1979-02-01T00:00:00.000000000",
          "1979-03-01T00:00:00.000000000",
          "1979-04-01T00:00:00.000000000",
          "1979-05-01T00:00:00.000000000",
          "1979-06-01T00:00:00.000000000",
          "1979-07-01T00:00:00.000000000",
          "1979-08-01T00:00:00.000000000",
          "1979-09-01T00:00:00.000000000",
          "1979-10-01T00:00:00.000000000",
          "1979-11-01T00:00:00.000000000",
          "1979-12-01T00:00:00.000000000",
          "1980-01-01T00:00:00.000000000",
          "1980-02-01T00:00:00.000000000",
          "1980-03-01T00:00:00.000000000",
          "1980-04-01T00:00:00.000000000",
          "1980-05-01T00:00:00.000000000",
          "1980-06-01T00:00:00.000000000",
          "1980-07-01T00:00:00.000000000",
          "1980-08-01T00:00:00.000000000",
          "1980-09-01T00:00:00.000000000",
          "1980-10-01T00:00:00.000000000",
          "1980-11-01T00:00:00.000000000",
          "1980-12-01T00:00:00.000000000",
          "1981-01-01T00:00:00.000000000",
          "1981-02-01T00:00:00.000000000",
          "1981-03-01T00:00:00.000000000",
          "1981-04-01T00:00:00.000000000",
          "1981-05-01T00:00:00.000000000",
          "1981-06-01T00:00:00.000000000",
          "1981-07-01T00:00:00.000000000",
          "1981-08-01T00:00:00.000000000",
          "1981-09-01T00:00:00.000000000",
          "1981-10-01T00:00:00.000000000",
          "1981-11-01T00:00:00.000000000",
          "1981-12-01T00:00:00.000000000",
          "1982-01-01T00:00:00.000000000",
          "1982-02-01T00:00:00.000000000",
          "1982-03-01T00:00:00.000000000",
          "1982-04-01T00:00:00.000000000",
          "1982-05-01T00:00:00.000000000",
          "1982-06-01T00:00:00.000000000",
          "1982-07-01T00:00:00.000000000",
          "1982-08-01T00:00:00.000000000",
          "1982-09-01T00:00:00.000000000",
          "1982-10-01T00:00:00.000000000",
          "1982-11-01T00:00:00.000000000",
          "1982-12-01T00:00:00.000000000",
          "1983-01-01T00:00:00.000000000",
          "1983-02-01T00:00:00.000000000",
          "1983-03-01T00:00:00.000000000",
          "1983-04-01T00:00:00.000000000",
          "1983-05-01T00:00:00.000000000",
          "1983-06-01T00:00:00.000000000",
          "1983-07-01T00:00:00.000000000",
          "1983-08-01T00:00:00.000000000",
          "1983-09-01T00:00:00.000000000",
          "1983-10-01T00:00:00.000000000",
          "1983-11-01T00:00:00.000000000",
          "1983-12-01T00:00:00.000000000",
          "1984-01-01T00:00:00.000000000",
          "1984-02-01T00:00:00.000000000",
          "1984-03-01T00:00:00.000000000",
          "1984-04-01T00:00:00.000000000",
          "1984-05-01T00:00:00.000000000",
          "1984-06-01T00:00:00.000000000",
          "1984-07-01T00:00:00.000000000",
          "1984-08-01T00:00:00.000000000",
          "1984-09-01T00:00:00.000000000",
          "1984-10-01T00:00:00.000000000",
          "1984-11-01T00:00:00.000000000",
          "1984-12-01T00:00:00.000000000",
          "1985-01-01T00:00:00.000000000",
          "1985-02-01T00:00:00.000000000",
          "1985-03-01T00:00:00.000000000",
          "1985-04-01T00:00:00.000000000",
          "1985-05-01T00:00:00.000000000",
          "1985-06-01T00:00:00.000000000",
          "1985-07-01T00:00:00.000000000",
          "1985-08-01T00:00:00.000000000",
          "1985-09-01T00:00:00.000000000",
          "1985-10-01T00:00:00.000000000",
          "1985-11-01T00:00:00.000000000",
          "1985-12-01T00:00:00.000000000",
          "1986-01-01T00:00:00.000000000",
          "1986-02-01T00:00:00.000000000",
          "1986-03-01T00:00:00.000000000",
          "1986-04-01T00:00:00.000000000",
          "1986-05-01T00:00:00.000000000",
          "1986-06-01T00:00:00.000000000",
          "1986-07-01T00:00:00.000000000",
          "1986-08-01T00:00:00.000000000",
          "1986-09-01T00:00:00.000000000",
          "1986-10-01T00:00:00.000000000",
          "1986-11-01T00:00:00.000000000",
          "1986-12-01T00:00:00.000000000",
          "1987-01-01T00:00:00.000000000",
          "1987-02-01T00:00:00.000000000",
          "1987-03-01T00:00:00.000000000",
          "1987-04-01T00:00:00.000000000",
          "1987-05-01T00:00:00.000000000",
          "1987-06-01T00:00:00.000000000",
          "1987-07-01T00:00:00.000000000",
          "1987-08-01T00:00:00.000000000",
          "1987-09-01T00:00:00.000000000",
          "1987-10-01T00:00:00.000000000",
          "1987-11-01T00:00:00.000000000",
          "1987-12-01T00:00:00.000000000",
          "1988-01-01T00:00:00.000000000",
          "1988-02-01T00:00:00.000000000",
          "1988-03-01T00:00:00.000000000",
          "1988-04-01T00:00:00.000000000",
          "1988-05-01T00:00:00.000000000",
          "1988-06-01T00:00:00.000000000",
          "1988-07-01T00:00:00.000000000",
          "1988-08-01T00:00:00.000000000",
          "1988-09-01T00:00:00.000000000",
          "1988-10-01T00:00:00.000000000",
          "1988-11-01T00:00:00.000000000",
          "1988-12-01T00:00:00.000000000",
          "1989-01-01T00:00:00.000000000",
          "1989-02-01T00:00:00.000000000",
          "1989-03-01T00:00:00.000000000",
          "1989-04-01T00:00:00.000000000",
          "1989-05-01T00:00:00.000000000",
          "1989-06-01T00:00:00.000000000",
          "1989-07-01T00:00:00.000000000",
          "1989-08-01T00:00:00.000000000",
          "1989-09-01T00:00:00.000000000",
          "1989-10-01T00:00:00.000000000",
          "1989-11-01T00:00:00.000000000",
          "1989-12-01T00:00:00.000000000",
          "1990-01-01T00:00:00.000000000",
          "1990-02-01T00:00:00.000000000",
          "1990-03-01T00:00:00.000000000",
          "1990-04-01T00:00:00.000000000",
          "1990-05-01T00:00:00.000000000",
          "1990-06-01T00:00:00.000000000",
          "1990-07-01T00:00:00.000000000",
          "1990-08-01T00:00:00.000000000",
          "1990-09-01T00:00:00.000000000",
          "1990-10-01T00:00:00.000000000",
          "1990-11-01T00:00:00.000000000",
          "1990-12-01T00:00:00.000000000",
          "1991-01-01T00:00:00.000000000",
          "1991-02-01T00:00:00.000000000",
          "1991-03-01T00:00:00.000000000",
          "1991-04-01T00:00:00.000000000",
          "1991-05-01T00:00:00.000000000",
          "1991-06-01T00:00:00.000000000",
          "1991-07-01T00:00:00.000000000",
          "1991-08-01T00:00:00.000000000",
          "1991-09-01T00:00:00.000000000",
          "1991-10-01T00:00:00.000000000",
          "1991-11-01T00:00:00.000000000",
          "1991-12-01T00:00:00.000000000",
          "1992-01-01T00:00:00.000000000",
          "1992-02-01T00:00:00.000000000",
          "1992-03-01T00:00:00.000000000",
          "1992-04-01T00:00:00.000000000",
          "1992-05-01T00:00:00.000000000",
          "1992-06-01T00:00:00.000000000",
          "1992-07-01T00:00:00.000000000",
          "1992-08-01T00:00:00.000000000",
          "1992-09-01T00:00:00.000000000",
          "1992-10-01T00:00:00.000000000",
          "1992-11-01T00:00:00.000000000",
          "1992-12-01T00:00:00.000000000",
          "1993-01-01T00:00:00.000000000",
          "1993-02-01T00:00:00.000000000",
          "1993-03-01T00:00:00.000000000",
          "1993-04-01T00:00:00.000000000",
          "1993-05-01T00:00:00.000000000",
          "1993-06-01T00:00:00.000000000",
          "1993-07-01T00:00:00.000000000",
          "1993-08-01T00:00:00.000000000",
          "1993-09-01T00:00:00.000000000",
          "1993-10-01T00:00:00.000000000",
          "1993-11-01T00:00:00.000000000",
          "1993-12-01T00:00:00.000000000",
          "1994-01-01T00:00:00.000000000",
          "1994-02-01T00:00:00.000000000",
          "1994-03-01T00:00:00.000000000",
          "1994-04-01T00:00:00.000000000",
          "1994-05-01T00:00:00.000000000",
          "1994-06-01T00:00:00.000000000",
          "1994-07-01T00:00:00.000000000",
          "1994-08-01T00:00:00.000000000",
          "1994-09-01T00:00:00.000000000",
          "1994-10-01T00:00:00.000000000",
          "1994-11-01T00:00:00.000000000",
          "1994-12-01T00:00:00.000000000",
          "1995-01-01T00:00:00.000000000",
          "1995-02-01T00:00:00.000000000",
          "1995-03-01T00:00:00.000000000",
          "1995-04-01T00:00:00.000000000",
          "1995-05-01T00:00:00.000000000",
          "1995-06-01T00:00:00.000000000",
          "1995-07-01T00:00:00.000000000",
          "1995-08-01T00:00:00.000000000",
          "1995-09-01T00:00:00.000000000",
          "1995-10-01T00:00:00.000000000",
          "1995-11-01T00:00:00.000000000",
          "1995-12-01T00:00:00.000000000",
          "1996-01-01T00:00:00.000000000",
          "1996-02-01T00:00:00.000000000",
          "1996-03-01T00:00:00.000000000",
          "1996-04-01T00:00:00.000000000",
          "1996-05-01T00:00:00.000000000",
          "1996-06-01T00:00:00.000000000",
          "1996-07-01T00:00:00.000000000",
          "1996-08-01T00:00:00.000000000",
          "1996-09-01T00:00:00.000000000",
          "1996-10-01T00:00:00.000000000",
          "1996-11-01T00:00:00.000000000",
          "1996-12-01T00:00:00.000000000",
          "1997-01-01T00:00:00.000000000",
          "1997-02-01T00:00:00.000000000",
          "1997-03-01T00:00:00.000000000",
          "1997-04-01T00:00:00.000000000",
          "1997-05-01T00:00:00.000000000",
          "1997-06-01T00:00:00.000000000",
          "1997-07-01T00:00:00.000000000",
          "1997-08-01T00:00:00.000000000",
          "1997-09-01T00:00:00.000000000",
          "1997-10-01T00:00:00.000000000",
          "1997-11-01T00:00:00.000000000",
          "1997-12-01T00:00:00.000000000",
          "1998-01-01T00:00:00.000000000",
          "1998-02-01T00:00:00.000000000",
          "1998-03-01T00:00:00.000000000",
          "1998-04-01T00:00:00.000000000",
          "1998-05-01T00:00:00.000000000",
          "1998-06-01T00:00:00.000000000",
          "1998-07-01T00:00:00.000000000",
          "1998-08-01T00:00:00.000000000",
          "1998-09-01T00:00:00.000000000",
          "1998-10-01T00:00:00.000000000",
          "1998-11-01T00:00:00.000000000",
          "1998-12-01T00:00:00.000000000",
          "1999-01-01T00:00:00.000000000",
          "1999-02-01T00:00:00.000000000",
          "1999-03-01T00:00:00.000000000",
          "1999-04-01T00:00:00.000000000",
          "1999-05-01T00:00:00.000000000",
          "1999-06-01T00:00:00.000000000",
          "1999-07-01T00:00:00.000000000",
          "1999-08-01T00:00:00.000000000",
          "1999-09-01T00:00:00.000000000",
          "1999-10-01T00:00:00.000000000",
          "1999-11-01T00:00:00.000000000",
          "1999-12-01T00:00:00.000000000",
          "2000-01-01T00:00:00.000000000",
          "2000-02-01T00:00:00.000000000",
          "2000-03-01T00:00:00.000000000",
          "2000-04-01T00:00:00.000000000",
          "2000-05-01T00:00:00.000000000",
          "2000-06-01T00:00:00.000000000",
          "2000-07-01T00:00:00.000000000",
          "2000-08-01T00:00:00.000000000",
          "2000-09-01T00:00:00.000000000",
          "2000-10-01T00:00:00.000000000",
          "2000-11-01T00:00:00.000000000",
          "2000-12-01T00:00:00.000000000",
          "2001-01-01T00:00:00.000000000",
          "2001-02-01T00:00:00.000000000",
          "2001-03-01T00:00:00.000000000",
          "2001-04-01T00:00:00.000000000",
          "2001-05-01T00:00:00.000000000",
          "2001-06-01T00:00:00.000000000",
          "2001-07-01T00:00:00.000000000",
          "2001-08-01T00:00:00.000000000",
          "2001-09-01T00:00:00.000000000",
          "2001-10-01T00:00:00.000000000",
          "2001-11-01T00:00:00.000000000",
          "2001-12-01T00:00:00.000000000",
          "2002-01-01T00:00:00.000000000",
          "2002-02-01T00:00:00.000000000",
          "2002-03-01T00:00:00.000000000",
          "2002-04-01T00:00:00.000000000",
          "2002-05-01T00:00:00.000000000",
          "2002-06-01T00:00:00.000000000",
          "2002-07-01T00:00:00.000000000",
          "2002-08-01T00:00:00.000000000",
          "2002-09-01T00:00:00.000000000",
          "2002-10-01T00:00:00.000000000",
          "2002-11-01T00:00:00.000000000",
          "2002-12-01T00:00:00.000000000",
          "2003-01-01T00:00:00.000000000",
          "2003-02-01T00:00:00.000000000",
          "2003-03-01T00:00:00.000000000",
          "2003-04-01T00:00:00.000000000",
          "2003-05-01T00:00:00.000000000",
          "2003-06-01T00:00:00.000000000",
          "2003-07-01T00:00:00.000000000",
          "2003-08-01T00:00:00.000000000",
          "2003-09-01T00:00:00.000000000",
          "2003-10-01T00:00:00.000000000",
          "2003-11-01T00:00:00.000000000",
          "2003-12-01T00:00:00.000000000",
          "2004-01-01T00:00:00.000000000",
          "2004-02-01T00:00:00.000000000",
          "2004-03-01T00:00:00.000000000",
          "2004-04-01T00:00:00.000000000",
          "2004-05-01T00:00:00.000000000",
          "2004-06-01T00:00:00.000000000",
          "2004-07-01T00:00:00.000000000",
          "2004-08-01T00:00:00.000000000",
          "2004-09-01T00:00:00.000000000",
          "2004-10-01T00:00:00.000000000",
          "2004-11-01T00:00:00.000000000",
          "2004-12-01T00:00:00.000000000",
          "2005-01-01T00:00:00.000000000",
          "2005-02-01T00:00:00.000000000",
          "2005-03-01T00:00:00.000000000",
          "2005-04-01T00:00:00.000000000",
          "2005-05-01T00:00:00.000000000",
          "2005-06-01T00:00:00.000000000",
          "2005-07-01T00:00:00.000000000",
          "2005-08-01T00:00:00.000000000",
          "2005-09-01T00:00:00.000000000",
          "2005-10-01T00:00:00.000000000",
          "2005-11-01T00:00:00.000000000",
          "2005-12-01T00:00:00.000000000",
          "2006-01-01T00:00:00.000000000",
          "2006-02-01T00:00:00.000000000",
          "2006-03-01T00:00:00.000000000",
          "2006-04-01T00:00:00.000000000",
          "2006-05-01T00:00:00.000000000",
          "2006-06-01T00:00:00.000000000",
          "2006-07-01T00:00:00.000000000",
          "2006-08-01T00:00:00.000000000",
          "2006-09-01T00:00:00.000000000",
          "2006-10-01T00:00:00.000000000",
          "2006-11-01T00:00:00.000000000",
          "2006-12-01T00:00:00.000000000",
          "2007-01-01T00:00:00.000000000",
          "2007-02-01T00:00:00.000000000",
          "2007-03-01T00:00:00.000000000",
          "2007-04-01T00:00:00.000000000",
          "2007-05-01T00:00:00.000000000",
          "2007-06-01T00:00:00.000000000",
          "2007-07-01T00:00:00.000000000",
          "2007-08-01T00:00:00.000000000",
          "2007-09-01T00:00:00.000000000",
          "2007-10-01T00:00:00.000000000",
          "2007-11-01T00:00:00.000000000",
          "2007-12-01T00:00:00.000000000",
          "2008-01-01T00:00:00.000000000",
          "2008-02-01T00:00:00.000000000",
          "2008-03-01T00:00:00.000000000",
          "2008-04-01T00:00:00.000000000",
          "2008-05-01T00:00:00.000000000",
          "2008-06-01T00:00:00.000000000",
          "2008-07-01T00:00:00.000000000",
          "2008-08-01T00:00:00.000000000",
          "2008-09-01T00:00:00.000000000",
          "2008-10-01T00:00:00.000000000",
          "2008-11-01T00:00:00.000000000",
          "2008-12-01T00:00:00.000000000",
          "2009-01-01T00:00:00.000000000",
          "2009-02-01T00:00:00.000000000",
          "2009-03-01T00:00:00.000000000",
          "2009-04-01T00:00:00.000000000",
          "2009-05-01T00:00:00.000000000",
          "2009-06-01T00:00:00.000000000",
          "2009-07-01T00:00:00.000000000",
          "2009-08-01T00:00:00.000000000",
          "2009-09-01T00:00:00.000000000",
          "2009-10-01T00:00:00.000000000",
          "2009-11-01T00:00:00.000000000",
          "2009-12-01T00:00:00.000000000",
          "2010-01-01T00:00:00.000000000",
          "2010-02-01T00:00:00.000000000",
          "2010-03-01T00:00:00.000000000",
          "2010-04-01T00:00:00.000000000",
          "2010-05-01T00:00:00.000000000",
          "2010-06-01T00:00:00.000000000",
          "2010-07-01T00:00:00.000000000",
          "2010-08-01T00:00:00.000000000",
          "2010-09-01T00:00:00.000000000",
          "2010-10-01T00:00:00.000000000",
          "2010-11-01T00:00:00.000000000",
          "2010-12-01T00:00:00.000000000",
          "2011-01-01T00:00:00.000000000",
          "2011-02-01T00:00:00.000000000",
          "2011-03-01T00:00:00.000000000",
          "2011-04-01T00:00:00.000000000",
          "2011-05-01T00:00:00.000000000",
          "2011-06-01T00:00:00.000000000",
          "2011-07-01T00:00:00.000000000",
          "2011-08-01T00:00:00.000000000",
          "2011-09-01T00:00:00.000000000",
          "2011-10-01T00:00:00.000000000",
          "2011-11-01T00:00:00.000000000",
          "2011-12-01T00:00:00.000000000",
          "2012-01-01T00:00:00.000000000",
          "2012-02-01T00:00:00.000000000",
          "2012-03-01T00:00:00.000000000",
          "2012-04-01T00:00:00.000000000",
          "2012-05-01T00:00:00.000000000",
          "2012-06-01T00:00:00.000000000",
          "2012-07-01T00:00:00.000000000",
          "2012-08-01T00:00:00.000000000",
          "2012-09-01T00:00:00.000000000",
          "2012-10-01T00:00:00.000000000",
          "2012-11-01T00:00:00.000000000",
          "2012-12-01T00:00:00.000000000",
          "2013-01-01T00:00:00.000000000",
          "2013-02-01T00:00:00.000000000",
          "2013-03-01T00:00:00.000000000",
          "2013-04-01T00:00:00.000000000",
          "2013-05-01T00:00:00.000000000",
          "2013-06-01T00:00:00.000000000",
          "2013-07-01T00:00:00.000000000",
          "2013-08-01T00:00:00.000000000",
          "2013-09-01T00:00:00.000000000",
          "2013-10-01T00:00:00.000000000",
          "2013-11-01T00:00:00.000000000",
          "2013-12-01T00:00:00.000000000",
          "2014-01-01T00:00:00.000000000",
          "2014-02-01T00:00:00.000000000",
          "2014-03-01T00:00:00.000000000",
          "2014-04-01T00:00:00.000000000",
          "2014-05-01T00:00:00.000000000",
          "2014-06-01T00:00:00.000000000",
          "2014-07-01T00:00:00.000000000",
          "2014-08-01T00:00:00.000000000",
          "2014-09-01T00:00:00.000000000",
          "2014-10-01T00:00:00.000000000",
          "2014-11-01T00:00:00.000000000",
          "2014-12-01T00:00:00.000000000",
          "2015-01-01T00:00:00.000000000",
          "2015-02-01T00:00:00.000000000",
          "2015-03-01T00:00:00.000000000",
          "2015-04-01T00:00:00.000000000",
          "2015-05-01T00:00:00.000000000",
          "2015-06-01T00:00:00.000000000",
          "2015-07-01T00:00:00.000000000",
          "2015-08-01T00:00:00.000000000",
          "2015-09-01T00:00:00.000000000",
          "2015-10-01T00:00:00.000000000",
          "2015-11-01T00:00:00.000000000",
          "2015-12-01T00:00:00.000000000",
          "2016-01-01T00:00:00.000000000",
          "2016-02-01T00:00:00.000000000",
          "2016-03-01T00:00:00.000000000",
          "2016-04-01T00:00:00.000000000",
          "2016-05-01T00:00:00.000000000",
          "2016-06-01T00:00:00.000000000",
          "2016-07-01T00:00:00.000000000",
          "2016-08-01T00:00:00.000000000",
          "2016-09-01T00:00:00.000000000",
          "2016-10-01T00:00:00.000000000",
          "2016-11-01T00:00:00.000000000",
          "2016-12-01T00:00:00.000000000",
          "2017-01-01T00:00:00.000000000",
          "2017-02-01T00:00:00.000000000",
          "2017-03-01T00:00:00.000000000",
          "2017-04-01T00:00:00.000000000",
          "2017-05-01T00:00:00.000000000",
          "2017-06-01T00:00:00.000000000",
          "2017-07-01T00:00:00.000000000",
          "2017-08-01T00:00:00.000000000",
          "2017-09-01T00:00:00.000000000",
          "2017-10-01T00:00:00.000000000",
          "2017-11-01T00:00:00.000000000",
          "2017-12-01T00:00:00.000000000",
          "2018-01-01T00:00:00.000000000",
          "2018-02-01T00:00:00.000000000",
          "2018-03-01T00:00:00.000000000",
          "2018-04-01T00:00:00.000000000",
          "2018-05-01T00:00:00.000000000",
          "2018-06-01T00:00:00.000000000",
          "2018-07-01T00:00:00.000000000",
          "2018-08-01T00:00:00.000000000",
          "2018-09-01T00:00:00.000000000",
          "2018-10-01T00:00:00.000000000",
          "2018-11-01T00:00:00.000000000",
          "2018-12-01T00:00:00.000000000",
          "2019-01-01T00:00:00.000000000",
          "2019-02-01T00:00:00.000000000",
          "2019-03-01T00:00:00.000000000",
          "2019-04-01T00:00:00.000000000",
          "2019-05-01T00:00:00.000000000",
          "2019-06-01T00:00:00.000000000",
          "2019-07-01T00:00:00.000000000",
          "2019-08-01T00:00:00.000000000",
          "2019-09-01T00:00:00.000000000",
          "2019-10-01T00:00:00.000000000",
          "2019-11-01T00:00:00.000000000",
          "2019-12-01T00:00:00.000000000",
          "2020-01-01T00:00:00.000000000",
          "2020-02-01T00:00:00.000000000",
          "2020-03-01T00:00:00.000000000",
          "2020-04-01T00:00:00.000000000",
          "2020-05-01T00:00:00.000000000",
          "2020-06-01T00:00:00.000000000",
          "2020-07-01T00:00:00.000000000",
          "2020-08-01T00:00:00.000000000",
          "2020-09-01T00:00:00.000000000",
          "2020-10-01T00:00:00.000000000",
          "2020-11-01T00:00:00.000000000",
          "2020-12-01T00:00:00.000000000",
          "2021-01-01T00:00:00.000000000",
          "2021-02-01T00:00:00.000000000",
          "2021-03-01T00:00:00.000000000",
          "2021-04-01T00:00:00.000000000",
          "2021-05-01T00:00:00.000000000",
          "2021-06-01T00:00:00.000000000",
          "2021-07-01T00:00:00.000000000",
          "2021-08-01T00:00:00.000000000",
          "2021-09-01T00:00:00.000000000",
          "2021-10-01T00:00:00.000000000",
          "2021-11-01T00:00:00.000000000",
          "2021-12-01T00:00:00.000000000",
          "2022-01-01T00:00:00.000000000",
          "2022-02-01T00:00:00.000000000",
          "2022-03-01T00:00:00.000000000",
          "2022-04-01T00:00:00.000000000",
          "2022-05-01T00:00:00.000000000",
          "2022-06-01T00:00:00.000000000",
          "2022-07-01T00:00:00.000000000",
          "2022-08-01T00:00:00.000000000",
          "2022-09-01T00:00:00.000000000",
          "2022-10-01T00:00:00.000000000",
          "2022-11-01T00:00:00.000000000",
          "2022-12-01T00:00:00.000000000",
          "2023-01-01T00:00:00.000000000",
          "2023-02-01T00:00:00.000000000",
          "2023-03-01T00:00:00.000000000",
          "2023-04-01T00:00:00.000000000",
          "2023-05-01T00:00:00.000000000",
          "2023-06-01T00:00:00.000000000",
          "2023-07-01T00:00:00.000000000",
          "2023-08-01T00:00:00.000000000",
          "2023-09-01T00:00:00.000000000",
          "2023-10-01T00:00:00.000000000",
          "2023-11-01T00:00:00.000000000",
          "2023-12-01T00:00:00.000000000",
          "2024-01-01T00:00:00.000000000",
          "2024-02-01T00:00:00.000000000",
          "2024-03-01T00:00:00.000000000",
          "2024-04-01T00:00:00.000000000",
          "2024-05-01T00:00:00.000000000",
          "2024-06-01T00:00:00.000000000",
          "2024-07-01T00:00:00.000000000",
          "2024-08-01T00:00:00.000000000",
          "2024-09-01T00:00:00.000000000",
          "2024-10-01T00:00:00.000000000",
          "2024-11-01T00:00:00.000000000",
          "2024-12-01T00:00:00.000000000",
          "2025-01-01T00:00:00.000000000"
         ],
         "xaxis": "x",
         "y": {
          "bdata": "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",
          "dtype": "f8"
         },
         "yaxis": "y"
        }
       ],
       "layout": {
        "annotations": [
         {
          "align": "left",
          "bgcolor": "rgba(255, 255, 255, 0.8)",
          "bordercolor": "black",
          "borderwidth": 1,
          "font": {
           "size": 10
          },
          "showarrow": false,
          "text": "Source: Trading Economics<br>Original Source: U.S. Bureau of Economic Analysis<br>Frequency: MS<br>",
          "x": 0,
          "xanchor": "left",
          "xref": "paper",
          "y": -0.2,
          "yanchor": "bottom",
          "yref": "paper"
         }
        ],
        "legend": {
         "orientation": "h",
         "title": {
          "text": ""
         },
         "tracegroupgap": 0,
         "x": 0.5,
         "xanchor": "center",
         "y": -0.2,
         "yanchor": "bottom"
        },
        "margin": {
         "t": 60
        },
        "template": {
         "data": {
          "bar": [
           {
            "error_x": {
             "color": "#2a3f5f"
            },
            "error_y": {
             "color": "#2a3f5f"
            },
            "marker": {
             "line": {
              "color": "#E5ECF6",
              "width": 0.5
             },
             "pattern": {
              "fillmode": "overlay",
              "size": 10,
              "solidity": 0.2
             }
            },
            "type": "bar"
           }
          ],
          "barpolar": [
           {
            "marker": {
             "line": {
              "color": "#E5ECF6",
              "width": 0.5
             },
             "pattern": {
              "fillmode": "overlay",
              "size": 10,
              "solidity": 0.2
             }
            },
            "type": "barpolar"
           }
          ],
          "carpet": [
           {
            "aaxis": {
             "endlinecolor": "#2a3f5f",
             "gridcolor": "white",
             "linecolor": "white",
             "minorgridcolor": "white",
             "startlinecolor": "#2a3f5f"
            },
            "baxis": {
             "endlinecolor": "#2a3f5f",
             "gridcolor": "white",
             "linecolor": "white",
             "minorgridcolor": "white",
             "startlinecolor": "#2a3f5f"
            },
            "type": "carpet"
           }
          ],
          "choropleth": [
           {
            "colorbar": {
             "outlinewidth": 0,
             "ticks": ""
            },
            "type": "choropleth"
           }
          ],
          "contour": [
           {
            "colorbar": {
             "outlinewidth": 0,
             "ticks": ""
            },
            "colorscale": [
             [
              0,
              "#0d0887"
             ],
             [
              0.1111111111111111,
              "#46039f"
             ],
             [
              0.2222222222222222,
              "#7201a8"
             ],
             [
              0.3333333333333333,
              "#9c179e"
             ],
             [
              0.4444444444444444,
              "#bd3786"
             ],
             [
              0.5555555555555556,
              "#d8576b"
             ],
             [
              0.6666666666666666,
              "#ed7953"
             ],
             [
              0.7777777777777778,
              "#fb9f3a"
             ],
             [
              0.8888888888888888,
              "#fdca26"
             ],
             [
              1,
              "#f0f921"
             ]
            ],
            "type": "contour"
           }
          ],
          "contourcarpet": [
           {
            "colorbar": {
             "outlinewidth": 0,
             "ticks": ""
            },
            "type": "contourcarpet"
           }
          ],
          "heatmap": [
           {
            "colorbar": {
             "outlinewidth": 0,
             "ticks": ""
            },
            "colorscale": [
             [
              0,
              "#0d0887"
             ],
             [
              0.1111111111111111,
              "#46039f"
             ],
             [
              0.2222222222222222,
              "#7201a8"
             ],
             [
              0.3333333333333333,
              "#9c179e"
             ],
             [
              0.4444444444444444,
              "#bd3786"
             ],
             [
              0.5555555555555556,
              "#d8576b"
             ],
             [
              0.6666666666666666,
              "#ed7953"
             ],
             [
              0.7777777777777778,
              "#fb9f3a"
             ],
             [
              0.8888888888888888,
              "#fdca26"
             ],
             [
              1,
              "#f0f921"
             ]
            ],
            "type": "heatmap"
           }
          ],
          "histogram": [
           {
            "marker": {
             "pattern": {
              "fillmode": "overlay",
              "size": 10,
              "solidity": 0.2
             }
            },
            "type": "histogram"
           }
          ],
          "histogram2d": [
           {
            "colorbar": {
             "outlinewidth": 0,
             "ticks": ""
            },
            "colorscale": [
             [
              0,
              "#0d0887"
             ],
             [
              0.1111111111111111,
              "#46039f"
             ],
             [
              0.2222222222222222,
              "#7201a8"
             ],
             [
              0.3333333333333333,
              "#9c179e"
             ],
             [
              0.4444444444444444,
              "#bd3786"
             ],
             [
              0.5555555555555556,
              "#d8576b"
             ],
             [
              0.6666666666666666,
              "#ed7953"
             ],
             [
              0.7777777777777778,
              "#fb9f3a"
             ],
             [
              0.8888888888888888,
              "#fdca26"
             ],
             [
              1,
              "#f0f921"
             ]
            ],
            "type": "histogram2d"
           }
          ],
          "histogram2dcontour": [
           {
            "colorbar": {
             "outlinewidth": 0,
             "ticks": ""
            },
            "colorscale": [
             [
              0,
              "#0d0887"
             ],
             [
              0.1111111111111111,
              "#46039f"
             ],
             [
              0.2222222222222222,
              "#7201a8"
             ],
             [
              0.3333333333333333,
              "#9c179e"
             ],
             [
              0.4444444444444444,
              "#bd3786"
             ],
             [
              0.5555555555555556,
              "#d8576b"
             ],
             [
              0.6666666666666666,
              "#ed7953"
             ],
             [
              0.7777777777777778,
              "#fb9f3a"
             ],
             [
              0.8888888888888888,
              "#fdca26"
             ],
             [
              1,
              "#f0f921"
             ]
            ],
            "type": "histogram2dcontour"
           }
          ],
          "mesh3d": [
           {
            "colorbar": {
             "outlinewidth": 0,
             "ticks": ""
            },
            "type": "mesh3d"
           }
          ],
          "parcoords": [
           {
            "line": {
             "colorbar": {
              "outlinewidth": 0,
              "ticks": ""
             }
            },
            "type": "parcoords"
           }
          ],
          "pie": [
           {
            "automargin": true,
            "type": "pie"
           }
          ],
          "scatter": [
           {
            "fillpattern": {
             "fillmode": "overlay",
             "size": 10,
             "solidity": 0.2
            },
            "type": "scatter"
           }
          ],
          "scatter3d": [
           {
            "line": {
             "colorbar": {
              "outlinewidth": 0,
              "ticks": ""
             }
            },
            "marker": {
             "colorbar": {
              "outlinewidth": 0,
              "ticks": ""
             }
            },
            "type": "scatter3d"
           }
          ],
          "scattercarpet": [
           {
            "marker": {
             "colorbar": {
              "outlinewidth": 0,
              "ticks": ""
             }
            },
            "type": "scattercarpet"
           }
          ],
          "scattergeo": [
           {
            "marker": {
             "colorbar": {
              "outlinewidth": 0,
              "ticks": ""
             }
            },
            "type": "scattergeo"
           }
          ],
          "scattergl": [
           {
            "marker": {
             "colorbar": {
              "outlinewidth": 0,
              "ticks": ""
             }
            },
            "type": "scattergl"
           }
          ],
          "scattermap": [
           {
            "marker": {
             "colorbar": {
              "outlinewidth": 0,
              "ticks": ""
             }
            },
            "type": "scattermap"
           }
          ],
          "scattermapbox": [
           {
            "marker": {
             "colorbar": {
              "outlinewidth": 0,
              "ticks": ""
             }
            },
            "type": "scattermapbox"
           }
          ],
          "scatterpolar": [
           {
            "marker": {
             "colorbar": {
              "outlinewidth": 0,
              "ticks": ""
             }
            },
            "type": "scatterpolar"
           }
          ],
          "scatterpolargl": [
           {
            "marker": {
             "colorbar": {
              "outlinewidth": 0,
              "ticks": ""
             }
            },
            "type": "scatterpolargl"
           }
          ],
          "scatterternary": [
           {
            "marker": {
             "colorbar": {
              "outlinewidth": 0,
              "ticks": ""
             }
            },
            "type": "scatterternary"
           }
          ],
          "surface": [
           {
            "colorbar": {
             "outlinewidth": 0,
             "ticks": ""
            },
            "colorscale": [
             [
              0,
              "#0d0887"
             ],
             [
              0.1111111111111111,
              "#46039f"
             ],
             [
              0.2222222222222222,
              "#7201a8"
             ],
             [
              0.3333333333333333,
              "#9c179e"
             ],
             [
              0.4444444444444444,
              "#bd3786"
             ],
             [
              0.5555555555555556,
              "#d8576b"
             ],
             [
              0.6666666666666666,
              "#ed7953"
             ],
             [
              0.7777777777777778,
              "#fb9f3a"
             ],
             [
              0.8888888888888888,
              "#fdca26"
             ],
             [
              1,
              "#f0f921"
             ]
            ],
            "type": "surface"
           }
          ],
          "table": [
           {
            "cells": {
             "fill": {
              "color": "#EBF0F8"
             },
             "line": {
              "color": "white"
             }
            },
            "header": {
             "fill": {
              "color": "#C8D4E3"
             },
             "line": {
              "color": "white"
             }
            },
            "type": "table"
           }
          ]
         },
         "layout": {
          "annotationdefaults": {
           "arrowcolor": "#2a3f5f",
           "arrowhead": 0,
           "arrowwidth": 1
          },
          "autotypenumbers": "strict",
          "coloraxis": {
           "colorbar": {
            "outlinewidth": 0,
            "ticks": ""
           }
          },
          "colorscale": {
           "diverging": [
            [
             0,
             "#8e0152"
            ],
            [
             0.1,
             "#c51b7d"
            ],
            [
             0.2,
             "#de77ae"
            ],
            [
             0.3,
             "#f1b6da"
            ],
            [
             0.4,
             "#fde0ef"
            ],
            [
             0.5,
             "#f7f7f7"
            ],
            [
             0.6,
             "#e6f5d0"
            ],
            [
             0.7,
             "#b8e186"
            ],
            [
             0.8,
             "#7fbc41"
            ],
            [
             0.9,
             "#4d9221"
            ],
            [
             1,
             "#276419"
            ]
           ],
           "sequential": [
            [
             0,
             "#0d0887"
            ],
            [
             0.1111111111111111,
             "#46039f"
            ],
            [
             0.2222222222222222,
             "#7201a8"
            ],
            [
             0.3333333333333333,
             "#9c179e"
            ],
            [
             0.4444444444444444,
             "#bd3786"
            ],
            [
             0.5555555555555556,
             "#d8576b"
            ],
            [
             0.6666666666666666,
             "#ed7953"
            ],
            [
             0.7777777777777778,
             "#fb9f3a"
            ],
            [
             0.8888888888888888,
             "#fdca26"
            ],
            [
             1,
             "#f0f921"
            ]
           ],
           "sequentialminus": [
            [
             0,
             "#0d0887"
            ],
            [
             0.1111111111111111,
             "#46039f"
            ],
            [
             0.2222222222222222,
             "#7201a8"
            ],
            [
             0.3333333333333333,
             "#9c179e"
            ],
            [
             0.4444444444444444,
             "#bd3786"
            ],
            [
             0.5555555555555556,
             "#d8576b"
            ],
            [
             0.6666666666666666,
             "#ed7953"
            ],
            [
             0.7777777777777778,
             "#fb9f3a"
            ],
            [
             0.8888888888888888,
             "#fdca26"
            ],
            [
             1,
             "#f0f921"
            ]
           ]
          },
          "colorway": [
           "#636efa",
           "#EF553B",
           "#00cc96",
           "#ab63fa",
           "#FFA15A",
           "#19d3f3",
           "#FF6692",
           "#B6E880",
           "#FF97FF",
           "#FECB52"
          ],
          "font": {
           "color": "#2a3f5f"
          },
          "geo": {
           "bgcolor": "white",
           "lakecolor": "white",
           "landcolor": "#E5ECF6",
           "showlakes": true,
           "showland": true,
           "subunitcolor": "white"
          },
          "hoverlabel": {
           "align": "left"
          },
          "hovermode": "closest",
          "mapbox": {
           "style": "light"
          },
          "paper_bgcolor": "white",
          "plot_bgcolor": "#E5ECF6",
          "polar": {
           "angularaxis": {
            "gridcolor": "white",
            "linecolor": "white",
            "ticks": ""
           },
           "bgcolor": "#E5ECF6",
           "radialaxis": {
            "gridcolor": "white",
            "linecolor": "white",
            "ticks": ""
           }
          },
          "scene": {
           "xaxis": {
            "backgroundcolor": "#E5ECF6",
            "gridcolor": "white",
            "gridwidth": 2,
            "linecolor": "white",
            "showbackground": true,
            "ticks": "",
            "zerolinecolor": "white"
           },
           "yaxis": {
            "backgroundcolor": "#E5ECF6",
            "gridcolor": "white",
            "gridwidth": 2,
            "linecolor": "white",
            "showbackground": true,
            "ticks": "",
            "zerolinecolor": "white"
           },
           "zaxis": {
            "backgroundcolor": "#E5ECF6",
            "gridcolor": "white",
            "gridwidth": 2,
            "linecolor": "white",
            "showbackground": true,
            "ticks": "",
            "zerolinecolor": "white"
           }
          },
          "shapedefaults": {
           "line": {
            "color": "#2a3f5f"
           }
          },
          "ternary": {
           "aaxis": {
            "gridcolor": "white",
            "linecolor": "white",
            "ticks": ""
           },
           "baxis": {
            "gridcolor": "white",
            "linecolor": "white",
            "ticks": ""
           },
           "bgcolor": "#E5ECF6",
           "caxis": {
            "gridcolor": "white",
            "linecolor": "white",
            "ticks": ""
           }
          },
          "title": {
           "x": 0.05
          },
          "xaxis": {
           "automargin": true,
           "gridcolor": "white",
           "linecolor": "white",
           "ticks": "",
           "title": {
            "standoff": 15
           },
           "zerolinecolor": "white",
           "zerolinewidth": 2
          },
          "yaxis": {
           "automargin": true,
           "gridcolor": "white",
           "linecolor": "white",
           "ticks": "",
           "title": {
            "standoff": 15
           },
           "zerolinecolor": "white",
           "zerolinewidth": 2
          }
         }
        },
        "title": {
         "text": "United states: United states personal income"
        },
        "xaxis": {
         "anchor": "y",
         "domain": [
          0,
          1
         ],
         "title": {
          "text": ""
         }
        },
        "yaxis": {
         "anchor": "x",
         "autorange": "reversed",
         "domain": [
          0,
          1
         ],
         "title": {
          "text": "%"
         }
        }
       }
      }
     },
     "metadata": {},
     "output_type": "display_data"
    }
   ],
   "source": [
    "scr.plot_series(invert_yaxis=True)  ## Plot the series."
   ]
  },
  {
   "cell_type": "code",
   "execution_count": 254,
   "metadata": {},
   "outputs": [
    {
     "name": "stderr",
     "output_type": "stream",
     "text": [
      "INFO - DateTimeIndex applied to series, series attribute updated.\n"
     ]
    }
   ],
   "source": [
    "scr.series = scr.unscaled_series\n",
    "scr.apply_x_index() "
   ]
  },
  {
   "cell_type": "code",
   "execution_count": 241,
   "metadata": {},
   "outputs": [
    {
     "data": {
      "text/plain": [
       "0.000000      407.929688\n",
       "0.000000      407.929688\n",
       "0.466124      401.181563\n",
       "0.776873      397.051563\n",
       "1.120917      392.479062\n",
       "                 ...    \n",
       "666.806945    418.807812\n",
       "667.139890    413.368750\n",
       "667.483934    407.929688\n",
       "668.000000    386.173438\n",
       "668.000000    386.173438\n",
       "Name: Extracted Series, Length: 2374, dtype: float64"
      ]
     },
     "execution_count": 241,
     "metadata": {},
     "output_type": "execute_result"
    }
   ],
   "source": [
    "scr.series"
   ]
  },
  {
   "cell_type": "code",
   "execution_count": 236,
   "metadata": {},
   "outputs": [
    {
     "data": {
      "text/plain": [
       "{'x_min': 25.0, 'x_max': 693.0, 'y_min': 335.0, 'y_max': 40.0}"
      ]
     },
     "execution_count": 236,
     "metadata": {},
     "output_type": "execute_result"
    }
   ],
   "source": [
    "scr.extract_axis_limits()"
   ]
  },
  {
   "cell_type": "code",
   "execution_count": 266,
   "metadata": {},
   "outputs": [
    {
     "name": "stderr",
     "output_type": "stream",
     "text": [
      "INFO - Scale series method: Start value, end value: 0.5, 0.9, pix0, pix1: 201.6875, 204.6375, \n",
      "data units per chart pixel from start & end points: 0.13559322033898358, \n",
      "unit_per_pix calculated from the y axis ticks: 0.13458915338710736, \n",
      "inverse of that: 7.430019246229931, \n",
      "unit_per_pix from axis limits and self.y_axis (probably best way): 0.13513513513513514\n",
      "yaxis top tick: 24.0, yaxis bot tick: -16.0\n",
      "axis_limits: 335.0, 40.0\n",
      "INFO - Y axis Series does cross zero at:  217.5, min_val: 0, pix0: 217.5\n"
     ]
    },
    {
     "name": "stdout",
     "output_type": "stream",
     "text": [
      "Unit per pix forumlation, 24.0, -16.0, 40.0, 296.0, 40.0, 335.0, 0.13513513513513514\n",
      "pixheight\n",
      "335.5   -16.0\n",
      "320.5   -14.0\n",
      "269.5    -7.0\n",
      "217.5     0.0\n",
      "165.5     7.0\n",
      "114.5    14.0\n",
      "62.5     21.0\n",
      "39.5     24.0\n",
      "Name: ytick_label, dtype: float64 217.5\n"
     ]
    },
    {
     "data": {
      "text/plain": [
       "0.000000      15.8125\n",
       "0.000000      15.8125\n",
       "0.466124      14.8975\n",
       "0.776873      14.3375\n",
       "1.120917      13.7175\n",
       "               ...   \n",
       "666.806945    17.2875\n",
       "667.139890    16.5500\n",
       "667.483934    15.8125\n",
       "668.000000    12.8625\n",
       "668.000000    12.8625\n",
       "Name: Extracted Series, Length: 2374, dtype: float64"
      ]
     },
     "execution_count": 266,
     "metadata": {},
     "output_type": "execute_result"
    }
   ],
   "source": [
    "scr.scale_series() ## Scale the series to the y-axis values to convert the pixel co-ordinates to actual data values.\n",
    "scr.series # View the series data obtained."
   ]
  },
  {
   "cell_type": "markdown",
   "metadata": {},
   "source": [
    "The ```scale_series()``` method converts the pixel co-ordinate values to data values."
   ]
  },
  {
   "cell_type": "code",
   "execution_count": null,
   "metadata": {},
   "outputs": [
    {
     "data": {
      "application/vnd.plotly.v1+json": {
       "config": {
        "plotlyServerURL": "https://plot.ly"
       },
       "data": [
        {
         "hovertemplate": "variable=Extracted Series<br>index=%{x}<br>value=%{y}<extra></extra>",
         "legendgroup": "Extracted Series",
         "line": {
          "color": "#636efa",
          "dash": "solid"
         },
         "marker": {
          "symbol": "circle"
         },
         "mode": "lines",
         "name": "Extracted Series",
         "showlegend": true,
         "type": "scattergl",
         "x": {
          "bdata": "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",
          "dtype": "f8"
         },
         "xaxis": "x",
         "y": {
          "bdata": "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",
          "dtype": "f8"
         },
         "yaxis": "y"
        }
       ],
       "layout": {
        "annotations": [
         {
          "align": "left",
          "bgcolor": "rgba(255, 255, 255, 0.8)",
          "bordercolor": "black",
          "borderwidth": 1,
          "font": {
           "size": 10
          },
          "showarrow": false,
          "text": "Source: Trading Economics<br>Original Source: U.S. Bureau of Economic Analysis<br>Frequency: MS<br>",
          "x": 0,
          "xanchor": "left",
          "xref": "paper",
          "y": -0.22,
          "yanchor": "bottom",
          "yref": "paper"
         }
        ],
        "legend": {
         "orientation": "h",
         "title": {
          "text": ""
         },
         "tracegroupgap": 0,
         "x": 0.5,
         "xanchor": "center",
         "y": -0.2,
         "yanchor": "bottom"
        },
        "margin": {
         "t": 60
        },
        "template": {
         "data": {
          "bar": [
           {
            "error_x": {
             "color": "#2a3f5f"
            },
            "error_y": {
             "color": "#2a3f5f"
            },
            "marker": {
             "line": {
              "color": "#E5ECF6",
              "width": 0.5
             },
             "pattern": {
              "fillmode": "overlay",
              "size": 10,
              "solidity": 0.2
             }
            },
            "type": "bar"
           }
          ],
          "barpolar": [
           {
            "marker": {
             "line": {
              "color": "#E5ECF6",
              "width": 0.5
             },
             "pattern": {
              "fillmode": "overlay",
              "size": 10,
              "solidity": 0.2
             }
            },
            "type": "barpolar"
           }
          ],
          "carpet": [
           {
            "aaxis": {
             "endlinecolor": "#2a3f5f",
             "gridcolor": "white",
             "linecolor": "white",
             "minorgridcolor": "white",
             "startlinecolor": "#2a3f5f"
            },
            "baxis": {
             "endlinecolor": "#2a3f5f",
             "gridcolor": "white",
             "linecolor": "white",
             "minorgridcolor": "white",
             "startlinecolor": "#2a3f5f"
            },
            "type": "carpet"
           }
          ],
          "choropleth": [
           {
            "colorbar": {
             "outlinewidth": 0,
             "ticks": ""
            },
            "type": "choropleth"
           }
          ],
          "contour": [
           {
            "colorbar": {
             "outlinewidth": 0,
             "ticks": ""
            },
            "colorscale": [
             [
              0,
              "#0d0887"
             ],
             [
              0.1111111111111111,
              "#46039f"
             ],
             [
              0.2222222222222222,
              "#7201a8"
             ],
             [
              0.3333333333333333,
              "#9c179e"
             ],
             [
              0.4444444444444444,
              "#bd3786"
             ],
             [
              0.5555555555555556,
              "#d8576b"
             ],
             [
              0.6666666666666666,
              "#ed7953"
             ],
             [
              0.7777777777777778,
              "#fb9f3a"
             ],
             [
              0.8888888888888888,
              "#fdca26"
             ],
             [
              1,
              "#f0f921"
             ]
            ],
            "type": "contour"
           }
          ],
          "contourcarpet": [
           {
            "colorbar": {
             "outlinewidth": 0,
             "ticks": ""
            },
            "type": "contourcarpet"
           }
          ],
          "heatmap": [
           {
            "colorbar": {
             "outlinewidth": 0,
             "ticks": ""
            },
            "colorscale": [
             [
              0,
              "#0d0887"
             ],
             [
              0.1111111111111111,
              "#46039f"
             ],
             [
              0.2222222222222222,
              "#7201a8"
             ],
             [
              0.3333333333333333,
              "#9c179e"
             ],
             [
              0.4444444444444444,
              "#bd3786"
             ],
             [
              0.5555555555555556,
              "#d8576b"
             ],
             [
              0.6666666666666666,
              "#ed7953"
             ],
             [
              0.7777777777777778,
              "#fb9f3a"
             ],
             [
              0.8888888888888888,
              "#fdca26"
             ],
             [
              1,
              "#f0f921"
             ]
            ],
            "type": "heatmap"
           }
          ],
          "histogram": [
           {
            "marker": {
             "pattern": {
              "fillmode": "overlay",
              "size": 10,
              "solidity": 0.2
             }
            },
            "type": "histogram"
           }
          ],
          "histogram2d": [
           {
            "colorbar": {
             "outlinewidth": 0,
             "ticks": ""
            },
            "colorscale": [
             [
              0,
              "#0d0887"
             ],
             [
              0.1111111111111111,
              "#46039f"
             ],
             [
              0.2222222222222222,
              "#7201a8"
             ],
             [
              0.3333333333333333,
              "#9c179e"
             ],
             [
              0.4444444444444444,
              "#bd3786"
             ],
             [
              0.5555555555555556,
              "#d8576b"
             ],
             [
              0.6666666666666666,
              "#ed7953"
             ],
             [
              0.7777777777777778,
              "#fb9f3a"
             ],
             [
              0.8888888888888888,
              "#fdca26"
             ],
             [
              1,
              "#f0f921"
             ]
            ],
            "type": "histogram2d"
           }
          ],
          "histogram2dcontour": [
           {
            "colorbar": {
             "outlinewidth": 0,
             "ticks": ""
            },
            "colorscale": [
             [
              0,
              "#0d0887"
             ],
             [
              0.1111111111111111,
              "#46039f"
             ],
             [
              0.2222222222222222,
              "#7201a8"
             ],
             [
              0.3333333333333333,
              "#9c179e"
             ],
             [
              0.4444444444444444,
              "#bd3786"
             ],
             [
              0.5555555555555556,
              "#d8576b"
             ],
             [
              0.6666666666666666,
              "#ed7953"
             ],
             [
              0.7777777777777778,
              "#fb9f3a"
             ],
             [
              0.8888888888888888,
              "#fdca26"
             ],
             [
              1,
              "#f0f921"
             ]
            ],
            "type": "histogram2dcontour"
           }
          ],
          "mesh3d": [
           {
            "colorbar": {
             "outlinewidth": 0,
             "ticks": ""
            },
            "type": "mesh3d"
           }
          ],
          "parcoords": [
           {
            "line": {
             "colorbar": {
              "outlinewidth": 0,
              "ticks": ""
             }
            },
            "type": "parcoords"
           }
          ],
          "pie": [
           {
            "automargin": true,
            "type": "pie"
           }
          ],
          "scatter": [
           {
            "fillpattern": {
             "fillmode": "overlay",
             "size": 10,
             "solidity": 0.2
            },
            "type": "scatter"
           }
          ],
          "scatter3d": [
           {
            "line": {
             "colorbar": {
              "outlinewidth": 0,
              "ticks": ""
             }
            },
            "marker": {
             "colorbar": {
              "outlinewidth": 0,
              "ticks": ""
             }
            },
            "type": "scatter3d"
           }
          ],
          "scattercarpet": [
           {
            "marker": {
             "colorbar": {
              "outlinewidth": 0,
              "ticks": ""
             }
            },
            "type": "scattercarpet"
           }
          ],
          "scattergeo": [
           {
            "marker": {
             "colorbar": {
              "outlinewidth": 0,
              "ticks": ""
             }
            },
            "type": "scattergeo"
           }
          ],
          "scattergl": [
           {
            "marker": {
             "colorbar": {
              "outlinewidth": 0,
              "ticks": ""
             }
            },
            "type": "scattergl"
           }
          ],
          "scattermap": [
           {
            "marker": {
             "colorbar": {
              "outlinewidth": 0,
              "ticks": ""
             }
            },
            "type": "scattermap"
           }
          ],
          "scattermapbox": [
           {
            "marker": {
             "colorbar": {
              "outlinewidth": 0,
              "ticks": ""
             }
            },
            "type": "scattermapbox"
           }
          ],
          "scatterpolar": [
           {
            "marker": {
             "colorbar": {
              "outlinewidth": 0,
              "ticks": ""
             }
            },
            "type": "scatterpolar"
           }
          ],
          "scatterpolargl": [
           {
            "marker": {
             "colorbar": {
              "outlinewidth": 0,
              "ticks": ""
             }
            },
            "type": "scatterpolargl"
           }
          ],
          "scatterternary": [
           {
            "marker": {
             "colorbar": {
              "outlinewidth": 0,
              "ticks": ""
             }
            },
            "type": "scatterternary"
           }
          ],
          "surface": [
           {
            "colorbar": {
             "outlinewidth": 0,
             "ticks": ""
            },
            "colorscale": [
             [
              0,
              "#0d0887"
             ],
             [
              0.1111111111111111,
              "#46039f"
             ],
             [
              0.2222222222222222,
              "#7201a8"
             ],
             [
              0.3333333333333333,
              "#9c179e"
             ],
             [
              0.4444444444444444,
              "#bd3786"
             ],
             [
              0.5555555555555556,
              "#d8576b"
             ],
             [
              0.6666666666666666,
              "#ed7953"
             ],
             [
              0.7777777777777778,
              "#fb9f3a"
             ],
             [
              0.8888888888888888,
              "#fdca26"
             ],
             [
              1,
              "#f0f921"
             ]
            ],
            "type": "surface"
           }
          ],
          "table": [
           {
            "cells": {
             "fill": {
              "color": "#EBF0F8"
             },
             "line": {
              "color": "white"
             }
            },
            "header": {
             "fill": {
              "color": "#C8D4E3"
             },
             "line": {
              "color": "white"
             }
            },
            "type": "table"
           }
          ]
         },
         "layout": {
          "annotationdefaults": {
           "arrowcolor": "#2a3f5f",
           "arrowhead": 0,
           "arrowwidth": 1
          },
          "autotypenumbers": "strict",
          "coloraxis": {
           "colorbar": {
            "outlinewidth": 0,
            "ticks": ""
           }
          },
          "colorscale": {
           "diverging": [
            [
             0,
             "#8e0152"
            ],
            [
             0.1,
             "#c51b7d"
            ],
            [
             0.2,
             "#de77ae"
            ],
            [
             0.3,
             "#f1b6da"
            ],
            [
             0.4,
             "#fde0ef"
            ],
            [
             0.5,
             "#f7f7f7"
            ],
            [
             0.6,
             "#e6f5d0"
            ],
            [
             0.7,
             "#b8e186"
            ],
            [
             0.8,
             "#7fbc41"
            ],
            [
             0.9,
             "#4d9221"
            ],
            [
             1,
             "#276419"
            ]
           ],
           "sequential": [
            [
             0,
             "#0d0887"
            ],
            [
             0.1111111111111111,
             "#46039f"
            ],
            [
             0.2222222222222222,
             "#7201a8"
            ],
            [
             0.3333333333333333,
             "#9c179e"
            ],
            [
             0.4444444444444444,
             "#bd3786"
            ],
            [
             0.5555555555555556,
             "#d8576b"
            ],
            [
             0.6666666666666666,
             "#ed7953"
            ],
            [
             0.7777777777777778,
             "#fb9f3a"
            ],
            [
             0.8888888888888888,
             "#fdca26"
            ],
            [
             1,
             "#f0f921"
            ]
           ],
           "sequentialminus": [
            [
             0,
             "#0d0887"
            ],
            [
             0.1111111111111111,
             "#46039f"
            ],
            [
             0.2222222222222222,
             "#7201a8"
            ],
            [
             0.3333333333333333,
             "#9c179e"
            ],
            [
             0.4444444444444444,
             "#bd3786"
            ],
            [
             0.5555555555555556,
             "#d8576b"
            ],
            [
             0.6666666666666666,
             "#ed7953"
            ],
            [
             0.7777777777777778,
             "#fb9f3a"
            ],
            [
             0.8888888888888888,
             "#fdca26"
            ],
            [
             1,
             "#f0f921"
            ]
           ]
          },
          "colorway": [
           "#636efa",
           "#EF553B",
           "#00cc96",
           "#ab63fa",
           "#FFA15A",
           "#19d3f3",
           "#FF6692",
           "#B6E880",
           "#FF97FF",
           "#FECB52"
          ],
          "font": {
           "color": "#2a3f5f"
          },
          "geo": {
           "bgcolor": "white",
           "lakecolor": "white",
           "landcolor": "#E5ECF6",
           "showlakes": true,
           "showland": true,
           "subunitcolor": "white"
          },
          "hoverlabel": {
           "align": "left"
          },
          "hovermode": "closest",
          "mapbox": {
           "style": "light"
          },
          "paper_bgcolor": "white",
          "plot_bgcolor": "#E5ECF6",
          "polar": {
           "angularaxis": {
            "gridcolor": "white",
            "linecolor": "white",
            "ticks": ""
           },
           "bgcolor": "#E5ECF6",
           "radialaxis": {
            "gridcolor": "white",
            "linecolor": "white",
            "ticks": ""
           }
          },
          "scene": {
           "xaxis": {
            "backgroundcolor": "#E5ECF6",
            "gridcolor": "white",
            "gridwidth": 2,
            "linecolor": "white",
            "showbackground": true,
            "ticks": "",
            "zerolinecolor": "white"
           },
           "yaxis": {
            "backgroundcolor": "#E5ECF6",
            "gridcolor": "white",
            "gridwidth": 2,
            "linecolor": "white",
            "showbackground": true,
            "ticks": "",
            "zerolinecolor": "white"
           },
           "zaxis": {
            "backgroundcolor": "#E5ECF6",
            "gridcolor": "white",
            "gridwidth": 2,
            "linecolor": "white",
            "showbackground": true,
            "ticks": "",
            "zerolinecolor": "white"
           }
          },
          "shapedefaults": {
           "line": {
            "color": "#2a3f5f"
           }
          },
          "ternary": {
           "aaxis": {
            "gridcolor": "white",
            "linecolor": "white",
            "ticks": ""
           },
           "baxis": {
            "gridcolor": "white",
            "linecolor": "white",
            "ticks": ""
           },
           "bgcolor": "#E5ECF6",
           "caxis": {
            "gridcolor": "white",
            "linecolor": "white",
            "ticks": ""
           }
          },
          "title": {
           "x": 0.05
          },
          "xaxis": {
           "automargin": true,
           "gridcolor": "white",
           "linecolor": "white",
           "ticks": "",
           "title": {
            "standoff": 15
           },
           "zerolinecolor": "white",
           "zerolinewidth": 2
          },
          "yaxis": {
           "automargin": true,
           "gridcolor": "white",
           "linecolor": "white",
           "ticks": "",
           "title": {
            "standoff": 15
           },
           "zerolinecolor": "white",
           "zerolinewidth": 2
          }
         }
        },
        "title": {
         "text": "United states: United states personal income"
        },
        "xaxis": {
         "anchor": "y",
         "domain": [
          0,
          1
         ],
         "title": {
          "text": ""
         }
        },
        "yaxis": {
         "anchor": "x",
         "domain": [
          0,
          1
         ],
         "title": {
          "text": "%"
         }
        }
       }
      }
     },
     "metadata": {},
     "output_type": "display_data"
    }
   ],
   "source": [
    "scr.plot_series(ann_box_pos=(0, -0.22))  ## Plot the series."
   ]
  },
  {
   "cell_type": "code",
   "execution_count": 21,
   "metadata": {},
   "outputs": [
    {
     "data": {
      "text/plain": [
       "{'units': '%',\n",
       " 'original_source': 'U.S. Bureau of Economic Analysis',\n",
       " 'title': 'United States Personal Income',\n",
       " 'indicator': 'personal income',\n",
       " 'country': 'united states',\n",
       " 'source': 'Trading Economics',\n",
       " 'id': 'united-states/personal-income',\n",
       " 'description': 'Personal Income refers to the income that persons receive in return for their provision of labor, land, and capital used in current production, plus current transfer receipts less contributions for government social insurance.',\n",
       " 'frequency': 'MS',\n",
       " 'unit_tooltips': '%',\n",
       " 'start_date': '1959-02-01',\n",
       " 'end_date': '2025-01-01',\n",
       " 'min_value': -12.899999999999999,\n",
       " 'max_value': 20.799999999999997,\n",
       " 'length': 792}"
      ]
     },
     "execution_count": 21,
     "metadata": {},
     "output_type": "execute_result"
    }
   ],
   "source": [
    "scr.metadata  ## View the metadata obtained."
   ]
  },
  {
   "cell_type": "code",
   "execution_count": null,
   "metadata": {},
   "outputs": [],
   "source": [
    "scr.save_plot(format=\"html\")  ## Save the plot as an interactive html file."
   ]
  },
  {
   "cell_type": "markdown",
   "metadata": {},
   "source": [
    "### Alternative scraping method\n",
    "\n",
    "Added in v0.3.0. Get the whole series from the tooltip values using javascript. This may turn out to be the best way to do it yet I expect it will run into issues for data series with many points."
   ]
  },
  {
   "cell_type": "code",
   "execution_count": 40,
   "metadata": {},
   "outputs": [
    {
     "name": "stderr",
     "output_type": "stream",
     "text": [
      "INFO - Quitting 3 active webdriver instances...\n"
     ]
    },
    {
     "data": {
      "text/plain": [
       "[]"
      ]
     },
     "execution_count": 40,
     "metadata": {},
     "output_type": "execute_result"
    }
   ],
   "source": [
    "from tedata import base\n",
    "base.find_active_drivers(quit_all=True)  ## Quit all active drivers."
   ]
  },
  {
   "cell_type": "code",
   "execution_count": 36,
   "metadata": {},
   "outputs": [
    {
     "name": "stderr",
     "output_type": "stream",
     "text": [
      "INFO - New firefox webdriver created.\n"
     ]
    }
   ],
   "source": [
    "scrap = ted.TE_Scraper(use_existing_driver = False, headless = False)  ## Initialize a new TE_scraper object."
   ]
  },
  {
   "cell_type": "code",
   "execution_count": 41,
   "metadata": {},
   "outputs": [
    {
     "name": "stderr",
     "output_type": "stream",
     "text": [
      "INFO - WebPage at https://tradingeconomics.com/euro-area/consumer-confidence loaded successfully.\n",
      "INFO - Chart types dictionary created successfully: dict_keys(['Column', 'Spline', 'Areaspline', 'Stepline', 'Line', 'Area'])\n"
     ]
    },
    {
     "data": {
      "text/plain": [
       "True"
      ]
     },
     "execution_count": 41,
     "metadata": {},
     "output_type": "execute_result"
    }
   ],
   "source": [
    "scrap.load_page('https://tradingeconomics.com/euro-area/consumer-confidence')"
   ]
  },
  {
   "cell_type": "code",
   "execution_count": 42,
   "metadata": {},
   "outputs": [
    {
     "name": "stderr",
     "output_type": "stream",
     "text": [
      "INFO - \n",
      "Series metadata: \n",
      " {'units': 'points', 'original_source': 'European Commission', 'title': 'Euro Area Consumer Confidence', 'indicator': 'consumer confidence', 'country': 'euro area', 'source': 'Trading Economics', 'id': 'euro-area/consumer-confidence'}\n"
     ]
    },
    {
     "data": {
      "text/plain": [
       "{'units': 'points',\n",
       " 'original_source': 'European Commission',\n",
       " 'title': 'Euro Area Consumer Confidence',\n",
       " 'indicator': 'consumer confidence',\n",
       " 'country': 'euro area',\n",
       " 'source': 'Trading Economics',\n",
       " 'id': 'euro-area/consumer-confidence',\n",
       " 'description': 'In Euro Area, the Consumer Economic Sentiment Indicator measures the level of optimism that consumers have about the economy. The survey is made by phone and covers 23 000 households in the Euro Area. The number of households sample varies across the zone. The questions focus on current economic and financial situation, savings intention as well as on expected developments regarding: consumer price indexes, general economic situation and major purchases of durable goods. The Consumer ESI measures consumer confidence on a scale of -100 to 100, where -100 indicate extreme lack of confidence, 0 neutrality and 100 extreme confidence.'}"
      ]
     },
     "execution_count": 42,
     "metadata": {},
     "output_type": "execute_result"
    }
   ],
   "source": [
    "scrap.scrape_metadata()  ## Scrape the metadata for the data series from the page.\n",
    "scrap.metadata"
   ]
  },
  {
   "cell_type": "markdown",
   "metadata": {},
   "source": [
    "We are using the same ```latest_points_js``` method that is used to get some of the latest data points in order to determine the series frequency. However here we let it keep going and get all of the data points from the date and values that show up on the tooltips as the cursor is dragged across the chart."
   ]
  },
  {
   "cell_type": "code",
   "execution_count": 43,
   "metadata": {},
   "outputs": [
    {
     "name": "stderr",
     "output_type": "stream",
     "text": [
      "INFO - TooltipScraper object initialised successfully.\n"
     ]
    },
    {
     "name": "stdout",
     "output_type": "stream",
     "text": [
      "Setting max date span using calendar...\n"
     ]
    },
    {
     "name": "stderr",
     "output_type": "stream",
     "text": [
      "INFO - Button not found or not clickable: .splineChart .dkLabels-label-btn\n",
      "INFO - Chart type set to: Spline\n",
      "INFO - Chart type set to: Spline\n",
      "INFO - Successfully scraped full series from tooltips.\n"
     ]
    },
    {
     "data": {
      "text/plain": [
       "1985-02-01   -10.9\n",
       "1985-03-01   -11.9\n",
       "1985-04-01   -11.1\n",
       "1985-05-01   -11.5\n",
       "1985-06-01   -11.9\n",
       "              ... \n",
       "2024-08-01   -13.4\n",
       "2024-09-01   -12.9\n",
       "2024-10-01   -12.5\n",
       "2024-11-01   -13.7\n",
       "2024-12-01   -14.5\n",
       "Name: tooltip_data, Length: 479, dtype: float64"
      ]
     },
     "execution_count": 43,
     "metadata": {},
     "output_type": "execute_result"
    }
   ],
   "source": [
    "scrap.full_series_fromTooltips(set_max_datespan=True)  ## Get the full series from the tooltips on the chart.\n",
    "scrap.series"
   ]
  },
  {
   "cell_type": "code",
   "execution_count": 38,
   "metadata": {},
   "outputs": [],
   "source": [
    "scrap.set_max_date_span_viaCalendar()"
   ]
  },
  {
   "cell_type": "code",
   "execution_count": 30,
   "metadata": {},
   "outputs": [
    {
     "data": {
      "text/plain": [
       "True"
      ]
     },
     "execution_count": 30,
     "metadata": {},
     "output_type": "execute_result"
    }
   ],
   "source": [
    "scrap.custom_date_span(start_date=\"1995-01-01\", end_date=\"2020-01-01\")  ## Set a custom date span for the series."
   ]
  },
  {
   "cell_type": "code",
   "execution_count": 28,
   "metadata": {},
   "outputs": [
    {
     "data": {
      "text/plain": [
       "True"
      ]
     },
     "execution_count": 28,
     "metadata": {},
     "output_type": "execute_result"
    }
   ],
   "source": [
    "scrap.click_button(\"#dateInputsToggle\")"
   ]
  },
  {
   "cell_type": "code",
   "execution_count": 63,
   "metadata": {},
   "outputs": [
    {
     "data": {
      "text/plain": [
       "{'units': 'points',\n",
       " 'original_source': 'European Commission',\n",
       " 'title': 'Euro Area Consumer Confidence',\n",
       " 'indicator': 'consumer confidence',\n",
       " 'country': 'euro area',\n",
       " 'source': 'Trading Economics',\n",
       " 'id': 'euro-area/consumer-confidence',\n",
       " 'description': 'In Euro Area, the Consumer Economic Sentiment Indicator measures the level of optimism that consumers have about the economy. The survey is made by phone and covers 23 000 households in the Euro Area. The number of households sample varies across the zone. The questions focus on current economic and financial situation, savings intention as well as on expected developments regarding: consumer price indexes, general economic situation and major purchases of durable goods. The Consumer ESI measures consumer confidence on a scale of -100 to 100, where -100 indicate extreme lack of confidence, 0 neutrality and 100 extreme confidence.',\n",
       " 'start_date': '1985-02-01',\n",
       " 'end_date': '2024-12-01',\n",
       " 'min_value': -28.6,\n",
       " 'max_value': -1.8,\n",
       " 'length': 479,\n",
       " 'frequency': 'MS'}"
      ]
     },
     "execution_count": 63,
     "metadata": {},
     "output_type": "execute_result"
    }
   ],
   "source": [
    "scrap.metadata"
   ]
  },
  {
   "cell_type": "code",
   "execution_count": 64,
   "metadata": {},
   "outputs": [
    {
     "data": {
      "application/vnd.plotly.v1+json": {
       "config": {
        "plotlyServerURL": "https://plot.ly"
       },
       "data": [
        {
         "hovertemplate": "variable=tooltip_data<br>index=%{x}<br>value=%{y}<extra></extra>",
         "legendgroup": "tooltip_data",
         "line": {
          "color": "#636efa",
          "dash": "solid"
         },
         "marker": {
          "symbol": "circle"
         },
         "mode": "lines",
         "name": "tooltip_data",
         "orientation": "v",
         "showlegend": true,
         "type": "scatter",
         "x": [
          "1985-02-01T00:00:00.000000000",
          "1985-03-01T00:00:00.000000000",
          "1985-04-01T00:00:00.000000000",
          "1985-05-01T00:00:00.000000000",
          "1985-06-01T00:00:00.000000000",
          "1985-07-01T00:00:00.000000000",
          "1985-08-01T00:00:00.000000000",
          "1985-09-01T00:00:00.000000000",
          "1985-10-01T00:00:00.000000000",
          "1985-11-01T00:00:00.000000000",
          "1985-12-01T00:00:00.000000000",
          "1986-01-01T00:00:00.000000000",
          "1986-02-01T00:00:00.000000000",
          "1986-03-01T00:00:00.000000000",
          "1986-04-01T00:00:00.000000000",
          "1986-05-01T00:00:00.000000000",
          "1986-06-01T00:00:00.000000000",
          "1986-07-01T00:00:00.000000000",
          "1986-08-01T00:00:00.000000000",
          "1986-09-01T00:00:00.000000000",
          "1986-10-01T00:00:00.000000000",
          "1986-11-01T00:00:00.000000000",
          "1986-12-01T00:00:00.000000000",
          "1987-01-01T00:00:00.000000000",
          "1987-02-01T00:00:00.000000000",
          "1987-03-01T00:00:00.000000000",
          "1987-04-01T00:00:00.000000000",
          "1987-05-01T00:00:00.000000000",
          "1987-06-01T00:00:00.000000000",
          "1987-07-01T00:00:00.000000000",
          "1987-08-01T00:00:00.000000000",
          "1987-09-01T00:00:00.000000000",
          "1987-10-01T00:00:00.000000000",
          "1987-11-01T00:00:00.000000000",
          "1987-12-01T00:00:00.000000000",
          "1988-01-01T00:00:00.000000000",
          "1988-02-01T00:00:00.000000000",
          "1988-03-01T00:00:00.000000000",
          "1988-04-01T00:00:00.000000000",
          "1988-05-01T00:00:00.000000000",
          "1988-06-01T00:00:00.000000000",
          "1988-07-01T00:00:00.000000000",
          "1988-08-01T00:00:00.000000000",
          "1988-09-01T00:00:00.000000000",
          "1988-10-01T00:00:00.000000000",
          "1988-11-01T00:00:00.000000000",
          "1988-12-01T00:00:00.000000000",
          "1989-01-01T00:00:00.000000000",
          "1989-02-01T00:00:00.000000000",
          "1989-03-01T00:00:00.000000000",
          "1989-04-01T00:00:00.000000000",
          "1989-05-01T00:00:00.000000000",
          "1989-06-01T00:00:00.000000000",
          "1989-07-01T00:00:00.000000000",
          "1989-08-01T00:00:00.000000000",
          "1989-09-01T00:00:00.000000000",
          "1989-10-01T00:00:00.000000000",
          "1989-11-01T00:00:00.000000000",
          "1989-12-01T00:00:00.000000000",
          "1990-01-01T00:00:00.000000000",
          "1990-02-01T00:00:00.000000000",
          "1990-03-01T00:00:00.000000000",
          "1990-04-01T00:00:00.000000000",
          "1990-05-01T00:00:00.000000000",
          "1990-06-01T00:00:00.000000000",
          "1990-07-01T00:00:00.000000000",
          "1990-08-01T00:00:00.000000000",
          "1990-09-01T00:00:00.000000000",
          "1990-10-01T00:00:00.000000000",
          "1990-11-01T00:00:00.000000000",
          "1990-12-01T00:00:00.000000000",
          "1991-01-01T00:00:00.000000000",
          "1991-02-01T00:00:00.000000000",
          "1991-03-01T00:00:00.000000000",
          "1991-04-01T00:00:00.000000000",
          "1991-05-01T00:00:00.000000000",
          "1991-06-01T00:00:00.000000000",
          "1991-07-01T00:00:00.000000000",
          "1991-08-01T00:00:00.000000000",
          "1991-09-01T00:00:00.000000000",
          "1991-10-01T00:00:00.000000000",
          "1991-11-01T00:00:00.000000000",
          "1991-12-01T00:00:00.000000000",
          "1992-01-01T00:00:00.000000000",
          "1992-02-01T00:00:00.000000000",
          "1992-03-01T00:00:00.000000000",
          "1992-04-01T00:00:00.000000000",
          "1992-05-01T00:00:00.000000000",
          "1992-06-01T00:00:00.000000000",
          "1992-07-01T00:00:00.000000000",
          "1992-08-01T00:00:00.000000000",
          "1992-09-01T00:00:00.000000000",
          "1992-10-01T00:00:00.000000000",
          "1992-11-01T00:00:00.000000000",
          "1992-12-01T00:00:00.000000000",
          "1993-01-01T00:00:00.000000000",
          "1993-02-01T00:00:00.000000000",
          "1993-03-01T00:00:00.000000000",
          "1993-04-01T00:00:00.000000000",
          "1993-05-01T00:00:00.000000000",
          "1993-06-01T00:00:00.000000000",
          "1993-07-01T00:00:00.000000000",
          "1993-08-01T00:00:00.000000000",
          "1993-09-01T00:00:00.000000000",
          "1993-10-01T00:00:00.000000000",
          "1993-11-01T00:00:00.000000000",
          "1993-12-01T00:00:00.000000000",
          "1994-01-01T00:00:00.000000000",
          "1994-02-01T00:00:00.000000000",
          "1994-03-01T00:00:00.000000000",
          "1994-04-01T00:00:00.000000000",
          "1994-05-01T00:00:00.000000000",
          "1994-06-01T00:00:00.000000000",
          "1994-07-01T00:00:00.000000000",
          "1994-08-01T00:00:00.000000000",
          "1994-09-01T00:00:00.000000000",
          "1994-10-01T00:00:00.000000000",
          "1994-11-01T00:00:00.000000000",
          "1994-12-01T00:00:00.000000000",
          "1995-01-01T00:00:00.000000000",
          "1995-02-01T00:00:00.000000000",
          "1995-03-01T00:00:00.000000000",
          "1995-04-01T00:00:00.000000000",
          "1995-05-01T00:00:00.000000000",
          "1995-06-01T00:00:00.000000000",
          "1995-07-01T00:00:00.000000000",
          "1995-08-01T00:00:00.000000000",
          "1995-09-01T00:00:00.000000000",
          "1995-10-01T00:00:00.000000000",
          "1995-11-01T00:00:00.000000000",
          "1995-12-01T00:00:00.000000000",
          "1996-01-01T00:00:00.000000000",
          "1996-02-01T00:00:00.000000000",
          "1996-03-01T00:00:00.000000000",
          "1996-04-01T00:00:00.000000000",
          "1996-05-01T00:00:00.000000000",
          "1996-06-01T00:00:00.000000000",
          "1996-07-01T00:00:00.000000000",
          "1996-08-01T00:00:00.000000000",
          "1996-09-01T00:00:00.000000000",
          "1996-10-01T00:00:00.000000000",
          "1996-11-01T00:00:00.000000000",
          "1996-12-01T00:00:00.000000000",
          "1997-01-01T00:00:00.000000000",
          "1997-02-01T00:00:00.000000000",
          "1997-03-01T00:00:00.000000000",
          "1997-04-01T00:00:00.000000000",
          "1997-05-01T00:00:00.000000000",
          "1997-06-01T00:00:00.000000000",
          "1997-07-01T00:00:00.000000000",
          "1997-08-01T00:00:00.000000000",
          "1997-09-01T00:00:00.000000000",
          "1997-10-01T00:00:00.000000000",
          "1997-11-01T00:00:00.000000000",
          "1997-12-01T00:00:00.000000000",
          "1998-01-01T00:00:00.000000000",
          "1998-02-01T00:00:00.000000000",
          "1998-03-01T00:00:00.000000000",
          "1998-04-01T00:00:00.000000000",
          "1998-05-01T00:00:00.000000000",
          "1998-06-01T00:00:00.000000000",
          "1998-07-01T00:00:00.000000000",
          "1998-08-01T00:00:00.000000000",
          "1998-09-01T00:00:00.000000000",
          "1998-10-01T00:00:00.000000000",
          "1998-11-01T00:00:00.000000000",
          "1998-12-01T00:00:00.000000000",
          "1999-01-01T00:00:00.000000000",
          "1999-02-01T00:00:00.000000000",
          "1999-03-01T00:00:00.000000000",
          "1999-04-01T00:00:00.000000000",
          "1999-05-01T00:00:00.000000000",
          "1999-06-01T00:00:00.000000000",
          "1999-07-01T00:00:00.000000000",
          "1999-08-01T00:00:00.000000000",
          "1999-09-01T00:00:00.000000000",
          "1999-10-01T00:00:00.000000000",
          "1999-11-01T00:00:00.000000000",
          "1999-12-01T00:00:00.000000000",
          "2000-01-01T00:00:00.000000000",
          "2000-02-01T00:00:00.000000000",
          "2000-03-01T00:00:00.000000000",
          "2000-04-01T00:00:00.000000000",
          "2000-05-01T00:00:00.000000000",
          "2000-06-01T00:00:00.000000000",
          "2000-07-01T00:00:00.000000000",
          "2000-08-01T00:00:00.000000000",
          "2000-09-01T00:00:00.000000000",
          "2000-10-01T00:00:00.000000000",
          "2000-11-01T00:00:00.000000000",
          "2000-12-01T00:00:00.000000000",
          "2001-01-01T00:00:00.000000000",
          "2001-02-01T00:00:00.000000000",
          "2001-03-01T00:00:00.000000000",
          "2001-04-01T00:00:00.000000000",
          "2001-05-01T00:00:00.000000000",
          "2001-06-01T00:00:00.000000000",
          "2001-07-01T00:00:00.000000000",
          "2001-08-01T00:00:00.000000000",
          "2001-09-01T00:00:00.000000000",
          "2001-10-01T00:00:00.000000000",
          "2001-11-01T00:00:00.000000000",
          "2001-12-01T00:00:00.000000000",
          "2002-01-01T00:00:00.000000000",
          "2002-02-01T00:00:00.000000000",
          "2002-03-01T00:00:00.000000000",
          "2002-04-01T00:00:00.000000000",
          "2002-05-01T00:00:00.000000000",
          "2002-06-01T00:00:00.000000000",
          "2002-07-01T00:00:00.000000000",
          "2002-08-01T00:00:00.000000000",
          "2002-09-01T00:00:00.000000000",
          "2002-10-01T00:00:00.000000000",
          "2002-11-01T00:00:00.000000000",
          "2002-12-01T00:00:00.000000000",
          "2003-01-01T00:00:00.000000000",
          "2003-02-01T00:00:00.000000000",
          "2003-03-01T00:00:00.000000000",
          "2003-04-01T00:00:00.000000000",
          "2003-05-01T00:00:00.000000000",
          "2003-06-01T00:00:00.000000000",
          "2003-07-01T00:00:00.000000000",
          "2003-08-01T00:00:00.000000000",
          "2003-09-01T00:00:00.000000000",
          "2003-10-01T00:00:00.000000000",
          "2003-11-01T00:00:00.000000000",
          "2003-12-01T00:00:00.000000000",
          "2004-01-01T00:00:00.000000000",
          "2004-02-01T00:00:00.000000000",
          "2004-03-01T00:00:00.000000000",
          "2004-04-01T00:00:00.000000000",
          "2004-05-01T00:00:00.000000000",
          "2004-06-01T00:00:00.000000000",
          "2004-07-01T00:00:00.000000000",
          "2004-08-01T00:00:00.000000000",
          "2004-09-01T00:00:00.000000000",
          "2004-10-01T00:00:00.000000000",
          "2004-11-01T00:00:00.000000000",
          "2004-12-01T00:00:00.000000000",
          "2005-01-01T00:00:00.000000000",
          "2005-02-01T00:00:00.000000000",
          "2005-03-01T00:00:00.000000000",
          "2005-04-01T00:00:00.000000000",
          "2005-05-01T00:00:00.000000000",
          "2005-06-01T00:00:00.000000000",
          "2005-07-01T00:00:00.000000000",
          "2005-08-01T00:00:00.000000000",
          "2005-09-01T00:00:00.000000000",
          "2005-10-01T00:00:00.000000000",
          "2005-11-01T00:00:00.000000000",
          "2005-12-01T00:00:00.000000000",
          "2006-01-01T00:00:00.000000000",
          "2006-02-01T00:00:00.000000000",
          "2006-03-01T00:00:00.000000000",
          "2006-04-01T00:00:00.000000000",
          "2006-05-01T00:00:00.000000000",
          "2006-06-01T00:00:00.000000000",
          "2006-07-01T00:00:00.000000000",
          "2006-08-01T00:00:00.000000000",
          "2006-09-01T00:00:00.000000000",
          "2006-10-01T00:00:00.000000000",
          "2006-11-01T00:00:00.000000000",
          "2006-12-01T00:00:00.000000000",
          "2007-01-01T00:00:00.000000000",
          "2007-02-01T00:00:00.000000000",
          "2007-03-01T00:00:00.000000000",
          "2007-04-01T00:00:00.000000000",
          "2007-05-01T00:00:00.000000000",
          "2007-06-01T00:00:00.000000000",
          "2007-07-01T00:00:00.000000000",
          "2007-08-01T00:00:00.000000000",
          "2007-09-01T00:00:00.000000000",
          "2007-10-01T00:00:00.000000000",
          "2007-11-01T00:00:00.000000000",
          "2007-12-01T00:00:00.000000000",
          "2008-01-01T00:00:00.000000000",
          "2008-02-01T00:00:00.000000000",
          "2008-03-01T00:00:00.000000000",
          "2008-04-01T00:00:00.000000000",
          "2008-05-01T00:00:00.000000000",
          "2008-06-01T00:00:00.000000000",
          "2008-07-01T00:00:00.000000000",
          "2008-08-01T00:00:00.000000000",
          "2008-09-01T00:00:00.000000000",
          "2008-10-01T00:00:00.000000000",
          "2008-11-01T00:00:00.000000000",
          "2008-12-01T00:00:00.000000000",
          "2009-01-01T00:00:00.000000000",
          "2009-02-01T00:00:00.000000000",
          "2009-03-01T00:00:00.000000000",
          "2009-04-01T00:00:00.000000000",
          "2009-05-01T00:00:00.000000000",
          "2009-06-01T00:00:00.000000000",
          "2009-07-01T00:00:00.000000000",
          "2009-08-01T00:00:00.000000000",
          "2009-09-01T00:00:00.000000000",
          "2009-10-01T00:00:00.000000000",
          "2009-11-01T00:00:00.000000000",
          "2009-12-01T00:00:00.000000000",
          "2010-01-01T00:00:00.000000000",
          "2010-02-01T00:00:00.000000000",
          "2010-03-01T00:00:00.000000000",
          "2010-04-01T00:00:00.000000000",
          "2010-05-01T00:00:00.000000000",
          "2010-06-01T00:00:00.000000000",
          "2010-07-01T00:00:00.000000000",
          "2010-08-01T00:00:00.000000000",
          "2010-09-01T00:00:00.000000000",
          "2010-10-01T00:00:00.000000000",
          "2010-11-01T00:00:00.000000000",
          "2010-12-01T00:00:00.000000000",
          "2011-01-01T00:00:00.000000000",
          "2011-02-01T00:00:00.000000000",
          "2011-03-01T00:00:00.000000000",
          "2011-04-01T00:00:00.000000000",
          "2011-05-01T00:00:00.000000000",
          "2011-06-01T00:00:00.000000000",
          "2011-07-01T00:00:00.000000000",
          "2011-08-01T00:00:00.000000000",
          "2011-09-01T00:00:00.000000000",
          "2011-10-01T00:00:00.000000000",
          "2011-11-01T00:00:00.000000000",
          "2011-12-01T00:00:00.000000000",
          "2012-01-01T00:00:00.000000000",
          "2012-02-01T00:00:00.000000000",
          "2012-03-01T00:00:00.000000000",
          "2012-04-01T00:00:00.000000000",
          "2012-05-01T00:00:00.000000000",
          "2012-06-01T00:00:00.000000000",
          "2012-07-01T00:00:00.000000000",
          "2012-08-01T00:00:00.000000000",
          "2012-09-01T00:00:00.000000000",
          "2012-10-01T00:00:00.000000000",
          "2012-11-01T00:00:00.000000000",
          "2012-12-01T00:00:00.000000000",
          "2013-01-01T00:00:00.000000000",
          "2013-02-01T00:00:00.000000000",
          "2013-03-01T00:00:00.000000000",
          "2013-04-01T00:00:00.000000000",
          "2013-05-01T00:00:00.000000000",
          "2013-06-01T00:00:00.000000000",
          "2013-07-01T00:00:00.000000000",
          "2013-08-01T00:00:00.000000000",
          "2013-09-01T00:00:00.000000000",
          "2013-10-01T00:00:00.000000000",
          "2013-11-01T00:00:00.000000000",
          "2013-12-01T00:00:00.000000000",
          "2014-01-01T00:00:00.000000000",
          "2014-02-01T00:00:00.000000000",
          "2014-03-01T00:00:00.000000000",
          "2014-04-01T00:00:00.000000000",
          "2014-05-01T00:00:00.000000000",
          "2014-06-01T00:00:00.000000000",
          "2014-07-01T00:00:00.000000000",
          "2014-08-01T00:00:00.000000000",
          "2014-09-01T00:00:00.000000000",
          "2014-10-01T00:00:00.000000000",
          "2014-11-01T00:00:00.000000000",
          "2014-12-01T00:00:00.000000000",
          "2015-01-01T00:00:00.000000000",
          "2015-02-01T00:00:00.000000000",
          "2015-03-01T00:00:00.000000000",
          "2015-04-01T00:00:00.000000000",
          "2015-05-01T00:00:00.000000000",
          "2015-06-01T00:00:00.000000000",
          "2015-07-01T00:00:00.000000000",
          "2015-08-01T00:00:00.000000000",
          "2015-09-01T00:00:00.000000000",
          "2015-10-01T00:00:00.000000000",
          "2015-11-01T00:00:00.000000000",
          "2015-12-01T00:00:00.000000000",
          "2016-01-01T00:00:00.000000000",
          "2016-02-01T00:00:00.000000000",
          "2016-03-01T00:00:00.000000000",
          "2016-04-01T00:00:00.000000000",
          "2016-05-01T00:00:00.000000000",
          "2016-06-01T00:00:00.000000000",
          "2016-07-01T00:00:00.000000000",
          "2016-08-01T00:00:00.000000000",
          "2016-09-01T00:00:00.000000000",
          "2016-10-01T00:00:00.000000000",
          "2016-11-01T00:00:00.000000000",
          "2016-12-01T00:00:00.000000000",
          "2017-01-01T00:00:00.000000000",
          "2017-02-01T00:00:00.000000000",
          "2017-03-01T00:00:00.000000000",
          "2017-04-01T00:00:00.000000000",
          "2017-05-01T00:00:00.000000000",
          "2017-06-01T00:00:00.000000000",
          "2017-07-01T00:00:00.000000000",
          "2017-08-01T00:00:00.000000000",
          "2017-09-01T00:00:00.000000000",
          "2017-10-01T00:00:00.000000000",
          "2017-11-01T00:00:00.000000000",
          "2017-12-01T00:00:00.000000000",
          "2018-01-01T00:00:00.000000000",
          "2018-02-01T00:00:00.000000000",
          "2018-03-01T00:00:00.000000000",
          "2018-04-01T00:00:00.000000000",
          "2018-05-01T00:00:00.000000000",
          "2018-06-01T00:00:00.000000000",
          "2018-07-01T00:00:00.000000000",
          "2018-08-01T00:00:00.000000000",
          "2018-09-01T00:00:00.000000000",
          "2018-10-01T00:00:00.000000000",
          "2018-11-01T00:00:00.000000000",
          "2018-12-01T00:00:00.000000000",
          "2019-01-01T00:00:00.000000000",
          "2019-02-01T00:00:00.000000000",
          "2019-03-01T00:00:00.000000000",
          "2019-04-01T00:00:00.000000000",
          "2019-05-01T00:00:00.000000000",
          "2019-06-01T00:00:00.000000000",
          "2019-07-01T00:00:00.000000000",
          "2019-08-01T00:00:00.000000000",
          "2019-09-01T00:00:00.000000000",
          "2019-10-01T00:00:00.000000000",
          "2019-11-01T00:00:00.000000000",
          "2019-12-01T00:00:00.000000000",
          "2020-01-01T00:00:00.000000000",
          "2020-02-01T00:00:00.000000000",
          "2020-03-01T00:00:00.000000000",
          "2020-04-01T00:00:00.000000000",
          "2020-05-01T00:00:00.000000000",
          "2020-06-01T00:00:00.000000000",
          "2020-07-01T00:00:00.000000000",
          "2020-08-01T00:00:00.000000000",
          "2020-09-01T00:00:00.000000000",
          "2020-10-01T00:00:00.000000000",
          "2020-11-01T00:00:00.000000000",
          "2020-12-01T00:00:00.000000000",
          "2021-01-01T00:00:00.000000000",
          "2021-02-01T00:00:00.000000000",
          "2021-03-01T00:00:00.000000000",
          "2021-04-01T00:00:00.000000000",
          "2021-05-01T00:00:00.000000000",
          "2021-06-01T00:00:00.000000000",
          "2021-07-01T00:00:00.000000000",
          "2021-08-01T00:00:00.000000000",
          "2021-09-01T00:00:00.000000000",
          "2021-10-01T00:00:00.000000000",
          "2021-11-01T00:00:00.000000000",
          "2021-12-01T00:00:00.000000000",
          "2022-01-01T00:00:00.000000000",
          "2022-02-01T00:00:00.000000000",
          "2022-03-01T00:00:00.000000000",
          "2022-04-01T00:00:00.000000000",
          "2022-05-01T00:00:00.000000000",
          "2022-06-01T00:00:00.000000000",
          "2022-07-01T00:00:00.000000000",
          "2022-08-01T00:00:00.000000000",
          "2022-09-01T00:00:00.000000000",
          "2022-10-01T00:00:00.000000000",
          "2022-11-01T00:00:00.000000000",
          "2022-12-01T00:00:00.000000000",
          "2023-01-01T00:00:00.000000000",
          "2023-02-01T00:00:00.000000000",
          "2023-03-01T00:00:00.000000000",
          "2023-04-01T00:00:00.000000000",
          "2023-05-01T00:00:00.000000000",
          "2023-06-01T00:00:00.000000000",
          "2023-07-01T00:00:00.000000000",
          "2023-08-01T00:00:00.000000000",
          "2023-09-01T00:00:00.000000000",
          "2023-10-01T00:00:00.000000000",
          "2023-11-01T00:00:00.000000000",
          "2023-12-01T00:00:00.000000000",
          "2024-01-01T00:00:00.000000000",
          "2024-02-01T00:00:00.000000000",
          "2024-03-01T00:00:00.000000000",
          "2024-04-01T00:00:00.000000000",
          "2024-05-01T00:00:00.000000000",
          "2024-06-01T00:00:00.000000000",
          "2024-07-01T00:00:00.000000000",
          "2024-08-01T00:00:00.000000000",
          "2024-09-01T00:00:00.000000000",
          "2024-10-01T00:00:00.000000000",
          "2024-11-01T00:00:00.000000000",
          "2024-12-01T00:00:00.000000000"
         ],
         "xaxis": "x",
         "y": {
          "bdata": "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",
          "dtype": "f8"
         },
         "yaxis": "y"
        }
       ],
       "layout": {
        "annotations": [
         {
          "align": "left",
          "bgcolor": "rgba(255, 255, 255, 0.8)",
          "bordercolor": "black",
          "borderwidth": 1,
          "font": {
           "size": 10
          },
          "showarrow": false,
          "text": "Source: Trading Economics<br>Original Source: European Commission<br>Frequency: MS<br>",
          "x": 0,
          "xanchor": "left",
          "xref": "paper",
          "y": -0.22,
          "yanchor": "bottom",
          "yref": "paper"
         }
        ],
        "legend": {
         "orientation": "h",
         "title": {
          "text": ""
         },
         "tracegroupgap": 0,
         "x": 0.5,
         "xanchor": "center",
         "y": -0.2,
         "yanchor": "bottom"
        },
        "margin": {
         "t": 60
        },
        "template": {
         "data": {
          "bar": [
           {
            "error_x": {
             "color": "#2a3f5f"
            },
            "error_y": {
             "color": "#2a3f5f"
            },
            "marker": {
             "line": {
              "color": "#E5ECF6",
              "width": 0.5
             },
             "pattern": {
              "fillmode": "overlay",
              "size": 10,
              "solidity": 0.2
             }
            },
            "type": "bar"
           }
          ],
          "barpolar": [
           {
            "marker": {
             "line": {
              "color": "#E5ECF6",
              "width": 0.5
             },
             "pattern": {
              "fillmode": "overlay",
              "size": 10,
              "solidity": 0.2
             }
            },
            "type": "barpolar"
           }
          ],
          "carpet": [
           {
            "aaxis": {
             "endlinecolor": "#2a3f5f",
             "gridcolor": "white",
             "linecolor": "white",
             "minorgridcolor": "white",
             "startlinecolor": "#2a3f5f"
            },
            "baxis": {
             "endlinecolor": "#2a3f5f",
             "gridcolor": "white",
             "linecolor": "white",
             "minorgridcolor": "white",
             "startlinecolor": "#2a3f5f"
            },
            "type": "carpet"
           }
          ],
          "choropleth": [
           {
            "colorbar": {
             "outlinewidth": 0,
             "ticks": ""
            },
            "type": "choropleth"
           }
          ],
          "contour": [
           {
            "colorbar": {
             "outlinewidth": 0,
             "ticks": ""
            },
            "colorscale": [
             [
              0,
              "#0d0887"
             ],
             [
              0.1111111111111111,
              "#46039f"
             ],
             [
              0.2222222222222222,
              "#7201a8"
             ],
             [
              0.3333333333333333,
              "#9c179e"
             ],
             [
              0.4444444444444444,
              "#bd3786"
             ],
             [
              0.5555555555555556,
              "#d8576b"
             ],
             [
              0.6666666666666666,
              "#ed7953"
             ],
             [
              0.7777777777777778,
              "#fb9f3a"
             ],
             [
              0.8888888888888888,
              "#fdca26"
             ],
             [
              1,
              "#f0f921"
             ]
            ],
            "type": "contour"
           }
          ],
          "contourcarpet": [
           {
            "colorbar": {
             "outlinewidth": 0,
             "ticks": ""
            },
            "type": "contourcarpet"
           }
          ],
          "heatmap": [
           {
            "colorbar": {
             "outlinewidth": 0,
             "ticks": ""
            },
            "colorscale": [
             [
              0,
              "#0d0887"
             ],
             [
              0.1111111111111111,
              "#46039f"
             ],
             [
              0.2222222222222222,
              "#7201a8"
             ],
             [
              0.3333333333333333,
              "#9c179e"
             ],
             [
              0.4444444444444444,
              "#bd3786"
             ],
             [
              0.5555555555555556,
              "#d8576b"
             ],
             [
              0.6666666666666666,
              "#ed7953"
             ],
             [
              0.7777777777777778,
              "#fb9f3a"
             ],
             [
              0.8888888888888888,
              "#fdca26"
             ],
             [
              1,
              "#f0f921"
             ]
            ],
            "type": "heatmap"
           }
          ],
          "histogram": [
           {
            "marker": {
             "pattern": {
              "fillmode": "overlay",
              "size": 10,
              "solidity": 0.2
             }
            },
            "type": "histogram"
           }
          ],
          "histogram2d": [
           {
            "colorbar": {
             "outlinewidth": 0,
             "ticks": ""
            },
            "colorscale": [
             [
              0,
              "#0d0887"
             ],
             [
              0.1111111111111111,
              "#46039f"
             ],
             [
              0.2222222222222222,
              "#7201a8"
             ],
             [
              0.3333333333333333,
              "#9c179e"
             ],
             [
              0.4444444444444444,
              "#bd3786"
             ],
             [
              0.5555555555555556,
              "#d8576b"
             ],
             [
              0.6666666666666666,
              "#ed7953"
             ],
             [
              0.7777777777777778,
              "#fb9f3a"
             ],
             [
              0.8888888888888888,
              "#fdca26"
             ],
             [
              1,
              "#f0f921"
             ]
            ],
            "type": "histogram2d"
           }
          ],
          "histogram2dcontour": [
           {
            "colorbar": {
             "outlinewidth": 0,
             "ticks": ""
            },
            "colorscale": [
             [
              0,
              "#0d0887"
             ],
             [
              0.1111111111111111,
              "#46039f"
             ],
             [
              0.2222222222222222,
              "#7201a8"
             ],
             [
              0.3333333333333333,
              "#9c179e"
             ],
             [
              0.4444444444444444,
              "#bd3786"
             ],
             [
              0.5555555555555556,
              "#d8576b"
             ],
             [
              0.6666666666666666,
              "#ed7953"
             ],
             [
              0.7777777777777778,
              "#fb9f3a"
             ],
             [
              0.8888888888888888,
              "#fdca26"
             ],
             [
              1,
              "#f0f921"
             ]
            ],
            "type": "histogram2dcontour"
           }
          ],
          "mesh3d": [
           {
            "colorbar": {
             "outlinewidth": 0,
             "ticks": ""
            },
            "type": "mesh3d"
           }
          ],
          "parcoords": [
           {
            "line": {
             "colorbar": {
              "outlinewidth": 0,
              "ticks": ""
             }
            },
            "type": "parcoords"
           }
          ],
          "pie": [
           {
            "automargin": true,
            "type": "pie"
           }
          ],
          "scatter": [
           {
            "fillpattern": {
             "fillmode": "overlay",
             "size": 10,
             "solidity": 0.2
            },
            "type": "scatter"
           }
          ],
          "scatter3d": [
           {
            "line": {
             "colorbar": {
              "outlinewidth": 0,
              "ticks": ""
             }
            },
            "marker": {
             "colorbar": {
              "outlinewidth": 0,
              "ticks": ""
             }
            },
            "type": "scatter3d"
           }
          ],
          "scattercarpet": [
           {
            "marker": {
             "colorbar": {
              "outlinewidth": 0,
              "ticks": ""
             }
            },
            "type": "scattercarpet"
           }
          ],
          "scattergeo": [
           {
            "marker": {
             "colorbar": {
              "outlinewidth": 0,
              "ticks": ""
             }
            },
            "type": "scattergeo"
           }
          ],
          "scattergl": [
           {
            "marker": {
             "colorbar": {
              "outlinewidth": 0,
              "ticks": ""
             }
            },
            "type": "scattergl"
           }
          ],
          "scattermap": [
           {
            "marker": {
             "colorbar": {
              "outlinewidth": 0,
              "ticks": ""
             }
            },
            "type": "scattermap"
           }
          ],
          "scattermapbox": [
           {
            "marker": {
             "colorbar": {
              "outlinewidth": 0,
              "ticks": ""
             }
            },
            "type": "scattermapbox"
           }
          ],
          "scatterpolar": [
           {
            "marker": {
             "colorbar": {
              "outlinewidth": 0,
              "ticks": ""
             }
            },
            "type": "scatterpolar"
           }
          ],
          "scatterpolargl": [
           {
            "marker": {
             "colorbar": {
              "outlinewidth": 0,
              "ticks": ""
             }
            },
            "type": "scatterpolargl"
           }
          ],
          "scatterternary": [
           {
            "marker": {
             "colorbar": {
              "outlinewidth": 0,
              "ticks": ""
             }
            },
            "type": "scatterternary"
           }
          ],
          "surface": [
           {
            "colorbar": {
             "outlinewidth": 0,
             "ticks": ""
            },
            "colorscale": [
             [
              0,
              "#0d0887"
             ],
             [
              0.1111111111111111,
              "#46039f"
             ],
             [
              0.2222222222222222,
              "#7201a8"
             ],
             [
              0.3333333333333333,
              "#9c179e"
             ],
             [
              0.4444444444444444,
              "#bd3786"
             ],
             [
              0.5555555555555556,
              "#d8576b"
             ],
             [
              0.6666666666666666,
              "#ed7953"
             ],
             [
              0.7777777777777778,
              "#fb9f3a"
             ],
             [
              0.8888888888888888,
              "#fdca26"
             ],
             [
              1,
              "#f0f921"
             ]
            ],
            "type": "surface"
           }
          ],
          "table": [
           {
            "cells": {
             "fill": {
              "color": "#EBF0F8"
             },
             "line": {
              "color": "white"
             }
            },
            "header": {
             "fill": {
              "color": "#C8D4E3"
             },
             "line": {
              "color": "white"
             }
            },
            "type": "table"
           }
          ]
         },
         "layout": {
          "annotationdefaults": {
           "arrowcolor": "#2a3f5f",
           "arrowhead": 0,
           "arrowwidth": 1
          },
          "autotypenumbers": "strict",
          "coloraxis": {
           "colorbar": {
            "outlinewidth": 0,
            "ticks": ""
           }
          },
          "colorscale": {
           "diverging": [
            [
             0,
             "#8e0152"
            ],
            [
             0.1,
             "#c51b7d"
            ],
            [
             0.2,
             "#de77ae"
            ],
            [
             0.3,
             "#f1b6da"
            ],
            [
             0.4,
             "#fde0ef"
            ],
            [
             0.5,
             "#f7f7f7"
            ],
            [
             0.6,
             "#e6f5d0"
            ],
            [
             0.7,
             "#b8e186"
            ],
            [
             0.8,
             "#7fbc41"
            ],
            [
             0.9,
             "#4d9221"
            ],
            [
             1,
             "#276419"
            ]
           ],
           "sequential": [
            [
             0,
             "#0d0887"
            ],
            [
             0.1111111111111111,
             "#46039f"
            ],
            [
             0.2222222222222222,
             "#7201a8"
            ],
            [
             0.3333333333333333,
             "#9c179e"
            ],
            [
             0.4444444444444444,
             "#bd3786"
            ],
            [
             0.5555555555555556,
             "#d8576b"
            ],
            [
             0.6666666666666666,
             "#ed7953"
            ],
            [
             0.7777777777777778,
             "#fb9f3a"
            ],
            [
             0.8888888888888888,
             "#fdca26"
            ],
            [
             1,
             "#f0f921"
            ]
           ],
           "sequentialminus": [
            [
             0,
             "#0d0887"
            ],
            [
             0.1111111111111111,
             "#46039f"
            ],
            [
             0.2222222222222222,
             "#7201a8"
            ],
            [
             0.3333333333333333,
             "#9c179e"
            ],
            [
             0.4444444444444444,
             "#bd3786"
            ],
            [
             0.5555555555555556,
             "#d8576b"
            ],
            [
             0.6666666666666666,
             "#ed7953"
            ],
            [
             0.7777777777777778,
             "#fb9f3a"
            ],
            [
             0.8888888888888888,
             "#fdca26"
            ],
            [
             1,
             "#f0f921"
            ]
           ]
          },
          "colorway": [
           "#636efa",
           "#EF553B",
           "#00cc96",
           "#ab63fa",
           "#FFA15A",
           "#19d3f3",
           "#FF6692",
           "#B6E880",
           "#FF97FF",
           "#FECB52"
          ],
          "font": {
           "color": "#2a3f5f"
          },
          "geo": {
           "bgcolor": "white",
           "lakecolor": "white",
           "landcolor": "#E5ECF6",
           "showlakes": true,
           "showland": true,
           "subunitcolor": "white"
          },
          "hoverlabel": {
           "align": "left"
          },
          "hovermode": "closest",
          "mapbox": {
           "style": "light"
          },
          "paper_bgcolor": "white",
          "plot_bgcolor": "#E5ECF6",
          "polar": {
           "angularaxis": {
            "gridcolor": "white",
            "linecolor": "white",
            "ticks": ""
           },
           "bgcolor": "#E5ECF6",
           "radialaxis": {
            "gridcolor": "white",
            "linecolor": "white",
            "ticks": ""
           }
          },
          "scene": {
           "xaxis": {
            "backgroundcolor": "#E5ECF6",
            "gridcolor": "white",
            "gridwidth": 2,
            "linecolor": "white",
            "showbackground": true,
            "ticks": "",
            "zerolinecolor": "white"
           },
           "yaxis": {
            "backgroundcolor": "#E5ECF6",
            "gridcolor": "white",
            "gridwidth": 2,
            "linecolor": "white",
            "showbackground": true,
            "ticks": "",
            "zerolinecolor": "white"
           },
           "zaxis": {
            "backgroundcolor": "#E5ECF6",
            "gridcolor": "white",
            "gridwidth": 2,
            "linecolor": "white",
            "showbackground": true,
            "ticks": "",
            "zerolinecolor": "white"
           }
          },
          "shapedefaults": {
           "line": {
            "color": "#2a3f5f"
           }
          },
          "ternary": {
           "aaxis": {
            "gridcolor": "white",
            "linecolor": "white",
            "ticks": ""
           },
           "baxis": {
            "gridcolor": "white",
            "linecolor": "white",
            "ticks": ""
           },
           "bgcolor": "#E5ECF6",
           "caxis": {
            "gridcolor": "white",
            "linecolor": "white",
            "ticks": ""
           }
          },
          "title": {
           "x": 0.05
          },
          "xaxis": {
           "automargin": true,
           "gridcolor": "white",
           "linecolor": "white",
           "ticks": "",
           "title": {
            "standoff": 15
           },
           "zerolinecolor": "white",
           "zerolinewidth": 2
          },
          "yaxis": {
           "automargin": true,
           "gridcolor": "white",
           "linecolor": "white",
           "ticks": "",
           "title": {
            "standoff": 15
           },
           "zerolinecolor": "white",
           "zerolinewidth": 2
          }
         }
        },
        "title": {
         "text": "Euro area: Euro area consumer confidence"
        },
        "xaxis": {
         "anchor": "y",
         "domain": [
          0,
          1
         ],
         "title": {
          "text": ""
         }
        },
        "yaxis": {
         "anchor": "x",
         "domain": [
          0,
          1
         ],
         "title": {
          "text": "Points"
         }
        }
       }
      }
     },
     "metadata": {},
     "output_type": "display_data"
    }
   ],
   "source": [
    "scrap.plot_series(ann_box_pos=(0, -0.22))  ## Plot the series specifying ths series as the on to plot rather than the series attribute of the TE_Scraper."
   ]
  },
  {
   "cell_type": "markdown",
   "metadata": {},
   "source": [
    "The alternative method has now been implemented as an option in ```scrape_chart``` function. Use method = \"tooltips\" to use it. Take care as it will miss some points if the history is long and the total datapoint are many. In that case a series could be scraped in two runs of this method, using \"custom_date_span\" method to set first half and second half of the history..."
   ]
  },
  {
   "cell_type": "code",
   "execution_count": 30,
   "metadata": {},
   "outputs": [
    {
     "name": "stderr",
     "output_type": "stream",
     "text": [
      "INFO - scrape_chart function: Scraping chart at: https://tradingeconomics.com/euro-area/gdp-growth-annual, time: 2025-02-26 16:44:29.658522, method: tooltips\n"
     ]
    },
    {
     "name": "stdout",
     "output_type": "stream",
     "text": [
      "Error loading page: Message: Failed to write request to stream\n",
      "\n",
      "Error loading page at:  https://tradingeconomics.com/euro-area/gdp-growth-annual\n"
     ]
    }
   ],
   "source": [
    "scro = ted.scrape_chart(country=\"euro-area\", id = \"gdp-growth-annual\", method = \"tooltips\", headless=True) ## Using chart id from the url only, country is \"united-states\" by default."
   ]
  },
  {
   "cell_type": "code",
   "execution_count": 14,
   "metadata": {},
   "outputs": [
    {
     "data": {
      "application/vnd.plotly.v1+json": {
       "config": {
        "plotlyServerURL": "https://plot.ly"
       },
       "data": [
        {
         "hovertemplate": "variable=tooltip_data<br>index=%{x}<br>value=%{y}<extra></extra>",
         "legendgroup": "tooltip_data",
         "line": {
          "color": "#636efa",
          "dash": "solid"
         },
         "marker": {
          "symbol": "circle"
         },
         "mode": "lines",
         "name": "tooltip_data",
         "orientation": "v",
         "showlegend": true,
         "type": "scatter",
         "x": [
          "1995-01-01T00:00:00.000000000",
          "1995-04-01T00:00:00.000000000",
          "1995-07-01T00:00:00.000000000",
          "1995-10-01T00:00:00.000000000",
          "1996-01-01T00:00:00.000000000",
          "1996-04-01T00:00:00.000000000",
          "1996-07-01T00:00:00.000000000",
          "1996-10-01T00:00:00.000000000",
          "1997-01-01T00:00:00.000000000",
          "1997-04-01T00:00:00.000000000",
          "1997-07-01T00:00:00.000000000",
          "1997-10-01T00:00:00.000000000",
          "1998-01-01T00:00:00.000000000",
          "1998-04-01T00:00:00.000000000",
          "1998-07-01T00:00:00.000000000",
          "1998-10-01T00:00:00.000000000",
          "1999-01-01T00:00:00.000000000",
          "1999-04-01T00:00:00.000000000",
          "1999-07-01T00:00:00.000000000",
          "1999-10-01T00:00:00.000000000",
          "2000-01-01T00:00:00.000000000",
          "2000-04-01T00:00:00.000000000",
          "2000-07-01T00:00:00.000000000",
          "2000-10-01T00:00:00.000000000",
          "2001-01-01T00:00:00.000000000",
          "2001-04-01T00:00:00.000000000",
          "2001-07-01T00:00:00.000000000",
          "2001-10-01T00:00:00.000000000",
          "2002-01-01T00:00:00.000000000",
          "2002-04-01T00:00:00.000000000",
          "2002-07-01T00:00:00.000000000",
          "2002-10-01T00:00:00.000000000",
          "2003-01-01T00:00:00.000000000",
          "2003-04-01T00:00:00.000000000",
          "2003-07-01T00:00:00.000000000",
          "2003-10-01T00:00:00.000000000",
          "2004-01-01T00:00:00.000000000",
          "2004-04-01T00:00:00.000000000",
          "2004-07-01T00:00:00.000000000",
          "2004-10-01T00:00:00.000000000",
          "2005-01-01T00:00:00.000000000",
          "2005-04-01T00:00:00.000000000",
          "2005-07-01T00:00:00.000000000",
          "2005-10-01T00:00:00.000000000",
          "2006-01-01T00:00:00.000000000",
          "2006-04-01T00:00:00.000000000",
          "2006-07-01T00:00:00.000000000",
          "2006-10-01T00:00:00.000000000",
          "2007-01-01T00:00:00.000000000",
          "2007-04-01T00:00:00.000000000",
          "2007-07-01T00:00:00.000000000",
          "2007-10-01T00:00:00.000000000",
          "2008-01-01T00:00:00.000000000",
          "2008-04-01T00:00:00.000000000",
          "2008-07-01T00:00:00.000000000",
          "2008-10-01T00:00:00.000000000",
          "2009-01-01T00:00:00.000000000",
          "2009-04-01T00:00:00.000000000",
          "2009-07-01T00:00:00.000000000",
          "2009-10-01T00:00:00.000000000",
          "2010-01-01T00:00:00.000000000",
          "2010-04-01T00:00:00.000000000",
          "2010-07-01T00:00:00.000000000",
          "2010-10-01T00:00:00.000000000",
          "2011-01-01T00:00:00.000000000",
          "2011-04-01T00:00:00.000000000",
          "2011-07-01T00:00:00.000000000",
          "2011-10-01T00:00:00.000000000",
          "2012-01-01T00:00:00.000000000",
          "2012-04-01T00:00:00.000000000",
          "2012-07-01T00:00:00.000000000",
          "2012-10-01T00:00:00.000000000",
          "2013-01-01T00:00:00.000000000",
          "2013-04-01T00:00:00.000000000",
          "2013-07-01T00:00:00.000000000",
          "2013-10-01T00:00:00.000000000",
          "2014-01-01T00:00:00.000000000",
          "2014-04-01T00:00:00.000000000",
          "2014-07-01T00:00:00.000000000",
          "2014-10-01T00:00:00.000000000",
          "2015-01-01T00:00:00.000000000",
          "2015-04-01T00:00:00.000000000",
          "2015-07-01T00:00:00.000000000",
          "2015-10-01T00:00:00.000000000",
          "2016-01-01T00:00:00.000000000",
          "2016-04-01T00:00:00.000000000",
          "2016-07-01T00:00:00.000000000",
          "2016-10-01T00:00:00.000000000",
          "2017-01-01T00:00:00.000000000",
          "2017-04-01T00:00:00.000000000",
          "2017-07-01T00:00:00.000000000",
          "2017-10-01T00:00:00.000000000",
          "2018-01-01T00:00:00.000000000",
          "2018-04-01T00:00:00.000000000",
          "2018-07-01T00:00:00.000000000",
          "2018-10-01T00:00:00.000000000",
          "2019-01-01T00:00:00.000000000",
          "2019-04-01T00:00:00.000000000",
          "2019-07-01T00:00:00.000000000",
          "2019-10-01T00:00:00.000000000",
          "2020-01-01T00:00:00.000000000",
          "2020-04-01T00:00:00.000000000",
          "2020-07-01T00:00:00.000000000",
          "2020-10-01T00:00:00.000000000",
          "2021-01-01T00:00:00.000000000",
          "2021-04-01T00:00:00.000000000",
          "2021-07-01T00:00:00.000000000",
          "2021-10-01T00:00:00.000000000",
          "2022-01-01T00:00:00.000000000",
          "2022-04-01T00:00:00.000000000",
          "2022-07-01T00:00:00.000000000",
          "2022-10-01T00:00:00.000000000",
          "2023-01-01T00:00:00.000000000",
          "2023-04-01T00:00:00.000000000",
          "2023-07-01T00:00:00.000000000",
          "2023-10-01T00:00:00.000000000",
          "2024-01-01T00:00:00.000000000",
          "2024-04-01T00:00:00.000000000",
          "2024-07-01T00:00:00.000000000",
          "2024-10-01T00:00:00.000000000"
         ],
         "xaxis": "x",
         "y": {
          "bdata": "AAAAAAAAFECamZmZmZkTQJqZmZmZmRFAZmZmZmZmDkBmZmZmZmb2P2ZmZmZmZvY/mpmZmZmZ+T8AAAAAAAAAQM3MzMzMzABAAAAAAAAABEBmZmZmZmYGQGZmZmZmZgpAmpmZmZmZDUAzMzMzMzMHQJqZmZmZmQVAZmZmZmZm/j9mZmZmZmYCQGZmZmZmZgJAmpmZmZmZCUAAAAAAAAAQQM3MzMzMzBBAzczMzMzMEkAzMzMzMzMPQGZmZmZmZgpAmpmZmZmZCUBmZmZmZmYCQM3MzMzMzPw/zczMzMzM9D+amZmZmZnZP5qZmZmZmek/AAAAAAAA8D/NzMzMzMz0P5qZmZmZmek/MzMzMzMz0z8AAAAAAADgPwAAAAAAAPA/zczMzMzM/D8zMzMzMzMDQAAAAAAAAABAzczMzMzM/D8AAAAAAAD4PwAAAAAAAPg/AAAAAAAAAEBmZmZmZmYCQAAAAAAAAAhAAAAAAAAADECamZmZmZkJQJqZmZmZmQ1AAAAAAAAADEAAAAAAAAAIQDMzMzMzMwdAmpmZmZmZAUCamZmZmZkBQAAAAAAAAPA/mpmZmZmZuT/NzMzMzMwAwGZmZmZmZhbAZmZmZmZmFMAzMzMzMzMRwJqZmZmZmQHAzczMzMzM9D+amZmZmZkBQJqZmZmZmQFAMzMzMzMzA0AzMzMzMzMHQAAAAAAAAABAmpmZmZmZ+T9mZmZmZmbmPwAAAAAAAOC/zczMzMzM7L+amZmZmZnxvzMzMzMzM/O/zczMzMzM9L8zMzMzMzPTv5qZmZmZmck/zczMzMzM7D8zMzMzMzP7PzMzMzMzM/M/ZmZmZmZm9j8AAAAAAAD4P2ZmZmZmZv4/zczMzMzMAEAAAAAAAAAAQM3MzMzMzABAZmZmZmZm/j+amZmZmZn5PzMzMzMzM/s/ZmZmZmZm/j+amZmZmZkBQJqZmZmZmQVAAAAAAAAACEDNzMzMzMwIQGZmZmZmZgJAzczMzMzMAEBmZmZmZmb2PzMzMzMzM/M/zczMzMzM/D8zMzMzMzP7P83MzMzMzPw/MzMzMzMz8z9mZmZmZmYGwM3MzMzMzCvAZmZmZmZmEMBmZmZmZmYOwJqZmZmZmck/ZmZmZmZmLkBmZmZmZmYUQAAAAAAAABZAAAAAAAAAFkBmZmZmZmYQQGZmZmZmZgZAAAAAAAAAAEBmZmZmZmb2PzMzMzMzM+M/AAAAAAAAAACamZmZmZm5P5qZmZmZmdk/AAAAAAAA4D/NzMzMzMzsP83MzMzMzOw/",
          "dtype": "f8"
         },
         "yaxis": "y"
        }
       ],
       "layout": {
        "annotations": [
         {
          "align": "left",
          "bgcolor": "rgba(255, 255, 255, 0.8)",
          "bordercolor": "black",
          "borderwidth": 1,
          "font": {
           "size": 10
          },
          "showarrow": false,
          "text": "Source: Trading Economics<br>Original Source: EUROSTAT<br>Frequency: QS-OCT<br>",
          "x": 0,
          "xanchor": "left",
          "xref": "paper",
          "y": -0.2,
          "yanchor": "bottom",
          "yref": "paper"
         }
        ],
        "legend": {
         "orientation": "h",
         "title": {
          "text": ""
         },
         "tracegroupgap": 0,
         "x": 0.5,
         "xanchor": "center",
         "y": -0.2,
         "yanchor": "bottom"
        },
        "margin": {
         "t": 60
        },
        "template": {
         "data": {
          "bar": [
           {
            "error_x": {
             "color": "#2a3f5f"
            },
            "error_y": {
             "color": "#2a3f5f"
            },
            "marker": {
             "line": {
              "color": "#E5ECF6",
              "width": 0.5
             },
             "pattern": {
              "fillmode": "overlay",
              "size": 10,
              "solidity": 0.2
             }
            },
            "type": "bar"
           }
          ],
          "barpolar": [
           {
            "marker": {
             "line": {
              "color": "#E5ECF6",
              "width": 0.5
             },
             "pattern": {
              "fillmode": "overlay",
              "size": 10,
              "solidity": 0.2
             }
            },
            "type": "barpolar"
           }
          ],
          "carpet": [
           {
            "aaxis": {
             "endlinecolor": "#2a3f5f",
             "gridcolor": "white",
             "linecolor": "white",
             "minorgridcolor": "white",
             "startlinecolor": "#2a3f5f"
            },
            "baxis": {
             "endlinecolor": "#2a3f5f",
             "gridcolor": "white",
             "linecolor": "white",
             "minorgridcolor": "white",
             "startlinecolor": "#2a3f5f"
            },
            "type": "carpet"
           }
          ],
          "choropleth": [
           {
            "colorbar": {
             "outlinewidth": 0,
             "ticks": ""
            },
            "type": "choropleth"
           }
          ],
          "contour": [
           {
            "colorbar": {
             "outlinewidth": 0,
             "ticks": ""
            },
            "colorscale": [
             [
              0,
              "#0d0887"
             ],
             [
              0.1111111111111111,
              "#46039f"
             ],
             [
              0.2222222222222222,
              "#7201a8"
             ],
             [
              0.3333333333333333,
              "#9c179e"
             ],
             [
              0.4444444444444444,
              "#bd3786"
             ],
             [
              0.5555555555555556,
              "#d8576b"
             ],
             [
              0.6666666666666666,
              "#ed7953"
             ],
             [
              0.7777777777777778,
              "#fb9f3a"
             ],
             [
              0.8888888888888888,
              "#fdca26"
             ],
             [
              1,
              "#f0f921"
             ]
            ],
            "type": "contour"
           }
          ],
          "contourcarpet": [
           {
            "colorbar": {
             "outlinewidth": 0,
             "ticks": ""
            },
            "type": "contourcarpet"
           }
          ],
          "heatmap": [
           {
            "colorbar": {
             "outlinewidth": 0,
             "ticks": ""
            },
            "colorscale": [
             [
              0,
              "#0d0887"
             ],
             [
              0.1111111111111111,
              "#46039f"
             ],
             [
              0.2222222222222222,
              "#7201a8"
             ],
             [
              0.3333333333333333,
              "#9c179e"
             ],
             [
              0.4444444444444444,
              "#bd3786"
             ],
             [
              0.5555555555555556,
              "#d8576b"
             ],
             [
              0.6666666666666666,
              "#ed7953"
             ],
             [
              0.7777777777777778,
              "#fb9f3a"
             ],
             [
              0.8888888888888888,
              "#fdca26"
             ],
             [
              1,
              "#f0f921"
             ]
            ],
            "type": "heatmap"
           }
          ],
          "histogram": [
           {
            "marker": {
             "pattern": {
              "fillmode": "overlay",
              "size": 10,
              "solidity": 0.2
             }
            },
            "type": "histogram"
           }
          ],
          "histogram2d": [
           {
            "colorbar": {
             "outlinewidth": 0,
             "ticks": ""
            },
            "colorscale": [
             [
              0,
              "#0d0887"
             ],
             [
              0.1111111111111111,
              "#46039f"
             ],
             [
              0.2222222222222222,
              "#7201a8"
             ],
             [
              0.3333333333333333,
              "#9c179e"
             ],
             [
              0.4444444444444444,
              "#bd3786"
             ],
             [
              0.5555555555555556,
              "#d8576b"
             ],
             [
              0.6666666666666666,
              "#ed7953"
             ],
             [
              0.7777777777777778,
              "#fb9f3a"
             ],
             [
              0.8888888888888888,
              "#fdca26"
             ],
             [
              1,
              "#f0f921"
             ]
            ],
            "type": "histogram2d"
           }
          ],
          "histogram2dcontour": [
           {
            "colorbar": {
             "outlinewidth": 0,
             "ticks": ""
            },
            "colorscale": [
             [
              0,
              "#0d0887"
             ],
             [
              0.1111111111111111,
              "#46039f"
             ],
             [
              0.2222222222222222,
              "#7201a8"
             ],
             [
              0.3333333333333333,
              "#9c179e"
             ],
             [
              0.4444444444444444,
              "#bd3786"
             ],
             [
              0.5555555555555556,
              "#d8576b"
             ],
             [
              0.6666666666666666,
              "#ed7953"
             ],
             [
              0.7777777777777778,
              "#fb9f3a"
             ],
             [
              0.8888888888888888,
              "#fdca26"
             ],
             [
              1,
              "#f0f921"
             ]
            ],
            "type": "histogram2dcontour"
           }
          ],
          "mesh3d": [
           {
            "colorbar": {
             "outlinewidth": 0,
             "ticks": ""
            },
            "type": "mesh3d"
           }
          ],
          "parcoords": [
           {
            "line": {
             "colorbar": {
              "outlinewidth": 0,
              "ticks": ""
             }
            },
            "type": "parcoords"
           }
          ],
          "pie": [
           {
            "automargin": true,
            "type": "pie"
           }
          ],
          "scatter": [
           {
            "fillpattern": {
             "fillmode": "overlay",
             "size": 10,
             "solidity": 0.2
            },
            "type": "scatter"
           }
          ],
          "scatter3d": [
           {
            "line": {
             "colorbar": {
              "outlinewidth": 0,
              "ticks": ""
             }
            },
            "marker": {
             "colorbar": {
              "outlinewidth": 0,
              "ticks": ""
             }
            },
            "type": "scatter3d"
           }
          ],
          "scattercarpet": [
           {
            "marker": {
             "colorbar": {
              "outlinewidth": 0,
              "ticks": ""
             }
            },
            "type": "scattercarpet"
           }
          ],
          "scattergeo": [
           {
            "marker": {
             "colorbar": {
              "outlinewidth": 0,
              "ticks": ""
             }
            },
            "type": "scattergeo"
           }
          ],
          "scattergl": [
           {
            "marker": {
             "colorbar": {
              "outlinewidth": 0,
              "ticks": ""
             }
            },
            "type": "scattergl"
           }
          ],
          "scattermap": [
           {
            "marker": {
             "colorbar": {
              "outlinewidth": 0,
              "ticks": ""
             }
            },
            "type": "scattermap"
           }
          ],
          "scattermapbox": [
           {
            "marker": {
             "colorbar": {
              "outlinewidth": 0,
              "ticks": ""
             }
            },
            "type": "scattermapbox"
           }
          ],
          "scatterpolar": [
           {
            "marker": {
             "colorbar": {
              "outlinewidth": 0,
              "ticks": ""
             }
            },
            "type": "scatterpolar"
           }
          ],
          "scatterpolargl": [
           {
            "marker": {
             "colorbar": {
              "outlinewidth": 0,
              "ticks": ""
             }
            },
            "type": "scatterpolargl"
           }
          ],
          "scatterternary": [
           {
            "marker": {
             "colorbar": {
              "outlinewidth": 0,
              "ticks": ""
             }
            },
            "type": "scatterternary"
           }
          ],
          "surface": [
           {
            "colorbar": {
             "outlinewidth": 0,
             "ticks": ""
            },
            "colorscale": [
             [
              0,
              "#0d0887"
             ],
             [
              0.1111111111111111,
              "#46039f"
             ],
             [
              0.2222222222222222,
              "#7201a8"
             ],
             [
              0.3333333333333333,
              "#9c179e"
             ],
             [
              0.4444444444444444,
              "#bd3786"
             ],
             [
              0.5555555555555556,
              "#d8576b"
             ],
             [
              0.6666666666666666,
              "#ed7953"
             ],
             [
              0.7777777777777778,
              "#fb9f3a"
             ],
             [
              0.8888888888888888,
              "#fdca26"
             ],
             [
              1,
              "#f0f921"
             ]
            ],
            "type": "surface"
           }
          ],
          "table": [
           {
            "cells": {
             "fill": {
              "color": "#EBF0F8"
             },
             "line": {
              "color": "white"
             }
            },
            "header": {
             "fill": {
              "color": "#C8D4E3"
             },
             "line": {
              "color": "white"
             }
            },
            "type": "table"
           }
          ]
         },
         "layout": {
          "annotationdefaults": {
           "arrowcolor": "#2a3f5f",
           "arrowhead": 0,
           "arrowwidth": 1
          },
          "autotypenumbers": "strict",
          "coloraxis": {
           "colorbar": {
            "outlinewidth": 0,
            "ticks": ""
           }
          },
          "colorscale": {
           "diverging": [
            [
             0,
             "#8e0152"
            ],
            [
             0.1,
             "#c51b7d"
            ],
            [
             0.2,
             "#de77ae"
            ],
            [
             0.3,
             "#f1b6da"
            ],
            [
             0.4,
             "#fde0ef"
            ],
            [
             0.5,
             "#f7f7f7"
            ],
            [
             0.6,
             "#e6f5d0"
            ],
            [
             0.7,
             "#b8e186"
            ],
            [
             0.8,
             "#7fbc41"
            ],
            [
             0.9,
             "#4d9221"
            ],
            [
             1,
             "#276419"
            ]
           ],
           "sequential": [
            [
             0,
             "#0d0887"
            ],
            [
             0.1111111111111111,
             "#46039f"
            ],
            [
             0.2222222222222222,
             "#7201a8"
            ],
            [
             0.3333333333333333,
             "#9c179e"
            ],
            [
             0.4444444444444444,
             "#bd3786"
            ],
            [
             0.5555555555555556,
             "#d8576b"
            ],
            [
             0.6666666666666666,
             "#ed7953"
            ],
            [
             0.7777777777777778,
             "#fb9f3a"
            ],
            [
             0.8888888888888888,
             "#fdca26"
            ],
            [
             1,
             "#f0f921"
            ]
           ],
           "sequentialminus": [
            [
             0,
             "#0d0887"
            ],
            [
             0.1111111111111111,
             "#46039f"
            ],
            [
             0.2222222222222222,
             "#7201a8"
            ],
            [
             0.3333333333333333,
             "#9c179e"
            ],
            [
             0.4444444444444444,
             "#bd3786"
            ],
            [
             0.5555555555555556,
             "#d8576b"
            ],
            [
             0.6666666666666666,
             "#ed7953"
            ],
            [
             0.7777777777777778,
             "#fb9f3a"
            ],
            [
             0.8888888888888888,
             "#fdca26"
            ],
            [
             1,
             "#f0f921"
            ]
           ]
          },
          "colorway": [
           "#636efa",
           "#EF553B",
           "#00cc96",
           "#ab63fa",
           "#FFA15A",
           "#19d3f3",
           "#FF6692",
           "#B6E880",
           "#FF97FF",
           "#FECB52"
          ],
          "font": {
           "color": "#2a3f5f"
          },
          "geo": {
           "bgcolor": "white",
           "lakecolor": "white",
           "landcolor": "#E5ECF6",
           "showlakes": true,
           "showland": true,
           "subunitcolor": "white"
          },
          "hoverlabel": {
           "align": "left"
          },
          "hovermode": "closest",
          "mapbox": {
           "style": "light"
          },
          "paper_bgcolor": "white",
          "plot_bgcolor": "#E5ECF6",
          "polar": {
           "angularaxis": {
            "gridcolor": "white",
            "linecolor": "white",
            "ticks": ""
           },
           "bgcolor": "#E5ECF6",
           "radialaxis": {
            "gridcolor": "white",
            "linecolor": "white",
            "ticks": ""
           }
          },
          "scene": {
           "xaxis": {
            "backgroundcolor": "#E5ECF6",
            "gridcolor": "white",
            "gridwidth": 2,
            "linecolor": "white",
            "showbackground": true,
            "ticks": "",
            "zerolinecolor": "white"
           },
           "yaxis": {
            "backgroundcolor": "#E5ECF6",
            "gridcolor": "white",
            "gridwidth": 2,
            "linecolor": "white",
            "showbackground": true,
            "ticks": "",
            "zerolinecolor": "white"
           },
           "zaxis": {
            "backgroundcolor": "#E5ECF6",
            "gridcolor": "white",
            "gridwidth": 2,
            "linecolor": "white",
            "showbackground": true,
            "ticks": "",
            "zerolinecolor": "white"
           }
          },
          "shapedefaults": {
           "line": {
            "color": "#2a3f5f"
           }
          },
          "ternary": {
           "aaxis": {
            "gridcolor": "white",
            "linecolor": "white",
            "ticks": ""
           },
           "baxis": {
            "gridcolor": "white",
            "linecolor": "white",
            "ticks": ""
           },
           "bgcolor": "#E5ECF6",
           "caxis": {
            "gridcolor": "white",
            "linecolor": "white",
            "ticks": ""
           }
          },
          "title": {
           "x": 0.05
          },
          "xaxis": {
           "automargin": true,
           "gridcolor": "white",
           "linecolor": "white",
           "ticks": "",
           "title": {
            "standoff": 15
           },
           "zerolinecolor": "white",
           "zerolinewidth": 2
          },
          "yaxis": {
           "automargin": true,
           "gridcolor": "white",
           "linecolor": "white",
           "ticks": "",
           "title": {
            "standoff": 15
           },
           "zerolinecolor": "white",
           "zerolinewidth": 2
          }
         }
        },
        "title": {
         "text": "Euro area: Euro area gdp annual growth rate"
        },
        "xaxis": {
         "anchor": "y",
         "domain": [
          0,
          1
         ],
         "title": {
          "text": ""
         }
        },
        "yaxis": {
         "anchor": "x",
         "domain": [
          0,
          1
         ],
         "title": {
          "text": "%"
         }
        }
       }
      }
     },
     "metadata": {},
     "output_type": "display_data"
    }
   ],
   "source": [
    "scro.plot_series()  ## Plot the series."
   ]
  },
  {
   "cell_type": "markdown",
   "metadata": {},
   "source": [
    "## Here we have the ultimate high accuracy, high time required method\n",
    "This method is selected using ```method = \"mixed\"``` keyword argument of the ```scrape_chart``` function. This first determines the start & end dates for the full series, calculates frequency and makes the x_index. It then uses multiple runs of the tooltip scraping method to get all of the data at the highest accuracy."
   ]
  },
  {
   "cell_type": "code",
   "execution_count": 18,
   "metadata": {},
   "outputs": [
    {
     "name": "stderr",
     "output_type": "stream",
     "text": [
      "INFO - Quitting 1 active webdriver instances...\n"
     ]
    },
    {
     "data": {
      "text/plain": [
       "[]"
      ]
     },
     "execution_count": 18,
     "metadata": {},
     "output_type": "execute_result"
    }
   ],
   "source": [
    "from tedata import base\n",
    "base.find_active_drivers(quit_all=True)  ## Quit all active drivers."
   ]
  },
  {
   "cell_type": "code",
   "execution_count": 10,
   "metadata": {},
   "outputs": [
    {
     "name": "stderr",
     "output_type": "stream",
     "text": [
      "INFO - New firefox webdriver created.\n",
      "INFO - scrape_chart function: Scraping chart at: https://tradingeconomics.com/united-states/existing-home-sales, time: 2025-02-27 15:25:46.601170, method: mixed\n",
      "INFO - Chart types dictionary created successfully: dict_keys(['Column', 'Spline', 'Areaspline', 'Stepline', 'Line', 'Area'])\n",
      "INFO - Date span set to: 1Y\n",
      "INFO - \n",
      "Series metadata: \n",
      " {'units': 'Thousand', 'original_source': 'National Association of Realtors', 'title': 'United States Existing Home Sales', 'indicator': 'existing home sales', 'country': 'united states', 'source': 'Trading Economics', 'id': 'united-states/existing-home-sales'}\n"
     ]
    },
    {
     "name": "stdout",
     "output_type": "stream",
     "text": [
      "Using selenium and tooltip scraping to construct the date time index for the time-series, this'll take a bit...\n",
      "Attempting to select chart type:  Spline clicking top button....\n"
     ]
    },
    {
     "name": "stderr",
     "output_type": "stream",
     "text": [
      "INFO - Chart type set to: Spline\n"
     ]
    },
    {
     "name": "stdout",
     "output_type": "stream",
     "text": [
      "Time taken to select chart type: 3.2657594999764115\n",
      "Time taken to load JS code: 0.00037700007669627666\n",
      "Time taken to execute JS code: 2.915355399949476\n",
      "Latest dates:  ['Jan 2025', 'Dec 2024', 'Nov 2024', 'Oct 2024', 'Sep 2024', 'Aug 2024', 'Jul 2024', 'Jun 2024', 'May 2024', 'Apr 2024']\n",
      "Frequency of time-series:  MS\n",
      "get_xlims_from_tooltips method: date_span:  1Y , chart_type: splineChart\n",
      "Attempting to select chart type:  Spline clicking top button....\n"
     ]
    },
    {
     "name": "stderr",
     "output_type": "stream",
     "text": [
      "INFO - Chart type set to: Spline\n"
     ]
    },
    {
     "name": "stdout",
     "output_type": "stream",
     "text": [
      "Got chart dimensions and plot background element.\n"
     ]
    },
    {
     "name": "stderr",
     "output_type": "stream",
     "text": [
      "INFO - Start and end values scraped from tooltips: \n",
      "{'start_date': Timestamp('1968-01-01 00:00:00'), 'start_value': 1420.0, 'end_date': Timestamp('2025-01-01 00:00:00'), 'end_value': 4080.0}\n",
      "INFO - DateTimeIndex created successfully for the time-series.\n",
      "INFO -  Using mixed scraping approach, slowest, highest accuracy. Splitting x_index into subIndexes        Total points: 685, Max chunk size: 450, Number of chunks: 2, remainder: 1\n",
      "INFO - x_index Start date: 1968-01-01 00:00:00, End date: 2025-01-01 00:00:00\n",
      "INFO - SubIndex 0: 342 points, from 1968-01-01 00:00:00 to 1996-06-01 00:00:00, frequency: MS\n"
     ]
    },
    {
     "name": "stdout",
     "output_type": "stream",
     "text": [
      "Attempting to select chart type:  Spline clicking top button....\n"
     ]
    },
    {
     "name": "stderr",
     "output_type": "stream",
     "text": [
      "INFO - Chart type set to: Spline\n"
     ]
    },
    {
     "name": "stdout",
     "output_type": "stream",
     "text": [
      "Time taken to select chart type: 3.720568499993533\n",
      "Time taken to load JS code: 0.0003309999592602253\n"
     ]
    },
    {
     "name": "stderr",
     "output_type": "stream",
     "text": [
      "INFO - SubIndex 1: 343 points, from 1996-07-01 00:00:00 to 2025-01-01 00:00:00, frequency: MS\n"
     ]
    },
    {
     "name": "stdout",
     "output_type": "stream",
     "text": [
      "Time taken to execute JS code: 10.28964460012503\n",
      "Attempting to select chart type:  Spline clicking top button....\n"
     ]
    },
    {
     "name": "stderr",
     "output_type": "stream",
     "text": [
      "INFO - Chart type set to: Spline\n"
     ]
    },
    {
     "name": "stdout",
     "output_type": "stream",
     "text": [
      "Time taken to select chart type: 3.291638300055638\n",
      "Time taken to load JS code: 0.00043029990047216415\n"
     ]
    },
    {
     "name": "stderr",
     "output_type": "stream",
     "text": [
      "INFO - Successfully scraped full series from tooltips.\n",
      "INFO - Successfully scraped full series using mixed method.\n"
     ]
    },
    {
     "name": "stdout",
     "output_type": "stream",
     "text": [
      "Time taken to execute JS code: 10.304210599977523\n"
     ]
    }
   ],
   "source": [
    "scrup = ted.scrape_chart(id = \"existing-home-sales\", method = \"mixed\", use_existing_driver=True, headless=True) ## Using chart id from the url only, country is \"united-states\" by default."
   ]
  },
  {
   "cell_type": "code",
   "execution_count": 20,
   "metadata": {},
   "outputs": [
    {
     "data": {
      "text/plain": [
       "1948-01-01    51.7\n",
       "1948-02-01    50.2\n",
       "1948-03-01    43.3\n",
       "1948-04-01    45.4\n",
       "1948-05-01    49.5\n",
       "              ... \n",
       "2024-09-01    47.5\n",
       "2024-10-01    46.9\n",
       "2024-11-01    48.4\n",
       "2024-12-01    49.2\n",
       "2025-01-01    50.9\n",
       "Name: United States ISM Manufacturing PMI, Length: 923, dtype: float64"
      ]
     },
     "execution_count": 20,
     "metadata": {},
     "output_type": "execute_result"
    }
   ],
   "source": [
    "scrup.series"
   ]
  },
  {
   "cell_type": "code",
   "execution_count": 5,
   "metadata": {},
   "outputs": [
    {
     "name": "stderr",
     "output_type": "stream",
     "text": [
      "INFO - New firefox webdriver created.\n",
      "INFO - scrape_chart function: Scraping chart at: https://tradingeconomics.com/united-states/business-confidence, time: 2025-02-27 12:34:34.335391, method: path\n",
      "INFO - Chart types dictionary created successfully: dict_keys(['Column', 'Spline', 'Areaspline', 'Stepline', 'Line', 'Area'])\n",
      "INFO - Date span set to: 1Y\n",
      "INFO - \n",
      "Series metadata: \n",
      " {'units': 'points', 'original_source': 'Institute for Supply Management', 'title': 'United States ISM Manufacturing PMI', 'indicator': 'business confidence', 'country': 'united states', 'source': 'Trading Economics', 'id': 'united-states/business-confidence'}\n"
     ]
    },
    {
     "name": "stdout",
     "output_type": "stream",
     "text": [
      "Using selenium and tooltip scraping to construct the date time index for the time-series, this'll take a bit...\n",
      "Attempting to select chart type:  Spline clicking top button....\n"
     ]
    },
    {
     "name": "stderr",
     "output_type": "stream",
     "text": [
      "INFO - Chart type set to: Spline\n"
     ]
    },
    {
     "name": "stdout",
     "output_type": "stream",
     "text": [
      "Time taken to select chart type: 3.4131791529944167\n",
      "Time taken to load JS code: 0.0008303109789267182\n",
      "Time taken to execute JS code: 2.767069596971851\n",
      "Latest dates:  ['Jan 2025', 'Dec 2024', 'Nov 2024', 'Oct 2024', 'Sep 2024', 'Aug 2024', 'Jul 2024', 'Jun 2024', 'May 2024', 'Apr 2024']\n",
      "Frequency of time-series:  MS\n",
      "get_xlims_from_tooltips method: date_span:  1Y , chart_type: splineChart\n",
      "Attempting to select chart type:  Spline clicking top button....\n"
     ]
    },
    {
     "name": "stderr",
     "output_type": "stream",
     "text": [
      "INFO - Chart type set to: Spline\n"
     ]
    },
    {
     "name": "stdout",
     "output_type": "stream",
     "text": [
      "Got chart dimensions and plot background element.\n"
     ]
    },
    {
     "name": "stderr",
     "output_type": "stream",
     "text": [
      "INFO - Start and end values scraped from tooltips: \n",
      "{'start_date': Timestamp('1948-01-01 00:00:00'), 'start_value': 51.7, 'end_date': Timestamp('2025-01-01 00:00:00'), 'end_value': 50.9}\n",
      "INFO - DateTimeIndex created successfully for the time-series.\n",
      "INFO - Y-axis values scraped successfully.\n",
      "INFO - Series path extraction method: Extracting series data from chart soup.\n",
      "INFO - Date span: MAX. Chart type: splineChart, URL: https://tradingeconomics.com/united-states/business-confidence.\n",
      "INFO - DateTimeIndex applied to series, series attribute updated.\n",
      "INFO - Successfully scaled series.\n",
      "INFO - Successfully scraped time-series from chart at:  https://tradingeconomics.com/united-states/business-confidence, now getting some metadata...\n"
     ]
    },
    {
     "name": "stdout",
     "output_type": "stream",
     "text": [
      "Got metadata. \n",
      "\n",
      "Series tail: 2024-09-01    47.5\n",
      "2024-10-01    46.9\n",
      "2024-11-01    48.4\n",
      "2024-12-01    49.2\n",
      "2025-01-01    50.9\n",
      "Freq: MS, Name: business confidence, dtype: float64 \n",
      "\n",
      "Scraping complete! Happy pirating yo!\n"
     ]
    }
   ],
   "source": [
    "scrud = ted.scrape_chart(id = \"business-confidence\", method = \"path\", use_existing_driver=True, headless=True) ## Using chart id from the url only, country is \"united-states\" by default."
   ]
  },
  {
   "cell_type": "code",
   "execution_count": 11,
   "metadata": {},
   "outputs": [],
   "source": [
    "pathout = scrud.series.copy()"
   ]
  },
  {
   "cell_type": "code",
   "execution_count": 15,
   "metadata": {},
   "outputs": [
    {
     "name": "stderr",
     "output_type": "stream",
     "text": [
      "INFO - scrape_chart function: Scraping chart at: https://tradingeconomics.com/united-states/business-confidence, time: 2025-02-28 10:49:43.404621, method: tooltips\n",
      "INFO - Chart types dictionary created successfully: dict_keys(['Column', 'Spline', 'Areaspline', 'Stepline', 'Line', 'Area'])\n",
      "INFO - Date span set to: 1Y\n",
      "INFO - \n",
      "Series metadata: \n",
      " {'units': 'points', 'original_source': 'Institute for Supply Management', 'title': 'United States ISM Manufacturing PMI', 'indicator': 'business confidence', 'country': 'united states', 'source': 'Trading Economics', 'id': 'united-states/business-confidence'}\n",
      "INFO - TooltipScraper object initialised successfully.\n"
     ]
    },
    {
     "name": "stdout",
     "output_type": "stream",
     "text": [
      "Attempting to select chart type:  Spline clicking top button....\n"
     ]
    },
    {
     "name": "stderr",
     "output_type": "stream",
     "text": [
      "INFO - Error clicking button: Message: The element with the reference b38283ba-dbc3-40bc-8da8-4b8ddd360ca1 is stale; either its node document is not the active document, or it is no longer connected to the DOM; For documentation on this error, please visit: https://www.selenium.dev/documentation/webdriver/troubleshooting/errors#stale-element-reference-exception\n",
      "Stacktrace:\n",
      "RemoteError@chrome://remote/content/shared/RemoteError.sys.mjs:8:8\n",
      "WebDriverError@chrome://remote/content/shared/webdriver/Errors.sys.mjs:193:5\n",
      "StaleElementReferenceError@chrome://remote/content/shared/webdriver/Errors.sys.mjs:725:5\n",
      "getKnownElement@chrome://remote/content/marionette/json.sys.mjs:405:11\n",
      "deserializeJSON@chrome://remote/content/marionette/json.sys.mjs:263:20\n",
      "cloneObject@chrome://remote/content/marionette/json.sys.mjs:59:24\n",
      "deserializeJSON@chrome://remote/content/marionette/json.sys.mjs:293:16\n",
      "json.deserialize@chrome://remote/content/marionette/json.sys.mjs:297:10\n",
      "receiveMessage@chrome://remote/content/marionette/actors/MarionetteCommandsChild.sys.mjs:182:30\n",
      "\n"
     ]
    },
    {
     "name": "stdout",
     "output_type": "stream",
     "text": [
      "Attempting to select chart type:  Spline clicking top button....\n"
     ]
    },
    {
     "name": "stderr",
     "output_type": "stream",
     "text": [
      "INFO - Chart type set to: Spline\n"
     ]
    },
    {
     "name": "stdout",
     "output_type": "stream",
     "text": [
      "Time taken to select chart type: 4.210678669041954\n",
      "Time taken to load JS code: 0.0009725050185807049\n"
     ]
    },
    {
     "name": "stderr",
     "output_type": "stream",
     "text": [
      "INFO - Successfully scraped full series from tooltips.\n",
      "INFO - Frequency of the series is unknown or irregular, the tooltip scraping may have missed points. Retry scraping using 'path' method instead of 'tooltips'.\n",
      "INFO - Successfully scraped full series from tooltips.\n"
     ]
    },
    {
     "name": "stdout",
     "output_type": "stream",
     "text": [
      "Time taken to execute JS code: 6.678670155000873\n"
     ]
    }
   ],
   "source": [
    "scruf = ted.scrape_chart(id = \"business-confidence\", method = \"tooltips\", use_existing_driver=True, headless=True) ## Using chart id from the url only, country is \"united-states\" by default."
   ]
  },
  {
   "cell_type": "code",
   "execution_count": 18,
   "metadata": {},
   "outputs": [
    {
     "data": {
      "text/plain": [
       "1948-02-01    50.2\n",
       "1948-04-01    45.4\n",
       "1948-05-01    49.5\n",
       "1948-07-01    48.4\n",
       "1948-08-01    45.1\n",
       "              ... \n",
       "2024-06-01    48.3\n",
       "2024-08-01    47.5\n",
       "2024-09-01    47.5\n",
       "2024-10-01    46.9\n",
       "2024-12-01    49.2\n",
       "Name: United States ISM Manufacturing PMI, Length: 672, dtype: float64"
      ]
     },
     "execution_count": 18,
     "metadata": {},
     "output_type": "execute_result"
    }
   ],
   "source": [
    "scruf.series"
   ]
  },
  {
   "cell_type": "code",
   "execution_count": 19,
   "metadata": {},
   "outputs": [
    {
     "data": {
      "application/vnd.plotly.v1+json": {
       "config": {
        "plotlyServerURL": "https://plot.ly"
       },
       "data": [
        {
         "hovertemplate": "variable=United States ISM Manufacturing PMI<br>index=%{x}<br>value=%{y}<extra></extra>",
         "legendgroup": "United States ISM Manufacturing PMI",
         "line": {
          "color": "#636efa",
          "dash": "solid"
         },
         "marker": {
          "symbol": "circle"
         },
         "mode": "lines",
         "name": "United States ISM Manufacturing PMI",
         "orientation": "v",
         "showlegend": true,
         "type": "scatter",
         "x": [
          "1948-02-01T00:00:00.000000000",
          "1948-04-01T00:00:00.000000000",
          "1948-05-01T00:00:00.000000000",
          "1948-07-01T00:00:00.000000000",
          "1948-08-01T00:00:00.000000000",
          "1948-09-01T00:00:00.000000000",
          "1948-11-01T00:00:00.000000000",
          "1948-12-01T00:00:00.000000000",
          "1949-01-01T00:00:00.000000000",
          "1949-03-01T00:00:00.000000000",
          "1949-04-01T00:00:00.000000000",
          "1949-05-01T00:00:00.000000000",
          "1949-07-01T00:00:00.000000000",
          "1949-08-01T00:00:00.000000000",
          "1949-10-01T00:00:00.000000000",
          "1949-11-01T00:00:00.000000000",
          "1949-12-01T00:00:00.000000000",
          "1950-02-01T00:00:00.000000000",
          "1950-03-01T00:00:00.000000000",
          "1950-04-01T00:00:00.000000000",
          "1950-06-01T00:00:00.000000000",
          "1950-07-01T00:00:00.000000000",
          "1950-09-01T00:00:00.000000000",
          "1950-10-01T00:00:00.000000000",
          "1950-11-01T00:00:00.000000000",
          "1951-01-01T00:00:00.000000000",
          "1951-02-01T00:00:00.000000000",
          "1951-03-01T00:00:00.000000000",
          "1951-05-01T00:00:00.000000000",
          "1951-06-01T00:00:00.000000000",
          "1951-08-01T00:00:00.000000000",
          "1951-09-01T00:00:00.000000000",
          "1951-10-01T00:00:00.000000000",
          "1951-12-01T00:00:00.000000000",
          "1952-01-01T00:00:00.000000000",
          "1952-02-01T00:00:00.000000000",
          "1952-04-01T00:00:00.000000000",
          "1952-05-01T00:00:00.000000000",
          "1952-07-01T00:00:00.000000000",
          "1952-08-01T00:00:00.000000000",
          "1952-09-01T00:00:00.000000000",
          "1952-11-01T00:00:00.000000000",
          "1952-12-01T00:00:00.000000000",
          "1953-01-01T00:00:00.000000000",
          "1953-03-01T00:00:00.000000000",
          "1953-04-01T00:00:00.000000000",
          "1953-06-01T00:00:00.000000000",
          "1953-07-01T00:00:00.000000000",
          "1953-08-01T00:00:00.000000000",
          "1953-10-01T00:00:00.000000000",
          "1953-11-01T00:00:00.000000000",
          "1953-12-01T00:00:00.000000000",
          "1954-02-01T00:00:00.000000000",
          "1954-03-01T00:00:00.000000000",
          "1954-05-01T00:00:00.000000000",
          "1954-06-01T00:00:00.000000000",
          "1954-07-01T00:00:00.000000000",
          "1954-09-01T00:00:00.000000000",
          "1954-10-01T00:00:00.000000000",
          "1954-11-01T00:00:00.000000000",
          "1955-01-01T00:00:00.000000000",
          "1955-02-01T00:00:00.000000000",
          "1955-04-01T00:00:00.000000000",
          "1955-05-01T00:00:00.000000000",
          "1955-06-01T00:00:00.000000000",
          "1955-08-01T00:00:00.000000000",
          "1955-09-01T00:00:00.000000000",
          "1955-10-01T00:00:00.000000000",
          "1955-12-01T00:00:00.000000000",
          "1956-01-01T00:00:00.000000000",
          "1956-02-01T00:00:00.000000000",
          "1956-04-01T00:00:00.000000000",
          "1956-05-01T00:00:00.000000000",
          "1956-07-01T00:00:00.000000000",
          "1956-08-01T00:00:00.000000000",
          "1956-09-01T00:00:00.000000000",
          "1956-11-01T00:00:00.000000000",
          "1956-12-01T00:00:00.000000000",
          "1957-01-01T00:00:00.000000000",
          "1957-03-01T00:00:00.000000000",
          "1957-04-01T00:00:00.000000000",
          "1957-06-01T00:00:00.000000000",
          "1957-07-01T00:00:00.000000000",
          "1957-08-01T00:00:00.000000000",
          "1957-10-01T00:00:00.000000000",
          "1957-11-01T00:00:00.000000000",
          "1957-12-01T00:00:00.000000000",
          "1958-02-01T00:00:00.000000000",
          "1958-03-01T00:00:00.000000000",
          "1958-05-01T00:00:00.000000000",
          "1958-06-01T00:00:00.000000000",
          "1958-07-01T00:00:00.000000000",
          "1958-09-01T00:00:00.000000000",
          "1958-10-01T00:00:00.000000000",
          "1958-11-01T00:00:00.000000000",
          "1959-01-01T00:00:00.000000000",
          "1959-02-01T00:00:00.000000000",
          "1959-04-01T00:00:00.000000000",
          "1959-05-01T00:00:00.000000000",
          "1959-06-01T00:00:00.000000000",
          "1959-08-01T00:00:00.000000000",
          "1959-09-01T00:00:00.000000000",
          "1959-10-01T00:00:00.000000000",
          "1959-12-01T00:00:00.000000000",
          "1960-01-01T00:00:00.000000000",
          "1960-03-01T00:00:00.000000000",
          "1960-04-01T00:00:00.000000000",
          "1960-05-01T00:00:00.000000000",
          "1960-07-01T00:00:00.000000000",
          "1960-08-01T00:00:00.000000000",
          "1960-09-01T00:00:00.000000000",
          "1960-11-01T00:00:00.000000000",
          "1960-12-01T00:00:00.000000000",
          "1961-01-01T00:00:00.000000000",
          "1961-03-01T00:00:00.000000000",
          "1961-04-01T00:00:00.000000000",
          "1961-06-01T00:00:00.000000000",
          "1961-07-01T00:00:00.000000000",
          "1961-08-01T00:00:00.000000000",
          "1961-10-01T00:00:00.000000000",
          "1961-11-01T00:00:00.000000000",
          "1961-12-01T00:00:00.000000000",
          "1962-02-01T00:00:00.000000000",
          "1962-03-01T00:00:00.000000000",
          "1962-05-01T00:00:00.000000000",
          "1962-06-01T00:00:00.000000000",
          "1962-07-01T00:00:00.000000000",
          "1962-09-01T00:00:00.000000000",
          "1962-10-01T00:00:00.000000000",
          "1962-11-01T00:00:00.000000000",
          "1963-01-01T00:00:00.000000000",
          "1963-02-01T00:00:00.000000000",
          "1963-04-01T00:00:00.000000000",
          "1963-05-01T00:00:00.000000000",
          "1963-06-01T00:00:00.000000000",
          "1963-08-01T00:00:00.000000000",
          "1963-09-01T00:00:00.000000000",
          "1963-10-01T00:00:00.000000000",
          "1963-12-01T00:00:00.000000000",
          "1964-01-01T00:00:00.000000000",
          "1964-03-01T00:00:00.000000000",
          "1964-04-01T00:00:00.000000000",
          "1964-05-01T00:00:00.000000000",
          "1964-07-01T00:00:00.000000000",
          "1964-08-01T00:00:00.000000000",
          "1964-09-01T00:00:00.000000000",
          "1964-11-01T00:00:00.000000000",
          "1964-12-01T00:00:00.000000000",
          "1965-02-01T00:00:00.000000000",
          "1965-03-01T00:00:00.000000000",
          "1965-04-01T00:00:00.000000000",
          "1965-06-01T00:00:00.000000000",
          "1965-07-01T00:00:00.000000000",
          "1965-08-01T00:00:00.000000000",
          "1965-10-01T00:00:00.000000000",
          "1965-11-01T00:00:00.000000000",
          "1966-01-01T00:00:00.000000000",
          "1966-02-01T00:00:00.000000000",
          "1966-03-01T00:00:00.000000000",
          "1966-05-01T00:00:00.000000000",
          "1966-06-01T00:00:00.000000000",
          "1966-07-01T00:00:00.000000000",
          "1966-09-01T00:00:00.000000000",
          "1966-10-01T00:00:00.000000000",
          "1966-12-01T00:00:00.000000000",
          "1967-01-01T00:00:00.000000000",
          "1967-02-01T00:00:00.000000000",
          "1967-04-01T00:00:00.000000000",
          "1967-05-01T00:00:00.000000000",
          "1967-06-01T00:00:00.000000000",
          "1967-08-01T00:00:00.000000000",
          "1967-09-01T00:00:00.000000000",
          "1967-11-01T00:00:00.000000000",
          "1967-12-01T00:00:00.000000000",
          "1968-01-01T00:00:00.000000000",
          "1968-03-01T00:00:00.000000000",
          "1968-04-01T00:00:00.000000000",
          "1968-05-01T00:00:00.000000000",
          "1968-07-01T00:00:00.000000000",
          "1968-08-01T00:00:00.000000000",
          "1968-10-01T00:00:00.000000000",
          "1968-11-01T00:00:00.000000000",
          "1968-12-01T00:00:00.000000000",
          "1969-02-01T00:00:00.000000000",
          "1969-03-01T00:00:00.000000000",
          "1969-04-01T00:00:00.000000000",
          "1969-06-01T00:00:00.000000000",
          "1969-07-01T00:00:00.000000000",
          "1969-08-01T00:00:00.000000000",
          "1969-10-01T00:00:00.000000000",
          "1969-11-01T00:00:00.000000000",
          "1970-01-01T00:00:00.000000000",
          "1970-02-01T00:00:00.000000000",
          "1970-03-01T00:00:00.000000000",
          "1970-05-01T00:00:00.000000000",
          "1970-06-01T00:00:00.000000000",
          "1970-08-01T00:00:00.000000000",
          "1970-09-01T00:00:00.000000000",
          "1970-10-01T00:00:00.000000000",
          "1970-12-01T00:00:00.000000000",
          "1971-01-01T00:00:00.000000000",
          "1971-02-01T00:00:00.000000000",
          "1971-04-01T00:00:00.000000000",
          "1971-05-01T00:00:00.000000000",
          "1971-07-01T00:00:00.000000000",
          "1971-08-01T00:00:00.000000000",
          "1971-09-01T00:00:00.000000000",
          "1971-11-01T00:00:00.000000000",
          "1971-12-01T00:00:00.000000000",
          "1972-01-01T00:00:00.000000000",
          "1972-03-01T00:00:00.000000000",
          "1972-04-01T00:00:00.000000000",
          "1972-05-01T00:00:00.000000000",
          "1972-07-01T00:00:00.000000000",
          "1972-08-01T00:00:00.000000000",
          "1972-10-01T00:00:00.000000000",
          "1972-11-01T00:00:00.000000000",
          "1972-12-01T00:00:00.000000000",
          "1973-02-01T00:00:00.000000000",
          "1973-03-01T00:00:00.000000000",
          "1973-04-01T00:00:00.000000000",
          "1973-06-01T00:00:00.000000000",
          "1973-07-01T00:00:00.000000000",
          "1973-09-01T00:00:00.000000000",
          "1973-10-01T00:00:00.000000000",
          "1973-11-01T00:00:00.000000000",
          "1974-01-01T00:00:00.000000000",
          "1974-02-01T00:00:00.000000000",
          "1974-03-01T00:00:00.000000000",
          "1974-05-01T00:00:00.000000000",
          "1974-06-01T00:00:00.000000000",
          "1974-08-01T00:00:00.000000000",
          "1974-09-01T00:00:00.000000000",
          "1974-10-01T00:00:00.000000000",
          "1974-12-01T00:00:00.000000000",
          "1975-01-01T00:00:00.000000000",
          "1975-02-01T00:00:00.000000000",
          "1975-04-01T00:00:00.000000000",
          "1975-05-01T00:00:00.000000000",
          "1975-07-01T00:00:00.000000000",
          "1975-08-01T00:00:00.000000000",
          "1975-09-01T00:00:00.000000000",
          "1975-11-01T00:00:00.000000000",
          "1975-12-01T00:00:00.000000000",
          "1976-01-01T00:00:00.000000000",
          "1976-03-01T00:00:00.000000000",
          "1976-04-01T00:00:00.000000000",
          "1976-06-01T00:00:00.000000000",
          "1976-07-01T00:00:00.000000000",
          "1976-08-01T00:00:00.000000000",
          "1976-10-01T00:00:00.000000000",
          "1976-11-01T00:00:00.000000000",
          "1976-12-01T00:00:00.000000000",
          "1977-02-01T00:00:00.000000000",
          "1977-03-01T00:00:00.000000000",
          "1977-05-01T00:00:00.000000000",
          "1977-06-01T00:00:00.000000000",
          "1977-07-01T00:00:00.000000000",
          "1977-09-01T00:00:00.000000000",
          "1977-10-01T00:00:00.000000000",
          "1977-11-01T00:00:00.000000000",
          "1978-01-01T00:00:00.000000000",
          "1978-02-01T00:00:00.000000000",
          "1978-04-01T00:00:00.000000000",
          "1978-05-01T00:00:00.000000000",
          "1978-06-01T00:00:00.000000000",
          "1978-08-01T00:00:00.000000000",
          "1978-09-01T00:00:00.000000000",
          "1978-10-01T00:00:00.000000000",
          "1978-12-01T00:00:00.000000000",
          "1979-01-01T00:00:00.000000000",
          "1979-02-01T00:00:00.000000000",
          "1979-04-01T00:00:00.000000000",
          "1979-05-01T00:00:00.000000000",
          "1979-07-01T00:00:00.000000000",
          "1979-08-01T00:00:00.000000000",
          "1979-09-01T00:00:00.000000000",
          "1979-11-01T00:00:00.000000000",
          "1979-12-01T00:00:00.000000000",
          "1980-01-01T00:00:00.000000000",
          "1980-03-01T00:00:00.000000000",
          "1980-04-01T00:00:00.000000000",
          "1980-06-01T00:00:00.000000000",
          "1980-07-01T00:00:00.000000000",
          "1980-08-01T00:00:00.000000000",
          "1980-10-01T00:00:00.000000000",
          "1980-11-01T00:00:00.000000000",
          "1980-12-01T00:00:00.000000000",
          "1981-02-01T00:00:00.000000000",
          "1981-03-01T00:00:00.000000000",
          "1981-05-01T00:00:00.000000000",
          "1981-06-01T00:00:00.000000000",
          "1981-07-01T00:00:00.000000000",
          "1981-09-01T00:00:00.000000000",
          "1981-10-01T00:00:00.000000000",
          "1981-11-01T00:00:00.000000000",
          "1982-01-01T00:00:00.000000000",
          "1982-02-01T00:00:00.000000000",
          "1982-04-01T00:00:00.000000000",
          "1982-05-01T00:00:00.000000000",
          "1982-06-01T00:00:00.000000000",
          "1982-08-01T00:00:00.000000000",
          "1982-09-01T00:00:00.000000000",
          "1982-10-01T00:00:00.000000000",
          "1982-12-01T00:00:00.000000000",
          "1983-01-01T00:00:00.000000000",
          "1983-03-01T00:00:00.000000000",
          "1983-04-01T00:00:00.000000000",
          "1983-05-01T00:00:00.000000000",
          "1983-07-01T00:00:00.000000000",
          "1983-08-01T00:00:00.000000000",
          "1983-09-01T00:00:00.000000000",
          "1983-11-01T00:00:00.000000000",
          "1983-12-01T00:00:00.000000000",
          "1984-01-01T00:00:00.000000000",
          "1984-03-01T00:00:00.000000000",
          "1984-04-01T00:00:00.000000000",
          "1984-06-01T00:00:00.000000000",
          "1984-07-01T00:00:00.000000000",
          "1984-08-01T00:00:00.000000000",
          "1984-10-01T00:00:00.000000000",
          "1984-11-01T00:00:00.000000000",
          "1984-12-01T00:00:00.000000000",
          "1985-02-01T00:00:00.000000000",
          "1985-03-01T00:00:00.000000000",
          "1985-05-01T00:00:00.000000000",
          "1985-06-01T00:00:00.000000000",
          "1985-07-01T00:00:00.000000000",
          "1985-09-01T00:00:00.000000000",
          "1985-10-01T00:00:00.000000000",
          "1985-11-01T00:00:00.000000000",
          "1986-01-01T00:00:00.000000000",
          "1986-02-01T00:00:00.000000000",
          "1986-04-01T00:00:00.000000000",
          "1986-05-01T00:00:00.000000000",
          "1986-06-01T00:00:00.000000000",
          "1986-08-01T00:00:00.000000000",
          "1986-09-01T00:00:00.000000000",
          "1986-10-01T00:00:00.000000000",
          "1986-12-01T00:00:00.000000000",
          "1987-01-01T00:00:00.000000000",
          "1987-03-01T00:00:00.000000000",
          "1987-04-01T00:00:00.000000000",
          "1987-05-01T00:00:00.000000000",
          "1987-07-01T00:00:00.000000000",
          "1987-08-01T00:00:00.000000000",
          "1987-09-01T00:00:00.000000000",
          "1987-11-01T00:00:00.000000000",
          "1987-12-01T00:00:00.000000000",
          "1988-02-01T00:00:00.000000000",
          "1988-03-01T00:00:00.000000000",
          "1988-04-01T00:00:00.000000000",
          "1988-06-01T00:00:00.000000000",
          "1988-07-01T00:00:00.000000000",
          "1988-08-01T00:00:00.000000000",
          "1988-10-01T00:00:00.000000000",
          "1988-11-01T00:00:00.000000000",
          "1989-01-01T00:00:00.000000000",
          "1989-02-01T00:00:00.000000000",
          "1989-03-01T00:00:00.000000000",
          "1989-05-01T00:00:00.000000000",
          "1989-06-01T00:00:00.000000000",
          "1989-07-01T00:00:00.000000000",
          "1989-09-01T00:00:00.000000000",
          "1989-10-01T00:00:00.000000000",
          "1989-12-01T00:00:00.000000000",
          "1990-01-01T00:00:00.000000000",
          "1990-02-01T00:00:00.000000000",
          "1990-04-01T00:00:00.000000000",
          "1990-05-01T00:00:00.000000000",
          "1990-06-01T00:00:00.000000000",
          "1990-08-01T00:00:00.000000000",
          "1990-09-01T00:00:00.000000000",
          "1990-11-01T00:00:00.000000000",
          "1990-12-01T00:00:00.000000000",
          "1991-01-01T00:00:00.000000000",
          "1991-03-01T00:00:00.000000000",
          "1991-04-01T00:00:00.000000000",
          "1991-05-01T00:00:00.000000000",
          "1991-07-01T00:00:00.000000000",
          "1991-08-01T00:00:00.000000000",
          "1991-09-01T00:00:00.000000000",
          "1991-11-01T00:00:00.000000000",
          "1991-12-01T00:00:00.000000000",
          "1992-02-01T00:00:00.000000000",
          "1992-03-01T00:00:00.000000000",
          "1992-04-01T00:00:00.000000000",
          "1992-06-01T00:00:00.000000000",
          "1992-07-01T00:00:00.000000000",
          "1992-08-01T00:00:00.000000000",
          "1992-10-01T00:00:00.000000000",
          "1992-11-01T00:00:00.000000000",
          "1993-01-01T00:00:00.000000000",
          "1993-02-01T00:00:00.000000000",
          "1993-03-01T00:00:00.000000000",
          "1993-05-01T00:00:00.000000000",
          "1993-06-01T00:00:00.000000000",
          "1993-07-01T00:00:00.000000000",
          "1993-09-01T00:00:00.000000000",
          "1993-10-01T00:00:00.000000000",
          "1993-12-01T00:00:00.000000000",
          "1994-01-01T00:00:00.000000000",
          "1994-02-01T00:00:00.000000000",
          "1994-04-01T00:00:00.000000000",
          "1994-05-01T00:00:00.000000000",
          "1994-06-01T00:00:00.000000000",
          "1994-08-01T00:00:00.000000000",
          "1994-09-01T00:00:00.000000000",
          "1994-11-01T00:00:00.000000000",
          "1994-12-01T00:00:00.000000000",
          "1995-01-01T00:00:00.000000000",
          "1995-03-01T00:00:00.000000000",
          "1995-04-01T00:00:00.000000000",
          "1995-05-01T00:00:00.000000000",
          "1995-07-01T00:00:00.000000000",
          "1995-08-01T00:00:00.000000000",
          "1995-10-01T00:00:00.000000000",
          "1995-11-01T00:00:00.000000000",
          "1995-12-01T00:00:00.000000000",
          "1996-02-01T00:00:00.000000000",
          "1996-03-01T00:00:00.000000000",
          "1996-04-01T00:00:00.000000000",
          "1996-06-01T00:00:00.000000000",
          "1996-07-01T00:00:00.000000000",
          "1996-09-01T00:00:00.000000000",
          "1996-10-01T00:00:00.000000000",
          "1996-11-01T00:00:00.000000000",
          "1997-01-01T00:00:00.000000000",
          "1997-02-01T00:00:00.000000000",
          "1997-03-01T00:00:00.000000000",
          "1997-05-01T00:00:00.000000000",
          "1997-06-01T00:00:00.000000000",
          "1997-08-01T00:00:00.000000000",
          "1997-09-01T00:00:00.000000000",
          "1997-10-01T00:00:00.000000000",
          "1997-12-01T00:00:00.000000000",
          "1998-01-01T00:00:00.000000000",
          "1998-02-01T00:00:00.000000000",
          "1998-04-01T00:00:00.000000000",
          "1998-05-01T00:00:00.000000000",
          "1998-07-01T00:00:00.000000000",
          "1998-08-01T00:00:00.000000000",
          "1998-09-01T00:00:00.000000000",
          "1998-11-01T00:00:00.000000000",
          "1998-12-01T00:00:00.000000000",
          "1999-01-01T00:00:00.000000000",
          "1999-03-01T00:00:00.000000000",
          "1999-04-01T00:00:00.000000000",
          "1999-06-01T00:00:00.000000000",
          "1999-07-01T00:00:00.000000000",
          "1999-08-01T00:00:00.000000000",
          "1999-10-01T00:00:00.000000000",
          "1999-11-01T00:00:00.000000000",
          "1999-12-01T00:00:00.000000000",
          "2000-02-01T00:00:00.000000000",
          "2000-03-01T00:00:00.000000000",
          "2000-04-01T00:00:00.000000000",
          "2000-06-01T00:00:00.000000000",
          "2000-07-01T00:00:00.000000000",
          "2000-09-01T00:00:00.000000000",
          "2000-10-01T00:00:00.000000000",
          "2000-11-01T00:00:00.000000000",
          "2001-01-01T00:00:00.000000000",
          "2001-02-01T00:00:00.000000000",
          "2001-03-01T00:00:00.000000000",
          "2001-05-01T00:00:00.000000000",
          "2001-06-01T00:00:00.000000000",
          "2001-08-01T00:00:00.000000000",
          "2001-09-01T00:00:00.000000000",
          "2001-10-01T00:00:00.000000000",
          "2001-12-01T00:00:00.000000000",
          "2002-01-01T00:00:00.000000000",
          "2002-02-01T00:00:00.000000000",
          "2002-04-01T00:00:00.000000000",
          "2002-05-01T00:00:00.000000000",
          "2002-07-01T00:00:00.000000000",
          "2002-08-01T00:00:00.000000000",
          "2002-09-01T00:00:00.000000000",
          "2002-11-01T00:00:00.000000000",
          "2002-12-01T00:00:00.000000000",
          "2003-01-01T00:00:00.000000000",
          "2003-03-01T00:00:00.000000000",
          "2003-04-01T00:00:00.000000000",
          "2003-06-01T00:00:00.000000000",
          "2003-07-01T00:00:00.000000000",
          "2003-08-01T00:00:00.000000000",
          "2003-10-01T00:00:00.000000000",
          "2003-11-01T00:00:00.000000000",
          "2003-12-01T00:00:00.000000000",
          "2004-02-01T00:00:00.000000000",
          "2004-03-01T00:00:00.000000000",
          "2004-05-01T00:00:00.000000000",
          "2004-06-01T00:00:00.000000000",
          "2004-07-01T00:00:00.000000000",
          "2004-09-01T00:00:00.000000000",
          "2004-10-01T00:00:00.000000000",
          "2004-11-01T00:00:00.000000000",
          "2005-01-01T00:00:00.000000000",
          "2005-02-01T00:00:00.000000000",
          "2005-04-01T00:00:00.000000000",
          "2005-05-01T00:00:00.000000000",
          "2005-06-01T00:00:00.000000000",
          "2005-08-01T00:00:00.000000000",
          "2005-09-01T00:00:00.000000000",
          "2005-10-01T00:00:00.000000000",
          "2005-12-01T00:00:00.000000000",
          "2006-01-01T00:00:00.000000000",
          "2006-02-01T00:00:00.000000000",
          "2006-04-01T00:00:00.000000000",
          "2006-05-01T00:00:00.000000000",
          "2006-07-01T00:00:00.000000000",
          "2006-08-01T00:00:00.000000000",
          "2006-09-01T00:00:00.000000000",
          "2006-11-01T00:00:00.000000000",
          "2006-12-01T00:00:00.000000000",
          "2007-01-01T00:00:00.000000000",
          "2007-03-01T00:00:00.000000000",
          "2007-04-01T00:00:00.000000000",
          "2007-06-01T00:00:00.000000000",
          "2007-07-01T00:00:00.000000000",
          "2007-08-01T00:00:00.000000000",
          "2007-10-01T00:00:00.000000000",
          "2007-11-01T00:00:00.000000000",
          "2007-12-01T00:00:00.000000000",
          "2008-02-01T00:00:00.000000000",
          "2008-03-01T00:00:00.000000000",
          "2008-05-01T00:00:00.000000000",
          "2008-06-01T00:00:00.000000000",
          "2008-07-01T00:00:00.000000000",
          "2008-09-01T00:00:00.000000000",
          "2008-10-01T00:00:00.000000000",
          "2008-11-01T00:00:00.000000000",
          "2009-01-01T00:00:00.000000000",
          "2009-02-01T00:00:00.000000000",
          "2009-04-01T00:00:00.000000000",
          "2009-05-01T00:00:00.000000000",
          "2009-06-01T00:00:00.000000000",
          "2009-08-01T00:00:00.000000000",
          "2009-09-01T00:00:00.000000000",
          "2009-10-01T00:00:00.000000000",
          "2009-12-01T00:00:00.000000000",
          "2010-01-01T00:00:00.000000000",
          "2010-03-01T00:00:00.000000000",
          "2010-04-01T00:00:00.000000000",
          "2010-05-01T00:00:00.000000000",
          "2010-07-01T00:00:00.000000000",
          "2010-08-01T00:00:00.000000000",
          "2010-09-01T00:00:00.000000000",
          "2010-11-01T00:00:00.000000000",
          "2010-12-01T00:00:00.000000000",
          "2011-02-01T00:00:00.000000000",
          "2011-03-01T00:00:00.000000000",
          "2011-04-01T00:00:00.000000000",
          "2011-06-01T00:00:00.000000000",
          "2011-07-01T00:00:00.000000000",
          "2011-08-01T00:00:00.000000000",
          "2011-10-01T00:00:00.000000000",
          "2011-11-01T00:00:00.000000000",
          "2012-01-01T00:00:00.000000000",
          "2012-02-01T00:00:00.000000000",
          "2012-03-01T00:00:00.000000000",
          "2012-05-01T00:00:00.000000000",
          "2012-06-01T00:00:00.000000000",
          "2012-07-01T00:00:00.000000000",
          "2012-09-01T00:00:00.000000000",
          "2012-10-01T00:00:00.000000000",
          "2012-11-01T00:00:00.000000000",
          "2013-01-01T00:00:00.000000000",
          "2013-02-01T00:00:00.000000000",
          "2013-04-01T00:00:00.000000000",
          "2013-05-01T00:00:00.000000000",
          "2013-06-01T00:00:00.000000000",
          "2013-08-01T00:00:00.000000000",
          "2013-09-01T00:00:00.000000000",
          "2013-10-01T00:00:00.000000000",
          "2013-12-01T00:00:00.000000000",
          "2014-01-01T00:00:00.000000000",
          "2014-03-01T00:00:00.000000000",
          "2014-04-01T00:00:00.000000000",
          "2014-05-01T00:00:00.000000000",
          "2014-07-01T00:00:00.000000000",
          "2014-08-01T00:00:00.000000000",
          "2014-09-01T00:00:00.000000000",
          "2014-11-01T00:00:00.000000000",
          "2014-12-01T00:00:00.000000000",
          "2015-02-01T00:00:00.000000000",
          "2015-03-01T00:00:00.000000000",
          "2015-04-01T00:00:00.000000000",
          "2015-06-01T00:00:00.000000000",
          "2015-07-01T00:00:00.000000000",
          "2015-08-01T00:00:00.000000000",
          "2015-10-01T00:00:00.000000000",
          "2015-11-01T00:00:00.000000000",
          "2016-01-01T00:00:00.000000000",
          "2016-02-01T00:00:00.000000000",
          "2016-03-01T00:00:00.000000000",
          "2016-05-01T00:00:00.000000000",
          "2016-06-01T00:00:00.000000000",
          "2016-07-01T00:00:00.000000000",
          "2016-09-01T00:00:00.000000000",
          "2016-10-01T00:00:00.000000000",
          "2016-12-01T00:00:00.000000000",
          "2017-01-01T00:00:00.000000000",
          "2017-02-01T00:00:00.000000000",
          "2017-04-01T00:00:00.000000000",
          "2017-05-01T00:00:00.000000000",
          "2017-06-01T00:00:00.000000000",
          "2017-08-01T00:00:00.000000000",
          "2017-09-01T00:00:00.000000000",
          "2017-11-01T00:00:00.000000000",
          "2017-12-01T00:00:00.000000000",
          "2018-01-01T00:00:00.000000000",
          "2018-03-01T00:00:00.000000000",
          "2018-04-01T00:00:00.000000000",
          "2018-05-01T00:00:00.000000000",
          "2018-07-01T00:00:00.000000000",
          "2018-08-01T00:00:00.000000000",
          "2018-10-01T00:00:00.000000000",
          "2018-11-01T00:00:00.000000000",
          "2018-12-01T00:00:00.000000000",
          "2019-02-01T00:00:00.000000000",
          "2019-03-01T00:00:00.000000000",
          "2019-04-01T00:00:00.000000000",
          "2019-06-01T00:00:00.000000000",
          "2019-07-01T00:00:00.000000000",
          "2019-09-01T00:00:00.000000000",
          "2019-10-01T00:00:00.000000000",
          "2019-11-01T00:00:00.000000000",
          "2020-01-01T00:00:00.000000000",
          "2020-02-01T00:00:00.000000000",
          "2020-03-01T00:00:00.000000000",
          "2020-05-01T00:00:00.000000000",
          "2020-06-01T00:00:00.000000000",
          "2020-07-01T00:00:00.000000000",
          "2020-09-01T00:00:00.000000000",
          "2020-10-01T00:00:00.000000000",
          "2020-12-01T00:00:00.000000000",
          "2021-01-01T00:00:00.000000000",
          "2021-02-01T00:00:00.000000000",
          "2021-04-01T00:00:00.000000000",
          "2021-05-01T00:00:00.000000000",
          "2021-06-01T00:00:00.000000000",
          "2021-08-01T00:00:00.000000000",
          "2021-09-01T00:00:00.000000000",
          "2021-11-01T00:00:00.000000000",
          "2021-12-01T00:00:00.000000000",
          "2022-01-01T00:00:00.000000000",
          "2022-03-01T00:00:00.000000000",
          "2022-04-01T00:00:00.000000000",
          "2022-05-01T00:00:00.000000000",
          "2022-07-01T00:00:00.000000000",
          "2022-08-01T00:00:00.000000000",
          "2022-10-01T00:00:00.000000000",
          "2022-11-01T00:00:00.000000000",
          "2022-12-01T00:00:00.000000000",
          "2023-02-01T00:00:00.000000000",
          "2023-03-01T00:00:00.000000000",
          "2023-04-01T00:00:00.000000000",
          "2023-06-01T00:00:00.000000000",
          "2023-07-01T00:00:00.000000000",
          "2023-09-01T00:00:00.000000000",
          "2023-10-01T00:00:00.000000000",
          "2023-11-01T00:00:00.000000000",
          "2024-01-01T00:00:00.000000000",
          "2024-02-01T00:00:00.000000000",
          "2024-03-01T00:00:00.000000000",
          "2024-05-01T00:00:00.000000000",
          "2024-06-01T00:00:00.000000000",
          "2024-08-01T00:00:00.000000000",
          "2024-09-01T00:00:00.000000000",
          "2024-10-01T00:00:00.000000000",
          "2024-12-01T00:00:00.000000000"
         ],
         "xaxis": "x",
         "y": {
          "bdata": "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",
          "dtype": "f8"
         },
         "yaxis": "y"
        }
       ],
       "layout": {
        "annotations": [
         {
          "align": "left",
          "bgcolor": "rgba(255, 255, 255, 0.8)",
          "bordercolor": "black",
          "borderwidth": 1,
          "font": {
           "size": 10
          },
          "showarrow": false,
          "text": "Source: Trading Economics<br>Original Source: Institute for Supply Management<br>Frequency: Unknown/irregular<br>",
          "x": 0,
          "xanchor": "left",
          "xref": "paper",
          "y": -0.2,
          "yanchor": "bottom",
          "yref": "paper"
         }
        ],
        "legend": {
         "orientation": "h",
         "title": {
          "text": ""
         },
         "tracegroupgap": 0,
         "x": 0.5,
         "xanchor": "center",
         "y": -0.2,
         "yanchor": "bottom"
        },
        "margin": {
         "t": 60
        },
        "template": {
         "data": {
          "bar": [
           {
            "error_x": {
             "color": "#2a3f5f"
            },
            "error_y": {
             "color": "#2a3f5f"
            },
            "marker": {
             "line": {
              "color": "#E5ECF6",
              "width": 0.5
             },
             "pattern": {
              "fillmode": "overlay",
              "size": 10,
              "solidity": 0.2
             }
            },
            "type": "bar"
           }
          ],
          "barpolar": [
           {
            "marker": {
             "line": {
              "color": "#E5ECF6",
              "width": 0.5
             },
             "pattern": {
              "fillmode": "overlay",
              "size": 10,
              "solidity": 0.2
             }
            },
            "type": "barpolar"
           }
          ],
          "carpet": [
           {
            "aaxis": {
             "endlinecolor": "#2a3f5f",
             "gridcolor": "white",
             "linecolor": "white",
             "minorgridcolor": "white",
             "startlinecolor": "#2a3f5f"
            },
            "baxis": {
             "endlinecolor": "#2a3f5f",
             "gridcolor": "white",
             "linecolor": "white",
             "minorgridcolor": "white",
             "startlinecolor": "#2a3f5f"
            },
            "type": "carpet"
           }
          ],
          "choropleth": [
           {
            "colorbar": {
             "outlinewidth": 0,
             "ticks": ""
            },
            "type": "choropleth"
           }
          ],
          "contour": [
           {
            "colorbar": {
             "outlinewidth": 0,
             "ticks": ""
            },
            "colorscale": [
             [
              0,
              "#0d0887"
             ],
             [
              0.1111111111111111,
              "#46039f"
             ],
             [
              0.2222222222222222,
              "#7201a8"
             ],
             [
              0.3333333333333333,
              "#9c179e"
             ],
             [
              0.4444444444444444,
              "#bd3786"
             ],
             [
              0.5555555555555556,
              "#d8576b"
             ],
             [
              0.6666666666666666,
              "#ed7953"
             ],
             [
              0.7777777777777778,
              "#fb9f3a"
             ],
             [
              0.8888888888888888,
              "#fdca26"
             ],
             [
              1,
              "#f0f921"
             ]
            ],
            "type": "contour"
           }
          ],
          "contourcarpet": [
           {
            "colorbar": {
             "outlinewidth": 0,
             "ticks": ""
            },
            "type": "contourcarpet"
           }
          ],
          "heatmap": [
           {
            "colorbar": {
             "outlinewidth": 0,
             "ticks": ""
            },
            "colorscale": [
             [
              0,
              "#0d0887"
             ],
             [
              0.1111111111111111,
              "#46039f"
             ],
             [
              0.2222222222222222,
              "#7201a8"
             ],
             [
              0.3333333333333333,
              "#9c179e"
             ],
             [
              0.4444444444444444,
              "#bd3786"
             ],
             [
              0.5555555555555556,
              "#d8576b"
             ],
             [
              0.6666666666666666,
              "#ed7953"
             ],
             [
              0.7777777777777778,
              "#fb9f3a"
             ],
             [
              0.8888888888888888,
              "#fdca26"
             ],
             [
              1,
              "#f0f921"
             ]
            ],
            "type": "heatmap"
           }
          ],
          "histogram": [
           {
            "marker": {
             "pattern": {
              "fillmode": "overlay",
              "size": 10,
              "solidity": 0.2
             }
            },
            "type": "histogram"
           }
          ],
          "histogram2d": [
           {
            "colorbar": {
             "outlinewidth": 0,
             "ticks": ""
            },
            "colorscale": [
             [
              0,
              "#0d0887"
             ],
             [
              0.1111111111111111,
              "#46039f"
             ],
             [
              0.2222222222222222,
              "#7201a8"
             ],
             [
              0.3333333333333333,
              "#9c179e"
             ],
             [
              0.4444444444444444,
              "#bd3786"
             ],
             [
              0.5555555555555556,
              "#d8576b"
             ],
             [
              0.6666666666666666,
              "#ed7953"
             ],
             [
              0.7777777777777778,
              "#fb9f3a"
             ],
             [
              0.8888888888888888,
              "#fdca26"
             ],
             [
              1,
              "#f0f921"
             ]
            ],
            "type": "histogram2d"
           }
          ],
          "histogram2dcontour": [
           {
            "colorbar": {
             "outlinewidth": 0,
             "ticks": ""
            },
            "colorscale": [
             [
              0,
              "#0d0887"
             ],
             [
              0.1111111111111111,
              "#46039f"
             ],
             [
              0.2222222222222222,
              "#7201a8"
             ],
             [
              0.3333333333333333,
              "#9c179e"
             ],
             [
              0.4444444444444444,
              "#bd3786"
             ],
             [
              0.5555555555555556,
              "#d8576b"
             ],
             [
              0.6666666666666666,
              "#ed7953"
             ],
             [
              0.7777777777777778,
              "#fb9f3a"
             ],
             [
              0.8888888888888888,
              "#fdca26"
             ],
             [
              1,
              "#f0f921"
             ]
            ],
            "type": "histogram2dcontour"
           }
          ],
          "mesh3d": [
           {
            "colorbar": {
             "outlinewidth": 0,
             "ticks": ""
            },
            "type": "mesh3d"
           }
          ],
          "parcoords": [
           {
            "line": {
             "colorbar": {
              "outlinewidth": 0,
              "ticks": ""
             }
            },
            "type": "parcoords"
           }
          ],
          "pie": [
           {
            "automargin": true,
            "type": "pie"
           }
          ],
          "scatter": [
           {
            "fillpattern": {
             "fillmode": "overlay",
             "size": 10,
             "solidity": 0.2
            },
            "type": "scatter"
           }
          ],
          "scatter3d": [
           {
            "line": {
             "colorbar": {
              "outlinewidth": 0,
              "ticks": ""
             }
            },
            "marker": {
             "colorbar": {
              "outlinewidth": 0,
              "ticks": ""
             }
            },
            "type": "scatter3d"
           }
          ],
          "scattercarpet": [
           {
            "marker": {
             "colorbar": {
              "outlinewidth": 0,
              "ticks": ""
             }
            },
            "type": "scattercarpet"
           }
          ],
          "scattergeo": [
           {
            "marker": {
             "colorbar": {
              "outlinewidth": 0,
              "ticks": ""
             }
            },
            "type": "scattergeo"
           }
          ],
          "scattergl": [
           {
            "marker": {
             "colorbar": {
              "outlinewidth": 0,
              "ticks": ""
             }
            },
            "type": "scattergl"
           }
          ],
          "scattermap": [
           {
            "marker": {
             "colorbar": {
              "outlinewidth": 0,
              "ticks": ""
             }
            },
            "type": "scattermap"
           }
          ],
          "scattermapbox": [
           {
            "marker": {
             "colorbar": {
              "outlinewidth": 0,
              "ticks": ""
             }
            },
            "type": "scattermapbox"
           }
          ],
          "scatterpolar": [
           {
            "marker": {
             "colorbar": {
              "outlinewidth": 0,
              "ticks": ""
             }
            },
            "type": "scatterpolar"
           }
          ],
          "scatterpolargl": [
           {
            "marker": {
             "colorbar": {
              "outlinewidth": 0,
              "ticks": ""
             }
            },
            "type": "scatterpolargl"
           }
          ],
          "scatterternary": [
           {
            "marker": {
             "colorbar": {
              "outlinewidth": 0,
              "ticks": ""
             }
            },
            "type": "scatterternary"
           }
          ],
          "surface": [
           {
            "colorbar": {
             "outlinewidth": 0,
             "ticks": ""
            },
            "colorscale": [
             [
              0,
              "#0d0887"
             ],
             [
              0.1111111111111111,
              "#46039f"
             ],
             [
              0.2222222222222222,
              "#7201a8"
             ],
             [
              0.3333333333333333,
              "#9c179e"
             ],
             [
              0.4444444444444444,
              "#bd3786"
             ],
             [
              0.5555555555555556,
              "#d8576b"
             ],
             [
              0.6666666666666666,
              "#ed7953"
             ],
             [
              0.7777777777777778,
              "#fb9f3a"
             ],
             [
              0.8888888888888888,
              "#fdca26"
             ],
             [
              1,
              "#f0f921"
             ]
            ],
            "type": "surface"
           }
          ],
          "table": [
           {
            "cells": {
             "fill": {
              "color": "#EBF0F8"
             },
             "line": {
              "color": "white"
             }
            },
            "header": {
             "fill": {
              "color": "#C8D4E3"
             },
             "line": {
              "color": "white"
             }
            },
            "type": "table"
           }
          ]
         },
         "layout": {
          "annotationdefaults": {
           "arrowcolor": "#2a3f5f",
           "arrowhead": 0,
           "arrowwidth": 1
          },
          "autotypenumbers": "strict",
          "coloraxis": {
           "colorbar": {
            "outlinewidth": 0,
            "ticks": ""
           }
          },
          "colorscale": {
           "diverging": [
            [
             0,
             "#8e0152"
            ],
            [
             0.1,
             "#c51b7d"
            ],
            [
             0.2,
             "#de77ae"
            ],
            [
             0.3,
             "#f1b6da"
            ],
            [
             0.4,
             "#fde0ef"
            ],
            [
             0.5,
             "#f7f7f7"
            ],
            [
             0.6,
             "#e6f5d0"
            ],
            [
             0.7,
             "#b8e186"
            ],
            [
             0.8,
             "#7fbc41"
            ],
            [
             0.9,
             "#4d9221"
            ],
            [
             1,
             "#276419"
            ]
           ],
           "sequential": [
            [
             0,
             "#0d0887"
            ],
            [
             0.1111111111111111,
             "#46039f"
            ],
            [
             0.2222222222222222,
             "#7201a8"
            ],
            [
             0.3333333333333333,
             "#9c179e"
            ],
            [
             0.4444444444444444,
             "#bd3786"
            ],
            [
             0.5555555555555556,
             "#d8576b"
            ],
            [
             0.6666666666666666,
             "#ed7953"
            ],
            [
             0.7777777777777778,
             "#fb9f3a"
            ],
            [
             0.8888888888888888,
             "#fdca26"
            ],
            [
             1,
             "#f0f921"
            ]
           ],
           "sequentialminus": [
            [
             0,
             "#0d0887"
            ],
            [
             0.1111111111111111,
             "#46039f"
            ],
            [
             0.2222222222222222,
             "#7201a8"
            ],
            [
             0.3333333333333333,
             "#9c179e"
            ],
            [
             0.4444444444444444,
             "#bd3786"
            ],
            [
             0.5555555555555556,
             "#d8576b"
            ],
            [
             0.6666666666666666,
             "#ed7953"
            ],
            [
             0.7777777777777778,
             "#fb9f3a"
            ],
            [
             0.8888888888888888,
             "#fdca26"
            ],
            [
             1,
             "#f0f921"
            ]
           ]
          },
          "colorway": [
           "#636efa",
           "#EF553B",
           "#00cc96",
           "#ab63fa",
           "#FFA15A",
           "#19d3f3",
           "#FF6692",
           "#B6E880",
           "#FF97FF",
           "#FECB52"
          ],
          "font": {
           "color": "#2a3f5f"
          },
          "geo": {
           "bgcolor": "white",
           "lakecolor": "white",
           "landcolor": "#E5ECF6",
           "showlakes": true,
           "showland": true,
           "subunitcolor": "white"
          },
          "hoverlabel": {
           "align": "left"
          },
          "hovermode": "closest",
          "mapbox": {
           "style": "light"
          },
          "paper_bgcolor": "white",
          "plot_bgcolor": "#E5ECF6",
          "polar": {
           "angularaxis": {
            "gridcolor": "white",
            "linecolor": "white",
            "ticks": ""
           },
           "bgcolor": "#E5ECF6",
           "radialaxis": {
            "gridcolor": "white",
            "linecolor": "white",
            "ticks": ""
           }
          },
          "scene": {
           "xaxis": {
            "backgroundcolor": "#E5ECF6",
            "gridcolor": "white",
            "gridwidth": 2,
            "linecolor": "white",
            "showbackground": true,
            "ticks": "",
            "zerolinecolor": "white"
           },
           "yaxis": {
            "backgroundcolor": "#E5ECF6",
            "gridcolor": "white",
            "gridwidth": 2,
            "linecolor": "white",
            "showbackground": true,
            "ticks": "",
            "zerolinecolor": "white"
           },
           "zaxis": {
            "backgroundcolor": "#E5ECF6",
            "gridcolor": "white",
            "gridwidth": 2,
            "linecolor": "white",
            "showbackground": true,
            "ticks": "",
            "zerolinecolor": "white"
           }
          },
          "shapedefaults": {
           "line": {
            "color": "#2a3f5f"
           }
          },
          "ternary": {
           "aaxis": {
            "gridcolor": "white",
            "linecolor": "white",
            "ticks": ""
           },
           "baxis": {
            "gridcolor": "white",
            "linecolor": "white",
            "ticks": ""
           },
           "bgcolor": "#E5ECF6",
           "caxis": {
            "gridcolor": "white",
            "linecolor": "white",
            "ticks": ""
           }
          },
          "title": {
           "x": 0.05
          },
          "xaxis": {
           "automargin": true,
           "gridcolor": "white",
           "linecolor": "white",
           "ticks": "",
           "title": {
            "standoff": 15
           },
           "zerolinecolor": "white",
           "zerolinewidth": 2
          },
          "yaxis": {
           "automargin": true,
           "gridcolor": "white",
           "linecolor": "white",
           "ticks": "",
           "title": {
            "standoff": 15
           },
           "zerolinecolor": "white",
           "zerolinewidth": 2
          }
         }
        },
        "title": {
         "text": "United states: United states ism manufacturing pmi"
        },
        "xaxis": {
         "anchor": "y",
         "domain": [
          0,
          1
         ],
         "title": {
          "text": ""
         }
        },
        "yaxis": {
         "anchor": "x",
         "domain": [
          0,
          1
         ],
         "title": {
          "text": "Points"
         }
        }
       }
      }
     },
     "metadata": {},
     "output_type": "display_data"
    }
   ],
   "source": [
    "scruf.plot_series()  ## Plot the series."
   ]
  },
  {
   "cell_type": "code",
   "execution_count": 12,
   "metadata": {},
   "outputs": [
    {
     "data": {
      "text/plain": [
       "{'units': 'points',\n",
       " 'original_source': 'Institute for Supply Management',\n",
       " 'title': 'United States ISM Manufacturing PMI',\n",
       " 'indicator': 'business confidence',\n",
       " 'country': 'united states',\n",
       " 'source': 'Trading Economics',\n",
       " 'id': 'united-states/business-confidence',\n",
       " 'description': \"The Manufacturing ISM Report On Business is based on data compiled from purchasing and supply executives nationwide. Survey responses reflect the change, if any, in the current month compared to the previous month. For each of the indicators measured (New Orders, Backlog of Orders, New Export Orders, Imports, Production, Supplier Deliveries, Inventories, Customers' Inventories, Employment and Prices), the report shows the percentage reporting each response, the net difference between the number of responses in the positive economic direction and the negative economic direction, and the diffusion index. A PMI reading above 50 percent indicates that the manufacturing economy is generally expanding; below 50 percent indicates that it is generally declining.\",\n",
       " 'frequency': 'MS',\n",
       " 'start_date': '1948-01-01',\n",
       " 'end_date': '2025-01-01',\n",
       " 'min_value': 29.4,\n",
       " 'max_value': 77.5,\n",
       " 'length': 923}"
      ]
     },
     "execution_count": 12,
     "metadata": {},
     "output_type": "execute_result"
    }
   ],
   "source": [
    "scrup.metadata"
   ]
  },
  {
   "cell_type": "code",
   "execution_count": 14,
   "metadata": {},
   "outputs": [
    {
     "name": "stdout",
     "output_type": "stream",
     "text": [
      "1948-01-01    51.7\n",
      "1948-02-01    50.2\n",
      "1948-03-01    43.3\n",
      "1948-04-01    45.4\n",
      "1948-05-01    49.5\n",
      "Name: United States ISM Manufacturing PMI, dtype: float64 mixed <class 'pandas.core.series.Series'>\n",
      "1948-01-01    51.7\n",
      "1948-02-01    48.7\n",
      "1948-03-01    43.3\n",
      "1948-04-01    45.4\n",
      "1948-05-01    49.5\n",
      "Freq: MS, Name: business confidence, dtype: float64 path <class 'pandas.core.series.Series'>\n",
      "1948-02-01    50.2\n",
      "1948-04-01    45.4\n",
      "1948-05-01    49.5\n",
      "1948-07-01    48.4\n",
      "1948-08-01    45.1\n",
      "Name: United States ISM Manufacturing PMI, dtype: float64 tooltips <class 'pandas.core.series.Series'>\n"
     ]
    },
    {
     "data": {
      "application/vnd.plotly.v1+json": {
       "config": {
        "plotlyServerURL": "https://plot.ly"
       },
       "data": [
        {
         "line": {
          "color": "blue"
         },
         "mode": "lines",
         "name": "United States ISM Manufacturing PMI (method: mixed)",
         "type": "scatter",
         "x": [
          "1948-01-01T00:00:00.000000000",
          "1948-02-01T00:00:00.000000000",
          "1948-03-01T00:00:00.000000000",
          "1948-04-01T00:00:00.000000000",
          "1948-05-01T00:00:00.000000000",
          "1948-06-01T00:00:00.000000000",
          "1948-07-01T00:00:00.000000000",
          "1948-08-01T00:00:00.000000000",
          "1948-09-01T00:00:00.000000000",
          "1948-10-01T00:00:00.000000000",
          "1948-11-01T00:00:00.000000000",
          "1948-12-01T00:00:00.000000000",
          "1949-01-01T00:00:00.000000000",
          "1949-02-01T00:00:00.000000000",
          "1949-03-01T00:00:00.000000000",
          "1949-04-01T00:00:00.000000000",
          "1949-05-01T00:00:00.000000000",
          "1949-06-01T00:00:00.000000000",
          "1949-07-01T00:00:00.000000000",
          "1949-08-01T00:00:00.000000000",
          "1949-09-01T00:00:00.000000000",
          "1949-10-01T00:00:00.000000000",
          "1949-11-01T00:00:00.000000000",
          "1949-12-01T00:00:00.000000000",
          "1950-01-01T00:00:00.000000000",
          "1950-02-01T00:00:00.000000000",
          "1950-03-01T00:00:00.000000000",
          "1950-04-01T00:00:00.000000000",
          "1950-05-01T00:00:00.000000000",
          "1950-06-01T00:00:00.000000000",
          "1950-07-01T00:00:00.000000000",
          "1950-08-01T00:00:00.000000000",
          "1950-09-01T00:00:00.000000000",
          "1950-10-01T00:00:00.000000000",
          "1950-11-01T00:00:00.000000000",
          "1950-12-01T00:00:00.000000000",
          "1951-01-01T00:00:00.000000000",
          "1951-02-01T00:00:00.000000000",
          "1951-03-01T00:00:00.000000000",
          "1951-04-01T00:00:00.000000000",
          "1951-05-01T00:00:00.000000000",
          "1951-06-01T00:00:00.000000000",
          "1951-07-01T00:00:00.000000000",
          "1951-08-01T00:00:00.000000000",
          "1951-09-01T00:00:00.000000000",
          "1951-10-01T00:00:00.000000000",
          "1951-11-01T00:00:00.000000000",
          "1951-12-01T00:00:00.000000000",
          "1952-01-01T00:00:00.000000000",
          "1952-02-01T00:00:00.000000000",
          "1952-03-01T00:00:00.000000000",
          "1952-04-01T00:00:00.000000000",
          "1952-05-01T00:00:00.000000000",
          "1952-06-01T00:00:00.000000000",
          "1952-07-01T00:00:00.000000000",
          "1952-08-01T00:00:00.000000000",
          "1952-09-01T00:00:00.000000000",
          "1952-10-01T00:00:00.000000000",
          "1952-11-01T00:00:00.000000000",
          "1952-12-01T00:00:00.000000000",
          "1953-01-01T00:00:00.000000000",
          "1953-02-01T00:00:00.000000000",
          "1953-03-01T00:00:00.000000000",
          "1953-04-01T00:00:00.000000000",
          "1953-05-01T00:00:00.000000000",
          "1953-06-01T00:00:00.000000000",
          "1953-07-01T00:00:00.000000000",
          "1953-08-01T00:00:00.000000000",
          "1953-09-01T00:00:00.000000000",
          "1953-10-01T00:00:00.000000000",
          "1953-11-01T00:00:00.000000000",
          "1953-12-01T00:00:00.000000000",
          "1954-01-01T00:00:00.000000000",
          "1954-02-01T00:00:00.000000000",
          "1954-03-01T00:00:00.000000000",
          "1954-04-01T00:00:00.000000000",
          "1954-05-01T00:00:00.000000000",
          "1954-06-01T00:00:00.000000000",
          "1954-07-01T00:00:00.000000000",
          "1954-08-01T00:00:00.000000000",
          "1954-09-01T00:00:00.000000000",
          "1954-10-01T00:00:00.000000000",
          "1954-11-01T00:00:00.000000000",
          "1954-12-01T00:00:00.000000000",
          "1955-01-01T00:00:00.000000000",
          "1955-02-01T00:00:00.000000000",
          "1955-03-01T00:00:00.000000000",
          "1955-04-01T00:00:00.000000000",
          "1955-05-01T00:00:00.000000000",
          "1955-06-01T00:00:00.000000000",
          "1955-07-01T00:00:00.000000000",
          "1955-08-01T00:00:00.000000000",
          "1955-09-01T00:00:00.000000000",
          "1955-10-01T00:00:00.000000000",
          "1955-11-01T00:00:00.000000000",
          "1955-12-01T00:00:00.000000000",
          "1956-01-01T00:00:00.000000000",
          "1956-02-01T00:00:00.000000000",
          "1956-03-01T00:00:00.000000000",
          "1956-04-01T00:00:00.000000000",
          "1956-05-01T00:00:00.000000000",
          "1956-06-01T00:00:00.000000000",
          "1956-07-01T00:00:00.000000000",
          "1956-08-01T00:00:00.000000000",
          "1956-09-01T00:00:00.000000000",
          "1956-10-01T00:00:00.000000000",
          "1956-11-01T00:00:00.000000000",
          "1956-12-01T00:00:00.000000000",
          "1957-01-01T00:00:00.000000000",
          "1957-02-01T00:00:00.000000000",
          "1957-03-01T00:00:00.000000000",
          "1957-04-01T00:00:00.000000000",
          "1957-05-01T00:00:00.000000000",
          "1957-06-01T00:00:00.000000000",
          "1957-07-01T00:00:00.000000000",
          "1957-08-01T00:00:00.000000000",
          "1957-09-01T00:00:00.000000000",
          "1957-10-01T00:00:00.000000000",
          "1957-11-01T00:00:00.000000000",
          "1957-12-01T00:00:00.000000000",
          "1958-01-01T00:00:00.000000000",
          "1958-02-01T00:00:00.000000000",
          "1958-03-01T00:00:00.000000000",
          "1958-04-01T00:00:00.000000000",
          "1958-05-01T00:00:00.000000000",
          "1958-06-01T00:00:00.000000000",
          "1958-07-01T00:00:00.000000000",
          "1958-08-01T00:00:00.000000000",
          "1958-09-01T00:00:00.000000000",
          "1958-10-01T00:00:00.000000000",
          "1958-11-01T00:00:00.000000000",
          "1958-12-01T00:00:00.000000000",
          "1959-01-01T00:00:00.000000000",
          "1959-02-01T00:00:00.000000000",
          "1959-03-01T00:00:00.000000000",
          "1959-04-01T00:00:00.000000000",
          "1959-05-01T00:00:00.000000000",
          "1959-06-01T00:00:00.000000000",
          "1959-07-01T00:00:00.000000000",
          "1959-08-01T00:00:00.000000000",
          "1959-09-01T00:00:00.000000000",
          "1959-10-01T00:00:00.000000000",
          "1959-11-01T00:00:00.000000000",
          "1959-12-01T00:00:00.000000000",
          "1960-01-01T00:00:00.000000000",
          "1960-02-01T00:00:00.000000000",
          "1960-03-01T00:00:00.000000000",
          "1960-04-01T00:00:00.000000000",
          "1960-05-01T00:00:00.000000000",
          "1960-06-01T00:00:00.000000000",
          "1960-07-01T00:00:00.000000000",
          "1960-08-01T00:00:00.000000000",
          "1960-09-01T00:00:00.000000000",
          "1960-10-01T00:00:00.000000000",
          "1960-11-01T00:00:00.000000000",
          "1960-12-01T00:00:00.000000000",
          "1961-01-01T00:00:00.000000000",
          "1961-02-01T00:00:00.000000000",
          "1961-03-01T00:00:00.000000000",
          "1961-04-01T00:00:00.000000000",
          "1961-05-01T00:00:00.000000000",
          "1961-06-01T00:00:00.000000000",
          "1961-07-01T00:00:00.000000000",
          "1961-08-01T00:00:00.000000000",
          "1961-09-01T00:00:00.000000000",
          "1961-10-01T00:00:00.000000000",
          "1961-11-01T00:00:00.000000000",
          "1961-12-01T00:00:00.000000000",
          "1962-01-01T00:00:00.000000000",
          "1962-02-01T00:00:00.000000000",
          "1962-03-01T00:00:00.000000000",
          "1962-04-01T00:00:00.000000000",
          "1962-05-01T00:00:00.000000000",
          "1962-06-01T00:00:00.000000000",
          "1962-07-01T00:00:00.000000000",
          "1962-08-01T00:00:00.000000000",
          "1962-09-01T00:00:00.000000000",
          "1962-10-01T00:00:00.000000000",
          "1962-11-01T00:00:00.000000000",
          "1962-12-01T00:00:00.000000000",
          "1963-01-01T00:00:00.000000000",
          "1963-02-01T00:00:00.000000000",
          "1963-03-01T00:00:00.000000000",
          "1963-04-01T00:00:00.000000000",
          "1963-05-01T00:00:00.000000000",
          "1963-06-01T00:00:00.000000000",
          "1963-07-01T00:00:00.000000000",
          "1963-08-01T00:00:00.000000000",
          "1963-09-01T00:00:00.000000000",
          "1963-10-01T00:00:00.000000000",
          "1963-11-01T00:00:00.000000000",
          "1963-12-01T00:00:00.000000000",
          "1964-01-01T00:00:00.000000000",
          "1964-02-01T00:00:00.000000000",
          "1964-03-01T00:00:00.000000000",
          "1964-04-01T00:00:00.000000000",
          "1964-05-01T00:00:00.000000000",
          "1964-06-01T00:00:00.000000000",
          "1964-07-01T00:00:00.000000000",
          "1964-08-01T00:00:00.000000000",
          "1964-09-01T00:00:00.000000000",
          "1964-10-01T00:00:00.000000000",
          "1964-11-01T00:00:00.000000000",
          "1964-12-01T00:00:00.000000000",
          "1965-01-01T00:00:00.000000000",
          "1965-02-01T00:00:00.000000000",
          "1965-03-01T00:00:00.000000000",
          "1965-04-01T00:00:00.000000000",
          "1965-05-01T00:00:00.000000000",
          "1965-06-01T00:00:00.000000000",
          "1965-07-01T00:00:00.000000000",
          "1965-08-01T00:00:00.000000000",
          "1965-09-01T00:00:00.000000000",
          "1965-10-01T00:00:00.000000000",
          "1965-11-01T00:00:00.000000000",
          "1965-12-01T00:00:00.000000000",
          "1966-01-01T00:00:00.000000000",
          "1966-02-01T00:00:00.000000000",
          "1966-03-01T00:00:00.000000000",
          "1966-04-01T00:00:00.000000000",
          "1966-05-01T00:00:00.000000000",
          "1966-06-01T00:00:00.000000000",
          "1966-07-01T00:00:00.000000000",
          "1966-08-01T00:00:00.000000000",
          "1966-09-01T00:00:00.000000000",
          "1966-10-01T00:00:00.000000000",
          "1966-11-01T00:00:00.000000000",
          "1966-12-01T00:00:00.000000000",
          "1967-01-01T00:00:00.000000000",
          "1967-02-01T00:00:00.000000000",
          "1967-03-01T00:00:00.000000000",
          "1967-04-01T00:00:00.000000000",
          "1967-05-01T00:00:00.000000000",
          "1967-06-01T00:00:00.000000000",
          "1967-07-01T00:00:00.000000000",
          "1967-08-01T00:00:00.000000000",
          "1967-09-01T00:00:00.000000000",
          "1967-10-01T00:00:00.000000000",
          "1967-11-01T00:00:00.000000000",
          "1967-12-01T00:00:00.000000000",
          "1968-01-01T00:00:00.000000000",
          "1968-02-01T00:00:00.000000000",
          "1968-03-01T00:00:00.000000000",
          "1968-04-01T00:00:00.000000000",
          "1968-05-01T00:00:00.000000000",
          "1968-06-01T00:00:00.000000000",
          "1968-07-01T00:00:00.000000000",
          "1968-08-01T00:00:00.000000000",
          "1968-09-01T00:00:00.000000000",
          "1968-10-01T00:00:00.000000000",
          "1968-11-01T00:00:00.000000000",
          "1968-12-01T00:00:00.000000000",
          "1969-01-01T00:00:00.000000000",
          "1969-02-01T00:00:00.000000000",
          "1969-03-01T00:00:00.000000000",
          "1969-04-01T00:00:00.000000000",
          "1969-05-01T00:00:00.000000000",
          "1969-06-01T00:00:00.000000000",
          "1969-07-01T00:00:00.000000000",
          "1969-08-01T00:00:00.000000000",
          "1969-09-01T00:00:00.000000000",
          "1969-10-01T00:00:00.000000000",
          "1969-11-01T00:00:00.000000000",
          "1969-12-01T00:00:00.000000000",
          "1970-01-01T00:00:00.000000000",
          "1970-02-01T00:00:00.000000000",
          "1970-03-01T00:00:00.000000000",
          "1970-04-01T00:00:00.000000000",
          "1970-05-01T00:00:00.000000000",
          "1970-06-01T00:00:00.000000000",
          "1970-07-01T00:00:00.000000000",
          "1970-08-01T00:00:00.000000000",
          "1970-09-01T00:00:00.000000000",
          "1970-10-01T00:00:00.000000000",
          "1970-11-01T00:00:00.000000000",
          "1970-12-01T00:00:00.000000000",
          "1971-01-01T00:00:00.000000000",
          "1971-02-01T00:00:00.000000000",
          "1971-03-01T00:00:00.000000000",
          "1971-04-01T00:00:00.000000000",
          "1971-05-01T00:00:00.000000000",
          "1971-06-01T00:00:00.000000000",
          "1971-07-01T00:00:00.000000000",
          "1971-08-01T00:00:00.000000000",
          "1971-09-01T00:00:00.000000000",
          "1971-10-01T00:00:00.000000000",
          "1971-11-01T00:00:00.000000000",
          "1971-12-01T00:00:00.000000000",
          "1972-01-01T00:00:00.000000000",
          "1972-02-01T00:00:00.000000000",
          "1972-03-01T00:00:00.000000000",
          "1972-04-01T00:00:00.000000000",
          "1972-05-01T00:00:00.000000000",
          "1972-06-01T00:00:00.000000000",
          "1972-07-01T00:00:00.000000000",
          "1972-08-01T00:00:00.000000000",
          "1972-09-01T00:00:00.000000000",
          "1972-10-01T00:00:00.000000000",
          "1972-11-01T00:00:00.000000000",
          "1972-12-01T00:00:00.000000000",
          "1973-01-01T00:00:00.000000000",
          "1973-02-01T00:00:00.000000000",
          "1973-03-01T00:00:00.000000000",
          "1973-04-01T00:00:00.000000000",
          "1973-05-01T00:00:00.000000000",
          "1973-06-01T00:00:00.000000000",
          "1973-07-01T00:00:00.000000000",
          "1973-09-01T00:00:00.000000000",
          "1973-10-01T00:00:00.000000000",
          "1973-11-01T00:00:00.000000000",
          "1973-12-01T00:00:00.000000000",
          "1974-01-01T00:00:00.000000000",
          "1974-02-01T00:00:00.000000000",
          "1974-03-01T00:00:00.000000000",
          "1974-04-01T00:00:00.000000000",
          "1974-05-01T00:00:00.000000000",
          "1974-06-01T00:00:00.000000000",
          "1974-07-01T00:00:00.000000000",
          "1974-08-01T00:00:00.000000000",
          "1974-09-01T00:00:00.000000000",
          "1974-10-01T00:00:00.000000000",
          "1974-11-01T00:00:00.000000000",
          "1974-12-01T00:00:00.000000000",
          "1975-01-01T00:00:00.000000000",
          "1975-02-01T00:00:00.000000000",
          "1975-03-01T00:00:00.000000000",
          "1975-04-01T00:00:00.000000000",
          "1975-05-01T00:00:00.000000000",
          "1975-06-01T00:00:00.000000000",
          "1975-07-01T00:00:00.000000000",
          "1975-08-01T00:00:00.000000000",
          "1975-09-01T00:00:00.000000000",
          "1975-10-01T00:00:00.000000000",
          "1975-11-01T00:00:00.000000000",
          "1975-12-01T00:00:00.000000000",
          "1976-01-01T00:00:00.000000000",
          "1976-02-01T00:00:00.000000000",
          "1976-03-01T00:00:00.000000000",
          "1976-04-01T00:00:00.000000000",
          "1976-05-01T00:00:00.000000000",
          "1976-06-01T00:00:00.000000000",
          "1976-07-01T00:00:00.000000000",
          "1976-08-01T00:00:00.000000000",
          "1976-09-01T00:00:00.000000000",
          "1976-10-01T00:00:00.000000000",
          "1976-11-01T00:00:00.000000000",
          "1976-12-01T00:00:00.000000000",
          "1977-01-01T00:00:00.000000000",
          "1977-02-01T00:00:00.000000000",
          "1977-03-01T00:00:00.000000000",
          "1977-04-01T00:00:00.000000000",
          "1977-05-01T00:00:00.000000000",
          "1977-06-01T00:00:00.000000000",
          "1977-07-01T00:00:00.000000000",
          "1977-08-01T00:00:00.000000000",
          "1977-09-01T00:00:00.000000000",
          "1977-10-01T00:00:00.000000000",
          "1977-11-01T00:00:00.000000000",
          "1977-12-01T00:00:00.000000000",
          "1978-01-01T00:00:00.000000000",
          "1978-02-01T00:00:00.000000000",
          "1978-03-01T00:00:00.000000000",
          "1978-04-01T00:00:00.000000000",
          "1978-05-01T00:00:00.000000000",
          "1978-06-01T00:00:00.000000000",
          "1978-07-01T00:00:00.000000000",
          "1978-08-01T00:00:00.000000000",
          "1978-09-01T00:00:00.000000000",
          "1978-10-01T00:00:00.000000000",
          "1978-11-01T00:00:00.000000000",
          "1978-12-01T00:00:00.000000000",
          "1979-01-01T00:00:00.000000000",
          "1979-02-01T00:00:00.000000000",
          "1979-03-01T00:00:00.000000000",
          "1979-04-01T00:00:00.000000000",
          "1979-05-01T00:00:00.000000000",
          "1979-06-01T00:00:00.000000000",
          "1979-07-01T00:00:00.000000000",
          "1979-08-01T00:00:00.000000000",
          "1979-09-01T00:00:00.000000000",
          "1979-10-01T00:00:00.000000000",
          "1979-11-01T00:00:00.000000000",
          "1979-12-01T00:00:00.000000000",
          "1980-01-01T00:00:00.000000000",
          "1980-02-01T00:00:00.000000000",
          "1980-03-01T00:00:00.000000000",
          "1980-04-01T00:00:00.000000000",
          "1980-05-01T00:00:00.000000000",
          "1980-06-01T00:00:00.000000000",
          "1980-07-01T00:00:00.000000000",
          "1980-08-01T00:00:00.000000000",
          "1980-09-01T00:00:00.000000000",
          "1980-10-01T00:00:00.000000000",
          "1980-11-01T00:00:00.000000000",
          "1980-12-01T00:00:00.000000000",
          "1981-01-01T00:00:00.000000000",
          "1981-02-01T00:00:00.000000000",
          "1981-03-01T00:00:00.000000000",
          "1981-04-01T00:00:00.000000000",
          "1981-05-01T00:00:00.000000000",
          "1981-06-01T00:00:00.000000000",
          "1981-07-01T00:00:00.000000000",
          "1981-08-01T00:00:00.000000000",
          "1981-09-01T00:00:00.000000000",
          "1981-10-01T00:00:00.000000000",
          "1981-11-01T00:00:00.000000000",
          "1981-12-01T00:00:00.000000000",
          "1982-01-01T00:00:00.000000000",
          "1982-02-01T00:00:00.000000000",
          "1982-03-01T00:00:00.000000000",
          "1982-04-01T00:00:00.000000000",
          "1982-05-01T00:00:00.000000000",
          "1982-06-01T00:00:00.000000000",
          "1982-07-01T00:00:00.000000000",
          "1982-08-01T00:00:00.000000000",
          "1982-09-01T00:00:00.000000000",
          "1982-10-01T00:00:00.000000000",
          "1982-11-01T00:00:00.000000000",
          "1982-12-01T00:00:00.000000000",
          "1983-01-01T00:00:00.000000000",
          "1983-02-01T00:00:00.000000000",
          "1983-03-01T00:00:00.000000000",
          "1983-04-01T00:00:00.000000000",
          "1983-05-01T00:00:00.000000000",
          "1983-06-01T00:00:00.000000000",
          "1983-07-01T00:00:00.000000000",
          "1983-08-01T00:00:00.000000000",
          "1983-09-01T00:00:00.000000000",
          "1983-10-01T00:00:00.000000000",
          "1983-11-01T00:00:00.000000000",
          "1983-12-01T00:00:00.000000000",
          "1984-01-01T00:00:00.000000000",
          "1984-02-01T00:00:00.000000000",
          "1984-03-01T00:00:00.000000000",
          "1984-04-01T00:00:00.000000000",
          "1984-05-01T00:00:00.000000000",
          "1984-06-01T00:00:00.000000000",
          "1984-07-01T00:00:00.000000000",
          "1984-08-01T00:00:00.000000000",
          "1984-09-01T00:00:00.000000000",
          "1984-10-01T00:00:00.000000000",
          "1984-11-01T00:00:00.000000000",
          "1984-12-01T00:00:00.000000000",
          "1985-01-01T00:00:00.000000000",
          "1985-02-01T00:00:00.000000000",
          "1985-03-01T00:00:00.000000000",
          "1985-04-01T00:00:00.000000000",
          "1985-05-01T00:00:00.000000000",
          "1985-06-01T00:00:00.000000000",
          "1985-07-01T00:00:00.000000000",
          "1985-08-01T00:00:00.000000000",
          "1985-09-01T00:00:00.000000000",
          "1985-10-01T00:00:00.000000000",
          "1985-11-01T00:00:00.000000000",
          "1985-12-01T00:00:00.000000000",
          "1986-01-01T00:00:00.000000000",
          "1986-02-01T00:00:00.000000000",
          "1986-03-01T00:00:00.000000000",
          "1986-04-01T00:00:00.000000000",
          "1986-05-01T00:00:00.000000000",
          "1986-06-01T00:00:00.000000000",
          "1986-07-01T00:00:00.000000000",
          "1986-08-01T00:00:00.000000000",
          "1986-09-01T00:00:00.000000000",
          "1986-10-01T00:00:00.000000000",
          "1986-11-01T00:00:00.000000000",
          "1986-12-01T00:00:00.000000000",
          "1987-01-01T00:00:00.000000000",
          "1987-02-01T00:00:00.000000000",
          "1987-03-01T00:00:00.000000000",
          "1987-04-01T00:00:00.000000000",
          "1987-05-01T00:00:00.000000000",
          "1987-06-01T00:00:00.000000000",
          "1987-07-01T00:00:00.000000000",
          "1987-08-01T00:00:00.000000000",
          "1987-09-01T00:00:00.000000000",
          "1987-10-01T00:00:00.000000000",
          "1987-11-01T00:00:00.000000000",
          "1987-12-01T00:00:00.000000000",
          "1988-01-01T00:00:00.000000000",
          "1988-02-01T00:00:00.000000000",
          "1988-03-01T00:00:00.000000000",
          "1988-04-01T00:00:00.000000000",
          "1988-05-01T00:00:00.000000000",
          "1988-06-01T00:00:00.000000000",
          "1988-07-01T00:00:00.000000000",
          "1988-08-01T00:00:00.000000000",
          "1988-09-01T00:00:00.000000000",
          "1988-10-01T00:00:00.000000000",
          "1988-11-01T00:00:00.000000000",
          "1988-12-01T00:00:00.000000000",
          "1989-01-01T00:00:00.000000000",
          "1989-02-01T00:00:00.000000000",
          "1989-03-01T00:00:00.000000000",
          "1989-04-01T00:00:00.000000000",
          "1989-05-01T00:00:00.000000000",
          "1989-06-01T00:00:00.000000000",
          "1989-07-01T00:00:00.000000000",
          "1989-08-01T00:00:00.000000000",
          "1989-09-01T00:00:00.000000000",
          "1989-10-01T00:00:00.000000000",
          "1989-11-01T00:00:00.000000000",
          "1989-12-01T00:00:00.000000000",
          "1990-01-01T00:00:00.000000000",
          "1990-02-01T00:00:00.000000000",
          "1990-03-01T00:00:00.000000000",
          "1990-04-01T00:00:00.000000000",
          "1990-05-01T00:00:00.000000000",
          "1990-06-01T00:00:00.000000000",
          "1990-07-01T00:00:00.000000000",
          "1990-08-01T00:00:00.000000000",
          "1990-09-01T00:00:00.000000000",
          "1990-10-01T00:00:00.000000000",
          "1990-11-01T00:00:00.000000000",
          "1990-12-01T00:00:00.000000000",
          "1991-01-01T00:00:00.000000000",
          "1991-02-01T00:00:00.000000000",
          "1991-03-01T00:00:00.000000000",
          "1991-04-01T00:00:00.000000000",
          "1991-05-01T00:00:00.000000000",
          "1991-06-01T00:00:00.000000000",
          "1991-07-01T00:00:00.000000000",
          "1991-08-01T00:00:00.000000000",
          "1991-09-01T00:00:00.000000000",
          "1991-10-01T00:00:00.000000000",
          "1991-11-01T00:00:00.000000000",
          "1991-12-01T00:00:00.000000000",
          "1992-01-01T00:00:00.000000000",
          "1992-02-01T00:00:00.000000000",
          "1992-03-01T00:00:00.000000000",
          "1992-04-01T00:00:00.000000000",
          "1992-05-01T00:00:00.000000000",
          "1992-06-01T00:00:00.000000000",
          "1992-07-01T00:00:00.000000000",
          "1992-08-01T00:00:00.000000000",
          "1992-09-01T00:00:00.000000000",
          "1992-10-01T00:00:00.000000000",
          "1992-11-01T00:00:00.000000000",
          "1992-12-01T00:00:00.000000000",
          "1993-01-01T00:00:00.000000000",
          "1993-02-01T00:00:00.000000000",
          "1993-03-01T00:00:00.000000000",
          "1993-04-01T00:00:00.000000000",
          "1993-05-01T00:00:00.000000000",
          "1993-06-01T00:00:00.000000000",
          "1993-07-01T00:00:00.000000000",
          "1993-08-01T00:00:00.000000000",
          "1993-09-01T00:00:00.000000000",
          "1993-10-01T00:00:00.000000000",
          "1993-11-01T00:00:00.000000000",
          "1993-12-01T00:00:00.000000000",
          "1994-01-01T00:00:00.000000000",
          "1994-02-01T00:00:00.000000000",
          "1994-03-01T00:00:00.000000000",
          "1994-04-01T00:00:00.000000000",
          "1994-05-01T00:00:00.000000000",
          "1994-06-01T00:00:00.000000000",
          "1994-07-01T00:00:00.000000000",
          "1994-08-01T00:00:00.000000000",
          "1994-09-01T00:00:00.000000000",
          "1994-10-01T00:00:00.000000000",
          "1994-11-01T00:00:00.000000000",
          "1994-12-01T00:00:00.000000000",
          "1995-01-01T00:00:00.000000000",
          "1995-02-01T00:00:00.000000000",
          "1995-03-01T00:00:00.000000000",
          "1995-04-01T00:00:00.000000000",
          "1995-05-01T00:00:00.000000000",
          "1995-06-01T00:00:00.000000000",
          "1995-07-01T00:00:00.000000000",
          "1995-08-01T00:00:00.000000000",
          "1995-09-01T00:00:00.000000000",
          "1995-10-01T00:00:00.000000000",
          "1995-11-01T00:00:00.000000000",
          "1995-12-01T00:00:00.000000000",
          "1996-01-01T00:00:00.000000000",
          "1996-02-01T00:00:00.000000000",
          "1996-03-01T00:00:00.000000000",
          "1996-04-01T00:00:00.000000000",
          "1996-05-01T00:00:00.000000000",
          "1996-06-01T00:00:00.000000000",
          "1996-07-01T00:00:00.000000000",
          "1996-08-01T00:00:00.000000000",
          "1996-09-01T00:00:00.000000000",
          "1996-10-01T00:00:00.000000000",
          "1996-11-01T00:00:00.000000000",
          "1996-12-01T00:00:00.000000000",
          "1997-01-01T00:00:00.000000000",
          "1997-02-01T00:00:00.000000000",
          "1997-03-01T00:00:00.000000000",
          "1997-04-01T00:00:00.000000000",
          "1997-05-01T00:00:00.000000000",
          "1997-06-01T00:00:00.000000000",
          "1997-07-01T00:00:00.000000000",
          "1997-08-01T00:00:00.000000000",
          "1997-09-01T00:00:00.000000000",
          "1997-10-01T00:00:00.000000000",
          "1997-11-01T00:00:00.000000000",
          "1997-12-01T00:00:00.000000000",
          "1998-01-01T00:00:00.000000000",
          "1998-02-01T00:00:00.000000000",
          "1998-03-01T00:00:00.000000000",
          "1998-04-01T00:00:00.000000000",
          "1998-05-01T00:00:00.000000000",
          "1998-06-01T00:00:00.000000000",
          "1998-07-01T00:00:00.000000000",
          "1998-08-01T00:00:00.000000000",
          "1998-09-01T00:00:00.000000000",
          "1998-10-01T00:00:00.000000000",
          "1998-11-01T00:00:00.000000000",
          "1998-12-01T00:00:00.000000000",
          "1999-01-01T00:00:00.000000000",
          "1999-02-01T00:00:00.000000000",
          "1999-03-01T00:00:00.000000000",
          "1999-05-01T00:00:00.000000000",
          "1999-06-01T00:00:00.000000000",
          "1999-07-01T00:00:00.000000000",
          "1999-08-01T00:00:00.000000000",
          "1999-09-01T00:00:00.000000000",
          "1999-10-01T00:00:00.000000000",
          "1999-11-01T00:00:00.000000000",
          "1999-12-01T00:00:00.000000000",
          "2000-01-01T00:00:00.000000000",
          "2000-02-01T00:00:00.000000000",
          "2000-03-01T00:00:00.000000000",
          "2000-04-01T00:00:00.000000000",
          "2000-05-01T00:00:00.000000000",
          "2000-06-01T00:00:00.000000000",
          "2000-07-01T00:00:00.000000000",
          "2000-08-01T00:00:00.000000000",
          "2000-09-01T00:00:00.000000000",
          "2000-10-01T00:00:00.000000000",
          "2000-11-01T00:00:00.000000000",
          "2000-12-01T00:00:00.000000000",
          "2001-01-01T00:00:00.000000000",
          "2001-02-01T00:00:00.000000000",
          "2001-03-01T00:00:00.000000000",
          "2001-04-01T00:00:00.000000000",
          "2001-05-01T00:00:00.000000000",
          "2001-06-01T00:00:00.000000000",
          "2001-07-01T00:00:00.000000000",
          "2001-08-01T00:00:00.000000000",
          "2001-09-01T00:00:00.000000000",
          "2001-10-01T00:00:00.000000000",
          "2001-11-01T00:00:00.000000000",
          "2001-12-01T00:00:00.000000000",
          "2002-01-01T00:00:00.000000000",
          "2002-02-01T00:00:00.000000000",
          "2002-03-01T00:00:00.000000000",
          "2002-04-01T00:00:00.000000000",
          "2002-05-01T00:00:00.000000000",
          "2002-06-01T00:00:00.000000000",
          "2002-07-01T00:00:00.000000000",
          "2002-08-01T00:00:00.000000000",
          "2002-09-01T00:00:00.000000000",
          "2002-10-01T00:00:00.000000000",
          "2002-11-01T00:00:00.000000000",
          "2002-12-01T00:00:00.000000000",
          "2003-01-01T00:00:00.000000000",
          "2003-02-01T00:00:00.000000000",
          "2003-03-01T00:00:00.000000000",
          "2003-04-01T00:00:00.000000000",
          "2003-05-01T00:00:00.000000000",
          "2003-06-01T00:00:00.000000000",
          "2003-07-01T00:00:00.000000000",
          "2003-08-01T00:00:00.000000000",
          "2003-09-01T00:00:00.000000000",
          "2003-10-01T00:00:00.000000000",
          "2003-11-01T00:00:00.000000000",
          "2003-12-01T00:00:00.000000000",
          "2004-01-01T00:00:00.000000000",
          "2004-02-01T00:00:00.000000000",
          "2004-03-01T00:00:00.000000000",
          "2004-04-01T00:00:00.000000000",
          "2004-05-01T00:00:00.000000000",
          "2004-06-01T00:00:00.000000000",
          "2004-07-01T00:00:00.000000000",
          "2004-08-01T00:00:00.000000000",
          "2004-09-01T00:00:00.000000000",
          "2004-10-01T00:00:00.000000000",
          "2004-11-01T00:00:00.000000000",
          "2004-12-01T00:00:00.000000000",
          "2005-01-01T00:00:00.000000000",
          "2005-02-01T00:00:00.000000000",
          "2005-03-01T00:00:00.000000000",
          "2005-04-01T00:00:00.000000000",
          "2005-05-01T00:00:00.000000000",
          "2005-06-01T00:00:00.000000000",
          "2005-07-01T00:00:00.000000000",
          "2005-08-01T00:00:00.000000000",
          "2005-09-01T00:00:00.000000000",
          "2005-10-01T00:00:00.000000000",
          "2005-11-01T00:00:00.000000000",
          "2005-12-01T00:00:00.000000000",
          "2006-01-01T00:00:00.000000000",
          "2006-02-01T00:00:00.000000000",
          "2006-03-01T00:00:00.000000000",
          "2006-04-01T00:00:00.000000000",
          "2006-05-01T00:00:00.000000000",
          "2006-06-01T00:00:00.000000000",
          "2006-07-01T00:00:00.000000000",
          "2006-08-01T00:00:00.000000000",
          "2006-09-01T00:00:00.000000000",
          "2006-10-01T00:00:00.000000000",
          "2006-11-01T00:00:00.000000000",
          "2006-12-01T00:00:00.000000000",
          "2007-01-01T00:00:00.000000000",
          "2007-02-01T00:00:00.000000000",
          "2007-03-01T00:00:00.000000000",
          "2007-04-01T00:00:00.000000000",
          "2007-05-01T00:00:00.000000000",
          "2007-06-01T00:00:00.000000000",
          "2007-07-01T00:00:00.000000000",
          "2007-08-01T00:00:00.000000000",
          "2007-09-01T00:00:00.000000000",
          "2007-10-01T00:00:00.000000000",
          "2007-11-01T00:00:00.000000000",
          "2007-12-01T00:00:00.000000000",
          "2008-01-01T00:00:00.000000000",
          "2008-02-01T00:00:00.000000000",
          "2008-03-01T00:00:00.000000000",
          "2008-04-01T00:00:00.000000000",
          "2008-05-01T00:00:00.000000000",
          "2008-06-01T00:00:00.000000000",
          "2008-07-01T00:00:00.000000000",
          "2008-08-01T00:00:00.000000000",
          "2008-09-01T00:00:00.000000000",
          "2008-10-01T00:00:00.000000000",
          "2008-11-01T00:00:00.000000000",
          "2008-12-01T00:00:00.000000000",
          "2009-01-01T00:00:00.000000000",
          "2009-02-01T00:00:00.000000000",
          "2009-03-01T00:00:00.000000000",
          "2009-04-01T00:00:00.000000000",
          "2009-05-01T00:00:00.000000000",
          "2009-06-01T00:00:00.000000000",
          "2009-07-01T00:00:00.000000000",
          "2009-08-01T00:00:00.000000000",
          "2009-09-01T00:00:00.000000000",
          "2009-10-01T00:00:00.000000000",
          "2009-11-01T00:00:00.000000000",
          "2009-12-01T00:00:00.000000000",
          "2010-01-01T00:00:00.000000000",
          "2010-02-01T00:00:00.000000000",
          "2010-03-01T00:00:00.000000000",
          "2010-04-01T00:00:00.000000000",
          "2010-05-01T00:00:00.000000000",
          "2010-06-01T00:00:00.000000000",
          "2010-07-01T00:00:00.000000000",
          "2010-08-01T00:00:00.000000000",
          "2010-09-01T00:00:00.000000000",
          "2010-10-01T00:00:00.000000000",
          "2010-11-01T00:00:00.000000000",
          "2010-12-01T00:00:00.000000000",
          "2011-01-01T00:00:00.000000000",
          "2011-02-01T00:00:00.000000000",
          "2011-03-01T00:00:00.000000000",
          "2011-04-01T00:00:00.000000000",
          "2011-05-01T00:00:00.000000000",
          "2011-06-01T00:00:00.000000000",
          "2011-07-01T00:00:00.000000000",
          "2011-08-01T00:00:00.000000000",
          "2011-09-01T00:00:00.000000000",
          "2011-10-01T00:00:00.000000000",
          "2011-11-01T00:00:00.000000000",
          "2011-12-01T00:00:00.000000000",
          "2012-01-01T00:00:00.000000000",
          "2012-02-01T00:00:00.000000000",
          "2012-03-01T00:00:00.000000000",
          "2012-04-01T00:00:00.000000000",
          "2012-05-01T00:00:00.000000000",
          "2012-06-01T00:00:00.000000000",
          "2012-07-01T00:00:00.000000000",
          "2012-08-01T00:00:00.000000000",
          "2012-09-01T00:00:00.000000000",
          "2012-10-01T00:00:00.000000000",
          "2012-11-01T00:00:00.000000000",
          "2012-12-01T00:00:00.000000000",
          "2013-01-01T00:00:00.000000000",
          "2013-02-01T00:00:00.000000000",
          "2013-03-01T00:00:00.000000000",
          "2013-04-01T00:00:00.000000000",
          "2013-05-01T00:00:00.000000000",
          "2013-06-01T00:00:00.000000000",
          "2013-07-01T00:00:00.000000000",
          "2013-08-01T00:00:00.000000000",
          "2013-09-01T00:00:00.000000000",
          "2013-10-01T00:00:00.000000000",
          "2013-11-01T00:00:00.000000000",
          "2013-12-01T00:00:00.000000000",
          "2014-01-01T00:00:00.000000000",
          "2014-02-01T00:00:00.000000000",
          "2014-03-01T00:00:00.000000000",
          "2014-04-01T00:00:00.000000000",
          "2014-05-01T00:00:00.000000000",
          "2014-06-01T00:00:00.000000000",
          "2014-07-01T00:00:00.000000000",
          "2014-08-01T00:00:00.000000000",
          "2014-09-01T00:00:00.000000000",
          "2014-10-01T00:00:00.000000000",
          "2014-11-01T00:00:00.000000000",
          "2014-12-01T00:00:00.000000000",
          "2015-01-01T00:00:00.000000000",
          "2015-02-01T00:00:00.000000000",
          "2015-03-01T00:00:00.000000000",
          "2015-04-01T00:00:00.000000000",
          "2015-05-01T00:00:00.000000000",
          "2015-06-01T00:00:00.000000000",
          "2015-07-01T00:00:00.000000000",
          "2015-08-01T00:00:00.000000000",
          "2015-09-01T00:00:00.000000000",
          "2015-10-01T00:00:00.000000000",
          "2015-11-01T00:00:00.000000000",
          "2015-12-01T00:00:00.000000000",
          "2016-01-01T00:00:00.000000000",
          "2016-02-01T00:00:00.000000000",
          "2016-03-01T00:00:00.000000000",
          "2016-04-01T00:00:00.000000000",
          "2016-05-01T00:00:00.000000000",
          "2016-06-01T00:00:00.000000000",
          "2016-07-01T00:00:00.000000000",
          "2016-08-01T00:00:00.000000000",
          "2016-09-01T00:00:00.000000000",
          "2016-10-01T00:00:00.000000000",
          "2016-11-01T00:00:00.000000000",
          "2016-12-01T00:00:00.000000000",
          "2017-01-01T00:00:00.000000000",
          "2017-02-01T00:00:00.000000000",
          "2017-03-01T00:00:00.000000000",
          "2017-04-01T00:00:00.000000000",
          "2017-05-01T00:00:00.000000000",
          "2017-06-01T00:00:00.000000000",
          "2017-07-01T00:00:00.000000000",
          "2017-08-01T00:00:00.000000000",
          "2017-09-01T00:00:00.000000000",
          "2017-10-01T00:00:00.000000000",
          "2017-11-01T00:00:00.000000000",
          "2017-12-01T00:00:00.000000000",
          "2018-01-01T00:00:00.000000000",
          "2018-02-01T00:00:00.000000000",
          "2018-03-01T00:00:00.000000000",
          "2018-04-01T00:00:00.000000000",
          "2018-05-01T00:00:00.000000000",
          "2018-06-01T00:00:00.000000000",
          "2018-07-01T00:00:00.000000000",
          "2018-08-01T00:00:00.000000000",
          "2018-09-01T00:00:00.000000000",
          "2018-10-01T00:00:00.000000000",
          "2018-11-01T00:00:00.000000000",
          "2018-12-01T00:00:00.000000000",
          "2019-01-01T00:00:00.000000000",
          "2019-02-01T00:00:00.000000000",
          "2019-03-01T00:00:00.000000000",
          "2019-04-01T00:00:00.000000000",
          "2019-05-01T00:00:00.000000000",
          "2019-06-01T00:00:00.000000000",
          "2019-07-01T00:00:00.000000000",
          "2019-08-01T00:00:00.000000000",
          "2019-09-01T00:00:00.000000000",
          "2019-10-01T00:00:00.000000000",
          "2019-11-01T00:00:00.000000000",
          "2019-12-01T00:00:00.000000000",
          "2020-01-01T00:00:00.000000000",
          "2020-02-01T00:00:00.000000000",
          "2020-03-01T00:00:00.000000000",
          "2020-04-01T00:00:00.000000000",
          "2020-05-01T00:00:00.000000000",
          "2020-06-01T00:00:00.000000000",
          "2020-07-01T00:00:00.000000000",
          "2020-08-01T00:00:00.000000000",
          "2020-09-01T00:00:00.000000000",
          "2020-10-01T00:00:00.000000000",
          "2020-11-01T00:00:00.000000000",
          "2020-12-01T00:00:00.000000000",
          "2021-01-01T00:00:00.000000000",
          "2021-02-01T00:00:00.000000000",
          "2021-03-01T00:00:00.000000000",
          "2021-04-01T00:00:00.000000000",
          "2021-05-01T00:00:00.000000000",
          "2021-06-01T00:00:00.000000000",
          "2021-07-01T00:00:00.000000000",
          "2021-08-01T00:00:00.000000000",
          "2021-09-01T00:00:00.000000000",
          "2021-10-01T00:00:00.000000000",
          "2021-11-01T00:00:00.000000000",
          "2021-12-01T00:00:00.000000000",
          "2022-01-01T00:00:00.000000000",
          "2022-02-01T00:00:00.000000000",
          "2022-03-01T00:00:00.000000000",
          "2022-04-01T00:00:00.000000000",
          "2022-05-01T00:00:00.000000000",
          "2022-06-01T00:00:00.000000000",
          "2022-07-01T00:00:00.000000000",
          "2022-08-01T00:00:00.000000000",
          "2022-09-01T00:00:00.000000000",
          "2022-10-01T00:00:00.000000000",
          "2022-11-01T00:00:00.000000000",
          "2022-12-01T00:00:00.000000000",
          "2023-01-01T00:00:00.000000000",
          "2023-02-01T00:00:00.000000000",
          "2023-03-01T00:00:00.000000000",
          "2023-04-01T00:00:00.000000000",
          "2023-05-01T00:00:00.000000000",
          "2023-06-01T00:00:00.000000000",
          "2023-07-01T00:00:00.000000000",
          "2023-08-01T00:00:00.000000000",
          "2023-09-01T00:00:00.000000000",
          "2023-10-01T00:00:00.000000000",
          "2023-11-01T00:00:00.000000000",
          "2023-12-01T00:00:00.000000000",
          "2024-01-01T00:00:00.000000000",
          "2024-02-01T00:00:00.000000000",
          "2024-03-01T00:00:00.000000000",
          "2024-04-01T00:00:00.000000000",
          "2024-05-01T00:00:00.000000000",
          "2024-06-01T00:00:00.000000000",
          "2024-07-01T00:00:00.000000000",
          "2024-08-01T00:00:00.000000000",
          "2024-09-01T00:00:00.000000000",
          "2024-10-01T00:00:00.000000000",
          "2024-11-01T00:00:00.000000000",
          "2024-12-01T00:00:00.000000000",
          "2025-01-01T00:00:00.000000000"
         ],
         "y": {
          "bdata": "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",
          "dtype": "f8"
         }
        },
        {
         "line": {
          "color": "red"
         },
         "mode": "lines",
         "name": "business confidence (method: path)",
         "type": "scatter",
         "x": [
          "1948-01-01T00:00:00.000000000",
          "1948-02-01T00:00:00.000000000",
          "1948-03-01T00:00:00.000000000",
          "1948-04-01T00:00:00.000000000",
          "1948-05-01T00:00:00.000000000",
          "1948-06-01T00:00:00.000000000",
          "1948-07-01T00:00:00.000000000",
          "1948-08-01T00:00:00.000000000",
          "1948-09-01T00:00:00.000000000",
          "1948-10-01T00:00:00.000000000",
          "1948-11-01T00:00:00.000000000",
          "1948-12-01T00:00:00.000000000",
          "1949-01-01T00:00:00.000000000",
          "1949-02-01T00:00:00.000000000",
          "1949-03-01T00:00:00.000000000",
          "1949-04-01T00:00:00.000000000",
          "1949-05-01T00:00:00.000000000",
          "1949-06-01T00:00:00.000000000",
          "1949-07-01T00:00:00.000000000",
          "1949-08-01T00:00:00.000000000",
          "1949-09-01T00:00:00.000000000",
          "1949-10-01T00:00:00.000000000",
          "1949-11-01T00:00:00.000000000",
          "1949-12-01T00:00:00.000000000",
          "1950-01-01T00:00:00.000000000",
          "1950-02-01T00:00:00.000000000",
          "1950-03-01T00:00:00.000000000",
          "1950-04-01T00:00:00.000000000",
          "1950-05-01T00:00:00.000000000",
          "1950-06-01T00:00:00.000000000",
          "1950-07-01T00:00:00.000000000",
          "1950-08-01T00:00:00.000000000",
          "1950-09-01T00:00:00.000000000",
          "1950-10-01T00:00:00.000000000",
          "1950-11-01T00:00:00.000000000",
          "1950-12-01T00:00:00.000000000",
          "1951-01-01T00:00:00.000000000",
          "1951-02-01T00:00:00.000000000",
          "1951-03-01T00:00:00.000000000",
          "1951-04-01T00:00:00.000000000",
          "1951-05-01T00:00:00.000000000",
          "1951-06-01T00:00:00.000000000",
          "1951-07-01T00:00:00.000000000",
          "1951-08-01T00:00:00.000000000",
          "1951-09-01T00:00:00.000000000",
          "1951-10-01T00:00:00.000000000",
          "1951-11-01T00:00:00.000000000",
          "1951-12-01T00:00:00.000000000",
          "1952-01-01T00:00:00.000000000",
          "1952-02-01T00:00:00.000000000",
          "1952-03-01T00:00:00.000000000",
          "1952-04-01T00:00:00.000000000",
          "1952-05-01T00:00:00.000000000",
          "1952-06-01T00:00:00.000000000",
          "1952-07-01T00:00:00.000000000",
          "1952-08-01T00:00:00.000000000",
          "1952-09-01T00:00:00.000000000",
          "1952-10-01T00:00:00.000000000",
          "1952-11-01T00:00:00.000000000",
          "1952-12-01T00:00:00.000000000",
          "1953-01-01T00:00:00.000000000",
          "1953-02-01T00:00:00.000000000",
          "1953-03-01T00:00:00.000000000",
          "1953-04-01T00:00:00.000000000",
          "1953-05-01T00:00:00.000000000",
          "1953-06-01T00:00:00.000000000",
          "1953-07-01T00:00:00.000000000",
          "1953-08-01T00:00:00.000000000",
          "1953-09-01T00:00:00.000000000",
          "1953-10-01T00:00:00.000000000",
          "1953-11-01T00:00:00.000000000",
          "1953-12-01T00:00:00.000000000",
          "1954-01-01T00:00:00.000000000",
          "1954-02-01T00:00:00.000000000",
          "1954-03-01T00:00:00.000000000",
          "1954-04-01T00:00:00.000000000",
          "1954-05-01T00:00:00.000000000",
          "1954-06-01T00:00:00.000000000",
          "1954-07-01T00:00:00.000000000",
          "1954-08-01T00:00:00.000000000",
          "1954-09-01T00:00:00.000000000",
          "1954-10-01T00:00:00.000000000",
          "1954-11-01T00:00:00.000000000",
          "1954-12-01T00:00:00.000000000",
          "1955-01-01T00:00:00.000000000",
          "1955-02-01T00:00:00.000000000",
          "1955-03-01T00:00:00.000000000",
          "1955-04-01T00:00:00.000000000",
          "1955-05-01T00:00:00.000000000",
          "1955-06-01T00:00:00.000000000",
          "1955-07-01T00:00:00.000000000",
          "1955-08-01T00:00:00.000000000",
          "1955-09-01T00:00:00.000000000",
          "1955-10-01T00:00:00.000000000",
          "1955-11-01T00:00:00.000000000",
          "1955-12-01T00:00:00.000000000",
          "1956-01-01T00:00:00.000000000",
          "1956-02-01T00:00:00.000000000",
          "1956-03-01T00:00:00.000000000",
          "1956-04-01T00:00:00.000000000",
          "1956-05-01T00:00:00.000000000",
          "1956-06-01T00:00:00.000000000",
          "1956-07-01T00:00:00.000000000",
          "1956-08-01T00:00:00.000000000",
          "1956-09-01T00:00:00.000000000",
          "1956-10-01T00:00:00.000000000",
          "1956-11-01T00:00:00.000000000",
          "1956-12-01T00:00:00.000000000",
          "1957-01-01T00:00:00.000000000",
          "1957-02-01T00:00:00.000000000",
          "1957-03-01T00:00:00.000000000",
          "1957-04-01T00:00:00.000000000",
          "1957-05-01T00:00:00.000000000",
          "1957-06-01T00:00:00.000000000",
          "1957-07-01T00:00:00.000000000",
          "1957-08-01T00:00:00.000000000",
          "1957-09-01T00:00:00.000000000",
          "1957-10-01T00:00:00.000000000",
          "1957-11-01T00:00:00.000000000",
          "1957-12-01T00:00:00.000000000",
          "1958-01-01T00:00:00.000000000",
          "1958-02-01T00:00:00.000000000",
          "1958-03-01T00:00:00.000000000",
          "1958-04-01T00:00:00.000000000",
          "1958-05-01T00:00:00.000000000",
          "1958-06-01T00:00:00.000000000",
          "1958-07-01T00:00:00.000000000",
          "1958-08-01T00:00:00.000000000",
          "1958-09-01T00:00:00.000000000",
          "1958-10-01T00:00:00.000000000",
          "1958-11-01T00:00:00.000000000",
          "1958-12-01T00:00:00.000000000",
          "1959-01-01T00:00:00.000000000",
          "1959-02-01T00:00:00.000000000",
          "1959-03-01T00:00:00.000000000",
          "1959-04-01T00:00:00.000000000",
          "1959-05-01T00:00:00.000000000",
          "1959-06-01T00:00:00.000000000",
          "1959-07-01T00:00:00.000000000",
          "1959-08-01T00:00:00.000000000",
          "1959-09-01T00:00:00.000000000",
          "1959-10-01T00:00:00.000000000",
          "1959-11-01T00:00:00.000000000",
          "1959-12-01T00:00:00.000000000",
          "1960-01-01T00:00:00.000000000",
          "1960-02-01T00:00:00.000000000",
          "1960-03-01T00:00:00.000000000",
          "1960-04-01T00:00:00.000000000",
          "1960-05-01T00:00:00.000000000",
          "1960-06-01T00:00:00.000000000",
          "1960-07-01T00:00:00.000000000",
          "1960-08-01T00:00:00.000000000",
          "1960-09-01T00:00:00.000000000",
          "1960-10-01T00:00:00.000000000",
          "1960-11-01T00:00:00.000000000",
          "1960-12-01T00:00:00.000000000",
          "1961-01-01T00:00:00.000000000",
          "1961-02-01T00:00:00.000000000",
          "1961-03-01T00:00:00.000000000",
          "1961-04-01T00:00:00.000000000",
          "1961-05-01T00:00:00.000000000",
          "1961-06-01T00:00:00.000000000",
          "1961-07-01T00:00:00.000000000",
          "1961-08-01T00:00:00.000000000",
          "1961-09-01T00:00:00.000000000",
          "1961-10-01T00:00:00.000000000",
          "1961-11-01T00:00:00.000000000",
          "1961-12-01T00:00:00.000000000",
          "1962-01-01T00:00:00.000000000",
          "1962-02-01T00:00:00.000000000",
          "1962-03-01T00:00:00.000000000",
          "1962-04-01T00:00:00.000000000",
          "1962-05-01T00:00:00.000000000",
          "1962-06-01T00:00:00.000000000",
          "1962-07-01T00:00:00.000000000",
          "1962-08-01T00:00:00.000000000",
          "1962-09-01T00:00:00.000000000",
          "1962-10-01T00:00:00.000000000",
          "1962-11-01T00:00:00.000000000",
          "1962-12-01T00:00:00.000000000",
          "1963-01-01T00:00:00.000000000",
          "1963-02-01T00:00:00.000000000",
          "1963-03-01T00:00:00.000000000",
          "1963-04-01T00:00:00.000000000",
          "1963-05-01T00:00:00.000000000",
          "1963-06-01T00:00:00.000000000",
          "1963-07-01T00:00:00.000000000",
          "1963-08-01T00:00:00.000000000",
          "1963-09-01T00:00:00.000000000",
          "1963-10-01T00:00:00.000000000",
          "1963-11-01T00:00:00.000000000",
          "1963-12-01T00:00:00.000000000",
          "1964-01-01T00:00:00.000000000",
          "1964-02-01T00:00:00.000000000",
          "1964-03-01T00:00:00.000000000",
          "1964-04-01T00:00:00.000000000",
          "1964-05-01T00:00:00.000000000",
          "1964-06-01T00:00:00.000000000",
          "1964-07-01T00:00:00.000000000",
          "1964-08-01T00:00:00.000000000",
          "1964-09-01T00:00:00.000000000",
          "1964-10-01T00:00:00.000000000",
          "1964-11-01T00:00:00.000000000",
          "1964-12-01T00:00:00.000000000",
          "1965-01-01T00:00:00.000000000",
          "1965-02-01T00:00:00.000000000",
          "1965-03-01T00:00:00.000000000",
          "1965-04-01T00:00:00.000000000",
          "1965-05-01T00:00:00.000000000",
          "1965-06-01T00:00:00.000000000",
          "1965-07-01T00:00:00.000000000",
          "1965-08-01T00:00:00.000000000",
          "1965-09-01T00:00:00.000000000",
          "1965-10-01T00:00:00.000000000",
          "1965-11-01T00:00:00.000000000",
          "1965-12-01T00:00:00.000000000",
          "1966-01-01T00:00:00.000000000",
          "1966-02-01T00:00:00.000000000",
          "1966-03-01T00:00:00.000000000",
          "1966-04-01T00:00:00.000000000",
          "1966-05-01T00:00:00.000000000",
          "1966-06-01T00:00:00.000000000",
          "1966-07-01T00:00:00.000000000",
          "1966-08-01T00:00:00.000000000",
          "1966-09-01T00:00:00.000000000",
          "1966-10-01T00:00:00.000000000",
          "1966-11-01T00:00:00.000000000",
          "1966-12-01T00:00:00.000000000",
          "1967-01-01T00:00:00.000000000",
          "1967-02-01T00:00:00.000000000",
          "1967-03-01T00:00:00.000000000",
          "1967-04-01T00:00:00.000000000",
          "1967-05-01T00:00:00.000000000",
          "1967-06-01T00:00:00.000000000",
          "1967-07-01T00:00:00.000000000",
          "1967-08-01T00:00:00.000000000",
          "1967-09-01T00:00:00.000000000",
          "1967-10-01T00:00:00.000000000",
          "1967-11-01T00:00:00.000000000",
          "1967-12-01T00:00:00.000000000",
          "1968-01-01T00:00:00.000000000",
          "1968-02-01T00:00:00.000000000",
          "1968-03-01T00:00:00.000000000",
          "1968-04-01T00:00:00.000000000",
          "1968-05-01T00:00:00.000000000",
          "1968-06-01T00:00:00.000000000",
          "1968-07-01T00:00:00.000000000",
          "1968-08-01T00:00:00.000000000",
          "1968-09-01T00:00:00.000000000",
          "1968-10-01T00:00:00.000000000",
          "1968-11-01T00:00:00.000000000",
          "1968-12-01T00:00:00.000000000",
          "1969-01-01T00:00:00.000000000",
          "1969-02-01T00:00:00.000000000",
          "1969-03-01T00:00:00.000000000",
          "1969-04-01T00:00:00.000000000",
          "1969-05-01T00:00:00.000000000",
          "1969-06-01T00:00:00.000000000",
          "1969-07-01T00:00:00.000000000",
          "1969-08-01T00:00:00.000000000",
          "1969-09-01T00:00:00.000000000",
          "1969-10-01T00:00:00.000000000",
          "1969-11-01T00:00:00.000000000",
          "1969-12-01T00:00:00.000000000",
          "1970-01-01T00:00:00.000000000",
          "1970-02-01T00:00:00.000000000",
          "1970-03-01T00:00:00.000000000",
          "1970-04-01T00:00:00.000000000",
          "1970-05-01T00:00:00.000000000",
          "1970-06-01T00:00:00.000000000",
          "1970-07-01T00:00:00.000000000",
          "1970-08-01T00:00:00.000000000",
          "1970-09-01T00:00:00.000000000",
          "1970-10-01T00:00:00.000000000",
          "1970-11-01T00:00:00.000000000",
          "1970-12-01T00:00:00.000000000",
          "1971-01-01T00:00:00.000000000",
          "1971-02-01T00:00:00.000000000",
          "1971-03-01T00:00:00.000000000",
          "1971-04-01T00:00:00.000000000",
          "1971-05-01T00:00:00.000000000",
          "1971-06-01T00:00:00.000000000",
          "1971-07-01T00:00:00.000000000",
          "1971-08-01T00:00:00.000000000",
          "1971-09-01T00:00:00.000000000",
          "1971-10-01T00:00:00.000000000",
          "1971-11-01T00:00:00.000000000",
          "1971-12-01T00:00:00.000000000",
          "1972-01-01T00:00:00.000000000",
          "1972-02-01T00:00:00.000000000",
          "1972-03-01T00:00:00.000000000",
          "1972-04-01T00:00:00.000000000",
          "1972-05-01T00:00:00.000000000",
          "1972-06-01T00:00:00.000000000",
          "1972-07-01T00:00:00.000000000",
          "1972-08-01T00:00:00.000000000",
          "1972-09-01T00:00:00.000000000",
          "1972-10-01T00:00:00.000000000",
          "1972-11-01T00:00:00.000000000",
          "1972-12-01T00:00:00.000000000",
          "1973-01-01T00:00:00.000000000",
          "1973-02-01T00:00:00.000000000",
          "1973-03-01T00:00:00.000000000",
          "1973-04-01T00:00:00.000000000",
          "1973-05-01T00:00:00.000000000",
          "1973-06-01T00:00:00.000000000",
          "1973-07-01T00:00:00.000000000",
          "1973-08-01T00:00:00.000000000",
          "1973-09-01T00:00:00.000000000",
          "1973-10-01T00:00:00.000000000",
          "1973-11-01T00:00:00.000000000",
          "1973-12-01T00:00:00.000000000",
          "1974-01-01T00:00:00.000000000",
          "1974-02-01T00:00:00.000000000",
          "1974-03-01T00:00:00.000000000",
          "1974-04-01T00:00:00.000000000",
          "1974-05-01T00:00:00.000000000",
          "1974-06-01T00:00:00.000000000",
          "1974-07-01T00:00:00.000000000",
          "1974-08-01T00:00:00.000000000",
          "1974-09-01T00:00:00.000000000",
          "1974-10-01T00:00:00.000000000",
          "1974-11-01T00:00:00.000000000",
          "1974-12-01T00:00:00.000000000",
          "1975-01-01T00:00:00.000000000",
          "1975-02-01T00:00:00.000000000",
          "1975-03-01T00:00:00.000000000",
          "1975-04-01T00:00:00.000000000",
          "1975-05-01T00:00:00.000000000",
          "1975-06-01T00:00:00.000000000",
          "1975-07-01T00:00:00.000000000",
          "1975-08-01T00:00:00.000000000",
          "1975-09-01T00:00:00.000000000",
          "1975-10-01T00:00:00.000000000",
          "1975-11-01T00:00:00.000000000",
          "1975-12-01T00:00:00.000000000",
          "1976-01-01T00:00:00.000000000",
          "1976-02-01T00:00:00.000000000",
          "1976-03-01T00:00:00.000000000",
          "1976-04-01T00:00:00.000000000",
          "1976-05-01T00:00:00.000000000",
          "1976-06-01T00:00:00.000000000",
          "1976-07-01T00:00:00.000000000",
          "1976-08-01T00:00:00.000000000",
          "1976-09-01T00:00:00.000000000",
          "1976-10-01T00:00:00.000000000",
          "1976-11-01T00:00:00.000000000",
          "1976-12-01T00:00:00.000000000",
          "1977-01-01T00:00:00.000000000",
          "1977-02-01T00:00:00.000000000",
          "1977-03-01T00:00:00.000000000",
          "1977-04-01T00:00:00.000000000",
          "1977-05-01T00:00:00.000000000",
          "1977-06-01T00:00:00.000000000",
          "1977-07-01T00:00:00.000000000",
          "1977-08-01T00:00:00.000000000",
          "1977-09-01T00:00:00.000000000",
          "1977-10-01T00:00:00.000000000",
          "1977-11-01T00:00:00.000000000",
          "1977-12-01T00:00:00.000000000",
          "1978-01-01T00:00:00.000000000",
          "1978-02-01T00:00:00.000000000",
          "1978-03-01T00:00:00.000000000",
          "1978-04-01T00:00:00.000000000",
          "1978-05-01T00:00:00.000000000",
          "1978-06-01T00:00:00.000000000",
          "1978-07-01T00:00:00.000000000",
          "1978-08-01T00:00:00.000000000",
          "1978-09-01T00:00:00.000000000",
          "1978-10-01T00:00:00.000000000",
          "1978-11-01T00:00:00.000000000",
          "1978-12-01T00:00:00.000000000",
          "1979-01-01T00:00:00.000000000",
          "1979-02-01T00:00:00.000000000",
          "1979-03-01T00:00:00.000000000",
          "1979-04-01T00:00:00.000000000",
          "1979-05-01T00:00:00.000000000",
          "1979-06-01T00:00:00.000000000",
          "1979-07-01T00:00:00.000000000",
          "1979-08-01T00:00:00.000000000",
          "1979-09-01T00:00:00.000000000",
          "1979-10-01T00:00:00.000000000",
          "1979-11-01T00:00:00.000000000",
          "1979-12-01T00:00:00.000000000",
          "1980-01-01T00:00:00.000000000",
          "1980-02-01T00:00:00.000000000",
          "1980-03-01T00:00:00.000000000",
          "1980-04-01T00:00:00.000000000",
          "1980-05-01T00:00:00.000000000",
          "1980-06-01T00:00:00.000000000",
          "1980-07-01T00:00:00.000000000",
          "1980-08-01T00:00:00.000000000",
          "1980-09-01T00:00:00.000000000",
          "1980-10-01T00:00:00.000000000",
          "1980-11-01T00:00:00.000000000",
          "1980-12-01T00:00:00.000000000",
          "1981-01-01T00:00:00.000000000",
          "1981-02-01T00:00:00.000000000",
          "1981-03-01T00:00:00.000000000",
          "1981-04-01T00:00:00.000000000",
          "1981-05-01T00:00:00.000000000",
          "1981-06-01T00:00:00.000000000",
          "1981-07-01T00:00:00.000000000",
          "1981-08-01T00:00:00.000000000",
          "1981-09-01T00:00:00.000000000",
          "1981-10-01T00:00:00.000000000",
          "1981-11-01T00:00:00.000000000",
          "1981-12-01T00:00:00.000000000",
          "1982-01-01T00:00:00.000000000",
          "1982-02-01T00:00:00.000000000",
          "1982-03-01T00:00:00.000000000",
          "1982-04-01T00:00:00.000000000",
          "1982-05-01T00:00:00.000000000",
          "1982-06-01T00:00:00.000000000",
          "1982-07-01T00:00:00.000000000",
          "1982-08-01T00:00:00.000000000",
          "1982-09-01T00:00:00.000000000",
          "1982-10-01T00:00:00.000000000",
          "1982-11-01T00:00:00.000000000",
          "1982-12-01T00:00:00.000000000",
          "1983-01-01T00:00:00.000000000",
          "1983-02-01T00:00:00.000000000",
          "1983-03-01T00:00:00.000000000",
          "1983-04-01T00:00:00.000000000",
          "1983-05-01T00:00:00.000000000",
          "1983-06-01T00:00:00.000000000",
          "1983-07-01T00:00:00.000000000",
          "1983-08-01T00:00:00.000000000",
          "1983-09-01T00:00:00.000000000",
          "1983-10-01T00:00:00.000000000",
          "1983-11-01T00:00:00.000000000",
          "1983-12-01T00:00:00.000000000",
          "1984-01-01T00:00:00.000000000",
          "1984-02-01T00:00:00.000000000",
          "1984-03-01T00:00:00.000000000",
          "1984-04-01T00:00:00.000000000",
          "1984-05-01T00:00:00.000000000",
          "1984-06-01T00:00:00.000000000",
          "1984-07-01T00:00:00.000000000",
          "1984-08-01T00:00:00.000000000",
          "1984-09-01T00:00:00.000000000",
          "1984-10-01T00:00:00.000000000",
          "1984-11-01T00:00:00.000000000",
          "1984-12-01T00:00:00.000000000",
          "1985-01-01T00:00:00.000000000",
          "1985-02-01T00:00:00.000000000",
          "1985-03-01T00:00:00.000000000",
          "1985-04-01T00:00:00.000000000",
          "1985-05-01T00:00:00.000000000",
          "1985-06-01T00:00:00.000000000",
          "1985-07-01T00:00:00.000000000",
          "1985-08-01T00:00:00.000000000",
          "1985-09-01T00:00:00.000000000",
          "1985-10-01T00:00:00.000000000",
          "1985-11-01T00:00:00.000000000",
          "1985-12-01T00:00:00.000000000",
          "1986-01-01T00:00:00.000000000",
          "1986-02-01T00:00:00.000000000",
          "1986-03-01T00:00:00.000000000",
          "1986-04-01T00:00:00.000000000",
          "1986-05-01T00:00:00.000000000",
          "1986-06-01T00:00:00.000000000",
          "1986-07-01T00:00:00.000000000",
          "1986-08-01T00:00:00.000000000",
          "1986-09-01T00:00:00.000000000",
          "1986-10-01T00:00:00.000000000",
          "1986-11-01T00:00:00.000000000",
          "1986-12-01T00:00:00.000000000",
          "1987-01-01T00:00:00.000000000",
          "1987-02-01T00:00:00.000000000",
          "1987-03-01T00:00:00.000000000",
          "1987-04-01T00:00:00.000000000",
          "1987-05-01T00:00:00.000000000",
          "1987-06-01T00:00:00.000000000",
          "1987-07-01T00:00:00.000000000",
          "1987-08-01T00:00:00.000000000",
          "1987-09-01T00:00:00.000000000",
          "1987-10-01T00:00:00.000000000",
          "1987-11-01T00:00:00.000000000",
          "1987-12-01T00:00:00.000000000",
          "1988-01-01T00:00:00.000000000",
          "1988-02-01T00:00:00.000000000",
          "1988-03-01T00:00:00.000000000",
          "1988-04-01T00:00:00.000000000",
          "1988-05-01T00:00:00.000000000",
          "1988-06-01T00:00:00.000000000",
          "1988-07-01T00:00:00.000000000",
          "1988-08-01T00:00:00.000000000",
          "1988-09-01T00:00:00.000000000",
          "1988-10-01T00:00:00.000000000",
          "1988-11-01T00:00:00.000000000",
          "1988-12-01T00:00:00.000000000",
          "1989-01-01T00:00:00.000000000",
          "1989-02-01T00:00:00.000000000",
          "1989-03-01T00:00:00.000000000",
          "1989-04-01T00:00:00.000000000",
          "1989-05-01T00:00:00.000000000",
          "1989-06-01T00:00:00.000000000",
          "1989-07-01T00:00:00.000000000",
          "1989-08-01T00:00:00.000000000",
          "1989-09-01T00:00:00.000000000",
          "1989-10-01T00:00:00.000000000",
          "1989-11-01T00:00:00.000000000",
          "1989-12-01T00:00:00.000000000",
          "1990-01-01T00:00:00.000000000",
          "1990-02-01T00:00:00.000000000",
          "1990-03-01T00:00:00.000000000",
          "1990-04-01T00:00:00.000000000",
          "1990-05-01T00:00:00.000000000",
          "1990-06-01T00:00:00.000000000",
          "1990-07-01T00:00:00.000000000",
          "1990-08-01T00:00:00.000000000",
          "1990-09-01T00:00:00.000000000",
          "1990-10-01T00:00:00.000000000",
          "1990-11-01T00:00:00.000000000",
          "1990-12-01T00:00:00.000000000",
          "1991-01-01T00:00:00.000000000",
          "1991-02-01T00:00:00.000000000",
          "1991-03-01T00:00:00.000000000",
          "1991-04-01T00:00:00.000000000",
          "1991-05-01T00:00:00.000000000",
          "1991-06-01T00:00:00.000000000",
          "1991-07-01T00:00:00.000000000",
          "1991-08-01T00:00:00.000000000",
          "1991-09-01T00:00:00.000000000",
          "1991-10-01T00:00:00.000000000",
          "1991-11-01T00:00:00.000000000",
          "1991-12-01T00:00:00.000000000",
          "1992-01-01T00:00:00.000000000",
          "1992-02-01T00:00:00.000000000",
          "1992-03-01T00:00:00.000000000",
          "1992-04-01T00:00:00.000000000",
          "1992-05-01T00:00:00.000000000",
          "1992-06-01T00:00:00.000000000",
          "1992-07-01T00:00:00.000000000",
          "1992-08-01T00:00:00.000000000",
          "1992-09-01T00:00:00.000000000",
          "1992-10-01T00:00:00.000000000",
          "1992-11-01T00:00:00.000000000",
          "1992-12-01T00:00:00.000000000",
          "1993-01-01T00:00:00.000000000",
          "1993-02-01T00:00:00.000000000",
          "1993-03-01T00:00:00.000000000",
          "1993-04-01T00:00:00.000000000",
          "1993-05-01T00:00:00.000000000",
          "1993-06-01T00:00:00.000000000",
          "1993-07-01T00:00:00.000000000",
          "1993-08-01T00:00:00.000000000",
          "1993-09-01T00:00:00.000000000",
          "1993-10-01T00:00:00.000000000",
          "1993-11-01T00:00:00.000000000",
          "1993-12-01T00:00:00.000000000",
          "1994-01-01T00:00:00.000000000",
          "1994-02-01T00:00:00.000000000",
          "1994-03-01T00:00:00.000000000",
          "1994-04-01T00:00:00.000000000",
          "1994-05-01T00:00:00.000000000",
          "1994-06-01T00:00:00.000000000",
          "1994-07-01T00:00:00.000000000",
          "1994-08-01T00:00:00.000000000",
          "1994-09-01T00:00:00.000000000",
          "1994-10-01T00:00:00.000000000",
          "1994-11-01T00:00:00.000000000",
          "1994-12-01T00:00:00.000000000",
          "1995-01-01T00:00:00.000000000",
          "1995-02-01T00:00:00.000000000",
          "1995-03-01T00:00:00.000000000",
          "1995-04-01T00:00:00.000000000",
          "1995-05-01T00:00:00.000000000",
          "1995-06-01T00:00:00.000000000",
          "1995-07-01T00:00:00.000000000",
          "1995-08-01T00:00:00.000000000",
          "1995-09-01T00:00:00.000000000",
          "1995-10-01T00:00:00.000000000",
          "1995-11-01T00:00:00.000000000",
          "1995-12-01T00:00:00.000000000",
          "1996-01-01T00:00:00.000000000",
          "1996-02-01T00:00:00.000000000",
          "1996-03-01T00:00:00.000000000",
          "1996-04-01T00:00:00.000000000",
          "1996-05-01T00:00:00.000000000",
          "1996-06-01T00:00:00.000000000",
          "1996-07-01T00:00:00.000000000",
          "1996-08-01T00:00:00.000000000",
          "1996-09-01T00:00:00.000000000",
          "1996-10-01T00:00:00.000000000",
          "1996-11-01T00:00:00.000000000",
          "1996-12-01T00:00:00.000000000",
          "1997-01-01T00:00:00.000000000",
          "1997-02-01T00:00:00.000000000",
          "1997-03-01T00:00:00.000000000",
          "1997-04-01T00:00:00.000000000",
          "1997-05-01T00:00:00.000000000",
          "1997-06-01T00:00:00.000000000",
          "1997-07-01T00:00:00.000000000",
          "1997-08-01T00:00:00.000000000",
          "1997-09-01T00:00:00.000000000",
          "1997-10-01T00:00:00.000000000",
          "1997-11-01T00:00:00.000000000",
          "1997-12-01T00:00:00.000000000",
          "1998-01-01T00:00:00.000000000",
          "1998-02-01T00:00:00.000000000",
          "1998-03-01T00:00:00.000000000",
          "1998-04-01T00:00:00.000000000",
          "1998-05-01T00:00:00.000000000",
          "1998-06-01T00:00:00.000000000",
          "1998-07-01T00:00:00.000000000",
          "1998-08-01T00:00:00.000000000",
          "1998-09-01T00:00:00.000000000",
          "1998-10-01T00:00:00.000000000",
          "1998-11-01T00:00:00.000000000",
          "1998-12-01T00:00:00.000000000",
          "1999-01-01T00:00:00.000000000",
          "1999-02-01T00:00:00.000000000",
          "1999-03-01T00:00:00.000000000",
          "1999-04-01T00:00:00.000000000",
          "1999-05-01T00:00:00.000000000",
          "1999-06-01T00:00:00.000000000",
          "1999-07-01T00:00:00.000000000",
          "1999-08-01T00:00:00.000000000",
          "1999-09-01T00:00:00.000000000",
          "1999-10-01T00:00:00.000000000",
          "1999-11-01T00:00:00.000000000",
          "1999-12-01T00:00:00.000000000",
          "2000-01-01T00:00:00.000000000",
          "2000-02-01T00:00:00.000000000",
          "2000-03-01T00:00:00.000000000",
          "2000-04-01T00:00:00.000000000",
          "2000-05-01T00:00:00.000000000",
          "2000-06-01T00:00:00.000000000",
          "2000-07-01T00:00:00.000000000",
          "2000-08-01T00:00:00.000000000",
          "2000-09-01T00:00:00.000000000",
          "2000-10-01T00:00:00.000000000",
          "2000-11-01T00:00:00.000000000",
          "2000-12-01T00:00:00.000000000",
          "2001-01-01T00:00:00.000000000",
          "2001-02-01T00:00:00.000000000",
          "2001-03-01T00:00:00.000000000",
          "2001-04-01T00:00:00.000000000",
          "2001-05-01T00:00:00.000000000",
          "2001-06-01T00:00:00.000000000",
          "2001-07-01T00:00:00.000000000",
          "2001-08-01T00:00:00.000000000",
          "2001-09-01T00:00:00.000000000",
          "2001-10-01T00:00:00.000000000",
          "2001-11-01T00:00:00.000000000",
          "2001-12-01T00:00:00.000000000",
          "2002-01-01T00:00:00.000000000",
          "2002-02-01T00:00:00.000000000",
          "2002-03-01T00:00:00.000000000",
          "2002-04-01T00:00:00.000000000",
          "2002-05-01T00:00:00.000000000",
          "2002-06-01T00:00:00.000000000",
          "2002-07-01T00:00:00.000000000",
          "2002-08-01T00:00:00.000000000",
          "2002-09-01T00:00:00.000000000",
          "2002-10-01T00:00:00.000000000",
          "2002-11-01T00:00:00.000000000",
          "2002-12-01T00:00:00.000000000",
          "2003-01-01T00:00:00.000000000",
          "2003-02-01T00:00:00.000000000",
          "2003-03-01T00:00:00.000000000",
          "2003-04-01T00:00:00.000000000",
          "2003-05-01T00:00:00.000000000",
          "2003-06-01T00:00:00.000000000",
          "2003-07-01T00:00:00.000000000",
          "2003-08-01T00:00:00.000000000",
          "2003-09-01T00:00:00.000000000",
          "2003-10-01T00:00:00.000000000",
          "2003-11-01T00:00:00.000000000",
          "2003-12-01T00:00:00.000000000",
          "2004-01-01T00:00:00.000000000",
          "2004-02-01T00:00:00.000000000",
          "2004-03-01T00:00:00.000000000",
          "2004-04-01T00:00:00.000000000",
          "2004-05-01T00:00:00.000000000",
          "2004-06-01T00:00:00.000000000",
          "2004-07-01T00:00:00.000000000",
          "2004-08-01T00:00:00.000000000",
          "2004-09-01T00:00:00.000000000",
          "2004-10-01T00:00:00.000000000",
          "2004-11-01T00:00:00.000000000",
          "2004-12-01T00:00:00.000000000",
          "2005-01-01T00:00:00.000000000",
          "2005-02-01T00:00:00.000000000",
          "2005-03-01T00:00:00.000000000",
          "2005-04-01T00:00:00.000000000",
          "2005-05-01T00:00:00.000000000",
          "2005-06-01T00:00:00.000000000",
          "2005-07-01T00:00:00.000000000",
          "2005-08-01T00:00:00.000000000",
          "2005-09-01T00:00:00.000000000",
          "2005-10-01T00:00:00.000000000",
          "2005-11-01T00:00:00.000000000",
          "2005-12-01T00:00:00.000000000",
          "2006-01-01T00:00:00.000000000",
          "2006-02-01T00:00:00.000000000",
          "2006-03-01T00:00:00.000000000",
          "2006-04-01T00:00:00.000000000",
          "2006-05-01T00:00:00.000000000",
          "2006-06-01T00:00:00.000000000",
          "2006-07-01T00:00:00.000000000",
          "2006-08-01T00:00:00.000000000",
          "2006-09-01T00:00:00.000000000",
          "2006-10-01T00:00:00.000000000",
          "2006-11-01T00:00:00.000000000",
          "2006-12-01T00:00:00.000000000",
          "2007-01-01T00:00:00.000000000",
          "2007-02-01T00:00:00.000000000",
          "2007-03-01T00:00:00.000000000",
          "2007-04-01T00:00:00.000000000",
          "2007-05-01T00:00:00.000000000",
          "2007-06-01T00:00:00.000000000",
          "2007-07-01T00:00:00.000000000",
          "2007-08-01T00:00:00.000000000",
          "2007-09-01T00:00:00.000000000",
          "2007-10-01T00:00:00.000000000",
          "2007-11-01T00:00:00.000000000",
          "2007-12-01T00:00:00.000000000",
          "2008-01-01T00:00:00.000000000",
          "2008-02-01T00:00:00.000000000",
          "2008-03-01T00:00:00.000000000",
          "2008-04-01T00:00:00.000000000",
          "2008-05-01T00:00:00.000000000",
          "2008-06-01T00:00:00.000000000",
          "2008-07-01T00:00:00.000000000",
          "2008-08-01T00:00:00.000000000",
          "2008-09-01T00:00:00.000000000",
          "2008-10-01T00:00:00.000000000",
          "2008-11-01T00:00:00.000000000",
          "2008-12-01T00:00:00.000000000",
          "2009-01-01T00:00:00.000000000",
          "2009-02-01T00:00:00.000000000",
          "2009-03-01T00:00:00.000000000",
          "2009-04-01T00:00:00.000000000",
          "2009-05-01T00:00:00.000000000",
          "2009-06-01T00:00:00.000000000",
          "2009-07-01T00:00:00.000000000",
          "2009-08-01T00:00:00.000000000",
          "2009-09-01T00:00:00.000000000",
          "2009-10-01T00:00:00.000000000",
          "2009-11-01T00:00:00.000000000",
          "2009-12-01T00:00:00.000000000",
          "2010-01-01T00:00:00.000000000",
          "2010-02-01T00:00:00.000000000",
          "2010-03-01T00:00:00.000000000",
          "2010-04-01T00:00:00.000000000",
          "2010-05-01T00:00:00.000000000",
          "2010-06-01T00:00:00.000000000",
          "2010-07-01T00:00:00.000000000",
          "2010-08-01T00:00:00.000000000",
          "2010-09-01T00:00:00.000000000",
          "2010-10-01T00:00:00.000000000",
          "2010-11-01T00:00:00.000000000",
          "2010-12-01T00:00:00.000000000",
          "2011-01-01T00:00:00.000000000",
          "2011-02-01T00:00:00.000000000",
          "2011-03-01T00:00:00.000000000",
          "2011-04-01T00:00:00.000000000",
          "2011-05-01T00:00:00.000000000",
          "2011-06-01T00:00:00.000000000",
          "2011-07-01T00:00:00.000000000",
          "2011-08-01T00:00:00.000000000",
          "2011-09-01T00:00:00.000000000",
          "2011-10-01T00:00:00.000000000",
          "2011-11-01T00:00:00.000000000",
          "2011-12-01T00:00:00.000000000",
          "2012-01-01T00:00:00.000000000",
          "2012-02-01T00:00:00.000000000",
          "2012-03-01T00:00:00.000000000",
          "2012-04-01T00:00:00.000000000",
          "2012-05-01T00:00:00.000000000",
          "2012-06-01T00:00:00.000000000",
          "2012-07-01T00:00:00.000000000",
          "2012-08-01T00:00:00.000000000",
          "2012-09-01T00:00:00.000000000",
          "2012-10-01T00:00:00.000000000",
          "2012-11-01T00:00:00.000000000",
          "2012-12-01T00:00:00.000000000",
          "2013-01-01T00:00:00.000000000",
          "2013-02-01T00:00:00.000000000",
          "2013-03-01T00:00:00.000000000",
          "2013-04-01T00:00:00.000000000",
          "2013-05-01T00:00:00.000000000",
          "2013-06-01T00:00:00.000000000",
          "2013-07-01T00:00:00.000000000",
          "2013-08-01T00:00:00.000000000",
          "2013-09-01T00:00:00.000000000",
          "2013-10-01T00:00:00.000000000",
          "2013-11-01T00:00:00.000000000",
          "2013-12-01T00:00:00.000000000",
          "2014-01-01T00:00:00.000000000",
          "2014-02-01T00:00:00.000000000",
          "2014-03-01T00:00:00.000000000",
          "2014-04-01T00:00:00.000000000",
          "2014-05-01T00:00:00.000000000",
          "2014-06-01T00:00:00.000000000",
          "2014-07-01T00:00:00.000000000",
          "2014-08-01T00:00:00.000000000",
          "2014-09-01T00:00:00.000000000",
          "2014-10-01T00:00:00.000000000",
          "2014-11-01T00:00:00.000000000",
          "2014-12-01T00:00:00.000000000",
          "2015-01-01T00:00:00.000000000",
          "2015-02-01T00:00:00.000000000",
          "2015-03-01T00:00:00.000000000",
          "2015-04-01T00:00:00.000000000",
          "2015-05-01T00:00:00.000000000",
          "2015-06-01T00:00:00.000000000",
          "2015-07-01T00:00:00.000000000",
          "2015-08-01T00:00:00.000000000",
          "2015-09-01T00:00:00.000000000",
          "2015-10-01T00:00:00.000000000",
          "2015-11-01T00:00:00.000000000",
          "2015-12-01T00:00:00.000000000",
          "2016-01-01T00:00:00.000000000",
          "2016-02-01T00:00:00.000000000",
          "2016-03-01T00:00:00.000000000",
          "2016-04-01T00:00:00.000000000",
          "2016-05-01T00:00:00.000000000",
          "2016-06-01T00:00:00.000000000",
          "2016-07-01T00:00:00.000000000",
          "2016-08-01T00:00:00.000000000",
          "2016-09-01T00:00:00.000000000",
          "2016-10-01T00:00:00.000000000",
          "2016-11-01T00:00:00.000000000",
          "2016-12-01T00:00:00.000000000",
          "2017-01-01T00:00:00.000000000",
          "2017-02-01T00:00:00.000000000",
          "2017-03-01T00:00:00.000000000",
          "2017-04-01T00:00:00.000000000",
          "2017-05-01T00:00:00.000000000",
          "2017-06-01T00:00:00.000000000",
          "2017-07-01T00:00:00.000000000",
          "2017-08-01T00:00:00.000000000",
          "2017-09-01T00:00:00.000000000",
          "2017-10-01T00:00:00.000000000",
          "2017-11-01T00:00:00.000000000",
          "2017-12-01T00:00:00.000000000",
          "2018-01-01T00:00:00.000000000",
          "2018-02-01T00:00:00.000000000",
          "2018-03-01T00:00:00.000000000",
          "2018-04-01T00:00:00.000000000",
          "2018-05-01T00:00:00.000000000",
          "2018-06-01T00:00:00.000000000",
          "2018-07-01T00:00:00.000000000",
          "2018-08-01T00:00:00.000000000",
          "2018-09-01T00:00:00.000000000",
          "2018-10-01T00:00:00.000000000",
          "2018-11-01T00:00:00.000000000",
          "2018-12-01T00:00:00.000000000",
          "2019-01-01T00:00:00.000000000",
          "2019-02-01T00:00:00.000000000",
          "2019-03-01T00:00:00.000000000",
          "2019-04-01T00:00:00.000000000",
          "2019-05-01T00:00:00.000000000",
          "2019-06-01T00:00:00.000000000",
          "2019-07-01T00:00:00.000000000",
          "2019-08-01T00:00:00.000000000",
          "2019-09-01T00:00:00.000000000",
          "2019-10-01T00:00:00.000000000",
          "2019-11-01T00:00:00.000000000",
          "2019-12-01T00:00:00.000000000",
          "2020-01-01T00:00:00.000000000",
          "2020-02-01T00:00:00.000000000",
          "2020-03-01T00:00:00.000000000",
          "2020-04-01T00:00:00.000000000",
          "2020-05-01T00:00:00.000000000",
          "2020-06-01T00:00:00.000000000",
          "2020-07-01T00:00:00.000000000",
          "2020-08-01T00:00:00.000000000",
          "2020-09-01T00:00:00.000000000",
          "2020-10-01T00:00:00.000000000",
          "2020-11-01T00:00:00.000000000",
          "2020-12-01T00:00:00.000000000",
          "2021-01-01T00:00:00.000000000",
          "2021-02-01T00:00:00.000000000",
          "2021-03-01T00:00:00.000000000",
          "2021-04-01T00:00:00.000000000",
          "2021-05-01T00:00:00.000000000",
          "2021-06-01T00:00:00.000000000",
          "2021-07-01T00:00:00.000000000",
          "2021-08-01T00:00:00.000000000",
          "2021-09-01T00:00:00.000000000",
          "2021-10-01T00:00:00.000000000",
          "2021-11-01T00:00:00.000000000",
          "2021-12-01T00:00:00.000000000",
          "2022-01-01T00:00:00.000000000",
          "2022-02-01T00:00:00.000000000",
          "2022-03-01T00:00:00.000000000",
          "2022-04-01T00:00:00.000000000",
          "2022-05-01T00:00:00.000000000",
          "2022-06-01T00:00:00.000000000",
          "2022-07-01T00:00:00.000000000",
          "2022-08-01T00:00:00.000000000",
          "2022-09-01T00:00:00.000000000",
          "2022-10-01T00:00:00.000000000",
          "2022-11-01T00:00:00.000000000",
          "2022-12-01T00:00:00.000000000",
          "2023-01-01T00:00:00.000000000",
          "2023-02-01T00:00:00.000000000",
          "2023-03-01T00:00:00.000000000",
          "2023-04-01T00:00:00.000000000",
          "2023-05-01T00:00:00.000000000",
          "2023-06-01T00:00:00.000000000",
          "2023-07-01T00:00:00.000000000",
          "2023-08-01T00:00:00.000000000",
          "2023-09-01T00:00:00.000000000",
          "2023-10-01T00:00:00.000000000",
          "2023-11-01T00:00:00.000000000",
          "2023-12-01T00:00:00.000000000",
          "2024-01-01T00:00:00.000000000",
          "2024-02-01T00:00:00.000000000",
          "2024-03-01T00:00:00.000000000",
          "2024-04-01T00:00:00.000000000",
          "2024-05-01T00:00:00.000000000",
          "2024-06-01T00:00:00.000000000",
          "2024-07-01T00:00:00.000000000",
          "2024-08-01T00:00:00.000000000",
          "2024-09-01T00:00:00.000000000",
          "2024-10-01T00:00:00.000000000",
          "2024-11-01T00:00:00.000000000",
          "2024-12-01T00:00:00.000000000",
          "2025-01-01T00:00:00.000000000"
         ],
         "y": {
          "bdata": "mpmZmZnZSUC0mJmZmVlIQPxlZmZmpkVANDMzMzOzRkCO/////79IQI7/////f0pADTMzMzMzSECBzMzMzIxGQFbMzMzMDEVATZmZmZmZR0Bo//////9DQFDcSSjQiEBAkq1H4XoUQEDoy8zMzEw/QJL/////P0FAjv////+/QUBSzMzMzExAQK2YmZmZmT9Ajv////9/Q0Da/////39HQPRlZmZmJkpAAAAAAACASUAAAAAAAIBJQGZmZmZmpkxAhoTrUbjeTUB3hSoZ5YhOQFrMzMzMDE9AB2ZmZmYGUUCUzMzMzKxSQEBmZmZmJlNAx/////9fU0DUMjMzM/NSQAdmZmZmBlFAtZiZmZmZTUCJ2F6/3ClQQGZmZmZmxlBAlcL1KFwPUUDmMjMzM1NRQI3/////X1BAtP////+/SkBNmZmZmVlJQGf/////v0ZAVszMzMwMRUBezMzMzMxFQFrMzMzMDEhAzczMzMzMSEBNmZmZmZlHQLT/////P0dAmpmZmZlZRkBbP+41F3JEQIr//////0NAM5mZmZlZQkCZ/////79DQPxlZmZmpkVAzmVmZmYmSEB0MjMzMzNOQKfMzMzMDExADmVmZmYmTEBAZmZmZmZMQPRlZmZm5ktAMzMzMzOzTUDG6xLx8dpKQNr/////P0lANMzMzMyMSUA0MzMzM3NIQEH/////P0hAQGZmZmYmR0CK/////79FQKr/////f0NAzDIzMzOzQkDt59sa4EVCQGLMzMzMzEFA7ihcj8I1Q0C2VcVF+gpFQJqZmZmZWUZAdJmZmZnZR0Dny8zMzAxJQIHMzMzMDEpAmpmZmZnZSUDBMjMzMzNLQLT/////v0pAdJmZmZkZTUAoMjMzM7NNQEBmZmZm5k9AZ/////9/T0AzMzMzM/NQQNr/////31BAuszMzMwsUUCg/////19RQBpmZmZmpk9AWszMzMyMUEDAMjMzMzNQQA0zMzMzM09AAZmZmZnZT0Ac//////9OQC1mZmZmZlBAAZmZmZkZTkB/wvUoXM9MQCeZmZmZmUxANDMzMzPzS0B0mZmZmZlJQHSZmZmZ2UdAdJmZmZkZRkAb/////79JQEH/////v0tA25iZmZlZSkAb/////39LQNuYmZmZWUpA58vMzMzMSkDhq0vEx+tIQAAAAAAAwEdAUszMzMyMRUC1MjMzM7NFQE4yMzMz80ZA2piZmZnZRkD0ZWZmZqZGQBpmZmZm5kZAWszMzMyMREAnmZmZmdlDQOxlZmZmZkJAwDIzMzOzQEApx2vxGzVDQPxlZmZm5kNAYszMzMyMQ0Dny8zMzExHQOcyMzMzs0lAdJmZmZlZS0BmZmZmZqZMQBpmZmZm5k1AzmVmZmYmT0C1mJmZmVlPQLT/////P05AUVG4HoVrUEBmZmZmZsZQQGZmZmZmxlBAJ5mZmZm5UECnzMzMzAxRQE2ZmZmZGVBAAAAAAADATkBazMzMzIxLQM5lZmZmJkhAAZmZmZnZSEAOzMzMzExJQHSZmZmZGU1AAAAAAADATkB1xwLkXtNIQKdlZmZm5kdA9GVmZmamRkBizMzMzExFQOcyMzMzM0ZAM5mZmZnZRUA0zMzMzMxHQDQzMzMzs0ZAjv//////RkCnZWZmZiZGQKdlZmZmJkZA+nkUrkfhRUBezMzMzMxFQKfMzMzMjEhADszMzMzMTEANMzMzM3NNQDTMzMzMDE1AdJmZmZkZTUAnmZmZmVlOQGf/////f09AmZmZmZkZT0BB/////39NQJTMzMzMDFBAmjIzMzNzTkAOzMzMzIxOQOjLzMzMTE5AWszMzMyMS0C0mJmZmRlKQIFlZmZmZklAAAAAAACASUCO/////79IQLT//////0hAdJmZmZmZSUBnZmZmZuZKQCeZmZmZmUxAWszMzMyMS0Ab/////39LQHSZmZmZWUtADszMzMzMTEAaZmZmZuZNQHSZmZmZGU1AQf////+/S0BazMzMzIxLQHQyMzMzc0xATpmZmZnZTEDa/////79MQNr//////0pA6MvMzMyMTECAPZgn6j9NQAGZmZmZGU5AtZiZmZmZTUCZmZmZmVlNQMzMzMzMDE5AMzMzMzNzT0AaZmZmZqZPQBpmZmZmpk9AJ5mZmZlZTkAOufHgNBFPQA0zMzMzM09A2v////9/TkBS3FA6kGtPQGCZmZmZOVBAHP//////TkCCZWZmZqZOQJmZmZmZWU1ANMzMzMwMTUA0zMzMzAxNQNr/////f05AWszMzMxMTUANmpmZmRlOQPRlZmZmZk9A5zIzMzNzUECN/////19QQM3MzMzMbFBAlMzMzMwMUEBOmZmZmdlMQEH/////f01AQGZmZmYmTkAb/////z9NQJmZmZmZWU1AJ5mZmZmZTEAnmZmZmdlKQDQzMzMzM0pAnrsehesRSEDU/qdod3BHQPRlZmZmpkZA8GVmZmZmRUAb/////z9GQGdmZmZmZkdAjv////+/SEC0mJmZmRlKQOcyMzMzc0tADszMzMwMS0BNmZmZmRlLQIHMzMzMzEtAzczMzMxMTEAsjN6WtTpLQGdmZmZm5kpAAAAAAAAATUDOZWZmZqZLQLT/////v0pADszMzMwMS0DbmJmZmVlKQM5lZmZm5klA9GVmZmbmS0A0zMzMzAxNQKfMzMzMDExA5zIzMzNzS0Doy8zMzIxMQOjLzMzMjExAmpmZmZmZS0ABmZmZmVlMQEH/////v0tAzczMzMyMSkCnZWZmZmZLQA7MzMzMDEtANMzMzMxMS0AOn+KSIVhKQEH//////0lAZWw9CtfjR0A/FoCKdodHQJoyMzMzc0dAQf////9/RkBNmZmZmZlHQDTMzMzMjElAjv////+/SECBZWZmZqZHQDTMzMzMDEZAuTIzMzMzRUAnmZmZmdlDQDQzMzMzs0ZAQ2k9CtfjSECnZWZmZmZLQHSZmZmZmUlAAAAAAABAS0BNmZmZmRlLQGdmZmZm5kpAwTIzMzMzS0Dny8zMzMxKQFrMzMzMjEtAG/////9/S0D0ZWZmZiZKQA7MzMzMzExAp8zMzMzMTUDoy8zMzExOQBpmZmZm5k1A9GVmZmamTUDBMjMzM7NOQFrMzMzMTE1AzMzMzMwMTkB0mZmZmdlOQPhaA7wgiVBAx/////+/UEDH/////59RQMf/////n1FAGmZmZmYGUkBAZmZmZmZRQEBmZmZmZlFAlMzMzMzsUEDAMjMzMzNQQAAAAAAAQFBAgmVmZmbmTEC1mJmZmVlPQI7/////v09AWszMzMyMUEAHZmZmZgZRQMzMzMzMzE9A9M/MzMyMTkBazMzMzExNQKhlZmZm5k5ATzIzMzPzTUC0mJmZmdlLQHSZmZmZWUtAp2VmZmZmS0BOMjMzM3NKQAGZmZmZGUdAHJmZmZlZRUC9MjMzM/NCQHllZmZm5j5AXjIzMzOzPkC9MjMzMzNBQK2YmZmZmT9Ahv////+/QkAvmZmZmZlEQIHMzMzMjEZATZmZmZmZR0DnMjMzM7NJQMEyMzMzM0tAQf////+/S0AAAAAAAEBLQOcyMzMzc0tAzmVmZmZmTUAAAAAAAMBOQOcyMzMzM01A6MvMzMxMTkDOZWZmZmZNQHSZmZmZGU1ANDMzMzPzS0AAAAAAAEBLQLT/////v0pAtP////+/SkCamZmZmdlJQM3MzMzMTExAp2VmZmZmS0COmJmZmZlLQOcyMzMzM01AdDIzMzNzTEDbmJmZmdlNQEBmZmZmZkxATpmZmZnZTEDnMjMzM3NLQJoyMzMz80pADTMzMzOzS0BAZmZmZmZMQBpmZmZm5k1AHL/1KFxPTEBoYkRS4rhLQBv/////f0tATpmZmZnZTEABmZmZmRlOQLT/////P05AmZmZmZkZT0BAZmZmZiZOQLT/////P05AzMzMzMwMTkCCZWZmZqZOQDMzMzMzs01AG/////8/TUBkU59OKQZNQE6ZmZmZ2UxA2piZmZkZTEDBMjMzMzNLQNuYmZmZWUpAp2VmZmamSUCO/////79IQM3MzMzMzEhAZ/////9/SEAb//////9HQM5lZmZmZkZAAZmZmZkZR0AnmZmZmRlJQF7MzMzMzEVAzDIzMzOzQkBqZWZmZmY9QPDLzMzMTD5Agv////9/QUBn/////79GQEDjeHCaCEpAQf////+/S0B0mZmZmRlNQI7/////f0pA9GVmZmZmSED0ZWZmZmZIQM3MzMzMzEhAWszMzMzMSUC0/////79KQE2ZmZmZWUlAJ5mZmZlZR0DOZWZmZiZIQI7/////P0VAiv//////Q0BSzMzMzAxCQOhlZmZm5kJA9GVmZmYmQ0D0ZWZmZiZDQOxlZmZmZkJA6GVmZmbmQkCO/////79BQPRlZmZmJkNAyDIzMzMzQ0D0ZWZmZiZDQABmZmZmZkNAxDIzMzOzQ0AbmZmZmZlDQPBlZmZmZkVAjv//////RkDBMjMzMzNLQJoyMzMz80pATZmZmZkZS0CnzMzMzAxMQNr/////v0xAzMzMzMzMT0CnzMzMzIxPQEH/////P09ATZmZmZkZUECg/////39QQJqZmZmZeVFAtP////8/TkCCZWZmZqZOQA0zMzMzc01A2v////9/TkBazMzMzExNQDTMzMzMDE1Ap8zMzMwMTECO/////39KQLT//////0hAgWVmZmZmSUBnZmZmZiZJQA7MzMzMTElAja1H4XoUSUCC/v///79IQKdlZmZm5kdAmpmZmZkZSEAOzMzMzIxHQKdlZmZm5kdA5zIzMzPzR0B0mZmZmdlHQHQyMzMz80hAwTIzMzNzSUBB//////9JQE2ZmZmZWUlAdJmZmZmZSUAAAAAAAIBJQAAAAAAAgElAAZmZmZnZSEB0MjMzM7NKQNr/////P0lAG///////R0CnzMzMzExKQDQzMzMzM0pAdJmZmZmZSUB0mZmZmZlJQNr/////P0lA5zIzMzNzS0CnzMzMzExKQBv/////f0tAQf////+/S0AnmZmZmZlMQJoyMzMzs0xA2v////+/TED0ZWZmZqZNQI7//////01AJ5mZmZlZTkDOZWZmZmZNQNr/////f05A2v////+/TEDV8bas1dFLQDTMzMzMTEtA9GVmZmbmS0BB/////79LQPRlZmZmpk1AdJmZmZkZTUBn//////9LQAAAAAAAQEtADTMzMzOzS0B7j5R/6NtLQGf//////0tA+1uPwvUoS0Co/v///79KQBv/////v0lAtJiZmZkZSkAaZmZmZqZIQIFlZmZmpkdATjIzMzPzRkCBzMzMzIxGQI7//////0ZAZ2ZmZmZmR0BnZmZmZmZHQMEyMzMzs0dATZmZmZmZR0B0d9nJZ85IQHQyMzMz80hAtP//////SECO/////79IQNuYmZmZmUhA58vMzMxMR0DNzMzMzAxHQBv/////P0ZAJ5mZmZmZRUDoZWZmZqZEQPhlZmZmZkRAG5mZmZmZQ0BuzMzMzMxDQCOZmZmZWURA8GVmZmZmRUAb/////z9GQGdmZmZmJklADszMzMxMSUBOMjMzM3NKQOcyMzMzc0tAzczMzMyMSkCO/////79IQGdmZmZmZkdAgWVmZmamR0C+zbArQA5LQDTMzMzMTEtAp8zMzMxMSkC0mJmZmdlLQOfLzMzMzEpAmjIzMzPzSkB0MjMzM7NKQAGZmZmZ2UhAZ2ZmZmYmSUBNmZmZmRlLQE2ZmZmZGUtA9GVmZmbmS0DmDwrCtmFLQLT/////v0pAJ5mZmZkZSUB0mZmZmZlJQM3MzMzMzEhAJ5mZmZkZSUBNmZmZmVlJQIFlZmZmZklAdDIzMzOzSkBnZmZmZuZKQIHMzMzMzEtA5qNwPQoXTEDNjVlU3lVMQHQyMzMzc0xAmjIzMzOzTEB0mZmZmRlNQM5lZmZmZk1AG/////8/TUAAAAAAAABNQEH/////f01AMzMzMzOzTUC1mJmZmZlNQKfMzMzMDExAmjIzMzOzTEB/uxLcBAxLQIHMzMzMDEpAG/////+/SUAnmZmZmVlHQE4yMzMz80ZATZmZmZlZSUAOzMzMzIxHQFrMzMzMDEhAJ5mZmZlZR0BOMjMzM/NGQAGZmZmZGUdAZ/////+/RkCm6sNn2BVHQJoyMzMzc0dAGmZmZmamSECnzMzMzIxIQOfLzMzMzEpAAZmZmZnZSEBazMzMzMxJQCE7CQUacUlA2v////8/SUBKKXL4WPZKQJqZmZmZmUtA5TsK16OwSkDNzMzMzIxKQGdmZmZm5kpAJ5mZmZnZSkCnzMzMzAxMQOcyMzMzc0tATpmZmZnZTEAaZmZmZiZMQJoyMzMz80pATjIzMzMzTEC0mJmZmdlLQAAAAAAAQEtAPwvXo3C9SkBOMjMzM3NKQE4yMzMzc0pAtJiZmZkZSkDBMjMzM3NJQDQzMzMzc0hA25iZmZmZSEAaZmZmZqZIQLSYmZmZWUhAtJiZmZlZSECamZmZmRlIQGdmZmZmZkdADszMzMxMSUBWtkxCVgVKQDQzMzMzM0pA9GVmZmYmSkCBZWZmZiZLQPRlZmZm5ktA58vMzMzMSkCnZWZmZmZLQLT/////f0xAJ5mZmZmZTEA0zMzMzAxNQIJlZmZm5kxAAZmZmZlZTEDv49Ai27lLQOcyMzMzc0tAdJmZmZlZS0ABmZmZmZlKQOcyMzMzs0lAZ/////8/SkB0MjMzM/NIQAGZmZmZ2UhAtJiZmZlZSEDNZWZmZiZIQMEyMzMz80VAVszMzMwMRUBWzMzMzAxFQFLMzMzMjEVAHJmZmZlZRUDoZWZmZqZEQCeZmZmZmUVAiv////+/RUBAZmZmZiZHQAGZmZmZGUdA+GVmZmZmREA0zMzMzAxGQPRlZmZmpkZAAAAAAADAR0Btg9ZkqdBJQDQzMzMzM0pANDMzMzMzSkDNzMzMzIxKQOfLzMzMzEpAJ5mZmZkZSUBnZmZmZiZJQNr/////P0lAZ/////9/SEBB/////z9IQFrMzMzMzElAp2VmZmamSUCFL8qR6OxHQEBmZmZmJkdAzczMzMwMR0Bn/////39IQGf/////f0hAAAAAAACASUABmZmZmZlKQDQzMzMzM0pAmpmZmZmZS0DnMjMzMzNNQMzMzMzMDE5AZmZmZmZmTkBPMjMzM/NNQOjLzMzMTE5A6MvMzMxMTkDBMjMzM7NOQLT/////P05ATzIzMzPzTUAb/////z9NQJoyMzMzs0xAGmZmZmYmTEDamJmZmRlMQCeZmZmZmUxAjBWuR+E6TECamZmZmZlLQJqZmZmZmUtAtJiZmZkZSkCBZWZmZmZJQDQzMzMzM0pAGmZmZmZmSkA0MzMzMzNKQEBmZmZmZkxAJ5mZmZmZTEABmZmZmVlMQFrMzMzMjEtAG/////9/S0D0ZWZmZuZLQIFlZmZmJktAmpmZmZmZS0AnmZmZmdlKQEH//////0lAjv////9/SkAnmZmZmdlKQLSYmZmZGUpA5zIzMzOzSUBnZmZmZiZJQOcyMzMzs0lAmjIzMzMzSUAOzMzMzAxLQBpmZmZmZkpA25iZmZlZSkDNzMzMzIxKQNr//////0pAzmVmZmbmSUC0mJmZmRlKQGdmZmZm5kpAGmZmZmZmSkAb/////79JQOfLzMzMDElAwTIzMzNzSUD0ZWZmZmZIQAGZmZmZ2UhAQf////8/SEA0MzMzM3NIQHQyMzMz80hAgWVmZmZmSUDny8zMzAxJQE2ZmZmZmUdAH5mZmZkZQ0CO/////39DQJL/////P0FAXszMzMxMQkDxEccXPWBCQCOZmZmZmUJAtTIzMzPzQ0A0zMzMzAxGQEBmZmZmJkdAAZmZmZnZSEB0MjMzM7NKQOcyMzMzc0tADszMzMzMTEANMzMzM7NLQPRlZmZm5ktAGmZmZmYmTEBB/////79LQM5lZmZmZk1ANMzMzMwMTUCaMjMzM7NMQI7/////P0xAp8zMzMwMTEBOMjMzMzNMQM5lZmZmpktAdDIzMzNzTEBmZmZmZqZMQM3MzMzMTExAgczMzMyMTUC1mJmZmZlNQOcyMzMzM01AwTIzMzPzTECnZWZmZmZLQPRlZmZm5ktATjIzMzNzSkCnzMzMzExKQCeZmZmZ2UpA5zIzMzOzSUDOZWZmZuZJQI7/////f0pATZmZmZkZS0BAZmZmZqZKQLT/////v0pAmpmZmZmZS0ABmZmZmZlKQI7/////v0hAzczMzMzMSEBn/////39IQIFlZmZmZklA2v////8/SUAb//////9HQOfLzMzMDElAnsL1KFwPS0BNmZmZmRlLQA0zMzMz80lAAAAAAACASUCBZWZmZmZJQDTMzMzMjElAZ2ZmZmbmSkDa//////9KQDTMzMzMTEtANMzMzMxMS0BB/////79LQI7/////P0xAZ/////8/SkDkpqc+ndJLQDQzMzMz80tAzczMzMxMTEC0mJmZmdlLQBv/////f0tAWszMzMyMS0AaZmZmZiZMQLSYmZmZ2UtA2piZmZkZTEAaZmZmZiZMQLSYmZmZ2UtA2v//////SkCz93gtfmNKQPRlZmZmJkpAgczMzMwMSkDbmJmZmVlKQKfMzMzMTEpADTMzMzPzSUC0//////9IQLT//////0hAZ/////9/SECnzMzMzIxIQPRlZmZmZkhAAAAAAADAR0DbmJmZmZlIQOcyMzMzs0lAAAAAAACASUCnZWZmZqZJQDQzMzMzM0pANDMzMzMzSkABmZmZmdlIQAAAAAAAgElAzmVmZmbmSUBAZmZmZqZKQE2ZmZmZGUtApi8zMzMzTEBOmZmZmdlMQEBmZmZmZkxAtJiZmZnZS0BOMjMzMzNMQKfMzMzMDExAjv////8/TEAb/////z9NQE8yMzMz801AWszMzMxMTUDBMjMzM/NMQLWYmZmZmU1AMzMzMzOzTUBmZmZmZmZOQLWYmZmZmU1AWszMzMxMTUANMzMzM3NNQNuYmZmZ2U1AAAAAAAAATUB0MjMzMzNOQGf/////v01Ap2VmZmYmTUCZmZmZmVlNQKdlZmZmZktAtJiZmZnZS0BNmZmZmRlLQM5lZmZmpktA58vMzMzMSkC0mJmZmRlKQKdlZmZmpklAAAAAAACASUANMzMzMzNIQM5lZmZmJkhAzmVmZmYmSECamZmZmRlIQHSZmZmZ2UdANMzMzMyMSUBnZmZmZiZJQAGZmZmZ2UhAH5mZmZnZREBSzMzMzIxFQLSYmZmZGUpAJ5mZmZnZSkCBzMzMzMxLQLSYmZmZ2UtAzmVmZmZmTUBOmZmZmdlMQLT/////P05AmZmZmZlZTUBBcLuYMPhOQKfMzMzMLFBAJ5mZmZlZTkBOmZmZmZlOQOjLzMzMTE5AZ/////+/TUBPMjMzM/NNQA7MzMzMjE5AZmZmZmZmTkBmZmZmZmZOQFrMzMzMTE1ADszMzMzMTEDnMjMzMzNNQLT/////f0xANDMzMzPzS0CnzMzMzAxMQM3MzMzMjEpA25iZmZlZSkBOMjMzM3NKQAAAAAAAgElAtP//////SEBn/////39IQA0zMzMzM0hAwTIzMzOzR0B0mZmZmdlHQEBmZmZmJkdADszMzMyMR0CaMjMzM3NHQI7//////0ZAdDIzMzMzR0A0zMzMzMxHQGf/////f0hAJ5mZmZlZR0Dny8zMzExHQA7MzMzMjEdAp8zMzMyMSEA0zMzMzMxHQEBmZmZm5khA9GVmZmZmSEBB/////z9IQM5lZmZmJkhA2v////9/R0AAAAAAAMBHQAAAAAAAwEdAmjIzMzNzR0ANMzMzMzNIQNuYmZmZmUhAwTIzMzNzSUA=",
          "dtype": "f8"
         }
        },
        {
         "line": {
          "color": "green"
         },
         "mode": "lines",
         "name": "United States ISM Manufacturing PMI (method: tooltips)",
         "type": "scatter",
         "x": [
          "1948-02-01T00:00:00.000000000",
          "1948-04-01T00:00:00.000000000",
          "1948-05-01T00:00:00.000000000",
          "1948-07-01T00:00:00.000000000",
          "1948-08-01T00:00:00.000000000",
          "1948-09-01T00:00:00.000000000",
          "1948-11-01T00:00:00.000000000",
          "1948-12-01T00:00:00.000000000",
          "1949-01-01T00:00:00.000000000",
          "1949-03-01T00:00:00.000000000",
          "1949-04-01T00:00:00.000000000",
          "1949-05-01T00:00:00.000000000",
          "1949-07-01T00:00:00.000000000",
          "1949-08-01T00:00:00.000000000",
          "1949-10-01T00:00:00.000000000",
          "1949-11-01T00:00:00.000000000",
          "1949-12-01T00:00:00.000000000",
          "1950-02-01T00:00:00.000000000",
          "1950-03-01T00:00:00.000000000",
          "1950-04-01T00:00:00.000000000",
          "1950-06-01T00:00:00.000000000",
          "1950-07-01T00:00:00.000000000",
          "1950-09-01T00:00:00.000000000",
          "1950-10-01T00:00:00.000000000",
          "1950-11-01T00:00:00.000000000",
          "1951-01-01T00:00:00.000000000",
          "1951-02-01T00:00:00.000000000",
          "1951-03-01T00:00:00.000000000",
          "1951-05-01T00:00:00.000000000",
          "1951-06-01T00:00:00.000000000",
          "1951-08-01T00:00:00.000000000",
          "1951-09-01T00:00:00.000000000",
          "1951-10-01T00:00:00.000000000",
          "1951-12-01T00:00:00.000000000",
          "1952-01-01T00:00:00.000000000",
          "1952-02-01T00:00:00.000000000",
          "1952-04-01T00:00:00.000000000",
          "1952-05-01T00:00:00.000000000",
          "1952-07-01T00:00:00.000000000",
          "1952-08-01T00:00:00.000000000",
          "1952-09-01T00:00:00.000000000",
          "1952-11-01T00:00:00.000000000",
          "1952-12-01T00:00:00.000000000",
          "1953-01-01T00:00:00.000000000",
          "1953-03-01T00:00:00.000000000",
          "1953-04-01T00:00:00.000000000",
          "1953-06-01T00:00:00.000000000",
          "1953-07-01T00:00:00.000000000",
          "1953-08-01T00:00:00.000000000",
          "1953-10-01T00:00:00.000000000",
          "1953-11-01T00:00:00.000000000",
          "1953-12-01T00:00:00.000000000",
          "1954-02-01T00:00:00.000000000",
          "1954-03-01T00:00:00.000000000",
          "1954-05-01T00:00:00.000000000",
          "1954-06-01T00:00:00.000000000",
          "1954-07-01T00:00:00.000000000",
          "1954-09-01T00:00:00.000000000",
          "1954-10-01T00:00:00.000000000",
          "1954-11-01T00:00:00.000000000",
          "1955-01-01T00:00:00.000000000",
          "1955-02-01T00:00:00.000000000",
          "1955-04-01T00:00:00.000000000",
          "1955-05-01T00:00:00.000000000",
          "1955-06-01T00:00:00.000000000",
          "1955-08-01T00:00:00.000000000",
          "1955-09-01T00:00:00.000000000",
          "1955-10-01T00:00:00.000000000",
          "1955-12-01T00:00:00.000000000",
          "1956-01-01T00:00:00.000000000",
          "1956-02-01T00:00:00.000000000",
          "1956-04-01T00:00:00.000000000",
          "1956-05-01T00:00:00.000000000",
          "1956-07-01T00:00:00.000000000",
          "1956-08-01T00:00:00.000000000",
          "1956-09-01T00:00:00.000000000",
          "1956-11-01T00:00:00.000000000",
          "1956-12-01T00:00:00.000000000",
          "1957-01-01T00:00:00.000000000",
          "1957-03-01T00:00:00.000000000",
          "1957-04-01T00:00:00.000000000",
          "1957-06-01T00:00:00.000000000",
          "1957-07-01T00:00:00.000000000",
          "1957-08-01T00:00:00.000000000",
          "1957-10-01T00:00:00.000000000",
          "1957-11-01T00:00:00.000000000",
          "1957-12-01T00:00:00.000000000",
          "1958-02-01T00:00:00.000000000",
          "1958-03-01T00:00:00.000000000",
          "1958-05-01T00:00:00.000000000",
          "1958-06-01T00:00:00.000000000",
          "1958-07-01T00:00:00.000000000",
          "1958-09-01T00:00:00.000000000",
          "1958-10-01T00:00:00.000000000",
          "1958-11-01T00:00:00.000000000",
          "1959-01-01T00:00:00.000000000",
          "1959-02-01T00:00:00.000000000",
          "1959-04-01T00:00:00.000000000",
          "1959-05-01T00:00:00.000000000",
          "1959-06-01T00:00:00.000000000",
          "1959-08-01T00:00:00.000000000",
          "1959-09-01T00:00:00.000000000",
          "1959-10-01T00:00:00.000000000",
          "1959-12-01T00:00:00.000000000",
          "1960-01-01T00:00:00.000000000",
          "1960-03-01T00:00:00.000000000",
          "1960-04-01T00:00:00.000000000",
          "1960-05-01T00:00:00.000000000",
          "1960-07-01T00:00:00.000000000",
          "1960-08-01T00:00:00.000000000",
          "1960-09-01T00:00:00.000000000",
          "1960-11-01T00:00:00.000000000",
          "1960-12-01T00:00:00.000000000",
          "1961-01-01T00:00:00.000000000",
          "1961-03-01T00:00:00.000000000",
          "1961-04-01T00:00:00.000000000",
          "1961-06-01T00:00:00.000000000",
          "1961-07-01T00:00:00.000000000",
          "1961-08-01T00:00:00.000000000",
          "1961-10-01T00:00:00.000000000",
          "1961-11-01T00:00:00.000000000",
          "1961-12-01T00:00:00.000000000",
          "1962-02-01T00:00:00.000000000",
          "1962-03-01T00:00:00.000000000",
          "1962-05-01T00:00:00.000000000",
          "1962-06-01T00:00:00.000000000",
          "1962-07-01T00:00:00.000000000",
          "1962-09-01T00:00:00.000000000",
          "1962-10-01T00:00:00.000000000",
          "1962-11-01T00:00:00.000000000",
          "1963-01-01T00:00:00.000000000",
          "1963-02-01T00:00:00.000000000",
          "1963-04-01T00:00:00.000000000",
          "1963-05-01T00:00:00.000000000",
          "1963-06-01T00:00:00.000000000",
          "1963-08-01T00:00:00.000000000",
          "1963-09-01T00:00:00.000000000",
          "1963-10-01T00:00:00.000000000",
          "1963-12-01T00:00:00.000000000",
          "1964-01-01T00:00:00.000000000",
          "1964-03-01T00:00:00.000000000",
          "1964-04-01T00:00:00.000000000",
          "1964-05-01T00:00:00.000000000",
          "1964-07-01T00:00:00.000000000",
          "1964-08-01T00:00:00.000000000",
          "1964-09-01T00:00:00.000000000",
          "1964-11-01T00:00:00.000000000",
          "1964-12-01T00:00:00.000000000",
          "1965-02-01T00:00:00.000000000",
          "1965-03-01T00:00:00.000000000",
          "1965-04-01T00:00:00.000000000",
          "1965-06-01T00:00:00.000000000",
          "1965-07-01T00:00:00.000000000",
          "1965-08-01T00:00:00.000000000",
          "1965-10-01T00:00:00.000000000",
          "1965-11-01T00:00:00.000000000",
          "1966-01-01T00:00:00.000000000",
          "1966-02-01T00:00:00.000000000",
          "1966-03-01T00:00:00.000000000",
          "1966-05-01T00:00:00.000000000",
          "1966-06-01T00:00:00.000000000",
          "1966-07-01T00:00:00.000000000",
          "1966-09-01T00:00:00.000000000",
          "1966-10-01T00:00:00.000000000",
          "1966-12-01T00:00:00.000000000",
          "1967-01-01T00:00:00.000000000",
          "1967-02-01T00:00:00.000000000",
          "1967-04-01T00:00:00.000000000",
          "1967-05-01T00:00:00.000000000",
          "1967-06-01T00:00:00.000000000",
          "1967-08-01T00:00:00.000000000",
          "1967-09-01T00:00:00.000000000",
          "1967-11-01T00:00:00.000000000",
          "1967-12-01T00:00:00.000000000",
          "1968-01-01T00:00:00.000000000",
          "1968-03-01T00:00:00.000000000",
          "1968-04-01T00:00:00.000000000",
          "1968-05-01T00:00:00.000000000",
          "1968-07-01T00:00:00.000000000",
          "1968-08-01T00:00:00.000000000",
          "1968-10-01T00:00:00.000000000",
          "1968-11-01T00:00:00.000000000",
          "1968-12-01T00:00:00.000000000",
          "1969-02-01T00:00:00.000000000",
          "1969-03-01T00:00:00.000000000",
          "1969-04-01T00:00:00.000000000",
          "1969-06-01T00:00:00.000000000",
          "1969-07-01T00:00:00.000000000",
          "1969-08-01T00:00:00.000000000",
          "1969-10-01T00:00:00.000000000",
          "1969-11-01T00:00:00.000000000",
          "1970-01-01T00:00:00.000000000",
          "1970-02-01T00:00:00.000000000",
          "1970-03-01T00:00:00.000000000",
          "1970-05-01T00:00:00.000000000",
          "1970-06-01T00:00:00.000000000",
          "1970-08-01T00:00:00.000000000",
          "1970-09-01T00:00:00.000000000",
          "1970-10-01T00:00:00.000000000",
          "1970-12-01T00:00:00.000000000",
          "1971-01-01T00:00:00.000000000",
          "1971-02-01T00:00:00.000000000",
          "1971-04-01T00:00:00.000000000",
          "1971-05-01T00:00:00.000000000",
          "1971-07-01T00:00:00.000000000",
          "1971-08-01T00:00:00.000000000",
          "1971-09-01T00:00:00.000000000",
          "1971-11-01T00:00:00.000000000",
          "1971-12-01T00:00:00.000000000",
          "1972-01-01T00:00:00.000000000",
          "1972-03-01T00:00:00.000000000",
          "1972-04-01T00:00:00.000000000",
          "1972-05-01T00:00:00.000000000",
          "1972-07-01T00:00:00.000000000",
          "1972-08-01T00:00:00.000000000",
          "1972-10-01T00:00:00.000000000",
          "1972-11-01T00:00:00.000000000",
          "1972-12-01T00:00:00.000000000",
          "1973-02-01T00:00:00.000000000",
          "1973-03-01T00:00:00.000000000",
          "1973-04-01T00:00:00.000000000",
          "1973-06-01T00:00:00.000000000",
          "1973-07-01T00:00:00.000000000",
          "1973-09-01T00:00:00.000000000",
          "1973-10-01T00:00:00.000000000",
          "1973-11-01T00:00:00.000000000",
          "1974-01-01T00:00:00.000000000",
          "1974-02-01T00:00:00.000000000",
          "1974-03-01T00:00:00.000000000",
          "1974-05-01T00:00:00.000000000",
          "1974-06-01T00:00:00.000000000",
          "1974-08-01T00:00:00.000000000",
          "1974-09-01T00:00:00.000000000",
          "1974-10-01T00:00:00.000000000",
          "1974-12-01T00:00:00.000000000",
          "1975-01-01T00:00:00.000000000",
          "1975-02-01T00:00:00.000000000",
          "1975-04-01T00:00:00.000000000",
          "1975-05-01T00:00:00.000000000",
          "1975-07-01T00:00:00.000000000",
          "1975-08-01T00:00:00.000000000",
          "1975-09-01T00:00:00.000000000",
          "1975-11-01T00:00:00.000000000",
          "1975-12-01T00:00:00.000000000",
          "1976-01-01T00:00:00.000000000",
          "1976-03-01T00:00:00.000000000",
          "1976-04-01T00:00:00.000000000",
          "1976-06-01T00:00:00.000000000",
          "1976-07-01T00:00:00.000000000",
          "1976-08-01T00:00:00.000000000",
          "1976-10-01T00:00:00.000000000",
          "1976-11-01T00:00:00.000000000",
          "1976-12-01T00:00:00.000000000",
          "1977-02-01T00:00:00.000000000",
          "1977-03-01T00:00:00.000000000",
          "1977-05-01T00:00:00.000000000",
          "1977-06-01T00:00:00.000000000",
          "1977-07-01T00:00:00.000000000",
          "1977-09-01T00:00:00.000000000",
          "1977-10-01T00:00:00.000000000",
          "1977-11-01T00:00:00.000000000",
          "1978-01-01T00:00:00.000000000",
          "1978-02-01T00:00:00.000000000",
          "1978-04-01T00:00:00.000000000",
          "1978-05-01T00:00:00.000000000",
          "1978-06-01T00:00:00.000000000",
          "1978-08-01T00:00:00.000000000",
          "1978-09-01T00:00:00.000000000",
          "1978-10-01T00:00:00.000000000",
          "1978-12-01T00:00:00.000000000",
          "1979-01-01T00:00:00.000000000",
          "1979-02-01T00:00:00.000000000",
          "1979-04-01T00:00:00.000000000",
          "1979-05-01T00:00:00.000000000",
          "1979-07-01T00:00:00.000000000",
          "1979-08-01T00:00:00.000000000",
          "1979-09-01T00:00:00.000000000",
          "1979-11-01T00:00:00.000000000",
          "1979-12-01T00:00:00.000000000",
          "1980-01-01T00:00:00.000000000",
          "1980-03-01T00:00:00.000000000",
          "1980-04-01T00:00:00.000000000",
          "1980-06-01T00:00:00.000000000",
          "1980-07-01T00:00:00.000000000",
          "1980-08-01T00:00:00.000000000",
          "1980-10-01T00:00:00.000000000",
          "1980-11-01T00:00:00.000000000",
          "1980-12-01T00:00:00.000000000",
          "1981-02-01T00:00:00.000000000",
          "1981-03-01T00:00:00.000000000",
          "1981-05-01T00:00:00.000000000",
          "1981-06-01T00:00:00.000000000",
          "1981-07-01T00:00:00.000000000",
          "1981-09-01T00:00:00.000000000",
          "1981-10-01T00:00:00.000000000",
          "1981-11-01T00:00:00.000000000",
          "1982-01-01T00:00:00.000000000",
          "1982-02-01T00:00:00.000000000",
          "1982-04-01T00:00:00.000000000",
          "1982-05-01T00:00:00.000000000",
          "1982-06-01T00:00:00.000000000",
          "1982-08-01T00:00:00.000000000",
          "1982-09-01T00:00:00.000000000",
          "1982-10-01T00:00:00.000000000",
          "1982-12-01T00:00:00.000000000",
          "1983-01-01T00:00:00.000000000",
          "1983-03-01T00:00:00.000000000",
          "1983-04-01T00:00:00.000000000",
          "1983-05-01T00:00:00.000000000",
          "1983-07-01T00:00:00.000000000",
          "1983-08-01T00:00:00.000000000",
          "1983-09-01T00:00:00.000000000",
          "1983-11-01T00:00:00.000000000",
          "1983-12-01T00:00:00.000000000",
          "1984-01-01T00:00:00.000000000",
          "1984-03-01T00:00:00.000000000",
          "1984-04-01T00:00:00.000000000",
          "1984-06-01T00:00:00.000000000",
          "1984-07-01T00:00:00.000000000",
          "1984-08-01T00:00:00.000000000",
          "1984-10-01T00:00:00.000000000",
          "1984-11-01T00:00:00.000000000",
          "1984-12-01T00:00:00.000000000",
          "1985-02-01T00:00:00.000000000",
          "1985-03-01T00:00:00.000000000",
          "1985-05-01T00:00:00.000000000",
          "1985-06-01T00:00:00.000000000",
          "1985-07-01T00:00:00.000000000",
          "1985-09-01T00:00:00.000000000",
          "1985-10-01T00:00:00.000000000",
          "1985-11-01T00:00:00.000000000",
          "1986-01-01T00:00:00.000000000",
          "1986-02-01T00:00:00.000000000",
          "1986-04-01T00:00:00.000000000",
          "1986-05-01T00:00:00.000000000",
          "1986-06-01T00:00:00.000000000",
          "1986-08-01T00:00:00.000000000",
          "1986-09-01T00:00:00.000000000",
          "1986-10-01T00:00:00.000000000",
          "1986-12-01T00:00:00.000000000",
          "1987-01-01T00:00:00.000000000",
          "1987-03-01T00:00:00.000000000",
          "1987-04-01T00:00:00.000000000",
          "1987-05-01T00:00:00.000000000",
          "1987-07-01T00:00:00.000000000",
          "1987-08-01T00:00:00.000000000",
          "1987-09-01T00:00:00.000000000",
          "1987-11-01T00:00:00.000000000",
          "1987-12-01T00:00:00.000000000",
          "1988-02-01T00:00:00.000000000",
          "1988-03-01T00:00:00.000000000",
          "1988-04-01T00:00:00.000000000",
          "1988-06-01T00:00:00.000000000",
          "1988-07-01T00:00:00.000000000",
          "1988-08-01T00:00:00.000000000",
          "1988-10-01T00:00:00.000000000",
          "1988-11-01T00:00:00.000000000",
          "1989-01-01T00:00:00.000000000",
          "1989-02-01T00:00:00.000000000",
          "1989-03-01T00:00:00.000000000",
          "1989-05-01T00:00:00.000000000",
          "1989-06-01T00:00:00.000000000",
          "1989-07-01T00:00:00.000000000",
          "1989-09-01T00:00:00.000000000",
          "1989-10-01T00:00:00.000000000",
          "1989-12-01T00:00:00.000000000",
          "1990-01-01T00:00:00.000000000",
          "1990-02-01T00:00:00.000000000",
          "1990-04-01T00:00:00.000000000",
          "1990-05-01T00:00:00.000000000",
          "1990-06-01T00:00:00.000000000",
          "1990-08-01T00:00:00.000000000",
          "1990-09-01T00:00:00.000000000",
          "1990-11-01T00:00:00.000000000",
          "1990-12-01T00:00:00.000000000",
          "1991-01-01T00:00:00.000000000",
          "1991-03-01T00:00:00.000000000",
          "1991-04-01T00:00:00.000000000",
          "1991-05-01T00:00:00.000000000",
          "1991-07-01T00:00:00.000000000",
          "1991-08-01T00:00:00.000000000",
          "1991-09-01T00:00:00.000000000",
          "1991-11-01T00:00:00.000000000",
          "1991-12-01T00:00:00.000000000",
          "1992-02-01T00:00:00.000000000",
          "1992-03-01T00:00:00.000000000",
          "1992-04-01T00:00:00.000000000",
          "1992-06-01T00:00:00.000000000",
          "1992-07-01T00:00:00.000000000",
          "1992-08-01T00:00:00.000000000",
          "1992-10-01T00:00:00.000000000",
          "1992-11-01T00:00:00.000000000",
          "1993-01-01T00:00:00.000000000",
          "1993-02-01T00:00:00.000000000",
          "1993-03-01T00:00:00.000000000",
          "1993-05-01T00:00:00.000000000",
          "1993-06-01T00:00:00.000000000",
          "1993-07-01T00:00:00.000000000",
          "1993-09-01T00:00:00.000000000",
          "1993-10-01T00:00:00.000000000",
          "1993-12-01T00:00:00.000000000",
          "1994-01-01T00:00:00.000000000",
          "1994-02-01T00:00:00.000000000",
          "1994-04-01T00:00:00.000000000",
          "1994-05-01T00:00:00.000000000",
          "1994-06-01T00:00:00.000000000",
          "1994-08-01T00:00:00.000000000",
          "1994-09-01T00:00:00.000000000",
          "1994-11-01T00:00:00.000000000",
          "1994-12-01T00:00:00.000000000",
          "1995-01-01T00:00:00.000000000",
          "1995-03-01T00:00:00.000000000",
          "1995-04-01T00:00:00.000000000",
          "1995-05-01T00:00:00.000000000",
          "1995-07-01T00:00:00.000000000",
          "1995-08-01T00:00:00.000000000",
          "1995-10-01T00:00:00.000000000",
          "1995-11-01T00:00:00.000000000",
          "1995-12-01T00:00:00.000000000",
          "1996-02-01T00:00:00.000000000",
          "1996-03-01T00:00:00.000000000",
          "1996-04-01T00:00:00.000000000",
          "1996-06-01T00:00:00.000000000",
          "1996-07-01T00:00:00.000000000",
          "1996-09-01T00:00:00.000000000",
          "1996-10-01T00:00:00.000000000",
          "1996-11-01T00:00:00.000000000",
          "1997-01-01T00:00:00.000000000",
          "1997-02-01T00:00:00.000000000",
          "1997-03-01T00:00:00.000000000",
          "1997-05-01T00:00:00.000000000",
          "1997-06-01T00:00:00.000000000",
          "1997-08-01T00:00:00.000000000",
          "1997-09-01T00:00:00.000000000",
          "1997-10-01T00:00:00.000000000",
          "1997-12-01T00:00:00.000000000",
          "1998-01-01T00:00:00.000000000",
          "1998-02-01T00:00:00.000000000",
          "1998-04-01T00:00:00.000000000",
          "1998-05-01T00:00:00.000000000",
          "1998-07-01T00:00:00.000000000",
          "1998-08-01T00:00:00.000000000",
          "1998-09-01T00:00:00.000000000",
          "1998-11-01T00:00:00.000000000",
          "1998-12-01T00:00:00.000000000",
          "1999-01-01T00:00:00.000000000",
          "1999-03-01T00:00:00.000000000",
          "1999-04-01T00:00:00.000000000",
          "1999-06-01T00:00:00.000000000",
          "1999-07-01T00:00:00.000000000",
          "1999-08-01T00:00:00.000000000",
          "1999-10-01T00:00:00.000000000",
          "1999-11-01T00:00:00.000000000",
          "1999-12-01T00:00:00.000000000",
          "2000-02-01T00:00:00.000000000",
          "2000-03-01T00:00:00.000000000",
          "2000-04-01T00:00:00.000000000",
          "2000-06-01T00:00:00.000000000",
          "2000-07-01T00:00:00.000000000",
          "2000-09-01T00:00:00.000000000",
          "2000-10-01T00:00:00.000000000",
          "2000-11-01T00:00:00.000000000",
          "2001-01-01T00:00:00.000000000",
          "2001-02-01T00:00:00.000000000",
          "2001-03-01T00:00:00.000000000",
          "2001-05-01T00:00:00.000000000",
          "2001-06-01T00:00:00.000000000",
          "2001-08-01T00:00:00.000000000",
          "2001-09-01T00:00:00.000000000",
          "2001-10-01T00:00:00.000000000",
          "2001-12-01T00:00:00.000000000",
          "2002-01-01T00:00:00.000000000",
          "2002-02-01T00:00:00.000000000",
          "2002-04-01T00:00:00.000000000",
          "2002-05-01T00:00:00.000000000",
          "2002-07-01T00:00:00.000000000",
          "2002-08-01T00:00:00.000000000",
          "2002-09-01T00:00:00.000000000",
          "2002-11-01T00:00:00.000000000",
          "2002-12-01T00:00:00.000000000",
          "2003-01-01T00:00:00.000000000",
          "2003-03-01T00:00:00.000000000",
          "2003-04-01T00:00:00.000000000",
          "2003-06-01T00:00:00.000000000",
          "2003-07-01T00:00:00.000000000",
          "2003-08-01T00:00:00.000000000",
          "2003-10-01T00:00:00.000000000",
          "2003-11-01T00:00:00.000000000",
          "2003-12-01T00:00:00.000000000",
          "2004-02-01T00:00:00.000000000",
          "2004-03-01T00:00:00.000000000",
          "2004-05-01T00:00:00.000000000",
          "2004-06-01T00:00:00.000000000",
          "2004-07-01T00:00:00.000000000",
          "2004-09-01T00:00:00.000000000",
          "2004-10-01T00:00:00.000000000",
          "2004-11-01T00:00:00.000000000",
          "2005-01-01T00:00:00.000000000",
          "2005-02-01T00:00:00.000000000",
          "2005-04-01T00:00:00.000000000",
          "2005-05-01T00:00:00.000000000",
          "2005-06-01T00:00:00.000000000",
          "2005-08-01T00:00:00.000000000",
          "2005-09-01T00:00:00.000000000",
          "2005-10-01T00:00:00.000000000",
          "2005-12-01T00:00:00.000000000",
          "2006-01-01T00:00:00.000000000",
          "2006-02-01T00:00:00.000000000",
          "2006-04-01T00:00:00.000000000",
          "2006-05-01T00:00:00.000000000",
          "2006-07-01T00:00:00.000000000",
          "2006-08-01T00:00:00.000000000",
          "2006-09-01T00:00:00.000000000",
          "2006-11-01T00:00:00.000000000",
          "2006-12-01T00:00:00.000000000",
          "2007-01-01T00:00:00.000000000",
          "2007-03-01T00:00:00.000000000",
          "2007-04-01T00:00:00.000000000",
          "2007-06-01T00:00:00.000000000",
          "2007-07-01T00:00:00.000000000",
          "2007-08-01T00:00:00.000000000",
          "2007-10-01T00:00:00.000000000",
          "2007-11-01T00:00:00.000000000",
          "2007-12-01T00:00:00.000000000",
          "2008-02-01T00:00:00.000000000",
          "2008-03-01T00:00:00.000000000",
          "2008-05-01T00:00:00.000000000",
          "2008-06-01T00:00:00.000000000",
          "2008-07-01T00:00:00.000000000",
          "2008-09-01T00:00:00.000000000",
          "2008-10-01T00:00:00.000000000",
          "2008-11-01T00:00:00.000000000",
          "2009-01-01T00:00:00.000000000",
          "2009-02-01T00:00:00.000000000",
          "2009-04-01T00:00:00.000000000",
          "2009-05-01T00:00:00.000000000",
          "2009-06-01T00:00:00.000000000",
          "2009-08-01T00:00:00.000000000",
          "2009-09-01T00:00:00.000000000",
          "2009-10-01T00:00:00.000000000",
          "2009-12-01T00:00:00.000000000",
          "2010-01-01T00:00:00.000000000",
          "2010-03-01T00:00:00.000000000",
          "2010-04-01T00:00:00.000000000",
          "2010-05-01T00:00:00.000000000",
          "2010-07-01T00:00:00.000000000",
          "2010-08-01T00:00:00.000000000",
          "2010-09-01T00:00:00.000000000",
          "2010-11-01T00:00:00.000000000",
          "2010-12-01T00:00:00.000000000",
          "2011-02-01T00:00:00.000000000",
          "2011-03-01T00:00:00.000000000",
          "2011-04-01T00:00:00.000000000",
          "2011-06-01T00:00:00.000000000",
          "2011-07-01T00:00:00.000000000",
          "2011-08-01T00:00:00.000000000",
          "2011-10-01T00:00:00.000000000",
          "2011-11-01T00:00:00.000000000",
          "2012-01-01T00:00:00.000000000",
          "2012-02-01T00:00:00.000000000",
          "2012-03-01T00:00:00.000000000",
          "2012-05-01T00:00:00.000000000",
          "2012-06-01T00:00:00.000000000",
          "2012-07-01T00:00:00.000000000",
          "2012-09-01T00:00:00.000000000",
          "2012-10-01T00:00:00.000000000",
          "2012-11-01T00:00:00.000000000",
          "2013-01-01T00:00:00.000000000",
          "2013-02-01T00:00:00.000000000",
          "2013-04-01T00:00:00.000000000",
          "2013-05-01T00:00:00.000000000",
          "2013-06-01T00:00:00.000000000",
          "2013-08-01T00:00:00.000000000",
          "2013-09-01T00:00:00.000000000",
          "2013-10-01T00:00:00.000000000",
          "2013-12-01T00:00:00.000000000",
          "2014-01-01T00:00:00.000000000",
          "2014-03-01T00:00:00.000000000",
          "2014-04-01T00:00:00.000000000",
          "2014-05-01T00:00:00.000000000",
          "2014-07-01T00:00:00.000000000",
          "2014-08-01T00:00:00.000000000",
          "2014-09-01T00:00:00.000000000",
          "2014-11-01T00:00:00.000000000",
          "2014-12-01T00:00:00.000000000",
          "2015-02-01T00:00:00.000000000",
          "2015-03-01T00:00:00.000000000",
          "2015-04-01T00:00:00.000000000",
          "2015-06-01T00:00:00.000000000",
          "2015-07-01T00:00:00.000000000",
          "2015-08-01T00:00:00.000000000",
          "2015-10-01T00:00:00.000000000",
          "2015-11-01T00:00:00.000000000",
          "2016-01-01T00:00:00.000000000",
          "2016-02-01T00:00:00.000000000",
          "2016-03-01T00:00:00.000000000",
          "2016-05-01T00:00:00.000000000",
          "2016-06-01T00:00:00.000000000",
          "2016-07-01T00:00:00.000000000",
          "2016-09-01T00:00:00.000000000",
          "2016-10-01T00:00:00.000000000",
          "2016-12-01T00:00:00.000000000",
          "2017-01-01T00:00:00.000000000",
          "2017-02-01T00:00:00.000000000",
          "2017-04-01T00:00:00.000000000",
          "2017-05-01T00:00:00.000000000",
          "2017-06-01T00:00:00.000000000",
          "2017-08-01T00:00:00.000000000",
          "2017-09-01T00:00:00.000000000",
          "2017-11-01T00:00:00.000000000",
          "2017-12-01T00:00:00.000000000",
          "2018-01-01T00:00:00.000000000",
          "2018-03-01T00:00:00.000000000",
          "2018-04-01T00:00:00.000000000",
          "2018-05-01T00:00:00.000000000",
          "2018-07-01T00:00:00.000000000",
          "2018-08-01T00:00:00.000000000",
          "2018-10-01T00:00:00.000000000",
          "2018-11-01T00:00:00.000000000",
          "2018-12-01T00:00:00.000000000",
          "2019-02-01T00:00:00.000000000",
          "2019-03-01T00:00:00.000000000",
          "2019-04-01T00:00:00.000000000",
          "2019-06-01T00:00:00.000000000",
          "2019-07-01T00:00:00.000000000",
          "2019-09-01T00:00:00.000000000",
          "2019-10-01T00:00:00.000000000",
          "2019-11-01T00:00:00.000000000",
          "2020-01-01T00:00:00.000000000",
          "2020-02-01T00:00:00.000000000",
          "2020-03-01T00:00:00.000000000",
          "2020-05-01T00:00:00.000000000",
          "2020-06-01T00:00:00.000000000",
          "2020-07-01T00:00:00.000000000",
          "2020-09-01T00:00:00.000000000",
          "2020-10-01T00:00:00.000000000",
          "2020-12-01T00:00:00.000000000",
          "2021-01-01T00:00:00.000000000",
          "2021-02-01T00:00:00.000000000",
          "2021-04-01T00:00:00.000000000",
          "2021-05-01T00:00:00.000000000",
          "2021-06-01T00:00:00.000000000",
          "2021-08-01T00:00:00.000000000",
          "2021-09-01T00:00:00.000000000",
          "2021-11-01T00:00:00.000000000",
          "2021-12-01T00:00:00.000000000",
          "2022-01-01T00:00:00.000000000",
          "2022-03-01T00:00:00.000000000",
          "2022-04-01T00:00:00.000000000",
          "2022-05-01T00:00:00.000000000",
          "2022-07-01T00:00:00.000000000",
          "2022-08-01T00:00:00.000000000",
          "2022-10-01T00:00:00.000000000",
          "2022-11-01T00:00:00.000000000",
          "2022-12-01T00:00:00.000000000",
          "2023-02-01T00:00:00.000000000",
          "2023-03-01T00:00:00.000000000",
          "2023-04-01T00:00:00.000000000",
          "2023-06-01T00:00:00.000000000",
          "2023-07-01T00:00:00.000000000",
          "2023-09-01T00:00:00.000000000",
          "2023-10-01T00:00:00.000000000",
          "2023-11-01T00:00:00.000000000",
          "2024-01-01T00:00:00.000000000",
          "2024-02-01T00:00:00.000000000",
          "2024-03-01T00:00:00.000000000",
          "2024-05-01T00:00:00.000000000",
          "2024-06-01T00:00:00.000000000",
          "2024-08-01T00:00:00.000000000",
          "2024-09-01T00:00:00.000000000",
          "2024-10-01T00:00:00.000000000",
          "2024-12-01T00:00:00.000000000"
         ],
         "y": {
          "bdata": "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",
          "dtype": "f8"
         }
        }
       ],
       "layout": {
        "annotations": [
         {
          "align": "left",
          "bgcolor": "rgba(255, 255, 255, 0.8)",
          "bordercolor": "black",
          "borderwidth": 1,
          "font": {
           "size": 10
          },
          "showarrow": false,
          "text": "Source: Trading Economics<br>Original Source: Institute for Supply Management<br>Frequency: MS<br>",
          "x": -0.05,
          "xanchor": "left",
          "xref": "paper",
          "y": -0.25,
          "yanchor": "bottom",
          "yref": "paper"
         }
        ],
        "legend": {
         "orientation": "h",
         "title": {
          "text": ""
         },
         "x": 0.5,
         "xanchor": "center",
         "y": -0.2,
         "yanchor": "bottom"
        },
        "template": {
         "data": {
          "bar": [
           {
            "error_x": {
             "color": "#2a3f5f"
            },
            "error_y": {
             "color": "#2a3f5f"
            },
            "marker": {
             "line": {
              "color": "#E5ECF6",
              "width": 0.5
             },
             "pattern": {
              "fillmode": "overlay",
              "size": 10,
              "solidity": 0.2
             }
            },
            "type": "bar"
           }
          ],
          "barpolar": [
           {
            "marker": {
             "line": {
              "color": "#E5ECF6",
              "width": 0.5
             },
             "pattern": {
              "fillmode": "overlay",
              "size": 10,
              "solidity": 0.2
             }
            },
            "type": "barpolar"
           }
          ],
          "carpet": [
           {
            "aaxis": {
             "endlinecolor": "#2a3f5f",
             "gridcolor": "white",
             "linecolor": "white",
             "minorgridcolor": "white",
             "startlinecolor": "#2a3f5f"
            },
            "baxis": {
             "endlinecolor": "#2a3f5f",
             "gridcolor": "white",
             "linecolor": "white",
             "minorgridcolor": "white",
             "startlinecolor": "#2a3f5f"
            },
            "type": "carpet"
           }
          ],
          "choropleth": [
           {
            "colorbar": {
             "outlinewidth": 0,
             "ticks": ""
            },
            "type": "choropleth"
           }
          ],
          "contour": [
           {
            "colorbar": {
             "outlinewidth": 0,
             "ticks": ""
            },
            "colorscale": [
             [
              0,
              "#0d0887"
             ],
             [
              0.1111111111111111,
              "#46039f"
             ],
             [
              0.2222222222222222,
              "#7201a8"
             ],
             [
              0.3333333333333333,
              "#9c179e"
             ],
             [
              0.4444444444444444,
              "#bd3786"
             ],
             [
              0.5555555555555556,
              "#d8576b"
             ],
             [
              0.6666666666666666,
              "#ed7953"
             ],
             [
              0.7777777777777778,
              "#fb9f3a"
             ],
             [
              0.8888888888888888,
              "#fdca26"
             ],
             [
              1,
              "#f0f921"
             ]
            ],
            "type": "contour"
           }
          ],
          "contourcarpet": [
           {
            "colorbar": {
             "outlinewidth": 0,
             "ticks": ""
            },
            "type": "contourcarpet"
           }
          ],
          "heatmap": [
           {
            "colorbar": {
             "outlinewidth": 0,
             "ticks": ""
            },
            "colorscale": [
             [
              0,
              "#0d0887"
             ],
             [
              0.1111111111111111,
              "#46039f"
             ],
             [
              0.2222222222222222,
              "#7201a8"
             ],
             [
              0.3333333333333333,
              "#9c179e"
             ],
             [
              0.4444444444444444,
              "#bd3786"
             ],
             [
              0.5555555555555556,
              "#d8576b"
             ],
             [
              0.6666666666666666,
              "#ed7953"
             ],
             [
              0.7777777777777778,
              "#fb9f3a"
             ],
             [
              0.8888888888888888,
              "#fdca26"
             ],
             [
              1,
              "#f0f921"
             ]
            ],
            "type": "heatmap"
           }
          ],
          "histogram": [
           {
            "marker": {
             "pattern": {
              "fillmode": "overlay",
              "size": 10,
              "solidity": 0.2
             }
            },
            "type": "histogram"
           }
          ],
          "histogram2d": [
           {
            "colorbar": {
             "outlinewidth": 0,
             "ticks": ""
            },
            "colorscale": [
             [
              0,
              "#0d0887"
             ],
             [
              0.1111111111111111,
              "#46039f"
             ],
             [
              0.2222222222222222,
              "#7201a8"
             ],
             [
              0.3333333333333333,
              "#9c179e"
             ],
             [
              0.4444444444444444,
              "#bd3786"
             ],
             [
              0.5555555555555556,
              "#d8576b"
             ],
             [
              0.6666666666666666,
              "#ed7953"
             ],
             [
              0.7777777777777778,
              "#fb9f3a"
             ],
             [
              0.8888888888888888,
              "#fdca26"
             ],
             [
              1,
              "#f0f921"
             ]
            ],
            "type": "histogram2d"
           }
          ],
          "histogram2dcontour": [
           {
            "colorbar": {
             "outlinewidth": 0,
             "ticks": ""
            },
            "colorscale": [
             [
              0,
              "#0d0887"
             ],
             [
              0.1111111111111111,
              "#46039f"
             ],
             [
              0.2222222222222222,
              "#7201a8"
             ],
             [
              0.3333333333333333,
              "#9c179e"
             ],
             [
              0.4444444444444444,
              "#bd3786"
             ],
             [
              0.5555555555555556,
              "#d8576b"
             ],
             [
              0.6666666666666666,
              "#ed7953"
             ],
             [
              0.7777777777777778,
              "#fb9f3a"
             ],
             [
              0.8888888888888888,
              "#fdca26"
             ],
             [
              1,
              "#f0f921"
             ]
            ],
            "type": "histogram2dcontour"
           }
          ],
          "mesh3d": [
           {
            "colorbar": {
             "outlinewidth": 0,
             "ticks": ""
            },
            "type": "mesh3d"
           }
          ],
          "parcoords": [
           {
            "line": {
             "colorbar": {
              "outlinewidth": 0,
              "ticks": ""
             }
            },
            "type": "parcoords"
           }
          ],
          "pie": [
           {
            "automargin": true,
            "type": "pie"
           }
          ],
          "scatter": [
           {
            "fillpattern": {
             "fillmode": "overlay",
             "size": 10,
             "solidity": 0.2
            },
            "type": "scatter"
           }
          ],
          "scatter3d": [
           {
            "line": {
             "colorbar": {
              "outlinewidth": 0,
              "ticks": ""
             }
            },
            "marker": {
             "colorbar": {
              "outlinewidth": 0,
              "ticks": ""
             }
            },
            "type": "scatter3d"
           }
          ],
          "scattercarpet": [
           {
            "marker": {
             "colorbar": {
              "outlinewidth": 0,
              "ticks": ""
             }
            },
            "type": "scattercarpet"
           }
          ],
          "scattergeo": [
           {
            "marker": {
             "colorbar": {
              "outlinewidth": 0,
              "ticks": ""
             }
            },
            "type": "scattergeo"
           }
          ],
          "scattergl": [
           {
            "marker": {
             "colorbar": {
              "outlinewidth": 0,
              "ticks": ""
             }
            },
            "type": "scattergl"
           }
          ],
          "scattermap": [
           {
            "marker": {
             "colorbar": {
              "outlinewidth": 0,
              "ticks": ""
             }
            },
            "type": "scattermap"
           }
          ],
          "scattermapbox": [
           {
            "marker": {
             "colorbar": {
              "outlinewidth": 0,
              "ticks": ""
             }
            },
            "type": "scattermapbox"
           }
          ],
          "scatterpolar": [
           {
            "marker": {
             "colorbar": {
              "outlinewidth": 0,
              "ticks": ""
             }
            },
            "type": "scatterpolar"
           }
          ],
          "scatterpolargl": [
           {
            "marker": {
             "colorbar": {
              "outlinewidth": 0,
              "ticks": ""
             }
            },
            "type": "scatterpolargl"
           }
          ],
          "scatterternary": [
           {
            "marker": {
             "colorbar": {
              "outlinewidth": 0,
              "ticks": ""
             }
            },
            "type": "scatterternary"
           }
          ],
          "surface": [
           {
            "colorbar": {
             "outlinewidth": 0,
             "ticks": ""
            },
            "colorscale": [
             [
              0,
              "#0d0887"
             ],
             [
              0.1111111111111111,
              "#46039f"
             ],
             [
              0.2222222222222222,
              "#7201a8"
             ],
             [
              0.3333333333333333,
              "#9c179e"
             ],
             [
              0.4444444444444444,
              "#bd3786"
             ],
             [
              0.5555555555555556,
              "#d8576b"
             ],
             [
              0.6666666666666666,
              "#ed7953"
             ],
             [
              0.7777777777777778,
              "#fb9f3a"
             ],
             [
              0.8888888888888888,
              "#fdca26"
             ],
             [
              1,
              "#f0f921"
             ]
            ],
            "type": "surface"
           }
          ],
          "table": [
           {
            "cells": {
             "fill": {
              "color": "#EBF0F8"
             },
             "line": {
              "color": "white"
             }
            },
            "header": {
             "fill": {
              "color": "#C8D4E3"
             },
             "line": {
              "color": "white"
             }
            },
            "type": "table"
           }
          ]
         },
         "layout": {
          "annotationdefaults": {
           "arrowcolor": "#2a3f5f",
           "arrowhead": 0,
           "arrowwidth": 1
          },
          "autotypenumbers": "strict",
          "coloraxis": {
           "colorbar": {
            "outlinewidth": 0,
            "ticks": ""
           }
          },
          "colorscale": {
           "diverging": [
            [
             0,
             "#8e0152"
            ],
            [
             0.1,
             "#c51b7d"
            ],
            [
             0.2,
             "#de77ae"
            ],
            [
             0.3,
             "#f1b6da"
            ],
            [
             0.4,
             "#fde0ef"
            ],
            [
             0.5,
             "#f7f7f7"
            ],
            [
             0.6,
             "#e6f5d0"
            ],
            [
             0.7,
             "#b8e186"
            ],
            [
             0.8,
             "#7fbc41"
            ],
            [
             0.9,
             "#4d9221"
            ],
            [
             1,
             "#276419"
            ]
           ],
           "sequential": [
            [
             0,
             "#0d0887"
            ],
            [
             0.1111111111111111,
             "#46039f"
            ],
            [
             0.2222222222222222,
             "#7201a8"
            ],
            [
             0.3333333333333333,
             "#9c179e"
            ],
            [
             0.4444444444444444,
             "#bd3786"
            ],
            [
             0.5555555555555556,
             "#d8576b"
            ],
            [
             0.6666666666666666,
             "#ed7953"
            ],
            [
             0.7777777777777778,
             "#fb9f3a"
            ],
            [
             0.8888888888888888,
             "#fdca26"
            ],
            [
             1,
             "#f0f921"
            ]
           ],
           "sequentialminus": [
            [
             0,
             "#0d0887"
            ],
            [
             0.1111111111111111,
             "#46039f"
            ],
            [
             0.2222222222222222,
             "#7201a8"
            ],
            [
             0.3333333333333333,
             "#9c179e"
            ],
            [
             0.4444444444444444,
             "#bd3786"
            ],
            [
             0.5555555555555556,
             "#d8576b"
            ],
            [
             0.6666666666666666,
             "#ed7953"
            ],
            [
             0.7777777777777778,
             "#fb9f3a"
            ],
            [
             0.8888888888888888,
             "#fdca26"
            ],
            [
             1,
             "#f0f921"
            ]
           ]
          },
          "colorway": [
           "#636efa",
           "#EF553B",
           "#00cc96",
           "#ab63fa",
           "#FFA15A",
           "#19d3f3",
           "#FF6692",
           "#B6E880",
           "#FF97FF",
           "#FECB52"
          ],
          "font": {
           "color": "#2a3f5f"
          },
          "geo": {
           "bgcolor": "white",
           "lakecolor": "white",
           "landcolor": "#E5ECF6",
           "showlakes": true,
           "showland": true,
           "subunitcolor": "white"
          },
          "hoverlabel": {
           "align": "left"
          },
          "hovermode": "closest",
          "mapbox": {
           "style": "light"
          },
          "paper_bgcolor": "white",
          "plot_bgcolor": "#E5ECF6",
          "polar": {
           "angularaxis": {
            "gridcolor": "white",
            "linecolor": "white",
            "ticks": ""
           },
           "bgcolor": "#E5ECF6",
           "radialaxis": {
            "gridcolor": "white",
            "linecolor": "white",
            "ticks": ""
           }
          },
          "scene": {
           "xaxis": {
            "backgroundcolor": "#E5ECF6",
            "gridcolor": "white",
            "gridwidth": 2,
            "linecolor": "white",
            "showbackground": true,
            "ticks": "",
            "zerolinecolor": "white"
           },
           "yaxis": {
            "backgroundcolor": "#E5ECF6",
            "gridcolor": "white",
            "gridwidth": 2,
            "linecolor": "white",
            "showbackground": true,
            "ticks": "",
            "zerolinecolor": "white"
           },
           "zaxis": {
            "backgroundcolor": "#E5ECF6",
            "gridcolor": "white",
            "gridwidth": 2,
            "linecolor": "white",
            "showbackground": true,
            "ticks": "",
            "zerolinecolor": "white"
           }
          },
          "shapedefaults": {
           "line": {
            "color": "#2a3f5f"
           }
          },
          "ternary": {
           "aaxis": {
            "gridcolor": "white",
            "linecolor": "white",
            "ticks": ""
           },
           "baxis": {
            "gridcolor": "white",
            "linecolor": "white",
            "ticks": ""
           },
           "bgcolor": "#E5ECF6",
           "caxis": {
            "gridcolor": "white",
            "linecolor": "white",
            "ticks": ""
           }
          },
          "title": {
           "x": 0.05
          },
          "xaxis": {
           "automargin": true,
           "gridcolor": "white",
           "linecolor": "white",
           "ticks": "",
           "title": {
            "standoff": 15
           },
           "zerolinecolor": "white",
           "zerolinewidth": 2
          },
          "yaxis": {
           "automargin": true,
           "gridcolor": "white",
           "linecolor": "white",
           "ticks": "",
           "title": {
            "standoff": 15
           },
           "zerolinecolor": "white",
           "zerolinewidth": 2
          }
         }
        },
        "title": {
         "text": "United states: United states ism manufacturing pmi"
        },
        "xaxis": {
         "title": {
          "text": ""
         }
        },
        "yaxis": {
         "title": {
          "text": "Points"
         }
        }
       }
      }
     },
     "metadata": {},
     "output_type": "display_data"
    }
   ],
   "source": [
    "ted.utils.plot_multi_series(series_list=[{\"series\": scrup.series, \"add_name\": \"mixed\"}, {\"series\": pathout, \"add_name\": \"path\"}, {\"series\": scruf.series, \"add_name\": \"tooltips\"}], metadata = scrup.metadata,\n",
    "                            ann_box_pos=(-0.05, -0.25))"
   ]
  },
  {
   "cell_type": "code",
   "execution_count": 17,
   "metadata": {},
   "outputs": [
    {
     "name": "stderr",
     "output_type": "stream",
     "text": [
      "INFO - New firefox webdriver created.\n",
      "INFO - scrape_chart function: Scraping chart at: https://tradingeconomics.com/united-states/manufacturing-pmi, time: 2025-02-28 16:02:19.396042, method: path\n",
      "INFO - Chart types dictionary created successfully: dict_keys(['Column', 'Spline', 'Areaspline', 'Stepline', 'Line', 'Area'])\n",
      "INFO - Date span set to: 6M\n",
      "INFO - \n",
      "Series metadata: \n",
      " {'units': 'points', 'original_source': 'S&P Global', 'title': 'United States Manufacturing PMI', 'indicator': 'manufacturing pmi', 'country': 'united states', 'source': 'Trading Economics', 'id': 'united-states/manufacturing-pmi'}\n"
     ]
    },
    {
     "name": "stdout",
     "output_type": "stream",
     "text": [
      "Using selenium and tooltip scraping to construct the date time index for the time-series, this'll take a bit...\n",
      "Attempting to select chart type:  Spline clicking top button....\n"
     ]
    },
    {
     "name": "stderr",
     "output_type": "stream",
     "text": [
      "INFO - Chart type set to: Spline\n"
     ]
    },
    {
     "name": "stdout",
     "output_type": "stream",
     "text": [
      "Time taken to select chart type: 3.3203644970199093\n",
      "Time taken to load JS code: 0.006725176004692912\n"
     ]
    },
    {
     "name": "stderr",
     "output_type": "stream",
     "text": [
      "INFO - JS Console: Starting cursor movement, target points: 10\n",
      "INFO - JS Console: Using increment: 5px\n",
      "INFO - JS Console: Using wait time: 25ms\n",
      "INFO - JS Console: Chart dimensions: [object DOMRect]\n",
      "INFO - JS Console: Found data point: Feb 2025 = NaN\n",
      "INFO - JS Console: Found data point: Jan 2025 = NaN\n",
      "INFO - JS Console: Found data point: Dec 2024 = NaN\n",
      "INFO - JS Console: Found data point: Nov 2024 = NaN\n",
      "INFO - JS Console: Found data point: Oct 2024 = NaN\n",
      "INFO - JS Console: Found data point: Sep 2024 = NaN\n",
      "INFO - JS Console: Found data point: Aug 2024 = NaN\n",
      "INFO - JS Console: Collected 7 points, reached end of chart\n"
     ]
    },
    {
     "name": "stdout",
     "output_type": "stream",
     "text": [
      "Time taken to execute JS code: 3.9634630550281145\n",
      "Latest dates:  ['Feb 2025', 'Jan 2025', 'Dec 2024', 'Nov 2024', 'Oct 2024', 'Sep 2024', 'Aug 2024']\n",
      "Frequency of time-series:  MS\n",
      "get_xlims_from_tooltips method: date_span:  6M , chart_type: splineChart\n",
      "Attempting to select chart type:  Spline clicking top button....\n"
     ]
    },
    {
     "name": "stderr",
     "output_type": "stream",
     "text": [
      "INFO - Chart type set to: Spline\n"
     ]
    },
    {
     "name": "stdout",
     "output_type": "stream",
     "text": [
      "Got chart dimensions and plot background element.\n",
      "Feb 2022\n",
      "Error with the x-axis scraping & frequency deterination using Selenium and tooltips: cannot access local variable 'date' where it is not associated with a value\n"
     ]
    }
   ],
   "source": [
    "sick = ted.scrape_chart(url=\"https://tradingeconomics.com/united-states/manufacturing-pmi\", use_existing_driver=True) "
   ]
  },
  {
   "cell_type": "code",
   "execution_count": 2,
   "metadata": {},
   "outputs": [
    {
     "name": "stdout",
     "output_type": "stream",
     "text": [
      "(1000000.0, '$')\n",
      "(246000.0, 'Thousand')\n",
      "(10000000.0, 'million')\n",
      "(6000000.0, '')\n",
      "(5000000000.0, '')\n",
      "(7000000000.0, 'dollars')\n",
      "(2300.0, '%')\n",
      "(2300.0, '%')\n",
      "(25.0, 'YoY%change')\n",
      "(2.345, '')\n",
      "(4.5989, 'thyfd')\n",
      "(100000250000000.0, '')\n",
      "(0.29985, '')\n",
      "(6.730000000000001e-07, '')\n",
      "(6750.0, '')\n",
      "(1112340000000.0, 'USD')\n",
      "(7123400000000.0, 'dollars')\n",
      "(156.0, 'Thousand')\n",
      "(6200.0, 'USD')\n",
      "(1200000.0, 'USD')\n",
      "(1200000000.0, 'USD')\n",
      "(1200000000000.0, '')\n",
      "(8.1, '%')\n",
      "(222.2, 'USD')\n"
     ]
    }
   ],
   "source": [
    "lst = \"1 M $, 246 k Thousand, 10 M million, 6 million, 5 billion, 7 G dollars, 2.3 k %, 2.3 k %, 25 YoY% change, 2.345, 4.5989 thyfd, 100 000.25 G, 0.29985, 0.673 x10^-6,  \\\n",
    "    6.75 thousand, 1.11234 T USD, 7.1234 Trillion dollars, 1.56 hundred Thousand, 6.2 K USD, 1.2 M USD, 1.2 B USD, 1.2 T, 8.1 %, 2.222 Hundred USD\"\n",
    "lstr = lst.split(\", \")\n",
    "for ls in lstr:\n",
    "    print(ted.utils.extract_and_convert_value(ls))"
   ]
  }
 ],
 "metadata": {
  "kernelspec": {
   "display_name": "ted",
   "language": "python",
   "name": "python3"
  },
  "language_info": {
   "codemirror_mode": {
    "name": "ipython",
    "version": 3
   },
   "file_extension": ".py",
   "mimetype": "text/x-python",
   "name": "python",
   "nbconvert_exporter": "python",
   "pygments_lexer": "ipython3",
   "version": "3.11.11"
  }
 },
 "nbformat": 4,
 "nbformat_minor": 2
}
